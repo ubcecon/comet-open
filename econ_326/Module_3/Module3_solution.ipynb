{
 "cells": [
  {
   "cell_type": "markdown",
   "id": "9cdb1724-b18f-438f-ad87-a842d2b223b4",
   "metadata": {},
   "source": [
    "# ECON 326: Multiple Regression using R and Jupyter"
   ]
  },
  {
   "cell_type": "markdown",
   "id": "4b11c71e-9823-40a8-a6db-dcf9c2b1c64c",
   "metadata": {},
   "source": [
    "## Authors\n",
    "* Emrul Hasan (ehasan@mail.ubc.ca)\n",
    "* Jonah Heyl (jonah.heyl@ubc.ca)\n",
    "* Shiming Wu (shiming.wu@ubc.ca)\n",
    "\n",
    "## Prerequisites\n",
    "* Simple regression\n",
    "* Data analysis and introduction\n",
    "\n",
    "## Outcomes\n",
    "\n",
    "* Understand how the theory of multiple regression models works in practice\n",
    "* Be able to estimate multiple regression models using R\n",
    "* Interpret and explain the estimates from multiple regression models.\n",
    "* Understand the relationship between simple linear regressions and similar multiple regressions.\n",
    "* Describe a control variable and regression relationship\n",
    "* Explore the relationship between controls and causal interpretations of regression model estimates.\n",
    "\n",
    "### Notes\n",
    "\n",
    "<span id=\"fn1\">[<sup>1</sup>](#fn1s)Provided under the Statistics Canada Open License (Public).  Adapted from Statistics Canada, Statistics Canada Open License (Public)\n",
    "Adapted from Statistics Canada, 2021 Census Public Use Microdata File. This does not constitute an endorsement by Statistics Canada of this product.</span>\n",
    "\n",
    "<span id=\"fn2\">[<sup>2</sup>](#fn2s)Stargazer package is due to: Hlavac, Marek (2018). stargazer: Well-Formatted Regression and Summary Statistics Tables.\n",
    " R package version 5.2.2. https://CRAN.R-project.org/package=stargazer </span>"
   ]
  },
  {
   "cell_type": "code",
   "execution_count": 63,
   "id": "9e1f8a85-bfbb-46e9-91e0-f9f5976b826d",
   "metadata": {},
   "outputs": [],
   "source": [
    "library(tidyverse)\n",
    "library(haven)\n",
    "library(dplyr)\n",
    "library('scales')\n",
    "#install.packages(\"stargazer\")  #un-comment this and run this line if you don't have stargazer installed\n",
    "library(stargazer)\n",
    "source(\"functions3.r\")"
   ]
  },
  {
   "cell_type": "code",
   "execution_count": 58,
   "id": "d67b0aed-158c-4938-bc4f-c710d499c4a7",
   "metadata": {},
   "outputs": [],
   "source": [
    "SFS_data <- read_dta(\"SFS_2019_Eng.dta\")\n",
    "\n",
    "SFS_data <- filter(SFS_data, !is.na(SFS_data$pefmtinc))\n",
    "\n",
    "SFS_data <- rename(SFS_data, income_before_tax = pefmtinc)\n",
    "SFS_data <- rename(SFS_data, income_after_tax = pefatinc)\n",
    "SFS_data <- rename(SFS_data, wealth = pwnetwpg)\n",
    "SFS_data <- rename(SFS_data, gender = pgdrmie)\n",
    "SFS_data <- rename(SFS_data, education = peducmie)\n",
    "SFS_data <- rename(SFS_data, business = pbusind)\n",
    "SFS_data <- rename(SFS_data, province = ppvres)\n",
    "SFS_data <- rename(SFS_data, credit_limit = pattlmlc)\n",
    "SFS_data <- rename(SFS_data, age = pagemieg)\n",
    "SFS_data <- rename(SFS_data, employment = plffptme)\n",
    "\n",
    "SFS_data<-SFS_data[!(SFS_data$education==\"9\"),]\n",
    "SFS_data$education <- as.numeric(SFS_data$education)\n",
    "SFS_data <- SFS_data[order(SFS_data$education),]\n",
    "SFS_data$education <- as.character(SFS_data$education)\n",
    "SFS_data$education[SFS_data$education == \"1\"] <- \"Less than high school\"\n",
    "SFS_data$education[SFS_data$education == \"2\"] <- \"High school\"\n",
    "SFS_data$education[SFS_data$education == \"3\"] <- \"Non-university post-secondary\"\n",
    "SFS_data$education[SFS_data$education == \"4\"] <- \"University\"\n",
    "\n",
    "SFS_data$province[SFS_data$province == \"10\"] <- \"Newfoundland and Labrador\"\n",
    "SFS_data$province[SFS_data$province == \"11\"] <- \"Prince Edward Island\"\n",
    "SFS_data$province[SFS_data$province == \"12\"] <- \"Nova Scotia\"\n",
    "SFS_data$province[SFS_data$province == \"13\"] <- \"New Brunswick\"\n",
    "SFS_data$province[SFS_data$province == \"24\"] <- \"Quebec\"\n",
    "SFS_data$province[SFS_data$province == \"35\"] <- \"Ontario\"\n",
    "SFS_data$province[SFS_data$province == \"46\"] <- \"Manitoba\"\n",
    "SFS_data$province[SFS_data$province == \"47\"] <- \"Saskatchewan\"\n",
    "SFS_data$province[SFS_data$province == \"48\"] <- \"Alberta\"\n",
    "SFS_data$province[SFS_data$province == \"59\"] <- \"British Columbia\"\n",
    "\n",
    "SFS_data$employment[SFS_data$employment == \"1\"] <- \"Full-time\"\n",
    "SFS_data$employment[SFS_data$employment == \"2\"] <- \"Part-time\"\n",
    "SFS_data$employment[SFS_data$employment == \"3\"] <- \"Did not work\"\n",
    "SFS_data$employment[SFS_data$employment == \"6\"] <- NA\n",
    "SFS_data$employment[SFS_data$employment == \"9\"] <- NA\n",
    "\n",
    "SFS_data$pasrbuyg[SFS_data$pasrbuyg == 96] <- NA\n",
    "\n",
    "SFS_data$gender <- as_factor(SFS_data$gender)\n",
    "SFS_data$education <- as_factor(SFS_data$education)\n",
    "SFS_data$business <- as_factor(SFS_data$business)\n",
    "SFS_data$province <- as_factor(SFS_data$province)\n",
    "SFS_data$age <- as_factor(SFS_data$age)\n",
    "SFS_data$employment <- as_factor(SFS_data$employment)\n",
    "SFS_data$pasrbuyg <- as_factor(SFS_data$pasrbuyg)\n",
    "\n",
    "SFS_data$financial_asset <- SFS_data$pwastbnd + SFS_data$pwastdep + SFS_data$pwastmui + SFS_data$pwastoin + SFS_data$pwaststk\n",
    "SFS_data$risk_proxy <- SFS_data$pwaststk/SFS_data$financial_asset\n",
    "SFS_data <- rename(SFS_data, stock = pwaststk)"
   ]
  },
  {
   "cell_type": "code",
   "execution_count": 59,
   "id": "76c23770-bf07-4d9e-b62f-09566105ecba",
   "metadata": {},
   "outputs": [
    {
     "name": "stdout",
     "output_type": "stream",
     "text": [
      "Rows: 10,141\n",
      "Columns: 102\n",
      "$ pefamid           \u001b[3m\u001b[90m<chr>\u001b[39m\u001b[23m \"00014\", \"00017\", \"00025\", \"00032\", \"00034\", \"00037\"…\n",
      "$ pweight           \u001b[3m\u001b[90m<dbl>\u001b[39m\u001b[23m 634.8358, 671.6546, 1367.6644, 2824.0936, 1106.1072,…\n",
      "$ age               \u001b[3m\u001b[90m<fct>\u001b[39m\u001b[23m 08, 12, 04, 10, 14, 14, 14, 13, 10, 14, 13, 08, 14, …\n",
      "$ PAS1MRAG          \u001b[3m\u001b[90m<dbl+lbl>\u001b[39m\u001b[23m NA, NA, NA, NA, NA, NA, NA, NA, NA, NA, NA, NA, …\n",
      "$ PAS1MRG1          \u001b[3m\u001b[90m<dbl+lbl>\u001b[39m\u001b[23m NA, NA, NA, NA, NA, NA, NA, NA, NA, NA, NA, NA, …\n",
      "$ PAS1MRG2          \u001b[3m\u001b[90m<dbl+lbl>\u001b[39m\u001b[23m NA, NA, NA, NA, NA, NA, NA, NA, NA, NA, NA, NA, …\n",
      "$ PASR1MFA          \u001b[3m\u001b[90m<dbl+lbl>\u001b[39m\u001b[23m NA, NA, NA, NA, NA, NA, NA, NA, NA, NA, NA, NA, …\n",
      "$ PASR1MR           \u001b[3m\u001b[90m<dbl+lbl>\u001b[39m\u001b[23m NA, NA, NA,  2, NA, NA, NA, NA, NA, NA,  2, NA, …\n",
      "$ pasrbuyg          \u001b[3m\u001b[90m<fct>\u001b[39m\u001b[23m 2001 - 2005, NA, NA, 1991 - 2000, 1961 - 1970, 1991 …\n",
      "$ pasrcnmg          \u001b[3m\u001b[90m<dbl+lbl>\u001b[39m\u001b[23m NA, NA, NA, NA, NA, NA, NA, NA, NA, NA, NA, NA, …\n",
      "$ pasrcon           \u001b[3m\u001b[90m<dbl+lbl>\u001b[39m\u001b[23m 2, 2, 2, 2, 2, 2, 2, 2, 2, 2, 2, 2, 2, 2, 2, 1, …\n",
      "$ pasrcst           \u001b[3m\u001b[90m<dbl+lbl>\u001b[39m\u001b[23m     NA,     NA,     NA, 135000,  14500, 135000, …\n",
      "$ pasrcurg          \u001b[3m\u001b[90m<dbl+lbl>\u001b[39m\u001b[23m NA, NA, NA,  6, NA, NA, NA, NA, NA, NA,  2, NA, …\n",
      "$ PASRDPO1          \u001b[3m\u001b[90m<dbl+lbl>\u001b[39m\u001b[23m NA, NA, NA,  2,  1,  2, NA, NA, NA, NA,  1,  2, …\n",
      "$ PASRDPO2          \u001b[3m\u001b[90m<dbl+lbl>\u001b[39m\u001b[23m NA, NA, NA,  1,  2,  1, NA, NA, NA, NA,  2,  1, …\n",
      "$ PASRDPO3          \u001b[3m\u001b[90m<dbl+lbl>\u001b[39m\u001b[23m NA, NA, NA,  2,  2,  1, NA, NA, NA, NA,  2,  2, …\n",
      "$ PASRDPO4          \u001b[3m\u001b[90m<dbl+lbl>\u001b[39m\u001b[23m NA, NA, NA,  2,  2,  2, NA, NA, NA, NA,  2,  2, …\n",
      "$ PASRDPO5          \u001b[3m\u001b[90m<dbl+lbl>\u001b[39m\u001b[23m NA, NA, NA,  2,  2,  2, NA, NA, NA, NA,  2,  2, …\n",
      "$ pasrdwng          \u001b[3m\u001b[90m<dbl+lbl>\u001b[39m\u001b[23m NA, NA, NA,  2,  2,  9, NA, NA, NA, NA,  2,  8, …\n",
      "$ pasrfnmg          \u001b[3m\u001b[90m<dbl+lbl>\u001b[39m\u001b[23m NA, NA, NA, NA, NA, NA, NA, NA, NA, NA, NA, NA, …\n",
      "$ pasrint           \u001b[3m\u001b[90m<dbl+lbl>\u001b[39m\u001b[23m NA, NA, NA,  1, NA, NA, NA, NA, NA, NA,  1, NA, …\n",
      "$ pasrintg          \u001b[3m\u001b[90m<chr>\u001b[39m\u001b[23m \"96\", \"96\", \"96\", \"06\", \"96\", \"96\", \"96\", \"96\", \"96\"…\n",
      "$ pasrmoag          \u001b[3m\u001b[90m<dbl+lbl>\u001b[39m\u001b[23m NA, NA, NA,  1, NA, NA, NA, NA, NA, NA,  3, NA, …\n",
      "$ pasrmpfg          \u001b[3m\u001b[90m<dbl+lbl>\u001b[39m\u001b[23m NA, NA, NA,  3, NA, NA, NA, NA, NA, NA,  5, NA, …\n",
      "$ pasrmryg          \u001b[3m\u001b[90m<dbl+lbl>\u001b[39m\u001b[23m   NA,   NA,   NA, 2022,   NA,   NA,   NA,   NA, …\n",
      "$ pasrrntg          \u001b[3m\u001b[90m<dbl+lbl>\u001b[39m\u001b[23m  2, NA, NA,  2,  2,  2,  2, NA, NA, NA,  2,  2, …\n",
      "$ pasrskp           \u001b[3m\u001b[90m<dbl+lbl>\u001b[39m\u001b[23m NA, NA, NA,  2, NA, NA, NA, NA, NA, NA,  1, NA, …\n",
      "$ pattcrc           \u001b[3m\u001b[90m<dbl+lbl>\u001b[39m\u001b[23m 2, 2, 2, 1, 1, 1, 2, 1, 1, 2, 1, 1, 1, 1, 1, 1, …\n",
      "$ pattcrlm          \u001b[3m\u001b[90m<dbl+lbl>\u001b[39m\u001b[23m    NA,    NA,    NA, 10000, 15500, 17000,    NA,…\n",
      "$ pattcrr           \u001b[3m\u001b[90m<dbl+lbl>\u001b[39m\u001b[23m  2,  1,  1, NA, NA, NA,  2, NA, NA,  2, NA, NA, …\n",
      "$ pattcru           \u001b[3m\u001b[90m<dbl+lbl>\u001b[39m\u001b[23m NA, NA, NA,  4,  4,  4, NA,  4,  3, NA,  4,  4, …\n",
      "$ pattdif           \u001b[3m\u001b[90m<dbl+lbl>\u001b[39m\u001b[23m NA, NA,  1, NA, NA, NA, NA, NA, NA, NA, NA, NA, …\n",
      "$ pattlcp           \u001b[3m\u001b[90m<dbl+lbl>\u001b[39m\u001b[23m NA, NA, NA,  3, NA,  3, NA,  3, NA, NA,  5,  4, …\n",
      "$ pattlcr           \u001b[3m\u001b[90m<dbl+lbl>\u001b[39m\u001b[23m 2, 2, 2, 1, 2, 1, 2, 1, 2, 2, 1, 1, 2, 1, 1, 2, …\n",
      "$ pattpayd          \u001b[3m\u001b[90m<dbl+lbl>\u001b[39m\u001b[23m 2, 2, 2, 2, 2, 2, 2, 2, 2, 2, 2, 2, 2, 2, 2, 2, …\n",
      "$ pattrsa           \u001b[3m\u001b[90m<dbl+lbl>\u001b[39m\u001b[23m  2, NA, NA,  1,  1, NA, NA,  1, NA, NA,  2,  2, …\n",
      "$ pattrsh           \u001b[3m\u001b[90m<dbl+lbl>\u001b[39m\u001b[23m  2, NA, NA,  2,  2, NA, NA,  2, NA, NA,  2,  2, …\n",
      "$ pattrsl           \u001b[3m\u001b[90m<dbl+lbl>\u001b[39m\u001b[23m  2, NA, NA,  2,  2, NA, NA,  2, NA, NA,  2,  2, …\n",
      "$ pattrsp           \u001b[3m\u001b[90m<dbl+lbl>\u001b[39m\u001b[23m 1, 2, 2, 1, 1, 2, 2, 1, 2, 2, 1, 1, 1, 1, 1, 2, …\n",
      "$ pattrsr           \u001b[3m\u001b[90m<dbl+lbl>\u001b[39m\u001b[23m  2, NA, NA,  2,  2, NA, NA,  2, NA, NA,  1,  2, …\n",
      "$ pattstin          \u001b[3m\u001b[90m<dbl+lbl>\u001b[39m\u001b[23m 1, 3, 1, 3, 3, 3, 3, 3, 2, 3, 3, 1, 3, 1, 1, 1, …\n",
      "$ pattskp           \u001b[3m\u001b[90m<dbl+lbl>\u001b[39m\u001b[23m 2, 2, 1, 2, 2, 2, 2, 2, 2, 2, 2, 2, 2, 2, 2, 2, …\n",
      "$ credit_limit      \u001b[3m\u001b[90m<dbl+lbl>\u001b[39m\u001b[23m     NA,     NA,     NA,   4300,     NA,  95000, …\n",
      "$ business          \u001b[3m\u001b[90m<fct>\u001b[39m\u001b[23m No, No, No, No, No, No, No, No, No, No, No, No, Yes,…\n",
      "$ pdwtyp            \u001b[3m\u001b[90m<chr>\u001b[39m\u001b[23m \"3\", \"1\", \"3\", \"1\", \"1\", \"1\", \"1\", \"1\", \"1\", \"3\", \"1…\n",
      "$ education         \u001b[3m\u001b[90m<fct>\u001b[39m\u001b[23m Less than high school, Less than high school, Less t…\n",
      "$ income_after_tax  \u001b[3m\u001b[90m<dbl+lbl>\u001b[39m\u001b[23m  39150,  18850,  25825,  67900,  37175,  40700, …\n",
      "$ pefgtr            \u001b[3m\u001b[90m<dbl+lbl>\u001b[39m\u001b[23m  5000, 18500, 20000, 10500, 18500, 30000, 21000,…\n",
      "$ pefmjsif          \u001b[3m\u001b[90m<chr>\u001b[39m\u001b[23m \"02\", \"04\", \"04\", \"02\", \"06\", \"04\", \"04\", \"04\", \"02\"…\n",
      "$ income_before_tax \u001b[3m\u001b[90m<dbl+lbl>\u001b[39m\u001b[23m  38000,    350,   6250,  67500,  23000,  11000, …\n",
      "$ PEXMG1A           \u001b[3m\u001b[90m<dbl+lbl>\u001b[39m\u001b[23m   NA,   NA,   NA,  500,   NA,   NA,   NA,   NA, …\n",
      "$ PEXMG1F           \u001b[3m\u001b[90m<dbl+lbl>\u001b[39m\u001b[23m NA, NA, NA,  1, NA, NA, NA, NA, NA, NA,  1, NA, …\n",
      "$ pfcrn             \u001b[3m\u001b[90m<chr>\u001b[39m\u001b[23m \"4\", \"4\", \"4\", \"1\", \"2\", \"1\", \"4\", \"2\", \"2\", \"4\", \"3…\n",
      "$ pfmtypg           \u001b[3m\u001b[90m<chr>\u001b[39m\u001b[23m \"2\", \"2\", \"3\", \"2\", \"1\", \"4\", \"1\", \"1\", \"2\", \"1\", \"1…\n",
      "$ pfrspst           \u001b[3m\u001b[90m<chr>\u001b[39m\u001b[23m \"1\", \"3\", \"3\", \"2\", \"2\", \"3\", \"3\", \"2\", \"3\", \"3\", \"2…\n",
      "$ pfsz              \u001b[3m\u001b[90m<dbl+lbl>\u001b[39m\u001b[23m 2, 2, 2, 2, 1, 2, 1, 1, 2, 1, 1, 2, 2, 2, 2, 2, …\n",
      "$ PFSZ0017          \u001b[3m\u001b[90m<chr>\u001b[39m\u001b[23m \"2\", \"2\", \"1\", \"2\", \"2\", \"2\", \"2\", \"2\", \"2\", \"2\", \"2…\n",
      "$ PFSZ1824          \u001b[3m\u001b[90m<chr>\u001b[39m\u001b[23m \"2\", \"2\", \"2\", \"2\", \"2\", \"2\", \"2\", \"2\", \"2\", \"2\", \"2…\n",
      "$ PFSZ2544          \u001b[3m\u001b[90m<chr>\u001b[39m\u001b[23m \"2\", \"2\", \"1\", \"2\", \"2\", \"2\", \"2\", \"2\", \"2\", \"2\", \"2…\n",
      "$ PFSZ4564          \u001b[3m\u001b[90m<chr>\u001b[39m\u001b[23m \"1\", \"2\", \"2\", \"1\", \"2\", \"1\", \"2\", \"2\", \"1\", \"2\", \"2…\n",
      "$ PFSZ65UP          \u001b[3m\u001b[90m<chr>\u001b[39m\u001b[23m \"2\", \"1\", \"2\", \"2\", \"1\", \"1\", \"1\", \"1\", \"2\", \"1\", \"1…\n",
      "$ pftenur           \u001b[3m\u001b[90m<dbl+lbl>\u001b[39m\u001b[23m 1, 3, 3, 2, 1, 1, 1, 3, 3, 3, 2, 1, 1, 1, 1, 2, …\n",
      "$ pinhert           \u001b[3m\u001b[90m<dbl+lbl>\u001b[39m\u001b[23m    700,     NA,  10500,  22000,     NA,     NA, …\n",
      "$ plfchrme          \u001b[3m\u001b[90m<chr>\u001b[39m\u001b[23m \"1\", \"6\", \"6\", \"6\", \"6\", \"6\", \"6\", \"6\", \"2\", \"6\", \"6…\n",
      "$ employment        \u001b[3m\u001b[90m<fct>\u001b[39m\u001b[23m Full-time, NA, Did not work, Did not work, Did not w…\n",
      "$ plfpdmeg          \u001b[3m\u001b[90m<chr>\u001b[39m\u001b[23m \"1\", \"6\", \"6\", \"6\", \"6\", \"6\", \"6\", \"6\", \"1\", \"6\", \"6…\n",
      "$ pnbearg           \u001b[3m\u001b[90m<dbl+lbl>\u001b[39m\u001b[23m  2,  0,  1,  2,  0,  1,  0,  0,  2,  0,  0,  2, …\n",
      "$ province          \u001b[3m\u001b[90m<fct>\u001b[39m\u001b[23m Nova Scotia, Alberta, Quebec, Ontario, Alberta, Onta…\n",
      "$ pregion           \u001b[3m\u001b[90m<chr>\u001b[39m\u001b[23m \"1\", \"4\", \"2\", \"3\", \"4\", \"3\", \"2\", \"2\", \"1\", \"2\", \"3…\n",
      "$ pretirme          \u001b[3m\u001b[90m<chr>\u001b[39m\u001b[23m \"2\", \"6\", \"6\", \"1\", \"1\", \"1\", \"6\", \"1\", \"2\", \"6\", \"1…\n",
      "$ gender            \u001b[3m\u001b[90m<fct>\u001b[39m\u001b[23m Male, Female, Male, Male, Male, Female, Female, Male…\n",
      "$ pwaotpen          \u001b[3m\u001b[90m<dbl>\u001b[39m\u001b[23m 0, 0, 0, 0, 325, 0, 0, 0, 0, 0, 0, 0, 0, 0, 0, 0, 0,…\n",
      "$ pwaprval          \u001b[3m\u001b[90m<dbl>\u001b[39m\u001b[23m 16500, 0, 0, 300000, 200000, 350000, 72500, 0, 0, 0,…\n",
      "$ pwarppg           \u001b[3m\u001b[90m<dbl>\u001b[39m\u001b[23m 0, 60000, 0, 90000, 120000, 370000, 0, 0, 0, 0, 0, 3…\n",
      "$ pwarppt           \u001b[3m\u001b[90m<dbl>\u001b[39m\u001b[23m 0, 57500, 0, 90000, 125000, 380000, 0, 0, 0, 0, 0, 3…\n",
      "$ pwarrif           \u001b[3m\u001b[90m<dbl>\u001b[39m\u001b[23m 0, 0, 0, 87500, 77500, 9500, 0, 95000, 0, 0, 0, 0, 0…\n",
      "$ pwarrspl          \u001b[3m\u001b[90m<dbl>\u001b[39m\u001b[23m 525, 0, 0, 200000, 0, 0, 0, 0, 0, 0, 0, 70000, 0, 40…\n",
      "$ pwastbnd          \u001b[3m\u001b[90m<dbl>\u001b[39m\u001b[23m 0, 0, 0, 0, 0, 0, 0, 0, 0, 0, 0, 0, 0, 0, 0, 0, 0, 0…\n",
      "$ pwastdep          \u001b[3m\u001b[90m<dbl>\u001b[39m\u001b[23m 225, 10000, 5, 2300, 5250, 70, 0, 18000, 250, 5, 0, …\n",
      "$ pwastmui          \u001b[3m\u001b[90m<dbl>\u001b[39m\u001b[23m 0, 0, 0, 0, 0, 0, 0, 0, 0, 0, 0, 0, 0, 0, 0, 0, 0, 0…\n",
      "$ pwastoin          \u001b[3m\u001b[90m<dbl>\u001b[39m\u001b[23m 0, 0, 0, 0, 0, 2800, 0, 0, 0, 0, 0, 0, 0, 0, 0, 4000…\n",
      "$ pwastonf          \u001b[3m\u001b[90m<dbl>\u001b[39m\u001b[23m 1050, 1050, 5000, 5250, 5250, 5000, 1000, 1050, 9500…\n",
      "$ pwastrst          \u001b[3m\u001b[90m<dbl>\u001b[39m\u001b[23m 0, 0, 0, 0, 0, 0, 0, 0, 0, 0, 0, 0, 41000, 0, 0, 0, …\n",
      "$ stock             \u001b[3m\u001b[90m<dbl>\u001b[39m\u001b[23m 0, 0, 0, 0, 0, 0, 0, 0, 0, 0, 10000, 0, 0, 0, 0, 0, …\n",
      "$ pwastvhe          \u001b[3m\u001b[90m<dbl>\u001b[39m\u001b[23m 2400, 0, 0, 37000, 0, 27000, 0, 31000, 4750, 300, 18…\n",
      "$ pwatfs            \u001b[3m\u001b[90m<dbl>\u001b[39m\u001b[23m 0, 0, 0, 1750, 0, 8750, 0, 19000, 0, 0, 6250, 15500,…\n",
      "$ pwatotpg          \u001b[3m\u001b[90m<dbl>\u001b[39m\u001b[23m 20700, 71050, 5005, 723800, 408325, 773120, 73500, 1…\n",
      "$ pwatotpt          \u001b[3m\u001b[90m<dbl>\u001b[39m\u001b[23m 20700, 68550, 5005, 723800, 413325, 783120, 73500, 1…\n",
      "$ pwbuseq           \u001b[3m\u001b[90m<dbl>\u001b[39m\u001b[23m 0, 0, 0, 0, 0, 0, 0, 0, 0, 0, 0, 0, 95000, 750000, 1…\n",
      "$ pwdprmor          \u001b[3m\u001b[90m<dbl>\u001b[39m\u001b[23m 0, 0, 0, 55000, 0, 0, 0, 0, 0, 0, 20000, 0, 0, 0, 0,…\n",
      "$ pwdsloan          \u001b[3m\u001b[90m<dbl>\u001b[39m\u001b[23m 0, 0, 0, 0, 0, 0, 0, 0, 0, 0, 0, 0, 0, 0, 0, 0, 0, 0…\n",
      "$ pwdstcrd          \u001b[3m\u001b[90m<dbl>\u001b[39m\u001b[23m 0, 0, 0, 0, 0, 5250, 0, 0, 3600, 0, 0, 0, 2000, 0, 0…\n",
      "$ pwdstloc          \u001b[3m\u001b[90m<dbl>\u001b[39m\u001b[23m 0, 0, 0, 0, 0, 40000, 0, 6000, 0, 0, 0, 0, 0, 0, 0, …\n",
      "$ pwdstodb          \u001b[3m\u001b[90m<dbl>\u001b[39m\u001b[23m 400, 0, 0, 0, 0, 0, 0, 0, 0, 0, 0, 0, 0, 0, 0, 0, 0,…\n",
      "$ pwdstomr          \u001b[3m\u001b[90m<dbl>\u001b[39m\u001b[23m 0, 0, 0, 0, 0, 0, 0, 0, 0, 0, 0, 0, 0, 0, 0, 0, 0, 0…\n",
      "$ pwdstvhn          \u001b[3m\u001b[90m<dbl>\u001b[39m\u001b[23m 0, 0, 0, 35000, 0, 20000, 0, 20000, 0, 0, 0, 23000, …\n",
      "$ pwdtotal          \u001b[3m\u001b[90m<dbl>\u001b[39m\u001b[23m 400, 0, 0, 90000, 0, 65250, 0, 26000, 3600, 0, 20000…\n",
      "$ wealth            \u001b[3m\u001b[90m<dbl>\u001b[39m\u001b[23m 20300, 71050, 5005, 633800, 408325, 707870, 73500, 1…\n",
      "$ pwnetwpt          \u001b[3m\u001b[90m<dbl>\u001b[39m\u001b[23m 20300, 68550, 5005, 633800, 413325, 717870, 73500, 1…\n",
      "$ verdate           \u001b[3m\u001b[90m<chr>\u001b[39m\u001b[23m \"28/06/2021\", \"28/06/2021\", \"28/06/2021\", \"28/06/202…\n",
      "$ financial_asset   \u001b[3m\u001b[90m<dbl>\u001b[39m\u001b[23m 225, 10000, 5, 2300, 5250, 2870, 0, 18000, 250, 5, 1…\n",
      "$ risk_proxy        \u001b[3m\u001b[90m<dbl>\u001b[39m\u001b[23m 0, 0, 0, 0, 0, 0, NaN, 0, 0, 0, 1, 0, 0, 0, 0, 0, 0,…\n"
     ]
    }
   ],
   "source": [
    "glimpse(SFS_data)"
   ]
  },
  {
   "cell_type": "markdown",
   "id": "49ce9684-2079-44dc-9c7e-433c3305bbb2",
   "metadata": {},
   "source": [
    "# Part 1: Introducing Multiple Regressions\n",
    "\n",
    "At this point, you are familiar with the simple regression model and its relationship to the comparison-of-means $t$-test.  However, most econometric analysis doesn't use simple regression - this is because, in general, economic data and models are far too complicated to be summarized with a single relationship.  One of the features of most economic datasets is a complex, multi-dimensional relationship between different variables.  This leads to the two key motivations for **multiple regression**:\n",
    "\n",
    "* First, it can improve the *predictive* properties of a regression model, by introducing other variables that play an important econometric role in the relationship being studied.\n",
    "* Second, it allows the econometrician to *differentiate* the importance of different variables in a relationship.\n",
    "\n",
    "This second motivation is usually part of **causal analysis** when we believe that our model has an interpretation as a cause-and-effect.  However, even if it does not, it is still useful to understand which variables are \"driving\" the relationship in the data.\n",
    "\n",
    "Let's look at the following plot, which depict the relationships between ``wealth``, ``gender`` and ``education``.  In the top panel, the colour of each cell is the (average) log of ``wealth``.  In the bottom panel, the size each of each circle is the number of households in that combination of categories. "
   ]
  },
  {
   "cell_type": "markdown",
   "id": "1373f9b2-7a4a-435f-b805-2a1bfd90de07",
   "metadata": {},
   "source": [
    "Let's first summarize education into \"university\" and \"non-university\". Since it's easier to see the pattern from log wealth, we will calculate log wealth and filter out NaN values."
   ]
  },
  {
   "cell_type": "code",
   "execution_count": 27,
   "id": "702699b7-48bf-455b-a37b-dc945fb2a236",
   "metadata": {},
   "outputs": [
    {
     "name": "stdout",
     "output_type": "stream",
     "text": [
      " Factor w/ 2 levels \"Non-university\",..: 1 1 1 1 1 1 1 1 1 1 ...\n"
     ]
    }
   ],
   "source": [
    "SFS_data <- SFS_data %>% \n",
    "               mutate( \n",
    "               Education = case_when(#this is an example of this function\n",
    "                     education == \"University\" ~ \"University\", #the ~ seperates the original from the new name\n",
    "                     education == \"Non-university post-secondary\" ~ \"Non-university\",\n",
    "                     education == \"High school\" ~ \"Non-university\",\n",
    "                     education == \"Less than high school\" ~ \"Non-university\")) %>%\n",
    "             mutate(Education = as_factor(Education)) #remember, it's a factor!\n",
    "\n",
    "glimpse(SFS_data$Education)"
   ]
  },
  {
   "cell_type": "code",
   "execution_count": 28,
   "id": "0aa0d249-23ac-4a9b-98e8-56fb17917b7b",
   "metadata": {},
   "outputs": [
    {
     "name": "stderr",
     "output_type": "stream",
     "text": [
      "Warning message in log(SFS_data$wealth):\n",
      "“NaNs produced”\n"
     ]
    }
   ],
   "source": [
    "SFS_data <- SFS_data %>%\n",
    "               mutate(lnwealth = log(SFS_data$wealth)) #calculate log\n",
    "SFS_data_logged <- SFS_data %>%\n",
    "               filter(wealth>0) #filter out NaN"
   ]
  },
  {
   "cell_type": "code",
   "execution_count": 29,
   "id": "d7e82c5b-bbf6-4cc8-baa4-a08ab5cfd408",
   "metadata": {},
   "outputs": [
    {
     "data": {
      "image/png": "[encoded data removed]",
      "text/plain": [
       "plot without title"
      ]
     },
     "metadata": {
      "image/png": {
       "height": 240,
       "width": 360
      }
     },
     "output_type": "display_data"
    },
    {
     "data": {
      "image/png": "[encoded data removed]",
      "text/plain": [
       "plot without title"
      ]
     },
     "metadata": {
      "image/png": {
       "height": 240,
       "width": 360
      }
     },
     "output_type": "display_data"
    }
   ],
   "source": [
    "options(repr.plot.width=6,repr.plot.height=4) #controls the image size\n",
    "\n",
    "f <- ggplot(data = SFS_data_logged, aes(x = gender, y = Education)) + xlab(\"Gender\") + ylab(\"Education\")\n",
    "f + geom_tile(aes(fill=lnwealth)) + scale_fill_distiller(palette=\"Set1\") #this gives us fancier colours\n",
    "\n",
    "f <- ggplot(data = SFS_data, aes(x = gender, y = Education))\n",
    "f + geom_count()"
   ]
  },
  {
   "cell_type": "markdown",
   "id": "296473b8-1798-42c9-9aa5-8ae5441261f8",
   "metadata": {},
   "source": [
    "You can see immediately that there are *three* relationships happening at the same time:\n",
    "\n",
    "1. There is a relationship between ``wealth`` of households and ``gender`` of main earner\n",
    "2. There is a relationship between ``wealth`` and ``Education``\n",
    "3. There is a relationship between ``gender`` and ``Education``\n",
    "\n",
    "A simple regression can analyze any _one_ of these relationships in isolation, but it cannot assess more than one of them at a time.  For instance, let's look at these regressions."
   ]
  },
  {
   "cell_type": "code",
   "execution_count": 30,
   "id": "f18cf649-b406-4f38-8121-fef1d06f12d6",
   "metadata": {},
   "outputs": [
    {
     "name": "stdout",
     "output_type": "stream",
     "text": [
      "\n",
      "Comparison of Regression Results\n",
      "================================================================\n",
      "                                Dependent variable:             \n",
      "                    --------------------------------------------\n",
      "                                wealth              dummy_gender\n",
      "                          (1)             (2)           (3)     \n",
      "----------------------------------------------------------------\n",
      "genderFemale        -235,285.600***                             \n",
      "                      (35,393.790)                              \n",
      "                                                                \n",
      "EducationUniversity                  717,349.500***   0.046***  \n",
      "                                      (35,095.260)    (0.010)   \n",
      "                                                                \n",
      "Constant            1,128,034.000*** 763,796.000***   0.380***  \n",
      "                      (22,314.810)    (21,559.430)    (0.006)   \n",
      "                                                                \n",
      "----------------------------------------------------------------\n",
      "Observations             10,141          10,141        10,141   \n",
      "R2                       0.004           0.040         0.002    \n",
      "================================================================\n",
      "Note:                                *p<0.1; **p<0.05; ***p<0.01\n"
     ]
    }
   ],
   "source": [
    "regression1 <- lm(data = SFS_data, wealth ~ gender)\n",
    "regression2 <- lm(data = SFS_data, wealth ~ Education)\n",
    "\n",
    "dummy_gender = as.numeric(SFS_data$gender)-1  #what is this line of code doing?  \n",
    "# hint, the as.numeric variable treats a factor as a number\n",
    "# male is 0\n",
    "\n",
    "regression3 <- lm(data = SFS_data, dummy_gender ~ Education) \n",
    "#this is actually a very important regression model called \"linear probability\"\n",
    "#we will learn more about it later in the course\n",
    "\n",
    "stargazer(regression1, regression2, regression3, title=\"Comparison of Regression Results\",\n",
    "          align = TRUE, type=\"text\", keep.stat = c(\"n\",\"rsq\")) #we will learn more about this command later on!"
   ]
  },
  {
   "cell_type": "markdown",
   "id": "0704350d-cdb4-4377-8837-6043f5cf7f98",
   "metadata": {},
   "source": [
    "The problem here is that these results tell us:\n",
    "\n",
    "* Households with higher education accumulate more wealth (significant and positive coefficient on ``EducationUniversity`` in (2))\n",
    "* Among university degrees, the proportion of males is larger than females, with 42.6% and 57.4% respectively. (coefficient on ``EducationUniversity`` in (3))\n",
    "* Family led by females accumulates less wealth than the male counterparts. (negative and significant coefficient on ``genderFemale`` in (1))\n",
    "\n",
    "This implies that when we measure the gender-wealth gap alone, we are *indirectly* including part of the education-wealth gap as well.  This is bad; the \"true\" gender-wealth gap is probably lower, but it is being increased because men are more likely to have university degree.\n",
    "\n",
    "This is both a practical and a theoretical problem.  It's not just about the model, it's also about what we mean when we say \"the gender wealth gap\".\n",
    "* If we mean \"the difference in wealth between male and female led family\", then the simple regression result is what we want.\n",
    "* However, this ignores all the other reasons male could have a different wealth (education, income, age, etc.)\n",
    "* If we mean \"the difference in wealth between male and female led family, holding other factors equal\", then the simple regression result is not suitable.\n",
    "\n",
    "The problem is that \"holding other factors\" equal is a debatable proposition.  Which factors?  Why?  This is why you see such a debate, particularly in the media about these kinds of gaps (e.g. the education wealth gap).  We will revisit this in the exercises.\n",
    "\n",
    "### Multiple Regression Models\n",
    "\n",
    "I think most people, when they discuss the gender wealth gap, would agree that we do not want to conflate the gender wealth gap measurement with the education wealth gap.  This implies that we *must* add in some other variables.\n",
    "\n",
    "A multiple regression model simply adds more explanatory ($X_i$) variables to the model.  In our case, we would take our simple regression model:\n",
    "\n",
    "$$W_i = \\beta_0 + \\beta_1 Gender_i + \\epsilon_i$$\n",
    "\n",
    "and augment with a variable which captures ``Education``:\n",
    "\n",
    "$$W_i = \\beta_0 + \\beta_1 Gender_i + \\color{red}{\\beta_2 Edu_i} + \\epsilon_i$$\n",
    "\n",
    "Just as in a simple regression, the goal of estimating a multiple regression model using OLS is to solve the problem:\n",
    "\n",
    "$$(\\hat{\\beta_0},\\hat{\\beta_1},\\hat{\\beta_2}) = \\arg \\min_{b_0,b_1,b_2} \\sum_{i=1}^{n} (W_i - b_0 - b_1 Gender_i -b_2 Edu_i)^2 = \\sum_{i=1}^{n} (e_i)^2$$\n",
    "\n",
    "In general, you can have any number of explanatory variables in a multiple regression model (as long as it's not larger than $n-1$, your sample size).  However, there are costs to including more variables, which we will learn about more later.  For now, we want to focus on building an appropriate *model*, and worrying about the properties later.\n",
    "\n",
    "A regression model like this is easy to estimate in R; you use the same command as in simple regression, and just add the new variable to the model:\n",
    "\n",
    "``wealth ~ gender + Education``\n",
    "\n",
    "Let's see it in action:"
   ]
  },
  {
   "cell_type": "code",
   "execution_count": 31,
   "id": "454b48f5-2053-4718-9b20-02617353a3c8",
   "metadata": {},
   "outputs": [
    {
     "data": {
      "text/plain": [
       "\n",
       "Call:\n",
       "lm(formula = wealth ~ gender + Education, data = SFS_data)\n",
       "\n",
       "Residuals:\n",
       "     Min       1Q   Median       3Q      Max \n",
       "-2201849  -781517  -433451   244558 29189158 \n",
       "\n",
       "Coefficients:\n",
       "                    Estimate Std. Error t value Pr(>|t|)    \n",
       "(Intercept)           865842      25218   34.34  < 2e-16 ***\n",
       "genderFemale         -268577      34698   -7.74 1.09e-14 ***\n",
       "EducationUniversity   729837      35031   20.83  < 2e-16 ***\n",
       "---\n",
       "Signif. codes:  0 ‘***’ 0.001 ‘**’ 0.01 ‘*’ 0.05 ‘.’ 0.1 ‘ ’ 1\n",
       "\n",
       "Residual standard error: 1708000 on 10138 degrees of freedom\n",
       "Multiple R-squared:  0.04522,\tAdjusted R-squared:  0.04503 \n",
       "F-statistic: 240.1 on 2 and 10138 DF,  p-value: < 2.2e-16\n"
      ]
     },
     "metadata": {},
     "output_type": "display_data"
    }
   ],
   "source": [
    "multiple_model_1 <- lm(data = SFS_data, wealth ~ gender + Education)\n",
    "\n",
    "summary(multiple_model_1)"
   ]
  },
  {
   "cell_type": "markdown",
   "id": "1e50b0f0-e4e6-448c-a6fa-3b5eb9cd07ba",
   "metadata": {},
   "source": [
    "As you can see, there are now three coefficients: one for ``genderFemale``, one for ``EducationUniversity`` and one for the intercept.  The important thing to remember is that these relationships are being calculated *jointly*.  Compare the result above to the two simple regressions we saw earlier:"
   ]
  },
  {
   "cell_type": "code",
   "execution_count": 32,
   "id": "41787148-00eb-43e7-b18a-11fb88aa453c",
   "metadata": {},
   "outputs": [
    {
     "name": "stdout",
     "output_type": "stream",
     "text": [
      "\n",
      "Comparison of Muliple and Simple Regression Results\n",
      "===================================================================\n",
      "                                  Dependent variable:              \n",
      "                    -----------------------------------------------\n",
      "                                        wealth                     \n",
      "                          (1)             (2)             (3)      \n",
      "-------------------------------------------------------------------\n",
      "genderFemale        -235,285.600***                 -268,577.200***\n",
      "                      (35,393.790)                   (34,698.120)  \n",
      "                                                                   \n",
      "EducationUniversity                  717,349.500*** 729,836.800*** \n",
      "                                      (35,095.260)   (35,030.910)  \n",
      "                                                                   \n",
      "Constant            1,128,034.000*** 763,796.000*** 865,841.700*** \n",
      "                      (22,314.810)    (21,559.430)   (25,217.640)  \n",
      "                                                                   \n",
      "-------------------------------------------------------------------\n",
      "Observations             10,141          10,141         10,141     \n",
      "R2                       0.004           0.040           0.045     \n",
      "===================================================================\n",
      "Note:                                   *p<0.1; **p<0.05; ***p<0.01\n"
     ]
    }
   ],
   "source": [
    "stargazer(regression1, regression2, multiple_model_1, title=\"Comparison of Muliple and Simple Regression Results\",\n",
    "          align = TRUE, type=\"text\", keep.stat = c(\"n\",\"rsq\"))\n",
    "\n",
    "# which column is the multiple regression?"
   ]
  },
  {
   "cell_type": "markdown",
   "id": "2ac71273-eae2-471c-9b4f-578b11827aee",
   "metadata": {},
   "source": [
    "Notice the difference in the coefficients: *all* of them are different.\n",
    "\n",
    "> _Think Deeper_: Why would all of these coefficients change?  Why not just the coefficient on ``gender``?\n",
    "\n",
    "You will also notice that the standard errors are different.  This is an important lesson: including (or not including) variables can change the statistical significance of a result.  This is why it is so important to be very careful when designing regression models and thinking them through: a coefficient estimate is a consequence of the *whole model*, and should not be considered in isolation."
   ]
  },
  {
   "cell_type": "markdown",
   "id": "655220e4-8992-4f0f-bd82-f58c9011d7ee",
   "metadata": {},
   "source": [
    "## Interpreting Multiple Regression Coefficients\n",
    "\n",
    "If you don't think about it too carefully, interpreting coefficients in a multiple regression is nearly the same as in a simple regression.  After all, our regression equation is:\n",
    "\n",
    "$$W_i = \\beta_0 + \\beta_1 Gender_i + \\beta_2 Edu_i + \\epsilon_i$$\n",
    "\n",
    "You could (let's pretend for a moment that $Edu_i$ was continuous) calculate:\n",
    "\n",
    "$$\\frac{\\partial W_i}{\\partial Edu_i} = \\beta_2$$\n",
    "\n",
    "This is the same interpretation as in a simple regression model:\n",
    "* $\\beta_2$ is the change in $W_i$ for a 1-unit change in $Edu_i$.\n",
    "* As you will see in the exercises, when $Edu_i$ is a dummy, we have the same interpretation as in a simple regression model: the (average) difference in the dependent variable between the two levels of the dummy variable.\n",
    "\n",
    "However, there is an important difference: we are *holding constant* the other explanatory variables.  That's what the $\\partial$ means when we take a derivative.  This was actually always there (since we were holding constant the residual), but now this is something that is directly observable in our data (and in the model we are building)."
   ]
  },
  {
   "cell_type": "code",
   "execution_count": 33,
   "id": "d5d70567-a0ae-48f0-9f7f-78afdf0909a1",
   "metadata": {},
   "outputs": [
    {
     "data": {
      "text/plain": [
       "\n",
       "Call:\n",
       "lm(formula = wealth ~ gender + Education, data = SFS_data)\n",
       "\n",
       "Residuals:\n",
       "     Min       1Q   Median       3Q      Max \n",
       "-2201849  -781517  -433451   244558 29189158 \n",
       "\n",
       "Coefficients:\n",
       "                    Estimate Std. Error t value Pr(>|t|)    \n",
       "(Intercept)           865842      25218   34.34  < 2e-16 ***\n",
       "genderFemale         -268577      34698   -7.74 1.09e-14 ***\n",
       "EducationUniversity   729837      35031   20.83  < 2e-16 ***\n",
       "---\n",
       "Signif. codes:  0 ‘***’ 0.001 ‘**’ 0.01 ‘*’ 0.05 ‘.’ 0.1 ‘ ’ 1\n",
       "\n",
       "Residual standard error: 1708000 on 10138 degrees of freedom\n",
       "Multiple R-squared:  0.04522,\tAdjusted R-squared:  0.04503 \n",
       "F-statistic: 240.1 on 2 and 10138 DF,  p-value: < 2.2e-16\n"
      ]
     },
     "metadata": {},
     "output_type": "display_data"
    }
   ],
   "source": [
    "summary(multiple_model_1)"
   ]
  },
  {
   "cell_type": "markdown",
   "id": "0bf45645-377d-4c28-8bd6-9663f89776ca",
   "metadata": {},
   "source": [
    "> **Test your knowledge:**  Based on the results above, how much more wealth do university graduates accumulate, relative to non-university degree, once we hold fixed the gender?"
   ]
  },
  {
   "cell_type": "code",
   "execution_count": 34,
   "id": "7e1c80b9-61ac-4acd-91d5-84fd251e5d92",
   "metadata": {},
   "outputs": [
    {
     "name": "stdout",
     "output_type": "stream",
     "text": [
      "\u001b[32mTest passed\u001b[39m 😸\n",
      "[1] \"Success!\"\n"
     ]
    }
   ],
   "source": [
    "# answer the question above by filling in the number \n",
    "answer1 <- 729837\n",
    "\n",
    "test_1()"
   ]
  },
  {
   "cell_type": "markdown",
   "id": "1bf843c6-57cc-490a-9d2a-1c7bdb5c8f10",
   "metadata": {},
   "source": [
    "## Control Variables: What Do They Mean?\n",
    "\n",
    "One very common term you may have heard, especially in the context of a multiple regression model, is the idea of a **control variable**.  In a multiple regression model, control variables are just explanatory variables - there is nothing special about how they are included.  However, there *is* something special about how we think about them.\n",
    "\n",
    "The idea of a control variable refers to how we *think about* a regression model, and in particular the different variables.  Recall that the interpretation of a coefficient in a multiple regression model is the effect of that variable *holding constant* the other variables.  This often referred to as **controlling** for the values of those other variables - we are not allowing their relationship with the variable in question, and the outcome variable, to affect our measurement of the result.  This is very common when we are discussing a *cause and effect* relationship - control is essential to these kinds of models.  However, it is also valuable even when we are just thinking about a predictive model.\n",
    "\n",
    "You can see how this works directly if you think about a multiple regression as a series of \"explanations\" for the outcome variable.  Each variable, one-by-one \"explains\" part of the outcome variable.  When we \"control\" for a variable, we remove the part of the outcome that can be explained by that variable alone.  In terms of our model, this refers to the residual.\n",
    "\n",
    "However, we must remember that our control variable *also* explains part of the other variables, so we must \"control\" for it as well.\n",
    "\n",
    "For instance, our multiple regression:\n",
    "\n",
    "$$W_i = \\beta_0 + \\beta_1 Gender_i + \\beta_2 Edu_i + \\epsilon_i$$\n",
    "\n",
    "Can be thought of as three, sequential, simple regressions:\n",
    "\n",
    "$$W_i = \\gamma_0 + \\gamma_1 Edu_i + u_i$$\n",
    "$$Gender_i = \\gamma_0 + \\gamma_1 Edu_i + v_i$$\n",
    "\n",
    "* These two regressions say \"Explain ``wealth`` and ``gender`` using ``Education`` (in simple regressions)\"\n",
    "\n",
    "$$\\hat{u_i} = \\delta_0 + \\delta_1 \\hat{v_i} + \\eta_i$$\n",
    "\n",
    "* Then, explain whatever is leftover ($\\hat{u_i}$) from the ``education-wealth`` relationship with whatever is leftover from the ``gender-wealth`` relationship.\n",
    "\n",
    "This has effectively \"isolated\" the variation in the data which has to do with ``education`` from the result of the model.\n",
    "\n",
    "Let's see this in action:"
   ]
  },
  {
   "cell_type": "code",
   "execution_count": 35,
   "id": "c8876544-7de4-49ac-a1a7-511ef9ba2a9d",
   "metadata": {},
   "outputs": [],
   "source": [
    "regression1 <- lm(wealth ~ Education, data = SFS_data)\n",
    "# regress wealth on education\n",
    "\n",
    "regression2 <- lm(dummy_gender ~ Education, data = SFS_data)\n",
    "# regress gender on education\n",
    "\n",
    "temp_data <-  tibble(wealth_leftovers = regression1$residual, gender_leftovers = regression2$residuals)\n",
    "# take whatever is left-over from those regressions, save it"
   ]
  },
  {
   "cell_type": "code",
   "execution_count": 36,
   "id": "be8ad216-da53-438a-a53a-3b6c2b17a111",
   "metadata": {},
   "outputs": [
    {
     "name": "stdout",
     "output_type": "stream",
     "text": [
      "\n",
      "Comparison of Muliple and Simple Regression Results\n",
      "================================================================================\n",
      "                                        Dependent variable:                     \n",
      "                    ------------------------------------------------------------\n",
      "                        wealth     dummy_gender wealth_leftovers     wealth     \n",
      "                         (1)           (2)            (3)              (4)      \n",
      "--------------------------------------------------------------------------------\n",
      "genderFemale                                                     -268,577.200***\n",
      "                                                                  (34,698.120)  \n",
      "                                                                                \n",
      "EducationUniversity 717,349.500***   0.046***                    729,836.800*** \n",
      "                     (35,095.260)    (0.010)                      (35,030.910)  \n",
      "                                                                                \n",
      "gender_leftovers                                -268,577.200***                 \n",
      "                                                  (34,696.410)                  \n",
      "                                                                                \n",
      "Constant            763,796.000***   0.380***        -0.000      865,841.700*** \n",
      "                     (21,559.430)    (0.006)      (16,961.710)    (25,217.640)  \n",
      "                                                                                \n",
      "--------------------------------------------------------------------------------\n",
      "Observations            10,141        10,141         10,141          10,141     \n",
      "R2                      0.040         0.002          0.006            0.045     \n",
      "================================================================================\n",
      "Note:                                                *p<0.1; **p<0.05; ***p<0.01\n"
     ]
    }
   ],
   "source": [
    "regression3 <- lm(wealth_leftovers ~ gender_leftovers, data = temp_data)\n",
    "#regress the leftovers on immigration status\n",
    "\n",
    "#compare the results with the multiple regression\n",
    "\n",
    "stargazer(regression1, regression2, regression3, multiple_model_1, title=\"Comparison of Muliple and Simple Regression Results\",\n",
    "          align = TRUE, type=\"text\", keep.stat = c(\"n\",\"rsq\"))"
   ]
  },
  {
   "cell_type": "markdown",
   "id": "66c99135-3e10-40ea-8b96-9b179a5184bc",
   "metadata": {},
   "source": [
    "Look closely at these results.  You will notice that the coefficients on ``gender_leftovers`` in the \"control\" regression and ``gender`` in the multiple regression are *exactly the same*.\n",
    "\n",
    "> *Think Deeper* What if we had done it in the other way you think about this relationship (``wealth`` and ``Education`` on ``gender``).  Which coefficients would match?  Why?\n",
    "\n",
    "This result is a consequence of the **Frisch-Waugh-Lovell theorem** about OLS, and a variant of it is referred as the \"regression anatomy\" equation.\n",
    "\n",
    "For our purposes, it does a very useful thing: it gives us a concrete way of thinking about what \"controls\" are doing: they are \"subtracting\" part of the variation from both the outcome and other explanatory variables.  In OLS, this is *exactly* what is happening - but for all variables at once!"
   ]
  },
  {
   "cell_type": "markdown",
   "id": "63b7e17e-5b82-49b1-9cd2-b8348d869ea0",
   "metadata": {},
   "source": [
    "## Part 2: Hands-On\n",
    "\n",
    "Now, it's time to continue our investigation of the gender-wealth gap, but now using our multiple regression tools.  As we discussed before, when we investigate the education-wealth gap, we usually want to \"hold fixed\" different kinds of variables.  We have already seen this, using the ``Education`` variable to control for the education-wealth gap.  However, there are many more variables we might want to include.\n",
    "\n",
    "For example, risky investments usually generate more returns and men are typically more willing to take risks.  This implies that we may want to control for their risky investments in the analysis.\n",
    "\n",
    "Let's try that now:"
   ]
  },
  {
   "cell_type": "code",
   "execution_count": 37,
   "id": "d6b4c747-2666-474a-abd7-ce75c6bf0c5e",
   "metadata": {},
   "outputs": [
    {
     "data": {
      "text/plain": [
       "\n",
       "Call:\n",
       "lm(formula = wealth ~ gender + Education + risk_proxy, data = SFS_data)\n",
       "\n",
       "Residuals:\n",
       "     Min       1Q   Median       3Q      Max \n",
       "-3373967  -729155  -391705   262694 28858769 \n",
       "\n",
       "Coefficients:\n",
       "                    Estimate Std. Error t value Pr(>|t|)    \n",
       "(Intercept)           791902      25612  30.919  < 2e-16 ***\n",
       "genderFemale         -218123      34753  -6.276 3.61e-10 ***\n",
       "EducationUniversity   595206      35237  16.891  < 2e-16 ***\n",
       "risk_proxy           2267520      91119  24.885  < 2e-16 ***\n",
       "---\n",
       "Signif. codes:  0 ‘***’ 0.001 ‘**’ 0.01 ‘*’ 0.05 ‘.’ 0.1 ‘ ’ 1\n",
       "\n",
       "Residual standard error: 1678000 on 9794 degrees of freedom\n",
       "  (343 observations deleted due to missingness)\n",
       "Multiple R-squared:  0.1003,\tAdjusted R-squared:    0.1 \n",
       "F-statistic:   364 on 3 and 9794 DF,  p-value: < 2.2e-16\n"
      ]
     },
     "metadata": {},
     "output_type": "display_data"
    }
   ],
   "source": [
    "risk_regression1 <- lm(data = SFS_data, wealth ~ gender + Education + risk_proxy)\n",
    "\n",
    "summary(risk_regression1)"
   ]
  },
  {
   "cell_type": "markdown",
   "id": "eda0efbb-fc5d-4620-be28-07127a00fcaf",
   "metadata": {},
   "source": [
    "Once we control for risky investments, what do you see?  How has the gender-wealth gap changed?\n",
    "\n",
    "Another way is to study financial assets and stocks at the same time, so that we can understand how different categories of assets affect wealth."
   ]
  },
  {
   "cell_type": "code",
   "execution_count": 38,
   "id": "b074009f-4669-45f1-92e5-9393a48e34a8",
   "metadata": {},
   "outputs": [
    {
     "data": {
      "text/plain": [
       "\n",
       "Call:\n",
       "lm(formula = wealth ~ gender + Education + financial_asset + \n",
       "    stock, data = SFS_data)\n",
       "\n",
       "Residuals:\n",
       "     Min       1Q   Median       3Q      Max \n",
       "-8724432  -617044  -333117   262582 20996612 \n",
       "\n",
       "Coefficients:\n",
       "                      Estimate Std. Error t value Pr(>|t|)    \n",
       "(Intercept)          6.991e+05  1.921e+04  36.395  < 2e-16 ***\n",
       "genderFemale        -1.711e+05  2.631e+04  -6.504  8.2e-11 ***\n",
       "EducationUniversity  4.944e+05  2.668e+04  18.532  < 2e-16 ***\n",
       "financial_asset      1.598e+00  2.492e-02  64.126  < 2e-16 ***\n",
       "stock               -1.369e-01  4.159e-02  -3.290    0.001 ** \n",
       "---\n",
       "Signif. codes:  0 ‘***’ 0.001 ‘**’ 0.01 ‘*’ 0.05 ‘.’ 0.1 ‘ ’ 1\n",
       "\n",
       "Residual standard error: 1294000 on 10136 degrees of freedom\n",
       "Multiple R-squared:  0.4522,\tAdjusted R-squared:  0.452 \n",
       "F-statistic:  2092 on 4 and 10136 DF,  p-value: < 2.2e-16\n"
      ]
     },
     "metadata": {},
     "output_type": "display_data"
    }
   ],
   "source": [
    "risk_regression2 <- lm(wealth ~ gender + Education + financial_asset + stock, data = SFS_data)\n",
    "\n",
    "summary(risk_regression2)"
   ]
  },
  {
   "cell_type": "markdown",
   "id": "60fe6ad2-4aef-4760-a4f6-1f097ecdaf6c",
   "metadata": {},
   "source": [
    "Look closely at this result.  Do you see anything odd or problematic here?\n",
    "\n",
    "This is a topic we will revise later in this course, but this is **multicollinearity**.  Essentially, what this means is that one of the variables we have added to our model does not add any new information. \n",
    "\n",
    "In other words, once we control for the other variables, there's nothing left to explain.  Can you guess what variables are interacting to cause this problem?   R has auto-magically excluded one so that the regression will still run, but this a big problem for our model.\n",
    "\n",
    "Let's dig deeper to see here:"
   ]
  },
  {
   "cell_type": "code",
   "execution_count": 39,
   "id": "3bd14650-22b3-4b6e-b472-40290188d897",
   "metadata": {},
   "outputs": [
    {
     "name": "stdout",
     "output_type": "stream",
     "text": [
      "[1] \"Leftovers from wealth ~ education + stock\"\n"
     ]
    },
    {
     "data": {
      "text/html": [
       "<style>\n",
       ".dl-inline {width: auto; margin:0; padding: 0}\n",
       ".dl-inline>dt, .dl-inline>dd {float: none; width: auto; display: inline-block}\n",
       ".dl-inline>dt::after {content: \":\\0020\"; padding-right: .5ex}\n",
       ".dl-inline>dt:not(:first-of-type) {padding-left: .5ex}\n",
       "</style><dl class=dl-inline><dt>1</dt><dd>-793048.45</dd><dt>2</dt><dd>-528194.35</dd><dt>3</dt><dd>-808343.45</dd><dt>4</dt><dd>-179548.45</dd><dt>5</dt><dd>-405023.45</dd><dt>6</dt><dd>108625.65</dd></dl>\n"
      ],
      "text/latex": [
       "\\begin{description*}\n",
       "\\item[1] -793048.45\n",
       "\\item[2] -528194.35\n",
       "\\item[3] -808343.45\n",
       "\\item[4] -179548.45\n",
       "\\item[5] -405023.45\n",
       "\\item[6] 108625.65\n",
       "\\end{description*}\n"
      ],
      "text/markdown": [
       "1\n",
       ":   -793048.452\n",
       ":   -528194.353\n",
       ":   -808343.454\n",
       ":   -179548.455\n",
       ":   -405023.456\n",
       ":   108625.65\n",
       "\n"
      ],
      "text/plain": [
       "        1         2         3         4         5         6 \n",
       "-793048.4 -528194.3 -808343.4 -179548.5 -405023.5  108625.6 "
      ]
     },
     "metadata": {},
     "output_type": "display_data"
    },
    {
     "name": "stdout",
     "output_type": "stream",
     "text": [
      "[1] \"Leftovers from financial asset ~ education + stock\"\n"
     ]
    },
    {
     "data": {
      "text/html": [
       "<style>\n",
       ".dl-inline {width: auto; margin:0; padding: 0}\n",
       ".dl-inline>dt, .dl-inline>dd {float: none; width: auto; display: inline-block}\n",
       ".dl-inline>dt::after {content: \":\\0020\"; padding-right: .5ex}\n",
       ".dl-inline>dt:not(:first-of-type) {padding-left: .5ex}\n",
       "</style><dl class=dl-inline><dt>1</dt><dd>-71282.24093</dd><dt>2</dt><dd>-34612.97832</dd><dt>3</dt><dd>-71502.24093</dd><dt>4</dt><dd>-69207.24093</dd><dt>5</dt><dd>-66257.24093</dd><dt>6</dt><dd>-41742.97832</dd></dl>\n"
      ],
      "text/latex": [
       "\\begin{description*}\n",
       "\\item[1] -71282.24093\n",
       "\\item[2] -34612.97832\n",
       "\\item[3] -71502.24093\n",
       "\\item[4] -69207.24093\n",
       "\\item[5] -66257.24093\n",
       "\\item[6] -41742.97832\n",
       "\\end{description*}\n"
      ],
      "text/markdown": [
       "1\n",
       ":   -71282.240932\n",
       ":   -34612.978323\n",
       ":   -71502.240934\n",
       ":   -69207.240935\n",
       ":   -66257.240936\n",
       ":   -41742.97832\n",
       "\n"
      ],
      "text/plain": [
       "        1         2         3         4         5         6 \n",
       "-71282.24 -34612.98 -71502.24 -69207.24 -66257.24 -41742.98 "
      ]
     },
     "metadata": {},
     "output_type": "display_data"
    },
    {
     "name": "stdout",
     "output_type": "stream",
     "text": [
      "[1] \"Average Leftovers from financial asset ~ education + stock\"\n"
     ]
    },
    {
     "data": {
      "text/html": [
       "0"
      ],
      "text/latex": [
       "0"
      ],
      "text/markdown": [
       "0"
      ],
      "text/plain": [
       "[1] 0"
      ]
     },
     "metadata": {},
     "output_type": "display_data"
    }
   ],
   "source": [
    "risk_reg1 <- lm(wealth ~ gender + Education + stock, data = SFS_data)\n",
    "# regress wealth on education and stock\n",
    "\n",
    "print(\"Leftovers from wealth ~ education + stock\")\n",
    "head(round(risk_reg1$residuals,2))\n",
    "#peek at the leftover part of wealth\n",
    "\n",
    "risk_reg2 <- lm(financial_asset ~ gender + Education + stock, data = SFS_data)\n",
    "# regress financial asset on education and stock\n",
    "\n",
    "print(\"Leftovers from financial asset ~ education + stock\")\n",
    "head(round(risk_reg2$residuals,5))\n",
    "#peek at the leftover part of financial asset\n",
    "\n",
    "print(\"Average Leftovers from financial asset ~ education + stock\")\n",
    "round(mean(risk_reg2$residuals),5)\n",
    "#look at the average residual!"
   ]
  },
  {
   "cell_type": "markdown",
   "id": "93896db1-1828-4586-9794-fac65793078a",
   "metadata": {},
   "source": [
    "As you can see, the residual from regressing ``financial_asset ~ gender + Education + stock`` is exactly (to machine precision) zero.  In other words, one you \"control\" for ``gender``, ``Education`` and ``stock`` *there's nothing left to explain* about ``financial_asset``.\n",
    "\n",
    "If we think about this, it makes sense: you can only have a \"stock\" if you have financial assets!  So, if I tell you what value \"stock\" takes on, you will immediately know whether or not I have financial assets or not.  This means the multiple regression, in the final step, would be trying to solve this equation:\n",
    "\n",
    "$$\\hat{u_i} = \\delta_0 + \\delta_1 0 + \\eta_i$$\n",
    "\n",
    "Which does not have a unique solution for $\\delta_1$, meaning the regression model isn't well-posed.  R tries to \"fix\" this problem by getting rid of some variables, but this usually indicates that our model wasn't set-up properly in the first place.\n",
    "\n",
    "The lesson is that we can't just include controls without thinking about them; we have to pay close attention to their role in our model, and their relationship to other variables.\n",
    "\n",
    "For example, a *better* way to do this would be to just include ``stock`` instead of both ``financial_assets`` and ``stock``.  "
   ]
  },
  {
   "cell_type": "markdown",
   "id": "4b9695fe-d30f-4fad-acd7-37d917813576",
   "metadata": {},
   "source": [
    "You can also include different sets of controls in your model; often adding different \"layers\" of controls is a very good way to understand how different variables interact and affect your conclusions.  Here's an example, adding on several different \"layers\" of controls:"
   ]
  },
  {
   "cell_type": "code",
   "execution_count": 40,
   "id": "7925a929-42e0-4b60-82d9-5e24b403a89d",
   "metadata": {},
   "outputs": [
    {
     "name": "stdout",
     "output_type": "stream",
     "text": [
      "\n",
      "Comparison of Controls\n",
      "====================================================================================================\n",
      "                                                         Dependent variable:                        \n",
      "                                  ------------------------------------------------------------------\n",
      "                                                                wealth                              \n",
      "                                        (1)              (2)             (3)              (4)       \n",
      "----------------------------------------------------------------------------------------------------\n",
      "genderFemale                      -235,285.600***  -268,577.200*** -218,122.600***  -136,676.000*** \n",
      "                                    (35,393.790)    (34,698.120)     (34,752.560)     (47,792.370)  \n",
      "                                                                                                    \n",
      "EducationUniversity                                729,836.800***   595,206.400***   351,564.800*** \n",
      "                                                    (35,030.910)     (35,237.140)     (47,137.570)  \n",
      "                                                                                                    \n",
      "risk_proxy                                                         2,267,520.000*** 1,658,060.000***\n",
      "                                                                     (91,118.800)    (110,410.900)  \n",
      "                                                                                                    \n",
      "businessNo                                                                          -766,092.600*** \n",
      "                                                                                      (53,820.690)  \n",
      "                                                                                                    \n",
      "provinceAlberta                                                                       107,680.500   \n",
      "                                                                                     (121,079.000)  \n",
      "                                                                                                    \n",
      "provinceQuebec                                                                        126,537.300   \n",
      "                                                                                     (120,604.500)  \n",
      "                                                                                                    \n",
      "provinceOntario                                                                      378,492.500*** \n",
      "                                                                                     (116,657.700)  \n",
      "                                                                                                    \n",
      "provinceNewfoundland and Labrador                                                      -7,313.570   \n",
      "                                                                                     (164,039.700)  \n",
      "                                                                                                    \n",
      "provinceNew Brunswick                                                                 -115,655.100  \n",
      "                                                                                     (164,930.500)  \n",
      "                                                                                                    \n",
      "provinceBritish Columbia                                                              181,733.200   \n",
      "                                                                                     (124,779.100)  \n",
      "                                                                                                    \n",
      "provinceSaskatchewan                                                                  216,444.000   \n",
      "                                                                                     (140,254.400)  \n",
      "                                                                                                    \n",
      "provinceManitoba                                                                       72,161.790   \n",
      "                                                                                     (149,616.500)  \n",
      "                                                                                                    \n",
      "provincePrince Edward Island                                                           25,731.480   \n",
      "                                                                                     (211,592.200)  \n",
      "                                                                                                    \n",
      "credit_limit                                                                            4.568***    \n",
      "                                                                                        (0.181)     \n",
      "                                                                                                    \n",
      "Constant                          1,128,034.000*** 865,841.700***   791,902.300***  1,145,053.000***\n",
      "                                    (22,314.810)    (25,217.640)     (25,612.510)    (120,901.000)  \n",
      "                                                                                                    \n",
      "----------------------------------------------------------------------------------------------------\n",
      "Observations                           10,141          10,141           9,798            5,509      \n",
      "R2                                     0.004            0.045           0.100            0.231      \n",
      "====================================================================================================\n",
      "Note:                                                                    *p<0.1; **p<0.05; ***p<0.01\n"
     ]
    }
   ],
   "source": [
    "regression1 <- lm(wealth ~ gender, data = SFS_data)\n",
    "regression2 <- lm(wealth ~ gender + Education, data = SFS_data)\n",
    "regression3 <- lm(wealth ~ gender + Education + risk_proxy, data = SFS_data)\n",
    "regression4 <- lm(wealth ~ gender + Education + risk_proxy + business + province + credit_limit, data = SFS_data)\n",
    "\n",
    "stargazer(regression1, regression2, regression3, regression4, title=\"Comparison of Controls\",\n",
    "          align = TRUE, type=\"text\", keep.stat = c(\"n\",\"rsq\"))"
   ]
  },
  {
   "cell_type": "markdown",
   "id": "55675ad5-cdd0-4a1f-a03e-41df708e2655",
   "metadata": {},
   "source": [
    "A pretty big table!  Often, when we want to focus on just a single variable, we will simplify the table by just explaining which controls are included.  Here's an example which is much easier to read; it uses some formatting tricks which you don't need to worry about right now:"
   ]
  },
  {
   "cell_type": "code",
   "execution_count": 41,
   "id": "e3a2f808-3eac-4d93-9ee2-9c807b60b230",
   "metadata": {},
   "outputs": [
    {
     "name": "stdout",
     "output_type": "stream",
     "text": [
      "\n",
      "Comparison of Controls\n",
      "=====================================================================================\n",
      "                                          Dependent variable:                        \n",
      "                   ------------------------------------------------------------------\n",
      "                                                 wealth                              \n",
      "                         (1)              (2)             (3)              (4)       \n",
      "-------------------------------------------------------------------------------------\n",
      "genderFemale       -235,285.600***  -268,577.200*** -218,122.600***  -136,676.000*** \n",
      "                     (35,393.790)    (34,698.120)     (34,752.560)     (47,792.370)  \n",
      "                                                                                     \n",
      "risk_proxy                                          2,267,520.000*** 1,658,060.000***\n",
      "                                                      (91,118.800)    (110,410.900)  \n",
      "                                                                                     \n",
      "businessNo                                                           -766,092.600*** \n",
      "                                                                       (53,820.690)  \n",
      "                                                                                     \n",
      "credit_limit                                                             4.568***    \n",
      "                                                                         (0.181)     \n",
      "                                                                                     \n",
      "Constant           1,128,034.000*** 865,841.700***   791,902.300***  1,145,053.000***\n",
      "                     (22,314.810)    (25,217.640)     (25,612.510)    (120,901.000)  \n",
      "                                                                                     \n",
      "-------------------------------------------------------------------------------------\n",
      "Education Controls        No              Yes             Yes              Yes       \n",
      "Province Controls         No              No               No              Yes       \n",
      "Observations            10,141          10,141           9,798            5,509      \n",
      "R2                      0.004            0.045           0.100            0.231      \n",
      "=====================================================================================\n",
      "Note:                                                     *p<0.1; **p<0.05; ***p<0.01\n"
     ]
    }
   ],
   "source": [
    "var_omit = c(\"(province)\\\\w+\",\"(Education)\\\\w+\") #don't worry about this right now!\n",
    "\n",
    "stargazer(regression1, regression2, regression3, regression4, title=\"Comparison of Controls\",\n",
    "          align = TRUE, type=\"text\", keep.stat = c(\"n\",\"rsq\"), \n",
    "          omit = var_omit,\n",
    "          add.lines = list(c(\"Education Controls\", \"No\", \"Yes\", \"Yes\", \"Yes\"),\n",
    "                           c(\"Province Controls\", \"No\", \"No\", \"No\", \"Yes\")))\n",
    "\n",
    "#this is very advanced code; don't worry about it right now; we will come back to it at the end of the course"
   ]
  },
  {
   "cell_type": "markdown",
   "id": "dc676517-c620-4bb2-8027-3489f6524c04",
   "metadata": {},
   "source": [
    "Notice in the above how the coefficients change when we change the included control variables.  Understanding this kind of variation is really important to interpreting a model, and whether or not the results are credible.  For example - ask yourself why the gender-wealth gap decreases as we include more control variables.  What do you think?\n",
    "\n",
    "### Omitted Variables\n",
    "\n",
    "Another important topic comes up in the context of multiple regression: **omitted variables**.  In a simple regression, this didn't really mean anything, but now it does.  When we have a large number of variables in a dataset, which ones do we include in our regression?  All of them?  Some of them?\n",
    "\n",
    "This is actually a very important problem, since it has crucial implication for the interpretation of our model.  For example, remember Assumption 1?  This is a statement about the \"true\" model - not what you are actually running.  It can very easily be violated when variables aren't included.\n",
    "\n",
    "We will revisit this later in the course, since it only really makes sense in the context of causal models, but for now we should pay close attention to which variables we are including and why.  Let's explore this, using the exercises."
   ]
  },
  {
   "cell_type": "markdown",
   "id": "840e062f-8bf2-4a97-b208-4893d6a8a361",
   "metadata": {},
   "source": [
    "## Part 3: Exercises\n",
    "\n",
    "\n",
    "### Theoretical Activity 1\n",
    "\n",
    "Suppose you have a regression model that looks like:\n",
    "\n",
    "$$Y_i = \\beta_0 + \\beta_1 X_{i} + \\beta_2 D_{i} + \\epsilon_i$$\n",
    "\n",
    "Where $D_i$ is a dummy variable.  Recall that Assumption 1 implies that $E[\\epsilon_i|D_{i}, X_{i}] = 0$.  Suppose this assumption holds true.  Answer the following:\n",
    "\n",
    "1.  Compute $E[Y_i|X_i,D_i=1]$ and $E[Y_i|X_i,D_i=0]$\n",
    "2.  What is the difference between these two terms?\n",
    "3.  Interpret what the coefficient $\\beta_2$ means in this regression, using your answers above.\n",
    "\n",
    "#### Theoretical Answer 1\n",
    "\n",
    "**Complete the Exercise**: Carefully write your solutions in the box below.  Use mathematical notation where appropriate, and explain your results."
   ]
  },
  {
   "cell_type": "markdown",
   "id": "6c2cdb2b-1dde-4f62-990d-d7f1d1852552",
   "metadata": {},
   "source": [
    "**TA 1 Answer**: <font color=\"red\">Answer in red here</font>"
   ]
  },
  {
   "cell_type": "markdown",
   "id": "fc4fd60e-c91f-495f-bf7c-62fc5e2cf799",
   "metadata": {},
   "source": [
    "Answer: 1. $E[Y_i|X_i,D_i=1]=\\beta_{0}+\\beta_{1}E[X_{i}|X_{i},D_{i}=1]+\\beta_{2}$ \n",
    "\n",
    "$E[Y_i|X_i,D_i=0]=\\beta_{0}+\\beta_{1}E[X_{i}|X_{i},D_{i}=0]$\n",
    "\n",
    "2. \n",
    "\\begin{equation} \n",
    "\\begin{split}\n",
    "& E[E[Y_i|X_i,D_i=1]-E[Y_i|X_i,D_i=0]] \\\\\n",
    "& = E[\\beta_{1}(E[X_{i}|X_{i},D_{i}=1]-E[X_{i}|X_{i},D_{i}=0])]+\\beta_{2} \\\\\n",
    " & = \\beta_{1}(E[E[X_{i}|X_{i},D_{i}=1]]-E[E[X_{i}|X_{i},D_{i}=0]])+\\beta_{2}\\\\\n",
    " & = \\beta_{2}\n",
    "\\end{split}\n",
    "\\end{equation}\n",
    "\n",
    "3. $\\beta_{2}$ is the average difference between outcome $Y_{i}$ of dummy variable $D_{i}$ to be 0 and 1."
   ]
  },
  {
   "cell_type": "markdown",
   "id": "fafdef6e-112f-4e7e-a9e3-68d893a57b37",
   "metadata": {},
   "source": [
    "### Practical Activity 1\n",
    "\n",
    "To explore the mechanics of multiple regressions, let's return to the analysis that we did in Module 1; that is, let's re-examine the relationship between the gender income gap and education. \n",
    "\n",
    "Run a simple regression for the gender income gap (with a single regressor) for each education level. Then, run a multiple regression for the gender income gap that includes education as a control.\n",
    "\n",
    "<em>Tested objects:</em> ``reg_LESS`` (simple regression; less than high school), ``reg_HS`` (high school diploma), ``reg_NU`` (Non-university post-secondary), ``reg_U`` (university),  ``reg2`` (multiple regression)."
   ]
  },
  {
   "cell_type": "code",
   "execution_count": 42,
   "id": "544864a3-0aee-4f87-a7b2-76d7172eb40e",
   "metadata": {},
   "outputs": [
    {
     "name": "stdout",
     "output_type": "stream",
     "text": [
      "\n",
      "Comparing Conditional Regressions with Multiple Regression\n",
      "========================================================================\n",
      "                                 Dependent variable:                    \n",
      "             -----------------------------------------------------------\n",
      "                                  income_before_tax                     \n",
      "                  (1)            (2)            (3)            (4)      \n",
      "------------------------------------------------------------------------\n",
      "genderFemale -23,663.400*** -29,719.230*** -33,611.690*** -49,282.000***\n",
      "              (3,748.467)    (3,181.622)    (3,186.523)    (5,491.501)  \n",
      "                                                                        \n",
      "Constant     47,140.710***  81,191.490***  99,335.890***  157,819.100***\n",
      "              (2,290.419)    (1,951.043)    (1,979.630)    (3,586.096)  \n",
      "                                                                        \n",
      "------------------------------------------------------------------------\n",
      "Observations     1,216          2,279          2,819          3,827     \n",
      "R2               0.032          0.037          0.038          0.021     \n",
      "========================================================================\n",
      "Note:                                        *p<0.1; **p<0.05; ***p<0.01\n"
     ]
    },
    {
     "data": {
      "text/plain": [
       "\n",
       "Call:\n",
       "lm(formula = income_before_tax ~ gender + education, data = SFS_data)\n",
       "\n",
       "Residuals:\n",
       "    Min      1Q  Median      3Q     Max \n",
       "-199854  -52854  -17252   29784 3147146 \n",
       "\n",
       "Coefficients:\n",
       "                                       Estimate Std. Error t value Pr(>|t|)    \n",
       "(Intercept)                               52358       3542  14.784  < 2e-16 ***\n",
       "genderFemale                             -37638       2425 -15.519  < 2e-16 ***\n",
       "educationHigh school                      31811       4240   7.503 6.78e-14 ***\n",
       "educationNon-university post-secondary    48532       4096  11.847  < 2e-16 ***\n",
       "educationUniversity                      100495       3932  25.556  < 2e-16 ***\n",
       "---\n",
       "Signif. codes:  0 ‘***’ 0.001 ‘**’ 0.01 ‘*’ 0.05 ‘.’ 0.1 ‘ ’ 1\n",
       "\n",
       "Residual standard error: 119400 on 10136 degrees of freedom\n",
       "Multiple R-squared:  0.09774,\tAdjusted R-squared:  0.09739 \n",
       "F-statistic: 274.5 on 4 and 10136 DF,  p-value: < 2.2e-16\n"
      ]
     },
     "metadata": {},
     "output_type": "display_data"
    },
    {
     "name": "stdout",
     "output_type": "stream",
     "text": [
      "\u001b[32mTest passed\u001b[39m 🥳\n",
      "[1] \"Success!\"\n",
      "\u001b[32mTest passed\u001b[39m 😸\n",
      "[1] \"Success!\"\n",
      "\u001b[32mTest passed\u001b[39m 🎊\n",
      "[1] \"Success!\"\n"
     ]
    }
   ],
   "source": [
    "#Less than high school\n",
    "reg_LESS <- lm(income_before_tax ~ gender, data = filter(SFS_data, education == 'Less than high school'))\n",
    "\n",
    "#High school diploma\n",
    "reg_HS <- lm(income_before_tax ~ gender, data = filter(SFS_data, education == 'High school'))\n",
    "\n",
    "#Non-university post-secondary\n",
    "reg_NU <- lm(income_before_tax ~ gender, data = filter(SFS_data, education == 'Non-university post-secondary'))\n",
    "\n",
    "#University\n",
    "reg_U <- lm(income_before_tax ~ gender, data = filter(SFS_data, education == 'University'))\n",
    "\n",
    "#Multiple regression\n",
    "reg2 <- lm(income_before_tax ~ gender + education, data = SFS_data)\n",
    "\n",
    "#Table comparing regressions\n",
    "stargazer(reg_LESS, reg_HS, reg_NU, reg_U, \n",
    "          title = \"Comparing Conditional Regressions with Multiple Regression\", align = TRUE, type = \"text\", keep.stat = c(\"n\",\"rsq\")) \n",
    "summary(reg2)\n",
    "\n",
    "test_2() #For reg_LESS\n",
    "test_3() #For reg_NU\n",
    "test_4() #For reg2"
   ]
  },
  {
   "cell_type": "markdown",
   "id": "c44aae1b-4601-4a42-a893-bd971b549ab6",
   "metadata": {},
   "source": [
    "#### Short Answer 1\n",
    "**Prompt**: What variable \"value\" appears to be missing from the multiple regression in the table? How can we interpret the average income for the group associated with that value?"
   ]
  },
  {
   "cell_type": "markdown",
   "id": "4c130fd4-fb1f-4ea6-8dee-f8fe6fe08cf6",
   "metadata": {},
   "source": [
    "**SA 1 Answer**: <font color=\"red\">Answer in red here</font>"
   ]
  },
  {
   "cell_type": "markdown",
   "id": "80fabc90-e92c-4303-88aa-42f60c660505",
   "metadata": {},
   "source": [
    "Answer: Education \"less than high school\" is missing from the multiple regression.\n",
    "\n",
    "For households with male as the main earner, the average income is 52,358 dollars. For the female counterpart, the average before-tax income is 14,720 dollars."
   ]
  },
  {
   "cell_type": "markdown",
   "id": "375fb7cc-237c-4b11-a4aa-afed64fae993",
   "metadata": {},
   "source": [
    "#### Short Answer 2\n",
    "Prompt: Compare the coefficient estimates for `gender` across each of the simple regressions. How does the gender income gap appear to vary across education levels? How should we interpret this variation?"
   ]
  },
  {
   "cell_type": "markdown",
   "id": "86a6ebb2-51b3-4ff6-884b-e04bafee8ace",
   "metadata": {},
   "source": [
    "**SA 2 Answer**: <font color=\"red\">Answer in red here</font>"
   ]
  },
  {
   "cell_type": "markdown",
   "id": "0984fd0a-cb68-4fa0-a0ca-f22891050715",
   "metadata": {},
   "source": [
    "Answer: The gender income gap becomes larger as education increases. The gender-income gap of each level of education may come from gender difference in occupations and position levels: as education increases, males may have higher chance to work in higher positions (e.g. managers), while females may have less opportunity."
   ]
  },
  {
   "cell_type": "markdown",
   "id": "271532b5-6560-4524-a010-9ea20d6b66a5",
   "metadata": {},
   "source": [
    "#### Short Answer 3\n",
    "Prompt: Compare the simple regressions' estimates with those of the multiple regression. How does the multiple regression's coefficient estimate on `gender` compare to those estimates in the simple regressions? How can we interpret this? Further, how do we interpret the coefficient estimates on the other regressors in the multiple regression?"
   ]
  },
  {
   "cell_type": "markdown",
   "id": "04a90493-290d-46f1-9051-17286a0b2ad0",
   "metadata": {},
   "source": [
    "**SA 3 Answer**: <font color=\"red\">Answer in red here</font>"
   ]
  },
  {
   "cell_type": "markdown",
   "id": "21235b21-e02f-459b-bb7c-459a3b63e7c8",
   "metadata": {},
   "source": [
    "The coefficient estimate on `gender` of multiple regression is close to the (weighted) average estimates in the simple regressions.\n",
    "\n",
    "In multiple regression, the coefficient means female-lead households on average earn 37,638 dollars less than male counterpart.\n",
    "\n",
    "In multiple regression, the intercept means male-lead households with less than high school degree earn 52,358 dollars on average. For the coefficient of `educationHigh school`, it means if male with high school degree is the main earner, then the average incomes they will earn are $52,358+31,811=84,169$ dollars. Then for female with high school degree, the average before-tax income is $84,169-37,638=46,531$ dollars. We can interpret coefficient estimates of `educationNon-university post-secondary` and `educationUniversity` in a similar way."
   ]
  },
  {
   "cell_type": "markdown",
   "id": "460a5dd8-b7d2-48df-8ce6-d09af9bb0fe6",
   "metadata": {},
   "source": [
    "### Practical Activity 2\n",
    "Consider the multiple regression that we estimated in the previous activity:\n",
    "\n",
    "$$W_i = \\beta_0 + \\beta_1 Gender_i + \\beta_2 S_i + \\epsilon_i$$\n",
    "\n",
    "Note that $Gender_i$ is `gender` and $S_i$ is `education`."
   ]
  },
  {
   "cell_type": "markdown",
   "id": "de4cb458-3c34-4184-93ad-4a0ab1bdfec2",
   "metadata": {},
   "source": [
    "#### Short Answer 4\n",
    "Prompt: Why might we be skeptical of the argument that $\\beta_1$ captures the gender income gap (i.e., the effect of having female as the main earner on household's income, all else being equal)? What can we do to address these concerns?"
   ]
  },
  {
   "cell_type": "markdown",
   "id": "5cd41eb5-cd41-422c-af54-8b7ef782c09e",
   "metadata": {},
   "source": [
    "**SA 4 Answer**: <font color=\"red\">Answer in red here</font>"
   ]
  },
  {
   "cell_type": "markdown",
   "id": "4add9895-b69f-4070-990e-019facd4fb60",
   "metadata": {},
   "source": [
    "Answer: Because there may be omitted variables that correlate with $Gender$. Maybe the omitted variables are the true reasons why there is an income gap, but we since do not control these variables, the coefficient estimate of $Gender$ is not correct.\n",
    "\n",
    "We can find out true factors that contribute to the income gap, and include them in our regression."
   ]
  },
  {
   "cell_type": "markdown",
   "id": "201ac0e0-aede-4ded-ab8e-44fdd37caced",
   "metadata": {},
   "source": [
    "#### Short Answer 5\n",
    "Prompt: Suppose that a member of your research team suggests that we should add `age` as a control in the regression. Do you agree with this group member that this variable would be a good control? Why or why not?"
   ]
  },
  {
   "cell_type": "markdown",
   "id": "2d1ea2e0-5dfd-45b9-aa5a-cb2ef06cda27",
   "metadata": {},
   "source": [
    "**SA 5 Answer**: <font color=\"red\">Answer in red here</font>"
   ]
  },
  {
   "cell_type": "markdown",
   "id": "f65b3e94-d736-437c-9849-d6f5b6772794",
   "metadata": {},
   "source": [
    "Answer: `age` is a good control, because age can affect incomes, and age can correlate with gender of main earners. If our regression omit `age`, the coefficient estimate of `gender` can be biased."
   ]
  },
  {
   "cell_type": "markdown",
   "id": "4c6e557a-fb70-4aa0-9da4-c8c12f950e6b",
   "metadata": {},
   "source": [
    "Let's first simplify levels of age group using following codes."
   ]
  },
  {
   "cell_type": "code",
   "execution_count": 60,
   "id": "a5733e7c-03d6-44bd-9333-0c633ecc7aa2",
   "metadata": {},
   "outputs": [],
   "source": [
    "#Just run this!\n",
    "SFS_data <- \n",
    "        SFS_data %>%\n",
    "        mutate(agegr = case_when(\n",
    "              age == \"01\" ~ \"Under 30\",\n",
    "              age == \"02\" ~ \"Under 30\",\n",
    "              age == \"03\" ~ \"Under 30\",\n",
    "              age == \"04\" ~ \"30-45\",\n",
    "            age == \"05\" ~ \"30-45\",\n",
    "              age == \"06\" ~ \"30-45\",\n",
    "              age == \"07\" ~ \"45-60\",\n",
    "              age == \"08\" ~ \"45-60\",\n",
    "              age == \"09\" ~ \"45-60\",\n",
    "              age == \"10\" ~ \"60-75\",\n",
    "              age == \"11\" ~ \"60-75\",\n",
    "              age == \"12\" ~ \"60-75\",\n",
    "              age == \"13\" ~ \"Above 75\",\n",
    "              age == \"14\" ~ \"Above 75\",\n",
    "              )) %>%\n",
    "        mutate(agegr = as_factor(agegr))\n",
    "\n",
    "SFS_data$agegr <- relevel(SFS_data$agegr, ref = \"Under 30\") #Set \"Under 30\" as default factor level"
   ]
  },
  {
   "cell_type": "markdown",
   "id": "6e73b3e8-5fbc-4beb-b59a-1b56caf8d5b8",
   "metadata": {},
   "source": [
    "Add `agegr` to the given multiple regression and compare it with the model that we estimated in the previous activity.\n",
    "\n",
    "<em>Tested Objects:</em> `reg3` (the same multiple regression that we estimated before, but with age added as a control)."
   ]
  },
  {
   "cell_type": "code",
   "execution_count": 44,
   "id": "f753bca4-61b9-4b8a-8ea0-bdc990fb472b",
   "metadata": {},
   "outputs": [
    {
     "name": "stdout",
     "output_type": "stream",
     "text": [
      "\n",
      "Multiple Regressions with and without Age Controls\n",
      "====================================================================\n",
      "                                            Dependent variable:     \n",
      "                                       -----------------------------\n",
      "                                             income_before_tax      \n",
      "                                            (1)            (2)      \n",
      "--------------------------------------------------------------------\n",
      "genderFemale                           -37,637.690*** -36,300.520***\n",
      "                                        (2,425.333)    (2,369.344)  \n",
      "                                                                    \n",
      "educationHigh school                   31,811.080***  23,452.560*** \n",
      "                                        (4,239.993)    (4,242.900)  \n",
      "                                                                    \n",
      "educationNon-university post-secondary 48,531.640***  35,905.930*** \n",
      "                                        (4,096.373)    (4,150.844)  \n",
      "                                                                    \n",
      "educationUniversity                    100,495.400*** 87,683.250*** \n",
      "                                        (3,932.434)    (3,989.953)  \n",
      "                                                                    \n",
      "agegr45-60                                            77,758.640*** \n",
      "                                                       (4,393.656)  \n",
      "                                                                    \n",
      "agegr60-75                                            30,934.250*** \n",
      "                                                       (4,430.341)  \n",
      "                                                                    \n",
      "agegr30-45                                            38,961.620*** \n",
      "                                                       (4,530.352)  \n",
      "                                                                    \n",
      "agegrAbove 75                                           8,595.037   \n",
      "                                                       (5,276.064)  \n",
      "                                                                    \n",
      "Constant                               52,358.090***  20,915.410*** \n",
      "                                        (3,541.556)    (5,210.362)  \n",
      "                                                                    \n",
      "--------------------------------------------------------------------\n",
      "Observations                               10,141         10,141    \n",
      "R2                                         0.098          0.140     \n",
      "====================================================================\n",
      "Note:                                    *p<0.1; **p<0.05; ***p<0.01\n",
      "\u001b[32mTest passed\u001b[39m 🥳\n",
      "[1] \"Success!\"\n"
     ]
    }
   ],
   "source": [
    "#Add Age as Control\n",
    "#Add them in the order: gender, education, age\n",
    "reg3 <- lm(income_before_tax ~ gender + education + agegr, data = SFS_data)\n",
    "\n",
    "#Compare the regressions with and without this control\n",
    "stargazer(reg2, reg3, \n",
    "          title = \"Multiple Regressions with and without Age Controls\", align = TRUE, type = \"text\", keep.stat = c(\"n\",\"rsq\")) \n",
    "\n",
    "test_5() #For reg3 "
   ]
  },
  {
   "cell_type": "markdown",
   "id": "722d258c-4a05-42cd-bdd3-17c350adbfde",
   "metadata": {},
   "source": [
    "#### Short Answer 6\n",
    "Prompt: Compare the two regressions in the table above. What happens to the estimated gender income gap when we add age as a control? What might explain this effect?"
   ]
  },
  {
   "cell_type": "markdown",
   "id": "d520435b-8dc3-486b-8466-f48b81c62e9f",
   "metadata": {},
   "source": [
    "**SA 6 Answer**: <font color=\"red\">Answer in red here</font>"
   ]
  },
  {
   "cell_type": "markdown",
   "id": "8129a8ab-e9c3-45d7-8fed-c5dece8a4cb7",
   "metadata": {},
   "source": [
    "Answer: After we control age, the estimated gender income gap shrinks. \n",
    "\n",
    "This means some of the income gap may come from difference in age, rather than gender gap."
   ]
  },
  {
   "cell_type": "markdown",
   "id": "290747b6-b87b-4231-a0c2-9e4aadcfab0a",
   "metadata": {},
   "source": [
    "#### Short Answer 7\n",
    "Prompt: Suppose that one of your fellow researchers argues that `employment` (employment status) should be added to the multiple regression as a control. That way, they reason, we can account for differences between employed and unemployed workers. Do you agree with their reasoning? Why or why not?"
   ]
  },
  {
   "cell_type": "markdown",
   "id": "bb3baa90-153f-4b33-bacb-d3af8742a1c5",
   "metadata": {},
   "source": [
    "**SA 7 Answer**: <font color=\"red\">Answer in red here</font>"
   ]
  },
  {
   "cell_type": "markdown",
   "id": "6b20e58a-0371-405c-b203-a23a88689447",
   "metadata": {},
   "source": [
    "Answer: I agree with this reasoning. Because some of the \"gender gap\" may by diluted by the effects of age."
   ]
  },
  {
   "cell_type": "markdown",
   "id": "7aeaba8c-43de-4da9-b449-5ebc567d0dd3",
   "metadata": {},
   "source": [
    "Let's test this argument directly. Add `employment` as a control to the multiple regression with all previous controls. Estimate this new regression (`reg4`)."
   ]
  },
  {
   "cell_type": "code",
   "execution_count": 45,
   "id": "95e0144f-36b3-48a8-8225-6aa2e5e6ce0a",
   "metadata": {},
   "outputs": [
    {
     "data": {
      "text/plain": [
       "\n",
       "Call:\n",
       "lm(formula = income_before_tax ~ gender + education + agegr + \n",
       "    employment, data = SFS_data)\n",
       "\n",
       "Residuals:\n",
       "    Min      1Q  Median      3Q     Max \n",
       "-191458  -47949  -13495   23718 3108542 \n",
       "\n",
       "Coefficients:\n",
       "                                       Estimate Std. Error t value Pr(>|t|)    \n",
       "(Intercept)                               41225       5375   7.670 1.88e-14 ***\n",
       "genderFemale                             -29059       2390 -12.160  < 2e-16 ***\n",
       "educationHigh school                      17992       4296   4.189 2.83e-05 ***\n",
       "educationNon-university post-secondary    27270       4202   6.489 9.07e-11 ***\n",
       "educationUniversity                       77334       4060  19.049  < 2e-16 ***\n",
       "agegr45-60                                72898       4457  16.357  < 2e-16 ***\n",
       "agegr60-75                                58371       4682  12.468  < 2e-16 ***\n",
       "agegr30-45                                32722       4588   7.132 1.06e-12 ***\n",
       "agegrAbove 75                             60900       6006  10.140  < 2e-16 ***\n",
       "employmentDid not work                   -76446       3532 -21.643  < 2e-16 ***\n",
       "employmentPart-time                      -44064       4108 -10.728  < 2e-16 ***\n",
       "---\n",
       "Signif. codes:  0 ‘***’ 0.001 ‘**’ 0.01 ‘*’ 0.05 ‘.’ 0.1 ‘ ’ 1\n",
       "\n",
       "Residual standard error: 114600 on 9877 degrees of freedom\n",
       "  (253 observations deleted due to missingness)\n",
       "Multiple R-squared:  0.1791,\tAdjusted R-squared:  0.1783 \n",
       "F-statistic: 215.5 on 10 and 9877 DF,  p-value: < 2.2e-16\n"
      ]
     },
     "metadata": {},
     "output_type": "display_data"
    }
   ],
   "source": [
    "reg4 <- lm(income_before_tax ~ gender + education + agegr + employment, data = SFS_data)\n",
    "\n",
    "summary(reg4)"
   ]
  },
  {
   "cell_type": "markdown",
   "id": "11f9e31c-4a78-4b89-a19d-8461ef8b26bb",
   "metadata": {},
   "source": [
    "#### Short Answer 8\n",
    "Prompt: What happened when we tried to run the regression with `employment`? Does this \"result\" agree or disagree with your explanation in Short Answer 7?"
   ]
  },
  {
   "cell_type": "markdown",
   "id": "23ca7294-f457-4e64-a53f-81aa62cbb694",
   "metadata": {},
   "source": [
    "**SA 8 Answer**: <font color=\"red\">Answer in red here</font>"
   ]
  },
  {
   "cell_type": "markdown",
   "id": "32a3d945-2a93-4eb9-8366-61f13f808d54",
   "metadata": {},
   "source": [
    "Answer: When we run regression with `employment`, the gender income gap shrinks even more. \n",
    "\n",
    "This result agree with my explanation in Short Answer 7, which means `employment` explains part of the income gap."
   ]
  },
  {
   "cell_type": "markdown",
   "id": "4282f48e-4056-4494-85a5-a9455e59449e",
   "metadata": {},
   "source": [
    "### Practical Activity 3"
   ]
  },
  {
   "cell_type": "markdown",
   "id": "284dcf25-b020-4b02-a584-16c4eb70cb6d",
   "metadata": {},
   "source": [
    "In the middle of your team's discussion of which controls they should add to the multiple regression (the same one as the previous activity), your roommate bursts into the room and yells \"Just add them all!\" After a moment of confused silence, the roommate elaborates that it never hurts to add controls as long as they don't \"break\" the regression (like `employment` and `agegr`). \"Data is hard to come by, so we should use as much of it as we can get,\" he says.\n",
    "\n",
    "Recall: Below are all of the variables in the dataset."
   ]
  },
  {
   "cell_type": "code",
   "execution_count": 46,
   "id": "a2154e71-1d6a-482f-8c15-5011d9fc2500",
   "metadata": {},
   "outputs": [
    {
     "name": "stdout",
     "output_type": "stream",
     "text": [
      "Rows: 10,141\n",
      "Columns: 105\n",
      "$ pefamid           \u001b[3m\u001b[90m<chr>\u001b[39m\u001b[23m \"00014\", \"00017\", \"00025\", \"00032\", \"00034\", \"00037\"…\n",
      "$ pweight           \u001b[3m\u001b[90m<dbl>\u001b[39m\u001b[23m 634.8358, 671.6546, 1367.6644, 2824.0936, 1106.1072,…\n",
      "$ age               \u001b[3m\u001b[90m<fct>\u001b[39m\u001b[23m 08, 12, 04, 10, 14, 14, 14, 13, 10, 14, 13, 08, 14, …\n",
      "$ PAS1MRAG          \u001b[3m\u001b[90m<dbl+lbl>\u001b[39m\u001b[23m NA, NA, NA, NA, NA, NA, NA, NA, NA, NA, NA, NA, …\n",
      "$ PAS1MRG1          \u001b[3m\u001b[90m<dbl+lbl>\u001b[39m\u001b[23m NA, NA, NA, NA, NA, NA, NA, NA, NA, NA, NA, NA, …\n",
      "$ PAS1MRG2          \u001b[3m\u001b[90m<dbl+lbl>\u001b[39m\u001b[23m NA, NA, NA, NA, NA, NA, NA, NA, NA, NA, NA, NA, …\n",
      "$ PASR1MFA          \u001b[3m\u001b[90m<dbl+lbl>\u001b[39m\u001b[23m NA, NA, NA, NA, NA, NA, NA, NA, NA, NA, NA, NA, …\n",
      "$ PASR1MR           \u001b[3m\u001b[90m<dbl+lbl>\u001b[39m\u001b[23m NA, NA, NA,  2, NA, NA, NA, NA, NA, NA,  2, NA, …\n",
      "$ pasrbuyg          \u001b[3m\u001b[90m<dbl+lbl>\u001b[39m\u001b[23m  6, NA, NA,  5,  2,  5,  5, NA, NA, NA,  3,  4, …\n",
      "$ pasrcnmg          \u001b[3m\u001b[90m<dbl+lbl>\u001b[39m\u001b[23m NA, NA, NA, NA, NA, NA, NA, NA, NA, NA, NA, NA, …\n",
      "$ pasrcon           \u001b[3m\u001b[90m<dbl+lbl>\u001b[39m\u001b[23m 2, 2, 2, 2, 2, 2, 2, 2, 2, 2, 2, 2, 2, 2, 2, 1, …\n",
      "$ pasrcst           \u001b[3m\u001b[90m<dbl+lbl>\u001b[39m\u001b[23m     NA,     NA,     NA, 135000,  14500, 135000, …\n",
      "$ pasrcurg          \u001b[3m\u001b[90m<dbl+lbl>\u001b[39m\u001b[23m NA, NA, NA,  6, NA, NA, NA, NA, NA, NA,  2, NA, …\n",
      "$ PASRDPO1          \u001b[3m\u001b[90m<dbl+lbl>\u001b[39m\u001b[23m NA, NA, NA,  2,  1,  2, NA, NA, NA, NA,  1,  2, …\n",
      "$ PASRDPO2          \u001b[3m\u001b[90m<dbl+lbl>\u001b[39m\u001b[23m NA, NA, NA,  1,  2,  1, NA, NA, NA, NA,  2,  1, …\n",
      "$ PASRDPO3          \u001b[3m\u001b[90m<dbl+lbl>\u001b[39m\u001b[23m NA, NA, NA,  2,  2,  1, NA, NA, NA, NA,  2,  2, …\n",
      "$ PASRDPO4          \u001b[3m\u001b[90m<dbl+lbl>\u001b[39m\u001b[23m NA, NA, NA,  2,  2,  2, NA, NA, NA, NA,  2,  2, …\n",
      "$ PASRDPO5          \u001b[3m\u001b[90m<dbl+lbl>\u001b[39m\u001b[23m NA, NA, NA,  2,  2,  2, NA, NA, NA, NA,  2,  2, …\n",
      "$ pasrdwng          \u001b[3m\u001b[90m<dbl+lbl>\u001b[39m\u001b[23m NA, NA, NA,  2,  2,  9, NA, NA, NA, NA,  2,  8, …\n",
      "$ pasrfnmg          \u001b[3m\u001b[90m<dbl+lbl>\u001b[39m\u001b[23m NA, NA, NA, NA, NA, NA, NA, NA, NA, NA, NA, NA, …\n",
      "$ pasrint           \u001b[3m\u001b[90m<dbl+lbl>\u001b[39m\u001b[23m NA, NA, NA,  1, NA, NA, NA, NA, NA, NA,  1, NA, …\n",
      "$ pasrintg          \u001b[3m\u001b[90m<chr>\u001b[39m\u001b[23m \"96\", \"96\", \"96\", \"06\", \"96\", \"96\", \"96\", \"96\", \"96\"…\n",
      "$ pasrmoag          \u001b[3m\u001b[90m<dbl+lbl>\u001b[39m\u001b[23m NA, NA, NA,  1, NA, NA, NA, NA, NA, NA,  3, NA, …\n",
      "$ pasrmpfg          \u001b[3m\u001b[90m<dbl+lbl>\u001b[39m\u001b[23m NA, NA, NA,  3, NA, NA, NA, NA, NA, NA,  5, NA, …\n",
      "$ pasrmryg          \u001b[3m\u001b[90m<dbl+lbl>\u001b[39m\u001b[23m   NA,   NA,   NA, 2022,   NA,   NA,   NA,   NA, …\n",
      "$ pasrrntg          \u001b[3m\u001b[90m<dbl+lbl>\u001b[39m\u001b[23m  2, NA, NA,  2,  2,  2,  2, NA, NA, NA,  2,  2, …\n",
      "$ pasrskp           \u001b[3m\u001b[90m<dbl+lbl>\u001b[39m\u001b[23m NA, NA, NA,  2, NA, NA, NA, NA, NA, NA,  1, NA, …\n",
      "$ pattcrc           \u001b[3m\u001b[90m<dbl+lbl>\u001b[39m\u001b[23m 2, 2, 2, 1, 1, 1, 2, 1, 1, 2, 1, 1, 1, 1, 1, 1, …\n",
      "$ pattcrlm          \u001b[3m\u001b[90m<dbl+lbl>\u001b[39m\u001b[23m    NA,    NA,    NA, 10000, 15500, 17000,    NA,…\n",
      "$ pattcrr           \u001b[3m\u001b[90m<dbl+lbl>\u001b[39m\u001b[23m  2,  1,  1, NA, NA, NA,  2, NA, NA,  2, NA, NA, …\n",
      "$ pattcru           \u001b[3m\u001b[90m<dbl+lbl>\u001b[39m\u001b[23m NA, NA, NA,  4,  4,  4, NA,  4,  3, NA,  4,  4, …\n",
      "$ pattdif           \u001b[3m\u001b[90m<dbl+lbl>\u001b[39m\u001b[23m NA, NA,  1, NA, NA, NA, NA, NA, NA, NA, NA, NA, …\n",
      "$ pattlcp           \u001b[3m\u001b[90m<dbl+lbl>\u001b[39m\u001b[23m NA, NA, NA,  3, NA,  3, NA,  3, NA, NA,  5,  4, …\n",
      "$ pattlcr           \u001b[3m\u001b[90m<dbl+lbl>\u001b[39m\u001b[23m 2, 2, 2, 1, 2, 1, 2, 1, 2, 2, 1, 1, 2, 1, 1, 2, …\n",
      "$ pattpayd          \u001b[3m\u001b[90m<dbl+lbl>\u001b[39m\u001b[23m 2, 2, 2, 2, 2, 2, 2, 2, 2, 2, 2, 2, 2, 2, 2, 2, …\n",
      "$ pattrsa           \u001b[3m\u001b[90m<dbl+lbl>\u001b[39m\u001b[23m  2, NA, NA,  1,  1, NA, NA,  1, NA, NA,  2,  2, …\n",
      "$ pattrsh           \u001b[3m\u001b[90m<dbl+lbl>\u001b[39m\u001b[23m  2, NA, NA,  2,  2, NA, NA,  2, NA, NA,  2,  2, …\n",
      "$ pattrsl           \u001b[3m\u001b[90m<dbl+lbl>\u001b[39m\u001b[23m  2, NA, NA,  2,  2, NA, NA,  2, NA, NA,  2,  2, …\n",
      "$ pattrsp           \u001b[3m\u001b[90m<dbl+lbl>\u001b[39m\u001b[23m 1, 2, 2, 1, 1, 2, 2, 1, 2, 2, 1, 1, 1, 1, 1, 2, …\n",
      "$ pattrsr           \u001b[3m\u001b[90m<dbl+lbl>\u001b[39m\u001b[23m  2, NA, NA,  2,  2, NA, NA,  2, NA, NA,  1,  2, …\n",
      "$ pattstin          \u001b[3m\u001b[90m<dbl+lbl>\u001b[39m\u001b[23m 1, 3, 1, 3, 3, 3, 3, 3, 2, 3, 3, 1, 3, 1, 1, 1, …\n",
      "$ pattskp           \u001b[3m\u001b[90m<dbl+lbl>\u001b[39m\u001b[23m 2, 2, 1, 2, 2, 2, 2, 2, 2, 2, 2, 2, 2, 2, 2, 2, …\n",
      "$ credit_limit      \u001b[3m\u001b[90m<dbl+lbl>\u001b[39m\u001b[23m     NA,     NA,     NA,   4300,     NA,  95000, …\n",
      "$ business          \u001b[3m\u001b[90m<fct>\u001b[39m\u001b[23m No, No, No, No, No, No, No, No, No, No, No, No, Yes,…\n",
      "$ pdwtyp            \u001b[3m\u001b[90m<chr>\u001b[39m\u001b[23m \"3\", \"1\", \"3\", \"1\", \"1\", \"1\", \"1\", \"1\", \"1\", \"3\", \"1…\n",
      "$ education         \u001b[3m\u001b[90m<fct>\u001b[39m\u001b[23m Less than high school, Less than high school, Less t…\n",
      "$ income_after_tax  \u001b[3m\u001b[90m<dbl+lbl>\u001b[39m\u001b[23m  39150,  18850,  25825,  67900,  37175,  40700, …\n",
      "$ pefgtr            \u001b[3m\u001b[90m<dbl+lbl>\u001b[39m\u001b[23m  5000, 18500, 20000, 10500, 18500, 30000, 21000,…\n",
      "$ pefmjsif          \u001b[3m\u001b[90m<chr>\u001b[39m\u001b[23m \"02\", \"04\", \"04\", \"02\", \"06\", \"04\", \"04\", \"04\", \"02\"…\n",
      "$ income_before_tax \u001b[3m\u001b[90m<dbl+lbl>\u001b[39m\u001b[23m  38000,    350,   6250,  67500,  23000,  11000, …\n",
      "$ PEXMG1A           \u001b[3m\u001b[90m<dbl+lbl>\u001b[39m\u001b[23m   NA,   NA,   NA,  500,   NA,   NA,   NA,   NA, …\n",
      "$ PEXMG1F           \u001b[3m\u001b[90m<dbl+lbl>\u001b[39m\u001b[23m NA, NA, NA,  1, NA, NA, NA, NA, NA, NA,  1, NA, …\n",
      "$ pfcrn             \u001b[3m\u001b[90m<chr>\u001b[39m\u001b[23m \"4\", \"4\", \"4\", \"1\", \"2\", \"1\", \"4\", \"2\", \"2\", \"4\", \"3…\n",
      "$ pfmtypg           \u001b[3m\u001b[90m<chr>\u001b[39m\u001b[23m \"2\", \"2\", \"3\", \"2\", \"1\", \"4\", \"1\", \"1\", \"2\", \"1\", \"1…\n",
      "$ pfrspst           \u001b[3m\u001b[90m<chr>\u001b[39m\u001b[23m \"1\", \"3\", \"3\", \"2\", \"2\", \"3\", \"3\", \"2\", \"3\", \"3\", \"2…\n",
      "$ pfsz              \u001b[3m\u001b[90m<dbl+lbl>\u001b[39m\u001b[23m 2, 2, 2, 2, 1, 2, 1, 1, 2, 1, 1, 2, 2, 2, 2, 2, …\n",
      "$ PFSZ0017          \u001b[3m\u001b[90m<chr>\u001b[39m\u001b[23m \"2\", \"2\", \"1\", \"2\", \"2\", \"2\", \"2\", \"2\", \"2\", \"2\", \"2…\n",
      "$ PFSZ1824          \u001b[3m\u001b[90m<chr>\u001b[39m\u001b[23m \"2\", \"2\", \"2\", \"2\", \"2\", \"2\", \"2\", \"2\", \"2\", \"2\", \"2…\n",
      "$ PFSZ2544          \u001b[3m\u001b[90m<chr>\u001b[39m\u001b[23m \"2\", \"2\", \"1\", \"2\", \"2\", \"2\", \"2\", \"2\", \"2\", \"2\", \"2…\n",
      "$ PFSZ4564          \u001b[3m\u001b[90m<chr>\u001b[39m\u001b[23m \"1\", \"2\", \"2\", \"1\", \"2\", \"1\", \"2\", \"2\", \"1\", \"2\", \"2…\n",
      "$ PFSZ65UP          \u001b[3m\u001b[90m<chr>\u001b[39m\u001b[23m \"2\", \"1\", \"2\", \"2\", \"1\", \"1\", \"1\", \"1\", \"2\", \"1\", \"1…\n",
      "$ pftenur           \u001b[3m\u001b[90m<dbl+lbl>\u001b[39m\u001b[23m 1, 3, 3, 2, 1, 1, 1, 3, 3, 3, 2, 1, 1, 1, 1, 2, …\n",
      "$ pinhert           \u001b[3m\u001b[90m<dbl+lbl>\u001b[39m\u001b[23m    700,     NA,  10500,  22000,     NA,     NA, …\n",
      "$ plfchrme          \u001b[3m\u001b[90m<chr>\u001b[39m\u001b[23m \"1\", \"6\", \"6\", \"6\", \"6\", \"6\", \"6\", \"6\", \"2\", \"6\", \"6…\n",
      "$ employment        \u001b[3m\u001b[90m<fct>\u001b[39m\u001b[23m Full-time, NA, Did not work, Did not work, Did not w…\n",
      "$ plfpdmeg          \u001b[3m\u001b[90m<chr>\u001b[39m\u001b[23m \"1\", \"6\", \"6\", \"6\", \"6\", \"6\", \"6\", \"6\", \"1\", \"6\", \"6…\n",
      "$ pnbearg           \u001b[3m\u001b[90m<dbl+lbl>\u001b[39m\u001b[23m  2,  0,  1,  2,  0,  1,  0,  0,  2,  0,  0,  2, …\n",
      "$ province          \u001b[3m\u001b[90m<fct>\u001b[39m\u001b[23m Nova Scotia, Alberta, Quebec, Ontario, Alberta, Onta…\n",
      "$ pregion           \u001b[3m\u001b[90m<chr>\u001b[39m\u001b[23m \"1\", \"4\", \"2\", \"3\", \"4\", \"3\", \"2\", \"2\", \"1\", \"2\", \"3…\n",
      "$ pretirme          \u001b[3m\u001b[90m<chr>\u001b[39m\u001b[23m \"2\", \"6\", \"6\", \"1\", \"1\", \"1\", \"6\", \"1\", \"2\", \"6\", \"1…\n",
      "$ gender            \u001b[3m\u001b[90m<fct>\u001b[39m\u001b[23m Male, Female, Male, Male, Male, Female, Female, Male…\n",
      "$ pwaotpen          \u001b[3m\u001b[90m<dbl>\u001b[39m\u001b[23m 0, 0, 0, 0, 325, 0, 0, 0, 0, 0, 0, 0, 0, 0, 0, 0, 0,…\n",
      "$ pwaprval          \u001b[3m\u001b[90m<dbl>\u001b[39m\u001b[23m 16500, 0, 0, 300000, 200000, 350000, 72500, 0, 0, 0,…\n",
      "$ pwarppg           \u001b[3m\u001b[90m<dbl>\u001b[39m\u001b[23m 0, 60000, 0, 90000, 120000, 370000, 0, 0, 0, 0, 0, 3…\n",
      "$ pwarppt           \u001b[3m\u001b[90m<dbl>\u001b[39m\u001b[23m 0, 57500, 0, 90000, 125000, 380000, 0, 0, 0, 0, 0, 3…\n",
      "$ pwarrif           \u001b[3m\u001b[90m<dbl>\u001b[39m\u001b[23m 0, 0, 0, 87500, 77500, 9500, 0, 95000, 0, 0, 0, 0, 0…\n",
      "$ pwarrspl          \u001b[3m\u001b[90m<dbl>\u001b[39m\u001b[23m 525, 0, 0, 200000, 0, 0, 0, 0, 0, 0, 0, 70000, 0, 40…\n",
      "$ pwastbnd          \u001b[3m\u001b[90m<dbl>\u001b[39m\u001b[23m 0, 0, 0, 0, 0, 0, 0, 0, 0, 0, 0, 0, 0, 0, 0, 0, 0, 0…\n",
      "$ pwastdep          \u001b[3m\u001b[90m<dbl>\u001b[39m\u001b[23m 225, 10000, 5, 2300, 5250, 70, 0, 18000, 250, 5, 0, …\n",
      "$ pwastmui          \u001b[3m\u001b[90m<dbl>\u001b[39m\u001b[23m 0, 0, 0, 0, 0, 0, 0, 0, 0, 0, 0, 0, 0, 0, 0, 0, 0, 0…\n",
      "$ pwastoin          \u001b[3m\u001b[90m<dbl>\u001b[39m\u001b[23m 0, 0, 0, 0, 0, 2800, 0, 0, 0, 0, 0, 0, 0, 0, 0, 4000…\n",
      "$ pwastonf          \u001b[3m\u001b[90m<dbl>\u001b[39m\u001b[23m 1050, 1050, 5000, 5250, 5250, 5000, 1000, 1050, 9500…\n",
      "$ pwastrst          \u001b[3m\u001b[90m<dbl>\u001b[39m\u001b[23m 0, 0, 0, 0, 0, 0, 0, 0, 0, 0, 0, 0, 41000, 0, 0, 0, …\n",
      "$ stock             \u001b[3m\u001b[90m<dbl>\u001b[39m\u001b[23m 0, 0, 0, 0, 0, 0, 0, 0, 0, 0, 10000, 0, 0, 0, 0, 0, …\n",
      "$ pwastvhe          \u001b[3m\u001b[90m<dbl>\u001b[39m\u001b[23m 2400, 0, 0, 37000, 0, 27000, 0, 31000, 4750, 300, 18…\n",
      "$ pwatfs            \u001b[3m\u001b[90m<dbl>\u001b[39m\u001b[23m 0, 0, 0, 1750, 0, 8750, 0, 19000, 0, 0, 6250, 15500,…\n",
      "$ pwatotpg          \u001b[3m\u001b[90m<dbl>\u001b[39m\u001b[23m 20700, 71050, 5005, 723800, 408325, 773120, 73500, 1…\n",
      "$ pwatotpt          \u001b[3m\u001b[90m<dbl>\u001b[39m\u001b[23m 20700, 68550, 5005, 723800, 413325, 783120, 73500, 1…\n",
      "$ pwbuseq           \u001b[3m\u001b[90m<dbl>\u001b[39m\u001b[23m 0, 0, 0, 0, 0, 0, 0, 0, 0, 0, 0, 0, 95000, 750000, 1…\n",
      "$ pwdprmor          \u001b[3m\u001b[90m<dbl>\u001b[39m\u001b[23m 0, 0, 0, 55000, 0, 0, 0, 0, 0, 0, 20000, 0, 0, 0, 0,…\n",
      "$ pwdsloan          \u001b[3m\u001b[90m<dbl>\u001b[39m\u001b[23m 0, 0, 0, 0, 0, 0, 0, 0, 0, 0, 0, 0, 0, 0, 0, 0, 0, 0…\n",
      "$ pwdstcrd          \u001b[3m\u001b[90m<dbl>\u001b[39m\u001b[23m 0, 0, 0, 0, 0, 5250, 0, 0, 3600, 0, 0, 0, 2000, 0, 0…\n",
      "$ pwdstloc          \u001b[3m\u001b[90m<dbl>\u001b[39m\u001b[23m 0, 0, 0, 0, 0, 40000, 0, 6000, 0, 0, 0, 0, 0, 0, 0, …\n",
      "$ pwdstodb          \u001b[3m\u001b[90m<dbl>\u001b[39m\u001b[23m 400, 0, 0, 0, 0, 0, 0, 0, 0, 0, 0, 0, 0, 0, 0, 0, 0,…\n",
      "$ pwdstomr          \u001b[3m\u001b[90m<dbl>\u001b[39m\u001b[23m 0, 0, 0, 0, 0, 0, 0, 0, 0, 0, 0, 0, 0, 0, 0, 0, 0, 0…\n",
      "$ pwdstvhn          \u001b[3m\u001b[90m<dbl>\u001b[39m\u001b[23m 0, 0, 0, 35000, 0, 20000, 0, 20000, 0, 0, 0, 23000, …\n",
      "$ pwdtotal          \u001b[3m\u001b[90m<dbl>\u001b[39m\u001b[23m 400, 0, 0, 90000, 0, 65250, 0, 26000, 3600, 0, 20000…\n",
      "$ wealth            \u001b[3m\u001b[90m<dbl>\u001b[39m\u001b[23m 20300, 71050, 5005, 633800, 408325, 707870, 73500, 1…\n",
      "$ pwnetwpt          \u001b[3m\u001b[90m<dbl>\u001b[39m\u001b[23m 20300, 68550, 5005, 633800, 413325, 717870, 73500, 1…\n",
      "$ verdate           \u001b[3m\u001b[90m<chr>\u001b[39m\u001b[23m \"28/06/2021\", \"28/06/2021\", \"28/06/2021\", \"28/06/202…\n",
      "$ financial_asset   \u001b[3m\u001b[90m<dbl>\u001b[39m\u001b[23m 225, 10000, 5, 2300, 5250, 2870, 0, 18000, 250, 5, 1…\n",
      "$ risk_proxy        \u001b[3m\u001b[90m<dbl>\u001b[39m\u001b[23m 0, 0, 0, 0, 0, 0, NaN, 0, 0, 0, 1, 0, 0, 0, 0, 0, 0,…\n",
      "$ Education         \u001b[3m\u001b[90m<fct>\u001b[39m\u001b[23m Non-university, Non-university, Non-university, Non-…\n",
      "$ lnwealth          \u001b[3m\u001b[90m<dbl>\u001b[39m\u001b[23m 9.918376, 11.171139, 8.518193, 13.359489, 12.919819,…\n",
      "$ agegr             \u001b[3m\u001b[90m<fct>\u001b[39m\u001b[23m 45-60, 60-75, 30-45, 60-75, Above 75, Above 75, Abov…\n"
     ]
    }
   ],
   "source": [
    "glimpse(SFS_data) #Run Me!"
   ]
  },
  {
   "cell_type": "markdown",
   "id": "5d1f948d-db6b-466c-a036-74e5a3dcaa02",
   "metadata": {},
   "source": [
    "#### Short Answer 9\n",
    "Prompt: Do you agree with your roommate's argument? Why or why not?"
   ]
  },
  {
   "cell_type": "markdown",
   "id": "1b4025d3-9d4f-47ce-b775-97f808467c0d",
   "metadata": {},
   "source": [
    "**SA 9 Answer**: <font color=\"red\">Answer in red here</font>"
   ]
  },
  {
   "cell_type": "markdown",
   "id": "3dc7bb76-c8ea-492d-8643-4e3e7bde75bf",
   "metadata": {},
   "source": [
    "Answer: I disagree with my roommate's argument, because there may be multicollinearity if we add all variables. "
   ]
  },
  {
   "cell_type": "markdown",
   "id": "3df034a9-27cd-4591-8bef-b1c02decb6cb",
   "metadata": {},
   "source": [
    "Let's back up our argument with regression analysis. Estimate a regression that has the same controls as `reg3` from the previous activity, but add `pasrbuyg` as a control as well.\n",
    "\n",
    "<em>Tested Objects:</em> `reg5`.\n",
    "\n",
    "What is \"pasrbuyg\"?"
   ]
  },
  {
   "cell_type": "code",
   "execution_count": 56,
   "id": "9f054ebc-045a-4ad7-91d2-9720af00fee7",
   "metadata": {},
   "outputs": [
    {
     "data": {
      "text/html": [
       "'Year property was purchased'"
      ],
      "text/latex": [
       "'Year property was purchased'"
      ],
      "text/markdown": [
       "'Year property was purchased'"
      ],
      "text/plain": [
       "[1] \"Year property was purchased\""
      ]
     },
     "metadata": {},
     "output_type": "display_data"
    }
   ],
   "source": [
    "dictionary(\"pasrbuyg\") #run me"
   ]
  },
  {
   "cell_type": "code",
   "execution_count": 64,
   "id": "bc8c4a3a-37f4-4da3-b5e6-c3f3e9f8458f",
   "metadata": {},
   "outputs": [
    {
     "name": "stdout",
     "output_type": "stream",
     "text": [
      "\n",
      "Multiple Regressions with and without ppsort\n",
      "====================================================================\n",
      "                                            Dependent variable:     \n",
      "                                       -----------------------------\n",
      "                                             income_before_tax      \n",
      "                                            (1)            (2)      \n",
      "--------------------------------------------------------------------\n",
      "genderFemale                           -36,300.520*** -38,141.920***\n",
      "                                        (2,369.344)    (3,170.831)  \n",
      "                                                                    \n",
      "educationHigh school                   23,452.560***  25,394.670*** \n",
      "                                        (4,242.900)    (5,990.540)  \n",
      "                                                                    \n",
      "educationNon-university post-secondary 35,905.930***  35,158.480*** \n",
      "                                        (4,150.844)    (5,836.349)  \n",
      "                                                                    \n",
      "educationUniversity                    87,683.250***  92,061.280*** \n",
      "                                        (3,989.953)    (5,623.733)  \n",
      "                                                                    \n",
      "agegr45-60                             77,758.640***  51,284.090*** \n",
      "                                        (4,393.656)    (8,430.015)  \n",
      "                                                                    \n",
      "agegr60-75                             30,934.250***    -3,619.031  \n",
      "                                        (4,430.341)    (8,608.329)  \n",
      "                                                                    \n",
      "agegr30-45                             38,961.620***  24,466.190*** \n",
      "                                        (4,530.352)    (8,460.509)  \n",
      "                                                                    \n",
      "agegrAbove 75                            8,595.037    -22,221.660** \n",
      "                                        (5,276.064)    (9,592.679)  \n",
      "                                                                    \n",
      "pasrbuyg1961 - 1970                                     3,628.969   \n",
      "                                                       (19,044.080) \n",
      "                                                                    \n",
      "pasrbuyg1971 - 1980                                     5,006.581   \n",
      "                                                       (17,414.110) \n",
      "                                                                    \n",
      "pasrbuyg1981 - 1990                                     17,498.040  \n",
      "                                                       (17,059.230) \n",
      "                                                                    \n",
      "pasrbuyg1991 - 2000                                     25,586.620  \n",
      "                                                       (16,933.200) \n",
      "                                                                    \n",
      "pasrbuyg2001 - 2005                                     26,181.480  \n",
      "                                                       (17,138.850) \n",
      "                                                                    \n",
      "pasrbuyg2006 - 2010                                     27,757.910  \n",
      "                                                       (17,081.980) \n",
      "                                                                    \n",
      "pasrbuyg2011 - 2015                                     18,812.800  \n",
      "                                                       (17,045.020) \n",
      "                                                                    \n",
      "pasrbuyg2016 - 2017                                     -1,834.987  \n",
      "                                                       (17,426.960) \n",
      "                                                                    \n",
      "pasrbuyg2018 - 2019                                     -4,794.989  \n",
      "                                                       (17,590.770) \n",
      "                                                                    \n",
      "Constant                               20,915.410***   43,201.270** \n",
      "                                        (5,210.362)    (18,765.780) \n",
      "                                                                    \n",
      "--------------------------------------------------------------------\n",
      "Observations                               10,141         7,191     \n",
      "R2                                         0.140          0.136     \n",
      "====================================================================\n",
      "Note:                                    *p<0.1; **p<0.05; ***p<0.01\n",
      "\u001b[32mTest passed\u001b[39m 🥳\n",
      "[1] \"Success!\"\n"
     ]
    }
   ],
   "source": [
    "#Add pasrbuyg to regression\n",
    "#Keep the order (gender, education, agegr, pasrbuyg)\n",
    "reg5 <- lm(income_before_tax ~ gender + education + agegr + pasrbuyg, data = SFS_data)\n",
    "\n",
    "#Table comparing regressions with and without ppsort\n",
    "stargazer(reg3, reg5,\n",
    "          title = \"Multiple Regressions with and without ppsort\", align = TRUE, type = \"text\", keep.stat = c(\"n\",\"rsq\")) \n",
    "\n",
    "test_6() #For reg5 "
   ]
  },
  {
   "cell_type": "markdown",
   "id": "15004124-d90a-4f18-a6a5-4128db70505d",
   "metadata": {},
   "source": [
    "#### Short Answer 10\n",
    "Prompt: Does the table above suggest that we should add `pasrbuyg` as a control?"
   ]
  },
  {
   "cell_type": "markdown",
   "id": "3f045f36-e1a6-4006-b9ba-fed28b02d2dd",
   "metadata": {},
   "source": [
    "**SA 10 Answer**: <font color=\"red\">Answer in red here</font>"
   ]
  },
  {
   "cell_type": "markdown",
   "id": "32653dd3-7b1d-432b-a471-673c80f2981f",
   "metadata": {},
   "source": [
    "Answer: No, we should not add `pasrbuyg` as a control, because the estimated coefficients are not significant, and it may have multicollinearity issue with `agegr`."
   ]
  },
  {
   "cell_type": "markdown",
   "id": "b5c0d533-ed15-4741-9bae-bad95664bc9d",
   "metadata": {},
   "source": [
    "#### Short Answer 11\n",
    "Prompt: What other variables can be added as controls?"
   ]
  },
  {
   "cell_type": "markdown",
   "id": "c8424861-70d9-4674-b9c9-f9361c50ff5d",
   "metadata": {},
   "source": [
    "**SA 11 Answer**: <font color=\"red\">Answer in red here</font>"
   ]
  },
  {
   "cell_type": "markdown",
   "id": "00869df2-7a6a-4642-9b93-73c1e969e539",
   "metadata": {},
   "source": [
    "Answer: This is an open question. As long as variables are included in dataset, and with reasonable explanation, students can get full mark."
   ]
  },
  {
   "cell_type": "markdown",
   "id": "669efdcd-4bfa-4ffc-9f12-b07e5c2ad524",
   "metadata": {},
   "source": [
    "## Submitting Your Work\n",
    "Each week, you will upload your workbook as **both a ``.ipynb`` and an ``.html`` file** Below are instructions of how to do this:\n",
    "* While viewing module3, click on the ``File`` tab on the upper-left corner of the screen.\n",
    "* From there, drag your cursor over ``Download as`` to see the formats that you can export the worksheet to.\n",
    "* To export to a ``.ipynb``, click on **\"Notebook (.ipynb).\"**\n",
    "* Next, to export to a HTML, navigate back to ``File`` > ``Download as`` and click on **\"HTML\"**\n",
    "* Upload both of these files to Canvas through the Assignments tab, as you would any other assignment.\n",
    "\n",
    "Once you have finished uploading both of these files, you have completed the hands-on activity -- well done!"
   ]
  },
  {
   "cell_type": "code",
   "execution_count": null,
   "id": "77ca37a1-353a-4edb-bcaa-24a2df962f61",
   "metadata": {},
   "outputs": [],
   "source": []
  }
 ],
 "metadata": {
  "kernelspec": {
   "display_name": "R",
   "language": "R",
   "name": "ir"
  },
  "language_info": {
   "codemirror_mode": "r",
   "file_extension": ".r",
   "mimetype": "text/x-r-source",
   "name": "R",
   "pygments_lexer": "r",
   "version": "4.1.2"
  }
 },
 "nbformat": 4,
 "nbformat_minor": 5
}
