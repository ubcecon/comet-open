{
  "cells": [
    {
      "cell_type": "markdown",
      "metadata": {},
      "source": [
        "# 11 - ECON 326: An Example of a Final Project\n",
        "\n",
        "COMET Team <br> \\_\\_  \n",
        "7/1/23\n",
        "\n",
        "## Introduction:\n",
        "\n",
        "Now that you are well armored with a statistical toolkit and experience\n",
        "with R, you are well on your way to embark on your own economic research\n",
        "adventure! This project serves as a sample to give you some intuition\n",
        "into the broad steps to a successful research project. It synthesizes\n",
        "the knowledge you have gained in your study of the ECON325 and ECON326\n",
        "modules, and allows you to apply it to your own research project. It\n",
        "explains the steps involved in cleaning your data and preparing it for\n",
        "analysis, the actual analysis itself, and the careful interpretation and\n",
        "visualization of that analysis. Let’s get started!"
      ],
      "id": "fa2f87db-f29e-4e80-9fc0-b171a74d6a10"
    },
    {
      "cell_type": "code",
      "execution_count": null,
      "metadata": {},
      "outputs": [
        {
          "output_type": "stream",
          "name": "stderr",
          "text": [
            "── Attaching core tidyverse packages ──────────────────────── tidyverse 2.0.0 ──\n",
            "✔ dplyr     1.1.0     ✔ readr     2.1.4\n",
            "✔ forcats   1.0.0     ✔ stringr   1.5.0\n",
            "✔ ggplot2   3.4.1     ✔ tibble    3.1.8\n",
            "✔ lubridate 1.9.2     ✔ tidyr     1.3.0\n",
            "✔ purrr     1.0.1     \n",
            "── Conflicts ────────────────────────────────────────── tidyverse_conflicts() ──\n",
            "✖ dplyr::filter() masks stats::filter()\n",
            "✖ dplyr::lag()    masks stats::lag()\n",
            "ℹ Use the \u001b]8;;http://conflicted.r-lib.org/\u0007conflicted package\u001b]8;;\u0007 to force all conflicts to become errors"
          ]
        }
      ],
      "source": [
        "library(haven)\n",
        "library(tidyverse)"
      ],
      "id": "6566dfd9-0c28-4b52-833b-68975c0f8da1"
    },
    {
      "cell_type": "markdown",
      "metadata": {},
      "source": [
        "## Getting the Data:\n",
        "\n",
        "## Importing Data into R\n",
        "\n",
        "Once you have gathered data, R has great dependability and dexterity in\n",
        "the viewing and manipulation of that data. To do this, you will want to\n",
        "import your datasets into R, like you have observed in multiple other\n",
        "modules so far. The data that you have gathered could be in a host of\n",
        "different formats like,\n",
        "\n",
        "-   .csv (Comma-Separated Values file),\n",
        "-   .dta (STATA data file),\n",
        "-   .xlsx (Excel file),\n",
        "-   .sav (SPSS file) or,\n",
        "-   .sas (SAS file)\n",
        "\n",
        "Fortunately, we will not be needing separate packages to import these\n",
        "files; `haven` is our jack-of-all-trades. We used the command\n",
        "`library(haven)` to load it at beginning of this module."
      ],
      "id": "3677c6fd-2a97-4914-92b7-380468dcfda3"
    },
    {
      "cell_type": "code",
      "execution_count": null,
      "metadata": {},
      "outputs": [],
      "source": [
        "# Reading the Data\n",
        "gdp_data <- read.csv(\"../datasets/gdp_data.csv\")\n",
        "pollution_data <- read.csv(\"../datasets/pollution_data.csv\")"
      ],
      "id": "0ceb4eb9-28e6-425c-9dd1-3605a5609820"
    },
    {
      "cell_type": "code",
      "execution_count": null,
      "metadata": {},
      "outputs": [],
      "source": [
        "can_gdp_data <- gdp_data %>% filter(GEO == 'Canada')\n",
        "can_gdp_data <- can_gdp_data %>% mutate(REF_DATE = substr(REF_DATE, 1, 4),\n",
        "         MONTH = substr(REF_DATE, 6, 7))\n",
        "        \n",
        "can_yearly_gdp <- can_gdp_data %>% group_by(REF_DATE) %>% summarize(VALUE = sum(VALUE))\n",
        "can_yearly_gdp <- can_yearly_gdp %>% mutate(REF_DATE = as.integer(REF_DATE))"
      ],
      "id": "df7e56ce-e0ef-4db4-b474-ee2a2ee9a36e"
    },
    {
      "cell_type": "code",
      "execution_count": null,
      "metadata": {},
      "outputs": [],
      "source": [
        "can_poll_data <- pollution_data %>% filter(Sector == \"Total, industries and households\") %>% filter(GEO == 'Canada')"
      ],
      "id": "ce1e7ae7-98b2-4bfe-ace3-bc1300f3182f"
    },
    {
      "cell_type": "code",
      "execution_count": null,
      "metadata": {},
      "outputs": [],
      "source": [
        "merged_data <- left_join(can_yearly_gdp, can_poll_data, by = 'REF_DATE')"
      ],
      "id": "bf77027d-07e9-48db-8418-55974d48140f"
    },
    {
      "cell_type": "code",
      "execution_count": null,
      "metadata": {},
      "outputs": [
        {
          "output_type": "stream",
          "name": "stdout",
          "text": [
            "\n",
            "Call:\n",
            "lm(formula = VALUE.y ~ VALUE.x, data = merged_data)\n",
            "\n",
            "Residuals:\n",
            "   Min     1Q Median     3Q    Max \n",
            "-67780  -3170   7607  14124  18034 \n",
            "\n",
            "Coefficients:\n",
            "             Estimate Std. Error t value Pr(>|t|)    \n",
            "(Intercept) 6.909e+05  1.045e+05   6.612 5.99e-05 ***\n",
            "VALUE.x     5.024e-04  7.078e-04   0.710    0.494    \n",
            "---\n",
            "Signif. codes:  0 '***' 0.001 '**' 0.01 '*' 0.05 '.' 0.1 ' ' 1\n",
            "\n",
            "Residual standard error: 24630 on 10 degrees of freedom\n",
            "Multiple R-squared:  0.04796,   Adjusted R-squared:  -0.04724 \n",
            "F-statistic: 0.5038 on 1 and 10 DF,  p-value: 0.4941"
          ]
        }
      ],
      "source": [
        "# Preliminary Regressions Run\n",
        "reg1 <- lm(VALUE.y ~ VALUE.x, data = merged_data)\n",
        "summary(reg1)"
      ],
      "id": "864a580c-dc10-4c49-9028-1db29a432e85"
    }
  ],
  "nbformat": 4,
  "nbformat_minor": 5,
  "metadata": {
    "kernelspec": {
      "name": "ir",
      "display_name": "R",
      "language": "r"
    }
  }
}