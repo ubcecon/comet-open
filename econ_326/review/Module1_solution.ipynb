{
 "cells": [
  {
   "cell_type": "markdown",
   "metadata": {
    "pycharm": {
     "name": "#%% md\n"
    }
   },
   "source": [
    "# ECON 326: Introduction to Basic Statistics using Jupyterlab\n",
    "\n",
    "\n",
    "## Authors\n",
    "* Emrul Hasan (ehasan@mail.ubc.ca)\n",
    "* Jonah Heyl (jonah.heyl@ubc.ca)\n",
    "* Shiming Wu (shiming.wu@ubc.ca)\n",
    "\n",
    "## Prerequisites\n",
    "* Introduction to r notebook\n",
    "* Introduction to jupyter lab notebook\n",
    "\n",
    "\n",
    "\n",
    "## Outcomes\n",
    "In this worksheet, you will learn:\n",
    "\n",
    "* How to import data into r\n",
    "* Get descriptive statistics from data\n",
    "* How to make plots\n",
    "* How to perform a t-test\n",
    "\n"
   ]
  },
  {
   "cell_type": "markdown",
   "metadata": {
    "pycharm": {
     "name": "#%% md\n"
    }
   },
   "source": [
    "# Part 1: Introduction to R and Jupyter\n",
    "\n",
    "\n",
    "In this tutorial, we will be working with some real-world data: the 2019 Survey of Financial Security, provided by Statistics Canada[<sup id=\"fn1s\">1</sup>](#fn1). First, we will import data into our notebook. We are going to give brief review of some of the features of R (feel free to skip this or review the introduction notebooks for more details).\n",
    "In R, we import data using different commands, which are stored in **libraries** that other developers of R have created for us.  Let's import some of the most important libraries now.  \n",
    "\n",
    "We can do this in a Jupyter notebook by selecting a cell and hitting \"shift+enter\" or by pressing the \"play\" button in the menu.\n",
    "* *Important*: information is shared across cells in a notebook.  However, cells run independently; so, if you run a later cell it doesn't re-evaluate previous cells.  You have to re-run them before you can use the results.  You can re-run all the cells in a notebook with the \"fast forward\" button.\n",
    "\n",
    "Try loading some of the packages into memory by running the following cell."
   ]
  },
  {
   "cell_type": "code",
   "execution_count": 1,
   "metadata": {
    "collapsed": false,
    "jupyter": {
     "outputs_hidden": false
    },
    "pycharm": {
     "name": "#%%\n"
    }
   },
   "outputs": [
    {
     "name": "stderr",
     "output_type": "stream",
     "text": [
      "Warning message in system(\"timedatectl\", intern = TRUE):\n",
      "“running command 'timedatectl' had status 1”\n",
      "── \u001B[1mAttaching packages\u001B[22m ─────────────────────────────────────── tidyverse 1.3.1 ──\n",
      "\n",
      "\u001B[32m✔\u001B[39m \u001B[34mggplot2\u001B[39m 3.3.5     \u001B[32m✔\u001B[39m \u001B[34mpurrr  \u001B[39m 0.3.4\n",
      "\u001B[32m✔\u001B[39m \u001B[34mtibble \u001B[39m 3.1.6     \u001B[32m✔\u001B[39m \u001B[34mdplyr  \u001B[39m 1.0.7\n",
      "\u001B[32m✔\u001B[39m \u001B[34mtidyr  \u001B[39m 1.2.0     \u001B[32m✔\u001B[39m \u001B[34mstringr\u001B[39m 1.4.0\n",
      "\u001B[32m✔\u001B[39m \u001B[34mreadr  \u001B[39m 2.1.2     \u001B[32m✔\u001B[39m \u001B[34mforcats\u001B[39m 0.5.1\n",
      "\n",
      "── \u001B[1mConflicts\u001B[22m ────────────────────────────────────────── tidyverse_conflicts() ──\n",
      "\u001B[31m✖\u001B[39m \u001B[34mdplyr\u001B[39m::\u001B[32mfilter()\u001B[39m masks \u001B[34mstats\u001B[39m::filter()\n",
      "\u001B[31m✖\u001B[39m \u001B[34mdplyr\u001B[39m::\u001B[32mlag()\u001B[39m    masks \u001B[34mstats\u001B[39m::lag()\n",
      "\n",
      "\n",
      "Attaching package: ‘scales’\n",
      "\n",
      "\n",
      "The following object is masked from ‘package:purrr’:\n",
      "\n",
      "    discard\n",
      "\n",
      "\n",
      "The following object is masked from ‘package:readr’:\n",
      "\n",
      "    col_factor\n",
      "\n",
      "\n",
      "\n",
      "Attaching package: ‘testthat’\n",
      "\n",
      "\n",
      "The following object is masked from ‘package:dplyr’:\n",
      "\n",
      "    matches\n",
      "\n",
      "\n",
      "The following object is masked from ‘package:purrr’:\n",
      "\n",
      "    is_null\n",
      "\n",
      "\n",
      "The following objects are masked from ‘package:readr’:\n",
      "\n",
      "    edition_get, local_edition\n",
      "\n",
      "\n",
      "The following object is masked from ‘package:tidyr’:\n",
      "\n",
      "    matches\n",
      "\n",
      "\n"
     ]
    }
   ],
   "source": [
    "# Run this cell to evaluate the code\n",
    " \n",
    "library(tidyverse)\n",
    "library(haven)\n",
    "library(dplyr)\n",
    "library('scales')\n",
    "\n",
    "source(\"functions1.r\")"
   ]
  },
  {
   "cell_type": "markdown",
   "metadata": {
    "pycharm": {
     "name": "#%% md\n"
    }
   },
   "source": [
    "You have now imported the packages into memory, and they are available to use in subsequent cells.  You may also see some output, which tells you about how they have been imported.\n",
    "\n",
    "As an aside, in this course we try (as much as possible) to use R packages which are part of the [tidyverse](https://www.tidyverse.org/) family of packages.  This is because they are well-supported, consistent, and commonly used in data sciences.  There are (usually) other packages that provide similar functions.\n",
    "\n",
    "\n",
    "\n",
    "## Importing Data into R\n",
    "\n",
    "The first step in an econometric project is to import, tidy, and examine your data.  For this project, we will be using data from the 2019 Survey of Financial Security (SFS), provided by Statistics Canada (see the license notes).  This is _real data_ on real Canadians.\n",
    "\n",
    "In this course, we will always work with data that is **tidy**.  This is a data-science term that refers to data with a particular format or shape.  Specifically, tidy data is rectangular data in which:\n",
    "* Each row represents one observation\n",
    "* Each column represents a single variable\n",
    "\n",
    "You can imagine this as a spreadsheet in a program like Excel.  This is the way most statistical programs like to recieve data - but it _isn't_ a property of the data itself.  It is only a representation; there can be other kinds of representations.  For example, a panel dataset might have each row as a unit (e.g. country) and each column might represent a variable in a year (e.g. unemployment in 2016, unemployment in 2017, etc.).  Often, when we work with real-world data we have to reshape it in order for it to be usable - but in this course, we won't worry about that.\n",
    "\n",
    "Data comes in many different formats, which must be interpreted by our statistical programs.  Essentially, we need to tell them what the data means.  This is referred to as **importing** data.  There are different techniques for importing data in different formats; for example:\n",
    "\n",
    "* Importing data from a ```.dta``` file: this is data that was created by the statistical software STATA and is commonly used in economics.\n",
    "* Importing data from a delimited text file: this is data which is in a text format, but where the columns are *delimited* or seperated by a special character.  For example, the ```.csv``` (comma-separated variable) format is text, but where the columns are separated by a comma.\n",
    "\n",
    "Each of these formats has a special **method** associated with it.  Methods are commands, stored in R packages, that tell R to do things.  In fact, you're already seen one!  The ```library(...)``` method imports whatever package is in the brackets into memory.\n",
    "\n",
    "Let's start by importing our ```.dta``` file into memory, using the ```read_dta``` method.  When we read things into memory, we normally want to use them later, so we have to give them a name.  Let's call this ```SFS_data``` so we can refer to it later on:"
   ]
  },
  {
   "cell_type": "code",
   "execution_count": 2,
   "metadata": {
    "collapsed": false,
    "jupyter": {
     "outputs_hidden": false
    },
    "pycharm": {
     "name": "#%%\n"
    }
   },
   "outputs": [],
   "source": [
    "# read the file named \"SFS_2019_Eng.dta\" into memory, and assign it to the object SFS_data\n",
    "SFS_data <- read_dta(\"../datasets/SFS_2019_Eng.dta\")"
   ]
  },
  {
   "cell_type": "markdown",
   "metadata": {
    "pycharm": {
     "name": "#%% md\n"
    }
   },
   "source": [
    "## Viewing and Inspecting Data\n",
    "\n",
    "After we have imported our data, the next important task is to inspect and view it, so that we can understand its structure.  R offers several different ways to do this. We will learn three of these commands:\n",
    "\n",
    "* ```head(...)```\n",
    "* ```print(...)```\n",
    "* ```glimpse(...)```\n",
    "\n",
    "This was already discussed introduction to r, so if you would like you can just try these methods out to see what each one does."
   ]
  },
  {
   "cell_type": "code",
   "execution_count": 3,
   "metadata": {
    "collapsed": false,
    "jupyter": {
     "outputs_hidden": false
    },
    "pycharm": {
     "name": "#%%\n"
    }
   },
   "outputs": [
    {
     "data": {
      "text/html": [
       "<table class=\"dataframe\">\n",
       "<caption>A tibble: 6 × 100</caption>\n",
       "<thead>\n",
       "\t<tr><th scope=col>pefamid</th><th scope=col>pweight</th><th scope=col>pagemieg</th><th scope=col>PAS1MRAG</th><th scope=col>PAS1MRG1</th><th scope=col>PAS1MRG2</th><th scope=col>PASR1MFA</th><th scope=col>PASR1MR</th><th scope=col>pasrbuyg</th><th scope=col>pasrcnmg</th><th scope=col>⋯</th><th scope=col>pwdsloan</th><th scope=col>pwdstcrd</th><th scope=col>pwdstloc</th><th scope=col>pwdstodb</th><th scope=col>pwdstomr</th><th scope=col>pwdstvhn</th><th scope=col>pwdtotal</th><th scope=col>pwnetwpg</th><th scope=col>pwnetwpt</th><th scope=col>verdate</th></tr>\n",
       "\t<tr><th scope=col>&lt;chr&gt;</th><th scope=col>&lt;dbl&gt;</th><th scope=col>&lt;chr&gt;</th><th scope=col>&lt;dbl+lbl&gt;</th><th scope=col>&lt;dbl+lbl&gt;</th><th scope=col>&lt;dbl+lbl&gt;</th><th scope=col>&lt;dbl+lbl&gt;</th><th scope=col>&lt;dbl+lbl&gt;</th><th scope=col>&lt;dbl+lbl&gt;</th><th scope=col>&lt;dbl+lbl&gt;</th><th scope=col>⋯</th><th scope=col>&lt;dbl&gt;</th><th scope=col>&lt;dbl&gt;</th><th scope=col>&lt;dbl&gt;</th><th scope=col>&lt;dbl&gt;</th><th scope=col>&lt;dbl&gt;</th><th scope=col>&lt;dbl&gt;</th><th scope=col>&lt;dbl&gt;</th><th scope=col>&lt;dbl&gt;</th><th scope=col>&lt;dbl&gt;</th><th scope=col>&lt;chr&gt;</th></tr>\n",
       "</thead>\n",
       "<tbody>\n",
       "\t<tr><td>00001</td><td>4415.0772</td><td>06</td><td>NA</td><td>NA</td><td>NA</td><td>NA</td><td> 2</td><td> 7</td><td>NA</td><td>⋯</td><td>    0</td><td>  0</td><td> 24000</td><td>0</td><td>    0</td><td>47000</td><td>351000</td><td> 511750</td><td> 502750</td><td>28/06/2021</td></tr>\n",
       "\t<tr><td>00002</td><td> 805.4285</td><td>14</td><td>NA</td><td>NA</td><td>NA</td><td>NA</td><td>NA</td><td>NA</td><td>NA</td><td>⋯</td><td>    0</td><td>  0</td><td>     0</td><td>0</td><td>    0</td><td>    0</td><td>     0</td><td>  18250</td><td>  18250</td><td>28/06/2021</td></tr>\n",
       "\t<tr><td>00003</td><td>1393.1613</td><td>12</td><td>NA</td><td>NA</td><td>NA</td><td>NA</td><td>NA</td><td> 4</td><td>NA</td><td>⋯</td><td>    0</td><td>  0</td><td>     0</td><td>0</td><td>    0</td><td>    0</td><td>     0</td><td>8806000</td><td>8806000</td><td>28/06/2021</td></tr>\n",
       "\t<tr><td>00004</td><td> 216.7353</td><td>11</td><td>NA</td><td>NA</td><td>NA</td><td>NA</td><td>NA</td><td> 5</td><td> 1</td><td>⋯</td><td>    0</td><td>  0</td><td>     0</td><td>0</td><td>87500</td><td>    0</td><td> 87500</td><td>2019000</td><td>2019000</td><td>28/06/2021</td></tr>\n",
       "\t<tr><td>00005</td><td> 454.9928</td><td>11</td><td>NA</td><td>NA</td><td>NA</td><td>NA</td><td>NA</td><td> 5</td><td> 2</td><td>⋯</td><td>    0</td><td>  0</td><td>140000</td><td>0</td><td>    0</td><td>    0</td><td>140000</td><td>4080100</td><td>4080100</td><td>28/06/2021</td></tr>\n",
       "\t<tr><td>00006</td><td>2935.6096</td><td>04</td><td>NA</td><td>NA</td><td>NA</td><td>NA</td><td> 2</td><td> 9</td><td>NA</td><td>⋯</td><td>22000</td><td>600</td><td> 28000</td><td>0</td><td>    0</td><td>    0</td><td>330600</td><td> 160550</td><td> 155050</td><td>28/06/2021</td></tr>\n",
       "</tbody>\n",
       "</table>\n"
      ],
      "text/latex": [
       "A tibble: 6 × 100\n",
       "\\begin{tabular}{lllllllllllllllllllll}\n",
       " pefamid & pweight & pagemieg & PAS1MRAG & PAS1MRG1 & PAS1MRG2 & PASR1MFA & PASR1MR & pasrbuyg & pasrcnmg & ⋯ & pwdsloan & pwdstcrd & pwdstloc & pwdstodb & pwdstomr & pwdstvhn & pwdtotal & pwnetwpg & pwnetwpt & verdate\\\\\n",
       " <chr> & <dbl> & <chr> & <dbl+lbl> & <dbl+lbl> & <dbl+lbl> & <dbl+lbl> & <dbl+lbl> & <dbl+lbl> & <dbl+lbl> & ⋯ & <dbl> & <dbl> & <dbl> & <dbl> & <dbl> & <dbl> & <dbl> & <dbl> & <dbl> & <chr>\\\\\n",
       "\\hline\n",
       "\t 00001 & 4415.0772 & 06 & NA & NA & NA & NA &  2 &  7 & NA & ⋯ &     0 &   0 &  24000 & 0 &     0 & 47000 & 351000 &  511750 &  502750 & 28/06/2021\\\\\n",
       "\t 00002 &  805.4285 & 14 & NA & NA & NA & NA & NA & NA & NA & ⋯ &     0 &   0 &      0 & 0 &     0 &     0 &      0 &   18250 &   18250 & 28/06/2021\\\\\n",
       "\t 00003 & 1393.1613 & 12 & NA & NA & NA & NA & NA &  4 & NA & ⋯ &     0 &   0 &      0 & 0 &     0 &     0 &      0 & 8806000 & 8806000 & 28/06/2021\\\\\n",
       "\t 00004 &  216.7353 & 11 & NA & NA & NA & NA & NA &  5 &  1 & ⋯ &     0 &   0 &      0 & 0 & 87500 &     0 &  87500 & 2019000 & 2019000 & 28/06/2021\\\\\n",
       "\t 00005 &  454.9928 & 11 & NA & NA & NA & NA & NA &  5 &  2 & ⋯ &     0 &   0 & 140000 & 0 &     0 &     0 & 140000 & 4080100 & 4080100 & 28/06/2021\\\\\n",
       "\t 00006 & 2935.6096 & 04 & NA & NA & NA & NA &  2 &  9 & NA & ⋯ & 22000 & 600 &  28000 & 0 &     0 &     0 & 330600 &  160550 &  155050 & 28/06/2021\\\\\n",
       "\\end{tabular}\n"
      ],
      "text/markdown": [
       "\n",
       "A tibble: 6 × 100\n",
       "\n",
       "| pefamid &lt;chr&gt; | pweight &lt;dbl&gt; | pagemieg &lt;chr&gt; | PAS1MRAG &lt;dbl+lbl&gt; | PAS1MRG1 &lt;dbl+lbl&gt; | PAS1MRG2 &lt;dbl+lbl&gt; | PASR1MFA &lt;dbl+lbl&gt; | PASR1MR &lt;dbl+lbl&gt; | pasrbuyg &lt;dbl+lbl&gt; | pasrcnmg &lt;dbl+lbl&gt; | ⋯ ⋯ | pwdsloan &lt;dbl&gt; | pwdstcrd &lt;dbl&gt; | pwdstloc &lt;dbl&gt; | pwdstodb &lt;dbl&gt; | pwdstomr &lt;dbl&gt; | pwdstvhn &lt;dbl&gt; | pwdtotal &lt;dbl&gt; | pwnetwpg &lt;dbl&gt; | pwnetwpt &lt;dbl&gt; | verdate &lt;chr&gt; |\n",
       "|---|---|---|---|---|---|---|---|---|---|---|---|---|---|---|---|---|---|---|---|---|\n",
       "| 00001 | 4415.0772 | 06 | NA | NA | NA | NA |  2 |  7 | NA | ⋯ |     0 |   0 |  24000 | 0 |     0 | 47000 | 351000 |  511750 |  502750 | 28/06/2021 |\n",
       "| 00002 |  805.4285 | 14 | NA | NA | NA | NA | NA | NA | NA | ⋯ |     0 |   0 |      0 | 0 |     0 |     0 |      0 |   18250 |   18250 | 28/06/2021 |\n",
       "| 00003 | 1393.1613 | 12 | NA | NA | NA | NA | NA |  4 | NA | ⋯ |     0 |   0 |      0 | 0 |     0 |     0 |      0 | 8806000 | 8806000 | 28/06/2021 |\n",
       "| 00004 |  216.7353 | 11 | NA | NA | NA | NA | NA |  5 |  1 | ⋯ |     0 |   0 |      0 | 0 | 87500 |     0 |  87500 | 2019000 | 2019000 | 28/06/2021 |\n",
       "| 00005 |  454.9928 | 11 | NA | NA | NA | NA | NA |  5 |  2 | ⋯ |     0 |   0 | 140000 | 0 |     0 |     0 | 140000 | 4080100 | 4080100 | 28/06/2021 |\n",
       "| 00006 | 2935.6096 | 04 | NA | NA | NA | NA |  2 |  9 | NA | ⋯ | 22000 | 600 |  28000 | 0 |     0 |     0 | 330600 |  160550 |  155050 | 28/06/2021 |\n",
       "\n"
      ],
      "text/plain": [
       "  pefamid pweight   pagemieg PAS1MRAG PAS1MRG1 PAS1MRG2 PASR1MFA PASR1MR\n",
       "1 00001   4415.0772 06       NA       NA       NA       NA        2     \n",
       "2 00002    805.4285 14       NA       NA       NA       NA       NA     \n",
       "3 00003   1393.1613 12       NA       NA       NA       NA       NA     \n",
       "4 00004    216.7353 11       NA       NA       NA       NA       NA     \n",
       "5 00005    454.9928 11       NA       NA       NA       NA       NA     \n",
       "6 00006   2935.6096 04       NA       NA       NA       NA        2     \n",
       "  pasrbuyg pasrcnmg ⋯ pwdsloan pwdstcrd pwdstloc pwdstodb pwdstomr pwdstvhn\n",
       "1  7       NA       ⋯     0      0       24000   0            0    47000   \n",
       "2 NA       NA       ⋯     0      0           0   0            0        0   \n",
       "3  4       NA       ⋯     0      0           0   0            0        0   \n",
       "4  5        1       ⋯     0      0           0   0        87500        0   \n",
       "5  5        2       ⋯     0      0      140000   0            0        0   \n",
       "6  9       NA       ⋯ 22000    600       28000   0            0        0   \n",
       "  pwdtotal pwnetwpg pwnetwpt verdate   \n",
       "1 351000    511750   502750  28/06/2021\n",
       "2      0     18250    18250  28/06/2021\n",
       "3      0   8806000  8806000  28/06/2021\n",
       "4  87500   2019000  2019000  28/06/2021\n",
       "5 140000   4080100  4080100  28/06/2021\n",
       "6 330600    160550   155050  28/06/2021"
      ]
     },
     "metadata": {},
     "output_type": "display_data"
    }
   ],
   "source": [
    "head(SFS_data)"
   ]
  },
  {
   "cell_type": "markdown",
   "metadata": {
    "pycharm": {
     "name": "#%% md\n"
    }
   },
   "source": [
    "You can use the following command to know the detailed information of variables."
   ]
  },
  {
   "cell_type": "code",
   "execution_count": 5,
   "metadata": {
    "pycharm": {
     "name": "#%%\n"
    }
   },
   "outputs": [
    {
     "data": {
      "text/html": [
       "'after-tax-income'"
      ],
      "text/latex": [
       "'after-tax-income'"
      ],
      "text/markdown": [
       "'after-tax-income'"
      ],
      "text/plain": [
       "[1] \"after-tax-income\""
      ]
     },
     "metadata": {},
     "output_type": "display_data"
    }
   ],
   "source": [
    "# If you want to know more about the variables, you can input the name in dictionary(). Sometimes you may need to compile 'source(\"functions2.r\")' twice.\n",
    "dictionary('pefatinc')"
   ]
  },
  {
   "cell_type": "markdown",
   "metadata": {
    "pycharm": {
     "name": "#%% md\n"
    }
   },
   "source": [
    "If you want to familiarize yourself with data run the next loop, which prints out a definition for each variable."
   ]
  },
  {
   "cell_type": "code",
   "execution_count": 8,
   "metadata": {
    "collapsed": false,
    "jupyter": {
     "outputs_hidden": false
    },
    "pycharm": {
     "name": "#%%\n"
    }
   },
   "outputs": [],
   "source": [
    "#for (word in names( SFS_data)) {\n",
    " #  print(word)\n",
    "  # print(dictionary(word))\n",
    "# }"
   ]
  },
  {
   "cell_type": "markdown",
   "metadata": {
    "pycharm": {
     "name": "#%% md\n"
    }
   },
   "source": [
    "Some important variables in this dataset:\n",
    "\n",
    "* ```pefmtinc```: income_before_tax\n",
    "* ```pefatinc```: income_after_tax\n",
    "* ```pwnetwpg```: wealth\n",
    "* ```pgdrmie```: gender\n",
    "* ```peducmie```: education\n"
   ]
  },
  {
   "cell_type": "markdown",
   "metadata": {
    "pycharm": {
     "name": "#%% md\n"
    }
   },
   "source": [
    "### Accessing Variables and Data Frames\n",
    "\n",
    "If you recall, this dataset is _tidy_ in that each observation is a row, and each column is a variable.  In R, datasets are called *data frames* - this particular one is a special type of data frame called a _tibble_ (like, table).  We don't need to get into too many details about data frames, but basically they collect and organize all of the variables and observations.  Many functions in R need information to be organized into a data frame so that it can be computed.  You will see examples of these later on.\n",
    "\n",
    "One of the most important things to remember is that you can access the _variables_ in a dataframe in two ways:\n",
    "\n",
    "1.  First, you can use the `$` operator to directly access the variables\n",
    "2.  Second, within a command, you can tell the command what data you are working with, then refer to the variables by name.\n",
    "\n",
    "For example, if we wanted to get the ``mean`` of ``pwnetwpg`` (wealth) (for some reason...) we could do it this way:"
   ]
  },
  {
   "cell_type": "code",
   "execution_count": 4,
   "metadata": {
    "collapsed": false,
    "jupyter": {
     "outputs_hidden": false
    },
    "pycharm": {
     "name": "#%%\n"
    }
   },
   "outputs": [
    {
     "data": {
      "text/html": [
       "1029538.79293802"
      ],
      "text/latex": [
       "1029538.79293802"
      ],
      "text/markdown": [
       "1029538.79293802"
      ],
      "text/plain": [
       "[1] 1029539"
      ]
     },
     "metadata": {},
     "output_type": "display_data"
    }
   ],
   "source": [
    "mean(SFS_data$pwnetwpg)"
   ]
  },
  {
   "cell_type": "markdown",
   "metadata": {
    "pycharm": {
     "name": "#%% md\n"
    }
   },
   "source": [
    "This says get the variable ``pwnetwpg`` from the dataframe ``SFS_data``, then compute the mean.  In a command like ``filter`` you can tell the command to work with the data, and then refer to the variables just by their name.  "
   ]
  },
  {
   "cell_type": "code",
   "execution_count": 5,
   "metadata": {
    "collapsed": false,
    "jupyter": {
     "outputs_hidden": false
    },
    "pycharm": {
     "name": "#%%\n"
    }
   },
   "outputs": [],
   "source": [
    "SFS_data <- filter(SFS_data, !is.na(SFS_data$pefmtinc))  #here we filter out the observations where before tax income is missing (or is a NA)"
   ]
  },
  {
   "cell_type": "code",
   "execution_count": 6,
   "metadata": {
    "collapsed": false,
    "jupyter": {
     "outputs_hidden": false
    },
    "pycharm": {
     "name": "#%%\n"
    }
   },
   "outputs": [],
   "source": [
    "SFS_data <- rename(SFS_data, income_before_tax = pefmtinc) #Finally, we can rename columns, to be more meaningfull names, this is not nessary but is generally a good practice\n",
    "SFS_data <- rename(SFS_data, income_after_tax = pefatinc)\n",
    "SFS_data <- rename(SFS_data, wealth = pwnetwpg)\n",
    "SFS_data <- rename(SFS_data, gender = pgdrmie)\n",
    "SFS_data <- rename(SFS_data, education = peducmie)"
   ]
  },
  {
   "cell_type": "markdown",
   "metadata": {
    "pycharm": {
     "name": "#%% md\n"
    }
   },
   "source": [
    "# Part 2: Hands on the Wealth Gap in Female and Male Lead Households\n",
    "\n",
    "Now we can get started on our analysis. There is a common discussion in laymen press, economics and political sciences, which is the gender inequality. Females are an important part of workforce. But studies show that there is gender income gap and gender wealth gap. What factors contribute to the gender gap? Here we are going to explore the wealth gap between male lead households and female lead households (a male lead households is a household in which  a male earns the majority of the income). \n",
    "\n",
    "The first question we should ask is: is there a significant gap between male lead household wealth and female lead household wealth? A different way to ask this, is given our data, what percent of the time would we except this gap to appear randomly? This describes a p-value, so first we will perform a t-test, to get this value. Now if this p-value indicates a significant gap in wealth, we can go on to ask what is causing this wealth gap.\n",
    "\n",
    "At a high level, there are only a few things that can cause this wealth gap:\n",
    "\n",
    "1. difference in income between male and female lead household,  \n",
    "\n",
    "2. female lead households and male lead household, different saving and investment habits. For instance male lead households might take on more risk, or holds less cash than female lead households. \n",
    "\n",
    "3. female lead households inherit less wealth (regardless of income), or \n",
    "\n",
    "4. female lead households face additional obstacles in regard to building wealth, for instance access to credit.\n",
    "\n",
    "It's important to note that these factors are not mutual exclusive (for instance female lead household earn less could have an effect and inheritance could have an effect as well).\n",
    "\n",
    "We will be going through this topic for the next three modules, in this one will see if there is a significant wealth gap, and what causes it, which may involve investigating the income gap, between male and female lead households."
   ]
  },
  {
   "cell_type": "markdown",
   "metadata": {
    "pycharm": {
     "name": "#%% md\n"
    }
   },
   "source": [
    "First, we're going to compute the average family wealth. Then we compute the average family wealth conditional on being a female lead household vs a male lead households. Next we will do a t-test to see if the wealth gap is significant. Finally, we will briefly investigate what is causing the wealth gap."
   ]
  },
  {
   "cell_type": "code",
   "execution_count": 7,
   "metadata": {
    "collapsed": false,
    "jupyter": {
     "outputs_hidden": false
    },
    "pycharm": {
     "name": "#%%\n"
    }
   },
   "outputs": [
    {
     "data": {
      "text/html": [
       "1030590.80139202"
      ],
      "text/latex": [
       "1030590.80139202"
      ],
      "text/markdown": [
       "1030590.80139202"
      ],
      "text/plain": [
       "[1] 1030591"
      ]
     },
     "metadata": {},
     "output_type": "display_data"
    }
   ],
   "source": [
    "mean(SFS_data$wealth) #this compute the sample mean of wealth from the SFS_data set"
   ]
  },
  {
   "cell_type": "markdown",
   "metadata": {
    "pycharm": {
     "name": "#%% md\n"
    }
   },
   "source": [
    "\n",
    "We need to tell R that our variables are actually qualitative (factor) variables, so they are easier to read.  Let's try that now using the ``as_factor`` function. This function automatically translates labelled values into factor variables.  Compare the results above with the new dataset below."
   ]
  },
  {
   "cell_type": "code",
   "execution_count": 8,
   "metadata": {
    "collapsed": false,
    "jupyter": {
     "outputs_hidden": false
    },
    "pycharm": {
     "name": "#%%\n"
    }
   },
   "outputs": [],
   "source": [
    "SFS_data<-SFS_data[!(SFS_data$education==\"9\"),]\n",
    "SFS_data$education <- as.numeric(SFS_data$education)\n",
    "SFS_data <- SFS_data[order(SFS_data$education),]\n",
    "SFS_data$education <- as.character(SFS_data$education)\n",
    "SFS_data$education[SFS_data$education == \"1\"] <- \"Less than high school\" \n",
    "SFS_data$education[SFS_data$education == \"2\"] <- \"High school\"\n",
    "SFS_data$education[SFS_data$education == \"3\"] <- \"Non-university post-secondary\"\n",
    "SFS_data$education[SFS_data$education == \"4\"] <- \"University\""
   ]
  },
  {
   "cell_type": "code",
   "execution_count": 9,
   "metadata": {
    "collapsed": false,
    "jupyter": {
     "outputs_hidden": false
    },
    "pycharm": {
     "name": "#%%\n"
    }
   },
   "outputs": [],
   "source": [
    "SFS_data$gender <- as_factor(SFS_data$gender) # this swaps gender to be male or female rather than 0 or 1\n",
    "SFS_data$education <- as_factor(SFS_data$education)"
   ]
  },
  {
   "cell_type": "markdown",
   "metadata": {
    "pycharm": {
     "name": "#%% md\n"
    }
   },
   "source": [
    "## Computing the Wealth Gap\n",
    "\n",
    "We will first describe the gender wealth gap. In R, there are many ways we could compute basic descriptive statistics.  The simplest way is to use ``summarize`` and ``group_by``:"
   ]
  },
  {
   "cell_type": "code",
   "execution_count": 10,
   "metadata": {
    "collapsed": false,
    "jupyter": {
     "outputs_hidden": false
    },
    "pycharm": {
     "name": "#%%\n"
    }
   },
   "outputs": [
    {
     "data": {
      "text/html": [
       "<table class=\"dataframe\">\n",
       "<caption>A tibble: 2 × 3</caption>\n",
       "<thead>\n",
       "\t<tr><th scope=col>gender</th><th scope=col>m_wealth</th><th scope=col>sd_wealth</th></tr>\n",
       "\t<tr><th scope=col>&lt;fct&gt;</th><th scope=col>&lt;dbl&gt;</th><th scope=col>&lt;dbl&gt;</th></tr>\n",
       "</thead>\n",
       "<tbody>\n",
       "\t<tr><td>Male  </td><td>1128033.5</td><td>1875387</td></tr>\n",
       "\t<tr><td>Female</td><td> 892747.9</td><td>1524154</td></tr>\n",
       "</tbody>\n",
       "</table>\n"
      ],
      "text/latex": [
       "A tibble: 2 × 3\n",
       "\\begin{tabular}{lll}\n",
       " gender & m\\_wealth & sd\\_wealth\\\\\n",
       " <fct> & <dbl> & <dbl>\\\\\n",
       "\\hline\n",
       "\t Male   & 1128033.5 & 1875387\\\\\n",
       "\t Female &  892747.9 & 1524154\\\\\n",
       "\\end{tabular}\n"
      ],
      "text/markdown": [
       "\n",
       "A tibble: 2 × 3\n",
       "\n",
       "| gender &lt;fct&gt; | m_wealth &lt;dbl&gt; | sd_wealth &lt;dbl&gt; |\n",
       "|---|---|---|\n",
       "| Male   | 1128033.5 | 1875387 |\n",
       "| Female |  892747.9 | 1524154 |\n",
       "\n"
      ],
      "text/plain": [
       "  gender m_wealth  sd_wealth\n",
       "1 Male   1128033.5 1875387  \n",
       "2 Female  892747.9 1524154  "
      ]
     },
     "metadata": {},
     "output_type": "display_data"
    }
   ],
   "source": [
    "# Next we look at wealth for households with men and women as main earners\n",
    "results <- \n",
    "    SFS_data %>% \n",
    "    group_by(gender) %>%\n",
    "    summarize(m_wealth = mean(wealth), sd_wealth = sd(wealth))\n",
    "\n",
    "results "
   ]
  },
  {
   "cell_type": "markdown",
   "metadata": {
    "pycharm": {
     "name": "#%% md\n"
    }
   },
   "source": [
    "> **Advanced Note**: _piping_ The above example uses a special R command called a **pipe** (``%>%``).  Mechanically, what piping does is insert the object before the pipe into the object after the pipe.  For example, if we have ``z <- f(x,y)`` we could write this using pipes as ``z <- x %>% f(y)``.  Piping is really most useful when you are chaining (piping) a series of commands together.  You can think of a pipe as saying _and then_ followed by a command.  The item before the pipe will be inputted into the next command.  This lets you do complex data manipulation in a way with is readable.\n",
    "> For example, the command above (i) starts with ``SFS_data`` (ii) groups it by ``gender``, (iii) takes the grouped data and summarizes it.  If we wrote this without using a pipe it would look like:\n",
    "> ``summarize(group_by(SFS_data,gender), m_wealth = mean(wealth), sd_wealth = sd(wealth))``\n",
    "\n",
    "\n",
    "We can also visualize this, using ``ggplot2``, which can create bar graphs and other visualizations.  Here's a bar graph and a boxplot."
   ]
  },
  {
   "cell_type": "code",
   "execution_count": 11,
   "metadata": {
    "pycharm": {
     "name": "#%%\n"
    }
   },
   "outputs": [
    {
     "data": {
      "image/png": "[encoded data removed]",
      "text/plain": [
       "plot without title"
      ]
     },
     "metadata": {
      "image/png": {
       "height": 180,
       "width": 360
      }
     },
     "output_type": "display_data"
    },
    {
     "data": {
      "image/png": "[encoded data removed]",
      "text/plain": [
       "plot without title"
      ]
     },
     "metadata": {
      "image/png": {
       "height": 180,
       "width": 360
      }
     },
     "output_type": "display_data"
    },
    {
     "data": {
      "image/png": "[encoded data removed]",
      "text/plain": [
       "plot without title"
      ]
     },
     "metadata": {
      "image/png": {
       "height": 180,
       "width": 360
      }
     },
     "output_type": "display_data"
    }
   ],
   "source": [
    "f <- ggplot(data = SFS_data, aes(x = gender, y = wealth)) + xlab(\"Gender of Main Earner\") + ylab(\"Wealth\")\n",
    "f1 <- f + geom_bar(stat = \"summary\", fun = \"mean\", fill = \"lightblue\") #produce a summary statistic, the mean\n",
    "f1 <- f1 + coord_flip() #make a horizontal bar graph!\n",
    "\n",
    "options(repr.plot.width=6,repr.plot.height=3) #this controls the size; you can change 6 and 3 to look better\n",
    "\n",
    "f2 <- f + geom_boxplot(fill = \"lightblue\") + coord_flip()\n",
    "\n",
    "f3 <- ggplot(data = SFS_data, aes(x = wealth)) + geom_histogram(binwidth = 500000) + xlab(\"Wealth\") + ylab(\"Count\") + facet_grid(. ~ gender)\n",
    "\n",
    "f1\n",
    "f2\n",
    "f3"
   ]
  },
  {
   "cell_type": "markdown",
   "metadata": {
    "pycharm": {
     "name": "#%% md\n"
    }
   },
   "source": [
    "> _Think Deeper:_ What does this tell you about the distribution of wealth in these datasets?  Could this be a problem for our analysis?\n",
    "\n",
    "This is all interesting to think about.  However, this is not a formal test of the gender-wealth gap.  We need to examine this from a statistical perspective.  We can do this using a $t$-test.  This can be performed using the ``t.test`` command:"
   ]
  },
  {
   "cell_type": "code",
   "execution_count": 12,
   "metadata": {
    "collapsed": false,
    "jupyter": {
     "outputs_hidden": false
    },
    "pycharm": {
     "name": "#%%\n"
    }
   },
   "outputs": [
    {
     "data": {
      "text/plain": [
       "\n",
       "\tWelch Two Sample t-test\n",
       "\n",
       "data:  filter(SFS_data, gender == \"Male\")$wealth and filter(SFS_data, gender == \"Female\")$wealth\n",
       "t = 6.9324, df = 9710.4, p-value = 4.401e-12\n",
       "alternative hypothesis: true difference in means is not equal to 0\n",
       "95 percent confidence interval:\n",
       " 168756.2 301815.0\n",
       "sample estimates:\n",
       "mean of x mean of y \n",
       "1128033.5  892747.9 \n"
      ]
     },
     "metadata": {},
     "output_type": "display_data"
    },
    {
     "data": {
      "text/html": [
       "<strong>mean of x:</strong> 235285.6"
      ],
      "text/latex": [
       "\\textbf{mean of x:} 235285.6"
      ],
      "text/markdown": [
       "**mean of x:** 235285.6"
      ],
      "text/plain": [
       "mean of x \n",
       " 235285.6 "
      ]
     },
     "metadata": {},
     "output_type": "display_data"
    }
   ],
   "source": [
    "t1 = t.test(\n",
    "       x = filter(SFS_data, gender == \"Male\")$wealth,\n",
    "       y = filter(SFS_data, gender == \"Female\")$wealth,\n",
    "       alternative = \"two.sided\",\n",
    "       mu = 0,\n",
    "       conf.level = 0.95)\n",
    "\n",
    "t1 \n",
    "\n",
    "round(t1$estimate[1] - t1$estimate[2],2) "
   ]
  },
  {
   "cell_type": "markdown",
   "metadata": {
    "pycharm": {
     "name": "#%% md\n"
    }
   },
   "source": [
    "This particular $t$-test was for a 95% confidence level. The gender-wealth gap is 235,285.6 dollars. As you can see, there is a significant gap in wealth between male and female lead households.\n",
    "\n",
    "## Going Deeper: \n",
    "> ***What are the causes of the gender-wealth gap in Canada?***\n",
    "\n",
    "The next step is to understand why or how the gender wealth gap might exist. The natural potential factors to study are education and incomes. For example, perhaps females are less likely to have university degree, or perhaps females earn less incomes.  These reasons could, potentially, create a gender wealth gap.  Let's take a look at education in the survey, then try to understand how it interacts with gender:"
   ]
  },
  {
   "cell_type": "code",
   "execution_count": 13,
   "metadata": {
    "pycharm": {
     "name": "#%%\n"
    }
   },
   "outputs": [
    {
     "data": {
      "text/html": [
       "<table class=\"dataframe\">\n",
       "<caption>A tibble: 4 × 3</caption>\n",
       "<thead>\n",
       "\t<tr><th scope=col>education</th><th scope=col>m_wealth</th><th scope=col>sd_wealth</th></tr>\n",
       "\t<tr><th scope=col>&lt;fct&gt;</th><th scope=col>&lt;dbl&gt;</th><th scope=col>&lt;dbl&gt;</th></tr>\n",
       "</thead>\n",
       "<tbody>\n",
       "\t<tr><td>Less than high school        </td><td> 535499.2</td><td>1319340</td></tr>\n",
       "\t<tr><td>High school                  </td><td> 788263.7</td><td>1449500</td></tr>\n",
       "\t<tr><td>Non-university post-secondary</td><td> 842493.1</td><td>1519448</td></tr>\n",
       "\t<tr><td>University                   </td><td>1481145.5</td><td>2061947</td></tr>\n",
       "</tbody>\n",
       "</table>\n"
      ],
      "text/latex": [
       "A tibble: 4 × 3\n",
       "\\begin{tabular}{lll}\n",
       " education & m\\_wealth & sd\\_wealth\\\\\n",
       " <fct> & <dbl> & <dbl>\\\\\n",
       "\\hline\n",
       "\t Less than high school         &  535499.2 & 1319340\\\\\n",
       "\t High school                   &  788263.7 & 1449500\\\\\n",
       "\t Non-university post-secondary &  842493.1 & 1519448\\\\\n",
       "\t University                    & 1481145.5 & 2061947\\\\\n",
       "\\end{tabular}\n"
      ],
      "text/markdown": [
       "\n",
       "A tibble: 4 × 3\n",
       "\n",
       "| education &lt;fct&gt; | m_wealth &lt;dbl&gt; | sd_wealth &lt;dbl&gt; |\n",
       "|---|---|---|\n",
       "| Less than high school         |  535499.2 | 1319340 |\n",
       "| High school                   |  788263.7 | 1449500 |\n",
       "| Non-university post-secondary |  842493.1 | 1519448 |\n",
       "| University                    | 1481145.5 | 2061947 |\n",
       "\n"
      ],
      "text/plain": [
       "  education                     m_wealth  sd_wealth\n",
       "1 Less than high school          535499.2 1319340  \n",
       "2 High school                    788263.7 1449500  \n",
       "3 Non-university post-secondary  842493.1 1519448  \n",
       "4 University                    1481145.5 2061947  "
      ]
     },
     "metadata": {},
     "output_type": "display_data"
    }
   ],
   "source": [
    "# Next we look at wealth for households with different education\n",
    "results <- \n",
    "    SFS_data %>% \n",
    "    group_by(education) %>%\n",
    "    summarize(m_wealth = mean(wealth), sd_wealth = sd(wealth))\n",
    "\n",
    "results "
   ]
  },
  {
   "cell_type": "markdown",
   "metadata": {
    "pycharm": {
     "name": "#%% md\n"
    }
   },
   "source": [
    "The results suggest average wealth increases with education of the main earner. \n",
    "\n",
    "> _Think Deeper:_ Why might this be the case?  \n",
    "\n",
    "We also see how this breaks down by gender.  Look at the following table - do you see a pattern?"
   ]
  },
  {
   "cell_type": "code",
   "execution_count": 23,
   "metadata": {
    "pycharm": {
     "name": "#%%\n"
    }
   },
   "outputs": [
    {
     "name": "stderr",
     "output_type": "stream",
     "text": [
      "`summarise()` has grouped output by 'education'. You can override using the `.groups` argument.\n",
      "\n"
     ]
    },
    {
     "data": {
      "text/html": [
       "<table class=\"dataframe\">\n",
       "<caption>A grouped_df: 8 × 4</caption>\n",
       "<thead>\n",
       "\t<tr><th scope=col>education</th><th scope=col>gender</th><th scope=col>m_wealth</th><th scope=col>sd_wealth</th></tr>\n",
       "\t<tr><th scope=col>&lt;fct&gt;</th><th scope=col>&lt;fct&gt;</th><th scope=col>&lt;dbl&gt;</th><th scope=col>&lt;dbl&gt;</th></tr>\n",
       "</thead>\n",
       "<tbody>\n",
       "\t<tr><td>Less than high school        </td><td>Male  </td><td> 587457.9</td><td>1174738</td></tr>\n",
       "\t<tr><td>Less than high school        </td><td>Female</td><td> 448290.9</td><td>1529116</td></tr>\n",
       "\t<tr><td>High school                  </td><td>Male  </td><td> 840156.9</td><td>1513918</td></tr>\n",
       "\t<tr><td>High school                  </td><td>Female</td><td> 702158.5</td><td>1332181</td></tr>\n",
       "\t<tr><td>Non-university post-secondary</td><td>Male  </td><td> 901916.2</td><td>1521343</td></tr>\n",
       "\t<tr><td>Non-university post-secondary</td><td>Female</td><td> 747951.4</td><td>1512318</td></tr>\n",
       "\t<tr><td>University                   </td><td>Male  </td><td>1680511.1</td><td>2346053</td></tr>\n",
       "\t<tr><td>University                   </td><td>Female</td><td>1213003.7</td><td>1563383</td></tr>\n",
       "</tbody>\n",
       "</table>\n"
      ],
      "text/latex": [
       "A grouped\\_df: 8 × 4\n",
       "\\begin{tabular}{llll}\n",
       " education & gender & m\\_wealth & sd\\_wealth\\\\\n",
       " <fct> & <fct> & <dbl> & <dbl>\\\\\n",
       "\\hline\n",
       "\t Less than high school         & Male   &  587457.9 & 1174738\\\\\n",
       "\t Less than high school         & Female &  448290.9 & 1529116\\\\\n",
       "\t High school                   & Male   &  840156.9 & 1513918\\\\\n",
       "\t High school                   & Female &  702158.5 & 1332181\\\\\n",
       "\t Non-university post-secondary & Male   &  901916.2 & 1521343\\\\\n",
       "\t Non-university post-secondary & Female &  747951.4 & 1512318\\\\\n",
       "\t University                    & Male   & 1680511.1 & 2346053\\\\\n",
       "\t University                    & Female & 1213003.7 & 1563383\\\\\n",
       "\\end{tabular}\n"
      ],
      "text/markdown": [
       "\n",
       "A grouped_df: 8 × 4\n",
       "\n",
       "| education &lt;fct&gt; | gender &lt;fct&gt; | m_wealth &lt;dbl&gt; | sd_wealth &lt;dbl&gt; |\n",
       "|---|---|---|---|\n",
       "| Less than high school         | Male   |  587457.9 | 1174738 |\n",
       "| Less than high school         | Female |  448290.9 | 1529116 |\n",
       "| High school                   | Male   |  840156.9 | 1513918 |\n",
       "| High school                   | Female |  702158.5 | 1332181 |\n",
       "| Non-university post-secondary | Male   |  901916.2 | 1521343 |\n",
       "| Non-university post-secondary | Female |  747951.4 | 1512318 |\n",
       "| University                    | Male   | 1680511.1 | 2346053 |\n",
       "| University                    | Female | 1213003.7 | 1563383 |\n",
       "\n"
      ],
      "text/plain": [
       "  education                     gender m_wealth  sd_wealth\n",
       "1 Less than high school         Male    587457.9 1174738  \n",
       "2 Less than high school         Female  448290.9 1529116  \n",
       "3 High school                   Male    840156.9 1513918  \n",
       "4 High school                   Female  702158.5 1332181  \n",
       "5 Non-university post-secondary Male    901916.2 1521343  \n",
       "6 Non-university post-secondary Female  747951.4 1512318  \n",
       "7 University                    Male   1680511.1 2346053  \n",
       "8 University                    Female 1213003.7 1563383  "
      ]
     },
     "metadata": {},
     "output_type": "display_data"
    },
    {
     "data": {
      "image/png": "[encoded data removed]",
      "text/plain": [
       "plot without title"
      ]
     },
     "metadata": {
      "image/png": {
       "height": 180,
       "width": 600
      }
     },
     "output_type": "display_data"
    }
   ],
   "source": [
    "results <- \n",
    "    SFS_data %>%\n",
    "    group_by(education,gender) %>% \n",
    "    summarize(m_wealth = mean(wealth), sd_wealth = sd(wealth))\n",
    "\n",
    "results\n",
    "\n",
    "options(repr.plot.width=10,repr.plot.height=3)\n",
    "\n",
    "f <- ggplot(data = SFS_data, aes(x = gender, y = wealth)) + xlab(\"Gender\") + ylab(\"Wealth\")\n",
    "f <- f + geom_bar(stat = \"summary\", fun = \"mean\", fill = \"lightblue\") #produce a summary statistic, the mean\n",
    "f <- f + facet_grid(. ~ education) #add a grid by education\n",
    "\n",
    "f"
   ]
  },
  {
   "cell_type": "markdown",
   "metadata": {
    "pycharm": {
     "name": "#%% md\n"
    }
   },
   "source": [
    "You can see that female-lead households tend to accumulate less wealth than the male counterpart.  \n",
    "\n",
    "However, it is worthwhile to look at the difference in wealth gap in percent terms rather than, absolute terms. This is because people at a higher education level earn more so the gap may appear deceptively larger. ``percentage_table`` is a 'function', which takes `result`, name of `column1` and name of `column3` of `results` table that we summarized as inputs. We assign this function to the object `percentage_table`, and produce the table we want. "
   ]
  },
  {
   "cell_type": "code",
   "execution_count": 30,
   "metadata": {
    "pycharm": {
     "name": "#%%\n"
    }
   },
   "outputs": [],
   "source": [
    "percentage_table <- function(result,column1,column3) {\n",
    "#gap in percentage: (wealth_male - wealth_female)/wealth_female\n",
    "female_wealth=filter(result,gender=='Female')[[column3]]\n",
    "male_wealth=filter(result,gender=='Male')[[column3]]\n",
    "wealth_gap= (male_wealth-female_wealth)/female_wealth\n",
    "education=filter(result,gender=='Female')[[column1]]\n",
    "gap= data.frame(education,wealth_gap)\n",
    "wealth_gap<-percent(gap$wealth_gap) #show in percentage form\n",
    "gap$wealth_gap<-as.character(gap$wealth_gap)\n",
    "gap$wealth_gap<-wealth_gap\n",
    "return(gap)\n",
    "}"
   ]
  },
  {
   "cell_type": "markdown",
   "metadata": {
    "pycharm": {
     "name": "#%% md\n"
    }
   },
   "source": [
    "Let's call `percentage_table` and use `results` generated in previous cell (the $8\\times 4$ table) as the inputs. The following table is the average percentage of wealth which shows a male-lead household accumulates more than a female-lead household."
   ]
  },
  {
   "cell_type": "code",
   "execution_count": 25,
   "metadata": {
    "pycharm": {
     "name": "#%%\n"
    }
   },
   "outputs": [
    {
     "data": {
      "text/html": [
       "<table class=\"dataframe\">\n",
       "<caption>A data.frame: 4 × 2</caption>\n",
       "<thead>\n",
       "\t<tr><th scope=col>education</th><th scope=col>wealth_gap</th></tr>\n",
       "\t<tr><th scope=col>&lt;fct&gt;</th><th scope=col>&lt;chr&gt;</th></tr>\n",
       "</thead>\n",
       "<tbody>\n",
       "\t<tr><td>Less than high school        </td><td>31.04%</td></tr>\n",
       "\t<tr><td>High school                  </td><td>19.65%</td></tr>\n",
       "\t<tr><td>Non-university post-secondary</td><td>20.58%</td></tr>\n",
       "\t<tr><td>University                   </td><td>38.54%</td></tr>\n",
       "</tbody>\n",
       "</table>\n"
      ],
      "text/latex": [
       "A data.frame: 4 × 2\n",
       "\\begin{tabular}{ll}\n",
       " education & wealth\\_gap\\\\\n",
       " <fct> & <chr>\\\\\n",
       "\\hline\n",
       "\t Less than high school         & 31.04\\%\\\\\n",
       "\t High school                   & 19.65\\%\\\\\n",
       "\t Non-university post-secondary & 20.58\\%\\\\\n",
       "\t University                    & 38.54\\%\\\\\n",
       "\\end{tabular}\n"
      ],
      "text/markdown": [
       "\n",
       "A data.frame: 4 × 2\n",
       "\n",
       "| education &lt;fct&gt; | wealth_gap &lt;chr&gt; |\n",
       "|---|---|\n",
       "| Less than high school         | 31.04% |\n",
       "| High school                   | 19.65% |\n",
       "| Non-university post-secondary | 20.58% |\n",
       "| University                    | 38.54% |\n",
       "\n"
      ],
      "text/plain": [
       "  education                     wealth_gap\n",
       "1 Less than high school         31.04%    \n",
       "2 High school                   19.65%    \n",
       "3 Non-university post-secondary 20.58%    \n",
       "4 University                    38.54%    "
      ]
     },
     "metadata": {},
     "output_type": "display_data"
    }
   ],
   "source": [
    "percentage_table(result=results, column1=\"education\", column3=\"m_wealth\")"
   ]
  },
  {
   "cell_type": "markdown",
   "metadata": {
    "pycharm": {
     "name": "#%% md\n"
    }
   },
   "source": [
    "From the results above, family with male as main earner generally accumulates more wealth than female-lead household which has similar education background. The gender-wealth gap is widest for university graduates, with male-lead family has 38.54% more wealth than female-lead family. We can make this even more clear by adding a new variable (``university``) to our dataset.  Frequently, we will want to make new variables to help us analyze the results, especially when a variable is more complicated than we would like it to be.\n",
    "\n",
    "You can create this in many ways - but a very useful command is the ``case_when`` command.  Here is an example for our ``university`` variable.  Pay attention to the use of the ``as_factor`` command at the end to tell R that this is still a qualitative variable.\n",
    "\n"
   ]
  },
  {
   "cell_type": "code",
   "execution_count": 26,
   "metadata": {
    "pycharm": {
     "name": "#%%\n"
    }
   },
   "outputs": [
    {
     "name": "stdout",
     "output_type": "stream",
     "text": [
      " Factor w/ 2 levels \"No\",\"Yes\": 1 1 1 1 1 1 1 1 1 1 ...\n"
     ]
    }
   ],
   "source": [
    "SFS_data <- SFS_data %>% \n",
    "               mutate( \n",
    "               university = case_when(#this is an example of this function\n",
    "                     education == \"University\" ~ \"Yes\", #the ~ seperates the original from the new name\n",
    "                     education == \"Non-university post-secondary\" ~ \"No\",\n",
    "                     education == \"High school\" ~ \"No\",\n",
    "                     education == \"Less than high school\" ~ \"No\")) %>%\n",
    "             mutate(university = as_factor(university)) #remember, it's a factor!\n",
    "\n",
    "glimpse(SFS_data$university)"
   ]
  },
  {
   "cell_type": "markdown",
   "metadata": {
    "pycharm": {
     "name": "#%% md\n"
    }
   },
   "source": [
    "Now, let's repeat the analysis we did above by education status; then we can perform a $t$-test on each of these sub-groups:"
   ]
  },
  {
   "cell_type": "code",
   "execution_count": 27,
   "metadata": {
    "pycharm": {
     "name": "#%%\n"
    }
   },
   "outputs": [
    {
     "name": "stderr",
     "output_type": "stream",
     "text": [
      "`summarise()` has grouped output by 'university'. You can override using the `.groups` argument.\n",
      "\n"
     ]
    },
    {
     "data": {
      "text/html": [
       "<table class=\"dataframe\">\n",
       "<caption>A grouped_df: 4 × 4</caption>\n",
       "<thead>\n",
       "\t<tr><th scope=col>university</th><th scope=col>gender</th><th scope=col>m_wealth</th><th scope=col>sd_wealth</th></tr>\n",
       "\t<tr><th scope=col>&lt;fct&gt;</th><th scope=col>&lt;fct&gt;</th><th scope=col>&lt;dbl&gt;</th><th scope=col>&lt;dbl&gt;</th></tr>\n",
       "</thead>\n",
       "<tbody>\n",
       "\t<tr><td>No </td><td>Male  </td><td> 818279.2</td><td>1461872</td></tr>\n",
       "\t<tr><td>No </td><td>Female</td><td> 674883.3</td><td>1457515</td></tr>\n",
       "\t<tr><td>Yes</td><td>Male  </td><td>1680511.1</td><td>2346053</td></tr>\n",
       "\t<tr><td>Yes</td><td>Female</td><td>1213003.7</td><td>1563383</td></tr>\n",
       "</tbody>\n",
       "</table>\n"
      ],
      "text/latex": [
       "A grouped\\_df: 4 × 4\n",
       "\\begin{tabular}{llll}\n",
       " university & gender & m\\_wealth & sd\\_wealth\\\\\n",
       " <fct> & <fct> & <dbl> & <dbl>\\\\\n",
       "\\hline\n",
       "\t No  & Male   &  818279.2 & 1461872\\\\\n",
       "\t No  & Female &  674883.3 & 1457515\\\\\n",
       "\t Yes & Male   & 1680511.1 & 2346053\\\\\n",
       "\t Yes & Female & 1213003.7 & 1563383\\\\\n",
       "\\end{tabular}\n"
      ],
      "text/markdown": [
       "\n",
       "A grouped_df: 4 × 4\n",
       "\n",
       "| university &lt;fct&gt; | gender &lt;fct&gt; | m_wealth &lt;dbl&gt; | sd_wealth &lt;dbl&gt; |\n",
       "|---|---|---|---|\n",
       "| No  | Male   |  818279.2 | 1461872 |\n",
       "| No  | Female |  674883.3 | 1457515 |\n",
       "| Yes | Male   | 1680511.1 | 2346053 |\n",
       "| Yes | Female | 1213003.7 | 1563383 |\n",
       "\n"
      ],
      "text/plain": [
       "  university gender m_wealth  sd_wealth\n",
       "1 No         Male    818279.2 1461872  \n",
       "2 No         Female  674883.3 1457515  \n",
       "3 Yes        Male   1680511.1 2346053  \n",
       "4 Yes        Female 1213003.7 1563383  "
      ]
     },
     "metadata": {},
     "output_type": "display_data"
    },
    {
     "data": {
      "image/png": "[encoded data removed]",
      "text/plain": [
       "plot without title"
      ]
     },
     "metadata": {
      "image/png": {
       "height": 180,
       "width": 600
      }
     },
     "output_type": "display_data"
    }
   ],
   "source": [
    "results <- \n",
    "    SFS_data %>%\n",
    "    group_by(university,gender) %>%\n",
    "    summarize(m_wealth = mean(wealth), sd_wealth = sd(wealth))\n",
    "\n",
    "results \n",
    "\n",
    "f <- ggplot(data = SFS_data, aes(x = gender, y = wealth)) + xlab(\"Gender\") + ylab(\"Wealth\")\n",
    "f <- f + geom_bar(stat = \"summary\", fun = \"mean\", fill = \"lightblue\") #produce a summary statistic, the mean\n",
    "f <- f + facet_grid(. ~ university) #add a grid by education\n",
    "\n",
    "f"
   ]
  },
  {
   "cell_type": "markdown",
   "metadata": {
    "pycharm": {
     "name": "#%% md\n"
    }
   },
   "source": [
    "Similarly, let's look at the difference in wealth gap in percent terms. We use `results` generated in previous cell (the $4\\times 4$ table) as the inputs this time."
   ]
  },
  {
   "cell_type": "code",
   "execution_count": 28,
   "metadata": {
    "pycharm": {
     "name": "#%%\n"
    }
   },
   "outputs": [
    {
     "data": {
      "text/html": [
       "<table class=\"dataframe\">\n",
       "<caption>A data.frame: 2 × 2</caption>\n",
       "<thead>\n",
       "\t<tr><th scope=col>education</th><th scope=col>wealth_gap</th></tr>\n",
       "\t<tr><th scope=col>&lt;fct&gt;</th><th scope=col>&lt;chr&gt;</th></tr>\n",
       "</thead>\n",
       "<tbody>\n",
       "\t<tr><td>No </td><td>21%</td></tr>\n",
       "\t<tr><td>Yes</td><td>39%</td></tr>\n",
       "</tbody>\n",
       "</table>\n"
      ],
      "text/latex": [
       "A data.frame: 2 × 2\n",
       "\\begin{tabular}{ll}\n",
       " education & wealth\\_gap\\\\\n",
       " <fct> & <chr>\\\\\n",
       "\\hline\n",
       "\t No  & 21\\%\\\\\n",
       "\t Yes & 39\\%\\\\\n",
       "\\end{tabular}\n"
      ],
      "text/markdown": [
       "\n",
       "A data.frame: 2 × 2\n",
       "\n",
       "| education &lt;fct&gt; | wealth_gap &lt;chr&gt; |\n",
       "|---|---|\n",
       "| No  | 21% |\n",
       "| Yes | 39% |\n",
       "\n"
      ],
      "text/plain": [
       "  education wealth_gap\n",
       "1 No        21%       \n",
       "2 Yes       39%       "
      ]
     },
     "metadata": {},
     "output_type": "display_data"
    }
   ],
   "source": [
    "percentage_table(result=results, column1=\"university\", column3=\"m_wealth\")"
   ]
  },
  {
   "cell_type": "markdown",
   "metadata": {
    "pycharm": {
     "name": "#%% md\n"
    }
   },
   "source": [
    "Without university degree, male-lead households accumulate 21% more wealth than female counterpart, while with university degree, the gap is widen to 39%. Thus education seems to enlarge the gender-wealth gap.\n",
    "\n",
    "Let's study gender wealth gap within subsamples of \"university degree\" and \"no university degree\" respectively by running formal two sample t-test in the 2 subsamples."
   ]
  },
  {
   "cell_type": "code",
   "execution_count": 29,
   "metadata": {
    "pycharm": {
     "name": "#%%\n"
    }
   },
   "outputs": [
    {
     "data": {
      "text/plain": [
       "\n",
       "\tWelch Two Sample t-test\n",
       "\n",
       "data:  filter(university_data, gender == \"Male\")$wealth and filter(university_data, gender == \"Female\")$wealth\n",
       "t = 7.3872, df = 3782.4, p-value = 1.836e-13\n",
       "alternative hypothesis: true difference in means is not equal to 0\n",
       "95 percent confidence interval:\n",
       " 343428.9 591586.0\n",
       "sample estimates:\n",
       "mean of x mean of y \n",
       "  1680511   1213004 \n"
      ]
     },
     "metadata": {},
     "output_type": "display_data"
    },
    {
     "data": {
      "text/html": [
       "<strong>mean of x:</strong> 467507.47"
      ],
      "text/latex": [
       "\\textbf{mean of x:} 467507.47"
      ],
      "text/markdown": [
       "**mean of x:** 467507.47"
      ],
      "text/plain": [
       "mean of x \n",
       " 467507.5 "
      ]
     },
     "metadata": {},
     "output_type": "display_data"
    },
    {
     "data": {
      "text/plain": [
       "\n",
       "\tWelch Two Sample t-test\n",
       "\n",
       "data:  filter(nuniversity_data, gender == \"Male\")$wealth and filter(nuniversity_data, gender == \"Female\")$wealth\n",
       "t = 3.7902, df = 5082.4, p-value = 0.0001523\n",
       "alternative hypothesis: true difference in means is not equal to 0\n",
       "95 percent confidence interval:\n",
       "  69225.74 217566.06\n",
       "sample estimates:\n",
       "mean of x mean of y \n",
       " 818279.2  674883.3 \n"
      ]
     },
     "metadata": {},
     "output_type": "display_data"
    },
    {
     "data": {
      "text/html": [
       "<strong>mean of x:</strong> 143395.9"
      ],
      "text/latex": [
       "\\textbf{mean of x:} 143395.9"
      ],
      "text/markdown": [
       "**mean of x:** 143395.9"
      ],
      "text/plain": [
       "mean of x \n",
       " 143395.9 "
      ]
     },
     "metadata": {},
     "output_type": "display_data"
    }
   ],
   "source": [
    "university_data = filter(SFS_data, university == \"Yes\") #university only data \n",
    "nuniversity_data = filter(SFS_data, university == \"No\") #not university data\n",
    "\n",
    "t2 = t.test(\n",
    "       x = filter(university_data, gender == \"Male\")$wealth,\n",
    "       y = filter(university_data, gender == \"Female\")$wealth,\n",
    "       alternative = \"two.sided\",\n",
    "       mu = 0,\n",
    "       conf.level = 0.95)\n",
    "\n",
    "t2  #test for the wealth gap in university data\n",
    "\n",
    "round(t2$estimate[1] - t2$estimate[2],2)\n",
    "\n",
    "\n",
    "t3 = t.test(\n",
    "       x = filter(nuniversity_data, gender == \"Male\")$wealth,\n",
    "       y = filter(nuniversity_data, gender == \"Female\")$wealth,\n",
    "       alternative = \"two.sided\",\n",
    "       mu = 0,\n",
    "       conf.level = 0.95)\n",
    "\n",
    "t3 #test for the wealth gap in non-university data\n",
    "\n",
    "round(t3$estimate[1] - t3$estimate[2],2)"
   ]
  },
  {
   "cell_type": "markdown",
   "metadata": {
    "pycharm": {
     "name": "#%% md\n"
    }
   },
   "source": [
    "Consider the results above.  Do you think the results of Welch Two Sample t-test are consistent with the above descriptive results?\n",
    "\n",
    "> _Think Deeper_: How can you explain the effects of education on gender-wealth gap? What would you need to know in order to rationalize your explanation?  \n",
    "\n",
    "### Wrapping Up\n",
    "\n",
    "At this point, we have started to explore the gender wealth gap.  Next, work on the following exercises to learn more. We will touch on the second important factor: income."
   ]
  },
  {
   "cell_type": "markdown",
   "metadata": {
    "pycharm": {
     "name": "#%% md\n"
    }
   },
   "source": [
    "# Part 3: Exercises"
   ]
  },
  {
   "cell_type": "markdown",
   "metadata": {
    "pycharm": {
     "name": "#%% md\n"
    }
   },
   "source": [
    "### Activity 1 \n",
    "First, examine ``SFS_data`` with a focus on before-tax income. Create a table that tabulates the average before-tax income by gender. A correct ``tab_income`` table will pass the test.  Try looking at how we generated some of the earlier tables for inspiration, if you need a hint."
   ]
  },
  {
   "cell_type": "code",
   "execution_count": 31,
   "metadata": {
    "collapsed": false,
    "jupyter": {
     "outputs_hidden": false
    },
    "pycharm": {
     "name": "#%%\n"
    }
   },
   "outputs": [
    {
     "data": {
      "text/html": [
       "<table class=\"dataframe\">\n",
       "<caption>A tibble: 2 × 3</caption>\n",
       "<thead>\n",
       "\t<tr><th scope=col>gender</th><th scope=col>m_income</th><th scope=col>sd_income</th></tr>\n",
       "\t<tr><th scope=col>&lt;fct&gt;</th><th scope=col>&lt;dbl&gt;</th><th scope=col>&lt;dbl&gt;</th></tr>\n",
       "</thead>\n",
       "<tbody>\n",
       "\t<tr><td>Male  </td><td>109613.58</td><td>142974.31</td></tr>\n",
       "\t<tr><td>Female</td><td> 75269.41</td><td> 89658.98</td></tr>\n",
       "</tbody>\n",
       "</table>\n"
      ],
      "text/latex": [
       "A tibble: 2 × 3\n",
       "\\begin{tabular}{lll}\n",
       " gender & m\\_income & sd\\_income\\\\\n",
       " <fct> & <dbl> & <dbl>\\\\\n",
       "\\hline\n",
       "\t Male   & 109613.58 & 142974.31\\\\\n",
       "\t Female &  75269.41 &  89658.98\\\\\n",
       "\\end{tabular}\n"
      ],
      "text/markdown": [
       "\n",
       "A tibble: 2 × 3\n",
       "\n",
       "| gender &lt;fct&gt; | m_income &lt;dbl&gt; | sd_income &lt;dbl&gt; |\n",
       "|---|---|---|\n",
       "| Male   | 109613.58 | 142974.31 |\n",
       "| Female |  75269.41 |  89658.98 |\n",
       "\n"
      ],
      "text/plain": [
       "  gender m_income  sd_income\n",
       "1 Male   109613.58 142974.31\n",
       "2 Female  75269.41  89658.98"
      ]
     },
     "metadata": {},
     "output_type": "display_data"
    },
    {
     "name": "stdout",
     "output_type": "stream",
     "text": [
      "\u001B[32mTest passed\u001B[39m 🥇\n",
      "[1] \"Success!\"\n"
     ]
    }
   ],
   "source": [
    "tab_income <- #fill in the code below; what goes before the %>%?\n",
    "    SFS_data %>% \n",
    "    group_by(gender) %>%\n",
    "    summarize(m_income = mean(income_before_tax), sd_income = sd(income_before_tax))\n",
    "\n",
    "tab_income\n",
    "\n",
    "answer1 <- tab_income\n",
    "test_1() #quiz 1"
   ]
  },
  {
   "cell_type": "markdown",
   "metadata": {
    "pycharm": {
     "name": "#%% md\n"
    }
   },
   "source": [
    "#### Short Answer 1:\n",
    "\n",
    "What type of variable is ``gender``? Does it make sense to have ``gender`` as that variable type? Why or why not?  Write your answer in the box below:"
   ]
  },
  {
   "cell_type": "markdown",
   "metadata": {
    "pycharm": {
     "name": "#%% md\n"
    }
   },
   "source": [
    "<font color=\"red\">Answer here (delete this text)</font>"
   ]
  },
  {
   "cell_type": "markdown",
   "metadata": {
    "pycharm": {
     "name": "#%% md\n"
    }
   },
   "source": [
    "Answer: `gender` is factor. It makes sense to have `gender` to be factor, because the variable is displayed clearly to be either 'male' or 'female', and in the next chapter, you will notice that if a variable is a factor, R can handle this qualitative variable as 'dummies' properly, which is very neat."
   ]
  },
  {
   "cell_type": "markdown",
   "metadata": {
    "pycharm": {
     "name": "#%% md\n"
    }
   },
   "source": [
    "### Activity 2\n",
    "\n",
    "The table that we got in the previous activity is fairly clear, but let's illustrate things with a chart. Construct a bar graph that charts the average income before tax by gender. ``income_graph`` will store this plot. You can see it by running the second code chunk below."
   ]
  },
  {
   "cell_type": "code",
   "execution_count": 32,
   "metadata": {
    "collapsed": false,
    "jupyter": {
     "outputs_hidden": false
    },
    "pycharm": {
     "name": "#%%\n"
    }
   },
   "outputs": [],
   "source": [
    "SFS_data$gender <- haven::as_factor(SFS_data$gender)\n",
    "income_graph <- ggplot(data = SFS_data, aes(x = gender, y = income_before_tax)) + xlab(\"Gender\") + ylab(\"Income before tax\")  #what goes in the x = spot?  what goes in xlab(\"\")?\n",
    "income_graph <- income_graph + geom_bar(stat = \"summary\", fun = mean, fill = \"lightblue\")\n",
    "income_graph <- income_graph + coord_flip()"
   ]
  },
  {
   "cell_type": "code",
   "execution_count": 33,
   "metadata": {
    "pycharm": {
     "name": "#%%\n"
    }
   },
   "outputs": [
    {
     "name": "stderr",
     "output_type": "stream",
     "text": [
      "Don't know how to automatically pick scale for object of type haven_labelled/vctrs_vctr/double. Defaulting to continuous.\n",
      "\n"
     ]
    },
    {
     "data": {
      "image/png": "[encoded data removed]",
      "text/plain": [
       "plot without title"
      ]
     },
     "metadata": {
      "image/png": {
       "height": 180,
       "width": 600
      }
     },
     "output_type": "display_data"
    }
   ],
   "source": [
    "income_graph"
   ]
  },
  {
   "cell_type": "markdown",
   "metadata": {
    "pycharm": {
     "name": "#%% md\n"
    }
   },
   "source": [
    "#### Short Answer 2\n",
    "Examine the graph.  What do we observe when we compare the average before-tax income between genders? What does this suggest?"
   ]
  },
  {
   "cell_type": "markdown",
   "metadata": {
    "pycharm": {
     "name": "#%% md\n"
    }
   },
   "source": [
    "<font color=\"red\">Answer here (delete this text)</font>"
   ]
  },
  {
   "cell_type": "markdown",
   "metadata": {
    "pycharm": {
     "name": "#%% md\n"
    }
   },
   "source": [
    "Answer: Male-lead households have higher before-tax income on average. This suggests higher income may be a reason why male-lead households accumulate more wealth in general."
   ]
  },
  {
   "cell_type": "markdown",
   "metadata": {
    "pycharm": {
     "name": "#%% md\n"
    }
   },
   "source": [
    "### Activity 3\n",
    "Now, create a table that tabulates average before-tax income by education level and gender. This table, labelled ``tab_income2``, will be tested for correctness."
   ]
  },
  {
   "cell_type": "code",
   "execution_count": 34,
   "metadata": {
    "collapsed": false,
    "jupyter": {
     "outputs_hidden": false
    },
    "pycharm": {
     "name": "#%%\n"
    }
   },
   "outputs": [
    {
     "name": "stderr",
     "output_type": "stream",
     "text": [
      "`summarise()` has grouped output by 'education'. You can override using the `.groups` argument.\n",
      "\n"
     ]
    },
    {
     "data": {
      "text/html": [
       "<table class=\"dataframe\">\n",
       "<caption>A grouped_df: 8 × 4</caption>\n",
       "<thead>\n",
       "\t<tr><th scope=col>education</th><th scope=col>gender</th><th scope=col>m_income</th><th scope=col>sd_income</th></tr>\n",
       "\t<tr><th scope=col>&lt;fct&gt;</th><th scope=col>&lt;fct&gt;</th><th scope=col>&lt;dbl&gt;</th><th scope=col>&lt;dbl&gt;</th></tr>\n",
       "</thead>\n",
       "<tbody>\n",
       "\t<tr><td>Less than high school        </td><td>Male  </td><td> 47140.72</td><td> 58439.74</td></tr>\n",
       "\t<tr><td>Less than high school        </td><td>Female</td><td> 23477.31</td><td> 70538.04</td></tr>\n",
       "\t<tr><td>High school                  </td><td>Male  </td><td> 81191.49</td><td> 78901.52</td></tr>\n",
       "\t<tr><td>High school                  </td><td>Female</td><td> 51472.26</td><td> 63750.58</td></tr>\n",
       "\t<tr><td>Non-university post-secondary</td><td>Male  </td><td> 99335.89</td><td> 79740.78</td></tr>\n",
       "\t<tr><td>Non-university post-secondary</td><td>Female</td><td> 65724.20</td><td> 86372.51</td></tr>\n",
       "\t<tr><td>University                   </td><td>Male  </td><td>157819.15</td><td>205913.19</td></tr>\n",
       "\t<tr><td>University                   </td><td>Female</td><td>108537.15</td><td> 95725.67</td></tr>\n",
       "</tbody>\n",
       "</table>\n"
      ],
      "text/latex": [
       "A grouped\\_df: 8 × 4\n",
       "\\begin{tabular}{llll}\n",
       " education & gender & m\\_income & sd\\_income\\\\\n",
       " <fct> & <fct> & <dbl> & <dbl>\\\\\n",
       "\\hline\n",
       "\t Less than high school         & Male   &  47140.72 &  58439.74\\\\\n",
       "\t Less than high school         & Female &  23477.31 &  70538.04\\\\\n",
       "\t High school                   & Male   &  81191.49 &  78901.52\\\\\n",
       "\t High school                   & Female &  51472.26 &  63750.58\\\\\n",
       "\t Non-university post-secondary & Male   &  99335.89 &  79740.78\\\\\n",
       "\t Non-university post-secondary & Female &  65724.20 &  86372.51\\\\\n",
       "\t University                    & Male   & 157819.15 & 205913.19\\\\\n",
       "\t University                    & Female & 108537.15 &  95725.67\\\\\n",
       "\\end{tabular}\n"
      ],
      "text/markdown": [
       "\n",
       "A grouped_df: 8 × 4\n",
       "\n",
       "| education &lt;fct&gt; | gender &lt;fct&gt; | m_income &lt;dbl&gt; | sd_income &lt;dbl&gt; |\n",
       "|---|---|---|---|\n",
       "| Less than high school         | Male   |  47140.72 |  58439.74 |\n",
       "| Less than high school         | Female |  23477.31 |  70538.04 |\n",
       "| High school                   | Male   |  81191.49 |  78901.52 |\n",
       "| High school                   | Female |  51472.26 |  63750.58 |\n",
       "| Non-university post-secondary | Male   |  99335.89 |  79740.78 |\n",
       "| Non-university post-secondary | Female |  65724.20 |  86372.51 |\n",
       "| University                    | Male   | 157819.15 | 205913.19 |\n",
       "| University                    | Female | 108537.15 |  95725.67 |\n",
       "\n"
      ],
      "text/plain": [
       "  education                     gender m_income  sd_income\n",
       "1 Less than high school         Male    47140.72  58439.74\n",
       "2 Less than high school         Female  23477.31  70538.04\n",
       "3 High school                   Male    81191.49  78901.52\n",
       "4 High school                   Female  51472.26  63750.58\n",
       "5 Non-university post-secondary Male    99335.89  79740.78\n",
       "6 Non-university post-secondary Female  65724.20  86372.51\n",
       "7 University                    Male   157819.15 205913.19\n",
       "8 University                    Female 108537.15  95725.67"
      ]
     },
     "metadata": {},
     "output_type": "display_data"
    },
    {
     "name": "stdout",
     "output_type": "stream",
     "text": [
      "\u001B[32mTest passed\u001B[39m 😀\n",
      "[1] \"Success!\"\n"
     ]
    }
   ],
   "source": [
    "tab_income2 <- \n",
    "    SFS_data %>%\n",
    "    group_by(education,gender) %>% \n",
    "    summarize(m_income = mean(income_before_tax), sd_income = sd(income_before_tax))\n",
    "\n",
    "tab_income2\n",
    "\n",
    "answer2 <- tab_income2\n",
    "test_2() #quiz 2"
   ]
  },
  {
   "cell_type": "markdown",
   "metadata": {
    "pycharm": {
     "name": "#%% md\n"
    }
   },
   "source": [
    "Next, create table of percentage that compares average income gap between males and females within education levels (``tab_income_percent`` will store this). Note that most of the syntax is provided -- you simply need to fill in the missing code."
   ]
  },
  {
   "cell_type": "code",
   "execution_count": 40,
   "metadata": {
    "pycharm": {
     "name": "#%%\n"
    }
   },
   "outputs": [
    {
     "data": {
      "text/html": [
       "<table class=\"dataframe\">\n",
       "<caption>A data.frame: 4 × 2</caption>\n",
       "<thead>\n",
       "\t<tr><th scope=col>education</th><th scope=col>wealth_gap</th></tr>\n",
       "\t<tr><th scope=col>&lt;fct&gt;</th><th scope=col>&lt;chr&gt;</th></tr>\n",
       "</thead>\n",
       "<tbody>\n",
       "\t<tr><td>Less than high school        </td><td>100.8%</td></tr>\n",
       "\t<tr><td>High school                  </td><td>57.7% </td></tr>\n",
       "\t<tr><td>Non-university post-secondary</td><td>51.1% </td></tr>\n",
       "\t<tr><td>University                   </td><td>45.4% </td></tr>\n",
       "</tbody>\n",
       "</table>\n"
      ],
      "text/latex": [
       "A data.frame: 4 × 2\n",
       "\\begin{tabular}{ll}\n",
       " education & wealth\\_gap\\\\\n",
       " <fct> & <chr>\\\\\n",
       "\\hline\n",
       "\t Less than high school         & 100.8\\%\\\\\n",
       "\t High school                   & 57.7\\% \\\\\n",
       "\t Non-university post-secondary & 51.1\\% \\\\\n",
       "\t University                    & 45.4\\% \\\\\n",
       "\\end{tabular}\n"
      ],
      "text/markdown": [
       "\n",
       "A data.frame: 4 × 2\n",
       "\n",
       "| education &lt;fct&gt; | wealth_gap &lt;chr&gt; |\n",
       "|---|---|\n",
       "| Less than high school         | 100.8% |\n",
       "| High school                   | 57.7%  |\n",
       "| Non-university post-secondary | 51.1%  |\n",
       "| University                    | 45.4%  |\n",
       "\n"
      ],
      "text/plain": [
       "  education                     wealth_gap\n",
       "1 Less than high school         100.8%    \n",
       "2 High school                   57.7%     \n",
       "3 Non-university post-secondary 51.1%     \n",
       "4 University                    45.4%     "
      ]
     },
     "metadata": {},
     "output_type": "display_data"
    }
   ],
   "source": [
    "tab_income_percent <- percentage_table(result=tab_income2, column1=\"education\", column3=\"m_income\")\n",
    "tab_income_percent"
   ]
  },
  {
   "cell_type": "markdown",
   "metadata": {
    "pycharm": {
     "name": "#%% md\n"
    }
   },
   "source": [
    "#### Short Answer 3\n",
    "Examine the table. What do we observe when we compare the before-tax income gap between education levels? What does this suggest? And if you compare the income gap table with wealth gap table (percentage), what do you find?"
   ]
  },
  {
   "cell_type": "markdown",
   "metadata": {
    "pycharm": {
     "name": "#%% md\n"
    }
   },
   "source": [
    "<font color=\"red\">Answer here (delete this text)</font>"
   ]
  },
  {
   "cell_type": "markdown",
   "metadata": {
    "pycharm": {
     "name": "#%% md\n"
    }
   },
   "source": [
    "Answer: The gender-income gap is widest among households with education less than high school, and decreases as education increases. The absolute value of gender-income gap increases with education. $\\text{percentage gap}=\\frac{\\text{male income} - \\text{female income}}{\\text{female income}}$. So the percentage gap decreases with education is because the denominator increases.\n",
    "If we compare the before-tax income gap with wealth gap, we notice that the wealth gap is smaller than the income gap, which may come from the effects of tax or investment and saving behavior difference between males and females."
   ]
  },
  {
   "cell_type": "markdown",
   "metadata": {
    "pycharm": {
     "name": "#%% md\n"
    }
   },
   "source": [
    "### Activity 4\n",
    "Economists are often concerned with two aspects of the relationship between male and female lead households  and education:\n",
    "* Difference in average income between the two household groups\n",
    "* The difference in returns to education between the two household groups\n",
    "\n",
    "Let's explore these two topics. First, test whether there are significant differences in income before tax between male and female lead households within each education group. Within which education levels do we see significant differences \n",
    "\n",
    "_Note_: You will perform the t-test's of gender income gap on each education group."
   ]
  },
  {
   "cell_type": "code",
   "execution_count": 36,
   "metadata": {
    "collapsed": false,
    "jupyter": {
     "outputs_hidden": false
    },
    "pycharm": {
     "name": "#%%\n"
    }
   },
   "outputs": [
    {
     "data": {
      "text/plain": [
       "\n",
       "\tWelch Two Sample t-test\n",
       "\n",
       "data:  filter(SFS_data, (gender == \"Male\" & education == \"Less than high school\"))$income_before_tax and filter(SFS_data, (gender == \"Female\" & education == \"Less than high school\"))$income_before_tax\n",
       "t = 6.0219, df = 817.85, p-value = 2.602e-09\n",
       "alternative hypothesis: true difference in means is not equal to 0\n",
       "95 percent confidence interval:\n",
       " 15950.2 31376.6\n",
       "sample estimates:\n",
       "mean of x mean of y \n",
       " 47140.72  23477.31 \n"
      ]
     },
     "metadata": {},
     "output_type": "display_data"
    },
    {
     "data": {
      "text/html": [
       "<strong>mean of x:</strong> 29719.23"
      ],
      "text/latex": [
       "\\textbf{mean of x:} 29719.23"
      ],
      "text/markdown": [
       "**mean of x:** 29719.23"
      ],
      "text/plain": [
       "mean of x \n",
       " 29719.23 "
      ]
     },
     "metadata": {},
     "output_type": "display_data"
    },
    {
     "data": {
      "text/plain": [
       "\n",
       "\tWelch Two Sample t-test\n",
       "\n",
       "data:  filter(SFS_data, (gender == \"Male\" & education == \"High school\"))$income_before_tax and filter(SFS_data, (gender == \"Female\" & education == \"High school\"))$income_before_tax\n",
       "t = 9.8409, df = 2092, p-value < 2.2e-16\n",
       "alternative hypothesis: true difference in means is not equal to 0\n",
       "95 percent confidence interval:\n",
       " 23796.77 35641.70\n",
       "sample estimates:\n",
       "mean of x mean of y \n",
       " 81191.49  51472.26 \n"
      ]
     },
     "metadata": {},
     "output_type": "display_data"
    },
    {
     "name": "stdout",
     "output_type": "stream",
     "text": [
      "\u001B[32mTest passed\u001B[39m 🎉\n",
      "[1] \"Success!\"\n"
     ]
    },
    {
     "data": {
      "text/plain": [
       "\n",
       "\tWelch Two Sample t-test\n",
       "\n",
       "data:  filter(SFS_data, (gender == \"Male\" & education == \"Non-university post-secondary\"))$income_before_tax and filter(SFS_data, (gender == \"Female\" & education == \"Non-university post-secondary\"))$income_before_tax\n",
       "t = 10.358, df = 2172, p-value < 2.2e-16\n",
       "alternative hypothesis: true difference in means is not equal to 0\n",
       "95 percent confidence interval:\n",
       " 27248.02 39975.37\n",
       "sample estimates:\n",
       "mean of x mean of y \n",
       " 99335.89  65724.20 \n"
      ]
     },
     "metadata": {},
     "output_type": "display_data"
    },
    {
     "data": {
      "text/plain": [
       "\n",
       "\tWelch Two Sample t-test\n",
       "\n",
       "data:  filter(SFS_data, (gender == \"Male\" & education == \"University\"))$income_before_tax and filter(SFS_data, (gender == \"Female\" & education == \"University\"))$income_before_tax\n",
       "t = 9.8699, df = 3281.8, p-value < 2.2e-16\n",
       "alternative hypothesis: true difference in means is not equal to 0\n",
       "95 percent confidence interval:\n",
       " 39491.99 59072.01\n",
       "sample estimates:\n",
       "mean of x mean of y \n",
       " 157819.1  108537.1 \n"
      ]
     },
     "metadata": {},
     "output_type": "display_data"
    },
    {
     "data": {
      "text/html": [
       "<strong>mean of x:</strong> 49282"
      ],
      "text/latex": [
       "\\textbf{mean of x:} 49282"
      ],
      "text/markdown": [
       "**mean of x:** 49282"
      ],
      "text/plain": [
       "mean of x \n",
       "    49282 "
      ]
     },
     "metadata": {},
     "output_type": "display_data"
    },
    {
     "name": "stdout",
     "output_type": "stream",
     "text": [
      "\u001B[32mTest passed\u001B[39m 😀\n",
      "[1] \"Success!\"\n"
     ]
    }
   ],
   "source": [
    "#Less than high school \n",
    "tlesshs = t.test(\n",
    "       x = filter(SFS_data, (gender == \"Male\" & education=='Less than high school'))$income_before_tax,\n",
    "       y = filter(SFS_data, (gender == \"Female\" & education=='Less than high school'))$income_before_tax,\n",
    "       alternative = \"two.sided\",\n",
    "       mu = 0,\n",
    "       conf.level = 0.95)\n",
    "\n",
    "tlesshs\n",
    "\n",
    "#High school \n",
    "\n",
    "ths = t.test(\n",
    "       x = filter(SFS_data, (gender == \"Male\" & education=='High school'))$income_before_tax,\n",
    "       y = filter(SFS_data, (gender == \"Female\" & education=='High school'))$income_before_tax,\n",
    "       alternative = \"two.sided\",\n",
    "       mu = 0,\n",
    "       conf.level = 0.95)\n",
    "\n",
    "\n",
    "round(ths$estimate[1] - ths$estimate[2],2)\n",
    "ths\n",
    "test_3() #quiz 3\n",
    "\n",
    "\n",
    "\n",
    "# Non-uni post-seconary\n",
    "\n",
    "tsocol = t.test(\n",
    "       x = filter(SFS_data, (gender == \"Male\" & education=='Non-university post-secondary'))$income_before_tax,\n",
    "       y = filter(SFS_data, (gender == \"Female\" & education=='Non-university post-secondary'))$income_before_tax,\n",
    "       alternative = \"two.sided\",\n",
    "       mu = 0,\n",
    "       conf.level = 0.95)\n",
    "\n",
    "tsocol\n",
    "\n",
    "#University\n",
    "\n",
    "tuni = t.test(\n",
    "       x = filter(SFS_data, (gender == \"Male\" & education=='University'))$income_before_tax,\n",
    "       y = filter(SFS_data, (gender == \"Female\" & education=='University'))$income_before_tax,\n",
    "       alternative = \"two.sided\",\n",
    "       mu = 0,\n",
    "       conf.level = 0.95)\n",
    "\n",
    "tuni\n",
    "round(tuni$estimate[1] - tuni$estimate[2],2)\n",
    "test_4() #quiz 4\n",
    "\n",
    "\n"
   ]
  },
  {
   "cell_type": "markdown",
   "metadata": {
    "pycharm": {
     "name": "#%% md\n"
    }
   },
   "source": [
    "### Activity 5\n",
    "Next, examine whether returns to education differ between genders. For our purposes, we will define:\n",
    "> **Returns to Education**: The difference in average income before tax between two subsequent education levels.\n",
    "\n",
    "Run this test for the returns to education of: \n",
    "* High school diploma (relative to less than high school) and \n",
    "* University degree (relative to non-university post-secondary)\n",
    "\n",
    "*The following t-test objects will be tested for correctness:* Returns to education of a high school diploma for males (``retHS``) and for females(``retHSF``), and returns to education of a university's degree for males (``retU``) and for females (``retUF``)."
   ]
  },
  {
   "cell_type": "code",
   "execution_count": 37,
   "metadata": {
    "pycharm": {
     "name": "#%%\n"
    }
   },
   "outputs": [
    {
     "data": {
      "text/plain": [
       "\n",
       "\tWelch Two Sample t-test\n",
       "\n",
       "data:  filter(SFS_data, (gender == \"Male\" & education == \"Less than high school\"))$income_before_tax and filter(SFS_data, (gender == \"Male\" & education == \"High school\"))$income_before_tax\n",
       "t = -11.44, df = 1968.1, p-value < 2.2e-16\n",
       "alternative hypothesis: true difference in means is not equal to 0\n",
       "95 percent confidence interval:\n",
       " -39888.30 -28213.26\n",
       "sample estimates:\n",
       "mean of x mean of y \n",
       " 47140.72  81191.49 \n"
      ]
     },
     "metadata": {},
     "output_type": "display_data"
    },
    {
     "data": {
      "text/html": [
       "<strong>mean of y:</strong> 34050.78"
      ],
      "text/latex": [
       "\\textbf{mean of y:} 34050.78"
      ],
      "text/markdown": [
       "**mean of y:** 34050.78"
      ],
      "text/plain": [
       "mean of y \n",
       " 34050.78 "
      ]
     },
     "metadata": {},
     "output_type": "display_data"
    },
    {
     "name": "stdout",
     "output_type": "stream",
     "text": [
      "\u001B[32mTest passed\u001B[39m 🥳\n",
      "[1] \"Success!\"\n"
     ]
    },
    {
     "data": {
      "text/plain": [
       "\n",
       "\tWelch Two Sample t-test\n",
       "\n",
       "data:  filter(SFS_data, (gender == \"Female\" & education == \"Less than high school\"))$income_before_tax and filter(SFS_data, (gender == \"Female\" & education == \"High school\"))$income_before_tax\n",
       "t = -7.0649, df = 846.02, p-value = 3.359e-12\n",
       "alternative hypothesis: true difference in means is not equal to 0\n",
       "95 percent confidence interval:\n",
       " -35772.52 -20217.37\n",
       "sample estimates:\n",
       "mean of x mean of y \n",
       " 23477.31  51472.26 \n"
      ]
     },
     "metadata": {},
     "output_type": "display_data"
    },
    {
     "data": {
      "text/html": [
       "<strong>mean of y:</strong> 27994.95"
      ],
      "text/latex": [
       "\\textbf{mean of y:} 27994.95"
      ],
      "text/markdown": [
       "**mean of y:** 27994.95"
      ],
      "text/plain": [
       "mean of y \n",
       " 27994.95 "
      ]
     },
     "metadata": {},
     "output_type": "display_data"
    },
    {
     "name": "stdout",
     "output_type": "stream",
     "text": [
      "\u001B[32mTest passed\u001B[39m 🌈\n",
      "[1] \"Success!\"\n"
     ]
    }
   ],
   "source": [
    "#Returns to education: High school diploma\n",
    "\n",
    "##Males\n",
    "\n",
    "retHS = t.test(\n",
    "       x = filter(SFS_data, (gender == \"Male\" & education=='Less than high school'))$income_before_tax,\n",
    "       y = filter(SFS_data, (gender == \"Male\" & education=='High school'))$income_before_tax,\n",
    "       alternative = \"two.sided\",\n",
    "       mu = 0,\n",
    "       conf.level = 0.95)#what goes here?\n",
    "\n",
    "retHS\n",
    "round(retHS$estimate[2] - retHS$estimate[1],2)\n",
    "\n",
    "test_5() \n",
    "\n",
    "##Females\n",
    "\n",
    "retHSF = t.test(\n",
    "       x = filter(SFS_data, (gender == \"Female\" & education=='Less than high school'))$income_before_tax,\n",
    "       y = filter(SFS_data, (gender == \"Female\" & education=='High school'))$income_before_tax,\n",
    "       alternative = \"two.sided\",\n",
    "       mu = 0,\n",
    "       conf.level = 0.95)#what goes here?\n",
    "\n",
    "retHSF\n",
    "round(retHSF$estimate[2] - retHSF$estimate[1],2)\n",
    "\n",
    "test_6() #quiz 6"
   ]
  },
  {
   "cell_type": "code",
   "execution_count": 38,
   "metadata": {
    "pycharm": {
     "name": "#%%\n"
    }
   },
   "outputs": [
    {
     "data": {
      "text/plain": [
       "\n",
       "\tWelch Two Sample t-test\n",
       "\n",
       "data:  filter(SFS_data, (gender == \"Male\" & education == \"Non-university post-secondary\"))$income_before_tax and filter(SFS_data, (gender == \"Male\" & education == \"University\"))$income_before_tax\n",
       "t = -12.197, df = 2971.5, p-value < 2.2e-16\n",
       "alternative hypothesis: true difference in means is not equal to 0\n",
       "95 percent confidence interval:\n",
       " -67884.72 -49081.79\n",
       "sample estimates:\n",
       "mean of x mean of y \n",
       " 99335.89 157819.15 \n"
      ]
     },
     "metadata": {},
     "output_type": "display_data"
    },
    {
     "data": {
      "text/html": [
       "<strong>mean of y:</strong> 58483.26"
      ],
      "text/latex": [
       "\\textbf{mean of y:} 58483.26"
      ],
      "text/markdown": [
       "**mean of y:** 58483.26"
      ],
      "text/plain": [
       "mean of y \n",
       " 58483.26 "
      ]
     },
     "metadata": {},
     "output_type": "display_data"
    },
    {
     "name": "stdout",
     "output_type": "stream",
     "text": [
      "\u001B[32mTest passed\u001B[39m 😸\n",
      "[1] \"Success!\"\n"
     ]
    },
    {
     "data": {
      "text/plain": [
       "\n",
       "\tWelch Two Sample t-test\n",
       "\n",
       "data:  filter(SFS_data, (gender == \"Female\" & education == \"Non-university post-secondary\"))$income_before_tax and filter(SFS_data, (gender == \"Female\" & education == \"University\"))$income_before_tax\n",
       "t = -12.123, df = 2485.4, p-value < 2.2e-16\n",
       "alternative hypothesis: true difference in means is not equal to 0\n",
       "95 percent confidence interval:\n",
       " -49737.98 -35887.93\n",
       "sample estimates:\n",
       "mean of x mean of y \n",
       "  65724.2  108537.1 \n"
      ]
     },
     "metadata": {},
     "output_type": "display_data"
    },
    {
     "data": {
      "text/html": [
       "<strong>mean of y:</strong> 42812.95"
      ],
      "text/latex": [
       "\\textbf{mean of y:} 42812.95"
      ],
      "text/markdown": [
       "**mean of y:** 42812.95"
      ],
      "text/plain": [
       "mean of y \n",
       " 42812.95 "
      ]
     },
     "metadata": {},
     "output_type": "display_data"
    },
    {
     "name": "stdout",
     "output_type": "stream",
     "text": [
      "\u001B[32mTest passed\u001B[39m 😸\n",
      "[1] \"Success!\"\n"
     ]
    }
   ],
   "source": [
    "#Returns to education: University\n",
    "\n",
    "##Males\n",
    "\n",
    "retU = t.test(\n",
    "       x = filter(SFS_data, (gender == \"Male\" & education=='Non-university post-secondary'))$income_before_tax,\n",
    "       y = filter(SFS_data, (gender == \"Male\" & education=='University'))$income_before_tax,\n",
    "       alternative = \"two.sided\",\n",
    "       mu = 0,\n",
    "       conf.level = 0.95)#what goes here?\n",
    "\n",
    "retU\n",
    "round(retU$estimate[2] - retU$estimate[1],2)\n",
    "\n",
    "test_7() \n",
    "\n",
    "##Females\n",
    "\n",
    "retUF = t.test(\n",
    "       x = filter(SFS_data, (gender == \"Female\" & education=='Non-university post-secondary'))$income_before_tax,\n",
    "       y = filter(SFS_data, (gender == \"Female\" & education=='University'))$income_before_tax,\n",
    "       alternative = \"two.sided\",\n",
    "       mu = 0,\n",
    "       conf.level = 0.95)#what goes here?\n",
    "\n",
    "retUF\n",
    "round(retUF$estimate[2] - retUF$estimate[1],2)\n",
    "\n",
    "test_8() #quiz 8"
   ]
  },
  {
   "cell_type": "markdown",
   "metadata": {
    "pycharm": {
     "name": "#%% md\n"
    }
   },
   "source": [
    "#### Short Answer 4\n",
    "**Reflect on your analysis:** Interpret the results of the t-tests above. Are the returns to each level of education significant for males? For females? Comment on the difference between returns to education for a high school degree and that for a university degree."
   ]
  },
  {
   "cell_type": "markdown",
   "metadata": {
    "pycharm": {
     "name": "#%% md\n"
    }
   },
   "source": [
    "<font color=\"red\">Answer here (delete this text)</font>\n",
    "\n",
    "Answer: Returns to each level of education are significant for males and females. We can see that incomes before tax increase as education increases."
   ]
  },
  {
   "cell_type": "markdown",
   "metadata": {
    "pycharm": {
     "name": "#%% md\n"
    }
   },
   "source": [
    "#### Short Answer 5\n",
    "**Discuss your results:** Do the returns to each level of education (for either level of education) differ between males and females? What differences between the two groups might explain this difference?"
   ]
  },
  {
   "cell_type": "markdown",
   "metadata": {
    "pycharm": {
     "name": "#%% md\n"
    }
   },
   "source": [
    "<font color=\"red\">Answer here (delete this text)</font>\n",
    "\n",
    "Answer: The returns to each level of education are higher for male-lead households. The gender-income gap of each level of education may come from gender difference in occupations and position levels."
   ]
  },
  {
   "cell_type": "markdown",
   "metadata": {
    "pycharm": {
     "name": "#%% md\n"
    }
   },
   "source": [
    "### Activity 6\n",
    "Now, let's repeat Activity 3 with after-tax income, i.e., create a table that tabulates average after-tax income by education level and gender. This table, labelled ``tab_income3``, will be tested for correctness."
   ]
  },
  {
   "cell_type": "code",
   "execution_count": 41,
   "metadata": {
    "pycharm": {
     "name": "#%%\n"
    }
   },
   "outputs": [
    {
     "name": "stderr",
     "output_type": "stream",
     "text": [
      "`summarise()` has grouped output by 'education'. You can override using the `.groups` argument.\n",
      "\n"
     ]
    },
    {
     "data": {
      "text/html": [
       "<table class=\"dataframe\">\n",
       "<caption>A grouped_df: 8 × 4</caption>\n",
       "<thead>\n",
       "\t<tr><th scope=col>education</th><th scope=col>gender</th><th scope=col>m_income</th><th scope=col>sd_income</th></tr>\n",
       "\t<tr><th scope=col>&lt;fct&gt;</th><th scope=col>&lt;fct&gt;</th><th scope=col>&lt;dbl&gt;</th><th scope=col>&lt;dbl&gt;</th></tr>\n",
       "</thead>\n",
       "<tbody>\n",
       "\t<tr><td>Less than high school        </td><td>Male  </td><td> 57361.48</td><td> 42498.92</td></tr>\n",
       "\t<tr><td>Less than high school        </td><td>Female</td><td> 38260.68</td><td> 45443.04</td></tr>\n",
       "\t<tr><td>High school                  </td><td>Male  </td><td> 77059.86</td><td> 54068.84</td></tr>\n",
       "\t<tr><td>High school                  </td><td>Female</td><td> 57211.35</td><td> 49067.68</td></tr>\n",
       "\t<tr><td>Non-university post-secondary</td><td>Male  </td><td> 89486.32</td><td> 55516.09</td></tr>\n",
       "\t<tr><td>Non-university post-secondary</td><td>Female</td><td> 66886.81</td><td> 63822.91</td></tr>\n",
       "\t<tr><td>University                   </td><td>Male  </td><td>127143.51</td><td>125313.06</td></tr>\n",
       "\t<tr><td>University                   </td><td>Female</td><td> 94116.34</td><td> 66916.47</td></tr>\n",
       "</tbody>\n",
       "</table>\n"
      ],
      "text/latex": [
       "A grouped\\_df: 8 × 4\n",
       "\\begin{tabular}{llll}\n",
       " education & gender & m\\_income & sd\\_income\\\\\n",
       " <fct> & <fct> & <dbl> & <dbl>\\\\\n",
       "\\hline\n",
       "\t Less than high school         & Male   &  57361.48 &  42498.92\\\\\n",
       "\t Less than high school         & Female &  38260.68 &  45443.04\\\\\n",
       "\t High school                   & Male   &  77059.86 &  54068.84\\\\\n",
       "\t High school                   & Female &  57211.35 &  49067.68\\\\\n",
       "\t Non-university post-secondary & Male   &  89486.32 &  55516.09\\\\\n",
       "\t Non-university post-secondary & Female &  66886.81 &  63822.91\\\\\n",
       "\t University                    & Male   & 127143.51 & 125313.06\\\\\n",
       "\t University                    & Female &  94116.34 &  66916.47\\\\\n",
       "\\end{tabular}\n"
      ],
      "text/markdown": [
       "\n",
       "A grouped_df: 8 × 4\n",
       "\n",
       "| education &lt;fct&gt; | gender &lt;fct&gt; | m_income &lt;dbl&gt; | sd_income &lt;dbl&gt; |\n",
       "|---|---|---|---|\n",
       "| Less than high school         | Male   |  57361.48 |  42498.92 |\n",
       "| Less than high school         | Female |  38260.68 |  45443.04 |\n",
       "| High school                   | Male   |  77059.86 |  54068.84 |\n",
       "| High school                   | Female |  57211.35 |  49067.68 |\n",
       "| Non-university post-secondary | Male   |  89486.32 |  55516.09 |\n",
       "| Non-university post-secondary | Female |  66886.81 |  63822.91 |\n",
       "| University                    | Male   | 127143.51 | 125313.06 |\n",
       "| University                    | Female |  94116.34 |  66916.47 |\n",
       "\n"
      ],
      "text/plain": [
       "  education                     gender m_income  sd_income\n",
       "1 Less than high school         Male    57361.48  42498.92\n",
       "2 Less than high school         Female  38260.68  45443.04\n",
       "3 High school                   Male    77059.86  54068.84\n",
       "4 High school                   Female  57211.35  49067.68\n",
       "5 Non-university post-secondary Male    89486.32  55516.09\n",
       "6 Non-university post-secondary Female  66886.81  63822.91\n",
       "7 University                    Male   127143.51 125313.06\n",
       "8 University                    Female  94116.34  66916.47"
      ]
     },
     "metadata": {},
     "output_type": "display_data"
    },
    {
     "name": "stdout",
     "output_type": "stream",
     "text": [
      "\u001B[32mTest passed\u001B[39m 🌈\n",
      "[1] \"Success!\"\n"
     ]
    }
   ],
   "source": [
    "tab_income3 <- \n",
    "    SFS_data %>%\n",
    "    group_by(education,gender) %>% \n",
    "    summarize(m_income = mean(income_after_tax), sd_income = sd(income_after_tax))\n",
    "\n",
    "tab_income3\n",
    "\n",
    "answer3 <- tab_income3\n",
    "test_9() #quiz 9"
   ]
  },
  {
   "cell_type": "markdown",
   "metadata": {
    "pycharm": {
     "name": "#%% md\n"
    }
   },
   "source": [
    "Next, create table of percentage that compares average income gap between males and females within education levels (``tab2_income_percent`` will store this). Note that most of the syntax is provided -- you simply need to fill in the missing code."
   ]
  },
  {
   "cell_type": "code",
   "execution_count": 42,
   "metadata": {
    "pycharm": {
     "name": "#%%\n"
    }
   },
   "outputs": [
    {
     "data": {
      "text/html": [
       "<table class=\"dataframe\">\n",
       "<caption>A data.frame: 4 × 2</caption>\n",
       "<thead>\n",
       "\t<tr><th scope=col>education</th><th scope=col>wealth_gap</th></tr>\n",
       "\t<tr><th scope=col>&lt;fct&gt;</th><th scope=col>&lt;chr&gt;</th></tr>\n",
       "</thead>\n",
       "<tbody>\n",
       "\t<tr><td>Less than high school        </td><td>49.92%</td></tr>\n",
       "\t<tr><td>High school                  </td><td>34.69%</td></tr>\n",
       "\t<tr><td>Non-university post-secondary</td><td>33.79%</td></tr>\n",
       "\t<tr><td>University                   </td><td>35.09%</td></tr>\n",
       "</tbody>\n",
       "</table>\n"
      ],
      "text/latex": [
       "A data.frame: 4 × 2\n",
       "\\begin{tabular}{ll}\n",
       " education & wealth\\_gap\\\\\n",
       " <fct> & <chr>\\\\\n",
       "\\hline\n",
       "\t Less than high school         & 49.92\\%\\\\\n",
       "\t High school                   & 34.69\\%\\\\\n",
       "\t Non-university post-secondary & 33.79\\%\\\\\n",
       "\t University                    & 35.09\\%\\\\\n",
       "\\end{tabular}\n"
      ],
      "text/markdown": [
       "\n",
       "A data.frame: 4 × 2\n",
       "\n",
       "| education &lt;fct&gt; | wealth_gap &lt;chr&gt; |\n",
       "|---|---|\n",
       "| Less than high school         | 49.92% |\n",
       "| High school                   | 34.69% |\n",
       "| Non-university post-secondary | 33.79% |\n",
       "| University                    | 35.09% |\n",
       "\n"
      ],
      "text/plain": [
       "  education                     wealth_gap\n",
       "1 Less than high school         49.92%    \n",
       "2 High school                   34.69%    \n",
       "3 Non-university post-secondary 33.79%    \n",
       "4 University                    35.09%    "
      ]
     },
     "metadata": {},
     "output_type": "display_data"
    }
   ],
   "source": [
    "tab2_income_percent <- percentage_table(result=tab_income3, column1=\"education\", column3=\"m_income\")\n",
    "tab2_income_percent"
   ]
  },
  {
   "cell_type": "markdown",
   "metadata": {
    "pycharm": {
     "name": "#%% md\n"
    }
   },
   "source": [
    "#### Short Answer 6\n",
    "Compare the above table with the one in Activity 3. What do you find and why? And if you compare the after-tax income gap table with wealth gap table (percentage), what do you find?"
   ]
  },
  {
   "cell_type": "markdown",
   "metadata": {
    "pycharm": {
     "name": "#%% md\n"
    }
   },
   "source": [
    "<font color=\"red\">Answer here (delete this text)</font>"
   ]
  },
  {
   "cell_type": "markdown",
   "metadata": {
    "pycharm": {
     "name": "#%% md\n"
    }
   },
   "source": [
    "Answer: Compared with before-tax-income gap, the after-tax-income gap is smaller, which suggests redistribution in Canada effectively reduce income inequality.\n",
    "\n",
    "The magnitude of gender-wealth gap is similar to gender-income(after tax) gap. This means wealth gap is more sensitive to after-tax income gap."
   ]
  },
  {
   "cell_type": "markdown",
   "metadata": {
    "pycharm": {
     "name": "#%% md\n"
    }
   },
   "source": [
    "## Submitting Your Work\n",
    "Each week, you will upload your workbook as *both a ``.ipynb`` and a PDF.* Below are instructions of how to do this:\n",
    "* While viewing worksheet1, click on the ``File`` tab on the upper-left corner of the screen.\n",
    "* From there, drag your cursor over ``Download as`` to see the formats that you can export the worksheet to.\n",
    "* To export to a ``.ipynb``, click on _\"Notebook (.ipynb).\"_\n",
    "* Next, to export to a PDF, navigate back to ``File`` > ``Download as`` and click on _\"PDF via LaTeX.\"_\n",
    "* Upload both of these files to Canvas through the Assignments tab, as you would any other assignment.\n",
    "\n",
    "Once you have finished uploading both of these files, you have completed the hands-on activity -- well done!"
   ]
  },
  {
   "cell_type": "markdown",
   "metadata": {
    "pycharm": {
     "name": "#%% md\n"
    }
   },
   "source": [
    "<span id=\"fn1\">[<sup>1</sup>](#fn1s)Provided under the Statistics Canada Open License (Public).  Adapted from Statistics Canada, Statistics Canada Open License (Public)\n",
    "Adapted from Statistics Canada, 2021 Census Public Use Microdata File. This does not constitute an endorsement by Statistics Canada of this product.</span>"
   ]
  },
  {
   "cell_type": "code",
   "execution_count": null,
   "metadata": {
    "collapsed": false,
    "jupyter": {
     "outputs_hidden": false
    },
    "pycharm": {
     "name": "#%%\n"
    }
   },
   "outputs": [],
   "source": []
  }
 ],
 "metadata": {
  "kernelspec": {
   "display_name": "R",
   "language": "R",
   "name": "ir"
  },
  "language_info": {
   "codemirror_mode": "r",
   "file_extension": ".r",
   "mimetype": "text/x-r-source",
   "name": "R",
   "pygments_lexer": "r",
   "version": "4.1.1"
  }
 },
 "nbformat": 4,
 "nbformat_minor": 4
}