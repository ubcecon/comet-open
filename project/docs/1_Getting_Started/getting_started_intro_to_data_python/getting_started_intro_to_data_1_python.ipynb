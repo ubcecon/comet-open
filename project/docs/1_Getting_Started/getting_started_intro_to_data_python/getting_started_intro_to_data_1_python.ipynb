{
  "cells": [
    {
      "cell_type": "raw",
      "metadata": {},
      "source": [
        "---\n",
        "title: 0.4 - Introduction to Python\n",
        "author: COMET Team <br> _Jane Platt_\n",
        "date: TBD\n",
        "description: 'This notebook introduces you to the basics of using data Python. We'll go over importing data, cleaning it, and exploring what we're working with.'\n",
        "categories:\n",
        "  - basics\n",
        "  - getting started\n",
        "  - data types\n",
        "  - data structures\n",
        "  - introduction\n",
        "  - dataframes\n",
        "  - variables\n",
        "  - operations\n",
        "  - functions\n",
        "  - python\n",
        "format:\n",
        "  html: default\n",
        "  ipynb:\n",
        "    jupyter:\n",
        "      kernelspec:\n",
        "        display_name: Python 3 (ipykernel)\n",
        "        language: python3\n",
        "        name: python3\n",
        "---"
      ]
    },
    {
      "cell_type": "markdown",
      "metadata": {},
      "source": [
        "## Outline\n",
        "\n",
        "### Prerequisites\n",
        "\n",
        "- Introduction to Jupyter\n",
        "- Introduction to Python\n",
        "\n",
        "### Outcomes\n",
        "\n",
        "After completing this notebook, you will be able to:\n",
        "\n",
        "- Identify and understand the packages and commands needed to load, manipulate, and combine datasets in Python\n",
        "- Load data using Python in a variety of forms\n",
        "- Create and reformat data\n",
        "\n",
        "### References\n",
        "\n",
        "- [QuantEcon DataScience](https://datascience.quantecon.org/tools/index.html)\n",
        "\n",
        "## Introduction\n",
        "\n",
        "When working with data, we need to ensure that it is organized in a way that is both interpretable to Python and to our audiences. To do this, we'll want to make sure the dataset is clean. This essentially means two things: \n",
        "\n",
        "1. We have dealt with **missing data**, by either removing it or storing it in a different dataset. \n",
        "2. We have **tidied** our data, i.e., each row captures only one observation and each column captures only one variable/characteristic of the observation. Data scraped and collected manually or using automation often comes in *untidy* shapes (e.g., two variables might be placed in the same column separated with a hyphen `-`).\n",
        "\n",
        "In this notebook, we teach you how to load datasets properly in Python and then clean them using some common methods from the `haven` and `tidyverse` packages.\n",
        "\n"
      ]
    }
  ],
  "metadata": {
    "kernelspec": {
      "display_name": "Python 3 (ipykernel)",
      "language": "python",
      "name": "python3"
    }
  },
  "nbformat": 4,
  "nbformat_minor": 4
}
