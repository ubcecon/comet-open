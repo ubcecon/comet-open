{
  "cells": [
    {
      "cell_type": "raw",
      "metadata": {},
      "source": [
        "---\n",
        "title: \"0.4 - Introduction to Python\"\n",
        "author: COMET Team <br> _Jane Platt_\n",
        "date: TBD\n",
        "description: This notebook introduces you to the fundamental concepts in Python. It might be a little complex for a start, but it covers basically all of the fundamental syntax you need to know in later notebooks. Don't get overwhelmed! Remember, you can always review this later!\n",
        "categories: [basics, getting started, data types, data structures, introduction, dataframes, variables, operations, functions, python]\n",
        "format:\n",
        "  html: default\n",
        "  ipynb:\n",
        "    jupyter:\n",
        "      kernelspec:\n",
        "        display_name: Python 3 (ipykernel)\n",
        "        language: python3\n",
        "        name: python3\n",
        "---"
      ]
    },
    {
      "cell_type": "markdown",
      "metadata": {},
      "source": [
        "## Outline\n",
        "\n",
        "### Prerequisites: \n",
        "\n",
        "- Introduction to Jupyter\n",
        "\n",
        "### Learning Objectives\n",
        "\n",
        "- Learn the basic concepts of variable assignment, functions, and tabs in Python\n",
        "- Learn the basics of variables (numbers, texts, and booleans)\n",
        "- Import and load data into Jupyter Notebook\n",
        "- Access and perform manipulations on data\n",
        "\n",
        "## Introduction\n",
        "\n",
        "In this notebook, we will be introducing **Python**, which is a programming language designed for use in data science and analysis.  If you are familiar with other programming languages, such as R, this will likely be very familiar to you - if this is your first time coding, don't be intimidated!  Try to play around with the examples and exercises as you work through this notebook; it's easiest to learn to program in Python by trying things for yourself.\n",
        "\n",
        "## Part 1: Basic Programming Concepts\n",
        "\n",
        "To begin, we'll go over the most basic concepts used in Python. Specifically, we will look at variable assignment and functions. Later we will go over the different things that can go into functions and variables, but it will be important to first grasp how they work. \n",
        "\n",
        "### 1.1 Variable Assignment\n",
        "\n",
        "Variable assignment is fairly self explanatory: we will assign a value to a variable that we can then use for our analysis.\n",
        "\n",
        "To assign a value to a variable, we put the variable name on the left and the value on the right, as such: "
      ]
    },
    {
      "cell_type": "code",
      "execution_count": 5,
      "metadata": {},
      "outputs": [],
      "source": [
        "variable = \"value\""
      ]
    },
    {
      "cell_type": "markdown",
      "metadata": {},
      "source": [
        "Now, Python will remember this assignment for the rest of our Python session (the time we're running code without closing Python). If you quit and close the session, Python will not remember that we assigned the value `value` to `variable`. \n",
        "\n",
        "Now if we run `variable`, it'll output `value` just like we told it to!"
      ]
    },
    {
      "cell_type": "code",
      "execution_count": 6,
      "metadata": {},
      "outputs": [
        {
          "data": {
            "text/plain": [
              "'value'"
            ]
          },
          "execution_count": 6,
          "metadata": {},
          "output_type": "execute_result"
        }
      ],
      "source": [
        "variable"
      ]
    },
    {
      "cell_type": "markdown",
      "metadata": {},
      "source": [
        "If we don't assign a value to our object, Python will return an error. Try it for yourself below."
      ]
    },
    {
      "cell_type": "code",
      "execution_count": 7,
      "metadata": {},
      "outputs": [
        {
          "ename": "NameError",
          "evalue": "name 'x' is not defined",
          "output_type": "error",
          "traceback": [
            "\u001b[0;31m---------------------------------------------------------------------------\u001b[0m",
            "\u001b[0;31mNameError\u001b[0m                                 Traceback (most recent call last)",
            "Cell \u001b[0;32mIn[7], line 1\u001b[0m\n\u001b[0;32m----> 1\u001b[0m \u001b[43mx\u001b[49m\n",
            "\u001b[0;31mNameError\u001b[0m: name 'x' is not defined"
          ]
        }
      ],
      "source": [
        "x"
      ]
    },
    {
      "cell_type": "markdown",
      "metadata": {},
      "source": [
        "This is because we haven't *defined* our variable. When Python reads our code, it reads from right to left. So it will first read the value we picked (originally `value`), and then the computed value is stored in our object (`variable`). In the previous case, we didn't define `x` (there is no value attached, no equal sign), so Python was not able to interpret what we meant by \"x\". \n",
        "\n",
        "We can change how we define different variables as much as we would like. For example, if we were to run:"
      ]
    },
    {
      "cell_type": "code",
      "execution_count": 4,
      "metadata": {},
      "outputs": [],
      "source": [
        "variable = 10"
      ]
    },
    {
      "cell_type": "markdown",
      "metadata": {},
      "source": [
        "we've now changed our variable to store the value `10`. Notice that we can change the type of variable we are working with (from string to numeric). Now if we run `variable`, we will see a different output:"
      ]
    },
    {
      "cell_type": "code",
      "execution_count": 8,
      "metadata": {},
      "outputs": [
        {
          "data": {
            "text/plain": [
              "'value'"
            ]
          },
          "execution_count": 8,
          "metadata": {},
          "output_type": "execute_result"
        }
      ],
      "source": [
        "variable"
      ]
    },
    {
      "cell_type": "markdown",
      "metadata": {},
      "source": [
        "Python only keeps the most recent assignment, so if you change the value your variable holds, Python won't keep track of what you had put before. That's why it is useful to keep track of what you're working on using **comments** within your code. \n",
        "\n",
        "### 1.2 Comments\n",
        "\n",
        "Comments are a common concept found in all coding languages. These are little notes that we are able to leave in our code that won't affect our outputs, but that allow us to keep track of what we've been doing. \n",
        "\n",
        "To leave a comment in Python, just include `#` at the beginning of your comment. Python ignores everything that comes *after* a #. See some examples below:"
      ]
    },
    {
      "cell_type": "code",
      "execution_count": 13,
      "metadata": {},
      "outputs": [
        {
          "name": "stdout",
          "output_type": "stream",
          "text": [
            "your first name your last name\n"
          ]
        }
      ],
      "source": [
        "first_name = \"your first name\" # Enter your first name here!\n",
        "last_name = \"your last name\" # Enter your last name here!\n",
        "\n",
        "# colour = \"pick a colour\"\n",
        "\n",
        "print(first_name + ' ' + last_name)\n"
      ]
    },
    {
      "cell_type": "markdown",
      "metadata": {},
      "source": [
        "Notice how the comment we left to the right of the first two lines do not affect the code. We are able to print `first_name` and `last_name` without any issues. Try printing `colour`, though."
      ]
    },
    {
      "cell_type": "markdown",
      "metadata": {},
      "source": [
        "print(colour)"
      ]
    },
    {
      "cell_type": "markdown",
      "metadata": {},
      "source": [
        "Notice how this doesn't work? Recall that Python doesn't read anything to the right of the `#`. Because we put the `#` at the beginning of the line, Python did not read the line where we created the variable `colour`. If we wanted to create this variable, we would have to remove the `#`. Try doing that and see what pops up when you run `print(colour)`!"
      ]
    },
    {
      "cell_type": "markdown",
      "metadata": {},
      "source": [
        "## Part 2: Objects and Types\n",
        "\n",
        "As always when learning a new language, it's important to get a good grasp of the different **object types** in Python and how to use them. Whenever we work with Python, we will be manipulating different kinds of information, which is referred to as an \"object\". In Python, objects can contain both data and functions we can use on our data. These functions are sometimes called **methods**. \n",
        "\n",
        "We can take a look at what an object holds, oth in terms of data and methods, by typing `.` after the object's name and hitting `tab`. This is typically called *tab completion* or *introspection*. Doing this will list out a few different options that you can scroll through. See below:"
      ]
    },
    {
      "cell_type": "markdown",
      "metadata": {},
      "source": [
        "**insert \"introspection\" here**"
      ]
    },
    {
      "cell_type": "markdown",
      "metadata": {},
      "source": [
        "Try doing this yourself below. Try to find the method `split`. Once you have found it, you can use the method by adding parentheses after it. "
      ]
    },
    {
      "cell_type": "code",
      "execution_count": null,
      "metadata": {},
      "outputs": [],
      "source": [
        "full_name = \"enter your name\"\n",
        "full_name"
      ]
    },
    {
      "cell_type": "markdown",
      "metadata": {},
      "source": [
        "Can you tell what this method does? \n",
        "\n",
        "Another common thing we will want to do with variables and objects is find out their **type**. The **type** of data will determine what kinds of methods and functions we can perform. We will go over each type in depth at a later stage. To figure out what type of object we are working with, we can use the `type()` function. This is a simple function where the input (what goes in between the parentheses) is the object we want to study. Let's try below with the variable `first_name`. "
      ]
    },
    {
      "cell_type": "code",
      "execution_count": 18,
      "metadata": {},
      "outputs": [
        {
          "data": {
            "text/plain": [
              "str"
            ]
          },
          "execution_count": 18,
          "metadata": {},
          "output_type": "execute_result"
        }
      ],
      "source": [
        "type(first_name)"
      ]
    },
    {
      "cell_type": "markdown",
      "metadata": {},
      "source": [
        "The variable `first_name` is a **string** (`str`). We will look at what that means a bit later. \n",
        "\n",
        "### 2.1. Numbers\n",
        "\n",
        "The first type of data we will look at is **numbers**. Python has two types of numbers.\n",
        "\n",
        "1. Integers, known as `int` in Python, can only take the values of integers: `{... -157, ..., -1, 0, 14, 267, ...}`.\n",
        "2. Floating Point Numbers, known as `float`, can be any real number, such as `-1.5435, 3.14, 12, -10234.4573835`.\n",
        "\n",
        "The easiest way to tell the difference between these two types of numbers is the presence of a decimal point. Integers do not have decimals, floats do. Below, we will create some `int` and `float` variables.\n"
      ]
    },
    {
      "cell_type": "code",
      "execution_count": 20,
      "metadata": {},
      "outputs": [],
      "source": [
        "x_int = 1 \n",
        "x_float = 1.0\n",
        "z_int = 123\n",
        "z_float = 1230.5  \n",
        "z_float2 = 1_230.5  # Note that if we want to use commas to separate larger numbers \n",
        "                    # (e.g. to indicate the thousands), we use an underscore _ instead of a comma."
      ]
    },
    {
      "cell_type": "markdown",
      "metadata": {},
      "source": [
        "### 2.2 Strings\n",
        "\n",
        "Strings store all text data. For data to be stored as a string, it must be written within quotation marks. For example, "
      ]
    },
    {
      "cell_type": "code",
      "execution_count": null,
      "metadata": {},
      "outputs": [],
      "source": [
        "\"this is a string\" # quotation marks!\n",
        "'this is also a string' # ' ' also works! \n",
        "this is not a string # do you see the syntax warning?"
      ]
    },
    {
      "cell_type": "markdown",
      "metadata": {},
      "source": [
        "As we saw above when learning the `type()` function, Python identifies strings as `str`. You can see this again below: "
      ]
    },
    {
      "cell_type": "code",
      "execution_count": 21,
      "metadata": {},
      "outputs": [
        {
          "data": {
            "text/plain": [
              "str"
            ]
          },
          "execution_count": 21,
          "metadata": {},
          "output_type": "execute_result"
        }
      ],
      "source": [
        "type(first_name)"
      ]
    },
    {
      "cell_type": "markdown",
      "metadata": {},
      "source": [
        "### 2.3 Booleans\n",
        "\n",
        "Booleans are the last data type we will look at. Booleans simply denote true or false. They will be useful later on, when we start working with operations. For now, let's create some booleans and see what they look like."
      ]
    },
    {
      "cell_type": "code",
      "execution_count": 22,
      "metadata": {},
      "outputs": [],
      "source": [
        "x = True # notice how we aren't putting True in quotation marks. What do you think would happen if we did?\n",
        "y = False "
      ]
    },
    {
      "cell_type": "code",
      "execution_count": 25,
      "metadata": {},
      "outputs": [
        {
          "data": {
            "text/plain": [
              "bool"
            ]
          },
          "execution_count": 25,
          "metadata": {},
          "output_type": "execute_result"
        }
      ],
      "source": [
        "type(x)"
      ]
    },
    {
      "cell_type": "code",
      "execution_count": 26,
      "metadata": {},
      "outputs": [
        {
          "data": {
            "text/plain": [
              "True"
            ]
          },
          "execution_count": 26,
          "metadata": {},
          "output_type": "execute_result"
        }
      ],
      "source": [
        "x"
      ]
    },
    {
      "cell_type": "code",
      "execution_count": 27,
      "metadata": {},
      "outputs": [
        {
          "data": {
            "text/plain": [
              "False"
            ]
          },
          "execution_count": 27,
          "metadata": {},
          "output_type": "execute_result"
        }
      ],
      "source": [
        "y"
      ]
    },
    {
      "cell_type": "markdown",
      "metadata": {},
      "source": [
        "## Part 3: Operations\n",
        "\n",
        "We'll now take a look at different operations or functions we can run in Python. Many functions are type-dependent, meaning they only work for certain variable types, so we will go through each type and their associated functions.\n",
        "\n",
        "### 3.1. Operations on Numbers\n",
        "\n",
        "#### Python as a calculator\n",
        "\n",
        "The first thing we can do in Python is basic math. When our variables are numbers (either `int` or `float`), we can easily use Python to add, subtract, and divide numbers (there are many more things Python can do!). Let's give this a try below. "
      ]
    },
    {
      "cell_type": "code",
      "execution_count": 28,
      "metadata": {},
      "outputs": [
        {
          "data": {
            "text/plain": [
              "14"
            ]
          },
          "execution_count": 28,
          "metadata": {},
          "output_type": "execute_result"
        }
      ],
      "source": [
        "a = 12\n",
        "b = 2\n",
        "\n",
        "print(a + b) # We ask Python to print all the answers so we can see everything. \n",
        "print(a - b) # Otherwise, Python would only show us the most recent result.\n",
        "print(a * b)\n",
        "print(a / b)\n",
        "print(a ** b) # Note that Python uses ** for exponentiation. "
      ]
    },
    {
      "cell_type": "markdown",
      "metadata": {},
      "source": [
        "Did you notice that Python returned an integer for almost every operation? It did however convert the answer to a float for the division operation. Whenever possible, Python will return an integer type for operations between integers, but any operation involving a float will result in a float. See below"
      ]
    },
    {
      "cell_type": "code",
      "execution_count": 30,
      "metadata": {},
      "outputs": [
        {
          "name": "stdout",
          "output_type": "stream",
          "text": [
            "14.0\n",
            "10.0\n",
            "24.0\n",
            "6.0\n",
            "144.0\n"
          ]
        }
      ],
      "source": [
        "a = 12.0\n",
        "b = 2\n",
        "\n",
        "print(a + b) \n",
        "print(a - b) \n",
        "print(a * b)\n",
        "print(a / b)\n",
        "print(a ** b)"
      ]
    },
    {
      "cell_type": "markdown",
      "metadata": {},
      "source": [
        "Python also allows us to do multiple operations in one line. As you would expect, it follows the standard order of operations PEMDAS (parentheses, exponents, multiplication, division, addition, subtraction). We'll try this below - what do you think c and d will be? You can check your answers by using the `print()` function. "
      ]
    },
    {
      "cell_type": "code",
      "execution_count": 31,
      "metadata": {},
      "outputs": [],
      "source": [
        "a = 4\n",
        "b = 7\n",
        "\n",
        "c = a - b / b\n",
        "d = (a - b) / b"
      ]
    },
    {
      "cell_type": "markdown",
      "metadata": {},
      "source": [
        "#### Other math functions\n",
        "\n",
        "If we want to use other math functions, such as taking the sine or cosine of a number, we need to use the `math` package. As we learned earlier, to use a package, we write the package name (or our nickname for it) followed by a `.` and then we can click [TAB] to look through the available functions. So, if we wanted to take sin(2), we would do the following:"
      ]
    },
    {
      "cell_type": "code",
      "execution_count": 33,
      "metadata": {},
      "outputs": [
        {
          "data": {
            "text/plain": [
              "0.9092974268256817"
            ]
          },
          "execution_count": 33,
          "metadata": {},
          "output_type": "execute_result"
        }
      ],
      "source": [
        "import math # don't forget to import the package first!\n",
        "\n",
        "math.sin(2)"
      ]
    },
    {
      "cell_type": "markdown",
      "metadata": {},
      "source": [
        "#### Floor and Modulus Division\n",
        "\n",
        "The last mathematical operation we will look at is floor and modulus division. This relates to division concepts we learned when initially going through division: quotients and remainders. Let's say we are dividing `x` by `y`, two numbers.  \n",
        "\n",
        "- Floor division: `x // y` will return the quotient, or the number of times the divisor goes into the dividend. \n",
        "- Modulus division: `x % y` will return the remainder. \n",
        "\n",
        "Let's try it below. Can you figure out what the operations will return if x is 44 and y is 7? "
      ]
    },
    {
      "cell_type": "code",
      "execution_count": 34,
      "metadata": {},
      "outputs": [
        {
          "name": "stdout",
          "output_type": "stream",
          "text": [
            "6\n",
            "2\n"
          ]
        }
      ],
      "source": [
        "x = 44\n",
        "y = 7\n",
        "\n",
        "#print(x // y) #uncomment to check your answers\n",
        "#print(x % y)"
      ]
    },
    {
      "cell_type": "markdown",
      "metadata": {},
      "source": [
        "### 3.2. Operations on Strings\n",
        "\n",
        "#### Arithmetics\n",
        "\n",
        "Some of the arithmetic operations we learned above can also be used for strings. \n",
        "- We can put two strings together by using `+`\n",
        "- We can repeat a string `n` times by writing `n*variable`\n",
        "\n",
        "Let's try this below!"
      ]
    },
    {
      "cell_type": "code",
      "execution_count": null,
      "metadata": {},
      "outputs": [
        {
          "name": "stdout",
          "output_type": "stream",
          "text": [
            "GoodMorning\n",
            "GoodGoodGood\n"
          ]
        }
      ],
      "source": [
        "x = \"Good\"\n",
        "y = \"Morning\"\n",
        "\n",
        "print(x + y)\n",
        "print(3 * x)"
      ]
    },
    {
      "cell_type": "markdown",
      "metadata": {},
      "source": [
        "Note that if we were to try to use `*`, `-`, or `/` with strings, Python would return an error. You can see for yourself below."
      ]
    },
    {
      "cell_type": "code",
      "execution_count": null,
      "metadata": {},
      "outputs": [],
      "source": [
        "#x * y # uncomment and run these lines to see the error message\n",
        "#x - y \n",
        "#x / y"
      ]
    },
    {
      "cell_type": "markdown",
      "metadata": {},
      "source": [
        "#### String methods (operations)\n",
        "\n",
        "There are a ton of different operations we can perform on strings. We won't be able to look at the all in this notebook, but again if you want to take a look, simply type a `.` after the variable and press [TAB]. You can then scroll through some of the methods. \n",
        "\n",
        "We'll list out a few of the essential methods below. These are ones that you will frequently see when working with textual data."
      ]
    },
    {
      "cell_type": "code",
      "execution_count": 37,
      "metadata": {},
      "outputs": [
        {
          "name": "stdout",
          "output_type": "stream",
          "text": [
            "good morning\n",
            "GOOD MORNING\n",
            "3\n",
            "1\n"
          ]
        }
      ],
      "source": [
        "x = \"Good Morning\"\n",
        "\n",
        "#  Again, you don't need to write print() each time. We are only doing this so that you can see each output and compare\n",
        "print(x.lower()) # makes everything lower case. don't forget the extra parentheses!!\n",
        "print(x.upper()) # makes everything upper case. don't forget the extra parentheses!!\n",
        "print(x.count(\"o\")) # counts how many times a particular string appears\n",
        "print(x.count(\"ing\"))"
      ]
    },
    {
      "cell_type": "markdown",
      "metadata": {},
      "source": [
        "#### String Formatting\n",
        "\n",
        "The next operation we'll look at involves repeating strings. \n",
        "\n",
        "Let's say we have a dataset that contains many dates and the weather, and we want to write a sentence saying \"Month Day, Year was X\", where \"Month\" would be the month, \"Day\" would be the date, \"Year\" would be the year and \"X\" would be the weather. We can do this easily with **string formatting**, which allows us to use a generic **placeholder** to replace each individual value of the variable. To do so, we would replace the specific value we are thinking of with the variable name, in squiggly brackets `{}`, when we are writing out the sentence. Let's take a look at an example."
      ]
    },
    {
      "cell_type": "code",
      "execution_count": 39,
      "metadata": {},
      "outputs": [
        {
          "name": "stdout",
          "output_type": "stream",
          "text": [
            "January 24th, 2025 was sunny\n"
          ]
        }
      ],
      "source": [
        "month = \"January\"\n",
        "day = \"24th\"\n",
        "year = \"2025\"\n",
        "X = \"sunny\"\n",
        "\n",
        "sentence = f\"{month} {day}, {year} was {X}.\"\n",
        "print(sentence)"
      ]
    },
    {
      "cell_type": "markdown",
      "metadata": {},
      "source": [
        "The `f` at the beginning of the string allows Python to interpolate what is between the `{}`. \n",
        "\n",
        "We can also use string formatting for calculations. To do so, we'd substitute the calculation we want to do into the `{}`. \n",
        "\n",
        "We can do this for basic math as such: "
      ]
    },
    {
      "cell_type": "code",
      "execution_count": null,
      "metadata": {},
      "outputs": [],
      "source": [
        "print(f\"{5}**2 = {5**2}\")"
      ]
    },
    {
      "cell_type": "markdown",
      "metadata": {},
      "source": [
        "And we can do this within sentences as well. Let's say we want Canada's 2024 GDP ($2.515 trillion) in billions. Instead of typing out the number, we could just write"
      ]
    },
    {
      "cell_type": "code",
      "execution_count": 40,
      "metadata": {},
      "outputs": [
        {
          "name": "stdout",
          "output_type": "stream",
          "text": [
            "Canada's GDP was $2515.0 billion in 2024\n"
          ]
        }
      ],
      "source": [
        "GDP = 2.515\n",
        "string = f\"Canada's GDP was ${GDP * 1_000} billion in 2024\"\n",
        "print(string)"
      ]
    },
    {
      "cell_type": "markdown",
      "metadata": {},
      "source": [
        "If we want to reuse a string we created a format for earlier, we can use the method `format`. To do this though, we do **not** put `f` before the string. For example, "
      ]
    },
    {
      "cell_type": "code",
      "execution_count": 41,
      "metadata": {},
      "outputs": [
        {
          "data": {
            "text/plain": [
              "'February 28th, 2016 was rainy.'"
            ]
          },
          "execution_count": 41,
          "metadata": {},
          "output_type": "execute_result"
        }
      ],
      "source": [
        "sentence = \"{month} {day}, {year} was {X}.\"\n",
        "\n",
        "sentence.format(month = \"February\", day = \"28th\", year = 2016, X = \"rainy\")"
      ]
    },
    {
      "cell_type": "markdown",
      "metadata": {},
      "source": [
        "There's a lot more we can do with string formatting. If you want to learn more, you can find information [here](https://docs.python.org/3/library/string.html). \n",
        "\n",
        "### 3.3. Operations on Booleans\n",
        "\n",
        "#### Comparisons\n",
        "\n",
        "Most of the time, booleans will be created through comparison operations. For example, we might want a variable that evaluates if someone is older than 18. We would thus create a boolean which is `True` if the age of the individual is greater than 18. \n",
        "\n",
        "For two variables `x` and `y`, we can do the following comparisons: \n",
        "\n",
        "- Greater than: `x > y `\n",
        "- Less than: `x < y`\n",
        "- Equal to: `x == y`\n",
        "- Greater than or equal to: `x >= y`\n",
        "- Less than or equal to: `x <= y`\n",
        "\n",
        "We'll try this below with a simple example. Feel free to change the values to see for yourself!"
      ]
    },
    {
      "cell_type": "code",
      "execution_count": 42,
      "metadata": {},
      "outputs": [
        {
          "name": "stdout",
          "output_type": "stream",
          "text": [
            "x > y is False\n",
            "x < y is True\n",
            "x <= y is True\n"
          ]
        }
      ],
      "source": [
        "x = 1\n",
        "y = 2\n",
        "\n",
        "print(\"x > y is\", x > y)\n",
        "print(\"x < y is\", x < y)\n",
        "print(\"x <= y is\", x <= y)"
      ]
    },
    {
      "cell_type": "markdown",
      "metadata": {},
      "source": [
        "#### Negation\n",
        "\n",
        "Sometimes, we will prefer to determine if a statement is **not true** or **not false**. This is called **negating** a statement. We can negate a boolean in Python by adding the statement `not` before `True` or `False`. "
      ]
    },
    {
      "cell_type": "code",
      "execution_count": 44,
      "metadata": {},
      "outputs": [
        {
          "name": "stdout",
          "output_type": "stream",
          "text": [
            "False\n",
            "True\n"
          ]
        }
      ],
      "source": [
        "print(not True)\n",
        "print(not False)"
      ]
    },
    {
      "cell_type": "markdown",
      "metadata": {},
      "source": [
        "#### Multiple Comparisons using **and** / **or**\n",
        "\n",
        "Sometimes, we will want to do multiple comparisons. For example, we might want to look at all individuals who are employed **and** have children, or we might want to individuals with cars **or** bicycles. We can do this in Python using the *mathematical* **ands** and **ors**. This means that\n",
        "\n",
        "- `a` and `b` are `True` only when **both** `a` **AND** `b` are `True`\n",
        "- `a` or `b` is `True` when **at least one** of `a` or `b` is `True`\n",
        "\n",
        "Using the examples above:\n",
        "- The statement \"We are studying individuals who are employed *and* have children\" means we will only include individuals that are both employed *AND* who have children\n",
        "- The statement \"We are studying people with cars *or* bicycle\" means we will look at everyone who has a car, everyone who has a bicycle, and everyone who has a car and a bicycle. \n",
        "\n",
        "Let's test these out below. Try thinking of the answers yourself before running the code!"
      ]
    },
    {
      "cell_type": "code",
      "execution_count": 45,
      "metadata": {},
      "outputs": [
        {
          "data": {
            "text/plain": [
              "False"
            ]
          },
          "execution_count": 45,
          "metadata": {},
          "output_type": "execute_result"
        }
      ],
      "source": [
        "True and False # do you think this will be true or false?"
      ]
    },
    {
      "cell_type": "code",
      "execution_count": 46,
      "metadata": {},
      "outputs": [
        {
          "data": {
            "text/plain": [
              "True"
            ]
          },
          "execution_count": 46,
          "metadata": {},
          "output_type": "execute_result"
        }
      ],
      "source": [
        "True and True"
      ]
    },
    {
      "cell_type": "code",
      "execution_count": 47,
      "metadata": {},
      "outputs": [
        {
          "data": {
            "text/plain": [
              "True"
            ]
          },
          "execution_count": 47,
          "metadata": {},
          "output_type": "execute_result"
        }
      ],
      "source": [
        "True or False "
      ]
    },
    {
      "cell_type": "code",
      "execution_count": 48,
      "metadata": {},
      "outputs": [
        {
          "data": {
            "text/plain": [
              "False"
            ]
          },
          "execution_count": 48,
          "metadata": {},
          "output_type": "execute_result"
        }
      ],
      "source": [
        "False or False"
      ]
    },
    {
      "cell_type": "code",
      "execution_count": 49,
      "metadata": {},
      "outputs": [
        {
          "data": {
            "text/plain": [
              "True"
            ]
          },
          "execution_count": 49,
          "metadata": {},
          "output_type": "execute_result"
        }
      ],
      "source": [
        "# we can chain multiple comparisons!\n",
        "# order of operations will still apply\n",
        "True and (False or True) "
      ]
    },
    {
      "cell_type": "markdown",
      "metadata": {},
      "source": [
        "#### **all** and **any**\n",
        "\n",
        "As we saw, we can use **and** and **or** to process two booleans at a time. We can also process *all* our booleans at once!\n",
        "\n",
        "To do so, we can use the functions **all** and **any**. These functions will test all the booleans we're working on at the same time.\n",
        "\n",
        "- `all(bools)` will tell us if all the booleans in `bools` are `True`. If they are all true, Python will return `True`. If even one of them is not true, Python will return `False`. \n",
        "- `any(bools)` will tell us if we have any booleans that are `True`. If even one of our booleans is true, Python will return `True` when running this command.\n",
        "\n",
        "## Part 4: Collections\n",
        "\n",
        "### Lists\n",
        "\n",
        "Just as within R, Python allows us to store data in **lists**. We can create lists easily using the following syntax:\n",
        "\n",
        "`[item1, item2, ..., itemN]`\n",
        "\n",
        "Each item can be of any type, meaning we can have integers, floats, strings, and booleans all in our list. \n",
        "\n",
        "Let's create some lists below and check out their type!"
      ]
    },
    {
      "cell_type": "code",
      "execution_count": 1,
      "metadata": {},
      "outputs": [
        {
          "name": "stdout",
          "output_type": "stream",
          "text": [
            "[2, 3, 5, 7, 11]\n"
          ]
        },
        {
          "data": {
            "text/plain": [
              "list"
            ]
          },
          "execution_count": 1,
          "metadata": {},
          "output_type": "execute_result"
        }
      ],
      "source": [
        "# we'll create a list of the first 5 prime numbers\n",
        "# and store the list in \"prime\"\n",
        "\n",
        "prime = [2, 3, 5, 7, 11]\n",
        "\n",
        "print(prime)\n",
        "type(prime)"
      ]
    },
    {
      "cell_type": "markdown",
      "metadata": {},
      "source": [
        "#### What can we do with our lists?\n",
        "\n",
        "To access a specific item of a list, we can **index** the list. The syntax of indexing a list called `mylist` is as follows:\n",
        "\n",
        "`mylist[i]`\n",
        "\n",
        "where `i` is an integer. What we are doing here is selecting an element of the **collection** `mylist`. Let's try this with the list we made above."
      ]
    },
    {
      "cell_type": "code",
      "execution_count": 2,
      "metadata": {},
      "outputs": [
        {
          "data": {
            "text/plain": [
              "3"
            ]
          },
          "execution_count": 2,
          "metadata": {},
          "output_type": "execute_result"
        }
      ],
      "source": [
        "prime[1]"
      ]
    },
    {
      "cell_type": "markdown",
      "metadata": {},
      "source": [
        "Notice that `prime[1]` returned the second number in our list rather than the first (2). This is because **Python starts counting at ZERO!** Thus to access the first element of our list, we must write `mylist[0]`. \n",
        "\n",
        "We can also determine how many items are in a list using the function `len`. "
      ]
    },
    {
      "cell_type": "code",
      "execution_count": 3,
      "metadata": {},
      "outputs": [
        {
          "data": {
            "text/plain": [
              "5"
            ]
          },
          "execution_count": 3,
          "metadata": {},
          "output_type": "execute_result"
        }
      ],
      "source": [
        "len(prime)"
      ]
    },
    {
      "cell_type": "markdown",
      "metadata": {},
      "source": [
        "What do you think will happen if we try to index a number higher than the number of items in a list? Try it below!"
      ]
    },
    {
      "cell_type": "code",
      "execution_count": 4,
      "metadata": {},
      "outputs": [
        {
          "ename": "IndexError",
          "evalue": "list index out of range",
          "output_type": "error",
          "traceback": [
            "\u001b[0;31m---------------------------------------------------------------------------\u001b[0m",
            "\u001b[0;31mIndexError\u001b[0m                                Traceback (most recent call last)",
            "Cell \u001b[0;32mIn[4], line 1\u001b[0m\n\u001b[0;32m----> 1\u001b[0m \u001b[43mprime\u001b[49m\u001b[43m[\u001b[49m\u001b[38;5;241;43m6\u001b[39;49m\u001b[43m]\u001b[49m\n",
            "\u001b[0;31mIndexError\u001b[0m: list index out of range"
          ]
        }
      ],
      "source": [
        "prime[6]"
      ]
    },
    {
      "cell_type": "markdown",
      "metadata": {},
      "source": [
        "We can us the keyword `in` to check if a list contains an specific entry."
      ]
    },
    {
      "cell_type": "code",
      "execution_count": 5,
      "metadata": {},
      "outputs": [
        {
          "data": {
            "text/plain": [
              "True"
            ]
          },
          "execution_count": 5,
          "metadata": {},
          "output_type": "execute_result"
        }
      ],
      "source": [
        "7 in prime"
      ]
    },
    {
      "cell_type": "code",
      "execution_count": 6,
      "metadata": {},
      "outputs": [
        {
          "data": {
            "text/plain": [
              "False"
            ]
          },
          "execution_count": 6,
          "metadata": {},
          "output_type": "execute_result"
        }
      ],
      "source": [
        "3.14 in prime"
      ]
    },
    {
      "cell_type": "markdown",
      "metadata": {},
      "source": [
        "There are a few other common operations we might want to do with lists. We can:\n",
        "\n",
        "- Reverse the list with `mylist.reverse()`\n",
        "- Sort the list with `mylist.sort()`\n",
        "    - Note that to do this, all of the elements in our list need to be either numbers (integers or floats), or all strings. If our list is all strings, `mylist.sort()` will sort the items in alphabetical order. \n",
        "- Append the list to add another element to the end using `mylist.append(element)`\n",
        "    - Note that is we append the list with another list, we add the list itself to the end rather than the numbers or strings in that list. We can *combine* lists instead using `mylist.extend()`. \n",
        "\n",
        "#### Types of Lists\n",
        "\n",
        "As mentioned before, our lists don't have to contain only one type of variable. Let's do this to the list `prime` by replacing the value `7` with `7.0`. "
      ]
    },
    {
      "cell_type": "code",
      "execution_count": 7,
      "metadata": {},
      "outputs": [],
      "source": [
        "prime = [2, 3, 5, 7.0, 11]"
      ]
    },
    {
      "cell_type": "markdown",
      "metadata": {},
      "source": [
        "Not only can we have different types of numbers within a list, we can have strings as well! `"
      ]
    },
    {
      "cell_type": "code",
      "execution_count": 9,
      "metadata": {},
      "outputs": [
        {
          "name": "stdout",
          "output_type": "stream",
          "text": [
            "['two', 3, 5, 'seven', 11]\n"
          ]
        },
        {
          "data": {
            "text/plain": [
              "list"
            ]
          },
          "execution_count": 9,
          "metadata": {},
          "output_type": "execute_result"
        }
      ],
      "source": [
        "prime = [\"two\", 3, 5, \"seven\", 11]\n",
        "print(prime)\n",
        "type(prime)"
      ]
    },
    {
      "cell_type": "markdown",
      "metadata": {},
      "source": [
        "We can also look at the types of individual elements within the list by using the indexing we learned earlier as well as the `type()` function. "
      ]
    },
    {
      "cell_type": "code",
      "execution_count": 10,
      "metadata": {},
      "outputs": [
        {
          "name": "stdout",
          "output_type": "stream",
          "text": [
            "type(prime[0]) = <class 'str'>, type(prime[1]) = <class 'int'>\n"
          ]
        }
      ],
      "source": [
        "print(f\"type(prime[0]) = {type(prime[0])}, type(prime[1]) = {type(prime[1])}\")"
      ]
    },
    {
      "cell_type": "markdown",
      "metadata": {},
      "source": [
        "Although this is technically not a problem to do (i.e., Python will let you make lists with strings and numbers), be warned that you may run into some additional complications. For example, how would you sort a list that has both letters and numbers? Therefore, we suggest being extra careful. \n",
        "\n",
        "\n",
        "## The `range` function\n",
        "\n",
        "One function we use frequently is the `range` function. There are three main versions of this.\n",
        "\n",
        "1. `range(n)` goes from $0$ to $n-1$. \n",
        "2. `range(a, n)` goes from $a$ to $n-1$.\n",
        "3. `range(a, n, d)` goes from $a$ to $n-1$, at the interval `d`. \n",
        "\n",
        "When use the `range` function to define an object, the type of that object will be `range`. For example,"
      ]
    },
    {
      "cell_type": "code",
      "execution_count": 11,
      "metadata": {},
      "outputs": [
        {
          "name": "stdout",
          "output_type": "stream",
          "text": [
            "range(5, 10)\n"
          ]
        },
        {
          "data": {
            "text/plain": [
              "range"
            ]
          },
          "execution_count": 11,
          "metadata": {},
          "output_type": "execute_result"
        }
      ],
      "source": [
        "r = range(5, 10, 1)\n",
        "\n",
        "print(r)\n",
        "type(r)"
      ]
    },
    {
      "cell_type": "markdown",
      "metadata": {},
      "source": [
        "Linking this back to what we were looking at before, we can turn `range`s into lists!`"
      ]
    },
    {
      "cell_type": "code",
      "execution_count": 12,
      "metadata": {},
      "outputs": [
        {
          "data": {
            "text/plain": [
              "[5, 6, 7, 8, 9]"
            ]
          },
          "execution_count": 12,
          "metadata": {},
          "output_type": "execute_result"
        }
      ],
      "source": [
        "list(r)"
      ]
    },
    {
      "cell_type": "markdown",
      "metadata": {},
      "source": [
        "## Tuples\n",
        "\n",
        "Tuples are another concept we will look at. These are very similar to lists, as they hold a collection of items.\n",
        "\n",
        "The main differences between tuples and lists are:\n",
        "\n",
        "- Tuples are created using parentheses instead of square brackets -- ( ) instead of [ ]. \n",
        "- Tuples are *immutable*, meaning they can't be changed after they are created.\n",
        "- Tuples are connected to multiple return values, which we will see later. \n",
        "\n",
        "Lists can be converted to tuples by using the `tuple()` function on a list. Tuples can be converted to lists by using the `list()` function.\n",
        "\n",
        "As we did with lists, we can pick out a specific item in our tuple by using `name_of_tuple[N]`, where `N` is an integer. Don't forget, Python starts counting at **zero**!\n",
        "\n",
        "## Lists vs Tuples\n",
        "\n",
        "Which one should we use? It depends on many factors.\n",
        "\n",
        "- What types of objects you are storing;\n",
        "- Whether we want to reorder elements;\n",
        "- Whether we want to add elements later on.\n",
        "\n",
        "Let's look at an example to understand this. \n",
        "\n",
        "Say we have an individual, Jerry, and some information on him: his age, weight, height, and favourite ice cream flavour. In this case, we would want to use a *tuple*, because the order between the elements is meaningless (i.e. we could have put Jerry's height before his weight), and adding more data would require a reinterpretation of the whole data structure (i.e. we don't know what this new element would mean!). "
      ]
    },
    {
      "cell_type": "code",
      "execution_count": 13,
      "metadata": {},
      "outputs": [
        {
          "name": "stdout",
          "output_type": "stream",
          "text": [
            "('Jerry', 2024, 80, 183, 'vanilla')\n"
          ]
        }
      ],
      "source": [
        "jerry_2024 = (\"Jerry\", 2024, 80, 183, \"vanilla\")\n",
        "print(jerry_2024)"
      ]
    },
    {
      "cell_type": "markdown",
      "metadata": {},
      "source": [
        "However, if we are looking at Jerry's favourite ice cream flavour over his whole life, a *list* would be a lot more useful! Adding a new element at the end, say Jerry's favourite ice cream flavour the next year, would make sense and would not change the meaning of the dataset."
      ]
    },
    {
      "cell_type": "code",
      "execution_count": null,
      "metadata": {},
      "outputs": [],
      "source": [
        "jerry_2023_2025 = [\"strawberry\", \"vanilla\", \"mint\"]\n",
        "print(jerry_2023_2025)"
      ]
    },
    {
      "cell_type": "markdown",
      "metadata": {},
      "source": [
        "Some things might be best as tuples *and* lists! For example, what if we wanted Jerry's age, weight, height, and favourite ice cream flavour *over many years*?"
      ]
    },
    {
      "cell_type": "code",
      "execution_count": 14,
      "metadata": {},
      "outputs": [
        {
          "name": "stdout",
          "output_type": "stream",
          "text": [
            "[(2023, 'strawberry'), (2024, 'vanilla'), (2025, 'mint')]\n"
          ]
        }
      ],
      "source": [
        "jerry = [(2023, \"strawberry\"), (2024, \"vanilla\"), (2025, \"mint\")]\n",
        "print(jerry)"
      ]
    },
    {
      "cell_type": "markdown",
      "metadata": {},
      "source": [
        "Overall, we suggest *always* using a list unless you *need* to use a tuple. You would need to use a tuple if:\n",
        "\n",
        "- the order of each element *cannot* change;\n",
        "- the actual values of each element *cannot* change;\n",
        "- or you want to use the collection as a key in a `dict`, which we will see soon.  "
      ]
    },
    {
      "cell_type": "markdown",
      "metadata": {},
      "source": [
        "## Part 4: Packages\n",
        "\n",
        "Similarly to R, Python has a host of packages that we can use that contain different functions and tools. Some examples of packages are: \n",
        "\n",
        "- pandas, which implements the tools necessary to do scalable data analysis.\n",
        "\n",
        "- matplotlib, which contains visualization tools.\n",
        "\n",
        "- requests and urllib, which allow Python to interface with the internet.\n",
        "\n",
        "We'll be using packages all throughout the Python modules, so it will be important to learn how to install them and how to open them. \n",
        "\n",
        "To install a package, we simply run the code `import package`. To access and open the package that we've installed in our session, we run the code `package.function_name`. Let's do this below with the package `sys`, which helps Python work with our computer."
      ]
    },
    {
      "cell_type": "markdown",
      "metadata": {},
      "source": []
    },
    {
      "cell_type": "code",
      "execution_count": 19,
      "metadata": {},
      "outputs": [
        {
          "data": {
            "text/plain": [
              "'3.13.2 (v3.13.2:4f8bb3947cf, Feb  4 2025, 11:51:10) [Clang 15.0.0 (clang-1500.3.9.4)]'"
            ]
          },
          "execution_count": 19,
          "metadata": {},
          "output_type": "execute_result"
        }
      ],
      "source": [
        "import sys\n",
        "sys.version # We want to find the Python version our computer is using"
      ]
    },
    {
      "cell_type": "markdown",
      "metadata": {},
      "source": [
        "Some packages have fairly long names, so Python has allowed us to abbreviate their names to nicknames when importing them to make our code less heavy. For example, we can abbreviate a package name to `p` by writing `import package as p`. Thus, instead of writing `package.function_name`, we can just write `p.function_name`. \n",
        "\n",
        "Typically, people use the following nicknames for packages:\n",
        "\n",
        "- import pandas as pd\n",
        "\n",
        "- import numpy as np\n",
        "\n",
        "- import matplotlib as mpl\n",
        "\n",
        "- import datetime as dt\n",
        "\n",
        "In theory, you can abbreviate the packages to any nickname you'd like, but for simplicity and comprehensibility, we recommend using the common nicknames listed above. "
      ]
    },
    {
      "cell_type": "markdown",
      "metadata": {},
      "source": [
        "## Part 5:  Dealing with Errors and Getting Help\n",
        "\n",
        "### 5.1. Errors\n",
        "\n",
        "Sometimes in our analysis we can run into errors in our code. This happens to everyone - don't worry - it's not a reason to panic. Understanding the nature of the error we are confronted with can be a helpful first step to finding a solution. There are two common types of errors:\n",
        "\n",
        "- **Syntax errors**: This is the most common error type. These errors result from invalid code statements/structures that Python doesn’t understand. Suppose Python speaks English, speaking to it in German or broken English certainly would not work! Here are some examples of common syntax errors: the associated package is not loaded, misspelling of a command as Python is case-sensitive, unmatched/incomplete parenthesis etc. How we handle syntax errors is case-by-case: we can usually solve syntax errors by reading the error message and finding what is often a typo or by looking up the error message on the internet using resources like stack overflow.\n",
        "\n",
        "- **Semantic errors**: These errors result from valid code that successfully executes but produces unintended outcomes. Again, let us suppose Python speaks English. Although we asked it to hand us an apple in English and Python successfully understood, it somehow handed us a banana! This is not okay! How we handle semantic errors is also case-by-case:  we can usually solve semantic errors by reading the error message and searching it online.\n",
        "\n",
        "Now that we have all of these terms and tools at our disposal, we can begin to load in data and operate on it using what we’ve learned.\n",
        "\n",
        "### 5.2. Getting Help\n",
        "\n",
        "If you are ever running a function and get stuck, are not sure what the function does, or need a refresher on what the inputs are, Python has a way to get help. \n",
        "\n",
        "To do this in Jupyter notebooks, we place a `?` after the function name and rn the cell. Depending on how you launched Jupyter, the help text will either be displayed in the cell below or on a new panel at the bottom of the screen that you can exit by hitting the escape key. \n",
        "\n",
        "Try this below with the print function:"
      ]
    },
    {
      "cell_type": "code",
      "execution_count": 14,
      "metadata": {},
      "outputs": [
        {
          "name": "stdout",
          "output_type": "stream",
          "text": [
            "\u001b[0;31mSignature:\u001b[0m \u001b[0mprint\u001b[0m\u001b[0;34m(\u001b[0m\u001b[0;34m*\u001b[0m\u001b[0margs\u001b[0m\u001b[0;34m,\u001b[0m \u001b[0msep\u001b[0m\u001b[0;34m=\u001b[0m\u001b[0;34m' '\u001b[0m\u001b[0;34m,\u001b[0m \u001b[0mend\u001b[0m\u001b[0;34m=\u001b[0m\u001b[0;34m'\\n'\u001b[0m\u001b[0;34m,\u001b[0m \u001b[0mfile\u001b[0m\u001b[0;34m=\u001b[0m\u001b[0;32mNone\u001b[0m\u001b[0;34m,\u001b[0m \u001b[0mflush\u001b[0m\u001b[0;34m=\u001b[0m\u001b[0;32mFalse\u001b[0m\u001b[0;34m)\u001b[0m\u001b[0;34m\u001b[0m\u001b[0;34m\u001b[0m\u001b[0m\n",
            "\u001b[0;31mDocstring:\u001b[0m\n",
            "Prints the values to a stream, or to sys.stdout by default.\n",
            "\n",
            "sep\n",
            "  string inserted between values, default a space.\n",
            "end\n",
            "  string appended after the last value, default a newline.\n",
            "file\n",
            "  a file-like object (stream); defaults to the current sys.stdout.\n",
            "flush\n",
            "  whether to forcibly flush the stream.\n",
            "\u001b[0;31mType:\u001b[0m      builtin_function_or_method"
          ]
        }
      ],
      "source": [
        "print?"
      ]
    }
  ],
  "metadata": {
    "kernelspec": {
      "display_name": "Python 3",
      "language": "python",
      "name": "python3"
    },
    "language_info": {
      "codemirror_mode": {
        "name": "ipython",
        "version": 3
      },
      "file_extension": ".py",
      "mimetype": "text/x-python",
      "name": "python",
      "nbconvert_exporter": "python",
      "pygments_lexer": "ipython3",
      "version": "3.13.2"
    }
  },
  "nbformat": 4,
  "nbformat_minor": 4
}
