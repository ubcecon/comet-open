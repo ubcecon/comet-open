{
 "cells": [
  {
   "cell_type": "markdown",
   "metadata": {},
   "source": [
    "# Encoder-only Architecture for Text Classification\n",
    "\n",
    "Recall that the chief reason for using machine learning models over traditional, lexicon-based sentiment analysis is that like lexicon-based approaches to text classifcation rely on fixed dictionaries, which results in them missing context, irony, or slang. ML models, especially deep learning models, learn complex patterns from data, making them particularly useful for more modern text, such as social media posts and online discussions. \n",
    "\n",
    "\n",
    "Generally, for text classification tasks, it is faster to use an encoder-only model like BERT, as we don't need to worry about generating some kind of output sequence- all we are doing is classifying text with some pre-defined labels. In other words, our focus is on *understanding* text rather than *generating* text, so it is both faster, and less computationally expensive, to use encoder-only models like BERT. "
   ]
  },
  {
   "cell_type": "markdown",
   "metadata": {},
   "source": [
    "## 0. Data Importing and Cleaning\n",
    "\n",
    "As mentioned, ML-based text classification works the best for nuanced text with lots of slang. Hence, we'll test it on a dataset of recently-scraped *r/UBC* posts. \n"
   ]
  },
  {
   "cell_type": "markdown",
   "metadata": {},
   "source": [
    "```bash\n",
    "!pip install transformers # you likely don't have this installed.\n",
    "!pip install pytorch # you likely don't have this installed.\n",
    "!pip install datasets # you likely don't have this installed.\n",
    "!pip install numpy\n",
    "!pip install pandas\n",
    "!pip install seaborn\n",
    "```"
   ]
  },
  {
   "cell_type": "code",
   "execution_count": 1,
   "metadata": {},
   "outputs": [],
   "source": [
    "from transformers import AutoTokenizer, AutoModelForMaskedLM\n",
    "import torch\n",
    "import re\n",
    "import pandas as pd\n",
    "from transformers import pipeline\n",
    "import matplotlib.pyplot as plt\n",
    "import pandas as pd\n",
    "from datasets import load_dataset"
   ]
  },
  {
   "cell_type": "code",
   "execution_count": 2,
   "metadata": {},
   "outputs": [
    {
     "name": "stderr",
     "output_type": "stream",
     "text": [
      "BertForMaskedLM has generative capabilities, as `prepare_inputs_for_generation` is explicitly overwritten. However, it doesn't directly inherit from `GenerationMixin`. From 👉v4.50👈 onwards, `PreTrainedModel` will NOT inherit from `GenerationMixin`, and this model will lose the ability to call `generate` and other related functions.\n",
      "  - If you're using `trust_remote_code=True`, you can get rid of this warning by loading the model with an auto class. See https://huggingface.co/docs/transformers/en/model_doc/auto#auto-classes\n",
      "  - If you are the owner of the model architecture code, please modify your model class such that it inherits from `GenerationMixin` (after `PreTrainedModel`, otherwise you'll get an exception).\n",
      "  - If you are not the owner of the model architecture class, please contact the model code owner to update it.\n",
      "Some weights of the model checkpoint at google-bert/bert-base-uncased were not used when initializing BertForMaskedLM: ['bert.pooler.dense.bias', 'bert.pooler.dense.weight', 'cls.seq_relationship.bias', 'cls.seq_relationship.weight']\n",
      "- This IS expected if you are initializing BertForMaskedLM from the checkpoint of a model trained on another task or with another architecture (e.g. initializing a BertForSequenceClassification model from a BertForPreTraining model).\n",
      "- This IS NOT expected if you are initializing BertForMaskedLM from the checkpoint of a model that you expect to be exactly identical (initializing a BertForSequenceClassification model from a BertForSequenceClassification model).\n"
     ]
    }
   ],
   "source": [
    "tokenizer = AutoTokenizer.from_pretrained(\"google-bert/bert-base-uncased\") # to break our reddit posts down into tokens\n",
    "model = AutoModelForMaskedLM.from_pretrained(\"google-bert/bert-base-uncased\") # our model"
   ]
  },
  {
   "cell_type": "markdown",
   "metadata": {},
   "source": [
    "The reddit dataset is dated around late February 2025, however, you are free to scrape newer posts locally by `cd`-ing into the currect directory and running `python project/docs/4_Advanced/advanced_encoder_classifier/r_ubc_scraper.py` in your terminal. This will generate a fresh new set of post/comment datasets for our analysis."
   ]
  },
  {
   "cell_type": "code",
   "execution_count": 3,
   "metadata": {},
   "outputs": [],
   "source": [
    "# Load the dataset\n",
    "reddit_comments = pd.read_csv('Data/r_ubc_comments.csv')\n",
    "reddit_posts = pd.read_csv(\"Data/r_ubc_posts.csv\")"
   ]
  },
  {
   "cell_type": "code",
   "execution_count": 4,
   "metadata": {},
   "outputs": [],
   "source": [
    "# Merging datasets\n",
    "reddit_data = reddit_posts.merge(reddit_comments.groupby(\"post_id\")[\"body\"].apply(lambda x: \" \".join(x)), left_on=\"id\", right_on ='post_id', how=\"left\")\n",
    "reddit_data[\"full_text\"] = reddit_data['title'] + ['    '] + reddit_data[\"selftext\"].fillna('') + ['    '] + reddit_data[\"body\"].fillna('')"
   ]
  },
  {
   "cell_type": "code",
   "execution_count": 5,
   "metadata": {},
   "outputs": [],
   "source": [
    "# Convert from UTC to detailed month, date, day of week and hour\n",
    "reddit_data['created_utc'] = pd.to_datetime(\n",
    "    reddit_data['created_utc'], \n",
    "    unit='s',  # Timestamp is in seconds\n",
    "    utc=True    # Enforce UTC timezone\n",
    ")\n",
    "\n",
    "reddit_data['month'] = reddit_data['created_utc'].dt.month_name() \n",
    "reddit_data['date'] = reddit_data['created_utc'].dt.day            \n",
    "reddit_data['day_of_week'] = reddit_data['created_utc'].dt.day_name()  \n",
    "reddit_data['hour'] = reddit_data['created_utc'].dt.hour    \n",
    "\n",
    "def clean_text(text):\n",
    "    if isinstance(text, str):  \n",
    "        text = text.lower()                         \n",
    "        text = re.sub(r\"http\\S+\", \"\", text)         \n",
    "        text = re.sub(r\"[^a-zA-Z0-9\\s]\", \"\", text)  \n",
    "        return text.strip()                         \n",
    "    else:\n",
    "        return \"\"                      \n",
    "\n",
    "reddit_data[\"clean_text\"] = reddit_data[\"full_text\"].apply(clean_text)       "
   ]
  },
  {
   "cell_type": "markdown",
   "metadata": {},
   "source": [
    "## 1. Labelling using a pre-trained roBERTa model\n",
    "\n",
    "Here we used a pre-trained model from hugging face to generate sentiment labels for each posts. Specifically, we'll be using `cardiffnlp/twitter-roberta-base-sentiment-latest`, a model pre-trained on English twitter texts. It classifies emotions into three categories:  0 -> Negative; 1 -> Neutral; 2 -> Positive.  \n",
    "\n",
    "If you want to work on datasets containing multiple languages, you can use `google-bert/bert-base-multilingual-uncased`, it is a model pretrained on on the top 102 languages with the largest Wikipedia using a masked language modeling (MLM) objective. You can find more information about it on <https://huggingface.co/google-bert/bert-base-multilingual-uncased>."
   ]
  },
  {
   "cell_type": "code",
   "execution_count": 6,
   "metadata": {},
   "outputs": [
    {
     "name": "stderr",
     "output_type": "stream",
     "text": [
      "Some weights of the model checkpoint at cardiffnlp/twitter-roberta-base-sentiment-latest were not used when initializing RobertaForSequenceClassification: ['roberta.pooler.dense.bias', 'roberta.pooler.dense.weight']\n",
      "- This IS expected if you are initializing RobertaForSequenceClassification from the checkpoint of a model trained on another task or with another architecture (e.g. initializing a BertForSequenceClassification model from a BertForPreTraining model).\n",
      "- This IS NOT expected if you are initializing RobertaForSequenceClassification from the checkpoint of a model that you expect to be exactly identical (initializing a BertForSequenceClassification model from a BertForSequenceClassification model).\n",
      "Device set to use cpu\n"
     ]
    }
   ],
   "source": [
    "emotion_classifier = pipeline(\"sentiment-analysis\", model=\"cardiffnlp/twitter-roberta-base-sentiment-latest\", tokenizer=\"cardiffnlp/twitter-roberta-base-sentiment-latest\")\n",
    "\n",
    "reddit_data[\"sentiment\"] = reddit_data[\"clean_text\"].apply(lambda x: emotion_classifier(x[:512])[0][\"label\"] if pd.notna(x) else \"neutral\")"
   ]
  },
  {
   "cell_type": "markdown",
   "metadata": {},
   "source": [
    "Here we are using another pre-trained model to generate topic labels for each posts. Specfically, we are using `cardiffnlp/tweet-topic-base-multilingual`, a model pre-trained on ~198M multilingual tweets and finedtuned for English, Spanish, Japanese, and Greek. You can find information about its labels on <https://huggingface.co/cardiffnlp/tweet-topic-base-multilingual>. \n",
    "\n",
    "Unfortunately, there hasn't yet to be a \"good\" multilingual model for topic classifications for some languages up untill Feburuary 2025, but I believe you can always find something that works for your demand on <https://huggingface.co/models>."
   ]
  },
  {
   "cell_type": "code",
   "execution_count": 7,
   "metadata": {},
   "outputs": [],
   "source": [
    "import pandas as pd\n",
    "import torch\n",
    "from transformers import AutoModelForSequenceClassification, AutoTokenizer\n",
    "from scipy.special import expit\n",
    "\n",
    "# Load model and tokenizer\n",
    "MODEL = \"cardiffnlp/tweet-topic-base-multilingual\"\n",
    "tokenizer = AutoTokenizer.from_pretrained(MODEL)\n",
    "model = AutoModelForSequenceClassification.from_pretrained(MODEL)\n",
    "\n",
    "# Get class mapping\n",
    "class_mapping = model.config.id2label\n",
    "\n",
    "# Define function for prediction\n",
    "def classify_text(text):\n",
    "    tokens = tokenizer(text, return_tensors=\"pt\", truncation=True, padding=True, max_length=512)\n",
    "    output = model(**tokens)\n",
    "    \n",
    "    # Process scores and apply sigmoid\n",
    "    scores = output[0][0].detach().numpy()\n",
    "    scores = expit(scores)\n",
    "    \n",
    "    # Convert scores to binary predictions\n",
    "    predictions = (scores >= 0.5) * 1\n",
    "    \n",
    "    # Get predicted labels\n",
    "    predicted_labels = [class_mapping[i] for i in range(len(predictions)) if predictions[i]]\n",
    "    \n",
    "    return \", \".join(predicted_labels)  # Join multiple labels into a single string\n",
    "\n",
    "\n",
    "reddit_data[\"topic\"] = reddit_data[\"clean_text\"].apply(classify_text)\n",
    "\n",
    "reddit_data[\"topics\"] = reddit_data[\"topic\"].apply(lambda x: x.split(\",\"))"
   ]
  },
  {
   "cell_type": "code",
   "execution_count": 8,
   "metadata": {},
   "outputs": [],
   "source": [
    "reddit_data[\"multi_labels\"] = reddit_data.apply(lambda row: row[\"topics\"] + [row[\"sentiment\"]], axis=1)\n",
    "\n",
    "reddit_data.to_csv('Data/r_reddit_data.csv', index=False)"
   ]
  },
  {
   "cell_type": "code",
   "execution_count": 9,
   "metadata": {},
   "outputs": [
    {
     "data": {
      "application/vnd.jupyter.widget-view+json": {
       "model_id": "56d3d7a6923a420ca027fecd80d862ea",
       "version_major": 2,
       "version_minor": 0
      },
      "text/plain": [
       "Generating train split: 0 examples [00:00, ? examples/s]"
      ]
     },
     "metadata": {},
     "output_type": "display_data"
    }
   ],
   "source": [
    "dataset = load_dataset(\"csv\", data_files=\"Data/r_reddit_data.csv\")['train']"
   ]
  },
  {
   "cell_type": "code",
   "execution_count": null,
   "metadata": {},
   "outputs": [],
   "source": [
    "# Split training and testing data\n",
    "split_dataset = dataset.train_test_split(\n",
    "    test_size=0.2,   \n",
    "    seed= 114514                \n",
    ")\n",
    "\n",
    "train_data = split_dataset[\"train\"]\n",
    "test_data = split_dataset[\"test\"]"
   ]
  },
  {
   "cell_type": "code",
   "execution_count": 11,
   "metadata": {},
   "outputs": [
    {
     "name": "stdout",
     "output_type": "stream",
     "text": [
      "Training Set:\n",
      " ['diaries_&_daily_life', ' learning_&_educational', ' youth_&_student_life', 'negative']    0.097468\n",
      "['diaries_&_daily_life', ' learning_&_educational', ' youth_&_student_life', 'neutral']     0.096203\n",
      "['learning_&_educational', ' youth_&_student_life', 'neutral']                              0.053165\n",
      "['diaries_&_daily_life', ' relationships', 'negative']                                      0.040506\n",
      "['diaries_&_daily_life', 'neutral']                                                         0.034177\n",
      "                                                                                              ...   \n",
      "['film_tv_&_video', ' music', 'neutral']                                                    0.001266\n",
      "['diaries_&_daily_life', ' gaming', 'neutral']                                              0.001266\n",
      "['film_tv_&_video', 'positive']                                                             0.001266\n",
      "['diaries_&_daily_life', ' learning_&_educational', ' news_&_social_concern', 'neutral']    0.001266\n",
      "['learning_&_educational', ' sports', ' youth_&_student_life', 'positive']                  0.001266\n",
      "Name: proportion, Length: 151, dtype: float64\n",
      "Testing Set:\n",
      " ['diaries_&_daily_life', ' learning_&_educational', ' youth_&_student_life', 'negative']    0.136364\n",
      "['diaries_&_daily_life', ' learning_&_educational', ' youth_&_student_life', 'neutral']     0.126263\n",
      "['diaries_&_daily_life', 'neutral']                                                         0.055556\n",
      "['learning_&_educational', ' youth_&_student_life', 'neutral']                              0.050505\n",
      "['diaries_&_daily_life', ' learning_&_educational', ' youth_&_student_life', 'positive']    0.035354\n",
      "                                                                                              ...   \n",
      "['diaries_&_daily_life', ' other_hobbies', 'positive']                                      0.005051\n",
      "['gaming', 'positive']                                                                      0.005051\n",
      "['business_&_entrepreneurs', ' diaries_&_daily_life', 'positive']                           0.005051\n",
      "['business_&_entrepreneurs', 'neutral']                                                     0.005051\n",
      "['business_&_entrepreneurs', ' science_&_technology', 'neutral']                            0.005051\n",
      "Name: proportion, Length: 69, dtype: float64\n"
     ]
    }
   ],
   "source": [
    "\n",
    "# Check the distribution of labels from the training set\n",
    "train_labels = pd.Series(train_data[\"multi_labels\"])\n",
    "print(\"Training Set:\\n\",train_labels.value_counts(normalize=True))\n",
    "\n",
    "# Check the distribution of labels from the testing set\n",
    "test_labels = pd.Series(test_data[\"multi_labels\"])\n",
    "print(\"Testing Set:\\n\",test_labels.value_counts(normalize=True))"
   ]
  },
  {
   "cell_type": "markdown",
   "metadata": {},
   "source": [
    "We can visualize the share of different labels with a pie chart."
   ]
  },
  {
   "cell_type": "code",
   "execution_count": 22,
   "metadata": {},
   "outputs": [
    {
     "name": "stdout",
     "output_type": "stream",
     "text": [
      "                          train_count  test_count\n",
      "topics                                           \n",
      "                                    4           1\n",
      "arts_&_culture                      7           1\n",
      "business_&_entrepreneurs           43          15\n",
      "celebrity_&_pop_culture             6           2\n",
      "diaries_&_daily_life              522         134\n",
      "family                              6           0\n",
      "fashion_&_style                     7           0\n",
      "film_tv_&_video                    13           0\n",
      "fitness_&_health                   36           7\n",
      "food_&_dining                      24           6\n",
      "gaming                             12           1\n",
      "learning_&_educational            321          92\n",
      "music                              16           3\n",
      "news_&_social_concern             157          37\n",
      "other_hobbies                      31           3\n",
      "relationships                      67          10\n",
      "science_&_technology               48          17\n",
      "sports                             16           3\n",
      "travel_&_adventure                 32           2\n",
      "youth_&_student_life              271          86\n"
     ]
    },
    {
     "data": {
      "image/png": "[encoded data removed]",
      "text/plain": [
       "<Figure size 1200x800 with 2 Axes>"
      ]
     },
     "metadata": {},
     "output_type": "display_data"
    }
   ],
   "source": [
    "# Show topics summary\n",
    "def clean_topics(topic_list):\n",
    "    if isinstance(topic_list, list):\n",
    "        return [topic.strip() for topic in topic_list]\n",
    "    return topic_list \n",
    "\n",
    "train_df = train_data.to_pandas()\n",
    "test_df = test_data.to_pandas()\n",
    "\n",
    "train_df[\"topics\"] = train_df[\"topics\"].apply(lambda x: eval(x) if isinstance(x, str) else x)\n",
    "test_df[\"topics\"] = test_df[\"topics\"].apply(lambda x: eval(x) if isinstance(x, str) else x)\n",
    "\n",
    "train_df[\"topics\"] = train_df[\"topics\"].apply(clean_topics)\n",
    "test_df[\"topics\"] = test_df[\"topics\"].apply(clean_topics)\n",
    "\n",
    "train_exploded = train_df.explode(\"topics\")\n",
    "test_exploded = test_df.explode(\"topics\")\n",
    "\n",
    "train_counts = train_exploded[\"topics\"].value_counts()\n",
    "test_counts = test_exploded[\"topics\"].value_counts()\n",
    "\n",
    "distribution_df = pd.DataFrame({\n",
    "    \"train_count\": train_counts,\n",
    "    \"test_count\": test_counts\n",
    "}).fillna(0).astype(int)\n",
    "\n",
    "print(distribution_df)\n",
    "\n",
    "# Plot the Pie Chart\n",
    "train_emotion_counts = pd.Series(train_data[\"sentiment\"]).value_counts()\n",
    "test_emotion_counts = pd.Series(test_data[\"sentiment\"]).value_counts()\n",
    "\n",
    "plt.figure(figsize=(12,8))\n",
    "plt.subplot(1,2,1)\n",
    "train_emotion_counts.plot.pie(startangle=140, title=\"Train Set Labels (Emotion)\")\n",
    "plt.ylabel('')\n",
    "\n",
    "plt.subplot(1,2,2)\n",
    "test_emotion_counts.plot.pie(startangle=140, title=\"Test Set Labels (Emotion)\")\n",
    "plt.ylabel('')\n",
    "\n",
    "plt.show()"
   ]
  },
  {
   "cell_type": "markdown",
   "metadata": {},
   "source": [
    "## 2. Training Classifier"
   ]
  },
  {
   "cell_type": "markdown",
   "metadata": {},
   "source": [
    "### 1. OneVsRestClassifier\n",
    "\n",
    "This is our first classifying strategy, which consists in fitting one binary classifier per class.\n",
    "\n",
    "For example, if you want to classify 3 types of fruits, apple, banana and orange with this strategy, you will need to train 3 binary classifiers. The first of these classifiers determines if it is an apple, the second is responsible for determining if it is a banana, and the third is responsible for determining if it is an orange.\n",
    "\n",
    "The 3 classifiers will then vote for the given new observation, the voting result will be shown as probability. Let's say we have a new observation that we are unsure what type of fruit it is, so we feed this observation to our classifier. The \"Apple\" classifier claims it's 80% likely an apple, the \"Banana\" classifier claims it's 10% likely a banana, and the \"Orange\" classifier claims it's 50% likely an orange. Then we classify based on the highest probability that our new object is an apple."
   ]
  },
  {
   "cell_type": "markdown",
   "metadata": {},
   "source": [
    "While it is simple and effective, this strategy has its drawback -- What if there are large amount of labels for us to classify? What if the labels have specific hierarchies? In the first situation, it may take a lot of time to train multiple classifiers for this task; and in the second situation, we could make a lot of mistakes using binary classification. Then we'd better use alternative strategies. \n",
    "\n",
    "Anyhow, this is a good way to begin encoder classification."
   ]
  },
  {
   "cell_type": "markdown",
   "metadata": {},
   "source": [
    "### 2. MultiOutputClassifier \n",
    "\n",
    "This strategy consists of fitting one classifier per target. This is a simple strategy for extending classifiers that do not natively support multi-target classification. \n",
    "\n",
    "It is somewhat similar to the \"OneVsRest\" strategy we just described, but uses a different approach. Let's go back to the fruit classification example, where in the previous setup we trained 3 different classifiers for 3 different types of fruits. Now, let's say that we basically determine which type of fruit it is by looking at the multiple features shared by these fruits (e.g., color, smoothness, and flavor). Then, the \"MultiOutput\" strategy would train a classifier to specialize in one variable. \n",
    "\n",
    "You may have noticed that this overcomes the shortcomings of the “OneVsRest” strategy to a certain extent, especially when there are more “labels” than training variables. However, when we have more variables than labels, this strategy is less efficient than the “OneVsRest” strategy. Therefore, we need to be cautious when choosing our strategy. \n"
   ]
  },
  {
   "cell_type": "markdown",
   "metadata": {},
   "source": [
    "### 3. ClassifierChain\n",
    "\n",
    "We are finally coming to our last strategy -- It is to train multi-label model that arranges binary classifiers into a chain.  \n",
    "\n",
    "I'll stick with the fruit categorization example (because it's simple and straightforward), and assume that we've used a \"MultiOutput\" strategy, which provides us with 3 classifiers that deal with 3 different features of the fruit. How can we make them work more efficiently? We want them to work in concert, rather than individually! A \"ClassifierChain\" can also discover correlations between these variables handled by the classifiers, thus improving the quality of the classification by sharing common knowledge and \"pass on\" the evidence chain.\n",
    "\n",
    "While this strategy sounds smarter than the first two, it has its drawbacks. First, it is more prone to false correlation and over-fitting. Second, it requires more resources to train. Third, when there are fewer covariates, the improvement that this strategy may bring is not significant. Therefore, special care should be taken when deciding to adopt this strategy!\n",
    "\n",
    "Now that we've finished this short tutorial on 3 different classification strategies, we will show how to train a basic encoder for our purposes using an example. Before we begin, we need to install the necessary package.\n",
    "```bash\n",
    "$ pip install setfit\n",
    "```"
   ]
  },
  {
   "cell_type": "code",
   "execution_count": null,
   "metadata": {},
   "outputs": [],
   "source": [
    "\n",
    "torch.cuda.empty_cache()\n",
    "\n",
    "training_device = torch.device(\"cuda\") if torch.cuda.is_available() else torch.device(\"cpu\")\n",
    "\n",
    "print(torch.version.cuda)\n",
    "print(torch.__version__)"
   ]
  },
  {
   "cell_type": "code",
   "execution_count": null,
   "metadata": {},
   "outputs": [],
   "source": [
    "# Set RAM distribution strategy\n",
    "import os\n",
    "\n",
    "os.environ[\"PYTORCH_CUDA_ALLOC_CONF\"] = \"expandable_segments:True\"\n",
    "\n",
    "print(\"PYTORCH_CUDA_ALLOC_CONF:\", os.getenv(\"PYTORCH_CUDA_ALLOC_CONF\"))"
   ]
  },
  {
   "cell_type": "code",
   "execution_count": null,
   "metadata": {},
   "outputs": [],
   "source": [
    "from setfit import SetFitModel\n",
    "# model_id = \"sentence-transformers/paraphrase-mpnet-base-v2\"\n",
    "\n",
    "model_id = \"sentence-transformers/all-MiniLM-L6-v2\"\n",
    "\n",
    "# Here we use a pre-trained model for classification, you can also find other models on https://huggingface.co/ \n",
    "model = SetFitModel.from_pretrained(model_id, device=\"cpu\", max_seq_length=256)\n",
    "\n",
    "model.model_head"
   ]
  },
  {
   "cell_type": "code",
   "execution_count": null,
   "metadata": {},
   "outputs": [],
   "source": [
    "def tokenize_function(example):\n",
    "    return tokenizer(example[\"text\"], truncation=True, max_length=256)\n",
    "\n",
    "train_data = train_data.map(tokenize_function, batched=True)\n",
    "test_data = test_data.map(tokenize_function, batched=True)\n",
    "\n",
    "train_data.set_format(\"torch\", columns=[\"input_ids\", \"attention_mask\", \"label\"])\n",
    "test_data.set_format(\"torch\", columns=[\"input_ids\", \"attention_mask\", \"label\"])\n",
    "\n"
   ]
  },
  {
   "cell_type": "code",
   "execution_count": null,
   "metadata": {},
   "outputs": [],
   "source": [
    "training_args = TrainingArguments(\n",
    "    output_dir='./results',              \n",
    "    num_train_epochs=3,                  \n",
    "    per_device_train_batch_size=16,         \n",
    ")\n"
   ]
  },
  {
   "cell_type": "code",
   "execution_count": null,
   "metadata": {},
   "outputs": [],
   "source": [
    "from transformers import AutoTokenizer, AutoModelForSequenceClassification, TrainingArguments, Trainer\n",
    "import evaluate\n",
    "accuracy_metric = evaluate.load(\"accuracy\")\n",
    "def compute_metrics(eval_pred):\n",
    "    logits, labels = eval_pred\n",
    "    predictions = logits.argmax(-1)\n",
    "    return accuracy_metric.compute(predictions=predictions, references=labels)"
   ]
  },
  {
   "cell_type": "code",
   "execution_count": null,
   "metadata": {},
   "outputs": [],
   "source": [
    "training_args.batch_eval_metrics = True\n",
    "# Initialize the Trainer with the provided datasets, model, and tokenizer\n",
    "setattr(training_args, 'full_determinism', False)\n",
    "trainer = Trainer(\n",
    "    model=model,\n",
    "    args=training_args,\n",
    "    train_dataset=train_data,\n",
    "    eval_dataset=test_data,\n",
    "    tokenizer=tokenizer,\n",
    ")\n",
    "\n",
    "preds = model.predict(test_data['text'])"
   ]
  },
  {
   "cell_type": "code",
   "execution_count": null,
   "metadata": {},
   "outputs": [],
   "source": [
    "metrics = trainer.evaluate()\n",
    "\n",
    "metrics"
   ]
  },
  {
   "cell_type": "code",
   "execution_count": null,
   "metadata": {},
   "outputs": [],
   "source": [
    "# Save our model\n",
    "model.save_pretrained(\"./my_setfit_model\")"
   ]
  },
  {
   "cell_type": "markdown",
   "metadata": {},
   "source": [
    "After saving our first model, we need to check the quality of the data."
   ]
  },
  {
   "cell_type": "code",
   "execution_count": null,
   "metadata": {},
   "outputs": [],
   "source": [
    "import matplotlib.pyplot as plt\n",
    "import seaborn as sns\n",
    "from sklearn.metrics import confusion_matrix\n",
    "\n",
    "# calculate confusion matrix\n",
    "y_true = test_data[\"label\"]\n",
    "y_pred = model.predict(test_data[\"text\"])\n",
    "\n",
    "# sort labels\n",
    "classes = sorted(set(y_true)) \n",
    "\n",
    "cm = confusion_matrix(y_true, y_pred, labels=classes)\n",
    "\n",
    "# Plot\n",
    "plt.figure(figsize=(8,6))\n",
    "sns.heatmap(cm, annot=True, fmt=\"d\", cmap=\"Blues\", linewidths=0.5, linecolor=\"gray\", xticklabels=classes, yticklabels=classes)\n",
    "plt.xlabel(\"Predicted Label\")\n",
    "plt.ylabel(\"True Label\")\n",
    "plt.title(\"Confusion Matrix\")\n",
    "plt.show()\n",
    "\n"
   ]
  },
  {
   "cell_type": "code",
   "execution_count": null,
   "metadata": {},
   "outputs": [],
   "source": [
    "from sklearn.metrics import classification_report\n",
    "print(classification_report(y_true, y_pred))"
   ]
  },
  {
   "cell_type": "markdown",
   "metadata": {},
   "source": [
    "By looking at this confusion matrix and the classification report, we now realize a key disadvantage of our current model lies in correctly classifying anger."
   ]
  },
  {
   "cell_type": "markdown",
   "metadata": {},
   "source": [
    "Another way of checking is to look at the baseline model accuracy "
   ]
  },
  {
   "cell_type": "code",
   "execution_count": null,
   "metadata": {},
   "outputs": [],
   "source": [
    "from sklearn.dummy import DummyClassifier\n",
    "\n",
    "dummy = DummyClassifier(strategy=\"stratified\")\n",
    "dummy.fit(train_data[\"text\"], train_data[\"label\"])\n",
    "baseline_acc = dummy.score(test_data[\"text\"], test_data[\"label\"])\n",
    "print(f'Baseline Model Accuracy: {baseline_acc:.4f}')"
   ]
  },
  {
   "cell_type": "markdown",
   "metadata": {},
   "source": [
    "In our case, we see the baseline model accuracy is 0.3889, therefore, our training model made about 0.27 accuracy improvement from the base model."
   ]
  },
  {
   "cell_type": "markdown",
   "metadata": {},
   "source": [
    "## Reference"
   ]
  },
  {
   "cell_type": "markdown",
   "metadata": {},
   "source": []
  }
 ],
 "metadata": {
  "kernelspec": {
   "display_name": "Python 3",
   "language": "python",
   "name": "python3"
  },
  "language_info": {
   "codemirror_mode": {
    "name": "ipython",
    "version": 3
   },
   "file_extension": ".py",
   "mimetype": "text/x-python",
   "name": "python",
   "nbconvert_exporter": "python",
   "pygments_lexer": "ipython3",
   "version": "3.12.5"
  }
 },
 "nbformat": 4,
 "nbformat_minor": 2
}
