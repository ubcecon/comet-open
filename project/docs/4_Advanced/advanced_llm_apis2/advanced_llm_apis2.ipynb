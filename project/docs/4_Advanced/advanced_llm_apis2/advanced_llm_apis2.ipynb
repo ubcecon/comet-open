{
  "cells": [
    {
      "cell_type": "raw",
      "metadata": {},
      "source": [
        "---\n",
        "title: 4.5 - Advanced - LLM APIs 2\n",
        "author: 'COMET Team <br> _Jonathan Graves, Alex Haddon_'\n",
        "date: 7 August 2024\n",
        "description: 'This notebook illustrates how to call different Large Language Models (LLMs) using their API, for the purposes of data analysis or computational use.'\n",
        "categories:\n",
        "  - advanced\n",
        "  - python\n",
        "  - OpenAI\n",
        "format:\n",
        "  html: default\n",
        "  ipynb:\n",
        "    jupyter:\n",
        "      kernelspec:\n",
        "        display_name: Python 3 (ipykernel)\n",
        "        language: python3\n",
        "        name: python3\n",
        "---"
      ],
      "id": "fca07968"
    },
    {
      "cell_type": "markdown",
      "metadata": {},
      "source": [
        "## What are LLMs?\n",
        "\n",
        "Large Language Models (LLMs) are advanced machine learning models designed to understand and generate human-like text based on the data they have been trained on. Examples of popular LLMs include GPT-3.5 from OpenAI and open-source models such as `ollama` or `huggingface`.\n",
        "\n",
        "## Applications of LLMs\n",
        "Large language models have a wide range of applications across various domains. In natural language understanding (NLU), they excel in tasks like text classification, named entity recognition, and language translation, enabling efficient content categorization and multilingual communication. LLMs are also powerful tools for text generation, facilitating the creation of articles, creative writing, and summarization of lengthy documents. Additionally, they enhance conversational agents and virtual assistants, providing human-like interactions and support. Furthermore, LLMs play a crucial role in knowledge extraction, sentiment analysis, and automated coding, making them invaluable in fields like customer support, market analysis, software development, and beyond. In fact, what you are reading right now was created using an LLM!\n",
        "\n",
        "Here is a [cool video](https://www.youtube.com/watch?v=5sLYAQS9sWQ&ab_channel=IBMTechnology) made by IBM that explains a little more about how LLMs work. \n",
        "\n",
        "\n",
        "# Setting Up the Environment\n",
        "\n",
        "Head to [ollama.com](https://ollama.com/) and download ollama locally. Then, in your terminal, run the code `ollama pull llama3` and wait for it to install\n",
        "\n",
        "## Installing Required Libraries\n",
        "Make sure to install the ollama library if you haven't already; in your terminal use the command `pip install ollama`. There will be various other packages you will be prompted to install later in this notebook. \n",
        "\n",
        "\n",
        "# Using an LLM (e.g., llama3)\n",
        "\n",
        "## Connecting to the LLM API\n",
        "Define a function to query the model by specifying the correct model as well as the prompt we want to pass to the model. \n",
        "\n",
        "NOTE: Make sure that you have the ollama application open and running locally before you try and make an API call or else you will get an error likely stating your connection has been \"refused\". \n"
      ],
      "id": "73b7750e"
    },
    {
      "cell_type": "code",
      "metadata": {},
      "source": [
        "# Import the required library (ollama)\n",
        "import ollama\n",
        "\n",
        "\n",
        "response = ollama.chat(\n",
        "    model='llama3',  # specify the model \n",
        "    messages=[{'role': 'user', 'content': 'In fewer than 50 words, why is the sky blue?'}]) # insert the desired prompt\n",
        "\n",
        "print(response)"
      ],
      "id": "2857ec2b",
      "execution_count": null,
      "outputs": []
    },
    {
      "cell_type": "markdown",
      "metadata": {},
      "source": [
        "The output of our API call to `ollama` comes in the [JSON](https://www.json.org/json-en.html) form which stands for JavaScript Object Notation. Essentially the output is split into a series of pairs consisting of a field name, colon, and then the value. For example, the output of our API call has `'model':'llama3'` as one of the entries meaning that the model we used to generate the response is llama3. If we want just the response to be the output we can specify that in our print statement using the code below:\n"
      ],
      "id": "be1cddd7"
    },
    {
      "cell_type": "code",
      "metadata": {},
      "source": [
        "# Only show the response from llama3\n",
        "print(response['message']['content'])"
      ],
      "id": "b1bd1449",
      "execution_count": null,
      "outputs": []
    },
    {
      "cell_type": "markdown",
      "metadata": {},
      "source": [
        "Now you try! Fill in the code skeleton with the correct code. \n",
        "\n",
        "HINT: *In your prompt specify that you don't want a long response. Without that, ollama can take a very long time, especially if your machine is slower, as it is running locally rather than connecting to external servers.* \n"
      ],
      "id": "867fbb57"
    },
    {
      "cell_type": "code",
      "metadata": {},
      "source": [
        "#response = ollama.chat(\n",
        "#     model= ...,\n",
        "#     messages=[{'role': 'user', 'content': ...}])\n",
        "\n",
        "# print(...)"
      ],
      "id": "08b76a57",
      "execution_count": null,
      "outputs": []
    },
    {
      "cell_type": "markdown",
      "metadata": {},
      "source": [
        "# Self-Tests and Exercises\n",
        "\n",
        "## Multiple Choice Questions\n",
        "Here are a few questions you can use to check your understanding. Run the cell below before attempting the multiple choice questions.\n"
      ],
      "id": "96570d5c"
    },
    {
      "cell_type": "code",
      "metadata": {},
      "source": [
        "from advanced_llm_apis2_tests.py import Tests"
      ],
      "id": "de0ec2f1",
      "execution_count": null,
      "outputs": []
    },
    {
      "cell_type": "markdown",
      "metadata": {},
      "source": [
        "### Question 1\n",
        "\n",
        "The output in JSON form uses the dictionary data type. What key (or sequence of keys) in the dictionary holds the output of the model?\n",
        "- A) ['model']\n",
        "- B) ['message']\n",
        "- C) ['message']['content']\n",
        "- D) ['content']\n",
        "- E) ['content']['message']\n",
        "- F) ['model']['message']\n",
        "\n",
        "*Enter your answer below as a a string with one of A,B,C,D,E,F ie. \"A\"*\n"
      ],
      "id": "750ea92d"
    },
    {
      "cell_type": "code",
      "metadata": {},
      "source": [
        "answer1 = #your answer here \n",
        "\n",
        "Tests.test1(answer1)"
      ],
      "id": "08de939f",
      "execution_count": null,
      "outputs": []
    },
    {
      "cell_type": "markdown",
      "metadata": {},
      "source": [
        "### Question 2\n",
        "\n",
        "Out of the options below, which best describes what an LLM (Large Language Model) is?\n",
        "\n",
        "- A) A specialized algorithm for analyzing large datasets and generating insights.\n",
        "- B) A type of neural network that excels in generating human-like text based on extensive training data.\n",
        "- C) A tool designed for processing and translating spoken language into text.\n",
        "- D) A machine learning model primarily used for image and object recognition.\n",
        "\n",
        "*Enter your answer below as a a string with one of A,B,C,D ie. \"A\"*\n"
      ],
      "id": "094850d9"
    },
    {
      "cell_type": "code",
      "metadata": {},
      "source": [
        "answer2 = #your answer here \n",
        "\n",
        "Tests.test2(answer2)"
      ],
      "id": "86a9de6f",
      "execution_count": null,
      "outputs": []
    },
    {
      "cell_type": "markdown",
      "metadata": {},
      "source": [
        "# Worked Example: Retrieving Data from a PDF\n",
        "\n",
        "## Problem Statement\n",
        "One real world application of what we learned above is when we have a pdf that we want our LLM to be able to answer questions about. This is a process called \"fine tuning\" where we train the LLM to answer our prompts under the context of the contents of our pdf or more broadly the information that we give to it. In this example, we will fine tune our LLM using The Gobal Risks Report 2024 from the World Economic Forum. After doing so, we will ask the LLM to give us some contextual based answers to questions we prompt the LLM with. \n",
        "\n",
        "## Solution Using the LLM\n",
        "Follow the steps below to get a comprehensive analysis using an LLM.\n",
        "\n",
        "#### Step 1\n",
        "\n",
        "First we will need to install various packages that will allow the PDF to be read and interpreted by the LLM. If you are interested in how this process works, feel free to open up the functions file as well as check out other lessons on word embeddings and creating RAGs. \n"
      ],
      "id": "05ab4dfd"
    },
    {
      "cell_type": "code",
      "metadata": {},
      "source": [
        "%pip install --upgrade --q unstructured langchain\n",
        "%pip install --upgrade --q \"unstructured[all-docs]\"\n",
        "%pip install --q langchain_community langchain_text_splitters chromadb\n",
        "!brew install libmagic\n",
        "!brew install poppler\n",
        "!brew install tesseract"
      ],
      "id": "5a2f1b78",
      "execution_count": null,
      "outputs": []
    },
    {
      "cell_type": "markdown",
      "metadata": {},
      "source": [
        "#### Step 2\n",
        "\n",
        "Now we will import the pdf using the `load_file(...)` function.\n"
      ],
      "id": "17378a3e"
    },
    {
      "cell_type": "code",
      "metadata": {},
      "source": [
        "from v2_functions import load_file\n",
        "\n",
        "path = \"WEF_The_Global_Risks_Report_2024.pdf\"\n",
        "\n",
        "data = load_file(path)\n",
        "\n",
        "# Check if data was loaded successfully\n",
        "if data:\n",
        "    # Preview the first page content\n",
        "    print(data[0].page_content)\n",
        "else:\n",
        "    print(\"Failed to load the PDF file.\")"
      ],
      "id": "a892a1f7",
      "execution_count": null,
      "outputs": []
    },
    {
      "cell_type": "markdown",
      "metadata": {},
      "source": [
        "#### Step 3\n",
        "\n",
        "We will now embed to text into vectors and create a database from which the LLM will pull information from. We are essentially \"translating\" the contents of the pdf into a readable text for the LLM to use. Here, we use the function `process_and_store_pdf(...)`. \n"
      ],
      "id": "0f522c0b"
    },
    {
      "cell_type": "code",
      "metadata": {},
      "source": [
        "from v2_functions import process_and_store_pdf\n",
        "\n",
        "!ollama pull nomic-embed-text\n",
        "\n",
        "vector_database = process_and_store_pdf(data)"
      ],
      "id": "3938b052",
      "execution_count": null,
      "outputs": []
    },
    {
      "cell_type": "markdown",
      "metadata": {},
      "source": [
        "#### Step 4\n",
        "\n",
        "Now, we need to specify that we will be using the `llama3` LLM model and then use the function `setup_retriever_and_chain(..., ...)` which will make calls to the API to answer our prompts. Then, we will try answering a few prompts using the LLM!\n"
      ],
      "id": "c6ddacc2"
    },
    {
      "cell_type": "code",
      "metadata": {},
      "source": [
        "from v2_functions import setup_retriever_and_chain\n",
        "\n",
        "# specify LLM model\n",
        "model = \"llama3\"\n",
        "\n",
        "# retrieval function; see the functions file for more information\n",
        "chain = setup_retriever_and_chain(vector_database, model)\n",
        "\n",
        "# specify prompt\n",
        "prompt = \"Provide a summary of the report.\"\n",
        "\n",
        "# After, try a few of the prompts below:\n",
        "# - \"What does the report say about climate change?\"\n",
        "# - \"What does the report say about misinformation?\"\n",
        "# - \"Summarize the section on conflict.\"\n",
        "\n",
        "# create a function to put it all together\n",
        "def local_model(chain, prompt):\n",
        "    response = chain.invoke(prompt)\n",
        "    print(response)\n",
        "\n",
        "# making a function call; adjust the prompt as desired\n",
        "local_model(chain, prompt)"
      ],
      "id": "1c3c4bf0",
      "execution_count": null,
      "outputs": []
    },
    {
      "cell_type": "markdown",
      "metadata": {},
      "source": [
        "#### Step 6 (Optional)\n",
        "\n",
        "If we wanted to restart with a different pdf, we would need to delete all the existing embeddings we made and you can do so by running the code below.\n"
      ],
      "id": "654c45cb"
    },
    {
      "cell_type": "code",
      "metadata": {},
      "source": [
        "# Reset the embeddings with this line of code\n",
        "# vector_database.delete_collection()"
      ],
      "id": "e1a41933",
      "execution_count": null,
      "outputs": []
    },
    {
      "cell_type": "markdown",
      "metadata": {},
      "source": [
        "# Conclusion\n",
        "\n",
        "## Recap of What Was Learned\n",
        "- We re-introduced the concept of Large Language Models (LLMs) and their applications.\n",
        "- We set up the environment and connected to the Ollama API.\n",
        "- We explored how to use LLMs with example prompts and responses.\n",
        "- We created our own embeddings from which we could make api calls to the Ollama API with the additional context of the given pdf.\n",
        "\n",
        "For more information about word embeddings and retrieval-augmented generation (RAG) see our other applicable notebooks.\n"
      ],
      "id": "ede00f15"
    }
  ],
  "metadata": {
    "kernelspec": {
      "display_name": "Python 3",
      "language": "python",
      "name": "python3"
    }
  },
  "nbformat": 4,
  "nbformat_minor": 5
}