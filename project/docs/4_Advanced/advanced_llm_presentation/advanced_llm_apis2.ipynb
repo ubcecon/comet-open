{
  "cells": [
    {
      "cell_type": "raw",
      "metadata": {},
      "source": [
        "---\n",
        "title: 4.5 - Advanced - LLM APIs 2\n",
        "author: 'COMET Team <br> _Jonathan Graves, Alex Haddon_'\n",
        "date: 7 August 2024\n",
        "description: 'This notebook illustrates how to call different Large Language Models (LLMs) using their API, for the purposes of data analysis or computational use.'\n",
        "categories:\n",
        "  - advanced\n",
        "  - python\n",
        "  - OpenAI\n",
        "format:\n",
        "  html: default\n",
        "  ipynb:\n",
        "    jupyter:\n",
        "      kernelspec:\n",
        "        display_name: Python 3 (ipykernel)\n",
        "        language: python3\n",
        "        name: python3\n",
        "---"
      ]
    },
    {
      "cell_type": "markdown",
      "metadata": {},
      "source": [
        "## What are LLMs?\n",
        "\n",
        "Large Language Models (LLMs) are advanced machine learning models designed to understand and generate human-like text based on the data they have been trained on. Examples of popular LLMs include GPT-3.5 from OpenAI and open-source models such as `ollama` or `huggingface`.\n",
        "\n",
        "## Applications of LLMs\n",
        "Large language models have a wide range of applications across various domains. In natural language understanding (NLU), they excel in tasks like text classification, named entity recognition, and language translation, enabling efficient content categorization and multilingual communication. LLMs are also powerful tools for text generation, facilitating the creation of articles, creative writing, and summarization of lengthy documents. Additionally, they enhance conversational agents and virtual assistants, providing human-like interactions and support. Furthermore, LLMs play a crucial role in knowledge extraction, sentiment analysis, and automated coding, making them invaluable in fields like customer support, market analysis, software development, and beyond. In fact, what you are reading right now was created using an LLM!\n",
        "\n",
        "Here is a [cool video](https://www.youtube.com/watch?v=5sLYAQS9sWQ&ab_channel=IBMTechnology) made by IBM that explains a little more about how LLMs work. \n",
        "\n",
        "\n",
        "# Setting Up the Environment\n",
        "\n",
        "Head to [ollama.com](https://ollama.com/) and download ollama locally. Then, in your terminal, run the code `ollama pull llama3` and wait for it to install\n",
        "\n",
        "## Installing Required Libraries\n",
        "Make sure to install the ollama library if you haven't already; in your terminal use the command `pip install ollama`. There will be various other packages you will be prompted to install later in this notebook. \n",
        "\n",
        "\n",
        "# Using an LLM (e.g., llama3)\n",
        "\n",
        "## Connecting to the LLM API\n",
        "Define a function to query the model by specifying the correct model as well as the prompt we want to pass to the model. \n",
        "\n",
        "NOTE: Make sure that you have the ollama application open and running locally before you try and make an API call or else you will get an error likely stating your connection has been \"refused\". "
      ]
    },
    {
      "cell_type": "code",
      "execution_count": null,
      "metadata": {},
      "outputs": [],
      "source": [
        "!pip install ollama\n",
        "!pip install pandas\n",
        "!pip install praw"
      ]
    },
    {
      "cell_type": "code",
      "execution_count": null,
      "metadata": {},
      "outputs": [],
      "source": [
        "import pandas as pd\n",
        "import ollama\n",
        "from advanced_llm_apis2_tests import Tests"
      ]
    },
    {
      "cell_type": "code",
      "execution_count": null,
      "metadata": {},
      "outputs": [],
      "source": [
        "\n",
        "response = ollama.chat(\n",
        "    model='llama3',  # specify the model \n",
        "    messages=[{'role': 'user', 'content': 'In fewer than 50 words, why is the sky blue?'}]) # insert the desired prompt\n",
        "\n",
        "print(response)"
      ]
    },
    {
      "cell_type": "markdown",
      "metadata": {},
      "source": [
        "The output of our API call to `ollama` comes in the [JSON](https://www.json.org/json-en.html) form which stands for JavaScript Object Notation. Essentially the output is split into a series of pairs consisting of a field name, colon, and then the value. For example, the output of our API call has `'model':'llama3'` as one of the entries meaning that the model we used to generate the response is llama3. If we want just the response to be the output we can specify that in our print statement using the code below:"
      ]
    },
    {
      "cell_type": "code",
      "execution_count": null,
      "metadata": {},
      "outputs": [],
      "source": [
        "# Only show the response from llama3\n",
        "print(response['message']['content'])"
      ]
    },
    {
      "cell_type": "markdown",
      "metadata": {},
      "source": [
        "Now you try! Fill in the code skeleton with the correct code. \n",
        "\n",
        "HINT: *In your prompt specify that you don't want a long response. Without that, ollama can take a very long time, especially if your machine is slower, as it is running locally rather than connecting to external servers.* "
      ]
    },
    {
      "cell_type": "code",
      "execution_count": null,
      "metadata": {},
      "outputs": [],
      "source": [
        "#response = ollama.chat(\n",
        "#     model= ...,\n",
        "#     messages=[{'role': 'user', 'content': ...}])\n",
        "\n",
        "# print(...)"
      ]
    },
    {
      "cell_type": "markdown",
      "metadata": {},
      "source": [
        "# Self-Tests and Exercises\n",
        "\n",
        "## Multiple Choice Questions\n",
        "Here are a few questions you can use to check your understanding. Run the cell below before attempting the multiple choice questions."
      ]
    },
    {
      "cell_type": "markdown",
      "metadata": {},
      "source": [
        "### Question 1\n",
        "\n",
        "The output in JSON form uses the dictionary data type. What key (or sequence of keys) in the dictionary holds the output of the model?\n",
        "- A) ['model']\n",
        "- B) ['message']\n",
        "- C) ['message']['content']\n",
        "- D) ['content']\n",
        "- E) ['content']['message']\n",
        "- F) ['model']['message']\n",
        "\n",
        "*Enter your answer below as a a string with one of A,B,C,D,E,F ie. \"A\"*"
      ]
    },
    {
      "cell_type": "code",
      "execution_count": null,
      "metadata": {},
      "outputs": [],
      "source": [
        "answer1 = #your answer here\n",
        "\n",
        "Tests.test1(answer1)"
      ]
    },
    {
      "cell_type": "markdown",
      "metadata": {},
      "source": [
        "### Question 2\n",
        "\n",
        "Out of the options below, which best describes what an LLM (Large Language Model) is?\n",
        "\n",
        "- A) A specialized algorithm for analyzing large datasets and generating insights.\n",
        "- B) A type of neural network that excels in generating human-like text based on extensive training data.\n",
        "- C) A tool designed for processing and translating spoken language into text.\n",
        "- D) A machine learning model primarily used for image and object recognition.\n",
        "\n",
        "*Enter your answer below as a a string with one of A,B,C,D ie. \"A\"*"
      ]
    },
    {
      "cell_type": "code",
      "execution_count": null,
      "metadata": {},
      "outputs": [],
      "source": [
        "answer2 = #your answer here \n",
        "\n",
        "Tests.test2(answer2)"
      ]
    },
    {
      "cell_type": "markdown",
      "metadata": {},
      "source": [
        "# Worked Examples: Natural language processing and sentiment Analysis\n",
        "\n",
        "**Natural language processing** is a field of artificial intelligence that focuses on the interaction between computers and human languages. It aims to enable machines to understand, interpret, generate, and respond to human language in a way that is both meaningful and useful. One category of natural language processing is **sentiment analysis**: the NLP technique used to determine the emotional tone or sentiment expressed in a piece of text, also referred to as \"opinion mining\". It aims to classify text as positive, negative, neutral, or sometimes more granular emotional categories (e.g., anger, joy, sadness). Sentiment analysis is widely used for analyzing opinions, feedback, and emotions in social media posts, reviews, surveys, and other types of text data. \n",
        "\n",
        "Social scientists use sentiment analysis to assess the public’s reaction to government policies, decisions, and political figures, understand how public sentiment evolves during social movements, protests, or cultural shifts, and understand changes in collective behavior, as well as pick up on toxicity and radicalization in communities. For instance, Ederer et al. (2023) used LLM-powered sentiment analysis to classify posts by sentiment on the Econ Job Market Rumors (EJMR) online forum, finding that posts mentioning women or female pronouns (\"she\", \"her\", \"hers\") attracted significantly more hate speech, misogyny, and toxicity compared to posts directed at or mentioning men. \n",
        "\n",
        "## Problem Statement\n",
        "The issue with traditional sentiment analysis, also called lexicon-based sentiment analysis, is that it groups sentiment based on keywords pulled from a dictionary of pre-labelled words. For instance, the sentence: *\"While Biden did win the election, the five-point difference in the actual election results and the predicted polling shows that pollsters are extremely unreliable, and are most often shills for a particular political party.\"* Under traditional sentiment analysis, this sentence would be labelled as negative, as the words \"unreliable\" and \"shills\" are present in the negative words dictionary, and no words are present in the positive words dictionary. However, while efficient, this makes traditional analysis inaccurate in the modern digital landscape, where sentiment is often obfuscated by sarcasm, humor, and missing context. For instance, consider the following tweet:\n",
        "\n",
        "*\"YouTube now officially allow advertisers to display ads while videos are paused... actual piracy sites have less ads than youtube now.\"* (@7RlNGSINHAND, 2024)\n",
        "\n",
        "The sentiment here is clearly negative, expressing frustration at the plethora of ads on streaming sites. However, this is only obvious to the (human) reader, who understands the broader context of the tweet. The tweet itself contains no wording geared towards a particular sentiment, and would thus not be picked up as negative using traditional sentiment analysis methods. \n",
        "\n",
        "This is the issue that LLM-powered sentiment analysis attempts to solve: by *training* a LLM on large amounts of pre-labeled sentences, LLMs are able to pick up on the context clues, sarcasm, and humor that makes analyzing sentiment difficult. In this section, we introduce two methods of sentiment analysis. The first uses the ollama model we used earlier, and the second introduces BERT, another LLM, created specifically for sentiment analysis tasks. "
      ]
    },
    {
      "cell_type": "markdown",
      "metadata": {},
      "source": [
        "#### Step 1: Installing Required Python Libraries\n",
        "\n",
        "We did this above when ran the command `pip install pandas` and `import pandas as pd` We will install pandas which will help us convert our survey responses into a machine readable data frame. Pandas is a popular Python library used for data manipulation and analysis. It provides powerful data structures like DataFrames and Series, which allow users to work with labeled and relational data intuitively. With pandas, you can easily read, clean, transform, and analyze data from various formats such as CSV, Excel, SQL databases, and more. "
      ]
    },
    {
      "cell_type": "markdown",
      "metadata": {},
      "source": [
        "#### Step 2: Read the CSV File\n",
        "\n",
        "First, we will read the `survey_responses_election.csv` file into a pandas DataFrame to load the survey responses."
      ]
    },
    {
      "cell_type": "code",
      "execution_count": null,
      "metadata": {},
      "outputs": [],
      "source": [
        "# Read the CSV file with the survey responses\n",
        "df = pd.read_csv('survey_responses_election.csv')\n",
        "\n",
        "# Display the first few rows of the DataFrame to verify the content\n",
        "print(df.head())"
      ]
    },
    {
      "cell_type": "markdown",
      "metadata": {},
      "source": [
        "#### Step 3: Prepare the Responses for Sentiment Analysis\n",
        "\n",
        "Next, we’ll convert the survey responses from the DataFrame into a list format that can be passed to the LLM for sentiment analysis."
      ]
    },
    {
      "cell_type": "code",
      "execution_count": null,
      "metadata": {},
      "outputs": [],
      "source": [
        "# Convert the 'Survey Response' column into a list\n",
        "responses = df['Survey Response'].tolist()\n",
        "\n",
        "# Print the list of responses to verify\n",
        "print(responses[:5])  # Display the first 5 responses"
      ]
    },
    {
      "cell_type": "markdown",
      "metadata": {},
      "source": [
        "#### Step 4: Perform Sentiment Analysis Using an LLM\n",
        "\n",
        "Now that we have the responses in a list, we will use an LLM model (like llama3 from ollama) to perform sentiment analysis. The LLM will analyze the sentiments expressed in the survey responses."
      ]
    },
    {
      "cell_type": "code",
      "execution_count": null,
      "metadata": {},
      "outputs": [],
      "source": [
        "# Define a prompt for sentiment analysis\n",
        "response = ollama.chat(\n",
        "    model='llama3',  # specify the model\n",
        "    messages=[{'role': 'user', 'content': f\"Analyze the sentiment of the following survey responses:\\n{responses}\"}]\n",
        ")\n",
        "\n",
        "# Print the model's output (the sentiment analysis) formatted the output for better readability\n",
        "print(\"Sentiment Analysis Results:\")\n",
        "print(response['message']['content'])"
      ]
    },
    {
      "cell_type": "markdown",
      "metadata": {},
      "source": [
        "## Worked example #2: Sentiment analysis using BERT"
      ]
    },
    {
      "cell_type": "code",
      "execution_count": 23,
      "metadata": {},
      "outputs": [],
      "source": [
        "import praw\n",
        "import csv\n",
        "\n",
        "# Set up your Reddit API credentials\n",
        "reddit = praw.Reddit(\n",
        "    client_id= \"VHpkLzTOf66_2LvwJfrFqw\"  ,     # Replace with your client ID\n",
        "    client_secret=\"n2Gnnd9n1RV5PtZwF8aT0TP76iuLwQ\", # Replace with your client secret\n",
        "    user_agent=\"test\"      \n",
        ")\n",
        "\n",
        "subreddit_name = \"UBC\"        \n",
        "subreddit = reddit.subreddit(subreddit_name)\n",
        "comments = subreddit.comments(limit=1000) \n",
        "\n",
        "#let's create a simple for-loop for filtering for comments containing the given keyword\n",
        "filtered_comments_workday = []\n",
        "filtered_comments_ssc = []\n",
        "\n",
        "for comment in comments:\n",
        "    body_lower = comment.body.lower()  # Lowercasing once for efficiency\n",
        "    if \"workday\" in body_lower:\n",
        "        filtered_comments_workday.append(comment)\n",
        "    if \"ssc\" in body_lower:\n",
        "        filtered_comments_ssc.append(comment)\n",
        "\n",
        "csv_workday = \"reddit_comments_workday.csv\"\n",
        "csv_ssc = \"reddit_comments_ssc.csv\"\n",
        "\n",
        "def write_comments_to_csv(comments, filename):\n",
        "\"\"\"\n",
        "for each element in the list of comments creates a csv and appends each comment to the csv\n",
        "\"\"\"\n",
        "    with open(filename, \"w\", newline='', encoding=\"utf-8\") as csvfile:\n",
        "        csvwriter = csv.writer(csvfile)\n",
        "        csvwriter.writerow([\"Author\", \"Comment\", \"Permalink\"])\n",
        "        for comment in comments:\n",
        "            # Handle deleted authors gracefully\n",
        "            author = comment.author.name if comment.author else \"Unknown\"\n",
        "            csvwriter.writerow([author, comment.body, f\"https://www.reddit.com{comment.permalink}\"])\n",
        "\n",
        "# Write filtered comments to respective CSV files\n",
        "write_comments_to_csv(filtered_comments_workday, csv_workday)\n",
        "write_comments_to_csv(filtered_comments_ssc, csv_ssc)\n"
      ]
    },
    {
      "cell_type": "code",
      "execution_count": 19,
      "metadata": {},
      "outputs": [
        {
          "data": {
            "text/plain": [
              "[Comment(id='lnyozqp'),\n",
              " Comment(id='lnv96wo'),\n",
              " Comment(id='lnu9415'),\n",
              " Comment(id='lntrtfp'),\n",
              " Comment(id='lnthxvf'),\n",
              " Comment(id='lnsrdok')]"
            ]
          },
          "execution_count": 19,
          "metadata": {},
          "output_type": "execute_result"
        }
      ],
      "source": [
        " filtered_comments_workday"
      ]
    },
    {
      "cell_type": "markdown",
      "metadata": {},
      "source": [
        "# Conclusion\n",
        "\n",
        "## Recap of What Was Learned\n",
        "- We re-introduced the concept of Large Language Models (LLMs) and their applications.\n",
        "- We set up the environment and connected to the Ollama API.\n",
        "- We explored how to use LLMs with example prompts and responses.\n",
        "- We created our own embeddings from which we could make api calls to the Ollama API with the additional context of the given pdf.\n",
        "\n",
        "For more information about word embeddings and retrieval-augmented generation (RAG) see our other applicable notebooks.\n"
      ]
    }
  ],
  "metadata": {
    "kernelspec": {
      "display_name": "Python 3 (ipykernel)",
      "language": "python",
      "name": "python3"
    },
    "language_info": {
      "codemirror_mode": {
        "name": "ipython",
        "version": 3
      },
      "file_extension": ".py",
      "mimetype": "text/x-python",
      "name": "python",
      "nbconvert_exporter": "python",
      "pygments_lexer": "ipython3",
      "version": "3.12.0"
    }
  },
  "nbformat": 4,
  "nbformat_minor": 4
}
