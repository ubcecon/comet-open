{
  "cells": [
    {
      "cell_type": "markdown",
      "id": "97ffa027-bd5b-42a6-9cab-563671343b36",
      "metadata": {},
      "source": [
        "# GTSummary Summary Tables\n",
        "\n",
        "## Outline\n",
        "\n",
        "### Prerequisites\n",
        "\n",
        "-   Intermediate knowledge of R and Basic Jupyter Skills\n",
        "-   An understanding of Tables and Basic Statistics\n",
        "-   Knowledge of Regressions\n",
        "\n",
        "### Outcomes\n",
        "\n",
        "By the end of this notebook, you will be able to: - Install and Use the\n",
        "GTSummary Package - Use GTSummary to create basic summary tables - Use\n",
        "GTSummary to create stratified tables - Use GTSummary to customize the\n",
        "tables (Headers, Footnotes, colors and sizes) - Use GTSummary to create\n",
        "tables for regression output - Use GTSummary to Create tables for\n",
        "Projects in classes like Econ 326 or Econ 490\n",
        "\n",
        "## Part 1: Using GTSummary\n",
        "\n",
        "Firstly let’s introduce GTSummary: GTSummary is an R package designed to\n",
        "create publication-ready analytical and summary tables with ease and\n",
        "flexibility. It offers a powerful set of tools for data scientists,\n",
        "statisticians, and researchers working with R to summarize datasets,\n",
        "regression models, and more. It is one of the best packages at this task\n",
        "and is a useful tool to use for projects, research or other statistical\n",
        "uses.\n",
        "\n",
        "Let’s learn how to use it!\n",
        "\n",
        "Running the next code block will install necessary packages, you may be\n",
        "prompted to choose a CRAN mirror, just choose the closest geographical\n",
        "one, example for Vancouver choose US (OR). This will be all of the\n",
        "packages needed for the notebook."
      ]
    },
    {
      "cell_type": "code",
      "execution_count": null,
      "id": "0666ff7c-a66a-4a40-b810-b836a0c26aba",
      "metadata": {
        "vscode": {
          "languageId": "r"
        }
      },
      "outputs": [],
      "source": [
        "#Run this cell to install necessary packages\n",
        "install.packages(\"broom.helpers\")\n",
        "install.packages(\"jsonlite\")\n",
        "install.packages(\"rlang\")\n",
        "install.packages(\"gtsummary\") #This is our key GTSummary package which is the topic of this notebook\n",
        "install.packages(\"dplyr\") \n",
        "install.packages(\"tidyverse\")\n",
        "install.packages(\"NHANES\")\n",
        "install.packages(\"IRdisplay\")\n",
        "install.packages(\"cardx\")\n",
        "install.packages('webshot2')"
      ]
    },
    {
      "cell_type": "markdown",
      "id": "02d1f185-88d9-4cb7-bdb5-c2ff06411b46",
      "metadata": {},
      "source": [
        "This will run the packages so we can use them for the code below."
      ]
    },
    {
      "cell_type": "code",
      "execution_count": null,
      "id": "3b18bf7a-813c-4fdf-adb7-515dc759b4df",
      "metadata": {
        "vscode": {
          "languageId": "r"
        }
      },
      "outputs": [],
      "source": [
        "library(jsonlite)\n",
        "library(gt)\n",
        "library(rlang)\n",
        "library(gtsummary) #This is our key GTSummary package which is the topic of this notebook\n",
        "library(dplyr)\n",
        "library(tidyverse)\n",
        "library(NHANES)\n",
        "library(dplyr)\n",
        "library(IRdisplay)"
      ]
    },
    {
      "cell_type": "markdown",
      "id": "d890d9f3-db7c-4595-a829-1761155fbcfe",
      "metadata": {},
      "source": [
        "This is our dataset which we will be using for the first section of this\n",
        "notebook. We have chosen this dataset as it is avaible within R as a\n",
        "package and does not have to be installed separately. The NHANES dataset\n",
        "is a subset of data from the National Health and Nutrition Examination\n",
        "Survey, a comprehensive study designed to assess the health and\n",
        "nutritional status of adults and children in the United States\n",
        "\n",
        "Please run the cell below and see if the head command correctly displays\n",
        "the data."
      ]
    },
    {
      "cell_type": "code",
      "execution_count": null,
      "id": "a87f4641-0638-4eab-b038-adefe52ad448",
      "metadata": {
        "vscode": {
          "languageId": "r"
        }
      },
      "outputs": [],
      "source": [
        "#Check if the data is properly loaded\n",
        "data(NHANES)\n",
        "head(NHANES, 20)"
      ]
    },
    {
      "cell_type": "markdown",
      "id": "1f910796-8d92-4a6f-bdff-677e1aae7e74",
      "metadata": {},
      "source": [
        "### Summary Tables\n",
        "\n",
        "Here we will make a basic summary table with the varaibles\n",
        "`Age, BMI, Weight, Race1, Education, Gender` which will show an overview\n",
        "of the dataset. Along with this we will have first mean and then in\n",
        "brackets standard deviation and for specific variables percent of n\n",
        "within each category."
      ]
    },
    {
      "cell_type": "code",
      "execution_count": null,
      "id": "6739c516-52a0-43c7-bae2-290bec9b61a6",
      "metadata": {
        "vscode": {
          "languageId": "r"
        }
      },
      "outputs": [],
      "source": [
        "# Load the NHANES data\n",
        "data(NHANES)\n",
        "\n",
        "# Create a summary table for selected variables with our NHANES dataset\n",
        "summary_table <- NHANES %>%\n",
        "  select(Age, BMI, Weight, Race1, Education, Gender) %>% #Here we select the variables we want on our summary table\n",
        "  tbl_summary(\n",
        "    statistic = list(\n",
        "      all_continuous() ~ \"{mean} ({sd})\", #all continous variables will have mean and standard deviation \n",
        "      all_categorical() ~ \"{n} ({p}%)\" #all categorical variables will have n and p included\n",
        "    ),\n",
        "    digits = all_continuous() ~ 1,\n",
        "    missing = \"no\"\n",
        "  ) %>%\n",
        "  modify_header(label = \"**Variable**\") %>% #Using  modify_header we can change the label\n",
        "  bold_labels()\n",
        "\n",
        "# Print the summary table\n",
        "summary_table"
      ]
    },
    {
      "cell_type": "markdown",
      "id": "ae87014e-1fc1-4cea-acaa-81eb849d01bf",
      "metadata": {},
      "source": [
        "To show a more complex table we can also use the by command to sort by\n",
        "if the observation has diabetes. This is called stratifying by group\n",
        "varaibles. Here the key function is `by` where by setting it to the\n",
        "variable Diabetes we can show the summary statostocs for three different\n",
        "groups Overall, No Diabetes and Diagnosed with Diabetes.\n",
        "\n",
        "We can also use the commmand `add_` to add certain statistics to our\n",
        "table for instance here we will use `add_n()` to show how many people in\n",
        "the dataset have diabetes. We can use `add_` for different things apart\n",
        "from number of observations for instance `add_p` will show p values.\n",
        "More information on what can be added can be found at\n",
        "https://www.danieldsjoberg.com/gtsummary/articles/tbl_summary.html under\n",
        "the header “{gtsummary} functions to add information.”"
      ]
    },
    {
      "cell_type": "code",
      "execution_count": null,
      "id": "c87fe7e3-b647-4a4c-a6f4-55b41b765330",
      "metadata": {
        "vscode": {
          "languageId": "r"
        }
      },
      "outputs": [],
      "source": [
        "#Same as before make a table variable and select variables in the dataset using select(...)\n",
        "summary_table2 <- NHANES %>%\n",
        "  select(Age, BMI, Weight, Race1, Gender, Diabetes) %>%\n",
        "  tbl_summary(\n",
        "    by = Diabetes, #Here we can stratify our table by people who have diabetes. \n",
        "    statistic = list(\n",
        "      all_continuous() ~ \"{mean} ({sd})\",\n",
        "      all_categorical() ~ \"{n}\"\n",
        "    ),\n",
        "    digits = all_continuous() ~ 1,\n",
        "    missing = \"no\"\n",
        "  ) %>%\n",
        "  add_overall() %>%\n",
        "  add_n() %>% #Add Number of Observations\n",
        "  modify_header(label = \"**Variable**\") %>%\n",
        "  bold_labels() %>%\n",
        "  modify_spanning_header(c(\"stat_1\", \"stat_2\") ~ \"**Diabetes Status**\") #modify_spanning_header is the overall title of our table\n",
        "\n",
        "#Print the table\n",
        "summary_table2"
      ]
    },
    {
      "cell_type": "markdown",
      "id": "20a9f2dc-4c20-43c9-ac61-25466700aa8d",
      "metadata": {},
      "source": [
        "We can also make custom headers and footnotes using the command\n",
        "`modify_header`, `modify_footnote`and `modify_caption`. This is shown in\n",
        "the codeblock below where we will create a table with a custom header,\n",
        "title and footnotes."
      ]
    },
    {
      "cell_type": "code",
      "execution_count": null,
      "id": "7baa0b4f-bd3e-4718-a6d0-0657f3f9d705",
      "metadata": {
        "vscode": {
          "languageId": "r"
        }
      },
      "outputs": [],
      "source": [
        "#Same as before but we to focus our code we will start from our output of the stratified table from summary_table2. \n",
        "summary_table3 <- summary_table2 %>%\n",
        "  modify_header( #This command will modify the header in the table\n",
        "    stat_0 ~ \"**All Observations**\", \n",
        "    stat_1 ~ \"**No Diabetes**\", \n",
        "    stat_2 ~ \"**Diagnosed with Diabetes**\"\n",
        "  ) %>%\n",
        "  modify_footnote( \n",
        "    all_stat_cols() ~ \"Median (IQR) for continuous variables; n (%) for categorical variables\" #Here we change the footnote with the command modify_footnote\n",
        "  ) %>%\n",
        "  modify_caption(\"**Table 1. Demographic and Clinical Characteristics**\") #And here we change the overall title\n",
        "\n",
        "# Print the table \n",
        "summary_table3"
      ]
    },
    {
      "cell_type": "markdown",
      "id": "9f7a5ae8-d99a-4a7c-9bb6-e306fad989fa",
      "metadata": {},
      "source": [
        "We can also change stylistic choices, this is the same table as before\n",
        "information wise, but it has been substantially changed visually.\n",
        "GTSummary offers many options to change the look of our tables. Below is\n",
        "an example where we will drastically change the look of the table using\n",
        "the commands `tab_options` and `tab_style`, you are free to experiment\n",
        "and change the code here to see how the colors, borders and labels can\n",
        "change."
      ]
    },
    {
      "cell_type": "code",
      "execution_count": null,
      "id": "c4a44dc3-2ca2-4ade-ab28-3d955595d1a0",
      "metadata": {
        "vscode": {
          "languageId": "r"
        }
      },
      "outputs": [],
      "source": [
        "summary_table4 <- NHANES %>% #create the variable \n",
        "  select(Age, BMI, Weight, Race1, Gender, Diabetes) %>% #select variables \n",
        "  tbl_summary(\n",
        "    by = Diabetes, #use the by command to stratify the table \n",
        "    statistic = list(\n",
        "      all_continuous() ~ \"{mean} ({sd})\",\n",
        "      all_categorical() ~ \"{n}\"\n",
        "    ),\n",
        "    digits = all_continuous() ~ 1,\n",
        "    missing = \"no\"\n",
        "  ) %>%\n",
        "  add_overall() %>%\n",
        "  add_n() %>%\n",
        "  modify_header(label = \"**Variable**\") %>%\n",
        "  bold_labels() %>%\n",
        "  modify_spanning_header(c(\"stat_1\", \"stat_2\") ~ \"**Diabetes Status**\") %>%\n",
        "  modify_header(\n",
        "    stat_0 ~ \"**All Observations**\", \n",
        "    stat_1 ~ \"**No Diabetes**\", \n",
        "    stat_2 ~ \"**Diabetes**\"\n",
        "  ) %>%\n",
        "  modify_footnote( #change footnote label \n",
        "    all_stat_cols() ~ \"Median (IQR) for continuous variables; n (%) for categorical variables\"\n",
        "  ) %>%\n",
        "  modify_caption(\"**Table 1. Demographic and Clinical Characteristics**\") %>%\n",
        "  as_gt() %>%\n",
        "  gt::tab_options( #Change tab options like font, font size, header styles \n",
        "    table.font.name = \"Arial\",\n",
        "    table.font.size = 12,\n",
        "    heading.title.font.size = 16,\n",
        "    column_labels.font.weight = \"bold\",\n",
        "    table.border.top.style = \"solid\",\n",
        "    table.border.bottom.style = \"solid\",\n",
        "    column_labels.border.top.style = \"solid\",\n",
        "    column_labels.border.bottom.style = \"solid\",\n",
        "    data_row.padding = gt::px(10),\n",
        "    source_notes.font.size = 10,\n",
        "    table.width = gt::pct(100)\n",
        "  ) %>%\n",
        "  gt::tab_style( #Change colors of the cells \n",
        "    style = list(\n",
        "      gt::cell_fill(color = \"lightblue\"),\n",
        "      gt::cell_text(weight = \"bold\")\n",
        "    ),\n",
        "    locations = gt::cells_column_labels()\n",
        "  ) %>%\n",
        "  gt::tab_style( \n",
        "    style = gt::cell_text(color = \"navy\"),\n",
        "    locations = gt::cells_body(\n",
        "      columns = gt::vars(stat_0)\n",
        "    )\n",
        "  ) %>%\n",
        "  gt::tab_style( #Change cell border colors \n",
        "    style = gt::cell_borders(\n",
        "      sides = \"right\",\n",
        "      color = \"grey\",\n",
        "      weight = gt::px(1)\n",
        "    ),\n",
        "    locations = gt::cells_body(\n",
        "      columns = gt::everything()\n",
        "    )\n",
        "  )\n",
        "\n",
        "# Print the table \n",
        "summary_table4"
      ]
    },
    {
      "cell_type": "markdown",
      "id": "c0db831e-c3a5-4f2b-b962-9a01ba03310e",
      "metadata": {},
      "source": [
        "### Regression Tables\n",
        "\n",
        "Apart from summary tables GTSummary can also be used for regression\n",
        "analysis. Here we will continue to use the NHANES dataset, and the\n",
        "regression formula we will use is:\n",
        "\n",
        "$$\n",
        "\\text{TotChol} = \\beta_0 + \\beta_1 \\cdot \\text{Age} + \\beta_2 \\cdot \\text{BMI} + \\beta_3 \\cdot \\text{Alcohol12PlusYr} + \\beta_4 \\cdot \\text{PhysActive} + \\beta_5 \\cdot \\text{SleepHrsNight} + \\varepsilon\n",
        "$$\n",
        "\n",
        "Here we will make a simple table showing our regression results, with\n",
        "our beta coefficients, 95%CIs, and p-values."
      ]
    },
    {
      "cell_type": "code",
      "execution_count": null,
      "id": "acfd63e2-982e-4241-ba5f-bc5410fdbdbd",
      "metadata": {
        "vscode": {
          "languageId": "r"
        }
      },
      "outputs": [],
      "source": [
        "# Prepare the data\n",
        "nhanes_data <- NHANES %>%\n",
        "  select(TotChol, Age, BMI, Alcohol12PlusYr, PhysActive, SleepHrsNight) %>% #Select variables like above\n",
        "  na.omit()  # Remove rows with missing values\n",
        "\n",
        "# Our regression model from above\n",
        "model <- lm(TotChol ~ Age + BMI + Alcohol12PlusYr + PhysActive + SleepHrsNight, data = nhanes_data)\n",
        "\n",
        "# Create a summary table using gtsummary\n",
        "tbl_summary <- tbl_regression(model, \n",
        "               label = list( #Set labels for our variables \n",
        "                 Age ~ \"Age (years)\",\n",
        "                 BMI ~ \"Body Mass Index\",\n",
        "                 Alcohol12PlusYr ~ \"Alcohol consumption (12+ drinks/year)\",\n",
        "                 PhysActive ~ \"Physically active\",\n",
        "                 SleepHrsNight ~ \"Sleep hours per night\"\n",
        "               )) %>%\n",
        "  add_global_p() %>% #Add a p-value\n",
        "  bold_p(t = 0.05) %>%\n",
        "  bold_labels() %>%\n",
        "  modify_header(label = \"**Variable**\") %>% #Change headers like for summary tables\n",
        "  modify_spanning_header(c(\"estimate\", \"conf.low\", \"conf.high\") ~ \"**Coefficient (95% CI)**\") %>% #Spaning header\n",
        "  modify_caption(\"**Table 1. Linear Regression Model Predicting Total Cholesterol**\") #Changes the caption\n",
        "\n",
        "# Print the table\n",
        "tbl_summary"
      ]
    },
    {
      "cell_type": "markdown",
      "id": "02d963e3-bf1c-43b7-ad88-c0d7ce64bebc",
      "metadata": {},
      "source": [
        "Here we see that the regression table is good, but it can be improved,\n",
        "for instance we can change the number of significant figures on the\n",
        "coefficient values currently it is three and we can not clearly see the\n",
        "result of our regression analysis. Let’s make it 5 for the Beta’s and\n",
        "coefficient values. Along with this we are also missing Standard Errors\n",
        "and t-values which can show a more complete analysis. We will add them\n",
        "using the code below."
      ]
    },
    {
      "cell_type": "code",
      "execution_count": null,
      "id": "20024fed-ecef-4f1e-9365-77b1a654caf7",
      "metadata": {
        "vscode": {
          "languageId": "r"
        }
      },
      "outputs": [],
      "source": [
        "# Prepare the data for our model\n",
        "nhanes_data <- NHANES %>%\n",
        "  select(TotChol, Age, BMI, Alcohol12PlusYr, PhysActive, SleepHrsNight) %>% #Select Variables \n",
        "  na.omit()  # Remove rows with missing values\n",
        "\n",
        "# Regression Model like above\n",
        "model <- lm(TotChol ~ Age + BMI + Alcohol12PlusYr + PhysActive + SleepHrsNight, data = nhanes_data)\n",
        "\n",
        "# GT table\n",
        "tbl_summary2 <- tbl_regression(model, \n",
        "               label = list( #Labels for our variables \n",
        "                 Age ~ \"Age (years)\",\n",
        "                 BMI ~ \"Body Mass Index\",\n",
        "                 Alcohol12PlusYr ~ \"Alcohol consumption (12+ drinks/year)\",\n",
        "                 PhysActive ~ \"Physically active\",\n",
        "                 SleepHrsNight ~ \"Sleep hours per night\"\n",
        "               )) %>%\n",
        "  modify_fmt_fun(estimate ~ function(x) style_sigfig(x, digits = 5)) %>%\n",
        "  modify_fmt_fun(c(conf.low, conf.high) ~ function(x) style_sigfig(x, digits = 5)) %>%\n",
        "  modify_column_unhide(columns = c(statistic, std.error)) %>% #Here we add standard Errors\n",
        "  modify_header(statistic ~ \"**t-value**\", std.error ~ \"**SE**\") %>% #Here we add t-value and SE\n",
        "  modify_fmt_fun(statistic ~ function(x) style_sigfig(x, digits = 5)) %>%\n",
        "  modify_fmt_fun(std.error ~ function(x) style_sigfig(x, digits = 5)) %>%\n",
        "  add_global_p() %>% #P-values\n",
        "  bold_p(t = 0.05) %>%\n",
        "  bold_labels() %>%\n",
        "  modify_header(label = \"**Variable**\") %>% #Like above modify labels for header\n",
        "  modify_spanning_header(c(\"estimate\", \"conf.low\", \"conf.high\") ~ \"**Coefficients and Findings**\") %>% #Like above modify labels for spanning header \n",
        "  modify_caption(\"**Table 1. Linear Regression Model Predicting Total Cholesterol**\") #Like above modify labels for caption\n",
        "\n",
        "# Print our new table\n",
        "tbl_summary2"
      ]
    },
    {
      "cell_type": "markdown",
      "id": "e55e350d-0545-4a3f-8331-e34f29792326",
      "metadata": {},
      "source": [
        "Just like above we can do all kinds of cosmetic changes to our new\n",
        "regression summary tables; for instance we can change colors or fonts.\n",
        "Once again feel free to change fonts or colors and see how the end\n",
        "result changes."
      ]
    },
    {
      "cell_type": "code",
      "execution_count": null,
      "id": "43afa629-f303-4007-acce-f9ad2a25d3f8",
      "metadata": {
        "vscode": {
          "languageId": "r"
        }
      },
      "outputs": [],
      "source": [
        "# Prepare the data\n",
        "nhanes_data <- NHANES %>%\n",
        "  select(TotChol, Age, BMI, Alcohol12PlusYr, PhysActive, SleepHrsNight) %>%\n",
        "  na.omit()  # Remove rows with missing values\n",
        "\n",
        "# Regression Model\n",
        "model <- lm(TotChol ~ Age + BMI + Alcohol12PlusYr + PhysActive + SleepHrsNight, data = nhanes_data)\n",
        "\n",
        "# Create and modify the gtsummary table\n",
        "tbl_summary3 <- tbl_regression(model,\n",
        "               label = list( #Labels for our varaibles \n",
        "                 Age ~ \"Age (years)\",\n",
        "                 BMI ~ \"Body Mass Index\",\n",
        "                 Alcohol12PlusYr ~ \"Alcohol consumption (12+ drinks/year)\",\n",
        "                 PhysActive ~ \"Physically active\",\n",
        "                 SleepHrsNight ~ \"Sleep hours per night\"\n",
        "               )) %>%\n",
        "  modify_fmt_fun(estimate ~ function(x) style_sigfig(x, digits = 5)) %>%\n",
        "  modify_fmt_fun(c(conf.low, conf.high) ~ function(x) style_sigfig(x, digits = 5)) %>%\n",
        "  modify_column_unhide(columns = c(statistic, std.error)) %>%\n",
        "  modify_header( #Headers\n",
        "    label ~ \"**Variable**\",\n",
        "    estimate ~ \"**Beta**\",\n",
        "    std.error ~ \"**SE**\",\n",
        "    statistic ~ \"**t-value**\",\n",
        "    p.value ~ \"**p-value**\"\n",
        "  ) %>%\n",
        "  modify_fmt_fun(statistic ~ function(x) style_sigfig(x, digits = 5)) %>%\n",
        "  modify_fmt_fun(std.error ~ function(x) style_sigfig(x, digits = 5)) %>%\n",
        "  add_global_p() %>%\n",
        "  bold_p(t = 0.05) %>%\n",
        "  bold_labels() %>%\n",
        "  modify_spanning_header(c(estimate, conf.low, conf.high) ~ \"**Coefficients and Findings**\") %>% #Spanning Header\n",
        "  modify_caption(\"**Table 1. Linear Regression Model Predicting Total Cholesterol**\") #Caption of Table\n",
        "\n",
        "# Convert to gt object and apply gt-specific cosmetic modifications\n",
        "final_table <- tbl_summary3 %>%\n",
        "  as_gt() %>% #as_gt allows us to make more customizations\n",
        "  gt::opt_stylize(style = 6, color = \"blue\") %>%\n",
        "  gt::tab_style(\n",
        "    style = list(cell_fill(color = \"lightgreen\"), cell_text(weight = \"bold\")),\n",
        "    locations = cells_body(columns = estimate, rows = estimate > 0)\n",
        "  ) %>%\n",
        "  gt::tab_options( #Tab options like fonts, font size, header font, and pixel sizes of cells\n",
        "    table.font.name = \"Arial\",\n",
        "    table.font.size = 12,\n",
        "    heading.title.font.size = 16,\n",
        "    column_labels.font.weight = \"bold\",\n",
        "    table.border.top.style = \"solid\",\n",
        "    table.border.bottom.style = \"solid\",\n",
        "    column_labels.border.top.style = \"solid\",\n",
        "    column_labels.border.bottom.style = \"solid\",\n",
        "    data_row.padding = px(10),\n",
        "    source_notes.font.size = 10,\n",
        "    table.width = pct(100)\n",
        "  ) %>%\n",
        "  gt::tab_style( #Colors \n",
        "    style = list(\n",
        "      cell_fill(color = \"darkblue\"),\n",
        "      cell_text(color = \"white\", weight = \"bold\")\n",
        "    ),\n",
        "    locations = cells_column_labels()\n",
        "  ) %>%\n",
        "  gt::tab_style(\n",
        "    style = cell_text(color = \"navy\"),\n",
        "    locations = cells_body(\n",
        "      columns = estimate\n",
        "    )\n",
        "  ) %>%\n",
        "  gt::tab_style( \n",
        "    style = cell_borders(\n",
        "      sides = \"right\",\n",
        "      color = \"grey\",\n",
        "      weight = px(1)\n",
        "    ),\n",
        "    locations = cells_body(\n",
        "      columns = everything()\n",
        "    )\n",
        "  ) %>%\n",
        "  gt::tab_style( #Fill colors\n",
        "    style = list(\n",
        "      cell_fill(color = \"darkblue\"),\n",
        "      cell_text(color = \"white\", weight = \"bold\")\n",
        "    ),\n",
        "    locations = cells_column_spanners()\n",
        "  )\n",
        "\n",
        "# Print the final table\n",
        "final_table"
      ]
    },
    {
      "cell_type": "markdown",
      "id": "284b969b-10ee-476b-a7ed-7383a36ae904",
      "metadata": {},
      "source": [
        "We can also save and export tables using the `gtsave command`. Below we\n",
        "can save our first table as the file `example_table1.png`"
      ]
    },
    {
      "cell_type": "code",
      "execution_count": null,
      "id": "0c20fc50-21ba-4b11-98a7-e25302ff65c1",
      "metadata": {
        "vscode": {
          "languageId": "r"
        }
      },
      "outputs": [],
      "source": [
        "tbl_save <- summary_table #Set variable so the table can be saved\n",
        "\n",
        "tbl_save %>%\n",
        "  as_gt() %>% #Convert as into GTSummary doc\n",
        "  gt::gtsave(filename = \"example_table1.png\") # Save as PNG image using gtsave"
      ]
    },
    {
      "cell_type": "markdown",
      "id": "7dc123ad-89cf-4e2c-9177-ef5952a5153d",
      "metadata": {},
      "source": [
        "likewise you can save as a Word table using the package “flextable” and\n",
        "the command `save_as_docx`, and as an Excel file using the package\n",
        "“openxlsx” and the command `as_hux_xlsx`.\n",
        "\n",
        "## Part 2: Example usage for ECON 326 or ECON 490\n",
        "\n",
        "Finally, let’s take a look at how we can use summary statistics tables\n",
        "for the applied sections of Econ 490 and Econ 326. We’ll be using the\n",
        "**census_data datasets**. Datasets created using the Cancensus API, an R\n",
        "interface that lets you tap directly into census data provided by\n",
        "Statistics Canada.\n",
        "\n",
        "More information about the cancensus API can be found at this\n",
        "[link](https://mountainmath.github.io/cancensus/) This is particularly\n",
        "useful if you’d like to pull specific datasets from Statistics Canada\n",
        "yourself for future projects."
      ]
    },
    {
      "cell_type": "code",
      "execution_count": null,
      "id": "ccfbb805-1e44-44a6-b3de-aa5aa9cb5f4c",
      "metadata": {
        "vscode": {
          "languageId": "r"
        }
      },
      "outputs": [],
      "source": [
        "census_data <- read_csv(\"../../../../../docs/3_Intermediate/datasets_intermediate/census_data.csv\") #reading in the data, check out the github repository to see how to generate this yourself!\n",
        "\n",
        "census_data <- census_data %>%\n",
        "mutate(across(-geometry, as.double)) %>%\n",
        "drop_na()%>%\n",
        "glimpse() #minor data cleaning "
      ]
    },
    {
      "cell_type": "markdown",
      "id": "e77ff777-d1a3-415a-9937-fdc2ba38be7d",
      "metadata": {},
      "source": [
        "Suppose, for our project, we were interested in determining if a greater\n",
        "proportion of people cycling to work is associated with a greater\n",
        "income, adjusted for age, education, and population density. Note the\n",
        "columns ending in `_commute`. These represent the number of\n",
        "walkers/bikers/drivers living within a given census area.\n",
        "`total_reported_commute` is the total number of individuals within each\n",
        "census district that reported their commute method to StatsCanada in the\n",
        "2016 census. The first thing we want to check is that the sum of all\n",
        "`_commute` columns adds up to `total_reported_commute`. This will allow\n",
        "us to check for missing values, as well as, more importantly, that the\n",
        "vectors we picked for our analysis from the cancesus API are indeed the\n",
        "correct ones:"
      ]
    },
    {
      "cell_type": "code",
      "execution_count": null,
      "id": "dd4ef02e-59d0-49ed-a854-99a84746da04",
      "metadata": {
        "vscode": {
          "languageId": "r"
        }
      },
      "outputs": [],
      "source": [
        "mismatch <- census_data %>%\n",
        "  mutate(commute_sum = car_commute_driver + car_commute_driven +\n",
        "           pt_commute + walk_commute + bike_commute + other_commute) %>%\n",
        "  filter(commute_sum != total_reported_commute) %>%\n",
        "  mutate(mismatch_amount = as.numeric(total_reported_commute - commute_sum))%>%\n",
        "  mutate(commute_sum = as.numeric(commute_sum))%>%\n",
        "  mutate(total_reported_commute = as.numeric(total_reported_commute)) %>%\n",
        "  select(commute_sum, total_reported_commute, mismatch_amount)\n",
        "\n",
        "glimpse(mismatch)"
      ]
    },
    {
      "cell_type": "markdown",
      "id": "e46ea43d-16c5-47c7-88fd-f93d77650d3b",
      "metadata": {},
      "source": [
        "We see that every row is slightly mismatched: people are either\n",
        "reporting more than one type of commute, or are reporting commute types\n",
        "that are not collected in the census (example, not commuting at all, or\n",
        "working from home). Let’s create a summary statistic table using\n",
        "`gtsummary` to figure out the scale of the differences."
      ]
    },
    {
      "cell_type": "code",
      "execution_count": null,
      "id": "d2a4d23f-498e-4b9f-8dc8-6c6a6ec69779",
      "metadata": {
        "vscode": {
          "languageId": "r"
        }
      },
      "outputs": [],
      "source": [
        "summary_table <- mismatch %>%\n",
        "  select(commute_sum, total_reported_commute, mismatch_amount) %>%\n",
        "  tbl_summary(\n",
        "    type = all_continuous() ~ \"continuous2\",  # we use continuous2 for multiple stats\n",
        "    statistic = list(all_continuous() ~ c(\"{mean}\", \"{min}\", \"{max}\")),\n",
        "    digits = all_continuous() ~ 2,\n",
        "    label = list(\n",
        "      commute_sum ~ \"Total Commute\",\n",
        "      total_reported_commute ~ \"Reported Commute\",\n",
        "      mismatch_amount ~ \"Mismatch Amount\"\n",
        "    )\n",
        "  )%>%\n",
        "    as_gt() %>%\n",
        "    gt::as_raw_html() %>% \n",
        "    display_html()\n",
        "\n",
        "summary_table"
      ]
    },
    {
      "cell_type": "markdown",
      "id": "7ace9009-ed57-4b5b-b18c-4f94d567112f",
      "metadata": {},
      "source": [
        "Great! We see that the sum of all commute types is about 61 people more\n",
        "than the total amount of people who reported their method of commuting\n",
        "for each census area. This suggests that individuals are reporting more\n",
        "than one type of commute. Lastly, we’ll put together a table of summary\n",
        "statistics for all our variables. Recall our research question: We are\n",
        "interested in determining if a increase in proportion of cyclists\n",
        "commuting to work per capita is correlated with increases in average\n",
        "income. Hence, we can exclude non-cycling modes of transport from our\n",
        "summary statistic table. We’ll begin by some minor data wranging:"
      ]
    },
    {
      "cell_type": "code",
      "execution_count": null,
      "id": "1e38eacf-a1c1-469d-8ff4-ca1220c41b89",
      "metadata": {
        "vscode": {
          "languageId": "r"
        }
      },
      "outputs": [],
      "source": [
        "census_data <- census_data %>%\n",
        "mutate(bike_prop = bike_commute / total_reported_commute) %>% #getting the proportion of cyclists\n",
        "as_tibble() %>%\n",
        "drop_na() %>%\n",
        "glimpse()"
      ]
    },
    {
      "cell_type": "markdown",
      "id": "7e47bf86-fccb-47c9-b00c-92011e09c697",
      "metadata": {},
      "source": [
        "Lastly, let’s put everything together into a summary statistics table:"
      ]
    },
    {
      "cell_type": "code",
      "execution_count": null,
      "id": "8c92bcfd-bc92-465d-8c80-3e58593c6bcb",
      "metadata": {
        "vscode": {
          "languageId": "r"
        }
      },
      "outputs": [],
      "source": [
        "summary_table_2 <- census_data|>\n",
        "  select(population_density, income, education, bike_prop) %>%\n",
        "  tbl_summary(\n",
        "    type = all_continuous() ~ \"continuous2\",  # continuous2 for multiple stats\n",
        "    statistic = list(all_continuous() ~ c(\"{mean}\", \"{min}\", \"{max}\")),\n",
        "    digits = all_continuous() ~ 2,\n",
        "    label = list(\n",
        "      population_density ~ \"Population Density\",\n",
        "      income ~ \"Income (in 100k CAD)\",\n",
        "      education ~ \"Education Level\",\n",
        "      bike_prop ~ \"Proportion of Bikers\"\n",
        "    )\n",
        "  )|>\n",
        "    as_gt() %>%\n",
        "    gt::as_raw_html() %>% \n",
        "    display_html()\n",
        "\n",
        "summary_table_2"
      ]
    },
    {
      "cell_type": "markdown",
      "id": "98eaee34-ff94-4a5f-ac9b-65e4694aa823",
      "metadata": {},
      "source": [
        "Looks great! Now suppose we wanted to isolate the summary statistics for\n",
        "census areas which have a bikeway passing through them and compare with\n",
        "census areas which do not have a bikeway (IE, include a dummy variable\n",
        "for presence of bikeways for each census area)."
      ]
    },
    {
      "cell_type": "code",
      "execution_count": null,
      "id": "7a0b5312-be6a-4044-8c71-7862457e865a",
      "metadata": {
        "vscode": {
          "languageId": "r"
        }
      },
      "outputs": [],
      "source": [
        "census_data_bikes <- read_csv('../../../../../docs/3_Intermediate/datasets_intermediate/census_data_bikes.csv')\n",
        "\n",
        "glimpse(census_data_bikes)"
      ]
    },
    {
      "cell_type": "markdown",
      "id": "f1cfaf22-0515-4a9f-9990-a904640092e2",
      "metadata": {},
      "source": [
        "We will once again repeat the same process for generating our summary\n",
        "statistics table, this time with two columns."
      ]
    },
    {
      "cell_type": "code",
      "execution_count": null,
      "id": "ae40bdfb-dae3-4e5c-ac4a-c305c1022547",
      "metadata": {
        "vscode": {
          "languageId": "r"
        }
      },
      "outputs": [],
      "source": [
        "summary_table_3 <- census_data_bikes  %>%\n",
        "  select(population_density, income, education, bike_prop, has_bike_lane) |> # Include the dummy variable\n",
        "  tbl_summary(\n",
        "    by = has_bike_lane,  # Stratify by the dummy variable\n",
        "     type = all_continuous() ~ \"continuous2\",  # continuous2 for multiple stats\n",
        "    statistic = list(all_continuous() ~ c(\"{mean}\", \"{min}\", \"{max}\")),\n",
        "    digits = all_continuous() ~ 2,\n",
        "    label = list(\n",
        "      population_density ~ \"Population Density\",\n",
        "      income ~ \"Income (in 100k CAD)\",\n",
        "      education ~ \"Education Level\",\n",
        "      bike_prop ~ \"Proportion of Bikers\"\n",
        "    )\n",
        "  ) |>\n",
        "  modify_header(!!!list(\n",
        "      label ~ \"**Variable**\",  \n",
        "      stat_1 ~ \"Bike Lanes: No\",  \n",
        "      stat_2 ~ \"Bike Lanes: Yes\"  \n",
        "    )\n",
        "  ) %>%\n",
        "  as_gt() %>%\n",
        "  gt::as_raw_html() %>% \n",
        "  display_html()\n",
        "\n",
        "summary_table_3"
      ]
    },
    {
      "cell_type": "markdown",
      "id": "6d9786ba-5ce3-4554-814b-e56474d58d65",
      "metadata": {},
      "source": [
        "We now have a completed summary table!\n",
        "\n",
        "### References\n",
        "\n",
        "-   von Bergmann J (2024). *VancouvR: Access the ‘City of Vancouver’\n",
        "    Open Data API*. R package version 0.1.8,\n",
        "    <https://CRAN.R-project.org/package=VancouvR>.\n",
        "-   von Bergmann, J., Dmitry Shkolnik, and Aaron Jacobs (2021).\n",
        "    cancensus: R package to access, retrieve, and work with Canadian\n",
        "    Census data and geography. v0.4.2.\n",
        "-   Additionally, for this notebook we will use the NHANES dataset more\n",
        "    can be found at\n",
        "    https://cran.r-project.org/web/packages/NHANES/NHANES.pdf It is a\n",
        "    dataset with information from the US National Health and Nutrition\n",
        "    Examination Study This dataset is within a package so it is easy to\n",
        "    install and is also complex enough to run regression later or to\n",
        "    show the uses of GTSummary.\n",
        "-   Statistics Canada. (2016). Census Profile, 2016 Census of\n",
        "    Population. Retrieved February 9, 2025, from\n",
        "    https://www12.statcan.gc.ca/census-recensement/2016/dp-pd/prof/index.cfm?Lang=E\n",
        "-   City of Vancouver. (n.d.). Bikeways \\[Data set\\]. Retrieved February\n",
        "    9, 2025, from\n",
        "    https://vancouver.opendatasoft.com/explore/dataset/bikeways/information/\n",
        "    -   Data licensed under the Vancouver Open Government Licence."
      ]
    }
  ],
  "metadata": {
    "kernelspec": {
      "display_name": "R",
      "language": "R",
      "name": "ir"
    },
    "language_info": {
      "codemirror_mode": "r",
      "file_extension": ".r",
      "mimetype": "text/x-r-source",
      "name": "R",
      "pygments_lexer": "r",
      "version": "4.4.1"
    }
  },
  "nbformat": 4,
  "nbformat_minor": 5
}
