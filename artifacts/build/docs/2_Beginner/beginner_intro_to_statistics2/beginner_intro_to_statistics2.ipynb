{
  "cells": [
    {
      "cell_type": "markdown",
      "metadata": {},
      "source": [
        "# 1.0.1 - Beginner - Introduction to Statistics using R\n",
        "\n",
        "COMET Team <br> William Co, Anneke Dresselhuis, Jonathan Graves, Emrul\n",
        "Hasan, Jonah Heyl, Mridul Manas, Shiming Wu.  \n",
        "2023-05-08\n",
        "\n",
        "## Outline\n",
        "\n",
        "### Prerequisites\n",
        "\n",
        "-   Introduction to Jupyter\n",
        "-   Introduction to R\n",
        "\n",
        "### References\n",
        "\n",
        "-   Esteban Ortiz-Ospina and Max Roseqoifhoihr (2018) - “Economic\n",
        "    inequality by gender”. Published online at OurWorldInData.org.\n",
        "    Retrieved from:\n",
        "    <https://ourworldindata.org/economic-inequality-by-gender> \\[Online\n",
        "    Resource\\]\n",
        "\n",
        "### Outcomes\n",
        "\n",
        "In this notebook, you will learn how to:\n",
        "\n",
        "-   Import data from the Survey of Financial Security (Statistics\n",
        "    Canada, 2019)\n",
        "-   Wrangle, reshape and visualize `SFS_data` as part of an Exploratory\n",
        "    Data Analysis (EDA)\n",
        "-   Run statistical tests, such as the $t$-test, to compare mean income\n",
        "    of male-led vs. female-led households\n",
        "-   Generate summary statistics tables and other data-representations of\n",
        "    the data using `group_by()`\n",
        "-   Optional: Run a formal two sample t-test to check for heterogeneity\n",
        "    in how gender affects income and compare the returns to education\n",
        "\n",
        "## Part 1: Import Data into R\n",
        "\n",
        "The data we use comes from the <u>2019 Survey of Financial Security</u>\n",
        "released by Statistics Canada [1].\n",
        "\n",
        "[1] Statistics Canada, Survey of Financial Security, 2019, 2021.\n",
        "Reproduced and distributed on an “as is” basis with the permission of\n",
        "Statistics Canada. Adapted from Statistics Canada, Survey of Financial\n",
        "Security, 2019, 2021. This does not constitute an endorsement by\n",
        "Statistics Canada of this product."
      ],
      "id": "059dbe33-3d36-4d8d-85a9-8348275cafc9"
    },
    {
      "cell_type": "code",
      "execution_count": null,
      "metadata": {},
      "outputs": [],
      "source": [
        "# run this cell to load necessary packages for this tutorial\n",
        "# install.packages('vtable')\n",
        "# install.packages('viridis')\n",
        "library(tidyverse)\n",
        "library(haven)\n",
        "library(dplyr)\n",
        "library(vtable)\n",
        "library(viridis)\n",
        "\n",
        "\n",
        "source(\"beginner_intro_to_statistics2_tests.r\")\n",
        "source(\"beginner_intro_to_statistics2_functions.r\")\n",
        "# warning messages are okay"
      ],
      "id": "49521917-1ad6-4446-99f0-9f904fffb93d"
    },
    {
      "cell_type": "markdown",
      "metadata": {},
      "source": [
        "The `tidyverse` is a collection of R packages developed by Hadley\n",
        "Wickham and his colleagues as a cohesive set of tools for data\n",
        "manipulation, visualization, and analysis. In a **tidy** data set, each\n",
        "variable forms a column and each observation forms a row. `tidyverse`\n",
        "packages such as the `tidyr` and `dplyr` are recommended for cleaning\n",
        "and transforming your data into tidy formats.\n",
        "\n",
        "Let’s import the `.dta` file from Statistics Canada using the `read_dta`\n",
        "function."
      ],
      "id": "26b995c6-9497-476f-8723-073043de393c"
    },
    {
      "cell_type": "code",
      "execution_count": null,
      "metadata": {},
      "outputs": [],
      "source": [
        "# if this is your first time using Jupyter Lab, the shortcut to run a cell is `Shift + Enter`\n",
        "SFS_data <- read_dta(\"../datasets_beginner/SFS_2019_Eng.dta\")"
      ],
      "id": "aead70a5-57c6-4250-9ea4-f79998def71e"
    },
    {
      "cell_type": "markdown",
      "metadata": {},
      "source": [
        "Here are some of the common file extensions and import functions in R:\n",
        "\n",
        "-   `.dta` and `read_dta()` for STATA files\n",
        "-   `.csv` and `read_csv()` for data stored as comma-separated values\n",
        "-   `.Rda` and `load()` for RStudio files and other files formatted for\n",
        "    R"
      ],
      "id": "169fea80-c7d7-4684-a26b-d2f2c099f019"
    },
    {
      "cell_type": "code",
      "execution_count": null,
      "metadata": {},
      "outputs": [],
      "source": [
        "head(SFS_data, 5)"
      ],
      "id": "ab8b8a83-ded6-47fe-b713-2432290ba85c"
    },
    {
      "cell_type": "markdown",
      "metadata": {},
      "source": [
        "> **Note**: `head(df, n)` displays first n rows of the data frame. Other\n",
        "> popular methods include `glance()` and `print()`."
      ],
      "id": "ecab4045-3f4a-4ad3-8517-14aa518db77b"
    },
    {
      "cell_type": "code",
      "execution_count": null,
      "metadata": {},
      "outputs": [],
      "source": [
        "# you can read the documentation for a given function by adding a question-mark before its name\n",
        "?head"
      ],
      "id": "5ea01e22-9a24-4d0d-8fab-77a166ab7085"
    },
    {
      "cell_type": "markdown",
      "metadata": {},
      "source": [
        "## Part 2: Exploratory Data Analysis in R\n",
        "\n",
        "There are a routine of steps you should generally follow as part of your\n",
        "*EDA* or *Exploratory Data Analysis.* Normally, you would analyze and\n",
        "visualize the variation, correlation, and distribution of your variables\n",
        "of interest. We do this to gain an intuitive understanding of the data\n",
        "before we undetake any formal hypothesis tests or model-fitting.\n",
        "\n",
        "Let’s think of our key variables of interest. We’re interested in\n",
        "estimating the effect of gender on differences in earnings.\n",
        "\n",
        "-   **Independent variable**: gender of the highest income earner\n",
        "\n",
        "-   **Variable of interest**: income after tax for each individual\n",
        "\n",
        "-   **Variable of interest**: income before tax for each individual\n",
        "\n",
        "-   **Control**: wealth for the household\n",
        "\n",
        "-   **Control**: level of education\n",
        "\n",
        "### Cleaning and Reshaping `SFS_data`\n",
        "\n",
        "For now, it’d be convenient to work with a new data frame containing\n",
        "only the key variables (columns) listed above. Moreover, the columns\n",
        "need to be renamed so they are easier for the reader to remember."
      ],
      "id": "71240c60-7989-4bf9-9737-64dd51281741"
    },
    {
      "cell_type": "code",
      "execution_count": null,
      "metadata": {},
      "outputs": [],
      "source": [
        "# rename columns\n",
        "SFS_data <- SFS_data %>%\n",
        "    rename(income_before_tax = pefmtinc) %>% \n",
        "    rename(income_after_tax = pefatinc) %>%\n",
        "    rename(wealth = pwnetwpg) %>%\n",
        "    rename(gender = pgdrmie) %>%\n",
        "    rename(education = peducmie) \n",
        "\n",
        "# drop rows where tax info is missing, ie. pefmtinc = 'NA'.\n",
        "SFS_data <- filter(SFS_data, !is.na(SFS_data$income_before_tax))\n",
        "\n",
        "keep <- c(\"pefamid\", \"gender\", \"education\", \"wealth\", \"income_before_tax\", \"income_after_tax\")\n",
        "\n",
        "# new df with chosen columns\n",
        "df_gender_on_wealth <- SFS_data[keep]\n",
        "\n",
        "# preview\n",
        "head(df_gender_on_wealth, 5)"
      ],
      "id": "4612529d-c997-4406-829c-73484d96128e"
    },
    {
      "cell_type": "markdown",
      "metadata": {},
      "source": [
        "> **Note**: This is another **tidy representation** of the original data\n",
        "> but with less variables. The original data set is still stored as\n",
        "> `SFS_data`.\n",
        "\n",
        "### Ensuring correct data-types\n",
        "\n",
        "Notice that education is stored as `chr` but we want to keep it as a\n",
        "`factor`. The variable `education` came *encoded* as it is from a set of\n",
        "values {1, 2, 3, 4, 9}, each of which represent a level of education\n",
        "obtained."
      ],
      "id": "eca5e825-1c31-4429-8fc8-fe285568b52a"
    },
    {
      "cell_type": "code",
      "execution_count": null,
      "metadata": {},
      "outputs": [],
      "source": [
        "df_gender_on_wealth <- df_gender_on_wealth %>%\n",
        "         mutate(education = as.factor(education), \n",
        "         gender = as.factor(gender),\n",
        "         income_before_tax = as.numeric(income_before_tax),\n",
        "         income_after_tax = as.numeric(income_after_tax))\n",
        "\n",
        "head(df_gender_on_wealth, 2)"
      ],
      "id": "70a92c47-848f-4449-9b22-7856161d776c"
    },
    {
      "cell_type": "markdown",
      "metadata": {},
      "source": [
        "All good! Let’s use descriptive statistics to understand how each of the\n",
        "numbers in the set {1, 2, 3, 9} represent an individual’s educational\n",
        "background.\n",
        "\n",
        "### Computing Descriptive Statistics using `vtable` in R\n",
        "\n",
        "Let’s calculate the summary statistics of our dataset.\n",
        "\n",
        "> **Note**: the `sumtable` method from the `vtable` package can be used\n",
        "> to display the table in different formats including LaTeX, HTML, and\n",
        "> data.frame."
      ],
      "id": "46901d58-44a2-4c57-915c-811f2f827f64"
    },
    {
      "cell_type": "code",
      "execution_count": null,
      "metadata": {},
      "outputs": [],
      "source": [
        "# out = \"kable\" tells it to return a knitr::kable()\n",
        "# replace \"kable\" with \"latex\" and see what happens!\n",
        "sumtbl <- sumtable(df_gender_on_wealth, out = \"kable\")\n",
        "sumtbl"
      ],
      "id": "c7dbcf90-0118-4337-af27-0ff2e96fd7a4"
    },
    {
      "cell_type": "markdown",
      "metadata": {},
      "source": [
        "This is like having a birds-eye view at our data. As a researcher, we\n",
        "should take note of outliers and other irregularities and ask how those\n",
        "issues might affect the *validity* of our models and tests.\n",
        "\n",
        "> **Note**: see Appendix for a common method to remove outliers using\n",
        "> Z-score thresholds.\n",
        "\n",
        "### Grouping observations\n",
        "\n",
        "Wouldn’t it be neat to see how mean or median incomes for male and\n",
        "female-led households look like based on the level of education obtained\n",
        "by the main income-earner?"
      ],
      "id": "adf4b169-2cfd-4f8c-99f1-2574ccbad741"
    },
    {
      "cell_type": "code",
      "execution_count": null,
      "metadata": {},
      "outputs": [],
      "source": [
        "by_gender_education <- df_gender_on_wealth %>%\n",
        "  group_by(gender, education) %>%\n",
        "  summarise(mean_income = mean(income_before_tax, na.rm = TRUE),\n",
        "            median_income = median(income_before_tax, na.rm = TRUE),\n",
        "            mean_wealth = mean(wealth, na.rm = TRUE),\n",
        "            median_wealth = median(wealth, na.rm = TRUE))\n",
        "\n",
        "by_gender_education"
      ],
      "id": "f9c30a31-b3c4-401a-8c1a-29ad902750cf"
    },
    {
      "cell_type": "markdown",
      "metadata": {},
      "source": [
        "> **Note**: this is again a **tidy representation** of `SFS_data`.\n",
        "> *Grouping* observations by gender and education makes it a bit easier\n",
        "> to make comparisons across groups.\n",
        "\n",
        "We can take this chain-of-thought further and generate a `heatmap` using\n",
        "the `ggplot` package."
      ],
      "id": "96ebea60-3138-4753-b24c-5970e23917de"
    },
    {
      "cell_type": "code",
      "execution_count": null,
      "metadata": {},
      "outputs": [],
      "source": [
        "library(ggplot2)\n",
        "library(viridis)\n",
        "\n",
        "# Create the heatmap with an accessible color palette\n",
        "heatmap_plot <- ggplot(by_gender_education, aes(x = education, y = gender, fill = mean_income)) +\n",
        "  geom_tile() +\n",
        "  scale_fill_viridis_c(option = \"plasma\", na.value = \"grey\", name = \"Mean Income\") +\n",
        "  labs(x = \"Education\", y = \"Gender\")\n",
        "\n",
        "# Display the heatmap\n",
        "heatmap_plot"
      ],
      "id": "9ec11146-576c-469f-b9fa-608aef0af4f9"
    },
    {
      "cell_type": "markdown",
      "metadata": {},
      "source": [
        "> **Note**: we use `scale_fill_viridis_c()` from the `viridis` package\n",
        "> to ensure that the color palette follows the standards of DS.\n",
        "\n",
        "Now, what does this tell you about how male-led households (gender = 1)\n",
        "compare with female-led households in terms of the mean household\n",
        "income? Does this tell if education widens the income gap between\n",
        "male-led and female-led households with the same level of education?\n",
        "\n",
        "We can infer from the visualization that the female-led households with\n",
        "the same level of education have different mean incomes as compared to\n",
        "male-led households. This smells of *heterogeneity* and we can explore\n",
        "regression and other empirical methods to formally test this claim.\n",
        "\n",
        "However, we shouldn’t *yet* draw any conclusive statements about the\n",
        "relationships between gender (of the main income earner), income,\n",
        "education and other variables such as wealth.\n",
        "\n",
        "As researchers, we should ask if the differences in the mean or median\n",
        "incomes for the two groups are significant at all. We can then go a bit\n",
        "further and test if education indeed widens the gap or not.\n",
        "\n",
        "> **Think Deeper**: how you would specify the null and alternative\n",
        "> hypotheses?\n",
        "\n",
        "### Test your knowledge\n",
        "\n",
        "Match the function with the appropriate description. Enter your answer\n",
        "as a long string with the letter choices in order.\n",
        "\n",
        "1.  Order rows using column values\n",
        "2.  Keep distinct/unique rows\n",
        "3.  Keep rows that match a condition\n",
        "4.  Get a glimpse of your data\n",
        "5.  Create, modify, and delete columns\n",
        "6.  Keep or drop columns using their names and types\n",
        "7.  Count the observations in each group\n",
        "8.  Group by one or more variables\n",
        "9.  A general vectorised if-else\n",
        "\n",
        "<!-- -->\n",
        "\n",
        "1.  `mutate()`\n",
        "2.  `glimpse()`\n",
        "3.  `filter()`\n",
        "4.  `case_when()`\n",
        "5.  `select()`\n",
        "6.  `group_by()`\n",
        "7.  `distinct()`\n",
        "8.  `arrange()`\n",
        "9.  `count()`\n",
        "\n",
        "> **Note**: it’s fine if you don’t know all those functions yet! Match\n",
        "> the functions you know and run code to figure out the rest."
      ],
      "id": "027e5c72-3734-4a10-b263-49db8c6e576e"
    },
    {
      "cell_type": "code",
      "execution_count": null,
      "metadata": {},
      "outputs": [],
      "source": [
        "# Enter your answer as a long string ex: if you think the matches are 1-B, 2-C, 3-A, enter answer as \"BCA\"\n",
        "answer_1 <- \"\"\n",
        "\n",
        "test_1()"
      ],
      "id": "9085db6f-ef62-4213-909b-9e7aac28345c"
    },
    {
      "cell_type": "markdown",
      "metadata": {},
      "source": [
        "## Part 3: Running $t$-tests in R\n",
        "\n",
        "Let’s run a t-test for a comparison of means."
      ],
      "id": "6df91277-e533-4c67-9742-ff30808c058c"
    },
    {
      "cell_type": "code",
      "execution_count": null,
      "metadata": {},
      "outputs": [],
      "source": [
        "# performs a t-test for means comparison\n",
        "t_test_result <- t.test(income_before_tax ~ gender, data = df_gender_on_wealth)\n",
        "print(t_test_result)"
      ],
      "id": "ffbdda89-01c9-490a-a56b-2abf7f338320"
    },
    {
      "cell_type": "markdown",
      "metadata": {},
      "source": [
        "The 95% confidence interval does not include 0 and we can confirm that\n",
        "the male-led households on average earn more as income before tax than\n",
        "the female-led households, and the gap is statistically significant.\n",
        "\n",
        "Let’s now run a test to compare the medians of both groups."
      ],
      "id": "53e15e25-fd8b-4076-9a13-e506a2313c71"
    },
    {
      "cell_type": "code",
      "execution_count": null,
      "metadata": {},
      "outputs": [],
      "source": [
        "# perform a Mann-Whitney U test for median comparison\n",
        "mannwhitneyu_test_result <- wilcox.test(income_before_tax ~ gender, data = df_gender_on_wealth)\n",
        "print(mannwhitneyu_test_result)"
      ],
      "id": "161429ef-59a3-44b2-8511-4a717d061089"
    },
    {
      "cell_type": "markdown",
      "metadata": {},
      "source": [
        "This p-value is again highly significant, and based on our data, the\n",
        "median incomes for the two groups are not equal.\n",
        "\n",
        "Our variable of interest is income, and so far, we have provided\n",
        "statistical evidence for the case that the gender of the main\n",
        "income-earner is correlated with the household’s income.\n",
        "\n",
        "We are however more interested in the causal mechanisms through which\n",
        "education and wealth *determine* how gender affects household income.\n",
        "\n",
        "> **Think Deeper**: According to Ortiz-Ospina and Roser (2018), women\n",
        "> are overrepresented in low-paying jobs and are underrepresented in\n",
        "> high-paying ones. What role does the attainment of education play in\n",
        "> sorting genders into high vs. low-paying jobs? Can we test this\n",
        "> formally with the data?\n",
        "\n",
        "### Studying how wealth and education might impact the income-gap\n",
        "\n",
        "There are multiple reasons to study the links between **wealth** and the\n",
        "**income** gap. For instance, we might want to answer whether having\n",
        "more wealth affects an individual’s income.\n",
        "\n",
        "We can use some of the methods we have learned in R to analyze and\n",
        "visualize relationships between income, gender, education and wealth.\n",
        "\n",
        "Let’s see if having a university degree widens the gender income gap."
      ],
      "id": "237e84ab-ffa0-4fc2-b61b-594a266783af"
    },
    {
      "cell_type": "code",
      "execution_count": null,
      "metadata": {},
      "outputs": [],
      "source": [
        "SFS_data <- SFS_data %>% \n",
        "            mutate(university = case_when(     # create a new variable with mutate\n",
        "                            education == \"4\" ~ \"Yes\",    # use case_when and ~ operator to applt `if else` conditions \n",
        "                            TRUE ~ \"No\")) %>% \n",
        "            mutate(university = as_factor(university)) #remember, it's a factor!\n",
        "\n",
        "head(SFS_data$university, 10)"
      ],
      "id": "9f560568-5ac4-48ab-ba8b-f72ee61ddba5"
    },
    {
      "cell_type": "markdown",
      "metadata": {},
      "source": [
        "Let’s visualize how the mean wealth compares for male-led vs. female-led\n",
        "households, conditional on whether the main-income earner went to\n",
        "university."
      ],
      "id": "e8b638db-0ce2-4ad0-b0bc-86f1cc209363"
    },
    {
      "cell_type": "code",
      "execution_count": null,
      "metadata": {},
      "outputs": [],
      "source": [
        "results <- SFS_data %>%\n",
        "           group_by(university,gender) %>%\n",
        "           summarize(m_wealth = mean(wealth), sd_wealth = sd(wealth))\n",
        "\n",
        "results \n",
        "\n",
        "f <- ggplot(data = SFS_data, aes(x = gender, y = wealth)) + xlab(\"Gender\") + ylab(\"Wealth\")    # label and define our x and y axis\n",
        "f <- f + geom_bar(stat = \"summary\", fun = \"mean\", fill = \"lightblue\")    # produce a summary statistic, the mean\n",
        "f <- f + facet_grid(. ~ university)    # add a grid by education\n",
        "\n",
        "f"
      ],
      "id": "dcd125db-0385-4b39-8350-0d454d66c65d"
    },
    {
      "cell_type": "markdown",
      "metadata": {},
      "source": [
        "It smells like the wealth gap between the two types of households widens\n",
        "for groups that have obtained an university degree.\n",
        "\n",
        "Similarly, let’s look at the difference in wealth gap in percentage\n",
        "terms. We use `results` generated in previous cell (the $4 \\times 4$\n",
        "table) as the inputs this time. We need to load the package `scales` to\n",
        "use the function `percent`."
      ],
      "id": "36c52ad7-b803-4741-ab80-6e9452865e39"
    },
    {
      "cell_type": "code",
      "execution_count": null,
      "metadata": {},
      "outputs": [],
      "source": [
        "library(scales)\n",
        "\n",
        "percentage_table <- SFS_data %>%\n",
        "                    group_by(university) %>%\n",
        "                    group_modify(~ data.frame(wealth_gap = mean(filter(., gender == 2)$wealth)/mean(filter(., gender == 1)$wealth) - 1)) %>%\n",
        "                    mutate(wealth_gap = scales::percent(wealth_gap))\n",
        "\n",
        "percentage_table"
      ],
      "id": "fbc8b5cc-d52b-4aa0-9889-40c49f4041c0"
    },
    {
      "cell_type": "markdown",
      "metadata": {},
      "source": [
        "Notice the signs are both negative. Hence, on average, female-led\n",
        "households have less wealth regardless of whether they have an\n",
        "university degree or not.\n",
        "\n",
        "More importantly, based on our data, female-led households with\n",
        "university degrees on average have 28% less wealth than male-led\n",
        "households with university degrees. Comparing the two groups given they\n",
        "don’t have university degrees, the gap is quite smaller: 18%.\n",
        "\n",
        "So, we have shown that the gap widens by about 10% when conditioned for\n",
        "university degree.\n",
        "\n",
        "Let’s test this further by creating sub-samples of “university degree”\n",
        "and “no university degree” respectively and then running formal two\n",
        "sample t-test."
      ],
      "id": "ae52a963-e6df-44c3-af15-365b3908dbf7"
    },
    {
      "cell_type": "code",
      "execution_count": null,
      "metadata": {},
      "outputs": [],
      "source": [
        "university_data <- filter(SFS_data, university == \"Yes\") # university only data \n",
        "nuniversity_data <- filter(SFS_data, university == \"No\") # non university data\n",
        "\n",
        "t2 = t.test(\n",
        "       x = filter(university_data, gender == 1)$wealth,\n",
        "       y = filter(university_data, gender == 2)$wealth,\n",
        "       alternative = \"two.sided\",\n",
        "       mu = 0,\n",
        "       conf.level = 0.95)\n",
        "\n",
        "t2  # test for the wealth gap in university data\n",
        "\n",
        "round(t2$estimate[1] - t2$estimate[2],2) # rounds our estimate\n",
        "\n",
        "\n",
        "t3 = t.test(\n",
        "       x = filter(nuniversity_data, gender == 1)$wealth,\n",
        "       y = filter(nuniversity_data, gender == 2)$wealth,\n",
        "       alternative = \"two.sided\",\n",
        "       mu = 0,\n",
        "       conf.level = 0.95)\n",
        "\n",
        "t3 # test for the wealth gap in non-university data\n",
        "\n",
        "round(t3$estimate[1] - t3$estimate[2],2) # rounds our estimate"
      ],
      "id": "f393f048-8609-4220-b55a-7da1087bd52d"
    },
    {
      "cell_type": "markdown",
      "metadata": {},
      "source": [
        "In both tests, the p-values are very small, indicating strong\n",
        "statistical evidence to reject the null hypothesis. The confidence\n",
        "intervals also provide a range of plausible values for the difference in\n",
        "means, further supporting the alternative hypothesis.\n",
        "\n",
        "Based on these results, there appears to be a significant difference in\n",
        "wealth between the two gender groups regardless of university-status,\n",
        "with males consistently having higher mean wealth compared to females.\n",
        "\n",
        "### Optional: Returns to HS diploma\n",
        "\n",
        "Next, examine whether returns to education differ between genders. For\n",
        "our purposes, we will define returns to education as *the difference in\n",
        "average income before tax between two subsequent education levels*.\n",
        "\n",
        "The following t-test finds the returns to education of a high school\n",
        "diploma for males (`retHS`) and for females(`retHSF`)."
      ],
      "id": "a1453ce0-3757-486a-b9fb-dfb6b1d852f2"
    },
    {
      "cell_type": "code",
      "execution_count": null,
      "metadata": {},
      "outputs": [],
      "source": [
        "# Returns to education: High school diploma\n",
        "\n",
        "less_than_high_school_data <- filter(SFS_data, education == 1) # Less than high school\n",
        "high_school_data <- filter(SFS_data, education == 2) # High school\n",
        "post_secondary_data <- filter(SFS_data, education == 3) # Non-university post-secondary\n",
        "university_data <- filter(SFS_data, education == 4) # University\n",
        "\n",
        "\n",
        "retHS = t.test(\n",
        "       x = filter(high_school_data, gender == 1)$income_before_tax,\n",
        "       y = filter(less_than_high_school_data, gender == 1)$income_before_tax,\n",
        "       alternative = \"two.sided\",\n",
        "       mu = 0,\n",
        "       conf.level = 0.95)\n",
        "retHS_ans=round(retHS$estimate[1] - retHS$estimate[2],2)\n",
        "\n",
        "retHSF = t.test(\n",
        "       x = filter(high_school_data, gender == 2)$income_before_tax,\n",
        "       y = filter(less_than_high_school_data, gender == 2)$income_before_tax,\n",
        "       alternative = \"two.sided\",\n",
        "       mu = 0,\n",
        "       conf.level = 0.95)\n",
        "\n",
        "retHS\n",
        "retHSF\n",
        "retHS_ans=round(retHS$estimate[1] - retHS$estimate[2],2)\n",
        "retHSF_ans=round(retHSF$estimate[1] - retHSF$estimate[2],2)"
      ],
      "id": "624490c7-fbe1-4e59-92bc-942b20e27f66"
    },
    {
      "cell_type": "markdown",
      "metadata": {},
      "source": [
        "We have found statistically significant evidence for the case that\n",
        "returns to graduating with a high school diploma are indeed positive for\n",
        "individuals living in both male-led and female-led households.\n",
        "\n",
        "### Test your knowledge\n",
        "\n",
        "As an exercise, create a copy of the cell above and try to calculate the\n",
        "returns of a university degree for males and females."
      ],
      "id": "a257ed18-24d3-4c7c-97e5-5b4ad5e836cd"
    },
    {
      "cell_type": "code",
      "execution_count": null,
      "metadata": {},
      "outputs": [],
      "source": [
        "# your code here"
      ],
      "id": "a022e45c-893c-44a2-aef5-107f124c41f4"
    },
    {
      "cell_type": "markdown",
      "metadata": {},
      "source": [
        "Now let’s work with a simulated dataset of mutual fund performance.\n",
        "Interpret the data below as the yearly returns for a sample of 300\n",
        "mutual funds from 2010 to 2015."
      ],
      "id": "96f14249-fb02-4750-b5ff-8b96ffb13a4f"
    },
    {
      "cell_type": "code",
      "execution_count": null,
      "metadata": {},
      "outputs": [],
      "source": [
        "fund_performance"
      ],
      "id": "8c7505b6-5cf9-46be-a640-bfebc428d784"
    },
    {
      "cell_type": "markdown",
      "metadata": {},
      "source": [
        "Create a subset of the data with the returns for 2015. Rename the column\n",
        "to `investment_returns`. Store your answer in `fp_15`."
      ],
      "id": "83bf2e5b-5344-45ae-9094-1cd2d8853294"
    },
    {
      "cell_type": "code",
      "execution_count": null,
      "metadata": {},
      "outputs": [],
      "source": [
        "# fell free to use this cell if you need "
      ],
      "id": "94ef01f9-897d-4f62-bf11-26aa1f090c76"
    },
    {
      "cell_type": "code",
      "execution_count": null,
      "metadata": {},
      "outputs": [],
      "source": [
        "fp_15 <- fund_performance %>%\n",
        "          ...(fund, ...)\n",
        "\n",
        "answer_2 <- fp_15\n",
        "\n",
        "test_2()"
      ],
      "id": "a4980924-023c-434f-9a12-014cb7a696bc"
    },
    {
      "cell_type": "markdown",
      "metadata": {},
      "source": [
        "Calculate the mean and median return of funds in 2015. Store your\n",
        "answers in `mean_ret` and `median_ret`, respectively."
      ],
      "id": "cb861bd3-c470-4ea9-9260-10d10280b875"
    },
    {
      "cell_type": "code",
      "execution_count": null,
      "metadata": {},
      "outputs": [],
      "source": [
        "# fell free to use this cell if you need "
      ],
      "id": "290ca83e-59e3-4cc0-a5c2-98cf097fa971"
    },
    {
      "cell_type": "code",
      "execution_count": null,
      "metadata": {},
      "outputs": [],
      "source": [
        "mean_ret <- ...(...)\n",
        "\n",
        "answer_3 <- mean_ret\n",
        "\n",
        "test_3()"
      ],
      "id": "b0c6e10d-816d-4188-9015-cf83b1cb5950"
    },
    {
      "cell_type": "code",
      "execution_count": null,
      "metadata": {},
      "outputs": [],
      "source": [
        "median_ret <- ...(...)\n",
        "\n",
        "answer_4 <- median_ret\n",
        "\n",
        "test_4()"
      ],
      "id": "19e8777d-b271-4808-bc52-8af922a5c95a"
    },
    {
      "cell_type": "markdown",
      "metadata": {},
      "source": [
        "Let’s suppose the market return (average return of investments\n",
        "available) was 5%. Run a 95% confidence level t-test on the returns of\n",
        "`fp_15` to find whether the funds outperformed the market or not.\n",
        "Complete the code below."
      ],
      "id": "1b9e5cca-cccb-4132-b638-2cf23f0552b0"
    },
    {
      "cell_type": "code",
      "execution_count": null,
      "metadata": {},
      "outputs": [],
      "source": [
        "t_stat = ...( \n",
        "       ...,\n",
        "       mu = ...,\n",
        "       alternative = \"two.sided\",\n",
        "       conf.level = ...)\n",
        "\n",
        "answer_5 <- t_stat$conf.int\n",
        "\n",
        "test_5()"
      ],
      "id": "e16674a6-1316-4ca3-bd58-0f5989e1a30d"
    },
    {
      "cell_type": "markdown",
      "metadata": {},
      "source": [
        "Do we have statistical evidence to believe that the funds outperformed\n",
        "the market?\n",
        "\n",
        "1.  Yes\n",
        "2.  No"
      ],
      "id": "0cf043a6-653a-473a-a277-259a94ba5b75"
    },
    {
      "cell_type": "code",
      "execution_count": null,
      "metadata": {},
      "outputs": [],
      "source": [
        "# enter your answer as either \"A\" or \"B\"\n",
        "answer_6 <- \"\"\n",
        "\n",
        "test_6()"
      ],
      "id": "eb779b02-bc3f-4a37-a1e0-a49b5b04dbd6"
    },
    {
      "cell_type": "markdown",
      "metadata": {},
      "source": [
        "But wait! Do you notice anything interesting about this dataset?\n",
        "Investigate the dataset with special attention to the NAs. Do you notice\n",
        "a pattern?"
      ],
      "id": "9d39dddb-5338-4a16-9e4a-d102f5b80cda"
    },
    {
      "cell_type": "code",
      "execution_count": null,
      "metadata": {},
      "outputs": [],
      "source": [
        "fund_performance"
      ],
      "id": "1631ad2f-1f69-4502-928f-c6b311997411"
    },
    {
      "cell_type": "markdown",
      "metadata": {},
      "source": [
        "There are no funds with negative performance in the dataset! It’s likely\n",
        "that the NAs have replaced the observations with negative returns. How\n",
        "that might affect our analysis of fund performance? Think about the\n",
        "biases that could have introduced in our mean and statistical test\n",
        "calculations.\n",
        "\n",
        "### Appendix\n",
        "\n",
        "Removing outliers is a common practice in data analysis. The code below\n",
        "removes outliers based on a custom Z-score threshold.\n",
        "\n",
        "> **Note**: here we use the 95th percentile but you should first\n",
        "> visualize your data with box plots and then find a convenient\n",
        "> threshold to remove outliers in the variables of interest."
      ],
      "id": "dc84daed-59a4-495f-b49e-43f3b5e91963"
    },
    {
      "cell_type": "code",
      "execution_count": null,
      "metadata": {},
      "outputs": [],
      "source": [
        "# function to remove outliers based on z-score\n",
        "remove_outliers_zscore <- function(data, variable, threshold) {\n",
        "  z_scores <- scale(data[[variable]])\n",
        "  data_without_outliers <- data[abs(z_scores) <= threshold, ]\n",
        "  return(data_without_outliers)\n",
        "}\n",
        "\n",
        "# set the threshold for z-score outlier removal\n",
        "zscore_threshold <- 1.645    # Adjust as needed\n",
        "\n",
        "# remove outliers based on z-score for the desired variable\n",
        "df_filtered <- remove_outliers_zscore(df_gender_on_wealth, \"wealth\", zscore_threshold)\n",
        "\n",
        "df_filtered"
      ],
      "id": "0cb6e168-3d39-4fa7-bb65-26961b81c7f8"
    }
  ],
  "nbformat": 4,
  "nbformat_minor": 5,
  "metadata": {
    "kernelspec": {
      "name": "ir",
      "display_name": "R",
      "language": "r"
    }
  }
}