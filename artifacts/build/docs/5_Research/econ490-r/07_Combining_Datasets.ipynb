{
  "cells": [
    {
      "cell_type": "markdown",
      "metadata": {},
      "source": [
        "# 07 - Combining Data Sets\n",
        "\n",
        "Marina Adshade, Paul Corcuera, Giulia Lo Forte, Jane Platt  \n",
        "2024-05-29\n",
        "\n",
        "## Prerequisites\n",
        "\n",
        "1.  Import data sets in .csv and .dta format.\n",
        "2.  Create new variables for a variety of purposes.\n",
        "3.  Use `group_by` and other functions to conduct group level analysis.\n",
        "\n",
        "## Learning Outcomes\n",
        "\n",
        "1.  Append new observations and variables to an already existing data\n",
        "    set using `rbind`, `bind_rows`, `cbind` and `bind_cols`.\n",
        "2.  Merge variables and their values from one data set into another\n",
        "    using `left_join`, `right_join`, `inner_join`, and `full_join`.\n",
        "\n",
        "## 7.1 Working with Multiple Data Sets\n",
        "\n",
        "We’ll continue working with the “fake_data” data set that was introduced\n",
        "in the previous lecture. Recall that this data set is simulating\n",
        "information for workers in the years 1982-2012 in a fake country where a\n",
        "training program was introduced in 2003 to boost their earnings. Let’s\n",
        "load in this data set now."
      ],
      "id": "fa6714b6-c3dc-421b-b5b9-a8e0b5ca477c"
    },
    {
      "cell_type": "code",
      "execution_count": null,
      "metadata": {},
      "outputs": [],
      "source": [
        "#As always, clear the memory!\n",
        "rm(list=ls())\n",
        "\n",
        "library(haven)\n",
        "library(tidyverse)\n",
        "library(IRdisplay)\n",
        "\n",
        "fake_data <- read_dta(\"../econ490-r/fake_data.dta\")  # change me!"
      ],
      "id": "cd76549e-cb50-4069-bc3d-92e7fa633e57"
    },
    {
      "cell_type": "markdown",
      "metadata": {},
      "source": [
        "For the purposes of this module, we will want to work with multiple\n",
        "datasets. Let’s create the “region_year_data” data set below. This data\n",
        "set is much smaller and gives the average log earnings and total number\n",
        "of people employed among each region in a series of years."
      ],
      "id": "cf594190-eeca-4f42-8c06-f62f0fbb1326"
    },
    {
      "cell_type": "code",
      "execution_count": null,
      "metadata": {},
      "outputs": [],
      "source": [
        "fake_data <- fake_data %>% mutate(log_earnings = log(earnings))\n",
        "\n",
        "region_year_data <-  fake_data %>%    \n",
        "    group_by(year, region) %>%\n",
        "    summarize(average_logearn = mean(log_earnings), n=n())"
      ],
      "id": "0db1d973-db2d-4644-92c2-80717d055daa"
    },
    {
      "cell_type": "markdown",
      "metadata": {},
      "source": [
        "Often we will need to draw on data from multiple data sets such as\n",
        "these. Most of the time, these data sets will be available for download\n",
        "in different files (each for a given year, month, country, etc.) and may\n",
        "store different variables or observations. Thus, if we want to compile\n",
        "them, we need to combine them into the same data frame.\n",
        "\n",
        "There are two key ways of combining data, each reflecting different\n",
        "goals:\n",
        "\n",
        "1.  When we want to paste data directly beside or under our existing\n",
        "    data set, we call this **appending** data.\n",
        "    -   If we think of a data set as a spreadsheet, this is like taking\n",
        "        one data set and “pasting” it into the bottom of another to add\n",
        "        more observations, or pasting one data set directly beside\n",
        "        another to add more variables. We do this when two data sets\n",
        "        have identical columns/variables (so that we can stack them\n",
        "        vertically) or an equal number of observations (so that we can\n",
        "        stick them beside each other horizontally).\n",
        "2.  When we want to add new variables and their data from another data\n",
        "    set into our existing data set, we call this **merging** data.\n",
        "    -   This is like looking up values in a table and then adding a\n",
        "        column; in Excel, this is like using `VLOOKUP`. Importantly, we\n",
        "        can only merge data sets that share a common column or key to\n",
        "        identify observations with particular values. For example, if we\n",
        "        want to merge in data from a different year but for the same\n",
        "        people (observations) as those we are currently working with,\n",
        "        data sets will usually have an identifying number for the person\n",
        "        that functions as our key when merging. Unlike with appending,\n",
        "        this does not require column names or numbers of observations to\n",
        "        be identical.\n",
        "\n",
        "## 7.2 Appending Data Sets\n",
        "\n",
        "### 7.2.1 Append Vertically with `rbind` and `bind_rows`\n",
        "\n",
        "Let’s say that our “fake_data” data set is inexplicably missing 3\n",
        "observations for worker 1; specifically, the earnings for this worker\n",
        "for the years 2003, 2005, and 2007 are missing. However, let’s say these\n",
        "observations exist in another data set, “missing_data”, which we can\n",
        "append to our “fake_data” data set since it contains all of the same\n",
        "variables. We can inspect this small data frame below."
      ],
      "id": "d4d3ce87-f478-424a-b432-9657afd1c52e"
    },
    {
      "cell_type": "code",
      "execution_count": null,
      "metadata": {},
      "outputs": [],
      "source": [
        "missing_data <- data.frame(workerid = c(1, 1, 1), year = c(2003, 2005, 2007), sex = c(\"M\", \"M\", \"M\"), \n",
        "                           age = c(59, 61, 63), start_year = c(1997, 1997, 1997),\n",
        "                           region = c(1, 1, 1), treated = c(0, 0, 0), earnings = c(30000, 35000, 36000))\n",
        "\n",
        "missing_data"
      ],
      "id": "c60c9b03-6ca2-415a-9cf6-20adbf4fcdbe"
    },
    {
      "cell_type": "markdown",
      "metadata": {},
      "source": [
        "To append these three rows to the bottom of our data set, we can simply\n",
        "use the `rbind` function (row bind). This function allows us to bind\n",
        "together data sets vertically, with the data set specified second being\n",
        "placed directly underneath the data set specified first. In this way, we\n",
        "can combine data sets vertically if they share the exact same column\n",
        "names. Try that below!"
      ],
      "id": "e1c4667a-8488-47c1-9ef9-8b2b4fe9126a"
    },
    {
      "cell_type": "code",
      "execution_count": null,
      "metadata": {},
      "outputs": [],
      "source": [
        "fake_data <- rbind(fake_data, missing_data)\n",
        "\n",
        "tail(fake_data)"
      ],
      "id": "92fe69ce-fbdb-46cc-82b3-f76f6a03df72"
    },
    {
      "cell_type": "markdown",
      "metadata": {},
      "source": [
        "As we can see, we’ve run into an error. In this case, our `missing_data`\n",
        "does not have the exact same columns as `fake_data`. `missing_data` does\n",
        "not have a `sample_weight` column. This is a problem! To override this\n",
        "and append the data sets anyways, we can use the `bind_rows` command.\n",
        "This will append our `missing_data` to the end of `fake_data`, and leave\n",
        "the columns empty when the information is not available in the appending\n",
        "data set. See below:"
      ],
      "id": "d7d06dfc-7b08-4344-86c1-416b33ae4e80"
    },
    {
      "cell_type": "code",
      "execution_count": null,
      "metadata": {},
      "outputs": [],
      "source": [
        "fake_data <- bind_rows(fake_data, missing_data)\n",
        "\n",
        "tail(fake_data)"
      ],
      "id": "5c69d56c-efff-4bfd-a6a9-517b31de4265"
    },
    {
      "cell_type": "markdown",
      "metadata": {},
      "source": [
        "This is a fast way of concatenating data sets vertically. We can see\n",
        "that it also does not require us to have a designated “master” and\n",
        "“using” data set. We can have both data sets stored in our notebook and\n",
        "view them simultaneously, making the process of appending data sets\n",
        "simpler, especially if we want to check for identical column names or\n",
        "missing values.\n",
        "\n",
        "### 7.2.2 Append Horizontally with `cbind` and `bind_cols`\n",
        "\n",
        "We may also want to concatenate data sets horizontally. Suppose that we\n",
        "have a new variable, *religious*, which is a dummy coded as 1 if the\n",
        "person self-identified as religious in that year and 0 if not. This data\n",
        "frame (which is technically a vector) is below."
      ],
      "id": "6399c25d-1864-465a-924a-3ecb7aef6214"
    },
    {
      "cell_type": "code",
      "execution_count": null,
      "metadata": {},
      "outputs": [],
      "source": [
        "set.seed(123)\n",
        "\n",
        "missing_data2 <- data.frame(religious = sample(0:1, 138141, replace = TRUE))\n",
        "\n",
        "head(missing_data2)"
      ],
      "id": "02a38b15-58a9-47cf-9e56-5a402b99e427"
    },
    {
      "cell_type": "markdown",
      "metadata": {},
      "source": [
        "Assuming it is ordered identically to our “fake_data” data set with\n",
        "respect to participants, and that we have the exact same number of rows,\n",
        "we can simply bind this column to our existing data set using the\n",
        "`cbind` function."
      ],
      "id": "69a73e15-36e4-482e-971a-03497d8a792a"
    },
    {
      "cell_type": "code",
      "execution_count": null,
      "metadata": {},
      "outputs": [],
      "source": [
        "fake_data <- cbind(fake_data, missing_data2)\n",
        "\n",
        "head(fake_data)"
      ],
      "id": "98f86c53-081c-4ba2-8a35-d3ace2c7138b"
    },
    {
      "cell_type": "markdown",
      "metadata": {},
      "source": [
        "We can see that this function appended our *religious* variable to the\n",
        "data set. However, it required us to have an identical number of\n",
        "observations between the two data frames, and for both data frames to be\n",
        "ordered identically with respect to people. Often this is not the case,\n",
        "so we must turn to a more commonly used and slightly more challenging\n",
        "concept next: merging datasets. Alternatively, we would have to use the\n",
        "command `bind_cols`.\n",
        "\n",
        "## 7.3 Merging Data Sets\n",
        "\n",
        "Merging data sets means matching existing observations between datasets\n",
        "along specific variables, typically in order to add more information\n",
        "about existing participants to our current data set. This process, also\n",
        "known in R as joining data, is more complicated than simply appending\n",
        "data. Luckily, we have four functions with descriptive names which help\n",
        "to crystallize this process for us depending on how we want to merge two\n",
        "data sets. Before we start, we should look at the structure of each data\n",
        "set."
      ],
      "id": "44a35d00-f52c-429d-9282-560bd38f0567"
    },
    {
      "cell_type": "code",
      "execution_count": null,
      "metadata": {},
      "outputs": [],
      "source": [
        "head(fake_data)\n",
        "\n",
        "head(region_year_data)"
      ],
      "id": "5a81d88c-ff8d-40b0-8610-a5452701b81a"
    },
    {
      "cell_type": "markdown",
      "metadata": {},
      "source": [
        "To do a merge of any type, we need to specify a “key” or variable on\n",
        "which we will merge our data sets – this is our unique identifier. It is\n",
        "best to choose a variable (or variables) which uniquely identify each\n",
        "observation, otherwise merging will incur challenges. We can guess from\n",
        "our knowledge of the data set that every combination of *workerid* and\n",
        "*year* returns a unique observation in the “fake_data” data set. Looking\n",
        "at the “region_year_data” data set above, we can see that every\n",
        "combination of *year* and *region* identifies unique observations in\n",
        "this data set. This second data set, however, does not have the\n",
        "*workerid* variable, while the first data set has all three of the\n",
        "*workerid*, *year* and *region* variables. Since the unique identifiers\n",
        "common to both data sets are *year* and *region*, we will use these as\n",
        "our keys within the join functions. Since there are many observations\n",
        "with identical years and regions within the “fake_data” data set, we\n",
        "will be doing what is similar to a `m:1` merge in Stata. However, we can\n",
        "specify how we would like matched and unmatched observations to be\n",
        "treated.\n",
        "\n",
        "**Tip**: If we do not have any common identifiers between our data sets,\n",
        "but do have variables which express the exact same information, we can\n",
        "simply rename one of the variables so that they are identical.\n",
        "\n",
        "### 7.3.1 Merge with `left_join`\n",
        "\n",
        "The left join merge is a type of merge whereby we merge two data sets\n",
        "along one or more “keys”, but keep all observations without a match from\n",
        "the first data set (specified first in the function) and discard all the\n",
        "unmatched observations from the second data set (specified second). This\n",
        "is similar to an `m:1` merge in Stata, where we keep everything in the\n",
        "“master” data."
      ],
      "id": "ba083da3-32cd-40d9-9015-7e088b4f5302"
    },
    {
      "cell_type": "code",
      "execution_count": null,
      "metadata": {},
      "outputs": [],
      "source": [
        "left_join(fake_data, region_year_data, by = c(\"year\", \"region\"))"
      ],
      "id": "0be3e82c-dea8-40c3-a577-aeafbb6c455a"
    },
    {
      "cell_type": "markdown",
      "metadata": {},
      "source": [
        "Notice here that this function preserves all rows in the first data set,\n",
        "in this case the “fake_data” data set, no matter what. The only rows of\n",
        "the second data set (“region_year_data”) which are kept are those which\n",
        "can be matched to a corresponding row from “fake_data” with identical\n",
        "key values (identical values for *year* and *region*). A direct partner\n",
        "to this function is the `right_join` function, which operates\n",
        "identically but in reverse (similar to `1:m`). That is, it keeps all\n",
        "observations in the second data set and keeps only those in the first\n",
        "which found a match with the second based on the identifier columns\n",
        "specified.\n",
        "\n",
        "### 7.3.2 Merge with `inner_join`\n",
        "\n",
        "The inner join merge is a type of merge whereby we keep only\n",
        "observations which have found a match between the two data sets,\n",
        "i.e. the identifiers must be in both the first and second data sets\n",
        "(`1:1` merge in Stata). In this way, this function necessarily discards\n",
        "as many or more observations than the other types of merges."
      ],
      "id": "e24412ac-785c-4536-bc28-1cd20cdebb26"
    },
    {
      "cell_type": "code",
      "execution_count": null,
      "metadata": {},
      "outputs": [],
      "source": [
        "inner_join(fake_data, region_year_data, by = c(\"year\", \"region\"))"
      ],
      "id": "137c6e46-8949-41eb-8dbe-60cea82013d5"
    },
    {
      "cell_type": "markdown",
      "metadata": {},
      "source": [
        "We can see that this function matched many identical *region* and *year*\n",
        "pairings to different workers. That is because there are many workers\n",
        "who have data reported for the same year and same region (i.e. many\n",
        "different workers in “fake_data” have earnings recorded for 1999 in\n",
        "region 1). In some data sets, however, especially those which are not as\n",
        "large as “fake_data”, we will lose many observations with `inner_join`,\n",
        "since this function only preserves observations which can be matched\n",
        "across the key(s) specified in both data sets.\n",
        "\n",
        "### 7.3.3 Merge with `full_join`\n",
        "\n",
        "This is the function that is closest to appending data horizontally. The\n",
        "process of full join ensures that all observations from both data sets\n",
        "are maintained (similar to an `m:m` merge in Stata); if observations\n",
        "from one data set do not find a match, they simply take on values of NA\n",
        "for the newly merged variables from the other data set."
      ],
      "id": "0bb4601b-af85-496a-b5cc-ecf05a9f0876"
    },
    {
      "cell_type": "code",
      "execution_count": null,
      "metadata": {},
      "outputs": [],
      "source": [
        "full_join(fake_data, region_year_data, by = c(\"year\", \"region\"))"
      ],
      "id": "829ef504-3ceb-4369-aa0a-ed87214f1124"
    },
    {
      "cell_type": "markdown",
      "metadata": {},
      "source": [
        "We can see that this function left many observations from our\n",
        "“fake_data” data set with missing values for variables from our\n",
        "“region_year_data” data set such as *avg_log_earnings* and\n",
        "*total_employment*. This is because the “fake_data” data set has\n",
        "observations for workers in years which are not included in the\n",
        "“region_year_data” data set (since the former records information from\n",
        "1982 on and the latter records information from 1998 on). In this way,\n",
        "while `full_join` typically retains the highest number of observations,\n",
        "it fills our data set with many missing observations.\n",
        "\n",
        "When choosing which merge method to choose, it is important to consider\n",
        "if any observations will not find a match, which data sets these\n",
        "“unmatched” observations are in, and whether we would like for these\n",
        "observations to be recorded as missing or dropped. If we wish to drop\n",
        "unmatched observations in all cases, `inner_join` is most appropriate.\n",
        "If we have two data sets and want to drop unmatched observations solely\n",
        "from the first, `left_join` is most appropriate (and correspondingly\n",
        "`right_join` if we want to drop unmatched observations solely from the\n",
        "second). Finally, if we wanted to keep all observations no matter what\n",
        "and have unmatched observations automatically marked with missing values\n",
        "for variables for which they have no recorded information, we should use\n",
        "`full_join`. In all cases, unmatched observations refer to observations\n",
        "in a data set which do not share the same recorded value for the\n",
        "specified key(s) (common identifier(s)) with the data set they are being\n",
        "merged with.\n",
        "\n",
        "## 7.4 Wrap Up\n",
        "\n",
        "In this module, we learned how to combine different data sets. The most\n",
        "important lesson we should take away from this module is that we can\n",
        "append data sets vertically when they have identical variables and\n",
        "horizontally when they have identical observations (and when these\n",
        "variables and observations are identically ordered in both data sets).\n",
        "More generally, however, we want to merge different variables (columns)\n",
        "between two data sets using common identifier variables. We have a\n",
        "series of four types of merges we can use to accomplish this, each of\n",
        "which treats unmatched observations differently.\n",
        "\n",
        "As a final note, throughout this module we used the join functions.\n",
        "However, base R has a `merge` function which can accomplish all of the\n",
        "joins we have discussed. We didn’t cover this function in detail,\n",
        "however, because it operates much more slowly on large data sets. If you\n",
        "wish to learn more about this function, you can view its documentation\n",
        "by running the code cell below!"
      ],
      "id": "6d24cbb4-9e20-4243-8dcf-23d5e3b7f945"
    },
    {
      "cell_type": "code",
      "execution_count": null,
      "metadata": {},
      "outputs": [],
      "source": [
        "?merge"
      ],
      "id": "3b8c10e9-1de2-4c9e-9b79-0697b1b08e86"
    },
    {
      "cell_type": "markdown",
      "metadata": {},
      "source": [
        "In the next module, we will look at graphing in R: the main types of\n",
        "graphs we can create, how to save these graphs, and best practices for\n",
        "data visualization more generally.\n",
        "\n",
        "## 7.5 Wrap-up Table\n",
        "\n",
        "| Command | Function |\n",
        "|--------------------------------|----------------------------------------|\n",
        "| `rbind()` | It stacks vertically two data sets based on certain variables. The resulting data set has *more observations*. |\n",
        "| `cbind()` | It combines two data sets by binding them side by side. The resulting data set has *more variables*. |\n",
        "| `left_join()` | It pastes two data sets together based on specific values of variables. It keeps all the observation of the *main* data frame but only the observations of the *using* data frame that are successfully matched. |\n",
        "| `inner_join()` | It pastes two data sets together based on specific values of variables. It only keeps the matched observations from both the *main* and the *using* data set. |\n",
        "| `full_join()` | It pastes two data sets together based on specific values of variables. It keeps all observations of both the *main* and the *using* data set, also the observations that are not matched. |"
      ],
      "id": "88164302-8936-42cf-a811-9e8a85ae5f55"
    }
  ],
  "nbformat": 4,
  "nbformat_minor": 5,
  "metadata": {
    "kernelspec": {
      "name": "ir",
      "display_name": "R",
      "language": "r"
    }
  }
}