{
  "cells": [
    {
      "cell_type": "markdown",
      "metadata": {},
      "source": [
        "# 3.5 - Advanced - Word Embeddings Tutorial (python)"
      ],
      "id": "85b39ea0-f6d3-4e40-93d1-b43d3a1eaa9c"
    },
    {
      "cell_type": "raw",
      "metadata": {
        "raw_mimetype": "text/html"
      },
      "source": [
        "<h1 align=\"center\">"
      ],
      "id": "116e93fa-aef6-4a4a-9e1b-49e0ad3b8ed9"
    },
    {
      "cell_type": "markdown",
      "metadata": {},
      "source": [
        "It Starts with a Research Question…"
      ],
      "id": "f5751900-0af0-4d02-b94a-bff4d936d6fa"
    },
    {
      "cell_type": "raw",
      "metadata": {
        "raw_mimetype": "text/html"
      },
      "source": [
        "</h1>"
      ],
      "id": "031f2a80-d0b7-401d-bb4a-b3d0717b0af7"
    },
    {
      "cell_type": "markdown",
      "metadata": {},
      "source": [
        "<img src='Schmidt Fig 1.png' width=\"66%\" height=\"66%\">\n",
        "\n",
        "# Word2Vec\n",
        "\n",
        "This lesson is designed to explore features of word embeddings produced\n",
        "through the word2vec model. The questions we ask in this lesson are\n",
        "guided by Ben Schmidt’s blog post\n",
        "<a href = \"http://bookworm.benschmidt.org/posts/2015-10-30-rejecting-the-gender-binary.html\">Rejecting\n",
        "the Gender Binary</a>.\n",
        "\n",
        "The primary corpus we wil use consists of the\n",
        "<a href=\"http://txtlab.org/?p=601\">150 English-language novels</a> made\n",
        "available by the <em>.txtLab</em> at McGill University. We also look at\n",
        "a <a href=\"http://ryanheuser.org/word-vectors-1/\">Word2Vec model trained\n",
        "on the ECCO-TCP corpus</a> of 2,350 eighteenth-century literary texts\n",
        "made available by Ryan Heuser. (Note that the number of terms in the\n",
        "model has been shortened by half in order to conserve memory.)\n",
        "\n",
        "For further technical background on Word2Vec’s mechanics, I suggest this\n",
        "<a href=\"https://chromium.googlesource.com/external/github.com/tensorflow/tensorflow/+/refs/heads/0.6.0/tensorflow/g3doc/tutorials/word2vec/index.md\">brief\n",
        "tutorial</a> by Google, especially the sections “Motivation,” “Skip-Gram\n",
        "Model,” and “Visualizing.”\n",
        "\n",
        "### Tutorial Agenda"
      ],
      "id": "54fb2ee2-0923-40b5-89ea-93a9d8e7fbbe"
    },
    {
      "cell_type": "raw",
      "metadata": {
        "raw_mimetype": "text/html"
      },
      "source": [
        "<ul>"
      ],
      "id": "f8eda614-da45-40ba-b5a6-d0796e44e5a8"
    },
    {
      "cell_type": "raw",
      "metadata": {
        "raw_mimetype": "text/html"
      },
      "source": [
        "<li>"
      ],
      "id": "0e89d12a-0b36-48c3-a232-5879f518a3ca"
    },
    {
      "cell_type": "markdown",
      "metadata": {},
      "source": [
        "Vector-Space Model of Language"
      ],
      "id": "a3126961-1c4b-44aa-9b83-1be1b58fdcd9"
    },
    {
      "cell_type": "raw",
      "metadata": {
        "raw_mimetype": "text/html"
      },
      "source": [
        "</li>"
      ],
      "id": "6ddafa6c-bd34-4e6f-ac03-a04405f48526"
    },
    {
      "cell_type": "raw",
      "metadata": {
        "raw_mimetype": "text/html"
      },
      "source": [
        "<li>"
      ],
      "id": "06a89f84-e781-451d-9dc7-4fd99b18edc9"
    },
    {
      "cell_type": "markdown",
      "metadata": {},
      "source": [
        "Import & Pre-Processing"
      ],
      "id": "3e5ec070-6f36-4d39-92c1-2fb348fa7ceb"
    },
    {
      "cell_type": "raw",
      "metadata": {
        "raw_mimetype": "text/html"
      },
      "source": [
        "</li>"
      ],
      "id": "a2c3c26a-7337-4966-94c2-89ad06172a3c"
    },
    {
      "cell_type": "raw",
      "metadata": {
        "raw_mimetype": "text/html"
      },
      "source": [
        "<li>"
      ],
      "id": "8b7688d4-c507-4557-85d8-7bfe515ddc6c"
    },
    {
      "cell_type": "markdown",
      "metadata": {},
      "source": [
        "Word2Vec"
      ],
      "id": "20c1114d-d171-4548-9831-1ce23c1fec09"
    },
    {
      "cell_type": "raw",
      "metadata": {
        "raw_mimetype": "text/html"
      },
      "source": [
        "</li>"
      ],
      "id": "0a2095c5-beaa-4ecc-9d14-5f11a66235c8"
    },
    {
      "cell_type": "raw",
      "metadata": {
        "raw_mimetype": "text/html"
      },
      "source": [
        "<ul>"
      ],
      "id": "8a00def4-a2f0-4a9a-8904-95e39422cafc"
    },
    {
      "cell_type": "raw",
      "metadata": {
        "raw_mimetype": "text/html"
      },
      "source": [
        "<li>"
      ],
      "id": "6c3bd823-c655-405a-bf50-2ed8589aef96"
    },
    {
      "cell_type": "markdown",
      "metadata": {},
      "source": [
        "Training"
      ],
      "id": "d9f74b07-e9a8-49c5-b041-6a9fb9850f2f"
    },
    {
      "cell_type": "raw",
      "metadata": {
        "raw_mimetype": "text/html"
      },
      "source": [
        "</li>"
      ],
      "id": "cb798555-d8ac-4f27-99dc-21406381d51c"
    },
    {
      "cell_type": "raw",
      "metadata": {
        "raw_mimetype": "text/html"
      },
      "source": [
        "<li>"
      ],
      "id": "f7a68bc5-daa9-4b06-bddc-a4068f6482cd"
    },
    {
      "cell_type": "markdown",
      "metadata": {},
      "source": [
        "Embeddings"
      ],
      "id": "cba019e9-3578-4343-8ba3-72ddf3e006c2"
    },
    {
      "cell_type": "raw",
      "metadata": {
        "raw_mimetype": "text/html"
      },
      "source": [
        "</li>"
      ],
      "id": "19f98b41-3a8d-4cb7-9778-2dc8b599fa3b"
    },
    {
      "cell_type": "raw",
      "metadata": {
        "raw_mimetype": "text/html"
      },
      "source": [
        "<li>"
      ],
      "id": "feb66e3f-bb8d-49a8-b3f9-428d8f1e0d12"
    },
    {
      "cell_type": "markdown",
      "metadata": {},
      "source": [
        "Visualization"
      ],
      "id": "65554148-f17d-4b73-a6a0-65857e95adf5"
    },
    {
      "cell_type": "raw",
      "metadata": {
        "raw_mimetype": "text/html"
      },
      "source": [
        "</li>"
      ],
      "id": "f3e08b5d-3ec9-45b9-a4eb-7fddbbbeeac2"
    },
    {
      "cell_type": "raw",
      "metadata": {
        "raw_mimetype": "text/html"
      },
      "source": [
        "</ul>"
      ],
      "id": "5540bca1-b240-45a4-8370-0004e788fade"
    },
    {
      "cell_type": "raw",
      "metadata": {
        "raw_mimetype": "text/html"
      },
      "source": [
        "<li>"
      ],
      "id": "0e41b675-fe5f-43a4-a5dd-8fa64463b397"
    },
    {
      "cell_type": "markdown",
      "metadata": {},
      "source": [
        "Saving/Loading Models"
      ],
      "id": "acca0ff6-f2de-4aed-a21c-16d603506a4f"
    },
    {
      "cell_type": "raw",
      "metadata": {
        "raw_mimetype": "text/html"
      },
      "source": [
        "</li>"
      ],
      "id": "ee8b3a8a-2142-46a1-ac51-00d2e2aa80a9"
    },
    {
      "cell_type": "raw",
      "metadata": {
        "raw_mimetype": "text/html"
      },
      "source": [
        "</ul>"
      ],
      "id": "ed7ad841-a450-4877-917c-d788128d20b8"
    },
    {
      "cell_type": "raw",
      "metadata": {
        "raw_mimetype": "text/html"
      },
      "source": [
        "<li>"
      ],
      "id": "95f7dcdc-a367-4bd8-82d5-c8f0d4420e55"
    },
    {
      "cell_type": "markdown",
      "metadata": {},
      "source": [
        "Topic Models"
      ],
      "id": "fab540d5-390c-4627-b455-ecc0b6f41249"
    },
    {
      "cell_type": "raw",
      "metadata": {
        "raw_mimetype": "text/html"
      },
      "source": [
        "</li>"
      ],
      "id": "95371bbf-3bdb-4acb-8002-39887cb36549"
    },
    {
      "cell_type": "raw",
      "metadata": {
        "raw_mimetype": "text/html"
      },
      "source": [
        "</ul>"
      ],
      "id": "85ecfb12-81e2-4660-8f1f-66f587e7d241"
    },
    {
      "cell_type": "markdown",
      "metadata": {},
      "source": [
        "# 0. Vector-Space Model of Language\n",
        "\n",
        "In the first day of this workshop, we explored the strange way that\n",
        "computers read text: by splitting it into tokens and tallying their\n",
        "frequencies. A novel or album review is reduced to a series of word\n",
        "counts. Since then, we have used simple arithmetic and statistics to\n",
        "identify patterns across those tallies. However, it is often useful to\n",
        "consider these patterns from another perspective: geometry.\n",
        "\n",
        "Each text can be described as a series of word counts. What if we\n",
        "treated those like coordinates in space?\n",
        "\n",
        "### Prep for visualization"
      ],
      "id": "99e28eae-ca01-44fd-ba05-ee35d0e58435"
    },
    {
      "cell_type": "code",
      "execution_count": 1,
      "metadata": {},
      "outputs": [],
      "source": [
        "%pylab inline\n",
        "matplotlib.style.use('ggplot')"
      ],
      "id": "3a6648fe"
    },
    {
      "cell_type": "markdown",
      "metadata": {},
      "source": [
        "### Create a DTM with a Few Pseudo-Texts"
      ],
      "id": "f03adc60-2c6f-476e-ae72-9068be52f9d8"
    },
    {
      "cell_type": "code",
      "execution_count": 2,
      "metadata": {},
      "outputs": [],
      "source": [
        "# dataframes!\n",
        "import pandas\n",
        "\n",
        "# Construct dataframe\n",
        "columns = ['eggs','sausage','bacon']\n",
        "indices = ['Novel A', 'Novel B', 'Novel C']\n",
        "dtm = [[50,60,60],[90,10,10], [20,70,70]]\n",
        "dtm_df = pandas.DataFrame(dtm, columns = columns, index = indices)\n",
        "\n",
        "# Show dataframe\n",
        "dtm_df"
      ],
      "id": "e383837e"
    },
    {
      "cell_type": "markdown",
      "metadata": {},
      "source": [
        "### Visualize"
      ],
      "id": "f0d1f2b4-356b-4d2d-9094-ac0e21d8ce3d"
    },
    {
      "cell_type": "code",
      "execution_count": 3,
      "metadata": {},
      "outputs": [],
      "source": [
        "# Plot our points\n",
        "scatter(dtm_df['eggs'], dtm_df['sausage'])\n",
        "\n",
        "# Make the graph look good\n",
        "xlim([0,100]), ylim([0,100])\n",
        "xlabel('eggs'), ylabel('sausage')"
      ],
      "id": "a8050ab9"
    },
    {
      "cell_type": "markdown",
      "metadata": {},
      "source": [
        "### Vectors\n",
        "\n",
        "At a glance, a couple of points are lying closer to one another. We used\n",
        "the word frequencies of just two words in order to plot our texts in a\n",
        "two-dimensional plane. The term frequency “summaries” of <i>Novel A</i>\n",
        "& <i>Novel C</i> are pretty similar to one another: they both share a\n",
        "major concern with “eggs”, whereas <i>Novel B</i> seems to focus\n",
        "primarily on “sausage.”\n",
        "\n",
        "This raises a question: how can we operationalize our intuition that\n",
        "spatial distance expresses topical similarity?\n",
        "\n",
        "<img src='Dot-Product.png' >\n",
        "\n",
        "The most common measurement of distance between points is their\n",
        "<a href=\"https://en.wikipedia.org/wiki/Cosine_similarity\">Cosine\n",
        "Similarity</a>. Imagine that we draw an arrow from the origin of the\n",
        "graph – point (0,0) – to the dot representing each text. This arrow is\n",
        "called a <i>vector</i>. The Cosine Similarity between two vectors\n",
        "measures how much they overlap with one another. Values for the cosine\n",
        "similarity between two vectors fall between 0 and 1, so they are easily\n",
        "interpreted and compared.\n",
        "\n",
        "### Cosine Distance"
      ],
      "id": "224e04db-024e-4e4f-b95f-d6622a44e149"
    },
    {
      "cell_type": "code",
      "execution_count": 4,
      "metadata": {},
      "outputs": [],
      "source": [
        "# Although we want the Cosine Distance, it is mathematically\n",
        "# simpler to calculate its opposite: Cosine Similarity\n",
        "\n",
        "from sklearn.metrics.pairwise import cosine_similarity"
      ],
      "id": "8980f806"
    },
    {
      "cell_type": "code",
      "execution_count": 5,
      "metadata": {},
      "outputs": [],
      "source": [
        "# So we will subtract the similarities from 1\n",
        "\n",
        "cos_sim = cosine_similarity(dtm_df)"
      ],
      "id": "d8fad80f"
    },
    {
      "cell_type": "code",
      "execution_count": 6,
      "metadata": {},
      "outputs": [],
      "source": [
        "# And we'll make it a little easier to read\n",
        "\n",
        "np.round(cos_sim, 2)"
      ],
      "id": "cf79311b"
    },
    {
      "cell_type": "code",
      "execution_count": 7,
      "metadata": {},
      "outputs": [],
      "source": [
        "#Compare the distance between novels\n",
        "\n",
        "filelist = ['txtlab_Novel450_English/EN_1850_Hawthorne,Nathaniel_TheScarletLetter_Novel.txt',\n",
        "            'txtlab_Novel450_English/EN_1851_Hawthorne,Nathaniel_TheHouseoftheSevenGables_Novel.txt',\n",
        "            'txtlab_Novel450_English/EN_1920_Fitzgerald,FScott_ThisSideofParadise_Novel.txt',\n",
        "            'txtlab_Novel450_English/EN_1922_Fitzgerald,FScott_TheBeautifulandtheDamned_Novel.txt',\n",
        "            'txtlab_Novel450_English/EN_1811_Austen,Jane_SenseandSensibility_Novel.txt',\n",
        "            'txtlab_Novel450_English/EN_1813_Austen,Jane_PrideandPrejudice_Novel.txt']\n",
        "\n",
        "novel_names = ['Hawthorne: Scarlet Letter',\n",
        "           'Hawthorne: Seven Gables',\n",
        "           'Fitzgerald: This Side of Paradise',\n",
        "           'Fitzgerald: Beautiful and the Damned',\n",
        "           'Austen: Sense and Sensibility',\n",
        "           'Austen: Pride and Prejudice']\n",
        "\n",
        "text_list = []\n",
        "\n",
        "for file in filelist:\n",
        "    with open(file, 'r', encoding = 'utf-8') as myfile:\n",
        "        text_list.append(myfile.read())\n",
        "\n",
        "            \n",
        "\n",
        "#import the function CountVectorizer\n",
        "from sklearn.feature_extraction.text import CountVectorizer\n",
        "\n",
        "cv = CountVectorizer(stop_words = 'english', min_df = 3, binary=True)\n",
        "\n",
        "novel_dtm = cv.fit_transform(text_list).toarray()\n",
        "feature_list = cv.get_feature_names_out()\n",
        "dtm_df_novel = pandas.DataFrame(novel_dtm, columns = feature_list, index = novel_names)\n",
        "dtm_df_novel"
      ],
      "id": "5061713f"
    },
    {
      "cell_type": "code",
      "execution_count": 8,
      "metadata": {},
      "outputs": [],
      "source": [
        "cos_sim_novel = cosine_similarity(dtm_df_novel)\n",
        "np.round(cos_sim_novel, 2)"
      ],
      "id": "3efa60a1"
    },
    {
      "cell_type": "code",
      "execution_count": 9,
      "metadata": {},
      "outputs": [],
      "source": [
        "cos_df = pandas.DataFrame(cos_sim_novel, columns = novel_names, index = novel_names)\n",
        "cos_df"
      ],
      "id": "300c7a7d"
    },
    {
      "cell_type": "code",
      "execution_count": 10,
      "metadata": {},
      "outputs": [],
      "source": [
        "#visualizing differences\n",
        "\n",
        "from sklearn.manifold import MDS\n",
        "\n",
        "# two components as we're plotting points in a two-dimensional plane\n",
        "# \"precomputed\" because we provide a distance matrix\n",
        "# we will also specify `random_state` so the plot is reproducible.\n",
        "\n",
        "#transform cosine similarity to cosine distance\n",
        "cos_dist = 1 - cosine_similarity(dtm_df_novel)\n",
        "\n",
        "mds = MDS(n_components=2, dissimilarity=\"precomputed\", random_state=1)\n",
        "\n",
        "pos = mds.fit_transform(cos_dist)  # shape (n_components, n_samples)\n",
        "xs, ys = pos[:, 0], pos[:, 1]\n",
        "\n",
        "for x, y, name in zip(xs, ys, novel_names):\n",
        "    plt.scatter(x, y)\n",
        "    plt.text(x, y, name)\n",
        "\n",
        "plt.show()"
      ],
      "id": "7fb6a10f"
    },
    {
      "cell_type": "markdown",
      "metadata": {},
      "source": [
        "The above method has a broad range of applications, such as unsupervised\n",
        "clustering. Common techniques include\n",
        "<a href = \"https://en.wikipedia.org/wiki/K-means_clustering\">K-Means\n",
        "Clustering</a> and\n",
        "<a href=\"https://en.wikipedia.org/wiki/Hierarchical_clustering\">Heirchical\n",
        "Dendrograms</a>. These attempt to identify groups of texts with shared\n",
        "content, based on these kinds of distance measures.\n",
        "\n",
        "Here’s an example of a dendrogram based on these six novels:"
      ],
      "id": "9c1762ac-9b55-49de-9cf6-85151843789a"
    },
    {
      "cell_type": "code",
      "execution_count": 11,
      "metadata": {},
      "outputs": [],
      "source": [
        "from scipy.cluster.hierarchy import ward, dendrogram\n",
        "linkage_matrix = ward(cos_dist)\n",
        "\n",
        "dendrogram(linkage_matrix, orientation=\"right\", labels=novel_names)\n",
        "\n",
        "plt.tight_layout()  # fixes margins\n",
        "\n",
        "plt.show()"
      ],
      "id": "b4644d50"
    },
    {
      "cell_type": "markdown",
      "metadata": {},
      "source": [
        "### Vector Semantics\n",
        "\n",
        "We can also turn this logic on its head. Rather than produce vectors\n",
        "representing texts based on their words, we will produce vectors for the\n",
        "words based on their contexts."
      ],
      "id": "23ed0eda-e3d8-4f02-a306-3b85d48cf25f"
    },
    {
      "cell_type": "code",
      "execution_count": 12,
      "metadata": {},
      "outputs": [],
      "source": [
        "# Turn our DTM sideways\n",
        "\n",
        "dtm_df_novel.T.head()"
      ],
      "id": "0d7e61ec"
    },
    {
      "cell_type": "code",
      "execution_count": 13,
      "metadata": {},
      "outputs": [],
      "source": [
        "# Find the Cosine Distances between pairs of word-vectors\n",
        "\n",
        "cos_sim_words = cosine_similarity(dtm_df_novel.T)"
      ],
      "id": "7c96c822"
    },
    {
      "cell_type": "code",
      "execution_count": 14,
      "metadata": {},
      "outputs": [],
      "source": [
        "# In readable format\n",
        "\n",
        "np.round(cos_sim_words, 2)"
      ],
      "id": "18b04352"
    },
    {
      "cell_type": "markdown",
      "metadata": {},
      "source": [
        "Theoretically you could visualize and cluster these as well - but this\n",
        "takes a lot of computational power!\n",
        "\n",
        "We’ll thus turn to the machine learning version: word embeddings\n",
        "\n",
        "### Word2Vec\n",
        "\n",
        "This last cell indicates that “sausage” and “bacon” perfectly align with\n",
        "one another across texts. If we saw this in a real-world example, we\n",
        "might interpret it to mean that the words share some kind of semantic or\n",
        "thematic relationship. In fact, this method is precisely one that\n",
        "humanists have used in order to find interesting linguistic patterns.\n",
        "(See Ted Underwood’s blog post,\n",
        "<a href = \"https://tedunderwood.com/2011/10/16/lsa-is-a-marvellous-tool-but-humanists-may-no-use-it-the-way-computer-scientists-do/\">LSA\n",
        "is a marvellous tool, but…</a>.)\n",
        "\n",
        "Recently, however, a more sophisticated technique for finding semantic\n",
        "relationships between words has enjoyed great popularity: Word2Vec\n",
        "\n",
        "Word2Vec draws from the logic of the concordance that we saw on the\n",
        "first day of the workshop. In the example above, a word (row) is\n",
        "described by its frequency within an entire novel (column). The word2vec\n",
        "algorithm tries to describe a given word in terms of the ones that\n",
        "appear immediately to the right and left in actual sentences. More\n",
        "precisely it learns how to <i>predict</i> the context words.\n",
        "\n",
        "<img src = \"Skip-gram diagram.png\">\n",
        "\n",
        "Without going too deeply into the algorithm, suffice it to say that it\n",
        "involves a two-step process. First, the input word gets compressed into\n",
        "a dense vector. Second, the vector gets decoded into the set of context\n",
        "words. Keywords that appear within similar contexts will have similar\n",
        "vector representations in between steps. This vector is referred to as a\n",
        "<i>word embedding</i>.\n",
        "\n",
        "Since the word embedding is a vector, we can perform tests like cosine\n",
        "similarity and other kinds of operations. Those operations can reveal\n",
        "many different kinds of relationships between words, as we shall see.\n",
        "\n",
        "<img src = \"w2v-Analogies.png\">\n",
        "\n",
        "# 1. Import & Pre-Processing\n",
        "\n",
        "### Import Packages"
      ],
      "id": "a7bc7bbc-a492-4120-a939-5c98ed16b092"
    },
    {
      "cell_type": "code",
      "execution_count": 15,
      "metadata": {},
      "outputs": [],
      "source": [
        "# Data Wrangling\n",
        "\n",
        "import os\n",
        "import numpy as np\n",
        "import pandas\n",
        "from scipy.spatial.distance import cosine\n",
        "from sklearn.metrics import pairwise\n",
        "from sklearn.manifold import MDS, TSNE"
      ],
      "id": "6e4f3137"
    },
    {
      "cell_type": "code",
      "execution_count": 16,
      "metadata": {},
      "outputs": [],
      "source": [
        "# Natural Language Processing\n",
        "\n",
        "\n",
        "import nltk\n",
        "nltk.download('punkt')\n",
        "from nltk.tokenize import word_tokenize, sent_tokenize"
      ],
      "id": "233b766a"
    },
    {
      "cell_type": "code",
      "execution_count": 17,
      "metadata": {},
      "outputs": [],
      "source": [
        "# New libarary (not in Anaconda: gensim)\n",
        "import gensim"
      ],
      "id": "ec7fb7f5"
    },
    {
      "cell_type": "code",
      "execution_count": 18,
      "metadata": {},
      "outputs": [],
      "source": [
        "# Custom Tokenizer for Classroom Use\n",
        "\n",
        "def fast_tokenize(text):\n",
        "    \n",
        "    # Get a list of punctuation marks\n",
        "    from string import punctuation\n",
        "    \n",
        "    lower_case = text.lower()\n",
        "    \n",
        "    # Iterate through text removing punctuation characters\n",
        "    no_punct = \"\".join([char for char in lower_case if char not in punctuation])\n",
        "    \n",
        "    # Split text over whitespace into list of words\n",
        "    tokens = no_punct.split()\n",
        "    \n",
        "    return tokens"
      ],
      "id": "477d8d88"
    },
    {
      "cell_type": "markdown",
      "metadata": {},
      "source": [
        "### Corpus Description\n",
        "\n",
        "English-language subset of Andrew Piper’s novel corpus, totaling 150\n",
        "novels by British and American authors spanning the years 1771-1930.\n",
        "These texts reside on disk, each in a separate plaintext file. Metadata\n",
        "is contained in a spreadsheet distributed with the novel files.\n",
        "\n",
        "### Metadata Columns"
      ],
      "id": "35b69c7b-42a6-4a83-a5c4-d2e1ecf92aaf"
    },
    {
      "cell_type": "raw",
      "metadata": {
        "raw_mimetype": "text/html"
      },
      "source": [
        "<ol>"
      ],
      "id": "84e5262d-bab6-4a7a-8542-e0192c7cb541"
    },
    {
      "cell_type": "raw",
      "metadata": {
        "raw_mimetype": "text/html"
      },
      "source": [
        "<li>"
      ],
      "id": "70dab032-c10c-456c-8637-f8298f824fec"
    },
    {
      "cell_type": "markdown",
      "metadata": {},
      "source": [
        "Filename: Name of file on disk"
      ],
      "id": "c7ee968e-1cb8-42b9-b46d-874fa0ac3f7e"
    },
    {
      "cell_type": "raw",
      "metadata": {
        "raw_mimetype": "text/html"
      },
      "source": [
        "</li>"
      ],
      "id": "4f596d47-a8c5-40d8-afd3-5c9fa3683676"
    },
    {
      "cell_type": "raw",
      "metadata": {
        "raw_mimetype": "text/html"
      },
      "source": [
        "<li>"
      ],
      "id": "fa4e6457-f46b-47b3-ad17-7514859e03ff"
    },
    {
      "cell_type": "markdown",
      "metadata": {},
      "source": [
        "ID: Unique ID in Piper corpus"
      ],
      "id": "9698ed31-5422-4ed4-b9e9-b34faef2d91e"
    },
    {
      "cell_type": "raw",
      "metadata": {
        "raw_mimetype": "text/html"
      },
      "source": [
        "</li>"
      ],
      "id": "20cbf3c5-4d48-4714-bb8c-115b9421aa38"
    },
    {
      "cell_type": "raw",
      "metadata": {
        "raw_mimetype": "text/html"
      },
      "source": [
        "<li>"
      ],
      "id": "60f6d93f-56b8-4b2d-b056-28d5230a3248"
    },
    {
      "cell_type": "markdown",
      "metadata": {},
      "source": [
        "Language: Language of novel"
      ],
      "id": "88ee1c6c-1929-4050-acfe-673e1726bb8f"
    },
    {
      "cell_type": "raw",
      "metadata": {
        "raw_mimetype": "text/html"
      },
      "source": [
        "</li>"
      ],
      "id": "dbe7694c-617d-4c81-a030-caffe6c235ca"
    },
    {
      "cell_type": "raw",
      "metadata": {
        "raw_mimetype": "text/html"
      },
      "source": [
        "<li>"
      ],
      "id": "e1b2e8bf-7e1c-4133-ac7d-697d963384d3"
    },
    {
      "cell_type": "markdown",
      "metadata": {},
      "source": [
        "Date: Initial publication date"
      ],
      "id": "9d173819-bb8a-467a-adc1-050fa92303a6"
    },
    {
      "cell_type": "raw",
      "metadata": {
        "raw_mimetype": "text/html"
      },
      "source": [
        "</li>"
      ],
      "id": "7f59787f-2287-4b7c-b325-56ee071d40b0"
    },
    {
      "cell_type": "raw",
      "metadata": {
        "raw_mimetype": "text/html"
      },
      "source": [
        "<li>"
      ],
      "id": "15c2f143-68b2-472a-9325-9a3c74ea9b7f"
    },
    {
      "cell_type": "markdown",
      "metadata": {},
      "source": [
        "Title: Title of novel"
      ],
      "id": "4589cfa9-d292-4511-b9bb-b8a82deef66a"
    },
    {
      "cell_type": "raw",
      "metadata": {
        "raw_mimetype": "text/html"
      },
      "source": [
        "</li>"
      ],
      "id": "47674a48-9c79-4658-817d-2c446095fcc3"
    },
    {
      "cell_type": "raw",
      "metadata": {
        "raw_mimetype": "text/html"
      },
      "source": [
        "<li>"
      ],
      "id": "f5bc9f28-da88-4afa-9662-8f644f5edab8"
    },
    {
      "cell_type": "markdown",
      "metadata": {},
      "source": [
        "Gender: Authorial gender"
      ],
      "id": "dcc2d795-70c6-48c8-9f71-0ee6b2d47261"
    },
    {
      "cell_type": "raw",
      "metadata": {
        "raw_mimetype": "text/html"
      },
      "source": [
        "</li>"
      ],
      "id": "9b70d711-1549-4af3-ba44-cd370d5dc29e"
    },
    {
      "cell_type": "raw",
      "metadata": {
        "raw_mimetype": "text/html"
      },
      "source": [
        "<li>"
      ],
      "id": "7b2b296c-f88b-4c6c-971a-bae37f1c21c9"
    },
    {
      "cell_type": "markdown",
      "metadata": {},
      "source": [
        "Person: Textual perspective"
      ],
      "id": "c8ec181e-afad-41f8-a274-9bd60df046b9"
    },
    {
      "cell_type": "raw",
      "metadata": {
        "raw_mimetype": "text/html"
      },
      "source": [
        "</li>"
      ],
      "id": "bdf5eb5b-888f-4977-8ac6-a1eff665f4ce"
    },
    {
      "cell_type": "raw",
      "metadata": {
        "raw_mimetype": "text/html"
      },
      "source": [
        "<li>"
      ],
      "id": "ef55cba6-7180-4b1b-8a4f-9f9add8ab26c"
    },
    {
      "cell_type": "markdown",
      "metadata": {},
      "source": [
        "Length: Number of tokens in novel"
      ],
      "id": "f70de096-4b6c-4b76-8614-6775c6cd6e18"
    },
    {
      "cell_type": "raw",
      "metadata": {
        "raw_mimetype": "text/html"
      },
      "source": [
        "</li>"
      ],
      "id": "8a0c63cd-befb-404f-9104-0e82f36699bb"
    },
    {
      "cell_type": "raw",
      "metadata": {
        "raw_mimetype": "text/html"
      },
      "source": [
        "</ol>"
      ],
      "id": "2aed1565-6105-4d67-bcbd-01befd3dfc68"
    },
    {
      "cell_type": "markdown",
      "metadata": {},
      "source": [
        "## Import Metadata"
      ],
      "id": "89713bfa-758d-4832-bd48-b690014940d2"
    },
    {
      "cell_type": "code",
      "execution_count": 19,
      "metadata": {},
      "outputs": [],
      "source": [
        "# Import Metadata into Pandas Dataframe\n",
        "\n",
        "meta_df = pandas.read_csv('resources/txtlab_Novel450_English.csv', encoding = 'utf-8')"
      ],
      "id": "6091a0bd"
    },
    {
      "cell_type": "code",
      "execution_count": 20,
      "metadata": {},
      "outputs": [],
      "source": [
        "# Check Metadata\n",
        "\n",
        "meta_df.head()"
      ],
      "id": "b7763464"
    },
    {
      "cell_type": "markdown",
      "metadata": {},
      "source": [
        "## Import Corpus"
      ],
      "id": "f6661840-5fec-4e51-a9cd-62effabab237"
    },
    {
      "cell_type": "code",
      "execution_count": 21,
      "metadata": {},
      "outputs": [],
      "source": [
        "# Set location of corpus folder\n",
        "\n",
        "fiction_folder = 'txtlab_Novel450_English/'"
      ],
      "id": "6bf8ac5a"
    },
    {
      "cell_type": "code",
      "execution_count": 22,
      "metadata": {},
      "outputs": [],
      "source": [
        "# Collect the text of each file in the 'fiction_folder' on the hard drive\n",
        "\n",
        "# Create empty list, each entry will be the string for a given novel\n",
        "novel_list = []\n",
        "\n",
        "# Iterate through filenames in 'fiction_folder'\n",
        "for filename in os.listdir(fiction_folder):\n",
        "    \n",
        "    # Read novel text as single string\n",
        "    with open(fiction_folder + filename, 'r', encoding = 'utf-8') as file_in:\n",
        "        this_novel = file_in.read()\n",
        "    \n",
        "    # Add novel text as single string to master list\n",
        "    novel_list.append(this_novel)"
      ],
      "id": "bacec39c"
    },
    {
      "cell_type": "code",
      "execution_count": 23,
      "metadata": {},
      "outputs": [],
      "source": [
        "# Inspect first item in novel_list\n",
        "\n",
        "novel_list[0][:500]"
      ],
      "id": "f96793a2"
    },
    {
      "cell_type": "markdown",
      "metadata": {},
      "source": [
        "## Pre-Processing\n",
        "\n",
        "Word2Vec learns about the relationships among words by observing them in\n",
        "context. This means that we want to split our texts into word-units.\n",
        "However, we want to maintain sentence boundaries as well, since the last\n",
        "word of the previous sentence might skew the meaning of the next\n",
        "sentence.\n",
        "\n",
        "Since novels were imported as single strings, we’ll first use\n",
        "<i>sent_tokenize</i> to divide them into sentences, and second, we’ll\n",
        "split each sentence into its own list of words."
      ],
      "id": "a504080c-d516-4367-b9c3-373d3dc6bdc1"
    },
    {
      "cell_type": "code",
      "execution_count": 24,
      "metadata": {},
      "outputs": [],
      "source": [
        "# Split each novel into sentences\n",
        "\n",
        "sentences = [sentence for novel in novel_list for sentence in sent_tokenize(novel)]"
      ],
      "id": "dd260b4b"
    },
    {
      "cell_type": "code",
      "execution_count": 25,
      "metadata": {},
      "outputs": [],
      "source": [
        "# Inspect first sentence\n",
        "\n",
        "sentences[0]"
      ],
      "id": "baee9053"
    },
    {
      "cell_type": "code",
      "execution_count": 26,
      "metadata": {},
      "outputs": [],
      "source": [
        "# Split each sentence into tokens\n",
        "\n",
        "words_by_sentence = [fast_tokenize(sentence) for sentence in sentences]"
      ],
      "id": "ddb2e3ff"
    },
    {
      "cell_type": "code",
      "execution_count": 27,
      "metadata": {},
      "outputs": [],
      "source": [
        "# Remove any sentences that contain zero tokens\n",
        "\n",
        "words_by_sentence = [sentence for sentence in words_by_sentence if sentence != []]"
      ],
      "id": "f0d71000"
    },
    {
      "cell_type": "code",
      "execution_count": 28,
      "metadata": {},
      "outputs": [],
      "source": [
        "# Inspect first sentence\n",
        "\n",
        "words_by_sentence[0]"
      ],
      "id": "e08e09a3"
    },
    {
      "cell_type": "markdown",
      "metadata": {},
      "source": [
        "# 2. Word2Vec\n",
        "\n",
        "### Word Embedding\n",
        "\n",
        "Word2Vec is the most prominent word embedding algorithm. Word embedding\n",
        "generally attempts to identify semantic relationships between words by\n",
        "observing them in context.\n",
        "\n",
        "Imagine that each word in a novel has its meaning determined by the ones\n",
        "that surround it in a limited window. For example, in Moby Dick’s first\n",
        "sentence, “me” is paired on either side by “Call” and “Ishmael.” After\n",
        "observing the windows around every word in the novel (or many novels),\n",
        "the computer will notice a pattern in which “me” falls between similar\n",
        "pairs of words to “her,” “him,” or “them.” Of course, the computer had\n",
        "gone through a similar process over the words “Call” and “Ishmael,” for\n",
        "which “me” is reciprocally part of their contexts. This chaining of\n",
        "signifiers to one another mirrors some of humanists’ most sophisticated\n",
        "interpretative frameworks of language.\n",
        "\n",
        "The two main flavors of Word2Vec are CBOW (Continuous Bag of Words) and\n",
        "Skip-Gram, which can be distinguished partly by their input and output\n",
        "during training. Skip-Gram takes a word of interest as its input\n",
        "(e.g. “me”) and tries to learn how to predict its context words\n",
        "(“Call”,“Ishmael”). CBOW does the opposite, taking the context words\n",
        "(“Call”,“Ishmael”) as a single input and tries to predict the word of\n",
        "interest (“me”).\n",
        "\n",
        "In general, CBOW is is faster and does well with frequent words, while\n",
        "Skip-Gram potentially represents rare words better.\n",
        "\n",
        "### Word2Vec Features"
      ],
      "id": "b182fcda-637f-4eae-bdcd-d2a63040cab7"
    },
    {
      "cell_type": "raw",
      "metadata": {
        "raw_mimetype": "text/html"
      },
      "source": [
        "<ul>"
      ],
      "id": "d341dadf-c622-4e27-b066-2cc6de719f7d"
    },
    {
      "cell_type": "raw",
      "metadata": {
        "raw_mimetype": "text/html"
      },
      "source": [
        "<li>"
      ],
      "id": "a87968a1-6210-458b-a61a-8d80ee78afa1"
    },
    {
      "cell_type": "markdown",
      "metadata": {},
      "source": [
        "Size: Number of dimensions for word embedding model"
      ],
      "id": "3597d969-8d8e-48db-a366-3c967abc4163"
    },
    {
      "cell_type": "raw",
      "metadata": {
        "raw_mimetype": "text/html"
      },
      "source": [
        "</li>"
      ],
      "id": "028ba0b8-24bc-4109-9e20-10a15353625d"
    },
    {
      "cell_type": "raw",
      "metadata": {
        "raw_mimetype": "text/html"
      },
      "source": [
        "<li>"
      ],
      "id": "2bce81f9-5752-4dfb-bd3a-9f5c75217af0"
    },
    {
      "cell_type": "markdown",
      "metadata": {},
      "source": [
        "Window: Number of context words to observe in each direction"
      ],
      "id": "0b0f7cf7-d185-44b4-8a24-b0ddb10bd75c"
    },
    {
      "cell_type": "raw",
      "metadata": {
        "raw_mimetype": "text/html"
      },
      "source": [
        "</li>"
      ],
      "id": "83173379-f862-419b-93f0-5bd7410c7bcc"
    },
    {
      "cell_type": "raw",
      "metadata": {
        "raw_mimetype": "text/html"
      },
      "source": [
        "<li>"
      ],
      "id": "f02a0ebe-0146-40e1-9df9-04005ed5e963"
    },
    {
      "cell_type": "markdown",
      "metadata": {},
      "source": [
        "min_count: Minimum frequency for words included in model"
      ],
      "id": "d2c67cf5-2533-496b-97c7-1f06eaf68e3f"
    },
    {
      "cell_type": "raw",
      "metadata": {
        "raw_mimetype": "text/html"
      },
      "source": [
        "</li>"
      ],
      "id": "8f2b17eb-3d49-450e-a4bd-e77c3f49fbc0"
    },
    {
      "cell_type": "raw",
      "metadata": {
        "raw_mimetype": "text/html"
      },
      "source": [
        "<li>"
      ],
      "id": "e4c27ea4-bed4-451e-bb67-10f70f14fd8a"
    },
    {
      "cell_type": "markdown",
      "metadata": {},
      "source": [
        "sg (Skip-Gram): ‘0’ indicates CBOW model; ‘1’ indicates Skip-Gram"
      ],
      "id": "536d4930-8dd2-4c70-a557-29735b6336e0"
    },
    {
      "cell_type": "raw",
      "metadata": {
        "raw_mimetype": "text/html"
      },
      "source": [
        "</li>"
      ],
      "id": "414a04e3-8fde-45b4-90d5-4805220caa28"
    },
    {
      "cell_type": "raw",
      "metadata": {
        "raw_mimetype": "text/html"
      },
      "source": [
        "<li>"
      ],
      "id": "9d60b5fb-16f1-44d3-b91b-9c2275be7ebf"
    },
    {
      "cell_type": "markdown",
      "metadata": {},
      "source": [
        "Alpha: Learning rate (initial); prevents model from over-correcting,\n",
        "enables finer tuning"
      ],
      "id": "fcefd3a7-6c4a-403b-8f11-7b23d47bf1d8"
    },
    {
      "cell_type": "raw",
      "metadata": {
        "raw_mimetype": "text/html"
      },
      "source": [
        "</li>"
      ],
      "id": "65ba27d0-ab0c-4b02-924a-ed637846d2bb"
    },
    {
      "cell_type": "raw",
      "metadata": {
        "raw_mimetype": "text/html"
      },
      "source": [
        "<li>"
      ],
      "id": "962db9b4-e98c-43c4-b712-31876f868fd5"
    },
    {
      "cell_type": "markdown",
      "metadata": {},
      "source": [
        "Iterations: Number of passes through dataset"
      ],
      "id": "4d3b344d-4d9c-4b16-a7b1-b20127f28c42"
    },
    {
      "cell_type": "raw",
      "metadata": {
        "raw_mimetype": "text/html"
      },
      "source": [
        "</li>"
      ],
      "id": "b37cb6d3-ff75-4e66-a87b-56f10f47d1bb"
    },
    {
      "cell_type": "raw",
      "metadata": {
        "raw_mimetype": "text/html"
      },
      "source": [
        "<li>"
      ],
      "id": "aa5bfe7c-5bb8-4709-9b39-12dc380e51f6"
    },
    {
      "cell_type": "markdown",
      "metadata": {},
      "source": [
        "Batch Size: Number of words to sample from data during each pass"
      ],
      "id": "bcdc3e66-90cd-4f59-bc7e-70057641ef2f"
    },
    {
      "cell_type": "raw",
      "metadata": {
        "raw_mimetype": "text/html"
      },
      "source": [
        "</li>"
      ],
      "id": "f244aaac-e77f-4e6a-8dc6-315af038ac51"
    },
    {
      "cell_type": "raw",
      "metadata": {
        "raw_mimetype": "text/html"
      },
      "source": [
        "</ul>"
      ],
      "id": "bbd947e3-c022-4f2a-a7b8-1f1b847a855f"
    },
    {
      "cell_type": "markdown",
      "metadata": {},
      "source": [
        "Note: Script uses default value for each argument\n",
        "\n",
        "## Training"
      ],
      "id": "92316cdf-1faf-4eb4-9bca-4fb672c34af0"
    },
    {
      "cell_type": "code",
      "execution_count": 29,
      "metadata": {},
      "outputs": [],
      "source": [
        "# Train word2vec model from txtLab corpus\n",
        "\n",
        "model = gensim.models.Word2Vec(words_by_sentence, vector_size=100, window=5, \\\n",
        "                               min_count=25, sg=1, alpha=0.025, epochs=5, batch_words=10000)"
      ],
      "id": "ac619764"
    },
    {
      "cell_type": "markdown",
      "metadata": {},
      "source": [
        "## Embeddings"
      ],
      "id": "acd8bf72-3dc6-4a1c-afee-d8998913f93a"
    },
    {
      "cell_type": "code",
      "execution_count": 30,
      "metadata": {},
      "outputs": [],
      "source": [
        "# Return dense word vector\n",
        "\n",
        "model.wv.get_vector('whale')"
      ],
      "id": "ababe304"
    },
    {
      "cell_type": "markdown",
      "metadata": {},
      "source": [
        "## Vector-Space Operations\n",
        "\n",
        "### Similarity\n",
        "\n",
        "Since words are represented as dense vectors, we can ask how similiar\n",
        "words’ meanings are based on their cosine similarity (essentially how\n",
        "much they overlap). <em>gensim</em> has a few out-of-the-box functions\n",
        "that enable different kinds of comparisons."
      ],
      "id": "cbe70cf6-b51c-4df1-a96b-6b77fe9066af"
    },
    {
      "cell_type": "code",
      "execution_count": 31,
      "metadata": {},
      "outputs": [],
      "source": [
        "# Find cosine distance between two given word vectors\n",
        "\n",
        "model.wv.similarity('pride','prejudice')"
      ],
      "id": "d314dff8"
    },
    {
      "cell_type": "code",
      "execution_count": 32,
      "metadata": {},
      "outputs": [],
      "source": [
        "# Find nearest word vectors by cosine distance\n",
        "\n",
        "model.wv.most_similar('pride')"
      ],
      "id": "7c7b4620"
    },
    {
      "cell_type": "code",
      "execution_count": 33,
      "metadata": {},
      "outputs": [],
      "source": [
        "# Given a list of words, we can ask which doesn't belong\n",
        "\n",
        "# Finds mean vector of words in list\n",
        "# and identifies the word further from that mean\n",
        "\n",
        "model.wv.doesnt_match(['pride','prejudice', 'whale'])"
      ],
      "id": "114d5bd5"
    },
    {
      "cell_type": "markdown",
      "metadata": {},
      "source": [
        "### Multiple Valences\n",
        "\n",
        "A word embedding may encode both primary and secondary meanings that are\n",
        "both present at the same time. In order to identify secondary meanings\n",
        "in a word, we can subtract the vectors of primary (or simply unwanted)\n",
        "meanings. For example, we may wish to remove the sense of <em>river\n",
        "bank</em> from the word <em>bank</em>. This would be written\n",
        "mathetmatically as <em>RIVER - BANK</em>, which in <em>gensim</em>’s\n",
        "interface lists <em>RIVER</em> as a positive meaning and <em>BANK</em>\n",
        "as a negative one."
      ],
      "id": "1f5e684e-5947-4f80-a0cf-f4f808ef22b8"
    },
    {
      "cell_type": "code",
      "execution_count": 34,
      "metadata": {},
      "outputs": [],
      "source": [
        "# Get most similar words to BANK, in order\n",
        "# to get a sense for its primary meaning\n",
        "\n",
        "model.wv.most_similar('bank')"
      ],
      "id": "5f0fc2e0"
    },
    {
      "cell_type": "code",
      "execution_count": 35,
      "metadata": {},
      "outputs": [],
      "source": [
        "# Remove the sense of \"river bank\" from \"bank\" and see what is left\n",
        "\n",
        "model.wv.most_similar(positive=['bank'], negative=['river'])"
      ],
      "id": "40294ef4"
    },
    {
      "cell_type": "markdown",
      "metadata": {},
      "source": [
        "### Analogy\n",
        "\n",
        "Analogies are rendered as simple mathematical operations in vector\n",
        "space. For example, the canonic word2vec analogy <em>MAN is to KING as\n",
        "WOMAN is to ??</em> is rendered as <em>KING - MAN + WOMAN</em>. In the\n",
        "gensim interface, we designate <em>KING</em> and <em>WOMAN</em> as\n",
        "positive terms and <em>MAN</em> as a negative term, since it is\n",
        "subtracted from those."
      ],
      "id": "1850ad76-212d-4da5-b5b8-0eb683b45718"
    },
    {
      "cell_type": "code",
      "execution_count": 36,
      "metadata": {},
      "outputs": [],
      "source": [
        "# Get most similar words to KING, in order\n",
        "# to get a sense for its primary meaning\n",
        "\n",
        "model.wv.most_similar('king')"
      ],
      "id": "0f60995a"
    },
    {
      "cell_type": "code",
      "execution_count": 37,
      "metadata": {},
      "outputs": [],
      "source": [
        "# The canonic word2vec analogy: King - Man + Woman -> Queen\n",
        "\n",
        "model.wv.most_similar(positive=['woman', 'king'], negative=['man'])"
      ],
      "id": "a70aec83"
    },
    {
      "cell_type": "markdown",
      "metadata": {},
      "source": [
        "### Gendered Vectors\n",
        "\n",
        "Can we find gender a la Schmidt (2015)? (Note that this method uses\n",
        "vector projection, whereas Schmidt had used rejection.)"
      ],
      "id": "f620e894-346c-4143-b0f9-344dc21cb8b3"
    },
    {
      "cell_type": "code",
      "execution_count": 38,
      "metadata": {},
      "outputs": [],
      "source": [
        "# Feminine Vector\n",
        "\n",
        "model.wv.most_similar(positive=['she','her','hers','herself'], negative=['he','him','his','himself'])"
      ],
      "id": "3374797e"
    },
    {
      "cell_type": "code",
      "execution_count": 39,
      "metadata": {},
      "outputs": [],
      "source": [
        "# Masculine Vector\n",
        "\n",
        "model.wv.most_similar(positive=['he','him','his','himself'], negative=['she','her','hers','herself'])"
      ],
      "id": "b9531fad"
    },
    {
      "cell_type": "markdown",
      "metadata": {},
      "source": [
        "## Visualization"
      ],
      "id": "ea9c9f1d-888b-42ad-8e56-ce23377b5990"
    },
    {
      "cell_type": "code",
      "execution_count": 40,
      "metadata": {},
      "outputs": [],
      "source": [
        "# Dictionary of words in model\n",
        "\n",
        "model.wv.key_to_index"
      ],
      "id": "2930dd3c"
    },
    {
      "cell_type": "code",
      "execution_count": 41,
      "metadata": {},
      "outputs": [],
      "source": [
        "# Visualizing the whole vocabulary would make it hard to read\n",
        "\n",
        "len(model.wv.key_to_index)"
      ],
      "id": "7e142390"
    },
    {
      "cell_type": "code",
      "execution_count": 42,
      "metadata": {},
      "outputs": [],
      "source": [
        "# For interpretability, we'll select words that already have a semantic relation\n",
        "\n",
        "her_tokens = [token for token,weight in model.wv.most_similar(positive=['she','her','hers','herself'], \\\n",
        "                                                       negative=['he','him','his','himself'], topn=50)]"
      ],
      "id": "51ce2728"
    },
    {
      "cell_type": "code",
      "execution_count": 43,
      "metadata": {},
      "outputs": [],
      "source": [
        "# Inspect list\n",
        "\n",
        "her_tokens[:15]"
      ],
      "id": "dbfc27cc"
    },
    {
      "cell_type": "code",
      "execution_count": 44,
      "metadata": {},
      "outputs": [],
      "source": [
        "# Get the vector for each sampled word\n",
        "\n",
        "vectors = [model.wv.get_vector(word) for word in her_tokens]  "
      ],
      "id": "abfcb2fd"
    },
    {
      "cell_type": "code",
      "execution_count": 45,
      "metadata": {},
      "outputs": [],
      "source": [
        "# Calculate distances among texts in vector space\n",
        "\n",
        "dist_matrix = pairwise.pairwise_distances(vectors, metric='cosine')"
      ],
      "id": "f23bbda5"
    },
    {
      "cell_type": "code",
      "execution_count": 46,
      "metadata": {},
      "outputs": [],
      "source": [
        "# Multi-Dimensional Scaling (Project vectors into 2-D)\n",
        "\n",
        "mds = MDS(n_components = 2, dissimilarity='precomputed')\n",
        "embeddings = mds.fit_transform(dist_matrix)"
      ],
      "id": "3d8fd168"
    },
    {
      "cell_type": "code",
      "execution_count": 47,
      "metadata": {},
      "outputs": [],
      "source": [
        "# Make a pretty graph\n",
        "\n",
        "_, ax = plt.subplots(figsize=(10,10))\n",
        "ax.scatter(embeddings[:,0], embeddings[:,1], alpha=0)\n",
        "for i in range(len(vectors)):\n",
        "    ax.annotate(her_tokens[i], ((embeddings[i,0], embeddings[i,1])))"
      ],
      "id": "b05e0837"
    },
    {
      "cell_type": "code",
      "execution_count": 48,
      "metadata": {},
      "outputs": [],
      "source": [
        "# For comparison, here is the same graph using a masculine-pronoun vector\n",
        "\n",
        "his_tokens = [token for token,weight in model.wv.most_similar(positive=['he','him','his','himself'], \\\n",
        "                                                       negative=['she','her','hers','herself'], topn=50)]\n",
        "vectors = [model.wv.get_vector(word) for word in his_tokens]\n",
        "dist_matrix = pairwise.pairwise_distances(vectors, metric='cosine')\n",
        "mds = MDS(n_components = 2, dissimilarity='precomputed')\n",
        "embeddings = mds.fit_transform(dist_matrix)\n",
        "_, ax = plt.subplots(figsize=(10,10))\n",
        "ax.scatter(embeddings[:,0], embeddings[:,1], alpha=0)\n",
        "for i in range(len(vectors)):\n",
        "    ax.annotate(his_tokens[i], ((embeddings[i,0], embeddings[i,1])))"
      ],
      "id": "e83da57e"
    },
    {
      "cell_type": "markdown",
      "metadata": {},
      "source": [
        "Q. What kinds of semantic relationships exist in the diagram above?\n",
        "\n",
        "Are there any words that seem out of place?\n",
        "\n",
        "# 3. Saving/Loading Models"
      ],
      "id": "e1c203c6-996f-48fa-af4b-ac28fb578b00"
    },
    {
      "cell_type": "code",
      "execution_count": 49,
      "metadata": {},
      "outputs": [],
      "source": [
        "# Save current model for later use\n",
        "\n",
        "model.wv.save_word2vec_format('resources/word2vec.txtlab_Novel150_English.txt')\n",
        "#model.save_word2vec_format('resources/word2vec.txtlab_Novel150_English.txt') # deprecated"
      ],
      "id": "b9c2bc9f"
    },
    {
      "cell_type": "code",
      "execution_count": 50,
      "metadata": {},
      "outputs": [],
      "source": [
        "# Load up models from disk\n",
        "\n",
        "# Model trained on Eighteenth Century Collections Online corpus (~2500 texts)\n",
        "# Made available by Ryan Heuser: http://ryanheuser.org/word-vectors-1/\n",
        "\n",
        "ecco_model = gensim.models.KeyedVectors.load_word2vec_format('resources/word2vec.ECCO-TCP.txt')\n",
        "#ecco_model = gensim.models.Word2Vec.load_word2vec_format('resources/word2vec.ECCO-TCP.txt') # deprecated"
      ],
      "id": "5bec6d47"
    },
    {
      "cell_type": "code",
      "execution_count": 51,
      "metadata": {},
      "outputs": [],
      "source": [
        "# What are similar words to BANK?\n",
        "\n",
        "ecco_model.most_similar('bank')"
      ],
      "id": "76f95f91"
    },
    {
      "cell_type": "code",
      "execution_count": 52,
      "metadata": {},
      "outputs": [],
      "source": [
        "# What if we remove the sense of \"river bank\"?\n",
        "\n",
        "ecco_model.most_similar(positive=['bank'], negative=['river'])"
      ],
      "id": "5db9dabb"
    },
    {
      "cell_type": "markdown",
      "metadata": {},
      "source": [
        "## Exercises!"
      ],
      "id": "6ab02feb-1f56-4114-81a8-63f5a288a443"
    },
    {
      "cell_type": "code",
      "execution_count": 53,
      "metadata": {},
      "outputs": [],
      "source": [
        "## EX. Use the most_similar method to find the tokens nearest to 'car' in either model.\n",
        "##     Do the same for 'motorcar'.\n",
        "\n",
        "## Q.  What characterizes these two words inthe corpus? Does this make sense?"
      ],
      "id": "71a361b4"
    },
    {
      "cell_type": "code",
      "execution_count": 54,
      "metadata": {},
      "outputs": [],
      "source": [
        "## EX. How does our model answer the analogy: MADRID is to SPAIN as PARIS is to __________\n",
        "\n",
        "## Q.  What has our model learned about nation-states?"
      ],
      "id": "c2605f5c"
    },
    {
      "cell_type": "code",
      "execution_count": 55,
      "metadata": {},
      "outputs": [],
      "source": [
        "## EX. Perform the canonic Word2Vec addition again but leave out a term:\n",
        "##     Try 'king' - 'man', 'woman' - 'man', 'woman' + 'king'\n",
        "\n",
        "## Q.  What do these indicate semantically?"
      ],
      "id": "4a7c8bba"
    },
    {
      "cell_type": "code",
      "execution_count": 56,
      "metadata": {},
      "outputs": [],
      "source": [
        "## EX. Heuser's blog post explores an analogy in eighteenth-century thought that\n",
        "##     RICHES are to VIRTUE what LEARNING is to GENIUS. How true is this in\n",
        "##     the ECCO-trained Word2Vec model? Is it true in the one we trained?\n",
        "\n",
        "##  Q. How might we compare word2vec models more generally?"
      ],
      "id": "2cabd263"
    },
    {
      "cell_type": "code",
      "execution_count": 57,
      "metadata": {},
      "outputs": [],
      "source": [
        "# ECCO model: RICHES are to VIRTUE what LEARNING is to ??"
      ],
      "id": "cf53a6c6"
    },
    {
      "cell_type": "code",
      "execution_count": 58,
      "metadata": {},
      "outputs": [],
      "source": [
        "# txtLab model: RICHES are to VIRTUE what LEARNING is to ??"
      ],
      "id": "8c6dbbf4"
    },
    {
      "cell_type": "markdown",
      "metadata": {},
      "source": [
        "# 4. Open Questions\n",
        "\n",
        "At this point, we have seen a number of mathemetical operations that we\n",
        "may use to explore word2vec’s word embeddings. These enable us to answer\n",
        "a set of new, interesting questions dealing with semantics, yet there\n",
        "are many other questions that remain unanswered.\n",
        "\n",
        "For example:"
      ],
      "id": "e49847ac-72c4-49fb-a686-76f91d526b61"
    },
    {
      "cell_type": "raw",
      "metadata": {
        "raw_mimetype": "text/html"
      },
      "source": [
        "<ol>"
      ],
      "id": "e302302b-3531-48f0-b872-84fae3f73c22"
    },
    {
      "cell_type": "raw",
      "metadata": {
        "raw_mimetype": "text/html"
      },
      "source": [
        "<li>"
      ],
      "id": "f728d974-08de-4df8-b552-e492e38438ae"
    },
    {
      "cell_type": "markdown",
      "metadata": {},
      "source": [
        "How to compare word usages in different texts (within the same model)?"
      ],
      "id": "cee28b79-33f3-44ae-8a8f-dae5c94544b3"
    },
    {
      "cell_type": "raw",
      "metadata": {
        "raw_mimetype": "text/html"
      },
      "source": [
        "</li>"
      ],
      "id": "54252a3f-6c81-4a5d-96c0-f2e14ebe6a47"
    },
    {
      "cell_type": "raw",
      "metadata": {
        "raw_mimetype": "text/html"
      },
      "source": [
        "<li>"
      ],
      "id": "5b62c0dc-dda8-4f74-bfb7-09f67ebfd854"
    },
    {
      "cell_type": "markdown",
      "metadata": {},
      "source": [
        "How to compare word meanings in different models? compare whole models?"
      ],
      "id": "0b34f53a-687b-41f4-896e-9df0e0f8d384"
    },
    {
      "cell_type": "raw",
      "metadata": {
        "raw_mimetype": "text/html"
      },
      "source": [
        "</li>"
      ],
      "id": "3656ae63-f0b6-46ed-afaa-3e9384027295"
    },
    {
      "cell_type": "raw",
      "metadata": {
        "raw_mimetype": "text/html"
      },
      "source": [
        "<li>"
      ],
      "id": "3a31ca1a-3cc2-48a0-a672-26ec9732221a"
    },
    {
      "cell_type": "markdown",
      "metadata": {},
      "source": [
        "What about the space “in between” words?"
      ],
      "id": "21d49b53-9b8d-4ef1-a111-41fd6fafeda4"
    },
    {
      "cell_type": "raw",
      "metadata": {
        "raw_mimetype": "text/html"
      },
      "source": [
        "</li>"
      ],
      "id": "a0579aef-9d47-48b5-ba66-eeab56f699b4"
    },
    {
      "cell_type": "raw",
      "metadata": {
        "raw_mimetype": "text/html"
      },
      "source": [
        "<li>"
      ],
      "id": "d8d35634-4f55-4420-a16a-348307ca9248"
    },
    {
      "cell_type": "markdown",
      "metadata": {},
      "source": [
        "Do we agree with the Distributional Hypothesis that words with the same\n",
        "contexts share their meanings?"
      ],
      "id": "1b5a6bd5-ae11-49c7-99a1-f524a6aa6cb3"
    },
    {
      "cell_type": "raw",
      "metadata": {
        "raw_mimetype": "text/html"
      },
      "source": [
        "</li>"
      ],
      "id": "cd09a069-3555-401b-9bcc-df38842a5f67"
    },
    {
      "cell_type": "raw",
      "metadata": {
        "raw_mimetype": "text/html"
      },
      "source": [
        "<ol>"
      ],
      "id": "572f2434-d8a6-4ede-8a17-80f99d668435"
    },
    {
      "cell_type": "raw",
      "metadata": {
        "raw_mimetype": "text/html"
      },
      "source": [
        "<li>"
      ],
      "id": "46c5e133-3f7c-48bb-aefb-35a84bf10170"
    },
    {
      "cell_type": "markdown",
      "metadata": {},
      "source": [
        "If not, then what information do we think is encoded in a word’s\n",
        "context?"
      ],
      "id": "9263faed-a46e-4d4c-95ff-e1ca4eb4b439"
    },
    {
      "cell_type": "raw",
      "metadata": {
        "raw_mimetype": "text/html"
      },
      "source": [
        "</li>"
      ],
      "id": "7d1ef28e-35cd-4274-99f8-838dc70489e8"
    },
    {
      "cell_type": "raw",
      "metadata": {
        "raw_mimetype": "text/html"
      },
      "source": [
        "</ol>"
      ],
      "id": "3beee2f1-beee-4135-b042-303e812fdcfe"
    },
    {
      "cell_type": "raw",
      "metadata": {
        "raw_mimetype": "text/html"
      },
      "source": [
        "<li>"
      ],
      "id": "40e298ef-1bec-44aa-8584-1f3e99d9e927"
    },
    {
      "cell_type": "markdown",
      "metadata": {},
      "source": [
        "What good, humanistic research questions do analogies shed light on?"
      ],
      "id": "6ab9ba89-ccdd-4847-b524-cabffab273d7"
    },
    {
      "cell_type": "raw",
      "metadata": {
        "raw_mimetype": "text/html"
      },
      "source": [
        "</li>"
      ],
      "id": "1257445a-bde3-426f-ba1e-78c908b00fac"
    },
    {
      "cell_type": "raw",
      "metadata": {
        "raw_mimetype": "text/html"
      },
      "source": [
        "<ol>"
      ],
      "id": "3ab150c1-d00b-4337-b7a1-1572dfde19f2"
    },
    {
      "cell_type": "raw",
      "metadata": {
        "raw_mimetype": "text/html"
      },
      "source": [
        "<li>"
      ],
      "id": "33724902-9aaa-44a5-9467-10e2d6b6c76d"
    },
    {
      "cell_type": "markdown",
      "metadata": {},
      "source": [
        "shades of meaning?"
      ],
      "id": "58b8b4c6-6c4b-46bb-aa7a-31598f5a205c"
    },
    {
      "cell_type": "raw",
      "metadata": {
        "raw_mimetype": "text/html"
      },
      "source": [
        "</li>"
      ],
      "id": "4e832917-6381-42d5-9d67-23ebb565c338"
    },
    {
      "cell_type": "raw",
      "metadata": {
        "raw_mimetype": "text/html"
      },
      "source": [
        "<li>"
      ],
      "id": "f1ea9c37-85ba-4d14-870b-cb00edf242ae"
    },
    {
      "cell_type": "markdown",
      "metadata": {},
      "source": [
        "context similarity?"
      ],
      "id": "f0ccd82c-c7ed-407d-b836-09e942a2967c"
    },
    {
      "cell_type": "raw",
      "metadata": {
        "raw_mimetype": "text/html"
      },
      "source": [
        "</li>"
      ],
      "id": "1640f951-0f50-4549-8cce-782b9144aae5"
    },
    {
      "cell_type": "raw",
      "metadata": {
        "raw_mimetype": "text/html"
      },
      "source": [
        "</ol>"
      ],
      "id": "d4b737e7-b7e3-4420-b0c0-d6ac25afa049"
    },
    {
      "cell_type": "raw",
      "metadata": {
        "raw_mimetype": "text/html"
      },
      "source": [
        "</ol>"
      ],
      "id": "baa1cd12-ca07-4fbc-ad10-db3d82574eb8"
    }
  ],
  "nbformat": 4,
  "nbformat_minor": 5,
  "metadata": {
    "kernelspec": {
      "name": "python3",
      "display_name": "Python 3 (ipykernel)",
      "language": "python",
      "path": "/usr/local/share/jupyter/kernels/python3"
    },
    "language_info": {
      "name": "python",
      "codemirror_mode": {
        "name": "ipython",
        "version": "3"
      },
      "file_extension": ".py",
      "mimetype": "text/x-python",
      "nbconvert_exporter": "python",
      "pygments_lexer": "ipython3",
      "version": "3.10.12"
    }
  }
}