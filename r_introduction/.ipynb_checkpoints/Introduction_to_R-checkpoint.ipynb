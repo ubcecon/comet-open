{
 "cells": [
  {
   "cell_type": "code",
   "execution_count": 1,
   "id": "3648373b-f3dd-44ef-bf04-0f556f9cfa53",
   "metadata": {},
   "outputs": [],
   "source": [
    "library(digest)"
   ]
  },
  {
   "cell_type": "markdown",
   "id": "557e0221-3a03-4715-af9a-9c241fd9e82b",
   "metadata": {
    "pycharm": {
     "name": "#%% md\n"
    },
    "tags": []
   },
   "source": [
    "# ECON 325: Introduction to R"
   ]
  },
  {
   "cell_type": "markdown",
   "id": "5ceafe8b-1b11-4ea6-a9fe-7f15cbb45e9f",
   "metadata": {
    "pycharm": {
     "name": "#%% md\n"
    },
    "tags": []
   },
   "source": [
    "### Authors"
   ]
  },
  {
   "cell_type": "markdown",
   "id": "dfb5087f-bdf3-4033-abe2-86307110b25d",
   "metadata": {
    "pycharm": {
     "name": "#%% md\n"
    }
   },
   "source": [
    "- Colby Chambers (Reviewer)\n",
    "- Anneke Dresselhuis (Reviewer)\n",
    "- Oliver Xu (Developer)\n",
    "- Jonathan Graves (Reviewer)"
   ]
  },
  {
   "cell_type": "markdown",
   "id": "5c907930-300a-415d-9f61-959d0f59a130",
   "metadata": {
    "pycharm": {
     "name": "#%% md\n"
    }
   },
   "source": [
    "### Prerequisites: \n",
    "* Introduction to Jupyter"
   ]
  },
  {
   "cell_type": "markdown",
   "id": "7722e057-f2b8-42c5-9ba9-7b1d9097925b",
   "metadata": {
    "pycharm": {
     "name": "#%% md\n"
    }
   },
   "source": [
    "### Learning Objectives"
   ]
  },
  {
   "cell_type": "markdown",
   "id": "8b699a7a-a68b-4cd4-817e-8fb2767ad179",
   "metadata": {
    "pycharm": {
     "name": "#%% md\n"
    }
   },
   "source": [
    "- Understand variables, functions and objects in R\n",
    "- Import and load data into Jupyter Notebook\n",
    "- Access and perform manipulations of this data"
   ]
  },
  {
   "cell_type": "code",
   "execution_count": 2,
   "id": "a57109d8-7781-444f-8539-67f2d5840a2c",
   "metadata": {
    "pycharm": {
     "name": "#%%\n"
    }
   },
   "outputs": [],
   "source": [
    "# Run this cell\n",
    "\n",
    "source(\"intro_to_r_tests.r\")"
   ]
  },
  {
   "cell_type": "markdown",
   "id": "a0c1c001-970c-4b72-8d40-0f6a46d5cbfd",
   "metadata": {
    "pycharm": {
     "name": "#%% md\n"
    }
   },
   "source": [
    "# Part 1: Basics of Using R\n",
    "\n",
    "In this notebook, we will introducing **R**, which is a programming language which is particularly well-suited for statistics, econometrics, and data science.  If you are familiar with other programming languages, such as Python, this will likely be very familiar - if this is your first time, don't be intimidated!  Try to play around with the examples and exercises as you work through this notebook; it's easiest to learn R (or any programming language) by playing around with it."
   ]
  },
  {
   "cell_type": "markdown",
   "id": "e60700e2-e3c7-4450-8251-6b1b42c13136",
   "metadata": {
    "pycharm": {
     "name": "#%% md\n"
    }
   },
   "source": [
    "## Basic Data Types\n",
    "\n",
    "To begin, it's important to get a good grasp of the different **data types** in R and how to use them.  Whenever with work with R, we will be manipulating different kinds of information, which is referred to as \"data\".  Data comes in many different forms, which define how we can use it in calculations or visualizations - these are called _types_ in R.\n",
    "\n",
    "R has 6 basic data types. Data types are used to store information about a variable or object in R:\n",
    "\n",
    "1. **Character**: data in text format, like \"word\" or \"abc\"\n",
    "2. **Numeric** (real or decimal): data in real number format, like 6, or 18.8 (referred to as **Double** in R)\n",
    "3. **Integer**:  data in an whole number (integer) format, like 2L (the L tells R to store this as an integer)\n",
    "4. **Logical**: truth values, like TRUE, FALSE\n",
    "5. **Complex**: data in complex (i.e. imaginary) format, like 1+6i (where $i$ is the $\\sqrt{-1}$)\n",
    "6. **Raw**: an unusual data type which we will not cover in this section\n",
    "\n",
    "If we are ever wondering what kind of type an object in R has, or what its properties are, we can use the following two functions, which allow us to examine the data type and elements contained within an object:\n",
    "\n",
    "* `typeof()`: this function returns a character string that corresponds to the data type of an object \n",
    "* `str()`: this function displays a compact internal structure of an R object \n",
    "\n",
    "We will see some examples of these in just a moment."
   ]
  },
  {
   "cell_type": "markdown",
   "id": "0c91750e-920a-4aec-9359-ad062132a3e0",
   "metadata": {
    "pycharm": {
     "name": "#%% md\n"
    }
   },
   "source": [
    "## Data Structures\n",
    "\n",
    "Basic data is fine, but we often need to store data in more complex forms.  Data can also be stored in different structures in R beyond basic data types. Data structures in R programming are more complicated, as they are tools for holding multiple values. However, some of them are very important, and are worth discussing here. \n",
    "\n",
    "* **Vectors**: a vector of values, like $(1,3,5,7)$\n",
    "* **Matrices**: a matrix of values, like $[1,2; 3,4]$ (usually displayed as a square)\n",
    "* **Lists**: a list of elements, like $($pet = \"cat, \"dog\", \"mouse\"$)$, with named properties\n",
    "* **Dataframe**: a collection of vectors or lists, organized into rows and columns according to observations.\n",
    "\n",
    "Note that vectors don't need to be numeric!  You can also use some useful built-in functions to create data structures (we don't have to create our own functions to do so).\n",
    "\n",
    "* `c()`: this function combines values into a vector\n",
    "* `matrix()`: this function creates a matrix from a given set of values\n",
    "* `list()`: this function creates a list from a given set of values\n",
    "* `data.frame()`: this function creates a data frame from a given set of lists or vectors\n",
    "\n",
    "Okay, enough background - lets see this in action!"
   ]
  },
  {
   "cell_type": "markdown",
   "id": "8c331f2f-c06d-4570-8707-c7ccc2a723eb",
   "metadata": {
    "pycharm": {
     "name": "#%% md\n"
    }
   },
   "source": [
    "### Working with Vectors\n",
    "\n",
    "Vectors are important, and we can work with them by creating them from values or other elements, using the `c()` function:"
   ]
  },
  {
   "cell_type": "code",
   "execution_count": null,
   "id": "bf06db07-d6fe-40ba-877f-fa9889aa35f2",
   "metadata": {
    "pycharm": {
     "name": "#%%\n"
    }
   },
   "outputs": [],
   "source": [
    "# generates a vector containing values\n",
    "z <- c(1, 2, 3)\n",
    "\n",
    "# generates a vector containing characters\n",
    "countries <- c(\"Canada\", \"Japan\", \"United Kingdom\")"
   ]
  },
  {
   "cell_type": "markdown",
   "id": "c6ae4ca7-057f-4a8b-8400-138ee72a1b3a",
   "metadata": {
    "pycharm": {
     "name": "#%% md\n"
    }
   },
   "source": [
    "We can also **access** the elements of the vector.  Since a vector is made of basic data, we can get those elements using the `[ ]` index notation.  This is very similar to how in mathematical notation we refer to elements of a vector.\n",
    "\n",
    "> ***Note***: if you're familiar with other programming languages, it's important to note that R is 1-indexed.  So, the first element of a vector is 1, not 0.  Keep this in mind!"
   ]
  },
  {
   "cell_type": "code",
   "execution_count": null,
   "id": "4021818f-1c56-4f66-a97b-d89bfb7ee130",
   "metadata": {
    "pycharm": {
     "name": "#%%\n"
    }
   },
   "outputs": [],
   "source": [
    "# If we want to access specific parts of the vector:\n",
    "\n",
    "# the 2nd component of z\n",
    "z[2]\n",
    "\n",
    "# the 2nd component of countries\n",
    "countries[2]"
   ]
  },
  {
   "cell_type": "markdown",
   "id": "34c01af4-1ad2-4cea-874c-9edc6e4343a9",
   "metadata": {
    "pycharm": {
     "name": "#%% md\n"
    }
   },
   "source": [
    "As mentioned above, we can use the `typeof()` and `str()` functions to glimpse the kind of data stored in our objects. \n",
    "Run the cell below to see how this works:"
   ]
  },
  {
   "cell_type": "code",
   "execution_count": null,
   "id": "9e4b588f-3127-45d3-8aa4-612a9c0fd022",
   "metadata": {
    "pycharm": {
     "name": "#%%\n"
    }
   },
   "outputs": [],
   "source": [
    "# view the data type of countries\n",
    "typeof(countries)\n",
    "\n",
    "# view the data structure of countries\n",
    "str(countries)\n",
    "\n",
    "# view the data type of z\n",
    "typeof(z)\n",
    "\n",
    "# view the data structure of z\n",
    "str(z)"
   ]
  },
  {
   "cell_type": "markdown",
   "id": "d4bb64fc-dc27-46a1-8f12-335e7136f1d7",
   "metadata": {
    "pycharm": {
     "name": "#%% md\n"
    }
   },
   "source": [
    "The output of `str(countries)` begins by acknowledging that the contained data is of a character (chr) type. The information contained in the `[1:3]` first refers to the component number (there is only 1 component list here) and then the number of observations (the 3 countries)."
   ]
  },
  {
   "cell_type": "markdown",
   "id": "6b0ce2f2-e115-4fbb-b8f3-621921bbf93d",
   "metadata": {},
   "source": [
    "## Self Test: Vectors\n",
    "\n",
    "In this exercise:\n",
    "\n",
    "1. Generate an object `vect` which is a vector, which contains the numbers from 10 to 15. Hint you can use the `seq()` function in R to generate a sequence. \n",
    "2. Extract the 4th element of `vect` and store it in the object `answer1`"
   ]
  },
  {
   "cell_type": "code",
   "execution_count": 3,
   "id": "b04aec6c-209f-4e6c-b586-a2770b3c2f2e",
   "metadata": {},
   "outputs": [
    {
     "name": "stdout",
     "output_type": "stream",
     "text": [
      "\u001b[32mTest passed\u001b[39m 🌈\n",
      "[1] \"Success!\"\n"
     ]
    }
   ],
   "source": [
    "vect <- c(seq(from = 10, to = 15))\n",
    "\n",
    "answer1 <- vect[4]\n",
    "\n",
    "test_1()"
   ]
  },
  {
   "cell_type": "markdown",
   "id": "81106e5a-4eab-4611-b880-d36b00b04d59",
   "metadata": {
    "pycharm": {
     "name": "#%% md\n"
    }
   },
   "source": [
    "### Working with Matrices\n",
    "\n",
    "Just like vectors, we can also create matrices; you can think of them as organized collections of rows (or columns), which are vectors.  They're a little bit more complicated to create manually, since you need to use a more complex function.\n",
    "\n",
    "The simplest way is just to provide a vector of all the values, then tell R how the matrix is organized; R will then fill in the values:"
   ]
  },
  {
   "cell_type": "code",
   "execution_count": null,
   "id": "b01cba0a-541d-42ae-b027-6837dc0fabea",
   "metadata": {
    "pycharm": {
     "name": "#%%\n"
    }
   },
   "outputs": [],
   "source": [
    "# generates a 2 x 2 matrix\n",
    "m <- matrix(c(2,3,6,7,7,3), nrow=2,ncol=3)\n",
    "\n",
    "print(m)"
   ]
  },
  {
   "cell_type": "markdown",
   "id": "5a3ada6e-d071-4b23-b3e0-42597c8bebf8",
   "metadata": {
    "pycharm": {
     "name": "#%% md\n"
    }
   },
   "source": [
    "Take note of the order in which the values are filled it; it might be unexpected!\n",
    "\n",
    "Just like with vectors, we can also access parts of the matrix.  If you look at the cell output above, you will see some notation like `[1,]` or `[,2]`.  These are the _rows_ and _columns_ of the matrix.  We can refer to them using this notation.  We can also refer to elements using `[1,2]`.  Again, this is very similar to the mathematical notation for matrices."
   ]
  },
  {
   "cell_type": "code",
   "execution_count": null,
   "id": "b0f26c6a-59f8-4234-b47a-fddd7dfd1521",
   "metadata": {
    "pycharm": {
     "name": "#%%\n"
    }
   },
   "outputs": [],
   "source": [
    "# If we want to access specific parts of the matrix:\n",
    "\n",
    "# 2th column of matrix\n",
    "m[,2]     \n",
    "\n",
    "# 1st row of matrix\n",
    "m[1,]  \n",
    "\n",
    "#Element in row 1, column 2\n",
    "\n",
    "m[1,2]\n"
   ]
  },
  {
   "cell_type": "markdown",
   "id": "182bc22a-47d7-4f4a-9ea3-d8f8c2029ee3",
   "metadata": {
    "pycharm": {
     "name": "#%% md\n"
    }
   },
   "source": [
    "As with vectors, we can also observe and inspect the data structures of matrices using the helper function above."
   ]
  },
  {
   "cell_type": "code",
   "execution_count": null,
   "id": "36543f3b-ef67-4d62-9324-2c7b47b2f50e",
   "metadata": {
    "pycharm": {
     "name": "#%%\n"
    }
   },
   "outputs": [],
   "source": [
    "# what type is m?\n",
    "\n",
    "typeof(m)\n",
    "\n",
    "# glimpse data structure of m\n",
    "str(m)"
   ]
  },
  {
   "cell_type": "markdown",
   "id": "7b6d79ec-37d6-4f04-824e-853e5370e36e",
   "metadata": {
    "pycharm": {
     "name": "#%% md\n"
    }
   },
   "source": [
    "The output of `str(m)` begins by displaying that the data in the matrix is of an numeric (num) type. The `[1:2, 1:3]` shows the structre of the rows and columns.  The final part displays the values in the matrix."
   ]
  },
  {
   "cell_type": "markdown",
   "id": "d0203c17-f926-4150-980b-c355e46b3ce5",
   "metadata": {},
   "source": [
    "## Self Test: Matricies\n",
    "\n",
    "In this exercise:\n",
    "\n",
    "1. Create an object names `mat` which is a matrix with 2 rows and 2 columns. The first column will take on values 1,2, while the second column will take values 3,4.\n",
    "2. Extract the first row, second column from `mat` and store it in the object `answer2`"
   ]
  },
  {
   "cell_type": "code",
   "execution_count": 4,
   "id": "e7f3bfe2-74df-46e1-b379-20eb37b84255",
   "metadata": {},
   "outputs": [
    {
     "name": "stdout",
     "output_type": "stream",
     "text": [
      "\u001b[32mTest passed\u001b[39m 😀\n",
      "[1] \"Success!\"\n"
     ]
    }
   ],
   "source": [
    "mat <- matrix(c(1,2,3,4), nrow=2,ncol=2)\n",
    "answer2 <- mat[1,2]\n",
    "\n",
    "test_2()"
   ]
  },
  {
   "cell_type": "markdown",
   "id": "3c2189d6-13c9-4fc3-933d-ebb09f185d63",
   "metadata": {
    "pycharm": {
     "name": "#%% md\n"
    }
   },
   "source": [
    "### Working with Lists\n",
    "\n",
    "Lists are a little bit more complex, because they can store many different data types and objects, each of which can be given _names_ which are specific ways to refer to these objects.  Names can be any useful descriptive term for an element of the list.  You can think of lists like flexible vectors with names."
   ]
  },
  {
   "cell_type": "code",
   "execution_count": null,
   "id": "72215aa8-b042-4452-a89a-4bf01505d157",
   "metadata": {
    "pycharm": {
     "name": "#%%\n"
    }
   },
   "outputs": [],
   "source": [
    "# generates a list with 3 components named \"text\" \"a_vector\" and \"a_matrix\"\n",
    "my_list <- list(text=\"test\", a_vector = z, a_matrix = m) "
   ]
  },
  {
   "cell_type": "markdown",
   "id": "be1d46e8-2c15-4a3a-a1db-bbfd73ad8d15",
   "metadata": {
    "pycharm": {
     "name": "#%% md\n"
    }
   },
   "source": [
    "We can access elements of the list using the `[ ]` or `[[ ]]` operations.  There is a difference:\n",
    "\n",
    "* `[ ]` accesses the _elements of the list_ which is the name and object\n",
    "* `[[ ]]` accesses the _object_ directly\n",
    "\n",
    "We usually want to use `[[ ]]` when working with data stored in lists.  One very nice feature is that you can refer to elements of a list by number (like a vector) or by their name."
   ]
  },
  {
   "cell_type": "code",
   "execution_count": null,
   "id": "75a84e5d-eec4-4788-8f02-3f2d77c2600a",
   "metadata": {
    "pycharm": {
     "name": "#%%\n"
    }
   },
   "outputs": [],
   "source": [
    "# If we want to access specific parts of the list:\n",
    "\n",
    "# 1st component in list\n",
    "my_list[[1]] \n",
    "\n",
    "#1st component in list by name (text)\n",
    "my_list[[\"text\"]]\n",
    "\n",
    "# 1st part of the list (note the brackets)\n",
    "my_list[1] \n",
    "\n",
    "# glimpse data type of my_list\n",
    "typeof(my_list)"
   ]
  },
  {
   "cell_type": "markdown",
   "id": "69ff4bd8-2844-45b4-8a12-f79dacadf6c1",
   "metadata": {
    "pycharm": {
     "name": "#%% md\n"
    }
   },
   "source": [
    "There is one final way to access elements of a list by name: using the `$` or **access** operator.  This works basically like `[[name]]` but is more transparent when writing code.  You put the object you want to access, followed by the operator, followed by the property:"
   ]
  },
  {
   "cell_type": "code",
   "execution_count": null,
   "id": "405eae47-1f51-4493-bba8-ca5b4671134a",
   "metadata": {
    "pycharm": {
     "name": "#%%\n"
    }
   },
   "outputs": [],
   "source": [
    "# get the named property \"text\"\n",
    "my_list$text\n",
    "\n",
    "#get the name property\n",
    "my_list$a_matrix"
   ]
  },
  {
   "cell_type": "markdown",
   "id": "8003fd9e-eccf-4474-9264-f97956c25c72",
   "metadata": {
    "pycharm": {
     "name": "#%% md\n"
    }
   },
   "source": [
    "You will notice that this _only_ works for named object - which is particularly conventient for dataframes, which we will discuss next."
   ]
  },
  {
   "cell_type": "markdown",
   "id": "4c21d3eb-3479-4f80-8fdb-e89d4c665265",
   "metadata": {},
   "source": [
    "## Self Test: Lists\n",
    "\n",
    "In this exercise, we will need to:\n",
    "\n",
    "1. Create an object named `list_a`, which is a list with 2 components, a string \"Hello World\", and a vector with values 1 through 10.\n",
    "2. Extract the second component, and store it in the object `answer3`"
   ]
  },
  {
   "cell_type": "code",
   "execution_count": 5,
   "id": "c50a7a24-646b-4ee6-bf17-7a71d7657686",
   "metadata": {},
   "outputs": [
    {
     "name": "stdout",
     "output_type": "stream",
     "text": [
      "\u001b[32mTest passed\u001b[39m 🎊\n",
      "[1] \"Success!\"\n"
     ]
    }
   ],
   "source": [
    "list_a <- list(World = \"Hello World\", Range = c(seq(from = 1,to = 10)))\n",
    "\n",
    "answer3 <- list_a[[2]]\n",
    "\n",
    "test_3()"
   ]
  },
  {
   "cell_type": "markdown",
   "id": "c31fcc36-0b98-4976-9994-85fc794a714d",
   "metadata": {
    "pycharm": {
     "name": "#%% md\n"
    }
   },
   "source": [
    "### Working with Dataframes"
   ]
  },
  {
   "cell_type": "markdown",
   "id": "36827694-10bc-4957-b4c9-a96fea04b11b",
   "metadata": {
    "pycharm": {
     "name": "#%% md\n"
    }
   },
   "source": [
    "Dataframes are the most complex object you will work with in this course, but also the most important.  They represent data - like the kind of data we would use in econometrics.  In this course, we will primarily focus on _tidy_ data, which refers to data in which the columns represent variables, and the rows represent observations.  In terms of R, you can think of data-frames as a combination of a matrix and a list.\n",
    "\n",
    "We can access columns (variables) using their names, or their ordering"
   ]
  },
  {
   "cell_type": "code",
   "execution_count": null,
   "id": "96ad635e-59a8-4148-8580-d7b2250eb5e2",
   "metadata": {
    "pycharm": {
     "name": "#%%\n"
    }
   },
   "outputs": [],
   "source": [
    "# generates a dataframe with 2 columns and 3 rows\n",
    "df <- data.frame(ID=c(1:3),\n",
    "                 Country=countries)\n",
    "\n",
    "# If we want access specific parts of the dataframe:\n",
    "\n",
    "# 2nd column in dataframe\n",
    "df[2] \n",
    "\n",
    "df$Country\n",
    "\n",
    "# glimpse compact data structure of df\n",
    "str(df)"
   ]
  },
  {
   "cell_type": "markdown",
   "id": "7b951953-8e91-4008-a039-9b67d3ecacc4",
   "metadata": {
    "pycharm": {
     "name": "#%% md\n"
    }
   },
   "source": [
    "Notice that the `str(df)` command shows us what the names of the columns are in this dataset, and how we can access them."
   ]
  },
  {
   "cell_type": "markdown",
   "id": "0fcfb2f9-dbfb-443c-b71c-d8ba8c12a65e",
   "metadata": {},
   "source": [
    "## Self Test: Dataframes\n",
    "\n",
    "In this exercise:\n",
    "\n",
    "1. Create an object `df` which is a dataframe with two columns and two rows. The first column `var1` will take on values c(1,2). The second column `var2` will take on values c(\"A\", \"B\"). \n",
    "2. Extract the column `var1`, take the mean, rounded to the nearest 2 decimal places, and store it in the object `answer4`"
   ]
  },
  {
   "cell_type": "code",
   "execution_count": 6,
   "id": "831c2082-3f0e-48b1-80d5-8c5a54a3b7bf",
   "metadata": {},
   "outputs": [
    {
     "name": "stdout",
     "output_type": "stream",
     "text": [
      "\u001b[32mTest passed\u001b[39m 🥳\n",
      "[1] \"Success!\"\n"
     ]
    }
   ],
   "source": [
    "df <- data.frame(var1=c(1,2),var2=c(\"A\",\"B\"))\n",
    "answer4 <- round(mean(df$var1), digits = 2)\n",
    "\n",
    "\n",
    "test_4()"
   ]
  },
  {
   "cell_type": "markdown",
   "id": "04cfa560-0f80-491d-8c64-c28839224cf9",
   "metadata": {
    "pycharm": {
     "name": "#%% md\n"
    }
   },
   "source": [
    "## Objects and Variables"
   ]
  },
  {
   "cell_type": "markdown",
   "id": "f4a36873-cc54-480d-bc8d-d5355703a6b6",
   "metadata": {
    "pycharm": {
     "name": "#%% md\n"
    }
   },
   "source": [
    "At this point, you are familiar with some of the different types of data in R and how they work.  However, let's understand how we can work with them in more detail by writing R code.   A **variable** or **object** is a name assigned to a memory location in the R workspace (working memory). For now we can use the terms variable and object interchangeably. An object will always have an associated type, determined by the information assigned to it. Clear and concise object assignment is essential for **reproducible data analysis**, as mentioned in the module Intro to Jupyter.\n",
    "\n",
    "When it comes to code, we can assign information (stored in a specific data type) to variables and objects using the **assignment operator** `<-`. Using the assignment operator, the information on the right-hand side is assigned to the variable/object on the left-hand side; we've seen this before, in some of the examples earlier.\n",
    "\n",
    "In the example [2] below, `\"Hello\"` has been assigned to the object `var_1`. `\"Hello\"` will be stored in the R workspace as an object named `\"var_1\"`.\n",
    "\n",
    "> **Important Note**: R is case sensitive. When referring to an object, it must _exactly_ match the assignment.  `Var_1` is not the same as `var_1` or `var1`"
   ]
  },
  {
   "cell_type": "code",
   "execution_count": null,
   "id": "6d340cab-969a-4fce-9dcc-f7d4f4584ff5",
   "metadata": {
    "pycharm": {
     "name": "#%%\n"
    }
   },
   "outputs": [],
   "source": [
    "var_1 <- \"Hello\"\n",
    "\n",
    "var_1\n",
    "\n",
    "typeof(var_1)"
   ]
  },
  {
   "cell_type": "markdown",
   "id": "61c623a4-1a05-4d86-9a5e-a49acb072b11",
   "metadata": {
    "pycharm": {
     "name": "#%% md\n"
    }
   },
   "source": [
    "You can create variables of many different types, including all of the basic and advanced types we discussed above."
   ]
  },
  {
   "cell_type": "code",
   "execution_count": null,
   "id": "9c343165-3dc2-4330-8fd9-b6576050713a",
   "metadata": {
    "pycharm": {
     "name": "#%%\n"
    }
   },
   "outputs": [],
   "source": [
    "var_2 <- 34.5 #numeric/double\n",
    "var_3 <- 6L #integer\n",
    "var_4 <- TRUE #logical/boolean\n",
    "var_5 <- 1 + 3i #complex\n"
   ]
  },
  {
   "cell_type": "markdown",
   "id": "4b194f6c-43fc-46d3-bf18-f5c4da5256aa",
   "metadata": {},
   "source": [
    "## Self Test: Objects and Variables\n",
    "\n",
    "In this exercise:\n",
    "\n",
    "1. Create an object `answer` which has been assigned the string \"Hello World\""
   ]
  },
  {
   "cell_type": "code",
   "execution_count": 7,
   "id": "e8bcdce7-5c5c-4d1a-80cd-70235f54859e",
   "metadata": {},
   "outputs": [
    {
     "name": "stdout",
     "output_type": "stream",
     "text": [
      "\u001b[32mTest passed\u001b[39m 🥇\n",
      "[1] \"Success!\"\n"
     ]
    }
   ],
   "source": [
    "answer5 <- \"Hello World\"\n",
    "\n",
    "\n",
    "test_5()"
   ]
  },
  {
   "cell_type": "markdown",
   "id": "965394ad-be19-4437-a11d-f6248b98e665",
   "metadata": {
    "pycharm": {
     "name": "#%% md\n"
    }
   },
   "source": [
    "## Operations"
   ]
  },
  {
   "cell_type": "markdown",
   "id": "52ce4df8-d9a7-414b-9212-861f06d3b56a",
   "metadata": {
    "pycharm": {
     "name": "#%% md\n"
    }
   },
   "source": [
    "In R, we can also perform **operations** on objects; the type of an object defines what operations are valid. All of the basic mathematical and logical operations you are familiar with are example of these, but there are many more.  For example:"
   ]
  },
  {
   "cell_type": "code",
   "execution_count": null,
   "id": "57a1132b-0296-4951-9531-3b9aa5c112b7",
   "metadata": {
    "pycharm": {
     "name": "#%%\n"
    }
   },
   "outputs": [],
   "source": [
    "a <- 4 # creates an object named \"a\" assigned to the value: 4\n",
    "b <- 6 # creates an object named \"b\" assigned to the value: 6\n",
    "c <- a + b # creates an object \"c\" assigned to the value (a = 4) + (b = 6)"
   ]
  },
  {
   "cell_type": "markdown",
   "id": "18537f35-b740-4d78-b9ff-80a2e8e2730a",
   "metadata": {
    "pycharm": {
     "name": "#%% md\n"
    }
   },
   "source": [
    "> Try and think about what value c holds!"
   ]
  },
  {
   "cell_type": "markdown",
   "id": "9adb0e1f-e82b-46b0-89e9-066a2fbe822b",
   "metadata": {
    "pycharm": {
     "name": "#%% md\n"
    }
   },
   "source": [
    "We can view the assigned value of `c` in two different ways:\n",
    "1. By printing `a + b`\\\n",
    "OR\n",
    "1. By printing `c`\n",
    "\n",
    "Run the code cell below to see for yourself!"
   ]
  },
  {
   "cell_type": "code",
   "execution_count": null,
   "id": "633e7f55-daea-4e56-9edf-42dd02a7334a",
   "metadata": {
    "pycharm": {
     "name": "#%%\n"
    }
   },
   "outputs": [],
   "source": [
    "a + b\n",
    "c"
   ]
  },
  {
   "cell_type": "markdown",
   "id": "63e8788c-197e-4c5b-a797-4d2300b348ad",
   "metadata": {
    "pycharm": {
     "name": "#%% md\n"
    }
   },
   "source": [
    "It is also possible to change the value of our objects. In the example below, the object `b` has been reassigned the value 5."
   ]
  },
  {
   "cell_type": "code",
   "execution_count": null,
   "id": "acf480e2-19d7-4ee7-8caf-9d616ecd78be",
   "metadata": {
    "pycharm": {
     "name": "#%%\n"
    }
   },
   "outputs": [],
   "source": [
    "b <- 5 "
   ]
  },
  {
   "cell_type": "markdown",
   "id": "07418353-b274-44c2-8a1b-0d288486557d",
   "metadata": {
    "pycharm": {
     "name": "#%% md\n"
    }
   },
   "source": [
    "R will now store the updated value of 5 in the object `b`. This overrides the original assignment of 6 to `b`. The ability to change object names is a key benefit using variables in R. We can simply reassign the value to a variable without having to change that value everywhere in our code. This will be quite useful when we want to do things such as change the name of a column in a dataset.\n",
    "\n",
    "> ***Tip:***  Remember to use a unique object name that hasn't been used before in order to avoid unplanned object reassignments when creating a new object.  Descriptive names are better!"
   ]
  },
  {
   "cell_type": "markdown",
   "id": "d4eb0678-cb5b-42fd-a0e2-c65bca34c59c",
   "metadata": {},
   "source": [
    "## Self Test: Operations\n",
    "\n",
    "In this exercise:\n",
    "\n",
    "1. create an object `u` which is equal to 1\n",
    "2. create an object `y` which is equal to 7\n",
    "3. create an object `w` which is equal to 10.\n",
    "4. create an object `answer6` which is equal to the sum of `u` and `y`, divided by `w`"
   ]
  },
  {
   "cell_type": "code",
   "execution_count": 8,
   "id": "17935849-2c6a-45e4-9e76-240c23b10a72",
   "metadata": {},
   "outputs": [
    {
     "name": "stdout",
     "output_type": "stream",
     "text": [
      "\u001b[32mTest passed\u001b[39m 🌈\n",
      "[1] \"Success!\"\n"
     ]
    }
   ],
   "source": [
    "u <- 1\n",
    "y <- 7\n",
    "w <- 10\n",
    "\n",
    "answer6 <- (u + y)/w\n",
    "\n",
    "\n",
    "test_6()"
   ]
  },
  {
   "cell_type": "markdown",
   "id": "30fb7aec-a46c-4165-b50a-8e4ff00969b5",
   "metadata": {
    "pycharm": {
     "name": "#%% md\n"
    }
   },
   "source": [
    "## Comments"
   ]
  },
  {
   "cell_type": "markdown",
   "id": "1186f5a1-f375-488b-8296-48e85cb11743",
   "metadata": {
    "pycharm": {
     "name": "#%% md\n"
    }
   },
   "source": [
    "While developing our code, we do not always have to use markdown cells to document our process. We can also write notes in code cells using something called a **comment**. A comment simply allows us to write lines in our cell which will not run when we run the cell itself. By simply typing the `#` sign, anything written directly after this sign and on the same line will not run; it is a comment. To comment out multiple lines of code, simply include the `#` sign at the start of each line. \n",
    "\n",
    "> In general, the purpose of comments is to make the source code easier for readers to understand. \n",
    "\n",
    "\n",
    "It is important to comment on your code for three main reasons:\n",
    "\n",
    "1. **Keep track** of your actions and thought process: Commenting is a great way to help you stay organized. Code comments provide an ordered process for everyone to follow. In case we need to debug our codes, we can easily track which step is problematic and come back to that particular line of code.\n",
    "\n",
    "2. **Help readers understand** why you're coding this way: While coding something like `a + b` may be a more or less straightforward computation, When writing code, certain methods are pretty obvious. For example, the previous example  is obvious, even to someone who have no programming experience. However, you are going to develop your own project eventually. In your project, although the functionality of the method `a + b` is obvious, it may be unclear what this operation's purpose is in your project. Your readers or other developers may ask: why did you use addition instead of multiplication or division? With comments, you can explain why this particular method was used for this particular code block and how it relates to other code blocks. \n",
    "\n",
    "3. It **saves everyone's time** in the future, including yourself: It's far easier than you might expect to forget what a pierce of code does, or is support to do.  Keeping good comments ensures that your code remains comprehensible\n",
    "\n",
    "> ***Tip***: an old woodworker's tip is when you take things apart you should label them so that a stranger could put them back together.  The same advice applies to comments and coding: write code so that a stranger could figure out what it is supposed to do.\n",
    "\n",
    "Generally, it is always a good idea to add comments to your code. However, if you find yourself needing to explain a block of code in great detail in terms of its purpose in the project, it is preferable to use a markdown cell instead. Comments are best served for the reasons above."
   ]
  },
  {
   "cell_type": "markdown",
   "id": "5163705a-7a26-4b30-b607-3dac326b82dc",
   "metadata": {
    "pycharm": {
     "name": "#%% md\n"
    }
   },
   "source": [
    "## More on Operators"
   ]
  },
  {
   "cell_type": "markdown",
   "id": "2fade3b6-150c-472c-86bf-4d5e0f430b0d",
   "metadata": {
    "pycharm": {
     "name": "#%% md\n"
    }
   },
   "source": [
    "Earlier, we used discussed operations and used the example of `+` to run the addition of a and b. `+` is a type of R arithmetic **operator** which means a symbol that tells R to perform a specific operation. We can use different R operators with variables. R has 4 types of operators:\n",
    "\n",
    "1. **Arithmetic operators**: used to carry out mathematical operations. Ex. `*` for multiplication, `/` for division, `^` for exponent etc.\n",
    "1. **Assignment operators**: used to assign values to variables. Ex. `<-` \n",
    "1. **Relational operators**: used to compare between values. Ex. `>` for greater than, `==` for equal to, `!=` for not equal to etc.\n",
    "1. **Logical operators**: used to carry out Boolean operations. Ex. `!` for Logical NOT, `&` for Logical AND etc.\n",
    "\n",
    "We won't cover all of these right now, but you can look them up online; for now, keep an eye out for them when they occur."
   ]
  },
  {
   "cell_type": "markdown",
   "id": "47e322fe-e0e0-4f10-8cdd-9cbf6136111d",
   "metadata": {
    "pycharm": {
     "name": "#%% md\n"
    }
   },
   "source": [
    "## Functions"
   ]
  },
  {
   "cell_type": "markdown",
   "id": "73875582-3ad0-4da3-bc5d-c8555777ffaf",
   "metadata": {
    "pycharm": {
     "name": "#%% md\n"
    }
   },
   "source": [
    "These simple operations are great to start with, but what if we want to do operations on different values of X and Y over and over and don’t want to constantly rewrite this code? This is where **functions** come in. Functions allow us to carry out specific tasks. We simply pass in a parameter or parameters to the function. Code is then executed in the function body based on these parameters, and output may be returned."
   ]
  },
  {
   "cell_type": "code",
   "execution_count": null,
   "id": "bcf490a6-58ab-46d4-8287-659681ec3df8",
   "metadata": {
    "pycharm": {
     "name": "#%%\n"
    }
   },
   "outputs": [],
   "source": [
    "# Functionname <- function(arguments)\n",
    "#  {code operating on the arguments\n",
    "#   }"
   ]
  },
  {
   "cell_type": "markdown",
   "id": "e17e4ea1-7e79-4517-a178-bcac370d9c7f",
   "metadata": {
    "pycharm": {
     "name": "#%% md\n"
    }
   },
   "source": [
    "This structure says that we start with a name for our function (`Functionname`, here) and we use the assignment operator similarly to when we assign values to variables. We then pass **arguments or parameters** to our function (which can be numeric, characters, vectors, collections such as lists, etc.); think of them as the _inputs_ to the function. \n",
    "\n",
    "Finally, within the curly brackets we write our code needed to accomplish our desired task. Once we have done this, we can call this function anywhere in our code (after having run the cell defining the function!) and evaluate it based on specific parameter values. \n",
    "\n",
    "An example is shown below; can you figure out what this function does?"
   ]
  },
  {
   "cell_type": "code",
   "execution_count": null,
   "id": "8fc6c3a6-dacc-4d46-9f4e-886a4a6d2ee0",
   "metadata": {
    "pycharm": {
     "name": "#%%\n"
    }
   },
   "outputs": [],
   "source": [
    "my_function <- function(x, y)\n",
    " {x = x + y\n",
    " 2 * x\n",
    "}"
   ]
  },
  {
   "cell_type": "markdown",
   "id": "6247f2ce-5609-459c-b316-220666401889",
   "metadata": {
    "pycharm": {
     "name": "#%% md\n"
    }
   },
   "source": [
    "The parameters input to functions can be given **defaults**. Defaults are specific values for parameters that have been chosen and defined within the circular brackets of the function definition. For example, we can define `y = 3` as a default in our `my_function`. When we call our function, we then do not have to specify an input for `y` unless we want to."
   ]
  },
  {
   "cell_type": "code",
   "execution_count": null,
   "id": "4e24983d-6394-4ca7-8530-49baec3e3bc9",
   "metadata": {
    "pycharm": {
     "name": "#%%\n"
    }
   },
   "outputs": [],
   "source": [
    "my_function <- function(x, y = 3)\n",
    " {x = x + y\n",
    " 2 * x}\n",
    "\n",
    "my_function(2)"
   ]
  },
  {
   "cell_type": "markdown",
   "id": "55664c3b-5dbc-4592-8f64-80de77a811e4",
   "metadata": {
    "pycharm": {
     "name": "#%% md\n"
    }
   },
   "source": [
    "However, if we want to override this default, we can simply call the function with a new input for `y`. This is done below for `y=4`, allowing us to execute our code as though our default was actually `y=4`."
   ]
  },
  {
   "cell_type": "code",
   "execution_count": null,
   "id": "61163789-ca48-4601-a582-dced5df92b0d",
   "metadata": {
    "pycharm": {
     "name": "#%%\n"
    }
   },
   "outputs": [],
   "source": [
    "my_function <- function(x, y = 4)\n",
    " {x = x + y\n",
    "  2 * x}\n",
    "\n",
    "my_function(2, 4)"
   ]
  },
  {
   "cell_type": "markdown",
   "id": "fd0618ea-70f4-4eaf-abdd-0c8dc4187e1f",
   "metadata": {
    "pycharm": {
     "name": "#%% md\n"
    }
   },
   "source": [
    "Finally, note that we can **nest** functions within functions, meaning we can call functions inside of other functions - creating very complex arrangements. Just be sure that these inner functions have themselves already been defined. "
   ]
  },
  {
   "cell_type": "code",
   "execution_count": null,
   "id": "c69eeb40-1ced-47d9-baab-9234ea8a072c",
   "metadata": {
    "pycharm": {
     "name": "#%%\n"
    }
   },
   "outputs": [],
   "source": [
    "my_function_1 <- function(x, y)\n",
    " {x = x + y + 2\n",
    "  2 * x}\n",
    "\n",
    "my_function_2 <- function(x, y)\n",
    " {x = x + y - my_function_1(x, y)\n",
    "  2 * x}\n",
    "\n",
    "my_function_2(2, 3)"
   ]
  },
  {
   "cell_type": "markdown",
   "id": "7f2927ff-4ef2-4e50-9cd4-c468e60b6ec6",
   "metadata": {
    "pycharm": {
     "name": "#%% md\n"
    }
   },
   "source": [
    "Luckily, we usually don't have to define our own functions, since most useful built-in functions we need already come with R. They do not require creation; it already exists for us, although it may require the importing of specific packages. We can always use the help `?` feature in R to learn more about a built-in function if we're unsure. For example, `?max` gives us more information about the `max()` function.\n",
    "\n",
    "For more information about how you should read and use different functions, please refer to the [Function Cheat Sheet](https://cran.r-project.org/doc/contrib/Short-refcard.pdf). "
   ]
  },
  {
   "cell_type": "markdown",
   "id": "72030f3a-0e98-4110-a527-f2c7b963993e",
   "metadata": {},
   "source": [
    "## Self Test: Functions\n",
    "\n",
    "In this exercise:\n",
    "\n",
    "1. Create a function `divide` which takes in two arguments, `x` and `y`. The function should return `x` divided by `y`. \n",
    "2. Store the solution to divide(5,3), rounded to the nearest 2 decimal places, in the object `answer7`:"
   ]
  },
  {
   "cell_type": "code",
   "execution_count": 9,
   "id": "477da82c-022e-425d-87c3-02b47a833c43",
   "metadata": {},
   "outputs": [
    {
     "name": "stdout",
     "output_type": "stream",
     "text": [
      "\u001b[32mTest passed\u001b[39m 😀\n",
      "[1] \"Success!\"\n"
     ]
    }
   ],
   "source": [
    "divide <- function(x,y) {\n",
    "    sol <- x/y\n",
    "    return(sol) \n",
    "    }\n",
    "\n",
    "# Your code goes here\n",
    "\n",
    "answer7 <- round(divide(5,3), digits = 2)\n",
    "\n",
    "\n",
    "test_7()"
   ]
  },
  {
   "cell_type": "markdown",
   "id": "ceeea93a-6c0c-41e1-99d4-dcb5c5af9068",
   "metadata": {
    "pycharm": {
     "name": "#%% md\n"
    }
   },
   "source": [
    "## Oops!  Dealing with Errors \n",
    "Sometimes in our analysis we can run into errors in our code; it happens to everyone, and is not a reason to panic. Understanding the nature of the error we are confronted with can be a helpful first step to finding a solution. There are two common types of errors:\n",
    "\n",
    "* **Syntax errors**: This is the most common error type. They result from invalid code statements/structures that R doesn’t understand. Suppose R speaks English, asking it to help by speaking German or broken English certainly would not work! Here are some examples of common syntax errors: the associated package is not loaded, misspelling of a command as R is chase-sensitive, unmatched parenthesis etc. How we handle syntax errors is case-by-case: we can usually solve syntax errors by reading the error message and googling it.\n",
    "\n",
    "* **Semantic errors**: They result from valid code that successfully executes but produces unintended outcomes. Again, let us suppose R speaks English. Although you asked it to hand you an apple in English and R successfully understood, but then handed you a banana! This is not okay! How we handle semantic errors is also case-by-case: we can usually solve semantic errors by reading the error message and googling it."
   ]
  },
  {
   "cell_type": "markdown",
   "id": "63fac0a6-34a1-4de7-971b-00b574fff10c",
   "metadata": {
    "pycharm": {
     "name": "#%% md\n"
    }
   },
   "source": [
    "Now that we have all of these terms and tools at our disposal, we can begin to load in data and operate on it using what we’ve learned."
   ]
  },
  {
   "cell_type": "markdown",
   "id": "588e8f97-e796-4ba7-94f9-f8911e940919",
   "metadata": {},
   "source": [
    "## Wrapping Up\n",
    "\n",
    "In this notebook, we have learned "
   ]
  },
  {
   "cell_type": "markdown",
   "id": "3ce05fe8-4b83-4594-90ab-b3514a8e82de",
   "metadata": {
    "pycharm": {
     "name": "#%% md\n"
    },
    "tags": []
   },
   "source": [
    "# Part 2: Working with Data"
   ]
  },
  {
   "cell_type": "markdown",
   "id": "b208ff65-85b4-4c3b-b6b1-47e984b258d9",
   "metadata": {
    "pycharm": {
     "name": "#%% md\n"
    }
   },
   "source": [
    "In general, we need to prepare two fundamental tools before working with any datasets in R. \n",
    "\n",
    "1. R development environment (R, RStudio or R Notebook etc.)\n",
    "2. A collection of R packages \n",
    "\n",
    "We already know how to work in R Notebook. Now we will briefly walk through the second point: understanding R packages and how we can use them. \n",
    "\n",
    "**R packages** are simply collections of recallable R functions, data and compiled codes, and the associated documentation which describes how we can use them. Different packages add different functionalities. Even now, many R users are actively contributing new packages. When we open our R notebook, it already contains the base package that allows R notebook to operate. The **R library** is where all the packages are stored in our working environment. \n",
    "\n",
    "Depending on what our programming goal is, we will need to load different packages. Suppose we need a specific functionality (say data manipulation) and we want to load an R package with such functionality (*tidyverse*). We should first download that R package from the site, which will then be stored in our library. Suppose we want to download the *tidyverse* package from the site, then we should type this command: `install.packages(\"tidyverse\")`."
   ]
  },
  {
   "cell_type": "code",
   "execution_count": null,
   "id": "fe0e73e9-84cc-4aac-bd31-c829b72b1fc2",
   "metadata": {
    "pycharm": {
     "name": "#%%\n"
    }
   },
   "outputs": [],
   "source": [
    "# Load revalent R packages for the following analysis\n",
    "\n",
    "# the tidyverse is loading the ggplot2, tibble, tidyr, readr, purrr, and dplyr packages, and they are available to use.\n",
    "library(tidyverse) \n",
    "\n",
    "# the haven allows you to load foreign data formats (SAS, Spss and Stata) in to R\n",
    "library(haven)"
   ]
  },
  {
   "cell_type": "markdown",
   "id": "585e976e-80a2-4e39-a2d6-366cbb04363e",
   "metadata": {
    "pycharm": {
     "name": "#%% md\n"
    }
   },
   "source": [
    "While running our R codes, sometimes we may encounter errors or warnings. An error message indicates our code is not being used in the way it is designed to be used, while a warning message signals a warning condition while executing our codes. This is totally fine and we can address/fix both! \n",
    "\n",
    "Errors are the worst because they mean that your code cannot function properly and it must be fixed. On the other hand, warnings are much better than errors. Although warnings indicate that there is something wrong with your code, this is not necessarily a bad thing. Typically, you don't have to \"fix\" warning messages when you are reasonably certain you will already receive the desired output from your code. In that case, you may choose to ignore warning messages.\n",
    "\n",
    "For example, R constantly updates names for its functions. In the newest version of R, sometimes an older function may have a new name. The older function can still work, but it may generate a warning message. If you do not want to use the new function, then ignoring that warning message is fine.\n",
    "\n",
    "In contrast, take a look at the example below. This is a warning message you should not ignore because the code is not producing your desired output. The square root of -2 is commonly denoted as an imaginary number rather than a number in mathematics. The `sqrt()`function returns a nan value because it does not have the ability to handle imaginary numbers. In this case, the problem is not with your code and thus it is not an error. How we handle warning messages is case-by-case. You can usually solve the problem by googling the solution online."
   ]
  },
  {
   "cell_type": "code",
   "execution_count": null,
   "id": "b050aed2-bd31-414d-b756-45ff23a419c1",
   "metadata": {
    "pycharm": {
     "name": "#%%\n"
    }
   },
   "outputs": [],
   "source": [
    "# Take the square root of -2 by using built-in function sqrt()\n",
    "# It generates a warning message because it does not have the ability to handle imaginary numbers\n",
    "sqrt(-2)"
   ]
  },
  {
   "cell_type": "markdown",
   "id": "ef063859-49f6-49b8-97db-4a40d7c041aa",
   "metadata": {
    "pycharm": {
     "name": "#%% md\n"
    },
    "tags": []
   },
   "source": [
    "#### Importing the Dataset "
   ]
  },
  {
   "cell_type": "markdown",
   "id": "fb8464bb-3eef-4909-a8fe-b8bdada36093",
   "metadata": {
    "pycharm": {
     "name": "#%% md\n"
    }
   },
   "source": [
    "Data comes in many different formats. For example, data files with a `.dta` suffix are data from the statistical software STATA,  data files with a `.csv` suffix are data in comma-separated variable format, and data files with an `.Rda` suffix are data from the statistical software R.\n",
    "\n",
    "When it comes to loading data, R uses different function calls for different data formats. Below are the three most common data formats used in economics.\n",
    "\n",
    "1. `read.csv()`: reads a CSV file into memory\n",
    "2. `read_dta()`: reads a Stata DTA file into memory\n",
    "3. `load()`: reads an R Rda file into memory                \n",
    "\n",
    "Therefore, it is critical to call the correct R function based on the suffix of our data file. Suppose we want to load the datafile `01_census2016` in three different formats: `01_census2016.csv`，`01_census2016.dta`, and `01_census2016.Rda` respectively. Our code should be:\n",
    "\n",
    "1. `read.csv(01_census2016.csv)`\n",
    "2. `read_dta(01_census2016.dta)`\n",
    "3. `load(01_census2016.Rda)`"
   ]
  },
  {
   "cell_type": "markdown",
   "id": "65fec324-5944-466b-8d3f-a81aa59000e1",
   "metadata": {
    "pycharm": {
     "name": "#%% md\n"
    }
   },
   "source": [
    "Now let's load in our data file. We will load in a dataset which captures information from the 2016 Canadian census administered by Statistics Canada."
   ]
  },
  {
   "cell_type": "code",
   "execution_count": null,
   "id": "e7ab3005-8278-4006-b6dd-379bd0d58c71",
   "metadata": {
    "pycharm": {
     "name": "#%%\n"
    }
   },
   "outputs": [],
   "source": [
    "# read the Stata DTA file \"01_census2016.dta\" into memory\n",
    "# assign it to the R object \"census_data\"\n",
    "census_data <- read_dta(\"01_census2016.dta\")"
   ]
  },
  {
   "cell_type": "markdown",
   "id": "ea23b691-d923-4ac4-85a1-5edcaf80ab0e",
   "metadata": {
    "pycharm": {
     "name": "#%% md\n"
    }
   },
   "source": [
    "The dataset `census_data` is in **tidy** format. This means that the data is rectangular, or more specifically, that each row represents an observation and each column represents a variable. In other words, each variable has its own column, each observation has its own row and each value has its own cell. Our tidy dataset is also easier to work with inside the package `tidyverse` we are currently using. All packages in the `tidyverse` (i.e. `dplyr`) are designed to work specifically with tidy datasets."
   ]
  },
  {
   "cell_type": "markdown",
   "id": "f34c683f-a147-4550-a14b-97e3ad760716",
   "metadata": {
    "pycharm": {
     "name": "#%% md\n"
    }
   },
   "source": [
    "#### Exploring the Dataset "
   ]
  },
  {
   "cell_type": "markdown",
   "id": "f308fb67-b650-4554-9b4a-3dc87b0862bb",
   "metadata": {
    "pycharm": {
     "name": "#%% md\n"
    }
   },
   "source": [
    "Now have imported our dataset. It is a \"new\" dataset to us. To better understand our dataset as a whole, the natural next step is to view and explore it. We always do this immediately after loading in our data to make sure there are no weird features or problems with it. Here are some basic R commands to investigate data:\n",
    "1. `head(...)`: View the first 6 rows of a dataset\n",
    "2. `tail(...)`: View the last 6 rows of a dataset\n",
    "3. `dim(...)`: Find the dimensions of a dataset                 \n",
    "4. `str(...)`: Understand the structure of a dataset     \n",
    "5. `colnames(...)`: View all the variable names of a dataset"
   ]
  },
  {
   "cell_type": "code",
   "execution_count": null,
   "id": "75cd66ec-a990-40d5-b373-59b66205d5c2",
   "metadata": {
    "pycharm": {
     "name": "#%%\n"
    }
   },
   "outputs": [],
   "source": [
    "# See the first 6 rows\n",
    "head(census_data)"
   ]
  },
  {
   "cell_type": "code",
   "execution_count": null,
   "id": "a020d2ae-7331-4726-ad45-40c9e1126077",
   "metadata": {
    "pycharm": {
     "name": "#%%\n"
    }
   },
   "outputs": [],
   "source": [
    "# See the last 6 rows\n",
    "tail(census_data)"
   ]
  },
  {
   "cell_type": "code",
   "execution_count": null,
   "id": "c39eb800-65fc-4e36-99bf-21968ad63442",
   "metadata": {
    "pycharm": {
     "name": "#%%\n"
    }
   },
   "outputs": [],
   "source": [
    "# Find the dimensions\n",
    "dim(census_data)"
   ]
  },
  {
   "cell_type": "markdown",
   "id": "fd8131e3-686c-4825-ac7f-d89a605bf51b",
   "metadata": {
    "pycharm": {
     "name": "#%% md\n"
    }
   },
   "source": [
    "Here we can see that the dimensions of our dataset are 391938 by 16, meaning that we have 391938 observations and 16 variables in total. Whoa! That's a lot of data!"
   ]
  },
  {
   "cell_type": "code",
   "execution_count": null,
   "id": "65cac58b-2683-4129-81b0-3e22e5103594",
   "metadata": {
    "pycharm": {
     "name": "#%%\n"
    }
   },
   "outputs": [],
   "source": [
    "# Understand the structure\n",
    "str(census_data)"
   ]
  },
  {
   "cell_type": "code",
   "execution_count": null,
   "id": "32b4c90e-5c31-4d2d-9c41-5a1957ed5a5f",
   "metadata": {
    "pycharm": {
     "name": "#%%\n"
    }
   },
   "outputs": [],
   "source": [
    "# Find the variable names\n",
    "colnames(census_data)"
   ]
  },
  {
   "cell_type": "markdown",
   "id": "49ecc44c-8e45-43fb-bf17-c3695abdec49",
   "metadata": {
    "pycharm": {
     "name": "#%% md\n"
    },
    "tags": []
   },
   "source": [
    "#### Accessing the Variables of the Dataset"
   ]
  },
  {
   "cell_type": "markdown",
   "id": "5e73a4ea-a05d-4c48-82cd-e4b6d132224f",
   "metadata": {
    "pycharm": {
     "name": "#%% md\n"
    }
   },
   "source": [
    "There are many variables in this dataset! Where should we begin? **Suppose we are interested in analyzing the average wage gap between men and women.**  \n",
    "\n",
    ">We note that gender and sex are used synonomously in this dataset in a binary class relation, although in real life gender is best understood as a existing on a spectrum.\\\n",
    "\\\n",
    "Gender exists separately from the sex assigned at birth and there is diversity in how\n",
    "different people experience, understand, and express gender, and how gender is\n",
    "institutionalized within a society (1). In econometrics, it's important for us to consider how the decisions we make to encode and classify information can have have potentially harmful or exclusionary outcomes.\n",
    "\\\n",
    "\\\n",
    "(1): _Ahluwalia, A., Bean, C., Chachram, M., Chan, R., Cheang, R., Cheng, S., Chindea, V., Conrad-Kilgallen, K., Cooey-Hurtado, L., Correa, K., Dresselhuis, A., James, E., Kim, C., Knight, K., Mozolevych, N., Poissant, J., Sarvini, J., Tomar, B., Traboulay, A. (2022). Community-Based Research & Data Justice Resource Guide. Gender + in Research Collective at ORICE UBC, Vancouver, BC._ \n",
    "\n",
    "As we begin our analysis, we can see that there are two variables important to our analysis: `sex` and `wages`.\n",
    "\n",
    "* `sex`: the sex of the individual\n",
    "* `wages`: the annual wage of the individual\n",
    "\n",
    "To access `sex` and `wages` in the dataset, we can use the access operator `$` to access specific variables. For example, `x$y` refers to the access of variable `x` from the dataset `y`\n",
    "\n",
    "* `census_data$sex`: access the variable `sex` from the dataset `census_data`\n",
    "* `census_data$wages`: access the variable `wages` from the dataset `census_data`"
   ]
  },
  {
   "cell_type": "code",
   "execution_count": null,
   "id": "670ba80c-7789-45db-abf2-9a0dc7b09c5f",
   "metadata": {
    "pycharm": {
     "name": "#%%\n"
    }
   },
   "outputs": [],
   "source": [
    "# access the \"sex\" variable and assign it to the R object \"sex\"\n",
    "sex <- census_data$sex\n",
    "\n",
    "# access the \"wages\" variable and assign it to the R object \"wages\"\n",
    "wage <- census_data$wages"
   ]
  },
  {
   "cell_type": "markdown",
   "id": "795435dc-0af5-4233-871f-beb3dba7d607",
   "metadata": {
    "pycharm": {
     "name": "#%% md\n"
    }
   },
   "source": [
    "Now we have extracted two variables from the dataset. The natural next step is to filter out the missing values or NAs before we do further analysis. “NA” stands for “Not Available”. It is quite common to see datasets with NA observations, as there's no perfect dataset in real-life. For example, an unemployed individual may have nothing to report for their annual wages, thus leaving the data cell unavailable or marked as NA. We can first use the R function `is_na()` to check if there's any NAs, and then use the R function `drop_na()` to get rid of these NA observations."
   ]
  },
  {
   "cell_type": "code",
   "execution_count": null,
   "id": "c56bd1d1-64b4-4712-b2ed-484fb42bb33f",
   "metadata": {
    "pycharm": {
     "name": "#%%\n"
    }
   },
   "outputs": [],
   "source": [
    "# check if there's any NA's in variable \"sex\"\n",
    "any(is.na(sex))"
   ]
  },
  {
   "cell_type": "markdown",
   "id": "ee942a40-89c1-4576-b0ea-ea80e4ec9773",
   "metadata": {
    "pycharm": {
     "name": "#%% md\n"
    }
   },
   "source": [
    "In this dataset, it appears that every individual has been classified as either `man` or `woman`."
   ]
  },
  {
   "cell_type": "code",
   "execution_count": null,
   "id": "9f6fee16-2446-4de5-8712-cd24e2746b85",
   "metadata": {
    "pycharm": {
     "name": "#%%\n"
    }
   },
   "outputs": [],
   "source": [
    "# check if there's any NA's in variable \"wage\"\n",
    "any(is.na(wage))"
   ]
  },
  {
   "cell_type": "markdown",
   "id": "864be5cc-9ec3-4b74-a6b0-c63f4c8e282d",
   "metadata": {
    "pycharm": {
     "name": "#%% md\n"
    }
   },
   "source": [
    "Alas, we do have a few NA values for the variable `wages`. Let's get rid of them now!"
   ]
  },
  {
   "cell_type": "code",
   "execution_count": null,
   "id": "d1109a4f-85a9-4385-845d-cf428cdb6590",
   "metadata": {
    "pycharm": {
     "name": "#%%\n"
    }
   },
   "outputs": [],
   "source": [
    "# we redfine the census_data so that it is cleaned up without any missing values in wages\n",
    "census_data <- drop_na(census_data, wages)"
   ]
  },
  {
   "cell_type": "markdown",
   "id": "bb2b1e18-d4f0-4320-bc7d-fc5ccee6857b",
   "metadata": {
    "pycharm": {
     "name": "#%% md\n"
    }
   },
   "source": [
    "Note here in the `drop_na()`, we didn't use `$` to access the wages variable. The function `drop_na(data, ...)` takes in a dataset as its first argument, then takes in a variable and searching for missing values within that corresponding column."
   ]
  },
  {
   "cell_type": "markdown",
   "id": "54a4df93-49d0-4915-ab1f-863847dbb0a3",
   "metadata": {
    "pycharm": {
     "name": "#%% md\n"
    }
   },
   "source": [
    "Next we would like do some manipulation on the variable `sex`. Since we are focusing on the sex group only (to calculate the mean wage of men and women separately), let's use a new built-in function called `group_by()`. This function takes in a specified dataset and groups by one or more variables we choose. Once grouped, we can perform operations \"by group\" (i.e. by sex)."
   ]
  },
  {
   "cell_type": "code",
   "execution_count": null,
   "id": "c8a00477-5e0a-4d40-88a7-4f0f8310001b",
   "metadata": {
    "pycharm": {
     "name": "#%%\n"
    }
   },
   "outputs": [],
   "source": [
    "# we redfine the census_data so that it is now grouped by sex\n",
    "census_data <- group_by(census_data, sex)"
   ]
  },
  {
   "cell_type": "markdown",
   "id": "e67f190e-dc55-4d46-b9bb-d6782e39a500",
   "metadata": {
    "pycharm": {
     "name": "#%% md\n"
    }
   },
   "source": [
    "Finally, we calculate the mean wage of each group. The `summarise()` function is typically used on grouped data created by `group_by()`. `summarise()` takes in a dataset and allows us to define a new column name `meanWage` to be the `mean()` of `wages`. For output, it creates a new data frame with one (or more) rows for each combination of grouping variables (men & women), along with columns indicating our groups of focus and our newly defined variable."
   ]
  },
  {
   "cell_type": "code",
   "execution_count": null,
   "id": "eb647b57-ba34-4ccc-9858-b88053eb9f64",
   "metadata": {
    "pycharm": {
     "name": "#%%\n"
    }
   },
   "outputs": [],
   "source": [
    "summarise(census_data, meanWage = mean(wages))"
   ]
  },
  {
   "cell_type": "markdown",
   "id": "f72dbe63-1313-4022-ba00-a57befdee10b",
   "metadata": {
    "pycharm": {
     "name": "#%% md\n"
    }
   },
   "source": [
    "From this table, we can clearly see the difference in average wages between men and women!"
   ]
  },
  {
   "cell_type": "markdown",
   "id": "f53910bc-87b2-4d28-ab0a-88ee3424a67c",
   "metadata": {
    "pycharm": {
     "name": "#%% md\n"
    }
   },
   "source": [
    "That process required many steps and many blocks of code. Luckily, there is a critical tool in R that will expedite this process: `%>%` is called the **forward pipe operator** in R. It allows us to forward the result of a function/expression into the next function/expression. We can think of the pipe as saying \"and then\", allowing us to pipe previous results into upcoming functions in a sequence.\n",
    "It is especially helpful when creating complex code with many parentheses. Through piping, our code is more readable both to others and ourselves. Let's take a look at a piping example below.\n",
    "\n",
    "We will pipe the dataset through following methods:\n",
    "* eliminate NA values from `wages`\n",
    "* group the dataset by `sex`\n",
    "* create a new data frame with mean wages for each sex group"
   ]
  },
  {
   "cell_type": "code",
   "execution_count": null,
   "id": "d5670e76-7f47-49d4-9e81-6d92d6dada37",
   "metadata": {
    "pycharm": {
     "name": "#%%\n"
    }
   },
   "outputs": [],
   "source": [
    "# Our data is first processed and then passed into the next function (so on and so on...)\n",
    "# The result of the entire sequence is stored in the tibble named 'table'\n",
    "\n",
    "table <- census_data %>% \n",
    "    group_by(sex) %>% \n",
    "    summarise(meanWage = mean(wages))\n",
    "\n",
    "table"
   ]
  },
  {
   "cell_type": "markdown",
   "id": "a542ba88-21a8-4f88-b1ef-faf3c9b88f89",
   "metadata": {
    "pycharm": {
     "name": "#%% md\n"
    }
   },
   "source": [
    "We see that the output here is the same as before! Now, you might be wondering: shouldn't it be fine not use this piping approach so long as our code gets the job done? From the consequentialist perspective, yes, this is fine. However, without piping, our code will be hard to debug if a problem arises; this will be magnified when we have hundreds of lines of code with many variable repetitions or parentheses close together. Let's take a look at two examples which do not use the piping approach to illustrate this point."
   ]
  },
  {
   "cell_type": "code",
   "execution_count": null,
   "id": "cd23d611-ae1a-4b39-a94d-d6fe0b7a8185",
   "metadata": {
    "pycharm": {
     "name": "#%%\n"
    }
   },
   "outputs": [],
   "source": [
    "# Approach 1 (no piping): Store each step in the process sequentially\n",
    "table <- drop_na(census_data, wages)\n",
    "table <- group_by(table, sex)\n",
    "table <- summarise(table, meanWage = mean(wages))\n",
    "table"
   ]
  },
  {
   "cell_type": "markdown",
   "id": "168e1d89-8c06-4c0b-9b30-7d31c03deca7",
   "metadata": {
    "pycharm": {
     "name": "#%% md\n"
    }
   },
   "source": [
    "Approach 1 gets the job done, but it is extremely inefficient. The code has many unnecessary variable repetitions, which makes it hard for us to follow what is actually changing in each line."
   ]
  },
  {
   "cell_type": "code",
   "execution_count": null,
   "id": "63ebac9a-28dc-4e10-8c61-d08fb4f6973a",
   "metadata": {
    "pycharm": {
     "name": "#%%\n"
    }
   },
   "outputs": [],
   "source": [
    "# Approach 2 (no piping): Consolidate all functions with many parentheses\n",
    "table <- summarise(group_by(drop_na(census_data), sex), meanWage = mean(wages))\n",
    "table"
   ]
  },
  {
   "cell_type": "markdown",
   "id": "caa3d4d3-1846-4ee3-8436-55f0c9684ea2",
   "metadata": {
    "pycharm": {
     "name": "#%% md\n"
    }
   },
   "source": [
    "Approach 2 also gets the job done, but it is also inefficient and even harder to read. Compared to Approach 1, it becomes much harder to see the order of steps in the analysis."
   ]
  },
  {
   "cell_type": "markdown",
   "id": "3f656daf-31ba-4b33-8566-3615f0f9b520",
   "metadata": {
    "pycharm": {
     "name": "#%% md\n"
    }
   },
   "source": [
    "In both cases, following the piping approach we demonstrated first is preferable for two reasons:\n",
    "1. The piping reduces repetitive typing\n",
    "2. The piping is the most straightforward syntax for humans to read and understand\n",
    "\n",
    "Piping automatically passes the output from the first line as input into the next line. Therefore, it is the clearest form of syntax available, as it focuses on actions, not objects. Humans focus on actions and computers focus on objects. The computer can process your code regardless of its format because it's not hard for machines to read, yet this is not intuitive for human readers. If we make a mistake, the debugging process will be painful for us; we are not robots."
   ]
  },
  {
   "cell_type": "markdown",
   "id": "58ff9cad-3819-4983-a021-5ae4fd489b28",
   "metadata": {
    "pycharm": {
     "name": "#%% md\n"
    }
   },
   "source": [
    "### Part 3: Wrapping up & Exercises ###"
   ]
  },
  {
   "cell_type": "markdown",
   "id": "ecfe21e3-a1f2-498e-aea9-5cc78ce4e6a5",
   "metadata": {
    "pycharm": {
     "name": "#%% md\n"
    }
   },
   "source": [
    "With this introduction, you have learned the basics of coding in R. You now understand how variables, objects and functions work, how to load different formats of data into R, and how to operate on data using the basic techniques presented. This lesson will be indispensable to you as you continue on in the course and delve further into the world of econometrics and data analysis/visualization. For now, here are some exercises to test your understanding!"
   ]
  },
  {
   "cell_type": "markdown",
   "id": "ac66d4d1-fbcf-42cb-9c77-0e929d7a2bd8",
   "metadata": {
    "pycharm": {
     "name": "#%% md\n"
    },
    "tags": []
   },
   "source": [
    "#### Excercise 1"
   ]
  },
  {
   "cell_type": "code",
   "execution_count": null,
   "id": "62358ca4-a51d-4161-b5c8-0679ba84e138",
   "metadata": {
    "pycharm": {
     "name": "#%%\n"
    }
   },
   "outputs": [],
   "source": [
    "x <- 2\n",
    "y <- 3\n",
    "z <- ((x + y) ^ x) * y\n",
    "\n",
    "z\n",
    "\n",
    "# store the value you think z will be in ''answer_1'' by completing this code\n",
    "\n",
    "answer_1 <- ...  # enter your numerical answer here\n",
    "\n",
    "test_1()"
   ]
  },
  {
   "cell_type": "markdown",
   "id": "418e32e9-a76d-4935-9a65-b301c3ab68ba",
   "metadata": {
    "pycharm": {
     "name": "#%% md\n"
    }
   },
   "source": [
    "#### Excercise 2"
   ]
  },
  {
   "cell_type": "code",
   "execution_count": null,
   "id": "90281091-861a-49c9-9889-f6fc9159f3f9",
   "metadata": {
    "pycharm": {
     "name": "#%%\n"
    }
   },
   "outputs": [],
   "source": [
    "my_function <- function(x, y)\n",
    " {z = x + y\n",
    " 2 * z\n",
    "}\n",
    "\n",
    "b <- my_function(2, 3)\n",
    "\n",
    "answer_2 <- ... # your numerical answer for b here\n",
    "\n",
    "test_2()"
   ]
  },
  {
   "cell_type": "markdown",
   "id": "75d75aeb-a916-43e3-aa53-b763402aab2a",
   "metadata": {
    "pycharm": {
     "name": "#%% md\n"
    },
    "tags": []
   },
   "source": [
    "#### Excercise 3"
   ]
  },
  {
   "cell_type": "markdown",
   "id": "d9787b8f-77c5-4670-9170-29079ba1c9c1",
   "metadata": {
    "pycharm": {
     "name": "#%% md\n"
    }
   },
   "source": [
    "Using the same census dataframe, use piping to calculate the `mean`, `max`, and `min` wages for each group in the variable `pkids`, then save these results in a dataframe called `tibble`. The mean, max and min variables must be labelled as `meanwage`, `maxwage`, and `minwage` in that order for full marks. "
   ]
  },
  {
   "cell_type": "code",
   "execution_count": null,
   "id": "0872cfa2-bd6c-45db-856c-4dc211d9ab3c",
   "metadata": {
    "pycharm": {
     "name": "#%%\n"
    }
   },
   "outputs": [],
   "source": [
    "tibble <- census_data %>%\n",
    "            # your code here\n",
    "\n",
    "answer_3 <- tibble # your answer for here\n",
    "\n",
    "test_3()"
   ]
  }
 ],
 "metadata": {
  "kernelspec": {
   "display_name": "R",
   "language": "R",
   "name": "ir"
  },
  "language_info": {
   "codemirror_mode": "r",
   "file_extension": ".r",
   "mimetype": "text/x-r-source",
   "name": "R",
   "pygments_lexer": "r",
   "version": "4.1.2"
  }
 },
 "nbformat": 4,
 "nbformat_minor": 5
}
