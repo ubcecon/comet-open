{
 "cells": [
  {
   "cell_type": "markdown",
   "id": "b14cf900",
   "metadata": {},
   "source": [
    "# ECON 490: Stata Essentials (3)\n",
    "\n",
    "## Prerequisites \n",
    "---\n",
    "1. Have set up Anaconda Navigator to access JupyterLab\n",
    "2. Have installed the Stata kernel for use in JupyterLab\n",
    "3. Understand how to effectively use Stata do files and know how to generate log files\n",
    "\n",
    "## Learning objectives:\n",
    "---\n",
    "1. View the characteristics of any dataset using the command `describe`\n",
    "2. Use `help` to learn best how to run commands\n",
    "3. Understand the Stata command syntax using command `summarize`\n",
    "4. Create loops using the commands `for`, `while`, `forvalues` and `foreach` "
   ]
  },
  {
   "cell_type": "markdown",
   "id": "34449ac6",
   "metadata": {},
   "source": [
    "## 3.1: Describing Your Data"
   ]
  },
  {
   "cell_type": "markdown",
   "id": "9431d143-a383-4b18-aa64-6a5a8d6c4ca7",
   "metadata": {},
   "source": [
    "Let's start by opening a dataset that was provided when you installed Stata onto your own computer. We will soon move on to importing our own data, but this Stata dataset will help get us started. This is a dataset on automobiles and their characteristics. You can install this dataset by running the command in the cell below:"
   ]
  },
  {
   "cell_type": "code",
   "execution_count": 3,
   "id": "7db68e54",
   "metadata": {},
   "outputs": [
    {
     "name": "stdout",
     "output_type": "stream",
     "text": [
      "(1978 automobile data)\n"
     ]
    }
   ],
   "source": [
    "sysuse auto.dta, clear"
   ]
  },
  {
   "cell_type": "markdown",
   "id": "0e7a1c8b-6c0f-42cc-aeef-bb45f3846618",
   "metadata": {},
   "source": [
    "We can begin by checking the characteristics of the dataset we have just downloaded. The command `describe` allows us to see: the number of observations, the number of variables, a list of variable names and descriptions, and the variable types and labels. "
   ]
  },
  {
   "cell_type": "code",
   "execution_count": 5,
   "id": "b649f5ec",
   "metadata": {},
   "outputs": [
    {
     "name": "stdout",
     "output_type": "stream",
     "text": [
      "\n",
      "Contains data from /Applications/Stata/ado/base/a/auto.dta\n",
      " Observations:            74                  1978 automobile data\n",
      "    Variables:            12                  13 Apr 2020 17:45\n",
      "                                              (_dta has notes)\n",
      "--------------------------------------------------------------------------------\n",
      "Variable      Storage   Display    Value\n",
      "    name         type    format    label      Variable label\n",
      "--------------------------------------------------------------------------------\n",
      "make            str18   %-18s                 Make and model\n",
      "price           int     %8.0gc                Price\n",
      "mpg             int     %8.0g                 Mileage (mpg)\n",
      "rep78           int     %8.0g                 Repair record 1978\n",
      "headroom        float   %6.1f                 Headroom (in.)\n",
      "trunk           int     %8.0g                 Trunk space (cu. ft.)\n",
      "weight          int     %8.0gc                Weight (lbs.)\n",
      "length          int     %8.0g                 Length (in.)\n",
      "turn            int     %8.0g                 Turn circle (ft.)\n",
      "displacement    int     %8.0g                 Displacement (cu. in.)\n",
      "gear_ratio      float   %6.2f                 Gear ratio\n",
      "foreign         byte    %8.0g      origin     Car origin\n",
      "--------------------------------------------------------------------------------\n",
      "Sorted by: foreign\n"
     ]
    }
   ],
   "source": [
    "describe "
   ]
  },
  {
   "cell_type": "markdown",
   "id": "d15255a8",
   "metadata": {},
   "source": [
    "Notice that this dataset consists of 12 variables and 74 observations. We can see that one of the those variables is named `make` and that that variable indicates the make and model of the vehicle. We can also see that variable `make` is made up of text because it is a string variables. Other variables are numeric. For example, the variable `mpg` that indicates the vehicle's mileage (miles per gallon) is an interger. The variable `foreign` is also numeric and it likely only takes the values 0 or 1 indicating whether the car is foreign or domestically made; this is a dummy variable. \n",
    "\n",
    "The numeric variables store numbers of different sizes based on their sub-type. You can see a brief description here\n",
    "\n",
    "![](img/data_type_num.png)\n",
    "\n",
    "The string variables store text of different size based on their sub-type. The brief description is provided here\n",
    "\n",
    "![](img/data_type_str.png)\n",
    "\n"
   ]
  },
  {
   "cell_type": "markdown",
   "id": "5a6b0114",
   "metadata": {},
   "source": [
    "## 3.2 Introduction to Stata Command Syntax\n",
    "\n",
    "### 3.2.1 Using HELP to understand your commands\n",
    "\n",
    "To help us get comfortable with the syntax used by Stata, let's start with a simple and useful command:`summarize`. This command will give us the basic statistics from any variable in the dataset, such as the dummy variable that we talk about a moment ago. "
   ]
  },
  {
   "cell_type": "code",
   "execution_count": 15,
   "id": "5193ef56",
   "metadata": {
    "tags": []
   },
   "outputs": [
    {
     "name": "stdout",
     "output_type": "stream",
     "text": [
      "\n",
      "    Variable |        Obs        Mean    Std. dev.       Min        Max\n",
      "-------------+---------------------------------------------------------\n",
      "       rep78 |         69    3.405797    .9899323          1          5\n"
     ]
    }
   ],
   "source": [
    "summarize rep78"
   ]
  },
  {
   "cell_type": "markdown",
   "id": "f2455670-6b32-47df-bd18-70a73b3d10b0",
   "metadata": {},
   "source": [
    "The same command can be used to view the statistics from multiple variables at the same time by writing `summarize varname1 varname2` etc. Try this yourself in the empty cell below using some of variable names we learned about above using `describe`"
   ]
  },
  {
   "cell_type": "code",
   "execution_count": null,
   "id": "eeab7410",
   "metadata": {
    "tags": []
   },
   "outputs": [],
   "source": []
  },
  {
   "cell_type": "markdown",
   "id": "8ae99045",
   "metadata": {},
   "source": [
    "Stata has a help manual installed in the program that provides documentation of a particular command. This information can be reached by typing the command `help` and then the name of the command we need extra information about. \n",
    "\n",
    "To see the extra information that is available for `summarize` run the command below: "
   ]
  },
  {
   "cell_type": "code",
   "execution_count": 1,
   "id": "bbe0b9a2",
   "metadata": {},
   "outputs": [
    {
     "name": "stdout",
     "output_type": "stream",
     "text": [
      "\n",
      "[R] summarize -- Summary statistics\n",
      "                 (View complete PDF manual entry)\n",
      "\n",
      "\n",
      "Syntax\n",
      "------\n",
      "\n",
      "        summarize [varlist] [if] [in] [weight] [, options]\n",
      "\n",
      "    options           Description\n",
      "    --------------------------------------------------------------------------\n",
      "    Main\n",
      "      detail          display additional statistics\n",
      "      meanonly        suppress the display; calculate only the mean;\n",
      "                        programmer's option\n",
      "      format          use variable's display format\n",
      "      separator(#)    draw separator line after every # variables; default is\n",
      "                        separator(5)\n",
      "      display_options control spacing, line width, and base and empty cells\n",
      "\n",
      "    --------------------------------------------------------------------------\n",
      "    varlist may contain factor variables; see fvvarlist.\n",
      "    varlist may contain time-series operators; see tsvarlist.\n",
      "    by, collect, rolling, and statsby are allowed; see prefix.\n",
      "  \n",
      "    aweights, fweights, and iweights are allowed.  However, iweights may not\n",
      "      be used with the detail option; see weight.\n",
      "\n",
      "\n",
      "Menu\n",
      "----\n",
      "\n",
      "    Statistics > Summaries, tables, and tests > Summary and descriptive\n",
      "        statistics > Summary statistics\n",
      "\n",
      "\n",
      "Description\n",
      "-----------\n",
      "\n",
      "    summarize calculates and displays a variety of univariate summary\n",
      "    statistics.  If no varlist is specified, summary statistics are calculated\n",
      "    for all the variables in the dataset.\n",
      "\n",
      "\n",
      "Links to PDF documentation\n",
      "--------------------------\n",
      "\n",
      "        Quick start\n",
      "\n",
      "        Remarks and examples\n",
      "\n",
      "        Methods and formulas\n",
      "\n",
      "    The above sections are not included in this help file.\n",
      "\n",
      "\n",
      "Options\n",
      "-------\n",
      "\n",
      "        +------+\n",
      "    ----+ Main +--------------------------------------------------------------\n",
      "\n",
      "    detail produces additional statistics, including skewness, kurtosis, the\n",
      "        four smallest and four largest values, and various percentiles.\n",
      "\n",
      "    meanonly, which is allowed only when detail is not specified, suppresses\n",
      "        the display of results and calculation of the variance.  Ado-file\n",
      "        writers will find this useful for fast calls.\n",
      "\n",
      "    format requests that the summary statistics be displayed using the display\n",
      "        formats associated with the variables rather than the default g\n",
      "        display format; see [D] format.\n",
      "\n",
      "    separator(#) specifies how often to insert separation lines into the\n",
      "        output.  The default is separator(5), meaning that a line is drawn\n",
      "        after every five variables.  separator(10) would draw a line after\n",
      "        every 10 variables.  separator(0) suppresses the separation line.\n",
      "\n",
      "    display_options:  vsquish, noemptycells, baselevels, allbaselevels,\n",
      "        nofvlabel, fvwrap(#), and fvwrapon(style); see [R] Estimation options.\n",
      "\n",
      "\n",
      "Examples\n",
      "--------\n",
      "\n",
      "    . sysuse auto\n",
      "    . summarize\n",
      "    . summarize mpg weight\n",
      "    . summarize mpg weight if foreign\n",
      "    . summarize mpg weight if foreign, detail\n",
      "    . summarize i.rep78\n",
      "\n",
      "\n",
      "Video example\n",
      "-------------\n",
      "\n",
      "    Descriptive statistics in Stata\n",
      "--more--\n",
      "\n"
     ]
    }
   ],
   "source": [
    "help summarize"
   ]
  },
  {
   "cell_type": "markdown",
   "id": "d729e924",
   "metadata": {},
   "source": [
    "You will need to run this command directly into Stata on your computer in order to able to see all of the information provided by `help`. I suggest that you run that in Stata now to be able to see that output directly.\n",
    "\n",
    "When you do you will see that the first one or two letters of the commmand is often underlined. This underlying indicates the shortest allowable abbreviation for a command (or option). \n",
    "\n",
    "For example, if you type `help rename` you will see that `rename` can be abbreviated `ren`, `rena`, or `renam`, or it can be spelled out in its entirety. \n",
    "\n",
    "Other examples are, `g`enerate, `ap`pend, `rot`ate, `ru`n.\n",
    "\n",
    "If there is no underline, then no abbreviation is allowed. For example, the command `replace` cannot be abbreviated. The reason for this is that Stata doesn't want you to accidentally make changes to your data by replacing the information in the variable. \n",
    "\n",
    "We can write `summarize` command as its shortest abbreviation `su` or a longer abbreviation such as `sum`. \n",
    "\n",
    "Also in the help output in Stata you will see that some words are written blue and are encased within square brackets. We will talk more about these options below, but in Stata you can directly click on those links for more information from help. \n",
    "\n",
    "Finally, help provides a the list of the available options which here will result in the display of extra information of the variable. We will learn more about this below in section 3.2.4."
   ]
  },
  {
   "cell_type": "markdown",
   "id": "82bd3637",
   "metadata": {},
   "source": [
    "### 3.2.2 Imposing IF Conditions\n",
    "\n",
    "When the syntax of the command allows for `[if]`, we can run the command on a subset of the data that satisfies any condition we choose. The list of conditional operators is the following:\n",
    "\n",
    "1. Equal: ==\n",
    "2. Greater than and less than: > and <\n",
    "3. Greater than or equal and less than or equal: >= and <= \n",
    "4. Not Equal: != \n",
    "\n",
    "We can also compound different conditions using the list of logical operators:\n",
    "\n",
    "1. And: & \n",
    "2. Or: | \n",
    "3. Not: ! or ~ \n",
    "\n",
    "Let's look at an example using this new knowledge by summarizing the variable `price` when the make of car is domestic (i.e. not foreign):"
   ]
  },
  {
   "cell_type": "code",
   "execution_count": 25,
   "id": "2393aa31",
   "metadata": {},
   "outputs": [
    {
     "name": "stdout",
     "output_type": "stream",
     "text": [
      "\n",
      "    Variable |        Obs        Mean    Std. dev.       Min        Max\n",
      "-------------+---------------------------------------------------------\n",
      "       price |         52    6072.423    3097.104       3291      15906\n"
     ]
    }
   ],
   "source": [
    "su price if foreign == 0"
   ]
  },
  {
   "cell_type": "markdown",
   "id": "b25662dd-4e00-4bea-8365-2d6534a2b901",
   "metadata": {},
   "source": [
    "Let's do this again, but now we will impose the additional condition that the mileage must be less than 25."
   ]
  },
  {
   "cell_type": "code",
   "execution_count": 26,
   "id": "5915e31f",
   "metadata": {},
   "outputs": [
    {
     "name": "stdout",
     "output_type": "stream",
     "text": [
      "\n",
      "    Variable |        Obs        Mean    Std. dev.       Min        Max\n",
      "-------------+---------------------------------------------------------\n",
      "       price |         44    6354.568    3273.345       3291      15906\n"
     ]
    }
   ],
   "source": [
    "su price if foreign == 0  & mpg < 25"
   ]
  },
  {
   "cell_type": "markdown",
   "id": "17dbf4c8",
   "metadata": {},
   "source": [
    "Maybe we want to restrict to a particular list of values. Here we can make use of the option `inlist()` or we can write out all of the conditions using the \"or\" operator:"
   ]
  },
  {
   "cell_type": "code",
   "execution_count": 11,
   "id": "d671bf5b",
   "metadata": {},
   "outputs": [
    {
     "name": "stdout",
     "output_type": "stream",
     "text": [
      "\n",
      "    Variable |        Obs        Mean    Std. dev.       Min        Max\n",
      "-------------+---------------------------------------------------------\n",
      "       price |          7    6507.857     1838.25       4482       9735\n"
     ]
    }
   ],
   "source": [
    "su price if inlist(mpg,10,15,25,40)"
   ]
  },
  {
   "cell_type": "markdown",
   "id": "f9d1f0fe",
   "metadata": {},
   "source": [
    "This works exactly same way as this command:"
   ]
  },
  {
   "cell_type": "code",
   "execution_count": 12,
   "id": "5ac5a632",
   "metadata": {},
   "outputs": [
    {
     "name": "stdout",
     "output_type": "stream",
     "text": [
      "\n",
      "    Variable |        Obs        Mean    Std. dev.       Min        Max\n",
      "-------------+---------------------------------------------------------\n",
      "       price |          7    6507.857     1838.25       4482       9735\n"
     ]
    }
   ],
   "source": [
    "su price if mpg == 10 | mpg == 15 | mpg == 25 | mpg == 40"
   ]
  },
  {
   "cell_type": "markdown",
   "id": "130191fe-1019-4d4f-b557-f43bd296ffff",
   "metadata": {},
   "source": [
    "Maybe we want to restrict values in a particular range. Here we can make use of the option inrange() or we can write out all of the conditions using the conditional operators:"
   ]
  },
  {
   "cell_type": "code",
   "execution_count": 13,
   "id": "437f39b8",
   "metadata": {},
   "outputs": [
    {
     "name": "stdout",
     "output_type": "stream",
     "text": [
      "\n",
      "    Variable |        Obs        Mean    Std. dev.       Min        Max\n",
      "-------------+---------------------------------------------------------\n",
      "       price |         60    6577.083    3117.013       3291      15906\n"
     ]
    }
   ],
   "source": [
    "su price if inrange(mpg,5,25) "
   ]
  },
  {
   "cell_type": "markdown",
   "id": "2643276e",
   "metadata": {},
   "source": [
    "This works exactly same way as this command:This works exactly same way as this command:"
   ]
  },
  {
   "cell_type": "code",
   "execution_count": 14,
   "id": "32341d60",
   "metadata": {},
   "outputs": [
    {
     "name": "stdout",
     "output_type": "stream",
     "text": [
      "\n",
      "    Variable |        Obs        Mean    Std. dev.       Min        Max\n",
      "-------------+---------------------------------------------------------\n",
      "       price |         60    6577.083    3117.013       3291      15906\n"
     ]
    }
   ],
   "source": [
    "su price if mpg>=5 & mpg<=25"
   ]
  },
  {
   "cell_type": "markdown",
   "id": "4fc8723b",
   "metadata": {
    "tags": []
   },
   "source": [
    "There might be some variables where there is no information recorded for some particular observations. For example, when we `summarize` our automobile data you will see that there are 74 observations for most variables, but that the variable \"rep78\" has only 69 observations - for five observations there is no repair record indicated in the dataset."
   ]
  },
  {
   "cell_type": "code",
   "execution_count": 19,
   "id": "b2292e6e",
   "metadata": {},
   "outputs": [
    {
     "name": "stdout",
     "output_type": "stream",
     "text": [
      "\n",
      "    Variable |        Obs        Mean    Std. dev.       Min        Max\n",
      "-------------+---------------------------------------------------------\n",
      "       price |         74    6165.257    2949.496       3291      15906\n",
      "       rep78 |         69    3.405797    .9899323          1          5\n"
     ]
    }
   ],
   "source": [
    "su price rep78 "
   ]
  },
  {
   "cell_type": "markdown",
   "id": "26a5d7a2",
   "metadata": {},
   "source": [
    "If for some reason we only want to consider observations without missing values, is with the option `!missing()` which combines the command `missing()` with the negative conditional operator \"!\". The command below says to summarize the variable `price` for the observations where the observations for which `rep78` is NOT missing."
   ]
  },
  {
   "cell_type": "code",
   "execution_count": 20,
   "id": "b759c46a",
   "metadata": {},
   "outputs": [
    {
     "name": "stdout",
     "output_type": "stream",
     "text": [
      "\n",
      "    Variable |        Obs        Mean    Std. dev.       Min        Max\n",
      "-------------+---------------------------------------------------------\n",
      "       price |         69    6146.043     2912.44       3291      15906\n"
     ]
    }
   ],
   "source": [
    "su price if !missing(rep78)"
   ]
  },
  {
   "cell_type": "markdown",
   "id": "f153c5d0-f767-4224-812a-7ef72868f2c7",
   "metadata": {},
   "source": [
    "This command can also be written using the conditional operator since missing numeric variables are indicated by a \".\". You can see that command here:"
   ]
  },
  {
   "cell_type": "code",
   "execution_count": 21,
   "id": "bbe0e504",
   "metadata": {},
   "outputs": [
    {
     "name": "stdout",
     "output_type": "stream",
     "text": [
      "\n",
      "    Variable |        Obs        Mean    Std. dev.       Min        Max\n",
      "-------------+---------------------------------------------------------\n",
      "       price |         69    6146.043     2912.44       3291      15906\n"
     ]
    }
   ],
   "source": [
    "su price if rep78!=."
   ]
  },
  {
   "cell_type": "markdown",
   "id": "57912575-66cd-4aef-8380-812a1685c9e8",
   "metadata": {},
   "source": [
    "Notice that in both cases there are only 69 observations.\n",
    "\n",
    "For future refence, if you want to do this with missing string variables you can indicate those with \"\". "
   ]
  },
  {
   "cell_type": "markdown",
   "id": "299a1cd4",
   "metadata": {},
   "source": [
    "### 3.2.3 Imposing IN Conditions \n",
    "\n",
    "We can also subset the data by using the observation number. The example below summarizes the data in observations 1 through 10."
   ]
  },
  {
   "cell_type": "code",
   "execution_count": 16,
   "id": "405da0d6",
   "metadata": {},
   "outputs": [
    {
     "name": "stdout",
     "output_type": "stream",
     "text": [
      "\n",
      "    Variable |        Obs        Mean    Std. Dev.       Min        Max\n",
      "-------------+---------------------------------------------------------\n",
      "       price |         10      5517.4    2063.518       3799      10372\n"
     ]
    }
   ],
   "source": [
    "su price in 1/10"
   ]
  },
  {
   "cell_type": "markdown",
   "id": "12db3e2a",
   "metadata": {},
   "source": [
    "But be careful! These type of conditions are generally not recommended because they depend on the order of the data.\n",
    "\n",
    "To show this, lets change the order the observations from lower to higher price by running the command `sort` and they run the same in condition: "
   ]
  },
  {
   "cell_type": "code",
   "execution_count": 27,
   "id": "74011390",
   "metadata": {},
   "outputs": [
    {
     "name": "stdout",
     "output_type": "stream",
     "text": [
      "\n",
      "\n",
      "\n",
      "    Variable |        Obs        Mean    Std. dev.       Min        Max\n",
      "-------------+---------------------------------------------------------\n",
      "       price |         10      3726.5    245.9007       3291       3984\n"
     ]
    }
   ],
   "source": [
    "sort price \n",
    "su price in 1/10"
   ]
  },
  {
   "cell_type": "markdown",
   "id": "3cabb699",
   "metadata": {},
   "source": [
    "You can see that the result changes because the observations 1 through 10 in the data has changed. \n",
    "\n",
    "Always avoid using `in` whenever you can use `if` instead!"
   ]
  },
  {
   "cell_type": "markdown",
   "id": "8525e318",
   "metadata": {},
   "source": [
    "### 3.2.4 Command Options\n",
    "\n",
    "When we used the `help` command, we saw that we can introduce some optional arguments after a comma. In the case of the `summarize` command we were show the options: `d`etail, `mean`only, `f`ormat and `sep`arator(#). \n",
    "\n",
    "If we want additional statistics apart from the mean std. deviation, min and max values we would use the option `detail` or if you prefer you can replace the option `detail` with just `d`."
   ]
  },
  {
   "cell_type": "code",
   "execution_count": 28,
   "id": "4125d4a6",
   "metadata": {},
   "outputs": [
    {
     "name": "stdout",
     "output_type": "stream",
     "text": [
      "\n",
      "                            Price\n",
      "-------------------------------------------------------------\n",
      "      Percentiles      Smallest\n",
      " 1%         3291           3291\n",
      " 5%         3748           3299\n",
      "10%         3895           3667       Obs                  74\n",
      "25%         4195           3748       Sum of wgt.          74\n",
      "\n",
      "50%       5006.5                      Mean           6165.257\n",
      "                        Largest       Std. dev.      2949.496\n",
      "75%         6342          13466\n",
      "90%        11385          13594       Variance        8699526\n",
      "95%        13466          14500       Skewness       1.653434\n",
      "99%        15906          15906       Kurtosis       4.819188\n"
     ]
    }
   ],
   "source": [
    "su price , d"
   ]
  },
  {
   "cell_type": "markdown",
   "id": "eb20bbbf",
   "metadata": {},
   "source": [
    "## 3.3 Using Loops \n",
    "\n",
    "Much like any other programming languages, there are `for` and `while` loops that we can use to iterate through many instances. In particular, the `for` loops are also sub-divided into `forvalues` (iterate across a range of numbers) and `foreach` (iterate across a list of names). \n",
    "\n",
    "It is very common that these loops create a local scope (i.e. the iteration labels only exist within a loop). A local in Stata is a special variable that temporarily stores information. We'll discuss locals in the next module, but consider this simple example in which the letter \"i\" is used as a place holder for the number 95. "
   ]
  },
  {
   "cell_type": "code",
   "execution_count": 36,
   "id": "e5e000e8",
   "metadata": {},
   "outputs": [
    {
     "name": "stdout",
     "output_type": "stream",
     "text": [
      "\n",
      "\n",
      "95\n"
     ]
    }
   ],
   "source": [
    "local i = 95\n",
    "\n",
    "display `i'"
   ]
  },
  {
   "cell_type": "markdown",
   "id": "eedd47a2-8773-4a59-a7ad-fcad145be220",
   "metadata": {},
   "source": [
    "We can also create locals that are strings rather than numberic. Consider this example:"
   ]
  },
  {
   "cell_type": "code",
   "execution_count": 37,
   "id": "252cb8d9",
   "metadata": {},
   "outputs": [
    {
     "name": "stdout",
     "output_type": "stream",
     "text": [
      "\n",
      "\n",
      "ECON 490\n"
     ]
    }
   ],
   "source": [
    "local course = \"ECON 490\"\n",
    "\n",
    "display \"`course'\""
   ]
  },
  {
   "cell_type": "markdown",
   "id": "c815061c",
   "metadata": {},
   "source": [
    "\n",
    "We can store anything inside a local and when we want to use that information we include the local encased in a backtick (\\`) and  apostrophe (')."
   ]
  },
  {
   "cell_type": "code",
   "execution_count": 39,
   "id": "4d859c21-727e-4d3b-bab4-18de8b8be25c",
   "metadata": {},
   "outputs": [
    {
     "name": "stdout",
     "output_type": "stream",
     "text": [
      "\n",
      "\n",
      "I am enrolled in ECON 490 and hope my grade will be 95%!\n"
     ]
    }
   ],
   "source": [
    "local course = \"ECON 490\"\n",
    "\n",
    "display \"I am enrolled in `course' and hope my grade will be `i'%!\""
   ]
  },
  {
   "cell_type": "markdown",
   "id": "335beb73",
   "metadata": {},
   "source": [
    "### 3.3.1 Creating Loops Using Forvalues \n",
    "\n",
    "Whenever we want to iterate across a range of values defined as `min_value(steps)max_value`, we can write the command below. Here we are interating from 1 to 10 in incriments of 1."
   ]
  },
  {
   "cell_type": "code",
   "execution_count": 43,
   "id": "0047f100",
   "metadata": {},
   "outputs": [
    {
     "name": "stdout",
     "output_type": "stream",
     "text": [
      "\n",
      "1\n",
      "2\n",
      "3\n",
      "4\n",
      "5\n",
      "6\n",
      "7\n",
      "8\n",
      "9\n",
      "10\n"
     ]
    }
   ],
   "source": [
    "forvalues counter=1(1)10{\n",
    "    *Notice that now counter is a local variable\n",
    "    display `counter'\n",
    "}"
   ]
  },
  {
   "cell_type": "markdown",
   "id": "9ba7d46c-b387-4032-971c-114160ba24ad",
   "metadata": {
    "tags": []
   },
   "source": [
    "Notice that the open brace ({) needs to be on the same line as the `for` command, with no comments after it. Similarly, the closing brace (}) needs to be on its own line."
   ]
  },
  {
   "cell_type": "markdown",
   "id": "1b7aa836-8614-46ab-9fb2-b8228135185b",
   "metadata": {},
   "source": [
    "Try change run command above, with different minimum or maximum values and/or different incriments, in the cell below."
   ]
  },
  {
   "cell_type": "code",
   "execution_count": null,
   "id": "57d2aa66",
   "metadata": {},
   "outputs": [],
   "source": []
  },
  {
   "cell_type": "markdown",
   "id": "18b1cc56",
   "metadata": {},
   "source": [
    "### 3.3.2 Creating Loops Using Foreach\n",
    "\n",
    "Whenever we want to iterate across a list of names, we may write the command below which asks Stata to `summarize` for a list of variables: `mpg` and `price`."
   ]
  },
  {
   "cell_type": "code",
   "execution_count": 44,
   "id": "e1e987c3",
   "metadata": {},
   "outputs": [
    {
     "name": "stdout",
     "output_type": "stream",
     "text": [
      "\n",
      "\n",
      "    Variable |        Obs        Mean    Std. dev.       Min        Max\n",
      "-------------+---------------------------------------------------------\n",
      "         mpg |         74     21.2973    5.785503         12         41\n",
      "\n",
      "    Variable |        Obs        Mean    Std. dev.       Min        Max\n",
      "-------------+---------------------------------------------------------\n",
      "       price |         74    6165.257    2949.496       3291      15906\n"
     ]
    }
   ],
   "source": [
    "foreach name in \"mpg\" \"price\"{\n",
    "    summarize `name'\n",
    "}"
   ]
  },
  {
   "cell_type": "markdown",
   "id": "9a7440be",
   "metadata": {},
   "source": [
    "We can have a list stored in a local variable as well."
   ]
  },
  {
   "cell_type": "code",
   "execution_count": 45,
   "id": "a2fbfa65",
   "metadata": {},
   "outputs": [
    {
     "name": "stdout",
     "output_type": "stream",
     "text": [
      "\n",
      "\n",
      "\n",
      "    Variable |        Obs        Mean    Std. dev.       Min        Max\n",
      "-------------+---------------------------------------------------------\n",
      "         mpg |         74     21.2973    5.785503         12         41\n",
      "\n",
      "    Variable |        Obs        Mean    Std. dev.       Min        Max\n",
      "-------------+---------------------------------------------------------\n",
      "       price |         74    6165.257    2949.496       3291      15906\n"
     ]
    }
   ],
   "source": [
    "local namelist \"mpg price\"\n",
    "foreach name in `namelist'{\n",
    "    summarize `name'\n",
    "}"
   ]
  },
  {
   "cell_type": "markdown",
   "id": "da6c3fe6",
   "metadata": {},
   "source": [
    "### 3.3.3 Writing Loops With Conitions Using While\n",
    "\n",
    "Whenever we want to iterate until a condition is met, we may write the command below. The condition here is simply \"while counter is less than 5\". "
   ]
  },
  {
   "cell_type": "code",
   "execution_count": 36,
   "id": "edc8b7fc",
   "metadata": {},
   "outputs": [
    {
     "name": "stdout",
     "output_type": "stream",
     "text": [
      "\n",
      "\n",
      "1\n",
      "2\n",
      "3\n",
      "4\n"
     ]
    }
   ],
   "source": [
    "local counter = 1 \n",
    "while `counter'<5{\n",
    "    display `counter'\n",
    "    local counter = `counter'+1\n",
    "}"
   ]
  },
  {
   "cell_type": "markdown",
   "id": "48a855d2",
   "metadata": {},
   "source": [
    "# 3.4 Wrapping up\n",
    "\n",
    "\n",
    "In this module we understood the way Stata commands work and their syntax. In general, many Stata commands will follow the folllowing structure \n",
    "\n",
    "```\n",
    "  name_of_command [varlist] [if] [in] [weight] [, options]\n",
    "```\n",
    "\n",
    "At this point, you should feel more comfortable reading a documentation file for a Stata command. The question that remains is how to find new commands!\n",
    "\n",
    "You are encouraged to search for commands using the command `search`. For example, if you are interested in running a regression you can write:"
   ]
  },
  {
   "cell_type": "code",
   "execution_count": 20,
   "id": "bd581dc5",
   "metadata": {},
   "outputs": [],
   "source": [
    "search regress "
   ]
  },
  {
   "cell_type": "markdown",
   "id": "3bead0e4",
   "metadata": {},
   "source": [
    "You will see that Stata on your computer new window pops up and you can click at the different options that it shows to look at the documentation for all these commands. Try it yourself!\n",
    "\n",
    "\n",
    "In any of the following modules, whenever there is a command confuses you, you should feel free to write `search command` or `help command` to redirect to the documentation. "
   ]
  }
 ],
 "metadata": {
  "kernelspec": {
   "display_name": "Stata",
   "language": "stata",
   "name": "stata"
  },
  "language_info": {
   "codemirror_mode": "stata",
   "file_extension": ".do",
   "mimetype": "text/x-stata",
   "name": "stata",
   "version": "15.1"
  }
 },
 "nbformat": 4,
 "nbformat_minor": 5
}
