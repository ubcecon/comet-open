{
  "cells": [
    {
      "cell_type": "markdown",
      "metadata": {},
      "source": [
        "# 4.3.1 - Advanced - Transcription\n",
        "\n",
        "COMET Team <br> *Irene Berezin*\n",
        "\n",
        "------------------------------------------------------------------------\n",
        "\n",
        "## Prerequisites\n",
        "\n",
        "-   Have installed Anaconda Navigator and Python on your computer\n",
        "\n",
        "## Learning outcomes\n",
        "\n",
        "-   Understand the basic mechanics behild audio transcription\n",
        "-   Be familiar with the various elements of Whisper audio transcription\n",
        "-   Be able to transcribe and diarize short-form and long-form audio\n",
        "\n",
        "------------------------------------------------------------------------\n",
        "\n",
        "## 1. Introduction\n",
        "\n",
        "<img src=\"images/openai.png\" alt=\"whisper audio\" width = \"1000\"/>\n",
        "\n",
        "### 1.1 What is audio transcription?\n",
        "\n",
        "Audio transcription is the language processing task of converting audio\n",
        "files containing human speech into text using a computer. This task most\n",
        "often includes the process of *diarization*, the process of\n",
        "distinguishing and labeling the various speakers in the audio file.\n",
        "Application of audio transcription include multi-lingual captions on\n",
        "online videos, real-time online meeting transcription, and much more.\n",
        "\n",
        "*Automatic speech recognition (ASR) systems* are interfaces that use\n",
        "machine learning/artificial intelligence to process speech audio files\n",
        "into text. In this module, we will be using the open-source ASR system\n",
        "*Whisper* by OpenAI to transcribe and diarize various audio files.\n",
        "\n",
        "### 1.2 What is *Whisper*?\n",
        "\n",
        "Whisper is a ASR model for transcription and speech recognition designed\n",
        "by OpenAI. Whisper stands out from it’s predecessors due to it being\n",
        "trained on roughly 680 thousand hours of labeled audio transcription\n",
        "data, signfificantly more than the models that came before it; thus,\n",
        "Whisper exhibits a much higher accuracy when tested against audio data\n",
        "outside of it’s training set compared to older models such as\n",
        "*Wav2Vec*$^{[1]}$.\n",
        "\n",
        "#### 1.2.1 How does Whisper work?\n",
        "\n",
        "Whisper, and audio transcription models in general, work by converting\n",
        "raw audio data into a spectrogram, specifically a *Log-Mel spectrogam*,\n",
        "which plots the time on the x-axis, the mels scale (a logarithmic form\n",
        "of the Hertz frequency) on the y-axis, and colors the data with respect\n",
        "to the amplitude of the audio data at each mel frequency and point in\n",
        "time.\n",
        "\n",
        "The mel-spectogram is then ran though a tokenizer, which converts the\n",
        "individual words in the spectrogram into lexical tokens- strings with\n",
        "assigned meaning that can be read by the language model. The encoder is\n",
        "a stack of transformer blocks that process the tokens, extracting\n",
        "features and relationships between different parts of the audio. The\n",
        "processed information from the encoder is passed to the decoder, another\n",
        "stack of transformer blocks that generate an output sequence (predicting\n",
        "the corresponding text captions word by word)$^{[2]}$.\n",
        "\n",
        "<img src=\"images/transformers.png\" alt=\"transformer process\" width = \"800\"/>\n",
        "\n",
        "#### 1.2.2 Optimizing Whisper transcription\n",
        "\n",
        "Alongside whisper, there exist many libraries that aim to optimize the\n",
        "current whisper model by increasing transcription speed and accuracy.\n",
        "Some examples include:\n",
        "\n",
        "**[Distil-Whisper](https://github.com/huggingface/distil-whisper)**: a\n",
        "smaller, optimized version of whisper created by *HuggingFace* using\n",
        "knowledge distillation. The Distil-Whisper model claims to be 6x faster,\n",
        "50% smaller, and within a 1% word error rate relative to the original\n",
        "whisper model $^{[3]}$. \\> Pros: CPU-compatible, significantly faster\n",
        "compared to OpenAI’s Whisper model.\n",
        "\n",
        "> Cons: Only supports english-speech to english-text transcription.\n",
        ">\n",
        "> This is the model that we will be using in this notebook, due to it’s\n",
        "> relevance and compatability with our use cases for audio\n",
        "> transcription. However, if you have a relatively powerful computer and\n",
        "> feel up for the challenge, consider following along with one of the\n",
        "> alternatives listed below.\n",
        "\n",
        "**[Whisper-Jax](https://github.com/sanchit-gandhi/whisper-jax)**:\n",
        "Another optimized version of whisper built on the *Transformers*\n",
        "library. Whisper-Jax claims to be 70x faster than the original Whisper\n",
        "model $^{[4]}$. \\> Pros: CPU-compatible, significantly faster compared\n",
        "to OpenAI’s Whisper model.\n",
        "\n",
        "> Cons: Optimized for GPU/TPU usage.\n",
        "\n",
        "**[Insanely-Fast-Whisper](https://github.com/Vaibhavs10/insanely-fast-whisper)**:\n",
        "A command-line interface that greatly speeds up whisper performance and\n",
        "claims to be able to trascribe 150 minutes of audio in less than 98\n",
        "seconds $^{[5]}$.. \\> Pros: One of the fastest versions of whisper\n",
        "available today.\n",
        "\n",
        "> Cons: Only works on NVIDIA GPUs.\n",
        "\n",
        "------------------------------------------------------------------------\n",
        "\n",
        "## 2. Installations\n",
        "\n",
        "### 2.1 Activating conda environment & downloading Jupyter Lab\n",
        "\n",
        "(If you’ve already done this, please move on to section 2.2)\n",
        "\n",
        "#### 2.1.1 Setting up and activating a conda envornment\n",
        "\n",
        "An *environment* is a repository of packages that you have installed on\n",
        "your computer. It acts similar to a virtual machine, keeping the\n",
        "packages needed for one project seperate from other projects, to avoid\n",
        "version conflicts, cluttering, etc.\n",
        "\n",
        "Let’s start by opening up the conda command prompt. 1) On windows 11,\n",
        "press the windows icon at the bottom of the screen. 2) Press *“all\n",
        "apps”*, and open the `anaconda3 (64bit)` folder. 3) Left-click on\n",
        "`anaconda prompt`, select `more`, and press `run as administrator`. This\n",
        "will open the command prompt window. 4) Lets create a new environment\n",
        "and call it *“whisper”*. In the command prompt, copy-and-paste the\n",
        "following line of code: `conda create -n whisper`. 5) Let’s activate our\n",
        "new environment. Once your new environment is created, type\n",
        "`conda activate whisper`.\n",
        "\n",
        "We’ve successfully created and activated our environment.\n",
        "\n",
        "#### 2.1.2 Installing and opening Jupyter lab\n",
        "\n",
        "To install jupyter, type in the following line of code:\n",
        "`conda install jupyter`. Once jupyter is finished installing, simply\n",
        "type `jupyter lab` in the command prompt. This will open up jupyter\n",
        "locally in your default browser."
      ],
      "id": "6a756e77-0678-4e09-a332-6e162d85ce0e"
    },
    {
      "cell_type": "raw",
      "metadata": {
        "raw_mimetype": "text/html"
      },
      "source": [
        "<div class=\"alert alert-block alert-info\">"
      ],
      "id": "f706adeb-32e1-47b7-83df-aa4bc1628a1e"
    },
    {
      "cell_type": "markdown",
      "metadata": {},
      "source": [
        "<b>Note</b>: these steps only need to be done once on each computer. The\n",
        "next time you wish to open jupyter locally, you only need to activate\n",
        "your conda environment and type in “jupyter lab” in the conda prompt.\n",
        "\n",
        "<b>Warning:</b> Make sure not to close the anaconda prompt while jupyter\n",
        "is running. Doing so will cause Jupyter to lose connection and may\n",
        "result in you losing unsaved work.\n",
        "\n",
        "### 2.2 Installaling Whisper\n",
        "\n",
        "#### 2.2.1 Installing Pytorch\n",
        "\n",
        "Lets start off by installing *PyTorch*, a machine learning library based\n",
        "on the Torch frame work, on which Whisper is built on. To install\n",
        "pytorch, open the conda prompt as an administrator, ensure that you are\n",
        "in the `whisper` enviornment that we created, and type in the following\n",
        "line of code:\n",
        "\n",
        "`conda install pytorch torchvision torchaudio cpuonly -c pytorch`\n",
        "\n",
        "If, for some reason, the installation does not work, you can also\n",
        "install pytorch through pip:\n",
        "\n",
        "`pip3 install torch torchvision torchaudio`\n",
        "\n",
        "Note: This installation is CPU only. If you have a NVIDIA GPU and would\n",
        "like to run whisper on your GPU, download\n",
        "<a href=\"https://developer.nvidia.com/cuda-downloads\">CUDA</a> and\n",
        "follow the PyTorch GPU setup\n",
        "<a href=\"https://pytorch.org/get-started/locally/\">here</a>."
      ],
      "id": "56232d84-13e5-4956-a0d1-930716ac7891"
    },
    {
      "cell_type": "raw",
      "metadata": {
        "raw_mimetype": "text/html"
      },
      "source": [
        "<center>"
      ],
      "id": "3ec6c395-2ef6-4b1c-8436-3513b0f5be18"
    },
    {
      "cell_type": "markdown",
      "metadata": {},
      "source": [
        "<img src=\"images/conda.png\" alt=\"pytorch install\" width = \"300\"/>"
      ],
      "id": "2717682d-a4a6-4c4f-b0a2-4e5b2d695402"
    },
    {
      "cell_type": "raw",
      "metadata": {
        "raw_mimetype": "text/html"
      },
      "source": [
        "</center>"
      ],
      "id": "3ba347f4-0a7e-4613-8568-931296ee4aac"
    },
    {
      "cell_type": "markdown",
      "metadata": {},
      "source": [
        "Note that the installation may take a few minutes to complete, and that\n",
        "the conda prompt will ask you to confirm installation by pressing ‘y’.\n",
        "If the end result looks like this, you’ve installed Pytorch correctly.\n",
        "\n",
        "#### 2.2.2 Installing Transformers\n",
        "\n",
        "*Transformers* is a python package developped by *HuggingFace* which\n",
        "allows for easier downloading and training of natural langauge\n",
        "processing models, such as Whisper. The transformers library simplifies\n",
        "the audio transcription process by converting our audio files into text\n",
        "tokens for transcription without redundant code $^{[6]}$.\n",
        "\n",
        "We can download the transformers library using the following line of\n",
        "code in our conda prompt. We’ll also install the `Datasets` library to\n",
        "in case you’d like to use additional short-form audio:\n",
        "\n",
        "`pip install --upgrade pip`\n",
        "\n",
        "`pip install --upgrade transformers accelerate datasets[audio]`\n",
        "\n",
        "#### 2.2.3 Installing Whisper\n",
        "\n",
        "We can now install whisper. To do so, type the following line of code\n",
        "into the conda command prompt: `pip install -U openai-whisper`.\n",
        "\n",
        "Additionally, we’ll need to install the command-line tool *FFmpeg*, a\n",
        "open source software that helps with audio and video processing. We can\n",
        "do so by running the following line of code in conda prompt:\n",
        "`conda install conda-forge::ffmpeg`.\n",
        "\n",
        "#### 2.2.4 Installing Librosa and Soundfile\n",
        "\n",
        "Lastly, we’ll need to install librosa and soundfile, python packages for\n",
        "music and video analysis, which will allow us to preprocess our audio\n",
        "recordings before transcribing them. To do this, enter\n",
        "`pip install librosa soundfile` in the conda command prompt.\n",
        "\n",
        "------------------------------------------------------------------------\n",
        "\n",
        "## 3. Loading audio and preprocessing\n",
        "\n",
        "### 3.1 Loading audio samples\n",
        "\n",
        "It’s always a good idea to at least partially listen to the audio we\n",
        "wish to transcribe, to make sure that the audio file has no issues.\n",
        "\n",
        "Lets start off by loading some of the audio samples provided in this\n",
        "module. We’ll do this using the `IPython` library, which should already\n",
        "be installed on your device. If the code fails to run, run the following\n",
        "line of code in the conda prompt: `pip install ipython`."
      ],
      "id": "47808ff2-2162-4a68-a254-649dae2f0e58"
    },
    {
      "cell_type": "code",
      "execution_count": 1,
      "metadata": {},
      "outputs": [],
      "source": [
        "import IPython\n",
        "IPython.display.Audio(\"audio samples/mixkit-cartoon-kitty-begging-meow-92.wav\")\n",
        "\n",
        "# warning: Turn down your volume as the audio may be loud!"
      ],
      "id": "095a0e63"
    },
    {
      "cell_type": "markdown",
      "metadata": {},
      "source": [
        "Here is another example, this time from a longer [ColdFusion Youtube\n",
        "video](https://www.youtube.com/watch?v=a32RLgqNfGs)."
      ],
      "id": "b2b5a49c-6ec5-4c04-b86e-363738c90a3e"
    },
    {
      "cell_type": "code",
      "execution_count": 2,
      "metadata": {},
      "outputs": [],
      "source": [
        "import IPython\n",
        "IPython.display.Audio(\"audio samples/The Boeing Scandal Just Got A LOT Worse.mp3\")\n",
        "\n",
        "# warning: Turn down your volume as the audio may be loud!"
      ],
      "id": "1dcce2dc"
    },
    {
      "cell_type": "markdown",
      "metadata": {},
      "source": [
        "### 3.2 Preprocessing audio\n",
        "\n",
        "A *sampling rate* is the number of samples per second (or per other\n",
        "unit) taken from a continuous signal (the actual audio) to make a\n",
        "discrete signal (the audio recording)$^{[7]}$. It’s important to note\n",
        "that Whisper transcription is designed to work on **16kHz audio\n",
        "samples**. Since not all audio is 16kHz, we need to check the sampling\n",
        "rate of our audio file, and if it is not 16kHz, we can resample audio to\n",
        "the correct sampling rate using the librosa library.\n",
        "\n",
        "Let’s start off by checking the sampling rate of the kitty audio sample:"
      ],
      "id": "92d0dd39-0404-4f24-ae35-2d964c47e971"
    },
    {
      "cell_type": "code",
      "execution_count": 3,
      "metadata": {},
      "outputs": [],
      "source": [
        "import librosa\n",
        "import soundfile\n",
        "\n",
        "# Load the audio file\n",
        "audio_file_path = \"audio samples/mixkit-cartoon-kitty-begging-meow-92.wav\"  \n",
        "y, sr = librosa.load(audio_file_path, sr=None)  # Load the audio file and get the original sampling rate\n",
        "\n",
        "print(\"Sampling rate:\", sr)"
      ],
      "id": "da898a7a"
    },
    {
      "cell_type": "markdown",
      "metadata": {},
      "source": [
        "We see that the sampling rate, in this audio sample, is well above the\n",
        "16khz sampling rate that Whisper requires. Thus, we need to convert it\n",
        "to the proper sampling rate of 16kHz. We’ll do this using the `librosa`\n",
        "package."
      ],
      "id": "6d32fa02-1aca-48d5-86cd-87cfb994286e"
    },
    {
      "cell_type": "code",
      "execution_count": 4,
      "metadata": {},
      "outputs": [],
      "source": [
        "import librosa\n",
        "import soundfile as sf\n",
        "\n",
        "# Load the audio file\n",
        "audio_file_path = \"audio samples/mixkit-cartoon-kitty-begging-meow-92.wav\"  \n",
        "y, sr = librosa.load(audio_file_path, sr=44100)  # Load the audio file with the current sampling rate\n",
        "\n",
        "# Resample the audio to 16 kHz\n",
        "y_resampled = librosa.resample(y, orig_sr=44100, target_sr=16000)  # Resample the audio to a sampling rate of 16 kHz\n",
        "\n",
        "# Save the resampled audio to a new file\n",
        "output_file_path = \"audio samples/mixkit-cartoon-kitty-begging-meow-92_resamples.wav\"  # Path to save the resampled audio file\n",
        "sf.write(output_file_path, y_resampled, 16000)  # Save the resampled audio to a WAV file"
      ],
      "id": "e2d7af97"
    },
    {
      "cell_type": "code",
      "execution_count": 5,
      "metadata": {},
      "outputs": [],
      "source": [
        "audio_file_path = \"audio samples/mixkit-cartoon-kitty-begging-meow-92_resamples.wav\"  \n",
        "y, sr = librosa.load(audio_file_path, sr=None)  # Load the audio file and get the new sampling rate\n",
        "\n",
        "print(\"Sampling rate:\", sr)"
      ],
      "id": "2e44d807"
    },
    {
      "cell_type": "markdown",
      "metadata": {},
      "source": [
        "------------------------------------------------------------------------\n",
        "\n",
        "This also works on MP3 files, such as the coldfusion video we played\n",
        "earlier:"
      ],
      "id": "09677610-0608-4580-abfa-2397b1682b19"
    },
    {
      "cell_type": "code",
      "execution_count": 6,
      "metadata": {},
      "outputs": [],
      "source": [
        "audio_file_path = \"audio samples/House debates CPC motion of non-confidence against Trudeau's carbon tax CANADIAN POLITICS.mp3\"  # Replace \"your_audio_file.wav\" with the path to your audio file\n",
        "y, sr = librosa.load(audio_file_path, sr=None)  # Load the audio file and get the original sampling rate\n",
        "\n",
        "print(\"Sampling rate:\", sr)"
      ],
      "id": "8c0d7c88"
    },
    {
      "cell_type": "code",
      "execution_count": 7,
      "metadata": {},
      "outputs": [],
      "source": [
        "# Load the audio file\n",
        "audio_file_path = \"audio samples/House debates CPC motion of non-confidence against Trudeau's carbon tax CANADIAN POLITICS.mp3\"  \n",
        "y, sr = librosa.load(audio_file_path, sr=44100)  # Load the audio file with the current sampling rate\n",
        "\n",
        "# Resample the audio to 16 kHz\n",
        "y_resampled = librosa.resample(y, orig_sr=44100, target_sr=16000)  # Resample the audio to a sampling rate of 16 kHz\n",
        "\n",
        "# Save the resampled audio to a new file\n",
        "output_file_path = \"audio samples/House_debates_CPC_motion_of_non-confidence_against_Trudeau's_carbon_tax_CANADIAN POLITICS_resampled.mp3\"  # Path to save the resampled audio file\n",
        "sf.write(output_file_path, y_resampled, 16000)  # Save the resampled audio to a mp3 file"
      ],
      "id": "511246e9"
    },
    {
      "cell_type": "code",
      "execution_count": 8,
      "metadata": {},
      "outputs": [],
      "source": [
        "audio_file_path = \"audio samples/House_debates_CPC_motion_of_non-confidence_against_Trudeau's_carbon_tax_CANADIAN POLITICS_resampled.mp3\"  \n",
        "y, sr = librosa.load(audio_file_path, sr=None)  # Load the audio file and get the original sampling rate\n",
        "\n",
        "print(\"Sampling rate:\", sr)"
      ],
      "id": "6eb309cf"
    },
    {
      "cell_type": "markdown",
      "metadata": {},
      "source": [
        "------------------------------------------------------------------------\n",
        "\n",
        "## 4. Transcribing single-speaker audio\n",
        "\n",
        "We can now begin testing out audio transcription. There are two\n",
        "important distinctions to keep in mind when transcribing audio:\n",
        "\n",
        "1.  Short-form versus long form audio - whisper is trained on 30-second\n",
        "    audio clips, and will thus cut off audio longer than 30 seconds. We\n",
        "    can overcome this by *chuncking* our audio sample into multiple\n",
        "    audio samples, and then stitching them back together after the\n",
        "    transcription process.\n",
        "2.  Single-speaker versus multi-speaker audio: Audio with a single\n",
        "    speaker is easier to transcribe compared to audio with multiple\n",
        "    speakers. The segmentation of speech into individual speakers, known\n",
        "    as ***diarization***, requires a slightly different approach to\n",
        "    transcription and will be covered in section 5.\n",
        "\n",
        "### 4.1 Transcribing short form audio\n",
        "\n",
        "Let’s begin transcribing our first audio sample. We’ll be using a\n",
        "trimmed 25 second audio sample from the Wall Street Journal. As\n",
        "mentioned, it’s always a good idea to start off by listening to our\n",
        "audio sample before transcribing it."
      ],
      "id": "a7764b63-ddc5-4f12-b1f5-7eb16ae021ce"
    },
    {
      "cell_type": "code",
      "execution_count": 9,
      "metadata": {},
      "outputs": [],
      "source": [
        "import IPython\n",
        "IPython.display.Audio(\"audio samples/WSJ-23andme_resampled.wav\")"
      ],
      "id": "e7f22d5b"
    },
    {
      "cell_type": "markdown",
      "metadata": {},
      "source": [
        "#### 4.1.1 Preprocessing\n",
        "\n",
        "You’ll notice that the file in question is an mp4 file rather than a\n",
        "mp3/wav file, meaning that the original file contains both audio and\n",
        "video. This isn’t an issue as we can convert it to a mp3/wav file during\n",
        "the preprocessing step."
      ],
      "id": "977965af-69e8-4fc5-85a7-4345adb8b47c"
    },
    {
      "cell_type": "code",
      "execution_count": 10,
      "metadata": {},
      "outputs": [],
      "source": [
        "audio_file_path = \"audio samples\\WSJ-23andme.mp4\"  \n",
        "y, sr = librosa.load(audio_file_path, sr=None)  # Load the audio file and get the original sampling rate\n",
        "\n",
        "print(\"Sampling rate:\", sr)"
      ],
      "id": "9a087b76"
    },
    {
      "cell_type": "code",
      "execution_count": 11,
      "metadata": {},
      "outputs": [],
      "source": [
        "import soundfile as sf\n",
        "\n",
        "# Load the audio file\n",
        "audio_file_path = \"audio samples/WSJ-23andme.mp4\"  \n",
        "y, sr = librosa.load(audio_file_path, sr=44100)  # Load the audio file with the current sampling rate\n",
        "\n",
        "# Resample the audio to 16 kHz\n",
        "y_resampled = librosa.resample(y, orig_sr=44100, target_sr=16000)  # Resample the audio to a sampling rate of 16 kHz\n",
        "\n",
        "# Save the resampled audio to a new file\n",
        "output_file_path = \"audio samples/WSJ-23andme_resampled.wav\"  # Path to save the resampled audio file\n",
        "sf.write(output_file_path, y_resampled, 16000)  # Save the resampled audio to a WAV file"
      ],
      "id": "957634c9"
    },
    {
      "cell_type": "code",
      "execution_count": 12,
      "metadata": {},
      "outputs": [],
      "source": [
        "audio_file_path = \"audio samples/WSJ-23andme_resampled.wav\" \n",
        "y, sr = librosa.load(audio_file_path, sr=None)  # Load the audio file and get the original sampling rate\n",
        "\n",
        "print(\"Sampling rate:\", sr)"
      ],
      "id": "2c3165c2"
    },
    {
      "cell_type": "markdown",
      "metadata": {},
      "source": [
        "#### 4.1.2 Transcribing\n",
        "\n",
        "We’re now ready for our first transcription. The transcription process\n",
        "using distill-whisper is divided into the following steps:\n",
        "\n",
        "1.  **Model specifications:** We start with initializing a PyTorch model\n",
        "    for transcription, selecting either GPU or CPU based on\n",
        "    availability. We then specify the pre-trained model we wish to use,\n",
        "    with options for optimizing memory usage and ensuring safety in\n",
        "    tensor operations."
      ],
      "id": "6174e45a-3bf8-43d8-88d7-6a402e83f387"
    },
    {
      "cell_type": "code",
      "execution_count": 13,
      "metadata": {},
      "outputs": [],
      "source": [
        "import torch\n",
        "from transformers import AutoModelForSpeechSeq2Seq, AutoProcessor, pipeline\n",
        "\n",
        "device = \"cuda:0\" if torch.cuda.is_available() else \"cpu\" #If you have CUDA, this will run the transcription process on your GPU. If not, it will default to your CPU.\n",
        "\n",
        "torch_dtype = torch.float16 if torch.cuda.is_available() else torch.float32 #specifying GPU/CPU parameters for pytorch\n",
        "\n",
        "model_id = \"distil-whisper/distil-large-v3\" #specifies the model ID, in this case we are using distil-large-v3\n",
        "# you can replace the model with any model you want that is compatible\n",
        "\n",
        "model = AutoModelForSpeechSeq2Seq.from_pretrained(\n",
        "    model_id, torch_dtype=torch_dtype, low_cpu_mem_usage=True, use_safetensors=True #specifying CPU parameters and model, you can change low_cpu_mem_usage to `false` for faster transcription \n",
        ")\n",
        "model.to(device)\n",
        "\n",
        "processor = AutoProcessor.from_pretrained(model_id) #specifying processor"
      ],
      "id": "aadce7c9"
    },
    {
      "cell_type": "markdown",
      "metadata": {},
      "source": [
        "1.  **Pipeline:** We then create a pipeline for automatic speech\n",
        "    recognition using the specified model, tokenizer, and feature\n",
        "    extractor, utilizing the specified torch data type and device for\n",
        "    computation.\n",
        "\n",
        "A ***pipeline*** is a series of interconnected steps or processes\n",
        "designed to accomplish a specific task efficiently. The\n",
        "<i>huggingface</i> audio transcription pipeline is structured to take\n",
        "raw audio inputs and convert them into transcriptions using automatic\n",
        "speech recognition. You can read more about the pipeline used in this\n",
        "tutorial\n",
        "[here](https://huggingface.co/docs/transformers/main/en/pipeline_tutorial)."
      ],
      "id": "98a779f5-273f-4152-bf41-c381df36fa54"
    },
    {
      "cell_type": "code",
      "execution_count": 14,
      "metadata": {},
      "outputs": [],
      "source": [
        "pipe = pipeline( \n",
        "    \"automatic-speech-recognition\", #specifies what we want our model to do\n",
        "    model=model,\n",
        "    tokenizer=processor.tokenizer,\n",
        "    feature_extractor=processor.feature_extractor,\n",
        "    max_new_tokens=128,\n",
        "    torch_dtype=torch_dtype,\n",
        "    device=device,\n",
        ")"
      ],
      "id": "c6dd4a7a"
    },
    {
      "cell_type": "markdown",
      "metadata": {},
      "source": [
        "1.  **Transcription:** Finally, we *pipe* our audio sample into our\n",
        "    pipeline, and generate an output.\n",
        "\n",
        "Note that steps 1 and 2 will only need to be ran once in a given\n",
        "notebook, unless you need to change the model specifications at a later\n",
        "point."
      ],
      "id": "1f36a5df-7450-4c0c-b9c8-8098b1db8cb9"
    },
    {
      "cell_type": "code",
      "execution_count": 15,
      "metadata": {},
      "outputs": [],
      "source": [
        "result = pipe(\"audio samples/WSJ-23andme_resampled.wav\")\n",
        "print(result[\"text\"])"
      ],
      "id": "3c18c01e"
    },
    {
      "cell_type": "markdown",
      "metadata": {},
      "source": [
        "You’ll notice that the transcription has minor mistakes, namely\n",
        "transcribing “23andMe” incorrectly. One limitation with automated\n",
        "transcription is that ASR models are trained on a finite vocabulary, and\n",
        "thus struggle with transcribing uncommon or out-of-vocabulary words\n",
        "accurately. Therefore, it’s always a good idea to proofread the\n",
        "generated output.\n",
        "\n",
        "### 4.2 Transcribing long-form output\n",
        "\n",
        "Realistically, most audio you’ll be working with is longer than 30\n",
        "seconds. However, the Whisper ASR model is inherently built on 30 second\n",
        "samples. Any audio shorter than 30 seconds will have additional white\n",
        "noise added to it to bring it to 30 seconds, and any audio longer than\n",
        "30 seconds will be cut at the 30 second mark. To overcome this, we can\n",
        "modify our code to allow for long-form audio transcription by\n",
        "“chuncking” our audio into 30-second segments, transcribing each segment\n",
        "individually, and then “stitching” the resulting text back together to\n",
        "form the complete transcription.\n",
        "\n",
        "You can learn more about long-form audio transcription on huggingface\n",
        "[here](https://huggingface.co/blog/asr-chunking)."
      ],
      "id": "4df254dc-40c0-4e9c-a8f1-7acdd01a7cbb"
    },
    {
      "cell_type": "raw",
      "metadata": {
        "raw_mimetype": "text/html"
      },
      "source": [
        "<center>"
      ],
      "id": "951070a2-a42a-4bf0-9000-dcfe776ca601"
    },
    {
      "cell_type": "markdown",
      "metadata": {},
      "source": [
        "<img src=\"images/audio segmentation.png\" alt=\"segmentation\" width = \"400\"/>"
      ],
      "id": "6f3018ec-b4f6-40c4-b94a-a0a1fed0b2b5"
    },
    {
      "cell_type": "raw",
      "metadata": {
        "raw_mimetype": "text/html"
      },
      "source": [
        "</center>"
      ],
      "id": "6f644663-68b5-4929-87be-93230ecc87b1"
    },
    {
      "cell_type": "markdown",
      "metadata": {},
      "source": [
        "We will modify our code by adding the following lines of code to our\n",
        "pipeline: `chunk_length_s=25,` `batch_size=16,` and\n",
        "`stride_length_s=(4, 2)`. The `chunk_length_s` argument specifies the\n",
        "length of each individual chunk to be cut from our audio sample. The\n",
        "`stride_length_s` argument specifies the length of each *stride*, the\n",
        "overlapping section between individual chunks. The `batch_size` argument\n",
        "specifies how many chunks whisper should process at once."
      ],
      "id": "5f8097fa-843e-4f5d-8331-b03f4c4b5112"
    },
    {
      "cell_type": "code",
      "execution_count": 16,
      "metadata": {},
      "outputs": [],
      "source": [
        "pipe = pipeline( \n",
        "    \"automatic-speech-recognition\", #specifies what we want our model to do\n",
        "    model=model,\n",
        "    tokenizer=processor.tokenizer,\n",
        "    feature_extractor=processor.feature_extractor,\n",
        "    max_new_tokens=128,\n",
        "    chunk_length_s=25,\n",
        "    stride_length_s=(4, 2),\n",
        "    batch_size=16,\n",
        "    torch_dtype=torch_dtype,\n",
        "    device=device,\n",
        ")"
      ],
      "id": "96a62f76"
    },
    {
      "cell_type": "markdown",
      "metadata": {},
      "source": [
        "Let’s test out our long-form transcription model on the parliamentary\n",
        "debate sample we saw earlier."
      ],
      "id": "111f3363-4cb5-4a0c-acf7-04291cb9f3a0"
    },
    {
      "cell_type": "code",
      "execution_count": 17,
      "metadata": {},
      "outputs": [],
      "source": [
        "result = pipe(\"audio samples/House_debates_CPC_motion_of_non-confidence_against_Trudeau's_carbon_tax_CANADIAN POLITICS_resampled.mp3\" )\n",
        "print(result[\"text\"])"
      ],
      "id": "997d584d"
    },
    {
      "cell_type": "markdown",
      "metadata": {},
      "source": [
        "## 5. Transcribing multi-speaker audio\n",
        "\n",
        "***Speech diarization*** is the process of partitioning audio containing\n",
        "human speech into segments according to the identity of each speaker\n",
        "$^{[7]}$."
      ],
      "id": "cd3ca1a1-dff6-4781-895d-4f56eacaed3f"
    },
    {
      "cell_type": "raw",
      "metadata": {
        "raw_mimetype": "text/html"
      },
      "source": [
        "<center>"
      ],
      "id": "4e51bc2d-e527-4431-baa7-9d171f00aecc"
    },
    {
      "cell_type": "markdown",
      "metadata": {},
      "source": [
        "<img src=\"images/speakers.png\" alt=\"speakers\" width = \"400\"/>"
      ],
      "id": "8c3de723-a8b9-49e6-9f75-0c08021cdbd9"
    },
    {
      "cell_type": "raw",
      "metadata": {
        "raw_mimetype": "text/html"
      },
      "source": [
        "</center>"
      ],
      "id": "42b41ea6-b0fb-41f3-8673-1591155d77de"
    },
    {
      "cell_type": "markdown",
      "metadata": {},
      "source": [
        "Most audio contains more than one speaker. Thus, diarization can be a\n",
        "useful tool for determining who is speaking, and when. Whisper, on its\n",
        "own, does not support speaker diarization. For this reason, we’ll be\n",
        "combining a number of tools to allow us to diarize audio output. Namely,\n",
        "we’ll be using *pyannote*, a open-source toolkit for speaker diarization\n",
        "in python $^{[8]}$, and *pyannote-whisper*, a python library that\n",
        "extends pyannote diarization to whisper ASR $^{[9]}$.\n",
        "\n",
        "### 5.1 Installations\n",
        "\n",
        "*Pyannote* is built on a number of libraries that require huggingface\n",
        "access tokens to access. Therefore, the first thing we’ll need to do is\n",
        "create an account on [huggingface](https://huggingface.co/) and create\n",
        "our own personal access token.\n",
        "\n",
        "1.  Go to https://huggingface.co/join and create an account.\n",
        "2.  Navigate to **settings** by pressing the circular button at the top\n",
        "    right of the screen."
      ],
      "id": "f27c4394-70dd-45e5-893c-0e61d347df1a"
    },
    {
      "cell_type": "raw",
      "metadata": {
        "raw_mimetype": "text/html"
      },
      "source": [
        "<center>"
      ],
      "id": "f719e897-c6f5-42a6-897f-52b87a5bdb76"
    },
    {
      "cell_type": "markdown",
      "metadata": {},
      "source": [
        "<img src=\"images/button to press.png\" alt=\"speakers\" width = \"400\"/>"
      ],
      "id": "057fad4c-f318-4f80-96e8-e1d8447f3400"
    },
    {
      "cell_type": "raw",
      "metadata": {
        "raw_mimetype": "text/html"
      },
      "source": [
        "</center>"
      ],
      "id": "afaebd1a-e5be-48da-8108-85dc56cf6799"
    },
    {
      "cell_type": "markdown",
      "metadata": {},
      "source": [
        "1.  Nagivate to the left-hand side of the screen and press **Access\n",
        "    Tokens**."
      ],
      "id": "a7ed95f7-1f73-49b4-9154-5c00e6504d1b"
    },
    {
      "cell_type": "raw",
      "metadata": {
        "raw_mimetype": "text/html"
      },
      "source": [
        "<center>"
      ],
      "id": "1548c128-b742-4b70-bd39-b83d43661cd2"
    },
    {
      "cell_type": "markdown",
      "metadata": {},
      "source": [
        "<img src=\"images/access token.png\" alt=\"speakers\" width = \"300\"/>"
      ],
      "id": "04066054-d5b9-4a4f-aa62-42c5b9cd5084"
    },
    {
      "cell_type": "raw",
      "metadata": {
        "raw_mimetype": "text/html"
      },
      "source": [
        "</center>"
      ],
      "id": "3970af67-4871-435d-a6d4-3148f80e6206"
    },
    {
      "cell_type": "markdown",
      "metadata": {},
      "source": [
        "1.  Press **New token**, and create a new token. Make sure the token\n",
        "    type is a *read* token. Then, **copy your token**."
      ],
      "id": "16568ca4-0032-496c-aef2-203d4d967bf9"
    },
    {
      "cell_type": "raw",
      "metadata": {
        "raw_mimetype": "text/html"
      },
      "source": [
        "<center>"
      ],
      "id": "e462b2d6-85ab-4f67-a9ac-b0bb25dc9291"
    },
    {
      "cell_type": "markdown",
      "metadata": {},
      "source": [
        "<left><img src=\"images/new token.png\" alt=\"speakers\" width = \"200\"/></left>\n",
        "<right><img src=\"images/new token 2.png\" alt=\"speakers\" width = \"200\"/></right>"
      ],
      "id": "2755244c-cbea-4e1c-89b4-2895ada0e8a7"
    },
    {
      "cell_type": "raw",
      "metadata": {
        "raw_mimetype": "text/html"
      },
      "source": [
        "</center>"
      ],
      "id": "4a169cb4-ec4f-4f4f-8d4d-0423fb67b98d"
    },
    {
      "cell_type": "markdown",
      "metadata": {},
      "source": [
        "1.  Head over to https://huggingface.co/pyannote/segmentation-3.0 and\n",
        "    accept the user license. Make sure you do this while logged in.\n",
        "2.  Head over to https://huggingface.co/pyannote/speaker-diarization-3.1\n",
        "    and accept the user license. Make sure you do this while logged in.\n",
        "3.  Lastly, we’ll need to install pyannote. Head over to your conda\n",
        "    navigator in administrator mode, activate your environment, and\n",
        "    enter `pip install pyannote.audio`.\n",
        "\n",
        "You should now be all set!"
      ],
      "id": "b8cab3fe-9a78-4a49-987d-a0e7d7ba4ae8"
    },
    {
      "cell_type": "raw",
      "metadata": {
        "raw_mimetype": "text/html"
      },
      "source": [
        "<div class=\"alert alert-block alert-warning\">"
      ],
      "id": "2d820e7d-addd-4355-892a-2a6d6bd8f7e1"
    },
    {
      "cell_type": "markdown",
      "metadata": {},
      "source": [
        "<b>Warning:</b> When running the cell below, you <i>may</i> get a\n",
        "warning stating that you must accept the user agreements for a few other\n",
        "libraries. Please accept the user agreements for those libraries as well\n",
        "(they will be linked in the error message) and re-run the cell below.\n",
        "\n",
        "### 5.2 Diarization\n",
        "\n",
        "Let’s transcribe and diarize the CBC interview we played earlier. The\n",
        "first thing we must do is import the pipeline from pyannote and\n",
        "authenticate ourselves."
      ],
      "id": "d3fec0b4-cee1-4ac3-b85d-b9849e268f81"
    },
    {
      "cell_type": "code",
      "execution_count": 18,
      "metadata": {},
      "outputs": [],
      "source": [
        "from pyannote.audio import Pipeline\n",
        "pipeline = Pipeline.from_pretrained(\n",
        "    \"pyannote/speaker-diarization-3.1\",\n",
        "    use_auth_token=\"INSERT_TOKEN_HERE\") #replace this with your authentication token!"
      ],
      "id": "9ba6aed1"
    },
    {
      "cell_type": "markdown",
      "metadata": {},
      "source": [
        "We’ll also need to specify the number of speakers in the audio. If you\n",
        "are unsure about the number of speakers, you can enter `none` for one or\n",
        "all of the categories below. The pipeline segment below *diarizes* our\n",
        "audio into the individual speakers, without transcribing it."
      ],
      "id": "f2873a64-34e1-4979-9399-3e65cedd107c"
    },
    {
      "cell_type": "code",
      "execution_count": 19,
      "metadata": {},
      "outputs": [],
      "source": [
        "who_speaks_when = pipeline(\"audio samples\\House_debates_CPC_motion_of_non-confidence_against_Trudeau's_carbon_tax_CANADIAN_POLITICS_resampled.mp3\",\n",
        "                                      num_speakers=2,  \n",
        "                                      min_speakers=2,  \n",
        "                                      max_speakers=2)  #since this code is diarizing the entire audio file, it may take a while to run!"
      ],
      "id": "a31d4d65"
    },
    {
      "cell_type": "markdown",
      "metadata": {},
      "source": [
        "We can take a look at the contents of our audio by running the result of\n",
        "the pipeline. We can see that there are two speakers in this interview."
      ],
      "id": "13066369-95be-4c20-a7f0-70cd86bc9d10"
    },
    {
      "cell_type": "code",
      "execution_count": 20,
      "metadata": {},
      "outputs": [],
      "source": [
        "who_speaks_when"
      ],
      "id": "adbb7f5c"
    },
    {
      "cell_type": "markdown",
      "metadata": {},
      "source": [
        "Now that we’ve diarized our audio sample, let’s transcribe it using\n",
        "whisper. We’ll also add timestamps and speaker identifiers. The OpenAI\n",
        "whisper model is better suited for diarization, therefore, we’ll be\n",
        "working with the whisper-small model rather than the distill-whisper\n",
        "model."
      ],
      "id": "074589dc-ad86-4dd1-9b65-1aa9087acb15"
    },
    {
      "cell_type": "code",
      "execution_count": 21,
      "metadata": {},
      "outputs": [],
      "source": [
        "# load OpenAI Whisper ASR\n",
        "import whisper\n",
        "\n",
        "# choose among \"tiny\", \"base\", \"small\", \"medium\", \"large\"\n",
        "# see https://github.com/openai/whisper/\n",
        "model = whisper.load_model(\"small\") "
      ],
      "id": "92d458b6"
    },
    {
      "cell_type": "code",
      "execution_count": 22,
      "metadata": {},
      "outputs": [],
      "source": [
        "audio_file = \"audio samples\\House_debates_CPC_motion_of_non-confidence_against_Trudeau's_carbon_tax_CANADIAN_POLITICS_resampled.mp3\"\n",
        "\n",
        "from pyannote.audio import Audio\n",
        "\n",
        "for segment, _, speaker in who_speaks_when.itertracks(yield_label=True): #iterating over segments of the audio file and creating speaker labels\n",
        "    waveform, sample_rate = audio.crop(audio_file, segment) # extract the waveform data and sampling rate\n",
        "    text = model.transcribe(waveform.squeeze().numpy())[\"text\"] # transcribes the speech in the segment into text\n",
        "    print(f\"{segment.start:06.1f}s {segment.end:06.1f}s {speaker}: {text}\") #formats start and end times"
      ],
      "id": "b7e8d448"
    },
    {
      "cell_type": "markdown",
      "metadata": {},
      "source": [
        "As we can see, the individual speakers have successfully been segmented.\n",
        "However, the resulting output is a bit untidy. Let’s clean it up by\n",
        "assigning names to our two speakers, fixing the timestamps, and adding\n",
        "vertical spacing between each speaker."
      ],
      "id": "6c2e06cc-9914-46a0-b9f9-2bac0136c0b1"
    },
    {
      "cell_type": "code",
      "execution_count": 23,
      "metadata": {},
      "outputs": [],
      "source": [
        "from pyannote.audio import Audio\n",
        "\n",
        "def rename_speaker(speaker):\n",
        "    if speaker == \"SPEAKER_00\":\n",
        "        return \"Mike\"\n",
        "    elif speaker == \"SPEAKER_01\":\n",
        "        return \"Todd\"\n",
        "    # Add more elif conditions if you are using a different audio with more speakers\n",
        "    else:\n",
        "        return speaker  \n",
        "\n",
        "# Function to format output for each speaker\n",
        "def format_speaker_output(segment, speaker, text):\n",
        "    start_minutes, start_seconds = divmod(segment.start, 60)\n",
        "    formatted_output = f\"{int(start_minutes):02d}:{start_seconds:04.1f} - {rename_speaker(speaker)}: {text}\"\n",
        "    return formatted_output\n",
        "\n",
        "audio_file = \"audio samples/House_debates_CPC_motion_of_non-confidence_against_Trudeau's_carbon_tax_CANADIAN_POLITICS_resampled.mp3\"\n",
        "#feel free to try any other audio file \n",
        "\n",
        "\n",
        "for segment, _, speaker in who_speaks_when.itertracks(yield_label=True):\n",
        "    waveform, sample_rate = audio.crop(audio_file, segment)\n",
        "    text = model.transcribe(waveform.squeeze().numpy())[\"text\"]\n",
        "    formatted_output = format_speaker_output(segment, speaker, text)\n",
        "    print(formatted_output)\n",
        "    print()  "
      ],
      "id": "1ddfa9c7"
    },
    {
      "cell_type": "markdown",
      "metadata": {},
      "source": [
        "As we can see, the transcription isn’t perfect: Whisper often struggles\n",
        "with last names due to them not being included in the training data. For\n",
        "this reason, it’s important to proof-read the resulting output. If you’d\n",
        "like to try out different audio, add your audio to the `audio samples`\n",
        "folder and repeat the process using the correct file path. Additionally,\n",
        "if you’d like to use a different model, a full list can be found\n",
        "[here](https://github.com/openai/whisper).\n",
        "\n",
        "### 5.2.1 (Optional) Converting ASR transcription output into a PDF document\n",
        "\n",
        "The sample code below uses the reportlab library to automatically\n",
        "convert generated output into a PDF, and serves as an example of an\n",
        "application for ASR transcription. As metioned, proof-reading is still\n",
        "very important, as transcriptions may have errors. Feel free to edit the\n",
        "formatting to your liking. Make sure to install *reportlab* using\n",
        "`pip install reportlab` if it is not installed already."
      ],
      "id": "f4f158f5-0965-4990-8c45-f5a547635c7a"
    },
    {
      "cell_type": "code",
      "execution_count": 24,
      "metadata": {},
      "outputs": [],
      "source": [
        "from pyannote.audio import Audio\n",
        "from reportlab.lib.pagesizes import letter\n",
        "from reportlab.platypus import SimpleDocTemplate, Paragraph\n",
        "from reportlab.lib.styles import getSampleStyleSheet\n",
        "\n",
        "def generate_pdf(formatted_output_list, output_file=\"output_transcription_whisper.pdf\"):\n",
        "    doc = SimpleDocTemplate(output_file, pagesize=letter)\n",
        "    styles = getSampleStyleSheet() \n",
        "\n",
        "    custom_style = ParagraphStyle(\"CustomStyle\", parent=styles[\"Normal\"], fontName=\"Times-Roman\", spaceAfter=8) #PDF formatting specifications\n",
        "\n",
        "    content = [] #empty list used to store paragraphs and spacers\n",
        "\n",
        "    for formatted_output in formatted_output_list:\n",
        "        content.append(Paragraph(formatted_output, custom_style))\n",
        "        content.append(Spacer(1, 0.2 * inch)) \n",
        "        #for-loop used to iterate over each formatted output string; creates and appends new paragraphs to the `content` list.\n",
        "    \n",
        "    doc.build(content) #generates PDF\n",
        "\n",
        "def rename_speaker(speaker):\n",
        "    if speaker == \"SPEAKER_00\":\n",
        "        return \"Mike\"\n",
        "    elif speaker == \"SPEAKER_01\":\n",
        "        return \"Todd\"\n",
        "    # Add more elif conditions if you are using a different audio with more speakers\n",
        "    else:\n",
        "        return speaker  \n",
        "\n",
        "formatted_output_list = []\n",
        "\n",
        "# Function to format output for each speaker\n",
        "def format_speaker_output(segment, speaker, text):\n",
        "    start_minutes, start_seconds = divmod(segment.start, 60)\n",
        "    formatted_output = f\"{int(start_minutes):02d}:{start_seconds:04.1f} - {rename_speaker(speaker)}: {text}\"\n",
        "    return formatted_output\n",
        "\n",
        "audio_file = \"audio samples/House_debates_CPC_motion_of_non-confidence_against_Trudeau's_carbon_tax_CANADIAN_POLITICS_resampled.mp3\"\n",
        "#feel free to try any other audio file \n",
        "\n",
        "\n",
        "for segment, _, speaker in who_speaks_when.itertracks(yield_label=True):\n",
        "    waveform, sample_rate = audio.crop(audio_file, segment)\n",
        "    text = model.transcribe(waveform.squeeze().numpy())[\"text\"]\n",
        "    formatted_output = format_speaker_output(segment, speaker, text)\n",
        "    formatted_output_list.append(formatted_output)\n",
        "\n",
        "generate_pdf(formatted_output_list)"
      ],
      "id": "1ae68c37"
    },
    {
      "cell_type": "markdown",
      "metadata": {},
      "source": [
        "## 6. Resources\n",
        "\n",
        "### 6.1 In-text citations\n",
        "\n",
        "1.  https://huggingface.co/learn/audio-course/en/chapter5/asr_models\n",
        "2.  https://en.wikipedia.org/wiki/Whisper\\_(speech_recognition_system)\n",
        "3.  https://github.com/huggingface/distil-whisper\n",
        "4.  https://github.com/sanchit-gandhi/whisper-jax\n",
        "5.  https://github.com/Vaibhavs10/insanely-fast-whisper\n",
        "6.  https://huggingface.co/docs/transformers/en/index\n",
        "7.  https://en.wikipedia.org/wiki/Sampling\\_(signal_processing)\n",
        "8.  https://github.com/pyannote/pyannote-audio\n",
        "9.  https://github.com/yinruiqing/pyannote-whisper\n",
        "\n",
        "### 6.2 Audio sources\n",
        "\n",
        "1.  https://mixkit.co/free-sound-effects/cat/\n",
        "2.  https://www.youtube.com/watch?v=a32RLgqNfGs\n",
        "3.  https://www.youtube.com/watch?v=9x6IN_zOvoQ&t=11s\n",
        "4.  https://www.youtube.com/watch?v=gkxxtP9F6FY\n",
        "\n",
        "### 6.3 Additional resources\n",
        "\n",
        "1.  https://www.youtube.com/watch?v=wjZofJX0v4M&t=193s"
      ],
      "id": "7d03c02c-6f0b-45a3-893b-e3313c3fdacd"
    }
  ],
  "nbformat": 4,
  "nbformat_minor": 5,
  "metadata": {
    "kernelspec": {
      "name": "python3",
      "display_name": "Python 3 (ipykernel)",
      "language": "python"
    },
    "language_info": {
      "name": "python",
      "codemirror_mode": {
        "name": "ipython",
        "version": "3"
      },
      "file_extension": ".py",
      "mimetype": "text/x-python",
      "nbconvert_exporter": "python",
      "pygments_lexer": "ipython3",
      "version": "3.10.12"
    }
  }
}