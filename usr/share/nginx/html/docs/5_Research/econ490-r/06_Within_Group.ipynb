{
  "cells": [
    {
      "cell_type": "markdown",
      "metadata": {},
      "source": [
        "# 06 - Conducting Within Group Analysis\n",
        "\n",
        "Marina Adshade, Paul Corcuera, Giulia Lo Forte, Jane Platt  \n",
        "2024-05-29\n",
        "\n",
        "## Prerequisites\n",
        "\n",
        "1.  Inspect and clean the variables of a data set.\n",
        "2.  Generate basic variables for a variety of purposes.\n",
        "\n",
        "## Learning Outcomes\n",
        "\n",
        "1.  Use `arrange`, `group_by`, `group_keys`, and `ungroup` to sort and\n",
        "    organize data for specific purposes.\n",
        "2.  Generate variables with `summarise` to analyze patterns within\n",
        "    groups of data.\n",
        "3.  Reshape data frames using `pivot_wider` and `pivot_longer`.\n",
        "\n",
        "## 6.1 Key Functions for Group Analysis\n",
        "\n",
        "When we are working on a particular project, it is often quite important\n",
        "to know how to summarize data for specific groupings, whether of\n",
        "variables or observations meeting specific conditions. In this notebook,\n",
        "we will look at a variety of functions for conducting this group-level\n",
        "analysis. We will rely heavily on the `dyplr` package, which we have\n",
        "implicitly imported through the `tidyverse` package. Let’s import these\n",
        "packages and load in our “fake_data” now. Recall that this data set is\n",
        "simulating information of workers in the years 1982-2012 in a fake\n",
        "country where a training program was introduced in 2003 to boost their\n",
        "earnings."
      ],
      "id": "85d1029d-29aa-4e93-9472-afe760aeb19d"
    },
    {
      "cell_type": "code",
      "execution_count": null,
      "metadata": {},
      "outputs": [],
      "source": [
        "library(haven)\n",
        "library(tidyverse)\n",
        "library(IRdisplay)\n",
        "\n",
        "fake_data <- read_dta(\"../econ490-stata/fake_data.dta\") # change me!"
      ],
      "id": "0ca823d6-d2f5-40e7-b04c-3066b2c11685"
    },
    {
      "cell_type": "markdown",
      "metadata": {},
      "source": [
        "Now that we’ve loaded in our data and already know how to view it, clean\n",
        "it, and generate additional variables for it as needed, we can look at\n",
        "some helpful commands for grouping this data.\n",
        "\n",
        "### 6.1.1 `arrange`\n",
        "\n",
        "Before grouping data, we may want to order our data set based on the\n",
        "values of a particular variable. The `arrange` function helps us achieve\n",
        "this. It takes in a data frame and variable and rearranges our data\n",
        "frame in ascending order of the values of that variable, with the option\n",
        "to arrange in descending order requiring a further `desc` function. As\n",
        "an example, let’s rearrange our entire data set in order of the variable\n",
        "*year*."
      ],
      "id": "09c7516f-fb32-4286-b431-c40a91b54c38"
    },
    {
      "cell_type": "code",
      "execution_count": null,
      "metadata": {},
      "outputs": [],
      "source": [
        "# arrange the data frame by ascending year\n",
        "fake_data %>% arrange(year)\n",
        "\n",
        "# arrange the data frame by descending year\n",
        "fake_data %>% arrange(desc(year))"
      ],
      "id": "4d27d48a-c19c-47f5-88e6-50430c7500f5"
    },
    {
      "cell_type": "markdown",
      "metadata": {},
      "source": [
        "We can also pass multiple variable parameters to the `arrange` function\n",
        "to indicate how we should further sort our data within each year\n",
        "grouping. For instance, including the *region* variable will further\n",
        "sort each year grouping in order of region."
      ],
      "id": "17d93498-a724-4be2-980b-715121671a6e"
    },
    {
      "cell_type": "code",
      "execution_count": null,
      "metadata": {},
      "outputs": [],
      "source": [
        "fake_data %>% arrange(year, region)"
      ],
      "id": "da162a33-3ac2-4747-960c-98fcc6049f99"
    },
    {
      "cell_type": "markdown",
      "metadata": {},
      "source": [
        "### 6.1.2 `group_by`\n",
        "\n",
        "This is one of the most pivotal functions in R. It allows us to group a\n",
        "data frame by the values of a specific variable and perform further\n",
        "operations on those groups. Let’s say that we wanted to group our data\n",
        "set by *region* and count the number of observations in each region. To\n",
        "accomplish this, we can simply pass this variable as a parameter to our\n",
        "`group_by` function and further pipe this result into the `tally`\n",
        "function (which counts the number of observations)."
      ],
      "id": "d2af924e-3c8e-43be-a34c-420123d80966"
    },
    {
      "cell_type": "code",
      "execution_count": null,
      "metadata": {},
      "outputs": [],
      "source": [
        "fake_data %>% group_by(region) %>% tally()"
      ],
      "id": "da9ca8e2-e150-4839-b72f-b6697b65d1a8"
    },
    {
      "cell_type": "markdown",
      "metadata": {},
      "source": [
        "Notice how the `group_by` function nicely groups the regions in\n",
        "ascending order for us automatically. Unlike with the `arrange`\n",
        "function, it does not preserve the data set in its entirety. It instead\n",
        "collapses our data set into groups, thus it is important not to redefine\n",
        "our “data” data frame by this `group_by` if we want to preserve our\n",
        "original data.\n",
        "\n",
        "We can also pass multiple arguments to `group_by`. If we pass both\n",
        "*region* and *treated* to our function as inputs, our region groups will\n",
        "be further grouped by observations which are and are not treated. Let’s\n",
        "count the number of treated and untreated observations in each region."
      ],
      "id": "40f920f0-8a40-44a8-ac7a-b85bde3a6efb"
    },
    {
      "cell_type": "code",
      "execution_count": null,
      "metadata": {},
      "outputs": [],
      "source": [
        "fake_data %>% group_by(region, treated) %>% tally()"
      ],
      "id": "d4f67372-cb5a-4b5a-9e8b-44da9adc9be8"
    },
    {
      "cell_type": "markdown",
      "metadata": {},
      "source": [
        "Finally, we can pipe a `group_by` object into another `group_by` object.\n",
        "In this case, the second `group_by` will simply overwrite the first. For\n",
        "example, if we wanted to pass our original *region* `group_by` into a\n",
        "mere *treated* `group_by`, we get as output a data frame counting the\n",
        "total number of observations that are treated and untreated."
      ],
      "id": "bb5f2b16-fa6b-438c-9248-b837d61dca38"
    },
    {
      "cell_type": "code",
      "execution_count": null,
      "metadata": {},
      "outputs": [],
      "source": [
        "fake_data %>% group_by(region) %>% group_by(treated) %>% tally()"
      ],
      "id": "d864c21e-b717-49f8-8b68-7da17685b20a"
    },
    {
      "cell_type": "markdown",
      "metadata": {},
      "source": [
        "### 6.1.3 `group_keys`\n",
        "\n",
        "This function allows us to see the specific groups for a `group_by` data\n",
        "frame we have created. For instance, if we wanted to see every year in\n",
        "the data, we could group by *year* and then apply the `group_keys`\n",
        "function."
      ],
      "id": "027e068b-359b-47d1-a52d-aa0ce6dab06f"
    },
    {
      "cell_type": "code",
      "execution_count": null,
      "metadata": {},
      "outputs": [],
      "source": [
        "fake_data %>% group_by(year) %>% group_keys()"
      ],
      "id": "0ea65b8b-5894-4516-a283-ee2f11e53343"
    },
    {
      "cell_type": "markdown",
      "metadata": {},
      "source": [
        "This is equivalent to using the `unique` function directly on a column\n",
        "of our data set. The `unique` function lists all unique values for a\n",
        "specified list."
      ],
      "id": "925458b4-5489-477d-acb3-cfd3885500e2"
    },
    {
      "cell_type": "code",
      "execution_count": null,
      "metadata": {},
      "outputs": [],
      "source": [
        "unique(fake_data$year)"
      ],
      "id": "21b495b0-dea3-4dd0-bbff-f8b0a85f3d25"
    },
    {
      "cell_type": "markdown",
      "metadata": {},
      "source": [
        "The output is just a list in this case, instead of another data frame as\n",
        "above.\n",
        "\n",
        "### 6.1.4 `ungroup`\n",
        "\n",
        "We can even selectively remove grouping variables from a grouped data\n",
        "frame. Say we grouped by *region* and *treated* but then wanted to just\n",
        "count how many treated groups there are by *region*. If this double\n",
        "grouped data frame is defined as A, we can simply use `ungroup` A to\n",
        "remove the grouping by treatment status."
      ],
      "id": "32b187f1-9156-44d7-882e-3ca7bfe2ee69"
    },
    {
      "cell_type": "code",
      "execution_count": null,
      "metadata": {},
      "outputs": [],
      "source": [
        "A <- fake_data %>% group_by(region, treated) %>% tally()\n",
        "A"
      ],
      "id": "d84d4810-1434-4b09-b8c5-682d14c9ae3b"
    },
    {
      "cell_type": "code",
      "execution_count": null,
      "metadata": {},
      "outputs": [],
      "source": [
        "A %>% ungroup(treated) %>% tally()"
      ],
      "id": "3e00ebdf-3e41-4e37-9d8f-86cc13c1b515"
    },
    {
      "cell_type": "markdown",
      "metadata": {},
      "source": [
        "We may also be interested in knowing how many groupings we have created.\n",
        "We can remove all grouping variables by leaving the input of `ungroup()`\n",
        "empty."
      ],
      "id": "3df543d9-3109-447a-bb5a-7b804f5d8d0f"
    },
    {
      "cell_type": "code",
      "execution_count": null,
      "metadata": {},
      "outputs": [],
      "source": [
        "A %>% ungroup() %>% tally()"
      ],
      "id": "378a8bbd-197f-4257-838c-c931aba64f01"
    },
    {
      "cell_type": "markdown",
      "metadata": {},
      "source": [
        "## 6.2 Generating Variables for Group Analysis\n",
        "\n",
        "We have already seen how to redefine and add new variables to a data\n",
        "frame using the `df$ <-` format. We have also seen how to use the\n",
        "`mutate` function to add new variables to a data frame. However, we\n",
        "often want to add new variables to grouped data frames to display\n",
        "information about the different groups rather than different\n",
        "observations in the original data frame. That is where `summarise` comes\n",
        "in.\n",
        "\n",
        "The `summarise` function gives us access to a variety of common\n",
        "functions we can use to generate variables corresponding to groups. For\n",
        "instance, we may want to find the mean earnings of each region. To do\n",
        "this, we can group on *region* and then add a variable to our grouped\n",
        "data frame which aggregates the mean of the *earnings* variable for each\n",
        "region group. We must use the `summarise` function for this, since it\n",
        "gives us access to the earnings of every member of each group."
      ],
      "id": "c0230f19-4ed0-4d5e-85cb-b93222a3c94f"
    },
    {
      "cell_type": "code",
      "execution_count": null,
      "metadata": {},
      "outputs": [],
      "source": [
        "fake_data %>% group_by(region) %>% summarise(meanearnings = mean(earnings))"
      ],
      "id": "734b930e-6c09-4525-a6ce-fc66d5e347bc"
    },
    {
      "cell_type": "markdown",
      "metadata": {},
      "source": [
        "We may want more detailed information about each region. We can pass a\n",
        "series of parameters to `summarise` and it will generate variables for\n",
        "all of these requests. Let’s say we want the mean and standard deviation\n",
        "of *earnings* for each group, as well as the range of *earnings* for\n",
        "each group."
      ],
      "id": "1f98cd0c-42aa-4841-8bbb-447bc51e4fef"
    },
    {
      "cell_type": "code",
      "execution_count": null,
      "metadata": {},
      "outputs": [],
      "source": [
        "fake_data %>% \n",
        "    group_by(region) %>% \n",
        "    summarise(meanearnings = mean(earnings), stdevearnings = sd(earnings), range = max(earnings) - min(earnings))"
      ],
      "id": "5f36bd04-9760-430a-8bed-b303e51a1b8c"
    },
    {
      "cell_type": "markdown",
      "metadata": {},
      "source": [
        "We may also want to calculate the number of observations in each region\n",
        "as an additional variable. Before, we could simply group by our *region*\n",
        "variable and then immediately apply the `tally` function. However, now\n",
        "that we have defined a series of other variables, our data set on which\n",
        "`tally` operates is different. Watch what happens when we try to use\n",
        "`tally` after using `summarise`."
      ],
      "id": "fc5feab1-960d-42c8-88b3-94d253a90a86"
    },
    {
      "cell_type": "code",
      "execution_count": null,
      "metadata": {},
      "outputs": [],
      "source": [
        "fake_data %>% \n",
        "    group_by(region) %>% \n",
        "    summarise(meanearnings = mean(earnings), stdevearnings = sd(earnings), range = max(earnings) - min(earnings)) %>%\n",
        "    tally()"
      ],
      "id": "2a557eca-a344-4df2-bc8f-277768ac7314"
    },
    {
      "cell_type": "markdown",
      "metadata": {},
      "source": [
        "Now watch what happens when we try to use `tally` before using\n",
        "`summarise`."
      ],
      "id": "c8c39e05-5e74-4a01-b46d-c5d87f1591a8"
    },
    {
      "cell_type": "code",
      "execution_count": null,
      "metadata": {},
      "outputs": [],
      "source": [
        "fake_data %>% \n",
        "    group_by(region) %>% \n",
        "    tally() %>%\n",
        "    summarise(meanearnings = mean(earnings), stdevearnings = sd(earnings), range = max(earnings) - min(earnings))"
      ],
      "id": "ff049fb6-0788-4007-b2cb-fe94b972644b"
    },
    {
      "cell_type": "markdown",
      "metadata": {},
      "source": [
        "In the first case, tally does not have the necessary information left in\n",
        "the data frame to count the number of observations in each region. In\n",
        "the second case, tally has shrunk the data frame so much that the\n",
        "functions within `summarise` do not have the necessary information to\n",
        "make their calculations.\n",
        "\n",
        "This is where `n` comes in. This is a special function used within the\n",
        "`summarise` variable. It represents the number of observations within\n",
        "each group of a data frame. As such, it is directly paired with\n",
        "`group_by`, although it can be paired with `mutate` when we are working\n",
        "with the number of observations in a data set as a whole (i.e. with one\n",
        "group, meaning `n` represents the position of each observation)."
      ],
      "id": "ad4d9644-0193-47e2-95ac-9e0f6d237d08"
    },
    {
      "cell_type": "code",
      "execution_count": null,
      "metadata": {},
      "outputs": [],
      "source": [
        "fake_data %>% \n",
        "    group_by(region) %>% \n",
        "    summarise(meanearnings = mean(earnings), stdevearnings = sd(earnings), range = max(earnings) - min(earnings), total = n())"
      ],
      "id": "c0c15e03-cb64-4a07-be76-a16d3fcacabf"
    },
    {
      "cell_type": "markdown",
      "metadata": {},
      "source": [
        "The entire process of generating variables for group analysis in this\n",
        "section is similar to collapsing a data set in Stata. Luckily, it can be\n",
        "done more quickly here in R.\n",
        "\n",
        "## 6.3 Reshaping Data\n",
        "\n",
        "Sometimes in our process of data analysis, we want to restructure our\n",
        "data frame. To do this, we can take advantage of a series of functions\n",
        "within the `tidyr` package that we have imported implicitly through\n",
        "loading in the `tidyverse` package. These functions allow us to quickly\n",
        "change the format of our data frame without having to redefine all of\n",
        "its columns and rows manually.\n",
        "\n",
        "For instance, we often want to transform our data from “wide”\n",
        "(cross-sectional) to “long” (panel) format, or vice versa. Suppose that\n",
        "we wish to make our data set more “cross-sectional” in appearance by\n",
        "dropping the age variable and adding an earnings variable for each year,\n",
        "with the values in these new columns corresponding to the earnings of\n",
        "each person in that year. Effectively, by adding columns, we are making\n",
        "our data set “wider”, so it is no surprise that the function is called\n",
        "`pivot_wider`.\n",
        "\n",
        "It takes the following arguments:\n",
        "\n",
        "1.  `names_from`: which columns to get the name of the output columns\n",
        "    (in our example, `year`);\n",
        "2.  `values_from`: which columns to get the cell values from (in our\n",
        "    example, `earnings`)."
      ],
      "id": "0744c353-597b-471e-bf32-1a75ce78c7ad"
    },
    {
      "cell_type": "code",
      "execution_count": null,
      "metadata": {},
      "outputs": [],
      "source": [
        "wide_data <- fake_data %>% arrange(year) %>% select(-age) %>% pivot_wider(names_from = \"year\", values_from = \"earnings\")\n",
        "head(wide_data)"
      ],
      "id": "77019421-41e1-41bf-99c6-433ceda40486"
    },
    {
      "cell_type": "markdown",
      "metadata": {},
      "source": [
        "We can see that the function above took the values from *year* and\n",
        "generated a new variable for each of them from 1982 to 2012, then\n",
        "supplied the corresponding values from *earnings* to each of these year\n",
        "variables. When a worker’s information isn’t recorded for a given year\n",
        "(and thus they have no recorded wage), the *earnings* variable is marked\n",
        "as missing.\n",
        "\n",
        "We can pivot more than one variable. Instead of pivoting only the\n",
        "variable *year*, we can pivot both the variables *year* and *age*. We do\n",
        "so by specifying both variables in the `values_from` argument."
      ],
      "id": "e49ece2c-4edd-42b8-b2ba-64ce470f9bc0"
    },
    {
      "cell_type": "code",
      "execution_count": null,
      "metadata": {},
      "outputs": [],
      "source": [
        "fake_data %>% arrange(year) %>% pivot_wider(names_from = \"year\" , values_from = c(\"earnings\",\"age\"))"
      ],
      "id": "8c32574a-70d8-4096-992e-523ce7989f63"
    },
    {
      "cell_type": "markdown",
      "metadata": {},
      "source": [
        "Now suppose we want to work backward and transform this data set back\n",
        "into its original, “longer” shape (just now without the *age* variable).\n",
        "To do this, we can invoke the complementary `pivot_longer` function. The\n",
        "arguments we need to specify are:\n",
        "\n",
        "1.  `cols`: the name of the columns we want to pivot to longer format\n",
        "    (in our case, `'1995':'2011'`);\n",
        "2.  `names_to`: the name of the new column that will be created from the\n",
        "    information stored in the column names specified by `cols` (in our\n",
        "    case, `\"year\"`);\n",
        "3.  `values_to`: the name of the column to create from the data stored\n",
        "    in cell values, `\"earnings\"`."
      ],
      "id": "6a04b4a1-2334-458d-9d5f-1f853a5f86c5"
    },
    {
      "cell_type": "code",
      "execution_count": null,
      "metadata": {},
      "outputs": [],
      "source": [
        "long_data <- wide_data %>% pivot_longer(cols = '1995':'2011', names_to = \"year\", values_to = \"earnings\")\n",
        "head(long_data)"
      ],
      "id": "66d701db-7387-4dab-ad9e-50ebea3cd88f"
    },
    {
      "cell_type": "markdown",
      "metadata": {},
      "source": [
        "Remember that, when going from long to wide format, we created several\n",
        "missing values every time a worker information for a given year was not\n",
        "available. Now that we transform our data back from wide to long format,\n",
        "we may carry with us all those missing values we had created.We can ask\n",
        "R to automatically exclude them, by adding the option\n",
        "`values_drop_na = TRUE`."
      ],
      "id": "928b6e60-d235-40a4-adb8-96c6bb482237"
    },
    {
      "cell_type": "code",
      "execution_count": null,
      "metadata": {},
      "outputs": [],
      "source": [
        "long_data_short <- wide_data %>% pivot_longer(cols = '1995':'2011', names_to = \"year\", values_to = \"earnings\", values_drop_na = TRUE)\n",
        "head(long_data_short)"
      ],
      "id": "5a774333-70d2-45b4-8fe3-15ace1325f5d"
    },
    {
      "cell_type": "markdown",
      "metadata": {},
      "source": [
        "If this doesn’t seem intuitive or quickly comprehensible, don’t worry.\n",
        "Even many experienced coders struggle with the pivoting/reshaping\n",
        "functionality. With practice, it will become much more digestible!\n",
        "\n",
        "## 6.4 Common Mistakes\n",
        "\n",
        "It is easy to forget that `group_by()` creates a new data frame with a\n",
        "limited number of variables.\n",
        "\n",
        "Suppose we want to compute average earnings by region and treated\n",
        "status. We may try to do something like the following:"
      ],
      "id": "d0321312-e156-495b-931f-0fa01f228fd3"
    },
    {
      "cell_type": "code",
      "execution_count": null,
      "metadata": {},
      "outputs": [],
      "source": [
        "step1 <- fake_data %>%\n",
        "        group_by(region) %>%\n",
        "        summarise(meanearnings = mean(earnings))\n",
        "\n",
        "step2 <- step1 %>%\n",
        "        group_by(treated) %>%\n",
        "        summarise(meanearnings = mean(earnings))"
      ],
      "id": "45b60680-051d-4bc0-ba12-e03fc342aedb"
    },
    {
      "cell_type": "markdown",
      "metadata": {},
      "source": [
        "This results in an error: the first `group_by` creates a new data frame\n",
        "that does not contain the variable *treated* anymore. We can see that\n",
        "also by looking at the error message: *column ‘treated’ is not found*.\n",
        "\n",
        "The right way of doing what we wanted is as follows:"
      ],
      "id": "e559239f-a1e0-4c29-9a6d-2b5056a56137"
    },
    {
      "cell_type": "code",
      "execution_count": null,
      "metadata": {},
      "outputs": [],
      "source": [
        "fake_data %>% \n",
        "    group_by(region, treated) %>% \n",
        "    summarise(meanearnings = mean(earnings))"
      ],
      "id": "8aa501f0-9572-4270-a49f-c5d621927020"
    },
    {
      "cell_type": "markdown",
      "metadata": {},
      "source": [
        "When we move from wide to long format, or vice versa, the variables that\n",
        "we *do not* pivot should remain constant over the variable that we pivot\n",
        "(namely, the variable we use in the `names_from` argument).\n",
        "\n",
        "Consider the example below. It is similar to what we did above but it\n",
        "has a crucial difference; can you spot it?"
      ],
      "id": "89376c87-3acd-4c7a-8d3a-417b2bb6c37c"
    },
    {
      "cell_type": "code",
      "execution_count": null,
      "metadata": {},
      "outputs": [],
      "source": [
        "fake_data %>% arrange(year) %>% pivot_wider(names_from = \"year\", values_from = \"earnings\")"
      ],
      "id": "047236e4-0794-44c2-a0d0-0cd1c49ea197"
    },
    {
      "cell_type": "markdown",
      "metadata": {},
      "source": [
        "Earlier we dropped the variable *age*, while now we are keeping it. The\n",
        "variable *age* now is treated as if it was constant during *year*, the\n",
        "variable we are using for pivoting the data.\n",
        "\n",
        "This is not necessarily a mistake, and in fact R allows us to do the\n",
        "reshape. However, it changes the way in which we interpret *age*: it is\n",
        "now the age of the worker in their first year of appearance in the\n",
        "dataset.\n",
        "\n",
        "## 6.5 Wrap Up\n",
        "\n",
        "Being able to generate new variables and modify a data set to suit your\n",
        "specific research is pivotal. Now you should hopefully have more\n",
        "confidence in your ability to perform these tasks. Next, we will explore\n",
        "the challenges posed by working with multiple data sets at once.\n",
        "\n",
        "## 6.6 Wrap-up Table\n",
        "\n",
        "| Function       | Description                                                                                                                                      |\n",
        "|-------------------------------|-----------------------------------------|\n",
        "| `arrange`      | It orders observations based on the ascending or descending order of one or more variables.                                                      |\n",
        "| `group_by`     | It groups observations based on the values of one or more variables. It may be combined with `summarise` to compute summary statistics by group. |\n",
        "| `ungroup`      | It removes one or more grouping variables.                                                                                                       |\n",
        "| `pivot_wider`  | It pivots data from long to wide format.                                                                                                         |\n",
        "| `pivot_longer` | It pivots data from wide to long format.                                                                                                         |"
      ],
      "id": "add14c86-0d40-4162-8dff-d1158c6d1292"
    }
  ],
  "nbformat": 4,
  "nbformat_minor": 5,
  "metadata": {
    "kernelspec": {
      "name": "ir",
      "display_name": "R",
      "language": "r"
    }
  }
}