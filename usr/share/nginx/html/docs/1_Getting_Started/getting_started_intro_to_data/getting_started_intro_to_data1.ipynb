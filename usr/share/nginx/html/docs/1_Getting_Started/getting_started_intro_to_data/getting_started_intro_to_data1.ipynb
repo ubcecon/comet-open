{
  "cells": [
    {
      "cell_type": "markdown",
      "metadata": {},
      "source": [
        "# 0.3.1 - Introduction to Data in R - Part 1\n",
        "\n",
        "COMET Team <br> *Manas Mridul, Valeria Zolla, Colby Chamber, Colin\n",
        "Grimes, Jonathan Graves*  \n",
        "2023-01-12\n",
        "\n",
        "## Outline\n",
        "\n",
        "### Prerequisites\n",
        "\n",
        "-   Introduction to Jupyter\n",
        "-   Introduction to R\n",
        "\n",
        "### Outcomes\n",
        "\n",
        "After completing this notebook, you will be able to:\n",
        "\n",
        "-   Identify and understand the packages and commands needed to load,\n",
        "    manipulate, and combine data frames in R\n",
        "-   Load data using R in a variety of forms\n",
        "-   Create and reformat data, including transforming data into factor\n",
        "    variables\n",
        "\n",
        "### References\n",
        "\n",
        "-   [Introduction to Probability and Statistics Using\n",
        "    R](https://mran.microsoft.com/snapshot/2018-09-28/web/packages/IPSUR/vignettes/IPSUR.pdf)\n",
        "-   [DSCI 100 Textbook](https://datasciencebook.ca/index.html)\n",
        "\n",
        "## Introduction"
      ],
      "id": "640939b5-cf8c-4ed3-9a6c-751b246e595f"
    },
    {
      "cell_type": "code",
      "execution_count": null,
      "metadata": {},
      "outputs": [],
      "source": [
        "# Run this cell\n",
        "source(\"getting_started_intro_to_data_tests.r\")"
      ],
      "id": "4b8595db-e101-43c2-a192-61c5aefaea97"
    },
    {
      "cell_type": "markdown",
      "metadata": {},
      "source": [
        "Drawing insights from data requires information to be presented in a way\n",
        "that is both interpretable to R and our audiences. However, before you\n",
        "can wrangle data sets, you need to ensure that they are clean. A *clean*\n",
        "data set means:\n",
        "\n",
        "1.  Observations where data for key variables are missing are removed or\n",
        "    stored in a different data set (e.g., `df_raw`). *Missing data* can\n",
        "    create bias in your analysis.\n",
        "2.  Data set is *tidy*, i.e., each row captures only one observation and\n",
        "    each column captures only one variable/characteristic of the\n",
        "    observation. Data scraped and collected manually or using automation\n",
        "    often comes in *untidy* shapes (e.g., two variables might be placed\n",
        "    in the same column separated with a hyphen `-`).\n",
        "\n",
        "In this notebook, we teach you how to load datasets properly in R and\n",
        "then clean them using some common methods from the `haven` and\n",
        "`tidyverse` packages.\n",
        "\n",
        "## Part 1: Introduction to data in R\n",
        "\n",
        "R needs to be provided with the appropriate packages to have access to\n",
        "the appropriate functions needed to interpret our raw data.\n",
        "\n",
        "`install.packages('package_name')` is used to install packages for the\n",
        "first time while `library(package_name)` is used to import the package\n",
        "into our notebook’s session run-time.\n",
        "\n",
        "Let’s get started by loading them now."
      ],
      "id": "00d860eb-6ceb-4847-8e61-aa454ecf077d"
    },
    {
      "cell_type": "code",
      "execution_count": null,
      "metadata": {},
      "outputs": [],
      "source": [
        "# loading in our packages\n",
        "library(tidyverse)\n",
        "library(haven)"
      ],
      "id": "ace77b9a-69d2-499d-ba19-6b4ce8652259"
    },
    {
      "cell_type": "markdown",
      "metadata": {},
      "source": [
        "Researchers usually work with data stored in STATA, Excel, or\n",
        "comma-separated variables (CSV) files. The extension of a file tells us\n",
        "the file type we’re dealing with. For instance:\n",
        "\n",
        "-   `.dta` for a STATA data file\n",
        "-   `.csv` for a comma-separated variables file\n",
        "-   `.txt` for text files (stores data separated by white-space)\n",
        "\n",
        "In R, we import data with functions that specify the file names and\n",
        "types. These are the R functions used to import data from the most\n",
        "commons file types:"
      ],
      "id": "d141c7d3-8235-4996-b0df-f3f606aa6cfc"
    },
    {
      "cell_type": "code",
      "execution_count": null,
      "metadata": {},
      "outputs": [],
      "source": [
        "# import csv files\n",
        "read_csv(\"file_name\")\n",
        "\n",
        "# import stata data files\n",
        "read_dta(\"file_name\")\n",
        "\n",
        "# import excel files\n",
        "read_excel(\"file_name\")\n",
        "\n",
        "# import text files\n",
        "read_table(\"file_name\", header = FALSE)"
      ],
      "id": "cd025ac4-c3cd-42c0-97b4-87f630b4a67a"
    },
    {
      "cell_type": "markdown",
      "metadata": {},
      "source": [
        "To use the `read_dta` function you have to have the `haven` package\n",
        "installed and to use `read_excel` you have to have the package `readxl`\n",
        "installed.\n",
        "\n",
        "The `header` argument in the last function indicates whether the first\n",
        "row of the data represents the column names or not.\n",
        "\n",
        "### Cleaning data\n",
        "\n",
        "Cleaning our dataset might mean:\n",
        "\n",
        "1.  Loading the data into R by importing a local file or from the\n",
        "    internet and telling R how to interpret it.\n",
        "2.  Merging data frames from different sources, horizontally or\n",
        "    vertically, in order to be able to answer certain questions about\n",
        "    the populations.\n",
        "3.  Renaming variables, creating new variables and removing observations\n",
        "    where data for the new variables is missing.\n",
        "4.  Removing outliers or creating subsets of the data based on values\n",
        "    for different variables using `filter`, `select`, and other\n",
        "    reshaping methods in R.\n",
        "\n",
        "We now begin to clean the census data. Let’s redefine and factor some\n",
        "variables, create new ones, and drop missing observations.\n",
        "\n",
        "### Test your knowledge\n",
        "\n",
        "In this notebook, we will be working with data from the Canadian census\n",
        "which is stored in the folder `datasets` as the file\n",
        "`01_census2016.dta`.\n",
        "\n",
        "Which function should we use to load this file? Complete the name of the\n",
        "function below."
      ],
      "id": "a4a26fc6-47ff-4d5d-b45c-23f2c5359159"
    },
    {
      "cell_type": "code",
      "execution_count": null,
      "metadata": {},
      "outputs": [],
      "source": [
        "answer_1 <- \"read_...\"\n",
        "\n",
        "test_1()"
      ],
      "id": "2a1d8adf-cb2f-4995-8ba9-0f94908407f1"
    },
    {
      "cell_type": "markdown",
      "metadata": {},
      "source": [
        "Did you get it? Okay, now replace the `???` in the code below with that\n",
        "function to load the data!"
      ],
      "id": "0862bd98-0f53-4902-aeda-bafb616c008b"
    },
    {
      "cell_type": "code",
      "execution_count": null,
      "metadata": {},
      "outputs": [],
      "source": [
        "census_data <- ???(\"../datasets_getting_started/01_census2016.dta\") \n",
        "\n",
        "answer_2 <- census_data # don't change this!\n",
        "test_2()"
      ],
      "id": "3e7dfa26-7376-48d5-b417-5034e458d889"
    },
    {
      "cell_type": "code",
      "execution_count": null,
      "metadata": {},
      "outputs": [],
      "source": [
        "# inspecting the data\n",
        "glimpse(census_data)"
      ],
      "id": "cf8b564f-e7ac-4ccf-a94d-23a9fd052570"
    },
    {
      "cell_type": "markdown",
      "metadata": {},
      "source": [
        "## Part 2: Factor variables\n",
        "\n",
        "As explained in *Intro to R*, R usually stores qualitative variables as\n",
        "**character** variables. However, they can also be stored as **factor**\n",
        "variables, used to map a (usually predetermined) set of responses to\n",
        "categorical values. In other words, factors encode the data so that the\n",
        "levels of the variable are represented by numeric codes. This process is\n",
        "useful because it streamlines data interpretation and analysis.\n",
        "\n",
        "Look at line `pr` in the output from `glimpse` above:\n",
        "\n",
        "    pr      <dbl+lbl> 35, 35, 11, 24, 35, 35, 35, 10, 35, 35, 59, 59, 46, 24, 59\n",
        "\n",
        "The `pr` variable in the Census data stands for province. Do these look\n",
        "much like Canadian provinces to you? We can see the variable type is\n",
        "`<dbl+lbl>`: this is a *labeled double*. Let’s transform this variable\n",
        "type into factors.\n",
        "\n",
        "There are three ways to change variable types into factor variables.\n",
        "\n",
        "1.  We can change a specific variable inside a dataframe to a factor by\n",
        "    using the `as_factor` command\n",
        "\n",
        "> **Note**: The operator `%>%` is called the pipe operator. It is used\n",
        "> to indicate the “next operation”. For example, you could read the code\n",
        "> below as: the final value will be assigned to object `census_data`;\n",
        "> the value should be calculated by (1) taking the data from\n",
        "> `census_data` and (2) mutating `pr` to `as_factor(pr)`. The pipe\n",
        "> operator indicates that we’re going from operation (1) to operation\n",
        "> (2)."
      ],
      "id": "8dc12c76-21d2-46ae-9ea1-9dcc5f7de6f0"
    },
    {
      "cell_type": "code",
      "execution_count": null,
      "metadata": {},
      "outputs": [],
      "source": [
        "census_data <- census_data %>%  # overwrite the object census_data with `<-`\n",
        "    mutate(pr = as_factor(pr)) # use mutate function to update variable type (more on this later)\n",
        "\n",
        "glimpse(census_data)"
      ],
      "id": "2ed7e3e0-5541-466f-9ac3-e1aa49c6460b"
    },
    {
      "cell_type": "markdown",
      "metadata": {},
      "source": [
        "Do you see the difference in the `pr` variable now? Notice that the type\n",
        "has changed to `<fct>`, which stands for **factor**.\n",
        "\n",
        "R knows how to decode province names out of the `<dbl+lbl>` type\n",
        "variable because the `<dbl+lbl>` specification captures both the numeric\n",
        "code as `dbl` and the label as `lbl`.\n",
        "\n",
        "1.  We can **supply a list of factors** using the `factor` command. This\n",
        "    command takes three inputs:\n",
        "\n",
        "-   The variable we’re trying to convert\n",
        "-   A list of the codes the qualitative variable will take on (e.g.,\n",
        "    `35`, `11`, `24`, …)\n",
        "-   A list of labels corresponding to each of the codes (e.g.,\n",
        "    `\"Ontario\"`, `\"Prince Edward Island\"`, `\"Quebec\"`, …)\n",
        "\n",
        "Let’s take the variable `pkids` as an example. `pkids` stores whether\n",
        "the respondent has children or not. Let’s change the built-in labels to\n",
        "our own labels."
      ],
      "id": "72cc77be-cbca-4028-85c8-f8b42f123e26"
    },
    {
      "cell_type": "code",
      "execution_count": null,
      "metadata": {},
      "outputs": [],
      "source": [
        "# write a list of levels\n",
        "kids_levels = c(0,1,9)\n",
        "\n",
        "# write a list of our labels\n",
        "kids_labels = c('none', 'one_or_more', 'not_applicable')\n",
        "\n",
        "# apply the new level-label combinations to the data\n",
        "census_data <- census_data %>%  # overwrite the object census_data with `<-`\n",
        "    mutate(pkids = factor(pkids,   # notice the function is \"factor\", not \"as_factor\"\n",
        "                          levels = kids_levels, \n",
        "                          labels = kids_labels)) # mutate (update pkids) to be a factor of pkids\n",
        "glimpse(census_data)"
      ],
      "id": "2fd47dd6-9113-40d0-8393-e1842724f1b9"
    },
    {
      "cell_type": "markdown",
      "metadata": {},
      "source": [
        "Notice that now `pkids` has our customized factor labels.\n",
        "\n",
        "1.  We can use `as_factor` on the **entire dataset** to convert all of\n",
        "    the variables with appropriate types.\n",
        "\n",
        "> **Note**: `as_factor` will only match the levels (e.g., `35`, `11`,\n",
        "> `24`, …) to labels (e.g., `\"Ontario\"`, `\"Prince Edward Island\"`,\n",
        "> `\"Quebec\"`) if the variable is of `<dbl+lbl>` type."
      ],
      "id": "341036c5-d505-489a-abaf-af8869440349"
    },
    {
      "cell_type": "code",
      "execution_count": null,
      "metadata": {},
      "outputs": [],
      "source": [
        "census_data <- as_factor(census_data)\n",
        "glimpse(census_data)"
      ],
      "id": "6de0baec-076f-45a4-95ad-5cdaa3e0e283"
    },
    {
      "cell_type": "markdown",
      "metadata": {},
      "source": [
        "Here is our final dataset, all cleaned up! Notice that some of the\n",
        "variables (e.g., `ppsort`) were *not* converted into factor variables.\n",
        "\n",
        "> **Think Deeper**: Can you tell why?\n",
        "\n",
        "### Creating new variables\n",
        "\n",
        "Another important clean-up task is to make new variables. The best way\n",
        "to create a new variable is using the `mutate` command.\n",
        "\n",
        "The `mutate` command is an efficient way of manipulating the columns of\n",
        "our data frame. We can use it to create new columns out of existing\n",
        "columns or with completely new inputs. The structure of the mutate\n",
        "command is as follows:\n",
        "\n",
        "    census_data <- census_data %>%\n",
        "            mutate(new_variable_name = function(...))\n",
        "\n",
        "It’s easier to understand with an example.\n",
        "\n",
        "When working with economic data, we usually deal with wages in\n",
        "logarithmic form. Let’s use `mutate` to create a new variable on the\n",
        "dataset for the log of wages."
      ],
      "id": "ecd2aa79-fa8a-4132-9232-69c2eb2dff2b"
    },
    {
      "cell_type": "code",
      "execution_count": null,
      "metadata": {},
      "outputs": [],
      "source": [
        "census_data <- census_data %>% \n",
        "        mutate(log_wages = log(wages)) # we pass `wages` to the function `log()` to create log_wages\n",
        "\n",
        "glimpse(census_data)"
      ],
      "id": "c4a05eb0-4501-486c-a906-79eccc182769"
    },
    {
      "cell_type": "markdown",
      "metadata": {},
      "source": [
        "Do you see our new variable at the bottom? Nice!\n",
        "\n",
        "### Test your knowledge\n",
        "\n",
        "In the following code, what is (1) the name of the new variable created,\n",
        "(2) the inputs used to make the new variable, and (3) the function used\n",
        "to transform the inputs in the values of the new variable?\n",
        "\n",
        "1.  grade_adjusted, grade and 2, mutate\n",
        "2.  mutate, grade and 2, mutate\n",
        "3.  round, data, mutate\n",
        "4.  mutate, data, round\n",
        "5.  grade_adjusted, grade and 2, round\n",
        "6.  round, data, round"
      ],
      "id": "487c4154-fd39-4973-93cf-a4ffe87f458c"
    },
    {
      "cell_type": "code",
      "execution_count": null,
      "metadata": {},
      "outputs": [],
      "source": [
        "data <- data %>%\n",
        "        mutate(grade_adjusted = round(grade,2))\n",
        "\n",
        "# enter your answer as \"A\", \"B\", \"C\", \"D\", \"E\", or \"F\"\n",
        "answer_3 <-\"...\"\n",
        "\n",
        "test_3()"
      ],
      "id": "7c159a87-6fb1-48a9-9fab-4cbbe63ccf64"
    },
    {
      "cell_type": "markdown",
      "metadata": {},
      "source": [
        "## Part 3: Functions\n",
        "\n",
        "We won’t cover a lot of complex functions in this notebook, but we will\n",
        "mention a very important one: the `case_when` function. This function\n",
        "acts like a combination of “if (…), then (…)” operators, creating\n",
        "different values for an input based on specified cases. You can read\n",
        "more about it by running the code block below."
      ],
      "id": "ebb6a4b0-3f64-4023-aac5-80d9996c116b"
    },
    {
      "cell_type": "code",
      "execution_count": null,
      "metadata": {},
      "outputs": [],
      "source": [
        "# use the helper function to read details of `case-when`\n",
        "# ?case_when"
      ],
      "id": "10f434f6-81b7-43d0-a858-f81cf054d281"
    },
    {
      "cell_type": "markdown",
      "metadata": {},
      "source": [
        "The `case_when()` function operates with the following parameters:\n",
        "\n",
        "-   The ‘case’, which is the condition that you’re checking for.\n",
        "\n",
        "-   The ‘value’, which is what you assign when that condition is met.\n",
        "\n",
        "Suppose we are working with the `pkids` variable and find it has three\n",
        "levels (`'none'`, `'one or more'`, `'not applicable'`). We are\n",
        "interested in creating a dummy variable which equals one if the\n",
        "respondent has children and zero otherwise. Let’s call this new variable\n",
        "`has_kids`.\n",
        "\n",
        "Here’s how you can use `case_when()` to achieve this:"
      ],
      "id": "ebe03b58-d0c9-4746-9ab1-ae364edff3a9"
    },
    {
      "cell_type": "code",
      "execution_count": null,
      "metadata": {},
      "outputs": [],
      "source": [
        "census_data <- census_data %>%\n",
        "    mutate(has_kids = case_when( # use mutate to make a new variable called `has_kids`\n",
        "        pkids == \"none\" ~ 0, # case 1: when pkids is \"none\"; output is 0 (no kids)\n",
        "        pkids == \"one_or_more\" ~ 1, # case 2: when pkids is \"one or more\"; output is 1 (kids)\n",
        "        pkids == 'not_applicable' ~ 0)) # case 2: when pkids is \"not applicable\"; output is 0 (no kids) \n",
        "       \n",
        "\n",
        "glimpse (census_data)"
      ],
      "id": "a842fbde-21c8-438f-8302-686db7b3addf"
    },
    {
      "cell_type": "markdown",
      "metadata": {},
      "source": [
        "Notice that our new variable `has_kids` is not a factor variable. We\n",
        "must add on the appropriate line of codes to make it a factor.\n",
        "\n",
        "### Dummy Variables\n",
        "\n",
        "We might also want to use R to create dummy variables in our dataset.\n",
        "For example, suppose we want to create a variable that indicates whether\n",
        "the respondent is retired (dummy == 1) or not retired (dummy == 0). We\n",
        "can simply decode the data of the variable `agegrp`, which is currently\n",
        "a factor indicating the age of the respondent.\n",
        "\n",
        "Let’s start by taking a look at `agegrp`.\n",
        "\n",
        "`glimpse(census_data$agegrp)` tells us that `agegrp` is a factor\n",
        "variable with 22 levels. We can see the names of the levels with the\n",
        "function `levels()`."
      ],
      "id": "2f721ebe-b035-4ab2-852f-6e1552dee898"
    },
    {
      "cell_type": "code",
      "execution_count": null,
      "metadata": {},
      "outputs": [],
      "source": [
        "# inspect the data\n",
        "glimpse(census_data$agegrp)\n",
        "\n",
        "# understand levels\n",
        "levels(census_data$agegrp)"
      ],
      "id": "92454f63-5b2d-4406-a5dd-5107f9e01d05"
    },
    {
      "cell_type": "markdown",
      "metadata": {},
      "source": [
        "We can now bunch together all levels that represent **ages 65 and\n",
        "above** (the retirement age) and assign such observations a value of 1\n",
        "(and 0 otherwise)."
      ],
      "id": "99a0eed5-0d5b-4ff2-beda-fc465963407a"
    },
    {
      "cell_type": "code",
      "execution_count": null,
      "metadata": {},
      "outputs": [],
      "source": [
        "census_data <- census_data %>% \n",
        "    mutate(retired = case_when(\n",
        "        (agegrp == \"65 to 69 years\")| # the vertical bar can be read as \"or\"\n",
        "        (agegrp == \"70 to 74 years\")|\n",
        "        (agegrp == \"75 to 79 years\")|\n",
        "        (agegrp == \"80 to 84 years\")|\n",
        "        (agegrp == \"85 years and over\") ~ 1, # the ~ separates the 'case' from the 'value'\n",
        "                               TRUE ~ 0)) %>% # use `TRUE` for the 'otherwise' condition\n",
        "    mutate(retired = as_factor(retired)) # make the variable a factor\n",
        "\n",
        "glimpse(census_data)"
      ],
      "id": "9b3e4dd3-be06-47b8-b54e-29223c782369"
    },
    {
      "cell_type": "markdown",
      "metadata": {},
      "source": [
        "> **To Remember:** To assign a default value on all cases that don’t\n",
        "> match your specified conditions, use TRUE as your last ‘case’. This\n",
        "> works because the condition TRUE will always be met if none of the\n",
        "> previous conditions are.\n",
        "\n",
        "### Test your knowledge\n",
        "\n",
        "Overwrite the existing `has_kids` variable with a new `has_kids`\n",
        "variable but with type factor.\n",
        "\n",
        "> **Hint**: To overwrite a variable, create a new variable with the same\n",
        "> name as the name of the variable you want to overwrite."
      ],
      "id": "df286383-e0eb-4b56-a5e1-a89bf02e277a"
    },
    {
      "cell_type": "code",
      "execution_count": null,
      "metadata": {},
      "outputs": [],
      "source": [
        "# use this cell to write your code"
      ],
      "id": "19248ba5-1b6f-4a13-8c6e-da6b09e18bfa"
    },
    {
      "cell_type": "code",
      "execution_count": null,
      "metadata": {},
      "outputs": [],
      "source": [
        "# run this cell to check your answer - don't change the code here!\n",
        "\n",
        "answer_4 <- class(census_data$has_kids)\n",
        "\n",
        "test_4()"
      ],
      "id": "73ea7ecd-0ddb-4180-869f-eb8b377a97ed"
    },
    {
      "cell_type": "markdown",
      "metadata": {},
      "source": [
        "Create a new dummy variable called `knows_english` for whether the\n",
        "respondent speaks english (dummy == 1) or not (dummy == 0). Use data\n",
        "from the variable `kol` and assign the updated data frame to the object\n",
        "`answer_4`."
      ],
      "id": "b7e3ac0b-e89b-4288-a908-7e02b491a91e"
    },
    {
      "cell_type": "code",
      "execution_count": null,
      "metadata": {},
      "outputs": [],
      "source": [
        "#Run this first:\n",
        "glimpse(census_data$kol)\n",
        "levels(census_data$kol)"
      ],
      "id": "cf6318ad-9b59-4e93-a0ed-068f3de95b10"
    },
    {
      "cell_type": "code",
      "execution_count": null,
      "metadata": {},
      "outputs": [],
      "source": [
        "# don't forget to factorize your new variable!\n",
        "\n",
        "answer_5 <- census_data %>% \n",
        "    mutate(... = case_...(\n",
        "        (kol == ...)|\n",
        "        (... == ...) ~ ..., \n",
        "            TRUE ~ ...)) %>% \n",
        "    mutate(... = ...(...)) \n",
        "\n",
        "test_5()"
      ],
      "id": "5c98311c-d3c6-496c-8f7d-073f011589a0"
    },
    {
      "cell_type": "markdown",
      "metadata": {},
      "source": [
        "### Conclusion\n",
        "\n",
        "In this notebook, we learned how to load and manipulate data using\n",
        "various R packages and commands. You also learned how to factor\n",
        "variables and create dummies to meet the needs of your statistical\n",
        "research.\n",
        "\n",
        "Don’t hesitate to come back to this notebook and apply what you’ve\n",
        "learned here to new data sets. You may now proceed to Part 2 on Intro to\n",
        "Data."
      ],
      "id": "32f7fee4-d247-4e1f-86d8-34dfb0ecc286"
    }
  ],
  "nbformat": 4,
  "nbformat_minor": 5,
  "metadata": {
    "kernelspec": {
      "name": "ir",
      "display_name": "R",
      "language": "r"
    }
  }
}