{
  "cells": [
    {
      "cell_type": "markdown",
      "metadata": {},
      "source": [
        "# 0.4 - Introduction to Python\n",
        "\n",
        "COMET Team <br> *Jane Platt*  \n",
        "Invalid Date\n",
        "\n",
        "## Outline\n",
        "\n",
        "### Prerequisites:\n",
        "\n",
        "-   Introduction to Jupyter\n",
        "\n",
        "### Learning Objectives\n",
        "\n",
        "-   Learn the basic concepts of variable assignment, functions, and tabs\n",
        "    in Python\n",
        "-   Learn the basics of variables (numbers, texts, and booleans)\n",
        "-   Import and load data into Jupyter Notebook\n",
        "-   Access and perform manipulations on data\n",
        "\n",
        "## Introduction\n",
        "\n",
        "In this notebook, we will be introducing **Python**, which is a\n",
        "programming language designed for use in data science and analysis. If\n",
        "you are familiar with other programming languages, such as R, this will\n",
        "likely be very familiar to you - if this is your first time coding,\n",
        "don’t be intimidated! Try to play around with the examples and exercises\n",
        "as you work through this notebook; it’s easiest to learn to program in\n",
        "Python by trying things for yourself.\n",
        "\n",
        "## Part 1: Basic Programming Concepts\n",
        "\n",
        "To begin, we’ll go over the most basic concepts used in Python.\n",
        "Specifically, we will look at variable assignment and functions. Later\n",
        "we will go over the different things that can go into functions and\n",
        "variables, but it will be important to first grasp how they work.\n",
        "\n",
        "### 1.1 Variable Assignment\n",
        "\n",
        "Variable assignment is fairly self explanatory: we will assign a value\n",
        "to a variable that we can then use for our analysis.\n",
        "\n",
        "To assign a value to a variable, we put the variable name on the left\n",
        "and the value on the right, as such:"
      ],
      "id": "6d5d9296-7d13-435a-b3e0-a59f37d80b61"
    },
    {
      "cell_type": "code",
      "execution_count": 1,
      "metadata": {},
      "outputs": [],
      "source": [
        "variable = \"value\""
      ],
      "id": "5c524e63"
    },
    {
      "cell_type": "markdown",
      "metadata": {},
      "source": [
        "Now, Python will remember this assignment for the rest of our Python\n",
        "session (the time we’re running code without closing Python). If you\n",
        "quit and close the session, Python will not remember that we assigned\n",
        "the value `value` to `variable`.\n",
        "\n",
        "Now if we run `variable`, it’ll output `value` just like we told it to!"
      ],
      "id": "7d75ff0e-029a-466c-b827-f0178174f308"
    },
    {
      "cell_type": "code",
      "execution_count": 2,
      "metadata": {},
      "outputs": [],
      "source": [
        "variable"
      ],
      "id": "1b3180ad"
    },
    {
      "cell_type": "markdown",
      "metadata": {},
      "source": [
        "If we don’t assign a value to our object, Python will return an error.\n",
        "Try it for yourself below."
      ],
      "id": "45d05187-8999-4a32-8812-e98a7e793685"
    },
    {
      "cell_type": "code",
      "execution_count": 3,
      "metadata": {},
      "outputs": [],
      "source": [
        "x"
      ],
      "id": "4fb5639d"
    },
    {
      "cell_type": "markdown",
      "metadata": {},
      "source": [
        "This is because we haven’t *defined* our variable. When Python reads our\n",
        "code, it reads from right to left. So it will first read the value we\n",
        "picked (originally `value`), and then the computed value is stored in\n",
        "our object (`variable`). In the previous case, we didn’t define `x`\n",
        "(there is no value attached, no equal sign), so Python was not able to\n",
        "interpret what we meant by “x”.\n",
        "\n",
        "We can change how we define different variables as much as we would\n",
        "like. For example, if we were to run:"
      ],
      "id": "a16e5fdc-1821-43f9-876f-e01cc70aaad5"
    },
    {
      "cell_type": "code",
      "execution_count": 4,
      "metadata": {},
      "outputs": [],
      "source": [
        "variable = 10"
      ],
      "id": "40677ae6"
    },
    {
      "cell_type": "markdown",
      "metadata": {},
      "source": [
        "we’ve now changed our variable to store the value `10`. Notice that we\n",
        "can change the type of variable we are working with (from string to\n",
        "numeric). Now if we run `variable`, we will see a different output:"
      ],
      "id": "967775b0-01e0-414f-9c42-bf94b44caeae"
    },
    {
      "cell_type": "code",
      "execution_count": 5,
      "metadata": {},
      "outputs": [],
      "source": [
        "variable"
      ],
      "id": "ba03d046"
    },
    {
      "cell_type": "markdown",
      "metadata": {},
      "source": [
        "Python only keeps the most recent assignment, so if you change the value\n",
        "your variable holds, Python won’t keep track of what you had put before.\n",
        "That’s why it is useful to keep track of what you’re working on using\n",
        "**comments** within your code.\n",
        "\n",
        "### 1.2 Comments\n",
        "\n",
        "Comments are a common concept found in all coding languages. These are\n",
        "little notes that we are able to leave in our code that won’t affect our\n",
        "outputs, but that allow us to keep track of what we’ve been doing.\n",
        "\n",
        "To leave a comment in Python, just include `#` at the beginning of your\n",
        "comment. Python ignores everything that comes *after* a #. See some\n",
        "examples below:"
      ],
      "id": "fa156f0f-c5e1-4379-b73e-177c9bcb10d7"
    },
    {
      "cell_type": "code",
      "execution_count": 6,
      "metadata": {},
      "outputs": [],
      "source": [
        "first_name = \"your first name\" # Enter your first name here!\n",
        "last_name = \"your last name\" # Enter your last name here!\n",
        "\n",
        "# colour = \"pick a colour\"\n",
        "\n",
        "print(first_name + ' ' + last_name)"
      ],
      "id": "745f0ae9"
    },
    {
      "cell_type": "markdown",
      "metadata": {},
      "source": [
        "Notice how the comment we left to the right of the first two lines do\n",
        "not affect the code. We are able to print `first_name` and `last_name`\n",
        "without any issues. Try printing `colour`, though.\n",
        "\n",
        "print(colour)\n",
        "\n",
        "Notice how this doesn’t work? Recall that Python doesn’t read anything\n",
        "to the right of the `#`. Because we put the `#` at the beginning of the\n",
        "line, Python did not read the line where we created the variable\n",
        "`colour`. If we wanted to create this variable, we would have to remove\n",
        "the `#`. Try doing that and see what pops up when you run\n",
        "`print(colour)`!\n",
        "\n",
        "## Part 2: Objects and Types\n",
        "\n",
        "As always when learning a new language, it’s important to get a good\n",
        "grasp of the different **object types** in Python and how to use them.\n",
        "Whenever we work with Python, we will be manipulating different kinds of\n",
        "information, which is referred to as an “object”. In Python, objects can\n",
        "contain both data and functions we can use on our data. These functions\n",
        "are sometimes called **methods**.\n",
        "\n",
        "We can take a look at what an object holds, oth in terms of data and\n",
        "methods, by typing `.` after the object’s name and hitting `tab`. This\n",
        "is typically called *tab completion* or *introspection*. Doing this will\n",
        "list out a few different options that you can scroll through. See below:\n",
        "\n",
        "![](attachment:media/introspection.png)\n",
        "\n",
        "Try doing this yourself below. Try to find the method `split`. Once you\n",
        "have found it, you can use the method by adding parentheses after it."
      ],
      "attachments": {
        "media/introspection.png": {
          "image/png": "[encoded data removed]"
        }
      },
      "id": "e940b6a7-64c7-4f4e-84fb-4539cacf5c01"
    },
    {
      "cell_type": "code",
      "execution_count": 7,
      "metadata": {},
      "outputs": [],
      "source": [
        "full_name = \"enter your name\"\n",
        "full_name"
      ],
      "id": "cec41bc5"
    },
    {
      "cell_type": "markdown",
      "metadata": {},
      "source": [
        "Can you tell what this method does?\n",
        "\n",
        "Another common thing we will want to do with variables and objects is\n",
        "find out their **type**. The **type** of data will determine what kinds\n",
        "of methods and functions we can perform. We will go over each type in\n",
        "depth at a later stage. To figure out what type of object we are working\n",
        "with, we can use the `type()` function. This is a simple function where\n",
        "the input (what goes in between the parentheses) is the object we want\n",
        "to study. Let’s try below with the variable `first_name`."
      ],
      "id": "476c96bc-e530-42cc-b921-41b8f0ed824c"
    },
    {
      "cell_type": "code",
      "execution_count": 8,
      "metadata": {},
      "outputs": [],
      "source": [
        "type(first_name)"
      ],
      "id": "02256228"
    },
    {
      "cell_type": "markdown",
      "metadata": {},
      "source": [
        "The variable `first_name` is a **string** (`str`). We will look at what\n",
        "that means a bit later.\n",
        "\n",
        "### 2.1. Numbers\n",
        "\n",
        "The first type of data we will look at is **numbers**. Python has two\n",
        "types of numbers.\n",
        "\n",
        "1.  Integers, known as `int` in Python, can only take the values of\n",
        "    integers: `{... -157, ..., -1, 0, 14, 267, ...}`.\n",
        "2.  Floating Point Numbers, known as `float`, can be any real number,\n",
        "    such as `-1.5435, 3.14, 12, -10234.4573835`.\n",
        "\n",
        "The easiest way to tell the difference between these two types of\n",
        "numbers is the presence of a decimal point. Integers do not have\n",
        "decimals, floats do. Below, we will create some `int` and `float`\n",
        "variables."
      ],
      "id": "aa132028-1f2b-40fa-940d-72e29f9be1fc"
    },
    {
      "cell_type": "code",
      "execution_count": 9,
      "metadata": {},
      "outputs": [],
      "source": [
        "x_int = 1 \n",
        "x_float = 1.0\n",
        "z_int = 123\n",
        "z_float = 1230.5  \n",
        "z_float2 = 1_230.5  # Note that if we want to use commas to separate larger numbers \n",
        "                    # (e.g. to indicate the thousands), we use an underscore _ instead of a comma."
      ],
      "id": "6d4fb790"
    },
    {
      "cell_type": "markdown",
      "metadata": {},
      "source": [
        "### 2.2 Strings\n",
        "\n",
        "Strings store all text data. For data to be stored as a string, it must\n",
        "be written within quotation marks. For example,"
      ],
      "id": "3890eb1a-4765-44ac-9fdd-36c0a8d75d66"
    },
    {
      "cell_type": "code",
      "execution_count": 10,
      "metadata": {},
      "outputs": [],
      "source": [
        "\"this is a string\" # quotation marks!\n",
        "'this is also a string' # ' ' also works! \n",
        "this is not a string # do you see the syntax warning?"
      ],
      "id": "69307b9f"
    },
    {
      "cell_type": "markdown",
      "metadata": {},
      "source": [
        "As we saw above when learning the `type()` function, Python identifies\n",
        "strings as `str`. You can see this again below:"
      ],
      "id": "625f768b-cb31-4b01-979c-de758c99ccd8"
    },
    {
      "cell_type": "code",
      "execution_count": 11,
      "metadata": {},
      "outputs": [],
      "source": [
        "type(first_name)"
      ],
      "id": "e4fb905d"
    },
    {
      "cell_type": "markdown",
      "metadata": {},
      "source": [
        "### 2.3 Booleans\n",
        "\n",
        "Booleans are the last data type we will look at. Booleans simply denote\n",
        "true or false. They will be useful later on, when we start working with\n",
        "operations. For now, let’s create some booleans and see what they look\n",
        "like."
      ],
      "id": "44aa63d4-bb53-48d3-a7e7-b17441546d62"
    },
    {
      "cell_type": "code",
      "execution_count": 12,
      "metadata": {},
      "outputs": [],
      "source": [
        "x = True # notice how we aren't putting True in quotation marks. What do you think would happen if we did?\n",
        "y = False "
      ],
      "id": "32da7f46"
    },
    {
      "cell_type": "code",
      "execution_count": 13,
      "metadata": {},
      "outputs": [],
      "source": [
        "type(x)"
      ],
      "id": "edb2855a"
    },
    {
      "cell_type": "code",
      "execution_count": 14,
      "metadata": {},
      "outputs": [],
      "source": [
        "x"
      ],
      "id": "1bcb2b6e"
    },
    {
      "cell_type": "code",
      "execution_count": 15,
      "metadata": {},
      "outputs": [],
      "source": [
        "y"
      ],
      "id": "b4963ef1"
    },
    {
      "cell_type": "markdown",
      "metadata": {},
      "source": [
        "## 3. Operations\n",
        "\n",
        "We’ll now take a look at different operations or functions we can run in\n",
        "Python. Many functions are type-dependent, meaning they only work for\n",
        "certain variable types, so we will go through each type and their\n",
        "associated functions.\n",
        "\n",
        "### 3.1. Operations on Numbers\n",
        "\n",
        "#### Python as a calculator\n",
        "\n",
        "The first thing we can do in Python is basic math. When our variables\n",
        "are numbers (either `int` or `float`), we can easily use Python to add,\n",
        "subtract, and divide numbers (there are many more things Python can\n",
        "do!). Let’s give this a try below."
      ],
      "id": "8f6d02a6-e933-45c3-97ad-5daacef5d337"
    },
    {
      "cell_type": "code",
      "execution_count": 16,
      "metadata": {},
      "outputs": [],
      "source": [
        "a = 12\n",
        "b = 2\n",
        "\n",
        "print(a + b) # We ask Python to print all the answers so we can see everything. \n",
        "print(a - b) # Otherwise, Python would only show us the most recent result.\n",
        "print(a * b)\n",
        "print(a / b)\n",
        "print(a ** b) # Note that Python uses ** for exponentiation. "
      ],
      "id": "48cf44ff"
    },
    {
      "cell_type": "markdown",
      "metadata": {},
      "source": [
        "Did you notice that Python returned an integer for almost every\n",
        "operation? It did however convert the answer to a float for the division\n",
        "operation. Whenever possible, Python will return an integer type for\n",
        "operations between integers, but any operation involving a float will\n",
        "result in a float. See below"
      ],
      "id": "3fcdf1ec-21aa-4aef-94a3-8f0b4e5c74ba"
    },
    {
      "cell_type": "code",
      "execution_count": 17,
      "metadata": {},
      "outputs": [],
      "source": [
        "a = 12.0\n",
        "b = 2\n",
        "\n",
        "print(a + b) \n",
        "print(a - b) \n",
        "print(a * b)\n",
        "print(a / b)\n",
        "print(a ** b)"
      ],
      "id": "a0115124"
    },
    {
      "cell_type": "markdown",
      "metadata": {},
      "source": [
        "Python also allows us to do multiple operations in one line. As you\n",
        "would expect, it follows the standard order of operations PEMDAS\n",
        "(parentheses, exponents, multiplication, division, addition,\n",
        "subtraction). We’ll try this below - what do you think c and d will be?\n",
        "You can check your answers by using the `print()` function."
      ],
      "id": "6bf185d9-41bf-48f2-b204-db2fa50d7cda"
    },
    {
      "cell_type": "code",
      "execution_count": 18,
      "metadata": {},
      "outputs": [],
      "source": [
        "a = 4\n",
        "b = 7\n",
        "\n",
        "c = a - b / b\n",
        "d = (a - b) / b"
      ],
      "id": "9b38005e"
    },
    {
      "cell_type": "markdown",
      "metadata": {},
      "source": [
        "#### Other math functions\n",
        "\n",
        "If we want to use other math functions, such as taking the sine or\n",
        "cosine of a number, we need to use the `math` package. As we learned\n",
        "earlier, to use a package, we write the package name (or our nickname\n",
        "for it) followed by a `.` and then we can click \\[TAB\\] to look through\n",
        "the available functions. So, if we wanted to take sin(2), we would do\n",
        "the following:"
      ],
      "id": "6dccc709-b3bd-459c-abce-65cf22f33823"
    },
    {
      "cell_type": "code",
      "execution_count": 19,
      "metadata": {},
      "outputs": [],
      "source": [
        "import math # don't forget to import the package first!\n",
        "\n",
        "math.sin(2)"
      ],
      "id": "690e9a9e"
    },
    {
      "cell_type": "markdown",
      "metadata": {},
      "source": [
        "#### Floor and Modulus Division\n",
        "\n",
        "The last mathematical operation we will look at is floor and modulus\n",
        "division. This relates to division concepts we learned when initially\n",
        "going through division: quotients and remainders. Let’s say we are\n",
        "dividing `x` by `y`, two numbers.\n",
        "\n",
        "-   Floor division: `x // y` will return the quotient, or the number of\n",
        "    times the divisor goes into the dividend.\n",
        "-   Modulus division: `x % y` will return the remainder.\n",
        "\n",
        "Let’s try it below. Can you figure out what the operations will return\n",
        "if x is 44 and y is 7?"
      ],
      "id": "d1918382-116b-4673-a485-c444e56d7c2c"
    },
    {
      "cell_type": "code",
      "execution_count": 20,
      "metadata": {},
      "outputs": [],
      "source": [
        "x = 44\n",
        "y = 7\n",
        "\n",
        "#print(x // y) #uncomment to check your answers\n",
        "#print(x % y)"
      ],
      "id": "dfacb6de"
    },
    {
      "cell_type": "markdown",
      "metadata": {},
      "source": [
        "### 3.2. Operations on Strings\n",
        "\n",
        "#### Arithmetics\n",
        "\n",
        "Some of the arithmetic operations we learned above can also be used for\n",
        "strings. - We can put two strings together by using `+` - We can repeat\n",
        "a string `n` times by writing `n*variable`\n",
        "\n",
        "Let’s try this below!"
      ],
      "id": "3c622097-39d4-46cb-89f3-81e71eab4f4e"
    },
    {
      "cell_type": "code",
      "execution_count": 21,
      "metadata": {},
      "outputs": [],
      "source": [
        "x = \"Good\"\n",
        "y = \"Morning\"\n",
        "\n",
        "print(x + y)\n",
        "print(3 * x )"
      ],
      "id": "58486d57"
    },
    {
      "cell_type": "markdown",
      "metadata": {},
      "source": [
        "Note that if we were to try to use `*`, `-`, or `/` with strings, Python\n",
        "would return an error. You can see for yourself below."
      ],
      "id": "1058b913-d9c7-4d7e-9428-8fdc6d6e5785"
    },
    {
      "cell_type": "code",
      "execution_count": 22,
      "metadata": {},
      "outputs": [],
      "source": [
        "#x * y # uncomment and run these lines to see the error message\n",
        "#x - y \n",
        "#x / y"
      ],
      "id": "998bb3fb"
    },
    {
      "cell_type": "markdown",
      "metadata": {},
      "source": [
        "#### String methods (operations)\n",
        "\n",
        "There are a ton of different operations we can perform on strings. We\n",
        "won’t be able to look at the all in this notebook, but again if you want\n",
        "to take a look, simply type a `.` after the variable and press \\[TAB\\].\n",
        "You can then scroll through some of the methods.\n",
        "\n",
        "We’ll list out a few of the essential methods below. These are ones that\n",
        "you will frequently see when working with textual data."
      ],
      "id": "d7267c0a-ac9f-49c9-b3d0-5b8b38550d6a"
    },
    {
      "cell_type": "code",
      "execution_count": 23,
      "metadata": {},
      "outputs": [],
      "source": [
        "x = \"Good Morning\"\n",
        "\n",
        "#  Again, you don't need to write print() each time. We are only doing this so that you can see each output and compare\n",
        "print(x.lower()) # makes everything lower case. don't forget the extra parentheses!!\n",
        "print(x.upper()) # makes everything upper case. don't forget the extra parentheses!!\n",
        "print(x.count(\"o\")) # counts how many times a particular string appears\n",
        "print(x.count(\"ing\"))"
      ],
      "id": "d63991cf"
    },
    {
      "cell_type": "markdown",
      "metadata": {},
      "source": [
        "#### String Formatting\n",
        "\n",
        "The next operation we’ll look at involves repeating strings.\n",
        "\n",
        "Let’s say we have a dataset that contains many dates and the weather,\n",
        "and we want to write a sentence saying “Month Day, Year was X”, where\n",
        "“Month” would be the month, “Day” would be the date, “Year” would be the\n",
        "year and “X” would be the weather. We can do this easily with **string\n",
        "formatting**, which allows us to use a generic **placeholder** to\n",
        "replace each individual value of the variable. To do so, we would\n",
        "replace the specific value we are thinking of with the variable name, in\n",
        "squiggly brackets `{}`, when we are writing out the sentence. Let’s take\n",
        "a look at an example."
      ],
      "id": "ec1df844-d752-4e9e-9990-e1ef9bcc21f1"
    },
    {
      "cell_type": "code",
      "execution_count": 24,
      "metadata": {},
      "outputs": [],
      "source": [
        "month = \"January\"\n",
        "day = \"24th\"\n",
        "year = \"2025\"\n",
        "X = \"sunny\"\n",
        "\n",
        "sentence = f\"{month} {day}, {year} was {X}.\"\n",
        "print(sentence)"
      ],
      "id": "34821a77"
    },
    {
      "cell_type": "markdown",
      "metadata": {},
      "source": [
        "The `f` at the beginning of the string allows Python to interpolate what\n",
        "is between the `{}`.\n",
        "\n",
        "We can also use string formatting for calculations. To do so, we’d\n",
        "substitute the calculation we want to do into the `{}`.\n",
        "\n",
        "We can do this for basic math as such:"
      ],
      "id": "9069c603-03b0-4085-bd81-9aeffe310c95"
    },
    {
      "cell_type": "code",
      "execution_count": 25,
      "metadata": {},
      "outputs": [],
      "source": [
        "print(f\"{5}**2 = {5**2}\")"
      ],
      "id": "852946c7"
    },
    {
      "cell_type": "markdown",
      "metadata": {},
      "source": [
        "And we can do this within sentences as well. Let’s say we want Canada’s\n",
        "2024 GDP (\\$2.515 trillion) in billions. Instead of typing out the\n",
        "number, we could just write"
      ],
      "id": "349589bf-e46b-48f9-b06c-7543986f9cde"
    },
    {
      "cell_type": "code",
      "execution_count": 26,
      "metadata": {},
      "outputs": [],
      "source": [
        "GDP = 2.515\n",
        "string = f\"Canada's GDP was ${GDP * 1_000} billion in 2024\"\n",
        "print(string)"
      ],
      "id": "1dd76b0c"
    },
    {
      "cell_type": "markdown",
      "metadata": {},
      "source": [
        "If we want to reuse a string we created a format for earlier, we can use\n",
        "the method `format`. To do this though, we do **not** put `f` before the\n",
        "string. For example,"
      ],
      "id": "1319caa2-814e-4e5c-8a65-4f5d68577d9c"
    },
    {
      "cell_type": "code",
      "execution_count": 27,
      "metadata": {},
      "outputs": [],
      "source": [
        "sentence = \"{month} {day}, {year} was {X}.\"\n",
        "\n",
        "sentence.format(month = \"February\", day = \"28th\", year = 2016, X = \"rainy\")"
      ],
      "id": "db639dc7"
    },
    {
      "cell_type": "markdown",
      "metadata": {},
      "source": [
        "There’s a lot more we can do with string formatting. If you want to\n",
        "learn more, you can find information\n",
        "[here](https://docs.python.org/3/library/string.html).\n",
        "\n",
        "### 3.3. Operations on Booleans\n",
        "\n",
        "#### Comparisons\n",
        "\n",
        "Most of the time, booleans will be created through comparison\n",
        "operations. For example, we might want a variable that evaluates if\n",
        "someone is older than 18. We would thus create a boolean which is `True`\n",
        "if the age of the individual is greater than 18.\n",
        "\n",
        "For two variables `x` and `y`, we can do the following comparisons:\n",
        "\n",
        "-   Greater than: `x > y`\n",
        "-   Less than: `x < y`\n",
        "-   Equal to: `x == y`\n",
        "-   Greater than or equal to: `x >= y`\n",
        "-   Less than or equal to: `x <= y`\n",
        "\n",
        "We’ll try this below with a simple example. Feel free to change the\n",
        "values to see for yourself!"
      ],
      "id": "3c9416b3-2d44-4028-9d63-a79d86378fe8"
    },
    {
      "cell_type": "code",
      "execution_count": 28,
      "metadata": {},
      "outputs": [],
      "source": [
        "x = 1\n",
        "y = 2\n",
        "\n",
        "print(\"x > y is\", x > y)\n",
        "print(\"x < y is\", x < y)\n",
        "print(\"x <= y is\", x <= y)"
      ],
      "id": "a2b115e0"
    },
    {
      "cell_type": "markdown",
      "metadata": {},
      "source": [
        "#### Negation\n",
        "\n",
        "Sometimes, we will prefer to determine if a statement is **not true** or\n",
        "**not false**. This is called **negating** a statement. We can negate a\n",
        "boolean in Python by adding the statement `not` before `True` or\n",
        "`False`."
      ],
      "id": "3b848791-7c22-4f73-9bd8-fda4027c0e78"
    },
    {
      "cell_type": "code",
      "execution_count": 29,
      "metadata": {},
      "outputs": [],
      "source": [
        "print(not True)\n",
        "print(not False)"
      ],
      "id": "c5d831a5"
    },
    {
      "cell_type": "markdown",
      "metadata": {},
      "source": [
        "#### Multiple Comparisons using **and** / **or**\n",
        "\n",
        "Sometimes, we will want to do multiple comparisons. For example, we\n",
        "might want to look at all individuals who are employed **and** have\n",
        "children, or we might want to individuals with cars **or** bicycles. We\n",
        "can do this in Python using the *mathematical* **ands** and **ors**.\n",
        "This means that\n",
        "\n",
        "-   `a` and `b` are `True` only when **both** `a` **AND** `b` are `True`\n",
        "-   `a` or `b` is `True` when **at least one** of `a` or `b` is `True`\n",
        "\n",
        "Using the examples above: - The statement “We are studying individuals\n",
        "who are employed *and* have children” means we will only include\n",
        "individuals that are both employed *AND* who have children - The\n",
        "statement “We are studying people with cars *or* bicycle” means we will\n",
        "look at everyone who has a car, everyone who has a bicycle, and everyone\n",
        "who has a car and a bicycle.\n",
        "\n",
        "Let’s test these out below. Try thinking of the answers yourself before\n",
        "running the code!"
      ],
      "id": "38431b8a-986b-41a9-9d84-6a406a651940"
    },
    {
      "cell_type": "code",
      "execution_count": 30,
      "metadata": {},
      "outputs": [],
      "source": [
        "True and False # do you think this will be true or false?"
      ],
      "id": "6da939d0"
    },
    {
      "cell_type": "code",
      "execution_count": 31,
      "metadata": {},
      "outputs": [],
      "source": [
        "True and True"
      ],
      "id": "d2a41d74"
    },
    {
      "cell_type": "code",
      "execution_count": 32,
      "metadata": {},
      "outputs": [],
      "source": [
        "True or False "
      ],
      "id": "4b3a85f2"
    },
    {
      "cell_type": "code",
      "execution_count": 33,
      "metadata": {},
      "outputs": [],
      "source": [
        "False or False"
      ],
      "id": "e7a8633f"
    },
    {
      "cell_type": "code",
      "execution_count": 34,
      "metadata": {},
      "outputs": [],
      "source": [
        "# we can chain multiple comparisons!\n",
        "# order of operations will still apply\n",
        "True and (False or True) "
      ],
      "id": "34dc0552"
    },
    {
      "cell_type": "markdown",
      "metadata": {},
      "source": [
        "#### **all** and **any**\n",
        "\n",
        "As we saw, we can use **and** and **or** to process two booleans at a\n",
        "time. We can also process *all* our booleans at once!\n",
        "\n",
        "To do so, we can use the functions **all** and **any**. These functions\n",
        "will test all the booleans we’re working on at the same time.\n",
        "\n",
        "-   `all(bools)` will tell us if all the booleans in `bools` are `True`.\n",
        "    If they are all true, Python will return `True`. If even one of them\n",
        "    is not true, Python will return `False`.\n",
        "-   `any(bools)` will tell us if we have any booleans that are `True`.\n",
        "    If even one of our booleans is true, Python will return `True` when\n",
        "    running this command.\n",
        "\n",
        "## 3. Packages\n",
        "\n",
        "Similarly to R, Python has a host of packages that we can use that\n",
        "contain different functions and tools. Some examples of packages are:\n",
        "\n",
        "-   pandas, which implements the tools necessary to do scalable data\n",
        "    analysis.\n",
        "\n",
        "-   matplotlib, which contains visualization tools.\n",
        "\n",
        "-   requests and urllib, which allow Python to interface with the\n",
        "    internet.\n",
        "\n",
        "We’ll be using packages all throughout the Python modules, so it will be\n",
        "important to learn how to install them and how to open them.\n",
        "\n",
        "To install a package, we simply run the code `import package`. To access\n",
        "and open the package that we’ve installed in our session, we run the\n",
        "code `package.function_name`. Let’s do this below with the package\n",
        "`sys`, which helps Python work with our computer."
      ],
      "id": "73f65cc7-3f03-445a-83e1-6177888ae9d2"
    },
    {
      "cell_type": "code",
      "execution_count": 35,
      "metadata": {},
      "outputs": [],
      "source": [
        "import sys\n",
        "sys.version # We want to find the Python version our computer is using"
      ],
      "id": "f1a86fdf"
    },
    {
      "cell_type": "markdown",
      "metadata": {},
      "source": [
        "Some packages have fairly long names, so Python has allowed us to\n",
        "abbreviate their names to nicknames when importing them to make our code\n",
        "less heavy. For example, we can abbreviate a package name to `p` by\n",
        "writing `import package as p`. Thus, instead of writing\n",
        "`package.function_name`, we can just write `p.function_name`.\n",
        "\n",
        "Typically, people use the following nicknames for packages:\n",
        "\n",
        "-   import pandas as pd\n",
        "\n",
        "-   import numpy as np\n",
        "\n",
        "-   import matplotlib as mpl\n",
        "\n",
        "-   import datetime as dt\n",
        "\n",
        "In theory, you can abbreviate the packages to any nickname you’d like,\n",
        "but for simplicity and comprehensibility, we recommend using the common\n",
        "nicknames listed above.\n",
        "\n",
        "## Part 3: Dealing with Errors and Getting Help\n",
        "\n",
        "### 3.1. Errors\n",
        "\n",
        "Sometimes in our analysis we can run into errors in our code. This\n",
        "happens to everyone - don’t worry - it’s not a reason to panic.\n",
        "Understanding the nature of the error we are confronted with can be a\n",
        "helpful first step to finding a solution. There are two common types of\n",
        "errors:\n",
        "\n",
        "-   **Syntax errors**: This is the most common error type. These errors\n",
        "    result from invalid code statements/structures that Python doesn’t\n",
        "    understand. Suppose Python speaks English, speaking to it in German\n",
        "    or broken English certainly would not work! Here are some examples\n",
        "    of common syntax errors: the associated package is not loaded,\n",
        "    misspelling of a command as Python is case-sensitive,\n",
        "    unmatched/incomplete parenthesis etc. How we handle syntax errors is\n",
        "    case-by-case: we can usually solve syntax errors by reading the\n",
        "    error message and finding what is often a typo or by looking up the\n",
        "    error message on the internet using resources like stack overflow.\n",
        "\n",
        "-   **Semantic errors**: These errors result from valid code that\n",
        "    successfully executes but produces unintended outcomes. Again, let\n",
        "    us suppose Python speaks English. Although we asked it to hand us an\n",
        "    apple in English and Python successfully understood, it somehow\n",
        "    handed us a banana! This is not okay! How we handle semantic errors\n",
        "    is also case-by-case: we can usually solve semantic errors by\n",
        "    reading the error message and searching it online.\n",
        "\n",
        "Now that we have all of these terms and tools at our disposal, we can\n",
        "begin to load in data and operate on it using what we’ve learned.\n",
        "\n",
        "### 3.2. Getting Help\n",
        "\n",
        "If you are ever running a function and get stuck, are not sure what the\n",
        "function does, or need a refresher on what the inputs are, Python has a\n",
        "way to get help.\n",
        "\n",
        "To do this in Jupyter notebooks, we place a `?` after the function name\n",
        "and rn the cell. Depending on how you launched Jupyter, the help text\n",
        "will either be displayed in the cell below or on a new panel at the\n",
        "bottom of the screen that you can exit by hitting the escape key.\n",
        "\n",
        "Try this below with the print function:"
      ],
      "id": "25d9fafc-b34e-48ca-90cc-8bc5b6b70412"
    },
    {
      "cell_type": "code",
      "execution_count": 36,
      "metadata": {},
      "outputs": [],
      "source": [
        "print?"
      ],
      "id": "cf1168c4"
    }
  ],
  "nbformat": 4,
  "nbformat_minor": 5,
  "metadata": {
    "kernelspec": {
      "name": "python3",
      "display_name": "Python 3 (ipykernel)",
      "language": "python"
    },
    "language_info": {
      "name": "python",
      "codemirror_mode": {
        "name": "ipython",
        "version": "3"
      },
      "file_extension": ".py",
      "mimetype": "text/x-python",
      "nbconvert_exporter": "python",
      "pygments_lexer": "ipython3",
      "version": "3.10.12"
    }
  }
}