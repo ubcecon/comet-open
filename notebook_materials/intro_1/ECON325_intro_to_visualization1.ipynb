{
 "cells": [
  {
   "cell_type": "markdown",
   "id": "ebbe22f1-a7e4-4fcd-a756-cf3cc86dc29f",
   "metadata": {
    "pycharm": {
     "name": "#%% md\n"
    },
    "tags": []
   },
   "source": [
    "# ECON 325: Introduction to Data Visualization 1\n",
    "___\n",
    "\n",
    "## Author\n",
    "___\n",
    "* Anneke Dresselhuis (anneked@student.ubc.ca)\n",
    "\n",
    "## Prerequisites\n",
    "___\n",
    "* Introduction to Jupyter\n",
    "* Introduction to R\n",
    "   * Be able to load data and packages in R\n",
    "   * Be able to create variables and objects in R\n",
    "   * Be familiar with the general syntax of R commands\n",
    "\n",
    "## Learning Outcomes\n",
    "___\n",
    "* Identify best practices for data visualization design\n",
    "* Describe when to use the following kinds of visualizations to answer specific questions using a data set:\n",
    "   * scatterplots\n",
    "   * line plots\n",
    "   * bar plots\n",
    "   * histograms\n",
    "* Use the `ggplot2` package in R to create and refine the above visualizations using\n",
    "   * geometric objects\n",
    "   * aesthetic mappings: `x`, `y`, `fill`, `color`\n",
    "   * labeling: `xlab`, `ylab`, `labs`\n",
    "   * font control and legend positioning: theme\n",
    "  \n",
    "* Describe the difference between vector and raster file outputs\n",
    "* Use `ggsave` to save visualizations in `.png` and `.svg` format"
   ]
  },
  {
   "cell_type": "markdown",
   "id": "adb05462-567a-4da3-a007-28871f73a291",
   "metadata": {
    "pycharm": {
     "name": "#%% md\n"
    }
   },
   "source": [
    "## PART 1: Understanding Visualization\n",
    "___\n",
    "\n",
    "#### Introduction\n",
    "\n",
    "> **\"The purpose of a visualization is to answer a question about a data set of interest.\"** \n",
    "\\\n",
    "Timbers, T., Campbell, T., Lee, M. (2022). [_Data Science: A First Introduction_.](https://datasciencebook.ca/viz.html) \n",
    "\n",
    "In econometrics, good data visualizations should always answer a well-thought-out and relevant economic research question. A good data visualization should also exist as a standalone explanation - that is, it should provide readers with a clear understanding of both the research question at hand and its answer in a way that doesn't require further explanation.\n",
    "\n",
    "As we learn the iterative practice of making data visualizations, it's helpful to keep the following questions in mind as we make decisions about what to include/exclude in our graphic:\n",
    "* _Who is our audience?_\n",
    "* _What is the question we're trying to answer?_\n",
    "\n",
    "Not only are data visualizations incredibly important as narrative outputs from data analysis, but they are also a beneficial tool to use iteratively throughout our analysis to identify patterns or anomalies as we process our data. We'll begin here with a few notes about best practices for visualizations.\n",
    "\n",
    "#### Principles of Design: Data Visualization _DOs_ and _DONT's_\n",
    "> **DO** use data visualization to tell the story of the data _truthfully_ \\\n",
    "**DO** remember that a visualization's accuracy is only as good as the data is \\\n",
    "**DO** label your axes in font sizes that are readable and use descriptive titles\n",
    "\n",
    "> **DON'T** choose colours that are very similar each other when trying to distinguish 2 variables (eg, choose red and blue rather than red and orange) \\\n",
    "**DON'T** use design features (eg, exaggerated scaling) to manipulate readers into believing a particular narrative of the data"
   ]
  },
  {
   "cell_type": "markdown",
   "id": "75ad23bd-8cb3-4998-8d08-0bffe5afb327",
   "metadata": {
    "pycharm": {
     "name": "#%% md\n"
    }
   },
   "source": [
    "#### Types of Visualizations:\n",
    "\n",
    "The four plot types we will be working with in this worksheet are **Scatter plots**, **Bar plots**, **Line plots** and **Histograms** which can all be found in the `ggplot2` package. \n",
    "\n",
    "> Note that there are many more types of plots that can be generated using this package. We'll explore some of these in the next notebook, _Introduction to Data Visualization II_ or you can check out [R studio's ggplot2 Cheat Sheet](https://www.rstudio.com/resources/cheatsheets/) to see for yourself in the meantime.\n",
    "\n",
    "1. **Scatter plots** visualize the relationship between two quantitative variables\n",
    "   * This plot works great when we are interested in showing relationships and groupings among variables from relatively large datasets\n",
    "2. **Line plots** visualize trends with respect to an independent, ordered quantity (e.g., time)\n",
    "   * This plot works great when one of our variables is ordinal (time-like) or when we want to display multiple series on a common timeline\n",
    "3. **Bar plots** visualize comparisons of amounts\n",
    "   * This plot works great when we are interested in comparing a few categories as parts of a whole, or across time\n",
    "4. **Histograms** visualize the distribution of one quantitative variable\n",
    "   * This plot works great when we are working with a discrete variable and are interested in visualizing all its possible values and how often they occur\n",
    "   \n",
    "_Definitions adapted from: [_Data Science: A First Introduction_.](https://datasciencebook.ca/viz.html)_"
   ]
  },
  {
   "cell_type": "markdown",
   "id": "91594e00-c31a-4926-8adc-11700d14b9c9",
   "metadata": {
    "pycharm": {
     "name": "#%% md\n"
    }
   },
   "source": [
    "![Examples of Four Plot Types](media/plot_type_examples.png \"Figure 4.1: Examples of scatter, line and bar plots, as well as histograms.\")"
   ]
  },
  {
   "cell_type": "markdown",
   "id": "7c77faa3-99a7-407d-b0dd-b2f34a56a310",
   "metadata": {
    "pycharm": {
     "name": "#%% md\n"
    }
   },
   "source": [
    "_Figure 1. Examples of scatter, line and bar plots, as well as histograms. (from [Data Science: A First Introduction](https://datasciencebook.ca/viz.html))_"
   ]
  },
  {
   "cell_type": "markdown",
   "id": "90226bea-c703-48b2-bb25-21241f70f6ec",
   "metadata": {
    "pycharm": {
     "name": "#%% md\n"
    },
    "tags": []
   },
   "source": [
    "#### Loading data\n",
    "\n",
    "In this tutorial, we will be working with the Penn World Table 10.0.  This data is via:\n",
    "\n",
    "* Feenstra, Robert C., Robert Inklaar and Marcel P. Timmer (2015), \"The Next Generation of the Penn World Table\" American Economic Review, 105(10), 3150-3182, available for download at www.ggdc.net/pwt\n",
    "\n",
    "To download the dataset we will be using for this notebook:\n",
    "1. Click the link provided above. A page with the title PWT 10.0 should appear. \n",
    "2. Scroll down until three options appear\n",
    "3. Click Stata and a Stata file (`.dta`) should immediately download. Now move that file to your directory and we can start the analysis!\n",
    "\n",
    "We can now get started by importing the packages and data into our notebook, so that we can use it.  You should also check out the documentation on the link above, if you're not sure what a variable does or represents."
   ]
  },
  {
   "cell_type": "code",
   "execution_count": 2,
   "id": "5517b0ca-bfec-4fad-8510-891dbf48d441",
   "metadata": {
    "pycharm": {
     "name": "#%%\n"
    }
   },
   "outputs": [],
   "source": [
    "source(\"testing_intro_to_visualization1.r\")"
   ]
  },
  {
   "cell_type": "code",
   "execution_count": 7,
   "id": "93861d38-cf32-4491-bdd3-357aad074254",
   "metadata": {
    "pycharm": {
     "name": "#%%\n"
    }
   },
   "outputs": [
    {
     "ename": "ERROR",
     "evalue": "Error: 'intro_1/pwt100.dta' does not exist in current working directory ('/home/jovyan/econometrics/notebook_materials/intro_1').\n",
     "output_type": "error",
     "traceback": [
      "Error: 'intro_1/pwt100.dta' does not exist in current working directory ('/home/jovyan/econometrics/notebook_materials/intro_1').\nTraceback:\n",
      "1. read_dta(\"intro_1/pwt100.dta\")",
      "2. readr::datasource(file)",
      "3. standardise_path(file)",
      "4. check_path(path)",
      "5. stop(\"'\", path, \"' does not exist\", if (!is_absolute_path(path)) {\n .     paste0(\" in current working directory ('\", getwd(), \"')\")\n . }, \".\", call. = FALSE)"
     ]
    }
   ],
   "source": [
    "#import packages\n",
    "library(tidyverse) # contains ggplot2, which is what we'll be using!\n",
    "library(haven)\n",
    "\n",
    "#load the data\n",
    "pwt_data <- read_dta(\"intro_1/pwt100.dta\")\n",
    "\n",
    "#declare factors\n",
    "pwt_data <- as_factor(pwt_data)\n",
    "\n",
    "pwt_data <- pwt_data %>%\n",
    "    mutate(countrycode = as.factor(countrycode)) %>%\n",
    "    mutate(country = as.factor(country)) %>%\n",
    "    mutate(currency_unit = as.factor(currency_unit))\n",
    "\n",
    "#check that it looks OK\n",
    "glimpse(pwt_data)\n",
    "#there will be a lot of missing data"
   ]
  },
  {
   "cell_type": "markdown",
   "id": "edd40126-ae1d-428d-a522-b985aaa427c1",
   "metadata": {
    "pycharm": {
     "name": "#%% md\n"
    }
   },
   "source": [
    "As you can see, this data set includes 12,810 observations and many different variables.\n",
    "\n",
    "> Question time: **How many variables are included in this data set?** \\\n",
    "_Hint: variables are stored in columns_"
   ]
  },
  {
   "cell_type": "code",
   "execution_count": 8,
   "id": "79c0897f-8fbd-4e5a-99bf-b8c2da42e183",
   "metadata": {
    "pycharm": {
     "name": "#%%\n"
    }
   },
   "outputs": [
    {
     "ename": "ERROR",
     "evalue": "Error in eval(expr, envir, enclos): object '..' not found\n",
     "output_type": "error",
     "traceback": [
      "Error in eval(expr, envir, enclos): object '..' not found\nTraceback:\n"
     ]
    }
   ],
   "source": [
    "#Fill in the ... below with your answer to the above question\n",
    "\n",
    "answer_1 <- ..\n",
    "\n",
    "test_1()"
   ]
  },
  {
   "cell_type": "markdown",
   "id": "0575f72d-9c84-4e9b-9029-92e5fcbbb7d4",
   "metadata": {
    "pycharm": {
     "name": "#%% md\n"
    },
    "tags": []
   },
   "source": [
    "#### Understanding `ggplot2`\n",
    "R uses a \"language\" for how graphics are created (called the **grammar of graphics**), which is a system of best practices from statistical visualization theory that centres data in the process. \n",
    "\n",
    "**An important companion to this Notebook is the `ggplot2` cheatsheet that you can find among the [R collection of cheatsheets](https://www.rstudio.com/resources/cheatsheets/).** "
   ]
  },
  {
   "cell_type": "markdown",
   "id": "0060ed29-e1cd-4d46-a59b-9b5a6a790d92",
   "metadata": {
    "pycharm": {
     "name": "#%% md\n"
    }
   },
   "source": [
    "#### Layers with `ggplot`\n",
    "\n",
    "Essentially, in this \"grammar\" of graphics, we create a series of \"layers\" which implement a specific visual output:\n",
    "\n",
    "* First, we identify a dataset from which we want to create our graph (```data=```)\n",
    "* Then, we associate variables in that dataset to **aesthetics** (```aes=```)\n",
    "  * **Aesthetics** represent different properties of a graph, like \"what goes on the $x$-axis\", or \"what does the color of the line represent\".  Each type of visualization is associated with a collection of necessary and optional aesthetic features.\n",
    "* Next, we attach a coordinate system and a plot type to the graph using ```geom```, which takes the aesthetics and describes them\n",
    "  * This will also include options like ```position``` which indicates how to combine elements (e.g. stack the bars, or place them side-by-side)\n",
    "* Finally, we can tweak the visualization - such as adding labels or changing the colour scheme\n",
    "\n",
    "Let's see what this looks like in practice."
   ]
  },
  {
   "cell_type": "markdown",
   "id": "684cbf1b-4db5-438a-8396-f0e5c25eb099",
   "metadata": {
    "pycharm": {
     "name": "#%% md\n"
    }
   },
   "source": [
    "#### Interpreting the Data\n",
    "As we can see from our preview, this data set is quite complex. After spending some time with our data source, we understand a few of the key variables represent the following:\n",
    "\n",
    "`rgdpe` = expenditure-side real GDP (millions of USD) \\\n",
    "`pop` = population of a given country (millions of people) \\\n",
    "`year` = year of data recording (1950-2019) \\\n",
    "`country` = country being studied (183 countries are captured in this data set) \\\n",
    "`hc` = an index of human capital per person, which is based on average years of schooling and the return to education \\\n",
    "`emp` = number of persons engaged in employment (millions)"
   ]
  },
  {
   "cell_type": "markdown",
   "id": "05772c93-9ee1-477a-8cee-d08e06095c8c",
   "metadata": {
    "pycharm": {
     "name": "#%% md\n"
    }
   },
   "source": [
    "#### Beginning our Analysis\n",
    "\n",
    "Let's say we are interested in creating a visualization that answers the following question:\\\n",
    "**How has real GDP per Capita changed over time in North American countries?**"
   ]
  },
  {
   "cell_type": "code",
   "execution_count": 9,
   "id": "8d8862ea-0e5e-4124-8260-ac8423959fc9",
   "metadata": {
    "pycharm": {
     "is_executing": true,
     "name": "#%%\n"
    }
   },
   "outputs": [
    {
     "ename": "ERROR",
     "evalue": "Error in filter(pwt_data, (countrycode == \"CAN\") | (countrycode == \"USA\") | : object 'pwt_data' not found\n",
     "output_type": "error",
     "traceback": [
      "Error in filter(pwt_data, (countrycode == \"CAN\") | (countrycode == \"USA\") | : object 'pwt_data' not found\nTraceback:\n",
      "1. filter(pwt_data, (countrycode == \"CAN\") | (countrycode == \"USA\") | \n .     (countrycode == \"MEX\"))"
     ]
    }
   ],
   "source": [
    "#First, filter the dataset to only include data on North American countries\n",
    "NA_data <- filter(pwt_data, (countrycode == \"CAN\")|(countrycode == \"USA\")|(countrycode == \"MEX\"))\n",
    "\n",
    "#Second, input data frame for the graphic (this case NA_data) and specify the set of plot aesthetics (which variables will be included) using the command ggplot\n",
    "plot <- ggplot(data = NA_data,  # this declares the data for the chart; all variable names are in this data\n",
    "                aes( # this is a list of the aesthetic features of the chart\n",
    "                    x = year,   # for example, the x-axis will be \"year\" (a continuous variable)\n",
    "                    y = rgdpe/pop, # the y-axis will be expenditure-based real GDP per capita\n",
    "                    fill = country, # the colour fill will be country\n",
    "                    color = country # so will the outline\n",
    "                ),\n",
    "                )\n",
    "\n",
    "#Third, input the labels to the aesthetic features added above\n",
    "plot <- plot + labs(#add human-readable, aesthetic labels\n",
    "                    x = \"Year\",  # label for the x aesthetic (x-axis title)\n",
    "                    y = \"Real GDP per capita (expenditure-based)\", #y-axis title\n",
    "                    color = \"Country\", # meaning of color\n",
    "                    fill = \"Country\", # ...etc.\n",
    "                    title = \"North American Real GDP per Capita over Time\") # and title of plot\n",
    "\n",
    "#Because the variable country is expressed by colours, we are able to change the colours used in the chart using the commands below. Try playing with different palettes. To display other palettes use the command display.brewer.all()\n",
    "plot <- plot + scale_fill_brewer(palette=\"Accent\") #set the colour palette for fills\n",
    "plot <- plot + scale_color_brewer(palette=\"Accent\") #set the colour palette for outlines\n",
    "options(repr.plot.width = 15, repr.plot.height = 9) #adjusts plot size: try playing around with the dimensions, and then return the values to width = 15 and height = 9\n",
    "\n",
    "#Finally, input the type of vizualisation of the chart\n",
    "plot1 <- plot + geom_col(  #now we add the visualization (a bar graph)\n",
    "                    position = \"dodge\") #this places the visualizations side-by-side\n",
    "                                        #if you change position to \"stack\" it will be a stacked graph!"
   ]
  },
  {
   "cell_type": "markdown",
   "id": "22a09a6a-9591-4472-876f-cb95eaeaada8",
   "metadata": {
    "pycharm": {
     "name": "#%% md\n"
    }
   },
   "source": [
    "Beautiful!  It's also very easy for us to quickly change the visualization.  For instance, if we wanted to make this a line graph instead of a bar chart, we could do the following:"
   ]
  },
  {
   "cell_type": "code",
   "execution_count": null,
   "id": "6e403eae-4356-4144-bda7-a9f109eb230a",
   "metadata": {
    "pycharm": {
     "name": "#%%\n"
    },
    "tags": []
   },
   "outputs": [],
   "source": [
    "# fig.width = 40\n",
    "plot2 <- plot + geom_line()\n",
    "\n",
    "plot2 #show the plot"
   ]
  },
  {
   "cell_type": "markdown",
   "id": "d34eb1fa-f655-49d5-9d34-721cf13cef1d",
   "metadata": {
    "pycharm": {
     "name": "#%% md\n"
    }
   },
   "source": [
    "Nice! Don't worry if any or all of this feels confusing right now - we're going to work through a few more examples together. If you're having troubling reading the text on your graphic outputs, we'll walk through how to adjust text size in the next section as well!"
   ]
  },
  {
   "cell_type": "markdown",
   "id": "e2045de8-71d3-4dc4-ac7c-987288cce711",
   "metadata": {
    "pycharm": {
     "name": "#%% md\n"
    }
   },
   "source": [
    "## PART 2: Building a Visualization\n",
    "___"
   ]
  },
  {
   "cell_type": "markdown",
   "id": "1c5f31ca-a30d-41a5-a343-516aa2d30c58",
   "metadata": {
    "jp-MarkdownHeadingCollapsed": true,
    "pycharm": {
     "name": "#%% md\n"
    },
    "tags": []
   },
   "source": [
    "Now, let's say we are interested in creating a visualization that answers the following question:\\\n",
    "**What is the relationship between GDP per capita and human capital in the world today?**\n",
    "\n",
    "The first thing we want to do is identify what data we need:\n",
    "* We will need GDP, which we can get using either ```rdgpe``` or ```rdgpo``` (Quiz: what's the difference?)\n",
    "* We will need population, which we can get using ```pop```\n",
    "* We will need human capital, which is the variable ```hc```\n",
    "* We will need data from \"today\", which is ```year == 2019```, the most recent data in our sample\n",
    "\n",
    "Let's start out by ```filter```-ing the data to just get 2019 data."
   ]
  },
  {
   "cell_type": "code",
   "execution_count": null,
   "id": "54dfdda7-b437-4db9-9f4e-8637573ed43b",
   "metadata": {
    "pycharm": {
     "name": "#%%\n"
    }
   },
   "outputs": [],
   "source": [
    "figure_data <- filter(pwt_data, year == 2019)\n",
    "\n",
    "head(figure_data$year)"
   ]
  },
  {
   "cell_type": "markdown",
   "id": "b45c43ca-e75e-488a-baf5-61173636a273",
   "metadata": {
    "pycharm": {
     "name": "#%% md\n"
    }
   },
   "source": [
    "Nice, it looks like we've got all the 2019 data!  Next we need to start creating our object - however, we should pause for a moment and consider what kind of vizualization we want.  \n",
    "\n",
    "* Our question is about the relationship between two quantitative variables\n",
    "* We are interested in understanding how they move together\n",
    "\n",
    "While there are a couple of options, we'll start with a **scatterplot**.  If we consult our cheat-sheet, we can see that scatterplots are the ```geom_point()``` command.  This _requires_ the aesthetic properties:\n",
    "* ```x```, the $x$-axis\n",
    "* ```y```, the $y$-axis\n",
    "\n",
    "We then have other optional ones, like ```alpha, color, fill, shape, size, stroke``` which we won't use here but you can check their function on the [R studio's ggplot2 Cheat Sheet](https://www.rstudio.com/resources/cheatsheets/).\n",
    "\n",
    "Notice an important fact: you can assign aesthetics on _either_ the ```ggplot``` layer _or_ on a ```geom```.  The difference is that the ```ggplot``` aesthetics are automatically inherited by all other layers; there's no other real difference.\n",
    "\n",
    "> Important Note: generally, any aesthetic property which can be assigned in ```aes()``` can also be assigned to the ```geom``` directly.  For example, if you wanted to make a line dashed or a point red, you could do this by setting ```geom_point(color = \"red\")```.  However, this will apply to all parts of the ```geom``` so use it wisely!\n",
    "\n",
    "Let's start simple, and make ```x``` represent human capital, and ```y``` represent real GDP per capita.  We can start our visualization by creating our ```ggplot``` object and assigning all these properties:"
   ]
  },
  {
   "cell_type": "code",
   "execution_count": null,
   "id": "54deb7fe-bd02-4237-a0fd-495e6d56ec01",
   "metadata": {
    "pycharm": {
     "name": "#%%\n"
    }
   },
   "outputs": [],
   "source": [
    "figure <- ggplot(data = figure_data, # associate the data we chose\n",
    "                 aes(\n",
    "                     x = hc,  # x is human capital\n",
    "                     y = rgdpe/pop # we divide rgdpe by pop to get gdp per capita\n",
    "                 ))\n",
    "\n",
    "figure <- figure + labs(x = \"Human Capital\",\n",
    "                        y = \"Real GDP per capita (expenditure-based)\",\n",
    "                        title = \"Global GDP per Capita and Human Capital in 2019\") +\n",
    "                        theme(\n",
    "                            text = element_text(\n",
    "                                size = 20)) # increases text size: try playing around with this number!\n",
    "\n",
    "# note: you can set aethestics to be simple functions of variables!"
   ]
  },
  {
   "cell_type": "markdown",
   "id": "bdc76c0d-8e2d-4690-8987-86fc83dc6ebb",
   "metadata": {
    "pycharm": {
     "name": "#%% md\n"
    }
   },
   "source": [
    "After running the previous cell, nothing was printed in our notebook; this is because we need to assign our visualization!  Right now, it's just data and properties.  Let's test it our by adding our ```geom_point()``` layer:"
   ]
  },
  {
   "cell_type": "code",
   "execution_count": null,
   "id": "0f3e6c1d-f19e-4606-86b4-1e5d36dd2474",
   "metadata": {
    "pycharm": {
     "name": "#%%\n"
    }
   },
   "outputs": [],
   "source": [
    "figure + geom_point()"
   ]
  },
  {
   "cell_type": "markdown",
   "id": "e48d7a02-4659-43d5-9208-158b9e26dabe",
   "metadata": {
    "pycharm": {
     "name": "#%% md\n"
    }
   },
   "source": [
    "Nice!  Already looking pretty good.  But, there's still some work to do to make this graph more readable and tell the story of the dataset.  How about if we made the size of each point relative to the population?  That way, bigger countries would be more prominent on the graph.  We can do this by assigning the aesthetic again:"
   ]
  },
  {
   "cell_type": "code",
   "execution_count": null,
   "id": "b06fd7a3-7159-45e2-9fb7-010972e82197",
   "metadata": {
    "pycharm": {
     "name": "#%%\n"
    }
   },
   "outputs": [],
   "source": [
    "figure + geom_point(aes(\n",
    "                    size = pop,)) #assigns the size of the point to be relative to the population values"
   ]
  },
  {
   "cell_type": "markdown",
   "id": "6491bb3e-2ac6-49da-be59-8bae6c0fa42d",
   "metadata": {
    "pycharm": {
     "name": "#%% md\n"
    }
   },
   "source": [
    "Now, let's make it more colourful.  How about if we make colour of each point change as the employment (```emp```) rate changes?   So, darker colors would represent higher labour force utilization.  Again, we can do this by assigning the aesthetic:"
   ]
  },
  {
   "cell_type": "code",
   "execution_count": null,
   "id": "fb0c0796-3b64-444e-8dee-ddfe02dbae7e",
   "metadata": {
    "pycharm": {
     "name": "#%%\n"
    }
   },
   "outputs": [],
   "source": [
    "figure <- figure + geom_point(aes(\n",
    "                    size = pop,\n",
    "                    colour = 100*emp/pop))\n",
    "\n",
    "figure"
   ]
  },
  {
   "cell_type": "markdown",
   "id": "ab12c3d7-2ac1-4cc8-98c7-5f0f0e249984",
   "metadata": {
    "pycharm": {
     "name": "#%% md\n"
    }
   },
   "source": [
    "Great work!  We now have a solid visualization.  Say we're not the biggest fan of the colour blue and want to change it. The easiest way to set colours in R is using palettes.  The list of all the palette options are:"
   ]
  },
  {
   "cell_type": "code",
   "execution_count": 1,
   "id": "92d78ae1-36a8-4507-b97e-28750143fd6e",
   "metadata": {
    "pycharm": {
     "name": "#%%\n"
    }
   },
   "outputs": [
    {
     "data": {
      "image/png": "[encoded data removed]",
      "text/plain": [
       "plot without title"
      ]
     },
     "metadata": {
      "image/png": {
       "height": 420,
       "width": 420
      }
     },
     "output_type": "display_data"
    }
   ],
   "source": [
    "RColorBrewer::display.brewer.all() "
   ]
  },
  {
   "cell_type": "markdown",
   "id": "e41381fe-f132-4996-8873-b9b568e7c8f4",
   "metadata": {
    "pycharm": {
     "name": "#%% md\n"
    }
   },
   "source": [
    "Let's choose ```YlOrRed```.  We can apply this using the following (somewhat cryptic) command:"
   ]
  },
  {
   "cell_type": "code",
   "execution_count": null,
   "id": "90bc5346-69b4-48de-8911-00871d656926",
   "metadata": {
    "pycharm": {
     "name": "#%%\n"
    }
   },
   "outputs": [],
   "source": [
    "figure <- figure + scale_color_distiller(palette=\"YlOrRd\")\n",
    "\n",
    "figure\n",
    "\n",
    "options(repr.plot.width = 15, repr.plot.height = 9)"
   ]
  },
  {
   "cell_type": "markdown",
   "id": "60beb419-d8f8-4543-aa8e-623d2e22ff64",
   "metadata": {
    "pycharm": {
     "name": "#%% md\n"
    }
   },
   "source": [
    "You might have notice we used \"color_brewer\" earlier and \"color_distiller\" here. \"color_brewer\" is for visualizations with discrete variables  while the other is for continuous (distiller). It doesn't really matter why this is, but watch out for it; R will complain\n",
    "\n",
    "Good work!  We now have a publication quality visualization, ready to go.  This is a good example of the process we go through when we build visualizations: a lot of experimenting, a lot of trial and error.  Always ask yourself: \"is this effective? Is this what I want it to do?\""
   ]
  },
  {
   "cell_type": "markdown",
   "id": "8a49786e-870e-4335-a0f3-132dd63b2e72",
   "metadata": {
    "pycharm": {
     "name": "#%% md\n"
    }
   },
   "source": [
    "#### Exporting Visualizations\n",
    "Once we've decided that our graph can successfully answer our economic question, we'd like to export it from Jupyter. Once again, the `ggplot` package comes to our rescue with the following command:\n",
    "\n",
    "* `ggsave` allows us to save a visualization using the following key arguments\n",
    "   * `(\"file_name.file_format\", my_plot, width = #, height = #)`\n",
    "   \n",
    "> You can check out an expanded list of possible arguments at the [R documentation page for `ggsave`](https://www.rdocumentation.org/packages/ggplot2/versions/1.0.0/topics/ggsave)\n",
    "\n",
    "1. The first part of the argument, `\"file_name.file_format\"` is where we give our graphic a descriptive name and specify which file format we want our graphic to be saved in the Jupyter workspace. If you are saving to a specific folder, you can add this before the file name with a `/` in between to delineate the two (example: `\"folder/file_name.file_format\"`). The format you choose may depend on the context you plan to use the visualization in. Images are typically stored in either **raster** or **vector** formats. The following definitions are borrowed from [_Data Science: A First Introduction_.](https://datasciencebook.ca/viz.html#saving-the-visualization) \n",
    "\n",
    "**Raster images** are represented as a 2-D grid of square pixels, each with its own color. Raster images are often compressed before storing so they take up less space. A compressed format is \"lossy\" if the image cannot be perfectly re-created when loading and displaying, with the hope that the change is not noticeable. \"Lossless\" formats, on the other hand, allow a perfect display of the original image.\n",
    "\n",
    "Common raster file types:\n",
    "* JPEG (.jpg, .jpeg): lossy, usually used for photographs\n",
    "* PNG (.png): lossless, usually used for plots / line drawings\n",
    "* BMP (.bmp): lossless, raw image data, no compression (rarely used)\n",
    "* TIFF (.tif, .tiff): typically lossless, no compression, used mostly in graphic arts, publishing\n",
    "* Open-source software: GIMP\n",
    "\n",
    "**Vector images** are represented as a collection of mathematical objects (lines, surfaces, shapes, curves). When the computer displays the image, it redraws all of the elements using their mathematical formulas.\n",
    "\n",
    "Common vector file types:\n",
    "* SVG (.svg): general-purpose use\n",
    "* EPS (.eps): general-purpose use (rarely used)\n",
    "* Open-source software: Inkscape\n",
    "\n",
    "Raster and vector images have opposing advantages and disadvantages. A raster image of a fixed width and height takes the same amount of space and time to load regardless of what the image shows (the one caveat is that the compression algorithms may shrink the image more or run faster for certain images). A vector image takes space and time to load corresponding to how complex the image is, since the computer has to draw all the elements each time it is displayed. For example, if you have a scatter plot with 1 million points stored as an SVG file, it may take your computer some time to open the image. On the upside, with vector graphics you can zoom into / scale up the image as much as you like without it looking bad, while raster images eventually start to look “pixelated.”\n",
    "\n",
    "2. The second part of the argument, `my_plot` specifies which plot in our analysis we'd like to export.\n",
    "\n",
    "3. The last key part of the argument `width =` and `height =` specifies the dimensions of our image. Because we've tinkered with the graph output size using `options(repr.plot.width = 15, repr.plot.height = 9)` above in our code, we'll want to use these dimensions as we export to ensure that our visualization isn't cut off by R's default saving dimensions.\n",
    "\n",
    "Try uncommenting the code section below and saving our \"Global GDP per capita and Human Capital in 2019\" graph in the Jupyter directory that this notebook is stored in."
   ]
  },
  {
   "cell_type": "code",
   "execution_count": null,
   "id": "69ccea60-5c4d-4619-941c-3934194da8ff",
   "metadata": {
    "pycharm": {
     "name": "#%%\n"
    },
    "tags": []
   },
   "outputs": [],
   "source": [
    "#ggsave(\"gdp_hc_plot.png\", figure, width = 15, height = 9)"
   ]
  },
  {
   "cell_type": "markdown",
   "id": "5212526b-75ef-46da-8f3d-0802903c2f2f",
   "metadata": {
    "pycharm": {
     "name": "#%% md\n"
    }
   },
   "source": [
    "Did you see file appear in the directory? Now try saving the same graph as an `.svg` in the code cell below."
   ]
  },
  {
   "cell_type": "code",
   "execution_count": null,
   "id": "0ccaa789-6eac-4251-936f-106d0180adac",
   "metadata": {
    "pycharm": {
     "name": "#%%\n"
    }
   },
   "outputs": [],
   "source": [
    "#ggsave(\"gdp_hc_plot. ...\", figure, width = ..., height = ...)"
   ]
  },
  {
   "cell_type": "markdown",
   "id": "ea7f7e09-e4fb-4e08-9e84-3660f9629c2f",
   "metadata": {
    "pycharm": {
     "name": "#%% md\n"
    }
   },
   "source": [
    "As we have seen, R makes it easy to create high-quality, impactful graphics.  We'll let you try it on your own now!"
   ]
  },
  {
   "cell_type": "markdown",
   "id": "8faee34f-7e0a-47fb-8e35-c0ea8775e9a8",
   "metadata": {
    "pycharm": {
     "name": "#%% md\n"
    }
   },
   "source": [
    "## PART 3: Making Your Own Chart\n",
    "---\n",
    "\n",
    "For the final section of this notebook, you'll make your own visualization using the Penn Data again.  Suppose you are tasked with building a visualization which explores the following question: **What is the relationship between the economic development of China and United States over time?**\n",
    "\n",
    "Some variables you might want to consider are:\n",
    "\n",
    "* `year`: the year of observation\n",
    "* `rtfpna`: total factor productivity [(here's a link, if you're ECON 102 is rusty)](https://en.wikipedia.org/wiki/Total_factor_productivity)\n",
    "* `rgdpe`: real GDP (expenditure-based)\n",
    "* `pop`: population\n",
    "* `ccon`: real consumption of households\n",
    "* `avh`: average hours worked\n",
    "\n",
    "To be clear: you don't need to use _all_ of these variables in your visualization.\n",
    "\n",
    "1.  Start by deciding what variables are _essential_ and which ones are _optional_.  Choose at least two to include in your visualization.\n",
    "2.  Decide what kind of visualization you want to make.  Relate your choices to the best practices for types of visualizations.\n",
    "> You might want to consult the [cheat-sheet](https://www.rstudio.com/resources/cheatsheets/) to see your options.\n",
    "3.  Finally, decide how you want to present it; what should the final product look like?\n",
    "\n",
    "A good idea is to create it in layers, like we did before - updating as you go.  We'll start you off with some of the data and code scaffolding:"
   ]
  },
  {
   "cell_type": "code",
   "execution_count": null,
   "id": "41d41ef6-c73d-4808-a4f7-93c4d6fef0e9",
   "metadata": {
    "pycharm": {
     "name": "#%%\n"
    }
   },
   "outputs": [],
   "source": [
    "# my_data <- filter(pwt_data, (countrycode == \"USA\")|(countrycode == \"CHN\"))\n",
    "\n",
    "# my_figure #give your plot a descriptive title\n",
    "# <- ggplot(data = my_data, aes( #add your aesthetics below\n",
    "#                 x = ..., \n",
    "#                 y = ...,\n",
    "#                 color = ...)) + #remember this is optional\n",
    "#                 labs(x = \"...\", #what labels do you want to add?\n",
    "#                     y = \"...\",\n",
    "#                     title = \"...\") +\n",
    "#                     theme(text = element_text(size = ...))+\n",
    "#                 geom_...() #what geom will you use?  Does it need options?\n",
    "#                 add more lines to layer visualizations or change colors\n",
    "\n",
    "#my_figure \n",
    "\n",
    "#uncomment (delete the leading \"#\" symbol) to use these lines. Pro tip, this can be done by highlighting a commented section and selecting \"command + /\""
   ]
  },
  {
   "cell_type": "markdown",
   "id": "708db79f-2a25-4ed0-b3d7-b91926208d76",
   "metadata": {
    "pycharm": {
     "name": "#%% md\n"
    }
   },
   "source": [
    "Try to see if you can piece together a decent graph using your learning from this notebook before you continue. Depending on the direction you choose, your plot might look something like this one below."
   ]
  },
  {
   "cell_type": "markdown",
   "id": "7d8570fc-f46c-4666-a688-13e742391c13",
   "metadata": {
    "pycharm": {
     "name": "#%% md\n"
    }
   },
   "source": [
    "![Total Factor Productivity Plot](media/TFP_plot.png)"
   ]
  },
  {
   "cell_type": "markdown",
   "id": "69566037-4d02-4747-a2ea-105320ba7ddf",
   "metadata": {
    "pycharm": {
     "name": "#%% md\n"
    }
   },
   "source": [
    "This visualization was made using the following features:\n",
    "* `y = year`, `x = rtfpna` \n",
    "* `geom_line()` function with argument: `size = 3` in between the parentheses to make the lines a bit more visible\n",
    "* `color = country` to create two unique lines on the graph for China and the US\n",
    "* `labs(color = \"Country\")` to give nice, human readable title to our color legend\n"
   ]
  },
  {
   "cell_type": "markdown",
   "id": "4495b8e9-6042-4a21-890e-9a15d58fddba",
   "metadata": {
    "pycharm": {
     "name": "#%% md\n"
    }
   },
   "source": [
    "## References\n",
    "___\n",
    "Timbers, T., Campbell, T., Lee, M. (2022). [_Data Science: A First Introduction_.](https://datasciencebook.ca/viz.html) \n",
    "\n",
    "[Data Visualization 101: How to Choose a Chart Type](https://towardsdatascience.com/data-visualization-101-how-to-choose-a-chart-type-9b8830e558d6)"
   ]
  }
 ],
 "metadata": {
  "kernelspec": {
   "display_name": "R",
   "language": "R",
   "name": "ir"
  },
  "language_info": {
   "codemirror_mode": "r",
   "file_extension": ".r",
   "mimetype": "text/x-r-source",
   "name": "R",
   "pygments_lexer": "r",
   "version": "4.1.3"
  },
  "toc-showcode": true
 },
 "nbformat": 4,
 "nbformat_minor": 5
}
