{
 "cells": [
  {
   "cell_type": "markdown",
   "id": "eeb581ea-a9fa-4437-bcc4-8448b852e926",
   "metadata": {},
   "source": [
    "# Regression\n",
    "\n",
    "This notebook covers:\n",
    "\n",
    "1. Simple Regression with Binary Explanatory Variable.\n",
    "2. Equivalence between Simple Regression and Comparison Measure.\n",
    "3. Simple Regression with Continuous Explanatory Variable.\n",
    "4. Regression with Categorical Explanatory Variable.\n",
    "5. Multiple Regression in General.\n",
    "6. Omitted Variables Bias.\n",
    "7. Regression with Interaction Terms in General.\n",
    "8. Treatment Effect Heterogeneity by Observable Variables\n",
    "\n",
    "You need to know by now to understand this notebook:\n",
    "\n",
    "1. Introduction to Jupyter Notebooks.\n",
    "2. Introduction to R.\n",
    "3. Conditional Expectations and Summary Statistics."
   ]
  },
  {
   "cell_type": "markdown",
   "id": "d900f91d-b9d7-4225-81c8-a5b37367786e",
   "metadata": {},
   "source": [
    "## Load Data\n",
    "\n",
    "Just like the last lesson on summary statistics, I am going to use simulated data in this lesson. In particular, certain concepts are easier to demonstrate when the data is synthetic, so that the true Data Generating Process (DGP) is known."
   ]
  },
  {
   "cell_type": "code",
   "execution_count": 1,
   "id": "32289294-2f0b-4f2b-8434-d5dc8ed012b3",
   "metadata": {},
   "outputs": [
    {
     "name": "stderr",
     "output_type": "stream",
     "text": [
      "── \u001b[1mAttaching packages\u001b[22m ─────────────────────────────────────── tidyverse 1.3.1 ──\n",
      "\n",
      "\u001b[32m✔\u001b[39m \u001b[34mggplot2\u001b[39m 3.3.6     \u001b[32m✔\u001b[39m \u001b[34mpurrr  \u001b[39m 0.3.4\n",
      "\u001b[32m✔\u001b[39m \u001b[34mtibble \u001b[39m 3.1.8     \u001b[32m✔\u001b[39m \u001b[34mdplyr  \u001b[39m 1.0.9\n",
      "\u001b[32m✔\u001b[39m \u001b[34mtidyr  \u001b[39m 1.2.0     \u001b[32m✔\u001b[39m \u001b[34mstringr\u001b[39m 1.4.0\n",
      "\u001b[32m✔\u001b[39m \u001b[34mreadr  \u001b[39m 2.1.2     \u001b[32m✔\u001b[39m \u001b[34mforcats\u001b[39m 0.5.1\n",
      "\n",
      "Warning message:\n",
      "“package ‘ggplot2’ was built under R version 4.1.3”\n",
      "Warning message:\n",
      "“package ‘tidyr’ was built under R version 4.1.2”\n",
      "Warning message:\n",
      "“package ‘readr’ was built under R version 4.1.2”\n",
      "Warning message:\n",
      "“package ‘dplyr’ was built under R version 4.1.3”\n",
      "── \u001b[1mConflicts\u001b[22m ────────────────────────────────────────── tidyverse_conflicts() ──\n",
      "\u001b[31m✖\u001b[39m \u001b[34mdplyr\u001b[39m::\u001b[32mfilter()\u001b[39m masks \u001b[34mstats\u001b[39m::filter()\n",
      "\u001b[31m✖\u001b[39m \u001b[34mdplyr\u001b[39m::\u001b[32mlag()\u001b[39m    masks \u001b[34mstats\u001b[39m::lag()\n",
      "\n",
      "Warning message:\n",
      "“package ‘stargazer’ was built under R version 4.1.2”\n",
      "\n",
      "Please cite as: \n",
      "\n",
      "\n",
      " Hlavac, Marek (2022). stargazer: Well-Formatted Regression and Summary Statistics Tables.\n",
      "\n",
      " R package version 5.2.3. https://CRAN.R-project.org/package=stargazer \n",
      "\n",
      "\n"
     ]
    }
   ],
   "source": [
    "library(tidyverse)\n",
    "library(stargazer)"
   ]
  },
  {
   "cell_type": "markdown",
   "id": "9b4c8700-619b-4ff1-b131-999f65e08c89",
   "metadata": {},
   "source": [
    "### Generating Correlated Random Variables\n",
    "\n",
    "The base of synthetic data starts with random variables generated with a particular desired covariance structure. The simplest case uses a multivariate Normal distribution due to its nice joint and marginal distribution properties. There are tools available to generate correlated random variables with other distributions, but those are beyond the scope of this course.\n",
    "\n",
    "For this lesson, it is not necessary for variables to have specific meanings. I will assign the variables names corresponding to letters we use when teaching the theory in the course."
   ]
  },
  {
   "cell_type": "code",
   "execution_count": 2,
   "id": "d66e3ca4-6c4a-4c35-b603-56f4054ef777",
   "metadata": {},
   "outputs": [],
   "source": [
    "set.seed(998)\n",
    "sim.data = matrix(rnorm(25000, 0, 1), 5000, 5, FALSE)\n",
    "sim.data <- sim.data %*% chol(matrix(\n",
    "    c(1, 0, .5, .25, 0,\n",
    "     0, 1, .6, .1, 0,\n",
    "     .5, .6, 1, .4, 0,\n",
    "     .25, .1, .4, 1, 0,\n",
    "     0, 0, 0, 0, 1),\n",
    "    5, 5, TRUE))\n",
    "colnames(sim.data) <- c('D', 'X', 'W', 'Z', 'e')\n",
    "sim.data <- as_tibble(sim.data)"
   ]
  },
  {
   "cell_type": "markdown",
   "id": "a9bfc665-4200-4c5e-ac33-e26216a1d4c9",
   "metadata": {},
   "source": [
    "### Modifying the Random Variables to Desired Types\n",
    "\n",
    "For our purposes here, we require one binary variable, one categorical variable with more than $2$ categories, and one continuous variable. To adhere as closely to course terminology as possible, `D` will be the binary variable, `W` the categorical variable, and `X` and `Z` continuous variables. "
   ]
  },
  {
   "cell_type": "code",
   "execution_count": 3,
   "id": "6d93e977-519e-49e7-b21e-56cb4bb851de",
   "metadata": {},
   "outputs": [],
   "source": [
    "sim.data <- sim.data %>%\n",
    "    mutate(\n",
    "        D = if_else(D > 0, 1, 0),\n",
    "        W = as_factor(ntile(W, 5))\n",
    "    )"
   ]
  },
  {
   "cell_type": "markdown",
   "id": "c0ca5999-8789-46b7-9e9a-d9f531afd84c",
   "metadata": {},
   "source": [
    "### Generating the Outcome Variable\n",
    "\n",
    "I manually define the outcome variable so that I know the true parameters of the CEF of the outcome variable. Keep this in mind as we look at regression outputs later. Notice that despite generating $4$ variables I use only $3$ variables to define the CEF. This is not a mistake and in a future lesson the purpose of `Z` will be made clear."
   ]
  },
  {
   "cell_type": "code",
   "execution_count": 4,
   "id": "caaee14e-99f1-4f3f-9785-763dd4febaf9",
   "metadata": {},
   "outputs": [],
   "source": [
    "sim.data <- sim.data %>%\n",
    "    mutate(\n",
    "        Y = .25 + 3 * D + .5 * X + .4 * (W == 2) + .7 * (W == 3) + 1.3 * (W == 4) + 1.9 * (W == 5) + e\n",
    "    )"
   ]
  },
  {
   "cell_type": "markdown",
   "id": "4b11c40d-9588-407b-8f6d-f2619044ce66",
   "metadata": {},
   "source": [
    "### Summary Statistics\n",
    "\n",
    "I report a summary of the data here. I could also use `summarize` or `stargazer`, but this is sufficient for my purposes since this notebook is about teaching how linear regression works in practice and not how to execute a full data analysis pipeline."
   ]
  },
  {
   "cell_type": "code",
   "execution_count": 5,
   "id": "a8400389-5f08-4b17-8f79-d3ad43e894ec",
   "metadata": {},
   "outputs": [
    {
     "data": {
      "text/plain": [
       "       D                X             W              Z            \n",
       " Min.   :0.0000   Min.   :-3.688439   1:1000   Min.   :-3.703643  \n",
       " 1st Qu.:0.0000   1st Qu.:-0.716236   2:1000   1st Qu.:-0.686461  \n",
       " Median :1.0000   Median : 0.009939   3:1000   Median : 0.009768  \n",
       " Mean   :0.5054   Mean   :-0.007287   4:1000   Mean   :-0.003324  \n",
       " 3rd Qu.:1.0000   3rd Qu.: 0.685444   5:1000   3rd Qu.: 0.681739  \n",
       " Max.   :1.0000   Max.   : 3.675470            Max.   : 3.542278  \n",
       "       e                   Y          \n",
       " Min.   :-3.517587   Min.   :-3.4588  \n",
       " 1st Qu.:-0.690418   1st Qu.: 0.7849  \n",
       " Median : 0.006281   Median : 2.5836  \n",
       " Mean   :-0.012897   Mean   : 2.6097  \n",
       " 3rd Qu.: 0.671192   3rd Qu.: 4.4280  \n",
       " Max.   : 3.381951   Max.   : 8.6636  "
      ]
     },
     "metadata": {},
     "output_type": "display_data"
    }
   ],
   "source": [
    "summary(sim.data)"
   ]
  },
  {
   "cell_type": "markdown",
   "id": "2ef28a70-3505-46fd-a4b3-61ac783aff45",
   "metadata": {},
   "source": [
    "## Simple Regression with Binary Explanatory Variable\n",
    "\n",
    "A simple regression is a linear regression model with one explanatory variable. Formally, it is written as\n",
    "\n",
    "$$\n",
    "    Y_{i} = \\alpha + \\beta D_{i} + e_{i}.\n",
    "$$\n",
    "\n",
    "$Y_{i}$ is our outcome variable, $D_{i}$ is the explanatory variable and $e_{i}$ is the unexplained residual term. Under the mean independence assumption\n",
    "\n",
    "$$\n",
    "    \\mathbb{E}[e_{i} \\mid D_{i}] = 0,\n",
    "$$\n",
    "\n",
    "the simple linear regression model implies the CEF\n",
    "\n",
    "$$\n",
    "    \\mathbb{E}[Y_{i} \\mid D_{i}] = \\alpha + \\beta D_{i}.\n",
    "$$\n",
    "\n",
    "When $D_{i}$ is a discrete variable---specifically a binary variable---the parameters $\\alpha$ and $\\beta$ have the following definitions:\n",
    "\n",
    "$$\n",
    "    \\alpha = \\mathbb{E}[Y_{i} \\mid D_{i} = 0]\n",
    "$$\n",
    "\n",
    "and\n",
    "\n",
    "$$\n",
    "    \\beta = \\mathbb{E}[Y_{i} \\mid D_{i} = 1] - \\mathbb{E}[Y_{i} \\mid D_{i} = 0].\n",
    "$$\n",
    "\n",
    "These definitions provide the blueprint for interpreting these parameters. $\\alpha$ is the expected outcome if the explanatory variable has a value of $0$. $\\beta$ is the change in the expected outcome when the explanatory variable changes value from $0$ to $1$.\n",
    "\n",
    "For example, if $Y_{i}$ is blood pressure and $D_{i}$ is the state of employed ($D_{i}=1$) or unemployed ($D_{i}=0$), then $\\alpha$ estimates the expected blood pressure level of unemployed people and $\\beta$ estimates how much greater or less the expected blood pressure level of employed people are compared to unemployed people."
   ]
  },
  {
   "cell_type": "code",
   "execution_count": 6,
   "id": "1469873b-263a-45c6-b228-849ce3f836f2",
   "metadata": {},
   "outputs": [
    {
     "name": "stdout",
     "output_type": "stream",
     "text": [
      "\n",
      "===============================================\n",
      "                        Dependent variable:    \n",
      "                    ---------------------------\n",
      "                                 Y             \n",
      "-----------------------------------------------\n",
      "D                            3.525***          \n",
      "                              (0.040)          \n",
      "                                               \n",
      "Constant                     0.828***          \n",
      "                              (0.029)          \n",
      "                                               \n",
      "-----------------------------------------------\n",
      "Observations                   5,000           \n",
      "R2                             0.604           \n",
      "Adjusted R2                    0.604           \n",
      "Residual Std. Error      1.428 (df = 4998)     \n",
      "F Statistic         7,619.839*** (df = 1; 4998)\n",
      "===============================================\n",
      "Note:               *p<0.1; **p<0.05; ***p<0.01\n"
     ]
    }
   ],
   "source": [
    "sim.data %>%\n",
    "    lm(Y ~ D, data = .) %>%\n",
    "    stargazer(., type = 'text')"
   ]
  },
  {
   "cell_type": "markdown",
   "id": "85f96a08-4c9a-4401-9a94-80373b73f747",
   "metadata": {},
   "source": [
    "### Interpretation\n",
    "\n",
    "As `D` is a binary variable,\n",
    "\n",
    "1. The `Constant` implies that the mean of outcome `Y` for all individuals with `D = 0` is estimated to be $0.828$.\n",
    "2. The coefficient on `D` implies that the mean outcome `Y` for all individuals with `D = 1` is estimated to be $0.828 + 3.525 = 4.353$. The outcome of the `D = 1` group is greater than the outcome of the `D = 0` group."
   ]
  },
  {
   "cell_type": "markdown",
   "id": "ce79352b-473f-47a4-9bab-7524c34c1795",
   "metadata": {},
   "source": [
    "## Manually Estimating the Simple Linear Regression Model\n",
    "\n",
    "We can also test the theory described in the lecture notes by manually estimating our simple linear regression model and comparing the estimates to the output from `lm`."
   ]
  },
  {
   "cell_type": "markdown",
   "id": "f77bcca1-9744-410b-815f-109e8cd94bac",
   "metadata": {
    "tags": []
   },
   "source": [
    "### Point Estimate of the Effect of the Explanatory Variable\n",
    "\n",
    "First, the point estimate on the explanatory variable is given by\n",
    "\n",
    "$$\n",
    "    \\widehat{\\beta} = \\frac{\\widehat{Cov}(D_{i},Y_{i})}{\\widehat{Var}(D_{i})}.\n",
    "$$"
   ]
  },
  {
   "cell_type": "code",
   "execution_count": 7,
   "id": "5e798231-9024-4dfa-b954-0b3a079fa7ff",
   "metadata": {},
   "outputs": [
    {
     "data": {
      "text/html": [
       "3.52478422269619"
      ],
      "text/latex": [
       "3.52478422269619"
      ],
      "text/markdown": [
       "3.52478422269619"
      ],
      "text/plain": [
       "[1] 3.524784"
      ]
     },
     "metadata": {},
     "output_type": "display_data"
    }
   ],
   "source": [
    "cov(sim.data$D, sim.data$Y) / var(sim.data$D)"
   ]
  },
  {
   "cell_type": "markdown",
   "id": "c6632bf3-3e97-4c30-8c70-928b3546f447",
   "metadata": {
    "tags": []
   },
   "source": [
    "### Point Estimate of the Constant\n",
    "\n",
    "Next, the point estimate on the constant is given by\n",
    "\n",
    "$$\n",
    "    \\widehat{\\alpha} = \\frac{1}{N} \\sum_{i=1}^{N} \\left( Y_{i} - \\widehat{\\beta} D_{i} \\right).\n",
    "$$"
   ]
  },
  {
   "cell_type": "code",
   "execution_count": 8,
   "id": "ad7f8d05-9db1-4316-b58e-78b6dc3b7cf7",
   "metadata": {},
   "outputs": [
    {
     "data": {
      "text/html": [
       "0.828233091922508"
      ],
      "text/latex": [
       "0.828233091922508"
      ],
      "text/markdown": [
       "0.828233091922508"
      ],
      "text/plain": [
       "[1] 0.8282331"
      ]
     },
     "metadata": {},
     "output_type": "display_data"
    }
   ],
   "source": [
    "mean(\n",
    "    sim.data$Y - sim.data$D * (cov(sim.data$D, sim.data$Y) / var(sim.data$D))\n",
    ")"
   ]
  },
  {
   "cell_type": "markdown",
   "id": "29c7fa1c-ce80-4ab2-9748-9df71e017525",
   "metadata": {},
   "source": [
    "### Standard Error of the Effect of the Explanatory Variable\n",
    "\n",
    "We move on to the uncertainty of the estimates. Before we begin, it is important to define and remember the estimated residual term\n",
    "\n",
    "$$\n",
    "    \\widehat{e}_{i} = Y_{i} - (\\widehat{\\alpha} + \\widehat{\\beta} D_{i}) = Y_{i} - \\widehat{Y}_{i}.\n",
    "$$\n",
    "\n",
    "Then, the variance of the point estimate on the explanatory variable is given by\n",
    "\n",
    "$$\n",
    "    \\widehat{Var}(\\widehat{\\beta}) = \\frac{\\widehat{Var}(\\widehat{e}_{i})}{\\widehat{Var}(D_{i})}\n",
    "$$\n",
    "\n",
    "and the SE is given by\n",
    "\n",
    "$$\n",
    "    \\widehat{SE}(\\widehat{\\beta}) = \\sqrt{\\frac{\\widehat{Var}(\\widehat{\\beta})}{N}}.\n",
    "$$"
   ]
  },
  {
   "cell_type": "code",
   "execution_count": 9,
   "id": "b5e4638f-4af2-4884-abc2-0c7d2fe0fe09",
   "metadata": {},
   "outputs": [
    {
     "data": {
      "text/html": [
       "0.0403713021017832"
      ],
      "text/latex": [
       "0.0403713021017832"
      ],
      "text/markdown": [
       "0.0403713021017832"
      ],
      "text/plain": [
       "[1] 0.0403713"
      ]
     },
     "metadata": {},
     "output_type": "display_data"
    }
   ],
   "source": [
    "sqrt(\n",
    "    var(resid(lm(Y ~ D, data = sim.data))) / var(sim.data$D) / nrow(sim.data)\n",
    ")"
   ]
  },
  {
   "cell_type": "markdown",
   "id": "7cd20ad5-79b4-42a9-ac0f-dd71ce9bfed0",
   "metadata": {},
   "source": [
    "### Standard Error of the Constant\n",
    "\n",
    "Finally, the standard error of the constant is given by\n",
    "\n",
    "$$\n",
    "    \\widehat{SE}(\\widehat{\\alpha}) = \\widehat{SE}(\\widehat{\\beta}) \\sqrt{\\frac{1}{N} \\sum_{i=1}^{N} D_{i}^{2}}\n",
    "$$\n",
    "\n",
    "which in the case of a binary variable is equal to\n",
    "\n",
    "$$\n",
    "    \\widehat{SE}(\\widehat{\\alpha}) = \\widehat{SE}(\\widehat{\\beta}) \\sqrt{\\overline{D}}\n",
    "$$\n"
   ]
  },
  {
   "cell_type": "code",
   "execution_count": 10,
   "id": "ae6fc0b1-2915-424a-bea9-954a4767d109",
   "metadata": {},
   "outputs": [
    {
     "data": {
      "text/html": [
       "0.0287005603373357"
      ],
      "text/latex": [
       "0.0287005603373357"
      ],
      "text/markdown": [
       "0.0287005603373357"
      ],
      "text/plain": [
       "[1] 0.02870056"
      ]
     },
     "metadata": {},
     "output_type": "display_data"
    }
   ],
   "source": [
    "sqrt(\n",
    "    (var(resid(lm(Y ~ D, data = sim.data))) / var(sim.data$D)) * mean(sim.data$D ^ 2) / nrow(sim.data)\n",
    ")"
   ]
  },
  {
   "cell_type": "markdown",
   "id": "b241ca79-45cb-4805-9dc7-50e20ed020b0",
   "metadata": {},
   "source": [
    "### Computing $R^{2}$\n",
    "\n",
    "$R^{2}$ is the Explained Sum of Squares (ESS) of the model. It tells us how much of the variation in our outcome variable is explained by the simple linear regression model. Mathematically, the Residual Sum of Squares (RSS) is the ratio of the variance of the estimated residuals to the variance of the outcome variable and the ESS is just $1$ minus the RSS;\n",
    "\n",
    "$$\n",
    "    R^{2} = 1 - \\frac{\\widehat{Var}(\\widehat{e}_{i})}{\\widehat{Var}(Y_{i})}\n",
    "$$"
   ]
  },
  {
   "cell_type": "code",
   "execution_count": 11,
   "id": "9fef2350-985d-4a03-b842-d7e60192c6a8",
   "metadata": {},
   "outputs": [
    {
     "data": {
      "text/html": [
       "0.603894142990817"
      ],
      "text/latex": [
       "0.603894142990817"
      ],
      "text/markdown": [
       "0.603894142990817"
      ],
      "text/plain": [
       "[1] 0.6038941"
      ]
     },
     "metadata": {},
     "output_type": "display_data"
    }
   ],
   "source": [
    "1 - var(resid(lm(Y ~ D, data = sim.data))) / var(sim.data$Y)"
   ]
  },
  {
   "cell_type": "markdown",
   "id": "cfb3e0e8-e03e-40ff-bf07-32a591401b39",
   "metadata": {},
   "source": [
    "### Interpreting $R^{2}$\n",
    "\n",
    "What this number means is that with just a binary explanatory variable, our simple linear regression model explains $60.4\\%$ of the total variation in our outcome variable. Unlike in this synthetic data set and unlike in predictive data science applications, the $R^{2}$ of most applied econometric models on real world data is not so significant in general."
   ]
  },
  {
   "cell_type": "markdown",
   "id": "53ad0024-0cff-4380-9935-a2b934ea3757",
   "metadata": {},
   "source": [
    "## Comparing this to the Comparison Measure\n",
    "\n",
    "You may have noticed that the definition of $\\beta$ in a simple linear regression model with a binary explanatory variable is similar to the comparison measure. That is because it is! These two models describe the same parameter. You can see it by comparing the output from the $2$-sample $t$-test with the equal group variance assumption to the output from the simple linear regression model. First I load `broom` so that I can display $t$-test results in a neat table format instead."
   ]
  },
  {
   "cell_type": "code",
   "execution_count": 12,
   "id": "aa16c333-6af4-45ac-8fb6-894fba03f11a",
   "metadata": {},
   "outputs": [
    {
     "name": "stderr",
     "output_type": "stream",
     "text": [
      "Warning message:\n",
      "“package ‘broom’ was built under R version 4.1.3”\n"
     ]
    }
   ],
   "source": [
    "library(broom)"
   ]
  },
  {
   "cell_type": "markdown",
   "id": "115aa5c1-9bd2-4e2a-bd3c-fe246fe4c2ea",
   "metadata": {},
   "source": [
    "### Running the $t$-test"
   ]
  },
  {
   "cell_type": "code",
   "execution_count": 13,
   "id": "9e3582a9-bac3-474f-a71c-a8e302faf2b5",
   "metadata": {},
   "outputs": [
    {
     "data": {
      "text/html": [
       "<table class=\"dataframe\">\n",
       "<caption>A tibble: 1 × 10</caption>\n",
       "<thead>\n",
       "\t<tr><th scope=col>estimate</th><th scope=col>estimate1</th><th scope=col>estimate2</th><th scope=col>statistic</th><th scope=col>p.value</th><th scope=col>parameter</th><th scope=col>conf.low</th><th scope=col>conf.high</th><th scope=col>method</th><th scope=col>alternative</th></tr>\n",
       "\t<tr><th scope=col>&lt;dbl&gt;</th><th scope=col>&lt;dbl&gt;</th><th scope=col>&lt;dbl&gt;</th><th scope=col>&lt;dbl&gt;</th><th scope=col>&lt;dbl&gt;</th><th scope=col>&lt;dbl&gt;</th><th scope=col>&lt;dbl&gt;</th><th scope=col>&lt;dbl&gt;</th><th scope=col>&lt;chr&gt;</th><th scope=col>&lt;chr&gt;</th></tr>\n",
       "</thead>\n",
       "<tbody>\n",
       "\t<tr><td>3.524784</td><td>4.353017</td><td>0.8282331</td><td>87.29169</td><td>0</td><td>4998</td><td>3.445623</td><td>3.603946</td><td>Two Sample t-test</td><td>two.sided</td></tr>\n",
       "</tbody>\n",
       "</table>\n"
      ],
      "text/latex": [
       "A tibble: 1 × 10\n",
       "\\begin{tabular}{llllllllll}\n",
       " estimate & estimate1 & estimate2 & statistic & p.value & parameter & conf.low & conf.high & method & alternative\\\\\n",
       " <dbl> & <dbl> & <dbl> & <dbl> & <dbl> & <dbl> & <dbl> & <dbl> & <chr> & <chr>\\\\\n",
       "\\hline\n",
       "\t 3.524784 & 4.353017 & 0.8282331 & 87.29169 & 0 & 4998 & 3.445623 & 3.603946 & Two Sample t-test & two.sided\\\\\n",
       "\\end{tabular}\n"
      ],
      "text/markdown": [
       "\n",
       "A tibble: 1 × 10\n",
       "\n",
       "| estimate &lt;dbl&gt; | estimate1 &lt;dbl&gt; | estimate2 &lt;dbl&gt; | statistic &lt;dbl&gt; | p.value &lt;dbl&gt; | parameter &lt;dbl&gt; | conf.low &lt;dbl&gt; | conf.high &lt;dbl&gt; | method &lt;chr&gt; | alternative &lt;chr&gt; |\n",
       "|---|---|---|---|---|---|---|---|---|---|\n",
       "| 3.524784 | 4.353017 | 0.8282331 | 87.29169 | 0 | 4998 | 3.445623 | 3.603946 | Two Sample t-test | two.sided |\n",
       "\n"
      ],
      "text/plain": [
       "  estimate estimate1 estimate2 statistic p.value parameter conf.low conf.high\n",
       "1 3.524784 4.353017  0.8282331 87.29169  0       4998      3.445623 3.603946 \n",
       "  method            alternative\n",
       "1 Two Sample t-test two.sided  "
      ]
     },
     "metadata": {},
     "output_type": "display_data"
    }
   ],
   "source": [
    "map_df(list(\n",
    "    t.test(\n",
    "        sim.data$Y[sim.data$D==1],\n",
    "        sim.data$Y[sim.data$D==0],\n",
    "        var.equal = TRUE\n",
    "    )\n",
    "), tidy)"
   ]
  },
  {
   "cell_type": "markdown",
   "id": "09517124-3687-44c0-afdf-3805af0ad9d2",
   "metadata": {
    "tags": []
   },
   "source": [
    "### Checking Against the Simple Linear Regression Model\n",
    "\n",
    "Notice that the estimate is exactly the estimated coefficient on the binary explanatory variable in our simple linear regression model, estimate $2$ is the estimated constant, and estimate $1$ is what I said is the total outcome of the `D = 1` group. As a final check, I estimate the $95\\%$ confidence interval of the simple linear regression model to confirm that the confidence interval of the difference in the $2$-sample $t$-test is the same as the confidence interval of the simple linear regression model."
   ]
  },
  {
   "cell_type": "code",
   "execution_count": 14,
   "id": "c7e10b31-1604-42b7-a905-2a9d64fcff93",
   "metadata": {},
   "outputs": [
    {
     "data": {
      "text/html": [
       "<table class=\"dataframe\">\n",
       "<caption>A matrix: 2 × 2 of type dbl</caption>\n",
       "<thead>\n",
       "\t<tr><th></th><th scope=col>2.5 %</th><th scope=col>97.5 %</th></tr>\n",
       "</thead>\n",
       "<tbody>\n",
       "\t<tr><th scope=row>(Intercept)</th><td>0.7719561</td><td>0.884510</td></tr>\n",
       "\t<tr><th scope=row>D</th><td>3.4456229</td><td>3.603946</td></tr>\n",
       "</tbody>\n",
       "</table>\n"
      ],
      "text/latex": [
       "A matrix: 2 × 2 of type dbl\n",
       "\\begin{tabular}{r|ll}\n",
       "  & 2.5 \\% & 97.5 \\%\\\\\n",
       "\\hline\n",
       "\t(Intercept) & 0.7719561 & 0.884510\\\\\n",
       "\tD & 3.4456229 & 3.603946\\\\\n",
       "\\end{tabular}\n"
      ],
      "text/markdown": [
       "\n",
       "A matrix: 2 × 2 of type dbl\n",
       "\n",
       "| <!--/--> | 2.5 % | 97.5 % |\n",
       "|---|---|---|\n",
       "| (Intercept) | 0.7719561 | 0.884510 |\n",
       "| D | 3.4456229 | 3.603946 |\n",
       "\n"
      ],
      "text/plain": [
       "            2.5 %     97.5 %  \n",
       "(Intercept) 0.7719561 0.884510\n",
       "D           3.4456229 3.603946"
      ]
     },
     "metadata": {},
     "output_type": "display_data"
    }
   ],
   "source": [
    "confint(\n",
    "    lm(Y ~ D, data = sim.data),\n",
    "    level = .95\n",
    ")"
   ]
  },
  {
   "cell_type": "markdown",
   "id": "c02bba44-a2cc-4c3b-ae69-c93c3f61d250",
   "metadata": {},
   "source": [
    "## Simple Regression with Continuous Explanatory Variable\n",
    "\n",
    "The theory of the simple linear regression model with a continuous explanatory variable is not much more complicated. First, the model is estimated the same way, both when seeking to do so manually and when using `lm` in `R`. Second, only the interpretation of the coefficient on the explanatory variable changes. Notice that under the implied CEF\n",
    "\n",
    "$$\n",
    "    \\mathbb{E}[Y_{i} \\mid X_{i}] = \\alpha + \\beta X_{i}\n",
    "$$\n",
    "\n",
    "the constant still has the interpretation\n",
    "\n",
    "$$\n",
    "    \\alpha = \\mathbb{E}[Y_{i} \\mid X_{i} = 0].\n",
    "$$\n",
    "\n",
    "Whether this interpretation makes sense depends on your data. For example, if your regression is income versus age, then anything other than a zero is not realistic. For this reason, in many econometric applications the constant is neither reported nor discussed. This also points to a practical implication of the linear regression model: if the interpretation of the constant in your model does not make sense, the most likely explanation is that the linear regression model is only an approximation of the true Data Generating Process of your data.\n",
    "\n",
    "However, now the coefficient on the explanatory variable has the interpretation\n",
    "\n",
    "$$\n",
    "    \\beta = \\frac{d \\mathbb{E}[Y_{i} \\mid X_{i}]}{d X_{i}}.\n",
    "$$\n",
    "\n",
    "It is the marginal change in the outcome given a marginal increase in the explanatory variable. It is also alternatively interpretable as\n",
    "\n",
    "$$\n",
    "    \\beta = \\mathbb{E}[Y_{i} \\mid X_{i} = x + 1] - \\mathbb{E}[Y_{i} \\mid X_{i} = x]\n",
    "$$\n",
    "\n",
    "for any arbitrary $x$ in the support of $X$. This tells us that a unit increase in the explanatory variable $X_{i}$ will be associated with a $\\beta$ change in the outcome $Y_{i}$ on average. This interpretation especially makes sense if your explanatory variable is discrete but cardinal. For example, a weight variable that is reported rounding to the nearest $0.1kg$ is a discrete variable but its values have cardinal meaning because we know exactly what it means for someone to have a weight $1kg$ greater than someone else."
   ]
  },
  {
   "cell_type": "code",
   "execution_count": 15,
   "id": "ffefcb2e-2b8b-47c3-9136-b8cb859ebced",
   "metadata": {},
   "outputs": [
    {
     "name": "stdout",
     "output_type": "stream",
     "text": [
      "\n",
      "===============================================\n",
      "                        Dependent variable:    \n",
      "                    ---------------------------\n",
      "                                 Y             \n",
      "-----------------------------------------------\n",
      "X                            0.835***          \n",
      "                              (0.029)          \n",
      "                                               \n",
      "Constant                     2.616***          \n",
      "                              (0.030)          \n",
      "                                               \n",
      "-----------------------------------------------\n",
      "Observations                   5,000           \n",
      "R2                             0.144           \n",
      "Adjusted R2                    0.144           \n",
      "Residual Std. Error      2.098 (df = 4998)     \n",
      "F Statistic          844.183*** (df = 1; 4998) \n",
      "===============================================\n",
      "Note:               *p<0.1; **p<0.05; ***p<0.01\n"
     ]
    }
   ],
   "source": [
    "sim.data %>%\n",
    "    lm(Y ~ X, data = .) %>%\n",
    "    stargazer(., type = 'text')"
   ]
  },
  {
   "cell_type": "markdown",
   "id": "ced41f6b-66ea-4c8e-9cfb-5ca3ca00e90b",
   "metadata": {},
   "source": [
    "### Interpreting the Regression Coefficients\n",
    "\n",
    "These estimation results imply that on average, a unit increase in `X` is associated with a $0.835$ unit increase in `Y`. What this means in practice depends on what `Y` and `X` are. There are four main situations of interest.\n",
    "\n",
    "1. Your `Y` and `X` are in levels. For example, you regressed the weight of newborns measured in kg on the estimated gestation period measured in weeks. Then $\\beta$ has the implication that an additional week of gestation is associated with a $\\beta$ increase in the weight of the newborn.\n",
    "2. Your `Y` is in levels and your `X` is in logs. What this means is that you are running the regression\n",
    "$$\n",
    "    Y_{i} = \\alpha + \\beta \\underbrace{\\ln(Z_{i})}_{X_{i}} + e_{i}.\n",
    "$$\n",
    "In other words, `X` is the log-transform of some other variable `Z` and then you regress `Y` on `X`. Because $d \\ln(Z) = d Z / Z$, $\\beta$ has the implication that a percent increase in `Z` is associated with a $\\beta$ unit increase in `Y`. This is also known as a partial elasticity. For example, if you regressed the number of years of schooling attained by a child on the log of the average annual total earnings of their parents, $\\beta$ has the implication that increasing the annual total earnings of the child's parent's total earnings by one percent is associated with a $\\beta$ increase in the number of years of schooling attained by the child.\n",
    "3. Your `Y` is in logs and your `X` is in levels. In other words, your regression is\n",
    "$$\n",
    "    \\underbrace{\\ln(Z_{i})}_{Y_{i}} = \\alpha + \\beta X_{i} + e_{i}.\n",
    "$$\n",
    "By similar logic, a unit increase in `X` is associated with a $\\beta$ percent increase in `Z`. For example, if you regressed the log wealth at $65$ on the years of schooling attained, then $\\beta$ has the implication that an additional year of schooling is associated with a $\\beta \\times 100\\%$ increase in the log wealth at $65$. \n",
    "4. Both `Y` and `X` are in logs. In other words, your regression is\n",
    "$$\n",
    "    \\underbrace{\\ln(Z_{i})}_{Y_{i}} = \\alpha + \\beta \\underbrace{\\ln(W_{i})}_{X_{i}} + e_{i}.\n",
    "$$\n",
    "Here, a percent increase in `X` is associated with a $\\beta$ percent increase in `Z`. In other words, $\\beta$ here estimates an elasticity. For example, if you regressed the log annual revenue of a firm on the log amount spent on advertising, then $\\beta$ has the implication of being the revenue elasticity of advertising. A percent increase in advertising spending is associated with a $\\beta \\times 100\\%$ increase in revenue."
   ]
  },
  {
   "cell_type": "markdown",
   "id": "2f1b7f50-fe1b-4251-88c7-08fabd529f17",
   "metadata": {},
   "source": [
    "### Checking Against Manual Calculations\n",
    "\n",
    "We can check that a manual computation of the coefficient on a continuous explanatory variable matches the result that `lm` produces. I will not show the rest as it should be clear that `lm` does indeed follow the formulas that were taught in class, but you are welcome to check them yourself. "
   ]
  },
  {
   "cell_type": "code",
   "execution_count": 16,
   "id": "de17cba3-6da5-4ab2-8660-1f6f39df28e4",
   "metadata": {},
   "outputs": [
    {
     "data": {
      "text/html": [
       "0.834909189190154"
      ],
      "text/latex": [
       "0.834909189190154"
      ],
      "text/markdown": [
       "0.834909189190154"
      ],
      "text/plain": [
       "[1] 0.8349092"
      ]
     },
     "metadata": {},
     "output_type": "display_data"
    }
   ],
   "source": [
    "cov(sim.data$X, sim.data$Y) / var(sim.data$X)"
   ]
  },
  {
   "cell_type": "markdown",
   "id": "acf6d9dd-ebb9-4d3f-af90-6577e24c9b15",
   "metadata": {},
   "source": [
    "## Exercise Set 1: Regression with Binary Outcome Variable\n",
    "\n",
    "Do you really understand how to run a simple regression and interpret its output? This exercise will test your understanding. To begin, I generate a data set with a twist. You will see in due time in this course what model this attempts to approximate. "
   ]
  },
  {
   "cell_type": "code",
   "execution_count": 17,
   "id": "b33fba21-1d9f-41b9-9150-3cc79a7c2fd9",
   "metadata": {},
   "outputs": [],
   "source": [
    "ex.data = matrix(rnorm(25000, 0, 1), 5000, 5, FALSE)\n",
    "ex.data <- ex.data %*% chol(matrix(\n",
    "    c(1, .5, .8, 0, 0,\n",
    "     .5, 1, .25, 0, 0,\n",
    "     .8, .25, 1, 0, 0,\n",
    "     0, 0, 0, 1, .5,\n",
    "     0, 0, 0, .5, 1),\n",
    "    5, 5, TRUE))\n",
    "colnames(ex.data) <- c('X', 'W', 'Z', 'u', 'e')\n",
    "ex.data <- as_tibble(ex.data)"
   ]
  },
  {
   "cell_type": "code",
   "execution_count": 18,
   "id": "02316c2a-17f4-4cc6-bcd2-e5ca3d82afce",
   "metadata": {},
   "outputs": [],
   "source": [
    "ex.data <- ex.data %>%\n",
    "    mutate(\n",
    "        D = if_else(.25 - 1.8 * Z + u > 0, 1, 0),\n",
    "        W = as_factor(ntile(W, 5))\n",
    "    ) %>%\n",
    "    mutate(\n",
    "        Y = .5 + 1.5 * D + X + .5 * D * X + .4 * (W == 2) + .7 * (W == 3) + 1.2 * (W == 4) + 2. * (W == 5) + e\n",
    "    )"
   ]
  },
  {
   "cell_type": "markdown",
   "id": "e1aad239-511a-4297-b006-93b6b8f1cba9",
   "metadata": {},
   "source": [
    "### Part 1: Run the regression\n",
    "\n",
    "Suppose you want to regress the binary variable `D` on the explanatory variable `Z`. How will you do it?"
   ]
  },
  {
   "cell_type": "code",
   "execution_count": null,
   "id": "a3ec17f5-0d56-4900-a3c2-1bfad70f2140",
   "metadata": {},
   "outputs": [],
   "source": []
  },
  {
   "cell_type": "markdown",
   "id": "e3b7e63b-71f8-445b-9436-fffcc85f67d7",
   "metadata": {},
   "source": [
    "### Part 2: Interpret the Output\n",
    "\n",
    "Great! Now, what do the numbers in the table mean? To help you out, what I mean is the following: What is the probability of `D = 1` when `Z = 0`? And what is the probability of `D = 1` on average in the entire data set?\n",
    "\n",
    "Hint for the second question: The marginal distribution of `Z` is Normal with mean zero."
   ]
  },
  {
   "cell_type": "code",
   "execution_count": null,
   "id": "7d870316-064a-40d0-9cf2-9bf5ccc5b736",
   "metadata": {},
   "outputs": [],
   "source": []
  },
  {
   "cell_type": "markdown",
   "id": "117dbe8b-626a-4ce5-bdc4-1e22a1591d94",
   "metadata": {},
   "source": [
    "### Part 3: Taking Stock of the Results\n",
    "\n",
    "Now that you know how to interpret the regression results for a simple linear regression with a binary outcome variable, there is one last interesting question for you to ask yourself: Do the results make sense?\n",
    "\n",
    "To help you out, what I mean is the following: What are the limits of the range of values for `Z` for which these results make sense? As a hint, go back to Part 2 and ask whether there is a point for `Z` for which that interpretation no longer makes sense."
   ]
  },
  {
   "cell_type": "code",
   "execution_count": null,
   "id": "8f052738-55b0-4586-8307-6d834aabb3fc",
   "metadata": {},
   "outputs": [],
   "source": []
  },
  {
   "cell_type": "markdown",
   "id": "f3cde8c0-3ff0-4117-b389-ce7fa2983431",
   "metadata": {},
   "source": [
    "## Regression with Categorical Variable\n",
    "\n",
    "Categorical variables are interesting, because for most part their category labels have at most ordinal value, meaning that it does not make sense in general to directly run the regression\n",
    "\n",
    "$$\n",
    "    Y_{i} = \\alpha + \\beta W_{i} + e_{i}\n",
    "$$\n",
    "\n",
    "because in general\n",
    "\n",
    "$$\n",
    "    \\beta = \\mathbb{E}[Y_{i} \\mid W_{i} = w + 1] - \\mathbb{E}[Y_{i} \\mid W_{i} = w]\n",
    "$$\n",
    "\n",
    "is not interpretable. Instead, what we do in general is to split up categorical variables into dummy variables for each category (level) and run a multiple regression with all the dummies instead,\n",
    "\n",
    "$$\n",
    "    Y_{i} = \\alpha + \\sum_{k=1}^{K-1} \\beta_{k} \\mathbf{1}\\{W_{i} = k\\} + e_{i}.\n",
    "$$\n",
    "\n",
    "Here, $\\mathbf{1}$ represents the indicator variable and we specifically sum only over $K-1$ categories, leaving one group out. The reason for leaving one out is better explained in terms what what happens if we do not do this and instead run\n",
    "\n",
    "$$\n",
    "    Y_{i} = \\alpha + \\sum_{k=1}^{K} \\beta_{k} \\mathbf{1}\\{W_{i} = k\\} + e_{i}.\n",
    "$$\n",
    "\n",
    "Then,\n",
    "\n",
    "$$\n",
    "    \\mathbb{E}[Y_{i} | W_{i} = k] = \\alpha + \\beta_{k}\n",
    "$$\n",
    "\n",
    "for all $k$. The issue is that $\\alpha$ is a common term to all $K$ levels and hence there are infinite possible solutions because\n",
    "\n",
    "$$\n",
    "    \\mathbb{E}[Y_{i} | W_{i} = k] = (\\alpha - \\gamma) + (\\beta_{k} + \\gamma)\n",
    "$$\n",
    "\n",
    "for any $\\gamma$ is also a valid solution. This problem is known as collinearity and under the hood the problem is that this flawed regression model defines a design matrix that does not have full rank and therefore cannot be inverted. The solution is to break this collinearity by dropping one of the levels.\n",
    "\n",
    "In `R`, first of all `factor` variables are automatically treated this way. This is why it is important to always set variables as `factor` if they are indeed categorical variables. Second, `R` also automatically takes care of the leave-one-out requirement for you, unless you explicitly ask `R` to drop the constant instead. In practical terms:"
   ]
  },
  {
   "cell_type": "code",
   "execution_count": 19,
   "id": "ffb8276f-304c-467b-bcee-bb4b94e557e1",
   "metadata": {},
   "outputs": [
    {
     "name": "stdout",
     "output_type": "stream",
     "text": [
      "\n",
      "===================================================================================================================\n",
      "                                                                Dependent variable:                                \n",
      "                                -----------------------------------------------------------------------------------\n",
      "                                                                         Y                                         \n",
      "                                            (1)                         (2)                         (3)            \n",
      "-------------------------------------------------------------------------------------------------------------------\n",
      "W1                                       -4.449***                                               0.461***          \n",
      "                                          (0.075)                                                 (0.053)          \n",
      "                                                                                                                   \n",
      "W2                                       -3.306***                   1.143***                    1.604***          \n",
      "                                          (0.075)                     (0.075)                     (0.053)          \n",
      "                                                                                                                   \n",
      "W3                                       -2.347***                   2.102***                    2.563***          \n",
      "                                          (0.075)                     (0.075)                     (0.053)          \n",
      "                                                                                                                   \n",
      "W4                                       -1.400***                   3.049***                    3.510***          \n",
      "                                          (0.075)                     (0.075)                     (0.053)          \n",
      "                                                                                                                   \n",
      "W5                                                                   4.449***                    4.910***          \n",
      "                                                                      (0.075)                     (0.053)          \n",
      "                                                                                                                   \n",
      "Constant                                 4.910***                    0.461***                                      \n",
      "                                          (0.053)                     (0.053)                                      \n",
      "                                                                                                                   \n",
      "-------------------------------------------------------------------------------------------------------------------\n",
      "Observations                               5,000                       5,000                       5,000           \n",
      "R2                                         0.456                       0.456                       0.766           \n",
      "Adjusted R2                                0.456                       0.456                       0.766           \n",
      "Residual Std. Error (df = 4995)            1.673                       1.673                       1.673           \n",
      "F Statistic                     1,047.652*** (df = 4; 4995) 1,047.652*** (df = 4; 4995) 3,270.952*** (df = 5; 4995)\n",
      "===================================================================================================================\n",
      "Note:                                                                                   *p<0.1; **p<0.05; ***p<0.01\n"
     ]
    }
   ],
   "source": [
    "stargazer(\n",
    "    sim.data %>%\n",
    "        mutate(W = relevel(W, 5)) %>%\n",
    "        lm(Y ~ W, data = .),\n",
    "    sim.data %>%\n",
    "        lm(Y ~ W, data = .),\n",
    "    sim.data %>%\n",
    "        lm(Y ~ W - 1, data = .)\n",
    "    , type = 'text')"
   ]
  },
  {
   "cell_type": "markdown",
   "id": "c96e0de3-5759-4f34-bbe5-6c57eb399be9",
   "metadata": {},
   "source": [
    "### Interpreting the Regression Coefficients\n",
    "\n",
    "Notice that in the first two models with the constant, one of the levels was dropped automatically without having to explicitly state it to `R`. The first column drops `W = 5` because we asked `R` to treat `W = 5` as the new reference level using the `relevel` function. The second column drops `W = 1` because by default `R` always sets the first level in alphanumeric sort order as the reference level. Notice that the constant in both cases corresponds to the estimate for that omitted level in the third column without the constant and all the coefficient estimates are the difference between the constant in that model that the corresponding coefficient for that level in the third column. This therefore gives us our interpretations:\n",
    "\n",
    "1. When your model contains a constant, i.e.\n",
    "$$\n",
    "    Y_{i} = \\alpha + \\sum_{k=1}^{K-1} \\beta_{k} \\mathbf{1}\\{W_{i} = k\\} + e_{i},\n",
    "$$\n",
    "then\n",
    "$$\n",
    "    \\alpha = \\mathbb{E}[Y_{i} \\mid W_{i} = K]\n",
    "$$\n",
    "and\n",
    "$$\n",
    "    \\beta_{k} = \\mathbb{E}[Y_{i} \\mid W_{i} = k] - \\mathbb{E}[Y_{i} \\mid W_{i} = K].\n",
    "$$\n",
    "In other words, $\\alpha$ is simply the mean outcome of the left-out group and each $\\beta$ estimates the difference in the mean outcome between the left-out group and the target group.\n",
    "2. When your model does not contain a constant, i.e.\n",
    "$$\n",
    "    Y_{i} = \\sum_{k=1}^{K} \\beta_{k} \\mathbf{1}\\{W_{i} = k\\} + e_{i},\n",
    "$$\n",
    "then\n",
    "$$\n",
    "    \\beta_{k} = \\mathbb{E}[Y_{i} \\mid W_{i} = k].\n",
    "$$\n",
    "In other words, $\\beta$ directly estimates the mean outcome of the target group.\n",
    "\n",
    "Therefore, in this example the mean outcome of the `W = 1` group is $0.461$ and then the `W = 2` group has a $1.143$ greater outcome than the `W = 1` group on average, resulting in a total outcome of $1.604$ for the `W = 2` group on average."
   ]
  },
  {
   "cell_type": "markdown",
   "id": "475caf23-260b-41d1-bd14-d0a74ac6f596",
   "metadata": {},
   "source": [
    "## Multiple Regression in General\n",
    "\n",
    "Regression with categorical variables is a special case of multiple regression. In general, we can always regress on multiple variables\n",
    "\n",
    "$$\n",
    "    Y_{i} = \\alpha + \\beta_{1} X_{1,i} + \\beta_{2} X_{2,i} + \\cdots + \\beta_{K} X_{K,i} + e_{i}.\n",
    "$$\n",
    "\n",
    "Here, the coefficient interpretations change slightly because\n",
    "\n",
    "$$\n",
    "    \\alpha = \\mathbb{E}[Y_{i} \\mid X_{1,i} = 0, X_{2,i} = 0, \\cdots, X_{K,1} = 0]\n",
    "$$\n",
    "and\n",
    "$$\n",
    "    \\beta_{j} = \\frac{\\partial \\mathbb{E}[Y_{i} \\mid \\{X_{k,i}\\}_{k=1,2,\\cdots,K}]}{\\partial X_{j,i}}.\n",
    "$$\n",
    "\n",
    "In words, $\\alpha$ is the expected outcome when all explanatory variables are zero and $\\beta_{j}$ is the estimated association between $X_{j,i}$ and $Y_{i}$ holding all other explanatory variables constant. i.e., a unit increase in $X_{j,i}$ holding constant all other explanatory variables is associated with a $\\beta_{j}$ change in $Y_{i}$. Again, whether $\\alpha$ makes sense to interpret depends on your model, and $\\beta$s can take on either the proportional association, partial elasticity, or elasticity interpretations depending on whether your outcome and explanatory variables are measured in logs or levels.\n",
    "\n",
    "In `R`, you simply expand the model in `lm` with more variables."
   ]
  },
  {
   "cell_type": "code",
   "execution_count": 20,
   "id": "8a6f3e84-b926-41f5-9f98-0254236b3e07",
   "metadata": {},
   "outputs": [
    {
     "name": "stdout",
     "output_type": "stream",
     "text": [
      "\n",
      "===============================================\n",
      "                        Dependent variable:    \n",
      "                    ---------------------------\n",
      "                                 Y             \n",
      "-----------------------------------------------\n",
      "D                            3.544***          \n",
      "                              (0.032)          \n",
      "                                               \n",
      "X                            0.854***          \n",
      "                              (0.015)          \n",
      "                                               \n",
      "Constant                     0.825***          \n",
      "                              (0.023)          \n",
      "                                               \n",
      "-----------------------------------------------\n",
      "Observations                   5,000           \n",
      "R2                             0.755           \n",
      "Adjusted R2                    0.755           \n",
      "Residual Std. Error      1.123 (df = 4997)     \n",
      "F Statistic         7,702.292*** (df = 2; 4997)\n",
      "===============================================\n",
      "Note:               *p<0.1; **p<0.05; ***p<0.01\n"
     ]
    }
   ],
   "source": [
    "sim.data %>%\n",
    "    lm(Y ~ D + X, data = .) %>%\n",
    "    stargazer(., type = 'text')"
   ]
  },
  {
   "cell_type": "markdown",
   "id": "2ec4ee7b-2ac7-42b1-82a1-cdeb41df9e7d",
   "metadata": {},
   "source": [
    "### Interpreting the Regression Coefficients\n",
    "\n",
    "Here, these estimates suggest that\n",
    "\n",
    "1. Holding `X` constant, the `D = 1` group has a $3.544$ higher outcome on average than the `D = 0` group.\n",
    "2. Holding `D` constant, a unit increase in `X` is associated with a $0.854$ increase in the outcome `Y`."
   ]
  },
  {
   "cell_type": "markdown",
   "id": "84e3b1f1-692f-48f6-9866-a8cefcc27091",
   "metadata": {},
   "source": [
    "## Exercise Set 2: Multiple Regression\n",
    "\n",
    "Using the same exercise data set as before, it is now your turn to try multiple regression."
   ]
  },
  {
   "cell_type": "markdown",
   "id": "cd67c2c0-a6ce-4c01-924b-9b375b98d176",
   "metadata": {},
   "source": [
    "### Part 1: Run the Regression\n",
    "\n",
    "Suppose we believe `Y` is simply a linear function of `X`, `D` and `W`. How do you run the regression?"
   ]
  },
  {
   "cell_type": "code",
   "execution_count": null,
   "id": "b4dff9f8-ce1d-46ed-9d12-f2f9e0a5c2ec",
   "metadata": {},
   "outputs": [],
   "source": []
  },
  {
   "cell_type": "markdown",
   "id": "68cc95ce-e3a2-4379-bbe4-5b6d2adb8c55",
   "metadata": {},
   "source": [
    "### Part 2: Interpret the Results\n",
    "\n",
    "Let me be specific here. Try out these three things:\n",
    "\n",
    "1. What is the expected outcome value of having `D = 1`, `W = 1`, and `X = 1`?\n",
    "2. What is the expected outcome value of having `D = 0`, `W = 5`, and `X = 0`?\n",
    "3. What is the expected difference in outcome between having `D = 1` and `W = 5` and `D = 0` and `W = 1`?"
   ]
  },
  {
   "cell_type": "code",
   "execution_count": null,
   "id": "977bc054-ab84-442c-a7ce-805d3eb41f0b",
   "metadata": {},
   "outputs": [],
   "source": []
  },
  {
   "cell_type": "markdown",
   "id": "1484e07e-33fb-460c-ad7a-f8bdf2641f1b",
   "metadata": {},
   "source": [
    "### Part 3: See Something Wrong?\n",
    "\n",
    "Look at the coefficients carefully again. Is something wrong with the coefficients? Which assumption do you think we have violated here?"
   ]
  },
  {
   "cell_type": "code",
   "execution_count": null,
   "id": "77f8f6d6-f785-477c-bee6-c84394b1adba",
   "metadata": {},
   "outputs": [],
   "source": []
  },
  {
   "cell_type": "markdown",
   "id": "ae53165d-d9ee-4031-9ab8-c74ca25f22e3",
   "metadata": {},
   "source": [
    "## Omitted Variables Bias\n",
    "\n",
    "If you have been paying attention to the magnitudes of our estimates and recall the original true model that we used to define our outcome variable, it should be clear that the coefficients in the simple linear regression models are wildly misestiamted. This is a live example of omitted variables bias. Compare the results of the three simple models below against the fully, correctly-specified model."
   ]
  },
  {
   "cell_type": "code",
   "execution_count": 21,
   "id": "a04b0f0b-60e4-490c-9509-a1214f0bda3f",
   "metadata": {},
   "outputs": [
    {
     "name": "stdout",
     "output_type": "stream",
     "text": [
      "\n",
      "=====================================================================\n",
      "                                   Dependent variable:               \n",
      "                    -------------------------------------------------\n",
      "                                            Y                        \n",
      "                        (1)         (2)         (3)          (4)     \n",
      "---------------------------------------------------------------------\n",
      "D                     3.525***                             3.026***  \n",
      "                      (0.040)                              (0.032)   \n",
      "                                                                     \n",
      "X                                 0.835***                 0.478***  \n",
      "                                  (0.029)                  (0.018)   \n",
      "                                                                     \n",
      "W2                                            1.143***     0.404***  \n",
      "                                              (0.075)      (0.047)   \n",
      "                                                                     \n",
      "W3                                            2.102***     0.803***  \n",
      "                                              (0.075)      (0.050)   \n",
      "                                                                     \n",
      "W4                                            3.049***     1.328***  \n",
      "                                              (0.075)      (0.053)   \n",
      "                                                                     \n",
      "W5                                            4.449***     1.919***  \n",
      "                                              (0.075)      (0.061)   \n",
      "                                                                     \n",
      "Constant              0.828***    2.616***    0.461***     0.193***  \n",
      "                      (0.029)     (0.030)     (0.053)      (0.035)   \n",
      "                                                                     \n",
      "---------------------------------------------------------------------\n",
      "Observations           5,000       5,000       5,000        5,000    \n",
      "R2                     0.604       0.144       0.456        0.802    \n",
      "Adjusted R2            0.604       0.144       0.456        0.802    \n",
      "Residual Std. Error    1.428       2.098       1.673        1.010    \n",
      "F Statistic         7,619.839*** 844.183*** 1,047.652*** 3,371.290***\n",
      "=====================================================================\n",
      "Note:                                     *p<0.1; **p<0.05; ***p<0.01\n"
     ]
    }
   ],
   "source": [
    "stargazer(\n",
    "    sim.data %>%\n",
    "        lm(Y ~ D, data = .),\n",
    "    sim.data %>%\n",
    "        lm(Y ~ X, data = .),\n",
    "    sim.data %>%\n",
    "        lm(Y ~ W, data = .),\n",
    "    sim.data %>%\n",
    "        lm(Y ~ D + X + W, data = .),\n",
    "    type = 'text', df = FALSE)"
   ]
  },
  {
   "cell_type": "markdown",
   "id": "cedef982-612a-4f76-9169-55df8caba2a4",
   "metadata": {},
   "source": [
    "## Verifying the OVB Equation\n",
    "\n",
    "We mentioned before that when\n",
    "\n",
    "$$\n",
    "    Y_{i} = \\alpha + \\beta X_{i} + \\gamma W_{i} + \\epsilon_{i}\n",
    "$$\n",
    "\n",
    "is misspecified as\n",
    "\n",
    "$$\n",
    "    Y_{i} = a + b X_{i} + e_{i},\n",
    "$$\n",
    "\n",
    "the misspecified coefficient takes on the value\n",
    "\n",
    "$$\n",
    "    b = \\beta + \\gamma \\frac{Cov(X_{i},W_{i})}{Var(X_{i})}.\n",
    "$$\n",
    "\n",
    "You will recognise the fraction term in the OVB to be basically the coefficient of a simple linear regression of $X_{i}$ on $W_{i}$. This gives us a way to confirm how OVB works in our simulated data.\n",
    "\n",
    "1. First, we estimate the two misspecified models `D ~ X + W` and `Y ~ X + W` and the true model `Y ~ X + D + W`.\n",
    "2. Then, we can compare whether the coefficient on `X` in the misspecified model `Y ~ X + W` is really the true coefficient on `X` in `Y ~ X + D + W` plus the coefficient on `D` multiplied by the coefficient on `X` in `D ~ X + W`."
   ]
  },
  {
   "cell_type": "code",
   "execution_count": 22,
   "id": "5fb372d0-aa19-4bf2-9a3c-5ceff36394be",
   "metadata": {},
   "outputs": [
    {
     "name": "stdout",
     "output_type": "stream",
     "text": [
      "\n",
      "======================================================\n",
      "                           Dependent variable:        \n",
      "                    ----------------------------------\n",
      "                               Y                D     \n",
      "                        (1)         (2)        (3)    \n",
      "------------------------------------------------------\n",
      "X                     0.478***     -0.022   -0.165*** \n",
      "                      (0.018)     (0.028)    (0.007)  \n",
      "                                                      \n",
      "D                     3.026***                        \n",
      "                      (0.032)                         \n",
      "                                                      \n",
      "W2                    0.404***    1.155***   0.248*** \n",
      "                      (0.047)     (0.076)    (0.020)  \n",
      "                                                      \n",
      "W3                    0.803***    2.121***   0.436*** \n",
      "                      (0.050)     (0.079)    (0.021)  \n",
      "                                                      \n",
      "W4                    1.328***    3.076***   0.578*** \n",
      "                      (0.053)     (0.082)    (0.022)  \n",
      "                                                      \n",
      "W5                    1.919***    4.488***   0.849*** \n",
      "                      (0.061)     (0.089)    (0.024)  \n",
      "                                                      \n",
      "Constant              0.193***    0.441***   0.082*** \n",
      "                      (0.035)     (0.058)    (0.015)  \n",
      "                                                      \n",
      "------------------------------------------------------\n",
      "Observations           5,000       5,000      5,000   \n",
      "R2                     0.802       0.456      0.223   \n",
      "Adjusted R2            0.802       0.456      0.222   \n",
      "Residual Std. Error    1.010       1.673      0.441   \n",
      "F Statistic         3,371.290*** 838.186*** 286.786***\n",
      "======================================================\n",
      "Note:                      *p<0.1; **p<0.05; ***p<0.01\n"
     ]
    }
   ],
   "source": [
    "stargazer(\n",
    "    sim.data %>%\n",
    "        lm(Y ~ X + D + W, data = .),\n",
    "    sim.data %>%\n",
    "        lm(Y ~ X + W, data = .),\n",
    "    sim.data %>%\n",
    "        lm(D ~ X + W, data = .),\n",
    "    type = 'text', df = FALSE)"
   ]
  },
  {
   "cell_type": "code",
   "execution_count": 23,
   "id": "4947c9d5-fdca-46ef-95bc-5a628fb01a40",
   "metadata": {},
   "outputs": [
    {
     "name": "stdout",
     "output_type": "stream",
     "text": [
      "$OVB\n",
      "[1] -0.02129\n",
      "\n"
     ]
    }
   ],
   "source": [
    "print(\n",
    "    list('OVB' = 0.478 + 3.026 * (-0.165))\n",
    ")"
   ]
  },
  {
   "cell_type": "markdown",
   "id": "6d369780-5c27-47fb-856c-210b0b52fd66",
   "metadata": {},
   "source": [
    "### Final Remarks about OVB\n",
    "\n",
    "1. See that the manually-computed biased coefficient basically matches the actual biased estimate in the misspecified model.\n",
    "2. Notice that although the partial effect of `X` is in fact positive, due to the direction of the bias the biased estimate is statistically indistinguishable from zero. OVB can obscure your desired treatment effect estimate in unexpected ways, which is why as an analyst you will still be required to bring your domain knowledge to the analysis to determine the likely direction of the bias when you do not know the true Data Generating Process as in this case."
   ]
  },
  {
   "cell_type": "markdown",
   "id": "afa20897-8f79-45a5-9d93-342b44f372eb",
   "metadata": {},
   "source": [
    "## Regression with Interaction Terms\n",
    "\n",
    "We are not done yet. With multiple regression, we can now also discuss regression models containing interaction terms. For example with two variables,\n",
    "\n",
    "$$\n",
    "    Y_{i} = \\alpha + \\beta X_{i} + \\gamma D_{i} + \\delta X_{i} \\times D_{i} + e_{i}.\n",
    "$$\n",
    "\n",
    "This is a general procedure because suppose you just want a quadratic model, it is just like interacting the explanatory variable with itself,\n",
    "\n",
    "$$\n",
    "    Y_{i} = \\alpha + \\beta X_{i} + \\gamma X_{i} \\times X_{i} + e_{i}.\n",
    "$$\n",
    "\n",
    "In `R`, you estimate a model with interaction terms using the `*` operator."
   ]
  },
  {
   "cell_type": "code",
   "execution_count": 24,
   "id": "5037a24f-80a1-4dff-a685-9acbdd9da17e",
   "metadata": {},
   "outputs": [
    {
     "name": "stdout",
     "output_type": "stream",
     "text": [
      "\n",
      "===============================================\n",
      "                        Dependent variable:    \n",
      "                    ---------------------------\n",
      "                                 Y             \n",
      "-----------------------------------------------\n",
      "X                            0.835***          \n",
      "                              (0.022)          \n",
      "                                               \n",
      "D                            3.545***          \n",
      "                              (0.032)          \n",
      "                                               \n",
      "X:D                            0.038           \n",
      "                              (0.031)          \n",
      "                                               \n",
      "Constant                     0.825***          \n",
      "                              (0.023)          \n",
      "                                               \n",
      "-----------------------------------------------\n",
      "Observations                   5,000           \n",
      "R2                             0.755           \n",
      "Adjusted R2                    0.755           \n",
      "Residual Std. Error            1.123           \n",
      "F Statistic                5,135.922***        \n",
      "===============================================\n",
      "Note:               *p<0.1; **p<0.05; ***p<0.01\n"
     ]
    }
   ],
   "source": [
    "stargazer(\n",
    "    sim.data %>%\n",
    "        lm(Y ~ X * D, data = .),\n",
    "    type = 'text', df = FALSE)"
   ]
  },
  {
   "cell_type": "markdown",
   "id": "2de1ae62-88d3-4807-b4a6-2da441f76acd",
   "metadata": {},
   "source": [
    "### Interpreting the Regression Coefficients\n",
    "\n",
    "With interactions, our interpretations change quite significantly. Consider for $X_{i}$,\n",
    "\n",
    "$$\n",
    "    \\frac{\\partial \\mathbb{E}[Y_{i} \\mid X_{i}, D_{i}]}{\\partial X_{i}} = \\beta + \\delta D_{i}.\n",
    "$$\n",
    "\n",
    "This means that the partial effect of an explanatory variable is not constant when it interacts with another variable. In our case above, the estimates suggest that the partial effect of `X` on `Y` is $0.835$ if `D = 0` and $0.835 + 0.038 = 0.872$ if `D = 1`.\n",
    "\n",
    "Of course, we know that the true model has no such interaction (we generated the synthetic data ourselves) and this shows up in the fact that the coefficient on the interaction term is statistically indistinguishable from zero. This has the distinct implication that suppose you are interested in treatment effect heterogeneity---whether the average effect of some treatment variable $D_{i}$ depends on other observable characteristics $X_{i}$. Then, you simply test whether such heterogeneity exists by estimating a model with interaction terms between your treatment and observable characteristics variables."
   ]
  },
  {
   "cell_type": "markdown",
   "id": "ba02ed59-1fe6-409a-bc6d-b1729051408d",
   "metadata": {},
   "source": [
    "## Exercise Set 3: Regression with Interaction Term\n",
    "\n",
    "Now we add interaction terms to our regression models."
   ]
  },
  {
   "cell_type": "code",
   "execution_count": null,
   "id": "b5996985-aaca-4bb7-87d5-57c71a66e69c",
   "metadata": {},
   "outputs": [],
   "source": []
  },
  {
   "cell_type": "markdown",
   "id": "0c11c182-e667-43c6-9030-0d5b22a986ad",
   "metadata": {},
   "source": [
    "### Part 1: Running the Regression\n",
    "\n",
    "Now, run what seems to be the true CEF for `Y`."
   ]
  },
  {
   "cell_type": "code",
   "execution_count": null,
   "id": "d14b47a1-31dc-487d-b261-8a085aa5f2ce",
   "metadata": {},
   "outputs": [],
   "source": []
  },
  {
   "cell_type": "markdown",
   "id": "9eb00b42-e1a1-4374-9e22-f93cc781a8d4",
   "metadata": {},
   "source": [
    "### Part 2: Interpreting the Estimates\n",
    "\n",
    "Specifically, what is the difference in expected outcome between `D = 1` and `D = 0` when `W = 1` and `X = 0`? What about when `X = 2`? What about instead when `W = 5`?"
   ]
  },
  {
   "cell_type": "code",
   "execution_count": null,
   "id": "a93da446-1b33-4373-8fe3-cd49840853a1",
   "metadata": {},
   "outputs": [],
   "source": []
  },
  {
   "cell_type": "markdown",
   "id": "facb932d-9273-4783-9d6f-06652fcdcd3f",
   "metadata": {},
   "source": [
    "### Part 3: See Something Wrong?\n",
    "\n",
    "Compare the regression estimates to the true parameters of `Y`. What seems to be wrong? What assumption have we violated?\n",
    "\n",
    "You will learn how to deal with this problem later in the course."
   ]
  },
  {
   "cell_type": "code",
   "execution_count": null,
   "id": "b1f34d72-a2b9-4cf4-b805-62b253a3b47a",
   "metadata": {},
   "outputs": [],
   "source": []
  },
  {
   "cell_type": "markdown",
   "id": "80d7ed08-61a9-43ae-a2ec-d8bc9d4f8372",
   "metadata": {},
   "source": [
    "## OVB when Interaction is Present\n",
    "\n",
    "To cap things off, I showcase what happens with OVB when your true model has an interaction. To begin, I define a new outcome variable that does include treatment effect heterogeneity. Then, I will estimate several misspecified models and the true models and discuss what the OVB looks like."
   ]
  },
  {
   "cell_type": "code",
   "execution_count": 25,
   "id": "023b19ee-16e9-4809-8fdc-9d0a4e688ab1",
   "metadata": {},
   "outputs": [],
   "source": [
    "sim.data <- sim.data %>%\n",
    "    mutate(\n",
    "        A = X + 2.5\n",
    "    ) %>%\n",
    "    mutate(\n",
    "        K = 1 + 2 * D + 4 * A + 1.5 * D * A + e\n",
    "    )"
   ]
  },
  {
   "cell_type": "code",
   "execution_count": 26,
   "id": "47252342-283c-4ce7-a23a-4c5e4ff30514",
   "metadata": {},
   "outputs": [
    {
     "name": "stdout",
     "output_type": "stream",
     "text": [
      "\n",
      "==========================================================================\n",
      "                                     Dependent variable:                  \n",
      "                    ------------------------------------------------------\n",
      "                                              K                           \n",
      "                        (1)           (2)           (3)           (4)     \n",
      "--------------------------------------------------------------------------\n",
      "D                     5.664***                   5.772***      2.028***   \n",
      "                      (0.143)                     (0.036)       (0.075)   \n",
      "                                                                          \n",
      "A:D                                                            1.502***   \n",
      "                                                                (0.028)   \n",
      "                                                                          \n",
      "A                                  4.698***      4.729***      3.982***   \n",
      "                                    (0.043)       (0.017)       (0.020)   \n",
      "                                                                          \n",
      "Constant             10.987***     2.140***      -0.855***     1.016***   \n",
      "                      (0.101)       (0.117)       (0.051)       (0.053)   \n",
      "                                                                          \n",
      "--------------------------------------------------------------------------\n",
      "Observations           5,000         5,000         5,000         5,000    \n",
      "R2                     0.240         0.703         0.952         0.970    \n",
      "Adjusted R2            0.239         0.703         0.952         0.970    \n",
      "Residual Std. Error    5.046         3.155         1.273         1.010    \n",
      "F Statistic         1,574.310*** 11,818.230*** 49,107.000*** 53,013.480***\n",
      "==========================================================================\n",
      "Note:                                          *p<0.1; **p<0.05; ***p<0.01\n"
     ]
    }
   ],
   "source": [
    "stargazer(\n",
    "    sim.data %>%\n",
    "        lm(K ~ D, data = .),\n",
    "    sim.data %>%\n",
    "        lm(K ~ A, data = .),\n",
    "    sim.data %>%\n",
    "        lm(K ~ A + D, data = .),\n",
    "    sim.data %>%\n",
    "        lm(K ~ A * D, data = .),\n",
    "    type = 'text', df = FALSE)"
   ]
  },
  {
   "cell_type": "markdown",
   "id": "d739487c-0405-46a9-894a-60ae57318616",
   "metadata": {},
   "source": [
    "### Manual OVB Computation\n",
    "\n",
    "To skip the mathematics, the OVB when the true model\n",
    "\n",
    "$$\n",
    "    Y_{i} = \\alpha + \\beta X_{i} + \\gamma D_{i} + \\delta X_{i} \\times D_{i} + \\epsilon_{i}\n",
    "$$\n",
    "\n",
    "is misspecified as\n",
    "\n",
    "$$\n",
    "    Y_{i} = a + b X_{i} + g D_{i} + e_{i}\n",
    "$$\n",
    "\n",
    "is\n",
    "\n",
    "$$\n",
    "    g = \\gamma + \\delta \\mathbb{E}[X_{i}].\n",
    "$$\n",
    "\n",
    "For our synthetic data, see that $\\gamma = 2$, $\\delta = 1.5$, and recall that because we are using $X_{i}$ shifted forward by $2.5$ when the original $\\mathbb{E}[X_{i}] = 0$, for this exercise we have $\\mathbb{E}[X_{i}] = 2.5$. We can now do the computation:"
   ]
  },
  {
   "cell_type": "code",
   "execution_count": 27,
   "id": "292187f5-1a96-4e70-9f7e-77100d39a5a9",
   "metadata": {},
   "outputs": [
    {
     "name": "stdout",
     "output_type": "stream",
     "text": [
      "$`OVB Theory`\n",
      "[1] 5.75\n",
      "\n",
      "$`OVB Estimate`\n",
      "[1] 5.772054\n",
      "\n"
     ]
    }
   ],
   "source": [
    "print(\n",
    "    list('OVB Theory' = 2 + 1.5 * 2.5, 'OVB Estimate' = 2.028 + 1.502 * mean(sim.data$A))\n",
    ")"
   ]
  },
  {
   "cell_type": "markdown",
   "id": "fe685fe9-55fe-4d5b-95dd-767f5b457ab8",
   "metadata": {},
   "source": [
    "### Final Notes about OVB\n",
    "\n",
    "These numbers basically match the biased estimate in the third column. You can do even more math to figure out how the biased estimators in the first two columns are computed but it is for our purposes not necessary. The principal message to take away here is that even when you do observe all relevant variables, mispecifying the relationship between the variables can also cause omitted variables bias. This does not have to come from only interaction terms. Including variables using the wrong functional forms can also cause bias, e.g. using linear instead of quadratic or levels instead of logs."
   ]
  },
  {
   "cell_type": "markdown",
   "id": "6c68aaae-0be9-49f4-9b5f-fc841bd3b754",
   "metadata": {},
   "source": [
    "## Exercise Set 4: Running Regressions for your Project\n",
    "\n",
    "The rest of this exercise guides you through doing regressions for your Project."
   ]
  },
  {
   "cell_type": "markdown",
   "id": "7857b20d-c303-42e4-810c-d15683e89baf",
   "metadata": {},
   "source": [
    "### Part 1: What are your Variables?\n",
    "\n",
    "First, load your data and describe what variables you intend to use."
   ]
  },
  {
   "cell_type": "code",
   "execution_count": 28,
   "id": "c7e1aa4b-cd48-4d31-bd5d-c52f46dc3cd6",
   "metadata": {},
   "outputs": [
    {
     "name": "stderr",
     "output_type": "stream",
     "text": [
      "Warning message:\n",
      "“package ‘haven’ was built under R version 4.1.3”\n"
     ]
    }
   ],
   "source": [
    "library(haven)"
   ]
  },
  {
   "cell_type": "code",
   "execution_count": 29,
   "id": "f33117ba-0f8b-4991-a417-5858711e6f25",
   "metadata": {},
   "outputs": [],
   "source": [
    "prj.data <- 'load your data with the appropriate command'"
   ]
  },
  {
   "cell_type": "code",
   "execution_count": 30,
   "id": "4dda5332-88f8-4ca3-a86d-759f72a25276",
   "metadata": {},
   "outputs": [],
   "source": [
    "prj.data <- 'do any necessary data cleaning and processing'"
   ]
  },
  {
   "cell_type": "code",
   "execution_count": 31,
   "id": "04d2a333-a35b-4bb3-8364-4a7bc85c8ce2",
   "metadata": {},
   "outputs": [
    {
     "name": "stdout",
     "output_type": "stream",
     "text": [
      "\n",
      "=================================\n",
      "Statistic N Mean St. Dev. Min Max\n",
      "=================================\n"
     ]
    }
   ],
   "source": [
    "stargazer(\n",
    "    data.frame(prj.data),\n",
    "    type = 'text'\n",
    ")"
   ]
  },
  {
   "cell_type": "markdown",
   "id": "572aabce-4d01-4f78-a151-b8923c01284d",
   "metadata": {},
   "source": [
    "### Part 2: Run a Simple Regression\n",
    "\n",
    "Always start simple and see what the simple linear relationship between your outcome and treatment variable is."
   ]
  },
  {
   "cell_type": "code",
   "execution_count": 32,
   "id": "10ced135-a9a9-4bd4-bab3-b10d258a863c",
   "metadata": {},
   "outputs": [
    {
     "name": "stdout",
     "output_type": "stream",
     "text": [
      "\n",
      "======================\n",
      "fill in the lm command\n",
      "----------------------\n"
     ]
    }
   ],
   "source": [
    "reg.mod.1 <- 'fill in the lm command'\n",
    "stargazer(\n",
    "    reg.mod.1,\n",
    "    type = 'text'\n",
    ")"
   ]
  },
  {
   "cell_type": "markdown",
   "id": "7c38e160-bffc-4185-b678-896ffb749889",
   "metadata": {},
   "source": [
    "### Part 3: Gradually Increase the Complexity\n",
    "\n",
    "Now that we have an established base fact, start adding control variables that you think may be useful."
   ]
  },
  {
   "cell_type": "code",
   "execution_count": 33,
   "id": "59a845f3-a07a-4e48-ac0e-b51c22957a05",
   "metadata": {},
   "outputs": [
    {
     "name": "stdout",
     "output_type": "stream",
     "text": [
      "\n",
      "======================\n",
      "fill in the lm command\n",
      "----------------------\n",
      "\n",
      "===========================\n",
      "add a control to your model\n",
      "---------------------------\n",
      "\n",
      "=================================\n",
      "add another control to your model\n",
      "---------------------------------\n"
     ]
    }
   ],
   "source": [
    "reg.mod.2 <- 'add a control to your model'\n",
    "reg.mod.3 <- 'add another control to your model'\n",
    "reg.mod.4 <- 'add yet another control to your model'\n",
    "reg.mod.5 <- 'continue creating models with more controls as needed and remember to add them to stargazer to compare model estimates!'\n",
    "stargazer(\n",
    "    reg.mod.1,\n",
    "    reg.mod.2,\n",
    "    reg.mod.3,\n",
    "    type = 'text'\n",
    ")"
   ]
  },
  {
   "cell_type": "markdown",
   "id": "0da54f50-6d60-42c1-a3b7-a009f8a6b9c4",
   "metadata": {},
   "source": [
    "### Part 4: Interpret Your Results\n",
    "\n",
    "Do a write-up interpreting your results. If you are lost on what to discuss, here are some tips:\n",
    "\n",
    "1. What do the plain coefficients actually mean about the relationship between your outcome and control variables?\n",
    "2. Which coefficients are statistically significant? What does this mean?\n",
    "3. Does your treatment variable coefficient change as you add more controls? What does this mean?\n",
    "4. Taken as a whole, what story do these estimates tell us about your outcome variable?"
   ]
  },
  {
   "cell_type": "markdown",
   "id": "cabb113b-7e1f-4090-a0a8-a00d33009656",
   "metadata": {},
   "source": [
    "### Part 5: Export Your Results\n",
    "\n",
    "The text format output of `stargazer` is great for viewing in a Notebook but less so when writing academic reports of the standard expected of Economics undergraduates. Instead, and since most of you have expressed that you do not know `LaTeX` and are not especially keen on learning, we do the following:\n",
    "\n",
    "1. Have `stargazer` export the results in HTML format.\n",
    "2. Open the HTML file in your web browser.\n",
    "3. Copy the table into your Word document---Word automatically converts HTML tables into Word format tables."
   ]
  },
  {
   "cell_type": "code",
   "execution_count": 34,
   "id": "dc566410-51ff-4286-bf62-21e4b032de11",
   "metadata": {},
   "outputs": [
    {
     "name": "stdout",
     "output_type": "stream",
     "text": [
      "\n",
      "<table style=\"text-align:center\"><tr><td colspan=\"1\" style=\"border-bottom: 1px solid black\"></td></tr><tr><td>add all regression results that you want to export</td></tr>\n",
      "<tr><td colspan=\"1\" style=\"border-bottom: 1px solid black\"></td></tr></table>\n"
     ]
    }
   ],
   "source": [
    "stargazer(\n",
    "    'add all regression results that you want to export',\n",
    "    type = 'html',\n",
    "    out = 'prj_ols_reg_out.html',\n",
    "    out.header = TRUE\n",
    ")"
   ]
  }
 ],
 "metadata": {
  "kernelspec": {
   "display_name": "R",
   "language": "R",
   "name": "ir"
  },
  "language_info": {
   "codemirror_mode": "r",
   "file_extension": ".r",
   "mimetype": "text/x-r-source",
   "name": "R",
   "pygments_lexer": "r",
   "version": "4.1.1"
  }
 },
 "nbformat": 4,
 "nbformat_minor": 5
}
