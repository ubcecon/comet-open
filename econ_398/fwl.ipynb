{
 "cells": [
  {
   "cell_type": "markdown",
   "id": "d1cb3728-5d3d-4549-bd1e-a87d01beafa1",
   "metadata": {
    "tags": []
   },
   "source": [
    "# Extra: Frisch-Waugh-Lovell Theorem\n",
    "\n",
    "**For the purposes of ECON-398, you do not need to know this. This is for those who would like a slightly deeper understanding of how Linear Regression works**\n",
    "\n",
    "Recall from the notes that multiple regression models can in general be decomposed to a series of simpler regression models. This is the result of the Frisch-Waugh-Lovell Theorem, which shows us exactly what kinds of variation in the data goes into estimating each parameter. In practical terms, you verify that this works as described by running the models as suggested by the FWL Theorem."
   ]
  },
  {
   "cell_type": "markdown",
   "id": "6ac68dc5-6f46-403e-8187-049a1ee1f5c1",
   "metadata": {},
   "source": [
    "## Load Data\n",
    "\n",
    "Just like the last lesson on summary statistics, I am going to use simulated data in this lesson. In particular, certain concepts are easier to demonstrate when the data is synthetic, so that the true Data Generating Process (DGP) is known."
   ]
  },
  {
   "cell_type": "code",
   "execution_count": 1,
   "id": "32289294-2f0b-4f2b-8434-d5dc8ed012b3",
   "metadata": {},
   "outputs": [
    {
     "name": "stderr",
     "output_type": "stream",
     "text": [
      "── \u001b[1mAttaching packages\u001b[22m ─────────────────────────────────────── tidyverse 1.3.1 ──\n",
      "\n",
      "\u001b[32m✔\u001b[39m \u001b[34mggplot2\u001b[39m 3.3.6     \u001b[32m✔\u001b[39m \u001b[34mpurrr  \u001b[39m 0.3.4\n",
      "\u001b[32m✔\u001b[39m \u001b[34mtibble \u001b[39m 3.1.8     \u001b[32m✔\u001b[39m \u001b[34mdplyr  \u001b[39m 1.0.9\n",
      "\u001b[32m✔\u001b[39m \u001b[34mtidyr  \u001b[39m 1.2.0     \u001b[32m✔\u001b[39m \u001b[34mstringr\u001b[39m 1.4.0\n",
      "\u001b[32m✔\u001b[39m \u001b[34mreadr  \u001b[39m 2.1.2     \u001b[32m✔\u001b[39m \u001b[34mforcats\u001b[39m 0.5.1\n",
      "\n",
      "Warning message:\n",
      "“package ‘ggplot2’ was built under R version 4.1.3”\n",
      "Warning message:\n",
      "“package ‘tidyr’ was built under R version 4.1.2”\n",
      "Warning message:\n",
      "“package ‘readr’ was built under R version 4.1.2”\n",
      "Warning message:\n",
      "“package ‘dplyr’ was built under R version 4.1.3”\n",
      "── \u001b[1mConflicts\u001b[22m ────────────────────────────────────────── tidyverse_conflicts() ──\n",
      "\u001b[31m✖\u001b[39m \u001b[34mdplyr\u001b[39m::\u001b[32mfilter()\u001b[39m masks \u001b[34mstats\u001b[39m::filter()\n",
      "\u001b[31m✖\u001b[39m \u001b[34mdplyr\u001b[39m::\u001b[32mlag()\u001b[39m    masks \u001b[34mstats\u001b[39m::lag()\n",
      "\n",
      "Warning message:\n",
      "“package ‘stargazer’ was built under R version 4.1.2”\n",
      "\n",
      "Please cite as: \n",
      "\n",
      "\n",
      " Hlavac, Marek (2022). stargazer: Well-Formatted Regression and Summary Statistics Tables.\n",
      "\n",
      " R package version 5.2.3. https://CRAN.R-project.org/package=stargazer \n",
      "\n",
      "\n"
     ]
    }
   ],
   "source": [
    "library(tidyverse)\n",
    "library(stargazer)"
   ]
  },
  {
   "cell_type": "markdown",
   "id": "9b4c8700-619b-4ff1-b131-999f65e08c89",
   "metadata": {},
   "source": [
    "### Generating Correlated Random Variables\n",
    "\n",
    "The base of synthetic data starts with random variables generated with a particular desired covariance structure. The simplest case uses a multivariate Normal distribution due to its nice joint and marginal distribution properties. There are tools available to generate correlated random variables with other distributions, but those are beyond the scope of this course.\n",
    "\n",
    "For this lesson, it is not necessary for variables to have specific meanings. I will assign the variables names corresponding to letters we use when teaching the theory in the course."
   ]
  },
  {
   "cell_type": "code",
   "execution_count": 2,
   "id": "d66e3ca4-6c4a-4c35-b603-56f4054ef777",
   "metadata": {},
   "outputs": [],
   "source": [
    "set.seed(998)\n",
    "sim.data = matrix(rnorm(25000, 0, 1), 5000, 5, FALSE)\n",
    "sim.data <- sim.data %*% chol(matrix(\n",
    "    c(1, 0, .5, .25, 0,\n",
    "     0, 1, .6, .1, 0,\n",
    "     .5, .6, 1, .4, 0,\n",
    "     .25, .1, .4, 1, 0,\n",
    "     0, 0, 0, 0, 1),\n",
    "    5, 5, TRUE))\n",
    "colnames(sim.data) <- c('D', 'X', 'W', 'Z', 'e')\n",
    "sim.data <- as_tibble(sim.data)"
   ]
  },
  {
   "cell_type": "markdown",
   "id": "a9bfc665-4200-4c5e-ac33-e26216a1d4c9",
   "metadata": {},
   "source": [
    "### Modifying the Random Variables to Desired Types\n",
    "\n",
    "For our purposes here, we require one binary variable, one categorical variable with more than $2$ categories, and one continuous variable. To adhere as closely to course terminology as possible, `D` will be the binary variable, `W` the categorical variable, and `X` and `Z` continuous variables. "
   ]
  },
  {
   "cell_type": "code",
   "execution_count": 3,
   "id": "6d93e977-519e-49e7-b21e-56cb4bb851de",
   "metadata": {},
   "outputs": [],
   "source": [
    "sim.data <- sim.data %>%\n",
    "    mutate(\n",
    "        D = if_else(D > 0, 1, 0),\n",
    "        W = as_factor(ntile(W, 5))\n",
    "    )"
   ]
  },
  {
   "cell_type": "markdown",
   "id": "c0ca5999-8789-46b7-9e9a-d9f531afd84c",
   "metadata": {},
   "source": [
    "### Generating the Outcome Variable\n",
    "\n",
    "I manually define the outcome variable so that I know the true parameters of the CEF of the outcome variable. Keep this in mind as we look at regression outputs later. Notice that despite generating $4$ variables I use only $3$ variables to define the CEF. This is not a mistake and in a future lesson the purpose of `Z` will be made clear."
   ]
  },
  {
   "cell_type": "code",
   "execution_count": 4,
   "id": "caaee14e-99f1-4f3f-9785-763dd4febaf9",
   "metadata": {},
   "outputs": [],
   "source": [
    "sim.data <- sim.data %>%\n",
    "    mutate(\n",
    "        Y = .25 + 3 * D + .5 * X + .4 * (W == 2) + .7 * (W == 3) + 1.3 * (W == 4) + 1.9 * (W == 5) + e\n",
    "    )"
   ]
  },
  {
   "cell_type": "markdown",
   "id": "4b11c40d-9588-407b-8f6d-f2619044ce66",
   "metadata": {},
   "source": [
    "### Summary Statistics\n",
    "\n",
    "I report a summary of the data here. I could also use `summarize` or `stargazer`, but this is sufficient for my purposes since this notebook is about teaching how linear regression works in practice and not how to execute a full data analysis pipeline."
   ]
  },
  {
   "cell_type": "code",
   "execution_count": 5,
   "id": "a8400389-5f08-4b17-8f79-d3ad43e894ec",
   "metadata": {},
   "outputs": [
    {
     "data": {
      "text/plain": [
       "       D                X             W              Z            \n",
       " Min.   :0.0000   Min.   :-3.688439   1:1000   Min.   :-3.703643  \n",
       " 1st Qu.:0.0000   1st Qu.:-0.716236   2:1000   1st Qu.:-0.686461  \n",
       " Median :1.0000   Median : 0.009939   3:1000   Median : 0.009768  \n",
       " Mean   :0.5054   Mean   :-0.007287   4:1000   Mean   :-0.003324  \n",
       " 3rd Qu.:1.0000   3rd Qu.: 0.685444   5:1000   3rd Qu.: 0.681739  \n",
       " Max.   :1.0000   Max.   : 3.675470            Max.   : 3.542278  \n",
       "       e                   Y          \n",
       " Min.   :-3.517587   Min.   :-3.4588  \n",
       " 1st Qu.:-0.690418   1st Qu.: 0.7849  \n",
       " Median : 0.006281   Median : 2.5836  \n",
       " Mean   :-0.012897   Mean   : 2.6097  \n",
       " 3rd Qu.: 0.671192   3rd Qu.: 4.4280  \n",
       " Max.   : 3.381951   Max.   : 8.6636  "
      ]
     },
     "metadata": {},
     "output_type": "display_data"
    }
   ],
   "source": [
    "summary(sim.data)"
   ]
  },
  {
   "cell_type": "markdown",
   "id": "91f8b29b-2f70-40e3-a7e6-a4ff0e0ca701",
   "metadata": {
    "tags": []
   },
   "source": [
    "## The Theorem in Practice\n",
    "\n",
    "Suppose I want to estimate\n",
    "\n",
    "$$\n",
    "    Y_{i} = \\alpha + \\delta D_{i} + \\beta X_{i} + e_{i}.\n",
    "$$\n",
    "\n",
    "If I am interested in only $\\beta$, the FWL Theorem says that I can decompose this procedure into three steps:\n",
    "\n",
    "1. First,\n",
    "$$\n",
    "    Y_{i} = \\zeta_{0} + \\zeta_{1} D_{i} + U_{i}.\n",
    "$$\n",
    "2. Second,\n",
    "$$\n",
    "    D_{i} = \\eta_{0} + \\eta_{1} D_{i} + V_{i}.\n",
    "$$\n",
    "3. Third,\n",
    "$$\n",
    "    U_{i} = \\gamma + \\beta V_{i} + \\xi_{i}.\n",
    "$$"
   ]
  },
  {
   "cell_type": "code",
   "execution_count": 35,
   "id": "0f373955-440e-4d23-b715-76367378549f",
   "metadata": {},
   "outputs": [],
   "source": [
    "sim.data <- sim.data %>%\n",
    "    mutate(\n",
    "        U = resid(lm(Y ~ D, data = .)),\n",
    "        V = resid(lm(X ~ D, data = .))\n",
    "    )"
   ]
  },
  {
   "cell_type": "code",
   "execution_count": 36,
   "id": "2ab73ac2-6289-44a6-a6de-480764e41456",
   "metadata": {},
   "outputs": [
    {
     "name": "stdout",
     "output_type": "stream",
     "text": [
      "\n",
      "================================================\n",
      "                        Dependent variable:     \n",
      "                    ----------------------------\n",
      "                          Y              U      \n",
      "                         (1)            (2)     \n",
      "------------------------------------------------\n",
      "D                      3.544***                 \n",
      "                       (0.032)                  \n",
      "                                                \n",
      "X                      0.854***                 \n",
      "                       (0.015)                  \n",
      "                                                \n",
      "V                                    0.854***   \n",
      "                                      (0.015)   \n",
      "                                                \n",
      "Constant               0.825***       -0.000    \n",
      "                       (0.023)        (0.016)   \n",
      "                                                \n",
      "------------------------------------------------\n",
      "Observations            5,000          5,000    \n",
      "R2                      0.755          0.382    \n",
      "Adjusted R2             0.755          0.382    \n",
      "Residual Std. Error     1.123          1.123    \n",
      "F Statistic          7,702.292***  3,084.804*** \n",
      "================================================\n",
      "Note:                *p<0.1; **p<0.05; ***p<0.01\n"
     ]
    }
   ],
   "source": [
    "stargazer(\n",
    "    sim.data %>%\n",
    "        lm(Y ~ D + X, data = .),\n",
    "    sim.data %>%\n",
    "        lm(U ~ V, data = .),\n",
    "    type = 'text', df = FALSE)"
   ]
  },
  {
   "cell_type": "markdown",
   "id": "ee07435a-84dd-4b56-8307-7bda585b9bd7",
   "metadata": {},
   "source": [
    "### What does FWL tell us?\n",
    "\n",
    "The key lesson that FWL teaches is that in a linear regression, the coefficient on each variable depends on the correlation in the residual variation of that variable and the outcome variable that are not already explained by other variables. This is what is known as identifying variation in statistics: what features of your data actually lead to the results that you see?"
   ]
  }
 ],
 "metadata": {
  "kernelspec": {
   "display_name": "R",
   "language": "R",
   "name": "ir"
  },
  "language_info": {
   "codemirror_mode": "r",
   "file_extension": ".r",
   "mimetype": "text/x-r-source",
   "name": "R",
   "pygments_lexer": "r",
   "version": "4.1.1"
  }
 },
 "nbformat": 4,
 "nbformat_minor": 5
}
