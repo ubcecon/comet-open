{
 "cells": [
  {
   "cell_type": "markdown",
   "id": "29107194-9f60-450f-bb24-a2c5a76096d4",
   "metadata": {},
   "source": [
    "![Comet Banner](media/banner_1.png)"
   ]
  },
  {
   "cell_type": "markdown",
   "id": "c308d86a-c286-4181-a6a9-b88510566c22",
   "metadata": {
    "tags": []
   },
   "source": [
    "# <span style=\"color:#CC7A00\">**C • O • M • E • T**</span> \n",
    "### Next Generation Project: Enriching Our Learning Materials for Future Users and Developers"
   ]
  },
  {
   "cell_type": "markdown",
   "id": "edf6edc1-d9ea-41f6-b1cc-b8a6986dda40",
   "metadata": {},
   "source": [
    "White board notes from in-person meeting and brainstorming session on June 28th 2022:"
   ]
  },
  {
   "cell_type": "markdown",
   "id": "1ee63820-eb30-453e-9cf5-0fd486721147",
   "metadata": {},
   "source": [
    "![Brainstorming from June 28th](media/future.jpg)"
   ]
  },
  {
   "cell_type": "markdown",
   "id": "de6ffb15-86a1-4df7-9737-184db7eb2118",
   "metadata": {
    "tags": []
   },
   "source": [
    "### 🟠 Inviting Criticality \n",
    "#### Anneke Dresselhuis\n",
    "**How can we invite students to develop critical thinking and critical question development skills around the interplay of power relations that are pervasive in economic and econometric work?**\n",
    "\n",
    "> This initiative proposes a return to pre-exisiting COMET learning materials with a critical second look at aspects of notebook content that could be problematized or otherwise articulated in a manner that invites and celebrates nuance and multiplicity.\n",
    "\n",
    "Recognizing that grasping and applying critical sociological theory is not a primary learning outcome for ECON 325/326/490, this initiative would seek to inspire introductory-level critical thinking and invite students to develop **more** questions rather than teach, explain or answer questions of how, for example, notions of race/class/gender/sexuality/ability/nationality intersect with and are reproduced in data work. Prompting students into deeper levels of thinking could look like frequently linking resources for students to learn more about equity, diversity and inclusion practices in data science and short \"pop up\" boxes (like the one below) which could guide students through evocative questions that prompt criticality and ethicality.\n",
    "\n",
    "_The following \"Let's think critically\" pop-up is taken from ECON 325's \"Introdution to Visualization 2\" Notebook (Anneke Dresselhuis) after the concept of x and y axis scale adjusting functions are introduced._"
   ]
  },
  {
   "cell_type": "markdown",
   "id": "878e34af-130f-4e7a-8eba-766e967117a0",
   "metadata": {},
   "source": [
    "![An example of prompting questions that invite criticality](media/inviting_criticality_example.png)"
   ]
  },
  {
   "cell_type": "markdown",
   "id": "70e65a01-d87d-4536-8c6c-308b9a2b212c",
   "metadata": {},
   "source": [
    "**Actionables**\n",
    "1. Develop and implement an introduction to \"Let's think critically\" pop-up boxes in 1st (or at least at the early stages of) course notebooks to invite students to watch out for critical thinking moments throughout their learning\n",
    "   1. _(adjusted for each course? - or would we only need one for ECON 325?)_\n",
    "1. Revisit each completed notebook and propose pop-up box locations (discuss with original notebook authors)\n",
    "1. Implement pop-up interventions\n",
    "1. Submit for review\n",
    "1. Develop style guide in COMET gitlab project wiki for aesthetic replicability of these pop-up boxes (font colours, length, etc) and best practices for where to integrate them into learning "
   ]
  },
  {
   "cell_type": "markdown",
   "id": "421b1055-0de8-4169-b929-c3bdbbd4fb55",
   "metadata": {},
   "source": [
    "### 🟠 Revisiting Learning Objectives\n",
    "#### [your name]\n",
    "**How can we develop learning objectives that are more precise and meaningful for student learning? How can LO's leverage the industry-relevant concepts and terms that students need for job applications?**\n",
    "\n",
    "> This initiative proposes a return to pre-exisiting COMET learning materials to re-visit, edit and generate suggestions for ways in which learning objectives can be more clearly articulated (ie, action-oriented, located with course objectives, informed by industry relevance etc), following the amazing pedogical presentation given by Judy Chan from the CTLC. This [new faculty guide](https://wiki.ubc.ca/images/7/71/Faculty_Guide_2010.pdf) (particularly pages 45-52) might be a helpful place to refresh on modalities of learning and learning evaluation.\n",
    "\n",
    "**Actionables**\n",
    "1. thing to do 1\n",
    "1. thing to do 2\n",
    "\n",
    "_Anneke's notes from the CTLC Talk_:"
   ]
  },
  {
   "cell_type": "markdown",
   "id": "e0bbe5fc-c867-4324-a49e-0bc9a66451f2",
   "metadata": {},
   "source": [
    "![Notes on Learning Outcome pedagogy from CTLC Talk on July 28th 2022](media/Anneke_CTLC_presentation_notes.png)"
   ]
  },
  {
   "cell_type": "markdown",
   "id": "5660814e-2a24-4a9f-bd17-eb0e360e0776",
   "metadata": {},
   "source": [
    "### 🟠 Helping Students Build Data Science Portfolios\n",
    "#### [your name]\n",
    "**How can the COMET learning materials (including related projects and assessments from ECON 325,326 and 490) equip students with the necessary skills to build an online portfolio of their work and workflows on platforms such as github? Should we create an additional JupyterNotebook (or series of notebooks) that could walk students through students through how to set up a portfolio? How can we understand what employers are looking for in a portfolio - and how students can signal their applied skills on their resumes or in an interview?**\n",
    "\n",
    "> This initiative proposes ...\n",
    "\n",
    "Some ideas:\n",
    "* [text]\n",
    "\n",
    "**Actionables**\n",
    "* thing to do 1\n",
    "* thing to do 2"
   ]
  },
  {
   "cell_type": "markdown",
   "id": "58fe4e2e-0457-459b-a524-41b3932e6ca0",
   "metadata": {},
   "source": [
    "### 🟠 Revisiting Assesments\n",
    "#### [your name]\n",
    "**How can learning assessments be improved? How can we equip students (in a hands-on sense) with a deeper understandings of what is happening in a block of code?**\n",
    "\n",
    "> This initiative proposes a return to pre-exisiting COMET learning materials in order to prioritize assessment/evaluation approaches that invite students to identify mistakes in code, fill out code themselves and develop trouble-shooting skills with the ultimate goal of equipping students with more confidence and agency in their econometrics skills.\n",
    "\n",
    "**Actionables**\n",
    "* thing to do 1\n",
    "* thing to do 2"
   ]
  },
  {
   "cell_type": "markdown",
   "id": "5f2f1cb5-b48f-486e-a2a4-4f2cf327e421",
   "metadata": {},
   "source": [
    "### 🟠 Operation: Accessibility\n",
    "#### [your name]\n",
    "**How can we ensure that the COMET project products/resources are available to students and the general public in an accessible manner? What improvements to the notebooks themselves can be made to improve accessibility? What can we do to prevent COMET project output from disappearing into the ether in 5 years? What might democratization and sustainability look like here?**\n",
    "\n",
    "> This initiative proposes ...\n",
    "\n",
    "Some ideas:\n",
    "* Audit alt text on every media file for alignment to [ACA compliance](https://www.canada.ca/en/employment-social-development/programs/accessible-canada.html) standards\n",
    "* Put Notebooks together as open source Github Textbook?\n",
    "* Research and distribute to audiences who could benefit: community colleges, job-finding agencies?\n",
    "\n",
    "**Actionables**\n",
    "* thing to do 1\n",
    "* thing to do 2"
   ]
  },
  {
   "cell_type": "code",
   "execution_count": null,
   "id": "1d092079-593e-4013-9539-882a1f34d702",
   "metadata": {},
   "outputs": [],
   "source": []
  }
 ],
 "metadata": {
  "kernelspec": {
   "display_name": "R",
   "language": "R",
   "name": "ir"
  },
  "language_info": {
   "codemirror_mode": "r",
   "file_extension": ".r",
   "mimetype": "text/x-r-source",
   "name": "R",
   "pygments_lexer": "r",
   "version": "4.1.2"
  }
 },
 "nbformat": 4,
 "nbformat_minor": 5
}
