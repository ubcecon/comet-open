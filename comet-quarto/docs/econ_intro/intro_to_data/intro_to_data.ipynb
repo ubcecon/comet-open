{
 "cells": [
  {
   "cell_type": "markdown",
   "id": "1b4476c6-6b38-45a8-b859-26ff308e1197",
   "metadata": {},
   "source": [
    "# Introduction to Data\n",
    "\n",
    "* **Authors**: COMET Team (Valeria Zolla, Colby Chamber, Colin Grimes, Jonathan Graves)\n",
    "* **Last Update**: 10 August 2022\n",
    "___"
   ]
  },
  {
   "cell_type": "markdown",
   "id": "f0ce8c06-d6b9-4fd2-ac62-8775ab622d97",
   "metadata": {},
   "source": [
    "## Outline \n",
    "### Prerequisites\n",
    "\n",
    "* Introduction to Jupyter\n",
    "* Introduction to R \n",
    "\n",
    "### Outcomes\n",
    "\n",
    "After completing this notebook, you will be able to:\n",
    "\n",
    "* Identify and understand the packages and commands needed to load, manipulate, and combine data frames in R\n",
    "* Load data using R in a variety of forms\n",
    "* Create and reformat data, including transforming data into factor variables\n",
    "* Handle missing data\n",
    "* Select subsets of the data set for use\n",
    "* Combine and append data\n",
    "\n",
    "### References\n",
    "\n",
    "* [Introduction to Probability and Statistics Using R](https://mran.microsoft.com/snapshot/2018-09-28/web/packages/IPSUR/vignettes/IPSUR.pdf)\n",
    "* [DSCI 100 Textbook](https://datasciencebook.ca/index.html)"
   ]
  },
  {
   "cell_type": "code",
   "execution_count": null,
   "id": "10d37930-75f5-4c64-b961-72525fdf4d2f",
   "metadata": {},
   "outputs": [],
   "source": [
    "# Run this cell\n",
    "\n",
    "source(\"intro_to_data_tests.r\")"
   ]
  },
  {
   "cell_type": "markdown",
   "id": "5abab0f5-6a26-4486-973c-bd6161665fab",
   "metadata": {},
   "source": [
    "We will start this notebook by focusing on loading and cleaning up our data-set: these are **fundamental** skills which will be necessary for essentially every data project we will do.  This process usually consists of three steps:\n",
    "\n",
    "1.  We load the data into R, meaning we take a file on our computer (or the web) and tell R how to interpret it.\n",
    "2.  We clean up the data by removing missing variables or adjusting the way they are interpreted.\n",
    "3.  We select and filter the data into an appropriate dataset for our project, which can involve creating or deleting variables or observations.\n",
    "\n",
    "In this notebook, we will cover each of these three steps in detail. Let's start by looking at the loading process.\n",
    "\n",
    "## Loading Data\n",
    "\n",
    "Remember, before we can load the data we need to tell R what **packages** we will be using in the notebook. Without these packages, R will not have access to the appropriate functions needed to interpret our raw data. As explained in the previous lesson, packages only need to be installed once; however, they need to be imported every time we open a notebook.\n",
    "\n",
    "We have discussed packages previously: for data loading, the two most important ones are `tidyverse` and `haven`.\n",
    "* `tidyverse` should already be somewhat familiar. It includes a wide range of useful functions for working with data in R.\n",
    "* `haven` is a special package containing functions that can be used to import data.\n",
    "\n",
    "Let's get started by loading them now."
   ]
  },
  {
   "cell_type": "code",
   "execution_count": null,
   "id": "2f7c8a4a-254f-403b-8ac4-8298c7a192da",
   "metadata": {},
   "outputs": [],
   "source": [
    "# loading in our packages\n",
    "library(tidyverse)\n",
    "library(haven)"
   ]
  },
  {
   "cell_type": "markdown",
   "id": "ab43d07c-1ef3-42ac-ab44-510471b2b9ac",
   "metadata": {},
   "source": [
    "Data can be created by different programs and stored in different styles - these are called **file types**. We can usually tell what kind of file type we are working with by looking at the extension.  For example, a text file usually has an extension like `.txt`.  The data we will be using in this course is commonly stored in STATA, Excel, text, or comma-separated variables files.  These have the following types:\n",
    "\n",
    "* `.dta` for a STATA data file\n",
    "* `.xls` or `.xlsx` for an Excel file\n",
    "* `.txt` for a text file\n",
    "* `.csv` for a comma-separated variables file\n",
    "\n",
    "To load any dataset, we need to use the appropriate function so that R can read the dataset correctly. \n",
    "\n",
    "- To load a `.csv` file we use the command `read_csv(\"file name\")`\n",
    "- To load a STATA file we use the command `read_dta(\"file name\")`\n",
    "- To load an Excel file we the command `read_excel(\"file name\")`\n",
    "- To load a text file we use the command `read_table(\"file name\", header = FALSE)`.\n",
    "  - The header argument specifies whether or not we have specified column names in our data file. \n",
    "  \n",
    "> **Note:** if we are using an Excel file, we need to load in the package `readxl` alongside the `tidyverse` and `haven` packages above to read the file.\n",
    "\n",
    "In this notebook, we will be working with data from the Canadian census which is stored as `01_census2016.dta`.  "
   ]
  },
  {
   "cell_type": "markdown",
   "id": "67a02b5e-380f-44f4-b634-754200ad97da",
   "metadata": {},
   "source": [
    "#### Exercise: Load in the Dataset\n",
    "\n",
    "Which function should we use to load this file? Write the name of the function just before the brackets (e.g. `read_table`)"
   ]
  },
  {
   "cell_type": "code",
   "execution_count": null,
   "id": "f4b9336b-7095-4a4c-adca-4eac77d7b724",
   "metadata": {},
   "outputs": [],
   "source": [
    "# which function should we use?\n",
    "\n",
    "answer0 <- \"...\"\n",
    "\n",
    "test_0()"
   ]
  },
  {
   "cell_type": "markdown",
   "id": "274e4c5a-cd15-473b-ad38-d365185178cb",
   "metadata": {},
   "source": [
    "Did you get it?  Okay, now replace the `...` in the code below with that function to load the data!"
   ]
  },
  {
   "cell_type": "code",
   "execution_count": null,
   "id": "22d03ad3-212a-4d9b-b5e8-460d9923aa8a",
   "metadata": {
    "tags": []
   },
   "outputs": [],
   "source": [
    "# reading in the data\n",
    "census_data <- ??(\".../datasets/01_census2016.dta\")  # change me!\n",
    "\n",
    "# inspecting the data\n",
    "glimpse(census_data)"
   ]
  },
  {
   "cell_type": "markdown",
   "id": "f62b134e-3cbb-4a64-a471-e964004c9617",
   "metadata": {},
   "source": [
    "## Cleaning Data\n",
    "Now that we've loaded our data, the next step is to do some rudimentary cleaning. This can include redefining and factorizing variables, defining new variables, and dropping missing observations."
   ]
  },
  {
   "cell_type": "markdown",
   "id": "24f488a6-dc83-47d3-82eb-05f664df5e9f",
   "metadata": {},
   "source": [
    "### Factor Variables"
   ]
  },
  {
   "cell_type": "markdown",
   "id": "ce175e3f-d536-4318-9995-45d7f67c4e82",
   "metadata": {},
   "source": [
    "We have already seen that there are different types of variables which can be stored in R. Namely, there are quantitative variables and qualitative variables. Any quantitative variable can be stored in R as a set of strings or letters. These are known as **character** variables. Qualitative variables can also be stored in R as factor variables. Factor variables will associate a qualitative response to a categorical value, making analysis much easier. Additionally, data is often **encoded** which means that the levels of a qualitative variable have been represented by \"codes\", usually in numeric form.\n",
    "\n",
    "Look at line `pr` in the output from `glimpse` above:\n",
    "\n",
    "```\n",
    "pr      <dbl+lbl> 35, 35, 11, 24, 35, 35, 35, 10, 35, 35, 59, 59, 46, 24, 59\n",
    "```\n",
    "\n",
    "The `pr` variable in the Census data stands for province.  Do these look much like Canadian provinces to you? This is an example of encoding.  We can also see the variable type is `<dbl+lbl>`: this is a _labeled double_. This is good: it means that R already understands what the levels of this variable mean.\n",
    "\n",
    "There are three similar ways to change variables into factor variables. \n",
    "\n",
    "1.  We can change a specific variable inside a dataframe to a factor by using the `as_factor` command"
   ]
  },
  {
   "cell_type": "code",
   "execution_count": null,
   "id": "8ece030e-a09b-4bf7-8b68-1df5cf8c3838",
   "metadata": {},
   "outputs": [],
   "source": [
    "census_data <- census_data %>%  #we start by saying we want to update the data, AND THEN... (%>%)\n",
    "    mutate(pr = as_factor(pr)) #mutate (update) pr to be a factor variable\n",
    "\n",
    "glimpse(census_data)"
   ]
  },
  {
   "cell_type": "markdown",
   "id": "f0d4d12f-81de-4b1b-b70c-2c0035ffdf62",
   "metadata": {},
   "source": [
    "Do you see the difference in the `pr` variable?  You can also see that the type has changed to `<fct>` for **factor variable**.\n",
    "\n",
    "The reason R was able to do this automatically is because the type was `<dbl+lbl>`; because of the information contained in the original dataset, R already knew how to \"decode\" the factor variables from the imported data.  But what if that wasn't the case?  This brings us to the next method.\n",
    "\n",
    "2.  We can **supply a list of factors** using the `factor` command.   This command takes two other values:\n",
    "    * A list of levels the qualitative variable will take on\n",
    "    * A list of labels, one for each level, which describes what each level means\n",
    "    \n",
    "Let's look at the `pkids` (has children) variable as an example. Let's suppose we didn't notice that it is of type `<dbl+lbl>` _or_ we decided we didn't like the built-in labels.  We can create a custom factor variable as follows:"
   ]
  },
  {
   "cell_type": "code",
   "execution_count": null,
   "id": "997953d6-56ba-4ac3-8a35-69de4771cb6b",
   "metadata": {},
   "outputs": [],
   "source": [
    "# first, we write down a list of levels\n",
    "kids_levels = c(0,1,9)\n",
    "\n",
    "# then, we write a list of our labels\n",
    "kids_labels = c('none', 'one or more', 'not applicable')\n",
    "\n",
    "# finally, we use the command but with some options - telling factor() how to interpret the levels\n",
    "\n",
    "census_data <- census_data %>%  # we start by saying we want to update the data, AND THEN... (%>%)\n",
    "    mutate(pkids = factor(pkids,   # notice the function is \"factor\", not \"as_factor\"\n",
    "                          levels = kids_levels, \n",
    "                          labels = kids_labels)) # mutate (update pkids) to be a factor of pkids\n",
    "glimpse(census_data)"
   ]
  },
  {
   "cell_type": "markdown",
   "id": "e09f0971-2b7c-490f-a589-954ba6792f5c",
   "metadata": {},
   "source": [
    "Again, do you see the difference here?  This is how we can customize factor labels when creating new variables.\n",
    "\n",
    "3.  The final method is very similar to the first; if we have a large dataset, it can be tiresome to decode all of the variables one-by-one.  Instead, we can use `as_factor` on the **entire dataset** and it will convert all of the variables with appropriate types."
   ]
  },
  {
   "cell_type": "code",
   "execution_count": null,
   "id": "a009a782-0c17-486c-9114-b4970139f849",
   "metadata": {},
   "outputs": [],
   "source": [
    "census_data <- as_factor(census_data)\n",
    "glimpse(census_data)"
   ]
  },
  {
   "cell_type": "markdown",
   "id": "a2895123-45da-41b0-97d3-75125fce00a1",
   "metadata": {},
   "source": [
    "This is our final dataset, all cleaned up! Notice that some of the variables (e.g. `ppsort`) were _not_ converted into factor variables.  \n",
    "\n",
    "> **Test Your Knowledge**: Can you tell why?"
   ]
  },
  {
   "cell_type": "markdown",
   "id": "86e14910-2966-40d3-b586-0405bf9463af",
   "metadata": {},
   "source": [
    "### Creating New Variables"
   ]
  },
  {
   "cell_type": "markdown",
   "id": "65a3c37a-db91-48bb-903f-764357de7c88",
   "metadata": {},
   "source": [
    "Another important clean-up task is to make new variables.  It's pretty uncommon for a data set to already contain all of the variables we want!\n",
    "\n",
    "To do this, we can use the `mutate` command again: in fact, when we were making factor variables earlier, we were, in a sense, already making new variables!  However, let's see how we can do something more complex.\n",
    "\n",
    "As we mentioned, to create any new variable we use the command `mutate`. This command is an efficient way of manipulating the columns of our data frame.  We supply to mutate a formula for creating the new variable:\n",
    "\n",
    "```\n",
    "census_data <- census_data %>%\n",
    "        mutate(new_variable_name = function(stuff...))\n",
    "```\n",
    "\n",
    "Let's see it in action with the `log()` function which we will use to create a new variable for the natural logarithm of wages. This can be quite useful for many models."
   ]
  },
  {
   "cell_type": "code",
   "execution_count": null,
   "id": "30ee4c06-4b3c-4088-b0f5-7212560f94b1",
   "metadata": {},
   "outputs": [],
   "source": [
    "census_data <- census_data %>%\n",
    "        mutate(log_wages = log(wages)) # the log function\n",
    "\n",
    "glimpse(census_data)"
   ]
  },
  {
   "cell_type": "markdown",
   "id": "313dce49-918b-4e1b-b563-f1be8683572c",
   "metadata": {},
   "source": [
    "Do you see our new variable at the bottom?  Nice!\n",
    "\n",
    "#### The `case_when` function\n",
    "\n",
    "We can also use more complex functions.  We won't cover all of them in this notebook, but we will mention one very important example: the `case_when` function.  This function creates different values for an input based on specified cases. You can read more about it by running the code block below."
   ]
  },
  {
   "cell_type": "code",
   "execution_count": null,
   "id": "cdcece2b-adc6-4ab7-b0b2-1ff1b9e7618d",
   "metadata": {},
   "outputs": [],
   "source": [
    "?case_when"
   ]
  },
  {
   "cell_type": "markdown",
   "id": "a7bc0f07-fa38-44cf-af49-12cd58511e2a",
   "metadata": {},
   "source": [
    "Essentially, this function consists of a series of lines, and each line gives (i) a case and (ii) a value for the case.\n",
    "> **Tip**: you can create a \"default\" case by using TRUE as the case in the last line.\n",
    "\n",
    "Suppose we are looking at our `pkids` variable and find it frustrating that it has three levels (`'none', 'one or more', 'not applicable'`).  We are interested in creating a dummy variable which is equal to one if the respondent has children and zero otherwise. Let's call it `has_kids`. We can use the `case_when()` function to achieve this!"
   ]
  },
  {
   "cell_type": "code",
   "execution_count": null,
   "id": "ad9f78d0-2ca5-4fe5-9997-0baab8f3dd01",
   "metadata": {},
   "outputs": [],
   "source": [
    "census_data <- census_data %>% \n",
    "    mutate(has_kids = case_when( # make a new variable, call it has_kids\n",
    "        pkids == \"none\" ~ 0, # case 1: pkids is \"none\"; output is 0 (no kids)\n",
    "        pkids == \"one or more\" ~ 1, # case 2: \"one or more\"; output is 1 (kids)\n",
    "        pkids == 'not applicable' ~ 0)) # case 2: \"not applicable\"; output is 0 (no kids)\n",
    "\n",
    "glimpse (census_data)"
   ]
  },
  {
   "cell_type": "markdown",
   "id": "9a8f66ef-d174-4816-b959-c1f0c777b822",
   "metadata": {},
   "source": [
    "Notice that `has_kids` is not a factor variable.  We have to add on the appropriate code to do that."
   ]
  },
  {
   "cell_type": "markdown",
   "id": "ad84b06d-15ad-4c0a-aa4a-5ac0814c0566",
   "metadata": {},
   "source": [
    "#### Exercise: Factorize `has_kids`\n",
    "\n",
    "Create an object, stored in `answer1`, in which the `census_data` data frame is identical to the one above but in which the `has_kids` variable is also in factor form."
   ]
  },
  {
   "cell_type": "code",
   "execution_count": null,
   "id": "9f30142f-933b-4e9c-ab7b-411e2cf8ea18",
   "metadata": {},
   "outputs": [],
   "source": [
    "answer1 <- census_data %>% \n",
    "                ... # fill me in!\n",
    "\n",
    "test_1()"
   ]
  },
  {
   "cell_type": "markdown",
   "id": "ce8453a5-7c4c-4a6c-905d-650aaab61002",
   "metadata": {},
   "source": [
    "#### More Complex Variables\n",
    "We can also create dummy variables from more complex variables. For example, we can create a dummy variable called `retired`. If the person is of retirement age then it will equal one. If they are younger than 65 (ie, not of retirement age) then it will equal zero. To create this new variable we need to join many categories of the `agegrp` variable into one. "
   ]
  },
  {
   "cell_type": "code",
   "execution_count": null,
   "id": "70d9760c-0e53-4be1-9f36-b30f064c5158",
   "metadata": {},
   "outputs": [],
   "source": [
    "census_data <- census_data %>% \n",
    "    mutate(retired = case_when((agegrp == \"65 to 69 years\")|(agegrp == \"70 to 74 years\")|(agegrp == \"75 to 79 years\")|(agegrp == \"80 to 84 years\")|(agegrp == \"85 years and over\") ~ 1, \n",
    "                               TRUE ~ 0)) %>% # otherwise\n",
    "    mutate(retired = as_factor(retired)) # factor\n",
    "\n",
    "glimpse(census_data)"
   ]
  },
  {
   "cell_type": "markdown",
   "id": "58905a83-f39f-45de-a728-8d7f4cb8d025",
   "metadata": {},
   "source": [
    "We typically want to create a dummy variable to identify which individuals have a certain characteristic and which ones don't (using a binary configuration). This type of variable is useful in many models which have trouble handling more complex types of data. You now know how to create these variables!"
   ]
  },
  {
   "cell_type": "markdown",
   "id": "54f2597a-c5ce-454b-affe-37cc66332559",
   "metadata": {},
   "source": [
    "#### Exercise: Adding a Variable\n",
    "Create an object `answer2` in which the `census_data` dataframe now has an extra dummy variable called `knows_english` which is equal to 1 if the respondent knows English and 0 if not. Make sure that this variable is factorized."
   ]
  },
  {
   "cell_type": "code",
   "execution_count": null,
   "id": "10098a62-916d-40a4-bdfd-0248978194f2",
   "metadata": {},
   "outputs": [],
   "source": [
    "answer2 <- ... # fill me in!\n",
    "\n",
    "test_2()"
   ]
  },
  {
   "cell_type": "markdown",
   "id": "81de1032-3e94-4cfd-b19c-8106fdbc32be",
   "metadata": {},
   "source": [
    "### Removing Missing Data"
   ]
  },
  {
   "cell_type": "markdown",
   "id": "7228d49f-6467-4a83-9ff2-6afb4ea343be",
   "metadata": {},
   "source": [
    "Removing missing data is an important step of our cleaning process. For example, if we wanted to create a dummy called `visible_minority_status` (1 if the person identifies as a visible minority), we would get our values from the variable `vismin`. However, if we check the different levels and labels of that variable we see that visible minority status is not available for all individuals. How do we handle this situation?"
   ]
  },
  {
   "cell_type": "markdown",
   "id": "4b031ae5-b0a8-4642-b8ca-755365cea510",
   "metadata": {
    "tags": [
     "sidebar"
    ]
   },
   "source": [
    "<span style=\"color:#CC7A00\" > 🔎 **Let's think critically** </span>\n",
    "> 🟠 Choosing which observations to drop is always an important research decision. There are different ways to handle missing data beyond just dropping it - for instance, by treating \"missing\" as its own valid category. These decisions have important consequences for your analysis, and should always be carefully thought through - especially if the reasons why data are missing might not be random.\n",
    ">\n",
    "> 🟠 In the context of census data, why might responses to the question of a person’s visible minority status be missing?\\\n",
    "> 🟠 Why might a state apparatus like Statistics Canada be interested in collecting data in this dimension?\\\n",
    "> 🟠 What might be some consequences for an analysis if these observations were dropped?"
   ]
  },
  {
   "cell_type": "markdown",
   "id": "29f40889-100a-4c0a-8d59-105bb4038946",
   "metadata": {},
   "source": [
    "Let's start with simply removing the observations where data is not available. To do this, we will use the `filter()` method which conditionally drops observations. Each row (observation) is evaluated against the supplied condition. Only observations where the condition is true or met are retained (selection by inclusion) in the dataframe. The `filter()` method checks all rows at once, not just one at a time. Let's see it in action below."
   ]
  },
  {
   "cell_type": "code",
   "execution_count": null,
   "id": "67a648e3-6fbb-4a96-ba88-fc025636f513",
   "metadata": {},
   "outputs": [],
   "source": [
    "glimpse(filter(census_data, vismin != \"not available\"))"
   ]
  },
  {
   "cell_type": "markdown",
   "id": "18e96b9d-f9cb-4faa-bf43-19b1ace6869e",
   "metadata": {},
   "source": [
    "> **Recall**: The operator `!=` is a conditional statement for \"not equal to\". Therefore we are telling R to keep the observations that are NOT equal to \"not available\".\n",
    "\n",
    "Notice the change in the number of observations here.  Now that `NA` data has been deleted we can create the dummy!"
   ]
  },
  {
   "cell_type": "code",
   "execution_count": null,
   "id": "ae315a36-d0cf-4bd0-bca8-d308cc1dd0fb",
   "metadata": {},
   "outputs": [],
   "source": [
    "census_data <- filter(census_data, vismin != \"not available\")\n",
    "\n",
    "census_data <- census_data %>% \n",
    "    mutate(minority = case_when(vismin == \"not a visible minority\" ~ 0, \n",
    "                                TRUE ~ 1)) %>%\n",
    "    mutate(minority = as_factor(minority))\n",
    "           \n",
    "glimpse(census_data)"
   ]
  },
  {
   "cell_type": "markdown",
   "id": "f45f0bd0-920b-4ed4-acaa-8e7de9adff75",
   "metadata": {},
   "source": [
    "Now if we wanted to check whether there is a difference between the wages of those who are and are not visible minorities, we could create a table, make a chart or run some calculations, all concepts we will learn about in other notebooks. "
   ]
  },
  {
   "cell_type": "markdown",
   "id": "03455463-6077-4fe5-a592-e82b8427b20c",
   "metadata": {},
   "source": [
    "#### Exercise: Removing Missing Data\n",
    "\n",
    "Create an object `answer3` which uses the `filter()` function to drop values of \"NA\" from `pkids` in our census dataframe."
   ]
  },
  {
   "cell_type": "code",
   "execution_count": null,
   "id": "57523ee4-a502-48a8-a7bf-6507d6cc27c9",
   "metadata": {},
   "outputs": [],
   "source": [
    "answer3 <- census_data %>% ...\n",
    "\n",
    "test_3()"
   ]
  },
  {
   "cell_type": "markdown",
   "id": "7f26fd58-b8c9-4385-af22-e727e1aeb268",
   "metadata": {},
   "source": [
    "### Changing Variable Names \n",
    "\n",
    "One optional step in our data cleaning process is changing the names of variables so they are appropriate and understandable when producing research. More specifically, this means making all of our variable names short and descriptive. Many datasets from statistical agencies will have excellent variable names, so this is a conventional and helpful process to go through when we encounter a data set with non-descriptive names. For instance, many older datasets have variables with names like `EDMM1928`, which are not very helpful!\n",
    "\n",
    "We can use the command `rename(new name = old name)` to change a variable's name. As you may have seen before, we can also use `mutate()` to create a new variable category."
   ]
  },
  {
   "cell_type": "markdown",
   "id": "150598df-abf2-462e-97be-ebbfa1bfee72",
   "metadata": {
    "tags": [
     "sidebar"
    ]
   },
   "source": [
    "<span style=\"color:#CC7A00\" > 🔎 **Let's think critically** </span>\n",
    "> 🟠 Sometimes variable name changes and category creations happen for reasons other than making a label clearer as we’ve seen above. For example, the label “illegal alien” was used to describe a genre of immigration status by the US Immigration and Customs Enforcement and the US Customs and Border Protection from 1980 to 2021, until pressures from [student activism](https://visaandgreencard.com/blog/library-congress-will-stop-using-phrase-illegal-alien/) and the [Biden administration](https://www.washingtonpost.com/immigration/illegal-alien-assimilation/2021/04/19/9a2f878e-9ebc-11eb-b7a8-014b14aeb9e4_story.html) resulted in its phasing out under the argument that this categorical label enabled racist attitudes to status-seeking folks in the United States. Today, many choose to use terms like “undocumented immigrant”, “non-citizen” and “migrant” instead.\n",
    ">\n",
    "> 🟠 How might the language of variable names shape how people, groups or concepts are represented?\\\n",
    "> 🟠 How can individuals (you!) and institutions ensure that label choices honour the consent and agency of the people and groups that they affect? Are there any tradeoffs associated with this pursuit?"
   ]
  },
  {
   "cell_type": "code",
   "execution_count": null,
   "id": "27b63bce-d9c1-4262-9eed-11833f85dad1",
   "metadata": {},
   "outputs": [],
   "source": [
    "head(census_data) %>% \n",
    "    rename(highest_degree = hdgree)"
   ]
  },
  {
   "cell_type": "markdown",
   "id": "40ca1ca1-4f9d-40c9-b490-a7acf921bab3",
   "metadata": {},
   "source": [
    "## Adding and Removing Data\n",
    "Another step in data cleaning involves bringing in new data from other datasets or dropping existing data from our data set entirely. In this step, we must always think very carefully about the purpose of our data in terms of the research we are doing. The underlying goal of our project should always guide decision to bring in new datasets or removing information from our existing one."
   ]
  },
  {
   "cell_type": "markdown",
   "id": "adb7bdd5-bbee-4322-9e4d-bd375f9d0d47",
   "metadata": {},
   "source": [
    "### Combining Datasets\n",
    "\n",
    "Often we will need to draw on data from multiple datasets. Most of the time, these datasets will be available for download in different files (each for a given year, month, country, etc.). For example, if we are working with macroeconomic data from Statistics Canada such as inflation rates, GDP, and population, data for these variables may be stored in different datasets corresponding to different years. Thus, if we want to compile them we need to combine them into the same data frame.\n",
    "\n",
    "There are two key ways of combining data, each reflecting different goals:\n",
    "\n",
    "1.  When we want to add more observations from another dataset into our existing dataset, we call this **appending** data.\n",
    "    * If you think of a dataset as a spreadsheet, this is like taking one dataset and \"pasting\" it into the bottom of a current dataset to add more observations. We do this when the observations from the other dataset have recorded data for all existing variables.\n",
    "2.  When we want to add new variables and their data from another dataset into our existing dataset, we call this **merging** data.\n",
    "    * This is like looking up values in a table and then adding a column; in Excel, this is called a `VLOOKUP`. Importantly, we can only merge data that share a common column or **key** to  identify observations with particular values. For example, if we want to merge in data from a different year but for the same people (observations) as those we are currently working with, datasets will usually have an identifying number for the person that functions as our key. In this dataset, every individual is identified by their `ppsort` number, so this is the key we would use to merge in new variables. "
   ]
  },
  {
   "cell_type": "markdown",
   "id": "4b32ad9d-3791-42c5-9a9b-8d7441b68a7e",
   "metadata": {},
   "source": [
    "#### Appending Datasets\n",
    "Let's say that our `census_data` data set is inexplicably missing 2 observations, the people coded as 867543 and 923845. These people have recorded observations for all of the same variables as those in our existing data frame, so we can simply append them to our `census_data` data frame. Let's add these two people to our data set for analysis by appending `extra_census_data` to `census_data`."
   ]
  },
  {
   "cell_type": "code",
   "execution_count": null,
   "id": "1b21d577-2b91-4ffc-be9e-386cf88182b3",
   "metadata": {},
   "outputs": [],
   "source": [
    "extra_census_data <- data.frame(ppsort = c(867543, 923845), agegrp = c(\"20 to 24 years\", \"35 to 39 years\"), \n",
    "                                ageimm = c(\"5 to 9 years\", \"0 to 4 years\"), cip2011 = c(\"01 education\", \"01 education\"),\n",
    "                                fol = c(\"english only\", \"french only\"), hdgree = c(\"bachelor's degree\", \"bachelor's degree\"),\n",
    "                                immstat = c(\"non-immigrants\", \"immigrants\"), kol = c(\"english only\", \"french only\"),\n",
    "                                lfact = c(\"employed - worked in reference week\", \"employed - worked in reference week\"),\n",
    "                                locstud = c(\"ontario\", \"quebec\"), mrkinc = c(20000, 34000), pkids = c(\"none\", \"one or more\"),\n",
    "                                pr = c(\"ontario\", \"quebec\"), sex = c(\"male\", \"female\"), vismin = c(\"chinese\", \"black\"),\n",
    "                                wages = c(15000, 30000), log_wages = c(9.615805, 10.308952), has_kids = c(0, 1),\n",
    "                                retired = c(0, 0), minority = c(1, 1))\n",
    "\n",
    "census_data <- rbind(census_data, extra_census_data)\n",
    "\n",
    "glimpse(census_data)"
   ]
  },
  {
   "cell_type": "markdown",
   "id": "6810fd8c-d423-4307-8805-e96bf2550137",
   "metadata": {},
   "source": [
    "Here we used the function `rbind()` to append these datasets. We did this because we were appending rows to the bottom of the data frame. Our `census_data` data set now has 2 more rows than before, meaning we have successfully appended these two observations to our data frame for analysis."
   ]
  },
  {
   "cell_type": "markdown",
   "id": "6f561d5f-1548-4afa-ad92-97c9216193c9",
   "metadata": {},
   "source": [
    "#### Merging Datasets\n",
    "Suppose now that we are undergoing research and realize that we would like to include religion in our analysis. However, we don't have a variable pertaining to it currently in our `census_data` data set. Luckily, we find the data set `more_census_data` which includes a dummy variable for whether the respondent `ppsort` is religious. This variable is coded as `religious` and equals 1 if the person self-identifies as religious and 0 if not. "
   ]
  },
  {
   "cell_type": "code",
   "execution_count": null,
   "id": "c76f3350-5f39-4307-b594-12f34c4f18e0",
   "metadata": {},
   "outputs": [],
   "source": [
    "set.seed(123) #ignore this function!\n",
    "\n",
    "more_census_data <- data.frame(ppsort = census_data$ppsort, religious = sample(0:1, 382278, replace = TRUE))\n",
    "\n",
    "glimpse(more_census_data)"
   ]
  },
  {
   "cell_type": "markdown",
   "id": "321117e6-e0a0-44b2-b536-e30de53fe05d",
   "metadata": {},
   "source": [
    "We can see from glimpsing the above data set that it contains the same number of observations as our `census_data` data set, one observation for each `ppsort` ID. For each `ppsort` ID, there is a corresponding dummy of 0 or 1 indicating whether that person is religious. Since this is a new variable we want to add to our existing data set, we can merge this `more_census_data` into our existing data frame to match up each `religious` entry to its corresponding `ppsort` ID within the larger `census_data` data frame. We can do this with the function `merge()`. This function has the following default form:\n",
    "\n",
    "Merged_Data <- merge(data frame A, data frame B, by = \"the variable that is common in both data frames\")\n",
    "\n",
    "If the column on which we want to merge our datasets is named differently in the two data frames, we must specify each column name in the by = \"\" option above."
   ]
  },
  {
   "cell_type": "code",
   "execution_count": null,
   "id": "c04743ce-3526-48fc-a458-34e27b6f5dc0",
   "metadata": {},
   "outputs": [],
   "source": [
    "census_data <- merge(census_data, more_census_data, by = \"ppsort\")\n",
    "glimpse(census_data)"
   ]
  },
  {
   "cell_type": "markdown",
   "id": "72c15f1f-90f4-4895-9d67-bc20b4bae032",
   "metadata": {},
   "source": [
    "We can now see that our `census_data` data set has an additional variable, `religious`, with data for each person. This was an example of a simple 1:1 (one-to-one) merge since there was a perfect match between the number of observations in both datasets. In this way, there were no extra observations in either. However, this will not often be the case. \n",
    "\n",
    "Suppose we only had half of the `ppsort` IDs in our `more_census_data` data frame. When merging, we could have then chosen to create our merged data frame with ONLY those `ppsort` who can find a \"match\" in both datasets. We could do this with the `left_join()` or `right_join()` functions, using the former if our first specified data set was `census_data` and the latter if our second specified data set was `census_data` within the brackets of the function. If we instead had some observations in each data set which did not have a match (the `ppsort` ID did not match) and we didn't want to lose these observations, we could use the `full_join()` option to retain all observations within both datasets in our final dataframe. \n",
    "\n",
    "Finally, if we wanted only those observations which had matching `ppsort` IDs across both datasets, we could use the `inner_join()` function, returning us a smaller dataset. This is implicitly what we did in our merge above; however, since all observations in both datasets matched on `ppsort`, we didn't lose anything. For a helpful clarification of these commands, check out the help menu for these specific merges below!"
   ]
  },
  {
   "cell_type": "code",
   "execution_count": null,
   "id": "7ebcaff9-4a0e-4377-9b91-453fec283a76",
   "metadata": {},
   "outputs": [],
   "source": [
    "?inner_join"
   ]
  },
  {
   "cell_type": "markdown",
   "id": "2348374f-36d6-47aa-a79b-cbbcbd3e218d",
   "metadata": {},
   "source": [
    "#### Exercise: Combining Dataframes\n",
    "\n",
    "Create an object `A` which is a data frame with two columns and two rows. The first column should be called `ID` and have values 1 and 2, while the second column should be called `value1` and have values 10 and 11. \n",
    "\n",
    "Then create a second object named `B` which is a dataframe with two columns and two rows. The first column should be called ID and perfectly match the IDs in `A`, while the second column should be called `value2` and have values 12 and 13. Finally, merge these two data frames along the ID column and store in the object `answer4`."
   ]
  },
  {
   "cell_type": "code",
   "execution_count": null,
   "id": "954b8f13-8c29-4ff6-b310-513fe55bd587",
   "metadata": {},
   "outputs": [],
   "source": [
    "# your code here\n",
    "\n",
    "answer4 <- ... # fill me in!\n",
    "\n",
    "test_4()"
   ]
  },
  {
   "cell_type": "markdown",
   "id": "fb7255f5-b7cc-45e4-9470-815c2f7baf2d",
   "metadata": {},
   "source": [
    "### Selecting and Filtering Data\n",
    "\n",
    "Oftentimes we have more data at our disposal than we actually need to answer the question at hand. Because the process of data collection is so resource-intensive, surveyors and researchers attempt to collect as much data as possible from each individual that is surveyed. This massive amount of data allows many research questions to be explored, even ones that weren't intended from the surveyors to begin with. The Canadian census is a great example of this. \n",
    "\n",
    "Let's assume we are interested in determining the gender pay gap for residents in British Columbia. Our current 2016 census dataset encompasses a whole host of data from nearly all residents in Canada and contains variables such as their age group, education level, income, minority status, etc. To help us with our analysis, we need to filter the census data only for residents in British Columbia. As mentioned above, the `filter()` method is used to conditionally drop rows. In our case, we can use the filter function to go through each observation in the data frame and check to see whether the province `pr` is coded as \"british columbia\", then drop all observations for which this is not the case.\n",
    "\n",
    "> **Note**: we've seen this before, but to check equivalency in R and most programming languages, you need to use `==` as opposed to `=`."
   ]
  },
  {
   "cell_type": "code",
   "execution_count": null,
   "id": "8fdc2024-a5c8-498c-978c-f583e7031b1c",
   "metadata": {},
   "outputs": [],
   "source": [
    "census_data <- census_data %>%\n",
    "    filter(pr == \"british columbia\")\n",
    "\n",
    "glimpse(census_data)"
   ]
  },
  {
   "cell_type": "markdown",
   "id": "445c10a1-1506-47fa-af1e-7704f49dad6a",
   "metadata": {},
   "source": [
    "Sometimes we want to drop variables (columns) instead of observations (rows). The `select` method in R allows us to do this. We pass as parameters to the `select` function every column we wish to keep.\n",
    "\n",
    "* `select(variables, I, want, to, keep)`\n",
    "* `select(-variables, -I, -don't, -want)`\n",
    "\n",
    "This is very useful and is usually done for practical reasons such as memory. Cleaning data sets to remove unessential information also allows us to focus our analysis and makes it easier to answer our desired research question. In our specific case, we want to keep data on just wages and sex. We will use the select function for this."
   ]
  },
  {
   "cell_type": "code",
   "execution_count": null,
   "id": "5ade9d7b-2363-41de-931a-3f6c3c5b4258",
   "metadata": {},
   "outputs": [],
   "source": [
    "head(census_data %>% select(wages, sex))"
   ]
  },
  {
   "cell_type": "markdown",
   "id": "fea8b026-be0e-4d1c-9414-19ef5ddbec26",
   "metadata": {},
   "source": [
    "As seen above, this function allows us to look at the relationship between sex and wages more directly in our raw data. To finish finding the wage gap among British Columbians (keep in mind we have filtered out those who do not fit pr == \"british columbia\"), we can then invoke the `group_by()` and `summarize()` functions we have learned in past notebooks."
   ]
  },
  {
   "cell_type": "code",
   "execution_count": null,
   "id": "041af539-f814-4c04-b6a6-fcba13179cf5",
   "metadata": {},
   "outputs": [],
   "source": [
    "# creating our more focused dataframe\n",
    "answer <- census_data %>%\n",
    "    mutate(sex = as_factor(sex)) %>% \n",
    "    filter(wages != \"NA\") %>%     \n",
    "    group_by(sex) %>%\n",
    "    summarize(average_wage = mean(wages))\n",
    "\n",
    "answer"
   ]
  },
  {
   "cell_type": "markdown",
   "id": "bddfb32c-6cf7-4454-9d6e-08a3133e52ad",
   "metadata": {},
   "source": [
    "Using the `group_by` and `summarize` tools we learned in previous lessons has allowed us to address our research question. We find that the gender pay gap between male and female British Columbians is roughly $23,000."
   ]
  },
  {
   "cell_type": "markdown",
   "id": "931cea86-1abc-4763-a49d-25989c99e877",
   "metadata": {
    "tags": [
     "sidebar"
    ]
   },
   "source": [
    "<span style=\"color:#CC7A00\" > 🔎 **Let's think critically** </span>\n",
    "> 🟠 The place name “British Columbia” was invented when this region became an official province of the larger colonial project of “Canada” in 1871. This name, [having roots in European conquest _(British)_ and the Spanish “explorer” Columbus _(Columbia)_](https://thewalrus.ca/rename-british-columbia/), has only been used to refer to this region for around 150 years. For thousands of years before then, this region was known by many other names in many different languages by over 200 unique First Nations, each with their own distinct lifeways and traditions.  If you are not Indigenous to the place you are currently located, we invite you to reflect on the following:\\\n",
    "> 🟠 Where are you currently situated right now? You can use [this interactive map](https://native-land.ca/) to see what Indigenous lands you are on.\n",
    ">\n",
    "> 🟠 The place names reflected in the 2016 Canadian census data reflect a particular, politically-involved way of organizing and understanding space and consequently enable particular kinds of economic research questions (ie, how does average income in BC compare to average income in Alberta?) What kinds of questions can the Canadian census data _not_ answer?\\\n",
    "> 🟠 What kinds of economic research questions might we be able to form if given population data that was spatially arranged in a fashion resembling the [Native Land Digital Map?](https://native-land.ca/)\\\n",
    "> 🟠 If you are located in what is currently referred to as “British Columbia”, how can you learn about economic practices that are local to this area? The province of BC's [Indigenous Economic Development website](https://www2.gov.bc.ca/gov/content/employment-business/economic-development/bc-ideas-exchange/success-stories/indigenous-economic-development) has a list of just _some_ of the ways that local Indigenous groups are applying their own economic traditions today."
   ]
  },
  {
   "cell_type": "markdown",
   "id": "f4c31213-4f74-4022-b81a-166e7f45eb6b",
   "metadata": {
    "tags": []
   },
   "source": [
    "#### Exercise: Using Select and Filter\n",
    "\n",
    "Use `census_data` to create a data frame which only shows the highest education level `hdegree` for British Columbians with 100,000 CAD or more in wages. Your data frame should have a single column with the name as `hdegree`. Store your answer in the object `answer5`."
   ]
  },
  {
   "cell_type": "code",
   "execution_count": null,
   "id": "7b992cb1-b607-40e5-bc21-391affc1c9e1",
   "metadata": {},
   "outputs": [],
   "source": [
    "answer5 <-\n",
    "\n",
    "test_5()"
   ]
  },
  {
   "cell_type": "markdown",
   "id": "eb067a69-e610-439d-81dd-d24fc100530a",
   "metadata": {},
   "source": [
    "## Conclusion\n",
    "In this notebook, we have covered the basic process of working with data. You should now be familiar with how to load in data, how to define and redefine variables, how to drop missing observations, how to add in new data and drop existing data to meet your research purposes. This general scheme is critical to any research project, so it is important to keep in mind as you progress throughout your undergraduate economics courses and beyond."
   ]
  }
 ],
 "metadata": {
  "kernelspec": {
   "display_name": "R",
   "language": "R",
   "name": "ir"
  },
  "language_info": {
   "codemirror_mode": "r",
   "file_extension": ".r",
   "mimetype": "text/x-r-source",
   "name": "R",
   "pygments_lexer": "r",
   "version": "4.2.0"
  }
 },
 "nbformat": 4,
 "nbformat_minor": 5
}
