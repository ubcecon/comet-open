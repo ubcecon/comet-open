{
 "cells": [
  {
   "cell_type": "markdown",
   "metadata": {},
   "source": [
    "# ECON 325: Introduction to Regression \n",
    "* **Authors**: COMET Team (Jonathan Graves, Jonah Heyl, Anneke Dresselhuis, Rathin Dharani, Devan Rawlings)\n",
    "* **Last Update**: 12 August 2022 \n",
    "---\n",
    "## Outline\n",
    "\n",
    "### Prerequisites\n",
    "* Introduction to Jupyter\n",
    "* Introduction to Data\n",
    "* Introduction to R\n",
    "* Hypothesis testing\n",
    "\n",
    "### Outcomes\n",
    "\n",
    "* Build a simple linear regression using R\n",
    "* Create and interpret regression outputs in R including: coefficient estimates\n",
    "* Examine the various elements of regression objects in R (including fitted values, residuals and coefficients)\n",
    "* Explain the role of qualitative variables in regression analysis as dummy variables\n"
   ]
  },
  {
   "cell_type": "code",
   "execution_count": null,
   "metadata": {
    "collapsed": false,
    "jupyter": {
     "outputs_hidden": false
    },
    "vscode": {
     "languageId": "r"
    }
   },
   "outputs": [],
   "source": [
    "library(tidyverse)\n",
    "library(haven)\n",
    "\n",
    "source(\"tests_regression.r\")"
   ]
  },
  {
   "cell_type": "code",
   "execution_count": null,
   "metadata": {
    "collapsed": false,
    "jupyter": {
     "outputs_hidden": false
    },
    "vscode": {
     "languageId": "r"
    }
   },
   "outputs": [],
   "source": [
    "census_data <- read_dta(\"../datasets/01_census2016.dta\")\n",
    "\n",
    "census_data <- as_factor(census_data)\n",
    "\n",
    "census_data <- filter(census_data, !is.na(census_data$wages))\n",
    "census_data <- filter(census_data, !is.na(census_data$mrkinc))\n",
    "\n",
    "glimpse(census_data)"
   ]
  },
  {
   "cell_type": "markdown",
   "metadata": {},
   "source": [
    "## Part 1: Learning About Regressions\n",
    "\n",
    "What is a regression?  What is the relationship of a regression to other statistical concepts?  How do we use regressions to answer economic questions?\n",
    "\n",
    "In this notebook, we will explore these questions using our census data set and will learn more about the immigrant wage gap.  If you remember from last lecture, were very interested in the relationship of `wages` and `immstat` - immigration status and wages.  However, this is not the only way to measure economic income - another variable, `mrkinc` (market income), also measures income.  Let's get started with regressions by exploring the relationship between `wages` and `mrkinc` in this dataset.\n",
    "\n",
    "Let's start off with a visualization:\n",
    "\n"
   ]
  },
  {
   "cell_type": "code",
   "execution_count": null,
   "metadata": {
    "collapsed": false,
    "jupyter": {
     "outputs_hidden": false
    },
    "vscode": {
     "languageId": "r"
    }
   },
   "outputs": [],
   "source": [
    "options(repr.plot.width=6,repr.plot.height=4) #controls the image size\n",
    "\n",
    "f <- ggplot(data = census_data, aes(x = wages, y = mrkinc)) + xlab(\"Wages\") + ylab(\"Market Income\")\n",
    "f + geom_point()"
   ]
  },
  {
   "cell_type": "markdown",
   "metadata": {},
   "source": [
    "> _Think Deeper_: What do you see here?  Is there anything about this relationship that sticks out to you?  Why does it have the shape it does?\n",
    "\n",
    "You can probably tell that there is definitely some relationship between wages and market income - but it can be difficult to visualize using a scatterplot alone.  There are far too many points, and too much going on.  \n",
    "\n",
    "### Conditional Expectation:\n",
    "\n",
    "The expectation of $X$  is what outcome we expect X to *typically* be after *a lot* of sampling. For instance, the expectation of a die throw is 3. Essentially,\n",
    "$$\n",
    "E[X] =  \\sum_{i=1}^n P(X_i=x) X_i\n",
    "$$\n",
    "\n",
    "Now the conditional expectation is: \n",
    "$$\n",
    "E[X|y_i=y] =  \\sum_{i=1}^n P(X_i=x|y_i=y) X_i\n",
    "$$\n",
    "\n",
    "Linear regression assumes a linear conditional expectation function $E[Y|X=x]= \\beta_0 +\\beta_1X$. This is what regression models are trying to approximate. Thus we can split a regression model into two parts:\n",
    "   1. the conditional exception and\n",
    "   2. an error term. \n",
    "   \n",
    "An example of a conditional expectation would be what number the die lands on after $n$ throws (where $n$ only counts the even throws).\n",
    "\n",
    "### Regression Models\n",
    "\n",
    "This is where a *regression model* comes in.  A regression model specifies (the *specification*) the relationship between two variables.  For example, a linear relationship would be:\n",
    "\n",
    "$$\n",
    "M_i = \\beta_0 + \\beta_1 W_i\n",
    "$$\n",
    "\n",
    "Where $M_i$ is the market income of individual $i$, and $W_i$ is their wage.  We normally (in econometrics) refer to $M_i$ as the **outcome** variable, and \n",
    "$$\n",
    "W_i\n",
    "$$\n",
    "as the **explanatory** variable; you may have also heard the terms *dependent* and *independent*, but these aren't actually very good descriptions of what these variables are in econometrics.  \n",
    "\n",
    "A model like this is our description of what this relationship is - but it depends on two unknowns: $\\beta_0$, $\\beta_1$. \n",
    "\n",
    "* The $\\beta_0$ and $\\beta_1$ are **parameters** of the model: they are numbers that determine the relationship (intercept and slope) between $M_i$ and $W_i$ \n",
    "* This is a linear relationship because the model we have specified is linear in the coefficients (but there are many other kinds of models).  It is also linear in the variables, but that isn't required (we will see more about this later).\n",
    "\n",
    "However, it is unlikely, if not impossible, for this relationship to completely explain everything about our data.  We need to include a term which captures everything which is _not_ described by the relationship we described in the model.  This is called the *residual* term (meaning \"leftover\").\n",
    "\n",
    "* The $\\epsilon_i$ is the residual: a component that corresponds to the part of the data which is _not_ described by the model\n",
    "* These residual terms will usually have certain assumed properties that allow us to estimate the model.\n",
    "\n",
    "Conceptually, we can think about a regression as two parts: the part of the relationship explained by our model ($M_i = \\beta_0 + \\beta_1 W_i$) and the part which is not explained ($\\epsilon_i$).  The process of \"fitting\" or estimating a regression model refers to the selection of values for $\\beta_0$ and $\\beta_1$ such that as little needs to be explained by the residual term as possible.  We write the complete *regression equation* by combining the two parts of the model:\n",
    "\n",
    "$$\n",
    "M_i = \\beta_0 + \\beta_1 W_i + \\epsilon_i\n",
    "$$\n",
    "\n",
    "The goal of regression analysis is to:\n",
    "\n",
    "1. Estimate this equation (and especially the model parameters) as accurately as possible.\n",
    "2. Learn about the relationship between $M_i$ and $W_i$ from the results of that estimation.\n",
    "\n",
    "There are many ways to define \"accurately as possible\" and similarly there are many ways to \"estimate\" the equation.  In this course, we use *ordinary least squares* (OLS) which basically says:\n",
    "\n",
    "$$\n",
    "(\\hat{\\beta_0},\\hat{\\beta_1}) = \\arg \\min_{b_0,b_1} \\sum_{i=1}^{n} (M_i - b_0 - b_1 W_i)^2 = \\sum_{i=1}^{n} (e_i)^2\n",
    "$$\n",
    "\n",
    "Okay, that looks complicated, but don't fear.  It is just the calculus way of writing \"choose $\\beta_0$ and $\\beta_1$ (call them $\\hat{\\beta_0},\\hat{\\beta_1}$) such that they minimize the sum of the squared residuals\".\n",
    "* This should make sense; after all, the whole point of doing a regression is to explain as much as possible using the parameters ($\\beta_0, \\beta_1$) and as little as possible using $\\epsilon_i$.\n",
    "* This has transformed our statistical problem into a calculus problem, which you (well, a computer) can solve; for example, by taking derivatives.\n",
    "\n",
    "There are many, many ways to solve this estimation problem - most of which are built into R.  You can also solve it analytically (using some math).  But let's start with an alternative. Essentially, if you remember drawing a best fit line through points from high school, this is what a linear regression does in R.\n",
    "\n",
    "### Example: Manual Estimation\n",
    "\n",
    "A very *bad* way to solve this is the good-'ole eyeball method.  That's right - you look at the scatterplot, then guess some values and see how it performs.\n",
    "\n",
    "Try to get the best fit you can by playing around with the following example."
   ]
  },
  {
   "cell_type": "code",
   "execution_count": null,
   "metadata": {
    "collapsed": false,
    "jupyter": {
     "outputs_hidden": false
    },
    "vscode": {
     "languageId": "r"
    }
   },
   "outputs": [],
   "source": [
    "# set the value of B_0 and B_1 with these values\n",
    "\n",
    "B_0 = 0  #change me\n",
    "B_1 = 1  #change me\n",
    "\n",
    "# don't touch the rest of this code - but see if you can understand it!\n",
    "\n",
    "SSE = sum((census_data$mrkinc - B_0 - B_1*census_data$wages)^2)\n",
    "\n",
    "# here is the SSE from your model\n",
    "\n",
    "round(SSE/1000000,0)"
   ]
  },
  {
   "cell_type": "markdown",
   "metadata": {},
   "source": [
    "What was the lowest value you got?  Here is what your guess looks like in a graph:\n",
    "\n"
   ]
  },
  {
   "cell_type": "code",
   "execution_count": null,
   "metadata": {
    "collapsed": false,
    "jupyter": {
     "outputs_hidden": false
    },
    "vscode": {
     "languageId": "r"
    }
   },
   "outputs": [],
   "source": [
    "# just run this cell to see your results\n",
    "# re-run it if you change the values\n",
    "\n",
    "options(repr.plot.width=6,repr.plot.height=4) #controls the image size\n",
    "\n",
    "fitted_line = data.frame(wages = census_data$wages, mrkinc = B_0 + B_1*census_data$wages)\n",
    "\n",
    "f <- ggplot(data = census_data, aes(x = wages, y = mrkinc)) + xlab(\"Wages\") + ylab(\"Market Income\")\n",
    "f <- f + geom_point() + geom_line(color = \"red\", data = fitted_line)\n",
    "\n",
    "f"
   ]
  },
  {
   "cell_type": "markdown",
   "metadata": {},
   "source": [
    "### Interactive Visualisation of OLS"
   ]
  },
  {
   "cell_type": "markdown",
   "metadata": {},
   "source": [
    "Understanding OLS is absolutely fundamental to understanding regressions and further topics in econometrics. Let's try and understand the formula for OLS above through a more visual approach, just to cement our understanding. \n",
    "\n",
    "$$\n",
    "(\\hat{\\beta_0},\\hat{\\beta_1}) = \\arg \\min_{b_0,b_1} \\sum_{i=1}^{n} (M_i - b_0 - b_1 W_i)^2 = \\sum_{i=1}^{n} (e_i)^2\n",
    "$$\n",
    "\n",
    "To demonstrate this, we will use a small scatter plot with just 4 points. The straight line through the scatter plot is modelled by the simple regression formula $B_0 + B_1X$. As we mentioned above, it's nearly impossible for a regression to perfectly predict the relationship between two variables, there will almost always be an associated **unobservable error** with our regression estimation. So each of the points can be modelled by the equation $Y_i = B_0 + B_1X + e_i$  This can be seen as the vertical distance between the regression line and the actual data points. You may be wondering why we can't just minimize the errors, what's the need to minimize the squared errors? You can see below that some data points are above the regression line and some are below, hence the error terms will just cancel each other out and not yield much use for us trying to find the best regression line. Therefore, we take the squares of the errors, which are depicted as the red boxes in the diagram below. Our goal is to the find the regression line that minimizes those squares of errors, hence minimize the size of those red boxes.\n",
    "\n",
    "> Try your own values for `beta_0` and `beta_1`. Make sure to try the values only roughly within the specified range. The actual value of `beta_0` and `beta_1` that minimize the residual sum of squares is 0.65 and 0.82 respectively. The code block below also displays the area of the red boxes. You should see that deviation from these optimal values will only make the area of the red boxes larger."
   ]
  },
  {
   "cell_type": "code",
   "execution_count": null,
   "metadata": {},
   "outputs": [],
   "source": [
    "beta_0 <- 0.65 #CHANGE THIS VALUE, TRY VALUES BETWEEN 0 - 1\n",
    "beta_1 <- 0.82 #CHANGE THIS VALUE, TRY VALUES BETWEEN 0.6 - 1.4\n",
    "\n",
    "x <- c(1, 2, 3, 4)\n",
    "y <- c(1.7, 1.5, 4, 3.6)\n",
    "\n",
    "# don't worry about this code, just run it!\n",
    "dta <- data.frame(x, y)\n",
    "example_df_graph <- dta %>%\n",
    "                    ggplot(aes(x = x, y = y)) +\n",
    "                    geom_point() +\n",
    "                    geom_abline(intercept = beta_0, slope = beta_1) +\n",
    "                    xlim(0, 5) +\n",
    "                    ylim(0, 5) +\n",
    "                    geom_rect(aes(xmin = (dta[1, \"x\"] + (beta_0 + (beta_1 * dta[1, \"x\"])) - dta[1, \"y\"]), xmax = dta[1, \"x\"], \n",
    "                                  ymin = (beta_0 + (beta_1 * dta[1, \"x\"])), ymax = dta[1, \"y\"]),\n",
    "                            alpha = 0.1,\n",
    "                            fill = \"red\") +\n",
    "                    geom_rect(aes(xmin = dta[2, \"x\"], xmax = (dta[2, \"x\"] + (beta_0 + (beta_1 * dta[2, \"x\"])) - dta[2, \"y\"]), \n",
    "                                  ymin = dta[2, \"y\"], ymax = (beta_0 + (beta_1 * dta[2, \"x\"]))), \n",
    "                            alpha = 0.1, \n",
    "                            fill = \"red\") +\n",
    "                    geom_rect(aes(xmin = (dta[3, \"x\"] + (beta_0 + (beta_1 * dta[3, \"x\"])) - dta[3, \"y\"]), xmax = dta[3, \"x\"], \n",
    "                                  ymin = (beta_0 + (beta_1 * dta[3, \"x\"])), ymax = dta[3, \"y\"]), \n",
    "                            alpha = 0.1, \n",
    "                            fill = \"red\") +\n",
    "                    geom_rect(aes(xmin = dta[4, \"x\"], xmax = (dta[4, \"x\"] + (beta_0 + (beta_1 * dta[4, \"x\"])) - dta[4, \"y\"]), \n",
    "                                  ymin = dta[4, \"y\"], ymax = (beta_0 + (beta_1 * dta[4, \"x\"]))), \n",
    "                            alpha = 0.1, \n",
    "                            fill = \"red\")\n",
    "example_df_graph\n",
    "\n",
    "area_1 <- ((dta[1, \"x\"] - (dta[1, \"x\"] + (beta_0 + (beta_1 * dta[1, \"x\"])) - dta[1, \"y\"])) * \n",
    "        ((beta_0 + (beta_1 * dta[2, \"x\"])) - dta[2, \"y\"]))\n",
    "area_2 <- ((dta[2, \"x\"] + (beta_0 + (beta_1 * dta[2, \"x\"])) - dta[2, \"y\"]) - dta[2, \"x\"]) * \n",
    "          ((beta_0 + (beta_1 * dta[2, \"x\"])) - dta[2, \"y\"])\n",
    "area_3 <- (dta[3, \"x\"] - (dta[3, \"x\"] + (beta_0 + (beta_1 * dta[3, \"x\"])) - dta[3, \"y\"])) * \n",
    "          (dta[3, \"y\"]) - (beta_0 + (beta_1 * dta[3, \"x\"]))\n",
    "area_4 <- ((dta[4, \"x\"] + (beta_0 + (beta_1 * dta[4, \"x\"])) - dta[4, \"y\"]) - dta[4, \"x\"]) * \n",
    "          ((beta_0 + (beta_1 * dta[4, \"x\"])) - dta[4, \"y\"])\n",
    "\n",
    "area <- area_1 + area_2 + area_3 + area_4\n",
    "print(\"Area of red boxes is: \")\n",
    "area"
   ]
  },
  {
   "cell_type": "markdown",
   "metadata": {},
   "source": [
    "## Simple Regressions in R\n",
    "\n",
    "Now, let's see how we could use a regression in R to do this.  The main part of a regression model in R is the... model.  Not very surprising!  Regression models look like: `Y ~ X` (the `~` symbol is called \"tilde\" FYI). `Y ~ X` means that we have created a model where `Y` is regressed on `X`.\n",
    "\n",
    "We can ignore the residual terms and parameters when writing the model in R and just focus on the variables for now.\n",
    "\n",
    "So, for example, our regression model is \n",
    "\n",
    "$$\n",
    "M_i = \\beta_0 + \\beta_1 W_i + \\epsilon_i\n",
    "$$\n",
    "\n",
    "Which can be written in R as\n",
    "\n",
    "`mrkinc ~ wages`\n",
    "\n",
    "Regressions are estimated in R using the `lm` function, which takes the data as an argument.\n",
    "* This creates a _linear model_ object, which can be used to calculate things (using prediction) or perform tests\n",
    "* It also stores all of the information about the model, such as the coefficient and fit\n",
    "* These models can also be printed and summarized to give important basic information about a regression\n",
    "\n",
    "For an example linear model called, `my_model`, some of the most important elements are:\n",
    "\n",
    "* `my_model$coefficients`: the parameter coefficients\n",
    "* `my_model$residuals`: the residuals\n",
    "* `my_model$fitted.values`: the predicted values\n",
    "\n",
    "Enough talk! Let's see our model in action here."
   ]
  },
  {
   "cell_type": "code",
   "execution_count": null,
   "metadata": {
    "collapsed": false,
    "jupyter": {
     "outputs_hidden": false
    },
    "vscode": {
     "languageId": "r"
    }
   },
   "outputs": [],
   "source": [
    "regression1 = lm(mrkinc ~ wages, data = census_data)\n",
    "\n",
    "summary(regression1)\n",
    "\n",
    "head(regression1$coefficients)"
   ]
  },
  {
   "cell_type": "markdown",
   "metadata": {},
   "source": [
    "Take a close look at the results.  Identify the following elements:\n",
    "\n",
    "* The values of the parameters \n",
    "* The standard errors of the parameters\n",
    "* The %-of the data explained by the model (R-sqaured)\n",
    "\n",
    "> **Test Your Knowledge**: What  %-of the data is explained by the model?  Answer to 2 decimal places.\n",
    "\n"
   ]
  },
  {
   "cell_type": "code",
   "execution_count": null,
   "metadata": {
    "collapsed": false,
    "jupyter": {
     "outputs_hidden": false
    },
    "vscode": {
     "languageId": "r"
    }
   },
   "outputs": [],
   "source": [
    "answer1 <- ... # answer goes here\n",
    "\n",
    "test_1()"
   ]
  },
  {
   "cell_type": "markdown",
   "metadata": {},
   "source": [
    "The underlying model and the parameters tell us about the relationship between the different values:\n",
    "\n",
    "$$\n",
    "M_i = -2,464 + 1.61 W_i + \\epsilon_i\n",
    "$$\n",
    "\n",
    "Notice, for example:\n",
    "\n",
    "$$\n",
    "\\frac{\\partial M_i}{\\partial W_i} = \\beta_1 = 1.61\n",
    "$$\n",
    "\n",
    "In other words, when wages go up by 1 dollar, we would expect that market income will rise by 1.61 dollars.  This kind of analysis is key to *interpreting* what this model is telling us.\n",
    "\n",
    "Finally, let's visualize our fitted model on the scatterplot from before.  How does it compare to your original model?"
   ]
  },
  {
   "cell_type": "code",
   "execution_count": null,
   "metadata": {
    "collapsed": false,
    "jupyter": {
     "outputs_hidden": false
    },
    "vscode": {
     "languageId": "r"
    }
   },
   "outputs": [],
   "source": [
    "fitted_line2 = data.frame(wages = census_data$wages, mrkinc = regression1$fitted.values)\n",
    "\n",
    "f <- ggplot(data = census_data, aes(x = wages, y = mrkinc)) + xlab(\"Wages\") + ylab(\"Market Income\")\n",
    "f <- f + geom_point() + geom_line(color = \"red\", data = fitted_line) + geom_line(color = \"blue\", data = fitted_line2)\n",
    "\n",
    "f"
   ]
  },
  {
   "cell_type": "markdown",
   "metadata": {
    "tags": []
   },
   "source": [
    "As you can see - there's a very close relationship between `mrkinc` and `wages`.  This implies that we can focus our attention on wages in our analysis of the immigrant wage gap.\n",
    "\n",
    "## Part 2: Simple Regressions and $t$-Tests\n",
    "\n",
    "Previously, we looked at the relationship between market income and wages.  However, these are both _quantitative_ variables.  However, what if we wanted to work with a _qualitative_ variable like `immstat`?\n",
    "\n",
    "Regression models can still incorporate this kind of variable - which is good, because (as the Census makes clear) this is the most common type of variable in real-world data.  How is this possible?  \n",
    "\n",
    "Let's start out with the simplest kind of qualitative variable: a **dummy** (0 or 1) variable.  Consider the regression equation:\n",
    "\n",
    "$$\n",
    "W_i = \\beta_0 + \\beta_1 I_i + \\epsilon_i\n",
    "$$\n",
    "\n",
    "Consider the conditional expectation:\n",
    "\n",
    "$$\n",
    "E[W_i|I_i = 1] = \\beta_0 + \\beta_1 \\cdot 1 + E[\\epsilon_i|I_i = 1]\n",
    "$$\n",
    "\n",
    "$$\n",
    "E[W_i|I_i = 0] = \\beta_0 + \\beta_1 \\cdot 0 + E[\\epsilon_i|I_i = 0]\n",
    "$$\n",
    "\n",
    "\n",
    "Under Assumption 1, we have that $E[\\epsilon_i|I_i] = 0$, so:\n",
    "\n",
    "$$\n",
    "E[W_i|I_i = 1] = \\beta_0 + \\beta_1\n",
    "$$\n",
    "\n",
    "$$\n",
    "E[W_i|I_i = 0] = \\beta_0\n",
    "$$\n",
    "\n",
    "Combining these two expressions:\n",
    "\n",
    "$$\n",
    "\\beta_1 = E[W_i|I_i = 1] - E[W_i|I_i = 0]\n",
    "$$\n",
    "\n",
    "What this tells us:\n",
    "\n",
    "1.  You can include **dummy** variables in regressions\n",
    "2.  The coefficients on the dummy variable have meaning in terms of the regression model\n",
    "3.  They measure the (average) difference in the dependent variable between the two levels of the dummy variable\n",
    "\n",
    "Each of these facts reinforces the idea that dummy variables can be included in a regression model just like quantitative variables.\n",
    "\n",
    "Let's look at this in terms of `immstat`.  We can create our regression equation as:\n",
    "\n",
    "$$\n",
    "W_i = \\beta_0 + \\beta_1 I_i + \\epsilon_i\n",
    "$$\n",
    "\n",
    "Then we can estimate this using R."
   ]
  },
  {
   "cell_type": "code",
   "execution_count": null,
   "metadata": {
    "collapsed": false,
    "jupyter": {
     "outputs_hidden": false
    },
    "vscode": {
     "languageId": "r"
    }
   },
   "outputs": [],
   "source": [
    "regression2 <- lm(wages ~ immstat, data = census_data)\n",
    "\n",
    "summary(regression2)"
   ]
  },
  {
   "cell_type": "markdown",
   "metadata": {},
   "source": [
    "What do you see here?\n",
    "\n",
    "> **Test Your Knowledge**:  What is the difference in average wage between immigrants and non-immigrants?"
   ]
  },
  {
   "cell_type": "code",
   "execution_count": null,
   "metadata": {
    "collapsed": false,
    "jupyter": {
     "outputs_hidden": false
    },
    "vscode": {
     "languageId": "r"
    }
   },
   "outputs": [],
   "source": [
    "# input the answer (to 1 decimal place)\n",
    "answer2 <- ...  \n",
    "\n",
    "test_2()"
   ]
  },
  {
   "cell_type": "markdown",
   "metadata": {},
   "source": [
    "The number about might seem familiar, if you remember what we learned about a $t$-test from earlier.  Remember this result?"
   ]
  },
  {
   "cell_type": "code",
   "execution_count": null,
   "metadata": {
    "collapsed": false,
    "jupyter": {
     "outputs_hidden": false
    },
    "vscode": {
     "languageId": "r"
    }
   },
   "outputs": [],
   "source": [
    "t1 <- t.test(x = filter(census_data, immstat == \"immigrants\")$wages,\n",
    "       y = filter(census_data, immstat == \"non-immigrants\")$wages,\n",
    "       alternative = \"two.sided\",\n",
    "       mu = 0,\n",
    "       conf.level = 0.95)\n",
    "t1\n",
    "\n",
    "t1$estimate[1] - t1$estimate[2]"
   ]
  },
  {
   "cell_type": "markdown",
   "metadata": {},
   "source": [
    "Look closely at this result, and the result above.  What do you see?  What is the relationship here.\n",
    "\n",
    "\n",
    "This is a very important result: regression is an example of the comparison that a two sample comparison is making, when the explantory variable is a dummy.  Why is this?  Recall:\n",
    "\n",
    "$$\n",
    "\\beta_1 = E[W_i|I_i = 1] - E[W_i|I_i = 0]\n",
    "$$\n",
    "\n",
    "The regression coefficient of $\\beta_1$ has the interpretation of being a comparison of two means.  This is exactly the same as what the $t$-test is doing!  Comparing two means by different groups - groups which are specified by $I_i = 0$ or $I_i = 1$.\n",
    "\n",
    "* In other words, another way of thinking about a regression is like a form of ``super'' comparison of means test.\n",
    "* It can handle the same kind of analysis (i.e. with dummies), but can also include quantitative variables - which regular comparison of means tests cannot handle."
   ]
  },
  {
   "cell_type": "markdown",
   "metadata": {},
   "source": [
    "## Part 3: Exercises"
   ]
  },
  {
   "cell_type": "markdown",
   "metadata": {},
   "source": [
    "### Activity 1\n",
    "In this activity, we'll explore how the immigrant wage gap could depend on sex (male vs. female). We can now examine this issue directly using regressions.\n",
    "\n",
    "Estimate the immigrant wage gap for males and for females using regressions. \n",
    "\n",
    "<em>Tested objects:</em> `regm` (the regression for males), `regf` (the regression for females)."
   ]
  },
  {
   "cell_type": "code",
   "execution_count": null,
   "metadata": {
    "collapsed": false,
    "jupyter": {
     "outputs_hidden": false
    },
    "vscode": {
     "languageId": "r"
    }
   },
   "outputs": [],
   "source": [
    "# Quiz 1\n",
    "\n",
    "# Regression for males\n",
    "regm <- lm(... ~ ..., data = filter(census_data, ... == ...)) #what should replace the ...\n",
    "\n",
    "# Regression for females\n",
    "regf <-  ... # what should replace the ...\n",
    "\n",
    "summary(regm) # Allow us to view regm's coefficient estimates\n",
    "summary(regf) # Same as above, but for regf\n",
    "\n",
    "test_3() # Quiz1\n",
    "test_4() # Quiz2"
   ]
  },
  {
   "cell_type": "markdown",
   "metadata": {},
   "source": [
    "#### Short Answer 1\n",
    "**Prompt:** How do we interpret the coefficient (Intercept) estimate on `immstat` in each of these regressions?\n",
    "\n",
    "**A** The average wage of a non-immigrant   \n",
    "**B** The average wage of an immigrant  \n",
    "**C** The difference between the average wage of an immigrant and non-immigrant  \n",
    "**D** Nothing we should worry about  \n",
    "\n"
   ]
  },
  {
   "cell_type": "code",
   "execution_count": null,
   "metadata": {},
   "outputs": [],
   "source": [
    "# Enter your answer below as \"A\", \"B\", \"C\", or \"D\"\n",
    "\n",
    "answer20 <- \"...\"\n",
    "test_20(answer20)"
   ]
  },
  {
   "cell_type": "markdown",
   "metadata": {},
   "source": [
    "#### Short Answer 2\n",
    "**Prompt:** Compare the gaps. Is the immigrant wage gap larger for males or females? Why do you think that might that be?\n",
    "\n",
    "**A** The immigrant pay gap for females is much greater than that of males  \n",
    "**B** The immigrant pay gap for males is much greater than that of females  \n",
    "**C** The immigrant pay gap is roughly the same  "
   ]
  },
  {
   "cell_type": "code",
   "execution_count": null,
   "metadata": {},
   "outputs": [],
   "source": [
    "# Enter your answer below as \"A\", \"B\", or \"C\"\n",
    "\n",
    "answer21 <- \"\"\n",
    "test_21(answer21)"
   ]
  },
  {
   "cell_type": "markdown",
   "metadata": {},
   "source": [
    "### Activity 2\n",
    "Many studies have suggested that workers' wages increase as they age. In this activity, we will explore how the immigrant wage gap varies by age. First, let's see the factor levels of the ``agegrp``:"
   ]
  },
  {
   "cell_type": "code",
   "execution_count": null,
   "metadata": {
    "collapsed": false,
    "jupyter": {
     "outputs_hidden": false
    },
    "vscode": {
     "languageId": "r"
    }
   },
   "outputs": [],
   "source": [
    "levels(census_data$agegrp) # Run this!"
   ]
  },
  {
   "cell_type": "markdown",
   "metadata": {},
   "source": [
    "As we can see, there are several age groups in this dataframe, including ones that would not be particularly informative (have you ever seen a 3-year-old doing salary work?). Let's estimate the immigrant wage gap (with no controls) for five of these groups separately:\n",
    "* 20 to 24 years\n",
    "* 30 to 34 years\n",
    "* 40 to 44 years\n",
    "* 50 to 54 years\n",
    "* 60 to 64 years\n",
    "\n",
    "<em>Tested objects:</em> ``reg5_20`` (20 to 24 years), ``reg5_50`` (50 to 54 years)"
   ]
  },
  {
   "cell_type": "code",
   "execution_count": null,
   "metadata": {
    "collapsed": false,
    "jupyter": {
     "outputs_hidden": false
    },
    "vscode": {
     "languageId": "r"
    }
   },
   "outputs": [],
   "source": [
    "reg5_20 <- lm(wages ~ immstat, data = filter(census_data, agegrp == '20 to 24 years')) #what should replace the ???\n",
    "\n",
    "reg5_30 <- ... # what should go here? Use the code above as a template\n",
    "\n",
    "reg5_40 <- ...\n",
    "\n",
    "reg5_50 <- ...\n",
    "\n",
    "reg5_60 <- ... \n",
    "\n",
    "# store the summaries (but don't show them!  too many!)\n",
    "sum20 <- summary(reg5_20)\n",
    "sum30 <- summary(reg5_30)\n",
    "sum40 <- summary(reg5_40)\n",
    "sum50 <- summary(reg5_50)\n",
    "sum60 <- summary(reg5_60)\n",
    "\n",
    "test_12() # Quiz3\n",
    "test_16() # Quiz4"
   ]
  },
  {
   "cell_type": "markdown",
   "metadata": {},
   "source": [
    "The code below will tabulate a brief summary of each regression:"
   ]
  },
  {
   "cell_type": "code",
   "execution_count": null,
   "metadata": {
    "collapsed": false,
    "jupyter": {
     "outputs_hidden": false
    },
    "vscode": {
     "languageId": "r"
    }
   },
   "outputs": [],
   "source": [
    "# Just run me!  You don't need to edit this\n",
    "\n",
    "Age_Group <- c(\"20-24\", \"30-34\", \"40-44\", \"50-54\", \"60-64\")\n",
    "Wage_Gap <- c(reg5_20$coefficients[2], reg5_30$coefficients[2], reg5_40$coefficients[2], reg5_50$coefficients[2], reg5_60$coefficients[2])\n",
    "Std._Error <- c(sum20$coefficients[2,2], sum30$coefficients[2,2], sum40$coefficients[2,2], sum50$coefficients[2,2], sum60$coefficients[2,2])\n",
    "t_Value <- c(sum20$coefficients[2,3], sum30$coefficients[2,3], sum40$coefficients[2,3], sum50$coefficients[2,3], sum60$coefficients[2,3])\n",
    "p_Value <- c(sum20$coefficients[2,4], sum30$coefficients[2,4], sum40$coefficients[2,4], sum50$coefficients[2,4], sum60$coefficients[2,4])\n",
    "\n",
    "tibble(Age_Group, Wage_Gap, Std._Error, t_Value, p_Value) # it's like a table but a tibble"
   ]
  },
  {
   "cell_type": "markdown",
   "metadata": {},
   "source": [
    "#### Short Answer 3\n",
    "**Prompt**: What happens to the immigrant wage gap as we move across age groups? What do you think might explain these changes?\n",
    "\n",
    "**A** Wage gap declines as age group decreases  \n",
    "**B** Wage gap increases as age group increases  \n",
    "**C** Wage gap is the highest at the \"40 to 44 years\" age group  \n"
   ]
  },
  {
   "cell_type": "code",
   "execution_count": null,
   "metadata": {},
   "outputs": [],
   "source": [
    "# Enter your answer below as \"A\", \"B\", or \"C\"\n",
    "\n",
    "answer22 <- \"\"\n",
    "test_22(answer22)"
   ]
  },
  {
   "cell_type": "markdown",
   "metadata": {},
   "source": [
    "### Activity 3\n",
    "As we observed in last week's worksheet, the immigrant wage gap could differ by education level. As there are many education categories, it may be tedious to run a regression for each individual education level. \n",
    "\n",
    "Instead, we could run a single regression and add education level as a second regressor, $E_i$: \n",
    "\n",
    "$$\n",
    "W_i = \\beta_0 + \\beta_1 I_i + \\beta_2 E_i + \\epsilon_i\n",
    "$$\n",
    "\n",
    "This is actually a **multiple regression**, which we will learn about later - but from the point of the this lesson, the idea is that it is \"run\" in R essentially in the same way as a simple regression.  Estimate the regression model above without $E_i$, then re-estimate the model with $E_i$ added.\n",
    "\n",
    "<em>Tested objects:</em> ``reg2A`` (regression without controls), ``reg2B`` (regression with controls)."
   ]
  },
  {
   "cell_type": "code",
   "execution_count": null,
   "metadata": {
    "collapsed": false,
    "jupyter": {
     "outputs_hidden": false
    },
    "vscode": {
     "languageId": "r"
    }
   },
   "outputs": [],
   "source": [
    "# Naive regression (just immstat)\n",
    "reg2A <- lm(... ~ ..., data = census_data) #this one works already\n",
    "\n",
    "# Regression with controls\n",
    "reg2B <-  lm(... ~ immstat + ..., data = census_data) # what should replace the ... think about the model\n",
    "\n",
    "# This will look ugly; try to look carefully at the output\n",
    "summary(reg2A)\n",
    "summary(reg2B)\n",
    "\n",
    "test_7()\n",
    "test_8() # Quiz 5"
   ]
  },
  {
   "cell_type": "markdown",
   "metadata": {
    "tags": []
   },
   "source": [
    "#### Short Answer 4\n",
    "**Prompt**: compare the estimated immigrant wage gap with and without $E_i$ in the regression. What happens to the gap when we add $E_i$? How do we interpret this?\n",
    "\n",
    "**A** The estimated immigrant wage gap has increased after adding controls  \n",
    "**B** The estimated immigrant wage gap has decreased after adding controls  \n",
    "**C** The estimated immigrant wage gap has not changed after adding controls  "
   ]
  },
  {
   "cell_type": "code",
   "execution_count": null,
   "metadata": {},
   "outputs": [],
   "source": [
    "# Enter your answer below as \"A\", \"B\", or \"C\"\n",
    "\n",
    "answer23 <- \"...\"\n",
    "test_23(answer23)"
   ]
  },
  {
   "cell_type": "markdown",
   "metadata": {},
   "source": [
    "### Activity 4\n",
    "\n",
    "Another topic of interest for labor economists that is related to the immigrant wage gap is racial wage discrimination - the issue of workers of similar productivity being paid different wages on average because of their race. Consequently, we can also use regressions to estimate the racial wage gap.\n",
    "\n",
    "Let's suppose that we want to estimate this racial wage gap. Run a regression (without controls) that does this.\n",
    "\n",
    "<em>Test objects:</em> ``reg_race``."
   ]
  },
  {
   "cell_type": "code",
   "execution_count": null,
   "metadata": {
    "collapsed": false,
    "jupyter": {
     "outputs_hidden": false
    },
    "vscode": {
     "languageId": "r"
    }
   },
   "outputs": [],
   "source": [
    "# Do not modify this line (sets \"not a visible minority\" as the reference level):\n",
    "census_data$vismin <- relevel(census_data$vismin, ref = \"not a visible minority\")\n",
    "# this is also how you set a different base level for a factor (handy!)\n",
    "\n",
    "# Racial Wage Gap Regression\n",
    "\n",
    "reg_race <- lm(wages ~ ..., data = census_data) # what model should we use here?\n",
    "\n",
    "summary(reg_race)\n",
    "\n",
    "test_10() #Quiz6"
   ]
  },
  {
   "cell_type": "markdown",
   "metadata": {},
   "source": [
    "#### Short Answer 5\n",
    "**Prompt**: How should we interpret the regression estimate for `visminblack`?\n",
    "\n",
    "**A** People from the Black community make on average about 14,795 dollars less as compared to an average white person.  \n",
    "**B** Black immigrants make 14,795 dollars less than Black non-immigrants on average  \n",
    "**C** On average, a person from the Black community makes 14,795 dollars less than an average white person, holding all other variables constant  "
   ]
  },
  {
   "cell_type": "code",
   "execution_count": null,
   "metadata": {},
   "outputs": [],
   "source": [
    "# Enter your answer below as \"A\", \"B\", or \"C\"\n",
    "\n",
    "answer24 <- \"...\"\n",
    "test_24(answer24)"
   ]
  },
  {
   "cell_type": "markdown",
   "metadata": {},
   "source": [
    "#### Short Answer 6\n",
    "**Prompt**: With this racial wage gap in mind, let's return to the immigrant wage gap. Should we add explanatory variables for race to our regression from activity 2 and 3? Why or why not?\n",
    "\n",
    "**A** No we should not  \n",
    "**B** Yes, we should because there could be other factors explaining the wage gap  \n",
    "**C** Yes, we should control for education only.    \n",
    "**D** Yes, we should control for immigrant status only.  "
   ]
  },
  {
   "cell_type": "code",
   "execution_count": null,
   "metadata": {},
   "outputs": [],
   "source": [
    "# Enter your answer below as \"A\", \"B\", or \"C\"\n",
    "\n",
    "answer25 <- \"...\"\n",
    "test_25(answer25)"
   ]
  },
  {
   "cell_type": "markdown",
   "metadata": {},
   "source": [
    "<font style=\"color:red\">Answer in red here!</font>"
   ]
  },
  {
   "cell_type": "markdown",
   "metadata": {},
   "source": [
    "#### Theoretical Answer 2\n",
    "\n",
    "In your answer above, what would happen if you went from  What about when $I_i = 1$ to $I_i = 0$?  Is it the same as before?  Explain why or why not."
   ]
  },
  {
   "cell_type": "markdown",
   "metadata": {},
   "source": [
    "<font style=\"color:red\">Answer in red here!</font>"
   ]
  }
 ],
 "metadata": {
  "kernelspec": {
   "display_name": "R",
   "language": "R",
   "name": "ir"
  },
  "language_info": {
   "codemirror_mode": "r",
   "file_extension": ".r",
   "mimetype": "text/x-r-source",
   "name": "R",
   "pygments_lexer": "r",
   "version": "4.1.1"
  }
 },
 "nbformat": 4,
 "nbformat_minor": 4
}
