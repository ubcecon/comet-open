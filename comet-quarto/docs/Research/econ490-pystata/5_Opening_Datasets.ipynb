{
 "cells": [
  {
   "cell_type": "markdown",
   "id": "e1a2cfd1",
   "metadata": {},
   "source": [
    "# ECON 490: Opening Datasets (5)\n",
    "\n",
    "## Prerequisites\n",
    "\n",
    "1. Understand how to effectively use Stata do files and know how to generate log files.\n",
    "2. Run basic Stata commands such as `help`, `describe`, `summarize`, `for` and `while`.\n",
    "3. Know how to use macros in writing Stata commands.\n",
    "\n",
    "## Learning Outcomes\n",
    "\n",
    "1. Understand how to use `clear` at the beginning of do-files.\n",
    "2. Know how to change directories so that Stata can find relevant files.\n",
    "3. Import datasets in csv and excel formats.\n",
    "4. Import datasets in dta format. \n",
    "5. Save data files. "
   ]
  },
  {
   "cell_type": "code",
   "execution_count": 57,
   "id": "00ed134b",
   "metadata": {},
   "outputs": [
    {
     "name": "stderr",
     "output_type": "stream",
     "text": [
      "<>:2: SyntaxWarning: invalid escape sequence '\\P'\n",
      "<>:2: SyntaxWarning: invalid escape sequence '\\P'\n",
      "C:\\Users\\irene\\AppData\\Local\\Temp\\ipykernel_26444\\4069384911.py:2: SyntaxWarning: invalid escape sequence '\\P'\n",
      "  stata_setup.config('C:\\Program Files\\Stata18/','se')\n"
     ]
    }
   ],
   "source": [
    "import stata_setup\n",
    "stata_setup.config('C:\\Program Files\\Stata18/','se')"
   ]
  },
  {
   "cell_type": "code",
   "execution_count": 58,
   "id": "22c23b68",
   "metadata": {},
   "outputs": [],
   "source": [
    ">>> import sys\n",
    ">>> sys.path.append('/Applications/Stata/utilities') # make sure this is the same as what you set up in Module - 1, Section 1.5.1: Setting Up PyStata\n",
    ">>> from pystata import config\n",
    ">>> config.init('se')"
   ]
  },
  {
   "cell_type": "markdown",
   "id": "71886b4e",
   "metadata": {},
   "source": [
    "In this repository you will find a folder named \"data\", with a sub-folder named \"raw\". In that sub-folder you will find two different versions of the same data set: \"fake_data.csv\" and \"fake_data.dta\". The data set simulates information of workers in the years 1982-2012 in a fake country where, in 2003, a policy was enacted that allowed some workers to enter a training program with the purpose of boosting their earnings. We will be using this data set to learn how to explore and manipulate real-world datasets. "
   ]
  },
  {
   "cell_type": "markdown",
   "id": "f71b28ba",
   "metadata": {
    "tags": []
   },
   "source": [
    "## 5.1 Clearing the Workspace\n",
    "\n",
    "Do-files should begin with a command that clears the previous work that has been open in Stata. This makes sure that: \n",
    "1. We do not waste computer memory on things other than the current project.\n",
    "2. Whatever result we obtain in the current session truly belongs to that session.\n",
    "\n",
    "\n",
    "We can clear the workspace of many different things (see `help clear` if needed). For the purpose of this lecture, the most comprehensive thing to do is to run the following:"
   ]
  },
  {
   "cell_type": "code",
   "execution_count": null,
   "id": "44c91e9c",
   "metadata": {},
   "outputs": [],
   "source": [
    "%%stata\n",
    "clear *"
   ]
  },
  {
   "cell_type": "markdown",
   "id": "b4954288",
   "metadata": {},
   "source": [
    "## 5.2 Changing Directories \n",
    "\n",
    "Before we get started on importing data into Stata, it is useful to know how to change the folder that Stata accesses whenever we run a command that either opens or saves a file. Once we instruct Stata to change the directory to a specific folder, from that point onward it will open files from that folder and save all files to that folder, including data files, do files, and log files. Stata will continue to do this until either the program is closed or we change to another directory. This means that every time we open Stata, we need to change the directory to the one we want to use. \n",
    "\n",
    "We can begin by using the `pwd` command to view the current working directory.\n"
   ]
  },
  {
   "cell_type": "code",
   "execution_count": 4,
   "id": "ba13549a",
   "metadata": {},
   "outputs": [
    {
     "name": "stdout",
     "output_type": "stream",
     "text": [
      "C:\\Users\\irene\\econometrics\\econ490-pystata\n"
     ]
    }
   ],
   "source": [
    "%%stata\n",
    "pwd"
   ]
  },
  {
   "cell_type": "markdown",
   "id": "0cb3f4f5",
   "metadata": {},
   "source": [
    "<div class=\"alert alert-info\">\n",
    "\n",
    "**Note:**  We write the directory path within quotation marks to make sure Stata interprets this as a single string of words. If we don't do this, we may encounter issues with folders that include blank spaces. \n",
    "\n",
    "</div>\n",
    "\n",
    "Now change the directory to the specific location where you saved the fake_data file using the command below. You can change your workspace to a directory named \"some_folder/some_sub_folder\" by writing `cd \"some_folder/some_sub_folder\"`. \n",
    "\n",
    "Use the space below to do this on your own computer."
   ]
  },
  {
   "cell_type": "code",
   "execution_count": 18,
   "id": "f26cb9d0",
   "metadata": {},
   "outputs": [
    {
     "name": "stdout",
     "output_type": "stream",
     "text": [
      "\n",
      ". \n",
      ". cd \"\\Users\\irene\\econometrics\\econ490-pystata\" \n",
      "C:\\Users\\irene\\econometrics\\econ490-pystata\n",
      "\n",
      ". * type your file path to the folder containing the data between the quotation\n",
      ">  marks in the line above\n",
      ". \n"
     ]
    }
   ],
   "source": [
    "%%stata\n",
    "\n",
    "cd \"\\Users\\irene\\econometrics\\econ490-pystata\" \n",
    "* type your file path to the folder containing the data between the quotation marks in the line above"
   ]
  },
  {
   "cell_type": "markdown",
   "id": "39b3f082",
   "metadata": {},
   "source": [
    "Notice that once we change directories, Stata outputs the full name of the directory where we are currently working.\n",
    "\n",
    "One trick to using `cd` is that we can use periods (.) to move back folders: two period to move back one folder, three periods to move back two folders, etc. Try the command below to compare the folder Stata is now directed to with the command above. You can repeat this using two periods."
   ]
  },
  {
   "cell_type": "code",
   "execution_count": 17,
   "id": "6920675d",
   "metadata": {},
   "outputs": [
    {
     "name": "stdout",
     "output_type": "stream",
     "text": [
      "\n",
      ". \n",
      ". cd ..\n",
      "C:\\Users\\irene\\econometrics\n",
      "\n",
      ". \n"
     ]
    }
   ],
   "source": [
    "%%stata\n",
    "\n",
    "cd .."
   ]
  },
  {
   "cell_type": "markdown",
   "id": "388afeb6",
   "metadata": {},
   "source": [
    "An easier way to change the directory is by typing the `cd` command followed by the folder you want to set as your working directory. In this method, quotation marks are not necessary."
   ]
  },
  {
   "cell_type": "code",
   "execution_count": 7,
   "id": "41b0a413",
   "metadata": {},
   "outputs": [
    {
     "ename": "SystemError",
     "evalue": "\n. \n. cd myfolder\nunable to change to myfolder\nr(170);\nr(170);\n",
     "output_type": "error",
     "traceback": [
      "\u001b[1;31m---------------------------------------------------------------------------\u001b[0m",
      "\u001b[1;31mSystemError\u001b[0m                               Traceback (most recent call last)",
      "Cell \u001b[1;32mIn[7], line 1\u001b[0m\n\u001b[1;32m----> 1\u001b[0m \u001b[43mget_ipython\u001b[49m\u001b[43m(\u001b[49m\u001b[43m)\u001b[49m\u001b[38;5;241;43m.\u001b[39;49m\u001b[43mrun_cell_magic\u001b[49m\u001b[43m(\u001b[49m\u001b[38;5;124;43m'\u001b[39;49m\u001b[38;5;124;43mstata\u001b[39;49m\u001b[38;5;124;43m'\u001b[39;49m\u001b[43m,\u001b[49m\u001b[43m \u001b[49m\u001b[38;5;124;43m'\u001b[39;49m\u001b[38;5;124;43m'\u001b[39;49m\u001b[43m,\u001b[49m\u001b[43m \u001b[49m\u001b[38;5;124;43m'\u001b[39;49m\u001b[38;5;130;43;01m\\n\u001b[39;49;00m\u001b[38;5;124;43mcd myfolder\u001b[39;49m\u001b[38;5;130;43;01m\\n\u001b[39;49;00m\u001b[38;5;130;43;01m\\n\u001b[39;49;00m\u001b[38;5;124;43m*Use myfolder as a placeholder for the folder you want to set as your working directory\u001b[39;49m\u001b[38;5;130;43;01m\\n\u001b[39;49;00m\u001b[38;5;124;43m'\u001b[39;49m\u001b[43m)\u001b[49m\n",
      "File \u001b[1;32m~\\anaconda3\\envs\\pystata\\Lib\\site-packages\\IPython\\core\\interactiveshell.py:2517\u001b[0m, in \u001b[0;36mInteractiveShell.run_cell_magic\u001b[1;34m(self, magic_name, line, cell)\u001b[0m\n\u001b[0;32m   2515\u001b[0m \u001b[38;5;28;01mwith\u001b[39;00m \u001b[38;5;28mself\u001b[39m\u001b[38;5;241m.\u001b[39mbuiltin_trap:\n\u001b[0;32m   2516\u001b[0m     args \u001b[38;5;241m=\u001b[39m (magic_arg_s, cell)\n\u001b[1;32m-> 2517\u001b[0m     result \u001b[38;5;241m=\u001b[39m \u001b[43mfn\u001b[49m\u001b[43m(\u001b[49m\u001b[38;5;241;43m*\u001b[39;49m\u001b[43margs\u001b[49m\u001b[43m,\u001b[49m\u001b[43m \u001b[49m\u001b[38;5;241;43m*\u001b[39;49m\u001b[38;5;241;43m*\u001b[39;49m\u001b[43mkwargs\u001b[49m\u001b[43m)\u001b[49m\n\u001b[0;32m   2519\u001b[0m \u001b[38;5;66;03m# The code below prevents the output from being displayed\u001b[39;00m\n\u001b[0;32m   2520\u001b[0m \u001b[38;5;66;03m# when using magics with decorator @output_can_be_silenced\u001b[39;00m\n\u001b[0;32m   2521\u001b[0m \u001b[38;5;66;03m# when the last Python token in the expression is a ';'.\u001b[39;00m\n\u001b[0;32m   2522\u001b[0m \u001b[38;5;28;01mif\u001b[39;00m \u001b[38;5;28mgetattr\u001b[39m(fn, magic\u001b[38;5;241m.\u001b[39mMAGIC_OUTPUT_CAN_BE_SILENCED, \u001b[38;5;28;01mFalse\u001b[39;00m):\n",
      "File \u001b[1;32mC:\\Program Files\\Stata18/utilities\\pystata\\ipython\\stpymagic.py:276\u001b[0m, in \u001b[0;36mPyStataMagic.stata\u001b[1;34m(self, line, cell, local_ns)\u001b[0m\n\u001b[0;32m    274\u001b[0m     _stata\u001b[38;5;241m.\u001b[39mrun(cell, quietly\u001b[38;5;241m=\u001b[39m\u001b[38;5;28;01mTrue\u001b[39;00m, inline\u001b[38;5;241m=\u001b[39m_config\u001b[38;5;241m.\u001b[39mstconfig[\u001b[38;5;124m'\u001b[39m\u001b[38;5;124mgrshow\u001b[39m\u001b[38;5;124m'\u001b[39m])\n\u001b[0;32m    275\u001b[0m \u001b[38;5;28;01melse\u001b[39;00m:\n\u001b[1;32m--> 276\u001b[0m     \u001b[43m_stata\u001b[49m\u001b[38;5;241;43m.\u001b[39;49m\u001b[43mrun\u001b[49m\u001b[43m(\u001b[49m\u001b[43mcell\u001b[49m\u001b[43m,\u001b[49m\u001b[43m \u001b[49m\u001b[43mquietly\u001b[49m\u001b[38;5;241;43m=\u001b[39;49m\u001b[38;5;28;43;01mFalse\u001b[39;49;00m\u001b[43m,\u001b[49m\u001b[43m \u001b[49m\u001b[43minline\u001b[49m\u001b[38;5;241;43m=\u001b[39;49m\u001b[43m_config\u001b[49m\u001b[38;5;241;43m.\u001b[39;49m\u001b[43mstconfig\u001b[49m\u001b[43m[\u001b[49m\u001b[38;5;124;43m'\u001b[39;49m\u001b[38;5;124;43mgrshow\u001b[39;49m\u001b[38;5;124;43m'\u001b[39;49m\u001b[43m]\u001b[49m\u001b[43m)\u001b[49m\n\u001b[0;32m    278\u001b[0m \u001b[38;5;28;01mif\u001b[39;00m \u001b[38;5;124m'\u001b[39m\u001b[38;5;124m-gw\u001b[39m\u001b[38;5;124m'\u001b[39m \u001b[38;5;129;01min\u001b[39;00m args \u001b[38;5;129;01mor\u001b[39;00m \u001b[38;5;124m'\u001b[39m\u001b[38;5;124m-gh\u001b[39m\u001b[38;5;124m'\u001b[39m \u001b[38;5;129;01min\u001b[39;00m args:\n\u001b[0;32m    279\u001b[0m     _config\u001b[38;5;241m.\u001b[39mset_graph_size(gwidth, gheight)\n",
      "File \u001b[1;32mC:\\Program Files\\Stata18/utilities\\pystata\\stata.py:325\u001b[0m, in \u001b[0;36mrun\u001b[1;34m(cmd, quietly, echo, inline)\u001b[0m\n\u001b[0;32m    323\u001b[0m \u001b[38;5;124m        _stata_wrk2(\u001b[39m\u001b[38;5;124m\"\u001b[39m\u001b[38;5;124mqui include \u001b[39m\u001b[38;5;124m\"\u001b[39m\u001b[38;5;124m + tmpf, None, False, 1)\u001b[39m\n\u001b[0;32m    324\u001b[0m \u001b[38;5;124m    else:\u001b[39m\n\u001b[1;32m--> 325\u001b[0m \u001b[38;5;124m        _stata_wrk2(\u001b[39m\u001b[38;5;124;43m\"\u001b[39;49m\u001b[38;5;124;43minclude \u001b[39;49m\u001b[38;5;124;43m\"\u001b[39;49m\u001b[38;5;124;43m + tmpf, None, False, 1)\u001b[39;49m\n\u001b[0;32m    327\u001b[0m \u001b[38;5;124mif inline:\u001b[39m\n\u001b[0;32m    328\u001b[0m \u001b[38;5;124m    if config.get_stipython()>=3:\u001b[39m\n",
      "File \u001b[1;32mC:\\Program Files\\Stata18/utilities\\pystata\\stata.py:116\u001b[0m, in \u001b[0;36m_stata_wrk2\u001b[1;34m(cmd, real_cmd, colon, mode)\u001b[0m\n\u001b[0;32m    114\u001b[0m         err \u001b[38;5;241m=\u001b[39m callback[\u001b[38;5;241m0\u001b[39m]\n\u001b[0;32m    115\u001b[0m         callback\u001b[38;5;241m.\u001b[39mclear()\n\u001b[1;32m--> 116\u001b[0m         \u001b[38;5;28;01mraise\u001b[39;00m \u001b[38;5;167;01mSystemError\u001b[39;00m(err)\n\u001b[0;32m    117\u001b[0m \u001b[38;5;28;01mexcept\u001b[39;00m \u001b[38;5;167;01mKeyboardInterrupt\u001b[39;00m:\n\u001b[0;32m    118\u001b[0m     outputter\u001b[38;5;241m.\u001b[39mdone()\n",
      "\u001b[1;31mSystemError\u001b[0m: \n. \n. cd myfolder\nunable to change to myfolder\nr(170);\nr(170);\n"
     ]
    }
   ],
   "source": [
    "%%stata\n",
    "\n",
    "cd myfolder\n",
    "\n",
    "*Use myfolder as a placeholder for the folder you want to set as your working directory"
   ]
  },
  {
   "cell_type": "markdown",
   "id": "0ea69c82",
   "metadata": {},
   "source": [
    "In addition, we can use the command `cd` on its own to go back to the home directory.\n",
    "\n",
    "The process for changing directories in Stata varies depending on the type of computer being used. If one approach does not work, it is possible that the method is not suitable to your computer. Please the Stata manual for instructions on how to change directories according to the type of computer you are using: https://www.stata.com/manuals/dcd.pdf"
   ]
  },
  {
   "cell_type": "markdown",
   "id": "b2a6493f",
   "metadata": {},
   "source": [
    "## 5.3 Opening Datasets \n",
    "\n",
    "#### 5.3.1 Excel and CSV files \n",
    "When looking for the data for your research, you will realize that many data sets are not formatted for Stata. In some cases, data sets are formatted as excel or CSV files. Not surprisingly the command to load in data is called `import`. IT comes in two main forms: `import excel` and `import delimited`. \n",
    "\n",
    "Let's import the data set called `fake_data.csv`. We need to use import delimited to import this data into Stata. The syntax for this command is `import delimited [using] filename [, import_delimited_options]`. \n",
    "\n",
    "We always include the option `clear` when we use import to make sure we're clearing any previous data set that was opened before in our Stata session. Recall that to use an option, we include a comma (`,`) after the command line and write the option name. You are welcome to also read the documentation of these commands by writing `help import delimited`.\n",
    "\n",
    "Note that the command below will not import the data unless you have changed your directory (above) to the folder which contains this file. "
   ]
  },
  {
   "cell_type": "markdown",
   "id": "e0a677f0",
   "metadata": {},
   "source": [
    "\n",
    "**Ignore the following block of code that will create a csv file to be used as an example**\n"
   ]
  },
  {
   "cell_type": "code",
   "execution_count": 19,
   "id": "bd06a759",
   "metadata": {},
   "outputs": [
    {
     "name": "stdout",
     "output_type": "stream",
     "text": [
      "\n",
      ". \n",
      ". use fake_data, clear\n",
      "\n",
      ". export delimited using \"fake_data.csv\", replace\n",
      "(file fake_data.csv not found)\n",
      "file fake_data.csv saved\n",
      "\n",
      ". \n"
     ]
    }
   ],
   "source": [
    "%%stata\n",
    "\n",
    "use fake_data, clear\n",
    "export delimited using \"fake_data.csv\", replace"
   ]
  },
  {
   "cell_type": "markdown",
   "id": "c5536977",
   "metadata": {},
   "source": [
    "\n",
    "\n",
    "To load a csv dataset we write."
   ]
  },
  {
   "cell_type": "code",
   "execution_count": 20,
   "id": "bdf9227b",
   "metadata": {},
   "outputs": [
    {
     "name": "stdout",
     "output_type": "stream",
     "text": [
      "\n",
      ". \n",
      ". import delimited using \"fake_data.csv\", clear\n",
      "(encoding automatically selected: UTF-8)\n",
      "(11 vars, 138,138 obs)\n",
      "\n",
      ". \n"
     ]
    }
   ],
   "source": [
    "%%stata\n",
    "\n",
    "import delimited using \"fake_data.csv\", clear"
   ]
  },
  {
   "cell_type": "markdown",
   "id": "50aba06a",
   "metadata": {},
   "source": [
    "When we run this command, Stata will print a message saying that there are 9 variables and almost 3 million observations.  When we open datasets that are not in Stata format, it is very important to check whether the first row of the data includes the variable names. \n",
    "\n",
    "We can use the command `list` to look at our data. It is better to limit the observations we see since we don't want to see all 3 million! Thus, we use `in` to constrain the list to the first 3 observations below."
   ]
  },
  {
   "cell_type": "code",
   "execution_count": 21,
   "id": "500d4930",
   "metadata": {},
   "outputs": [
    {
     "name": "stdout",
     "output_type": "stream",
     "text": [
      "\n",
      ". \n",
      ". list in 1/3 \n",
      "\n",
      "     +----------------------------------------------------------------------+\n",
      "  1. | workerid | year | sex | age | start_~r | region | treated | earnings |\n",
      "     |        1 | 1999 |   M |  55 |     1997 |      1 |       0 | 39975.01 |\n",
      "     |----------------------------------------------------------------------|\n",
      "     |       sample~t       |       quarte~h        |       school~g        |\n",
      "     |       .2607649       |              2        |             16        |\n",
      "     +----------------------------------------------------------------------+\n",
      "\n",
      "     +----------------------------------------------------------------------+\n",
      "  2. | workerid | year | sex | age | start_~r | region | treated | earnings |\n",
      "     |        1 | 2001 |   M |  57 |     1997 |      1 |       0 | 278378.1 |\n",
      "     |----------------------------------------------------------------------|\n",
      "     |       sample~t       |       quarte~h        |       school~g        |\n",
      "     |       .0142739       |              2        |             16        |\n",
      "     +----------------------------------------------------------------------+\n",
      "\n",
      "     +----------------------------------------------------------------------+\n",
      "  3. | workerid | year | sex | age | start_~r | region | treated | earnings |\n",
      "     |        2 | 2001 |   M |  54 |     2001 |      4 |       0 |  18682.6 |\n",
      "     |----------------------------------------------------------------------|\n",
      "     |       sample~t       |       quarte~h        |       school~g        |\n",
      "     |       .0321868       |              4        |             16        |\n",
      "     +----------------------------------------------------------------------+\n",
      "\n",
      ". \n"
     ]
    }
   ],
   "source": [
    "%%stata\n",
    "\n",
    "list in 1/3 "
   ]
  },
  {
   "cell_type": "markdown",
   "id": "f48f0ea8",
   "metadata": {},
   "source": [
    "By default the first row of data is interpreted as the variable names of the data set, which in this case is correct. If that's not the case, we need to include the import delimited option `varnames(#|nonames)`, where we replace `#` by the observation number that includes the names. If the data has no names the option is `varnames(nonames)`. Don't forget that you can always check the documentation by writing `help import delimited`.\n",
    "\n",
    "#### 5.3.2 Stata files\n",
    "To open data sets in Stata format, we use the command `use`. As we can observe from the example below, we can recognize a dataset is stored in stata format because the file's name will end with .dta."
   ]
  },
  {
   "cell_type": "code",
   "execution_count": 22,
   "id": "dbde8635",
   "metadata": {},
   "outputs": [
    {
     "name": "stdout",
     "output_type": "stream",
     "text": [
      "\n",
      ". \n",
      ". use \"fake_data.dta\", clear\n",
      "\n",
      ". \n"
     ]
    }
   ],
   "source": [
    "%%stata\n",
    "\n",
    "use \"fake_data.dta\", clear"
   ]
  },
  {
   "cell_type": "code",
   "execution_count": 23,
   "id": "12c1dcdb",
   "metadata": {},
   "outputs": [
    {
     "name": "stdout",
     "output_type": "stream",
     "text": [
      "\n",
      ". \n",
      ". list in 1/3 \n",
      "\n",
      "     +----------------------------------------------------------------------+\n",
      "  1. | workerid | year | sex | age | start_~r | region | treated | earnings |\n",
      "     |        1 | 1999 |   M |  55 |     1997 |      1 |       0 | 39975.01 |\n",
      "     |----------------------------------------------------------------------|\n",
      "     |       sample~t       |       quarte~h        |       school~g        |\n",
      "     |       .2607649       |              2        |             16        |\n",
      "     +----------------------------------------------------------------------+\n",
      "\n",
      "     +----------------------------------------------------------------------+\n",
      "  2. | workerid | year | sex | age | start_~r | region | treated | earnings |\n",
      "     |        1 | 2001 |   M |  57 |     1997 |      1 |       0 | 278378.1 |\n",
      "     |----------------------------------------------------------------------|\n",
      "     |       sample~t       |       quarte~h        |       school~g        |\n",
      "     |       .0142739       |              2        |             16        |\n",
      "     +----------------------------------------------------------------------+\n",
      "\n",
      "     +----------------------------------------------------------------------+\n",
      "  3. | workerid | year | sex | age | start_~r | region | treated | earnings |\n",
      "     |        2 | 2001 |   M |  54 |     2001 |      4 |       0 |  18682.6 |\n",
      "     |----------------------------------------------------------------------|\n",
      "     |       sample~t       |       quarte~h        |       school~g        |\n",
      "     |       .0321868       |              4        |             16        |\n",
      "     +----------------------------------------------------------------------+\n",
      "\n",
      ". \n"
     ]
    }
   ],
   "source": [
    "%%stata\n",
    "\n",
    "list in 1/3 "
   ]
  },
  {
   "cell_type": "markdown",
   "id": "efaf2c20",
   "metadata": {},
   "source": [
    "#### 5.3.3 Other files\n",
    "\n",
    "You can open a number of different data files in Stata with no issues. If you are struggling, one option at UBC is to use the program StatTransfer to convert your file to dta format. This program is available in the library on the UBC Vancouver Campus at one of the [Digital Scholarship workstations](https://researchcommons.library.ubc.ca/digital-scholarship-lab-use-policy-and-guideline/). Once your data is in dta format, it can be imported with the `use` command seen above."
   ]
  },
  {
   "cell_type": "markdown",
   "id": "fd51f19e",
   "metadata": {
    "tags": []
   },
   "source": [
    "<div class=\"alert alert-info\">\n",
    "\n",
    "**Note:** UBC has research support available for any student who needs help with data, including anyone who needs help getting  data into a format that can be imported into Stata. You can find the contact information for the Economics Librarian on the [UBC Library ECON 490 Research Guide](https://guides.library.ubc.ca/ECON490).\n",
    "\n",
    "</div>"
   ]
  },
  {
   "cell_type": "markdown",
   "id": "3802c998",
   "metadata": {},
   "source": [
    "## 5.4 Commands to Explore the Dataset"
   ]
  },
  {
   "cell_type": "markdown",
   "id": "206754c9",
   "metadata": {},
   "source": [
    "#### 5.4.1 `describe`\n",
    "\n",
    "The first command we are going to use describes the basic characteristics of the variables in the loaded data set."
   ]
  },
  {
   "cell_type": "code",
   "execution_count": 24,
   "id": "f4ed95d0",
   "metadata": {},
   "outputs": [
    {
     "name": "stdout",
     "output_type": "stream",
     "text": [
      "\n",
      ". \n",
      ". describe\n",
      "\n",
      "Contains data from fake_data.dta\n",
      " Observations:       138,138                  \n",
      "    Variables:            11                  16 Jul 2023 17:25\n",
      "-------------------------------------------------------------------------------\n",
      "Variable      Storage   Display    Value\n",
      "    name         type    format    label      Variable label\n",
      "-------------------------------------------------------------------------------\n",
      "workerid        long    %12.0g                Worker Identifier\n",
      "year            int     %8.0g                 Calendar Year\n",
      "sex             str1    %9s                   Sex\n",
      "age             byte    %9.0g                 Age (years)\n",
      "start_year      int     %9.0g                 Initial year worker is observed\n",
      "region          byte    %9.0g                 group(prov)\n",
      "treated         byte    %8.0g                 Treatment Dummy\n",
      "earnings        float   %9.0g                 Earnings\n",
      "sample_weight   float   %9.0g                 \n",
      "quarter_birth   float   %9.0g                 Quarter of birth\n",
      "schooling       float   %9.0g                 Years of schooling\n",
      "-------------------------------------------------------------------------------\n",
      "Sorted by: workerid\n",
      "\n",
      ". \n"
     ]
    }
   ],
   "source": [
    "%%stata\n",
    "\n",
    "describe"
   ]
  },
  {
   "cell_type": "markdown",
   "id": "5dbd30cd",
   "metadata": {},
   "source": [
    "#### 5.4.2 `codebook`\n",
    "\n",
    "We can further analyze any variable by using the `codebook` command. Let's do this here to learn more about the variable _earnings_."
   ]
  },
  {
   "cell_type": "code",
   "execution_count": 52,
   "id": "9b34137e",
   "metadata": {},
   "outputs": [
    {
     "name": "stdout",
     "output_type": "stream",
     "text": [
      "\n",
      ". \n",
      ". codebook earnings\n",
      "\n",
      "-------------------------------------------------------------------------------\n",
      "earnings                                                               Earnings\n",
      "-------------------------------------------------------------------------------\n",
      "\n",
      "                  Type: Numeric (float)\n",
      "\n",
      "                 Range: [36.193157,63573580]          Units: 1.000e-06\n",
      "         Unique values: 137,915                   Missing .: 0/138,138\n",
      "\n",
      "                  Mean: 84136.4\n",
      "             Std. dev.:  252802\n",
      "\n",
      "           Percentiles:     10%       25%       50%       75%       90%\n",
      "                        10220.9   20562.6     43783   92378.2    183237\n",
      "\n",
      ". \n"
     ]
    }
   ],
   "source": [
    "%%stata\n",
    "\n",
    "codebook earnings"
   ]
  },
  {
   "cell_type": "markdown",
   "id": "9aab64bb",
   "metadata": {},
   "source": [
    "The codebook command gives us important information about this variable such as the type (i.e. string or numeric), how many missing observations it has (very useful to know!) and all unique values. If the variable is numeric, it will also provide some summary statistics. If the variable is a string, it will provided examples of some of the entries.\n",
    "\n",
    "Try changing the variable name in the cell above to see the codebook entries for different variables in the data set. "
   ]
  },
  {
   "cell_type": "markdown",
   "id": "c300b0f8",
   "metadata": {},
   "source": [
    "#### 5.4.3 `tabulate`\n",
    "\n",
    "We can also learn more about the frequency of the different measures of one variable by using the command `tabulate`."
   ]
  },
  {
   "cell_type": "code",
   "execution_count": 53,
   "id": "14221802",
   "metadata": {},
   "outputs": [
    {
     "name": "stdout",
     "output_type": "stream",
     "text": [
      "\n",
      ". \n",
      ". tabulate region\n",
      "\n",
      "group(prov) |      Freq.     Percent        Cum.\n",
      "------------+-----------------------------------\n",
      "          1 |     54,364       39.35       39.35\n",
      "          2 |     34,072       24.67       64.02\n",
      "          3 |      6,216        4.50       68.52\n",
      "          4 |     17,572       12.72       81.24\n",
      "          5 |     25,914       18.76      100.00\n",
      "------------+-----------------------------------\n",
      "      Total |    138,138      100.00\n",
      "\n",
      ". \n"
     ]
    }
   ],
   "source": [
    "%%stata\n",
    "\n",
    "tabulate region"
   ]
  },
  {
   "cell_type": "markdown",
   "id": "e16431d6",
   "metadata": {},
   "source": [
    "Here we can see that there are five regions indicated in this data set. We can see that the majority of people surveyed came from region 1. \n",
    "\n",
    "We can actually include two variables in the `tabulate` command if we want more information. When we do this below we see that there were 234,355 female identified and 425,698 male identified persons surveyed in region 1. "
   ]
  },
  {
   "cell_type": "code",
   "execution_count": 54,
   "id": "224233b3",
   "metadata": {},
   "outputs": [
    {
     "name": "stdout",
     "output_type": "stream",
     "text": [
      "\n",
      ". \n",
      ". tabulate region sex\n",
      "\n",
      "group(prov |          Sex\n",
      "         ) |         F          M |     Total\n",
      "-----------+----------------------+----------\n",
      "         1 |    11,036     43,328 |    54,364 \n",
      "         2 |     7,881     26,191 |    34,072 \n",
      "         3 |     1,247      4,969 |     6,216 \n",
      "         4 |     3,997     13,575 |    17,572 \n",
      "         5 |     6,358     19,556 |    25,914 \n",
      "-----------+----------------------+----------\n",
      "     Total |    30,519    107,619 |   138,138 \n",
      "\n",
      ". \n"
     ]
    }
   ],
   "source": [
    "%%stata\n",
    "\n",
    "tabulate region sex"
   ]
  },
  {
   "cell_type": "markdown",
   "id": "f447ccb6",
   "metadata": {},
   "source": [
    "#### 5.4.4 `lookfor`\n",
    "\n",
    "What if there's a gazillion variables and we're looking for a particular one? Thankfully, Stata provides a nice command called `lookfor` which helps us search for variables based on keywords. Suppose we want to look for a variable that is related to year. "
   ]
  },
  {
   "cell_type": "code",
   "execution_count": 55,
   "id": "2a8be393",
   "metadata": {},
   "outputs": [
    {
     "name": "stdout",
     "output_type": "stream",
     "text": [
      "\n",
      ". \n",
      ". lookfor year\n",
      "\n",
      "Variable      Storage   Display    Value\n",
      "    name         type    format    label      Variable label\n",
      "-------------------------------------------------------------------------------\n",
      "year            int     %8.0g                 Calendar Year\n",
      "age             byte    %9.0g                 Age (years)\n",
      "start_year      int     %9.0g                 Initial year worker is observed\n",
      "schooling       float   %9.0g                 Years of schooling\n",
      "\n",
      ". \n"
     ]
    }
   ],
   "source": [
    "%%stata\n",
    "\n",
    "lookfor year"
   ]
  },
  {
   "cell_type": "markdown",
   "id": "c9023792",
   "metadata": {},
   "source": [
    "Stata found three variables that include the word year either in the variable name or in the variable label. This is super useful when we are getting to know a data set!"
   ]
  },
  {
   "cell_type": "markdown",
   "id": "68b82557",
   "metadata": {},
   "source": [
    "## 5.5 Saving Datasets \n",
    "\n",
    "We can save any opened data set in Stata format by writing `save using \"some_directory/dataset_name.dta\", replace`. The replace option overwrites a previous version of the file to keep our save current. \n",
    "\n",
    "We can also save files in different formats with the `export excel` and `export delimited` commands. Look at the help documentation for more details."
   ]
  },
  {
   "cell_type": "markdown",
   "id": "f9603334",
   "metadata": {},
   "source": [
    "## 5.6 Wrap Up\n",
    "\n",
    "Now that you are able to import data into Stata, you can start doing your own analysis! Try finding a data set that interests you and practice some of the commands that you have already learned in the first few Modules. In the next module, we will look at commands for working with data in greater depth."
   ]
  },
  {
   "cell_type": "markdown",
   "id": "2f5ec783",
   "metadata": {},
   "source": [
    "### 5.6.1 Wrap Up Table"
   ]
  },
  {
   "cell_type": "markdown",
   "id": "03b46b19",
   "metadata": {},
   "source": [
    "| Command | Function |\n",
    "|---------|----------|\n",
    "|`clear`    | used to clear the workspace|\n",
    "|`cd`       | used to change the working directory|\n",
    "|`pwd`      | used to view the current working directory|\n",
    "|`use`      | used to open a Stata dataset\n",
    "|`import delimited`| used to load a csv dataset|\n",
    "|`import excel`| used to load an excel dataset|\n",
    "|`list`| used to look at the data|\n",
    "|`describe`| used to describe the basic characteristics of the variables in the loaded dataset|\n",
    "|`browse`| used to open up the data editor and view the observations of the dataset|\n",
    "|`codebook`| used to describe data contents|\n",
    "|`tabulate`| used to summarize the frequency of the different measures of a variable|\n",
    "|`lookfor`| used to search for the variables of a dataset based on keywords|\n",
    "|`export excel`| used to save a dataset in excel format|\n",
    "|`export delimited`| used to save a dataset in csv format|\n",
    "\n"
   ]
  },
  {
   "cell_type": "markdown",
   "id": "6139aa5a",
   "metadata": {},
   "source": [
    "### 5.6.2 Errors"
   ]
  },
  {
   "cell_type": "markdown",
   "id": "54bde3b7",
   "metadata": {},
   "source": [
    "The tabulate command may be used in conjunction with conditional statements. When specifying the condition, ensure that you use quotation marks; otherwise, Stata will return an error code. Uncomment each line of code below to see it in action."
   ]
  },
  {
   "cell_type": "code",
   "execution_count": 56,
   "id": "2b6ed0f8",
   "metadata": {},
   "outputs": [
    {
     "name": "stdout",
     "output_type": "stream",
     "text": [
      "\n",
      ". \n",
      ". \n",
      ". *tabulate sex if sex==F          //incorrect\n",
      ". *tabulate sex if sex==\"F\"        //correct\n",
      ". \n"
     ]
    }
   ],
   "source": [
    "%%stata\n",
    "\n",
    "\n",
    "*tabulate sex if sex==F          //incorrect\n",
    "*tabulate sex if sex==\"F\"        //correct"
   ]
  },
  {
   "cell_type": "markdown",
   "id": "66716daa",
   "metadata": {},
   "source": [
    "## 5.7 Video tutorial\n",
    "\n",
    "Click on the image below for a video tutorial on this module.\n",
    "\n",
    "[![Opening Datasets](img/stata5.png)](https://learning.media.ubc.ca/media/Notebook+5+-+Opening+Datasets/0_uo57habz)"
   ]
  },
  {
   "cell_type": "markdown",
   "id": "e09abf30",
   "metadata": {},
   "source": [
    "## References\n",
    "\n",
    "[Import data from excel](https://www.youtube.com/watch?v=N5ZFgzN2_7c&list=PLN5IskQdgXWnnIVeA_Y0OBGmnw21fvcmU&index=5) <br>\n",
    "[Import delimited data](https://www.youtube.com/watch?v=8vwRchxkaZs&list=PLN5IskQdgXWnnIVeA_Y0OBGmnw21fvcmU&index=6)"
   ]
  }
 ],
 "metadata": {
  "kernelspec": {
   "display_name": "Python 3 (ipykernel)",
   "language": "python",
   "name": "python3"
  },
  "language_info": {
   "codemirror_mode": {
    "name": "ipython",
    "version": 3
   },
   "file_extension": ".py",
   "mimetype": "text/x-python",
   "name": "python",
   "nbconvert_exporter": "python",
   "pygments_lexer": "ipython3",
   "version": "3.12.2"
  }
 },
 "nbformat": 4,
 "nbformat_minor": 5
}
