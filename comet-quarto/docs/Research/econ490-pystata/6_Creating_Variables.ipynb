{
 "cells": [
  {
   "cell_type": "markdown",
   "id": "1722a8a4",
   "metadata": {
    "tags": []
   },
   "source": [
    "# ECON 490: Generating Variables (6)\n",
    "\n",
    "## Prerequisites \n",
    "\n",
    "1. Be able to effectively use Stata do-files and generate-log files.\n",
    "2. Be able to change your directory so that Stata can find your files.\n",
    "3. Import datasets in csv and dta format. \n",
    "4. Save data files. \n",
    "\n",
    "## Learning Outcomes\n",
    "\n",
    "1. Explore your data set with commands like `describe`, `browse`,`tabulate`, `codebook` and `lookfor`.\n",
    "2. Generate dummy (or indicator) variables using the command `generate` or `tabulate`.\n",
    "3. Create new variables in Stata using `generate` and `replace`.\n",
    "4. Rename and label variables."
   ]
  },
  {
   "cell_type": "code",
   "execution_count": 1,
   "id": "bac8c8e0",
   "metadata": {},
   "outputs": [
    {
     "name": "stderr",
     "output_type": "stream",
     "text": [
      "<>:2: SyntaxWarning: invalid escape sequence '\\P'\n",
      "<>:2: SyntaxWarning: invalid escape sequence '\\P'\n",
      "C:\\Users\\irene\\AppData\\Local\\Temp\\ipykernel_31356\\4069384911.py:2: SyntaxWarning: invalid escape sequence '\\P'\n",
      "  stata_setup.config('C:\\Program Files\\Stata18/','se')\n"
     ]
    },
    {
     "name": "stdout",
     "output_type": "stream",
     "text": [
      "\n",
      "  ___  ____  ____  ____  ____ ®\n",
      " /__    /   ____/   /   ____/      18.0\n",
      "___/   /   /___/   /   /___/       SE—Standard Edition\n",
      "\n",
      " Statistics and Data Science       Copyright 1985-2023 StataCorp LLC\n",
      "                                   StataCorp\n",
      "                                   4905 Lakeway Drive\n",
      "                                   College Station, Texas 77845 USA\n",
      "                                   800-STATA-PC        https://www.stata.com\n",
      "                                   979-696-4600        stata@stata.com\n",
      "\n",
      "Stata license: Unlimited-user network, expiring 19 Aug 2024\n",
      "Serial number: 401809301518\n",
      "  Licensed to: Irene Berezin\n",
      "               UBC\n",
      "\n",
      "Notes:\n",
      "      1. Unicode is supported; see help unicode_advice.\n",
      "      2. Maximum number of variables is set to 5,000 but can be increased;\n",
      "          see help set_maxvar.\n"
     ]
    }
   ],
   "source": [
    "import stata_setup\n",
    "stata_setup.config('C:\\Program Files\\Stata18/','se')"
   ]
  },
  {
   "cell_type": "code",
   "execution_count": 2,
   "id": "c3efb1ee",
   "metadata": {},
   "outputs": [],
   "source": [
    ">>> import sys\n",
    ">>> sys.path.append('/Applications/Stata/utilities') # make sure this is the same as what you set up in Module - 1, Section 1.5.1: Setting Up PyStata\n",
    ">>> from pystata import config\n",
    ">>> config.init('se')"
   ]
  },
  {
   "cell_type": "markdown",
   "id": "3bd17270",
   "metadata": {
    "tags": []
   },
   "source": [
    "## 6.1 Getting Started\n",
    "\n",
    "We'll continue working with the fake data data set introduced in the previous lecture. Recall that this data set is simulating information of workers in the years 1982-2012 in a fake country where a training program was introduced in 2003 to boost their earnings.  \n",
    "\n",
    "Last lecture we introduced a three step process to import data into Stata:\n",
    "1. Clear the workspace\n",
    "2. Change the directory to the space where the files we will use are located \n",
    "3. Import the data using commands specific to the file type.\n",
    "\n",
    "Let's run these commands now so we are all ready to do our analysis. "
   ]
  },
  {
   "cell_type": "code",
   "execution_count": 4,
   "id": "b0088213",
   "metadata": {},
   "outputs": [
    {
     "name": "stdout",
     "output_type": "stream",
     "text": [
      "\n",
      ". \n",
      ". * Below you will need to include the path on your own computer to where the d\n",
      "> ata is stored between the quotation marks.\n",
      ". \n",
      ". clear *\n",
      "\n",
      ". cd \"\\Users\\irene\\econometrics\\econ490-pystata\"\n",
      "C:\\Users\\irene\\econometrics\\econ490-pystata\n",
      "\n",
      ". import delimited using \"fake_data.csv\", clear\n",
      "(encoding automatically selected: UTF-8)\n",
      "(11 vars, 138,138 obs)\n",
      "\n",
      ". \n"
     ]
    }
   ],
   "source": [
    "%%stata\n",
    "\n",
    "* Below you will need to include the path on your own computer to where the data is stored between the quotation marks.\n",
    "\n",
    "clear *\n",
    "cd \"\\Users\\irene\\econometrics\\econ490-pystata\"\n",
    "import delimited using \"fake_data.csv\", clear"
   ]
  },
  {
   "cell_type": "markdown",
   "id": "6b83804b",
   "metadata": {},
   "source": [
    "## 6.2 Commands to Explore the Dataset"
   ]
  },
  {
   "cell_type": "markdown",
   "id": "e128d158",
   "metadata": {},
   "source": [
    "#### 6.2.1 `describe`\n",
    "\n",
    "The first command we are going to use describes the basic characteristics of the variables in the loaded data set."
   ]
  },
  {
   "cell_type": "code",
   "execution_count": 5,
   "id": "ab4c6ba6",
   "metadata": {},
   "outputs": [
    {
     "name": "stdout",
     "output_type": "stream",
     "text": [
      "\n",
      ". \n",
      ". describe\n",
      "\n",
      "Contains data\n",
      " Observations:       138,138                  \n",
      "    Variables:            11                  \n",
      "-------------------------------------------------------------------------------\n",
      "Variable      Storage   Display    Value\n",
      "    name         type    format    label      Variable label\n",
      "-------------------------------------------------------------------------------\n",
      "workerid        long    %12.0g                \n",
      "year            int     %8.0g                 \n",
      "sex             str1    %9s                   \n",
      "age             byte    %8.0g                 \n",
      "start_year      int     %8.0g                 \n",
      "region          byte    %8.0g                 \n",
      "treated         byte    %8.0g                 \n",
      "earnings        float   %9.0g                 \n",
      "sample_weight   float   %9.0g                 \n",
      "quarter_birth   byte    %8.0g                 \n",
      "schooling       byte    %8.0g                 \n",
      "-------------------------------------------------------------------------------\n",
      "Sorted by: \n",
      "     Note: Dataset has changed since last saved.\n",
      "\n",
      ". \n"
     ]
    }
   ],
   "source": [
    "%%stata\n",
    "\n",
    "describe"
   ]
  },
  {
   "cell_type": "markdown",
   "id": "650777ce",
   "metadata": {},
   "source": [
    "#### 6.2.2 `codebook`\n",
    "\n",
    "We can further analyze any variable by using the `codebook` command. Let's do this here to learn more about the variable _earnings_."
   ]
  },
  {
   "cell_type": "code",
   "execution_count": 6,
   "id": "f78cadc6",
   "metadata": {},
   "outputs": [
    {
     "name": "stdout",
     "output_type": "stream",
     "text": [
      "\n",
      ". \n",
      ". codebook earnings\n",
      "\n",
      "-------------------------------------------------------------------------------\n",
      "earnings                                                            (unlabeled)\n",
      "-------------------------------------------------------------------------------\n",
      "\n",
      "                  Type: Numeric (float)\n",
      "\n",
      "                 Range: [36.193157,63573580]          Units: 1.000e-06\n",
      "         Unique values: 137,911                   Missing .: 0/138,138\n",
      "\n",
      "                  Mean: 84136.4\n",
      "             Std. dev.:  252802\n",
      "\n",
      "           Percentiles:     10%       25%       50%       75%       90%\n",
      "                        10220.9   20562.6     43783   92378.2    183237\n",
      "\n",
      ". \n"
     ]
    }
   ],
   "source": [
    "%%stata\n",
    "\n",
    "codebook earnings"
   ]
  },
  {
   "cell_type": "markdown",
   "id": "4d776517",
   "metadata": {
    "tags": []
   },
   "source": [
    "The codebook command gives us important information about this variable such as the type (i.e. string or numeric), how many missing observations it has (very useful to know!) and all unique values. If the variable is numeric, it will also provide some summary statistics. If the variable is a string, it will provided examples of some of the entries.\n",
    "\n",
    "Try changing the variable name in the cell above to see the codebook entries for different variables in the data set. "
   ]
  },
  {
   "cell_type": "markdown",
   "id": "195913cb",
   "metadata": {},
   "source": [
    "#### 6.2.3 `tabulate`\n",
    "\n",
    "We can also learn more about the frequency of the different measures of one variable by using the command `tabulate`."
   ]
  },
  {
   "cell_type": "code",
   "execution_count": 7,
   "id": "7b53d40f",
   "metadata": {
    "tags": []
   },
   "outputs": [
    {
     "name": "stdout",
     "output_type": "stream",
     "text": [
      "\n",
      ". \n",
      ". tabulate region\n",
      "\n",
      "     region |      Freq.     Percent        Cum.\n",
      "------------+-----------------------------------\n",
      "          1 |     54,364       39.35       39.35\n",
      "          2 |     34,072       24.67       64.02\n",
      "          3 |      6,216        4.50       68.52\n",
      "          4 |     17,572       12.72       81.24\n",
      "          5 |     25,914       18.76      100.00\n",
      "------------+-----------------------------------\n",
      "      Total |    138,138      100.00\n",
      "\n",
      ". \n"
     ]
    }
   ],
   "source": [
    "%%stata\n",
    "\n",
    "tabulate region"
   ]
  },
  {
   "cell_type": "markdown",
   "id": "cfdeb4e2",
   "metadata": {},
   "source": [
    "Here we can see that there are five regions indicated in this data set. We can see that the majority of people surveyed came from region 1. \n",
    "\n",
    "We can actually include two variables in the `tabulate` command if we want more information. When we do this below we see that there were 234,355 female identified and 425,698 male identified persons surveyed in region 1. "
   ]
  },
  {
   "cell_type": "code",
   "execution_count": 8,
   "id": "fdc3d205",
   "metadata": {},
   "outputs": [
    {
     "name": "stdout",
     "output_type": "stream",
     "text": [
      "\n",
      ". \n",
      ". tabulate region sex\n",
      "\n",
      "           |          sex\n",
      "    region |         F          M |     Total\n",
      "-----------+----------------------+----------\n",
      "         1 |    11,036     43,328 |    54,364 \n",
      "         2 |     7,881     26,191 |    34,072 \n",
      "         3 |     1,247      4,969 |     6,216 \n",
      "         4 |     3,997     13,575 |    17,572 \n",
      "         5 |     6,358     19,556 |    25,914 \n",
      "-----------+----------------------+----------\n",
      "     Total |    30,519    107,619 |   138,138 \n",
      "\n",
      ". \n"
     ]
    }
   ],
   "source": [
    "%%stata\n",
    "\n",
    "tabulate region sex"
   ]
  },
  {
   "cell_type": "markdown",
   "id": "e06500a9",
   "metadata": {},
   "source": [
    "#### 6.2.4 `lookfor`\n",
    "\n",
    "What if there's a gazillion variables and we're looking for a particular one? Thankfully, Stata provides a nice command called `lookfor` which helps us search for variables based on keywords. Suppose we want to look for a variable that is related to year. "
   ]
  },
  {
   "cell_type": "code",
   "execution_count": 9,
   "id": "4a277d70",
   "metadata": {},
   "outputs": [
    {
     "name": "stdout",
     "output_type": "stream",
     "text": [
      "\n",
      ". \n",
      ". lookfor year\n",
      "\n",
      "Variable      Storage   Display    Value\n",
      "    name         type    format    label      Variable label\n",
      "-------------------------------------------------------------------------------\n",
      "year            int     %8.0g                 \n",
      "start_year      int     %8.0g                 \n",
      "\n",
      ". \n"
     ]
    }
   ],
   "source": [
    "%%stata\n",
    "\n",
    "lookfor year"
   ]
  },
  {
   "cell_type": "markdown",
   "id": "f680d29c",
   "metadata": {},
   "source": [
    "Stata found three variables that include the word year either in the variable name or in the variable label. This is super useful when we are getting to know a data set!"
   ]
  },
  {
   "cell_type": "markdown",
   "id": "ad0e65e5",
   "metadata": {
    "tags": []
   },
   "source": [
    "##  6.3 Generating Dummy Variables\n",
    "\n",
    "Dummy variables are variables that can only take on two values: 0 and 1. It is useful to think of a dummy variable as being the answer to a question that can be answered with \"yes\" or \"no\". With a dummy variable, the answer yes is coded as \"1\" and no is coded as \"0\".\n",
    "\n",
    "Examples of question that are used to create dummy variables include:\n",
    "\n",
    "1. Is the person female? Females are coded \"1\" and everyone else is coded \"0\".\n",
    "2. Does the person have a university degree? People with a degree are coded \"1\" and everyone else is coded \"0\".\n",
    "3. Is the person married? Married people are coded \"1\" and everyone else is coded \"0\".\n",
    "4. Is the person a millennial? People born between 1980 and 1996 are coded \"1\" and those born in other years are coded \"0\",\n",
    "\n",
    "As you have probably already figured out, dummy variables are used primarily for data that is qualitative and cannot be ranked in any way. For example, being married is qualitative and \"married\" is neither higher nor lower than \"single\".  But they are sometimes also used for variables that are qualitative and ranked, such as level of education. Further, dummy variables are sometimes used for variables that are quantitative, such as age groupings. \n",
    "\n",
    "It is important to remember that dummy variables must always be used when we want to include categorical (qualitative) variables in our analysis. These are variables such as sex, gender, race, marital status, religiosity, immigration status etc. We can’t use these variables without creating a dummy variable because the results found would in no way be meaningful."
   ]
  },
  {
   "cell_type": "markdown",
   "id": "a50d3539",
   "metadata": {},
   "source": [
    "#### 6.3.1 Creating dummy variables using `generate`\n",
    "\n",
    "As an example, let's create a dummy variable which indicates if the observation is identified as female. To do this, we are going to use the command `generate` which generates a completely new variable."
   ]
  },
  {
   "cell_type": "code",
   "execution_count": 10,
   "id": "5a3e1ca5",
   "metadata": {},
   "outputs": [
    {
     "name": "stdout",
     "output_type": "stream",
     "text": [
      "\n",
      ". \n",
      ". generate female = ( sex == \"F\") \n",
      "\n",
      ". \n"
     ]
    }
   ],
   "source": [
    "%%stata\n",
    "\n",
    "generate female = ( sex == \"F\") "
   ]
  },
  {
   "cell_type": "markdown",
   "id": "0e9fdeee",
   "metadata": {},
   "source": [
    "What Stata does here is that it defines our dummy variable as 1 whenever the condition `sex == \"F\" ` holds. Otherwise, it makes the variable take the value of zero. Depending on what we're doing, we may want it to be the case that our dummy takes on the value of 0 when `sex` is missing. Let's do that below."
   ]
  },
  {
   "cell_type": "code",
   "execution_count": 11,
   "id": "cd55f2e5",
   "metadata": {},
   "outputs": [
    {
     "ename": "SystemError",
     "evalue": "\n. \n. generate female = ( sex == \"F\")  if !mi(sex)\nvariable female already defined\nr(110);\nr(110);\n",
     "output_type": "error",
     "traceback": [
      "\u001b[1;31m---------------------------------------------------------------------------\u001b[0m",
      "\u001b[1;31mSystemError\u001b[0m                               Traceback (most recent call last)",
      "Cell \u001b[1;32mIn[11], line 1\u001b[0m\n\u001b[1;32m----> 1\u001b[0m \u001b[43mget_ipython\u001b[49m\u001b[43m(\u001b[49m\u001b[43m)\u001b[49m\u001b[38;5;241;43m.\u001b[39;49m\u001b[43mrun_cell_magic\u001b[49m\u001b[43m(\u001b[49m\u001b[38;5;124;43m'\u001b[39;49m\u001b[38;5;124;43mstata\u001b[39;49m\u001b[38;5;124;43m'\u001b[39;49m\u001b[43m,\u001b[49m\u001b[43m \u001b[49m\u001b[38;5;124;43m'\u001b[39;49m\u001b[38;5;124;43m'\u001b[39;49m\u001b[43m,\u001b[49m\u001b[43m \u001b[49m\u001b[38;5;124;43m'\u001b[39;49m\u001b[38;5;130;43;01m\\n\u001b[39;49;00m\u001b[38;5;124;43mgenerate female = ( sex == \u001b[39;49m\u001b[38;5;124;43m\"\u001b[39;49m\u001b[38;5;124;43mF\u001b[39;49m\u001b[38;5;124;43m\"\u001b[39;49m\u001b[38;5;124;43m)  if !mi(sex)\u001b[39;49m\u001b[38;5;130;43;01m\\n\u001b[39;49;00m\u001b[38;5;124;43m'\u001b[39;49m\u001b[43m)\u001b[49m\n",
      "File \u001b[1;32m~\\anaconda3\\envs\\pystata\\Lib\\site-packages\\IPython\\core\\interactiveshell.py:2517\u001b[0m, in \u001b[0;36mInteractiveShell.run_cell_magic\u001b[1;34m(self, magic_name, line, cell)\u001b[0m\n\u001b[0;32m   2515\u001b[0m \u001b[38;5;28;01mwith\u001b[39;00m \u001b[38;5;28mself\u001b[39m\u001b[38;5;241m.\u001b[39mbuiltin_trap:\n\u001b[0;32m   2516\u001b[0m     args \u001b[38;5;241m=\u001b[39m (magic_arg_s, cell)\n\u001b[1;32m-> 2517\u001b[0m     result \u001b[38;5;241m=\u001b[39m \u001b[43mfn\u001b[49m\u001b[43m(\u001b[49m\u001b[38;5;241;43m*\u001b[39;49m\u001b[43margs\u001b[49m\u001b[43m,\u001b[49m\u001b[43m \u001b[49m\u001b[38;5;241;43m*\u001b[39;49m\u001b[38;5;241;43m*\u001b[39;49m\u001b[43mkwargs\u001b[49m\u001b[43m)\u001b[49m\n\u001b[0;32m   2519\u001b[0m \u001b[38;5;66;03m# The code below prevents the output from being displayed\u001b[39;00m\n\u001b[0;32m   2520\u001b[0m \u001b[38;5;66;03m# when using magics with decorator @output_can_be_silenced\u001b[39;00m\n\u001b[0;32m   2521\u001b[0m \u001b[38;5;66;03m# when the last Python token in the expression is a ';'.\u001b[39;00m\n\u001b[0;32m   2522\u001b[0m \u001b[38;5;28;01mif\u001b[39;00m \u001b[38;5;28mgetattr\u001b[39m(fn, magic\u001b[38;5;241m.\u001b[39mMAGIC_OUTPUT_CAN_BE_SILENCED, \u001b[38;5;28;01mFalse\u001b[39;00m):\n",
      "File \u001b[1;32mC:\\Program Files\\Stata18/utilities\\pystata\\ipython\\stpymagic.py:276\u001b[0m, in \u001b[0;36mPyStataMagic.stata\u001b[1;34m(self, line, cell, local_ns)\u001b[0m\n\u001b[0;32m    274\u001b[0m     _stata\u001b[38;5;241m.\u001b[39mrun(cell, quietly\u001b[38;5;241m=\u001b[39m\u001b[38;5;28;01mTrue\u001b[39;00m, inline\u001b[38;5;241m=\u001b[39m_config\u001b[38;5;241m.\u001b[39mstconfig[\u001b[38;5;124m'\u001b[39m\u001b[38;5;124mgrshow\u001b[39m\u001b[38;5;124m'\u001b[39m])\n\u001b[0;32m    275\u001b[0m \u001b[38;5;28;01melse\u001b[39;00m:\n\u001b[1;32m--> 276\u001b[0m     \u001b[43m_stata\u001b[49m\u001b[38;5;241;43m.\u001b[39;49m\u001b[43mrun\u001b[49m\u001b[43m(\u001b[49m\u001b[43mcell\u001b[49m\u001b[43m,\u001b[49m\u001b[43m \u001b[49m\u001b[43mquietly\u001b[49m\u001b[38;5;241;43m=\u001b[39;49m\u001b[38;5;28;43;01mFalse\u001b[39;49;00m\u001b[43m,\u001b[49m\u001b[43m \u001b[49m\u001b[43minline\u001b[49m\u001b[38;5;241;43m=\u001b[39;49m\u001b[43m_config\u001b[49m\u001b[38;5;241;43m.\u001b[39;49m\u001b[43mstconfig\u001b[49m\u001b[43m[\u001b[49m\u001b[38;5;124;43m'\u001b[39;49m\u001b[38;5;124;43mgrshow\u001b[39;49m\u001b[38;5;124;43m'\u001b[39;49m\u001b[43m]\u001b[49m\u001b[43m)\u001b[49m\n\u001b[0;32m    278\u001b[0m \u001b[38;5;28;01mif\u001b[39;00m \u001b[38;5;124m'\u001b[39m\u001b[38;5;124m-gw\u001b[39m\u001b[38;5;124m'\u001b[39m \u001b[38;5;129;01min\u001b[39;00m args \u001b[38;5;129;01mor\u001b[39;00m \u001b[38;5;124m'\u001b[39m\u001b[38;5;124m-gh\u001b[39m\u001b[38;5;124m'\u001b[39m \u001b[38;5;129;01min\u001b[39;00m args:\n\u001b[0;32m    279\u001b[0m     _config\u001b[38;5;241m.\u001b[39mset_graph_size(gwidth, gheight)\n",
      "File \u001b[1;32mC:\\Program Files\\Stata18/utilities\\pystata\\stata.py:325\u001b[0m, in \u001b[0;36mrun\u001b[1;34m(cmd, quietly, echo, inline)\u001b[0m\n\u001b[0;32m    323\u001b[0m \u001b[38;5;124m        _stata_wrk2(\u001b[39m\u001b[38;5;124m\"\u001b[39m\u001b[38;5;124mqui include \u001b[39m\u001b[38;5;124m\"\u001b[39m\u001b[38;5;124m + tmpf, None, False, 1)\u001b[39m\n\u001b[0;32m    324\u001b[0m \u001b[38;5;124m    else:\u001b[39m\n\u001b[1;32m--> 325\u001b[0m \u001b[38;5;124m        _stata_wrk2(\u001b[39m\u001b[38;5;124;43m\"\u001b[39;49m\u001b[38;5;124;43minclude \u001b[39;49m\u001b[38;5;124;43m\"\u001b[39;49m\u001b[38;5;124;43m + tmpf, None, False, 1)\u001b[39;49m\n\u001b[0;32m    327\u001b[0m \u001b[38;5;124mif inline:\u001b[39m\n\u001b[0;32m    328\u001b[0m \u001b[38;5;124m    if config.get_stipython()>=3:\u001b[39m\n",
      "File \u001b[1;32mC:\\Program Files\\Stata18/utilities\\pystata\\stata.py:116\u001b[0m, in \u001b[0;36m_stata_wrk2\u001b[1;34m(cmd, real_cmd, colon, mode)\u001b[0m\n\u001b[0;32m    114\u001b[0m         err \u001b[38;5;241m=\u001b[39m callback[\u001b[38;5;241m0\u001b[39m]\n\u001b[0;32m    115\u001b[0m         callback\u001b[38;5;241m.\u001b[39mclear()\n\u001b[1;32m--> 116\u001b[0m         \u001b[38;5;28;01mraise\u001b[39;00m \u001b[38;5;167;01mSystemError\u001b[39;00m(err)\n\u001b[0;32m    117\u001b[0m \u001b[38;5;28;01mexcept\u001b[39;00m \u001b[38;5;167;01mKeyboardInterrupt\u001b[39;00m:\n\u001b[0;32m    118\u001b[0m     outputter\u001b[38;5;241m.\u001b[39mdone()\n",
      "\u001b[1;31mSystemError\u001b[0m: \n. \n. generate female = ( sex == \"F\")  if !mi(sex)\nvariable female already defined\nr(110);\nr(110);\n"
     ]
    }
   ],
   "source": [
    "%%stata\n",
    "\n",
    "generate female = ( sex == \"F\")  if !mi(sex)"
   ]
  },
  {
   "cell_type": "markdown",
   "id": "8990a38a",
   "metadata": {},
   "source": [
    "Whoops! We got an error. This says that our variable is already defined. Stata does this because it doesn't want us to accidentally overwrite an existing variable. Whenever we want to replace an existing variable, we have to use the command `replace`."
   ]
  },
  {
   "cell_type": "code",
   "execution_count": null,
   "id": "c22e3baf",
   "metadata": {},
   "outputs": [],
   "source": [
    "%%stata\n",
    "\n",
    "replace female = ( sex == \"F\")  if !mi(sex)"
   ]
  },
  {
   "cell_type": "markdown",
   "id": "6d55f919",
   "metadata": {
    "tags": []
   },
   "source": [
    "We could have also used the command `capture drop female` before we used `generate`. The `capture` command tells Stata to ignore any error in the command that immediately follows. In this example, this would do the following: \n",
    "\n",
    "-  If the variable that is being dropped didn't exist, the `drop female` command would automatically create an error. The `capture` command tells Stata to ignore that problem. \n",
    "- If the variable did exist already, the `drop female` command would work just fine, so that line will proceed as normal."
   ]
  },
  {
   "cell_type": "markdown",
   "id": "bebd522a",
   "metadata": {
    "tags": []
   },
   "source": [
    "#### 6.3.2 Creating dummy variables using `tabulate`\n",
    "\n",
    "We already talked about how to create dummy variables with generate and replace. Let’s see how this can be done for a whole set of dummy variable. For our example, this will be one dummy for each region identified in the data set. "
   ]
  },
  {
   "cell_type": "code",
   "execution_count": null,
   "id": "f377a043",
   "metadata": {
    "tags": []
   },
   "outputs": [],
   "source": [
    "%%stata\n",
    "\n",
    "tabulate region, generate(reg)"
   ]
  },
  {
   "cell_type": "markdown",
   "id": "d3f2f079",
   "metadata": {},
   "source": [
    "This command generated five new dummy variables, one for each region category. We asked Stata to call these variables \"reg\" and so these five new variables are called reg1, reg2, reg3, reg4, and reg5. When we run the command `des reg*`, we will see all of the variables whose names start with \"reg\" listed. Stata has helpfully labeled these variables with data labels from marstat. You might want to change the names for your own project to something that is more meaningful to you. "
   ]
  },
  {
   "cell_type": "code",
   "execution_count": null,
   "id": "8e7c9d51",
   "metadata": {},
   "outputs": [],
   "source": [
    "%%stata\n",
    "\n",
    "des reg*"
   ]
  },
  {
   "cell_type": "markdown",
   "id": "a3aeeee1",
   "metadata": {},
   "source": [
    "## 6.4 Generating Variables Based on Expressions\n",
    "\n",
    "Sometimes we want to generate variables after some transformations (e.g. squaring, taking logs, combining different variables). We can do that by simply writing the expression for the desired transformation. For example, let's create a new variable that is simply the natural log of earnings."
   ]
  },
  {
   "cell_type": "code",
   "execution_count": null,
   "id": "2d17e988",
   "metadata": {},
   "outputs": [],
   "source": [
    "%%stata\n",
    "\n",
    "gen log_earnings = log(earnings)"
   ]
  },
  {
   "cell_type": "code",
   "execution_count": null,
   "id": "faf36464",
   "metadata": {},
   "outputs": [],
   "source": [
    "%%stata\n",
    "\n",
    "summarize earnings log_earnings"
   ]
  },
  {
   "cell_type": "markdown",
   "id": "0bbb2dea",
   "metadata": {},
   "source": [
    "Let's try a second example. Let's create a new variable that is the number of years since the year the individual started working. "
   ]
  },
  {
   "cell_type": "code",
   "execution_count": null,
   "id": "0eb5c670",
   "metadata": {},
   "outputs": [],
   "source": [
    "%%stata\n",
    "\n",
    "gen experience_proxy = year - start_year"
   ]
  },
  {
   "cell_type": "code",
   "execution_count": null,
   "id": "61be0616",
   "metadata": {},
   "outputs": [],
   "source": [
    "%%stata\n",
    "\n",
    "summarize experience_proxy"
   ]
  },
  {
   "cell_type": "markdown",
   "id": "cb7929a1",
   "metadata": {},
   "source": [
    "## 6.5 Following Good Naming Conventions\n",
    "\n",
    "Choosing good names for your variables is more important, and harder, than you might think! Some of the variables in an original data set may have very unrecognizable names, which may be confusing when conducting research. In these cases, changing them early on is preferable. You will also be creating your own variables, such as dummy variables for qualitative measures, and you will want to be careful about giving them good names. This will become even more pertinent once you start generating tables, since you will want all of your variables to have high-quality names that will carry over to your paper for ease of comprehension on the reader's part.\n",
    "\n",
    "Luckily, you can always rename your variables with the command `rename`. Let' try to rename one of the dummy variables we just created above. Maybe we know that if region = 3 then the region is in the west."
   ]
  },
  {
   "cell_type": "code",
   "execution_count": null,
   "id": "acdf816f",
   "metadata": {},
   "outputs": [],
   "source": [
    "%%stata\n",
    "\n",
    "rename reg3 west\n",
    "des west"
   ]
  },
  {
   "cell_type": "markdown",
   "id": "44b30e85",
   "metadata": {},
   "source": [
    "Importantly, we don't need to include every piece of information in our variable name. Most of the important information is included in the variable label (more on that in a moment). We should always avoid variable names that include unnecessary pieces of information and can only be interpreted by the researcher. \n",
    "\n",
    "\n",
    "<div class=\"alert alert-info\">\n",
    "\n",
    "**Pro tip:**  Put all of your variables in lower case to avoid errors (since Stata is case sensitive). \n",
    "</div>"
   ]
  },
  {
   "cell_type": "markdown",
   "id": "1ab320ee",
   "metadata": {},
   "source": [
    "## 6.6 Creating Variable Labels\n",
    "\n",
    "It is important that anyone using our data set knows what each variable measures. We can add a new label, or change a variable label, at any time by using the label variable command. Continuing the example from above, if we create a new dummy variable indicating whether people are female, we will want to add a label to this new variable. To do this, the appropriate command would be:"
   ]
  },
  {
   "cell_type": "code",
   "execution_count": null,
   "id": "34bd9e5f",
   "metadata": {},
   "outputs": [],
   "source": [
    "%%stata\n",
    "\n",
    "label variable female \"Female Dummy\""
   ]
  },
  {
   "cell_type": "markdown",
   "id": "ef97c9d1",
   "metadata": {},
   "source": [
    "When we describe the data, we will see this extra information in the variable label column."
   ]
  },
  {
   "cell_type": "code",
   "execution_count": null,
   "id": "9554c692",
   "metadata": {},
   "outputs": [],
   "source": [
    "%%stata\n",
    "\n",
    "des female"
   ]
  },
  {
   "cell_type": "markdown",
   "id": "ec09ee0d",
   "metadata": {},
   "source": [
    "## 6.7 Wrap Up\n",
    "\n",
    "When we are doing our own research, we *always* have to spend some time working with the data before beginning our analysis. In this module, we have learned some important tools for manipulating data to get it ready for that analysis. Like everything else that we do in Stata, these manipulations should be done in a do-file, so that we always know exactly what we have done with our data. Losing track of those changes can cause some very serious mistakes when we start to do our research! In the next module, we will look at how to do analysis on the sub-groups of variables in our data set.\n",
    "\n",
    "The following table summarizes the main commands we have seen in this module.\n",
    "\n",
    "|Command| Function|\n",
    "|----|----|\n",
    "|`tabulate`| It provides a list of the different values of a variable.|\n",
    "|`summarize`| It provides the summary statistics of a variable.|\n",
    "|`generate`| It generates a new variable. |\n",
    "|`replace`| It replaces specific values of a variable.|"
   ]
  },
  {
   "cell_type": "markdown",
   "id": "67689e54",
   "metadata": {},
   "source": [
    "## 6.8 Video tutorial\n",
    "\n",
    "Click on the image below for a video tutorial on this module.\n",
    "\n",
    "[![Generating Variables](img/stata6.png)](https://learning.media.ubc.ca/media/Notebook+6+-+Generating+Variables/0_9dxplu7b)"
   ]
  },
  {
   "cell_type": "markdown",
   "id": "d9bba851",
   "metadata": {},
   "source": [
    "## References\n",
    "\n",
    "[How to create a date variable from a date stored as a string](https://www.youtube.com/watch?v=M3XVgPJuFzU) <br>\n",
    "[How to create a categorical variable from a continuous variable](https://www.youtube.com/watch?v=XWVaXN2KwmA) <br>\n",
    "[How to create a new variable that is calculated from other (multiple) variables](https://www.youtube.com/watch?v=E_wCh0rf4p8)"
   ]
  }
 ],
 "metadata": {
  "kernelspec": {
   "display_name": "Python 3 (ipykernel)",
   "language": "python",
   "name": "python3"
  },
  "language_info": {
   "codemirror_mode": {
    "name": "ipython",
    "version": 3
   },
   "file_extension": ".py",
   "mimetype": "text/x-python",
   "name": "python",
   "nbconvert_exporter": "python",
   "pygments_lexer": "ipython3",
   "version": "3.12.2"
  }
 },
 "nbformat": 4,
 "nbformat_minor": 5
}
