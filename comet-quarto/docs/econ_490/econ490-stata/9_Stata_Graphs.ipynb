{
 "cells": [
  {
   "cell_type": "markdown",
   "id": "cd33af66",
   "metadata": {
    "pycharm": {
     "name": "#%% md\n"
    }
   },
   "source": [
    "# Econ 490: Visualisation Types (9)\n",
    "\n",
    "## Prerequisites\n",
    "\n",
    "1. Be able to effectively use Stata do files and generate log files.\n",
    "2. Be able to change your directory so that Stata can find your files.\n",
    "3. Import datasets in csv and dta format. \n",
    "4. Save data files. \n",
    "\n",
    "## Learning Outcomes \n",
    "- Know when to use the following kinds of visualizations to answer specific questions using a data set:\n",
    "    - scatterplots\n",
    "    - line plots\n",
    "    - bar plots\n",
    "    - histograms\n",
    "- Generate and fine-tune visualizations using the Stata command `twoway` and its different options\n",
    "- Use `graph export` to save visualizations in various formats including `.svg`, `.png` and `.pdf`\n",
    "\n",
    "We'll continue working with the fake data data set introduced in the previous lecture. Recall that this data set is simulating information for workers in the years 1982-2012 in a fake country where a training program was introduced in 2003 to boost their earnings. "
   ]
  },
  {
   "cell_type": "code",
   "execution_count": null,
   "id": "f22f87cb",
   "metadata": {
    "pycharm": {
     "name": "#%%\n"
    }
   },
   "outputs": [],
   "source": [
    "clear* \n",
    "\n",
    "use fake_data, clear "
   ]
  },
  {
   "cell_type": "markdown",
   "id": "a42c9968-ea25-4479-a9e7-5c05587762a9",
   "metadata": {},
   "source": [
    "Data visualization is an effective way of communicating ideas to your audience, whether it's for an academic paper or a business setting. It can be a powerful medium to motivate your research, illustrate relationships between variables and provide some intuition behind why you applied certain econometric methods.\n",
    "\n",
    "The real challenge is not understanding how to use Stata to create graphs. Instead, the challenge is figuring out which graph will do the best job at telling your empirical story. Before creating any graphs, be sure to identify the message you want the graph to convey. Try to answer these questions: Who is our audience? What is the question you're trying to answer?\n",
    "\n",
    "<div class=\"alert alert-block alert-info\">\n",
    "<b>Note:</b> You can use the drop down menus to create your graphs. If you want to include this in your do-file, you simply need to copy and paste the command that appears in the Command Window after you create the graph.\n",
    "</div>\n",
    "\n",
    "## 9.1 Types of graphs \n",
    "#### 9.1.1 Scatter plot\n",
    "\n",
    "<!-- what is it? and, when to use? --> \n",
    "Scatter plots are frequently used to demonstrate how two quantitative variables are related to one another. This plot works well when we are interested in showing relationships and groupings among variables from relatively large data sets.\n",
    "\n",
    "Below is an example.\n",
    "\n",
    "- ![Relationship of country religiosity vs wealth](https://ourworldindata.org/uploads/2013/11/GDP-vs-Religion.png) \n",
    "- [Comparing Americans' perceptions of which foods are healthy to the perception of nutritionists](https://www.nytimes.com/2017/10/09/learning/whats-going-on-in-this-graph-oct-10-2017.html)\n",
    "- [Instagram followers in the fashion industry](https://qz.com/267635/explore-the-hidden-patterns-of-the-fashion-instagram-universe/)"
   ]
  },
  {
   "cell_type": "markdown",
   "id": "5ba3c390",
   "metadata": {
    "pycharm": {
     "name": "#%% md\n"
    }
   },
   "source": [
    "Let's say we want to plot the log-earnings by year. We begin by generating a new variable for log earnings. "
   ]
  },
  {
   "cell_type": "code",
   "execution_count": null,
   "id": "3882cea8",
   "metadata": {
    "pycharm": {
     "name": "#%%\n"
    }
   },
   "outputs": [],
   "source": [
    "gen log_earnings = log(earnings)\n",
    "\n",
    "la var log_earnings \"Log-earnings\" // We are adding the label \"log-earnings\" to the variable log_earnings"
   ]
  },
  {
   "cell_type": "code",
   "execution_count": null,
   "id": "f3f276c5",
   "metadata": {
    "pycharm": {
     "name": "#%%\n"
    }
   },
   "outputs": [],
   "source": [
    "preserve\n",
    "\n",
    "collapse (mean) log_earnings, by(year) // We are collapsing the data so that the variables are grouped by years (the unique id is years)"
   ]
  },
  {
   "cell_type": "code",
   "execution_count": null,
   "id": "2f0ea1a5",
   "metadata": {
    "pycharm": {
     "name": "#%%\n"
    }
   },
   "outputs": [],
   "source": [
    "describe"
   ]
  },
  {
   "cell_type": "markdown",
   "id": "98027fc2",
   "metadata": {
    "pycharm": {
     "name": "#%% md\n"
    }
   },
   "source": [
    "We can see that the data is now yearly and that all values of the same year are averaged to create the new values of the variable mean log_earnings. \n",
    "\n",
    "To create a scatterplot, we need to use Stata's `twoway` command. In Stata, it is critical to be able to understand documentation when graphing.\n",
    "    \n",
    ">Try using the `help` command to pull up the documentation for `twoway`.\n",
    "    \n",
    "</div>"
   ]
  },
  {
   "cell_type": "code",
   "execution_count": null,
   "id": "aec12170",
   "metadata": {
    "pycharm": {
     "name": "#%%\n"
    }
   },
   "outputs": [],
   "source": [
    "help twoway"
   ]
  },
  {
   "cell_type": "markdown",
   "id": "2998f791-926d-4e52-9e51-72e94be359ec",
   "metadata": {},
   "source": [
    "We can create many types of graphs using the command  `twoway (type_of_graph x_variable y_variable)`. In this case we want to create a scatterplot that shows earnings as the dependent variable and year as the independent variable. The command we use is as follows:"
   ]
  },
  {
   "cell_type": "code",
   "execution_count": null,
   "id": "79ed0753",
   "metadata": {
    "pycharm": {
     "name": "#%%\n"
    }
   },
   "outputs": [],
   "source": [
    "twoway (scatter log_earnings year)\n",
    "\n",
    "graph export ./img/myscatterplot.svg, replace"
   ]
  },
  {
   "cell_type": "markdown",
   "id": "1b77b22f-0d93-47c0-af91-675b770e9560",
   "metadata": {
    "pycharm": {
     "name": "#%% md\n"
    }
   },
   "source": [
    "It should look something like this: "
   ]
  },
  {
   "cell_type": "markdown",
   "id": "7ef49ccc-1603-4b04-abae-92eed84c23a4",
   "metadata": {
    "pycharm": {
     "name": "#%% md\n"
    }
   },
   "source": [
    "![myscatterplot](img/myscatterplot.svg)"
   ]
  },
  {
   "cell_type": "markdown",
   "id": "701947d1",
   "metadata": {
    "pycharm": {
     "name": "#%% md\n"
    }
   },
   "source": [
    "<div class=\"alert alert-block alert-info\">\n",
    "    \n",
    "<b>Try it yourself:</b> Here's an example of a connected scatterplot. Can you deduce the command needed from the `twoway` documentation to create this graph? \n",
    "    \n",
    "</div>"
   ]
  },
  {
   "cell_type": "markdown",
   "id": "1d201ca2",
   "metadata": {
    "pycharm": {
     "name": "#%% md\n"
    }
   },
   "source": [
    "![connected-scatter-plot](./img/myconnectedplot.svg)"
   ]
  },
  {
   "cell_type": "code",
   "execution_count": null,
   "id": "9865fa8d",
   "metadata": {
    "pycharm": {
     "name": "#%%\n"
    }
   },
   "outputs": [],
   "source": [
    "** Try the command here!"
   ]
  },
  {
   "cell_type": "markdown",
   "id": "5bae8b63",
   "metadata": {
    "pycharm": {
     "name": "#%% md\n"
    }
   },
   "source": [
    "#### 9.1.2 Line plot\n",
    "\n",
    "<!-- what is it? and, when to use? --> \n",
    "Line plots visualize trends with respect to an independent, ordered quantity (e.g., time). This plot works well when one of our variables is ordinal (time-like) or when we want to display multiple series on a common timeline.\n",
    "\n",
    "Line plots can be generated using Stata's `twoway` command we saw earlier. This time, instead of writting `scatter` for the type of graph, we write `line`."
   ]
  },
  {
   "cell_type": "code",
   "execution_count": null,
   "id": "b0c3faa4",
   "metadata": {
    "pycharm": {
     "name": "#%%\n"
    }
   },
   "outputs": [],
   "source": [
    "twoway (line log_earnings year), ///\n",
    "    xtitle(\"Year\") ytitle(\"Log-earnings\")\n",
    "\n",
    "graph export ./img/lineplot, replace"
   ]
  },
  {
   "cell_type": "markdown",
   "id": "4eea7a71-3fc0-42a5-85d7-654106eef20c",
   "metadata": {
    "pycharm": {
     "name": "#%% md\n"
    }
   },
   "source": [
    "It should look something like this:"
   ]
  },
  {
   "cell_type": "markdown",
   "id": "1575808b-2f70-4992-853f-36a2b5d0f127",
   "metadata": {
    "pycharm": {
     "name": "#%% md\n"
    }
   },
   "source": [
    "![mylineplot](img/mylineplot.svg)"
   ]
  },
  {
   "cell_type": "markdown",
   "id": "00aa3a36",
   "metadata": {
    "pycharm": {
     "name": "#%% md\n"
    }
   },
   "source": [
    " Now let's try creating a line plot with multiple series on a common timeline. Let's set up the data frame to include *log-earnings*, *year* and the *treatment* variables.\n",
    "\n",
    "To create this graph we first need to `restore` our data to the original version of the \"fake_data\" data frame. Once we have our original data set, we can collapse it by groups of year and treated individuals (the unique ids are treatment status and years)."
   ]
  },
  {
   "cell_type": "code",
   "execution_count": null,
   "id": "9b3c4add",
   "metadata": {
    "pycharm": {
     "name": "#%%\n"
    }
   },
   "outputs": [],
   "source": [
    "restore"
   ]
  },
  {
   "cell_type": "code",
   "execution_count": null,
   "id": "ebef86e2",
   "metadata": {
    "pycharm": {
     "name": "#%%\n"
    }
   },
   "outputs": [],
   "source": [
    "preserve\n",
    "\n",
    "collapse (mean) log_earnings, by(treated year)\n",
    "\n",
    "describe"
   ]
  },
  {
   "cell_type": "markdown",
   "id": "a71a26f8-81ef-461c-8666-203f6a5cf136",
   "metadata": {},
   "source": [
    "Now that we have our cleaned data set, we can create the graph separating the earnings between the treated and non-treated throughout time. "
   ]
  },
  {
   "cell_type": "code",
   "execution_count": null,
   "id": "738d3fda",
   "metadata": {
    "pycharm": {
     "name": "#%%\n"
    }
   },
   "outputs": [],
   "source": [
    "twoway ( log_earnings year if treated) || ( log_earnings year if !treated) \n",
    "graph export ./img/multilineplot.svg, replace"
   ]
  },
  {
   "cell_type": "markdown",
   "id": "ccf42148-6685-45ae-b6ed-0185123137b7",
   "metadata": {
    "pycharm": {
     "name": "#%% md\n"
    }
   },
   "source": [
    "It should look something like this:"
   ]
  },
  {
   "cell_type": "markdown",
   "id": "3f02dd92-3103-461a-8be2-7d220148d27d",
   "metadata": {
    "pycharm": {
     "name": "#%% md\n"
    }
   },
   "source": [
    "![multilineplot](img/multilineplot.svg)"
   ]
  },
  {
   "cell_type": "markdown",
   "id": "3f2bd2b7",
   "metadata": {
    "pycharm": {
     "name": "#%% md\n"
    }
   },
   "source": [
    "#### 9.1.3 Histogram\n",
    "\n",
    "<!-- what is it? and, when to use? --> \n",
    "Histograms visualize the distribution of one quantitative variable. This plot works well when we are working with a discrete variable and are interested in visualizing all its possible values and how often they each occur."
   ]
  },
  {
   "cell_type": "markdown",
   "id": "39d38f18",
   "metadata": {
    "pycharm": {
     "name": "#%% md\n"
    }
   },
   "source": [
    "Now let's restore the original data set so that we can plot the distribution of *log_earnings*. "
   ]
  },
  {
   "cell_type": "code",
   "execution_count": null,
   "id": "d883e9dd",
   "metadata": {
    "pycharm": {
     "name": "#%%\n"
    }
   },
   "outputs": [],
   "source": [
    "restore\n",
    "\n",
    "describe"
   ]
  },
  {
   "cell_type": "code",
   "execution_count": null,
   "id": "99373539",
   "metadata": {
    "pycharm": {
     "name": "#%%\n"
    }
   },
   "outputs": [],
   "source": [
    "histogram log_earnings\n",
    "\n",
    "graph export ./img/myhistogram.svg, replace"
   ]
  },
  {
   "cell_type": "markdown",
   "id": "638f2769-6f0d-4d9a-92f5-7b7b66dcb110",
   "metadata": {
    "pycharm": {
     "name": "#%% md\n"
    }
   },
   "source": [
    "It should look something like this:"
   ]
  },
  {
   "cell_type": "markdown",
   "id": "6fb0ce3b-f077-47ba-b0e4-eafc8971e20e",
   "metadata": {
    "pycharm": {
     "name": "#%% md\n"
    }
   },
   "source": [
    "![myhistogram](img/myhistogram.svg)"
   ]
  },
  {
   "cell_type": "markdown",
   "id": "e3f4ad10",
   "metadata": {
    "pycharm": {
     "name": "#%% md\n"
    }
   },
   "source": [
    "#### 9.1.4 Bar plot\n",
    "\n",
    "<!-- what is it? and, when to use? --> \n",
    "Bar plots visualize comparisons of amounts. They are useful when we are interested in comparing a few categories as parts of a whole, or across time. \n",
    "\n",
    "> Bar plots should always start at 0. Starting bar plots at any number besides 0 is generally considered a misrepresentation of the data."
   ]
  },
  {
   "cell_type": "code",
   "execution_count": null,
   "id": "181847b2",
   "metadata": {
    "pycharm": {
     "name": "#%%\n"
    }
   },
   "outputs": [],
   "source": [
    "help graph bar   /* this is a \"traditional\" bar plot. You can also create a bar plot using the twoway command.*/"
   ]
  },
  {
   "cell_type": "markdown",
   "id": "9cbedede",
   "metadata": {
    "pycharm": {
     "name": "#%% md\n"
    }
   },
   "source": [
    "Now let's plot mean earnings by region. Note that the regions are numbered in our data set. "
   ]
  },
  {
   "cell_type": "code",
   "execution_count": null,
   "id": "75fbb694",
   "metadata": {
    "pycharm": {
     "name": "#%%\n"
    }
   },
   "outputs": [],
   "source": [
    "graph bar (mean) earnings, over(region)\n",
    "\n",
    "graph export ./img/mybarchart.svg, replace"
   ]
  },
  {
   "cell_type": "markdown",
   "id": "5d3451cc",
   "metadata": {
    "pycharm": {
     "name": "#%% md\n"
    }
   },
   "source": [
    "![mybarchart](img/mybarchart.svg)"
   ]
  },
  {
   "cell_type": "markdown",
   "id": "f8f21e84",
   "metadata": {
    "pycharm": {
     "name": "#%% md\n"
    }
   },
   "source": [
    "We can also create a horizontal bar plot by using the option `hbar` instead of `bar`."
   ]
  },
  {
   "cell_type": "code",
   "execution_count": null,
   "id": "1b8213e0",
   "metadata": {
    "pycharm": {
     "name": "#%%\n"
    }
   },
   "outputs": [],
   "source": [
    "graph hbar (mean) earnings, over(region)\n",
    "\n",
    "graph export ./img/mybarchart2.svg, replace"
   ]
  },
  {
   "cell_type": "markdown",
   "id": "a44dbac2",
   "metadata": {
    "pycharm": {
     "name": "#%% md\n"
    }
   },
   "source": [
    "![mybarchart2](./img/mybarchart2.svg)"
   ]
  },
  {
   "cell_type": "markdown",
   "id": "fed07ee2",
   "metadata": {
    "pycharm": {
     "name": "#%% md\n"
    }
   },
   "source": [
    "We can also group our bars over another variable (or \"category\")."
   ]
  },
  {
   "cell_type": "code",
   "execution_count": null,
   "id": "866d538a",
   "metadata": {
    "pycharm": {
     "name": "#%%\n"
    }
   },
   "outputs": [],
   "source": [
    "graph hbar (mean) earnings,  over(treated) over(region)\n",
    "\n",
    "graph export ./img/mybarchart3.svg, replace"
   ]
  },
  {
   "cell_type": "markdown",
   "id": "97411a72",
   "metadata": {
    "pycharm": {
     "name": "#%% md\n"
    }
   },
   "source": [
    "![mybarchart3](img/mybarchart3.svg)"
   ]
  },
  {
   "cell_type": "markdown",
   "id": "b33f0c8d",
   "metadata": {
    "pycharm": {
     "name": "#%% md\n"
    }
   },
   "source": [
    "<div class=\"alert alert-block alert-warning\">\n",
    "    \n",
    "<b>Your turn:</b> What happens when you switch the order of categories in the code above? Try this in the following code cell. \n",
    "    \n",
    "</div>"
   ]
  },
  {
   "cell_type": "code",
   "execution_count": null,
   "id": "80cf5089",
   "metadata": {
    "pycharm": {
     "name": "#%%\n"
    }
   },
   "outputs": [],
   "source": [
    "graph hbar (mean) earnings,  over() over()\n",
    "\n",
    "graph export ./img/mybarchart4.svg, replace"
   ]
  },
  {
   "cell_type": "markdown",
   "id": "3d2d4467",
   "metadata": {
    "pycharm": {
     "name": "#%% md\n"
    }
   },
   "source": [
    "<div class=\"alert alert-block alert-warning\">\n",
    "    \n",
    "<b>Your turn:</b> Run the code cell below. Then try switching the `over` and `by` variables and store it in `mybarchart5.svg` in the next code cell. \n",
    "    \n",
    "</div>"
   ]
  },
  {
   "cell_type": "code",
   "execution_count": null,
   "id": "e65a58da",
   "metadata": {
    "pycharm": {
     "name": "#%%\n"
    }
   },
   "outputs": [],
   "source": [
    "graph hbar (mean) earnings,  over(treated) by(region)\n",
    "\n",
    "graph export ./img/mybarchart5.svg, replace"
   ]
  },
  {
   "cell_type": "markdown",
   "id": "4e82e341-47f3-421e-9668-2cdf9373d5d5",
   "metadata": {
    "pycharm": {
     "name": "#%% md\n"
    }
   },
   "source": [
    "## 9.2 Code Format\n",
    "We can write our code in a single line as shown above. However, graph code can get very lengthy. Thus, to keep things neat and simple, we will break up the code into multiple lines using `///` in the next few examples. \n",
    "\n",
    "```stata\n",
    "\n",
    "twoway (scatter log_earnings year), ///\n",
    "    xtitle(\"Year\") ytitle(\"Log-earnings\")\n",
    "\n",
    "graph export ./img/myscatterplot2.svg, replace\n",
    "\n",
    "```"
   ]
  },
  {
   "cell_type": "markdown",
   "id": "d59c71d9-ac62-43d8-99de-8a17107e3ab8",
   "metadata": {
    "pycharm": {
     "name": "#%% md\n"
    }
   },
   "source": [
    "## 9.3 Exporting Format\n",
    "\n",
    "So far, we have been exporting our graphs in svg format. However, you should keep in mind that you can also export graphs in other formats such as `.jpg`, `.png` and `.pdf`. This may be particularly helpful if you plan to use LaTeX for writing your paper, as `.svg` files cannot be used with LaTeX PDF output. "
   ]
  },
  {
   "cell_type": "markdown",
   "id": "fe702a1c-1b63-4b0f-9515-baf6cd92f5e5",
   "metadata": {
    "pycharm": {
     "name": "#%% md\n"
    }
   },
   "source": [
    "## 9.4 Fine-tuning a Graph Further\n",
    "\n",
    "In order to customize our graph further, we can use the tools in the Stata graph window or the graph option commands we have been using in this module. Namely, we can include and adjust the following: \n",
    "\n",
    "- title \n",
    "- axis titles\n",
    "- legend \n",
    "- axis \n",
    "- scale\n",
    "- labels \n",
    "- theme (i.e. colour, appearance)\n",
    "- adding lines, text or objects \n",
    "\n",
    "While we won't cover each of these in this module, you can always go back to the Stata documentation to explore the options available to you based on your needs. "
   ]
  },
  {
   "cell_type": "code",
   "execution_count": null,
   "id": "1e7667f0",
   "metadata": {
    "pycharm": {
     "name": "#%%\n"
    }
   },
   "outputs": [],
   "source": [
    "help twoway options"
   ]
  },
  {
   "cell_type": "markdown",
   "id": "6a8a61a2",
   "metadata": {
    "pycharm": {
     "name": "#%% md\n"
    }
   },
   "source": [
    "Some of the adjustments we can do include:\n",
    "- Add axis titles using the `ytitle(\"y_title\")` and `xtitle(\"x_title\")` options. "
   ]
  },
  {
   "cell_type": "code",
   "execution_count": null,
   "id": "26b22b15",
   "metadata": {
    "pycharm": {
     "name": "#%%\n"
    }
   },
   "outputs": [],
   "source": [
    "restore\n",
    "preserve\n",
    "collapse (mean) log_earnings, by(year)\n",
    "\n",
    "twoway (scatter log_earnings year), xtitle(\"Year\") ytitle(\"Log-earnings\")\n",
    "\n",
    "graph export ./img/myscatterplot2.svg, replace"
   ]
  },
  {
   "cell_type": "markdown",
   "id": "53afac83",
   "metadata": {
    "pycharm": {
     "name": "#%% md\n"
    }
   },
   "source": [
    "![myscatterplot2](img/myscatterplot2.svg)"
   ]
  },
  {
   "cell_type": "markdown",
   "id": "ccf029a0",
   "metadata": {
    "pycharm": {
     "name": "#%% md\n"
    }
   },
   "source": [
    "- Change the color of the graph by using the `color` option."
   ]
  },
  {
   "cell_type": "code",
   "execution_count": null,
   "id": "9ca43c2e",
   "metadata": {
    "pycharm": {
     "name": "#%%\n"
    }
   },
   "outputs": [],
   "source": [
    "histogram log_earnings, color(emidblue)\n",
    "\n",
    "graph export ./img/myhistogram2.svg, replace"
   ]
  },
  {
   "cell_type": "markdown",
   "id": "2ef1adac",
   "metadata": {
    "pycharm": {
     "name": "#%% md\n"
    }
   },
   "source": [
    "![myhistogram](img/myhistogram2.svg)"
   ]
  },
  {
   "cell_type": "markdown",
   "id": "fcd30a3b",
   "metadata": {
    "pycharm": {
     "name": "#%% md\n"
    }
   },
   "source": [
    "Run the code cell below to view the colorstyle options available in Stata."
   ]
  },
  {
   "cell_type": "code",
   "execution_count": null,
   "id": "58f9a570",
   "metadata": {
    "pycharm": {
     "name": "#%%\n"
    }
   },
   "outputs": [],
   "source": [
    "help colorstyle"
   ]
  },
  {
   "cell_type": "markdown",
   "id": "f7baebaa",
   "metadata": {
    "pycharm": {
     "name": "#%% md\n"
    }
   },
   "source": [
    "- Add a labelled  legend to our graphs. To include the legend, we use the option `legend( label(number_of_label \"label\"))`.\n",
    "- Add an indicator line for the year treatment began in 2002. To include the indicator line we use the the option  `xline()`. The line can also have different characteristics. For example, we can change its color and pattern using the options `lcolor` `lpattern()`.\n",
    "\n",
    "For example, we can customize the line graph from earlier in the module."
   ]
  },
  {
   "cell_type": "code",
   "execution_count": null,
   "id": "6ea42472-173e-4203-871a-7aac1d9a93e5",
   "metadata": {},
   "outputs": [],
   "source": [
    "restore\n",
    "preserve\n",
    "collapse (mean) log_earnings, by(treated year)\n",
    "\n",
    "twoway ( log_earnings year if treated) || ( log_earnings year if !treated), ///\n",
    "    xtitle(\"Year\") ytitle(\"Log-earnings\")                                  ///\n",
    "    legend( label(1 \"Treated\") label(2 \"Control\"))                         /// \n",
    "    xline( /*treatment year*/, lcolor(cranberry) lpattern(dash_dot))\n",
    "\n",
    "graph export ./img/multilineplot2.svg, replace"
   ]
  },
  {
   "cell_type": "markdown",
   "id": "9e43d2b0-2d54-444f-a05c-e95ec5b1fabc",
   "metadata": {
    "pycharm": {
     "name": "#%% md\n"
    }
   },
   "source": [
    "It should look something like this:"
   ]
  },
  {
   "cell_type": "markdown",
   "id": "e0b7b847-60fe-41f8-a201-0ed0e6c25f32",
   "metadata": {
    "pycharm": {
     "name": "#%% md\n"
    }
   },
   "source": [
    "![multilineplot2](img/multilineplot2.svg)"
   ]
  },
  {
   "cell_type": "markdown",
   "id": "f78ef078",
   "metadata": {
    "pycharm": {
     "name": "#%% md\n"
    }
   },
   "source": [
    "<div class=\"alert alert-block alert-info\">\n",
    "    \n",
    "<b>Moment of Reflection:</b> Compare this graph (`multilineplot2`) with `mybarchart3` we generated earlier. Do both visualisations tell the same story? Does one capture the treatment effect better than the other? \n",
    "    \n",
    "</div>"
   ]
  },
  {
   "cell_type": "markdown",
   "id": "1d0ef136",
   "metadata": {
    "pycharm": {
     "name": "#%% md\n"
    }
   },
   "source": [
    "<div class=\"alert alert-block alert-warning\">\n",
    "    \n",
    "<b>Your turn:</b> Generate a histogram of the age distribution in our dataset. Try customizing the bar colour and adding titles. Export the graph as `myhistogram3.svg`. \n",
    "    \n",
    "</div>"
   ]
  },
  {
   "cell_type": "code",
   "execution_count": null,
   "id": "968e5c1f-91b8-404b-8c17-5a15637ec5fc",
   "metadata": {},
   "outputs": [],
   "source": [
    "histogram , color()\n",
    "\n",
    "graph export , replace"
   ]
  },
  {
   "cell_type": "markdown",
   "id": "97c0c584-b10a-4ea2-9b93-85bb08ec6a34",
   "metadata": {},
   "source": [
    "## 9.5 Wrap Up\n",
    "We have learned in this module how to create different types of graphs using the command `twoway` and how to adjust them with the multiple options which come with this command. However, the most valuable take-away from this module is understanding when to use a specific type of graph. Graphs are only able to tell a story if we choose them appropriately and customize them as necessary.\n",
    "\n",
    "Remember to check the Stata documentation when creating graphs. The documentation can be your best ally if you end up using it."
   ]
  },
  {
   "cell_type": "markdown",
   "id": "e1207a79",
   "metadata": {
    "pycharm": {
     "name": "#%% md\n"
    }
   },
   "source": [
    "## 9.6 Further Reading\n",
    "\n",
    "- [Make your data speak for itself! Less is more (and people don’t read)](https://towardsdatascience.com/data-visualization-best-practices-less-is-more-and-people-dont-read-ba41b8f29e7b)"
   ]
  },
  {
   "cell_type": "markdown",
   "id": "628c4867",
   "metadata": {
    "pycharm": {
     "name": "#%% md\n"
    },
    "tags": []
   },
   "source": [
    "## References \n",
    "\n",
    "[Timbers, T., Campbell, T., Lee, M. (2022). Data Science: A First Introduction](https://datasciencebook.ca/viz.html) <br>\n",
    "[Schrimpf, Paul. \"Data Visualization: Rules and Guidelines.\" In *QuantEcon DataScience*. Edited by Chase Coleman, Spencer Lyon, and Jesse Perla.](https://datascience.quantecon.org/applications/visualization_rules.html) <br>\n",
    "[Kopf, Dan. \"A brief history of the scatter plot.\" *Quartz*. March 31, 2018.](https://qz.com/1235712/the-origins-of-the-scatter-plot-data-visualizations-greatest-invention/) <br>\n",
    "[Histograms in Stata](https://www.youtube.com/watch?v=nPqNZVToGx8&list=PLN5IskQdgXWnnIVeA_Y0OBGmnw21fvcmU&index=7) <br>\n",
    "[Box plots in Stata](https://www.youtube.com/watch?v=y6dngL80xuo&list=PLN5IskQdgXWnnIVeA_Y0OBGmnw21fvcmU&index=8) <br>\n",
    "[Pie charts in Stata](https://www.youtube.com/watch?v=T_skwxG4sTk&list=PLN5IskQdgXWnnIVeA_Y0OBGmnw21fvcmU&index=9) <br>\n",
    "[Bar graphs in Stata](https://www.youtube.com/watch?v=jNjAdtQwW6M&list=PLN5IskQdgXWnnIVeA_Y0OBGmnw21fvcmU&index=10) <br>\n",
    "[Basic scatter plots in Stata](https://www.youtube.com/watch?v=GhVGpe3lb3E&list=PLN5IskQdgXWnnIVeA_Y0OBGmnw21fvcmU&index=11) <br>\n",
    "[Modifying sizes of elements in graphs](https://www.youtube.com/watch?v=dNoADgrbPJg) <br>\n",
    "[Modifying graphs using the Graph Editor](https://www.youtube.com/watch?v=17opC4fDeME)"
   ]
  }
 ],
 "metadata": {
  "kernelspec": {
   "display_name": "Stata",
   "language": "stata",
   "name": "stata"
  },
  "language_info": {
   "codemirror_mode": "stata",
   "file_extension": ".do",
   "mimetype": "text/x-stata",
   "name": "stata",
   "version": "15.1"
  }
 },
 "nbformat": 4,
 "nbformat_minor": 5
}
