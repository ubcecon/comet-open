{
 "cells": [
  {
   "cell_type": "markdown",
   "id": "575754e6-605a-4ba6-8d71-cd4d40b2dbb8",
   "metadata": {},
   "source": [
    "# ECON 490: Locals and Globals (4)\n",
    "\n",
    "## Prerequisites \n",
    "\n",
    "1. View the characteristics of any dataset using the command `describe`.\n",
    "2. Use `help` to learn how to run commands.\n",
    "3. Understand the Stata command syntax using the command `summarize`.\n",
    "4. Create loops using the commands `for`, `while`, `forvalues` and `foreach`.\n",
    "\n",
    "## Learning Outcomes\n",
    "\n",
    "1. Recognize the difference between data set variables and Stata variables.\n",
    "2. Recognize the difference between local and global Stata variables.\n",
    "3. Use the command `local` to create temporary macros.\n",
    "4. Use the command `global` to create permanent macros.\n",
    "5. Forecast how you will use macros in your own research."
   ]
  },
  {
   "cell_type": "markdown",
   "id": "5ce83e3b-74b1-4a6d-b288-24bff26a7d1b",
   "metadata": {},
   "source": [
    "## 4.1 Stata Variables\n",
    "\n",
    "In ECON 325 and ECON 326, you learned that \"variables\" are characteristics of a data set. For example, if we had a data set that included all of the countries in the world, we might have a variable which indicates each country's population. As another example, if we had a data set that included a sample of persons in Canada, we might have a variable which indicates each person's marital status. These are data set variables, and they can be qualitative (strings) or quantitative (numeric). \n",
    "\n",
    "In Stata, there is a separate category of variables available for use which we call \"macros\". Macros work as placeholders for values that we want to store either temporarily or permanently. Locals are macros that store data temporarily, while globals are macros that store data permanently, or at least as long as we have Stata open on our computer. We can think of Stata macros as analogous to workspace objects in Python or R. Below, you are going to learn how to use these macros in your own research."
   ]
  },
  {
   "cell_type": "markdown",
   "id": "72a46e3e",
   "metadata": {},
   "source": [
    "## 4.2 Locals \n",
    "\n",
    "The first use of local macros is to store results of your code. To help you understand how powerful this is, you should be aware that most Stata commands have hidden results stored after they are run. Consider the following example"
   ]
  },
  {
   "cell_type": "code",
   "execution_count": 1,
   "id": "9f4f6900",
   "metadata": {
    "tags": []
   },
   "outputs": [
    {
     "name": "stdout",
     "output_type": "stream",
     "text": [
      "\n",
      "(1978 automobile data)\n",
      "\n",
      "\n",
      "    Variable |        Obs        Mean    Std. dev.       Min        Max\n",
      "-------------+---------------------------------------------------------\n",
      "       price |         74    6165.257    2949.496       3291      15906\n"
     ]
    }
   ],
   "source": [
    "sysuse auto,clear\n",
    "\n",
    "summarize price"
   ]
  },
  {
   "cell_type": "markdown",
   "id": "68f4f49e",
   "metadata": {},
   "source": [
    "\n",
    "When we ran `summarize` above, Stata produced output that was stored in several local variables. We can access those stored results with the command `return list` (for regular commands) or `ereturn list` (for estimation commands, which we'll cover later in Module 12). Since `summarize` is not an estimation command, we can run the following:"
   ]
  },
  {
   "cell_type": "code",
   "execution_count": 2,
   "id": "ea1694af",
   "metadata": {},
   "outputs": [
    {
     "name": "stdout",
     "output_type": "stream",
     "text": [
      "\n",
      "scalars:\n",
      "                r(sum) =  456229\n",
      "                r(max) =  15906\n",
      "                r(min) =  3291\n",
      "                 r(sd) =  2949.495884768919\n",
      "                r(Var) =  8699525.974268788\n",
      "               r(mean) =  6165.256756756757\n",
      "              r(sum_w) =  74\n",
      "                  r(N) =  74\n"
     ]
    }
   ],
   "source": [
    "return list"
   ]
  },
  {
   "cell_type": "markdown",
   "id": "41fd27d5",
   "metadata": {},
   "source": [
    "Notice that Stata has reported that variables have been stored as scalars, where a scalar is simply a quantity. \n",
    "\n",
    "If we want Stata to tell us the mean price from the automobile data set that was just calculated using `summarize`, we can use the following:"
   ]
  },
  {
   "cell_type": "code",
   "execution_count": 3,
   "id": "a677af58",
   "metadata": {
    "tags": []
   },
   "outputs": [
    {
     "name": "stdout",
     "output_type": "stream",
     "text": [
      "6165.2568\n"
     ]
    }
   ],
   "source": [
    "display r(mean)"
   ]
  },
  {
   "cell_type": "markdown",
   "id": "66e875fa-b614-4151-90ec-5178887e8a4c",
   "metadata": {},
   "source": [
    "We can now store that scalar as a local, and use that local in other Stata commands:"
   ]
  },
  {
   "cell_type": "code",
   "execution_count": 4,
   "id": "8a7716a1",
   "metadata": {},
   "outputs": [
    {
     "name": "stdout",
     "output_type": "stream",
     "text": [
      "\n",
      "\n",
      "The mean of price variable is 6165.256756756757.\n"
     ]
    }
   ],
   "source": [
    "local price_mean = r(mean)\n",
    "display \"The mean of price variable is `price_mean'.\" "
   ]
  },
  {
   "cell_type": "markdown",
   "id": "44e307ee",
   "metadata": {},
   "source": [
    "Imagine that we wanted to create a new variable that is equal to the price minus the mean of that same variable. We would do this if we wanted to de-mean that variable or, in other words, create a new price variable that has a mean of zero. To do this, we could use the `generate` command along with the local we just created to do exactly that:"
   ]
  },
  {
   "cell_type": "code",
   "execution_count": 7,
   "id": "7e402b47",
   "metadata": {
    "tags": []
   },
   "outputs": [],
   "source": [
    "local price_mean = r(mean)\n",
    "g price_demean = price - `price_mean'"
   ]
  },
  {
   "cell_type": "markdown",
   "id": "77c745dd-79ae-44f5-a793-501bfef2fbf1",
   "metadata": {},
   "source": [
    "Note that there is no output when we run this command. \n",
    "\n",
    "If we try to run this command a second time, we will get an error because Stata doesn't want us to accidentally overwrite an existing variable. In order to correct this problem, we need to use the command `replace` instead of the command `generate`. Try it yourself above!\n",
    "\n",
    "Let's take a look at the mean of our new variable using `summarize` again. "
   ]
  },
  {
   "cell_type": "code",
   "execution_count": 8,
   "id": "24ab72a2",
   "metadata": {},
   "outputs": [
    {
     "name": "stdout",
     "output_type": "stream",
     "text": [
      "\n",
      "    Variable |        Obs        Mean    Std. dev.       Min        Max\n",
      "-------------+---------------------------------------------------------\n",
      "price_demean |         74   -.0000154    2949.496  -2874.257   9740.743\n"
     ]
    }
   ],
   "source": [
    "su price_demean"
   ]
  },
  {
   "cell_type": "markdown",
   "id": "1f392e21-80d1-4099-a4b0-aeff3b359c9a",
   "metadata": {},
   "source": [
    "We can see that the mean is roughly zero just we as expected.\n",
    "\n",
    "Locals are automatically generated whenever we use loops (as discussed in [Module 3](econometrics/econ490-stata/3_Stata_Essentials.ipynb)). \n",
    "\n",
    "Consider another common application here involving a categorical variable that can take on 5 possible values. "
   ]
  },
  {
   "cell_type": "code",
   "execution_count": 9,
   "id": "3f016e58",
   "metadata": {},
   "outputs": [
    {
     "name": "stdout",
     "output_type": "stream",
     "text": [
      "\n",
      "    Variable |        Obs        Mean    Std. dev.       Min        Max\n",
      "-------------+---------------------------------------------------------\n",
      "       rep78 |         69    3.405797    .9899323          1          5\n"
     ]
    }
   ],
   "source": [
    "su rep78"
   ]
  },
  {
   "cell_type": "markdown",
   "id": "cd8a1925-9905-4919-9324-fd98bedc67d1",
   "metadata": {},
   "source": [
    "Note that if we run the command above that we used to display the mean of price, we will now get a different value. Try it yourself!"
   ]
  },
  {
   "cell_type": "markdown",
   "id": "1c6080cf",
   "metadata": {},
   "source": [
    "There are times when we might want to save all the possible categorical values in a local. When we use the `levelsof` command as is done below, we can create a new local with a name that we choose. Here, that name is _levels_rep78_."
   ]
  },
  {
   "cell_type": "code",
   "execution_count": 10,
   "id": "c355afec",
   "metadata": {},
   "outputs": [
    {
     "name": "stdout",
     "output_type": "stream",
     "text": [
      "1 2 3 4 5\n"
     ]
    }
   ],
   "source": [
    "levelsof rep78, local(levels_rep)"
   ]
  },
  {
   "cell_type": "markdown",
   "id": "a2c48071",
   "metadata": {},
   "source": [
    "We can do different things with this new list of values. For instance, we can now summarize a variable based on every distinct value of _rep78_, by creating a loop using `foreach` and looping through values of the newly created local. "
   ]
  },
  {
   "cell_type": "code",
   "execution_count": 11,
   "id": "184decde",
   "metadata": {},
   "outputs": [
    {
     "name": "stdout",
     "output_type": "stream",
     "text": [
      "\n",
      "\n",
      "    Variable |        Obs        Mean    Std. dev.       Min        Max\n",
      "-------------+---------------------------------------------------------\n",
      "       price |          2      4564.5    522.5519       4195       4934\n",
      "\n",
      "    Variable |        Obs        Mean    Std. dev.       Min        Max\n",
      "-------------+---------------------------------------------------------\n",
      "       price |          8    5967.625    3579.357       3667      14500\n",
      "\n",
      "    Variable |        Obs        Mean    Std. dev.       Min        Max\n",
      "-------------+---------------------------------------------------------\n",
      "       price |         30    6429.233     3525.14       3291      15906\n",
      "\n",
      "    Variable |        Obs        Mean    Std. dev.       Min        Max\n",
      "-------------+---------------------------------------------------------\n",
      "       price |         18      6071.5    1709.608       3829       9735\n",
      "\n",
      "    Variable |        Obs        Mean    Std. dev.       Min        Max\n",
      "-------------+---------------------------------------------------------\n",
      "       price |         11        5913    2615.763       3748      11995\n"
     ]
    }
   ],
   "source": [
    "foreach x in `levels_rep' {\n",
    "su price if rep78 == `x'\n",
    "}"
   ]
  },
  {
   "cell_type": "markdown",
   "id": "84e56620",
   "metadata": {},
   "source": [
    "## 4.3 Globals\n",
    "\n",
    "Globals are used to store lists of variable names, paths and/or directories that we need for our research project. \n",
    "\n",
    "Consider the following example where we create a global called *covariates* that is simply a list of three variable names:"
   ]
  },
  {
   "cell_type": "code",
   "execution_count": 16,
   "id": "d183fffa",
   "metadata": {
    "tags": []
   },
   "outputs": [],
   "source": [
    "global covariates \"rep78 foreign\""
   ]
  },
  {
   "cell_type": "markdown",
   "id": "e6c332c3-4026-4630-94f8-05e044e64460",
   "metadata": {
    "tags": []
   },
   "source": [
    "We can now use this global anywhere we want to invoke the three variables specified. When we want to indicate that we are using a global, we refer to this type of macro with the dollar sign symbol `$`.\n",
    "\n",
    "Here we `summarize` these three variables. "
   ]
  },
  {
   "cell_type": "code",
   "execution_count": 13,
   "id": "480ae792-8870-4b62-95e3-270d58f11315",
   "metadata": {},
   "outputs": [
    {
     "name": "stdout",
     "output_type": "stream",
     "text": [
      "\n",
      "\n",
      "    Variable |        Obs        Mean    Std. dev.       Min        Max\n",
      "-------------+---------------------------------------------------------\n",
      "       price |         74    6165.257    2949.496       3291      15906\n",
      "       rep78 |         69    3.405797    .9899323          1          5\n",
      "     foreign |         74    .2972973    .4601885          0          1\n"
     ]
    }
   ],
   "source": [
    "su ${covariates}"
   ]
  },
  {
   "cell_type": "markdown",
   "id": "d08df08a-7653-4403-868f-b123ac4b3170",
   "metadata": {
    "tags": []
   },
   "source": [
    "In the empty cell below, `describe` these three variables using the macro we have just created. "
   ]
  },
  {
   "cell_type": "code",
   "execution_count": null,
   "id": "632f1954-00fe-4084-b7ac-69f75e01e341",
   "metadata": {},
   "outputs": [],
   "source": []
  },
  {
   "cell_type": "markdown",
   "id": "26e56781-deee-4dfe-9605-5dec985e479e",
   "metadata": {},
   "source": [
    "## 4.4 Wrap Up\n",
    "\n",
    "In this module we learned how Stata has its own set of variables that have some very useful applications. We will see these macros throughout the following modules. You will also use them in your own research project.  \n",
    "\n",
    "To demonstrate how useful macros can be, we can use our _covariates_ global to run a very simple regression in which _price_ is the dependent variable and the explanatory variables are _rep78_ and _foreign_. That command using our macro would be:"
   ]
  },
  {
   "cell_type": "code",
   "execution_count": 17,
   "id": "6abb838c-eb8f-48d2-a793-c95290ea271b",
   "metadata": {},
   "outputs": [
    {
     "name": "stdout",
     "output_type": "stream",
     "text": [
      "\n",
      "\n",
      "      Source |       SS           df       MS      Number of obs   =        69\n",
      "-------------+----------------------------------   F(2, 66)        =      0.02\n",
      "       Model |  425748.824         2  212874.412   Prob > F        =    0.9759\n",
      "    Residual |   576371210        66  8732897.12   R-squared       =    0.0007\n",
      "-------------+----------------------------------   Adj R-squared   =   -0.0295\n",
      "       Total |   576796959        68  8482308.22   Root MSE        =    2955.1\n",
      "\n",
      "------------------------------------------------------------------------------\n",
      "       price | Coefficient  Std. err.      t    P>|t|     [95% conf. interval]\n",
      "-------------+----------------------------------------------------------------\n",
      "       rep78 |   76.29497   449.2741     0.17   0.866    -820.7098    973.2997\n",
      "     foreign |  -205.6112   959.5456    -0.21   0.831    -2121.406    1710.183\n",
      "       _cons |   5948.776   1422.631     4.18   0.000     3108.401     8789.15\n",
      "------------------------------------------------------------------------------\n"
     ]
    }
   ],
   "source": [
    "regress price ${covariates}"
   ]
  },
  {
   "cell_type": "markdown",
   "id": "e71e30a0-77ae-4264-9162-7af63d5b52b0",
   "metadata": {},
   "source": [
    "If we only wanted to include observations where price is above average, then using the local we created earlier in this module the regression would be:"
   ]
  },
  {
   "cell_type": "code",
   "execution_count": 18,
   "id": "9f2493f6-3475-4cb4-9a92-fe98957e16f0",
   "metadata": {},
   "outputs": [
    {
     "name": "stdout",
     "output_type": "stream",
     "text": [
      "\n",
      "\n",
      "      Source |       SS           df       MS      Number of obs   =        20\n",
      "-------------+----------------------------------   F(2, 17)        =      2.03\n",
      "       Model |  32961080.9         2  16480540.5   Prob > F        =    0.1615\n",
      "    Residual |   137775181        17  8104422.42   R-squared       =    0.1931\n",
      "-------------+----------------------------------   Adj R-squared   =    0.0981\n",
      "       Total |   170736262        19  8986119.05   Root MSE        =    2846.8\n",
      "\n",
      "------------------------------------------------------------------------------\n",
      "       price | Coefficient  Std. err.      t    P>|t|     [95% conf. interval]\n",
      "-------------+----------------------------------------------------------------\n",
      "       rep78 |  -209.2781   1019.872    -0.21   0.840    -2361.021    1942.465\n",
      "     foreign |  -2388.877   1678.406    -1.42   0.173    -5930.003    1152.249\n",
      "       _cons |   11510.02   3250.218     3.54   0.003     4652.663    18367.39\n",
      "------------------------------------------------------------------------------\n"
     ]
    }
   ],
   "source": [
    "regress price ${covariates} if price > `price_mean'"
   ]
  },
  {
   "cell_type": "markdown",
   "id": "f4f49778-c272-4c6e-9683-b85584884efa",
   "metadata": {},
   "source": [
    "You can see for yourself that Stata ran the regression on only a subset of the data.\n",
    "\n",
    "In the next module, we will work on importing data sets in various formats."
   ]
  }
 ],
 "metadata": {
  "kernelspec": {
   "display_name": "Stata",
   "language": "stata",
   "name": "stata"
  },
  "language_info": {
   "codemirror_mode": "stata",
   "file_extension": ".do",
   "mimetype": "text/x-stata",
   "name": "stata",
   "version": "15.1"
  }
 },
 "nbformat": 4,
 "nbformat_minor": 5
}
