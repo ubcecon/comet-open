{
 "cells": [
  {
   "cell_type": "markdown",
   "id": "5406a3af-c085-48de-ae85-382485f1f8e8",
   "metadata": {
    "tags": []
   },
   "source": [
    "# ECON 490: Jupyter and R (1)\n",
    "\n",
    "## Prerequisites \n",
    "\n",
    "1. Have Anaconda Navigator installed onto your personal computer.\n",
    "\n",
    "## Learning Outcomes\n",
    "\n",
    "1. Connect to JupyterLab using an R session."
   ]
  },
  {
   "cell_type": "markdown",
   "id": "a90f25be",
   "metadata": {
    "tags": []
   },
   "source": [
    "## 1.1 Jupyter \n",
    "\n",
    "You will need to install [Anaconda Navigator](https://www.anaconda.com/) in order to be able to run JupyterLab.\n",
    "\n",
    "Conda is an open-source package and environment management system. With Conda we can create a particular directory folder (also known as environment) which will contain the packages that allow us to run Jupyter online notebooks. These online notebooks can run code coming from different softwares (henceforth referred as kernels). Some examples include Stata, R, and Python. The bare minimum for our environments is some version of Python. \n",
    "\n",
    "The only way to set up an environment based on Stata requires us to manually connect our computer's Stata program to Jupyter notebooks."
   ]
  },
  {
   "cell_type": "markdown",
   "id": "a894eb0b",
   "metadata": {
    "tags": []
   },
   "source": [
    "## 1.2 Setting up Your Computer \n",
    "\n",
    "Once Anaconda has been installed, launch JupyterLab from Anaconda Navigator. Within JupyterLab, click on the plus sign in the blue box on the top right corner and from the page that appears select \"Terminal\". All commands given below will be typed into that terminal window in the box that follows the $.\n",
    "\n",
    "The terminal will run the command `conda` that can find packages to install from channels. This is not dissimilar to downloading software from a server. We want to make sure that our computer first finds the `conda-forge` channel. \n",
    "\n",
    "To do this, you should run the following commands directly in your own terminal window in JupyterLab:\n",
    "\n",
    "```\n",
    "  conda config --add channels conda-forge\n",
    "  conda config --set channel_priority strict\n",
    "```\n",
    "\n",
    "The goal here is to create a package bundle (i.e. an environment) where you will install some version of R Kernel, Stata Kernel, and Jupyter. You can explore the things one can download to an environment from the  `conda-forge` channel by running, for example, `conda search r-base` or `conda search stata_kernel`. You can see that the terminal lists all the different versions of these packages that one can download from the different channels. \n",
    "\n",
    "Now we are ready to create a new environment where we will install all these packages. In this particular case, we will create an environment based on Python 3.9.7. Let us create an environment called `stata_r_env` by writing:\n",
    "\n",
    "```\n",
    "  conda create -n stata_r_env python=3.9.7\n",
    "```\n",
    "\n",
    "If you omit the `=3.9.7` part, you will create an environment with the default Python version. \n",
    "\n",
    "We want anything that we install from the channel to be part of this new environment. To do so, we need to activate it by running\n",
    "```\n",
    "  conda activate stata_r_env\n",
    "```\n",
    "\n",
    "Now that our environment is activated, we can install everything we want. We begin by installing Jupyter, which will allow us to run the interactive notebooks coming up:\n",
    "\n",
    "```\n",
    "  conda install jupyter\n",
    "```"
   ]
  },
  {
   "cell_type": "markdown",
   "id": "c0578322-b73f-404a-85e2-06c334f66e90",
   "metadata": {
    "tags": []
   },
   "source": [
    "## 1.3 (Optional) Installing Stata Kernel on our environment\n",
    "\n",
    "If you have Stata installed in your own computer, you can install the Stata Kernel by running:\n",
    "\n",
    "```  \n",
    "  conda install -c conda-forge stata_kernel\n",
    "  python -m stata_kernel.install\n",
    "```"
   ]
  },
  {
   "cell_type": "markdown",
   "id": "c2b00757-2ad8-4e4b-aaa9-b351b1d4ff28",
   "metadata": {
    "tags": []
   },
   "source": [
    "## 1.4 Installing R Kernel on our environment\n",
    "\n",
    "Finally, to be able to run the entire ECON 490 folder, it is highly recommended to install a stable R-version. In this particular case, we will focus on R 4.1.2. We can do this by running:\n",
    "\n",
    "```  \n",
    "  conda install -c conda-forge r-base=4.1.2  \n",
    "```"
   ]
  },
  {
   "cell_type": "markdown",
   "id": "716175cd",
   "metadata": {},
   "source": [
    "To use R interactively from this environment, we need to open R from the terminal. If you are using Windows, you can do this by typing `r.exe` or `start r`. If you are using MacOS, you can do this by typing `r`. You will notice that a message pops us similar to when we open R from our desktop. You need to run:\n",
    "```  \n",
    "  install.packages('IRkernel')\n",
    "  IRkernel::installspec()\n",
    "  q()\n",
    "```\n",
    "\n",
    "The first two lines connect our R version with the Jupyter notebook. The last line closes R from the terminal because we're done. Now you should be able to change directories from the terminal by running `cd any_directory` and then running `jupyter notebook` to open the interactive web page needed to open, create and export Jupyter notebooks.\n",
    "\n",
    "\n",
    "\n",
    "<div class=\"alert alert-info\">\n",
    "\n",
    "**Note:** Please speak with your instructor if you run into any issues with setting up JupyterLab.\n",
    "\n",
    "</div>"
   ]
  }
 ],
 "metadata": {
  "kernelspec": {
   "display_name": "R",
   "language": "R",
   "name": "ir"
  },
  "language_info": {
   "codemirror_mode": "r",
   "file_extension": ".r",
   "mimetype": "text/x-r-source",
   "name": "R",
   "pygments_lexer": "r",
   "version": "4.1.1"
  }
 },
 "nbformat": 4,
 "nbformat_minor": 5
}
