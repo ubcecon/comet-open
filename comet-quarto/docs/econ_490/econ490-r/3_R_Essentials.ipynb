{
 "cells": [
  {
   "cell_type": "markdown",
   "id": "1e9a7ea6",
   "metadata": {
    "tags": []
   },
   "source": [
    "# ECON 490: R Essentials (3)\n",
    "\n",
    "## Prerequisites \n",
    "\n",
    "1. Understand how to effectively use R scripts or create Jupyter cells.\n",
    "\n",
    "## Learning Outcomes\n",
    "\n",
    "1. Understand objects, variables, and functions in R."
   ]
  },
  {
   "cell_type": "markdown",
   "id": "e0b8ed2b-c055-497d-a7ce-3bf21db26a54",
   "metadata": {},
   "source": [
    "Run the code cell below before starting!"
   ]
  },
  {
   "cell_type": "code",
   "execution_count": 32,
   "id": "b840833c-c2bf-4617-9377-64e1b454ca36",
   "metadata": {},
   "outputs": [],
   "source": [
    "source(\"3_tests.r\")\n",
    "\n",
    "library(IRdisplay)"
   ]
  },
  {
   "cell_type": "markdown",
   "id": "a0c1c001-970c-4b72-8d40-0f6a46d5cbfd",
   "metadata": {
    "pycharm": {
     "name": "#%% md\n"
    }
   },
   "source": [
    "## 3.1 Basics of Using R\n",
    "\n",
    "In this notebook, we will be introduced to **R**. R is a programming language which is particularly well-suited for statistics, econometrics, and data science.  If you are familiar with other programming languages such as Python, this will likely be very familiar. If this is your first time working with a programming language, don't be intimidated!  Try to play around with the examples and exercises as you work through this notebook; it's easiest to learn R (or any programming language) by playing around with it.\n",
    "\n",
    "R is an object oriented programming language. This means that we can create many different things (e.g. datasets, matrix, vectors, scalars) within it and they will all be stored in the same environment and accessed the same way. \n",
    "\n",
    "Every new line in R is understood as \n",
    "```\n",
    "function_name(input1 = valid_alternatives, input2 = valid_alternatives, ... ) \n",
    "```\n",
    "\n",
    "Fairly simple stuff! However, we first need to understand the basic data types that exist in R and how we can put these into different objects/data structure. Usually we use functions that are provided in a given `library` (package), but later we'll also look at how to create our own functions."
   ]
  },
  {
   "cell_type": "markdown",
   "id": "e60700e2-e3c7-4450-8251-6b1b42c13136",
   "metadata": {
    "pycharm": {
     "name": "#%% md\n"
    }
   },
   "source": [
    "## 3.2 Basic Data Types\n",
    "\n",
    "To begin, it's important to get a good grasp of the different **data types** in R and how to use them.  Whenever with work with R, we will be manipulating different kinds of information referred to as \"data\".  Data comes in many different forms, called _types_, which define how we can use it in calculations or visualizations in R.\n",
    "\n",
    "R has 6 basic data types. Data types are used to store information about a variable or object in R:\n",
    "\n",
    "1. **Character**: data in text format, like \"word\" or \"abc\"\n",
    "2. **Numeric** (real or decimal): data in real number format, like 6 or 18.8 (referred to as **Double** in R)\n",
    "3. **Integer**: data in whole number (integer) format, like 2L (the L tells R to store this as an integer)\n",
    "4. **Logical**: truth values, like TRUE or FALSE\n",
    "5. **Complex**: data in complex (i.e. imaginary) format, like 1+6i (where $i$ is the $\\sqrt{-1}$)\n",
    "6. **Raw**: raw digital data, which is unusual and which will not be covered in this section\n",
    "\n",
    "If we are ever wondering what kind of type an object in R has, or what its properties are, we can use the following two functions that allow us to examine the data type and elements contained within an object:\n",
    "\n",
    "* `typeof()`: this function returns a character string that corresponds to the data type of an object \n",
    "* `str()`: this function displays a compact internal structure of an R object \n",
    "\n",
    "We will see some examples of these in just a moment."
   ]
  },
  {
   "cell_type": "markdown",
   "id": "0c91750e-920a-4aec-9359-ad062132a3e0",
   "metadata": {
    "pycharm": {
     "name": "#%% md\n"
    }
   },
   "source": [
    "## 3.3 Data Structures\n",
    "\n",
    "Basic data is fine, but we often need to store data in more complex forms. Luckily, data can be stored in different structures in R beyond these basic data types. Below are some of the most important data structures in R, each of which we will look at individually in greater detail.\n",
    "\n",
    "* **Vectors**: a vector of values, like $(1,3,5,7)$\n",
    "* **Matrices**: a matrix of values, like $[1,2; 3,4]$ (usually displayed as a square)\n",
    "* **Lists**: a list of elements with named properties, like $($pet = \"cat, \"dog\", \"mouse\"$)$\n",
    "* **Data frames**: a collection of vectors or lists, organized into rows and columns according to observations\n",
    "\n",
    "Note that vectors don't need to be numeric! We can also use some useful built-in functions to create data structures (we don't have to create our own functions to do so).\n",
    "\n",
    "* `c`: this function combines values into a vector\n",
    "* `matrix`: this function creates a matrix from a given set of values\n",
    "* `list`: this function creates a list from a given set of values\n",
    "* `data.frame`: this function creates a data frame from a given set of lists or vectors\n",
    "\n",
    "Let's look at each of these four data structures in turn."
   ]
  },
  {
   "cell_type": "markdown",
   "id": "8c331f2f-c06d-4570-8707-c7ccc2a723eb",
   "metadata": {
    "pycharm": {
     "name": "#%% md\n"
    }
   },
   "source": [
    "#### 3.3.1 Vectors\n",
    "\n",
    "Vectors are important, and we can work with them by creating them from values or other elements using the `c()` function:"
   ]
  },
  {
   "cell_type": "code",
   "execution_count": 6,
   "id": "bf06db07-d6fe-40ba-877f-fa9889aa35f2",
   "metadata": {
    "pycharm": {
     "name": "#%%\n"
    }
   },
   "outputs": [],
   "source": [
    "# generate a vector containing values\n",
    "z <- c(1, 2, 3)\n",
    "\n",
    "# generate a vector containing characters\n",
    "countries <- c(\"Canada\", \"Japan\", \"United Kingdom\")"
   ]
  },
  {
   "cell_type": "markdown",
   "id": "c6ae4ca7-057f-4a8b-8400-138ee72a1b3a",
   "metadata": {
    "pycharm": {
     "name": "#%% md\n"
    }
   },
   "source": [
    "We can also **access** the elements of a vector.  Since a vector is made of basic data, we can access its elements using the `[ ]` index notation.  This is very similar to how we refer to elements of a vector in mathematical notation.\n",
    "\n",
    "> ***Note***: if you're familiar with other programming languages, it's important to note that R is 1-indexed.  So, the first element of a vector is 1, not 0.  Keep this in mind!"
   ]
  },
  {
   "cell_type": "markdown",
   "id": "463fac75-639b-4629-8ec6-90ec1018ab29",
   "metadata": {},
   "source": [
    "Below we access specific components of the _z_ and _countries_ vectors that have already been defined."
   ]
  },
  {
   "cell_type": "code",
   "execution_count": null,
   "id": "4021818f-1c56-4f66-a97b-d89bfb7ee130",
   "metadata": {
    "pycharm": {
     "name": "#%%\n"
    }
   },
   "outputs": [],
   "source": [
    "# the 2nd component of z\n",
    "z[2]\n",
    "\n",
    "# the 2nd component of countries\n",
    "countries[2]"
   ]
  },
  {
   "cell_type": "markdown",
   "id": "34c01af4-1ad2-4cea-874c-9edc6e4343a9",
   "metadata": {
    "pycharm": {
     "name": "#%% md\n"
    }
   },
   "source": [
    "As mentioned above, we can use the `typeof` and `str` functions to glimpse the kind of data stored in our objects. \n",
    "Run the cell below to see how this works:"
   ]
  },
  {
   "cell_type": "code",
   "execution_count": null,
   "id": "9e4b588f-3127-45d3-8aa4-612a9c0fd022",
   "metadata": {
    "pycharm": {
     "name": "#%%\n"
    }
   },
   "outputs": [],
   "source": [
    "# view the data type of countries\n",
    "typeof(countries)\n",
    "\n",
    "# view the data structure of countries\n",
    "str(countries)\n",
    "\n",
    "# view the data type of z\n",
    "typeof(z)\n",
    "\n",
    "# view the data structure of z\n",
    "str(z)"
   ]
  },
  {
   "cell_type": "markdown",
   "id": "d4bb64fc-dc27-46a1-8f12-335e7136f1d7",
   "metadata": {
    "pycharm": {
     "name": "#%% md\n"
    }
   },
   "source": [
    "The output of `str(countries)` begins by acknowledging that the contained data is of a character (chr) type. The information contained in the `[1:3]` first refers to the component number (there is only 1 component list here) and then the number of observations (the 3 countries)."
   ]
  },
  {
   "cell_type": "markdown",
   "id": "81106e5a-4eab-4611-b880-d36b00b04d59",
   "metadata": {
    "pycharm": {
     "name": "#%% md\n"
    }
   },
   "source": [
    "#### 3.3.2 Matrices\n",
    "\n",
    "Just like vectors, we can also create matrices; we can think of matrices as organized collections of row (or column) vectors. They're a little bit more complicated to create manually since we need to use a more complex function: `matrix`. However, the simplest way to way to create them is just to provide a vector of all the values to this function, then tell R how the matrix should be organized. R will then fill in the specified values. An example is below."
   ]
  },
  {
   "cell_type": "code",
   "execution_count": 3,
   "id": "b01cba0a-541d-42ae-b027-6837dc0fabea",
   "metadata": {
    "pycharm": {
     "name": "#%%\n"
    }
   },
   "outputs": [
    {
     "name": "stdout",
     "output_type": "stream",
     "text": [
      "     [,1] [,2] [,3]\n",
      "[1,]    2    6    7\n",
      "[2,]    3    7    3\n"
     ]
    }
   ],
   "source": [
    "# generate a 2 x 2 matrix\n",
    "m <- matrix(c(2,3,6,7,7,3), nrow=2,ncol=3)\n",
    "\n",
    "print(m)"
   ]
  },
  {
   "cell_type": "markdown",
   "id": "5a3ada6e-d071-4b23-b3e0-42597c8bebf8",
   "metadata": {
    "pycharm": {
     "name": "#%% md\n"
    }
   },
   "source": [
    "Take note of the order in which the values are filled in; it might be unexpected to you!\n",
    "\n",
    "Just like with vectors, we can also access parts of a matrix.  If we look at the cell output above, we can see some notation like `[1,]` and `[,2]`.  These are the _rows_ and _columns_ of the matrix.  We can refer to them using this notation.  We can also refer to specific elements using `[1,2]`.  Again, this is very similar to the mathematical notation for matrices. Below we access specific columns, rows, and elements of the matrix _m_."
   ]
  },
  {
   "cell_type": "code",
   "execution_count": 4,
   "id": "b0f26c6a-59f8-4234-b47a-fddd7dfd1521",
   "metadata": {
    "pycharm": {
     "name": "#%%\n"
    }
   },
   "outputs": [
    {
     "data": {
      "text/html": [
       "<style>\n",
       ".list-inline {list-style: none; margin:0; padding: 0}\n",
       ".list-inline>li {display: inline-block}\n",
       ".list-inline>li:not(:last-child)::after {content: \"\\00b7\"; padding: 0 .5ex}\n",
       "</style>\n",
       "<ol class=list-inline><li>6</li><li>7</li></ol>\n"
      ],
      "text/latex": [
       "\\begin{enumerate*}\n",
       "\\item 6\n",
       "\\item 7\n",
       "\\end{enumerate*}\n"
      ],
      "text/markdown": [
       "1. 6\n",
       "2. 7\n",
       "\n",
       "\n"
      ],
      "text/plain": [
       "[1] 6 7"
      ]
     },
     "metadata": {},
     "output_type": "display_data"
    },
    {
     "data": {
      "text/html": [
       "<style>\n",
       ".list-inline {list-style: none; margin:0; padding: 0}\n",
       ".list-inline>li {display: inline-block}\n",
       ".list-inline>li:not(:last-child)::after {content: \"\\00b7\"; padding: 0 .5ex}\n",
       "</style>\n",
       "<ol class=list-inline><li>2</li><li>6</li><li>7</li></ol>\n"
      ],
      "text/latex": [
       "\\begin{enumerate*}\n",
       "\\item 2\n",
       "\\item 6\n",
       "\\item 7\n",
       "\\end{enumerate*}\n"
      ],
      "text/markdown": [
       "1. 2\n",
       "2. 6\n",
       "3. 7\n",
       "\n",
       "\n"
      ],
      "text/plain": [
       "[1] 2 6 7"
      ]
     },
     "metadata": {},
     "output_type": "display_data"
    },
    {
     "data": {
      "text/html": [
       "6"
      ],
      "text/latex": [
       "6"
      ],
      "text/markdown": [
       "6"
      ],
      "text/plain": [
       "[1] 6"
      ]
     },
     "metadata": {},
     "output_type": "display_data"
    }
   ],
   "source": [
    "# 2nd column of matrix\n",
    "m[,2]     \n",
    "\n",
    "# 1st row of matrix\n",
    "m[1,]  \n",
    "\n",
    "# Element in row 1, column 2\n",
    "m[1,2]"
   ]
  },
  {
   "cell_type": "markdown",
   "id": "182bc22a-47d7-4f4a-9ea3-d8f8c2029ee3",
   "metadata": {
    "pycharm": {
     "name": "#%% md\n"
    }
   },
   "source": [
    "As with vectors, we can also observe and inspect the data structures of matrices using the helper function above."
   ]
  },
  {
   "cell_type": "code",
   "execution_count": 5,
   "id": "36543f3b-ef67-4d62-9324-2c7b47b2f50e",
   "metadata": {
    "pycharm": {
     "name": "#%%\n"
    }
   },
   "outputs": [
    {
     "data": {
      "text/html": [
       "'double'"
      ],
      "text/latex": [
       "'double'"
      ],
      "text/markdown": [
       "'double'"
      ],
      "text/plain": [
       "[1] \"double\""
      ]
     },
     "metadata": {},
     "output_type": "display_data"
    },
    {
     "name": "stdout",
     "output_type": "stream",
     "text": [
      " num [1:2, 1:3] 2 3 6 7 7 3\n"
     ]
    }
   ],
   "source": [
    "# what type is m?\n",
    "typeof(m)\n",
    "\n",
    "# glimpse data structure of m\n",
    "str(m)"
   ]
  },
  {
   "cell_type": "markdown",
   "id": "7b6d79ec-37d6-4f04-824e-853e5370e36e",
   "metadata": {
    "pycharm": {
     "name": "#%% md\n"
    }
   },
   "source": [
    "The output of `str(m)` begins by displaying that the data in the matrix is of a numeric (num) type. The `[1:2, 1:3]` shows the structure of the rows and columns.  The final part displays the values in the matrix."
   ]
  },
  {
   "cell_type": "markdown",
   "id": "3c2189d6-13c9-4fc3-933d-ebb09f185d63",
   "metadata": {
    "pycharm": {
     "name": "#%% md\n"
    }
   },
   "source": [
    "#### 3.3.3 Lists\n",
    "\n",
    "Lists are a little bit more complex because they can store many different data types and objects, each of which can be given _names_ which are specific ways to refer to these objects.  Names can be any useful descriptive term for an element of a list.  You can think of lists as flexible vectors with names. Let's generate a list below."
   ]
  },
  {
   "cell_type": "code",
   "execution_count": 7,
   "id": "72215aa8-b042-4452-a89a-4bf01505d157",
   "metadata": {
    "pycharm": {
     "name": "#%%\n"
    }
   },
   "outputs": [],
   "source": [
    "# generate a list with 3 components named \"text\" \"a_vector\" and \"a_matrix\"\n",
    "my_list <- list(text=\"test\", a_vector = z, a_matrix = m) "
   ]
  },
  {
   "cell_type": "markdown",
   "id": "be1d46e8-2c15-4a3a-a1db-bbfd73ad8d15",
   "metadata": {
    "pycharm": {
     "name": "#%% md\n"
    }
   },
   "source": [
    "We can access elements of the list using the `[ ]` or `[[ ]]` operations.  There is a difference:\n",
    "\n",
    "* `[ ]` accesses the _elements of the list_: the name and object\n",
    "* `[[ ]]` accesses the _object_ directly\n",
    "\n",
    "We usually want to use `[[ ]]` when working with data stored in lists.  One very nice feature of lists is that we can refer to their elements by number (like a vector) or by their name. Let's access specific components of the list both by name and number below."
   ]
  },
  {
   "cell_type": "code",
   "execution_count": 8,
   "id": "75a84e5d-eec4-4788-8f02-3f2d77c2600a",
   "metadata": {
    "pycharm": {
     "name": "#%%\n"
    }
   },
   "outputs": [
    {
     "data": {
      "text/html": [
       "'test'"
      ],
      "text/latex": [
       "'test'"
      ],
      "text/markdown": [
       "'test'"
      ],
      "text/plain": [
       "[1] \"test\""
      ]
     },
     "metadata": {},
     "output_type": "display_data"
    },
    {
     "data": {
      "text/html": [
       "'test'"
      ],
      "text/latex": [
       "'test'"
      ],
      "text/markdown": [
       "'test'"
      ],
      "text/plain": [
       "[1] \"test\""
      ]
     },
     "metadata": {},
     "output_type": "display_data"
    },
    {
     "data": {
      "text/html": [
       "<strong>$text</strong> = 'test'"
      ],
      "text/latex": [
       "\\textbf{\\$text} = 'test'"
      ],
      "text/markdown": [
       "**$text** = 'test'"
      ],
      "text/plain": [
       "$text\n",
       "[1] \"test\"\n"
      ]
     },
     "metadata": {},
     "output_type": "display_data"
    },
    {
     "data": {
      "text/html": [
       "'list'"
      ],
      "text/latex": [
       "'list'"
      ],
      "text/markdown": [
       "'list'"
      ],
      "text/plain": [
       "[1] \"list\""
      ]
     },
     "metadata": {},
     "output_type": "display_data"
    }
   ],
   "source": [
    "# 1st component in list\n",
    "my_list[[1]] \n",
    "\n",
    "#1st component in list by name (text)\n",
    "my_list[[\"text\"]]\n",
    "\n",
    "# 1st part of the list (note the brackets)\n",
    "my_list[1] \n",
    "\n",
    "# glimpse data type of my_list\n",
    "typeof(my_list)"
   ]
  },
  {
   "cell_type": "markdown",
   "id": "69ff4bd8-2844-45b4-8a12-f79dacadf6c1",
   "metadata": {
    "pycharm": {
     "name": "#%% md\n"
    }
   },
   "source": [
    "There is one final way to access elements of a list by name: using the `$` or **access** operator.  This works basically like `[[name]]` but is more transparent when writing code.  We write down the object we want to access, followed by the operator, followed by the property. Let's do this below."
   ]
  },
  {
   "cell_type": "code",
   "execution_count": null,
   "id": "405eae47-1f51-4493-bba8-ca5b4671134a",
   "metadata": {
    "pycharm": {
     "name": "#%%\n"
    }
   },
   "outputs": [],
   "source": [
    "# get the named property \"text\"\n",
    "my_list$text\n",
    "\n",
    "#get the name property\n",
    "my_list$a_matrix"
   ]
  },
  {
   "cell_type": "markdown",
   "id": "8003fd9e-eccf-4474-9264-f97956c25c72",
   "metadata": {
    "pycharm": {
     "name": "#%% md\n"
    }
   },
   "source": [
    "We can see that this _only_ works for named objects. This is particularly convenient for data frames, which we will discuss next."
   ]
  },
  {
   "cell_type": "markdown",
   "id": "c31fcc36-0b98-4976-9994-85fc794a714d",
   "metadata": {
    "pycharm": {
     "name": "#%% md\n"
    }
   },
   "source": [
    "#### 3.3.4 Data frames"
   ]
  },
  {
   "cell_type": "markdown",
   "id": "a908e1fe-d088-42ce-97db-9d38b7646f33",
   "metadata": {
    "pycharm": {
     "name": "#%% md\n"
    }
   },
   "source": [
    "Data frames are the most complex object we will work with in this course, but also the most important.  They represent data - like the kind of data we use in econometrics.  In this course, we will primarily focus on _tidy_ data, data in which the columns represent variables and the rows represent observations.  In terms of R, we can think of data-frames as a combination of a matrix and a list. Let's generate a data frame below using the `data.frame` function."
   ]
  },
  {
   "cell_type": "code",
   "execution_count": null,
   "id": "1de17da7-5e74-4785-9398-ac4021a039ff",
   "metadata": {
    "pycharm": {
     "name": "#%%\n"
    }
   },
   "outputs": [],
   "source": [
    "# generates a dataframe with 2 columns and 3 rows\n",
    "df <- data.frame(ID=c(1:3),\n",
    "                 Country=countries)"
   ]
  },
  {
   "cell_type": "markdown",
   "id": "edec8553-c505-42e3-8571-2efc3dd5beef",
   "metadata": {
    "pycharm": {
     "name": "#%% md\n"
    }
   },
   "source": [
    "We can access specific columns (variables) of this data frame using their names or their ordering. We can also use the `str` function like before to inspect the data structure of this new data frame _df_."
   ]
  },
  {
   "cell_type": "code",
   "execution_count": null,
   "id": "a88b7db4-304e-4d0b-9d14-f24cac75cbca",
   "metadata": {
    "pycharm": {
     "name": "#%%\n"
    }
   },
   "outputs": [],
   "source": [
    "# If we want access specific parts of the dataframe:\n",
    "\n",
    "# 2nd column in dataframe\n",
    "df[2] \n",
    "\n",
    "df$Country\n",
    "\n",
    "# glimpse compact data structure of df\n",
    "str(df)"
   ]
  },
  {
   "cell_type": "markdown",
   "id": "7b951953-8e91-4008-a039-9b67d3ecacc4",
   "metadata": {
    "pycharm": {
     "name": "#%% md\n"
    }
   },
   "source": [
    "Notice that the `str(df)` command shows us the names of the columns in this data set, as well as how we can access them."
   ]
  },
  {
   "cell_type": "markdown",
   "id": "0ea81926-eb29-49c9-8e14-cd5529cc964e",
   "metadata": {},
   "source": [
    "## Exercise 1\n",
    "\n",
    "Run the code cells below to see the exercise!"
   ]
  },
  {
   "cell_type": "code",
   "execution_count": 11,
   "id": "acbb201a-c01b-4da3-953b-527f54aa4315",
   "metadata": {},
   "outputs": [],
   "source": [
    "continents <- c(\"Africa\", \"Antarctica\", \"Asia\", \"Australia and Oceania\", \"Europe\", \"North America\", \"South America\")"
   ]
  },
  {
   "cell_type": "code",
   "execution_count": 10,
   "id": "a4217699-39e9-4695-bcc7-e69a6db13b9e",
   "metadata": {},
   "outputs": [
    {
     "data": {
      "text/html": [
       "<iframe src=\"https://h5p.open.ubc.ca/wp-admin/admin-ajax.php?action=h5p_embed&id=1177\" width=\"862\" height=\"311\" frameborder=\"0\" allowfullscreen=\"allowfullscreen\" title=\"R:3.1\"></iframe><script src=\"https://h5p.open.ubc.ca/wp-content/plugins/h5p/h5p-php-library/js/h5p-resizer.js\" charset=\"UTF-8\"></script>"
      ]
     },
     "metadata": {},
     "output_type": "display_data"
    }
   ],
   "source": [
    "display_html('<iframe src=\"https://h5p.open.ubc.ca/wp-admin/admin-ajax.php?action=h5p_embed&id=1177\" width=\"862\" height=\"311\" frameborder=\"0\" allowfullscreen=\"allowfullscreen\" title=\"R:3.1\"></iframe><script src=\"https://h5p.open.ubc.ca/wp-content/plugins/h5p/h5p-php-library/js/h5p-resizer.js\" charset=\"UTF-8\"></script>')"
   ]
  },
  {
   "cell_type": "markdown",
   "id": "8ba53249-c5e1-48ee-9e4f-61c5a86c0d1e",
   "metadata": {},
   "source": [
    "## Exercise 2\n",
    "\n",
    "Use the object \"party_attendance\" to answer the following question."
   ]
  },
  {
   "cell_type": "code",
   "execution_count": 12,
   "id": "7aee09ae-66bd-481e-bb30-ada74312cc01",
   "metadata": {},
   "outputs": [],
   "source": [
    "people <- c(\"John\", \"Jack\", \"Jane\", \"Joseph\")\n",
    "food <- c(\"chips\", \"vegetables\", \"cookies\", \"fruit\")\n",
    "times <- c(8, 10, 11, 9)\n",
    "\n",
    "party_attendance <- data.frame(Person = people, Food_Brought = food, Time_Left = times)"
   ]
  },
  {
   "cell_type": "markdown",
   "id": "42710836-fe26-4835-9a80-c5f3800a6822",
   "metadata": {},
   "source": [
    "Create a dataframe which has just the information for Jane (her name, food brought and time left). Store this data frame inside \"answer_2\"."
   ]
  },
  {
   "cell_type": "code",
   "execution_count": 22,
   "id": "b2d8497a-3f48-4766-b2b3-272c543c547c",
   "metadata": {},
   "outputs": [
    {
     "name": "stdout",
     "output_type": "stream",
     "text": [
      "\u001b[32mTest passed\u001b[39m 🥳\n",
      "[1] \"Success!\"\n"
     ]
    }
   ],
   "source": [
    "answer_2 <- # your answer here\n",
    "\n",
    "test_2()"
   ]
  },
  {
   "cell_type": "markdown",
   "id": "f5ab7e61-c4bd-468c-a1d0-dd73f0e29229",
   "metadata": {},
   "source": [
    "## Exercise 3\n",
    "\n",
    "Use the object \"matrix\" to answer the following question."
   ]
  },
  {
   "cell_type": "code",
   "execution_count": 26,
   "id": "86b835fe-1724-4ee4-b28c-db6a90b4e92d",
   "metadata": {},
   "outputs": [],
   "source": [
    "matrix <- matrix(rnorm(12), nrow = 24, ncol = 24)"
   ]
  },
  {
   "cell_type": "markdown",
   "id": "30fe6cb3-2fdc-4d97-bc2f-6a99d72ee197",
   "metadata": {},
   "source": [
    "What is the value of the 15th observation in column 4 of matrix? Store this answer in answer_3."
   ]
  },
  {
   "cell_type": "code",
   "execution_count": 33,
   "id": "98453889-9845-4240-b054-7dbbb53382cd",
   "metadata": {},
   "outputs": [
    {
     "name": "stdout",
     "output_type": "stream",
     "text": [
      "\u001b[32mTest passed\u001b[39m 🎉\n",
      "[1] \"Success!\"\n"
     ]
    }
   ],
   "source": [
    "answer_3 <- # your answer here\n",
    "\n",
    "test_3()"
   ]
  },
  {
   "cell_type": "markdown",
   "id": "15aeb1c9-98e6-4052-845a-44d25ae4684a",
   "metadata": {
    "pycharm": {
     "name": "#%% md\n"
    }
   },
   "source": [
    "## 3.4 Objects and Variables\n",
    "\n",
    "At this point, we have now covered some of the different types of data in R and how they work. However, let's see how we can work with them in more detail by writing R code. A **variable** or **object** is a name assigned to a memory location in the R workspace (working memory). For now we can use the terms variable and object interchangeably. An object will always have an associated type, determined by the information assigned to it. Clear and concise object assignment is essential for **reproducible data analysis**, as mentioned in the module [Working with R Scripts](econometrics/econ490-r/2_Working_Rscripts.ipynb).\n",
    "\n",
    "When it comes to code, we can assign information (stored in a specific data type) to variables and objects using the **assignment operator** `<-`. With the assignment operator, the information on the right-hand side is assigned to the variable/object on the left-hand side. We've seen this already with some of the vectors, lists, matrices, and data frames defined earlier in this notebook.\n",
    "\n",
    "> **Important Note**: R is case sensitive. When referring to an object, it must _exactly_ match its assignment.  `Var_1` is not the same as `var_1` or `var1`.\n",
    "\n",
    "In the example below, `\"Hello\"` has been assigned to the object `var_1`. `\"Hello\"` will be stored in the R workspace as an object named `\"var_1\"`, which we can call at any time."
   ]
  },
  {
   "cell_type": "code",
   "execution_count": null,
   "id": "6d340cab-969a-4fce-9dcc-f7d4f4584ff5",
   "metadata": {
    "pycharm": {
     "name": "#%%\n"
    }
   },
   "outputs": [],
   "source": [
    "var_1 <- \"Hello\"\n",
    "\n",
    "var_1\n",
    "\n",
    "typeof(var_1)"
   ]
  },
  {
   "cell_type": "markdown",
   "id": "61c623a4-1a05-4d86-9a5e-a49acb072b11",
   "metadata": {
    "pycharm": {
     "name": "#%% md\n"
    }
   },
   "source": [
    "We can create variables of many types, including all of the basic and advanced types discussed above. Below are some examples of four different type objects assigned to four different variables."
   ]
  },
  {
   "cell_type": "code",
   "execution_count": 34,
   "id": "9c343165-3dc2-4330-8fd9-b6576050713a",
   "metadata": {
    "pycharm": {
     "name": "#%%\n"
    }
   },
   "outputs": [],
   "source": [
    "var_2 <- 34.5 # numeric/double\n",
    "var_3 <- 6L # integer\n",
    "var_4 <- TRUE # logical/boolean\n",
    "var_5 <- 1 + 3i # complex"
   ]
  },
  {
   "cell_type": "markdown",
   "id": "965394ad-be19-4437-a11d-f6248b98e665",
   "metadata": {
    "pycharm": {
     "name": "#%% md\n"
    }
   },
   "source": [
    "## 3.5 Operations"
   ]
  },
  {
   "cell_type": "markdown",
   "id": "52ce4df8-d9a7-414b-9212-861f06d3b56a",
   "metadata": {
    "pycharm": {
     "name": "#%% md\n"
    }
   },
   "source": [
    "In R, we can also perform **operations** on objects; the type of an object defines what operations are valid. All of the basic mathematical and logical operations we are familiar with are example of these, but there are many more.  For example:"
   ]
  },
  {
   "cell_type": "code",
   "execution_count": null,
   "id": "57a1132b-0296-4951-9531-3b9aa5c112b7",
   "metadata": {
    "pycharm": {
     "name": "#%%\n"
    }
   },
   "outputs": [],
   "source": [
    "a <- 4 # creates an object named \"a\" assigned to the value: 4\n",
    "b <- 6 # creates an object named \"b\" assigned to the value: 6\n",
    "c <- a + b # creates an object \"c\" assigned to the value (a = 4) + (b = 6)"
   ]
  },
  {
   "cell_type": "markdown",
   "id": "18537f35-b740-4d78-b9ff-80a2e8e2730a",
   "metadata": {
    "pycharm": {
     "name": "#%% md\n"
    }
   },
   "source": [
    "> Try and think about what value c holds!"
   ]
  },
  {
   "cell_type": "markdown",
   "id": "9adb0e1f-e82b-46b0-89e9-066a2fbe822b",
   "metadata": {
    "pycharm": {
     "name": "#%% md\n"
    }
   },
   "source": [
    "We can view the assigned value of _c_ in two different ways:\n",
    "1. By printing `a + b`\n",
    "2. By printing `c`\n",
    "\n",
    "Run the code cell below to see for yourself!"
   ]
  },
  {
   "cell_type": "code",
   "execution_count": null,
   "id": "633e7f55-daea-4e56-9edf-42dd02a7334a",
   "metadata": {
    "pycharm": {
     "name": "#%%\n"
    }
   },
   "outputs": [],
   "source": [
    "a + b\n",
    "c"
   ]
  },
  {
   "cell_type": "markdown",
   "id": "63e8788c-197e-4c5b-a797-4d2300b348ad",
   "metadata": {
    "pycharm": {
     "name": "#%% md\n"
    }
   },
   "source": [
    "It is also possible to change the value of an object. In the example below, the object _b_ has been reassigned the value 5."
   ]
  },
  {
   "cell_type": "code",
   "execution_count": null,
   "id": "acf480e2-19d7-4ee7-8caf-9d616ecd78be",
   "metadata": {
    "pycharm": {
     "name": "#%%\n"
    }
   },
   "outputs": [],
   "source": [
    "b <- 5 "
   ]
  },
  {
   "cell_type": "markdown",
   "id": "07418353-b274-44c2-8a1b-0d288486557d",
   "metadata": {
    "pycharm": {
     "name": "#%% md\n"
    }
   },
   "source": [
    "R will now store the updated value of 5 in the object _b_. This overrides the original assignment of 6 to _b_. The ability to change object names is a key benefit of using variables in R. We can simply reassign the value to a variable without having to change that value everywhere in our code. This will be quite useful when we want to do things such as change the name of a column in a data set in a future module.\n",
    "\n",
    "> ***Tip:***  Remember to use a unique object name that hasn't been used before when creating a new object. This helps to avoid unplanned object reassignment. Remember, descriptive names are better!"
   ]
  },
  {
   "cell_type": "markdown",
   "id": "2fade3b6-150c-472c-86bf-4d5e0f430b0d",
   "metadata": {
    "pycharm": {
     "name": "#%% md\n"
    }
   },
   "source": [
    "Earlier, we discussed operations and used the example of `+` to run the addition of a and b. `+` is a type of arithmetic **operator**, meaning it is a symbol that tells R to perform a specific operation. R has 4 types of operators, some of which we've already seen and some of which we haven't:\n",
    "\n",
    "1. **Arithmetic operators**: used to carry out mathematical operations. Ex. `*` for multiplication, `/` for division, `^` for exponentiation, etc.\n",
    "1. **Assignment operators**: used to assign values to variables. Ex. `<-` \n",
    "1. **Relational operators**: used to compare between values. Ex. `>` for greater than, `==` for equal to, `!=` for not equal to etc.\n",
    "1. **Logical operators**: used to carry out Boolean operations. Ex. `!` for Logical NOT, `&` for Logical AND etc.\n",
    "\n",
    "We won't cover all of these right now, but you can look them up online; for now, keep an eye out for them when they appear."
   ]
  },
  {
   "cell_type": "markdown",
   "id": "75efe683-5f7a-4b2b-8f39-c5d8fe003c96",
   "metadata": {},
   "source": [
    "## Exercise 4\n",
    "\n",
    "Inspect the following code carefully."
   ]
  },
  {
   "cell_type": "code",
   "execution_count": 35,
   "id": "c893fea7-3cd9-4641-b813-084cc99f3d6d",
   "metadata": {},
   "outputs": [],
   "source": [
    "A <- 3\n",
    "B <- 4\n",
    "\n",
    "B <- (A + B) ^ 2\n",
    "\n",
    "C <- B - A"
   ]
  },
  {
   "cell_type": "markdown",
   "id": "9bae698f-c01d-422c-921b-8fee018b943e",
   "metadata": {},
   "source": [
    "What is the value of variable _C_? Store your answer in \"answer_4\"."
   ]
  },
  {
   "cell_type": "code",
   "execution_count": 36,
   "id": "8d1147c2-46fb-457a-9547-be5f651bc7fd",
   "metadata": {},
   "outputs": [
    {
     "name": "stdout",
     "output_type": "stream",
     "text": [
      "\u001b[32mTest passed\u001b[39m 🥇\n",
      "[1] \"Success!\"\n"
     ]
    }
   ],
   "source": [
    "answer_4 <- # your answer here\n",
    "\n",
    "test_4()"
   ]
  },
  {
   "cell_type": "markdown",
   "id": "5dfb059b-7afc-4f49-a683-50b2d8c3c6ac",
   "metadata": {
    "pycharm": {
     "name": "#%% md\n"
    }
   },
   "source": [
    "## 3.6 Functions\n",
    "\n",
    "These simple operations are great to start with, but what if we want to do operations on different values of X and Y over and over and don’t want to constantly rewrite this code? This is where **functions** come in. Functions allow us to carry out specific tasks. We simply pass in a parameter or parameters to the function. Code is then executed in the function body based on these parameters, and output may be returned.\n",
    "\n",
    "Some functions are built-in to R, such as the `library` function we have been using to load in packages. However, some functions are customized, meaning we created them ourselves. Below is the format for these customized functions that we create ourselves and customize for our intended purpose."
   ]
  },
  {
   "cell_type": "code",
   "execution_count": 12,
   "id": "bae59591-efb4-4d9e-bac7-412b7b3dd8b8",
   "metadata": {
    "pycharm": {
     "name": "#%% md\n"
    }
   },
   "outputs": [],
   "source": [
    "# Functionname <- function(arguments)\n",
    "#  {code operating on the arguments\n",
    "#   }"
   ]
  },
  {
   "cell_type": "markdown",
   "id": "e17e4ea1-7e79-4517-a178-bcac370d9c7f",
   "metadata": {
    "pycharm": {
     "name": "#%% md\n"
    }
   },
   "source": [
    "This structure says that we start with a name for our function (`Functionname`) and we use the assignment operator similarly to when we assign values to variables. We then pass **arguments or parameters** to our function (which can be numeric, characters, vectors, collections such as lists, etc.) in the `(arguments)` space; think of them as the _inputs_ to the function. \n",
    "\n",
    "Finally, within the curly brackets we write the code needed to accomplish our desired task. Once we have done this, we can call this function anywhere in our code (after having run the cell defining the function!) and evaluate it based on the specific parameter values that we choose to pass in as inputs. \n",
    "\n",
    "An example is shown below; can you figure out what this function does?"
   ]
  },
  {
   "cell_type": "code",
   "execution_count": 1,
   "id": "8fc6c3a6-dacc-4d46-9f4e-886a4a6d2ee0",
   "metadata": {
    "pycharm": {
     "name": "#%%\n"
    }
   },
   "outputs": [],
   "source": [
    "my_function <- function(x, y)\n",
    " {x = x + y\n",
    " 2 * x\n",
    "}"
   ]
  },
  {
   "cell_type": "markdown",
   "id": "6247f2ce-5609-459c-b316-220666401889",
   "metadata": {
    "pycharm": {
     "name": "#%% md\n"
    }
   },
   "source": [
    "The parameters passed as input to functions can be given **defaults**. Defaults are specific values for parameters that have been chosen and defined within the circular brackets of the function definition. For example, we can define `y = 3` as a default in our `my_function`. When we call this function, we then do not have to specify an input for _y_ unless we want to."
   ]
  },
  {
   "cell_type": "code",
   "execution_count": 2,
   "id": "4e24983d-6394-4ca7-8530-49baec3e3bc9",
   "metadata": {
    "pycharm": {
     "name": "#%%\n"
    }
   },
   "outputs": [
    {
     "data": {
      "text/html": [
       "10"
      ],
      "text/latex": [
       "10"
      ],
      "text/markdown": [
       "10"
      ],
      "text/plain": [
       "[1] 10"
      ]
     },
     "metadata": {},
     "output_type": "display_data"
    }
   ],
   "source": [
    "my_function <- function(x, y = 3)\n",
    " {x = x + y\n",
    " 2 * x}\n",
    "\n",
    "my_function(2)"
   ]
  },
  {
   "cell_type": "markdown",
   "id": "55664c3b-5dbc-4592-8f64-80de77a811e4",
   "metadata": {
    "pycharm": {
     "name": "#%% md\n"
    }
   },
   "source": [
    "However, if we want to override this default, we can simply call the function with a new input for _y_. This is done below for `y = 4`, allowing us to execute our code as though our default was actually `y = 4`."
   ]
  },
  {
   "cell_type": "code",
   "execution_count": 3,
   "id": "61163789-ca48-4601-a582-dced5df92b0d",
   "metadata": {
    "pycharm": {
     "name": "#%%\n"
    }
   },
   "outputs": [
    {
     "data": {
      "text/html": [
       "12"
      ],
      "text/latex": [
       "12"
      ],
      "text/markdown": [
       "12"
      ],
      "text/plain": [
       "[1] 12"
      ]
     },
     "metadata": {},
     "output_type": "display_data"
    }
   ],
   "source": [
    "my_function <- function(x, y = 3)\n",
    " {x = x + y\n",
    "  2 * x}\n",
    "\n",
    "my_function(2, 4)"
   ]
  },
  {
   "cell_type": "markdown",
   "id": "fd0618ea-70f4-4eaf-abdd-0c8dc4187e1f",
   "metadata": {
    "pycharm": {
     "name": "#%% md\n"
    }
   },
   "source": [
    "Finally, note that we can **nest** functions within functions, meaning we can call functions inside of other functions, creating very complex arrangements. Just be sure that these inner functions have themselves already been defined! An example is below."
   ]
  },
  {
   "cell_type": "code",
   "execution_count": 4,
   "id": "c69eeb40-1ced-47d9-baab-9234ea8a072c",
   "metadata": {
    "pycharm": {
     "name": "#%%\n"
    }
   },
   "outputs": [
    {
     "data": {
      "text/html": [
       "-18"
      ],
      "text/latex": [
       "-18"
      ],
      "text/markdown": [
       "-18"
      ],
      "text/plain": [
       "[1] -18"
      ]
     },
     "metadata": {},
     "output_type": "display_data"
    }
   ],
   "source": [
    "my_function_1 <- function(x, y)\n",
    " {x = x + y + 2\n",
    "  2 * x}\n",
    "\n",
    "my_function_2 <- function(x, y)\n",
    " {x = x + y - my_function_1(x, y)\n",
    "  2 * x}\n",
    "\n",
    "my_function_2(2, 3)"
   ]
  },
  {
   "cell_type": "markdown",
   "id": "7f2927ff-4ef2-4e50-9cd4-c468e60b6ec6",
   "metadata": {
    "pycharm": {
     "name": "#%% md\n"
    }
   },
   "source": [
    "Luckily, we usually don't have to define our own functions, since most useful built-in functions we need already come with R and its core packages. They do not require creation; they already exist for us, although they may require the importing of specific packages to be operable. We can always use the help `?` feature in R to learn more about a built-in function if we're unsure. For example, `?max` gives us more information about the `max()` function.\n",
    "\n",
    "For more information about how you should read and use key functions, please refer to the [Function Cheat Sheet](https://cran.r-project.org/doc/contrib/Short-refcard.pdf). "
   ]
  },
  {
   "cell_type": "markdown",
   "id": "b3475b23-bd9c-4e1b-9534-f387eb2b0d55",
   "metadata": {},
   "source": [
    "## Exercise 5\n",
    "\n",
    "Use the function calculator to help you answer the following question."
   ]
  },
  {
   "cell_type": "code",
   "execution_count": 7,
   "id": "b66db372-dae7-4b69-96a6-f648501ea5ce",
   "metadata": {},
   "outputs": [],
   "source": [
    "calculator <- function(x, y)\n",
    "    {x = x + y\n",
    "     y = x ^ 2\n",
    "     x + y}\n",
    "\n",
    "calculator2 <- function(x, y)\n",
    "    if(calculator(x, y) > 50){\n",
    "        print(\"high\")\n",
    "    } else {\n",
    "        print(\"low\")\n",
    "    }"
   ]
  },
  {
   "cell_type": "markdown",
   "id": "2afc77b6-853e-4689-b7d5-acf0ec04df3d",
   "metadata": {},
   "source": [
    "The previous function, calculator2, is a nested function: it invokes calculator inside of it. If calculator2 takes in a value of 3 for x, what is the minimum positive integer *y* needed to ensure that the output of calculator2 is \"high\"? Store your answer in answer_5."
   ]
  },
  {
   "cell_type": "code",
   "execution_count": 41,
   "id": "008a7a0d-8584-499e-bae0-9ae5159bb75b",
   "metadata": {},
   "outputs": [
    {
     "name": "stdout",
     "output_type": "stream",
     "text": [
      "\u001b[32mTest passed\u001b[39m 😸\n",
      "[1] \"Success!\"\n"
     ]
    }
   ],
   "source": [
    "answer_5 <- # your answer here\n",
    "\n",
    "test_5()"
   ]
  },
  {
   "cell_type": "markdown",
   "id": "ceeea93a-6c0c-41e1-99d4-dcb5c5af9068",
   "metadata": {
    "pycharm": {
     "name": "#%% md\n"
    }
   },
   "source": [
    "## 3.7 Dealing with Errors\n",
    "\n",
    "Sometimes in our analysis we run into errors in our code; this happens to everyone and is not a reason to panic. Understanding the nature of the error we are confronted is a helpful first step in finding a solution. There are two common types of errors:\n",
    "\n",
    "* **Syntax errors**: This is the most common error type. These errors result from invalid code statements/structures that R doesn’t understand. Suppose R speaks English. This error is representative of us asking it to help by speaking German or broken English, which would certainly not work! Here are some examples of common syntax errors: using a function for which an unloaded package is needed, misspelling of a command as R is chase-sensitive, and unmatched parenthesis. How we handle syntax errors is case-by-case: we can usually solve syntax errors by reading the error message and googling it.\n",
    "\n",
    "* **Semantic errors**: These errors result from valid code that successfully executes but produces unintended outcomes. Again, let us suppose R speaks English. This error is representative of us asking R to hand us an apple in English, which R successfully understood, but it handed us a banana in return. This is not okay! How we handle semantic errors is also case-by-case: we can usually solve semantic errors by reading the associated error message and googling it for help/suggestions."
   ]
  },
  {
   "cell_type": "markdown",
   "id": "588e8f97-e796-4ba7-94f9-f8911e940919",
   "metadata": {},
   "source": [
    "## 3.8 Wrap Up\n",
    "\n",
    "In this notebook, we have learned the different ways data can be stored and structured in our R memory. We have also learned how to manipulate, extract and operate on data from different structures. Additionally, we have learned how to write a function to perform operations more efficiently. Now that we have all of this knowledge at our disposal, we can load in data and operate on it in the next module."
   ]
  },
  {
   "cell_type": "markdown",
   "id": "34cf7a96-127e-4e3d-93fa-b9db6d5d00fd",
   "metadata": {},
   "source": [
    "## References\n",
    "\n",
    "- [Useful R Cheat Sheets](https://www.rstudio.com/resources/cheatsheets/)"
   ]
  }
 ],
 "metadata": {
  "kernelspec": {
   "display_name": "R",
   "language": "R",
   "name": "ir"
  },
  "language_info": {
   "codemirror_mode": "r",
   "file_extension": ".r",
   "mimetype": "text/x-r-source",
   "name": "R",
   "pygments_lexer": "r",
   "version": "4.1.1"
  }
 },
 "nbformat": 4,
 "nbformat_minor": 5
}
