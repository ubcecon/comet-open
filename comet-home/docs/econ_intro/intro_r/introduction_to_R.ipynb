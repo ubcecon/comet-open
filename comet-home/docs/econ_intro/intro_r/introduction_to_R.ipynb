{
 "cells": [
  {
   "cell_type": "markdown",
   "id": "557e0221-3a03-4715-af9a-9c241fd9e82b",
   "metadata": {
    "pycharm": {
     "name": "#%% md\n"
    },
    "tags": []
   },
   "source": [
    "# Introduction to R\n",
    "\n",
    "* **Authors**: COMET Team (Colby Chambers, Anneke Dresselhuis, Oliver Xu, Colin Grimes, Jonathan Graves)\n",
    "* **Last Update**: 10 August 2022\n",
    "---"
   ]
  },
  {
   "cell_type": "markdown",
   "id": "5c907930-300a-415d-9f61-959d0f59a130",
   "metadata": {
    "pycharm": {
     "name": "#%% md\n"
    }
   },
   "source": [
    "## Outline\n",
    "\n",
    "### Prerequisites: \n",
    "* Introduction to Jupyter"
   ]
  },
  {
   "cell_type": "markdown",
   "id": "7722e057-f2b8-42c5-9ba9-7b1d9097925b",
   "metadata": {
    "pycharm": {
     "name": "#%% md\n"
    }
   },
   "source": [
    "### Learning Objectives"
   ]
  },
  {
   "cell_type": "markdown",
   "id": "8b699a7a-a68b-4cd4-817e-8fb2767ad179",
   "metadata": {
    "pycharm": {
     "name": "#%% md\n"
    }
   },
   "source": [
    "- Understand variables, functions and objects in R\n",
    "- Import and load data into Jupyter Notebook\n",
    "- Access and perform manipulations of this data"
   ]
  },
  {
   "cell_type": "code",
   "execution_count": null,
   "id": "a57109d8-7781-444f-8539-67f2d5840a2c",
   "metadata": {
    "pycharm": {
     "name": "#%%\n"
    }
   },
   "outputs": [],
   "source": [
    "# Run this cell\n",
    "\n",
    "source(\"intro_to_r_tests.r\")"
   ]
  },
  {
   "cell_type": "markdown",
   "id": "a0c1c001-970c-4b72-8d40-0f6a46d5cbfd",
   "metadata": {
    "pycharm": {
     "name": "#%% md\n"
    }
   },
   "source": [
    "## Introduction to Using R\n",
    "\n",
    "In this notebook, we will introducing **R**, which is a programming language which is particularly well-suited for statistics, econometrics, and data science.  If you are familiar with other programming languages, such as Python, this will likely be very familiar - if this is your first time, don't be intimidated!  Try to play around with the examples and exercises as you work through this notebook; it's easiest to learn R (or any programming language) by playing around with it."
   ]
  },
  {
   "cell_type": "markdown",
   "id": "e60700e2-e3c7-4450-8251-6b1b42c13136",
   "metadata": {
    "pycharm": {
     "name": "#%% md\n"
    }
   },
   "source": [
    "## Basic Data Types\n",
    "\n",
    "To begin, it's important to get a good grasp of the different **data types** in R and how to use them.  Whenever with work with R, we will be manipulating different kinds of information, which is referred to as \"data\".  Data comes in many different forms, which define how we can use it in calculations or visualizations - these are called _types_ in R.\n",
    "\n",
    "R has 6 basic data types. Data types are used to store information about a variable or object in R:\n",
    "\n",
    "1. **Character**: data in text format, like \"word\" or \"abc\"\n",
    "2. **Numeric** (real or decimal): data in real number format, like 6, or 18.8 (referred to as **Double** in R)\n",
    "3. **Integer**:  data in an whole number (integer) format, like 2L (the L tells R to store this as an integer)\n",
    "4. **Logical**: truth values, like TRUE, FALSE\n",
    "5. **Complex**: data in complex (i.e. imaginary) format, like 1+6i (where $i$ is the $\\sqrt{-1}$)\n",
    "6. **Raw**: raw digital data, which is unusual which we will not cover in this section\n",
    "\n",
    "If we are ever wondering what kind of type an object in R has, or what its properties are, we can use the following two functions, which allow us to examine the data type and elements contained within an object:\n",
    "\n",
    "* `typeof()`: this function returns a character string that corresponds to the data type of an object \n",
    "* `str()`: this function displays a compact internal structure of an R object \n",
    "\n",
    "We will see some examples of these in just a moment."
   ]
  },
  {
   "cell_type": "markdown",
   "id": "0c91750e-920a-4aec-9359-ad062132a3e0",
   "metadata": {
    "pycharm": {
     "name": "#%% md\n"
    }
   },
   "source": [
    "## Data Structures\n",
    "\n",
    "Basic data is fine, but we often need to store data in more complex forms.  Data can also be stored in different structures in R beyond basic data types. Data structures in R programming can be complicated, as they are tools for holding multiple values. However, some of them are very important, and are worth discussing here. \n",
    "\n",
    "* **Vectors**: a vector of values, like $(1,3,5,7)$\n",
    "* **Matrices**: a matrix of values, like $[1,2; 3,4]$ (usually displayed as a square)\n",
    "* **Lists**: a list of elements, like $($pet = \"cat, \"dog\", \"mouse\"$)$, with named properties\n",
    "* **Dataframe**: a collection of vectors or lists, organized into rows and columns according to observations.\n",
    "\n",
    "Note that vectors don't need to be numeric!  You can also use some useful built-in functions to create data structures (we don't have to create our own functions to do so).\n",
    "\n",
    "* `c()`: this function combines values into a vector\n",
    "* `matrix()`: this function creates a matrix from a given set of values\n",
    "* `list()`: this function creates a list from a given set of values\n",
    "* `data.frame()`: this function creates a data frame from a given set of lists or vectors\n",
    "\n",
    "Okay, enough background - lets see this in action!"
   ]
  },
  {
   "cell_type": "markdown",
   "id": "8c331f2f-c06d-4570-8707-c7ccc2a723eb",
   "metadata": {
    "pycharm": {
     "name": "#%% md\n"
    }
   },
   "source": [
    "### Working with Vectors\n",
    "\n",
    "Vectors are important, and we can work with them by creating them from values or other elements, using the `c()` function:"
   ]
  },
  {
   "cell_type": "code",
   "execution_count": null,
   "id": "bf06db07-d6fe-40ba-877f-fa9889aa35f2",
   "metadata": {
    "pycharm": {
     "name": "#%%\n"
    }
   },
   "outputs": [],
   "source": [
    "# generates a vector containing values\n",
    "z <- c(1, 2, 3)\n",
    "\n",
    "# generates a vector containing characters\n",
    "countries <- c(\"Canada\", \"Japan\", \"United Kingdom\")"
   ]
  },
  {
   "cell_type": "markdown",
   "id": "c6ae4ca7-057f-4a8b-8400-138ee72a1b3a",
   "metadata": {
    "pycharm": {
     "name": "#%% md\n"
    }
   },
   "source": [
    "We can also **access** the elements of the vector.  Since a vector is made of basic data, we can get those elements using the `[ ]` index notation.  This is very similar to how in mathematical notation we refer to elements of a vector.\n",
    "\n",
    "> ***Note***: if you're familiar with other programming languages, it's important to note that R is 1-indexed.  So, the first element of a vector is 1, not 0.  Keep this in mind!"
   ]
  },
  {
   "cell_type": "code",
   "execution_count": null,
   "id": "4021818f-1c56-4f66-a97b-d89bfb7ee130",
   "metadata": {
    "pycharm": {
     "name": "#%%\n"
    }
   },
   "outputs": [],
   "source": [
    "# If we want to access specific parts of the vector:\n",
    "\n",
    "# the 2nd component of z\n",
    "z[2]\n",
    "\n",
    "# the 2nd component of countries\n",
    "countries[2]"
   ]
  },
  {
   "cell_type": "markdown",
   "id": "34c01af4-1ad2-4cea-874c-9edc6e4343a9",
   "metadata": {
    "pycharm": {
     "name": "#%% md\n"
    }
   },
   "source": [
    "As mentioned above, we can use the `typeof()` and `str()` functions to glimpse the kind of data stored in our objects. \n",
    "Run the cell below to see how this works:"
   ]
  },
  {
   "cell_type": "code",
   "execution_count": null,
   "id": "9e4b588f-3127-45d3-8aa4-612a9c0fd022",
   "metadata": {
    "pycharm": {
     "name": "#%%\n"
    }
   },
   "outputs": [],
   "source": [
    "# view the data type of countries\n",
    "typeof(countries)\n",
    "\n",
    "# view the data structure of countries\n",
    "str(countries)\n",
    "\n",
    "# view the data type of z\n",
    "typeof(z)\n",
    "\n",
    "# view the data structure of z\n",
    "str(z)"
   ]
  },
  {
   "cell_type": "markdown",
   "id": "d4bb64fc-dc27-46a1-8f12-335e7136f1d7",
   "metadata": {
    "pycharm": {
     "name": "#%% md\n"
    }
   },
   "source": [
    "The output of `str(countries)` begins by acknowledging that the contained data is of a character (chr) type. The information contained in the `[1:3]` first refers to the component number (there is only 1 component list here) and then the number of observations (the 3 countries)."
   ]
  },
  {
   "cell_type": "markdown",
   "id": "6b0ce2f2-e115-4fbb-b8f3-621921bbf93d",
   "metadata": {},
   "source": [
    "#### Check Your Knowledge! Vectors\n",
    "\n",
    "Let's see if you understand how to create new vectors!  In the block below:\n",
    "\n",
    "1. Create an object named `my_vector` which is a vector and which contains the numbers from 10 to 15. \n",
    "2. Extract the 4th element of `vect` and store it in the object `answer1`"
   ]
  },
  {
   "cell_type": "code",
   "execution_count": null,
   "id": "b04aec6c-209f-4e6c-b586-a2770b3c2f2e",
   "metadata": {},
   "outputs": [],
   "source": [
    "my_vector <- c(...) #replace ... with the appropriate code\n",
    "\n",
    "answer1 <- my_vector[...] #replace ... with the appropriate code\n",
    "\n",
    "test_1()"
   ]
  },
  {
   "cell_type": "markdown",
   "id": "81106e5a-4eab-4611-b880-d36b00b04d59",
   "metadata": {
    "pycharm": {
     "name": "#%% md\n"
    }
   },
   "source": [
    "### Working with Matrices\n",
    "\n",
    "Just like vectors, we can also create matrices; you can think of them as organized collections of rows (or columns), which are vectors.  They're a little bit more complicated to create manually, since you need to use a more complex function.\n",
    "\n",
    "The simplest way is just to provide a vector of all the values, then tell R how the matrix is organized; R will then fill in the values:"
   ]
  },
  {
   "cell_type": "code",
   "execution_count": null,
   "id": "b01cba0a-541d-42ae-b027-6837dc0fabea",
   "metadata": {
    "pycharm": {
     "name": "#%%\n"
    }
   },
   "outputs": [],
   "source": [
    "# generates a 2 x 2 matrix\n",
    "m <- matrix(c(2,3,6,7,7,3), nrow=2,ncol=3)\n",
    "\n",
    "print(m)"
   ]
  },
  {
   "cell_type": "markdown",
   "id": "5a3ada6e-d071-4b23-b3e0-42597c8bebf8",
   "metadata": {
    "pycharm": {
     "name": "#%% md\n"
    }
   },
   "source": [
    "Take note of the order in which the values are filled it; it might be unexpected!\n",
    "\n",
    "Just like with vectors, we can also access parts of the matrix.  If you look at the cell output above, you will see some notation like `[1,]` or `[,2]`.  These are the _rows_ and _columns_ of the matrix.  We can refer to them using this notation.  We can also refer to elements using `[1,2]`.  Again, this is very similar to the mathematical notation for matrices."
   ]
  },
  {
   "cell_type": "code",
   "execution_count": null,
   "id": "b0f26c6a-59f8-4234-b47a-fddd7dfd1521",
   "metadata": {
    "pycharm": {
     "name": "#%%\n"
    }
   },
   "outputs": [],
   "source": [
    "# If we want to access specific parts of the matrix:\n",
    "\n",
    "# 2th column of matrix\n",
    "m[,2]     \n",
    "\n",
    "# 1st row of matrix\n",
    "m[1,]  \n",
    "\n",
    "#Element in row 1, column 2\n",
    "\n",
    "m[1,2]\n"
   ]
  },
  {
   "cell_type": "markdown",
   "id": "182bc22a-47d7-4f4a-9ea3-d8f8c2029ee3",
   "metadata": {
    "pycharm": {
     "name": "#%% md\n"
    }
   },
   "source": [
    "As with vectors, we can also observe and inspect the data structures of matrices using the helper function above."
   ]
  },
  {
   "cell_type": "code",
   "execution_count": null,
   "id": "36543f3b-ef67-4d62-9324-2c7b47b2f50e",
   "metadata": {
    "pycharm": {
     "name": "#%%\n"
    }
   },
   "outputs": [],
   "source": [
    "# what type is m?\n",
    "\n",
    "typeof(m)\n",
    "\n",
    "# glimpse data structure of m\n",
    "str(m)"
   ]
  },
  {
   "cell_type": "markdown",
   "id": "7b6d79ec-37d6-4f04-824e-853e5370e36e",
   "metadata": {
    "pycharm": {
     "name": "#%% md\n"
    }
   },
   "source": [
    "The output of `str(m)` begins by displaying that the data in the matrix is of an numeric (num) type. The `[1:2, 1:3]` shows the structre of the rows and columns.  The final part displays the values in the matrix."
   ]
  },
  {
   "cell_type": "markdown",
   "id": "d0203c17-f926-4150-980b-c355e46b3ce5",
   "metadata": {},
   "source": [
    "#### Test Your Knowledge! Matrices\n",
    "\n",
    "In this exercise:\n",
    "\n",
    "1. Create an object names `mat` which is a matrix with 2 rows and 2 columns. The first column will take on values 1,2, while the second column will take values 3,4.\n",
    "2. Extract value in the first row, second column from `mat` and store it in the object `answer2`"
   ]
  },
  {
   "cell_type": "code",
   "execution_count": null,
   "id": "e7f3bfe2-74df-46e1-b379-20eb37b84255",
   "metadata": {},
   "outputs": [],
   "source": [
    "mat <- matrix(..., nrow=...,ncol=...) #fill in the missing code\n",
    "answer2 <- mat[...]  #fill in the missing code\n",
    "\n",
    "test_2()"
   ]
  },
  {
   "cell_type": "markdown",
   "id": "3c2189d6-13c9-4fc3-933d-ebb09f185d63",
   "metadata": {
    "pycharm": {
     "name": "#%% md\n"
    }
   },
   "source": [
    "### Working with Lists\n",
    "\n",
    "Lists are a little bit more complex, because they can store many different data types and objects, each of which can be given _names_ which are specific ways to refer to these objects.  Names can be any useful descriptive term for an element of the list.  You can think of lists like flexible vectors with names."
   ]
  },
  {
   "cell_type": "code",
   "execution_count": null,
   "id": "72215aa8-b042-4452-a89a-4bf01505d157",
   "metadata": {
    "pycharm": {
     "name": "#%%\n"
    }
   },
   "outputs": [],
   "source": [
    "# generates a list with 3 components named \"text\" \"a_vector\" and \"a_matrix\"\n",
    "my_list <- list(text=\"test\", a_vector = z, a_matrix = m) "
   ]
  },
  {
   "cell_type": "markdown",
   "id": "be1d46e8-2c15-4a3a-a1db-bbfd73ad8d15",
   "metadata": {
    "pycharm": {
     "name": "#%% md\n"
    }
   },
   "source": [
    "We can access elements of the list using the `[ ]` or `[[ ]]` operations.  There is a difference:\n",
    "\n",
    "* `[ ]` accesses the _elements of the list_ which is the name and object\n",
    "* `[[ ]]` accesses the _object_ directly\n",
    "\n",
    "We usually want to use `[[ ]]` when working with data stored in lists.  One very nice feature is that you can refer to elements of a list by number (like a vector) or by their name."
   ]
  },
  {
   "cell_type": "code",
   "execution_count": null,
   "id": "75a84e5d-eec4-4788-8f02-3f2d77c2600a",
   "metadata": {
    "pycharm": {
     "name": "#%%\n"
    }
   },
   "outputs": [],
   "source": [
    "# If we want to access specific parts of the list:\n",
    "\n",
    "# 1st component in list\n",
    "my_list[[1]] \n",
    "\n",
    "#1st component in list by name (text)\n",
    "my_list[[\"text\"]]\n",
    "\n",
    "# 1st part of the list (note the brackets)\n",
    "my_list[1] \n",
    "\n",
    "# glimpse data type of my_list\n",
    "typeof(my_list)"
   ]
  },
  {
   "cell_type": "markdown",
   "id": "69ff4bd8-2844-45b4-8a12-f79dacadf6c1",
   "metadata": {
    "pycharm": {
     "name": "#%% md\n"
    }
   },
   "source": [
    "There is one final way to access elements of a list by name: using the `$` or **access** operator.  This works basically like `[[name]]` but is more transparent when writing code.  You put the object you want to access, followed by the operator, followed by the property:"
   ]
  },
  {
   "cell_type": "code",
   "execution_count": null,
   "id": "405eae47-1f51-4493-bba8-ca5b4671134a",
   "metadata": {
    "pycharm": {
     "name": "#%%\n"
    }
   },
   "outputs": [],
   "source": [
    "# get the named property \"text\"\n",
    "my_list$text\n",
    "\n",
    "#get the name property\n",
    "my_list$a_matrix"
   ]
  },
  {
   "cell_type": "markdown",
   "id": "8003fd9e-eccf-4474-9264-f97956c25c72",
   "metadata": {
    "pycharm": {
     "name": "#%% md\n"
    }
   },
   "source": [
    "You will notice that this _only_ works for named object - which is particularly conventient for dataframes, which we will discuss next."
   ]
  },
  {
   "cell_type": "markdown",
   "id": "4c21d3eb-3479-4f80-8fdb-e89d4c665265",
   "metadata": {},
   "source": [
    "#### Test Your Knowledge!  Lists\n",
    "\n",
    "In this exercise, we will need to:\n",
    "\n",
    "1. Create an object named `a_list`, which is a list with two components: an element called `String` which stores the character string \"Hello World\", and an element called `Range` which contains a vector with values 1 through 5.\n",
    "2. Extract the value of the second element, and store it in the object `answer3`"
   ]
  },
  {
   "cell_type": "code",
   "execution_count": null,
   "id": "c50a7a24-646b-4ee6-bf17-7a71d7657686",
   "metadata": {},
   "outputs": [],
   "source": [
    "a_list <- list(... = \"Hello World\", Range = ...) #fill in the missing code\n",
    "\n",
    "answer3 <- a_list... #fill in the missing code\n",
    "\n",
    "test_3()"
   ]
  },
  {
   "cell_type": "markdown",
   "id": "c31fcc36-0b98-4976-9994-85fc794a714d",
   "metadata": {
    "pycharm": {
     "name": "#%% md\n"
    }
   },
   "source": [
    "### Working with Dataframes"
   ]
  },
  {
   "cell_type": "markdown",
   "id": "36827694-10bc-4957-b4c9-a96fea04b11b",
   "metadata": {
    "pycharm": {
     "name": "#%% md\n"
    }
   },
   "source": [
    "Dataframes are the most complex object you will work with in this course, but also the most important.  They represent data - like the kind of data we would use in econometrics.  In this course, we will primarily focus on _tidy_ data, which refers to data in which the columns represent variables, and the rows represent observations.  In terms of R, you can think of data-frames as a combination of a matrix and a list.\n",
    "\n",
    "We can access columns (variables) using their names, or their ordering"
   ]
  },
  {
   "cell_type": "code",
   "execution_count": null,
   "id": "96ad635e-59a8-4148-8580-d7b2250eb5e2",
   "metadata": {
    "pycharm": {
     "name": "#%%\n"
    }
   },
   "outputs": [],
   "source": [
    "# generates a dataframe with 2 columns and 3 rows\n",
    "df <- data.frame(ID=c(1:3),\n",
    "                 Country=countries)\n",
    "\n",
    "# If we want access specific parts of the dataframe:\n",
    "\n",
    "# 2nd column in dataframe\n",
    "df[2] \n",
    "\n",
    "df$Country\n",
    "\n",
    "# glimpse compact data structure of df\n",
    "str(df)"
   ]
  },
  {
   "cell_type": "markdown",
   "id": "7b951953-8e91-4008-a039-9b67d3ecacc4",
   "metadata": {
    "pycharm": {
     "name": "#%% md\n"
    }
   },
   "source": [
    "Notice that the `str(df)` command shows us what the names of the columns are in this dataset, and how we can access them."
   ]
  },
  {
   "cell_type": "markdown",
   "id": "0fcfb2f9-dbfb-443c-b71c-d8ba8c12a65e",
   "metadata": {},
   "source": [
    "#### Test Your Knowledge: Dataframes\n",
    "\n",
    "In this exercise:\n",
    "\n",
    "1. Create an object `my_dataframe` which is a dataframe with two variables and two observations. The first column `var1` will take on values `c(1,2)`. The second column `var2` will take on values `c(\"A\", \"B\")`. \n",
    "2. Extract the column `var1` and store it in the object `answer4`"
   ]
  },
  {
   "cell_type": "code",
   "execution_count": null,
   "id": "831c2082-3f0e-48b1-80d5-8c5a54a3b7bf",
   "metadata": {},
   "outputs": [],
   "source": [
    "my_dataframe <- data.frame(var1=..., ...=c(\"A\",\"B\")) #fill in the missing code\n",
    "answer4 <- ... #fill in the missing code\n",
    "\n",
    "\n",
    "test_4()"
   ]
  },
  {
   "cell_type": "markdown",
   "id": "04cfa560-0f80-491d-8c64-c28839224cf9",
   "metadata": {
    "pycharm": {
     "name": "#%% md\n"
    }
   },
   "source": [
    "## Objects and Variables"
   ]
  },
  {
   "cell_type": "markdown",
   "id": "f4a36873-cc54-480d-bc8d-d5355703a6b6",
   "metadata": {
    "pycharm": {
     "name": "#%% md\n"
    }
   },
   "source": [
    "At this point, you are familiar with some of the different types of data in R and how they work.  However, let's understand how we can work with them in more detail by writing R code.   A **variable** or **object** is a name assigned to a memory location in the R workspace (working memory). For now we can use the terms variable and object interchangeably. An object will always have an associated type, determined by the information assigned to it. Clear and concise object assignment is essential for **reproducible data analysis**, as mentioned in the module Intro to Jupyter.\n",
    "\n",
    "When it comes to code, we can assign information (stored in a specific data type) to variables and objects using the **assignment operator** `<-`. Using the assignment operator, the information on the right-hand side is assigned to the variable/object on the left-hand side; we've seen this before, in some of the examples earlier.\n",
    "\n",
    "In the example [2] below, `\"Hello\"` has been assigned to the object `var_1`. `\"Hello\"` will be stored in the R workspace as an object named `\"var_1\"`.\n",
    "\n",
    "> **Important Note**: R is case sensitive. When referring to an object, it must _exactly_ match the assignment.  `Var_1` is not the same as `var_1` or `var1`"
   ]
  },
  {
   "cell_type": "code",
   "execution_count": null,
   "id": "6d340cab-969a-4fce-9dcc-f7d4f4584ff5",
   "metadata": {
    "pycharm": {
     "name": "#%%\n"
    }
   },
   "outputs": [],
   "source": [
    "var_1 <- \"Hello\"\n",
    "\n",
    "var_1\n",
    "\n",
    "typeof(var_1)"
   ]
  },
  {
   "cell_type": "markdown",
   "id": "61c623a4-1a05-4d86-9a5e-a49acb072b11",
   "metadata": {
    "pycharm": {
     "name": "#%% md\n"
    }
   },
   "source": [
    "You can create variables of many different types, including all of the basic and advanced types we discussed above."
   ]
  },
  {
   "cell_type": "code",
   "execution_count": null,
   "id": "9c343165-3dc2-4330-8fd9-b6576050713a",
   "metadata": {
    "pycharm": {
     "name": "#%%\n"
    }
   },
   "outputs": [],
   "source": [
    "var_2 <- 34.5 #numeric/double\n",
    "var_3 <- 6L #integer\n",
    "var_4 <- TRUE #logical/boolean\n",
    "var_5 <- 1 + 3i #complex\n"
   ]
  },
  {
   "cell_type": "markdown",
   "id": "965394ad-be19-4437-a11d-f6248b98e665",
   "metadata": {
    "pycharm": {
     "name": "#%% md\n"
    }
   },
   "source": [
    "## Operations"
   ]
  },
  {
   "cell_type": "markdown",
   "id": "52ce4df8-d9a7-414b-9212-861f06d3b56a",
   "metadata": {
    "pycharm": {
     "name": "#%% md\n"
    }
   },
   "source": [
    "In R, we can also perform **operations** on objects; the type of an object defines what operations are valid. All of the basic mathematical and logical operations you are familiar with are example of these, but there are many more.  For example:"
   ]
  },
  {
   "cell_type": "code",
   "execution_count": null,
   "id": "57a1132b-0296-4951-9531-3b9aa5c112b7",
   "metadata": {
    "pycharm": {
     "name": "#%%\n"
    }
   },
   "outputs": [],
   "source": [
    "a <- 4 # creates an object named \"a\" assigned to the value: 4\n",
    "b <- 6 # creates an object named \"b\" assigned to the value: 6\n",
    "c <- a + b # creates an object \"c\" assigned to the value (a = 4) + (b = 6)"
   ]
  },
  {
   "cell_type": "markdown",
   "id": "18537f35-b740-4d78-b9ff-80a2e8e2730a",
   "metadata": {
    "pycharm": {
     "name": "#%% md\n"
    }
   },
   "source": [
    "> Try and think about what value c holds!"
   ]
  },
  {
   "cell_type": "markdown",
   "id": "9adb0e1f-e82b-46b0-89e9-066a2fbe822b",
   "metadata": {
    "pycharm": {
     "name": "#%% md\n"
    }
   },
   "source": [
    "We can view the assigned value of `c` in two different ways:\n",
    "1. By printing `a + b`\\\n",
    "OR\n",
    "1. By printing `c`\n",
    "\n",
    "Run the code cell below to see for yourself!"
   ]
  },
  {
   "cell_type": "code",
   "execution_count": null,
   "id": "633e7f55-daea-4e56-9edf-42dd02a7334a",
   "metadata": {
    "pycharm": {
     "name": "#%%\n"
    }
   },
   "outputs": [],
   "source": [
    "a + b\n",
    "c"
   ]
  },
  {
   "cell_type": "markdown",
   "id": "63e8788c-197e-4c5b-a797-4d2300b348ad",
   "metadata": {
    "pycharm": {
     "name": "#%% md\n"
    }
   },
   "source": [
    "It is also possible to change the value of our objects. In the example below, the object `b` has been reassigned the value 5."
   ]
  },
  {
   "cell_type": "code",
   "execution_count": null,
   "id": "acf480e2-19d7-4ee7-8caf-9d616ecd78be",
   "metadata": {
    "pycharm": {
     "name": "#%%\n"
    }
   },
   "outputs": [],
   "source": [
    "b <- 5 "
   ]
  },
  {
   "cell_type": "markdown",
   "id": "07418353-b274-44c2-8a1b-0d288486557d",
   "metadata": {
    "pycharm": {
     "name": "#%% md\n"
    }
   },
   "source": [
    "R will now store the updated value of 5 in the object `b`. This overrides the original assignment of 6 to `b`. The ability to change object names is a key benefit using variables in R. We can simply reassign the value to a variable without having to change that value everywhere in our code. This will be quite useful when we want to do things such as change the name of a column in a dataset.\n",
    "\n",
    "> ***Tip:***  Remember to use a unique object name that hasn't been used before in order to avoid unplanned object reassignments when creating a new object.  Descriptive names are better!"
   ]
  },
  {
   "cell_type": "markdown",
   "id": "d4eb0678-cb5b-42fd-a0e2-c65bca34c59c",
   "metadata": {},
   "source": [
    "#### Test Your Knowledge!  Basic Operations\n",
    "\n",
    "In this exercise:\n",
    "\n",
    "1. create an object `u` which is equal to 1\n",
    "2. create an object `y` which is equal to 7\n",
    "3. create an object `w` which is equal to 10.\n",
    "4. create an object `answer6` which is equal to the sum of `u` and `y`, divided by `w`"
   ]
  },
  {
   "cell_type": "code",
   "execution_count": null,
   "id": "17935849-2c6a-45e4-9e76-240c23b10a72",
   "metadata": {},
   "outputs": [],
   "source": [
    "... <- 1 #fill in the missing code\n",
    "y <- ...\n",
    "... <- ..\n",
    "\n",
    "answer6 <- ...\n",
    "\n",
    "\n",
    "test_6()"
   ]
  },
  {
   "cell_type": "markdown",
   "id": "30fb7aec-a46c-4165-b50a-8e4ff00969b5",
   "metadata": {
    "pycharm": {
     "name": "#%% md\n"
    }
   },
   "source": [
    "## Comments"
   ]
  },
  {
   "cell_type": "markdown",
   "id": "1186f5a1-f375-488b-8296-48e85cb11743",
   "metadata": {
    "pycharm": {
     "name": "#%% md\n"
    }
   },
   "source": [
    "While developing our code, we do not always have to use markdown cells to document our process. We can also write notes in code cells using something called a **comment**. A comment simply allows us to write lines in our cell which will not run when we run the cell itself. By simply typing the `#` sign, anything written directly after this sign and on the same line will not run; it is a comment. To comment out multiple lines of code, simply include the `#` sign at the start of each line. \n",
    "\n",
    "> In general, the purpose of comments is to make the source code easier for readers to understand. \n",
    "\n",
    "\n",
    "It is important to comment on your code for three main reasons:\n",
    "\n",
    "1. **Keep track** of your actions and thought process: Commenting is a great way to help you stay organized. Code comments provide an ordered process for everyone to follow. In case we need to debug our codes, we can easily track which step is problematic and come back to that particular line of code.\n",
    "\n",
    "2. **Help readers understand** why you're coding this way: While coding something like `a + b` may be a more or less straightforward computation, When writing code, certain methods are pretty obvious. For example, the previous example  is obvious, even to someone who have no programming experience. However, you are going to develop your own project eventually. In your project, although the functionality of the method `a + b` is obvious, it may be unclear what this operation's purpose is in your project. Your readers or other developers may ask: why did you use addition instead of multiplication or division? With comments, you can explain why this particular method was used for this particular code block and how it relates to other code blocks. \n",
    "\n",
    "3. It **saves everyone's time** in the future, including yourself: It's far easier than you might expect to forget what a pierce of code does, or is support to do.  Keeping good comments ensures that your code remains comprehensible\n",
    "\n",
    "> ***Tip***: an old woodworker's tip is when you take things apart you should label them so that a stranger could put them back together.  The same advice applies to comments and coding: write code so that a stranger could figure out what it is supposed to do.\n",
    "\n",
    "Generally, it is always a good idea to add comments to your code. However, if you find yourself needing to explain a block of code in great detail in terms of its purpose in the project, it is preferable to use a markdown cell instead. Comments are best served for the reasons above."
   ]
  },
  {
   "cell_type": "markdown",
   "id": "5163705a-7a26-4b30-b607-3dac326b82dc",
   "metadata": {
    "pycharm": {
     "name": "#%% md\n"
    }
   },
   "source": [
    "## More on Operators"
   ]
  },
  {
   "cell_type": "markdown",
   "id": "2fade3b6-150c-472c-86bf-4d5e0f430b0d",
   "metadata": {
    "pycharm": {
     "name": "#%% md\n"
    }
   },
   "source": [
    "Earlier, we used discussed operations and used the example of `+` to run the addition of a and b. `+` is a type of R arithmetic **operator** which means a symbol that tells R to perform a specific operation. We can use different R operators with variables. R has 4 types of operators:\n",
    "\n",
    "1. **Arithmetic operators**: used to carry out mathematical operations. Ex. `*` for multiplication, `/` for division, `^` for exponent etc.\n",
    "1. **Assignment operators**: used to assign values to variables. Ex. `<-` \n",
    "1. **Relational operators**: used to compare between values. Ex. `>` for greater than, `==` for equal to, `!=` for not equal to etc.\n",
    "1. **Logical operators**: used to carry out Boolean operations. Ex. `!` for Logical NOT, `&` for Logical AND etc.\n",
    "\n",
    "We won't cover all of these right now, but you can look them up online; for now, keep an eye out for them when they occur."
   ]
  },
  {
   "cell_type": "markdown",
   "id": "47e322fe-e0e0-4f10-8cdd-9cbf6136111d",
   "metadata": {
    "pycharm": {
     "name": "#%% md\n"
    }
   },
   "source": [
    "## Functions"
   ]
  },
  {
   "cell_type": "markdown",
   "id": "73875582-3ad0-4da3-bc5d-c8555777ffaf",
   "metadata": {
    "pycharm": {
     "name": "#%% md\n"
    }
   },
   "source": [
    "These simple operations are great to start with, but what if we want to do operations on different values of X and Y over and over and don’t want to constantly rewrite this code? This is where **functions** come in. Functions allow us to carry out specific tasks. We simply pass in a parameter or parameters to the function. Code is then executed in the function body based on these parameters, and output may be returned."
   ]
  },
  {
   "cell_type": "code",
   "execution_count": null,
   "id": "bcf490a6-58ab-46d4-8287-659681ec3df8",
   "metadata": {
    "pycharm": {
     "name": "#%%\n"
    }
   },
   "outputs": [],
   "source": [
    "# Functionname <- function(arguments)\n",
    "#  {code operating on the arguments\n",
    "#   }"
   ]
  },
  {
   "cell_type": "markdown",
   "id": "e17e4ea1-7e79-4517-a178-bcac370d9c7f",
   "metadata": {
    "pycharm": {
     "name": "#%% md\n"
    }
   },
   "source": [
    "This structure says that we start with a name for our function (`Functionname`, here) and we use the assignment operator similarly to when we assign values to variables. We then pass **arguments or parameters** to our function (which can be numeric, characters, vectors, collections such as lists, etc.); think of them as the _inputs_ to the function. \n",
    "\n",
    "Finally, within the curly brackets we write our code needed to accomplish our desired task. Once we have done this, we can call this function anywhere in our code (after having run the cell defining the function!) and evaluate it based on specific parameter values. \n",
    "\n",
    "An example is shown below; can you figure out what this function does?"
   ]
  },
  {
   "cell_type": "code",
   "execution_count": null,
   "id": "8fc6c3a6-dacc-4d46-9f4e-886a4a6d2ee0",
   "metadata": {
    "pycharm": {
     "name": "#%%\n"
    }
   },
   "outputs": [],
   "source": [
    "my_function <- function(x, y)\n",
    " {x = x + y\n",
    " 2 * x\n",
    "}"
   ]
  },
  {
   "cell_type": "markdown",
   "id": "6247f2ce-5609-459c-b316-220666401889",
   "metadata": {
    "pycharm": {
     "name": "#%% md\n"
    }
   },
   "source": [
    "The parameters input to functions can be given **defaults**. Defaults are specific values for parameters that have been chosen and defined within the circular brackets of the function definition. For example, we can define `y = 3` as a default in our `my_function`. When we call our function, we then do not have to specify an input for `y` unless we want to."
   ]
  },
  {
   "cell_type": "code",
   "execution_count": null,
   "id": "4e24983d-6394-4ca7-8530-49baec3e3bc9",
   "metadata": {
    "pycharm": {
     "name": "#%%\n"
    }
   },
   "outputs": [],
   "source": [
    "my_function <- function(x, y = 3)\n",
    " {x = x + y\n",
    " 2 * x}\n",
    "\n",
    "my_function(2)"
   ]
  },
  {
   "cell_type": "markdown",
   "id": "55664c3b-5dbc-4592-8f64-80de77a811e4",
   "metadata": {
    "pycharm": {
     "name": "#%% md\n"
    }
   },
   "source": [
    "However, if we want to override this default, we can simply call the function with a new input for `y`. This is done below for `y=4`, allowing us to execute our code as though our default was actually `y=4`."
   ]
  },
  {
   "cell_type": "code",
   "execution_count": null,
   "id": "61163789-ca48-4601-a582-dced5df92b0d",
   "metadata": {
    "pycharm": {
     "name": "#%%\n"
    }
   },
   "outputs": [],
   "source": [
    "my_function <- function(x, y = 4)\n",
    " {x = x + y\n",
    "  2 * x}\n",
    "\n",
    "my_function(2, 4)"
   ]
  },
  {
   "cell_type": "markdown",
   "id": "fd0618ea-70f4-4eaf-abdd-0c8dc4187e1f",
   "metadata": {
    "pycharm": {
     "name": "#%% md\n"
    }
   },
   "source": [
    "Finally, note that we can **nest** functions within functions, meaning we can call functions inside of other functions - creating very complex arrangements. Just be sure that these inner functions have themselves already been defined. "
   ]
  },
  {
   "cell_type": "code",
   "execution_count": null,
   "id": "c69eeb40-1ced-47d9-baab-9234ea8a072c",
   "metadata": {
    "pycharm": {
     "name": "#%%\n"
    }
   },
   "outputs": [],
   "source": [
    "my_function_1 <- function(x, y)\n",
    " {x = x + y + 2\n",
    "  2 * x}\n",
    "\n",
    "my_function_2 <- function(x, y)\n",
    " {x = x + y - my_function_1(x, y)\n",
    "  2 * x}\n",
    "\n",
    "my_function_2(2, 3)"
   ]
  },
  {
   "cell_type": "markdown",
   "id": "7f2927ff-4ef2-4e50-9cd4-c468e60b6ec6",
   "metadata": {
    "pycharm": {
     "name": "#%% md\n"
    }
   },
   "source": [
    "Luckily, we usually don't have to define our own functions, since most useful built-in functions we need already come with R. They do not require creation; it already exists for us, although it may require the importing of specific packages. We can always use the help `?` feature in R to learn more about a built-in function if we're unsure. For example, `?max` gives us more information about the `max()` function.\n",
    "\n",
    "For more information about how you should read and use different functions, please refer to the [Function Cheat Sheet](https://cran.r-project.org/doc/contrib/Short-refcard.pdf). "
   ]
  },
  {
   "cell_type": "markdown",
   "id": "72030f3a-0e98-4110-a527-f2c7b963993e",
   "metadata": {},
   "source": [
    "#### Test Your Knowledge! Functions\n",
    "\n",
    "In this exercise:\n",
    "\n",
    "1. Create a function `divide` which takes in two arguments, `x` and `y`. The function should return `x` divided by `y`. \n",
    "2. Store the solution to `divide(5,3)` in the object `answer7`:"
   ]
  },
  {
   "cell_type": "code",
   "execution_count": null,
   "id": "477da82c-022e-425d-87c3-02b47a833c43",
   "metadata": {},
   "outputs": [],
   "source": [
    "divide <- function(x,y) {\n",
    "    ...\n",
    "    }\n",
    "\n",
    "# Your code goes here\n",
    "\n",
    "answer7 <- ...(5,3)\n",
    "\n",
    "\n",
    "test_7()"
   ]
  },
  {
   "cell_type": "markdown",
   "id": "ceeea93a-6c0c-41e1-99d4-dcb5c5af9068",
   "metadata": {
    "pycharm": {
     "name": "#%% md\n"
    }
   },
   "source": [
    "## Oops!  Dealing with Errors \n",
    "Sometimes in our analysis we can run into errors in our code; it happens to everyone, and is not a reason to panic. Understanding the nature of the error we are confronted with can be a helpful first step to finding a solution. There are two common types of errors:\n",
    "\n",
    "* **Syntax errors**: This is the most common error type. They result from invalid code statements/structures that R doesn’t understand. Suppose R speaks English, asking it to help by speaking German or broken English certainly would not work! Here are some examples of common syntax errors: the associated package is not loaded, misspelling of a command as R is chase-sensitive, unmatched parenthesis etc. How we handle syntax errors is case-by-case: we can usually solve syntax errors by reading the error message and googling it.\n",
    "\n",
    "* **Semantic errors**: They result from valid code that successfully executes but produces unintended outcomes. Again, let us suppose R speaks English. Although you asked it to hand you an apple in English and R successfully understood, but then handed you a banana! This is not okay! How we handle semantic errors is also case-by-case: we can usually solve semantic errors by reading the error message and googling it."
   ]
  },
  {
   "cell_type": "markdown",
   "id": "63fac0a6-34a1-4de7-971b-00b574fff10c",
   "metadata": {
    "pycharm": {
     "name": "#%% md\n"
    }
   },
   "source": [
    "Now that we have all of these terms and tools at our disposal, we can begin to load in data and operate on it using what we’ve learned."
   ]
  },
  {
   "cell_type": "markdown",
   "id": "588e8f97-e796-4ba7-94f9-f8911e940919",
   "metadata": {},
   "source": [
    "## Wrapping Up\n",
    "\n",
    "In this notebook, we have learned the different ways data can be stored and structured in our R memory. We have also learned how to manipulate, extract and operate on data from different structures. Additionally, we have learned how to write a function to perform operations more efficiently."
   ]
  },
  {
   "cell_type": "code",
   "execution_count": null,
   "id": "a65f803b-539c-4cdb-82d8-6310d522fea7",
   "metadata": {},
   "outputs": [],
   "source": []
  }
 ],
 "metadata": {
  "kernelspec": {
   "display_name": "R",
   "language": "R",
   "name": "ir"
  },
  "language_info": {
   "codemirror_mode": "r",
   "file_extension": ".r",
   "mimetype": "text/x-r-source",
   "name": "R",
   "pygments_lexer": "r",
   "version": "4.1.3"
  }
 },
 "nbformat": 4,
 "nbformat_minor": 5
}
