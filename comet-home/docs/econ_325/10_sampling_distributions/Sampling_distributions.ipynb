{
 "cells": [
  {
   "cell_type": "markdown",
   "id": "4bbab493-cb52-4a2d-8a46-df4e66e63657",
   "metadata": {},
   "source": [
    "# ECON 325: Sampling Distributions\n",
    "* **Authors**: COMET Team (Colin Grimes, Valeria Zolla, Rathin Dharani, Jonathan Graves)\n",
    "* **Last Update**: 15 August 2022\n",
    "---\n",
    "## Outline\n",
    "\n",
    "## Prerequisites\n",
    "* Introduction to Jupyter\n",
    "* Introduction to R\n",
    "* Introduction to Visualization\n",
    "* Introduction to Central Tendency\n",
    "* Introduction to Distribution\n",
    "* Dispersion and Dependence\n",
    "\n",
    "## Learning Objectives\n",
    "\n",
    "* Define a simple random sample and why it is useful in econometrics\n",
    "* Use a simple random sample to infer population parameters\n",
    "* Produce a sampling distribution through repeated random sampling\n",
    "* Understand how sampling distributions relate to the Law of Large Numbers and the Central Limit Theorem"
   ]
  },
  {
   "cell_type": "markdown",
   "id": "af4628e7-a531-4709-a02f-292e5229b96e",
   "metadata": {},
   "source": [
    "## Introduction to Statistical Inference\n",
    "\n",
    "It's important to begin with the fundamental problem of statistical inference. Let's start with a **population**, which is commonly defined as the complete collection of all individuals or entities we are studying. From here, we want to determine a particular characteristic of the population, the **population parameter**. For example, if we want to determine the average height of a Canadian resident, our population would be every Canadian resident and our population parameter would be average height. Imagine how easy life would be for economists if we had access to any population parameter we desired. If we had perfect data from our population, we would be able to determine the average returns to education, the impact of stimulus checks for every resident, and so much more with absolute certainty all by surveying every member of the population. \n",
    "\n",
    "Unfortunately collecting data from the entire population is often too expensive and impractical. A more realistic way to find what we're looking is to survey a **sample**, a subset of individuals or entities from the population. Through this sample, we can gather a **sample estimate**, an estimate of the population parameter from our sample. From our example, it would be much more practical to survey a 1000 people in Canada and calculate their average height. Evidently, this won't exactly the match the true average height of a Canadian resident, because we haven't based our calculation off every Canadian resident, but it's probably a good estimate. But how do we know we picked a representative sample of the Canadian population?\n"
   ]
  },
  {
   "cell_type": "markdown",
   "id": "47a51c13-95e4-4c9d-bbfc-ba53143f6f18",
   "metadata": {
    "tags": []
   },
   "source": [
    "## Simple Random Samples\n",
    "\n",
    "A **simple random sample** is a subset of a population, in which each member of the population has an equal chance of being selected for the sample. It's important that this condition is met when selecting a sample. Imagine if we try to determine the average height of the Canadian population by only sampling professional athletes. We wouldn't get a very good estimate of our population parameter. Simple random samples allow us to create sample parameters, which are **unbiased estimators** of the population parameter. \n",
    "\n",
    "There are two statistical approaches:\n",
    "\n",
    "1. We could conduct a census. To do this, we would need to measure the height of all 38 million people living in Canada. This technique produces little error, but comes at a very high cost.  Moreover, we may not actually be able to collect all of this data - what if we miss someone?\n",
    "\n",
    "2. We could take a **simple random sample** of the Canadian population, in which all 38 million Canadians have an equal probability of being chosen. This would allow us to make **statistical inferences** on the population mean, without the cost of conducting a census. \n",
    "\n",
    "> **Note**: It's important to keep in mind that there are other types of sampling in economics.  Simple random sampling is just a good starting point for our discussion! In econometrics, it is crucial that we try to get as close as possible to an unbiased estimator through a random sample. Imagine if we are trying to determine the gender pay gap in British Columbia and we only take a sample from those living in downtown Vancouver or we only took a sample from those working in blue collar jobs. That wouldn't give us very accurate results. You will learn more about this in ECON 326."
   ]
  },
  {
   "cell_type": "markdown",
   "id": "5a7e2a2b-c435-44f6-821a-ad86da234c0a",
   "metadata": {},
   "source": [
    "## Simulating Data\n",
    "\n",
    "It will be helpful in this notebook to work with **simulated data**. We can simulate data by drawing from some well known distributions such as normal and uniform. Before we begin simulating data to work with, we need to be familar the concept of a **random number seed**. Setting a random number seed allows us to reproduce results drawn from a distribution of a random variable.\n",
    "\n",
    "In R and all programming languages, random numbers are not truly random, they are known as **pseudo-random numbers**. R uses a random number generator that produces a sequence of numbers that are completely determined by a seed value - they are effectively random, but also reproducible. Once you set the seed value using the `set.seed` function, everything after that point may look random, but is actually totally reproducible. For example, if you were to pick a random sample out of a 100,000 data points, every time we ran the code we would get a different random sample. You would never be able to check the work of your classmates or ever attain the same results again. By using the same seed before conducting our analyses, we are able to reproduce the results we attained earlier.  \n",
    "\n",
    "See [this reference](https://datasciencebook.ca/classification2.html#randomseeds) for more information on how the `set.seed()` function achieves reproducible randomness in R."
   ]
  },
  {
   "cell_type": "code",
   "execution_count": null,
   "id": "c07c34bd-d754-4397-8a03-4f0b9c5a35d6",
   "metadata": {},
   "outputs": [],
   "source": [
    "source(\"sampling_tests.r\") # load some background tests\n",
    "library(tidyverse)\n",
    "library(dplyr)\n",
    "library(infer)\n",
    "#install.packages(\"gridExtra\") #uncomment these to run the section\n",
    "#library(gridExtra)"
   ]
  },
  {
   "cell_type": "code",
   "execution_count": null,
   "id": "a8561e12-1a5a-4e21-8c7e-75b040ec1131",
   "metadata": {},
   "outputs": [],
   "source": [
    "seed_number <- 1 # my seed number\n",
    "\n",
    "set.seed(seed_number) # set the random number seed to reproduce results"
   ]
  },
  {
   "cell_type": "markdown",
   "id": "879310b2-f7a9-4ad3-8126-bf069e8f959d",
   "metadata": {},
   "source": [
    "In the following, you can try changing the seed number and seeing how some of the results are different.  Remember that the default seed we used was `seed_number <- 1`."
   ]
  },
  {
   "cell_type": "markdown",
   "id": "3d40915c-9e3e-48fa-aaea-5bd6e138718a",
   "metadata": {},
   "source": [
    "## Example 1: Simulating a Distribution\n",
    "Let's now imagine that we want to create a hypothetical population with a variable called `x` of size 10,000, distributed normally with mean 0 and standard deviation 1. Just to give an example, we can imagine `x` to represent \"household indebtedness.\" In our example, this variable is normally distributed, meaning that most households have close to no debt, but few households have an extreme amount of debt and few others have large investments with consistent cash flow (negative debt). Below, we will create an data frame `population`, using the `rnorm` function. "
   ]
  },
  {
   "cell_type": "code",
   "execution_count": null,
   "id": "68508eb7-8ac3-41d4-85e5-99b75bd15d86",
   "metadata": {
    "vscode": {
     "languageId": "r"
    }
   },
   "outputs": [],
   "source": [
    "x <- rnorm(10000, 0, 1)  # Draw 10,000 observations from the random normal distribution with mean 0, and variance 1.\n",
    "\n",
    "population <- data.frame(x) #store it in a data frame"
   ]
  },
  {
   "cell_type": "markdown",
   "id": "887b2d6c-9b96-4077-8033-725958d325b7",
   "metadata": {},
   "source": [
    "Let's ensure that our function has worked as expected. We should have a population mean of 0, and standard deviation of 1. Additionally, we will visualize our distribution using a histogram, otherwise known as a **population distribution**. In this example, our population distribution should be normally distributed, centered around 0. We will visually depict the mean as a blue line on the histogram. "
   ]
  },
  {
   "cell_type": "code",
   "execution_count": null,
   "id": "da572bb6-bfe4-4b86-b4e0-5af323ff4fef",
   "metadata": {
    "vscode": {
     "languageId": "r"
    }
   },
   "outputs": [],
   "source": [
    "table <- population %>% \n",
    "        summarize(mean = mean(x), sd = sd(x)) %>%\n",
    "        round(digits = 2) #two decimal places\n",
    "\n",
    "table "
   ]
  },
  {
   "cell_type": "code",
   "execution_count": null,
   "id": "92708f76-9cf2-49c3-ac8d-3a930419017e",
   "metadata": {},
   "outputs": [],
   "source": [
    "pop_dist <- population %>%\n",
    "            ggplot(aes(x = x)) +  \n",
    "            geom_histogram(bins = 50, color = \"black\", fill = \"gray\") +  \n",
    "            geom_vline(xintercept = mean(population$x), colour=\"blue\", linetype = \"solid\", lwd = 1)\n",
    "pop_dist"
   ]
  },
  {
   "cell_type": "markdown",
   "id": "6c24eba3-4e93-4f51-80c9-e7a0d9b459fe",
   "metadata": {},
   "source": [
    "Now suppose we would like to estimate the population mean above, however, we do not have the time nor money to conduct a census of the population. Additionally, we **are** able to randomly sample everyone in the population with equal probability.\n",
    "\n",
    "To take a simple random sample in R, we can use the `slice_sample` function. Let's start with a very small sample of size 5, and see how it compares to our population mean.  We will select the observations from the data set by their number."
   ]
  },
  {
   "cell_type": "code",
   "execution_count": null,
   "id": "8fbe4239-2318-490a-b5bd-81aa0a745a04",
   "metadata": {
    "vscode": {
     "languageId": "r"
    }
   },
   "outputs": [],
   "source": [
    "sample_data <- population %>% \n",
    "               slice_sample(n = 5) # 5 observations in our sample\n",
    "               \n",
    "s_table <- sample_data %>% \n",
    "        summarize(mean = mean(x), sd = sd(x)) %>%\n",
    "        round(digits = 2) # two decimal places \n",
    "\n",
    "s_table "
   ]
  },
  {
   "cell_type": "markdown",
   "id": "9bb6aa35-6597-48d9-b43e-e2894fff6cfa",
   "metadata": {},
   "source": [
    "Notice the sample average is very different from our true population average. Because we have taken such a small sample, we have introduced bias into the estimation of our population parameter - this error is commonly referred to as **small sample bias**. To produce a more unbiased estimate of the population mean, we must take a larger sample.\n",
    "\n",
    "We will now take another simple random sample with a larger sample of size 30."
   ]
  },
  {
   "cell_type": "code",
   "execution_count": null,
   "id": "1a5ac821-17c0-43e3-b9b6-5172c6b86734",
   "metadata": {
    "vscode": {
     "languageId": "r"
    }
   },
   "outputs": [],
   "source": [
    "sample_data <- population %>% \n",
    "               slice_sample(n = 30,  # 30 observations in our sample\n",
    "               replace = TRUE) # with replacement\n",
    "\n",
    "s_table <- sample_data %>% \n",
    "        summarize(mean = mean(x), sd = sd(x)) %>%\n",
    "        round(digits = 2) # two decimal places\n",
    "\n",
    "s_table"
   ]
  },
  {
   "cell_type": "markdown",
   "id": "30f2dc7f-c9ec-44e8-b1f3-18e3e51125d3",
   "metadata": {},
   "source": [
    "Just by increasing our sample from n = 5, to n = 30, our estimate has gotten much closer to the population mean. We will soon see with even greater confidence that having a larger sample size gets us closer and closer to the true mean of the population. "
   ]
  },
  {
   "cell_type": "markdown",
   "id": "70b1ae1b-5dd9-4fd6-8e5e-3f37b1cb84a7",
   "metadata": {},
   "source": [
    "In this exercise, we have accomplished the following:\n",
    "\n",
    "1. Simulated a standard normally distributed population of size 10,000.\n",
    "2. Estimated the population mean, using the sample mean as an unbiased estimator.\n",
    "\n",
    "Next we will create a distribution of sample means through repeated random samples from our population."
   ]
  },
  {
   "cell_type": "markdown",
   "id": "ae2aa6fa-fede-47b8-a846-46b7cf04bb52",
   "metadata": {
    "tags": []
   },
   "source": [
    "### Exercise 1: Simple random samples\n",
    "\n",
    "In this exercise:\n",
    "\n",
    "1. Create an object `a` which is a draw from the unifom distribution, with 5,000 observations between 10 and 20, using the random seed 20.\n",
    "2. Take a simple random sample of size 30 from our population, and calculate the sample mean and store it in an object `answer_1`"
   ]
  },
  {
   "cell_type": "code",
   "execution_count": null,
   "id": "a74c24c1-e879-42e7-ac69-859b0e08574e",
   "metadata": {
    "vscode": {
     "languageId": "r"
    }
   },
   "outputs": [],
   "source": [
    "set.seed(...)\n",
    "\n",
    "a <- runif(... , ... , ...) # variable you are creating\n",
    "eg_data_frame <- data.frame(a)\n",
    "\n",
    "answer_1 <- eg_data_frame %>%\n",
    "            slice_sample(n = ...) %>%\n",
    "            summarize(mean = mean(...)) %>%\n",
    "            pull() %>%\n",
    "            round(3)\n",
    "\n",
    "answer_1 \n",
    "\n",
    "test_1()"
   ]
  },
  {
   "cell_type": "markdown",
   "id": "3e523836-2065-4b62-a68e-8933b8bfe7ae",
   "metadata": {},
   "source": [
    "## Repeated Random Samples and Sampling Distributions\n",
    "\n",
    "Remember that when we survey a sample, we are only observing a subset of the population and determining a sample estimate based off that sample. If we surveyed a different 1000 Canadian residents every time, we would certainly get a different estimate for the average height of a Canadian resident. Let's assume for now that we can draw many samples of size $n$ from our normal distribution population. Every time we draw a new sample, we will get a different estimate of the mean. Now, if we were to plot each of those estimates onto a histogram, we would get a **sampling distribution**. A sampling distribution of a statistic is a probability distribution based on repeated independent samples of size $n$ from a population of size $N$. Using the example introduced above, we can produce a distribution of sample means, based on repeated and independent simple random samples from our population. If we take enough samples, we will find that the mean of the sampling distribution will be nearly equal the mean of our population distribution (our population parameter). Amazing, isn't it? With an infinite number of random samples, the mean of the sampling distribution will be exactly equal to the population parameter. \n",
    "\n",
    "We are more interested in the effect of increasing sample size. We will find that with larger and larger samples sizes, the standard error of the sampling distribution decreases. In other words, in a given sample of a larger sized $n$, the probability of having a sample estimate far away from the true population parameter decreases. This is a very important concept in statistical inference and econometrics.   \n",
    "\n",
    "### Scenario 1: Population is normally distributed\n",
    "\n",
    "We will need to take $R$ independent simple random samples of size $n$ from our `population` of size $N$, to produce our sampling distribution ($R$ observations). To do this in R, we will need to take a simple random sample of size $n$, compute the sample mean, and store it in a vector. We will then repeat this $R$ times, appending each sample mean into our vector. Our vector, in this case, will represent the observations of our sampling distribution!\n",
    "\n",
    "We can define the **standard error** as the standard deviation of the sampling distribution. The standard error will inform us on how much our sample mean will vary from sample to sample. For this exercise, we will keep the number of samples constant and progressively increase our sample size to see how it affects the standard error of the sampling distribution. \n",
    "\n",
    "We will use the `rep_sample_n` function from the `infer` package in R. This function allows us to repeatedly take samples from a population. The `size` parameter indicates the sample size and the `reps` parameter indicates the number of samples we wish to draw from our population. The solid blue line represents the true mean of the normal distribution population (0) and the dashed red line shows us the mean of the sampling distribution. Given that we are taking many samples, these two values should be very similar."
   ]
  },
  {
   "cell_type": "markdown",
   "id": "feb11385-f8e3-490d-89f7-0e40e398c172",
   "metadata": {
    "tags": []
   },
   "source": [
    "#### 1. Suppose we take 1000 simple random samples ($R = 1000$), with a sample size of 5 ($n = 5$):"
   ]
  },
  {
   "cell_type": "code",
   "execution_count": null,
   "id": "151d8a16-dab9-4589-9811-a37771bc730a",
   "metadata": {},
   "outputs": [],
   "source": [
    "# CREATES A DATA FRAME WITH ALL 1000 RANDOM SAMPLES, AND CALCULATES MEAN AND STANDARD DEVIATION OF EACH SAMPLE \n",
    "reps_5_1000 <- population %>%\n",
    "        rep_sample_n(size = 5, reps = 1000) %>%  # creates 5 samples of size 5\n",
    "        group_by(replicate) %>%                  # groups each of the samples \n",
    "        summarize(mean = mean(x), sd = sd(x))    # calculates the mean of each sample\n",
    "\n",
    "#CALCULATES THE MEAN AND STANDARD ERROR OF THE SAMPLING DISTRIBUTION\n",
    "sample_5_mean_se <- reps_5_1000 %>%\n",
    "        summarize(sd_mean = mean(mean), se = sd(mean))\n",
    "\n",
    "sample_5_mean_se\n",
    "\n",
    "#VISUAL DEPICTION OF SAMPLING DISTRIBUTION\n",
    "sampling_dist_5_1000 <- reps_5_1000 %>%\n",
    "                     ggplot(aes(x = mean)) +\n",
    "                     geom_histogram(bins = 50, color = \"black\", fill = \"gray\") + \n",
    "                     geom_vline(xintercept = 0, colour=\"blue\", linetype = \"solid\", lwd = 1) + \n",
    "                     geom_vline(xintercept = mean(reps_5_1000$mean), colour=\"red\", linetype = \"dashed\", lwd = 1)                  \n",
    "\n",
    "sampling_dist_5_1000"
   ]
  },
  {
   "cell_type": "markdown",
   "id": "a4cf1e75-3608-430c-a93e-9263ee19d9b1",
   "metadata": {},
   "source": [
    "#### 2. Suppose we take 1,000 simple random samples ($R = 1000$), with a sample size of 50 ($n = 50$):"
   ]
  },
  {
   "cell_type": "code",
   "execution_count": null,
   "id": "80a89ed6-d168-4299-befc-22c3b7a3d322",
   "metadata": {},
   "outputs": [],
   "source": [
    "# CREATES A DATA FRAME WITH ALL 1000 RANDOM SAMPLES, AND CALCULATES MEAN AND STANDARD DEVIATION OF EACH SAMPLE \n",
    "reps_50_1000 <- population %>%\n",
    "        rep_sample_n(size = 50, reps = 1000) %>%  # creates 1000 samples of size 5\n",
    "        group_by(replicate) %>%                   # groups each of the samples \n",
    "        summarize(mean = mean(x), sd = sd(x))     # calculates the mean of each sample\n",
    "\n",
    "# CALCULATES THE MEAN AND STANDARD ERROR OF THE SAMPLING DISTRIBUTION\n",
    "sample_50_mean_se <- reps_50_1000 %>%\n",
    "        summarize(sd_mean = mean(mean), se = sd(mean))\n",
    "\n",
    "sample_50_mean_se\n",
    "\n",
    "# VISUAL DEPICTION OF SAMPLING DISTRIBUTION\n",
    "sampling_dist_50_1000 <- reps_50_1000 %>%\n",
    "                     ggplot(aes(x = mean)) +\n",
    "                     geom_histogram(bins = 50, color = \"black\", fill = \"gray\") + \n",
    "                     geom_vline(xintercept = 0, colour=\"blue\", linetype = \"solid\", lwd = 1) + \n",
    "                     geom_vline(xintercept = mean(reps_50_1000$mean), colour=\"red\", linetype = \"dashed\", lwd = 1)                  \n",
    "\n",
    "sampling_dist_50_1000"
   ]
  },
  {
   "cell_type": "markdown",
   "id": "a69280e6-9f41-4312-b26d-c0b6bd52bbb2",
   "metadata": {},
   "source": [
    "> **Pro tip:** See how the scale of the x axis for $n = 50$ has adjusted from $n = 5$ in response to the reduction in error? "
   ]
  },
  {
   "cell_type": "markdown",
   "id": "c47f4bd8-0da3-4f07-9b22-5744449a00b4",
   "metadata": {},
   "source": [
    "Now that we have increased the number of repeated and independent simple random samples from 5 to 1000, notice that the mean of our sampling distribution is much closer to our population mean. Let's further increase our sample size to see how we can reduce the standard error of our estimate."
   ]
  },
  {
   "cell_type": "markdown",
   "id": "437a8b0d-ae49-4512-9e06-62ecdebf2024",
   "metadata": {},
   "source": [
    "#### 3. Suppose we take 1,000 simple random samples ($R = 1000$), with a sample size of 500 ($n = 500$):"
   ]
  },
  {
   "cell_type": "code",
   "execution_count": null,
   "id": "1d723548-7894-4626-b3a4-1075550c6a66",
   "metadata": {
    "vscode": {
     "languageId": "r"
    }
   },
   "outputs": [],
   "source": [
    "# CREATES A DATA FRAME WITH ALL 1000 RANDOM SAMPLES, AND CALCULATES MEAN AND STANDARD DEVIATION OF EACH SAMPLE \n",
    "reps_500_1000 <- population %>%\n",
    "        rep_sample_n(size = 500, reps = 1000, replace = FALSE) %>%  #creates 1000 samples of size 5\n",
    "        group_by(replicate) %>%                                     #groups each of the samples \n",
    "        summarize(mean = mean(x))                                   #calculates the mean of each sample\n",
    "\n",
    "# CALCULATES THE MEAN AND STANDARD ERROR OF THE SAMPLING DISTRIBUTION\n",
    "sample_500_mean_se <- reps_500_1000 %>%\n",
    "        summarize(sd_mean = mean(mean), se = sd(mean))\n",
    "\n",
    "sample_500_mean_se\n",
    "\n",
    "# VISUAL DEPICTION OF SAMPLING DISTRIBUTION\n",
    "sampling_dist_500_1000 <- reps_500_1000 %>%\n",
    "                     ggplot(aes(x = mean)) +\n",
    "                     geom_histogram(bins = 50, color = \"black\", fill = \"gray\") + \n",
    "                     geom_vline(xintercept = 0, colour=\"blue\", linetype = \"solid\", lwd = 1) +\n",
    "                     geom_vline(xintercept = mean(reps_500_1000$mean), colour=\"red\", linetype = \"dashed\", lwd = 1)                  \n",
    "\n",
    "sampling_dist_500_1000"
   ]
  },
  {
   "cell_type": "markdown",
   "id": "b138260f-1326-430b-9a07-c1ac3959dd04",
   "metadata": {},
   "source": [
    "### Exercise 2: Taking Random Samples\n",
    "\n",
    "Let's try it for ourselves. Take a sample of size 50 with 1000 reps from the same `population` data frame and produce a data frame with only the means. Assign your answer to the object `answer_2`."
   ]
  },
  {
   "cell_type": "code",
   "execution_count": null,
   "id": "934b2d8f-8294-43df-9c96-3e940ff1693c",
   "metadata": {},
   "outputs": [],
   "source": [
    "# FILL IN THE BLANKS\n",
    "set.seed(30)\n",
    "\n",
    "answer_2 <- population %>%\n",
    "        rep_sample_n(... = ..., ... = ...) %>%\n",
    "        group_by(...) %>%\n",
    "        summarize(mean = ...(x))\n",
    "\n",
    "test_2()"
   ]
  },
  {
   "cell_type": "markdown",
   "id": "6c24bd56-c7e9-4645-84eb-4cce236b4202",
   "metadata": {},
   "source": [
    "Because the number of samples we drew from our population is constant, we saw that the mean of our sampling distribution was roughly equivalent to the true population mean for all of our examples. However, we varied our sample sizes. It's important to notice that as we increased our samples size, the standard error decreased. As a reminder, having a low standard error means that the probability of having a sample produce a sample estimate that is far away from the true population parameter is very low. In the previous examples with a sample size of 500, we can see that the sample means are mostly between -0.1 and +0.1. With a sample size of 5, the sample means are mostly between -1 and 1. \n",
    "\n",
    "Having a low standard error is something we economists seek to have in our experiments. Because it's often only possible to collect _one_ sample in real life, we tend to collect as large a sample as possible to minimize the standard error. This gives us high confidence that our sample estimate will be close to the true population parameter. \n",
    "\n",
    "You may have wondered how economists calculate the standard error of a sample estimate using only one sample. We will get to that in the section about Bootstrapping later in this lesson. "
   ]
  },
  {
   "cell_type": "markdown",
   "id": "396d8c63-833c-4eec-b5ca-bbd3f3df3af6",
   "metadata": {},
   "source": [
    "### Scenario 2: Population is not normally distributed"
   ]
  },
  {
   "cell_type": "markdown",
   "id": "93d9870c-184e-4d3b-9f48-94d42a6aa28f",
   "metadata": {},
   "source": [
    "Another important concept in statistics is that as the number of samples drawn from the population increases, the mean of the sampling distribution converges to the true value of the population parameter. Furthermore, by increasing the number of samples, the sampling distribution become a closer resemblance of a normal distribution curve. This is true regardless of the shape of the original population distribution - again here, it is just the _sampling distribution_ that starts to look more like a normal curve, and not the _population distribution_. "
   ]
  },
  {
   "cell_type": "markdown",
   "id": "a6fa8f26-3d29-4f7b-bd90-8ae0b2842664",
   "metadata": {},
   "source": [
    "This exercise will be nearly identical to above, with the difference being our population will now be random uniformly distributed. Similar to the previous example, increasing the the sample size will reduce the standard error of the sampling distribution. For this exercise, we will see how varying the samples taken affects the sampling distribution. We can achieve this in R using the `runif()` function to create a uniform distribution."
   ]
  },
  {
   "cell_type": "code",
   "execution_count": null,
   "id": "60ac98b1-11dd-4733-bebd-7b9c9daf3606",
   "metadata": {
    "vscode": {
     "languageId": "r"
    }
   },
   "outputs": [],
   "source": [
    "y <- runif(10000, 0, 1)  # Draw 10,000 observations from the random uniform distribution between 0 and 1\n",
    "\n",
    "population_unif <- data.frame(y)\n",
    "\n",
    "unif_pop_dist <- population_unif %>%\n",
    "                 ggplot(aes(x = y)) + \n",
    "                 geom_histogram(bins = 20, color = \"black\", fill = \"gray\")\n",
    "\n",
    "unif_pop_dist\n",
    "\n",
    "unif_pop_mean_se <- population_unif %>%\n",
    "        summarize(true_mean = mean(y))\n",
    "\n",
    "unif_pop_mean_se"
   ]
  },
  {
   "cell_type": "markdown",
   "id": "02728329-fbc7-4437-bb23-0f934743c9d8",
   "metadata": {},
   "source": [
    "#### 1. Suppose we take 100 simple random samples (`reps` = 100), with a sample size of 100 (`size` = 100):"
   ]
  },
  {
   "cell_type": "code",
   "execution_count": null,
   "id": "76693a42-cdd3-4f3a-9258-7cc5019fcef6",
   "metadata": {
    "vscode": {
     "languageId": "r"
    }
   },
   "outputs": [],
   "source": [
    "# CREATES A DATA FRAME WITH ALL 100 RANDOM SAMPLES, AND CALCULATES MEAN AND STANDARD DEVIATION OF EACH SAMPLE \n",
    "unif_reps_100_100 <- population_unif %>%\n",
    "        rep_sample_n(size = 100, reps = 100) %>%               #creates 5 samples of size 5\n",
    "        group_by(replicate) %>%                                #groups each of the samples \n",
    "        summarize(mean = mean(y))                              #calculates the mean of each sample\n",
    "\n",
    "# MEAN AND STANDARD ERROR OF SAMPLING DIST\n",
    "sample_100_mean_se <- unif_reps_100_100 %>%\n",
    "        summarize(sd_mean = mean(mean), se = sd(mean))\n",
    "\n",
    "sample_100_mean_se\n",
    "\n",
    "# VISUAL DEPICTION OF SAMPLING DISTRIBUTION\n",
    "unif_sampling_dist_100_100 <- unif_reps_100_100 %>%\n",
    "                     ggplot(aes(x = mean)) +\n",
    "                     geom_histogram(bins = 50, color = \"black\", fill = \"gray\") + \n",
    "                     geom_vline(xintercept = mean(population_unif$y), colour=\"blue\", linetype = \"solid\", lwd = 1) + \n",
    "                     geom_vline(xintercept = mean(unif_reps_100_100$mean), colour=\"red\", linetype = \"dashed\", lwd = 1)  \n",
    "\n",
    "unif_sampling_dist_100_100\n"
   ]
  },
  {
   "cell_type": "markdown",
   "id": "920796df-c35a-42ea-b881-2b617767f847",
   "metadata": {},
   "source": [
    "#### 2. Suppose we take 1,000 simple random samples ($R = 1000$), with a sample size of 5 ($n = 5$):"
   ]
  },
  {
   "cell_type": "code",
   "execution_count": null,
   "id": "5d7bd0a3-93f9-4651-8482-97b1bd16a73d",
   "metadata": {
    "vscode": {
     "languageId": "r"
    }
   },
   "outputs": [],
   "source": [
    "# CREATES A DATA FRAME WITH ALL 100 RANDOM SAMPLES, AND CALCULATES MEAN AND STANDARD DEVIATION OF EACH SAMPLE \n",
    "unif_reps_100_1000 <- population_unif %>%\n",
    "        rep_sample_n(size = 100, reps = 1000) %>%   # creates 5 samples of size 5\n",
    "        group_by(replicate) %>%                     # groups each of the samples \n",
    "        summarize(mean = mean(y))                   # calculates the mean of each sample\n",
    "\n",
    "# MEAN AND STANDARD ERROR OF SAMPLING DIST\n",
    "sample_1000_mean_se <- unif_reps_100_1000 %>%\n",
    "        summarize(sd_mean = mean(mean), se = sd(mean))\n",
    "\n",
    "sample_1000_mean_se\n",
    "\n",
    "# VISUAL DEPICTION OF SAMPLING DISTRIBUTION\n",
    "unif_sampling_dist_100_1000 <- unif_reps_100_1000 %>%\n",
    "                     ggplot(aes(x = mean)) +\n",
    "                     geom_histogram(bins = 50, color = \"black\", fill = \"gray\") + \n",
    "                     geom_vline(xintercept = mean(population_unif$y), colour=\"blue\", linetype = \"solid\", lwd = 1) + \n",
    "                     geom_vline(xintercept = mean(unif_reps_100_1000$mean), colour=\"red\", linetype = \"dashed\", lwd = 1)  \n",
    "\n",
    "unif_sampling_dist_100_1000\n"
   ]
  },
  {
   "cell_type": "markdown",
   "id": "4b521f42-7d81-4f79-bcb4-9988829ce281",
   "metadata": {},
   "source": [
    "#### 3. Suppose we take 20,000 simple random samples (`reps` = 20,000), with a sample size of 500 (`size` = 500$):"
   ]
  },
  {
   "cell_type": "code",
   "execution_count": null,
   "id": "9506fa61-cee9-4df2-b2d8-8630d996cc8e",
   "metadata": {
    "vscode": {
     "languageId": "r"
    }
   },
   "outputs": [],
   "source": [
    "# CREATES A DATA FRAME WITH ALL 100 RANDOM SAMPLES, AND CALCULATES MEAN AND STANDARD DEVIATION OF EACH SAMPLE \n",
    "unif_reps_100_20000 <- population_unif %>%\n",
    "        rep_sample_n(size = 100, reps = 20000) %>%               #creates 5 samples of size 5\n",
    "        group_by(replicate) %>%                                #groups each of the samples \n",
    "        summarize(mean = mean(y))                              #calculates the mean of each sample\n",
    "\n",
    "# MEAN AND STANDARD ERROR OF SAMPLING DIST\n",
    "sample_20000_mean_se <- unif_reps_100_20000 %>%\n",
    "        summarize(sd_mean = mean(mean), se = sd(mean))\n",
    "\n",
    "sample_20000_mean_se\n",
    "\n",
    "#VISUAL DEPICTION OF SAMPLING DISTRIBUTION\n",
    "unif_sampling_dist_100_20000 <- unif_reps_100_20000 %>%\n",
    "                     ggplot(aes(x = mean)) +\n",
    "                     geom_histogram(bins = 50, color = \"black\", fill = \"gray\") + \n",
    "                     geom_vline(xintercept = mean(population_unif$y), colour=\"blue\", linetype = \"solid\", lwd = 1) + \n",
    "                     geom_vline(xintercept = mean(unif_reps_100_20000$mean), colour=\"red\", linetype = \"dashed\", lwd = 1)  \n",
    "\n",
    "unif_sampling_dist_100_20000\n"
   ]
  },
  {
   "cell_type": "markdown",
   "id": "066c46b5-4b5e-4c35-9bb3-273dd1ad85b5",
   "metadata": {},
   "source": [
    "Notice how the difference between the mean of the sampling distribution and the true value of the population parameter become closer and closer as we increase the number of samples drawn. As mentioned above, we can also see that the sampling distribution curve more strongly resembles a normal distribution curve as we increase the number of samples drawn - pretty neat! This is true regardless of the fact that we began with a population that was uniformly distributed."
   ]
  },
  {
   "cell_type": "code",
   "execution_count": null,
   "id": "c91510d2-fa97-4610-817f-1e3e2fb733f5",
   "metadata": {},
   "outputs": [],
   "source": [
    "SIZE <- 500\n",
    "REPS <- 2000\n",
    "\n",
    "pop_dist_eg <- population %>%\n",
    "        rep_sample_n(size = SIZE, reps = REPS) %>%  # CHANGE PARAMETERS HERE\n",
    "        group_by(replicate) %>%                                  \n",
    "        summarize(mean = mean(x)) %>%\n",
    "        ggplot(aes(x = mean)) +\n",
    "        geom_histogram(bins = 50, color = \"black\", fill = \"gray\") + \n",
    "        geom_vline(xintercept = 0, colour=\"blue\", linetype = \"solid\", lwd = 1) \n",
    "\n",
    "unif_dist_eg <- population_unif %>%\n",
    "        rep_sample_n(size = SIZE, reps = REPS) %>%  # CHANGE PARAMETERS HERE\n",
    "        group_by(replicate) %>%                                  \n",
    "        summarize(mean = mean(y)) %>%\n",
    "        ggplot(aes(x = mean)) +\n",
    "        geom_histogram(bins = 50, color = \"black\", fill = \"gray\") + \n",
    "        geom_vline(xintercept = mean(population_unif$y), colour=\"blue\", linetype = \"solid\", lwd = 1) \n",
    "\n",
    "grid.arrange(pop_dist_eg, unif_dist_eg, ncol = 2)"
   ]
  },
  {
   "cell_type": "markdown",
   "id": "2b4f61e2-bc0f-448e-af6a-e35d158f415a",
   "metadata": {},
   "source": [
    "In the above graph, we fixed the sample size and number of samples for both the normal distribution and uniform distribution examples, and we attained two sampling distributions that are strikingly similar to a normal distribution curve. You have just witnessed something magical in statistics ✨! Regardless of the initial population distribution, as we increase our sample size and the number of simple and independent simple random samples, our sampling distribution converges to our population mean! Try it out yourself by increasing `SIZE` and `REPS` to see how higher values make the distribution become tighter around the true population mean."
   ]
  },
  {
   "cell_type": "markdown",
   "id": "9faec459-2c2d-4e38-9e8c-2626fd81e3ec",
   "metadata": {},
   "source": [
    "This converging of the sample mean to a normal distribution is referred to as the **Central Limit Theorem** in statistics."
   ]
  },
  {
   "cell_type": "markdown",
   "id": "badc9fea-d1fa-4746-bbc8-0e8010e5f02d",
   "metadata": {},
   "source": [
    "### Exercise 3: Taking Samples and Visualizing the Sampling Distribution\n",
    "\n",
    "Use the `population_unif` data frame and draw 500 samples of sample size 50. Then create a visualization of the sampling distribution. Finally, calculate the standard error of this sampling distribution and assign it to the object `answer_3`. Remember the `sd` function calculates the standard deviation of a column. Template code has been provided."
   ]
  },
  {
   "cell_type": "code",
   "execution_count": null,
   "id": "69e8a360-9dd2-4483-9a92-5ee68bd3b9aa",
   "metadata": {},
   "outputs": [],
   "source": [
    "set.seed(40) # don't change this\n",
    "\n",
    "eg_3 <- ... %>%\n",
    "        ...(... = ..., ... = ...) %>%\n",
    "        ...(...) %>%\n",
    "        summarize(mean = mean(y)) \n",
    "\n",
    "eg_3_graph <- eg_3 %>%\n",
    "        ggplot(...(x = mean)) + \n",
    "        geom_histogram(bins = 50, color = \"black\", fill = \"gray\") + \n",
    "        geom_vline(xintercept = mean(population_unif$y), colour=\"blue\", linetype = \"solid\", lwd = 1) \n",
    "\n",
    "answer_3 <- eg_3 %>%\n",
    "            summarize(se = ...(mean)) %>%\n",
    "            pull() %>%\n",
    "            round(5)\n",
    "\n",
    "test_3()"
   ]
  },
  {
   "cell_type": "markdown",
   "id": "210c0369-949c-4891-bb77-cb41d27347f5",
   "metadata": {},
   "source": [
    "### Exercise 4: Understanding Standard Error\n",
    "\n",
    "What does the standard error tell us?\n",
    "\n",
    "**A**: the average variation in the population distribution  \n",
    "**B**: the average variation in our sample estimates of the population parameter  \n",
    "**C**: the probability that our sample estimate is correct  \n",
    "**D**: exactly what the sample estimate tells us  \n",
    "\n",
    "Answer in capital letters surrounded by quotation marks. eg... `\"E\"`\n",
    "\n"
   ]
  },
  {
   "cell_type": "code",
   "execution_count": null,
   "id": "b3a14a35-4ed8-4f6d-9d1a-6d0949ba2df6",
   "metadata": {},
   "outputs": [],
   "source": [
    "answer_4 <- \"...\"\n",
    "\n",
    "test_4(answer_4)"
   ]
  },
  {
   "cell_type": "markdown",
   "id": "0e638cd7-9ce1-4cde-8238-1cc30145bdf8",
   "metadata": {},
   "source": [
    "## Quick Review ##\n",
    "\n",
    "We just learned a lot of new terms which all sound very similar, so let's take a moment to review. \n",
    "The **population** is the collection of all individuals or entities we are interested in studying. From the above example, the population is entire population of Canada. From the population, we are interested in knowing a particular quantity, the **population parameter**. From our example, this is the height. \n",
    "\n",
    "A **simple sample** is a small subset of the population which we use to get an estimate of the parameter we are interested. This is the **sample estimate** for the population parameter. Because we are often unable to conduct a comprehensive census in the real world, we have to use the sample estimate as an estimate for the population parameter. \n",
    "\n",
    "In a hypothetical world, we assume that we are able to take many samples of size `n` from the same population and attain a sample estimate from all of those samples. When we plot those sample estimates on a histogram, we get a **sampling distribution**. When we take many samples, we find that the mean of the sampling distribution (the most frequently observed estimate of the population parameter) is very close to the actual value of the population parameter. \n",
    "\n",
    "We have also noticed that as we increase sample size, our standard error decreases. When we increase the number of samples drawn from the population, the mean of the sampling distribution progresses closer and closer to the population parameter and our sampling distribution has a closer resemblance to a normal distribution curve."
   ]
  },
  {
   "cell_type": "markdown",
   "id": "ad6b2b4d-32ea-4987-a5c5-0d21ee0ed3fc",
   "metadata": {},
   "source": [
    "## Central Limit Theorem (CLT) and the Law of Large Numbers (LLN)\n",
    "\n",
    "The **Central Limit Theorem** tells us that no matter the distribution of the population, with sufficient sample size (usually above 30 and no more than 5% of the population), the distribution of sample means will tend toward normal.\n",
    "\n",
    "> Note: When sampling more than 5% of a population, we should use the Finite Population Correct Factor (FPC). This is because the Central Limit Thereom does not hold, and the standard error will be too large: FPC = $((N-n)/(N-1))^{1/2}$\n",
    "\n",
    "The **Law of Large Numbers** tells us that with a sufficiently large number of repeated and independent random samples, the mean of our distribution of sample means will tend toward the population mean! Notice the visualization of our sample mean as we increase $R$ in the example below!"
   ]
  },
  {
   "cell_type": "code",
   "execution_count": null,
   "id": "e4e6adae-0cbf-47fc-a5ab-7c6a3ee95bbb",
   "metadata": {
    "vscode": {
     "languageId": "r"
    }
   },
   "outputs": [],
   "source": [
    "set.seed(55)\n",
    "\n",
    "# RUN THIS CODE. \n",
    "\n",
    "r = 1000 # Number of iterations (number of sample means produced for our distribution)\n",
    "num = 10 # Sample size\n",
    "R = 1:r # Range of iterations\n",
    "means <- vector(,r) # Create empty vector to store sample means\n",
    "sample_mean <- vector(,r)\n",
    "\n",
    "for (val in R) { # loop over all values in R \n",
    "    means[val] = mean(slice_sample(population_unif, n = num)$y) # Take a sample of size n from the population, caluclate the mean, and store in vector means, with index of the current iteration\n",
    "    sample_mean[val] <- mean(means[1:val]) # Running value of sample mean at index equal to current iteration\n",
    "}\n",
    "\n",
    "options(scipen = 10)\n",
    "plot(sample_mean, cex=0.5, col=\"darkblue\")\n",
    "abline(h = mean(population_unif$y))"
   ]
  },
  {
   "cell_type": "markdown",
   "id": "f0f91dea-b933-43e3-9fbf-6da91db4d7e3",
   "metadata": {},
   "source": [
    "See how many many iterations (in this case, 1000) eventually produce a relatively stable line around 0.5 for this example?"
   ]
  },
  {
   "cell_type": "markdown",
   "id": "0a127df4-8739-440d-9670-b09e921df272",
   "metadata": {},
   "source": [
    "### INTERACTIVE EXERCISE DEMONSTRATING CLT\n",
    "\n",
    "In this exercise, we will create a new simulation for you to play around with $R$ and $n$ to get a better understanding of how sampling distribution changes with sample size and the number of repeated independent random samples. You can alter the values by changing the `SIZE` and `REPS` constants at the top of the code block. Try different values and see for yourself how the shape of the sampling distribution changes. \n",
    "\n",
    "Note: You can also try different distributions of our population, try the following: `rchisq(n, df)`, `rexp(n, rate)`, `rf(n, df1, df2)`"
   ]
  },
  {
   "cell_type": "code",
   "execution_count": null,
   "id": "904bf1b3-eb12-4e90-834a-68a89390cb62",
   "metadata": {
    "vscode": {
     "languageId": "r"
    }
   },
   "outputs": [],
   "source": [
    "population_ex <- rexp(10000, 0.2)  # Draw 10,000 observations from the random uniform distribution between 0 and 1\n",
    "population_ex <- data.frame(x)\n",
    "pop_dist_int <- population_ex %>% \n",
    "                ggplot(aes(x = x)) +\n",
    "                geom_histogram(bins = 50) +\n",
    "                geom_vline(xintercept = mean(population_ex$x), colour=\"blue\", linetype = \"solid\", lwd = 1) \n",
    "pop_dist_int"
   ]
  },
  {
   "cell_type": "code",
   "execution_count": null,
   "id": "aea7b403-28e8-4e4a-8641-9b8e522961c1",
   "metadata": {},
   "outputs": [],
   "source": [
    "SIZE = 50 # change me here\n",
    "REPS = 5000 # change me here\n",
    "\n",
    "population_sample_estimates <- population_ex %>%\n",
    "                 rep_sample_n(size = SIZE, reps = REPS) %>%\n",
    "                 group_by(replicate) %>%\n",
    "                 summarize(mean = mean(x))\n",
    "\n",
    "pop_mean_se <- population_sample_estimates %>%\n",
    "               summarize(sd_mean = mean(mean), se = sd(mean))\n",
    "\n",
    "pop_mean_se \n",
    "\n",
    "samp_dist_int <- population_sample_estimates %>%\n",
    "                 ggplot(aes(x = mean)) +\n",
    "                 geom_histogram(bins = 50, color = \"black\", fill = \"gray\") + \n",
    "                 geom_vline(xintercept = mean(population_ex$x), colour=\"blue\", linetype = \"solid\", lwd = 1) +\n",
    "                 geom_vline(xintercept = mean(population_sample_estimates$mean), colour=\"red\", linetype = \"dashed\", lwd = 1)\n",
    "\n",
    "samp_dist_int\n",
    "\n",
    "                 "
   ]
  },
  {
   "cell_type": "markdown",
   "id": "41d1c592-d52e-4614-ad64-2f77c0a95441",
   "metadata": {},
   "source": [
    "## Bootstrapping "
   ]
  },
  {
   "cell_type": "markdown",
   "id": "563460ea-eab2-4074-9e86-790c1a9ee203",
   "metadata": {},
   "source": [
    "From the previous examples, it was quite a process to calculate the standard error. We had to first have access to the population and draw hundreds of samples from that population to make a sampling distribution. This is impossible for multiple reasons (1) we almost never access to the entire population (2) drawing two samples of 10 individuals is the same as drawing one sample of 20. Naturally, you may have been wondering how economists calculate the standard error of their sample estimates. One common technique is **bootstrapping** samples."
   ]
  },
  {
   "cell_type": "markdown",
   "id": "f844f188-6f00-409b-82d2-4f50d1ee7991",
   "metadata": {},
   "source": [
    "In the bootstrapping process, we start off by taking one sample of size $n$ from our population. We then take a sample of size $n$ from our sample, with replacement. Let's imagine we have a paper bag with 5 red balls and 5 green balls, which we will treat as our sample. In order to draw a bootstrap sample, we pick 1 ball out of the bag ten times while allowing replacement. We take out the first ball, note whether it's a red or green ball, then put it back in the bag and repeat the process 9 more times to arrive at our bootstrap sample. Note that with this method, it is entirely possible to draw any combination of red and green balls. The bootstrap sampling method introduces sampling variability to our sample. "
   ]
  },
  {
   "cell_type": "markdown",
   "id": "856b3784-4359-4f98-8f11-9abc14fbc611",
   "metadata": {},
   "source": [
    "If we repeat this process by drawing many bootstrap samples, we can arrive at a bootstrap distribution which serves as an approximation of our sampling distribution. "
   ]
  },
  {
   "cell_type": "markdown",
   "id": "6b79b7ac-9fe9-46ff-a4f6-578bcedb3f8e",
   "metadata": {},
   "source": [
    "### Example"
   ]
  },
  {
   "cell_type": "markdown",
   "id": "6a8d798c-03d1-4f80-8064-2ab424eed3a2",
   "metadata": {},
   "source": [
    "Let's demonstrate this using our normal distribution data frame `population`. We first start off by taking a sample from our population. Once again we use the `slice_sample` function to achieve this. To connect it back to the average height example, imagine that we had resources to sample 100 people about their height out of the entire Canadian population. "
   ]
  },
  {
   "cell_type": "code",
   "execution_count": null,
   "id": "07a66535-344c-49ea-9cf6-e307f82f8c0b",
   "metadata": {},
   "outputs": [],
   "source": [
    "boot_main_sample <- population %>%\n",
    "        slice_sample(n = 100)\n",
    "\n",
    "head(boot_main_sample)\n",
    "paste(\"This is the mean of our sample: \", mean(boot_main_sample$x))"
   ]
  },
  {
   "cell_type": "markdown",
   "id": "05d911e8-dbc5-46b6-89a4-89c52693e2ab",
   "metadata": {},
   "source": [
    "Now, we want to know the uncertainty behind this estimate. Thinking back to our sampling distribution, how would we know if our sample estimate of 0.008 is close to the true population parameter. It's entirely possible we got a sample estimate far off from our true population parameter - for example, we could have gotten a value in the tails of the sampling distribution. To begin to understand the uncertainty around our sample estimate, we must compute the standard error. "
   ]
  },
  {
   "cell_type": "markdown",
   "id": "93d5d4b1-409f-41bf-9bd8-cb8029eeabd2",
   "metadata": {},
   "source": [
    "Let's draw bootstrap samples from our sample. The code is largely similar from before, except the key difference that we now add `replace = TRUE` to our `rep_sample_n` function. This tells R to allow replacement when taking samples. "
   ]
  },
  {
   "cell_type": "code",
   "execution_count": null,
   "id": "9b6e031f-1d88-4612-a8c8-a3c6b966f655",
   "metadata": {},
   "outputs": [],
   "source": [
    "boot_samples <- boot_main_sample %>%\n",
    "        rep_sample_n(size = 500, reps = 1000, replace = TRUE)\n",
    "\n",
    "head(boot_samples)"
   ]
  },
  {
   "cell_type": "markdown",
   "id": "a7c24971-fd7f-4589-9f95-4fbd50dec75e",
   "metadata": {},
   "source": [
    "Now that we have our bootstrap samples, let's calculate the bootstrap sample means and make a bootstrap sampling distribution. We use the same methods as we used above. "
   ]
  },
  {
   "cell_type": "code",
   "execution_count": null,
   "id": "a51ecf06-3ed6-4133-b728-0154e7da2948",
   "metadata": {},
   "outputs": [],
   "source": [
    "boot_means <- boot_samples %>%\n",
    "        group_by(replicate) %>%\n",
    "        summarize(mean = mean(x))\n",
    "\n",
    "boot_mean_se <- boot_means %>%\n",
    "        summarize(sd_mean = mean(mean), se = sd(mean)) \n",
    "\n",
    "boot_mean_se\n",
    "\n",
    "boot_sampling_dist <- boot_means %>%\n",
    "                      ggplot(aes(x = mean)) +\n",
    "                      geom_histogram(bins = 50, color = \"black\", fill = \"gray\") + \n",
    "                      geom_vline(xintercept = 0, colour=\"blue\", linetype = \"solid\", lwd = 1) + \n",
    "                      geom_vline(xintercept = mean(boot_means$mean), colour=\"red\", linetype = \"dashed\", lwd = 1) +\n",
    "                      ggtitle(\"Boostrap Sampling Distribution\")\n",
    "\n",
    "grid.arrange(boot_sampling_dist, sampling_dist_500_1000 + ggtitle(\"Sampling Distribution\"))"
   ]
  },
  {
   "cell_type": "markdown",
   "id": "635a619d-9987-4ca5-970e-5829032f16a4",
   "metadata": {},
   "source": [
    "There are many things to unpack here. Notice from the graphs that our bootstrap sampling distribution visually serves as a good approximation of our sampling distribution. We can also see that the standard error for the bootstrap sampling distribution (0.00402) is very close to our sampling distribution standard error, which was (0.0433). \n",
    "\n",
    "The key difference in the graphs is the mean of the distributions. The mean of the sampling distribution is nearly equivalent to the population parameter. However, the mean of the bootstrap distribution will be the value of the sample estimate from the first sample we took from the population. This is the reason why the bootstrap distribution sits to the right of the sampling distribution. \n",
    "\n",
    "The key takeaway here is that the standard error of the bootstrap sampling distribution serves as a great approximation of the standard error of the sampling distribution. \n",
    "\n",
    "This gives us a solid foundation to learn about confidence intervals and hypothesis testing in the coming weeks. "
   ]
  },
  {
   "cell_type": "markdown",
   "id": "a7c94e4a-9287-47fd-868f-a0a89a9a307c",
   "metadata": {},
   "source": [
    "### Exercise 5: Taking Bootstrap Samples\n",
    "\n",
    "For this exercise, we have taken a sample from the `population` data frame and assigned it to the object `boot_eg_sample` of sample size 50. You are going to make a data frame of bootstrap sample estimates with 1000 reps. Afterwards, you will assign the standard error of the bootstrap sampling distribution to `answer_5`. We have provided a code template below. "
   ]
  },
  {
   "cell_type": "code",
   "execution_count": null,
   "id": "146e48a7-973d-40cd-8fe4-64c4f7171d4a",
   "metadata": {},
   "outputs": [],
   "source": [
    "set.seed(60)\n",
    "\n",
    "boot_eg_sample <- ... %>%\n",
    "        slice_sample(n = ...)\n",
    "\n",
    "boot_eg_sample_est <- boot_eg_sample %>%\n",
    "        ...(... = ..., ... = ..., replace = ...) %>%\n",
    "        ...(...) %>%\n",
    "        summarize(mean = ...(x))\n",
    "\n",
    "answer_5 <- boot_eg_sample_est %>%\n",
    "        summarize(se = ...(mean)) %>%\n",
    "        pull() %>%\n",
    "        round(3)\n",
    "\n",
    "test_5()"
   ]
  }
 ],
 "metadata": {
  "kernelspec": {
   "display_name": "R",
   "language": "R",
   "name": "ir"
  },
  "language_info": {
   "codemirror_mode": "r",
   "file_extension": ".r",
   "mimetype": "text/x-r-source",
   "name": "R",
   "pygments_lexer": "r",
   "version": "4.2.0"
  }
 },
 "nbformat": 4,
 "nbformat_minor": 5
}
