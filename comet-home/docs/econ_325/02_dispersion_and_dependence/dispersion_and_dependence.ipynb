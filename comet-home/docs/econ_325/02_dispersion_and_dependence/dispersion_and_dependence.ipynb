{
 "cells": [
  {
   "cell_type": "markdown",
   "id": "c6284aff-7cca-4310-81e9-0cf214250d01",
   "metadata": {},
   "source": [
    "# ECON 325: Dispersion and Dependence\n",
    "* **Authors**: COMET Team (Oliver (Junye) Xu, Anneke Dresselhuis, Jonathan Graves)\n",
    "* **Last Update**: 12 August 2022 \n",
    "---\n"
   ]
  },
  {
   "cell_type": "markdown",
   "id": "05d11cb7-e1a0-4247-b08c-19fb34627984",
   "metadata": {},
   "source": [
    "## Outline\n",
    "\n",
    "### Prerequisites\n",
    "\n",
    "* Introduction to Jupyter\n",
    "* Introduction to R\n",
    "* Introduction to Visualization\n",
    "* Central Tendency\n",
    "* Distribution\n",
    "\n",
    "### Outcomes\n",
    "\n",
    "This notebook explains the concepts of dispersion and dependence.  After completing this notebook, you will be able to:\n",
    "\n",
    "* Understand and interpret measures of dispersion, including variance and standard deviation\n",
    "* Understand and interpret measures of dependence, including covariance and correlation\n",
    "* Investigate, compute, and interpret common descriptive statistics\n",
    "* Create summary tables for variables, including qualitative variables\n",
    "* Parse summary statistics for meaning\n",
    "\n",
    "### References\n",
    "\n",
    "* [Introductory Statistics](https://openstax.org/books/introductory-statistics/pages/2-7-measures-of-the-spread-of-the-data)"
   ]
  },
  {
   "cell_type": "markdown",
   "id": "03bf4345-6f46-456c-a44f-2b40c5da8d6f",
   "metadata": {},
   "source": [
    "## Introduction\n",
    "\n",
    "In this notebook, we will continue learning about how to use descriptive statistics to represent sets of data. We've already seen how to compute measures of central tendency and determine which measures are appropriate for given situations. We'll now focus on computing measures of dispersion and dependence in order to better understand both the variation of variables, as well as relationships between variables in a data set. We'll dedicate time to both measures, but we'll look at dispersion first. Let's first import our familiar 2016 Census data set from Statistics Canada."
   ]
  },
  {
   "cell_type": "code",
   "execution_count": null,
   "id": "dbe6732c-aa7f-4f94-b8a9-aa5817541833",
   "metadata": {},
   "outputs": [],
   "source": [
    "source(\"testing_dispersion_and_dependence.r\")\n",
    "\n",
    "#load packages\n",
    "library(tidyverse)\n",
    "library(haven)\n",
    "library(ggplot2)\n",
    "\n",
    "# Reading in the data\n",
    "census_data <- read_dta(\"../datasets/01_census2016.dta\")"
   ]
  },
  {
   "cell_type": "markdown",
   "id": "64337d15-4691-46a5-b561-86834b62c60a",
   "metadata": {
    "tags": []
   },
   "source": [
    "## Understanding Measures of Dispersion\n",
    "\n",
    "Measures of dispersion describe the spread of data, that is, the possible values that a variable in a data set can take on. Common measures of dispersion which we'll look at include the range, interquartile range, standard deviation and variance. \n",
    "\n",
    "### Range and Interquartile Range\n",
    "\n",
    "We've already seen the range and interquartile range in the _Central Tendency_ notebook. Remember, the **range** is the difference between the maximum and minimum value that a variable takes on, while the **interquartile range** is the difference between the 75th and 25th percentile values. We can use functions like `quantile()` and `fivenum()` to calculate these statistics quite quickly.\n",
    "\n",
    "Both functions return the same output: a list that includes the minimum value, 25th percentile, 50th percentile (median), 75th percentile, and maximum value. In this way, these commands allow us to construct a snapshot of both the spread of the middle 50% of data around the median (the interquartile range), as well as the spread of the data in its entirely (the range).\n",
    "\n",
    "### Variance \n",
    "\n",
    "The **variance** is the average of the squared differences from the mean. A small variance indicates that observations tend to fall close to the mean, while a high variance indicates that observations are very spread out from the mean. The standard deviation (discussed next) is also the square root of variance, we we won't spend much time on variance here. \n",
    "\n",
    "> For example, a normal distribution with `mean = 30` and `sd = 5` is exactly the same thing as a normal distribution with `mean = 30` and `variance = 25`. \n",
    "\n",
    "The biggest difference between the two is that the variance is a squared measure and does not have the _same units_ as the data in the way that the standard deviation does; hence why we usually work with standard deviation instead."
   ]
  },
  {
   "cell_type": "markdown",
   "id": "4e4b820c-6cac-43f5-a7fc-ad8f18705afa",
   "metadata": {},
   "source": [
    "## Standard Deviation\n",
    "\n",
    "The most commonly referenced measure of dispersion is **standard deviation**. This statistic measures dispersion around the mean. More specifically, it takes the squared value of the sum of the squared difference between each value and the mean for a given variable."
   ]
  },
  {
   "cell_type": "markdown",
   "id": "e4b285e0-ae4c-46ec-abea-acbb114f2b93",
   "metadata": {},
   "source": [
    "For drawn samples from the population:\n",
    "\n",
    "$$ s_{x}^2 = \\frac{\\sum_{i=0}^{n} (x_i - \\overline{x})^2}{n - 1}$$"
   ]
  },
  {
   "cell_type": "markdown",
   "id": "0e983caa-2b8b-4635-8125-81bf47806a6b",
   "metadata": {},
   "source": [
    "$$ s_{x} = \\sqrt{s_{x}^2} = \\sqrt{\\frac{\\sum_{i=0}^{n} (x_i - \\overline{x})^2}{n - 1}}$$"
   ]
  },
  {
   "cell_type": "markdown",
   "id": "5cc84181-0d19-45c4-90dc-b0ee232da9c7",
   "metadata": {},
   "source": [
    "For the population:\n",
    "\n",
    "$$ \\sigma_{x}^2 = \\int(x - \\mu)^2 f(x) dx$$\n",
    "\n",
    "$$ \\sigma_{x} = \\sqrt{\\sigma_{x}^2}$$"
   ]
  },
  {
   "cell_type": "markdown",
   "id": "299e3e5b-2d10-4597-b82c-95e70c2ade3c",
   "metadata": {},
   "source": [
    "> **Note**: In general, we use samples to estimate population parameters and some samples have more information to estimate than others. For instance, an estimate of the population variance based on a sample size of 100 certainly has more information than a sample size of 10. The degrees of freedom is the amount of information an estimate has. The degrees of freedom for an estimate is equal to the number of observations minus the number of parameters we would like to estimate. Thus, the degrees of freedom of our estimate of variance (sample variance) is equal to *n - 1*."
   ]
  },
  {
   "cell_type": "markdown",
   "id": "1dbac122-f6ce-4432-9de8-0a78ad9ffb7a",
   "metadata": {},
   "source": [
    "In R, we can use the `var()` function to calculate the variance of a variable, and the `sd()` function for the standard deviation."
   ]
  },
  {
   "cell_type": "code",
   "execution_count": null,
   "id": "3c5921ff-75d8-45d7-b71c-d80330f6186e",
   "metadata": {
    "tags": []
   },
   "outputs": [],
   "source": [
    "# calculate the variance of wage\n",
    "variance <- var(census_data$wages, na.rm = TRUE)"
   ]
  },
  {
   "cell_type": "markdown",
   "id": "276eb974-afed-4c01-a677-51c1f86a56ba",
   "metadata": {},
   "source": [
    "We can see the relationship between the standard deviation and the variance by taking the `sqrt()` of the variance to find the standard deviation below:"
   ]
  },
  {
   "cell_type": "code",
   "execution_count": null,
   "id": "b846c537-7d96-48da-82c9-e0ece95e4e38",
   "metadata": {},
   "outputs": [],
   "source": [
    "# fill in the ... with your code below to find the sd of wages\n",
    "answer_6 <- ...(var(census_data$wages, na.rm = TRUE))\n",
    "test_6()"
   ]
  },
  {
   "cell_type": "code",
   "execution_count": null,
   "id": "ec6373c4-31b0-4634-b2d7-8b1faec80bc5",
   "metadata": {},
   "outputs": [],
   "source": [
    "# recall the mean of wages\n",
    "mean(census_data$wages, na.rm = TRUE) # remember that we need to remove all NA values otherwise R won't let us compute our summary statistics!\n",
    "\n",
    "# calculate the standard deviation of wages\n",
    "sd(census_data$wages, na.rm = TRUE) "
   ]
  },
  {
   "cell_type": "markdown",
   "id": "9fda0f88-a75f-4089-b619-8f17f0863648",
   "metadata": {},
   "source": [
    "From the above, we can see that the standard deviation nicely comes in the same units as our variable of interest. It is also necessarily a positive or zero value. This convenience is partly why the standard deviation is such a preferred measure of dispersion. \n",
    "\n",
    "### Interpreting Variation\n",
    "\n",
    "Let's say we're interested in understanding how the `wages` variable was dispersed around the mean.\n",
    "\n",
    "In the case of `wages` above, we have a pretty high standard deviation, even higher than our mean! This tells us\n",
    "that most of the Canadians in the dataset have a wage which lies approximately \\\\$64275.27 away from the mean of \\\\$54482.52. \n",
    "\n",
    "This large standard deviation tells us that there is high variation between wage observations and that some of them are spread out very far from the mean, suggesting we have it is likely we have a lot of outliers in the dataset (this is common for wage distribution in the presence of income inequality). This brings us to a general rule: the standard deviation is small when the data are all concentrated close to the mean, while the standard deviation is large when the data are spread out away from the mean. \n",
    "\n",
    "## Empirical Rule\n",
    "\n",
    "Recall again from the _Central Tendency_ notebook that data often approximately follow a normal distribution (symmetrical distribution wherein the mean value is also the median). For a variable with values distributed in this way, there is a standard when discussing their standard deviation. We say that about 68% of these values are within 1 standard deviation of the mean, about 95% are within 2 standard deviations of the mean, and about 99.7% are within 3 standard deviations from the mean. Remaining observations are extreme outliers and incredibly rare. This is called the **68-95-99.7 rule or Empirical Rule**, and is visualized in the diagram below."
   ]
  },
  {
   "cell_type": "markdown",
   "id": "317cb0e1-ba5e-40b1-9148-72b3d8868cbc",
   "metadata": {},
   "source": [
    "<img src=\"media/standard_deviation_examples.png\">"
   ]
  },
  {
   "cell_type": "markdown",
   "id": "7710ca98-4cbe-47b4-b074-cde31a4c431a",
   "metadata": {},
   "source": [
    "This gives us a helpful frame of reference when discussing the standard deviation of a variable. Although we already saw that the `wages` variable follows a relatively skewed distribution, we can imagine a variable that doesn't, say test scores. If the mean score on a test is 70 and the standard deviation is 10, this tells us that approximately 68% of students who wrote that test earned a score between 60 and 80 (1 standard deviation), approximately 95% earned a score between 50 and 90 (2 standard deviations) and virtually everyone earned a score between 40 and 100 (3 standard deviations)."
   ]
  },
  {
   "cell_type": "markdown",
   "id": "03e5e89d-883f-4e5d-ab01-219d8eb07482",
   "metadata": {},
   "source": [
    "## Understanding Measures of Dependence\n"
   ]
  },
  {
   "cell_type": "markdown",
   "id": "964c6ebd-7346-446e-b20c-ba5c9b7502c8",
   "metadata": {},
   "source": [
    "Measures of **dependence** compute relationships between variables. The two most common measures of the relation between variables are covariance and correlation. We will investigate each of these, one at a time."
   ]
  },
  {
   "cell_type": "markdown",
   "id": "7e689d5b-b95b-4fb8-b5c8-bb796264f72e",
   "metadata": {},
   "source": [
    "## Covariance "
   ]
  },
  {
   "cell_type": "markdown",
   "id": "587ff4fc-28ca-45bc-a25f-46f1059a8568",
   "metadata": {},
   "source": [
    "**Covariance** is a measure of the direction of a relationship between two variables. More specifically, it can be broken down into a positive case (meaning the two variables are positively related) and a negative case (meaning the two variables are negatively related). If two variables are positively related, it means that when one goes up, we can expect the other to go up, and vice versa when one goes down. If two variables are negatively related, it means that when one goes up, the other goes down and vice versa. It is similar to the idea of variance that we just covered, but where variance measures how a _single_ variable varies, covariance measures how _two_ variables vary together."
   ]
  },
  {
   "cell_type": "markdown",
   "id": "a0bd41e3-dc30-4499-86f8-74df158a01ea",
   "metadata": {},
   "source": [
    "Sample Covariance:\n",
    "\n",
    "$$ cov_{x,y}=\\frac{\\sum_{i=1}^{n}(x_{i}-\\bar{x})(y_{i}-\\bar{y})}{n-1} $$"
   ]
  },
  {
   "cell_type": "markdown",
   "id": "d105a78a-a494-42f9-b996-2ddd9ce56c71",
   "metadata": {},
   "source": [
    "Population Covariance:\n",
    "\n",
    "$$ cov_{x,y}=\\int\\int(x_{i}-\\bar{x})(y_{i}-\\bar{y})f(x,y)dxdy $$"
   ]
  },
  {
   "cell_type": "markdown",
   "id": "3281e0ab-be71-45e0-9b29-b4a577af64fc",
   "metadata": {},
   "source": [
    "> **Note**: As mentioned above, in R, the data only represents a sample. This is why we use *n - 1* as a denominator, where *n* is the number of observations. When dealing with samples, the denominator has the freedom to vary (Degrees of Freedom). We only know *sample* means for both variables, so we use *n - 1* to make the estimator unbiased, because *n* and *n - 1* would be roughly equal for very large samples."
   ]
  },
  {
   "cell_type": "markdown",
   "id": "bce4e35f-41b5-4d23-aefc-4f51ce45d2d9",
   "metadata": {},
   "source": [
    "This is incredibly tedious to calculate, especially for large samples. In R, we can use the `cov()` function to calculate the covariance between two variables. Let's say we're interested in exploring the covariance between the `wages` variable and `mrkinc` variable in the dataset."
   ]
  },
  {
   "cell_type": "code",
   "execution_count": null,
   "id": "a02965c2-0de1-4df7-974d-c6e3733fd8c5",
   "metadata": {},
   "outputs": [],
   "source": [
    "# cov() function requires use=\"complete.obs\" to remove NA entries\n",
    "cov(census_data$wages, census_data$mrkinc, use=\"complete.obs\") "
   ]
  },
  {
   "cell_type": "markdown",
   "id": "c7c17146-76fc-417e-b455-cc8b49037a40",
   "metadata": {},
   "source": [
    "The calculated covariance between the `wages` variable and `mrkinc` variable in the dataset is positive, indicating the two variables are positively related. As one variable changes, the other variable will change in the same direction with a magnitude of 4798121947.03. However, the wide range of calculated covariance makes it hard to interpret. In our example, covariance could return a value of 100, or 4798121947.03. This wide range of values is cause by a simple fact: The larger the X and Y values, the larger the covariance. A value of 100 or 4798121947.03 tells us that two variables are related, but that number does not tell us exactly how strong that relationship is."
   ]
  },
  {
   "cell_type": "markdown",
   "id": "0310f986-2e7d-4b5c-b923-831338fe80cc",
   "metadata": {},
   "source": [
    "Now, let's try computing the covariance \"by hand\" to understand how the formula really works. To simplify the process, we will construct a hypothetical data set with variables x and y."
   ]
  },
  {
   "cell_type": "code",
   "execution_count": null,
   "id": "3d286085-4a80-4a05-bc0a-dd2fb787cfb1",
   "metadata": {},
   "outputs": [],
   "source": [
    "x <- c(6, 8, 10)\n",
    "y <- c(25, 100, 125)"
   ]
  },
  {
   "cell_type": "code",
   "execution_count": null,
   "id": "a47faa8e-b7c7-40db-bd8b-5e6cc3c9a1d2",
   "metadata": {},
   "outputs": [],
   "source": [
    "# Difference of each value and the mean for the variables\n",
    "# Product of the above differences\n",
    "# Sum the products\n",
    "# Denominator is one less than the sample size\n",
    "sum((x - mean(x))*(y - mean(y)))/(3-1)"
   ]
  },
  {
   "cell_type": "code",
   "execution_count": null,
   "id": "05934591-df84-41d9-b4aa-d8f47b8afa6e",
   "metadata": {},
   "outputs": [],
   "source": [
    "# Confirming the previous calculation\n",
    "cov(x,y)"
   ]
  },
  {
   "cell_type": "markdown",
   "id": "b8a49acf-240e-4bd1-8e6c-36547be1f69d",
   "metadata": {},
   "source": [
    "Covariance as a measure of dependence is not very meaningful. However, it is a computational stepping stone to something that is more interesting and informative, like correlation as we will see next. The correlation coefficient will tell us exactly how strong that relationship is by dividing the covariance by the standard deviation."
   ]
  },
  {
   "cell_type": "markdown",
   "id": "189f56b5-dc37-4af4-9511-0b6cbc981057",
   "metadata": {},
   "source": [
    "## Correlation "
   ]
  },
  {
   "cell_type": "markdown",
   "id": "0602662e-ad79-4780-8e3e-253a3b879360",
   "metadata": {},
   "source": [
    "A **correlation coefficient** measures the linear relationship between two variables. It allows us to know if two variables evolve in the same direction (positive correlation), or in the opposite direction (negative correlation), or they are independent (no correlation). \n",
    "\n",
    "> Note that even though a covariance value or correlatation coefficient may have a value of 0, this does not mean that there is no relationship at all - this only means that there is no _linear_ relationship between the two variables at hand.\n",
    "\n",
    "Correlation standardizes covariance on a scale of -1 to 1 by dividing the covariance by the standard deviation. In this course, we use **Pearson's correlation coefficient** which is calculated via the following formula:"
   ]
  },
  {
   "cell_type": "markdown",
   "id": "ecddbd55-b27c-4f78-8423-11483119630e",
   "metadata": {},
   "source": [
    "$$ r_{x,y} = \\frac{\\sum_{i=0}^{n} (x_i - \\overline{x})(y_i - \\overline{y})}{\\sqrt{\\sum_{i=0}^{n} (x_i - \\overline{x})^2 \\sum_{i=0}^{n}(y_i - \\overline{y})^2}}=\\frac{cov_{x,y}}{s_{x} s_{y}} $$"
   ]
  },
  {
   "cell_type": "markdown",
   "id": "ba828321-241b-49d2-8bbc-35f8dc3dc882",
   "metadata": {},
   "source": [
    "Once again, let's try to compute the correlation \"by hand\" using the formula."
   ]
  },
  {
   "cell_type": "code",
   "execution_count": null,
   "id": "7610465a-1533-487c-bac2-41f875006ce8",
   "metadata": {},
   "outputs": [],
   "source": [
    "numerator <- sum((x - mean(x))*(y - mean(y)))\n",
    "denominator <- sqrt(sum((x - mean(x))^2) * sum((y - mean(y))^2))\n",
    "numerator/denominator"
   ]
  },
  {
   "cell_type": "code",
   "execution_count": null,
   "id": "f0b10abf-c681-4fb3-a30b-5eea7e69d912",
   "metadata": {},
   "outputs": [],
   "source": [
    "numerator <- cov(x,y)\n",
    "denominator <- sd(x) * sd(y)\n",
    "numerator/denominator"
   ]
  },
  {
   "cell_type": "markdown",
   "id": "f07c8375-fe40-435e-b5f4-246b1057f88d",
   "metadata": {},
   "source": [
    "In R, we can use the `cor()` function to calculate the correlation between two variables"
   ]
  },
  {
   "cell_type": "code",
   "execution_count": null,
   "id": "b03d0c42-7c3b-45ea-ae1c-363f85202adc",
   "metadata": {},
   "outputs": [],
   "source": [
    "# Confirming the previous calculation\n",
    "cor(x,y)"
   ]
  },
  {
   "cell_type": "markdown",
   "id": "f10505f1-04c4-4e2c-967a-f3f77a99caa1",
   "metadata": {},
   "source": [
    "To calculate the correlation between the `wages` variable and `mrkinc` variable in the dataset:"
   ]
  },
  {
   "cell_type": "code",
   "execution_count": null,
   "id": "ae26b83f-894b-4295-b3e9-5cd22f307a06",
   "metadata": {},
   "outputs": [],
   "source": [
    "# cor() function requires use=\"complete.obs\" to remove NA entries\n",
    "cor(census_data$wages, census_data$mrkinc, use=\"complete.obs\") "
   ]
  },
  {
   "cell_type": "markdown",
   "id": "b7e3645e-a6e7-4871-8749-af4da65bf452",
   "metadata": {},
   "source": [
    "Now we have the number 0.8898687 $\\approx$ 0.89 as our correlation coefficient. What does it really mean? Let's start interpreting this number! First of all, a correlation coefficient ranges from -1 to 1, which tells us two things:\n",
    "\n",
    "1. The direction of the relationship between the 2 variables\n",
    "\n",
    "* A negative correlation coefficient implies that the two variables evolve in opposite directions, that is, if a variable increases the other decreases and vice versa. A positive correlation, on the other hand, implies that the two variables evolve in the same direction, that is, if one variable increases the other also increases and vice versa.\n",
    "\n",
    "2. The strength of the relationship between the 2 variables\n",
    "\n",
    "* The more extreme the correlation coefficient (the closer to -1 or 1), the stronger the relationship. The less extreme the correlation coefficient (the closer to 0), the weaker the relationship. Two variables are independent if the correlation coefficient is close to 0, that is, as one variable increases, there is no tendency in the other variable to either decrease or increase."
   ]
  },
  {
   "cell_type": "markdown",
   "id": "50104cb4-6374-426e-af30-013e85adecbf",
   "metadata": {},
   "source": [
    "> **Test your knowledge** \\\n",
    "True or False? The correlation can measure linear relationship but the covariance can't."
   ]
  },
  {
   "cell_type": "code",
   "execution_count": null,
   "id": "ec03c971-27f2-4a96-987a-aa57127dea86",
   "metadata": {},
   "outputs": [],
   "source": [
    "answer_5 <-  \"...\" # enter True or False\n",
    "\n",
    "test_5()"
   ]
  },
  {
   "cell_type": "markdown",
   "id": "95fd0741-c686-44f8-b439-e8924e47ac70",
   "metadata": {},
   "source": [
    "We can also easily visualize correlation by plotting scatter plot with a trend line via `ggplot()` function."
   ]
  },
  {
   "cell_type": "code",
   "execution_count": null,
   "id": "197c4c25-7f34-4382-931b-6c5e40dce175",
   "metadata": {},
   "outputs": [],
   "source": [
    "ggplot(census_data, aes(x = mrkinc, y = wages)) +\n",
    "       geom_point(shape = 1)"
   ]
  },
  {
   "cell_type": "markdown",
   "id": "fb032e0f-8841-4fed-bb55-819831d6e822",
   "metadata": {},
   "source": [
    "Adding a trend line to the scatter plot helps us interpret the directionality of two variables. We can do it via the `geom_smooth()` function by including the `method=lm` argument, which displays scatterplot patterns in the presence of overplotting. You will learn more about how trend lines are mathematically formulated in advanced econometrics classes."
   ]
  },
  {
   "cell_type": "code",
   "execution_count": null,
   "id": "86269c59-3326-44ad-ba66-c3a9d358c9a1",
   "metadata": {},
   "outputs": [],
   "source": [
    "ggplot(census_data, aes(x = mrkinc, y = wages)) +\n",
    "  geom_point(shape = 1) +\n",
    "  geom_smooth(method = lm)"
   ]
  },
  {
   "cell_type": "markdown",
   "id": "08d2e063-f43c-49b2-b899-7f78c5bc1b65",
   "metadata": {},
   "source": [
    "Now we can see the apparent positive correlation!"
   ]
  },
  {
   "cell_type": "markdown",
   "id": "852fb070-eb37-427b-a816-ec23a7ee87cb",
   "metadata": {},
   "source": [
    "<img src=\"media/correlation_examples.png\" alt=\"three scatter plots are shown demonstrating positive, negative and no correlation\"/>"
   ]
  },
  {
   "cell_type": "markdown",
   "id": "b4d16ff9-5e02-439a-8efb-0f9072f831b5",
   "metadata": {},
   "source": [
    "> **Try it yourself!** \\\n",
    "Brainstorm some real-world examples that best demonstrate the correlation relationships below. The first one is already done for you!\n",
    ">\n",
    "> * zero or near zero : the number of forks in your house vs the average rainfall where you live\n",
    ">* weak negative: _[your text here]_\n",
    ">* strong positive: _[your text here]_\n",
    ">* weak positive: _[your text here]_\n",
    ">* strong negative: _[your text here]_"
   ]
  },
  {
   "cell_type": "markdown",
   "id": "133efee7-7db3-4813-a2a6-d9e5a48292f0",
   "metadata": {
    "tags": []
   },
   "source": [
    "## Making Tables: Visualizing Results\n",
    "\n",
    "Tables can be a useful way to generate large lists of different statistics that are relevant to your analysis."
   ]
  },
  {
   "cell_type": "code",
   "execution_count": null,
   "id": "7cb4897a-bc54-4a49-b41d-7ec3defb7f69",
   "metadata": {},
   "outputs": [],
   "source": [
    "census_data <- census_data %>% drop_na(wages)"
   ]
  },
  {
   "cell_type": "code",
   "execution_count": null,
   "id": "6798e358-5939-4874-9c19-e24378bd100a",
   "metadata": {},
   "outputs": [],
   "source": [
    "table2 <- census_data %>%\n",
    "          group_by(immstat) %>%  # we're intereseted in calculating different statistics based on immigration status (1 or 2: 1 = immigrant, 2 = non-immigrant)\n",
    "          summarize(avg_wage = mean(wages),  # this will calulate all statistics two times, once for each group\n",
    "          sd_wage = sd(wages),\n",
    "          median_wage = quantile(wages,0.5),\n",
    "          r_wm = cor(wages, mrkinc))\n",
    "\n",
    "table2"
   ]
  },
  {
   "cell_type": "markdown",
   "id": "7c690f12-b180-4f69-9af9-e7e3e77fffbb",
   "metadata": {},
   "source": [
    "> **A Note on Reshaping Tables** \\\n",
    "These tables can be tough to read.  Fortunately, R has a nice set of reshaping commands which allow you to reorganize these tables: \\\n",
    "```pivot_wider```: turn selected row-values into columns (usually what you want to do)  \n",
    "```pivot_longer```: turn selected columns into rows\n",
    "\n",
    "You do this by specifying what the new names and rows should looks like.  Here's an example, using the above table:"
   ]
  },
  {
   "cell_type": "code",
   "execution_count": null,
   "id": "e254c1ff-6a96-45ba-b4be-377ec16965f9",
   "metadata": {},
   "outputs": [],
   "source": [
    "pivot_wider(table2, \n",
    "            names_from = c(immstat),\n",
    "            values_from = c(avg_wage, sd_wage, median_wage, r_wm),\n",
    "            names_sep = \".\") #the divider for new variable names"
   ]
  },
  {
   "cell_type": "markdown",
   "id": "deffdd32-4e60-46d6-b752-ba764216e621",
   "metadata": {},
   "source": [
    "## Practice Exercises"
   ]
  },
  {
   "cell_type": "markdown",
   "id": "7456d3c5-96ab-4d63-9961-024b5caf74ae",
   "metadata": {},
   "source": [
    "#### Exercise 1"
   ]
  },
  {
   "cell_type": "markdown",
   "id": "7c7dd6b4-8a15-4945-b326-1daced476329",
   "metadata": {},
   "source": [
    "Suppose the weights of packages(in lbs) at a particular post office are recorded as below. Assuming the weights follow a normal distribution."
   ]
  },
  {
   "cell_type": "code",
   "execution_count": null,
   "id": "dd3ad2df-a69b-4a32-ae6c-ea448f11d960",
   "metadata": {},
   "outputs": [],
   "source": [
    "package_data <- c(95, 130, 148, 183, 100, 98, 137, 110, 188, 166)"
   ]
  },
  {
   "cell_type": "code",
   "execution_count": null,
   "id": "5caa9800-e002-494d-a53c-775d5cb09765",
   "metadata": {},
   "outputs": [],
   "source": [
    "# calculate the mean, standard deviation and variance of the weights of packages\n",
    "# round all answers to 2 decimal places\n",
    "\n",
    "answer_1 <- # enter your answer here for mean\n",
    "answer_2 <- # enter your answer here for standard deviation \n",
    "answer_3 <- # enter your answer here for variance\n",
    "\n",
    "test_1()\n",
    "test_2()\n",
    "test_3()"
   ]
  },
  {
   "cell_type": "markdown",
   "id": "32bf2f56-306f-4b02-814d-da2800961eb3",
   "metadata": {},
   "source": [
    "#### Exercise 2"
   ]
  },
  {
   "cell_type": "markdown",
   "id": "979a497b-e31d-4b66-9c67-2af2d4ed2e31",
   "metadata": {},
   "source": [
    "Use the example above to answer: 68% of packages at the post office weigh how much?\n",
    "* A - 68% of packages weigh between 65.30 and 150.70 lbs\n",
    "* B - 68% of packages weigh between 100.40 and 170.60 lbs\n",
    "* C - 68% of packages weigh between 120.40 and 150.60 lbs\n",
    "* D - 68% of packages weigh between 80.56 and 120.60 lbs"
   ]
  },
  {
   "cell_type": "code",
   "execution_count": null,
   "id": "fb2b3c5b-9f5a-418e-beb2-fb9156fbdc03",
   "metadata": {},
   "outputs": [],
   "source": [
    "answer_4 <- \"...\"    # enter your choice here (ex, \"F\")\n",
    "\n",
    "test_4()"
   ]
  }
 ],
 "metadata": {
  "kernelspec": {
   "display_name": "R",
   "language": "R",
   "name": "ir"
  },
  "language_info": {
   "codemirror_mode": "r",
   "file_extension": ".r",
   "mimetype": "text/x-r-source",
   "name": "R",
   "pygments_lexer": "r",
   "version": "4.1.3"
  }
 },
 "nbformat": 4,
 "nbformat_minor": 5
}
