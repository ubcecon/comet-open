{
 "cells": [
  {
   "cell_type": "markdown",
   "id": "d62a3d07-60cb-4d67-a1e1-958ce3a90e17",
   "metadata": {
    "tags": []
   },
   "source": [
    "# ECON 325: Hypothesis Testing\n",
    "\n",
    "* **Authors**: COMET Team (Oliver (Junye) Xu, Colby Chambers, Jonathan Graves)\n",
    "* **Last Update**: Date \n",
    "\n",
    "## Outline\n",
    "### Prerequisites\n",
    "\n",
    "* Introduction to Jupyter\n",
    "* Introduction to R\n",
    "* Introduction to Visualization\n",
    "* Central Tendency\n",
    "* Distribution\n",
    "* Dispersion and Dependence\n",
    "* Confidence Intervals\n",
    "\n",
    "\n",
    "### Outcomes\n",
    "\n",
    "After completing this notebook, you will be able to:\n",
    "\n",
    "* Set up hypotheses to address a research question\n",
    "* Conduct 1-sample and 2-sample $t$-tests to address these questions in the context of population means\n",
    "* Use the critical value and $p$-value approaches to determine whether or not to reject a null hypothesis\n",
    "* Interpret type I and type II errors in order to explore how sample and population statistics relate\n",
    "\n",
    "## Introduction\n",
    "\n",
    "In the previous notebook, we covered a fundamental tool in statistics: _confidence intervals_. In this notebook, we will build on this knowledge and learn about an important inference technique, perhaps one of the most important concepts in elementary statistics: **hypothesis testing**. \n",
    "\n",
    "Hypothesis testing allows us to test precise statements about data, using a straight-forward process. \n",
    "\n",
    "1.  We first create a hypothesis about some phenomenon (i.e. the relationship between two variables in our dataset).\n",
    "2.  We then select a test to determine whether the sample data gives us credible reason to reject this initial hypothesis. \n",
    "3. Finally, we conduct our test and draw conclusions about the validity of our hypothesis.\n",
    "\n",
    "This is a very high-level summary of hypothesis testing: we will dive into the concept in much more detail throughout this notebook; along the way, we will rely on some helpful built-in functions in R to make this process more convenient.\n",
    "\n",
    "However, as you go through this notebook, pay careful attention to not just the mechanics but also the **logic** of hypothesis testing. This is perhaps the single most important concept in introductory econometrics, so a careful understanding of this material will serve you well in future courses and beyond. Let's get started!"
   ]
  },
  {
   "cell_type": "code",
   "execution_count": null,
   "id": "12206645-d01d-400e-8f90-7060c56d79f3",
   "metadata": {},
   "outputs": [],
   "source": [
    "#loading tests\n",
    "source(\"testing_hypothesis_testing.r\")\n",
    "\n",
    "# importing packages\n",
    "library(tidyverse)\n",
    "library(haven)\n",
    "\n",
    "# reading in the data\n",
    "census_data <- read_dta(\"01_census2016.dta\")\n",
    "census_data <- filter(census_data, !is.na(census_data$wages))"
   ]
  },
  {
   "cell_type": "markdown",
   "id": "57f7055f-c9e3-461b-ae4e-3c5eb537cdff",
   "metadata": {},
   "source": [
    "## The Hypothesis Testing Procedure\n"
   ]
  },
  {
   "cell_type": "markdown",
   "id": "6458ba83-0c9b-4bf3-a59a-82488ac94b5c",
   "metadata": {},
   "source": [
    "A hypothesis test always involves two hypotheses: the **null hypothesis** and the **alternative hypothesis**. The null hypothesis (${H_0}$) expresses a \"default\" claim which is to be tested, while the alternative hypothesis (${H_1}$) expresses the contrary to the null hypothesis. Typically, our alternative hypothesis expresses what we may hope to prove about our data. \n",
    "\n",
    "> **Example**: Perhaps we suspect that the mean wage of Canadian men greater than $50,000 per year. As a default claim, we will assert the null hypothesis that the mean wage of Canadian men less than or equal to 50,000. Our alternative hypothesis will then express that the mean wage of Canadian men greater than 50,000. If we find sufficient evidence in the data to reject the null hypothesis, we can argue with a certain degree of certainty that we should favour this alternative hypothesis. If we don't find this strong evidence, we fail to reject the null hypothesis (and our suspicious is probably false).\n",
    "\n",
    "To determine whether reject the null hypothesis in favour of the altnerative hypothesis, we need two key features:\n",
    "\n",
    "1. A **significance level** (denoted by $\\alpha$) which is the probability which determines the criterion for deciding if a sample statistic is \"unlikely\" if the null hypothesis is true.\n",
    "2. A **test statistic** which is number we calculate from our data: this is usually which is a function of various features of that data such as its mean, standard deviation, and sample size.  \n",
    "\n",
    "Together, these two figures provide the criterion under which we can accept or reject our null hypothesis.   However, implementing these takes open more decision: the approach.\n",
    "\n",
    "There are two common approaches we can use when testing a hypothesis: the **critical value approach (rejection region)** and **$p$-value approach**.  Both have their uses, and we will demonstrate both in this notebook.  They also have a series of steps, some of which they share in common.\n",
    "\n",
    "## Steps in Hypothesis Testing\n",
    "\n",
    "Let's now concretely explore the steps in both approaches. Steps 1-3 apply identically to _both_ the critical value and $p$-value approaches, and are always followed. Step 4, the interpretation step, diverges between the two approaches.\n",
    "\n",
    "We will start with one important type of test: the **one sample $t$-test**.   This kind of test is used to evaluate statements about whether the population average is equal to a particular value - for instance, if our example above with average wages being greater than $50,000.  This test is appropriate in situations where:\n",
    "\n",
    "1.  The statistic is **normally distributed**: in the case of the sample mean, when  $n > 120$, invoking the Central Limit Theorem for normality, \n",
    "2.  We **don't know the population standard deviation** of the variable we are testing. \n",
    "\n",
    "This is very similar to when we constructed confidence intervals for a sample mean when we didn't know the population standard deviation in the previous notebook. While a common type of test, this is just one of many possibilities for constructing a hypothesis test; however, we will use it as our example for brevity's sake as we go through the general hypothesis testing procedure. For a list of possible hypothesis testing set-ups, \n",
    "\n",
    "> **Tip**: Wikipedia actually has quite a useful article containing a chart of [Common Hypothesis Tests](https://en.wikipedia.org/wiki/Test_statistic) for different kinds of statistics."
   ]
  },
  {
   "cell_type": "markdown",
   "id": "28c05168-2fff-4ddf-86f4-e9d4273f7747",
   "metadata": {},
   "source": [
    "### Our Example\n",
    "\n",
    "Let's work with our Census data, and suppose that our census data represents the **entire Canadian population** and we have no prior knowledge of it. That is, pretend we do not observe any population values from our census data, just like in real life where it is impossible to observe population parameters! We will then randomly select a sample of observations from our census data (the population) to represent our sample. We can then test to see if the average wage in our sample data to the hypothesized average wage of the population as a whole. Let's draw a random sample first!"
   ]
  },
  {
   "cell_type": "code",
   "execution_count": null,
   "id": "4025ff4e-cdfd-4186-a7ae-c12e302107c7",
   "metadata": {},
   "outputs": [],
   "source": [
    "set.seed(123) #ensures the reproducibility of our code \n",
    "#(we get the same sample if we start with that same seed each time you run the same process)\n",
    "\n",
    "sample_data <- census_data %>% \n",
    "               slice_sample(n = 100,  #number of observations to sample from the population\n",
    "               replace = FALSE) #without replacement"
   ]
  },
  {
   "cell_type": "markdown",
   "id": "4c9213f2-fe0c-4e24-9d18-b0362ff68e31",
   "metadata": {
    "tags": []
   },
   "source": [
    "### Step 1: State the Null Hypothesis and Alternative Hypothesis\n",
    "\n",
    "The null hypothesis that a population mean wage $\\mu^{wage}$ is equal to a certain value $\\mu_{0}$ is:\n",
    "\n",
    "$$ {H_0}: \\mu^{wage} = \\mu_{0}$$\n",
    "\n",
    "At this point, we have 3 choices for how to formulate our alternative hypothesis:\n",
    "\n",
    "1. **Two-Sided Test**: If we want the rejection of the null hypothesis to allow us to argue that $\\mu^{wage}$ is different from the specific value $\\mu_{0}$, then we can express our alternative hypothesis as:\n",
    "\n",
    "$$ {H_1}: \\mu^{wage} \\neq \\mu_{0}$$\n",
    "\n",
    "2. **One-Sided Test (Left-Tailed)**: If we want the rejection of the null hypothesis to allow us to argue that $\\mu^{wage}$ is less than the specific value $\\mu_{0}$, then we can express our alternative hypothesis as:\n",
    "\n",
    "$$ {H_1}: \\mu^{wage} < \\mu_{0}$$\n",
    "\n",
    "3. **One-Sided Test (Right-Tailed)**: If we want the rejection of the null hypothesis to allow us to argue that $\\mu^{wage}$ is greater than the specific value $\\mu_{0}$, then we can express our alternative hypothesis as:\n",
    "\n",
    "$$ {H_1}: \\mu^{wage} > \\mu_{0}$$\n",
    "\n",
    "In all of these hypotheses, and for hypotheses in general, it is important to remember that we construct our hypotheses about *population parameters*, not sample statistics. This is because the purpose of the hypothesis testing procedure is for us to make inferences about a population. When we collect a sample, we can immediately calculate its sample mean, variance or other features. There is thus no use to construct hypotheses about these parameters! Further, while the example above considers hypotheses about a population mean, we can make hypotheses about a population variance, proportion, or various other parameters of interest. The population mean is just the default we are considering since we are focusing our attention on the one-sample $t$-test for now. \n",
    "\n",
    "Let's suppose that we assume from the literature on labour market earnings that we assume the null hypothesis that the mean wage of Canadians is $54,000 per year. We will set this up against a two-sided alternative, since this is a more stringent alternative hypothesis and requires us to have more certainty in our results in order to reject the null (as explained above).\n",
    "\n",
    "$$H_{0}: \\mu = 54000$$\n",
    "$$H_{1}: \\mu \\neq 54000$$"
   ]
  },
  {
   "cell_type": "markdown",
   "id": "f00392ba-2338-4824-99e1-0c43d06072c1",
   "metadata": {},
   "source": [
    "#### Exercise\n",
    "Suppose that you are investigating the mean years of education among all citizens in a country who are over the age of 18. Let's say you want to find support for the idea that the mean years of education among adults in this country equals 12, indicating that the average years of schooling accumulated per person amounts to some degree of post-secondary education. Think about how would you set up your null hypothesis. Which of the following is *NOT* a correct alternative hypothesis?\n",
    "\n",
    "1. $$ {H_1}: \\mu^{education} \\neq  12 $$\n",
    "2. $$ {H_1}: \\mu^{education} \\leq  12 $$\n",
    "3. $$ {H_1}: \\mu^{education} > 12 $$"
   ]
  },
  {
   "cell_type": "code",
   "execution_count": null,
   "id": "21d7cd86-a2c4-419b-b58a-8d7ed51d4f21",
   "metadata": {},
   "outputs": [],
   "source": [
    "answer_0 <-  # place your answer of either 1, 2 or 3 here\n",
    "test_0()"
   ]
  },
  {
   "cell_type": "markdown",
   "id": "2eab19ad-d7db-4c20-af60-bb6049651ccf",
   "metadata": {
    "tags": []
   },
   "source": [
    "### Step 2: Choose a Significance Level $\\alpha$\n",
    "Before any calculation of test statistics, we must choose a significance level. As a reminder, this is the probability of seeing a sample statistic as least as extreme as the one we find from our data when we assume that our null hypothesis is actually true. We most commonly set our significance level at 0.05, or 5%, but other common values include 1%, 10% and even 20%. You will understand the importance of this number more when we reach the interpretation stage. \n",
    "\n",
    "> **Tip**: Remember in the previous notebook on confidence intervals that the confidence level is denoted as $1 - \\alpha$? Here, $\\alpha$ itself is the significance level, meaning that the confidence level and significance level add up to 1. It is important not to use these two terms interchangeably!"
   ]
  },
  {
   "cell_type": "markdown",
   "id": "6f0453aa-c84d-4812-9b06-273f4df88c1a",
   "metadata": {},
   "source": [
    "We will choose our confidence level to be 5% since this is a common standard in applied economic work:\n",
    "\n",
    "$$ \\alpha = 0.05$$"
   ]
  },
  {
   "cell_type": "markdown",
   "id": "7629c100-4a80-4fd8-b651-5952eab84c73",
   "metadata": {},
   "source": [
    "### Step 3: Compute the Test Statistic\n",
    "This is the most mathematical step, requiring some calculation. Our **test statistic** gives us a numeric benchmark at which we can reject our null hypothesis in Step 4. Calculating the test statistic is quick, but it is important to understand the intuition behind it and how it is derived. \n",
    "\n",
    "Any for the one-sample $t$-test, when we calculate our test statistic, we use the following approach.:\n",
    "1. We take our sample statistic...\n",
    "2. ...subtract it from the mean of our sampling distribution\n",
    "3. ... then divide that all by the standard deviation of our sampling distribution. \n",
    "\n",
    "In general, this process will differ slightly depending on the situation we find ourselves in. The type of parameter we are making inferences about, as well as our sample size and the shape of our population distribution, will all play important roles in determining how exactly we calculate the mean and standard deviation of our desired sampling distribution; however, the general process outlined above will always hold for calculating a test statistic.\n",
    "\n",
    "As noted, we will look below at calculating the test statistic for one cases: one sample $t$-tests."
   ]
  },
  {
   "cell_type": "markdown",
   "id": "b290996c-c798-404d-a1b1-d39770e74d54",
   "metadata": {},
   "source": [
    "Since we don't know the standard deviation of our population but do know that the distribution of our sampling statistic is normal (since the sample size is > 30), we calculate our test statistic using the following **one sample $t$-statistic**:"
   ]
  },
  {
   "cell_type": "markdown",
   "id": "8094386c-85ba-48d0-b238-7427785832ee",
   "metadata": {},
   "source": [
    "> $$\\frac{\\bar x - \\mu_{0}}{(s / \\sqrt n)}$$ <br>\n",
    "where $\\bar x$ is the sample mean we have found, $\\mu_{0}$ is the population mean we are assuming to be true under the null hypothesis $H_{0} : \\mu = \\mu_{0}$, $s$ is the sample standard deviation and $n$ is the sample size."
   ]
  },
  {
   "cell_type": "markdown",
   "id": "84929ba7-a932-45d6-8814-26dc6a76e973",
   "metadata": {},
   "source": [
    "Again, the test statistic will be calculated using many different formulas, depending on the test being performed, what we know about it, the size of our sample, and whether our hypothesis is about a population mean, proportion, or variance."
   ]
  },
  {
   "cell_type": "code",
   "execution_count": null,
   "id": "cfed4452-c616-4f1d-803f-b45b6aef450d",
   "metadata": {},
   "outputs": [],
   "source": [
    "# Compute the t-statistic/criticle value for the one sample t-test\n",
    "t_stat <- (mean(sample_data$wages) - 54000)/(sd(sample_data$wages)/sqrt(100))\n",
    "t_stat"
   ]
  },
  {
   "cell_type": "markdown",
   "id": "a83af4fd-ad52-4915-9e15-a350f9964b4b",
   "metadata": {},
   "source": [
    "### Step 4: Interpret the Results\n",
    "This the final step of our hypothesis testing. It allows us to conclusively reject or fail to reject the null hypothesis we have set up. Importantly, this is the first step in the hypothesis testing process that allows to choose one of a couple of methods to arrive at the same answer. We can either use the critical value approach or $p$-value approach. Let's look at each of them individually.\n",
    "\n",
    "#### The Critical Value (or Rejection Region) Approach:\n",
    "\n",
    "In this approach, we compare our calculated test statistic to a **critical value** (or values) corresponding to our chosen significance level.  The critical value serves as the cutoff point beyond which we reject our null hypothesis.   This means that if our calculated test statistic is more extreme than the critical value (situated more within the tail of the investigated distribution), we reject our null hypothesis. If the test statistic is instead within these bounds, we fail to reject our null hypothesis. \n",
    "\n",
    "How are critical values computed?  Depending on our test, we determine a critical value by figure what values of statistics have an $\\alpha$-percent chance of being more extreme than the critical value.  These values are called the **rejection region** and it is specific to the test.  The diagrams below should help to make the process more clear.\n"
   ]
  },
  {
   "cell_type": "code",
   "execution_count": null,
   "id": "bc3a5af3-14e2-47c7-b394-b6eabea915a3",
   "metadata": {},
   "outputs": [],
   "source": [
    "# alt text for accessibility\n",
    "alt_text <- \"A plot visualizing the left-tailed rejection region in a probability distribution curve.\"\n",
    "\n",
    "draw_cr(\"left-tailed\", df = 30, cv = -2)\n",
    "mtext(alt_text, side=3, line=2.75, cex=1.1)"
   ]
  },
  {
   "cell_type": "markdown",
   "id": "c0f2dd54-0439-4635-a59e-db39e0bb9dd8",
   "metadata": {},
   "source": [
    "In this one-sided test, our null hypothesis that $\\mu \\leq\\mu_0$, and the alternative is that $\\mu > \\mu_0$.  The value which had an $\\alpha$-percent of lying above is the critical value, and the red region is the rejection region. The first diagram shows us where we can reject a null hypothesis such as $H_{0}:\\mu = \\mu_{0}$ in favour of the alternative hypothesis $H_{1}:\\mu < \\mu_{0}$\""
   ]
  },
  {
   "cell_type": "code",
   "execution_count": null,
   "id": "27e1d520-1cd7-436a-9ac0-383ae6901922",
   "metadata": {},
   "outputs": [],
   "source": [
    "# alt text for accessibility\n",
    "alt_text <- \"A plot visualizing the right-tailed rejection region in a probability distribution curve.\"\n",
    "\n",
    "draw_cr(\"right-tailed\", df = 30, cv = 2)\n",
    "mtext(alt_text, side=3, line=2.75, cex=1.1)"
   ]
  },
  {
   "cell_type": "markdown",
   "id": "5c0cdc73-7f91-4065-8017-118f775fddc5",
   "metadata": {},
   "source": [
    "This second diagram shows us where we can reject a null hypothesis such as $H_{0}:\\mu = \\mu_{0}$ in favour of the alternative hypothesis $H_{1}:\\mu > \\mu_{0}$. In either case, the red region is our rejection region. If our calculated test statistic falls in this region, it is \"more extreme\" than the critical value corresponding to our chosen significance level. This signals to us that we can can reject the null hypothesis in favour of the alternative hypothesis. If our calculated test statistic falls within the white region, we fail to reject our null."
   ]
  },
  {
   "cell_type": "code",
   "execution_count": null,
   "id": "78e1b1cb-d7a7-476b-9d34-44d0d73b1b7d",
   "metadata": {},
   "outputs": [],
   "source": [
    "# alt text for accessibility\n",
    "alt_text <- \"A plot visualizing the two-tailed rejection region in a probability distribution curve\"\n",
    "\n",
    "draw_cr(\"two-tailed\", df = 30, cv = 2)\n",
    "mtext(alt_text, side=3, line=2.75, cex=1.1)"
   ]
  },
  {
   "cell_type": "markdown",
   "id": "eecd083c-1566-4729-a0d3-4fdf05c215c5",
   "metadata": {},
   "source": [
    "The above third diagram, on the other hand, shows us how to use the critical value approach to choose whether or not to reject a null hypothesis for a two-sided test. There are now two red regions for this type of test, indicative of the fact that our alternative hypothesis is now $H_{1}: \\mu \\neq \\mu_{0}$. Again, if our calculated test statistic falls within either of these rejection regions, we reject our null hypothesis. If it falls within the white region, we fail to reject our null. Pay attention to the fact that in all three cases, the area of the total red region equals $\\alpha$, our chosen significance level. \n",
    "\n",
    "However, for the two-sided test, this area is split up. Considering that our test statistic will deterministically fall near (or in) either the left-hand rejection region or right-hand region, the probability that it falls within that specific region itself is now half as likely as it was for the one-sided tests (the probability is now $\\alpha / 2$). In this sense, the two-sided test is more conservative. It is less likely for our calculated test statistic to fall inside the rejection region and allow us to reject our null hypothesis."
   ]
  },
  {
   "cell_type": "code",
   "execution_count": null,
   "id": "6801e0e1-88f6-431a-9ae3-6a9280a9df98",
   "metadata": {},
   "outputs": [],
   "source": [
    "# examples of how to compute critical values for different types of test\n",
    "# suppose the significance level is 0.05\n",
    "\n",
    "# finding the lower and upper critical values for a two-sided test\n",
    "qt(p=0.025, df=8, lower.tail=TRUE)\n",
    "qt(p=0.025, df=8, lower.tail=FALSE)\n",
    "\n",
    "# finding the critical value for a left-sided test\n",
    "qt(p=0.05, df=8, lower.tail=TRUE)\n",
    "\n",
    "# finding the critical value for a right-sided test\n",
    "qt(p=0.05, df=8, lower.tail=FALSE)"
   ]
  },
  {
   "cell_type": "markdown",
   "id": "cc6834f5-4562-4511-87bd-531cd4a32bbb",
   "metadata": {},
   "source": [
    "Let's compute the rejection regions for our sample data:"
   ]
  },
  {
   "cell_type": "code",
   "execution_count": null,
   "id": "04924c56-2a71-43ad-a550-5a00d412945b",
   "metadata": {},
   "outputs": [],
   "source": [
    "# finding the lower and upper critical values for our sample data\n",
    "qt(p=0.025, df=99, lower.tail=TRUE)\n",
    "qt(p=0.025, df=99, lower.tail=FALSE)"
   ]
  },
  {
   "cell_type": "markdown",
   "id": "e1594e71-2a24-4cce-bad0-78414be4c84e",
   "metadata": {},
   "source": [
    "We can see from the above that our test statistic of about 0.72 fits nicely within the upper and lower bound critical values of -1.98 and 1.98. Thus, again, it is very likely we see the sample statistic we have actually found conditioned on the null hypothesis being true. We thus do not have strong evidence to reject the null hypothesis. Further, we say that our sample mean is not **statistically significant**. Statistically significant results are those which we find upon rejecting the null hypothesis."
   ]
  },
  {
   "cell_type": "markdown",
   "id": "20ec6762-a2b4-4a5e-948b-721be0ce9320",
   "metadata": {
    "tags": []
   },
   "source": [
    "#### The $p$-value Approach:\n",
    "\n",
    "In this approach, we again use our test statistic to make inferences about our population. However, we no longer rely on the diagrams above. In this approach, we instead calculate what is called a **$p$-value**. The $p$-value is the probability of observing a value at least as extreme as the test statistic if ${H_0}$ is true. Small $p$-values provide evidence to reject null hypothesis, since they mean the observed data is not likely if the hypothesis was true. The smaller the $p$-value, the stronger is the evidence against the null hypothesis.\n",
    "\n",
    "Formally, if the $p$-value is less than or equal to our significance level $\\alpha$, the null hypothesis is rejected; otherwise, the null hypothesis is not rejected. \n",
    "\n",
    "To find the $p$-value associated with a t-score in R, we can use the `pt()` function:"
   ]
  },
  {
   "cell_type": "code",
   "execution_count": null,
   "id": "ce2e9c66-fa09-4445-aac8-feeb19565dd5",
   "metadata": {},
   "outputs": [],
   "source": [
    "# examples of how to compute p values for different types of test\n",
    "\n",
    "# If the t-score/critical value is 1.8 for a right-tailed test\n",
    "# find p-value if the degrees of freedom is 30\n",
    "pt(q=1.8, df=30, lower.tail=FALSE)\n",
    "\n",
    "# If the t-score/criticle value is 1.8 for a two-tailed test\n",
    "#find two-tailed p-value if the degrees of freedom is 30\n",
    "2*pt(q=1.8, df=30, lower.tail=FALSE)"
   ]
  },
  {
   "cell_type": "markdown",
   "id": "e7bd2fa2-62df-4d09-aa6b-2ad93885bb5f",
   "metadata": {},
   "source": [
    "Let's compute the *p*-value for our sample data:"
   ]
  },
  {
   "cell_type": "code",
   "execution_count": null,
   "id": "7a5d6f72-216b-4e42-b90e-523fe9edba9b",
   "metadata": {},
   "outputs": [],
   "source": [
    "# Compute the p-value\n",
    "2*pt(q=t_stat, df=99, lower.tail=FALSE)"
   ]
  },
  {
   "cell_type": "markdown",
   "id": "3036ac05-2505-40e2-b8a8-357da81cec33",
   "metadata": {},
   "source": [
    "Our $p$-value is about 0.47, which is much larger than our confidence level of 0.05. This means that, assuming the null is true, it is very likely that we see a value as extreme as our sample mean. It is thus not bizarre to imagine pulling such a sample statistic when the null of 54000 is in fact true. This causes us to fail to reject the null hypothesis."
   ]
  },
  {
   "cell_type": "markdown",
   "id": "0acdb9fa-fa0d-4715-8a25-5c07b4b50cfc",
   "metadata": {},
   "source": [
    "#### Exercise\n",
    "Let's say that you choose a 5% significance level and conduct a one sample $t$-test (since you're testing a hypothesis about the mean of a single population for which you don't know the standard deviation). You receive a $p$-value of 0.02 and correctly reject your null hypothesis. Have you proved that your null hypothesis is false?"
   ]
  },
  {
   "cell_type": "code",
   "execution_count": null,
   "id": "170b54d2-0a95-49a2-ab9e-893d49e4dbee",
   "metadata": {},
   "outputs": [],
   "source": [
    "answer_1 <- \"x\" # your answer of \"yes\" or \"no\" in place of \"x\" here\n",
    "test_1()"
   ]
  },
  {
   "cell_type": "markdown",
   "id": "3dc98c56-df27-45c0-8a93-acc060e3af87",
   "metadata": {},
   "source": [
    "Let's now run through the hypothesis testing procedure more quickly with a few examples, but this time through an automation process with `t.test()`. It performs one and two sample t-tests on vectors of data."
   ]
  },
  {
   "cell_type": "markdown",
   "id": "afde44e8-21e8-49b1-bcdb-92a4c2203790",
   "metadata": {},
   "source": [
    "## Applications of the Procedure with the R function `t.test()`"
   ]
  },
  {
   "cell_type": "markdown",
   "id": "8472a343-6f00-4f11-9242-282f74e1b84e",
   "metadata": {},
   "source": [
    "## Example 1: One Sample $t$-test\n",
    "\n",
    "Recall from our previous example:\n",
    "\n",
    "$$H_{0}: \\mu = 54000$$\n",
    "$$H_{1}: \\mu \\neq 54000$$"
   ]
  },
  {
   "cell_type": "code",
   "execution_count": null,
   "id": "ca430067-2080-4d05-97c5-9ca1a1a53359",
   "metadata": {},
   "outputs": [],
   "source": [
    "# conduct one sample t-test\n",
    "t.test(x = sample_data$wages, mu = 54000, alternative = \"two.sided\", conf.level = 0.95)"
   ]
  },
  {
   "cell_type": "markdown",
   "id": "1c1b58b6-5f77-4d15-afa9-f59da1fa41f1",
   "metadata": {},
   "source": [
    "> Now we may go back and check if the t statistic and $p$-value here match with our manual calculation above. It matches!"
   ]
  },
  {
   "cell_type": "markdown",
   "id": "a2dec569-ee4e-4ab0-b784-cec8de3aad42",
   "metadata": {},
   "source": [
    "The `t.test()` function in R is super helpful in that it allows us to either reject or fail to reject the null hypothesis immediately. This is because it outputs a $p$-value and test statistic immediately. In our sample data, our large $p$-value and non-extreme test statistic prevent us from rejecting the null. If we received much different results (say a $p$-value < 0.05 or test statistic very large in magnitude), we would say that the probability of finding the sample mean we did under the null being true is incredibly unlikely. This sample mean would thus be a statistically significant result which we could try with a high degree of uncertainty, allowing us to reject the null in favour of the alternative hypothesis."
   ]
  },
  {
   "cell_type": "markdown",
   "id": "65f57c98-cf94-4e24-8412-114cb34a6668",
   "metadata": {},
   "source": [
    "> One final crucial point about the $p$-value. In this case, the $p$-value was about 0.47. This does not mean that the probability the null hypothesis is true is 47%. It instead means that, conditioning on the null hypothesis being true, the probability of seeing a sample mean at least as far away from 54000 is 47%. This is why we cannot reject the null and did not have statistically significant results. It is quite likely to pull a sample mean this large by chance under the given situation."
   ]
  },
  {
   "cell_type": "markdown",
   "id": "cca7e10f-068d-408c-b456-727f75945dca",
   "metadata": {},
   "source": [
    "## Example 2: Two Sample $t$-test\n",
    "Next let us look at the **two-sample $t$-test**. Unlike the one-sample $t$-test where we use a sample mean point estimate to test a hypothesis about a population mean, the two-sample $t$-test uses two sample means to test a hypothesis about the difference between two population means. More specifically, in this case, the two sample $t$-test will test whether the means of two independent populations differ from each another. We will specifically use the two sample unpooled $t$-test with unequal variances, which is used to tests hypotheses about the difference between population means when we know both populations are normally distributed (or the sum of their sample sizes exceeds 40, invoking normality), the observations are independent between the two groups (i.e. observations are not paired between populations), and we assumed that both population standard deviations, while unknown, are different. For this example, we will test the hypothesis that there is no difference between the mean wages of Canadians and Non-Canadians. We will set this up against a two-sided alternative.\n",
    "\n",
    "$$H_{0}: \\mu_{Canadian} = \\mu_{Non-Canadian}$$\n",
    "$$H_{1}: \\mu_{Canadian} \\neq \\mu_{Non-Canadian}$$\n",
    "\n",
    "We will again set our significance level at 5%.\n",
    "\n",
    "$$ \\alpha = 0.05$$\n",
    "\n",
    "Again, we will assume our census data represents our population and take two random samples from it, each of which will consistent exclusively of Canadians or Non-Canadians."
   ]
  },
  {
   "cell_type": "code",
   "execution_count": null,
   "id": "21f9cf4e-efa8-4602-b759-c64375a46aa8",
   "metadata": {},
   "outputs": [],
   "source": [
    "set.seed(123) #ensures the reproducibility of our code (we get the same sample if we start with that same seed each time you run the same process)\n",
    "\n",
    "\n",
    "sample_cad <- census_data %>% \n",
    "              filter(immstat == 1) %>% \n",
    "              slice_sample(n = 100,  #number of observations to sample from the population\n",
    "              replace = FALSE) #without replacement\n",
    "\n",
    "sample_noncad <- census_data %>% \n",
    "              filter(immstat == 2) %>% \n",
    "              slice_sample(n = 100,  #number of observations to sample from the population\n",
    "              replace = FALSE) #without replacement"
   ]
  },
  {
   "cell_type": "markdown",
   "id": "3505908f-dd0f-445f-a210-985d48ca4e52",
   "metadata": {},
   "source": [
    "For fun, let's look at our sample statistics."
   ]
  },
  {
   "cell_type": "code",
   "execution_count": null,
   "id": "aabc7ec7-47e6-4642-8a3f-9580bae3c39a",
   "metadata": {},
   "outputs": [],
   "source": [
    "mean(sample_cad$wages)\n",
    "mean(sample_noncad$wages)"
   ]
  },
  {
   "cell_type": "markdown",
   "id": "a9f688fb-d68c-4589-a061-d27fd69d2202",
   "metadata": {},
   "source": [
    "We can already see a large difference in mean wages between Canadians and Non-Canadians here. However, we will have to conduct our $t$-test to determine whether or not this difference is statistically significant and thus whether or not we can reject our null hypothesis."
   ]
  },
  {
   "cell_type": "code",
   "execution_count": null,
   "id": "772618b8-222a-4d41-a35e-e045e5221e67",
   "metadata": {},
   "outputs": [],
   "source": [
    "# conducting our two sample t-test\n",
    "t.test(x=sample_cad$wages, y=sample_noncad$wages, conf.level=0.95)"
   ]
  },
  {
   "cell_type": "markdown",
   "id": "b40139e9-8b9f-450a-a0f6-cdb6d6ea10ce",
   "metadata": {},
   "source": [
    "Our $t$-test yields a $p$-value of about 0.1478, greater than our significance level of 0.05. Thus, our result is not statistically significant and we can not reject our null hypothesis; however, this reveals nothing about why this is the case and does not control for any relevant factors. You will learn more about this in upcoming courses."
   ]
  },
  {
   "cell_type": "markdown",
   "id": "bb2fed98-bba1-4273-b72f-5a639025d653",
   "metadata": {},
   "source": [
    "We ran this $t$-test on two independent populations (Canadians and Non-Canadians). Alternatively, if we want to compare the means of dependent populations and test whether or not they are the same, we can employ the `y ~ x` option to our `t.test()` function. The variable on the left-hand side of the tilde (`~`) is the dependent variable, while the variables on the right-hand side is the independent variable (or variables). We also need to specify within the `t.test()` function arguments to the options `paired` and `var.equal`. Both of these are set to FALSE by default, but we can change one or both of them to TRUE if we believe that our two samples come in pairs (a specific case of dependent samples) or the variances of the two populations are equal."
   ]
  },
  {
   "cell_type": "markdown",
   "id": "88ea8143-edac-44fe-86b7-2b487990fe33",
   "metadata": {},
   "source": [
    "> **Note**: The dependent sample t-test is also called the paired sample t-test. A perfect example of two dependent samples would be before-treatment and after-treatment patient groups in medical research."
   ]
  },
  {
   "cell_type": "code",
   "execution_count": null,
   "id": "e1fc9eb4-5b78-4926-b8a6-1513e09afecb",
   "metadata": {},
   "outputs": [],
   "source": [
    "#Let's create some fake data to demonstrate paired sample t-test\n",
    "\n",
    "before <-c(200.1, 190.9, 192.7, 213, 241.4, 196.9, 172.2, 185.5, 205.2, 193.7)\n",
    "after <-c(392.9, 393.2, 345.1, 393, 434, 427.9, 422, 383.9, 392.3, 352.2)\n",
    "\n",
    "df <- data.frame( \n",
    "                group = rep(c(\"before\", \"after\"), each = 10),\n",
    "                weight = c(before,  after)\n",
    "                )\n",
    "\n",
    "t.test(weight ~ group, \n",
    "       data = df, \n",
    "       paired = TRUE,\n",
    "       conf.level=0.95)"
   ]
  },
  {
   "cell_type": "markdown",
   "id": "9279bccd-b12b-4e4c-b0a6-6cb8fcecebcd",
   "metadata": {},
   "source": [
    "#### Exercise\n",
    "Suppose you instead want to compare the mean earnings of those who have and have not graduated from high school. You determine that these are independent populations. Further, even though you don't know the population standard deviations of earnings in each group, you determine that these standard deviations must not be the same, arguing that there is a wider spread of earnings among those who graduated high school. For these reasons, you conduct an unpooled, unequal variances two sample $t$-test, the type of two sample $t$-test we explored earlier in our applications. You then set up the following hypotheses.\n",
    "\n",
    "$$H_{0}: \\mu_{graduated} = \\mu_{didn't \\ graduate}$$\n",
    "$$H_{1}: \\mu_{graduated} \\neq \\mu_{didn't \\ graduate}$$\n",
    "\n",
    "You then choose a significance level of 5%, the default level used. Suppose a friend instead sets up a one-sided alternative, namely that $\\mu_{graduated} > \\mu_{didn't \\ graduate}$.\n",
    "Assuming the null hypothesis, significance level, sample data and type of test used are identical for both you and your friend, who is more likely to receive statistically significant results?"
   ]
  },
  {
   "cell_type": "code",
   "execution_count": null,
   "id": "af03d437-beae-4026-bd05-e5f0a343b176",
   "metadata": {},
   "outputs": [],
   "source": [
    "answer_2 <- \"x\" # your answer for \"you\" or \"your friend\" in place of \"x\" here\n",
    "test_2()"
   ]
  },
  {
   "cell_type": "markdown",
   "id": "919526e7-481a-4e6d-99b5-5792a48a906a",
   "metadata": {},
   "source": [
    "Moving forward with your two-sided hypothesis test, you find a sample mean statistic of 60000 for those who graduated high school and 25000 for those who didn't graduate high school. You find for your chosen significance level and distribution of sample means for each population that the resulting test statistic in your test is 1.5, while the critical values from the student's t-distribution are -2 and 2 respectively. Should you reject the null hypothesis that there is no statistically significant difference between the mean earnings of each population?"
   ]
  },
  {
   "cell_type": "code",
   "execution_count": null,
   "id": "bd1c8373-3f11-46b1-874c-5902cf02e959",
   "metadata": {},
   "outputs": [],
   "source": [
    "answer_3 <- \"x\" # your answer for \"yes\" or \"no\" in place of \"x\" here\n",
    "\n",
    "test_3()"
   ]
  },
  {
   "cell_type": "markdown",
   "id": "aebdc3dd-5a8a-438c-ada5-5b2e3faaa694",
   "metadata": {},
   "source": [
    "## Applications of the Procedure with Pearson's Correlation Coefficient"
   ]
  },
  {
   "cell_type": "markdown",
   "id": "0fee5e39-4922-4591-b0d6-aa12fe7c44f6",
   "metadata": {},
   "source": [
    "## Pearson Correlation Test"
   ]
  },
  {
   "cell_type": "markdown",
   "id": "20a62a96-bf13-46a6-b002-d8a7a514b22b",
   "metadata": {},
   "source": [
    "Another parameter we can make hypotheses about is the correlation coefficient. We can use hypothesis testing to test inferences about the correlation between two variables by analyzing random samples. Let's do this with `wages` and `mrkinc`. Recall from the Dependence and Dispersion Notebook that two variables are highly positively correlated if their correlation coefficient is close to 1, while they are highly negatively correlated if it is close to -1. Let's suppose that we have reason to believe that `wages` and `mrkinc` are quite correlated (hence their correlation coefficient is not 0). To find support for this, we will set this up as an alternative hypothesis to be supported after rejecting the null hypothesis that there is no correlation. In this way, we have to work to reject our null hypothesis in order to find support for this belief. Let's set up the hypotheses below. \n",
    "\n",
    "$${H_0}: r = 0$$\n",
    "$${H_1}: r \\neq 0$$\n",
    "\n",
    "where $r$ is the population correlation coefficient between the wages and market income of Canadians. Let's further choose our significance level to be the default 5% (95% confidence level).\n",
    "\n",
    "$$\\alpha = 0.05$$\n",
    "\n",
    "Let's now look at our sample statistic (sample correlation coefficient) to shed some light on the number whose significance we will be testing in our hypothesis test."
   ]
  },
  {
   "cell_type": "code",
   "execution_count": null,
   "id": "d57a69d5-da55-4986-b306-3ed48168432e",
   "metadata": {},
   "outputs": [],
   "source": [
    "# finding the cor between wages and mrkinc, including use=\"complete.obs\" to remove NA entries\n",
    "cor(census_data$wages, census_data$mrkinc, use=\"complete.obs\")"
   ]
  },
  {
   "cell_type": "markdown",
   "id": "554a02ec-32b7-4562-aacd-83aad089b96a",
   "metadata": {},
   "source": [
    "This correlation coefficient appears to be quite different from 0, giving us some reason to believe we will likely be able to reject the null hypothesis in favour of our alternative hypothesis of some relationship between `wages` and `mrkinc` (in this case, a possibly very strongly positive relationship). However, there is always the small chance we happen to have pulled a sample with a strong correlation which does not otherwise exist. To guard against this error of a false positive, we will conduct a Pearson Correlation test. Luckily, instead of having to calculate a test statistic and then calculate critical values or a $p$-value, we can invoke the `cor.test()` function. "
   ]
  },
  {
   "cell_type": "code",
   "execution_count": null,
   "id": "987c199c-0ef0-45c2-b928-4e9534d29224",
   "metadata": {},
   "outputs": [],
   "source": [
    "# Pearson correlation test\n",
    "cor.test(census_data$wages, census_data$mrkinc, use=\"complete.obs\") "
   ]
  },
  {
   "cell_type": "markdown",
   "id": "8e30b602-b55b-4f8c-87b9-e32c279e293b",
   "metadata": {},
   "source": [
    "The correlation test yields an incredibly small $p$-value of 2.2e-16 < α = 0.05. Thus, we see that this correlation is statistically significant and reject the null hypothesis in favour of the alternative hypothesis that the true correlation coefficient is not zero."
   ]
  },
  {
   "cell_type": "markdown",
   "id": "d11afb83-84c5-4ef4-adc1-6fa393a1d6a3",
   "metadata": {
    "tags": []
   },
   "source": [
    "## Type I and Type II Errors\n"
   ]
  },
  {
   "cell_type": "markdown",
   "id": "0e515195-a415-4ed1-9ecd-f35460495f13",
   "metadata": {},
   "source": [
    "One thing that is crucial to remember is that our hypothesis test may not always be correct. While a hypothesis test provides strong evidence for us to reject or fail to reject a null hypothesis, it is not concrete. That is why we never say that we \"accept\" the null hypothesis, instead preferring to say that we \"fail to reject\" the null hypothesis when no strong evidence exists against it. Similarly, we never say that we \"accept\" the alternative hypothesis, only that we \"reject the null hypothesis in favour of the alternative hypothesis\". Neither hypothesis can conclusively be proven as true or false. Otherwise, we could calculate these parameters directly and there would be no need for constructing hypotheses about them! \n",
    "\n",
    "Due to this lack of concreteness, we may occasionally make incorrect decisions about rejecting or failing to reject a null hypothesis. These errors are  called **type I errors** and **type II errors**. A type I error occurs when we incorrectly reject a true null hypothesis, otherwise known as a \"false positive\". This can occur when we draw a sample statistic which appears incredibly unlikely under the null hypothesis and then falsely assume that means our null hypothesis is incorrect. In reality, that sample statistic could have just been an unlikely pull under a true null hypothesis. Type II errors, on the other hand, occur when we to fail to reject a false null hypothesis, otherwise known as a \"false negative\". This can occur when we pull a sample statistic which is seemingly reasonable under our null hypothesis and falsely assume that we cannot reject the null. In reality, that sample statistic could have just been an unlikely pull which would have otherwise encouraged us to reject the null. A helpful infographic illustrating these concepts is below."
   ]
  },
  {
   "cell_type": "markdown",
   "id": "bc479a68-4ae4-472d-98a5-30cb8e6c653a",
   "metadata": {},
   "source": [
    "The probability of making a type I error is denoted by $\\alpha$ and is the significance level of our test. Conversely, the probability of correctly failing to reject a true null hypothesis is $1 - \\alpha$. The probability of a type II error is denoted by $\\beta$, while the probability of correctly rejecting a false null hypothesis is $1 - \\beta$ and is known as the power of the test. A higher confidence level (corresponds to lower significance value) reduces the chances of getting a false positive and increases the chances of getting a false negative. In other words, for a fixed sample size, the smaller the $\\alpha$, the larger the $\\beta$. This indicates that there is a constant tradeoff betweeen making type I and II errors. As well, it is important to remember that we select our significance level and hence the probability of falsely rejecting a true null hypothesis before we even calculate our test statistic (it is Step 2). Conversely, we can never select for the probability of failing to reject a false null, $\\beta$. This probability instead emerges in the testing process."
   ]
  },
  {
   "cell_type": "markdown",
   "id": "3da82277-bd5a-47ac-9bbb-ee4a7703da1b",
   "metadata": {},
   "source": [
    "#### Exercise\n",
    "Suppose you choose a 5% significance level and conduct a one sample t-test with $p$-value of 0.02 and correctly reject the null hypothesis, but then concludes that the results are not statistically significant. What error have you made? "
   ]
  },
  {
   "cell_type": "code",
   "execution_count": null,
   "id": "83479e00-605f-4591-9faa-8c1147f3d0c4",
   "metadata": {},
   "outputs": [],
   "source": [
    "answer_4 <- \"x\" # your answer of \"type 1\" or \"type 2\" in place of \"x\" here\n",
    "test_4()"
   ]
  }
 ],
 "metadata": {
  "kernelspec": {
   "display_name": "R",
   "language": "R",
   "name": "ir"
  },
  "language_info": {
   "codemirror_mode": "r",
   "file_extension": ".r",
   "mimetype": "text/x-r-source",
   "name": "R",
   "pygments_lexer": "r",
   "version": "4.1.3"
  }
 },
 "nbformat": 4,
 "nbformat_minor": 5
}
