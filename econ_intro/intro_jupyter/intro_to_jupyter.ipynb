{
 "cells": [
  {
   "cell_type": "markdown",
   "id": "aa583078-9732-4628-aabd-12174f72a08c",
   "metadata": {},
   "source": [
    "# Introduction to JupyterNotebooks\n",
    "\n",
    "* **Authors**: COMET Team (Anneke Dresselhuis, Jonathan Graves)\n",
    "* **Last Update**: 10 August 2022\n",
    "---"
   ]
  },
  {
   "cell_type": "markdown",
   "id": "07a90a68-0ae1-4a68-8502-77dfc6b0ec49",
   "metadata": {},
   "source": [
    "## Outline\n",
    "\n",
    "### Prerequisites\n",
    "* None!\n",
    "\n",
    "### Outcomes\n",
    "\n",
    "This notebook is an introduction to JupyterNotebooks.  After completing this notebook, you will be able to:\n",
    "* Describe the structure of a JupyterNotebook and the role of different kinds of cells\n",
    "* Understand the relationship between a notebook, the editor, the kernel and output\n",
    "* Understand the directory structure of a JupyterHub and its relation to your notebook\n",
    "* Write, edit, and execute code in a JupyterNotebook\n",
    "* Write, edit, and view text in a Jupyter notebook\n",
    "* Develop basic troubleshooting skills to use when facing technical challenges with JupyterNotebooks \n",
    "* Export Jupyter notebooks to other standard file types (e.g., `.html`,  `.pdf`)"
   ]
  },
  {
   "cell_type": "markdown",
   "id": "d65ba709-b972-434e-bd9b-62460952bd3d",
   "metadata": {},
   "source": [
    "### Sources\n",
    "This notebook is informed by the following sources which are great tools to check out if you're interested in furthering your knowledge of Notebooks and Data Science best practices more broadly. \n",
    "\n",
    "* [Data Science: A First Introduction, _Chapter 11_](https://datasciencebook.ca/getting-started-with-jupyter.html)\n",
    "* [Jupyter Notebook Tutorial: The Definitive Guide](https://www.datacamp.com/tutorial/tutorial-jupyter-notebook)"
   ]
  },
  {
   "cell_type": "markdown",
   "id": "ec35704f-1cb4-4452-b266-bad0c59694b8",
   "metadata": {
    "tags": []
   },
   "source": [
    "## Working with Jupyter\n",
    "\n",
    "In this worksheet we’ll be learning about what **JupyterNotebooks** are and how they work. If you’re reading this, you’re already connected to a Notebook and are one step closer to becoming a Jupyter expert! Notebooks are easily accessed through **JupyterHub**, which is a web-based interactive integrated development environment (IDE) typically maintained by an organization or institution. These hubs often have different software and tools for collaboration preconfigured for students like you to use. Both JuptyerHub and JupyterNotebooks stem from **Jupyter**, which is a connected system of open-source tools designed to support interactive, web-based computing (<https://jupyter.org/>).\n",
    "\n",
    "In this Notebook, we will specifically be using **JupyterLab**; the classic interface is similar, but you may notice some labeling differences."
   ]
  },
  {
   "cell_type": "markdown",
   "id": "31541ba4-9023-425f-9dd1-039b1e5972f0",
   "metadata": {},
   "source": [
    "Throughout the COMET Jupyter Notebooks, we’ll bring together theoretical learning instruction, hands-on coding opportunities and automatic feedback to create a comprehensive learning environment. You’ll also notice sections like this:"
   ]
  },
  {
   "cell_type": "markdown",
   "id": "f6da9cdd-db51-4546-bab6-7ce4b0a9a9dd",
   "metadata": {
    "tags": [
     "sidebar"
    ]
   },
   "source": [
    "<span style=\"color:#CC7A00\" > **🔎 Let’s think critically** </span>\n",
    "> 🟠 Some critical questions or \\\n",
    "> 🟠 Context will go here!"
   ]
  },
  {
   "cell_type": "markdown",
   "id": "cff38430-9fe7-42c7-956e-58ccb9c6ad6e",
   "metadata": {},
   "source": [
    "These sections will invite you to pause and reflect on your learning through different lenses. We invite you to think about the series of critical questions or context presented 🔎 sections - bonus points if you also discuss with your peers! Happy learning!"
   ]
  },
  {
   "cell_type": "markdown",
   "id": "4736c939-69e5-43a9-8162-4aad2cee2253",
   "metadata": {
    "tags": []
   },
   "source": [
    "## Key Terms\n",
    "\n",
    "Below are a few key terms that define and contextualize components of the technical environment which Jupyter operates in. As you work through this notebook, try to identify the various (largely invisible) processes and infrastructures that enable you to read the contents of this notebook, run code cells and write text in the notebook, among other things. \n",
    "\n",
    "* An **Integrated Development Environment (IDE)** is a type of software application that can be used to work on coding tasks. JupyterHub is an IDE that works really well for collaborative econometric analyses because it contains various features that allow users to write, upload, co-develop and give feedback on files.\n",
    "* **Open source** is a copyright term which refers to a source code that is made freely available for modification and sharing. Jupyter and JupyterNotebooks are an example of an open source project because anyone can access the code and documentation used to make them.\n",
    "* **Cloud based** describes any computing services or resources that rely on the internet to function. If you are reading this notebook in a browser, for example, your device has used an internet protocol to request access to this notebook from the server that stores this notebook (the server said yes!)  \n",
    "* The **Client-server relationship** is the underlying relationship that allows the internet to exist as we know it. **Client** refers to the computer asking for information on the internet and **server** refers to the computer that responds to requests. \n",
    "* A **Kernel** is an execution environment which connects Notebooks with programming languages in order to allow code (written in R or Python, for example) to be executed in the Notebook. Clients (you) can send instructions to a kernel to perform operations on data.\n",
    "    > For example, when the operation $1+1$ is typed into a JupyterNotebook, the web browser (that you are viewing the notebook in) sends a request to the kernel (for this notebook, the _R_ kernel is being used) which computes the request and sends the answer back to your notebook, producing the result: $2$\n",
    "\n",
    "One final term to consider as you begin using notebooks for econometrics is **reproducibility**. Reproducibility is a core priority in empirical economics and data science. It means ensuring the creation of analyses that can reliably re-produce the same results when analyzing the same data at a later time; reproducibility is a key component of the scientific method. Notebooks allow us to write executable code, attach multimedia and leave meaningful text annotations and discussion throughout our analysis, all of which contribute to a reproducible and transparent data workflow."
   ]
  },
  {
   "cell_type": "markdown",
   "id": "a36767a5-8720-410f-84b7-27eb96906298",
   "metadata": {
    "tags": [
     "sidebar"
    ]
   },
   "source": [
    "<span style=\"color:#CC7A00\" > 🔎 **Let's think critically** </span>\n",
    "> 🟠 How might the two concepts of **open source** and **accessibility** be connected? \\\n",
    "> 🟠 Who might benefit from econometrics analyses that are **reproducible**? "
   ]
  },
  {
   "cell_type": "markdown",
   "id": "ecbc6538-39d6-4a70-bdf3-1aa72368d020",
   "metadata": {},
   "source": [
    "## The Lay of the Land \n",
    "\n",
    "### Cells\n",
    "Notebooks are composed of different types of **cells**. The most common types we will work with are **Code** and **Markdown** cells. \n",
    "\n",
    "Running a code cell can be done in a few different ways, but the most common are:\n",
    "* Selecting the cell you wish to run and pressing `Shift + Enter` on your keyboard\n",
    "* Selecting the cell you wish to run and clicking the **Run** button in the menu above the worksheet (this button looks like a standard \"play\" button)\n"
   ]
  },
  {
   "cell_type": "code",
   "execution_count": 1,
   "id": "a2bb9bbe-9984-4450-894d-a66871cd4486",
   "metadata": {},
   "outputs": [
    {
     "data": {
      "text/html": [
       "4"
      ],
      "text/latex": [
       "4"
      ],
      "text/markdown": [
       "4"
      ],
      "text/plain": [
       "[1] 4"
      ]
     },
     "metadata": {},
     "output_type": "display_data"
    }
   ],
   "source": [
    "# A Code cell looks like this and can execute computations! Press Shift+Enter to compute the operation.\n",
    "2 + 2"
   ]
  },
  {
   "cell_type": "markdown",
   "id": "4a5b410e-0c70-45de-9100-16c7eb561859",
   "metadata": {},
   "source": [
    "Do you see the answer appear below the cell?  Cells can include many things, including very complicated operations.  Try running the next cell:"
   ]
  },
  {
   "cell_type": "code",
   "execution_count": 2,
   "id": "c2e79e1a-4319-455b-93da-01971b12597d",
   "metadata": {},
   "outputs": [
    {
     "name": "stdout",
     "output_type": "stream",
     "text": [
      "[1] \"You did it! Way to go!\"\n"
     ]
    },
    {
     "name": "stderr",
     "output_type": "stream",
     "text": [
      "Warning message:\n",
      "“package ‘testthat’ was built under R version 4.1.3”\n"
     ]
    }
   ],
   "source": [
    "source(\"testing_intro_to_jupyter.r\")"
   ]
  },
  {
   "cell_type": "markdown",
   "id": "4765b972-be1a-4bf7-a286-d047ba52bdba",
   "metadata": {},
   "source": [
    "This cell executed a script called `testing_intro_to_jupyter.r` that, among other things, printed that text.  However, cells can contain things other than just code.  In fact, we've been reading cells all along!"
   ]
  },
  {
   "cell_type": "markdown",
   "id": "ce8aadf2-fc56-4517-b300-44d4de660b83",
   "metadata": {},
   "source": [
    "When you double click on this current cell, you can see what a **Markdown** cell looks like and how it can hold formatted text such as:\n",
    "* lists,\n",
    "* mathematical variables like $x$ and $y$,\n",
    "* links like this one to the Jupyter Homepage (https://www.jupyter.org)!\n",
    "\n",
    "Markdown is a simple plain text language that uses a basic syntax to add features like bold and italics to text.\n",
    "\n",
    "* adding two asterisks ** on either side of a word or phrase makes it **bold**\n",
    "* adding one underscore _ on either side of a word or phrase makes it _italicized_ \n",
    "\n",
    "There are many other types of formatting that Markdown supports.\n",
    "\n",
    "> _Fun fact_: Social platforms like Discord, Facebook, Twitter and LinkedIn also use the Markdown language to add flavour to text! You can learn more about the features of the Markdown language on your own by checking out this [Markdown Cheatsheet](https://www.markdownguide.org/cheat-sheet/)."
   ]
  },
  {
   "cell_type": "markdown",
   "id": "4ce864ff-7efe-4a2a-9570-b376973ebd9f",
   "metadata": {},
   "source": [
    "### Self Tests\n",
    "\n",
    "One of the most useful features of notebooks is the opportunity to get immediate feedback on your work using tests that are built into particular cells by your instructor. Correct answers produce a `\"Success!\"` message while incorrect answers produce a `\"Solution is incorrect\"` message. Always be sure to read through test questions carefully because notebooks are not very forgiving when it comes to uppercase/lowercase mix-ups, typos or unspecified spaces between words. Time for some practice!"
   ]
  },
  {
   "cell_type": "code",
   "execution_count": 3,
   "id": "4f023865-77fd-4b88-bf9a-d3b31d2d66c6",
   "metadata": {},
   "outputs": [
    {
     "name": "stdout",
     "output_type": "stream",
     "text": [
      "── \u001b[1m\u001b[33mFailure\u001b[39m (???): Solution is incorrect\u001b[22m ────────────────────────────────────────\n",
      "digest(answer_1) not equal to \"a7fc3a942e87b2330addd44ed9b1fdf5\".\n",
      "1/1 mismatches\n",
      "x[1]: \"c0b945d249d6c868c385fdd23d51daff\"\n",
      "y[1]: \"a7fc3a942e87b2330addd44ed9b1fdf5\"\n",
      "\n"
     ]
    },
    {
     "ename": "ERROR",
     "evalue": "\u001b[1m\u001b[33mError\u001b[39m in \u001b[1m\u001b[1m`reporter$stop_if_needed()`:\u001b[22m\n\u001b[33m!\u001b[39m Test failed\n",
     "output_type": "error",
     "traceback": [
      "\u001b[1m\u001b[33mError\u001b[39m in \u001b[1m\u001b[1m`reporter$stop_if_needed()`:\u001b[22m\n\u001b[33m!\u001b[39m Test failed\nTraceback:\n",
      "1. test_1()",
      "2. test_that(\"Solution is incorrect\", {\n .     expect_equal(digest(answer_1), \"a7fc3a942e87b2330addd44ed9b1fdf5\")\n . })",
      "3. (function (envir) \n . {\n .     handlers <- get_handlers(envir)\n .     errors <- list()\n .     for (handler in handlers) {\n .         tryCatch(eval(handler$expr, handler$envir), error = function(e) {\n .             errors[[length(errors) + 1]] <<- e\n .         })\n .     }\n .     attr(envir, \"withr_handlers\") <- NULL\n .     for (error in errors) {\n .         stop(error)\n .     }\n . })(<environment>)"
     ]
    }
   ],
   "source": [
    "# Replace ... with your answer to the following question\n",
    "# What country is the University of British Columbia in?\n",
    "# Be sure to use uppercase for the first letter and keep the \"\"\n",
    "\n",
    "answer_1 <- \"...\"\n",
    "\n",
    "test_1()"
   ]
  },
  {
   "cell_type": "markdown",
   "id": "c4aaea40-b2c3-481c-aa12-383f2266803e",
   "metadata": {},
   "source": [
    "Now try this one:"
   ]
  },
  {
   "cell_type": "code",
   "execution_count": null,
   "id": "5a63a05c-48c0-4990-b708-46b947b04d30",
   "metadata": {},
   "outputs": [],
   "source": [
    "# Replace ... with your answer\n",
    "# What is 2 + 2?\n",
    "# Your answer should be a single digit\n",
    "\n",
    "answer_2 <- ...\n",
    "\n",
    "test_2()"
   ]
  },
  {
   "cell_type": "markdown",
   "id": "4dab6ef8-7812-43df-98d7-1d415c54f198",
   "metadata": {},
   "source": [
    "### Directories\n",
    "Notebooks are stored in **directories** in JupyterHub. It can be helpful to think about JupyterHub as an actual hub - that is, a place where different hub users (holding individual Jupyter accounts) can gather to share and collaborate on files. Directories store files in a similar way that a folder on our computer does. The only difference is, with JupyterHub, the cloud-based format allows directories to be used either individually or collaboratively. The directory browser is located on the lefthand side of the notebook interface and can be used to store other files including:\n",
    "* Images\n",
    "* Data Files\n",
    "* Other Code files\n",
    "* etc."
   ]
  },
  {
   "cell_type": "code",
   "execution_count": null,
   "id": "d2ba29c4-826d-48b5-b75c-63666568cc64",
   "metadata": {},
   "outputs": [],
   "source": [
    "# Replace ... with your answer to: In one word, where are Notebooks stored?\n",
    "# Be sure to use lowercase letters and keep the \"\"\n",
    "\n",
    "answer_3 <- \"...\"\n",
    "\n",
    "test_3()"
   ]
  },
  {
   "cell_type": "markdown",
   "id": "e0775241-6a2a-4b23-aa14-70277f816905",
   "metadata": {},
   "source": [
    "By default, when we use a function that requires a file, Jupyter will look in the notebook's directory, unless specified otherwise."
   ]
  },
  {
   "cell_type": "markdown",
   "id": "c70e821e-a07d-4f14-837a-84c94707bb32",
   "metadata": {},
   "source": [
    "![Welcome to Jupyter](media/welcome_to_jupyter.png)"
   ]
  },
  {
   "cell_type": "markdown",
   "id": "c2b87418-a726-42a5-b500-bae39ae92eb8",
   "metadata": {},
   "source": [
    "The image above is visualized in the notebook by calling a pre-loaded image from the directory into the Notebook using the following instructions:\n",
    "\n",
    "`![Welcome to Jupyter](welcome_to_jupyter.png)`\n",
    "\n",
    "> See if you can spot the `welcome_to_jupyter.png` file in this notebook's directory under: \"media\""
   ]
  },
  {
   "cell_type": "markdown",
   "id": "51b1289e-846f-424b-90d7-ff69b6776ee8",
   "metadata": {},
   "source": [
    "## Running Code "
   ]
  },
  {
   "cell_type": "markdown",
   "id": "b25af38b-8690-42db-845e-2ccf1e845aa8",
   "metadata": {},
   "source": [
    "### Identifying Kernel Status\n",
    "After using `Shift + Enter` or pressing the **Run** button, we are able to tell if a code cell is running by looking at the kernel symbol at the top right of our window. When the symbol is empty, the kernel is not busy and is ready to execute code. When the symbol is filled in, the kernel is busy executing code. When we are executing a simple operation, the kernel symbol will usually flicker on for a brief moment before turning off again. When we are executing a series of complex operations or loading a large data set, the kernel may be filled in for longer as it has to work harder to perform these operations.\n",
    "\n",
    "![Kernel Symbol Off](media/kernel_symbol_off.png)\\\n",
    "Kernel is not running\n",
    "\n",
    "![Kernel Symbol On](media/kernel_symbol_on.png)\\\n",
    "Kernel is running"
   ]
  },
  {
   "cell_type": "code",
   "execution_count": null,
   "id": "0effd00e-bfe4-4f66-bb45-af28523148f8",
   "metadata": {},
   "outputs": [],
   "source": [
    "# When a kernel is filled in, is it a) running or b) not running?\n",
    "# Replace ... with the answer: \"a\" or \"b\"\n",
    "# Be sure to use lowercase letters and keep the \"\"\n",
    "\n",
    "answer_4 = \"...\"\n",
    "\n",
    "test_4()"
   ]
  },
  {
   "cell_type": "markdown",
   "id": "5e954101-51e0-45ca-a934-1f2a0846a146",
   "metadata": {},
   "source": [
    "There are a few other kernel images that can occur (like a bomb) which indicate that the kernel has crashed or been disconnected; they usually mean your notebook has encountered a problem and you need to refresh the page."
   ]
  },
  {
   "cell_type": "markdown",
   "id": "0ae8ad7f-c27c-4c06-967e-fcedefa63758",
   "metadata": {},
   "source": [
    "#### Things to watch out for\n",
    "When a code cell is run, it will execute all of the code contained in the cell and produce an output (if applicable) directly below the particular code cell being run.\n",
    "Outputs can include printed text or numbers, data frames and data visualizations. Code cells can be run individually or as a group; we can even run the entirety of a Notebook depending on which command you select in the **Run** menu in Jupyter. \n",
    "\n",
    "***The most important principle to remember for Jupyter is that the order in which cells are written and run in matters***.\n",
    "\n",
    "What does this mean?\n",
    "\n",
    "Notebooks are typically written to be executed from top to bottom in a linear fashion. Running all cells from top to bottom can be achieved by going to **Run** > **Run All Cells** in the menu. When cells are run in a non-linear order, however, Jupyter can get confused and render objects in unintended ways.\n",
    "\n",
    "Let's see an example of how this can create unexpected results."
   ]
  },
  {
   "cell_type": "markdown",
   "id": "e71db6ff-0ff5-4d41-89b3-7d6c07d3c06d",
   "metadata": {},
   "source": [
    "Try running these cells in the following orders\n",
    "\n",
    "1. cell 1, cell 2, cell 3\n",
    "\n",
    "then try\n",
    "\n",
    "1. cell 2, cell 1, cell 3"
   ]
  },
  {
   "cell_type": "code",
   "execution_count": null,
   "id": "e00ebfaf-6ad0-4958-882f-eb29ed5af933",
   "metadata": {},
   "outputs": [],
   "source": [
    "#cell 1: assigns object_a to 2+2\n",
    "object_a <- 2+2"
   ]
  },
  {
   "cell_type": "code",
   "execution_count": null,
   "id": "a2955d35-4960-41da-909f-dbf195678493",
   "metadata": {},
   "outputs": [],
   "source": [
    "#cell 2: assigns object_a to 1+2\n",
    "object_a <- 1+2"
   ]
  },
  {
   "cell_type": "code",
   "execution_count": null,
   "id": "4d93be38-201d-4f5e-8a09-ad92af18725c",
   "metadata": {},
   "outputs": [],
   "source": [
    "#cell 3: prints object_a\n",
    "object_a"
   ]
  },
  {
   "cell_type": "markdown",
   "id": "607d475c-64cb-4475-9a14-419efc6d4d83",
   "metadata": {},
   "source": [
    "As you may have noticed, different values are assigned to `object_a` in different code cells. The kernel will always use the most recent value that has been assigned to `object_a`, which is why different values are printed in cell 3 depending on the order in which cells 1 and 2 are run.\n",
    "\n",
    "The rule of thumb, then, is to ***always write and execute code from the start to the finish so as to avoid any discrepancies.***"
   ]
  },
  {
   "cell_type": "markdown",
   "id": "f3721211-8c90-4ee8-9e0b-504032e1a266",
   "metadata": {},
   "source": [
    "## Troubleshooting\n",
    "\n",
    "Sometimes Notebooks are _not_ run from start to finish or other things go awry which can produce an error. If you are ever in this situation, one of the first things to do is select the **Kernel** > **Restart Kernel and Run All Cells** function. This will restart the Notebook session and will clear the Notebook's \"memory\" from all objects and commands that have been previously run. \n",
    "\n",
    "If you run into a situation where your kernel is stuck (ie, it is filled in) for a very long time, you can also try these fixes:\n",
    "1. At the top of your screen, click **Kernel**, then **Interrupt Kernel**.\n",
    "1. If that doesn’t help, click **Kernel**, then **Restart Kernel…** If you do this, you will have to run your code cells from the start of your notebook up until where you paused your work.\n",
    "1. If that still doesn’t help, restart Jupyter. First, save your work by clicking **File** at the top left of your screen, then **Save Notebook**. Next, if you are accessing Jupyter using a JupyterHub server, from the **File** menu click **Hub Control Panel**. Choose **Stop My Server** to shut it down, then the **Start My Server** button to start it back up. If you are running Jupyter on your own computer, from the **File** menu click **Shut Down**, then start Jupyter again. Finally, navigate back to the notebook you were working on.\n",
    "1. If none of these things work, speak to your TA or instructor about the issue."
   ]
  },
  {
   "cell_type": "markdown",
   "id": "447c324a-5925-427f-9d15-48a35b182d3f",
   "metadata": {},
   "source": [
    "## Exporting \n",
    "Notebooks automatically save our work as we write and edit our document. When we are ready to export our file, we can choose from a few different output formats including: `.html`, `.pdf` and Jupyter's own `.ipynb` (which is a more readable form of a `.json` file). Be sure you export your files in the format specified by your instructor!\n",
    "\n",
    "To export your file, go to **File** > **Save and Export As...** > Then select your format of choice and save the file with an intuitive name that describes its contents."
   ]
  },
  {
   "cell_type": "markdown",
   "id": "135edb57-7f0b-41d5-9cb6-e6321401984f",
   "metadata": {
    "tags": []
   },
   "source": [
    "## Your Turn!\n",
    "\n",
    "A few notes about writing your own Notebooks: \n",
    "* Cells can be added to notebooks (when the cell is selected, indicated by a blue highlight on the lefthand side) by using the `+` arrow near the top right of the the window (not the blue button). Alternatively, you can use the `a` key to add a cell above your current cell, and `b` to add a cell below your current cell.\n",
    "* Cells can be deleted by right-clicking on the cell and selecting **Delete Cells**. Alternatively, you can double click the `d` key to delete a current cell.\n",
    "* A cell's status (as either a code or markdown cell) is always indicated and can be changed in the dropdown bar of the menu. \n",
    "\n",
    "> ***Note***: Regarding keyboard shortcuts: keys will do different things depending on which **mode** you are in.  Editing mode lets you edit cells, in which case hitting the `a` key will type the letter _a_.  Command mode will let you control JupyterLab, in which case hitting the `a` key will insert a new cell.  You can switch between these modes by hitting `Esc` or `Enter`.\n",
    "\n",
    "You can also view a list of all of the different keyboard commands available under the _Settings > Advanced Settings Editor_ in the Settings menu, then selecting _Keyboard Shortcuts_.  \n",
    "\n",
    "Try executing the following tasks:\n",
    "1. Add a **markdown cell** below that says: \"I can make markdown cells!\"\n",
    "2. Add a **markdown cell** above that contains the previous message, but this time, in _italics_.\n",
    "3. Add a **code cell** below that operates the equation $2$ * $3$.\n",
    "4. Add a **code cell** below that assigns the value $4$ to an object titled `object_1`. \n",
    "> As seen previously, you can use the following formula to assign a number or operation to an object:\\\n",
    "`object_name <- # or equation`\\\n",
    "When you are working with numbers, you don't need to attach \"\" as we did above with text answers.\n",
    "5. Add a code cell below that assigns the value $10$ to an object titled `object_2`.\n",
    "6. Add a code cell below to see what happens when you compute: `object_1 + object_2`."
   ]
  }
 ],
 "metadata": {
  "kernelspec": {
   "display_name": "R",
   "language": "R",
   "name": "ir"
  },
  "language_info": {
   "codemirror_mode": "r",
   "file_extension": ".r",
   "mimetype": "text/x-r-source",
   "name": "R",
   "pygments_lexer": "r",
   "version": "4.1.1"
  }
 },
 "nbformat": 4,
 "nbformat_minor": 5
}
