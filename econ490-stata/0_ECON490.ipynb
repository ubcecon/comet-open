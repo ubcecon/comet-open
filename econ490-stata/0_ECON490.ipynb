{
 "cells": [
  {
   "cell_type": "markdown",
   "id": "a90f25be",
   "metadata": {},
   "source": [
    "# ECON490: Interactive Lectures using Stata\n",
    "\n",
    "\n",
    "This repository presents a set of lectures on econometric analysis using Stata. Make sure to check the [Readme.md](Readme.md) file before starting.\n",
    "\n",
    "The structure of the lectures is the following:\n",
    "\n",
    "1. [Stata Basics](1_Stata_Basics.ipynb)\n",
    "2. [Data Management using Stata](2_Data_Management_Stata.ipynb)\n",
    "3. [Graphs using Stata](3_Graphs_Stata.ipynb)\n",
    "4. [Statistical Analysis: Descriptive and Regression](4_Statistical_Analysis.ipynb)\n",
    "5. [Workflow Guidelines](5_Workflow.ipynb)\n",
    "\n",
    "\n",
    "## Stata Basics\n",
    "\n",
    "The learning objectives in this lecture are:\n",
    "\n",
    "## Data Management using Stata\n",
    "\n",
    "The learning objectives in this lecture are:\n",
    "\n",
    "## Graphs using Stata\n",
    "\n",
    "The learning objectives in this lecture are:\n",
    "\n",
    "## Statistical Analysis\n",
    "\n",
    "The learning objectives in this lecture are:\n",
    "\n",
    "## Workflow Guidelines\n",
    "\n",
    "The learning objectives in this lecture are:\n",
    "\n",
    "A tempate folder will the provided at the following link.\n",
    "\n",
    "\n",
    "\n",
    "<div class=\"alert alert-info\">\n",
    "\n",
    "**Note:** Please contact some_person in case you run into any issue with these lectures.\n",
    "\n",
    "</div>\n"
   ]
  }
 ],
 "metadata": {
  "kernelspec": {
   "display_name": "Stata",
   "language": "stata",
   "name": "stata"
  },
  "language_info": {
   "codemirror_mode": "stata",
   "file_extension": ".do",
   "mimetype": "text/x-stata",
   "name": "stata",
   "version": "15.1"
  }
 },
 "nbformat": 4,
 "nbformat_minor": 5
}
