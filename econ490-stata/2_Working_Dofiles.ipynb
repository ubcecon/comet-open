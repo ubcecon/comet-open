{
 "cells": [
  {
   "cell_type": "markdown",
   "id": "ce4a6b9b",
   "metadata": {},
   "source": [
    "# 2. Working with Do-files\n",
    "\n",
    "For a reference, the link to the official Stata cheat sheet can be found [here](https://www.stata.com/bookstore/stata-cheat-sheets/).\n",
    "\n"
   ]
  },
  {
   "cell_type": "markdown",
   "id": "500b836d",
   "metadata": {},
   "source": [
    "## 2.1 Opening Do-files from Stata Interface\n",
    "\n",
    "Whenever we do some work with Stata or any other programming language, it is very important that we make it replicable. For instance, you may work on a graph and realize that you made a very tiny mistake; then you need to take many steps to re-do said graph with the corrections. \n",
    "\n",
    "\n",
    "Stata provides a way to save code notebooks, also known as do-files, where we can keep all the code we ran in a particular instance. To open the Do-file Editor from our Stata session, we use the shortcut `Ctrl(Command)+9` or click at this part of the Stata Interface\n",
    "\n",
    "![](img/stata_interface.png)\n",
    "\n",
    "\n",
    "You should now observe a new window in your computer that looks like this\n",
    "\n",
    "![](img/dofile_editor.png)\n",
    "\n",
    "To run a highlited part of code, you can use `Ctrl(Command)+D`. \n",
    "\n",
    "<div class=\"alert alert-info\">\n",
    "\n",
    "**Note:** The Jupyter cells in the following lectures will work as a do-file proxy, but whenever you run Stata non-interactively it is very important to keep track any change we do in a do-file.\n",
    "\n",
    "</div>\n",
    "\n"
   ]
  },
  {
   "cell_type": "markdown",
   "id": "7abad6ce",
   "metadata": {},
   "source": [
    "## 2.2 Writing Comments in our code\n",
    "\n",
    "Writing comments at different parts of our code is very good practice. It will allow us to revisit code we wrote a while back and understand what we did. Stata allows for three different type of comments in our do-files. \n",
    "\n",
    "The first type of comment is based on asterisks `*`"
   ]
  },
  {
   "cell_type": "code",
   "execution_count": 1,
   "id": "950a1f95",
   "metadata": {},
   "outputs": [],
   "source": [
    "* This is a Stata comment: nothing is gonna happen"
   ]
  },
  {
   "cell_type": "markdown",
   "id": "eadd8845",
   "metadata": {},
   "source": [
    "The second type of comments is based on `//` and can be used when we want to write code with a comment next to it"
   ]
  },
  {
   "cell_type": "code",
   "execution_count": 2,
   "id": "d8448442",
   "metadata": {},
   "outputs": [
    {
     "name": "stdout",
     "output_type": "stream",
     "text": [
      "5\n"
     ]
    }
   ],
   "source": [
    "display 5 // This command is printing the number 5"
   ]
  },
  {
   "cell_type": "markdown",
   "id": "66f16a08",
   "metadata": {},
   "source": [
    "Finally, we can open a multi-line comment with `/*` and close such comment with `*/`"
   ]
  },
  {
   "cell_type": "code",
   "execution_count": 3,
   "id": "f0814e86",
   "metadata": {},
   "outputs": [],
   "source": [
    "/*\n",
    "Multi-line comments are also allowed this way,\n",
    "and they are very useful!\n",
    "*/"
   ]
  },
  {
   "cell_type": "markdown",
   "id": "37fa0638",
   "metadata": {},
   "source": [
    "You will notice that the comments are highlited with the colour <font color='green'>green</font> within our do-files. Whenever you see that color, you should automatically recognize that part as being a comment made by the author. Similarly, you will notice that the recognized Stata commands in our do-file are highlited <font color='blue'>blue</font>.  \n",
    "\n",
    "![](img/dofile_comments.png)\n",
    "\n"
   ]
  },
  {
   "cell_type": "markdown",
   "id": "8b066f9e",
   "metadata": {},
   "source": [
    "## 2.3 Delimiters \n",
    "\n",
    "\n",
    "Every single line must correspond to a different instruction or command. Another way to phrase this is that the delimiter is set by a new line (what Stata programmers refer to as `cr`). While we do not advice to change this delimiter, it may be useful to know that another approach is to set different lines by a semi-colon `;`. You may change this setting by writing"
   ]
  },
  {
   "cell_type": "code",
   "execution_count": 6,
   "id": "5b879c69",
   "metadata": {},
   "outputs": [
    {
     "name": "stdout",
     "output_type": "stream",
     "text": [
      "11\n",
      "delimiter now ;"
     ]
    }
   ],
   "source": [
    "#delimit ;\n",
    "display 5\n",
    "+6;"
   ]
  },
  {
   "cell_type": "markdown",
   "id": "d158fae0",
   "metadata": {},
   "source": [
    "We can revert this change by running "
   ]
  },
  {
   "cell_type": "code",
   "execution_count": 7,
   "id": "2ef542a6",
   "metadata": {},
   "outputs": [
    {
     "name": "stdout",
     "output_type": "stream",
     "text": [
      "delimiter now cr"
     ]
    }
   ],
   "source": [
    "#delimit cr"
   ]
  },
  {
   "cell_type": "markdown",
   "id": "632090bf",
   "metadata": {},
   "source": [
    "## 2.4 Saving Log-files\n",
    "\n",
    "This command to start the log recording is simply log using `filename`, where `filename` is a carefully chosen file name that clearly indicates the analysis you are undertaking with no spaces or capital letters. \n",
    "\n",
    "Given that your work is likely to be submitted online, you should also get into the practice of saving your log file as a text file that your instructor can view on Canvas. This is achieved by using the option “text”. You probably will be overwriting the same log file many times (i.e. each time you run the file) so you should also use the option “replace”. All together your command line will be:\n",
    "\n",
    "```\n",
    "    log using filename, text replace\n",
    "```\n",
    "\n",
    "You must always close your log file at the end of your do file, or else the log file will continue to record all your work and cause your do file to crash next time you run that file. The command to close the log file belongs at the very end of the do file, but it is smart to include at the time you include the open the log file and leave space for the commands you will be including in between. \n",
    "\n",
    "The command to close the log file is simply log close. The most common approach is to run \n",
    "```\n",
    "   capture log close\n",
    "```\n",
    "\n",
    "Although we will discuss the `capture` command in a following lecture, what you should know at this point is that if you run this command and there is no log file open, then just ignore this line and keep going. This way you can avoid one of the most frustrating things about using do files, which is that if your do file crashes partway through a run, the log file will not be closed. Having the log file still open will then cause the do file to crash a second time when the do file is next run.\n"
   ]
  },
  {
   "cell_type": "markdown",
   "id": "96ce2078",
   "metadata": {},
   "source": [
    "## Wrapping Up\n",
    "\n",
    "Always save your do file in your folder as soon as you begin your work by clicking the save icon on the top right. It is good practice to also save your do file each and every time you run the file. Getting in the habit of doing this will save you many hours of redoing accidentally lost work when your file closes.\n",
    "\n",
    "\n",
    "<div class=\"alert alert-info\">\n",
    "\n",
    "**Note:** You can show you do file to either your TA or your instructor for help and feedback. It is also good to submit any practical assignment using Stata along with a do-file.\n",
    "\n",
    "</div>\n",
    "\n"
   ]
  }
 ],
 "metadata": {
  "kernelspec": {
   "display_name": "Stata",
   "language": "stata",
   "name": "stata"
  },
  "language_info": {
   "codemirror_mode": "stata",
   "file_extension": ".do",
   "mimetype": "text/x-stata",
   "name": "stata",
   "version": "15.1"
  }
 },
 "nbformat": 4,
 "nbformat_minor": 5
}
