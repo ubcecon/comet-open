{
 "cells": [
  {
   "cell_type": "markdown",
   "id": "575754e6-605a-4ba6-8d71-cd4d40b2dbb8",
   "metadata": {},
   "source": [
    "# ECON 490: Locals and Globals (4)\n",
    "\n",
    "## Prerequisites \n",
    "---\n",
    "1. View the characteristics of any dataset using the command `describe`\n",
    "2. Use `help` to learn best how to run commands\n",
    "3. Understand the Stata command syntax using command `summarize`\n",
    "4. Create loops using the commands `for`, `while`, `forvalues` and `foreach`\n",
    "\n",
    "## Learning objectives:\n",
    "---\n",
    "\n",
    "1. Recognize the difference between dataset variable and Stata variables.\n",
    "2. Recognize the difference between local and global Stata variables.\n",
    "3. Use the command `local` to create temporary macros.\n",
    "4. Use the command `global` to create permenant macros.\n",
    "5. Know how you will use macros in your own research.\n"
   ]
  },
  {
   "cell_type": "markdown",
   "id": "5ce83e3b-74b1-4a6d-b288-24bff26a7d1b",
   "metadata": {},
   "source": [
    "## 4.1 Stata Variables\n",
    "\n",
    "In ECON 325 and ECON 326 you learned that \"variables\" are individual characteristics that can be indicated by using data. For example, if we had a dataset that included all of the countries in the world, we might have a variable that indicated each country's population. Another example, if we had a dataset that included a sample of persons in Canada, we might have have variable that indicated each person's marital status. These are dataset variables, and they can be qualitative (numeric) or quantiative (strings). \n",
    "\n",
    "There is a separate category of variables that are used in Stata that we call \"macros\". Macros work as placeholders for values that we want to store either temporarily or permenantly. Locals are macros that store data temporatily, usually while we are exectuting a do-file. Globals are macros that store data permanently, or at least as long as you have Stata open on your computer. Below you are going to learn how to use these tools in your own research. "
   ]
  },
  {
   "cell_type": "markdown",
   "id": "72a46e3e",
   "metadata": {},
   "source": [
    "## 4.2 Locals \n",
    "\n",
    "The first use of local macros is to store results at some parts of your code. To help you understand how powerful this is, you should be aware that most Stata command have hidden results stored after they are run. Consider the following example\n"
   ]
  },
  {
   "cell_type": "code",
   "execution_count": null,
   "id": "9f4f6900",
   "metadata": {
    "tags": []
   },
   "outputs": [],
   "source": [
    "sysuse auto,clear\n",
    "\n",
    "summarize price"
   ]
  },
  {
   "cell_type": "markdown",
   "id": "68f4f49e",
   "metadata": {},
   "source": [
    "\n",
    "When we ran `summarize` above Stata produced output that was stored in a number of locals. You can access those stored results with the command `return list` (for regular commands) or `ereturn list` (for estimation commands, which we'll cover later on Module 12). Since `summarize`is not an estimation command, we can run the following:"
   ]
  },
  {
   "cell_type": "code",
   "execution_count": null,
   "id": "ea1694af",
   "metadata": {},
   "outputs": [],
   "source": [
    "return list"
   ]
  },
  {
   "cell_type": "markdown",
   "id": "41fd27d5",
   "metadata": {},
   "source": [
    "Notice that Stata has reported that variables have been stored as `scalars`, where a scalar is simply a quantity. \n",
    "\n",
    "If we want Stata to tell us the mean price from the automobile dataset that was just calculated using `summarize`, we can use the following:"
   ]
  },
  {
   "cell_type": "code",
   "execution_count": null,
   "id": "a677af58",
   "metadata": {
    "tags": []
   },
   "outputs": [],
   "source": [
    "display r(mean)"
   ]
  },
  {
   "cell_type": "markdown",
   "id": "66e875fa-b614-4151-90ec-5178887e8a4c",
   "metadata": {},
   "source": [
    "We can now store that scalar as a local, and use that local in other Stata commands, we can use the `local` command:"
   ]
  },
  {
   "cell_type": "code",
   "execution_count": null,
   "id": "8a7716a1",
   "metadata": {},
   "outputs": [],
   "source": [
    "local price_mean = r(mean)\n",
    "display \"The mean of price variable is `price_mean'.\" "
   ]
  },
  {
   "cell_type": "markdown",
   "id": "44e307ee",
   "metadata": {},
   "source": [
    "Let's conider an example of why creating this local might be useful. Imagine that you wanted create a new variable that is the price variable minus the mean of that same variable. You would do this if you wanted to demean that variable or, in other words, create a new price variable that has a mean of zero. You could the `generate` command along with the local we just created to do exactly that."
   ]
  },
  {
   "cell_type": "code",
   "execution_count": null,
   "id": "7e402b47",
   "metadata": {
    "tags": []
   },
   "outputs": [],
   "source": [
    "replace price_demean = price - `price_mean'"
   ]
  },
  {
   "cell_type": "markdown",
   "id": "77c745dd-79ae-44f5-a793-501bfef2fbf1",
   "metadata": {},
   "source": [
    "Note that there is no output when you run this command. You might also need to know that if you try to run this command a second time, you will get an error because Stata doesn't want you to accidentally overwrite an exisiting variable. In order to correct this problem would need to use the command `replace` instead of the command `generate` command. Try it yourself above!\n",
    "\n",
    "Let's take a look at the mean of our new variable using `summarize` again. "
   ]
  },
  {
   "cell_type": "code",
   "execution_count": null,
   "id": "24ab72a2",
   "metadata": {},
   "outputs": [],
   "source": [
    "su price_demean"
   ]
  },
  {
   "cell_type": "markdown",
   "id": "4b74b1c5",
   "metadata": {},
   "source": [
    "You can see that the mean is roughly zero just we as expected."
   ]
  },
  {
   "cell_type": "markdown",
   "id": "74e0e535",
   "metadata": {},
   "source": [
    "Locals are automatically generated whenever we use loops (as discussed in Module 3). \n",
    "\n",
    "Consider another common application here issuing a categorical variable that can take on 5 possible values. "
   ]
  },
  {
   "cell_type": "code",
   "execution_count": null,
   "id": "3f016e58",
   "metadata": {},
   "outputs": [],
   "source": [
    "su rep78"
   ]
  },
  {
   "cell_type": "markdown",
   "id": "cd8a1925-9905-4919-9324-fd98bedc67d1",
   "metadata": {},
   "source": [
    "Note that if you run the command above that we use to `display` the mean of price, we will now get a different value. Try it yourself!"
   ]
  },
  {
   "cell_type": "markdown",
   "id": "1c6080cf",
   "metadata": {},
   "source": [
    "There are times were we might want to save all the possible categorical values in a local. When we use `levelsof` command, below, we can create a new local with a name that we chose - \"levels_rep78\"."
   ]
  },
  {
   "cell_type": "code",
   "execution_count": null,
   "id": "c355afec",
   "metadata": {},
   "outputs": [],
   "source": [
    "levelsof rep78, local(levels_rep)"
   ]
  },
  {
   "cell_type": "markdown",
   "id": "a2c48071",
   "metadata": {},
   "source": [
    "We can do different things with this new list of values. For instance, we can now summarize a variable based on every distinct value of rep78 by creating a loop using `foreach` and looping through values of the new local we created. "
   ]
  },
  {
   "cell_type": "code",
   "execution_count": null,
   "id": "184decde",
   "metadata": {},
   "outputs": [],
   "source": [
    "foreach x in `levels_rep' {\n",
    "su price if rep78 == `x'\n",
    "}"
   ]
  },
  {
   "cell_type": "markdown",
   "id": "84e56620",
   "metadata": {},
   "source": [
    "## 4.2 Globals\n",
    "\n",
    "Globals are will used to store lists of variable names, paths and/or directories that will need for our research project. \n",
    "\n",
    "Consider the following example where we create a global called \"covariates\" that is simply a list of three variable names."
   ]
  },
  {
   "cell_type": "code",
   "execution_count": null,
   "id": "d183fffa",
   "metadata": {
    "tags": []
   },
   "outputs": [],
   "source": [
    "global covariates \"price rep78 foreign\""
   ]
  },
  {
   "cell_type": "markdown",
   "id": "e6c332c3-4026-4630-94f8-05e044e64460",
   "metadata": {
    "tags": []
   },
   "source": [
    "We can now use that global anywhere would want to use those three variable names. When we want to indicate that we are using a global we refer to this type of macros with the dollar sign symbol `$`.\n",
    "\n",
    "Here we `summarize` these three variables. "
   ]
  },
  {
   "cell_type": "code",
   "execution_count": null,
   "id": "480ae792-8870-4b62-95e3-270d58f11315",
   "metadata": {},
   "outputs": [],
   "source": [
    "su ${covariates}"
   ]
  },
  {
   "cell_type": "markdown",
   "id": "d08df08a-7653-4403-868f-b123ac4b3170",
   "metadata": {
    "tags": []
   },
   "source": [
    "Try this yourself! In the emply cell below, `describe` these three variables using the macro we have just created. "
   ]
  },
  {
   "cell_type": "code",
   "execution_count": null,
   "id": "632f1954-00fe-4084-b7ac-69f75e01e341",
   "metadata": {},
   "outputs": [],
   "source": []
  },
  {
   "cell_type": "markdown",
   "id": "26e56781-deee-4dfe-9605-5dec985e479e",
   "metadata": {},
   "source": [
    "## 4.3 Wrapping Up\n",
    "\n",
    "In this module we learned how Stata has its own set of variables that have some very useful applications. You will see these macros again through out these modules and will use them in your own research project.  \n",
    "\n",
    "Just to demonstate how useful these can be, now we can run a very simple regression in which price is the dependent variable and the explanitory variables are rep78 and foreign. That command using our macro would be:"
   ]
  },
  {
   "cell_type": "code",
   "execution_count": null,
   "id": "6abb838c-eb8f-48d2-a793-c95290ea271b",
   "metadata": {},
   "outputs": [],
   "source": [
    "regress ${covariates}"
   ]
  },
  {
   "cell_type": "markdown",
   "id": "e71e30a0-77ae-4264-9162-7af63d5b52b0",
   "metadata": {},
   "source": [
    "If we only wanted to include observations were price is above average, then using the local we created earlier in this module the regression woud be:"
   ]
  },
  {
   "cell_type": "code",
   "execution_count": null,
   "id": "9f2493f6-3475-4cb4-9a92-fe98957e16f0",
   "metadata": {},
   "outputs": [],
   "source": [
    "regress ${covariates} if price > `price_mean'"
   ]
  },
  {
   "cell_type": "markdown",
   "id": "1ccc994b-26e4-43c6-a33f-eb6c73c9961b",
   "metadata": {},
   "source": [
    "You can see for yourself that Stata ran the regression only on a subset of the data."
   ]
  }
 ],
 "metadata": {
  "kernelspec": {
   "display_name": "Python 3 (ipykernel)",
   "language": "python",
   "name": "python3"
  },
  "language_info": {
   "codemirror_mode": {
    "name": "ipython",
    "version": 3
   },
   "file_extension": ".py",
   "mimetype": "text/x-python",
   "name": "python",
   "nbconvert_exporter": "python",
   "pygments_lexer": "ipython3",
   "version": "3.9.7"
  }
 },
 "nbformat": 4,
 "nbformat_minor": 5
}
