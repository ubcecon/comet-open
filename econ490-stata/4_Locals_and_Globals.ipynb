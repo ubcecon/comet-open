{
 "cells": [
  {
   "cell_type": "markdown",
   "id": "575754e6-605a-4ba6-8d71-cd4d40b2dbb8",
   "metadata": {},
   "source": [
    "# ECON 490: Locals and Globals (4)\n",
    "\n",
    "## Prerequisites \n",
    "---\n",
    "1. Setting up Anaconda and Stata kernel\n",
    "2. Learning how to use Stata do files\n",
    "3. Understanding the basic syntax of stata commands\n",
    "\n",
    "## Outcomes\n",
    "---\n",
    "By the end of this module you will be able to:\n",
    "- Recognize the difference between local and global variables."
   ]
  },
  {
   "cell_type": "markdown",
   "id": "72a46e3e",
   "metadata": {},
   "source": [
    "which type of variables???\n",
    "These type of Stata variables are known as macros. These work as placeholders for values (either numeric or strings) that we want to store temporarily (that is, while the do-file is executing) and permanently (until Stata is closed again). Locals are the ones with temporary nature, whereas globals are the permanent ones.\n",
    "\n",
    "## 4.1 Locals \n",
    "\n",
    "The first use of local macros is to store results at some parts of your code. To understand how powerful this is, you should be aware that most Stata command have hidden results stored after you run them. Consider the following example\n"
   ]
  },
  {
   "cell_type": "code",
   "execution_count": 1,
   "id": "9f4f6900",
   "metadata": {},
   "outputs": [
    {
     "name": "stdout",
     "output_type": "stream",
     "text": [
      "\n",
      "(1978 Automobile Data)\n",
      "\n",
      "\n",
      "    Variable |        Obs        Mean    Std. Dev.       Min        Max\n",
      "-------------+---------------------------------------------------------\n",
      "       price |         74    6165.257    2949.496       3291      15906\n"
     ]
    }
   ],
   "source": [
    "sysuse auto,clear\n",
    "\n",
    "summarize price"
   ]
  },
  {
   "cell_type": "markdown",
   "id": "68f4f49e",
   "metadata": {},
   "source": [
    "We can access the stored results with `return list` (for regular commands) and `ereturn list` (for estimation commands, which we'll cover later on in the lectures). Since this is not an estimation command, we run"
   ]
  },
  {
   "cell_type": "code",
   "execution_count": 2,
   "id": "ea1694af",
   "metadata": {},
   "outputs": [
    {
     "name": "stdout",
     "output_type": "stream",
     "text": [
      "\n",
      "scalars:\n",
      "                r(sum) =  456229\n",
      "                r(max) =  15906\n",
      "                r(min) =  3291\n",
      "                 r(sd) =  2949.495884768919\n",
      "                r(Var) =  8699525.974268788\n",
      "               r(mean) =  6165.256756756757\n",
      "              r(sum_w) =  74\n",
      "                  r(N) =  74\n"
     ]
    }
   ],
   "source": [
    "return list"
   ]
  },
  {
   "cell_type": "markdown",
   "id": "41fd27d5",
   "metadata": {},
   "source": [
    "Notice that part of the output that was printed by Stata has been stored as something known as `scalars`. Consider this"
   ]
  },
  {
   "cell_type": "code",
   "execution_count": 3,
   "id": "a677af58",
   "metadata": {},
   "outputs": [
    {
     "name": "stdout",
     "output_type": "stream",
     "text": [
      "6165.2568\n"
     ]
    }
   ],
   "source": [
    "display r(mean)"
   ]
  },
  {
   "cell_type": "code",
   "execution_count": 4,
   "id": "8a7716a1",
   "metadata": {},
   "outputs": [
    {
     "name": "stdout",
     "output_type": "stream",
     "text": [
      "\n",
      "\n",
      "The mean of price variable is 6165.256756756757.\n"
     ]
    }
   ],
   "source": [
    "local price_mean = r(mean)\n",
    "display \"The mean of price variable is `price_mean'.\" "
   ]
  },
  {
   "cell_type": "markdown",
   "id": "44e307ee",
   "metadata": {},
   "source": [
    "While there are vast possibilities, one of the things we could do with this stored local variable is to demean. Suppose we want to create a price variable that is substracted by its mean; then you may run "
   ]
  },
  {
   "cell_type": "code",
   "execution_count": 5,
   "id": "7e402b47",
   "metadata": {},
   "outputs": [],
   "source": [
    "gen price_demean = price - `price_mean'"
   ]
  },
  {
   "cell_type": "code",
   "execution_count": 6,
   "id": "24ab72a2",
   "metadata": {},
   "outputs": [
    {
     "name": "stdout",
     "output_type": "stream",
     "text": [
      "\n",
      "    Variable |        Obs        Mean    Std. Dev.       Min        Max\n",
      "-------------+---------------------------------------------------------\n",
      "price_demean |         74   -.0000154    2949.496  -2874.257   9740.743\n"
     ]
    }
   ],
   "source": [
    "su price_demean"
   ]
  },
  {
   "cell_type": "markdown",
   "id": "4b74b1c5",
   "metadata": {},
   "source": [
    "And the mean is (up to computer rounding errors) roughly zero, as expected."
   ]
  },
  {
   "cell_type": "markdown",
   "id": "74e0e535",
   "metadata": {},
   "source": [
    "Furthermore, locals are automatically generated whenever we use loops. Another common application "
   ]
  },
  {
   "cell_type": "code",
   "execution_count": 8,
   "id": "3f016e58",
   "metadata": {},
   "outputs": [
    {
     "name": "stdout",
     "output_type": "stream",
     "text": [
      "\n",
      "    Variable |        Obs        Mean    Std. Dev.       Min        Max\n",
      "-------------+---------------------------------------------------------\n",
      "       rep78 |         69    3.405797    .9899323          1          5\n"
     ]
    }
   ],
   "source": [
    "su rep78"
   ]
  },
  {
   "cell_type": "markdown",
   "id": "1c6080cf",
   "metadata": {},
   "source": [
    "This is a categorical variable that takes 5 values. We can save all the possible values in a local "
   ]
  },
  {
   "cell_type": "code",
   "execution_count": 9,
   "id": "c355afec",
   "metadata": {},
   "outputs": [
    {
     "name": "stdout",
     "output_type": "stream",
     "text": [
      "1 2 3 4 5\n"
     ]
    }
   ],
   "source": [
    "levelsof rep78, local(levels_rep)"
   ]
  },
  {
   "cell_type": "markdown",
   "id": "a2c48071",
   "metadata": {},
   "source": [
    "And we can do different things with this new list of values. For instance, we can summarize a variable based on every distinct value of rep78. "
   ]
  },
  {
   "cell_type": "code",
   "execution_count": 10,
   "id": "184decde",
   "metadata": {},
   "outputs": [
    {
     "name": "stdout",
     "output_type": "stream",
     "text": [
      "\n",
      "\n",
      "    Variable |        Obs        Mean    Std. Dev.       Min        Max\n",
      "-------------+---------------------------------------------------------\n",
      "       price |          2      4564.5    522.5519       4195       4934\n",
      "\n",
      "    Variable |        Obs        Mean    Std. Dev.       Min        Max\n",
      "-------------+---------------------------------------------------------\n",
      "       price |          8    5967.625    3579.357       3667      14500\n",
      "\n",
      "    Variable |        Obs        Mean    Std. Dev.       Min        Max\n",
      "-------------+---------------------------------------------------------\n",
      "       price |         30    6429.233     3525.14       3291      15906\n",
      "\n",
      "    Variable |        Obs        Mean    Std. Dev.       Min        Max\n",
      "-------------+---------------------------------------------------------\n",
      "       price |         18      6071.5    1709.608       3829       9735\n",
      "\n",
      "    Variable |        Obs        Mean    Std. Dev.       Min        Max\n",
      "-------------+---------------------------------------------------------\n",
      "       price |         11        5913    2615.763       3748      11995\n"
     ]
    }
   ],
   "source": [
    "foreach x in `levels_rep' {\n",
    "su price if rep78 == `x'\n",
    "}"
   ]
  },
  {
   "cell_type": "markdown",
   "id": "84e56620",
   "metadata": {},
   "source": [
    "## 4.2 Globals\n",
    "\n",
    "Globals are typically used to store a list of variable names that we're gonna use throughout the entire project (which is why we don't want it to have a temporary nature) or paths/directories. We refer to this type of macros with the dollar sign symbol `$`,\n",
    "\n",
    "Consider the following example"
   ]
  },
  {
   "cell_type": "code",
   "execution_count": 11,
   "id": "d183fffa",
   "metadata": {},
   "outputs": [
    {
     "name": "stdout",
     "output_type": "stream",
     "text": [
      "\n",
      "\n",
      "\n",
      "    Variable |        Obs        Mean    Std. Dev.       Min        Max\n",
      "-------------+---------------------------------------------------------\n",
      "       rep78 |         69    3.405797    .9899323          1          5\n",
      "       price |         74    6165.257    2949.496       3291      15906\n",
      "     foreign |         74    .2972973    .4601885          0          1\n"
     ]
    }
   ],
   "source": [
    "global covariates \"rep78 price foreign\"\n",
    "\n",
    "su ${covariates}"
   ]
  },
  {
   "cell_type": "markdown",
   "id": "8c2fbd57",
   "metadata": {},
   "source": [
    "And we can also nest them! Consider the following case"
   ]
  },
  {
   "cell_type": "code",
   "execution_count": 12,
   "id": "465e7489",
   "metadata": {},
   "outputs": [],
   "source": [
    "global main_directory \"C:/Users/Main/Project\"\n",
    "global figures_directory \"${main_directory}/figures\""
   ]
  },
  {
   "cell_type": "code",
   "execution_count": 14,
   "id": "e94109ee",
   "metadata": {},
   "outputs": [
    {
     "name": "stdout",
     "output_type": "stream",
     "text": [
      "C:/Users/Main/Project\n"
     ]
    }
   ],
   "source": [
    "di \"${main_directory}\""
   ]
  },
  {
   "cell_type": "code",
   "execution_count": 15,
   "id": "643610bf",
   "metadata": {},
   "outputs": [
    {
     "name": "stdout",
     "output_type": "stream",
     "text": [
      "C:/Users/Main/Project/figures\n"
     ]
    }
   ],
   "source": [
    "di \"${figures_directory}\""
   ]
  }
 ],
 "metadata": {
  "kernelspec": {
   "display_name": "Stata",
   "language": "stata",
   "name": "stata"
  },
  "language_info": {
   "codemirror_mode": "stata",
   "file_extension": ".do",
   "mimetype": "text/x-stata",
   "name": "stata",
   "version": "15.1"
  }
 },
 "nbformat": 4,
 "nbformat_minor": 5
}
