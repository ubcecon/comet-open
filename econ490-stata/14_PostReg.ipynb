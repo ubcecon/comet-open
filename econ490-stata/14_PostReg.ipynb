{
 "cells": [
  {
   "cell_type": "markdown",
   "id": "2051daff",
   "metadata": {
    "tags": []
   },
   "source": [
    "# ECON 490: Good Regression Practice (14)\n",
    "\n",
    "\n",
    "## Prerequisites: \n",
    "--- \n",
    "1. Importing data into Stata.\n",
    "2. Creating new varables using `generate` and `replace`.\n",
    "3. Identifying percentiles in the data using `summarize` and `return list`.\n",
    "4. Running OLS regressions.\n",
    "\n",
    "\n",
    "## Learning Outcomes:  \n",
    "---\n",
    "1. Identify and correct for outliers by trimming or winsorizing the dependent variable. \n",
    "2. Identify and correct for the problem of multicollinearity.\n",
    "3. Identify and correct for the problem of heteroskedasticity. \n",
    "4. Identify and correct for the problem of non-linearity. \n",
    "\n",
    "\n",
    "## 14.1 Dealing with Outliers \n",
    "\n",
    "Imagine that we have constructed a dependent variable which contains the wage growth of individual workers and we see that some worker's wages increased more than 400%. We might wonder if this massive change is an coding error made by the statisticians that produced the dataset. Even without that type of error, we might worry that the wage growth of small number of observations are a driving the results we are obtaining. If this is the case, we would be producing an inaccurate analysis based on results that are not associated with the majority of our observations. \n",
    "\n",
    "The standard practice in these cases is to either winsorize or trim the subset of observations that are used in that regression. Both practices remove the outlier values in the dependent variable to allow us to produce a more accurate empirical analysis. \n",
    "\n",
    "<div class=\"alert alert-block alert-warning\">\n",
    "    \n",
    "<b>Warning:</b> You should only consider fixing outliers when there is a clear reason to address this issue. Do not apply the tools below if the summary statistics in your data make sense to you in terms of abnormal values. For example, outliers might be a sign that your dependent and explanatory variables have a non-linear relationship. If that is the case you will want to consider including an interaction term that addresses that non-linearity. \n",
    "    \n",
    "</div>\n",
    "\n",
    "### 14.1.1 Winsorizing your Dependent Variable\n",
    "\n",
    "Winsorizing is the process of limiting extreme values in the dependent variable. to reduce the effect of (possibly erroneous) outliers. It consists on replacing values below the $a$ percentile by that percentile value, and values above the $b$ percentile by that percentile. Consider the following example using our fake data set:\n"
   ]
  },
  {
   "cell_type": "code",
   "execution_count": null,
   "id": "7cb96f2a",
   "metadata": {},
   "outputs": [],
   "source": [
    "clear* \n",
    "\n",
    "cd \"/Users/marinaadshade/Documents/TELF Project/raw\"\n",
    "use fake_data, clear "
   ]
  },
  {
   "cell_type": "code",
   "execution_count": null,
   "id": "9cfedc8f",
   "metadata": {},
   "outputs": [],
   "source": [
    "su earnings, d"
   ]
  },
  {
   "cell_type": "markdown",
   "id": "8f64c4df",
   "metadata": {},
   "source": [
    "From the summary statistics above you can see that that the income earned by the individual at the 1st percentile is 2,037.23 and that the lowest earner in the data set earned is 8.88.  \n",
    "\n",
    "We can also see that income earned by the individual at the 99th percentile is only of 540,525.90 and that the highest earner in the data earned over 190,000,000!\n",
    "\n",
    "This table suggests to us that there are large outliers in our dependent variable.\n",
    "\n",
    "We want to get rid of these outliers by winsorizing our data set. What that will mean is replacing the earnings of all observations below the 1st percentile by exactly the earnings of the individual at the 1st percentile. And replacing the earnings of all observations above the 99th percentile by exactly the earnings of the individual at the 99th percentile. \n",
    "\n",
    "Recall that we can see how Stata stored the information in the previously run `summarize` command by using the command `return list`."
   ]
  },
  {
   "cell_type": "code",
   "execution_count": null,
   "id": "4e481b53",
   "metadata": {},
   "outputs": [],
   "source": [
    "return list"
   ]
  },
  {
   "cell_type": "markdown",
   "id": "7d26ae53-4f54-485f-aaa9-b2371687de07",
   "metadata": {},
   "source": [
    "To winsorize this data, we do the following:\n",
    "\n",
    "1. Create a new variable with the same values as earnings that we will call it earnings_winsor (`gen earnings_winsor = earnings`). The reason why we can decide to store the winsorized version of the dependent variable as a different variable is just for organizational purposes - we don't want to overwrite the original data set. \n",
    "2. If earnings are smaller than 1st percentile, we will replace the values of earnings_winsor with the earnings of the individual at the 1st percentile (stored in Stata in r(p1)).\n",
    "3. If earnings are larger than 1st percentile, we will replace the values of earnings_winsor with the earnings of the individual at the 99th percentile (stored in Stata in r(p99).\n",
    "\n",
    "\n",
    "You can run these commands yourself below:"
   ]
  },
  {
   "cell_type": "code",
   "execution_count": null,
   "id": "ed3ddf66",
   "metadata": {},
   "outputs": [],
   "source": [
    "gen earnings_winsor = earnings\n",
    "replace earnings_winsor = r(p1) if earnings_winsor<r(p1)\n",
    "replace earnings_winsor = r(p99) if earnings_winsor>r(p99)"
   ]
  },
  {
   "cell_type": "markdown",
   "id": "50fed47a-d942-45f7-a130-0bcac88b689c",
   "metadata": {},
   "source": [
    "Let's take a look at the summary statistics of the original earnings variable and the new variable that we have created:"
   ]
  },
  {
   "cell_type": "code",
   "execution_count": null,
   "id": "0243cc71",
   "metadata": {},
   "outputs": [],
   "source": [
    "su earnings earnings_winsor"
   ]
  },
  {
   "cell_type": "markdown",
   "id": "810e01f6",
   "metadata": {
    "tags": []
   },
   "source": [
    "Now you will use this new dependent variable in your regression analysis. If the outliers were not creating problems, there will be no change in the results. If they were creating problems, those problems will now be fixed. \n",
    "\n",
    "Let's take a look at this by first running the regression from [Module 12]() with the original earning variable. \n"
   ]
  },
  {
   "cell_type": "code",
   "execution_count": null,
   "id": "c1969b50-431f-4832-8a36-f5266a3b0e2b",
   "metadata": {
    "scrolled": true,
    "tags": []
   },
   "outputs": [],
   "source": [
    "capture drop logearnings\n",
    "gen logearnings = log(earnings)\n",
    "regress logearnings age "
   ]
  },
  {
   "cell_type": "markdown",
   "id": "fe843db7-71ca-45fc-b32f-d43ba225091b",
   "metadata": {
    "tags": []
   },
   "source": [
    "Now we will run this again, using the new winsorized earning variable. "
   ]
  },
  {
   "cell_type": "code",
   "execution_count": null,
   "id": "0a96723a-bdca-4d7e-90d4-f25df347e670",
   "metadata": {
    "scrolled": true,
    "tags": []
   },
   "outputs": [],
   "source": [
    "capture drop logearnings_winsor\n",
    "gen logearnings_winsor = log(earnings_winsor)\n",
    "regress logearnings_winsor age "
   ]
  },
  {
   "cell_type": "markdown",
   "id": "c8b07933-77fe-405b-8308-3fecb3896484",
   "metadata": {},
   "source": [
    "Do you think that in this case the outliers were having a significant impact?"
   ]
  },
  {
   "cell_type": "markdown",
   "id": "dbd9db9f",
   "metadata": {
    "tags": []
   },
   "source": [
    "### 14.1.2 Trimming your Dependent Variable \n",
    "\n",
    "Trimming consists of replacing both values below the $a$ percentile and values above the $b$ percentile by a missing value. The idea is that when that variable equals a missing value it won't be used in the regression. Stata by design does not include observations where there are missing variables in the command `regress`.\n",
    "\n",
    "Here are the commands for trimming your variable. "
   ]
  },
  {
   "cell_type": "code",
   "execution_count": null,
   "id": "c59570e7",
   "metadata": {
    "tags": []
   },
   "outputs": [],
   "source": [
    "capture drop earnings_trim\n",
    "gen earnings_trim = earnings\n",
    "replace earnings_trim = . if earnings_trim<r(p1)\n",
    "replace earnings_trim = . if earnings_trim>r(p99)"
   ]
  },
  {
   "cell_type": "markdown",
   "id": "3ba74dae-65ea-4bd7-ba82-dff0341489eb",
   "metadata": {},
   "source": [
    "And here is the result of the regression with the new dependent variable. "
   ]
  },
  {
   "cell_type": "code",
   "execution_count": null,
   "id": "6c300756-667f-4d75-9fe9-f89e7e1e85b5",
   "metadata": {
    "scrolled": true,
    "tags": []
   },
   "outputs": [],
   "source": [
    "capture drop logearnings_trim\n",
    "gen logearnings_trim = log(earnings_trim)\n",
    "regress logearnings_trim age "
   ]
  },
  {
   "cell_type": "markdown",
   "id": "5026b02d",
   "metadata": {},
   "source": [
    "## 14.2 Multicollinearity \n",
    "\n",
    "If two variables are linear combinations of one another they are multicollinear. Ultimately, Stata will not allow you to include two variables in a regression that are perfect linear combinations of one another, such as a constant, a dummy variable for male and a dummy for female (since female = 1 - male). If you try this yourself you will see that one of those variables will be dropped from the regression \"because of collinearity\".\n"
   ]
  },
  {
   "cell_type": "code",
   "execution_count": null,
   "id": "1841acca",
   "metadata": {},
   "outputs": [],
   "source": [
    "cap drop male\n",
    "gen male = sex == \"M\"\n",
    "\n",
    "cap drop female \n",
    "gen female = sex == \"F\""
   ]
  },
  {
   "cell_type": "code",
   "execution_count": null,
   "id": "0e559eb3",
   "metadata": {},
   "outputs": [],
   "source": [
    "reg logearnings male female"
   ]
  },
  {
   "cell_type": "markdown",
   "id": "cf83d5c1",
   "metadata": {},
   "source": [
    "Is this a problem? Not really. Multicollinearity is a sign that a variable is not adding any new information. Notice that with the constant term and a male dummy we can know the mean earnings of the females. In this case, the constant term is by construction the mean earnings of females, and the male dummy gives the earning premium is paid to male workers.\n",
    "\n",
    "While there are some statistical tests for multicollinearity, nothing beats having the right intuition when running regression. If there is an obvious case where two variables contain basically the same information, you should avoid including both in the analysis. \n",
    "\n",
    "For instance, we might have an age variable that includes both years and months (e.g. if a baby is 1 year and 1 month old, then this age variable would be coded as 1 + 1/12 = 1.083). If we included this variable in a regression that also include an age variable that includes only years (e.g the baby's age would be codeds as 1) then we would have the problem of multicollinearity. Because they are not perfectly collinear, Stata might still produce some results but the coefficients on these two variables would be biased. "
   ]
  },
  {
   "cell_type": "markdown",
   "id": "c6588110",
   "metadata": {},
   "source": [
    "## 14.3 Heteroskedasticity \n",
    "\n",
    "When we run a linear regression we essentially split the outcome into a (linear) part explained by observables and an error term:\n",
    "$$ y_i = a + b x_i + e_i$$ \n",
    "\n",
    "The standard errors in our coefficients depend on $e_i^2$ (as you might remember from ECON 326). Heteroskedasticity refers to the case where the variance of this projection error depends on the observables $x_i$. For instance, the variance of wages tends to be higher for people who are university educated (there is some people with very high wages) whereas it is small for people who are non-university educated (they tend to be concentrated in smaller paying jobs).  Stata by defaults assumes that the variance does not depend on the observables, also known as homoskedasticity. It is safe to say that this is an incredibly restrictive assumption.\n",
    "\n",
    "While there are tests for heteroskedasticity, the standard applied econometrician relies on including the option `robust` at the end of the `regress` command for the OLS regression. "
   ]
  },
  {
   "cell_type": "code",
   "execution_count": null,
   "id": "f610df1a",
   "metadata": {},
   "outputs": [],
   "source": [
    "cap drop logearnings\n",
    "gen logearnings = log(earnings)\n",
    "regress logearn age, robust"
   ]
  },
  {
   "cell_type": "markdown",
   "id": "c3e28c20",
   "metadata": {
    "tags": []
   },
   "source": [
    "Best practices are simply to always use robust standard errors in your ECON 490 project."
   ]
  },
  {
   "cell_type": "markdown",
   "id": "41387be7-188f-4015-a7db-80ce88a203ac",
   "metadata": {
    "tags": []
   },
   "source": [
    "## 14.4 Non-linearity\n",
    "\n",
    "Our regression analysis so far assumes that the relationship between our independent and explanitory variables is linear. If this is not the case, and the relationship is non-linear, then we are getting inaccurate results with our analysis. \n",
    "\n",
    "Let's consider an example. We know that earnings increases with age, but what if economic theory predicts that the amount that earnings increases for each year of age when workers are younger is larger than the amount that earnings increases for each year of age when workers are older? Another way to say this is, what if we predict that earnings is increasing with age at a decreasing rate?\n",
    "\n",
    "We could correct for this in our model by including a new interaction term that is simply age interacted with itself. You learned how to do this in [Module 13](). Let's include this in regression above remembering the age is a continuous variable "
   ]
  },
  {
   "cell_type": "code",
   "execution_count": null,
   "id": "10ab7d5b-3683-4868-b0ac-8cc00ebab38d",
   "metadata": {},
   "outputs": [],
   "source": [
    "reg logearning c.age##c.age"
   ]
  },
  {
   "cell_type": "markdown",
   "id": "42c201c2-f7e4-415e-a931-659ef9ae04d6",
   "metadata": {},
   "source": [
    "There does seem to be some evidence in our regression results that this economic theory is correct since the coefficent on the interaction term is both negative and statistically significant.\n",
    "\n",
    "<div class=\"alert alert-info\">\n",
    "\n",
    "\n",
    "**Note:** If there is a strong theoretical reason for believing that non-linearity exists Stata provides some tests for non-lineary. You can also created a scatterplot to see if you can observe a non-linear relationship in the data. We covered that approach in [Module 9]().\n",
    "    \n",
    "</div>\n",
    "\n",
    "\n"
   ]
  },
  {
   "cell_type": "markdown",
   "id": "aaca8ff2-3cc5-4f75-a91d-c80c6f7f38a9",
   "metadata": {},
   "source": [
    "## 14.4 Wrap up \n",
    "\n",
    "While it is important to always follow best practices for regression analysis, checking and correcting for outliers, heteroskedaticy, multicollinearity and non-linearity can be more of an art than a science. If you need any guidance on whether or not you need to address these issues please be certian to speak with your instructor or your TA."
   ]
  }
 ],
 "metadata": {
  "kernelspec": {
   "display_name": "Stata",
   "language": "stata",
   "name": "stata"
  },
  "language_info": {
   "codemirror_mode": "stata",
   "file_extension": ".do",
   "mimetype": "text/x-stata",
   "name": "stata",
   "version": "15.1"
  }
 },
 "nbformat": 4,
 "nbformat_minor": 5
}
