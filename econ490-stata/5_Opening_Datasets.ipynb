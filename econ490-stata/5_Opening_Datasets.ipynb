{
 "cells": [
  {
   "cell_type": "markdown",
   "id": "0e59219e-040e-4a6b-9e90-26d4176b113c",
   "metadata": {},
   "source": [
    "# ECON 490: Opening Datasets (5)\n",
    "\n",
    "## Prerequisites:\n",
    "---\n",
    "1. Setting up Anaconda and Stata kernel\n",
    "2. Learning how to use Stata do files\n",
    "3. Understanding the basic syntax of stata commands\n",
    "4. Understanding local and global variables \n",
    "\n",
    "## Learning objectives:\n",
    "---\n",
    "By the end of this module you will be able to:\n",
    "- Import and save datasets in stata "
   ]
  },
  {
   "cell_type": "markdown",
   "id": "c549f25e",
   "metadata": {},
   "source": [
    "In this repository you will notice that there is a folder named data, with a sub-folder named raw. You'll find two different versions of the same dataset. The dataset simulates information of workers in the years 1982-2012 in a fake country where, in 2003, a policy was enacted that allowed some workers to enter a training program with the purpose of boosting their earnings. We'll use this dataset to learn how to explore and manipulate real-world datasets. "
   ]
  },
  {
   "cell_type": "markdown",
   "id": "6ad05f12",
   "metadata": {},
   "source": [
    "## 5.1 Clearing the Workspace\n",
    "\n",
    "*Every* do-file must begin with some command that clears the previous work that has been done in Stata. This makes sure that \n",
    "1. We do not waste computer memory in things other than the current project.\n",
    "2. Whatever result we obtain in the current session truly belongs to that session.\n",
    "\n",
    "\n",
    "We can clean the workspace from many different things (see `help clear` if needed). For the purpose of this lecture, the easiest thing to deal with it all is to write the following"
   ]
  },
  {
   "cell_type": "code",
   "execution_count": 2,
   "id": "d8f05172",
   "metadata": {},
   "outputs": [],
   "source": [
    "clear *"
   ]
  },
  {
   "cell_type": "markdown",
   "id": "ae544dff",
   "metadata": {},
   "source": [
    "## 5.2 Changing Directories \n",
    "\n",
    "Before we get started on importing data into Stata, it is useful to know how to change the folder that Stata accesses whenever you run a command that either opens or saves a file. Once you instruct Stata to change the directory to a specific folder, from that point onward it will open files from that folder and save all files to that folder, including data files, do file and log files (more on these later in this course). Knowing how to change the directory will make the way you use Stata more efficient this is because, Stata will continue to do this until either the program is closed or you change to another directory. This means that every time you open Stata you will need to change the directory to the one you want to use. \n",
    "\n",
    "<div class=\"alert alert-info\">\n",
    "\n",
    "**Note:**  We write the directory path within quotation marks to make sure Stata interprets this as a single string of words. If we didn't do this, we may encounter issues with folders that include blank spaces. \n",
    "\n",
    "</div>\n",
    "\n",
    "Where have you saved the fake_data file? Lets change the directory to the specific location where the file is located using the command below! You can change your workspace to a directory named `some_folder/some_sub_folder` by writing `cd \"some_folder/some_sub_folder\"`."
   ]
  },
  {
   "cell_type": "code",
   "execution_count": 3,
   "id": "ad2645a8",
   "metadata": {},
   "outputs": [
    {
     "name": "stdout",
     "output_type": "stream",
     "text": [
      "C:\\Users\\paulc\\Dropbox\\Projects\\Gitlab\\econometrics\\econ490-stata\n"
     ]
    }
   ],
   "source": [
    "cd \".\""
   ]
  },
  {
   "cell_type": "markdown",
   "id": "51675fbf",
   "metadata": {},
   "source": [
    "Notice that once we change directory Stata prints the full name of the directory where we're currently working."
   ]
  },
  {
   "cell_type": "markdown",
   "id": "cebaadcd",
   "metadata": {},
   "source": [
    "## 5.3 Opening Datasets \n",
    "\n",
    "#### Excel and CSV files \n",
    "When looking for the data for your research you will realize that  many data sets are not formatted for Stata. In many cases, data sets are formatted as excel or csv files. Not surprisingly the command to to this job is called `import`, and has two main versions: `import excel` and `import delimited`. \n",
    "\n",
    "Let's open the dataset called `fake_data.csv`. The file type is noticeable in title of file for example, the fake data data frame is stored as a csv file hence, we would need to use import delimited to open this table in stata. The syntax of this command is `import delimited [using] filename [, import_delimited_options]`. \n",
    "\n",
    "We *always* include the option `clear` to make sure we're clearing any previous dataset that was opened before. Recall that to use an option, we include a comma (`,`) after the command line and write the option name. You are welcome to also read the documentation of these commands by writing `help import delimited`."
   ]
  },
  {
   "cell_type": "code",
   "execution_count": 4,
   "id": "e39dbfdf",
   "metadata": {},
   "outputs": [
    {
     "name": "stdout",
     "output_type": "stream",
     "text": [
      "(9 vars, 2,861,772 obs)\n"
     ]
    }
   ],
   "source": [
    "import delimited using \"fake_data.csv\", clear"
   ]
  },
  {
   "cell_type": "markdown",
   "id": "415ef7d6",
   "metadata": {},
   "source": [
    "Notice that Stata prints a message that says that there were 9 variables found with almost 3 million observations.  When we open datasets that are *not* in Stata format, it is very important to check whether the first row of the data include the variable names. "
   ]
  },
  {
   "cell_type": "code",
   "execution_count": 6,
   "id": "1887588f",
   "metadata": {},
   "outputs": [
    {
     "name": "stdout",
     "output_type": "stream",
     "text": [
      "\n",
      "     +----------------------------------------------------------------------+\n",
      "  1. | workerid | year | sex | birth_~r | age | start_~r | region | treated |\n",
      "     |        1 | 1999 |   M |     1944 |  55 |     1997 |      1 |       0 |\n",
      "     |----------------------------------------------------------------------|\n",
      "     |                               earnings                               |\n",
      "     |                               39975.01                               |\n",
      "     +----------------------------------------------------------------------+\n",
      "\n",
      "     +----------------------------------------------------------------------+\n",
      "  2. | workerid | year | sex | birth_~r | age | start_~r | region | treated |\n",
      "     |        1 | 2001 |   M |     1944 |  57 |     1997 |      1 |       0 |\n",
      "     |----------------------------------------------------------------------|\n",
      "     |                               earnings                               |\n",
      "     |                               278378.1                               |\n",
      "     +----------------------------------------------------------------------+\n",
      "\n",
      "     +----------------------------------------------------------------------+\n",
      "  3. | workerid | year | sex | birth_~r | age | start_~r | region | treated |\n",
      "     |        2 | 2001 |   M |     1947 |  54 |     2001 |      4 |       0 |\n",
      "     |----------------------------------------------------------------------|\n",
      "     |                               earnings                               |\n",
      "     |                                18682.6                               |\n",
      "     +----------------------------------------------------------------------+\n"
     ]
    }
   ],
   "source": [
    "list in 1/3 //List first 3 observations"
   ]
  },
  {
   "cell_type": "markdown",
   "id": "57afd700",
   "metadata": {},
   "source": [
    "By default the first row of data is interpreted as the variable names, which in this case was correct. If that's not the case, we need to include the import delimited option `varnames(#|nonames)`, where we replace `#` by the observation number that includes the names. If the data has no names the option is `varnames(nonames)`. Don't forget that you can always check the documentation by writing `help import delimited`.\n",
    "\n",
    "#### Stata files\n",
    "To open datasets in Stata format we use the command `use`. As we can observe from the example below, we can recognize a dataset is stored in stata format because the file's name should end with .dta."
   ]
  },
  {
   "cell_type": "code",
   "execution_count": 8,
   "id": "f5df833c",
   "metadata": {},
   "outputs": [],
   "source": [
    "use \"fake_data.dta\", clear"
   ]
  },
  {
   "cell_type": "code",
   "execution_count": 9,
   "id": "f04ae5e8",
   "metadata": {},
   "outputs": [
    {
     "name": "stdout",
     "output_type": "stream",
     "text": [
      "\n",
      "     +----------------------------------------------------------------------+\n",
      "  1. | workerid | year | sex | birth_~r | age | start_~r | region | treated |\n",
      "     |        1 | 1999 |   M |     1944 |  55 |     1997 |      1 |       0 |\n",
      "     |----------------------------------------------------------------------|\n",
      "     |                               earnings                               |\n",
      "     |                               39975.01                               |\n",
      "     +----------------------------------------------------------------------+\n",
      "\n",
      "     +----------------------------------------------------------------------+\n",
      "  2. | workerid | year | sex | birth_~r | age | start_~r | region | treated |\n",
      "     |        1 | 2001 |   M |     1944 |  57 |     1997 |      1 |       0 |\n",
      "     |----------------------------------------------------------------------|\n",
      "     |                               earnings                               |\n",
      "     |                               278378.1                               |\n",
      "     +----------------------------------------------------------------------+\n",
      "\n",
      "     +----------------------------------------------------------------------+\n",
      "  3. | workerid | year | sex | birth_~r | age | start_~r | region | treated |\n",
      "     |        2 | 2001 |   M |     1947 |  54 |     2001 |      4 |       0 |\n",
      "     |----------------------------------------------------------------------|\n",
      "     |                               earnings                               |\n",
      "     |                                18682.6                               |\n",
      "     +----------------------------------------------------------------------+\n"
     ]
    }
   ],
   "source": [
    "list in 1/3 //List first 3 observations"
   ]
  },
  {
   "cell_type": "markdown",
   "id": "3e82767b",
   "metadata": {},
   "source": [
    "## 5.4 Saving Datasets \n",
    "\n",
    "You can save any opened dataset into Stata format by writing `save using \"some_directory/dataset_name.dta, replace`. The replace option overwrites a previous version of the file. \n",
    "\n",
    "We can also save files into different formats with the `export excel` and `export delimited` commands. You may check any details in the documentation to do so."
   ]
  }
 ],
 "metadata": {
  "kernelspec": {
   "display_name": "Stata",
   "language": "stata",
   "name": "stata"
  },
  "language_info": {
   "codemirror_mode": "stata",
   "file_extension": ".do",
   "mimetype": "text/x-stata",
   "name": "stata",
   "version": "15.1"
  }
 },
 "nbformat": 4,
 "nbformat_minor": 5
}
