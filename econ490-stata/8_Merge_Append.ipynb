{
 "cells": [
  {
   "cell_type": "markdown",
   "id": "8f1c10ba",
   "metadata": {},
   "source": [
    "# ECON 490: Merge and Append (8)\n",
    "\n",
    "## Prerequisites \n",
    "---\n",
    "1. Be able to effectively use Stata do files and generate log files.\n",
    "2. Be able to change your directory so that Stata can find your files.\n",
    "3. Import datasets in csv and dta format. \n",
    "4. Save data files. \n",
    "5. Create new variables using the command `egen` and pre-commands`by` and `bysort`.\n",
    "\n",
    "## Learning objectives:\n",
    "---\n",
    "- Adding new variables to an existing dataset (merge).\n",
    "- Adding new observations to already existing variables (append).\n",
    "\n",
    "We'll continue working with the fake data dataset introduced in the previous lecture. Recall that this dataset is simulating information of workers in the years 1982-2012 in a fake country where a training program was introduced in 2003 to boost their earnings. "
   ]
  },
  {
   "cell_type": "code",
   "execution_count": 1,
   "id": "a3c10420",
   "metadata": {},
   "outputs": [],
   "source": [
    "clear*\n",
    "\n",
    "use fake_data, clear"
   ]
  },
  {
   "cell_type": "markdown",
   "id": "69e4b1d2-c3d1-4f94-b776-db96a4bba980",
   "metadata": {},
   "source": [
    "## 8.1 Merge \n",
    "\n",
    "Before introducing the command `merge`, we need the different steps needed to properly combine datasets.\n",
    "\n",
    "### 1. Check the dataset's unique identifiers \n",
    "The key to merging datasets is to understand what are the variables that *uniquely* identify each observation."
   ]
  },
  {
   "cell_type": "code",
   "execution_count": 3,
   "id": "3c8f989c",
   "metadata": {},
   "outputs": [
    {
     "data": {
      "text/html": [
       "<div>\n",
       "<style scoped>\n",
       "    .dataframe tbody tr th:only-of-type {\n",
       "        vertical-align: middle;\n",
       "    }\n",
       "\n",
       "    .dataframe tbody tr th {\n",
       "        vertical-align: top;\n",
       "    }\n",
       "\n",
       "    .dataframe thead th {\n",
       "        text-align: right;\n",
       "    }\n",
       "</style>\n",
       "<table border=\"1\" class=\"dataframe\">\n",
       "  <thead>\n",
       "    <tr style=\"text-align: right;\">\n",
       "      <th></th>\n",
       "      <th>workerid</th>\n",
       "      <th>year</th>\n",
       "      <th>sex</th>\n",
       "      <th>birth_year</th>\n",
       "      <th>age</th>\n",
       "      <th>start_year</th>\n",
       "      <th>region</th>\n",
       "      <th>treated</th>\n",
       "      <th>earnings</th>\n",
       "    </tr>\n",
       "  </thead>\n",
       "  <tbody>\n",
       "    <tr>\n",
       "      <th>1</th>\n",
       "      <td>1</td>\n",
       "      <td>1999</td>\n",
       "      <td>M</td>\n",
       "      <td>1944</td>\n",
       "      <td>55</td>\n",
       "      <td>1997</td>\n",
       "      <td>1</td>\n",
       "      <td>0</td>\n",
       "      <td>39975.008</td>\n",
       "    </tr>\n",
       "    <tr>\n",
       "      <th>2</th>\n",
       "      <td>1</td>\n",
       "      <td>2001</td>\n",
       "      <td>M</td>\n",
       "      <td>1944</td>\n",
       "      <td>57</td>\n",
       "      <td>1997</td>\n",
       "      <td>1</td>\n",
       "      <td>0</td>\n",
       "      <td>278378.06</td>\n",
       "    </tr>\n",
       "    <tr>\n",
       "      <th>3</th>\n",
       "      <td>2</td>\n",
       "      <td>2001</td>\n",
       "      <td>M</td>\n",
       "      <td>1947</td>\n",
       "      <td>54</td>\n",
       "      <td>2001</td>\n",
       "      <td>4</td>\n",
       "      <td>0</td>\n",
       "      <td>18682.6</td>\n",
       "    </tr>\n",
       "    <tr>\n",
       "      <th>4</th>\n",
       "      <td>2</td>\n",
       "      <td>2002</td>\n",
       "      <td>M</td>\n",
       "      <td>1947</td>\n",
       "      <td>55</td>\n",
       "      <td>2001</td>\n",
       "      <td>4</td>\n",
       "      <td>0</td>\n",
       "      <td>293336.41</td>\n",
       "    </tr>\n",
       "    <tr>\n",
       "      <th>5</th>\n",
       "      <td>2</td>\n",
       "      <td>2003</td>\n",
       "      <td>M</td>\n",
       "      <td>1947</td>\n",
       "      <td>56</td>\n",
       "      <td>2001</td>\n",
       "      <td>4</td>\n",
       "      <td>0</td>\n",
       "      <td>111797.26</td>\n",
       "    </tr>\n",
       "    <tr>\n",
       "      <th>6</th>\n",
       "      <td>3</td>\n",
       "      <td>2005</td>\n",
       "      <td>M</td>\n",
       "      <td>1951</td>\n",
       "      <td>54</td>\n",
       "      <td>2005</td>\n",
       "      <td>5</td>\n",
       "      <td>0</td>\n",
       "      <td>88351.672</td>\n",
       "    </tr>\n",
       "    <tr>\n",
       "      <th>7</th>\n",
       "      <td>3</td>\n",
       "      <td>2010</td>\n",
       "      <td>M</td>\n",
       "      <td>1951</td>\n",
       "      <td>59</td>\n",
       "      <td>2005</td>\n",
       "      <td>5</td>\n",
       "      <td>0</td>\n",
       "      <td>46229.574</td>\n",
       "    </tr>\n",
       "    <tr>\n",
       "      <th>8</th>\n",
       "      <td>4</td>\n",
       "      <td>1997</td>\n",
       "      <td>M</td>\n",
       "      <td>1952</td>\n",
       "      <td>45</td>\n",
       "      <td>1997</td>\n",
       "      <td>5</td>\n",
       "      <td>1</td>\n",
       "      <td>24911.029</td>\n",
       "    </tr>\n",
       "    <tr>\n",
       "      <th>9</th>\n",
       "      <td>4</td>\n",
       "      <td>2001</td>\n",
       "      <td>M</td>\n",
       "      <td>1952</td>\n",
       "      <td>49</td>\n",
       "      <td>1997</td>\n",
       "      <td>5</td>\n",
       "      <td>1</td>\n",
       "      <td>9908.3623</td>\n",
       "    </tr>\n",
       "    <tr>\n",
       "      <th>10</th>\n",
       "      <td>5</td>\n",
       "      <td>2009</td>\n",
       "      <td>M</td>\n",
       "      <td>1954</td>\n",
       "      <td>55</td>\n",
       "      <td>1998</td>\n",
       "      <td>2</td>\n",
       "      <td>1</td>\n",
       "      <td>137207.34</td>\n",
       "    </tr>\n",
       "  </tbody>\n",
       "</table>\n",
       "</div>"
      ],
      "text/plain": [
       "\n",
       "     +----------------------------------------------------------------------+\n",
       "  1. | workerid | year | sex | birth_~r | age | start_~r | region | treated |\n",
       "     |        1 | 1999 |   M |     1944 |  55 |     1997 |      1 |       0 |\n",
       "     |----------------------------------------------------------------------|\n",
       "     |                               earnings                               |\n",
       "     |                               39975.01                               |\n",
       "     +----------------------------------------------------------------------+\n",
       "\n",
       "     +----------------------------------------------------------------------+\n",
       "  2. | workerid | year | sex | birth_~r | age | start_~r | region | treated |\n",
       "     |        1 | 2001 |   M |     1944 |  57 |     1997 |      1 |       0 |\n",
       "     |----------------------------------------------------------------------|\n",
       "     |                               earnings                               |\n",
       "     |                               278378.1                               |\n",
       "     +----------------------------------------------------------------------+\n",
       "\n",
       "     +----------------------------------------------------------------------+\n",
       "  3. | workerid | year | sex | birth_~r | age | start_~r | region | treated |\n",
       "     |        2 | 2001 |   M |     1947 |  54 |     2001 |      4 |       0 |\n",
       "     |----------------------------------------------------------------------|\n",
       "     |                               earnings                               |\n",
       "     |                                18682.6                               |\n",
       "     +----------------------------------------------------------------------+\n",
       "\n",
       "     +----------------------------------------------------------------------+\n",
       "  4. | workerid | year | sex | birth_~r | age | start_~r | region | treated |\n",
       "     |        2 | 2002 |   M |     1947 |  55 |     2001 |      4 |       0 |\n",
       "     |----------------------------------------------------------------------|\n",
       "     |                               earnings                               |\n",
       "     |                               293336.4                               |\n",
       "     +----------------------------------------------------------------------+\n",
       "\n",
       "     +----------------------------------------------------------------------+\n",
       "  5. | workerid | year | sex | birth_~r | age | start_~r | region | treated |\n",
       "     |        2 | 2003 |   M |     1947 |  56 |     2001 |      4 |       0 |\n",
       "     |----------------------------------------------------------------------|\n",
       "     |                               earnings                               |\n",
       "     |                               111797.3                               |\n",
       "     +----------------------------------------------------------------------+\n",
       "\n",
       "     +----------------------------------------------------------------------+\n",
       "  6. | workerid | year | sex | birth_~r | age | start_~r | region | treated |\n",
       "     |        3 | 2005 |   M |     1951 |  54 |     2005 |      5 |       0 |\n",
       "     |----------------------------------------------------------------------|\n",
       "     |                               earnings                               |\n",
       "     |                               88351.67                               |\n",
       "     +----------------------------------------------------------------------+\n",
       "\n",
       "     +----------------------------------------------------------------------+\n",
       "  7. | workerid | year | sex | birth_~r | age | start_~r | region | treated |\n",
       "     |        3 | 2010 |   M |     1951 |  59 |     2005 |      5 |       0 |\n",
       "     |----------------------------------------------------------------------|\n",
       "     |                               earnings                               |\n",
       "     |                               46229.57                               |\n",
       "     +----------------------------------------------------------------------+\n",
       "\n",
       "     +----------------------------------------------------------------------+\n",
       "  8. | workerid | year | sex | birth_~r | age | start_~r | region | treated |\n",
       "     |        4 | 1997 |   M |     1952 |  45 |     1997 |      5 |       1 |\n",
       "     |----------------------------------------------------------------------|\n",
       "     |                               earnings                               |\n",
       "     |                               24911.03                               |\n",
       "     +----------------------------------------------------------------------+\n",
       "\n",
       "     +----------------------------------------------------------------------+\n",
       "  9. | workerid | year | sex | birth_~r | age | start_~r | region | treated |\n",
       "     |        4 | 2001 |   M |     1952 |  49 |     1997 |      5 |       1 |\n",
       "     |----------------------------------------------------------------------|\n",
       "     |                               earnings                               |\n",
       "     |                               9908.362                               |\n",
       "     +----------------------------------------------------------------------+\n",
       "\n",
       "     +----------------------------------------------------------------------+\n",
       " 10. | workerid | year | sex | birth_~r | age | start_~r | region | treated |\n",
       "     |        5 | 2009 |   M |     1954 |  55 |     1998 |      2 |       1 |\n",
       "     |----------------------------------------------------------------------|\n",
       "     |                               earnings                               |\n",
       "     |                               137207.3                               |\n",
       "     +----------------------------------------------------------------------+\n",
       "\n"
      ]
     },
     "metadata": {},
     "output_type": "display_data"
    }
   ],
   "source": [
    "%browse 10"
   ]
  },
  {
   "cell_type": "markdown",
   "id": "2d80707f",
   "metadata": {},
   "source": [
    "For example, it seems like each observation in the fake_data dataset is identified by the variables workerid and year (worker-year pair). We need to check whether this is true or not using the `duplicates report` command."
   ]
  },
  {
   "cell_type": "code",
   "execution_count": 4,
   "id": "a3ef249c",
   "metadata": {},
   "outputs": [
    {
     "name": "stdout",
     "output_type": "stream",
     "text": [
      "\n",
      "Duplicates in terms of workerid year\n",
      "\n",
      "--------------------------------------\n",
      "   copies | observations       surplus\n",
      "----------+---------------------------\n",
      "        1 |      2861772             0\n",
      "--------------------------------------\n"
     ]
    }
   ],
   "source": [
    "duplicates report workerid year"
   ]
  },
  {
   "cell_type": "markdown",
   "id": "cb7b0a22",
   "metadata": {},
   "source": [
    "What this table shows is that there are 2861772 workerid-year combination (which is exactly equal to all of our observations). This means that every observation we have corresponds to a worker in a particular year. \n",
    "\n",
    "Let's take a look at a different dataset now."
   ]
  },
  {
   "cell_type": "code",
   "execution_count": 5,
   "id": "537212ba",
   "metadata": {},
   "outputs": [],
   "source": [
    "use region_year_data, clear"
   ]
  },
  {
   "cell_type": "code",
   "execution_count": 6,
   "id": "c1b4c0bd",
   "metadata": {},
   "outputs": [
    {
     "data": {
      "text/html": [
       "<div>\n",
       "<style scoped>\n",
       "    .dataframe tbody tr th:only-of-type {\n",
       "        vertical-align: middle;\n",
       "    }\n",
       "\n",
       "    .dataframe tbody tr th {\n",
       "        vertical-align: top;\n",
       "    }\n",
       "\n",
       "    .dataframe thead th {\n",
       "        text-align: right;\n",
       "    }\n",
       "</style>\n",
       "<table border=\"1\" class=\"dataframe\">\n",
       "  <thead>\n",
       "    <tr style=\"text-align: right;\">\n",
       "      <th></th>\n",
       "      <th>year</th>\n",
       "      <th>region</th>\n",
       "      <th>avg_log_earnings</th>\n",
       "      <th>total_employment</th>\n",
       "    </tr>\n",
       "  </thead>\n",
       "  <tbody>\n",
       "    <tr>\n",
       "      <th>1</th>\n",
       "      <td>1998</td>\n",
       "      <td>1</td>\n",
       "      <td>10.506687</td>\n",
       "      <td>30004</td>\n",
       "    </tr>\n",
       "    <tr>\n",
       "      <th>2</th>\n",
       "      <td>1999</td>\n",
       "      <td>1</td>\n",
       "      <td>10.513171</td>\n",
       "      <td>31367</td>\n",
       "    </tr>\n",
       "    <tr>\n",
       "      <th>3</th>\n",
       "      <td>2000</td>\n",
       "      <td>1</td>\n",
       "      <td>10.511585</td>\n",
       "      <td>33429</td>\n",
       "    </tr>\n",
       "    <tr>\n",
       "      <th>4</th>\n",
       "      <td>2001</td>\n",
       "      <td>1</td>\n",
       "      <td>10.550608</td>\n",
       "      <td>34547</td>\n",
       "    </tr>\n",
       "    <tr>\n",
       "      <th>5</th>\n",
       "      <td>2002</td>\n",
       "      <td>1</td>\n",
       "      <td>10.529206</td>\n",
       "      <td>35503</td>\n",
       "    </tr>\n",
       "    <tr>\n",
       "      <th>6</th>\n",
       "      <td>2003</td>\n",
       "      <td>1</td>\n",
       "      <td>10.615291</td>\n",
       "      <td>35809</td>\n",
       "    </tr>\n",
       "    <tr>\n",
       "      <th>7</th>\n",
       "      <td>2004</td>\n",
       "      <td>1</td>\n",
       "      <td>10.558952</td>\n",
       "      <td>36161</td>\n",
       "    </tr>\n",
       "    <tr>\n",
       "      <th>8</th>\n",
       "      <td>2005</td>\n",
       "      <td>1</td>\n",
       "      <td>10.538996</td>\n",
       "      <td>36966</td>\n",
       "    </tr>\n",
       "    <tr>\n",
       "      <th>9</th>\n",
       "      <td>2006</td>\n",
       "      <td>1</td>\n",
       "      <td>10.511196</td>\n",
       "      <td>38161</td>\n",
       "    </tr>\n",
       "    <tr>\n",
       "      <th>10</th>\n",
       "      <td>2007</td>\n",
       "      <td>1</td>\n",
       "      <td>10.525853</td>\n",
       "      <td>38051</td>\n",
       "    </tr>\n",
       "  </tbody>\n",
       "</table>\n",
       "</div>"
      ],
      "text/plain": [
       "\n",
       "     +-------------------------------------+\n",
       "     | year   region   avg_lo~s   total_~t |\n",
       "     |-------------------------------------|\n",
       "  1. | 1998        1   10.50669      30004 |\n",
       "  2. | 1999        1   10.51317      31367 |\n",
       "  3. | 2000        1   10.51159      33429 |\n",
       "  4. | 2001        1   10.55061      34547 |\n",
       "  5. | 2002        1   10.52921      35503 |\n",
       "     |-------------------------------------|\n",
       "  6. | 2003        1   10.61529      35809 |\n",
       "  7. | 2004        1   10.55895      36161 |\n",
       "  8. | 2005        1     10.539      36966 |\n",
       "  9. | 2006        1    10.5112      38161 |\n",
       " 10. | 2007        1   10.52585      38051 |\n",
       "     +-------------------------------------+\n",
       "\n"
      ]
     },
     "metadata": {},
     "output_type": "display_data"
    }
   ],
   "source": [
    "%browse 10"
   ]
  },
  {
   "cell_type": "markdown",
   "id": "7e201a54",
   "metadata": {},
   "source": [
    "In this case, it seems that every observation corresponds to a region and year combination. Again, we can use `duplicates report` to see if the variables `region` and `year` uniquely identify all observations."
   ]
  },
  {
   "cell_type": "code",
   "execution_count": 7,
   "id": "d1f56c24",
   "metadata": {},
   "outputs": [
    {
     "name": "stdout",
     "output_type": "stream",
     "text": [
      "\n",
      "Duplicates in terms of region year\n",
      "\n",
      "--------------------------------------\n",
      "   copies | observations       surplus\n",
      "----------+---------------------------\n",
      "        1 |           70             0\n",
      "--------------------------------------\n"
     ]
    }
   ],
   "source": [
    "duplicates report region year"
   ]
  },
  {
   "cell_type": "markdown",
   "id": "bf10fd5f",
   "metadata": {},
   "source": [
    "Indeed! The table shows that there is not a single case of repeated copies of some observation. Hence, we will refer to these variables as the `unique identifiers`."
   ]
  },
  {
   "cell_type": "markdown",
   "id": "a59eb61d",
   "metadata": {},
   "source": [
    "### 1. Master and Using Datasets\n",
    "\n",
    "When merging data we need to decide which dataset will be the dataset (Stata refers to this dataset as `master`) and which will be secondary dataset. The secondary dataset  is were we will get the specific variables we want to duplicate in the `master` dataset and it is refered to as the `using` data."
   ]
  },
  {
   "cell_type": "markdown",
   "id": "c4637aa1",
   "metadata": {},
   "source": [
    "### 2. Matching observations \n",
    "There are three main ways to match observations. The first case is when both observations share the same unique identifiers, so one observation in the master dataset is matched to one observation in the using dataset (reffered as `1:1` merge). The other two cases arise when you match multiple observations in the master dataset to one observation in the using dataset (referred as `m:1` merge). If it is the case that one observation in the master dataset is matched to multiple observations in the using dataset this is known as a `1:m` merge."
   ]
  },
  {
   "cell_type": "markdown",
   "id": "6d5f51cd",
   "metadata": {},
   "source": [
    "### Merging\n",
    "Once we know the unique identifiers, the master and using datasets and what type of match we are doing we are able to merge the datasets. \n",
    "\n",
    "We begin by choosing the master dataset and having it opened in the current Stata session. For the sake of showing an example, let's suppose we want to set fake_data as the `master` dataset, and use region-year  as the `using` dataset. Like we said the fake_data's unique identifiers are workerid and year while the region-year's unique identifiers are region and year. The variables we use to link both datasets have to be the unique identifiers that are present in both datasets. Because `workerid` does not exist in the region-level dataset, we will use variable  `region` and `year` to merge the datasets. \n",
    "\n",
    "This would mean that for every region in the using dataset there will be many observations in the individual level (master) dataset to be matched. Therefore, this will be a `m:1` merge.  \n"
   ]
  },
  {
   "cell_type": "code",
   "execution_count": null,
   "id": "67674064",
   "metadata": {},
   "outputs": [],
   "source": [
    "use fake_data, clear"
   ]
  },
  {
   "cell_type": "code",
   "execution_count": 10,
   "id": "3f3c1442",
   "metadata": {},
   "outputs": [
    {
     "name": "stdout",
     "output_type": "stream",
     "text": [
      "\n",
      "    Result                           # of obs.\n",
      "    -----------------------------------------\n",
      "    not matched                       406,963\n",
      "        from master                   406,963  (_merge==1)\n",
      "        from using                          0  (_merge==2)\n",
      "\n",
      "    matched                         2,454,809  (_merge==3)\n",
      "    -----------------------------------------\n"
     ]
    }
   ],
   "source": [
    "merge m:1 region year using region_year_data"
   ]
  },
  {
   "cell_type": "markdown",
   "id": "efd8dcae",
   "metadata": {},
   "source": [
    "Let's analyze the table above. It says that there were 406,963 observations in the master data couldn't be matched to any observation in the using dataset. This is due to the fact that our dataset at the region-year level does not have information for some years. \n",
    "\n",
    "Furthermore, the previous table shows that every observation from the using dataset got matched to some observation in the master dataset. The total number of matched observations is roughly 2.5 million. All of this information gets recorded into a new varible named `_merge`. Because of this, it is good practice to write `cap drop _merge` before running a merge command or use the `nogen` option of this command. \n",
    "\n",
    "Would we get the same results if we switched the master and using datasets?"
   ]
  },
  {
   "cell_type": "code",
   "execution_count": 13,
   "id": "d911edf7",
   "metadata": {},
   "outputs": [
    {
     "name": "stdout",
     "output_type": "stream",
     "text": [
      "\n",
      "\n",
      "\n",
      "    Result                           # of obs.\n",
      "    -----------------------------------------\n",
      "    not matched                       406,963\n",
      "        from master                         0  (_merge==1)\n",
      "        from using                    406,963  (_merge==2)\n",
      "\n",
      "    matched                         2,454,809  (_merge==3)\n",
      "    -----------------------------------------\n"
     ]
    }
   ],
   "source": [
    "use region_year_data, clear\n",
    "merge 1:m region year using fake_data"
   ]
  },
  {
   "cell_type": "markdown",
   "id": "b53989ea",
   "metadata": {},
   "source": [
    "Indeed, we get the same information. We typically want to restrict to observations that were correctly matched across datasets."
   ]
  },
  {
   "cell_type": "code",
   "execution_count": 14,
   "id": "4b4a3f29",
   "metadata": {},
   "outputs": [
    {
     "name": "stdout",
     "output_type": "stream",
     "text": [
      "(406,963 observations deleted)\n"
     ]
    }
   ],
   "source": [
    "keep if _merge==3"
   ]
  },
  {
   "cell_type": "markdown",
   "id": "d407219d",
   "metadata": {},
   "source": [
    "## 8.2 Append\n",
    "\n",
    "We have used merge to combine datasets horizontally (we have added columns to the `master` dataset). However, if we want to combine datasets vertically  (add observations to the `master` dataset). Adding new information with `mas`  very simple compared to the previous command. When we have a master dataset opened in our session, we can add new informations from another dataset using the `append` command. \n",
    "\n",
    "The syntax is simpler than merge \n",
    "\n",
    "```\n",
    "    append using new_dataset\n",
    "```\n",
    "\n",
    "\n",
    "This command will add new observations to the variables that are named *the same* across both datasets."
   ]
  },
  {
   "cell_type": "markdown",
   "id": "659dde3e-2dad-496c-89f1-35e4538dcb27",
   "metadata": {},
   "source": [
    "## 8.3 Wrap up"
   ]
  },
  {
   "cell_type": "markdown",
   "id": "a8e6f3c1-9e7f-43b4-abba-b8f4df719c70",
   "metadata": {},
   "source": [
    "In this module we learned how to combine different datasets. The most important lesson we should take away from this module is that, When we want to merge different variables (columns) from one dataset to another we use the command `merge`. If we want to add observations (rows) from one dataset to another we use the command `append`.\n",
    "\n",
    "Also, for merging, do not forget to identify the which dataset is the `master` and which is the `using`, which variables are you merging and what are the unique identifiers."
   ]
  }
 ],
 "metadata": {
  "kernelspec": {
   "display_name": "Stata",
   "language": "stata",
   "name": "stata"
  },
  "language_info": {
   "codemirror_mode": "stata",
   "file_extension": ".do",
   "mimetype": "text/x-stata",
   "name": "stata",
   "version": "15.1"
  }
 },
 "nbformat": 4,
 "nbformat_minor": 5
}
