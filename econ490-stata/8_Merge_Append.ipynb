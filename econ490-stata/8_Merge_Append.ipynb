{
 "cells": [
  {
   "cell_type": "markdown",
   "id": "a5d91b2b-8a46-4f2f-b686-18add38954c2",
   "metadata": {},
   "source": [
    "# ECON 490: Merge and Append (8)\n",
    "\n",
    "## Prerequisites \n",
    "\n",
    "1. Change your directory so that Stata can find your files.\n",
    "2. Import datasets in csv and dta format. \n",
    "\n",
    "## Learning Outcomes\n",
    "\n",
    "1. Add new variables to an existing data set using `merge`.\n",
    "2. Add new observations to already existing variables `append`."
   ]
  },
  {
   "cell_type": "markdown",
   "id": "0477cfb7-c947-4d81-9ddf-34320057c59c",
   "metadata": {},
   "source": [
    "## 8.1 Introduction to Merge and Append\n",
    "\n",
    "Often when we are working with data sets it is necessary to merge or append existing data with other data sets. For example, imagine that we want to do one of the following:\n",
    "\n",
    "- We want to run a regression that has the number of births as the main dependent variable and education level of the mother as an explanatory variable. We have two such micro data sets, one from Canada and one from the US, and we want to combine them into one data set that includes observations from both countries. To do our research, we need to take one data set (say, the Canadian data) and append to it the second data set (here, the US data). This final data set will have same number of variables as the initial data set(s), but the number of observations will be the number of observations in the Canadian data set plus the number of observations in the US data set.\n",
    "\n",
    "- We want to run a regression that has the national fertility rate as the main dependent variable and GDP/capita as an explanatory variable. We have one macro data set that has three variables - country, year, and fertility rate - and a second macro data set also with three variables - country, year, and GDP/capita. To do our research, we need to merge these two data sets to create a final data set. That final data set will have the same number of observations as the initial data set(s), but now with four variables: country, year, fertility rate and GDP/capita. \n",
    "\n",
    "In this notebook, we will learn how to undertake these two approaches to combining data sets: using merge and append. \n",
    "\n",
    "We'll continue working with our fake data. Recall that this data set is simulating information of workers in the years 1982-2012 in a fake country where a training program was introduced in 2003 to boost their earnings. "
   ]
  },
  {
   "cell_type": "code",
   "execution_count": 1,
   "id": "a3c10420",
   "metadata": {},
   "outputs": [],
   "source": [
    "clear*\n",
    "\n",
    "use fake_data, clear"
   ]
  },
  {
   "cell_type": "markdown",
   "id": "69e4b1d2-c3d1-4f94-b776-db96a4bba980",
   "metadata": {},
   "source": [
    "## 8.2 Getting Ready to Merge and Append\n",
    "\n",
    "Before introducing the command `merge`, we need the follow the steps below in order to properly combine datasets.\n",
    "\n",
    "#### 8.2.1 Check the data set's unique identifiers \n",
    "\n",
    "The key to merging data sets is to understand which variable(s) uniquely identifies each observation.\n",
    "\n",
    "Let's look at our data. "
   ]
  },
  {
   "cell_type": "code",
   "execution_count": 2,
   "id": "3c8f989c",
   "metadata": {},
   "outputs": [
    {
     "data": {
      "text/html": [
       "<div>\n",
       "<style scoped>\n",
       "    .dataframe tbody tr th:only-of-type {\n",
       "        vertical-align: middle;\n",
       "    }\n",
       "\n",
       "    .dataframe tbody tr th {\n",
       "        vertical-align: top;\n",
       "    }\n",
       "\n",
       "    .dataframe thead th {\n",
       "        text-align: right;\n",
       "    }\n",
       "</style>\n",
       "<table border=\"1\" class=\"dataframe\">\n",
       "  <thead>\n",
       "    <tr style=\"text-align: right;\">\n",
       "      <th></th>\n",
       "      <th>workerid</th>\n",
       "      <th>year</th>\n",
       "      <th>sex</th>\n",
       "      <th>age</th>\n",
       "      <th>start_year</th>\n",
       "      <th>region</th>\n",
       "      <th>treated</th>\n",
       "      <th>earnings</th>\n",
       "      <th>sample_weight</th>\n",
       "    </tr>\n",
       "  </thead>\n",
       "  <tbody>\n",
       "    <tr>\n",
       "      <th>1</th>\n",
       "      <td>1</td>\n",
       "      <td>1999</td>\n",
       "      <td>M</td>\n",
       "      <td>55</td>\n",
       "      <td>1997</td>\n",
       "      <td>1</td>\n",
       "      <td>0</td>\n",
       "      <td>39975.008</td>\n",
       "      <td>.26076493</td>\n",
       "    </tr>\n",
       "    <tr>\n",
       "      <th>2</th>\n",
       "      <td>1</td>\n",
       "      <td>2001</td>\n",
       "      <td>M</td>\n",
       "      <td>57</td>\n",
       "      <td>1997</td>\n",
       "      <td>1</td>\n",
       "      <td>0</td>\n",
       "      <td>278378.06</td>\n",
       "      <td>.014273916</td>\n",
       "    </tr>\n",
       "    <tr>\n",
       "      <th>3</th>\n",
       "      <td>2</td>\n",
       "      <td>2001</td>\n",
       "      <td>M</td>\n",
       "      <td>54</td>\n",
       "      <td>2001</td>\n",
       "      <td>4</td>\n",
       "      <td>0</td>\n",
       "      <td>18682.6</td>\n",
       "      <td>.032186829</td>\n",
       "    </tr>\n",
       "    <tr>\n",
       "      <th>4</th>\n",
       "      <td>2</td>\n",
       "      <td>2002</td>\n",
       "      <td>M</td>\n",
       "      <td>55</td>\n",
       "      <td>2001</td>\n",
       "      <td>4</td>\n",
       "      <td>0</td>\n",
       "      <td>293336.41</td>\n",
       "      <td>.47120222</td>\n",
       "    </tr>\n",
       "    <tr>\n",
       "      <th>5</th>\n",
       "      <td>2</td>\n",
       "      <td>2003</td>\n",
       "      <td>M</td>\n",
       "      <td>56</td>\n",
       "      <td>2001</td>\n",
       "      <td>4</td>\n",
       "      <td>0</td>\n",
       "      <td>111797.26</td>\n",
       "      <td>.70438099</td>\n",
       "    </tr>\n",
       "    <tr>\n",
       "      <th>6</th>\n",
       "      <td>3</td>\n",
       "      <td>2005</td>\n",
       "      <td>M</td>\n",
       "      <td>54</td>\n",
       "      <td>2005</td>\n",
       "      <td>5</td>\n",
       "      <td>0</td>\n",
       "      <td>88351.672</td>\n",
       "      <td>.35590065</td>\n",
       "    </tr>\n",
       "    <tr>\n",
       "      <th>7</th>\n",
       "      <td>3</td>\n",
       "      <td>2010</td>\n",
       "      <td>M</td>\n",
       "      <td>59</td>\n",
       "      <td>2005</td>\n",
       "      <td>5</td>\n",
       "      <td>0</td>\n",
       "      <td>46229.574</td>\n",
       "      <td>.8969152</td>\n",
       "    </tr>\n",
       "    <tr>\n",
       "      <th>8</th>\n",
       "      <td>4</td>\n",
       "      <td>1997</td>\n",
       "      <td>M</td>\n",
       "      <td>45</td>\n",
       "      <td>1997</td>\n",
       "      <td>5</td>\n",
       "      <td>1</td>\n",
       "      <td>24911.029</td>\n",
       "      <td>.39900845</td>\n",
       "    </tr>\n",
       "    <tr>\n",
       "      <th>9</th>\n",
       "      <td>4</td>\n",
       "      <td>2001</td>\n",
       "      <td>M</td>\n",
       "      <td>49</td>\n",
       "      <td>1997</td>\n",
       "      <td>5</td>\n",
       "      <td>1</td>\n",
       "      <td>9908.3623</td>\n",
       "      <td>.55194622</td>\n",
       "    </tr>\n",
       "    <tr>\n",
       "      <th>10</th>\n",
       "      <td>5</td>\n",
       "      <td>2009</td>\n",
       "      <td>M</td>\n",
       "      <td>55</td>\n",
       "      <td>1998</td>\n",
       "      <td>2</td>\n",
       "      <td>1</td>\n",
       "      <td>137207.34</td>\n",
       "      <td>.014438981</td>\n",
       "    </tr>\n",
       "  </tbody>\n",
       "</table>\n",
       "</div>"
      ],
      "text/plain": [
       "\n",
       "     +----------------------------------------------------------------------+\n",
       "  1. | workerid | year | sex | age | start_~r | region | treated | earnings |\n",
       "     |        1 | 1999 |   M |  55 |     1997 |      1 |       0 | 39975.01 |\n",
       "     |----------------------------------------------------------------------|\n",
       "     |                               sample~t                               |\n",
       "     |                               .2607649                               |\n",
       "     +----------------------------------------------------------------------+\n",
       "\n",
       "     +----------------------------------------------------------------------+\n",
       "  2. | workerid | year | sex | age | start_~r | region | treated | earnings |\n",
       "     |        1 | 2001 |   M |  57 |     1997 |      1 |       0 | 278378.1 |\n",
       "     |----------------------------------------------------------------------|\n",
       "     |                               sample~t                               |\n",
       "     |                               .0142739                               |\n",
       "     +----------------------------------------------------------------------+\n",
       "\n",
       "     +----------------------------------------------------------------------+\n",
       "  3. | workerid | year | sex | age | start_~r | region | treated | earnings |\n",
       "     |        2 | 2001 |   M |  54 |     2001 |      4 |       0 |  18682.6 |\n",
       "     |----------------------------------------------------------------------|\n",
       "     |                               sample~t                               |\n",
       "     |                               .0321868                               |\n",
       "     +----------------------------------------------------------------------+\n",
       "\n",
       "     +----------------------------------------------------------------------+\n",
       "  4. | workerid | year | sex | age | start_~r | region | treated | earnings |\n",
       "     |        2 | 2002 |   M |  55 |     2001 |      4 |       0 | 293336.4 |\n",
       "     |----------------------------------------------------------------------|\n",
       "     |                               sample~t                               |\n",
       "     |                               .4712022                               |\n",
       "     +----------------------------------------------------------------------+\n",
       "\n",
       "     +----------------------------------------------------------------------+\n",
       "  5. | workerid | year | sex | age | start_~r | region | treated | earnings |\n",
       "     |        2 | 2003 |   M |  56 |     2001 |      4 |       0 | 111797.3 |\n",
       "     |----------------------------------------------------------------------|\n",
       "     |                               sample~t                               |\n",
       "     |                                .704381                               |\n",
       "     +----------------------------------------------------------------------+\n",
       "\n",
       "     +----------------------------------------------------------------------+\n",
       "  6. | workerid | year | sex | age | start_~r | region | treated | earnings |\n",
       "     |        3 | 2005 |   M |  54 |     2005 |      5 |       0 | 88351.67 |\n",
       "     |----------------------------------------------------------------------|\n",
       "     |                               sample~t                               |\n",
       "     |                               .3559006                               |\n",
       "     +----------------------------------------------------------------------+\n",
       "\n",
       "     +----------------------------------------------------------------------+\n",
       "  7. | workerid | year | sex | age | start_~r | region | treated | earnings |\n",
       "     |        3 | 2010 |   M |  59 |     2005 |      5 |       0 | 46229.57 |\n",
       "     |----------------------------------------------------------------------|\n",
       "     |                               sample~t                               |\n",
       "     |                               .8969152                               |\n",
       "     +----------------------------------------------------------------------+\n",
       "\n",
       "     +----------------------------------------------------------------------+\n",
       "  8. | workerid | year | sex | age | start_~r | region | treated | earnings |\n",
       "     |        4 | 1997 |   M |  45 |     1997 |      5 |       1 | 24911.03 |\n",
       "     |----------------------------------------------------------------------|\n",
       "     |                               sample~t                               |\n",
       "     |                               .3990085                               |\n",
       "     +----------------------------------------------------------------------+\n",
       "\n",
       "     +----------------------------------------------------------------------+\n",
       "  9. | workerid | year | sex | age | start_~r | region | treated | earnings |\n",
       "     |        4 | 2001 |   M |  49 |     1997 |      5 |       1 | 9908.362 |\n",
       "     |----------------------------------------------------------------------|\n",
       "     |                               sample~t                               |\n",
       "     |                               .5519462                               |\n",
       "     +----------------------------------------------------------------------+\n",
       "\n",
       "     +----------------------------------------------------------------------+\n",
       " 10. | workerid | year | sex | age | start_~r | region | treated | earnings |\n",
       "     |        5 | 2009 |   M |  55 |     1998 |      2 |       1 | 137207.3 |\n",
       "     |----------------------------------------------------------------------|\n",
       "     |                               sample~t                               |\n",
       "     |                                .014439                               |\n",
       "     +----------------------------------------------------------------------+\n",
       "\n"
      ]
     },
     "metadata": {},
     "output_type": "display_data"
    }
   ],
   "source": [
    "%browse 10"
   ]
  },
  {
   "cell_type": "markdown",
   "id": "2d80707f",
   "metadata": {},
   "source": [
    "Here we can see that each observation in the \"fake_data\" data set is identified by the variables *workerid* and *year* (worker-year pairs). \n",
    "\n",
    "We can check to see if this is correct using the command `duplicates report`."
   ]
  },
  {
   "cell_type": "code",
   "execution_count": 3,
   "id": "a3ef249c",
   "metadata": {},
   "outputs": [
    {
     "name": "stdout",
     "output_type": "stream",
     "text": [
      "\n",
      "Duplicates in terms of workerid year\n",
      "\n",
      "--------------------------------------\n",
      "   copies | observations       surplus\n",
      "----------+---------------------------\n",
      "        1 |       138138             0\n",
      "--------------------------------------\n"
     ]
    }
   ],
   "source": [
    "duplicates report workerid year"
   ]
  },
  {
   "cell_type": "markdown",
   "id": "cb7b0a22",
   "metadata": {},
   "source": [
    "What this table shows is that there are 2,861,772 *workerid-year* combinations (which is exactly equal to all of our observations). This means that every observation we have corresponds to a worker in a particular year. \n",
    "\n",
    "Let's take a look at a different data set now also stored in this folder. "
   ]
  },
  {
   "cell_type": "code",
   "execution_count": 5,
   "id": "537212ba",
   "metadata": {},
   "outputs": [],
   "source": [
    "gen log_earnings = log(earnings)\n",
    "collapse (mean) avg_log_earnings=log_earnings (count) total_employment = log_earnings, by(region year)\n",
    "la var avg_log_earnings \"Average Log-earnings in Region-Year Cell\""
   ]
  },
  {
   "cell_type": "code",
   "execution_count": 6,
   "id": "c1b4c0bd",
   "metadata": {},
   "outputs": [
    {
     "data": {
      "text/html": [
       "<div>\n",
       "<style scoped>\n",
       "    .dataframe tbody tr th:only-of-type {\n",
       "        vertical-align: middle;\n",
       "    }\n",
       "\n",
       "    .dataframe tbody tr th {\n",
       "        vertical-align: top;\n",
       "    }\n",
       "\n",
       "    .dataframe thead th {\n",
       "        text-align: right;\n",
       "    }\n",
       "</style>\n",
       "<table border=\"1\" class=\"dataframe\">\n",
       "  <thead>\n",
       "    <tr style=\"text-align: right;\">\n",
       "      <th></th>\n",
       "      <th>year</th>\n",
       "      <th>region</th>\n",
       "      <th>avg_log_earnings</th>\n",
       "      <th>total_employment</th>\n",
       "    </tr>\n",
       "  </thead>\n",
       "  <tbody>\n",
       "    <tr>\n",
       "      <th>1</th>\n",
       "      <td>1995</td>\n",
       "      <td>1</td>\n",
       "      <td>10.581908</td>\n",
       "      <td>4049</td>\n",
       "    </tr>\n",
       "    <tr>\n",
       "      <th>2</th>\n",
       "      <td>1996</td>\n",
       "      <td>1</td>\n",
       "      <td>10.546778</td>\n",
       "      <td>4129</td>\n",
       "    </tr>\n",
       "    <tr>\n",
       "      <th>3</th>\n",
       "      <td>1997</td>\n",
       "      <td>1</td>\n",
       "      <td>10.578369</td>\n",
       "      <td>4187</td>\n",
       "    </tr>\n",
       "    <tr>\n",
       "      <th>4</th>\n",
       "      <td>1998</td>\n",
       "      <td>1</td>\n",
       "      <td>10.650153</td>\n",
       "      <td>4191</td>\n",
       "    </tr>\n",
       "    <tr>\n",
       "      <th>5</th>\n",
       "      <td>1999</td>\n",
       "      <td>1</td>\n",
       "      <td>10.669973</td>\n",
       "      <td>4066</td>\n",
       "    </tr>\n",
       "    <tr>\n",
       "      <th>6</th>\n",
       "      <td>2000</td>\n",
       "      <td>1</td>\n",
       "      <td>10.67118</td>\n",
       "      <td>3957</td>\n",
       "    </tr>\n",
       "    <tr>\n",
       "      <th>7</th>\n",
       "      <td>2001</td>\n",
       "      <td>1</td>\n",
       "      <td>10.715242</td>\n",
       "      <td>3789</td>\n",
       "    </tr>\n",
       "    <tr>\n",
       "      <th>8</th>\n",
       "      <td>2002</td>\n",
       "      <td>1</td>\n",
       "      <td>10.71878</td>\n",
       "      <td>3632</td>\n",
       "    </tr>\n",
       "    <tr>\n",
       "      <th>9</th>\n",
       "      <td>2003</td>\n",
       "      <td>1</td>\n",
       "      <td>10.774245</td>\n",
       "      <td>3405</td>\n",
       "    </tr>\n",
       "    <tr>\n",
       "      <th>10</th>\n",
       "      <td>2004</td>\n",
       "      <td>1</td>\n",
       "      <td>10.738514</td>\n",
       "      <td>3140</td>\n",
       "    </tr>\n",
       "  </tbody>\n",
       "</table>\n",
       "</div>"
      ],
      "text/plain": [
       "\n",
       "     +-------------------------------------+\n",
       "     | year   region   avg_lo~s   total_~t |\n",
       "     |-------------------------------------|\n",
       "  1. | 1995        1   10.58191       4049 |\n",
       "  2. | 1996        1   10.54678       4129 |\n",
       "  3. | 1997        1   10.57837       4187 |\n",
       "  4. | 1998        1   10.65015       4191 |\n",
       "  5. | 1999        1   10.66997       4066 |\n",
       "     |-------------------------------------|\n",
       "  6. | 2000        1   10.67118       3957 |\n",
       "  7. | 2001        1   10.71524       3789 |\n",
       "  8. | 2002        1   10.71878       3632 |\n",
       "  9. | 2003        1   10.77425       3405 |\n",
       " 10. | 2004        1   10.73851       3140 |\n",
       "     +-------------------------------------+\n",
       "\n"
      ]
     },
     "metadata": {},
     "output_type": "display_data"
    }
   ],
   "source": [
    "%browse 10"
   ]
  },
  {
   "cell_type": "markdown",
   "id": "7e201a54",
   "metadata": {},
   "source": [
    "In this case, it seems that every observation corresponds to a region and year combination. Again, we can use `duplicates report` to see if the variables _region_ and *year* uniquely identify all observations."
   ]
  },
  {
   "cell_type": "code",
   "execution_count": 7,
   "id": "d1f56c24",
   "metadata": {},
   "outputs": [
    {
     "name": "stdout",
     "output_type": "stream",
     "text": [
      "\n",
      "Duplicates in terms of region year\n",
      "\n",
      "--------------------------------------\n",
      "   copies | observations       surplus\n",
      "----------+---------------------------\n",
      "        1 |           85             0\n",
      "--------------------------------------\n"
     ]
    }
   ],
   "source": [
    "duplicates report region year"
   ]
  },
  {
   "cell_type": "markdown",
   "id": "bf10fd5f",
   "metadata": {},
   "source": [
    "The table shows that there is not a single case of repeated observations. Hence, we will refer to these variables as the \"unique identifiers\"."
   ]
  },
  {
   "cell_type": "markdown",
   "id": "a59eb61d",
   "metadata": {},
   "source": [
    "#### 8.2.2 Identify the \"master\" and \"using\" data sets\n",
    "\n",
    "When merging data we need to decide which data set will be the primary data set (Stata refers to this data set as \"master\") and which will be the secondary data set (Stata refers to this data set as \"using\"). Often, it will not matter which is the master and which is the using data set; however, we need to know which is which in order to properly interpret our results. "
   ]
  },
  {
   "cell_type": "markdown",
   "id": "c4637aa1",
   "metadata": {},
   "source": [
    "#### 8.2.3 Identify the matching observations \n",
    "\n",
    "There are three main ways to match observations. The first is when both observations share the same unique identifiers, so that one observation in the master data set is matched to one observation in the using data set (referred to as a `1:1` merge). The other two ways arise when we match multiple observations in the master data set to one observation in the using data set (referred to as a `m:1` merge), or one observation in the master data set to multiple observations in the using data set (referred to as a `1:m` merge)."
   ]
  },
  {
   "cell_type": "markdown",
   "id": "6d5f51cd",
   "metadata": {},
   "source": [
    "## 8.3 Merging Data Sets\n",
    "\n",
    "Once we have the master and using data sets, we know our unique identifiers and what type of match we are doing, we are able to merge the data sets. \n",
    "\n",
    "We begin by having the master data opened in our current Stata session. For the sake example, let's suppose we want to set \"fake_data\" as the master data set, and use \"region-year\"  as the using data set. \n",
    "\n",
    "We already know that the \"fake_data\" data set's unique identifiers are *workerid* and *year*, while the \"region-year\" data set's unique identifiers are *region* and *year*. The variables we use to link both data sets have to be the unique identifiers that are present in both data sets. Because *workerid* does not exist in the region-level data set, we will use the variables *region* and *year* for our merge. \n",
    "\n",
    "This means that for every region in the using data set, there will be many observations in the individual level (master) data set to be matched. Therefore, this will be a `m:1` merge."
   ]
  },
  {
   "cell_type": "code",
   "execution_count": 8,
   "id": "1db218b9",
   "metadata": {},
   "outputs": [
    {
     "name": "stdout",
     "output_type": "stream",
     "text": [
      "\n",
      "\n",
      "\n",
      "\n",
      "\n",
      "(note: file region_year_data.dta not found)\n",
      "file region_year_data.dta saved\n"
     ]
    }
   ],
   "source": [
    "use fake_data, clear \n",
    "gen log_earnings = log(earnings)\n",
    "collapse (mean) avg_log_earnings=log_earnings (count) total_employment = log_earnings, by(region year)\n",
    "la var avg_log_earnings \"Average Log-earnings in Region-Year Cell\"\n",
    "save region_year_data, replace\n"
   ]
  },
  {
   "cell_type": "code",
   "execution_count": 9,
   "id": "67674064",
   "metadata": {},
   "outputs": [],
   "source": [
    "use fake_data, clear  // This sets this data set as the master"
   ]
  },
  {
   "cell_type": "code",
   "execution_count": 10,
   "id": "3f3c1442",
   "metadata": {},
   "outputs": [
    {
     "name": "stdout",
     "output_type": "stream",
     "text": [
      "\n",
      "    Result                           # of obs.\n",
      "    -----------------------------------------\n",
      "    not matched                             0\n",
      "    matched                           138,138  (_merge==3)\n",
      "    -----------------------------------------\n"
     ]
    }
   ],
   "source": [
    "merge m:1 region year using region_year_data "
   ]
  },
  {
   "cell_type": "markdown",
   "id": "efd8dcae",
   "metadata": {},
   "source": [
    "Let's analyze the table above. It says that there were 406,963 observations in the master data which couldn't be matched to any observation in the using data set. This is due to the fact that our data set at the region-year level does not have information for some years. \n",
    "\n",
    "Furthermore, the table shows that every observation from the using data set got matched to some observation in the master data set. The total number of matched observations is roughly 2.5 million. All of this information gets recorded in a new variable named *_merge*. Because of this, it is good practice to write `cap drop _merge` before running a merge command. \n",
    "\n",
    "Think about the following question: would we get the same results if we switched the master and using datasets?"
   ]
  },
  {
   "cell_type": "code",
   "execution_count": 11,
   "id": "d911edf7",
   "metadata": {},
   "outputs": [
    {
     "name": "stdout",
     "output_type": "stream",
     "text": [
      "\n",
      "\n",
      "\n",
      "    Result                           # of obs.\n",
      "    -----------------------------------------\n",
      "    not matched                             0\n",
      "    matched                           138,138  (_merge==3)\n",
      "    -----------------------------------------\n"
     ]
    }
   ],
   "source": [
    "use region_year_data, clear\n",
    "merge 1:m region year using fake_data"
   ]
  },
  {
   "cell_type": "markdown",
   "id": "b53989ea",
   "metadata": {},
   "source": [
    "Indeed, we get the same information. We typically want to restrict to observations that were correctly matched across datasets."
   ]
  },
  {
   "cell_type": "code",
   "execution_count": 12,
   "id": "4b4a3f29",
   "metadata": {},
   "outputs": [
    {
     "name": "stdout",
     "output_type": "stream",
     "text": [
      "(0 observations deleted)\n"
     ]
    }
   ],
   "source": [
    "keep if _merge==3"
   ]
  },
  {
   "cell_type": "markdown",
   "id": "b40fa5b9",
   "metadata": {},
   "source": [
    "<div class=\"alert alert-block alert-warning\">\n",
    "    \n",
    "<b>Warning:</b> Before dropping the unmerged observations, make sure you spend some time thinking about why they did not merge and correct any errors that you identify. For example, maybe your identifier is country and country names are different in the two data sets (i.e. one data set has \"Barbados\" and another data set has \"The Barbados\"). If this is the case, you will want to change one of these names and attempt your match a second time by merging again.   \n",
    "</div>"
   ]
  },
  {
   "cell_type": "markdown",
   "id": "d407219d",
   "metadata": {},
   "source": [
    "## 8.4 Appending Data Sets\n",
    "\n",
    "We have used `merge` to combine data sets horizontally (we have added columns/variables to the master data set). However, if we want to combine datasets vertically (add observations to the master data set) we can use `append`. Adding new information with `append` is very simple compared to working with `merge`. When we have a master data set opened in our session, we can add observations using the syntax:\n",
    "\n",
    "```stata\n",
    "    append using new_dataset\n",
    "```\n",
    "\n",
    "This command will add new observations to our master data set, so long as the variables across both data sets have the exact same name."
   ]
  },
  {
   "cell_type": "markdown",
   "id": "659dde3e-2dad-496c-89f1-35e4538dcb27",
   "metadata": {},
   "source": [
    "## 8.5 Wrap Up"
   ]
  },
  {
   "cell_type": "markdown",
   "id": "a8e6f3c1-9e7f-43b4-abba-b8f4df719c70",
   "metadata": {},
   "source": [
    "In this module we learned how to combine different data sets. This is an extremely useful skill, especially when we are undertaking panel data regressions. We will be learning more about these types of regressions in Module 17. Next, we will switch our focus to data visualization and look at how to graph in Stata."
   ]
  },
  {
   "cell_type": "markdown",
   "id": "692b3130-a65a-4bf8-8ede-80308d3ad4a5",
   "metadata": {},
   "source": [
    "## References\n",
    "\n",
    "[Merge files into a single dataset](https://www.youtube.com/watch?v=niGZBRyyDuY) <br>\n",
    "[Append files into a single dataset](https://www.youtube.com/watch?v=AZGW8tohiqw)"
   ]
  }
 ],
 "metadata": {
  "kernelspec": {
   "display_name": "Stata",
   "language": "stata",
   "name": "stata"
  },
  "language_info": {
   "codemirror_mode": "stata",
   "file_extension": ".do",
   "mimetype": "text/x-stata",
   "name": "stata",
   "version": "15.1"
  }
 },
 "nbformat": 4,
 "nbformat_minor": 5
}
