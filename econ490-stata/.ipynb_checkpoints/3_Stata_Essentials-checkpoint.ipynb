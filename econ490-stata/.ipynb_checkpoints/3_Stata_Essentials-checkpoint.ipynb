{
 "cells": [
  {
   "cell_type": "markdown",
   "id": "bb52bb08",
   "metadata": {},
   "source": [
    "# 3. Stata Essentials\n",
    "\n",
    "\n",
    "Before we proceed, let us open a dataset that is provided whenever we install Stata. This is a dataset on automobiles and their characteristics."
   ]
  },
  {
   "cell_type": "code",
   "execution_count": 1,
   "id": "4d70b608",
   "metadata": {},
   "outputs": [
    {
     "name": "stdout",
     "output_type": "stream",
     "text": [
      "(1978 Automobile Data)\n"
     ]
    }
   ],
   "source": [
    "sysuse auto.dta, clear"
   ]
  },
  {
   "cell_type": "markdown",
   "id": "af1f3cb2",
   "metadata": {},
   "source": [
    "## 3.1 Stata Syntax \n",
    "\n",
    "We'll begin this exploration by running a command that does not require any arguments to work."
   ]
  },
  {
   "cell_type": "code",
   "execution_count": 2,
   "id": "b45b7630",
   "metadata": {},
   "outputs": [
    {
     "name": "stdout",
     "output_type": "stream",
     "text": [
      "\n",
      "Contains data from C:\\Program Files (x86)\\Stata16\\ado\\base/a/auto.dta\n",
      "  obs:            74                          1978 Automobile Data\n",
      " vars:            12                          13 Apr 2018 17:45\n",
      "                                              (_dta has notes)\n",
      "--------------------------------------------------------------------------------\n",
      "              storage   display    value\n",
      "variable name   type    format     label      variable label\n",
      "--------------------------------------------------------------------------------\n",
      "make            str18   %-18s                 Make and Model\n",
      "price           int     %8.0gc                Price\n",
      "mpg             int     %8.0g                 Mileage (mpg)\n",
      "rep78           int     %8.0g                 Repair Record 1978\n",
      "headroom        float   %6.1f                 Headroom (in.)\n",
      "trunk           int     %8.0g                 Trunk space (cu. ft.)\n",
      "weight          int     %8.0gc                Weight (lbs.)\n",
      "length          int     %8.0g                 Length (in.)\n",
      "turn            int     %8.0g                 Turn Circle (ft.)\n",
      "displacement    int     %8.0g                 Displacement (cu. in.)\n",
      "gear_ratio      float   %6.2f                 Gear Ratio\n",
      "foreign         byte    %8.0g      origin     Car type\n",
      "--------------------------------------------------------------------------------\n",
      "Sorted by: foreign\n"
     ]
    }
   ],
   "source": [
    "describe"
   ]
  },
  {
   "cell_type": "markdown",
   "id": "8e7139d9",
   "metadata": {},
   "source": [
    "We observe that our dataset consists on 12 variables and 74 observations. We have a brief description of these variables. For instance, some of these variables are numeric (int, double, float, byte) and some are made of text (string).\n",
    "\n",
    "The numeric variables can store numbers of different sizes based on their sub-type. You can see a brief description here\n",
    "\n",
    "![](img/data_type_num.png)\n",
    "\n",
    "The string variables can also store text of different size based on their sub-type. The brief description is provided here\n",
    "\n",
    "![](img/data_type_str.png)\n",
    "\n",
    "\n",
    "With this knowledge we can infer that the variable `make` probably contains the model name written as a text, and the variable `foreign` is probably a variable that takes the values 0 or 1 depending on whether the car is foreign made (i.e. a dummy variable.\n",
    "\n"
   ]
  },
  {
   "cell_type": "markdown",
   "id": "2312862b",
   "metadata": {},
   "source": [
    "## 3.2 Stata Syntax \n",
    "\n",
    "Let's look at a very useful command to get some statistics from our variables"
   ]
  },
  {
   "cell_type": "code",
   "execution_count": 3,
   "id": "e674a1a9",
   "metadata": {},
   "outputs": [
    {
     "name": "stdout",
     "output_type": "stream",
     "text": [
      "\n",
      "    Variable |        Obs        Mean    Std. Dev.       Min        Max\n",
      "-------------+---------------------------------------------------------\n",
      "     foreign |         74    .2972973    .4601885          0          1\n"
     ]
    }
   ],
   "source": [
    "summarize foreign"
   ]
  },
  {
   "cell_type": "markdown",
   "id": "85812a6b",
   "metadata": {},
   "source": [
    "We can do the same for multiple variables at the same time"
   ]
  },
  {
   "cell_type": "code",
   "execution_count": 4,
   "id": "56d75ccd",
   "metadata": {},
   "outputs": [
    {
     "name": "stdout",
     "output_type": "stream",
     "text": [
      "\n",
      "    Variable |        Obs        Mean    Std. Dev.       Min        Max\n",
      "-------------+---------------------------------------------------------\n",
      "     foreign |         74    .2972973    .4601885          0          1\n",
      "      length |         74    187.9324    22.26634        142        233\n"
     ]
    }
   ],
   "source": [
    "summarize foreign length"
   ]
  },
  {
   "cell_type": "markdown",
   "id": "ef5212ce",
   "metadata": {},
   "source": [
    "We can open a new page that provides the Stata documentation of a particular command. For instance, we may run "
   ]
  },
  {
   "cell_type": "code",
   "execution_count": 5,
   "id": "40a82a2d",
   "metadata": {},
   "outputs": [],
   "source": [
    "help summarize"
   ]
  },
  {
   "cell_type": "markdown",
   "id": "df480d61",
   "metadata": {},
   "source": [
    "Notice what the output says here\n",
    "\n",
    "![](img/syntax_summarize.png)\n",
    "\n",
    "\n",
    "What this is saying is that we can write `summarize` command or at least the abreviation `su`, which is underlined. Also, you will notice that there are some blue names within square brackets. These are optional arguments in this command. Finally, the documentation provides the list of the available options, which need to be written after a comma. \n",
    "\n",
    "This means that if we write `summarize` (or the abreviation) and nothing else, it should work fine!"
   ]
  },
  {
   "cell_type": "code",
   "execution_count": 6,
   "id": "1365781b",
   "metadata": {},
   "outputs": [
    {
     "name": "stdout",
     "output_type": "stream",
     "text": [
      "\n",
      "    Variable |        Obs        Mean    Std. Dev.       Min        Max\n",
      "-------------+---------------------------------------------------------\n",
      "        make |          0\n",
      "       price |         74    6165.257    2949.496       3291      15906\n",
      "         mpg |         74     21.2973    5.785503         12         41\n",
      "       rep78 |         69    3.405797    .9899323          1          5\n",
      "    headroom |         74    2.993243    .8459948        1.5          5\n",
      "-------------+---------------------------------------------------------\n",
      "       trunk |         74    13.75676    4.277404          5         23\n",
      "      weight |         74    3019.459    777.1936       1760       4840\n",
      "      length |         74    187.9324    22.26634        142        233\n",
      "        turn |         74    39.64865    4.399354         31         51\n",
      "displacement |         74    197.2973    91.83722         79        425\n",
      "-------------+---------------------------------------------------------\n",
      "  gear_ratio |         74    3.014865    .4562871       2.19       3.89\n",
      "     foreign |         74    .2972973    .4601885          0          1\n"
     ]
    }
   ],
   "source": [
    "su"
   ]
  },
  {
   "cell_type": "markdown",
   "id": "3449d622",
   "metadata": {},
   "source": [
    "### 3.2.1 If Conditions\n",
    "\n",
    "When the syntax of the command allows for `[if]`, it means that we can run the command on a subset of the data that satisfies the condition. The list of conditional operators is the following:\n",
    "\n",
    "1. Equal sign: ==\n",
    "2. Greater and Less than: > and <\n",
    "3. Greater than or equal and Less than or equal: >= and <= \n",
    "4. Not Equal: != \n",
    "\n",
    "We can also compound different conditions using the list of logical operators:\n",
    "\n",
    "1. And: & \n",
    "2. Or: | \n",
    "3. Not: ! or ~ \n",
    "\n",
    "Let's look at an example using this new knowledge"
   ]
  },
  {
   "cell_type": "code",
   "execution_count": 7,
   "id": "aa63252c",
   "metadata": {},
   "outputs": [
    {
     "name": "stdout",
     "output_type": "stream",
     "text": [
      "\n",
      "    Variable |        Obs        Mean    Std. Dev.       Min        Max\n",
      "-------------+---------------------------------------------------------\n",
      "       price |         52    6072.423    3097.104       3291      15906\n"
     ]
    }
   ],
   "source": [
    "su price if foreign==0 "
   ]
  },
  {
   "cell_type": "code",
   "execution_count": 8,
   "id": "62728c13",
   "metadata": {},
   "outputs": [
    {
     "name": "stdout",
     "output_type": "stream",
     "text": [
      "\n",
      "    Variable |        Obs        Mean    Std. Dev.       Min        Max\n",
      "-------------+---------------------------------------------------------\n",
      "       price |         44    6354.568    3273.345       3291      15906\n"
     ]
    }
   ],
   "source": [
    "su price if foreign==0  & mpg<25"
   ]
  },
  {
   "cell_type": "markdown",
   "id": "44b5c92b",
   "metadata": {},
   "source": [
    "We can also make use of the functions `inlist()` and `inrange()` when we want to restrict to a particular list of values or to a particular range."
   ]
  },
  {
   "cell_type": "code",
   "execution_count": 9,
   "id": "f598b83e",
   "metadata": {},
   "outputs": [
    {
     "name": "stdout",
     "output_type": "stream",
     "text": [
      "\n",
      "    Variable |        Obs        Mean    Std. Dev.       Min        Max\n",
      "-------------+---------------------------------------------------------\n",
      "       price |          7    6507.857     1838.25       4482       9735\n"
     ]
    }
   ],
   "source": [
    "su price if inlist(mpg,10,15,25,40)"
   ]
  },
  {
   "cell_type": "markdown",
   "id": "68cbeec4",
   "metadata": {},
   "source": [
    "Which works the exact same way as"
   ]
  },
  {
   "cell_type": "code",
   "execution_count": 10,
   "id": "f5f54eaf",
   "metadata": {},
   "outputs": [
    {
     "name": "stdout",
     "output_type": "stream",
     "text": [
      "\n",
      "    Variable |        Obs        Mean    Std. Dev.       Min        Max\n",
      "-------------+---------------------------------------------------------\n",
      "       price |          7    6507.857     1838.25       4482       9735\n"
     ]
    }
   ],
   "source": [
    "su price if mpg == 10 | mpg == 15 | mpg == 25 | mpg == 40"
   ]
  },
  {
   "cell_type": "code",
   "execution_count": 11,
   "id": "01b7fd70",
   "metadata": {},
   "outputs": [
    {
     "name": "stdout",
     "output_type": "stream",
     "text": [
      "\n",
      "    Variable |        Obs        Mean    Std. Dev.       Min        Max\n",
      "-------------+---------------------------------------------------------\n",
      "       price |         60    6577.083    3117.013       3291      15906\n"
     ]
    }
   ],
   "source": [
    "su price if inrange(mpg,5,25) "
   ]
  },
  {
   "cell_type": "markdown",
   "id": "0dbb5b30",
   "metadata": {},
   "source": [
    "Which works the exact same way as "
   ]
  },
  {
   "cell_type": "code",
   "execution_count": 12,
   "id": "69e730d1",
   "metadata": {},
   "outputs": [
    {
     "name": "stdout",
     "output_type": "stream",
     "text": [
      "\n",
      "    Variable |        Obs        Mean    Std. Dev.       Min        Max\n",
      "-------------+---------------------------------------------------------\n",
      "       price |         60    6577.083    3117.013       3291      15906\n"
     ]
    }
   ],
   "source": [
    "su price if mpg>=5 & mpg<=25"
   ]
  },
  {
   "cell_type": "markdown",
   "id": "6e6af411",
   "metadata": {},
   "source": [
    "### 3.2.2 Missing Values\n",
    "\n",
    " There will be observations where there is no information recorded for a particular variable. When it is a string variable it will show as `\"\"` (empty text), and when it is a numeric variable it will show as `.` (a single dot).\n",
    " \n",
    " Missing values for numeric types are considered infinity in Stata. If you write `su price if mpg>5`\n",
    " it may include observations where `mpg` is missing! Consider the following example.\n"
   ]
  },
  {
   "cell_type": "code",
   "execution_count": 13,
   "id": "d116a7d4",
   "metadata": {},
   "outputs": [
    {
     "name": "stdout",
     "output_type": "stream",
     "text": [
      "\n",
      "    Variable |        Obs        Mean    Std. Dev.       Min        Max\n",
      "-------------+---------------------------------------------------------\n",
      "       price |         64    6239.984    2925.843       3291      15906\n"
     ]
    }
   ],
   "source": [
    "su price if rep78>2"
   ]
  },
  {
   "cell_type": "code",
   "execution_count": 14,
   "id": "3016888c",
   "metadata": {},
   "outputs": [
    {
     "name": "stdout",
     "output_type": "stream",
     "text": [
      "\n",
      "    Variable |        Obs        Mean    Std. Dev.       Min        Max\n",
      "-------------+---------------------------------------------------------\n",
      "       price |         59    6223.847    2880.454       3291      15906\n"
     ]
    }
   ],
   "source": [
    "su price if rep78>2 & rep78!=."
   ]
  },
  {
   "cell_type": "markdown",
   "id": "a56e38a2",
   "metadata": {},
   "source": [
    "The easiest way is to use the function `missing()`. You will notice that the following line will work just the same way"
   ]
  },
  {
   "cell_type": "code",
   "execution_count": 15,
   "id": "6642b7e8",
   "metadata": {},
   "outputs": [
    {
     "name": "stdout",
     "output_type": "stream",
     "text": [
      "\n",
      "    Variable |        Obs        Mean    Std. Dev.       Min        Max\n",
      "-------------+---------------------------------------------------------\n",
      "       price |         59    6223.847    2880.454       3291      15906\n"
     ]
    }
   ],
   "source": [
    "su price if rep78>2 & !missing(rep78)"
   ]
  },
  {
   "cell_type": "markdown",
   "id": "db2b8839",
   "metadata": {},
   "source": [
    "### 3.2.3 In Conditions \n",
    "\n",
    "We can also subset the data in terms of the observation number. "
   ]
  },
  {
   "cell_type": "code",
   "execution_count": 16,
   "id": "a7b20657",
   "metadata": {},
   "outputs": [
    {
     "name": "stdout",
     "output_type": "stream",
     "text": [
      "\n",
      "    Variable |        Obs        Mean    Std. Dev.       Min        Max\n",
      "-------------+---------------------------------------------------------\n",
      "       price |         10      5517.4    2063.518       3799      10372\n"
     ]
    }
   ],
   "source": [
    "su price in 1/10"
   ]
  },
  {
   "cell_type": "markdown",
   "id": "d1e15c50",
   "metadata": {},
   "source": [
    "Using these type of conditions is generally not recommended because it is sensible to the way the data is sorted. Suppose now we want to order the data from lower to higher price and we attempt to run the same command."
   ]
  },
  {
   "cell_type": "code",
   "execution_count": 17,
   "id": "09c0db8b",
   "metadata": {},
   "outputs": [
    {
     "name": "stdout",
     "output_type": "stream",
     "text": [
      "\n",
      "\n",
      "\n",
      "    Variable |        Obs        Mean    Std. Dev.       Min        Max\n",
      "-------------+---------------------------------------------------------\n",
      "       price |         10      3726.5    245.9007       3291       3984\n"
     ]
    }
   ],
   "source": [
    "sort price \n",
    "su price in 1/10"
   ]
  },
  {
   "cell_type": "markdown",
   "id": "df259630",
   "metadata": {},
   "source": [
    "And you can see that the result changes. This is why you should avoid using `in` whenever you can use an `if` condition instead. "
   ]
  },
  {
   "cell_type": "markdown",
   "id": "6c203255",
   "metadata": {},
   "source": [
    "### 3.2.4 Options\n",
    "\n",
    "From the documentation file, we observed that we can introduce some optional arguments after a comma. "
   ]
  },
  {
   "cell_type": "code",
   "execution_count": 18,
   "id": "de1b33d9",
   "metadata": {},
   "outputs": [
    {
     "name": "stdout",
     "output_type": "stream",
     "text": [
      "\n",
      "                            Price\n",
      "-------------------------------------------------------------\n",
      "      Percentiles      Smallest\n",
      " 1%         3291           3291\n",
      " 5%         3748           3299\n",
      "10%         3895           3667       Obs                  74\n",
      "25%         4195           3748       Sum of Wgt.          74\n",
      "\n",
      "50%       5006.5                      Mean           6165.257\n",
      "                        Largest       Std. Dev.      2949.496\n",
      "75%         6342          13466\n",
      "90%        11385          13594       Variance        8699526\n",
      "95%        13466          14500       Skewness       1.653434\n",
      "99%        15906          15906       Kurtosis       4.819188\n"
     ]
    }
   ],
   "source": [
    "su price , detail"
   ]
  },
  {
   "cell_type": "markdown",
   "id": "f2355733",
   "metadata": {},
   "source": [
    "And the options can have abbreviations as well!"
   ]
  },
  {
   "cell_type": "code",
   "execution_count": 19,
   "id": "79a1cf49",
   "metadata": {},
   "outputs": [
    {
     "name": "stdout",
     "output_type": "stream",
     "text": [
      "\n",
      "                            Price\n",
      "-------------------------------------------------------------\n",
      "      Percentiles      Smallest\n",
      " 1%         3291           3291\n",
      " 5%         3748           3299\n",
      "10%         3895           3667       Obs                  74\n",
      "25%         4195           3748       Sum of Wgt.          74\n",
      "\n",
      "50%       5006.5                      Mean           6165.257\n",
      "                        Largest       Std. Dev.      2949.496\n",
      "75%         6342          13466\n",
      "90%        11385          13594       Variance        8699526\n",
      "95%        13466          14500       Skewness       1.653434\n",
      "99%        15906          15906       Kurtosis       4.819188\n"
     ]
    }
   ],
   "source": [
    "su price , d"
   ]
  },
  {
   "cell_type": "markdown",
   "id": "85f130c0",
   "metadata": {},
   "source": [
    "# 3.2.5 Wrapping up\n",
    "\n",
    "\n",
    "In this lecture we learned how to understand the way Stata commands work and their syntax. In general, a standard Stata command will follow the folllowing structure \n",
    "\n",
    "```\n",
    "  name_of_command [varlist] [if] [in] [weight] [, options]\n",
    "```\n",
    "\n",
    "At this point, you should feel more comfortable reading a documentation file for a Stata command. The question that remains is how to find new commands!\n",
    "\n",
    "You are encouraged to search for commands using the command ``search``. For example, if you are interested in running a regression you can write"
   ]
  },
  {
   "cell_type": "code",
   "execution_count": 20,
   "id": "5cdcaada",
   "metadata": {},
   "outputs": [],
   "source": [
    "search regress "
   ]
  },
  {
   "attachments": {},
   "cell_type": "markdown",
   "id": "43b36a55",
   "metadata": {},
   "source": [
    "You will see that a new window pops up and you can click at the different options that it shows to look at the documentation for all these commands. The new window should look like this \n",
    "\n",
    "![](img/search_regress.png)"
   ]
  },
  {
   "cell_type": "markdown",
   "id": "cf823d08",
   "metadata": {},
   "source": [
    "In any of the following lectures, whenever there is a command confuses you, you should feel free to write `search command` or `help command` to redirect to the documentation. "
   ]
  }
 ],
 "metadata": {
  "kernelspec": {
   "display_name": "Stata",
   "language": "stata",
   "name": "stata"
  },
  "language_info": {
   "codemirror_mode": "stata",
   "file_extension": ".do",
   "mimetype": "text/x-stata",
   "name": "stata",
   "version": "15.1"
  }
 },
 "nbformat": 4,
 "nbformat_minor": 5
}
