{
 "cells": [
  {
   "cell_type": "markdown",
   "id": "b14cf900",
   "metadata": {},
   "source": [
    "# 3. Stata Essentials\n",
    "\n",
    "\n",
    "Before we proceed, let us open a dataset that is provided whenever we install Stata. This is a dataset on automobiles and their characteristics."
   ]
  },
  {
   "cell_type": "code",
   "execution_count": 1,
   "id": "7db68e54",
   "metadata": {},
   "outputs": [
    {
     "name": "stdout",
     "output_type": "stream",
     "text": [
      "(1978 Automobile Data)\n"
     ]
    }
   ],
   "source": [
    "sysuse auto.dta, clear"
   ]
  },
  {
   "cell_type": "markdown",
   "id": "34449ac6",
   "metadata": {},
   "source": [
    "## 3.1 Stata Types \n",
    "\n",
    "We'll begin this exploration by running a command that does not require any arguments to work."
   ]
  },
  {
   "cell_type": "code",
   "execution_count": 2,
   "id": "b649f5ec",
   "metadata": {},
   "outputs": [
    {
     "name": "stdout",
     "output_type": "stream",
     "text": [
      "\n",
      "Contains data from C:\\Program Files (x86)\\Stata16\\ado\\base/a/auto.dta\n",
      "  obs:            74                          1978 Automobile Data\n",
      " vars:            12                          13 Apr 2018 17:45\n",
      "                                              (_dta has notes)\n",
      "--------------------------------------------------------------------------------\n",
      "              storage   display    value\n",
      "variable name   type    format     label      variable label\n",
      "--------------------------------------------------------------------------------\n",
      "make            str18   %-18s                 Make and Model\n",
      "price           int     %8.0gc                Price\n",
      "mpg             int     %8.0g                 Mileage (mpg)\n",
      "rep78           int     %8.0g                 Repair Record 1978\n",
      "headroom        float   %6.1f                 Headroom (in.)\n",
      "trunk           int     %8.0g                 Trunk space (cu. ft.)\n",
      "weight          int     %8.0gc                Weight (lbs.)\n",
      "length          int     %8.0g                 Length (in.)\n",
      "turn            int     %8.0g                 Turn Circle (ft.)\n",
      "displacement    int     %8.0g                 Displacement (cu. in.)\n",
      "gear_ratio      float   %6.2f                 Gear Ratio\n",
      "foreign         byte    %8.0g      origin     Car type\n",
      "--------------------------------------------------------------------------------\n",
      "Sorted by: foreign\n"
     ]
    }
   ],
   "source": [
    "describe"
   ]
  },
  {
   "cell_type": "markdown",
   "id": "d15255a8",
   "metadata": {},
   "source": [
    "We observe that our dataset consists on 12 variables and 74 observations. We have a brief description of these variables. For instance, some of these variables are numeric (int, double, float, byte) and some are made of text (string).\n",
    "\n",
    "The numeric variables can store numbers of different sizes based on their sub-type. You can see a brief description here\n",
    "\n",
    "![](img/data_type_num.png)\n",
    "\n",
    "The string variables can also store text of different size based on their sub-type. The brief description is provided here\n",
    "\n",
    "![](img/data_type_str.png)\n",
    "\n",
    "\n",
    "With this knowledge we can infer that the variable `make` probably contains the model name written as a text, and the variable `foreign` is probably a variable that takes the values 0 or 1 depending on whether the car is foreign made (i.e. a dummy variable.\n",
    "\n"
   ]
  },
  {
   "cell_type": "markdown",
   "id": "5a6b0114",
   "metadata": {},
   "source": [
    "## 3.2 Stata Syntax \n",
    "\n",
    "Let's look at a very useful command to get some statistics from our variables"
   ]
  },
  {
   "cell_type": "code",
   "execution_count": 3,
   "id": "5193ef56",
   "metadata": {},
   "outputs": [
    {
     "name": "stdout",
     "output_type": "stream",
     "text": [
      "\n",
      "    Variable |        Obs        Mean    Std. Dev.       Min        Max\n",
      "-------------+---------------------------------------------------------\n",
      "     foreign |         74    .2972973    .4601885          0          1\n"
     ]
    }
   ],
   "source": [
    "summarize foreign"
   ]
  },
  {
   "cell_type": "markdown",
   "id": "b0219acf",
   "metadata": {},
   "source": [
    "We can do the same for multiple variables at the same time"
   ]
  },
  {
   "cell_type": "code",
   "execution_count": 4,
   "id": "eeab7410",
   "metadata": {},
   "outputs": [
    {
     "name": "stdout",
     "output_type": "stream",
     "text": [
      "\n",
      "    Variable |        Obs        Mean    Std. Dev.       Min        Max\n",
      "-------------+---------------------------------------------------------\n",
      "     foreign |         74    .2972973    .4601885          0          1\n",
      "      length |         74    187.9324    22.26634        142        233\n"
     ]
    }
   ],
   "source": [
    "summarize foreign length"
   ]
  },
  {
   "cell_type": "markdown",
   "id": "8ae99045",
   "metadata": {},
   "source": [
    "We can open a new page that provides the Stata documentation of a particular command. For instance, we may run "
   ]
  },
  {
   "cell_type": "code",
   "execution_count": 5,
   "id": "bbe0b9a2",
   "metadata": {},
   "outputs": [],
   "source": [
    "help summarize"
   ]
  },
  {
   "cell_type": "markdown",
   "id": "d729e924",
   "metadata": {},
   "source": [
    "Notice what the output says here\n",
    "\n",
    "![](img/syntax_summarize.png)\n",
    "\n",
    "\n",
    "What this is saying is that we can write `summarize` command or at least the abreviation `su`, which is underlined. Also, you will notice that there are some blue names within square brackets. These are optional arguments in this command. Finally, the documentation provides the list of the available options, which need to be written after a comma. \n",
    "\n",
    "This means that if we write `summarize` (or the abreviation) and nothing else, it should work fine!"
   ]
  },
  {
   "cell_type": "code",
   "execution_count": 6,
   "id": "41f08657",
   "metadata": {},
   "outputs": [
    {
     "name": "stdout",
     "output_type": "stream",
     "text": [
      "\n",
      "    Variable |        Obs        Mean    Std. Dev.       Min        Max\n",
      "-------------+---------------------------------------------------------\n",
      "        make |          0\n",
      "       price |         74    6165.257    2949.496       3291      15906\n",
      "         mpg |         74     21.2973    5.785503         12         41\n",
      "       rep78 |         69    3.405797    .9899323          1          5\n",
      "    headroom |         74    2.993243    .8459948        1.5          5\n",
      "-------------+---------------------------------------------------------\n",
      "       trunk |         74    13.75676    4.277404          5         23\n",
      "      weight |         74    3019.459    777.1936       1760       4840\n",
      "      length |         74    187.9324    22.26634        142        233\n",
      "        turn |         74    39.64865    4.399354         31         51\n",
      "displacement |         74    197.2973    91.83722         79        425\n",
      "-------------+---------------------------------------------------------\n",
      "  gear_ratio |         74    3.014865    .4562871       2.19       3.89\n",
      "     foreign |         74    .2972973    .4601885          0          1\n"
     ]
    }
   ],
   "source": [
    "su"
   ]
  },
  {
   "cell_type": "markdown",
   "id": "82bd3637",
   "metadata": {},
   "source": [
    "### 3.2.1 If Conditions\n",
    "\n",
    "When the syntax of the command allows for `[if]`, it means that we can run the command on a subset of the data that satisfies the condition. The list of conditional operators is the following:\n",
    "\n",
    "1. Equal sign: ==\n",
    "2. Greater and Less than: > and <\n",
    "3. Greater than or equal and Less than or equal: >= and <= \n",
    "4. Not Equal: != \n",
    "\n",
    "We can also compound different conditions using the list of logical operators:\n",
    "\n",
    "1. And: & \n",
    "2. Or: | \n",
    "3. Not: ! or ~ \n",
    "\n",
    "Let's look at an example using this new knowledge"
   ]
  },
  {
   "cell_type": "code",
   "execution_count": 7,
   "id": "2393aa31",
   "metadata": {},
   "outputs": [
    {
     "name": "stdout",
     "output_type": "stream",
     "text": [
      "\n",
      "    Variable |        Obs        Mean    Std. Dev.       Min        Max\n",
      "-------------+---------------------------------------------------------\n",
      "       price |         52    6072.423    3097.104       3291      15906\n"
     ]
    }
   ],
   "source": [
    "su price if foreign==0 "
   ]
  },
  {
   "cell_type": "code",
   "execution_count": 8,
   "id": "5915e31f",
   "metadata": {},
   "outputs": [
    {
     "name": "stdout",
     "output_type": "stream",
     "text": [
      "\n",
      "    Variable |        Obs        Mean    Std. Dev.       Min        Max\n",
      "-------------+---------------------------------------------------------\n",
      "       price |         44    6354.568    3273.345       3291      15906\n"
     ]
    }
   ],
   "source": [
    "su price if foreign==0  & mpg<25"
   ]
  },
  {
   "cell_type": "markdown",
   "id": "17dbf4c8",
   "metadata": {},
   "source": [
    "We can also make use of the functions `inlist()` and `inrange()` when we want to restrict to a particular list of values or to a particular range."
   ]
  },
  {
   "cell_type": "code",
   "execution_count": 9,
   "id": "d671bf5b",
   "metadata": {},
   "outputs": [
    {
     "name": "stdout",
     "output_type": "stream",
     "text": [
      "\n",
      "    Variable |        Obs        Mean    Std. Dev.       Min        Max\n",
      "-------------+---------------------------------------------------------\n",
      "       price |          7    6507.857     1838.25       4482       9735\n"
     ]
    }
   ],
   "source": [
    "su price if inlist(mpg,10,15,25,40)"
   ]
  },
  {
   "cell_type": "markdown",
   "id": "f9d1f0fe",
   "metadata": {},
   "source": [
    "Which works the exact same way as"
   ]
  },
  {
   "cell_type": "code",
   "execution_count": 10,
   "id": "5ac5a632",
   "metadata": {},
   "outputs": [
    {
     "name": "stdout",
     "output_type": "stream",
     "text": [
      "\n",
      "    Variable |        Obs        Mean    Std. Dev.       Min        Max\n",
      "-------------+---------------------------------------------------------\n",
      "       price |          7    6507.857     1838.25       4482       9735\n"
     ]
    }
   ],
   "source": [
    "su price if mpg == 10 | mpg == 15 | mpg == 25 | mpg == 40"
   ]
  },
  {
   "cell_type": "code",
   "execution_count": 11,
   "id": "437f39b8",
   "metadata": {},
   "outputs": [
    {
     "name": "stdout",
     "output_type": "stream",
     "text": [
      "\n",
      "    Variable |        Obs        Mean    Std. Dev.       Min        Max\n",
      "-------------+---------------------------------------------------------\n",
      "       price |         60    6577.083    3117.013       3291      15906\n"
     ]
    }
   ],
   "source": [
    "su price if inrange(mpg,5,25) "
   ]
  },
  {
   "cell_type": "markdown",
   "id": "2643276e",
   "metadata": {},
   "source": [
    "Which works the exact same way as "
   ]
  },
  {
   "cell_type": "code",
   "execution_count": 12,
   "id": "32341d60",
   "metadata": {},
   "outputs": [
    {
     "name": "stdout",
     "output_type": "stream",
     "text": [
      "\n",
      "    Variable |        Obs        Mean    Std. Dev.       Min        Max\n",
      "-------------+---------------------------------------------------------\n",
      "       price |         60    6577.083    3117.013       3291      15906\n"
     ]
    }
   ],
   "source": [
    "su price if mpg>=5 & mpg<=25"
   ]
  },
  {
   "cell_type": "markdown",
   "id": "4fc8723b",
   "metadata": {},
   "source": [
    "### 3.2.2 Missing Values\n",
    "\n",
    " There will be observations where there is no information recorded for a particular variable. When it is a string variable it will show as `\"\"` (empty text), and when it is a numeric variable it will show as `.` (a single dot).\n",
    " \n",
    " Missing values for numeric types are considered infinity in Stata. If you write `su price if mpg>5`\n",
    " it may include observations where `mpg` is missing! Consider the following example.\n"
   ]
  },
  {
   "cell_type": "code",
   "execution_count": 13,
   "id": "b2292e6e",
   "metadata": {},
   "outputs": [
    {
     "name": "stdout",
     "output_type": "stream",
     "text": [
      "\n",
      "    Variable |        Obs        Mean    Std. Dev.       Min        Max\n",
      "-------------+---------------------------------------------------------\n",
      "       price |         64    6239.984    2925.843       3291      15906\n"
     ]
    }
   ],
   "source": [
    "su price if rep78>2"
   ]
  },
  {
   "cell_type": "code",
   "execution_count": 14,
   "id": "bbe0e504",
   "metadata": {},
   "outputs": [
    {
     "name": "stdout",
     "output_type": "stream",
     "text": [
      "\n",
      "    Variable |        Obs        Mean    Std. Dev.       Min        Max\n",
      "-------------+---------------------------------------------------------\n",
      "       price |         59    6223.847    2880.454       3291      15906\n"
     ]
    }
   ],
   "source": [
    "su price if rep78>2 & rep78!=."
   ]
  },
  {
   "cell_type": "markdown",
   "id": "26a5d7a2",
   "metadata": {},
   "source": [
    "The easiest way is to use the function `missing()`. You will notice that the following line will work just the same way"
   ]
  },
  {
   "cell_type": "code",
   "execution_count": 15,
   "id": "b759c46a",
   "metadata": {},
   "outputs": [
    {
     "name": "stdout",
     "output_type": "stream",
     "text": [
      "\n",
      "    Variable |        Obs        Mean    Std. Dev.       Min        Max\n",
      "-------------+---------------------------------------------------------\n",
      "       price |         59    6223.847    2880.454       3291      15906\n"
     ]
    }
   ],
   "source": [
    "su price if rep78>2 & !missing(rep78)"
   ]
  },
  {
   "cell_type": "markdown",
   "id": "299a1cd4",
   "metadata": {},
   "source": [
    "### 3.2.3 In Conditions \n",
    "\n",
    "We can also subset the data in terms of the observation number. "
   ]
  },
  {
   "cell_type": "code",
   "execution_count": 16,
   "id": "405da0d6",
   "metadata": {},
   "outputs": [
    {
     "name": "stdout",
     "output_type": "stream",
     "text": [
      "\n",
      "    Variable |        Obs        Mean    Std. Dev.       Min        Max\n",
      "-------------+---------------------------------------------------------\n",
      "       price |         10      5517.4    2063.518       3799      10372\n"
     ]
    }
   ],
   "source": [
    "su price in 1/10"
   ]
  },
  {
   "cell_type": "markdown",
   "id": "12db3e2a",
   "metadata": {},
   "source": [
    "Using these type of conditions is generally not recommended because it is sensible to the way the data is sorted. Suppose now we want to order the data from lower to higher price and we attempt to run the same command."
   ]
  },
  {
   "cell_type": "code",
   "execution_count": 17,
   "id": "74011390",
   "metadata": {},
   "outputs": [
    {
     "name": "stdout",
     "output_type": "stream",
     "text": [
      "\n",
      "\n",
      "\n",
      "    Variable |        Obs        Mean    Std. Dev.       Min        Max\n",
      "-------------+---------------------------------------------------------\n",
      "       price |         10      3726.5    245.9007       3291       3984\n"
     ]
    }
   ],
   "source": [
    "sort price \n",
    "su price in 1/10"
   ]
  },
  {
   "cell_type": "markdown",
   "id": "3cabb699",
   "metadata": {},
   "source": [
    "And you can see that the result changes. This is why you should avoid using `in` whenever you can use an `if` condition instead. "
   ]
  },
  {
   "cell_type": "markdown",
   "id": "8525e318",
   "metadata": {},
   "source": [
    "### 3.2.4 Options\n",
    "\n",
    "From the documentation file, we observed that we can introduce some optional arguments after a comma. "
   ]
  },
  {
   "cell_type": "code",
   "execution_count": 18,
   "id": "4125d4a6",
   "metadata": {},
   "outputs": [
    {
     "name": "stdout",
     "output_type": "stream",
     "text": [
      "\n",
      "                            Price\n",
      "-------------------------------------------------------------\n",
      "      Percentiles      Smallest\n",
      " 1%         3291           3291\n",
      " 5%         3748           3299\n",
      "10%         3895           3667       Obs                  74\n",
      "25%         4195           3748       Sum of Wgt.          74\n",
      "\n",
      "50%       5006.5                      Mean           6165.257\n",
      "                        Largest       Std. Dev.      2949.496\n",
      "75%         6342          13466\n",
      "90%        11385          13594       Variance        8699526\n",
      "95%        13466          14500       Skewness       1.653434\n",
      "99%        15906          15906       Kurtosis       4.819188\n"
     ]
    }
   ],
   "source": [
    "su price , detail"
   ]
  },
  {
   "cell_type": "markdown",
   "id": "1310971c",
   "metadata": {},
   "source": [
    "And the options can have abbreviations as well!"
   ]
  },
  {
   "cell_type": "code",
   "execution_count": 19,
   "id": "52cba9dc",
   "metadata": {},
   "outputs": [
    {
     "name": "stdout",
     "output_type": "stream",
     "text": [
      "\n",
      "                            Price\n",
      "-------------------------------------------------------------\n",
      "      Percentiles      Smallest\n",
      " 1%         3291           3291\n",
      " 5%         3748           3299\n",
      "10%         3895           3667       Obs                  74\n",
      "25%         4195           3748       Sum of Wgt.          74\n",
      "\n",
      "50%       5006.5                      Mean           6165.257\n",
      "                        Largest       Std. Dev.      2949.496\n",
      "75%         6342          13466\n",
      "90%        11385          13594       Variance        8699526\n",
      "95%        13466          14500       Skewness       1.653434\n",
      "99%        15906          15906       Kurtosis       4.819188\n"
     ]
    }
   ],
   "source": [
    "su price , d"
   ]
  },
  {
   "cell_type": "markdown",
   "id": "48a855d2",
   "metadata": {},
   "source": [
    "# 3.2.5 Wrapping up\n",
    "\n",
    "\n",
    "In this lecture we learned how to understand the way Stata commands work and their syntax. In general, a standard Stata command will follow the folllowing structure \n",
    "\n",
    "```\n",
    "  name_of_command [varlist] [if] [in] [weight] [, options]\n",
    "```\n",
    "\n",
    "At this point, you should feel more comfortable reading a documentation file for a Stata command. The question that remains is how to find new commands!\n",
    "\n",
    "You are encouraged to search for commands using the command ``search``. For example, if you are interested in running a regression you can write"
   ]
  },
  {
   "cell_type": "code",
   "execution_count": 20,
   "id": "bd581dc5",
   "metadata": {},
   "outputs": [],
   "source": [
    "search regress "
   ]
  },
  {
   "attachments": {},
   "cell_type": "markdown",
   "id": "3bead0e4",
   "metadata": {},
   "source": [
    "You will see that a new window pops up and you can click at the different options that it shows to look at the documentation for all these commands. The new window should look like this \n",
    "\n",
    "![](img/search_regress.png)"
   ]
  },
  {
   "cell_type": "markdown",
   "id": "0fa8d729",
   "metadata": {},
   "source": [
    "In any of the following lectures, whenever there is a command confuses you, you should feel free to write `search command` or `help command` to redirect to the documentation. "
   ]
  },
  {
   "cell_type": "markdown",
   "id": "eb20bbbf",
   "metadata": {},
   "source": [
    "## 3.3 Loops \n",
    "\n",
    "Much like any other programming languages, there are `for` and `while` loops that we can use to iterate through many instances. In particular, the `for` loops are also sub-divided into `forvalues` (iterate across a range of numbers) and `foreach` (iterate across a list of names). \n",
    "\n",
    "It is very common that these loops create a local scope (i.e. the iteration labels only exist within a loop). A local variable in Stata is a (non-dataset) variable that stores information that exists only within certain parts of our do-file run. We'll discuss much further about local variables in the next lecture, but consider this simple example"
   ]
  },
  {
   "cell_type": "code",
   "execution_count": 22,
   "id": "e5e000e8",
   "metadata": {},
   "outputs": [
    {
     "name": "stdout",
     "output_type": "stream",
     "text": [
      "\n",
      "\n",
      "13\n"
     ]
    }
   ],
   "source": [
    "local i = 13\n",
    "\n",
    "*Essentially `i' now works as a placeholder for the value 13\n",
    "display `i'"
   ]
  },
  {
   "cell_type": "code",
   "execution_count": 28,
   "id": "252cb8d9",
   "metadata": {},
   "outputs": [
    {
     "name": "stdout",
     "output_type": "stream",
     "text": [
      "\n",
      "\n",
      "Calendar Year\n"
     ]
    }
   ],
   "source": [
    "local year = \"Calendar Year\"\n",
    "\n",
    "display \"`year'\""
   ]
  },
  {
   "cell_type": "markdown",
   "id": "c815061c",
   "metadata": {},
   "source": [
    "Essentially, we can write anything inside a local, and whenever we want to replace it with the actual information we use a backtick (\\`) and  apostrophe (')."
   ]
  },
  {
   "cell_type": "markdown",
   "id": "335beb73",
   "metadata": {},
   "source": [
    "### 3.3.1 Forvalues \n",
    "\n",
    "Whenever we want to iterate across a range of values defined as `min_value(steps)max_value`, we can write"
   ]
  },
  {
   "cell_type": "code",
   "execution_count": 30,
   "id": "0047f100",
   "metadata": {},
   "outputs": [
    {
     "name": "stdout",
     "output_type": "stream",
     "text": [
      "\n",
      "1\n",
      "2\n",
      "3\n",
      "4\n",
      "5\n",
      "6\n",
      "7\n",
      "8\n",
      "9\n",
      "10\n"
     ]
    }
   ],
   "source": [
    "forvalues counter=1(1)10{\n",
    "    *Notice that now counter is a local variable\n",
    "    display `counter'\n",
    "}"
   ]
  },
  {
   "cell_type": "code",
   "execution_count": 31,
   "id": "57d2aa66",
   "metadata": {},
   "outputs": [
    {
     "name": "stdout",
     "output_type": "stream",
     "text": [
      "\n",
      "1\n",
      "9\n",
      "25\n"
     ]
    }
   ],
   "source": [
    "forvalues counter=1(2)5{\n",
    "    *Notice that now counter is a local variable\n",
    "    display `counter'^2\n",
    "}"
   ]
  },
  {
   "cell_type": "markdown",
   "id": "33eb42cc",
   "metadata": {},
   "source": [
    "Notice that the open brace needs to be on the same line as the `for` command, with no comments after it. Simiarly, the closing brace needs to be on its own line."
   ]
  },
  {
   "cell_type": "markdown",
   "id": "18b1cc56",
   "metadata": {},
   "source": [
    "### 3.3.2 Foreach\n",
    "\n",
    "Whenever we want to iterate across a list of names, we may write "
   ]
  },
  {
   "cell_type": "code",
   "execution_count": 32,
   "id": "e1e987c3",
   "metadata": {},
   "outputs": [
    {
     "name": "stdout",
     "output_type": "stream",
     "text": [
      "\n",
      "\n",
      "    Variable |        Obs        Mean    Std. Dev.       Min        Max\n",
      "-------------+---------------------------------------------------------\n",
      "         mpg |         74     21.2973    5.785503         12         41\n",
      "\n",
      "    Variable |        Obs        Mean    Std. Dev.       Min        Max\n",
      "-------------+---------------------------------------------------------\n",
      "       price |         74    6165.257    2949.496       3291      15906\n"
     ]
    }
   ],
   "source": [
    "foreach name in \"mpg\" \"price\"{\n",
    "    summarize `name'\n",
    "}"
   ]
  },
  {
   "cell_type": "markdown",
   "id": "9a7440be",
   "metadata": {},
   "source": [
    "We can have a list stored in a local variable as well"
   ]
  },
  {
   "cell_type": "code",
   "execution_count": 35,
   "id": "a2fbfa65",
   "metadata": {},
   "outputs": [
    {
     "name": "stdout",
     "output_type": "stream",
     "text": [
      "\n",
      "\n",
      "\n",
      "    Variable |        Obs        Mean    Std. Dev.       Min        Max\n",
      "-------------+---------------------------------------------------------\n",
      "         mpg |         74     21.2973    5.785503         12         41\n",
      "\n",
      "    Variable |        Obs        Mean    Std. Dev.       Min        Max\n",
      "-------------+---------------------------------------------------------\n",
      "       price |         74    6165.257    2949.496       3291      15906\n"
     ]
    }
   ],
   "source": [
    "local namelist \"mpg price\"\n",
    "foreach name in `namelist'{\n",
    "    summarize `name'\n",
    "}"
   ]
  },
  {
   "cell_type": "markdown",
   "id": "da6c3fe6",
   "metadata": {},
   "source": [
    "### 3.3.3 While\n",
    "\n",
    "Whenever we want to iterate until a condition is met, we may write "
   ]
  },
  {
   "cell_type": "code",
   "execution_count": 36,
   "id": "edc8b7fc",
   "metadata": {},
   "outputs": [
    {
     "name": "stdout",
     "output_type": "stream",
     "text": [
      "\n",
      "\n",
      "1\n",
      "2\n",
      "3\n",
      "4\n"
     ]
    }
   ],
   "source": [
    "local counter = 1 \n",
    "while `counter'<5{\n",
    "    display `counter'\n",
    "    local counter = `counter'+1\n",
    "}"
   ]
  }
 ],
 "metadata": {
  "kernelspec": {
   "display_name": "Stata",
   "language": "stata",
   "name": "stata"
  },
  "language_info": {
   "codemirror_mode": "stata",
   "file_extension": ".do",
   "mimetype": "text/x-stata",
   "name": "stata",
   "version": "15.1"
  }
 },
 "nbformat": 4,
 "nbformat_minor": 5
}
