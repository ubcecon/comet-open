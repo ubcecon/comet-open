{
 "cells": [
  {
   "cell_type": "markdown",
   "id": "bd3153b3",
   "metadata": {
    "scrolled": true
   },
   "source": [
    "# Combining Graphs in Stata"
   ]
  },
  {
   "cell_type": "markdown",
   "id": "f3951061",
   "metadata": {},
   "source": [
    "In this module we will learn how to combine saved graphs in Stata. Let's start by pulling up the documentation for `graph combine`"
   ]
  },
  {
   "cell_type": "code",
   "execution_count": null,
   "id": "bea80a7d",
   "metadata": {
    "scrolled": true
   },
   "outputs": [],
   "source": [
    "help graph combine"
   ]
  },
  {
   "cell_type": "markdown",
   "id": "e6d8b471",
   "metadata": {},
   "source": [
    "In the following example, we will generate two graphs and combine them using the `graph combine` command. Let's begin by setting up the data. "
   ]
  },
  {
   "cell_type": "code",
   "execution_count": null,
   "id": "166d11aa",
   "metadata": {},
   "outputs": [],
   "source": [
    "clear* \n",
    "\n",
    "use fake_data, clear "
   ]
  },
  {
   "cell_type": "code",
   "execution_count": null,
   "id": "67c999dd",
   "metadata": {
    "scrolled": true
   },
   "outputs": [],
   "source": [
    "gen log_earnings = log(earnings)\n",
    "la var log_earnings \"Log-earnings\"\n",
    "\n",
    "preserve\n",
    "\n",
    "collapse (mean) log_earnings, by(region treated year)\n",
    "\n",
    "describe"
   ]
  },
  {
   "cell_type": "markdown",
   "id": "52f0545e",
   "metadata": {},
   "source": [
    "Now let's generate our graphs to compare log-earnings between control and treated groups in region 1 and 2. "
   ]
  },
  {
   "cell_type": "code",
   "execution_count": null,
   "id": "26abd096",
   "metadata": {},
   "outputs": [],
   "source": [
    "*** Generate graph for Region 1 ***\n",
    "\n",
    "twoway (connected log_earnings year if region==1 & treated) ||      ///\n",
    "    (connected log_earnings year if region==1 & !treated),          ///\n",
    "        xline(2002, lpattern(dash))                                 /// \n",
    "        ylab(9.5(0.5)11)                                            ///\n",
    "        ytitle(\"Log-earnings\") xtitle(\"Year\")                       ///\n",
    "        legend( label(1 \"Treated\") label(2 \"Control\"))              ///\n",
    "        aspectratio(1)                                              ///\n",
    "        title(\"Region 1\") name(\"R1\", replace)"
   ]
  },
  {
   "cell_type": "code",
   "execution_count": null,
   "id": "efa9d34c",
   "metadata": {},
   "outputs": [],
   "source": [
    "*** Generate graph for Region 2 ***\n",
    "\n",
    "twoway (connected log_earnings year if region==2 & treated) ||      ///\n",
    "    (connected log_earnings year if region==2 & !treated),          ///\n",
    "        xline(2002, lpattern(dash))                                 ///\n",
    "        ylab(9.5(0.5)11)                                            ///\n",
    "        ytitle(\"Log-earnings\") xtitle(\"Year\")                       ///\n",
    "        legend( label(1 \"Treated\") label(2 \"Control\"))              ///\n",
    "        aspectratio(1)                                              ///\n",
    "        title(\"Region 2\") name(\"R2\", replace)"
   ]
  },
  {
   "cell_type": "code",
   "execution_count": null,
   "id": "fa461164",
   "metadata": {},
   "outputs": [],
   "source": [
    "*** Combine graphs ***\n",
    "\n",
    "graph combine R1 R2, cols(2) title(\"Panel A: Log-earnings by Region\") saving(panel_a, replace)\n",
    "\n",
    "graph export ./img/panel_a.svg, replace"
   ]
  },
  {
   "cell_type": "markdown",
   "id": "1108b840",
   "metadata": {},
   "source": [
    "![Panel A](img/panel_a.svg)"
   ]
  },
  {
   "cell_type": "markdown",
   "id": "ee1a19b3",
   "metadata": {},
   "source": [
    "<div class=\"alert alert-block alert-warning\">\n",
    "\n",
    "<b>Your turn:</b> Complete the code below to generate an additional graph for region 3, and name it `R3`. Combine all three graphs and store it as `panel_a_v2.svg`. \n",
    "\n",
    "</div>"
   ]
  },
  {
   "cell_type": "code",
   "execution_count": null,
   "id": "4f558835",
   "metadata": {},
   "outputs": [],
   "source": [
    "*** Generate R3 ***\n",
    "\n",
    "twoway (connected log_earnings year if region & treated) ||      ///\n",
    "    (connected log_earnings year if region & !treated),          ///\n",
    "        xline(2002, lpattern(dash))                              ///\n",
    "        ylab(9.5(0.5)11)                                         ///\n",
    "        ytitle(\"Log-earnings\") xtitle(\"Year\")                    ///\n",
    "        legend( label(1 \"Treated\") label(2 \"Control\"))           ///\n",
    "        aspectratio(1)                                           ///\n",
    "        title(\" \") name(\" \", replace)\n",
    "\n",
    "\n",
    "*** Combine graphs ***\n",
    "\n",
    "graph , cols() title(\"Panel A: Log-earnings by Region\") name( , replace)\n",
    "\n",
    "graph export , replace\n"
   ]
  },
  {
   "cell_type": "markdown",
   "id": "b139956b",
   "metadata": {},
   "source": [
    "<div class=\"alert alert-block alert-warning\">\n",
    "    \n",
    "<b>Your turn:</b> Edit the code below to remove the `aspectratio(1)` option and generate the graphs once again. Store the combined graph as `panel_a_v3.svg`. Do you notice any differences between version 1 and version 3?\n",
    "    \n",
    "</div>"
   ]
  },
  {
   "cell_type": "code",
   "execution_count": null,
   "id": "ecb209ef",
   "metadata": {},
   "outputs": [],
   "source": [
    "*** Generate R1 and R2 without aspect ratio option ***\n",
    "\n",
    "twoway (connected log_earnings year if region==1 & treated) ||      ///\n",
    "    (connected log_earnings year if region==1 & !treated),          ///\n",
    "        xline(2002, lpattern(dash))                                 /// \n",
    "        ylab(9.5(0.5)11)                                            ///\n",
    "        ytitle(\"Log-earnings\") xtitle(\"Year\")                       ///\n",
    "        legend( label(1 \"Treated\") label(2 \"Control\"))              ///\n",
    "        aspectratio(1)                                              ///\n",
    "        title(\"Region 1\") name(\"R1\", replace)\n",
    "\n",
    "twoway (connected log_earnings year if region==2 & treated) ||      ///\n",
    "    (connected log_earnings year if region==2 & !treated),          ///\n",
    "        xline(2002, lpattern(dash))                                 ///\n",
    "        ylab(9.5(0.5)11)                                            ///\n",
    "        ytitle(\"Log-earnings\") xtitle(\"Year\")                       ///\n",
    "        legend( label(1 \"Treated\") label(2 \"Control\"))              ///\n",
    "        aspectratio(1)                                              ///\n",
    "        title(\"Region 2\") name(\"R2\", replace)\n",
    "\n",
    "*** Combine graphs ***\n",
    "\n",
    "graph combine R1 R2, cols(2) title(\"Panel A: Log-earnings by Region\") name( , replace)\n",
    "\n",
    "graph export , replace"
   ]
  },
  {
   "cell_type": "markdown",
   "id": "102391e5",
   "metadata": {},
   "source": [
    "<div class=\"alert alert-block alert-warning\">\n",
    "    \n",
    "<b>Your turn:</b> Edit the code below to remove the `ylab` option and generate the graphs once again. Store the combined graph as `panel_a_v4.svg`. Could a visualisation like this be misleading? \n",
    "    \n",
    "</div>"
   ]
  },
  {
   "cell_type": "code",
   "execution_count": null,
   "id": "a95cead2",
   "metadata": {},
   "outputs": [],
   "source": [
    "*** Generate R1 and R2 without ylab option ***\n",
    "\n",
    "twoway (connected log_earnings year if region==1 & treated) ||      ///\n",
    "    (connected log_earnings year if region==1 & !treated),          ///\n",
    "        xline(2002, lpattern(dash))                                 /// \n",
    "        ylab(9.5(0.5)11)                                            ///\n",
    "        ytitle(\"Log-earnings\") xtitle(\"Year\")                       ///\n",
    "        legend( label(1 \"Treated\") label(2 \"Control\"))              ///\n",
    "        aspectratio(1)                                              ///\n",
    "        title(\"Region 1\") name(\"R1\", replace)\n",
    "\n",
    "twoway (connected log_earnings year if region==2 & treated) ||      ///\n",
    "    (connected log_earnings year if region==2 & !treated),          ///\n",
    "        xline(2002, lpattern(dash))                                 ///\n",
    "        ylab(9.5(0.5)11)                                            ///\n",
    "        ytitle(\"Log-earnings\") xtitle(\"Year\")                       ///\n",
    "        legend( label(1 \"Treated\") label(2 \"Control\"))              ///\n",
    "        aspectratio(1)                                              ///\n",
    "        title(\"Region 2\") name(\"R2\", replace)\n",
    "\n",
    "*** Combine graphs ***\n",
    "\n",
    "graph combine R1 R2, cols(2) title(\"Panel A: Log-earnings by Region\") name( , replace)\n",
    "\n",
    "graph export , replace"
   ]
  },
  {
   "cell_type": "markdown",
   "id": "27b91e74",
   "metadata": {},
   "source": [
    "<div class=\"alert alert-block alert-warning\">\n",
    "    \n",
    "<b>Your turn:</b> Complete the code below to combine the graphs once again but replace `cols(2)` with `rows(2)`. Store the combined graph as `panel_a_v5.svg`. Do you notice any differences between version 1 and version 5? \n",
    "    \n",
    "</div>"
   ]
  },
  {
   "cell_type": "code",
   "execution_count": null,
   "id": "1614b2fa",
   "metadata": {},
   "outputs": [],
   "source": [
    "gr ,  title(\"Panel A: Log-earnings by Region\") name( , replace)\n",
    "\n",
    "graph export , replace"
   ]
  },
  {
   "cell_type": "markdown",
   "id": "01db5749",
   "metadata": {},
   "source": [
    "Let's try combining graphs that follow different schema. We will begin by generating a histogram of log-earnings in region 1. "
   ]
  },
  {
   "cell_type": "code",
   "execution_count": null,
   "id": "245fe383",
   "metadata": {},
   "outputs": [],
   "source": [
    "restore         // set up the data for our graph "
   ]
  },
  {
   "cell_type": "code",
   "execution_count": null,
   "id": "4242880b",
   "metadata": {},
   "outputs": [],
   "source": [
    "histogram log_earnings if region==1,   ///\n",
    "    aspectratio(1)                     ///\n",
    "    name(\"histogram1\", replace)"
   ]
  },
  {
   "cell_type": "markdown",
   "id": "e25eb31f",
   "metadata": {},
   "source": [
    "Let's create our second graph. "
   ]
  },
  {
   "cell_type": "code",
   "execution_count": null,
   "id": "d49ae0a5",
   "metadata": {},
   "outputs": [],
   "source": [
    "preserve              // here we set up the data once again for our second graph\n",
    "\n",
    "collapse (mean) log_earnings, by(region year)"
   ]
  },
  {
   "cell_type": "code",
   "execution_count": null,
   "id": "cf7f3ada",
   "metadata": {},
   "outputs": [],
   "source": [
    "twoway (scatter log_earnings year if region==1), ///\n",
    "    ytitle(\"Log-earnings\") xtitle(\"Year\")        ///\n",
    "    aspectratio(1)                               ///\n",
    "    name(\"plot1\", replace)"
   ]
  },
  {
   "cell_type": "markdown",
   "id": "292292e8",
   "metadata": {},
   "source": [
    "Now we combine `histogram1` with the `plot1`. "
   ]
  },
  {
   "cell_type": "code",
   "execution_count": null,
   "id": "310efb4c",
   "metadata": {},
   "outputs": [],
   "source": [
    "graph combine histogram1 plot1, cols(2) title(\"Region 1\") name(newcombine, replace)\n",
    "\n",
    "graph export ./img/newcombine.svg, replace"
   ]
  },
  {
   "cell_type": "markdown",
   "id": "7cdb22b4",
   "metadata": {},
   "source": [
    "![new combine](img/newcombine.svg)"
   ]
  }
 ],
 "metadata": {
  "kernelspec": {
   "display_name": "Stata",
   "language": "stata",
   "name": "stata"
  },
  "language_info": {
   "codemirror_mode": "stata",
   "file_extension": ".do",
   "mimetype": "text/x-stata",
   "name": "stata",
   "version": "15.1"
  }
 },
 "nbformat": 4,
 "nbformat_minor": 5
}
