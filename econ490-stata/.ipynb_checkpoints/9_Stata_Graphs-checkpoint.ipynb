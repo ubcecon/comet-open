{
 "cells": [
  {
   "cell_type": "markdown",
   "id": "cd33af66",
   "metadata": {
    "pycharm": {
     "name": "#%% md\n"
    }
   },
   "source": [
    "# Visualisation Types\n",
    "\n",
    "\n",
    "## Learning Objectives \n",
    "\n",
    "- Describe when to use the following kinds of visualizations to answer specific questions using a data set:\n",
    "    - scatterplots\n",
    "    - line plots\n",
    "    - bar plots\n",
    "    - histograms\n",
    "- Generate and fine-tune visualizations using Stata commands\n",
    "- Use `graph export` to save visualizations in various formats including `.svg`, `.png` and `.pdf`\n",
    "\n",
    "\n",
    "## Introduction \n",
    "\n",
    "Data visualization is an effective way of communicating ideas to your audience, whether it's for an academic paper or a business setting. It can be a powerful medium to motivate your research, illustrate relationships between variables and provide some intuition behind why you applied certain econometric methods.\n",
    "\n",
    "The real challenge is not understanding how to use Stata to create graphs, the challenge is figuring out the graph that will do the best job at telling your empirical story.\n",
    "\n",
    "Before creating any graphs, be sure to identify the message you want to the graph convey. Try to answer the questions: Who is our audience? What is the question we're trying to answer?\n",
    "\n",
    "<div class=\"alert alert-block alert-info\">\n",
    "<b>Note:</b> You can use the drop down menus to create your graphs. If you want to include this in your Do file you simply need to copy and paste the command that appears in the Command Window after you create the graph\n",
    "</div>\n",
    "\n",
    "\n",
    "## Scatter Plot\n",
    "\n",
    "<!-- what is it? and, when to use? --> \n",
    "Scatter plots are frequently used to demonstrate how two quantitative variables are related to one another. This plot works great when we are interested in showing relationships and groupings among variables from relatively large datasets.\n",
    "\n",
    "### Example\n",
    "- ![Relationship of country religiosity vs wealth](https://ourworldindata.org/uploads/2013/11/GDP-vs-Religion.png) \n",
    "- [Comparing Americans' perceptions of which foods are healthy to the perception of nutritionists](https://www.nytimes.com/2017/10/09/learning/whats-going-on-in-this-graph-oct-10-2017.html)\n",
    "- [Instagram followers in the fashion industry](https://qz.com/267635/explore-the-hidden-patterns-of-the-fashion-instagram-universe/)\n",
    "\n",
    "### Creating scatter plots \n",
    "\n",
    "Let's begin by loading our dataset"
   ]
  },
  {
   "cell_type": "code",
   "execution_count": null,
   "id": "f22f87cb",
   "metadata": {
    "pycharm": {
     "name": "#%%\n"
    }
   },
   "outputs": [],
   "source": [
    "clear* \n",
    "\n",
    "use fake_data, clear "
   ]
  },
  {
   "cell_type": "markdown",
   "id": "3ad20d7e",
   "metadata": {
    "pycharm": {
     "name": "#%% md\n"
    }
   },
   "source": [
    "Perhaps you are already familiar with this dataset. If not, use the command `describe` to get a sense of the data. "
   ]
  },
  {
   "cell_type": "code",
   "execution_count": null,
   "id": "78c13208",
   "metadata": {
    "pycharm": {
     "name": "#%%\n"
    }
   },
   "outputs": [],
   "source": [
    "describe"
   ]
  },
  {
   "cell_type": "markdown",
   "id": "5ba3c390",
   "metadata": {
    "pycharm": {
     "name": "#%% md\n"
    }
   },
   "source": [
    "Let's say we want to plot the log-earnings by year. We begin by generating a new variable for log earnings. "
   ]
  },
  {
   "cell_type": "code",
   "execution_count": null,
   "id": "3882cea8",
   "metadata": {
    "pycharm": {
     "name": "#%%\n"
    }
   },
   "outputs": [],
   "source": [
    "gen log_earnings = log(earnings)\n",
    "\n",
    "la var log_earnings \"Log-earnings\""
   ]
  },
  {
   "cell_type": "code",
   "execution_count": null,
   "id": "f3f276c5",
   "metadata": {
    "pycharm": {
     "name": "#%%\n"
    }
   },
   "outputs": [],
   "source": [
    "preserve\n",
    "\n",
    "collapse (mean) log_earnings, by(year)"
   ]
  },
  {
   "cell_type": "code",
   "execution_count": null,
   "id": "2f0ea1a5",
   "metadata": {
    "pycharm": {
     "name": "#%%\n"
    }
   },
   "outputs": [],
   "source": [
    "describe"
   ]
  },
  {
   "cell_type": "markdown",
   "id": "98027fc2",
   "metadata": {
    "pycharm": {
     "name": "#%% md\n"
    }
   },
   "source": [
    "To create a scatterplot we need to use Stata's `twoway` command. The most important skill with graphing in Stata is to be able to understand the documentation. \n",
    "\n",
    "<div class=\"alert alert-block alert-warning\">\n",
    "    \n",
    "<b>Your turn:</b> Try using the `help` command to pull up the documentation for `twoway`.\n",
    "    \n",
    "</div>\n"
   ]
  },
  {
   "cell_type": "code",
   "execution_count": null,
   "id": "aec12170",
   "metadata": {
    "pycharm": {
     "name": "#%%\n"
    }
   },
   "outputs": [],
   "source": [
    "help twoway"
   ]
  },
  {
   "cell_type": "code",
   "execution_count": null,
   "id": "79ed0753",
   "metadata": {
    "pycharm": {
     "name": "#%%\n"
    }
   },
   "outputs": [],
   "source": [
    "twoway (scatter log_earnings year)\n",
    "\n",
    "graph export ./img/myscatterplot.svg, replace"
   ]
  },
  {
   "cell_type": "markdown",
   "id": "ce3d3f19",
   "metadata": {
    "pycharm": {
     "name": "#%% md\n"
    }
   },
   "source": [
    "It should look something like this: ![myscatterplot](img/myscatterplot.svg)"
   ]
  },
  {
   "cell_type": "markdown",
   "id": "fbd67f3e",
   "metadata": {
    "pycharm": {
     "name": "#%% md\n"
    }
   },
   "source": [
    "<div class=\"alert alert-block alert-warning\">\n",
    "    \n",
    "<b>Your turn:</b> You can customize and fine tune the graph using the Stata's *options* for `twoway` graphs. Try running `help twoway options` in the code cell below to see the documentation.\n",
    "    \n",
    "</div>"
   ]
  },
  {
   "cell_type": "code",
   "execution_count": null,
   "id": "3491de95",
   "metadata": {
    "pycharm": {
     "name": "#%%\n"
    }
   },
   "outputs": [],
   "source": []
  },
  {
   "cell_type": "markdown",
   "id": "6a8a61a2",
   "metadata": {
    "pycharm": {
     "name": "#%% md\n"
    }
   },
   "source": [
    "You can include axis titles using the *ytitle* and *xtitle* options. "
   ]
  },
  {
   "cell_type": "code",
   "execution_count": null,
   "id": "26b22b15",
   "metadata": {
    "pycharm": {
     "name": "#%%\n"
    }
   },
   "outputs": [],
   "source": [
    "twoway (scatter log_earnings year), xtitle(\"Year\") ytitle(\"Log-earnings\")\n",
    "\n",
    "graph export ./img/myscatterplot2.svg, replace"
   ]
  },
  {
   "cell_type": "markdown",
   "id": "d21f9c3b",
   "metadata": {
    "pycharm": {
     "name": "#%% md\n"
    }
   },
   "source": [
    "You can write your code in a single line as shown above. However, graph code can get very lengthy, so, to keep things neat and simple, we will break up the code into multiple lines using `///` in the next few examples. \n",
    "\n",
    "```stata\n",
    "\n",
    "twoway (scatter log_earnings year), ///\n",
    "    xtitle(\"Year\") ytitle(\"Log-earnings\")\n",
    "\n",
    "graph export ./img/myscatterplot2.svg, replace\n",
    "\n",
    "```"
   ]
  },
  {
   "cell_type": "markdown",
   "id": "53afac83",
   "metadata": {
    "pycharm": {
     "name": "#%% md\n"
    }
   },
   "source": [
    "![myscatterplot2](img/myscatterplot2.svg)"
   ]
  },
  {
   "cell_type": "markdown",
   "id": "701947d1",
   "metadata": {
    "pycharm": {
     "name": "#%% md\n"
    }
   },
   "source": [
    "<div class=\"alert alert-block alert-warning\">\n",
    "    \n",
    "<b>Your turn:</b> Here's an example of a connected scatterplot. Can you deduce the command from the `twoway` documentation? \n",
    "    \n",
    "</div>"
   ]
  },
  {
   "cell_type": "code",
   "execution_count": null,
   "id": "9865fa8d",
   "metadata": {
    "pycharm": {
     "name": "#%%\n"
    }
   },
   "outputs": [],
   "source": []
  },
  {
   "cell_type": "markdown",
   "id": "1d201ca2",
   "metadata": {
    "pycharm": {
     "name": "#%% md\n"
    }
   },
   "source": [
    "![connected-scatter-plot](./img/myconnectedplot.svg)"
   ]
  },
  {
   "cell_type": "markdown",
   "id": "5bae8b63",
   "metadata": {
    "pycharm": {
     "name": "#%% md\n"
    }
   },
   "source": [
    "## Line Plot\n",
    "\n",
    "<!-- what is it? and, when to use? --> \n",
    "Line plots visualize trends with respect to an independent, ordered quantity (e.g., time). This plot works great when one of our variables is ordinal (time-like) or when we want to display multiple series on a common timeline\n",
    "\n",
    "### Creating line plots \n",
    "\n",
    "Line plots can be generated using Stata's `twoway` command we saw earlier. \n",
    "\n",
    "<div class=\"alert alert-block alert-warning\">\n",
    "    \n",
    "<b>Your turn:</b> Complete the code below to create a line plot of log_earnings by year and save it as \"mylineplot.png\"\n",
    "    \n",
    "</div>"
   ]
  },
  {
   "cell_type": "code",
   "execution_count": null,
   "id": "b0c3faa4",
   "metadata": {
    "pycharm": {
     "name": "#%%\n"
    }
   },
   "outputs": [],
   "source": [
    "twoway ( log_earnings year), ///\n",
    "    xtitle(\"Year\") ytitle(\"Log-earnings\")\n",
    "\n",
    "graph export , replace"
   ]
  },
  {
   "cell_type": "markdown",
   "id": "769ca932",
   "metadata": {
    "pycharm": {
     "name": "#%% md\n"
    }
   },
   "source": [
    "It should look something like this: ![mylineplot](img/mylineplot.svg)"
   ]
  },
  {
   "cell_type": "markdown",
   "id": "00aa3a36",
   "metadata": {
    "pycharm": {
     "name": "#%% md\n"
    }
   },
   "source": [
    "<div class=\"alert alert-block alert-warning\">\n",
    "    \n",
    "<b>Your turn:</b> Now let's try creating a line plot with multiple series on a commone timeline. Let's set up the data frame to include log-earnings, year and treatment variable. Then, use your code from the last exercise to complete the code for a multiple series line plot. Export the graph as `multilineplot.svg`.\n",
    "    \n",
    "</div>\n"
   ]
  },
  {
   "cell_type": "code",
   "execution_count": null,
   "id": "9b3c4add",
   "metadata": {
    "pycharm": {
     "name": "#%%\n"
    }
   },
   "outputs": [],
   "source": [
    "restore"
   ]
  },
  {
   "cell_type": "code",
   "execution_count": null,
   "id": "ebef86e2",
   "metadata": {
    "pycharm": {
     "name": "#%%\n"
    }
   },
   "outputs": [],
   "source": [
    "preserve\n",
    "\n",
    "collapse (mean) log_earnings, by(treated year)\n",
    "\n",
    "describe"
   ]
  },
  {
   "cell_type": "code",
   "execution_count": null,
   "id": "738d3fda",
   "metadata": {
    "pycharm": {
     "name": "#%%\n"
    }
   },
   "outputs": [],
   "source": [
    "twoway ( log_earnings year if treated) || ( log_earnings year if !treated), ///\n",
    "    xtitle(\"Year\") ytitle(\"Log-earnings\")                                  ///\n",
    "    legend( label(1 \"Treated\") label(2 \"Control\"))\n",
    "\n",
    "graph export , replace"
   ]
  },
  {
   "cell_type": "markdown",
   "id": "9000ba44",
   "metadata": {
    "pycharm": {
     "name": "#%% md\n"
    }
   },
   "source": [
    "It should look something like this: ![multilineplot](img/multilineplot.svg)"
   ]
  },
  {
   "cell_type": "markdown",
   "id": "f7baebaa",
   "metadata": {
    "pycharm": {
     "name": "#%% md\n"
    }
   },
   "source": [
    "<div class=\"alert alert-block alert-warning\">\n",
    "    \n",
    "<b>Your turn:</b> Building on your answers from before, complete the following code to insert an indicator line at treatment year (2002). Export the graph as `multilineplot2.svg`.\n",
    "    \n",
    "</div>"
   ]
  },
  {
   "cell_type": "code",
   "execution_count": null,
   "id": "47de897f",
   "metadata": {
    "pycharm": {
     "name": "#%%\n"
    }
   },
   "outputs": [],
   "source": [
    "twoway ( log_earnings year if ) || ( log_earnings year if ),  ///\n",
    "    xtitle(\" \") ytitle(\" \")                                           ///\n",
    "    legend( label(1 \" \") label(2 \" \"))                                 /// \n",
    "    xline( /*treatment year*/, lcolor(cranberry) lpattern(dash_dot))\n",
    "\n",
    "graph export ./img/multilineplot2.svg, replace"
   ]
  },
  {
   "cell_type": "markdown",
   "id": "3832e6fd",
   "metadata": {
    "pycharm": {
     "name": "#%% md\n"
    }
   },
   "source": [
    "It should look something like this:\n",
    "![multilineplot2](img/multilineplot2.svg)"
   ]
  },
  {
   "cell_type": "markdown",
   "id": "3f2bd2b7",
   "metadata": {
    "pycharm": {
     "name": "#%% md\n"
    }
   },
   "source": [
    "## Histogram\n",
    "\n",
    "<!-- what is it? and, when to use? --> \n",
    "Histograms visualize the distribution of one quantitative variable. This plot works great when we are working with a discrete variable and are interested in visualizing all its possible values and how often they occur\n",
    "\n",
    "### Example\n",
    "### Creating histograms"
   ]
  },
  {
   "cell_type": "markdown",
   "id": "39d38f18",
   "metadata": {
    "pycharm": {
     "name": "#%% md\n"
    }
   },
   "source": [
    "Now let's restore the original dataset so that we can plot the distribution of log-earnings. "
   ]
  },
  {
   "cell_type": "code",
   "execution_count": null,
   "id": "d883e9dd",
   "metadata": {
    "pycharm": {
     "name": "#%%\n"
    }
   },
   "outputs": [],
   "source": [
    "restore\n",
    "\n",
    "describe"
   ]
  },
  {
   "cell_type": "code",
   "execution_count": null,
   "id": "99373539",
   "metadata": {
    "pycharm": {
     "name": "#%%\n"
    }
   },
   "outputs": [],
   "source": [
    "histogram log_earnings\n",
    "\n",
    "graph export ./img/myhistogram.svg, replace"
   ]
  },
  {
   "cell_type": "markdown",
   "id": "b4846777",
   "metadata": {
    "pycharm": {
     "name": "#%% md\n"
    }
   },
   "source": [
    "It should look something like this: ![myhistogram](img/myhistogram.svg)"
   ]
  },
  {
   "cell_type": "markdown",
   "id": "ccf029a0",
   "metadata": {
    "pycharm": {
     "name": "#%% md\n"
    }
   },
   "source": [
    "You can change the colour of the bars by using the `color` option"
   ]
  },
  {
   "cell_type": "code",
   "execution_count": null,
   "id": "9ca43c2e",
   "metadata": {
    "pycharm": {
     "name": "#%%\n"
    }
   },
   "outputs": [],
   "source": [
    "histogram log_earnings, color(emidblue)\n",
    "\n",
    "graph export ./img/myhistogram2.svg, replace"
   ]
  },
  {
   "cell_type": "markdown",
   "id": "2ef1adac",
   "metadata": {
    "pycharm": {
     "name": "#%% md\n"
    }
   },
   "source": [
    "![myhistogram](img/myhistogram2.svg)"
   ]
  },
  {
   "cell_type": "markdown",
   "id": "fcd30a3b",
   "metadata": {
    "pycharm": {
     "name": "#%% md\n"
    }
   },
   "source": [
    "Run the code cell below to view the colorstyle options available in Stata"
   ]
  },
  {
   "cell_type": "code",
   "execution_count": null,
   "id": "58f9a570",
   "metadata": {
    "pycharm": {
     "name": "#%%\n"
    }
   },
   "outputs": [],
   "source": [
    "help colorstyle"
   ]
  },
  {
   "cell_type": "markdown",
   "id": "1d0ef136",
   "metadata": {
    "pycharm": {
     "name": "#%% md\n"
    }
   },
   "source": [
    "<div class=\"alert alert-block alert-warning\">\n",
    "    \n",
    "<b>Your turn:</b> Generate a histogram of the age distribution in our dataset. Try customizing the bar colour while you're at it. Export the graph as `myhistogram3.svg`. \n",
    "    \n",
    "</div>"
   ]
  },
  {
   "cell_type": "code",
   "execution_count": null,
   "id": "5ff61ae9",
   "metadata": {
    "pycharm": {
     "name": "#%%\n"
    }
   },
   "outputs": [],
   "source": []
  },
  {
   "cell_type": "markdown",
   "id": "e3f4ad10",
   "metadata": {
    "pycharm": {
     "name": "#%% md\n"
    }
   },
   "source": [
    "## Bar plot\n",
    "\n",
    "<!-- what is it? and, when to use? --> \n",
    "Bar plots visualize comparisons of amounts. It is useful when we are interested in comparing a few categories as parts of a whole, or across time. \n",
    "\n",
    "> Bar plots should always start at 0. Starting bar plots at any number besides 0 is generally considered a misrepresentation of the data.\n",
    "\n",
    "### Creating a bar plot\n"
   ]
  },
  {
   "cell_type": "code",
   "execution_count": null,
   "id": "181847b2",
   "metadata": {
    "pycharm": {
     "name": "#%%\n"
    }
   },
   "outputs": [],
   "source": [
    "help graph bar   /* this is a \"traditional\" bar plot. You can also create a bar plot using the twoway command.*/"
   ]
  },
  {
   "cell_type": "markdown",
   "id": "9cbedede",
   "metadata": {
    "pycharm": {
     "name": "#%% md\n"
    }
   },
   "source": [
    "Now let's plot mean earnings by region. Note that the regions are numbered in our dataset. "
   ]
  },
  {
   "cell_type": "code",
   "execution_count": null,
   "id": "75fbb694",
   "metadata": {
    "pycharm": {
     "name": "#%%\n"
    }
   },
   "outputs": [],
   "source": [
    "graph bar (mean) earnings, over(region)\n",
    "\n",
    "graph export ./img/mybarchart.svg, replace"
   ]
  },
  {
   "cell_type": "markdown",
   "id": "5d3451cc",
   "metadata": {
    "pycharm": {
     "name": "#%% md\n"
    }
   },
   "source": [
    "![mybarchart](img/mybarchart.svg)"
   ]
  },
  {
   "cell_type": "markdown",
   "id": "f8f21e84",
   "metadata": {
    "pycharm": {
     "name": "#%% md\n"
    }
   },
   "source": [
    "You can also create a horizontal bar plot by using the command `hbar`."
   ]
  },
  {
   "cell_type": "code",
   "execution_count": null,
   "id": "1b8213e0",
   "metadata": {
    "pycharm": {
     "name": "#%%\n"
    }
   },
   "outputs": [],
   "source": [
    "graph hbar (mean) earnings, over(region)\n",
    "\n",
    "graph export ./img/mybarchart2.svg, replace"
   ]
  },
  {
   "cell_type": "markdown",
   "id": "a44dbac2",
   "metadata": {
    "pycharm": {
     "name": "#%% md\n"
    }
   },
   "source": [
    "![mybarchart2](./img/mybarchart2.svg)"
   ]
  },
  {
   "cell_type": "markdown",
   "id": "fed07ee2",
   "metadata": {
    "pycharm": {
     "name": "#%% md\n"
    }
   },
   "source": [
    "You can also group your bars over another variable (or \"category\")"
   ]
  },
  {
   "cell_type": "code",
   "execution_count": null,
   "id": "866d538a",
   "metadata": {
    "pycharm": {
     "name": "#%%\n"
    }
   },
   "outputs": [],
   "source": [
    "graph hbar (mean) earnings,  over(treated) over(region)\n",
    "\n",
    "graph export ./img/mybarchart3.svg, replace"
   ]
  },
  {
   "cell_type": "markdown",
   "id": "97411a72",
   "metadata": {
    "pycharm": {
     "name": "#%% md\n"
    }
   },
   "source": [
    "![mybarchart3](img/mybarchart3.svg)"
   ]
  },
  {
   "cell_type": "markdown",
   "id": "f78ef078",
   "metadata": {
    "pycharm": {
     "name": "#%% md\n"
    }
   },
   "source": [
    "<div class=\"alert alert-block alert-info\">\n",
    "    \n",
    "<b>Note:</b> Compare this visualisation with `multilineplot2` we generated earlier. Do both these visualisations tell the same story? Does one capture the treatment effect better than the other? \n",
    "    \n",
    "</div>"
   ]
  },
  {
   "cell_type": "markdown",
   "id": "b33f0c8d",
   "metadata": {
    "pycharm": {
     "name": "#%% md\n"
    }
   },
   "source": [
    "<div class=\"alert alert-block alert-warning\">\n",
    "    \n",
    "<b>Your turn:</b> What happens when you switch the order of categories in the code above? Try this in the following code cell. \n",
    "    \n",
    "</div>"
   ]
  },
  {
   "cell_type": "code",
   "execution_count": null,
   "id": "80cf5089",
   "metadata": {
    "pycharm": {
     "name": "#%%\n"
    }
   },
   "outputs": [],
   "source": [
    "graph hbar (mean) earnings,  over() over()\n",
    "\n",
    "graph export ./img/mybarchart4.svg, replace"
   ]
  },
  {
   "cell_type": "markdown",
   "id": "3d2d4467",
   "metadata": {
    "pycharm": {
     "name": "#%% md\n"
    }
   },
   "source": [
    "<div class=\"alert alert-block alert-warning\">\n",
    "    \n",
    "<b>Your turn:</b> Run the code cell below. Then, try switching the `over` and `by` variables and store it in `mybarchart5.svg` in the next code cell. \n",
    "    \n",
    "</div>"
   ]
  },
  {
   "cell_type": "code",
   "execution_count": null,
   "id": "e65a58da",
   "metadata": {
    "pycharm": {
     "name": "#%%\n"
    }
   },
   "outputs": [],
   "source": [
    "graph hbar (mean) earnings,  over(treated) by(region)\n",
    "\n",
    "graph export ./img/mybarchart5.svg, replace"
   ]
  },
  {
   "cell_type": "code",
   "execution_count": null,
   "id": "1995dbe0",
   "metadata": {
    "pycharm": {
     "name": "#%%\n"
    }
   },
   "outputs": [],
   "source": []
  },
  {
   "cell_type": "markdown",
   "id": "0bfe4934",
   "metadata": {
    "pycharm": {
     "name": "#%% md\n"
    }
   },
   "source": [
    "## Format\n",
    "\n",
    "So far, we exported our graphs in svg format. You can also export your graph in other formats such as `.jpg`, `.png` and `.pdf`. This may be particularly helpful if you plan to use LaTeX for writing your paper, as `.svg` files cannot be used with LaTeX PDF output. \n",
    "\n",
    "## Fine-tuning your graph further\n",
    "\n",
    "In order to customise your graph further, you can use the tools in the Stata graph window or the graph option commands we have been using in this module. So far, we added axis titles and labels using graph options. You can also include and adjust the following: \n",
    "\n",
    "- title \n",
    "- legend \n",
    "- axis \n",
    "- scale\n",
    "- labels \n",
    "- theme (i.e. colour, appearance)\n",
    "- adding lines, text or objects \n",
    "\n",
    "While we won't cover each of these in this module, you can always go back to the Stata documentation to explore the options available to you based on your needs. \n"
   ]
  },
  {
   "cell_type": "code",
   "execution_count": null,
   "id": "1e7667f0",
   "metadata": {
    "pycharm": {
     "name": "#%%\n"
    }
   },
   "outputs": [],
   "source": [
    "help twoway options"
   ]
  },
  {
   "cell_type": "markdown",
   "id": "e1207a79",
   "metadata": {
    "pycharm": {
     "name": "#%% md\n"
    }
   },
   "source": [
    "## Further reading\n",
    "\n",
    "- [Make your data speak for itself! Less is more (and people don’t read)](https://towardsdatascience.com/data-visualization-best-practices-less-is-more-and-people-dont-read-ba41b8f29e7b)"
   ]
  },
  {
   "cell_type": "markdown",
   "id": "628c4867",
   "metadata": {
    "pycharm": {
     "name": "#%% md\n"
    }
   },
   "source": [
    "## References \n",
    "\n",
    "- Timbers, T., Campbell, T., Lee, M. (2022). Data Science: A First Introduction. https://datasciencebook.ca/viz.html\n",
    "- Schrimpf, Paul. \"Data Visualization: Rules and Guidelines.\" In *QuantEcon DataScience*. Edited by Chase Coleman, Spencer Lyon, and Jesse Perla. https://datascience.quantecon.org/applications/visualization_rules.html\n",
    "- Kopf, Dan. \"A brief history of the scatter plot.\" *Quartz*. March 31, 2018. https://qz.com/1235712/the-origins-of-the-scatter-plot-data-visualizations-greatest-invention/"
   ]
  }
 ],
 "metadata": {
  "kernelspec": {
   "display_name": "Stata",
   "language": "stata",
   "name": "stata"
  },
  "language_info": {
   "codemirror_mode": "stata",
   "file_extension": ".do",
   "mimetype": "text/x-stata",
   "name": "stata",
   "version": "15.1"
  }
 },
 "nbformat": 4,
 "nbformat_minor": 5
}