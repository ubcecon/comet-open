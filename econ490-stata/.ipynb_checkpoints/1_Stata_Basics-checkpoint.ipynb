{
 "cells": [
  {
   "cell_type": "markdown",
   "id": "ce4a6b9b",
   "metadata": {},
   "source": [
    "# Stata Basics\n",
    "\n",
    "In this lecture, you will be introduced to the Stata basics. The link to the official Stata cheat sheet can be found [here](https://www.stata.com/bookstore/stata-cheat-sheets/).\n",
    "\n"
   ]
  },
  {
   "cell_type": "markdown",
   "id": "500b836d",
   "metadata": {},
   "source": [
    "## Working with a Do-file\n",
    "\n",
    "Whenever we do some work with Stata or any other programming language, it is very important that we make it replicable. For instance, you may work on a graph and realize that you made a very tiny mistake; then you need to take many steps to re-do said graph with the corrections. \n",
    "\n",
    "Stata provides a way to save code notebooks, also known as do-files, where we can keep all the code we ran in a particular instance. To open the Do-file Editor from our Stata session, we use the shortcut `Ctrl(Command)+9`.\n",
    "\n",
    "![](img/dofile_editor.png)\n",
    "\n",
    "To run a highlited part of code, you can use `Ctrl(Command)+D`. \n",
    "\n",
    "<div class=\"alert alert-info\">\n",
    "\n",
    "**Note:** The Jupyter cells in the following lectures will work as a do-file proxy, but whenever you run Stata non-interactively it is very important to keep track any change we do in a do-file.\n",
    "\n",
    "</div>\n"
   ]
  },
  {
   "cell_type": "markdown",
   "id": "081b1144",
   "metadata": {},
   "source": [
    "Before we proceed, let us open a dataset that is provided whenever we install Stata. This is a dataset on automobiles and their characteristics."
   ]
  },
  {
   "cell_type": "code",
   "execution_count": 1,
   "id": "39a9b905",
   "metadata": {},
   "outputs": [
    {
     "name": "stdout",
     "output_type": "stream",
     "text": [
      "(1978 Automobile Data)\n"
     ]
    }
   ],
   "source": [
    "sysuse auto.dta, clear"
   ]
  },
  {
   "cell_type": "markdown",
   "id": "9457413b",
   "metadata": {},
   "source": [
    "## Stata Syntax \n",
    "\n",
    "We'll begin this exploration by running a command that does not require any arguments to work."
   ]
  },
  {
   "cell_type": "code",
   "execution_count": 3,
   "id": "bd7b4e3d",
   "metadata": {},
   "outputs": [
    {
     "name": "stdout",
     "output_type": "stream",
     "text": [
      "\n",
      "Contains data from C:\\Program Files (x86)\\Stata16\\ado\\base/a/auto.dta\n",
      "  obs:            74                          1978 Automobile Data\n",
      " vars:            12                          13 Apr 2018 17:45\n",
      "                                              (_dta has notes)\n",
      "--------------------------------------------------------------------------------\n",
      "              storage   display    value\n",
      "variable name   type    format     label      variable label\n",
      "--------------------------------------------------------------------------------\n",
      "make            str18   %-18s                 Make and Model\n",
      "price           int     %8.0gc                Price\n",
      "mpg             int     %8.0g                 Mileage (mpg)\n",
      "rep78           int     %8.0g                 Repair Record 1978\n",
      "headroom        float   %6.1f                 Headroom (in.)\n",
      "trunk           int     %8.0g                 Trunk space (cu. ft.)\n",
      "weight          int     %8.0gc                Weight (lbs.)\n",
      "length          int     %8.0g                 Length (in.)\n",
      "turn            int     %8.0g                 Turn Circle (ft.)\n",
      "displacement    int     %8.0g                 Displacement (cu. in.)\n",
      "gear_ratio      float   %6.2f                 Gear Ratio\n",
      "foreign         byte    %8.0g      origin     Car type\n",
      "--------------------------------------------------------------------------------\n",
      "Sorted by: foreign\n"
     ]
    }
   ],
   "source": [
    "describe"
   ]
  },
  {
   "attachments": {},
   "cell_type": "markdown",
   "id": "da8270a8",
   "metadata": {},
   "source": [
    "We observe that our dataset consists on 12 variables and 74 observations. We have a brief description of these variables. For instance, some of these variables are numeric (int, double, float, byte) and some are made of text (string).\n",
    "\n",
    "The numeric variables can store numbers of different sizes based on their sub-type. You can see a brief description here\n",
    "\n",
    "![](img/data_type_num.png)\n",
    "\n",
    "The string variables can also store text of different size based on their sub-type. The brief description is provided here\n",
    "\n",
    "![](img/data_type_str.png)\n",
    "\n",
    "\n",
    "With this knowledge we can infer that the variable `make` probably contains the model name written as a text, and the variable `foreign` is probably a variable that takes the values 0 or 1 depending on whether the car is foreign made (i.e. a dummy variable.\n",
    "\n",
    "Let's confirm that with the following command that allows for a list of variables."
   ]
  },
  {
   "cell_type": "code",
   "execution_count": 9,
   "id": "9b63aa2c",
   "metadata": {},
   "outputs": [
    {
     "name": "stdout",
     "output_type": "stream",
     "text": [
      "\n",
      "    Variable |        Obs        Mean    Std. Dev.       Min        Max\n",
      "-------------+---------------------------------------------------------\n",
      "     foreign |         74    .2972973    .4601885          0          1\n"
     ]
    }
   ],
   "source": [
    "summarize foreign"
   ]
  },
  {
   "cell_type": "markdown",
   "id": "f860b41c",
   "metadata": {},
   "source": [
    "We can do the same for multiple variables at the same time"
   ]
  },
  {
   "cell_type": "code",
   "execution_count": 10,
   "id": "324d3690",
   "metadata": {},
   "outputs": [
    {
     "name": "stdout",
     "output_type": "stream",
     "text": [
      "\n",
      "    Variable |        Obs        Mean    Std. Dev.       Min        Max\n",
      "-------------+---------------------------------------------------------\n",
      "     foreign |         74    .2972973    .4601885          0          1\n",
      "      length |         74    187.9324    22.26634        142        233\n"
     ]
    }
   ],
   "source": [
    "summarize foreign length"
   ]
  },
  {
   "cell_type": "markdown",
   "id": "48c56f63",
   "metadata": {},
   "source": [
    "We can open a new page that provides the Stata documentation of a particular command. For instance, we may run "
   ]
  },
  {
   "cell_type": "code",
   "execution_count": 11,
   "id": "9e3a6609",
   "metadata": {},
   "outputs": [],
   "source": [
    "help summarize"
   ]
  },
  {
   "attachments": {},
   "cell_type": "markdown",
   "id": "0c544662",
   "metadata": {},
   "source": [
    "Notice what the output says here\n",
    "\n",
    "![](img/syntax_summarize.png)\n",
    "\n",
    "\n",
    "What this is saying is that we can write `summarize` command or at least the abreviation `su`, which is underlined. Also, you will notice that there are some blue names within square brackets. These are optional arguments in this command. Finally, the documentation provides the list of the available options, which need to be written after a comma. \n",
    "\n",
    "This means that if we write `summarize` (or the abreviation) and nothing else, it should work fine!"
   ]
  },
  {
   "cell_type": "code",
   "execution_count": 12,
   "id": "53f907c0",
   "metadata": {},
   "outputs": [
    {
     "name": "stdout",
     "output_type": "stream",
     "text": [
      "\n",
      "    Variable |        Obs        Mean    Std. Dev.       Min        Max\n",
      "-------------+---------------------------------------------------------\n",
      "        make |          0\n",
      "       price |         74    6165.257    2949.496       3291      15906\n",
      "         mpg |         74     21.2973    5.785503         12         41\n",
      "       rep78 |         69    3.405797    .9899323          1          5\n",
      "    headroom |         74    2.993243    .8459948        1.5          5\n",
      "-------------+---------------------------------------------------------\n",
      "       trunk |         74    13.75676    4.277404          5         23\n",
      "      weight |         74    3019.459    777.1936       1760       4840\n",
      "      length |         74    187.9324    22.26634        142        233\n",
      "        turn |         74    39.64865    4.399354         31         51\n",
      "displacement |         74    197.2973    91.83722         79        425\n",
      "-------------+---------------------------------------------------------\n",
      "  gear_ratio |         74    3.014865    .4562871       2.19       3.89\n",
      "     foreign |         74    .2972973    .4601885          0          1\n"
     ]
    }
   ],
   "source": [
    "su"
   ]
  },
  {
   "cell_type": "markdown",
   "id": "3c960fa4",
   "metadata": {},
   "source": [
    "### If conditions\n",
    "\n",
    "When the syntax of the command allows for `[if]`, it means that we can run the command on a subset of the data that satisfies the condition. The list of conditional operators is the following:\n",
    "\n",
    "1. Equal sign: ==\n",
    "2. Greater and Less than: > and <\n",
    "3. Greater than or equal and Less than or equal: >= and <= \n",
    "4. Not Equal: != \n",
    "\n",
    "We can also compound different conditions using the list of logical operators:\n",
    "\n",
    "1. And: & \n",
    "2. Or: | \n",
    "3. Not: ! or ~ \n",
    "\n",
    "Let's look at an example using this new knowledge"
   ]
  },
  {
   "cell_type": "code",
   "execution_count": 13,
   "id": "c59d0f7e",
   "metadata": {},
   "outputs": [
    {
     "name": "stdout",
     "output_type": "stream",
     "text": [
      "\n",
      "    Variable |        Obs        Mean    Std. Dev.       Min        Max\n",
      "-------------+---------------------------------------------------------\n",
      "       price |         52    6072.423    3097.104       3291      15906\n"
     ]
    }
   ],
   "source": [
    "su price if foreign==0 "
   ]
  },
  {
   "cell_type": "code",
   "execution_count": 15,
   "id": "83d658fa",
   "metadata": {},
   "outputs": [
    {
     "name": "stdout",
     "output_type": "stream",
     "text": [
      "\n",
      "    Variable |        Obs        Mean    Std. Dev.       Min        Max\n",
      "-------------+---------------------------------------------------------\n",
      "       price |         44    6354.568    3273.345       3291      15906\n"
     ]
    }
   ],
   "source": [
    "su price if foreign==0  & mpg<25"
   ]
  },
  {
   "cell_type": "markdown",
   "id": "a56e9e80",
   "metadata": {},
   "source": [
    "We can also make use of the functions `inlist()` and `inrange()` when we want to restrict to a particular list of values or to a particular range."
   ]
  },
  {
   "cell_type": "code",
   "execution_count": 16,
   "id": "172fb09b",
   "metadata": {},
   "outputs": [
    {
     "name": "stdout",
     "output_type": "stream",
     "text": [
      "\n",
      "    Variable |        Obs        Mean    Std. Dev.       Min        Max\n",
      "-------------+---------------------------------------------------------\n",
      "       price |          7    6507.857     1838.25       4482       9735\n"
     ]
    }
   ],
   "source": [
    "su price if inlist(mpg,10,15,25,40)"
   ]
  },
  {
   "cell_type": "markdown",
   "id": "b0364b14",
   "metadata": {},
   "source": [
    "Which works the exact same way as"
   ]
  },
  {
   "cell_type": "code",
   "execution_count": 18,
   "id": "4007ae93",
   "metadata": {},
   "outputs": [
    {
     "name": "stdout",
     "output_type": "stream",
     "text": [
      "\n",
      "    Variable |        Obs        Mean    Std. Dev.       Min        Max\n",
      "-------------+---------------------------------------------------------\n",
      "       price |          7    6507.857     1838.25       4482       9735\n"
     ]
    }
   ],
   "source": [
    "su price if mpg == 10 | mpg == 15 | mpg == 25 | mpg == 40"
   ]
  },
  {
   "cell_type": "code",
   "execution_count": 19,
   "id": "4ba3f5cf",
   "metadata": {},
   "outputs": [
    {
     "name": "stdout",
     "output_type": "stream",
     "text": [
      "\n",
      "    Variable |        Obs        Mean    Std. Dev.       Min        Max\n",
      "-------------+---------------------------------------------------------\n",
      "       price |         60    6577.083    3117.013       3291      15906\n"
     ]
    }
   ],
   "source": [
    "su price if inrange(mpg,5,25) "
   ]
  },
  {
   "cell_type": "markdown",
   "id": "70d94b29",
   "metadata": {},
   "source": [
    "Which works the exact same way as "
   ]
  },
  {
   "cell_type": "code",
   "execution_count": 20,
   "id": "38ef6b9c",
   "metadata": {},
   "outputs": [
    {
     "name": "stdout",
     "output_type": "stream",
     "text": [
      "\n",
      "    Variable |        Obs        Mean    Std. Dev.       Min        Max\n",
      "-------------+---------------------------------------------------------\n",
      "       price |         60    6577.083    3117.013       3291      15906\n"
     ]
    }
   ],
   "source": [
    "su price if mpg>=5 & mpg<=25"
   ]
  },
  {
   "cell_type": "markdown",
   "id": "29ee08da",
   "metadata": {},
   "source": [
    "<div class=\"alert alert-warning\">\n",
    "\n",
    "**Warning:** Missing values for numeric types are considered infinity in Stata. If you write \n",
    "    ```\n",
    "    su price if mpg>5\n",
    "    ```\n",
    "   , it may include observations where mpg is missing!\n",
    "    \n",
    "</div>\n"
   ]
  },
  {
   "cell_type": "code",
   "execution_count": 24,
   "id": "ae100cbc",
   "metadata": {},
   "outputs": [
    {
     "name": "stdout",
     "output_type": "stream",
     "text": [
      "\n",
      "    Variable |        Obs        Mean    Std. Dev.       Min        Max\n",
      "-------------+---------------------------------------------------------\n",
      "       price |         64    6239.984    2925.843       3291      15906\n"
     ]
    }
   ],
   "source": [
    "su price if rep78>2"
   ]
  },
  {
   "cell_type": "code",
   "execution_count": 25,
   "id": "67462483",
   "metadata": {},
   "outputs": [
    {
     "name": "stdout",
     "output_type": "stream",
     "text": [
      "\n",
      "    Variable |        Obs        Mean    Std. Dev.       Min        Max\n",
      "-------------+---------------------------------------------------------\n",
      "       price |         59    6223.847    2880.454       3291      15906\n"
     ]
    }
   ],
   "source": [
    "su price if rep78>2 & rep78!=."
   ]
  },
  {
   "cell_type": "markdown",
   "id": "c22f7f96",
   "metadata": {},
   "source": [
    "The easiest way is to use the function `missing()`. You will notice that the following line will work just the same way"
   ]
  },
  {
   "cell_type": "code",
   "execution_count": 26,
   "id": "25308b2d",
   "metadata": {},
   "outputs": [
    {
     "name": "stdout",
     "output_type": "stream",
     "text": [
      "\n",
      "    Variable |        Obs        Mean    Std. Dev.       Min        Max\n",
      "-------------+---------------------------------------------------------\n",
      "       price |         59    6223.847    2880.454       3291      15906\n"
     ]
    }
   ],
   "source": [
    "su price if rep78>2 & !missing(rep78)"
   ]
  },
  {
   "cell_type": "markdown",
   "id": "c732ca80",
   "metadata": {},
   "source": [
    "### In conditions\n",
    "\n",
    "We can also subset the data in terms of the observation number. "
   ]
  },
  {
   "cell_type": "code",
   "execution_count": 27,
   "id": "dc2d90b4",
   "metadata": {},
   "outputs": [
    {
     "name": "stdout",
     "output_type": "stream",
     "text": [
      "\n",
      "    Variable |        Obs        Mean    Std. Dev.       Min        Max\n",
      "-------------+---------------------------------------------------------\n",
      "       price |         10      5517.4    2063.518       3799      10372\n"
     ]
    }
   ],
   "source": [
    "su price in 1/10"
   ]
  },
  {
   "cell_type": "markdown",
   "id": "60a0a3a1",
   "metadata": {},
   "source": [
    "Using these type of conditions is generally not recommended because it is sensible to the way the data is sorted. Suppose now we want to order the data from lower to higher price and we attempt to run the same command."
   ]
  },
  {
   "cell_type": "code",
   "execution_count": 28,
   "id": "b926e0de",
   "metadata": {},
   "outputs": [
    {
     "name": "stdout",
     "output_type": "stream",
     "text": [
      "\n",
      "\n",
      "\n",
      "    Variable |        Obs        Mean    Std. Dev.       Min        Max\n",
      "-------------+---------------------------------------------------------\n",
      "       price |         10      3726.5    245.9007       3291       3984\n"
     ]
    }
   ],
   "source": [
    "sort price \n",
    "su price in 1/10"
   ]
  },
  {
   "cell_type": "markdown",
   "id": "af5c5972",
   "metadata": {},
   "source": [
    "And you can see that the result changes. This is why you should avoid using `in` whenever you can use an `if` condition instead."
   ]
  },
  {
   "cell_type": "markdown",
   "id": "1099eaaf",
   "metadata": {},
   "source": [
    "### Options\n",
    "\n",
    "From the documentation file, we observed that we can introduce some optional arguments after a comma. "
   ]
  },
  {
   "cell_type": "code",
   "execution_count": 29,
   "id": "02e055c4",
   "metadata": {},
   "outputs": [
    {
     "name": "stdout",
     "output_type": "stream",
     "text": [
      "\n",
      "                            Price\n",
      "-------------------------------------------------------------\n",
      "      Percentiles      Smallest\n",
      " 1%         3291           3291\n",
      " 5%         3748           3299\n",
      "10%         3895           3667       Obs                  74\n",
      "25%         4195           3748       Sum of Wgt.          74\n",
      "\n",
      "50%       5006.5                      Mean           6165.257\n",
      "                        Largest       Std. Dev.      2949.496\n",
      "75%         6342          13466\n",
      "90%        11385          13594       Variance        8699526\n",
      "95%        13466          14500       Skewness       1.653434\n",
      "99%        15906          15906       Kurtosis       4.819188\n"
     ]
    }
   ],
   "source": [
    "su price , detail"
   ]
  },
  {
   "cell_type": "markdown",
   "id": "d5ed66b0",
   "metadata": {},
   "source": [
    "And the options can have abbreviations as well!"
   ]
  },
  {
   "cell_type": "code",
   "execution_count": 31,
   "id": "cde60b98",
   "metadata": {},
   "outputs": [
    {
     "name": "stdout",
     "output_type": "stream",
     "text": [
      "\n",
      "                            Price\n",
      "-------------------------------------------------------------\n",
      "      Percentiles      Smallest\n",
      " 1%         3291           3291\n",
      " 5%         3748           3299\n",
      "10%         3895           3667       Obs                  74\n",
      "25%         4195           3748       Sum of Wgt.          74\n",
      "\n",
      "50%       5006.5                      Mean           6165.257\n",
      "                        Largest       Std. Dev.      2949.496\n",
      "75%         6342          13466\n",
      "90%        11385          13594       Variance        8699526\n",
      "95%        13466          14500       Skewness       1.653434\n",
      "99%        15906          15906       Kurtosis       4.819188\n"
     ]
    }
   ],
   "source": [
    "su price , d"
   ]
  },
  {
   "cell_type": "markdown",
   "id": "f36af99b",
   "metadata": {},
   "source": [
    "## Wrapping up \n",
    "\n",
    "In this lecture we learned how to understand the way Stata commands work and their syntax. In general, a standard Stata command will follow the folllowing structure \n",
    "\n",
    "```\n",
    "  name_of_command [varlist] [if] [in] [weight] [, options]\n",
    "```\n",
    "\n",
    "\n"
   ]
  }
 ],
 "metadata": {
  "kernelspec": {
   "display_name": "Stata",
   "language": "stata",
   "name": "stata"
  },
  "language_info": {
   "codemirror_mode": "stata",
   "file_extension": ".do",
   "mimetype": "text/x-stata",
   "name": "stata",
   "version": "15.1"
  }
 },
 "nbformat": 4,
 "nbformat_minor": 5
}
