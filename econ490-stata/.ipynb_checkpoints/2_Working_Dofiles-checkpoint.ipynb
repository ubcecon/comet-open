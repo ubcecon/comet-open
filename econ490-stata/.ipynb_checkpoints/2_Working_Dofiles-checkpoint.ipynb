{
 "cells": [
  {
   "cell_type": "markdown",
   "id": "ce4a6b9b",
   "metadata": {},
   "source": [
    "# ECON 490: Working with Do-Files (2)\n",
    "\n",
    "## Prerequisites \n",
    "---\n",
    "1. Connect Stata on your personal computer to JupyterLab.\n",
    "\n",
    "## Learning Outcomes\n",
    "---\n",
    "1. Understand the importance of executing commands inside of a do-file. \n",
    "2. Open and execute commands within a do-file. \n",
    "3. Annotate do-files for the purpose of clearly communicating the empirical approach. \n",
    "4. Generate log-files that document the results of the do-file execution. "
   ]
  },
  {
   "cell_type": "markdown",
   "id": "500b836d",
   "metadata": {},
   "source": [
    "## 2.1 Introduction to Do-Files\n",
    "\n",
    "Do-files record the list of commands that we want to run for our analyses and allow us to run these commands directly from the file. When we run our analysis in a do-file we always know exactly what we have asked Stata to compute, which leads to far fewer errors. And we can easily edit the file whenever we want to make any changes to our analysis. Many times we will want to repeat the same analysis over and over again (say for subgroups of our sample) and using a do-file makes this straightforward. Finally and importantly for ECON 490, you can show you do-file to either your TA or your instructor for help and feedback. Many sections of ECON 490 require students to submit their do-files with their final paper. \n",
    "\n",
    "Stata provides a way to save code notebooks, also known as do-files, where we can keep all the code we ran in a particular instance. \n",
    "\n",
    "<div class=\"alert alert-info\">\n",
    "\n",
    "**Note:** The Jupyter cells in the following lectures will work as a do-file proxy, but whenever you run command in the Stata interface it is very important to keep track of those commands in a do-file. \n",
    "\n",
    "</div>\n",
    "\n",
    "## 2.2 Opening Do-files from Stata Interface\n",
    "\n",
    "To open the Do-file Editor from our Stata session, we use the shortcut `Ctrl(Command)+9` or click at this part of the Stata Interface\n",
    "\n",
    "![](img/stata_interface.png)\n",
    "\n",
    "\n",
    "You should now observe a new window in your computer that looks like this\n",
    "\n",
    "![](img/dofile_editor.png)\n",
    "\n",
    "\n",
    "<div class=\"alert alert-block alert-warning\">\n",
    "    \n",
    "<b>Warning:</b> Always save your do-file in your folder as soon as you begin your work by clicking the save icon on the top right. It is good practice to also save your do-file each and every time you run the file. Getting in the habit of doing this will save you many hours of redoing accidentally lost work when your file closes. \n",
    "</div>"
   ]
  },
  {
   "cell_type": "markdown",
   "id": "c788abb9-1659-4023-b7c0-30669b290ed0",
   "metadata": {},
   "source": [
    "## 2.3 Executing Do-files\n",
    "\n",
    "Once you have written you commands you can execute your code one of three ways:\n",
    "\n",
    "1. By running the code `do file_name.do` either in the command line or in another do-file.\n",
    "2. By clicking on the icon at the top right of the display.\n",
    "3. By selecting a sub-section of the text and clicking on the icon at the top right of the display.\n",
    "\n",
    "The icon for executing your code looks like this:\n",
    "\n",
    "![](img/dofile_execute.png)\n",
    "\n",
    "In [Module 15]() we will be covering detailed information about how to set up your do-files for your ECON 490 project."
   ]
  },
  {
   "cell_type": "markdown",
   "id": "7abad6ce",
   "metadata": {},
   "source": [
    "## 2.4 Writing Comments in our code\n",
    "\n",
    "Writing comments at different parts of our code is a very good practice. It will allow us to revisit code we wrote in the past and understand what we did. Stata allows for three different type of comments in our do-files. \n",
    "\n",
    "The first type of comment is based on using asterisks `*`, and works well for a single line of text."
   ]
  },
  {
   "cell_type": "code",
   "execution_count": 1,
   "id": "950a1f95",
   "metadata": {},
   "outputs": [],
   "source": [
    "* This is a Stata comment: nothing is gonna happen"
   ]
  },
  {
   "cell_type": "markdown",
   "id": "eadd8845",
   "metadata": {},
   "source": [
    "The second type of comments is based on using  `//`, and can be used when we want to write a comment next to our code."
   ]
  },
  {
   "cell_type": "code",
   "execution_count": null,
   "id": "d8448442",
   "metadata": {},
   "outputs": [],
   "source": [
    "display 5 // This command is printing the number 5"
   ]
  },
  {
   "cell_type": "markdown",
   "id": "66f16a08",
   "metadata": {},
   "source": [
    "The third type of comment is based on using `/*`. This is used for a multi-line comment that starts with a `/*` and close with the same symbol."
   ]
  },
  {
   "cell_type": "code",
   "execution_count": null,
   "id": "f0814e86",
   "metadata": {},
   "outputs": [],
   "source": [
    "/*\n",
    "Multi-line comments are also allowed this way,\n",
    "and they are very useful!\n",
    "*/"
   ]
  },
  {
   "cell_type": "markdown",
   "id": "37fa0638",
   "metadata": {},
   "source": [
    "You will notice that the comments are highlighted with the colour <font color='green'>green</font> within our do-files. Whenever you see that colour, you should automatically recognize that part as being a comment made by the author. Similarly, you will notice that the recognized Stata commands in our do-file are highlighted <font color='blue'>blue</font>.  \n",
    "\n",
    "![](img/dofile_comments.png)\n",
    "\n"
   ]
  },
  {
   "cell_type": "markdown",
   "id": "8b066f9e",
   "metadata": {},
   "source": [
    "## 2.3 Delimiters \n",
    "\n",
    "Stata automatically makes every line a different instruction or command. In other words, the delimiter of each instruction we feed into Stata is set by a new row or line (what Stata programmers refer to as `cr` (carriage return)). While we do not advice to change this delimiter, it may be useful to know that another approach is to set different lines by a semi-colon `;`. You may change this setting by writing."
   ]
  },
  {
   "cell_type": "code",
   "execution_count": null,
   "id": "5b879c69",
   "metadata": {},
   "outputs": [],
   "source": [
    "#delimit ;\n",
    "display 5\n",
    "+6;"
   ]
  },
  {
   "cell_type": "markdown",
   "id": "d158fae0",
   "metadata": {},
   "source": [
    "As we can see now, an instruction can take place in multiple lines, and will not end until a semi-colon is met.\n",
    "\n",
    "We can revert this change by running "
   ]
  },
  {
   "cell_type": "code",
   "execution_count": null,
   "id": "2ef542a6",
   "metadata": {},
   "outputs": [],
   "source": [
    "#delimit cr"
   ]
  },
  {
   "cell_type": "markdown",
   "id": "632090bf",
   "metadata": {
    "jp-MarkdownHeadingCollapsed": true,
    "tags": []
   },
   "source": [
    "## 2.5 Saving Log-files\n",
    "\n",
    "Log files save a recording of everything that appears in the results window when you run your do-file. Your instructor and TA will want to see your log-file whenever you have problems with your analysis and, as with the do-file, most instructors will require students to submit their log-files with their final research at the end of the term.  \n",
    "\n",
    "It is important to get into the practice of creating a log-file every time you run a do-file.\n",
    "\n",
    "Start every do-file with the command initiating the creation of a log. The command `log` tells Stata to open a log-file and create a record of what you type and any output that appears in the Results window. The command to start the log recording is simply `log using filename`, where `filename` is going to be the name the log will have when saved. \n",
    "\n",
    "<div class=\"alert alert-info\">\n",
    "\n",
    "**Note:** Carefully choose a file name that clearly indicates the analysis you are undertaking with no spaces or capital letters.\n",
    "</div>\n",
    "    \n",
    "Given that your work is likely to be submitted online, you should also get into the practice of saving your log-file as a text file that your instructor can view on Canvas. To create a log-file as a text we use the option `text`. You probably will be overwriting the same log-file many times (i.e. each time you run the do-file) so you should also use the option `replace`. \n",
    "\n",
    "All together your command line will be:\n",
    "\n",
    "```stata\n",
    "    log using filename, text replace\n",
    "```\n",
    "\n",
    "It is imperative that you close your log-file at the end of your do-file, or else the log-file will continue to record all your work and cause your do-file to crash next time you run that file. The command to close the log-file belongs at the very end of the do-file. \n",
    "\n",
    "The command to close the log-file is simply `log close`. The most common approach is to run the following command at both the beginning and end of your do-file. \n",
    "\n",
    "```stata\n",
    "   capture log close\n",
    "```\n",
    "\n",
    "Although we will discuss the `capture` command in [Module ](), what you should know at this point is that if you run this command and there is no log-file open, then just ignore this line and keep going. This way you can avoid one of the most frustrating things about using do-files, which is that if your do-file crashes partway through a run, the log-file will not be closed. Having the log-file still open will then cause the do-file to crash a second time when the do-file is next run.\n"
   ]
  },
  {
   "cell_type": "markdown",
   "id": "96ce2078",
   "metadata": {},
   "source": [
    "## Wrap Up\n",
    "\n",
    "When producing a research project, organization and attention to detail are extremely important skills to develop. That is why you should always save the do-file in a easy-to-reach folder as soon as you begin your work by clicking the save icon on the top right. It is good practice to also save your do-file each and every time you run the file. Getting in the habit of doing this will save you many hours of redoing accidentally lost work when your file closes.\n",
    "\n",
    "We will be learning more about how to organize all of your files in [Module 15]().\n",
    "\n",
    "<div class=\"alert alert-info\">\n",
    "\n",
    "**Note:** You can show you do-file to either your TA or your instructor for help and feedback. It is also good to submit any practical assignment using Stata along with a do-file.\n",
    "\n",
    "</div>\n",
    "\n"
   ]
  },
  {
   "cell_type": "markdown",
   "id": "9a8982d0-ea0d-4d97-9c6a-a8f7a0bbbee1",
   "metadata": {},
   "source": [
    "## References\n",
    "---\n",
    "\n",
    "[What's it like–Getting started in Stata](https://youtu.be/TtlwTuN06jg) (Video)\n",
    "\n",
    "Stata provides an official Stata of commands [cheat sheet](https://www.stata.com/bookstore/stata-cheat-sheets/)."
   ]
  }
 ],
 "metadata": {
  "kernelspec": {
   "display_name": "Python 3 (ipykernel)",
   "language": "python",
   "name": "python3"
  },
  "language_info": {
   "codemirror_mode": {
    "name": "ipython",
    "version": 3
   },
   "file_extension": ".py",
   "mimetype": "text/x-python",
   "name": "python",
   "nbconvert_exporter": "python",
   "pygments_lexer": "ipython3",
   "version": "3.9.7"
  }
 },
 "nbformat": 4,
 "nbformat_minor": 5
}
