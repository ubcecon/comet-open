{
 "cells": [
  {
   "cell_type": "markdown",
   "id": "52dcbe2e-5db6-46dd-9728-89de39d13c4a",
   "metadata": {
    "tags": []
   },
   "source": [
    "# ECON 490: Generating Variables (6)\n",
    "\n",
    "## Prerequisites \n",
    "---\n",
    "1. Be able to effectively use Stata do files and generate log files.\n",
    "2. Be able to change your directory so that Stata can find your files.\n",
    "3. Import datasets in csv and dta format. \n",
    "4. Save data files. \n",
    "\n",
    "## Learning objectives:\n",
    "---\n",
    "1. Explore your data set with commands like `describe`, `browse`,`tabulate`, `codebook` and `lookfor`.\n",
    "2. Generate dummy (or indicator) variables using the command `generate` or `tabulate`.\n",
    "3. Create new variables in Stata using `generate` and `replace`.\n",
    "4. Rename and label variables.\n"
   ]
  },
  {
   "cell_type": "markdown",
   "id": "c51cc109",
   "metadata": {
    "tags": []
   },
   "source": [
    "## 6.1 Getting Started\n",
    "\n",
    "We'll continue working with the fake data dataset introduced in the previous lecture. Recall that this dataset is simulating information of workers in the years 1982-2012 in a fake country where a training program was introduced in 2003 to boost their earnings.  \n",
    "\n",
    "Last lecture we introduced three steps to open data in stata:\n",
    "1. Clear the workspace\n",
    "2. Change the directory to  the space where the files we will use are located \n",
    "3. Import the data using commands specific to the file type.\n",
    "\n",
    "Let's run those commands now so we are all ready to do our analysis. "
   ]
  },
  {
   "cell_type": "code",
   "execution_count": null,
   "id": "529bf1e8",
   "metadata": {},
   "outputs": [],
   "source": [
    "* Below you will need to include the path on your own computer to where the data is stored between the quotation marks.\n",
    "\n",
    "clear *\n",
    "cd \" \"\n",
    "import delimited using \"fake_data.csv\", clear"
   ]
  },
  {
   "cell_type": "markdown",
   "id": "ff0942e8-6e3f-4b6c-8a8f-7b47306db9aa",
   "metadata": {},
   "source": [
    "## 6.2 Commands to Explore the Dataset"
   ]
  },
  {
   "cell_type": "markdown",
   "id": "b91dec57",
   "metadata": {},
   "source": [
    "### 6.2.1 `describe`\n",
    "\n",
    "The first command we are going to use describes the basic characteristics of the variables in the loaded data set."
   ]
  },
  {
   "cell_type": "code",
   "execution_count": null,
   "id": "35d1ba54",
   "metadata": {},
   "outputs": [],
   "source": [
    "describe"
   ]
  },
  {
   "cell_type": "markdown",
   "id": "490d9ed3-7ace-494a-9059-3eb2c48f4de7",
   "metadata": {},
   "source": [
    "### 6.2.2 `browse`"
   ]
  },
  {
   "cell_type": "markdown",
   "id": "dabaaeaa",
   "metadata": {},
   "source": [
    "In addition to use the `describe` command, in the Stata interface you can also open the data editor and see the raw data as if it were an Excel file. To do so we can type `browse`. This command will open a new Stata window. If we want to do this from within Jupyter, we use the command with `%` before `browse`. \n"
   ]
  },
  {
   "cell_type": "code",
   "execution_count": null,
   "id": "812753b1",
   "metadata": {},
   "outputs": [],
   "source": [
    "%browse"
   ]
  },
  {
   "cell_type": "markdown",
   "id": "4ea772ee",
   "metadata": {},
   "source": [
    "Opening the data editor has many benefits. Most importantly we get to see the data as a whole, allowing us to have a clearer perspective of the information the dataset is providing us. For example, here we observe that we have unique worker codes, the year where they are observed, worker characteristics (sex, age, and earnings), and whether or not they participated in the traning program. "
   ]
  },
  {
   "cell_type": "markdown",
   "id": "2e2db56c-5e83-44cf-ab6b-2771dd875c3e",
   "metadata": {},
   "source": [
    "### 6.2.3 `codebook`\n",
    "\n",
    "We can further analyze any variable by using the `codebook` command. Let's do this here to learn more about the variable earnings."
   ]
  },
  {
   "cell_type": "code",
   "execution_count": null,
   "id": "97231fa4",
   "metadata": {},
   "outputs": [],
   "source": [
    "codebook earnings"
   ]
  },
  {
   "cell_type": "markdown",
   "id": "49d3e066",
   "metadata": {
    "tags": []
   },
   "source": [
    "The codebook command gives us important information about this variable such as the type (i.e. string or numeric), how many missing observations it has (very useful to know!) and, unique values. If the variable is numeric it will provide some summary statistics. If the variable is a sting it will provided examples of some of the entries.\n",
    "\n",
    "Try changing the variable name in the cell above to see the codebook entries for the different variables in this data. "
   ]
  },
  {
   "cell_type": "markdown",
   "id": "4100494f-29d8-4f6b-9372-bb355fa15b30",
   "metadata": {},
   "source": [
    "### 6.2.4 `tabulate`\n",
    "\n",
    "We can also learn more about frequency of the different measures in one variable by using the command `tabulate`."
   ]
  },
  {
   "cell_type": "code",
   "execution_count": null,
   "id": "78397323",
   "metadata": {
    "tags": []
   },
   "outputs": [],
   "source": [
    "tabulate region"
   ]
  },
  {
   "cell_type": "markdown",
   "id": "b3415838-e127-45b1-add4-adcc7cf47ac9",
   "metadata": {},
   "source": [
    "Here we can see that there are five regions indicated in this data set, that more people surveyed came from region 1 and then fewer people surveyed came from region 3. \n",
    "\n",
    "We can actually include two variable in the `tabulate` command if we want more information. When you try this below you will see that there were 234,355 female identified persons surveyed in region 1 and 425,698 male identified persons surveyed in region 2. "
   ]
  },
  {
   "cell_type": "code",
   "execution_count": null,
   "id": "793fd56f",
   "metadata": {},
   "outputs": [],
   "source": [
    "tabulate region sex"
   ]
  },
  {
   "cell_type": "markdown",
   "id": "97863d59",
   "metadata": {},
   "source": [
    "### 6.2.5 `lookfor`\n",
    "\n",
    "What if there's a gazillion variables and I'm looking for a particular one?\n",
    "\n",
    "Thankfully, Stata provides a nice command called `lookfor`. Suppose we want to look for a variable that is related to year. "
   ]
  },
  {
   "cell_type": "code",
   "execution_count": null,
   "id": "02dfeec3",
   "metadata": {},
   "outputs": [],
   "source": [
    "lookfor year"
   ]
  },
  {
   "cell_type": "markdown",
   "id": "1be3dacb",
   "metadata": {},
   "source": [
    "Stata found three variables that include the word `year` either in the variable name or in the variable label. This is super useful when we are getting to know a dataset!"
   ]
  },
  {
   "cell_type": "markdown",
   "id": "22a46ea4",
   "metadata": {
    "tags": []
   },
   "source": [
    "##  6.3 Generate Dummy Variables\n",
    "\n",
    "Dummy variables are variables that can only take on two values: 0 and 1. It is useful to think of a dummy variable as being the answer to a question that can be answered \"yes\" or \"no\". With a dummy variable the answer yes is coded as \"1\" and no is coded as \"0\".\n",
    "\n",
    "Examples of question that are used to create dummy variables are those like:\n",
    "\n",
    "1. Is the person female? Females are coded \"1\" and males are coded \"0\"\n",
    "2. Does the person have a university degree? People with a degree are coded \"1\" and everyone else is coded \"0\"\n",
    "3. Is the person married? Married people are coded \"1\" and everyone else is coded \"0\"\n",
    "4. Is the person a millennial? People born between 1980 and 1996  are coded \"1\" and those born in other years are coded \"0\"\n",
    "\n",
    "As you have probably already figured out, dummy variables are used primarily for data that is qualitative and cannot be ranked in any way. For example, being married is qualitative and \"married\" is neither higher nor lower than \"single\".  But they are also sometimes used for variables that are qualitative and ranked, such as level of education. And sometimes for variables that are quantitative, such as age groupings. \n",
    "\n",
    "It is important to remember that dummy variables must always be used when you want to include categorical (qualitative) variables in your analysis. These are variables such as sex, gender, race, marital status, religiosity, immigration status etc. We can’t use these variables without creating a dummy variable because the results would in no way be meaningful."
   ]
  },
  {
   "cell_type": "markdown",
   "id": "255798d5-6b3e-4e8b-99bd-b7d52f34e742",
   "metadata": {},
   "source": [
    "### 6.3.1 Creating Dummy Variables using `generate`\n",
    "\n",
    "Let's do an example where we create a dummy variable that indicates if the observation identified as female. We are going to use the command `generate` which generates a completely new variable. "
   ]
  },
  {
   "cell_type": "code",
   "execution_count": null,
   "id": "f90992d9",
   "metadata": {},
   "outputs": [],
   "source": [
    "generate female = ( sex == \"F\") "
   ]
  },
  {
   "cell_type": "markdown",
   "id": "6bd62c04",
   "metadata": {},
   "source": [
    "What Stata interprets here is that whenever the condition `sex == \"F\" ` holds, then our dummy will take the value of 1. Otherwise it will take the value of zero. Depending on what you're doing, you may want that the cases where `sex` is missing mean that our dummy must be zero."
   ]
  },
  {
   "cell_type": "code",
   "execution_count": null,
   "id": "89f54d5c",
   "metadata": {},
   "outputs": [],
   "source": [
    "generate female = ( sex == \"F\")  if !mi(sex)"
   ]
  },
  {
   "cell_type": "markdown",
   "id": "61cda66d",
   "metadata": {},
   "source": [
    "Whoops! We got an error. This says that our variable is already defined. Stata does this because it doesn't want you to accidentally overwrite an existing variable. Whenever we want to do that we have to use the command `replace`."
   ]
  },
  {
   "cell_type": "code",
   "execution_count": null,
   "id": "f71c8767",
   "metadata": {},
   "outputs": [],
   "source": [
    "replace female = ( sex == \"F\")  if !mi(sex)"
   ]
  },
  {
   "cell_type": "markdown",
   "id": "6a7a1ef2",
   "metadata": {
    "tags": []
   },
   "source": [
    "We could have also used the command `capture drop female` before we use `generate`. The `capture` command tells Stata to ignore any error in the command that immediately follows. In this example, this would do the following: \n",
    "\n",
    "-  If the variable that is being dropped didn't exist, the `drop female` command would automatically create an error. The `capture` command tells Stata to ignore that problem. \n",
    "- If the variable did already exist, the `drop female` command would work just fine, so that line will proceed as normal."
   ]
  },
  {
   "cell_type": "markdown",
   "id": "ecae02e4-c392-4524-8e82-2e1f6aaca3e9",
   "metadata": {
    "tags": []
   },
   "source": [
    "### 6.3.2 Creating Dummy Variables using `tabulate`\n",
    "\n",
    "We already talked about how to create dummy variables with generate and replace. Let’s see how this can be done for a whole set of dummy variable - one for each region identifed in the data set. "
   ]
  },
  {
   "cell_type": "code",
   "execution_count": null,
   "id": "e5307149-68fd-41ec-965d-47783d515ab5",
   "metadata": {
    "tags": []
   },
   "outputs": [],
   "source": [
    "tabulate region, generate(reg)"
   ]
  },
  {
   "cell_type": "markdown",
   "id": "054be0df-f104-47c6-82bd-d01a026e9d77",
   "metadata": {},
   "source": [
    "This command generated five new dummy variables, one for each category for region. We asked Stata to call those variables \"reg\" and so those five new variables are called reg1, reg2, reg3, reg4. When we run the command `des reg*` will see all of the variables whose names start with \"reg\" listed. Stata has helpfully labelled those variables with data label from marstat. You might want to change the names for your own project to something that is more meaningful to you. "
   ]
  },
  {
   "cell_type": "code",
   "execution_count": null,
   "id": "eb7e34db-7c7e-439f-95d6-2e56efa53821",
   "metadata": {},
   "outputs": [],
   "source": [
    "des reg*"
   ]
  },
  {
   "cell_type": "markdown",
   "id": "e63e4c19",
   "metadata": {},
   "source": [
    "## 6.4 Generating Variables based on Expressions\n",
    "\n",
    "Sometimes we want to generate variables after some transformations (e.g. squaring, taking logs, combining different variables). We can do that by simply writing the expression. For example, let's create a new variable that is simply the natural log of earnings:"
   ]
  },
  {
   "cell_type": "code",
   "execution_count": null,
   "id": "cb297a3b",
   "metadata": {},
   "outputs": [],
   "source": [
    "gen log_earnings = log(earnings)"
   ]
  },
  {
   "cell_type": "code",
   "execution_count": null,
   "id": "6051acde",
   "metadata": {},
   "outputs": [],
   "source": [
    "summarize earnings log_earnings"
   ]
  },
  {
   "cell_type": "markdown",
   "id": "f65a94a0-3caa-4a15-97db-36cb7abc0588",
   "metadata": {},
   "source": [
    "Let's try a second example, let's create a new variable that is the number of years since the year the individual started working. "
   ]
  },
  {
   "cell_type": "code",
   "execution_count": null,
   "id": "0218168d",
   "metadata": {},
   "outputs": [],
   "source": [
    "gen experience_proxy = year - start_year"
   ]
  },
  {
   "cell_type": "code",
   "execution_count": null,
   "id": "63697318",
   "metadata": {},
   "outputs": [],
   "source": [
    "summarize experience_proxy"
   ]
  },
  {
   "cell_type": "markdown",
   "id": "edd0d630",
   "metadata": {},
   "source": [
    "## 6.5 Following Good Naming Conventions\n",
    "\n",
    "Choosing good names for your variables is more important, and harder, than you might think! Some of the variables in the original dataset could have very unrecognizable names, which may be confusing when conducting your research, and need to change when you begin. You will also be creating your own variables, like dummy variables for qualitative measures, and you want to be careful about giving them good names. Finally, once you start generating tables you will want all of your variables to have high-quality names that will carry over to your paper.\n",
    "\n",
    "\n",
    "You can always rename your variables with the command `rename`. Let' try to rename one of those dummy variables we created above. Maybe we know that if region = 3 then the region is in the west."
   ]
  },
  {
   "cell_type": "code",
   "execution_count": null,
   "id": "eb8431c2",
   "metadata": {},
   "outputs": [],
   "source": [
    "rename reg3 west\n",
    "des west"
   ]
  },
  {
   "cell_type": "markdown",
   "id": "12996cd5",
   "metadata": {},
   "source": [
    "Don’t think you need to include every piece of information in your variable name. Most of the important information is included in the variable label (more on that in a moment). Avoid variable names that include unnecessary pieces of information and can only be interpreted by you. \n",
    "\n",
    "\n",
    "<div class=\"alert alert-info\">\n",
    "\n",
    "**Pro tip:**  Put all of your variables in lower case to avoid errors (since Stata is case sensitive). \n",
    "</div>"
   ]
  },
  {
   "cell_type": "markdown",
   "id": "38c71e6a",
   "metadata": {},
   "source": [
    "## 6.6 Creating Variable Labels\n",
    "\n",
    "It is important that anyone using your data set knows what each variable measures. You can add a new label, or a change a variable label, at any time by using the label variable command. Continuing the example from above, if I create a new dummy variable that indicates if people are female then I will want to add a label to my new variable. That command would be:"
   ]
  },
  {
   "cell_type": "code",
   "execution_count": null,
   "id": "c86da612",
   "metadata": {},
   "outputs": [],
   "source": [
    "label variable female \"Female Dummy\""
   ]
  },
  {
   "cell_type": "markdown",
   "id": "e6699b55",
   "metadata": {},
   "source": [
    "When we describe the data, we will see this extra information in the variable label column."
   ]
  },
  {
   "cell_type": "code",
   "execution_count": null,
   "id": "fe81da03",
   "metadata": {},
   "outputs": [],
   "source": [
    "des female"
   ]
  },
  {
   "cell_type": "markdown",
   "id": "cadca34f-a4c3-4f4f-86d5-366dc5bef9f2",
   "metadata": {},
   "source": [
    "## Wrapping Up\n",
    "\n",
    "When we are doing your own research, we *always* have to spend some time working with the data before beginning the analysis. In this module we have learned some important tools for manipulating data to get it ready for that analysis. Like everything else that you do in Stata, these manipulations should be done in a do file, so that you always know exactly what you have done with your data. Losing track of those changes can cause some very serious mistakes when you start to do your research!"
   ]
  }
 ],
 "metadata": {
  "kernelspec": {
   "display_name": "Stata",
   "language": "stata",
   "name": "stata"
  },
  "language_info": {
   "codemirror_mode": "stata",
   "file_extension": ".do",
   "mimetype": "text/x-stata",
   "name": "stata",
   "version": "15.1"
  }
 },
 "nbformat": 4,
 "nbformat_minor": 5
}
