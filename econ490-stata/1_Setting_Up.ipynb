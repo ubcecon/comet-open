{
 "cells": [
  {
   "cell_type": "markdown",
   "id": "5406a3af-c085-48de-ae85-382485f1f8e8",
   "metadata": {
    "tags": []
   },
   "source": [
    "# ECON 490: Jupyter and Stata (1)\n",
    "\n",
    "## Prerequisites \n",
    "\n",
    "1. Have installed Stata onto your personal computer.\n",
    "2. Have installed Anaconda Navigator onto your personal computer.\n",
    "\n",
    "## Learning Outcomes\n",
    "\n",
    "\n",
    "1. Connect Stata on your personal computer to Jupyter Notebook."
   ]
  },
  {
   "cell_type": "markdown",
   "id": "a90f25be",
   "metadata": {
    "tags": []
   },
   "source": [
    "## 1.1 Jupyter and Stata\n",
    "\n",
    "Before you begin you will need to have installed Stata from the [UBC portal](https://ubc.onthehub.com/WebStore/Welcome.aspxe). Please be certain to sign in using your CWL before searching for Stata. This software is free for all students in the UBC Faculty of Arts. \n",
    "\n",
    "You will also need to install [Anaconda Navigator](https://www.anaconda.com/) in order to be able to run your files in a local version of Jupyter Notebook.\n",
    "\n",
    "Conda is an open-source package and environment management system. With Conda we can create a particular directory folder (also known as environment) that will contain the packages that allow us to run Jupyter online notebooks which run code coming from different softwares (henceforth referred as kernels): Stata, R, Python, etc. The bare minimum for our environments is some version of Python. \n",
    "\n",
    "The only way to set up an environment based on Stata requires us to manually connect our computer's Stata program to Jupyter Notebook.\n",
    "\n",
    "<div class=\"alert alert-info\">\n",
    "\n",
    "**Note:** You will only have to do this once on any computer. After that you will be able to go directly to Jupyter Notebooks for your work. \n",
    "\n",
    "</div>"
   ]
  },
  {
   "cell_type": "markdown",
   "id": "a894eb0b",
   "metadata": {
    "tags": []
   },
   "source": [
    "## 1.2 Setting up Your Computer \n",
    "\n",
    "In order to execute the following commands on your computer, you will need to access your computer's terminal window. A terminal window includes a prompt that indicates where you will enter commands. The prompt you see depends on your own system, but it often includes the name of the host you are logged in to, your current working folder, your user name, and a prompt symbol.\n",
    "\n",
    "How you access that terminal window will depend on your operating system:\n",
    "\n",
    "#### To open the terminal in Mac, do one of the following:\n",
    "\n",
    "1. Click the Launchpad icon in the Dock, type \"terminal\" in the search field, then click Terminal.\n",
    "2. In the Finder, open the /Applications/Utilities folder, then double-click Terminal.\n",
    "\n",
    "#### To open the terminal in Windows, do one of the following:\n",
    "\n",
    "1. Click the Start button and select \"All Apps\". Scroll down the Start menu, right-click on the shortcut for Windows Terminal, move to the More menu, and select \"Run as administrator\".  \n",
    "2. Click the Search icon, start typing \"command prompt\", and then select Open or Run as Administrator from the search results. \n",
    "\n",
    "Once you have the terminal open, you can run the commands `conda` that can find packages to install from channels. This is not dissimilar to downloading software from a server. You want to make sure that the computer first finds the `conda-forge` channel. To allow this, you should run the following commands directly in your own terminal window in Jupyter Notebooks:\n",
    "\n",
    "```\n",
    "  conda config --add channels conda-forge\n",
    "  conda config --set channel_priority strict\n",
    "```\n",
    "\n",
    "The goal here is to create a package bundle, i.e. an environment, where you will install some version of R, Stata Kernel, and Jupyter. You can explore the things you can download to an environment from the  `conda-forge` channel by running, for example, `conda search r-base`, `conda search stata_kernel`, etc. That way, you can see that the terminal lists all the different versions of these packages that you can download from the different channels. \n",
    "\n",
    "Now we are ready to create a new environment where we can install all these packages. In this particular case, we will create an environment based on Python 3.9.7. Let us create an environment called `stata_r_env` by writing:\n",
    "\n",
    "```\n",
    "  conda create -n stata_r_env python=3.9.7\n",
    "```\n",
    "\n",
    "If you omit the `=3.9.7` part, you will create an environment with the default Python version. \n",
    "\n",
    "We want anything that we install from the channel to be part of this new environment. To do so, we need to activate it by running\n",
    "```\n",
    "  conda activate stata_r_env\n",
    "```\n",
    "\n",
    "Now that our environment is activated we can install everything we want. We begin by installing Jupyter, which will allow us to run the interactive notebooks:\n",
    "\n",
    "```\n",
    "  conda install jupyter\n",
    "```\n"
   ]
  },
  {
   "cell_type": "markdown",
   "id": "d67d053c",
   "metadata": {
    "tags": []
   },
   "source": [
    "## 1.3 Installing Stata Kernel on an Environment\n",
    "\n",
    "Next, we will install the Stata Kernel by running:\n",
    "\n",
    "```  \n",
    "  conda install -c conda-forge stata_kernel\n",
    "  python -m stata_kernel.install\n",
    "```\n",
    "\n",
    "Finally, to be able to run the entire ECON 490 folder, it is highly recommended to install a stable R-version. In this particular case, we will focus on R 4.1.2. To install this we type\n",
    "\n",
    "```  \n",
    "  conda install -c conda-forge r-base=4.1.2  \n",
    "```\n",
    "\n",
    "\n",
    "\n",
    "\n",
    "\n"
   ]
  },
  {
   "cell_type": "markdown",
   "id": "716175cd",
   "metadata": {
    "tags": []
   },
   "source": [
    "## 1.4 (Optional) Installing R Kernel on an Environment\n",
    "\n",
    "To use R interactively from this environment, we need to open R from the terminal. If you use Windows, you can type `r.exe` or `start r` and if you use MacOS you can type `r`. You will notice that, like when you open R from your desktop, you need to run\n",
    "```  \n",
    "  install.packages('IRkernel')\n",
    "  IRkernel::installspec()\n",
    "  q()\n",
    "```\n",
    "\n",
    "The first two lines connect our R version with the Jupyter notebook, and the last line closes R from the terminal because we're done. Now you should be able to change directory from the terminal by running `cd any_directory` and then running `jupyter notebook` to open the interactive webpage to open, create and export Jupyter notebooks.\n",
    "\n",
    "\n",
    "\n",
    "<div class=\"alert alert-info\">\n",
    "\n",
    "**Note:** Please speak with your instructor if you run into any issues when setting up Jupyter Notebook and Stata.\n",
    "\n",
    "</div>"
   ]
  }
 ],
 "metadata": {
  "kernelspec": {
   "display_name": "Python 3 (ipykernel)",
   "language": "python",
   "name": "python3"
  },
  "language_info": {
   "codemirror_mode": {
    "name": "ipython",
    "version": 3
   },
   "file_extension": ".py",
   "mimetype": "text/x-python",
   "name": "python",
   "nbconvert_exporter": "python",
   "pygments_lexer": "ipython3",
   "version": "3.10.5"
  }
 },
 "nbformat": 4,
 "nbformat_minor": 5
}
