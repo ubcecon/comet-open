{
 "cells": [
  {
   "cell_type": "markdown",
   "id": "5406a3af-c085-48de-ae85-382485f1f8e8",
   "metadata": {
    "tags": []
   },
   "source": [
    "# ECON 490: Jupyter and Stata (1)\n",
    "\n",
    "## Prerequisites \n",
    "---\n",
    "1. Have installed Stata onto your personal computer.\n",
    "2. Have installed Anaconda Navigator onto your personal computer.\n",
    "\n",
    "## Learning objectives:\n",
    "---\n",
    "\n",
    "1. Connect Stata on your personal computer to JupyterLab.\n",
    "2. Understand how you will be working with these Jupyter Notebooks with Stata.\n",
   ]
  },
  {
   "cell_type": "markdown",
   "id": "a90f25be",
   "metadata": {
    "tags": []
   },
   "source": [
    "## 1.1 Jupyter and Stata\n",
    "\n",
    "Before you begin you will need to have installed Stata from the [UBC portal](https://ubc.onthehub.com/WebStore/Welcome.aspxe). Please be certain to sign in using your CWL before searching for Stata. This software is free for all students in the UBC Faculty of Arts. \n",
    "\n",
    "You will also need to inslall [Anaconda Navigator](https://www.anaconda.com/) in order to be able to run JupyterLab.\n",
    "\n",
    "Conda is an open-source package and environment management system. With Conda we can create a particular directory folder (also known as environment) that will contain the packages that allows us to run Jupyter online notebooks that run code coming from different softwares (henceforth referred as kernels): Stata, R, Python, etc. The bare minimum that any environment needs to have is some Python version. \n",
    "\n",
    "The only way to set up an environment based on Stata requires us to manualy connect our computer's Stata program to Jupyter notebooks.\n",
    "\n"
   ]
  },
  {
   "cell_type": "markdown",
   "id": "a894eb0b",
   "metadata": {
    "tags": []
   },
   "source": [
    "## 1.2 Setting up your computer \n",
    "\n",
    "Once Anaconda has been installed launch JupyterLab from Anaconda Navigator. You should be looking at something like this:\n",
    "\n",
    "![](img/anaconda_nav.png)\n",
    "\n",
    "Within JupyterLab click on the plus sign in the blue box on the top right corner and from the page that appears select \"Terminal\". All commands given below will be typed into that terminal window in the box that follows the $.\n",
    "\n",
    "The terminal will runs the commands `conda` that can find packages to install from channels. This is not dissimilar to downloading software from a server. We want to make sure that our computer firt finds the `conda-forge` channel. \n",
    "\n",
    "To allow this, you should run the following commands directly in your own terminal window in JupyterLab:\n",
    "\n",
    "```\n",
    "  conda config --add channels conda-forge\n",
    "  conda config --set channel_priority strict\n",
    "```\n",
    "\n",
    "The goal here is to create a package bundle, i.e. an environment, where we will install some version of R, Stata Kernel, and Jupyter. You can explore the things we can download to an environment from the  `conda-forge` channel by running, for example, `conda search r-base`, `conda search stata_kernel`. You can see that the terminal lists all the different versions of these packages that we can download from the different channels. \n",
    "\n",
    "Now we are ready to create a new environment where we will install all these packages. In this particular case, we will create an environment based on Python 3.9.7. Let us create an environment called `stata_r_env` by writing:\n",
    "\n",
    "```\n",
    "  conda create -n stata_r_env python=3.9.7\n",
    "```\n",
    "\n",
    "If you ommit the `=3.9.7` part, you will create an environment with the default Python version. \n",
    "\n",
    "We want anything that we install from the channel to be part of this new environment. To do so, we need to activate it by running\n",
    "```\n",
    "  conda activate stata_r_env\n",
    "```\n",
    "\n",
    "Now that our environment is activated we can install everything we want. We begin by installing Jupyter, which will allow us to run the interactive notebooks:\n",
    "\n",
    "```\n",
    "  conda install jupyter\n",
    "```\n"
   ]
  },
  {
   "cell_type": "markdown",
   "id": "d67d053c",
   "metadata": {
    "tags": []
   },
   "source": [
    "## 1.3 Installing the Stata Kernel on our environment\n",
    "\n",
    "Next, we install the Stata Kernel by running:\n",
    "\n",
    "```  \n",
    "  conda install -c conda-forge stata_kernel\n",
    "  python -m stata_kernel.install\n",
    "```\n",
    "\n",
    "Finally, to be able to run the entire ECON 490 folder, it is highly recommended to install a stable R-version. In this particular case, we will focus on R 4.1.2. To install this we type\n",
    "\n",
    "```  \n",
    "  conda install -c conda-forge r-base=4.1.2  \n",
    "```\n",
    "\n",
    "\n",
    "\n",
    "\n",
    "\n"
   ]
  },
  {
   "cell_type": "markdown",
   "id": "716175cd",
   "metadata": {},
   "source": [
    "## 1.4 (Optional) Installing R Kernel on our environment\n",
    "\n",
    "To use R interactively from this environment we need to open R from the terminal. If you use Windows you can type `r.exe` or `start r`, and if you use MacOS you may type `r`. You will notice that there is a message like when we open R from our desktop, you need to run\n",
    "```  \n",
    "  install.packages('IRkernel')\n",
    "  IRkernel::installspec()\n",
    "  q()\n",
    "```\n",
    "\n",
    "The first two lines connect our R version with the Jupyter notebook, and the last line closes R from the terminal because we're done. Now you should be able to change directory from the terminal by running `cd any_directory` and then running `jupyter notebook` to open the interactive webpage to open, create and export Jupyter notebooks.\n",
    "\n",
    "\n",
    "\n",
    "<div class=\"alert alert-info\">\n",
    "\n",
    "**Note:** Please speak with your instructor if your run into any issues with setting up JupyterLab and Stata.\n",
    "\n",
    "</div>"
   ]
  }
 ],
 "metadata": {
  "kernelspec": {
   "display_name": "Stata",
   "language": "stata",
   "name": "stata"
  },
  "language_info": {
   "codemirror_mode": "stata",
   "file_extension": ".do",
   "mimetype": "text/x-stata",
   "name": "stata",
   "version": "15.1"
  }
 },
 "nbformat": 4,
 "nbformat_minor": 5
}
