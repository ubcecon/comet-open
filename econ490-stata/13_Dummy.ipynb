{
 "cells": [
  {
   "cell_type": "markdown",
   "id": "39b40014",
   "metadata": {
    "tags": []
   },
   "source": [
    "# ECON 490: Dummy Variables and Interactions (13)\n",
    "\n",
    "\n",
    "## Prerequisites: \n",
    "---\n",
    "1. Importing data into Stata.\n",
    "2. Examining data using `browse` and `codebook`\n",
    "3. Creating new variables using the command `generate` and `tabulate`\n",
    "4. Using globals in your analysis.\n",
    "5. Linear regression analysis. \n",
    "\n",
    "## Learning Outcomes:  \n",
    "---\n",
    "1. Understanding when dummy variable are needed in analysis.\n",
    "2. Code dummy variables from qualitative variables with two or more categories.\n",
    "2. Interpret coefficients associated with a dummy variables from an OLS regression.\n",
    "3. Interpret coefficients of an interaction between a numeric variable and a dummy variables from an OLS regression."
   ]
  },
  {
   "cell_type": "markdown",
   "id": "915459de-007c-4707-a317-2e3403520059",
   "metadata": {
    "tags": []
   },
   "source": [
    "## 13.1 Introduction to Dummy Variables for Regression Analysis\n",
    "\n",
    "You will remember dummy variables from when they were introduced in [Module 6](linked needed). There we discussed both how to interpret and to generate those types of variables. If you have any uncertainty about what these variables measure please make sure you review that module.\n",
    "\n",
    "Here we will discuss including qualitative variables as explanatory variables in a linear regression model.\n",
    "\n",
    "Imagine that we want to include a new explanatory variable in our multivariate regression from [Module 12](link needed) that indicates that an individual represented by the observation was identified as female. To do this we will to need to include a new dummy variable in our regression and then interpret coefficient on that variable from the regression results. \n",
    "\n",
    "For this module we again will be using the fake data data set. Recall that this data is simulating information of workers in the years 1982-2012 in a fake country where a training program was introduced in 2003 to boost their earnings. "
   ]
  },
  {
   "cell_type": "code",
   "execution_count": null,
   "id": "f70acb0b",
   "metadata": {},
   "outputs": [],
   "source": [
    "* Below you will need to include the path on your own computer to where the data is stored between the quotation marks.\n",
    "\n",
    "clear *\n",
    "cd \" \"\n",
    "use fake_data,clear"
   ]
  },
  {
   "cell_type": "markdown",
   "id": "033f1dae-6671-47e4-9dfa-3eba8a502f27",
   "metadata": {},
   "source": [
    "In [Module 6]() we introduced the command `gen` (or `generate`). It is used to create new variables. Here, we are generating a new variable based on the values of the already existing variable `earnings`. "
   ]
  },
  {
   "cell_type": "code",
   "execution_count": null,
   "id": "63bb565c",
   "metadata": {},
   "outputs": [],
   "source": [
    "gen logearnings = log(earnings)"
   ]
  },
  {
   "cell_type": "markdown",
   "id": "fdb9e2fc-1c4c-4067-a98c-444b8439388f",
   "metadata": {},
   "source": [
    "Let's take a look at the data. "
   ]
  },
  {
   "cell_type": "code",
   "execution_count": null,
   "id": "90643a62",
   "metadata": {},
   "outputs": [],
   "source": [
    "%browse 10"
   ]
  },
  {
   "cell_type": "markdown",
   "id": "f03d7633",
   "metadata": {},
   "source": [
    "As expected, `logearnings` is a quantitative variable showing the logarithm of each value of `earnings`. We observe a variable named `sex`, but it doesn't seem to be coded as a numeric variable. Let's take a closer look:"
   ]
  },
  {
   "cell_type": "code",
   "execution_count": null,
   "id": "e07e59e5",
   "metadata": {},
   "outputs": [],
   "source": [
    "codebook sex"
   ]
  },
  {
   "cell_type": "markdown",
   "id": "7fb36429",
   "metadata": {},
   "source": [
    "As expected, sex is a string variable, and is not numeric. We cannot use a string variable in a regression analysis; we have to create a new variable that indicated the sex of the individual represented by the observation. \n",
    "\n",
    "A dummy variable is numeric variable that takes either the value of 0 or 1 depending on a condition. Thus, we want to create a variable that equals 1 whenever the worker identified as \"female\". We learned how to do this in [Module 6]."
   ]
  },
  {
   "cell_type": "code",
   "execution_count": null,
   "id": "ffd78896",
   "metadata": {},
   "outputs": [],
   "source": [
    "gen female = sex == \"F\""
   ]
  },
  {
   "cell_type": "markdown",
   "id": "13e82f3b",
   "metadata": {},
   "source": [
    "## 13.2 Interpreting the Coefficient on a Dummy Variables\n",
    "\n",
    "Whenever we include a dummy variable in a regression are making direct comparisons between the 1-category and the 0-category. In the case of this female dummy, we are directly comparing the mean earnings of female identified workers against the mean earnings of male identified workers. \n",
    "\n",
    "Let's consider the regression below, "
   ]
  },
  {
   "cell_type": "code",
   "execution_count": null,
   "id": "a07d94cb",
   "metadata": {},
   "outputs": [],
   "source": [
    "reg logearnings female"
   ]
  },
  {
   "cell_type": "markdown",
   "id": "30c6cc8c",
   "metadata": {},
   "source": [
    "We remember from [Module 12]() that \"_cons\" is the constant $β_0$ and know that here $β_0 = E[logearnings_{i}|female_{i}=0]$. Therefore, the results of this regression suggests that on average, males earn 10.68. We also know from the [Module 12]() that,\n",
    "\n",
    "$$\\beta_1 = E[logearnings_{i}|female_{i}=1]- E[y_{i}|x_{i}=0].$$\n",
    "\n",
    "The regression results here suggest that female identified persons earn on average 0.55 less than male identified person and, as a result, on average female identified persons earn 10.68 - 0.55 = 10.13.  \n",
    "\n",
    "In other words, the coefficient of the female variable shows the mean difference in log-earnings relative to males (the ones who were coded as 0). $\\hat{β}_1$ thus, also provides the measure of the raw gender gap.\n",
    "\n",
    "<div class=\"alert alert-info\">\n",
    "\n",
    "\n",
    "**Note:** We are only able to state this result because the p-value for both  $\\hat{β}_0$ and  $\\hat{β}_1$ is less than 0.05 and we can reject the null hypothesis that $β_0 = 0$ and $β_1 = 0$ at 95% confidence level\n",
    "    \n",
    "</div>\n"
   ]
  },
  {
   "cell_type": "markdown",
   "id": "5121a282",
   "metadata": {},
   "source": [
    "The interpretation remains the same once we control for more variables, although it is ceteris paribus (holding constant) the other observables in the regression."
   ]
  },
  {
   "cell_type": "code",
   "execution_count": null,
   "id": "27035cc0",
   "metadata": {},
   "outputs": [],
   "source": [
    "reg logearnings female age "
   ]
  },
  {
   "cell_type": "markdown",
   "id": "706294ac",
   "metadata": {},
   "source": [
    "In this case, among people that are the same age, the gender gap is (not surprisingly) slightly smaller than in our previous regression. That is expected since previously we compared all females to all males irrespective of the composition of age groups in those two categories of workers."
   ]
  },
  {
   "cell_type": "markdown",
   "id": "60716028",
   "metadata": {},
   "source": [
    "## 13.3 Dummy Variables with Multiple Categories\n",
    "\n",
    "In this data set we also have a region variable that has 5 different regions. As in [Module 6]() can create dummies for each category using `tabulate`. \n",
    "\n",
    "First, we `tabulate` the categorical variable we want to make into a set of dummy variables. Then we use the option `gen` to create five new dummy variables for the 5 regions represented in the data."
   ]
  },
  {
   "cell_type": "code",
   "execution_count": null,
   "id": "7c5dc07a",
   "metadata": {},
   "outputs": [],
   "source": [
    "tab region, gen(regdummy)"
   ]
  },
  {
   "cell_type": "code",
   "execution_count": null,
   "id": "e15d6f2e",
   "metadata": {},
   "outputs": [],
   "source": [
    "%browse 10"
   ]
  },
  {
   "cell_type": "markdown",
   "id": "07d55278",
   "metadata": {},
   "source": [
    "Notice that the sum of the five dummies in any row is equal to 1. This is because every worker is located in exactly one region. If we included all of the regional dummies in a regression we will create the problem of multi-collinearity; the full set of dummy variables are perfectly correlated. Think about it this way - if a person is in region 1 (regdummy1 = 1) then we know that the person is not in regions 2 (regdummy2 = 0). Therefore being in region 1 predicts not being in region 2. \n",
    "\n",
    "We must always exclude one of the dummies. Choose the dummy variable that you exclude carefully because this will be the category of reference. That is, we will be comparing means of any one region dummy variable to the excluded region. \n",
    "\n",
    "We have actually already seen this approach in action in the regression we ran above; there we didn't add a separate dummy variable for \"male\". Instead, we essentially excluded the male dummy variable and interpreted the coefficient on \"female\" as the difference between female and male log-earnings. "
   ]
  },
  {
   "cell_type": "markdown",
   "id": "146e2fa8",
   "metadata": {},
   "source": [
    "The easiest way to include multiple categories in a regression is to write the list of variables using the notation *i.variable*. Below you will see that Stata drops the first region dummy (region = 1) and includes dummy variables for the regions 2 - 5. "
   ]
  },
  {
   "cell_type": "code",
   "execution_count": null,
   "id": "19161c75",
   "metadata": {},
   "outputs": [],
   "source": [
    "reg logearnings i.region"
   ]
  },
  {
   "cell_type": "markdown",
   "id": "269a0410",
   "metadata": {},
   "source": [
    "Most of the time you will want to control which dummy variable is select for the reference. If that is the case, you will first have to control the reference dummy variable using the command `fvset base`. "
   ]
  },
  {
   "cell_type": "code",
   "execution_count": null,
   "id": "59639f31",
   "metadata": {},
   "outputs": [],
   "source": [
    "fvset base 3 region "
   ]
  },
  {
   "cell_type": "markdown",
   "id": "95bfa0f0",
   "metadata": {},
   "source": [
    "When you run the regression below the reference is region is 3."
   ]
  },
  {
   "cell_type": "code",
   "execution_count": null,
   "id": "1c42770a",
   "metadata": {
    "tags": []
   },
   "outputs": [],
   "source": [
    "reg logearnings i.region"
   ]
  },
  {
   "cell_type": "markdown",
   "id": "e63ceba8-d5e9-4213-bc06-829586dbb5e7",
   "metadata": {},
   "source": [
    "Of course you could also create a new `global` like was learned in [Module 4]() that includes all of the dummy variables and include that in the regression. Here is an example of what that would look like:"
   ]
  },
  {
   "cell_type": "code",
   "execution_count": null,
   "id": "307f8825-1006-41fb-87de-1db1f5829763",
   "metadata": {},
   "outputs": [],
   "source": [
    "global regiondummies \"regdummy1 regdummy2 regdummy4 regdummy5\"\n",
    "reg logearnings ${regiondummies}"
   ]
  },
  {
   "cell_type": "markdown",
   "id": "0f4868ea",
   "metadata": {},
   "source": [
    "## 13.3 Interactions \n",
    "\n",
    "It is an established fact that a wage gap exists between male and female workers. However, it is possible that the wage gap changes depending on the age of the workers. For example, female and male high school students tend to work minimum wage jobs hence, we might believe that the wage gap between people of the ages of 15-18 is very small. However, once people have the experience to start looking for better paying jobs, we might believe the wage gap starts to increase. This means that the effect of increasing age on earnings will also differ across the sexes. The way to capture that differential effect of age across males and females is to create a new variable that is the product of the female dummy and age. \n",
    "\n",
    "Whenever we do this it is *very important* that we also include both the female dummy and age as control variables. \n",
    "\n",
    "To run this in Stata, categorical variables must be preceded by a `i.`, continuous variables must be preceded by `c.` and terms are interacted with the `#` symbol. For our example, we have the categorical variable `i.female` interacted with continuous variable `c.age` and the regression looks like this:"
   ]
  },
  {
   "cell_type": "code",
   "execution_count": null,
   "id": "48bcbb94",
   "metadata": {},
   "outputs": [],
   "source": [
    "reg logearnings i.female##c.age"
   ]
  },
  {
   "cell_type": "markdown",
   "id": "48d1a361",
   "metadata": {},
   "source": [
    "Notice that Stata has automatically included the female dummy and age as control variables. We can see that on average people who are identified as female earn less than those identified as male. And we can see that each additional year of age increases log-earnings by 0.013 for the reference category (males). This affect of age on log-earnings is lower for females by 0.007 and it seems that our theory is correct; the wage gap between males and female of the same age increases as they get older. \n",
    "\n",
    "Try this yourself below with the set of region dummies we created above, and think about what these results mean!"
   ]
  },
  {
   "cell_type": "code",
   "execution_count": null,
   "id": "21b43142-0182-4f5e-b248-4f3e32386c2a",
   "metadata": {},
   "outputs": [],
   "source": []
  },
  {
   "cell_type": "markdown",
   "id": "6388831c-8b7a-4e4e-b2fa-9cc4272107a5",
   "metadata": {},
   "source": [
    "## 13.4 Wrap up\n",
    "\n",
    "There are very few empirical research projects using micro data that do not require researchers to use dummy variables. Important qualitative measures such as marital status, immigration status, occupation, industry, and race always require that we use dummy variables. Other important variables such as education, income, age and number of children often require us to use dummy variables even when they are sometimes measured using ranked categorical variables. For example, we could have a variable that measures years of education that could be included as a continuous variable. However, you might instead want to include a variable that indicated if the person has a university degree. If that is the case you can use `generate` to create a dummy variable that indicated that level of education. \n",
    "\n",
    "Even empirical research projects that use macro data sometimes require that we use dummy variables. For example, you might have a data set that measures macro variables for African counties that includes information about historic colonization. You might want to create a dummy variables that indicate the origin of the colonizers, and then include that in your analysis to understand that effect. Another example, you might have a time series data set and want to indicate whether or not a specific policy was implemented in any one time period. You will need a dummy variable for that, and can include one in your analysis using the same process described above. \n",
    "\n",
    "Try this yourself with any data set that you have download in Stata. You will find that this approach is not complicated, but has the power to yield meaningful results!"
   ]
  }
 ],
 "metadata": {
  "kernelspec": {
   "display_name": "Python 3 (ipykernel)",
   "language": "python",
   "name": "python3"
  },
  "language_info": {
   "codemirror_mode": {
    "name": "ipython",
    "version": 3
   },
   "file_extension": ".py",
   "mimetype": "text/x-python",
   "name": "python",
   "nbconvert_exporter": "python",
   "pygments_lexer": "ipython3",
   "version": "3.10.5"
  }
 },
 "nbformat": 4,
 "nbformat_minor": 5
}
