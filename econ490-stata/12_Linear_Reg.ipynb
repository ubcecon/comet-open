{
 "cells": [
  {
   "cell_type": "markdown",
   "id": "a30a7461",
   "metadata": {
    "tags": []
   },
   "source": [
    "# ECON 490: Regression Analysis (12)\n",
    "\n",
    "## Prerequisites \n",
    "---\n",
    "1. Econometric approaches to linear regression taught in ECON 326.\n",
    "2. Importing data into Stata.\n",
    "3. Creating new varables using `generate`.\n",
    "\n",
    "## Learning objectives:\n",
    "---\n",
    "\n",
    "1. Implement the econometric theory for linear regressions learned in ECON 326.\n",
    "2. Run simple univariate and multivariate regressions using the command `regress`.\n",
    "3. Understand the interpretation of the coefficients in linear regression output.\n",
    "4. Consider the quality of control variables in a proposed model."
   ]
  },
  {
   "cell_type": "markdown",
   "id": "5315959f-8d75-4403-999b-e60343ab9b74",
   "metadata": {},
   "source": [
    "## 12.1 A Word of Caution Before We Begin\n",
    "\n",
    "Before conducting a regression analysis, a great deal of work must go into understanding the data and investigating the theoretical relationships between variables. The biggest mistake that students make at this stage is not how they run the regression analysis, it is failing to spend enough time preparing data for analysis. \n",
    "- A variable that is qualitative and not ranked cannot be used in an OLS regression without first creating a dummy variable(or a series of dummy variables). Examples of variables that must always be included as dummy variables are sex, race, religiosity, immigration status, and marital status. Examples of variables that are sometimes included as dummy variables are education, income and age. \n",
    "- You will want to take a good look to see how your variables are coded before you begin running regressions and interpreting the results. Make sure that missing values are coded as \".\" and not some value (such as \"99\"). Also, check that qualitative ranked variables are coded in the way you expect (e.g. higher education is coded with a larger number). If you do not do this, you could misinterpret your results.\n",
    "- Some samples are not proper representations of the population and must be weighted accordingly (we will deal with this in depth later).\n",
    "- You should always think about the theoretical relationship between your variables before you start your regression analysis: Does economic theory predict a linear relationship, independence between explanatory terms, or is there possibly an interaction at play?"
   ]
  },
  {
   "cell_type": "markdown",
   "id": "fe6e0e94",
   "metadata": {},
   "source": [
    "## 12.2 Linear Regression Models \n",
    "\n",
    "Understanding how to run a well structured OLS regression and how to interpret the results of that regression are the most important skills for undertaking empirical economic analysis. You have acquired a solid understanding of the theory behind the OLS regression in ECON 326; keep this in mind throughout your analysis. Here, we will cover the practical side of running regressions and, perhaps more importantly, how to interpret the results. \n",
    "\n",
    "An econometric model describes an equation (or set of equations) that impose some structure on how the data was generated. The most natural way to describe statistical information is the mean. Therefore, we typically model the mean of a (dependent) variable and how it can depend on different factors (independent variables or covariates). The easiest way to describe a relationship between a dependent variable, y, and one or more independent variables, x is linearly. \n",
    "\n",
    "Suppose we want to know what variables are needed to understand how and why earnings vary between each person in the world. What would be the measures needed to predict everyone's earnings?  \n",
    "\n",
    "Some explanatory variables might be:\n",
    "- Age \n",
    "- Year (e.g. macroeconomic shocks in that particular year)\n",
    "- Region (local determinants on earnings)\n",
    "- Hours worked\n",
    "- Education \n",
    "- Labor Market Experience\n",
    "- Industry / Occupation \n",
    "- Number of children\n",
    "- Level of productivity\n",
    "- Passion for their job\n",
    "- etc., there are so many factors which can be included!\n",
    "\n",
    "For simplicity, lets assume we want to predict earnings but we only have access to datasets relating to people's age and earnings. If we want to generate a model which predicts the relationship between these two variables, we could create a linear model where the dependent variable (y) is annual earnings, the independent variable (x) is age, the slope (m) is how much an extra year of age affects earnings, and the y-intercept (b) is earnings when age is equal to 0. We would write this relationship as:\n",
    "\n",
    "$$ y = b +mx.$$\n",
    "\n",
    "We only have access to two variables, so we are unable to observe the rest of the variables (independent variables or covariates $X_{i}$) that might determine earnings. Even if we do not observe these variables, they are still affecting earnings and our model above would have some error: the values for earnings would diverge from the linear model. \n",
    "\n",
    "Where $\\beta_0$ is the y-intercept, $\\beta_1$ is the slope and $i$ indicates the worker observation in the data we have: \n",
    "\n",
    "$$ logearnings_{i} =\\beta_0 + \\beta_1 age_{i}  + u_{i}. \\tag{1}$$\n",
    "\n",
    "It's important to understand what $\\beta_0$ and $\\beta_1$ stand for in the linear model. We said above that we typically model the mean of a (dependent) variable and how it can depend on different factors (independent variables or covariates). Therefore, we are in fact modeling the expected value of *earnings* conditional on the value of *age*. This is called the conditional expectation function or CEF. We assume that it takes the form of: \n",
    "\n",
    "$$  E[logearnings_{i}|age_{i}] =\\beta_0 + \\beta_1 age_i \\tag{2} $$\n",
    "\n",
    "\n",
    "How do equations (1) and (2) relate? If you take an expectation given age on equation (1) you will notice that \n",
    "\n",
    "$$E[age_{i}|age_{i}]=age_{i}$$ \n",
    "\n",
    "and this will leave us with\n",
    "\n",
    "$$E[u_{i}|age_{i}]=0.$$\n",
    "\n",
    "If $age=0$ then, $\\beta_1 \\times age=0$ and $$ E[logearnings_{i}|age_{i}=0]=\\beta_0 $$\n",
    "\n",
    "If $age=1$ then, $\\beta_1 \\times age=\\beta_1$ and $$ E[logearnings_{i}|age_{i}=1]=E[logearnings_{i}|age_{i}=0]+ \\beta_1$$\n",
    "\n",
    "Differencing the two equations above gives us the solution,\n",
    "\n",
    "$$ E[logearnings_{i}|age_{i}=1]- E[logearnings_{i}|age_{i}=0]= \\beta_1,$$ \n",
    "\n",
    "where $β_1$ is the difference in the expected value of *logearnings* when there is a one unit increase in *age*. If you choose any two values that differ by 1 unit you will also get $\\beta_1$ as the solution (try it yourself!).\n",
    "\n",
    "If we know those $β_1$s, we can know a lot of information about the mean earnings for different set of workers. For instance, we can compute the mean log-earnings of 18 year old workers: \n",
    "\n",
    "$$ E[logearnings_{i} \\mid  age_{i}=18] = \\beta_0 + \\beta_1 \\times 18  $$\n",
    "\n",
    "\n",
    "This is the intuition that we should follow to interpret the coefficients! \n",
    "\n",
    "Consider a slightly more complicated example. \n",
    "    \n",
    "Let's assume there are only two regions in this world: region **A** and region **B**. In this world, we'll make it such that workers in region **B** earn $\\beta_1$ percentage points more than workers in region **A** on average. We are going to create a dummy variable called $region$ that takes the value of 1 if the worker's region is **B** and a value of 0 if the worker's region is **A**.\n",
    "\n",
    "Furthermore, an extra year of age increases earnings by $\\beta_2$ on average and we take the same approach with every explanatory variable on the list above. The empirical economist (us!) only observes a subset of all these variables, which we call the observables or covariates $X_{it}$. Let's suppose that the empirical economist only observes the region and age of the workers.\n",
    "\n",
    "We could generate log-earnings of worker $i$ as follows.\n",
    "\n",
    "\\begin{align}\n",
    "logearnings_{i} &=  \\beta_1 \\{region_{i}=1\\} + \\beta_2 age_{i} + \\underbrace{ \\beta_3 education_{i} + \\beta_4 hours_{i} + \\dots }_{\\text{Unobservable, so we'll call this }u_{i}^*} \\\\\n",
    "&= E[logearnings_{i} \\mid region_{i}=0, age_{i}=0] + \\beta_1 \\{region_{i}=1\\} + \\beta_2 age_{i} + u_{i}^* - E[logearnings_{i} \\mid region_{i}=0, age_{i}=0] \\\\\\\\\\\n",
    "&= \\beta_0 + \\beta_1 \\{region_{i}=1\\} + \\beta_2 age_{i}  + u_{i}\n",
    "\\end{align}\n",
    "\n",
    "    \n",
    "In the second line we did one of the most powerful tricks in all of mathematics: add and substract the same term! The term we chose was the mean earnings for those who are in region **A** and have age equal to zero; in effect, we \"turned-off\"  the effect of the covariates. This term is the interpretation of the constant in our linear model. The re-defined unobservable term is a deviation from such mean, which we expect to be zero on average. \n",
    "\n",
    "\n",
    "So far we have made an assumption at the population level. Remember that to know the CEF we need to know the true betas, which in turn depend on the joint distribution of the outcome ($Y_i$) and covariates ($X_i$). However, in practice, we are given a random sample where we can compute averages instead of expectations, and empirical distributions instead of the true distributions. We can use these in a formula (also known as an estimator!) to obtain a reasonable guess of the true $\\beta$s. For a given sample, the numbers that are output by the estimator or formula are known as estimates. One of the most powerful estimators out there is the Ordinary Least Squares Estimator (OLS).\n",
    "\n",
    "\n",
    "</div>\n"
   ]
  },
  {
   "cell_type": "markdown",
   "id": "856d2fe6",
   "metadata": {
    "tags": []
   },
   "source": [
    "## 12.3 Ordinary Least Squares\n",
    "\n",
    "If we are given some dataset and we have to find the unknown $\\beta$s, the most common and powerful tool is known as OLS. Continuing with the example above, let all the observations be indexed by $j=1,2,\\dots, n$. Let $$\\hat{β_0}, \\hat{β_1},\\hat{β_2}$$ be the estimators of $$β_0, β_1, β_2.$$ The formula or estimator will return some values that wil give rise to a sample version of the population model: \n",
    "\n",
    "$$ logearnings_{j} = b_0 + b_1\\{region_{j}=1\\} + b_2 age_{j}  + \\hat{u_{j}}, $$\n",
    "\n",
    "where $u_j$ is the true error in the population, and $ \\hat{u_{j}}$ is called a residual (the sample version of the error given the current estimates). OLS finds the values of $\\hat{β}$s  that minimize the sum of squared residuals. This is given by the following minimization problem:\n",
    "$$ \\min_{b} \\frac{1}{n} \\sum_{j}^n \\hat{u}_{j}^2$$ This expression can also be written as,\n",
    "\n",
    "$$ \\min_{b} \\frac{1}{n} \\sum_{j}^n (logearnings_{j} - b_0 - b_1 \\{region_{j}=1\\} - b_2age_{j} )^2 $$\n",
    "\n",
    "OLS is minimizing the squared residuals (the sample version of the error term) given our data. This minimization problem can be solved using calculus, specifically the derivative chain rule. The first order conditions are given by : \n",
    "\n",
    "\\begin{align}\n",
    "\\frac{1}{n} \\sum_{j}^n 1 \\times \\hat{u}_{j} &= 0  \\\\\n",
    "\\frac{1}{n} \\sum_{j}^n age_i \\times \\hat{u}_{j} &= 0  \\\\\n",
    "\\frac{1}{n} \\sum_{j}^n \\{region_i = B\\} \\times \\hat{u}_{j} &= 0 \n",
    "\\end{align}\n",
    "\n",
    "From these first order conditions we construct the most important restrictions for OLS: \n",
    "\n",
    "$$\\frac{1}{n} \\sum_{j}^n \\hat{u}_j = \\frac{1}{n} \\sum_{j}^n \\hat{u}_j \\times  age_j=\\frac{1}{n} \\sum_{j}^n \\hat{u}_j\\times\\{region_j = 1\\}=0$$\n",
    "\n",
    "In other words, by construction, the sample version of our error term will be uncorrelated with all the covariates. The constant term works the same way as including a variable equal to 1 in the regression (try it yourself!).\n",
    "\n",
    "Notice that the formula for $β_0, β_1, β_2$ (the true values!) is using these conditions but we replaced expectations with sample averages. This is obviously an infeasible approach since we argued before that we need to know the true joint distribution of the variables to compute such expectations. As a matter of fact, many useful estimators rely on this approach: replace an expectation by a sample average, which is called the sample analogue approach.\n",
    "\n",
    "\n",
    "<div class=\"alert alert-info\">\n",
    "\n",
    "\n",
    "**Note:** Because this is an optimization problem, all of our variables must be numeric. If a variable is categorical we must be able to re-code it into a numerical variable. You will understand more about this after completing our next module. \n",
    "    \n",
    "</div>\n",
    "\n"
   ]
  },
  {
   "cell_type": "markdown",
   "id": "ba5dd241",
   "metadata": {
    "tags": []
   },
   "source": [
    "## 12.4 Ordinary Least Squares Regressions with Stata \n",
    "\n",
    "For this module we will be using the fake data dataset. Recall that this data is simulating information of workers in the years 1982-2012 in a fake country where a training program was introduced in 2003 to boost their earnings. "
   ]
  },
  {
   "cell_type": "code",
   "execution_count": null,
   "id": "b20a010f-7c32-4c19-b8e0-de3ded4365c4",
   "metadata": {
    "tags": []
   },
   "outputs": [],
   "source": [
    "* Below you will need to include the path on your own computer to where the data is stored between the quotation marks.\n",
    "\n",
    "clear *\n",
    "cd \" \"\n",
    "import delimited using \"fake_data.csv\", clear"
   ]
  },
  {
   "cell_type": "markdown",
   "id": "e2360b57-2b3b-4d3c-af88-5393fe8b578e",
   "metadata": {},
   "source": [
    "### 12.4.1 Univariate Regressions\n",
    "\n",
    "To run a linear regression using OLS we use the command `regress`. The basic syntax of the command is:\n",
    "\n",
    "```stata\n",
    "regress dep_varname indep_varname\n",
    "```\n",
    "You can look at the help file to look at the different options that this command provides. \n",
    "\n",
    "Let's start by creating a new variable that is the natural log of earnings and then run our regression. "
   ]
  },
  {
   "cell_type": "code",
   "execution_count": null,
   "id": "5c16bd09",
   "metadata": {
    "scrolled": true
   },
   "outputs": [],
   "source": [
    "gen logearn = log(earnings)\n",
    "regress logearn age "
   ]
  },
  {
   "cell_type": "markdown",
   "id": "aa540c37",
   "metadata": {},
   "source": [
    "By default Stata includes a constant (which is usually what we want, since this will set residuals to 0 on average). The estimated coefficients are $\\hat{\\beta}_0 = 10$ and $\\hat{\\beta}_1 = 0.014$.  Notice that we only included one covariate here. This is known as univariate (linear) regression. \n",
    "\n",
    "The interpretation of coefficients in a univariate regression is fairly simple. $\\hat{\\beta}_1$ says that having one extra year of age increases log earnings by $0.014$ on average. In other words, one extra year in age returns 1.4 percentage points higher earnings. "
   ]
  },
  {
   "cell_type": "markdown",
   "id": "e03c87fe",
   "metadata": {},
   "source": [
    "### 12.4.2 Multivariate Regression\n",
    "\n",
    "The command `reg` also allows us to list multiple covariates. When we want to carry out a multivariate regression we write:\n",
    "```stata\n",
    "regress dep_varname indep_varname1 indep_varname2\n",
    "```\n",
    "and so on."
   ]
  },
  {
   "cell_type": "code",
   "execution_count": null,
   "id": "3309a9cc",
   "metadata": {},
   "outputs": [],
   "source": [
    "reg logearn age treated"
   ]
  },
  {
   "cell_type": "markdown",
   "id": "bf77d95d",
   "metadata": {},
   "source": [
    "How would we interpt the coefficient corresponding to being treated? Consider the following two comparisons: \n",
    "\n",
    "- Mean log earnings of 18 year old treated workers minus the mean log earnings of 18 year old untreated workers = $\\beta_2$. \n",
    "- Mean log earnings of 20 year old treated workers minus the mean log earnings of 20 year old untreated workers = $\\beta_2$. \n",
    "\n",
    "Therefore, the coefficient gives the increase in log earnings between treated and untreated workers *holding all other characteristics equal*. We economists usually refer to this as $\\textit{ceteris paribus}$."
   ]
  },
  {
   "cell_type": "markdown",
   "id": "a8e3c686",
   "metadata": {},
   "source": [
    "The second column shows the standard errors. Using those we can compute the third column which is testing that the coefficient is equal to zero: \n",
    "\n",
    "$$ t = \\frac{ \\hat{\\beta} - 0 }{StdErr} $$\n",
    "\n",
    "If the t-statistic is roughly greater than 2 in absolute value, we reject the null hypothesis that there is no effect of the independent variable in question on earnings ($\\hat{\\beta} = 0$). This would mean that the data supports the hypothesis that the variable in question has some effect on earnings at a confidence level of 95%. \n",
    "\n",
    "An alternative test can be performed using the p-value statistic: if the p-value is less than 0.05 we reject the null hypothesis at 95% confidence level.\n",
    "\n",
    "<div class=\"alert alert-info\">\n",
    "\n",
    "**Note:** Without statisical significance we cannot reject the null hypothesis and have no choice but to conclude that the coefficient is zero. \n",
    "\n",
    "</div>\n"
   ]
  },
  {
   "cell_type": "markdown",
   "id": "b07a121c-31f4-4da1-90f4-7898f61b3523",
   "metadata": {},
   "source": [
    "### 12.4.3 Sample Weights\n",
    "The data that is provided to us is often not statistically representative of the  population as a whole. This is because the agencies that collect data (like Statistics Canada) often decide to over-sample some segments of the population. They do this to ensure that there is a large enough sample size of subgroups of the population to conduct meaningful statistical analysis of those sub-populations. For example, the population of Indigenous identity in Canada accounts for approximately 5% of the total population. If we took a representative sample of 10,000 Canadians, there would only be 500 people who identified as Indigenous in the sample. \n",
    "\n",
    "This creates two problems. The first is that this is is not a large enough sample to undertake any meaningful analysis of characteristics of the Indigenous population in Canada. The second is that when the sample is this this small, it might be possible for researchers to identify individuals in data. This would be extremely unethical, and Stats Canada works hard to make sure that data remains anonymized. \n",
    "\n",
    "To resolve this issue, Statistics Canada over-samples people of Indigenous identity when they collect data. For example, they might survey 1000 people of Indigenous identity so that those people now account for 10% of observations in the sample. This would allow researchers who want to specifically look at the experiences of Indigenous people to conduct reliable research, and maintain the anonymity of the individuals represented by the data. \n",
    "\n",
    "When we use this whole sample of 10,000, however, the data is no longer nationally representative since it overstates the share of the population of Indigenous identity - 10% instead of 5%. This sounds like a complex problem to resolve, but the solution is provided by the statistical agency that created the data in the form of \"sample weights\" that can be used to recreate data that is nationally representative.\n",
    "\n",
    "<div class=\"alert alert-info\">\n",
    "\n",
    "**Note**: Before applying any weights in your regression, it is important that you read the user guide that comes with your data to see how weights should be applied. There are several options for weights and you should never apply weights without first understanding the intentions of the authors of the data.\n",
    "    \n",
    "</div>\n",
    "    \n",
    "Our sample weights will be commonly coded as an additional variable in our data set such as *weight_pct*. To include the weights in regression analysis, we can simply include the following command immediately after our independent variable(s):\n",
    "```stata\n",
    "    regress y x [pw = weight_pct]   \n",
    "```\n",
    "We can do that with the variable _sample_weight_ which is provided to us in the \"fake_data\" data set, re-running the regression of log earnings on age and treatment status from above."
   ]
  },
  {
   "cell_type": "code",
   "execution_count": null,
   "id": "676234c7-0194-4278-a196-9d41461572b3",
   "metadata": {},
   "outputs": [],
   "source": [
    "reg logearn age treated [pw = sample_weight]"
   ]
  },
  {
   "cell_type": "markdown",
   "id": "3e89cc27-7092-4f74-9aff-a0d9a7a9d28d",
   "metadata": {},
   "source": [
    "Often, after weighting our sample, the coefficients from our regression will change in magnitude. In these cases, there was some subsample of the population that was over-represented in the data and skewed the results of the unweighted regression.\n",
    "\n",
    "Finally, while this section described the use of weighted regressions, it is important to know that there are many times we might want to apply weights to our sample that have nothing to do with running regressions. For example, if we wanted to calculate the mean of a variable using data from a skewed sample, we would want to make sure to use the weighted mean. While `summarize` is used in Stata to calculate means, Stata has an incredibly useful command called `collapse` which creates a new set of summary statistics with sample weights factored into the calculations."
   ]
  },
  {
   "cell_type": "markdown",
   "id": "3f96b4b2",
   "metadata": {},
   "source": [
    "## 12.5 What can we do with OLS? \n",
    "\n",
    "Notice that OLS gives us a linear approximation to the conditional mean of some dependent variable given some observables. We can use this information for prediction: if we had different observables how would the expected mean differ? Another thing we could do with OLS is discuss causality: how does manipulating one variable impact a dependent variable on average?\n",
    "\n",
    "To give a causal interpretation to our OLS estimates, we require that in the population it holds that \n",
    "$\\mathbf{E}[X_i u_i] = 0$, the unobservables are uncorrelated to the independent variables of the equation (remember this is untestable because we cannot compute the expectations in practice!). If these unobservables are correlated to a independent variable, this means the variable can be causing a change in the dependent variable because of a change in an unobservable rather than a change in the independent variable itself. This prevents us from being able to interpret our coefficients with causality and is known as the endogeneity problem. \n",
    "\n",
    "You might be tempted to think that we can test this using the sample version $\\frac{1}{n} \\sum_{j}^n  X_i u_i = 0$, but notice  from the first order conditions that this is true by construction! It's by design a circular argument; we are assuming that it holds true when we compute the solution to OLS.\n",
    "\n",
    "For instance, looking at the previous regression, if we want to say that the causal effect of being treated is equal to -0.81, it must be the case that treatment is not correlated (in the population sense) to the error term. However, it could be the case that treated workers are the ones that usually perform worse at their job, which would belie a causal interpretation of our OLS estimates. This brings us to a short discussion of what distinguishes good and bad controls to add in a regression model:\n",
    "\n",
    "- Good Controls: To think about good controls we need to consider which *unobserved* determinants of the outcome are possibly correlated to our variable of interest.\n",
    "    \n",
    "- Bad Controls: It is bad practice to include variables that are themselves outcomes. For instance, consider studying the causal effect of college on earnings. If we include a covariate of working at a high paying job, then we're blocking part of the causal channel between college and earnings (i.e. you are more likely to have a nice job if you study more years!)"
   ]
  },
  {
   "cell_type": "markdown",
   "id": "054d08c4-e82b-4486-af75-933a52a03897",
   "metadata": {},
   "source": [
    "## 12.6 Wrap Up \n",
    "\n",
    "\n",
    "In this module we discussed the following concepts: \n",
    "\n",
    "- Linear Model : an equation that describes how the outcome is generated, and depends on some coefficients $\\beta$. \n",
    "- Ordinary Least Squares: a method to obtain a good approximation of the true $\\beta$ of a linear model from a given sample. \n",
    "\n",
    "Notice that there is no such thing as an OLS model. More specifically, notice that we could apply a different method (estimator) to a linear model. For example, consider minimizing the sum of all error terms $$ \\min_{b} \\frac{1}{n} \\sum_{i}^n | \\hat{u}_j | $$ \n",
    "\n",
    "This model is linear but the solution to this problem is not an OLS estimate.\n",
    "\n",
    "\n",
    "We also learned how to interpret coefficients in any linear model. $\\beta_0$ is the y-intercept of the line in a typical linear regression model. Therefore, it is equal to: <br>\n",
    "\n",
    "$$ E[y_{i}|x_{i}=0]=\\beta_0.$$ \n",
    "\n",
    "It is the expected value of y when x = 0. More precisely, because we have a sample approximation for this true value, it would be the sample mean of y when x = 0.\n",
    "\n",
    "\n",
    "In the case of any other beta, $\\beta_1$ or $\\beta_2$ or $\\beta_3$, \n",
    "\n",
    "$$ E[y_{i}|x_{i}=1]- E[y_{i}|x_{i}=0]= \\beta$$ \n",
    "\n",
    "is going to be the difference between the expected value of y due to a change in x. Therefore, each $\\beta$ value tells us the effect that a particular covariate has on y, ceteris paribus, making them values of great importance when we are developing our research!"
   ]
  }
 ],
 "metadata": {
  "kernelspec": {
   "display_name": "Python 3 (ipykernel)",
   "language": "python",
   "name": "python3"
  },
  "language_info": {
   "codemirror_mode": {
    "name": "ipython",
    "version": 3
   },
   "file_extension": ".py",
   "mimetype": "text/x-python",
   "name": "python",
   "nbconvert_exporter": "python",
   "pygments_lexer": "ipython3",
   "version": "3.10.5"
  }
 },
 "nbformat": 4,
 "nbformat_minor": 5
}
