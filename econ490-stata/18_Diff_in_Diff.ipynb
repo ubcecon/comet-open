{
 "cells": [
  {
   "cell_type": "markdown",
   "id": "b34356ee-4f05-44a8-8f02-03003ac795c9",
   "metadata": {
    "tags": []
   },
   "source": [
    "# ECON 490: Difference in Difference Regressions (18)\n",
    "\n",
    "## Prerequisites:\n",
    "---\n",
    "1. Run OLS Regressions.\n",
    "\n",
    "## Learning objectives:\n",
    "---\n"
   ]
  }
 ],
 "metadata": {
  "kernelspec": {
   "display_name": "Stata",
   "language": "stata",
   "name": "stata"
  },
  "language_info": {
   "codemirror_mode": "stata",
   "file_extension": ".do",
   "mimetype": "text/x-stata",
   "name": "stata",
   "version": "15.1"
  }
 },
 "nbformat": 4,
 "nbformat_minor": 5
}
