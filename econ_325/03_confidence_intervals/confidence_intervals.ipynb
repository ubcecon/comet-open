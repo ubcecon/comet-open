{
 "cells": [
  {
   "cell_type": "markdown",
   "id": "d4f5fbb9-068f-42e1-9dc0-557ea90a3c69",
   "metadata": {
    "tags": []
   },
   "source": [
    "# ECON 325: Confidence Intervals\n",
    "* **Authors**: COMET Team (Anneke Dresselhuis, Colby Chambers, Jonathan Graves)\n",
    "* **Last Update**: 12 August 2022 \n",
    "---\n",
    "\n",
    "## Outline\n",
    "\n",
    "### Prerequisites\n",
    "\n",
    "* Introduction to Jupyter <br>\n",
    "* Introduction to R <br>\n",
    "* Introduction to Visualization <br>\n",
    "* Central Tendency <br>\n",
    "* Distribution <br>\n",
    "* Dispersion and Dependence <br>\n",
    "\n",
    "### Outcomes\n",
    "\n",
    "After completing this notebook, you will be able to:\n",
    "* Interpret and report confidence intervals\n",
    "* Calculate confidence intervals under a variety of conditions\n",
    "* Understand how the scope of sampling impacts confidence intervals\n",
    "\n",
    "### References\n",
    "\n",
    "* [Simulating the Construction of Confidence Intervals for Sample Means](https://rpubs.com/pgrosse/545955)"
   ]
  },
  {
   "cell_type": "code",
   "execution_count": null,
   "id": "f68b989e-88cd-41f9-b32f-04e18b09820e",
   "metadata": {},
   "outputs": [],
   "source": [
    "source(\"testing_confidence_intervals.r\")\n",
    "\n",
    "# importing typical packages\n",
    "library(tidyverse)\n",
    "library(haven)\n",
    "library(ggplot2)\n",
    "\n",
    "# loading the dataset\n",
    "census_data <- read_dta(\"../datasets/01_census2016.dta\")\n",
    "\n",
    "# cleaning the dataset\n",
    "census_data <- filter(census_data, !is.na(census_data$wages))\n",
    "census_data <- filter(census_data, !is.na(census_data$mrkinc))\n",
    "census_data <- filter(census_data, census_data$pkids != 9)"
   ]
  },
  {
   "cell_type": "markdown",
   "id": "4b695a3a-394b-4809-bc21-9150d4a575be",
   "metadata": {},
   "source": [
    "## Introduction\n",
    "\n",
    "So far, we have developed a strong grasp of core concepts in statistics. We've learned about measures of central tendency and variation, as well as how these measures relate to distributions. We have also learned about random sampling and how sampling distributions can shed light on the parameters of a population distribution. \n",
    "\n",
    "So, how can we apply this knowledge to real empirical work? While another notebook that covers hypothesis testing will provide a deeper answer to this question, this current notebook provides a starting point. In this notebook, we will learn about a key concept which relates to how we report our results empirically when sampling from a population. This is the idea of a **confidence interval**.\n",
    "\n",
    "\n",
    "## Confidence Intervals and Point Estimates\n",
    "A **confidence interval** is an estimate that gives us a range of values within which we expect a population parameter to fall. Put another way, it provides a range within which we can have a certain degree of _confidence_ that a desired parameter, such as a population mean, lies.\n",
    "\n",
    "This is in contrast to a **point estimate**.  A point estimate is a specific estimated value of another object, like a population parameter.  For instance, the sample mean and sample standard deviation are point estimates of the population mean and the population standard deviation (respectively).\n",
    "\n",
    "Let's make this concrete with an example.\n",
    "\n",
    "### Example\n",
    "\n",
    "Suppose that we want to know the mean GPA of undergraduate students at universities across Canada. Finding this exact mean (the population mean) would require us to collect the GPA of every single undergraduate student in the country without error: a nearly impossible task. As a result, and as we have already seen, we collect a sample of students and find the mean of their GPAs (the sample mean). This allows us to make inferences about the desired, yet unobtainable, population mean. The sample mean we find is called our point estimate.\n",
    "\n",
    "However, as we already learned, this sample mean will be different every time we draw a different random sample of undergraduate students. Suppose one random sample we draw just so happens to include many high-achieving students, while another does not. The first sample will give us a very high point estimate for the population mean, while the second sample will give us a point estimate much lower. \n",
    "\n",
    "So our question becomes: how can we report an estimate for the population mean GPA if we  draw a different mean GPA for every possible sample? This is where **confidence intervals** become useful.  They allow us to combine information about central tendency and dispersion into a single object.\n",
    "\n",
    "## Confidence Levels\n",
    "As we will see, every time we draw a sample and get a new point estimate, we can compute a confidence interval to describe the precision of this estimate. To calculate this confidence interval, we always must choose a **confidence level**. This is a percentage which represents the long-run percentage of confidence intervals within which we would expect to actually find our desired population parameter. \n",
    "\n",
    "We choose a higher confidence level when we want to have more certainty in our confidence interval serving as a good estimate for the population parameter of interest. The most commonly chosen confidence level is 95%, but other values are also common.\n",
    "\n",
    "> In our GPA example, this means that if we drew random samples of undergraduate students 1000 different times and got 1000 sample mean point estimates and corresponding confidence intervals, we would expect 950 of these confidence intervals to contain the actual average GPA of all Canadian undergraduates. \n",
    "\n",
    "Of course, we cannot conclusively *find* the desired population mean to prove this; however, choosing a high confidence level gives us more certainty that any one of our hypothetical confidence intervals (including the one we actually calculate from our specific sampling) includes our unknowable parameter of interest. When we choose a confidence level of 95% and calculate a confidence interval around our sample mean point estimate, we say that we are **95% confident** that the true mean GPA of all Canadian undergraduates lies in this range.\n",
    "\n",
    "Let's now see how we actually calculate a confidence interval for a given point estimate and confidence level."
   ]
  },
  {
   "cell_type": "markdown",
   "id": "10e1aa6e-92de-422a-8304-ab88c05df896",
   "metadata": {
    "tags": []
   },
   "source": [
    "## Calculating Confidence Intervals"
   ]
  },
  {
   "cell_type": "markdown",
   "id": "5a28202c-ebcd-4d7f-88ef-945bb1453dab",
   "metadata": {
    "tags": []
   },
   "source": [
    "The official representation of a confidence interval is the following:\n",
    "\n",
    "$$\n",
    "(\\text{point estimate} - \\text{margin of error}, \\text{point estimate} + \\text{margin of error})\n",
    "$$ \n",
    "\n",
    "or \n",
    "\n",
    "$$ \n",
    "\\text{point estimate} \\pm \\text{margin of error}\n",
    "$$\n",
    "\n",
    "where our point estimate is just the sample statistic we find from our random sample. The margin of error is the more cumbersome piece to calculate. It is subtracted and added from our point estimate to find the **lower bound** and **upper bound** of our confidence interval estimate. While this general formula and format for the confidence interval always holds, calculating the margin of error varies depending on what sample statistic we are looking at and what we know about our population. Let's look at few important special cases.\n",
    "\n",
    "## Confidence Intervals for the Sample Mean\n",
    "\n",
    "When we want to construct a confidence interval for a sample mean we've found (e.g. the mean GPA of a sample of Canadian undergraduates), we must first reflect on how we gathered our data and what its sampling distribution looks like. This is because we must meet the following three conditions in order to construct a valid confidence interval for a sample mean in the first place:\n",
    " > 1. We must have a random sample (typically found through simple random sampling)\n",
    "2. The sampling distribution of the sample means is approximately normal, which can be met through one of the following ways: <br>\n",
    " a. our original population is normally distributed <br>\n",
    " b. our sample size is > 120 (invokes the Central Limit Theorem)\n",
    "3. Our sample observations must be independent, for instance: <br>\n",
    " a. we sample with replacement (when we record an observation, we put it back in the population with the possibility of drawing it again) <br>\n",
    " b. our sample size is < 10% of the population size\n",
    " \n",
    "If each of conditions 1-3 are met, we are able to construct a valid confidence interval around our sample mean point estimate.  There are two different cases for this construction, but they're pretty similar.\n",
    "\n",
    "### Case 1: We Know the Population Standard Deviation\n",
    "\n",
    "In rare instances, we may know the variance (and thus standard deviation) of our original population of interest. In this case, we are able to consult our trustworthy $z$-statistic when calculating the margin of error in our confidence interval. We use the following formula to calculate the confidence interval for a sample mean when our population standard deviation is known:\n",
    "\n",
    "$$\n",
    "\\bar x \\pm z_{\\alpha / 2} \\cdot \\frac{\\sigma}{\\sqrt n}\n",
    "$$ \n",
    "\n",
    "where $\\bar x$ is the sample mean, $z$ is the critical value (from the standard normal distribution) for a chosen confidence level $1-\\alpha$, $\\sigma$ is the population standard deviation, and $n$ is the sample size.\n",
    "\n",
    "\n",
    "However, this case is extremely rare. After all, it requires us to know the standard deviation but not the mean of a population! Typically we either have very good information on a population (and thus know both its mean and standard deviation) or we don't (and thus don't know either its mean or standard deviation). Nonetheless, it is good to keep this case in mind since it occasionally comes up.\n",
    "\n",
    "### Case 2: We Don't Know the Population Standard Deviation\n",
    "\n",
    "Much more frequently, we won't know the population standard deviation. In this case, we must instead invoke the $t$-distribution when calculating the margin of error for our confidence intervals. We also use the sample standard deviation in place of the population standard deviation, since we do know this statistic. The calculation procedure otherwise follows exactly as before in Case 1.\n",
    "\n",
    "$$\n",
    "\\bar x \\pm t_{\\alpha / 2} \\cdot \\frac{s}{\\sqrt n}\n",
    "$$ <br>\n",
    "where $\\bar x$ is the sample mean, $t$ is the critical value (from the  $t$-distribution) for a chosen confidence level $1-\\alpha$, $s$ is the sample standard deviation, and $n$ is the sample size."
   ]
  },
  {
   "cell_type": "markdown",
   "id": "589f006d-5b71-41c7-b1d5-c3802e51d740",
   "metadata": {},
   "source": [
    "We can use an example from our dataset to emphasize this point. Let's construct a 95% confidence interval for the sample mean of the variable `wages`. We can immediately calculate its mean, which serves as our sample mean point estimate. "
   ]
  },
  {
   "cell_type": "code",
   "execution_count": null,
   "id": "29af26ea-b6e5-4c67-8f66-7c5b9be64950",
   "metadata": {},
   "outputs": [],
   "source": [
    "# calculating the sample mean of wages\n",
    "x <- mean(census_data$wages)"
   ]
  },
  {
   "cell_type": "markdown",
   "id": "70447d01-6d71-479c-8faa-c7849f347615",
   "metadata": {},
   "source": [
    "Now that we have this point estimate, we can calculate our margin of error around it. To do so, we must first find 3 other statistics: the $t$ value corresponding to a 95% confidence level, the standard deviation of `wages`, and the sample size (the number of observations recorded for `wages`)."
   ]
  },
  {
   "cell_type": "code",
   "execution_count": null,
   "id": "43e6a39f-7daa-46bf-8633-2859bc26ea80",
   "metadata": {},
   "outputs": [],
   "source": [
    "# finding the sample size and associated degrees of freedom\n",
    "n <- nrow(census_data)\n",
    "df <- n - 1\n",
    "\n",
    "# finding the t value for a confidence level of 95% (noticing this value converges on the z value as so we could have used this too)\n",
    "t <- qt(p = 0.05, df = df)\n",
    "\n",
    "# finding the sample standard deviation of wages\n",
    "s <- sd(census_data$wages)\n",
    "\n",
    "# calculating the lower and upper bounds of the desired confidence interval\n",
    "\n",
    "lower_bound <- x - (t*s/sqrt(n))\n",
    "upper_bound <- x + (t*s/sqrt(n))\n",
    "\n",
    "lower_bound\n",
    "upper_bound"
   ]
  },
  {
   "cell_type": "markdown",
   "id": "29403c69-44f2-43a7-8efa-f5d51031edfc",
   "metadata": {},
   "source": [
    "In a formal setting, we would thus report the following: We are 95% confident that the mean wage of all Canadians ranges between $54274$ and $54690$ . We also know this is a valid confidence interval estimate because our `wages` variable and the procedure for sampling it meets all of the three criteria outlined: Statistics Canada (the source for this data) utilizes random sampling, our sample size is $n > 30$ and thus we don't even need to check the distribution of `wages`, and our sample size $n$ is < 10% of the total population (since the total population of Canada is about 38 million). This is a very small confidence interval. We can understand this by looking at our formula for calculating it and realizing that our sample size, $n$, is very large. This adds precision to our confidence interval estimate, highlighted in the narrowness of the interval we found above."
   ]
  },
  {
   "cell_type": "markdown",
   "id": "45e9f8dc-479a-46e6-bb6e-3b5f0d19b826",
   "metadata": {},
   "source": [
    "#### Exercise\n",
    "\n",
    "Matilda (she/her) takes a random sample of 10 books from a library in order to estimate the average number of pages among all books in the library.\n",
    "Let's assume the library is very large and the library does not keep record of the specifics of its overall population of books in terms of their pages. Does it make more sense for Matilda to use a standard z distribution or student's t distribution when calculating the margin of error for her confidence interval?"
   ]
  },
  {
   "cell_type": "code",
   "execution_count": null,
   "id": "a7655232-a085-4fd1-a618-ff5ecf1aa671",
   "metadata": {},
   "outputs": [],
   "source": [
    "answer_1 <- \"X\" # your answer for \"z\" or \"t\" in place of \"X\"\n",
    "\n",
    "test_1()"
   ]
  },
  {
   "cell_type": "markdown",
   "id": "d98b7959-9965-4a65-87b1-d15eab6a1c8b",
   "metadata": {},
   "source": [
    "From her sample, Matilda finds a sample mean of 280 and sample variance of 400. She wants to construct a 90% confidence interval to estimate the population mean number of pages. What will be the upper and lower bounds of this interval (assuming its a valid confidence interval)?"
   ]
  },
  {
   "cell_type": "code",
   "execution_count": null,
   "id": "840c6abe-e8f3-495d-974f-8052d3149f74",
   "metadata": {},
   "outputs": [],
   "source": [
    "# your code here\n",
    "\n",
    "answer_2 <- # your answer for the lower bound here, rounded to 2 decimal places\n",
    "answer_3 <- # your answer for the upper bound here, rounded to 2 decimal places\n",
    "\n",
    "test_2()\n",
    "test_3()"
   ]
  },
  {
   "cell_type": "markdown",
   "id": "21a66b24-e06a-4805-86ec-d31743a10ca2",
   "metadata": {},
   "source": [
    "## Confidence Intervals for the Sample Proportion\n",
    "\n",
    "While we've looked at the example of mean GPA throughout this notebook, we can also calculate confidence intervals for sample proportions as well. Imagine we have just two political parties (A and B), compulsory voting, and we want to know the proportion of the population that voted for party A. Of course, this would be quite costly and time-consuming to calculate, so we instead collect a sample and corresponding sample proportion. This sample proportion becomes our point estimate around which we construct a confidence interval to estimate the population proportion with a certain degree of confidence. Before we begin constructing this interval, we must make sure that our sampling process again satisfies three conditions; this time, however, the second of these three conditions will be different:\n",
    "\n",
    "> 1. We must have a random sample (typically found through simple random sampling)\n",
    "2. The sampling distribution of the sample proportions is normally distributed, which typically requires there to be at least 10 \"successes\" and 10 \"failures\" in our sample (in the example above, this would mean at least 10 people in our sample voted for party A and at least 10 people voted for party B). We can see here that very small sample sizes (i.e. $n = 5$, $n = 10$, etc. will fail this condition)\n",
    "3. Our sample observations must be independent, which can be met through one of the following two ways: <br>\n",
    " a. we sample with replacement (when we record an observation, we put it back in the population with the possibility of drawing it again) <br>\n",
    " b. our sample size is < 10% of the population size\n",
    " \n",
    "If conditions 1-3 are all met, we are able to construct a valid confidence interval around our sample proportion point estimate. We now turn to the one case we must consider when calculating the margin of error and confidence interval for sample proportions.\n",
    "\n",
    "### The Only Case: We Don't Know the Population Standard Deviation\n",
    "\n",
    "This is the only case we have to worry about when calculating the sample proportion. This is because the population standard deviation is necessarily a function of the population proportion and sample size $n$. Thus, if we knew the population standard deviation, we would necessarily know the population proportion and there would be no point in sampling and constructing confidence intervals to estimate it! For this reason, we worry about only the one case where we don't know the standard deviation of the population. The formula for the confidence interval of a sample proportion is below:\n",
    "\n",
    "$$\n",
    "\\hat P \\pm z_{\\alpha / 2} \\cdot \\sqrt \\frac {\\hat P \\cdot(1 - \\hat P)}{n}\n",
    "$$ \n",
    "\n",
    "where $\\hat P$ is the sample proportion, $z$ is the critical value (from the standard normal table) for a chosen confidence level $1-\\alpha$, and $n$ is the sample size."
   ]
  },
  {
   "cell_type": "markdown",
   "id": "bc391487-3109-4939-886a-3896a95b97b3",
   "metadata": {},
   "source": [
    "Let's do an example. Let's calculate a 95% confidence interval for the sample proportion of the census dataset who has one or more kids in their household (`pkids == 1`). We can immediately calculate our sample proportion, which serves us our point estimate."
   ]
  },
  {
   "cell_type": "code",
   "execution_count": null,
   "id": "8132ecc0-af24-41e3-950d-1dbf8feb13b9",
   "metadata": {},
   "outputs": [],
   "source": [
    "# calculating our sample proportion of observations with pkids == 1\n",
    "p <- sum(census_data$pkids == 1) / n\n",
    "p"
   ]
  },
  {
   "cell_type": "markdown",
   "id": "ac97ccb9-1f12-411a-ac95-fa7f68e6e127",
   "metadata": {},
   "source": [
    "Now that we have our sample proportion, we can find our $z$ critical value for a 95% confidence level, as well as use our sample proportion $\\hat{p}$ and sample size $n$, to calculate our confidence interval."
   ]
  },
  {
   "cell_type": "code",
   "execution_count": null,
   "id": "a248cb11-a9b0-400f-b18b-963f3b73dabd",
   "metadata": {},
   "outputs": [],
   "source": [
    "# finding the z value for a confidence level of 95%\n",
    "z <- qnorm(p = 0.05, lower.tail=FALSE)\n",
    "\n",
    "# calculating the lower and upper bounds of the desired confidence interval\n",
    "lower_bound <- p - z*sqrt(p*(1-p)/n)\n",
    "upper_bound <- p + z*sqrt(p*(1-p)/n)\n",
    "\n",
    "lower_bound\n",
    "upper_bound"
   ]
  },
  {
   "cell_type": "markdown",
   "id": "c47d8fbc-1b03-4412-9fbd-f556ebf0de16",
   "metadata": {},
   "source": [
    "From our above calculations, we can say that we are 95% confident that the true proportion of Canadians with a child in their household ranges between 0.7075% - 0.7104%. Importantly, it is possible to run into cases where the upper or lower bound of the confidence interval for a sample proportion is outside of the accepted domain of [0, 1]. This is particularly likely when our sample proportion point estimate is already very high or low, and then our sample size is not very large. In these cases, we may choose to either report the true interval or cap or interval at 0 or 1 accordingly, with a note that this does not reflect the full confidence interval found. However, these cases are rare. We can check for ourselves that the above confidence interval is valid since it obeys all three of the criteria we have layed out for confidence interval estimating sample proportions."
   ]
  },
  {
   "cell_type": "markdown",
   "id": "a2147dac-b0f7-44a2-bfaf-a0bb0a7b1035",
   "metadata": {},
   "source": [
    "#### Exercise\n",
    "\n",
    "Matilda now wants to know the proportion of students in her school who are left-handed. Let's assume her sampling procedure meets all of the criteria for constructing a valid confidence interval. She takes a sample of 200 students and finds that 22 of them are left-handed. What is the upper and lower bound of a 98% confidence interval for the proportion of the school's overall student body that are left-handed?"
   ]
  },
  {
   "cell_type": "code",
   "execution_count": null,
   "id": "c68c8b42-fda3-4f04-b476-05c305cdc570",
   "metadata": {},
   "outputs": [],
   "source": [
    "# your code here\n",
    "\n",
    "answer_4 <- # your answer for the lower bound here, rounded to 3 decimal places (in proportion form, i.e. 10% = 0.1)\n",
    "answer_5 <- # your answer for the upper bound here, rounded to 3 decimal places (in proportion form, i.e. 10% = 0.1)\n",
    "\n",
    "test_4()\n",
    "test_5()"
   ]
  },
  {
   "cell_type": "markdown",
   "id": "20259d55-bb7a-407b-83fb-715e9aaabee6",
   "metadata": {},
   "source": [
    "Let's imagine that our sample size and confidence level are fixed and cannot be changed. What sample proportion of students who are left-handed would result in the smallest confidence interval possible?"
   ]
  },
  {
   "cell_type": "code",
   "execution_count": null,
   "id": "0f9a9e1f-6c23-431c-8875-39e824de79b5",
   "metadata": {},
   "outputs": [],
   "source": [
    "answer_6 <- # your answer for the sample proportion here (i.e. 10% = 0.1)\n",
    "\n",
    "test_6()"
   ]
  },
  {
   "cell_type": "markdown",
   "id": "594ecb72-9bed-4760-ac99-1d2aae336068",
   "metadata": {},
   "source": [
    "## Confidence Intervals for the Sample Variance\n",
    "\n",
    "Finally, we may want to construct confidence intervals for a sample variation itself in order to estimate the population standard deviation that we do not know. The following conditions must be met for this confidence interval to be valid:\n",
    "\n",
    "> 1. We must have a random sample (typically found through simple random sampling)\n",
    "2. Our original population is normally distributed or at least symmetrically distributed without many outliers. If this does not hold, our sample size must be > 120 (invokes the Central Limit Theorem)\n",
    "3. Our sample observations must be independent, which can be met through one of the following two ways: <br>\n",
    " a. we sample with replacement (when we record an observation, we put it back in the population with the possibility of drawing it again) <br>\n",
    " b. our sample size is < 10% of the population size\n",
    "\n",
    "If conditions 1-3 are all met, we are able to construct a valid confidence interval for our sample variance point estimate."
   ]
  },
  {
   "cell_type": "markdown",
   "id": "b2e488e2-3986-47d6-875e-97c7cef34ec4",
   "metadata": {},
   "source": [
    "### The Only Case: We Don't Know the Population Standard Deviation\n",
    "\n",
    "We only need worry about this case when calculating confidence intervals for the sample variance. This is because, if we knew the population standard deviation, we would necessarily know the population variance and thus constructing a confidence interval to estimate this number would be useless! Instead, we assume we have only a sample variance to rely on. It should be noted that the formula we will use works a bit differently in this case. Rather than add and subtract a margin of error to our point estimate, we will instead use our point estimate to calculate the lower and upper bounds of our confidence interval directly.\n",
    "\n",
    "$$\n",
    "(\\frac{(n - 1) \\cdot s^2}{\\chi^2_{\\alpha/{2}}}, \\frac{(n - 1) \\cdot s^2}{\\chi^2_{1 - \\alpha/{2}}})\n",
    "$$\n",
    "\n",
    "where $n$ is the sample size, $s^2$ is the sample variance, and $\\chi^2$ is the chi-squared value for a chosen confidence level $1 - \\alpha$ and degrees of freedom $n - 1$."
   ]
  },
  {
   "cell_type": "markdown",
   "id": "b5e3a3e8-1189-4dc4-bad9-b92898856040",
   "metadata": {},
   "source": [
    "Constructing this type of confidence interval may feel a bit less intuitive and familiar than the previous two. This is because the sample variance does not follow a normal distribution. Unlike the sample mean and sample proportion, it follows a different, decisively non-normal distribution: the $\\chi^2$ distribution. For this reason, we construct our confidence intervals for this sample statistic differently, as depicted above."
   ]
  },
  {
   "cell_type": "markdown",
   "id": "0ef417ca-5819-40cf-82f0-a27ccf59d59d",
   "metadata": {},
   "source": [
    "Let's do one final example to reinforce the calculation of confidence intervals for this type of sample statistic. We will construct a 95% confidence interval for the sample mean of `mrkinc`. Our procedure will follow exactly the steps above, although this time we need to use the chi-squared distribution in place of the t or z distributions. We can calculate our sample variance first."
   ]
  },
  {
   "cell_type": "code",
   "execution_count": null,
   "id": "1a2a63b4-e0f7-4db6-9a2b-efc78a9cf230",
   "metadata": {},
   "outputs": [],
   "source": [
    "# calculating the variance of mrkinc\n",
    "var <- var(census_data$mrkinc)\n",
    "var"
   ]
  },
  {
   "cell_type": "markdown",
   "id": "1a0e3d7f-237c-4a26-ad61-029fb7ba0dfb",
   "metadata": {},
   "source": [
    "Now that we have our sample variance (which is quite large), we can find the other statistics necessary to calculate our confidence interval estimate."
   ]
  },
  {
   "cell_type": "code",
   "execution_count": null,
   "id": "f7c73be4-8f08-4be9-aaa6-2940e75da611",
   "metadata": {},
   "outputs": [],
   "source": [
    "# finding the chi-squared values for a 95% confidence level and n - 1 degrees of freedom\n",
    "upper_chi <- qchisq(p = 0.05, df =df, lower.tail = TRUE)\n",
    "lower_chi <- qchisq(p = 0.05, df = df, lower.tail = FALSE)\n",
    "\n",
    "# calculating the upper and lower bounds of the desired confidence interval\n",
    "lower_bound <- (df*var)/lower_chi\n",
    "upper_bound <- (df*var)/upper_chi\n",
    "\n",
    "lower_bound\n",
    "upper_bound"
   ]
  },
  {
   "cell_type": "markdown",
   "id": "7f146f8b-5e0d-444f-bb9b-cf6f1bb5d836",
   "metadata": {},
   "source": [
    "From the above, we can say that we are 95% confident that the variance of market income among all Canadians is within (767761585, 7745209769). This is quite a large interval, but given the size of the variance for this variable, this is reasonable."
   ]
  },
  {
   "cell_type": "markdown",
   "id": "55dce525-635e-45b0-be51-6e0d963995c9",
   "metadata": {},
   "source": [
    "#### Exercise\n",
    "\n",
    "Finally, Matilda wants to know the variance of weights of all cars ever sold at her father's car dealership. Naturally, since she can't find the variance of the thousands of cars sold, she consults the dealership archives and takes a random sample of 40 cars and records their weights. She finds that they have a sample mean weight of 5,000 pounds and a sample variance of 250,000. Matilda wants to construct a 95% confidence interval estimate for the population variance. Given the information above, what are the upper and lower bounds of this confidence interval?"
   ]
  },
  {
   "cell_type": "code",
   "execution_count": null,
   "id": "8618aed3-45b5-4239-b033-5e5bbbfd46bc",
   "metadata": {},
   "outputs": [],
   "source": [
    "# your code here\n",
    "\n",
    "answer_7 <- # your answer for the lower bound here, rounded to the nearest whole number\n",
    "answer_7 <- # your answer for the upper bound here, rounded to the nearest whole number\n",
    "\n",
    "test_7()\n",
    "test_8()"
   ]
  },
  {
   "cell_type": "markdown",
   "id": "f8c336f3-9337-44f2-8d4d-3afe162da818",
   "metadata": {},
   "source": [
    "Let's now say that Matilda draws a new random sample of 40 cars and reports 95% confidence that the population variance of car weights falls within the confidence interval (490000, 640000). Under this sampling procedure, what is the 95% confidence interval estimate for the standard deviation of weights of all cars ever sold at the dealership?"
   ]
  },
  {
   "cell_type": "code",
   "execution_count": null,
   "id": "8def109d-1968-4df8-8bac-bea00e9c470e",
   "metadata": {},
   "outputs": [],
   "source": [
    "answer_10 <- # your answer for the lower bound here\n",
    "answer_11 <- # your answer for the upper bound here\n",
    "\n",
    "test_10()\n",
    "test_11()"
   ]
  },
  {
   "cell_type": "markdown",
   "id": "87542a19-100b-4d93-81a6-5add8f5fe4d2",
   "metadata": {},
   "source": [
    "## Factors Which Impact the Width of Confidence Intervals\n"
   ]
  },
  {
   "cell_type": "markdown",
   "id": "e92e1262-747b-4817-be97-80d889e5a8ac",
   "metadata": {},
   "source": [
    "Looking at the above formulas, we now have a better understanding of exactly what factors go into calculating a confidence interval. More specifically, we can see that no matter the parameter we are estimating, we always need the following numbers: a confidence level and sample size. These numbers are chosen early on during the sampling procedure. Thus, they can easily be changed. Let's explore what happens to our confidence intervals when we change each of these numbers."
   ]
  },
  {
   "cell_type": "markdown",
   "id": "edc3dcb6-97e6-48a7-968f-a12ac74b709e",
   "metadata": {},
   "source": [
    "## Changing the Sample Size\n",
    "\n",
    "Let's say we want to change our sample size $n$. If we increase our sample size $n$, we can see mathematically that in all cases our margin of error goes down (or our bounds explicitly come closer together in the case of sampling variance). As a result, our confidence interval shrinks. This makes sense intuitively. If we draw a larger sample, then for any confidence level we can expect to estimate our desired population parameter more precisely. This is indicated by a narrower confidence interval. The same logic applies when we decrease our sample size $n$. Both our margin of error and confidence interval will increase, indicative of the fact that our sample is smaller and we therefore have less precision in estimating our population parameter of interest. To see this point interactively, modify the code below by changing the input for $n$ (currently set at 30). We can see that the size of the confidence intervals increases or decreases depending on whether we decrease or increase the simulated sample size."
   ]
  },
  {
   "cell_type": "code",
   "execution_count": null,
   "id": "8a6dcbdd-fcba-4651-8111-d7dd38e86339",
   "metadata": {},
   "outputs": [],
   "source": [
    "population <- rnorm(10000, 0, 1)\n",
    "set.seed(2)\n",
    "\n",
    "# defining a function which outputs a confidence interval for a given sample size\n",
    "create_confidence_intervals <- function(n) {\n",
    "    x = mean(sample(population, n))\n",
    "    z = qnorm(p = 0.05, lower.tail=FALSE)\n",
    "    lower = x - (z*1/sqrt(n))\n",
    "    upper = x + (z*1/sqrt(n))\n",
    "    df = data.frame(lower, upper)\n",
    "    return(c(lower, upper))\n",
    "    }\n",
    "\n",
    "# calling the function, tweak default sample size 30 here!\n",
    "create_confidence_intervals(30)"
   ]
  },
  {
   "cell_type": "markdown",
   "id": "627ef39d-95d4-42cc-b3cc-3609bc4444d7",
   "metadata": {},
   "source": [
    "## Changing the Confidence Level\n",
    "\n",
    "Now suppose we instead want to change our confidence level. If we increase our confidence level, we are saying that if we hypothetically calculated many confidence intervals, the percentage of these intervals containing our desired population parameter should increase. We are thus asking for confidence interval estimates which capture the true paramater of interest more often. To capture this paramater more frequently for a given sample size, the width of our confidence interval (the range of possibilities for capturing the true parameter) must naturally increase. Similar logic applies to decreasing our confidence level: our confidence interval increases. This all occurs mathematically through an increase or decrease in our margin of error (or bounds) respectively, engendered by an increase or decrease in our $z$ or $t$ critical value. To see this point interactively, modify the code below by changing the input for $\\alpha$ (currently set at 0.05, indicating a 95% confidence level). We can see that the vertical length (width) of the confidence intervals increases or decreases depending on whether we increase or decrease the simulated confidence level."
   ]
  },
  {
   "cell_type": "code",
   "execution_count": null,
   "id": "f01d59bb-1061-4358-b0cd-21705bcb58b1",
   "metadata": {},
   "outputs": [],
   "source": [
    "population <- rnorm(10000, 0, 1)\n",
    "set.seed(2)\n",
    "\n",
    "# defining a function which outputs a confidence interval for a given confidence level\n",
    "create_confidence_intervals <- function(alpha) {\n",
    "    x = mean(sample(population, 100))\n",
    "    z = qnorm(p = alpha, lower.tail=FALSE)\n",
    "    lower = x - (z*1/sqrt(100))\n",
    "    upper = x + (z*1/sqrt(100))\n",
    "    df = data.frame(lower, upper)\n",
    "    return(c(lower, upper))\n",
    "    }\n",
    "\n",
    "# calling the function, tweak default 0.05 alpha (95% confidence level) here!\n",
    "create_confidence_intervals(0.05)"
   ]
  },
  {
   "cell_type": "markdown",
   "id": "5ce02e08-a660-4701-90ca-91aafc9f80da",
   "metadata": {},
   "source": [
    "#### Exercise\n",
    "\n",
    "Matilda thinks that one of her confidence intervals above is too wide and wishes to narrow it. What could she do in order to achieve this goal?\n",
    "\n",
    "- A. increase the sample size and higher the confidence level\n",
    "- B. decrease the sample size and lower the confidence level\n",
    "- C. increase the sample size and lower the confidence level\n",
    "- D. decrease the sample size and higher the confidence level"
   ]
  },
  {
   "cell_type": "code",
   "execution_count": null,
   "id": "7dbe0312-bcdd-475e-ab0b-67f44f32c2a1",
   "metadata": {},
   "outputs": [],
   "source": [
    "answer_1 <- \"...\" # enter your choice here\n",
    "\n",
    "test_11()"
   ]
  },
  {
   "cell_type": "markdown",
   "id": "4fb5d0fe-bc48-4270-8ad4-f22604ba45f4",
   "metadata": {},
   "source": [
    "## Common Misconceptions"
   ]
  },
  {
   "cell_type": "markdown",
   "id": "8bb9c6ec-25aa-4dc5-bcdd-608e865698f5",
   "metadata": {},
   "source": [
    "Up to this point, we've covered what confidence intervals are, how we calculate them, and how they're sensitive to two key parameters. Let's lastly clarify a couple of misconceptions about the interpretation of confidence intervals."
   ]
  },
  {
   "cell_type": "markdown",
   "id": "58e8bbc2-4a28-44b7-988f-3f696de1e9be",
   "metadata": {},
   "source": [
    "### Misconception 1: \n",
    "*If we have a 95% confidence interval, this is a concrete range under which our estimated population paramater must fall*. \n",
    "\n",
    "Hopefully the error in this way of thinking is quite clear now. If we repeated our sampling procedure many times and constructed a confidence interval each time, we would expect about 95% of these confidence intervals to contain our true parameter. However, this is not 100%. Theoretically, about 5% of our confidence intervals will not contain the true paramater. There is no stopping the actual confidence interval we calculate from being one of those 5%. Due to this, we cannot say with absolute certainty that our true paramater lies within the interval that we calculate. It is a common mistake to assume that a confidence interval is an official range within which the true paramater need fall. It can fall anywhere, it is just quite likely (very likely if our confidence level is high enough) that it falls within the interval calculated, hence we can have some trust in it as an estimator. This is why the confidence interval is an *estimator* and not a concrete range of possible values for our population paramater. If we had 100% certainty the true paramater fell within our calculated interval, it would not be much of an estimator but instead just a complete spectrum of the possible values the paramater could take on."
   ]
  },
  {
   "cell_type": "markdown",
   "id": "a28da4f8-8114-4049-b618-ffc07e3fcc57",
   "metadata": {},
   "source": [
    "### Misconception 2:\n",
    "*If we have a confidence level of 95%, 95% of our population data must lie within the calculated confidence interval*. \n",
    "\n",
    "This is not true. Our confidence level indicates the long run percentage of constructed confidence intervals which contain our true parameter. It says nothing about the spread of our actual data. To find the range within which 95% of our data lie, we must consult a histogram for the population. It could easily be the case that our data is quite bimodally distributed (around half of our data is clustered far to the left of our mean, and the other half is clustered far to the right of our mean). In this case, our calculated 95% confidence interval will likely contain very little (much less than 95%) of the data."
   ]
  },
  {
   "cell_type": "markdown",
   "id": "da5524c3-d48f-49e3-9ade-03e978d742b7",
   "metadata": {},
   "source": [
    "## Misconception 3:\n",
    "*If we have a confidence level of 95%, a confidence interval calculated from a sample of 500 observations will more likely contain the true paramater than a confidence interval calculated from a sample of 100 observations.* \n",
    "\n",
    "This one might feel quite counterintuitive. After all, we already know from the previous section that a confidence interval generated from the sample $n = 500$ will be smaller than one generated from $n = 100$. However, think about the nuance of this statement. A confidence level by definition is the percentage of calculated intervals we expect to contain the true paramater of interest if we calculated these intervals over and over. In this situation, any one interval from a sample of $n = 100$ has a 95% of containing the true paramater, just as any one interval from a sample of $n = 500$ has a 95% of containing the true paramater. Each interval (the wider one from $n = 100$ and narrower one from $n= 500$) has a chance of containing the true parameter in relation to all other calculated intervals for that same sample size. The probability of a given interval containing the true paramater is in no way influenced by or varies with the sample size. This probability only changes when we change our confidence level."
   ]
  },
  {
   "cell_type": "markdown",
   "id": "9c767163-7bb8-420d-a977-7b1431575ee2",
   "metadata": {
    "tags": [
     "sidebar"
    ]
   },
   "source": [
    "<span style=\"color:#CC7A00\" > 🔎 **Let's think critically** </span>\n",
    "> 🟠 Every research context will drastically shape how confidence intervals are approached. As we have seen, the volume and quality of data affect how accurate data analyses can be, and many rules of thumb in data science are simply that - rules of thumb, as opposed to hard facts about how to report statistics.\\\n",
    "> 🟠 What are some situations where you want to know that something is true with nearly 100% confidence?\\\n",
    "> 🟠 What are some situations where the uncertainty of statistic is maybe not so bad?\\\n",
    "> 🟠 What does it _really_ mean to have something within or outside of a confidence interval?"
   ]
  },
  {
   "cell_type": "code",
   "execution_count": null,
   "id": "37307a7d-3b40-4260-909b-a34cf3003400",
   "metadata": {},
   "outputs": [],
   "source": []
  }
 ],
 "metadata": {
  "kernelspec": {
   "display_name": "R",
   "language": "R",
   "name": "ir"
  },
  "language_info": {
   "codemirror_mode": "r",
   "file_extension": ".r",
   "mimetype": "text/x-r-source",
   "name": "R",
   "pygments_lexer": "r",
   "version": "4.2.0"
  }
 },
 "nbformat": 4,
 "nbformat_minor": 5
}
