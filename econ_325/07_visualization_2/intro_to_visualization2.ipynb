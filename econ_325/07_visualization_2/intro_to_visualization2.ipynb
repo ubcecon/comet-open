{
 "cells": [
  {
   "cell_type": "markdown",
   "id": "06cfe40d-7d70-4ddc-ae95-d6232eb40610",
   "metadata": {
    "tags": []
   },
   "source": [
    "# ECON 325: Introduction to Data Visualization 2\n",
    "* **Authors**: COMET Team (Anneke Dresselhuis, Colby Chambers, Jonathan Graves)\n",
    "* **Last Update**: 12 August 2022 \n",
    "---\n",
    "## Outline\n",
    "\n",
    "### Prerequisites\n",
    "\n",
    "* Introduction to Jupyter\n",
    "* Introduction to R\n",
    "* Introduction to Data Visualization 1\n",
    "\n",
    "### Outcomes\n",
    "\n",
    "By the end of this notebook, you will be able to:\n",
    "* Customize aesthetic labels on a graph to communicate the key message of a visualization\n",
    "* Use faceted graphs to visually represent complex data\n",
    "* Identify best practices for creating effective visualizations\n",
    "* Recognize ways in which visualizations can be used nefariously\n",
    "\n",
    "### References\n",
    "---\n",
    "* Deeb, Sameer. 2005. “The Molecular Basis of Variation in Human Color Vision.” _Clinical Genetics_ 67: 369–77. "
   ]
  },
  {
   "cell_type": "markdown",
   "id": "6fbce72b-4f56-4562-821f-58b05eb0bbe0",
   "metadata": {
    "tags": []
   },
   "source": [
    "## Introduction\n",
    "In the notebook \"Introduction to Visualization 1,\" we learned about scatter, line and bar charts, as well as histograms. This notebook expands on the concepts introduced in Introduction to Data Visualization 1 and offers a more in depth and granular toolkit for creating visualizations. Because we're already familiar with the theoretical concepts of `ggplot2`, this notebook serves as more of a resource guide with practical case study examples than as a learning module.\n",
    "\n",
    "The concept of layers is fundamental to `ggplot2` - in this notebook we'll explore a few more layering customizations that can help make our visualizations look extra polished. We'll also see how our new tools perform in a few case study examples."
   ]
  },
  {
   "cell_type": "markdown",
   "id": "b7731e76-65eb-4266-91d5-29001022ceca",
   "metadata": {},
   "source": [
    "### Loading the data\n",
    "In this notebook, we'll be working with the Penn World Tables dataset. Let's load it now."
   ]
  },
  {
   "cell_type": "code",
   "execution_count": null,
   "id": "eddb1193-2347-4f73-acc7-c455eafc88fd",
   "metadata": {},
   "outputs": [],
   "source": [
    "source(\"testing_intro_to_visualization2.r\")"
   ]
  },
  {
   "cell_type": "code",
   "execution_count": null,
   "id": "df797978-a810-4a29-a165-4cce35a8d96c",
   "metadata": {},
   "outputs": [],
   "source": [
    "#import packages\n",
    "library(tidyverse) # contains ggplot2, which is what we'll be using!\n",
    "library(haven)\n",
    "library(RColorBrewer)\n",
    "library(ggthemes)\n",
    "\n",
    "# library(lubridate)\n",
    "\n",
    "#load the data\n",
    "pwt_data <- read_dta(\"../datasets/pwt100.dta\")\n",
    "\n",
    "#declare factors\n",
    "pwt_data <- as_factor(pwt_data)\n",
    "\n",
    "pwt_data <- pwt_data %>%\n",
    "    mutate(countrycode = as.factor(countrycode)) %>%\n",
    "    mutate(country = as.factor(country)) %>%\n",
    "    mutate(currency_unit = as.factor(currency_unit))\n",
    "\n",
    "NA_data <- filter(pwt_data, (countrycode == \"CAN\")|(countrycode == \"USA\"))\n",
    "\n",
    "#check that it looks OK\n",
    "tail(pwt_data,10)\n",
    "#there will be a lot of missing data"
   ]
  },
  {
   "cell_type": "markdown",
   "id": "9b1cd200-fff8-40c8-826f-3f919e0ec431",
   "metadata": {
    "tags": []
   },
   "source": [
    "## Part 1: Adding Techniques to our Data Visualization Toolkit\n",
    "\n",
    "### Adding and Adjusting Labels\n",
    "In notebook 1 we introduced the `labs()` function which allows us to specify the aesthetic outputs of different labels on our chart, such as the x and y axis titles, the legend title and main graph title.\n",
    "\n",
    "Here are a few best practices to keep in mind when crafting and adding labels to charts (pulled from [FusionCharts 2022](https://www.fusioncharts.com/resources/charting-best-practices/5-tips-for-writing-chart-captions)):\n",
    "* Graph title: should summarize the graph in short, understandable language that is as objective as possible - avoid using unnecessary words such as \"the\", \"a\", or \"an\", as well as adjectives like \"amazing\" or \"poor\" which can manipulate your reader's perception of the graphic.\n",
    "  * Example: _\"Online Grocery Order Growth 2018 vs 2020\"_ (a better title)  vs _\"The Significant Growth in Online Grocery Orders in the years 2018 and 2020\"_ (a worse title)\n",
    "* Graph subtitle: should be used to add helpful supplemental information that will help your audience understand the graph.\n",
    "  * Example: Units of measurement, time frames (if this is secondary information)\n",
    "* Axis Labels: units of measurement should always be made known! If the data is labeled inside the visualization, sometimes axis labels are not necessary - we should always ask ourselves: what does our audience need to know?\n",
    "  \n",
    "Here, we explore a few tips and tricks for customizing labels to suit the needs of our graph. \n",
    "\n",
    "#### The `labs()` function\n",
    "As a refresher, a few `labs()` arguments we've already covered are:"
   ]
  },
  {
   "cell_type": "markdown",
   "id": "69bf4ba2-6b81-4c32-8a0d-1f783e4170f7",
   "metadata": {
    "jp-MarkdownHeadingCollapsed": true,
    "tags": []
   },
   "source": [
    "`x =` specifies x-axis title. \\\n",
    "`y =` specifies y-axis title. \\\n",
    "`color =` specifies meaning of color outline. \\\n",
    "`fill =` specifies meaning of color fill. \\\n",
    "`title =` specifies title of plot. \n",
    "\n",
    "> **NEW ARGUMENTS** \\\n",
    ">`subtitle =` specifies a subtitle for the graph (positioned below title). \\\n",
    ">`caption =` specifies a caption at the bottom of graph, which can be great for listing the source of our data. \n",
    "\n",
    "These arguments give us a basic infrastructure for a plot - we can demonstrate these features using a simple bar chart."
   ]
  },
  {
   "cell_type": "code",
   "execution_count": null,
   "id": "032ed6c0-0912-4826-9325-33d1b8bf8873",
   "metadata": {},
   "outputs": [],
   "source": [
    "basic_plot <- ggplot(data = NA_data,  \n",
    "                aes(x = year,   \n",
    "                    y = rgdpe/pop, \n",
    "                    fill = country, # specifies the fill to be by country\n",
    "                    color = country)) + # specifies the outline to also be by country\n",
    "        labs(x = \"Year\",  \n",
    "             y = \"Real GDP per capita (expenditure-based)\",\n",
    "             fill = \"Country\",\n",
    "             color = \"countyr\",\n",
    "             title = \"Canada & US Real GDP per Capita over Time\") +\n",
    "        geom_col(position = \"dodge\") +\n",
    "        theme(text = element_text(size = 20, hjust = 0)) # specifies the x, y and legend label text size\n",
    "        options(repr.plot.width = 15, repr.plot.height = 7) # specifies the dimension \n",
    "  \n",
    "basic_plot"
   ]
  },
  {
   "cell_type": "markdown",
   "id": "0e51d103-4e3b-4359-9841-7a6e924012f6",
   "metadata": {},
   "source": [
    "### Exercise 1 \n",
    "Fix the typo from the graph above (in the code below!) so that the two legends on the righthand side are merged into one.\n",
    "\n",
    "> **Hint**: remember that arguments in the `ggplot()` contain aesthetic mappings, while arguments in the `labs()` function contain labels and other specifications that are set by us and not the data. What might be going on here that would create two legends on this graph?"
   ]
  },
  {
   "cell_type": "code",
   "execution_count": null,
   "id": "162669c7-e8f4-4365-bf05-59183dfe7f3e",
   "metadata": {},
   "outputs": [],
   "source": [
    "# replace the error with your answer - your legend should begin with a Capital letter\n",
    "\n",
    "basic_plot_test <- ggplot(data = NA_data,  \n",
    "                    aes(x = year,   \n",
    "                    y = rgdpe/pop, \n",
    "                    fill = country, # specifies the fill to be by country\n",
    "                    color = country)) + # specifies the outline to also be by country\n",
    "        labs(x = \"Year\",  \n",
    "             y = \"Real GDP per capita (expenditure-based)\",\n",
    "             fill = \"Country\",\n",
    "             color = \"countyr\",\n",
    "             title = \"Canada & US Real GDP per Capita over Time\") +\n",
    "        geom_col(position = \"dodge\") +\n",
    "        theme(text = element_text(size = 20)) # specifies the x, y and legend label text size\n",
    "        options(repr.plot.width = 15, repr.plot.height = 7) # specifies the dimension \n",
    "\n",
    "basic_plot_test"
   ]
  },
  {
   "cell_type": "code",
   "execution_count": null,
   "id": "b567b421-0f0b-463c-82bf-e3feae632c5a",
   "metadata": {},
   "outputs": [],
   "source": [
    "answer_1 <- basic_plot_test\n",
    "\n",
    "test_1()"
   ]
  },
  {
   "cell_type": "markdown",
   "id": "76d09434-ab44-410e-ad86-c3ef880cdbd3",
   "metadata": {
    "tags": []
   },
   "source": [
    "#### The `theme()` function\n",
    "We also learned about the `theme()` function, which allows us to modify components of a theme such as text. \\\n",
    "As a refresher, one `theme()` argument we've already covered is:"
   ]
  },
  {
   "cell_type": "markdown",
   "id": "9db47bb9-7666-4f42-a2bf-cfae3676c75f",
   "metadata": {},
   "source": [
    "`text = element_text()`  specifies text attributes that broadly apply to all text components in a graph\n",
    "* Example: title, labels, caption, etc.\n",
    "\n",
    ">**NEW ARGUMENTS** \\\n",
    ">`plot.title = element_text()` allows specifications for the title text. \\\n",
    ">`plot.subtitle.title = element_text()` allows specifications for the subtitle text. \\\n",
    ">`plot.caption = element_text()` allows specifications for the caption text. \\\n",
    ">`axis.text.x = element_text()` allows specifications for x axis text \\\n",
    ">`axis.text.y = element_text()` allows specifications for y axis text. \\\n",
    ">`legend.position =` allows specifications for legend position.\n",
    " >* example, `\"top\"`, `\"bottom\"` or as a vector: `c(x-coordinate, y-coordinate)`"
   ]
  },
  {
   "cell_type": "markdown",
   "id": "0ceb8c31-5b5f-4fd9-8c72-6a6c8782877d",
   "metadata": {},
   "source": [
    "When considering text size, we always want to ensure that our text is readable to an audience with a range of seeing abilities - we might ask ourselves: _could a grandparent or older person I know read this at first glance?_ \n",
    "\n",
    "As we'll explore below, adjusting label size and boldness, for example, can help us emphasize important information about a graph that we'd like our audience to focus on. In effect, this means leveraging the power of the size and thickness of text to encode visual cues that signal a hierarchy of importance. You can check out an extensive list of `theme()` arguments in [this documentation resource created by R Studio](https://ggplot2.tidyverse.org/reference/theme.html).\n",
    "\n",
    "#### The `element_text()` function\n",
    "There are also a quite a few things we can specify using the `element_text()` function:"
   ]
  },
  {
   "cell_type": "markdown",
   "id": "0d11a40e-d38f-4f90-98f1-4f4dcf138353",
   "metadata": {},
   "source": [
    "`size =` specifies x-axis title (default in R is set at size 11)\n",
    "\n",
    ">**NEW ARGUMENTS** \\\n",
    ">`hjust =` specifies the position of the plot titles (default is left).\n",
    ">* `0.5`: centre, `1`: right, `0`: left \n",
    ">\n",
    ">`color =` specifies the text color. \\\n",
    ">`face =` specifies typographical emphasis.\n",
    ">* example: `\"bold\"`, `\"italic\"`, `\"bold.italic\"` \n",
    ">\n",
    ">`angle =` specifies angular rotation of text. \\\n",
    ">`vjust =` specifies the vertical adjustment. \n",
    ">* example: higher number is up, lower number is down from the graph (default is 0)"
   ]
  },
  {
   "cell_type": "markdown",
   "id": "ddbd1156-673c-4882-926a-1106152046fe",
   "metadata": {},
   "source": [
    "Let's use some of these new functions and arguments to improve our earlier visualization!"
   ]
  },
  {
   "cell_type": "code",
   "execution_count": null,
   "id": "f4f22a49-f001-4a93-a4f0-5f6d6ec3f005",
   "metadata": {
    "tags": []
   },
   "outputs": [],
   "source": [
    "intermediate_plot <- ggplot(data = NA_data,  \n",
    "                aes(x = year,   \n",
    "                    y = rgdpe/pop, \n",
    "                    fill = country, \n",
    "                    color = country,\n",
    "                    geom_text(mapping = country))) +\n",
    "        labs(x = \"Year\",  \n",
    "             y = \"Real GDP per capita (expenditure-based)\",\n",
    "             fill = \"Country\",\n",
    "             color = \"Country\", \n",
    "             title = \"Canada & US Real GDP per Capita over Time\", subtitle = \"1950-2019\", \n",
    "             caption = \"Source: Penn World Tables 2019\") +\n",
    "        geom_col(position = \"dodge\") +\n",
    "        theme(text = element_text(size = 20, hjust = 0)) + # specifies the x, y and legend label text size\n",
    "        theme(plot.title = element_text(size = 25, hjust = 0.5, color = \"black\", face = \"bold\")) + # specifies title text details\n",
    "        theme(plot.subtitle = element_text(size = 19, hjust = 0.5)) +  # specifies subtitle text details\n",
    "        theme(plot.caption = element_text(size = 15, face = \"italic\", vjust = 0)) + # specifies caption text details\n",
    "        theme(legend.position = \"top\")  # places the legend at the top of the graph\n",
    "        options(repr.plot.width = 15, repr.plot.height = 9) \n",
    "\n",
    "intermediate_plot"
   ]
  },
  {
   "cell_type": "markdown",
   "id": "f7d733fa-8b17-4941-afc0-b40c30a9b37a",
   "metadata": {
    "tags": []
   },
   "source": [
    "### Formatting Graphs\n",
    "\n",
    "#### Scales\n",
    "At times, we may wish to visualize only a subsection of our data. To do this, we can use the following commands which manipulate the scale of our graphs: \n",
    "* `xlim()` specifies scale adjustments on the x-axis.\n",
    "* `ylim()` specifies scale adjustments on the y-axis.\n",
    "\n",
    "Both of these functions take two arguments - one lower bound limit and one upper bound limit, like this: `xlim(lowerbound,upperbound)` . We can use the `xlim()` and `ylim()` functions to examine subsections of our axis variables. In the GDP per capita over time plot that we've been working with, use `xlim()` to view a subsection of data from 2000-2019 below. This will make the power of changing the scale of our graph much more obvious."
   ]
  },
  {
   "cell_type": "code",
   "execution_count": null,
   "id": "57bfa837-72bd-4e02-8924-81f123aa4b38",
   "metadata": {},
   "outputs": [],
   "source": [
    "# fill in the ... to make the graph\n",
    "\n",
    "scaled_plot <- ggplot(data = NA_data,  \n",
    "                aes(x = year,   \n",
    "                    y = rgdpe/pop, \n",
    "                    fill = country, \n",
    "                    color = country)) +\n",
    "        labs(x = \"Year\",  \n",
    "             y = \"Real GDP per capita (expenditure-based)\",\n",
    "             fill = \"Country\",\n",
    "             color = \"Country\", \n",
    "             title = \"Canada & US Real GDP per Capita over Time\", subtitle = \"...-2019\",  # adjust the subtitle to reflect the window of time we're working with\n",
    "             caption = \"Source: Penn World Tables 2019\") +\n",
    "        geom_col(position = \"dodge\") +\n",
    "        theme(text = element_text(size = 20, hjust = 0)) + \n",
    "        theme(plot.title = element_text(size = 25, hjust = 0.5, color = \"black\", face = \"bold\")) +\n",
    "        theme(plot.subtitle = element_text(size = 19, hjust = 0.5)) +  \n",
    "        theme(plot.caption = element_text(size = 15, face = \"italic\", vjust = 0)) + \n",
    "        theme(legend.position = \"top\") +\n",
    "        xlim(..,2019) + # adjust x-axis scale with lower bound = 2000 and upper bound = 2020\n",
    "        ylim(0,..) # adjust the max y value to 200,000 rather than the automatic scale of ~64,000\n",
    "        options(repr.plot.width = 15, repr.plot.height = 9) \n",
    "\n",
    "scaled_plot"
   ]
  },
  {
   "cell_type": "markdown",
   "id": "d4d5e894-c306-431e-8a3a-b569d84b211a",
   "metadata": {},
   "source": [
    "_What do you notice about this graph? How do the oscillations (ups and downs) appear different when zoomed in here versus in the large view in the other visualization?_ "
   ]
  },
  {
   "cell_type": "markdown",
   "id": "0555fb71-f515-4999-90fc-d701a02ab73c",
   "metadata": {},
   "source": [
    "\n",
    "<span style=\"color:#CC7A00\" > 🔎 **Let's think critically** </span>\n",
    "> 🟠 What are some good reasons why we might want to adjust the scale limits of our axis? \\\n",
    "> 🟠 Is there a subsection of data that would be of interest? Why? \\\n",
    "> 🟠 Are we trying to make our oscillations seem less volatile (as seen above) to prove a point? What point? \\\n",
    "> 🟠 Are our scale choices helping our audience gain an understanding of the data that is as objective and accurate as possible? "
   ]
  },
  {
   "cell_type": "markdown",
   "id": "cbfd7b28-c958-4013-b3b7-5e23f5a32eaf",
   "metadata": {},
   "source": [
    "The points above are all important to consider in any data visualization project. This is because scaling in particular can communicate a variety of different messages depending on how it is used. This example provides just one example of this idea."
   ]
  },
  {
   "cell_type": "markdown",
   "id": "a0f0734f-ae83-46f6-bfba-8a20f35da8c5",
   "metadata": {},
   "source": [
    "#### Faceting\n",
    "So far, we've only been creating one plot at a time; we may, however, be interested in piecing together a visualization that takes on a more dashboard-like effect to display multiple plots in a grid simultaneously. A function we can use to achieve this is `facet_grid()`. To _facet_ something simply means to split - in data visualization, faceting helps us arrange graphs into multiple views or layers which can help us explore multidimensionality and visualize complexity in a dataset. \n",
    "\n",
    ">**NEW ARGUMENTS** \\\n",
    ">`facet_grid(rows = vars(variable))` creates a grid of plots using a variable or variables split into rows (horizontal split) or columns (vertical split). The `vars()` function allows our variable(s) of choice to be correctly evaluated in the context of the data frame. \\\n",
    "> `geom_hline()` creates a horizontal line across our plot(s) at a y value of our choosing. \\\n",
    "> `geom_vline()` creates a vertical line across our plot(s) at an x value of our choosing.\n",
    "\n",
    "Both `geom_hline()` and `geom_vline()` can be used on single plots and subplots to emphasize particular thresholds, values or time periods. In the graph below, we'll add a horizontal line to our faceted plot to help us see when the GDP from each G7 country rose above 40,000."
   ]
  },
  {
   "cell_type": "code",
   "execution_count": null,
   "id": "ab9ddf16-4d9b-4ce7-9d52-df11c65dde0f",
   "metadata": {
    "tags": []
   },
   "outputs": [],
   "source": [
    "g7_data <- pwt_data %>%\n",
    "filter(country == \"Canada\" | country == \"United States\" | country == \"France\" | \n",
    "       country == \"Germany\" |  country == \"Italy\" |  country == \"Japan\" | country == \"United Kingdom\")  # select G7 countries  \n",
    "\n",
    "facet_plot <- ggplot(data = g7_data,      \n",
    "                aes(x = year,   \n",
    "                    y = rgdpe/pop, \n",
    "                    fill = as_factor(country), \n",
    "                    color = country)) +\n",
    "        labs(x = \"Year\",  \n",
    "             y = \"Real GDP per capita (expenditure-based)\",\n",
    "             fill = \"Country\",\n",
    "             color = \"Country\", \n",
    "             title = \"G7 GDP per Capita over Time\", subtitle = \"1950-2019\", \n",
    "             caption = \"Source: Penn World Tables 2019\") +\n",
    "        geom_line(size = 2) +\n",
    "        theme(text = element_text(size = 18, hjust = 0)) +\n",
    "        theme(text = element_text(size = 20, hjust = 0)) + \n",
    "        theme(plot.title = element_text(size = 25, hjust = 0.5, color = \"black\", face = \"bold\")) + \n",
    "        theme(plot.subtitle = element_text(size = 19, hjust = 0.5)) +  \n",
    "        theme(plot.caption = element_text(size = 15, face = \"italic\", vjust = 0)) + \n",
    "        theme(legend.position = \"top\") +\n",
    "        geom_hline(yintercept = 40000, linetype = \"solid\", size = 0.25) + # add horizontal line \n",
    "        facet_grid(rows = vars(country)) + # create a set of subplots organized by country\n",
    "        scale_color_brewer(palette=\"Paired\")\n",
    "        options(repr.plot.width = 10, repr.plot.height = 15) \n",
    "\n",
    "facet_plot"
   ]
  },
  {
   "cell_type": "markdown",
   "id": "5e2db510-3330-4f78-a18e-ed966fbb5991",
   "metadata": {},
   "source": [
    "Faceting allows us to arrange charts to make comparisons while leveraging the power of white space to handle visual complexity. Without faceting, a consolidated line chart of all G7 countries such as the one below might look overcrowded and create challenges in observing the nuances between countries."
   ]
  },
  {
   "cell_type": "code",
   "execution_count": null,
   "id": "e6f615fd-a521-4e84-be11-ad2e0ad04c62",
   "metadata": {},
   "outputs": [],
   "source": [
    "line_plot <- ggplot(data = g7_data,      \n",
    "                aes(x = year,   \n",
    "                    y = rgdpe/pop, \n",
    "                    fill = as_factor(country), \n",
    "                    color = country)) +\n",
    "        labs(x = \"Year\",  \n",
    "             y = \"Real GDP per capita (expenditure-based)\",\n",
    "             fill = \"Country\",\n",
    "             color = \"Country\", \n",
    "             title = \"G7 GDP per Capita over Time\", subtitle = \"1950-2019\", \n",
    "             caption = \"Source: Penn World Tables 2019\") +\n",
    "        geom_line(size = 2) +\n",
    "        theme(text = element_text(size = 18, hjust = 0)) +\n",
    "        theme(text = element_text(size = 20, hjust = 0)) + \n",
    "        theme(plot.title = element_text(size = 25, hjust = 0.5, color = \"black\", face = \"bold\")) + \n",
    "        theme(plot.subtitle = element_text(size = 18, hjust = 0.5)) +  \n",
    "        theme(plot.caption = element_text(size = 15, face = \"italic\", vjust = 0)) + \n",
    "        theme(legend.position = \"top\") +\n",
    "        geom_hline(yintercept = 40000, linetype = \"solid\", size = 0.25) + # add horizontal line +\n",
    "        scale_color_brewer(palette=\"Paired\")\n",
    "        options(repr.plot.width = 10, repr.plot.height = 12) \n",
    "\n",
    "line_plot"
   ]
  },
  {
   "cell_type": "markdown",
   "id": "974b228d-1cf2-4acd-b4a0-971ae45f26e8",
   "metadata": {},
   "source": [
    "We can see that this graph above, while it is quite consolidated, does not present the specific patterns of each country as clearly as does our faceted graph immediately before it."
   ]
  },
  {
   "cell_type": "markdown",
   "id": "0884132b-ae1f-4a4e-9b54-ab9ffd0658af",
   "metadata": {},
   "source": [
    "#### Confidence Bands\n",
    "When creating visualizations which use a predictive element like a regression line, we can summon graph features that visualize how accurate our model is at predicting a variable (or variables) with 95% confidence. By using this feature, we can visualize prediction error and invite our viewer to understand and take into account the possible error that our visualization holds.\n",
    "\n",
    ">**NEW ARGUMENTS** \\\n",
    ">`geom_smooth()` creates a trendline that aids the eye in spotting patterns in the data. \\\n",
    "> Arguments within this function include:\n",
    "> * `method =` specifies the type of smoothing we want to use - in this notebook, we'll use linear regression using the `lm` function.\n",
    "> * `se =` uses a logical argument to specify the presence of a standard error/confidence band (default is `TRUE`).\n",
    "> * `colour =` specifies the colour of the trendline.\n",
    "> * `fill =` specifies the colour of the confidence band. "
   ]
  },
  {
   "cell_type": "markdown",
   "id": "cf7cc216-123b-4754-8cc2-be9e52037541",
   "metadata": {},
   "source": [
    "### Design\n",
    "Before we move into some case studies, we'll examine a few more design tips and tricks that we can add to our visualization toolkit to make our visualizations look extra polished from an aesthetic standpoint! ✨\n",
    "\n",
    "#### Shapes\n",
    "When working with scatterplots, we can change the shape of the data points using the `pch =` argument. Changing the shape of data points should be done when the icon of choice can provide a useful visual code that supports the audience's understanding of the graph.\n",
    "* For example, in the image below, option 2 (the upwards triangle icon) might be useful to visualize growth or movement upwards, whereas option 6 (the downwards triangle icon) might be useful to visualize decline or movement downwards\n",
    "\n",
    "The shape options are listed in the chart below - the default, as we've seen before, is 19, a simple circle. Note that numbers 21-25 are shapes that have both fill and outline colour options which can be helpful if we are trying to make our data points stand out better if we. This is particularly useful if we are working with a large data set. "
   ]
  },
  {
   "cell_type": "markdown",
   "id": "fbe3fc11-dfb6-4e09-85d0-7a4ade7839ff",
   "metadata": {},
   "source": [
    "![Geom point shape options](media/pch_options.png)"
   ]
  },
  {
   "cell_type": "markdown",
   "id": "db5ad985-1843-4f65-8735-1c2de94c9b52",
   "metadata": {},
   "source": [
    "Try exploring a few different shape and size options in the scatterplot below!"
   ]
  },
  {
   "cell_type": "code",
   "execution_count": null,
   "id": "eb044843-e1c5-492a-bf9a-b96b89c9a3de",
   "metadata": {},
   "outputs": [],
   "source": [
    "intermediate_scatterplot <- ggplot(data = NA_data,  \n",
    "                aes(x = hc,   \n",
    "                    y = rgdpe/pop, \n",
    "                    fill = country, \n",
    "                    color = country,\n",
    "                    geom_text(mapping = country))) +\n",
    "        labs(x = \"Human Capital\",  \n",
    "             y = \"Real GDP per capita (expenditure-based)\",\n",
    "             fill = \"Country\",\n",
    "             color = \"Country\", \n",
    "             title = \"Canada & US Real GDP per Capita and Human Capital\", subtitle = \"1950-2019\", \n",
    "             caption = \"Source: Penn World Tables 2019\") +\n",
    "        geom_point(pch = 19, size = 2) + # try exploring a few different shape and size options \n",
    "        theme(text = element_text(size = 20, hjust = 0)) + \n",
    "        theme(plot.title = element_text(size = 25, hjust = 0.5, color = \"black\", face = \"bold\")) +\n",
    "        theme(plot.subtitle = element_text(size = 19, hjust = 0.5)) +  \n",
    "        theme(plot.caption = element_text(size = 15, face = \"italic\", vjust = 0)) + \n",
    "        theme(legend.position = \"top\")  \n",
    "        options(repr.plot.width = 12, repr.plot.height = 9) \n",
    "\n",
    "intermediate_scatterplot"
   ]
  },
  {
   "cell_type": "markdown",
   "id": "892dc02e-f93b-4c11-9e29-ebb0dc07104b",
   "metadata": {},
   "source": [
    "#### Colour\n",
    "In our last notebook, we introduced the `RColorBrewer` theme options in which colour themes could be specified using character strings that include text like `\"blue\"` or `\"Set3\"`. Colours can also be set using hexadecimal colour codes, which are six digit codes that store information about a color by various levels of red (R), green (G), and blue (B) like this: (#RRGGBB).\n",
    "> ex. \"#FF0000\" (red), \"#FF6347\" (orange), \"#FFD700\" (yellow) \n",
    "\n",
    "When encoding colours into a visualization, choose diverse colours when making comparisons, and where appropriate, use colour hue (i.e. the lightness or darkness of a colour) when demonstrating concentration or other quantitative measures. Be sure to not pick too many colours that may distract your audience from the main message of the visualization. Also be sure not to choose colours which are counterintuitive, such as using green to indicate losses or deficits.\n",
    "\n",
    "You may have noticed that the default background colour for visualization in R is a pale grey colour. This is fine for quick visualizations, but there may be cases where we would like our visualization to have a more intentional aesthetic. Using a white background, for example, can make a visualization look a bit cleaner and allow colours to stand out better.\n",
    "\n",
    "To change our background colour, we can add layers to our ggplot visualizations using the following functions which invoke pre-designed themes from the `ggthemes()` package we imported at the beginning of our notebook:\n",
    ">`theme_bw()` white background, grey gridlines, black graph border \\\n",
    ">`theme_minimal()` white background, grey gridlines, no graph border \\\n",
    ">`theme_classic()` white background, no gridlines, no graph border \\\n",
    ">`theme_economist()`: a theme based on the plots in the [The Economist magazine](https://www.economist.com/) \\\n",
    "> `theme_hc()`: a theme based on [Highcharts JS](https://www.highcharts.com/) \\\n",
    ">`theme_wsj()`: a theme based on the plots in the [The Wall Street Journal](https://www.wsj.com/)\n",
    "\n",
    "You can read more about [ggthemes](https://mran.microsoft.com/snapshot/2016-12-28/web/packages/ggthemes/vignettes/ggthemes.html) here.\n",
    "\n",
    "When working with colours, it's important use colours that are \"understandable by those with colorblindness (a surprisingly large fraction of the overall population — from about 1% to 10%, depending on sex and ancestry (Deeb 2005)) ([Timbers, T., Campbell, T., Lee, M. 2022](https://datasciencebook.ca/viz.html)).\n",
    "\n",
    "We can view a list of colorblind friendly palettes using the following command:"
   ]
  },
  {
   "cell_type": "code",
   "execution_count": null,
   "id": "c6dbbbe1-6552-4fe8-84e1-184529b99813",
   "metadata": {},
   "outputs": [],
   "source": [
    "display.brewer.all(colorblindFriendly = TRUE)"
   ]
  },
  {
   "cell_type": "markdown",
   "id": "24381ce1-f640-42b7-94b2-65450d52063e",
   "metadata": {},
   "source": [
    "Alternatively, once we have completed and exported a visualization, we can run it through a [Colour Blindness Simulator](https://www.color-blindness.com/coblis-color-blindness-simulator/) like this one to test if our visualization looks okay from the perspective of those who have different colour blindness or impairment conditions."
   ]
  },
  {
   "cell_type": "markdown",
   "id": "e8edaf1b-2d49-48f5-b52f-bf5409cf8203",
   "metadata": {
    "tags": []
   },
   "source": [
    "## Part 2: Case Studies\n",
    "\n",
    "Let's now apply what we've learned with a few case studies. In them, we will try to recreate a few different types of graphs with our PWT dataset!"
   ]
  },
  {
   "cell_type": "markdown",
   "id": "e15eabfe-71b9-4d60-905b-144600091a82",
   "metadata": {},
   "source": [
    "### Case Study 1: Labeled Scatterplots\n",
    "Let's see if we can use our tools to recreate a graph similar to the one below using our PWT data set. "
   ]
  },
  {
   "cell_type": "markdown",
   "id": "a16113f2-588b-4a76-8804-070dad2c2263",
   "metadata": {},
   "source": [
    "What type of plot will we want to specify using the `geom_X` command?"
   ]
  },
  {
   "cell_type": "code",
   "execution_count": null,
   "id": "34ad3840-8aa5-4e65-86f3-8eb710458790",
   "metadata": {},
   "outputs": [],
   "source": [
    "# Fill in the ... with your answer below (example: \"geom_histogram\")\n",
    "\n",
    "answer_2 <- \"geom_...\"\n",
    "test_2()"
   ]
  },
  {
   "cell_type": "markdown",
   "id": "9c771fdc-39a8-4497-9f3c-3b2674dffe49",
   "metadata": {},
   "source": [
    "![2014 Wellbeing and Financial Inclusion Map](media/Wellbing_and_financial_inclusion_scatterplot.png)"
   ]
  },
  {
   "cell_type": "markdown",
   "id": "ebc4e00f-a5c8-449a-afb4-0279f2c227ae",
   "metadata": {},
   "source": [
    "> **Source**: Boston Consulting Group"
   ]
  },
  {
   "cell_type": "code",
   "execution_count": null,
   "id": "7d4378ed-4f09-4a7a-9d99-3b0644895ecf",
   "metadata": {
    "tags": []
   },
   "outputs": [],
   "source": [
    "# filter our data for a subset of African and South American Countires\n",
    "casestudy2_data <- filter(pwt_data, year == 2014, country == \"Ethiopia\" | country == \"South Africa\" | country == \"Kenya\" | country == \"Rwanda\" | country == \"Botswana\" | country == \"Nigeria\" | country == \"Mali\" | country == \"Peru\" | country == \"Brazil\" | country == \"Chile\" | country == \"Paraguay\" | country == \"Colombia\" | country == \"Argentina\") %>%\n",
    "\n",
    "# assign each observation to a corresponding \"region\", since we are only given data at the country-level\n",
    "mutate(region = c(\"South America\",\"South America\",\"Africa\",\"South America\",\"South America\",\"Africa\",\"Africa\",\"Africa\",\"Africa\",\"South America\",\"South America\",\"Africa\",\"Africa\")) %>%\n",
    "    select(country, region, hc, rgdpe, pop)"
   ]
  },
  {
   "cell_type": "markdown",
   "id": "b77c68ca-c2f7-4044-910f-d984459e1b5a",
   "metadata": {},
   "source": [
    "Trace through the code below to see where we apply what we learned from Part 1!"
   ]
  },
  {
   "cell_type": "code",
   "execution_count": null,
   "id": "2230e771-217d-41e7-ba66-db32f2146c28",
   "metadata": {},
   "outputs": [],
   "source": [
    "labeled_scatter <- ggplot(casestudy2_data, aes(x = hc, y = rgdpe/pop, fill = region, label = country)) +\n",
    "    geom_point(color = \"grey\", size = 10, shape = 21, stroke = 1) + # shape 21 allows a stroke to be made visible, the default = 19\n",
    "    theme_hc() + # use a clean, white background\n",
    "    geom_text(size = 7, nudge_y = 10, nudge_x = 0.09) + # adjusting our text\n",
    "    labs(x = \"Human Capital Index\", y = \"GDP per Capita\", fill = \"\", title = \"Human Capital and GDP per Capita in Africa and South America\",\n",
    "        subtitle = \"2014\") +\n",
    "    theme(text = element_text(size = 18), legend.position = \"top\") + # place our legend at the top to maximize space\n",
    "    geom_smooth(method = lm, se = FALSE, colour = \"black\", size = 0.5) + # compute trendlines for the data\n",
    "    scale_fill_brewer(palette = \"Set2\")  # select our colour palette\n",
    "    \n",
    "labeled_scatter "
   ]
  },
  {
   "cell_type": "markdown",
   "id": "91ecd394-bf53-4d71-adb0-2215cd9db489",
   "metadata": {},
   "source": [
    "### Case Study 2: Confidence Bands\n",
    "Now, let's see if we can make our own visualization that uses a confidence band!"
   ]
  },
  {
   "cell_type": "markdown",
   "id": "cdeefe87-39df-45f4-bdbb-4aaca51247df",
   "metadata": {},
   "source": [
    "![2010 Line Graph with Probabilistic Population Projects for China](media/un_population_graphs.png)"
   ]
  },
  {
   "cell_type": "markdown",
   "id": "cf38e711-373c-4911-81ce-9bd9243d1fa4",
   "metadata": {},
   "source": [
    "[Source](https://forums.eviews.com/viewtopic.php?t=17766)"
   ]
  },
  {
   "cell_type": "code",
   "execution_count": null,
   "id": "c4c77510-5166-459c-bbcf-a9213c7038bc",
   "metadata": {},
   "outputs": [],
   "source": [
    "confidence_data <- pwt_data %>%\n",
    "    filter(country == \"Canada\") %>%\n",
    "    mutate(adjusted_gdp = rgdpe/pop)"
   ]
  },
  {
   "cell_type": "markdown",
   "id": "d0768449-86ed-47ef-bffe-78a495d74ece",
   "metadata": {},
   "source": [
    "Trace through the code below to see where we apply what we learned from Part 1!"
   ]
  },
  {
   "cell_type": "code",
   "execution_count": null,
   "id": "cb45a10c-feee-419d-a137-f4dce5c31ad6",
   "metadata": {},
   "outputs": [],
   "source": [
    "confidence_plot <- ggplot(confidence_data, aes(x = hc, y = adjusted_gdp)) +\n",
    "    geom_point(colour = \"red\", size = 3) + # set our data points to be a distinct colour from our confidence interval\n",
    "    labs(x = \"Human Capital\", y = \"GDP per Capita\", fill = \"\", title = \"Human Capital and GDP Per Capita in Canada\",\n",
    "        subtitle = \"1950-2019\", caption = \"95% confidence interval\") +\n",
    "    geom_smooth(method = lm, se = TRUE, colour = \"black\", size = 0.99, fill = \"black\") + # compute trendlines for the data\n",
    "    theme_minimal() + # select a theme with a light grid background\n",
    "    theme(text = element_text(size = 20), plot.caption = element_text(color = \"grey\")) # create a plot caption describing the confidence band d\n",
    "     \n",
    "confidence_plot"
   ]
  },
  {
   "cell_type": "markdown",
   "id": "95adb706-315e-49e2-8385-724ce07174cb",
   "metadata": {},
   "source": [
    "### Exercise 2\n",
    "Use the `pwt_data` dataframe to create a graph which looks similar to the one below. Store your object in answer_3. (**Hint**: all relevant styling options are identical to those used in the Real GDP per capita comparison across G7 countries we worked through earlier, except `options()`, which specifies a plot width and height of 10 each)."
   ]
  },
  {
   "cell_type": "markdown",
   "id": "f6737d0d-6e93-4b5c-ba79-deeec5f5cb8a",
   "metadata": {},
   "source": [
    "![Answer3](media/answer3.PNG)"
   ]
  },
  {
   "cell_type": "code",
   "execution_count": null,
   "id": "f6f8c0f1-2c65-4803-915c-9ac3791a0630",
   "metadata": {},
   "outputs": [],
   "source": [
    "# your code here\n",
    "\n",
    "answer_3 <-\n",
    "\n",
    "test_3()"
   ]
  }
 ],
 "metadata": {
  "kernelspec": {
   "display_name": "R",
   "language": "R",
   "name": "ir"
  },
  "language_info": {
   "codemirror_mode": "r",
   "file_extension": ".r",
   "mimetype": "text/x-r-source",
   "name": "R",
   "pygments_lexer": "r",
   "version": "4.1.3"
  }
 },
 "nbformat": 4,
 "nbformat_minor": 5
}
