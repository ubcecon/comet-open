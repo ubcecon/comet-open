{
 "cells": [
  {
   "cell_type": "markdown",
   "id": "f4d767eb",
   "metadata": {},
   "source": [
    "# ECON 325: Distributions\n",
    "\n",
    "* **Authors**: COMET Team (Valeria Zolla, Colby Chambers, Jonathan Graves)\n",
    "* **Last Update**: 12 August 2022 \n",
    "\n",
    "---"
   ]
  },
  {
   "cell_type": "markdown",
   "id": "5f2674f8",
   "metadata": {
    "tags": []
   },
   "source": [
    "## Outline\n",
    "\n",
    "### Prerequisites\n",
    "\n",
    "* Introduction to Jupyter\n",
    "* Introduction to R \n",
    "* Introduction to Visualization\n",
    "* Central Tendency\n",
    "\n",
    "### Outcomes\n",
    "\n",
    "After completing this notebook, you will be able:\n",
    "* Understand and work with Probability Density Functions (PDFs) and Cumulative Density Functions (CDF)\n",
    "* Use tables to find joint, marginal, and conditional probabilities\n",
    "* Interpret uniform, normal, and $t$ distributions\n",
    "\n",
    "### References\n",
    "\n",
    "* [Introduction to Probability and Statistics Using R](https://mran.microsoft.com/snapshot/2018-09-28/web/packages/IPSUR/vignettes/IPSUR.pdf)"
   ]
  },
  {
   "cell_type": "markdown",
   "id": "dbaf0662",
   "metadata": {},
   "source": [
    "## Introduction\n",
    "\n",
    "This notebook will explore in detail the concept of distributions, both in terms of their functional forms for probability and how they are representative of different sets of data. This notebook aims to help us develop a deeper understanding of statistics from the perspective of data spread. Let's first load our reliable friend, the 2016 Census from Statistics Canada, which we will consult throughout this lesson."
   ]
  },
  {
   "cell_type": "code",
   "execution_count": 1,
   "id": "22878bfc",
   "metadata": {},
   "outputs": [
    {
     "name": "stderr",
     "output_type": "stream",
     "text": [
      "── \u001b[1mAttaching packages\u001b[22m ─────────────────────────────────────── tidyverse 1.3.1 ──\n",
      "\n",
      "\u001b[32m✔\u001b[39m \u001b[34mggplot2\u001b[39m 3.3.6     \u001b[32m✔\u001b[39m \u001b[34mpurrr  \u001b[39m 0.3.4\n",
      "\u001b[32m✔\u001b[39m \u001b[34mtibble \u001b[39m 3.1.8     \u001b[32m✔\u001b[39m \u001b[34mdplyr  \u001b[39m 1.0.9\n",
      "\u001b[32m✔\u001b[39m \u001b[34mtidyr  \u001b[39m 1.2.0     \u001b[32m✔\u001b[39m \u001b[34mstringr\u001b[39m 1.4.0\n",
      "\u001b[32m✔\u001b[39m \u001b[34mreadr  \u001b[39m 2.1.2     \u001b[32m✔\u001b[39m \u001b[34mforcats\u001b[39m 0.5.1\n",
      "\n",
      "Warning message:\n",
      "“package ‘ggplot2’ was built under R version 4.1.3”\n",
      "Warning message:\n",
      "“package ‘tidyr’ was built under R version 4.1.2”\n",
      "Warning message:\n",
      "“package ‘readr’ was built under R version 4.1.2”\n",
      "Warning message:\n",
      "“package ‘dplyr’ was built under R version 4.1.3”\n",
      "── \u001b[1mConflicts\u001b[22m ────────────────────────────────────────── tidyverse_conflicts() ──\n",
      "\u001b[31m✖\u001b[39m \u001b[34mdplyr\u001b[39m::\u001b[32mfilter()\u001b[39m masks \u001b[34mstats\u001b[39m::filter()\n",
      "\u001b[31m✖\u001b[39m \u001b[34mdplyr\u001b[39m::\u001b[32mlag()\u001b[39m    masks \u001b[34mstats\u001b[39m::lag()\n",
      "\n",
      "Warning message:\n",
      "“package ‘haven’ was built under R version 4.1.3”\n",
      "Warning message:\n",
      "“package ‘testthat’ was built under R version 4.1.3”\n",
      "\n",
      "Attaching package: ‘testthat’\n",
      "\n",
      "\n",
      "The following object is masked from ‘package:dplyr’:\n",
      "\n",
      "    matches\n",
      "\n",
      "\n",
      "The following object is masked from ‘package:purrr’:\n",
      "\n",
      "    is_null\n",
      "\n",
      "\n",
      "The following objects are masked from ‘package:readr’:\n",
      "\n",
      "    edition_get, local_edition\n",
      "\n",
      "\n",
      "The following object is masked from ‘package:tidyr’:\n",
      "\n",
      "    matches\n",
      "\n",
      "\n"
     ]
    }
   ],
   "source": [
    "# loading in our packages\n",
    "library(tidyverse)\n",
    "library(haven)\n",
    "library(digest)\n",
    "\n",
    "source(\"testing_distribution.r\")"
   ]
  },
  {
   "cell_type": "code",
   "execution_count": 2,
   "id": "94bfba27",
   "metadata": {},
   "outputs": [
    {
     "name": "stdout",
     "output_type": "stream",
     "text": [
      "Rows: 343,063\n",
      "Columns: 16\n",
      "$ ppsort  \u001b[3m\u001b[90m<dbl>\u001b[39m\u001b[23m 453141, 732612, 143665, 52611, 36927, 268123, 700087, 488335, …\n",
      "$ agegrp  \u001b[3m\u001b[90m<fct>\u001b[39m\u001b[23m 35 to 39 years, 40 to 44 years, 55 to 59 years, 50 to 54 years…\n",
      "$ ageimm  \u001b[3m\u001b[90m<fct>\u001b[39m\u001b[23m not applicable, not applicable, not applicable, not applicable…\n",
      "$ cip2011 \u001b[3m\u001b[90m<fct>\u001b[39m\u001b[23m \"08 architecture, engineering, and related technologies\", \"06 …\n",
      "$ fol     \u001b[3m\u001b[90m<fct>\u001b[39m\u001b[23m english only, english only, french only, french only, english …\n",
      "$ hdgree  \u001b[3m\u001b[90m<fct>\u001b[39m\u001b[23m \"certificate of apprenticeship or certificate of qualification…\n",
      "$ immstat \u001b[3m\u001b[90m<fct>\u001b[39m\u001b[23m non-immigrants, non-immigrants, non-immigrants, non-immigrants…\n",
      "$ kol     \u001b[3m\u001b[90m<fct>\u001b[39m\u001b[23m english only, both english and french, both english and french…\n",
      "$ lfact   \u001b[3m\u001b[90m<fct>\u001b[39m\u001b[23m employed - worked in reference week, employed - worked in refe…\n",
      "$ locstud \u001b[3m\u001b[90m<fct>\u001b[39m\u001b[23m ontario, ontario, prince edward island, quebec, not applicable…\n",
      "$ mrkinc  \u001b[3m\u001b[90m<dbl>\u001b[39m\u001b[23m 97000, 41000, 30000, 54000, 27000, 40000, 69000, 56000, 24000,…\n",
      "$ pkids   \u001b[3m\u001b[90m<fct>\u001b[39m\u001b[23m one or more, one or more, none, none, one or more, one or more…\n",
      "$ pr      \u001b[3m\u001b[90m<fct>\u001b[39m\u001b[23m ontario, ontario, prince edward island, quebec, ontario, ontar…\n",
      "$ sex     \u001b[3m\u001b[90m<fct>\u001b[39m\u001b[23m male, female, female, male, male, male, female, female, male, …\n",
      "$ vismin  \u001b[3m\u001b[90m<fct>\u001b[39m\u001b[23m \"not a visible minority\", \"not a visible minority\", \"not a vis…\n",
      "$ wages   \u001b[3m\u001b[90m<dbl>\u001b[39m\u001b[23m 95000, 19000, 29000, 52000, 27000, 57000, 70000, 55000, 24000,…\n"
     ]
    }
   ],
   "source": [
    "# reading in the data\n",
    "\n",
    "census_data <- read_dta(\"../datasets/01_census2016.dta\")\n",
    "\n",
    "# cleaning up factors\n",
    "census_data <- as_factor(census_data)\n",
    "\n",
    "# cleaning up missing data\n",
    "census_data <- filter(census_data, !is.na(census_data$wages))\n",
    "census_data <- filter(census_data, !is.na(census_data$mrkinc))\n",
    "\n",
    "# inspecting the data\n",
    "glimpse(census_data)"
   ]
  },
  {
   "cell_type": "markdown",
   "id": "df0d5994",
   "metadata": {},
   "source": [
    "Now that we have our data set ready on stand-by for analysis, let's start looking at distributions as a concept more generally."
   ]
  },
  {
   "cell_type": "markdown",
   "id": "aa91e907",
   "metadata": {},
   "source": [
    "## Part 1: Distribution Functions - The Basics\n"
   ]
  },
  {
   "cell_type": "markdown",
   "id": "c71107bf",
   "metadata": {},
   "source": [
    "Let's begin with a quick review of some basic ideas from probability theory.\n",
    "\n",
    "### What is a Probability?\n",
    "\n",
    "When working with data, the **probability** of seeing a particular piece of data take on a certain set of values (called an **event**) is the **likelihood** of those values occurring.  When the possible values are discrete (e.g. `1,2,3` or `adult, child`), we refer to this as the **frequency**.  When the possible values are continuous (e.g. any number between `0.5` and `3.75`), we refer to this as the **density**.  We learn a little bit more about this later in this notebook.\n",
    "\n",
    "There is a difference between _population_ probabilities and _empirical_ or _sample_ probabilities.  Generally, when we talk about distributions we will be referring to _population_ objects: but there are also sample versions as well, which are often easier to think about.\n",
    "\n",
    "For instance, let's say we have a dataset with 5,000 observations and a variable called `birthmonth` which records the month of birth of every participant captured in the dataset. If 500 people in the data were born in October, then `birthmonth==\"October`\" would have an _empirical_ probability of occurring in an observation 10% of the time.  We can't be sure what the population probability would be, unless we knew more about the population.\n",
    " \n",
    "### What is a Random Variable?\n",
    "\n",
    "A **random variable** is a variable whose possible values are numerical outcomes of a random phenomenon, such as rolling a dice or surveys done to random people in certain locations at certain times. There are two types of random variables: discrete and continuous.\n",
    "\n",
    "- A **discrete random variable** is one which may take on only a finite number of distinct values. Examples of discrete random variables include the options when you roll dice, the number of children in a family, or the number of defective light bulbs in a box of ten. A good example of a discrete random variable of the data used in this notebook is the age group (`agegrp` in the data) of the census participants as it can take only a finite number of distinct values: 17 different categories to be exact. \n",
    "\n",
    "- A **continuous random variable** is one which takes an infinite number of possible values. We can commonly think of this variable as being one that is *measured* rather than merely *categorized*. Examples include height, weight, or how much people earn. In the data, we can see that `wages` and `mrkinc` are great examples of continuous random variables. They can take on an infinite number of possible values.\n",
    "\n",
    "Now that we've learned some key terminology for describing variables and the values they can take on, we can work with distributions.\n",
    "\n",
    "\n",
    "### What is the Probability Distribution?\n",
    "\n",
    "A **probability distribution** refers to the pattern or arrangement of probabilities in a population.  These are usually described as _functions_: the function takes in a possible event, then reports back the probability of that event occurring.  As we explained above, there is a difference between _population_ and _sample_ distributions:\n",
    "* A _population_ distribution (which is the typical way we describe these) describes population probabilities\n",
    "* An _empirical_ or _sample_ distribution reports describes empirical probabilities from within a particular sample\n",
    "\n",
    "It's important to keep this difference in mind: from the perspective of statistical inference, we usually want to learn about the _population_ distribution, but will use the _empirical_ distribution to do so.\n",
    "\n",
    "Distribution functions come in several standard forms; let's learn about them."
   ]
  },
  {
   "cell_type": "markdown",
   "id": "eba10f15",
   "metadata": {},
   "source": [
    "#### Probability Density Functions (PDFs)\n",
    "**Probability Density Functions** are also sometimes referred to as PDFs or probability mass functions.  We usually use lower case letters like $f$ or $p$ to describe these functions.\n",
    "\n",
    "##### 1. Discrete PDF:\n",
    "\n",
    ">\" The probability distribution of a discrete random variable is the list of all possible values of the variable and their probabilities which sum to  1.\" \n",
    "> \n",
    ">\\- Econometrics with R\n",
    "\n",
    "In other words, a **Probability Density Function (PDF)** is the probability of occurrence of all the different values of a variable. The probability of occurrence is also called  **density** or **frequency**.\n",
    "\n",
    "Suppose a random variable X may take k different values, with the probability that $X = x_{i} $ defined to be $ P(X = x_{i}) = p_{i} $. The probabilities $p_{i}$ must satisfy the following:\n",
    "1. For each i:\n",
    "$0<p_{i}<1 $ \n",
    "\n",
    "2. \n",
    "$p_{1} + p_{2} + ... + p_{k} = 1 $"
   ]
  },
  {
   "cell_type": "markdown",
   "id": "fb2800eb",
   "metadata": {},
   "source": [
    "There are two different ways to view the empirical PDF of a discrete variable. The first way is by creating a frequency table. "
   ]
  },
  {
   "cell_type": "code",
   "execution_count": 3,
   "id": "c0e2ffda",
   "metadata": {},
   "outputs": [
    {
     "data": {
      "text/html": [
       "<table class=\"dataframe\">\n",
       "<caption>A tibble: 16 × 3</caption>\n",
       "<thead>\n",
       "\t<tr><th scope=col>agegrp</th><th scope=col>Count</th><th scope=col>Frequency</th></tr>\n",
       "\t<tr><th scope=col>&lt;fct&gt;</th><th scope=col>&lt;int&gt;</th><th scope=col>&lt;dbl&gt;</th></tr>\n",
       "</thead>\n",
       "<tbody>\n",
       "\t<tr><td>15 to 17 years   </td><td> 5411</td><td> 1.589049624</td></tr>\n",
       "\t<tr><td>18 to 19 years   </td><td> 9028</td><td> 2.651254853</td></tr>\n",
       "\t<tr><td>20 to 24 years   </td><td>30758</td><td> 9.032708990</td></tr>\n",
       "\t<tr><td>25 to 29 years   </td><td>35213</td><td>10.341009873</td></tr>\n",
       "\t<tr><td>30 to 34 years   </td><td>36690</td><td>10.774760806</td></tr>\n",
       "\t<tr><td>35 to 39 years   </td><td>36956</td><td>10.852877087</td></tr>\n",
       "\t<tr><td>40 to 44 years   </td><td>37213</td><td>10.928350337</td></tr>\n",
       "\t<tr><td>45 to 49 years   </td><td>38638</td><td>11.346830417</td></tr>\n",
       "\t<tr><td>50 to 54 years   </td><td>42610</td><td>12.513288578</td></tr>\n",
       "\t<tr><td>55 to 59 years   </td><td>36069</td><td>10.592391592</td></tr>\n",
       "\t<tr><td>60 to 64 years   </td><td>20823</td><td> 6.115095237</td></tr>\n",
       "\t<tr><td>65 to 69 years   </td><td> 8063</td><td> 2.367863079</td></tr>\n",
       "\t<tr><td>70 to 74 years   </td><td> 2299</td><td> 0.675147863</td></tr>\n",
       "\t<tr><td>75 to 79 years   </td><td>  593</td><td> 0.174146447</td></tr>\n",
       "\t<tr><td>80 to 84 years   </td><td>  133</td><td> 0.039058141</td></tr>\n",
       "\t<tr><td>85 years and over</td><td>   21</td><td> 0.006167075</td></tr>\n",
       "</tbody>\n",
       "</table>\n"
      ],
      "text/latex": [
       "A tibble: 16 × 3\n",
       "\\begin{tabular}{lll}\n",
       " agegrp & Count & Frequency\\\\\n",
       " <fct> & <int> & <dbl>\\\\\n",
       "\\hline\n",
       "\t 15 to 17 years    &  5411 &  1.589049624\\\\\n",
       "\t 18 to 19 years    &  9028 &  2.651254853\\\\\n",
       "\t 20 to 24 years    & 30758 &  9.032708990\\\\\n",
       "\t 25 to 29 years    & 35213 & 10.341009873\\\\\n",
       "\t 30 to 34 years    & 36690 & 10.774760806\\\\\n",
       "\t 35 to 39 years    & 36956 & 10.852877087\\\\\n",
       "\t 40 to 44 years    & 37213 & 10.928350337\\\\\n",
       "\t 45 to 49 years    & 38638 & 11.346830417\\\\\n",
       "\t 50 to 54 years    & 42610 & 12.513288578\\\\\n",
       "\t 55 to 59 years    & 36069 & 10.592391592\\\\\n",
       "\t 60 to 64 years    & 20823 &  6.115095237\\\\\n",
       "\t 65 to 69 years    &  8063 &  2.367863079\\\\\n",
       "\t 70 to 74 years    &  2299 &  0.675147863\\\\\n",
       "\t 75 to 79 years    &   593 &  0.174146447\\\\\n",
       "\t 80 to 84 years    &   133 &  0.039058141\\\\\n",
       "\t 85 years and over &    21 &  0.006167075\\\\\n",
       "\\end{tabular}\n"
      ],
      "text/markdown": [
       "\n",
       "A tibble: 16 × 3\n",
       "\n",
       "| agegrp &lt;fct&gt; | Count &lt;int&gt; | Frequency &lt;dbl&gt; |\n",
       "|---|---|---|\n",
       "| 15 to 17 years    |  5411 |  1.589049624 |\n",
       "| 18 to 19 years    |  9028 |  2.651254853 |\n",
       "| 20 to 24 years    | 30758 |  9.032708990 |\n",
       "| 25 to 29 years    | 35213 | 10.341009873 |\n",
       "| 30 to 34 years    | 36690 | 10.774760806 |\n",
       "| 35 to 39 years    | 36956 | 10.852877087 |\n",
       "| 40 to 44 years    | 37213 | 10.928350337 |\n",
       "| 45 to 49 years    | 38638 | 11.346830417 |\n",
       "| 50 to 54 years    | 42610 | 12.513288578 |\n",
       "| 55 to 59 years    | 36069 | 10.592391592 |\n",
       "| 60 to 64 years    | 20823 |  6.115095237 |\n",
       "| 65 to 69 years    |  8063 |  2.367863079 |\n",
       "| 70 to 74 years    |  2299 |  0.675147863 |\n",
       "| 75 to 79 years    |   593 |  0.174146447 |\n",
       "| 80 to 84 years    |   133 |  0.039058141 |\n",
       "| 85 years and over |    21 |  0.006167075 |\n",
       "\n"
      ],
      "text/plain": [
       "   agegrp            Count Frequency   \n",
       "1  15 to 17 years     5411  1.589049624\n",
       "2  18 to 19 years     9028  2.651254853\n",
       "3  20 to 24 years    30758  9.032708990\n",
       "4  25 to 29 years    35213 10.341009873\n",
       "5  30 to 34 years    36690 10.774760806\n",
       "6  35 to 39 years    36956 10.852877087\n",
       "7  40 to 44 years    37213 10.928350337\n",
       "8  45 to 49 years    38638 11.346830417\n",
       "9  50 to 54 years    42610 12.513288578\n",
       "10 55 to 59 years    36069 10.592391592\n",
       "11 60 to 64 years    20823  6.115095237\n",
       "12 65 to 69 years     8063  2.367863079\n",
       "13 70 to 74 years     2299  0.675147863\n",
       "14 75 to 79 years      593  0.174146447\n",
       "15 80 to 84 years      133  0.039058141\n",
       "16 85 years and over    21  0.006167075"
      ]
     },
     "metadata": {},
     "output_type": "display_data"
    }
   ],
   "source": [
    "census_data0 <- filter(census_data, agegrp != \"not available\")\n",
    "sample_size <- nrow(census_data0) # number of observations\n",
    "table2 <- census_data0 %>% \n",
    "    group_by(agegrp) %>%\n",
    "    summarize(Count = n(),\n",
    "              Frequency = n()/sample_size*100) # creates two variables in our table\n",
    "\n",
    "table2"
   ]
  },
  {
   "cell_type": "markdown",
   "id": "75b74bde",
   "metadata": {},
   "source": [
    "A second way to visualize an empirical PDF is by creating a graph. Because a PDF has a finite number of distinct values of which we measure their frequency, the typical format to express a categorical array such as a PDF is through a bar graph following what we learned in _Introduction to Visualization_."
   ]
  },
  {
   "cell_type": "code",
   "execution_count": 4,
   "id": "a5b26c3e",
   "metadata": {},
   "outputs": [
    {
     "data": {
      "image/png": "[encoded data removed]",
      "text/plain": [
       "plot without title"
      ]
     },
     "metadata": {
      "image/png": {
       "height": 420,
       "width": 420
      }
     },
     "output_type": "display_data"
    }
   ],
   "source": [
    "plot <- ggplot(data = table2,  # this declares the data for the chart; all variable names are in this data\n",
    "                aes(# this is a list of the aesthetic features of the chart\n",
    "                    x = agegrp,   # for example, the x-axis will be \"year\"\n",
    "                    y = Frequency # the y-axes will be expenditure-based real GDP per capita\n",
    "                ),\n",
    "                ) \n",
    "plot1 <- plot + geom_col() + \n",
    "    theme(axis.text.x = element_text(angle = 90, vjust = 0.5, hjust=1))\n",
    "\n",
    "plot1"
   ]
  },
  {
   "cell_type": "markdown",
   "id": "d3875525",
   "metadata": {
    "tags": []
   },
   "source": [
    "#### 2. Continuous PDF:\n",
    "\n",
    ">\"Since a continuous random variable takes on a continuum of possible values, we cannot use the concept of a probability distribution as used for discrete random variables.\" \n",
    ">\n",
    "> \\- Econometrics with R\n",
    "\n",
    "\n",
    "Unlike a discrete variable, a continuous random variable is not defined in specific values. Instead, it is defined over intervals of values, and is represented by the area under a curve (in calculus, this is the integral). The curve, which represents the probability function is also called a **density** curve and it must satisfy the following:\n",
    "1. The curve has no negative values $p(x) > 0$ for all $x$ (there cannot be a negative probability of observing a value)\n",
    "2. The total area under the curve is equal to 1\n",
    "\n",
    "Let's imagine a random variable that can take any value over an interval of real numbers. The probability of observing values between $a$ and $b$ is the area between the density curve and the area between $a$ and $b$:\n",
    "\n",
    "$$\\mathrm{P}(a \\le X \\le b) = \\left(\\int_{a}^{b} f(x) \\; dx\\right)$$\n",
    "\n",
    "Since the number of values which may be assumed by the random variable is infinite, the probability of observing any single value is equal to 0. \n",
    "\n",
    "Therefore, to visualize a continuous PDF we commonly use graphs rather than tables and do not use bar graphs or scatterplots to visualize a continuous PDF. Because it is a continuous variable, we need to use a visualization type that allows for the entire continuum of possible values to be represented in the graph. As stated above, the probability of observing values between $a$ and $b$ is the area underneath the curve, therefore a continuous PDF should be visualized as a line graph. \n",
    "\n",
    "Suppose we would like to visualize a continuous empirical PDF for all wages between 25000 and 75000:"
   ]
  },
  {
   "cell_type": "code",
   "execution_count": 19,
   "id": "28828387-1b90-4d62-9f18-74401240d8e6",
   "metadata": {},
   "outputs": [
    {
     "data": {
      "image/png": "[encoded data removed]",
      "text/plain": [
       "Plot with title “density.default(x = census_data$wages)”"
      ]
     },
     "metadata": {
      "image/png": {
       "height": 420,
       "width": 420
      }
     },
     "output_type": "display_data"
    }
   ],
   "source": [
    "density <- density(census_data$wages)\n",
    "plot(density)\n",
    "\n",
    "# Telling R how to read our upper and lower bounds\n",
    "l <- min(which(density$x >= 25000))\n",
    "h <- max(which(density$x < 75000))\n",
    "\n",
    "# Visualizing our specified range in red \n",
    "polygon(c(density$x[c(l, l:h, h)]),\n",
    "        c(0, density$y[l:h], 0),\n",
    "        col = \"red\")"
   ]
  },
  {
   "cell_type": "markdown",
   "id": "a148d24d",
   "metadata": {},
   "source": [
    "#### Cumulative Density Function (CDF)\n",
    "When we have a variable which is rankable, we can define a related object: the **Cumulative Density Function (CDF)**.  The CDF  for both discrete and continuous random variables is the probability that the random variable is less than or equal to a particular value. Naturally, this means that the CDF must necessarily be an increasing function. Think of the example of rolling a dice. $F(1)$ would indicate the the probability that a 1 was rolled. $F(2)$ would indicate the probability that a 2 **or lower** was rolled. Evidently, $F(2)$ would be greater than $F(1)$. \n",
    "\n",
    "Therefore, if we have a variable $X$ that can have take the value of $x$ the CDF is is the probability that $X$ will take a value less than or equal to $x$. A CDF can only take values between 0 and 1: this is because the total probability that the random variable is less or equal to the biggest value of the variable is 100% or 1 while the probability that the random variable is less or equal to the smallest value of the variable is 0% or 0. \n",
    "\n",
    "If we use the lowercase $f(y)$ to represent the PDF of $y$, then by convention we use the uppercase $F(y)$ to represent the CDF of $y$.\n",
    "\n",
    "\n",
    "Mathematically, since $f_{X}(x)$ denotes the probability density function of $X$, then the probability that  $X$  falls between  $a$  and  $b$  where  $a \\leq b$  is:\n",
    "\n",
    "$$\\mathrm{P}(a \\leq X \\leq b) = \\left(\\int_{a}^{b} f_{X}(x) \\; dx\\right)$$\n",
    "\n",
    "We know that the entire X variable falls between 2 values if the probability of x falling in between them is 1. Therefore $X$'s CDF curve is:\n",
    "\n",
    "$$\\mathrm{P}(−∞ \\le X \\le ∞) = \\left(\\int_{−∞}^{∞} f_{X}(x) \\; dx\\right) = 1$$\n",
    "\n",
    "Below we've used a scatterplot to visualize empirical CDF of the continuous variable `wages`. From the graph below we can tell that most people earn between 0-200000 as the probability of people's wages being less than or equal to 200000 is over 80%."
   ]
  },
  {
   "cell_type": "code",
   "execution_count": 6,
   "id": "8d824685",
   "metadata": {},
   "outputs": [
    {
     "data": {
      "image/png": "[encoded data removed]",
      "text/plain": [
       "Plot with title “ecdf(census_data$wages)”"
      ]
     },
     "metadata": {
      "image/png": {
       "height": 420,
       "width": 420
      }
     },
     "output_type": "display_data"
    }
   ],
   "source": [
    "p <- ecdf(census_data$wages)\n",
    "\n",
    "#plot CDF\n",
    "plot(p)"
   ]
  },
  {
   "cell_type": "markdown",
   "id": "90b10ee5",
   "metadata": {},
   "source": [
    "#### Joint Probability Distribution"
   ]
  },
  {
   "cell_type": "markdown",
   "id": "0e6feb3b",
   "metadata": {},
   "source": [
    "So far, we've looked at distributions for single random variables. However, we can also use distributions to analyze the probability of multiple random variables taking on certain values. Let's say we have two random variables, $X$ and $Y$. The **joint distribution** is the probability distribution on all possible values that $X$ and $Y$ can take on.\n",
    "\n",
    "\n",
    "As an example, lets suppose both $X$ and $Y$ are discrete random variable which can take on values from 1-3, with the following joint probability table (X on vertical axis, and Y on horizontal):\n",
    "\n",
    "|   | 1   | 2   | 3   |\n",
    "|---|-----|-----|-----|\n",
    "| 1 | 0   | 1/6 | 1/6 |\n",
    "| 2 | 1/6 | 0   | 1/6 |\n",
    "| 3 | 1/6 | 1/6 | 0   |"
   ]
  },
  {
   "cell_type": "markdown",
   "id": "c053173f",
   "metadata": {},
   "source": [
    "Above, we've created a joint distribution for the two discrete random variables, $X$ and $Y$. Notice the probabilities will sum to 1, as some combination of both $X$ and $Y$ will always occur."
   ]
  },
  {
   "cell_type": "markdown",
   "id": "43b44a2f",
   "metadata": {},
   "source": [
    "Every joint distribution can be represented by a PDF and CDF, just like single random variables. The formal notation of a PDF for two jointly distributed random variables is below."
   ]
  },
  {
   "cell_type": "markdown",
   "id": "8f4d1253",
   "metadata": {},
   "source": [
    " $$f(x, y) = Prob (X = x, Y = y)$$\n",
    "\n",
    "where $f(x, y)$ is the joint probability density that the random variable $X$ takes on a value of $x$ and the random variable $Y$ takes on a value of $y$ simultaneously."
   ]
  },
  {
   "cell_type": "markdown",
   "id": "17bd3b3e",
   "metadata": {},
   "source": [
    "The PDF for jointly distributed random variables would be, in this case, are the values recorded in the example table above. For example the PDF of an immigrant only speaking french $Prob(X=1, Y =2) = 1/6$."
   ]
  },
  {
   "cell_type": "markdown",
   "id": "dcfb4e94",
   "metadata": {},
   "source": [
    "The CDF for jointly distributed random variables follows the exact same logic as with single variables as well. It just instead represents the probability of multiple variables taking on values less than those specified all at once. This is quite non-sensical for two discrete random variables such as `immstat` and `kol`, but we can imagine the CDF of two jointly distributed random variables being much more interpretable if both of those variables are continuous (i.e. `wages` and `mrkinc`). The formal notation of a CDF for two jointly distributed random variables is below."
   ]
  },
  {
   "cell_type": "markdown",
   "id": "216c646a",
   "metadata": {},
   "source": [
    "> $$F(x, y) = Prob({X \\leq x}, {Y \\leq y})$$ <br>\n",
    "\n",
    "where $F(x, y)$ is the joint cumulative probability that the random variable $X$ takes on a value less than or equal to $x$ and the random variable $Y$ takes on a value less than or equal to $y$ simultaneously."
   ]
  },
  {
   "cell_type": "markdown",
   "id": "8ca908c6",
   "metadata": {},
   "source": [
    "#### Marginal Probability Distribution "
   ]
  },
  {
   "cell_type": "markdown",
   "id": "f5692011",
   "metadata": {},
   "source": [
    "If we add up all of the joint probabilities from the same row or the same column, we arrive at another concept known as the **marginal distribution**. This is essentially probability density function for each individual random variable. It gives the probability of one random variable taking on a series of different values, and it is found from utilizing the joint probabilities in our table above. We can represent the marginal probability density function as follows:"
   ]
  },
  {
   "cell_type": "markdown",
   "id": "c5d8af4d",
   "metadata": {},
   "source": [
    "> $$f_{x}(x) = \\sum_{y} Prob(X = x, Y = y)$$ <br>\n",
    "\n",
    "where we sum across all possible joint probabilities of $X$ and $Y$ for a given value of $X$. Identical logic holds for the marginal probability density function of the random variable $Y$ as well."
   ]
  },
  {
   "cell_type": "markdown",
   "id": "45ddc1e2",
   "metadata": {},
   "source": [
    "An example will make this more clear. If we wanted the marginal empirical probability distribution function of the $X$ random variable, we would need to find the marginal probability for all possible values of $X$. \n",
    "\n",
    "\n",
    "For $X=1$, the marginal probability is the sum of all joint probabilities in that corresponding row: 1/6 + 1/6 = 1/3"
   ]
  },
  {
   "cell_type": "markdown",
   "id": "e55e3897",
   "metadata": {},
   "source": [
    "#### Conditional Probability Distribution "
   ]
  },
  {
   "cell_type": "markdown",
   "id": "586e56d9",
   "metadata": {},
   "source": [
    "The **conditional distribution** function gives us the probability of seeing a host of values for one random variable conditional on a specified value of another random variable, given the two random variables are jointly distributed.\n",
    "\n",
    "We can think about conditional probabilities mathematically. We will use the following formula to find the conditional probability density function:"
   ]
  },
  {
   "cell_type": "markdown",
   "id": "057087df",
   "metadata": {},
   "source": [
    "> $$f(x | y) = \\frac {Prob ((X = x) \\bigcap (Y = y))} {Prob(Y = y)}$$\n",
    "\n",
    "where $f(x | y)$ represents the conditional probability that the random variable $X$ will take on a value of $x$ when the random variable of $Y$ takes on a value of $y$. The $\\bigcap$ symbol simply represents the case that both $X$ = $x$ and $Y$ = $y$ simultaneously (a joint probability) - we can read this symbol as \"given that\". One caveat to this equation is that the marginal probability that $Y = y$ must not be 0, else this conditional probability will be undefined.\n"
   ]
  },
  {
   "cell_type": "markdown",
   "id": "bbd480d1",
   "metadata": {},
   "source": [
    "Let's say we want to find the conditional probability of $X=1$ given $Y=2$. Recall the unconditional probability that $Y=1$ = 1/3. The conditional probability, given $Y=1$ will therefore be the probability of $X=1$ AND $Y=2$ divided by the probability that $Y=2$: (1/6) / (1/3) = 1/2."
   ]
  },
  {
   "cell_type": "markdown",
   "id": "78ad6a1f",
   "metadata": {},
   "source": [
    "One important point to consider is that of **statistical independence of random variables**. Two random variables are independent if and only if their joint probability of occurrence equals the product of their marginal probabilities for all possible combinations of values of the random variables. In mathematical notation, this means that two random variables are statistically independent if and only if:"
   ]
  },
  {
   "cell_type": "markdown",
   "id": "847cc961",
   "metadata": {},
   "source": [
    "> $$f(x, y) = f_{x}(x) f_{y}(y)$$"
   ]
  },
  {
   "cell_type": "markdown",
   "id": "91e7ed02",
   "metadata": {},
   "source": [
    "We can check for statistical independence of our jointly distributed random variables, $X$ and $Y$, quite quickly by consulting our table up above. Try to deduce whether these variables are independent yourself by multiplying combinations of marginal probabilities to see if they match the joint probability in the corresponding cell."
   ]
  },
  {
   "cell_type": "markdown",
   "id": "00221540",
   "metadata": {},
   "source": [
    "Throughout these explanations, we have continually referred to the joint, marginal and conditional distribution of two discrete random variables; however, ***one or both of these variables can be continuous***. We focused on discrete random variables since they are much easier to represent in table format. Just imagine trying to create a table of joint probabilities for two jointly distributed continuous random variables: there would be near infinite cells, each of which would have a joint probability of about 0! Nonetheless, all of the same logic applies to continuous random variables. The only difference is that we often refer to mathematical formulas when finding the marginal and conditional probabily functions for these random variables, since their PDFs and CDFs can be represented by mathematical functions (provided they fit the mathematical conditions of a PDF we outlined earlier)."
   ]
  },
  {
   "cell_type": "markdown",
   "id": "50a178d1",
   "metadata": {},
   "source": [
    "One last important point to remember is that ***we can have more than two jointly distributed random variables***. We may want to represent the probability of 3, 4, or an even larger number of variables taking on certain values at once. While this is possible, it is not easy to represent graphically or in table format. That is why we have stuck to investigating two jointly distributed random variables in this notebook. However, you should keep this in mind as you progress in this course."
   ]
  },
  {
   "cell_type": "markdown",
   "id": "74cb8508",
   "metadata": {},
   "source": [
    "Now is your turn to work on some exercises which will test your understanding of the material presented in this notebook!"
   ]
  },
  {
   "cell_type": "markdown",
   "id": "72304114",
   "metadata": {
    "tags": []
   },
   "source": [
    "#### Exercise 1\n",
    "\n",
    "Let the random variable $X$ denote the time (in hours) a person waits for their flight. This person can wait up to 2 hours for this flight. "
   ]
  },
  {
   "cell_type": "markdown",
   "id": "d62fc450",
   "metadata": {},
   "source": [
    "##### Question 1\n",
    "\n",
    "Is $X$ a discrete or continuous random variable? "
   ]
  },
  {
   "cell_type": "code",
   "execution_count": 7,
   "id": "b2e759e8",
   "metadata": {},
   "outputs": [
    {
     "name": "stdout",
     "output_type": "stream",
     "text": [
      "── \u001b[1m\u001b[33mFailure\u001b[39m (???): Solution is incorrect\u001b[22m ────────────────────────────────────────\n",
      "digest(answer_1) not equal to \"44b124c438681a6daead20469c4569e4\".\n",
      "1/1 mismatches\n",
      "x[1]: \"c0b945d249d6c868c385fdd23d51daff\"\n",
      "y[1]: \"44b124c438681a6daead20469c4569e4\"\n",
      "\n"
     ]
    },
    {
     "ename": "ERROR",
     "evalue": "\u001b[1m\u001b[33mError\u001b[39m in \u001b[1m\u001b[1m`reporter$stop_if_needed()`:\u001b[22m\n\u001b[33m!\u001b[39m Test failed\n",
     "output_type": "error",
     "traceback": [
      "\u001b[1m\u001b[33mError\u001b[39m in \u001b[1m\u001b[1m`reporter$stop_if_needed()`:\u001b[22m\n\u001b[33m!\u001b[39m Test failed\nTraceback:\n",
      "1. test_1()",
      "2. test_that(\"Solution is incorrect\", {\n .     expect_equal(digest(answer_1), \"44b124c438681a6daead20469c4569e4\")\n . })",
      "3. (function (envir) \n . {\n .     handlers <- get_handlers(envir)\n .     errors <- list()\n .     for (handler in handlers) {\n .         tryCatch(eval(handler$expr, handler$envir), error = function(e) {\n .             errors[[length(errors) + 1]] <<- e\n .         })\n .     }\n .     attr(envir, \"withr_handlers\") <- NULL\n .     for (error in errors) {\n .         stop(error)\n .     }\n . })(<environment>)"
     ]
    }
   ],
   "source": [
    "answer_1 <- \"...\" # your answer of \"discrete\" or \"continuous\" in place of ...\n",
    "\n",
    "test_1()"
   ]
  },
  {
   "cell_type": "markdown",
   "id": "dab57fc0",
   "metadata": {},
   "source": [
    "<span style=\"color:red\">Explain your reasoning here:"
   ]
  },
  {
   "cell_type": "markdown",
   "id": "5ac6f51e",
   "metadata": {},
   "source": [
    "##### Question 2\n",
    "\n",
    "Say a potential probability density function representing this random variable (from the above flight example) is the following:\n",
    "\n",
    "$$ f(x) = \\begin{cases}\n",
    "x & \\text{if } 0 \\leq x \\leq 1,\\\\\n",
    "2 - x  & \\text{if } 1 \\leq x \\leq 2,\\\\\n",
    "0  & \\text{otherwise}\n",
    "\\end{cases}$$\n",
    "\n",
    "Is this a valid PDF?"
   ]
  },
  {
   "cell_type": "code",
   "execution_count": 21,
   "id": "1432510d",
   "metadata": {},
   "outputs": [
    {
     "name": "stdout",
     "output_type": "stream",
     "text": [
      "── \u001b[1m\u001b[33mFailure\u001b[39m (???): Solution is incorrect\u001b[22m ────────────────────────────────────────\n",
      "digest(answer_2) not equal to \"0590b0427c1b19a6eb612d19888aa52f\".\n",
      "1/1 mismatches\n",
      "x[1]: \"c0b945d249d6c868c385fdd23d51daff\"\n",
      "y[1]: \"0590b0427c1b19a6eb612d19888aa52f\"\n",
      "\n"
     ]
    },
    {
     "ename": "ERROR",
     "evalue": "\u001b[1m\u001b[33mError\u001b[39m in \u001b[1m\u001b[1m`reporter$stop_if_needed()`:\u001b[22m\n\u001b[33m!\u001b[39m Test failed\n",
     "output_type": "error",
     "traceback": [
      "\u001b[1m\u001b[33mError\u001b[39m in \u001b[1m\u001b[1m`reporter$stop_if_needed()`:\u001b[22m\n\u001b[33m!\u001b[39m Test failed\nTraceback:\n",
      "1. test_2()",
      "2. test_that(\"Solution is incorrect\", {\n .     expect_equal(digest(answer_2), \"0590b0427c1b19a6eb612d19888aa52f\")\n . })",
      "3. (function (envir) \n . {\n .     handlers <- get_handlers(envir)\n .     errors <- list()\n .     for (handler in handlers) {\n .         tryCatch(eval(handler$expr, handler$envir), error = function(e) {\n .             errors[[length(errors) + 1]] <<- e\n .         })\n .     }\n .     attr(envir, \"withr_handlers\") <- NULL\n .     for (error in errors) {\n .         stop(error)\n .     }\n . })(<environment>)"
     ]
    }
   ],
   "source": [
    "answer_2 <- \"...\" # your answer of \"yes\" or \"no\" in place of ...\n",
    "\n",
    "test_2()"
   ]
  },
  {
   "cell_type": "markdown",
   "id": "a89c1080",
   "metadata": {},
   "source": [
    "<span style=\"color:red\">Explain your reasoning here:"
   ]
  },
  {
   "cell_type": "markdown",
   "id": "8a008d95",
   "metadata": {},
   "source": [
    "##### Question 3\n",
    "\n",
    "What is the probability of a person waiting up to 1.5 hours for their flight? Answer to 3 decimal places. **Hint**: this is not the same as the probability of waiting precisely 1.5 hours."
   ]
  },
  {
   "cell_type": "code",
   "execution_count": null,
   "id": "5bebfee2",
   "metadata": {},
   "outputs": [],
   "source": [
    "# your code here\n",
    "\n",
    "answer_3 <- ... # your answer for the cumulative probability (in decimal format, i.e. 95% = 0.95) here\n",
    "\n",
    "test_3()"
   ]
  },
  {
   "cell_type": "markdown",
   "id": "e72d6454",
   "metadata": {},
   "source": [
    "#### Exercise 2\n",
    "\n",
    "Let's return to our `joint_table` for the joint distribution of discrete random variables `immstat` and `kol`. "
   ]
  },
  {
   "cell_type": "code",
   "execution_count": null,
   "id": "888ef81b",
   "metadata": {},
   "outputs": [],
   "source": [
    "joint_table"
   ]
  },
  {
   "cell_type": "markdown",
   "id": "f9788692",
   "metadata": {},
   "source": [
    "##### Question 1\n",
    "\n",
    "What is the probability that someone is both an immigrant and knows both English and French? Answer to 3 decimal places."
   ]
  },
  {
   "cell_type": "code",
   "execution_count": null,
   "id": "c99d1cef",
   "metadata": {},
   "outputs": [],
   "source": [
    "answer_4 <- ...# your answer for the probability (in decimal format, i.e. 95% = 0.95) here\n",
    "\n",
    "test_4()"
   ]
  },
  {
   "cell_type": "markdown",
   "id": "7ef4c625",
   "metadata": {},
   "source": [
    "##### Question 2\n",
    "\n",
    "What is the probability that someone is an immigrant given that they know only English? Answer to 3 decimal places."
   ]
  },
  {
   "cell_type": "code",
   "execution_count": null,
   "id": "17da0519",
   "metadata": {},
   "outputs": [],
   "source": [
    "# your code here\n",
    "\n",
    "answer_5 <- ... # your answer for the probability (in decimal format, i.e. 95% = 0.95) here\n",
    "\n",
    "test_5()"
   ]
  },
  {
   "cell_type": "markdown",
   "id": "34ceae6a",
   "metadata": {},
   "source": [
    "##### Question 3\n",
    "\n",
    "Why is it difficult to graph a joint probability distribution function (either density or cumulative) for these two variables in Jupyter? Which type of probability density function can we easily graph in Jupyter for jointly distributed random variables?"
   ]
  },
  {
   "cell_type": "markdown",
   "id": "7ec06c9a",
   "metadata": {},
   "source": [
    "<span style=\"color:red\">Explain your reasoning here:"
   ]
  },
  {
   "cell_type": "markdown",
   "id": "78aa32da",
   "metadata": {},
   "source": [
    "#### Exercise 3"
   ]
  },
  {
   "cell_type": "markdown",
   "id": "b3d0c84c",
   "metadata": {},
   "source": [
    "Let the random variable $Y$ be uniformly distributed on the range of values [20, 80]."
   ]
  },
  {
   "cell_type": "markdown",
   "id": "929ff094",
   "metadata": {
    "tags": []
   },
   "source": [
    "##### Question 1\n",
    "\n",
    "What is the probability of $Y$ taking on the value of 30? Answer to 3 decimal places. You may use a graph to help you."
   ]
  },
  {
   "cell_type": "code",
   "execution_count": null,
   "id": "63f3b646",
   "metadata": {},
   "outputs": [],
   "source": [
    "# your code here\n",
    "\n",
    "answer_6 <- ... # your answer for the probability (in decimal format, i.e. 95% = 0.95) here\n",
    "\n",
    "test_6()"
   ]
  },
  {
   "cell_type": "markdown",
   "id": "7abc909d",
   "metadata": {},
   "source": [
    "##### Question 2\n",
    "\n",
    "What is the probability of $Y$ taking on a value of 60 or more? Answer to 3 decimal places."
   ]
  },
  {
   "cell_type": "code",
   "execution_count": null,
   "id": "a5e35269",
   "metadata": {
    "tags": []
   },
   "outputs": [],
   "source": [
    "answer_7 <- ... # your answer for the probability (in decimal format, i.e. 95% = 0.95) here\n",
    "\n",
    "test_7()"
   ]
  },
  {
   "cell_type": "markdown",
   "id": "3df78eb1",
   "metadata": {},
   "source": [
    "##### Question 3\n",
    "\n",
    "What would happen to this probability if $Y$ was expanded to be uniformly distributed on the range of values [20, 100]?"
   ]
  },
  {
   "cell_type": "code",
   "execution_count": null,
   "id": "094c9a9c",
   "metadata": {},
   "outputs": [],
   "source": [
    "answer_8 <- \"...\" # your answer of \"it would increase\" or \"it would decrease\" in place of \"...\"\n",
    "\n",
    "test_8()"
   ]
  },
  {
   "cell_type": "markdown",
   "id": "853ae6bd",
   "metadata": {},
   "source": [
    "<span style=\"color:red\">Explain your reasoning here:"
   ]
  },
  {
   "cell_type": "markdown",
   "id": "6dc0dd02",
   "metadata": {},
   "source": [
    "#### Exercise 4\n",
    "\n",
    "Now let $Z$ be a normally distributed random variable representing the length of a piece of classical music (in minutes), with a mean of 5 and standard deviation of 1.5."
   ]
  },
  {
   "cell_type": "markdown",
   "id": "ce891fd9",
   "metadata": {},
   "source": [
    "##### Question 1\n",
    "\n",
    "What is the probability that a given piece will last between 3 and 7 minutes? Answer to 3 decimal places. You may use code to help you."
   ]
  },
  {
   "cell_type": "code",
   "execution_count": null,
   "id": "73271df4",
   "metadata": {},
   "outputs": [],
   "source": [
    "# your code here\n",
    "\n",
    "answer_9 <- ... # your answer for the probability (in decimal format, i.e. 95% = 0.95) here\n",
    "\n",
    "test_9()"
   ]
  },
  {
   "cell_type": "markdown",
   "id": "eb954a57",
   "metadata": {},
   "source": [
    "##### Question 2\n",
    "\n",
    "If $Z$ were to remain normally distributed and have the same standard deviation, but the mean piece length was changed to 3 minutes, how would this probability change?"
   ]
  },
  {
   "cell_type": "code",
   "execution_count": null,
   "id": "5704c719",
   "metadata": {},
   "outputs": [],
   "source": [
    "answer_10 <- \"...\" # your answer of \"it would increase\" or \"it would decrease\" in place of \"...\"\n",
    "\n",
    "test_10()"
   ]
  },
  {
   "cell_type": "markdown",
   "id": "5e38fc0b",
   "metadata": {},
   "source": [
    "<span style=\"color:red\">Explain your reasoning here:"
   ]
  },
  {
   "cell_type": "markdown",
   "id": "71c2b75a",
   "metadata": {},
   "source": [
    "##### Question 3\n",
    "\n",
    "Returning to our original $Z$ variable (with mean 5), if the standard deviation were to decrease to 1, how would this probability change?"
   ]
  },
  {
   "cell_type": "code",
   "execution_count": null,
   "id": "ccbfefd4",
   "metadata": {},
   "outputs": [],
   "source": [
    "answer_11 <- \"...\" # your answer of \"it would increase\" or \"it would decrease\" in place of \"...\"\n",
    "\n",
    "test_11()"
   ]
  },
  {
   "cell_type": "markdown",
   "id": "fea4aa96",
   "metadata": {},
   "source": [
    "<span style=\"color:red\">Explain your reasoning here:"
   ]
  },
  {
   "cell_type": "markdown",
   "id": "f7dd81c4",
   "metadata": {},
   "source": [
    "## Part 2: Parametric Distributions\n"
   ]
  },
  {
   "cell_type": "markdown",
   "id": "6826e02b",
   "metadata": {},
   "source": [
    "You may have noticed that all of the examples we used were for _empirical_ distributions.  This was because we don't really know what the _population_ distributions which make up the census actually are.  However, many statistics _do_ have known distributions which are very important to recognize and understand.\n",
    "\n",
    "Now that we have a strong background in random variables and the various probability functions which represent them, we can look at the three most famous examples of distributions:\n",
    "\n",
    "* uniform distribution\n",
    "* normal (or Gaussian) distribution \n",
    "* student $t$-distribution\n",
    "\n",
    "These are called **parametric** distributions because (as we will see) they can be described by a set of numbers called _parameters_.  For instance, the normal distribution's two _parameters_ are the mean and standard deviation.\n",
    "\n",
    "All the parametric distributions explained in this module are analyzed using four R commands. The four commands will start with the prefixes:\n",
    "- `d` for “density”: it produces the probability density function (PDF)\n",
    "- `p` for “probability”: it produces the cumulative distribution function (CDF)\n",
    "- `q` for “quantile”: it produces the inverse cumulative distribution function, also called the quantile function\n",
    "- `r` for “random”: generates random numbers from a particular parametric distribution"
   ]
  },
  {
   "cell_type": "markdown",
   "id": "30da08f2",
   "metadata": {
    "tags": []
   },
   "source": [
    "### Uniform Distribution"
   ]
  },
  {
   "cell_type": "markdown",
   "id": "0253fe0c",
   "metadata": {},
   "source": [
    "A continuous variable has a **uniform distribution** if all values have the same likelihood of occurring. Therefore, the variable's density curve is a rectangle, with constant height across the interval and 0 height elsewhere. Since the area under the curve must be equal to 1, the length of the interval determines the height of the curve. A good example of a random event that has a uniform distribution is rolling a dice. Rolling each of the six numbers is equally likely. \n",
    "\n",
    "Let's see with a variable what this kind of distribution might look like.   To do this, we will generate random values from this distribution using the function `runif()`. This command is written as `runif(n, min = , max = )`, where `n` is the number of observations, and `max` and `min` provide the interval between which the random variables are picked from. "
   ]
  },
  {
   "cell_type": "markdown",
   "id": "29788245-83b2-4b30-8e4c-0c03d6ccb1b3",
   "metadata": {},
   "source": [
    "#### Simulation"
   ]
  },
  {
   "cell_type": "code",
   "execution_count": 23,
   "id": "b1b79623",
   "metadata": {},
   "outputs": [
    {
     "data": {
      "image/png": "[encoded data removed]",
      "text/plain": [
       "Plot with title “Empirical PDF for uniform random values on [0,100]”"
      ]
     },
     "metadata": {
      "image/png": {
       "height": 420,
       "width": 420
      }
     },
     "output_type": "display_data"
    }
   ],
   "source": [
    "example_unif <- runif(10000, min = 10, max = 100)\n",
    "hist(example_unif, freq = FALSE, xlab = 'x', xlim = c(0,100), main = \"Empirical PDF for uniform random values on [0,100]\")"
   ]
  },
  {
   "cell_type": "markdown",
   "id": "06eb8104",
   "metadata": {},
   "source": [
    "You may be wondering why all the bars aren't the exact same height, if each number is equally likely to be drawn. This is because of random chance. Each number is within the specified range is equally likely to be drawn, but out of random chance some ranges of numbers are being drawn at higher frequencies than others. If you re-run the previous code cell, you will see that the shape of the distribution changes each time. \n",
    "\n",
    "Since we know what this distribution is, we can plot the population distribution, and visualize it.\n",
    "\n",
    "For instance, suppose we have a  uniform random variable $X$ defined on the interval $(10,50)$. Since the interval has a width of 40, so the curve must have a height of $\\frac{1}{40} = 0.024$ over the interval and 0 elsewhere. The probability that $X \\leq 25$ is the area between 10 and 25, or $(25-10)\\cdot 0.025 = 0.375$.   Naturally, these kinds of calculations are much easier to do using R!"
   ]
  },
  {
   "cell_type": "markdown",
   "id": "7099fedb",
   "metadata": {},
   "source": [
    "The `dunif()` function calculates the uniform probability density function for a variable and can also calculate a specific value's density."
   ]
  },
  {
   "cell_type": "markdown",
   "id": "0482e7df-faec-46bb-a3e1-97ac7e015798",
   "metadata": {},
   "source": [
    "#### PDF"
   ]
  },
  {
   "cell_type": "code",
   "execution_count": 24,
   "id": "15ae5d5c",
   "metadata": {},
   "outputs": [
    {
     "ename": "ERROR",
     "evalue": "Error in dunif(x_dunif, min = 10, max = 50): object 'x_dunif' not found\n",
     "output_type": "error",
     "traceback": [
      "Error in dunif(x_dunif, min = 10, max = 50): object 'x_dunif' not found\nTraceback:\n",
      "1. dunif(x_dunif, min = 10, max = 50)"
     ]
    }
   ],
   "source": [
    "range <- seq(10, 50, by = 0.001) # creating the range\n",
    "X_pdf <- dunif(x_dunif, min = 10, max = 50) # calculating the PDF of the variable X\n",
    "plot(X_pdf, type = \"l\") # plotting the PDF"
   ]
  },
  {
   "cell_type": "markdown",
   "id": "ae98f1ea-0e8b-44bd-accc-a442d788ca41",
   "metadata": {},
   "source": [
    "#### CDF"
   ]
  },
  {
   "cell_type": "markdown",
   "id": "362ad638",
   "metadata": {},
   "source": [
    "The `punif()` function calculates the uniform cumulative distribution function for the set of values."
   ]
  },
  {
   "cell_type": "code",
   "execution_count": 25,
   "id": "27b8e971",
   "metadata": {},
   "outputs": [
    {
     "data": {
      "image/png": "[encoded data removed]",
      "text/plain": [
       "plot without title"
      ]
     },
     "metadata": {
      "image/png": {
       "height": 420,
       "width": 420
      }
     },
     "output_type": "display_data"
    }
   ],
   "source": [
    "x_cdf <- punif(range,      # Vector of quantiles\n",
    "      min = 10,            # Lower limit of the distribution (a)\n",
    "      max = 50,            # Upper limit of the distribution (b)\n",
    "      lower.tail = TRUE,   # If TRUE, probabilities are P(X <= x), or P(X > x) otherwise\n",
    "      log.p = FALSE)       # If TRUE, probabilities are given as log\n",
    "plot(x_cdf, type = \"l\")"
   ]
  },
  {
   "cell_type": "markdown",
   "id": "9838fe70",
   "metadata": {},
   "source": [
    "The `qunif()` function calculates, based on the cumulative probability, where a specific value is located in the distribution of density and helps us access the quantile distribution probability values from the data."
   ]
  },
  {
   "cell_type": "code",
   "execution_count": 26,
   "id": "d534d898",
   "metadata": {},
   "outputs": [
    {
     "data": {
      "image/png": "[encoded data removed]",
      "text/plain": [
       "plot without title"
      ]
     },
     "metadata": {
      "image/png": {
       "height": 420,
       "width": 420
      }
     },
     "output_type": "display_data"
    }
   ],
   "source": [
    "quantiles <- seq(0, 1, by = 0.01)\n",
    "y_qunif <- qunif(quantiles, min = 10, max = 50)    \n",
    "plot(y_qunif, type = \"l\")"
   ]
  },
  {
   "cell_type": "markdown",
   "id": "f6aacdf4",
   "metadata": {},
   "source": [
    "### Normal (Gaussian) Distribution \n",
    "We first saw the normal distribution in the _Central Tendency notebook_ and we are now better equipped to understand its nuances. The normal distribution is a special type of distribution for a number of reasons: it is fundamental to many statistic processes. Many random variables in natural and social sciences are normally distributed. Height, birth weight or SAT scores all follow a normal distribution. \n",
    "\n",
    "This kind of distribution is referred to as \"normal\" because it's distribution is symmetrical and bell-shaped.  A normal distribution is **parameterized** by its mean $\\mu$  and its standard deviation $\\sigma$, and it is expressed as $N(\\mu,\\sigma)$. Without knowing the mean and the standard deviation one cannot calculate the normal distribution.\n",
    "\n",
    "The PDF has a complex equation, which can be written as:\n",
    "\n",
    "$$f(x; \\mu, \\sigma) = \\displaystyle \\frac{x^{-(x-\\mu)^{2}/(2\\sigma^{2})}}{\\sigma\\sqrt{2\\pi}}$$\n",
    "\n",
    "A **standard normal distribution** is is a special normal distribution, characterized for having a mean equal to zero and a standard deviation equal to 1 ($\\mu=0$  and  $\\sigma=1$). Hence, $N(0,1)$:\n",
    " - Standard normal variables are often denoted by $Z$\n",
    " - Usually, the standard normal PDF is denoted by  $\\phi$ and the standard normal CDF is denoted by $\\Phi$"
   ]
  },
  {
   "cell_type": "markdown",
   "id": "75dba0a1",
   "metadata": {},
   "source": [
    "To generate simulated normal random variables, we can use the `rnorm()`this function. It is similar to the `runif()` function we saw earlier:"
   ]
  },
  {
   "cell_type": "markdown",
   "id": "93ac7650-fb91-4c21-af34-8e2fd7ee3f95",
   "metadata": {},
   "source": [
    "#### Simulation"
   ]
  },
  {
   "cell_type": "code",
   "execution_count": 27,
   "id": "381b0419",
   "metadata": {},
   "outputs": [
    {
     "data": {
      "image/png": "[encoded data removed]",
      "text/plain": [
       "Plot with title “Histogram of x”"
      ]
     },
     "metadata": {
      "image/png": {
       "height": 420,
       "width": 420
      }
     },
     "output_type": "display_data"
    }
   ],
   "source": [
    " x <- rnorm(10000, # number of observations\n",
    "            mean = 0, # mean\n",
    "            sd = 1) # sd\n",
    " hist(x, probability=TRUE) # the command hist() creates a histogram using variable x,\n",
    " xx <- seq(min(x), max(x), length=100)\n",
    " lines(xx, dnorm(xx, mean=0, sd=1))"
   ]
  },
  {
   "cell_type": "markdown",
   "id": "644e520b-3e0e-4e02-be5e-fd28d2b93c62",
   "metadata": {},
   "source": [
    "#### PDF"
   ]
  },
  {
   "cell_type": "markdown",
   "id": "9bf83622-9a38-4933-a8b2-71b8342d6b2c",
   "metadata": {},
   "source": [
    "As with the uniform distribution, we can use `dnorm` to plot the standard normal pdf."
   ]
  },
  {
   "cell_type": "code",
   "execution_count": 28,
   "id": "ac3b89f7-513c-4b97-9da6-a4448fab43e5",
   "metadata": {},
   "outputs": [
    {
     "data": {
      "image/png": "[encoded data removed]",
      "text/plain": [
       "plot without title"
      ]
     },
     "metadata": {
      "image/png": {
       "height": 420,
       "width": 420
      }
     },
     "output_type": "display_data"
    }
   ],
   "source": [
    " # create a sequence of 100 equally spaced numbers between -4 and 4\n",
    " x <- seq(-4, 4, length=100)\n",
    "\n",
    " # create a vector of values that shows the height of the probability distribution\n",
    " # for each value in x\n",
    " y <- dnorm(x)\n",
    "\n",
    " # plot x and y as a scatterplot with connected lines (type = \"l\") and add\n",
    " # an x-axis with custom labels\n",
    " plot(x,y, type = \"l\", lwd = 2, axes = FALSE, xlab = \"\", ylab = \"\")\n",
    " axis(1, at = -3:3, labels = c(\"-3s\", \"-2s\", \"-1s\", \"mean\", \"1s\", \"2s\", \"3s\"))"
   ]
  },
  {
   "cell_type": "markdown",
   "id": "4cf8da75",
   "metadata": {},
   "source": [
    "We have used the random values generated to observe the bell shaped distribution of this random variable. As it can be seen in the graph, the mean is zero (that is where all the values converge) and the standard deviation is one therefore, this is a standard normal PDF. We can change the numbers of mean and sd in the `rnorm()` command to make the distribution not standard as well. \n",
    "\n",
    "#### CDF\n",
    "\n",
    "`pnorm()` - this function can give the entire CDF curve of a normally distributed random *variable* as well as give the probability of a normally distributed random *number* to be less than the value of a given number. "
   ]
  },
  {
   "cell_type": "code",
   "execution_count": 29,
   "id": "b0679279",
   "metadata": {},
   "outputs": [
    {
     "data": {
      "image/png": "[encoded data removed]",
      "text/plain": [
       "Plot with title “Standard Normal Cumulative Distribution Function”"
      ]
     },
     "metadata": {
      "image/png": {
       "height": 420,
       "width": 420
      }
     },
     "output_type": "display_data"
    }
   ],
   "source": [
    " curve(pnorm(x), \n",
    "       xlim = c(-3.5, 3.5), \n",
    "       ylab = \"Probability\", \n",
    "       main = \"Standard Normal Cumulative Distribution Function\")"
   ]
  },
  {
   "cell_type": "code",
   "execution_count": null,
   "id": "388f4b9f",
   "metadata": {},
   "outputs": [],
   "source": [
    " pnorm(27.4, mean=50, sd=20) # gives you the CDF at that specific location\n",
    " pnorm(27.4, 50, 20)"
   ]
  },
  {
   "cell_type": "markdown",
   "id": "23dc8765",
   "metadata": {},
   "source": [
    "The`qnorm()` function takes the density value and gives a number with a matching cumulative value. Therefore, `qnorm()` gives the the inverse of the CDF.\n",
    "`qnorm()` can also create a percent point function (ppf). A ppf is the inverse curve of the cumulative distribution function. The CDF of a specific value is the probability of a normally distributed value of a random variable to be less than the value of a **given number**. For the percent point function, we start with that probability and then compute the corresponding **given number** for the cumulative distribution. In other words the answer of `qnorm()` will be the number where the area before it is X% of the sample."
   ]
  },
  {
   "cell_type": "code",
   "execution_count": 30,
   "id": "1f1592a5",
   "metadata": {},
   "outputs": [
    {
     "data": {
      "image/png": "[encoded data removed]",
      "text/plain": [
       "Plot with title “Quantile (inverse CDF) Function”"
      ]
     },
     "metadata": {
      "image/png": {
       "height": 420,
       "width": 420
      }
     },
     "output_type": "display_data"
    }
   ],
   "source": [
    "  curve(qnorm(x), \n",
    "       xlim = c(0, 1), \n",
    "       xlab = \"Probability\",\n",
    "       ylab = \"x\", \n",
    "       main = \"Quantile (inverse CDF) Function\")"
   ]
  },
  {
   "cell_type": "code",
   "execution_count": 31,
   "id": "ff7c8afe",
   "metadata": {},
   "outputs": [
    {
     "data": {
      "text/html": [
       "124.672804404272"
      ],
      "text/latex": [
       "124.672804404272"
      ],
      "text/markdown": [
       "124.672804404272"
      ],
      "text/plain": [
       "[1] 124.6728"
      ]
     },
     "metadata": {},
     "output_type": "display_data"
    }
   ],
   "source": [
    " qnorm(0.95, mean=100, sd=15)"
   ]
  },
  {
   "cell_type": "markdown",
   "id": "f09c5699",
   "metadata": {},
   "source": [
    "Finally, the function `dnorm()` gives the height of the probability distribution at each point for a given mean and standard deviation. The height of the pdf curve is the density. This function can also be used to calculate the entire density curve, as observed in the command *lines(xx, dnorm(xx, mean=0, sd=1))*"
   ]
  },
  {
   "cell_type": "code",
   "execution_count": 32,
   "id": "7e02c63d",
   "metadata": {},
   "outputs": [
    {
     "data": {
      "text/html": [
       "0.0265961520267622"
      ],
      "text/latex": [
       "0.0265961520267622"
      ],
      "text/markdown": [
       "0.0265961520267622"
      ],
      "text/plain": [
       "[1] 0.02659615"
      ]
     },
     "metadata": {},
     "output_type": "display_data"
    }
   ],
   "source": [
    " dnorm(100, mean=100, sd=15)"
   ]
  },
  {
   "cell_type": "markdown",
   "id": "2e7eb377",
   "metadata": {},
   "source": [
    "### Student's $t$-Distribution "
   ]
  },
  {
   "cell_type": "markdown",
   "id": "8a667034",
   "metadata": {},
   "source": [
    "The **Student's $t$-distribution** is a continuous distribution that arises when estimating the sampling distribution of a normally distributed population in situations where the sample size is small and the population's standard deviation is unknown. This may seem esoteric, but it's actually really important: we will explore the concept of sampling distributions in a later module. \n",
    "\n",
    "The $t$-distribution is based on the number of observations and the degrees of freedom. A degree of freedom ($\\nu$) refers to the maximum number of logically independent values, which are values that have the freedom to vary, in the data sample. In other words, it is the number of values that need to be known in order to know all of the values. For example, imagine you have 3 values which have an average of 5. If you sample two of the values and they turn out to be 4, and 5, even without sampling the final value, there is no freedom in the last value.\n",
    "\n",
    "\n",
    "In the case of the $t$-distribution the degree(s) of freedom can be represented as $\\nu = n-1$, with $n$ being the sample size. When  $\\nu$  is large, the $t$-distribution begins to look like a standard normal distribution. This approximation between standard normal and $t$-distribution can start being noticed around $\\nu \\geq 30$."
   ]
  },
  {
   "cell_type": "markdown",
   "id": "eac19c01",
   "metadata": {},
   "source": [
    "As with the uniform and normal distribution, to generate random values that together have a t-distribution we add the prefix `r` to the name of the distribution, `rt()`."
   ]
  },
  {
   "cell_type": "markdown",
   "id": "c7e49f5c-d33e-4aab-90e9-d23ce99504c5",
   "metadata": {},
   "source": [
    "#### Simulation"
   ]
  },
  {
   "cell_type": "code",
   "execution_count": 33,
   "id": "58c7913d",
   "metadata": {},
   "outputs": [
    {
     "data": {
      "image/png": "[encoded data removed]",
      "text/plain": [
       "Plot with title “Histogram of samples”"
      ]
     },
     "metadata": {
      "image/png": {
       "height": 420,
       "width": 420
      }
     },
     "output_type": "display_data"
    }
   ],
   "source": [
    " n <- 100\n",
    " df <- n - 1\n",
    " samples <- rt(n, df)\n",
    " hist(samples,breaks = 20, freq = FALSE)\n",
    " xx <- seq(min(samples), max(samples), length=100)\n",
    " lines(xx, dt(xx, df))"
   ]
  },
  {
   "cell_type": "markdown",
   "id": "3f6fc885",
   "metadata": {},
   "source": [
    "A very interesting characteristic of the t-distribution that can be observed from this graph is that, although it is bell-shaped and symmetrical like the normal distribution, the t-distribution is not as thin as a normal distribution. That means that the data is more spread out than a normal distribution a characteristic which is explained by the central limit theorem (CLT) and law of large numbers (LLN), concepts that will be explained in a future module.\n",
    "\n",
    "#### PDF\n",
    "\n",
    "The function `dt()` calculates the PDF of a particular variable or the density of a particular value of a variable, depending on the sample size and degrees of freedom. In the examples shown below we will be using the variable `ex.tvalues` which is a sequence of numbers ranging from -4 to 4 with increments of 0.01. Therefore there are 800 numbers generated which means the degrees of freedom = 799."
   ]
  },
  {
   "cell_type": "code",
   "execution_count": null,
   "id": "52252e64",
   "metadata": {},
   "outputs": [],
   "source": [
    " ex.tvalues <- seq(- 4, 4, by = 0.01)  # generating a sequence of number \n",
    " ex_dt <- dt(ex.tvalues, df = 799) # calculating the PDF\n",
    " plot(ex_dt, type=\"l\")     "
   ]
  },
  {
   "cell_type": "markdown",
   "id": "5ad20bf4-87cb-44e1-8af1-6080d32703da",
   "metadata": {},
   "source": [
    "#### CDF"
   ]
  },
  {
   "cell_type": "markdown",
   "id": "f556a2bd",
   "metadata": {},
   "source": [
    "The `pt()` function calculates the entire CDF curve of a t-distributed random *variable* and gives the probability of a t-distributed random *number* that is less that the value of a given number. "
   ]
  },
  {
   "cell_type": "code",
   "execution_count": null,
   "id": "b757f7be",
   "metadata": {},
   "outputs": [],
   "source": [
    " ex_pt <- pt(ex.tvalues, df = 799)   # calculating CDF\n",
    " plot(ex_pt, type = \"l\") "
   ]
  },
  {
   "cell_type": "markdown",
   "id": "45ac827b",
   "metadata": {},
   "source": [
    "`qnorm()`- this function takes the probability value and gives a number whose cumulative value matches the probability value.\n",
    "`qnorm()` can also create a percent point function (ppf)."
   ]
  },
  {
   "cell_type": "code",
   "execution_count": null,
   "id": "4e562e40",
   "metadata": {},
   "outputs": [],
   "source": [
    " ex.qtvalues <- seq(0, 1, by = 0.01)  # generating a sequence of number \n",
    " ex_qt <- qt(ex.qtvalues, df = 99)  # calculating the ppf\n",
    " plot(ex_qt, type = \"l\") # plotting the ppf "
   ]
  },
  {
   "cell_type": "markdown",
   "id": "dd1806b3",
   "metadata": {},
   "source": [
    "Beyond these three common distributions, there are many other types of distributions which relatively accurately fit data. Examples include chi-square distribution or f-distribution. However, in rare cases, we may encounter variables for which we cannot fit a distribution. Perhaps the data is distributed sporadically and is not well approximated by any common distribution. In these cases, we describe it as a non-parametrical distribution."
   ]
  },
  {
   "cell_type": "markdown",
   "id": "e397d11e",
   "metadata": {},
   "source": [
    "## Part 3: Exercises\n"
   ]
  },
  {
   "cell_type": "markdown",
   "id": "22c3ec84-46b1-40c3-8be8-0c6e78cfae2c",
   "metadata": {},
   "source": [
    "### Exercise 12\n",
    "\n",
    "Which of the following random variables are most likely to be uniformally distributed.  \n",
    "  \n",
    "**A.** The height of a UBC student  \n",
    "**B.** The wages of a UBC student  \n",
    "**C.** The birthday of a UBC student  "
   ]
  },
  {
   "cell_type": "code",
   "execution_count": null,
   "id": "c83e682f-45dd-44ef-9281-34772a347c38",
   "metadata": {},
   "outputs": [],
   "source": [
    "# Enter your answer here as \"A\", \"B\", or \"C\"\n",
    "\n",
    "answer_12 <- \"...\"\n",
    "test_12(answer_12)"
   ]
  },
  {
   "cell_type": "markdown",
   "id": "823bdfe7-5fa8-4900-bf35-7ed9b05187e6",
   "metadata": {},
   "source": [
    "### Exercise 13\n",
    "\n",
    "Which of the following random variables are most likely to be normally distributed.  \n",
    "  \n",
    "**A.** The height of a UBC student   \n",
    "**B.** The grades of a particular course  \n",
    "**C.** The birthday of a UBC student    "
   ]
  },
  {
   "cell_type": "code",
   "execution_count": null,
   "id": "07ae7a9c-8273-4f0d-972f-aee358b35c19",
   "metadata": {
    "tags": []
   },
   "outputs": [],
   "source": [
    "# Enter your answer here as \"A\", \"B\", or \"C\"\n",
    "\n",
    "answer_13 <- \"...\"\n",
    "test_13(answer_13)"
   ]
  },
  {
   "cell_type": "markdown",
   "id": "db4e94d1-01aa-4349-8c9c-922540a0f09b",
   "metadata": {},
   "source": [
    "### Exercise 14\n",
    "\n",
    "Given our uniform distribution `example_unif`, find $F(72)$. Note that you don't need to calculate the exact probability given the distribution. To answer the question, you only need to know that this random variable is uniformly distributed for values between 10 and 100. "
   ]
  },
  {
   "cell_type": "code",
   "execution_count": 34,
   "id": "3df406c3-039b-4e4d-b371-5d9ff6634687",
   "metadata": {},
   "outputs": [
    {
     "name": "stdout",
     "output_type": "stream",
     "text": [
      "\u001b[32mTest passed\u001b[39m 😸\n",
      "[1] \"Success!\"\n"
     ]
    }
   ],
   "source": [
    "# Enter your answer as an integer below. Your answer should only have one decimal place. \n",
    "\n",
    "answer_14 <- ...\n",
    "test_14()"
   ]
  },
  {
   "cell_type": "markdown",
   "id": "06ab6be4-f6e3-43fa-b199-2109c4239191",
   "metadata": {},
   "source": [
    "### Exercise 15 \n",
    "\n",
    "Assume we have a standard normal distribution. Find $F(0)$"
   ]
  },
  {
   "cell_type": "code",
   "execution_count": null,
   "id": "b2118385-43d6-48b8-8dc9-7457ca49d38b",
   "metadata": {},
   "outputs": [],
   "source": [
    "# Enter your answer as an integer below. Your answer should only have one decimal place\n",
    "\n",
    "answer_15 <- ...\n",
    "test_15()"
   ]
  },
  {
   "cell_type": "markdown",
   "id": "f2cb3273-4fa6-4a19-8805-52c6ca6c2f91",
   "metadata": {},
   "source": [
    "### Exercise 16\n",
    "\n",
    "Let's assume we have a students $t-$distribtion that is nearly coincident to the corresponding normal distribution. What must be true?\n",
    "\n",
    "**A.** The degrees of freedom parameter must be very large.   \n",
    "**B.** The degrees of freedom parameter must be very small.  \n",
    "**C.** The degrees of freedom parameter must be equal to the mean of the normal distribution.   "
   ]
  },
  {
   "cell_type": "code",
   "execution_count": null,
   "id": "0a1fb239-8dc5-4df0-9931-eb7ba6984233",
   "metadata": {},
   "outputs": [],
   "source": [
    "# Enter your answer here as \"A\", \"B\", or \"C\"\n",
    "\n",
    "answer_16 <- \"...\"\n",
    "test_16(answer_16)"
   ]
  }
 ],
 "metadata": {
  "kernelspec": {
   "display_name": "R",
   "language": "R",
   "name": "ir"
  },
  "language_info": {
   "codemirror_mode": "r",
   "file_extension": ".r",
   "mimetype": "text/x-r-source",
   "name": "R",
   "pygments_lexer": "r",
   "version": "4.1.1"
  },
  "toc-showcode": false
 },
 "nbformat": 4,
 "nbformat_minor": 5
}
