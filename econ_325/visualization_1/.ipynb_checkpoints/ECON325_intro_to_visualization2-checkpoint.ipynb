{
 "cells": [
  {
   "cell_type": "markdown",
   "id": "06cfe40d-7d70-4ddc-ae95-d6232eb40610",
   "metadata": {},
   "source": [
    "# ECON 325: Introduction to Data Visualization II\n",
    "___\n",
    "\n",
    "## Authors\n",
    "___\n",
    "* Anneke Dresselhuis (anneked@student.ubc.ca)\n",
    "\n",
    "## Prerequisites\n",
    "___\n",
    "* Introduction to Jupyter\n",
    "* Introduction to R\n",
    "   * Be able to load data and packages in R\n",
    "   * Create variables and objects in R\n",
    "   * Be familiar with the general syntax of R commands\n",
    "* Introduction to Data Visualization I\n",
    "   "
   ]
  },
  {
   "cell_type": "markdown",
   "id": "6fbce72b-4f56-4562-821f-58b05eb0bbe0",
   "metadata": {},
   "source": [
    "## PART 4\n",
    "___\n",
    "* Additional Features (explain why each one is useful and situations to use it)\n",
    "    * Overlays\n",
    "    * Facets\n",
    "    * Positions\n",
    "    * Labels\n",
    "    * Axis Scales"
   ]
  }
 ],
 "metadata": {
  "kernelspec": {
   "display_name": "R",
   "language": "R",
   "name": "ir"
  },
  "language_info": {
   "name": ""
  }
 },
 "nbformat": 4,
 "nbformat_minor": 5
}
