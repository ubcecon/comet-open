{
  "cells": [
    {
      "cell_type": "markdown",
      "metadata": {},
      "source": [
        "# 0.3.1 - Introduction to Data in R - Part 1\n",
        "\n",
        "COMET Team <br> *Manas Mridul, Valeria Zolla, Colby Chamber, Colin\n",
        "Grimes, Jonathan Graves*  \n",
        "2023-01-12\n",
        "\n",
        "## Outline\n",
        "\n",
        "### Prerequisites\n",
        "\n",
        "-   Introduction to Jupyter\n",
        "-   Introduction to R\n",
        "\n",
        "### Outcomes\n",
        "\n",
        "After completing this notebook, you will be able to:\n",
        "\n",
        "-   Identify and understand the packages and commands needed to load,\n",
        "    manipulate, and combine data frames in R\n",
        "-   Load data using R in a variety of forms\n",
        "-   Create and reformat data, including transforming data into factor\n",
        "    variables\n",
        "\n",
        "### References\n",
        "\n",
        "-   [Introduction to Probability and Statistics Using\n",
        "    R](https://mran.microsoft.com/snapshot/2018-09-28/web/packages/IPSUR/vignettes/IPSUR.pdf)\n",
        "-   [DSCI 100 Textbook](https://datasciencebook.ca/index.html)\n",
        "\n",
        "## Introduction"
      ],
      "id": "68f9d3b1-82d2-4527-b559-adec0d96ffd1"
    },
    {
      "cell_type": "code",
      "execution_count": null,
      "metadata": {},
      "outputs": [],
      "source": [
        "# Run this cell\n",
        "source(\"getting_started_intro_to_data_tests.r\")"
      ],
      "id": "06e7f210-e6f8-4d3d-b052-aab43971ad46"
    },
    {
      "cell_type": "markdown",
      "metadata": {},
      "source": [
        "Drawing insights from data requires information to be presented in a way\n",
        "that is both interpretable to R and our audiences. However, before you\n",
        "can wrangle data sets, you need to ensure that they are clean. A *clean*\n",
        "data set means:\n",
        "\n",
        "1.  Observations where data for key variables are missing are removed or\n",
        "    stored in a different data set (e.g., `df_raw`). *Missing data* can\n",
        "    create bias in your analysis.\n",
        "2.  Data set is *tidy*, i.e., each row captures only one observation and\n",
        "    each column captures only one variable/characteristic of the\n",
        "    observation. Data scraped and collected manually or using automation\n",
        "    often comes in *untidy* shapes (e.g., two variables might be placed\n",
        "    in the same column separated with a hyphen `-`).\n",
        "\n",
        "In this notebook, we teach you how to load data sets properly in R and\n",
        "then clean them using some common methods from the `haven` and\n",
        "`tidyverse` packages.\n",
        "\n",
        "## Part 1: Introduction to data in R\n",
        "\n",
        "R needs to be provided with the appropriate packages to have access to\n",
        "the appropriate functions needed to interpret our raw data.\n",
        "\n",
        "`install.packages('package_name')` is used to install packages for the\n",
        "first time while `library(package_name)` is used to import the package\n",
        "into our notebook’s session run-time.\n",
        "\n",
        "Let’s get started by loading them now."
      ],
      "id": "7dbb978b-f92f-4266-9964-bf9d08649e44"
    },
    {
      "cell_type": "code",
      "execution_count": null,
      "metadata": {},
      "outputs": [],
      "source": [
        "# loading in our packages\n",
        "library(tidyverse)\n",
        "library(haven)"
      ],
      "id": "48a72347-d9eb-47ad-aaa6-3d33956464ab"
    },
    {
      "cell_type": "markdown",
      "metadata": {},
      "source": [
        "Researchers usually work with data stored in STATA, Excel, or\n",
        "comma-separated variables (CSV) files. The extension of a file tells us\n",
        "the file type we’re dealing with. For instance:\n",
        "\n",
        "-   `.dta` for a STATA data file\n",
        "-   `.csv` for a comma-separated variables file\n",
        "-   `.txt` for text files (stores data separated by white-space)\n",
        "\n",
        "In R, we import data with functions that specify the file names and\n",
        "types. These are the R functions used to import data from the most\n",
        "commons file types:"
      ],
      "id": "072bfb12-1b93-4378-8531-d0d510cd8829"
    },
    {
      "cell_type": "code",
      "execution_count": null,
      "metadata": {},
      "outputs": [],
      "source": [
        "# import csv files\n",
        "read_csv(\"file_name\")\n",
        "\n",
        "# import stata data files\n",
        "read_dta(\"file_name\")\n",
        "\n",
        "# import excel files\n",
        "read_excel(\"file_name\")\n",
        "\n",
        "# import text files\n",
        "read_table(\"file_name\", header = FALSE)"
      ],
      "id": "31a0fcaa-ef2e-4a1f-9702-1148904aac05"
    },
    {
      "cell_type": "markdown",
      "metadata": {},
      "source": [
        "To use the `read_dta` function you have to have the `haven` package\n",
        "installed and to use `read_excel` you have to have the package `readxl`\n",
        "installed.\n",
        "\n",
        "The `header` argument in the last function indicates whether the first\n",
        "row of the data represents the column names or not.\n",
        "\n",
        "### Cleaning data\n",
        "\n",
        "Cleaning our dataset might mean:\n",
        "\n",
        "1.  Loading the data into R by importing a local file or from the\n",
        "    internet and telling R how to interpret it.\n",
        "2.  Merging data frames from different sources, horizontally or\n",
        "    vertically, in order to be able to answer certain questions about\n",
        "    the populations.\n",
        "3.  Renaming variables, creating new variables and removing observations\n",
        "    where data for the new variables is missing.\n",
        "4.  Removing outliers or creating subsets of the data based on values\n",
        "    for different variables using `filter`, `select`, and other\n",
        "    reshaping methods in R.\n",
        "\n",
        "We now begin to clean the census data. Let’s redefine and factor some\n",
        "variables, create new ones, and drop missing observations.\n",
        "\n",
        "### Test your knowledge\n",
        "\n",
        "In this notebook, we will be working with data from the Canadian census\n",
        "which is stored in the folder `datasets` as the file\n",
        "`01_census2016.dta`.\n",
        "\n",
        "Which function should we use to load this file? Complete the name of the\n",
        "function below."
      ],
      "id": "c76a3a05-c6db-49d2-90bf-1c6f1f0dfff5"
    },
    {
      "cell_type": "code",
      "execution_count": null,
      "metadata": {},
      "outputs": [],
      "source": [
        "answer_1 <- \"read_...\"\n",
        "\n",
        "test_1()"
      ],
      "id": "2bf0b24a-fadd-4e85-8b52-cf65ee571360"
    },
    {
      "cell_type": "markdown",
      "metadata": {},
      "source": [
        "Did you get it? Okay, now replace the `???` in the code below with that\n",
        "function to load the data!"
      ],
      "id": "66b620da-0c62-4d3e-830e-6e255d4891bc"
    },
    {
      "cell_type": "code",
      "execution_count": null,
      "metadata": {},
      "outputs": [],
      "source": [
        "census_data <- ???(\"../datasets_getting_started/01_census2016.dta\") \n",
        "\n",
        "answer_2 <- census_data # don't change this!\n",
        "test_2()"
      ],
      "id": "9a1e282c-0f8f-483e-ba98-25c8417a975a"
    },
    {
      "cell_type": "code",
      "execution_count": null,
      "metadata": {},
      "outputs": [],
      "source": [
        "# inspecting the data\n",
        "glimpse(census_data)"
      ],
      "id": "043c4824-295b-4e60-b850-c6512e354ae8"
    },
    {
      "cell_type": "markdown",
      "metadata": {},
      "source": [
        "## Part 2: Factor variables\n",
        "\n",
        "As explained in *Intro to R*, R usually stores qualitative variables as\n",
        "**character** variables. However, they can also be stored as **factor**\n",
        "variables, used to map a (usually predetermined) set of responses to\n",
        "categorical values. In other words, factors encode the data so that the\n",
        "levels of the variable are represented by numeric codes. This process is\n",
        "useful because it streamlines data interpretation and analysis.\n",
        "\n",
        "Look at line `pr` in the output from `glimpse` above:\n",
        "\n",
        "    pr      <dbl+lbl> 35, 35, 11, 24, 35, 35, 35, 10, 35, 35, 59, 59, 46, 24, 59\n",
        "\n",
        "The `pr` variable in the Census data stands for province. Do these look\n",
        "much like Canadian provinces to you? We can see the variable type is\n",
        "`<dbl+lbl>`: this is a *labeled double*. Let’s transform this variable\n",
        "type into factors.\n",
        "\n",
        "There are three ways to change variables types into factor variables.\n",
        "\n",
        "1.  We can change a specific variable inside a dataframe to a factor by\n",
        "    using the `as_factor` command\n",
        "\n",
        "> **Note**: The operator `%>%` is called the pipe operator. It is used\n",
        "> to indicate the “next operation”. For example, you could read the code\n",
        "> below as: the final value will be assigned to object `census_data`;\n",
        "> the value should be calculated by (1) taking the data from\n",
        "> `census_data` and (2) mutating `pr` to `as_factor(pr)`. The pipe\n",
        "> operator indicates that we’re going from operation (1) to operation\n",
        "> (2)."
      ],
      "id": "c79aea3a-ff27-4544-82e1-400a7c0a7607"
    },
    {
      "cell_type": "code",
      "execution_count": null,
      "metadata": {},
      "outputs": [],
      "source": [
        "census_data <- census_data %>%  # overwrite the object census_data with `<-`\n",
        "    mutate(pr = as_factor(pr)) # use mutate function to update variable type (more on this later)\n",
        "\n",
        "glimpse(census_data)"
      ],
      "id": "d86addc1-b363-4821-ae7a-583c3110ea2f"
    },
    {
      "cell_type": "markdown",
      "metadata": {},
      "source": [
        "Do you see the difference in the `pr` variable now? Notice that the type\n",
        "has changed to `<fct>`, which stands for **factor**.\n",
        "\n",
        "R knows how to decode province names out of the `<dbl+lbl>` type\n",
        "variable because the `<dbl+lbl>` specification captures both the numeric\n",
        "code as `dbl` and the label as `lbl`.\n",
        "\n",
        "1.  We can **supply a list of factors** using the `factor` command. This\n",
        "    command takes three inputs:\n",
        "\n",
        "-   The variable we’re trying to convert\n",
        "-   A list of the codes the qualitative variable will take on (e.g.,\n",
        "    `35`, `11`, `24`, …)\n",
        "-   A list of labels corresponding to each of the codes (e.g.,\n",
        "    `\"Ontario\"`, `\"Prince Edward Island\"`, `\"Quebec\"`, …)\n",
        "\n",
        "Let’s take the variable `pkids` as an example. `pkids` stores whether\n",
        "the respondent has children or not. Let’s change the built-in labels to\n",
        "our own labels."
      ],
      "id": "d3c7e195-144d-4d48-8a19-2b99bbe440f4"
    },
    {
      "cell_type": "code",
      "execution_count": null,
      "metadata": {},
      "outputs": [],
      "source": [
        "# write a list of levels\n",
        "kids_levels = c(0,1,9)\n",
        "\n",
        "# write a list of our labels\n",
        "kids_labels = c('none', 'one_or_more', 'not_applicable')\n",
        "\n",
        "# apply the new level-label combinations to the data\n",
        "census_data <- census_data %>%  # overwrite the object census_data with `<-`\n",
        "    mutate(pkids = factor(pkids,   # notice the function is \"factor\", not \"as_factor\"\n",
        "                          levels = kids_levels, \n",
        "                          labels = kids_labels)) # mutate (update pkids) to be a factor of pkids\n",
        "glimpse(census_data)"
      ],
      "id": "c87897d9-5ad5-420e-b2af-1350b4dfb248"
    },
    {
      "cell_type": "markdown",
      "metadata": {},
      "source": [
        "Notice that now `pkids` has our customized factor labels.\n",
        "\n",
        "1.  We can use `as_factor` on the **entire dataset** to convert all of\n",
        "    the variables with appropriate types.\n",
        "\n",
        "> **Note**: `as_factor` will only match the levels (e.g., `35`, `11`,\n",
        "> `24`, …) to labels (e.g., `\"Ontario\"`, `\"Prince Edward Island\"`,\n",
        "> `\"Quebec\"`) if the variable is of `<dbl+lbl>` type."
      ],
      "id": "ac1c6d90-664f-4414-86e3-54c0d8d80df1"
    },
    {
      "cell_type": "code",
      "execution_count": null,
      "metadata": {},
      "outputs": [],
      "source": [
        "census_data <- as_factor(census_data)\n",
        "glimpse(census_data)"
      ],
      "id": "7d7a4f8f-2fb3-4055-b1ec-c9915aff2322"
    },
    {
      "cell_type": "markdown",
      "metadata": {},
      "source": [
        "Here is our final dataset, all cleaned up! Notice that some of the\n",
        "variables (e.g., `ppsort`) were *not* converted into factor variables.\n",
        "\n",
        "> **Think Deeper**: Can you tell why?\n",
        "\n",
        "### Creating new variables\n",
        "\n",
        "Another important clean-up task is to make new variables. The best way\n",
        "to create a new variables is using the `mutate` command.\n",
        "\n",
        "The `mutate` command is an efficient way of manipulating the columns of\n",
        "our data frame. We can use it to create new columns out of existing\n",
        "columns or with completely new inputs. The structure of the mutate\n",
        "command is as follows:\n",
        "\n",
        "    census_data <- census_data %>%\n",
        "            mutate(new_variable_name = function(...))\n",
        "\n",
        "It’s easier to understand with an example.\n",
        "\n",
        "When working with economic data, we usually deal with wages in\n",
        "logarithmic form. Let’s use `mutate` to create a new variable on the\n",
        "dataset for the log of wages."
      ],
      "id": "1b712d0e-fe9e-4732-ad87-de7d4f456803"
    },
    {
      "cell_type": "code",
      "execution_count": null,
      "metadata": {},
      "outputs": [],
      "source": [
        "census_data <- census_data %>% \n",
        "        mutate(log_wages = log(wages)) # we pass `wages` to the function `log()` to create log_wages\n",
        "\n",
        "glimpse(census_data)"
      ],
      "id": "76f30ac1-3a31-44cc-88b3-4732974f7165"
    },
    {
      "cell_type": "markdown",
      "metadata": {},
      "source": [
        "Do you see our new variable at the bottom? Nice!\n",
        "\n",
        "### Test your knowledge\n",
        "\n",
        "In the following code, what is (1) the name of the new variable created,\n",
        "(2) the inputs used to make the new variable, and (3) the function used\n",
        "to transform the inputs in the values of the new varible?\n",
        "\n",
        "1.  grade_adjusted, grade and 2, mutate\n",
        "2.  mutate, grade and 2, mutate\n",
        "3.  round, data, mutate\n",
        "4.  mutate, data, round\n",
        "5.  grade_adjusted, grade and 2, round\n",
        "6.  round, data, round"
      ],
      "id": "60884dc5-2b4c-464b-a234-7e803954ad68"
    },
    {
      "cell_type": "code",
      "execution_count": null,
      "metadata": {},
      "outputs": [],
      "source": [
        "data <- data %>%\n",
        "        mutate(grade_adjusted = round(grade,2))\n",
        "\n",
        "# enter your answer as \"A\", \"B\", \"C\", \"D\", \"E\", or \"F\"\n",
        "answer_3 <-\"...\"\n",
        "\n",
        "test_3()"
      ],
      "id": "875118cd-a212-442c-b376-eac9af943f47"
    },
    {
      "cell_type": "markdown",
      "metadata": {},
      "source": [
        "## Part 3: Functions\n",
        "\n",
        "We won’t cover a lot of complex functions in this notebook, but we will\n",
        "mention a very important one: the `case_when` function. This function\n",
        "acts like a combination of “if (…), then (…)” operators, creating\n",
        "different values for an input based on specified cases. You can read\n",
        "more about it by running the code block below."
      ],
      "id": "799fee4b-1fab-45a7-896d-0dbea2b4ad41"
    },
    {
      "cell_type": "code",
      "execution_count": null,
      "metadata": {},
      "outputs": [],
      "source": [
        "# use the helper function to read details of `case-when`\n",
        "# ?case_when"
      ],
      "id": "23a0f2bf-e9c7-4866-b7a1-3986ab542e29"
    },
    {
      "cell_type": "markdown",
      "metadata": {},
      "source": [
        "The `case_when()` function operates with the following parameters:\n",
        "\n",
        "-   The ‘case’, which is the condition that you’re checking for.\n",
        "\n",
        "-   The ‘value’, which is what you assign when that condition is met.\n",
        "\n",
        "Suppose we are working with the `pkids` variable and find it has three\n",
        "levels (`'none'`, `'one or more'`, `'not applicable'`). We are\n",
        "interested in creating a dummy variable which equals one if the\n",
        "respondent has children and zero otherwise. Let’s call this new variable\n",
        "`has_kids`.\n",
        "\n",
        "Here’s how you can use `case_when()` to achieve this:"
      ],
      "id": "c2ccee4b-5912-4734-9ec9-ebd259585ec4"
    },
    {
      "cell_type": "code",
      "execution_count": null,
      "metadata": {},
      "outputs": [],
      "source": [
        "census_data <- census_data %>%\n",
        "    mutate(has_kids = case_when( # use mutate to make a new variable called `has_kids`\n",
        "        pkids == \"none\" ~ 0, # case 1: when pkids is \"none\"; output is 0 (no kids)\n",
        "        pkids == \"one_or_more\" ~ 1, # case 2: when pkids is \"one or more\"; output is 1 (kids)\n",
        "        pkids == 'not_applicable' ~ 0)) # case 2: when pkids is \"not applicable\"; output is 0 (no kids) \n",
        "       \n",
        "\n",
        "glimpse (census_data)"
      ],
      "id": "f8a0219e-b69c-4fe4-ab4c-a5bac9ae06e5"
    },
    {
      "cell_type": "markdown",
      "metadata": {},
      "source": [
        "Notice that our new variable `has_kids` is not a factor variable. We\n",
        "must add on the appropriate line of codes to make it a factor.\n",
        "\n",
        "### Dummy Variables\n",
        "\n",
        "We might also want to use R to create dummy variables in our dataset.\n",
        "For example, suppose we want to create a variable that indicates whether\n",
        "the respondent is retired (dummy == 1) or not retired (dummy == 0). We\n",
        "can simply decode the data of the variable `agegrp`, which is currently\n",
        "a factor indicating the age of the respondent.\n",
        "\n",
        "Let’s start by taking a look at `agegrp`.\n",
        "\n",
        "`glimpse(census_data$agegrp)` tells us that `agegrp` is a factor\n",
        "variable with 22 levels. We can see the names of the levels with the\n",
        "function `levels()`."
      ],
      "id": "48b97edc-91ef-43ed-92f3-2f6cb53d742c"
    },
    {
      "cell_type": "code",
      "execution_count": null,
      "metadata": {},
      "outputs": [],
      "source": [
        "# inspect the data\n",
        "glimpse(census_data$agegrp)\n",
        "\n",
        "# understand levels\n",
        "levels(census_data$agegrp)"
      ],
      "id": "7ed6740b-f8e3-47cc-a6ee-9882d7741bd4"
    },
    {
      "cell_type": "markdown",
      "metadata": {},
      "source": [
        "We can now bunch together all levels that represent **ages 65 and\n",
        "above** (the retirement age) and assign such observations a value of 1\n",
        "(and 0 otherwise)."
      ],
      "id": "35a7c256-fd59-4485-8f09-ebf433837e37"
    },
    {
      "cell_type": "code",
      "execution_count": null,
      "metadata": {},
      "outputs": [],
      "source": [
        "census_data <- census_data %>% \n",
        "    mutate(retired = case_when(\n",
        "        (agegrp == \"65 to 69 years\")| # the vertical bar can be read as \"or\"\n",
        "        (agegrp == \"70 to 74 years\")|\n",
        "        (agegrp == \"75 to 79 years\")|\n",
        "        (agegrp == \"80 to 84 years\")|\n",
        "        (agegrp == \"85 years and over\") ~ 1, # the ~ separates the 'case' from the 'value'\n",
        "                               TRUE ~ 0)) %>% # use `TRUE` for the 'otherwise' condition\n",
        "    mutate(retired = as_factor(retired)) # make the variable a factor\n",
        "\n",
        "glimpse(census_data)"
      ],
      "id": "a12a58a4-6e17-42f1-a11a-3fd1cd6fff98"
    },
    {
      "cell_type": "markdown",
      "metadata": {},
      "source": [
        "> **To Remember:** To assign a default value on all cases that don’t\n",
        "> match your specified conditions, use TRUE as your last ‘case’. This\n",
        "> works because the condition TRUE will always be met if none of the\n",
        "> previous conditions are.\n",
        "\n",
        "### Test your knowledge\n",
        "\n",
        "Overwrite the existing `has_kids` variable with an new `has_kids`\n",
        "variable but with type factor.\n",
        "\n",
        "> **Hint**: To overwrite a variable create a new variable with the same\n",
        "> name as the name of the variable you want to ovewrite."
      ],
      "id": "8f6aff91-d296-4cc8-963f-fee68d06cd92"
    },
    {
      "cell_type": "code",
      "execution_count": null,
      "metadata": {},
      "outputs": [],
      "source": [
        "# use this cell to write your code"
      ],
      "id": "1995a5ab-ee67-439f-8b08-79a07d0b3a00"
    },
    {
      "cell_type": "code",
      "execution_count": null,
      "metadata": {},
      "outputs": [],
      "source": [
        "# run this cell to check your answer - don't change the code here!\n",
        "\n",
        "answer_4 <- class(census_data$has_kids)\n",
        "\n",
        "test_4()"
      ],
      "id": "f927ddd0-d2a8-42cb-adbd-d1ac093fa9c9"
    },
    {
      "cell_type": "markdown",
      "metadata": {},
      "source": [
        "Create a new dummy variable called `knows_english` for whether the\n",
        "respondent speaks english (dummy == 1) or not (dummy == 0). Use data\n",
        "from the variable `kol` and assign the updated data frame to the object\n",
        "`answer_4`."
      ],
      "id": "40614101-9992-47d7-a256-1966cda0f880"
    },
    {
      "cell_type": "code",
      "execution_count": null,
      "metadata": {},
      "outputs": [],
      "source": [
        "#Run this first:\n",
        "glimpse(census_data$kol)\n",
        "levels(census_data$kol)"
      ],
      "id": "e586b0c1-89d5-4872-9148-c6b247495779"
    },
    {
      "cell_type": "code",
      "execution_count": null,
      "metadata": {},
      "outputs": [],
      "source": [
        "# don't forget to factorize your new variable!\n",
        "\n",
        "answer_5 <- census_data %>% \n",
        "    mutate(... = case_...(\n",
        "        (kol == ...)|\n",
        "        (... == ...) ~ ..., \n",
        "            TRUE ~ ...)) %>% \n",
        "    mutate(... = ...(...)) \n",
        "\n",
        "test_5()"
      ],
      "id": "70bb22db-def8-43e5-acec-6a955c5ec2d4"
    },
    {
      "cell_type": "markdown",
      "metadata": {},
      "source": [
        "### Conclusion\n",
        "\n",
        "In this notebook, we learned how to load and manipulate data using\n",
        "various R packages and commands. You also learned how to factor\n",
        "variables and create dummies to meet the needs of your statistical\n",
        "research.\n",
        "\n",
        "Don’t hesitate to come back to this notebook and apply what you’ve\n",
        "learned here to new data sets. You may now proceed to Part 2 on Intro to\n",
        "Data."
      ],
      "id": "7bb88d51-9b79-4055-a31d-b0559eeda17a"
    }
  ],
  "nbformat": 4,
  "nbformat_minor": 5,
  "metadata": {
    "kernelspec": {
      "name": "ir",
      "display_name": "R",
      "language": "r"
    }
  }
}