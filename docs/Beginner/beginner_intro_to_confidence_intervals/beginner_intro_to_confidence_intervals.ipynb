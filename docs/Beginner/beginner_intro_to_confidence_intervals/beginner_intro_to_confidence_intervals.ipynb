{
  "cells": [
    {
      "cell_type": "markdown",
      "metadata": {},
      "source": [
        "# 1.3.1 - Beginner - Introduction to Confidence Intervals\n",
        "\n",
        "COMET Team <br> *Mridul Manas*  \n",
        "2023-07-20\n",
        "\n",
        "## Outline\n",
        "\n",
        "### Prerequisites\n",
        "\n",
        "-   Introduction to Jupyter\n",
        "-   Introduction to R\n",
        "\n",
        "### Outcomes\n",
        "\n",
        "In this notebook, you will learn about:\n",
        "\n",
        "-   What Confidence Intervals are and why they are useful for drawing\n",
        "    inferential claims about the populations of interest.\n",
        "\n",
        "-   How to compute a Confidence Interval for chosen level of confidence\n",
        "    for estimating true population parameters such as the mean.\n",
        "\n",
        "-   What the different methods commonly used for the construction of\n",
        "    Confidence Intervals are, namely the analytical method, the sampling\n",
        "    method, and the bootstrapped sampling method.\n",
        "\n",
        "To begin, run the code cell below."
      ],
      "id": "ddbdf957-5a28-47de-9efb-bcf65831bb10"
    },
    {
      "cell_type": "code",
      "execution_count": null,
      "metadata": {},
      "outputs": [],
      "source": [
        "# Run this cell\n",
        "\n",
        "source(\"beginner_intro_to_confidence_intervals_tests.R\")"
      ],
      "id": "75dfbf4a-27b8-4d38-b209-89e6b06548c5"
    },
    {
      "cell_type": "code",
      "execution_count": null,
      "metadata": {},
      "outputs": [],
      "source": [
        "#Import the required packages for this tutorial:\n",
        "library(dplyr)\n",
        "library(ggplot2)"
      ],
      "id": "012d6fdb-f307-4323-b355-01e1e4cc02ed"
    },
    {
      "cell_type": "markdown",
      "metadata": {},
      "source": [
        "### 1. Introduction to Confidence Intervals for the Population Mean\n",
        "\n",
        "A confidence interval shows how likely it is that a range based on a\n",
        "sample of a population contains the “true” mean for the entire\n",
        "population of interest. The formula for computing a 95% Confidence\n",
        "Interval for the population mean is as follows:\n",
        "\n",
        "$$\n",
        "\\text{95% Confidence Interval} = \\bar{x} \\pm \\text{Critical Value} \\times \\text{Standard Error}\n",
        "$$ Here, $\\bar{x}$ is the sample mean, or the *point estimate*, obtained\n",
        "from a single randomly drawn sample from the population.\n",
        "\n",
        "The $\\text{Standard Error}$ is computed as$\\frac{\\sigma}{\\sqrt{n}$,\n",
        "serving as a measure of variability for sample means. In other words, if\n",
        "we had to obtain all possible samples from the population and calculate\n",
        "their means, the Standard Error will capture the variability of such\n",
        "sample means around the *mean of the sample means*. Later, we’ll try to\n",
        "explain the concept of distribution of sample means or the sampling\n",
        "distribution of sample means since it is a crucial underlying concept\n",
        "here!\n",
        "\n",
        "The Critical Value is a “quantile” value obtained typically from the\n",
        "Standard Normal Distribution (Mean 0, SD 1) such that approximately 95%\n",
        "of the values lie below it. This is often called the Z-score, as denoted\n",
        "below:\n",
        "\n",
        "$$\n",
        "z_{\\alpha/2} = qnorm(1 - \\alpha/2, mean = 0, sd = 1)\n",
        "$$\n",
        "\n",
        "The subscript under $z$ represents the tail probabilities in a standard\n",
        "normal distribution ($z$). The value of $\\alpha$ represents the\n",
        "significance level, often denoted as $1 - \\text{Confidence\n",
        "Interval}$."
      ],
      "id": "addc9064-9dfd-40d8-8fee-b03cfe67a9fa"
    },
    {
      "cell_type": "code",
      "execution_count": null,
      "metadata": {},
      "outputs": [],
      "source": [
        "#RUN THIS CELL BEFORE CONTINUING\n",
        "library(ggplot2)\n",
        "\n",
        "# Significance level (alpha)\n",
        "alpha <- 0.05\n",
        "\n",
        "# Calculate the critical value for a two-tailed 95% confidence interval\n",
        "z_critical <- qnorm(1 - alpha / 2, mean = 0, sd = 1)\n",
        "\n",
        "# Create a sequence of x values for the standard normal curve\n",
        "x <- seq(-3, 3, length.out = 1000)\n",
        "\n",
        "# Calculate the standard normal probability density function\n",
        "pdf <- dnorm(x, mean = 0, sd = 1)\n",
        "\n",
        "# Create the plot\n",
        "ggplot(data.frame(x), aes(x = x)) +\n",
        "  geom_line(aes(y = pdf), color = \"blue\", size = 1.5) +\n",
        "  geom_vline(xintercept = z_critical, color = \"red\", linetype = \"dashed\") +\n",
        "  geom_vline(xintercept = -z_critical, color = \"red\", linetype = \"dashed\") +\n",
        "  annotate(\"text\", x = z_critical + 0.1, y = 0.25, label = \"α/2\", color = \"red\") +\n",
        "  annotate(\"text\", x = -z_critical - 0.5, y = 0.25, label = \"α/2\", color = \"red\") +\n",
        "  labs(x = \"Z\", y = \"Probability Density\", title = \"Two-Tailed 95% Confidence Interval\") +\n",
        "  theme_minimal()"
      ],
      "id": "cdb01de1-0a1b-4024-aa5f-cb7f81b08716"
    },
    {
      "cell_type": "markdown",
      "metadata": {},
      "source": [
        "In a 95% Confidence Interval, $\\alpha$ is $1 - 0.95 = 0.05$ and the\n",
        "critical value $z_{\\frac{\\alpha}{2}}$ corresponds to the point beyond\n",
        "which the area in the tail is $\\alpha/2$, leaving the central 95% area\n",
        "under the standard normal curve.\n",
        "\n",
        "We use the `qnorm()` function in R to generate Z-scores for the chosen\n",
        "level of significance:"
      ],
      "id": "f5e11f98-736a-407b-88fa-5e6bfdfcc6db"
    },
    {
      "cell_type": "code",
      "execution_count": null,
      "metadata": {},
      "outputs": [],
      "source": [
        "#defining some params for our use\n",
        "conf.level = 0.95\n",
        "alpha = 1 - conf.level \n",
        "\n",
        "qnorm(1 - alpha/2, mean = 0, sd = 1)"
      ],
      "id": "26a29261-0237-42ca-bc8f-48d1991b4eae"
    },
    {
      "cell_type": "markdown",
      "metadata": {},
      "source": [
        "or simply,"
      ],
      "id": "abbe5e90-32ce-428b-a14a-450055db8f92"
    },
    {
      "cell_type": "code",
      "execution_count": null,
      "metadata": {},
      "outputs": [],
      "source": [
        "qnorm(0.975, mean = 0, sd = 1)"
      ],
      "id": "bfbef989-a538-479c-92fa-004c1dcfb018"
    },
    {
      "cell_type": "markdown",
      "metadata": {},
      "source": [
        "In general, This means $P(Y \\leq 1.96) = 0.975$ and\n",
        "$P(Y \\leq -1.96) = 0.025$ where $Y \\sim N(0,1)$. Thus,\n",
        "$P(-1.96 < Y < 1.96) = 0.95$ or 95%.\n",
        "\n",
        "Notice the symmetry of the Standard Normal Distribution. This is the\n",
        "reason why we only have to compute the Z-score once, using the\n",
        "right-hand side critical value (below which 97.5% value lie). We then\n",
        "multiply this with the Standard Error and ADD to the point estimate to\n",
        "get the upper bound for the C.I. We can then subtract the same Z-score\n",
        "(after multiplying with the Standard Error) from the sample mean to get\n",
        "the lower bound of the Confidence Interval.\n",
        "\n",
        "Just like we rarely ever know the true population means, knowing the\n",
        "true population standard deviation is quite rare. It is common practice\n",
        "to use the sample standard deviation, or $s$, to calculate the Standard\n",
        "Error as $\\frac{s}{\\sqrt{n}}$.\n",
        "\n",
        "In the case population standard deviations are unknown, the critical\n",
        "values must be drawn from the $t$-distribution and not the Normal\n",
        "Distribution. We use the `qt()` function in R to obtain the quantile\n",
        "values under the $t$-distribution with specified degrees of freedom.\n",
        "\n",
        "$$\n",
        "t_{n-1, \\alpha/2} = qt(1 - \\alpha/2,df=n-1)\n",
        "$$"
      ],
      "id": "1a9140ea-205a-4f91-aa66-b66582c89d79"
    },
    {
      "cell_type": "code",
      "execution_count": null,
      "metadata": {},
      "outputs": [],
      "source": [
        "sample_size <- 15\n",
        "degrees_of_freedom <- sample_size - 1 #degrees of freedom of a t-distribution is equal to the sample size minus 1\n",
        "\n",
        "qt(0.975, df = degrees_of_freedom)"
      ],
      "id": "5b167344-1ddb-4240-b0c1-3d6516b19659"
    },
    {
      "cell_type": "markdown",
      "metadata": {},
      "source": [
        "This means $P(Y \\leq 1.76) = 0.975$ and $P(Y \\leq -1.76) = 0.025$ where\n",
        "$Y \\sim \\text{t}_{n-1}$. Thus, $P(-1.76 < Y < 1.76) = 0.95$ or 95%.\n",
        "\n",
        "> For higher degrees of freedom (hence, higher sample sizes) the\n",
        "> \\$t\\$-distribution does a better job of approximating the normal\n",
        "> distribution. In general, the t-distribution will mimic the\n",
        "> bell-shaped nature of the normal distribution but will have fatter or\n",
        "> thicker tails.\n",
        "\n",
        "Let’s summarize the assumptions, requirements and appropriate methods\n",
        "for calculating Confidence Intervals:\n",
        "\n",
        "-   If population standard deviation \\$\\sigma\\$ is known and sample size\n",
        "    is above 30, obtain the critical value from the standard normal\n",
        "    distribution (z-score) and calculate the 95% Confidence Interval as:\n",
        "\n",
        "    $$\n",
        "    \\bar{x} \\pm qnorm(0.975, mean = 0, sd = 1) \\times \\frac{\\sigma}{\\sqrt{n}}\n",
        "    $$\n",
        "\n",
        "-   If population standard deviation is known but the sample size is\n",
        "    small (ie. below than 30), *approximate* the critical value using\n",
        "    the t-distribution (t-score) and calculate the 95% Confidence\n",
        "    Interval as:\n",
        "\n",
        "    $$\n",
        "    \\bar{x} \\pm qt(0.975, df = (n-1)) \\times \\frac{\\sigma}{\\sqrt{n}}\n",
        "    $$\n",
        "\n",
        "-   If the standard deviation of the population is unknown and the\n",
        "    sample size is **large** (ie. above 30), obtain the critical value\n",
        "    using the standard normal distribution (ie. get a Z-score) and\n",
        "    calculate the 95% Confidence Interval as:\n",
        "\n",
        "    $$\n",
        "    \\bar{x} \\pm qnorm(0.975, mean = 0, sd = 1) \\times \\frac{s}{\\sqrt{n}}\n",
        "    $$\n",
        "\n",
        "-   If the population standard deviation, \\$\\sigma\\$, is unknown and the\n",
        "    sample size is small (below 30), **but guaranteed the population is\n",
        "    normally distributed**, *approximate* the critical value using the\n",
        "    $t$-distribution (t-score) and calculate the 95% Confidence Interval\n",
        "    as:\n",
        "\n",
        "    $$\n",
        "    \\bar{x} \\pm qt(0.975, df = (n-1)) \\times \\frac{s}{\\sqrt{n}}\n",
        "    $$\n",
        "\n",
        "### 1.1 95% Confidence Intervals for Reading Comprehension Scores\n",
        "\n",
        "A teacher is interested in knowing if Grade 8 students are meeting the\n",
        "expectations for reading ability set by the governing body of the\n",
        "country.\n",
        "\n",
        "She nominates 15 randomly chosen students who then take a standardized\n",
        "reading and comprehension exam. The average score for this sample of 15\n",
        "students is 17 out of 32 and the sample standard deviation is 4.2.\n",
        "\n",
        "Suppose the reading comprehension scores for *all* students in the\n",
        "country are known to be normally distributed. Which distribution should\n",
        "be used to calculate the Critical Value for 95% Confidence Intervals:\n",
        "\n",
        "A: The Standard Normal Distribution (ie. obtain the Z-score)\n",
        "\n",
        "B: The \\$t\\$-distribution (ie. obtain the t-score)"
      ],
      "id": "756a0e11-ed6f-4575-9a2b-40b9feaadf64"
    },
    {
      "cell_type": "code",
      "execution_count": null,
      "metadata": {},
      "outputs": [],
      "source": [
        "# which distribution should we use?\n",
        "answer_1.1 <- \"\" #Type either A or B here\n",
        "test_1.1()"
      ],
      "id": "418a36aa-f25f-43e8-b5e5-e12d64d4333e"
    },
    {
      "cell_type": "code",
      "execution_count": null,
      "metadata": {
        "tags": "question"
      },
      "outputs": [],
      "source": [
        "# which distribution should we use?\n",
        "answer_1.1 <- \"\" #Type either A or B here\n",
        "test_1.1()"
      ],
      "id": "065f6d86-24ae-4917-bc9c-d45ddee43f62"
    },
    {
      "cell_type": "markdown",
      "metadata": {},
      "source": [
        "Suppose the teacher now nominates a bigger sample of 45 students\n",
        "randomly chosen to sit for the exam. The governing body has also\n",
        "announced that the national scores are normally distributed with a\n",
        "population standard deviation of 3.\n",
        "\n",
        "The teacher’s sample of students on average score 18 (out of 32) with a\n",
        "standard deviation of 5. Now use the appropriate function in R (`qnorm`\n",
        "or `qt`) to calculate a 95% Confidence Interval for Mean Reading &\n",
        "Comprehension Score for the entire class:"
      ],
      "id": "0321bb7a-6fb0-489d-a6cc-4f723d5a87b6"
    },
    {
      "cell_type": "code",
      "execution_count": null,
      "metadata": {},
      "outputs": [],
      "source": [
        "# use the correct function and formula to calculate the lower and upper bounds of the interval. Think about what 1 - alpha/2 will be.\n",
        "\n",
        "lower_ci <-  # REPLACE 5 WITH THE CORRECT CODE FOR THE LOWER BOUND\n",
        "upper_ci <-  # REPLACE 10 WITH THE CORRECT CODE FOR THE UPPER BOUND\n",
        "\n",
        "answer_1.2 <- tibble(lower_ci = lower_ci, upper_ci = upper_ci)\n",
        "test_1.2()"
      ],
      "id": "2264a25d-b46a-44c7-931a-fd6ff8925bf2"
    },
    {
      "cell_type": "code",
      "execution_count": null,
      "metadata": {
        "tags": "question"
      },
      "outputs": [],
      "source": [
        "# use the correct function and formula to calculate the lower and upper bounds of the interval. Think about what 1 - alpha/2 will be.\n",
        "\n",
        "lower_ci <- 5 # REPLACE 5 WITH THE CORRECT CODE FOR THE LOWER BOUND\n",
        "upper_ci <- 5 # REPLACE 10 WITH THE CORRECT CODE FOR THE UPPER BOUND\n",
        "\n",
        "answer_1.2 <- tibble(lower_ci = round(lower_ci, 2), upper_ci = round(upper_ci, 2))\n",
        "test_1.2()"
      ],
      "id": "6d5f5a92-fe7b-4287-91fb-99058b5912ad"
    },
    {
      "cell_type": "code",
      "execution_count": null,
      "metadata": {},
      "outputs": [],
      "source": [
        "confidence_interval_analytical <- tibble(lower_ci = 17.26, upper_ci = 18.74)\n",
        "confidence_interval_analytical"
      ],
      "id": "6993f825-3a3c-42b3-b394-d4f1062db45a"
    },
    {
      "cell_type": "markdown",
      "metadata": {},
      "source": [
        "The teacher using the bigger sample obtains the 95% Confidence Interval:\n",
        "(17.2644, 18.7356). She interprets this in the following two ways:\n",
        "\n",
        "-   She is 95% confident that the true average reading and comprehension\n",
        "    score for the entire class of Grade 8 students is between 17.2644\n",
        "    and 18.7356.\n",
        "\n",
        "-   If she drew samples repeatedly from the population of Grade 8\n",
        "    students at her school and calculated 95% confidence intervals using\n",
        "    the same methodology, then 95% of such confidence intervals would\n",
        "    capture the true mean score for all Grade 8 students at the school.\n",
        "\n",
        "Note how the first interpretation allows the teacher to infer if her\n",
        "students are performing at par with the nation. For example, if the\n",
        "national average score is 18, which is contained within the 95%\n",
        "Confidence Interval, she cannot be certain if all of the students on\n",
        "average are performing better since the interval includes values below\n",
        "18.\n",
        "\n",
        "She should try increasing the sample size, which in turn will cause the\n",
        "Standard Error of the point estimate to be lower, thus decreasing the\n",
        "*width* of the Confidence Interval helping her obtain more precise\n",
        "estimates for the true mean score for the entire class.\n",
        "\n",
        "Obviously, the best approach would be to ask all Grade 8 students at the\n",
        "school to sit for the exam and get the true mean score for all students.\n",
        "However, this can be both costly and time consuming arguing in favor of\n",
        "using small samples to *infer* claims about the population of Grade 8\n",
        "students at the school and their reading and comprehension abilities!\n",
        "\n",
        "### 2. Simulating the Sampling Distribution of Sample Means\n",
        "\n",
        "You must have noticed that Confidence Intervals are always *centered*\n",
        "around the sample mean or the point estimate obtained from the\n",
        "population. When we construct a confidence interval, we’re determining a\n",
        "range around the sample mean within which we’re confident the population\n",
        "parameter lies. This range is influenced by the variability of the\n",
        "sample statistic as indicated by the standard error.\n",
        "\n",
        "The Standard Error describes the variability of sample means around its\n",
        "mean. This implies two things: there must a distribution of sample means\n",
        "and that this distribution must have a mean/center, called the *mean of\n",
        "sample means*!\n",
        "\n",
        "Let’s use R to *simulate* the distribution of sample means."
      ],
      "id": "dcb876c2-d9fc-4149-beff-61fc0717e874"
    },
    {
      "cell_type": "code",
      "execution_count": null,
      "metadata": {},
      "outputs": [],
      "source": [
        "# Set the random seed for reproducibility\n",
        "set.seed(123) #DON'T CHANGE\n",
        "\n",
        "# Generate 500 reading scores from a normal distribution\n",
        "reading_scores <- data.frame(scores = rnorm(n = 500, mean = 17.5, sd = 3)) %>%\n",
        "  mutate(scores = round(scores, 2))\n",
        "\n",
        "head(reading_scores$scores)"
      ],
      "id": "8775bcc7-1a4a-485c-9b9f-d5a340bcc16b"
    },
    {
      "cell_type": "markdown",
      "metadata": {},
      "source": [
        "`reading_scores$scores` is a vector containing the true reading and\n",
        "comprehension scores of *all 500 Grade 8 students at a school XYZ*.\n",
        "\n",
        "Next, we’ll draw 1000 samples repeatedly from the population of size 50\n",
        "each."
      ],
      "id": "b7f3de64-702a-41d9-964d-4189048e1523"
    },
    {
      "cell_type": "code",
      "execution_count": null,
      "metadata": {},
      "outputs": [],
      "source": [
        "num_samples <- 1000\n",
        "samples <- data.frame(sample_id = c(), scores = c())\n",
        "\n",
        "for (i in 1:num_samples) {\n",
        "  sample_id <- i\n",
        "  sample_scores <- sample(reading_scores$scores, size = 50, replace = TRUE)\n",
        "  \n",
        "  to_add <- data.frame(sample_id = sample_id, scores = sample_scores)\n",
        "  \n",
        "  samples <- rbind(samples, to_add)\n",
        "}\n",
        "\n",
        "\n",
        "head(samples)"
      ],
      "id": "9c956ab3-1202-424f-b8d2-45535de3cfeb"
    },
    {
      "cell_type": "markdown",
      "metadata": {},
      "source": [
        "We chose to draw 1000 samples repeatedly but think about the fact that\n",
        "there are indeed *infinite* number of samples that we could have really\n",
        "drawn from the population with replacement!\n",
        "\n",
        "To obtain the distribution of sample means, we will first calculate the\n",
        "sample mean for each of the 1000 samples."
      ],
      "id": "e6f47571-b3f3-4f08-a6b4-8c276003de90"
    },
    {
      "cell_type": "code",
      "execution_count": null,
      "metadata": {},
      "outputs": [],
      "source": [
        "sampling_dist_mean_scores <- samples %>% group_by(sample_id) %>%\n",
        "  summarise(sample_mean = mean(scores))\n",
        "\n",
        "head(sampling_dist_mean_scores, 10)"
      ],
      "id": "9a1e579a-cc6a-411b-b2e4-b7641a73f9c1"
    },
    {
      "cell_type": "markdown",
      "metadata": {},
      "source": [
        "Let’s now plot these sample means as a distribution:"
      ],
      "id": "4b7952a9-758e-4311-a203-54f20402676a"
    },
    {
      "cell_type": "code",
      "execution_count": null,
      "metadata": {},
      "outputs": [],
      "source": [
        "sampling_dist_plot <- sampling_dist_mean_scores %>%\n",
        "  ggplot(aes(x = sample_mean)) +\n",
        "  geom_density(fill = \"lightblue\") +\n",
        "  geom_vline(xintercept = mean(sampling_dist_mean_scores$sample_mean)) +\n",
        "  ggtitle(\"Sampling Distribution of Sample Average Scores (n = 50)\") +\n",
        "  xlab(\"Average Score from Sample\") +\n",
        "  ylab(\"Density\")\n",
        "\n",
        "sampling_dist_plot"
      ],
      "id": "a1a9032d-fb4f-4cdd-b70d-6fe7b40fe05c"
    },
    {
      "cell_type": "markdown",
      "metadata": {},
      "source": [
        "The black line marks the mean of the sampling distribution (mean of mean\n",
        "scores) which is equal to 17.61.\n",
        "\n",
        "Let’s now compare the means of the population with the mean of the\n",
        "sampling distribution:"
      ],
      "id": "3319f5d7-26bd-4901-b65c-c3a260939c06"
    },
    {
      "cell_type": "code",
      "execution_count": null,
      "metadata": {},
      "outputs": [],
      "source": [
        "pop_mean <- mean(reading_scores$scores)\n",
        "sampling_dist_mean <- mean(sampling_dist_mean_scores$sample_mean)\n",
        "\n",
        "tibble(pop_mean = pop_mean, sampling_dist_mean = sampling_dist_mean)"
      ],
      "id": "d1bd5bac-065b-406b-ae8e-e45c94aca055"
    },
    {
      "cell_type": "markdown",
      "metadata": {},
      "source": [
        "Note how similar the two means are! It is an important concept in\n",
        "Statistics that the actual sampling distribution of the sample means\n",
        "will be centered approximately at the mean of the population from which\n",
        "it was drawn from.\n",
        "\n",
        "The standard deviation of the sample average scores is:"
      ],
      "id": "18e633a9-1513-456c-ab32-50803ff8613c"
    },
    {
      "cell_type": "code",
      "execution_count": null,
      "metadata": {},
      "outputs": [],
      "source": [
        "sd_sampling_dist <- sd(sampling_dist_mean_scores$sample_mean)\n",
        "pop_sd <- sd(reading_scores$scores)\n",
        "\n",
        "tibble(sd_sampling_dist = sd_sampling_dist, pop_sd = pop_sd)"
      ],
      "id": "7d56ba56-3b81-4f1e-a1c4-8e09da9a4381"
    },
    {
      "cell_type": "code",
      "execution_count": null,
      "metadata": {},
      "outputs": [],
      "source": [
        "2.918379/(sqrt(50))"
      ],
      "id": "890baf74-6495-4861-985e-733c3755e8dd"
    },
    {
      "cell_type": "markdown",
      "metadata": {},
      "source": [
        "These two are different but observe that:\n",
        "\n",
        "$$\n",
        "\\frac{\\text{pop_sd}}{\\sqrt{n}} = \\frac{2.918379}{\\sqrt{50}} \\approx 0.4127211 \\approx \\text{sd_sampling_dist}\n",
        "$$\n",
        "\n",
        "As you might recall, we popularly use $\\frac{\\sigma}{\\sqrt{n}}$ to\n",
        "compute the Standard Error for the Confidence Interval, which is\n",
        "actually the standard deviation of the sampling distribution of sample\n",
        "means.\n",
        "\n",
        "Now consider again the distribution of sample estimates we had generated\n",
        "from the population:"
      ],
      "id": "6614fc94-788d-4887-9e0f-f0ca002aed29"
    },
    {
      "cell_type": "code",
      "execution_count": null,
      "metadata": {},
      "outputs": [],
      "source": [
        "head(sampling_dist_mean_scores)"
      ],
      "id": "20ed410e-07d7-40c3-9d57-abe65397f582"
    },
    {
      "cell_type": "markdown",
      "metadata": {},
      "source": [
        "Learn that if we had to compute the 97.5th and 2.5th percentile values\n",
        "of the vector `sample_mean`, such a range would also be considered a 95%\n",
        "Confidence Interval."
      ],
      "id": "ad1cbf8e-858e-4a46-8c81-ecc3c3c6479b"
    },
    {
      "cell_type": "code",
      "execution_count": null,
      "metadata": {},
      "outputs": [],
      "source": [
        "lower_ci <- quantile(sampling_dist_mean_scores$sample_mean, 0.025)\n",
        "upper_ci <- quantile(sampling_dist_mean_scores$sample_mean, 0.975)\n",
        "\n",
        "conf_interval <- tibble(lower_ci = lower_ci, upper_ci = upper_ci)\n",
        "conf_interval"
      ],
      "id": "e64d9725-412e-4a7c-9bd8-650bf71ae2c3"
    },
    {
      "cell_type": "markdown",
      "metadata": {},
      "source": [
        "Hence, this is a valid 95% Confidence Interval generated by taking\n",
        "repeated samples (total 1000 of size 50) out of the original population\n",
        "(500 student scores) and then calculating the 2.5th and 97.5th\n",
        "percentile values of the collection of sample means.\n",
        "\n",
        "That is to say, 5% of the 1000 sample averages generated from the\n",
        "population fall outside of (16.80755, 18.3585). Equivalently, 95% of the\n",
        "sample average scores fall within the range.\n",
        "\n",
        "Note that the 95% Confidence Interval we have computed using the\n",
        "repeated sampling technique has different values than the *single sample\n",
        "Confidence Interval* computed by the teacher. But both are valid!\n",
        "\n",
        "In fact, the teacher’s confidence interval is less resource-intensive\n",
        "and more practical. It is almost always impossible to obtain the actual\n",
        "sampling distribution of the sample means as (1) population is usually\n",
        "unknown and (2) taking *all possible* repeated samples is extremely\n",
        "unfeasible.\n",
        "\n",
        "However, the Confidence Interval method involving the use of a single\n",
        "sample draws its theoretical credibility from concepts such as the\n",
        "sampling distribution of sample means and the standard error for the\n",
        "sample mean!\n",
        "\n",
        "> ***Thinking Critically:*** When using a single point estimate to draw\n",
        "> claims about the population parameter, it must be important to also\n",
        "> use *measures of variability* to capture or illustrate the variability\n",
        "> in both the sample observations and between different possible samples\n",
        "> (and estimates) that can be obtained from the population. As you will\n",
        "> learn more about the Central Limit Theorem in future\n",
        "> classes/tutorials, the theorem can be used to hypothesize what the\n",
        "> distribution of sample estimates or the sampling distribution will\n",
        "> look like. This then governs our choice for the Critical Value –\n",
        "> whether we will use the Z-score (normal distribution) or the t-score\n",
        "> (t-distribution).\n",
        "\n",
        "Hopefully this section helped you understand the ideas behind why we use\n",
        "the Standard Error (or its approximations) for computing Confidence\n",
        "Intervals.\n",
        "\n",
        "### 3. Using the Bootstrapping Method for Constructing Confidence Intervals for Population Means\n",
        "\n",
        "As we discussed earlier, obtaining the actual sampling distribution of\n",
        "sample means is almost impossible in the real world.\n",
        "\n",
        "But other techniques exist that help us compute Confidence Intervals by\n",
        "going a step further than simply using one single sample mean and one\n",
        "single sample standard deviation.\n",
        "\n",
        "One such technique, quite popular in Data Science, is the\n",
        "**bootstrapping method**.\n",
        "\n",
        "1.  Take a random and representative sample of an appropriate size\n",
        "    (above 30)\n",
        "2.  *Replicate* the sampling process, ie. draw repeated samples of the\n",
        "    same size drawing from the single sample we have – with replacement.\n",
        "    This equilavent to saying, treat the sample as a population, and\n",
        "    draw samples with replacement ideally of the same size as the\n",
        "    original sample.\n",
        "3.  As usual, calculate the sample means and find the 2.5th and 97.5th\n",
        "    percentile values to get a range within which 95% of the sample\n",
        "    means obtained lie. This is a valid 95% Confidence Interval for the\n",
        "    true mean.\n",
        "\n",
        "> ***Note:*** The Bootstrapping Distribution of Sample Means is\n",
        "> different from the *actual* sampling distribution of sample means, if\n",
        "> there was a realistic way of obtaining the latter.\n",
        ">\n",
        "> The center of the bootstrap distribution is equal to the sample mean\n",
        "> of the original sample, not the population mean as was the case for\n",
        "> sampling distributions.\n",
        "\n",
        "Consider the population of 500 Grade 8 students for whom we are\n",
        "interested in obtaining the 95% Confidence Interval of Mean Reading and\n",
        "Comprehension Scores.\n",
        "\n",
        "Suppose it is unfeasible to ask all the students to take the\n",
        "standardized exam, and thus, 65 students are randomly chosen to sit for\n",
        "it:"
      ],
      "id": "a80d1eca-a8c3-49f2-b495-cddc7b5bc30a"
    },
    {
      "cell_type": "code",
      "execution_count": null,
      "metadata": {},
      "outputs": [],
      "source": [
        "set.seed(1234) #DO NOT CHANGE\n",
        "random_sample <- sample(reading_scores$scores, size = 65)\n",
        "head(random_sample)"
      ],
      "id": "b239cc5c-b612-4864-babf-69d9af81363d"
    },
    {
      "cell_type": "markdown",
      "metadata": {},
      "source": [
        "Next, we’ll use the **bootstrapping method** to generate 1000 samples of\n",
        "size 65 out of this single sample. This is only possible via resampling\n",
        "with replacement."
      ],
      "id": "abff459d-c290-4545-9f99-5ec3db4eb56d"
    },
    {
      "cell_type": "code",
      "execution_count": null,
      "metadata": {},
      "outputs": [],
      "source": [
        "num_samples <- 1000\n",
        "bootstrap_samples <- data.frame(sample_id = c(), scores = c())\n",
        "\n",
        "for (i in 1:num_samples) {\n",
        "  sample_id <- i\n",
        "  sample_scores <- sample(random_sample, size = 65, replace = TRUE)\n",
        "  \n",
        "  to_add <- data.frame(sample_id = sample_id, scores = sample_scores)\n",
        "  \n",
        "  bootstrap_samples <- rbind(bootstrap_samples, to_add)\n",
        "}\n",
        "\n",
        "nrow(bootstrap_samples) #Total number of observations: 65 * 1000"
      ],
      "id": "8aad7e11-dbb8-4191-ad46-475461a960c6"
    },
    {
      "cell_type": "markdown",
      "metadata": {},
      "source": [
        "Next, let’s calculate the sample means for each of the 1000 samples:"
      ],
      "id": "9ba4f331-b7af-4757-a2ad-6146636b24ce"
    },
    {
      "cell_type": "code",
      "execution_count": null,
      "metadata": {},
      "outputs": [],
      "source": [
        "bootstrap_sampling_dist <- bootstrap_samples %>%\n",
        "  group_by(sample_id) %>% summarise(sample_mean = mean(scores))\n",
        "  \n",
        "head(bootstrap_sampling_dist, 10)"
      ],
      "id": "89a1ad9e-fc0c-4c0f-b7e8-c34671fa834c"
    },
    {
      "cell_type": "markdown",
      "metadata": {},
      "source": [
        "To obtain the 95% Confidence Interval for the Population Mean Score (of\n",
        "500 students), we’ll obtain the 2.5th and 97.5th percentile values from\n",
        "the column `sample_mean` of the `bootstrap_sampling_dist`."
      ],
      "id": "1544c0f0-d576-4dae-b194-7ee9fe3f23cf"
    },
    {
      "cell_type": "code",
      "execution_count": null,
      "metadata": {},
      "outputs": [],
      "source": [
        "conf_interval_bootstrap <- tibble(lower_ci = quantile  (bootstrap_sampling_dist$sample_mean, 0.025),\n",
        "  upper_ci = quantile(bootstrap_sampling_dist$sample_mean, 0.975))\n",
        "\n",
        "conf_interval_bootstrap"
      ],
      "id": "4ee48757-1c96-4f78-b018-3e185a2641a3"
    },
    {
      "cell_type": "markdown",
      "metadata": {},
      "source": [
        "This is considered a valid 95% Confidence Interval for the true mean\n",
        "score of the 500 Grade 8 students. Notably, we had obtained only a\n",
        "single sample of a manageable size and then used the **bootstrapped\n",
        "distribution of sample means** to obtain the 2.5th and 97.5th percentile\n",
        "values for the sample means.\n",
        "\n",
        "Let’s now compare the the three Confidence Intervals obtained via:\n",
        "\n",
        "1.  Single Sample using the analytical approach\n",
        "2.  Repeated Sampling from Original Population using R\n",
        "3.  Bootstrapped Sampling from Single Sample using R"
      ],
      "id": "11c1a437-ac3c-4d5a-aab0-ebfe33e8b0b8"
    },
    {
      "cell_type": "code",
      "execution_count": null,
      "metadata": {},
      "outputs": [],
      "source": [
        "library(tibble)\n",
        "\n",
        "comparison_table <- tibble(\n",
        "  analytical_method = paste(\"[\", confidence_interval_analytical$lower_ci, \", \", confidence_interval_analytical$upper_ci, \"]\", sep = \"\"),\n",
        "  sampling_dist_method = paste(\"[\", conf_interval$lower_ci, \", \", conf_interval$upper_ci, \"]\", sep = \"\"),\n",
        "  bootstrap_method = paste(\"[\", conf_interval_bootstrap$lower_ci, \", \", conf_interval_bootstrap$upper_ci, \"]\", sep = \"\")\n",
        ")\n",
        "\n",
        "print(comparison_table)"
      ],
      "id": "2dffcd3c-8fbc-4375-9da2-5de8153bf520"
    },
    {
      "cell_type": "markdown",
      "metadata": {},
      "source": [
        "Contrary to what happens in many real-world scenarios, we have access to\n",
        "the population data and the population mean (since we had simulated the\n",
        "500 scores)."
      ],
      "id": "20f3e776-bb52-426b-a486-1cf841375bcb"
    },
    {
      "cell_type": "code",
      "execution_count": null,
      "metadata": {},
      "outputs": [],
      "source": [
        "# Calculate the population mean\n",
        "pop_mean <- mean(reading_scores$scores)\n",
        "\n",
        "comparison_table <- comparison_table %>%\n",
        "  mutate(pop_mean = pop_mean)\n",
        "  \n",
        "comparison_table"
      ],
      "id": "cab86ca2-2fc6-47a7-84a3-45edeb7dd77c"
    },
    {
      "cell_type": "markdown",
      "metadata": {},
      "source": [
        "All of the 95% Confidence Intervals were able to capture the true\n",
        "population mean score. However, note how they differ in terms of the\n",
        "width and the values for the upper and lower bounds.\n",
        "\n",
        "### 4. Conclusion\n",
        "\n",
        "In Part 1, we introduced confidence intervals using a very simple\n",
        "example – something you’ve probably crossed paths with in your basic\n",
        "statistics classes. We used one sample of test scores, and used the\n",
        "*analytical method* and assumptions about the underlying population to\n",
        "compute a single 95% confidence interval.\n",
        "\n",
        "Recall how we used both the standard error (using the sample standard\n",
        "deviation and sample size) and critical value (obtained through\n",
        "$t$-distribution) to finally get the margin of error? Thus the idea of\n",
        "*variability around the mean* is essential to the process of\n",
        "constructing a 95% confidence intervals.\n",
        "\n",
        "We introduced an important concept in Part 2 - the theoretical framework\n",
        "of the Sampling Distribution of Sample Means. Easily imagined as the\n",
        "distribution of *all possible sample means* that can be generated from\n",
        "the original population, this distribution of sample means is useful for\n",
        "both Confidence Intervals construction and Hypothesis Testing, as you\n",
        "will learn in further tutorials.\n",
        "\n",
        "Part 3 is where the real fun began. We took note of the fact that\n",
        "obtaining the actual sampling distribution is unfeasible in the real\n",
        "world. So, we instead used a popular method used in the Data Sciences –\n",
        "the bootstrapping method. We essentially “replicated” samples out of a\n",
        "single sample, generating a sampling distribution that is centered at\n",
        "the original sample’s mean. We then used this “bootstrapped” sampling\n",
        "distribution to get the 2.5th and 97.5th percentile values for the\n",
        "average sample scores to finally obtain the 95% Confidence Interval.\n",
        "\n",
        "Lastly, we compared the 3 intervals and found that they all captured the\n",
        "true mean. While this might not be true always - due to variability\n",
        "(randomness, luck, chance, etc.) inherent in the sampling techniques\n",
        "involved – all the three methods discussed lead to *valid* Confidence\n",
        "Intervals given the underlying assumptions and requirements as discussed\n",
        "previously hold!\n",
        "\n",
        "And, that wraps up this tutorial."
      ],
      "id": "e71093b7-e7f7-4405-ab05-70ae2e7c4c36"
    }
  ],
  "nbformat": 4,
  "nbformat_minor": 5,
  "metadata": {
    "kernelspec": {
      "name": "ir",
      "display_name": "R",
      "language": "r"
    }
  }
}