{
  "cells": [
    {
      "cell_type": "markdown",
      "metadata": {},
      "source": [
        "# 4.4 - Advanced - Word Embeddings (Python)\n",
        "\n",
        "*Python Version*\n",
        "\n",
        "<img src=\"media/word_embedding_cover_art.png\" width=\"1000\"/>\n",
        "\n",
        "*This notebook was prepared by Laura Nelson in collaboration with [UBC\n",
        "COMET](https://comet.arts.ubc.ca/) team members: Jonathan Graves, Angela\n",
        "Chen and Anneke Dresselhuis*\n",
        "\n",
        "## Prerequisites\n",
        "\n",
        "1.  Some familiarity programming in R\n",
        "2.  Some familarity with natural language processing\n",
        "3.  No computational text experience necessary!\n",
        "\n",
        "## Learning outcomes\n",
        "\n",
        "In the notebook you will\n",
        "\n",
        "1.  Familiarize yourself with concepts such as word embeddings (WE)\n",
        "    vector-space model of language, natural language processing (NLP)\n",
        "    and how they relate to small and large language models (LMs)\n",
        "2.  Import and pre-process a textual dataset for use in word embedding\n",
        "3.  Use word2vec to build a simple language model for examining patterns\n",
        "    and biases textual datasets\n",
        "4.  Identify and select methods for saving and loading models\n",
        "5.  Use critical and reflexive thinking to gain a deeper understanding\n",
        "    of how the inherent social and cultural biases of language are\n",
        "    reproduced and mapped into language computation models\n",
        "\n",
        "## Outline\n",
        "\n",
        "The goal of this notebook is to demystify some of the technical aspects\n",
        "of language models and to invite learners to start thinking about how\n",
        "these important tools function in society.\n",
        "\n",
        "In particular, this lesson is designed to explore features of word\n",
        "embeddings produced through the word2vec model. The questions we ask in\n",
        "this lesson are guided by Ben Schmidt’s blog post, [Rejecting the Gender\n",
        "Binary](%22http://bookworm.benschmidt.org/posts/2015-10-30-rejecting-the-gender-binary.html).\n",
        "\n",
        "The primary corpus we will use consists of the\n",
        "<a href=\"http://txtlab.org/?p=601\">150 English-language novels</a> made\n",
        "available by the <em>.txtLab</em> at McGill University. We also look at\n",
        "a <a href=\"http://ryanheuser.org/word-vectors-1/\">word2Vec model trained\n",
        "on the ECCO-TCP corpus</a> of 2,350 eighteenth-century literary texts\n",
        "made available by Ryan Heuser. (Note that the number of terms in the\n",
        "model has been shortened by half in order to conserve memory.)\n",
        "\n",
        "## Key Terms\n",
        "\n",
        "Before we dive in, feel free to familiarize yourself with the following\n",
        "key terms and how they relate to each other."
      ],
      "id": "4f0e06d1-1088-4c5f-a29d-4b6c5ffe054a"
    },
    {
      "cell_type": "raw",
      "metadata": {
        "raw_mimetype": "text/html"
      },
      "source": [
        "<table>"
      ],
      "id": "c3fc0ede-b037-4d01-bfa1-b9eff1efb26b"
    },
    {
      "cell_type": "raw",
      "metadata": {
        "raw_mimetype": "text/html"
      },
      "source": [
        "<tr>"
      ],
      "id": "8e9d3dc8-dadc-45fc-abc9-c3d7774253dd"
    },
    {
      "cell_type": "raw",
      "metadata": {
        "raw_mimetype": "text/html"
      },
      "source": [
        "<td>"
      ],
      "id": "8abebc18-149d-4f08-bab7-dd53e4962b98"
    },
    {
      "cell_type": "markdown",
      "metadata": {},
      "source": [
        "<img src=\"media/ai_key_terms.png\" width=\"500\" style=\"max-width: 950px;\">"
      ],
      "id": "60782b49-edbd-46ef-ae64-36dbf5386740"
    },
    {
      "cell_type": "raw",
      "metadata": {
        "raw_mimetype": "text/html"
      },
      "source": [
        "</td>"
      ],
      "id": "240e2fdf-e3de-4586-a9d6-7324957fd4c2"
    },
    {
      "cell_type": "raw",
      "metadata": {
        "raw_mimetype": "text/html"
      },
      "source": [
        "<td style=\"padding-left: 20px; vertical-align: top;\">"
      ],
      "id": "d5b18827-99da-47bc-9658-623b1bd383b5"
    },
    {
      "cell_type": "raw",
      "metadata": {
        "raw_mimetype": "text/html"
      },
      "source": [
        "<p>"
      ],
      "id": "ebea9d14-9e94-47de-9f38-a465525f0078"
    },
    {
      "cell_type": "markdown",
      "metadata": {},
      "source": [
        "<b>Artificial Intelligence (AI):</b> This term is a broad category that\n",
        "includes the study and development of computer systems that can mimic\n",
        "intelligent human behavior (adapted from\n",
        "<a href=\"https://www.oxfordlearnersdictionaries.com/definition/english/ai#:~:text=%2F%CB%8Ce%C9%AA%20%CB%88a%C9%AA%2F-,%2F%CB%8Ce%C9%AA%20%CB%88a%C9%AA%2F,way%20a%20human%20brain%20does\" target=\"_blank\"><i>Oxford\n",
        "Learners Dictionary</i></a>)."
      ],
      "id": "c07534b3-b61a-476a-ba27-f631e2875aa7"
    },
    {
      "cell_type": "raw",
      "metadata": {
        "raw_mimetype": "text/html"
      },
      "source": [
        "</p>"
      ],
      "id": "7632a1a3-59b6-438b-a846-3e623723badc"
    },
    {
      "cell_type": "raw",
      "metadata": {
        "raw_mimetype": "text/html"
      },
      "source": [
        "<p>"
      ],
      "id": "e2df7ea6-4bbc-4172-860f-fcd1691485ad"
    },
    {
      "cell_type": "markdown",
      "metadata": {},
      "source": [
        "<b>Machine Learning (ML):</b> This is a branch of AI that uses\n",
        "statistical methods to imitate the way that humans learn (adapted from\n",
        "<a href=\"https://www.ibm.com/topics/machine-learning\" target=\"_blank\"><i>IBM</i></a>)."
      ],
      "id": "b1d83467-cdf5-431e-9467-484d205364c8"
    },
    {
      "cell_type": "raw",
      "metadata": {
        "raw_mimetype": "text/html"
      },
      "source": [
        "</p>"
      ],
      "id": "1662202e-c829-4f23-a618-11873ce54309"
    },
    {
      "cell_type": "raw",
      "metadata": {
        "raw_mimetype": "text/html"
      },
      "source": [
        "<p>"
      ],
      "id": "e6d078ab-8b2a-44f8-807c-67f8fce9b45d"
    },
    {
      "cell_type": "markdown",
      "metadata": {},
      "source": [
        "<b>Natural Language Processing (NLP):</b> This is a branch of AI that\n",
        "focuses on training computers to interpret human text and spoken words\n",
        "(adapted from\n",
        "<a href=\"https://www.ibm.com/topics/natural-language-processing#:~:text=the%20next%20step-,What%20is%20natural%20language%20processing%3F,same%20way%20human%20beings%20can\" target=\"_blank\"><i>IBM</i></a>)."
      ],
      "id": "1735c25f-36c1-4117-9f0a-b3c2a70a0edb"
    },
    {
      "cell_type": "raw",
      "metadata": {
        "raw_mimetype": "text/html"
      },
      "source": [
        "</p>"
      ],
      "id": "9b3475dd-185b-4f52-8171-4f3e163c32f0"
    },
    {
      "cell_type": "raw",
      "metadata": {
        "raw_mimetype": "text/html"
      },
      "source": [
        "</td>"
      ],
      "id": "e8389a2c-ba53-46b2-8017-e403b4c6f311"
    },
    {
      "cell_type": "raw",
      "metadata": {
        "raw_mimetype": "text/html"
      },
      "source": [
        "</tr>"
      ],
      "id": "ddbc13b9-2e07-46cf-9042-a508fb6a5df4"
    },
    {
      "cell_type": "raw",
      "metadata": {
        "raw_mimetype": "text/html"
      },
      "source": [
        "</table>"
      ],
      "id": "b9949384-36f3-413e-afcb-342e95a86164"
    },
    {
      "cell_type": "markdown",
      "metadata": {},
      "source": [
        "We note that NLP is a subset of ML in general: Machine Learning is a\n",
        "broader field focused on developing algorithms that allow computers to\n",
        "learn from data and make decisions or predictions without being\n",
        "explicitly programmed for each specific task. Natural Language\n",
        "Processing is a subfield of ML that specifically deals with enabling\n",
        "computers to understand, interpret, and generate human language.\n",
        "\n",
        "**Word Embeddings (WE):** this is an NLP process through which human\n",
        "words are converted into numerical representations (usually **vectors**)\n",
        "in order for computers to be able to understand them (adapted from\n",
        "[*Turing*](https://www.turing.com/kb/guide-on-word-embeddings-in-nlp))\n",
        "This topic is the focus of this notebook.\n",
        "\n",
        "**word2vec:** this is an NLP technique that is commonly used to generate\n",
        "word embeddings. It learns vector representations of words by training\n",
        "on various texts, mapping words with similar contexts to similar vectors\n",
        "in a high-dimensional vector space. It uses either the **Continuous Bag\n",
        "of Words** (CBOW) or **Skip-gram**\n",
        "[architecture](https://towardsdatascience.com/nlp-101-word2vec-skip-gram-and-cbow-93512ee24314)\n",
        "to predict words based on their neighbors capturing semantic\n",
        "relationships between words (don’t worry about these words yet, we will\n",
        "learn them later!).\n",
        "\n",
        "## What are Word Embeddings?\n",
        "\n",
        "Building off of the definition above, word embeddings are one way that\n",
        "humans can represent language in a way that is legible to a machine.\n",
        "More specifically, they are an NLP approach that use vectors to store\n",
        "textual data in multiple dimensions; by existing in the\n",
        "multi-dimensional space of vectors, word embeddings are able to include\n",
        "important semantic information within a given numeric representation.\n",
        "\n",
        "For example, if we are trying to answer a research question about how\n",
        "popular a term is on the web at a given time, we might use a simple word\n",
        "frequency analysis to count how many times the word “candidate” shows up\n",
        "in tweets during a defined electoral period. However, if we wanted to\n",
        "gain a more nuanced understanding of what kind of language, biases or\n",
        "attitudes contextualize the term, “candidate” in discourse, we would\n",
        "need to use a method like word embedding to encode meaning into our\n",
        "understanding of how people have talked about candidates over time.\n",
        "Instead of describing our text as a series of word counts, we would\n",
        "treat our text like coordinates in space, where similar words and\n",
        "concepts are closer to each other, and words that are different from\n",
        "each other are further away."
      ],
      "id": "169ce438-a3d1-418a-8873-6c4bd0cf9225"
    },
    {
      "cell_type": "raw",
      "metadata": {
        "raw_mimetype": "text/html"
      },
      "source": [
        "<p align=\"center\">"
      ],
      "id": "4b2c1db3-8d91-4cfc-bbcc-4a86407e310b"
    },
    {
      "cell_type": "markdown",
      "metadata": {},
      "source": [
        "<img src=\"media/word_frequency_vs_word_embeddings.png\" alt=\"Comparing word frequency count and word embedding methods\" style=\"max-width: 950px;\">"
      ],
      "id": "4d0dd586-c849-4979-b4da-0f7618ae78ad"
    },
    {
      "cell_type": "raw",
      "metadata": {
        "raw_mimetype": "text/html"
      },
      "source": [
        "</p>"
      ],
      "id": "05029655-345e-4052-8834-8a9bd90e1f0e"
    },
    {
      "cell_type": "markdown",
      "metadata": {},
      "source": [
        "For example, in the visualization above, a word frequency count returns\n",
        "the number of times the word “candidate” or “candidates” is used in a\n",
        "sample text corpus. When a word embedding is made from the same text\n",
        "corpus, we are able to map related concepts and phrases that are closely\n",
        "related to “candidate” as neighbours, while other words and phrases such\n",
        "as “experimental study” (which refers to the research paper in question,\n",
        "and not to candidates specifically) are further away.\n",
        "\n",
        "Here is another example of how different, but related words might be\n",
        "represented in a word embedding:"
      ],
      "id": "10d27d8f-d0a2-4bf6-8e58-d91ca152bd0b"
    },
    {
      "cell_type": "raw",
      "metadata": {
        "raw_mimetype": "text/html"
      },
      "source": [
        "<p align=\"center\">"
      ],
      "id": "9ce3247d-931c-4921-8dd4-d4a00c17aadc"
    },
    {
      "cell_type": "markdown",
      "metadata": {},
      "source": [
        "<img src=\"media/w2v-Analogies.png\"  style=\"max-width: 60%;\"/>"
      ],
      "id": "c99632a9-0e68-459a-abef-57625a437840"
    },
    {
      "cell_type": "raw",
      "metadata": {
        "raw_mimetype": "text/html"
      },
      "source": [
        "</p>"
      ],
      "id": "732844ad-d934-448b-b340-d74d5b326b88"
    },
    {
      "cell_type": "markdown",
      "metadata": {},
      "source": [
        "> **Word embeddings in action: Kaveh-Yazdy & Zarifzadeh (2021)**\n",
        ">\n",
        "> In their 2021 paper “Measuring Economic Policy Uncertainty Using an\n",
        "> Unsupervised Word Embedding-based Method”, Fatemeh Kaveh-Yazdy and\n",
        "> Sajjad Zarifzadeh introduce a novel approach to measure Economic\n",
        "> Policy Uncertainty (EPU), a measure of the level of economic\n",
        "> uncertainty caused by new economic policies made by governments. By\n",
        "> analyzing news data with a word embedding-based method and a dataset\n",
        "> of 10 million Persian news articles, the authors constructed a Persian\n",
        "> EPU index. The authors found a significant alignment between this EPU\n",
        "> index and significant economic and political events in Iran at the\n",
        "> time, matching trends in the global World Uncertainty Index (WUI).\n",
        "> Additionally, the proposed method showed a strong correlation between\n",
        "> suicide rates and EPU, particulary noting a higher correlation\n",
        "> relative to other traditional EPU indices, supporting its reliability\n",
        "> in reflecting societal impacts of economic uncertainty (Kaveh-Yazdy &\n",
        "> Zarifzadeh, 2021).\n",
        ">\n",
        "> <p align=\"center\">\n",
        ">\n",
        "> <img src=\"media/research_paper_graph.png\" alt=\"Kaveh-Yazdy &amp; Zarifzadeh's results showing a strong overlap between word-embedding EPU and traditional EPU\" style=\"max-width: 60%;\">\n",
        "> <br> <span style=\"font-style: italic; font-size: 0.9em;\">A graph from\n",
        "> Kaveh-Yazdy & Zarifzadeh (2021) showcasing their word embedding-based\n",
        "> EPU calculation compared to traditional EPU</span>\n",
        ">\n",
        "> </p>\n",
        "\n",
        "## A Brief Review of Vectors"
      ],
      "id": "a8f4941a-d05b-4aa8-aacc-a9b9cb8cf905"
    },
    {
      "cell_type": "raw",
      "metadata": {
        "raw_mimetype": "text/html"
      },
      "source": [
        "<p align=\"center\">"
      ],
      "id": "a01aa8c5-53ca-40bb-9969-1f46effd11cb"
    },
    {
      "cell_type": "markdown",
      "metadata": {},
      "source": [
        "<img src=\"media/clp3_vectors.png\" alt=\"Vectors in 2d and 3d\" style=\"max-width: 60%;\">\n",
        "<br> <span style=\"font-style: italic; font-size: 0.9em;\">Vectors in\n",
        "$\\mathbb{R}^2$ and $\\mathbb{R}^3$, courtesy of\n",
        "<a href=\"https://personal.math.ubc.ca/~CLP/CLP3/clp_3_mc_text.pdf\">CLP3</a></em></span>"
      ],
      "id": "4c8a7755-e86d-49f1-8be9-7b1f1c96f9eb"
    },
    {
      "cell_type": "raw",
      "metadata": {
        "raw_mimetype": "text/html"
      },
      "source": [
        "</p>"
      ],
      "id": "c0be3d16-de81-45ee-854b-a360692ed870"
    },
    {
      "cell_type": "markdown",
      "metadata": {},
      "source": [
        "A **vector** is a mathematical object that has both a magnitude and a\n",
        "direction. You can think of it as an arrow pointing from one location to\n",
        "another in space. This arrow represents both a size (how long it is) and\n",
        "a direction (the way it’s pointing).\n",
        "\n",
        "The vectors used in this notebook, for the purposes of learning, are two\n",
        "dimensional: they exist in \\$ ^2\\$. However, real embeddings are always\n",
        "multidimensional (we will get back to why this is the case later): they\n",
        "exist in $\\mathbb{R}^n$, where $n$ is some verly large number.\n",
        "\n",
        "## Making a Word Embedding\n",
        "\n",
        "So, how do word embeddings work? To make a word embedding, an input word\n",
        "gets compressed into a dense vector."
      ],
      "id": "afcdcbbd-0e00-4645-893e-47bd4f4761de"
    },
    {
      "cell_type": "raw",
      "metadata": {
        "raw_mimetype": "text/html"
      },
      "source": [
        "<p align=\"center\">"
      ],
      "id": "a37c7d7a-be46-451d-9a18-4e1a42776fa2"
    },
    {
      "cell_type": "markdown",
      "metadata": {},
      "source": [
        "<img src=\"media/creating_a_word_embedding.png\" alt=\"Creating a word embedding vector\" style=\"max-width: 60%;\">\n",
        "<br>"
      ],
      "id": "58eeaf68-5747-42a3-8865-c4e8e3a8d49b"
    },
    {
      "cell_type": "raw",
      "metadata": {
        "raw_mimetype": "text/html"
      },
      "source": [
        "</p>"
      ],
      "id": "76154ee6-419f-45d7-bf35-21ea74bdceb0"
    },
    {
      "cell_type": "markdown",
      "metadata": {},
      "source": [
        "The magic and mystery of the word embedding process is that often the\n",
        "vectors produced during the model embed qualities of a word or phrase\n",
        "that are not interpretable by humans. However, for our purposes, having\n",
        "the text in vector format is all we need. With this format, we can\n",
        "perform tests like **cosine similarity** (which we will discuss later)\n",
        "and other kinds of operations. Such operations can reveal many different\n",
        "kinds of relationships between words, as we’ll examine a bit later.\n",
        "\n",
        "## Word2vec and vector encoding\n",
        "\n",
        "The simplest form of vector-word encoding is called **one-hot\n",
        "encoding**. One-hot encoding is very similar to the creation of dummy\n",
        "varibles for categorical data in linear regressions: each word in the\n",
        "english language is assigned a binary value in a vector in\n",
        "$\\mathbb{R}^k$, where $k$ is the number of words in the english\n",
        "language. For example, consider a language with only three words in it:\n",
        "*“cat”, “dog”*, and *horse*. Hence, our vector encodings are:\n",
        "\n",
        "$$\\text{Cat} \\to <1,0,0>$$ $$\\text{Dog} \\to <0,1,0>$$\n",
        "$$\\text{Horse} \\to <0,0,1>$$\n",
        "\n",
        "Naturally, this becomes unfeasable with real languages: The english\n",
        "language contains roughly 1 million words, meaning each vector would be\n",
        "1-million-dimensional, and each vector would require 4MB of storage on\n",
        "your computer. Good luck working with that!\n",
        "\n",
        "This is where Word2Vec comes in: Word2Vec is a ML model designed to\n",
        "represent words as vectors that capture semantic relationships. It\n",
        "generates **low-dimensional word embeddings** by learning from word\n",
        "contexts in a large corpus, allowing words with similar meanings to have\n",
        "vectors close together. More precisely, word2vec is an algorithmic\n",
        "learning tool rather than a specific neural net that is already trained.\n",
        "The example we will be working through today has been made using this\n",
        "tool. - Unlike one-hot encodings, where words are represented in a\n",
        "high-dimensional space equal to the size of the vocabulary (potentially\n",
        "tens of thousands of dimensions) embeddings have values in every\n",
        "dimension, allowing them to be compact and memory-efficient, meaning\n",
        "that word embeddings usually have only 100-300 dimensions. This\n",
        "reduction captures essential semantic information without excessive\n",
        "dimensionality.\n",
        "\n",
        "The series of algorithms inside of the word2vec model try to describe\n",
        "and acquire parameters for a given word in terms of the text that appear\n",
        "immediately to the right and left in actual sentences. Essentially, it\n",
        "learns how to predict text.\n",
        "\n",
        "Without going too deep into the algorithm, suffice it to say that it\n",
        "involves a two-step process:\n",
        "\n",
        "1.  First, the input word gets compressed into a dense vector, as seen\n",
        "    in the simplified diagram, “Creating a Word Embedding,” above.\n",
        "2.  Second, the vector gets decoded into the set of context words.\n",
        "    Keywords that appear within similar contexts will have similar\n",
        "    vector representations in between steps.\n",
        "\n",
        "Imagine that each word in a novel has its meaning determined by the ones\n",
        "that surround it in a limited window. For example, in Moby Dick’s first\n",
        "sentence, “me” is paired on either side by “Call” and “Ishmael.” After\n",
        "observing the windows around every word in the novel (or many novels),\n",
        "the computer will notice a pattern in which “me” falls between similar\n",
        "pairs of words to “her,” “him,” or “them.” Of course, the computer had\n",
        "gone through a similar process over the words “Call” and “Ishmael,” for\n",
        "which “me” is reciprocally part of their contexts. This chaining of\n",
        "signifiers to one another mirrors some of humanists’ most sophisticated\n",
        "interpretative frameworks of language.\n",
        "\n",
        "The two main model architectures of word2vec are **Continuous Bag of\n",
        "Words (CBOW)** and **Skip-Gram**, which can be distinguished partly by\n",
        "their input and output during training.\n",
        "\n",
        "**CBOW** takes the context words (for example, “Call”,“Ishmael”) as a\n",
        "single input and tries to predict the word of interest (“me”).\n",
        "\n",
        "<img src=\"media/CBOW.gif\" width=\"500\"/>\n",
        "\n",
        "**Skip-Gram** does the opposite, taking a word of interest as its input\n",
        "(for example, “me”) and tries to learn how to predict its context words\n",
        "(“Call”,“Ishmael”).\n",
        "\n",
        "<img src=\"media/SG.gif\" width=\"500\"/>\n",
        "\n",
        "In general, CBOW is is faster and does well with frequent words, while\n",
        "Skip-Gram potentially represents rare words better.\n",
        "\n",
        "Since the word embedding is a vector, we are able perform tests like\n",
        "cosine similarity (which we’ll learn more about in a bit!) and other\n",
        "kinds of operations. Those operations can reveal many different kinds of\n",
        "relationships between words, as we shall see.\n",
        "\n",
        "## Bias and Language Models\n",
        "\n",
        "You might already be piecing together that the encoding of meaning in\n",
        "word embeddings is entirely shaped by the patterns of language use\n",
        "captured in the training data. That is, what is included in a word\n",
        "embedding directly reflects the complex social and cultural biases of\n",
        "everyday human language - in fact, exploring how these biases function\n",
        "and change over time (as we will do later) is one of the most\n",
        "interesting ways to use word embeddings in social research.\n",
        "\n",
        "#### It is simply impossible to have a bias-free language model (LM).\n",
        "\n",
        "In LMs, bias is not a bug or a glitch, rather, it is an essential\n",
        "feature that is baked into the fundamental structure. For example, LMs\n",
        "are not outside of learning and absorbing the pejorative dimensions of\n",
        "language which in turn, can result in reproducing harmful correlations\n",
        "of meaning for words about race, class or gender (among others). When\n",
        "unchecked, these harms can be “amplified in downstream applications of\n",
        "word embeddings” ([Arseniev-Koehler & Foster, 2020,\n",
        "p. 1](https://osf.io/preprints/socarxiv/b8kud/)).\n",
        "\n",
        "Just like any other computational model, it is important to critically\n",
        "engage with the source and context of the training data. One way that\n",
        "[Schiffers, Kern and Hienert](https://arxiv.org/abs/2302.06174v1)\n",
        "suggest doing this is by using domain specific models (2023). Working\n",
        "with models that understand the nuances of your particular topic or\n",
        "field can better account for “specialized vocabulary and semantic\n",
        "relationships” that can help make applications of WE more effective.\n",
        "\n",
        "## Preparing for our Analysis\n",
        "\n",
        "#### Word2vec Features\n",
        "\n",
        "**Here are a few features of the word2vec tool that we can use to\n",
        "customize our analysis:**\n",
        "\n",
        "-   `size`: Number of dimensions for word embedding model\n",
        "    </li>\n",
        "-   `window`: Number of context words to observe in each direction\n",
        "    </li>\n",
        "-   `min_count`: Minimum frequency for words included in model\n",
        "    </li>\n",
        "-   `sg` (Skip-Gram): ‘0’ indicates CBOW model; ‘1’ indicates Skip-Gram\n",
        "    </li>\n",
        "-   `alpha`: Learning rate (initial); prevents model from\n",
        "    over-correcting, enables finer tuning\n",
        "    </li>\n",
        "-   `iterations`: Number of passes through dataset\n",
        "    </li>\n",
        "-   `batch size`: Number of words to sample from data during each pass\n",
        "    </li>\n",
        "\n",
        "Note: the script uses default value for each argument.\n",
        "\n",
        "**Some limitations of the word2vec Model**\n",
        "\n",
        "-   Within word2vec, common articles or conjunctions, called **stop\n",
        "    words** such as “the” and “and,” may not provide very rich\n",
        "    contextual information for a given word, and may need additional\n",
        "    subsampling or to be combined into a word phrase (Anwla, 2019).\n",
        "-   word2vec isn’t always the best at handling out-of-vocabulary words\n",
        "    well (Chandran, 2021).\n",
        "\n",
        "Let’s begin our analysis!\n",
        "\n",
        "## Excercise #1: Eggs, Sausages and Bacon"
      ],
      "id": "9c9f2d79-71a8-4b34-a307-5787df1b44fb"
    },
    {
      "cell_type": "raw",
      "metadata": {
        "raw_mimetype": "text/html"
      },
      "source": [
        "<div>"
      ],
      "id": "40bd3249-f685-4ca8-ac15-5fa4ee04cd70"
    },
    {
      "cell_type": "markdown",
      "metadata": {},
      "source": [
        "<img src=\"media/eggs_bacon_sausages.png\" width=\"750\"/>"
      ],
      "id": "b55c7a80-1cba-403f-ad25-33a6dd77d29e"
    },
    {
      "cell_type": "raw",
      "metadata": {
        "raw_mimetype": "text/html"
      },
      "source": [
        "<div>\n"
      ],
      "id": "f71e4865-9913-4e7f-b668-f1b1af706c2d"
    },
    {
      "cell_type": "markdown",
      "metadata": {},
      "source": [
        "To begin, we are going to load a few packages that are necessary for our\n",
        "analysis. Please run the code cells below."
      ],
      "id": "d0d851b4-56c3-4797-baab-f55542a84641"
    },
    {
      "cell_type": "code",
      "execution_count": 1,
      "metadata": {
        "tags": []
      },
      "outputs": [],
      "source": [
        "# !pip install matplotlib\n",
        "# !pip install pandas\n",
        "\n",
        "%pylab inline\n",
        "matplotlib.style.use('ggplot')"
      ],
      "id": "50e8e619"
    },
    {
      "cell_type": "markdown",
      "metadata": {},
      "source": [
        "#### Create a Document-Term Matrix (DTM) with a Few Pseudo-Texts\n",
        "\n",
        "To start off, we’re going to create a mini dataframe called a\n",
        "**Document-Term Matrix (DTM)**. A DTM is a matrix (or in our case, a\n",
        "tidyverse dataframe) that represents the frequency of terms (words)\n",
        "appearing in a collection of documents. Our DTM is based on the use of\n",
        "the words “eggs,” “sausages” and “bacon” found in three different\n",
        "novels: A, B and C."
      ],
      "id": "c4763916-de75-4664-a4c5-025ac69d3f73"
    },
    {
      "cell_type": "code",
      "execution_count": 2,
      "metadata": {
        "tags": []
      },
      "outputs": [],
      "source": [
        "# dataframes!\n",
        "import pandas\n",
        "\n",
        "# Construct dataframe with three novels each containing three words\n",
        "columns = ['eggs','sausage','bacon']\n",
        "indices = ['Novel A', 'Novel B', 'Novel C']\n",
        "dtm = [[50,60,60],[90,10,10], [20,70,70]]\n",
        "dtm_df = pandas.DataFrame(dtm, columns = columns, index = indices)\n",
        "\n",
        "# Show dataframe\n",
        "dtm_df"
      ],
      "id": "eac63cab"
    },
    {
      "cell_type": "markdown",
      "metadata": {},
      "source": [
        "### Visualize\n",
        "\n",
        "We’ll start by graphing all three axes using the plotly library:"
      ],
      "id": "e31cf3b9-73cb-4752-95ed-5e719d477881"
    },
    {
      "cell_type": "code",
      "execution_count": 3,
      "metadata": {},
      "outputs": [],
      "source": [
        "import matplotlib.pyplot as plt\n",
        "from mpl_toolkits.mplot3d import Axes3D\n",
        "\n",
        "fig = plt.figure()\n",
        "ax = fig.add_subplot(111, projection='3d')\n",
        "ax.scatter(dtm_df['sausage'], dtm_df['bacon'], dtm_df['eggs'], color='blue', s=50)\n",
        "\n",
        "ax.set_xlabel('Sausage')\n",
        "ax.set_ylabel('Bacon')\n",
        "ax.set_zlabel('Eggs')\n",
        "\n",
        "for novel, row in dtm_df.iterrows():\n",
        "    ax.text(row['sausage'], row['bacon'], row['eggs'], novel, fontsize=9, ha='right')\n",
        "\n",
        "plt.show()"
      ],
      "id": "c01c1a02"
    },
    {
      "cell_type": "markdown",
      "metadata": {},
      "source": [
        "Now, let’s take a look at just two axes, `eggs` and `sausage`."
      ],
      "id": "2e302820-e115-4b8c-9ded-1b1bdd84ef1e"
    },
    {
      "cell_type": "code",
      "execution_count": 4,
      "metadata": {
        "tags": []
      },
      "outputs": [],
      "source": [
        "# Plot our points\n",
        "scatter(dtm_df['eggs'], dtm_df['sausage'])\n",
        "\n",
        "# Make the graph look good\n",
        "xlim([0,100]), ylim([0,100])\n",
        "xlabel('eggs'), ylabel('sausage')"
      ],
      "id": "c3015ec2"
    },
    {
      "cell_type": "markdown",
      "metadata": {},
      "source": [
        "### Vectors\n",
        "\n",
        "At a glance, a couple of points are lying closer to one another. We used\n",
        "the word frequencies of just two of the three words (eggs and sausages)\n",
        "in order to plot our texts in a two-dimensional plane. The term\n",
        "frequency “summaries” of <i>Novel A</i> & <i>Novel C</i> are pretty\n",
        "similar to one another: they both share a major concern with “sausage”,\n",
        "whereas <i>Novel B</i> seems to focus primarily on “eggs.”\n",
        "\n",
        "This raises a question: how can we operationalize our intuition that the\n",
        "spatial distance presented here expresses topical similarity?\n",
        "\n",
        "## Cosine Similarity\n",
        "\n",
        "The most common measurement of distance between points is their [Cosine\n",
        "Similarity](https://en.wikipedia.org/wiki/Cosine_similarity). Cosine\n",
        "similarity can operate on textual data that contain word vectors and\n",
        "allows us to identify how similar documents are to each other, for\n",
        "example. Cosine Similarity thus helps us understand how much content\n",
        "overlap a set of documents have with one another. For example, imagine\n",
        "that we were to draw an arrow from the origin of the graph - point\n",
        "(0,0) - to the dot representing each text. This arrow is called a\n",
        "*vector*.\n",
        "\n",
        "Mathematically, this can be represented as:"
      ],
      "id": "a03e5b55-8199-4d08-8584-c767885db2f9"
    },
    {
      "cell_type": "raw",
      "metadata": {
        "raw_mimetype": "text/html"
      },
      "source": [
        "<div>"
      ],
      "id": "abc2551a-7468-4160-b439-9131474a6443"
    },
    {
      "cell_type": "markdown",
      "metadata": {},
      "source": [
        "<img src='media/Dot-Product.png' >\n",
        "\n",
        "Using our example above, we can see that the angle from (0,0) between\n",
        "Novel C and Novel A (orange triangle) is smaller than between Novel A\n",
        "and Novel B (navy triangle) or between Novel C and Novel B (both\n",
        "triangles together)."
      ],
      "id": "edf97e2a-e2e6-461b-aa25-163239c28727"
    },
    {
      "cell_type": "raw",
      "metadata": {
        "raw_mimetype": "text/html"
      },
      "source": [
        "<div>"
      ],
      "id": "278fd2e6-e304-4eca-95a4-e956cd14e559"
    },
    {
      "cell_type": "markdown",
      "metadata": {},
      "source": [
        "<img src=\"media/annotated_scatterplot.png\" width=\"400\"/>"
      ],
      "id": "3586edbd-a01d-4f02-9d56-1d870422988e"
    },
    {
      "cell_type": "raw",
      "metadata": {
        "raw_mimetype": "text/html"
      },
      "source": [
        "<div>\n"
      ],
      "id": "3e8a4264-6bfc-4057-b858-20c16eff99e4"
    },
    {
      "cell_type": "markdown",
      "metadata": {},
      "source": [
        "Because this similarity measurement uses the cosine of the angle between\n",
        "vectors, the magnitude is not a matter of concern (this feature is\n",
        "really helpful for text vectors that can often be really long!).\n",
        "Instead, the output of cosine similarity yields a value between 0 and 1\n",
        "(we don’t have to work with something confusing like 18º!) that can be\n",
        "easily interpreted and compared - and thus we can also avoid the\n",
        "troubles associated with other dimensional distance measures such as\n",
        "[Euclidean Distance](https://en.wikipedia.org/wiki/Euclidean_distance).\n",
        "\n",
        "> **Kaveh-Yazdy & Zarifzadeh (2021)**\n",
        ">\n",
        "> In their paper, Kaveh-Yazdy & Zarifzadeh measure EPU by embedding\n",
        "> various persian news articles into a tri-axis, two dimensional\n",
        "> representation system:\n",
        ">\n",
        "> <img src=\"media/research_paper_system.png\" width=\"400\"/>\n",
        ">\n",
        "> This Tri-axial Representation System is a non-standard coordinate\n",
        "> system used to map the similarity values of news articles with respect\n",
        "> two three categories: Economy, Policy, and Uncertainty- within a 2D\n",
        "> plane. Introducing a tri-asix system in 2d space instead of a\n",
        "> cartesian system in 3d space allows the authors to focus in documents\n",
        "> that cover all three categories of EPU at a general level instead of\n",
        "> narrowing in on documents that focused on one facet of EPU at a\n",
        "> maximal level.\n",
        ">\n",
        "> The authors assign weights to each document using cosine similarity,\n",
        "> measuring the cosing similairy of the words in each document and the\n",
        "> three seed words (Economy, Policy, and Uncertainty). However, to avoid\n",
        "> overclouding the data with words that don’t matter much, the authors\n",
        "> introduce an additional *similarity theshold*, where words under said\n",
        "> similarity threshold are assigned a similarity value of 0 (Kaveh-Yazdy\n",
        "> & Zarifzadeh, 2021).\n",
        "\n",
        "### Calculating Cosine Distance"
      ],
      "id": "282592b0-fb47-4f43-80b0-c38396e6198e"
    },
    {
      "cell_type": "code",
      "execution_count": 5,
      "metadata": {
        "tags": []
      },
      "outputs": [],
      "source": [
        "# Although we want the Cosine Distance, it is mathematically simpler to calculate its opposite: Cosine Similarity\n",
        "\n",
        "from sklearn.metrics.pairwise import cosine_similarity"
      ],
      "id": "33e8be66"
    },
    {
      "cell_type": "code",
      "execution_count": 6,
      "metadata": {
        "tags": []
      },
      "outputs": [],
      "source": [
        "# So we will subtract the similarities from 1\n",
        "\n",
        "cos_sim = cosine_similarity(dtm_df)"
      ],
      "id": "0a5cf67b"
    },
    {
      "cell_type": "code",
      "execution_count": 7,
      "metadata": {
        "tags": []
      },
      "outputs": [],
      "source": [
        "# Make it a little easier to read by rounding the values\n",
        "\n",
        "np.round(cos_sim, 2)\n",
        "\n",
        "# Label the dataframe rows and columns with eggs, sausage and bacon\n",
        "\n",
        "frame_2 = np.round(cos_sim, 2)\n",
        "frame_2 = pandas.DataFrame(frame_2, columns = indices, index = indices)\n",
        "frame_2"
      ],
      "id": "72f00fac"
    },
    {
      "cell_type": "markdown",
      "metadata": {},
      "source": [
        "*From this output table, which novels appear to be more similar to each\n",
        "other?*\n",
        "\n",
        "## Excercise #2: Working with 18th Century Literature"
      ],
      "id": "b584be24-4c7f-42c6-a86d-f431b9e6e275"
    },
    {
      "cell_type": "raw",
      "metadata": {
        "raw_mimetype": "text/html"
      },
      "source": [
        "<div>"
      ],
      "id": "e3750bb2-889d-4d07-b169-ce96110e15c3"
    },
    {
      "cell_type": "markdown",
      "metadata": {},
      "source": [
        "<img src=\"media/18th_cent_literature.png\" width=\"750\"/>"
      ],
      "id": "620a1597-ff92-43ca-883a-2005593c07a9"
    },
    {
      "cell_type": "raw",
      "metadata": {
        "raw_mimetype": "text/html"
      },
      "source": [
        "<div>\n",
        "\n"
      ],
      "id": "f92461ef-ceb7-48bc-be10-82d747b1a370"
    },
    {
      "cell_type": "markdown",
      "metadata": {},
      "source": [
        "Now that we’ve taken a look at word embeddings using fake data, let’s\n",
        "test out our knowledge on actual literature. We’ll be using a collection\n",
        "of texts from famous authors Jane Austen, Nathaniel Hawthorne, and F.\n",
        "Scott Fitzgerald. These books have already been translated for us into\n",
        "`.txt` form to make analysis easier. All three authors have uniquely\n",
        "distinct literary styles: Fitzgerald have very lyrical writing, focusing\n",
        "on the american dream, wealth, and desire. Hawthorne’s writings are very\n",
        "symbolic and allegorical, focusing on sin, guilt, morality, and the\n",
        "supernatural. On the other hand, Austen’s prose is elegant and clear,\n",
        "and her writings focus on social class, marriage, and the role of women\n",
        "in society.\n",
        "\n",
        "We hope that some of these differences will come through in our\n",
        "analysis."
      ],
      "id": "4cb66316-eb22-434e-a760-cc6d2a4a4477"
    },
    {
      "cell_type": "code",
      "execution_count": 8,
      "metadata": {
        "tags": []
      },
      "outputs": [],
      "source": [
        "# Compare the distance between novels\n",
        "\n",
        "filelist = ['txtlab_Novel450_English/EN_1850_Hawthorne,Nathaniel_TheScarletLetter_Novel.txt',\n",
        "            'txtlab_Novel450_English/EN_1851_Hawthorne,Nathaniel_TheHouseoftheSevenGables_Novel.txt',\n",
        "            'txtlab_Novel450_English/EN_1920_Fitzgerald,FScott_ThisSideofParadise_Novel.txt',\n",
        "            'txtlab_Novel450_English/EN_1922_Fitzgerald,FScott_TheBeautifulandtheDamned_Novel.txt',\n",
        "            'txtlab_Novel450_English/EN_1811_Austen,Jane_SenseandSensibility_Novel.txt',\n",
        "            'txtlab_Novel450_English/EN_1813_Austen,Jane_PrideandPrejudice_Novel.txt']\n",
        "\n",
        "novel_names = ['Hawthorne: Scarlet Letter',\n",
        "           'Hawthorne: Seven Gables',\n",
        "           'Fitzgerald: This Side of Paradise',\n",
        "           'Fitzgerald: Beautiful and the Damned',\n",
        "           'Austen: Sense and Sensibility',\n",
        "           'Austen: Pride and Prejudice']\n",
        "\n",
        "text_list = []\n",
        "\n",
        "for file in filelist:\n",
        "    with open(file, 'r', encoding = 'utf-8') as myfile:\n",
        "        text_list.append(myfile.read()) \n",
        "\n",
        "# Import the function CountVectorizer\n",
        "from sklearn.feature_extraction.text import CountVectorizer\n",
        "\n",
        "cv = CountVectorizer(stop_words = 'english', min_df = 3, binary=True)\n",
        "\n",
        "novel_dtm = cv.fit_transform(text_list).toarray()\n",
        "feature_list = cv.get_feature_names_out()\n",
        "dtm_df_novel = pandas.DataFrame(novel_dtm, columns = feature_list, index = novel_names)\n",
        "dtm_df_novel"
      ],
      "id": "a9e3cfaa"
    },
    {
      "cell_type": "code",
      "execution_count": 9,
      "metadata": {
        "tags": []
      },
      "outputs": [],
      "source": [
        "cos_sim_novel = cosine_similarity(dtm_df_novel)\n",
        "cos_sim_novel = np.round(cos_sim_novel, 2)"
      ],
      "id": "8f7fb530"
    },
    {
      "cell_type": "code",
      "execution_count": 10,
      "metadata": {
        "tags": []
      },
      "outputs": [],
      "source": [
        "cos_df = pandas.DataFrame(cos_sim_novel, columns = novel_names, index = novel_names)\n",
        "cos_df"
      ],
      "id": "1549f6f5"
    },
    {
      "cell_type": "code",
      "execution_count": 11,
      "metadata": {
        "tags": []
      },
      "outputs": [],
      "source": [
        "# Visualizing differences\n",
        "\n",
        "from sklearn.manifold import MDS\n",
        "\n",
        "# Two components as we're plotting points in a two-dimensional plane\n",
        "# \"Precomputed\" because we provide a distance matrix\n",
        "# We will also specify `random_state` so that the plot is reproducible.\n",
        "\n",
        "# Transform cosine similarity to cosine distance\n",
        "cos_dist = 1 - cosine_similarity(dtm_df_novel)\n",
        "\n",
        "mds = MDS(n_components=2, dissimilarity=\"precomputed\", random_state=1, normalized_stress=\"auto\")\n",
        "\n",
        "pos = mds.fit_transform(cos_dist)  # shape (n_components, n_samples)\n",
        "xs, ys = pos[:, 0], pos[:, 1]\n",
        "\n",
        "for x, y, name in zip(xs, ys, novel_names):\n",
        "    plt.scatter(x, y)\n",
        "    plt.text(x, y, name)\n",
        "\n",
        "plt.show()"
      ],
      "id": "b8367277"
    },
    {
      "cell_type": "markdown",
      "metadata": {},
      "source": [
        "The above method has a broad range of applications, such as unsupervised\n",
        "clustering. Common techniques include\n",
        "<a href = \"https://en.wikipedia.org/wiki/K-means_clustering\">K-Means\n",
        "Clustering</a> and\n",
        "<a href=\"https://en.wikipedia.org/wiki/Hierarchical_clustering\">Hierarchical\n",
        "Dendrograms</a>. These attempt to identify groups of texts with shared\n",
        "content, based on these kinds of distance measures.\n",
        "\n",
        "Here’s an example of a dendrogram based on these six novels:"
      ],
      "id": "7196cb58-72db-433c-9433-72bcdc736ac6"
    },
    {
      "cell_type": "code",
      "execution_count": 12,
      "metadata": {
        "tags": []
      },
      "outputs": [],
      "source": [
        "from scipy.cluster.hierarchy import ward, dendrogram\n",
        "linkage_matrix = ward(cos_dist)\n",
        "\n",
        "dendrogram(linkage_matrix, orientation=\"right\", labels=novel_names)\n",
        "\n",
        "plt.tight_layout()  # fixes margins\n",
        "\n",
        "plt.show()"
      ],
      "id": "6c740dd9"
    },
    {
      "cell_type": "markdown",
      "metadata": {},
      "source": [
        "#### Vector Semantics\n",
        "\n",
        "We can also turn this logic on its head. Rather than produce vectors\n",
        "representing texts based on their words, we will produce vectors for the\n",
        "words based on their contexts."
      ],
      "id": "c76ed215-38d3-4a49-a7c7-96bdde2a099d"
    },
    {
      "cell_type": "code",
      "execution_count": 13,
      "metadata": {
        "tags": []
      },
      "outputs": [],
      "source": [
        "# Turn our DTM sideways\n",
        "\n",
        "dtm_df_novel.T.head()"
      ],
      "id": "7777e1ab"
    },
    {
      "cell_type": "code",
      "execution_count": 14,
      "metadata": {
        "tags": []
      },
      "outputs": [],
      "source": [
        "# Find the Cosine Distances between pairs of word-vectors\n",
        "\n",
        "cos_sim_words = cosine_similarity(dtm_df_novel.T)"
      ],
      "id": "8de00a30"
    },
    {
      "cell_type": "code",
      "execution_count": 15,
      "metadata": {
        "tags": []
      },
      "outputs": [],
      "source": [
        "# In readable format\n",
        "\n",
        "np.round(cos_sim_words, 2)"
      ],
      "id": "1cc03912"
    },
    {
      "cell_type": "markdown",
      "metadata": {},
      "source": [
        "Theoretically you could visualize and cluster these as well - but this\n",
        "takes a lot of computational power!\n",
        "\n",
        "We’ll thus turn to the machine learning version: word embeddings"
      ],
      "id": "47ed686c-b407-4362-a145-02e80043c24d"
    },
    {
      "cell_type": "code",
      "execution_count": 16,
      "metadata": {
        "tags": []
      },
      "outputs": [],
      "source": [
        "# Clean-up memory\n",
        "import sys\n",
        "\n",
        "# These are the usual ipython objects, including this one you are creating\n",
        "ipython_vars = ['In', 'Out', 'exit', 'quit', 'get_ipython', 'ipython_vars']\n",
        "\n",
        "# Get a sorted list of the objects and their sizes\n",
        "sorted([(x, sys.getsizeof(globals().get(x))) for x in dir() if not x.startswith('_') and x not in sys.modules and x not in ipython_vars], key=lambda x: x[1], reverse=True)\n",
        "\n",
        " \n",
        "del cos_sim_words \n",
        "del dtm_df_novel \n",
        "del novel_dtm \n",
        "del feature_list"
      ],
      "id": "ded162e7"
    },
    {
      "cell_type": "markdown",
      "metadata": {},
      "source": [
        "<font color = \"blue\" size=5>At this point you should restart your kernel\n",
        "if \\< 4 gb memory available</font>\n",
        "\n",
        "-   Do this by clicking on the “Kernel” menu and hitting “restart”\n",
        "\n",
        "## Exercise #3: Using word2vec with 150 English Novels\n",
        "\n",
        "In this exercise, we’ll use an English-language subset from a dataset\n",
        "about novels created by [Andrew\n",
        "Piper](https://www.mcgill.ca/langlitcultures/andrew-piper). Specifically\n",
        "we’ll look at 150 novels by British and American authors spanning the\n",
        "years 1771-1930. These texts reside on disk, each in a separate\n",
        "plaintext file. Metadata is contained in a spreadsheet distributed with\n",
        "the novel files.\n",
        "\n",
        "#### Metadata Columns"
      ],
      "id": "11df684d-4cb6-441d-84f8-02c297172420"
    },
    {
      "cell_type": "raw",
      "metadata": {
        "raw_mimetype": "text/html"
      },
      "source": [
        "<ol>"
      ],
      "id": "6c6790bd-7716-49ee-94fc-6dd92f26d315"
    },
    {
      "cell_type": "raw",
      "metadata": {
        "raw_mimetype": "text/html"
      },
      "source": [
        "<li>"
      ],
      "id": "2936830d-8830-4444-83d2-7d9b05b97f22"
    },
    {
      "cell_type": "markdown",
      "metadata": {},
      "source": [
        "Filename: Name of file on disk"
      ],
      "id": "b456d54a-6ac7-4b27-a30b-bb5cbcc7688f"
    },
    {
      "cell_type": "raw",
      "metadata": {
        "raw_mimetype": "text/html"
      },
      "source": [
        "</li>"
      ],
      "id": "ffc94fa4-3f56-49b6-aee2-136f6aa705d0"
    },
    {
      "cell_type": "raw",
      "metadata": {
        "raw_mimetype": "text/html"
      },
      "source": [
        "<li>"
      ],
      "id": "0074f402-fa43-41ec-acd5-75252ef4f83a"
    },
    {
      "cell_type": "markdown",
      "metadata": {},
      "source": [
        "ID: Unique ID in Piper corpus"
      ],
      "id": "3903d94a-ca2e-4e8b-b983-e5f7c5ce64be"
    },
    {
      "cell_type": "raw",
      "metadata": {
        "raw_mimetype": "text/html"
      },
      "source": [
        "</li>"
      ],
      "id": "dd8a203b-5be2-4bc0-b825-881683b61cc4"
    },
    {
      "cell_type": "raw",
      "metadata": {
        "raw_mimetype": "text/html"
      },
      "source": [
        "<li>"
      ],
      "id": "c8f3d859-2439-4217-b788-db62cef3a92e"
    },
    {
      "cell_type": "markdown",
      "metadata": {},
      "source": [
        "Language: Language of novel"
      ],
      "id": "027571a3-01f2-47a9-9461-ea07c303a44d"
    },
    {
      "cell_type": "raw",
      "metadata": {
        "raw_mimetype": "text/html"
      },
      "source": [
        "</li>"
      ],
      "id": "36ac4676-5954-4c27-9f40-c6fe080d3235"
    },
    {
      "cell_type": "raw",
      "metadata": {
        "raw_mimetype": "text/html"
      },
      "source": [
        "<li>"
      ],
      "id": "a99f3f5e-d0e1-47ce-9ff7-7b08093bf751"
    },
    {
      "cell_type": "markdown",
      "metadata": {},
      "source": [
        "Date: Initial publication date"
      ],
      "id": "5717ac1b-ecfd-4c8b-ae84-3a51a17dbce6"
    },
    {
      "cell_type": "raw",
      "metadata": {
        "raw_mimetype": "text/html"
      },
      "source": [
        "</li>"
      ],
      "id": "5973c1f9-309e-4e2e-af9d-87de714ef002"
    },
    {
      "cell_type": "raw",
      "metadata": {
        "raw_mimetype": "text/html"
      },
      "source": [
        "<li>"
      ],
      "id": "f6a7d700-280f-4eaf-97de-6e93e4f7e9e2"
    },
    {
      "cell_type": "markdown",
      "metadata": {},
      "source": [
        "Title: Title of novel"
      ],
      "id": "220126a1-bc57-449f-b348-f04b0e9f6110"
    },
    {
      "cell_type": "raw",
      "metadata": {
        "raw_mimetype": "text/html"
      },
      "source": [
        "</li>"
      ],
      "id": "0be4e38c-a8ee-49f5-ac01-b94a9ec6aff5"
    },
    {
      "cell_type": "raw",
      "metadata": {
        "raw_mimetype": "text/html"
      },
      "source": [
        "<li>"
      ],
      "id": "d9c40da0-8d3e-4d2c-944a-c427e6f438f6"
    },
    {
      "cell_type": "markdown",
      "metadata": {},
      "source": [
        "Gender: Authorial gender"
      ],
      "id": "835b6921-6f5e-48c0-9b92-754e3a5be2fb"
    },
    {
      "cell_type": "raw",
      "metadata": {
        "raw_mimetype": "text/html"
      },
      "source": [
        "</li>"
      ],
      "id": "30ac4264-0f70-494c-b6d3-1c512e0ef749"
    },
    {
      "cell_type": "raw",
      "metadata": {
        "raw_mimetype": "text/html"
      },
      "source": [
        "<li>"
      ],
      "id": "36b5549d-f463-48a0-ab2c-95c52f8d84b0"
    },
    {
      "cell_type": "markdown",
      "metadata": {},
      "source": [
        "Person: Textual perspective"
      ],
      "id": "43f44c6e-b713-4759-836a-fbf6a682065d"
    },
    {
      "cell_type": "raw",
      "metadata": {
        "raw_mimetype": "text/html"
      },
      "source": [
        "</li>"
      ],
      "id": "50f256a7-d10b-4276-adba-78dfb6423c5d"
    },
    {
      "cell_type": "raw",
      "metadata": {
        "raw_mimetype": "text/html"
      },
      "source": [
        "<li>"
      ],
      "id": "42ba5402-4728-4f1c-8430-522d60792e64"
    },
    {
      "cell_type": "markdown",
      "metadata": {},
      "source": [
        "Length: Number of tokens in novel"
      ],
      "id": "e72b5859-7790-4654-afb6-57ccb147b5d8"
    },
    {
      "cell_type": "raw",
      "metadata": {
        "raw_mimetype": "text/html"
      },
      "source": [
        "</li>"
      ],
      "id": "06899c37-ef4f-4fb2-a5a8-5f3503f720e8"
    },
    {
      "cell_type": "raw",
      "metadata": {
        "raw_mimetype": "text/html"
      },
      "source": [
        "</ol>"
      ],
      "id": "d8f04003-b000-4419-ac80-784b76cd1b1f"
    },
    {
      "cell_type": "code",
      "execution_count": 17,
      "metadata": {
        "tags": []
      },
      "outputs": [],
      "source": [
        "# Data Wrangling\n",
        "\n",
        "import os\n",
        "import numpy as np\n",
        "import pandas\n",
        "from scipy.spatial.distance import cosine\n",
        "from sklearn.metrics import pairwise\n",
        "from sklearn.manifold import MDS, TSNE"
      ],
      "id": "675739d4"
    },
    {
      "cell_type": "code",
      "execution_count": 18,
      "metadata": {
        "tags": []
      },
      "outputs": [],
      "source": [
        "# Natural Language Processing\n",
        "\n",
        "import nltk\n",
        "nltk.download('punkt')\n",
        "from nltk.tokenize import word_tokenize, sent_tokenize"
      ],
      "id": "8c0c24bc"
    },
    {
      "cell_type": "code",
      "execution_count": 19,
      "metadata": {
        "tags": []
      },
      "outputs": [],
      "source": [
        "# New libarary (not in Anaconda: gensim)\n",
        "import gensim"
      ],
      "id": "3e980206"
    },
    {
      "cell_type": "markdown",
      "metadata": {},
      "source": [
        "#### Import Corpus"
      ],
      "id": "3f3db3ed-3de9-4416-82da-ffeeecd9c29b"
    },
    {
      "cell_type": "code",
      "execution_count": 20,
      "metadata": {
        "tags": []
      },
      "outputs": [],
      "source": [
        "# Custom Tokenizer for Classroom Use\n",
        "\n",
        "def fast_tokenize(text):\n",
        "    \n",
        "    # Get a list of punctuation marks\n",
        "    from string import punctuation\n",
        "    \n",
        "    lower_case = text.lower()\n",
        "    \n",
        "    # Iterate through text removing punctuation characters\n",
        "    no_punct = \"\".join([char for char in lower_case if char not in punctuation])\n",
        "    \n",
        "    # Split text over whitespace into list of words\n",
        "    tokens = no_punct.split()\n",
        "    \n",
        "    return tokens"
      ],
      "id": "6d2f6ca0"
    },
    {
      "cell_type": "markdown",
      "metadata": {},
      "source": [
        "#### Import Metadata"
      ],
      "id": "da35d2a2-eeb1-4d31-927a-551e042245f8"
    },
    {
      "cell_type": "code",
      "execution_count": 21,
      "metadata": {
        "tags": []
      },
      "outputs": [],
      "source": [
        "# Import Metadata into Pandas Dataframe\n",
        "\n",
        "meta_df = pandas.read_csv('resources/txtlab_Novel450_English.csv', encoding = 'utf-8')"
      ],
      "id": "c19e9853"
    },
    {
      "cell_type": "code",
      "execution_count": 22,
      "metadata": {
        "tags": []
      },
      "outputs": [],
      "source": [
        "# Check Metadata\n",
        "\n",
        "meta_df.head()"
      ],
      "id": "25ac61a2"
    },
    {
      "cell_type": "code",
      "execution_count": 23,
      "metadata": {
        "tags": []
      },
      "outputs": [],
      "source": [
        "# Set location of corpus folder\n",
        "\n",
        "fiction_folder = 'txtlab_Novel450_English/'"
      ],
      "id": "55300b03"
    },
    {
      "cell_type": "code",
      "execution_count": 24,
      "metadata": {
        "tags": []
      },
      "outputs": [],
      "source": [
        "import os\n",
        "\n",
        "# Create an empty list to store the text of each novel\n",
        "novel_list = []\n",
        "\n",
        "# Iterate through filenames in 'fiction_folder'\n",
        "for filename in os.listdir(fiction_folder):\n",
        "    file_path = os.path.join(fiction_folder, filename)\n",
        "    \n",
        "    try:\n",
        "        # Attempt to read the novel text as a string using utf-8 encoding\n",
        "        with open(file_path, 'r', encoding='utf-8') as file_in:\n",
        "            this_novel = file_in.read()\n",
        "        \n",
        "        # Add novel text as a single string to the master list\n",
        "        novel_list.append(this_novel)\n",
        "    \n",
        "    except UnicodeDecodeError as e:\n",
        "        # Handle encoding errors by skipping the problematic file\n",
        "        print(f\"UnicodeDecodeError: Unable to read '{filename}' - Skipping this file.\")\n",
        "        continue\n",
        "\n",
        "# Now 'novel_list' contains the text of all readable novels."
      ],
      "id": "746b20b6"
    },
    {
      "cell_type": "code",
      "execution_count": 25,
      "metadata": {
        "tags": []
      },
      "outputs": [],
      "source": [
        "# Inspect first item in novel_list\n",
        "\n",
        "novel_list[0][:500]"
      ],
      "id": "7c7b6396"
    },
    {
      "cell_type": "markdown",
      "metadata": {},
      "source": [
        "#### Pre-Processing\n",
        "\n",
        "word2Vec learns about the relationships among words by observing them in\n",
        "context. This means that we want to split our texts into word-units.\n",
        "However, we want to maintain sentence boundaries as well, since the last\n",
        "word of the previous sentence might skew the meaning of the next\n",
        "sentence.\n",
        "\n",
        "Since novels were imported as single strings, we’ll first need to divide\n",
        "them into sentences, and second, we’ll split each sentence into its own\n",
        "list of words."
      ],
      "id": "1cd1940b-0406-47e1-a2e3-b8e1ffea73c9"
    },
    {
      "cell_type": "code",
      "execution_count": 26,
      "metadata": {
        "tags": []
      },
      "outputs": [],
      "source": [
        "# Split each novel into sentences\n",
        "\n",
        "sentences = [sentence for novel in novel_list for sentence in sent_tokenize(novel)]\n",
        "\n",
        "del novel_list"
      ],
      "id": "d9f469bc"
    },
    {
      "cell_type": "code",
      "execution_count": 27,
      "metadata": {
        "tags": []
      },
      "outputs": [],
      "source": [
        "# Inspect first sentence\n",
        "\n",
        "sentences[0]"
      ],
      "id": "546dd254"
    },
    {
      "cell_type": "code",
      "execution_count": 28,
      "metadata": {
        "tags": []
      },
      "outputs": [],
      "source": [
        "# Split each sentence into tokens\n",
        "\n",
        "sentences = [fast_tokenize(sentence) for sentence in sentences]"
      ],
      "id": "d146abc3"
    },
    {
      "cell_type": "code",
      "execution_count": 29,
      "metadata": {
        "tags": []
      },
      "outputs": [],
      "source": [
        "# Remove any sentences that contain zero tokens\n",
        "\n",
        "sentences = [sentence for sentence in sentences if sentence != []]"
      ],
      "id": "38e72b80"
    },
    {
      "cell_type": "code",
      "execution_count": 30,
      "metadata": {
        "tags": []
      },
      "outputs": [],
      "source": [
        "# Inspect first sentence\n",
        "\n",
        "sentences[0]"
      ],
      "id": "111b8b23"
    },
    {
      "cell_type": "markdown",
      "metadata": {},
      "source": [
        "#### Training\n",
        "\n",
        "To train the model, we would run:\n",
        "\n",
        "    # Train word2vec model from txtLab corpus\n",
        "\n",
        "    model = gensim.models.Word2Vec(sentences, vector_size=100, window=5, \\\n",
        "                                   min_count=25, sg=1, alpha=0.025, epochs=5, batch_words=10000)\n",
        "\n",
        "However, this is both slow and memory intensive, so instead we will load\n",
        "pre-trained data."
      ],
      "id": "53a6e567-ec85-4970-89eb-af77ec9cc13a"
    },
    {
      "cell_type": "code",
      "execution_count": 31,
      "metadata": {
        "tags": []
      },
      "outputs": [],
      "source": [
        "#unload moster dataframe\n",
        "del sentences\n",
        "\n",
        "# Load pre-trained model from harddisk\n",
        "model = gensim.models.KeyedVectors.load_word2vec_format('resources/word2vec.txtlab_Novel150_English.txt')"
      ],
      "id": "1db85b9c"
    },
    {
      "cell_type": "markdown",
      "metadata": {},
      "source": [
        "## Embeddings"
      ],
      "id": "98035ad5-13d0-47d3-a334-f9f7ad6689e6"
    },
    {
      "cell_type": "code",
      "execution_count": 32,
      "metadata": {
        "tags": []
      },
      "outputs": [],
      "source": [
        "# Return dense word vector\n",
        "\n",
        "model.get_vector('whale')"
      ],
      "id": "8ee3ded1"
    },
    {
      "cell_type": "markdown",
      "metadata": {},
      "source": [
        "## Vector-Space Operations\n",
        "\n",
        "### Similarity\n",
        "\n",
        "Since words are represented as dense vectors, we can ask how similiar\n",
        "words’ meanings are based on their cosine similarity (essentially how\n",
        "much they overlap). <em>gensim</em> has a few out-of-the-box functions\n",
        "that enable different kinds of comparisons."
      ],
      "id": "90c3a519-f2f7-47e7-af14-7e92bb80d1ed"
    },
    {
      "cell_type": "code",
      "execution_count": 33,
      "metadata": {
        "tags": []
      },
      "outputs": [],
      "source": [
        "# Find cosine distance between two given word vectors\n",
        "\n",
        "model.similarity('pride','prejudice')"
      ],
      "id": "3c8881d5"
    },
    {
      "cell_type": "code",
      "execution_count": 34,
      "metadata": {
        "tags": []
      },
      "outputs": [],
      "source": [
        "# Find nearest word vectors by cosine distance\n",
        "\n",
        "model.most_similar('pride')"
      ],
      "id": "09d8dd0b"
    },
    {
      "cell_type": "code",
      "execution_count": 35,
      "metadata": {
        "tags": []
      },
      "outputs": [],
      "source": [
        "# Given a list of words, we can ask which doesn't belong\n",
        "\n",
        "# Finds mean vector of words in list\n",
        "# and identifies the word further from that mean\n",
        "\n",
        "model.doesnt_match(['pride','prejudice', 'whale'])"
      ],
      "id": "6e010f74"
    },
    {
      "cell_type": "markdown",
      "metadata": {},
      "source": [
        "### Multiple Valences\n",
        "\n",
        "A word embedding may encode both primary and secondary meanings that are\n",
        "both present at the same time. In order to identify secondary meanings\n",
        "in a word, we can subtract the vectors of primary (or simply unwanted)\n",
        "meanings. For example, we may wish to remove the sense of <em>river\n",
        "bank</em> from the word <em>bank</em>. This would be written\n",
        "mathetmatically as <em>RIVER - BANK</em>, which in <em>gensim</em>’s\n",
        "interface lists <em>RIVER</em> as a positive meaning and <em>BANK</em>\n",
        "as a negative one."
      ],
      "id": "1d8d7efa-b27e-476e-afc5-18bcb662b7a0"
    },
    {
      "cell_type": "code",
      "execution_count": 36,
      "metadata": {
        "tags": []
      },
      "outputs": [],
      "source": [
        "# Get most similar words to BANK, in order to get a sense for its primary meaning\n",
        "\n",
        "model.most_similar('bank')"
      ],
      "id": "0619ba43"
    },
    {
      "cell_type": "code",
      "execution_count": 37,
      "metadata": {
        "tags": []
      },
      "outputs": [],
      "source": [
        "# Remove the sense of \"river bank\" from \"bank\" and see what is left\n",
        "\n",
        "model.most_similar(positive=['bank'], negative=['river'])"
      ],
      "id": "cc225a0e"
    },
    {
      "cell_type": "markdown",
      "metadata": {},
      "source": [
        "### Analogy\n",
        "\n",
        "Analogies are rendered as simple mathematical operations in vector\n",
        "space. For example, the canonic word2vec analogy <em>MAN is to KING as\n",
        "WOMAN is to ??</em> is rendered as <em>KING - MAN + WOMAN</em>. In the\n",
        "gensim interface, we designate <em>KING</em> and <em>WOMAN</em> as\n",
        "positive terms and <em>MAN</em> as a negative term, since it is\n",
        "subtracted from those."
      ],
      "id": "1337cee2-3ed3-495c-8798-ff2ea78f7437"
    },
    {
      "cell_type": "code",
      "execution_count": 38,
      "metadata": {
        "tags": []
      },
      "outputs": [],
      "source": [
        "# Get most similar words to KING, in order\n",
        "# to get a sense for its primary meaning\n",
        "\n",
        "model.most_similar('king')"
      ],
      "id": "056ae143"
    },
    {
      "cell_type": "code",
      "execution_count": 39,
      "metadata": {
        "tags": []
      },
      "outputs": [],
      "source": [
        "# The canonic word2vec analogy: King - Man + Woman -> Queen\n",
        "\n",
        "model.most_similar(positive=['woman', 'king'], negative=['man'])"
      ],
      "id": "9b2c8a1a"
    },
    {
      "cell_type": "markdown",
      "metadata": {},
      "source": [
        "### Gendered Vectors\n",
        "\n",
        "Note that this method uses vector projection, whereas Schmidt had used\n",
        "rejection."
      ],
      "id": "fd20b3a6-81ef-4d3d-b7c7-3b13f662460c"
    },
    {
      "cell_type": "code",
      "execution_count": 40,
      "metadata": {
        "tags": []
      },
      "outputs": [],
      "source": [
        "# Feminine Vector\n",
        "\n",
        "model.most_similar(positive=['she','her','hers','herself'], negative=['he','him','his','himself'])"
      ],
      "id": "ae6b5477"
    },
    {
      "cell_type": "code",
      "execution_count": 41,
      "metadata": {
        "tags": []
      },
      "outputs": [],
      "source": [
        "# Masculine Vector\n",
        "\n",
        "model.most_similar(positive=['he','him','his','himself'], negative=['she','her','hers','herself'])"
      ],
      "id": "aca4aa2b"
    },
    {
      "cell_type": "markdown",
      "metadata": {},
      "source": [
        "## Visualization"
      ],
      "id": "9d6acd99-e133-44e5-b544-a6f02c658b7a"
    },
    {
      "cell_type": "code",
      "execution_count": 42,
      "metadata": {
        "tags": []
      },
      "outputs": [],
      "source": [
        "# Dictionary of words in model\n",
        "\n",
        "model.key_to_index"
      ],
      "id": "5ced0c26"
    },
    {
      "cell_type": "code",
      "execution_count": 43,
      "metadata": {
        "tags": []
      },
      "outputs": [],
      "source": [
        "# Visualizing the whole vocabulary would make it hard to read\n",
        "\n",
        "len(model.key_to_index)"
      ],
      "id": "0379c465"
    },
    {
      "cell_type": "code",
      "execution_count": 44,
      "metadata": {
        "tags": []
      },
      "outputs": [],
      "source": [
        "# For interpretability, we'll select words that already have a semantic relation\n",
        "\n",
        "her_tokens = [token for token,weight in model.most_similar(positive=['she','her','hers','herself'], \\\n",
        "                                                       negative=['he','him','his','himself'], topn=50)]"
      ],
      "id": "d74057dd"
    },
    {
      "cell_type": "code",
      "execution_count": 45,
      "metadata": {
        "tags": []
      },
      "outputs": [],
      "source": [
        "# Inspect list\n",
        "\n",
        "her_tokens[:15]"
      ],
      "id": "cf6c2c7e"
    },
    {
      "cell_type": "code",
      "execution_count": 46,
      "metadata": {
        "tags": []
      },
      "outputs": [],
      "source": [
        "# Get the vector for each sampled word\n",
        "\n",
        "vectors = [model.get_vector(word) for word in her_tokens] "
      ],
      "id": "df553ee2"
    },
    {
      "cell_type": "code",
      "execution_count": 47,
      "metadata": {
        "tags": []
      },
      "outputs": [],
      "source": [
        "# Calculate distances among texts in vector space\n",
        "\n",
        "dist_matrix = pairwise.pairwise_distances(vectors, metric='cosine')\n",
        "dist_matrix"
      ],
      "id": "6a35c0af"
    },
    {
      "cell_type": "code",
      "execution_count": 48,
      "metadata": {
        "tags": []
      },
      "outputs": [],
      "source": [
        "# Multi-Dimensional Scaling (Project vectors into 2-D)\n",
        "\n",
        "mds = MDS(n_components = 2, dissimilarity='precomputed')\n",
        "embeddings = mds.fit_transform(dist_matrix)"
      ],
      "id": "f5e0d4b8"
    },
    {
      "cell_type": "code",
      "execution_count": 49,
      "metadata": {
        "tags": []
      },
      "outputs": [],
      "source": [
        "# Make a pretty graph\n",
        "%pylab inline\n",
        "matplotlib.style.use('ggplot')\n",
        "\n",
        "_, ax = subplots(figsize=(10,10))\n",
        "ax.scatter(embeddings[:,0], embeddings[:,1], alpha=0)\n",
        "for i in range(len(vectors)):\n",
        "    ax.annotate(her_tokens[i], ((embeddings[i,0], embeddings[i,1])))"
      ],
      "id": "a5d5fcad"
    },
    {
      "cell_type": "code",
      "execution_count": 50,
      "metadata": {
        "tags": []
      },
      "outputs": [],
      "source": [
        "# For comparison, here is the same graph using a masculine-pronoun vector\n",
        "\n",
        "his_tokens = [token for token,weight in model.most_similar(positive=['he','him','his','himself'], \\\n",
        "                                                       negative=['she','her','hers','herself'], topn=50)]\n",
        "vectors = [model.get_vector(word) for word in his_tokens]\n",
        "dist_matrix = pairwise.pairwise_distances(vectors, metric='cosine')\n",
        "mds = MDS(n_components = 2, dissimilarity='precomputed')\n",
        "embeddings = mds.fit_transform(dist_matrix)\n",
        "_, ax = plt.subplots(figsize=(10,10))\n",
        "ax.scatter(embeddings[:,0], embeddings[:,1], alpha=0)\n",
        "for i in range(len(vectors)):\n",
        "    ax.annotate(his_tokens[i], ((embeddings[i,0], embeddings[i,1])))"
      ],
      "id": "d7ff79df"
    },
    {
      "cell_type": "markdown",
      "metadata": {},
      "source": [
        "> <span style=\"color:#CC7A00\" > What kinds of semantic relationships\n",
        "> exist in the diagram above?\n",
        ">\n",
        "> </p>\n",
        ">\n",
        "> <span style=\"color:#CC7A00\"> Are there any words that seem out of\n",
        "> place? </span>\n",
        "\n",
        "## Saving & Loading Models"
      ],
      "id": "886dbb75-e746-4ad9-a388-0ab40bba25c6"
    },
    {
      "cell_type": "code",
      "execution_count": 51,
      "metadata": {
        "tags": []
      },
      "outputs": [],
      "source": [
        "# Save current model for later use\n",
        "\n",
        "model.save_word2vec_format('resources/word2vec.txtlab_Novel150_English.txt')\n",
        "#model.save_word2vec_format('resources/word2vec.txtlab_Novel150_English.txt') # deprecated"
      ],
      "id": "b9840a07"
    },
    {
      "cell_type": "code",
      "execution_count": 52,
      "metadata": {
        "tags": []
      },
      "outputs": [],
      "source": [
        "# Load up models from disk\n",
        "\n",
        "# Model trained on Eighteenth Century Collections Online corpus (~2500 texts)\n",
        "# Made available by Ryan Heuser: http://ryanheuser.org/word-vectors-1/\n",
        "\n",
        "ecco_model = gensim.models.KeyedVectors.load_word2vec_format('resources/word2vec.ECCO-TCP.txt')\n",
        "#ecco_model = gensim.models.Word2Vec.load_word2vec_format('resources/word2vec.ECCO-TCP.txt') # deprecated"
      ],
      "id": "9f367a55"
    },
    {
      "cell_type": "code",
      "execution_count": 53,
      "metadata": {
        "tags": []
      },
      "outputs": [],
      "source": [
        "# What are similar words to BANK?\n",
        "\n",
        "ecco_model.most_similar('bank')"
      ],
      "id": "9e553b7f"
    },
    {
      "cell_type": "code",
      "execution_count": 54,
      "metadata": {
        "tags": []
      },
      "outputs": [],
      "source": [
        "# What if we remove the sense of \"river bank\"?\n",
        "\n",
        "ecco_model.most_similar(positive=['bank'], negative=['river'])"
      ],
      "id": "f179bdeb"
    },
    {
      "cell_type": "markdown",
      "metadata": {},
      "source": [
        "## Exercises!\n",
        "\n",
        "See if you can attempt the following exercises on your own!"
      ],
      "id": "e9a23aa1-05a6-4236-af43-3dbd224fca24"
    },
    {
      "cell_type": "code",
      "execution_count": 55,
      "metadata": {
        "tags": []
      },
      "outputs": [],
      "source": [
        "## EX. Use the most_similar method to find the tokens nearest to 'car' in either model.\n",
        "##     Do the same for 'motorcar'.\n",
        "\n",
        "## Q.  What characterizes these two words inthe corpus? Does this make sense?\n",
        "\n",
        "model.most_similar('car')"
      ],
      "id": "e8477db4"
    },
    {
      "cell_type": "code",
      "execution_count": 56,
      "metadata": {
        "tags": []
      },
      "outputs": [],
      "source": [
        "model.most_similar('motorcar')"
      ],
      "id": "07f53329"
    },
    {
      "cell_type": "code",
      "execution_count": 57,
      "metadata": {
        "tags": []
      },
      "outputs": [],
      "source": [
        "## EX. How does our model answer the analogy: MADRID is to SPAIN as PARIS is to __________\n",
        "\n",
        "## Q.  What has our model learned about nation-states?\n",
        "\n",
        "\n",
        "model.most_similar(positive=['paris', 'spain'], negative = ['madrid'])"
      ],
      "id": "6b24b580"
    },
    {
      "cell_type": "code",
      "execution_count": 58,
      "metadata": {
        "tags": []
      },
      "outputs": [],
      "source": [
        "## EX. Perform the canonic Word2Vec addition again but leave out a term:\n",
        "##     Try 'king' - 'man', 'woman' - 'man', 'woman' + 'king'\n",
        "\n",
        "## Q.  What do these indicate semantically?\n",
        "\n",
        "model.most_similar(positive= ['woman'], negative=['man'])"
      ],
      "id": "a87a1753"
    },
    {
      "cell_type": "code",
      "execution_count": 59,
      "metadata": {
        "tags": []
      },
      "outputs": [],
      "source": [
        "## EX. Heuser's blog post explores an analogy in eighteenth-century thought that\n",
        "##     RICHES are to VIRTUE what LEARNING is to GENIUS. How true is this in\n",
        "##     the ECCO-trained Word2Vec model? Is it true in the one we trained?\n",
        "\n",
        "##  Q. How might we compare word2vec models more generally?"
      ],
      "id": "723c1d36"
    },
    {
      "cell_type": "code",
      "execution_count": 60,
      "metadata": {
        "tags": []
      },
      "outputs": [],
      "source": [
        "# ECCO model: RICHES are to VIRTUE what LEARNING is to ??\n",
        "\n",
        "ecco_model.most_similar(positive=['learning', 'virtue'], negative=['riches'])"
      ],
      "id": "8ff61ec8"
    },
    {
      "cell_type": "code",
      "execution_count": 61,
      "metadata": {
        "tags": []
      },
      "outputs": [],
      "source": [
        "# txtLab model: RICHES are to VIRTUE what LEARNING is to ??\n",
        "model.most_similar(positive=['learning', 'virtue'], negative=['riches'])"
      ],
      "id": "68b4860e"
    },
    {
      "cell_type": "markdown",
      "metadata": {},
      "source": [
        "## Concluding Remarks and Resources\n",
        "\n",
        "Throughout this notebook we have seen how a number of mathematical\n",
        "operations can be used to explore word2vec’s word embeddings. Hopefully\n",
        "this notebook has allowed you to see how the inherent biases of language\n",
        "become coded into word embeddings and systems that use word embeddings\n",
        "cannot be treated as search engines.\n",
        "\n",
        "While getting inside the technics of these computational processes can\n",
        "enable us to answer a set of new, interesting questions dealing with\n",
        "semantics, there are many other questions that remain unanswered.\n",
        "\n",
        "For example: \\* Many language models are built using text from large,\n",
        "online corpora (such as Wikipedia, which is known to have a contributor\n",
        "basis that is majority white, college-educated men) - what kind of\n",
        "impact might this have on a language model? \\* What barriers to the\n",
        "healthy functioning of democracy are created by the widespread use of\n",
        "these tools and technologies in society? \\* How might language models\n",
        "challenge or renegotiate ideas around copyright, intellectual property\n",
        "and conceptions of authorship more broadly? \\* What might guardrails\n",
        "look like for the safe and equitable management and deployment of\n",
        "language models?\n",
        "\n",
        "## Other Resources for Further Learning\n",
        "\n",
        "-   [UBC Library Generative AI Research\n",
        "    Guide](https://guides.library.ubc.ca/GenAI/home)\n",
        "-   [What Is ChatGPT Doing … and Why Does It\n",
        "    Work?](https://writings.stephenwolfram.com/2023/02/what-is-chatgpt-doing-and-why-does-it-work/)\n",
        "    by Stephen Wolfram\n",
        "-   [TensorFlow Word Embeddings\n",
        "    tutorial](https://www.tensorflow.org/text/guide/word_embeddings)\n",
        "\n",
        "## References\n",
        "\n",
        "This notebook has been built using the following materials: -\n",
        "Arseniev-Koehler, A., & Foster, J. G. (2020). Sociolinguistic Properties\n",
        "of Word Embeddings \\[Preprint\\]. SocArXiv.\n",
        "https://doi.org/10.31235/osf.io/b8kud - Schiffers, R., Kern, D., &\n",
        "Hienert, D. (2023). Evaluation of Word Embeddings for the Social\n",
        "Sciences (arXiv:2302.06174). arXiv. http://arxiv.org/abs/2302.06174\n",
        "\n",
        "-   Anwla, P. K. (2019, October 22). Challenges in word2vec Model.\n",
        "    TowardsMachineLearning.\n",
        "    https://towardsmachinelearning.org/performance-problems-in-word2vec-model/\n",
        "\n",
        "-   Chandran, S. (2021, November 16). Introduction to Text\n",
        "    Representations for Language Processing—Part 2. Medium.\n",
        "    https://towardsdatascience.com/introduction-to-text-representations-for-language-processing-part-2-54fe6907868\n",
        "\n",
        "-   Kaveh-Yazdy, F., & Zarifzadeh, S. (2021). Measuring Economic Policy\n",
        "    Uncertainty Using an Unsupervised Word Embedding-based Method. SSRN\n",
        "    Electronic Journal. https://doi.org/10.2139/ssrn.3845847"
      ],
      "id": "912ba1ab-f611-4d97-b6b7-edad3dd04f32"
    }
  ],
  "nbformat": 4,
  "nbformat_minor": 5,
  "metadata": {
    "kernelspec": {
      "name": "python3",
      "display_name": "Python 3 (ipykernel)",
      "language": "python"
    },
    "language_info": {
      "name": "python",
      "codemirror_mode": {
        "name": "ipython",
        "version": "3"
      },
      "file_extension": ".py",
      "mimetype": "text/x-python",
      "nbconvert_exporter": "python",
      "pygments_lexer": "ipython3",
      "version": "3.10.12"
    }
  }
}