{
  "cells": [
    {
      "cell_type": "markdown",
      "metadata": {},
      "source": [
        "# 3.5 - Advanced - Word Embeddings Tutorial (python)"
      ],
      "id": "9b798844-bc47-4f27-bf26-49da98743b9a"
    },
    {
      "cell_type": "raw",
      "metadata": {
        "raw_mimetype": "text/html"
      },
      "source": [
        "<h1 align=\"center\">"
      ],
      "id": "ab023cdc-94ac-4134-908c-8192a46e6ca2"
    },
    {
      "cell_type": "markdown",
      "metadata": {},
      "source": [
        "It Starts with a Research Question…"
      ],
      "id": "66004895-380d-4885-aa74-003e90325f20"
    },
    {
      "cell_type": "raw",
      "metadata": {
        "raw_mimetype": "text/html"
      },
      "source": [
        "</h1>"
      ],
      "id": "530c13c1-325a-4833-91e2-c65b7bff36f3"
    },
    {
      "cell_type": "markdown",
      "metadata": {},
      "source": [
        "<img src='Schmidt Fig 1.png' width=\"66%\" height=\"66%\">\n",
        "\n",
        "# Word2Vec\n",
        "\n",
        "This lesson is designed to explore features of word embeddings produced\n",
        "through the word2vec model. The questions we ask in this lesson are\n",
        "guided by Ben Schmidt’s blog post\n",
        "<a href = \"http://bookworm.benschmidt.org/posts/2015-10-30-rejecting-the-gender-binary.html\">Rejecting\n",
        "the Gender Binary</a>.\n",
        "\n",
        "The primary corpus we wil use consists of the\n",
        "<a href=\"http://txtlab.org/?p=601\">150 English-language novels</a> made\n",
        "available by the <em>.txtLab</em> at McGill University. We also look at\n",
        "a <a href=\"http://ryanheuser.org/word-vectors-1/\">Word2Vec model trained\n",
        "on the ECCO-TCP corpus</a> of 2,350 eighteenth-century literary texts\n",
        "made available by Ryan Heuser. (Note that the number of terms in the\n",
        "model has been shortened by half in order to conserve memory.)\n",
        "\n",
        "For further technical background on Word2Vec’s mechanics, I suggest this\n",
        "<a href=\"https://chromium.googlesource.com/external/github.com/tensorflow/tensorflow/+/refs/heads/0.6.0/tensorflow/g3doc/tutorials/word2vec/index.md\">brief\n",
        "tutorial</a> by Google, especially the sections “Motivation,” “Skip-Gram\n",
        "Model,” and “Visualizing.”\n",
        "\n",
        "### Tutorial Agenda"
      ],
      "id": "9367f0ec-9d1a-45b9-ad84-a16c00bc5aea"
    },
    {
      "cell_type": "raw",
      "metadata": {
        "raw_mimetype": "text/html"
      },
      "source": [
        "<ul>"
      ],
      "id": "546be23c-4813-4ef9-9163-ccea1dc812e4"
    },
    {
      "cell_type": "raw",
      "metadata": {
        "raw_mimetype": "text/html"
      },
      "source": [
        "<li>"
      ],
      "id": "5ed6f184-dd14-4f20-b217-fe86d8d15968"
    },
    {
      "cell_type": "markdown",
      "metadata": {},
      "source": [
        "Vector-Space Model of Language"
      ],
      "id": "abb82eff-b641-4fca-a97b-5ec82067358e"
    },
    {
      "cell_type": "raw",
      "metadata": {
        "raw_mimetype": "text/html"
      },
      "source": [
        "</li>"
      ],
      "id": "62f7a4a4-82ff-4261-a418-ecb4637956dc"
    },
    {
      "cell_type": "raw",
      "metadata": {
        "raw_mimetype": "text/html"
      },
      "source": [
        "<li>"
      ],
      "id": "bb729940-4429-4c3f-ae21-550c0e6a2e6e"
    },
    {
      "cell_type": "markdown",
      "metadata": {},
      "source": [
        "Import & Pre-Processing"
      ],
      "id": "daef04b8-86d3-470f-ac79-7f71e375013d"
    },
    {
      "cell_type": "raw",
      "metadata": {
        "raw_mimetype": "text/html"
      },
      "source": [
        "</li>"
      ],
      "id": "8b0f8667-e9ae-4ad4-9204-3cdde860b3f6"
    },
    {
      "cell_type": "raw",
      "metadata": {
        "raw_mimetype": "text/html"
      },
      "source": [
        "<li>"
      ],
      "id": "b185c84b-5be8-47fc-acdc-7d19c0c38c54"
    },
    {
      "cell_type": "markdown",
      "metadata": {},
      "source": [
        "Word2Vec"
      ],
      "id": "fd8e5ad9-c996-4f3f-8f75-64194ce9fc43"
    },
    {
      "cell_type": "raw",
      "metadata": {
        "raw_mimetype": "text/html"
      },
      "source": [
        "</li>"
      ],
      "id": "0b2ee556-2666-4979-aa76-d1d31d010058"
    },
    {
      "cell_type": "raw",
      "metadata": {
        "raw_mimetype": "text/html"
      },
      "source": [
        "<ul>"
      ],
      "id": "08fcfa98-071e-4392-b251-5af4332cea8f"
    },
    {
      "cell_type": "raw",
      "metadata": {
        "raw_mimetype": "text/html"
      },
      "source": [
        "<li>"
      ],
      "id": "073f7bb9-60f9-484c-ad95-ba73b71b6c6d"
    },
    {
      "cell_type": "markdown",
      "metadata": {},
      "source": [
        "Training"
      ],
      "id": "9028b4b4-fd11-4042-aad0-e6ac888bb5ed"
    },
    {
      "cell_type": "raw",
      "metadata": {
        "raw_mimetype": "text/html"
      },
      "source": [
        "</li>"
      ],
      "id": "79d4286d-ea5b-4971-8b51-2865bb876837"
    },
    {
      "cell_type": "raw",
      "metadata": {
        "raw_mimetype": "text/html"
      },
      "source": [
        "<li>"
      ],
      "id": "9c55ed20-b45b-4ac6-8458-af3b86649346"
    },
    {
      "cell_type": "markdown",
      "metadata": {},
      "source": [
        "Embeddings"
      ],
      "id": "643bef92-8de0-44cb-9080-4fd7973e81e9"
    },
    {
      "cell_type": "raw",
      "metadata": {
        "raw_mimetype": "text/html"
      },
      "source": [
        "</li>"
      ],
      "id": "d87cfc24-a143-4bb5-8162-7a526c75ea86"
    },
    {
      "cell_type": "raw",
      "metadata": {
        "raw_mimetype": "text/html"
      },
      "source": [
        "<li>"
      ],
      "id": "7cd9a339-347d-478a-86b2-39ce34d42f47"
    },
    {
      "cell_type": "markdown",
      "metadata": {},
      "source": [
        "Visualization"
      ],
      "id": "2fe56a31-bcf5-4989-ad8c-65df5d942cdd"
    },
    {
      "cell_type": "raw",
      "metadata": {
        "raw_mimetype": "text/html"
      },
      "source": [
        "</li>"
      ],
      "id": "3524770f-54e7-48ff-9d5c-440eedee3fb1"
    },
    {
      "cell_type": "raw",
      "metadata": {
        "raw_mimetype": "text/html"
      },
      "source": [
        "</ul>"
      ],
      "id": "9b28dc45-dd3c-47e4-a9e4-9f6b87702972"
    },
    {
      "cell_type": "raw",
      "metadata": {
        "raw_mimetype": "text/html"
      },
      "source": [
        "<li>"
      ],
      "id": "fbc07119-8faf-4223-ae9f-7afd8bc6cbc3"
    },
    {
      "cell_type": "markdown",
      "metadata": {},
      "source": [
        "Saving/Loading Models"
      ],
      "id": "e6bcf80b-eb5a-4b3f-8424-3ecd01dedab9"
    },
    {
      "cell_type": "raw",
      "metadata": {
        "raw_mimetype": "text/html"
      },
      "source": [
        "</li>"
      ],
      "id": "b315353d-9bd8-4f8d-b1c4-27bddf1ddbf4"
    },
    {
      "cell_type": "raw",
      "metadata": {
        "raw_mimetype": "text/html"
      },
      "source": [
        "</ul>"
      ],
      "id": "6053e26e-b25f-4a75-8e03-9c235b0c09c4"
    },
    {
      "cell_type": "raw",
      "metadata": {
        "raw_mimetype": "text/html"
      },
      "source": [
        "<li>"
      ],
      "id": "f82a048f-0698-4908-9d2a-d71d2a781319"
    },
    {
      "cell_type": "markdown",
      "metadata": {},
      "source": [
        "Topic Models"
      ],
      "id": "44a54e67-2f46-4424-ab5a-f2bf14695aa3"
    },
    {
      "cell_type": "raw",
      "metadata": {
        "raw_mimetype": "text/html"
      },
      "source": [
        "</li>"
      ],
      "id": "6c7f47a4-40b1-48ee-a0f6-61c1a1177b88"
    },
    {
      "cell_type": "raw",
      "metadata": {
        "raw_mimetype": "text/html"
      },
      "source": [
        "</ul>"
      ],
      "id": "43925562-11cb-4530-9d8f-dcf60a8ceee4"
    },
    {
      "cell_type": "markdown",
      "metadata": {},
      "source": [
        "# 0. Vector-Space Model of Language\n",
        "\n",
        "In the first day of this workshop, we explored the strange way that\n",
        "computers read text: by splitting it into tokens and tallying their\n",
        "frequencies. A novel or album review is reduced to a series of word\n",
        "counts. Since then, we have used simple arithmetic and statistics to\n",
        "identify patterns across those tallies. However, it is often useful to\n",
        "consider these patterns from another perspective: geometry.\n",
        "\n",
        "Each text can be described as a series of word counts. What if we\n",
        "treated those like coordinates in space?\n",
        "\n",
        "### Prep for visualization"
      ],
      "id": "4b4a4431-c29b-4331-b20a-6e9e5218526e"
    },
    {
      "cell_type": "code",
      "execution_count": 1,
      "metadata": {},
      "outputs": [],
      "source": [
        "%pylab inline\n",
        "matplotlib.style.use('ggplot')"
      ],
      "id": "826ae126"
    },
    {
      "cell_type": "markdown",
      "metadata": {},
      "source": [
        "### Create a DTM with a Few Pseudo-Texts"
      ],
      "id": "beac54a5-389f-484f-b49f-c31ca3c9ee1d"
    },
    {
      "cell_type": "code",
      "execution_count": 2,
      "metadata": {},
      "outputs": [],
      "source": [
        "# dataframes!\n",
        "import pandas\n",
        "\n",
        "# Construct dataframe\n",
        "columns = ['eggs','sausage','bacon']\n",
        "indices = ['Novel A', 'Novel B', 'Novel C']\n",
        "dtm = [[50,60,60],[90,10,10], [20,70,70]]\n",
        "dtm_df = pandas.DataFrame(dtm, columns = columns, index = indices)\n",
        "\n",
        "# Show dataframe\n",
        "dtm_df"
      ],
      "id": "302af04e"
    },
    {
      "cell_type": "markdown",
      "metadata": {},
      "source": [
        "### Visualize"
      ],
      "id": "41c9a470-268a-4533-9574-d215efb1404e"
    },
    {
      "cell_type": "code",
      "execution_count": 3,
      "metadata": {},
      "outputs": [],
      "source": [
        "# Plot our points\n",
        "scatter(dtm_df['eggs'], dtm_df['sausage'])\n",
        "\n",
        "# Make the graph look good\n",
        "xlim([0,100]), ylim([0,100])\n",
        "xlabel('eggs'), ylabel('sausage')"
      ],
      "id": "98bfb77e"
    },
    {
      "cell_type": "markdown",
      "metadata": {},
      "source": [
        "### Vectors\n",
        "\n",
        "At a glance, a couple of points are lying closer to one another. We used\n",
        "the word frequencies of just two words in order to plot our texts in a\n",
        "two-dimensional plane. The term frequency “summaries” of <i>Novel A</i>\n",
        "& <i>Novel C</i> are pretty similar to one another: they both share a\n",
        "major concern with “eggs”, whereas <i>Novel B</i> seems to focus\n",
        "primarily on “sausage.”\n",
        "\n",
        "This raises a question: how can we operationalize our intuition that\n",
        "spatial distance expresses topical similarity?\n",
        "\n",
        "<img src='Dot-Product.png' >\n",
        "\n",
        "The most common measurement of distance between points is their\n",
        "<a href=\"https://en.wikipedia.org/wiki/Cosine_similarity\">Cosine\n",
        "Similarity</a>. Imagine that we draw an arrow from the origin of the\n",
        "graph – point (0,0) – to the dot representing each text. This arrow is\n",
        "called a <i>vector</i>. The Cosine Similarity between two vectors\n",
        "measures how much they overlap with one another. Values for the cosine\n",
        "similarity between two vectors fall between 0 and 1, so they are easily\n",
        "interpreted and compared.\n",
        "\n",
        "### Cosine Distance"
      ],
      "id": "71f8ed82-1b41-43d3-b7ac-1e6e06e22a96"
    },
    {
      "cell_type": "code",
      "execution_count": 4,
      "metadata": {},
      "outputs": [],
      "source": [
        "# Although we want the Cosine Distance, it is mathematically\n",
        "# simpler to calculate its opposite: Cosine Similarity\n",
        "\n",
        "from sklearn.metrics.pairwise import cosine_similarity"
      ],
      "id": "2af8fbe8"
    },
    {
      "cell_type": "code",
      "execution_count": 5,
      "metadata": {},
      "outputs": [],
      "source": [
        "# So we will subtract the similarities from 1\n",
        "\n",
        "cos_sim = cosine_similarity(dtm_df)"
      ],
      "id": "03ec1238"
    },
    {
      "cell_type": "code",
      "execution_count": 6,
      "metadata": {},
      "outputs": [],
      "source": [
        "# And we'll make it a little easier to read\n",
        "\n",
        "np.round(cos_sim, 2)"
      ],
      "id": "552dd199"
    },
    {
      "cell_type": "code",
      "execution_count": 7,
      "metadata": {},
      "outputs": [],
      "source": [
        "#Compare the distance between novels\n",
        "\n",
        "filelist = ['txtlab_Novel450_English/EN_1850_Hawthorne,Nathaniel_TheScarletLetter_Novel.txt',\n",
        "            'txtlab_Novel450_English/EN_1851_Hawthorne,Nathaniel_TheHouseoftheSevenGables_Novel.txt',\n",
        "            'txtlab_Novel450_English/EN_1920_Fitzgerald,FScott_ThisSideofParadise_Novel.txt',\n",
        "            'txtlab_Novel450_English/EN_1922_Fitzgerald,FScott_TheBeautifulandtheDamned_Novel.txt',\n",
        "            'txtlab_Novel450_English/EN_1811_Austen,Jane_SenseandSensibility_Novel.txt',\n",
        "            'txtlab_Novel450_English/EN_1813_Austen,Jane_PrideandPrejudice_Novel.txt']\n",
        "\n",
        "novel_names = ['Hawthorne: Scarlet Letter',\n",
        "           'Hawthorne: Seven Gables',\n",
        "           'Fitzgerald: This Side of Paradise',\n",
        "           'Fitzgerald: Beautiful and the Damned',\n",
        "           'Austen: Sense and Sensibility',\n",
        "           'Austen: Pride and Prejudice']\n",
        "\n",
        "text_list = []\n",
        "\n",
        "for file in filelist:\n",
        "    with open(file, 'r', encoding = 'utf-8') as myfile:\n",
        "        text_list.append(myfile.read())\n",
        "\n",
        "            \n",
        "\n",
        "#import the function CountVectorizer\n",
        "from sklearn.feature_extraction.text import CountVectorizer\n",
        "\n",
        "cv = CountVectorizer(stop_words = 'english', min_df = 3, binary=True)\n",
        "\n",
        "novel_dtm = cv.fit_transform(text_list).toarray()\n",
        "feature_list = cv.get_feature_names_out()\n",
        "dtm_df_novel = pandas.DataFrame(novel_dtm, columns = feature_list, index = novel_names)\n",
        "dtm_df_novel"
      ],
      "id": "d3c84d63"
    },
    {
      "cell_type": "code",
      "execution_count": 8,
      "metadata": {},
      "outputs": [],
      "source": [
        "cos_sim_novel = cosine_similarity(dtm_df_novel)\n",
        "np.round(cos_sim_novel, 2)"
      ],
      "id": "e48c619d"
    },
    {
      "cell_type": "code",
      "execution_count": 9,
      "metadata": {},
      "outputs": [],
      "source": [
        "cos_df = pandas.DataFrame(cos_sim_novel, columns = novel_names, index = novel_names)\n",
        "cos_df"
      ],
      "id": "26492c3f"
    },
    {
      "cell_type": "code",
      "execution_count": 10,
      "metadata": {},
      "outputs": [],
      "source": [
        "#visualizing differences\n",
        "\n",
        "from sklearn.manifold import MDS\n",
        "\n",
        "# two components as we're plotting points in a two-dimensional plane\n",
        "# \"precomputed\" because we provide a distance matrix\n",
        "# we will also specify `random_state` so the plot is reproducible.\n",
        "\n",
        "#transform cosine similarity to cosine distance\n",
        "cos_dist = 1 - cosine_similarity(dtm_df_novel)\n",
        "\n",
        "mds = MDS(n_components=2, dissimilarity=\"precomputed\", random_state=1)\n",
        "\n",
        "pos = mds.fit_transform(cos_dist)  # shape (n_components, n_samples)\n",
        "xs, ys = pos[:, 0], pos[:, 1]\n",
        "\n",
        "for x, y, name in zip(xs, ys, novel_names):\n",
        "    plt.scatter(x, y)\n",
        "    plt.text(x, y, name)\n",
        "\n",
        "plt.show()"
      ],
      "id": "b2349509"
    },
    {
      "cell_type": "markdown",
      "metadata": {},
      "source": [
        "The above method has a broad range of applications, such as unsupervised\n",
        "clustering. Common techniques include\n",
        "<a href = \"https://en.wikipedia.org/wiki/K-means_clustering\">K-Means\n",
        "Clustering</a> and\n",
        "<a href=\"https://en.wikipedia.org/wiki/Hierarchical_clustering\">Heirchical\n",
        "Dendrograms</a>. These attempt to identify groups of texts with shared\n",
        "content, based on these kinds of distance measures.\n",
        "\n",
        "Here’s an example of a dendrogram based on these six novels:"
      ],
      "id": "a1da2977-5caf-4dde-ac5a-e46cca472a83"
    },
    {
      "cell_type": "code",
      "execution_count": 11,
      "metadata": {},
      "outputs": [],
      "source": [
        "from scipy.cluster.hierarchy import ward, dendrogram\n",
        "linkage_matrix = ward(cos_dist)\n",
        "\n",
        "dendrogram(linkage_matrix, orientation=\"right\", labels=novel_names)\n",
        "\n",
        "plt.tight_layout()  # fixes margins\n",
        "\n",
        "plt.show()"
      ],
      "id": "56ed075d"
    },
    {
      "cell_type": "markdown",
      "metadata": {},
      "source": [
        "### Vector Semantics\n",
        "\n",
        "We can also turn this logic on its head. Rather than produce vectors\n",
        "representing texts based on their words, we will produce vectors for the\n",
        "words based on their contexts."
      ],
      "id": "cbaa9cd9-a7e2-46a6-875f-c3561a472a2e"
    },
    {
      "cell_type": "code",
      "execution_count": 12,
      "metadata": {},
      "outputs": [],
      "source": [
        "# Turn our DTM sideways\n",
        "\n",
        "dtm_df_novel.T.head()"
      ],
      "id": "2f23b7b6"
    },
    {
      "cell_type": "code",
      "execution_count": 13,
      "metadata": {},
      "outputs": [],
      "source": [
        "# Find the Cosine Distances between pairs of word-vectors\n",
        "\n",
        "cos_sim_words = cosine_similarity(dtm_df_novel.T)"
      ],
      "id": "b8ccc9cf"
    },
    {
      "cell_type": "code",
      "execution_count": 14,
      "metadata": {},
      "outputs": [],
      "source": [
        "# In readable format\n",
        "\n",
        "np.round(cos_sim_words, 2)"
      ],
      "id": "160c0a03"
    },
    {
      "cell_type": "markdown",
      "metadata": {},
      "source": [
        "Theoretically you could visualize and cluster these as well - but this\n",
        "takes a lot of computational power!\n",
        "\n",
        "We’ll thus turn to the machine learning version: word embeddings\n",
        "\n",
        "### Word2Vec\n",
        "\n",
        "This last cell indicates that “sausage” and “bacon” perfectly align with\n",
        "one another across texts. If we saw this in a real-world example, we\n",
        "might interpret it to mean that the words share some kind of semantic or\n",
        "thematic relationship. In fact, this method is precisely one that\n",
        "humanists have used in order to find interesting linguistic patterns.\n",
        "(See Ted Underwood’s blog post,\n",
        "<a href = \"https://tedunderwood.com/2011/10/16/lsa-is-a-marvellous-tool-but-humanists-may-no-use-it-the-way-computer-scientists-do/\">LSA\n",
        "is a marvellous tool, but…</a>.)\n",
        "\n",
        "Recently, however, a more sophisticated technique for finding semantic\n",
        "relationships between words has enjoyed great popularity: Word2Vec\n",
        "\n",
        "Word2Vec draws from the logic of the concordance that we saw on the\n",
        "first day of the workshop. In the example above, a word (row) is\n",
        "described by its frequency within an entire novel (column). The word2vec\n",
        "algorithm tries to describe a given word in terms of the ones that\n",
        "appear immediately to the right and left in actual sentences. More\n",
        "precisely it learns how to <i>predict</i> the context words.\n",
        "\n",
        "<img src = \"Skip-gram diagram.png\">\n",
        "\n",
        "Without going too deeply into the algorithm, suffice it to say that it\n",
        "involves a two-step process. First, the input word gets compressed into\n",
        "a dense vector. Second, the vector gets decoded into the set of context\n",
        "words. Keywords that appear within similar contexts will have similar\n",
        "vector representations in between steps. This vector is referred to as a\n",
        "<i>word embedding</i>.\n",
        "\n",
        "Since the word embedding is a vector, we can perform tests like cosine\n",
        "similarity and other kinds of operations. Those operations can reveal\n",
        "many different kinds of relationships between words, as we shall see.\n",
        "\n",
        "<img src = \"w2v-Analogies.png\">\n",
        "\n",
        "# 1. Import & Pre-Processing\n",
        "\n",
        "### Import Packages"
      ],
      "id": "01691481-e283-4e59-9f39-82a831867cd8"
    },
    {
      "cell_type": "code",
      "execution_count": 15,
      "metadata": {},
      "outputs": [],
      "source": [
        "# Data Wrangling\n",
        "\n",
        "import os\n",
        "import numpy as np\n",
        "import pandas\n",
        "from scipy.spatial.distance import cosine\n",
        "from sklearn.metrics import pairwise\n",
        "from sklearn.manifold import MDS, TSNE"
      ],
      "id": "72384442"
    },
    {
      "cell_type": "code",
      "execution_count": 16,
      "metadata": {},
      "outputs": [],
      "source": [
        "# Natural Language Processing\n",
        "\n",
        "\n",
        "import nltk\n",
        "nltk.download('punkt')\n",
        "from nltk.tokenize import word_tokenize, sent_tokenize"
      ],
      "id": "7e5eab4d"
    },
    {
      "cell_type": "code",
      "execution_count": 17,
      "metadata": {},
      "outputs": [],
      "source": [
        "# New libarary (not in Anaconda: gensim)\n",
        "import gensim"
      ],
      "id": "56360f5c"
    },
    {
      "cell_type": "code",
      "execution_count": 18,
      "metadata": {},
      "outputs": [],
      "source": [
        "# Custom Tokenizer for Classroom Use\n",
        "\n",
        "def fast_tokenize(text):\n",
        "    \n",
        "    # Get a list of punctuation marks\n",
        "    from string import punctuation\n",
        "    \n",
        "    lower_case = text.lower()\n",
        "    \n",
        "    # Iterate through text removing punctuation characters\n",
        "    no_punct = \"\".join([char for char in lower_case if char not in punctuation])\n",
        "    \n",
        "    # Split text over whitespace into list of words\n",
        "    tokens = no_punct.split()\n",
        "    \n",
        "    return tokens"
      ],
      "id": "e171e815"
    },
    {
      "cell_type": "markdown",
      "metadata": {},
      "source": [
        "### Corpus Description\n",
        "\n",
        "English-language subset of Andrew Piper’s novel corpus, totaling 150\n",
        "novels by British and American authors spanning the years 1771-1930.\n",
        "These texts reside on disk, each in a separate plaintext file. Metadata\n",
        "is contained in a spreadsheet distributed with the novel files.\n",
        "\n",
        "### Metadata Columns"
      ],
      "id": "79c59f83-b7f1-4c4c-a025-0055ca937d65"
    },
    {
      "cell_type": "raw",
      "metadata": {
        "raw_mimetype": "text/html"
      },
      "source": [
        "<ol>"
      ],
      "id": "6db3df67-e39d-4dcf-ba57-8f037effc4d1"
    },
    {
      "cell_type": "raw",
      "metadata": {
        "raw_mimetype": "text/html"
      },
      "source": [
        "<li>"
      ],
      "id": "4a62887e-689c-481d-9568-f71f53429d42"
    },
    {
      "cell_type": "markdown",
      "metadata": {},
      "source": [
        "Filename: Name of file on disk"
      ],
      "id": "ffaff531-82f8-414c-8e4e-b5df6465a96a"
    },
    {
      "cell_type": "raw",
      "metadata": {
        "raw_mimetype": "text/html"
      },
      "source": [
        "</li>"
      ],
      "id": "1d2a8748-4e48-4c0e-a1b3-091753f7d18b"
    },
    {
      "cell_type": "raw",
      "metadata": {
        "raw_mimetype": "text/html"
      },
      "source": [
        "<li>"
      ],
      "id": "d1d8da07-4d71-4b84-966c-7e37cdc155ef"
    },
    {
      "cell_type": "markdown",
      "metadata": {},
      "source": [
        "ID: Unique ID in Piper corpus"
      ],
      "id": "731f19b3-d560-4539-bf7e-4e86fb3d1843"
    },
    {
      "cell_type": "raw",
      "metadata": {
        "raw_mimetype": "text/html"
      },
      "source": [
        "</li>"
      ],
      "id": "8dd354c4-57bf-4cd0-9f7e-6959ae31d2e3"
    },
    {
      "cell_type": "raw",
      "metadata": {
        "raw_mimetype": "text/html"
      },
      "source": [
        "<li>"
      ],
      "id": "5d4989e9-c838-4a3b-b81e-e7855289920e"
    },
    {
      "cell_type": "markdown",
      "metadata": {},
      "source": [
        "Language: Language of novel"
      ],
      "id": "7bac7861-8c4e-498e-8a04-a8fc5db19bf6"
    },
    {
      "cell_type": "raw",
      "metadata": {
        "raw_mimetype": "text/html"
      },
      "source": [
        "</li>"
      ],
      "id": "0a5d67a0-33d4-4722-a5dd-d6323c9bc62f"
    },
    {
      "cell_type": "raw",
      "metadata": {
        "raw_mimetype": "text/html"
      },
      "source": [
        "<li>"
      ],
      "id": "4834b1ef-25c1-49e1-b828-a7ede7d38290"
    },
    {
      "cell_type": "markdown",
      "metadata": {},
      "source": [
        "Date: Initial publication date"
      ],
      "id": "9349ca8c-aab4-49cf-a42d-f359743b4c11"
    },
    {
      "cell_type": "raw",
      "metadata": {
        "raw_mimetype": "text/html"
      },
      "source": [
        "</li>"
      ],
      "id": "be4e2446-17bc-4732-ad6c-613c65d3599b"
    },
    {
      "cell_type": "raw",
      "metadata": {
        "raw_mimetype": "text/html"
      },
      "source": [
        "<li>"
      ],
      "id": "b62ac3d7-2b64-438a-b26f-e9776807b2e0"
    },
    {
      "cell_type": "markdown",
      "metadata": {},
      "source": [
        "Title: Title of novel"
      ],
      "id": "188cd163-b85c-4da8-b8ab-ce6b2724b168"
    },
    {
      "cell_type": "raw",
      "metadata": {
        "raw_mimetype": "text/html"
      },
      "source": [
        "</li>"
      ],
      "id": "7da2f03c-d506-4bb0-b4b2-96a95a611849"
    },
    {
      "cell_type": "raw",
      "metadata": {
        "raw_mimetype": "text/html"
      },
      "source": [
        "<li>"
      ],
      "id": "a476f441-9eff-4c14-99e2-06f034d53bcf"
    },
    {
      "cell_type": "markdown",
      "metadata": {},
      "source": [
        "Gender: Authorial gender"
      ],
      "id": "fed62efc-e5cb-4dd8-9913-f916c64a477f"
    },
    {
      "cell_type": "raw",
      "metadata": {
        "raw_mimetype": "text/html"
      },
      "source": [
        "</li>"
      ],
      "id": "d9448480-4664-4ae9-9c17-c373827e522c"
    },
    {
      "cell_type": "raw",
      "metadata": {
        "raw_mimetype": "text/html"
      },
      "source": [
        "<li>"
      ],
      "id": "40e242b7-3d13-4944-aba9-340fae00254b"
    },
    {
      "cell_type": "markdown",
      "metadata": {},
      "source": [
        "Person: Textual perspective"
      ],
      "id": "8b82f9a3-a316-46dd-ad6b-ea8bcde8bc01"
    },
    {
      "cell_type": "raw",
      "metadata": {
        "raw_mimetype": "text/html"
      },
      "source": [
        "</li>"
      ],
      "id": "676c57a9-c8bd-457e-b308-98b9f81531ba"
    },
    {
      "cell_type": "raw",
      "metadata": {
        "raw_mimetype": "text/html"
      },
      "source": [
        "<li>"
      ],
      "id": "2fc4cd85-ec5e-4176-9217-b98210b8b6db"
    },
    {
      "cell_type": "markdown",
      "metadata": {},
      "source": [
        "Length: Number of tokens in novel"
      ],
      "id": "613057c7-8b17-4632-9220-f54394567ae4"
    },
    {
      "cell_type": "raw",
      "metadata": {
        "raw_mimetype": "text/html"
      },
      "source": [
        "</li>"
      ],
      "id": "d3a62773-7c67-400f-b878-7c01e2fc2d1a"
    },
    {
      "cell_type": "raw",
      "metadata": {
        "raw_mimetype": "text/html"
      },
      "source": [
        "</ol>"
      ],
      "id": "43ec2036-ee07-4dc5-b330-511a306c3da2"
    },
    {
      "cell_type": "markdown",
      "metadata": {},
      "source": [
        "## Import Metadata"
      ],
      "id": "980e0b0c-9078-436a-a045-519c204295d1"
    },
    {
      "cell_type": "code",
      "execution_count": 19,
      "metadata": {},
      "outputs": [],
      "source": [
        "# Import Metadata into Pandas Dataframe\n",
        "\n",
        "meta_df = pandas.read_csv('resources/txtlab_Novel450_English.csv', encoding = 'utf-8')"
      ],
      "id": "8b7f355b"
    },
    {
      "cell_type": "code",
      "execution_count": 20,
      "metadata": {},
      "outputs": [],
      "source": [
        "# Check Metadata\n",
        "\n",
        "meta_df.head()"
      ],
      "id": "47d8ea8e"
    },
    {
      "cell_type": "markdown",
      "metadata": {},
      "source": [
        "## Import Corpus"
      ],
      "id": "63623d77-6052-469d-b9f4-ac34999f3842"
    },
    {
      "cell_type": "code",
      "execution_count": 21,
      "metadata": {},
      "outputs": [],
      "source": [
        "# Set location of corpus folder\n",
        "\n",
        "fiction_folder = 'txtlab_Novel450_English/'"
      ],
      "id": "a3067921"
    },
    {
      "cell_type": "code",
      "execution_count": 22,
      "metadata": {},
      "outputs": [],
      "source": [
        "# Collect the text of each file in the 'fiction_folder' on the hard drive\n",
        "\n",
        "# Create empty list, each entry will be the string for a given novel\n",
        "novel_list = []\n",
        "\n",
        "# Iterate through filenames in 'fiction_folder'\n",
        "for filename in os.listdir(fiction_folder):\n",
        "    \n",
        "    # Read novel text as single string\n",
        "    with open(fiction_folder + filename, 'r', encoding = 'utf-8') as file_in:\n",
        "        this_novel = file_in.read()\n",
        "    \n",
        "    # Add novel text as single string to master list\n",
        "    novel_list.append(this_novel)"
      ],
      "id": "72464616"
    },
    {
      "cell_type": "code",
      "execution_count": 23,
      "metadata": {},
      "outputs": [],
      "source": [
        "# Inspect first item in novel_list\n",
        "\n",
        "novel_list[0][:500]"
      ],
      "id": "c91a1837"
    },
    {
      "cell_type": "markdown",
      "metadata": {},
      "source": [
        "## Pre-Processing\n",
        "\n",
        "Word2Vec learns about the relationships among words by observing them in\n",
        "context. This means that we want to split our texts into word-units.\n",
        "However, we want to maintain sentence boundaries as well, since the last\n",
        "word of the previous sentence might skew the meaning of the next\n",
        "sentence.\n",
        "\n",
        "Since novels were imported as single strings, we’ll first use\n",
        "<i>sent_tokenize</i> to divide them into sentences, and second, we’ll\n",
        "split each sentence into its own list of words."
      ],
      "id": "7d38e2fa-00f3-46f7-9a29-61fde4c7c9cb"
    },
    {
      "cell_type": "code",
      "execution_count": 24,
      "metadata": {},
      "outputs": [],
      "source": [
        "# Split each novel into sentences\n",
        "\n",
        "sentences = [sentence for novel in novel_list for sentence in sent_tokenize(novel)]"
      ],
      "id": "997ecba1"
    },
    {
      "cell_type": "code",
      "execution_count": 25,
      "metadata": {},
      "outputs": [],
      "source": [
        "# Inspect first sentence\n",
        "\n",
        "sentences[0]"
      ],
      "id": "29bea79e"
    },
    {
      "cell_type": "code",
      "execution_count": 26,
      "metadata": {},
      "outputs": [],
      "source": [
        "# Split each sentence into tokens\n",
        "\n",
        "words_by_sentence = [fast_tokenize(sentence) for sentence in sentences]"
      ],
      "id": "d7364341"
    },
    {
      "cell_type": "code",
      "execution_count": 27,
      "metadata": {},
      "outputs": [],
      "source": [
        "# Remove any sentences that contain zero tokens\n",
        "\n",
        "words_by_sentence = [sentence for sentence in words_by_sentence if sentence != []]"
      ],
      "id": "90852fff"
    },
    {
      "cell_type": "code",
      "execution_count": 28,
      "metadata": {},
      "outputs": [],
      "source": [
        "# Inspect first sentence\n",
        "\n",
        "words_by_sentence[0]"
      ],
      "id": "86f4a71c"
    },
    {
      "cell_type": "markdown",
      "metadata": {},
      "source": [
        "# 2. Word2Vec\n",
        "\n",
        "### Word Embedding\n",
        "\n",
        "Word2Vec is the most prominent word embedding algorithm. Word embedding\n",
        "generally attempts to identify semantic relationships between words by\n",
        "observing them in context.\n",
        "\n",
        "Imagine that each word in a novel has its meaning determined by the ones\n",
        "that surround it in a limited window. For example, in Moby Dick’s first\n",
        "sentence, “me” is paired on either side by “Call” and “Ishmael.” After\n",
        "observing the windows around every word in the novel (or many novels),\n",
        "the computer will notice a pattern in which “me” falls between similar\n",
        "pairs of words to “her,” “him,” or “them.” Of course, the computer had\n",
        "gone through a similar process over the words “Call” and “Ishmael,” for\n",
        "which “me” is reciprocally part of their contexts. This chaining of\n",
        "signifiers to one another mirrors some of humanists’ most sophisticated\n",
        "interpretative frameworks of language.\n",
        "\n",
        "The two main flavors of Word2Vec are CBOW (Continuous Bag of Words) and\n",
        "Skip-Gram, which can be distinguished partly by their input and output\n",
        "during training. Skip-Gram takes a word of interest as its input\n",
        "(e.g. “me”) and tries to learn how to predict its context words\n",
        "(“Call”,“Ishmael”). CBOW does the opposite, taking the context words\n",
        "(“Call”,“Ishmael”) as a single input and tries to predict the word of\n",
        "interest (“me”).\n",
        "\n",
        "In general, CBOW is is faster and does well with frequent words, while\n",
        "Skip-Gram potentially represents rare words better.\n",
        "\n",
        "### Word2Vec Features"
      ],
      "id": "38f9280e-95f3-457a-ac7e-4534a4b3b8e4"
    },
    {
      "cell_type": "raw",
      "metadata": {
        "raw_mimetype": "text/html"
      },
      "source": [
        "<ul>"
      ],
      "id": "6751e369-da6c-4649-81e9-d97038d4b523"
    },
    {
      "cell_type": "raw",
      "metadata": {
        "raw_mimetype": "text/html"
      },
      "source": [
        "<li>"
      ],
      "id": "3c32799b-6778-4895-8c7d-a1140a3b71f7"
    },
    {
      "cell_type": "markdown",
      "metadata": {},
      "source": [
        "Size: Number of dimensions for word embedding model"
      ],
      "id": "b6522c5b-4f41-4af8-abcb-2d17a7c27a34"
    },
    {
      "cell_type": "raw",
      "metadata": {
        "raw_mimetype": "text/html"
      },
      "source": [
        "</li>"
      ],
      "id": "f9a6ea2c-eb1c-4466-a96a-0517f470460e"
    },
    {
      "cell_type": "raw",
      "metadata": {
        "raw_mimetype": "text/html"
      },
      "source": [
        "<li>"
      ],
      "id": "0c4dd692-1e03-4360-968d-d28e0a1a9110"
    },
    {
      "cell_type": "markdown",
      "metadata": {},
      "source": [
        "Window: Number of context words to observe in each direction"
      ],
      "id": "03c89544-5c8a-4ee8-b3ef-c3fb52e9b16a"
    },
    {
      "cell_type": "raw",
      "metadata": {
        "raw_mimetype": "text/html"
      },
      "source": [
        "</li>"
      ],
      "id": "2f42461e-156a-41dc-a178-73bcaa91bf4c"
    },
    {
      "cell_type": "raw",
      "metadata": {
        "raw_mimetype": "text/html"
      },
      "source": [
        "<li>"
      ],
      "id": "6a9596b1-9eb6-4b89-bb37-aadcf43e904c"
    },
    {
      "cell_type": "markdown",
      "metadata": {},
      "source": [
        "min_count: Minimum frequency for words included in model"
      ],
      "id": "a95f32e2-97f6-4764-b8ff-6a760001fffe"
    },
    {
      "cell_type": "raw",
      "metadata": {
        "raw_mimetype": "text/html"
      },
      "source": [
        "</li>"
      ],
      "id": "dd17e8c1-71b9-4639-a28d-552caa6bc85c"
    },
    {
      "cell_type": "raw",
      "metadata": {
        "raw_mimetype": "text/html"
      },
      "source": [
        "<li>"
      ],
      "id": "75566dc7-18b0-42a4-885a-02c36fdcbf4f"
    },
    {
      "cell_type": "markdown",
      "metadata": {},
      "source": [
        "sg (Skip-Gram): ‘0’ indicates CBOW model; ‘1’ indicates Skip-Gram"
      ],
      "id": "180a857a-c577-41ee-ad95-9b7627015cea"
    },
    {
      "cell_type": "raw",
      "metadata": {
        "raw_mimetype": "text/html"
      },
      "source": [
        "</li>"
      ],
      "id": "1cec474a-9473-4545-ac14-1b043116b9be"
    },
    {
      "cell_type": "raw",
      "metadata": {
        "raw_mimetype": "text/html"
      },
      "source": [
        "<li>"
      ],
      "id": "c9e04d0b-d175-4b1f-879c-d8f2e410325c"
    },
    {
      "cell_type": "markdown",
      "metadata": {},
      "source": [
        "Alpha: Learning rate (initial); prevents model from over-correcting,\n",
        "enables finer tuning"
      ],
      "id": "fe39a8fd-4ade-4726-991c-19f3e27186b2"
    },
    {
      "cell_type": "raw",
      "metadata": {
        "raw_mimetype": "text/html"
      },
      "source": [
        "</li>"
      ],
      "id": "a81c7285-fd82-4787-88ee-266418a0ff7f"
    },
    {
      "cell_type": "raw",
      "metadata": {
        "raw_mimetype": "text/html"
      },
      "source": [
        "<li>"
      ],
      "id": "02938836-7e0e-4ed6-a374-fd1b8a919438"
    },
    {
      "cell_type": "markdown",
      "metadata": {},
      "source": [
        "Iterations: Number of passes through dataset"
      ],
      "id": "78c12c56-5a33-4ce4-b4da-a95f50236520"
    },
    {
      "cell_type": "raw",
      "metadata": {
        "raw_mimetype": "text/html"
      },
      "source": [
        "</li>"
      ],
      "id": "bd70a565-cd33-4d4c-a839-845f503c9ca9"
    },
    {
      "cell_type": "raw",
      "metadata": {
        "raw_mimetype": "text/html"
      },
      "source": [
        "<li>"
      ],
      "id": "8cf27424-29a0-4302-8858-28aa42d1bf4b"
    },
    {
      "cell_type": "markdown",
      "metadata": {},
      "source": [
        "Batch Size: Number of words to sample from data during each pass"
      ],
      "id": "e7cdfc18-ad60-4af0-b443-968c3faf69f3"
    },
    {
      "cell_type": "raw",
      "metadata": {
        "raw_mimetype": "text/html"
      },
      "source": [
        "</li>"
      ],
      "id": "6177679d-447b-4bd1-b1aa-d6993048b8c6"
    },
    {
      "cell_type": "raw",
      "metadata": {
        "raw_mimetype": "text/html"
      },
      "source": [
        "</ul>"
      ],
      "id": "716811ad-edda-4f8d-b4be-54376cf9f810"
    },
    {
      "cell_type": "markdown",
      "metadata": {},
      "source": [
        "Note: Script uses default value for each argument\n",
        "\n",
        "## Training"
      ],
      "id": "9485010c-a106-4c69-b366-fdba7df6b60d"
    },
    {
      "cell_type": "code",
      "execution_count": 29,
      "metadata": {},
      "outputs": [],
      "source": [
        "# Train word2vec model from txtLab corpus\n",
        "\n",
        "model = gensim.models.Word2Vec(words_by_sentence, vector_size=100, window=5, \\\n",
        "                               min_count=25, sg=1, alpha=0.025, epochs=5, batch_words=10000)"
      ],
      "id": "f944502b"
    },
    {
      "cell_type": "markdown",
      "metadata": {},
      "source": [
        "## Embeddings"
      ],
      "id": "bc3e39b5-9b0c-45c3-b58a-700f5e6550e5"
    },
    {
      "cell_type": "code",
      "execution_count": 30,
      "metadata": {},
      "outputs": [],
      "source": [
        "# Return dense word vector\n",
        "\n",
        "model.wv.get_vector('whale')"
      ],
      "id": "f82335a0"
    },
    {
      "cell_type": "markdown",
      "metadata": {},
      "source": [
        "## Vector-Space Operations\n",
        "\n",
        "### Similarity\n",
        "\n",
        "Since words are represented as dense vectors, we can ask how similiar\n",
        "words’ meanings are based on their cosine similarity (essentially how\n",
        "much they overlap). <em>gensim</em> has a few out-of-the-box functions\n",
        "that enable different kinds of comparisons."
      ],
      "id": "4e4afe90-273f-45ae-a23a-48c99bf00374"
    },
    {
      "cell_type": "code",
      "execution_count": 31,
      "metadata": {},
      "outputs": [],
      "source": [
        "# Find cosine distance between two given word vectors\n",
        "\n",
        "model.wv.similarity('pride','prejudice')"
      ],
      "id": "4eaefa0c"
    },
    {
      "cell_type": "code",
      "execution_count": 32,
      "metadata": {},
      "outputs": [],
      "source": [
        "# Find nearest word vectors by cosine distance\n",
        "\n",
        "model.wv.most_similar('pride')"
      ],
      "id": "4c008160"
    },
    {
      "cell_type": "code",
      "execution_count": 33,
      "metadata": {},
      "outputs": [],
      "source": [
        "# Given a list of words, we can ask which doesn't belong\n",
        "\n",
        "# Finds mean vector of words in list\n",
        "# and identifies the word further from that mean\n",
        "\n",
        "model.wv.doesnt_match(['pride','prejudice', 'whale'])"
      ],
      "id": "e7a29d34"
    },
    {
      "cell_type": "markdown",
      "metadata": {},
      "source": [
        "### Multiple Valences\n",
        "\n",
        "A word embedding may encode both primary and secondary meanings that are\n",
        "both present at the same time. In order to identify secondary meanings\n",
        "in a word, we can subtract the vectors of primary (or simply unwanted)\n",
        "meanings. For example, we may wish to remove the sense of <em>river\n",
        "bank</em> from the word <em>bank</em>. This would be written\n",
        "mathetmatically as <em>RIVER - BANK</em>, which in <em>gensim</em>’s\n",
        "interface lists <em>RIVER</em> as a positive meaning and <em>BANK</em>\n",
        "as a negative one."
      ],
      "id": "6ece5abc-e9b8-4228-b4f5-6ab4d367f94e"
    },
    {
      "cell_type": "code",
      "execution_count": 34,
      "metadata": {},
      "outputs": [],
      "source": [
        "# Get most similar words to BANK, in order\n",
        "# to get a sense for its primary meaning\n",
        "\n",
        "model.wv.most_similar('bank')"
      ],
      "id": "0f999482"
    },
    {
      "cell_type": "code",
      "execution_count": 35,
      "metadata": {},
      "outputs": [],
      "source": [
        "# Remove the sense of \"river bank\" from \"bank\" and see what is left\n",
        "\n",
        "model.wv.most_similar(positive=['bank'], negative=['river'])"
      ],
      "id": "072bdc1f"
    },
    {
      "cell_type": "markdown",
      "metadata": {},
      "source": [
        "### Analogy\n",
        "\n",
        "Analogies are rendered as simple mathematical operations in vector\n",
        "space. For example, the canonic word2vec analogy <em>MAN is to KING as\n",
        "WOMAN is to ??</em> is rendered as <em>KING - MAN + WOMAN</em>. In the\n",
        "gensim interface, we designate <em>KING</em> and <em>WOMAN</em> as\n",
        "positive terms and <em>MAN</em> as a negative term, since it is\n",
        "subtracted from those."
      ],
      "id": "aeb0ceab-778d-484e-a250-8e4a27cc569b"
    },
    {
      "cell_type": "code",
      "execution_count": 36,
      "metadata": {},
      "outputs": [],
      "source": [
        "# Get most similar words to KING, in order\n",
        "# to get a sense for its primary meaning\n",
        "\n",
        "model.wv.most_similar('king')"
      ],
      "id": "61674236"
    },
    {
      "cell_type": "code",
      "execution_count": 37,
      "metadata": {},
      "outputs": [],
      "source": [
        "# The canonic word2vec analogy: King - Man + Woman -> Queen\n",
        "\n",
        "model.wv.most_similar(positive=['woman', 'king'], negative=['man'])"
      ],
      "id": "f7db6c62"
    },
    {
      "cell_type": "markdown",
      "metadata": {},
      "source": [
        "### Gendered Vectors\n",
        "\n",
        "Can we find gender a la Schmidt (2015)? (Note that this method uses\n",
        "vector projection, whereas Schmidt had used rejection.)"
      ],
      "id": "79373dae-3626-4dfa-8371-5b7dfcb62dd1"
    },
    {
      "cell_type": "code",
      "execution_count": 38,
      "metadata": {},
      "outputs": [],
      "source": [
        "# Feminine Vector\n",
        "\n",
        "model.wv.most_similar(positive=['she','her','hers','herself'], negative=['he','him','his','himself'])"
      ],
      "id": "9ff4abf0"
    },
    {
      "cell_type": "code",
      "execution_count": 39,
      "metadata": {},
      "outputs": [],
      "source": [
        "# Masculine Vector\n",
        "\n",
        "model.wv.most_similar(positive=['he','him','his','himself'], negative=['she','her','hers','herself'])"
      ],
      "id": "ed89d80a"
    },
    {
      "cell_type": "markdown",
      "metadata": {},
      "source": [
        "## Visualization"
      ],
      "id": "d88d8b1c-8c25-4680-9b87-99932770b036"
    },
    {
      "cell_type": "code",
      "execution_count": 40,
      "metadata": {},
      "outputs": [],
      "source": [
        "# Dictionary of words in model\n",
        "\n",
        "model.wv.key_to_index"
      ],
      "id": "81ea3a8d"
    },
    {
      "cell_type": "code",
      "execution_count": 41,
      "metadata": {},
      "outputs": [],
      "source": [
        "# Visualizing the whole vocabulary would make it hard to read\n",
        "\n",
        "len(model.wv.key_to_index)"
      ],
      "id": "a0ed2405"
    },
    {
      "cell_type": "code",
      "execution_count": 42,
      "metadata": {},
      "outputs": [],
      "source": [
        "# For interpretability, we'll select words that already have a semantic relation\n",
        "\n",
        "her_tokens = [token for token,weight in model.wv.most_similar(positive=['she','her','hers','herself'], \\\n",
        "                                                       negative=['he','him','his','himself'], topn=50)]"
      ],
      "id": "26d2175c"
    },
    {
      "cell_type": "code",
      "execution_count": 43,
      "metadata": {},
      "outputs": [],
      "source": [
        "# Inspect list\n",
        "\n",
        "her_tokens[:15]"
      ],
      "id": "b744451c"
    },
    {
      "cell_type": "code",
      "execution_count": 44,
      "metadata": {},
      "outputs": [],
      "source": [
        "# Get the vector for each sampled word\n",
        "\n",
        "vectors = [model.wv.get_vector(word) for word in her_tokens]  "
      ],
      "id": "775defd4"
    },
    {
      "cell_type": "code",
      "execution_count": 45,
      "metadata": {},
      "outputs": [],
      "source": [
        "# Calculate distances among texts in vector space\n",
        "\n",
        "dist_matrix = pairwise.pairwise_distances(vectors, metric='cosine')"
      ],
      "id": "0d3d3fa5"
    },
    {
      "cell_type": "code",
      "execution_count": 46,
      "metadata": {},
      "outputs": [],
      "source": [
        "# Multi-Dimensional Scaling (Project vectors into 2-D)\n",
        "\n",
        "mds = MDS(n_components = 2, dissimilarity='precomputed')\n",
        "embeddings = mds.fit_transform(dist_matrix)"
      ],
      "id": "0eed2878"
    },
    {
      "cell_type": "code",
      "execution_count": 47,
      "metadata": {},
      "outputs": [],
      "source": [
        "# Make a pretty graph\n",
        "\n",
        "_, ax = plt.subplots(figsize=(10,10))\n",
        "ax.scatter(embeddings[:,0], embeddings[:,1], alpha=0)\n",
        "for i in range(len(vectors)):\n",
        "    ax.annotate(her_tokens[i], ((embeddings[i,0], embeddings[i,1])))"
      ],
      "id": "d89fa941"
    },
    {
      "cell_type": "code",
      "execution_count": 48,
      "metadata": {},
      "outputs": [],
      "source": [
        "# For comparison, here is the same graph using a masculine-pronoun vector\n",
        "\n",
        "his_tokens = [token for token,weight in model.wv.most_similar(positive=['he','him','his','himself'], \\\n",
        "                                                       negative=['she','her','hers','herself'], topn=50)]\n",
        "vectors = [model.wv.get_vector(word) for word in his_tokens]\n",
        "dist_matrix = pairwise.pairwise_distances(vectors, metric='cosine')\n",
        "mds = MDS(n_components = 2, dissimilarity='precomputed')\n",
        "embeddings = mds.fit_transform(dist_matrix)\n",
        "_, ax = plt.subplots(figsize=(10,10))\n",
        "ax.scatter(embeddings[:,0], embeddings[:,1], alpha=0)\n",
        "for i in range(len(vectors)):\n",
        "    ax.annotate(his_tokens[i], ((embeddings[i,0], embeddings[i,1])))"
      ],
      "id": "df43d72d"
    },
    {
      "cell_type": "markdown",
      "metadata": {},
      "source": [
        "Q. What kinds of semantic relationships exist in the diagram above?\n",
        "\n",
        "Are there any words that seem out of place?\n",
        "\n",
        "# 3. Saving/Loading Models"
      ],
      "id": "c246c633-74a2-41b7-a517-e7c04ec47a6b"
    },
    {
      "cell_type": "code",
      "execution_count": 49,
      "metadata": {},
      "outputs": [],
      "source": [
        "# Save current model for later use\n",
        "\n",
        "model.wv.save_word2vec_format('resources/word2vec.txtlab_Novel150_English.txt')\n",
        "#model.save_word2vec_format('resources/word2vec.txtlab_Novel150_English.txt') # deprecated"
      ],
      "id": "4d716aa5"
    },
    {
      "cell_type": "code",
      "execution_count": 50,
      "metadata": {},
      "outputs": [],
      "source": [
        "# Load up models from disk\n",
        "\n",
        "# Model trained on Eighteenth Century Collections Online corpus (~2500 texts)\n",
        "# Made available by Ryan Heuser: http://ryanheuser.org/word-vectors-1/\n",
        "\n",
        "ecco_model = gensim.models.KeyedVectors.load_word2vec_format('resources/word2vec.ECCO-TCP.txt')\n",
        "#ecco_model = gensim.models.Word2Vec.load_word2vec_format('resources/word2vec.ECCO-TCP.txt') # deprecated"
      ],
      "id": "a02b8655"
    },
    {
      "cell_type": "code",
      "execution_count": 51,
      "metadata": {},
      "outputs": [],
      "source": [
        "# What are similar words to BANK?\n",
        "\n",
        "ecco_model.most_similar('bank')"
      ],
      "id": "8f8f0b1f"
    },
    {
      "cell_type": "code",
      "execution_count": 52,
      "metadata": {},
      "outputs": [],
      "source": [
        "# What if we remove the sense of \"river bank\"?\n",
        "\n",
        "ecco_model.most_similar(positive=['bank'], negative=['river'])"
      ],
      "id": "94853d3c"
    },
    {
      "cell_type": "markdown",
      "metadata": {},
      "source": [
        "## Exercises!"
      ],
      "id": "9926cd12-f9dd-4ab4-844e-ab4b042c706d"
    },
    {
      "cell_type": "code",
      "execution_count": 53,
      "metadata": {},
      "outputs": [],
      "source": [
        "## EX. Use the most_similar method to find the tokens nearest to 'car' in either model.\n",
        "##     Do the same for 'motorcar'.\n",
        "\n",
        "## Q.  What characterizes these two words inthe corpus? Does this make sense?"
      ],
      "id": "1f677bd6"
    },
    {
      "cell_type": "code",
      "execution_count": 54,
      "metadata": {},
      "outputs": [],
      "source": [
        "## EX. How does our model answer the analogy: MADRID is to SPAIN as PARIS is to __________\n",
        "\n",
        "## Q.  What has our model learned about nation-states?"
      ],
      "id": "11c95d31"
    },
    {
      "cell_type": "code",
      "execution_count": 55,
      "metadata": {},
      "outputs": [],
      "source": [
        "## EX. Perform the canonic Word2Vec addition again but leave out a term:\n",
        "##     Try 'king' - 'man', 'woman' - 'man', 'woman' + 'king'\n",
        "\n",
        "## Q.  What do these indicate semantically?"
      ],
      "id": "c82f1f97"
    },
    {
      "cell_type": "code",
      "execution_count": 56,
      "metadata": {},
      "outputs": [],
      "source": [
        "## EX. Heuser's blog post explores an analogy in eighteenth-century thought that\n",
        "##     RICHES are to VIRTUE what LEARNING is to GENIUS. How true is this in\n",
        "##     the ECCO-trained Word2Vec model? Is it true in the one we trained?\n",
        "\n",
        "##  Q. How might we compare word2vec models more generally?"
      ],
      "id": "f88e389b"
    },
    {
      "cell_type": "code",
      "execution_count": 57,
      "metadata": {},
      "outputs": [],
      "source": [
        "# ECCO model: RICHES are to VIRTUE what LEARNING is to ??"
      ],
      "id": "384ec9b4"
    },
    {
      "cell_type": "code",
      "execution_count": 58,
      "metadata": {},
      "outputs": [],
      "source": [
        "# txtLab model: RICHES are to VIRTUE what LEARNING is to ??"
      ],
      "id": "514e8992"
    },
    {
      "cell_type": "markdown",
      "metadata": {},
      "source": [
        "# 4. Open Questions\n",
        "\n",
        "At this point, we have seen a number of mathemetical operations that we\n",
        "may use to explore word2vec’s word embeddings. These enable us to answer\n",
        "a set of new, interesting questions dealing with semantics, yet there\n",
        "are many other questions that remain unanswered.\n",
        "\n",
        "For example:"
      ],
      "id": "20b6dc5d-d5ea-4553-9c6a-6f0c2c984192"
    },
    {
      "cell_type": "raw",
      "metadata": {
        "raw_mimetype": "text/html"
      },
      "source": [
        "<ol>"
      ],
      "id": "baeffd4e-0327-459d-adf6-24230cfe0397"
    },
    {
      "cell_type": "raw",
      "metadata": {
        "raw_mimetype": "text/html"
      },
      "source": [
        "<li>"
      ],
      "id": "6cc7e9c2-21c0-49c4-9fe6-29f1e837f42a"
    },
    {
      "cell_type": "markdown",
      "metadata": {},
      "source": [
        "How to compare word usages in different texts (within the same model)?"
      ],
      "id": "ae7af50f-b734-456d-9a1f-e55795d3c5c4"
    },
    {
      "cell_type": "raw",
      "metadata": {
        "raw_mimetype": "text/html"
      },
      "source": [
        "</li>"
      ],
      "id": "890e55ba-a2a8-4939-9a4d-898a067446d0"
    },
    {
      "cell_type": "raw",
      "metadata": {
        "raw_mimetype": "text/html"
      },
      "source": [
        "<li>"
      ],
      "id": "0b188602-8d94-45d2-84a0-a4dcffb218a5"
    },
    {
      "cell_type": "markdown",
      "metadata": {},
      "source": [
        "How to compare word meanings in different models? compare whole models?"
      ],
      "id": "1143dea9-1c40-4df4-acac-38871225e205"
    },
    {
      "cell_type": "raw",
      "metadata": {
        "raw_mimetype": "text/html"
      },
      "source": [
        "</li>"
      ],
      "id": "5dd153b6-9d47-48b7-a04a-e67f42108a61"
    },
    {
      "cell_type": "raw",
      "metadata": {
        "raw_mimetype": "text/html"
      },
      "source": [
        "<li>"
      ],
      "id": "6bb228aa-5707-448d-b47f-56a7f7c105e7"
    },
    {
      "cell_type": "markdown",
      "metadata": {},
      "source": [
        "What about the space “in between” words?"
      ],
      "id": "7378be93-859c-404d-9733-9583489cc021"
    },
    {
      "cell_type": "raw",
      "metadata": {
        "raw_mimetype": "text/html"
      },
      "source": [
        "</li>"
      ],
      "id": "7f060436-f3f2-4c11-a279-ae62935ca51d"
    },
    {
      "cell_type": "raw",
      "metadata": {
        "raw_mimetype": "text/html"
      },
      "source": [
        "<li>"
      ],
      "id": "2cb82943-cae3-4d88-b08f-4a5c97eac2b8"
    },
    {
      "cell_type": "markdown",
      "metadata": {},
      "source": [
        "Do we agree with the Distributional Hypothesis that words with the same\n",
        "contexts share their meanings?"
      ],
      "id": "bc443198-2166-42af-87f6-26786c65667f"
    },
    {
      "cell_type": "raw",
      "metadata": {
        "raw_mimetype": "text/html"
      },
      "source": [
        "</li>"
      ],
      "id": "2dfa907e-2659-4bfb-a394-368e1d8d18e7"
    },
    {
      "cell_type": "raw",
      "metadata": {
        "raw_mimetype": "text/html"
      },
      "source": [
        "<ol>"
      ],
      "id": "54f64bde-675f-4283-9a62-c6c5595c069b"
    },
    {
      "cell_type": "raw",
      "metadata": {
        "raw_mimetype": "text/html"
      },
      "source": [
        "<li>"
      ],
      "id": "0a164f68-9746-4de3-b147-601348a0b69d"
    },
    {
      "cell_type": "markdown",
      "metadata": {},
      "source": [
        "If not, then what information do we think is encoded in a word’s\n",
        "context?"
      ],
      "id": "41d03731-2b97-4ecc-b5e4-d6f198cbe4e6"
    },
    {
      "cell_type": "raw",
      "metadata": {
        "raw_mimetype": "text/html"
      },
      "source": [
        "</li>"
      ],
      "id": "58954ef1-fb5b-4b6a-b8cd-b4bb898957b1"
    },
    {
      "cell_type": "raw",
      "metadata": {
        "raw_mimetype": "text/html"
      },
      "source": [
        "</ol>"
      ],
      "id": "f72ef9f6-94e1-4e52-a922-75d08a15b58e"
    },
    {
      "cell_type": "raw",
      "metadata": {
        "raw_mimetype": "text/html"
      },
      "source": [
        "<li>"
      ],
      "id": "ed250f99-7550-4bac-8d3f-b05b0643a340"
    },
    {
      "cell_type": "markdown",
      "metadata": {},
      "source": [
        "What good, humanistic research questions do analogies shed light on?"
      ],
      "id": "51b9c6e5-d573-4038-becc-18c4aecbfe0e"
    },
    {
      "cell_type": "raw",
      "metadata": {
        "raw_mimetype": "text/html"
      },
      "source": [
        "</li>"
      ],
      "id": "e735e968-21b6-4ad5-9455-d211d2394e24"
    },
    {
      "cell_type": "raw",
      "metadata": {
        "raw_mimetype": "text/html"
      },
      "source": [
        "<ol>"
      ],
      "id": "da554636-3b20-41d9-8194-d075b5920815"
    },
    {
      "cell_type": "raw",
      "metadata": {
        "raw_mimetype": "text/html"
      },
      "source": [
        "<li>"
      ],
      "id": "3e9bb776-d5fe-4860-8e51-f456b390be7f"
    },
    {
      "cell_type": "markdown",
      "metadata": {},
      "source": [
        "shades of meaning?"
      ],
      "id": "b0d17654-ecfe-499c-a9c8-5ce0265b8e80"
    },
    {
      "cell_type": "raw",
      "metadata": {
        "raw_mimetype": "text/html"
      },
      "source": [
        "</li>"
      ],
      "id": "17394fd0-d531-439c-a7ca-e3070a60f2de"
    },
    {
      "cell_type": "raw",
      "metadata": {
        "raw_mimetype": "text/html"
      },
      "source": [
        "<li>"
      ],
      "id": "ab1c5baa-8b60-47a7-a490-f2aee630d888"
    },
    {
      "cell_type": "markdown",
      "metadata": {},
      "source": [
        "context similarity?"
      ],
      "id": "6677ee81-c70b-4357-b779-9a14c98748c0"
    },
    {
      "cell_type": "raw",
      "metadata": {
        "raw_mimetype": "text/html"
      },
      "source": [
        "</li>"
      ],
      "id": "3b9defc1-cf20-44b8-9dcb-76b7f79342c1"
    },
    {
      "cell_type": "raw",
      "metadata": {
        "raw_mimetype": "text/html"
      },
      "source": [
        "</ol>"
      ],
      "id": "44626e51-cdd1-47f1-bc66-42f87e970629"
    },
    {
      "cell_type": "raw",
      "metadata": {
        "raw_mimetype": "text/html"
      },
      "source": [
        "</ol>"
      ],
      "id": "c330d60e-9772-48d6-ab17-a50025bbd2c0"
    }
  ],
  "nbformat": 4,
  "nbformat_minor": 5,
  "metadata": {
    "kernelspec": {
      "name": "python3",
      "display_name": "Python 3 (ipykernel)",
      "language": "python",
      "path": "/usr/local/share/jupyter/kernels/python3"
    },
    "language_info": {
      "name": "python",
      "codemirror_mode": {
        "name": "ipython",
        "version": "3"
      },
      "file_extension": ".py",
      "mimetype": "text/x-python",
      "nbconvert_exporter": "python",
      "pygments_lexer": "ipython3",
      "version": "3.10.12"
    }
  }
}