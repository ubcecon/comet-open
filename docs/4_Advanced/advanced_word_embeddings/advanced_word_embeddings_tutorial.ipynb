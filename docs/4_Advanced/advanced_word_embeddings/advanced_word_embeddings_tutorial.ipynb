{
  "cells": [
    {
      "cell_type": "markdown",
      "metadata": {},
      "source": [
        "# 3.5 - Advanced - Word Embeddings Tutorial (python)"
      ],
      "id": "afcbb40d-a322-4272-8f4c-935717c19d7c"
    },
    {
      "cell_type": "raw",
      "metadata": {
        "raw_mimetype": "text/html"
      },
      "source": [
        "<h1 align=\"center\">"
      ],
      "id": "fd5ab9e4-a344-405d-a1f0-21a29fcf8e77"
    },
    {
      "cell_type": "markdown",
      "metadata": {},
      "source": [
        "It Starts with a Research Question…"
      ],
      "id": "d11c1b33-23b4-49cc-acb5-d3d2046d5b6b"
    },
    {
      "cell_type": "raw",
      "metadata": {
        "raw_mimetype": "text/html"
      },
      "source": [
        "</h1>"
      ],
      "id": "cc12d88c-7939-42cf-8918-8e31f04a8282"
    },
    {
      "cell_type": "markdown",
      "metadata": {},
      "source": [
        "<img src='Schmidt Fig 1.png' width=\"66%\" height=\"66%\">\n",
        "\n",
        "# Word2Vec\n",
        "\n",
        "This lesson is designed to explore features of word embeddings produced\n",
        "through the word2vec model. The questions we ask in this lesson are\n",
        "guided by Ben Schmidt’s blog post\n",
        "<a href = \"http://bookworm.benschmidt.org/posts/2015-10-30-rejecting-the-gender-binary.html\">Rejecting\n",
        "the Gender Binary</a>.\n",
        "\n",
        "The primary corpus we wil use consists of the\n",
        "<a href=\"http://txtlab.org/?p=601\">150 English-language novels</a> made\n",
        "available by the <em>.txtLab</em> at McGill University. We also look at\n",
        "a <a href=\"http://ryanheuser.org/word-vectors-1/\">Word2Vec model trained\n",
        "on the ECCO-TCP corpus</a> of 2,350 eighteenth-century literary texts\n",
        "made available by Ryan Heuser. (Note that the number of terms in the\n",
        "model has been shortened by half in order to conserve memory.)\n",
        "\n",
        "For further technical background on Word2Vec’s mechanics, I suggest this\n",
        "<a href=\"https://chromium.googlesource.com/external/github.com/tensorflow/tensorflow/+/refs/heads/0.6.0/tensorflow/g3doc/tutorials/word2vec/index.md\">brief\n",
        "tutorial</a> by Google, especially the sections “Motivation,” “Skip-Gram\n",
        "Model,” and “Visualizing.”\n",
        "\n",
        "### Tutorial Agenda"
      ],
      "id": "64a1b0b2-8554-4469-b72a-769222645563"
    },
    {
      "cell_type": "raw",
      "metadata": {
        "raw_mimetype": "text/html"
      },
      "source": [
        "<ul>"
      ],
      "id": "071df8c6-7fb3-495e-b76e-01be5736fc99"
    },
    {
      "cell_type": "raw",
      "metadata": {
        "raw_mimetype": "text/html"
      },
      "source": [
        "<li>"
      ],
      "id": "ebf10e69-bed8-4a91-b88d-243ba7130c12"
    },
    {
      "cell_type": "markdown",
      "metadata": {},
      "source": [
        "Vector-Space Model of Language"
      ],
      "id": "a4def8ac-1e3b-496f-be06-2a5ec2e62cbe"
    },
    {
      "cell_type": "raw",
      "metadata": {
        "raw_mimetype": "text/html"
      },
      "source": [
        "</li>"
      ],
      "id": "22b3bc81-7a7c-42c9-99fd-fcbecdda56cf"
    },
    {
      "cell_type": "raw",
      "metadata": {
        "raw_mimetype": "text/html"
      },
      "source": [
        "<li>"
      ],
      "id": "aa07133a-7a93-4233-938b-94453e0b8c16"
    },
    {
      "cell_type": "markdown",
      "metadata": {},
      "source": [
        "Import & Pre-Processing"
      ],
      "id": "79a4959f-0468-4169-a5e8-b2d40f80c1d1"
    },
    {
      "cell_type": "raw",
      "metadata": {
        "raw_mimetype": "text/html"
      },
      "source": [
        "</li>"
      ],
      "id": "3f009dd7-f2b4-4850-9640-c193dce5f63c"
    },
    {
      "cell_type": "raw",
      "metadata": {
        "raw_mimetype": "text/html"
      },
      "source": [
        "<li>"
      ],
      "id": "1f61898a-a71b-42a6-af5e-3a00f6dab1f4"
    },
    {
      "cell_type": "markdown",
      "metadata": {},
      "source": [
        "Word2Vec"
      ],
      "id": "31a6cd6f-e633-4ec8-81a8-bc25f1454993"
    },
    {
      "cell_type": "raw",
      "metadata": {
        "raw_mimetype": "text/html"
      },
      "source": [
        "</li>"
      ],
      "id": "4de189d2-b82b-4744-a693-9ba176e49f46"
    },
    {
      "cell_type": "raw",
      "metadata": {
        "raw_mimetype": "text/html"
      },
      "source": [
        "<ul>"
      ],
      "id": "532dacfc-ea40-4d4f-ac8f-223b36aad06d"
    },
    {
      "cell_type": "raw",
      "metadata": {
        "raw_mimetype": "text/html"
      },
      "source": [
        "<li>"
      ],
      "id": "ca4cdf2d-4356-4b9a-a6c3-889fa22daf7e"
    },
    {
      "cell_type": "markdown",
      "metadata": {},
      "source": [
        "Training"
      ],
      "id": "c58e7653-1017-41f9-9d8e-73032015e085"
    },
    {
      "cell_type": "raw",
      "metadata": {
        "raw_mimetype": "text/html"
      },
      "source": [
        "</li>"
      ],
      "id": "80b17abf-dbd3-4e45-8e27-7540f0fdb72f"
    },
    {
      "cell_type": "raw",
      "metadata": {
        "raw_mimetype": "text/html"
      },
      "source": [
        "<li>"
      ],
      "id": "087466e2-5fe2-4d0d-9ee8-a893ee6d1c20"
    },
    {
      "cell_type": "markdown",
      "metadata": {},
      "source": [
        "Embeddings"
      ],
      "id": "8e328738-b9aa-4151-b5b8-9b92d5c7dd78"
    },
    {
      "cell_type": "raw",
      "metadata": {
        "raw_mimetype": "text/html"
      },
      "source": [
        "</li>"
      ],
      "id": "5d34978b-6c86-464e-97e3-c3e1796ebb4c"
    },
    {
      "cell_type": "raw",
      "metadata": {
        "raw_mimetype": "text/html"
      },
      "source": [
        "<li>"
      ],
      "id": "d6415cf6-1dfb-49e3-a90c-bf818ae86470"
    },
    {
      "cell_type": "markdown",
      "metadata": {},
      "source": [
        "Visualization"
      ],
      "id": "1421ec64-e726-49f2-a41b-2e077e1e057b"
    },
    {
      "cell_type": "raw",
      "metadata": {
        "raw_mimetype": "text/html"
      },
      "source": [
        "</li>"
      ],
      "id": "cb610a54-c097-40c4-83bc-7049834c061d"
    },
    {
      "cell_type": "raw",
      "metadata": {
        "raw_mimetype": "text/html"
      },
      "source": [
        "</ul>"
      ],
      "id": "52310eef-6c73-44f6-bb12-d68ef63c871e"
    },
    {
      "cell_type": "raw",
      "metadata": {
        "raw_mimetype": "text/html"
      },
      "source": [
        "<li>"
      ],
      "id": "a5e471b0-d1dc-4174-99e0-59a59bf95a4c"
    },
    {
      "cell_type": "markdown",
      "metadata": {},
      "source": [
        "Saving/Loading Models"
      ],
      "id": "0364a471-d22e-46c5-9602-27c28c1c8ec9"
    },
    {
      "cell_type": "raw",
      "metadata": {
        "raw_mimetype": "text/html"
      },
      "source": [
        "</li>"
      ],
      "id": "318bbf46-5912-4cb1-ab66-fb6c9a208ffd"
    },
    {
      "cell_type": "raw",
      "metadata": {
        "raw_mimetype": "text/html"
      },
      "source": [
        "</ul>"
      ],
      "id": "bfe11873-bddd-43fe-b9be-dbfcb97a4c7b"
    },
    {
      "cell_type": "raw",
      "metadata": {
        "raw_mimetype": "text/html"
      },
      "source": [
        "<li>"
      ],
      "id": "4b1d6963-31cb-49b8-8010-d0812d37a669"
    },
    {
      "cell_type": "markdown",
      "metadata": {},
      "source": [
        "Topic Models"
      ],
      "id": "10d174d7-fe9d-4105-bd84-7ff28dacd444"
    },
    {
      "cell_type": "raw",
      "metadata": {
        "raw_mimetype": "text/html"
      },
      "source": [
        "</li>"
      ],
      "id": "c62389ff-918c-4b74-8a93-80c8a5c26f55"
    },
    {
      "cell_type": "raw",
      "metadata": {
        "raw_mimetype": "text/html"
      },
      "source": [
        "</ul>"
      ],
      "id": "6dfcf5f4-8208-4a3c-aed0-dd60afeebd9e"
    },
    {
      "cell_type": "markdown",
      "metadata": {},
      "source": [
        "# 0. Vector-Space Model of Language\n",
        "\n",
        "In the first day of this workshop, we explored the strange way that\n",
        "computers read text: by splitting it into tokens and tallying their\n",
        "frequencies. A novel or album review is reduced to a series of word\n",
        "counts. Since then, we have used simple arithmetic and statistics to\n",
        "identify patterns across those tallies. However, it is often useful to\n",
        "consider these patterns from another perspective: geometry.\n",
        "\n",
        "Each text can be described as a series of word counts. What if we\n",
        "treated those like coordinates in space?\n",
        "\n",
        "### Prep for visualization"
      ],
      "id": "6ad4fcbb-77dc-41b0-8a96-63f6e1e0df0c"
    },
    {
      "cell_type": "code",
      "execution_count": 1,
      "metadata": {},
      "outputs": [],
      "source": [
        "%pylab inline\n",
        "matplotlib.style.use('ggplot')"
      ],
      "id": "787bdee0"
    },
    {
      "cell_type": "markdown",
      "metadata": {},
      "source": [
        "### Create a DTM with a Few Pseudo-Texts"
      ],
      "id": "1cd69c8d-700d-4329-822f-1d0a1c2ab92e"
    },
    {
      "cell_type": "code",
      "execution_count": 2,
      "metadata": {},
      "outputs": [],
      "source": [
        "# dataframes!\n",
        "import pandas\n",
        "\n",
        "# Construct dataframe\n",
        "columns = ['eggs','sausage','bacon']\n",
        "indices = ['Novel A', 'Novel B', 'Novel C']\n",
        "dtm = [[50,60,60],[90,10,10], [20,70,70]]\n",
        "dtm_df = pandas.DataFrame(dtm, columns = columns, index = indices)\n",
        "\n",
        "# Show dataframe\n",
        "dtm_df"
      ],
      "id": "053a134a"
    },
    {
      "cell_type": "markdown",
      "metadata": {},
      "source": [
        "### Visualize"
      ],
      "id": "fc78677c-8ad0-4806-9287-b3e582862d51"
    },
    {
      "cell_type": "code",
      "execution_count": 3,
      "metadata": {},
      "outputs": [],
      "source": [
        "# Plot our points\n",
        "scatter(dtm_df['eggs'], dtm_df['sausage'])\n",
        "\n",
        "# Make the graph look good\n",
        "xlim([0,100]), ylim([0,100])\n",
        "xlabel('eggs'), ylabel('sausage')"
      ],
      "id": "8b9d5391"
    },
    {
      "cell_type": "markdown",
      "metadata": {},
      "source": [
        "### Vectors\n",
        "\n",
        "At a glance, a couple of points are lying closer to one another. We used\n",
        "the word frequencies of just two words in order to plot our texts in a\n",
        "two-dimensional plane. The term frequency “summaries” of <i>Novel A</i>\n",
        "& <i>Novel C</i> are pretty similar to one another: they both share a\n",
        "major concern with “eggs”, whereas <i>Novel B</i> seems to focus\n",
        "primarily on “sausage.”\n",
        "\n",
        "This raises a question: how can we operationalize our intuition that\n",
        "spatial distance expresses topical similarity?\n",
        "\n",
        "<img src='Dot-Product.png' >\n",
        "\n",
        "The most common measurement of distance between points is their\n",
        "<a href=\"https://en.wikipedia.org/wiki/Cosine_similarity\">Cosine\n",
        "Similarity</a>. Imagine that we draw an arrow from the origin of the\n",
        "graph – point (0,0) – to the dot representing each text. This arrow is\n",
        "called a <i>vector</i>. The Cosine Similarity between two vectors\n",
        "measures how much they overlap with one another. Values for the cosine\n",
        "similarity between two vectors fall between 0 and 1, so they are easily\n",
        "interpreted and compared.\n",
        "\n",
        "### Cosine Distance"
      ],
      "id": "f5c35311-2ada-4afc-9633-366e9636aa72"
    },
    {
      "cell_type": "code",
      "execution_count": 4,
      "metadata": {},
      "outputs": [],
      "source": [
        "# Although we want the Cosine Distance, it is mathematically\n",
        "# simpler to calculate its opposite: Cosine Similarity\n",
        "\n",
        "from sklearn.metrics.pairwise import cosine_similarity"
      ],
      "id": "76fceddd"
    },
    {
      "cell_type": "code",
      "execution_count": 5,
      "metadata": {},
      "outputs": [],
      "source": [
        "# So we will subtract the similarities from 1\n",
        "\n",
        "cos_sim = cosine_similarity(dtm_df)"
      ],
      "id": "c357fad3"
    },
    {
      "cell_type": "code",
      "execution_count": 6,
      "metadata": {},
      "outputs": [],
      "source": [
        "# And we'll make it a little easier to read\n",
        "\n",
        "np.round(cos_sim, 2)"
      ],
      "id": "cdf4c5d8"
    },
    {
      "cell_type": "code",
      "execution_count": 7,
      "metadata": {},
      "outputs": [],
      "source": [
        "#Compare the distance between novels\n",
        "\n",
        "filelist = ['txtlab_Novel450_English/EN_1850_Hawthorne,Nathaniel_TheScarletLetter_Novel.txt',\n",
        "            'txtlab_Novel450_English/EN_1851_Hawthorne,Nathaniel_TheHouseoftheSevenGables_Novel.txt',\n",
        "            'txtlab_Novel450_English/EN_1920_Fitzgerald,FScott_ThisSideofParadise_Novel.txt',\n",
        "            'txtlab_Novel450_English/EN_1922_Fitzgerald,FScott_TheBeautifulandtheDamned_Novel.txt',\n",
        "            'txtlab_Novel450_English/EN_1811_Austen,Jane_SenseandSensibility_Novel.txt',\n",
        "            'txtlab_Novel450_English/EN_1813_Austen,Jane_PrideandPrejudice_Novel.txt']\n",
        "\n",
        "novel_names = ['Hawthorne: Scarlet Letter',\n",
        "           'Hawthorne: Seven Gables',\n",
        "           'Fitzgerald: This Side of Paradise',\n",
        "           'Fitzgerald: Beautiful and the Damned',\n",
        "           'Austen: Sense and Sensibility',\n",
        "           'Austen: Pride and Prejudice']\n",
        "\n",
        "text_list = []\n",
        "\n",
        "for file in filelist:\n",
        "    with open(file, 'r', encoding = 'utf-8') as myfile:\n",
        "        text_list.append(myfile.read())\n",
        "\n",
        "            \n",
        "\n",
        "#import the function CountVectorizer\n",
        "from sklearn.feature_extraction.text import CountVectorizer\n",
        "\n",
        "cv = CountVectorizer(stop_words = 'english', min_df = 3, binary=True)\n",
        "\n",
        "novel_dtm = cv.fit_transform(text_list).toarray()\n",
        "feature_list = cv.get_feature_names_out()\n",
        "dtm_df_novel = pandas.DataFrame(novel_dtm, columns = feature_list, index = novel_names)\n",
        "dtm_df_novel"
      ],
      "id": "56622700"
    },
    {
      "cell_type": "code",
      "execution_count": 8,
      "metadata": {},
      "outputs": [],
      "source": [
        "cos_sim_novel = cosine_similarity(dtm_df_novel)\n",
        "np.round(cos_sim_novel, 2)"
      ],
      "id": "2a3b5f8e"
    },
    {
      "cell_type": "code",
      "execution_count": 9,
      "metadata": {},
      "outputs": [],
      "source": [
        "cos_df = pandas.DataFrame(cos_sim_novel, columns = novel_names, index = novel_names)\n",
        "cos_df"
      ],
      "id": "a64472f8"
    },
    {
      "cell_type": "code",
      "execution_count": 10,
      "metadata": {},
      "outputs": [],
      "source": [
        "#visualizing differences\n",
        "\n",
        "from sklearn.manifold import MDS\n",
        "\n",
        "# two components as we're plotting points in a two-dimensional plane\n",
        "# \"precomputed\" because we provide a distance matrix\n",
        "# we will also specify `random_state` so the plot is reproducible.\n",
        "\n",
        "#transform cosine similarity to cosine distance\n",
        "cos_dist = 1 - cosine_similarity(dtm_df_novel)\n",
        "\n",
        "mds = MDS(n_components=2, dissimilarity=\"precomputed\", random_state=1)\n",
        "\n",
        "pos = mds.fit_transform(cos_dist)  # shape (n_components, n_samples)\n",
        "xs, ys = pos[:, 0], pos[:, 1]\n",
        "\n",
        "for x, y, name in zip(xs, ys, novel_names):\n",
        "    plt.scatter(x, y)\n",
        "    plt.text(x, y, name)\n",
        "\n",
        "plt.show()"
      ],
      "id": "132b105f"
    },
    {
      "cell_type": "markdown",
      "metadata": {},
      "source": [
        "The above method has a broad range of applications, such as unsupervised\n",
        "clustering. Common techniques include\n",
        "<a href = \"https://en.wikipedia.org/wiki/K-means_clustering\">K-Means\n",
        "Clustering</a> and\n",
        "<a href=\"https://en.wikipedia.org/wiki/Hierarchical_clustering\">Heirchical\n",
        "Dendrograms</a>. These attempt to identify groups of texts with shared\n",
        "content, based on these kinds of distance measures.\n",
        "\n",
        "Here’s an example of a dendrogram based on these six novels:"
      ],
      "id": "3c207d15-5272-4f08-9bb1-9c436241271d"
    },
    {
      "cell_type": "code",
      "execution_count": 11,
      "metadata": {},
      "outputs": [],
      "source": [
        "from scipy.cluster.hierarchy import ward, dendrogram\n",
        "linkage_matrix = ward(cos_dist)\n",
        "\n",
        "dendrogram(linkage_matrix, orientation=\"right\", labels=novel_names)\n",
        "\n",
        "plt.tight_layout()  # fixes margins\n",
        "\n",
        "plt.show()"
      ],
      "id": "8e18fcdc"
    },
    {
      "cell_type": "markdown",
      "metadata": {},
      "source": [
        "### Vector Semantics\n",
        "\n",
        "We can also turn this logic on its head. Rather than produce vectors\n",
        "representing texts based on their words, we will produce vectors for the\n",
        "words based on their contexts."
      ],
      "id": "64d878e6-e96c-455c-b973-7d264591c737"
    },
    {
      "cell_type": "code",
      "execution_count": 12,
      "metadata": {},
      "outputs": [],
      "source": [
        "# Turn our DTM sideways\n",
        "\n",
        "dtm_df_novel.T.head()"
      ],
      "id": "edcaffea"
    },
    {
      "cell_type": "code",
      "execution_count": 13,
      "metadata": {},
      "outputs": [],
      "source": [
        "# Find the Cosine Distances between pairs of word-vectors\n",
        "\n",
        "cos_sim_words = cosine_similarity(dtm_df_novel.T)"
      ],
      "id": "d76ba893"
    },
    {
      "cell_type": "code",
      "execution_count": 14,
      "metadata": {},
      "outputs": [],
      "source": [
        "# In readable format\n",
        "\n",
        "np.round(cos_sim_words, 2)"
      ],
      "id": "a64396d5"
    },
    {
      "cell_type": "markdown",
      "metadata": {},
      "source": [
        "Theoretically you could visualize and cluster these as well - but this\n",
        "takes a lot of computational power!\n",
        "\n",
        "We’ll thus turn to the machine learning version: word embeddings\n",
        "\n",
        "### Word2Vec\n",
        "\n",
        "This last cell indicates that “sausage” and “bacon” perfectly align with\n",
        "one another across texts. If we saw this in a real-world example, we\n",
        "might interpret it to mean that the words share some kind of semantic or\n",
        "thematic relationship. In fact, this method is precisely one that\n",
        "humanists have used in order to find interesting linguistic patterns.\n",
        "(See Ted Underwood’s blog post,\n",
        "<a href = \"https://tedunderwood.com/2011/10/16/lsa-is-a-marvellous-tool-but-humanists-may-no-use-it-the-way-computer-scientists-do/\">LSA\n",
        "is a marvellous tool, but…</a>.)\n",
        "\n",
        "Recently, however, a more sophisticated technique for finding semantic\n",
        "relationships between words has enjoyed great popularity: Word2Vec\n",
        "\n",
        "Word2Vec draws from the logic of the concordance that we saw on the\n",
        "first day of the workshop. In the example above, a word (row) is\n",
        "described by its frequency within an entire novel (column). The word2vec\n",
        "algorithm tries to describe a given word in terms of the ones that\n",
        "appear immediately to the right and left in actual sentences. More\n",
        "precisely it learns how to <i>predict</i> the context words.\n",
        "\n",
        "<img src = \"Skip-gram diagram.png\">\n",
        "\n",
        "Without going too deeply into the algorithm, suffice it to say that it\n",
        "involves a two-step process. First, the input word gets compressed into\n",
        "a dense vector. Second, the vector gets decoded into the set of context\n",
        "words. Keywords that appear within similar contexts will have similar\n",
        "vector representations in between steps. This vector is referred to as a\n",
        "<i>word embedding</i>.\n",
        "\n",
        "Since the word embedding is a vector, we can perform tests like cosine\n",
        "similarity and other kinds of operations. Those operations can reveal\n",
        "many different kinds of relationships between words, as we shall see.\n",
        "\n",
        "<img src = \"w2v-Analogies.png\">\n",
        "\n",
        "# 1. Import & Pre-Processing\n",
        "\n",
        "### Import Packages"
      ],
      "id": "d9da9c6a-49b9-4202-a6f9-23cb4a46993f"
    },
    {
      "cell_type": "code",
      "execution_count": 15,
      "metadata": {},
      "outputs": [],
      "source": [
        "# Data Wrangling\n",
        "\n",
        "import os\n",
        "import numpy as np\n",
        "import pandas\n",
        "from scipy.spatial.distance import cosine\n",
        "from sklearn.metrics import pairwise\n",
        "from sklearn.manifold import MDS, TSNE"
      ],
      "id": "471bdb6b"
    },
    {
      "cell_type": "code",
      "execution_count": 16,
      "metadata": {},
      "outputs": [],
      "source": [
        "# Natural Language Processing\n",
        "\n",
        "\n",
        "import nltk\n",
        "nltk.download('punkt')\n",
        "from nltk.tokenize import word_tokenize, sent_tokenize"
      ],
      "id": "63071bcc"
    },
    {
      "cell_type": "code",
      "execution_count": 17,
      "metadata": {},
      "outputs": [],
      "source": [
        "# New libarary (not in Anaconda: gensim)\n",
        "import gensim"
      ],
      "id": "95c5767f"
    },
    {
      "cell_type": "code",
      "execution_count": 18,
      "metadata": {},
      "outputs": [],
      "source": [
        "# Custom Tokenizer for Classroom Use\n",
        "\n",
        "def fast_tokenize(text):\n",
        "    \n",
        "    # Get a list of punctuation marks\n",
        "    from string import punctuation\n",
        "    \n",
        "    lower_case = text.lower()\n",
        "    \n",
        "    # Iterate through text removing punctuation characters\n",
        "    no_punct = \"\".join([char for char in lower_case if char not in punctuation])\n",
        "    \n",
        "    # Split text over whitespace into list of words\n",
        "    tokens = no_punct.split()\n",
        "    \n",
        "    return tokens"
      ],
      "id": "98f9dbab"
    },
    {
      "cell_type": "markdown",
      "metadata": {},
      "source": [
        "### Corpus Description\n",
        "\n",
        "English-language subset of Andrew Piper’s novel corpus, totaling 150\n",
        "novels by British and American authors spanning the years 1771-1930.\n",
        "These texts reside on disk, each in a separate plaintext file. Metadata\n",
        "is contained in a spreadsheet distributed with the novel files.\n",
        "\n",
        "### Metadata Columns"
      ],
      "id": "7fce7087-f526-4845-9b0d-edaa7a34771f"
    },
    {
      "cell_type": "raw",
      "metadata": {
        "raw_mimetype": "text/html"
      },
      "source": [
        "<ol>"
      ],
      "id": "d69eaaaf-251f-4ced-a288-4279377aedbc"
    },
    {
      "cell_type": "raw",
      "metadata": {
        "raw_mimetype": "text/html"
      },
      "source": [
        "<li>"
      ],
      "id": "36754690-d702-4965-8c15-ac256d62fcbe"
    },
    {
      "cell_type": "markdown",
      "metadata": {},
      "source": [
        "Filename: Name of file on disk"
      ],
      "id": "88a6209e-aa6b-4e3b-9c0b-e8e6a357cb73"
    },
    {
      "cell_type": "raw",
      "metadata": {
        "raw_mimetype": "text/html"
      },
      "source": [
        "</li>"
      ],
      "id": "c751921e-e68f-4166-95b4-00f8f6a446f2"
    },
    {
      "cell_type": "raw",
      "metadata": {
        "raw_mimetype": "text/html"
      },
      "source": [
        "<li>"
      ],
      "id": "fae5f14e-4c5d-43c8-bcac-2a6b98004a30"
    },
    {
      "cell_type": "markdown",
      "metadata": {},
      "source": [
        "ID: Unique ID in Piper corpus"
      ],
      "id": "01b1031f-7cb2-4483-bbcc-b39498a326d8"
    },
    {
      "cell_type": "raw",
      "metadata": {
        "raw_mimetype": "text/html"
      },
      "source": [
        "</li>"
      ],
      "id": "6e6d4f53-6ad3-4508-beee-b49e05c14b89"
    },
    {
      "cell_type": "raw",
      "metadata": {
        "raw_mimetype": "text/html"
      },
      "source": [
        "<li>"
      ],
      "id": "921987f2-0fd3-4be4-9ab2-bdc4b82819ea"
    },
    {
      "cell_type": "markdown",
      "metadata": {},
      "source": [
        "Language: Language of novel"
      ],
      "id": "57b00c0f-a660-4899-8a18-8c9a504a2648"
    },
    {
      "cell_type": "raw",
      "metadata": {
        "raw_mimetype": "text/html"
      },
      "source": [
        "</li>"
      ],
      "id": "54784aa7-0d6c-48dc-b392-be19f8b91c83"
    },
    {
      "cell_type": "raw",
      "metadata": {
        "raw_mimetype": "text/html"
      },
      "source": [
        "<li>"
      ],
      "id": "6f730e61-a570-44b6-a4ee-48be6b026079"
    },
    {
      "cell_type": "markdown",
      "metadata": {},
      "source": [
        "Date: Initial publication date"
      ],
      "id": "6ad3528b-0599-4f9e-8ec5-d0c92e44b119"
    },
    {
      "cell_type": "raw",
      "metadata": {
        "raw_mimetype": "text/html"
      },
      "source": [
        "</li>"
      ],
      "id": "07ff6e12-8a55-4a1b-8f3c-3dfbb60062ab"
    },
    {
      "cell_type": "raw",
      "metadata": {
        "raw_mimetype": "text/html"
      },
      "source": [
        "<li>"
      ],
      "id": "abea270f-bb8b-47fc-9f5b-50451c721f06"
    },
    {
      "cell_type": "markdown",
      "metadata": {},
      "source": [
        "Title: Title of novel"
      ],
      "id": "35241a6e-9bb8-435d-b326-2d9cb6a35b38"
    },
    {
      "cell_type": "raw",
      "metadata": {
        "raw_mimetype": "text/html"
      },
      "source": [
        "</li>"
      ],
      "id": "5defda76-89c3-41fa-80f6-5929a688bde9"
    },
    {
      "cell_type": "raw",
      "metadata": {
        "raw_mimetype": "text/html"
      },
      "source": [
        "<li>"
      ],
      "id": "2e3b18cc-fc76-4ea5-8a7c-c94ee9c6f92f"
    },
    {
      "cell_type": "markdown",
      "metadata": {},
      "source": [
        "Gender: Authorial gender"
      ],
      "id": "aad337f0-1082-46a4-a038-0bdaa886edd4"
    },
    {
      "cell_type": "raw",
      "metadata": {
        "raw_mimetype": "text/html"
      },
      "source": [
        "</li>"
      ],
      "id": "0964b652-65a5-420f-b9db-e731fe2368e2"
    },
    {
      "cell_type": "raw",
      "metadata": {
        "raw_mimetype": "text/html"
      },
      "source": [
        "<li>"
      ],
      "id": "98a58015-3daa-4b5e-bcf1-2cca8f3eb818"
    },
    {
      "cell_type": "markdown",
      "metadata": {},
      "source": [
        "Person: Textual perspective"
      ],
      "id": "f47ccee9-eef9-428e-a1cf-69bde1e23f5e"
    },
    {
      "cell_type": "raw",
      "metadata": {
        "raw_mimetype": "text/html"
      },
      "source": [
        "</li>"
      ],
      "id": "e11fc0dc-5d0e-4312-bbd4-490601032bdd"
    },
    {
      "cell_type": "raw",
      "metadata": {
        "raw_mimetype": "text/html"
      },
      "source": [
        "<li>"
      ],
      "id": "1e4ca682-42e2-4e52-9d10-3b487e4969f3"
    },
    {
      "cell_type": "markdown",
      "metadata": {},
      "source": [
        "Length: Number of tokens in novel"
      ],
      "id": "029112de-ae33-41e4-b549-4ffd8ddad084"
    },
    {
      "cell_type": "raw",
      "metadata": {
        "raw_mimetype": "text/html"
      },
      "source": [
        "</li>"
      ],
      "id": "0c8c123e-13dd-4de9-bda1-a1675533db5c"
    },
    {
      "cell_type": "raw",
      "metadata": {
        "raw_mimetype": "text/html"
      },
      "source": [
        "</ol>"
      ],
      "id": "fec6eabe-0c5b-47a7-abe4-b9c1b08c2a2f"
    },
    {
      "cell_type": "markdown",
      "metadata": {},
      "source": [
        "## Import Metadata"
      ],
      "id": "595ccc8b-74e3-4027-8c3b-9ef03d06df8e"
    },
    {
      "cell_type": "code",
      "execution_count": 19,
      "metadata": {},
      "outputs": [],
      "source": [
        "# Import Metadata into Pandas Dataframe\n",
        "\n",
        "meta_df = pandas.read_csv('resources/txtlab_Novel450_English.csv', encoding = 'utf-8')"
      ],
      "id": "0b00f982"
    },
    {
      "cell_type": "code",
      "execution_count": 20,
      "metadata": {},
      "outputs": [],
      "source": [
        "# Check Metadata\n",
        "\n",
        "meta_df.head()"
      ],
      "id": "b456ab92"
    },
    {
      "cell_type": "markdown",
      "metadata": {},
      "source": [
        "## Import Corpus"
      ],
      "id": "7cfa51f5-2b19-43be-b919-fa08b3c2f525"
    },
    {
      "cell_type": "code",
      "execution_count": 21,
      "metadata": {},
      "outputs": [],
      "source": [
        "# Set location of corpus folder\n",
        "\n",
        "fiction_folder = 'txtlab_Novel450_English/'"
      ],
      "id": "1a23e0d9"
    },
    {
      "cell_type": "code",
      "execution_count": 22,
      "metadata": {},
      "outputs": [],
      "source": [
        "# Collect the text of each file in the 'fiction_folder' on the hard drive\n",
        "\n",
        "# Create empty list, each entry will be the string for a given novel\n",
        "novel_list = []\n",
        "\n",
        "# Iterate through filenames in 'fiction_folder'\n",
        "for filename in os.listdir(fiction_folder):\n",
        "    \n",
        "    # Read novel text as single string\n",
        "    with open(fiction_folder + filename, 'r', encoding = 'utf-8') as file_in:\n",
        "        this_novel = file_in.read()\n",
        "    \n",
        "    # Add novel text as single string to master list\n",
        "    novel_list.append(this_novel)"
      ],
      "id": "65904176"
    },
    {
      "cell_type": "code",
      "execution_count": 23,
      "metadata": {},
      "outputs": [],
      "source": [
        "# Inspect first item in novel_list\n",
        "\n",
        "novel_list[0][:500]"
      ],
      "id": "44a17a51"
    },
    {
      "cell_type": "markdown",
      "metadata": {},
      "source": [
        "## Pre-Processing\n",
        "\n",
        "Word2Vec learns about the relationships among words by observing them in\n",
        "context. This means that we want to split our texts into word-units.\n",
        "However, we want to maintain sentence boundaries as well, since the last\n",
        "word of the previous sentence might skew the meaning of the next\n",
        "sentence.\n",
        "\n",
        "Since novels were imported as single strings, we’ll first use\n",
        "<i>sent_tokenize</i> to divide them into sentences, and second, we’ll\n",
        "split each sentence into its own list of words."
      ],
      "id": "be45e280-b40d-4daa-895f-84e414c08821"
    },
    {
      "cell_type": "code",
      "execution_count": 24,
      "metadata": {},
      "outputs": [],
      "source": [
        "# Split each novel into sentences\n",
        "\n",
        "sentences = [sentence for novel in novel_list for sentence in sent_tokenize(novel)]"
      ],
      "id": "e7952ba1"
    },
    {
      "cell_type": "code",
      "execution_count": 25,
      "metadata": {},
      "outputs": [],
      "source": [
        "# Inspect first sentence\n",
        "\n",
        "sentences[0]"
      ],
      "id": "2579a1dc"
    },
    {
      "cell_type": "code",
      "execution_count": 26,
      "metadata": {},
      "outputs": [],
      "source": [
        "# Split each sentence into tokens\n",
        "\n",
        "words_by_sentence = [fast_tokenize(sentence) for sentence in sentences]"
      ],
      "id": "4cc39a71"
    },
    {
      "cell_type": "code",
      "execution_count": 27,
      "metadata": {},
      "outputs": [],
      "source": [
        "# Remove any sentences that contain zero tokens\n",
        "\n",
        "words_by_sentence = [sentence for sentence in words_by_sentence if sentence != []]"
      ],
      "id": "ba240035"
    },
    {
      "cell_type": "code",
      "execution_count": 28,
      "metadata": {},
      "outputs": [],
      "source": [
        "# Inspect first sentence\n",
        "\n",
        "words_by_sentence[0]"
      ],
      "id": "7b789fec"
    },
    {
      "cell_type": "markdown",
      "metadata": {},
      "source": [
        "# 2. Word2Vec\n",
        "\n",
        "### Word Embedding\n",
        "\n",
        "Word2Vec is the most prominent word embedding algorithm. Word embedding\n",
        "generally attempts to identify semantic relationships between words by\n",
        "observing them in context.\n",
        "\n",
        "Imagine that each word in a novel has its meaning determined by the ones\n",
        "that surround it in a limited window. For example, in Moby Dick’s first\n",
        "sentence, “me” is paired on either side by “Call” and “Ishmael.” After\n",
        "observing the windows around every word in the novel (or many novels),\n",
        "the computer will notice a pattern in which “me” falls between similar\n",
        "pairs of words to “her,” “him,” or “them.” Of course, the computer had\n",
        "gone through a similar process over the words “Call” and “Ishmael,” for\n",
        "which “me” is reciprocally part of their contexts. This chaining of\n",
        "signifiers to one another mirrors some of humanists’ most sophisticated\n",
        "interpretative frameworks of language.\n",
        "\n",
        "The two main flavors of Word2Vec are CBOW (Continuous Bag of Words) and\n",
        "Skip-Gram, which can be distinguished partly by their input and output\n",
        "during training. Skip-Gram takes a word of interest as its input\n",
        "(e.g. “me”) and tries to learn how to predict its context words\n",
        "(“Call”,“Ishmael”). CBOW does the opposite, taking the context words\n",
        "(“Call”,“Ishmael”) as a single input and tries to predict the word of\n",
        "interest (“me”).\n",
        "\n",
        "In general, CBOW is is faster and does well with frequent words, while\n",
        "Skip-Gram potentially represents rare words better.\n",
        "\n",
        "### Word2Vec Features"
      ],
      "id": "da6da5c6-2a7a-47eb-b7ac-30e65ded9e9a"
    },
    {
      "cell_type": "raw",
      "metadata": {
        "raw_mimetype": "text/html"
      },
      "source": [
        "<ul>"
      ],
      "id": "4e6d2637-b7a2-448a-9f7c-aa92cf6071a8"
    },
    {
      "cell_type": "raw",
      "metadata": {
        "raw_mimetype": "text/html"
      },
      "source": [
        "<li>"
      ],
      "id": "468aa768-cd80-4133-9a0e-e20595142c2e"
    },
    {
      "cell_type": "markdown",
      "metadata": {},
      "source": [
        "Size: Number of dimensions for word embedding model"
      ],
      "id": "05f16bab-bd2e-4b9f-bf94-8e333448da89"
    },
    {
      "cell_type": "raw",
      "metadata": {
        "raw_mimetype": "text/html"
      },
      "source": [
        "</li>"
      ],
      "id": "9eb2e06b-808a-4359-9966-ddc7b365f2e6"
    },
    {
      "cell_type": "raw",
      "metadata": {
        "raw_mimetype": "text/html"
      },
      "source": [
        "<li>"
      ],
      "id": "27edb28a-7cd1-4daa-bdac-bdcfb238d01a"
    },
    {
      "cell_type": "markdown",
      "metadata": {},
      "source": [
        "Window: Number of context words to observe in each direction"
      ],
      "id": "07526bfb-dbbe-4e2e-b35b-e245ddc0df60"
    },
    {
      "cell_type": "raw",
      "metadata": {
        "raw_mimetype": "text/html"
      },
      "source": [
        "</li>"
      ],
      "id": "fa71a804-0564-40ff-96d8-28457b6d5b43"
    },
    {
      "cell_type": "raw",
      "metadata": {
        "raw_mimetype": "text/html"
      },
      "source": [
        "<li>"
      ],
      "id": "4b45239b-d6ff-4bd4-82ed-06434e3edcbc"
    },
    {
      "cell_type": "markdown",
      "metadata": {},
      "source": [
        "min_count: Minimum frequency for words included in model"
      ],
      "id": "5620b5e8-6bf5-494b-8dae-991ccfaeadc6"
    },
    {
      "cell_type": "raw",
      "metadata": {
        "raw_mimetype": "text/html"
      },
      "source": [
        "</li>"
      ],
      "id": "1d0a1cf8-cb67-4903-b98a-1082f2e2ebec"
    },
    {
      "cell_type": "raw",
      "metadata": {
        "raw_mimetype": "text/html"
      },
      "source": [
        "<li>"
      ],
      "id": "51af91d6-2671-4098-8e3f-acddbf024833"
    },
    {
      "cell_type": "markdown",
      "metadata": {},
      "source": [
        "sg (Skip-Gram): ‘0’ indicates CBOW model; ‘1’ indicates Skip-Gram"
      ],
      "id": "fefc0863-ead7-4703-a921-3d8f913d48df"
    },
    {
      "cell_type": "raw",
      "metadata": {
        "raw_mimetype": "text/html"
      },
      "source": [
        "</li>"
      ],
      "id": "de56727f-801a-4c32-bf91-2315b4f165ff"
    },
    {
      "cell_type": "raw",
      "metadata": {
        "raw_mimetype": "text/html"
      },
      "source": [
        "<li>"
      ],
      "id": "cc13705d-0fee-4fb7-a8a8-856ae31c7b4e"
    },
    {
      "cell_type": "markdown",
      "metadata": {},
      "source": [
        "Alpha: Learning rate (initial); prevents model from over-correcting,\n",
        "enables finer tuning"
      ],
      "id": "39d64b2d-847c-4680-98e9-71263710ed36"
    },
    {
      "cell_type": "raw",
      "metadata": {
        "raw_mimetype": "text/html"
      },
      "source": [
        "</li>"
      ],
      "id": "85cc76ea-a76c-4b9b-a583-effd942f44a1"
    },
    {
      "cell_type": "raw",
      "metadata": {
        "raw_mimetype": "text/html"
      },
      "source": [
        "<li>"
      ],
      "id": "1b5b6f52-5ff4-4801-aa67-4ddaf87b4fb2"
    },
    {
      "cell_type": "markdown",
      "metadata": {},
      "source": [
        "Iterations: Number of passes through dataset"
      ],
      "id": "4b67a555-a4b4-4d82-9be6-b461264f1e20"
    },
    {
      "cell_type": "raw",
      "metadata": {
        "raw_mimetype": "text/html"
      },
      "source": [
        "</li>"
      ],
      "id": "e24206a0-e70f-4d41-a7c3-13cd30f3caef"
    },
    {
      "cell_type": "raw",
      "metadata": {
        "raw_mimetype": "text/html"
      },
      "source": [
        "<li>"
      ],
      "id": "dc263009-668f-43ca-85a4-f59df0f49e83"
    },
    {
      "cell_type": "markdown",
      "metadata": {},
      "source": [
        "Batch Size: Number of words to sample from data during each pass"
      ],
      "id": "c78f8c86-d6a2-4997-b270-6c2f7078f982"
    },
    {
      "cell_type": "raw",
      "metadata": {
        "raw_mimetype": "text/html"
      },
      "source": [
        "</li>"
      ],
      "id": "64e331ad-c3d8-4c5a-879c-586452eafa41"
    },
    {
      "cell_type": "raw",
      "metadata": {
        "raw_mimetype": "text/html"
      },
      "source": [
        "</ul>"
      ],
      "id": "9d6a021b-7b7d-460e-9dae-e3bfc0e4504c"
    },
    {
      "cell_type": "markdown",
      "metadata": {},
      "source": [
        "Note: Script uses default value for each argument\n",
        "\n",
        "## Training"
      ],
      "id": "03ba4d20-e8e1-4fae-9840-e17a572b0a85"
    },
    {
      "cell_type": "code",
      "execution_count": 29,
      "metadata": {},
      "outputs": [],
      "source": [
        "# Train word2vec model from txtLab corpus\n",
        "\n",
        "model = gensim.models.Word2Vec(words_by_sentence, vector_size=100, window=5, \\\n",
        "                               min_count=25, sg=1, alpha=0.025, epochs=5, batch_words=10000)"
      ],
      "id": "fcbf58b4"
    },
    {
      "cell_type": "markdown",
      "metadata": {},
      "source": [
        "## Embeddings"
      ],
      "id": "73a7f8ab-6b7f-42e1-b266-7e798e4bca57"
    },
    {
      "cell_type": "code",
      "execution_count": 30,
      "metadata": {},
      "outputs": [],
      "source": [
        "# Return dense word vector\n",
        "\n",
        "model.wv.get_vector('whale')"
      ],
      "id": "43a7af86"
    },
    {
      "cell_type": "markdown",
      "metadata": {},
      "source": [
        "## Vector-Space Operations\n",
        "\n",
        "### Similarity\n",
        "\n",
        "Since words are represented as dense vectors, we can ask how similiar\n",
        "words’ meanings are based on their cosine similarity (essentially how\n",
        "much they overlap). <em>gensim</em> has a few out-of-the-box functions\n",
        "that enable different kinds of comparisons."
      ],
      "id": "69857935-e28d-41d8-974e-9c50ab2d7671"
    },
    {
      "cell_type": "code",
      "execution_count": 31,
      "metadata": {},
      "outputs": [],
      "source": [
        "# Find cosine distance between two given word vectors\n",
        "\n",
        "model.wv.similarity('pride','prejudice')"
      ],
      "id": "bbb4d2d6"
    },
    {
      "cell_type": "code",
      "execution_count": 32,
      "metadata": {},
      "outputs": [],
      "source": [
        "# Find nearest word vectors by cosine distance\n",
        "\n",
        "model.wv.most_similar('pride')"
      ],
      "id": "9ffdb0e8"
    },
    {
      "cell_type": "code",
      "execution_count": 33,
      "metadata": {},
      "outputs": [],
      "source": [
        "# Given a list of words, we can ask which doesn't belong\n",
        "\n",
        "# Finds mean vector of words in list\n",
        "# and identifies the word further from that mean\n",
        "\n",
        "model.wv.doesnt_match(['pride','prejudice', 'whale'])"
      ],
      "id": "0facd216"
    },
    {
      "cell_type": "markdown",
      "metadata": {},
      "source": [
        "### Multiple Valences\n",
        "\n",
        "A word embedding may encode both primary and secondary meanings that are\n",
        "both present at the same time. In order to identify secondary meanings\n",
        "in a word, we can subtract the vectors of primary (or simply unwanted)\n",
        "meanings. For example, we may wish to remove the sense of <em>river\n",
        "bank</em> from the word <em>bank</em>. This would be written\n",
        "mathetmatically as <em>RIVER - BANK</em>, which in <em>gensim</em>’s\n",
        "interface lists <em>RIVER</em> as a positive meaning and <em>BANK</em>\n",
        "as a negative one."
      ],
      "id": "74ee1538-7c24-4e39-966e-75888fbcd2f2"
    },
    {
      "cell_type": "code",
      "execution_count": 34,
      "metadata": {},
      "outputs": [],
      "source": [
        "# Get most similar words to BANK, in order\n",
        "# to get a sense for its primary meaning\n",
        "\n",
        "model.wv.most_similar('bank')"
      ],
      "id": "4a9f152d"
    },
    {
      "cell_type": "code",
      "execution_count": 35,
      "metadata": {},
      "outputs": [],
      "source": [
        "# Remove the sense of \"river bank\" from \"bank\" and see what is left\n",
        "\n",
        "model.wv.most_similar(positive=['bank'], negative=['river'])"
      ],
      "id": "5b871b6f"
    },
    {
      "cell_type": "markdown",
      "metadata": {},
      "source": [
        "### Analogy\n",
        "\n",
        "Analogies are rendered as simple mathematical operations in vector\n",
        "space. For example, the canonic word2vec analogy <em>MAN is to KING as\n",
        "WOMAN is to ??</em> is rendered as <em>KING - MAN + WOMAN</em>. In the\n",
        "gensim interface, we designate <em>KING</em> and <em>WOMAN</em> as\n",
        "positive terms and <em>MAN</em> as a negative term, since it is\n",
        "subtracted from those."
      ],
      "id": "50fcf262-efc9-4704-8b9e-275a75733bd7"
    },
    {
      "cell_type": "code",
      "execution_count": 36,
      "metadata": {},
      "outputs": [],
      "source": [
        "# Get most similar words to KING, in order\n",
        "# to get a sense for its primary meaning\n",
        "\n",
        "model.wv.most_similar('king')"
      ],
      "id": "8124319c"
    },
    {
      "cell_type": "code",
      "execution_count": 37,
      "metadata": {},
      "outputs": [],
      "source": [
        "# The canonic word2vec analogy: King - Man + Woman -> Queen\n",
        "\n",
        "model.wv.most_similar(positive=['woman', 'king'], negative=['man'])"
      ],
      "id": "3b086b60"
    },
    {
      "cell_type": "markdown",
      "metadata": {},
      "source": [
        "### Gendered Vectors\n",
        "\n",
        "Can we find gender a la Schmidt (2015)? (Note that this method uses\n",
        "vector projection, whereas Schmidt had used rejection.)"
      ],
      "id": "50e9ef32-788a-4168-a6b6-b51545622835"
    },
    {
      "cell_type": "code",
      "execution_count": 38,
      "metadata": {},
      "outputs": [],
      "source": [
        "# Feminine Vector\n",
        "\n",
        "model.wv.most_similar(positive=['she','her','hers','herself'], negative=['he','him','his','himself'])"
      ],
      "id": "02445a40"
    },
    {
      "cell_type": "code",
      "execution_count": 39,
      "metadata": {},
      "outputs": [],
      "source": [
        "# Masculine Vector\n",
        "\n",
        "model.wv.most_similar(positive=['he','him','his','himself'], negative=['she','her','hers','herself'])"
      ],
      "id": "2bcd8be2"
    },
    {
      "cell_type": "markdown",
      "metadata": {},
      "source": [
        "## Visualization"
      ],
      "id": "8a74f249-56fb-41bf-bd35-795c77f4e385"
    },
    {
      "cell_type": "code",
      "execution_count": 40,
      "metadata": {},
      "outputs": [],
      "source": [
        "# Dictionary of words in model\n",
        "\n",
        "model.wv.key_to_index"
      ],
      "id": "f31cd7d4"
    },
    {
      "cell_type": "code",
      "execution_count": 41,
      "metadata": {},
      "outputs": [],
      "source": [
        "# Visualizing the whole vocabulary would make it hard to read\n",
        "\n",
        "len(model.wv.key_to_index)"
      ],
      "id": "11bffb20"
    },
    {
      "cell_type": "code",
      "execution_count": 42,
      "metadata": {},
      "outputs": [],
      "source": [
        "# For interpretability, we'll select words that already have a semantic relation\n",
        "\n",
        "her_tokens = [token for token,weight in model.wv.most_similar(positive=['she','her','hers','herself'], \\\n",
        "                                                       negative=['he','him','his','himself'], topn=50)]"
      ],
      "id": "fa9067b0"
    },
    {
      "cell_type": "code",
      "execution_count": 43,
      "metadata": {},
      "outputs": [],
      "source": [
        "# Inspect list\n",
        "\n",
        "her_tokens[:15]"
      ],
      "id": "4c70aea1"
    },
    {
      "cell_type": "code",
      "execution_count": 44,
      "metadata": {},
      "outputs": [],
      "source": [
        "# Get the vector for each sampled word\n",
        "\n",
        "vectors = [model.wv.get_vector(word) for word in her_tokens]  "
      ],
      "id": "25abdde2"
    },
    {
      "cell_type": "code",
      "execution_count": 45,
      "metadata": {},
      "outputs": [],
      "source": [
        "# Calculate distances among texts in vector space\n",
        "\n",
        "dist_matrix = pairwise.pairwise_distances(vectors, metric='cosine')"
      ],
      "id": "2d7f6096"
    },
    {
      "cell_type": "code",
      "execution_count": 46,
      "metadata": {},
      "outputs": [],
      "source": [
        "# Multi-Dimensional Scaling (Project vectors into 2-D)\n",
        "\n",
        "mds = MDS(n_components = 2, dissimilarity='precomputed')\n",
        "embeddings = mds.fit_transform(dist_matrix)"
      ],
      "id": "a93fb0f3"
    },
    {
      "cell_type": "code",
      "execution_count": 47,
      "metadata": {},
      "outputs": [],
      "source": [
        "# Make a pretty graph\n",
        "\n",
        "_, ax = plt.subplots(figsize=(10,10))\n",
        "ax.scatter(embeddings[:,0], embeddings[:,1], alpha=0)\n",
        "for i in range(len(vectors)):\n",
        "    ax.annotate(her_tokens[i], ((embeddings[i,0], embeddings[i,1])))"
      ],
      "id": "226d21a8"
    },
    {
      "cell_type": "code",
      "execution_count": 48,
      "metadata": {},
      "outputs": [],
      "source": [
        "# For comparison, here is the same graph using a masculine-pronoun vector\n",
        "\n",
        "his_tokens = [token for token,weight in model.wv.most_similar(positive=['he','him','his','himself'], \\\n",
        "                                                       negative=['she','her','hers','herself'], topn=50)]\n",
        "vectors = [model.wv.get_vector(word) for word in his_tokens]\n",
        "dist_matrix = pairwise.pairwise_distances(vectors, metric='cosine')\n",
        "mds = MDS(n_components = 2, dissimilarity='precomputed')\n",
        "embeddings = mds.fit_transform(dist_matrix)\n",
        "_, ax = plt.subplots(figsize=(10,10))\n",
        "ax.scatter(embeddings[:,0], embeddings[:,1], alpha=0)\n",
        "for i in range(len(vectors)):\n",
        "    ax.annotate(his_tokens[i], ((embeddings[i,0], embeddings[i,1])))"
      ],
      "id": "fd630354"
    },
    {
      "cell_type": "markdown",
      "metadata": {},
      "source": [
        "Q. What kinds of semantic relationships exist in the diagram above?\n",
        "\n",
        "Are there any words that seem out of place?\n",
        "\n",
        "# 3. Saving/Loading Models"
      ],
      "id": "309fe92c-84ed-43a6-a437-6f05079d596d"
    },
    {
      "cell_type": "code",
      "execution_count": 49,
      "metadata": {},
      "outputs": [],
      "source": [
        "# Save current model for later use\n",
        "\n",
        "model.wv.save_word2vec_format('resources/word2vec.txtlab_Novel150_English.txt')\n",
        "#model.save_word2vec_format('resources/word2vec.txtlab_Novel150_English.txt') # deprecated"
      ],
      "id": "738bf832"
    },
    {
      "cell_type": "code",
      "execution_count": 50,
      "metadata": {},
      "outputs": [],
      "source": [
        "# Load up models from disk\n",
        "\n",
        "# Model trained on Eighteenth Century Collections Online corpus (~2500 texts)\n",
        "# Made available by Ryan Heuser: http://ryanheuser.org/word-vectors-1/\n",
        "\n",
        "ecco_model = gensim.models.KeyedVectors.load_word2vec_format('resources/word2vec.ECCO-TCP.txt')\n",
        "#ecco_model = gensim.models.Word2Vec.load_word2vec_format('resources/word2vec.ECCO-TCP.txt') # deprecated"
      ],
      "id": "2462bb24"
    },
    {
      "cell_type": "code",
      "execution_count": 51,
      "metadata": {},
      "outputs": [],
      "source": [
        "# What are similar words to BANK?\n",
        "\n",
        "ecco_model.most_similar('bank')"
      ],
      "id": "3c077d65"
    },
    {
      "cell_type": "code",
      "execution_count": 52,
      "metadata": {},
      "outputs": [],
      "source": [
        "# What if we remove the sense of \"river bank\"?\n",
        "\n",
        "ecco_model.most_similar(positive=['bank'], negative=['river'])"
      ],
      "id": "c275b11c"
    },
    {
      "cell_type": "markdown",
      "metadata": {},
      "source": [
        "## Exercises!"
      ],
      "id": "d49c33dc-3ffc-4993-abdf-1cd7b94d7c81"
    },
    {
      "cell_type": "code",
      "execution_count": 53,
      "metadata": {},
      "outputs": [],
      "source": [
        "## EX. Use the most_similar method to find the tokens nearest to 'car' in either model.\n",
        "##     Do the same for 'motorcar'.\n",
        "\n",
        "## Q.  What characterizes these two words inthe corpus? Does this make sense?"
      ],
      "id": "9023c76c"
    },
    {
      "cell_type": "code",
      "execution_count": 54,
      "metadata": {},
      "outputs": [],
      "source": [
        "## EX. How does our model answer the analogy: MADRID is to SPAIN as PARIS is to __________\n",
        "\n",
        "## Q.  What has our model learned about nation-states?"
      ],
      "id": "44034c04"
    },
    {
      "cell_type": "code",
      "execution_count": 55,
      "metadata": {},
      "outputs": [],
      "source": [
        "## EX. Perform the canonic Word2Vec addition again but leave out a term:\n",
        "##     Try 'king' - 'man', 'woman' - 'man', 'woman' + 'king'\n",
        "\n",
        "## Q.  What do these indicate semantically?"
      ],
      "id": "23a1c472"
    },
    {
      "cell_type": "code",
      "execution_count": 56,
      "metadata": {},
      "outputs": [],
      "source": [
        "## EX. Heuser's blog post explores an analogy in eighteenth-century thought that\n",
        "##     RICHES are to VIRTUE what LEARNING is to GENIUS. How true is this in\n",
        "##     the ECCO-trained Word2Vec model? Is it true in the one we trained?\n",
        "\n",
        "##  Q. How might we compare word2vec models more generally?"
      ],
      "id": "ce16b58c"
    },
    {
      "cell_type": "code",
      "execution_count": 57,
      "metadata": {},
      "outputs": [],
      "source": [
        "# ECCO model: RICHES are to VIRTUE what LEARNING is to ??"
      ],
      "id": "cafa21ad"
    },
    {
      "cell_type": "code",
      "execution_count": 58,
      "metadata": {},
      "outputs": [],
      "source": [
        "# txtLab model: RICHES are to VIRTUE what LEARNING is to ??"
      ],
      "id": "da684b06"
    },
    {
      "cell_type": "markdown",
      "metadata": {},
      "source": [
        "# 4. Open Questions\n",
        "\n",
        "At this point, we have seen a number of mathemetical operations that we\n",
        "may use to explore word2vec’s word embeddings. These enable us to answer\n",
        "a set of new, interesting questions dealing with semantics, yet there\n",
        "are many other questions that remain unanswered.\n",
        "\n",
        "For example:"
      ],
      "id": "9938af2a-24e2-4d52-8199-b758e93217b0"
    },
    {
      "cell_type": "raw",
      "metadata": {
        "raw_mimetype": "text/html"
      },
      "source": [
        "<ol>"
      ],
      "id": "d3b6135b-2b53-4e6b-a3af-734e12a7f157"
    },
    {
      "cell_type": "raw",
      "metadata": {
        "raw_mimetype": "text/html"
      },
      "source": [
        "<li>"
      ],
      "id": "09ff84ec-c483-4757-90a3-1019cb70f6db"
    },
    {
      "cell_type": "markdown",
      "metadata": {},
      "source": [
        "How to compare word usages in different texts (within the same model)?"
      ],
      "id": "b5a8e3fc-9e6a-4ea5-86fd-04e33ba63224"
    },
    {
      "cell_type": "raw",
      "metadata": {
        "raw_mimetype": "text/html"
      },
      "source": [
        "</li>"
      ],
      "id": "1c01d872-7dee-4a8d-9c67-40b0d204999c"
    },
    {
      "cell_type": "raw",
      "metadata": {
        "raw_mimetype": "text/html"
      },
      "source": [
        "<li>"
      ],
      "id": "606bc2ae-5f34-43ee-a98b-90baba46b6f2"
    },
    {
      "cell_type": "markdown",
      "metadata": {},
      "source": [
        "How to compare word meanings in different models? compare whole models?"
      ],
      "id": "971b5621-9d3f-43b3-8904-badb28cb2a54"
    },
    {
      "cell_type": "raw",
      "metadata": {
        "raw_mimetype": "text/html"
      },
      "source": [
        "</li>"
      ],
      "id": "d7d1a6cd-a66e-4385-a4ff-a07d2cac5ff0"
    },
    {
      "cell_type": "raw",
      "metadata": {
        "raw_mimetype": "text/html"
      },
      "source": [
        "<li>"
      ],
      "id": "63fbd377-0f99-41c6-9da3-339a4fd908e3"
    },
    {
      "cell_type": "markdown",
      "metadata": {},
      "source": [
        "What about the space “in between” words?"
      ],
      "id": "fcf08b18-bfd5-495c-a007-c0049d0f9156"
    },
    {
      "cell_type": "raw",
      "metadata": {
        "raw_mimetype": "text/html"
      },
      "source": [
        "</li>"
      ],
      "id": "14602f86-df13-488a-a36a-71d50ac18cb9"
    },
    {
      "cell_type": "raw",
      "metadata": {
        "raw_mimetype": "text/html"
      },
      "source": [
        "<li>"
      ],
      "id": "c887e783-1703-4eda-b1de-eb85f80a26e3"
    },
    {
      "cell_type": "markdown",
      "metadata": {},
      "source": [
        "Do we agree with the Distributional Hypothesis that words with the same\n",
        "contexts share their meanings?"
      ],
      "id": "68618fff-83f7-4ec6-b3d2-e00280783246"
    },
    {
      "cell_type": "raw",
      "metadata": {
        "raw_mimetype": "text/html"
      },
      "source": [
        "</li>"
      ],
      "id": "fc8313e0-faca-4c72-a02b-97f381199a26"
    },
    {
      "cell_type": "raw",
      "metadata": {
        "raw_mimetype": "text/html"
      },
      "source": [
        "<ol>"
      ],
      "id": "e3ac6367-bb53-436d-a3aa-b8ddcf7f1281"
    },
    {
      "cell_type": "raw",
      "metadata": {
        "raw_mimetype": "text/html"
      },
      "source": [
        "<li>"
      ],
      "id": "a796550e-702d-47e6-a04d-8dc19a2d46d3"
    },
    {
      "cell_type": "markdown",
      "metadata": {},
      "source": [
        "If not, then what information do we think is encoded in a word’s\n",
        "context?"
      ],
      "id": "f3eda1ba-6af3-4712-a601-7979ccc36f6b"
    },
    {
      "cell_type": "raw",
      "metadata": {
        "raw_mimetype": "text/html"
      },
      "source": [
        "</li>"
      ],
      "id": "c6fa6760-07d0-4b16-8c14-7c8ea133988c"
    },
    {
      "cell_type": "raw",
      "metadata": {
        "raw_mimetype": "text/html"
      },
      "source": [
        "</ol>"
      ],
      "id": "38550671-6abc-47b8-b8eb-7dca70ad023e"
    },
    {
      "cell_type": "raw",
      "metadata": {
        "raw_mimetype": "text/html"
      },
      "source": [
        "<li>"
      ],
      "id": "93f6128e-9b44-483d-bf3c-72e36dc7bd7c"
    },
    {
      "cell_type": "markdown",
      "metadata": {},
      "source": [
        "What good, humanistic research questions do analogies shed light on?"
      ],
      "id": "2a637b60-649d-4f91-9279-30e6fa3210a7"
    },
    {
      "cell_type": "raw",
      "metadata": {
        "raw_mimetype": "text/html"
      },
      "source": [
        "</li>"
      ],
      "id": "457f9e49-87c7-4c1e-8f74-66a4299ec106"
    },
    {
      "cell_type": "raw",
      "metadata": {
        "raw_mimetype": "text/html"
      },
      "source": [
        "<ol>"
      ],
      "id": "16ae2fde-e1d1-4603-8443-74f86f1d5a04"
    },
    {
      "cell_type": "raw",
      "metadata": {
        "raw_mimetype": "text/html"
      },
      "source": [
        "<li>"
      ],
      "id": "7620ff89-783f-442b-8d0c-423cc6de65dc"
    },
    {
      "cell_type": "markdown",
      "metadata": {},
      "source": [
        "shades of meaning?"
      ],
      "id": "ceced797-4814-4d32-bca8-b832bd972d6a"
    },
    {
      "cell_type": "raw",
      "metadata": {
        "raw_mimetype": "text/html"
      },
      "source": [
        "</li>"
      ],
      "id": "0e18aec0-61b0-44df-b9bb-575b85113b50"
    },
    {
      "cell_type": "raw",
      "metadata": {
        "raw_mimetype": "text/html"
      },
      "source": [
        "<li>"
      ],
      "id": "225ca439-db6d-4801-81f5-cc50dc42415f"
    },
    {
      "cell_type": "markdown",
      "metadata": {},
      "source": [
        "context similarity?"
      ],
      "id": "0a877091-a4f8-442e-83a6-2c229d2ef808"
    },
    {
      "cell_type": "raw",
      "metadata": {
        "raw_mimetype": "text/html"
      },
      "source": [
        "</li>"
      ],
      "id": "9d5e40bb-0c4c-4b24-8001-9c944375f526"
    },
    {
      "cell_type": "raw",
      "metadata": {
        "raw_mimetype": "text/html"
      },
      "source": [
        "</ol>"
      ],
      "id": "e782a41e-4112-4347-89a9-6e534462709d"
    },
    {
      "cell_type": "raw",
      "metadata": {
        "raw_mimetype": "text/html"
      },
      "source": [
        "</ol>"
      ],
      "id": "da299c27-eaf4-45c4-a664-4c9f6117f970"
    }
  ],
  "nbformat": 4,
  "nbformat_minor": 5,
  "metadata": {
    "kernelspec": {
      "name": "python3",
      "display_name": "Python 3 (ipykernel)",
      "language": "python",
      "path": "/usr/local/share/jupyter/kernels/python3"
    },
    "language_info": {
      "name": "python",
      "codemirror_mode": {
        "name": "ipython",
        "version": "3"
      },
      "file_extension": ".py",
      "mimetype": "text/x-python",
      "nbconvert_exporter": "python",
      "pygments_lexer": "ipython3",
      "version": "3.10.12"
    }
  }
}