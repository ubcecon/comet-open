{
  "cells": [
    {
      "cell_type": "markdown",
      "metadata": {},
      "source": [
        "# 3.5 - Advanced - Word Embeddings Tutorial (python)"
      ],
      "id": "7bc67d74-7942-456a-adc0-d1e4b0b31c57"
    },
    {
      "cell_type": "raw",
      "metadata": {
        "raw_mimetype": "text/html"
      },
      "source": [
        "<h1 align=\"center\">"
      ],
      "id": "5dbba390-ce7e-4d20-bd8d-c6126248f119"
    },
    {
      "cell_type": "markdown",
      "metadata": {},
      "source": [
        "It Starts with a Research Question…"
      ],
      "id": "a4a7e661-1a2e-4083-af75-c74e8ae7fbc6"
    },
    {
      "cell_type": "raw",
      "metadata": {
        "raw_mimetype": "text/html"
      },
      "source": [
        "</h1>"
      ],
      "id": "9312aab4-a769-4658-b9b7-7fa3495e694d"
    },
    {
      "cell_type": "markdown",
      "metadata": {},
      "source": [
        "<img src='Schmidt Fig 1.png' width=\"66%\" height=\"66%\">\n",
        "\n",
        "# Word2Vec\n",
        "\n",
        "This lesson is designed to explore features of word embeddings produced\n",
        "through the word2vec model. The questions we ask in this lesson are\n",
        "guided by Ben Schmidt’s blog post\n",
        "<a href = \"http://bookworm.benschmidt.org/posts/2015-10-30-rejecting-the-gender-binary.html\">Rejecting\n",
        "the Gender Binary</a>.\n",
        "\n",
        "The primary corpus we wil use consists of the\n",
        "<a href=\"http://txtlab.org/?p=601\">150 English-language novels</a> made\n",
        "available by the <em>.txtLab</em> at McGill University. We also look at\n",
        "a <a href=\"http://ryanheuser.org/word-vectors-1/\">Word2Vec model trained\n",
        "on the ECCO-TCP corpus</a> of 2,350 eighteenth-century literary texts\n",
        "made available by Ryan Heuser. (Note that the number of terms in the\n",
        "model has been shortened by half in order to conserve memory.)\n",
        "\n",
        "For further technical background on Word2Vec’s mechanics, I suggest this\n",
        "<a href=\"https://chromium.googlesource.com/external/github.com/tensorflow/tensorflow/+/refs/heads/0.6.0/tensorflow/g3doc/tutorials/word2vec/index.md\">brief\n",
        "tutorial</a> by Google, especially the sections “Motivation,” “Skip-Gram\n",
        "Model,” and “Visualizing.”\n",
        "\n",
        "### Tutorial Agenda"
      ],
      "id": "cad4a5e7-99e0-4e77-ab89-072bcd89b34a"
    },
    {
      "cell_type": "raw",
      "metadata": {
        "raw_mimetype": "text/html"
      },
      "source": [
        "<ul>"
      ],
      "id": "133454ee-133e-4a6b-9137-652787aec80e"
    },
    {
      "cell_type": "raw",
      "metadata": {
        "raw_mimetype": "text/html"
      },
      "source": [
        "<li>"
      ],
      "id": "3f59144f-7c87-46d8-a9c3-5ead711cf0d8"
    },
    {
      "cell_type": "markdown",
      "metadata": {},
      "source": [
        "Vector-Space Model of Language"
      ],
      "id": "5f2d24e4-9db2-4b3d-8893-df40e54c99c0"
    },
    {
      "cell_type": "raw",
      "metadata": {
        "raw_mimetype": "text/html"
      },
      "source": [
        "</li>"
      ],
      "id": "8bd2021f-a4f7-46a3-9248-01e65072e450"
    },
    {
      "cell_type": "raw",
      "metadata": {
        "raw_mimetype": "text/html"
      },
      "source": [
        "<li>"
      ],
      "id": "75a100a1-5c4d-40ca-b664-c5ade21bb525"
    },
    {
      "cell_type": "markdown",
      "metadata": {},
      "source": [
        "Import & Pre-Processing"
      ],
      "id": "41f6870b-1c9f-42ed-b3fe-3aa01a60492a"
    },
    {
      "cell_type": "raw",
      "metadata": {
        "raw_mimetype": "text/html"
      },
      "source": [
        "</li>"
      ],
      "id": "e83a5c89-3b2a-4c11-b190-07e4d3681081"
    },
    {
      "cell_type": "raw",
      "metadata": {
        "raw_mimetype": "text/html"
      },
      "source": [
        "<li>"
      ],
      "id": "19567c5a-90db-4fe0-a69b-e4f847c020cb"
    },
    {
      "cell_type": "markdown",
      "metadata": {},
      "source": [
        "Word2Vec"
      ],
      "id": "02467d63-d8ea-4d72-af0a-ff029cd1e32f"
    },
    {
      "cell_type": "raw",
      "metadata": {
        "raw_mimetype": "text/html"
      },
      "source": [
        "</li>"
      ],
      "id": "ff4bc794-8cc8-455c-9a70-b55a6a1f4595"
    },
    {
      "cell_type": "raw",
      "metadata": {
        "raw_mimetype": "text/html"
      },
      "source": [
        "<ul>"
      ],
      "id": "67ab9f53-1336-4b92-8e38-7ff430f9cc5d"
    },
    {
      "cell_type": "raw",
      "metadata": {
        "raw_mimetype": "text/html"
      },
      "source": [
        "<li>"
      ],
      "id": "2e78a58a-97b6-4b06-81fc-7d3701f2d9bf"
    },
    {
      "cell_type": "markdown",
      "metadata": {},
      "source": [
        "Training"
      ],
      "id": "e6d1da6f-72e1-4aa5-9575-f7c8a705868e"
    },
    {
      "cell_type": "raw",
      "metadata": {
        "raw_mimetype": "text/html"
      },
      "source": [
        "</li>"
      ],
      "id": "495709cc-4b9a-4248-8660-6e1e385d7df3"
    },
    {
      "cell_type": "raw",
      "metadata": {
        "raw_mimetype": "text/html"
      },
      "source": [
        "<li>"
      ],
      "id": "414b4ef0-6a2a-4381-b2e1-5733d21a6fdb"
    },
    {
      "cell_type": "markdown",
      "metadata": {},
      "source": [
        "Embeddings"
      ],
      "id": "f197c318-d688-4c3c-8fbb-72cd30890b2d"
    },
    {
      "cell_type": "raw",
      "metadata": {
        "raw_mimetype": "text/html"
      },
      "source": [
        "</li>"
      ],
      "id": "1efdc42e-425f-4897-a257-858556006084"
    },
    {
      "cell_type": "raw",
      "metadata": {
        "raw_mimetype": "text/html"
      },
      "source": [
        "<li>"
      ],
      "id": "277871f8-3a26-4f0c-bde9-3982b0a825ea"
    },
    {
      "cell_type": "markdown",
      "metadata": {},
      "source": [
        "Visualization"
      ],
      "id": "3b366b0e-6b8f-48fe-bac8-57cbc667a51a"
    },
    {
      "cell_type": "raw",
      "metadata": {
        "raw_mimetype": "text/html"
      },
      "source": [
        "</li>"
      ],
      "id": "daa68c87-ab51-46d1-897c-e82f3973c10a"
    },
    {
      "cell_type": "raw",
      "metadata": {
        "raw_mimetype": "text/html"
      },
      "source": [
        "</ul>"
      ],
      "id": "e8f5085e-3558-4eac-ad3e-e651be0e6fcd"
    },
    {
      "cell_type": "raw",
      "metadata": {
        "raw_mimetype": "text/html"
      },
      "source": [
        "<li>"
      ],
      "id": "ad2feaef-56a3-46cf-9671-d583f5aa18d2"
    },
    {
      "cell_type": "markdown",
      "metadata": {},
      "source": [
        "Saving/Loading Models"
      ],
      "id": "22b2d75b-ff0e-45e3-ac6b-1edf4eedd4de"
    },
    {
      "cell_type": "raw",
      "metadata": {
        "raw_mimetype": "text/html"
      },
      "source": [
        "</li>"
      ],
      "id": "b09e8e2d-4a8e-4b93-93bb-a0a18227c088"
    },
    {
      "cell_type": "raw",
      "metadata": {
        "raw_mimetype": "text/html"
      },
      "source": [
        "</ul>"
      ],
      "id": "1a910b33-b62a-42a7-95ee-667fe0ea7970"
    },
    {
      "cell_type": "raw",
      "metadata": {
        "raw_mimetype": "text/html"
      },
      "source": [
        "<li>"
      ],
      "id": "74eb845a-ac11-44e9-8d16-98cfee5de936"
    },
    {
      "cell_type": "markdown",
      "metadata": {},
      "source": [
        "Topic Models"
      ],
      "id": "4a0556f3-7b12-4332-9cfb-033acd5347c1"
    },
    {
      "cell_type": "raw",
      "metadata": {
        "raw_mimetype": "text/html"
      },
      "source": [
        "</li>"
      ],
      "id": "f8bea651-820d-40b3-928f-257e1b677029"
    },
    {
      "cell_type": "raw",
      "metadata": {
        "raw_mimetype": "text/html"
      },
      "source": [
        "</ul>"
      ],
      "id": "1b23a7c1-1a35-42e5-b4e9-319fe3ee5f9e"
    },
    {
      "cell_type": "markdown",
      "metadata": {},
      "source": [
        "# 0. Vector-Space Model of Language\n",
        "\n",
        "In the first day of this workshop, we explored the strange way that\n",
        "computers read text: by splitting it into tokens and tallying their\n",
        "frequencies. A novel or album review is reduced to a series of word\n",
        "counts. Since then, we have used simple arithmetic and statistics to\n",
        "identify patterns across those tallies. However, it is often useful to\n",
        "consider these patterns from another perspective: geometry.\n",
        "\n",
        "Each text can be described as a series of word counts. What if we\n",
        "treated those like coordinates in space?\n",
        "\n",
        "### Prep for visualization"
      ],
      "id": "45f725f4-83e8-4fe9-8e90-e999b48f5cd2"
    },
    {
      "cell_type": "code",
      "execution_count": 1,
      "metadata": {},
      "outputs": [],
      "source": [
        "%pylab inline\n",
        "matplotlib.style.use('ggplot')"
      ],
      "id": "b726474e"
    },
    {
      "cell_type": "markdown",
      "metadata": {},
      "source": [
        "### Create a DTM with a Few Pseudo-Texts"
      ],
      "id": "f59bccec-f714-4c29-903e-a544d69d9b1d"
    },
    {
      "cell_type": "code",
      "execution_count": 2,
      "metadata": {},
      "outputs": [],
      "source": [
        "# dataframes!\n",
        "import pandas\n",
        "\n",
        "# Construct dataframe\n",
        "columns = ['eggs','sausage','bacon']\n",
        "indices = ['Novel A', 'Novel B', 'Novel C']\n",
        "dtm = [[50,60,60],[90,10,10], [20,70,70]]\n",
        "dtm_df = pandas.DataFrame(dtm, columns = columns, index = indices)\n",
        "\n",
        "# Show dataframe\n",
        "dtm_df"
      ],
      "id": "4d877b81"
    },
    {
      "cell_type": "markdown",
      "metadata": {},
      "source": [
        "### Visualize"
      ],
      "id": "6e3f54a6-4aaa-4abf-a3fd-c79b1a0b5c3f"
    },
    {
      "cell_type": "code",
      "execution_count": 3,
      "metadata": {},
      "outputs": [],
      "source": [
        "# Plot our points\n",
        "scatter(dtm_df['eggs'], dtm_df['sausage'])\n",
        "\n",
        "# Make the graph look good\n",
        "xlim([0,100]), ylim([0,100])\n",
        "xlabel('eggs'), ylabel('sausage')"
      ],
      "id": "88c55708"
    },
    {
      "cell_type": "markdown",
      "metadata": {},
      "source": [
        "### Vectors\n",
        "\n",
        "At a glance, a couple of points are lying closer to one another. We used\n",
        "the word frequencies of just two words in order to plot our texts in a\n",
        "two-dimensional plane. The term frequency “summaries” of <i>Novel A</i>\n",
        "& <i>Novel C</i> are pretty similar to one another: they both share a\n",
        "major concern with “eggs”, whereas <i>Novel B</i> seems to focus\n",
        "primarily on “sausage.”\n",
        "\n",
        "This raises a question: how can we operationalize our intuition that\n",
        "spatial distance expresses topical similarity?\n",
        "\n",
        "<img src='Dot-Product.png' >\n",
        "\n",
        "The most common measurement of distance between points is their\n",
        "<a href=\"https://en.wikipedia.org/wiki/Cosine_similarity\">Cosine\n",
        "Similarity</a>. Imagine that we draw an arrow from the origin of the\n",
        "graph – point (0,0) – to the dot representing each text. This arrow is\n",
        "called a <i>vector</i>. The Cosine Similarity between two vectors\n",
        "measures how much they overlap with one another. Values for the cosine\n",
        "similarity between two vectors fall between 0 and 1, so they are easily\n",
        "interpreted and compared.\n",
        "\n",
        "### Cosine Distance"
      ],
      "id": "e2d5637a-c6aa-4900-8717-0ea9981a8772"
    },
    {
      "cell_type": "code",
      "execution_count": 4,
      "metadata": {},
      "outputs": [],
      "source": [
        "# Although we want the Cosine Distance, it is mathematically\n",
        "# simpler to calculate its opposite: Cosine Similarity\n",
        "\n",
        "from sklearn.metrics.pairwise import cosine_similarity"
      ],
      "id": "460e72e7"
    },
    {
      "cell_type": "code",
      "execution_count": 5,
      "metadata": {},
      "outputs": [],
      "source": [
        "# So we will subtract the similarities from 1\n",
        "\n",
        "cos_sim = cosine_similarity(dtm_df)"
      ],
      "id": "4d5626c9"
    },
    {
      "cell_type": "code",
      "execution_count": 6,
      "metadata": {},
      "outputs": [],
      "source": [
        "# And we'll make it a little easier to read\n",
        "\n",
        "np.round(cos_sim, 2)"
      ],
      "id": "579648af"
    },
    {
      "cell_type": "code",
      "execution_count": 7,
      "metadata": {},
      "outputs": [],
      "source": [
        "#Compare the distance between novels\n",
        "\n",
        "filelist = ['txtlab_Novel450_English/EN_1850_Hawthorne,Nathaniel_TheScarletLetter_Novel.txt',\n",
        "            'txtlab_Novel450_English/EN_1851_Hawthorne,Nathaniel_TheHouseoftheSevenGables_Novel.txt',\n",
        "            'txtlab_Novel450_English/EN_1920_Fitzgerald,FScott_ThisSideofParadise_Novel.txt',\n",
        "            'txtlab_Novel450_English/EN_1922_Fitzgerald,FScott_TheBeautifulandtheDamned_Novel.txt',\n",
        "            'txtlab_Novel450_English/EN_1811_Austen,Jane_SenseandSensibility_Novel.txt',\n",
        "            'txtlab_Novel450_English/EN_1813_Austen,Jane_PrideandPrejudice_Novel.txt']\n",
        "\n",
        "novel_names = ['Hawthorne: Scarlet Letter',\n",
        "           'Hawthorne: Seven Gables',\n",
        "           'Fitzgerald: This Side of Paradise',\n",
        "           'Fitzgerald: Beautiful and the Damned',\n",
        "           'Austen: Sense and Sensibility',\n",
        "           'Austen: Pride and Prejudice']\n",
        "\n",
        "text_list = []\n",
        "\n",
        "for file in filelist:\n",
        "    with open(file, 'r', encoding = 'utf-8') as myfile:\n",
        "        text_list.append(myfile.read())\n",
        "\n",
        "            \n",
        "\n",
        "#import the function CountVectorizer\n",
        "from sklearn.feature_extraction.text import CountVectorizer\n",
        "\n",
        "cv = CountVectorizer(stop_words = 'english', min_df = 3, binary=True)\n",
        "\n",
        "novel_dtm = cv.fit_transform(text_list).toarray()\n",
        "feature_list = cv.get_feature_names_out()\n",
        "dtm_df_novel = pandas.DataFrame(novel_dtm, columns = feature_list, index = novel_names)\n",
        "dtm_df_novel"
      ],
      "id": "b2dc01ca"
    },
    {
      "cell_type": "code",
      "execution_count": 8,
      "metadata": {},
      "outputs": [],
      "source": [
        "cos_sim_novel = cosine_similarity(dtm_df_novel)\n",
        "np.round(cos_sim_novel, 2)"
      ],
      "id": "a492dfea"
    },
    {
      "cell_type": "code",
      "execution_count": 9,
      "metadata": {},
      "outputs": [],
      "source": [
        "cos_df = pandas.DataFrame(cos_sim_novel, columns = novel_names, index = novel_names)\n",
        "cos_df"
      ],
      "id": "f7ff5b52"
    },
    {
      "cell_type": "code",
      "execution_count": 10,
      "metadata": {},
      "outputs": [],
      "source": [
        "#visualizing differences\n",
        "\n",
        "from sklearn.manifold import MDS\n",
        "\n",
        "# two components as we're plotting points in a two-dimensional plane\n",
        "# \"precomputed\" because we provide a distance matrix\n",
        "# we will also specify `random_state` so the plot is reproducible.\n",
        "\n",
        "#transform cosine similarity to cosine distance\n",
        "cos_dist = 1 - cosine_similarity(dtm_df_novel)\n",
        "\n",
        "mds = MDS(n_components=2, dissimilarity=\"precomputed\", random_state=1)\n",
        "\n",
        "pos = mds.fit_transform(cos_dist)  # shape (n_components, n_samples)\n",
        "xs, ys = pos[:, 0], pos[:, 1]\n",
        "\n",
        "for x, y, name in zip(xs, ys, novel_names):\n",
        "    plt.scatter(x, y)\n",
        "    plt.text(x, y, name)\n",
        "\n",
        "plt.show()"
      ],
      "id": "3b54a3ab"
    },
    {
      "cell_type": "markdown",
      "metadata": {},
      "source": [
        "The above method has a broad range of applications, such as unsupervised\n",
        "clustering. Common techniques include\n",
        "<a href = \"https://en.wikipedia.org/wiki/K-means_clustering\">K-Means\n",
        "Clustering</a> and\n",
        "<a href=\"https://en.wikipedia.org/wiki/Hierarchical_clustering\">Heirchical\n",
        "Dendrograms</a>. These attempt to identify groups of texts with shared\n",
        "content, based on these kinds of distance measures.\n",
        "\n",
        "Here’s an example of a dendrogram based on these six novels:"
      ],
      "id": "d0be8ae6-b595-4f27-97a4-414b45b40d3f"
    },
    {
      "cell_type": "code",
      "execution_count": 11,
      "metadata": {},
      "outputs": [],
      "source": [
        "from scipy.cluster.hierarchy import ward, dendrogram\n",
        "linkage_matrix = ward(cos_dist)\n",
        "\n",
        "dendrogram(linkage_matrix, orientation=\"right\", labels=novel_names)\n",
        "\n",
        "plt.tight_layout()  # fixes margins\n",
        "\n",
        "plt.show()"
      ],
      "id": "ea23aa11"
    },
    {
      "cell_type": "markdown",
      "metadata": {},
      "source": [
        "### Vector Semantics\n",
        "\n",
        "We can also turn this logic on its head. Rather than produce vectors\n",
        "representing texts based on their words, we will produce vectors for the\n",
        "words based on their contexts."
      ],
      "id": "4d900650-cbcf-439e-82e2-44af0399b907"
    },
    {
      "cell_type": "code",
      "execution_count": 12,
      "metadata": {},
      "outputs": [],
      "source": [
        "# Turn our DTM sideways\n",
        "\n",
        "dtm_df_novel.T.head()"
      ],
      "id": "21a28034"
    },
    {
      "cell_type": "code",
      "execution_count": 13,
      "metadata": {},
      "outputs": [],
      "source": [
        "# Find the Cosine Distances between pairs of word-vectors\n",
        "\n",
        "cos_sim_words = cosine_similarity(dtm_df_novel.T)"
      ],
      "id": "57bea44b"
    },
    {
      "cell_type": "code",
      "execution_count": 14,
      "metadata": {},
      "outputs": [],
      "source": [
        "# In readable format\n",
        "\n",
        "np.round(cos_sim_words, 2)"
      ],
      "id": "c1ebac80"
    },
    {
      "cell_type": "markdown",
      "metadata": {},
      "source": [
        "Theoretically you could visualize and cluster these as well - but this\n",
        "takes a lot of computational power!\n",
        "\n",
        "We’ll thus turn to the machine learning version: word embeddings\n",
        "\n",
        "### Word2Vec\n",
        "\n",
        "This last cell indicates that “sausage” and “bacon” perfectly align with\n",
        "one another across texts. If we saw this in a real-world example, we\n",
        "might interpret it to mean that the words share some kind of semantic or\n",
        "thematic relationship. In fact, this method is precisely one that\n",
        "humanists have used in order to find interesting linguistic patterns.\n",
        "(See Ted Underwood’s blog post,\n",
        "<a href = \"https://tedunderwood.com/2011/10/16/lsa-is-a-marvellous-tool-but-humanists-may-no-use-it-the-way-computer-scientists-do/\">LSA\n",
        "is a marvellous tool, but…</a>.)\n",
        "\n",
        "Recently, however, a more sophisticated technique for finding semantic\n",
        "relationships between words has enjoyed great popularity: Word2Vec\n",
        "\n",
        "Word2Vec draws from the logic of the concordance that we saw on the\n",
        "first day of the workshop. In the example above, a word (row) is\n",
        "described by its frequency within an entire novel (column). The word2vec\n",
        "algorithm tries to describe a given word in terms of the ones that\n",
        "appear immediately to the right and left in actual sentences. More\n",
        "precisely it learns how to <i>predict</i> the context words.\n",
        "\n",
        "<img src = \"Skip-gram diagram.png\">\n",
        "\n",
        "Without going too deeply into the algorithm, suffice it to say that it\n",
        "involves a two-step process. First, the input word gets compressed into\n",
        "a dense vector. Second, the vector gets decoded into the set of context\n",
        "words. Keywords that appear within similar contexts will have similar\n",
        "vector representations in between steps. This vector is referred to as a\n",
        "<i>word embedding</i>.\n",
        "\n",
        "Since the word embedding is a vector, we can perform tests like cosine\n",
        "similarity and other kinds of operations. Those operations can reveal\n",
        "many different kinds of relationships between words, as we shall see.\n",
        "\n",
        "<img src = \"w2v-Analogies.png\">\n",
        "\n",
        "# 1. Import & Pre-Processing\n",
        "\n",
        "### Import Packages"
      ],
      "id": "43fc0042-7f65-4e50-bfe8-3a4c2f55a33d"
    },
    {
      "cell_type": "code",
      "execution_count": 15,
      "metadata": {},
      "outputs": [],
      "source": [
        "# Data Wrangling\n",
        "\n",
        "import os\n",
        "import numpy as np\n",
        "import pandas\n",
        "from scipy.spatial.distance import cosine\n",
        "from sklearn.metrics import pairwise\n",
        "from sklearn.manifold import MDS, TSNE"
      ],
      "id": "741ac5e9"
    },
    {
      "cell_type": "code",
      "execution_count": 16,
      "metadata": {},
      "outputs": [],
      "source": [
        "# Natural Language Processing\n",
        "\n",
        "\n",
        "import nltk\n",
        "nltk.download('punkt')\n",
        "from nltk.tokenize import word_tokenize, sent_tokenize"
      ],
      "id": "9c01815c"
    },
    {
      "cell_type": "code",
      "execution_count": 17,
      "metadata": {},
      "outputs": [],
      "source": [
        "# New libarary (not in Anaconda: gensim)\n",
        "import gensim"
      ],
      "id": "e5983c14"
    },
    {
      "cell_type": "code",
      "execution_count": 18,
      "metadata": {},
      "outputs": [],
      "source": [
        "# Custom Tokenizer for Classroom Use\n",
        "\n",
        "def fast_tokenize(text):\n",
        "    \n",
        "    # Get a list of punctuation marks\n",
        "    from string import punctuation\n",
        "    \n",
        "    lower_case = text.lower()\n",
        "    \n",
        "    # Iterate through text removing punctuation characters\n",
        "    no_punct = \"\".join([char for char in lower_case if char not in punctuation])\n",
        "    \n",
        "    # Split text over whitespace into list of words\n",
        "    tokens = no_punct.split()\n",
        "    \n",
        "    return tokens"
      ],
      "id": "02ce33bb"
    },
    {
      "cell_type": "markdown",
      "metadata": {},
      "source": [
        "### Corpus Description\n",
        "\n",
        "English-language subset of Andrew Piper’s novel corpus, totaling 150\n",
        "novels by British and American authors spanning the years 1771-1930.\n",
        "These texts reside on disk, each in a separate plaintext file. Metadata\n",
        "is contained in a spreadsheet distributed with the novel files.\n",
        "\n",
        "### Metadata Columns"
      ],
      "id": "508ec4f8-cd51-49ae-a961-81d540d156fd"
    },
    {
      "cell_type": "raw",
      "metadata": {
        "raw_mimetype": "text/html"
      },
      "source": [
        "<ol>"
      ],
      "id": "96c361b7-ac00-401c-87df-843cbe31f762"
    },
    {
      "cell_type": "raw",
      "metadata": {
        "raw_mimetype": "text/html"
      },
      "source": [
        "<li>"
      ],
      "id": "7387a283-0f4c-4f72-87bb-82fc9f288800"
    },
    {
      "cell_type": "markdown",
      "metadata": {},
      "source": [
        "Filename: Name of file on disk"
      ],
      "id": "a773b7a9-12b4-46c2-b066-0e8fcfcd437c"
    },
    {
      "cell_type": "raw",
      "metadata": {
        "raw_mimetype": "text/html"
      },
      "source": [
        "</li>"
      ],
      "id": "af46b382-ba1b-4b51-8852-f4f57ea066e1"
    },
    {
      "cell_type": "raw",
      "metadata": {
        "raw_mimetype": "text/html"
      },
      "source": [
        "<li>"
      ],
      "id": "69dfba25-ed68-4587-b992-8a1fc83add04"
    },
    {
      "cell_type": "markdown",
      "metadata": {},
      "source": [
        "ID: Unique ID in Piper corpus"
      ],
      "id": "2258e2b0-8009-40ad-b621-69a027bcf65f"
    },
    {
      "cell_type": "raw",
      "metadata": {
        "raw_mimetype": "text/html"
      },
      "source": [
        "</li>"
      ],
      "id": "8d71f035-7472-4f90-8b23-31f3232e8818"
    },
    {
      "cell_type": "raw",
      "metadata": {
        "raw_mimetype": "text/html"
      },
      "source": [
        "<li>"
      ],
      "id": "9dd1cb5a-a9e5-4917-a9ca-4fa7d7e715fa"
    },
    {
      "cell_type": "markdown",
      "metadata": {},
      "source": [
        "Language: Language of novel"
      ],
      "id": "05e130d0-0580-4f95-bae9-dd7e967c0c14"
    },
    {
      "cell_type": "raw",
      "metadata": {
        "raw_mimetype": "text/html"
      },
      "source": [
        "</li>"
      ],
      "id": "74c22756-f8c5-4a76-8623-455f316b630a"
    },
    {
      "cell_type": "raw",
      "metadata": {
        "raw_mimetype": "text/html"
      },
      "source": [
        "<li>"
      ],
      "id": "8ef02514-d466-4de6-88f1-e0900d990f8b"
    },
    {
      "cell_type": "markdown",
      "metadata": {},
      "source": [
        "Date: Initial publication date"
      ],
      "id": "daad4616-dd86-4a11-bce6-2265864433d9"
    },
    {
      "cell_type": "raw",
      "metadata": {
        "raw_mimetype": "text/html"
      },
      "source": [
        "</li>"
      ],
      "id": "bf6ab7cd-12e2-46c3-a0b4-17ef99c7825c"
    },
    {
      "cell_type": "raw",
      "metadata": {
        "raw_mimetype": "text/html"
      },
      "source": [
        "<li>"
      ],
      "id": "f55b5658-ec71-4e96-8f10-d1447c0b8913"
    },
    {
      "cell_type": "markdown",
      "metadata": {},
      "source": [
        "Title: Title of novel"
      ],
      "id": "babba3e3-bec2-49df-9175-9438061c4aa1"
    },
    {
      "cell_type": "raw",
      "metadata": {
        "raw_mimetype": "text/html"
      },
      "source": [
        "</li>"
      ],
      "id": "03ac8c97-77a5-4061-8e03-79c59249634d"
    },
    {
      "cell_type": "raw",
      "metadata": {
        "raw_mimetype": "text/html"
      },
      "source": [
        "<li>"
      ],
      "id": "1fcfab35-f38c-4217-b9aa-1a3bed23a7af"
    },
    {
      "cell_type": "markdown",
      "metadata": {},
      "source": [
        "Gender: Authorial gender"
      ],
      "id": "f9fcd253-5a18-48b9-a49c-08c3aefdfb41"
    },
    {
      "cell_type": "raw",
      "metadata": {
        "raw_mimetype": "text/html"
      },
      "source": [
        "</li>"
      ],
      "id": "b6303e4b-fa81-4ac3-8547-5976b322b9e5"
    },
    {
      "cell_type": "raw",
      "metadata": {
        "raw_mimetype": "text/html"
      },
      "source": [
        "<li>"
      ],
      "id": "61d8dbc9-aff8-4300-9f59-e4586d7ce276"
    },
    {
      "cell_type": "markdown",
      "metadata": {},
      "source": [
        "Person: Textual perspective"
      ],
      "id": "783704eb-28df-4cc0-b66b-f89e0e44e63b"
    },
    {
      "cell_type": "raw",
      "metadata": {
        "raw_mimetype": "text/html"
      },
      "source": [
        "</li>"
      ],
      "id": "4530a614-4ca4-498c-a1fc-065087917b6f"
    },
    {
      "cell_type": "raw",
      "metadata": {
        "raw_mimetype": "text/html"
      },
      "source": [
        "<li>"
      ],
      "id": "6a5ab123-5056-49b7-988e-457147d88dec"
    },
    {
      "cell_type": "markdown",
      "metadata": {},
      "source": [
        "Length: Number of tokens in novel"
      ],
      "id": "6d4a431e-eb8d-4271-b0fa-cc0e9cb1cbdb"
    },
    {
      "cell_type": "raw",
      "metadata": {
        "raw_mimetype": "text/html"
      },
      "source": [
        "</li>"
      ],
      "id": "923dba59-7084-4201-94f9-4a0ce298c100"
    },
    {
      "cell_type": "raw",
      "metadata": {
        "raw_mimetype": "text/html"
      },
      "source": [
        "</ol>"
      ],
      "id": "94a683d1-403c-443c-897e-9378007b5a5b"
    },
    {
      "cell_type": "markdown",
      "metadata": {},
      "source": [
        "## Import Metadata"
      ],
      "id": "6d29242b-a37f-4d4d-800e-ff2257a5ab3b"
    },
    {
      "cell_type": "code",
      "execution_count": 19,
      "metadata": {},
      "outputs": [],
      "source": [
        "# Import Metadata into Pandas Dataframe\n",
        "\n",
        "meta_df = pandas.read_csv('resources/txtlab_Novel450_English.csv', encoding = 'utf-8')"
      ],
      "id": "9711f929"
    },
    {
      "cell_type": "code",
      "execution_count": 20,
      "metadata": {},
      "outputs": [],
      "source": [
        "# Check Metadata\n",
        "\n",
        "meta_df.head()"
      ],
      "id": "28666db0"
    },
    {
      "cell_type": "markdown",
      "metadata": {},
      "source": [
        "## Import Corpus"
      ],
      "id": "5b4c0f9b-529c-43f6-9b68-fa826ffbe43e"
    },
    {
      "cell_type": "code",
      "execution_count": 21,
      "metadata": {},
      "outputs": [],
      "source": [
        "# Set location of corpus folder\n",
        "\n",
        "fiction_folder = 'txtlab_Novel450_English/'"
      ],
      "id": "88b41c88"
    },
    {
      "cell_type": "code",
      "execution_count": 22,
      "metadata": {},
      "outputs": [],
      "source": [
        "# Collect the text of each file in the 'fiction_folder' on the hard drive\n",
        "\n",
        "# Create empty list, each entry will be the string for a given novel\n",
        "novel_list = []\n",
        "\n",
        "# Iterate through filenames in 'fiction_folder'\n",
        "for filename in os.listdir(fiction_folder):\n",
        "    \n",
        "    # Read novel text as single string\n",
        "    with open(fiction_folder + filename, 'r', encoding = 'utf-8') as file_in:\n",
        "        this_novel = file_in.read()\n",
        "    \n",
        "    # Add novel text as single string to master list\n",
        "    novel_list.append(this_novel)"
      ],
      "id": "a606f804"
    },
    {
      "cell_type": "code",
      "execution_count": 23,
      "metadata": {},
      "outputs": [],
      "source": [
        "# Inspect first item in novel_list\n",
        "\n",
        "novel_list[0][:500]"
      ],
      "id": "082595c0"
    },
    {
      "cell_type": "markdown",
      "metadata": {},
      "source": [
        "## Pre-Processing\n",
        "\n",
        "Word2Vec learns about the relationships among words by observing them in\n",
        "context. This means that we want to split our texts into word-units.\n",
        "However, we want to maintain sentence boundaries as well, since the last\n",
        "word of the previous sentence might skew the meaning of the next\n",
        "sentence.\n",
        "\n",
        "Since novels were imported as single strings, we’ll first use\n",
        "<i>sent_tokenize</i> to divide them into sentences, and second, we’ll\n",
        "split each sentence into its own list of words."
      ],
      "id": "9430dc66-492d-4924-9bc7-3a564d6478ff"
    },
    {
      "cell_type": "code",
      "execution_count": 24,
      "metadata": {},
      "outputs": [],
      "source": [
        "# Split each novel into sentences\n",
        "\n",
        "sentences = [sentence for novel in novel_list for sentence in sent_tokenize(novel)]"
      ],
      "id": "aee0379f"
    },
    {
      "cell_type": "code",
      "execution_count": 25,
      "metadata": {},
      "outputs": [],
      "source": [
        "# Inspect first sentence\n",
        "\n",
        "sentences[0]"
      ],
      "id": "70777fd1"
    },
    {
      "cell_type": "code",
      "execution_count": 26,
      "metadata": {},
      "outputs": [],
      "source": [
        "# Split each sentence into tokens\n",
        "\n",
        "words_by_sentence = [fast_tokenize(sentence) for sentence in sentences]"
      ],
      "id": "48bfc1fc"
    },
    {
      "cell_type": "code",
      "execution_count": 27,
      "metadata": {},
      "outputs": [],
      "source": [
        "# Remove any sentences that contain zero tokens\n",
        "\n",
        "words_by_sentence = [sentence for sentence in words_by_sentence if sentence != []]"
      ],
      "id": "796330c8"
    },
    {
      "cell_type": "code",
      "execution_count": 28,
      "metadata": {},
      "outputs": [],
      "source": [
        "# Inspect first sentence\n",
        "\n",
        "words_by_sentence[0]"
      ],
      "id": "fc3595f1"
    },
    {
      "cell_type": "markdown",
      "metadata": {},
      "source": [
        "# 2. Word2Vec\n",
        "\n",
        "### Word Embedding\n",
        "\n",
        "Word2Vec is the most prominent word embedding algorithm. Word embedding\n",
        "generally attempts to identify semantic relationships between words by\n",
        "observing them in context.\n",
        "\n",
        "Imagine that each word in a novel has its meaning determined by the ones\n",
        "that surround it in a limited window. For example, in Moby Dick’s first\n",
        "sentence, “me” is paired on either side by “Call” and “Ishmael.” After\n",
        "observing the windows around every word in the novel (or many novels),\n",
        "the computer will notice a pattern in which “me” falls between similar\n",
        "pairs of words to “her,” “him,” or “them.” Of course, the computer had\n",
        "gone through a similar process over the words “Call” and “Ishmael,” for\n",
        "which “me” is reciprocally part of their contexts. This chaining of\n",
        "signifiers to one another mirrors some of humanists’ most sophisticated\n",
        "interpretative frameworks of language.\n",
        "\n",
        "The two main flavors of Word2Vec are CBOW (Continuous Bag of Words) and\n",
        "Skip-Gram, which can be distinguished partly by their input and output\n",
        "during training. Skip-Gram takes a word of interest as its input\n",
        "(e.g. “me”) and tries to learn how to predict its context words\n",
        "(“Call”,“Ishmael”). CBOW does the opposite, taking the context words\n",
        "(“Call”,“Ishmael”) as a single input and tries to predict the word of\n",
        "interest (“me”).\n",
        "\n",
        "In general, CBOW is is faster and does well with frequent words, while\n",
        "Skip-Gram potentially represents rare words better.\n",
        "\n",
        "### Word2Vec Features"
      ],
      "id": "c181befa-2294-46e2-9ca8-a6861d5c07fb"
    },
    {
      "cell_type": "raw",
      "metadata": {
        "raw_mimetype": "text/html"
      },
      "source": [
        "<ul>"
      ],
      "id": "bac7b81a-acf6-47d2-95db-97017111dfb1"
    },
    {
      "cell_type": "raw",
      "metadata": {
        "raw_mimetype": "text/html"
      },
      "source": [
        "<li>"
      ],
      "id": "a795928d-0edf-49da-8e03-90029d462c07"
    },
    {
      "cell_type": "markdown",
      "metadata": {},
      "source": [
        "Size: Number of dimensions for word embedding model"
      ],
      "id": "ad55ece4-b427-4bd6-9976-30cc0caf9dbc"
    },
    {
      "cell_type": "raw",
      "metadata": {
        "raw_mimetype": "text/html"
      },
      "source": [
        "</li>"
      ],
      "id": "0f702509-1d96-4759-af89-5b27be659d23"
    },
    {
      "cell_type": "raw",
      "metadata": {
        "raw_mimetype": "text/html"
      },
      "source": [
        "<li>"
      ],
      "id": "f3423ca8-a41c-4d18-9bc6-3a1620665b75"
    },
    {
      "cell_type": "markdown",
      "metadata": {},
      "source": [
        "Window: Number of context words to observe in each direction"
      ],
      "id": "309b4ed8-ad32-4705-918d-f8f13cdb95df"
    },
    {
      "cell_type": "raw",
      "metadata": {
        "raw_mimetype": "text/html"
      },
      "source": [
        "</li>"
      ],
      "id": "e20ff5ca-b1e6-4a38-b217-093e1253912e"
    },
    {
      "cell_type": "raw",
      "metadata": {
        "raw_mimetype": "text/html"
      },
      "source": [
        "<li>"
      ],
      "id": "51bf66d9-57a4-48ca-bf75-337086553e47"
    },
    {
      "cell_type": "markdown",
      "metadata": {},
      "source": [
        "min_count: Minimum frequency for words included in model"
      ],
      "id": "87cefc91-a258-4479-a868-6071e67edebb"
    },
    {
      "cell_type": "raw",
      "metadata": {
        "raw_mimetype": "text/html"
      },
      "source": [
        "</li>"
      ],
      "id": "212c3105-1c61-47e7-bc51-8bcd4cac9b76"
    },
    {
      "cell_type": "raw",
      "metadata": {
        "raw_mimetype": "text/html"
      },
      "source": [
        "<li>"
      ],
      "id": "25c1091c-1b7c-4e7f-bb6f-d69d2f388cd9"
    },
    {
      "cell_type": "markdown",
      "metadata": {},
      "source": [
        "sg (Skip-Gram): ‘0’ indicates CBOW model; ‘1’ indicates Skip-Gram"
      ],
      "id": "29cb3bbd-7d0f-42b3-9e6b-f2bbb5ef0945"
    },
    {
      "cell_type": "raw",
      "metadata": {
        "raw_mimetype": "text/html"
      },
      "source": [
        "</li>"
      ],
      "id": "11fc4cec-9c18-4816-82cb-714592f1a167"
    },
    {
      "cell_type": "raw",
      "metadata": {
        "raw_mimetype": "text/html"
      },
      "source": [
        "<li>"
      ],
      "id": "295cec67-8f95-4614-9f14-b2b7c52c40e8"
    },
    {
      "cell_type": "markdown",
      "metadata": {},
      "source": [
        "Alpha: Learning rate (initial); prevents model from over-correcting,\n",
        "enables finer tuning"
      ],
      "id": "e6034236-8505-4cc7-beda-72f6f032ec5c"
    },
    {
      "cell_type": "raw",
      "metadata": {
        "raw_mimetype": "text/html"
      },
      "source": [
        "</li>"
      ],
      "id": "14cc7993-3266-47e6-acad-886d81f11a3d"
    },
    {
      "cell_type": "raw",
      "metadata": {
        "raw_mimetype": "text/html"
      },
      "source": [
        "<li>"
      ],
      "id": "619fc76c-dcd8-414b-ab68-174f10c51a3a"
    },
    {
      "cell_type": "markdown",
      "metadata": {},
      "source": [
        "Iterations: Number of passes through dataset"
      ],
      "id": "43aa9b5e-a9ef-4548-bede-9cdd0d0df4da"
    },
    {
      "cell_type": "raw",
      "metadata": {
        "raw_mimetype": "text/html"
      },
      "source": [
        "</li>"
      ],
      "id": "29b51dc6-7268-49e7-8240-6aefa48b7fed"
    },
    {
      "cell_type": "raw",
      "metadata": {
        "raw_mimetype": "text/html"
      },
      "source": [
        "<li>"
      ],
      "id": "89fc5fed-5c98-446d-a1e8-1623c41add50"
    },
    {
      "cell_type": "markdown",
      "metadata": {},
      "source": [
        "Batch Size: Number of words to sample from data during each pass"
      ],
      "id": "a27f82b6-60fd-41ae-881d-aecbb6266d15"
    },
    {
      "cell_type": "raw",
      "metadata": {
        "raw_mimetype": "text/html"
      },
      "source": [
        "</li>"
      ],
      "id": "c0e29f35-c114-4d14-b46e-4a0d5e2da9a4"
    },
    {
      "cell_type": "raw",
      "metadata": {
        "raw_mimetype": "text/html"
      },
      "source": [
        "</ul>"
      ],
      "id": "e48f2125-9ebe-4888-aba3-166e584bec9b"
    },
    {
      "cell_type": "markdown",
      "metadata": {},
      "source": [
        "Note: Script uses default value for each argument\n",
        "\n",
        "## Training"
      ],
      "id": "2ba3cb94-0877-4872-96d9-353555eae89c"
    },
    {
      "cell_type": "code",
      "execution_count": 29,
      "metadata": {},
      "outputs": [],
      "source": [
        "# Train word2vec model from txtLab corpus\n",
        "\n",
        "model = gensim.models.Word2Vec(words_by_sentence, vector_size=100, window=5, \\\n",
        "                               min_count=25, sg=1, alpha=0.025, epochs=5, batch_words=10000)"
      ],
      "id": "ecd4a564"
    },
    {
      "cell_type": "markdown",
      "metadata": {},
      "source": [
        "## Embeddings"
      ],
      "id": "79afaf72-bde8-440b-af55-f82d17f90692"
    },
    {
      "cell_type": "code",
      "execution_count": 30,
      "metadata": {},
      "outputs": [],
      "source": [
        "# Return dense word vector\n",
        "\n",
        "model.wv.get_vector('whale')"
      ],
      "id": "4573d005"
    },
    {
      "cell_type": "markdown",
      "metadata": {},
      "source": [
        "## Vector-Space Operations\n",
        "\n",
        "### Similarity\n",
        "\n",
        "Since words are represented as dense vectors, we can ask how similiar\n",
        "words’ meanings are based on their cosine similarity (essentially how\n",
        "much they overlap). <em>gensim</em> has a few out-of-the-box functions\n",
        "that enable different kinds of comparisons."
      ],
      "id": "60acc438-0fa2-4b8c-9205-db7362e5affb"
    },
    {
      "cell_type": "code",
      "execution_count": 31,
      "metadata": {},
      "outputs": [],
      "source": [
        "# Find cosine distance between two given word vectors\n",
        "\n",
        "model.wv.similarity('pride','prejudice')"
      ],
      "id": "5e2c6658"
    },
    {
      "cell_type": "code",
      "execution_count": 32,
      "metadata": {},
      "outputs": [],
      "source": [
        "# Find nearest word vectors by cosine distance\n",
        "\n",
        "model.wv.most_similar('pride')"
      ],
      "id": "a4a25062"
    },
    {
      "cell_type": "code",
      "execution_count": 33,
      "metadata": {},
      "outputs": [],
      "source": [
        "# Given a list of words, we can ask which doesn't belong\n",
        "\n",
        "# Finds mean vector of words in list\n",
        "# and identifies the word further from that mean\n",
        "\n",
        "model.wv.doesnt_match(['pride','prejudice', 'whale'])"
      ],
      "id": "3d62d6df"
    },
    {
      "cell_type": "markdown",
      "metadata": {},
      "source": [
        "### Multiple Valences\n",
        "\n",
        "A word embedding may encode both primary and secondary meanings that are\n",
        "both present at the same time. In order to identify secondary meanings\n",
        "in a word, we can subtract the vectors of primary (or simply unwanted)\n",
        "meanings. For example, we may wish to remove the sense of <em>river\n",
        "bank</em> from the word <em>bank</em>. This would be written\n",
        "mathetmatically as <em>RIVER - BANK</em>, which in <em>gensim</em>’s\n",
        "interface lists <em>RIVER</em> as a positive meaning and <em>BANK</em>\n",
        "as a negative one."
      ],
      "id": "818ee120-376f-45ef-9fcd-1dbc45dedc2d"
    },
    {
      "cell_type": "code",
      "execution_count": 34,
      "metadata": {},
      "outputs": [],
      "source": [
        "# Get most similar words to BANK, in order\n",
        "# to get a sense for its primary meaning\n",
        "\n",
        "model.wv.most_similar('bank')"
      ],
      "id": "938d558f"
    },
    {
      "cell_type": "code",
      "execution_count": 35,
      "metadata": {},
      "outputs": [],
      "source": [
        "# Remove the sense of \"river bank\" from \"bank\" and see what is left\n",
        "\n",
        "model.wv.most_similar(positive=['bank'], negative=['river'])"
      ],
      "id": "86d44146"
    },
    {
      "cell_type": "markdown",
      "metadata": {},
      "source": [
        "### Analogy\n",
        "\n",
        "Analogies are rendered as simple mathematical operations in vector\n",
        "space. For example, the canonic word2vec analogy <em>MAN is to KING as\n",
        "WOMAN is to ??</em> is rendered as <em>KING - MAN + WOMAN</em>. In the\n",
        "gensim interface, we designate <em>KING</em> and <em>WOMAN</em> as\n",
        "positive terms and <em>MAN</em> as a negative term, since it is\n",
        "subtracted from those."
      ],
      "id": "b87f700e-1daf-4b0d-a18c-3751e5602a17"
    },
    {
      "cell_type": "code",
      "execution_count": 36,
      "metadata": {},
      "outputs": [],
      "source": [
        "# Get most similar words to KING, in order\n",
        "# to get a sense for its primary meaning\n",
        "\n",
        "model.wv.most_similar('king')"
      ],
      "id": "09595bb9"
    },
    {
      "cell_type": "code",
      "execution_count": 37,
      "metadata": {},
      "outputs": [],
      "source": [
        "# The canonic word2vec analogy: King - Man + Woman -> Queen\n",
        "\n",
        "model.wv.most_similar(positive=['woman', 'king'], negative=['man'])"
      ],
      "id": "85ce1df2"
    },
    {
      "cell_type": "markdown",
      "metadata": {},
      "source": [
        "### Gendered Vectors\n",
        "\n",
        "Can we find gender a la Schmidt (2015)? (Note that this method uses\n",
        "vector projection, whereas Schmidt had used rejection.)"
      ],
      "id": "2568c313-cbe3-46a2-a7a3-20623d96bb1f"
    },
    {
      "cell_type": "code",
      "execution_count": 38,
      "metadata": {},
      "outputs": [],
      "source": [
        "# Feminine Vector\n",
        "\n",
        "model.wv.most_similar(positive=['she','her','hers','herself'], negative=['he','him','his','himself'])"
      ],
      "id": "b2f79ba1"
    },
    {
      "cell_type": "code",
      "execution_count": 39,
      "metadata": {},
      "outputs": [],
      "source": [
        "# Masculine Vector\n",
        "\n",
        "model.wv.most_similar(positive=['he','him','his','himself'], negative=['she','her','hers','herself'])"
      ],
      "id": "b68fc387"
    },
    {
      "cell_type": "markdown",
      "metadata": {},
      "source": [
        "## Visualization"
      ],
      "id": "c60cf48a-9df2-4cfc-b9fc-4ed0f7543275"
    },
    {
      "cell_type": "code",
      "execution_count": 40,
      "metadata": {},
      "outputs": [],
      "source": [
        "# Dictionary of words in model\n",
        "\n",
        "model.wv.key_to_index"
      ],
      "id": "34d54011"
    },
    {
      "cell_type": "code",
      "execution_count": 41,
      "metadata": {},
      "outputs": [],
      "source": [
        "# Visualizing the whole vocabulary would make it hard to read\n",
        "\n",
        "len(model.wv.key_to_index)"
      ],
      "id": "3f77e98d"
    },
    {
      "cell_type": "code",
      "execution_count": 42,
      "metadata": {},
      "outputs": [],
      "source": [
        "# For interpretability, we'll select words that already have a semantic relation\n",
        "\n",
        "her_tokens = [token for token,weight in model.wv.most_similar(positive=['she','her','hers','herself'], \\\n",
        "                                                       negative=['he','him','his','himself'], topn=50)]"
      ],
      "id": "912c8842"
    },
    {
      "cell_type": "code",
      "execution_count": 43,
      "metadata": {},
      "outputs": [],
      "source": [
        "# Inspect list\n",
        "\n",
        "her_tokens[:15]"
      ],
      "id": "b4ef2880"
    },
    {
      "cell_type": "code",
      "execution_count": 44,
      "metadata": {},
      "outputs": [],
      "source": [
        "# Get the vector for each sampled word\n",
        "\n",
        "vectors = [model.wv.get_vector(word) for word in her_tokens]  "
      ],
      "id": "c586987b"
    },
    {
      "cell_type": "code",
      "execution_count": 45,
      "metadata": {},
      "outputs": [],
      "source": [
        "# Calculate distances among texts in vector space\n",
        "\n",
        "dist_matrix = pairwise.pairwise_distances(vectors, metric='cosine')"
      ],
      "id": "f5208444"
    },
    {
      "cell_type": "code",
      "execution_count": 46,
      "metadata": {},
      "outputs": [],
      "source": [
        "# Multi-Dimensional Scaling (Project vectors into 2-D)\n",
        "\n",
        "mds = MDS(n_components = 2, dissimilarity='precomputed')\n",
        "embeddings = mds.fit_transform(dist_matrix)"
      ],
      "id": "0c6f1193"
    },
    {
      "cell_type": "code",
      "execution_count": 47,
      "metadata": {},
      "outputs": [],
      "source": [
        "# Make a pretty graph\n",
        "\n",
        "_, ax = plt.subplots(figsize=(10,10))\n",
        "ax.scatter(embeddings[:,0], embeddings[:,1], alpha=0)\n",
        "for i in range(len(vectors)):\n",
        "    ax.annotate(her_tokens[i], ((embeddings[i,0], embeddings[i,1])))"
      ],
      "id": "93c8fac9"
    },
    {
      "cell_type": "code",
      "execution_count": 48,
      "metadata": {},
      "outputs": [],
      "source": [
        "# For comparison, here is the same graph using a masculine-pronoun vector\n",
        "\n",
        "his_tokens = [token for token,weight in model.wv.most_similar(positive=['he','him','his','himself'], \\\n",
        "                                                       negative=['she','her','hers','herself'], topn=50)]\n",
        "vectors = [model.wv.get_vector(word) for word in his_tokens]\n",
        "dist_matrix = pairwise.pairwise_distances(vectors, metric='cosine')\n",
        "mds = MDS(n_components = 2, dissimilarity='precomputed')\n",
        "embeddings = mds.fit_transform(dist_matrix)\n",
        "_, ax = plt.subplots(figsize=(10,10))\n",
        "ax.scatter(embeddings[:,0], embeddings[:,1], alpha=0)\n",
        "for i in range(len(vectors)):\n",
        "    ax.annotate(his_tokens[i], ((embeddings[i,0], embeddings[i,1])))"
      ],
      "id": "bd3d7b85"
    },
    {
      "cell_type": "markdown",
      "metadata": {},
      "source": [
        "Q. What kinds of semantic relationships exist in the diagram above?\n",
        "\n",
        "Are there any words that seem out of place?\n",
        "\n",
        "# 3. Saving/Loading Models"
      ],
      "id": "48b4dbe5-43ac-4d75-87a5-0b9b27212dcb"
    },
    {
      "cell_type": "code",
      "execution_count": 49,
      "metadata": {},
      "outputs": [],
      "source": [
        "# Save current model for later use\n",
        "\n",
        "model.wv.save_word2vec_format('resources/word2vec.txtlab_Novel150_English.txt')\n",
        "#model.save_word2vec_format('resources/word2vec.txtlab_Novel150_English.txt') # deprecated"
      ],
      "id": "670f5a93"
    },
    {
      "cell_type": "code",
      "execution_count": 50,
      "metadata": {},
      "outputs": [],
      "source": [
        "# Load up models from disk\n",
        "\n",
        "# Model trained on Eighteenth Century Collections Online corpus (~2500 texts)\n",
        "# Made available by Ryan Heuser: http://ryanheuser.org/word-vectors-1/\n",
        "\n",
        "ecco_model = gensim.models.KeyedVectors.load_word2vec_format('resources/word2vec.ECCO-TCP.txt')\n",
        "#ecco_model = gensim.models.Word2Vec.load_word2vec_format('resources/word2vec.ECCO-TCP.txt') # deprecated"
      ],
      "id": "4b279a7c"
    },
    {
      "cell_type": "code",
      "execution_count": 51,
      "metadata": {},
      "outputs": [],
      "source": [
        "# What are similar words to BANK?\n",
        "\n",
        "ecco_model.most_similar('bank')"
      ],
      "id": "c3a9bfed"
    },
    {
      "cell_type": "code",
      "execution_count": 52,
      "metadata": {},
      "outputs": [],
      "source": [
        "# What if we remove the sense of \"river bank\"?\n",
        "\n",
        "ecco_model.most_similar(positive=['bank'], negative=['river'])"
      ],
      "id": "32aebd39"
    },
    {
      "cell_type": "markdown",
      "metadata": {},
      "source": [
        "## Exercises!"
      ],
      "id": "77452994-d855-4f35-af1b-84130978178c"
    },
    {
      "cell_type": "code",
      "execution_count": 53,
      "metadata": {},
      "outputs": [],
      "source": [
        "## EX. Use the most_similar method to find the tokens nearest to 'car' in either model.\n",
        "##     Do the same for 'motorcar'.\n",
        "\n",
        "## Q.  What characterizes these two words inthe corpus? Does this make sense?"
      ],
      "id": "f1e3cdb8"
    },
    {
      "cell_type": "code",
      "execution_count": 54,
      "metadata": {},
      "outputs": [],
      "source": [
        "## EX. How does our model answer the analogy: MADRID is to SPAIN as PARIS is to __________\n",
        "\n",
        "## Q.  What has our model learned about nation-states?"
      ],
      "id": "5f3b2a62"
    },
    {
      "cell_type": "code",
      "execution_count": 55,
      "metadata": {},
      "outputs": [],
      "source": [
        "## EX. Perform the canonic Word2Vec addition again but leave out a term:\n",
        "##     Try 'king' - 'man', 'woman' - 'man', 'woman' + 'king'\n",
        "\n",
        "## Q.  What do these indicate semantically?"
      ],
      "id": "18163de2"
    },
    {
      "cell_type": "code",
      "execution_count": 56,
      "metadata": {},
      "outputs": [],
      "source": [
        "## EX. Heuser's blog post explores an analogy in eighteenth-century thought that\n",
        "##     RICHES are to VIRTUE what LEARNING is to GENIUS. How true is this in\n",
        "##     the ECCO-trained Word2Vec model? Is it true in the one we trained?\n",
        "\n",
        "##  Q. How might we compare word2vec models more generally?"
      ],
      "id": "be3d3687"
    },
    {
      "cell_type": "code",
      "execution_count": 57,
      "metadata": {},
      "outputs": [],
      "source": [
        "# ECCO model: RICHES are to VIRTUE what LEARNING is to ??"
      ],
      "id": "8a18eade"
    },
    {
      "cell_type": "code",
      "execution_count": 58,
      "metadata": {},
      "outputs": [],
      "source": [
        "# txtLab model: RICHES are to VIRTUE what LEARNING is to ??"
      ],
      "id": "c98c52e6"
    },
    {
      "cell_type": "markdown",
      "metadata": {},
      "source": [
        "# 4. Open Questions\n",
        "\n",
        "At this point, we have seen a number of mathemetical operations that we\n",
        "may use to explore word2vec’s word embeddings. These enable us to answer\n",
        "a set of new, interesting questions dealing with semantics, yet there\n",
        "are many other questions that remain unanswered.\n",
        "\n",
        "For example:"
      ],
      "id": "f317a092-7b72-4c27-9925-23e8dd22bba8"
    },
    {
      "cell_type": "raw",
      "metadata": {
        "raw_mimetype": "text/html"
      },
      "source": [
        "<ol>"
      ],
      "id": "e74c1f15-ab44-464a-a936-23093062c6ff"
    },
    {
      "cell_type": "raw",
      "metadata": {
        "raw_mimetype": "text/html"
      },
      "source": [
        "<li>"
      ],
      "id": "7bb61baa-c142-4c32-be4d-754632344144"
    },
    {
      "cell_type": "markdown",
      "metadata": {},
      "source": [
        "How to compare word usages in different texts (within the same model)?"
      ],
      "id": "39cd92f7-d3c8-4362-8d5d-82ee984d82e4"
    },
    {
      "cell_type": "raw",
      "metadata": {
        "raw_mimetype": "text/html"
      },
      "source": [
        "</li>"
      ],
      "id": "8502c042-0306-4852-af8d-e5962e702ada"
    },
    {
      "cell_type": "raw",
      "metadata": {
        "raw_mimetype": "text/html"
      },
      "source": [
        "<li>"
      ],
      "id": "253b20a1-63ae-40b5-baf8-f28bd3b09d63"
    },
    {
      "cell_type": "markdown",
      "metadata": {},
      "source": [
        "How to compare word meanings in different models? compare whole models?"
      ],
      "id": "fb3edad9-dbcc-4eb9-b0b5-2857c850eecd"
    },
    {
      "cell_type": "raw",
      "metadata": {
        "raw_mimetype": "text/html"
      },
      "source": [
        "</li>"
      ],
      "id": "42c13608-5825-4f15-972c-1e1e264b30b6"
    },
    {
      "cell_type": "raw",
      "metadata": {
        "raw_mimetype": "text/html"
      },
      "source": [
        "<li>"
      ],
      "id": "90ef1da2-2dae-4a56-89a0-0696ab49beae"
    },
    {
      "cell_type": "markdown",
      "metadata": {},
      "source": [
        "What about the space “in between” words?"
      ],
      "id": "51301d6d-c0c7-40c5-a7f4-ea8231f1565f"
    },
    {
      "cell_type": "raw",
      "metadata": {
        "raw_mimetype": "text/html"
      },
      "source": [
        "</li>"
      ],
      "id": "206382f2-3b74-45bc-aae2-fa3b2db5ba3d"
    },
    {
      "cell_type": "raw",
      "metadata": {
        "raw_mimetype": "text/html"
      },
      "source": [
        "<li>"
      ],
      "id": "6aa51484-50c2-4432-b179-2a9386a2612f"
    },
    {
      "cell_type": "markdown",
      "metadata": {},
      "source": [
        "Do we agree with the Distributional Hypothesis that words with the same\n",
        "contexts share their meanings?"
      ],
      "id": "2fa9cb46-8847-4d0e-9b94-7d90c90c2189"
    },
    {
      "cell_type": "raw",
      "metadata": {
        "raw_mimetype": "text/html"
      },
      "source": [
        "</li>"
      ],
      "id": "867463bd-465d-4ec8-9e06-45877ccdbe7e"
    },
    {
      "cell_type": "raw",
      "metadata": {
        "raw_mimetype": "text/html"
      },
      "source": [
        "<ol>"
      ],
      "id": "dbffa337-1522-4dcd-9155-a193f2216ca2"
    },
    {
      "cell_type": "raw",
      "metadata": {
        "raw_mimetype": "text/html"
      },
      "source": [
        "<li>"
      ],
      "id": "2e39f95c-7c69-458c-abde-b3fa4e3017f0"
    },
    {
      "cell_type": "markdown",
      "metadata": {},
      "source": [
        "If not, then what information do we think is encoded in a word’s\n",
        "context?"
      ],
      "id": "d7fc7af3-e506-4d8d-947c-798636032e9b"
    },
    {
      "cell_type": "raw",
      "metadata": {
        "raw_mimetype": "text/html"
      },
      "source": [
        "</li>"
      ],
      "id": "0fff6ad4-993e-46d5-809a-59a0c8a69d7f"
    },
    {
      "cell_type": "raw",
      "metadata": {
        "raw_mimetype": "text/html"
      },
      "source": [
        "</ol>"
      ],
      "id": "a0ba7f32-1f24-4db1-b52c-9ab22c0da445"
    },
    {
      "cell_type": "raw",
      "metadata": {
        "raw_mimetype": "text/html"
      },
      "source": [
        "<li>"
      ],
      "id": "96ed2d96-7a3d-483f-b193-8ba957f53d08"
    },
    {
      "cell_type": "markdown",
      "metadata": {},
      "source": [
        "What good, humanistic research questions do analogies shed light on?"
      ],
      "id": "b3e9b820-6668-45ce-a5e7-c7e145158f4f"
    },
    {
      "cell_type": "raw",
      "metadata": {
        "raw_mimetype": "text/html"
      },
      "source": [
        "</li>"
      ],
      "id": "59d1f9ad-c6bb-4a2f-9a86-b6f3a83daace"
    },
    {
      "cell_type": "raw",
      "metadata": {
        "raw_mimetype": "text/html"
      },
      "source": [
        "<ol>"
      ],
      "id": "246c247b-08c7-4d7e-96ce-1edff22c2aa1"
    },
    {
      "cell_type": "raw",
      "metadata": {
        "raw_mimetype": "text/html"
      },
      "source": [
        "<li>"
      ],
      "id": "049269e1-8d6b-4a48-aded-84e1e3d0df9c"
    },
    {
      "cell_type": "markdown",
      "metadata": {},
      "source": [
        "shades of meaning?"
      ],
      "id": "3b973fdb-103f-46f6-966a-a23fbdcd2262"
    },
    {
      "cell_type": "raw",
      "metadata": {
        "raw_mimetype": "text/html"
      },
      "source": [
        "</li>"
      ],
      "id": "2138467a-8d6f-4203-b1a2-88930b3ff625"
    },
    {
      "cell_type": "raw",
      "metadata": {
        "raw_mimetype": "text/html"
      },
      "source": [
        "<li>"
      ],
      "id": "80b043cc-8313-449d-a84e-623049affe2c"
    },
    {
      "cell_type": "markdown",
      "metadata": {},
      "source": [
        "context similarity?"
      ],
      "id": "03fe500d-c1c8-4e77-8144-5a77e2e3a261"
    },
    {
      "cell_type": "raw",
      "metadata": {
        "raw_mimetype": "text/html"
      },
      "source": [
        "</li>"
      ],
      "id": "60843c93-44ec-4cdc-9c32-2281f0c114a8"
    },
    {
      "cell_type": "raw",
      "metadata": {
        "raw_mimetype": "text/html"
      },
      "source": [
        "</ol>"
      ],
      "id": "14040125-e74c-47a5-b865-06563b410e7e"
    },
    {
      "cell_type": "raw",
      "metadata": {
        "raw_mimetype": "text/html"
      },
      "source": [
        "</ol>"
      ],
      "id": "4607e512-34fb-45dd-9311-62f0ee5f3e97"
    }
  ],
  "nbformat": 4,
  "nbformat_minor": 5,
  "metadata": {
    "kernelspec": {
      "name": "python3",
      "display_name": "Python 3 (ipykernel)",
      "language": "python",
      "path": "/usr/local/share/jupyter/kernels/python3"
    },
    "language_info": {
      "name": "python",
      "codemirror_mode": {
        "name": "ipython",
        "version": "3"
      },
      "file_extension": ".py",
      "mimetype": "text/x-python",
      "nbconvert_exporter": "python",
      "pygments_lexer": "ipython3",
      "version": "3.10.12"
    }
  }
}