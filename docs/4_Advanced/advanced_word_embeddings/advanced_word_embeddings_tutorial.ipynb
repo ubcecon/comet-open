{
  "cells": [
    {
      "cell_type": "markdown",
      "metadata": {},
      "source": [
        "# 3.5 - Advanced - Word Embeddings Tutorial (python)"
      ],
      "id": "4ae2dee5-122c-4229-98c7-55f42e3d5c34"
    },
    {
      "cell_type": "raw",
      "metadata": {
        "raw_mimetype": "text/html"
      },
      "source": [
        "<h1 align=\"center\">"
      ],
      "id": "01562a87-ffc3-4439-b819-75301376371a"
    },
    {
      "cell_type": "markdown",
      "metadata": {},
      "source": [
        "It Starts with a Research Question…"
      ],
      "id": "56b14712-0aed-4276-80db-b1700a792224"
    },
    {
      "cell_type": "raw",
      "metadata": {
        "raw_mimetype": "text/html"
      },
      "source": [
        "</h1>"
      ],
      "id": "c94a8ff4-0bba-4afc-b89a-62a696d42c45"
    },
    {
      "cell_type": "markdown",
      "metadata": {},
      "source": [
        "<img src='Schmidt Fig 1.png' width=\"66%\" height=\"66%\">\n",
        "\n",
        "# Word2Vec\n",
        "\n",
        "This lesson is designed to explore features of word embeddings produced\n",
        "through the word2vec model. The questions we ask in this lesson are\n",
        "guided by Ben Schmidt’s blog post\n",
        "<a href = \"http://bookworm.benschmidt.org/posts/2015-10-30-rejecting-the-gender-binary.html\">Rejecting\n",
        "the Gender Binary</a>.\n",
        "\n",
        "The primary corpus we wil use consists of the\n",
        "<a href=\"http://txtlab.org/?p=601\">150 English-language novels</a> made\n",
        "available by the <em>.txtLab</em> at McGill University. We also look at\n",
        "a <a href=\"http://ryanheuser.org/word-vectors-1/\">Word2Vec model trained\n",
        "on the ECCO-TCP corpus</a> of 2,350 eighteenth-century literary texts\n",
        "made available by Ryan Heuser. (Note that the number of terms in the\n",
        "model has been shortened by half in order to conserve memory.)\n",
        "\n",
        "For further technical background on Word2Vec’s mechanics, I suggest this\n",
        "<a href=\"https://chromium.googlesource.com/external/github.com/tensorflow/tensorflow/+/refs/heads/0.6.0/tensorflow/g3doc/tutorials/word2vec/index.md\">brief\n",
        "tutorial</a> by Google, especially the sections “Motivation,” “Skip-Gram\n",
        "Model,” and “Visualizing.”\n",
        "\n",
        "### Tutorial Agenda"
      ],
      "id": "ae5cc275-491f-4f67-b55e-0e3c35757bfd"
    },
    {
      "cell_type": "raw",
      "metadata": {
        "raw_mimetype": "text/html"
      },
      "source": [
        "<ul>"
      ],
      "id": "3696cbc2-26cf-4ff0-a93a-1efcb12510ae"
    },
    {
      "cell_type": "raw",
      "metadata": {
        "raw_mimetype": "text/html"
      },
      "source": [
        "<li>"
      ],
      "id": "8c223653-d3da-421d-8b89-55db5a4d2aa6"
    },
    {
      "cell_type": "markdown",
      "metadata": {},
      "source": [
        "Vector-Space Model of Language"
      ],
      "id": "75164a7f-f9ae-4e70-b2df-a51436b189c2"
    },
    {
      "cell_type": "raw",
      "metadata": {
        "raw_mimetype": "text/html"
      },
      "source": [
        "</li>"
      ],
      "id": "ec6bd558-1242-4047-84c2-2d03a74b6aaa"
    },
    {
      "cell_type": "raw",
      "metadata": {
        "raw_mimetype": "text/html"
      },
      "source": [
        "<li>"
      ],
      "id": "8c031c5a-2eae-48c6-a0a3-92a6161eef62"
    },
    {
      "cell_type": "markdown",
      "metadata": {},
      "source": [
        "Import & Pre-Processing"
      ],
      "id": "809fa32c-1c7e-451d-84da-80c9e3d6659f"
    },
    {
      "cell_type": "raw",
      "metadata": {
        "raw_mimetype": "text/html"
      },
      "source": [
        "</li>"
      ],
      "id": "0051bff8-a438-4b0f-8b72-11dbec3926bb"
    },
    {
      "cell_type": "raw",
      "metadata": {
        "raw_mimetype": "text/html"
      },
      "source": [
        "<li>"
      ],
      "id": "f4134630-2586-40a2-b013-ffd3072dde3c"
    },
    {
      "cell_type": "markdown",
      "metadata": {},
      "source": [
        "Word2Vec"
      ],
      "id": "ef2ec554-07d2-420c-a2c6-1d3b266cf6e4"
    },
    {
      "cell_type": "raw",
      "metadata": {
        "raw_mimetype": "text/html"
      },
      "source": [
        "</li>"
      ],
      "id": "706a8247-20ef-434c-8182-225c8d995112"
    },
    {
      "cell_type": "raw",
      "metadata": {
        "raw_mimetype": "text/html"
      },
      "source": [
        "<ul>"
      ],
      "id": "2daec597-e78f-4e01-9168-106dae06022a"
    },
    {
      "cell_type": "raw",
      "metadata": {
        "raw_mimetype": "text/html"
      },
      "source": [
        "<li>"
      ],
      "id": "defe32ce-68c0-4488-8d0f-13c1ed4e08e0"
    },
    {
      "cell_type": "markdown",
      "metadata": {},
      "source": [
        "Training"
      ],
      "id": "51921b35-cf06-48ff-aada-8b6f7695747f"
    },
    {
      "cell_type": "raw",
      "metadata": {
        "raw_mimetype": "text/html"
      },
      "source": [
        "</li>"
      ],
      "id": "0aa6ace8-c156-4596-8d6d-51dfdba20b86"
    },
    {
      "cell_type": "raw",
      "metadata": {
        "raw_mimetype": "text/html"
      },
      "source": [
        "<li>"
      ],
      "id": "f0c73297-c53e-4734-b0ea-77f888bce5aa"
    },
    {
      "cell_type": "markdown",
      "metadata": {},
      "source": [
        "Embeddings"
      ],
      "id": "d0d51c0c-1917-450a-9589-2bbc4e9f5999"
    },
    {
      "cell_type": "raw",
      "metadata": {
        "raw_mimetype": "text/html"
      },
      "source": [
        "</li>"
      ],
      "id": "5e5e3546-b88e-4b4a-a2f3-35bee11ef523"
    },
    {
      "cell_type": "raw",
      "metadata": {
        "raw_mimetype": "text/html"
      },
      "source": [
        "<li>"
      ],
      "id": "56f141b4-4b3f-4161-84e4-91e4c6119cdd"
    },
    {
      "cell_type": "markdown",
      "metadata": {},
      "source": [
        "Visualization"
      ],
      "id": "290341f4-039c-4ac3-8ae5-bcfdd103ea52"
    },
    {
      "cell_type": "raw",
      "metadata": {
        "raw_mimetype": "text/html"
      },
      "source": [
        "</li>"
      ],
      "id": "1e1f720a-f625-4e5f-b938-878efd551f73"
    },
    {
      "cell_type": "raw",
      "metadata": {
        "raw_mimetype": "text/html"
      },
      "source": [
        "</ul>"
      ],
      "id": "09a19539-72d3-4243-ad86-49655ac5a020"
    },
    {
      "cell_type": "raw",
      "metadata": {
        "raw_mimetype": "text/html"
      },
      "source": [
        "<li>"
      ],
      "id": "f48fc560-8a22-4d60-b5bd-d8799ca1c75d"
    },
    {
      "cell_type": "markdown",
      "metadata": {},
      "source": [
        "Saving/Loading Models"
      ],
      "id": "63816e57-296c-475a-9c1c-7a3d5d2f5a87"
    },
    {
      "cell_type": "raw",
      "metadata": {
        "raw_mimetype": "text/html"
      },
      "source": [
        "</li>"
      ],
      "id": "efa914ba-ffc2-4d86-a4ea-542de5302e18"
    },
    {
      "cell_type": "raw",
      "metadata": {
        "raw_mimetype": "text/html"
      },
      "source": [
        "</ul>"
      ],
      "id": "ad3cf4e9-58ff-4ebf-a8ae-d212a0699ab5"
    },
    {
      "cell_type": "raw",
      "metadata": {
        "raw_mimetype": "text/html"
      },
      "source": [
        "<li>"
      ],
      "id": "1333138c-403a-4062-a72b-b78016e1646b"
    },
    {
      "cell_type": "markdown",
      "metadata": {},
      "source": [
        "Topic Models"
      ],
      "id": "406e349d-99be-4206-bf2f-e4f0efed207c"
    },
    {
      "cell_type": "raw",
      "metadata": {
        "raw_mimetype": "text/html"
      },
      "source": [
        "</li>"
      ],
      "id": "a3b96938-3a18-40db-ad8f-25df1915a1ec"
    },
    {
      "cell_type": "raw",
      "metadata": {
        "raw_mimetype": "text/html"
      },
      "source": [
        "</ul>"
      ],
      "id": "5c51474b-0646-4a68-89f6-b3694e1ca406"
    },
    {
      "cell_type": "markdown",
      "metadata": {},
      "source": [
        "# 0. Vector-Space Model of Language\n",
        "\n",
        "In the first day of this workshop, we explored the strange way that\n",
        "computers read text: by splitting it into tokens and tallying their\n",
        "frequencies. A novel or album review is reduced to a series of word\n",
        "counts. Since then, we have used simple arithmetic and statistics to\n",
        "identify patterns across those tallies. However, it is often useful to\n",
        "consider these patterns from another perspective: geometry.\n",
        "\n",
        "Each text can be described as a series of word counts. What if we\n",
        "treated those like coordinates in space?\n",
        "\n",
        "### Prep for visualization"
      ],
      "id": "0b0a2e7e-3d7a-48b2-ab5a-ad578e873998"
    },
    {
      "cell_type": "code",
      "execution_count": 1,
      "metadata": {},
      "outputs": [],
      "source": [
        "%pylab inline\n",
        "matplotlib.style.use('ggplot')"
      ],
      "id": "b4b954d6"
    },
    {
      "cell_type": "markdown",
      "metadata": {},
      "source": [
        "### Create a DTM with a Few Pseudo-Texts"
      ],
      "id": "a80d529b-51eb-4e6a-a0e2-7b67ee30c18e"
    },
    {
      "cell_type": "code",
      "execution_count": 2,
      "metadata": {},
      "outputs": [],
      "source": [
        "# dataframes!\n",
        "import pandas\n",
        "\n",
        "# Construct dataframe\n",
        "columns = ['eggs','sausage','bacon']\n",
        "indices = ['Novel A', 'Novel B', 'Novel C']\n",
        "dtm = [[50,60,60],[90,10,10], [20,70,70]]\n",
        "dtm_df = pandas.DataFrame(dtm, columns = columns, index = indices)\n",
        "\n",
        "# Show dataframe\n",
        "dtm_df"
      ],
      "id": "dc774ca9"
    },
    {
      "cell_type": "markdown",
      "metadata": {},
      "source": [
        "### Visualize"
      ],
      "id": "31f917fd-3535-4744-b6d5-19cc6f0b778a"
    },
    {
      "cell_type": "code",
      "execution_count": 3,
      "metadata": {},
      "outputs": [],
      "source": [
        "# Plot our points\n",
        "scatter(dtm_df['eggs'], dtm_df['sausage'])\n",
        "\n",
        "# Make the graph look good\n",
        "xlim([0,100]), ylim([0,100])\n",
        "xlabel('eggs'), ylabel('sausage')"
      ],
      "id": "1eea1854"
    },
    {
      "cell_type": "markdown",
      "metadata": {},
      "source": [
        "### Vectors\n",
        "\n",
        "At a glance, a couple of points are lying closer to one another. We used\n",
        "the word frequencies of just two words in order to plot our texts in a\n",
        "two-dimensional plane. The term frequency “summaries” of <i>Novel A</i>\n",
        "& <i>Novel C</i> are pretty similar to one another: they both share a\n",
        "major concern with “eggs”, whereas <i>Novel B</i> seems to focus\n",
        "primarily on “sausage.”\n",
        "\n",
        "This raises a question: how can we operationalize our intuition that\n",
        "spatial distance expresses topical similarity?\n",
        "\n",
        "<img src='Dot-Product.png' >\n",
        "\n",
        "The most common measurement of distance between points is their\n",
        "<a href=\"https://en.wikipedia.org/wiki/Cosine_similarity\">Cosine\n",
        "Similarity</a>. Imagine that we draw an arrow from the origin of the\n",
        "graph – point (0,0) – to the dot representing each text. This arrow is\n",
        "called a <i>vector</i>. The Cosine Similarity between two vectors\n",
        "measures how much they overlap with one another. Values for the cosine\n",
        "similarity between two vectors fall between 0 and 1, so they are easily\n",
        "interpreted and compared.\n",
        "\n",
        "### Cosine Distance"
      ],
      "id": "353eda0f-1544-41dc-9a91-192cc41af13f"
    },
    {
      "cell_type": "code",
      "execution_count": 4,
      "metadata": {},
      "outputs": [],
      "source": [
        "# Although we want the Cosine Distance, it is mathematically\n",
        "# simpler to calculate its opposite: Cosine Similarity\n",
        "\n",
        "from sklearn.metrics.pairwise import cosine_similarity"
      ],
      "id": "1cc2820f"
    },
    {
      "cell_type": "code",
      "execution_count": 5,
      "metadata": {},
      "outputs": [],
      "source": [
        "# So we will subtract the similarities from 1\n",
        "\n",
        "cos_sim = cosine_similarity(dtm_df)"
      ],
      "id": "30dff21c"
    },
    {
      "cell_type": "code",
      "execution_count": 6,
      "metadata": {},
      "outputs": [],
      "source": [
        "# And we'll make it a little easier to read\n",
        "\n",
        "np.round(cos_sim, 2)"
      ],
      "id": "16c0ccd0"
    },
    {
      "cell_type": "code",
      "execution_count": 7,
      "metadata": {},
      "outputs": [],
      "source": [
        "#Compare the distance between novels\n",
        "\n",
        "filelist = ['txtlab_Novel450_English/EN_1850_Hawthorne,Nathaniel_TheScarletLetter_Novel.txt',\n",
        "            'txtlab_Novel450_English/EN_1851_Hawthorne,Nathaniel_TheHouseoftheSevenGables_Novel.txt',\n",
        "            'txtlab_Novel450_English/EN_1920_Fitzgerald,FScott_ThisSideofParadise_Novel.txt',\n",
        "            'txtlab_Novel450_English/EN_1922_Fitzgerald,FScott_TheBeautifulandtheDamned_Novel.txt',\n",
        "            'txtlab_Novel450_English/EN_1811_Austen,Jane_SenseandSensibility_Novel.txt',\n",
        "            'txtlab_Novel450_English/EN_1813_Austen,Jane_PrideandPrejudice_Novel.txt']\n",
        "\n",
        "novel_names = ['Hawthorne: Scarlet Letter',\n",
        "           'Hawthorne: Seven Gables',\n",
        "           'Fitzgerald: This Side of Paradise',\n",
        "           'Fitzgerald: Beautiful and the Damned',\n",
        "           'Austen: Sense and Sensibility',\n",
        "           'Austen: Pride and Prejudice']\n",
        "\n",
        "text_list = []\n",
        "\n",
        "for file in filelist:\n",
        "    with open(file, 'r', encoding = 'utf-8') as myfile:\n",
        "        text_list.append(myfile.read())\n",
        "\n",
        "            \n",
        "\n",
        "#import the function CountVectorizer\n",
        "from sklearn.feature_extraction.text import CountVectorizer\n",
        "\n",
        "cv = CountVectorizer(stop_words = 'english', min_df = 3, binary=True)\n",
        "\n",
        "novel_dtm = cv.fit_transform(text_list).toarray()\n",
        "feature_list = cv.get_feature_names_out()\n",
        "dtm_df_novel = pandas.DataFrame(novel_dtm, columns = feature_list, index = novel_names)\n",
        "dtm_df_novel"
      ],
      "id": "7f212723"
    },
    {
      "cell_type": "code",
      "execution_count": 8,
      "metadata": {},
      "outputs": [],
      "source": [
        "cos_sim_novel = cosine_similarity(dtm_df_novel)\n",
        "np.round(cos_sim_novel, 2)"
      ],
      "id": "8e80e64b"
    },
    {
      "cell_type": "code",
      "execution_count": 9,
      "metadata": {},
      "outputs": [],
      "source": [
        "cos_df = pandas.DataFrame(cos_sim_novel, columns = novel_names, index = novel_names)\n",
        "cos_df"
      ],
      "id": "9888f1b3"
    },
    {
      "cell_type": "code",
      "execution_count": 10,
      "metadata": {},
      "outputs": [],
      "source": [
        "#visualizing differences\n",
        "\n",
        "from sklearn.manifold import MDS\n",
        "\n",
        "# two components as we're plotting points in a two-dimensional plane\n",
        "# \"precomputed\" because we provide a distance matrix\n",
        "# we will also specify `random_state` so the plot is reproducible.\n",
        "\n",
        "#transform cosine similarity to cosine distance\n",
        "cos_dist = 1 - cosine_similarity(dtm_df_novel)\n",
        "\n",
        "mds = MDS(n_components=2, dissimilarity=\"precomputed\", random_state=1)\n",
        "\n",
        "pos = mds.fit_transform(cos_dist)  # shape (n_components, n_samples)\n",
        "xs, ys = pos[:, 0], pos[:, 1]\n",
        "\n",
        "for x, y, name in zip(xs, ys, novel_names):\n",
        "    plt.scatter(x, y)\n",
        "    plt.text(x, y, name)\n",
        "\n",
        "plt.show()"
      ],
      "id": "def76d92"
    },
    {
      "cell_type": "markdown",
      "metadata": {},
      "source": [
        "The above method has a broad range of applications, such as unsupervised\n",
        "clustering. Common techniques include\n",
        "<a href = \"https://en.wikipedia.org/wiki/K-means_clustering\">K-Means\n",
        "Clustering</a> and\n",
        "<a href=\"https://en.wikipedia.org/wiki/Hierarchical_clustering\">Heirchical\n",
        "Dendrograms</a>. These attempt to identify groups of texts with shared\n",
        "content, based on these kinds of distance measures.\n",
        "\n",
        "Here’s an example of a dendrogram based on these six novels:"
      ],
      "id": "cb876539-03a7-4beb-b228-cea99a09932e"
    },
    {
      "cell_type": "code",
      "execution_count": 11,
      "metadata": {},
      "outputs": [],
      "source": [
        "from scipy.cluster.hierarchy import ward, dendrogram\n",
        "linkage_matrix = ward(cos_dist)\n",
        "\n",
        "dendrogram(linkage_matrix, orientation=\"right\", labels=novel_names)\n",
        "\n",
        "plt.tight_layout()  # fixes margins\n",
        "\n",
        "plt.show()"
      ],
      "id": "b745cdb5"
    },
    {
      "cell_type": "markdown",
      "metadata": {},
      "source": [
        "### Vector Semantics\n",
        "\n",
        "We can also turn this logic on its head. Rather than produce vectors\n",
        "representing texts based on their words, we will produce vectors for the\n",
        "words based on their contexts."
      ],
      "id": "f402e263-7f78-4b78-b9cb-0c67c3732278"
    },
    {
      "cell_type": "code",
      "execution_count": 12,
      "metadata": {},
      "outputs": [],
      "source": [
        "# Turn our DTM sideways\n",
        "\n",
        "dtm_df_novel.T.head()"
      ],
      "id": "a72e8540"
    },
    {
      "cell_type": "code",
      "execution_count": 13,
      "metadata": {},
      "outputs": [],
      "source": [
        "# Find the Cosine Distances between pairs of word-vectors\n",
        "\n",
        "cos_sim_words = cosine_similarity(dtm_df_novel.T)"
      ],
      "id": "1695b147"
    },
    {
      "cell_type": "code",
      "execution_count": 14,
      "metadata": {},
      "outputs": [],
      "source": [
        "# In readable format\n",
        "\n",
        "np.round(cos_sim_words, 2)"
      ],
      "id": "0b467f71"
    },
    {
      "cell_type": "markdown",
      "metadata": {},
      "source": [
        "Theoretically you could visualize and cluster these as well - but this\n",
        "takes a lot of computational power!\n",
        "\n",
        "We’ll thus turn to the machine learning version: word embeddings\n",
        "\n",
        "### Word2Vec\n",
        "\n",
        "This last cell indicates that “sausage” and “bacon” perfectly align with\n",
        "one another across texts. If we saw this in a real-world example, we\n",
        "might interpret it to mean that the words share some kind of semantic or\n",
        "thematic relationship. In fact, this method is precisely one that\n",
        "humanists have used in order to find interesting linguistic patterns.\n",
        "(See Ted Underwood’s blog post,\n",
        "<a href = \"https://tedunderwood.com/2011/10/16/lsa-is-a-marvellous-tool-but-humanists-may-no-use-it-the-way-computer-scientists-do/\">LSA\n",
        "is a marvellous tool, but…</a>.)\n",
        "\n",
        "Recently, however, a more sophisticated technique for finding semantic\n",
        "relationships between words has enjoyed great popularity: Word2Vec\n",
        "\n",
        "Word2Vec draws from the logic of the concordance that we saw on the\n",
        "first day of the workshop. In the example above, a word (row) is\n",
        "described by its frequency within an entire novel (column). The word2vec\n",
        "algorithm tries to describe a given word in terms of the ones that\n",
        "appear immediately to the right and left in actual sentences. More\n",
        "precisely it learns how to <i>predict</i> the context words.\n",
        "\n",
        "<img src = \"Skip-gram diagram.png\">\n",
        "\n",
        "Without going too deeply into the algorithm, suffice it to say that it\n",
        "involves a two-step process. First, the input word gets compressed into\n",
        "a dense vector. Second, the vector gets decoded into the set of context\n",
        "words. Keywords that appear within similar contexts will have similar\n",
        "vector representations in between steps. This vector is referred to as a\n",
        "<i>word embedding</i>.\n",
        "\n",
        "Since the word embedding is a vector, we can perform tests like cosine\n",
        "similarity and other kinds of operations. Those operations can reveal\n",
        "many different kinds of relationships between words, as we shall see.\n",
        "\n",
        "<img src = \"w2v-Analogies.png\">\n",
        "\n",
        "# 1. Import & Pre-Processing\n",
        "\n",
        "### Import Packages"
      ],
      "id": "b0b91316-fdb5-4912-9cc3-b865515c2835"
    },
    {
      "cell_type": "code",
      "execution_count": 15,
      "metadata": {},
      "outputs": [],
      "source": [
        "# Data Wrangling\n",
        "\n",
        "import os\n",
        "import numpy as np\n",
        "import pandas\n",
        "from scipy.spatial.distance import cosine\n",
        "from sklearn.metrics import pairwise\n",
        "from sklearn.manifold import MDS, TSNE"
      ],
      "id": "533d3ac4"
    },
    {
      "cell_type": "code",
      "execution_count": 16,
      "metadata": {},
      "outputs": [],
      "source": [
        "# Natural Language Processing\n",
        "\n",
        "\n",
        "import nltk\n",
        "nltk.download('punkt')\n",
        "from nltk.tokenize import word_tokenize, sent_tokenize"
      ],
      "id": "7c932104"
    },
    {
      "cell_type": "code",
      "execution_count": 17,
      "metadata": {},
      "outputs": [],
      "source": [
        "# New libarary (not in Anaconda: gensim)\n",
        "import gensim"
      ],
      "id": "5a1b1fa8"
    },
    {
      "cell_type": "code",
      "execution_count": 18,
      "metadata": {},
      "outputs": [],
      "source": [
        "# Custom Tokenizer for Classroom Use\n",
        "\n",
        "def fast_tokenize(text):\n",
        "    \n",
        "    # Get a list of punctuation marks\n",
        "    from string import punctuation\n",
        "    \n",
        "    lower_case = text.lower()\n",
        "    \n",
        "    # Iterate through text removing punctuation characters\n",
        "    no_punct = \"\".join([char for char in lower_case if char not in punctuation])\n",
        "    \n",
        "    # Split text over whitespace into list of words\n",
        "    tokens = no_punct.split()\n",
        "    \n",
        "    return tokens"
      ],
      "id": "e1a6ff7c"
    },
    {
      "cell_type": "markdown",
      "metadata": {},
      "source": [
        "### Corpus Description\n",
        "\n",
        "English-language subset of Andrew Piper’s novel corpus, totaling 150\n",
        "novels by British and American authors spanning the years 1771-1930.\n",
        "These texts reside on disk, each in a separate plaintext file. Metadata\n",
        "is contained in a spreadsheet distributed with the novel files.\n",
        "\n",
        "### Metadata Columns"
      ],
      "id": "b56d1a27-787c-435e-8a1a-1ca046601cc9"
    },
    {
      "cell_type": "raw",
      "metadata": {
        "raw_mimetype": "text/html"
      },
      "source": [
        "<ol>"
      ],
      "id": "35bedd4b-92b6-47e2-8626-f45a1cc7ce7e"
    },
    {
      "cell_type": "raw",
      "metadata": {
        "raw_mimetype": "text/html"
      },
      "source": [
        "<li>"
      ],
      "id": "debdbad3-9d5a-42bd-86a0-5f9986654bb7"
    },
    {
      "cell_type": "markdown",
      "metadata": {},
      "source": [
        "Filename: Name of file on disk"
      ],
      "id": "aa29b517-cb04-4503-a3b8-f7fa07f26625"
    },
    {
      "cell_type": "raw",
      "metadata": {
        "raw_mimetype": "text/html"
      },
      "source": [
        "</li>"
      ],
      "id": "3b865feb-c9a9-49e9-a674-5486b6b164a8"
    },
    {
      "cell_type": "raw",
      "metadata": {
        "raw_mimetype": "text/html"
      },
      "source": [
        "<li>"
      ],
      "id": "1bfafc7a-39dd-4c59-8745-eca672e95577"
    },
    {
      "cell_type": "markdown",
      "metadata": {},
      "source": [
        "ID: Unique ID in Piper corpus"
      ],
      "id": "45aabf7b-a65c-43cf-b8b3-0729d03671a9"
    },
    {
      "cell_type": "raw",
      "metadata": {
        "raw_mimetype": "text/html"
      },
      "source": [
        "</li>"
      ],
      "id": "830f07c7-5cd1-43de-bc07-2df2846d7cb4"
    },
    {
      "cell_type": "raw",
      "metadata": {
        "raw_mimetype": "text/html"
      },
      "source": [
        "<li>"
      ],
      "id": "dd64abee-8f6b-41c0-a230-f6d714c0f10b"
    },
    {
      "cell_type": "markdown",
      "metadata": {},
      "source": [
        "Language: Language of novel"
      ],
      "id": "6d6344b8-91f7-4334-b280-2d3c1b0bfe2b"
    },
    {
      "cell_type": "raw",
      "metadata": {
        "raw_mimetype": "text/html"
      },
      "source": [
        "</li>"
      ],
      "id": "c443dcf8-3f91-4f60-b17c-0875a8b886d4"
    },
    {
      "cell_type": "raw",
      "metadata": {
        "raw_mimetype": "text/html"
      },
      "source": [
        "<li>"
      ],
      "id": "9a40448b-5ad0-4783-b310-c03cabbd71bd"
    },
    {
      "cell_type": "markdown",
      "metadata": {},
      "source": [
        "Date: Initial publication date"
      ],
      "id": "fc7fdc8a-963f-4f1e-8524-875253f6053f"
    },
    {
      "cell_type": "raw",
      "metadata": {
        "raw_mimetype": "text/html"
      },
      "source": [
        "</li>"
      ],
      "id": "a44d77f6-e62e-4664-a37e-8d5a3f178dca"
    },
    {
      "cell_type": "raw",
      "metadata": {
        "raw_mimetype": "text/html"
      },
      "source": [
        "<li>"
      ],
      "id": "6252abf1-5535-48e0-9ca0-57860529f6e7"
    },
    {
      "cell_type": "markdown",
      "metadata": {},
      "source": [
        "Title: Title of novel"
      ],
      "id": "3a95cff1-4a49-425c-a175-dddbe2eaab2b"
    },
    {
      "cell_type": "raw",
      "metadata": {
        "raw_mimetype": "text/html"
      },
      "source": [
        "</li>"
      ],
      "id": "e1fafd83-f832-4184-a5f8-8e7efe8cfc7e"
    },
    {
      "cell_type": "raw",
      "metadata": {
        "raw_mimetype": "text/html"
      },
      "source": [
        "<li>"
      ],
      "id": "9478d19f-5a84-45d8-ad78-f170a1aa4850"
    },
    {
      "cell_type": "markdown",
      "metadata": {},
      "source": [
        "Gender: Authorial gender"
      ],
      "id": "f9289a1c-3cfb-4c00-93c1-7fee451115d5"
    },
    {
      "cell_type": "raw",
      "metadata": {
        "raw_mimetype": "text/html"
      },
      "source": [
        "</li>"
      ],
      "id": "7c20a4f9-5d07-460b-a47d-5a6b2e12df00"
    },
    {
      "cell_type": "raw",
      "metadata": {
        "raw_mimetype": "text/html"
      },
      "source": [
        "<li>"
      ],
      "id": "1a0eb99c-35e8-4316-b646-0487805c4bf7"
    },
    {
      "cell_type": "markdown",
      "metadata": {},
      "source": [
        "Person: Textual perspective"
      ],
      "id": "d5c0ff54-31d7-4673-823a-b083bdf29c62"
    },
    {
      "cell_type": "raw",
      "metadata": {
        "raw_mimetype": "text/html"
      },
      "source": [
        "</li>"
      ],
      "id": "f94709b5-618c-4527-83af-802018bdbf3e"
    },
    {
      "cell_type": "raw",
      "metadata": {
        "raw_mimetype": "text/html"
      },
      "source": [
        "<li>"
      ],
      "id": "de4d5eea-622c-47fd-9c87-47789e25c913"
    },
    {
      "cell_type": "markdown",
      "metadata": {},
      "source": [
        "Length: Number of tokens in novel"
      ],
      "id": "1a7be32d-7a4c-41b1-9a35-c39eb7ed1072"
    },
    {
      "cell_type": "raw",
      "metadata": {
        "raw_mimetype": "text/html"
      },
      "source": [
        "</li>"
      ],
      "id": "167d18b3-7e19-4299-89f7-c02293725016"
    },
    {
      "cell_type": "raw",
      "metadata": {
        "raw_mimetype": "text/html"
      },
      "source": [
        "</ol>"
      ],
      "id": "ad2ce9e6-4787-4803-99b5-07db4470ccd4"
    },
    {
      "cell_type": "markdown",
      "metadata": {},
      "source": [
        "## Import Metadata"
      ],
      "id": "0dbeb43a-7391-4ec4-9fcc-e3543b3a1f20"
    },
    {
      "cell_type": "code",
      "execution_count": 19,
      "metadata": {},
      "outputs": [],
      "source": [
        "# Import Metadata into Pandas Dataframe\n",
        "\n",
        "meta_df = pandas.read_csv('resources/txtlab_Novel450_English.csv', encoding = 'utf-8')"
      ],
      "id": "109d192e"
    },
    {
      "cell_type": "code",
      "execution_count": 20,
      "metadata": {},
      "outputs": [],
      "source": [
        "# Check Metadata\n",
        "\n",
        "meta_df.head()"
      ],
      "id": "c71ec3c9"
    },
    {
      "cell_type": "markdown",
      "metadata": {},
      "source": [
        "## Import Corpus"
      ],
      "id": "5646def5-4aa5-417d-b543-579ec062f26a"
    },
    {
      "cell_type": "code",
      "execution_count": 21,
      "metadata": {},
      "outputs": [],
      "source": [
        "# Set location of corpus folder\n",
        "\n",
        "fiction_folder = 'txtlab_Novel450_English/'"
      ],
      "id": "28464aad"
    },
    {
      "cell_type": "code",
      "execution_count": 22,
      "metadata": {},
      "outputs": [],
      "source": [
        "# Collect the text of each file in the 'fiction_folder' on the hard drive\n",
        "\n",
        "# Create empty list, each entry will be the string for a given novel\n",
        "novel_list = []\n",
        "\n",
        "# Iterate through filenames in 'fiction_folder'\n",
        "for filename in os.listdir(fiction_folder):\n",
        "    \n",
        "    # Read novel text as single string\n",
        "    with open(fiction_folder + filename, 'r', encoding = 'utf-8') as file_in:\n",
        "        this_novel = file_in.read()\n",
        "    \n",
        "    # Add novel text as single string to master list\n",
        "    novel_list.append(this_novel)"
      ],
      "id": "c57753c9"
    },
    {
      "cell_type": "code",
      "execution_count": 23,
      "metadata": {},
      "outputs": [],
      "source": [
        "# Inspect first item in novel_list\n",
        "\n",
        "novel_list[0][:500]"
      ],
      "id": "027dd22e"
    },
    {
      "cell_type": "markdown",
      "metadata": {},
      "source": [
        "## Pre-Processing\n",
        "\n",
        "Word2Vec learns about the relationships among words by observing them in\n",
        "context. This means that we want to split our texts into word-units.\n",
        "However, we want to maintain sentence boundaries as well, since the last\n",
        "word of the previous sentence might skew the meaning of the next\n",
        "sentence.\n",
        "\n",
        "Since novels were imported as single strings, we’ll first use\n",
        "<i>sent_tokenize</i> to divide them into sentences, and second, we’ll\n",
        "split each sentence into its own list of words."
      ],
      "id": "cb30ca67-87cd-407b-8f1a-40fc9ae354d0"
    },
    {
      "cell_type": "code",
      "execution_count": 24,
      "metadata": {},
      "outputs": [],
      "source": [
        "# Split each novel into sentences\n",
        "\n",
        "sentences = [sentence for novel in novel_list for sentence in sent_tokenize(novel)]"
      ],
      "id": "2ae08c94"
    },
    {
      "cell_type": "code",
      "execution_count": 25,
      "metadata": {},
      "outputs": [],
      "source": [
        "# Inspect first sentence\n",
        "\n",
        "sentences[0]"
      ],
      "id": "060e8375"
    },
    {
      "cell_type": "code",
      "execution_count": 26,
      "metadata": {},
      "outputs": [],
      "source": [
        "# Split each sentence into tokens\n",
        "\n",
        "words_by_sentence = [fast_tokenize(sentence) for sentence in sentences]"
      ],
      "id": "205b7e12"
    },
    {
      "cell_type": "code",
      "execution_count": 27,
      "metadata": {},
      "outputs": [],
      "source": [
        "# Remove any sentences that contain zero tokens\n",
        "\n",
        "words_by_sentence = [sentence for sentence in words_by_sentence if sentence != []]"
      ],
      "id": "bc49f90f"
    },
    {
      "cell_type": "code",
      "execution_count": 28,
      "metadata": {},
      "outputs": [],
      "source": [
        "# Inspect first sentence\n",
        "\n",
        "words_by_sentence[0]"
      ],
      "id": "d006c145"
    },
    {
      "cell_type": "markdown",
      "metadata": {},
      "source": [
        "# 2. Word2Vec\n",
        "\n",
        "### Word Embedding\n",
        "\n",
        "Word2Vec is the most prominent word embedding algorithm. Word embedding\n",
        "generally attempts to identify semantic relationships between words by\n",
        "observing them in context.\n",
        "\n",
        "Imagine that each word in a novel has its meaning determined by the ones\n",
        "that surround it in a limited window. For example, in Moby Dick’s first\n",
        "sentence, “me” is paired on either side by “Call” and “Ishmael.” After\n",
        "observing the windows around every word in the novel (or many novels),\n",
        "the computer will notice a pattern in which “me” falls between similar\n",
        "pairs of words to “her,” “him,” or “them.” Of course, the computer had\n",
        "gone through a similar process over the words “Call” and “Ishmael,” for\n",
        "which “me” is reciprocally part of their contexts. This chaining of\n",
        "signifiers to one another mirrors some of humanists’ most sophisticated\n",
        "interpretative frameworks of language.\n",
        "\n",
        "The two main flavors of Word2Vec are CBOW (Continuous Bag of Words) and\n",
        "Skip-Gram, which can be distinguished partly by their input and output\n",
        "during training. Skip-Gram takes a word of interest as its input\n",
        "(e.g. “me”) and tries to learn how to predict its context words\n",
        "(“Call”,“Ishmael”). CBOW does the opposite, taking the context words\n",
        "(“Call”,“Ishmael”) as a single input and tries to predict the word of\n",
        "interest (“me”).\n",
        "\n",
        "In general, CBOW is is faster and does well with frequent words, while\n",
        "Skip-Gram potentially represents rare words better.\n",
        "\n",
        "### Word2Vec Features"
      ],
      "id": "455e79cb-ad17-4ff0-a97f-b8bb59ff4543"
    },
    {
      "cell_type": "raw",
      "metadata": {
        "raw_mimetype": "text/html"
      },
      "source": [
        "<ul>"
      ],
      "id": "46a7e742-9275-4de4-95a8-741b5ea33828"
    },
    {
      "cell_type": "raw",
      "metadata": {
        "raw_mimetype": "text/html"
      },
      "source": [
        "<li>"
      ],
      "id": "a58d535b-25cc-410c-8725-40e17c5fa698"
    },
    {
      "cell_type": "markdown",
      "metadata": {},
      "source": [
        "Size: Number of dimensions for word embedding model"
      ],
      "id": "8afa5e4f-8233-41a6-b829-0448d8e59e13"
    },
    {
      "cell_type": "raw",
      "metadata": {
        "raw_mimetype": "text/html"
      },
      "source": [
        "</li>"
      ],
      "id": "d98c4588-d953-4355-858a-29ddb5e7d826"
    },
    {
      "cell_type": "raw",
      "metadata": {
        "raw_mimetype": "text/html"
      },
      "source": [
        "<li>"
      ],
      "id": "32b73a02-4447-4bc3-8ced-b55bfe0b4707"
    },
    {
      "cell_type": "markdown",
      "metadata": {},
      "source": [
        "Window: Number of context words to observe in each direction"
      ],
      "id": "16e924fd-4310-46dc-bc75-bfb572b6039c"
    },
    {
      "cell_type": "raw",
      "metadata": {
        "raw_mimetype": "text/html"
      },
      "source": [
        "</li>"
      ],
      "id": "64d517a5-1f27-4196-923c-764fac7da3ba"
    },
    {
      "cell_type": "raw",
      "metadata": {
        "raw_mimetype": "text/html"
      },
      "source": [
        "<li>"
      ],
      "id": "0bf24062-0bb3-4331-a708-d02ce405d12d"
    },
    {
      "cell_type": "markdown",
      "metadata": {},
      "source": [
        "min_count: Minimum frequency for words included in model"
      ],
      "id": "416ad129-aa51-4f19-b5ac-df5c4c9c369e"
    },
    {
      "cell_type": "raw",
      "metadata": {
        "raw_mimetype": "text/html"
      },
      "source": [
        "</li>"
      ],
      "id": "589caf40-d6c0-4b45-a85a-5cb0c941489a"
    },
    {
      "cell_type": "raw",
      "metadata": {
        "raw_mimetype": "text/html"
      },
      "source": [
        "<li>"
      ],
      "id": "b52dda8f-30ae-4c90-afa8-0d4d627c2135"
    },
    {
      "cell_type": "markdown",
      "metadata": {},
      "source": [
        "sg (Skip-Gram): ‘0’ indicates CBOW model; ‘1’ indicates Skip-Gram"
      ],
      "id": "47d0c1b0-1de2-4697-8ab8-b719daca0f7b"
    },
    {
      "cell_type": "raw",
      "metadata": {
        "raw_mimetype": "text/html"
      },
      "source": [
        "</li>"
      ],
      "id": "776ead1a-d283-4db8-8ae2-b0449cb5bcbf"
    },
    {
      "cell_type": "raw",
      "metadata": {
        "raw_mimetype": "text/html"
      },
      "source": [
        "<li>"
      ],
      "id": "a2c9cbec-64dc-4ba9-820e-fb1185352bae"
    },
    {
      "cell_type": "markdown",
      "metadata": {},
      "source": [
        "Alpha: Learning rate (initial); prevents model from over-correcting,\n",
        "enables finer tuning"
      ],
      "id": "ed33f614-6b54-427a-830d-80f872b92bed"
    },
    {
      "cell_type": "raw",
      "metadata": {
        "raw_mimetype": "text/html"
      },
      "source": [
        "</li>"
      ],
      "id": "c74f28f1-f60c-49bc-874b-5c3f7cc46e27"
    },
    {
      "cell_type": "raw",
      "metadata": {
        "raw_mimetype": "text/html"
      },
      "source": [
        "<li>"
      ],
      "id": "6a2494b3-ef47-4f32-969a-d770990bd2ae"
    },
    {
      "cell_type": "markdown",
      "metadata": {},
      "source": [
        "Iterations: Number of passes through dataset"
      ],
      "id": "59fd4e00-e37a-4e77-90f0-b842aac4b0e3"
    },
    {
      "cell_type": "raw",
      "metadata": {
        "raw_mimetype": "text/html"
      },
      "source": [
        "</li>"
      ],
      "id": "d5cb196f-c119-470a-856c-e49c2c6691ef"
    },
    {
      "cell_type": "raw",
      "metadata": {
        "raw_mimetype": "text/html"
      },
      "source": [
        "<li>"
      ],
      "id": "5cb02e90-d7bc-4c1b-9d56-29e2f6e57df2"
    },
    {
      "cell_type": "markdown",
      "metadata": {},
      "source": [
        "Batch Size: Number of words to sample from data during each pass"
      ],
      "id": "2eb8f37b-e05f-4817-b6de-555065d1dd7d"
    },
    {
      "cell_type": "raw",
      "metadata": {
        "raw_mimetype": "text/html"
      },
      "source": [
        "</li>"
      ],
      "id": "211ad950-d20e-4ad0-a5be-ff33335d53a8"
    },
    {
      "cell_type": "raw",
      "metadata": {
        "raw_mimetype": "text/html"
      },
      "source": [
        "</ul>"
      ],
      "id": "8546818d-32db-4fb2-9f14-15bdacf56576"
    },
    {
      "cell_type": "markdown",
      "metadata": {},
      "source": [
        "Note: Script uses default value for each argument\n",
        "\n",
        "## Training"
      ],
      "id": "c49c84a5-5bfe-42cf-9720-2227e2e9bb73"
    },
    {
      "cell_type": "code",
      "execution_count": 29,
      "metadata": {},
      "outputs": [],
      "source": [
        "# Train word2vec model from txtLab corpus\n",
        "\n",
        "model = gensim.models.Word2Vec(words_by_sentence, vector_size=100, window=5, \\\n",
        "                               min_count=25, sg=1, alpha=0.025, epochs=5, batch_words=10000)"
      ],
      "id": "a8ca90d9"
    },
    {
      "cell_type": "markdown",
      "metadata": {},
      "source": [
        "## Embeddings"
      ],
      "id": "e6e93b8c-072d-48c6-ae8f-a3558aa6f76e"
    },
    {
      "cell_type": "code",
      "execution_count": 30,
      "metadata": {},
      "outputs": [],
      "source": [
        "# Return dense word vector\n",
        "\n",
        "model.wv.get_vector('whale')"
      ],
      "id": "4d9f3135"
    },
    {
      "cell_type": "markdown",
      "metadata": {},
      "source": [
        "## Vector-Space Operations\n",
        "\n",
        "### Similarity\n",
        "\n",
        "Since words are represented as dense vectors, we can ask how similiar\n",
        "words’ meanings are based on their cosine similarity (essentially how\n",
        "much they overlap). <em>gensim</em> has a few out-of-the-box functions\n",
        "that enable different kinds of comparisons."
      ],
      "id": "9a27a9a3-f431-4f78-b6ce-62e7ed3e3c83"
    },
    {
      "cell_type": "code",
      "execution_count": 31,
      "metadata": {},
      "outputs": [],
      "source": [
        "# Find cosine distance between two given word vectors\n",
        "\n",
        "model.wv.similarity('pride','prejudice')"
      ],
      "id": "bbe1a406"
    },
    {
      "cell_type": "code",
      "execution_count": 32,
      "metadata": {},
      "outputs": [],
      "source": [
        "# Find nearest word vectors by cosine distance\n",
        "\n",
        "model.wv.most_similar('pride')"
      ],
      "id": "4223ffed"
    },
    {
      "cell_type": "code",
      "execution_count": 33,
      "metadata": {},
      "outputs": [],
      "source": [
        "# Given a list of words, we can ask which doesn't belong\n",
        "\n",
        "# Finds mean vector of words in list\n",
        "# and identifies the word further from that mean\n",
        "\n",
        "model.wv.doesnt_match(['pride','prejudice', 'whale'])"
      ],
      "id": "312770a8"
    },
    {
      "cell_type": "markdown",
      "metadata": {},
      "source": [
        "### Multiple Valences\n",
        "\n",
        "A word embedding may encode both primary and secondary meanings that are\n",
        "both present at the same time. In order to identify secondary meanings\n",
        "in a word, we can subtract the vectors of primary (or simply unwanted)\n",
        "meanings. For example, we may wish to remove the sense of <em>river\n",
        "bank</em> from the word <em>bank</em>. This would be written\n",
        "mathetmatically as <em>RIVER - BANK</em>, which in <em>gensim</em>’s\n",
        "interface lists <em>RIVER</em> as a positive meaning and <em>BANK</em>\n",
        "as a negative one."
      ],
      "id": "64ac9904-5ee9-440f-9e40-76ab8587531e"
    },
    {
      "cell_type": "code",
      "execution_count": 34,
      "metadata": {},
      "outputs": [],
      "source": [
        "# Get most similar words to BANK, in order\n",
        "# to get a sense for its primary meaning\n",
        "\n",
        "model.wv.most_similar('bank')"
      ],
      "id": "8aa4a827"
    },
    {
      "cell_type": "code",
      "execution_count": 35,
      "metadata": {},
      "outputs": [],
      "source": [
        "# Remove the sense of \"river bank\" from \"bank\" and see what is left\n",
        "\n",
        "model.wv.most_similar(positive=['bank'], negative=['river'])"
      ],
      "id": "9ff493ec"
    },
    {
      "cell_type": "markdown",
      "metadata": {},
      "source": [
        "### Analogy\n",
        "\n",
        "Analogies are rendered as simple mathematical operations in vector\n",
        "space. For example, the canonic word2vec analogy <em>MAN is to KING as\n",
        "WOMAN is to ??</em> is rendered as <em>KING - MAN + WOMAN</em>. In the\n",
        "gensim interface, we designate <em>KING</em> and <em>WOMAN</em> as\n",
        "positive terms and <em>MAN</em> as a negative term, since it is\n",
        "subtracted from those."
      ],
      "id": "7e9d2e40-6d89-43e0-afbe-9aee13c248cb"
    },
    {
      "cell_type": "code",
      "execution_count": 36,
      "metadata": {},
      "outputs": [],
      "source": [
        "# Get most similar words to KING, in order\n",
        "# to get a sense for its primary meaning\n",
        "\n",
        "model.wv.most_similar('king')"
      ],
      "id": "461979e9"
    },
    {
      "cell_type": "code",
      "execution_count": 37,
      "metadata": {},
      "outputs": [],
      "source": [
        "# The canonic word2vec analogy: King - Man + Woman -> Queen\n",
        "\n",
        "model.wv.most_similar(positive=['woman', 'king'], negative=['man'])"
      ],
      "id": "20318235"
    },
    {
      "cell_type": "markdown",
      "metadata": {},
      "source": [
        "### Gendered Vectors\n",
        "\n",
        "Can we find gender a la Schmidt (2015)? (Note that this method uses\n",
        "vector projection, whereas Schmidt had used rejection.)"
      ],
      "id": "8b9c27cb-0227-4bcd-bfd2-92297a376188"
    },
    {
      "cell_type": "code",
      "execution_count": 38,
      "metadata": {},
      "outputs": [],
      "source": [
        "# Feminine Vector\n",
        "\n",
        "model.wv.most_similar(positive=['she','her','hers','herself'], negative=['he','him','his','himself'])"
      ],
      "id": "4a694e35"
    },
    {
      "cell_type": "code",
      "execution_count": 39,
      "metadata": {},
      "outputs": [],
      "source": [
        "# Masculine Vector\n",
        "\n",
        "model.wv.most_similar(positive=['he','him','his','himself'], negative=['she','her','hers','herself'])"
      ],
      "id": "e2d36c5a"
    },
    {
      "cell_type": "markdown",
      "metadata": {},
      "source": [
        "## Visualization"
      ],
      "id": "9bcce0b7-c9f5-49cc-8f72-00b1f2574b35"
    },
    {
      "cell_type": "code",
      "execution_count": 40,
      "metadata": {},
      "outputs": [],
      "source": [
        "# Dictionary of words in model\n",
        "\n",
        "model.wv.key_to_index"
      ],
      "id": "5224322d"
    },
    {
      "cell_type": "code",
      "execution_count": 41,
      "metadata": {},
      "outputs": [],
      "source": [
        "# Visualizing the whole vocabulary would make it hard to read\n",
        "\n",
        "len(model.wv.key_to_index)"
      ],
      "id": "736786d0"
    },
    {
      "cell_type": "code",
      "execution_count": 42,
      "metadata": {},
      "outputs": [],
      "source": [
        "# For interpretability, we'll select words that already have a semantic relation\n",
        "\n",
        "her_tokens = [token for token,weight in model.wv.most_similar(positive=['she','her','hers','herself'], \\\n",
        "                                                       negative=['he','him','his','himself'], topn=50)]"
      ],
      "id": "c4ddfe77"
    },
    {
      "cell_type": "code",
      "execution_count": 43,
      "metadata": {},
      "outputs": [],
      "source": [
        "# Inspect list\n",
        "\n",
        "her_tokens[:15]"
      ],
      "id": "7de5b9a6"
    },
    {
      "cell_type": "code",
      "execution_count": 44,
      "metadata": {},
      "outputs": [],
      "source": [
        "# Get the vector for each sampled word\n",
        "\n",
        "vectors = [model.wv.get_vector(word) for word in her_tokens]  "
      ],
      "id": "7c506cb6"
    },
    {
      "cell_type": "code",
      "execution_count": 45,
      "metadata": {},
      "outputs": [],
      "source": [
        "# Calculate distances among texts in vector space\n",
        "\n",
        "dist_matrix = pairwise.pairwise_distances(vectors, metric='cosine')"
      ],
      "id": "8a18d535"
    },
    {
      "cell_type": "code",
      "execution_count": 46,
      "metadata": {},
      "outputs": [],
      "source": [
        "# Multi-Dimensional Scaling (Project vectors into 2-D)\n",
        "\n",
        "mds = MDS(n_components = 2, dissimilarity='precomputed')\n",
        "embeddings = mds.fit_transform(dist_matrix)"
      ],
      "id": "c937dd66"
    },
    {
      "cell_type": "code",
      "execution_count": 47,
      "metadata": {},
      "outputs": [],
      "source": [
        "# Make a pretty graph\n",
        "\n",
        "_, ax = plt.subplots(figsize=(10,10))\n",
        "ax.scatter(embeddings[:,0], embeddings[:,1], alpha=0)\n",
        "for i in range(len(vectors)):\n",
        "    ax.annotate(her_tokens[i], ((embeddings[i,0], embeddings[i,1])))"
      ],
      "id": "8ee60fad"
    },
    {
      "cell_type": "code",
      "execution_count": 48,
      "metadata": {},
      "outputs": [],
      "source": [
        "# For comparison, here is the same graph using a masculine-pronoun vector\n",
        "\n",
        "his_tokens = [token for token,weight in model.wv.most_similar(positive=['he','him','his','himself'], \\\n",
        "                                                       negative=['she','her','hers','herself'], topn=50)]\n",
        "vectors = [model.wv.get_vector(word) for word in his_tokens]\n",
        "dist_matrix = pairwise.pairwise_distances(vectors, metric='cosine')\n",
        "mds = MDS(n_components = 2, dissimilarity='precomputed')\n",
        "embeddings = mds.fit_transform(dist_matrix)\n",
        "_, ax = plt.subplots(figsize=(10,10))\n",
        "ax.scatter(embeddings[:,0], embeddings[:,1], alpha=0)\n",
        "for i in range(len(vectors)):\n",
        "    ax.annotate(his_tokens[i], ((embeddings[i,0], embeddings[i,1])))"
      ],
      "id": "75322d3a"
    },
    {
      "cell_type": "markdown",
      "metadata": {},
      "source": [
        "Q. What kinds of semantic relationships exist in the diagram above?\n",
        "\n",
        "Are there any words that seem out of place?\n",
        "\n",
        "# 3. Saving/Loading Models"
      ],
      "id": "70467a40-2754-4757-ab0c-c29c8f90ea03"
    },
    {
      "cell_type": "code",
      "execution_count": 49,
      "metadata": {},
      "outputs": [],
      "source": [
        "# Save current model for later use\n",
        "\n",
        "model.wv.save_word2vec_format('resources/word2vec.txtlab_Novel150_English.txt')\n",
        "#model.save_word2vec_format('resources/word2vec.txtlab_Novel150_English.txt') # deprecated"
      ],
      "id": "37651cde"
    },
    {
      "cell_type": "code",
      "execution_count": 50,
      "metadata": {},
      "outputs": [],
      "source": [
        "# Load up models from disk\n",
        "\n",
        "# Model trained on Eighteenth Century Collections Online corpus (~2500 texts)\n",
        "# Made available by Ryan Heuser: http://ryanheuser.org/word-vectors-1/\n",
        "\n",
        "ecco_model = gensim.models.KeyedVectors.load_word2vec_format('resources/word2vec.ECCO-TCP.txt')\n",
        "#ecco_model = gensim.models.Word2Vec.load_word2vec_format('resources/word2vec.ECCO-TCP.txt') # deprecated"
      ],
      "id": "ddbbde07"
    },
    {
      "cell_type": "code",
      "execution_count": 51,
      "metadata": {},
      "outputs": [],
      "source": [
        "# What are similar words to BANK?\n",
        "\n",
        "ecco_model.most_similar('bank')"
      ],
      "id": "c0189886"
    },
    {
      "cell_type": "code",
      "execution_count": 52,
      "metadata": {},
      "outputs": [],
      "source": [
        "# What if we remove the sense of \"river bank\"?\n",
        "\n",
        "ecco_model.most_similar(positive=['bank'], negative=['river'])"
      ],
      "id": "979881b6"
    },
    {
      "cell_type": "markdown",
      "metadata": {},
      "source": [
        "## Exercises!"
      ],
      "id": "257e26af-8423-4257-ab12-dfd95afedf7d"
    },
    {
      "cell_type": "code",
      "execution_count": 53,
      "metadata": {},
      "outputs": [],
      "source": [
        "## EX. Use the most_similar method to find the tokens nearest to 'car' in either model.\n",
        "##     Do the same for 'motorcar'.\n",
        "\n",
        "## Q.  What characterizes these two words inthe corpus? Does this make sense?"
      ],
      "id": "a965fa96"
    },
    {
      "cell_type": "code",
      "execution_count": 54,
      "metadata": {},
      "outputs": [],
      "source": [
        "## EX. How does our model answer the analogy: MADRID is to SPAIN as PARIS is to __________\n",
        "\n",
        "## Q.  What has our model learned about nation-states?"
      ],
      "id": "4ec6364f"
    },
    {
      "cell_type": "code",
      "execution_count": 55,
      "metadata": {},
      "outputs": [],
      "source": [
        "## EX. Perform the canonic Word2Vec addition again but leave out a term:\n",
        "##     Try 'king' - 'man', 'woman' - 'man', 'woman' + 'king'\n",
        "\n",
        "## Q.  What do these indicate semantically?"
      ],
      "id": "fe59b925"
    },
    {
      "cell_type": "code",
      "execution_count": 56,
      "metadata": {},
      "outputs": [],
      "source": [
        "## EX. Heuser's blog post explores an analogy in eighteenth-century thought that\n",
        "##     RICHES are to VIRTUE what LEARNING is to GENIUS. How true is this in\n",
        "##     the ECCO-trained Word2Vec model? Is it true in the one we trained?\n",
        "\n",
        "##  Q. How might we compare word2vec models more generally?"
      ],
      "id": "787650d7"
    },
    {
      "cell_type": "code",
      "execution_count": 57,
      "metadata": {},
      "outputs": [],
      "source": [
        "# ECCO model: RICHES are to VIRTUE what LEARNING is to ??"
      ],
      "id": "8ed3517a"
    },
    {
      "cell_type": "code",
      "execution_count": 58,
      "metadata": {},
      "outputs": [],
      "source": [
        "# txtLab model: RICHES are to VIRTUE what LEARNING is to ??"
      ],
      "id": "676a028d"
    },
    {
      "cell_type": "markdown",
      "metadata": {},
      "source": [
        "# 4. Open Questions\n",
        "\n",
        "At this point, we have seen a number of mathemetical operations that we\n",
        "may use to explore word2vec’s word embeddings. These enable us to answer\n",
        "a set of new, interesting questions dealing with semantics, yet there\n",
        "are many other questions that remain unanswered.\n",
        "\n",
        "For example:"
      ],
      "id": "edcae15a-c1e6-47c5-bb4b-a30e46cf1ed4"
    },
    {
      "cell_type": "raw",
      "metadata": {
        "raw_mimetype": "text/html"
      },
      "source": [
        "<ol>"
      ],
      "id": "fc44b2c3-8b76-4b39-906c-9c3ffc99b71b"
    },
    {
      "cell_type": "raw",
      "metadata": {
        "raw_mimetype": "text/html"
      },
      "source": [
        "<li>"
      ],
      "id": "e6eae88c-9895-419b-8c18-d08522defaa4"
    },
    {
      "cell_type": "markdown",
      "metadata": {},
      "source": [
        "How to compare word usages in different texts (within the same model)?"
      ],
      "id": "993b2aab-ff7c-435a-9395-4361c313872c"
    },
    {
      "cell_type": "raw",
      "metadata": {
        "raw_mimetype": "text/html"
      },
      "source": [
        "</li>"
      ],
      "id": "729b238f-593a-4eed-9da2-22365dcc4af8"
    },
    {
      "cell_type": "raw",
      "metadata": {
        "raw_mimetype": "text/html"
      },
      "source": [
        "<li>"
      ],
      "id": "d9597731-c4e6-41a5-a045-278201d9eab1"
    },
    {
      "cell_type": "markdown",
      "metadata": {},
      "source": [
        "How to compare word meanings in different models? compare whole models?"
      ],
      "id": "95001228-bc76-4f4d-bf4a-523e24824f6a"
    },
    {
      "cell_type": "raw",
      "metadata": {
        "raw_mimetype": "text/html"
      },
      "source": [
        "</li>"
      ],
      "id": "31f51af0-39ec-4619-b403-e65315818fa6"
    },
    {
      "cell_type": "raw",
      "metadata": {
        "raw_mimetype": "text/html"
      },
      "source": [
        "<li>"
      ],
      "id": "11371704-420f-4d7e-92cd-d58f233cdb5b"
    },
    {
      "cell_type": "markdown",
      "metadata": {},
      "source": [
        "What about the space “in between” words?"
      ],
      "id": "74fb24be-f703-4cd8-a9af-4b7088dc5439"
    },
    {
      "cell_type": "raw",
      "metadata": {
        "raw_mimetype": "text/html"
      },
      "source": [
        "</li>"
      ],
      "id": "92081cc1-cc0e-4429-831a-1496a12cb4bd"
    },
    {
      "cell_type": "raw",
      "metadata": {
        "raw_mimetype": "text/html"
      },
      "source": [
        "<li>"
      ],
      "id": "73175b78-19fe-46c0-9ed7-634792d0dc10"
    },
    {
      "cell_type": "markdown",
      "metadata": {},
      "source": [
        "Do we agree with the Distributional Hypothesis that words with the same\n",
        "contexts share their meanings?"
      ],
      "id": "a64ea510-d91f-4c21-8b75-47832a3c7c49"
    },
    {
      "cell_type": "raw",
      "metadata": {
        "raw_mimetype": "text/html"
      },
      "source": [
        "</li>"
      ],
      "id": "e1114b8a-b7c5-4974-aaec-53ef80858618"
    },
    {
      "cell_type": "raw",
      "metadata": {
        "raw_mimetype": "text/html"
      },
      "source": [
        "<ol>"
      ],
      "id": "1a903bb6-03d6-44df-abc1-3e40ecdd0c84"
    },
    {
      "cell_type": "raw",
      "metadata": {
        "raw_mimetype": "text/html"
      },
      "source": [
        "<li>"
      ],
      "id": "35534885-5199-47bc-9417-05c0bf2a00c4"
    },
    {
      "cell_type": "markdown",
      "metadata": {},
      "source": [
        "If not, then what information do we think is encoded in a word’s\n",
        "context?"
      ],
      "id": "45888388-f316-4cdd-9945-87ff95d73931"
    },
    {
      "cell_type": "raw",
      "metadata": {
        "raw_mimetype": "text/html"
      },
      "source": [
        "</li>"
      ],
      "id": "3f78d5d6-f42c-4458-872f-1fc10cd20a6f"
    },
    {
      "cell_type": "raw",
      "metadata": {
        "raw_mimetype": "text/html"
      },
      "source": [
        "</ol>"
      ],
      "id": "36b8a07a-0795-4eec-a16b-5d60e07a79aa"
    },
    {
      "cell_type": "raw",
      "metadata": {
        "raw_mimetype": "text/html"
      },
      "source": [
        "<li>"
      ],
      "id": "1c749e8a-e439-4ce6-b599-7daf8558f4db"
    },
    {
      "cell_type": "markdown",
      "metadata": {},
      "source": [
        "What good, humanistic research questions do analogies shed light on?"
      ],
      "id": "2782e17b-a989-4708-964b-1b9fd9359878"
    },
    {
      "cell_type": "raw",
      "metadata": {
        "raw_mimetype": "text/html"
      },
      "source": [
        "</li>"
      ],
      "id": "172a4ac9-38f1-46c2-b564-6dd4174fb45e"
    },
    {
      "cell_type": "raw",
      "metadata": {
        "raw_mimetype": "text/html"
      },
      "source": [
        "<ol>"
      ],
      "id": "b9e0fb62-dfb0-43df-b5b2-76179ff56afd"
    },
    {
      "cell_type": "raw",
      "metadata": {
        "raw_mimetype": "text/html"
      },
      "source": [
        "<li>"
      ],
      "id": "44a44945-5471-4030-84ad-0e4c9ef6391b"
    },
    {
      "cell_type": "markdown",
      "metadata": {},
      "source": [
        "shades of meaning?"
      ],
      "id": "61f48955-6a0a-44cf-8346-fa4e16dd642c"
    },
    {
      "cell_type": "raw",
      "metadata": {
        "raw_mimetype": "text/html"
      },
      "source": [
        "</li>"
      ],
      "id": "08dd28f1-a638-47a9-88d3-33351359d167"
    },
    {
      "cell_type": "raw",
      "metadata": {
        "raw_mimetype": "text/html"
      },
      "source": [
        "<li>"
      ],
      "id": "3ea5bf66-53c3-4c79-85c7-7ac57e8ef8bc"
    },
    {
      "cell_type": "markdown",
      "metadata": {},
      "source": [
        "context similarity?"
      ],
      "id": "5f686432-4dd0-45f4-960b-efb45e0abed0"
    },
    {
      "cell_type": "raw",
      "metadata": {
        "raw_mimetype": "text/html"
      },
      "source": [
        "</li>"
      ],
      "id": "41a434d6-af33-48bd-9e5b-967404ca75f8"
    },
    {
      "cell_type": "raw",
      "metadata": {
        "raw_mimetype": "text/html"
      },
      "source": [
        "</ol>"
      ],
      "id": "ec2282f5-1f18-4ed4-b4e5-265786e9c712"
    },
    {
      "cell_type": "raw",
      "metadata": {
        "raw_mimetype": "text/html"
      },
      "source": [
        "</ol>"
      ],
      "id": "ea7c4c5a-63e0-474c-aefd-559311a3ba30"
    }
  ],
  "nbformat": 4,
  "nbformat_minor": 5,
  "metadata": {
    "kernelspec": {
      "name": "python3",
      "display_name": "Python 3 (ipykernel)",
      "language": "python",
      "path": "/usr/local/share/jupyter/kernels/python3"
    },
    "language_info": {
      "name": "python",
      "codemirror_mode": {
        "name": "ipython",
        "version": "3"
      },
      "file_extension": ".py",
      "mimetype": "text/x-python",
      "nbconvert_exporter": "python",
      "pygments_lexer": "ipython3",
      "version": "3.10.12"
    }
  }
}