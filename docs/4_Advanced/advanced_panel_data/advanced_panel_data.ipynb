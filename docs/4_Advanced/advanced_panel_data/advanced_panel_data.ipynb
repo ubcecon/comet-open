{
  "cells": [
    {
      "cell_type": "markdown",
      "metadata": {},
      "source": [
        "# 3.11 - Advanced - Panel Data\n",
        "\n",
        "COMET Team <br> *Jane Platt*  \n",
        "2024-07-26\n",
        "\n",
        "This notebook will cover:\n",
        "\n",
        "1.  How to identify panel data.\n",
        "2.  Why panel data is useful.\n",
        "3.  Fixed effects.\n",
        "4.  Panel regressions.\n",
        "5.  Common issues with panel data.\n",
        "\n",
        "This notebook assumes you are familiar with and draws on concepts\n",
        "covered in:\n",
        "\n",
        "1.  Introduction to Jupyter.\n",
        "2.  Introduction to R.\n",
        "3.  Introduction to Data.\n",
        "4.  Expectations and Summary Statistics.\n",
        "5.  Regression Analysis.\n",
        "\n",
        "This module will go over how to run regressions with panel data using a\n",
        "real-world dataset. The data comes from a previous COMET module which\n",
        "used information on electricity usage, GDP per sector, pollution, and\n",
        "population, all for the purpose of a final project. We will be using the\n",
        "merged dataset from this module. If you would like to learn more about\n",
        "how the dataset was created, you can find more information\n",
        "[here](https://comet.arts.ubc.ca/docs/Projects/projects_example_project_econ326/Projects_Example_Project_ECON326.html).\n",
        "\n",
        "## What is Panel Data?\n",
        "\n",
        "So far, we have seen how to run regressions with two different types of\n",
        "data: cross-sectional and time series.\n",
        "\n",
        "-   **Cross-sectional data** contain information on multiple\n",
        "    observations at a single moment in time.\n",
        "-   **Time series data** contain information for a single observation\n",
        "    over multiple time periods.\n",
        "\n",
        "In this module, we will introduce regressions using the third data type\n",
        "we have seen: **panel data**. **Panel data** contain both multiple\n",
        "observations both and multiple time periods. Therefore, each observation\n",
        "has both a unit $i$ and time $t$ index. Panel data can be either\n",
        "balanced or unbalanced.\n",
        "\n",
        "-   Balanced panel data includes observations for *all* $N$ units over\n",
        "    *all* $T$ included time periods. As a result, our data set in total\n",
        "    will have $n = N*T$ observations.\n",
        "-   Unbalanced panel data does *not* include observations for all $N$\n",
        "    units over all $T$ included time periods. This could happen, for\n",
        "    example, if some units drop out. Thus, unbalanced panel data\n",
        "    necessarily has $n < N*T$ observations.\n",
        "\n",
        "### Preparing Panel Data\n",
        "\n",
        "Before using panel data to run regressions and conduct empirical\n",
        "analyses, the data needs to be prepared specifically for a panel\n",
        "analysis. To do this, we need to identify both the panel variable and\n",
        "the time variable. Then, we can specify that to R and run our\n",
        "regressions!\n",
        "\n",
        "Let’s start first by loading the packages we’ll need for this module. To\n",
        "work with panel data, we need to install the `plm` package. This allows\n",
        "us to tell R we are using panel data as well as run panel regressions."
      ],
      "id": "4beb244f-0aac-437d-b6e6-86883072d5a9"
    },
    {
      "cell_type": "code",
      "execution_count": null,
      "metadata": {},
      "outputs": [],
      "source": [
        "# Clear the workspace\n",
        "rm(list = ls())\n",
        "\n",
        "# Load packages\n",
        "library(tidyverse)\n",
        "library(stargazer)\n",
        "library(plm)\n",
        "library(fixest)\n",
        "\n",
        "# Load self-tests\n",
        "source('../Advanced/advanced_panel_data/advanced_panel_data_tests.r')"
      ],
      "id": "4c5c21a6-d0db-4603-b16b-2d3e2a14be3c"
    },
    {
      "cell_type": "markdown",
      "metadata": {},
      "source": [
        "As mentioned above, we’re going to use the dataset created in a previous\n",
        "COMET module. Luckily, this data was saved in the current folder as\n",
        "“CO2_data”. Let’s import it and take a quick look at what we’re working\n",
        "with."
      ],
      "id": "1ff66b85-b5ed-48ce-b846-70db9d889ddd"
    },
    {
      "cell_type": "code",
      "execution_count": null,
      "metadata": {},
      "outputs": [],
      "source": [
        "# Import data\n",
        "CO2_data <- read.csv(\"../Advanced/advanced_panel_data/CO2_data.csv\")\n",
        "\n",
        "# Get a quick summary\n",
        "glimpse(CO2_data)"
      ],
      "id": "f9a56769-25e6-4768-9693-513718ee80e7"
    },
    {
      "cell_type": "markdown",
      "metadata": {},
      "source": [
        "As we can see, we have a handful of variables, like *GDP* which lists\n",
        "the provincial GDP in Canadian dollars and *electricity* which indicates\n",
        "the total electricity generated in megawatt hours. To find out more\n",
        "information on the variables we have access to, you can go look at the\n",
        "module where we introduced these datasets,\n",
        "[here](https://comet.arts.ubc.ca/docs/Projects/projects_example_project_econ326/Projects_Example_Project_ECON326.html).\n",
        "\n",
        "One important thing to notice is that we have a variable *province*\n",
        "which is observed for once each year of the *year* variable (from 2009\n",
        "to 2020). These will be our **panel** and **time** variables. Looking at\n",
        "these variables, we have 13 unique values for *province* and 12 unique\n",
        "values for *year*. If we have a balanced panel, i.e. all of our\n",
        "provinces are recorded in each time period, we should have $N*T=156$\n",
        "rows in our dataset. Let’s check that below:"
      ],
      "id": "8787a2be-80cf-4386-ad3b-53c19c91f023"
    },
    {
      "cell_type": "code",
      "execution_count": null,
      "metadata": {},
      "outputs": [],
      "source": [
        "nrow(CO2_data)"
      ],
      "id": "dd7b412b-6825-454a-ad88-c564ee7037d3"
    },
    {
      "cell_type": "markdown",
      "metadata": {},
      "source": [
        "Looks good! Before we can tell R that we are using panel data, let’s\n",
        "clean up our dataset a bit. First, we’ll want our province variable to\n",
        "be a factor to facilitate analysis."
      ],
      "id": "3229e5c7-2091-4de9-8fc7-85db392744eb"
    },
    {
      "cell_type": "code",
      "execution_count": null,
      "metadata": {},
      "outputs": [],
      "source": [
        "CO2_data_clean  <- CO2_data  %>%\n",
        "  mutate(province = case_when(\n",
        "    province == \"Newfoundland and Labrador\" ~ \"1\",\n",
        "    province == \"Prince Edward Island\" ~ \"2\",\n",
        "    province == \"Nova Scotia\" ~ \"3\",\n",
        "    province == \"New Brunswick\" ~ \"4\",\n",
        "    province == \"Quebec\" ~ \"5\",\n",
        "    province == \"Ontario\" ~ \"6\",\n",
        "    province == \"Manitoba\" ~ \"7\",\n",
        "    province == \"Saskatchewan\" ~ \"8\",\n",
        "    province == \"Alberta\" ~ \"9\",\n",
        "    province == \"British Columbia\" ~ \"10\",\n",
        "    province == \"Yukon\" ~ \"11\",\n",
        "    province == \"Northwest Territories\" ~ \"12\",\n",
        "    province == \"Nunavut\" ~ \"13\",\n",
        "  )) %>%\n",
        "  mutate(province = as_factor(province))"
      ],
      "id": "f9bc7c0f-ec22-425c-955d-0f2f85912fb2"
    },
    {
      "cell_type": "markdown",
      "metadata": {},
      "source": [
        "We should also transform some of our variables to per capita rather than\n",
        "absolute values."
      ],
      "id": "8e3fff97-3c85-4706-bb28-27410802fb57"
    },
    {
      "cell_type": "code",
      "execution_count": null,
      "metadata": {},
      "outputs": [],
      "source": [
        "CO2_data_clean$gdp_pc <- (CO2_data_clean$GDP/CO2_data_clean$population)*1000000\n",
        "    # GDP is in millions, so we need to multiply by 1,000,000"
      ],
      "id": "65a04baa-c09e-49aa-a699-3f301d94e5db"
    },
    {
      "cell_type": "markdown",
      "metadata": {},
      "source": [
        "> **Think deeper**: Why would we want to make these transformations? Why\n",
        "> shouldn’t we just continue using the raw absolute values for these\n",
        "> variables?\n",
        "\n",
        "Looks good! The last step will be to order our data by *province* and\n",
        "*year*."
      ],
      "id": "6e5878ad-4e8f-44e9-ba3c-2fc2e74c503f"
    },
    {
      "cell_type": "code",
      "execution_count": null,
      "metadata": {},
      "outputs": [],
      "source": [
        "CO2_data_clean <- CO2_data_clean %>% arrange(province, year)"
      ],
      "id": "cebe0439-97a3-434d-abfe-533df187d435"
    },
    {
      "cell_type": "markdown",
      "metadata": {},
      "source": [
        "Let’s now tell R we are using panel data. We’ll do using the function\n",
        "`pdata.frame()` from the package `plm`, which takes the following\n",
        "syntax:\n",
        "\n",
        "``` r\n",
        "pdata.frame(data, index = c(\"panel_var\", \"time_var\"))\n",
        "```\n",
        "\n",
        "> **Note**: When using the `pdata.frame()` function, R assumes that your\n",
        "> data is sorted by panel variable first, then by time variable. Make\n",
        "> sure you properly sort your data before converting it to panel data.\n",
        "\n",
        "Let’s use the `pdata.frame()` function with our dataset:"
      ],
      "id": "9595cc8f-ffeb-41e8-80e8-3a74343dfa3a"
    },
    {
      "cell_type": "code",
      "execution_count": null,
      "metadata": {},
      "outputs": [],
      "source": [
        "CO2_data_panel <- pdata.frame(CO2_data_clean, index = c(\"province\", \"year\"))"
      ],
      "id": "6270de90-d5d7-4511-b4ca-cf86ffd284bf"
    },
    {
      "cell_type": "markdown",
      "metadata": {},
      "source": [
        "To be safe, we’ll check that we have properly converted our data. We can\n",
        "use the `pdim()` function. This tells us whether we have a balanced\n",
        "panel, how many unique values our panel variable has, and how many\n",
        "unique values our time variable has."
      ],
      "id": "65bf40ab-f2b3-44a0-8b94-df561537e359"
    },
    {
      "cell_type": "code",
      "execution_count": null,
      "metadata": {},
      "outputs": [],
      "source": [
        "pdim(CO2_data_panel)"
      ],
      "id": "7f1a293e-3ee9-4d20-a72c-eb35f5f23e1f"
    },
    {
      "cell_type": "markdown",
      "metadata": {},
      "source": [
        "As we can see, all of our information carried over! We’re ready to start\n",
        "running regressions with panel data. Before that, let’s go over some of\n",
        "the theory behind why panel data is so useful.\n",
        "\n",
        "## Panel Data Theory\n",
        "\n",
        "To understand why we use panel data, consider the following example\n",
        "which uses our `CO2_data_panel` dataset.\n",
        "\n",
        "As we know from the data, we observe 13 provinces, which we will index\n",
        "by $i=1,2,...,13$. Let’s imagine now that we only have two time periods,\n",
        "$t=2009$ and $t=2020$, and we want to know the change in the CO2\n",
        "emissions between these two time periods caused by changes in GDP per\n",
        "capita. We will estimate the following regression for each time period:\n",
        "\n",
        "$$\n",
        "{CO_{2}}_{it} = \\beta_{0} + \\beta_{1}GDPpc_{it} + \\beta_{2}Z_{i} + e_{it}\n",
        "$$\n",
        "\n",
        "where ${CO_{2}}_{it}$ is the amount of CO2 emissions in kilotons in\n",
        "province $i$ at time $t$, $GDPpc_{it}$ indicates the GDP per capita in\n",
        "province $i$ at time $t$, $Z_{i}$ represents all **fixed** province\n",
        "characteristics that *do not change over time*, such as geographic\n",
        "characteristics, and $e_{it}$ represents the error term. For each\n",
        "period, we will have\n",
        "\n",
        "$$\n",
        "{CO_{2}}_{i,2009} = \\beta_{0} + \\beta_{1}GDPpc_{i,2009} + \\beta_{2}Z_{i} + e_{i,2009} \\tag{1}\n",
        "$$ $$\n",
        "{CO_{2}}_{i,2020} = \\beta_{0} + \\beta_{1}GDPpc_{i,2020} + \\beta_{2}Z_{i} + e_{i,2020} \\tag{2}\n",
        "$$\n",
        "\n",
        "If we take the difference between these two equations to get the change\n",
        "in CO2 emission between 2009 and 2020, we get\n",
        "\n",
        "$$\n",
        "{CO_{2}}_{i,2020} - {CO_{2}}_{i,2009} = (\\beta_{0} - \\beta_{0}) + \\beta_{1}(GDPpc_{i,2020} - GDPpc_{i,2009}) + \\beta_{2}Z_{i} - \\beta_{2}Z_{i} + e_{i,2020} - e_{i,2009}\n",
        "$$\n",
        "\n",
        "Notice that in doing this, the time-invariant province characteristics\n",
        "($Z_{i}$) drop out of the regression! We have managed to calculate the\n",
        "change in CO2 emissions over time, robust to fixed provincial\n",
        "characteristics.\n",
        "\n",
        "### Fixed Effects\n",
        "\n",
        "Often, we will want to study more than just two time periods. Going back\n",
        "to our original regression, we have\n",
        "\n",
        "$$\n",
        "{CO_{2}}_{it} = \\beta_{0} + \\beta_{1}GDPpc_{it} + \\beta_{2}Z_{i} + e_{it}.\n",
        "$$\n",
        "\n",
        "Let’s define\n",
        "\n",
        "$$\n",
        "\\alpha_{i} = \\beta_{0} + \\beta_{2}Z_{i},\n",
        "$$\n",
        "\n",
        "which gives us\n",
        "\n",
        "$$\n",
        "{CO_{2}}_{it} = \\beta_{1}GDPpc_{it} + \\alpha_{i} + e_{it}. \\tag{3}\n",
        "$$\n",
        "\n",
        "Consider what happens when we take the average of CO2 emissions\n",
        "${CO_{2}}$ over time:\n",
        "\n",
        "$$\n",
        "\\frac{1}{T}{\\sum_{t}}{CO_{2}}_{it} = \\beta_{1}\\frac{1}{T}\\sum_{t}GDPpc_{it} + \\frac{1}{T}\\sum_{t}\\alpha_{i} + \\frac{1}{T}\\sum_{t}e_{it}\n",
        "$$\n",
        "\n",
        "We can alternatively write the sums as follows:\n",
        "\n",
        "$$\n",
        "\\overline{CO_{2}}_{i} = \\beta_{1}\\overline{GDP}_{i} + \\overline{\\alpha}_{i} + \\overline{e}_{i} \\tag{4}\n",
        "$$\n",
        "\n",
        "Notice, however, that $\\alpha_{i}$ is not indexed over time: it does not\n",
        "change over time for a fixed province $i$. Hence,\n",
        "$\\overline{\\alpha}_{i} = \\alpha_{i}$. We can therefore subtract the two\n",
        "province level means from the original equation to get:\n",
        "\n",
        "$$\n",
        "{CO_{2}}_{it} - \\overline{CO_{2}}_{i} = \\beta_{1}(GDPpc_{it}-\\overline{GDP}_{i}) + (e_{it} - \\overline{e}_{i})  + \\underbrace{ \\alpha_{i} - \\overline{\\alpha}_{i}  }_\\text{equals zero!} \n",
        "$$\n",
        "\n",
        "$$\n",
        "\\widetilde{CO_{2}}_{i} = \\beta_{1}\\widetilde{GDPpc_{it}} + \\widetilde{e_{it}} \\tag{5}\n",
        "$$\n",
        "\n",
        "Therefore, we are able to get rid of the unobserved heterogeneity in\n",
        "provincial emissions trends, and focus solely on the effect of GDP per\n",
        "capita, by “de-meaning” our regression! This is extremely useful if we\n",
        "think that there are some sort of unobserved shocks that are creating\n",
        "endogeneity. For example, if one province has more renewable resources,\n",
        "it may systematically use less CO2 and have fewer emissions. This would\n",
        "create a source of endogeneity, and bias our coefficients. By including\n",
        "province fixed effects, we successfully remove these time-invariant\n",
        "characteristics from the regression.\n",
        "\n",
        "## Regressions with Panel Data\n",
        "\n",
        "Running regressions with panel data is quite simple. We just replace the\n",
        "`lm` function with `plm`, and we can specify additional options\n",
        "(discussed later).\n",
        "\n",
        "Let’s run a very basic regression using the `plm` function. We’ll\n",
        "regress CO2 emissions on GDP per capita."
      ],
      "id": "173d02b3-dbd3-4c38-9b1e-2745faf262b6"
    },
    {
      "cell_type": "code",
      "execution_count": null,
      "metadata": {},
      "outputs": [],
      "source": [
        "simple <- plm(CO2 ~ gdp_pc, data=CO2_data_panel)\n",
        "stargazer(simple, type=\"text\")"
      ],
      "id": "ce5b2069-1c51-436f-a154-b891e38baef0"
    },
    {
      "cell_type": "markdown",
      "metadata": {},
      "source": [
        "The interpretation of coefficients in panel regressions is similar to\n",
        "the interpretation of basic OLS regressions. The results from the\n",
        "regression above tell us that an increase of one million dollars in GDP\n",
        "per capita leads to an increase of 0.493 kilotons of CO2 emissions.\n",
        "\n",
        "This model is almost certainly incorrect, though, because we only\n",
        "included the bare minimum in terms of coefficients. We didn’t include\n",
        "any covariates, and we also didn’t control for time-invariant\n",
        "characteristics that might affect CO2 emissions and GDP per capita, such\n",
        "as geography (as we discussed above). Recall that one solution we\n",
        "discussed was the use of fixed effects, which panel data is particularly\n",
        "useful for. Below, we’ll dive into how to run regressions with fixed\n",
        "effects in R.\n",
        "\n",
        "### Regressions with Fixed Effects\n",
        "\n",
        "In this section, we will work through the theory discussed previously\n",
        "using our the real-world data we imported earlier to see how the theory\n",
        "holds up in real life.\n",
        "\n",
        "Let’s start by running equations $1$ and $2$ to try to understand the\n",
        "general relationship between these two variables.\n",
        "\n",
        "> **Think Deeper**: Why might we suspect that relationships exist\n",
        "> between these variables? Is this consistent with economic theory? How\n",
        "> would these relationships relate to your own experience?"
      ],
      "id": "978039d3-22f0-400c-bd18-f902d3d54205"
    },
    {
      "cell_type": "code",
      "execution_count": null,
      "metadata": {},
      "outputs": [],
      "source": [
        "# Generate 2009 and 2020 datasets\n",
        "data_09 <- subset(CO2_data_panel, year == \"2009\")\n",
        "data_20 <- subset(CO2_data_panel, year == \"2020\")\n",
        "\n",
        "# Estimate simple regression models using 2009 and 2020 data\n",
        "model1 <- lm(CO2 ~ gdp_pc, data = data_09)\n",
        "model2 <- lm(CO2 ~ gdp_pc, data = data_20)"
      ],
      "id": "081ff916-9b26-416f-a50a-e3b5b04e4eee"
    },
    {
      "cell_type": "code",
      "execution_count": null,
      "metadata": {},
      "outputs": [],
      "source": [
        "# Generate differences between 2009 and 2020\n",
        "diff_co2 <- data_20$CO2 - data_09$CO2\n",
        "diff_gdp <- data_20$gdp_pc - data_09$gdp_pc\n",
        "\n",
        "# Estimate simple regression using differenced data\n",
        "model3 <- lm(diff_co2 ~ diff_gdp)"
      ],
      "id": "09ba7164-8be6-4e25-b2d7-2a715f921097"
    },
    {
      "cell_type": "markdown",
      "metadata": {},
      "source": [
        "Let’s take a look at the results from the three previous regressions."
      ],
      "id": "04150906-7c5d-41bd-b793-e9609e1e3f3d"
    },
    {
      "cell_type": "code",
      "execution_count": null,
      "metadata": {},
      "outputs": [],
      "source": [
        "stargazer(model1, model2, model3,\n",
        "            type = \"text\")"
      ],
      "id": "d5a91f9e-465c-4797-b1b3-978718c076b3"
    },
    {
      "cell_type": "markdown",
      "metadata": {},
      "source": [
        "What this tells us is that when provinces increase their GDP per capita\n",
        "by 1 million dollars, CO2 emissions increase by 0.1933 kilotons in 2009\n",
        "and by 0.205 kilotons in 2020. The effect of GDP per capita on CO2\n",
        "emissions has decreased over time, as is evidenced by the negative\n",
        "coefficient on *diff_gdp*.\n",
        "\n",
        "Notice that when doing this, we find small, statistically insignificant\n",
        "results. This may be due to omitted variables. However, it is also\n",
        "possible that this is because we only included two years in our\n",
        "regression. There may be things that are correlated with both CO2\n",
        "emissions and GDP per capita which also change over time.\n",
        "\n",
        "As we saw in the panel data theory section, we are able to include\n",
        "multiple time periods using fixed effects. We did this in equations\n",
        "$3, 4,$ and $5$. Let’s start by simply running equation $3$, where we\n",
        "have province fixed effects and no constant."
      ],
      "id": "d7f73a0b-3abd-4202-9ffa-e0f104ce945c"
    },
    {
      "cell_type": "code",
      "execution_count": null,
      "metadata": {},
      "outputs": [],
      "source": [
        "# We include province fixed effects by adding the province variable to the regression, and we remove the constant by including \"- 1\"\n",
        "model4 <- lm(CO2 ~ gdp_pc + province - 1, data = CO2_data_panel)\n",
        "stargazer(model4, type=\"text\")"
      ],
      "id": "6ebb6329-2a1d-4574-a2ce-2c4f3da104e7"
    },
    {
      "cell_type": "markdown",
      "metadata": {},
      "source": [
        "When we include *province* in the regression, R automatically creates a\n",
        "series of dummy variables for each province and includes all but one of\n",
        "them in the regression (to avoid the dummy variable trap).\n",
        "\n",
        "Now, we have a coefficient of 0.379 that is statistically significant.\n",
        "This tells us that when provinces increase their GDP per capita by 1\n",
        "million dollars, CO2 emissions increase by 0.379 kilotons. This is much\n",
        "larger than what we found before!\n",
        "\n",
        "> **Think deeper**: Does this coefficient make sense? Is it what you\n",
        "> would expect the relationship between GDP and emissions to be?\n",
        "\n",
        "Next, let’s attempt to do this by “de-meaning”, which is what we did in\n",
        "equations $4$ and $5$. To do this, we’ll need to calculate the averages\n",
        "for *CO2* and *gdp_pc* by province over all of the years we have in our\n",
        "dataset. Then, we can run regressions using the de-meaned values of\n",
        "*CO2* and *gdp_pc*."
      ],
      "id": "3aa22fd9-6d84-4f8e-87e8-1e0e3ba4deb4"
    },
    {
      "cell_type": "code",
      "execution_count": null,
      "metadata": {},
      "outputs": [],
      "source": [
        "# Generate the average variables\n",
        "CO2_data_panel  <- CO2_data_panel  %>%\n",
        "  group_by(province) %>%\n",
        "    mutate(\n",
        "        avg_co2 = mean(CO2, na.rm = TRUE),\n",
        "        avg_gdp_pc = mean(gdp_pc, na.rm = TRUE)\n",
        "        )\n",
        "\n",
        "# Generate the difference variables \n",
        "CO2_data_panel  <- CO2_data_panel  %>%\n",
        "  group_by(province) %>%\n",
        "    mutate(\n",
        "        co2_demean = CO2 - avg_co2,\n",
        "        gdp_demean = gdp_pc - avg_gdp_pc\n",
        "        )"
      ],
      "id": "6484515b-6fe8-4434-9a06-d9aa2e1208bf"
    },
    {
      "cell_type": "code",
      "execution_count": null,
      "metadata": {},
      "outputs": [],
      "source": [
        "# Run the de-meaned regressions\n",
        "demeaned <- lm(co2_demean ~ gdp_demean, data = CO2_data_panel)\n",
        "stargazer(demeaned, type=\"text\")"
      ],
      "id": "5e8829cd-22e7-4d86-a69d-a24ff1a482e1"
    },
    {
      "cell_type": "markdown",
      "metadata": {},
      "source": [
        "As you can see, we have found the same coefficient! In running the\n",
        "de-meaned regression, we eliminate time-invariant provincial\n",
        "characteristics while also accounting for multiple time periods,\n",
        "bringing us closer to a more accurate coefficient.\n",
        "\n",
        "Finally, we can also analyze panel data with fixed effects. There are\n",
        "two ways to do this. We can do what we did for model 4, where we include\n",
        "*province* dummies, but this gives us a very large table with much more\n",
        "information than we need. An alternative method is to use the `plm`\n",
        "function and add the option `model=\"within\"`. This tells R that we are\n",
        "using panel data and we want to include fixed effects. Since we already\n",
        "defined our data as being panel data above, R knows to include\n",
        "*province* fixed effects (the panel variable we specified above)."
      ],
      "id": "6faf7cd8-a570-49db-8588-60e1f96f6b50"
    },
    {
      "cell_type": "code",
      "execution_count": null,
      "metadata": {},
      "outputs": [],
      "source": [
        "panel_fe <- plm(CO2 ~ gdp_pc, \n",
        "              data = CO2_data_panel,\n",
        "              model = \"within\")\n",
        "stargazer(panel_fe, type=\"text\")"
      ],
      "id": "c6355e9b-b910-4af3-aa99-3e5873698c16"
    },
    {
      "cell_type": "markdown",
      "metadata": {},
      "source": [
        "As you can see, we get the same result for the coefficient on *gdp_pc*\n",
        "as when we ran our regression using `lm` and adding *province* dummies.\n",
        "Increasing GDP per capita by one million dollars increases CO2 emissions\n",
        "by 0.493 kilotons.\n",
        "\n",
        "### Panel Data Regressions with Random Effects/Pooling\n",
        "\n",
        "There are other models that use panel data that R supports with the\n",
        "`plm` function. For this module, we will go over two examples.\n",
        "\n",
        "The first is the pooled OLS model. This simply applies OLS methodology\n",
        "to panel data. This is the same as running a regular simple regression\n",
        "using `lm`. Try it out yourself below (and compare to our *simple* model\n",
        "from above)!"
      ],
      "id": "dfee2df1-0830-483d-bed6-123377ac2871"
    },
    {
      "cell_type": "code",
      "execution_count": null,
      "metadata": {},
      "outputs": [],
      "source": [
        "pooled <- plm(CO2 ~ gdp_pc, \n",
        "              data = CO2_data_panel,\n",
        "              model = \"pooling\")\n",
        "\n",
        "stargazer(pooled, type=\"text\")"
      ],
      "id": "2db344f9-7115-42ac-8f94-90984d73d65a"
    },
    {
      "cell_type": "markdown",
      "metadata": {},
      "source": [
        "The second is the random effects model. Random effects models assume\n",
        "that the differences between panel variables (in our case, provinces)\n",
        "are random. Let’s see what that gives us below:"
      ],
      "id": "9d890a3d-d80e-4919-b6c5-6de4de25f81d"
    },
    {
      "cell_type": "code",
      "execution_count": null,
      "metadata": {},
      "outputs": [],
      "source": [
        "random <- plm(CO2 ~ gdp_pc, \n",
        "              data = CO2_data_panel,\n",
        "              model = \"random\")\n",
        "stargazer(random, type=\"text\")"
      ],
      "id": "54a70161-3e94-4bd7-9751-5e12a5d1532e"
    },
    {
      "cell_type": "markdown",
      "metadata": {},
      "source": [
        "In this instance, there are little differences between the results of\n",
        "the random model and the pooled model. This is not always the case. One\n",
        "tool that can be used to evaluate which model is preferred is the\n",
        "`phtest`. You can find more information about that\n",
        "[here](https://www.rdocumentation.org/packages/plm/versions/2.6-4/topics/phtest).\n",
        "\n",
        "There are many other options you can specify in the `model` section,\n",
        "such as `between` for between-effects model, `fd` for the\n",
        "first-differences model, and `ht` for the Hausman-Taylor model. All of\n",
        "these models serve different purposes and will lead to slightly\n",
        "different results, so be sure to speak with your instructor or TA before\n",
        "deciding which model you would like to use.\n",
        "\n",
        "### Regressions with Multiple Fixed Effects\n",
        "\n",
        "In the previous regression, we only included province fixed effects.\n",
        "This means that we are controlling for time-invariant province\n",
        "characteristics. Is this the only source of endogeneity? Probably not!\n",
        "There may be factors that have **province-invariant** effects that\n",
        "change over time! For example, if there was an economic shock in a\n",
        "specific year, it will affect all provinces. We can include fixed\n",
        "effects for these as well! This is equivalent to including *year* fixed\n",
        "effects, or a series of *yea* dummies. We could do what we did before\n",
        "using `lm` and adding *year* dummies, but we can also do so very simply\n",
        "with the `plm` function. All we need to do is add the argument\n",
        "`index=c(\"panel_var\",\"time_var\")`, where `panel_var` is our *province*\n",
        "variable, and `time_var` is our *year* variable. Let’s see the results\n",
        "below!"
      ],
      "id": "e8816901-43b1-45e6-b022-eb7f1dbe1ba3"
    },
    {
      "cell_type": "code",
      "execution_count": null,
      "metadata": {},
      "outputs": [],
      "source": [
        "panel_twfe <- plm(CO2 ~ gdp_pc, \n",
        "              data = CO2_data_panel,\n",
        "              index=c(\"province\",\"year\"),\n",
        "              model = \"within\"\n",
        "              )\n",
        "stargazer(panel_twfe, type=\"text\")"
      ],
      "id": "928e9e98-2cdc-45c2-8655-c4d84eb4b06c"
    },
    {
      "cell_type": "markdown",
      "metadata": {},
      "source": [
        "We find the same results as we did when we ran our de-meaned regression!\n",
        "This is because the `plm` function calculates OLS de-meaned regressions.\n",
        "Again, the coefficient on *gdp_pc* is positive, indicating that an\n",
        "increase in GDP per capita by one million dollars leads to an increase\n",
        "in CO2 emissions of 0.379 kilotons.\n",
        "\n",
        "Are these time fixed effects useful? It is worth checking! We can easily\n",
        "do this in R using the `pFtest()` and `plmtest()` functions. Before\n",
        "doing this, we need to save our regressions, which we did above.\n",
        "\n",
        "For the `pFtest()` function, the only inputs we need are the names of\n",
        "the province and the province-year fixed effects models. We include the\n",
        "model with multiple fixed effects first."
      ],
      "id": "64d63ed2-347a-4cc0-908c-6aedfd4622bf"
    },
    {
      "cell_type": "code",
      "execution_count": null,
      "metadata": {},
      "outputs": [],
      "source": [
        "pFtest(panel_twfe, panel_fe)"
      ],
      "id": "20bd8b01-01a2-4808-a169-97b640f24b06"
    },
    {
      "cell_type": "markdown",
      "metadata": {},
      "source": [
        "The null hypothesis of this test is that there are no significant time\n",
        "effects. The p-value we found is less than 0.05, so we can reject the\n",
        "null hypothesis that there are no significant time effects. This\n",
        "suggests that we should include the time fixed effects.\n",
        "\n",
        "For the `plm(test)` function, we only need to include the model without\n",
        "time fixed effects. We add `c(\"time\")` to indicate that we are testing\n",
        "whether time fixed effects are needed, and `type=(\"bp\")` specifies that\n",
        "we want to do a Breusch-Pagan test."
      ],
      "id": "16f33668-6996-4041-9cba-e89d8b809291"
    },
    {
      "cell_type": "code",
      "execution_count": null,
      "metadata": {},
      "outputs": [],
      "source": [
        "plmtest(panel_fe, c(\"time\"), type=(\"bp\"))"
      ],
      "id": "b0ea7ec0-8bcf-4368-9d67-4f903f526a1b"
    },
    {
      "cell_type": "markdown",
      "metadata": {},
      "source": [
        "The null hypothesis of this test is again that there are no significant\n",
        "time effects. Given our p-value is less than 0.05, we reject the null\n",
        "hypothesis and should include the time fixed effects.\n",
        "\n",
        "#### Regressions with **Many** Fixed Effects\n",
        "\n",
        "If we wanted to include more than those two fixed effects, we can use\n",
        "the `feols()` function from the `fixest` package. This function allows\n",
        "us to include many different fixed effects in a regression quite easily.\n",
        "The syntax is very similar to that of the `plm` function. Let’s run the\n",
        "same regression we did above, with province and time fixed effects as\n",
        "well as coordinate fixed effects (*COORDINATE.x*), using the `feols()`\n",
        "function."
      ],
      "id": "c764d0b1-4b2a-48e5-952f-a3c14c051088"
    },
    {
      "cell_type": "code",
      "execution_count": null,
      "metadata": {},
      "outputs": [],
      "source": [
        "multiple_fe <- feols(CO2 ~ gdp_pc | province + year +COORDINATE.x, data = CO2_data_panel)\n",
        "summary(multiple_fe) # stargazer does not support feols"
      ],
      "id": "d8e8e8ed-a78c-479c-bc90-6389b8814ff4"
    },
    {
      "cell_type": "markdown",
      "metadata": {},
      "source": [
        "As we can see, our results change slightly. Now, an increase of GDP per\n",
        "capita by one million dollars leads to a smaller insignificant increase\n",
        "in CO2 emissions by 0.310 kilotons.\n",
        "\n",
        "> **Think deeper**: What other fixed effects might be useful to include\n",
        "> in a regression like this?\n",
        "\n",
        "Take a look at the tables below to compare the regressions we ran above."
      ],
      "id": "ae3d1873-ac48-436f-bba6-7385d73ce5e4"
    },
    {
      "cell_type": "code",
      "execution_count": null,
      "metadata": {},
      "outputs": [],
      "source": [
        "stargazer(simple, model1, model2, model3,  title = \"Intro\", type = \"text\")"
      ],
      "id": "8948ebad-22de-4437-bce1-e83a422effd8"
    },
    {
      "cell_type": "code",
      "execution_count": null,
      "metadata": {},
      "outputs": [],
      "source": [
        "stargazer(model4, demeaned, panel_fe, title = \"Panel Regressions\", type=\"text\")"
      ],
      "id": "9abeda81-298c-4115-8e85-598f46bb9388"
    },
    {
      "cell_type": "code",
      "execution_count": null,
      "metadata": {},
      "outputs": [],
      "source": [
        "stargazer(simple, panel_fe, pooled, random, panel_twfe, title=\"OLS, Fixed Effects, Random Effects Models\", type=\"text\")"
      ],
      "id": "d4164e73-d69d-41d7-aac3-7356e849a1f9"
    },
    {
      "cell_type": "markdown",
      "metadata": {},
      "source": [
        "> *Think deeper*: Which model do you think is the most appropriate for\n",
        "> our question of interest, if any?\n",
        "\n",
        "## Common Issues\n",
        "\n",
        "There are many issues that affect all of our regressions. You can find a\n",
        "detailed discussion of these\n",
        "[here](https://comet.arts.ubc.ca/docs/Intermediate/intermediate_issues_in_regression/intermediate_issues_in_regression.html).\n",
        "It is important to review these, as they apply to panel regressions as\n",
        "well.\n",
        "\n",
        "Specifically, we need to make sure we adjust our standard errors to\n",
        "account for heteroskedasticity. Recall that you can do this using the\n",
        "command `coeftest()`.\n",
        "\n",
        "## Wrap Up\n",
        "\n",
        "There are a few key things to remember from this module:\n",
        "\n",
        "-   Take the time to prepare your data properly. Make sure you know what\n",
        "    your panel variable is and what your time variable is, and indicate\n",
        "    this to R using the `pdata.frame` function.\n",
        "-   Discuss with others before selecting your model. It is important to\n",
        "    have an idea of why you are using fixed effects, random effects, or\n",
        "    any other type of model. Make sure you know why you are using the\n",
        "    model you selected before running regressions.\n",
        "-   Make your standard errors robust to heteroskedasticity and serial\n",
        "    correlation!\n",
        "\n",
        "## Practice\n",
        "\n",
        "#### Exercise 1\n",
        "\n",
        "In this module, we only looked at the relationship between CO2 emissions\n",
        "and GDP per capita. What other variables might impact CO2 emissions?\n",
        "What do you think these relationships would look like?\n",
        "\n",
        "Try running some regressions yourself to test this out. Regress CO2\n",
        "emissions on population and then on electricity usage. Include both\n",
        "provincial and time fixed effects. What do you find? How would you\n",
        "interpret these results? Does this make sense?"
      ],
      "id": "b1af072c-6080-43da-b290-97cc75d38bdb"
    },
    {
      "cell_type": "code",
      "execution_count": null,
      "metadata": {},
      "outputs": [],
      "source": [
        "#CO2 and population\n",
        "question1 <- ???(Y ~ X,\n",
        "                data=CO2_data_panel,\n",
        "                index=c(\"???\", \"???\"),\n",
        "                model = \"???\"\n",
        "               )\n",
        "\n",
        "answer_1 <- round(coef(question1)[[1]], 5)\n",
        "\n",
        "test_1()"
      ],
      "id": "d9659786-4511-4788-aa2b-26589a718cc0"
    },
    {
      "cell_type": "code",
      "execution_count": null,
      "metadata": {},
      "outputs": [],
      "source": [
        "#CO2 and electricity usage\n",
        "question2 <- ???(Y ~ X,\n",
        "                data=CO2_data_panel,\n",
        "                index=c(\"???\", \"???\"),\n",
        "                model = \"???\"\n",
        "               )\n",
        "\n",
        "answer_2 <- coef(question2)[[1]]    \n",
        "\n",
        "test_2()"
      ],
      "id": "2ba83131-f97f-4fd5-a5ad-21daed3a1fcf"
    },
    {
      "cell_type": "markdown",
      "metadata": {},
      "source": [
        "<span style=\"color: red\">Answer in red here!</span>\n",
        "\n",
        "#### Exercise 2\n",
        "\n",
        "The following questions are regarding types of datasets. Type your\n",
        "answers in lowercase with spaces between the words (e.g. you’d write\n",
        "*cross sectional* for cross-sectional data).\n",
        "\n",
        "What type of data is the Canadian Census? The Census collects data from\n",
        "all Canadians, presenting a random sample each year."
      ],
      "id": "39dc5e1f-59a6-4a4a-9a99-9911b972bc97"
    },
    {
      "cell_type": "code",
      "execution_count": null,
      "metadata": {},
      "outputs": [],
      "source": [
        "#Write your answer in the place of X\n",
        "answer_3 <- \"X\"\n",
        "\n",
        "test_3()"
      ],
      "id": "7933f343-9b74-4f0b-9536-616715422560"
    },
    {
      "cell_type": "markdown",
      "metadata": {},
      "source": [
        "What type of data is the public Labour Force Survey (LFS) data? The LFS\n",
        "is a dataset that has information on workers over many years. Each year,\n",
        "a random sample is selected to produce the LFS public dataset."
      ],
      "id": "cd6df0e3-6dc5-4637-84e6-fb02ecc01bb3"
    },
    {
      "cell_type": "code",
      "execution_count": null,
      "metadata": {},
      "outputs": [],
      "source": [
        "#Write your answer in the place of X\n",
        "answer_4 <- \"X\"\n",
        "\n",
        "test_4()"
      ],
      "id": "7b72feec-0eea-4e36-8bfd-b6dc008bf547"
    },
    {
      "cell_type": "markdown",
      "metadata": {},
      "source": [
        "What type of data is the Nurse’s Health Study? It is an observational\n",
        "study which started in 1976 and had a second wave in 1989. The survey\n",
        "follows over 100,000 nurses and collected data on clinical outcomes like\n",
        "blood pressure. They collected data by speaking to nurses that were in\n",
        "hospitals at the time of the survey."
      ],
      "id": "7e64e9dc-627c-4060-a966-412d13f8ae2a"
    },
    {
      "cell_type": "code",
      "execution_count": null,
      "metadata": {},
      "outputs": [],
      "source": [
        "#Write your answer in the place of X\n",
        "answer_5 <- \"X\"\n",
        "\n",
        "test_5()"
      ],
      "id": "06ee0afa-e29c-4bf2-9fe3-5ab940b4b102"
    },
    {
      "cell_type": "markdown",
      "metadata": {},
      "source": [
        "#### Exercise 3\n",
        "\n",
        "What is “de-meaning”?\n",
        "\n",
        "1.  Regressing the mean of Y on the mean of X.\n",
        "2.  Subtracting the mean of Y from Y, the mean of X from X, etc. and\n",
        "    running that regression.\n",
        "3.  Subtracting the mean of Y over *t* from Y, the mean of X over *t*\n",
        "    from X, etc. and running that regression.\n",
        "4.  Subtracting the mean of Y over *i* from Y, the mean of X over *i*\n",
        "    from X, etc. and running that regression."
      ],
      "id": "21b31218-5e1f-44dd-bb33-2ced1c5b29f5"
    },
    {
      "cell_type": "code",
      "execution_count": null,
      "metadata": {},
      "outputs": [],
      "source": [
        "#Write your answer in the place of X. Multiple answers may be accepted. If you think multiple answers are correct, write them as such: AB if A and B are correct, ABC if A, B, and C are correct. \n",
        "answer_6 <- \"X\"\n",
        "\n",
        "test_6()"
      ],
      "id": "05ed5a90-c09b-4d53-8792-ca2101a674ec"
    },
    {
      "cell_type": "markdown",
      "metadata": {},
      "source": [
        "#### Exercise 4\n",
        "\n",
        "Which model is more appropriate for the dataset we are currently using\n",
        "(`CO2_data_panel`)?\n",
        "\n",
        "1.  Fixed effects\n",
        "2.  Random effects"
      ],
      "id": "1e9b5466-2b0b-4f56-898b-f9a10eabcf33"
    },
    {
      "cell_type": "code",
      "execution_count": null,
      "metadata": {},
      "outputs": [],
      "source": [
        "#Write your answer in the place of X. \n",
        "answer_7 <- \"X\"\n",
        "\n",
        "test_7()"
      ],
      "id": "f155cbdb-d984-420b-87e1-52f3d87fdd8f"
    },
    {
      "cell_type": "markdown",
      "metadata": {},
      "source": [
        "## References\n",
        "\n",
        "-   Cohen, A., and Einav, L. (2003). The Effects of Mandatory Seat Belt\n",
        "    Laws on Driving Behavior and Traffic Fatalities. The Review of\n",
        "    Economics and Statistics, 85, 828–843\n",
        "-   Stock, J.H. and Watson, M.W. (2007). Introduction to Econometrics,\n",
        "    2nd ed. Boston: Addison Wesley\n",
        "-   Marina Adshade and the COMET Team\n",
        "    (https://comet.arts.ubc.ca/docs/Research/econ490-r/14_Panel_Data.html)\n",
        "\n",
        "## ANSWERS\n",
        "\n",
        "#### 1"
      ],
      "id": "69be0b09-0182-4a1a-863e-1ad162e2066c"
    },
    {
      "cell_type": "code",
      "execution_count": null,
      "metadata": {},
      "outputs": [],
      "source": [
        "question1 <- plm(CO2 ~ population,\n",
        "                data=CO2_data_panel,\n",
        "                index=c(\"province\", \"year\"),\n",
        "                model = \"within\"\n",
        "               )\n",
        "question2 <- plm(CO2 ~ electricity,\n",
        "                data=CO2_data_panel,\n",
        "                index=c(\"province\", \"year\"),\n",
        "                model = \"within\"\n",
        "               ) "
      ],
      "id": "f69465ac-1259-4296-99fd-874ec83fa323"
    },
    {
      "cell_type": "markdown",
      "metadata": {},
      "source": [
        "#### 2"
      ],
      "id": "0f484802-83c3-4582-a832-471f8e6f3805"
    },
    {
      "cell_type": "code",
      "execution_count": null,
      "metadata": {},
      "outputs": [],
      "source": [
        "answer_3 <- \"cross sectional\"\n",
        "answer_4 <- \"cross sectional\"\n",
        "answer_5 <- \"unbalanced panel\""
      ],
      "id": "79e64eea-6afc-4313-923e-1f2166da6242"
    },
    {
      "cell_type": "markdown",
      "metadata": {},
      "source": [
        "#### 3"
      ],
      "id": "9649963f-89e0-4143-8b91-4e3da4326734"
    },
    {
      "cell_type": "code",
      "execution_count": null,
      "metadata": {},
      "outputs": [],
      "source": [
        "answer_6 <- \"CD\""
      ],
      "id": "db3ad5a0-d9ef-413a-8662-5c38cd6aa09d"
    },
    {
      "cell_type": "markdown",
      "metadata": {},
      "source": [
        "#### 4"
      ],
      "id": "8fedca3f-12a0-45d6-80a6-cc642591d9fe"
    },
    {
      "cell_type": "code",
      "execution_count": null,
      "metadata": {},
      "outputs": [],
      "source": [
        "answer_6 <- \"A\""
      ],
      "id": "cc7ea9c5-cdae-4a45-bce3-a0d067bfe2c4"
    }
  ],
  "nbformat": 4,
  "nbformat_minor": 5,
  "metadata": {
    "kernelspec": {
      "name": "ir",
      "display_name": "R",
      "language": "r"
    }
  }
}