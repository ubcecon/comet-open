{
  "cells": [
    {
      "cell_type": "markdown",
      "metadata": {},
      "source": [
        "# 3.1.1 - Advanced - Linear Differencing Models I\n",
        "\n",
        "This notebook will cover:\n",
        "\n",
        "1.  Difference-in-Differences and when it is appropriate.\n",
        "2.  Consequences of misspecification.\n",
        "3.  The Event Study estimator.\n",
        "4.  The Triple Difference estimator.\n",
        "5.  Using Repeated Cross-Section data.\n",
        "6.  Failure of Parallel Trends.\n",
        "\n",
        "This notebook assumes you are familiar with and draws on concepts\n",
        "covered in:\n",
        "\n",
        "1.  Introduction to Jupyter.\n",
        "2.  Introduction to R.\n",
        "3.  Introduction to Data.\n",
        "4.  Expectations and Summary Statistics.\n",
        "5.  Conditional Expectations and the $t$-Test.\n",
        "6.  Regression Analysis."
      ],
      "id": "c3fb7ddf-b77f-47aa-9a2e-50b6ad0e438f"
    },
    {
      "cell_type": "code",
      "execution_count": null,
      "metadata": {},
      "outputs": [],
      "source": [
        "library(tidyverse)\n",
        "library(stargazer)\n",
        "library(broom)"
      ],
      "id": "f1f39e77-b8b6-4361-b188-b71233826e4d"
    },
    {
      "cell_type": "markdown",
      "metadata": {},
      "source": [
        "## Difference-in-Differences\n",
        "\n",
        "To demonstrate how DID works and the consequences of misspecification, I\n",
        "require data where I know the true parameter values. Therefore this\n",
        "again necessitates using simulated data rather than real-life data.\n",
        "\n",
        "### Generating Panel-Structured Data\n",
        "\n",
        "Panel-Structured data have both an unit and a time index. The features\n",
        "that matter are that there should be a common time trend component and\n",
        "an additional time trend component specific only to the “treated” group.\n",
        "For our purposes, it can be more helpful to think of the “treated” group\n",
        "as simply the “group of interest” who may have been differentially\n",
        "affected by something that changed between the “before” and the “after”\n",
        "period(s). The minimum number of time periods you require to run a DID\n",
        "estimator is $2$, but the definition of a “period” is not constrained to\n",
        "“usual” time units like months and years. For example, if you have the\n",
        "privilege of working with linked census data, then your period may be\n",
        "decadal or quinquennial, while if you work with stock market data your\n",
        "period may be as fine as minutes or seconds.\n",
        "\n",
        "Note also that panel-structured data is not restricted to a unit-by-time\n",
        "structure. It is also possible to have a group-by-unit panel structured\n",
        "data. Examples include twins in a family unit, students in a class,\n",
        "patients and their primary physicians, *et cetera*. In this case, `i`\n",
        "below indexes the group instead of the unit and `T` indexes the unit\n",
        "within the group instead of time."
      ],
      "id": "59856b6b-13c2-4ee5-8c8c-69b6fa9c3439"
    },
    {
      "cell_type": "code",
      "execution_count": null,
      "metadata": {},
      "outputs": [],
      "source": [
        "set.seed(998)\n",
        "sim.data <- tibble(i = c(1:10000), hgt = rnorm(10000, 1.68, 0.09), u = rnorm(10000, 0, 1))\n",
        "sim.data <- sim.data %>% mutate(diet = if_else(rnorm(10000, 0, 1) + u < 0, 0, 1))\n",
        "sim.data <- rbind(\n",
        "    sim.data %>% mutate(Treatment = 0, e = rnorm(10000, 0, 1) + u) %>% mutate(wgt = 28 * hgt ^ 2 + e),\n",
        "    sim.data %>% mutate(Treatment = 1, e = rnorm(10000, 0, 1) + u) %>% mutate(wgt = 2 + 28 * hgt ^ 2 - 3 * diet + e)\n",
        ")"
      ],
      "id": "f94672ca-a041-44c6-96ee-f2163f5e354e"
    },
    {
      "cell_type": "markdown",
      "metadata": {},
      "source": [
        "### Summary Statistics\n",
        "\n",
        "A quick overview of the synthetic data. To an approximation, this data\n",
        "set tries to simulate a height and weight data set. `hgt` is short for\n",
        "height (measured in meters; m), `wgt` for weight (measured in kilograms;\n",
        "kg), `diet` implies we are considering the effect of a diet. As is\n",
        "intuitive, evaluating the effect of a diet is an appropriate case for\n",
        "DID because diets take time to show their effects. We also clearly need\n",
        "height as a control because all else equal, a healthy but taller person\n",
        "should weigh more than a healthy but shorter person. `i` and `T` are our\n",
        "person and time indexes."
      ],
      "id": "76aee595-5470-4708-8a69-3c9fd4336965"
    },
    {
      "cell_type": "code",
      "execution_count": null,
      "metadata": {},
      "outputs": [],
      "source": [
        "summary(sim.data)"
      ],
      "id": "36568afd-6e1a-4f27-9488-d2ef576c5211"
    },
    {
      "cell_type": "markdown",
      "metadata": {},
      "source": [
        "## Difference-in-Differences Estimator\n",
        "\n",
        "Recap that DID is the following model. We estimate\n",
        "\n",
        "$$\n",
        "    \\theta = \\mathbb{E}[Y_{i} \\mid \\underbrace{G_{i} = 1, T_{i} = 1}_{D_{i} = 1}] - \\mathbb{E}[Y_{i} \\mid \\underbrace{G_{i} = 1, T_{i} = 0}_{D_{i} = 0}].\n",
        "$$\n",
        "\n",
        "This is a model for when we have a treatment implemented in between two\n",
        "periods where we observe the units. However as before there will be bias\n",
        "without further adjustments to the method. The main bias with estimators\n",
        "that make use of the temporal dimension of the data is that naïve\n",
        "estimators conflate the true effect with time trends.\n",
        "\n",
        "To give an intuition, suppose we want to measure the effect of drinking\n",
        "milk daily on height growth in young children. The problem is that young\n",
        "children are developing and naturally grow taller regardless of their\n",
        "diet (unless they are severely malnourished). Therefore a naïve\n",
        "estimator conflates this natural time trend with the real effect of the\n",
        "target diet and can spuriously estimate a positive effect of drinking\n",
        "milk when it could very well be the case that the true effect is zero or\n",
        "even negative.\n",
        "\n",
        "Mathematically, we see the bias in the PO model by\n",
        "\n",
        "$$\n",
        "    \\theta = \\underbrace{\\mathbb{E}[Y_{1,i}(1) \\mid T_{i} = 1] - \\mathbb{E}[Y_{1,i}(0) \\mid T_{i} = 1]}_{ATET} + \\underbrace{\\mathbb{E}[Y_{1,i}(0) \\mid T_{i} = 1] - \\mathbb{E}[Y_{1,i}(0) \\mid T_{i} = 0]}_{Bias}.\n",
        "$$\n",
        "\n",
        "The bias is clearly coming from the unobserved time trend. How do we\n",
        "deal with it given that the comparison estimator already implicitly\n",
        "makes use of a time period indicator? The answer is we postulate the\n",
        "existence of a counterfactual group for which we do indeed observe them\n",
        "being untreated in both periods, but their time trend is identical to\n",
        "the group of interest:\n",
        "\n",
        "$$\n",
        "    \\mathbb{E}[Y_{0,i}(0) \\mid T_{i} = 1] - \\mathbb{E}[Y_{0,i}(0) \\mid T_{i} = 0] = \\mathbb{E}[Y_{1,i}(0) \\mid T_{i} = 1] - \\mathbb{E}[Y_{1,i}(0) \\mid T_{i} = 0]\n",
        "$$\n",
        "\n",
        "where\n",
        "\n",
        "$$\n",
        "    \\mathbb{E}[Y_{0,i}(0) \\mid T_{i} = 1] - \\mathbb{E}[Y_{0,i}(0) \\mid T_{i} = 0] = \\mathbb{E}[Y_{i} \\mid \\underbrace{G_{i} = 0, T_{i} = 1}_{D_{i} = 0}] - \\mathbb{E}[Y_{i} \\mid \\underbrace{G_{i} = 0, T_{i} = 0}_{D_{i} = 0}].\n",
        "$$\n",
        "\n",
        "With this observed control group we can now estimate:\n",
        "\n",
        "$$\n",
        "    ATET = \\left( \\mathbb{E}[Y_{i} \\mid G_{i} = 1, T_{i} = 1] - \\mathbb{E}[Y_{i} \\mid G_{i} = 1, T_{i} = 0] \\right) - \\left( \\mathbb{E}[Y_{i} \\mid G_{i} = 0, T_{i} = 1] - \\mathbb{E}[Y_{i} \\mid G_{i} = 0, T_{i} = 0] \\right).\n",
        "$$\n",
        "\n",
        "This is estimatable because all this data is observed.\n",
        "\n",
        "### Difference-in-Differences with $t$-Tests\n",
        "\n",
        "Before we talk about the regression method of estimating DID models,\n",
        "let’s talk about the much simpler method of doing a plain comparison\n",
        "estimate. Recall that the model is\n",
        "\n",
        "$$\n",
        "    ATET = \\left( \\mathbb{E}[Y_{i} \\mid G_{i} = 1, T_{i} = 1] - \\mathbb{E}[Y_{i} \\mid G_{i} = 1, T_{i} = 0] \\right) - \\left( \\mathbb{E}[Y_{i} \\mid G_{i} = 0, T_{i} = 1] - \\mathbb{E}[Y_{i} \\mid G_{i} = 0, T_{i} = 0] \\right)\n",
        "$$\n",
        "\n",
        "which we can rewrite as\n",
        "\n",
        "$$\n",
        "    ATET = \\mathbb{E}[Y_{i,1} - Y_{i,0} \\mid G_{i} = 1] - \\mathbb{E}[Y_{i,1} - Y_{i,0} \\mid G_{i} = 0].\n",
        "$$\n",
        "\n",
        "This tells us precisely how to estimate the ATET using the DID estimator\n",
        "using a simple $t$-test:\n",
        "\n",
        "1.  Generate $\\Delta Y_{i} = Y_{i,1} - Y_{i,0}$.\n",
        "2.  Test $\\overline{\\Delta Y_{i}} \\mid_{G_{i} = 1}$ versus\n",
        "    $\\overline{\\Delta Y_{i}} \\mid_{G_{i} = 0}$."
      ],
      "id": "e4e4fa6f-5943-4ee2-9b6a-40b1b8bbda59"
    },
    {
      "cell_type": "code",
      "execution_count": null,
      "metadata": {},
      "outputs": [],
      "source": [
        "diff.data <- sim.data %>% filter(Treatment == 1) - sim.data %>% filter(Treatment == 0) %>% mutate(diet = 0)"
      ],
      "id": "b54ad04b-7dd2-49de-86f2-449a95612382"
    },
    {
      "cell_type": "code",
      "execution_count": null,
      "metadata": {},
      "outputs": [],
      "source": [
        "list(\n",
        "    t.test(\n",
        "        diff.data %>% filter(diet == 1) %>% select(wgt),\n",
        "        diff.data %>% filter(diet == 0) %>% select(wgt),\n",
        "        var.equal = TRUE\n",
        "    )\n",
        ") %>% \n",
        "    map_df(tidy) %>%\n",
        "    print"
      ],
      "id": "db9a6a7e-58f6-45fb-a602-a57a420d9919"
    },
    {
      "cell_type": "markdown",
      "metadata": {},
      "source": [
        "### Interpreting the Results\n",
        "\n",
        "Recall that the simple $t$-test method does not use controls, so this\n",
        "level of accuracy is unexpected. Note, in general the DID estimator\n",
        "without controls does not yield the same results as the DID estimator\n",
        "with controls when applied to real-world data.\n",
        "\n",
        "The estimate is simply interpreted as the estimated ATET. The diet\n",
        "decreases the weight of the group undertaking the diet by $2.97$ kg. In\n",
        "your own cases, what the treatment, outcome, treated group, and units\n",
        "are depends on your question and data.\n",
        "\n",
        "### Naïve Comparison Measure Estimator\n",
        "\n",
        "I will first present several wrong ways to use panel data and show\n",
        "empirically why you should not be doing these things if your interest is\n",
        "in the ATET. One way is to estimate a comparison measure for the “after”\n",
        "period only:\n",
        "\n",
        "$$\n",
        "    \\theta_{after} = \\mathbb{E}[Y_{i} \\mid \\underbrace{G_{i} = 1, T_{i} = 1}_{D_{i} = 1}] - \\mathbb{E}[Y_{i} \\mid \\underbrace{G_{i} = 0, T_{i} = 1}_{D_{i} = 0}].\n",
        "$$\n",
        "\n",
        "This is of course going to be biased because you can see that in the PO\n",
        "model this corresponds to\n",
        "\n",
        "$$\n",
        "    \\theta_{after} = \\underbrace{\\mathbb{E}[Y_{1,i}(1) \\mid T_{i} = 1] - \\mathbb{E}[Y_{1,i}(0) \\mid T_{i} = 1]}_{ATET} + \\underbrace{\\mathbb{E}[Y_{1,i}(0) \\mid T_{i} = 1] - \\mathbb{E}[Y_{0,i}(0) \\mid T_{i} = 1]}_{Bias}.\n",
        "$$\n",
        "\n",
        "This corresponds to the selection bias as we have been studying it for\n",
        "much of this course. However, if we assume that the size of this bias\n",
        "remains constant throughout time—which intuitively is exactly what the\n",
        "parallel trends assumption says—then we get rid of the selection bias\n",
        "precisely by further subtracting the “before” period comparison measure."
      ],
      "id": "b96871f1-5436-49e9-bf54-1cde4593e5d1"
    },
    {
      "cell_type": "code",
      "execution_count": null,
      "metadata": {},
      "outputs": [],
      "source": [
        "summary(\n",
        "    lm(\n",
        "        wgt ~ hgt + diet,\n",
        "        data = filter(sim.data, Treatment == 1)\n",
        "    )\n",
        ")"
      ],
      "id": "03c4f2e0-31ee-4f48-bb63-57325e1b2365"
    },
    {
      "cell_type": "markdown",
      "metadata": {},
      "source": [
        "### Naïve Before-After Estimator\n",
        "\n",
        "The second wrong way is to do exactly what was described at the start of\n",
        "this section,\n",
        "\n",
        "$$\n",
        "    \\theta = \\mathbb{E}[Y_{i} \\mid \\underbrace{G_{i} = 1, T_{i} = 1}_{D_{i} = 1}] - \\mathbb{E}[Y_{i} \\mid \\underbrace{G_{i} = 1, T_{i} = 0}_{D_{i} = 0}].\n",
        "$$\n",
        "\n",
        "Of course, by now you know where the problem with this estimator lies."
      ],
      "id": "14322c45-5331-45b4-8ab6-6915a1f53567"
    },
    {
      "cell_type": "code",
      "execution_count": null,
      "metadata": {},
      "outputs": [],
      "source": [
        "summary(\n",
        "    lm(\n",
        "        wgt ~ hgt + Treatment,\n",
        "        data = filter(sim.data, diet == 1)\n",
        "    )\n",
        ")"
      ],
      "id": "77f94ec0-8df0-4a19-83f2-b568f2ef6f87"
    },
    {
      "cell_type": "markdown",
      "metadata": {},
      "source": [
        "### Naïve Linear Estimator Without Interaction Terms\n",
        "\n",
        "A third way to estimate the ATET wrongly is to do a naïve linear\n",
        "estimator of the form\n",
        "\n",
        "$$\n",
        "    Y_{i} = b_{0} + b_{1} T_{i} + b_{2} D_{i} + e_{i}.\n",
        "$$\n",
        "\n",
        "Why would this be biased? One way to think about this is that this\n",
        "regression implies\n",
        "\n",
        "This points to a selection bias intuition. If you believe there is no\n",
        "unobserved selection into treatment, then this model is correct. In most\n",
        "cases this is not true.\n",
        "\n",
        "This may then prompt the question: intuitively the saturated model\n",
        "solves this problem and you have learnt in lectures that it does. Why?\n",
        "The idea again goes back to the parallel trends assumption. We assume\n",
        "that the selection bias is constant over time. As such, the “before”\n",
        "period observation where both groups are untreated provides an estimate\n",
        "of the selection bias, which we can then remove from this biased\n",
        "estimator to obtain the unbiased estimate of the ATET.\n",
        "\n",
        "This intuition should not also reveal something very interesting to\n",
        "those paying attention: the DID estimator circumvents selection bias\n",
        "entirely. You do not need an experimental set-up without selection bias\n",
        "to use DID!"
      ],
      "id": "baa5f55b-9266-4802-933e-127509b623fc"
    },
    {
      "cell_type": "code",
      "execution_count": null,
      "metadata": {},
      "outputs": [],
      "source": [
        "summary(\n",
        "    lm(\n",
        "        wgt ~ hgt + Treatment + diet,\n",
        "        data = sim.data\n",
        "    )\n",
        ")"
      ],
      "id": "cbe5d8ea-df7d-4d77-8dd8-c663033d22ec"
    },
    {
      "cell_type": "markdown",
      "metadata": {},
      "source": [
        "### Difference-in-Differences using Linear Regression\n",
        "\n",
        "The linear regression model of DID is how most DID models are estimated\n",
        "in the academic literature. We estimate a model that is saturated in the\n",
        "time and group variables,\n",
        "\n",
        "$$\n",
        "    Y_{i} = \\alpha + \\gamma T_{i} + \\beta G_{i} + \\delta T_{i} \\times G_{i} + \\epsilon_{i}.\n",
        "$$\n",
        "\n",
        "This gives us\n",
        "\n",
        "This yields the time trend as $\\gamma$ and the time-invariant selection\n",
        "bias as $\\beta$. $\\delta$ is the unbiased estimator of the ATET and our\n",
        "parameter of interest."
      ],
      "id": "5a89778d-a51c-42f4-8c3d-9a3c1569bdad"
    },
    {
      "cell_type": "code",
      "execution_count": null,
      "metadata": {},
      "outputs": [],
      "source": [
        "summary(\n",
        "    lm(\n",
        "        wgt ~ hgt + Treatment * diet,\n",
        "        data = sim.data\n",
        "    )\n",
        ")"
      ],
      "id": "5956371d-072f-4c66-bf03-1582f325a102"
    },
    {
      "cell_type": "markdown",
      "metadata": {},
      "source": [
        "### Comparing Estimators\n",
        "\n",
        "The following table shows all the misspecified models and the correct\n",
        "specification. (1) is the naïve comparison estimator, (2) is the\n",
        "before-after estimator, (3) is the linear model estimator without the\n",
        "interaction term, (4) is the fully specified model, and (5) is what the\n",
        "$t$-test implicitly estimates.\n",
        "\n",
        "Again, note that (4) and (5) will in general not produce the same ATET\n",
        "estimate in most real-world data sets."
      ],
      "id": "a518367d-68bb-4a54-a2b2-63de8f29883b"
    },
    {
      "cell_type": "code",
      "execution_count": null,
      "metadata": {},
      "outputs": [],
      "source": [
        "model1 <- lm(wgt ~ hgt + diet, data = filter(sim.data, Treatment == 1))\n",
        "model2 <- lm(wgt ~ hgt + Treatment, data = filter(sim.data, diet == 1))\n",
        "model3 <- lm(wgt ~ hgt + Treatment + diet, data = sim.data)\n",
        "model4 <- lm(wgt ~ hgt + Treatment * diet, data = sim.data)\n",
        "model5 <- lm(wgt ~ Treatment * diet, data = sim.data)\n",
        "\n",
        "stargazer(model1, \n",
        "          model2, \n",
        "          model3, \n",
        "          model4, \n",
        "          model5, \n",
        "          type = 'text',\n",
        "          df = FALSE,\n",
        "          omit.stat = c('F'))"
      ],
      "id": "a0751286-e1a8-4f4e-a0a0-375d4021c43b"
    },
    {
      "cell_type": "markdown",
      "metadata": {},
      "source": [
        "## Heterogeneity Over Time: the Event Study Estimator\n",
        "\n",
        "The logic of DID can be extended to the case where we observe multiple\n",
        "post-treatment periods. If we think that the ATET is heterogeneous over\n",
        "time, we can estimate an ATET for each period observed. This gives rise\n",
        "to the Event Study estimator. It is so named because this is often used\n",
        "to study the effect of a specific event—usually policy changes and\n",
        "natural disasters—and trace out its effects over many periods. While\n",
        "there is currently an active literature looking at problems with this\n",
        "estimator, we concern ourselves primarily with the simplest case where\n",
        "the treatment occurs only once and we observe the treated group and a\n",
        "counterfactual never-treated group for several periods before and after\n",
        "the event.\n",
        "\n",
        "### Load Data\n",
        "\n",
        "By convention, for a panel-structured data with more than two periods,\n",
        "period $0$ is when the treatment is implemented and all other period\n",
        "numbers refer to the number of periods after (before if negative)\n",
        "treatment implementation."
      ],
      "id": "6fc60dcc-6772-45ad-b833-97f8151ab434"
    },
    {
      "cell_type": "code",
      "execution_count": null,
      "metadata": {},
      "outputs": [],
      "source": [
        "set.seed(999)\n",
        "sim.data <- tibble(i = c(1:10000), hgt = rnorm(10000, 1.68, 0.09), u = rnorm(10000, 0, 1))\n",
        "sim.data <- sim.data %>% mutate(diet = if_else(rnorm(10000, 0, 1) + u < 0, 0, 1))\n",
        "sim.data <- rbind(\n",
        "    sim.data %>% mutate(Treatment = -3, e = rnorm(10000, 0, 1) + u) %>% mutate(wgt = - 1.2 + 28 * hgt ^ 2 + e),\n",
        "    sim.data %>% mutate(Treatment = -2, e = rnorm(10000, 0, 1) + u) %>% mutate(wgt = - .5 + 28 * hgt ^ 2 + e),\n",
        "    sim.data %>% mutate(Treatment = -1, e = rnorm(10000, 0, 1) + u) %>% mutate(wgt = 28 * hgt ^ 2 + e),\n",
        "    sim.data %>% mutate(Treatment = 0, e = rnorm(10000, 0, 1) + u) %>% mutate(wgt = .3 + 28 * hgt ^ 2 + 1.2 * diet + e),\n",
        "    sim.data %>% mutate(Treatment = 1, e = rnorm(10000, 0, 1) + u) %>% mutate(wgt = .5 + 28 * hgt ^ 2 + .8 * diet + e),\n",
        "    sim.data %>% mutate(Treatment = 2, e = rnorm(10000, 0, 1) + u) %>% mutate(wgt = .9 + 28 * hgt ^ 2 + .1 * diet + e),\n",
        "    sim.data %>% mutate(Treatment = 3, e = rnorm(10000, 0, 1) + u) %>% mutate(wgt = 1.1 + 28 * hgt ^ 2 - .5 * diet + e),\n",
        "    sim.data %>% mutate(Treatment = 4, e = rnorm(10000, 0, 1) + u) %>% mutate(wgt = 1.4 + 28 * hgt ^ 2 - 1.5 * diet + e)\n",
        ")"
      ],
      "id": "6bd74736-eb83-4b1d-ad62-76d5c9e62e81"
    },
    {
      "cell_type": "markdown",
      "metadata": {},
      "source": [
        "### Wrongly Using the Difference-in-Differences Estimator\n",
        "\n",
        "Intuitively, of course the plain DID estimator is a misspecification if\n",
        "we believe that the ATET is heterogeneous over time. We know what the\n",
        "wrongly estimated ATET will be using the Law of Iterated Expectations:\n",
        "\n",
        "$$\n",
        "    \\mathbb{E}[\\Delta_{i} \\mid G_{i} = 1] = \\mathbb{E}_{T}[\\mathbb{E}[\\Delta_{i} \\mid G_{i} = 1, T] \\mid G_{i} = 1].\n",
        "$$\n",
        "\n",
        "Hence, as in this simulated data set, if the time trend of the treatment\n",
        "effect is not monotonic, we can have unexpected results by misspecifying\n",
        "a case of truly heterogeneous treatment effects using the homogeneous\n",
        "treatment effect estimator."
      ],
      "id": "6349a168-b1bf-4d8e-939e-2e2dbd091687"
    },
    {
      "cell_type": "code",
      "execution_count": null,
      "metadata": {},
      "outputs": [],
      "source": [
        "sim.data %>%\n",
        "    mutate(T = if_else(Treatment > -1, 1, 0)) %>%\n",
        "    lm(wgt ~ hgt + Treatment * diet, data = .) %>%\n",
        "    summary"
      ],
      "id": "b293e217-60ec-411a-84bc-d2bca16f8404"
    },
    {
      "cell_type": "markdown",
      "metadata": {},
      "source": [
        "### Event Study with $t$-Tests\n",
        "\n",
        "The $t$-Test version of the Event Study estimator is straightforward.\n",
        "Because what we are essentially interested in is\n",
        "\n",
        "$$\n",
        "    ATET(t) = \\left( \\mathbb{E}[Y_{i} \\mid G_{i} = 1, T_{i} = t] - \\mathbb{E}[Y_{i} \\mid G_{i} = 1, T_{i} = -1] \\right) - \\left( \\mathbb{E}[Y_{i} \\mid G_{i} = 0, T_{i} = t] - \\mathbb{E}[Y_{i} \\mid G_{i} = 0, T_{i} = -1] \\right)\n",
        "$$\n",
        "\n",
        "which we can rewrite as\n",
        "\n",
        "$$\n",
        "    ATET(t) = \\mathbb{E}[Y_{i,t} - Y_{i,-1} \\mid G_{i} = 1] - \\mathbb{E}[Y_{i,t} - Y_{i,-1} \\mid G_{i} = 0],\n",
        "$$\n",
        "\n",
        "it implies that what we want to do is simply to first restrict our data\n",
        "set to the periods $t$ and $-1$, then use the regular DID estimator on\n",
        "this subset, and repeat this exercise for all periods before and after\n",
        "$-1$."
      ],
      "id": "23e1ba1e-9ef6-4b39-b329-a38cd147361b"
    },
    {
      "cell_type": "code",
      "execution_count": null,
      "metadata": {},
      "outputs": [],
      "source": [
        "c(0:4) %>% \n",
        "    lapply(\n",
        "        function (t) t.test(\n",
        "            sim.data %>% filter(Treatment == t & diet == 1) %>% select(wgt) - sim.data %>% filter(Treatment == -1 & diet == 1) %>% select(wgt), \n",
        "            sim.data %>% filter(Treatment == t & diet == 0) %>% select(wgt) - sim.data %>% filter(Treatment == -1 & diet == 0) %>% select(wgt), \n",
        "            var.equal = TRUE\n",
        "        )\n",
        "    ) %>%\n",
        "    map_df(tidy) %>%\n",
        "    print"
      ],
      "id": "13c20cc0-9608-44f5-bf79-c6353a17eb34"
    },
    {
      "cell_type": "markdown",
      "metadata": {},
      "source": [
        "### Interpreting the Results\n",
        "\n",
        "The $t$-test analogue of the Event Study estimator also highlights\n",
        "intuitively how we need to think about and interpret the estimator. The\n",
        "ATET estimate for each period is interpreted with respect to the base\n",
        "period, which in this case is the period just before the treatment is\n",
        "implemented. In this case,\n",
        "\n",
        "1.  The diet actually increases the weight of those on the diet by\n",
        "    $1.12$ kg on average in the period they start the diet.\n",
        "2.  The diet still increases the weight of those on the diet by $0.748$\n",
        "    kg on average relative to before starting the diet after $1$ period\n",
        "    (let’s say, months).\n",
        "3.  The effect of the diet $2$ months after starting the diet is\n",
        "    approximately zero relative to before the diet.\n",
        "4.  The effect of the diet turns negative after $3$ months relative to\n",
        "    before the diet, with those on diet losing $0.571$ kg on average.\n",
        "5.  Those on the diet lose $1.55$ kg on average after $4$ months on the\n",
        "    diet relative to before starting the diet.\n",
        "\n",
        "### Event Study with Linear Regression\n",
        "\n",
        "With linear regression, the Event Study method is even simpler.\n",
        "Factorise your time variable and set $-1$ as the base level using\n",
        "`relevel`, then estimate the model. `R` takes care of all the necessary\n",
        "interactions for us."
      ],
      "id": "c6b86213-41e2-44b9-bd70-9d4d4bd4e65e"
    },
    {
      "cell_type": "code",
      "execution_count": null,
      "metadata": {},
      "outputs": [],
      "source": [
        "sim.data %>%\n",
        "    mutate(Treatment = relevel(factor(Treatment, levels = c(-3, -2, -1, 0, 1, 2, 3, 4)), ref = 3)) %>%\n",
        "    lm(wgt ~ hgt + Treatment * diet, data = .) %>%\n",
        "    summary"
      ],
      "id": "53838649-28e7-4663-a305-d071884ff849"
    },
    {
      "cell_type": "markdown",
      "metadata": {},
      "source": [
        "## Heterogeneity Over Groups: the Triple Difference Estimator\n",
        "\n",
        "You have seen one way to discuss the Triple Differences estimator. Here\n",
        "I present another.\n",
        "\n",
        "Suppose we are interested in not only the ATET, but also how the ATET\n",
        "differs across certain groups of interest. An example is whether certain\n",
        "policies help to close the gender wage gap: what this implicitly asks is\n",
        "whether\n",
        "\n",
        "$$\n",
        "    ATET(female) > ATET(male).\n",
        "$$\n",
        "\n",
        "Provided that we have panel data, again there is a method that helps to\n",
        "illuminate this kind of heterogeneity: the Triple Difference estimator.\n",
        "What the Triple Difference estimator is interested in is implicitly\n",
        "\n",
        "$$\n",
        "    ATET(k) = \\left( \\mathbb{E}[Y_{i} \\mid G_{i} = 1, K = k, T_{i} = 1] - \\mathbb{E}[Y_{i} \\mid G_{i} = 1, K = k, T_{i} = 0] \\right) - \\left( \\mathbb{E}[Y_{i} \\mid G_{i} = 0, K = k, T_{i} = 1] - \\mathbb{E}[Y_{i} \\mid G_{i} = 0, K = k, T_{i} = 0] \\right),\n",
        "$$\n",
        "\n",
        "where $k$ is a group of interest that is not the basis for selection\n",
        "into treatment for which we think $ATET(k) \\ne ATET$ and we would like\n",
        "to estimate $ATET(k)$ specifically. As in the lecture notes, while we\n",
        "can in principle estimate heterogeneous treatment effects by simply\n",
        "estimating a DID model for each sub-group, this assumes a fully\n",
        "heterogeneous model where it may not actually be warranted, is\n",
        "inefficient as you are not using the full sample, and it is\n",
        "difficult—though not impossible, but the methods are beyond this level\n",
        "of study—to test if the differences are actually statistically\n",
        "significant.\n",
        "\n",
        "Hence, taking the usual route of adding yet another interaction term to\n",
        "the model to obtain the heterogeneous treatment effects of interest\n",
        "yields the Triple Differences estimator. This gives an intuition as to\n",
        "what Triple Differences are good for:\n",
        "\n",
        "1.  Triple Differences tells you if a treatment has additional effects\n",
        "    on specific sub-groups.\n",
        "2.  Triple Differences is also useful if what you are interested in is\n",
        "    the pure effect of the treatment and would like to partial out all\n",
        "    other confounding effects of time and group using an argument\n",
        "    similar to the parallel trends assumption.\n",
        "\n",
        "### Load Data\n",
        "\n",
        "The data requirements for Triple Differences is similar to that of DID,\n",
        "except you also require another grouping axis that exhibits variation\n",
        "over the treatment assignment indicator. In other words, it cannot be\n",
        "the case that that grouping variable is collinear with the treatment\n",
        "assignment indicator—then how exactly are you supposed to separate the\n",
        "effect of the group from the effect of the treatment?"
      ],
      "id": "8bff27e4-0f2f-4df0-b11f-5460b1530ad2"
    },
    {
      "cell_type": "code",
      "execution_count": null,
      "metadata": {},
      "outputs": [],
      "source": [
        "set.seed(999)\n",
        "sim.data <- tibble(i = c(1:10000), u = rnorm(10000, 0, 1))\n",
        "sim.data <- sim.data %>% mutate(sex = rnorm(10000, 0, 1) + u, diet = rnorm(10000, 0, 1))\n",
        "sim.data <- sim.data %>% mutate(diet = if_else(diet < 0, 0, 1), sex = factor(if_else(sex < 0, 'male', 'female'), levels = c('male', 'female')))\n",
        "sim.data <- sim.data %>% mutate(hgt = rnorm(10000, 1.69, .1))\n",
        "sim.data <- rbind(sim.data %>% mutate(Treatment = 0), sim.data %>% mutate(Treatment = 1)) \n",
        "sim.data <- sim.data %>% mutate(e = rnorm(20000, 0, 1) + u)\n",
        "sim.data <- sim.data %>% mutate(wgt = 26.4 * hgt * hgt + 1.7 * Treatment - 2.55 * (sex == 'female') - 1.3 * Treatment * (sex == 'female') - 2 * Treatment * diet - 1.2 * Treatment * diet * (sex == 'female') + e) "
      ],
      "id": "9dba7c33-903e-4191-b368-5d6ec267ea44"
    },
    {
      "cell_type": "markdown",
      "metadata": {},
      "source": [
        "### Wrongly Using the Difference-in-Differences Estimator\n",
        "\n",
        "The Law of Iterated Expectations can again be used to tell us that if\n",
        "the treatment effect is really heterogeneous, then ignoring that\n",
        "heterogeneity is going to yield a biased estimator that is the weighted\n",
        "mean of all the treatment effects,\n",
        "\n",
        "$$\n",
        "    \\mathbb{E}[\\Delta_{i} \\mid G_{i} = 1] = \\mathbb{E}_{K}[\\mathbb{E}[\\Delta_{i} \\mid G_{i} = 1, K] \\mid G_{i} = 1].\n",
        "$$\n",
        "\n",
        "In this case, it may look like there was a mistake because $-2.5$ is\n",
        "less than either $-2$ or $-1.2$, but recall from the Regressions\n",
        "notebook that the proper way to interpret coefficients under interaction\n",
        "terms tells us that in fact the effect of the diet on the two sexes are\n",
        "$-2$ and $-3.2$ respectively. Therefore the biased estimate of $-2.5$\n",
        "adheres to the Law of Iterated Expectations well."
      ],
      "id": "e235058c-7c12-4987-84d3-edaf1eda8802"
    },
    {
      "cell_type": "code",
      "execution_count": null,
      "metadata": {},
      "outputs": [],
      "source": [
        "sim.data %>%\n",
        "    lm(wgt ~ hgt + Treatment * diet, data = .) %>%\n",
        "    summary"
      ],
      "id": "74464dd1-0987-4028-8d3d-623ce68630b8"
    },
    {
      "cell_type": "markdown",
      "metadata": {},
      "source": [
        "### Triple Difference Intuition with $t$-Tests\n",
        "\n",
        "Before we move into regression analysis, which can be harder to\n",
        "interpret, look at some $t$-test results to get a bearing on your\n",
        "intuitions. Each row corresponds to one of the sexes. The first column\n",
        "of the table is the heterogeneous weight loss estimate of each sex.\n",
        "Then, the Triple Difference estimator is simply the difference in the\n",
        "two weight loss estimates. The estimate corresponds to the coefficient\n",
        "on the triple interaction term in our data simulation code, as expected,\n",
        "and can be interpreted in one of two ways. The first is outlined in the\n",
        "notes, corresponding to the true treatment effect after partialling out\n",
        "group effects as well. The second is outlined here, corresponding to the\n",
        "additional weight loss due to the diet on females compared to males."
      ],
      "id": "e218628e-3320-45c5-8440-75635bf732ef"
    },
    {
      "cell_type": "code",
      "execution_count": null,
      "metadata": {},
      "outputs": [],
      "source": [
        "list(\n",
        "    t.test(\n",
        "        sim.data %>% filter(sex == 'female' & Treatment == 1 & diet == 1) %>% select(wgt) - sim.data %>% filter(sex == 'female' & Treatment == 0 & diet == 1) %>% select(wgt), \n",
        "        sim.data %>% filter(sex == 'female' & Treatment == 1 & diet == 0) %>% select(wgt) - sim.data %>% filter(sex == 'female' & Treatment == 0 & diet == 0) %>% select(wgt), \n",
        "        var.equal = TRUE\n",
        "    ),\n",
        "    t.test(\n",
        "        sim.data %>% filter(sex == 'male' & Treatment == 1 & diet == 1) %>% select(wgt) - sim.data %>% filter(sex == 'male' & Treatment == 0 & diet == 1) %>% select(wgt), \n",
        "        sim.data %>% filter(sex == 'male' & Treatment == 1 & diet == 0) %>% select(wgt) - sim.data %>% filter(sex == 'male' & Treatment == 0 & diet == 0) %>% select(wgt), \n",
        "        var.equal = TRUE\n",
        "    )\n",
        ") %>%\n",
        "    map_df(tidy) %>%\n",
        "    print"
      ],
      "id": "a36b603b-50c8-4b9d-b5bd-d323ea98fd40"
    },
    {
      "cell_type": "markdown",
      "metadata": {},
      "source": [
        "### Triple Difference with Linear Regression\n",
        "\n",
        "This shows the Triple Difference estimator as discussed in the note. In\n",
        "`R`, the interaction operator `*` can be chained and therefore it is\n",
        "relatively simple to set up the Triple Difference estimator. `R` takes\n",
        "care of populating all the interaction terms."
      ],
      "id": "8f0126ea-244c-4db7-bf0a-d8eda332e538"
    },
    {
      "cell_type": "code",
      "execution_count": null,
      "metadata": {},
      "outputs": [],
      "source": [
        "sim.data %>%\n",
        "    lm(wgt ~ hgt + sex * Treatment * diet, data = .) %>%\n",
        "    summary"
      ],
      "id": "30ebc0dc-47f0-461d-87b8-5759e71f9e3c"
    },
    {
      "cell_type": "markdown",
      "metadata": {},
      "source": [
        "### Comparing Misspecified Estimators under Triple Differences\n",
        "\n",
        "The following two tables shows how various ways of misspecifying the\n",
        "model when the true CEF corresponds to the heterogeneous ATET/Triple\n",
        "Difference case results in biased estimates. You are encouraged to\n",
        "figure out if you can compute the biased estimates theoretically\n",
        "yourself to check your understanding of how the DID model works in\n",
        "general."
      ],
      "id": "9cee7500-e3bd-452d-94e3-16090889a1a5"
    },
    {
      "cell_type": "code",
      "execution_count": null,
      "metadata": {},
      "outputs": [],
      "source": [
        "model1 <- lm(wgt ~ hgt + Treatment * diet, data = sim.data)\n",
        "model2 <- lm(wgt ~ hgt + Treatment * diet, data = sim.data %>% filter(sex == 'female'))\n",
        "model3 <- lm(wgt ~ hgt + Treatment * diet, data = sim.data %>% filter(sex == 'male'))\n",
        "model4 <- lm(wgt ~ hgt + Treatment * diet * sex, data = sim.data)\n",
        "\n",
        "stargazer(model1, \n",
        "          model2, \n",
        "          model3, \n",
        "          model4, \n",
        "          type = 'text',\n",
        "          df = FALSE,\n",
        "          omit.stat = c('F'))"
      ],
      "id": "04d3834d-b67f-411e-8a3e-df0eaa85cab7"
    },
    {
      "cell_type": "code",
      "execution_count": null,
      "metadata": {},
      "outputs": [],
      "source": [
        "model1 <- lm(wgt ~ hgt + Treatment * sex, data = sim.data)\n",
        "model2 <- lm(wgt ~ hgt + Treatment * sex, data = sim.data %>% filter(diet == 1))\n",
        "model3 <- lm(wgt ~ hgt + Treatment * sex, data = sim.data %>% filter(diet == 0))\n",
        "model4 <- lm(wgt ~ hgt + diet * sex, data = sim.data)\n",
        "model5 <- lm(wgt ~ hgt + diet * sex, data = sim.data %>% filter(Treatment == 1))\n",
        "model6 <- lm(wgt ~ hgt + diet * sex, data = sim.data %>% filter(Treatment == 0))\n",
        "model7 <- lm(wgt ~ hgt + Treatment * diet * sex, data = sim.data)\n",
        "\n",
        "\n",
        "stargazer(model1, \n",
        "          model2, \n",
        "          model3, \n",
        "          model4, \n",
        "          model5, \n",
        "          model6, \n",
        "          model7, \n",
        "          type = 'text',\n",
        "          df = FALSE,\n",
        "          omit.stat = c('F'))"
      ],
      "id": "2461b202-d00e-4576-a9f2-5613ee529dd8"
    },
    {
      "cell_type": "markdown",
      "metadata": {},
      "source": [
        "## Using Repeated Cross-Section Data\n",
        "\n",
        "Return to the DID model for a bit,\n",
        "\n",
        "$$\n",
        "    ATET = \\left( \\mathbb{E}[Y_{i} \\mid G_{i} = 1, T_{i} = 1] - \\mathbb{E}[Y_{i} \\mid G_{i} = 1, T_{i} = 0] \\right) - \\left( \\mathbb{E}[Y_{i} \\mid G_{i} = 0, T_{i} = 1] - \\mathbb{E}[Y_{i} \\mid G_{i} = 0, T_{i} = 0] \\right).\n",
        "$$\n",
        "\n",
        "Nothing in this equation indicates that the individuals at $T = 1$ has\n",
        "to be the same as the individuals at $T = 0$. The implication is that it\n",
        "is possible to do DID with repeated cross-section data. Recap, repeated\n",
        "cross-section data is simply data where you have collected data from\n",
        "samples in multiple periods, but the sample in each period is a\n",
        "different sample. Unlike panel data, while you have a time index in the\n",
        "data there are no longitudinal observations at the unit level.\n",
        "\n",
        "The model in theory suggests two ways to run DID. I will discuss each in\n",
        "turn.\n",
        "\n",
        "### Generating Repeated Cross-Section Data\n",
        "\n",
        "Data for repeated cross-section data is similar to panel data, except\n",
        "that instead of generating the unit first and then reusing the units\n",
        "over time you simply generate a new set of units in each time period."
      ],
      "id": "1e4b7896-04f6-4d44-9134-e94248614251"
    },
    {
      "cell_type": "code",
      "execution_count": null,
      "metadata": {},
      "outputs": [],
      "source": [
        "set.seed(1000)\n",
        "sim.data <- rbind(\n",
        "    tibble(i = c(1:10000), Treatment = 0, hgt = rnorm(10000, 1.68, 0.09), u = rnorm(10000, 0, 1)),\n",
        "    tibble(i = c(1:10000), Treatment = 1, hgt = rnorm(10000, 1.68, 0.09), u = rnorm(10000, 0, 1))\n",
        ")\n",
        "sim.data <- sim.data %>% mutate(diet = if_else(rnorm(20000, 0, 1) + u < 0, 0, 1), e = rnorm(20000, 0, 1) + u)\n",
        "sim.data <- sim.data %>% mutate(wgt = 2 * T + 28 * hgt ^ 2 - 3 * T * diet + e)"
      ],
      "id": "bef594c6-86b2-473c-90eb-dbc819c9bb86"
    },
    {
      "cell_type": "markdown",
      "metadata": {},
      "source": [
        "### DID on Repeated Cross-Section using OLS\n",
        "\n",
        "This is straightforward. As long as the sample in each period are\n",
        "independent, representative samples and you know which group in the\n",
        "“before” period would be given the treatment if you could observe them\n",
        "in the “after” period, then DID using OLS works the same way as in the\n",
        "panel data case."
      ],
      "id": "9fb95097-66bf-476c-acf7-fb4a93de3c80"
    },
    {
      "cell_type": "code",
      "execution_count": null,
      "metadata": {},
      "outputs": [],
      "source": [
        "sim.data %>%\n",
        "    lm(wgt ~ hgt + Treatment * diet, data = .) %>%\n",
        "    summary"
      ],
      "id": "b03ca166-a131-44da-ae21-91c3f22d21db"
    },
    {
      "cell_type": "markdown",
      "metadata": {},
      "source": [
        "### DID using a $2 \\times 2$ Table\n",
        "\n",
        "What I refer to as the $2 \\times 2$ table is:\n",
        "\n",
        "|  | $G = 0$ | $G = 1$ |  |\n",
        "|---------------:|:-----------------:|:-----------------:|:-----------------:|\n",
        "| $T = 0$ | $\\mu_{Y}(0,0)$ | $\\mu_{Y}(1,0)$ | $\\mu_{Y}(1,0) - \\mu_{Y}(0,0)$ |\n",
        "| $T = 1$ | $\\mu_{Y}(0,1)$ | $\\mu_{Y}(1,1)$ | $\\mu_{Y}(1,1) - \\mu_{Y}(0,1)$ |\n",
        "|  | $\\mu_{Y}(0,1) - \\mu_{Y}(0,0)$ | $\\mu_{Y}(1,1) - \\mu_{Y}(1,0)$ | $ATET$ |\n",
        "\n",
        "The principal problem is not in the point estimates. These are\n",
        "straightforward. The estimates for the central four cells are simply the\n",
        "four conditional means of the outcome variable. Then the estimates for\n",
        "the marginal cells are simply either row-wise or column-wise differences\n",
        "between the conditional means and the estimate of the ATET is the DID\n",
        "estimator using the conditional mean estimates in place of the true\n",
        "conditional expectations.\n",
        "\n",
        "The main problem is the question: How do you know that the ATET estimate\n",
        "is statistically significant? In other words, you want to test\n",
        "\n",
        "Recall the following:\n",
        "\n",
        "$$\n",
        "    Var(\\overline{X} + \\overline{Y}) = Var(\\overline{X}) + Var(\\overline{Y}) + 2 Cov(\\overline{X},\\overline{Y}).\n",
        "$$\n",
        "\n",
        "Note that this switching of notation from $\\mu$ (representing the true\n",
        "population-level conditional expectation) to $\\overline{X}$\n",
        "(representing our sample analogue estimator of the population-level\n",
        "expectations) is not a mistake. $\\mu$ has a variance of zero because it\n",
        "is the true population parameter. On the other hand $\\overline{X}$ has a\n",
        "variance because it is a function of a random sample. A function of\n",
        "random variables is itself a random variable (think about adding two\n",
        "random variables—is it now non-random?), therefore it makes sense to\n",
        "talk about its distributional properties. Now, if the data for $X$ and\n",
        "$Y$ are independent, then\n",
        "\n",
        "$$\n",
        "    Var(\\overline{X} + \\overline{Y}) = Var(\\overline{X}) + Var(\\overline{Y}).\n",
        "$$\n",
        "\n",
        "If the data was collected well, in many cases we can assume that\n",
        "$\\overline{Y}\\mid_{G=0,T=0}$, $\\overline{Y}\\mid_{G=0,T=1}$,\n",
        "$\\overline{Y}\\mid_{G=1,T=0}$, and $\\overline{Y}\\mid_{G=1,T=1}$, are\n",
        "indeed independent. Which then implies that the SE of the estimator\n",
        "should just be\n",
        "\n",
        "$$\n",
        "    SE\\left( \\left( \\overline{Y}\\mid_{G=1,T=1} - \\overline{Y}\\mid_{G=1,T=0} \\right) - \\left( \\overline{Y}\\mid_{G=0,T=1} - \\overline{Y}\\mid_{G=0,T=0} \\right) \\right) = \\sqrt{ Var\\left(\\overline{Y}\\mid_{G=0,T=0}\\right) + Var\\left(\\overline{Y}\\mid_{G=0,T=1}\\right) + Var\\left(\\overline{Y}\\mid_{G=1,T=0}\\right) + Var\\left(\\overline{Y}\\mid_{G=1,T=1}\\right) }.\n",
        "$$\n",
        "\n",
        "We can compute the second term. Each variance term is effectively just\n",
        "the squared SE of a conditional mean. Recall from the conditional\n",
        "expectations notebook that this is computed simply as\n",
        "`varmean = var(X[G = g & T = t], na.rm = TRUE) / sum(G = g & T = t & !is.na(X))`.\n",
        "\n",
        "Finally, we need a distribution. If you remember what you should have\n",
        "learnt about the $t$-test before, you would know that in only one case\n",
        "is the degrees of freedom the straightforward $df_{1} + df_{2} - 2$. In\n",
        "all other cases there is a specific formula that does not necessarily\n",
        "yield an integer DF. What do we then do here? You have two main options\n",
        "without going too deeply into theory unrelated to this course:\n",
        "\n",
        "1.  Assume that something analogous works for your situation as well, so\n",
        "    that you compute your DF as $$\n",
        "     df_{0,0} + df_{0,1} + df_{1,0} + df_{1,1} - 4.\n",
        "    $$\n",
        "2.  Ignore the DF and assume that you have sufficient variables (as a\n",
        "    rule-of-thumb, do you have at least $50$ observations in each of the\n",
        "    four groups?) so that you can assume that some Law of Large Numbers\n",
        "    holds and therefore the distribution of the test statistic is\n",
        "    approximately Normal.\n",
        "\n",
        "These give rise to the following procedure that should be roughly\n",
        "appropriate for this level:\n",
        "\n",
        "1.  Compute $\\overline{Y}\\mid_{G=1,T=1}$, $\\overline{Y}\\mid_{G=1,T=0}$,\n",
        "    $\\overline{Y}\\mid_{G=0,T=1}$, $\\overline{Y}\\mid_{G=0,T=0}$,\n",
        "    $Var\\left(\\overline{Y}\\mid_{G=0,T=0}\\right)$,\n",
        "    $Var\\left(\\overline{Y}\\mid_{G=0,T=1}\\right)$,\n",
        "    $Var\\left(\\overline{Y}\\mid_{G=1,T=0}\\right)$, and\n",
        "    $Var\\left(\\overline{Y}\\mid_{G=1,T=1}\\right)$.\n",
        "2.  Compute\n",
        "    $\\theta = \\left( \\overline{Y}\\mid_{G=1,T=1} - \\overline{Y}\\mid_{G=1,T=0} \\right) - \\left( \\overline{Y}\\mid_{G=0,T=1} - \\overline{Y}\\mid_{G=0,T=0} \\right)$.\n",
        "3.  Compute\n",
        "    $s^{2} = \\sqrt{ Var\\left(\\overline{Y}\\mid_{G=0,T=0}\\right) + Var\\left(\\overline{Y}\\mid_{G=0,T=1}\\right) + Var\\left(\\overline{Y}\\mid_{G=1,T=0}\\right) + Var\\left(\\overline{Y}\\mid_{G=1,T=1}\\right) }$.\n",
        "4.  Compute $\\frac{\\theta}{s}$ and label it either $t$ or $z$.\n",
        "5.  If you used the $t$ label, compute\n",
        "    $N\\mid_{G=0,T=0} + N\\mid_{G=0,T=1} + N\\mid_{G=1,T=0} + N\\mid_{G=1,T=1} - 4$\n",
        "    where $N$ means number of non-missing observations.\n",
        "6.  Compute the $p$ value for your test using either the\n",
        "    $t$-distribution or the Standard Normal distribution, depending on\n",
        "    whether you used the $t$ or $z$ label respectively.\n",
        "\n",
        "### Compute the $2 \\times 2$ Table of Means"
      ],
      "id": "7d90cfdb-e689-4851-ae91-3d7abc5793b0"
    },
    {
      "cell_type": "code",
      "execution_count": null,
      "metadata": {},
      "outputs": [],
      "source": [
        "sim.res.mat <- matrix(\n",
        "    c(sim.data %>% filter(Treatment == 0 & diet == 0 & !is.na(wgt)) %>% .$wgt %>% mean, sim.data %>% filter(Treatment == 0 & diet == 1 & !is.na(wgt)) %>% .$wgt %>% mean, 0,\n",
        "      sim.data %>% filter(Treatment == 1 & diet == 0 & !is.na(wgt)) %>% .$wgt %>% mean, sim.data %>% filter(Treatment == 1 & diet == 1 & !is.na(wgt)) %>% .$wgt %>% mean, 0,\n",
        "      0, 0, 0),\n",
        "    nrow = 3,\n",
        "    ncol = 3,\n",
        "    byrow = TRUE\n",
        ")\n",
        "sim.res.mat[1,3] <- sim.res.mat[1,2] - sim.res.mat[1,1]\n",
        "sim.res.mat[2,3] <- sim.res.mat[2,2] - sim.res.mat[2,1]\n",
        "sim.res.mat[3,1] <- sim.res.mat[2,1] - sim.res.mat[1,1]\n",
        "sim.res.mat[3,2] <- sim.res.mat[2,2] - sim.res.mat[1,2]\n",
        "sim.res.mat[3,3] <- sim.res.mat[3,2] - sim.res.mat[3,1]\n",
        "rownames(sim.res.mat) <- c('before', 'after', 'diff time')\n",
        "colnames(sim.res.mat) <- c('no diet', 'diet', 'diff diet')\n",
        "print(sim.res.mat)"
      ],
      "id": "06fd13d7-536b-42ae-b45a-3e1357b0fc66"
    },
    {
      "cell_type": "markdown",
      "metadata": {},
      "source": [
        "### Compute the Variances Associated with each Group"
      ],
      "id": "c03465b5-cccd-4c28-ab5c-6313955e73c2"
    },
    {
      "cell_type": "code",
      "execution_count": null,
      "metadata": {},
      "outputs": [],
      "source": [
        "sim.var.mat <- matrix(\n",
        "    c(sim.data %>% filter(Treatment == 0 & diet == 0 & !is.na(wgt)) %>% .$wgt %>% var, sim.data %>% filter(Treatment == 0 & diet == 1 & !is.na(wgt)) %>% .$wgt %>% var,\n",
        "     sim.data %>% filter(Treatment == 1 & diet == 0 & !is.na(wgt)) %>% .$wgt %>% var, sim.data %>% filter(Treatment == 1 & diet == 1 & !is.na(wgt)) %>% .$wgt %>% var),\n",
        "    nrow = 2,\n",
        "    ncol = 2,\n",
        "    byrow = TRUE\n",
        ")\n",
        "rownames(sim.var.mat) <- c('before', 'after')\n",
        "colnames(sim.var.mat) <- c('no diet', 'diet')\n",
        "print(sim.var.mat)"
      ],
      "id": "ac0faf0b-6d4a-4583-ac2d-bd850c243d8e"
    },
    {
      "cell_type": "markdown",
      "metadata": {},
      "source": [
        "### Compute the Counts in each Group"
      ],
      "id": "0a8daae4-e605-4fc6-b26a-7013dd8ce76e"
    },
    {
      "cell_type": "code",
      "execution_count": null,
      "metadata": {},
      "outputs": [],
      "source": [
        "sim.n.mat <- matrix(\n",
        "    c(sim.data %>% filter(Treatment == 0 & diet == 0 & !is.na(wgt)) %>% .$wgt %>% length, sim.data %>% filter(Treatment == 0 & diet == 1 & !is.na(wgt)) %>% .$wgt %>% length,\n",
        "     sim.data %>% filter(Treatment == 1 & diet == 0 & !is.na(wgt)) %>% .$wgt %>% length, sim.data %>% filter(Treatment == 1 & diet == 1 & !is.na(wgt)) %>% .$wgt %>% length),\n",
        "    nrow = 2,\n",
        "    ncol = 2,\n",
        "    byrow = TRUE\n",
        ")\n",
        "rownames(sim.n.mat) <- c('before', 'after')\n",
        "colnames(sim.n.mat) <- c('no diet', 'diet')\n",
        "print(sim.n.mat)"
      ],
      "id": "4b661363-6161-4c3a-a515-6a699ade515c"
    },
    {
      "cell_type": "markdown",
      "metadata": {},
      "source": [
        "### Compute the Test Statistic"
      ],
      "id": "1f63f5a0-a81a-4ae1-86c5-42c2e1baec68"
    },
    {
      "cell_type": "code",
      "execution_count": null,
      "metadata": {},
      "outputs": [],
      "source": [
        "sim.theta <- sim.res.mat[3,3] / sqrt(sum(sim.var.mat / sim.n.mat))\n",
        "print(sim.theta)"
      ],
      "id": "62d6c2b1-6af6-4f09-b84e-f4bcebb03a1d"
    },
    {
      "cell_type": "markdown",
      "metadata": {},
      "source": [
        "### Compute the $p$-Value"
      ],
      "id": "e8dd2d06-edfa-4503-bce1-dce7ee976669"
    },
    {
      "cell_type": "code",
      "execution_count": null,
      "metadata": {},
      "outputs": [],
      "source": [
        "print(\n",
        "    list(\n",
        "        'z-test' = 2 * pnorm(abs(sim.theta), 0, 1, lower.tail = FALSE),\n",
        "        't-test' = 2 * pt(abs(sim.theta), sum(sim.n.mat), lower.tail = FALSE)\n",
        "    )\n",
        ")"
      ],
      "id": "4436b6f2-76f7-4bb8-8570-e71d5ed74eb7"
    },
    {
      "cell_type": "markdown",
      "metadata": {},
      "source": [
        "### Comparison Against Linear Regression"
      ],
      "id": "663bc9aa-89ad-42d2-9e98-f2b5036affda"
    },
    {
      "cell_type": "code",
      "execution_count": null,
      "metadata": {},
      "outputs": [],
      "source": [
        "sim.data %>%\n",
        "    lm(wgt ~ Treatment * diet, data = .) %>%\n",
        "    summary"
      ],
      "id": "4df52abd-b83a-4774-9fe6-ae8831fba341"
    },
    {
      "cell_type": "markdown",
      "metadata": {},
      "source": [
        "### Summary for Repeated Cross-Section\n",
        "\n",
        "Clearly, you can compute the DID estimator manually with repeated\n",
        "cross-section data and it yields estimates of similar quality to what\n",
        "OLS provides. If doing it manually is your preference, go ahead.\n",
        "Otherwise, you should also take away from this section that OLS works\n",
        "just as well for repeated cross-section data. The presentation of the\n",
        "manual method is really just to show you in detail how the underlying\n",
        "statistics of this estimator works.\n",
        "\n",
        "## When Parallel Trends Fails\n",
        "\n",
        "The key and only assumption for DID is parallel trends,\n",
        "\n",
        "$$\n",
        "    \\mathbb{E}[Y_{0,i}(0) \\mid T_{i} = 1] - \\mathbb{E}[Y_{0,i}(0) \\mid T_{i} = 0] = \\mathbb{E}[Y_{1,i}(0) \\mid T_{i} = 1] - \\mathbb{E}[Y_{1,i}(0) \\mid T_{i} = 0].\n",
        "$$\n",
        "\n",
        "What happens if this fails? Notice what happens to the bias when you\n",
        "compute the DID estimator,\n",
        "\n",
        "$$\n",
        "    \\theta - ATET = \\underbrace{\\left( \\mathbb{E}[Y_{1,i}(0) \\mid T_{i} = 1] - \\mathbb{E}[Y_{1,i}(0) \\mid T_{i} = 0] \\right)}_{\\text{Time Trend for $G_{i} = 1$}} - \\underbrace{\\left( \\mathbb{E}[Y_{0,i}(0) \\mid T_{i} = 1] - \\mathbb{E}[Y_{0,i}(0) \\mid T_{i} = 0] \\right)}_{\\text{Time Trend for $G_{i} = 0$}}.\n",
        "$$\n",
        "\n",
        "When parallel trends is not satisfied, there is no longer any guarantee\n",
        "that the trends for the two groups are in the same direction, such that\n",
        "DID reduces the bias in the estimator. In fact, if the two groups\n",
        "intuitively trend in opposite directions, DID exacerbates the bias. Can\n",
        "you think of situations where your treated and never-treated groups\n",
        "naturally trend in different directions over time?\n",
        "\n",
        "### Load Data\n",
        "\n",
        "I will now simulate some data to simulate the case where parallel trends\n",
        "fails."
      ],
      "id": "68bac451-344f-4327-adf7-7a2af6fc29d1"
    },
    {
      "cell_type": "code",
      "execution_count": null,
      "metadata": {},
      "outputs": [],
      "source": [
        "set.seed(998)\n",
        "sim.data <- tibble(i = c(1:10000), hgt = rnorm(10000, 1.63, 0.08), u = rnorm(10000, 0, 1))\n",
        "sim.data <- sim.data %>% mutate(diet = if_else(rnorm(10000, 0, 1) + u < 0, 0, 1))\n",
        "sim.data <- rbind(\n",
        "    sim.data %>% mutate(Treatment = 0, e = rnorm(10000, 0, 1) + u) %>% mutate(wgt = 28 * hgt ^ 2 + e),\n",
        "    sim.data %>% mutate(Treatment = 1, e = rnorm(10000, 0, 1) + u, hgt = if_else(diet == 1, hgt - .1, hgt + .1)) %>% mutate(wgt = 2 + 28 * hgt ^ 2 - 3 * diet + e)\n",
        ")\n",
        "summary(sim.data)"
      ],
      "id": "67307137-a868-450a-af66-6539b1b5543b"
    },
    {
      "cell_type": "markdown",
      "metadata": {},
      "source": [
        "### The $t$-Test Fails\n",
        "\n",
        "Intuitively, because the divergence in time trends is due to unaccounted\n",
        "for changes in other covariates, the $t$-test will be badly biased\n",
        "because it is not considering the possibility that other confounding\n",
        "factors may change differently between the groups over time. This again\n",
        "reflects the core intuition of the parallel trends assumption: the\n",
        "selection bias in treatment assignment has to be constant over time.\n",
        "\n",
        "In this case, because the time trends of the diet and non-diet group\n",
        "move in opposite directions, the simple DID (first row) is more biased\n",
        "than either the naïve comparison measure (second row) or the\n",
        "before-after estimator (third row)."
      ],
      "id": "5b9ab98e-4dc1-4fbe-bfd5-3ced1867818a"
    },
    {
      "cell_type": "code",
      "execution_count": null,
      "metadata": {},
      "outputs": [],
      "source": [
        "diff.data <- sim.data %>% filter(Treatment == 1) - sim.data %>% filter(Treatment == 0) %>% mutate(diet = 0)"
      ],
      "id": "b5e3a157-7462-4ef4-85b6-a3659087b6a4"
    },
    {
      "cell_type": "code",
      "execution_count": null,
      "metadata": {},
      "outputs": [],
      "source": [
        "list(\n",
        "    t.test(\n",
        "        diff.data %>% filter(diet == 1) %>% select(wgt),\n",
        "        diff.data %>% filter(diet == 0) %>% select(wgt),\n",
        "        var.equal = TRUE\n",
        "    ),\n",
        "    t.test(\n",
        "        sim.data %>% filter(Treatment == 1, diet == 1) %>% select(wgt),\n",
        "        sim.data %>% filter(Treatment == 1, diet == 0) %>% select(wgt),\n",
        "        var.equal = TRUE\n",
        "    ),\n",
        "    t.test(\n",
        "        sim.data %>% filter(Treatment == 1, diet == 1) %>% select(wgt),\n",
        "        sim.data %>% filter(Treatment == 0, diet == 1) %>% select(wgt),\n",
        "        var.equal = TRUE\n",
        "    )\n",
        ") %>% \n",
        "    map_df(tidy) %>%\n",
        "    print"
      ],
      "id": "7a16b29f-9456-4be8-b709-dc4ca062c521"
    },
    {
      "cell_type": "markdown",
      "metadata": {},
      "source": [
        "### The Regression Method Still Works\n",
        "\n",
        "As you will see below, the regression method with controls still obtains\n",
        "the desired estimate. In fact, if you are paying attention, the OLS\n",
        "estimator gets the correct estimate despite misspecifying the form which\n",
        "height enters the model. This really gets to the heart of how closely\n",
        "linked regression methods (not just linear regression) and the CEF are.\n",
        "Notice that the regression model with controls is really estimating\n",
        "this:\n",
        "\n",
        "$$\n",
        "    ATET = \\left( \\mathbb{E}[Y_{i} \\mid X_{i}, G_{i} = 1, T_{i} = 1] - \\mathbb{E}[Y_{i} \\mid X_{i}, G_{i} = 1, T_{i} = 0] \\right) - \\left( \\mathbb{E}[Y_{i} \\mid X_{i}, G_{i} = 0, T_{i} = 1] - \\mathbb{E}[Y_{i} \\mid X_{i}, G_{i} = 0, T_{i} = 0] \\right).\n",
        "$$\n",
        "\n",
        "If controls $X_{i}$ are good enough proxies for the true reasons (or are\n",
        "the true reasons themselves) for divergence in time trends between the\n",
        "treated and never-treated groups, then the conditional version of the\n",
        "parallel trends assumption will be satisfied:\n",
        "\n",
        "$$\n",
        "    \\mathbb{E}[Y_{0,i}(0) \\mid X_{i}, T_{i} = 1] - \\mathbb{E}[Y_{0,i}(0) \\mid X_{i}, T_{i} = 0] = \\mathbb{E}[Y_{1,i}(0) \\mid X_{i}, T_{i} = 1] - \\mathbb{E}[Y_{1,i}(0) \\mid X_{i}, T_{i} = 0].\n",
        "$$\n",
        "\n",
        "This brings out the intuition for doing DID estimation with regression\n",
        "models. What you seek to control for is not selection bias—remember that\n",
        "DID has no problem with time-invariant selection bias. Instead, controls\n",
        "in the DID model should remove differences in the time trends of the\n",
        "treated and never-treated groups. This is what you need discuss when\n",
        "setting up your DID model and justifying the controls used."
      ],
      "id": "da5b141a-7d5e-4c3d-ad60-9ceb961c45e0"
    },
    {
      "cell_type": "code",
      "execution_count": null,
      "metadata": {},
      "outputs": [],
      "source": [
        "model1 <- lm(wgt ~ hgt + diet, data = filter(sim.data, Treatment == 1))\n",
        "model2 <- lm(wgt ~ hgt + Treatment, data = filter(sim.data, diet == 1))\n",
        "model3 <- lm(wgt ~ hgt + Treatment + diet, data = sim.data)\n",
        "model4 <- lm(wgt ~ hgt + Treatment * diet, data = sim.data)\n",
        "model5 <- lm(wgt ~ Treatment * diet, data = sim.data)\n",
        "\n",
        "stargazer(model1, \n",
        "          model2, \n",
        "          model3, \n",
        "          model4, \n",
        "          model5, \n",
        "          type = 'text',\n",
        "          df = FALSE,\n",
        "          omit.stat = c('F'))"
      ],
      "id": "a26e2d7e-dfd1-42fa-85d3-81457fe83de6"
    },
    {
      "cell_type": "markdown",
      "metadata": {},
      "source": [
        "## Exercise #: Difference-in-Differences in your Project\n",
        "\n",
        "### Load Your Data"
      ],
      "id": "0bfc509b-6f40-401a-b103-f57785a8bebb"
    },
    {
      "cell_type": "code",
      "execution_count": null,
      "metadata": {},
      "outputs": [],
      "source": [
        "library(haven)"
      ],
      "id": "33779808-07ae-459b-be6a-fbf3d742b8b0"
    },
    {
      "cell_type": "code",
      "execution_count": null,
      "metadata": {},
      "outputs": [],
      "source": [
        "my.data <- 'load your data'"
      ],
      "id": "1fab2fb0-104a-4bb9-bc21-161aa3dffa15"
    },
    {
      "cell_type": "code",
      "execution_count": null,
      "metadata": {},
      "outputs": [],
      "source": [
        "my.data <- 'clean your data'"
      ],
      "id": "14d08889-8aa4-4c58-a9ad-cbf1a742196f"
    },
    {
      "cell_type": "code",
      "execution_count": null,
      "metadata": {},
      "outputs": [],
      "source": [
        "my.data %>% data.frame %>% stargazer(type = 'text')"
      ],
      "id": "bf85eac2-fd0c-4c57-a22b-6eae2c220406"
    },
    {
      "cell_type": "markdown",
      "metadata": {},
      "source": [
        "### Plan and Run some DD Models"
      ],
      "id": "ca3b1b0d-1a96-4b7c-902d-e38be8ff4337"
    },
    {
      "cell_type": "code",
      "execution_count": null,
      "metadata": {},
      "outputs": [],
      "source": [
        "my.model.1 <- 'write your model' %>% lm(, data = my.data)\n",
        "my.model.1 %>% summary"
      ],
      "id": "d2e22de3-b36f-4a2e-8f64-7eb7be06852c"
    },
    {
      "cell_type": "code",
      "execution_count": null,
      "metadata": {},
      "outputs": [],
      "source": [
        "my.model.2 <- 'write another model' %>% lm(, data = my.data)\n",
        "my.model.2 %>% summary"
      ],
      "id": "8ccea254-2814-499c-a7d1-3018d2d4039f"
    },
    {
      "cell_type": "code",
      "execution_count": null,
      "metadata": {},
      "outputs": [],
      "source": [
        "my.model.3 <- 'write as many models as you would like to estimate' %>% lm(, data = my.data)\n",
        "my.model.3 %>% summary"
      ],
      "id": "2b701db0-fb51-4d17-988e-ef796bec30ec"
    },
    {
      "cell_type": "markdown",
      "metadata": {},
      "source": [
        "### Tabulate All Models"
      ],
      "id": "2ea111d8-f83f-46ae-821b-d02290c9f5dc"
    },
    {
      "cell_type": "code",
      "execution_count": null,
      "metadata": {},
      "outputs": [],
      "source": [
        "stargazer(\n",
        "    my.model.1,\n",
        "    my.model.2,\n",
        "    my.model.3,\n",
        "    type = 'html',\n",
        "    out = 'prj_dd_out.html',\n",
        "    out.header = TRUE\n",
        ")"
      ],
      "id": "56563a71-342f-47df-811e-9a02b9132501"
    }
  ],
  "nbformat": 4,
  "nbformat_minor": 5,
  "metadata": {
    "kernelspec": {
      "name": "ir",
      "display_name": "R",
      "language": "r"
    }
  }
}