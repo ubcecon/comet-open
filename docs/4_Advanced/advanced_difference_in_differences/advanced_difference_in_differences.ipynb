{
  "cells": [
    {
      "cell_type": "markdown",
      "metadata": {},
      "source": [
        "# 3.1.1 - Advanced - Linear Differencing Models I\n",
        "\n",
        "This notebook will cover:\n",
        "\n",
        "1.  Difference-in-Differences and when it is appropriate.\n",
        "2.  Consequences of misspecification.\n",
        "3.  The Event Study estimator.\n",
        "4.  The Triple Difference estimator.\n",
        "5.  Using Repeated Cross-Section data.\n",
        "6.  Failure of Parallel Trends.\n",
        "\n",
        "This notebook assumes you are familiar with and draws on concepts\n",
        "covered in:\n",
        "\n",
        "1.  Introduction to Jupyter.\n",
        "2.  Introduction to R.\n",
        "3.  Introduction to Data.\n",
        "4.  Expectations and Summary Statistics.\n",
        "5.  Conditional Expectations and the $t$-Test.\n",
        "6.  Regression Analysis."
      ],
      "id": "4b5ec28f-ec19-4738-889b-3b7efc4e2ace"
    },
    {
      "cell_type": "code",
      "execution_count": null,
      "metadata": {},
      "outputs": [],
      "source": [
        "library(tidyverse)\n",
        "library(stargazer)\n",
        "library(broom)"
      ],
      "id": "e362ff4f-5d5c-4f30-8033-21cfc0cb93f6"
    },
    {
      "cell_type": "markdown",
      "metadata": {},
      "source": [
        "## Difference-in-Differences\n",
        "\n",
        "To demonstrate how DID works and the consequences of misspecification,\n",
        "we require data where we know the true parameter values. Therefore this\n",
        "again necessitates using simulated data rather than real-life data.\n",
        "\n",
        "### Generating Panel-Structured Data\n",
        "\n",
        "Panel-Structured data have both a unit and a time index. Additionally,\n",
        "there should be a common time trend component and an additional time\n",
        "trend component specific only to the “treated” group. For our purposes,\n",
        "it can be more helpful to think of the “treated” group as simply the\n",
        "“group of interest” who may have been differentially affected by\n",
        "something that changed between the “before” and the “after” period(s).\n",
        "The minimum number of time periods we need to run a DID estimator is\n",
        "$2$, but the definition of a “period” is not constrained to “usual” time\n",
        "units like months and years. For example, if we have the privilege of\n",
        "working with linked census data, then our period may be decadal or\n",
        "quinquennial, while if we work with stock market data our period may be\n",
        "as fine as minutes or seconds.\n",
        "\n",
        "Note also that panel-structured data is not restricted to a unit-by-time\n",
        "structure. It is also possible to have a group-by-unit panel structured\n",
        "data. Examples include twins in a family unit, students in a class,\n",
        "patients and their primary physicians, *et cetera*. In this case, `i`\n",
        "below indexes the group instead of the unit and `T` indexes the unit\n",
        "within the group instead of time."
      ],
      "id": "94f6a644-9dc1-4201-bc86-9ab2b2b4dd0b"
    },
    {
      "cell_type": "code",
      "execution_count": null,
      "metadata": {},
      "outputs": [],
      "source": [
        "set.seed(998)\n",
        "sim.data <- tibble(i = c(1:10000), hgt = rnorm(10000, 1.68, 0.09), u = rnorm(10000, 0, 1))\n",
        "sim.data <- sim.data %>% mutate(diet = if_else(rnorm(10000, 0, 1) + u < 0, 0, 1))\n",
        "sim.data <- rbind(\n",
        "    sim.data %>% mutate(Treatment = 0, e = rnorm(10000, 0, 1) + u) %>% mutate(wgt = 28 * hgt ^ 2 + e),\n",
        "    sim.data %>% mutate(Treatment = 1, e = rnorm(10000, 0, 1) + u) %>% mutate(wgt = 2 + 28 * hgt ^ 2 - 3 * diet + e)\n",
        ")"
      ],
      "id": "ac6b5803-680f-4068-b971-172870f4bd1c"
    },
    {
      "cell_type": "markdown",
      "metadata": {},
      "source": [
        "### Summary Statistics\n",
        "\n",
        "Let’s first take a quick overview of the simulated data. This dataset\n",
        "tries to simulate a height and weight dataset. `hgt` is short for height\n",
        "(measured in meters; m), `wgt` for weight (measured in kilograms; kg),\n",
        "`diet` implies we are considering the effect of a diet. As is intuitive,\n",
        "evaluating the effect of a diet is an appropriate case for DID because\n",
        "diets take time to show their effects. We also clearly need height as a\n",
        "control because all else equal, a healthy but taller person should weigh\n",
        "more than a healthy but shorter person. `i` and `T` are our person and\n",
        "time indexes."
      ],
      "id": "ef53abeb-40b3-495c-9323-6566d64d5ce8"
    },
    {
      "cell_type": "code",
      "execution_count": null,
      "metadata": {},
      "outputs": [],
      "source": [
        "summary(sim.data)"
      ],
      "id": "d2dff30a-b8e4-4f89-a735-97add3a0dbbc"
    },
    {
      "cell_type": "markdown",
      "metadata": {},
      "source": [
        "## Difference-in-Differences Estimator\n",
        "\n",
        "The DID estimator looks as follows. We estimate\n",
        "\n",
        "$$\n",
        "    \\theta = \\mathbb{E}[Y_{i} \\mid \\underbrace{G_{i} = 1, T_{i} = 1}_{D_{i} = 1}] - \\mathbb{E}[Y_{i} \\mid \\underbrace{G_{i} = 1, T_{i} = 0}_{D_{i} = 0}].\n",
        "$$\n",
        "\n",
        "This is a model for when we have a treatment implemented in between two\n",
        "periods where we observe the units. However, as before, there will be\n",
        "bias without further adjustments to the method. The main bias with\n",
        "estimators that make use of the temporal dimension of the data is that\n",
        "naïve estimators conflate the true effect with time trends.\n",
        "\n",
        "To give an intuition, suppose we want to measure the effect of drinking\n",
        "milk daily on height growth in young children. The problem is that young\n",
        "children are developing and naturally grow taller regardless of their\n",
        "diet (unless they are severely malnourished). Therefore, a naïve\n",
        "estimator conflates this natural time trend with the real effect of the\n",
        "target diet and can spuriously estimate a positive effect of drinking\n",
        "milk when it could very well be the case that the true effect is zero or\n",
        "even negative.\n",
        "\n",
        "Mathematically, we see the bias in the potential-outcomes model by\n",
        "\n",
        "$$\n",
        "    \\theta = \\underbrace{\\mathbb{E}[Y_{1,i}(1) \\mid T_{i} = 1] - \\mathbb{E}[Y_{1,i}(0) \\mid T_{i} = 1]}_{ATET} + \\underbrace{\\mathbb{E}[Y_{1,i}(0) \\mid T_{i} = 1] - \\mathbb{E}[Y_{1,i}(0) \\mid T_{i} = 0]}_{Bias}.\n",
        "$$\n",
        "\n",
        "The bias is clearly coming from the unobserved time trend. How do we\n",
        "deal with it given that the comparison estimator already implicitly\n",
        "makes use of a time period indicator? The answer is that we postulate\n",
        "the existence of a counterfactual group for which we do indeed observe\n",
        "them being untreated in both periods, but their time trend is identical\n",
        "to the group of interest:\n",
        "\n",
        "$$\n",
        "    \\mathbb{E}[Y_{0,i}(0) \\mid T_{i} = 1] - \\mathbb{E}[Y_{0,i}(0) \\mid T_{i} = 0] = \\mathbb{E}[Y_{1,i}(0) \\mid T_{i} = 1] - \\mathbb{E}[Y_{1,i}(0) \\mid T_{i} = 0]\n",
        "$$\n",
        "\n",
        "where\n",
        "\n",
        "$$\n",
        "    \\mathbb{E}[Y_{0,i}(0) \\mid T_{i} = 1] - \\mathbb{E}[Y_{0,i}(0) \\mid T_{i} = 0] = \\mathbb{E}[Y_{i} \\mid \\underbrace{G_{i} = 0, T_{i} = 1}_{D_{i} = 0}] - \\mathbb{E}[Y_{i} \\mid \\underbrace{G_{i} = 0, T_{i} = 0}_{D_{i} = 0}].\n",
        "$$\n",
        "\n",
        "With this observed control group we can now estimate:\n",
        "\n",
        "$$\n",
        "    ATET = \\left( \\mathbb{E}[Y_{i} \\mid G_{i} = 1, T_{i} = 1] - \\mathbb{E}[Y_{i} \\mid G_{i} = 1, T_{i} = 0] \\right) - \\left( \\mathbb{E}[Y_{i} \\mid G_{i} = 0, T_{i} = 1] - \\mathbb{E}[Y_{i} \\mid G_{i} = 0, T_{i} = 0] \\right).\n",
        "$$\n",
        "\n",
        "This is estimatable because all this data is observed.\n",
        "\n",
        "### Difference-in-Differences with $t$-Tests\n",
        "\n",
        "Before we talk about the regression method of estimating DID models,\n",
        "let’s talk about the much simpler method of doing a plain comparison\n",
        "estimate. Recall that the model is\n",
        "\n",
        "$$\n",
        "    ATET = \\left( \\mathbb{E}[Y_{i} \\mid G_{i} = 1, T_{i} = 1] - \\mathbb{E}[Y_{i} \\mid G_{i} = 1, T_{i} = 0] \\right) - \\left( \\mathbb{E}[Y_{i} \\mid G_{i} = 0, T_{i} = 1] - \\mathbb{E}[Y_{i} \\mid G_{i} = 0, T_{i} = 0] \\right)\n",
        "$$\n",
        "\n",
        "which we can rewrite as\n",
        "\n",
        "$$\n",
        "    ATET = \\mathbb{E}[Y_{i,1} - Y_{i,0} \\mid G_{i} = 1] - \\mathbb{E}[Y_{i,1} - Y_{i,0} \\mid G_{i} = 0].\n",
        "$$\n",
        "\n",
        "This tells us precisely how to estimate the Average Treatment Effect on\n",
        "the Treated (ATET) using the DID estimator using a simple $t$-test:\n",
        "\n",
        "1.  Generate $\\Delta Y_{i} = Y_{i,1} - Y_{i,0}$.\n",
        "2.  Test $\\overline{\\Delta Y_{i}} \\mid_{G_{i} = 1}$ versus\n",
        "    $\\overline{\\Delta Y_{i}} \\mid_{G_{i} = 0}$."
      ],
      "id": "a09a0024-0a48-4eb1-8ca4-743ec6a7bac6"
    },
    {
      "cell_type": "code",
      "execution_count": null,
      "metadata": {},
      "outputs": [],
      "source": [
        "diff.data <- sim.data %>% filter(Treatment == 1) - sim.data %>% filter(Treatment == 0) %>% mutate(diet = 0)"
      ],
      "id": "28ef2940-0df2-49d1-a7d7-8628d53efb6b"
    },
    {
      "cell_type": "code",
      "execution_count": null,
      "metadata": {},
      "outputs": [],
      "source": [
        "list(\n",
        "    t.test(\n",
        "        diff.data %>% filter(diet == 1) %>% select(wgt),\n",
        "        diff.data %>% filter(diet == 0) %>% select(wgt),\n",
        "        var.equal = TRUE\n",
        "    )\n",
        ") %>% \n",
        "    map_df(tidy) %>%\n",
        "    print"
      ],
      "id": "ab558049-c92f-4729-a130-a03ef0a2dd40"
    },
    {
      "cell_type": "markdown",
      "metadata": {},
      "source": [
        "### Interpreting the Results\n",
        "\n",
        "Recall that the simple $t$-test method does not use controls, so this\n",
        "level of accuracy is unexpected. Note, in general, the DID estimator\n",
        "without controls does not yield the same results as the DID estimator\n",
        "with controls when applied to real-world data.\n",
        "\n",
        "The estimate is simply interpreted as the estimated ATET. The diet\n",
        "decreases the weight of the group undertaking the diet by $2.97$ kg. In\n",
        "your own cases, what the treatment, outcome, treated group, and units\n",
        "are depends on your question and data.\n",
        "\n",
        "### Naïve Comparison Measure Estimator\n",
        "\n",
        "Let’s first look several wrong ways to use panel data and show\n",
        "empirically why we should not be doing these things if our interest is\n",
        "in the ATET. One way is to estimate a comparison measure for the “after”\n",
        "period only:\n",
        "\n",
        "$$\n",
        "    \\theta_{after} = \\mathbb{E}[Y_{i} \\mid \\underbrace{G_{i} = 1, T_{i} = 1}_{D_{i} = 1}] - \\mathbb{E}[Y_{i} \\mid \\underbrace{G_{i} = 0, T_{i} = 1}_{D_{i} = 0}].\n",
        "$$\n",
        "\n",
        "This is of course going to be biased because you can see that, in the\n",
        "potential-outcomes model, this corresponds to\n",
        "\n",
        "$$\n",
        "    \\theta_{after} = \\underbrace{\\mathbb{E}[Y_{1,i}(1) \\mid T_{i} = 1] - \\mathbb{E}[Y_{1,i}(0) \\mid T_{i} = 1]}_{ATET} + \\underbrace{\\mathbb{E}[Y_{1,i}(0) \\mid T_{i} = 1] - \\mathbb{E}[Y_{0,i}(0) \\mid T_{i} = 1]}_{Bias}.\n",
        "$$\n",
        "\n",
        "This corresponds to the selection bias as we have been studying it for\n",
        "much of this course. However, if we assume that the size of this bias\n",
        "remains constant throughout time—which intuitively is exactly what the\n",
        "parallel trends assumption says—then we get rid of the selection bias\n",
        "precisely by further subtracting the “before” period comparison measure."
      ],
      "id": "c68f4f90-d256-46eb-89e9-80a263750a30"
    },
    {
      "cell_type": "code",
      "execution_count": null,
      "metadata": {},
      "outputs": [],
      "source": [
        "summary(\n",
        "    lm(\n",
        "        wgt ~ hgt + diet,\n",
        "        data = filter(sim.data, Treatment == 1)\n",
        "    )\n",
        ")"
      ],
      "id": "ee1b1c11-70b8-47be-b4b5-01cd7eac2a7c"
    },
    {
      "cell_type": "markdown",
      "metadata": {},
      "source": [
        "### Naïve Before-After Estimator\n",
        "\n",
        "The second wrong way to estimate a DID is to do exactly what was\n",
        "described at the start of this section,\n",
        "\n",
        "$$\n",
        "    \\theta = \\mathbb{E}[Y_{i} \\mid \\underbrace{G_{i} = 1, T_{i} = 1}_{D_{i} = 1}] - \\mathbb{E}[Y_{i} \\mid \\underbrace{G_{i} = 1, T_{i} = 0}_{D_{i} = 0}].\n",
        "$$\n",
        "\n",
        "Of course, by now you know where the problem with this estimator lies."
      ],
      "id": "b1f2b91d-66a1-4f47-b715-f05652523808"
    },
    {
      "cell_type": "code",
      "execution_count": null,
      "metadata": {},
      "outputs": [],
      "source": [
        "summary(\n",
        "    lm(\n",
        "        wgt ~ hgt + Treatment,\n",
        "        data = filter(sim.data, diet == 1)\n",
        "    )\n",
        ")"
      ],
      "id": "c43ce97c-9397-4012-9734-78ae985fc53a"
    },
    {
      "cell_type": "markdown",
      "metadata": {},
      "source": [
        "### Naïve Linear Estimator Without Interaction Terms\n",
        "\n",
        "A third way to estimate the ATET wrongly is to do a naïve linear\n",
        "estimator of the form\n",
        "\n",
        "$$\n",
        "    Y_{i} = b_{0} + b_{1} T_{i} + b_{2} D_{i} + e_{i}.\n",
        "$$\n",
        "\n",
        "Why would this be biased? One way to think about this is that this\n",
        "regression implies\n",
        "\n",
        "This points to a selection bias intuition. If you believe there is no\n",
        "unobserved selection into treatment, then this model is correct. In most\n",
        "cases this is not true.\n",
        "\n",
        "This may then prompt the question: intuitively, the saturated model\n",
        "solves this problem. Why? The idea again goes back to the parallel\n",
        "trends assumption. We assume that the selection bias is constant over\n",
        "time. As such, the “before” period observation where both groups are\n",
        "untreated provides an estimate of the selection bias, which we can then\n",
        "remove from this biased estimator to obtain the unbiased estimate of the\n",
        "ATET.\n",
        "\n",
        "This intuition should also reveal something very interesting: the DID\n",
        "estimator circumvents selection bias entirely. You do not need an\n",
        "experimental set-up without selection bias to use DID!"
      ],
      "id": "b1f0ebfa-48da-48dc-93f4-85917eb29d1a"
    },
    {
      "cell_type": "code",
      "execution_count": null,
      "metadata": {},
      "outputs": [],
      "source": [
        "summary(\n",
        "    lm(\n",
        "        wgt ~ hgt + Treatment + diet,\n",
        "        data = sim.data\n",
        "    )\n",
        ")"
      ],
      "id": "8cf3d47c-cb7a-4800-8ad3-56621caa9159"
    },
    {
      "cell_type": "markdown",
      "metadata": {},
      "source": [
        "### Difference-in-Differences using Linear Regression\n",
        "\n",
        "The linear regression model of DID is how most DID models are estimated\n",
        "in the academic literature. We estimate a model that is saturated in the\n",
        "time and group variables,\n",
        "\n",
        "$$\n",
        "    Y_{i} = \\alpha + \\gamma T_{i} + \\beta G_{i} + \\delta T_{i} \\times G_{i} + \\epsilon_{i}.\n",
        "$$\n",
        "\n",
        "This gives us\n",
        "\n",
        "This yields the time trend as $\\gamma$ and the time-invariant selection\n",
        "bias as $\\beta$. $\\delta$ is the unbiased estimator of the ATET and our\n",
        "parameter of interest."
      ],
      "id": "513b2499-b0fc-419f-b2ca-1ede80a3c3c0"
    },
    {
      "cell_type": "code",
      "execution_count": null,
      "metadata": {},
      "outputs": [],
      "source": [
        "summary(\n",
        "    lm(\n",
        "        wgt ~ hgt + Treatment * diet,\n",
        "        data = sim.data\n",
        "    )\n",
        ")"
      ],
      "id": "ca9c9fb4-0db8-4777-af2b-39eaf2c69793"
    },
    {
      "cell_type": "markdown",
      "metadata": {},
      "source": [
        "### Comparing Estimators\n",
        "\n",
        "The following table shows all the mispecified models and the correct\n",
        "specification. (1) is the naïve comparison estimator, (2) is the\n",
        "before-after estimator, (3) is the linear model estimator without the\n",
        "interaction term, (4) is the fully specified model, and (5) is what the\n",
        "$t$-test implicitly estimates.\n",
        "\n",
        "Again, note that (4) and (5) will in general not produce the same ATET\n",
        "estimate in most real-world data sets."
      ],
      "id": "1cbc0225-b93f-46eb-ba96-d9e1b5357ab0"
    },
    {
      "cell_type": "code",
      "execution_count": null,
      "metadata": {},
      "outputs": [],
      "source": [
        "model1 <- lm(wgt ~ hgt + diet, data = filter(sim.data, Treatment == 1))\n",
        "model2 <- lm(wgt ~ hgt + Treatment, data = filter(sim.data, diet == 1))\n",
        "model3 <- lm(wgt ~ hgt + Treatment + diet, data = sim.data)\n",
        "model4 <- lm(wgt ~ hgt + Treatment * diet, data = sim.data)\n",
        "model5 <- lm(wgt ~ Treatment * diet, data = sim.data)\n",
        "\n",
        "stargazer(model1, \n",
        "          model2, \n",
        "          model3, \n",
        "          model4, \n",
        "          model5, \n",
        "          type = 'text',\n",
        "          df = FALSE,\n",
        "          omit.stat = c('F'))"
      ],
      "id": "d8d68bce-ff1e-4f61-a5f0-14b829f2b0b0"
    },
    {
      "cell_type": "markdown",
      "metadata": {},
      "source": [
        "## Heterogeneity Over Time: the Event Study Estimator\n",
        "\n",
        "The logic of DID can be extended to the case where we observe multiple\n",
        "post-treatment periods. If we think that the ATET is heterogeneous over\n",
        "time, we can estimate an ATET for each period observed. This gives rise\n",
        "to the Event Study estimator. It is so named because this is often used\n",
        "to study the effect of a specific event—usually policy changes and\n",
        "natural disasters—and trace out its effects over many periods. While\n",
        "there is currently an active literature looking at problems with this\n",
        "estimator, we concern ourselves primarily with the simplest case where\n",
        "the treatment occurs only once and we observe the treated group and a\n",
        "counterfactual never-treated group for several periods before and after\n",
        "the event.\n",
        "\n",
        "### Load Data\n",
        "\n",
        "By convention, for a panel-structured data with more than two periods,\n",
        "period $0$ is when the treatment is implemented and all other period\n",
        "numbers refer to the number of periods after (positive) and before\n",
        "(negative) treatment implementation."
      ],
      "id": "c9c8ba1d-4dac-4b7f-ada0-28bfd3201425"
    },
    {
      "cell_type": "code",
      "execution_count": null,
      "metadata": {},
      "outputs": [],
      "source": [
        "set.seed(999)\n",
        "sim.data <- tibble(i = c(1:10000), hgt = rnorm(10000, 1.68, 0.09), u = rnorm(10000, 0, 1))\n",
        "sim.data <- sim.data %>% mutate(diet = if_else(rnorm(10000, 0, 1) + u < 0, 0, 1))\n",
        "sim.data <- rbind(\n",
        "    sim.data %>% mutate(Treatment = -3, e = rnorm(10000, 0, 1) + u) %>% mutate(wgt = - 1.2 + 28 * hgt ^ 2 + e),\n",
        "    sim.data %>% mutate(Treatment = -2, e = rnorm(10000, 0, 1) + u) %>% mutate(wgt = - .5 + 28 * hgt ^ 2 + e),\n",
        "    sim.data %>% mutate(Treatment = -1, e = rnorm(10000, 0, 1) + u) %>% mutate(wgt = 28 * hgt ^ 2 + e),\n",
        "    sim.data %>% mutate(Treatment = 0, e = rnorm(10000, 0, 1) + u) %>% mutate(wgt = .3 + 28 * hgt ^ 2 + 1.2 * diet + e),\n",
        "    sim.data %>% mutate(Treatment = 1, e = rnorm(10000, 0, 1) + u) %>% mutate(wgt = .5 + 28 * hgt ^ 2 + .8 * diet + e),\n",
        "    sim.data %>% mutate(Treatment = 2, e = rnorm(10000, 0, 1) + u) %>% mutate(wgt = .9 + 28 * hgt ^ 2 + .1 * diet + e),\n",
        "    sim.data %>% mutate(Treatment = 3, e = rnorm(10000, 0, 1) + u) %>% mutate(wgt = 1.1 + 28 * hgt ^ 2 - .5 * diet + e),\n",
        "    sim.data %>% mutate(Treatment = 4, e = rnorm(10000, 0, 1) + u) %>% mutate(wgt = 1.4 + 28 * hgt ^ 2 - 1.5 * diet + e)\n",
        ")"
      ],
      "id": "9c30a740-be51-421f-af02-d0dba3c3540d"
    },
    {
      "cell_type": "markdown",
      "metadata": {},
      "source": [
        "### Wrongly Using the Difference-in-Differences Estimator\n",
        "\n",
        "Intuitively, of course the plain DID estimator is a misspecification if\n",
        "we believe that the ATET is heterogeneous over time. Using the Law of\n",
        "Iterated Expectations, we know what the wrongly estimated ATET will be:\n",
        "\n",
        "$$\n",
        "    \\mathbb{E}[\\Delta_{i} \\mid G_{i} = 1] = \\mathbb{E}_{T}[\\mathbb{E}[\\Delta_{i} \\mid G_{i} = 1, T] \\mid G_{i} = 1].\n",
        "$$\n",
        "\n",
        "Hence, as in this simulated data set, if the time trend of the treatment\n",
        "effect is not monotonic, we can have unexpected results by incorrectly\n",
        "specifying a case of truly heterogeneous treatment effects using the\n",
        "homogeneous treatment effect estimator."
      ],
      "id": "2f92ac2c-6453-430b-8b78-883b4c344e5a"
    },
    {
      "cell_type": "code",
      "execution_count": null,
      "metadata": {},
      "outputs": [],
      "source": [
        "sim.data %>%\n",
        "    mutate(T = if_else(Treatment > -1, 1, 0)) %>%\n",
        "    lm(wgt ~ hgt + Treatment * diet, data = .) %>%\n",
        "    summary"
      ],
      "id": "4eee9130-a74b-464b-ad65-7d6f4a4f89a0"
    },
    {
      "cell_type": "markdown",
      "metadata": {},
      "source": [
        "### Event Study with $t$-Tests\n",
        "\n",
        "The $t$-Test version of the Event Study estimator is straightforward.\n",
        "What we are essentially interested in is\n",
        "\n",
        "$$\n",
        "    ATET(t) = \\left( \\mathbb{E}[Y_{i} \\mid G_{i} = 1, T_{i} = t] - \\mathbb{E}[Y_{i} \\mid G_{i} = 1, T_{i} = -1] \\right) - \\left( \\mathbb{E}[Y_{i} \\mid G_{i} = 0, T_{i} = t] - \\mathbb{E}[Y_{i} \\mid G_{i} = 0, T_{i} = -1] \\right)\n",
        "$$\n",
        "\n",
        "which we can rewrite as\n",
        "\n",
        "$$\n",
        "    ATET(t) = \\mathbb{E}[Y_{i,t} - Y_{i,-1} \\mid G_{i} = 1] - \\mathbb{E}[Y_{i,t} - Y_{i,-1} \\mid G_{i} = 0].\n",
        "$$\n",
        "\n",
        "This implies that what we want to do is simply to first restrict our\n",
        "data set to the periods $t$ and $-1$, then use the regular DID estimator\n",
        "on this subset, and repeat this exercise for all periods before and\n",
        "after $-1$."
      ],
      "id": "210360c2-3408-4791-81d2-d92847036066"
    },
    {
      "cell_type": "code",
      "execution_count": null,
      "metadata": {},
      "outputs": [],
      "source": [
        "c(0:4) %>% \n",
        "    lapply(\n",
        "        function (t) t.test(\n",
        "            sim.data %>% filter(Treatment == t & diet == 1) %>% select(wgt) - sim.data %>% filter(Treatment == -1 & diet == 1) %>% select(wgt), \n",
        "            sim.data %>% filter(Treatment == t & diet == 0) %>% select(wgt) - sim.data %>% filter(Treatment == -1 & diet == 0) %>% select(wgt), \n",
        "            var.equal = TRUE\n",
        "        )\n",
        "    ) %>%\n",
        "    map_df(tidy) %>%\n",
        "    print"
      ],
      "id": "0d51dbc6-37c0-45c0-8666-ec1794a65025"
    },
    {
      "cell_type": "markdown",
      "metadata": {},
      "source": [
        "### Interpreting the Results\n",
        "\n",
        "The $t$-test analogue of the Event Study estimator also highlights\n",
        "intuitively how we need to think about and interpret the estimator. The\n",
        "ATET estimate for each period is interpreted with respect to the base\n",
        "period, which in this case is the period just before the treatment is\n",
        "implemented. Here,\n",
        "\n",
        "1.  The diet actually increases the weight of those on the diet by\n",
        "    $1.12$ kg on average in the period they start the diet.\n",
        "2.  The diet still increases the weight of those on the diet by $0.748$\n",
        "    kg on average relative to before starting the diet after $1$ period\n",
        "    (let’s say, months).\n",
        "3.  The effect of the diet $2$ months after starting the diet is\n",
        "    approximately zero relative to before the diet.\n",
        "4.  The effect of the diet turns negative after $3$ months relative to\n",
        "    before the diet, with those on diet losing $0.571$ kg on average.\n",
        "5.  Those on the diet lose $1.55$ kg on average after $4$ months on the\n",
        "    diet relative to before starting the diet.\n",
        "\n",
        "### Event Study with Linear Regression\n",
        "\n",
        "With linear regression, the Event Study method is even simpler.\n",
        "Factorise your time variable and set $-1$ as the base level using\n",
        "`relevel`, then estimate the model. `R` takes care of all the necessary\n",
        "interactions for us."
      ],
      "id": "e9fecc8a-4825-4bf1-97cd-323e59c7e7d6"
    },
    {
      "cell_type": "code",
      "execution_count": null,
      "metadata": {},
      "outputs": [],
      "source": [
        "sim.data %>%\n",
        "    mutate(Treatment = relevel(factor(Treatment, levels = c(-3, -2, -1, 0, 1, 2, 3, 4)), ref = 3)) %>%\n",
        "    lm(wgt ~ hgt + Treatment * diet, data = .) %>%\n",
        "    summary"
      ],
      "id": "81b3aaaa-0bb6-4735-8a6f-832ea77471c6"
    },
    {
      "cell_type": "markdown",
      "metadata": {},
      "source": [
        "## Heterogeneity Over Groups: the Triple Difference Estimator\n",
        "\n",
        "Suppose we are interested in not only the ATET, but also how the ATET\n",
        "differs across certain groups of interest. An example is whether a\n",
        "certain policy, which only affects some individuals, helps to close the\n",
        "gender wage gap: what this implicitly asks is whether\n",
        "\n",
        "$$\n",
        "    ATET(female) > ATET(male).\n",
        "$$\n",
        "\n",
        "Provided that we have panel data, again there is a method that helps to\n",
        "illuminate this kind of heterogeneity: the Triple Difference estimator.\n",
        "What the Triple Difference estimator is interested in is implicitly\n",
        "\n",
        "$$\n",
        "    ATET(k) = \\left( \\mathbb{E}[Y_{i} \\mid G_{i} = 1, K = k, T_{i} = 1] - \\mathbb{E}[Y_{i} \\mid G_{i} = 1, K = k, T_{i} = 0] \\right) - \\left( \\mathbb{E}[Y_{i} \\mid G_{i} = 0, K = k, T_{i} = 1] - \\mathbb{E}[Y_{i} \\mid G_{i} = 0, K = k, T_{i} = 0] \\right),\n",
        "$$\n",
        "\n",
        "where $k$ is a group of interest that is not the basis for selection\n",
        "into treatment for which we think $ATET(k) \\ne ATET$ and we would like\n",
        "to estimate $ATET(k)$ specifically. As in the lecture notes, while we\n",
        "can in principle estimate heterogeneous treatment effects by simply\n",
        "estimating a DID model for each sub-group, this assumes a fully\n",
        "heterogeneous model where it may not actually be warranted, is\n",
        "inefficient as you are not using the full sample, and it is\n",
        "difficult—though not impossible, but the methods are beyond this level\n",
        "of study—to test if the differences are actually statistically\n",
        "significant.\n",
        "\n",
        "Hence, taking the usual route of adding yet another interaction term to\n",
        "the model to obtain the heterogeneous treatment effects of interest\n",
        "yields the Triple Differences estimator. This gives an intuition as to\n",
        "what Triple Differences are good for:\n",
        "\n",
        "1.  Triple Differences tells you if a treatment has additional effects\n",
        "    on specific sub-groups.\n",
        "2.  Triple Differences is also useful if what you are interested in is\n",
        "    the pure effect of the treatment and would like to partial out all\n",
        "    other confounding effects of time and group using an argument\n",
        "    similar to the parallel trends assumption.\n",
        "\n",
        "### Load Data\n",
        "\n",
        "The data requirements for Triple Differences are similar to that of DID,\n",
        "except we also require another grouping axis that exhibits variation\n",
        "over the treatment assignment indicator. In other words, it cannot be\n",
        "the case that that grouping variable is collinear with the treatment\n",
        "assignment indicator—for example, if we want to understand the gendered\n",
        "impact of a policy, that policy cannot only impact one gender."
      ],
      "id": "2cfe3756-d997-4b87-ab38-d0d020de552b"
    },
    {
      "cell_type": "code",
      "execution_count": null,
      "metadata": {},
      "outputs": [],
      "source": [
        "set.seed(999)\n",
        "sim.data <- tibble(i = c(1:10000), u = rnorm(10000, 0, 1))\n",
        "sim.data <- sim.data %>% mutate(sex = rnorm(10000, 0, 1) + u, diet = rnorm(10000, 0, 1))\n",
        "sim.data <- sim.data %>% mutate(diet = if_else(diet < 0, 0, 1), sex = factor(if_else(sex < 0, 'male', 'female'), levels = c('male', 'female')))\n",
        "sim.data <- sim.data %>% mutate(hgt = rnorm(10000, 1.69, .1))\n",
        "sim.data <- rbind(sim.data %>% mutate(Treatment = 0), sim.data %>% mutate(Treatment = 1)) \n",
        "sim.data <- sim.data %>% mutate(e = rnorm(20000, 0, 1) + u)\n",
        "sim.data <- sim.data %>% mutate(wgt = 26.4 * hgt * hgt + 1.7 * Treatment - 2.55 * (sex == 'female') - 1.3 * Treatment * (sex == 'female') - 2 * Treatment * diet - 1.2 * Treatment * diet * (sex == 'female') + e) "
      ],
      "id": "61bb4bba-4e4b-4a58-bbd4-340ad1fab8a3"
    },
    {
      "cell_type": "markdown",
      "metadata": {},
      "source": [
        "### Wrongly Using the Difference-in-Differences Estimator\n",
        "\n",
        "The Law of Iterated Expectations can again be used to tell us that if\n",
        "the treatment effect is really heterogeneous, then ignoring that\n",
        "heterogeneity is going to yield a biased estimator that is the weighted\n",
        "mean of all the treatment effects,\n",
        "\n",
        "$$\n",
        "    \\mathbb{E}[\\Delta_{i} \\mid G_{i} = 1] = \\mathbb{E}_{K}[\\mathbb{E}[\\Delta_{i} \\mid G_{i} = 1, K] \\mid G_{i} = 1].\n",
        "$$\n",
        "\n",
        "In this case, it may look like there was a mistake because $-2.5$ is\n",
        "less than either $-2$ or $-1.2$, but recall from the module on\n",
        "regressions that the proper way to interpret coefficients under\n",
        "interaction terms tells us that in fact the effect of the diet on the\n",
        "two sexes are $-2$ and $-3.2$ respectively. Therefore the biased\n",
        "estimate of $-2.5$ adheres to the Law of Iterated Expectations well."
      ],
      "id": "b5e6713a-69ef-46c2-a05e-bb8b109d70d0"
    },
    {
      "cell_type": "code",
      "execution_count": null,
      "metadata": {},
      "outputs": [],
      "source": [
        "sim.data %>%\n",
        "    lm(wgt ~ hgt + Treatment * diet, data = .) %>%\n",
        "    summary"
      ],
      "id": "b0aff6fd-8f88-4415-99c6-a144d4b35dd1"
    },
    {
      "cell_type": "markdown",
      "metadata": {},
      "source": [
        "### Triple Difference Intuition with $t$-Tests\n",
        "\n",
        "Before we move into regression analysis, which can be harder to\n",
        "interpret, we’ll look at some $t$-test results to get a bearing on the\n",
        "intuitions. Each row corresponds to one of the sexes. The first column\n",
        "of the table is the heterogeneous weight loss estimate of each sex.\n",
        "Then, the Triple Difference estimator is simply the difference in the\n",
        "two weight loss estimates. The estimate corresponds to the coefficient\n",
        "on the triple interaction term in our data simulation code, as expected,\n",
        "and can be interpreted in one of two ways. The first is outlined in the\n",
        "notes, corresponding to the true treatment effect after separating out\n",
        "group effects as well. The second is outlined here, corresponding to the\n",
        "additional weight loss due to the diet on females compared to males."
      ],
      "id": "dfc94cb0-5b50-48de-9d20-dd44ca7562aa"
    },
    {
      "cell_type": "code",
      "execution_count": null,
      "metadata": {},
      "outputs": [],
      "source": [
        "list(\n",
        "    t.test(\n",
        "        sim.data %>% filter(sex == 'female' & Treatment == 1 & diet == 1) %>% select(wgt) - sim.data %>% filter(sex == 'female' & Treatment == 0 & diet == 1) %>% select(wgt), \n",
        "        sim.data %>% filter(sex == 'female' & Treatment == 1 & diet == 0) %>% select(wgt) - sim.data %>% filter(sex == 'female' & Treatment == 0 & diet == 0) %>% select(wgt), \n",
        "        var.equal = TRUE\n",
        "    ),\n",
        "    t.test(\n",
        "        sim.data %>% filter(sex == 'male' & Treatment == 1 & diet == 1) %>% select(wgt) - sim.data %>% filter(sex == 'male' & Treatment == 0 & diet == 1) %>% select(wgt), \n",
        "        sim.data %>% filter(sex == 'male' & Treatment == 1 & diet == 0) %>% select(wgt) - sim.data %>% filter(sex == 'male' & Treatment == 0 & diet == 0) %>% select(wgt), \n",
        "        var.equal = TRUE\n",
        "    )\n",
        ") %>%\n",
        "    map_df(tidy) %>%\n",
        "    print"
      ],
      "id": "29c7d049-53ff-46fa-b088-896e175a4978"
    },
    {
      "cell_type": "markdown",
      "metadata": {},
      "source": [
        "### Triple Difference with Linear Regression\n",
        "\n",
        "This shows the Triple Difference estimator as discussed in the note. In\n",
        "`R`, the interaction operator `*` can be chained and therefore it is\n",
        "relatively simple to set up the Triple Difference estimator. `R` takes\n",
        "care of populating all the interaction terms."
      ],
      "id": "e4c86ad0-bc2f-4971-9aae-d53e41df3073"
    },
    {
      "cell_type": "code",
      "execution_count": null,
      "metadata": {},
      "outputs": [],
      "source": [
        "sim.data %>%\n",
        "    lm(wgt ~ hgt + sex * Treatment * diet, data = .) %>%\n",
        "    summary"
      ],
      "id": "836c48b2-bd84-483b-9d6f-672ca73b021f"
    },
    {
      "cell_type": "markdown",
      "metadata": {},
      "source": [
        "### Comparing Misspecified Estimators under Triple Differences\n",
        "\n",
        "The following two tables shows how various ways of misspecifying the\n",
        "model when the true CEF corresponds to the heterogeneous ATET/Triple\n",
        "Difference case results in biased estimates. Try to figure out if you\n",
        "can compute the biased estimates theoretically to check your\n",
        "understanding of how the DID model works in general!"
      ],
      "id": "de852328-af6a-41a0-85bd-75f9e0081e92"
    },
    {
      "cell_type": "code",
      "execution_count": null,
      "metadata": {},
      "outputs": [],
      "source": [
        "model1 <- lm(wgt ~ hgt + Treatment * diet, data = sim.data)\n",
        "model2 <- lm(wgt ~ hgt + Treatment * diet, data = sim.data %>% filter(sex == 'female'))\n",
        "model3 <- lm(wgt ~ hgt + Treatment * diet, data = sim.data %>% filter(sex == 'male'))\n",
        "model4 <- lm(wgt ~ hgt + Treatment * diet * sex, data = sim.data)\n",
        "\n",
        "stargazer(model1, \n",
        "          model2, \n",
        "          model3, \n",
        "          model4, \n",
        "          type = 'text',\n",
        "          df = FALSE,\n",
        "          omit.stat = c('F'))"
      ],
      "id": "845771bd-6484-49fa-8348-2fd2ff71effc"
    },
    {
      "cell_type": "code",
      "execution_count": null,
      "metadata": {},
      "outputs": [],
      "source": [
        "model1 <- lm(wgt ~ hgt + Treatment * sex, data = sim.data)\n",
        "model2 <- lm(wgt ~ hgt + Treatment * sex, data = sim.data %>% filter(diet == 1))\n",
        "model3 <- lm(wgt ~ hgt + Treatment * sex, data = sim.data %>% filter(diet == 0))\n",
        "model4 <- lm(wgt ~ hgt + diet * sex, data = sim.data)\n",
        "model5 <- lm(wgt ~ hgt + diet * sex, data = sim.data %>% filter(Treatment == 1))\n",
        "model6 <- lm(wgt ~ hgt + diet * sex, data = sim.data %>% filter(Treatment == 0))\n",
        "model7 <- lm(wgt ~ hgt + Treatment * diet * sex, data = sim.data)\n",
        "\n",
        "\n",
        "stargazer(model1, \n",
        "          model2, \n",
        "          model3, \n",
        "          model4, \n",
        "          model5, \n",
        "          model6, \n",
        "          model7, \n",
        "          type = 'text',\n",
        "          df = FALSE,\n",
        "          omit.stat = c('F'))"
      ],
      "id": "74a55fb9-7545-4cf6-b990-7e33fd6bc367"
    },
    {
      "cell_type": "markdown",
      "metadata": {},
      "source": [
        "## Using Repeated Cross-Section Data\n",
        "\n",
        "Let’s return to the DID model for a bit.\n",
        "\n",
        "$$\n",
        "    ATET = \\left( \\mathbb{E}[Y_{i} \\mid G_{i} = 1, T_{i} = 1] - \\mathbb{E}[Y_{i} \\mid G_{i} = 1, T_{i} = 0] \\right) - \\left( \\mathbb{E}[Y_{i} \\mid G_{i} = 0, T_{i} = 1] - \\mathbb{E}[Y_{i} \\mid G_{i} = 0, T_{i} = 0] \\right).\n",
        "$$\n",
        "\n",
        "Nothing in this equation indicates that the individuals at $T = 1$ have\n",
        "to be the same as the individuals at $T = 0$. The implication is that it\n",
        "is possible to do DID with repeated cross-section data. Recall that\n",
        "repeated cross-section data is simply data where you have collected data\n",
        "from samples in multiple periods, but the sample in each period is a\n",
        "different sample. Unlike panel data, where you have a time index in the\n",
        "data, there are no longitudinal observations at the unit level.\n",
        "\n",
        "The model in theory suggests two ways to run DID.\n",
        "\n",
        "### Generating Repeated Cross-Section Data\n",
        "\n",
        "Data for repeated cross-section data is similar to panel data, except\n",
        "that instead of generating the unit first and then reusing the units\n",
        "over time you simply generate a new set of units in each time period."
      ],
      "id": "8f76d342-af52-4ffc-8f5e-f468169b26e0"
    },
    {
      "cell_type": "code",
      "execution_count": null,
      "metadata": {},
      "outputs": [],
      "source": [
        "set.seed(1000)\n",
        "sim.data <- rbind(\n",
        "    tibble(i = c(1:10000), Treatment = 0, hgt = rnorm(10000, 1.68, 0.09), u = rnorm(10000, 0, 1)),\n",
        "    tibble(i = c(1:10000), Treatment = 1, hgt = rnorm(10000, 1.68, 0.09), u = rnorm(10000, 0, 1))\n",
        ")\n",
        "sim.data <- sim.data %>% mutate(diet = if_else(rnorm(20000, 0, 1) + u < 0, 0, 1), e = rnorm(20000, 0, 1) + u)\n",
        "sim.data <- sim.data %>% mutate(wgt = 2 * T + 28 * hgt ^ 2 - 3 * T * diet + e)"
      ],
      "id": "2e3a0e54-a876-40a3-af1e-e86ce359a30e"
    },
    {
      "cell_type": "markdown",
      "metadata": {},
      "source": [
        "### DID on Repeated Cross-Section using OLS\n",
        "\n",
        "This is straightforward. As long as the samples in each period are\n",
        "independent, representative samples and you know which group in the\n",
        "“before” period would be given the treatment if you could observe them\n",
        "in the “after” period, then DID using OLS works the same way as in the\n",
        "panel data case."
      ],
      "id": "b5442acc-4a27-4ec9-b952-96fab76943f1"
    },
    {
      "cell_type": "code",
      "execution_count": null,
      "metadata": {},
      "outputs": [],
      "source": [
        "sim.data %>%\n",
        "    lm(wgt ~ hgt + Treatment * diet, data = .) %>%\n",
        "    summary"
      ],
      "id": "5bb5706b-0043-43d3-82d4-6ff105825ab5"
    },
    {
      "cell_type": "markdown",
      "metadata": {},
      "source": [
        "### DID using a $2 \\times 2$ Table\n",
        "\n",
        "The $2 \\times 2$ table is:\n",
        "\n",
        "|         |            $G = 0$            |            $G = 1$            |                               |\n",
        "|---------------:|:-----------------:|:-----------------:|:-----------------:|\n",
        "| $T = 0$ |        $\\mu_{Y}(0,0)$         |        $\\mu_{Y}(1,0)$         | $\\mu_{Y}(1,0) - \\mu_{Y}(0,0)$ |\n",
        "| $T = 1$ |        $\\mu_{Y}(0,1)$         |        $\\mu_{Y}(1,1)$         | $\\mu_{Y}(1,1) - \\mu_{Y}(0,1)$ |\n",
        "|         | $\\mu_{Y}(0,1) - \\mu_{Y}(0,0)$ | $\\mu_{Y}(1,1) - \\mu_{Y}(1,0)$ |            $ATET$             |\n",
        "\n",
        "The principal problem is not in the point estimates. These are\n",
        "straightforward. The estimates for the central four cells are simply the\n",
        "four conditional means of the outcome variable. The estimates for the\n",
        "marginal cells are simply either row-wise or column-wise differences\n",
        "between the conditional means and the estimate of the ATET is the DID\n",
        "estimator using the conditional mean estimates in place of the true\n",
        "conditional expectations.\n",
        "\n",
        "The main problem is, how do we know that the ATET estimate is\n",
        "statistically significant? In other words, we want to test\n",
        "\n",
        "Recall the following:\n",
        "\n",
        "$$\n",
        "    Var(\\overline{X} + \\overline{Y}) = Var(\\overline{X}) + Var(\\overline{Y}) + 2 Cov(\\overline{X},\\overline{Y}).\n",
        "$$\n",
        "\n",
        "Note that this switching of notation from $\\mu$ (representing the true\n",
        "population-level conditional expectation) to $\\overline{X}$\n",
        "(representing our sample analogue estimator of the population-level\n",
        "expectations) is not a mistake. $\\mu$ has a variance of zero because it\n",
        "is the true population parameter. On the other hand $\\overline{X}$ has a\n",
        "variance because it is a function of a random sample. A function of\n",
        "random variables is itself a random variable (think about adding two\n",
        "random variables—is it now non-random?), therefore it makes sense to\n",
        "talk about its distributional properties. Now, if the data for $X$ and\n",
        "$Y$ are independent, then\n",
        "\n",
        "$$\n",
        "    Var(\\overline{X} + \\overline{Y}) = Var(\\overline{X}) + Var(\\overline{Y}).\n",
        "$$\n",
        "\n",
        "If the data was collected well, in many cases we can assume that\n",
        "$\\overline{Y}\\mid_{G=0,T=0}$, $\\overline{Y}\\mid_{G=0,T=1}$,\n",
        "$\\overline{Y}\\mid_{G=1,T=0}$, and $\\overline{Y}\\mid_{G=1,T=1}$, are\n",
        "indeed independent, which then implies that the SE of the estimator\n",
        "should just be\n",
        "\n",
        "$$\n",
        "    SE\\left( \\left( \\overline{Y}\\mid_{G=1,T=1} - \\overline{Y}\\mid_{G=1,T=0} \\right) - \\left( \\overline{Y}\\mid_{G=0,T=1} - \\overline{Y}\\mid_{G=0,T=0} \\right) \\right) = \\sqrt{ Var\\left(\\overline{Y}\\mid_{G=0,T=0}\\right) + Var\\left(\\overline{Y}\\mid_{G=0,T=1}\\right) + Var\\left(\\overline{Y}\\mid_{G=1,T=0}\\right) + Var\\left(\\overline{Y}\\mid_{G=1,T=1}\\right) }.\n",
        "$$\n",
        "\n",
        "We can compute the second term. Each variance term is effectively just\n",
        "the squared SE of a conditional mean. Recall from earlier modules that\n",
        "this is computed simply as\n",
        "`varmean = var(X[G = g & T = t], na.rm = TRUE) / sum(G = g & T = t & !is.na(X))`.\n",
        "\n",
        "Finally, we need a distribution. Recall that, in only one case, the\n",
        "degrees of freedom are the straightforward $df_{1} + df_{2} - 2$. In all\n",
        "other cases there is a specific formula that does not necessarily yield\n",
        "an integer DF. What do we then do here? There are two main options:\n",
        "\n",
        "1.  Assume that something analogous works for your situation as well, so\n",
        "    that you compute your DF as $$\n",
        "     df_{0,0} + df_{0,1} + df_{1,0} + df_{1,1} - 4.\n",
        "    $$\n",
        "\n",
        "2.  Ignore the DF and assume that you have sufficient variables (as a\n",
        "    rule-of-thumb, do you have at least $50$ observations in each of the\n",
        "    four groups?) so that you can assume that some Law of Large Numbers\n",
        "    holds and therefore the distribution of the test statistic is\n",
        "    approximately Normal.\n",
        "\n",
        "These give rise to the following procedure:\n",
        "\n",
        "1.  Compute $\\overline{Y}\\mid_{G=1,T=1}$, $\\overline{Y}\\mid_{G=1,T=0}$,\n",
        "    $\\overline{Y}\\mid_{G=0,T=1}$, $\\overline{Y}\\mid_{G=0,T=0}$,\n",
        "    $Var\\left(\\overline{Y}\\mid_{G=0,T=0}\\right)$,\n",
        "    $Var\\left(\\overline{Y}\\mid_{G=0,T=1}\\right)$,\n",
        "    $Var\\left(\\overline{Y}\\mid_{G=1,T=0}\\right)$, and\n",
        "    $Var\\left(\\overline{Y}\\mid_{G=1,T=1}\\right)$.\n",
        "2.  Compute\n",
        "    $\\theta = \\left( \\overline{Y}\\mid_{G=1,T=1} - \\overline{Y}\\mid_{G=1,T=0} \\right) - \\left( \\overline{Y}\\mid_{G=0,T=1} - \\overline{Y}\\mid_{G=0,T=0} \\right)$.\n",
        "3.  Compute\n",
        "    $s^{2} = \\sqrt{ Var\\left(\\overline{Y}\\mid_{G=0,T=0}\\right) + Var\\left(\\overline{Y}\\mid_{G=0,T=1}\\right) + Var\\left(\\overline{Y}\\mid_{G=1,T=0}\\right) + Var\\left(\\overline{Y}\\mid_{G=1,T=1}\\right) }$.\n",
        "4.  Compute $\\frac{\\theta}{s}$ and label it either $t$ or $z$.\n",
        "5.  If you used the $t$ label, compute\n",
        "    $N\\mid_{G=0,T=0} + N\\mid_{G=0,T=1} + N\\mid_{G=1,T=0} + N\\mid_{G=1,T=1} - 4$\n",
        "    where $N$ means number of non-missing observations.\n",
        "6.  Compute the $p$ value for your test using either the\n",
        "    $t$-distribution or the Standard Normal distribution, depending on\n",
        "    whether you used the $t$ or $z$ label respectively.\n",
        "\n",
        "### Compute the $2 \\times 2$ Table of Means"
      ],
      "id": "76b34006-d76f-43f3-bc44-c75c2f4a1be4"
    },
    {
      "cell_type": "code",
      "execution_count": null,
      "metadata": {},
      "outputs": [],
      "source": [
        "sim.res.mat <- matrix(\n",
        "    c(sim.data %>% filter(Treatment == 0 & diet == 0 & !is.na(wgt)) %>% .$wgt %>% mean, sim.data %>% filter(Treatment == 0 & diet == 1 & !is.na(wgt)) %>% .$wgt %>% mean, 0,\n",
        "      sim.data %>% filter(Treatment == 1 & diet == 0 & !is.na(wgt)) %>% .$wgt %>% mean, sim.data %>% filter(Treatment == 1 & diet == 1 & !is.na(wgt)) %>% .$wgt %>% mean, 0,\n",
        "      0, 0, 0),\n",
        "    nrow = 3,\n",
        "    ncol = 3,\n",
        "    byrow = TRUE\n",
        ")\n",
        "sim.res.mat[1,3] <- sim.res.mat[1,2] - sim.res.mat[1,1]\n",
        "sim.res.mat[2,3] <- sim.res.mat[2,2] - sim.res.mat[2,1]\n",
        "sim.res.mat[3,1] <- sim.res.mat[2,1] - sim.res.mat[1,1]\n",
        "sim.res.mat[3,2] <- sim.res.mat[2,2] - sim.res.mat[1,2]\n",
        "sim.res.mat[3,3] <- sim.res.mat[3,2] - sim.res.mat[3,1]\n",
        "rownames(sim.res.mat) <- c('before', 'after', 'diff time')\n",
        "colnames(sim.res.mat) <- c('no diet', 'diet', 'diff diet')\n",
        "print(sim.res.mat)"
      ],
      "id": "850bb5ed-a156-432f-9b77-187cb99ec49a"
    },
    {
      "cell_type": "markdown",
      "metadata": {},
      "source": [
        "### Compute the Variances Associated with each Group"
      ],
      "id": "eb609f07-1232-4967-861a-997835c19959"
    },
    {
      "cell_type": "code",
      "execution_count": null,
      "metadata": {},
      "outputs": [],
      "source": [
        "sim.var.mat <- matrix(\n",
        "    c(sim.data %>% filter(Treatment == 0 & diet == 0 & !is.na(wgt)) %>% .$wgt %>% var, sim.data %>% filter(Treatment == 0 & diet == 1 & !is.na(wgt)) %>% .$wgt %>% var,\n",
        "     sim.data %>% filter(Treatment == 1 & diet == 0 & !is.na(wgt)) %>% .$wgt %>% var, sim.data %>% filter(Treatment == 1 & diet == 1 & !is.na(wgt)) %>% .$wgt %>% var),\n",
        "    nrow = 2,\n",
        "    ncol = 2,\n",
        "    byrow = TRUE\n",
        ")\n",
        "rownames(sim.var.mat) <- c('before', 'after')\n",
        "colnames(sim.var.mat) <- c('no diet', 'diet')\n",
        "print(sim.var.mat)"
      ],
      "id": "420fa3bd-ba07-461b-a0fe-7f9d2a6c8112"
    },
    {
      "cell_type": "markdown",
      "metadata": {},
      "source": [
        "### Compute the Counts in each Group"
      ],
      "id": "c2b722bf-1521-4a20-a607-05f324cef5f0"
    },
    {
      "cell_type": "code",
      "execution_count": null,
      "metadata": {},
      "outputs": [],
      "source": [
        "sim.n.mat <- matrix(\n",
        "    c(sim.data %>% filter(Treatment == 0 & diet == 0 & !is.na(wgt)) %>% .$wgt %>% length, sim.data %>% filter(Treatment == 0 & diet == 1 & !is.na(wgt)) %>% .$wgt %>% length,\n",
        "     sim.data %>% filter(Treatment == 1 & diet == 0 & !is.na(wgt)) %>% .$wgt %>% length, sim.data %>% filter(Treatment == 1 & diet == 1 & !is.na(wgt)) %>% .$wgt %>% length),\n",
        "    nrow = 2,\n",
        "    ncol = 2,\n",
        "    byrow = TRUE\n",
        ")\n",
        "rownames(sim.n.mat) <- c('before', 'after')\n",
        "colnames(sim.n.mat) <- c('no diet', 'diet')\n",
        "print(sim.n.mat)"
      ],
      "id": "485d0c9f-5ac7-49c1-b5de-ba4b3a29effb"
    },
    {
      "cell_type": "markdown",
      "metadata": {},
      "source": [
        "### Compute the Test Statistic"
      ],
      "id": "fccdce8a-1a17-4d2a-a99f-0d0dcf001474"
    },
    {
      "cell_type": "code",
      "execution_count": null,
      "metadata": {},
      "outputs": [],
      "source": [
        "sim.theta <- sim.res.mat[3,3] / sqrt(sum(sim.var.mat / sim.n.mat))\n",
        "print(sim.theta)"
      ],
      "id": "1b1ee4fc-56ff-42c1-8a04-891ffafde0b7"
    },
    {
      "cell_type": "markdown",
      "metadata": {},
      "source": [
        "### Compute the $p$-Value"
      ],
      "id": "27c6303a-d776-49e2-ade7-ee71b3880759"
    },
    {
      "cell_type": "code",
      "execution_count": null,
      "metadata": {},
      "outputs": [],
      "source": [
        "print(\n",
        "    list(\n",
        "        'z-test' = 2 * pnorm(abs(sim.theta), 0, 1, lower.tail = FALSE),\n",
        "        't-test' = 2 * pt(abs(sim.theta), sum(sim.n.mat), lower.tail = FALSE)\n",
        "    )\n",
        ")"
      ],
      "id": "483dc147-4fe8-414f-b177-442964e109d1"
    },
    {
      "cell_type": "markdown",
      "metadata": {},
      "source": [
        "### Comparison Against Linear Regression"
      ],
      "id": "1d22d926-4b9e-48fe-b051-97d2ca12556f"
    },
    {
      "cell_type": "code",
      "execution_count": null,
      "metadata": {},
      "outputs": [],
      "source": [
        "sim.data %>%\n",
        "    lm(wgt ~ Treatment * diet, data = .) %>%\n",
        "    summary"
      ],
      "id": "ea4fe5e5-6a8d-4f8f-b169-4da306a56d41"
    },
    {
      "cell_type": "markdown",
      "metadata": {},
      "source": [
        "### Summary for Repeated Cross-Section\n",
        "\n",
        "Clearly, you can compute the DID estimator manually with repeated\n",
        "cross-section data and it yields estimates of similar quality to what\n",
        "OLS provides. If doing it manually is your preference, go ahead.\n",
        "Otherwise, you should also take away from this section that OLS works\n",
        "just as well for repeated cross-section data. The presentation of the\n",
        "manual method is really just to show you in detail how the underlying\n",
        "statistics of this estimator work.\n",
        "\n",
        "## When Parallel Trends Fails\n",
        "\n",
        "The key and only assumption for DID is parallel trends:\n",
        "\n",
        "$$\n",
        "    \\mathbb{E}[Y_{0,i}(0) \\mid T_{i} = 1] - \\mathbb{E}[Y_{0,i}(0) \\mid T_{i} = 0] = \\mathbb{E}[Y_{1,i}(0) \\mid T_{i} = 1] - \\mathbb{E}[Y_{1,i}(0) \\mid T_{i} = 0].\n",
        "$$\n",
        "\n",
        "What happens if this fails? Notice what happens to the bias when you\n",
        "compute the DID estimator,\n",
        "\n",
        "$$\n",
        "    \\theta - ATET = \\underbrace{\\left( \\mathbb{E}[Y_{1,i}(0) \\mid T_{i} = 1] - \\mathbb{E}[Y_{1,i}(0) \\mid T_{i} = 0] \\right)}_{\\text{Time Trend for $G_{i} = 1$}} - \\underbrace{\\left( \\mathbb{E}[Y_{0,i}(0) \\mid T_{i} = 1] - \\mathbb{E}[Y_{0,i}(0) \\mid T_{i} = 0] \\right)}_{\\text{Time Trend for $G_{i} = 0$}}.\n",
        "$$\n",
        "\n",
        "When parallel trends is not satisfied, there is no longer any guarantee\n",
        "that the trends for the two groups are in the same direction, such that\n",
        "DID reduces the bias in the estimator. In fact, if the two groups\n",
        "intuitively trend in opposite directions, DID exacerbates the bias. Can\n",
        "you think of situations where your treated and never-treated groups\n",
        "naturally trend in different directions over time?\n",
        "\n",
        "### Load Data\n",
        "\n",
        "Let’s take a look at some data where parallel trends fails."
      ],
      "id": "a6a02ffd-c0c4-4507-9b50-b73f4fc0f818"
    },
    {
      "cell_type": "code",
      "execution_count": null,
      "metadata": {},
      "outputs": [],
      "source": [
        "set.seed(998)\n",
        "sim.data <- tibble(i = c(1:10000), hgt = rnorm(10000, 1.63, 0.08), u = rnorm(10000, 0, 1))\n",
        "sim.data <- sim.data %>% mutate(diet = if_else(rnorm(10000, 0, 1) + u < 0, 0, 1))\n",
        "sim.data <- rbind(\n",
        "    sim.data %>% mutate(Treatment = 0, e = rnorm(10000, 0, 1) + u) %>% mutate(wgt = 28 * hgt ^ 2 + e),\n",
        "    sim.data %>% mutate(Treatment = 1, e = rnorm(10000, 0, 1) + u, hgt = if_else(diet == 1, hgt - .1, hgt + .1)) %>% mutate(wgt = 2 + 28 * hgt ^ 2 - 3 * diet + e)\n",
        ")\n",
        "summary(sim.data)"
      ],
      "id": "d8569bf0-cf6a-41d7-817f-4f19bfc8e3c7"
    },
    {
      "cell_type": "markdown",
      "metadata": {},
      "source": [
        "### The $t$-Test Fails\n",
        "\n",
        "Intuitively, because the divergence in time trends is due to\n",
        "unaccounted-for changes in other covariates, the $t$-test will be badly\n",
        "biased because it is not considering the possibility that other\n",
        "confounding factors may change differently between the groups over time.\n",
        "This again reflects the core intuition of the parallel trends\n",
        "assumption: the selection bias in treatment assignment has to be\n",
        "constant over time.\n",
        "\n",
        "In this case, because the time trends of the diet and non-diet group\n",
        "move in opposite directions, the simple DID (first row) is more biased\n",
        "than either the naïve comparison measure (second row) or the\n",
        "before-after estimator (third row)."
      ],
      "id": "16272e5e-cc7b-41d3-aefb-843dae2a6908"
    },
    {
      "cell_type": "code",
      "execution_count": null,
      "metadata": {},
      "outputs": [],
      "source": [
        "diff.data <- sim.data %>% filter(Treatment == 1) - sim.data %>% filter(Treatment == 0) %>% mutate(diet = 0)"
      ],
      "id": "80993c44-cb6d-4477-bdaa-181f7389473d"
    },
    {
      "cell_type": "code",
      "execution_count": null,
      "metadata": {},
      "outputs": [],
      "source": [
        "list(\n",
        "    t.test(\n",
        "        diff.data %>% filter(diet == 1) %>% select(wgt),\n",
        "        diff.data %>% filter(diet == 0) %>% select(wgt),\n",
        "        var.equal = TRUE\n",
        "    ),\n",
        "    t.test(\n",
        "        sim.data %>% filter(Treatment == 1, diet == 1) %>% select(wgt),\n",
        "        sim.data %>% filter(Treatment == 1, diet == 0) %>% select(wgt),\n",
        "        var.equal = TRUE\n",
        "    ),\n",
        "    t.test(\n",
        "        sim.data %>% filter(Treatment == 1, diet == 1) %>% select(wgt),\n",
        "        sim.data %>% filter(Treatment == 0, diet == 1) %>% select(wgt),\n",
        "        var.equal = TRUE\n",
        "    )\n",
        ") %>% \n",
        "    map_df(tidy) %>%\n",
        "    print"
      ],
      "id": "07730114-7daa-4231-af42-ca42168389c3"
    },
    {
      "cell_type": "markdown",
      "metadata": {},
      "source": [
        "### The Regression Method Still Works\n",
        "\n",
        "As we will see below, the regression method with controls still obtains\n",
        "the desired estimate. In fact, the OLS estimator gets the correct\n",
        "estimate despite misspecifying how height enters the model. This really\n",
        "gets to the heart of how closely linked regression methods (not just\n",
        "linear regression) and the CEF are. Notice that the regression model\n",
        "with controls is really estimating this:\n",
        "\n",
        "$$\n",
        "    ATET = \\left( \\mathbb{E}[Y_{i} \\mid X_{i}, G_{i} = 1, T_{i} = 1] - \\mathbb{E}[Y_{i} \\mid X_{i}, G_{i} = 1, T_{i} = 0] \\right) - \\left( \\mathbb{E}[Y_{i} \\mid X_{i}, G_{i} = 0, T_{i} = 1] - \\mathbb{E}[Y_{i} \\mid X_{i}, G_{i} = 0, T_{i} = 0] \\right).\n",
        "$$\n",
        "\n",
        "If controls $X_{i}$ are good enough proxies for the true reasons (or are\n",
        "the true reasons themselves) for divergence in time trends between the\n",
        "treated and never-treated groups, then the conditional version of the\n",
        "parallel trends assumption will be satisfied:\n",
        "\n",
        "$$\n",
        "    \\mathbb{E}[Y_{0,i}(0) \\mid X_{i}, T_{i} = 1] - \\mathbb{E}[Y_{0,i}(0) \\mid X_{i}, T_{i} = 0] = \\mathbb{E}[Y_{1,i}(0) \\mid X_{i}, T_{i} = 1] - \\mathbb{E}[Y_{1,i}(0) \\mid X_{i}, T_{i} = 0].\n",
        "$$\n",
        "\n",
        "This brings out the intuition for doing DID estimation with regression\n",
        "models. What you seek to control for is not selection bias—remember that\n",
        "DID has no problem with time-invariant selection bias. Instead, controls\n",
        "in the DID model should remove differences in the time trends of the\n",
        "treated and never-treated groups. This is what you need discuss when\n",
        "setting up your DID model and justifying the controls used."
      ],
      "id": "22f8a53d-7195-4eda-8ae2-d52ef90f0c7b"
    },
    {
      "cell_type": "code",
      "execution_count": null,
      "metadata": {},
      "outputs": [],
      "source": [
        "model1 <- lm(wgt ~ hgt + diet, data = filter(sim.data, Treatment == 1))\n",
        "model2 <- lm(wgt ~ hgt + Treatment, data = filter(sim.data, diet == 1))\n",
        "model3 <- lm(wgt ~ hgt + Treatment + diet, data = sim.data)\n",
        "model4 <- lm(wgt ~ hgt + Treatment * diet, data = sim.data)\n",
        "model5 <- lm(wgt ~ Treatment * diet, data = sim.data)\n",
        "\n",
        "stargazer(model1, \n",
        "          model2, \n",
        "          model3, \n",
        "          model4, \n",
        "          model5, \n",
        "          type = 'text',\n",
        "          df = FALSE,\n",
        "          omit.stat = c('F'))"
      ],
      "id": "7d021c18-f774-4568-95af-09ab64b6b528"
    },
    {
      "cell_type": "markdown",
      "metadata": {},
      "source": [
        "## Exercise #: Difference-in-Differences in your Project\n",
        "\n",
        "### Load Your Data"
      ],
      "id": "e80aad65-475c-4707-b497-90abe283f920"
    },
    {
      "cell_type": "code",
      "execution_count": null,
      "metadata": {},
      "outputs": [],
      "source": [
        "library(haven)"
      ],
      "id": "c05cfa82-1cec-42f6-b642-532491a4be9a"
    },
    {
      "cell_type": "code",
      "execution_count": null,
      "metadata": {},
      "outputs": [],
      "source": [
        "my.data <- 'load your data'"
      ],
      "id": "2ce61025-83b0-41a5-81d7-9c056dfbada7"
    },
    {
      "cell_type": "code",
      "execution_count": null,
      "metadata": {},
      "outputs": [],
      "source": [
        "my.data <- 'clean your data'"
      ],
      "id": "099485a1-1da9-46c5-8480-4068a48eaa26"
    },
    {
      "cell_type": "code",
      "execution_count": null,
      "metadata": {},
      "outputs": [],
      "source": [
        "my.data %>% data.frame %>% stargazer(type = 'text')"
      ],
      "id": "de1e5716-9f45-4a20-ac1d-876be232fe3f"
    },
    {
      "cell_type": "markdown",
      "metadata": {},
      "source": [
        "### Plan and Run some DD Models"
      ],
      "id": "73ebbfdc-49a2-4893-85f4-8e9eb55c0681"
    },
    {
      "cell_type": "code",
      "execution_count": null,
      "metadata": {},
      "outputs": [],
      "source": [
        "my.model.1 <- 'write your model' %>% lm(, data = my.data)\n",
        "my.model.1 %>% summary"
      ],
      "id": "8e20dc50-aba5-4dec-9dc8-630a897b7780"
    },
    {
      "cell_type": "code",
      "execution_count": null,
      "metadata": {},
      "outputs": [],
      "source": [
        "my.model.2 <- 'write another model' %>% lm(, data = my.data)\n",
        "my.model.2 %>% summary"
      ],
      "id": "1f398a20-fd54-4fe7-85a8-0dd543f4e3ea"
    },
    {
      "cell_type": "code",
      "execution_count": null,
      "metadata": {},
      "outputs": [],
      "source": [
        "my.model.3 <- 'write as many models as you would like to estimate' %>% lm(, data = my.data)\n",
        "my.model.3 %>% summary"
      ],
      "id": "42e0f552-6eee-4ed5-a24d-1b887e3dfdf5"
    },
    {
      "cell_type": "markdown",
      "metadata": {},
      "source": [
        "### Tabulate All Models"
      ],
      "id": "7ecc5844-53fe-4db7-9da3-b38bf7c311bc"
    },
    {
      "cell_type": "code",
      "execution_count": null,
      "metadata": {},
      "outputs": [],
      "source": [
        "stargazer(\n",
        "    my.model.1,\n",
        "    my.model.2,\n",
        "    my.model.3,\n",
        "    type = 'html',\n",
        "    out = 'prj_dd_out.html',\n",
        "    out.header = TRUE\n",
        ")"
      ],
      "id": "a6d1659d-8362-458a-aa89-415d697faef3"
    }
  ],
  "nbformat": 4,
  "nbformat_minor": 5,
  "metadata": {
    "kernelspec": {
      "name": "ir",
      "display_name": "R",
      "language": "r"
    }
  }
}