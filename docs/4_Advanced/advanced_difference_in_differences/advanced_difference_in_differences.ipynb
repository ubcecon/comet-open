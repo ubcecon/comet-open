{
  "cells": [
    {
      "cell_type": "markdown",
      "metadata": {},
      "source": [
        "# 3.1.1 - Advanced - Linear Differencing Models I\n",
        "\n",
        "This notebook will cover:\n",
        "\n",
        "1.  Difference-in-Differences and when it is appropriate.\n",
        "2.  Consequences of misspecification.\n",
        "3.  The Event Study estimator.\n",
        "4.  The Triple Difference estimator.\n",
        "5.  Using Repeated Cross-Section data.\n",
        "6.  Failure of Parallel Trends.\n",
        "\n",
        "This notebook assumes you are familiar with and draws on concepts\n",
        "covered in:\n",
        "\n",
        "1.  Introduction to Jupyter.\n",
        "2.  Introduction to R.\n",
        "3.  Introduction to Data.\n",
        "4.  Expectations and Summary Statistics.\n",
        "5.  Conditional Expectations and the $t$-Test.\n",
        "6.  Regression Analysis."
      ],
      "id": "9667b73a-f7c5-418f-a785-9e7b8b047346"
    },
    {
      "cell_type": "code",
      "execution_count": null,
      "metadata": {},
      "outputs": [],
      "source": [
        "library(tidyverse)\n",
        "library(stargazer)\n",
        "library(broom)"
      ],
      "id": "5ee325f3-659b-48fb-8fbf-7ff9c25ce58f"
    },
    {
      "cell_type": "markdown",
      "metadata": {},
      "source": [
        "## Difference-in-Differences\n",
        "\n",
        "To demonstrate how DID works and the consequences of misspecification,\n",
        "we require data where we know the true parameter values. Therefore this\n",
        "again necessitates using simulated data rather than real-life data.\n",
        "\n",
        "### Generating Panel-Structured Data\n",
        "\n",
        "Panel-Structured data have both a unit and a time index. Additionally,\n",
        "there should be a common time trend component and an additional time\n",
        "trend component specific only to the “treated” group. For our purposes,\n",
        "it can be more helpful to think of the “treated” group as simply the\n",
        "“group of interest” who may have been differentially affected by\n",
        "something that changed between the “before” and the “after” period(s).\n",
        "The minimum number of time periods we need to run a DID estimator is\n",
        "$2$, but the definition of a “period” is not constrained to “usual” time\n",
        "units like months and years. For example, if we have the privilege of\n",
        "working with linked census data, then our period may be decadal or\n",
        "quinquennial, while if we work with stock market data our period may be\n",
        "as fine as minutes or seconds.\n",
        "\n",
        "Note also that panel-structured data is not restricted to a unit-by-time\n",
        "structure. It is also possible to have a group-by-unit panel structured\n",
        "data. Examples include twins in a family unit, students in a class,\n",
        "patients and their primary physicians, *et cetera*. In this case, `i`\n",
        "below indexes the group instead of the unit and `T` indexes the unit\n",
        "within the group instead of time."
      ],
      "id": "c6325a97-e9fd-41c5-be11-0f93f844419b"
    },
    {
      "cell_type": "code",
      "execution_count": null,
      "metadata": {},
      "outputs": [],
      "source": [
        "set.seed(998)\n",
        "sim.data <- tibble(i = c(1:10000), hgt = rnorm(10000, 1.68, 0.09), u = rnorm(10000, 0, 1))\n",
        "sim.data <- sim.data %>% mutate(diet = if_else(rnorm(10000, 0, 1) + u < 0, 0, 1))\n",
        "sim.data <- rbind(\n",
        "    sim.data %>% mutate(Treatment = 0, e = rnorm(10000, 0, 1) + u) %>% mutate(wgt = 28 * hgt ^ 2 + e),\n",
        "    sim.data %>% mutate(Treatment = 1, e = rnorm(10000, 0, 1) + u) %>% mutate(wgt = 2 + 28 * hgt ^ 2 - 3 * diet + e)\n",
        ")"
      ],
      "id": "6aac7daf-74a7-405c-a4d4-62d3b99528b3"
    },
    {
      "cell_type": "markdown",
      "metadata": {},
      "source": [
        "### Summary Statistics\n",
        "\n",
        "Let’s first take a quick overview of the simulated data. This dataset\n",
        "tries to simulate a height and weight dataset. `hgt` is short for height\n",
        "(measured in meters; m), `wgt` for weight (measured in kilograms; kg),\n",
        "`diet` implies we are considering the effect of a diet. As is intuitive,\n",
        "evaluating the effect of a diet is an appropriate case for DID because\n",
        "diets take time to show their effects. We also clearly need height as a\n",
        "control because all else equal, a healthy but taller person should weigh\n",
        "more than a healthy but shorter person. `i` and `T` are our person and\n",
        "time indexes."
      ],
      "id": "046ecf64-4ea8-4a77-9484-f4c2546cdb75"
    },
    {
      "cell_type": "code",
      "execution_count": null,
      "metadata": {},
      "outputs": [],
      "source": [
        "summary(sim.data)"
      ],
      "id": "1f843937-e177-414d-b3dd-cc5d4b214fec"
    },
    {
      "cell_type": "markdown",
      "metadata": {},
      "source": [
        "## Difference-in-Differences Estimator\n",
        "\n",
        "The DID estimator looks as follows. We estimate\n",
        "\n",
        "$$\n",
        "    \\theta = \\mathbb{E}[Y_{i} \\mid \\underbrace{G_{i} = 1, T_{i} = 1}_{D_{i} = 1}] - \\mathbb{E}[Y_{i} \\mid \\underbrace{G_{i} = 1, T_{i} = 0}_{D_{i} = 0}].\n",
        "$$\n",
        "\n",
        "This is a model for when we have a treatment implemented in between two\n",
        "periods where we observe the units. However, as before, there will be\n",
        "bias without further adjustments to the method. The main bias with\n",
        "estimators that make use of the temporal dimension of the data is that\n",
        "naïve estimators conflate the true effect with time trends.\n",
        "\n",
        "To give an intuition, suppose we want to measure the effect of drinking\n",
        "milk daily on height growth in young children. The problem is that young\n",
        "children are developing and naturally grow taller regardless of their\n",
        "diet (unless they are severely malnourished). Therefore, a naïve\n",
        "estimator conflates this natural time trend with the real effect of the\n",
        "target diet and can spuriously estimate a positive effect of drinking\n",
        "milk when it could very well be the case that the true effect is zero or\n",
        "even negative.\n",
        "\n",
        "Mathematically, we see the bias in the potential-outcomes model by\n",
        "\n",
        "$$\n",
        "    \\theta = \\underbrace{\\mathbb{E}[Y_{1,i}(1) \\mid T_{i} = 1] - \\mathbb{E}[Y_{1,i}(0) \\mid T_{i} = 1]}_{ATET} + \\underbrace{\\mathbb{E}[Y_{1,i}(0) \\mid T_{i} = 1] - \\mathbb{E}[Y_{1,i}(0) \\mid T_{i} = 0]}_{Bias}.\n",
        "$$\n",
        "\n",
        "The bias is clearly coming from the unobserved time trend. How do we\n",
        "deal with it given that the comparison estimator already implicitly\n",
        "makes use of a time period indicator? The answer is that we postulate\n",
        "the existence of a counterfactual group for which we do indeed observe\n",
        "them being untreated in both periods, but their time trend is identical\n",
        "to the group of interest:\n",
        "\n",
        "$$\n",
        "    \\mathbb{E}[Y_{0,i}(0) \\mid T_{i} = 1] - \\mathbb{E}[Y_{0,i}(0) \\mid T_{i} = 0] = \\mathbb{E}[Y_{1,i}(0) \\mid T_{i} = 1] - \\mathbb{E}[Y_{1,i}(0) \\mid T_{i} = 0]\n",
        "$$\n",
        "\n",
        "where\n",
        "\n",
        "$$\n",
        "    \\mathbb{E}[Y_{0,i}(0) \\mid T_{i} = 1] - \\mathbb{E}[Y_{0,i}(0) \\mid T_{i} = 0] = \\mathbb{E}[Y_{i} \\mid \\underbrace{G_{i} = 0, T_{i} = 1}_{D_{i} = 0}] - \\mathbb{E}[Y_{i} \\mid \\underbrace{G_{i} = 0, T_{i} = 0}_{D_{i} = 0}].\n",
        "$$\n",
        "\n",
        "With this observed control group we can now estimate:\n",
        "\n",
        "$$\n",
        "    ATET = \\left( \\mathbb{E}[Y_{i} \\mid G_{i} = 1, T_{i} = 1] - \\mathbb{E}[Y_{i} \\mid G_{i} = 1, T_{i} = 0] \\right) - \\left( \\mathbb{E}[Y_{i} \\mid G_{i} = 0, T_{i} = 1] - \\mathbb{E}[Y_{i} \\mid G_{i} = 0, T_{i} = 0] \\right).\n",
        "$$\n",
        "\n",
        "This is estimatable because all this data is observed.\n",
        "\n",
        "### Difference-in-Differences with $t$-Tests\n",
        "\n",
        "Before we talk about the regression method of estimating DID models,\n",
        "let’s talk about the much simpler method of doing a plain comparison\n",
        "estimate. Recall that the model is\n",
        "\n",
        "$$\n",
        "    ATET = \\left( \\mathbb{E}[Y_{i} \\mid G_{i} = 1, T_{i} = 1] - \\mathbb{E}[Y_{i} \\mid G_{i} = 1, T_{i} = 0] \\right) - \\left( \\mathbb{E}[Y_{i} \\mid G_{i} = 0, T_{i} = 1] - \\mathbb{E}[Y_{i} \\mid G_{i} = 0, T_{i} = 0] \\right)\n",
        "$$\n",
        "\n",
        "which we can rewrite as\n",
        "\n",
        "$$\n",
        "    ATET = \\mathbb{E}[Y_{i,1} - Y_{i,0} \\mid G_{i} = 1] - \\mathbb{E}[Y_{i,1} - Y_{i,0} \\mid G_{i} = 0].\n",
        "$$\n",
        "\n",
        "This tells us precisely how to estimate the Average Treatment Effect on\n",
        "the Treated (ATET) using the DID estimator using a simple $t$-test:\n",
        "\n",
        "1.  Generate $\\Delta Y_{i} = Y_{i,1} - Y_{i,0}$.\n",
        "2.  Test $\\overline{\\Delta Y_{i}} \\mid_{G_{i} = 1}$ versus\n",
        "    $\\overline{\\Delta Y_{i}} \\mid_{G_{i} = 0}$."
      ],
      "id": "b88425ce-a111-4ae1-9ee9-68b892bb1d49"
    },
    {
      "cell_type": "code",
      "execution_count": null,
      "metadata": {},
      "outputs": [],
      "source": [
        "diff.data <- sim.data %>% filter(Treatment == 1) - sim.data %>% filter(Treatment == 0) %>% mutate(diet = 0)"
      ],
      "id": "b8349bcf-e1dd-49c0-86df-133659b0b657"
    },
    {
      "cell_type": "code",
      "execution_count": null,
      "metadata": {},
      "outputs": [],
      "source": [
        "list(\n",
        "    t.test(\n",
        "        diff.data %>% filter(diet == 1) %>% select(wgt),\n",
        "        diff.data %>% filter(diet == 0) %>% select(wgt),\n",
        "        var.equal = TRUE\n",
        "    )\n",
        ") %>% \n",
        "    map_df(tidy) %>%\n",
        "    print"
      ],
      "id": "f6f18906-819c-4ef4-baea-97f81b7e07b0"
    },
    {
      "cell_type": "markdown",
      "metadata": {},
      "source": [
        "### Interpreting the Results\n",
        "\n",
        "Recall that the simple $t$-test method does not use controls, so this\n",
        "level of accuracy is unexpected. Note, in general, the DID estimator\n",
        "without controls does not yield the same results as the DID estimator\n",
        "with controls when applied to real-world data.\n",
        "\n",
        "The estimate is simply interpreted as the estimated ATET. The diet\n",
        "decreases the weight of the group undertaking the diet by $2.97$ kg. In\n",
        "your own cases, what the treatment, outcome, treated group, and units\n",
        "are depends on your question and data.\n",
        "\n",
        "### Naïve Comparison Measure Estimator\n",
        "\n",
        "Let’s first look several wrong ways to use panel data and show\n",
        "empirically why we should not be doing these things if our interest is\n",
        "in the ATET. One way is to estimate a comparison measure for the “after”\n",
        "period only:\n",
        "\n",
        "$$\n",
        "    \\theta_{after} = \\mathbb{E}[Y_{i} \\mid \\underbrace{G_{i} = 1, T_{i} = 1}_{D_{i} = 1}] - \\mathbb{E}[Y_{i} \\mid \\underbrace{G_{i} = 0, T_{i} = 1}_{D_{i} = 0}].\n",
        "$$\n",
        "\n",
        "This is of course going to be biased because you can see that, in the\n",
        "potential-outcomes model, this corresponds to\n",
        "\n",
        "$$\n",
        "    \\theta_{after} = \\underbrace{\\mathbb{E}[Y_{1,i}(1) \\mid T_{i} = 1] - \\mathbb{E}[Y_{1,i}(0) \\mid T_{i} = 1]}_{ATET} + \\underbrace{\\mathbb{E}[Y_{1,i}(0) \\mid T_{i} = 1] - \\mathbb{E}[Y_{0,i}(0) \\mid T_{i} = 1]}_{Bias}.\n",
        "$$\n",
        "\n",
        "This corresponds to the selection bias as we have been studying it for\n",
        "much of this course. However, if we assume that the size of this bias\n",
        "remains constant throughout time—which intuitively is exactly what the\n",
        "parallel trends assumption says—then we get rid of the selection bias\n",
        "precisely by further subtracting the “before” period comparison measure."
      ],
      "id": "63722a7a-22ec-4e7b-ab8e-d02fb5d0e771"
    },
    {
      "cell_type": "code",
      "execution_count": null,
      "metadata": {},
      "outputs": [],
      "source": [
        "summary(\n",
        "    lm(\n",
        "        wgt ~ hgt + diet,\n",
        "        data = filter(sim.data, Treatment == 1)\n",
        "    )\n",
        ")"
      ],
      "id": "a0aae4bc-298b-4445-b801-73d740de9fd2"
    },
    {
      "cell_type": "markdown",
      "metadata": {},
      "source": [
        "### Naïve Before-After Estimator\n",
        "\n",
        "The second wrong way to estimate a DID is to do exactly what was\n",
        "described at the start of this section,\n",
        "\n",
        "$$\n",
        "    \\theta = \\mathbb{E}[Y_{i} \\mid \\underbrace{G_{i} = 1, T_{i} = 1}_{D_{i} = 1}] - \\mathbb{E}[Y_{i} \\mid \\underbrace{G_{i} = 1, T_{i} = 0}_{D_{i} = 0}].\n",
        "$$\n",
        "\n",
        "Of course, by now you know where the problem with this estimator lies."
      ],
      "id": "94761e14-4f11-4466-b994-c8c0818a4f8d"
    },
    {
      "cell_type": "code",
      "execution_count": null,
      "metadata": {},
      "outputs": [],
      "source": [
        "summary(\n",
        "    lm(\n",
        "        wgt ~ hgt + Treatment,\n",
        "        data = filter(sim.data, diet == 1)\n",
        "    )\n",
        ")"
      ],
      "id": "de41a6ca-f4f4-4bcf-8a11-596b83efaf63"
    },
    {
      "cell_type": "markdown",
      "metadata": {},
      "source": [
        "### Naïve Linear Estimator Without Interaction Terms\n",
        "\n",
        "A third way to estimate the ATET wrongly is to do a naïve linear\n",
        "estimator of the form\n",
        "\n",
        "$$\n",
        "    Y_{i} = b_{0} + b_{1} T_{i} + b_{2} D_{i} + e_{i}.\n",
        "$$\n",
        "\n",
        "Why would this be biased? One way to think about this is that this\n",
        "regression implies\n",
        "\n",
        "This points to a selection bias intuition. If you believe there is no\n",
        "unobserved selection into treatment, then this model is correct. In most\n",
        "cases this is not true.\n",
        "\n",
        "This may then prompt the question: intuitively, the saturated model\n",
        "solves this problem. Why? The idea again goes back to the parallel\n",
        "trends assumption. We assume that the selection bias is constant over\n",
        "time. As such, the “before” period observation where both groups are\n",
        "untreated provides an estimate of the selection bias, which we can then\n",
        "remove from this biased estimator to obtain the unbiased estimate of the\n",
        "ATET.\n",
        "\n",
        "This intuition should also reveal something very interesting: the DID\n",
        "estimator circumvents selection bias entirely. You do not need an\n",
        "experimental set-up without selection bias to use DID!"
      ],
      "id": "04933952-e787-4fd5-8857-00f6d2c6da87"
    },
    {
      "cell_type": "code",
      "execution_count": null,
      "metadata": {},
      "outputs": [],
      "source": [
        "summary(\n",
        "    lm(\n",
        "        wgt ~ hgt + Treatment + diet,\n",
        "        data = sim.data\n",
        "    )\n",
        ")"
      ],
      "id": "cfacc18c-45af-4e07-9046-d9a2c479df48"
    },
    {
      "cell_type": "markdown",
      "metadata": {},
      "source": [
        "### Difference-in-Differences using Linear Regression\n",
        "\n",
        "The linear regression model of DID is how most DID models are estimated\n",
        "in the academic literature. We estimate a model that is saturated in the\n",
        "time and group variables,\n",
        "\n",
        "$$\n",
        "    Y_{i} = \\alpha + \\gamma T_{i} + \\beta G_{i} + \\delta T_{i} \\times G_{i} + \\epsilon_{i}.\n",
        "$$\n",
        "\n",
        "This gives us\n",
        "\n",
        "This yields the time trend as $\\gamma$ and the time-invariant selection\n",
        "bias as $\\beta$. $\\delta$ is the unbiased estimator of the ATET and our\n",
        "parameter of interest."
      ],
      "id": "e9ed49a5-ceef-4aa9-8178-b2d429145164"
    },
    {
      "cell_type": "code",
      "execution_count": null,
      "metadata": {},
      "outputs": [],
      "source": [
        "summary(\n",
        "    lm(\n",
        "        wgt ~ hgt + Treatment * diet,\n",
        "        data = sim.data\n",
        "    )\n",
        ")"
      ],
      "id": "4c57f9c6-6f3b-465c-a3f4-e9ebf8ad67e8"
    },
    {
      "cell_type": "markdown",
      "metadata": {},
      "source": [
        "### Comparing Estimators\n",
        "\n",
        "The following table shows all the mispecified models and the correct\n",
        "specification. (1) is the naïve comparison estimator, (2) is the\n",
        "before-after estimator, (3) is the linear model estimator without the\n",
        "interaction term, (4) is the fully specified model, and (5) is what the\n",
        "$t$-test implicitly estimates.\n",
        "\n",
        "Again, note that (4) and (5) will in general not produce the same ATET\n",
        "estimate in most real-world data sets."
      ],
      "id": "58bf5955-1828-496d-918d-814f0eb72487"
    },
    {
      "cell_type": "code",
      "execution_count": null,
      "metadata": {},
      "outputs": [],
      "source": [
        "model1 <- lm(wgt ~ hgt + diet, data = filter(sim.data, Treatment == 1))\n",
        "model2 <- lm(wgt ~ hgt + Treatment, data = filter(sim.data, diet == 1))\n",
        "model3 <- lm(wgt ~ hgt + Treatment + diet, data = sim.data)\n",
        "model4 <- lm(wgt ~ hgt + Treatment * diet, data = sim.data)\n",
        "model5 <- lm(wgt ~ Treatment * diet, data = sim.data)\n",
        "\n",
        "stargazer(model1, \n",
        "          model2, \n",
        "          model3, \n",
        "          model4, \n",
        "          model5, \n",
        "          type = 'text',\n",
        "          df = FALSE,\n",
        "          omit.stat = c('F'))"
      ],
      "id": "56e8d21b-60a8-4a74-b136-d8c152344c08"
    },
    {
      "cell_type": "markdown",
      "metadata": {},
      "source": [
        "## Heterogeneity Over Time: the Event Study Estimator\n",
        "\n",
        "The logic of DID can be extended to the case where we observe multiple\n",
        "post-treatment periods. If we think that the ATET is heterogeneous over\n",
        "time, we can estimate an ATET for each period observed. This gives rise\n",
        "to the Event Study estimator. It is so named because this is often used\n",
        "to study the effect of a specific event—usually policy changes and\n",
        "natural disasters—and trace out its effects over many periods. While\n",
        "there is currently an active literature looking at problems with this\n",
        "estimator, we concern ourselves primarily with the simplest case where\n",
        "the treatment occurs only once and we observe the treated group and a\n",
        "counterfactual never-treated group for several periods before and after\n",
        "the event.\n",
        "\n",
        "### Load Data\n",
        "\n",
        "By convention, for a panel-structured data with more than two periods,\n",
        "period $0$ is when the treatment is implemented and all other period\n",
        "numbers refer to the number of periods after (positive) and before\n",
        "(negative) treatment implementation."
      ],
      "id": "5b17d9b4-49a6-4d30-b78a-897f7d1017c6"
    },
    {
      "cell_type": "code",
      "execution_count": null,
      "metadata": {},
      "outputs": [],
      "source": [
        "set.seed(999)\n",
        "sim.data <- tibble(i = c(1:10000), hgt = rnorm(10000, 1.68, 0.09), u = rnorm(10000, 0, 1))\n",
        "sim.data <- sim.data %>% mutate(diet = if_else(rnorm(10000, 0, 1) + u < 0, 0, 1))\n",
        "sim.data <- rbind(\n",
        "    sim.data %>% mutate(Treatment = -3, e = rnorm(10000, 0, 1) + u) %>% mutate(wgt = - 1.2 + 28 * hgt ^ 2 + e),\n",
        "    sim.data %>% mutate(Treatment = -2, e = rnorm(10000, 0, 1) + u) %>% mutate(wgt = - .5 + 28 * hgt ^ 2 + e),\n",
        "    sim.data %>% mutate(Treatment = -1, e = rnorm(10000, 0, 1) + u) %>% mutate(wgt = 28 * hgt ^ 2 + e),\n",
        "    sim.data %>% mutate(Treatment = 0, e = rnorm(10000, 0, 1) + u) %>% mutate(wgt = .3 + 28 * hgt ^ 2 + 1.2 * diet + e),\n",
        "    sim.data %>% mutate(Treatment = 1, e = rnorm(10000, 0, 1) + u) %>% mutate(wgt = .5 + 28 * hgt ^ 2 + .8 * diet + e),\n",
        "    sim.data %>% mutate(Treatment = 2, e = rnorm(10000, 0, 1) + u) %>% mutate(wgt = .9 + 28 * hgt ^ 2 + .1 * diet + e),\n",
        "    sim.data %>% mutate(Treatment = 3, e = rnorm(10000, 0, 1) + u) %>% mutate(wgt = 1.1 + 28 * hgt ^ 2 - .5 * diet + e),\n",
        "    sim.data %>% mutate(Treatment = 4, e = rnorm(10000, 0, 1) + u) %>% mutate(wgt = 1.4 + 28 * hgt ^ 2 - 1.5 * diet + e)\n",
        ")"
      ],
      "id": "c930d01a-cdae-40fd-94f5-cf04f87bdd48"
    },
    {
      "cell_type": "markdown",
      "metadata": {},
      "source": [
        "### Wrongly Using the Difference-in-Differences Estimator\n",
        "\n",
        "Intuitively, of course the plain DID estimator is a misspecification if\n",
        "we believe that the ATET is heterogeneous over time. Using the Law of\n",
        "Iterated Expectations, we know what the wrongly estimated ATET will be:\n",
        "\n",
        "$$\n",
        "    \\mathbb{E}[\\Delta_{i} \\mid G_{i} = 1] = \\mathbb{E}_{T}[\\mathbb{E}[\\Delta_{i} \\mid G_{i} = 1, T] \\mid G_{i} = 1].\n",
        "$$\n",
        "\n",
        "Hence, as in this simulated data set, if the time trend of the treatment\n",
        "effect is not monotonic, we can have unexpected results by incorrectly\n",
        "specifying a case of truly heterogeneous treatment effects using the\n",
        "homogeneous treatment effect estimator."
      ],
      "id": "86fdb588-f074-420d-b5c8-c25fe345103b"
    },
    {
      "cell_type": "code",
      "execution_count": null,
      "metadata": {},
      "outputs": [],
      "source": [
        "sim.data %>%\n",
        "    mutate(T = if_else(Treatment > -1, 1, 0)) %>%\n",
        "    lm(wgt ~ hgt + Treatment * diet, data = .) %>%\n",
        "    summary"
      ],
      "id": "bb310d5d-8ee6-4218-b23b-f7e0c5aab3f2"
    },
    {
      "cell_type": "markdown",
      "metadata": {},
      "source": [
        "### Event Study with $t$-Tests\n",
        "\n",
        "The $t$-Test version of the Event Study estimator is straightforward.\n",
        "What we are essentially interested in is\n",
        "\n",
        "$$\n",
        "    ATET(t) = \\left( \\mathbb{E}[Y_{i} \\mid G_{i} = 1, T_{i} = t] - \\mathbb{E}[Y_{i} \\mid G_{i} = 1, T_{i} = -1] \\right) - \\left( \\mathbb{E}[Y_{i} \\mid G_{i} = 0, T_{i} = t] - \\mathbb{E}[Y_{i} \\mid G_{i} = 0, T_{i} = -1] \\right)\n",
        "$$\n",
        "\n",
        "which we can rewrite as\n",
        "\n",
        "$$\n",
        "    ATET(t) = \\mathbb{E}[Y_{i,t} - Y_{i,-1} \\mid G_{i} = 1] - \\mathbb{E}[Y_{i,t} - Y_{i,-1} \\mid G_{i} = 0].\n",
        "$$\n",
        "\n",
        "This implies that what we want to do is simply to first restrict our\n",
        "data set to the periods $t$ and $-1$, then use the regular DID estimator\n",
        "on this subset, and repeat this exercise for all periods before and\n",
        "after $-1$."
      ],
      "id": "f5ec8507-b27f-4195-9b57-244d138a7fdd"
    },
    {
      "cell_type": "code",
      "execution_count": null,
      "metadata": {},
      "outputs": [],
      "source": [
        "c(0:4) %>% \n",
        "    lapply(\n",
        "        function (t) t.test(\n",
        "            sim.data %>% filter(Treatment == t & diet == 1) %>% select(wgt) - sim.data %>% filter(Treatment == -1 & diet == 1) %>% select(wgt), \n",
        "            sim.data %>% filter(Treatment == t & diet == 0) %>% select(wgt) - sim.data %>% filter(Treatment == -1 & diet == 0) %>% select(wgt), \n",
        "            var.equal = TRUE\n",
        "        )\n",
        "    ) %>%\n",
        "    map_df(tidy) %>%\n",
        "    print"
      ],
      "id": "01b1f28b-aa68-484a-8cd6-e8dbb32e4db5"
    },
    {
      "cell_type": "markdown",
      "metadata": {},
      "source": [
        "### Interpreting the Results\n",
        "\n",
        "The $t$-test analogue of the Event Study estimator also highlights\n",
        "intuitively how we need to think about and interpret the estimator. The\n",
        "ATET estimate for each period is interpreted with respect to the base\n",
        "period, which in this case is the period just before the treatment is\n",
        "implemented. Here,\n",
        "\n",
        "1.  The diet actually increases the weight of those on the diet by\n",
        "    $1.12$ kg on average in the period they start the diet.\n",
        "2.  The diet still increases the weight of those on the diet by $0.748$\n",
        "    kg on average relative to before starting the diet after $1$ period\n",
        "    (let’s say, months).\n",
        "3.  The effect of the diet $2$ months after starting the diet is\n",
        "    approximately zero relative to before the diet.\n",
        "4.  The effect of the diet turns negative after $3$ months relative to\n",
        "    before the diet, with those on diet losing $0.571$ kg on average.\n",
        "5.  Those on the diet lose $1.55$ kg on average after $4$ months on the\n",
        "    diet relative to before starting the diet.\n",
        "\n",
        "### Event Study with Linear Regression\n",
        "\n",
        "With linear regression, the Event Study method is even simpler.\n",
        "Factorise your time variable and set $-1$ as the base level using\n",
        "`relevel`, then estimate the model. `R` takes care of all the necessary\n",
        "interactions for us."
      ],
      "id": "0ed44bd4-fa11-4f65-9b2d-aeb6737fb26f"
    },
    {
      "cell_type": "code",
      "execution_count": null,
      "metadata": {},
      "outputs": [],
      "source": [
        "sim.data %>%\n",
        "    mutate(Treatment = relevel(factor(Treatment, levels = c(-3, -2, -1, 0, 1, 2, 3, 4)), ref = 3)) %>%\n",
        "    lm(wgt ~ hgt + Treatment * diet, data = .) %>%\n",
        "    summary"
      ],
      "id": "9a442efc-c2d6-4b6d-b949-1f1de6660f78"
    },
    {
      "cell_type": "markdown",
      "metadata": {},
      "source": [
        "## Heterogeneity Over Groups: the Triple Difference Estimator\n",
        "\n",
        "Suppose we are interested in not only the ATET, but also how the ATET\n",
        "differs across certain groups of interest. An example is whether a\n",
        "certain policy, which only affects some individuals, helps to close the\n",
        "gender wage gap: what this implicitly asks is whether\n",
        "\n",
        "$$\n",
        "    ATET(female) > ATET(male).\n",
        "$$\n",
        "\n",
        "Provided that we have panel data, again there is a method that helps to\n",
        "illuminate this kind of heterogeneity: the Triple Difference estimator.\n",
        "What the Triple Difference estimator is interested in is implicitly\n",
        "\n",
        "$$\n",
        "    ATET(k) = \\left( \\mathbb{E}[Y_{i} \\mid G_{i} = 1, K = k, T_{i} = 1] - \\mathbb{E}[Y_{i} \\mid G_{i} = 1, K = k, T_{i} = 0] \\right) - \\left( \\mathbb{E}[Y_{i} \\mid G_{i} = 0, K = k, T_{i} = 1] - \\mathbb{E}[Y_{i} \\mid G_{i} = 0, K = k, T_{i} = 0] \\right),\n",
        "$$\n",
        "\n",
        "where $k$ is a group of interest that is not the basis for selection\n",
        "into treatment for which we think $ATET(k) \\ne ATET$ and we would like\n",
        "to estimate $ATET(k)$ specifically. As in the lecture notes, while we\n",
        "can in principle estimate heterogeneous treatment effects by simply\n",
        "estimating a DID model for each sub-group, this assumes a fully\n",
        "heterogeneous model where it may not actually be warranted, is\n",
        "inefficient as you are not using the full sample, and it is\n",
        "difficult—though not impossible, but the methods are beyond this level\n",
        "of study—to test if the differences are actually statistically\n",
        "significant.\n",
        "\n",
        "Hence, taking the usual route of adding yet another interaction term to\n",
        "the model to obtain the heterogeneous treatment effects of interest\n",
        "yields the Triple Differences estimator. This gives an intuition as to\n",
        "what Triple Differences are good for:\n",
        "\n",
        "1.  Triple Differences tells you if a treatment has additional effects\n",
        "    on specific sub-groups.\n",
        "2.  Triple Differences is also useful if what you are interested in is\n",
        "    the pure effect of the treatment and would like to partial out all\n",
        "    other confounding effects of time and group using an argument\n",
        "    similar to the parallel trends assumption.\n",
        "\n",
        "### Load Data\n",
        "\n",
        "The data requirements for Triple Differences are similar to that of DID,\n",
        "except we also require another grouping axis that exhibits variation\n",
        "over the treatment assignment indicator. In other words, it cannot be\n",
        "the case that that grouping variable is collinear with the treatment\n",
        "assignment indicator—for example, if we want to understand the gendered\n",
        "impact of a policy, that policy cannot only impact one gender."
      ],
      "id": "cf5594cc-6b6a-4bb3-9cfd-e0061f2d7217"
    },
    {
      "cell_type": "code",
      "execution_count": null,
      "metadata": {},
      "outputs": [],
      "source": [
        "set.seed(999)\n",
        "sim.data <- tibble(i = c(1:10000), u = rnorm(10000, 0, 1))\n",
        "sim.data <- sim.data %>% mutate(sex = rnorm(10000, 0, 1) + u, diet = rnorm(10000, 0, 1))\n",
        "sim.data <- sim.data %>% mutate(diet = if_else(diet < 0, 0, 1), sex = factor(if_else(sex < 0, 'male', 'female'), levels = c('male', 'female')))\n",
        "sim.data <- sim.data %>% mutate(hgt = rnorm(10000, 1.69, .1))\n",
        "sim.data <- rbind(sim.data %>% mutate(Treatment = 0), sim.data %>% mutate(Treatment = 1)) \n",
        "sim.data <- sim.data %>% mutate(e = rnorm(20000, 0, 1) + u)\n",
        "sim.data <- sim.data %>% mutate(wgt = 26.4 * hgt * hgt + 1.7 * Treatment - 2.55 * (sex == 'female') - 1.3 * Treatment * (sex == 'female') - 2 * Treatment * diet - 1.2 * Treatment * diet * (sex == 'female') + e) "
      ],
      "id": "3a5e2613-f025-436e-bb62-524b5ef65c34"
    },
    {
      "cell_type": "markdown",
      "metadata": {},
      "source": [
        "### Wrongly Using the Difference-in-Differences Estimator\n",
        "\n",
        "The Law of Iterated Expectations can again be used to tell us that if\n",
        "the treatment effect is really heterogeneous, then ignoring that\n",
        "heterogeneity is going to yield a biased estimator that is the weighted\n",
        "mean of all the treatment effects,\n",
        "\n",
        "$$\n",
        "    \\mathbb{E}[\\Delta_{i} \\mid G_{i} = 1] = \\mathbb{E}_{K}[\\mathbb{E}[\\Delta_{i} \\mid G_{i} = 1, K] \\mid G_{i} = 1].\n",
        "$$\n",
        "\n",
        "In this case, it may look like there was a mistake because $-2.5$ is\n",
        "less than either $-2$ or $-1.2$, but recall from the module on\n",
        "regressions that the proper way to interpret coefficients under\n",
        "interaction terms tells us that in fact the effect of the diet on the\n",
        "two sexes are $-2$ and $-3.2$ respectively. Therefore the biased\n",
        "estimate of $-2.5$ adheres to the Law of Iterated Expectations well."
      ],
      "id": "ef77fc78-b9c0-4a0e-b088-9927ada62ff7"
    },
    {
      "cell_type": "code",
      "execution_count": null,
      "metadata": {},
      "outputs": [],
      "source": [
        "sim.data %>%\n",
        "    lm(wgt ~ hgt + Treatment * diet, data = .) %>%\n",
        "    summary"
      ],
      "id": "58ed5bfd-22bc-4236-8492-76104f5d9961"
    },
    {
      "cell_type": "markdown",
      "metadata": {},
      "source": [
        "### Triple Difference Intuition with $t$-Tests\n",
        "\n",
        "Before we move into regression analysis, which can be harder to\n",
        "interpret, we’ll look at some $t$-test results to get a bearing on the\n",
        "intuitions. Each row corresponds to one of the sexes. The first column\n",
        "of the table is the heterogeneous weight loss estimate of each sex.\n",
        "Then, the Triple Difference estimator is simply the difference in the\n",
        "two weight loss estimates. The estimate corresponds to the coefficient\n",
        "on the triple interaction term in our data simulation code, as expected,\n",
        "and can be interpreted in one of two ways. The first is outlined in the\n",
        "notes, corresponding to the true treatment effect after separating out\n",
        "group effects as well. The second is outlined here, corresponding to the\n",
        "additional weight loss due to the diet on females compared to males."
      ],
      "id": "6f74d85e-262c-455d-af3e-6bfefc131c53"
    },
    {
      "cell_type": "code",
      "execution_count": null,
      "metadata": {},
      "outputs": [],
      "source": [
        "list(\n",
        "    t.test(\n",
        "        sim.data %>% filter(sex == 'female' & Treatment == 1 & diet == 1) %>% select(wgt) - sim.data %>% filter(sex == 'female' & Treatment == 0 & diet == 1) %>% select(wgt), \n",
        "        sim.data %>% filter(sex == 'female' & Treatment == 1 & diet == 0) %>% select(wgt) - sim.data %>% filter(sex == 'female' & Treatment == 0 & diet == 0) %>% select(wgt), \n",
        "        var.equal = TRUE\n",
        "    ),\n",
        "    t.test(\n",
        "        sim.data %>% filter(sex == 'male' & Treatment == 1 & diet == 1) %>% select(wgt) - sim.data %>% filter(sex == 'male' & Treatment == 0 & diet == 1) %>% select(wgt), \n",
        "        sim.data %>% filter(sex == 'male' & Treatment == 1 & diet == 0) %>% select(wgt) - sim.data %>% filter(sex == 'male' & Treatment == 0 & diet == 0) %>% select(wgt), \n",
        "        var.equal = TRUE\n",
        "    )\n",
        ") %>%\n",
        "    map_df(tidy) %>%\n",
        "    print"
      ],
      "id": "f6018c83-81ca-4a3d-892f-ee267ca61da8"
    },
    {
      "cell_type": "markdown",
      "metadata": {},
      "source": [
        "### Triple Difference with Linear Regression\n",
        "\n",
        "This shows the Triple Difference estimator as discussed in the note. In\n",
        "`R`, the interaction operator `*` can be chained and therefore it is\n",
        "relatively simple to set up the Triple Difference estimator. `R` takes\n",
        "care of populating all the interaction terms."
      ],
      "id": "20a54091-d6a0-4061-8e85-2eeef0ef00e6"
    },
    {
      "cell_type": "code",
      "execution_count": null,
      "metadata": {},
      "outputs": [],
      "source": [
        "sim.data %>%\n",
        "    lm(wgt ~ hgt + sex * Treatment * diet, data = .) %>%\n",
        "    summary"
      ],
      "id": "f5d03f09-e1f0-4f46-bd5c-6a94e559584c"
    },
    {
      "cell_type": "markdown",
      "metadata": {},
      "source": [
        "### Comparing Misspecified Estimators under Triple Differences\n",
        "\n",
        "The following two tables shows how various ways of misspecifying the\n",
        "model when the true CEF corresponds to the heterogeneous ATET/Triple\n",
        "Difference case results in biased estimates. Try to figure out if you\n",
        "can compute the biased estimates theoretically to check your\n",
        "understanding of how the DID model works in general!"
      ],
      "id": "c4fbb834-3f8a-4c5f-ae89-96db58ef402b"
    },
    {
      "cell_type": "code",
      "execution_count": null,
      "metadata": {},
      "outputs": [],
      "source": [
        "model1 <- lm(wgt ~ hgt + Treatment * diet, data = sim.data)\n",
        "model2 <- lm(wgt ~ hgt + Treatment * diet, data = sim.data %>% filter(sex == 'female'))\n",
        "model3 <- lm(wgt ~ hgt + Treatment * diet, data = sim.data %>% filter(sex == 'male'))\n",
        "model4 <- lm(wgt ~ hgt + Treatment * diet * sex, data = sim.data)\n",
        "\n",
        "stargazer(model1, \n",
        "          model2, \n",
        "          model3, \n",
        "          model4, \n",
        "          type = 'text',\n",
        "          df = FALSE,\n",
        "          omit.stat = c('F'))"
      ],
      "id": "eda161cc-561e-47d9-a817-3a1347e06180"
    },
    {
      "cell_type": "code",
      "execution_count": null,
      "metadata": {},
      "outputs": [],
      "source": [
        "model1 <- lm(wgt ~ hgt + Treatment * sex, data = sim.data)\n",
        "model2 <- lm(wgt ~ hgt + Treatment * sex, data = sim.data %>% filter(diet == 1))\n",
        "model3 <- lm(wgt ~ hgt + Treatment * sex, data = sim.data %>% filter(diet == 0))\n",
        "model4 <- lm(wgt ~ hgt + diet * sex, data = sim.data)\n",
        "model5 <- lm(wgt ~ hgt + diet * sex, data = sim.data %>% filter(Treatment == 1))\n",
        "model6 <- lm(wgt ~ hgt + diet * sex, data = sim.data %>% filter(Treatment == 0))\n",
        "model7 <- lm(wgt ~ hgt + Treatment * diet * sex, data = sim.data)\n",
        "\n",
        "\n",
        "stargazer(model1, \n",
        "          model2, \n",
        "          model3, \n",
        "          model4, \n",
        "          model5, \n",
        "          model6, \n",
        "          model7, \n",
        "          type = 'text',\n",
        "          df = FALSE,\n",
        "          omit.stat = c('F'))"
      ],
      "id": "7cbfa8c5-537f-40e2-ba8b-cbc04942ad34"
    },
    {
      "cell_type": "markdown",
      "metadata": {},
      "source": [
        "## Using Repeated Cross-Section Data\n",
        "\n",
        "Let’s return to the DID model for a bit.\n",
        "\n",
        "$$\n",
        "    ATET = \\left( \\mathbb{E}[Y_{i} \\mid G_{i} = 1, T_{i} = 1] - \\mathbb{E}[Y_{i} \\mid G_{i} = 1, T_{i} = 0] \\right) - \\left( \\mathbb{E}[Y_{i} \\mid G_{i} = 0, T_{i} = 1] - \\mathbb{E}[Y_{i} \\mid G_{i} = 0, T_{i} = 0] \\right).\n",
        "$$\n",
        "\n",
        "Nothing in this equation indicates that the individuals at $T = 1$ have\n",
        "to be the same as the individuals at $T = 0$. The implication is that it\n",
        "is possible to do DID with repeated cross-section data. Recall that\n",
        "repeated cross-section data is simply data where you have collected data\n",
        "from samples in multiple periods, but the sample in each period is a\n",
        "different sample. Unlike panel data, where you have a time index in the\n",
        "data, there are no longitudinal observations at the unit level.\n",
        "\n",
        "The model in theory suggests two ways to run DID.\n",
        "\n",
        "### Generating Repeated Cross-Section Data\n",
        "\n",
        "Data for repeated cross-section data is similar to panel data, except\n",
        "that instead of generating the unit first and then reusing the units\n",
        "over time you simply generate a new set of units in each time period."
      ],
      "id": "58b64463-f85b-4085-9b77-1d8b3378e966"
    },
    {
      "cell_type": "code",
      "execution_count": null,
      "metadata": {},
      "outputs": [],
      "source": [
        "set.seed(1000)\n",
        "sim.data <- rbind(\n",
        "    tibble(i = c(1:10000), Treatment = 0, hgt = rnorm(10000, 1.68, 0.09), u = rnorm(10000, 0, 1)),\n",
        "    tibble(i = c(1:10000), Treatment = 1, hgt = rnorm(10000, 1.68, 0.09), u = rnorm(10000, 0, 1))\n",
        ")\n",
        "sim.data <- sim.data %>% mutate(diet = if_else(rnorm(20000, 0, 1) + u < 0, 0, 1), e = rnorm(20000, 0, 1) + u)\n",
        "sim.data <- sim.data %>% mutate(wgt = 2 * T + 28 * hgt ^ 2 - 3 * T * diet + e)"
      ],
      "id": "7cbfa745-5312-4852-a7a7-814a252e1a3e"
    },
    {
      "cell_type": "markdown",
      "metadata": {},
      "source": [
        "### DID on Repeated Cross-Section using OLS\n",
        "\n",
        "This is straightforward. As long as the samples in each period are\n",
        "independent, representative samples and you know which group in the\n",
        "“before” period would be given the treatment if you could observe them\n",
        "in the “after” period, then DID using OLS works the same way as in the\n",
        "panel data case."
      ],
      "id": "04ebf98e-e905-4b5c-800b-8e36c297cdf5"
    },
    {
      "cell_type": "code",
      "execution_count": null,
      "metadata": {},
      "outputs": [],
      "source": [
        "sim.data %>%\n",
        "    lm(wgt ~ hgt + Treatment * diet, data = .) %>%\n",
        "    summary"
      ],
      "id": "45efc670-ea04-47fa-84b6-a2058d2b1677"
    },
    {
      "cell_type": "markdown",
      "metadata": {},
      "source": [
        "### DID using a $2 \\times 2$ Table\n",
        "\n",
        "The $2 \\times 2$ table is:\n",
        "\n",
        "|  | $G = 0$ | $G = 1$ |  |\n",
        "|---------------:|:-----------------:|:-----------------:|:-----------------:|\n",
        "| $T = 0$ | $\\mu_{Y}(0,0)$ | $\\mu_{Y}(1,0)$ | $\\mu_{Y}(1,0) - \\mu_{Y}(0,0)$ |\n",
        "| $T = 1$ | $\\mu_{Y}(0,1)$ | $\\mu_{Y}(1,1)$ | $\\mu_{Y}(1,1) - \\mu_{Y}(0,1)$ |\n",
        "|  | $\\mu_{Y}(0,1) - \\mu_{Y}(0,0)$ | $\\mu_{Y}(1,1) - \\mu_{Y}(1,0)$ | $ATET$ |\n",
        "\n",
        "The principal problem is not in the point estimates. These are\n",
        "straightforward. The estimates for the central four cells are simply the\n",
        "four conditional means of the outcome variable. The estimates for the\n",
        "marginal cells are simply either row-wise or column-wise differences\n",
        "between the conditional means and the estimate of the ATET is the DID\n",
        "estimator using the conditional mean estimates in place of the true\n",
        "conditional expectations.\n",
        "\n",
        "The main problem is, how do we know that the ATET estimate is\n",
        "statistically significant? In other words, we want to test\n",
        "\n",
        "Recall the following:\n",
        "\n",
        "$$\n",
        "    Var(\\overline{X} + \\overline{Y}) = Var(\\overline{X}) + Var(\\overline{Y}) + 2 Cov(\\overline{X},\\overline{Y}).\n",
        "$$\n",
        "\n",
        "Note that this switching of notation from $\\mu$ (representing the true\n",
        "population-level conditional expectation) to $\\overline{X}$\n",
        "(representing our sample analogue estimator of the population-level\n",
        "expectations) is not a mistake. $\\mu$ has a variance of zero because it\n",
        "is the true population parameter. On the other hand $\\overline{X}$ has a\n",
        "variance because it is a function of a random sample. A function of\n",
        "random variables is itself a random variable (think about adding two\n",
        "random variables—is it now non-random?), therefore it makes sense to\n",
        "talk about its distributional properties. Now, if the data for $X$ and\n",
        "$Y$ are independent, then\n",
        "\n",
        "$$\n",
        "    Var(\\overline{X} + \\overline{Y}) = Var(\\overline{X}) + Var(\\overline{Y}).\n",
        "$$\n",
        "\n",
        "If the data was collected well, in many cases we can assume that\n",
        "$\\overline{Y}\\mid_{G=0,T=0}$, $\\overline{Y}\\mid_{G=0,T=1}$,\n",
        "$\\overline{Y}\\mid_{G=1,T=0}$, and $\\overline{Y}\\mid_{G=1,T=1}$, are\n",
        "indeed independent, which then implies that the SE of the estimator\n",
        "should just be\n",
        "\n",
        "$$\n",
        "    SE\\left( \\left( \\overline{Y}\\mid_{G=1,T=1} - \\overline{Y}\\mid_{G=1,T=0} \\right) - \\left( \\overline{Y}\\mid_{G=0,T=1} - \\overline{Y}\\mid_{G=0,T=0} \\right) \\right) = \\sqrt{ Var\\left(\\overline{Y}\\mid_{G=0,T=0}\\right) + Var\\left(\\overline{Y}\\mid_{G=0,T=1}\\right) + Var\\left(\\overline{Y}\\mid_{G=1,T=0}\\right) + Var\\left(\\overline{Y}\\mid_{G=1,T=1}\\right) }.\n",
        "$$\n",
        "\n",
        "We can compute the second term. Each variance term is effectively just\n",
        "the squared SE of a conditional mean. Recall from earlier modules that\n",
        "this is computed simply as\n",
        "`varmean = var(X[G = g & T = t], na.rm = TRUE) / sum(G = g & T = t & !is.na(X))`.\n",
        "\n",
        "Finally, we need a distribution. Recall that, in only one case, the\n",
        "degrees of freedom are the straightforward $df_{1} + df_{2} - 2$. In all\n",
        "other cases there is a specific formula that does not necessarily yield\n",
        "an integer DF. What do we then do here? There are two main options:\n",
        "\n",
        "1.  Assume that something analogous works for your situation as well, so\n",
        "    that you compute your DF as $$\n",
        "     df_{0,0} + df_{0,1} + df_{1,0} + df_{1,1} - 4.\n",
        "    $$\n",
        "\n",
        "2.  Ignore the DF and assume that you have sufficient variables (as a\n",
        "    rule-of-thumb, do you have at least $50$ observations in each of the\n",
        "    four groups?) so that you can assume that some Law of Large Numbers\n",
        "    holds and therefore the distribution of the test statistic is\n",
        "    approximately Normal.\n",
        "\n",
        "These give rise to the following procedure:\n",
        "\n",
        "1.  Compute $\\overline{Y}\\mid_{G=1,T=1}$, $\\overline{Y}\\mid_{G=1,T=0}$,\n",
        "    $\\overline{Y}\\mid_{G=0,T=1}$, $\\overline{Y}\\mid_{G=0,T=0}$,\n",
        "    $Var\\left(\\overline{Y}\\mid_{G=0,T=0}\\right)$,\n",
        "    $Var\\left(\\overline{Y}\\mid_{G=0,T=1}\\right)$,\n",
        "    $Var\\left(\\overline{Y}\\mid_{G=1,T=0}\\right)$, and\n",
        "    $Var\\left(\\overline{Y}\\mid_{G=1,T=1}\\right)$.\n",
        "2.  Compute\n",
        "    $\\theta = \\left( \\overline{Y}\\mid_{G=1,T=1} - \\overline{Y}\\mid_{G=1,T=0} \\right) - \\left( \\overline{Y}\\mid_{G=0,T=1} - \\overline{Y}\\mid_{G=0,T=0} \\right)$.\n",
        "3.  Compute\n",
        "    $s^{2} = \\sqrt{ Var\\left(\\overline{Y}\\mid_{G=0,T=0}\\right) + Var\\left(\\overline{Y}\\mid_{G=0,T=1}\\right) + Var\\left(\\overline{Y}\\mid_{G=1,T=0}\\right) + Var\\left(\\overline{Y}\\mid_{G=1,T=1}\\right) }$.\n",
        "4.  Compute $\\frac{\\theta}{s}$ and label it either $t$ or $z$.\n",
        "5.  If you used the $t$ label, compute\n",
        "    $N\\mid_{G=0,T=0} + N\\mid_{G=0,T=1} + N\\mid_{G=1,T=0} + N\\mid_{G=1,T=1} - 4$\n",
        "    where $N$ means number of non-missing observations.\n",
        "6.  Compute the $p$ value for your test using either the\n",
        "    $t$-distribution or the Standard Normal distribution, depending on\n",
        "    whether you used the $t$ or $z$ label respectively.\n",
        "\n",
        "### Compute the $2 \\times 2$ Table of Means"
      ],
      "id": "0c7d6deb-62be-48b5-8fc9-f84d6c4199f9"
    },
    {
      "cell_type": "code",
      "execution_count": null,
      "metadata": {},
      "outputs": [],
      "source": [
        "sim.res.mat <- matrix(\n",
        "    c(sim.data %>% filter(Treatment == 0 & diet == 0 & !is.na(wgt)) %>% .$wgt %>% mean, sim.data %>% filter(Treatment == 0 & diet == 1 & !is.na(wgt)) %>% .$wgt %>% mean, 0,\n",
        "      sim.data %>% filter(Treatment == 1 & diet == 0 & !is.na(wgt)) %>% .$wgt %>% mean, sim.data %>% filter(Treatment == 1 & diet == 1 & !is.na(wgt)) %>% .$wgt %>% mean, 0,\n",
        "      0, 0, 0),\n",
        "    nrow = 3,\n",
        "    ncol = 3,\n",
        "    byrow = TRUE\n",
        ")\n",
        "sim.res.mat[1,3] <- sim.res.mat[1,2] - sim.res.mat[1,1]\n",
        "sim.res.mat[2,3] <- sim.res.mat[2,2] - sim.res.mat[2,1]\n",
        "sim.res.mat[3,1] <- sim.res.mat[2,1] - sim.res.mat[1,1]\n",
        "sim.res.mat[3,2] <- sim.res.mat[2,2] - sim.res.mat[1,2]\n",
        "sim.res.mat[3,3] <- sim.res.mat[3,2] - sim.res.mat[3,1]\n",
        "rownames(sim.res.mat) <- c('before', 'after', 'diff time')\n",
        "colnames(sim.res.mat) <- c('no diet', 'diet', 'diff diet')\n",
        "print(sim.res.mat)"
      ],
      "id": "3d8d48a2-605f-422f-9d60-3e0608ca5a57"
    },
    {
      "cell_type": "markdown",
      "metadata": {},
      "source": [
        "### Compute the Variances Associated with each Group"
      ],
      "id": "6cb3bac2-388b-49d4-a4cd-91b806cbcd1a"
    },
    {
      "cell_type": "code",
      "execution_count": null,
      "metadata": {},
      "outputs": [],
      "source": [
        "sim.var.mat <- matrix(\n",
        "    c(sim.data %>% filter(Treatment == 0 & diet == 0 & !is.na(wgt)) %>% .$wgt %>% var, sim.data %>% filter(Treatment == 0 & diet == 1 & !is.na(wgt)) %>% .$wgt %>% var,\n",
        "     sim.data %>% filter(Treatment == 1 & diet == 0 & !is.na(wgt)) %>% .$wgt %>% var, sim.data %>% filter(Treatment == 1 & diet == 1 & !is.na(wgt)) %>% .$wgt %>% var),\n",
        "    nrow = 2,\n",
        "    ncol = 2,\n",
        "    byrow = TRUE\n",
        ")\n",
        "rownames(sim.var.mat) <- c('before', 'after')\n",
        "colnames(sim.var.mat) <- c('no diet', 'diet')\n",
        "print(sim.var.mat)"
      ],
      "id": "f26d147c-1fa4-4015-acf4-95af7f858f0a"
    },
    {
      "cell_type": "markdown",
      "metadata": {},
      "source": [
        "### Compute the Counts in each Group"
      ],
      "id": "b3b23199-475a-4447-abd9-360e0713a087"
    },
    {
      "cell_type": "code",
      "execution_count": null,
      "metadata": {},
      "outputs": [],
      "source": [
        "sim.n.mat <- matrix(\n",
        "    c(sim.data %>% filter(Treatment == 0 & diet == 0 & !is.na(wgt)) %>% .$wgt %>% length, sim.data %>% filter(Treatment == 0 & diet == 1 & !is.na(wgt)) %>% .$wgt %>% length,\n",
        "     sim.data %>% filter(Treatment == 1 & diet == 0 & !is.na(wgt)) %>% .$wgt %>% length, sim.data %>% filter(Treatment == 1 & diet == 1 & !is.na(wgt)) %>% .$wgt %>% length),\n",
        "    nrow = 2,\n",
        "    ncol = 2,\n",
        "    byrow = TRUE\n",
        ")\n",
        "rownames(sim.n.mat) <- c('before', 'after')\n",
        "colnames(sim.n.mat) <- c('no diet', 'diet')\n",
        "print(sim.n.mat)"
      ],
      "id": "797cc167-1973-4bc5-951c-007473de2b56"
    },
    {
      "cell_type": "markdown",
      "metadata": {},
      "source": [
        "### Compute the Test Statistic"
      ],
      "id": "7bf5f3d6-5ea7-4825-9119-41dc8859d36e"
    },
    {
      "cell_type": "code",
      "execution_count": null,
      "metadata": {},
      "outputs": [],
      "source": [
        "sim.theta <- sim.res.mat[3,3] / sqrt(sum(sim.var.mat / sim.n.mat))\n",
        "print(sim.theta)"
      ],
      "id": "2c54c8f7-4d46-47cc-a7ac-2e60360144c0"
    },
    {
      "cell_type": "markdown",
      "metadata": {},
      "source": [
        "### Compute the $p$-Value"
      ],
      "id": "ac6b7ba3-17c4-48cf-a029-e1ddf59e160e"
    },
    {
      "cell_type": "code",
      "execution_count": null,
      "metadata": {},
      "outputs": [],
      "source": [
        "print(\n",
        "    list(\n",
        "        'z-test' = 2 * pnorm(abs(sim.theta), 0, 1, lower.tail = FALSE),\n",
        "        't-test' = 2 * pt(abs(sim.theta), sum(sim.n.mat), lower.tail = FALSE)\n",
        "    )\n",
        ")"
      ],
      "id": "a0642639-85d9-43ca-8184-aa9dc1030a3c"
    },
    {
      "cell_type": "markdown",
      "metadata": {},
      "source": [
        "### Comparison Against Linear Regression"
      ],
      "id": "5d499dd1-e849-4cfa-bba2-3e91112b0081"
    },
    {
      "cell_type": "code",
      "execution_count": null,
      "metadata": {},
      "outputs": [],
      "source": [
        "sim.data %>%\n",
        "    lm(wgt ~ Treatment * diet, data = .) %>%\n",
        "    summary"
      ],
      "id": "f7bcf411-7c02-44b5-9495-aaf5b278f518"
    },
    {
      "cell_type": "markdown",
      "metadata": {},
      "source": [
        "### Summary for Repeated Cross-Section\n",
        "\n",
        "Clearly, you can compute the DID estimator manually with repeated\n",
        "cross-section data and it yields estimates of similar quality to what\n",
        "OLS provides. If doing it manually is your preference, go ahead.\n",
        "Otherwise, you should also take away from this section that OLS works\n",
        "just as well for repeated cross-section data. The presentation of the\n",
        "manual method is really just to show you in detail how the underlying\n",
        "statistics of this estimator work.\n",
        "\n",
        "## When Parallel Trends Fails\n",
        "\n",
        "The key and only assumption for DID is parallel trends:\n",
        "\n",
        "$$\n",
        "    \\mathbb{E}[Y_{0,i}(0) \\mid T_{i} = 1] - \\mathbb{E}[Y_{0,i}(0) \\mid T_{i} = 0] = \\mathbb{E}[Y_{1,i}(0) \\mid T_{i} = 1] - \\mathbb{E}[Y_{1,i}(0) \\mid T_{i} = 0].\n",
        "$$\n",
        "\n",
        "What happens if this fails? Notice what happens to the bias when you\n",
        "compute the DID estimator,\n",
        "\n",
        "$$\n",
        "    \\theta - ATET = \\underbrace{\\left( \\mathbb{E}[Y_{1,i}(0) \\mid T_{i} = 1] - \\mathbb{E}[Y_{1,i}(0) \\mid T_{i} = 0] \\right)}_{\\text{Time Trend for $G_{i} = 1$}} - \\underbrace{\\left( \\mathbb{E}[Y_{0,i}(0) \\mid T_{i} = 1] - \\mathbb{E}[Y_{0,i}(0) \\mid T_{i} = 0] \\right)}_{\\text{Time Trend for $G_{i} = 0$}}.\n",
        "$$\n",
        "\n",
        "When parallel trends is not satisfied, there is no longer any guarantee\n",
        "that the trends for the two groups are in the same direction, such that\n",
        "DID reduces the bias in the estimator. In fact, if the two groups\n",
        "intuitively trend in opposite directions, DID exacerbates the bias. Can\n",
        "you think of situations where your treated and never-treated groups\n",
        "naturally trend in different directions over time?\n",
        "\n",
        "### Load Data\n",
        "\n",
        "Let’s take a look at some data where parallel trends fails."
      ],
      "id": "5c68b2a8-5a4e-4a97-b960-43b1c5f1757e"
    },
    {
      "cell_type": "code",
      "execution_count": null,
      "metadata": {},
      "outputs": [],
      "source": [
        "set.seed(998)\n",
        "sim.data <- tibble(i = c(1:10000), hgt = rnorm(10000, 1.63, 0.08), u = rnorm(10000, 0, 1))\n",
        "sim.data <- sim.data %>% mutate(diet = if_else(rnorm(10000, 0, 1) + u < 0, 0, 1))\n",
        "sim.data <- rbind(\n",
        "    sim.data %>% mutate(Treatment = 0, e = rnorm(10000, 0, 1) + u) %>% mutate(wgt = 28 * hgt ^ 2 + e),\n",
        "    sim.data %>% mutate(Treatment = 1, e = rnorm(10000, 0, 1) + u, hgt = if_else(diet == 1, hgt - .1, hgt + .1)) %>% mutate(wgt = 2 + 28 * hgt ^ 2 - 3 * diet + e)\n",
        ")\n",
        "summary(sim.data)"
      ],
      "id": "d95eea33-fc1a-4d01-8d56-f099bfc9ae93"
    },
    {
      "cell_type": "markdown",
      "metadata": {},
      "source": [
        "### The $t$-Test Fails\n",
        "\n",
        "Intuitively, because the divergence in time trends is due to\n",
        "unaccounted-for changes in other covariates, the $t$-test will be badly\n",
        "biased because it is not considering the possibility that other\n",
        "confounding factors may change differently between the groups over time.\n",
        "This again reflects the core intuition of the parallel trends\n",
        "assumption: the selection bias in treatment assignment has to be\n",
        "constant over time.\n",
        "\n",
        "In this case, because the time trends of the diet and non-diet group\n",
        "move in opposite directions, the simple DID (first row) is more biased\n",
        "than either the naïve comparison measure (second row) or the\n",
        "before-after estimator (third row)."
      ],
      "id": "3ec837a3-145b-4cf4-8969-4880844f1086"
    },
    {
      "cell_type": "code",
      "execution_count": null,
      "metadata": {},
      "outputs": [],
      "source": [
        "diff.data <- sim.data %>% filter(Treatment == 1) - sim.data %>% filter(Treatment == 0) %>% mutate(diet = 0)"
      ],
      "id": "b05f796f-20c2-4183-b033-1e6e5dbf03fd"
    },
    {
      "cell_type": "code",
      "execution_count": null,
      "metadata": {},
      "outputs": [],
      "source": [
        "list(\n",
        "    t.test(\n",
        "        diff.data %>% filter(diet == 1) %>% select(wgt),\n",
        "        diff.data %>% filter(diet == 0) %>% select(wgt),\n",
        "        var.equal = TRUE\n",
        "    ),\n",
        "    t.test(\n",
        "        sim.data %>% filter(Treatment == 1, diet == 1) %>% select(wgt),\n",
        "        sim.data %>% filter(Treatment == 1, diet == 0) %>% select(wgt),\n",
        "        var.equal = TRUE\n",
        "    ),\n",
        "    t.test(\n",
        "        sim.data %>% filter(Treatment == 1, diet == 1) %>% select(wgt),\n",
        "        sim.data %>% filter(Treatment == 0, diet == 1) %>% select(wgt),\n",
        "        var.equal = TRUE\n",
        "    )\n",
        ") %>% \n",
        "    map_df(tidy) %>%\n",
        "    print"
      ],
      "id": "81d122f1-fb2e-45b0-8f9c-1faac853927f"
    },
    {
      "cell_type": "markdown",
      "metadata": {},
      "source": [
        "### The Regression Method Still Works\n",
        "\n",
        "As we will see below, the regression method with controls still obtains\n",
        "the desired estimate. In fact, the OLS estimator gets the correct\n",
        "estimate despite misspecifying how height enters the model. This really\n",
        "gets to the heart of how closely linked regression methods (not just\n",
        "linear regression) and the CEF are. Notice that the regression model\n",
        "with controls is really estimating this:\n",
        "\n",
        "$$\n",
        "    ATET = \\left( \\mathbb{E}[Y_{i} \\mid X_{i}, G_{i} = 1, T_{i} = 1] - \\mathbb{E}[Y_{i} \\mid X_{i}, G_{i} = 1, T_{i} = 0] \\right) - \\left( \\mathbb{E}[Y_{i} \\mid X_{i}, G_{i} = 0, T_{i} = 1] - \\mathbb{E}[Y_{i} \\mid X_{i}, G_{i} = 0, T_{i} = 0] \\right).\n",
        "$$\n",
        "\n",
        "If controls $X_{i}$ are good enough proxies for the true reasons (or are\n",
        "the true reasons themselves) for divergence in time trends between the\n",
        "treated and never-treated groups, then the conditional version of the\n",
        "parallel trends assumption will be satisfied:\n",
        "\n",
        "$$\n",
        "    \\mathbb{E}[Y_{0,i}(0) \\mid X_{i}, T_{i} = 1] - \\mathbb{E}[Y_{0,i}(0) \\mid X_{i}, T_{i} = 0] = \\mathbb{E}[Y_{1,i}(0) \\mid X_{i}, T_{i} = 1] - \\mathbb{E}[Y_{1,i}(0) \\mid X_{i}, T_{i} = 0].\n",
        "$$\n",
        "\n",
        "This brings out the intuition for doing DID estimation with regression\n",
        "models. What you seek to control for is not selection bias—remember that\n",
        "DID has no problem with time-invariant selection bias. Instead, controls\n",
        "in the DID model should remove differences in the time trends of the\n",
        "treated and never-treated groups. This is what you need discuss when\n",
        "setting up your DID model and justifying the controls used."
      ],
      "id": "9ec9adf3-d0fb-4eb5-aaa1-fd9295685081"
    },
    {
      "cell_type": "code",
      "execution_count": null,
      "metadata": {},
      "outputs": [],
      "source": [
        "model1 <- lm(wgt ~ hgt + diet, data = filter(sim.data, Treatment == 1))\n",
        "model2 <- lm(wgt ~ hgt + Treatment, data = filter(sim.data, diet == 1))\n",
        "model3 <- lm(wgt ~ hgt + Treatment + diet, data = sim.data)\n",
        "model4 <- lm(wgt ~ hgt + Treatment * diet, data = sim.data)\n",
        "model5 <- lm(wgt ~ Treatment * diet, data = sim.data)\n",
        "\n",
        "stargazer(model1, \n",
        "          model2, \n",
        "          model3, \n",
        "          model4, \n",
        "          model5, \n",
        "          type = 'text',\n",
        "          df = FALSE,\n",
        "          omit.stat = c('F'))"
      ],
      "id": "96bf4175-974e-40f0-9362-5e31738abe94"
    },
    {
      "cell_type": "markdown",
      "metadata": {},
      "source": [
        "## Exercise #: Difference-in-Differences in your Project\n",
        "\n",
        "### Load Your Data"
      ],
      "id": "e7d09ac4-ac25-45e4-9738-e5563ca6f17a"
    },
    {
      "cell_type": "code",
      "execution_count": null,
      "metadata": {},
      "outputs": [],
      "source": [
        "library(haven)"
      ],
      "id": "953baf63-a9bd-478c-800b-2a142b1571e6"
    },
    {
      "cell_type": "code",
      "execution_count": null,
      "metadata": {},
      "outputs": [],
      "source": [
        "my.data <- 'load your data'"
      ],
      "id": "9000eec3-1af2-4513-9081-01f064c501af"
    },
    {
      "cell_type": "code",
      "execution_count": null,
      "metadata": {},
      "outputs": [],
      "source": [
        "my.data <- 'clean your data'"
      ],
      "id": "dba3b362-7064-4a82-8f60-06e7445bae0c"
    },
    {
      "cell_type": "code",
      "execution_count": null,
      "metadata": {},
      "outputs": [],
      "source": [
        "my.data %>% data.frame %>% stargazer(type = 'text')"
      ],
      "id": "e274c251-63c0-4419-b9d9-6b5b515dd75a"
    },
    {
      "cell_type": "markdown",
      "metadata": {},
      "source": [
        "### Plan and Run some DD Models"
      ],
      "id": "5bc92f69-8c16-4ca2-9bf1-590e290ee53a"
    },
    {
      "cell_type": "code",
      "execution_count": null,
      "metadata": {},
      "outputs": [],
      "source": [
        "my.model.1 <- 'write your model' %>% lm(, data = my.data)\n",
        "my.model.1 %>% summary"
      ],
      "id": "cd300641-c66d-41ba-a503-0ff661004741"
    },
    {
      "cell_type": "code",
      "execution_count": null,
      "metadata": {},
      "outputs": [],
      "source": [
        "my.model.2 <- 'write another model' %>% lm(, data = my.data)\n",
        "my.model.2 %>% summary"
      ],
      "id": "91196644-deca-4efb-b593-6b70a977f33a"
    },
    {
      "cell_type": "code",
      "execution_count": null,
      "metadata": {},
      "outputs": [],
      "source": [
        "my.model.3 <- 'write as many models as you would like to estimate' %>% lm(, data = my.data)\n",
        "my.model.3 %>% summary"
      ],
      "id": "d3b34551-48d8-49cc-9590-17bf88faf8ca"
    },
    {
      "cell_type": "markdown",
      "metadata": {},
      "source": [
        "### Tabulate All Models"
      ],
      "id": "9818e126-7641-4668-8ef5-3d8abab725f2"
    },
    {
      "cell_type": "code",
      "execution_count": null,
      "metadata": {},
      "outputs": [],
      "source": [
        "stargazer(\n",
        "    my.model.1,\n",
        "    my.model.2,\n",
        "    my.model.3,\n",
        "    type = 'html',\n",
        "    out = 'prj_dd_out.html',\n",
        "    out.header = TRUE\n",
        ")"
      ],
      "id": "b0d60c03-be57-4d92-9bc1-413902d877fe"
    }
  ],
  "nbformat": 4,
  "nbformat_minor": 5,
  "metadata": {
    "kernelspec": {
      "name": "ir",
      "display_name": "R",
      "language": "r"
    }
  }
}