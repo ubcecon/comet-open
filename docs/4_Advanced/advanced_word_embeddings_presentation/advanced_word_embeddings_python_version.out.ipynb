{
  "cells": [
    {
      "cell_type": "markdown",
      "metadata": {},
      "source": [
        "# 4.4 - Advanced - Word Embeddings (Python)\n",
        "\n",
        "*Python Version*\n",
        "\n",
        "<img src=\"media/word_embedding_cover_art.png\" width=\"1000\"/>\n",
        "\n",
        "*This notebook was prepared by Laura Nelson in collaboration with [UBC\n",
        "COMET](https://comet.arts.ubc.ca/) team members: Jonathan Graves, Angela\n",
        "Chen and Anneke Dresselhuis*\n",
        "\n",
        "## Prerequisites\n",
        "\n",
        "1.  Some familiarity programming in R\n",
        "2.  Some familarity with natural language processing\n",
        "3.  No computational text experience necessary!\n",
        "\n",
        "## Learning outcomes\n",
        "\n",
        "In the notebook you will\n",
        "\n",
        "1.  Familiarize yourself with concepts such as word embeddings (WE)\n",
        "    vector-space model of language, natural language processing (NLP)\n",
        "    and how they relate to small and large language models (LMs)\n",
        "2.  Import and pre-process a textual dataset for use in word embedding\n",
        "3.  Use word2vec to build a simple language model for examining patterns\n",
        "    and biases textual datasets\n",
        "4.  Identify and select methods for saving and loading models\n",
        "5.  Use critical and reflexive thinking to gain a deeper understanding\n",
        "    of how the inherent social and cultural biases of language are\n",
        "    reproduced and mapped into language computation models\n",
        "\n",
        "## Outline\n",
        "\n",
        "The goal of this notebook is to demystify some of the technical aspects\n",
        "of language models and to invite learners to start thinking about how\n",
        "these important tools function in society.\n",
        "\n",
        "In particular, this lesson is designed to explore features of word\n",
        "embeddings produced through the word2vec model. The questions we ask in\n",
        "this lesson are guided by Ben Schmidt’s blog post, [Rejecting the Gender\n",
        "Binary](%22http://bookworm.benschmidt.org/posts/2015-10-30-rejecting-the-gender-binary.html%22).\n",
        "\n",
        "The primary corpus we will use consists of the\n",
        "<a href=\"http://txtlab.org/?p=601\">150 English-language novels</a> made\n",
        "available by the <em>.txtLab</em> at McGill University. We also look at\n",
        "a <a href=\"http://ryanheuser.org/word-vectors-1/\">word2Vec model trained\n",
        "on the ECCO-TCP corpus</a> of 2,350 eighteenth-century literary texts\n",
        "made available by Ryan Heuser. (Note that the number of terms in the\n",
        "model has been shortened by half in order to conserve memory.)\n",
        "\n",
        "## Key Terms\n",
        "\n",
        "Before we dive in, feel free to familiarize yourself with the following\n",
        "key terms and how they relate to each other.\n",
        "\n",
        "<img src=\"media/ai_key_terms.png\" width=\"500\"/>\n",
        "\n",
        "**Artificial Intelligence (AI):** is a broad category that includes the\n",
        "study and development of computer systems that can copy intelligent\n",
        "human behaviour (adapted from [*Oxford Learners\n",
        "Dictionary*](https://www.oxfordlearnersdictionaries.com/definition/english/ai#:~:text=%2F%CB%8Ce%C9%AA%20%CB%88a%C9%AA%2F-,%2F%CB%8Ce%C9%AA%20%CB%88a%C9%AA%2F,way%20a%20human%20brain%20does.))\n",
        "\n",
        "**Machine Learning (ML):** is branch of AI which is uses statistical\n",
        "methods to imitate the way that humans learn (adapted from\n",
        "[*IBM*](https://www.ibm.com/topics/machine-learning))\n",
        "\n",
        "**Natural Language Processing (NLP):** is branch of AI which focuses on\n",
        "training computers to interpret human text and spoken words (adapted\n",
        "from\n",
        "[*IBM*](https://www.ibm.com/topics/natural-language-processing#:~:text=the%20next%20step-,What%20is%20natural%20language%20processing%3F,same%20way%20human%20beings%20can.))\n",
        "\n",
        "**Word Embeddings (WE):** is one part of NLP where human words are\n",
        "converted into numerical representations (usually vectors) in order for\n",
        "computers to be able to understand them (adapted from\n",
        "[*Turing*](https://www.turing.com/kb/guide-on-word-embeddings-in-nlp))\n",
        "\n",
        "**word2vec:** is an NLP technique that is commonly used to generate word\n",
        "embeddings\n",
        "\n",
        "## What are Word Embeddings?\n",
        "\n",
        "Building off of the definition above, word embeddings are one way that\n",
        "humans can represent language in a way that is legible to a machine.\n",
        "More specifically, word embeddings are an NLP approach that use vectors\n",
        "to store textual data in multiple dimensions; by existing in the\n",
        "multi-dimensional space of vectors, word embeddings are able to include\n",
        "important semantic information within a given numeric representation.\n",
        "\n",
        "For example, if we are trying to answer a research question about how\n",
        "popular a term is on the web at a given time, we might use a simple word\n",
        "frequency analysis to count how many times the word “candidate” shows up\n",
        "in tweets during a defined electoral period. However, if we wanted to\n",
        "gain a more nuanced understanding of what kind of language, biases or\n",
        "attitudes contextualize the term, “candidate” in discourse, we would\n",
        "need to use a method like word embedding to encode meaning into our\n",
        "understanding of how people have talked about candidates over time.\n",
        "Instead of describing our text as a series of word counts, we would\n",
        "treat our text like coordinates in space, where similar words and\n",
        "concepts are closer to each other, and words that are different from\n",
        "each other are further away.\n",
        "\n",
        "<img src=\"media/word_frequency_vs_word_embeddings.png\" width=\"500\"/>\n",
        "\n",
        "## What are Word Embeddings?\n",
        "\n",
        "Building off of the definition above, word embeddings are one way that\n",
        "humans can represent language in a way that is legible to a machine.\n",
        "More specifically, word embeddings are an NLP approach that use vectors\n",
        "to store textual data in multiple dimensions; by existing in the\n",
        "multi-dimensional space of vectors, word embeddings are able to include\n",
        "important semantic information within a given numeric representation.\n",
        "\n",
        "For example, if we are trying to answer a research question about how\n",
        "popular a term is on the web at a given time, we might use a simple word\n",
        "frequency analysis to count how many times the word “candidate” shows up\n",
        "in tweets during a defined electoral period. However, if we wanted to\n",
        "gain a more nuanced understanding of what kind of language, biases or\n",
        "attitudes contextualize the term, “candidate” in discourse, we would\n",
        "need to use a method like word embedding to encode meaning into our\n",
        "understanding of how people have talked about candidates over time.\n",
        "Instead of describing our text as a series of word counts, we would\n",
        "treat our text like coordinates in space, where similar words and\n",
        "concepts are closer to each other, and words that are different from\n",
        "each other are further away.\n",
        "\n",
        "<img src=\"media/word_frequency_vs_word_embeddings.png\" width=\"500\"/>\n",
        "\n",
        "For example, in the visualization above, a word frequency count returns\n",
        "the number of times the word “candidate” or “candidates” is used in a\n",
        "sample text corpus. When a word embedding is made from the same text\n",
        "corpus, we are able to map related concepts and phrases that are closely\n",
        "related to “candidate” as neighbours, while other words and phrases such\n",
        "as “experimental study” (which refers to the research paper in question,\n",
        "and not to candidates specifically) are further away.\n",
        "\n",
        "Here is another example of how different, but related words might be\n",
        "represented in a word embedding:\n",
        "\n",
        "<img src = \"media/w2v-Analogies.png\" width=\"500\">\n",
        "\n",
        "## Making a Word Embedding\n",
        "\n",
        "So, how do word embeddings work? To make a word embedding, an input word\n",
        "gets compressed into a dense vector.\n",
        "\n",
        "<img src=\"media/creating_a_word_embedding.png\" width=\"500\"/>\n",
        "\n",
        "The magic and mystery of the word embedding process is that often the\n",
        "vectors produced during the model embed qualities of a word or phrase\n",
        "that are not interpretable by humans. However, for our purposes, having\n",
        "the text in vector format is all we need. With this format, we can\n",
        "perform tests like cosine similarity and other kinds of operations. Such\n",
        "operations can reveal many different kinds of relationships between\n",
        "words, as we’ll examine a bit later.\n",
        "\n",
        "## Using word2vec\n",
        "\n",
        "Word2vec is one NLP technique that is commonly used to generate word\n",
        "embeddings. More precisely, word2vec is an algorithmic learning tool\n",
        "rather than a specific neural net that is already trained. The example\n",
        "we will be working through today has been made using this tool.\n",
        "\n",
        "The series of algorithms inside of the word2vec model try to describe\n",
        "and acquire parameters for a given word in terms of the text that appear\n",
        "immediately to the right and left in actual sentences. Essentially, it\n",
        "learns how to predict text.\n",
        "\n",
        "Without going too deep into the algorithm, suffice it to say that it\n",
        "involves a two-step process:\n",
        "\n",
        "1.  First, the input word gets compressed into a dense vector, as seen\n",
        "    in the simplified diagram, “Creating a Word Embedding,” above.\n",
        "2.  Second, the vector gets decoded into the set of context words.\n",
        "    Keywords that appear within similar contexts will have similar\n",
        "    vector representations in between steps.\n",
        "\n",
        "Imagine that each word in a novel has its meaning determined by the ones\n",
        "that surround it in a limited window. For example, in Moby Dick’s first\n",
        "sentence, “me” is paired on either side by “Call” and “Ishmael.” After\n",
        "observing the windows around every word in the novel (or many novels),\n",
        "the computer will notice a pattern in which “me” falls between similar\n",
        "pairs of words to “her,” “him,” or “them.” Of course, the computer had\n",
        "gone through a similar process over the words “Call” and “Ishmael,” for\n",
        "which “me” is reciprocally part of their contexts. This chaining of\n",
        "signifiers to one another mirrors some of humanists’ most sophisticated\n",
        "interpretative frameworks of language.\n",
        "\n",
        "The two main model architectures of word2vec are **Continuous Bag of\n",
        "Words (CBOW)** and **Skip-Gram**, which can be distinguished partly by\n",
        "their input and output during training.\n",
        "\n",
        "**CBOW** takes the context words (for example, “Call”, “Ishmael”) as a\n",
        "single input and tries to predict the word of interest (“me”).\n",
        "\n",
        "<img src=\"media/CBOW.gif\" width=\"500\"/>\n",
        "\n",
        "**Skip-Gram** does the opposite, taking a word of interest as its input\n",
        "(for example, “me”) and tries to learn how to predict its context words\n",
        "(“Call”, “Ishmael”).\n",
        "\n",
        "<img src=\"media/SG.gif\" width=\"500\"/>\n",
        "\n",
        "In general, CBOW is is faster and does well with frequent words, while\n",
        "Skip-Gram potentially represents rare words better.\n",
        "\n",
        "Since the word embedding is a vector, we are able perform tests like\n",
        "cosine similarity (which we’ll learn more about in a bit!) and other\n",
        "kinds of operations. Those operations can reveal many different kinds of\n",
        "relationships between words, as we shall see.\n",
        "\n",
        "## Bias and Language Models\n",
        "\n",
        "You might already be piecing together that the encoding of meaning in\n",
        "word embeddings is entirely shaped by the patterns of language use\n",
        "captured in the training data. That is, what is included in a word\n",
        "embedding directly reflects the complex social and cultural biases of\n",
        "everyday human language - in fact, exploring how these biases function\n",
        "and change over time (as we will do later) is one of the most\n",
        "interesting ways to use word embeddings in social research.\n",
        "\n",
        "#### It is simply impossible to have a bias-free language model (LM).\n",
        "\n",
        "In LMs, bias is not a bug or a glitch, rather, it is an essential\n",
        "feature that is baked into the fundamental structure. For example, LMs\n",
        "are not outside of learning and absorbing the pejorative dimensions of\n",
        "language which in turn, can result in reproducing harmful correlations\n",
        "of meaning for words about race, class or gender (among others). When\n",
        "unchecked, these harms can be “amplified in downstream applications of\n",
        "word embeddings” ([Arseniev-Koehler & Foster, 2020,\n",
        "p. 1](https://osf.io/preprints/socarxiv/b8kud/)).\n",
        "\n",
        "Just like any other computational model, it is important to critically\n",
        "engage with the source and context of the training data. One way that\n",
        "[Schiffers, Kern and Hienert](https://arxiv.org/abs/2302.06174v1)\n",
        "suggest doing this is by using domain specific models (2023). Working\n",
        "with models that understand the nuances of your particular topic or\n",
        "field can better account for “specialized vocabulary and semantic\n",
        "relationships” that can help make applications of WE more effective.\n",
        "\n",
        "## Preparing for our Analysis\n",
        "\n",
        "#### Word2vec Features\n",
        "\n",
        "**Here are a few features of the word2vec tool that we can use to\n",
        "customize our analysis:**\n",
        "\n",
        "-   `size`: Number of dimensions for word embedding model\n",
        "    </li>\n",
        "-   `window`: Number of context words to observe in each direction\n",
        "    </li>\n",
        "-   `min_count`: Minimum frequency for words included in model\n",
        "    </li>\n",
        "-   `sg` (Skip-Gram): ‘0’ indicates CBOW model; ‘1’ indicates Skip-Gram\n",
        "    </li>\n",
        "-   `alpha`: Learning rate (initial); prevents model from\n",
        "    over-correcting, enables finer tuning\n",
        "    </li>\n",
        "-   `iterations`: Number of passes through dataset\n",
        "    </li>\n",
        "-   `batch size`: Number of words to sample from data during each pass\n",
        "    </li>\n",
        "\n",
        "Note: the script uses default value for each argument.\n",
        "\n",
        "**Some limitations of the word2vec Model**\n",
        "\n",
        "-   Within word2vec, common articles or conjunctions, called **stop\n",
        "    words** such as “the” and “and,” may not provide very rich\n",
        "    contextual information for a given word, and may need additional\n",
        "    subsampling or to be combined into a word phrase (Anwla, 2019).\n",
        "-   word2vec isn’t always the best at handling out-of-vocabulary words\n",
        "    well (Chandran, 2021).\n",
        "\n",
        "Let’s begin our analysis!\n",
        "\n",
        "## Excercise #1: Eggs, Sausages and Bacon\n",
        "\n",
        "<img src=\"media/eggs_bacon_sausages.png\" width=\"750\"/>\n",
        "\n",
        "To begin, we are going to load a few packages that are necessary for our\n",
        "analysis. Please run the code cells below."
      ],
      "id": "f9c7baf2-19dd-4765-acfa-7297ac2accdd"
    },
    {
      "cell_type": "code",
      "execution_count": null,
      "metadata": {
        "tags": []
      },
      "outputs": [],
      "source": [
        "%pylab inline\n",
        "matplotlib.style.use('ggplot')"
      ],
      "id": "cell-2"
    },
    {
      "cell_type": "markdown",
      "metadata": {},
      "source": [
        "#### Create a Document-Term Matrix (DTM) with a Few Pseudo-Texts\n",
        "\n",
        "To start off, we’re going to create a mini dataframe based on the use of\n",
        "the words “eggs,” “sausages” and “bacon” found in three different\n",
        "novels: A, B and C."
      ],
      "id": "e3260f85-eb7c-4be3-bd53-33537166be97"
    },
    {
      "cell_type": "code",
      "execution_count": null,
      "metadata": {
        "tags": []
      },
      "outputs": [],
      "source": [
        "# dataframes!\n",
        "import pandas\n",
        "\n",
        "# Construct dataframe with three novels each containing three words\n",
        "columns = ['eggs','sausage','bacon']\n",
        "indices = ['Novel A', 'Novel B', 'Novel C']\n",
        "dtm = [[50,60,60],[90,10,10], [20,70,70]]\n",
        "dtm_df = pandas.DataFrame(dtm, columns = columns, index = indices)\n",
        "\n",
        "# Show dataframe\n",
        "dtm_df"
      ],
      "id": "cell-4"
    },
    {
      "cell_type": "markdown",
      "metadata": {},
      "source": [
        "### Visualize"
      ],
      "id": "db257f59-b9b5-47ec-b590-6c7f4a2c046f"
    },
    {
      "cell_type": "code",
      "execution_count": null,
      "metadata": {
        "tags": []
      },
      "outputs": [],
      "source": [
        "# Plot our points\n",
        "scatter(dtm_df['eggs'], dtm_df['sausage'])\n",
        "\n",
        "# Make the graph look good\n",
        "xlim([0,100]), ylim([0,100])\n",
        "xlabel('eggs'), ylabel('sausage')"
      ],
      "id": "cell-6"
    },
    {
      "cell_type": "markdown",
      "metadata": {},
      "source": [
        "### Vectors\n",
        "\n",
        "At a glance, a couple of points are lying closer to one another. We used\n",
        "the word frequencies of just two of the three words (eggs and sausages)\n",
        "in order to plot our texts in a two-dimensional plane. The term\n",
        "frequency “summaries” of <i>Novel A</i> & <i>Novel C</i> are pretty\n",
        "similar to one another: they both share a major concern with “sausage”,\n",
        "whereas <i>Novel B</i> seems to focus primarily on “eggs.”\n",
        "\n",
        "This raises a question: how can we operationalize our intuition that the\n",
        "spatial distance presented here expresses topical similarity?\n",
        "\n",
        "## Cosine Similarity\n",
        "\n",
        "The most common measurement of distance between points is their [Cosine\n",
        "Similarity](https://en.wikipedia.org/wiki/Cosine_similarity). Cosine\n",
        "similarity can operate on textual data that contain word vectors and\n",
        "allows us to identify how similar documents are to each other, for\n",
        "example. Cosine Similarity thus helps us understand how much content\n",
        "overlap a set of documents have with one another. For example, imagine\n",
        "that we were to draw an arrow from the origin of the graph - point\n",
        "(0,0) - to the dot representing each text. This arrow is called a\n",
        "*vector*.\n",
        "\n",
        "Mathematically, this can be represented as:\n",
        "\n",
        "<img src='media/Dot-Product.png' >\n",
        "\n",
        "Using our example above, we can see that the angle from (0,0) between\n",
        "Novel C and Novel A (orange triangle) is smaller than between Novel A\n",
        "and Novel B (navy triangle) or between Novel C and Novel B (both\n",
        "triangles together).\n",
        "\n",
        "<img src=\"media/annotated_scatterplot.png\" width=\"400\"/>\n",
        "\n",
        "Because this similarity measurement uses the cosine of the angle between\n",
        "vectors, the magnitude is not a matter of concern (this feature is\n",
        "really helpful for text vectors that can often be really long!).\n",
        "Instead, the output of cosine similarity yields a value between 0 and 1\n",
        "(we don’t have to work with something confusing like 18º!) that can be\n",
        "easily interpreted and compared - and thus we can also avoid the\n",
        "troubles associated with other dimensional distance measures such as\n",
        "[Euclidean Distance](https://en.wikipedia.org/wiki/Euclidean_distance).\n",
        "\n",
        "### Calculating Cosine Distance"
      ],
      "id": "4beae618-f8ab-4178-b052-93bd5a2c38ad"
    },
    {
      "cell_type": "code",
      "execution_count": 4,
      "metadata": {
        "tags": []
      },
      "outputs": [],
      "source": [
        "# Although we want the Cosine Distance, it is mathematically simpler to calculate its opposite: Cosine Similarity\n",
        "\n",
        "from sklearn.metrics.pairwise import cosine_similarity"
      ],
      "id": "cell-8"
    },
    {
      "cell_type": "code",
      "execution_count": 5,
      "metadata": {
        "tags": []
      },
      "outputs": [],
      "source": [
        "# So we will subtract the similarities from 1\n",
        "\n",
        "cos_sim = cosine_similarity(dtm_df)"
      ],
      "id": "cell-9"
    },
    {
      "cell_type": "code",
      "execution_count": null,
      "metadata": {
        "tags": []
      },
      "outputs": [],
      "source": [
        "# Make it a little easier to read by rounding the values\n",
        "\n",
        "np.round(cos_sim, 2)\n",
        "\n",
        "# Label the dataframe rows and columns with eggs, sausage and bacon\n",
        "\n",
        "frame_2 = np.round(cos_sim, 2)\n",
        "frame_2 = pandas.DataFrame(frame_2, columns = indices, index = indices)\n",
        "frame_2"
      ],
      "id": "cell-10"
    },
    {
      "cell_type": "markdown",
      "metadata": {},
      "source": [
        "*From this output table, which novels appear to be more similar to each\n",
        "other?*\n",
        "\n",
        "## Excercise #2: Working with 18th Century Literature\n",
        "\n",
        "<img src=\"media/18th_cent_literature.png\" width=\"750\"/>"
      ],
      "id": "7597425a-ae7a-4f84-a299-20e85437a2db"
    },
    {
      "cell_type": "code",
      "execution_count": null,
      "metadata": {
        "tags": []
      },
      "outputs": [],
      "source": [
        "# Compare the distance between novels\n",
        "\n",
        "filelist = ['txtlab_Novel450_English/EN_1850_Hawthorne,Nathaniel_TheScarletLetter_Novel.txt',\n",
        "            'txtlab_Novel450_English/EN_1851_Hawthorne,Nathaniel_TheHouseoftheSevenGables_Novel.txt',\n",
        "            'txtlab_Novel450_English/EN_1920_Fitzgerald,FScott_ThisSideofParadise_Novel.txt',\n",
        "            'txtlab_Novel450_English/EN_1922_Fitzgerald,FScott_TheBeautifulandtheDamned_Novel.txt',\n",
        "            'txtlab_Novel450_English/EN_1811_Austen,Jane_SenseandSensibility_Novel.txt',\n",
        "            'txtlab_Novel450_English/EN_1813_Austen,Jane_PrideandPrejudice_Novel.txt']\n",
        "\n",
        "novel_names = ['Hawthorne: Scarlet Letter',\n",
        "           'Hawthorne: Seven Gables',\n",
        "           'Fitzgerald: This Side of Paradise',\n",
        "           'Fitzgerald: Beautiful and the Damned',\n",
        "           'Austen: Sense and Sensibility',\n",
        "           'Austen: Pride and Prejudice']\n",
        "\n",
        "text_list = []\n",
        "\n",
        "for file in filelist:\n",
        "    with open(file, 'r', encoding = 'utf-8') as myfile:\n",
        "        text_list.append(myfile.read()) \n",
        "\n",
        "# Import the function CountVectorizer\n",
        "from sklearn.feature_extraction.text import CountVectorizer\n",
        "\n",
        "cv = CountVectorizer(stop_words = 'english', min_df = 3, binary=True)\n",
        "\n",
        "novel_dtm = cv.fit_transform(text_list).toarray()\n",
        "feature_list = cv.get_feature_names()\n",
        "dtm_df_novel = pandas.DataFrame(novel_dtm, columns = feature_list, index = novel_names)\n",
        "dtm_df_novel"
      ],
      "id": "cell-12"
    },
    {
      "cell_type": "code",
      "execution_count": 13,
      "metadata": {
        "tags": []
      },
      "outputs": [],
      "source": [
        "cos_sim_novel = cosine_similarity(dtm_df_novel)\n",
        "cos_sim_novel = np.round(cos_sim_novel, 2)"
      ],
      "id": "cell-13"
    },
    {
      "cell_type": "code",
      "execution_count": null,
      "metadata": {
        "tags": []
      },
      "outputs": [],
      "source": [
        "cos_df = pandas.DataFrame(cos_sim_novel, columns = novel_names, index = novel_names)\n",
        "cos_df"
      ],
      "id": "cell-14"
    },
    {
      "cell_type": "code",
      "execution_count": null,
      "metadata": {
        "tags": []
      },
      "outputs": [],
      "source": [
        "# Visualizing differences\n",
        "\n",
        "from sklearn.manifold import MDS\n",
        "\n",
        "# Two components as we're plotting points in a two-dimensional plane\n",
        "# \"Precomputed\" because we provide a distance matrix\n",
        "# We will also specify `random_state` so that the plot is reproducible.\n",
        "\n",
        "# Transform cosine similarity to cosine distance\n",
        "cos_dist = 1 - cosine_similarity(dtm_df_novel)\n",
        "\n",
        "mds = MDS(n_components=2, dissimilarity=\"precomputed\", random_state=1)\n",
        "\n",
        "pos = mds.fit_transform(cos_dist)  # shape (n_components, n_samples)\n",
        "xs, ys = pos[:, 0], pos[:, 1]\n",
        "\n",
        "for x, y, name in zip(xs, ys, novel_names):\n",
        "    plt.scatter(x, y)\n",
        "    plt.text(x, y, name)\n",
        "\n",
        "plt.show()"
      ],
      "id": "cell-15"
    },
    {
      "cell_type": "markdown",
      "metadata": {},
      "source": [
        "The above method has a broad range of applications, such as unsupervised\n",
        "clustering. Common techniques include\n",
        "<a href = \"https://en.wikipedia.org/wiki/K-means_clustering\">K-Means\n",
        "Clustering</a> and\n",
        "<a href=\"https://en.wikipedia.org/wiki/Hierarchical_clustering\">Hierarchical\n",
        "Dendrograms</a>. These attempt to identify groups of texts with shared\n",
        "content, based on these kinds of distance measures.\n",
        "\n",
        "Here’s an example of a dendrogram based on these six novels:"
      ],
      "id": "9cc76d22-e75d-43f9-851d-b36652b0a1cf"
    },
    {
      "cell_type": "code",
      "execution_count": null,
      "metadata": {
        "tags": []
      },
      "outputs": [],
      "source": [
        "from scipy.cluster.hierarchy import ward, dendrogram\n",
        "linkage_matrix = ward(cos_dist)\n",
        "\n",
        "dendrogram(linkage_matrix, orientation=\"right\", labels=novel_names)\n",
        "\n",
        "plt.tight_layout()  # fixes margins\n",
        "\n",
        "plt.show()"
      ],
      "id": "cell-17"
    },
    {
      "cell_type": "markdown",
      "metadata": {},
      "source": [
        "#### Vector Semantics\n",
        "\n",
        "We can also turn this logic on its head. Rather than produce vectors\n",
        "representing texts based on their words, we will produce vectors for the\n",
        "words based on their contexts."
      ],
      "id": "ef125a20-6534-4655-b7ee-f7bbcd3392b6"
    },
    {
      "cell_type": "code",
      "execution_count": null,
      "metadata": {
        "tags": []
      },
      "outputs": [],
      "source": [
        "# Turn our DTM sideways\n",
        "\n",
        "dtm_df_novel.T.head()"
      ],
      "id": "cell-19"
    },
    {
      "cell_type": "code",
      "execution_count": 21,
      "metadata": {
        "tags": []
      },
      "outputs": [],
      "source": [
        "# Find the Cosine Distances between pairs of word-vectors\n",
        "\n",
        "cos_sim_words = cosine_similarity(dtm_df_novel.T)"
      ],
      "id": "cell-20"
    },
    {
      "cell_type": "code",
      "execution_count": null,
      "metadata": {
        "tags": []
      },
      "outputs": [],
      "source": [
        "# In readable format\n",
        "\n",
        "np.round(cos_sim_words, 2)"
      ],
      "id": "cell-21"
    },
    {
      "cell_type": "markdown",
      "metadata": {},
      "source": [
        "Theoretically you could visualize and cluster these as well - but this\n",
        "takes a lot of computational power!\n",
        "\n",
        "We’ll thus turn to the machine learning version: word embeddings"
      ],
      "id": "bb0e7a2c-71d3-42e0-9019-3c0bfa755c16"
    },
    {
      "cell_type": "code",
      "execution_count": 23,
      "metadata": {
        "tags": []
      },
      "outputs": [],
      "source": [
        "# Clean-up memory\n",
        "import sys\n",
        "\n",
        "# These are the usual ipython objects, including this one you are creating\n",
        "ipython_vars = ['In', 'Out', 'exit', 'quit', 'get_ipython', 'ipython_vars']\n",
        "\n",
        "# Get a sorted list of the objects and their sizes\n",
        "sorted([(x, sys.getsizeof(globals().get(x))) for x in dir() if not x.startswith('_') and x not in sys.modules and x not in ipython_vars], key=lambda x: x[1], reverse=True)\n",
        "\n",
        " \n",
        "del cos_sim_words \n",
        "del dtm_df_novel \n",
        "del novel_dtm \n",
        "del feature_list"
      ],
      "id": "cell-23"
    },
    {
      "cell_type": "markdown",
      "metadata": {},
      "source": [
        "<font color = \"blue\" size=5>At this point you should restart your kernel\n",
        "if \\< 4 gb memory available</font>\n",
        "\n",
        "-   Do this by clicking on the “Kernel” menu and hitting “restart”\n",
        "\n",
        "## Exercise #3: Using word2vec with 150 English Novels\n",
        "\n",
        "In this exercise, we’ll use an English-language subset from a dataset\n",
        "about novels created by [Andrew\n",
        "Piper](https://www.mcgill.ca/langlitcultures/andrew-piper). Specifically\n",
        "we’ll look at 150 novels by British and American authors spanning the\n",
        "years 1771-1930. These texts reside on disk, each in a separate\n",
        "plaintext file. Metadata is contained in a spreadsheet distributed with\n",
        "the novel files.\n",
        "\n",
        "#### Metadata Columns\n",
        "\n",
        "1.  Filename: Name of file on disk\n",
        "2.  ID: Unique ID in Piper corpus\n",
        "3.  Language: Language of novel\n",
        "4.  Date: Initial publication date\n",
        "5.  Title: Title of novel\n",
        "6.  Gender: Authorial gender\n",
        "7.  Person: Textual perspective\n",
        "8.  Length: Number of tokens in novel"
      ],
      "id": "ce2e6f5e-46d8-4c0e-b110-669e6d9d415a"
    },
    {
      "cell_type": "code",
      "execution_count": 1,
      "metadata": {
        "tags": []
      },
      "outputs": [],
      "source": [
        "# Data Wrangling\n",
        "\n",
        "import os\n",
        "import numpy as np\n",
        "import pandas\n",
        "from scipy.spatial.distance import cosine\n",
        "from sklearn.metrics import pairwise\n",
        "from sklearn.manifold import MDS, TSNE"
      ],
      "id": "cell-25"
    },
    {
      "cell_type": "code",
      "execution_count": null,
      "metadata": {
        "tags": []
      },
      "outputs": [],
      "source": [
        "# Natural Language Processing\n",
        "\n",
        "import nltk\n",
        "nltk.download('punkt')\n",
        "from nltk.tokenize import word_tokenize, sent_tokenize"
      ],
      "id": "cell-26"
    },
    {
      "cell_type": "code",
      "execution_count": null,
      "metadata": {},
      "outputs": [],
      "source": [
        "!pip install gensim"
      ],
      "id": "cell-27"
    },
    {
      "cell_type": "code",
      "execution_count": 4,
      "metadata": {
        "tags": []
      },
      "outputs": [],
      "source": [
        "# New library (not in Anaconda: gensim)\n",
        "import gensim"
      ],
      "id": "cell-28"
    },
    {
      "cell_type": "markdown",
      "metadata": {},
      "source": [
        "#### Import Corpus"
      ],
      "id": "3f72ba13-5c12-4e81-8892-d4e88a500684"
    },
    {
      "cell_type": "code",
      "execution_count": 5,
      "metadata": {
        "tags": []
      },
      "outputs": [],
      "source": [
        "# Custom Tokenizer for Classroom Use\n",
        "\n",
        "def fast_tokenize(text):\n",
        "    \n",
        "    # Get a list of punctuation marks\n",
        "    from string import punctuation\n",
        "    \n",
        "    lower_case = text.lower()\n",
        "    \n",
        "    # Iterate through text removing punctuation characters\n",
        "    no_punct = \"\".join([char for char in lower_case if char not in punctuation])\n",
        "    \n",
        "    # Split text over whitespace into list of words\n",
        "    tokens = no_punct.split()\n",
        "    \n",
        "    return tokens"
      ],
      "id": "cell-30"
    },
    {
      "cell_type": "markdown",
      "metadata": {},
      "source": [
        "#### Import Metadata"
      ],
      "id": "16df4d12-2c09-42b2-ac0f-fe5bd229c3bd"
    },
    {
      "cell_type": "code",
      "execution_count": 6,
      "metadata": {
        "tags": []
      },
      "outputs": [],
      "source": [
        "# Import Metadata into Pandas Dataframe\n",
        "\n",
        "meta_df = pandas.read_csv('resources/txtlab_Novel450_English.csv', encoding = 'utf-8')"
      ],
      "id": "cell-32"
    },
    {
      "cell_type": "code",
      "execution_count": null,
      "metadata": {
        "scrolled": true,
        "tags": []
      },
      "outputs": [],
      "source": [
        "# Check Metadata\n",
        "\n",
        "meta_df.head()"
      ],
      "id": "cell-33"
    },
    {
      "cell_type": "code",
      "execution_count": 8,
      "metadata": {
        "tags": []
      },
      "outputs": [],
      "source": [
        "# Set location of corpus folder\n",
        "\n",
        "fiction_folder = 'txtlab_Novel450_English/'"
      ],
      "id": "cell-34"
    },
    {
      "cell_type": "code",
      "execution_count": 9,
      "metadata": {
        "tags": []
      },
      "outputs": [],
      "source": [
        "import os\n",
        "\n",
        "# Create an empty list to store the text of each novel\n",
        "novel_list = []\n",
        "\n",
        "# Iterate through filenames in 'fiction_folder'\n",
        "for filename in os.listdir(fiction_folder):\n",
        "    file_path = os.path.join(fiction_folder, filename)\n",
        "    \n",
        "    try:\n",
        "        # Attempt to read the novel text as a string using utf-8 encoding\n",
        "        with open(file_path, 'r', encoding='utf-8') as file_in:\n",
        "            this_novel = file_in.read()\n",
        "        \n",
        "        # Add novel text as a single string to the master list\n",
        "        novel_list.append(this_novel)\n",
        "    \n",
        "    except UnicodeDecodeError as e:\n",
        "        # Handle encoding errors by skipping the problematic file\n",
        "        print(f\"UnicodeDecodeError: Unable to read '{filename}' - Skipping this file.\")\n",
        "        continue\n",
        "\n",
        "# Now 'novel_list' contains the text of all readable novels."
      ],
      "id": "cell-35"
    },
    {
      "cell_type": "code",
      "execution_count": null,
      "metadata": {
        "tags": []
      },
      "outputs": [],
      "source": [
        "# Inspect first item in novel_list\n",
        "\n",
        "novel_list[0][:500]"
      ],
      "id": "cell-36"
    },
    {
      "cell_type": "markdown",
      "metadata": {},
      "source": [
        "#### Pre-Processing\n",
        "\n",
        "word2Vec learns about the relationships among words by observing them in\n",
        "context. This means that we want to split our texts into word-units.\n",
        "However, we want to maintain sentence boundaries as well, since the last\n",
        "word of the previous sentence might skew the meaning of the next\n",
        "sentence.\n",
        "\n",
        "Since novels were imported as single strings, we’ll first need to divide\n",
        "them into sentences, and second, we’ll split each sentence into its own\n",
        "list of words."
      ],
      "id": "fd567f3e-68a8-45c6-a271-bc5ee7e21824"
    },
    {
      "cell_type": "code",
      "execution_count": 11,
      "metadata": {
        "tags": []
      },
      "outputs": [],
      "source": [
        "# Split each novel into sentences\n",
        "\n",
        "sentences = [sentence for novel in novel_list for sentence in sent_tokenize(novel)]\n",
        "\n",
        "del novel_list"
      ],
      "id": "cell-38"
    },
    {
      "cell_type": "code",
      "execution_count": null,
      "metadata": {
        "tags": []
      },
      "outputs": [],
      "source": [
        "# Inspect first sentence\n",
        "\n",
        "sentences[0]"
      ],
      "id": "cell-39"
    },
    {
      "cell_type": "code",
      "execution_count": 14,
      "metadata": {
        "tags": []
      },
      "outputs": [],
      "source": [
        "# Split each sentence into tokens\n",
        "\n",
        "sentences = [fast_tokenize(sentence) for sentence in sentences]"
      ],
      "id": "cell-40"
    },
    {
      "cell_type": "code",
      "execution_count": 15,
      "metadata": {
        "tags": []
      },
      "outputs": [],
      "source": [
        "# Remove any sentences that contain zero tokens\n",
        "\n",
        "sentences = [sentence for sentence in sentences if sentence != []]"
      ],
      "id": "cell-41"
    },
    {
      "cell_type": "code",
      "execution_count": null,
      "metadata": {
        "scrolled": true,
        "tags": []
      },
      "outputs": [],
      "source": [
        "# Inspect first sentence\n",
        "\n",
        "sentences[0]"
      ],
      "id": "cell-42"
    },
    {
      "cell_type": "markdown",
      "metadata": {},
      "source": [
        "#### Training\n",
        "\n",
        "To train the model, we would run:\n",
        "\n",
        "    # Train word2vec model from txtLab corpus\n",
        "\n",
        "    model = gensim.models.Word2Vec(sentences, vector_size=100, window=5, \\\n",
        "                                   min_count=25, sg=1, alpha=0.025, epochs=5, batch_words=10000)\n",
        "\n",
        "However, this is both slow and memory intensive, so instead we will load\n",
        "pre-trained data."
      ],
      "id": "1ed2eec8-5880-4e28-928b-0629edb778b3"
    },
    {
      "cell_type": "code",
      "execution_count": 17,
      "metadata": {
        "scrolled": true,
        "tags": []
      },
      "outputs": [],
      "source": [
        "#unload monster dataframe\n",
        "del sentences\n",
        "\n",
        "# Load pre-trained model from harddisk\n",
        "model = gensim.models.KeyedVectors.load_word2vec_format('resources/word2vec.txtlab_Novel150_English.txt')"
      ],
      "id": "cell-44"
    },
    {
      "cell_type": "markdown",
      "metadata": {},
      "source": [
        "## Embeddings"
      ],
      "id": "e03f8dbb-a7a3-4e02-beac-8fea96cae524"
    },
    {
      "cell_type": "code",
      "execution_count": null,
      "metadata": {
        "scrolled": true,
        "tags": []
      },
      "outputs": [],
      "source": [
        "# Return dense word vector\n",
        "\n",
        "model.get_vector('whale')"
      ],
      "id": "cell-46"
    },
    {
      "cell_type": "markdown",
      "metadata": {},
      "source": [
        "## Vector-Space Operations\n",
        "\n",
        "### Similarity\n",
        "\n",
        "Since words are represented as dense vectors, we can ask how similiar\n",
        "words’ meanings are based on their cosine similarity (essentially how\n",
        "much they overlap). <em>gensim</em> has a few out-of-the-box functions\n",
        "that enable different kinds of comparisons."
      ],
      "id": "524ac371-9a67-4aba-9b03-3c08ef910bb0"
    },
    {
      "cell_type": "code",
      "execution_count": null,
      "metadata": {
        "tags": []
      },
      "outputs": [],
      "source": [
        "# Find cosine distance between two given word vectors\n",
        "\n",
        "model.similarity('pride','prejudice')"
      ],
      "id": "cell-48"
    },
    {
      "cell_type": "code",
      "execution_count": null,
      "metadata": {
        "tags": []
      },
      "outputs": [],
      "source": [
        "# Find nearest word vectors by cosine distance\n",
        "\n",
        "model.most_similar('pride')"
      ],
      "id": "cell-49"
    },
    {
      "cell_type": "code",
      "execution_count": null,
      "metadata": {
        "tags": []
      },
      "outputs": [],
      "source": [
        "# Given a list of words, we can ask which doesn't belong\n",
        "\n",
        "# Finds mean vector of words in list\n",
        "# and identifies the word further from that mean\n",
        "\n",
        "model.doesnt_match(['pride','prejudice', 'whale'])"
      ],
      "id": "cell-50"
    },
    {
      "cell_type": "markdown",
      "metadata": {},
      "source": [
        "### Multiple Valences\n",
        "\n",
        "A word embedding may encode both primary and secondary meanings that are\n",
        "both present at the same time. In order to identify secondary meanings\n",
        "in a word, we can subtract the vectors of primary (or simply unwanted)\n",
        "meanings. For example, we may wish to remove the sense of <em>river\n",
        "bank</em> from the word <em>bank</em>. This would be written\n",
        "mathetmatically as <em>RIVER - BANK</em>, which in <em>gensim</em>’s\n",
        "interface lists <em>RIVER</em> as a positive meaning and <em>BANK</em>\n",
        "as a negative one."
      ],
      "id": "c9ee1a55-4105-4f5d-b412-dd16ae271df2"
    },
    {
      "cell_type": "code",
      "execution_count": null,
      "metadata": {
        "tags": []
      },
      "outputs": [],
      "source": [
        "# Get most similar words to BANK, in order to get a sense for its primary meaning\n",
        "\n",
        "model.most_similar('bank')"
      ],
      "id": "cell-52"
    },
    {
      "cell_type": "code",
      "execution_count": null,
      "metadata": {
        "tags": []
      },
      "outputs": [],
      "source": [
        "# Remove the sense of \"river bank\" from \"bank\" and see what is left\n",
        "\n",
        "model.most_similar(positive=['bank'], negative=['river'])"
      ],
      "id": "cell-53"
    },
    {
      "cell_type": "markdown",
      "metadata": {},
      "source": [
        "### Analogy\n",
        "\n",
        "Analogies are rendered as simple mathematical operations in vector\n",
        "space. For example, the canonic word2vec analogy <em>MAN is to KING as\n",
        "WOMAN is to ??</em> is rendered as <em>KING - MAN + WOMAN</em>. In the\n",
        "gensim interface, we designate <em>KING</em> and <em>WOMAN</em> as\n",
        "positive terms and <em>MAN</em> as a negative term, since it is\n",
        "subtracted from those."
      ],
      "id": "cf77df16-13bc-4cb0-bae4-cc08bae709bd"
    },
    {
      "cell_type": "code",
      "execution_count": null,
      "metadata": {
        "tags": []
      },
      "outputs": [],
      "source": [
        "# Get most similar words to KING, in order\n",
        "# to get a sense for its primary meaning\n",
        "\n",
        "model.most_similar('king')"
      ],
      "id": "cell-55"
    },
    {
      "cell_type": "code",
      "execution_count": null,
      "metadata": {
        "tags": []
      },
      "outputs": [],
      "source": [
        "# The canonic word2vec analogy: King - Man + Woman -> Queen\n",
        "\n",
        "model.most_similar(positive=['woman', 'king'], negative=['man'])"
      ],
      "id": "cell-56"
    },
    {
      "cell_type": "markdown",
      "metadata": {},
      "source": [
        "### Gendered Vectors\n",
        "\n",
        "Note that this method uses vector projection, whereas Schmidt had used\n",
        "rejection."
      ],
      "id": "fb5d5add-cf3d-483e-8a0b-4f268f88894b"
    },
    {
      "cell_type": "code",
      "execution_count": null,
      "metadata": {
        "scrolled": true,
        "tags": []
      },
      "outputs": [],
      "source": [
        "# Feminine Vector\n",
        "\n",
        "model.most_similar(positive=['she','her','hers','herself'], negative=['he','him','his','himself'])"
      ],
      "id": "cell-58"
    },
    {
      "cell_type": "code",
      "execution_count": null,
      "metadata": {
        "tags": []
      },
      "outputs": [],
      "source": [
        "# Masculine Vector\n",
        "\n",
        "model.most_similar(positive=['he','him','his','himself'], negative=['she','her','hers','herself'])"
      ],
      "id": "cell-59"
    },
    {
      "cell_type": "markdown",
      "metadata": {},
      "source": [
        "## Visualization"
      ],
      "id": "b655d6c6-0725-4f67-a626-10643cd3b41f"
    },
    {
      "cell_type": "code",
      "execution_count": null,
      "metadata": {
        "tags": []
      },
      "outputs": [],
      "source": [
        "# Dictionary of words in model\n",
        "\n",
        "model.key_to_index"
      ],
      "id": "cell-61"
    },
    {
      "cell_type": "code",
      "execution_count": null,
      "metadata": {
        "tags": []
      },
      "outputs": [],
      "source": [
        "# Visualizing the whole vocabulary would make it hard to read\n",
        "\n",
        "len(model.key_to_index)"
      ],
      "id": "cell-62"
    },
    {
      "cell_type": "code",
      "execution_count": 30,
      "metadata": {
        "tags": []
      },
      "outputs": [],
      "source": [
        "# For interpretability, we'll select words that already have a semantic relation\n",
        "\n",
        "her_tokens = [token for token,weight in model.most_similar(positive=['she','her','hers','herself'], \\\n",
        "                                                       negative=['he','him','his','himself'], topn=50)]"
      ],
      "id": "cell-63"
    },
    {
      "cell_type": "code",
      "execution_count": null,
      "metadata": {
        "scrolled": true,
        "tags": []
      },
      "outputs": [],
      "source": [
        "# Inspect list\n",
        "\n",
        "her_tokens[:15]"
      ],
      "id": "cell-64"
    },
    {
      "cell_type": "code",
      "execution_count": 32,
      "metadata": {
        "tags": []
      },
      "outputs": [],
      "source": [
        "# Get the vector for each sampled word\n",
        "\n",
        "vectors = [model.get_vector(word) for word in her_tokens] "
      ],
      "id": "cell-65"
    },
    {
      "cell_type": "code",
      "execution_count": null,
      "metadata": {
        "tags": []
      },
      "outputs": [],
      "source": [
        "# Calculate distances among texts in vector space\n",
        "\n",
        "dist_matrix = pairwise.pairwise_distances(vectors, metric='cosine')\n",
        "dist_matrix"
      ],
      "id": "cell-66"
    },
    {
      "cell_type": "code",
      "execution_count": 34,
      "metadata": {
        "tags": []
      },
      "outputs": [],
      "source": [
        "# Multi-Dimensional Scaling (Project vectors into 2-D)\n",
        "\n",
        "mds = MDS(n_components = 2, dissimilarity='precomputed')\n",
        "embeddings = mds.fit_transform(dist_matrix)"
      ],
      "id": "cell-67"
    },
    {
      "cell_type": "code",
      "execution_count": null,
      "metadata": {
        "tags": []
      },
      "outputs": [],
      "source": [
        "# Make a pretty graph\n",
        "%pylab inline\n",
        "matplotlib.style.use('ggplot')\n",
        "\n",
        "_, ax = subplots(figsize=(10,10))\n",
        "ax.scatter(embeddings[:,0], embeddings[:,1], alpha=0)\n",
        "for i in range(len(vectors)):\n",
        "    ax.annotate(her_tokens[i], ((embeddings[i,0], embeddings[i,1])))"
      ],
      "id": "cell-68"
    },
    {
      "cell_type": "code",
      "execution_count": null,
      "metadata": {
        "tags": []
      },
      "outputs": [],
      "source": [
        "# For comparison, here is the same graph using a masculine-pronoun vector\n",
        "\n",
        "his_tokens = [token for token,weight in model.most_similar(positive=['he','him','his','himself'], \\\n",
        "                                                       negative=['she','her','hers','herself'], topn=50)]\n",
        "vectors = [model.get_vector(word) for word in his_tokens]\n",
        "dist_matrix = pairwise.pairwise_distances(vectors, metric='cosine')\n",
        "mds = MDS(n_components = 2, dissimilarity='precomputed')\n",
        "embeddings = mds.fit_transform(dist_matrix)\n",
        "_, ax = plt.subplots(figsize=(10,10))\n",
        "ax.scatter(embeddings[:,0], embeddings[:,1], alpha=0)\n",
        "for i in range(len(vectors)):\n",
        "    ax.annotate(his_tokens[i], ((embeddings[i,0], embeddings[i,1])))"
      ],
      "id": "cell-69"
    },
    {
      "cell_type": "markdown",
      "metadata": {},
      "source": [
        "> <span style=\"color:#CC7A00\" > What kinds of semantic relationships\n",
        "> exist in the diagram above?\n",
        ">\n",
        "> </p>\n",
        ">\n",
        "> <span style=\"color:#CC7A00\"> Are there any words that seem out of\n",
        "> place? </span>\n",
        "\n",
        "## Saving & Loading Models"
      ],
      "id": "9404ac8e-bbcc-44fc-94e4-dded920b6c09"
    },
    {
      "cell_type": "code",
      "execution_count": 37,
      "metadata": {
        "tags": []
      },
      "outputs": [],
      "source": [
        "# Save current model for later use\n",
        "\n",
        "model.save_word2vec_format('resources/word2vec.txtlab_Novel150_English.txt')\n",
        "#model.save_word2vec_format('resources/word2vec.txtlab_Novel150_English.txt') # deprecated"
      ],
      "id": "cell-71"
    },
    {
      "cell_type": "code",
      "execution_count": 38,
      "metadata": {
        "tags": []
      },
      "outputs": [],
      "source": [
        "# Load up models from disk\n",
        "\n",
        "# Model trained on Eighteenth Century Collections Online corpus (~2500 texts)\n",
        "# Made available by Ryan Heuser: http://ryanheuser.org/word-vectors-1/\n",
        "\n",
        "ecco_model = gensim.models.KeyedVectors.load_word2vec_format('resources/word2vec.ECCO-TCP.txt')\n",
        "#ecco_model = gensim.models.Word2Vec.load_word2vec_format('resources/word2vec.ECCO-TCP.txt') # deprecated"
      ],
      "id": "cell-72"
    },
    {
      "cell_type": "code",
      "execution_count": null,
      "metadata": {
        "tags": []
      },
      "outputs": [],
      "source": [
        "# What are similar words to BANK?\n",
        "\n",
        "ecco_model.most_similar('bank')"
      ],
      "id": "cell-73"
    },
    {
      "cell_type": "code",
      "execution_count": null,
      "metadata": {
        "tags": []
      },
      "outputs": [],
      "source": [
        "# What if we remove the sense of \"river bank\"?\n",
        "\n",
        "ecco_model.most_similar(positive=['bank'], negative=['river'])"
      ],
      "id": "cell-74"
    },
    {
      "cell_type": "markdown",
      "metadata": {},
      "source": [
        "## Exercises!\n",
        "\n",
        "See if you can attempt the following exercises on your own!"
      ],
      "id": "c3d24978-2c6f-4722-a4b5-68a16a9c7e88"
    },
    {
      "cell_type": "code",
      "execution_count": null,
      "metadata": {
        "tags": []
      },
      "outputs": [],
      "source": [
        "## EX. Use the most_similar method to find the tokens nearest to 'car' in either model.\n",
        "##     Do the same for 'motorcar'.\n",
        "\n",
        "## Q.  What characterizes these two words inthe corpus? Does this make sense?\n",
        "\n",
        "model.most_similar('car')"
      ],
      "id": "cell-76"
    },
    {
      "cell_type": "code",
      "execution_count": null,
      "metadata": {
        "tags": []
      },
      "outputs": [],
      "source": [
        "model.most_similar('motorcar')"
      ],
      "id": "cell-77"
    },
    {
      "cell_type": "code",
      "execution_count": null,
      "metadata": {
        "tags": []
      },
      "outputs": [],
      "source": [
        "## EX. How does our model answer the analogy: MADRID is to SPAIN as PARIS is to __________\n",
        "\n",
        "## Q.  What has our model learned about nation-states?\n",
        "\n",
        "\n",
        "model.most_similar(positive=['paris', 'spain'], negative = ['madrid'])"
      ],
      "id": "cell-78"
    },
    {
      "cell_type": "code",
      "execution_count": null,
      "metadata": {
        "tags": []
      },
      "outputs": [],
      "source": [
        "## EX. Perform the canonic Word2Vec addition again but leave out a term:\n",
        "##     Try 'king' - 'man', 'woman' - 'man', 'woman' + 'king'\n",
        "\n",
        "## Q.  What do these indicate semantically?\n",
        "\n",
        "model.most_similar(positive= ['woman'], negative=['man'])"
      ],
      "id": "cell-79"
    },
    {
      "cell_type": "code",
      "execution_count": null,
      "metadata": {
        "tags": []
      },
      "outputs": [],
      "source": [
        "## EX. Heuser's blog post explores an analogy in eighteenth-century thought that\n",
        "##     RICHES are to VIRTUE what LEARNING is to GENIUS. How true is this in\n",
        "##     the ECCO-trained Word2Vec model? Is it true in the one we trained?\n",
        "\n",
        "##  Q. How might we compare word2vec models more generally?"
      ],
      "id": "cell-80"
    },
    {
      "cell_type": "code",
      "execution_count": null,
      "metadata": {
        "tags": []
      },
      "outputs": [],
      "source": [
        "# ECCO model: RICHES are to VIRTUE what LEARNING is to ??\n",
        "\n",
        "ecco_model.most_similar(positive=['learning', 'virtue'], negative=['riches'])"
      ],
      "id": "cell-81"
    },
    {
      "cell_type": "code",
      "execution_count": null,
      "metadata": {
        "scrolled": true,
        "tags": []
      },
      "outputs": [],
      "source": [
        "# txtLab model: RICHES are to VIRTUE what LEARNING is to ??\n",
        "model.most_similar(positive=['learning', 'virtue'], negative=['riches'])"
      ],
      "id": "cell-82"
    },
    {
      "cell_type": "markdown",
      "metadata": {},
      "source": [
        "## Concluding Remarks and Resources\n",
        "\n",
        "Throughout this notebook we have seen how a number of mathematical\n",
        "operations can be used to explore word2vec’s word embeddings. Hopefully\n",
        "this notebook has allowed you to see how the inherent biases of language\n",
        "become coded into word embeddings and systems that use word embeddings\n",
        "cannot be treated as search engines.\n",
        "\n",
        "While getting inside the technics of these computational processes can\n",
        "enable us to answer a set of new, interesting questions dealing with\n",
        "semantics, there are many other questions that remain unanswered.\n",
        "\n",
        "For example: \\* Many language models are built using text from large,\n",
        "online corpora (such as Wikipedia, which is known to have a contributor\n",
        "basis that is majority white, college-educated men) - what kind of\n",
        "impact might this have on a language model? \\* What barriers to the\n",
        "healthy functioning of democracy are created by the widespread use of\n",
        "these tools and technologies in society? \\* How might language models\n",
        "challenge or renegotiate ideas around copyright, intellectual property\n",
        "and conceptions of authorship more broadly? \\* What might guardrails\n",
        "look like for the safe and equitable management and deployment of\n",
        "language models?\n",
        "\n",
        "## Other Resources for Further Learning\n",
        "\n",
        "-   [UBC Library Generative AI Research\n",
        "    Guide](https://guides.library.ubc.ca/GenAI/home)\n",
        "-   [What Is ChatGPT Doing … and Why Does It\n",
        "    Work?](https://writings.stephenwolfram.com/2023/02/what-is-chatgpt-doing-and-why-does-it-work/)\n",
        "    by Stephen Wolfram\n",
        "-   [TensorFlow Word Embeddings\n",
        "    tutorial](https://www.tensorflow.org/text/guide/word_embeddings)\n",
        "\n",
        "## References\n",
        "\n",
        "This notebook has been built using the following materials: -\n",
        "Arseniev-Koehler, A., & Foster, J. G. (2020). Sociolinguistic Properties\n",
        "of Word Embeddings \\[Preprint\\]. SocArXiv.\n",
        "https://doi.org/10.31235/osf.io/b8kud - Schiffers, R., Kern, D., &\n",
        "Hienert, D. (2023). Evaluation of Word Embeddings for the Social\n",
        "Sciences (arXiv:2302.06174). arXiv. http://arxiv.org/abs/2302.06174\n",
        "\n",
        "-   Anwla, P. K. (2019, October 22). Challenges in word2vec Model.\n",
        "    TowardsMachineLearning.\n",
        "    https://towardsmachinelearning.org/performance-problems-in-word2vec-model/\n",
        "\n",
        "-   Chandran, S. (2021, November 16). Introduction to Text\n",
        "    Representations for Language Processing—Part 2. Medium.\n",
        "    https://towardsdatascience.com/introduction-to-text-representations-for-language-processing-part-2-54fe6907868"
      ],
      "id": "3bfee5df-792c-42dd-b2be-e39c121c7568"
    }
  ],
  "nbformat": 4,
  "nbformat_minor": 5,
  "metadata": {
    "kernelspec": {
      "name": "python3",
      "display_name": "Python 3 (ipykernel)",
      "language": "python"
    },
    "language_info": {
      "name": "python",
      "codemirror_mode": {
        "name": "ipython",
        "version": "3"
      },
      "file_extension": ".py",
      "mimetype": "text/x-python",
      "nbconvert_exporter": "python",
      "pygments_lexer": "ipython3",
      "version": "3.8.8"
    }
  }
}