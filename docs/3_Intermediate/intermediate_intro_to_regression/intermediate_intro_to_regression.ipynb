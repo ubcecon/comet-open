{
  "cells": [
    {
      "cell_type": "markdown",
      "metadata": {},
      "source": [
        "# 2.1 - Intermediate - Introduction to Regression\n",
        "\n",
        "COMET Team <br> *Emrul Hasan, Jonah Heyl, Shiming Wu, William Co, Avi\n",
        "Woodward-Kelen, Anneke Dresselhuis, Rathin Dharani, Devan Rawlings,\n",
        "Jasmine Arora, Jonathan Graves*  \n",
        "2024-07-25\n",
        "\n",
        "## Outline\n",
        "\n",
        "### Prerequisites\n",
        "\n",
        "-   Basic R and Jupyter skills\n",
        "-   A theoretical understanding of simple linear relationship\n",
        "-   An understanding of hypothesis testing\n",
        "-   Types of variables (qualitative, quantitative)\n",
        "\n",
        "### Outcomes\n",
        "\n",
        "By the end of this notebook, you will be able to:\n",
        "\n",
        "-   Learn how to run a simple linear regression using R\n",
        "-   Create and understand regression outputs in R\n",
        "-   Understand how to interpret coefficient estimates from simple linear\n",
        "    regressions in terms of an econometric model\n",
        "-   Examine the various elements of regression objects in R (including\n",
        "    fitted values, residuals and coefficients)\n",
        "-   Understand the relationship between $t$-tests and the estimates from\n",
        "    simple linear regressions\n",
        "-   Understand the role of qualitative variables in regression analysis,\n",
        "    with a particular emphasis on dummies\n",
        "-   Explain how adding variables to a model changes the results\n",
        "\n",
        "> Note that the data in this exercise is provided under the Statistics\n",
        "> Canada Open License: \\> <span id=\"fn1\">[<sup>1</sup>](#fn1s)Statistics\n",
        "> Canada, Survey of Financial Security, 2019, 2021. Reproduced and\n",
        "> distributed on an “as is” basis with the permission of Statistics\n",
        "> Canada. Adapted from Statistics Canada, Survey of Financial Security,\n",
        "> 2019-2021. This does not constitute an endorsement by Statistics\n",
        "> Canada of this product.</span>"
      ],
      "id": "18dea5c0-3656-4ac8-a58d-d90eb820d082"
    },
    {
      "cell_type": "code",
      "execution_count": null,
      "metadata": {},
      "outputs": [],
      "source": [
        "library(tidyverse)\n",
        "library(haven)\n",
        "library(dplyr)\n",
        "library(scales)\n",
        "source(\"intermediate_intro_to_regression_tests.r\")"
      ],
      "id": "1b05fe53-7126-4f4f-a184-892eb66ce242"
    },
    {
      "cell_type": "code",
      "execution_count": null,
      "metadata": {},
      "outputs": [],
      "source": [
        "SFS_data <- read_dta(\"../datasets_intermediate/SFS_2019_Eng.dta\")  #basic data cleaning, covered in previous modules\n",
        "\n",
        "SFS_data <- filter(SFS_data, !is.na(SFS_data$pefmtinc))\n",
        "SFS_data <- rename(SFS_data, income_before_tax = pefmtinc)\n",
        "SFS_data <- rename(SFS_data, income_after_tax = pefatinc)\n",
        "SFS_data <- rename(SFS_data, wealth = pwnetwpg)\n",
        "SFS_data <- rename(SFS_data, gender = pgdrmie)\n",
        "SFS_data <- rename(SFS_data, education = peducmie)\n",
        "\n",
        "SFS_data <- SFS_data[!(SFS_data$education==\"9\"),]\n",
        "SFS_data$education <- as.numeric(SFS_data$education)\n",
        "SFS_data <- SFS_data[order(SFS_data$education),]\n",
        "SFS_data$education <- as.character(SFS_data$education)\n",
        "SFS_data$education[SFS_data$education == \"1\"] <- \"Less than high school\"\n",
        "SFS_data$education[SFS_data$education == \"2\"] <- \"High school\"\n",
        "SFS_data$education[SFS_data$education == \"3\"] <- \"Non-university post-secondary\"\n",
        "SFS_data$education[SFS_data$education == \"4\"] <- \"University\"\n",
        "\n",
        "SFS_data$gender <- as_factor(SFS_data$gender)\n",
        "SFS_data$education <- as_factor(SFS_data$education)"
      ],
      "id": "8d987f32-3ea9-47dd-8a71-16ede839ee83"
    },
    {
      "cell_type": "markdown",
      "metadata": {},
      "source": [
        "## Part 1: Learning About Regressions\n",
        "\n",
        "What is a regression? What is the relationship of a regression to other\n",
        "statistical concepts? How do we use regressions to answer economic\n",
        "questions?\n",
        "\n",
        "In this notebook, we will explore these questions using data from the\n",
        "2019 Survey of Financial Security (SFS). If you did module *1.0.1\n",
        "Beginner Introduction to Statistics using R* you might recall we used it\n",
        "to learn more about the gender wealth gap between male and female lead\n",
        "households. You don’t need to work through the module in order to follow\n",
        "along, but if you didn’t do it and you feel you might benefit from a\n",
        "statistical refresher - now would be a great time for a little\n",
        "refresher.\n",
        "\n",
        "Either way, we’ll begin our analysis by exploring the relationship\n",
        "between wealth and income. Let’s start off with a visualization:"
      ],
      "id": "b78b8c70-59a5-484e-bfc1-86433a2e5d90"
    },
    {
      "cell_type": "code",
      "execution_count": null,
      "metadata": {},
      "outputs": [],
      "source": [
        "options(repr.plot.width=8,repr.plot.height=8) #controls the image size\n",
        "f <- ggplot(data = SFS_data, xlim=c(0,2.4*10^6), ylim=c(0,3.4*10^7), aes(x = income_after_tax, y = wealth)) + \n",
        "        xlab(\"Income After Tax\") + \n",
        "        ylab(\"Wealth\") + scale_x_continuous()\n",
        "\n",
        "f + geom_point()"
      ],
      "id": "99083975-9dd3-4731-ada2-cddef9b968c9"
    },
    {
      "cell_type": "markdown",
      "metadata": {},
      "source": [
        "> *Think Deeper*: What do you see here? Is there anything about this\n",
        "> relationship that sticks out to you? Why does it have the shape it\n",
        "> does?\n",
        "\n",
        "You can probably tell that there is definitely some relationship between\n",
        "wealth and after-tax income - but it can be difficult to visualize using\n",
        "a scatterplot alone. There are far too many points to make out a\n",
        "discernable pattern or relationship here.\n",
        "\n",
        "### Regression Models\n",
        "\n",
        "This is where a **regression model** comes in. A regression model\n",
        "specifies the relationship between two variables. For example, a linear\n",
        "relationship would be:\n",
        "\n",
        "$$ W_i = \\beta_0 + \\beta_1I_i\n",
        "$$\n",
        "\n",
        "Where $W_i$ is wealth of family $i$, and $I_i$ is their after-tax\n",
        "income. In econometrics, we typically refer to $W_i$ as the **outcome**\n",
        "variable, and $I_i$ as the **explanatory** variable; you may have also\n",
        "heard the terms *dependent* and *independent* variables respectively,\n",
        "but these aren’t actually very good descriptions of what these variables\n",
        "are in econometrics which is why we won’t use them here.\n",
        "\n",
        "A model like this is our description of what this relationship is - but\n",
        "it depends on two unknowns: $\\beta_0$, $\\beta_1$.\n",
        "\n",
        "-   $\\beta_0$ and $\\beta_1$ are **parameters** of the model: they are\n",
        "    numbers that determine the relationship (intercept and slope,\n",
        "    respectively) between $W_i$ and $I_i$\n",
        "-   This is a *linear* relationship because the model we have specified\n",
        "    uses coefficients that are characteristic of linear model formulas -\n",
        "    note that there are many other kinds of models beyond the linear\n",
        "    type seen here.\n",
        "\n",
        "It is unlikely, if not impossible, for the relationship we observe here\n",
        "to completely explain everything about our data. We also need to include\n",
        "a term which captures everything that is *not* described by the\n",
        "relationship we described in the model. This is called the *residual*\n",
        "term (meaning “leftover”).\n",
        "\n",
        "-   The $\\epsilon_i$ is the **residual**: it is a component that\n",
        "    corresponds to the part of the data which is *not* described by the\n",
        "    model\n",
        "-   Residual terms will usually have certain assumed properties that\n",
        "    allow us to estimate the model\n",
        "\n",
        "Conceptually, you can think about a regression as two parts: the part of\n",
        "the relationship explained by your model ($W_i = \\beta_0 + \\beta_1 I_i$)\n",
        "and the part which is not explained ($\\epsilon_i$). The process of\n",
        "“fitting” or estimating a regression model refers to finding values for\n",
        "$\\beta_0$ and $\\beta_1$ such that as little as possible of the model is\n",
        "explained by the residual term. We write the complete regression\n",
        "equation by combining the two parts of the model:\n",
        "\n",
        "$$\n",
        "W_i = \\beta_0 + \\beta_1 I_i + \\epsilon_i\n",
        "$$\n",
        "\n",
        "The goal of regression analysis is to:\n",
        "\n",
        "1.  Estimate this equation (and especially the model parameters) as\n",
        "    accurately as possible.\n",
        "2.  Learn about the relationship between $W_i$ and $I_i$ from the\n",
        "    results of that estimation\n",
        "\n",
        "There are many ways to define “as accurately as possible” and similarly\n",
        "there are many ways to “estimate” the equation. In this course, we often\n",
        "use *ordinary least squares* (OLS) as our estimation method which can be\n",
        "understood as the following:\n",
        "\n",
        "$$\n",
        "(\\hat{\\beta_0},\\hat{\\beta_1}) = \\arg \\min_{\\beta_0,\\beta_1} \\sum_{i=1}^{n} (W_i - \\beta_0 - \\beta_1 I_i)^2 =\\arg \\min_{b_0,b_1} \\sum_{i=1}^{n} (\\epsilon_i)^2\n",
        "$$\n",
        "\n",
        "It is just the calculus way of writing “choose $\\beta_0$ and $\\beta_1$\n",
        "(call them $\\hat{\\beta_0}, \\hat{\\beta_1}$) such that they minimize the\n",
        "sum of the squared residuals”. Ultimately, the goal of doing a\n",
        "regression is to explain as much as possible using the parameters\n",
        "($\\beta_0, \\beta_1$) and as little as possible using $\\epsilon_i$.\n",
        "Through this equation, we have transformed our statistical problem into\n",
        "a calculus problem, one that can be solved, for example, by taking\n",
        "derivatives.\n",
        "\n",
        "There are many, many ways to solve this estimation problem - most of\n",
        "which are built into R. Before getting into how we can estimate using R\n",
        "commands, we’ll discuss on how we can estimate manually.\n",
        "\n",
        "### Example: Manual Estimation\n",
        "\n",
        "If we think about the residuals as a gauge of error in our model\n",
        "(remember we want to think about the error in absolute terms), we can\n",
        "look at the scatterplot and guess how the model might perform based on\n",
        "how small or large the residuals are from the regression line. As you\n",
        "can probably imagine, this is not the most efficient nor the most\n",
        "accurate way to solve our estimate problem!\n",
        "\n",
        "Try to get the best fit you can by playing around with the following\n",
        "example."
      ],
      "id": "f70d53ba-99ba-4c99-8b86-05f7f0c51209"
    },
    {
      "cell_type": "code",
      "execution_count": null,
      "metadata": {},
      "outputs": [],
      "source": [
        "#set the value of B_0 and B_1 with these values\n",
        "\n",
        "B_0 <- 10000  #change me\n",
        "B_1 <- 2  #change me\n",
        "\n",
        "# don't touch the rest of this code - but see if you can understand it!\n",
        "SSE <- sum((SFS_data$wealth - B_0 - B_1*SFS_data$income_after_tax)^2) #sum of our squared errors\n",
        "\n",
        "SSE_rounded <- round(SSE/1000000,0) \n",
        "print(paste(\"Your SSE is now,\", SSE_rounded,\", How low can you go?\")) #prints our SSE value\n",
        "\n",
        "options(repr.plot.width=10,repr.plot.height=8) #controls the image size\n",
        "\n",
        "fitted_line <- data.frame(income_before_tax = SFS_data$income_before_tax, wealth = B_0 + B_1*SFS_data$income_before_tax) #makes the regression line\n",
        "\n",
        "f <- ggplot(data = SFS_data,\n",
        "            aes(x = income_before_tax, y = wealth),\n",
        "            xlim=c(0,3000000),\n",
        "            ylim=c(0,30000000)) + \n",
        "  xlab(\"before tax income\") +\n",
        "  ylab(\"wealth\") +\n",
        "  scale_x_continuous(labels = comma) +\n",
        "  scale_y_continuous(labels = comma) \n",
        "f <- f + geom_point() + geom_line(color = \"#330974\", data = fitted_line) #style preferences\n",
        "\n",
        "f #prints our graph with the line"
      ],
      "id": "00e88819-9cce-407a-9f8d-5deeecc5e1b5"
    },
    {
      "cell_type": "markdown",
      "metadata": {},
      "source": [
        "As we change our $\\beta_0, \\beta_1$, notice how the best fit line\n",
        "changes as well. The closer we fit our line to the data the lower SSE we\n",
        "have.\n",
        "\n",
        "### Interactive Visualization of OLS\n",
        "\n",
        "Understanding OLS is fundamental to understanding regressions and other\n",
        "topics in econometrics. Let’s try and understand the formula for OLS\n",
        "above through a more visual approach.\n",
        "\n",
        "To demonstrate this, we will use a small scatter plot with just 4\n",
        "points.\n",
        "\n",
        "-   The straight line through the scatter plot is modelled by the simple\n",
        "    regression formula $B_0 + B_1X$.\n",
        "-   Since it’s nearly impossible for a regression to perfectly predict\n",
        "    the relationship between two variables, we will almost always\n",
        "    include an **unobservable error** $e_i$ with our regression\n",
        "    estimation. This is the vertical distance between the regression\n",
        "    line and the actual data points.\n",
        "-   Hence each of the points can be modelled by the equation\n",
        "    $Y_i = B_0 + B_1X + e_i$.\n",
        "-   Instead of minimizing the error terms, we will try to minimize the\n",
        "    squared errors which are represented by the size of those red boxes.\n",
        "\n",
        "Try your own values for `beta_0` and `beta_1`. Make sure to try the\n",
        "values only roughly within the specified range. The actual value of\n",
        "`beta_0` and `beta_1` that minimize the residual sum of squares is 0.65\n",
        "and 0.82 respectively. The code block below also displays the area of\n",
        "the red boxes; deviation from these optimal values will increase the\n",
        "area of the red boxes."
      ],
      "id": "9ef10fa1-da88-40f0-aa88-8454ae835fe3"
    },
    {
      "cell_type": "code",
      "execution_count": null,
      "metadata": {},
      "outputs": [],
      "source": [
        "beta_0 <- 0.65 #CHANGE THIS VALUE, TRY VALUES BETWEEN 0 - 1\n",
        "beta_1 <- 0.82 #CHANGE THIS VALUE, TRY VALUES BETWEEN 0.6 - 1.4\n",
        "\n",
        "x <- c(1, 2, 3, 4)\n",
        "y <- c(1.7, 1.5, 4, 3.6)\n",
        "\n",
        "# don't worry about this code, just run it!\n",
        "dta <- data.frame(x, y)\n",
        "example_df_graph <- dta %>%\n",
        "                    ggplot(aes(x = x, y = y)) +\n",
        "                    geom_point() +\n",
        "                    geom_abline(intercept = beta_0, slope = beta_1) +\n",
        "                    xlim(0, 5) +\n",
        "                    ylim(0, 5) +\n",
        "                    geom_rect(aes(xmin = (dta[1, \"x\"] + (beta_0 + (beta_1 * dta[1, \"x\"])) - dta[1, \"y\"]), xmax = dta[1, \"x\"], \n",
        "                                  ymin = (beta_0 + (beta_1 * dta[1, \"x\"])), ymax = dta[1, \"y\"]),\n",
        "                            alpha = 0.1,\n",
        "                            fill = \"red\") +\n",
        "                    geom_rect(aes(xmin = dta[2, \"x\"], xmax = (dta[2, \"x\"] + (beta_0 + (beta_1 * dta[2, \"x\"])) - dta[2, \"y\"]), \n",
        "                                  ymin = dta[2, \"y\"], ymax = (beta_0 + (beta_1 * dta[2, \"x\"]))), \n",
        "                            alpha = 0.1, \n",
        "                            fill = \"red\") +\n",
        "                    geom_rect(aes(xmin = (dta[3, \"x\"] + (beta_0 + (beta_1 * dta[3, \"x\"])) - dta[3, \"y\"]), xmax = dta[3, \"x\"], \n",
        "                                  ymin = (beta_0 + (beta_1 * dta[3, \"x\"])), ymax = dta[3, \"y\"]), \n",
        "                            alpha = 0.1, \n",
        "                            fill = \"red\") +\n",
        "                    geom_rect(aes(xmin = dta[4, \"x\"], xmax = (dta[4, \"x\"] + (beta_0 + (beta_1 * dta[4, \"x\"])) - dta[4, \"y\"]), \n",
        "                                  ymin = dta[4, \"y\"], ymax = (beta_0 + (beta_1 * dta[4, \"x\"]))), \n",
        "                            alpha = 0.1, \n",
        "                            fill = \"red\")\n",
        "example_df_graph\n",
        "\n",
        "area_1 <- ((dta[1, \"x\"] - (dta[1, \"x\"] + (beta_0 + (beta_1 * dta[1, \"x\"])) - dta[1, \"y\"])) * \n",
        "        ((beta_0 + (beta_1 * dta[2, \"x\"])) - dta[2, \"y\"]))\n",
        "area_2 <- ((dta[2, \"x\"] + (beta_0 + (beta_1 * dta[2, \"x\"])) - dta[2, \"y\"]) - dta[2, \"x\"]) * \n",
        "          ((beta_0 + (beta_1 * dta[2, \"x\"])) - dta[2, \"y\"])\n",
        "area_3 <- (dta[3, \"x\"] - (dta[3, \"x\"] + (beta_0 + (beta_1 * dta[3, \"x\"])) - dta[3, \"y\"])) * \n",
        "          (dta[3, \"y\"]) - (beta_0 + (beta_1 * dta[3, \"x\"]))\n",
        "area_4 <- ((dta[4, \"x\"] + (beta_0 + (beta_1 * dta[4, \"x\"])) - dta[4, \"y\"]) - dta[4, \"x\"]) * \n",
        "          ((beta_0 + (beta_1 * dta[4, \"x\"])) - dta[4, \"y\"])\n",
        "\n",
        "area <- area_1 + area_2 + area_3 + area_4\n",
        "print(\"Area of red boxes is: \")\n",
        "area"
      ],
      "id": "9590548b-3ac5-44f6-92f9-e0455f8ed782"
    },
    {
      "cell_type": "markdown",
      "metadata": {},
      "source": [
        "### Simple Regressions in R\n",
        "\n",
        "Now, let’s see how we could use a regression in R to do this.\n",
        "\n",
        "-   Regression models look like: `Y ~ X` where `Y` is regressed on `X`\n",
        "    and the `~` symbol is called “tilde” and is pronounced “TIL-duh” by\n",
        "    the way\n",
        "\n",
        "> For now you can ignore the residual terms and parameters when writing\n",
        "> the model in R (the computer implicitly knows it’s there!) and just\n",
        "> focus on the variables.\n",
        "\n",
        "So, for example, our regression model is\n",
        "\n",
        "$$\n",
        "W_i = \\beta_0 + \\beta_1 I_i + \\epsilon_i\n",
        "$$\n",
        "\n",
        "Which can be written in R as\n",
        "\n",
        "`wealth ~ income_before_tax`\n",
        "\n",
        "Regressions are estimated in R using the `lm` function which contains an\n",
        "argument to specify the dataset.\n",
        "\n",
        "-   This creates a *linear model* object, which can be used to calculate\n",
        "    things (using prediction) or perform tests.\n",
        "-   It also stores all of the information about the model, such as the\n",
        "    coefficient and fit.\n",
        "-   These models can also be printed and summarized to give important\n",
        "    basic information about a regression.\n",
        "\n",
        "Below are a few of the most important elements of a linear model. Let’s\n",
        "say, for example, that we called the model `my_model.`\n",
        "\n",
        "-   `my_model$coefficients`: gives us the parameter coefficients\n",
        "-   `my_model$residuals`: gives us the residuals\n",
        "-   `my_model$fitted.values`: gives us the predicted values\n",
        "\n",
        "Enough talk! Let’s see our model in action here."
      ],
      "id": "f66015fb-2048-4789-aae9-7e54ca68904e"
    },
    {
      "cell_type": "code",
      "execution_count": null,
      "metadata": {},
      "outputs": [],
      "source": [
        "regression1 = lm(wealth ~ income_after_tax, data = SFS_data) # take note this is very important!\n",
        "\n",
        "summary(regression1)\n",
        " \n",
        "head(regression1$coefficients)"
      ],
      "id": "b33732ad-a981-4450-bed3-1534b6104955"
    },
    {
      "cell_type": "markdown",
      "metadata": {},
      "source": [
        "Take a close look at the results. Identify the following elements:\n",
        "\n",
        "-   The values of the parameters\n",
        "-   The standard errors of the parameters\n",
        "-   The %-of the data explained by the model\n",
        "\n",
        "> **Test Your Knowledge**: What %-of the variance in wealth is explained\n",
        "> by the model? Write the percentage in *decimal form* and include all\n",
        "> decimals given by the model (example, x.xxx - where x are numbers)"
      ],
      "id": "0ee47cf6-09dd-4154-9a4d-ec73a817808c"
    },
    {
      "cell_type": "code",
      "execution_count": null,
      "metadata": {},
      "outputs": [],
      "source": [
        "answer1 <- ???   #answer goes here\n",
        "\n",
        "test_1()"
      ],
      "id": "1d6ce61f-e185-419f-81d1-377a91e340fa"
    },
    {
      "cell_type": "markdown",
      "metadata": {},
      "source": [
        "The underlying model and the parameters tell us about the relationship\n",
        "between the different values:\n",
        "\n",
        "$$W_i = 169826.16 + 9.96 I_i + \\epsilon_i\n",
        "$$\n",
        "\n",
        "Notice, for example:\n",
        "\n",
        "$$\\frac{\\partial W_i}{\\partial I_i} = \\beta_1 = 9.96\n",
        "$$\n",
        "\n",
        "In other words, when incomes go up by 1 dollar, we would expect that the\n",
        "wealth accumulated for this given family will rise by 9.96 dollars. This\n",
        "kind of analysis is key to interpreting what this model is telling us.\n",
        "\n",
        "Finally, let’s visualize our fitted model on the scatterplot from\n",
        "before. How does it compare to your original model?"
      ],
      "id": "d6b0f63f-cfb1-4a8f-b135-a6930fd7699d"
    },
    {
      "cell_type": "code",
      "execution_count": null,
      "metadata": {},
      "outputs": [],
      "source": [
        "options(repr.plot.width=10,repr.plot.height=8) #style preferences\n",
        "\n",
        "fitted_line2 = data.frame(income_before_tax = SFS_data$income_before_tax, wealth = regression1$coefficients[1] + regression1$coefficients[2]*SFS_data$income_before_tax)\n",
        "#this is our estimated fitted line\n",
        "\n",
        "f <- ggplot(data = SFS_data, aes(x = income_before_tax, y = wealth)) + xlab(\"Wealth\") + ylab(\"Income before tax\")+scale_x_continuous() #defines our x and y\n",
        "f <- f + geom_point() + geom_line(color = \"#070069\", data = fitted_line) + geom_line(color = \"#ff0000\", data = fitted_line2) #style preferences\n",
        "\n",
        "f #prints graph"
      ],
      "id": "55bc4531-90c9-4d35-83e4-eba4ff14088b"
    },
    {
      "cell_type": "markdown",
      "metadata": {},
      "source": [
        "As you can see - there’s a very close relationship between\n",
        "`after_tax_income` and `wealth`. The red line is a regression line of\n",
        "wealth and after_tax_income.\n",
        "\n",
        "Notice as well that we have negative values. Negative income and\n",
        "negative wealth is weird. We will deal with this later.\n",
        "\n",
        "## Part 2: Simple Regressions and $t$-Tests\n",
        "\n",
        "Previously, we looked at the relationship between market income and\n",
        "wages. However, these are both *quantitative* variables. What if we\n",
        "wanted to work with a *qualitative* variable like `gender`?\n",
        "\n",
        "Regression models can still incorporate this kind of variable - which is\n",
        "good, because (as the Census makes clear) this is the most common type\n",
        "of variable in real-world data. How is this possible?\n",
        "\n",
        "Let’s start out with the simplest kind of qualitative variable: a\n",
        "**dummy** (0 or 1) variable. Let’s use Male = $0$ and Female = $1$.\n",
        "Consider the regression equation:\n",
        "\n",
        "$$W_i = \\beta_0 + \\beta_1 G_i + \\epsilon_i ~, \\text{where}\\ G_i \\ \\text{is Gender}\n",
        "$$\n",
        "\n",
        "Consider the conditional expectation:\n",
        "\n",
        "$$\n",
        "E[W_i|G_i = \\text{Male}] = \\beta_0 + \\beta_1 \\cdot 1 + \\epsilon_i\n",
        "$$\n",
        "\n",
        "$$\n",
        "E[W_i|G_i = \\text{Female}] = \\beta_0 + \\beta_1 \\cdot 0 + \\epsilon_i\n",
        "$$\n",
        "\n",
        "By the OLS regression assumptions, we have that \\$E\\[\\_i\\|G_i\\] = 0 \\$,\n",
        "so:\n",
        "\n",
        "$$\n",
        "E[W_i|G_i = \\text{Female}] = \\beta_0 + \\beta_1\n",
        "$$\n",
        "\n",
        "$$\n",
        "E[W_i|G_i = \\text{Male}] = \\beta_0\n",
        "$$\n",
        "\n",
        "Combining these two expressions:\n",
        "\n",
        "$$\n",
        "\\beta_1 = E[W_i|G_i = \\text{Female}] - E[W_i|G_i = \\text{Male}] = \\beta_1-\\beta_0\n",
        "$$\n",
        "\n",
        "What this tells us:\n",
        "\n",
        "1.  We can include **dummy** variables in regressions just like\n",
        "    quantitative variables\n",
        "2.  The coefficients on the dummy variable have meaning in terms of the\n",
        "    regression model\n",
        "3.  The coefficients measure the (average) difference in the dependent\n",
        "    variable between the two levels of the dummy variable\n",
        "\n",
        "We can estimate this relationship of gender and wealth using R. As we\n",
        "investigate the wealth gap between male and female lead households, we\n",
        "might expect to see a negative sign on the coefficient - that is, if we\n",
        "anticipate that female lead households will have less wealth than male\n",
        "lead households."
      ],
      "id": "148eb7a8-52f0-4b4c-bc72-936b47e6b3d3"
    },
    {
      "cell_type": "code",
      "execution_count": null,
      "metadata": {},
      "outputs": [],
      "source": [
        "regression2 <- lm(wealth ~ gender, data = SFS_data)\n",
        "\n",
        "summary(regression2)"
      ],
      "id": "0120c725-ecc5-44b2-8aaa-a994da9cb36a"
    },
    {
      "cell_type": "markdown",
      "metadata": {},
      "source": [
        "What do you see here?\n",
        "\n",
        "> **Test Your Knowledge**: What is the difference in average wealth\n",
        "> between male and female lead households?"
      ],
      "id": "55fa77bc-0a07-4da6-95a2-7f6ced4e2843"
    },
    {
      "cell_type": "code",
      "execution_count": null,
      "metadata": {},
      "outputs": [],
      "source": [
        "# input the answer (to 1 decimal place, don't forget to add a negative sign, if relevant)\n",
        "answer2 <-  ???  # your answer here\n",
        "\n",
        "test_2()"
      ],
      "id": "799c9e67-28d5-4fd4-9dcc-6dfbcb595d7d"
    },
    {
      "cell_type": "markdown",
      "metadata": {},
      "source": [
        "The number might seem familiar if you remember what we learned about a\n",
        "$t$-test from earlier. Remember this result?"
      ],
      "id": "4f23b925-8194-4c40-a2e6-4a2a503a77a2"
    },
    {
      "cell_type": "code",
      "execution_count": null,
      "metadata": {},
      "outputs": [],
      "source": [
        "t1 = t.test(\n",
        "       x = filter(SFS_data, gender == \"Male\")$wealth,\n",
        "       y = filter(SFS_data, gender == \"Female\")$wealth,\n",
        "       alternative = \"two.sided\",\n",
        "       mu = 0,\n",
        "       conf.level = 0.95)\n",
        "\n",
        "t1 \n",
        "\n",
        "t1$estimate[1] - t1$estimate[2]"
      ],
      "id": "fe9efde7-cfe0-4d4b-98e2-9a9ef3bddb87"
    },
    {
      "cell_type": "markdown",
      "metadata": {},
      "source": [
        "Look closely at this result, and the result above. What do you see? What\n",
        "is the relationship here?\n",
        "\n",
        "This is a very important result because a dummy variable regression is\n",
        "an example a two sample comparison. Why is this? Recall:\n",
        "\n",
        "$$\\beta_1 = E[W_i|G_i = \\text{Female}] - E[W_i|G_i = \\text{Male}]\n",
        "$$\n",
        "\n",
        "The regression coefficient of $\\beta_1$ can be interpreted as a\n",
        "comparison of two means. This is exactly the same as what the $t$-test\n",
        "is doing. Comparing two means by different groups - groups which are\n",
        "specified by $G_i = \\text{Male}$ or $G_i = \\text{Female}$.\n",
        "\n",
        "In other words, another way of thinking about a regression is as a\n",
        "`super` comparison of means test. However, regressions can handle\n",
        "analysis using qualitative (dummy) variables as a well as quantitative\n",
        "variables, which regular comparison of means tests cannot handle.\n",
        "\n",
        "### Multiple Levels\n",
        "\n",
        "Okay, but what if you have a qualitative variable that takes on *more*\n",
        "than two levels? For example, the `education` variable includes four\n",
        "different education classes."
      ],
      "id": "ca46e385-056b-4bd7-936e-bbe7f733c230"
    },
    {
      "cell_type": "code",
      "execution_count": null,
      "metadata": {},
      "outputs": [],
      "source": [
        "SFS_data %>%\n",
        "group_by(education) %>%\n",
        "summarize(number_of_observations = n())"
      ],
      "id": "e4148566-5d9d-47fe-b11a-689eeaffbc18"
    },
    {
      "cell_type": "markdown",
      "metadata": {},
      "source": [
        "In this case, the idea is that you can replace a qualitative variable by\n",
        "a *set of dummies*. Consider the following set of variables:\n",
        "\n",
        "-   `d_1`: Is highest education less than high school? (Yes/No)\n",
        "-   `d_2`: Is highest education high school? (Yes/No)\n",
        "-   `d_3`: Is highest education non-university post-secondary? (Yes/No)\n",
        "-   `d_4`: Is highest education university? (Yes/No)\n",
        "\n",
        "These four dummy variables capture the same information as the\n",
        "qualitative variable `education`. In other words, if we were told the\n",
        "value of `education` we could discern which of these dummies were `Yes`\n",
        "or `No`, and vice-versa. In fact, if wetake a closer look, we’ll notice\n",
        "that we actually only need three of the four to figure out the value of\n",
        "`education`. For example, if I told you that `d_4`, `d_3`, `d_2` were\n",
        "all “No”, what would the value of `education` be?\n",
        "\n",
        "In other words, one of the dummies is redundant in helping us understand\n",
        "the qualitative variable. This property is important; we usually will\n",
        "omit one possible dummy to include only the minimum number of variables\n",
        "needed to explain the qualitative variable in question. This omitted\n",
        "dummy is called the **base level**. If we forget about this and still\n",
        "add 4 dummy variables, we would be committing a dummy variable trap.\n",
        "\n",
        "-   Which one should be the base level? It doesn’t matter, from a\n",
        "    technical perspective.\n",
        "\n",
        "> **Test Your Knowledge**: suppose you have a qualitative variable with\n",
        "> $k$ distinct levels. What is the minimum number of *possible* ways to\n",
        "> represent a set of dummies if you don’t want to include any redundant\n",
        "> variables?\n",
        "\n",
        "-   **A**: $k$\n",
        "-   **B**: $k-1$\n",
        "-   **C**: $k+1$\n",
        "-   **D**: $k^2$"
      ],
      "id": "cd9b5959-7c20-4fd1-b70b-f50ae1d99136"
    },
    {
      "cell_type": "code",
      "execution_count": null,
      "metadata": {},
      "outputs": [],
      "source": [
        "answer2.5 <- ??? # type in your answer here \n",
        "\n",
        "test_2.5()"
      ],
      "id": "d1978a79-f2d1-4a80-8449-de234ceb7a85"
    },
    {
      "cell_type": "markdown",
      "metadata": {},
      "source": [
        "In general, in R, most commands will automatically handle this process\n",
        "of creating dummies from qualitative variables. As you saw with the\n",
        "simple regression, R created them for you. You can also create dummies\n",
        "using a variety of commands, if necessary - but in general, if you tell\n",
        "R that your variables are factors, it will automatically handle the\n",
        "creation of dummies properly.\n",
        "\n",
        "Technically, the example above which includes multiple variables is\n",
        "called a **multiple regression** model, which we haven’t covered yet.\n",
        "\n",
        "Let’s explore regression some more, in the following series of\n",
        "exercises.\n",
        "\n",
        "## Part 3: Weighting\n",
        "\n",
        "In the previous examples, we have assumed that all observations are\n",
        "equally important. However, this is not always the case. Sometimes, we\n",
        "may want to give more weight to some observations than others. This\n",
        "could be for a wide variety of reasons, but a common one has to do with\n",
        "the observations in your sample as compared to the true population\n",
        "(other common reasons include data reliability and the need to correct\n",
        "for selection bias).\n",
        "\n",
        "Consider the Survey of Financial Statistics versus the true population\n",
        "of Canada. The SFS is a sample of the population, and it is possible\n",
        "that the sample is not representative of the population. In this case,\n",
        "we might want to weight the observations in the sample to make them more\n",
        "representative of the population."
      ],
      "id": "de91db36-3ed9-44d9-9b0a-febb73d3649d"
    },
    {
      "cell_type": "code",
      "execution_count": null,
      "metadata": {},
      "outputs": [],
      "source": [
        "count(SFS_data)"
      ],
      "id": "db745dec-59a5-46a1-8589-bfad0ed371c9"
    },
    {
      "cell_type": "markdown",
      "metadata": {},
      "source": [
        "In our case, the SFS surveyed 10,141 individuals. However, the\n",
        "[population of Canada in 2019 was 37.6 million\n",
        "people](https://www150.statcan.gc.ca/n1/pub/11-627-m/11-627-m2019061-eng.htm).\n",
        "While completing the census is a legal obligation which is typically\n",
        "good at capturing practically all inhabitants, the SFS is voluntary and\n",
        "may or may not represent the population well (e.g. perhaps the super\n",
        "wealthy or those in destitute poverty are underrepresented, or\n",
        "marginalized groups are less likely to respond to government surveys\n",
        "about something as personal as your wealth).\n",
        "\n",
        "Whatever the case may be, we’ll want to adjust, “weight”, our sample to\n",
        "make it more representative of the population (and we’ll use the census\n",
        "as our benchmark). Luckily for us, StatCan is aware of this potential\n",
        "issue, and has included pre-made/recommended weights for us to use!\n",
        "\n",
        "To see what happens when we include weights we simply add a\n",
        "straightforward argument `weight = x` in the `lm()`function, where `x`\n",
        "is the name of your weighting variable. (If for some reason your weights\n",
        "are contained in a different dataset than the rest of your data you\n",
        "could use `weight = other_dataset$x` to specify the correct weights).\n",
        "\n",
        "Let’s remind ourselves of what we found in `regression1`"
      ],
      "id": "d92c571b-a142-46ba-86d9-5c5f36dc5fbc"
    },
    {
      "cell_type": "code",
      "execution_count": null,
      "metadata": {},
      "outputs": [],
      "source": [
        "summary(regression1) #original non-weighted regression"
      ],
      "id": "ec0b3324-dd2b-4200-b59b-0047905d5160"
    },
    {
      "cell_type": "markdown",
      "metadata": {},
      "source": [
        "How does this compare to a weighted regression?"
      ],
      "id": "e39410e6-64f0-4299-8e7d-13604ffa71d5"
    },
    {
      "cell_type": "code",
      "execution_count": null,
      "metadata": {},
      "outputs": [],
      "source": [
        "regression3 <- lm(wealth ~ income_after_tax, data = SFS_data, weights = pweight) #the variable for weights in SFS_data is called pweight, short for population weight. \n",
        "summary(regression3)"
      ],
      "id": "3e6266da-bf95-4677-8169-d6ee2f77b3c0"
    },
    {
      "cell_type": "markdown",
      "metadata": {},
      "source": [
        "> *Think Deeper*: What is the difference in the coefficient on\n",
        "> `income_after_tax` between the weighted and unweighted regressions?\n",
        "> What does the change in the intercept imply?\n",
        "\n",
        "How about when we looked at the gender effect on wealth?"
      ],
      "id": "d090f69f-00e9-4c4e-8ed2-a7f4ba66a791"
    },
    {
      "cell_type": "code",
      "execution_count": null,
      "metadata": {},
      "outputs": [],
      "source": [
        "summary(regression2) #again, our original non-weighted regression"
      ],
      "id": "822b296d-4419-438c-8eda-1d6e8fcf3272"
    },
    {
      "cell_type": "code",
      "execution_count": null,
      "metadata": {},
      "outputs": [],
      "source": [
        "regression4 <- lm(wealth ~ gender, data = SFS_data, weights = pweight)\n",
        "summary(regression4)"
      ],
      "id": "1c82a1d8-55c1-4685-9bf3-a649846e351a"
    },
    {
      "cell_type": "markdown",
      "metadata": {},
      "source": [
        "> *Think Deeper*: What is the difference in the coefficient on `gender`\n",
        "> between the weighted and unweighted regressions? What does the change\n",
        "> in the intercept imply? Did the unweighted regression overestimate or\n",
        "> underestimate the gender-wealth gap?\n",
        "\n",
        "In general, weighting is a powerful tool that can help us correct for\n",
        "biases in our data. However, it is important to remember that weighting\n",
        "is not a panacea. It can only correct for biases that we know about and\n",
        "can measure. If there are biases in our data that we are unaware of or\n",
        "we don’t know what to benchmark against, weighting will not help us.\n",
        "\n",
        "## Part 4: Exercises\n",
        "\n",
        "### Activity 1\n",
        "\n",
        "Last week, we briefly explored the idea of the wealth gap and explored\n",
        "the idea that it could be caused by some income related factors. We can\n",
        "now examine this issue directly using regressions. Run a regression with\n",
        "\\* before tax income \\* on male and female lead households.\n",
        "\n",
        "<em>Tested objects:</em> `regm` (the regression for males). <em>Tested\n",
        "objects:</em> `regf` (the regression for females)."
      ],
      "id": "858cee3b-35ec-44e0-9655-d5c23797f18f"
    },
    {
      "cell_type": "code",
      "execution_count": null,
      "metadata": {},
      "outputs": [],
      "source": [
        "# Quiz 1\n",
        "# Regression for males\n",
        "regm <- lm(??? ~ income_before_tax, filter(SFS_data, ??? == \"Male\")) \n",
        "# Replace \"...\" with the appropriate variables \n",
        "#remember answers are case sensitive!\n",
        "\n",
        "# Quiz 2\n",
        "# Regression for females\n",
        "regf <- lm(??? ~ income_before_tax, data = filter(SFS_data, ??? == \"Female\")) \n",
        "#remember answers are case sensitive!\n",
        "\n",
        "summary(regm) # Allow us to view regm's coefficient estimates\n",
        "summary(regf) # Same as above, but for regf\n",
        "\n",
        "test_3() # Quiz1\n",
        "test_4() # Quiz2"
      ],
      "id": "3c94264e-7a37-4a8d-bf2e-fc310deb7105"
    },
    {
      "cell_type": "markdown",
      "metadata": {},
      "source": [
        "#### Short Answer 1\n",
        "\n",
        "**Prompt:** How do we interpret the coefficient estimate on `income` in\n",
        "each of these regressions?\n",
        "\n",
        "<font style=\"color:red\">Answer in red here!</font>"
      ],
      "id": "aebc8f40-a3a3-4d0e-b6e0-3280ca653e8e"
    },
    {
      "cell_type": "code",
      "execution_count": null,
      "metadata": {},
      "outputs": [],
      "source": [
        "short_answer_1 <- #fill in your short answer"
      ],
      "id": "81591666-d4ab-4dba-9220-3bb7d5283bb2"
    },
    {
      "cell_type": "raw",
      "metadata": {
        "raw_mimetype": "text/html"
      },
      "source": [
        "<details>"
      ],
      "id": "68bb9983-d6c2-4b71-b257-f8f75361e5d2"
    },
    {
      "cell_type": "raw",
      "metadata": {
        "raw_mimetype": "text/html"
      },
      "source": [
        "<summary>"
      ],
      "id": "542cd9a1-59ac-49ff-858c-8595a8512e17"
    },
    {
      "cell_type": "markdown",
      "metadata": {},
      "source": [
        "Show/Hide Solution"
      ],
      "id": "d0c6725d-488b-4322-8078-488c14553a45"
    },
    {
      "cell_type": "raw",
      "metadata": {
        "raw_mimetype": "text/html"
      },
      "source": [
        "</summary>"
      ],
      "id": "28aeb6c7-44e6-4e78-938d-48f205313ddd"
    },
    {
      "cell_type": "markdown",
      "metadata": {},
      "source": [
        "Answer: In this case the coefficient on before tax income is how we\n",
        "expect wealth to change for a given change in income. So, for each new\n",
        "dollar of income we expect the male lead households to acquire 5.3\n",
        "dollars of wealth, and female lead households to acquire 9.4 dollars of\n",
        "wealth. Also notice the intercepts are different. There may be some\n",
        "left-out factors or the relation is non-linear, which would mean\n",
        "$\\beta_1$ is not really the instantaneous rate of change."
      ],
      "id": "5fd8ea3e-0f2b-4fe7-8142-62b2db0ca265"
    },
    {
      "cell_type": "raw",
      "metadata": {
        "raw_mimetype": "text/html"
      },
      "source": [
        "</details>"
      ],
      "id": "c2f66750-12e0-4f4e-b349-0750ff35ad1f"
    },
    {
      "cell_type": "markdown",
      "metadata": {},
      "source": [
        "### Activity 2\n",
        "\n",
        "We might think that income inequality between females and males might\n",
        "depend on the educational gaps between these two groups. In this\n",
        "activity, we will explore how the income gap varies by education. First,\n",
        "let’s see the factor levels of the `education`:"
      ],
      "id": "e20202ad-cd54-41e4-925a-4301d976ab55"
    },
    {
      "cell_type": "code",
      "execution_count": null,
      "metadata": {},
      "outputs": [],
      "source": [
        "levels(SFS_data$education) # Run this"
      ],
      "id": "60255d8d-42dd-48a5-91b9-b2f01594d615"
    },
    {
      "cell_type": "markdown",
      "metadata": {},
      "source": [
        "As we can see, there are a few education groups in this dataframe. Let’s\n",
        "estimate the income gap (with no controls) for each of the four groups\n",
        "separately:\n",
        "\n",
        "-   Less than high school\n",
        "-   High school\n",
        "-   Non-university post-secondary\n",
        "-   University\n",
        "\n",
        "<em>Tested objects:</em> `rege2` (High School), `rege4` (University)\n",
        "\n",
        "Notice we don’t need to do 4 regressions we could just do three."
      ],
      "id": "0e1ebf5d-5e4c-4ed6-85f5-d64937c31bf8"
    },
    {
      "cell_type": "code",
      "execution_count": null,
      "metadata": {},
      "outputs": [],
      "source": [
        "#reg1 is a regression performed on people, with a less than high school education\n",
        "reg1 <- lm(??? ~ ???, data = filter(SFS_data, education == \"Less than high school\")) #what should replace the ...\n",
        "#reg2 is the same as rege1,but we are looking at people with a high school education\n",
        "reg2 <- lm(??? ~ ???, data = filter(SFS_data, education == \"High school\")) #fill in the blanks\n",
        "\n",
        "reg3 <- lm(??? ~ ???, data = filter(SFS_data, education == \"Non-university post-secondary\")) #remember answers are case sensitive!\n",
        "\n",
        "reg4 <- lm(??? ~ ???, data = filter(SFS_data,education == \"University\"))\n",
        "\n",
        "# store the summaries (but don't show them!  too many!)\n",
        "sum20 <- summary(reg1)\n",
        "sum30 <- summary(reg2)\n",
        "sum40 <- summary(reg3)\n",
        "sum50 <- summary(reg4)\n",
        "\n",
        "test_5()\n",
        "test_6()\n",
        "test_7()\n",
        "test_8() "
      ],
      "id": "1b6c3171-636e-450a-b534-34ed6c928556"
    },
    {
      "cell_type": "markdown",
      "metadata": {},
      "source": [
        "The code below will tabulate a brief summary of each regression:"
      ],
      "id": "6285a71c-7707-47b1-b6fd-ac4d375e2f4e"
    },
    {
      "cell_type": "code",
      "execution_count": null,
      "metadata": {},
      "outputs": [],
      "source": [
        "# just run me.  You don't need to edit this\n",
        "\n",
        "Educ_Group <- c(\"Less than high school\", \"High School\", \"Non-university post-secondary\", \"University\") #defines column 1\n",
        "Income_Gap <- c(reg1$coefficients[2], reg2$coefficients[2], reg3$coefficients[2], reg4$coefficients[2]) #defines column 2\n",
        "Std._Error <- c(sum20$coefficients[2,2], sum30$coefficients[2,2], sum40$coefficients[2,2], sum50$coefficients[2,2]) #defines column 3\n",
        "t_Value <- c(sum20$coefficients[2,3], sum30$coefficients[2,3], sum40$coefficients[2,3], sum50$coefficients[2,3]) #defines column 4\n",
        "p_Value <- c(sum20$coefficients[2,4], sum30$coefficients[2,4], sum40$coefficients[2,4], sum50$coefficients[2,4]) #defines column 5\n",
        "\n",
        "tibble(Educ_Group, Income_Gap, Std._Error, t_Value, p_Value) #it's like a table but a tibble"
      ],
      "id": "8cf92cc6-7db3-4a17-aa2f-00e1e54a7d93"
    },
    {
      "cell_type": "markdown",
      "metadata": {},
      "source": [
        "#### Short Answer 2\n",
        "\n",
        "**Prompt**: What happens to the income gap as we move across education\n",
        "groups? What might explain these changes? (hint: think back to module\n",
        "1!)\n",
        "\n",
        "<font style=\"color:red\">Answer in red here!</font>"
      ],
      "id": "12c416d6-3486-4d5b-b6be-4d64158675d7"
    },
    {
      "cell_type": "code",
      "execution_count": null,
      "metadata": {},
      "outputs": [],
      "source": [
        "short_answer_2 <- #fill in your short answer"
      ],
      "id": "0ab24534-77e0-415a-a4ea-2efe986c3f01"
    },
    {
      "cell_type": "raw",
      "metadata": {
        "raw_mimetype": "text/html"
      },
      "source": [
        "<details>"
      ],
      "id": "911a5f3f-dff3-4b5b-8c69-94ea88668955"
    },
    {
      "cell_type": "raw",
      "metadata": {
        "raw_mimetype": "text/html"
      },
      "source": [
        "<summary>"
      ],
      "id": "248b47d9-1d35-484a-9bcc-18ddf679b08f"
    },
    {
      "cell_type": "markdown",
      "metadata": {},
      "source": [
        "Show/Hide Solution"
      ],
      "id": "10c2c9e8-ec53-4454-8df0-2fd22e1d4f56"
    },
    {
      "cell_type": "raw",
      "metadata": {
        "raw_mimetype": "text/html"
      },
      "source": [
        "</summary>"
      ],
      "id": "40a56aa8-800c-4b7c-88a9-f7d5503dd9c0"
    },
    {
      "cell_type": "markdown",
      "metadata": {},
      "source": [
        "Answer: The Income Gap appears to increase, however this is simply\n",
        "because income increases, in percent terms the income gap decreases\n",
        "(from module 1)"
      ],
      "id": "9b49e620-97f3-4ace-aaf3-9f11ac75f98f"
    },
    {
      "cell_type": "raw",
      "metadata": {
        "raw_mimetype": "text/html"
      },
      "source": [
        "</details>"
      ],
      "id": "9bd77d7f-5c39-454a-aae2-b21e3a07941c"
    },
    {
      "cell_type": "markdown",
      "metadata": {},
      "source": [
        "### Activity 3\n",
        "\n",
        "As we observed in last week’s worksheet, the income gap could differ by\n",
        "education level. Since there are many education categories, however, we\n",
        "may not want to examine this by running a regression for each education\n",
        "level separately.\n",
        "\n",
        "Instead, we could run a single regression and add education level as a\n",
        "second regressor, $E_i$:\n",
        "\n",
        "$$I_i = \\beta_0 + \\beta_1 G_i + \\beta_2 E_i + \\epsilon_i\n",
        "$$\n",
        "\n",
        "This is actually a **multiple regression**, which we will learn about\n",
        "later - but from the point of this lesson, the idea is that it is “run”\n",
        "in R essentially in the same way as a simple regression. Estimate the\n",
        "regression model above without $E_i$, then re-estimate the model with\n",
        "$E_i$ added. **USE INCOME BEFORE TAX**.\n",
        "\n",
        "<em>Tested objects:</em> `reg2A` (regression without controls), `reg2B`\n",
        "(regression with controls)."
      ],
      "id": "bd3ef4bb-69b5-4ebc-8808-aee06748df5d"
    },
    {
      "cell_type": "code",
      "execution_count": null,
      "metadata": {},
      "outputs": [],
      "source": [
        "# Simple regression (just gender)\n",
        "reg2A <- lm(income_before_tax ~ gender, data = SFS_data) # this one works already\n",
        "\n",
        "# Regression with controls\n",
        "reg2B <-  lm(income_before_tax ~ ??? + education, data = SFS_data) # replace the ...\n",
        "\n",
        "summary(reg2A)\n",
        "summary(reg2B)\n",
        "#this will look ugly; try to look carefully at the output\n",
        "\n",
        "test_9()\n",
        "test_10() "
      ],
      "id": "81d88965-9556-43bd-a763-9055f3c9f1eb"
    },
    {
      "cell_type": "markdown",
      "metadata": {},
      "source": [
        "#### Short Answer 3\n",
        "\n",
        "Prompt: Compare the estimated income gap with and without $E_i$ in the\n",
        "regression. What happens to the gap when we add $E_i$?\n",
        "\n",
        "<font style=\"color:red\">Answer in red here!</font>"
      ],
      "id": "323abd35-3135-42a9-ace7-8c8695466952"
    },
    {
      "cell_type": "code",
      "execution_count": null,
      "metadata": {},
      "outputs": [],
      "source": [
        "short_answer_3 <- #fill in your short answer"
      ],
      "id": "1d594c38-b0bd-488e-9378-c4a0b8217d90"
    },
    {
      "cell_type": "raw",
      "metadata": {
        "raw_mimetype": "text/html"
      },
      "source": [
        "<details>"
      ],
      "id": "10dbf105-4617-45df-b2a7-f3cd5c45bf22"
    },
    {
      "cell_type": "raw",
      "metadata": {
        "raw_mimetype": "text/html"
      },
      "source": [
        "<summary>"
      ],
      "id": "4becebbe-3887-4e84-b4d3-4d58390c833a"
    },
    {
      "cell_type": "markdown",
      "metadata": {},
      "source": [
        "Show/Hide Solution"
      ],
      "id": "f1429197-46fe-4e1e-8fb8-027369de7185"
    },
    {
      "cell_type": "raw",
      "metadata": {
        "raw_mimetype": "text/html"
      },
      "source": [
        "</summary>"
      ],
      "id": "e3070d2e-60d3-4057-9782-a8d770fb813b"
    },
    {
      "cell_type": "markdown",
      "metadata": {},
      "source": [
        "Answer: The gender-income gap has increased; notice the stand error’s\n",
        "have increased. This means it’s harder to have certainty what the income\n",
        "gap is once we control for education."
      ],
      "id": "adba85ec-c484-437d-9b31-20e87feb7731"
    },
    {
      "cell_type": "raw",
      "metadata": {
        "raw_mimetype": "text/html"
      },
      "source": [
        "</details>"
      ],
      "id": "5f9ece69-00ed-400a-941a-d0509e1dd605"
    },
    {
      "cell_type": "markdown",
      "metadata": {},
      "source": [
        "### Theoretical Activity 1\n",
        "\n",
        "When we deal with large quantitative variables, we often take the\n",
        "natural log of it:"
      ],
      "id": "825312d8-6c1d-4ec0-9a3b-d80a6f3c98fe"
    },
    {
      "cell_type": "code",
      "execution_count": null,
      "metadata": {},
      "outputs": [],
      "source": [
        "W = log(SFS_data$wealth[SFS_data$wealth>0]) "
      ],
      "id": "c3eaeb59-7c70-4222-bbcc-c2289de934de"
    },
    {
      "cell_type": "markdown",
      "metadata": {},
      "source": [
        "You may recall that the derivative of the log of a variable is\n",
        "approximately equal to percentage change in the variables:\n",
        "\n",
        "$$\\frac{dln(x)}{dx} \\approx \\frac{\\Delta x}{x}\n",
        "$$\n",
        "\n",
        "Thus, when we find the marginal effect of some continuous regressor\n",
        "$X_i$ (say, `income`):\n",
        "\n",
        "$$ln(W_i) = \\beta_0 + \\beta_1 I_i + \\epsilon_i \\implies \\frac{\\Delta W_i}{W_i} \\approx \\beta_1 \\Delta I_{i}\n",
        "$$\n",
        "\n",
        "This allows us to interpret the changes in a continuous variable as\n",
        "associated with a percentage change in wealth; for instance, if we\n",
        "estimate a coefficient of $0.02$ on `income_before_tax`, we say that\n",
        "when a family’s income before tax increases by 1 CAD, the corresponding\n",
        "wealth increases by 2 percent on average.\n",
        "\n",
        "Notice we are now talking about percent changes, rather than units.\n",
        "\n",
        "Let’s generate two variables that take the natural log of the wealth\n",
        "<em>and</em> market income from the `SFS_data` dataframe (hint: use a\n",
        "technique that we introduced last week). Then, estimate the effect of\n",
        "logarithmic market income on logarithmic wealth.\n",
        "\n",
        "<em>Tested Objects:</em> `lnreg`"
      ],
      "id": "a39a0c77-8c3f-4eb8-9f48-ca1a5770e607"
    },
    {
      "cell_type": "code",
      "execution_count": null,
      "metadata": {},
      "outputs": [],
      "source": [
        "#Generate log wage variable\n",
        "SFS_data <- SFS_data %>%\n",
        "               mutate(lnincome = log(SFS_data$income_before_tax)) %>% # what goes here?\n",
        "               mutate(lnwealth = log(SFS_data$wealth)) # what goes here?"
      ],
      "id": "01044af6-7316-460f-a189-8c4142660204"
    },
    {
      "cell_type": "markdown",
      "metadata": {},
      "source": [
        "Notice warning message “NaNs produced”. NaN means “Not a Number”. This\n",
        "happens because we had negative income and negative wealth. No matter\n",
        "how low our incomes are, the more we work, wealth and income should\n",
        "increase."
      ],
      "id": "60423515-86f9-400e-af22-f09212b83abb"
    },
    {
      "cell_type": "code",
      "execution_count": null,
      "metadata": {},
      "outputs": [],
      "source": [
        "# fix NANs\n",
        "SFS_data_logged <- SFS_data %>%\n",
        "               filter(income_before_tax>0) %>% #removes negative values\n",
        "               filter(wealth>0)  #removes negative values\n",
        "    \n",
        "# Log Regression \n",
        "lnreg <- lm(lnwealth ~ ???, data = SFS_data_logged) #the new and improved regression\n",
        "\n",
        "summary(lnreg)\n",
        "\n",
        "test_11()"
      ],
      "id": "e72dc8e0-5a4d-419c-b0fd-cc3722056b30"
    },
    {
      "cell_type": "markdown",
      "metadata": {},
      "source": [
        "#### Short Answer 4\n",
        "\n",
        "Prompt: How do we interpret each of these estimates? (Hint: what does a\n",
        "1-unit change in the explanatory variable mean here?)\n",
        "\n",
        "<font style=\"color:red\"> Answer here in red</font>"
      ],
      "id": "ce033155-a676-4c8a-8da1-bc1c4ac80733"
    },
    {
      "cell_type": "code",
      "execution_count": null,
      "metadata": {},
      "outputs": [],
      "source": [
        "short_answer_4 <- #fill in your short answer"
      ],
      "id": "ff87ae25-14cf-4f8c-bad8-970fd00b7a99"
    },
    {
      "cell_type": "raw",
      "metadata": {
        "raw_mimetype": "text/html"
      },
      "source": [
        "<details>"
      ],
      "id": "e440d8e1-1b7b-4eb8-a413-8c392bea2d59"
    },
    {
      "cell_type": "raw",
      "metadata": {
        "raw_mimetype": "text/html"
      },
      "source": [
        "<summary>"
      ],
      "id": "074b9dc3-c97d-41b1-a4ad-b89872184c34"
    },
    {
      "cell_type": "markdown",
      "metadata": {},
      "source": [
        "Show/Hide Solution"
      ],
      "id": "02974bed-8302-49b0-904c-7f9a477ff4ac"
    },
    {
      "cell_type": "raw",
      "metadata": {
        "raw_mimetype": "text/html"
      },
      "source": [
        "</summary>"
      ],
      "id": "6929c4c7-c6b7-46a4-93c2-13fe9d308173"
    },
    {
      "cell_type": "markdown",
      "metadata": {},
      "source": [
        "Answer:\n",
        "\n",
        "Intercept: The intercept estimate represents the expected value of the\n",
        "response variable (lnwealth) when the predictor variable (lnincome) is\n",
        "zero. In this case, the estimated intercept is 6.17242. Since the\n",
        "logarithm of wealth (lnwealth) is being used, it means that when the\n",
        "logarithm of income (lnincome) is zero, the expected value of the\n",
        "logarithm of wealth is 6.17242.\n",
        "\n",
        "lnincome: The coefficient estimate for lnincome is 0.61532. It\n",
        "represents the estimated change in the response variable (lnwealth) for\n",
        "a one-unit increase in the predictor variable (lnincome). Therefore, for\n",
        "every one-unit increase in the logarithm of income, the estimated change\n",
        "in the logarithm of wealth is 0.61532."
      ],
      "id": "fd40084e-dedb-4a1c-b4fd-c38866fa11dc"
    },
    {
      "cell_type": "raw",
      "metadata": {
        "raw_mimetype": "text/html"
      },
      "source": [
        "</details>"
      ],
      "id": "c83d2ab2-447d-42b3-a4e5-0a0e4bda515a"
    },
    {
      "cell_type": "markdown",
      "metadata": {},
      "source": [
        "### Optional: Bonus Activity 4\n",
        "\n",
        "You have learned about a linear regression model of income; however,\n",
        "income often follows a Pareto distribution. For now, using a linear\n",
        "approximation to find the wage gap is fine. We may want to know stuff\n",
        "about the underlying distribution of income in male and female lead\n",
        "households, however. Here’s the PDF of pareto distribution:\n",
        "\n",
        "$$f(x) = {\\displaystyle {\\frac {\\alpha x_{\\mathrm {m} }^{\\alpha }}{x^{\\alpha +1}}}} \n",
        "$$\n",
        "\n",
        "Ok, now with regression remember we said that we estimate the parameter\n",
        "given the data. To do this we said you could use Calculus or methods\n",
        "other than OLS. Here the probability of the data can be approximated by\n",
        "assuming independence between each $x_i$. If we do this, the probability\n",
        "of the data is given by:\n",
        "\n",
        "$$\\Pi_{i=1}^n f(x)\n",
        "$$\n",
        "\n",
        "Now we can just make a function in r and optimize over it which performs\n",
        "essentially the same operation as a linear regression."
      ],
      "id": "9b610dd9-34d4-4e12-95bd-2ef34381e303"
    },
    {
      "cell_type": "code",
      "execution_count": null,
      "metadata": {
        "scrolled": true
      },
      "outputs": [],
      "source": [
        "x=filter(SFS_data,gender=='Female')\n",
        "x <- filter(x, is.numeric(income_before_tax))\n",
        "x <- x$income_before_tax"
      ],
      "id": "ed9cb87c-f4af-46fb-a5ce-13fbb679e8cc"
    },
    {
      "cell_type": "code",
      "execution_count": null,
      "metadata": {},
      "outputs": [],
      "source": [
        "calc <- function (x){\n",
        "    q=0\n",
        "for (i in x){\n",
        "    if (i >0){\n",
        "      a= log(i[1]) }\n",
        "        if (is.numeric(a)==TRUE){\n",
        "            q=q+a }\n",
        "    }\n",
        "return (q)\n",
        "}"
      ],
      "id": "eba55c29-e44f-479d-81ef-bfa044523d6b"
    },
    {
      "cell_type": "code",
      "execution_count": null,
      "metadata": {},
      "outputs": [],
      "source": [
        "calc(x)"
      ],
      "id": "ff7429b4-bd59-4093-9e8b-e68ce0876bc0"
    },
    {
      "cell_type": "code",
      "execution_count": null,
      "metadata": {},
      "outputs": [],
      "source": [
        "ell <- function(a,q,xm,n) { # we use the log function of the pareto distribution instead\n",
        "    d=(n*log(a))\n",
        "    b=(-1)*(a+1)*q\n",
        "    c=a*log(xm)*n \n",
        "    return (d+b+c)\n",
        "}"
      ],
      "id": "3008cb73-0503-450a-b8e9-16a1a3ec7ca7"
    },
    {
      "cell_type": "code",
      "execution_count": null,
      "metadata": {},
      "outputs": [],
      "source": [
        "a = optimize(ell,c(2,50),maximum=TRUE,q=43074.1853103325,xm=40000,n=length(x))\n",
        "a\n",
        "a_women=a$maximum "
      ],
      "id": "287bbd08-c598-4e66-b384-99051e320500"
    },
    {
      "cell_type": "code",
      "execution_count": null,
      "metadata": {},
      "outputs": [],
      "source": [
        "y=filter(SFS_data,gender=='Male')\n",
        "y <- filter(y, is.numeric(income_before_tax))\n",
        "y <- y$income_before_tax\n",
        "a_men = optimize(ell,c(2,1000),maximum=TRUE,q=calc(y),xm=65000,n=length(y))\n",
        "a_men = a_men$maximum\n",
        "a_men"
      ],
      "id": "26c42115-e3a5-491c-a7f8-3116fb89a928"
    },
    {
      "cell_type": "markdown",
      "metadata": {},
      "source": [
        "The theoretical mean of the Pareto distribution is,\n",
        "\n",
        "$$ \\frac{\\alpha x_m}{\\alpha -1} \n",
        "$$\n",
        "\n",
        "Can you calculate the expected income gap with the Pareto distribution\n",
        "assumption?"
      ],
      "id": "12e34349-d1b4-4f20-a09e-ef5a2c0a8505"
    },
    {
      "cell_type": "code",
      "execution_count": null,
      "metadata": {},
      "outputs": [],
      "source": [
        "xmw=40000\n",
        "xmm=65000\n",
        "income_gap =((a_women* xmw )/ (a_women-1)) - ((a_men* xmm )/ (a_men-1))\n",
        "income_gap #note we set xm ourselves (I did this by playing around with xm, and doing a bit of research) see if you can get a better xm."
      ],
      "id": "7847cfa2-42bd-4572-9846-37b9af8b1f7a"
    }
  ],
  "nbformat": 4,
  "nbformat_minor": 5,
  "metadata": {
    "kernelspec": {
      "name": "ir",
      "display_name": "R",
      "language": "r"
    }
  }
}