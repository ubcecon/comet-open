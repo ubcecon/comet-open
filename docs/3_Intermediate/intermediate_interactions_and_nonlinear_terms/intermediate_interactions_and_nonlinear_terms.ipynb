{
  "cells": [
    {
      "cell_type": "markdown",
      "metadata": {},
      "source": [
        "# 2.5 - Intermediate - Interactions and Non-linear Terms\n",
        "\n",
        "COMET Team <br> *Emrul Hasan, Jonah Heyl, Shiming Wu, William Co,\n",
        "Jonathan Graves*  \n",
        "2022-12-08\n",
        "\n",
        "## Outline\n",
        "\n",
        "### Prerequisites\n",
        "\n",
        "-   Multiple regression\n",
        "-   Simple regression\n",
        "-   Data analysis and introduction\n",
        "\n",
        "### Outcomes\n",
        "\n",
        "In this worksheet, you will learn:\n",
        "\n",
        "-   How to incorporate interaction terms into a regression analysis\n",
        "-   How to interpret models with interaction terms\n",
        "-   How to create models which include non-linear terms\n",
        "-   How to compute simple marginal effects for models with non-linear\n",
        "    terms\n",
        "-   How to explain polynomial regressions as approximations to a\n",
        "    non-linear regression function\n",
        "\n",
        "### References\n",
        "\n",
        "-   Statistics Canada, Survey of Financial Security, 2019, 2021.\n",
        "    Reproduced and distributed on an “as is” basis with the permission\n",
        "    of Statistics Canada. Adapted from Statistics Canada, Survey of\n",
        "    Financial Security, 2019, 2021. This does not constitute an\n",
        "    endorsement by Statistics Canada of this product.\n",
        "\n",
        "-   Stargazer package is due to: Hlavac, Marek (2022). stargazer:\n",
        "    Well-Formatted Regression and Summary Statistics Tables. R package\n",
        "    version 5.2.3.\n",
        "    https://cran.r-project.org/web/packages/stargazer/index.html"
      ],
      "id": "da79d9cc-37b9-483a-a629-f0b8f0c8f4ca"
    },
    {
      "cell_type": "code",
      "execution_count": null,
      "metadata": {},
      "outputs": [],
      "source": [
        "library(tidyverse)\n",
        "library(haven)\n",
        "library(dplyr)\n",
        "library(scales)\n",
        "library(stargazer)\n",
        "library(car)\n",
        "\n",
        "source(\"intermediate_interactions_and_nonlinear_terms_functions.r\")\n",
        "source(\"intermediate_interactions_and_nonlinear_terms_tests.r\")\n",
        "\n",
        "SFS_data <- read_dta(\"../datasets_intermediate/SFS_2019_Eng.dta\")\n",
        "SFS_data <- clean_up_data()"
      ],
      "id": "166e963b-339c-43b5-a142-8fb296335262"
    },
    {
      "cell_type": "markdown",
      "metadata": {},
      "source": [
        "## Part 1: Interactions in Regression Models\n",
        "\n",
        "One of the most common extensions to multiple regression models is to\n",
        "include **interaction** terms. What is an interaction term? It’s\n",
        "basically a term which represents the product of two (or more) variables\n",
        "in a model.\n",
        "\n",
        "For example, if we have a dummy variable for being a female ($F_i$) and\n",
        "a dummy variable for having a university degree ($D_i$), the\n",
        "*interaction* of these two variables is the product $D_i \\times F_i$.\n",
        "This can seem complicated, but it also has a simple interpretation: it\n",
        "is now a dummy for being *both* a female and having a university degree.\n",
        "You can see why this is true:\n",
        "\n",
        "$$ \n",
        "D_i \\times F_i = 1 \\iff D_i = 1 \\text{ and } F_i = 1\n",
        "$$\n",
        "\n",
        "This is why these terms are so important for understanding regressions:\n",
        "they provide us with a simple way to describe and study how\n",
        "*combinations* of our explanatory variables impact our model. These\n",
        "variables enter into our regression models in exactly the same way as\n",
        "usual:\n",
        "\n",
        "$$\n",
        "Y_i = \\beta_0 + \\beta_1 F_i + \\beta_2 D_i + \\beta_3 D_i \\times F_i + \\epsilon_i\n",
        "$$\n",
        "\n",
        "At this point, you can see that this is just a multiple regression\n",
        "model - the only difference is that one of the variables is a\n",
        "combination of the other variables. From an estimation perspective,\n",
        "there’s no issue - you can use OLS to estimate a model with interaction\n",
        "terms, just like simple regressions. However, as we have seen, there are\n",
        "important differences when it comes to the *interpretation* of these\n",
        "models. Let’s learn more about this in this worksheet.\n",
        "\n",
        "There are (in general) two ways to create interactions in R: (i)\n",
        "manually (i.e. creating a new variable which is $D_i \\times F_i$ then\n",
        "adding it to the regression), or (ii) using the built-in tools in R.\n",
        "However, method (i) is a trap! You should never use this method. Why?\n",
        "There are two reasons:\n",
        "\n",
        "1.  The main reason is that R (and you, the analyst) lose track of the\n",
        "    relationship between the created interaction variable and the\n",
        "    underlying variables. This means that you can’t use other tools to\n",
        "    analyze this relationship (there are many packages such as `margins`\n",
        "    which allow you to investigate complex interactions) which is a big\n",
        "    loss. You also can’t perform post-regression analysis on the\n",
        "    underlying variables in a simple way anymore.\n",
        "2.  The second reason is that it’s easy to make mistakes. You might\n",
        "    define the interaction incorrectly (possible!). However, it’s more\n",
        "    of an issue if later on you change the underlying variables and then\n",
        "    forget to re-compute the interactions. It also makes your code\n",
        "    harder to read.\n",
        "\n",
        "Bottom line: don’t do it. Interactions in R are easy to create: you\n",
        "simply use the `:` or `*` operator when defining an interaction term.\n",
        "\n",
        "-   The `:` operator creates the interaction(s) of the two variables in\n",
        "    question\n",
        "-   The `*` operation creates the interactions(s) *and* the main effects\n",
        "    of the variables as well\n",
        "\n",
        "Even better: if you are interacting two qualitative (factor) variables,\n",
        "it will automatically “expand” the interaction into every possible\n",
        "combination of the variables. A lot less work!\n",
        "\n",
        "For example, let’s look at a regression model which interacts gender and\n",
        "education. Before we run regression, let’s first summarize education\n",
        "into ‘university’ and ‘non-university’."
      ],
      "id": "9fde5a4d-ae95-4a22-ab2d-f3dc54ab10d2"
    },
    {
      "cell_type": "code",
      "execution_count": null,
      "metadata": {},
      "outputs": [],
      "source": [
        "SFS_data <- SFS_data %>% # creates a Education dummy variable\n",
        "               mutate( \n",
        "               Education = case_when(\n",
        "                     education == \"University\" ~ \"University\", # the ~ separates the original from the new name\n",
        "                     education == \"Non-university post-secondary\" ~ \"Non-university\",\n",
        "                     education == \"High school\" ~ \"Non-university\",\n",
        "                     education == \"Less than high school\" ~ \"Non-university\")) %>%\n",
        "             mutate(Education = as_factor(Education)) # remember, it's a factor!"
      ],
      "id": "dabe4064-9f77-44c8-84d0-43237cd8fa40"
    },
    {
      "cell_type": "code",
      "execution_count": null,
      "metadata": {},
      "outputs": [],
      "source": [
        "regression1 <- lm(wealth ~ gender + Education + gender:Education, data = SFS_data)\n",
        "\n",
        "# regression1 <- lm(wealth ~ gender*Education, data = SFS_data) # an alternative way to run the same regression\n",
        "\n",
        "summary(regression1)"
      ],
      "id": "b8f0c9a9-22b7-42ed-9371-e260bae9ef43"
    },
    {
      "cell_type": "markdown",
      "metadata": {},
      "source": [
        "There are a few important things to notice about this regression result.\n",
        "First, take a close look at the terms:\n",
        "\n",
        "-   `genderFemale` this is the main effect for being a female. You\n",
        "    *might* immediately say that this is the impact of being a female -\n",
        "    but this is *not true*. Why? Because female shows up in two places!\n",
        "    We have to be a little more careful - this is the effect of being a\n",
        "    female in the base group (non-university)\n",
        "-   `genderFemale:EducationUniversity` this is the interaction effect of\n",
        "    being a female and having a university degree. Basically, family\n",
        "    with female (university degree) as main earner accumulates\n",
        "    $143,396 + 324,112 = 467,508$ less wealth, compared with male\n",
        "    counterpart.\n",
        "\n",
        "You can see this interpretation in the regression model itself:\n",
        "\n",
        "$$\n",
        "W_i = \\beta_0 + \\beta_1 F_i + \\beta_2 D_i + \\beta_3 F_i \\times D_i + \\epsilon_i\n",
        "$$\n",
        "\n",
        "Consider:\n",
        "\n",
        "$$\n",
        "\\frac{\\Delta W_i}{\\Delta F_i} = \\beta_1 + \\beta_3 D_i\n",
        "$$\n",
        "\n",
        "The marginal effect of being a female-lead household *changes* depending\n",
        "on what the value of $D_i$ is! For non-university degree (the level\n",
        "where $D_i = 0$) it’s $\\beta_1$. For university degree (the level where\n",
        "$D_i =1$), it’s $\\beta_1 + \\beta_3$. This is why, in an interaction\n",
        "model, it doesn’t really make sense to talk about the “effect of\n",
        "female” - because there isn’t a single, immutable effect. It is\n",
        "different for different education degrees!\n",
        "\n",
        "You can talk about the *average* effect, which is just\n",
        "$\\beta_1 + \\beta_3 \\bar{D_i}$ - but that’s not really what people are\n",
        "asking about when they are discussing the gender effect, in general.\n",
        "\n",
        "This is why it’s very important to carefully think about a regression\n",
        "model with interaction terms - the model may seem simple to estimate,\n",
        "but the interpretation is more complex.\n",
        "\n",
        "### Interactions with Continuous Variables\n",
        "\n",
        "So far, we have just looked at interacting qualitative variables - but\n",
        "you can interact any types of variables!\n",
        "\n",
        "-   Qualitative-Qualitative\n",
        "-   Qualitative-Quantitative\n",
        "-   Quantitative-Quantitative\n",
        "\n",
        "The format and syntax in R is similar, with some small exceptions to\n",
        "deal with certain combinations of variables. However (again), you do\n",
        "need to be careful with interpretation.\n",
        "\n",
        "For example, let’s look at the interaction of income and sex on wealth.\n",
        "In a regression equation, this would be expressed like:\n",
        "\n",
        "$$\n",
        "W_i = \\beta_0  + \\beta_1 Income_i + \\beta_2 F_i + \\beta_3 Income_i \\times F_i + \\epsilon_i\n",
        "$$\n",
        "\n",
        "Notice that, just like before:\n",
        "\n",
        "$$\n",
        "\\frac{\\partial W_i}{\\partial Income_i} = \\beta_1 + \\beta_3 F_i\n",
        "$$\n",
        "\n",
        "There are two *different* “slope” coefficients; basically, male and\n",
        "female lead family can have a different return to wealth. Let’s see this\n",
        "in R:"
      ],
      "id": "3dc7cbdb-7ee0-41a1-98e2-18fa85355e0a"
    },
    {
      "cell_type": "code",
      "execution_count": null,
      "metadata": {},
      "outputs": [],
      "source": [
        "regression2 <- lm(wealth ~ income_before_tax + gender + income_before_tax:gender, data = SFS_data)\n",
        "\n",
        "summary(regression2)"
      ],
      "id": "6802a72d-e18c-4687-aaf8-b65d7c74f13e"
    },
    {
      "cell_type": "markdown",
      "metadata": {},
      "source": [
        "As we can see here, the female-lead households in our model accumulate\n",
        "about 3.946 dollars more in wealth per dollar of income earned than\n",
        "male-lead respondents. But female-lead households accumulate 343,300\n",
        "dollars less than male counterparts. So the overall effects depend on\n",
        "average income before tax.\n",
        "\n",
        "This addresses the common problem of estimating a regression model where\n",
        "you think the impact of a continuous variable might be different across\n",
        "the two groups. One approach would be to run the model only for men, and\n",
        "only for women, and then compare - but this isn’t a good idea. Those\n",
        "regressions have a much smaller sample size, and if you have other\n",
        "controls in the model, you will “throw away” information. The\n",
        "interaction method is much better.\n",
        "\n",
        "## Part 2: Non-linear Terms in Regression Models\n",
        "\n",
        "You might have been puzzled by why these models were called “linear”\n",
        "regressions. The reason is because they are linear in the\n",
        "*coefficients*: the dependent variable is expressed as a linear\n",
        "combination of the explanatory variables.\n",
        "\n",
        "This implies that we can use the same methods (OLS) to estimate models\n",
        "that including linear combinations of *non-linear functions* of the\n",
        "explanatory variables. We have actually already seen an example of this:\n",
        "remember using `log` of a variable? That’s a non-linear function!\n",
        "\n",
        "As we learned when considering `log`, the most important difference here\n",
        "is again regarding interpretations, not the actual estimation.\n",
        "\n",
        "In R, there is one small complication: when you want to include\n",
        "mathematical expressions in a model formula, you need to “isolate” then\n",
        "using the `I()` function. This is because many operations in R, like `+`\n",
        "or `*` have a special meaning in a regression model.\n",
        "\n",
        "For example, let’s consider a quadratic regression - that is, including\n",
        "both $Income_i$ and $Income_i^2$ (income squared) in our model."
      ],
      "id": "81eae3ab-4160-481c-bc53-66153715daae"
    },
    {
      "cell_type": "code",
      "execution_count": null,
      "metadata": {},
      "outputs": [],
      "source": [
        "regression3 <- lm(wealth ~ income_before_tax + I(income_before_tax^2), data = SFS_data)\n",
        "\n",
        "summary(regression3)"
      ],
      "id": "6e226652-7793-4f7c-8816-807eac72a667"
    },
    {
      "cell_type": "markdown",
      "metadata": {},
      "source": [
        "As you can see, we get regression results much like we would expect.\n",
        "However, how do we interpret them? The issue is that *income* enters\n",
        "into two places. We need to carefully interpret this model, using our\n",
        "knowledge of the equation:\n",
        "\n",
        "$$\n",
        "W_i = \\beta_0 + \\beta_1 Income_i + \\beta_2 Income_i^2 + \\epsilon_i\n",
        "$$\n",
        "\n",
        "$$\n",
        "\\implies \\frac{\\partial W_i}{\\partial Income_i} = \\beta_1 + 2 \\beta_2 Income_i\n",
        "$$\n",
        "\n",
        "You will notice something special about this; the marginal effect is\n",
        "*non-linear*. As $Income_i$ changes, the effect of income on $W_i$\n",
        "changes. This is because we have estimated a quadratic relationship; the\n",
        "slope of a quadratic changes as the explanatory variable changes. That’s\n",
        "what we’re seeing here!\n",
        "\n",
        "This makes these models relatively difficult to interpret, since the\n",
        "marginal effects change (often dramatically) as the explanatory\n",
        "variables change. You frequently need to carefully interpret the model\n",
        "and often (to get estimates) perform tests on *combinations* of\n",
        "coefficients, which can be done using things like the `car` package or\n",
        "the `lincom` function. You can also compute this manually, using the\n",
        "formula for the sum of variances.\n",
        "\n",
        "For example, let’s test if the marginal effect of income is significant\n",
        "at $Income_i = \\overline{Income}_i$. This is the most frequently\n",
        "reported version of this effects, often called the “marginal effect at\n",
        "the means”."
      ],
      "id": "3187fe8d-0eea-4435-8b95-b0a7e22e10b1"
    },
    {
      "cell_type": "code",
      "execution_count": null,
      "metadata": {},
      "outputs": [],
      "source": [
        "m <- mean(SFS_data$income_before_tax)\n",
        "\n",
        "linearHypothesis(regression3, hypothesis.matrix = c(0, 1, 2*m), rhs=0) "
      ],
      "id": "a56e071f-1aeb-4387-adc3-f70135cacac7"
    },
    {
      "cell_type": "markdown",
      "metadata": {},
      "source": [
        "As we can see, it is highly significant\n",
        "\n",
        "> **Think Deeper**: what is the vector `c(0, 1, 2*m)` doing in the above\n",
        "> expression?\n",
        "\n",
        "Let’s see exactly what those values are. Recall the formula:\n",
        "\n",
        "$$\n",
        "V(aX + bY) = a^2 V(X) + b^2 V(Y) + 2abCov(X,Y)\n",
        "$$\n",
        "\n",
        "In our situation, $X = Y = W_i$, so this is:\n",
        "\n",
        "$$\n",
        "V(\\beta_1 + 2\\bar{W_i}\\beta_2) = V(\\beta_1) + 4\\bar{W_i}^2V(\\beta_2) + 2(2\\bar{W_i})Cov(\\beta_1,\\beta_2)\n",
        "$$\n",
        "\n",
        "Fortunately, these are all things we have from the regression and its\n",
        "variance-covariance matrix:"
      ],
      "id": "a53c646e-99ca-435e-86a5-67a46c6d74fa"
    },
    {
      "cell_type": "code",
      "execution_count": null,
      "metadata": {},
      "outputs": [],
      "source": [
        "v <- vcov(regression3)\n",
        "coefs <- regression3$coefficients\n",
        "v\n",
        "\n",
        "var <- v[2,2] + 4*(m^2)*v[3,3] + 4*m*v[3,2]\n",
        "\n",
        "var\n",
        "\n",
        "coef <-  coefs[[2]] + 2*m*coefs[[3]]\n",
        "\n",
        "print(\"Coefficent Combination and SD\")\n",
        "round(coef,3)\n",
        "round(sqrt(var),3)"
      ],
      "id": "1bce846c-6e99-4b07-867b-c2babb7346b2"
    },
    {
      "cell_type": "markdown",
      "metadata": {},
      "source": [
        "As you can see, this gets fairly technical and is not something you will\n",
        "want to do without a very good reason. In general, it’s a better idea to\n",
        "rely on some of the packages written for R that handle this task for the\n",
        "(specific) model you are interested in evaluating.\n",
        "\n",
        "### Aside: Why Polynomial Terms?\n",
        "\n",
        "You might be wondering why econometricians spend so much time talking\n",
        "about models that included polynomial terms, when those are\n",
        "(realistically) a very small set of the universe of possible functions\n",
        "of an explanatory variable (you already know why we talk about `log` so\n",
        "much!).\n",
        "\n",
        "The reason is actually approximation. Consider the following\n",
        "*non-linear* model:\n",
        "\n",
        "$$\n",
        "Y_i = f(X_i) + e_i\n",
        "$$\n",
        "\n",
        "This model is truly non-linear (and not just in terms of the\n",
        "parameters). How can we estimate this model? It’s hard! There are\n",
        "techniques to estimate complex models like this, but how far can we get\n",
        "with good-old OLS? The answer is - provided that $f$ is “smooth” -\n",
        "pretty far.\n",
        "\n",
        "Think back to introductory calculus; you might remember a theorem called\n",
        "[Taylor’s Theorem](https://en.wikipedia.org/wiki/Taylor%27s_theorem). It\n",
        "says that a smoothly differentiable function can be arbitrarily\n",
        "well-approximated (about a point) by a polynomial expansion:\n",
        "\n",
        "$$\n",
        "f(x) = f(a) + f'(a)(x-a) + \\frac{f''(a)}{2!}(x-a)^2 + \\cdots + \\frac{f^{(k)}(a)}{k!}(x-a)^k + R_k(x)\n",
        "$$\n",
        "\n",
        "and the error term $R_k(x) \\to 0$ as $x \\to a$ and $k \\to \\infty$.\n",
        "\n",
        "Look closely at this expression. Most of the terms (like $f'(a)$) are\n",
        "constants. In fact, you can show that this can be written like:\n",
        "\n",
        "$$\n",
        "f(x) = \\beta_0 + \\beta_1 x + \\beta_2 x^2 + \\cdots + \\beta_k x^k + r\n",
        "$$\n",
        "\n",
        "Putting this into our expression above gives us the relationship:\n",
        "\n",
        "$$\n",
        "Y_i = \\beta_0 + \\beta_1 X_i + \\beta_2 X_i^2 + \\cdots + \\beta_k X_i^k+ \\epsilon_i\n",
        "$$\n",
        "\n",
        "Which is a linear regression model! What this say is actually very\n",
        "important: linear regression models can be viewed as *approximations* to\n",
        "nonlinear regressions, provided we have enough polynomial terms. This is\n",
        "one complication: the error term is definitely not uncorrelated. You can\n",
        "learn more about how to address this issue in other courses, but at the\n",
        "most the omitted variable bias is relatively small as $k \\to \\infty$.\n",
        "\n",
        "## Part 3: Exercises\n",
        "\n",
        "This section has both written and coding exercises for you to test your\n",
        "knowledge about interactions and non-linear terms in regression models.\n",
        "The answers to the written exercises are on the last section of the\n",
        "notebook.\n",
        "\n",
        "### Questions\n",
        "\n",
        "Consider the following regression model:\n",
        "\n",
        "$$\n",
        "\\begin{equation}\n",
        "W_i = \\beta_1 + \\beta_2 F_i + \\beta_3 E_i + \\beta_4 P_i + \\beta_5 F_i\\times E_i + \\beta_6 F_i \\times P_i + \\epsilon_i\n",
        "\\end{equation}\n",
        "$$\n",
        "\n",
        "where\n",
        "\n",
        "-   $W_i$ denotes wealth\n",
        "-   $F_i$ is a dummy variable for the gender of main earner in the\n",
        "    household ($F_i=1$ if female is the main earner)\n",
        "-   $E_i$ is a factor variable for education\n",
        "-   $P_i$ is a factor variable for province\n",
        "\n",
        "1.  How should we interpret the coefficients $\\beta_5$ and $\\beta_6$?\n",
        "    Why might these effects be important to estimate?"
      ],
      "id": "f7d55613-3f8f-4c89-abb9-a84b5380ef06"
    },
    {
      "cell_type": "raw",
      "metadata": {
        "raw_mimetype": "text/html"
      },
      "source": [
        "<details>"
      ],
      "id": "528cc8fd-c553-45da-91f0-5f12a3423d90"
    },
    {
      "cell_type": "raw",
      "metadata": {
        "raw_mimetype": "text/html"
      },
      "source": [
        "<summary>"
      ],
      "id": "e1716235-cab0-4e00-a89a-25955a45d7a3"
    },
    {
      "cell_type": "markdown",
      "metadata": {},
      "source": [
        "Show/Hide Solution"
      ],
      "id": "37bb1a6b-32ad-4498-a28e-5239b56c5b63"
    },
    {
      "cell_type": "raw",
      "metadata": {
        "raw_mimetype": "text/html"
      },
      "source": [
        "</summary>"
      ],
      "id": "a62e2986-b7b0-4afd-84a2-da9679af20ee"
    },
    {
      "cell_type": "markdown",
      "metadata": {},
      "source": [
        "$\\beta_5$ is the difference of ‘value-added’ of education between\n",
        "female-lead household and male-lead household. $\\beta_6$ is the\n",
        "difference of province effects between female-lead household and\n",
        "male-lead household.\n",
        "\n",
        "These interaction terms provide us with a simple way to describe and\n",
        "study how *combinations* of our explanatory variables impact our model.\n",
        "With these interaction terms, we can understand how education and\n",
        "geography affect wealth of male-lead and female-lead households\n",
        "differently."
      ],
      "id": "287a6404-8f3e-43bf-9e24-bdc259ad6f21"
    },
    {
      "cell_type": "raw",
      "metadata": {
        "raw_mimetype": "text/html"
      },
      "source": [
        "</details>"
      ],
      "id": "f5dac851-b2d2-4cba-99b3-fec2f0724978"
    },
    {
      "cell_type": "markdown",
      "metadata": {},
      "source": [
        "Now, let’s estimate the model and interpret it concretely. (Please\n",
        "follow the order of variables in regression model):\n",
        "\n",
        "    reg1 <- gender, Education, province\n",
        "\n",
        "    reg0 <- gender, education, province\n",
        "\n",
        "What are your interaction variables? (remember to follow the same order)"
      ],
      "id": "234ca8ec-95a1-4ae8-ada8-b8ab1bbcee15"
    },
    {
      "cell_type": "code",
      "execution_count": null,
      "metadata": {},
      "outputs": [],
      "source": [
        "reg0 <- lm(???, data = SFS_data)\n",
        "\n",
        "reg1 <- lm(???, data = SFS_data)\n",
        "\n",
        "summary(reg0)\n",
        "summary(reg1)\n",
        "\n",
        "test_1()\n",
        "test_2()"
      ],
      "id": "39cef6fa-759e-44e1-9567-1d18184d6558"
    },
    {
      "cell_type": "markdown",
      "metadata": {},
      "source": [
        "1.  How do we interpret the coefficient estimate on `gender:Education`?\n",
        "    What education level do female-lead households appear to be most\n",
        "    discriminated in? How might we explain this intuitively?"
      ],
      "id": "fe3a6dcb-022a-4b36-a0ab-d7190bb626a0"
    },
    {
      "cell_type": "raw",
      "metadata": {
        "raw_mimetype": "text/html"
      },
      "source": [
        "<details>"
      ],
      "id": "daf8ceec-0558-4f8f-8a4b-194c8ffa089d"
    },
    {
      "cell_type": "raw",
      "metadata": {
        "raw_mimetype": "text/html"
      },
      "source": [
        "<summary>"
      ],
      "id": "823b1a9f-cc14-40c1-a092-82818ba18e28"
    },
    {
      "cell_type": "markdown",
      "metadata": {},
      "source": [
        "Show/Hide Solution"
      ],
      "id": "0b8137a8-3897-4462-9641-08071ce82ba7"
    },
    {
      "cell_type": "raw",
      "metadata": {
        "raw_mimetype": "text/html"
      },
      "source": [
        "</summary>"
      ],
      "id": "1146e3f9-c119-4d26-8772-170b46e97e8c"
    },
    {
      "cell_type": "markdown",
      "metadata": {},
      "source": [
        "It means if the main earner is a female with a university degree, the\n",
        "household accumulates 302,008 dollars less wealth, than the male\n",
        "counterpart. University degree holders are most discriminated, because\n",
        "$|\\hat{\\beta_5}|$ is higher than $|\\hat{\\beta_2}|$.\n",
        "\n",
        "One possible explanation is that males with university degree are more\n",
        "likely to become managers or other higher level employees than females.\n",
        "The inequality in incomes lead to the inequality in wealth."
      ],
      "id": "b314cf8d-ae10-4f61-ad63-751461c1284d"
    },
    {
      "cell_type": "raw",
      "metadata": {
        "raw_mimetype": "text/html"
      },
      "source": [
        "</details>"
      ],
      "id": "a731e073-95c9-4495-802e-7e9be8ba6301"
    },
    {
      "cell_type": "markdown",
      "metadata": {},
      "source": [
        "1.  How do you interpret the coefficient estimate on\n",
        "    `genderFemale:provinceAlberta`? (Hint: Write out the average wealth\n",
        "    equations for female, male in Alberta, and female in Alberta\n",
        "    separately.)"
      ],
      "id": "a3170ce1-5018-4108-be03-f4a9b06a9d3c"
    },
    {
      "cell_type": "raw",
      "metadata": {
        "raw_mimetype": "text/html"
      },
      "source": [
        "<details>"
      ],
      "id": "73b37dc9-9b5f-4893-91ec-ac5267bd3a0b"
    },
    {
      "cell_type": "raw",
      "metadata": {
        "raw_mimetype": "text/html"
      },
      "source": [
        "<summary>"
      ],
      "id": "90fae8f0-6acb-43d9-bce8-39efca219a20"
    },
    {
      "cell_type": "markdown",
      "metadata": {},
      "source": [
        "Show/Hide Solution"
      ],
      "id": "b064c8aa-e998-4613-b6ab-c8fcc19d13f5"
    },
    {
      "cell_type": "raw",
      "metadata": {
        "raw_mimetype": "text/html"
      },
      "source": [
        "</summary>"
      ],
      "id": "433322b1-e97e-478a-8332-ac87e4ce45ab"
    },
    {
      "cell_type": "markdown",
      "metadata": {},
      "source": [
        "Average wealth for female-lead family:\n",
        "$E[wealth|female]=\\beta_{1}+\\beta_{2}=455918-87277$\n",
        "\n",
        "Average wealth for male-lead family in Alberta:\n",
        "$E[wealth|male,Alberta]=\\beta_{1}+\\beta_{4,Alberta}=455918+502683$\n",
        "\n",
        "Average wealth for female-lead family in Alberta:\n",
        "$E[wealth|female,Alberta]=\\beta_{1}+\\beta_{2}+\\beta_{4,Alberta}+\\beta_{6,Alberta}=455918-87277+502683-105798$\n",
        "\n",
        "Thus $\\beta_{6,Alberta}$ is the difference of wealth when living in\n",
        "Alberta between female-lead household and male-lead household."
      ],
      "id": "d583b528-15b4-40e1-b538-c8d088fcb3e0"
    },
    {
      "cell_type": "raw",
      "metadata": {
        "raw_mimetype": "text/html"
      },
      "source": [
        "</details>"
      ],
      "id": "5bf842c8-8772-4eca-9263-f19678f93b89"
    },
    {
      "cell_type": "markdown",
      "metadata": {},
      "source": [
        "Now let’s test whether the returns to education increase if people are\n",
        "entrepreneurs. `business` is a factor variable which suggests whether\n",
        "the household owns a business. Please add terms to the regression\n",
        "equation that allow us to run this test. Then, estimate this new model.\n",
        "We don’t need `province` and `gender` variables in this exercise. For\n",
        "education, please use `education` variable. And we will continue to\n",
        "study wealth accumulated in households."
      ],
      "id": "47f70c2e-5dfd-4c46-b384-a3ddec3515c3"
    },
    {
      "cell_type": "code",
      "execution_count": null,
      "metadata": {},
      "outputs": [],
      "source": [
        "SFS_data$business <- relevel(SFS_data$business, ref = \"No\") # co not change; makes \"not a business owner\" the reference level for business\n",
        "\n",
        "reg2 <- lm(???, data = SFS_data)\n",
        "\n",
        "summary(reg2)\n",
        "test_3()"
      ],
      "id": "cc651a09-629e-4a35-8417-3b46af5ea063"
    },
    {
      "cell_type": "markdown",
      "metadata": {},
      "source": [
        "1.  Do returns to education increase when people are entrepreneurs?\n",
        "    Explain why or why not with reference to the regression estimates."
      ],
      "id": "b2ccd407-fdc4-4b3b-aa8a-9b8f300ad74a"
    },
    {
      "cell_type": "raw",
      "metadata": {
        "raw_mimetype": "text/html"
      },
      "source": [
        "<details>"
      ],
      "id": "ec305c6c-1b1c-4577-821c-0e4136b4109f"
    },
    {
      "cell_type": "raw",
      "metadata": {
        "raw_mimetype": "text/html"
      },
      "source": [
        "<summary>"
      ],
      "id": "a65f49bf-4d78-49c3-bb20-f4ac1e02dbf0"
    },
    {
      "cell_type": "markdown",
      "metadata": {},
      "source": [
        "Show/Hide Solution"
      ],
      "id": "5148b6b0-a038-4138-b8c7-f9ff0aa807ee"
    },
    {
      "cell_type": "raw",
      "metadata": {
        "raw_mimetype": "text/html"
      },
      "source": [
        "</summary>"
      ],
      "id": "09f56f57-814c-45c4-9d38-cd69b77db855"
    },
    {
      "cell_type": "markdown",
      "metadata": {},
      "source": [
        "From the above results of regression, owning a business increases 1.29\n",
        "million dollars wealth on average. But the estimates of returns to\n",
        "education for being an entrepreneur or not is not significant. Thus we\n",
        "cannot conclude how education will affect the returns of entrepreneurs."
      ],
      "id": "9d4d1b53-5601-458b-888b-5b0d4e7e44ce"
    },
    {
      "cell_type": "raw",
      "metadata": {
        "raw_mimetype": "text/html"
      },
      "source": [
        "</summary>"
      ],
      "id": "b0b2633e-437b-4caf-8261-87fd583d1143"
    },
    {
      "cell_type": "markdown",
      "metadata": {},
      "source": [
        "A topic that many labour economists are concerned with, and one that we\n",
        "have discussed before, is the gender-wage gap. In this activity, we will\n",
        "construct a “difference-in-difference” regression to explore this gap\n",
        "using the `SFS_data2`.\n",
        "\n",
        "Suppose that we want to estimate the relationship between age, sex and\n",
        "wages. Within this relationship, we suspect that women earn less than\n",
        "men from the beginning of their working lives, ***but this gap does not\n",
        "change as workers age***.\n",
        "\n",
        "Estimate a regression model (with no additional control variables) that\n",
        "estimates this relationship using `SFS_data2`. We will use\n",
        "`income_before_tax` variable. Order: list `gender` before `agegr`.\n",
        "\n",
        "Tested Objects: `reg3A`\n",
        "\n",
        "Let’s first simplify levels of age group using following codes."
      ],
      "id": "8ffd6b54-4780-4f38-8da0-1878c5249ef0"
    },
    {
      "cell_type": "code",
      "execution_count": null,
      "metadata": {},
      "outputs": [],
      "source": [
        "# some data cleaning - just run this!\n",
        "SFS_data <- \n",
        "        SFS_data %>%\n",
        "        mutate(agegr = case_when(\n",
        "              age == \"01\" ~ \"Under 30\", #under 20\n",
        "              age == \"02\" ~ \"Under 30\", #20-24\n",
        "              age == \"03\" ~ \"20s\", #25-29\n",
        "              age == \"04\" ~ \"30s\",\n",
        "            age == \"05\" ~ \"30s\",\n",
        "              age == \"06\" ~ \"40s\",\n",
        "              age == \"07\" ~ \"40s\",\n",
        "              age == \"08\" ~ \"50s\",\n",
        "              age == \"09\" ~ \"50s\",\n",
        "              age == \"10\" ~ \"60s\", #60-64\n",
        "              age == \"11\" ~ \"Above 65\", #65-69\n",
        "              age == \"12\" ~ \"Above 65\", #70-74\n",
        "              age == \"13\" ~ \"Above 75\", #75-79\n",
        "              age == \"14\" ~ \"Above 75\", #80 and above\n",
        "              )) %>%\n",
        "        mutate(agegr = as_factor(agegr))\n",
        "\n",
        "SFS_data$agegr <- relevel(SFS_data$agegr, ref = \"Under 30\") #Set \"Under 30\" as default factor level"
      ],
      "id": "dd7d7f54-d39b-425d-a3c8-4ca6d6317692"
    },
    {
      "cell_type": "markdown",
      "metadata": {},
      "source": [
        "Let’s restrict the sample to main working groups. Just run the following\n",
        "line."
      ],
      "id": "de18236e-7204-45d2-a606-3bd55d0015e9"
    },
    {
      "cell_type": "code",
      "execution_count": null,
      "metadata": {},
      "outputs": [],
      "source": [
        "SFS_data2 <- subset(SFS_data, agegr == \"20s\" | agegr == \"30s\" | agegr == \"40s\" | agegr == \"50s\" | agegr == \"60s\" )"
      ],
      "id": "fe53d6f3-8dd6-47fc-a60a-881e4deec20a"
    },
    {
      "cell_type": "code",
      "execution_count": null,
      "metadata": {},
      "outputs": [],
      "source": [
        "SFS_data2$agegr <- relevel(SFS_data2$agegr, ref = \"20s\") # do not change; makes \"20s\" the reference level for age\n",
        "\n",
        "reg3A <- lm(???, data = SFS_data2)\n",
        "\n",
        "summary(reg3A)\n",
        "\n",
        "test_4() "
      ],
      "id": "9e461de5-8e0a-4519-ae33-5a43ad6c6305"
    },
    {
      "cell_type": "markdown",
      "metadata": {},
      "source": [
        "1.  What is the relationship between age and wages? Between sex and\n",
        "    earnings? Is there a significant wage gap? Why might the regression\n",
        "    above not give us the “full picture” of the sex wage gap?"
      ],
      "id": "7f008c10-1b7f-4b2c-8134-bc7fc48f277d"
    },
    {
      "cell_type": "raw",
      "metadata": {
        "raw_mimetype": "text/html"
      },
      "source": [
        "<details>"
      ],
      "id": "a57419f2-0e28-4657-97dd-542cfc885ed8"
    },
    {
      "cell_type": "raw",
      "metadata": {
        "raw_mimetype": "text/html"
      },
      "source": [
        "<summary>"
      ],
      "id": "42e85bb5-65a0-4c3e-a5b6-4513c89a53a1"
    },
    {
      "cell_type": "markdown",
      "metadata": {},
      "source": [
        "Show/Hide Solution"
      ],
      "id": "b028cf41-1e96-4adc-a981-4ba9a9f303d7"
    },
    {
      "cell_type": "raw",
      "metadata": {
        "raw_mimetype": "text/html"
      },
      "source": [
        "</summary>"
      ],
      "id": "b172fb68-4b34-4690-879b-e23a9d932810"
    },
    {
      "cell_type": "markdown",
      "metadata": {},
      "source": [
        "Income before tax of households increase as main earners become older,\n",
        "and the peak arrives at their 50s. Female-lead households generally earn\n",
        "34,852 dollars less than male-lead households. This regression does not\n",
        "provide us the “full picture” of sex wage gap, because the gender gap\n",
        "may change when people age."
      ],
      "id": "769e0d73-92c4-4e35-a97d-c390195598c7"
    },
    {
      "cell_type": "raw",
      "metadata": {
        "raw_mimetype": "text/html"
      },
      "source": [
        "</details>"
      ],
      "id": "c2fb0588-c16c-47e6-a564-5fb4a1a096f2"
    },
    {
      "cell_type": "markdown",
      "metadata": {},
      "source": [
        "Now, estimate the relationship between wages and age for male-lead\n",
        "households and female-lead households separately, then compare their\n",
        "returns to age. Let’s continue to use `income_before_tax`\n",
        "\n",
        "Tested objects: `reg3M` (for males), `reg3F` (for females)."
      ],
      "id": "31eb5ae1-136e-4dcf-aa89-c4e977d998bc"
    },
    {
      "cell_type": "code",
      "execution_count": null,
      "metadata": {},
      "outputs": [],
      "source": [
        "reg3M <- lm(..., data = filter(SFS_data2, gender == \"Male\"))\n",
        "reg3F <- lm(..., data = filter(SFS_data2, gender == \"Female\"))\n",
        "\n",
        "summary(reg3M)\n",
        "summary(reg3F)\n",
        "\n",
        "test_5()\n",
        "test_6() "
      ],
      "id": "c1156cfe-cc47-43aa-ab44-aef5df13d732"
    },
    {
      "cell_type": "markdown",
      "metadata": {},
      "source": [
        "1.  Do these regression estimates support your argument? Explain."
      ],
      "id": "2293adb5-60aa-4d1d-8b3a-25f469d6b3f8"
    },
    {
      "cell_type": "raw",
      "metadata": {
        "raw_mimetype": "text/html"
      },
      "source": [
        "<details>"
      ],
      "id": "499e1636-a13e-421d-a56c-4e0becd2b4bd"
    },
    {
      "cell_type": "raw",
      "metadata": {
        "raw_mimetype": "text/html"
      },
      "source": [
        "<summary>"
      ],
      "id": "2142c163-184c-4f52-849b-34e900694c71"
    },
    {
      "cell_type": "markdown",
      "metadata": {},
      "source": [
        "Show/Hide Solution"
      ],
      "id": "39951069-cbbe-4a68-b43c-8869c99d8bb6"
    },
    {
      "cell_type": "raw",
      "metadata": {
        "raw_mimetype": "text/html"
      },
      "source": [
        "</summary>"
      ],
      "id": "77971298-80b1-4f95-8019-d4427e5bf536"
    },
    {
      "cell_type": "markdown",
      "metadata": {},
      "source": [
        "Yes, these regression estimates support our hypothesis. First of all,\n",
        "for both male-lead and female-lead households, incomes increase as main\n",
        "earners become older, and the peak appears at their 50s. Second, there\n",
        "is a gender-wage gap in which female-lead households earn less. But the\n",
        "gap changes as age changes."
      ],
      "id": "9fd697b6-6a3e-4784-8f53-9032e9895581"
    },
    {
      "cell_type": "raw",
      "metadata": {
        "raw_mimetype": "text/html"
      },
      "source": [
        "</details>"
      ],
      "id": "fa162f4e-2562-4c99-80a4-e820d76c7dbb"
    },
    {
      "cell_type": "markdown",
      "metadata": {},
      "source": [
        "Add one additional term to the multiple regression that accounts for the\n",
        "possibility that the sex wage gap can change as workers age. Please list\n",
        "gender before age.\n",
        "\n",
        "Tested Objects: `reg4`."
      ],
      "id": "f6e37a3e-4024-478a-a58a-2bea50849546"
    },
    {
      "cell_type": "code",
      "execution_count": null,
      "metadata": {},
      "outputs": [],
      "source": [
        "reg4 <- lm(???, data = SFS_data2)\n",
        "\n",
        "summary(reg4)\n",
        "\n",
        "test_7() "
      ],
      "id": "95ff2534-9c66-45fa-93de-5fd3648e4895"
    },
    {
      "cell_type": "markdown",
      "metadata": {},
      "source": [
        "1.  According to the regression you estimated above, what is the nature\n",
        "    of the sex wage gap?"
      ],
      "id": "355bd32e-2813-4aa5-a544-b085402dbba0"
    },
    {
      "cell_type": "raw",
      "metadata": {
        "raw_mimetype": "text/html"
      },
      "source": [
        "<details>"
      ],
      "id": "b120691d-d479-459d-9c9a-56d4387feb16"
    },
    {
      "cell_type": "raw",
      "metadata": {
        "raw_mimetype": "text/html"
      },
      "source": [
        "<summary>"
      ],
      "id": "5bc13715-08ed-4384-bb7e-47905ff95403"
    },
    {
      "cell_type": "markdown",
      "metadata": {},
      "source": [
        "Show/Hide Solution"
      ],
      "id": "c0d7b7ac-66e9-49e2-a662-17004cbe60eb"
    },
    {
      "cell_type": "raw",
      "metadata": {
        "raw_mimetype": "text/html"
      },
      "source": [
        "</summary>"
      ],
      "id": "0fc5c649-66fa-44e5-b19b-5948dcfbd0ea"
    },
    {
      "cell_type": "markdown",
      "metadata": {},
      "source": [
        "Generally speaking, the gender-income gap increases when workers become\n",
        "older. And the gender-income gap is widest at their 40s."
      ],
      "id": "da175623-3f0f-4825-87df-79070e73b319"
    },
    {
      "cell_type": "raw",
      "metadata": {
        "raw_mimetype": "text/html"
      },
      "source": [
        "</details>"
      ],
      "id": "f02c9e24-64e4-4774-a5b0-977d52a3a536"
    },
    {
      "cell_type": "markdown",
      "metadata": {},
      "source": [
        "Now, suppose that a team of researchers is interested in the\n",
        "relationship between the price of a popular children’s chocolate brand\n",
        "(let’s call it “Jumbo Chocolate Egg”) and its demand. The team conducts\n",
        "a series of surveys over a five-year period where they ask 200\n",
        "households in a Vancouver neighborhood to report how many packs of Jumbo\n",
        "Chocolate Egg they bought in each quarter of the year. The company that\n",
        "produces Jumbo Chocolate Egg is interested in estimating the price\n",
        "elasticity of demand for their chocolate, so they changed the price of a\n",
        "pack of chocolate each quarter over this period. This survey is\n",
        "voluntary - the team went door-to-door to gather the data, and people\n",
        "could refuse to participate.\n",
        "\n",
        "After they compile a dataset from the survey responses, the team\n",
        "estimates this model:\n",
        "\n",
        "$$\n",
        "Q_i^2 = \\alpha_1 + \\alpha_2 ln(P_i) + \\alpha_3 H_i + \\epsilon_i\n",
        "$$\n",
        "\n",
        "$Q_i$ denotes the quantity of chocolate packs that household $i$\n",
        "purchased in a given quarter of a given year. That is, each quarter for\n",
        "a given household is a separate observation. $P_i$ is the price of the\n",
        "pack of chocolate in the given quarter, and $H_i$ is the household size\n",
        "(in number of people). Note that $\\hat{\\alpha_2}$ is *supposed to be*\n",
        "the estimated elasticity of demand.\n",
        "\n",
        "You join the team as a research advisor - in other words, you get to\n",
        "criticize their project and get paid doing so. Sounds great, but you\n",
        "have a lot of work ahead.\n",
        "\n",
        "1.  Are there any omitted variables that the team should be worried\n",
        "    about when estimating the model? Give 2 examples of such variables\n",
        "    if so, and explain how each variable’s omission could affect the\n",
        "    estimated elasticity of demand."
      ],
      "id": "29ed780d-20c6-4ff0-a70a-42926cefdbbb"
    },
    {
      "cell_type": "raw",
      "metadata": {
        "raw_mimetype": "text/html"
      },
      "source": [
        "<details>"
      ],
      "id": "810693dc-3371-4f69-92d2-30c1584e52fd"
    },
    {
      "cell_type": "raw",
      "metadata": {
        "raw_mimetype": "text/html"
      },
      "source": [
        "<summary>"
      ],
      "id": "c209ad94-e7fe-4b86-bd02-b43aaac76817"
    },
    {
      "cell_type": "markdown",
      "metadata": {},
      "source": [
        "Show/Hide Solution"
      ],
      "id": "ac9c4fe2-8a2e-4afc-a479-3b95c8dbf816"
    },
    {
      "cell_type": "raw",
      "metadata": {
        "raw_mimetype": "text/html"
      },
      "source": [
        "</summary>"
      ],
      "id": "b3c1a318-b1c5-4081-b2da-9e31006904a9"
    },
    {
      "cell_type": "markdown",
      "metadata": {},
      "source": [
        "There are omitted variables, for example, age of kids and a dummy\n",
        "variable which represents Christmas and New Year. Omitting Christmas and\n",
        "New Year dummy will decrease $|\\hat{\\alpha}_{2}|$, because people buy\n",
        "more chocolates during Christmas, even if price of chocolate is high.\n",
        "Controlling Christmas dummy will recover the real elasticity of demand,\n",
        "which is a larger real $|\\alpha_{2}|$.\n",
        "\n",
        "When kids are young, they tend to consume more chocolates. Thus parts of\n",
        "the variations of consumption come from ages of kids. Without\n",
        "controlling for ages, the estimated elasticity is not reliable."
      ],
      "id": "881f8351-a0d6-409b-80d4-2da33b56377a"
    },
    {
      "cell_type": "raw",
      "metadata": {
        "raw_mimetype": "text/html"
      },
      "source": [
        "</details>"
      ],
      "id": "401098ad-219d-4e91-bb07-67f9a7d9771f"
    },
    {
      "cell_type": "markdown",
      "metadata": {},
      "source": [
        "1.  Is there anything wrong with the specification of the regression\n",
        "    model? If so, explain how to correct it; if not, explain why the\n",
        "    specification is correct."
      ],
      "id": "232443c7-beda-49d8-922a-29213e7c3981"
    },
    {
      "cell_type": "raw",
      "metadata": {
        "raw_mimetype": "text/html"
      },
      "source": [
        "<details>"
      ],
      "id": "ee110651-22b5-4dc9-88e2-9cd6cd2783cd"
    },
    {
      "cell_type": "raw",
      "metadata": {
        "raw_mimetype": "text/html"
      },
      "source": [
        "<summary>"
      ],
      "id": "06b6be9d-efd5-4c43-aa26-960f627e6fbd"
    },
    {
      "cell_type": "markdown",
      "metadata": {},
      "source": [
        "Show/Hide Solution"
      ],
      "id": "34dffbd2-32c0-4e90-a769-7e41196df191"
    },
    {
      "cell_type": "raw",
      "metadata": {
        "raw_mimetype": "text/html"
      },
      "source": [
        "</summary>"
      ],
      "id": "da1823f1-3be0-4de6-ac93-bcee39270e6b"
    },
    {
      "cell_type": "markdown",
      "metadata": {},
      "source": [
        "The dependent variable should be $ln(Q_{i})$ instead of $Q_{i}^{2}$."
      ],
      "id": "25522836-7563-4aea-8e68-24bba6177686"
    },
    {
      "cell_type": "raw",
      "metadata": {
        "raw_mimetype": "text/html"
      },
      "source": [
        "</details>"
      ],
      "id": "43e1d8c3-e6d6-4f86-a1b9-063f39efb155"
    },
    {
      "cell_type": "markdown",
      "metadata": {},
      "source": [
        "1.  Is there any potential for sample selection bias in this study?\n",
        "    Explain by referencing specific aspects of the experiment. What\n",
        "    effect might this bias have on the estimated elasticity of demand?"
      ],
      "id": "8e3eedb1-7dc1-48d6-bdeb-8f366c23781a"
    },
    {
      "cell_type": "raw",
      "metadata": {
        "raw_mimetype": "text/html"
      },
      "source": [
        "<details>"
      ],
      "id": "76020742-f1d3-4faa-9367-0976d9cab774"
    },
    {
      "cell_type": "raw",
      "metadata": {
        "raw_mimetype": "text/html"
      },
      "source": [
        "<summary>"
      ],
      "id": "008315b3-065e-4f51-ac7e-8672159ab2ea"
    },
    {
      "cell_type": "markdown",
      "metadata": {},
      "source": [
        "Show/Hide Solution"
      ],
      "id": "c03ca0cf-969b-4451-92cf-6c47d4026fc4"
    },
    {
      "cell_type": "raw",
      "metadata": {
        "raw_mimetype": "text/html"
      },
      "source": [
        "</summary>"
      ],
      "id": "da53c979-9bce-4a74-8e96-de861adb75e8"
    },
    {
      "cell_type": "markdown",
      "metadata": {},
      "source": [
        "There is sample selection bias, because people could refuse to\n",
        "participate. This means people who responded might be households who\n",
        "like Jumbo Chocolate Egg brand, and the estimated elasticity\n",
        "$|\\hat{\\alpha}_{2}|$ is smaller than the real elasticity among general\n",
        "population."
      ],
      "id": "97dc1093-9596-4fdf-b253-390be6f9c896"
    },
    {
      "cell_type": "raw",
      "metadata": {
        "raw_mimetype": "text/html"
      },
      "source": [
        "</details>"
      ],
      "id": "b3f73940-ec96-4a9e-b78f-15b2e128ad78"
    },
    {
      "cell_type": "markdown",
      "metadata": {},
      "source": [
        "1.  A member of your team writes in the research report that “this\n",
        "    estimated elasticity of demand tells us about the preferences of\n",
        "    consumers around Canada.” Do you have an issue with this statement?\n",
        "    Why or why not?"
      ],
      "id": "1119f7e7-ff44-4051-aa56-52e268318576"
    },
    {
      "cell_type": "raw",
      "metadata": {
        "raw_mimetype": "text/html"
      },
      "source": [
        "<details>"
      ],
      "id": "86e8a90f-c891-4fc6-9f68-ac53343dc371"
    },
    {
      "cell_type": "raw",
      "metadata": {
        "raw_mimetype": "text/html"
      },
      "source": [
        "<summary>"
      ],
      "id": "3db6aba9-66b1-4da3-9046-c570ef3047fc"
    },
    {
      "cell_type": "markdown",
      "metadata": {},
      "source": [
        "Show/Hide Solution"
      ],
      "id": "e21574d1-8ef9-4266-8b9b-a121f281e742"
    },
    {
      "cell_type": "raw",
      "metadata": {
        "raw_mimetype": "text/html"
      },
      "source": [
        "</summary>"
      ],
      "id": "3e639b95-635c-4c0e-ac96-3ef048205b95"
    },
    {
      "cell_type": "markdown",
      "metadata": {},
      "source": [
        "The result cannot represent the whole Canada, because participants were\n",
        "from a single neighborhood in Vancouver."
      ],
      "id": "f23249af-bfae-49b0-8955-4c07bdd4bb70"
    },
    {
      "cell_type": "raw",
      "metadata": {
        "raw_mimetype": "text/html"
      },
      "source": [
        "</details>"
      ],
      "id": "d901d368-f125-4eb0-94e3-0521c8f7d09d"
    }
  ],
  "nbformat": 4,
  "nbformat_minor": 5,
  "metadata": {
    "kernelspec": {
      "name": "ir",
      "display_name": "R",
      "language": "r"
    }
  }
}