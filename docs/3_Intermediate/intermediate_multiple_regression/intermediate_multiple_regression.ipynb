{
  "cells": [
    {
      "cell_type": "markdown",
      "metadata": {},
      "source": [
        "# 2.2 - Intermediate - Multiple Regression\n",
        "\n",
        "COMET Team <br> *Emrul Hasan, Jonah Heyl, Shiming Wu, William Co,\n",
        "Jonathan Graves*  \n",
        "2022-12-08\n",
        "\n",
        "## Outline\n",
        "\n",
        "### Prerequisites\n",
        "\n",
        "-   Simple regression\n",
        "-   Introduction to R\n",
        "-   Introduction to Jupyter\n",
        "\n",
        "### Outcomes\n",
        "\n",
        "-   Understand how the theory of multiple regression models works in\n",
        "    practice\n",
        "-   Be able to estimate multiple regression models using R\n",
        "-   Interpret and explain the estimates from multiple regression models\n",
        "-   Understand the relationship between simple linear regressions and\n",
        "    multiple regressions\n",
        "-   Describe a control variable and regression relationship\n",
        "-   Explore the relationship between controls and causal interpretations\n",
        "    of regression model estimates\n",
        "\n",
        "### References\n",
        "\n",
        "-   Statistics Canada, Survey of Financial Security, 2019, 2021.\n",
        "    Reproduced and distributed on an “as is” basis with the permission\n",
        "    of Statistics Canada. Adapted from Statistics Canada, Survey of\n",
        "    Financial Security, 2019, 2021. This does not constitute an\n",
        "    endorsement by Statistics Canada of this product.\n",
        "-   Stargazer package is due to: Hlavac, Marek (2018). stargazer:\n",
        "    Well-Formatted Regression and Summary Statistics Tables. R package\n",
        "    version 5.2.2. https://CRAN.R-project.org/package=stargazer"
      ],
      "id": "851d00c5-f7b0-49ba-af21-91949dca3454"
    },
    {
      "cell_type": "code",
      "execution_count": null,
      "metadata": {},
      "outputs": [],
      "source": [
        "library(tidyverse) \n",
        "library(haven)\n",
        "library(dplyr)\n",
        "library(stargazer)\n",
        "\n",
        "source(\"intermediate_multiple_regression_functions.r\")\n",
        "source(\"intermediate_multiple_regression_tests.r\")"
      ],
      "id": "7b87cdb7-d446-4d38-9fdb-5e346276a4a5"
    },
    {
      "cell_type": "code",
      "execution_count": null,
      "metadata": {},
      "outputs": [],
      "source": [
        "SFS_data <- read_dta(\"../datasets_intermediate/SFS_2019_Eng.dta\")\n",
        "\n",
        "## massive data clean-up\n",
        "SFS_data <- clean_up_sfs(SFS_data) %>%\n",
        "            filter(!is.na(education)) # renaming things, etc.\n",
        "\n",
        "# if you want to see the cleaning code, it's in intermediate_multiple_regression_functions.r"
      ],
      "id": "bf44a498-5f1a-45f1-993a-76b5dac53ac0"
    },
    {
      "cell_type": "markdown",
      "metadata": {},
      "source": [
        "## Part 1: Introducing Multiple Regressions\n",
        "\n",
        "At this point, you are familiar with the simple regression model and its\n",
        "relationship to the comparison-of-means $t$-test. However, most\n",
        "econometric analysis don’t use simple regression. In general, economic\n",
        "data and models are far too complicated to be summarized with a single\n",
        "relationship. One of the features of most economic datasets is a\n",
        "complex, multi-dimensional relationship between different variables.\n",
        "This leads to the two key motivations for **multiple regression**:\n",
        "\n",
        "-   First, it can improve the *predictive* properties of a regression\n",
        "    model, by introducing other variables that play an important\n",
        "    econometric role in the relationship being studied.\n",
        "-   Second, it allows the econometrician to *differentiate* the\n",
        "    importance of different variables in a relationship.\n",
        "\n",
        "This second motivation is usually part of **causal analysis**: when we\n",
        "believe that our model has an interpretation as a cause-and-effect.\n",
        "\n",
        "Let’s show this in practice. Let’s plot the relationship between\n",
        "`education`, `wealth`, and `gender`.\n",
        "\n",
        "Let’s summarize education into “university” and “non-university”. Then,\n",
        "let’s calculate log wealth and filter out NaN values."
      ],
      "id": "bddd65ff-ae2c-4947-b3d3-ff4a93cb1979"
    },
    {
      "cell_type": "code",
      "execution_count": null,
      "metadata": {},
      "outputs": [],
      "source": [
        "SFS_data <- SFS_data %>% \n",
        "               mutate( \n",
        "               Education = case_when(\n",
        "                     education == \"University\" ~ \"University\", # the ~ seperates the original from the new name\n",
        "                     education == \"Non-university post-secondary\" ~ \"Non-university\",\n",
        "                     education == \"High school\" ~ \"Non-university\",\n",
        "                     education == \"Less than high school\" ~ \"Non-university\")) %>%\n",
        "             mutate(Education = as_factor(Education)) # remember, it's a factor!\n",
        "\n",
        "glimpse(SFS_data$Education) # we have now data that only considers if someone has finished university or not"
      ],
      "id": "db0cf6d9-0222-4d5b-b5da-1cb422c6b683"
    },
    {
      "cell_type": "code",
      "execution_count": null,
      "metadata": {},
      "outputs": [],
      "source": [
        "SFS_data <- SFS_data %>%\n",
        "               mutate(lnwealth = log(SFS_data$wealth)) # calculate log"
      ],
      "id": "64cf62a5-0849-4635-9029-0b08ff41a367"
    },
    {
      "cell_type": "markdown",
      "metadata": {},
      "source": [
        "The calculation above gives us NaNs. We solve this by running the code\n",
        "below."
      ],
      "id": "7e3628a0-d34e-4cb3-88e2-466d28033b1f"
    },
    {
      "cell_type": "code",
      "execution_count": null,
      "metadata": {},
      "outputs": [],
      "source": [
        "SFS_data_logged <- SFS_data %>%\n",
        "                filter(income_before_tax > 0) %>% # filters Nans\n",
        "                filter(wealth > 0)  # removes negative values"
      ],
      "id": "33bb4870-51ba-48a2-bdf8-a5165843bd27"
    },
    {
      "cell_type": "markdown",
      "metadata": {},
      "source": [
        "Let’s look at the following plot, which depicts the relationships\n",
        "between `wealth`, `gender` and `education`. In the top panel, the colour\n",
        "of each cell is the (average) log of `wealth`. In the bottom panel, the\n",
        "size of each circle is the number of households in that combination of\n",
        "categories."
      ],
      "id": "6c21be1d-2987-4611-b82e-a090518deb92"
    },
    {
      "cell_type": "code",
      "execution_count": null,
      "metadata": {},
      "outputs": [],
      "source": [
        "options(repr.plot.width=6,repr.plot.height=4) # controls the image size\n",
        "\n",
        "f <- ggplot(data = SFS_data_logged, aes(x = gender, y = Education)) + xlab(\"Gender\") + ylab(\"Education\") # defines x and y\n",
        "f + geom_tile(aes(fill=lnwealth)) + scale_fill_distiller(palette=\"Set1\") # this gives us fancier colours\n",
        "\n",
        "f <- ggplot(data = SFS_data, aes(x = gender, y = Education)) # defines x and y\n",
        "f + geom_count() # prints our graph"
      ],
      "id": "9371cf20-7b31-4428-84b1-7dbc8c845d03"
    },
    {
      "cell_type": "markdown",
      "metadata": {},
      "source": [
        "You can see immediately that there are *three* relationships happening\n",
        "at the same time:\n",
        "\n",
        "1.  There is a relationship between `wealth` of households and `gender`\n",
        "    of main earner\n",
        "2.  There is a relationship between `wealth` and `Education`\n",
        "3.  There is a relationship between `gender` and `Education`\n",
        "\n",
        "A simple regression can analyze any *one* of these relationships in\n",
        "isolation, but it cannot assess more than one of them at a time. For\n",
        "instance, let’s look at these regressions."
      ],
      "id": "98c383e7-b7ef-45e5-b2c6-2406a0ea4f4f"
    },
    {
      "cell_type": "code",
      "execution_count": null,
      "metadata": {},
      "outputs": [],
      "source": [
        "regression1 <- lm(data = SFS_data, wealth ~ gender) # the effect of gender on wealth\n",
        "regression2 <- lm(data = SFS_data, wealth ~ Education) # the effect of education on wealth\n",
        "\n",
        "dummy_gender = as.numeric(SFS_data$gender)-1  # what is this line of code doing?  \n",
        "# hint, the as.numeric variable treats a factor as a number\n",
        "# male is 0\n",
        "\n",
        "regression3 <- lm(data = SFS_data, dummy_gender ~ Education) # the effect of education on gender\n",
        "# this is actually a very important regression model called \"linear probability\"\n",
        "# we will learn more about it later in the course\n",
        "\n",
        "stargazer(regression1, regression2, regression3, title=\"Comparison of Regression Results\",\n",
        "          align = TRUE, type=\"text\", keep.stat = c(\"n\",\"rsq\")) # we will learn more about this command later on!"
      ],
      "id": "efa8f25b-f9d1-4af3-83f5-0d2cd0ffdd9e"
    },
    {
      "cell_type": "markdown",
      "metadata": {},
      "source": [
        "The problem here is that these results tell us:\n",
        "\n",
        "-   Households with higher education accumulate more wealth (significant\n",
        "    and positive coefficient on `EducationUniversity` in ($2$))\n",
        "-   Among university degrees, the proportion of males is larger than\n",
        "    females, with 42.6%(.38+.046) and 57.4%(1-42.6%) respectively.\n",
        "    (coefficient on `EducationUniversity` in ($3$))\n",
        "-   Families led by females accumulates less wealth than the male\n",
        "    counterparts. (negative and significant coefficient on\n",
        "    `genderFemale` in ($1$))\n",
        "\n",
        "This implies that when we measure the gender-wealth gap alone, we are\n",
        "*indirectly* including part of the education-wealth gap as well. This is\n",
        "bad; the “true” gender-wealth gap is probably lower, but it is being\n",
        "increased because men are more likely to have a university degree.\n",
        "\n",
        "This is both a practical and a theoretical problem. It’s not just about\n",
        "the model, it’s also about what we mean when we say “the gender wealth\n",
        "gap”.\n",
        "\n",
        "-   If we mean “the difference in wealth between a male and female led\n",
        "    family”, then the simple regression result is what we want.\n",
        "-   However, this ignores all the other reasons that a male could have a\n",
        "    different wealth (education, income, age, etc.)\n",
        "-   If we mean “the difference in wealth between a male and female led\n",
        "    family, holding other factors equal,” then the simple regression\n",
        "    result is not suitable.\n",
        "\n",
        "The problem is that “holding other factors” equal is a debatable\n",
        "proposition. Which factors? Why? These different ways of computing the\n",
        "gender wealth gap make this topic very complex, contributing to ongoing\n",
        "debate in the economics discipline and in the media about various kinds\n",
        "of gaps (e.g., the education wealth gap). We will revisit this in the\n",
        "exercises.\n",
        "\n",
        "### Multiple Regression Models\n",
        "\n",
        "When we measure the gender wealth gap, we do not want to conflate our\n",
        "measurement with the *education wealth gap*. To ensure that these two\n",
        "different gaps are distinguished, we *must* add in some other variables.\n",
        "\n",
        "A multiple regression model simply adds more explanatory ($X_i$)\n",
        "variables to the model. In our case, we would take our simple regression\n",
        "model:\n",
        "\n",
        "$$\n",
        "W_i = \\beta_0 + \\beta_1 Gender_i + \\epsilon_i\n",
        "$$\n",
        "\n",
        "and augment with a variable which captures `Education`:\n",
        "\n",
        "$$\n",
        "W_i = \\beta_0 + \\beta_1 Gender_i + \\beta_2 Edu_i + \\epsilon_i\n",
        "$$\n",
        "\n",
        "Just as in a simple regression, the goal of estimating a multiple\n",
        "regression model using OLS is to solve the problem:\n",
        "\n",
        "$$\n",
        "(\\hat{\\beta_0},\\hat{\\beta_1},\\hat{\\beta_2}) = \\arg \\min_{b_0,b_1,b_2} \\sum_{i=1}^{n} (W_i - b_0 - b_1 Gender_i -b_2 Edu_i)^2 = \\sum_{i=1}^{n} (e_i)^2\n",
        "$$\n",
        "\n",
        "In general, you can have any number of explanatory variables in a\n",
        "multiple regression model (as long as it’s not larger than $n-1$, your\n",
        "sample size). However, there are costs to including more variables,\n",
        "which we will learn about more later. For now, we will focus on building\n",
        "an appropriate model and will worry about the number of variables later.\n",
        "\n",
        "Adding variables to a regression is easy in R; you use the same command\n",
        "as in simple regression, and just add the new variable to the model. For\n",
        "instance, we can add the variable `Education` like this:\n",
        "\n",
        "`wealth ~ gender + Education`\n",
        "\n",
        "Let’s see it in action:"
      ],
      "id": "a7423e67-1a4a-4b92-bc50-cdacd608bb84"
    },
    {
      "cell_type": "code",
      "execution_count": null,
      "metadata": {},
      "outputs": [],
      "source": [
        "multiple_model_1 <- lm(data = SFS_data, wealth ~ gender + Education)\n",
        "\n",
        "summary(multiple_model_1)"
      ],
      "id": "24c41351-787a-498f-83b7-f7641c8e8104"
    },
    {
      "cell_type": "markdown",
      "metadata": {},
      "source": [
        "As you can see, there are now three coefficients: one for\n",
        "`genderFemale`, one for `EducationUniversity` and one for the intercept.\n",
        "The important thing to remember is that these relationships are being\n",
        "calculated *jointly*. Compare the result above to the two simple\n",
        "regressions we saw earlier:"
      ],
      "id": "454abe6e-533a-4082-825e-9b25d711938a"
    },
    {
      "cell_type": "code",
      "execution_count": null,
      "metadata": {},
      "outputs": [],
      "source": [
        "stargazer(regression1, regression2, multiple_model_1, title=\"Comparison of Muliple and Simple Regression Results\",\n",
        "          align = TRUE, type=\"text\", keep.stat = c(\"n\",\"rsq\"))\n",
        "\n",
        "# which column is the multiple regression?"
      ],
      "id": "28c5f5ee-35e4-44c9-994d-066f0e47672b"
    },
    {
      "cell_type": "markdown",
      "metadata": {},
      "source": [
        "Notice the difference in the coefficients: *all* of them are different.\n",
        "\n",
        "> **Think Deeper**: why would all of these coefficients change? Why not\n",
        "> just the coefficient on `gender`?\n",
        "\n",
        "You will also notice that the standard errors are different. This is an\n",
        "important lesson: including (or not including) variables can change the\n",
        "statistical significance of a result. This is why it is so important to\n",
        "be very careful when designing regression models and thinking them\n",
        "through: a coefficient estimate is a consequence of the *whole model*,\n",
        "and should not be considered in isolation.\n",
        "\n",
        "### Interpreting Multiple Regression Coefficients\n",
        "\n",
        "Interpreting coefficients in a multiple regression is nearly the same as\n",
        "in a simple regression. After all, our regression equation is:\n",
        "\n",
        "$$\n",
        "W_i = \\beta_0 + \\beta_1 Gender_i + \\beta_2 Edu_i + \\epsilon_i\n",
        "$$\n",
        "\n",
        "You could (let’s pretend for a moment that $Edu_i$ was continuous)\n",
        "calculate:\n",
        "\n",
        "$$\n",
        "\\frac{\\partial W_i}{\\partial Edu_i} = \\beta_2\n",
        "$$\n",
        "\n",
        "This is the same interpretation as in a simple regression model:\n",
        "\n",
        "-   $\\beta_2$ is the change in $W_i$ for a 1-unit change in $Edu_i$.\n",
        "-   As you will see in the exercises, when $Edu_i$ is a dummy, we have\n",
        "    the same interpretation as in a simple regression model: the\n",
        "    (average) difference in the dependent variable between the two\n",
        "    levels of the dummy variable.\n",
        "\n",
        "However, there is an important difference: we are *holding constant* the\n",
        "other explanatory variables. That’s what the $\\partial$ means when we\n",
        "take a derivative. This was actually always there (since we were holding\n",
        "constant the residual), but now this is something that is directly\n",
        "observable in our data (and in the model we are building)."
      ],
      "id": "cda7d461-8430-43af-8244-c7f1e009b83e"
    },
    {
      "cell_type": "code",
      "execution_count": null,
      "metadata": {},
      "outputs": [],
      "source": [
        "summary(multiple_model_1)"
      ],
      "id": "78841794-7407-4f1f-b2bf-94c424841123"
    },
    {
      "cell_type": "markdown",
      "metadata": {},
      "source": [
        "### Test your knowledge\n",
        "\n",
        "Based on the results above, how much more wealth do university graduates\n",
        "accumulate, relative to folks with non-university education levels, when\n",
        "we hold gender fixed?"
      ],
      "id": "19cdadb2-ada6-46bb-9536-ad3562258e6b"
    },
    {
      "cell_type": "code",
      "execution_count": null,
      "metadata": {},
      "outputs": [],
      "source": [
        "# answer the question above by filling in the number \n",
        "\n",
        "answer_1 <-    # your answer here\n",
        "\n",
        "test_1()"
      ],
      "id": "d95705a8-1343-489b-8858-19f495d4e227"
    },
    {
      "cell_type": "markdown",
      "metadata": {},
      "source": [
        "### Control Variables: What Do They Mean?\n",
        "\n",
        "One very common term you may have heard, especially in the context of a\n",
        "multiple regression model, is the idea of a **control variable**. In a\n",
        "multiple regression model, control variables are just explanatory\n",
        "variables - there is nothing special about how they are included.\n",
        "However, there *is* something special about how we think about them.\n",
        "\n",
        "The idea of a control variable refers to how we *think about* a\n",
        "regression model, and in particular, the different variables. Recall\n",
        "that the interpretation of a coefficient in a multiple regression model\n",
        "is the effect of that variable *holding constant* the other variables.\n",
        "This is often referred to as **controlling** for the values of those\n",
        "other variables - we are not allowing their relationship with the\n",
        "variable in question, and the outcome variable, to affect our\n",
        "measurement of the result. This is very common when we are discussing a\n",
        "*cause and effect* relationship - control is essential to these kinds of\n",
        "models. However, it is also valuable even when we are just thinking\n",
        "about a predictive model.\n",
        "\n",
        "You can see how this works directly if you think about a multiple\n",
        "regression as a series of “explanations” for the outcome variable. Each\n",
        "variable, one-by-one “explains” part of the outcome variable. When we\n",
        "“control” for a variable, we remove the part of the outcome that can be\n",
        "explained by that variable alone. In terms of our model, this refers to\n",
        "the residual.\n",
        "\n",
        "However, we must remember that our control variable *also* explains part\n",
        "of the other variables, so we must “control” for it as well.\n",
        "\n",
        "For instance, our multiple regression:\n",
        "\n",
        "$$\n",
        "W_i = \\beta_0 + \\beta_1 Gender_i + \\beta_2 Edu_i + \\epsilon_i\n",
        "$$\n",
        "\n",
        "Can be thought of as three, sequential, simple regressions:\n",
        "\n",
        "$$\n",
        "W_i = \\gamma_0 + \\gamma_1 Edu_i + u_i\n",
        "$$ $$\n",
        "Gender_i = \\gamma_0 + \\gamma_1 Edu_i + v_i\n",
        "$$\n",
        "\n",
        "$$\n",
        "\\hat{u_i} = \\delta_0 + \\delta_1 \\hat{v_i} + \\eta_i\n",
        "$$\n",
        "\n",
        "-   The first two regressions say: “explain `wealth` and `gender` using\n",
        "    `Education` (in simple regressions)”\n",
        "-   The final regression says: “account for whatever is leftover\n",
        "    ($\\hat{u_i}$) from the `education-wealth` relationship with whatever\n",
        "    is leftover from the `gender-wealth` relationship.”\n",
        "\n",
        "This has effectively “isolated” the variation in the data which has to\n",
        "do with `education` from the result of the model.\n",
        "\n",
        "Let’s see this in action:"
      ],
      "id": "4bdf053f-0e28-4bbb-915b-bfed9d0aff53"
    },
    {
      "cell_type": "code",
      "execution_count": null,
      "metadata": {},
      "outputs": [],
      "source": [
        "regression1 <- lm(wealth ~ Education, data = SFS_data)\n",
        "# regress wealth on education\n",
        "\n",
        "regression2 <- lm(dummy_gender ~ Education, data = SFS_data)\n",
        "# regress gender on education\n",
        "\n",
        "temp_data <-  tibble(wealth_leftovers = regression1$residual, gender_leftovers = regression2$residuals)\n",
        "# take whatever is left-over from those regressions, save it"
      ],
      "id": "2f9ceb25-2e95-4af8-89d2-eb7eb1bf28ab"
    },
    {
      "cell_type": "code",
      "execution_count": null,
      "metadata": {},
      "outputs": [],
      "source": [
        "regression3 <- lm(wealth_leftovers ~ gender_leftovers, data = temp_data)\n",
        "# regress the leftovers on immigration status\n",
        "\n",
        "# compare the results with the multiple regression\n",
        "\n",
        "stargazer(regression1, regression2, regression3, multiple_model_1, title=\"Comparison of Multiple and Simple Regression Results\",\n",
        "          align = TRUE, type=\"text\", keep.stat = c(\"n\",\"rsq\"))"
      ],
      "id": "b2949f68-c587-431b-9908-32d48ea8751a"
    },
    {
      "cell_type": "markdown",
      "metadata": {},
      "source": [
        "Look closely at these results. You will notice that the coefficients on\n",
        "`gender_leftovers` in the “control” regression and `gender` in the\n",
        "multiple regression are *exactly the same*.\n",
        "\n",
        "> **Think Deeper**: what if we had done this experiment another way\n",
        "> (`wealth` and `Education` on `gender`)? Which coefficients would\n",
        "> match? Why?\n",
        "\n",
        "This result is a consequence of the **Frisch-Waugh-Lovell theorem**\n",
        "about OLS - a variant of which is referred to as the “regression\n",
        "anatomy” equation.\n",
        "\n",
        "For our purposes, it does a very useful thing: it gives us a concrete\n",
        "way of thinking about what “controls” are doing: they are “subtracting”\n",
        "part of the variation from both the outcome and other explanatory\n",
        "variables. In OLS, this is *exactly* what is happening - but for all\n",
        "variables at once! If you don’t get it, don’t worry about it too much.\n",
        "What is important is now we have a way to disentangle the effects on\n",
        "wealth, whether it be gender or education.\n",
        "\n",
        "## Part 2: Hands-On\n",
        "\n",
        "Now, it’s time to continue our investigation of the gender-wealth gap,\n",
        "but now using our multiple regression tools. As we discussed before,\n",
        "when we investigate the education-wealth gap, we usually want to “hold\n",
        "fixed” different kinds of variables. We have already seen this, using\n",
        "the `Education` variable to control for the education-wealth gap.\n",
        "However, there are many more variables we might want to include.\n",
        "\n",
        "For example, risky investments usually generate more returns and men are\n",
        "typically more willing to take risks - based on research that explores\n",
        "[psychological differences in how risk is processed between men and\n",
        "women](https://journals.sagepub.com/doi/abs/10.1177/0963721411429452)\n",
        "and research that explores [how the perception of a person’s gender\n",
        "shapes how risk tolerant or risk adverse a person is thought to\n",
        "be](https://www.mendeley.com/catalogue/5a28efe5-479d-312a-bd80-32e6500a8f1c/).\n",
        "This implies that we may want to control for risky investments in the\n",
        "analysis.\n",
        "\n",
        "Let’s try that now:"
      ],
      "id": "416384f2-542b-4375-9320-202f1539bdfc"
    },
    {
      "cell_type": "code",
      "execution_count": null,
      "metadata": {},
      "outputs": [],
      "source": [
        "risk_regression1 <- lm(data = SFS_data, wealth ~ gender + Education + risk_proxy) \n",
        "#don't worry about what risk proxy is for now\n",
        "\n",
        "summary(risk_regression1)"
      ],
      "id": "8021978b-685c-4d8c-aaaf-e2f9acf0c8c1"
    },
    {
      "cell_type": "markdown",
      "metadata": {},
      "source": [
        "Once we control for risky investments, what do you see? How has the\n",
        "gender-wealth gap changed?\n",
        "\n",
        "### Effects of adding too many controls\n",
        "\n",
        "Another way to model the wealth gap is to study financial assets and\n",
        "stocks at the same time, so that we can understand how different\n",
        "categories of assets affect wealth."
      ],
      "id": "ec6c2e01-65c1-4734-8d1c-d91cd537548f"
    },
    {
      "cell_type": "code",
      "execution_count": null,
      "metadata": {},
      "outputs": [],
      "source": [
        "risk_regression2 <- lm(wealth ~ financial_asset + stock + bond + bank_deposits + mutual_funds + other_investments, data = SFS_data)\n",
        "\n",
        "summary(risk_regression2)"
      ],
      "id": "8927c23a-6c16-4c83-a3b8-0c8e1a3f9737"
    },
    {
      "cell_type": "markdown",
      "metadata": {},
      "source": [
        "Look closely at this result. Do you see anything odd or problematic\n",
        "here?\n",
        "\n",
        "This is a topic we will revise later in this course, but this is\n",
        "**multicollinearity**. Essentially, what this means is that one of the\n",
        "variables we have added to our model does not add any new information.\n",
        "\n",
        "In other words, once we control for the other variables, there’s nothing\n",
        "left to explain. Can you guess what variables are interacting to cause\n",
        "this problem?\n",
        "\n",
        "Let’s dig deeper to see here:"
      ],
      "id": "ee737c2f-4860-48f5-9fcb-23fd3e65cb55"
    },
    {
      "cell_type": "code",
      "execution_count": null,
      "metadata": {},
      "outputs": [],
      "source": [
        "risk_reg1 <- lm(wealth ~ Education + stock + bond + bank_deposits + mutual_funds + other_investments, data = SFS_data)\n",
        "\n",
        "\n",
        "summary(risk_reg1)\n",
        "\n",
        "print(\"Leftovers from wealth ~ gender, education, stocks, bonds, ... \")\n",
        "head(round(risk_reg1$residuals,2))\n",
        "# peek at the leftover part of wealth\n",
        "\n",
        "risk_reg2 <- lm(financial_asset ~ Education + stock + bond + bank_deposits + mutual_funds + other_investments, data = SFS_data)\n",
        "\n",
        "\n",
        "summary(risk_reg2)\n",
        "\n",
        "print(\"Leftovers from financial asset ~ education, stock, bonds, ...\")\n",
        "head(round(risk_reg2$residuals,5))\n",
        "# peek at the leftover part of financial asset"
      ],
      "id": "74375863-9af5-4a65-8279-4eaf7b1d85b8"
    },
    {
      "cell_type": "markdown",
      "metadata": {},
      "source": [
        "> **Think Deeper**: why is “Leftovers from financial asset ~ Education +\n",
        "> stock, bonds, …” equal to 0?\n",
        "\n",
        "As you can see, the residual from regressing\n",
        "`financial_asset ~ Education + stock + ...` is exactly (to machine\n",
        "precision) zero. In other words, when you “control” for the asset\n",
        "classes, there’s nothing left to explain about `financial_assets`.\n",
        "\n",
        "If we think about this, it makes sense: these “controls” are all the\n",
        "types of financial assets you could have! So, if I tell you about them,\n",
        "you will immediately know the total value of my financial assets.\n",
        "\n",
        "This means that the final step of the multiple regression would be\n",
        "trying to solve this equation:\n",
        "\n",
        "$$\n",
        "\\hat{u_i} = \\delta_0 + \\delta_1 0 + \\eta_i\n",
        "$$\n",
        "\n",
        "which does not have a unique solution for $\\delta_1$. R tries to “fix”\n",
        "this problem by getting rid of some variables, but this usually\n",
        "indicates that our model wasn’t set-up properly in the first place.\n",
        "\n",
        "The lesson is that we can’t just include controls without thinking about\n",
        "them; we have to pay close attention to their role in our model, and\n",
        "their relationship to other variables.\n",
        "\n",
        "For example, a *better* way to do this would be to just include `stock`\n",
        "and the total value of assets instead of all the other classes (bank\n",
        "deposits, mutual funds, etc.). This is what `risk_proxy` is: the ratio\n",
        "of stocks to total assets.\n",
        "\n",
        "You can also include different sets of controls in your model. Often\n",
        "adding different “layers” of controls is a very good way to understand\n",
        "how different variables interact and affect your conclusions. Here’s an\n",
        "example, adding on several different “layers” of controls:"
      ],
      "id": "0abcbb18-ce1f-4c77-8a17-f7455e02b32d"
    },
    {
      "cell_type": "code",
      "execution_count": null,
      "metadata": {},
      "outputs": [],
      "source": [
        "regression1 <- lm(wealth ~ gender, data = SFS_data)\n",
        "regression2 <- lm(wealth ~ gender + Education, data = SFS_data)\n",
        "regression3 <- lm(wealth ~ gender + Education + risk_proxy, data = SFS_data)\n",
        "regression4 <- lm(wealth ~ gender + Education + risk_proxy + business + province + credit_limit, data = SFS_data)\n",
        "\n",
        "stargazer(regression1, regression2, regression3, regression4, title=\"Comparison of Controls\",\n",
        "          align = TRUE, type=\"text\", keep.stat = c(\"n\",\"rsq\"))"
      ],
      "id": "04b91e18-b163-4877-b583-29f48102d177"
    },
    {
      "cell_type": "markdown",
      "metadata": {},
      "source": [
        "A pretty big table! Often, when we want to focus on just a single\n",
        "variable, we will simplify the table by just explaining which controls\n",
        "are included. Here’s an example which is much easier to read; it uses\n",
        "some formatting tricks which you don’t need to worry about right now:"
      ],
      "id": "67a4b026-3565-4174-a4b2-7297de52681c"
    },
    {
      "cell_type": "code",
      "execution_count": null,
      "metadata": {},
      "outputs": [],
      "source": [
        "var_omit = c(\"(province)\\\\w+\",\"(Education)\\\\w+\") # don't worry about this right now!\n",
        "\n",
        "stargazer(regression1, regression2, regression3, regression4, title=\"Comparison of Controls\",\n",
        "          align = TRUE, type=\"text\", keep.stat = c(\"n\",\"rsq\"), \n",
        "          omit = var_omit,\n",
        "          add.lines = list(c(\"Education Controls\", \"No\", \"Yes\", \"Yes\", \"Yes\"),\n",
        "                           c(\"Province Controls\", \"No\", \"No\", \"No\", \"Yes\")))\n",
        "\n",
        "# this is very advanced code; don't worry about it right now; we will come back to it at the end of the course"
      ],
      "id": "3df33cf6-db7f-4749-9331-95062924504e"
    },
    {
      "cell_type": "markdown",
      "metadata": {},
      "source": [
        "Notice in the above how the coefficients change when we change the\n",
        "included control variables. Understanding this kind of variation is\n",
        "really important to interpreting a model, and whether or not the results\n",
        "are credible. For example - ask yourself why the gender-wealth gap\n",
        "decreases as we include more control variables. What do you think?\n",
        "\n",
        "### Using the `predict()` function\n",
        "\n",
        "In this section, we will learn how to use the regression model to make\n",
        "predictions using the `predict()` function in R. This is particularly\n",
        "useful when you have new data and want to estimate the dependent\n",
        "variable based on your model. Note that this function can be used for\n",
        "both simple and multiple regressions.\n",
        "\n",
        "First, let’s fit a regression model using our existing dataset:"
      ],
      "id": "5d7d2fc8-6c00-47ba-9b89-709fa33dc7b9"
    },
    {
      "cell_type": "code",
      "execution_count": null,
      "metadata": {},
      "outputs": [],
      "source": [
        "# Display the structure of the model\n",
        "summary(multiple_model_1)"
      ],
      "id": "efd4679e-0841-44a7-93e6-5372ed91d9b5"
    },
    {
      "cell_type": "markdown",
      "metadata": {},
      "source": [
        "Let’s say we have new data and we want to predict the wealth for these\n",
        "new observations. We’ll create a new data frame with the new data points\n",
        "and use the `predict()` function to make predictions.\n",
        "\n",
        "We will create three new data points:\n",
        "\n",
        "-   a female individual with a university education\n",
        "-   a male individual with a non-university education\n",
        "-   a male individual with a university education"
      ],
      "id": "68ff4b12-3d3d-4861-bb7b-b844590883b7"
    },
    {
      "cell_type": "code",
      "execution_count": null,
      "metadata": {},
      "outputs": [],
      "source": [
        "# Create a new data frame with sample data points for prediction\n",
        "new_data <- data.frame(\n",
        "  gender = factor(c(\"2\", \"1\", \"1\"), levels(SFS_data$gender)),\n",
        "  Education = factor(c(\"University\", \"Non-university\", \"University\"), levels = levels(SFS_data$Education)))\n",
        "\n",
        "new_data"
      ],
      "id": "d04e80e7-44a7-414a-8abd-46beb8676c4b"
    },
    {
      "cell_type": "markdown",
      "metadata": {},
      "source": [
        "Now we can use the `predict()` function to predict the wealth of these\n",
        "individuals by specifying the regression model from above and the set of\n",
        "new data points."
      ],
      "id": "d286920c-9f11-49dd-9a70-f0e60aa3c906"
    },
    {
      "cell_type": "code",
      "execution_count": null,
      "metadata": {},
      "outputs": [],
      "source": [
        "# Predict wealth using the multiple_model_1\n",
        "predicted_wealth <- predict(multiple_model_1, newdata = new_data)\n",
        "\n",
        "# Display the predicted values\n",
        "predicted_wealth"
      ],
      "id": "b19be319-ae6f-4db2-8057-8a7dc7490103"
    },
    {
      "cell_type": "markdown",
      "metadata": {},
      "source": [
        "We can also show the confidence intervals of our predicitons by adding\n",
        "and additional argument to the `predict()` function\n",
        "`interval = 'confidence'`. These are automatically set at a 95%\n",
        "confidence level."
      ],
      "id": "dd35f25e-0e65-4921-a525-f9b95f1b3e88"
    },
    {
      "cell_type": "code",
      "execution_count": null,
      "metadata": {},
      "outputs": [],
      "source": [
        "# Additional argument for confidence intervals\n",
        "predicted_wealth_conf <- predict(multiple_model_1, newdata = new_data, interval = 'confidence')\n",
        "\n",
        "# Show the predictions\n",
        "predicted_wealth_conf"
      ],
      "id": "8c97f8db-4f4a-4343-b273-6d5618a249c3"
    },
    {
      "cell_type": "markdown",
      "metadata": {},
      "source": [
        "Here, fit refers to the fitted (or predicted) value our regression makes\n",
        "based off of the inputs we specified above. Lwr is the lower bound and\n",
        "Upr is the upper bound.\n",
        "\n",
        "### Omitted Variables\n",
        "\n",
        "Another important topic comes up in the context of multiple regression:\n",
        "**omitted variables**. In a simple regression, this didn’t really mean\n",
        "anything, but now it does. When we have a large number of variables in a\n",
        "dataset, which ones do we include in our regression? All of them? Some\n",
        "of them?\n",
        "\n",
        "This is actually a very important problem, since it has crucial\n",
        "implication for the interpretation of our model. For example, remember\n",
        "Assumption 1? This is a statement about the “true” model - not what you\n",
        "are actually running. It can very easily be violated when variables\n",
        "aren’t included.\n",
        "\n",
        "We will revisit this later in the course, since it only really makes\n",
        "sense in the context of causal models, but for now we should pay close\n",
        "attention to which variables we are including and why. Let’s explore\n",
        "this, using the exercises.\n",
        "\n",
        "## Part 3: Exercises\n",
        "\n",
        "This section has both written and coding exercises for you to test your\n",
        "knowledge about multiple regression. The answers to the written\n",
        "exercises are on the last section of the notebook.\n",
        "\n",
        "### Questions\n",
        "\n",
        "Suppose you have a regression model that looks like:\n",
        "\n",
        "$$\n",
        "Y_i = \\beta_0 + \\beta_1 X_{i} + \\beta_2 D_{i} + \\epsilon_i\n",
        "$$\n",
        "\n",
        "Where $D_i$ is a dummy variable. Recall that Assumption 1 implies that\n",
        "$E[\\epsilon_i|D_{i}, X_{i}] = 0$. Suppose this assumption holds true.\n",
        "Answer the following:\n",
        "\n",
        "1.  Compute $E[Y_i|X_i,D_i=1]$ and $E[Y_i|X_i,D_i=0]$"
      ],
      "id": "b03ebd12-d9e5-471c-a19d-8544c6634b7a"
    },
    {
      "cell_type": "raw",
      "metadata": {
        "raw_mimetype": "text/html"
      },
      "source": [
        "<details>"
      ],
      "id": "8f2a1a0a-9beb-429b-904b-9896dd17c7cc"
    },
    {
      "cell_type": "raw",
      "metadata": {
        "raw_mimetype": "text/html"
      },
      "source": [
        "<summary>"
      ],
      "id": "00d95410-b1d1-4bb5-8f5c-295b3bd0bb93"
    },
    {
      "cell_type": "markdown",
      "metadata": {},
      "source": [
        "Show/Hide Solution"
      ],
      "id": "af5d7afd-66dc-4a17-a5cf-597460cf4617"
    },
    {
      "cell_type": "raw",
      "metadata": {
        "raw_mimetype": "text/html"
      },
      "source": [
        "</summary>"
      ],
      "id": "d0985ed8-b8f5-4047-9aa9-850eaabc07d5"
    },
    {
      "cell_type": "markdown",
      "metadata": {},
      "source": [
        "$$\n",
        "\\begin{align}\n",
        "E[Y_i|X_i,D_i=1]&=\\beta_{0}+\\beta_{1}E[X_{i}|X_{i},D_{i}=1]+\\beta_{2} \\\\\n",
        "E[Y_i|X_i,D_i=0]&=\\beta_{0}+\\beta_{1}E[X_{i}|X_{i},D_{i}=0]\n",
        "\\end{align}\n",
        "$$"
      ],
      "id": "c3df710b-555f-4a7c-bf1f-09b806a35d80"
    },
    {
      "cell_type": "raw",
      "metadata": {
        "raw_mimetype": "text/html"
      },
      "source": [
        "</details>"
      ],
      "id": "42f5d7e3-b278-4501-b6bd-c04ae95b1922"
    },
    {
      "cell_type": "markdown",
      "metadata": {},
      "source": [
        "1.  What is the difference between these two terms?"
      ],
      "id": "caa777a6-240e-4fe1-871c-5a067839eaa3"
    },
    {
      "cell_type": "raw",
      "metadata": {
        "raw_mimetype": "text/html"
      },
      "source": [
        "<details>"
      ],
      "id": "a47314e4-5e83-496d-a877-c98c32b72745"
    },
    {
      "cell_type": "raw",
      "metadata": {
        "raw_mimetype": "text/html"
      },
      "source": [
        "<summary>"
      ],
      "id": "574352ef-1fed-41dd-a31f-6b48d0052b13"
    },
    {
      "cell_type": "markdown",
      "metadata": {},
      "source": [
        "Show/Hide Solution"
      ],
      "id": "e3ae7767-4782-457d-ae16-11ea5249e321"
    },
    {
      "cell_type": "raw",
      "metadata": {
        "raw_mimetype": "text/html"
      },
      "source": [
        "</summary>"
      ],
      "id": "5b1b44d5-d263-4169-93ef-3e92c13c819f"
    },
    {
      "cell_type": "markdown",
      "metadata": {},
      "source": [
        "$$\n",
        "\\begin{align}\n",
        "&E[E[Y_i|X_i,D_i=1]-E[Y_i|X_i,D_i=0]] \\\\\n",
        "&= E[\\beta_{1}(E[X_{i}|X_{i},D_{i}=1]-E[X_{i}|X_{i},D_{i}=0])]+\\beta_{2} \\\\\n",
        "&= \\beta_{1}(E[E[X_{i}|X_{i},D_{i}=1]]-E[E[X_{i}|X_{i},D_{i}=0]])+\\beta_{2}\\\\\n",
        "&= \\beta_{2}\n",
        "\\end{align}\n",
        "$$"
      ],
      "id": "f2c053a1-be28-49c4-b4c8-d2309995f0a3"
    },
    {
      "cell_type": "raw",
      "metadata": {
        "raw_mimetype": "text/html"
      },
      "source": [
        "</details>"
      ],
      "id": "7a826e2c-2eb8-4cdb-bc73-736392231194"
    },
    {
      "cell_type": "markdown",
      "metadata": {},
      "source": [
        "1.  Interpret what the coefficient $\\beta_2$ means in this regression,\n",
        "    using your answers in 1 and 2."
      ],
      "id": "18fd8542-c2cf-4aad-92ff-3f03668e4255"
    },
    {
      "cell_type": "raw",
      "metadata": {
        "raw_mimetype": "text/html"
      },
      "source": [
        "<details>"
      ],
      "id": "4e07be3c-59f8-4913-a298-9ceebc69e519"
    },
    {
      "cell_type": "raw",
      "metadata": {
        "raw_mimetype": "text/html"
      },
      "source": [
        "<summary>"
      ],
      "id": "b6a731f6-c127-435d-9c57-c668bfbd6ebd"
    },
    {
      "cell_type": "markdown",
      "metadata": {},
      "source": [
        "Show/Hide Solution"
      ],
      "id": "aee72fbe-0ee6-4856-85c9-cd29e2149dc2"
    },
    {
      "cell_type": "raw",
      "metadata": {
        "raw_mimetype": "text/html"
      },
      "source": [
        "</summary>"
      ],
      "id": "5bc52d69-5d7e-4322-9d0d-6ab6c159a490"
    },
    {
      "cell_type": "markdown",
      "metadata": {},
      "source": [
        "$\\beta_{2}$ is the average difference between outcome $Y_{i}$ of dummy\n",
        "variable $D_{i}$ to be 0 and 1."
      ],
      "id": "0f98b433-ebdf-4668-b243-fed8e2053025"
    },
    {
      "cell_type": "raw",
      "metadata": {
        "raw_mimetype": "text/html"
      },
      "source": [
        "</details>"
      ],
      "id": "6f51cb3e-3b11-4e7b-9066-1451a2f09d46"
    },
    {
      "cell_type": "markdown",
      "metadata": {},
      "source": [
        "4-8. To explore the mechanics of multiple regressions, let’s return to\n",
        "the analysis that we did in Module 1; that is, let’s re-examine the\n",
        "relationship between the gender income gap and education.\n",
        "\n",
        "Run a simple regression for the gender income gap (with a single\n",
        "regressor) for each education level. Use `income_before_tax` as the\n",
        "dependent variable. Then, run a multiple regression for the gender\n",
        "income gap that includes `education` as a control.\n",
        "\n",
        "Tested objects: `reg_LESS` (simple regression; less than high school),\n",
        "`reg_HS` (high school diploma), `reg_NU` (Non-university\n",
        "post-secondary), `reg_U` (university), `reg2` (multiple regression)."
      ],
      "id": "bdb9679f-3030-4d8e-9cae-a61725b46c4d"
    },
    {
      "cell_type": "code",
      "execution_count": null,
      "metadata": {},
      "outputs": [],
      "source": [
        "# Less than high school\n",
        "reg_LESS <- lm(???, data = filter(SFS_data, education == \"Less than high school\"))\n",
        "test_4() #For reg_LESS\n",
        "\n",
        "# High school diploma\n",
        "reg_HS <- lm(???, data = filter(SFS_data, education == \"High school\"))\n",
        "test_5() #For reg_HS\n",
        "\n",
        "# Non-university post-secondary\n",
        "reg_NU <- lm(???, data = filter(SFS_data, education == \"Non-university post-secondary\"))\n",
        "test_6() #For reg_NU\n",
        "\n",
        "# University\n",
        "reg_U <- lm(???, data = filter(SFS_data, education ==  \"University\"))\n",
        "test_7() #For reg_NU\n",
        "\n",
        "# Multiple regression\n",
        "reg2 <- lm(??? + education, data = SFS_data)\n",
        "test_8() #For reg2\n",
        "\n",
        "#Table comparing regressions\n",
        "stargazer(reg_LESS, reg_HS, reg_NU, reg_U, \n",
        "          title = \"Comparing Conditional Regressions with Multiple Regression\", align = TRUE, type = \"text\", keep.stat = c(\"n\",\"rsq\")) \n",
        "summary(reg2)"
      ],
      "id": "7b01e427-18e2-45ec-912c-fc1f24d5494c"
    },
    {
      "cell_type": "markdown",
      "metadata": {},
      "source": [
        "1.  What variable “value” appears to be missing from the multiple\n",
        "    regression in the table? How can we interpret the average income for\n",
        "    the group associated with that value? Hint: Dummy Variables"
      ],
      "id": "61ae39d6-8cb1-491c-8e74-fcef41f7970f"
    },
    {
      "cell_type": "raw",
      "metadata": {
        "raw_mimetype": "text/html"
      },
      "source": [
        "<details>"
      ],
      "id": "bd579042-2e6e-468e-b071-942609f3b3da"
    },
    {
      "cell_type": "raw",
      "metadata": {
        "raw_mimetype": "text/html"
      },
      "source": [
        "<summary>"
      ],
      "id": "cd893616-b756-4d42-882a-de5d84228a29"
    },
    {
      "cell_type": "markdown",
      "metadata": {},
      "source": [
        "Show/Hide Solution"
      ],
      "id": "e1183b84-d9c6-46ea-a463-be5a001bbbc3"
    },
    {
      "cell_type": "raw",
      "metadata": {
        "raw_mimetype": "text/html"
      },
      "source": [
        "</summary>"
      ],
      "id": "823bfe07-d052-48e9-93aa-e5afea50fa06"
    },
    {
      "cell_type": "markdown",
      "metadata": {},
      "source": [
        "It seems like education “High School” is missing from the multiple\n",
        "regression. This value is represented when all the dummies included in\n",
        "the model equal zero. The average difference in income for male and\n",
        "female earners for this group is 37,638 dollars."
      ],
      "id": "111790db-2dfa-49b7-808d-fd87efea8189"
    },
    {
      "cell_type": "raw",
      "metadata": {
        "raw_mimetype": "text/html"
      },
      "source": [
        "</details>"
      ],
      "id": "4701af21-8c76-48c7-b49b-981cb6365200"
    },
    {
      "cell_type": "markdown",
      "metadata": {},
      "source": [
        "1.  Compare the coefficient estimates for `gender` across each of the\n",
        "    simple regressions. How does the gender income gap appear to vary\n",
        "    across education levels? How should we interpret this variation?"
      ],
      "id": "4b63a1db-40d0-44f7-a008-de2662399626"
    },
    {
      "cell_type": "raw",
      "metadata": {
        "raw_mimetype": "text/html"
      },
      "source": [
        "<details>"
      ],
      "id": "3ea4826b-0c29-49d4-b022-6ad921992f1c"
    },
    {
      "cell_type": "raw",
      "metadata": {
        "raw_mimetype": "text/html"
      },
      "source": [
        "<summary>"
      ],
      "id": "94afafb2-ce27-4e22-89ae-52a7d1b60ccf"
    },
    {
      "cell_type": "markdown",
      "metadata": {},
      "source": [
        "Show/Hide Solution"
      ],
      "id": "1d68aa31-940f-41e9-94fa-09196aca7991"
    },
    {
      "cell_type": "raw",
      "metadata": {
        "raw_mimetype": "text/html"
      },
      "source": [
        "</summary>"
      ],
      "id": "cc06de55-7751-4c1f-8045-85f03b416796"
    },
    {
      "cell_type": "markdown",
      "metadata": {},
      "source": [
        "The gender income gap becomes larger as education increases. The\n",
        "gender-income gap of each level of education may come from gender\n",
        "difference in occupations and position levels: as education increases,\n",
        "males may have higher chance to work in higher positions\n",
        "(e.g. managers), while females may have less opportunity."
      ],
      "id": "57046ab1-d702-44ea-bc0a-054570a261c6"
    },
    {
      "cell_type": "raw",
      "metadata": {
        "raw_mimetype": "text/html"
      },
      "source": [
        "</details>"
      ],
      "id": "338e62d8-5d3d-457e-aefc-45b1414d7b31"
    },
    {
      "cell_type": "markdown",
      "metadata": {},
      "source": [
        "1.  Compare the simple regressions’ estimates with those of the multiple\n",
        "    regression. How does the multiple regression’s coefficient estimate\n",
        "    on `gender` compare to those estimates in the simple regressions?\n",
        "    How can we interpret this? Further, how do we interpret the\n",
        "    coefficient estimates on the other regressors in the multiple\n",
        "    regression?"
      ],
      "id": "d2f16500-9ebe-4acc-b394-c13e78ed950e"
    },
    {
      "cell_type": "raw",
      "metadata": {
        "raw_mimetype": "text/html"
      },
      "source": [
        "<details>"
      ],
      "id": "7330c385-8730-4b3d-b5e4-41cf25eaf104"
    },
    {
      "cell_type": "raw",
      "metadata": {
        "raw_mimetype": "text/html"
      },
      "source": [
        "<summary>"
      ],
      "id": "25816bab-ea8b-4208-a939-313e88b60972"
    },
    {
      "cell_type": "markdown",
      "metadata": {},
      "source": [
        "Show/Hide Solution"
      ],
      "id": "607599fb-e63c-49bd-bded-c3bd205e786f"
    },
    {
      "cell_type": "raw",
      "metadata": {
        "raw_mimetype": "text/html"
      },
      "source": [
        "</summary>"
      ],
      "id": "69e3cfbf-eb89-4255-9b5b-bd21d4f7dcb5"
    },
    {
      "cell_type": "markdown",
      "metadata": {},
      "source": [
        "The coefficient estimate on `gender` of multiple regression is close to\n",
        "the (weighted) average estimates in the simple regressions. In multiple\n",
        "regression, the coefficient means female-lead households on average earn\n",
        "37,638 dollars less than male counterpart.\n",
        "\n",
        "In multiple regression, the intercept means male-lead households with\n",
        "high school degree earn 84,169 dollars on average. For the coefficient\n",
        "of `educationLess than High school`, it means if male is the main\n",
        "earner, then the average incomes they will earn are\n",
        "$84,169 + 31,811 = 52,358$ dollars. Then for female with high school\n",
        "degree, the average before-tax income is $84,169-37,638 = 46,531$\n",
        "dollars. We can interpret coefficient estimates of\n",
        "`educationNon-university post-secondary` and `educationUniversity` in a\n",
        "similar way."
      ],
      "id": "6a1a7a65-0e1a-4031-994d-9ce8c81d378b"
    },
    {
      "cell_type": "raw",
      "metadata": {
        "raw_mimetype": "text/html"
      },
      "source": [
        "</details>"
      ],
      "id": "9414e622-555d-4ba0-a51b-17e9ca87a3f4"
    },
    {
      "cell_type": "markdown",
      "metadata": {},
      "source": [
        "Now, consider the multiple regression that we estimated in the previous\n",
        "activity:\n",
        "\n",
        "$$\n",
        "W_i = \\beta_0 + \\beta_1 Gender_i + \\beta_2 S_i + \\epsilon_i\n",
        "$$\n",
        "\n",
        "Note that $Gender_i$ is `gender` and $S_i$ is `education`.\n",
        "\n",
        "1.  Why might we be skeptical of the argument that $\\beta_1$ captures\n",
        "    the gender income gap (i.e., the effect of having female as the main\n",
        "    earner on household’s income, all else being equal)? What can we do\n",
        "    to address these concerns?"
      ],
      "id": "6abed9c8-e89c-4ce5-9e9f-edc346cff447"
    },
    {
      "cell_type": "raw",
      "metadata": {
        "raw_mimetype": "text/html"
      },
      "source": [
        "<details>"
      ],
      "id": "de128172-2825-4fcf-8e7e-f33f06dac410"
    },
    {
      "cell_type": "raw",
      "metadata": {
        "raw_mimetype": "text/html"
      },
      "source": [
        "<summary>"
      ],
      "id": "b3905c9a-e2e7-4cb4-b976-db53fe5811cd"
    },
    {
      "cell_type": "markdown",
      "metadata": {},
      "source": [
        "Show/Hide Solution"
      ],
      "id": "98c49482-9912-4005-8ed3-7aec41178970"
    },
    {
      "cell_type": "raw",
      "metadata": {
        "raw_mimetype": "text/html"
      },
      "source": [
        "</summary>"
      ],
      "id": "900ab8cf-dbdd-4d38-8fa8-00f6a5bfa283"
    },
    {
      "cell_type": "markdown",
      "metadata": {},
      "source": [
        "Because there may be omitted variables that correlate with $Gender$.\n",
        "Maybe the omitted variables are the true reasons why there is an income\n",
        "gap, but we since do not control these variables, the coefficient\n",
        "estimate of $Gender$ is not correct."
      ],
      "id": "02ec0e1d-558f-4711-bca8-0882ac911690"
    },
    {
      "cell_type": "raw",
      "metadata": {
        "raw_mimetype": "text/html"
      },
      "source": [
        "</details>"
      ],
      "id": "f32fca54-2276-46ee-af07-23a930e06b5c"
    },
    {
      "cell_type": "markdown",
      "metadata": {},
      "source": [
        "1.  Suppose that a member of your research team suggests that we should\n",
        "    add `age` as a control in the regression. Do you agree with this\n",
        "    group member that this variable would be a good control? Why or why\n",
        "    not?"
      ],
      "id": "45469d30-aad4-4db4-90e2-266d6c4ba610"
    },
    {
      "cell_type": "raw",
      "metadata": {
        "raw_mimetype": "text/html"
      },
      "source": [
        "<details>"
      ],
      "id": "07c7919d-9c78-4812-a7cd-d82c132dccdf"
    },
    {
      "cell_type": "raw",
      "metadata": {
        "raw_mimetype": "text/html"
      },
      "source": [
        "<summary>"
      ],
      "id": "a7511b08-cc1d-4d33-8e43-f0e619691bf2"
    },
    {
      "cell_type": "markdown",
      "metadata": {},
      "source": [
        "Show/Hide Solution"
      ],
      "id": "d9953d4b-c21b-4f81-9ba1-63abe9f4de4d"
    },
    {
      "cell_type": "raw",
      "metadata": {
        "raw_mimetype": "text/html"
      },
      "source": [
        "</summary>"
      ],
      "id": "6a167eab-70ff-47ca-b52c-0a52fb36871d"
    },
    {
      "cell_type": "markdown",
      "metadata": {},
      "source": [
        "`age` is a good control, because age can affect incomes, and age can\n",
        "correlate with gender of main earners. If our regression omits `age`,\n",
        "the coefficient estimate of `gender` can be biased."
      ],
      "id": "71032cec-092a-4e10-8cfb-08ad132659f0"
    },
    {
      "cell_type": "raw",
      "metadata": {
        "raw_mimetype": "text/html"
      },
      "source": [
        "</details>"
      ],
      "id": "4e0eba05-d6fb-4234-979f-5e43c90e3305"
    },
    {
      "cell_type": "markdown",
      "metadata": {},
      "source": [
        "Now let’s turn back to coding. Let’s first simplify levels of age group\n",
        "using codes."
      ],
      "id": "b0a8e24e-2304-40a3-aa4e-9c64ed5a72d2"
    },
    {
      "cell_type": "code",
      "execution_count": null,
      "metadata": {},
      "outputs": [],
      "source": [
        "# run this!\n",
        "SFS_data <- \n",
        "        SFS_data %>%\n",
        "        mutate(agegr = case_when(\n",
        "              age == \"01\" ~ \"Under 30\",\n",
        "              age == \"02\" ~ \"Under 30\",\n",
        "              age == \"03\" ~ \"Under 30\",\n",
        "              age == \"04\" ~ \"30-45\",\n",
        "            age == \"05\" ~ \"30-45\",\n",
        "              age == \"06\" ~ \"30-45\",\n",
        "              age == \"07\" ~ \"45-60\",\n",
        "              age == \"08\" ~ \"45-60\",\n",
        "              age == \"09\" ~ \"45-60\",\n",
        "              age == \"10\" ~ \"60-75\",\n",
        "              age == \"11\" ~ \"60-75\",\n",
        "              age == \"12\" ~ \"60-75\",\n",
        "              age == \"13\" ~ \"Above 75\",\n",
        "              age == \"14\" ~ \"Above 75\",\n",
        "              )) %>%\n",
        "        mutate(agegr = as_factor(agegr))\n",
        "\n",
        "SFS_data$agegr <- relevel(SFS_data$agegr, ref = \"Under 30\") # set \"Under 30\" as default factor level"
      ],
      "id": "0714a580-130d-4368-b48f-105ca193108d"
    },
    {
      "cell_type": "markdown",
      "metadata": {},
      "source": [
        "1.  Add `agegr` to the given multiple regression and compare it with the\n",
        "    model that we estimated in the previous activity.\n",
        "\n",
        "Tested Objects: `reg3` (the same multiple regression that we estimated\n",
        "before, but with age added as a control)."
      ],
      "id": "5b8c503e-388f-4304-9808-20ef9d35045b"
    },
    {
      "cell_type": "code",
      "execution_count": null,
      "metadata": {},
      "outputs": [],
      "source": [
        "# add Age as Control\n",
        "# add them in the order: gender, education, age\n",
        "reg3 <- lm(???, data = SFS_data)\n",
        "\n",
        "# compare the regressions with and without this control\n",
        "stargazer(reg2, reg3, \n",
        "          title = \"Multiple Regressions with and without Age Controls\", align = TRUE, type = \"text\", keep.stat = c(\"n\",\"rsq\")) \n",
        "\n",
        "test_14() #For reg3 "
      ],
      "id": "1f137395-6e8e-469e-b2f4-f117cd3dd310"
    },
    {
      "cell_type": "markdown",
      "metadata": {},
      "source": [
        "1.  Compare the two regressions in the table above. What happens to the\n",
        "    estimated gender income gap when we add age as a control? What might\n",
        "    explain this effect?"
      ],
      "id": "b535a7f1-6814-4466-95fc-e965840b5a2d"
    },
    {
      "cell_type": "raw",
      "metadata": {
        "raw_mimetype": "text/html"
      },
      "source": [
        "<details>"
      ],
      "id": "9ea61057-44f6-4a94-9bf0-4aa727e400a8"
    },
    {
      "cell_type": "raw",
      "metadata": {
        "raw_mimetype": "text/html"
      },
      "source": [
        "<summary>"
      ],
      "id": "ba4b38a9-7d74-41b3-aeca-a2586a57e4dc"
    },
    {
      "cell_type": "markdown",
      "metadata": {},
      "source": [
        "Show/Hide Solution"
      ],
      "id": "9ffcf4ae-1803-455c-9838-7f30208c1277"
    },
    {
      "cell_type": "raw",
      "metadata": {
        "raw_mimetype": "text/html"
      },
      "source": [
        "</summary>"
      ],
      "id": "dbebef78-6aa7-4862-88f1-d1e5c874119d"
    },
    {
      "cell_type": "markdown",
      "metadata": {},
      "source": [
        "After we control age, the estimated gender income gap shrinks. This\n",
        "means some of the income gap may come from difference in age, rather\n",
        "than gender gap."
      ],
      "id": "db34810f-915e-4e7d-8ae8-820bbabf17a9"
    },
    {
      "cell_type": "raw",
      "metadata": {
        "raw_mimetype": "text/html"
      },
      "source": [
        "<details>"
      ],
      "id": "a8100b70-2ff3-4b7f-813c-6dd2244bd208"
    },
    {
      "cell_type": "markdown",
      "metadata": {},
      "source": [
        "1.  Suppose that one of your fellow researchers argues that `employment`\n",
        "    (employment status) should be added to the multiple regression as a\n",
        "    control. That way, they reason, we can account for differences\n",
        "    between employed and unemployed workers. Do you agree with their\n",
        "    reasoning?"
      ],
      "id": "ee398355-e276-4a61-a43d-59e4ff664ad5"
    },
    {
      "cell_type": "raw",
      "metadata": {
        "raw_mimetype": "text/html"
      },
      "source": [
        "<details>"
      ],
      "id": "d18a840f-0ff3-4f3b-9589-b390e1d77d0f"
    },
    {
      "cell_type": "raw",
      "metadata": {
        "raw_mimetype": "text/html"
      },
      "source": [
        "<summary>"
      ],
      "id": "1897a6ca-2add-4c92-b8b9-0d9663fadc2c"
    },
    {
      "cell_type": "markdown",
      "metadata": {},
      "source": [
        "Show/Hide Solution"
      ],
      "id": "52ead49d-dedb-4073-b64d-d9df15dfab42"
    },
    {
      "cell_type": "raw",
      "metadata": {
        "raw_mimetype": "text/html"
      },
      "source": [
        "</summary>"
      ],
      "id": "6910b41d-1a4f-414f-a2e1-fc9fad272cfc"
    },
    {
      "cell_type": "markdown",
      "metadata": {},
      "source": [
        "The reasoning is correct."
      ],
      "id": "1c084f67-740b-49ba-8153-b11e3814d2ea"
    },
    {
      "cell_type": "raw",
      "metadata": {
        "raw_mimetype": "text/html"
      },
      "source": [
        "</details>"
      ],
      "id": "7862ee7e-4703-486a-a8f2-2d6083c57635"
    },
    {
      "cell_type": "markdown",
      "metadata": {},
      "source": [
        "1.  Let’s test this argument directly. Add `employment` as a control to\n",
        "    the multiple regression with all previous controls. Estimate this\n",
        "    new regression (`reg4`)."
      ],
      "id": "19bdf382-ef11-4cf4-9889-6d2d83047c83"
    },
    {
      "cell_type": "code",
      "execution_count": null,
      "metadata": {},
      "outputs": [],
      "source": [
        "# add in the order before, with employment last\n",
        "reg4 <- lm(???, data = SFS_data)\n",
        "\n",
        "summary(reg4)\n",
        "\n",
        "test_17() "
      ],
      "id": "e1c0b502-ae92-4ace-96a0-3e84bd6bfd02"
    },
    {
      "cell_type": "markdown",
      "metadata": {},
      "source": [
        "1.  What happens to the gender income gap when we run the regression\n",
        "    with `employment`?"
      ],
      "id": "287a0402-245e-4a8f-b7ec-d9d0577805fa"
    },
    {
      "cell_type": "raw",
      "metadata": {
        "raw_mimetype": "text/html"
      },
      "source": [
        "<details>"
      ],
      "id": "5543c7d3-062e-418c-ae5b-3ca63dc9004a"
    },
    {
      "cell_type": "raw",
      "metadata": {
        "raw_mimetype": "text/html"
      },
      "source": [
        "<summary>"
      ],
      "id": "20fb701e-ba10-40fb-b662-e40b6c5108d8"
    },
    {
      "cell_type": "markdown",
      "metadata": {},
      "source": [
        "Show/Hide Solution"
      ],
      "id": "243a30c1-5930-4402-9e4b-671eb059e8d4"
    },
    {
      "cell_type": "raw",
      "metadata": {
        "raw_mimetype": "text/html"
      },
      "source": [
        "</summary>"
      ],
      "id": "e67def90-4735-45d2-8051-00be58d03918"
    },
    {
      "cell_type": "markdown",
      "metadata": {},
      "source": [
        "When we run regression with `employment`, the gender income gap shrinks\n",
        "even more, which means `employment` explains part of the income gap."
      ],
      "id": "d3547173-413e-4bf4-a981-e0af59253834"
    },
    {
      "cell_type": "raw",
      "metadata": {
        "raw_mimetype": "text/html"
      },
      "source": [
        "</details>"
      ],
      "id": "3c5dec7b-5ff8-4d7d-a47c-ccdcc5b1a9ea"
    },
    {
      "cell_type": "markdown",
      "metadata": {},
      "source": [
        "Now consider the following scenario. In the middle of your team’s\n",
        "discussion of which controls they should add to the multiple regression\n",
        "(the same one as the previous activity), your roommate bursts into the\n",
        "room and yells “Just add them all!” After a moment of confused silence,\n",
        "the roommate elaborates that it never hurts to add controls as long as\n",
        "they don’t “break” the regression (like `employment` and `agegr`). “Data\n",
        "is hard to come by, so we should use as much of it as we can get,” he\n",
        "says.\n",
        "\n",
        "Recall: Below are all of the variables in the dataset."
      ],
      "id": "518d129f-a2b4-4acc-93b9-13d655d979c8"
    },
    {
      "cell_type": "code",
      "execution_count": null,
      "metadata": {},
      "outputs": [],
      "source": [
        "glimpse(SFS_data) # run me"
      ],
      "id": "52857ff4-b79b-4709-aedc-6c1ecdcad153"
    },
    {
      "cell_type": "markdown",
      "metadata": {},
      "source": [
        "1.  Do you agree with your roommate’s argument? Why or why not?"
      ],
      "id": "ab05455d-556e-4895-b86c-1fd1be398108"
    },
    {
      "cell_type": "raw",
      "metadata": {
        "raw_mimetype": "text/html"
      },
      "source": [
        "<details>"
      ],
      "id": "8e8325c1-7e80-41b2-a90b-b7bf3a01c09f"
    },
    {
      "cell_type": "raw",
      "metadata": {
        "raw_mimetype": "text/html"
      },
      "source": [
        "<summary>"
      ],
      "id": "dc80846b-9e50-4562-bdef-9cb5897e272f"
    },
    {
      "cell_type": "markdown",
      "metadata": {},
      "source": [
        "Show/Hide Solution"
      ],
      "id": "2161c14f-9cf1-41cc-ae3b-9bf89f443e51"
    },
    {
      "cell_type": "raw",
      "metadata": {
        "raw_mimetype": "text/html"
      },
      "source": [
        "</summary>"
      ],
      "id": "328c08fb-7483-4450-820b-5e08ff3957d5"
    },
    {
      "cell_type": "markdown",
      "metadata": {},
      "source": [
        "The roommate’s reasoning is incorrect, because we could introduce\n",
        "multicollinearity if we add all variables."
      ],
      "id": "5a1b7913-b334-4fbd-bcb3-69dfd859a0c8"
    },
    {
      "cell_type": "raw",
      "metadata": {
        "raw_mimetype": "text/html"
      },
      "source": [
        "</details>"
      ],
      "id": "7d21e788-99bc-427e-8e7e-5397abb55ac3"
    },
    {
      "cell_type": "markdown",
      "metadata": {},
      "source": [
        "1.  Let’s back up our argument with regression analysis. Estimate a\n",
        "    regression that has the same controls as `reg3` from the previous\n",
        "    activity, but add `pasrbuyg` as a control as well.\n",
        "\n",
        "What is “pasrbuyg”?"
      ],
      "id": "1228e0e5-40ba-4e6a-9a41-caabb268ba27"
    },
    {
      "cell_type": "code",
      "execution_count": null,
      "metadata": {},
      "outputs": [],
      "source": [
        "dictionary(\"pasrbuyg\") # run me"
      ],
      "id": "5882a717-d0a8-477b-906a-903f67650622"
    },
    {
      "cell_type": "markdown",
      "metadata": {},
      "source": [
        "Tested Objects: `reg5`."
      ],
      "id": "0df5f17b-8230-4997-a4bd-48b8e2e14eee"
    },
    {
      "cell_type": "code",
      "execution_count": null,
      "metadata": {},
      "outputs": [],
      "source": [
        "# add pasrbuyg to regression\n",
        "# keep the order (gender, education, agegr, pasrbuyg)\n",
        "reg5 <- lm(???, data = SFS_data)\n",
        "\n",
        "# table comparing regressions with and without ppsort\n",
        "stargazer(reg3, reg5,\n",
        "          title = \"Multiple Regressions with and without ppsort\", align = TRUE, type = \"text\", keep.stat = c(\"n\",\"rsq\")) \n",
        "\n",
        "test_20() # For reg5 "
      ],
      "id": "dde89d51-bc6e-4a99-9d83-de42b62dbc56"
    },
    {
      "cell_type": "markdown",
      "metadata": {},
      "source": [
        "1.  Does the table above suggest that we should add `pasrbuyg` as a\n",
        "    control?"
      ],
      "id": "fce9a651-858d-40e7-bdc8-90815b9e9e5a"
    },
    {
      "cell_type": "raw",
      "metadata": {
        "raw_mimetype": "text/html"
      },
      "source": [
        "<details>"
      ],
      "id": "269055d6-324b-44e6-b6d1-3ce31ff89f49"
    },
    {
      "cell_type": "raw",
      "metadata": {
        "raw_mimetype": "text/html"
      },
      "source": [
        "<summary>"
      ],
      "id": "a3c699a0-07d0-4621-b34a-1b19f19bcbd0"
    },
    {
      "cell_type": "markdown",
      "metadata": {},
      "source": [
        "Show/Hide Solution"
      ],
      "id": "4ff6195c-dca6-41c7-9de4-f79cb11dc4fa"
    },
    {
      "cell_type": "raw",
      "metadata": {
        "raw_mimetype": "text/html"
      },
      "source": [
        "</summary>"
      ],
      "id": "0bc76bae-7b59-4c58-9ac6-ace62d06db94"
    },
    {
      "cell_type": "markdown",
      "metadata": {},
      "source": [
        "No, we should not add `pasrbuyg` as a control, because the estimated\n",
        "coefficients are not significant, and it may have multicollinearity\n",
        "issue with `agegr`."
      ],
      "id": "e7421780-cdcf-4d02-b5e8-9dd35677bf2e"
    },
    {
      "cell_type": "raw",
      "metadata": {
        "raw_mimetype": "text/html"
      },
      "source": [
        "</details>"
      ],
      "id": "6390ce59-7d79-4c83-8c43-d17287559fc4"
    },
    {
      "cell_type": "markdown",
      "metadata": {},
      "source": [
        "1.  What other variables can be added as controls?"
      ],
      "id": "f8b516cf-07af-48e0-9aae-09b46e306da4"
    },
    {
      "cell_type": "raw",
      "metadata": {
        "raw_mimetype": "text/html"
      },
      "source": [
        "<details>"
      ],
      "id": "10885076-1b31-4223-9f6a-c7fae831c927"
    },
    {
      "cell_type": "raw",
      "metadata": {
        "raw_mimetype": "text/html"
      },
      "source": [
        "<summary>"
      ],
      "id": "7f5a0556-db6f-4584-bbcd-d9731430a84f"
    },
    {
      "cell_type": "markdown",
      "metadata": {},
      "source": [
        "Show/Hide Solution"
      ],
      "id": "f1610055-5a86-42ca-a839-8b024eb6f7c4"
    },
    {
      "cell_type": "raw",
      "metadata": {
        "raw_mimetype": "text/html"
      },
      "source": [
        "</summary>"
      ],
      "id": "74eb99dd-76e3-4a2f-8ef6-be547366c30e"
    },
    {
      "cell_type": "markdown",
      "metadata": {},
      "source": [
        "This is an open question. Just make sure that your variables are\n",
        "included in dataset, and that you have a reasonable explanation as to\n",
        "why add them as controls."
      ],
      "id": "0c6a085b-5f1c-4cee-817b-1e85d880e14a"
    },
    {
      "cell_type": "raw",
      "metadata": {
        "raw_mimetype": "text/html"
      },
      "source": [
        "</details>"
      ],
      "id": "443d300c-2d41-4b1e-b49c-3aea9141cf66"
    }
  ],
  "nbformat": 4,
  "nbformat_minor": 5,
  "metadata": {
    "kernelspec": {
      "name": "ir",
      "display_name": "R",
      "language": "r"
    }
  }
}