{
  "cells": [
    {
      "cell_type": "markdown",
      "metadata": {},
      "source": [
        "# 2.4 - Intermediate - Issues in Regression\n",
        "\n",
        "COMET Team <br> *Emrul Hasan, Jonah Heyl, Shiming Wu, William Co,\n",
        "Jonathan Graves*  \n",
        "2022-12-08\n",
        "\n",
        "## Outline\n",
        "\n",
        "### Prerequisites\n",
        "\n",
        "-   Multiple regression\n",
        "-   Simple regression\n",
        "-   Data analysis and introduction\n",
        "\n",
        "### Outcomes\n",
        "\n",
        "-   Understand the origin and meaning of multicollinearity in regression\n",
        "    models\n",
        "-   Perform simple tests for multicollinearity using VIF\n",
        "-   Be able to demonstrate common methods to fix or resolve collinear\n",
        "    data\n",
        "-   Understand the origin and meaning of heteroskedasticity in\n",
        "    regression models\n",
        "-   Perform a variety of tests for heteroskedasticity\n",
        "-   Compute robust standard errors for regression models\n",
        "-   Understand other techniques for resolving heteroskedasticity in\n",
        "    regression models\n",
        "\n",
        "### References\n",
        "\n",
        "-   Statistics Canada, Survey of Financial Security, 2019, 2021.\n",
        "    Reproduced and distributed on an “as is” basis with the permission\n",
        "    of Statistics Canada. Adapted from Statistics Canada, Survey of\n",
        "    Financial Security, 2019, 2021. This does not constitute an\n",
        "    endorsement by Statistics Canada of this product.\n",
        "-   Stargazer package is due to: Hlavac, Marek (2018). stargazer:\n",
        "    Well-Formatted Regression and Summary Statistics Tables. R package\n",
        "    version 5.2.2. https://CRAN.R-project.org/package=stargazer"
      ],
      "id": "ff75a001-ea8b-4345-9c1a-1bc5b5beb525"
    },
    {
      "cell_type": "code",
      "execution_count": null,
      "metadata": {},
      "outputs": [],
      "source": [
        "#load the data and set it up\n",
        "library(car)\n",
        "library(tidyverse)\n",
        "library(haven)\n",
        "library(stargazer)\n",
        "library(lmtest)\n",
        "library(sandwich)\n",
        "source(\"intermediate_issues_in_regression_functions.r\")\n",
        "source(\"intermediate_issues_in_regression_tests.r\")"
      ],
      "id": "e44c9ddc-8cb3-47d0-8e2e-ade8cc6e0c71"
    },
    {
      "cell_type": "code",
      "execution_count": null,
      "metadata": {},
      "outputs": [],
      "source": [
        "#data prep!\n",
        "SFS_data <- read_dta(\"datasets_intermediate/SFS_2019_Eng.dta\")\n",
        "SFS_data <- clean_up_data(SFS_data) # massive data cleanup"
      ],
      "id": "1f74d422-ba73-4a5f-913e-4a63742af91d"
    },
    {
      "cell_type": "code",
      "execution_count": null,
      "metadata": {},
      "outputs": [],
      "source": [
        "glimpse(SFS_data)"
      ],
      "id": "fb1e7d15-a48c-4f67-8209-d783db3545c4"
    },
    {
      "cell_type": "markdown",
      "metadata": {},
      "source": [
        "In this notebook, we will explore several important issues in multiple\n",
        "regression models, and explore how to identify, evaluate, and correct\n",
        "them where appropriate. It is important to remember that there can be\n",
        "many other issues that arise in specific regression models; as you learn\n",
        "more about econometrics and create your own research questions,\n",
        "different issues will arise. Consider these as “examples” for some of\n",
        "the most common issues that arise in regression models.\n",
        "\n",
        "## Part 1: Multicollinearity\n",
        "\n",
        "Multi-collinearity is a surprisingly common issue in applied regression\n",
        "analysis, where several explanatory variables are correlated to each\n",
        "other. For example, suppose we are interested at regressing one’s\n",
        "marriage rate against years of education and annual income. In this\n",
        "case, the two explanatory variables income and years of education are\n",
        "highly correlated. It refers to the situation where a variable is\n",
        "“overdetermined” by the other variables in a model, which will result in\n",
        "less reliable regression output. For example, if we have a high\n",
        "coefficient on education. How certain are we that this coefficient was\n",
        "not the result of having a high annual income as well? Let’s look at\n",
        "this problem mathematically; in calculating an OLS estimation, you are\n",
        "estimating a relationship like:\n",
        "\n",
        "$$\n",
        "Y_i = \\beta_0 + \\beta_1 X_1 + \\epsilon_i\n",
        "$$\n",
        "\n",
        "You find the estimates of the coefficients in this model using OLS;\n",
        "i.e., solving an equation like:\n",
        "\n",
        "$$ \\min_{\\beta_0, \\beta_1} \\sum_{i=1}^n(Y_i - \\beta_0 - \\beta_1 X_i)^2 \n",
        "$$\n",
        "\n",
        "Under the OLS regression assumptions, this has a unique solution; i.e\n",
        "you can find unique values for $\\beta_0$ and $\\beta_1$.\n",
        "\n",
        "However, what if you wrote an equation like this:\n",
        "\n",
        "$$\n",
        "\\beta_a=\\beta_0+\\beta_1\n",
        "$$\n",
        "\n",
        "We can then rewrite as\n",
        "$Y_i = \\beta_0 + \\beta_1 + \\beta_2 X_i + \\epsilon_i$\n",
        "\n",
        "This *seems* like it would be fine, but remember what you are doing:\n",
        "trying to find a *line* of best fit. The problem is that this equation\n",
        "does not define a unique line; the “intercept” is $\\beta_0 + \\beta_1$.\n",
        "There are two “parameters” ($\\beta_0, \\beta_1$) for a single\n",
        "“characteristic” (the intercept). This means that the resulting OLS\n",
        "problem:\n",
        "\n",
        "$$ \\min_{\\beta_0, \\beta_1, \\beta_2} \\sum_{i=1}^n(Y_i - \\beta_0 - \\beta_1 - \\beta_2 X_i)^2 \n",
        "$$\n",
        "\n",
        "Does not have a unique solution. In algebraic terms, it means you can\n",
        "find many representations of a line with two intercept parameters. This\n",
        "is referred to in econometrics as a lack of **identification**;\n",
        "multicollinearity is one way that identification can fail in regression\n",
        "models.\n",
        "\n",
        "You can see this in the following example, which fits an OLS estimate of\n",
        "`wealth` and `income_before_tax` then compares the fit to a regression\n",
        "with two intercepts. Try changing the values to see what happens.\n",
        "\n",
        "> **Note**: Make sure to understand what the example below is doing.\n",
        "> Notice how the results are exactly the same, no matter what the value\n",
        "> of `k` is?"
      ],
      "id": "4c81dc39-0ab6-4401-a375-95c8bd16ac12"
    },
    {
      "cell_type": "code",
      "execution_count": null,
      "metadata": {},
      "outputs": [],
      "source": [
        "reg <- lm(wealth ~ income_before_tax, data = SFS_data)\n",
        "\n",
        "b_0 <- reg$coef[[1]]\n",
        "b_1 <- reg$coef[[2]]\n",
        "\n",
        "resid1 <- SFS_data$wealth - b_0 - b_1*SFS_data$income_before_tax\n",
        "\n",
        "\n",
        "k <- 90 #change me! \n",
        "\n",
        "b_0 = (reg$coef[[1]])/2 - k\n",
        "b_1 = (reg$coef[[1]])/2 + k \n",
        "b_2 = reg$coef[[2]]\n",
        "\n",
        "resid2 <-SFS_data$wealth - b_0 - b_1 - b_2*SFS_data$income_before_tax\n",
        "\n",
        "\n",
        "\n",
        "ggplot() + geom_density(aes(x = resid1), color = \"blue\") + xlab(\"Residuals from 1 Variable Model\") + ylab(\"Density\")\n",
        "ggplot() + geom_density(aes(x = resid2), color = \"red\")  + xlab(\"Residuals from 2 Variable Model\") + ylab(\"Density\")"
      ],
      "id": "5bc3d857-742c-4ee4-ae33-9945762bd67e"
    },
    {
      "cell_type": "markdown",
      "metadata": {},
      "source": [
        "Notice how the residuals look *exactly* the same - despite these being\n",
        "from (purportedly) two different models. This is because they not really\n",
        "two different models! They *identify* the same model!\n",
        "\n",
        "Okay, you’re probably thinking, that makes sense - but just don’t write\n",
        "down an equation like that. After all, it seems somewhat artificial that\n",
        "we added an extra intercept term.\n",
        "\n",
        "However, multicollinearity can occur with *any* set of variables in the\n",
        "model; not just the intercept. For example, suppose you have a multiple\n",
        "regression:\n",
        "\n",
        "$$\n",
        "Y_ i = \\beta_0 + \\beta_1 X_{1,i} + \\beta_2  X_{2,i} + \\beta_3  X_{3,i} + \\epsilon_i\n",
        "$$\n",
        "\n",
        "What would happen if there was a relationship between $X_1, X_2$ and\n",
        "$X_3$ like:\n",
        "\n",
        "$$\n",
        "X_{1,i} = 0.4 X_{2,i} + 12 X_{3,i}\n",
        "$$\n",
        "\n",
        "We could then re-write the equation as:\n",
        "\n",
        "$$\n",
        "Y_ i = \\beta_0 + \\beta_1 (0.4 X_{2,i} + 12 X_{3,i}) + \\beta_2  X_{2,i} + \\beta_3  X_{3,i} + \\epsilon_i\n",
        "$$\n",
        "\n",
        "$$\n",
        "\\implies Y_ i = \\beta_0 + (\\beta_2 + 0.4 \\beta_1)  X_{2,i} + (\\beta_3 + 12 \\beta_1)X_{3,i} + \\epsilon_i\n",
        "$$\n",
        "\n",
        "The same problem is now occuring, but with $X_2$ and $X_3$: the slope\n",
        "coefficients depend on a free parameter ($\\beta_1$). You cannot uniquely\n",
        "find the equation of a line (c.f. plane) with this kind of equation.\n",
        "\n",
        "Basically what is happening, is you are trying to solve a system of\n",
        "equations for 3 variables (or n variables), but only 2 (or n-1) are used\n",
        "in the equation (are independent). So what would you do, well you would\n",
        "leave one of the dependent variables out, so you could solve for all of\n",
        "your variables, this is exactly what R does.\n",
        "\n",
        "You can also intuitively see the condition here: multicollinearity\n",
        "occurs when you can express one variable as a *linear* combination of\n",
        "the other variables in the model.\n",
        "\n",
        "-   This is sometimes referred to as **perfect multicollinearity**,\n",
        "    since the variable is *perfectly* expressed as a linear combination\n",
        "    of the other variable.\n",
        "-   The linearity is important because this is a linear model; you can\n",
        "    have similar issues in other models, but it has a special name in\n",
        "    linear regression.\n",
        "\n",
        "### Perfect Multicollinearity in Models\n",
        "\n",
        "In general, most statistical packages (like R) will automatically\n",
        "detect, warn, and remove perfectly multicollinear variables from a\n",
        "model; this is because the algorithm they use to solve problems like the\n",
        "OLS estimation equation detects the problem and avoids a “crash”. This\n",
        "is fine, from a mathematical perspective - since mathematically the two\n",
        "results are the same (in a well-defined sense, as we saw above).\n",
        "\n",
        "However, from an economic perspective this is very bad - it indicates\n",
        "that there was a problem with the *model* that you defined in the first\n",
        "place. Usually, this means one of three things:\n",
        "\n",
        "1.  You included a set of variables which were, in combination,\n",
        "    identical. For example, including “family size” and then “number of\n",
        "    children” and “number of adults” in a regression\n",
        "2.  You did not understand the data well enough, and variables had less\n",
        "    variation than you thought they did - conditional on the other\n",
        "    variables in the model. For example, maybe you thought people in the\n",
        "    dataset could have both graduate and undergraduate degrees - so\n",
        "    there was variation in “higher than high-school” but that wasn’t\n",
        "    true\n",
        "3.  You wrote down a model which was poorly defined in terms of the\n",
        "    variables. For example, you included all levels of a dummy variable,\n",
        "    or included the same variable measured in two different units (wages\n",
        "    in dollars and wages in 1000s of dollars).\n",
        "\n",
        "In all of these cases, you need to go back to your original regression\n",
        "model and re-evaluate what you are trying to do in order to simplify the\n",
        "model or correct the error.\n",
        "\n",
        "Consider the following regression model, in which we want to study\n",
        "whether or not there is a penalty for families led by someone who is\n",
        "younger is the SFS Data:"
      ],
      "id": "2ec21272-c83f-4f7d-a549-52123efafdcc"
    },
    {
      "cell_type": "code",
      "execution_count": null,
      "metadata": {},
      "outputs": [],
      "source": [
        "SFS_data <- SFS_data %>%\n",
        "    mutate(ya = case_when(\n",
        "        education == \"Less than high school\"  ~ \"Yes\",\n",
        "        education == \"High school\" ~ \"Yes\",\n",
        "        education == \"Non-university post-secondary\" ~ \"No\",\n",
        "        TRUE ~ \"No\" # this is for all other cases\n",
        "    )) %>%\n",
        "    mutate(ya = as_factor(ya))\n",
        "\n",
        "regression2 <- lm(income_before_tax ~ ya + education , data = SFS_data)\n",
        "\n",
        "summary(regression2)"
      ],
      "id": "8a47236a-9eff-4862-b2d4-7a8c3bb12023"
    },
    {
      "cell_type": "markdown",
      "metadata": {},
      "source": [
        "Can you see why the multi-collinearity is occurring here? Try to write\n",
        "down an equation which points out what the problem is in this\n",
        "regression - why is it multi-collinear? How could you fix this problem\n",
        "by changing the model?\n",
        "\n",
        "> **Think Deeper**: You will notice, above, that it excluded the\n",
        "> “University” education. Did it have to exclude that one? Could it have\n",
        "> excluded another one instead? What do you think?\n",
        "\n",
        "### Imperfect Multicollinearity\n",
        "\n",
        "A related issue to perfect multicollinearity is “near” (or\n",
        "**imperfect**) multicollinearity. If you recall from the above, perfect\n",
        "multicollinearity occurs when you have a relationship like:\n",
        "\n",
        "$$\n",
        "X_{1,i} = 0.4 X_{2,i} + 12 X_{3,i}\n",
        "$$\n",
        "\n",
        "Notice that in this relationship it holds *for all* values of $i$.\n",
        "However, what if it held for *nearly* all $i$ instead? In that case, we\n",
        "would still have a solution to the equation… but there would be a\n",
        "problem. Let’s look at this in the simple regression case.\n",
        "\n",
        "$$\n",
        "Y_i = \\beta_0 + \\beta_1 X_i + \\epsilon_i\n",
        "$$\n",
        "\n",
        "Now, let’s suppose that $X_i$ is “almost” collinear with $\\beta_0$. To\n",
        "be precise, suppose that $X_i = 15$ for $k$-% of the data ($k$ will be\n",
        "large) and $X_i = 20$ for $(1-k)$-% of the data. This is *almost*\n",
        "constant, and so it is *almost* collinear with $\\beta_0$ (the constant).\n",
        "Let’s also make the values of $Y_i$ so that\n",
        "$Y_i(X_i) = X_i + \\epsilon_i$ (so $\\beta_1 = 1$), and we will set\n",
        "$\\sigma_Y = 1$.\n",
        "\n",
        "This implies that:\n",
        "\n",
        "$$\n",
        "\\beta_1 = \\frac{Cov(X_i,Y_i)}{Var(X_i)} = 1\n",
        "$$\n",
        "\n",
        "$$\n",
        "s_b = \\frac{1}{\\sqrt{n-2}}\\sqrt{\\frac{1}{r^2}-1}\n",
        "$$\n",
        "\n",
        "$$\n",
        "r = \\frac{\\sigma_X}{\\sigma_Y}\n",
        "$$\n",
        "\n",
        "As you can see, when $Var(X_i)$ goes down, $\\sigma_X$ falls, and the\n",
        "value of $r$ falls; intuitively, when $k$ rises, the variance will go to\n",
        "zero, which makes $r$ go to zero as well (since there’s no variation).\n",
        "You can then see that $s_b$ diverges to infinity.\n",
        "\n",
        "We can make this more precise. In this model, how does $Var(X_i)$ depend\n",
        "on $k$? Well, first notice that\n",
        "$\\bar{X_i} = 15\\cdot k + 20 \\cdot (1-k)$. Then,\n",
        "\n",
        "$$\n",
        "Var(X_i) = (X_i - \\bar{X_i})^2 = k (15 - \\bar{X_i})^2 + (1-k)(20 - \\bar{X_i})^2\n",
        "$$\n",
        "\n",
        "$$\n",
        "\\implies Var(X_i) = 25[k(1-k)^2 + (1-k)k^2]\n",
        "$$\n",
        "\n",
        "Okay, that looks awful - so let’s plot a graph of $s_b$ versus $k$ (when\n",
        "$n = 1000$):"
      ],
      "id": "4db3cc9f-8f09-4186-af70-182e2e1ea6d8"
    },
    {
      "cell_type": "code",
      "execution_count": null,
      "metadata": {},
      "outputs": [],
      "source": [
        "options(repr.plot.width=6,repr.plot.height=4)\n",
        "\n",
        "r = 0.01 \n",
        "\n",
        "eq = function(k){(1/sqrt(1000-2))*(1/(25*(k*(1-k)^2 + (1-k)*k^2))-1)}\n",
        "s = seq(0.5, 1.00, by = r)\n",
        "n = length(s)\n",
        "\n",
        "plot(eq(s), type='l',  xlab=\"Values of K\", ylab=\"Standard Error\", xaxt = \"n\")\n",
        "axis(1, at=seq(0, n-1, by = 10), labels=seq(0.5, 1.00, by = 10*r))\n",
        "\n",
        "# You will notice that the plot actually diverges to infinity\n",
        "# Try making R smaller to show this fact!\n",
        "# Notice the value at 1 increases"
      ],
      "id": "dd47e820-0233-4de7-8c67-106a4701b233"
    },
    {
      "cell_type": "markdown",
      "metadata": {},
      "source": [
        "Why does this happen? The reason actually has to do with *information*.\n",
        "\n",
        "When you estimate a regression, you are using the variation in the data\n",
        "to estimate each of the parameters. As the variation falls, the\n",
        "estimation gets less and less precise, because you are using less and\n",
        "less data to make an evaluation. The magnitude of this problem can be\n",
        "quantified using the **VIF** or **variance inflation factor** for each\n",
        "of the variables in question. Graphically you can think of regression as\n",
        "drawing a best fit line through data points. Now if the variance is $0$\n",
        "in the data, there is just one data point. If you remember from high\n",
        "school, you need two points to draw a line, so with $0$ variance the OLS\n",
        "problem becomes ill-defined.\n",
        "\n",
        "We can calculate this directly in R by using the `vif` function. Let’s\n",
        "look at the collinearity in our model:"
      ],
      "id": "98793761-59a0-4746-a508-4fc224174aab"
    },
    {
      "cell_type": "code",
      "execution_count": null,
      "metadata": {},
      "outputs": [],
      "source": [
        "regression2 <- lm(wealth ~  income_before_tax + income_after_tax, data = SFS_data)\n",
        "\n",
        "summary(regression2)"
      ],
      "id": "33741696-e570-42f0-9794-10f006008c9d"
    },
    {
      "cell_type": "code",
      "execution_count": null,
      "metadata": {},
      "outputs": [],
      "source": [
        "cat(\"Variance inflation factor of income after tax on wealth: \",vif(regression2,SFS_data$income_after_tax,SFS_data$wealth),'\\n')\n",
        "cat(\"Variance inflation factor of income before tax on wealth: \",vif(regression2,SFS_data$income_before_tax,SFS_data$wealth),'\\n')\n",
        "cat(\"Variance inflation factor of income before tax on income after tax: \",vif(regression2,SFS_data$income_before_tax,SFS_data$income_after_tax),'\\n')"
      ],
      "id": "5d90297e-9688-43ab-b256-faeb507639d5"
    },
    {
      "cell_type": "markdown",
      "metadata": {},
      "source": [
        "Notice the extremely large VIF. This would indicate that you have a\n",
        "problem with collinearity in your data.\n",
        "\n",
        "> **Think Deeper**: What happens to the VIF as `k` changes? Why? Can you\n",
        "> explain?\n",
        "\n",
        "There are no “hard” rules for what makes a VIF too large - you should\n",
        "think about your model holistically, and use it as a way to investigate\n",
        "whether you have any problems with your model evaluation and analysis.\n",
        "\n",
        "## Part 2: Heteroskedasticity\n",
        "\n",
        "**Heteroskedasticity** (Het-er-o-sked-as-ti-city) is another common\n",
        "problem in many economic models. It refers to the situation in which the\n",
        "distribution of the residuals changes as the explanatory variables\n",
        "change. Usually, we could visualize this problem by drawing a residual\n",
        "plot and a fan or cone shape indicates the presence of\n",
        "heteroskedasticity. For example, consider this regression:"
      ],
      "id": "9ee68956-91d8-4fb8-b099-5c3b82687fd3"
    },
    {
      "cell_type": "code",
      "execution_count": null,
      "metadata": {},
      "outputs": [],
      "source": [
        "regression3 <- lm(income_before_tax ~ income_after_tax, data = SFS_data)\n",
        "\n",
        "ggplot(data = SFS_data, aes(x = as.numeric(income_after_tax), y = as.numeric(regression3$residuals))) + geom_point() + labs(x = \"After-tax income\", y = \"Residuals\")"
      ],
      "id": "d09f1185-5570-47d4-9cd5-a5b7b4423a78"
    },
    {
      "cell_type": "markdown",
      "metadata": {},
      "source": [
        "This obviously does not look like a distribution which is unchanging as\n",
        "income after tax changes. This is a good “eyeball test” for\n",
        "heteroskedasticity. Why does heteroskedasticity arise? For many reasons:\n",
        "\n",
        "1.  It can be a property of the data; it just happens that some values\n",
        "    show more variation, due to the process which creates the data. One\n",
        "    of the most common ways this can arise is where there are several\n",
        "    different economic processes creating the data.  \n",
        "2.  It can be because of an unobserved variable. This is similar to\n",
        "    above; if we can quantify that process in a variable or a\n",
        "    description, we have left it out. This could create bias in our\n",
        "    model, but it will also show up in the standard errors in this way.\n",
        "3.  It can be because of your model specification. Models, by their very\n",
        "    nature, can be heteroskedastic (or not); we will explore one\n",
        "    important example later in this worksheet.\n",
        "4.  There are many other reasons, which we won’t get into here.\n",
        "\n",
        "Whatever the reason it exists, you need to correct for it - if you\n",
        "don’t, while your coefficients will be OK, your standard errors will be\n",
        "incorrect. You can do this in a few ways. The first way is to try to\n",
        "change your variables that the “transformed” model (a) makes economic\n",
        "sense, and (b) no longer suffers from heteroskedasticity. For example,\n",
        "perhaps a *log-log* style model might work here:"
      ],
      "id": "f9a90e6c-7d43-488e-a42e-1b25cdea9f64"
    },
    {
      "cell_type": "code",
      "execution_count": null,
      "metadata": {},
      "outputs": [],
      "source": [
        "SFS_data <- SFS_data %>%\n",
        "               filter(income_before_tax > 0) %>% # getting rid of NAs\n",
        "               mutate(lnincome_before_tax = log(income_before_tax))\n",
        "\n",
        "SFS_data <- SFS_data %>%\n",
        "               filter(income_after_tax > 0) %>%\n",
        "               mutate(lnincome_after_tax = log(income_after_tax))\n",
        "\n",
        "\n",
        "regression4 <- lm(lnincome_before_tax ~ lnincome_after_tax, data = SFS_data)\n",
        "\n",
        "ggplot(data = SFS_data, aes(x = lnincome_before_tax, y = regression4$residuals)) + geom_point() + labs(x = \"Log of before-tax income\", y = \"Residuals\")"
      ],
      "id": "7af03e8d-fa48-4dac-bea6-a258f5a2ee1c"
    },
    {
      "cell_type": "markdown",
      "metadata": {},
      "source": [
        "> **Think Deeper**: Do the errors of this model seem homoskedastic?\n",
        "\n",
        "As you can see, that didn’t work out. This is pretty typical: when you\n",
        "transform a model by changing the variables, what you are really doing\n",
        "is adjusting how you think the data process should be described so that\n",
        "it’s no longer heteroskedastic. If you aren’t correct with this, you\n",
        "won’t fix the problem.\n",
        "\n",
        "For example, in a *log-log* model, we are saying “there’s a\n",
        "multiplicative relationship”… but that probably doesn’t make sense here.\n",
        "This is one of the reasons why data transformations are not usually a\n",
        "good way to fix this problem unless you have a very clear idea of what\n",
        "the transformation *should* be.\n",
        "\n",
        "The most robust (no pun intended) way is to simply use standard errors\n",
        "which are robust to heteroskedasticity. There are actually a number of\n",
        "different versions of these (which you don’t need to know about), but\n",
        "they are all called **HC** or **heteroskedasticity-corrected** standard\n",
        "errors. In economics, we typically adopt White’s versions of these\n",
        "(called **HC1** in the literature); these are often referred to in\n",
        "economics papers as “robust” standard errors (for short).\n",
        "\n",
        "This is relatively easy to do in R. Basically, you run your model, as\n",
        "normal, and then re-test the coefficients to get the correct error using\n",
        "the `coeftest` command, but specifying which kind of errors you want to\n",
        "use. Here is an example:"
      ],
      "id": "a412d4f5-f8db-4cf6-8941-da5623ef3feb"
    },
    {
      "cell_type": "code",
      "execution_count": null,
      "metadata": {},
      "outputs": [],
      "source": [
        "regression5 <- lm(income_before_tax ~ income_after_tax, data = SFS_data)\n",
        "\n",
        "summary(regression5)\n",
        "\n",
        "coeftest(regression5, vcov = vcovHC(regression5, type = \"HC1\"))"
      ],
      "id": "ad4d13d7-9929-4113-8e10-15761c93a958"
    },
    {
      "cell_type": "markdown",
      "metadata": {},
      "source": [
        "As you can see, the standard errors (and significance tests) give\n",
        "different results; in particular, the HC1 errors are almost 10-times\n",
        "larger than the uncorrected errors. In this particular model, it didn’t\n",
        "make much of a different to the conclusions (even though it changed the\n",
        "$t$ statistics a lot), but it can sometimes change your results.\n",
        "\n",
        "### Testing for Heteroskedasticity\n",
        "\n",
        "You can also perform some formal tests for heteroskedasticity.\n",
        "\n",
        "1.  White’s Test, which relies on performing a regression using the\n",
        "    residuals\n",
        "2.  Breusch-Pagan Test, which also relies on performing a simpler\n",
        "    regression using the residuals\n",
        "\n",
        "Both of them are, conceptually, very similar. Let’s try (2) for the\n",
        "above regression:"
      ],
      "id": "3321f772-1a1b-46c8-beaf-b8c7d8af7a5e"
    },
    {
      "cell_type": "code",
      "execution_count": null,
      "metadata": {},
      "outputs": [],
      "source": [
        "regression2 <- lm(income_before_tax ~ income_after_tax, data = SFS_data) \n",
        "\n",
        "SFS_data$resid_sq <- (regression2$residuals)^2 # get the residuals then square it\n",
        "\n",
        "regression3 <- lm(resid_sq ~ income_after_tax, data = SFS_data) # make the residuals a function of X\n",
        "\n",
        "summary(regression3)"
      ],
      "id": "95ae9713-a546-498e-86c6-1ff37ef02d8c"
    },
    {
      "cell_type": "markdown",
      "metadata": {},
      "source": [
        "Inspecting the results, we can see from the $F$-statistic that we can\n",
        "strongly reject the assumption of homoskedasticity. This is denoted by\n",
        "the 3 asterisks. This data looks like it’s heteroskedastic, because the\n",
        "residuals can be predicted using the explanatory variables.\n",
        "\n",
        "There is one very important note:\n",
        "\n",
        "-   If you **fail** one of these tests, it implies that your data is\n",
        "    heteroskedastic\n",
        "-   If you **pass** one of these tests, it *does not* imply that your\n",
        "    data is homoskedastic (i.e. not heteroskedastic)\n",
        "\n",
        "This is because these are statistical tests, and the null hypothesis is\n",
        "“not heteroskedastic”. Failing to reject the null does not mean that the\n",
        "null hypothesis is correct - it just means that you can’t rule it out.\n",
        "This is one of the reasons many economists recommend that you *always*\n",
        "use robust standard errors unless you have a really compelling reason to\n",
        "believe otherwise.\n",
        "\n",
        "### Linear Probability Models\n",
        "\n",
        "How can a model naturally have heteroskedastic standard errors? It turns\n",
        "out that many common, and important, models have this issue. In\n",
        "particular, the **linear probability** model has this problem. If you\n",
        "recall, a linear probability model is a linear regression in which the\n",
        "dependent variable is a dummy. For example:\n",
        "\n",
        "$$\n",
        "D_i = \\beta_0 + \\beta_1 X_{1,i} + \\beta_2 X_{2,i} + \\epsilon_i\n",
        "$$\n",
        "\n",
        "These models are quite useful because the coefficients have the\n",
        "interpretation as being the change in the probability of the dummy\n",
        "condition occurring. For example, we previously regressed `gender` (of\n",
        "male or female) in these models to investigate the wealth gap. However,\n",
        "this can easily cause a problem when estimated using OLS - the value of\n",
        "$D_i$ must be 0 or 1, and the fitted values (which are probabilities)\n",
        "must be between 0 and 1.\n",
        "\n",
        "However, *nothing* in the OLS model forces this to be true. If you\n",
        "estimate a value for $\\beta_1$, if you have an $X_{1,i}$ that is high or\n",
        "low enough, the fitted values will be above or below 1 or 0\n",
        "(respectively). This implies that *mechanically* you have\n",
        "heteroskedasticity because high or low values of the explanatory\n",
        "variables will ALWAYS fit worse than intermediate values. For example,\n",
        "let’s look at the fitted values from this regression:"
      ],
      "id": "91f9fe6f-c6da-4aa9-b07f-4ae343e9e841"
    },
    {
      "cell_type": "code",
      "execution_count": null,
      "metadata": {},
      "outputs": [],
      "source": [
        "SFS_data <- SFS_data %>%\n",
        "    mutate(M_F = case_when(\n",
        "        gender == \"Male\"  ~ 0,\n",
        "        gender == \"Female\" ~ 1\n",
        "    ))\n",
        "\n",
        "SFS_data <- SFS_data[complete.cases(SFS_data$gender,SFS_data$income_before_tax), ]\n",
        "SFS_data$gender <- as.numeric(SFS_data$gender)\n",
        "SFS_data$income_before_tax <- as.numeric(SFS_data$income_before_tax)\n",
        "\n",
        "\n",
        "regression6 <- lm(gender ~ income_before_tax, data = SFS_data)\n",
        "\n",
        "SFS_data$fitted <- predict(regression6, SFS_data)\n",
        "\n",
        "summary(regression6)\n",
        "\n",
        "ggplot(data = SFS_data, aes(x = as.numeric(income_before_tax), y = fitted)) + geom_point() + labs(x = \"before tax income\", y = \"Predicted Probability\")"
      ],
      "id": "5abd06b9-4682-44f2-98fb-515f8f51e106"
    },
    {
      "cell_type": "markdown",
      "metadata": {},
      "source": [
        "Notice how that as $y$ gets larger as the fitted value drops. If someone\n",
        "has an income of over 1 million dollars, they would be predicted to have\n",
        "a negative probability of being a female - which is impossible.\n",
        "\n",
        "This is why you *always* must use robust standard errors in these\n",
        "models - even if a test says otherwise. Let’s think about what is\n",
        "happening here, well remember the example of imperfect collinearity,\n",
        "we’re the was $1-k$ chance of $x$ being 15 and k of $x$ being 20. Now\n",
        "remember x was co-linear to $\\beta_0$, and this caused large standard\n",
        "errors. In this scenario the probability of a someone being female given\n",
        "they earn over a million dollars a year is very small. This because few\n",
        "female lead has household earn over a million dollars a year as a\n",
        "percent of the total households earning over a million dollars a year.\n",
        "\n",
        "## Part 3: Exercises\n",
        "\n",
        "This section has both written and coding exercises for you to test your\n",
        "knowledge about issues in regressions. The answers to the written\n",
        "exercises are on the last section of the notebook.\n",
        "\n",
        "### Questions\n",
        "\n",
        "Multicollinearity may seem to be an abstract concept, so let’s explore\n",
        "this issue with a practical example.\n",
        "\n",
        "Suppose that we are looking to explore the relationship between family\n",
        "income and the gender of the major earner. We want to know whether\n",
        "families with higher incomes in Canada are more likely to have male\n",
        "major earners. Recall that we have two measures of income:\n",
        "`income_before_tax` and `income_after_tax`. Both measures of income are\n",
        "informative: `income_before_tax` refers to gross annual income (before\n",
        "taxes) that employers pay to employees; `income_after_tax` refers to net\n",
        "income after taxes have been deducted.\n",
        "\n",
        "Since they are both good measures of income, we decide to put them both\n",
        "in our regression:\n",
        "\n",
        "$$\n",
        "M_F = \\beta_0 + \\beta_1 I_{bi} + \\beta_2 I_{ai} + \\epsilon_i\n",
        "$$\n",
        "\n",
        "where\n",
        "\n",
        "-   $M_F$ denotes the dummy variable for whether the person is male or\n",
        "    female\n",
        "-   $I_{ai}$ denotes income after taxes\n",
        "-   $I_{bi}$ denotes income before taxes\n",
        "\n",
        "1.  What concern should we have about this regression equation? Explain\n",
        "    your intuition."
      ],
      "id": "b6001578-0cf2-49aa-b324-d92c41219c99"
    },
    {
      "cell_type": "raw",
      "metadata": {
        "raw_mimetype": "text/html"
      },
      "source": [
        "<details>"
      ],
      "id": "9fc34b19-a865-427d-ab9b-db05641b2ab8"
    },
    {
      "cell_type": "raw",
      "metadata": {
        "raw_mimetype": "text/html"
      },
      "source": [
        "<summary>"
      ],
      "id": "4e224991-26f2-49c0-9228-b037201d1cfa"
    },
    {
      "cell_type": "markdown",
      "metadata": {},
      "source": [
        "Show/Hide Solution"
      ],
      "id": "a54dbdcf-b3a1-4655-a3e1-c89855cc6bea"
    },
    {
      "cell_type": "raw",
      "metadata": {
        "raw_mimetype": "text/html"
      },
      "source": [
        "</summary>"
      ],
      "id": "1f8d4ef0-0e90-4c7c-939e-067d408cb7d8"
    },
    {
      "cell_type": "markdown",
      "metadata": {},
      "source": [
        "These two variables, before tax and after tax income, may be close to\n",
        "co-linear, which will increase the error term."
      ],
      "id": "5275ed2b-6f2e-4b4a-b596-96ec8d5e13ad"
    },
    {
      "cell_type": "raw",
      "metadata": {
        "raw_mimetype": "text/html"
      },
      "source": [
        "</details>"
      ],
      "id": "839b346c-0a5d-4e7b-aa00-492aa8b7ca47"
    },
    {
      "cell_type": "markdown",
      "metadata": {},
      "source": [
        "Before we continue, let’s reduce the sample size of our data set to 200\n",
        "observations. We will also revert `gender` into a numeric variable:"
      ],
      "id": "2a9c629d-685c-433c-9d3c-da5365c36bbd"
    },
    {
      "cell_type": "code",
      "execution_count": null,
      "metadata": {},
      "outputs": [],
      "source": [
        "# run this!\n",
        "SFS_data200 <- head(SFS_data, 200) %>%\n",
        "    mutate(M_F = as.numeric(gender)) # everyone in the first 200 observations as, male or female"
      ],
      "id": "9e9aee2e-96c1-4f89-ad7f-fe77952fe587"
    },
    {
      "cell_type": "markdown",
      "metadata": {},
      "source": [
        "1.  Run the regression between family income and the gender of the major\n",
        "    earner described above.\n",
        "\n",
        "Tested Objects: `reg1`."
      ],
      "id": "f5bb0424-7fbd-4f95-bb29-aefbf890c8ea"
    },
    {
      "cell_type": "code",
      "execution_count": null,
      "metadata": {},
      "outputs": [],
      "source": [
        "reg1 <- lm(???, data = SFS_data200) \n",
        "\n",
        "summary(reg1)\n",
        "\n",
        "test_2()"
      ],
      "id": "1a6f461b-06eb-4201-8e37-7206ed86eb39"
    },
    {
      "cell_type": "markdown",
      "metadata": {},
      "source": [
        "1.  What do you notice about the characteristics of the estimated\n",
        "    regression? Does anything point to your concern being valid?"
      ],
      "id": "963ba204-e0a7-4563-bbc6-0f46b8651458"
    },
    {
      "cell_type": "raw",
      "metadata": {
        "raw_mimetype": "text/html"
      },
      "source": [
        "<details>"
      ],
      "id": "5234080d-f0b5-493e-9f37-6ffb02c30bb9"
    },
    {
      "cell_type": "raw",
      "metadata": {
        "raw_mimetype": "text/html"
      },
      "source": [
        "<summary>"
      ],
      "id": "6e6c8e03-8a3c-47cb-b9a1-07644bb9eda2"
    },
    {
      "cell_type": "markdown",
      "metadata": {},
      "source": [
        "Show/Hide Solution"
      ],
      "id": "c724b7fa-9264-459d-94e5-b3b7e06d24eb"
    },
    {
      "cell_type": "raw",
      "metadata": {
        "raw_mimetype": "text/html"
      },
      "source": [
        "</summary>"
      ],
      "id": "ccc78589-650f-40a0-ae9b-886162d7d703"
    },
    {
      "cell_type": "markdown",
      "metadata": {},
      "source": [
        "It seems like `income_before_tax` was dropped from the regression. The\n",
        "reason for that is multicollinearity."
      ],
      "id": "da620495-8125-4ab9-bf09-6357bd1addca"
    },
    {
      "cell_type": "raw",
      "metadata": {
        "raw_mimetype": "text/html"
      },
      "source": [
        "</details>"
      ],
      "id": "5f8da404-1629-4036-b342-562d6566fca0"
    },
    {
      "cell_type": "markdown",
      "metadata": {},
      "source": [
        "Now, let’s suppose we drop 50 more observations:"
      ],
      "id": "d24fb74f-b371-41d5-b54c-7e8a6888362e"
    },
    {
      "cell_type": "code",
      "execution_count": null,
      "metadata": {},
      "outputs": [],
      "source": [
        "# run this!\n",
        "SFS_data150 <- head(SFS_data200, 150)"
      ],
      "id": "1bd4ada3-0870-49ca-b30c-fc76437f46cf"
    },
    {
      "cell_type": "markdown",
      "metadata": {},
      "source": [
        "1.  Run the regression model again and compare it with the previous\n",
        "    regression.\n",
        "\n",
        "Tested Objects: `reg2`."
      ],
      "id": "0e5bd10b-4129-4cb0-b0f8-75679789635a"
    },
    {
      "cell_type": "code",
      "execution_count": null,
      "metadata": {},
      "outputs": [],
      "source": [
        "reg2 <- lm(???) \n",
        "\n",
        "summary(reg2)\n",
        "\n",
        "test_4() "
      ],
      "id": "0a3142e0-bcd7-4f74-9cbd-9325580c18e9"
    },
    {
      "cell_type": "markdown",
      "metadata": {},
      "source": [
        "1.  What happened to the regression estimates when we dropped 50\n",
        "    observations? Does this point to your concern being valid?"
      ],
      "id": "bc710509-01ff-4dbd-a4a2-d32a84111219"
    },
    {
      "cell_type": "raw",
      "metadata": {
        "raw_mimetype": "text/html"
      },
      "source": [
        "<details>"
      ],
      "id": "08cb8deb-50d6-4e60-8e59-8bc80204772b"
    },
    {
      "cell_type": "raw",
      "metadata": {
        "raw_mimetype": "text/html"
      },
      "source": [
        "<summary>"
      ],
      "id": "373ac39d-d951-4676-92c6-aeb1096c5e4d"
    },
    {
      "cell_type": "markdown",
      "metadata": {},
      "source": [
        "Show/Hide Solution"
      ],
      "id": "70858e10-29b0-4a77-bd17-464f3d8efea9"
    },
    {
      "cell_type": "raw",
      "metadata": {
        "raw_mimetype": "text/html"
      },
      "source": [
        "</summary>"
      ],
      "id": "0bf2585c-27f4-4e30-b0b4-e67594df1faf"
    },
    {
      "cell_type": "markdown",
      "metadata": {},
      "source": [
        "Similar to 3."
      ],
      "id": "6bc114e8-63cb-4b4d-b5ee-61692f3b5817"
    },
    {
      "cell_type": "raw",
      "metadata": {
        "raw_mimetype": "text/html"
      },
      "source": [
        "</details>"
      ],
      "id": "b612e2d4-3974-4bb0-83b8-5e00a74c1406"
    },
    {
      "cell_type": "markdown",
      "metadata": {},
      "source": [
        "1.  Next, increase the sample size back to its full size and run the\n",
        "    regression once again.\n",
        "\n",
        "Tested Objects: `reg3`."
      ],
      "id": "44d4c7aa-0ceb-475a-917b-fd49fc1ee64b"
    },
    {
      "cell_type": "code",
      "execution_count": null,
      "metadata": {},
      "outputs": [],
      "source": [
        "SFS_data <- SFS_data[complete.cases(SFS_data$income_after_tax), ] #do not modify this code\n",
        "SFS_data$income_after_tax <- as.numeric(SFS_data$income_after_tax) # do not modify this code\n",
        "\n",
        "reg3 <- lm(???) \n",
        "\n",
        "summary(reg3)\n",
        "\n",
        "test_6() "
      ],
      "id": "144e109e-c4e4-4ede-a346-ce58de4ccb09"
    },
    {
      "cell_type": "markdown",
      "metadata": {},
      "source": [
        "1.  Did this change eliminate the concern? How do you know?"
      ],
      "id": "c012b0bb-abdc-4d7b-9342-b7f63ef0a02d"
    },
    {
      "cell_type": "raw",
      "metadata": {
        "raw_mimetype": "text/html"
      },
      "source": [
        "<details>"
      ],
      "id": "e61302ae-e8bb-4779-97cb-3a50489c205f"
    },
    {
      "cell_type": "raw",
      "metadata": {
        "raw_mimetype": "text/html"
      },
      "source": [
        "<summary>"
      ],
      "id": "383a7457-68d6-4baf-aa07-3eb70be7a10f"
    },
    {
      "cell_type": "markdown",
      "metadata": {},
      "source": [
        "Show/Hide Solution"
      ],
      "id": "6fb38ef6-76a5-41f9-b7ea-37f4a75c6a8b"
    },
    {
      "cell_type": "raw",
      "metadata": {
        "raw_mimetype": "text/html"
      },
      "source": [
        "</summary>"
      ],
      "id": "5b60ba5c-9071-4583-bdde-a538f19421c5"
    },
    {
      "cell_type": "markdown",
      "metadata": {},
      "source": [
        "This change does not eliminate the concern. Now we see both\n",
        "`income_before_tax` and `income_after_tax` on the regression output.\n",
        "However, only `income_after_tax` is significant. The model is picking up\n",
        "some differences between both variables (likely differences across tax\n",
        "brackets) but it still seems like the collinearity is affecting the\n",
        "model. Having collinear terms in a regression increases standard errors."
      ],
      "id": "fe6eb3f7-0dcb-43b3-94d4-0286ee7f7456"
    },
    {
      "cell_type": "raw",
      "metadata": {
        "raw_mimetype": "text/html"
      },
      "source": [
        "</details>"
      ],
      "id": "7eb6638c-be50-42cc-9d0c-c66e0b3bad5f"
    },
    {
      "cell_type": "markdown",
      "metadata": {},
      "source": [
        "Heteroskedasticity is another issue that researchers frequently deal\n",
        "with when they estimate regression models. Consider the following\n",
        "regression model:\n",
        "\n",
        "$$\n",
        "I_i = \\alpha_0 + \\alpha_1 E_i + \\alpha_2 G_i  + \\epsilon_i\n",
        "$$\n",
        "\n",
        "where\n",
        "\n",
        "-   $I_i$ denotes before tax income\n",
        "-   $E_i$ is level of education\n",
        "-   $D_i$ is a dummy variable for being female\n",
        "\n",
        "1.  Should we be concerned about heteroskedasticity in this model? If\n",
        "    so, what is the potential source of heteroskedasticity, and what do\n",
        "    we suspect to be the relationship between the regressor and the\n",
        "    error term?"
      ],
      "id": "ac1ee863-4a37-4d78-9a2a-e71a1d65d3cb"
    },
    {
      "cell_type": "raw",
      "metadata": {
        "raw_mimetype": "text/html"
      },
      "source": [
        "<details>"
      ],
      "id": "866db1d5-f4ed-4fa6-96b0-2c5f6660c97c"
    },
    {
      "cell_type": "raw",
      "metadata": {
        "raw_mimetype": "text/html"
      },
      "source": [
        "<summary>"
      ],
      "id": "f16b0282-8b02-42a3-9699-6466a84ce0b8"
    },
    {
      "cell_type": "markdown",
      "metadata": {},
      "source": [
        "Show/Hide Solution"
      ],
      "id": "2db97a13-4131-4fb0-bbea-1bba74535126"
    },
    {
      "cell_type": "raw",
      "metadata": {
        "raw_mimetype": "text/html"
      },
      "source": [
        "</summary>"
      ],
      "id": "1007f67a-3fe0-41d6-bf2e-aa8ebbd0ccfd"
    },
    {
      "cell_type": "markdown",
      "metadata": {},
      "source": [
        "The distribution of residuals will likely change relative to education.\n",
        "This because the higher the level of education the more additional\n",
        "factors will be required to predict the persons income. For instance, if\n",
        "someone has a 4 year degree what that degree is in will have a large\n",
        "impact on their income; however, there is less variance in income for\n",
        "high school graduates."
      ],
      "id": "abdaad12-1a33-4a00-bff7-b39db4294657"
    },
    {
      "cell_type": "raw",
      "metadata": {
        "raw_mimetype": "text/html"
      },
      "source": [
        "</details>"
      ],
      "id": "79fec205-d6f9-4ef3-910e-3f666d1856d2"
    },
    {
      "cell_type": "markdown",
      "metadata": {},
      "source": [
        "1.  If we suppose that heteroskedasticity is a problem in this\n",
        "    regression, what consequences will this have for our regression\n",
        "    estimates?"
      ],
      "id": "28505955-8d90-45cf-a884-cb768edb8fb0"
    },
    {
      "cell_type": "raw",
      "metadata": {
        "raw_mimetype": "text/html"
      },
      "source": [
        "<details>"
      ],
      "id": "4a18ebbd-921d-4e63-8e7a-21b3244d37ff"
    },
    {
      "cell_type": "raw",
      "metadata": {
        "raw_mimetype": "text/html"
      },
      "source": [
        "<summary>"
      ],
      "id": "5580faa3-6db0-48e6-bfc3-653cf2afacaa"
    },
    {
      "cell_type": "markdown",
      "metadata": {},
      "source": [
        "Show/Hide Solution"
      ],
      "id": "5f3767b9-daf2-4b82-ac84-b5aa8626527e"
    },
    {
      "cell_type": "raw",
      "metadata": {
        "raw_mimetype": "text/html"
      },
      "source": [
        "</summary>"
      ],
      "id": "3b86a707-25a3-4f91-9e81-86ed183f98b2"
    },
    {
      "cell_type": "markdown",
      "metadata": {},
      "source": [
        "If we do not use robust standard errors, the standards errors will be\n",
        "understated."
      ],
      "id": "0b12c484-2fbe-481b-8f74-a55ca9861d68"
    },
    {
      "cell_type": "raw",
      "metadata": {
        "raw_mimetype": "text/html"
      },
      "source": [
        "</details>"
      ],
      "id": "db07c091-af8f-4037-9710-e3df3a123ace"
    },
    {
      "cell_type": "markdown",
      "metadata": {},
      "source": [
        "Run the regression below, and graph the residuals against the level of\n",
        "schooling."
      ],
      "id": "128dc67f-6aa4-4626-9664-54ce00324e77"
    },
    {
      "cell_type": "code",
      "execution_count": null,
      "metadata": {},
      "outputs": [],
      "source": [
        "# run the regression\n",
        "reg5 <- lm(income_before_tax ~ education, data = SFS_data)"
      ],
      "id": "dd8b8ccf-4835-4915-8589-b1ca8942f39e"
    },
    {
      "cell_type": "code",
      "execution_count": null,
      "metadata": {},
      "outputs": [],
      "source": [
        "reg5 <- lm(income_before_tax~education, data = SFS_data)\n",
        "\n",
        "resiplot <- ggplot(reg5, aes(x = education, y = .resid)) + xlab(\"Education Level\") + ylab(\"Income (Residuals)\")\n",
        "resiplot + geom_point() + geom_hline(yintercept = 0) + scale_x_discrete(guide = guide_axis(n.dodge=3))"
      ],
      "id": "97c3bfc0-c456-45ad-929a-fb4279f4f9e7"
    },
    {
      "cell_type": "markdown",
      "metadata": {},
      "source": [
        "1.  Describe the relationship between education level and the residuals\n",
        "    in the graph above. What does the graph tell us about the presence\n",
        "    and nature of heteroskedasticity in the regression model?"
      ],
      "id": "39ec8379-81cb-422a-9e71-b1928024bf9e"
    },
    {
      "cell_type": "raw",
      "metadata": {
        "raw_mimetype": "text/html"
      },
      "source": [
        "<details>"
      ],
      "id": "2b581cfd-25ba-46e3-989d-97edd24ccaf5"
    },
    {
      "cell_type": "raw",
      "metadata": {
        "raw_mimetype": "text/html"
      },
      "source": [
        "<summary>"
      ],
      "id": "e1789826-9ba0-464b-9a75-66cfeb6f5bf7"
    },
    {
      "cell_type": "markdown",
      "metadata": {},
      "source": [
        "Show/Hide Solution"
      ],
      "id": "a932a2cd-734e-461d-a769-54a50e20ebc0"
    },
    {
      "cell_type": "raw",
      "metadata": {
        "raw_mimetype": "text/html"
      },
      "source": [
        "</summary>"
      ],
      "id": "858d1ab6-9348-492d-b0b9-eea4f2edbe49"
    },
    {
      "cell_type": "markdown",
      "metadata": {},
      "source": [
        "We can see that the residuals are increasing as the level of education\n",
        "increases, as predicted in the previous question. This indicates\n",
        "heteroskedasticity, as the distribution of errors is clearly not\n",
        "constant."
      ],
      "id": "5bcc8ebd-c8c7-42b8-84f5-ca10adf1d85b"
    },
    {
      "cell_type": "raw",
      "metadata": {
        "raw_mimetype": "text/html"
      },
      "source": [
        "</details>"
      ],
      "id": "6594677b-2212-4222-91ee-ea401463ba50"
    },
    {
      "cell_type": "markdown",
      "metadata": {},
      "source": [
        "1.  To test for heteroskedasticity formally, let’s perform the White\n",
        "    Test. First, store the residuals from the previous regression in\n",
        "    `SFS_data`.\n",
        "\n",
        "Tested Objects: `SFS_data` (checks to see that residuals were added\n",
        "properly)."
      ],
      "id": "9ef17fb5-5bfb-4369-82e6-fbc38cf0e4eb"
    },
    {
      "cell_type": "code",
      "execution_count": null,
      "metadata": {},
      "outputs": [],
      "source": [
        "SFS_data <- mutate(SFS_data, resid = ???)\n",
        "\n",
        "head(SFS_data$resid, 10) #Displays the residuals in the dataframe\n",
        "\n",
        "test_11() "
      ],
      "id": "0fb78413-8fb3-4f78-acf2-afbc4ac6a820"
    },
    {
      "cell_type": "markdown",
      "metadata": {},
      "source": [
        "1.  Next, generate a variable for the squared residuals, then run the\n",
        "    required auxiliary regression.\n",
        "\n",
        "Tested Objects: `WT` (the auxiliary regression)."
      ],
      "id": "9bb87ac3-2f3b-4d5e-be22-18f1a46a6988"
    },
    {
      "cell_type": "code",
      "execution_count": null,
      "metadata": {},
      "outputs": [],
      "source": [
        "model <- lm(income_before_tax~gender^2 + gender + education^2 +education+ education*gender, data = SFS_data)\n",
        "\n",
        "resid = reg5$residuals\n",
        "\n",
        "rsq=(resid)^2"
      ],
      "id": "9936750e-750a-4b91-802c-5f7668580eac"
    },
    {
      "cell_type": "code",
      "execution_count": null,
      "metadata": {},
      "outputs": [],
      "source": [
        "SFS_data$rsq <- rsq\n",
        "\n",
        "WT <- lm(rsq ~ ???, data =SFS_data) # fill me in\n",
        "\n",
        "summary(WT)\n",
        "\n",
        "test_12() "
      ],
      "id": "471d50af-5689-4305-b0d5-790c307a8ab6"
    },
    {
      "cell_type": "markdown",
      "metadata": {},
      "source": [
        "1.  What does the white test suggest?"
      ],
      "id": "14ed24e3-e507-418b-ac16-1674469c4a5b"
    },
    {
      "cell_type": "raw",
      "metadata": {
        "raw_mimetype": "text/html"
      },
      "source": [
        "<details>"
      ],
      "id": "b5b406d5-25f3-4a9f-9383-1e57413a4676"
    },
    {
      "cell_type": "raw",
      "metadata": {
        "raw_mimetype": "text/html"
      },
      "source": [
        "<summary>"
      ],
      "id": "554dead8-d683-4598-85ae-00155fe18179"
    },
    {
      "cell_type": "markdown",
      "metadata": {},
      "source": [
        "Show/Hide Solution"
      ],
      "id": "ee9b7f5a-3fe2-476b-beb4-dc31e24dc6f6"
    },
    {
      "cell_type": "raw",
      "metadata": {
        "raw_mimetype": "text/html"
      },
      "source": [
        "</summary>"
      ],
      "id": "81c9425f-60cf-4f3a-9d51-5713b683e6d7"
    },
    {
      "cell_type": "markdown",
      "metadata": {},
      "source": [
        "The test suggests the model is heteroskedastic."
      ],
      "id": "bfe8575f-aff0-435b-9e37-e5422603c211"
    },
    {
      "cell_type": "raw",
      "metadata": {
        "raw_mimetype": "text/html"
      },
      "source": [
        "</details>"
      ],
      "id": "93a8567b-e419-4a96-b27b-2dc03756145e"
    },
    {
      "cell_type": "markdown",
      "metadata": {},
      "source": [
        "1.  Finish filling in this table:\n",
        "\n",
        "| Formal Issue Name      | Problem                                                                         | Meaning                                                                                            | Test                                                 | Solution                                                                                                 |\n",
        "|------|--------------------|---------------|---------------|------------------|\n",
        "| ???                    | Incorrect Standard errors, which can lead to incorrect confidence intervals etc | The distribution of residuals is not constant                                                      | White’s Test and Breusch-Pagan: `bptest()`           | Add additional factors to regression or use robust standard errors                                       |\n",
        "| Perfect Collinearity   | ???                                                                             | One variable in the regression is a linear function of another variable in the regression          | Collinearity test on the model, `ols_vif_tol(model)` | ???                                                                                                      |\n",
        "| Imperfect Collinearity | The model will have very large standard errors. R may need to omit a variable   | One variable can almost be fully predicted with a linear function of another variable in the model | ???                                                  | Omit one of the collinear variables, try using more data, or consider transformations (e.g., logarithms) |"
      ],
      "id": "5b2710a5-84ce-4069-9ae3-82da454e2ebc"
    },
    {
      "cell_type": "raw",
      "metadata": {
        "raw_mimetype": "text/html"
      },
      "source": [
        "<details>"
      ],
      "id": "1129cd50-a7af-4c01-bd84-8ab669c21309"
    },
    {
      "cell_type": "raw",
      "metadata": {
        "raw_mimetype": "text/html"
      },
      "source": [
        "<summary>"
      ],
      "id": "1c4df703-858f-41d8-b1d3-dbc736379d18"
    },
    {
      "cell_type": "markdown",
      "metadata": {},
      "source": [
        "Show/Hide Solution"
      ],
      "id": "d64326c4-34a3-4aba-8ca4-e0a0bd507a07"
    },
    {
      "cell_type": "raw",
      "metadata": {
        "raw_mimetype": "text/html"
      },
      "source": [
        "</summary>"
      ],
      "id": "2c0eaf6f-ecd4-4c7e-aec8-556e803b3636"
    },
    {
      "cell_type": "markdown",
      "metadata": {},
      "source": [
        "Answers are: (A) Heteroskedasticity (B) An explanatory variable can be\n",
        "written as a linear combination of other explanatory variables included\n",
        "in the model (C) Drop one of the variables (D) VIF test."
      ],
      "id": "88d0596a-53a2-4ae2-a570-4f426cd827f5"
    },
    {
      "cell_type": "raw",
      "metadata": {
        "raw_mimetype": "text/html"
      },
      "source": [
        "</details>"
      ],
      "id": "70e92a7d-bbf4-43e9-b899-678912bf63d5"
    }
  ],
  "nbformat": 4,
  "nbformat_minor": 5,
  "metadata": {
    "kernelspec": {
      "name": "ir",
      "display_name": "R",
      "language": "r"
    }
  }
}