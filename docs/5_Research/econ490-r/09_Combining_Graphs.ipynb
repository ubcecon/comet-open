{
  "cells": [
    {
      "cell_type": "markdown",
      "metadata": {},
      "source": [
        "# 09 - Combining Graphs\n",
        "\n",
        "Marina Adshade, Paul Corcuera, Giulia Lo Forte, Jane Platt  \n",
        "2024-05-29\n",
        "\n",
        "## Prerequisites\n",
        "\n",
        "1.  Load data and packages.\n",
        "2.  Create variables and objects.\n",
        "3.  Have some familiarity with the syntax of commands to create basic\n",
        "    graphs.\n",
        "\n",
        "## Learning Outcomes\n",
        "\n",
        "1.  Identify best practices for data visualization.\n",
        "2.  Feel comfortable with combining graphs using facets in `ggplot2`.\n",
        "\n",
        "## 9.0 Intro\n",
        "\n",
        "We’ll continue working with the fake data set we have been using so far.\n",
        "Recall that this data set is simulating information for workers in the\n",
        "years 1982-2012 in a fake country where a training program was\n",
        "introduced in 2003 to boost their earnings."
      ],
      "id": "0a769310-4e96-4258-bd80-3e15dee54fba"
    },
    {
      "cell_type": "code",
      "execution_count": null,
      "metadata": {},
      "outputs": [],
      "source": [
        "# Clear the memory from any pre-existing objects\n",
        "rm(list=ls())\n",
        "\n",
        "# Load packages\n",
        "library(tidyverse)\n",
        "library(magrittr)\n",
        "library(ggplot2)\n",
        "library(haven)\n",
        "library(tidyverse)\n",
        "\n",
        "# Import dataset\n",
        "fake_data <- read_dta(\"../econ490-r/fake_data.dta\")"
      ],
      "id": "2cbe5178-441b-4627-8d32-4d4c81663558"
    },
    {
      "cell_type": "markdown",
      "metadata": {},
      "source": [
        "In this module, we will work on two examples. The first example covers\n",
        "combining two graphs with the same schema, while the second covers\n",
        "combining two graphs with different schemas. It will soon be very clear\n",
        "what we mean by *schema*.\n",
        "\n",
        "## 9.1 Example 1\n",
        "\n",
        "For this example, we want to generate two graphs with the same schema\n",
        "(they are the same type of graph and use the same variables as their x\n",
        "and y axis). For example, let’s say we want to see the evolution of\n",
        "average earnings over time for treated and untreated workers in two\n",
        "different regions. Instead of having four lines in one graph, we would\n",
        "like to separate the two regions in two different panels of the same\n",
        "graph.\n",
        "\n",
        "Let’s do this step by step. We start by creating the data: we want a\n",
        "data frame with average earnings by year and treatment status for the\n",
        "first two regions. We use `group_by`, as seen in [Module\n",
        "6](https://comet.arts.ubc.ca/docs/Research/econ490-r/06_Within_Group.html)."
      ],
      "id": "98f568d4-8114-4823-aac9-fc73f6e36c35"
    },
    {
      "cell_type": "code",
      "execution_count": null,
      "metadata": {},
      "outputs": [],
      "source": [
        "figure1_data <- fake_data %>%\n",
        "        mutate(log_earnings = log(earnings)) %>% # take log of earnings\n",
        "        group_by(year, region, treated) %>%      # group by time, treatment status, and region\n",
        "        summarise(mean_earnings = mean(log_earnings)) %>% # take average by group\n",
        "        filter(region==1|region==2) %>%          # keep only first two regions\n",
        "        mutate(treatment = case_when(treated == 1 ~ 'Treated', treated == 0 ~ 'Untreated')) # create a character variable for treatment"
      ],
      "id": "ea1a4342-9de8-49e5-948a-7d76c6e40d3f"
    },
    {
      "cell_type": "markdown",
      "metadata": {},
      "source": [
        "Once we have created our data, we proceed with the same steps we have\n",
        "used in section 8.2.2 of [Module\n",
        "8](https://comet.arts.ubc.ca/docs/Research/econ490-r/08_ggplot_graphs.html)\n",
        "to create a line plot with one line for each treatment status (*treated*\n",
        "and *untreated*).\n",
        "\n",
        "In this case, we need to add a crucial component: `facet_grid`. This\n",
        "allows to split up our data by one or two variables that vary on the\n",
        "horizontal and/or vertical direction. The syntax is\n",
        "`facet_grid(vertical ~ horizontal)`.\n",
        "\n",
        "In the code below, we split vertically our data for the two regions, by\n",
        "adding `facet_grid(region ~ .)` to our code."
      ],
      "id": "4a0c5e86-da00-4858-adb5-de9826146f10"
    },
    {
      "cell_type": "code",
      "execution_count": null,
      "metadata": {},
      "outputs": [],
      "source": [
        "# Specify data and axis\n",
        "figure1 <- ggplot(data = figure1_data, # referencing the data we want to use\n",
        "                 aes(\n",
        "                     x = year,  # x is year\n",
        "                     y = mean_earnings, # our y is avg logearnings\n",
        "                     group=treatment, # each line is data for one value of treatment\n",
        "                     color=treatment # each value of treatment as one color\n",
        "                 ))\n",
        "\n",
        "# Tell R the graph will be a line graph\n",
        "figure1 <- figure1 + geom_line() \n",
        "\n",
        "# Add labels\n",
        "figure1 <- figure1 + labs(x = \"Year\", y = \"Average Log-earnings\")\n",
        "\n",
        "# \"split\" vertically graph by region\n",
        "figure1 + facet_grid(region ~ .)"
      ],
      "id": "ee31dc2d-6d54-4232-b64c-4a15066130ab"
    },
    {
      "cell_type": "markdown",
      "metadata": {},
      "source": [
        "Notice that now our graph is made of two panels whose titles are the\n",
        "names of the regions. However, we do not know what region 1 and region 2\n",
        "mean. We can add a character variable to our data, named *region_name*,\n",
        "and split horizontally the graph into the two names stored in\n",
        "*region_name*."
      ],
      "id": "be3f0e52-c9b0-4d69-ae52-3722bf693651"
    },
    {
      "cell_type": "code",
      "execution_count": null,
      "metadata": {},
      "outputs": [],
      "source": [
        "# Add names to regions\n",
        "figure1_data <- figure1_data %>%\n",
        "                mutate(region_name = case_when(region == 1 ~ 'Ontario', region == 2 ~ 'Manitoba'))\n",
        "\n",
        "# Specify data and axis\n",
        "figure1 <- ggplot(data = figure1_data, # referencing the data we want to use\n",
        "                 aes(\n",
        "                     x = year,  # x is year\n",
        "                     y = mean_earnings, # our y is avg logearnings\n",
        "                     group=treatment, # each line is data for one value of treatment\n",
        "                     color=treatment # each value of treatment as one color\n",
        "                 ))\n",
        "\n",
        "# Tell R the graph will be a line graph\n",
        "figure1 <- figure1 + geom_line() \n",
        "\n",
        "# Add labels\n",
        "figure1 <- figure1 + labs(x = \"Year\", y = \"Average Log-earnings\")\n",
        "\n",
        "# Split horizontally and use labels\n",
        "figure1 + facet_grid(. ~ region_name)"
      ],
      "id": "3a5baca7-4aac-4634-b0b8-8859f836b0c7"
    },
    {
      "cell_type": "markdown",
      "metadata": {},
      "source": [
        "We can also add a vertical line for year 2003, the moment in which the\n",
        "treatment has been introduced. More information about how to do this is\n",
        "available in [Module\n",
        "8](https://comet.arts.ubc.ca/docs/Research/econ490-r/08_ggplot_graphs.html)"
      ],
      "id": "6562541e-cf44-4911-b3e6-1433945ce123"
    },
    {
      "cell_type": "code",
      "execution_count": null,
      "metadata": {},
      "outputs": [],
      "source": [
        "# Add dashed red vertical line\n",
        "figure1 <- figure1 + geom_vline(aes(xintercept=2002), color=\"#bb0000\", linetype=\"dashed\")\n",
        "\n",
        "# Split vertically by region_name\n",
        "figure1 + facet_grid(. ~ region_name)"
      ],
      "id": "e8da6d63-1646-4246-adf9-634db84b933a"
    },
    {
      "cell_type": "markdown",
      "metadata": {},
      "source": [
        "## 9.2 Example 2\n",
        "\n",
        "For this example, we want to combine graphs that do not follow the same\n",
        "schema. Let’s say we are interested in seeing if there is any\n",
        "relationship between the distribution of earnings (*log_earnings*) and\n",
        "how worker’s earnings change over time in region 1. Which graphs do you\n",
        "think would best present this information?\n",
        "\n",
        "As we have seen in [Module\n",
        "8](https://comet.arts.ubc.ca/docs/Research/econ490-r/08_ggplot_graphs.html),\n",
        "we usually use histograms to represent density distributions and we can\n",
        "use a scatterplot or a line plot for the graph of earnings over time.\n",
        "\n",
        "We will now see how to use `grid.arrange` to put multiple graphs on one\n",
        "page. The `grid.arrange` function is stored in the library *gridExtra*,\n",
        "which we need to install. We do so below."
      ],
      "id": "44019254-4f0b-4d01-801a-fbfbf3c78156"
    },
    {
      "cell_type": "code",
      "execution_count": null,
      "metadata": {},
      "outputs": [],
      "source": [
        "# Install and laod\n",
        "#install.packages(\"gridExtra\")\n",
        "library(gridExtra)"
      ],
      "id": "b545fbd0-776f-44f6-897b-6f83e34259eb"
    },
    {
      "cell_type": "markdown",
      "metadata": {},
      "source": [
        "Let’s first create the two plots separately and then combine them\n",
        "together.\n",
        "\n",
        "Start with the histogram: use `geom_histogram` to create a histogram for\n",
        "the density of log-earnings and store it into the object *plot1*. You\n",
        "can find a detailed explanation in section 8.2.3 of [Module\n",
        "8](https://comet.arts.ubc.ca/docs/Research/econ490-r/08_ggplot_graphs.html)."
      ],
      "id": "daf1c09e-79ab-4fed-9deb-e82f061ff0fd"
    },
    {
      "cell_type": "code",
      "execution_count": null,
      "metadata": {},
      "outputs": [],
      "source": [
        "# Add log earnings to dataset\n",
        "fake_data <- fake_data %>% mutate(log_earnings = log(earnings))\n",
        "\n",
        "# Plot 1: histogram\n",
        "plot1 <- ggplot(data = fake_data, aes(x = log_earnings)) + geom_histogram()"
      ],
      "id": "7689e5b1-df47-4c8c-bdbd-b3d6e2d1f803"
    },
    {
      "cell_type": "markdown",
      "metadata": {},
      "source": [
        "Then, create a line graph for the average log-earning by year using\n",
        "`geom_line` and store it into the object *plot2*. You can find a\n",
        "detailed explanation in section 8.2.2 of [Module\n",
        "8](https://comet.arts.ubc.ca/docs/econ_490/econ490-r/08_ggplot_graphs.html)."
      ],
      "id": "b7799b35-bbdf-4de8-a10b-7b2c5b5e1482"
    },
    {
      "cell_type": "code",
      "execution_count": null,
      "metadata": {},
      "outputs": [],
      "source": [
        "# Create a dataframe with the average wage by year\n",
        "plot2_data <- fake_data %>%\n",
        "              group_by(year) %>%\n",
        "              summarise(mean_earnings = mean(log_earnings))\n",
        "\n",
        "# Plot 2: line graph\n",
        "plot2 <- ggplot(data = plot2_data, aes(x = year, y = mean_earnings)) + geom_line()"
      ],
      "id": "080b988e-f77c-4284-bab5-4a86d7163cd4"
    },
    {
      "cell_type": "markdown",
      "metadata": {},
      "source": [
        "Now combine the objects *plot1* and *plot2* into one single page using\n",
        "the function `grid.arrange`. Notice that we can specify how many numbers\n",
        "of columns or rows we want with `ncol` or `nrow`, respectively."
      ],
      "id": "35405ca0-9c2d-4876-a86f-0e190e91b564"
    },
    {
      "cell_type": "code",
      "execution_count": null,
      "metadata": {},
      "outputs": [],
      "source": [
        "grid.arrange(plot1, plot2, nrow=1)"
      ],
      "id": "f2ef1ee3-d340-411a-baf8-8883706f7aa9"
    },
    {
      "cell_type": "markdown",
      "metadata": {},
      "source": [
        "## 9.3 Wrap Up\n",
        "\n",
        "In this module we learned how to combine graphs using , whether they\n",
        "have the same schema or not. When producing a research paper we might\n",
        "want to compare statistics from different countries or regions, such as\n",
        "GDP, population density, inflation, exports, etc. These types of graphs\n",
        "allow us to see how the same variables diverge across different\n",
        "categories (as in Example 1) or how different variables influence each\n",
        "other (as in Example 2).\n",
        "\n",
        "## 9.4 Wrap-up Table\n",
        "\n",
        "| Command | Function |\n",
        "|--------------------------------|----------------------------------------|\n",
        "| `facet_grid(vertical ~ horizontal)` | It combines two graphs with the same or different schemas. |\n",
        "| `grid.arrange(plot1, plot2, nrow=, ncol=)` | It combines two graphs with the same or different schemas. |"
      ],
      "id": "a2e4b4cd-d889-4859-ad3d-0406a88e4f65"
    }
  ],
  "nbformat": 4,
  "nbformat_minor": 5,
  "metadata": {
    "kernelspec": {
      "name": "ir",
      "display_name": "R",
      "language": "r"
    }
  }
}