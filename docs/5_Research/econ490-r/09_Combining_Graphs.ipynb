{
  "cells": [
    {
      "cell_type": "markdown",
      "metadata": {},
      "source": [
        "# 09 - Combining Graphs\n",
        "\n",
        "Marina Adshade, Paul Corcuera, Giulia Lo Forte, Jane Platt  \n",
        "2024-05-29\n",
        "\n",
        "## Prerequisites\n",
        "\n",
        "1.  Load data and packages.\n",
        "2.  Create variables and objects.\n",
        "3.  Have some familiarity with the syntax of commands to create basic\n",
        "    graphs.\n",
        "\n",
        "## Learning Outcomes\n",
        "\n",
        "1.  Identify best practices for data visualization.\n",
        "2.  Feel comfortable with combining graphs using facets in `ggplot2`.\n",
        "\n",
        "## 9.0 Intro\n",
        "\n",
        "We’ll continue working with the fake data set we have been using so far.\n",
        "Recall that this data set is simulating information for workers in the\n",
        "years 1982-2012 in a fake country where a training program was\n",
        "introduced in 2003 to boost their earnings."
      ],
      "id": "7a99aec6-2fbe-495f-978c-0158f90f82c4"
    },
    {
      "cell_type": "code",
      "execution_count": null,
      "metadata": {},
      "outputs": [],
      "source": [
        "# Clear the memory from any pre-existing objects\n",
        "rm(list=ls())\n",
        "\n",
        "# Load packages\n",
        "library(tidyverse)\n",
        "library(magrittr)\n",
        "library(ggplot2)\n",
        "library(haven)\n",
        "library(tidyverse)\n",
        "\n",
        "# Import dataset\n",
        "fake_data <- read_dta(\"../econ490-r/fake_data.dta\")"
      ],
      "id": "d51e1687-22ee-4c3f-acdc-c36940302c63"
    },
    {
      "cell_type": "markdown",
      "metadata": {},
      "source": [
        "In this module, we will work on two examples. The first example covers\n",
        "combining two graphs with the same schema, while the second covers\n",
        "combining two graphs with different schemas. It will soon be very clear\n",
        "what we mean by *schema*.\n",
        "\n",
        "## 9.1 Example 1\n",
        "\n",
        "For this example, we want to generate two graphs with the same schema\n",
        "(they are the same type of graph and use the same variables as their x\n",
        "and y axis). For example, let’s say we want to see the evolution of\n",
        "average earnings over time for treated and untreated workers in two\n",
        "different regions. Instead of having four lines in one graph, we would\n",
        "like to separate the two regions in two different panels of the same\n",
        "graph.\n",
        "\n",
        "Let’s do this step by step. We start by creating the data: we want a\n",
        "data frame with average earnings by year and treatment status for the\n",
        "first two regions. We use `group_by`, as seen in [Module\n",
        "6](https://comet.arts.ubc.ca/docs/Research/econ490-r/06_Within_Group.html)."
      ],
      "id": "a9bd11f6-b94b-4bba-83da-de36663d9f9e"
    },
    {
      "cell_type": "code",
      "execution_count": null,
      "metadata": {},
      "outputs": [],
      "source": [
        "figure1_data <- fake_data %>%\n",
        "        mutate(log_earnings = log(earnings)) %>% # take log of earnings\n",
        "        group_by(year, region, treated) %>%      # group by time, treatment status, and region\n",
        "        summarise(mean_earnings = mean(log_earnings)) %>% # take average by group\n",
        "        filter(region==1|region==2) %>%          # keep only first two regions\n",
        "        mutate(treatment = case_when(treated == 1 ~ 'Treated', treated == 0 ~ 'Untreated')) # create a character variable for treatment"
      ],
      "id": "b5052c09-a361-4d73-a40b-057ef698f528"
    },
    {
      "cell_type": "markdown",
      "metadata": {},
      "source": [
        "Once we have created our data, we proceed with the same steps we have\n",
        "used in section 8.2.2 of [Module\n",
        "8](https://comet.arts.ubc.ca/docs/Research/econ490-r/08_ggplot_graphs.html)\n",
        "to create a line plot with one line for each treatment status (*treated*\n",
        "and *untreated*).\n",
        "\n",
        "In this case, we need to add a crucial component: `facet_grid`. This\n",
        "allows to split up our data by one or two variables that vary on the\n",
        "horizontal and/or vertical direction. The syntax is\n",
        "`facet_grid(vertical ~ horizontal)`.\n",
        "\n",
        "In the code below, we split vertically our data for the two regions, by\n",
        "adding `facet_grid(region ~ .)` to our code."
      ],
      "id": "b7276ecf-0896-4b3f-9de0-e3f4663a0b4f"
    },
    {
      "cell_type": "code",
      "execution_count": null,
      "metadata": {},
      "outputs": [],
      "source": [
        "# Specify data and axis\n",
        "figure1 <- ggplot(data = figure1_data, # referencing the data we want to use\n",
        "                 aes(\n",
        "                     x = year,  # x is year\n",
        "                     y = mean_earnings, # our y is avg logearnings\n",
        "                     group=treatment, # each line is data for one value of treatment\n",
        "                     color=treatment # each value of treatment as one color\n",
        "                 ))\n",
        "\n",
        "# Tell R the graph will be a line graph\n",
        "figure1 <- figure1 + geom_line() \n",
        "\n",
        "# Add labels\n",
        "figure1 <- figure1 + labs(x = \"Year\", y = \"Average Log-earnings\")\n",
        "\n",
        "# \"split\" vertically graph by region\n",
        "figure1 + facet_grid(region ~ .)"
      ],
      "id": "21f85a16-8001-4c80-9902-f0c1e4bea5be"
    },
    {
      "cell_type": "markdown",
      "metadata": {},
      "source": [
        "Notice that now our graph is made of two panels whose titles are the\n",
        "names of the regions. However, we do not know what region 1 and region 2\n",
        "mean. We can add a character variable to our data, named *region_name*,\n",
        "and split horizontally the graph into the two names stored in\n",
        "*region_name*."
      ],
      "id": "8ae5d953-9488-4a72-819d-e2878627e3a6"
    },
    {
      "cell_type": "code",
      "execution_count": null,
      "metadata": {},
      "outputs": [],
      "source": [
        "# Add names to regions\n",
        "figure1_data <- figure1_data %>%\n",
        "                mutate(region_name = case_when(region == 1 ~ 'Ontario', region == 2 ~ 'Manitoba'))\n",
        "\n",
        "# Specify data and axis\n",
        "figure1 <- ggplot(data = figure1_data, # referencing the data we want to use\n",
        "                 aes(\n",
        "                     x = year,  # x is year\n",
        "                     y = mean_earnings, # our y is avg logearnings\n",
        "                     group=treatment, # each line is data for one value of treatment\n",
        "                     color=treatment # each value of treatment as one color\n",
        "                 ))\n",
        "\n",
        "# Tell R the graph will be a line graph\n",
        "figure1 <- figure1 + geom_line() \n",
        "\n",
        "# Add labels\n",
        "figure1 <- figure1 + labs(x = \"Year\", y = \"Average Log-earnings\")\n",
        "\n",
        "# Split horizontally and use labels\n",
        "figure1 + facet_grid(. ~ region_name)"
      ],
      "id": "caa047f7-06bd-487d-9bf7-be91ea840865"
    },
    {
      "cell_type": "markdown",
      "metadata": {},
      "source": [
        "We can also add a vertical line for year 2003, the moment in which the\n",
        "treatment has been introduced. More information about how to do this is\n",
        "available in [Module\n",
        "8](https://comet.arts.ubc.ca/docs/Research/econ490-r/08_ggplot_graphs.html)"
      ],
      "id": "625a4930-e9ee-403c-8149-276d02f1a766"
    },
    {
      "cell_type": "code",
      "execution_count": null,
      "metadata": {},
      "outputs": [],
      "source": [
        "# Add dashed red vertical line\n",
        "figure1 <- figure1 + geom_vline(aes(xintercept=2002), color=\"#bb0000\", linetype=\"dashed\")\n",
        "\n",
        "# Split vertically by region_name\n",
        "figure1 + facet_grid(. ~ region_name)"
      ],
      "id": "44ebd695-8237-4ed8-88c0-b06b0a31df21"
    },
    {
      "cell_type": "markdown",
      "metadata": {},
      "source": [
        "## 9.2 Example 2\n",
        "\n",
        "For this example, we want to combine graphs that do not follow the same\n",
        "schema. Let’s say we are interested in seeing if there is any\n",
        "relationship between the distribution of earnings (*log_earnings*) and\n",
        "how worker’s earnings change over time in region 1. Which graphs do you\n",
        "think would best present this information?\n",
        "\n",
        "As we have seen in [Module\n",
        "8](https://comet.arts.ubc.ca/docs/Research/econ490-r/08_ggplot_graphs.html),\n",
        "we usually use histograms to represent density distributions and we can\n",
        "use a scatterplot or a line plot for the graph of earnings over time.\n",
        "\n",
        "We will now see how to use `grid.arrange` to put multiple graphs on one\n",
        "page. The `grid.arrange` function is stored in the library *gridExtra*,\n",
        "which we need to install. We do so below."
      ],
      "id": "005c2906-3ded-4d16-bb3c-e93d13625ba3"
    },
    {
      "cell_type": "code",
      "execution_count": null,
      "metadata": {},
      "outputs": [],
      "source": [
        "# Install and laod\n",
        "#install.packages(\"gridExtra\")\n",
        "library(gridExtra)"
      ],
      "id": "28e4ad0a-4911-4614-910e-94e266d9d646"
    },
    {
      "cell_type": "markdown",
      "metadata": {},
      "source": [
        "Let’s first create the two plots separately and then combine them\n",
        "together.\n",
        "\n",
        "Start with the histogram: use `geom_histogram` to create a histogram for\n",
        "the density of log-earnings and store it into the object *plot1*. You\n",
        "can find a detailed explanation in section 8.2.3 of [Module\n",
        "8](https://comet.arts.ubc.ca/docs/Research/econ490-r/08_ggplot_graphs.html)."
      ],
      "id": "c693c1e7-3193-4985-9e27-d37d9fbb5e17"
    },
    {
      "cell_type": "code",
      "execution_count": null,
      "metadata": {},
      "outputs": [],
      "source": [
        "# Add log earnings to dataset\n",
        "fake_data <- fake_data %>% mutate(log_earnings = log(earnings))\n",
        "\n",
        "# Plot 1: histogram\n",
        "plot1 <- ggplot(data = fake_data, aes(x = log_earnings)) + geom_histogram()"
      ],
      "id": "466fe2f3-dbcb-4545-b83d-5a2973cdafcc"
    },
    {
      "cell_type": "markdown",
      "metadata": {},
      "source": [
        "Then, create a line graph for the average log-earning by year using\n",
        "`geom_line` and store it into the object *plot2*. You can find a\n",
        "detailed explanation in section 8.2.2 of [Module\n",
        "8](https://comet.arts.ubc.ca/docs/econ_490/econ490-r/08_ggplot_graphs.html)."
      ],
      "id": "1bb6b703-720f-46cf-86d0-6ef7f603ab82"
    },
    {
      "cell_type": "code",
      "execution_count": null,
      "metadata": {},
      "outputs": [],
      "source": [
        "# Create a dataframe with the average wage by year\n",
        "plot2_data <- fake_data %>%\n",
        "              group_by(year) %>%\n",
        "              summarise(mean_earnings = mean(log_earnings))\n",
        "\n",
        "# Plot 2: line graph\n",
        "plot2 <- ggplot(data = plot2_data, aes(x = year, y = mean_earnings)) + geom_line()"
      ],
      "id": "c6624c8f-4087-4eeb-bb29-38667ee42d8d"
    },
    {
      "cell_type": "markdown",
      "metadata": {},
      "source": [
        "Now combine the objects *plot1* and *plot2* into one single page using\n",
        "the function `grid.arrange`. Notice that we can specify how many numbers\n",
        "of columns or rows we want with `ncol` or `nrow`, respectively."
      ],
      "id": "a6f95fef-f495-406d-a99a-8f2a6a6f86bc"
    },
    {
      "cell_type": "code",
      "execution_count": null,
      "metadata": {},
      "outputs": [],
      "source": [
        "grid.arrange(plot1, plot2, nrow=1)"
      ],
      "id": "c97fe9ea-0980-4a39-9607-0d50c0a90eae"
    },
    {
      "cell_type": "markdown",
      "metadata": {},
      "source": [
        "## 9.3 Wrap Up\n",
        "\n",
        "In this module we learned how to combine graphs using , whether they\n",
        "have the same schema or not. When producing a research paper we might\n",
        "want to compare statistics from different countries or regions, such as\n",
        "GDP, population density, inflation, exports, etc. These types of graphs\n",
        "allow us to see how the same variables diverge across different\n",
        "categories (as in Example 1) or how different variables influence each\n",
        "other (as in Example 2).\n",
        "\n",
        "## 9.4 Wrap-up Table\n",
        "\n",
        "| Command                                    | Function                                                   |\n",
        "|--------------------------------|----------------------------------------|\n",
        "| `facet_grid(vertical ~ horizontal)`        | It combines two graphs with the same or different schemas. |\n",
        "| `grid.arrange(plot1, plot2, nrow=, ncol=)` | It combines two graphs with the same or different schemas. |"
      ],
      "id": "a2c302d2-0a82-4ea2-87d4-90d4fab7ffb5"
    }
  ],
  "nbformat": 4,
  "nbformat_minor": 5,
  "metadata": {
    "kernelspec": {
      "name": "ir",
      "display_name": "R",
      "language": "r"
    }
  }
}