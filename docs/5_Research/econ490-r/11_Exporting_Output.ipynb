{
  "cells": [
    {
      "cell_type": "markdown",
      "metadata": {},
      "source": [
        "# 11 - Exporting Regression Output\n",
        "\n",
        "Marina Adshade, Paul Corcuera, Giulia Lo Forte, Jane Platt  \n",
        "2024-05-29\n",
        "\n",
        "## Prerequisites\n",
        "\n",
        "1.  Run OLS Regressions.\n",
        "\n",
        "## Learning Outcomes\n",
        "\n",
        "1.  Being able to export regression output in a table.\n",
        "2.  Being able to plot regression coefficients in a graph.\n",
        "\n",
        "## 11.1 Exporting Regression Output\n",
        "\n",
        "When doing our project, presenting our results in a clear and organized\n",
        "manner is as important as obtaining the results themselves. R’s output\n",
        "is very clear on the computer display, but at some point we need to\n",
        "“move” it from R to our draft. In this module, we will see how to save a\n",
        "regression output in a table.\n",
        "\n",
        "Once again, we will be using the fictional data set. Recall that this\n",
        "data is simulating information of workers in the years 1982-2012 in a\n",
        "fictional country where a training program was introduced in 2003 to\n",
        "boost their earnings.\n",
        "\n",
        "Let’s start by loading our packages and opening the dataset."
      ],
      "id": "9a727ebf-afaf-4de4-bf4c-1c60235eb4ce"
    },
    {
      "cell_type": "code",
      "execution_count": null,
      "metadata": {},
      "outputs": [],
      "source": [
        "# Loading in our packages\n",
        "library(tidyverse)\n",
        "library(haven)\n",
        "library(IRdisplay)\n",
        "\n",
        "# Open the data\n",
        "fake_data <- read_dta(\"../econ490-stata/fake_data.dta\")"
      ],
      "id": "92e9b5f8-d8a6-4676-9d45-1b6637db390d"
    },
    {
      "cell_type": "markdown",
      "metadata": {},
      "source": [
        "Imagine we are interested in estimating a multivariate regression of the\n",
        "following form:\n",
        "\n",
        "$$\n",
        "\\text{earnings}_{it} = \\alpha + \\beta_1 \\text{age}_{it} + \\beta_2 \\text{sex}_i + \\varepsilon_{it}\n",
        "$$\n",
        "\n",
        "where $\\text{Earnings}_{it}$ is the logarithm of earnings of individual\n",
        "$i$ at time $t$, $\\text{Age}_{it}$ is the logarithm of age of individual\n",
        "$i$ at time $t$, and $\\text{Sex}_i$ is a dummy variable equal to one if\n",
        "the sex of individual $i$ is female.\n",
        "\n",
        "First, we create the variables we need."
      ],
      "id": "4a9e10c5-6e84-405a-9473-d8663bfdc8e6"
    },
    {
      "cell_type": "code",
      "execution_count": null,
      "metadata": {},
      "outputs": [],
      "source": [
        "fake_data <- fake_data %>%\n",
        "        mutate(log_earnings = log(earnings)) %>%\n",
        "        mutate(log_age = log(age)) %>%\n",
        "        mutate(sexdummy = as.factor(sex))"
      ],
      "id": "04a9a010-cd3d-4b8e-897b-408ea2c30153"
    },
    {
      "cell_type": "markdown",
      "metadata": {},
      "source": [
        "Then we can estimate our regression using the function `lm`. We have\n",
        "seen how to do it in [Module\n",
        "10](https://comet.arts.ubc.ca/docs/Research/econ490-r/10_Linear_Reg.html)."
      ],
      "id": "443524cb-434a-4b0b-af74-1a344b45ca3c"
    },
    {
      "cell_type": "code",
      "execution_count": null,
      "metadata": {},
      "outputs": [],
      "source": [
        "summary(lm(data=fake_data, log_earnings ~ log_age + sexdummy))"
      ],
      "id": "5ccce09e-60c2-41ec-86b5-ae6ffc6eabf9"
    },
    {
      "cell_type": "markdown",
      "metadata": {},
      "source": [
        "There are different options available to export this table to another\n",
        "file. In this module, we will use `stargazer`.\n",
        "\n",
        "`stargazer` can take several options. In its simplest form, we just need\n",
        "to type `stargazer(modelname, type=\"filetype\", output=\"filename\")` to\n",
        "save the results of the model *modelname* in a file of type *filetype*\n",
        "named *filename*. We can use text files, tex files, and html files.\n",
        "\n",
        "For example, let’s save our results in a text file named *table.txt*.\n",
        "First, we have to call the stargazer library."
      ],
      "id": "7e0f8eda-66c6-45c3-9c9c-0c91ca0a53a4"
    },
    {
      "cell_type": "code",
      "execution_count": null,
      "metadata": {},
      "outputs": [],
      "source": [
        "#uncomment this line to install the package! install.packages(\"stargazer\")\n",
        "library(stargazer)"
      ],
      "id": "d002b44f-8e22-4aae-b6fb-e8f090106de9"
    },
    {
      "cell_type": "markdown",
      "metadata": {},
      "source": [
        "Then, we can save our linear model in a object called *model1* and use\n",
        "it as input of the `stargazer` function."
      ],
      "id": "81979420-b611-42e8-bf5c-819edada87da"
    },
    {
      "cell_type": "code",
      "execution_count": null,
      "metadata": {},
      "outputs": [],
      "source": [
        "model1 <- lm(data=fake_data, log_earnings ~ log_age + sexdummy)\n",
        "stargazer(model1, type=\"text\", out=\"table.txt\")"
      ],
      "id": "49595cdc-8d33-4ac9-9303-f0a7f0fd885f"
    },
    {
      "cell_type": "markdown",
      "metadata": {},
      "source": [
        "A file named *table.txt* should appear in your folder. Notice that this\n",
        "worked, but our table does not have a very professional appearance yet.\n",
        "We can add more options to the function `stargazer` to make our results\n",
        "more clear and organized.\n",
        "\n",
        "Here are some of the options we can add:\n",
        "\n",
        "-   we can align the numeric values within our table with option\n",
        "    `align=TRUE`;\n",
        "-   we can keep only selected statistics using `keep.stat`;\n",
        "-   we can add a title *titlename* with the option `title=\"titlename\"`;\n",
        "-   we can modify the labels of covariates in the regression table with\n",
        "    the option `covaraiate.labels`;\n",
        "-   we can show only some coefficients, by including them in\n",
        "    `keep(coeffnames)`. Similarly, we can omit some of the coefficients\n",
        "    by including them in `omit(coeffnames)`.\n",
        "\n",
        "Let’s try all of them in practice. Let’s save again the same table, with\n",
        "the following modifications:\n",
        "\n",
        "-   keep only the coefficients for *log_age* and *sexdummy*;\n",
        "-   rename those coefficients;\n",
        "-   keep only the statistics on number of observations and adjusted\n",
        "    R$^2$;\n",
        "-   add a title."
      ],
      "id": "61552386-4f01-4b28-aeed-6166200c90b2"
    },
    {
      "cell_type": "code",
      "execution_count": null,
      "metadata": {},
      "outputs": [],
      "source": [
        "stargazer(model1, type=\"text\", out=\"table.txt\", title=\"Earnings analysis\", keep.stat=c(\"n\",\"adj.rsq\"), keep=c(\"log_age\",\"sexdummy\"), covariate.labels=c(\"Age (ln)\", \"Male\"))"
      ],
      "id": "b9532623-595c-4f5b-920b-73f22339efe7"
    },
    {
      "cell_type": "markdown",
      "metadata": {},
      "source": [
        "This is way nicer, but what if we want to show the results of multiple\n",
        "models in the same table?\n",
        "\n",
        "Suppose we want to first estimate a model with only *age* or only *sex*\n",
        "as an explanatory variable, and then a multivariate model encompassing\n",
        "both. In this case, we only need to store the results of each model in a\n",
        "separate object and then add all of them as inputs of `stargazer`.\n",
        "\n",
        "In the example below, we store the three models in objects *model1*,\n",
        "*model2*, and *model3* before adding them as inputs of `stargazer`."
      ],
      "id": "a41e9341-5c21-46d0-b691-14cd9c3db418"
    },
    {
      "cell_type": "code",
      "execution_count": null,
      "metadata": {},
      "outputs": [],
      "source": [
        "# Store regressions\n",
        "model1 <- lm(data=fake_data, log_earnings ~ log_age)\n",
        "model2 <- lm(data=fake_data, log_earnings ~ sexdummy)\n",
        "model3 <- lm(data=fake_data, log_earnings ~ log_age + sexdummy)\n",
        "\n",
        "# Create table\n",
        "stargazer(model1, model2, model3, title=\"Comparison\", align=TRUE, type=\"text\", out=\"table.txt\", keep.stat=c(\"n\",\"adj.rsq\"))"
      ],
      "id": "d5e13d8d-e0ce-42b5-9d17-d1e441369e2f"
    },
    {
      "cell_type": "markdown",
      "metadata": {},
      "source": [
        "## 11.2 Plotting Regression Coefficients\n",
        "\n",
        "Visual representations can be better than tables. Sometimes we need to\n",
        "plot our estimated coefficients and their confidence intervals.\n",
        "\n",
        "In R, this is easily done with command `coefplot`. The graphs obtained\n",
        "with `coefplot` are easy to customize. In its simplest use, we only need\n",
        "to save our regression results in an object and then give that object as\n",
        "input of `coefplot`.\n",
        "\n",
        "Once again, let’s try it on our multivariate model. The first thing to\n",
        "do, is to load the corresponding library."
      ],
      "id": "04191f7e-16ed-4e79-842a-0bad6ef9e636"
    },
    {
      "cell_type": "code",
      "execution_count": null,
      "metadata": {},
      "outputs": [],
      "source": [
        "# Load package\n",
        "#uncomment this line to install the package! install.packages(\"coefplot\")\n",
        "\n",
        "library(coefplot)"
      ],
      "id": "e7e121fd-5747-49f8-86c1-5e85626f6aa6"
    },
    {
      "cell_type": "markdown",
      "metadata": {},
      "source": [
        "Now we can save our estimated coefficients in an object named *model1*\n",
        "and use it as input for the `coefplot` function. Note that we can omit\n",
        "the constant by adding the option `intercept=FALSE`."
      ],
      "id": "488b099a-59a2-48c8-a6d3-da73cb1371db"
    },
    {
      "cell_type": "code",
      "execution_count": null,
      "metadata": {},
      "outputs": [],
      "source": [
        "model1 <- lm(data=fake_data, log_earnings ~ log_age + sexdummy)\n",
        "coefplot(model1, intercept=FALSE)"
      ],
      "id": "22fc469b-27a4-4b14-a072-6f6c26b23fe0"
    },
    {
      "cell_type": "markdown",
      "metadata": {},
      "source": [
        "We can customize our graph further by using options that are specific to\n",
        "`coefplot`. By default, R draws two confidence intervals: the first at\n",
        "one standard deviation from the coefficient, and the second at two\n",
        "standard deviations from the coefficient. We can modify them with the\n",
        "options `innerCI` and `outerCI`, respectively. By default, they are set\n",
        "to `innerCI=1` and `outerCI=2`.\n",
        "\n",
        "We can also change the color of the estimates and their confidence\n",
        "intervals with the option `color`.\n",
        "\n",
        "Finally, we can display the estimated coefficients horizontally with the\n",
        "option `horizontal=TRUE`.\n",
        "\n",
        "Let’s apply these options to our example and generate an horizontal plot\n",
        "with red objects and only one confidence interval at 1.5 standard\n",
        "deviations distance."
      ],
      "id": "d88b6dee-5132-452b-b8a0-f70656af43af"
    },
    {
      "cell_type": "code",
      "execution_count": null,
      "metadata": {},
      "outputs": [],
      "source": [
        "coefplot(model1, intercept=FALSE, horizontal=TRUE, color=\"red\", innerCI=0, outerCI=1.5)"
      ],
      "id": "9e5e3ced-1937-4deb-91d9-3aa81aac9883"
    },
    {
      "cell_type": "markdown",
      "metadata": {},
      "source": [
        "## 11.3 Wrap Up\n",
        "\n",
        "We have learned in this module how to store regression output in a clear\n",
        "and organized manner using the command `stargazer` and how to plot\n",
        "regression coefficients using the command `coefplot`.\n",
        "\n",
        "Remember to check the R documentation when creating graphs and exporting\n",
        "tables. The documentation can be your best ally if you end up using it.\n",
        "\n",
        "## 11.4 Wrap-up Table\n",
        "\n",
        "| Command | Function |\n",
        "|--------------------------------|----------------------------------------|\n",
        "| `stargazer(modelname, type=\"filetype\", output=\"filename\")` | It saves *modelname* in a file of type *filetype* named *filename*. |\n",
        "| `coefplot(modelname)` | It plots regression coefficients and two confidence intervals, one at 1 standard deviation and the other at 2 standard deviations distance. |"
      ],
      "id": "f5108e7c-d410-47a7-b02b-ebe619d5b1fc"
    }
  ],
  "nbformat": 4,
  "nbformat_minor": 5,
  "metadata": {
    "kernelspec": {
      "name": "ir",
      "display_name": "R",
      "language": "r"
    }
  }
}