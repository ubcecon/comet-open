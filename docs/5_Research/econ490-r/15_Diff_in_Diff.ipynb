{
  "cells": [
    {
      "cell_type": "markdown",
      "metadata": {},
      "source": [
        "# 15 - Difference-in-Differences Analysis\n",
        "\n",
        "Marina Adshade, Paul Corcuera, Giulia Lo Forte, Jane Platt  \n",
        "2024-05-29\n",
        "\n",
        "## Prerequisites\n",
        "\n",
        "1.  Run OLS regressions.\n",
        "2.  Run panel data regressions.\n",
        "\n",
        "## Learning Outcomes\n",
        "\n",
        "1.  Understand the parallel trends (PT) assumption.\n",
        "2.  Run the according OLS regression that retrieves the causal estimand.\n",
        "3.  Implement these regressions in the two-period case and in multiple\n",
        "    time periods (a.k.a event studies).\n",
        "4.  Conduct a test on the plausibility of the PT whenever there are more\n",
        "    than 1 pre-treatment periods.\n",
        "\n",
        "## 15.1 Difference-in-differences\n",
        "\n",
        "Difference-in-differences (diff-in-diff) is a **research design** used\n",
        "to estimate the causal impact of a treatment by comparing the changes in\n",
        "outcomes over time between a treated group and an untreated (or control)\n",
        "group. By comparing changes in outcomes over time, it relies on the use\n",
        "of multiple (at least two) time periods. Therefore, there is a link\n",
        "between diff-in-diff designs and panel data. Every time we want to use a\n",
        "diff-in-diff design, we will always have to make sure that we have panel\n",
        "data.\n",
        "\n",
        "Why are panel datasets crucial in diff-in-diff research designs? The\n",
        "idea is that panel data allows us to control for heterogeneity that is\n",
        "both unobserved and time invariant.\n",
        "\n",
        "Consider the following example. Earnings $y_{it}$ of worker $i$ at time\n",
        "$t$ can be split into two components:\n",
        "\n",
        "$$\n",
        "y_{it} = e_{it} + \\alpha_{i}\n",
        "$$\n",
        "\n",
        "where $\\alpha_i$ is a measure of worker quality and $e_{it}$ are the\n",
        "part of earnings not explained by $\\alpha_i$. This says that a bad\n",
        "quality worker (low $\\alpha_i$) will receive lower earnings *at any time\n",
        "period*, since $\\alpha_i$ is time invariant. Notice that worker quality\n",
        "is typically unobserved and is usually part of our error term, which\n",
        "should not be correlated with treatment. In many cases though, this\n",
        "invariant heterogeneity (in our case, worker quality) is the cause of\n",
        "endogeneity bias. In this example, it can be that workers who attend a\n",
        "training program also tend to be the ones that perform poorly at their\n",
        "job and *select* into this program.\n",
        "\n",
        "However, notice that if we take time differences, we get rid of this\n",
        "heterogeneity. Suppose we subtract earnings at time $1$ from earnings at\n",
        "time $0$, thus obtaining:\n",
        "\n",
        "$$\n",
        "y_{i1} - y_{i0} =   e_{i1} - e_{i0}\n",
        "$$\n",
        "\n",
        "where our new equation no longer depends on $\\alpha_i$! However, see how\n",
        "we are now measuring $y_{i1} - y_{i0}$ instead of $y_{it}$? Our model\n",
        "now has *changes* rather than levels. This is going to be the trick used\n",
        "implicitly throughout this module.\n",
        "\n",
        "For this module, we will keep working on our fake data set. Recall that\n",
        "this data is simulating information of workers in the years 1982-2012 in\n",
        "a fake country where a training program was introduced in 2003 to boost\n",
        "their earnings.\n",
        "\n",
        "Let’s start by loading the packages we need."
      ],
      "id": "f5f31d25-7b5a-4e07-a33b-8c4f0f639be7"
    },
    {
      "cell_type": "code",
      "execution_count": null,
      "metadata": {},
      "outputs": [],
      "source": [
        "# Load the plm library (for panel data)\n",
        "#uncomment to install the package! install.packages(\"plm\")\n",
        "library(plm)\n",
        "\n",
        "# Loading in our packages\n",
        "library(tidyverse)\n",
        "library(haven)"
      ],
      "id": "e6397ad6-f835-470c-9c8a-46560506ba8c"
    },
    {
      "cell_type": "markdown",
      "metadata": {},
      "source": [
        "Then we import our data and let R know that it is a panel data with\n",
        "panel variable *workerid* and time variable *year*."
      ],
      "id": "b7fa93f7-9f41-4dbd-8eaa-131470339473"
    },
    {
      "cell_type": "code",
      "execution_count": null,
      "metadata": {},
      "outputs": [],
      "source": [
        "# Load data\n",
        "fake_data <- read_dta(\"../econ490-stata/fake_data.dta\") \n",
        "\n",
        "# Set as panel\n",
        "panel_data <- pdata.frame(fake_data, index = c(\"workerid\",\"year\"))"
      ],
      "id": "d67b591c-d48a-4ab9-8a21-85705a8ca618"
    },
    {
      "cell_type": "markdown",
      "metadata": {},
      "source": [
        "## 15.2 Parallel Trends Assumption\n",
        "\n",
        "When using a diff-in-diff design, we first need to make sure our data\n",
        "has a binary treatment variable which takes the value 1 when our unit of\n",
        "observation is treated and 0 otherwise. In the example above, let’s\n",
        "denote such a binary treatment variable as $D_i$. It takes value 1 if a\n",
        "worker $i$ is enrolled in the training program at some point in time.\n",
        "\n",
        "In our fake data set, the binary treatment variable already exists and\n",
        "is called *treated*. Let’s check that it takes values 0 or 1."
      ],
      "id": "82e676cd-9359-4b82-a7e6-e0fd5a956cea"
    },
    {
      "cell_type": "code",
      "execution_count": null,
      "metadata": {},
      "outputs": [],
      "source": [
        "summary(panel_data$treated)"
      ],
      "id": "cea42750-d9b5-42a2-87af-d37023362577"
    },
    {
      "cell_type": "markdown",
      "metadata": {},
      "source": [
        "The aim of diff-in-diff analysis is to estimate the causal impact of a\n",
        "treatment by comparing the changes in outcomes over time between a\n",
        "treated group and an untreated group.\n",
        "\n",
        "A crucial assumption needed to claim causal impact is that, *in the\n",
        "absence of treatment*, the treatment and control groups would follow\n",
        "similar trends over time. This assumption is called **parallel trends\n",
        "assumption**. Whenever we adopt a diff-in-diff design in our research,\n",
        "the first thing we need to check is that this assumption is satisfied.\n",
        "\n",
        "How do we do that?\n",
        "\n",
        "A common approach to check for parallel trends is to plot the mean\n",
        "outcome for both the treated and untreated group over time.\n",
        "\n",
        "Do you recall how to make these plots from [Module\n",
        "8](https://comet.arts.ubc.ca/docs/Research/econ490-r/08_ggplot_graphs.html)?\n",
        "\n",
        "We start by generating the average log-earnings for each group in each\n",
        "year."
      ],
      "id": "17b9aeb5-c984-4859-8303-284b6984e196"
    },
    {
      "cell_type": "code",
      "execution_count": null,
      "metadata": {},
      "outputs": [],
      "source": [
        "# Generate log-earnings\n",
        "panel_data <- panel_data %>% mutate(logearn = log(earnings))\n",
        "\n",
        "# Generate average by group and year\n",
        " mean_earn <- panel_data %>% \n",
        "            group_by(treated, year) %>% \n",
        "            summarise(meanearnings = mean(logearn)) %>%\n",
        "            mutate(treatment = case_when(treated == 1 ~ 'Treated', treated == 0 ~ 'Untreated'))"
      ],
      "id": "f9e1267d-04ef-4c8a-b5a9-5661a6aff145"
    },
    {
      "cell_type": "markdown",
      "metadata": {},
      "source": [
        "Next, we plot the trend of average earnings by each group. It is common\n",
        "practice to add a vertical line in the period just before the treatment\n",
        "is assigned. In our case, that would be year 2002. The idea is that the\n",
        "treated workers receive the treatment between years 2002 and 2003."
      ],
      "id": "cca4c7ca-655a-40de-96d1-7b331c30c94e"
    },
    {
      "cell_type": "code",
      "execution_count": null,
      "metadata": {},
      "outputs": [],
      "source": [
        "# Make graph\n",
        "ggplot(mean_earn, aes(x=year, y=meanearnings, group=treatment, color=treatment)) +\n",
        "  geom_line() +\n",
        "  geom_vline(xintercept = \"2002\", linetype = \"dashed\", color = \"red\") + # add vertical line in 2002\n",
        "  labs(x = \"Year\", y = \"Mean earnings\", color = \"Treatment\")"
      ],
      "id": "e7dd3633-960c-461e-abf2-6615276a32ba"
    },
    {
      "cell_type": "markdown",
      "metadata": {},
      "source": [
        "Remember that we care about the two variables having similar trends\n",
        "*before* the year of the treatment. By looking at the graph, it seems\n",
        "that the average earnings of the two groups had similar trends up until\n",
        "year 2002, just before the treatment. This makes us confident that the\n",
        "parallel trends assumption is satisfied.\n",
        "\n",
        "This test for parallel trends assumption is very rudimentary, but\n",
        "perfectly fine for the early stage of our research project. In the next\n",
        "sections, we will see how to estimate the diff-in-diff design, and there\n",
        "we will see a more formal test for the parallel trends assumption.\n",
        "\n",
        "## 15.3 Difference-in-Differences and Regression\n",
        "\n",
        "Whenever we talk about diff-in-diff, we refer to a research design that\n",
        "relies on some version of the parallel trends assumption. To connect\n",
        "this design to regressions, we need to first build a model. To begin, we\n",
        "will assume a case where no control variables are involved.\n",
        "\n",
        "For simplicity, suppose there are only two periods: a period $t=0$ when\n",
        "no one is treated, and a period $t=1$ when some workers receive the\n",
        "treatment.\n",
        "\n",
        "We would then rely on a linear model of the form:\n",
        "\n",
        "$$\n",
        "y_{it} = \\beta D_i \\mathbf{1}\\{t=1\\}  +  \\lambda_t + \\alpha_i + e_{it} \\tag{1}\n",
        "$$\n",
        "\n",
        "where $y_{it}$ is earnings while $\\lambda_t$ and $\\alpha_i$ are year and\n",
        "worker fixed-effects.\n",
        "\n",
        "The key element in this linear model is the interaction between $D_i$\n",
        "and $\\mathbf{1}\\{t=1\\}$.\n",
        "\n",
        "Recall that $D_i$ is a dummy variable taking value 1 if worker $i$\n",
        "receives the treatment at any point in time, and $\\mathbf{1}\\{t=1\\}$ is\n",
        "an indicator function taking value 1 when $t=1$.\n",
        "\n",
        "Therefore, the interaction term $D_i \\mathbf{1}\\{t=1\\}$ will take value\n",
        "1 for treated workers only when the year is $t=1$, or when the treated\n",
        "workers are treated.\n",
        "\n",
        "The parameter $\\beta$ provides the average treatment effect (on the\n",
        "treated) at period $t=1$ (i.e. we get the effect for those with $D_i=1$\n",
        "at $t=1$). It is the average impact of the treatment on those workers\n",
        "who actually received the treatment. $\\beta$ states by how much the\n",
        "average earnings of treated individuals would have changed if they had\n",
        "not received the treatment.\n",
        "\n",
        "Let’s see how we can estimate this linear diff-in-diff model!\n",
        "\n",
        "Recall that we have information of workers in the years 1982-2012 and\n",
        "the training program (the treatment) was introduced in 2003. We’ll keep\n",
        "one year prior and one year after the program, to keep things consistent\n",
        "with the previous section. Specifically, we can think of year 2002 as\n",
        "$t=0$ and year 2003 as $t=1$."
      ],
      "id": "e6b4d946-422c-4b21-ba02-d59a793cd025"
    },
    {
      "cell_type": "code",
      "execution_count": null,
      "metadata": {},
      "outputs": [],
      "source": [
        "# Keep only years 2002 and 2003\n",
        "panel_data <- panel_data[panel_data$year %in% c(\"2002\", \"2003\"),]"
      ],
      "id": "6c91bcc7-56fe-467c-ac34-e269bc32235a"
    },
    {
      "cell_type": "markdown",
      "metadata": {},
      "source": [
        "Next, we create a dummy variable called *time* that takes the value 1\n",
        "when the year is 2003 and 0 otherwise. It will be the equivalent of\n",
        "$\\mathbf{1}\\{t=1\\}$ from Equation (1)."
      ],
      "id": "be4854c3-0ec4-47da-9097-1adf3805478c"
    },
    {
      "cell_type": "code",
      "execution_count": null,
      "metadata": {},
      "outputs": [],
      "source": [
        "# Create dummy variable\n",
        "panel_data <- panel_data %>%\n",
        "            mutate(time = ifelse(panel_data$year == \"2003\", 1, 0))"
      ],
      "id": "07bb6ee0-b40f-42cf-b095-39a5d571c332"
    },
    {
      "cell_type": "markdown",
      "metadata": {},
      "source": [
        "Notice that the diff-in-diff linear model in Equation (1) can be seen as\n",
        "a specific case of a linear model with many fixed-effects using panel\n",
        "data. We can still use the `plm()` function that we have studied in\n",
        "[Module\n",
        "14](https://comet.arts.ubc.ca/docs/Research/econ490-r/14_Panel_Data.html)\n",
        "Remember to add the option `effect = \"twoways\"` to tell R to add both\n",
        "time and worker fixed-effects to the specification."
      ],
      "id": "dc806c9b-3273-4d79-ac8d-e00db691dd22"
    },
    {
      "cell_type": "code",
      "execution_count": null,
      "metadata": {},
      "outputs": [],
      "source": [
        "did_model <- plm(logearn ~ treated * time, data = panel_data, index=c(\"workerid\", \"year\"), model = \"within\", effect = \"twoways\")\n",
        "summary(did_model)"
      ],
      "id": "33538f59-4920-4603-8992-2582899af9a7"
    },
    {
      "cell_type": "markdown",
      "metadata": {},
      "source": [
        "Our coefficient of interest is *treated:time*. This says that, *on\n",
        "average*, workers who entered the program received 18 percentage points\n",
        "more earnings relative to a counterfactual scenario where they never\n",
        "entered the program (which in this case is captured by the control\n",
        "units). How did we get this interpretation? Recall that OLS estimates\n",
        "are interpreted as a 1 unit increase in the independent variable: a 1\n",
        "unit increase of $D_i \\mathbf{1}\\{t=1\\}$ corresponds to those who\n",
        "started receiving treatment at $t=1$. Furthermore, the dependent\n",
        "variable is in log scale, so a 0.18 increase corresponds to a 18\n",
        "percentage point increase in earnings.\n",
        "\n",
        "### 15.3.1 Adding Covariates\n",
        "\n",
        "The first thing to notice is that our regression specification in\n",
        "Equation (1) involves worker fixed-effects $\\alpha_i$. This means that\n",
        "every worker characteristic that is fixed over time (for example, sex at\n",
        "birth) will be absorbed by the fixed-effects $\\alpha_i$. Therefore, if\n",
        "we added characteristics such as sex and race as covariates, those would\n",
        "be omitted from the regression due to perfect collinearity.\n",
        "\n",
        "This means that we can add covariates to the extent that they are time\n",
        "varying by nature (e.g. tenure, experience), or are trends based on\n",
        "fixed characteristics (e.g. time dummies interacted with sex). We refer\n",
        "to the latter as covariate-specific trends.\n",
        "\n",
        "Algebraically, we obtain a specification that is very similar to\n",
        "Equation (1): $$\n",
        "y_{it} = \\beta D_i \\mathbf{1}\\{t=1\\}  + \\gamma X_{it} +  \\lambda_t + \\alpha_i + e_{it} \\tag{2}\n",
        "$$\n",
        "\n",
        "where $X_{it}$ is a time-varying characteristic of worker $i$ and time\n",
        "$t$.\n",
        "\n",
        "## 15.4 Multiple Time Periods\n",
        "\n",
        "In keeping only the years 2002 and 2003, we have excluded substantial\n",
        "information from our analysis. We may want to keep our data set at its\n",
        "original state, with all its years.\n",
        "\n",
        "A very natural approach to extending this to multiple time periods is to\n",
        "attempt to get the average effect across all post-treatment time\n",
        "periods. For example, it may be that the effects of the training program\n",
        "decay over time, but we are interested in the average effect. We may\n",
        "think of maintaining the parallel trends assumption in a model like\n",
        "this:\n",
        "\n",
        "$$\n",
        "y_{it} = \\beta D_i \\mathbf{1}\\{t\\geq 1\\}  + \\lambda_t + \\alpha_i + e_{it} \\tag{3}\n",
        "$$\n",
        "\n",
        "where the $\\beta$ corresponds now to all time periods after the year in\n",
        "which treatment was applied: $t\\geq 1$. Some people rename\n",
        "$D_i \\mathbf{1}\\{t\\geq 1\\}$ to $D_{it}$, where $D_{it}$ is simply a\n",
        "variable that takes 0 before any treatment and 1 for those who are being\n",
        "treated at that particular time $t$. This is known as the *Two-Way\n",
        "Fixed-Effects (TWFE) Model* . It receives this name because we are\n",
        "including unit fixed-effects, time fixed-effects, and our treatment\n",
        "status.\n",
        "\n",
        "Let’s load our fake data set again and estimate a TWFE model\n",
        "step-by-step."
      ],
      "id": "3f6cefcc-0458-449e-9715-ae8bc1a5f2dd"
    },
    {
      "cell_type": "code",
      "execution_count": null,
      "metadata": {},
      "outputs": [],
      "source": [
        "# Load data\n",
        "fake_data <- read_dta(\"../econ490-stata/fake_data.dta\") \n",
        "\n",
        "# Set as panel\n",
        "panel_data <- pdata.frame(fake_data, index = c(\"workerid\",\"year\"))\n",
        "\n",
        "# Generate log-earnings\n",
        "panel_data <- panel_data %>% mutate(logearn = log(earnings))"
      ],
      "id": "f04a80c9-735f-4fd4-853f-a591e004d7b1"
    },
    {
      "cell_type": "markdown",
      "metadata": {},
      "source": [
        "Remember that now we need to create $\\mathbf{1}\\{t\\geq 1\\}$, a dummy\n",
        "equal to 1 for all years following the year in which the treatment was\n",
        "administered. In our example, we need to create a dummy variable taking\n",
        "value 1 for all years greater than or equal to 2003."
      ],
      "id": "3599d737-ca70-40d5-9bfe-9e9f4304e3b0"
    },
    {
      "cell_type": "code",
      "execution_count": null,
      "metadata": {},
      "outputs": [],
      "source": [
        "# Create dummy for year >= 2003\n",
        "panel_data$post2003 = ifelse(panel_data$year %in% c(\"2003\", \"2004\", \"2005\", \"2006\", \"2007\", \"2008\", \"2009\", \"2010\", \"2011\"), 1, 0)"
      ],
      "id": "6f9a2427-1631-45df-a719-2dda13fa3d73"
    },
    {
      "cell_type": "markdown",
      "metadata": {},
      "source": [
        "We can use again `plm` to estimate Equation (3), but remember to use the\n",
        "new *post2003* dummy variable."
      ],
      "id": "a1e84e40-8089-4782-8491-2834cc7927c3"
    },
    {
      "cell_type": "code",
      "execution_count": null,
      "metadata": {
        "tags": []
      },
      "outputs": [],
      "source": [
        "did_model <- plm(logearn ~ treated * post2003, data = panel_data, index=c(\"workerid\", \"year\"), model = \"within\", effect = \"twoways\")\n",
        "summary(did_model)"
      ],
      "id": "cfaeba27-4c79-44d7-a663-2fbe927de4a1"
    },
    {
      "cell_type": "markdown",
      "metadata": {},
      "source": [
        "The results say that a 1 unit increase in $D_i \\mathbf{1}\\{t\\geq 1\\}$\n",
        "corresponds to a 0.07 increase in log-earnings *on average*. That 1 unit\n",
        "increase only occurs for those who start receiving treatment in 2003.\n",
        "Given that the outcome is in a log scale, we interpret these results in\n",
        "percentage points. Therefore, the coefficient of interest says that\n",
        "those who started treatment in 2003 received, on average, a 7 percentage\n",
        "point increase in earnings.\n",
        "\n",
        "In this fake data set, everyone either starts treatment at year 2003 or\n",
        "does not enter the program at all. However, when there is variation in\n",
        "the timing of the treatment (i.e. people entering the training program\n",
        "earlier than others), a regression using this model may fail to capture\n",
        "the true parameter of interest. For a reference, see this\n",
        "[paper](https://www.sciencedirect.com/science/article/abs/pii/S0304407621001445).\n",
        "\n",
        "## 15.5 Event Studies\n",
        "\n",
        "The natural extension of the previous section, which is the standard\n",
        "approach today, is to estimate different treatment effects depending on\n",
        "the time period.\n",
        "\n",
        "It may be possible that the effect of the treatment fades over time: it\n",
        "was large right after the training program was received, but then\n",
        "decreased over time.\n",
        "\n",
        "To capture the evolution of treatment effects over time, we may want to\n",
        "compute treatment effects at different lags after the program was\n",
        "received: 1 year after, 2 years after, etc.\n",
        "\n",
        "Similarly, we may want to compute “treatment effects” at different years\n",
        "*prior* the program.\n",
        "\n",
        "This is a very powerful tool because it allows us to more formally test\n",
        "whether the parallel trends assumption holds or not: if there are\n",
        "treatment effects prior to receiving the treatment, then the treatment\n",
        "and control groups were likely not having the same trend before\n",
        "receiving the treatment. This is often known as a pre-trends test.\n",
        "\n",
        "A linear model where we test for different treatment effects in\n",
        "different years is usually called an *event study*.\n",
        "\n",
        "Essentially, we extend the diff-in-diff linear model to the following\n",
        "equation:\n",
        "\n",
        "$$\n",
        "y_{it} = \\sum_{k=-T,k\\neq1}^T \\beta_k \\mathbf{1}\\{K_{it} = k\\}  + \\lambda_t + \\alpha_i + e_{it} \\tag{4}\n",
        "$$\n",
        "\n",
        "where $K_{it}$ are event time dummies (i.e. whether person $i$ is\n",
        "observed at event time $k$ in time $t$). These are essentially dummies\n",
        "for each year until and each year since the event, or “time to” and\n",
        "“time from” dummies. For example, there will be a dummy indicating that\n",
        "a treated individual is one year away from being treated, two years away\n",
        "from being treated, etc. Notice that, for workers who never enter\n",
        "treatment, it is as if the event time is $\\infty$: they are an infinite\n",
        "amount of years away from receiving the treatment. Due to\n",
        "multicollinearity, we need to omit one category of event time dummies\n",
        "$k$. The typical choice is $k=-1$ (one year prior to treatment), which\n",
        "will serve as our reference group. This means that we are comparing\n",
        "changes relative to event time -1.\n",
        "\n",
        "How do we estimate Equation (4) in practice?\n",
        "\n",
        "We begin by constructing a variable that identifies the time relative to\n",
        "the event. For instance, if a person enters the training program in\n",
        "2003, the observation corresponding to 2002 is time -1 relative to the\n",
        "event, the observation corresponding to 2003 is time 0 relative to the\n",
        "event, and so on. We call this variable *event_time* and we compute it\n",
        "as the difference between the current year and the year in which the\n",
        "treatment was received (stored in variable *time_entering_treatment*).\n",
        "\n",
        "In this fake data set, everyone enters the program in 2003, so it is\n",
        "very easy to construct the event time. If this is not the case, we need\n",
        "to make sure that we have a variable which states the year in which each\n",
        "person receives their treatment."
      ],
      "id": "73426a97-8ac5-4cab-b57c-b3751f61c24d"
    },
    {
      "cell_type": "code",
      "execution_count": null,
      "metadata": {},
      "outputs": [],
      "source": [
        "# Load data\n",
        "fake_data <- read_dta(\"../econ490-stata/fake_data.dta\") \n",
        "\n",
        "# Set as panel\n",
        "panel_data <- pdata.frame(fake_data, index = c(\"workerid\",\"year\"))\n",
        "\n",
        "# Generate log-earnings\n",
        "panel_data <- panel_data %>% mutate(logearn = log(earnings))\n",
        "\n",
        "# Generate a variable for year in which treatment was received\n",
        "panel_data$time_entering_treatment = ifelse(panel_data$treated == 1, 2003, NA)\n",
        "\n",
        "# Convert year to numeric\n",
        "panel_data$yearnum <- 1994 + as.numeric(panel_data$year)\n",
        "\n",
        "# Generate a variable for time relative to the event\n",
        "panel_data$event_time = panel_data$yearnum - panel_data$time_entering_treatment"
      ],
      "id": "7c2bf54f-0089-4e3e-aca5-5a6f87483cf4"
    },
    {
      "cell_type": "markdown",
      "metadata": {},
      "source": [
        "To make sure we have created *event_time* properly, let’s see which\n",
        "values it takes."
      ],
      "id": "dc4d23c2-1345-4888-bf0e-3e1cd5f8e682"
    },
    {
      "cell_type": "code",
      "execution_count": null,
      "metadata": {},
      "outputs": [],
      "source": [
        "summary(panel_data$event_time)"
      ],
      "id": "4bbc261b-b7e4-4aed-8199-0d40499f1619"
    },
    {
      "cell_type": "markdown",
      "metadata": {},
      "source": [
        "Notice that all untreated workers have a missing value for the variable\n",
        "*event_time*. We want to include untreated workers in the reference\n",
        "category $k=-1$. Recall that we are still trying to understand the\n",
        "effect of being treated compared to the reference group, those that are\n",
        "untreated. Therefore, we code untreated units as if they always belonged\n",
        "to event time -1. We use `ifelse` to replace variable *event_time* with\n",
        "value -1 when variable *treated* takes value 0."
      ],
      "id": "39df163f-9a65-43ee-b4b5-d0427e0d4acf"
    },
    {
      "cell_type": "code",
      "execution_count": null,
      "metadata": {},
      "outputs": [],
      "source": [
        "panel_data$event_time <- ifelse(panel_data$treated == 0, -1, panel_data$event_time)\n",
        "summary(panel_data$event_time)"
      ],
      "id": "a92c56e7-419f-4767-a0cb-5389336c9f94"
    },
    {
      "cell_type": "markdown",
      "metadata": {},
      "source": [
        "We then decide which *window* of time around the treatment we want to\n",
        "focus on (the $T$’s in Equation (4)). For instance, we may want to focus\n",
        "on 2 years prior to the treatment and 2 years after the treatment, and\n",
        "estimate those treatment effects. Our choice should depend on the amount\n",
        "of information we have in each year. In this case, notice that the\n",
        "number of workers 8 years after treatment is substantially lower than\n",
        "the number of workers 8 years before treatment is started.\n",
        "\n",
        "We could drop all observations before $k=-2$ and after $k=2$. This would\n",
        "once again reduce the amount of information we have in our dataset.\n",
        "\n",
        "An alternative approach, called *binning* the window around treatment,\n",
        "is usually preferred. It works by pretending that treated workers who\n",
        "are observed before *event_time* -2 were actually observed in\n",
        "*event_time* -2 and treated workers who are observed after *event_time*\n",
        "2 were actually observed in *event_time* 2. Once again, we use the\n",
        "command `ifelse`."
      ],
      "id": "bbfae2d9-7db6-4753-8b2e-9aaa3af62581"
    },
    {
      "cell_type": "code",
      "execution_count": null,
      "metadata": {},
      "outputs": [],
      "source": [
        "panel_data$event_time <- ifelse(panel_data$event_time < -2 & panel_data$treated == 1, -2, panel_data$event_time)\n",
        "panel_data$event_time <- ifelse(panel_data$event_time > 2 & panel_data$treated == 1, 2, panel_data$event_time)"
      ],
      "id": "15e8ebab-219c-4c02-b760-38cb856a8ad9"
    },
    {
      "cell_type": "markdown",
      "metadata": {},
      "source": [
        "Notice how these steps have modified the values of variable *event_time*\n",
        "compared to before:"
      ],
      "id": "177a6718-938e-4917-8918-a9e7d024e037"
    },
    {
      "cell_type": "code",
      "execution_count": null,
      "metadata": {},
      "outputs": [],
      "source": [
        "summary(panel_data$event_time)"
      ],
      "id": "1eeff586-bcd6-4177-81a7-157da8196d9f"
    },
    {
      "cell_type": "markdown",
      "metadata": {},
      "source": [
        "The next step is to generate a dummy variable for each value of\n",
        "*event_time*. We use the function `case_when()` to do it."
      ],
      "id": "155bcf4f-a8bb-413a-81a0-434ca7804678"
    },
    {
      "cell_type": "code",
      "execution_count": null,
      "metadata": {},
      "outputs": [],
      "source": [
        "panel_data <- panel_data %>%\n",
        "            mutate(event_time_dummy1 = case_when(event_time == -2 ~ 1, TRUE ~ 0),\n",
        "                   event_time_dummy2 = case_when(event_time == -1 ~ 1, TRUE ~ 0),\n",
        "                   event_time_dummy3 = case_when(event_time == 0 ~ 1, TRUE ~ 0),\n",
        "                   event_time_dummy4 = case_when(event_time == 1 ~ 1, TRUE ~ 0),\n",
        "                   event_time_dummy5 = case_when(event_time == 2 ~ 1, TRUE ~ 0))"
      ],
      "id": "5e76ea63-650b-4443-ac62-4abbe77550b7"
    },
    {
      "cell_type": "markdown",
      "metadata": {},
      "source": [
        "Notice that *event_time_dummy2* is the one that corresponds to\n",
        "*event_time* -1.\n",
        "\n",
        "Once again, Equation (4) is nothing but a linear model with many\n",
        "fixed-effects. We can again use the command `plm`.\n",
        "\n",
        "This time, we must include dummy variables for the different values of\n",
        "*event_time*, with the exception of the dummy variable for the baseline\n",
        "event time $k=-1$: *event_time_dummy2*."
      ],
      "id": "d43f3f01-5ebf-4c06-b017-6bbe08e620f9"
    },
    {
      "cell_type": "code",
      "execution_count": null,
      "metadata": {},
      "outputs": [],
      "source": [
        "did_model <- plm(logearn ~ event_time_dummy1 + event_time_dummy3 + event_time_dummy4 + event_time_dummy5 , \n",
        "                 data = panel_data, index=c(\"workerid\", \"year\"), model = \"within\", effect = \"twoways\")\n",
        "summary(did_model)"
      ],
      "id": "6d1fefd1-5116-415a-8319-49d941d06e00"
    },
    {
      "cell_type": "markdown",
      "metadata": {},
      "source": [
        "Again, the interpretation is the same as before, only now we have\n",
        "dynamic effects. The coefficient on the *event_time1* dummy says that 2\n",
        "years prior to entering treatment, treated units experienced a 0.4\n",
        "percentage point increase in earnings relative to control units.\n",
        "\n",
        "Should we worry that we are finding a difference between treated and\n",
        "control units prior to the policy? Notice that the effect of the policy\n",
        "at event time -2 (*event_time_dummy1*, when there was no training\n",
        "program) is not statistically different than zero.\n",
        "\n",
        "This confirms that our parallel trends assumption is supported by the\n",
        "data. In other words, there are no observable differences in trends\n",
        "prior to the enactment of the training program. Checking the p-value of\n",
        "those coefficients prior to the treatment is called the **pre-trend\n",
        "test** and does not require any fancy work. A mere look at the\n",
        "regression results suffices!\n",
        "\n",
        "Furthermore, we can observe how the policy effect evolves over time. At\n",
        "the year of entering the training program, earnings are boosted by 20\n",
        "percentage points. The next year the effect decreases to 15 percentage\n",
        "points, and 2+ years after the policy, the effect significantly\n",
        "decreases towards 6 percentage points and is less statistically\n",
        "significant.\n",
        "\n",
        "### 15.5.1 Event Study Graph\n",
        "\n",
        "The table output is a correct way to convey the results, but it’s\n",
        "efficacy is limited, especially when we want to use a large time window.\n",
        "In those cases, a graph does a better job of representing all\n",
        "coefficients of interest.\n",
        "\n",
        "We can easily do that using the library `coefplot`, which we covered in\n",
        "[Module\n",
        "8](https://comet.arts.ubc.ca/docs/Research/econ490-r/08_ggplot_graphs.html).\n",
        "We use the function `coefplot` from the same library and the\n",
        "coefficients we have saved in object *did_model* as inputs."
      ],
      "id": "ac4acd31-9591-40d7-84c9-9f2b82a1915d"
    },
    {
      "cell_type": "code",
      "execution_count": null,
      "metadata": {},
      "outputs": [],
      "source": [
        "# Load coefplot\n",
        "#uncomment to install the package! install.packages(\"coefplot\")\n",
        "library(coefplot)"
      ],
      "id": "96c3d434-c25a-4262-b963-e12eab594f8d"
    },
    {
      "cell_type": "code",
      "execution_count": null,
      "metadata": {},
      "outputs": [],
      "source": [
        "# Create graph\n",
        "coefplot(did_model, horizontal = TRUE)"
      ],
      "id": "b4da69f8-ba57-44c0-bbd2-0c17100eb257"
    },
    {
      "cell_type": "markdown",
      "metadata": {},
      "source": [
        "In the graph, it is easy to see that the parallel trends assumption is\n",
        "satisfied: the difference between treatment and control group before the\n",
        "treatment is administered (the coefficient for *event_dummy_1*) is not\n",
        "statistically different than zero.\n",
        "\n",
        "## 15.6 Common Mistakes\n",
        "\n",
        "The most common mistake when dealing with a diff-in-diff research design\n",
        "is to add covariates that are already captured by the fixed-effects.\n",
        "\n",
        "Let’s see what happens if we try to estimate Equation (2) where $X$ is\n",
        "gender at birth."
      ],
      "id": "aa441e32-2b9e-42d0-ab63-f1a4fadc49cb"
    },
    {
      "cell_type": "code",
      "execution_count": null,
      "metadata": {},
      "outputs": [],
      "source": [
        "# Load data\n",
        "fake_data <- read_dta(\"../econ490-stata/fake_data.dta\") \n",
        "\n",
        "# Set as panel\n",
        "panel_data <- pdata.frame(fake_data, index = c(\"workerid\",\"year\"))\n",
        "\n",
        "# Generate log-earnings\n",
        "panel_data <- panel_data %>% mutate(logearn = log(earnings))\n",
        "\n",
        "# Keep only years 2002 and 2003\n",
        "panel_data <- panel_data[panel_data$year %in% c(\"2002\", \"2003\"),]\n",
        "\n",
        "# Create dummy variable\n",
        "panel_data <- panel_data %>%\n",
        "            mutate(time = ifelse(panel_data$year == \"2003\", 1, 0))\n",
        "\n",
        "# Estimate incorrect specification\n",
        "did_model <- plm(logearn ~ treated * time +  sex, data = panel_data, index=c(\"workerid\", \"year\"), model = \"within\", effect = \"twoways\")\n",
        "summary(did_model)"
      ],
      "id": "5f58431e-14fe-491c-a4cf-79c4be90e74e"
    },
    {
      "cell_type": "markdown",
      "metadata": {},
      "source": [
        "We cannot estimate the specification above because *sex* does not change\n",
        "over time for the same individual. Remember: in diff-in-diff\n",
        "regressions, we can only add covariates that are time varying by nature\n",
        "(e.g. tenure, experience) or are trends based on fixed characteristics\n",
        "(e.g. time dummies interacted with sex).\n",
        "\n",
        "Another common mistake when dealing with event studies is to forget to\n",
        "re-assign untreated workers to the reference group $k=-1$. Let’s see\n",
        "what happens if we try to estimate Equation (4) without this adjustment."
      ],
      "id": "511e8e36-7858-4f76-95ea-5d524475fa58"
    },
    {
      "cell_type": "code",
      "execution_count": null,
      "metadata": {},
      "outputs": [],
      "source": [
        "# Load data\n",
        "fake_data <- read_dta(\"../econ490-stata/fake_data.dta\") \n",
        "\n",
        "# Set as panel\n",
        "panel_data <- pdata.frame(fake_data, index = c(\"workerid\",\"year\"))\n",
        "\n",
        "# Generate log-earnings\n",
        "panel_data <- panel_data %>% mutate(logearn = log(earnings))\n",
        "\n",
        "# Generate a variable for year in which treatment was received\n",
        "panel_data$time_entering_treatment = ifelse(panel_data$treated == 1, 2003, NA)\n",
        "\n",
        "# Convert year to numeric\n",
        "panel_data$yearnum <- 1994 + as.numeric(panel_data$year)\n",
        "\n",
        "# Generate a variable for time relative to the event\n",
        "panel_data$event_time = panel_data$yearnum - panel_data$time_entering_treatment\n",
        "\n",
        "# Binning\n",
        "panel_data$event_time <- ifelse(panel_data$event_time < -2 & panel_data$treated == 1, -2, panel_data$event_time)\n",
        "panel_data$event_time <- ifelse(panel_data$event_time > 2 & panel_data$treated == 1, 2, panel_data$event_time)\n",
        "\n",
        "# Create event time dummies\n",
        "panel_data <- panel_data %>%\n",
        "            mutate(event_time_dummy1 = case_when(event_time == -2 ~ 1, TRUE ~ 0),\n",
        "                   event_time_dummy2 = case_when(event_time == -1 ~ 1, TRUE ~ 0),\n",
        "                   event_time_dummy3 = case_when(event_time == 0 ~ 1, TRUE ~ 0),\n",
        "                   event_time_dummy4 = case_when(event_time == 1 ~ 1, TRUE ~ 0),\n",
        "                   event_time_dummy5 = case_when(event_time == 2 ~ 1, TRUE ~ 0))\n",
        "\n",
        "# Run regression\n",
        "did_model <- plm(logearn ~ event_time_dummy1 + event_time_dummy3 + event_time_dummy4 + event_time_dummy5 , \n",
        "                 data = panel_data, index=c(\"workerid\", \"year\"), model = \"within\", effect = \"twoways\")\n",
        "summary(did_model)"
      ],
      "id": "e1350949-b0f6-43fb-8d9b-cb49dfc310fa"
    },
    {
      "cell_type": "markdown",
      "metadata": {},
      "source": [
        "There are no error messages from R, but do you notice anything different\n",
        "compared to our results in Section 15.5?\n",
        "\n",
        "The number of observations has decreased dramatically: instead of\n",
        "138,138 workers as in Section 15.5, we only have around 40,000 workers.\n",
        "We are estimating our linear model only on the treated workers. This is\n",
        "a conceptual mistake: we cannot uncover the effect of the treatment if\n",
        "we do not compare the earnings of treated workers with the earnings of\n",
        "untreated workers.\n",
        "\n",
        "## 15.7 Wrap Up\n",
        "\n",
        "In this module, we’ve seen how the difference-in-differences design\n",
        "relies on two components:\n",
        "\n",
        "1.  Panel data, in which units are observed over time, and\n",
        "2.  Time and unit fixed-effects.\n",
        "\n",
        "These two components make regressions mathematically equivalent to\n",
        "taking time-differences that eliminate any time-invariant components of\n",
        "the error term creating endogeneity. Furthermore, when we have access to\n",
        "more than 2 time periods, we are able to construct dynamic treatment\n",
        "effects (run an event study) and test whether the parallel trends\n",
        "condition holds."
      ],
      "id": "017232d8-7dcb-4566-af52-fe08ffddab24"
    }
  ],
  "nbformat": 4,
  "nbformat_minor": 5,
  "metadata": {
    "kernelspec": {
      "name": "ir",
      "display_name": "R",
      "language": "r"
    }
  }
}