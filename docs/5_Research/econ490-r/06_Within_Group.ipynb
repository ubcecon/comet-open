{
  "cells": [
    {
      "cell_type": "markdown",
      "metadata": {},
      "source": [
        "# 06 - Conducting Within Group Analysis\n",
        "\n",
        "Marina Adshade, Paul Corcuera, Giulia Lo Forte, Jane Platt  \n",
        "2024-05-29\n",
        "\n",
        "## Prerequisites\n",
        "\n",
        "1.  Inspect and clean the variables of a data set.\n",
        "2.  Generate basic variables for a variety of purposes.\n",
        "\n",
        "## Learning Outcomes\n",
        "\n",
        "1.  Use `arrange`, `group_by`, `group_keys`, and `ungroup` to sort and\n",
        "    organize data for specific purposes.\n",
        "2.  Generate variables with `summarise` to analyze patterns within\n",
        "    groups of data.\n",
        "3.  Reshape data frames using `pivot_wider` and `pivot_longer`.\n",
        "\n",
        "## 6.1 Key Functions for Group Analysis\n",
        "\n",
        "When we are working on a particular project, it is often quite important\n",
        "to know how to summarize data for specific groupings, whether of\n",
        "variables or observations meeting specific conditions. In this notebook,\n",
        "we will look at a variety of functions for conducting this group-level\n",
        "analysis. We will rely heavily on the `dyplr` package, which we have\n",
        "implicitly imported through the `tidyverse` package. Let’s import these\n",
        "packages and load in our “fake_data” now. Recall that this data set is\n",
        "simulating information of workers in the years 1982-2012 in a fake\n",
        "country where a training program was introduced in 2003 to boost their\n",
        "earnings."
      ],
      "id": "75f4dbf9-f9f1-4d38-9996-243e4cff23be"
    },
    {
      "cell_type": "code",
      "execution_count": null,
      "metadata": {},
      "outputs": [],
      "source": [
        "library(haven)\n",
        "library(tidyverse)\n",
        "library(IRdisplay)\n",
        "\n",
        "fake_data <- read_dta(\"../econ490-stata/fake_data.dta\") # change me!"
      ],
      "id": "764423f6-b8fd-4528-9549-9316f86ac14c"
    },
    {
      "cell_type": "markdown",
      "metadata": {},
      "source": [
        "Now that we’ve loaded in our data and already know how to view it, clean\n",
        "it, and generate additional variables for it as needed, we can look at\n",
        "some helpful commands for grouping this data.\n",
        "\n",
        "### 6.1.1 `arrange`\n",
        "\n",
        "Before grouping data, we may want to order our data set based on the\n",
        "values of a particular variable. The `arrange` function helps us achieve\n",
        "this. It takes in a data frame and variable and rearranges our data\n",
        "frame in ascending order of the values of that variable, with the option\n",
        "to arrange in descending order requiring a further `desc` function. As\n",
        "an example, let’s rearrange our entire data set in order of the variable\n",
        "*year*."
      ],
      "id": "7ef88369-1b50-45a8-a4c6-2d808f4a9c22"
    },
    {
      "cell_type": "code",
      "execution_count": null,
      "metadata": {},
      "outputs": [],
      "source": [
        "# arrange the data frame by ascending year\n",
        "fake_data %>% arrange(year)\n",
        "\n",
        "# arrange the data frame by descending year\n",
        "fake_data %>% arrange(desc(year))"
      ],
      "id": "556c5189-15cc-47b1-bd5a-2abd5b293e26"
    },
    {
      "cell_type": "markdown",
      "metadata": {},
      "source": [
        "We can also pass multiple variable parameters to the `arrange` function\n",
        "to indicate how we should further sort our data within each year\n",
        "grouping. For instance, including the *region* variable will further\n",
        "sort each year grouping in order of region."
      ],
      "id": "df529c38-2fb0-41a3-8667-fe85098316a3"
    },
    {
      "cell_type": "code",
      "execution_count": null,
      "metadata": {},
      "outputs": [],
      "source": [
        "fake_data %>% arrange(year, region)"
      ],
      "id": "3fe0696b-3fa5-4cb2-ac8d-8ff7613d8874"
    },
    {
      "cell_type": "markdown",
      "metadata": {},
      "source": [
        "### 6.1.2 `group_by`\n",
        "\n",
        "This is one of the most pivotal functions in R. It allows us to group a\n",
        "data frame by the values of a specific variable and perform further\n",
        "operations on those groups. Let’s say that we wanted to group our data\n",
        "set by *region* and count the number of observations in each region. To\n",
        "accomplish this, we can simply pass this variable as a parameter to our\n",
        "`group_by` function and further pipe this result into the `tally`\n",
        "function (which counts the number of observations)."
      ],
      "id": "ae2807a4-c8fb-40fd-a275-a48cf053e23c"
    },
    {
      "cell_type": "code",
      "execution_count": null,
      "metadata": {},
      "outputs": [],
      "source": [
        "fake_data %>% group_by(region) %>% tally()"
      ],
      "id": "80f7f5a9-65b6-484d-a7da-93866dd26b33"
    },
    {
      "cell_type": "markdown",
      "metadata": {},
      "source": [
        "Notice how the `group_by` function nicely groups the regions in\n",
        "ascending order for us automatically. Unlike with the `arrange`\n",
        "function, it does not preserve the data set in its entirety. It instead\n",
        "collapses our data set into groups, thus it is important not to redefine\n",
        "our “data” data frame by this `group_by` if we want to preserve our\n",
        "original data.\n",
        "\n",
        "We can also pass multiple arguments to `group_by`. If we pass both\n",
        "*region* and *treated* to our function as inputs, our region groups will\n",
        "be further grouped by observations which are and are not treated. Let’s\n",
        "count the number of treated and untreated observations in each region."
      ],
      "id": "fe4b27ed-8803-47b5-954a-0c2d7055add8"
    },
    {
      "cell_type": "code",
      "execution_count": null,
      "metadata": {},
      "outputs": [],
      "source": [
        "fake_data %>% group_by(region, treated) %>% tally()"
      ],
      "id": "c62bb751-064a-4f63-bce5-a6dea20c9a6a"
    },
    {
      "cell_type": "markdown",
      "metadata": {},
      "source": [
        "Finally, we can pipe a `group_by` object into another `group_by` object.\n",
        "In this case, the second `group_by` will simply overwrite the first. For\n",
        "example, if we wanted to pass our original *region* `group_by` into a\n",
        "mere *treated* `group_by`, we get as output a data frame counting the\n",
        "total number of observations that are treated and untreated."
      ],
      "id": "bd80b9ae-1443-4714-90a5-e4a1ebc3d1c4"
    },
    {
      "cell_type": "code",
      "execution_count": null,
      "metadata": {},
      "outputs": [],
      "source": [
        "fake_data %>% group_by(region) %>% group_by(treated) %>% tally()"
      ],
      "id": "6012f849-8b2a-4708-9de5-dca3b09ae7f2"
    },
    {
      "cell_type": "markdown",
      "metadata": {},
      "source": [
        "### 6.1.3 `group_keys`\n",
        "\n",
        "This function allows us to see the specific groups for a `group_by` data\n",
        "frame we have created. For instance, if we wanted to see every year in\n",
        "the data, we could group by *year* and then apply the `group_keys`\n",
        "function."
      ],
      "id": "7db6d34f-6c84-42b8-a0f4-ad3667351841"
    },
    {
      "cell_type": "code",
      "execution_count": null,
      "metadata": {},
      "outputs": [],
      "source": [
        "fake_data %>% group_by(year) %>% group_keys()"
      ],
      "id": "226a3960-8983-404e-a53f-b278f89895c6"
    },
    {
      "cell_type": "markdown",
      "metadata": {},
      "source": [
        "This is equivalent to using the `unique` function directly on a column\n",
        "of our data set. The `unique` function lists all unique values for a\n",
        "specified list."
      ],
      "id": "5fd5ad08-3c5f-4f65-be37-2cceca556663"
    },
    {
      "cell_type": "code",
      "execution_count": null,
      "metadata": {},
      "outputs": [],
      "source": [
        "unique(fake_data$year)"
      ],
      "id": "29c60c98-33d8-4f94-bcd4-c297ba54d223"
    },
    {
      "cell_type": "markdown",
      "metadata": {},
      "source": [
        "The output is just a list in this case, instead of another data frame as\n",
        "above.\n",
        "\n",
        "### 6.1.4 `ungroup`\n",
        "\n",
        "We can even selectively remove grouping variables from a grouped data\n",
        "frame. Say we grouped by *region* and *treated* but then wanted to just\n",
        "count how many treated groups there are by *region*. If this double\n",
        "grouped data frame is defined as A, we can simply use `ungroup` A to\n",
        "remove the grouping by treatment status."
      ],
      "id": "5e7be1b9-45c3-4397-b918-44970aadf0c7"
    },
    {
      "cell_type": "code",
      "execution_count": null,
      "metadata": {},
      "outputs": [],
      "source": [
        "A <- fake_data %>% group_by(region, treated) %>% tally()\n",
        "A"
      ],
      "id": "2eeb443a-904d-476e-907a-361f4842e712"
    },
    {
      "cell_type": "code",
      "execution_count": null,
      "metadata": {},
      "outputs": [],
      "source": [
        "A %>% ungroup(treated) %>% tally()"
      ],
      "id": "a83514a0-c278-427e-a965-67a7eb7fdbb2"
    },
    {
      "cell_type": "markdown",
      "metadata": {},
      "source": [
        "We may also be interested in knowing how many groupings we have created.\n",
        "We can remove all grouping variables by leaving the input of `ungroup()`\n",
        "empty."
      ],
      "id": "5637f8f3-c3d6-4ae1-ae20-7d25fa07ce2a"
    },
    {
      "cell_type": "code",
      "execution_count": null,
      "metadata": {},
      "outputs": [],
      "source": [
        "A %>% ungroup() %>% tally()"
      ],
      "id": "09157cdb-4ad5-4405-ac39-3ef84d1a2b9c"
    },
    {
      "cell_type": "markdown",
      "metadata": {},
      "source": [
        "## 6.2 Generating Variables for Group Analysis\n",
        "\n",
        "We have already seen how to redefine and add new variables to a data\n",
        "frame using the `df$ <-` format. We have also seen how to use the\n",
        "`mutate` function to add new variables to a data frame. However, we\n",
        "often want to add new variables to grouped data frames to display\n",
        "information about the different groups rather than different\n",
        "observations in the original data frame. That is where `summarise` comes\n",
        "in.\n",
        "\n",
        "The `summarise` function gives us access to a variety of common\n",
        "functions we can use to generate variables corresponding to groups. For\n",
        "instance, we may want to find the mean earnings of each region. To do\n",
        "this, we can group on *region* and then add a variable to our grouped\n",
        "data frame which aggregates the mean of the *earnings* variable for each\n",
        "region group. We must use the `summarise` function for this, since it\n",
        "gives us access to the earnings of every member of each group."
      ],
      "id": "b4c35d87-ec99-489c-9ca3-76d0dc8e020d"
    },
    {
      "cell_type": "code",
      "execution_count": null,
      "metadata": {},
      "outputs": [],
      "source": [
        "fake_data %>% group_by(region) %>% summarise(meanearnings = mean(earnings))"
      ],
      "id": "c1f983ae-277c-4055-84ea-c805a4505ca1"
    },
    {
      "cell_type": "markdown",
      "metadata": {},
      "source": [
        "We may want more detailed information about each region. We can pass a\n",
        "series of parameters to `summarise` and it will generate variables for\n",
        "all of these requests. Let’s say we want the mean and standard deviation\n",
        "of *earnings* for each group, as well as the range of *earnings* for\n",
        "each group."
      ],
      "id": "02ea3106-24b0-461c-8a17-1b36fd034a3e"
    },
    {
      "cell_type": "code",
      "execution_count": null,
      "metadata": {},
      "outputs": [],
      "source": [
        "fake_data %>% \n",
        "    group_by(region) %>% \n",
        "    summarise(meanearnings = mean(earnings), stdevearnings = sd(earnings), range = max(earnings) - min(earnings))"
      ],
      "id": "be6f2853-25d1-4c24-b31d-f65c7c91cd9f"
    },
    {
      "cell_type": "markdown",
      "metadata": {},
      "source": [
        "We may also want to calculate the number of observations in each region\n",
        "as an additional variable. Before, we could simply group by our *region*\n",
        "variable and then immediately apply the `tally` function. However, now\n",
        "that we have defined a series of other variables, our data set on which\n",
        "`tally` operates is different. Watch what happens when we try to use\n",
        "`tally` after using `summarise`."
      ],
      "id": "7a1b0d42-1433-4e11-9bfe-d8c380a9a4bc"
    },
    {
      "cell_type": "code",
      "execution_count": null,
      "metadata": {},
      "outputs": [],
      "source": [
        "fake_data %>% \n",
        "    group_by(region) %>% \n",
        "    summarise(meanearnings = mean(earnings), stdevearnings = sd(earnings), range = max(earnings) - min(earnings)) %>%\n",
        "    tally()"
      ],
      "id": "f3ff3c7d-1700-4e82-984f-afccba6a02f3"
    },
    {
      "cell_type": "markdown",
      "metadata": {},
      "source": [
        "Now watch what happens when we try to use `tally` before using\n",
        "`summarise`."
      ],
      "id": "84bafe11-fd50-44d4-bede-cdde71b8ac22"
    },
    {
      "cell_type": "code",
      "execution_count": null,
      "metadata": {},
      "outputs": [],
      "source": [
        "fake_data %>% \n",
        "    group_by(region) %>% \n",
        "    tally() %>%\n",
        "    summarise(meanearnings = mean(earnings), stdevearnings = sd(earnings), range = max(earnings) - min(earnings))"
      ],
      "id": "dc7f81dc-b6eb-45a2-be16-a5949a4c8623"
    },
    {
      "cell_type": "markdown",
      "metadata": {},
      "source": [
        "In the first case, tally does not have the necessary information left in\n",
        "the data frame to count the number of observations in each region. In\n",
        "the second case, tally has shrunk the data frame so much that the\n",
        "functions within `summarise` do not have the necessary information to\n",
        "make their calculations.\n",
        "\n",
        "This is where `n` comes in. This is a special function used within the\n",
        "`summarise` variable. It represents the number of observations within\n",
        "each group of a data frame. As such, it is directly paired with\n",
        "`group_by`, although it can be paired with `mutate` when we are working\n",
        "with the number of observations in a data set as a whole (i.e. with one\n",
        "group, meaning `n` represents the position of each observation)."
      ],
      "id": "6028bbb4-eb48-44d1-a311-501ad55dbd6c"
    },
    {
      "cell_type": "code",
      "execution_count": null,
      "metadata": {},
      "outputs": [],
      "source": [
        "fake_data %>% \n",
        "    group_by(region) %>% \n",
        "    summarise(meanearnings = mean(earnings), stdevearnings = sd(earnings), range = max(earnings) - min(earnings), total = n())"
      ],
      "id": "d7eeff38-f011-4f5e-bb90-ea765fe222c8"
    },
    {
      "cell_type": "markdown",
      "metadata": {},
      "source": [
        "The entire process of generating variables for group analysis in this\n",
        "section is similar to collapsing a data set in Stata. Luckily, it can be\n",
        "done more quickly here in R.\n",
        "\n",
        "## 6.3 Reshaping Data\n",
        "\n",
        "Sometimes in our process of data analysis, we want to restructure our\n",
        "data frame. To do this, we can take advantage of a series of functions\n",
        "within the `tidyr` package that we have imported implicitly through\n",
        "loading in the `tidyverse` package. These functions allow us to quickly\n",
        "change the format of our data frame without having to redefine all of\n",
        "its columns and rows manually.\n",
        "\n",
        "For instance, we often want to transform our data from “wide”\n",
        "(cross-sectional) to “long” (panel) format, or vice versa. Suppose that\n",
        "we wish to make our data set more “cross-sectional” in appearance by\n",
        "dropping the age variable and adding an earnings variable for each year,\n",
        "with the values in these new columns corresponding to the earnings of\n",
        "each person in that year. Effectively, by adding columns, we are making\n",
        "our data set “wider”, so it is no surprise that the function is called\n",
        "`pivot_wider`.\n",
        "\n",
        "It takes the following arguments:\n",
        "\n",
        "1.  `names_from`: which columns to get the name of the output columns\n",
        "    (in our example, `year`);\n",
        "2.  `values_from`: which columns to get the cell values from (in our\n",
        "    example, `earnings`)."
      ],
      "id": "b6a8681f-6663-44fd-af5d-f1cfeeac4f39"
    },
    {
      "cell_type": "code",
      "execution_count": null,
      "metadata": {},
      "outputs": [],
      "source": [
        "wide_data <- fake_data %>% arrange(year) %>% select(-age) %>% pivot_wider(names_from = \"year\", values_from = \"earnings\")\n",
        "head(wide_data)"
      ],
      "id": "296144f1-1047-4535-9c70-d5902bc101a8"
    },
    {
      "cell_type": "markdown",
      "metadata": {},
      "source": [
        "We can see that the function above took the values from *year* and\n",
        "generated a new variable for each of them from 1982 to 2012, then\n",
        "supplied the corresponding values from *earnings* to each of these year\n",
        "variables. When a worker’s information isn’t recorded for a given year\n",
        "(and thus they have no recorded wage), the *earnings* variable is marked\n",
        "as missing.\n",
        "\n",
        "We can pivot more than one variable. Instead of pivoting only the\n",
        "variable *year*, we can pivot both the variables *year* and *age*. We do\n",
        "so by specifying both variables in the `values_from` argument."
      ],
      "id": "90c3e9d2-de11-4d9d-a40b-f4cd45484e21"
    },
    {
      "cell_type": "code",
      "execution_count": null,
      "metadata": {},
      "outputs": [],
      "source": [
        "fake_data %>% arrange(year) %>% pivot_wider(names_from = \"year\" , values_from = c(\"earnings\",\"age\"))"
      ],
      "id": "4d6f3f21-ad7e-4203-843c-6d0540f2aeba"
    },
    {
      "cell_type": "markdown",
      "metadata": {},
      "source": [
        "Now suppose we want to work backward and transform this data set back\n",
        "into its original, “longer” shape (just now without the *age* variable).\n",
        "To do this, we can invoke the complementary `pivot_longer` function. The\n",
        "arguments we need to specify are:\n",
        "\n",
        "1.  `cols`: the name of the columns we want to pivot to longer format\n",
        "    (in our case, `'1995':'2011'`);\n",
        "2.  `names_to`: the name of the new column that will be created from the\n",
        "    information stored in the column names specified by `cols` (in our\n",
        "    case, `\"year\"`);\n",
        "3.  `values_to`: the name of the column to create from the data stored\n",
        "    in cell values, `\"earnings\"`."
      ],
      "id": "e9653c14-711f-44c1-8b49-49bb3602458c"
    },
    {
      "cell_type": "code",
      "execution_count": null,
      "metadata": {},
      "outputs": [],
      "source": [
        "long_data <- wide_data %>% pivot_longer(cols = '1995':'2011', names_to = \"year\", values_to = \"earnings\")\n",
        "head(long_data)"
      ],
      "id": "750ffeca-141e-4569-a600-a270d5e652a7"
    },
    {
      "cell_type": "markdown",
      "metadata": {},
      "source": [
        "Remember that, when going from long to wide format, we created several\n",
        "missing values every time a worker information for a given year was not\n",
        "available. Now that we transform our data back from wide to long format,\n",
        "we may carry with us all those missing values we had created.We can ask\n",
        "R to automatically exclude them, by adding the option\n",
        "`values_drop_na = TRUE`."
      ],
      "id": "cd1ffa9a-a915-4d2b-be1b-6aa5d2805b4f"
    },
    {
      "cell_type": "code",
      "execution_count": null,
      "metadata": {},
      "outputs": [],
      "source": [
        "long_data_short <- wide_data %>% pivot_longer(cols = '1995':'2011', names_to = \"year\", values_to = \"earnings\", values_drop_na = TRUE)\n",
        "head(long_data_short)"
      ],
      "id": "671c0db5-b558-4f08-8011-1e09d67274c3"
    },
    {
      "cell_type": "markdown",
      "metadata": {},
      "source": [
        "If this doesn’t seem intuitive or quickly comprehensible, don’t worry.\n",
        "Even many experienced coders struggle with the pivoting/reshaping\n",
        "functionality. With practice, it will become much more digestible!\n",
        "\n",
        "## 6.4 Common Mistakes\n",
        "\n",
        "It is easy to forget that `group_by()` creates a new data frame with a\n",
        "limited number of variables.\n",
        "\n",
        "Suppose we want to compute average earnings by region and treated\n",
        "status. We may try to do something like the following:"
      ],
      "id": "a340c3b5-f19e-4169-8221-3a7e70b8f319"
    },
    {
      "cell_type": "code",
      "execution_count": null,
      "metadata": {},
      "outputs": [],
      "source": [
        "step1 <- fake_data %>%\n",
        "        group_by(region) %>%\n",
        "        summarise(meanearnings = mean(earnings))\n",
        "\n",
        "step2 <- step1 %>%\n",
        "        group_by(treated) %>%\n",
        "        summarise(meanearnings = mean(earnings))"
      ],
      "id": "1087a60c-4ec2-4023-b789-434fc5273e24"
    },
    {
      "cell_type": "markdown",
      "metadata": {},
      "source": [
        "This results in an error: the first `group_by` creates a new data frame\n",
        "that does not contain the variable *treated* anymore. We can see that\n",
        "also by looking at the error message: *column ‘treated’ is not found*.\n",
        "\n",
        "The right way of doing what we wanted is as follows:"
      ],
      "id": "a2217970-20cd-452d-aa9a-7b9431e42ce6"
    },
    {
      "cell_type": "code",
      "execution_count": null,
      "metadata": {},
      "outputs": [],
      "source": [
        "fake_data %>% \n",
        "    group_by(region, treated) %>% \n",
        "    summarise(meanearnings = mean(earnings))"
      ],
      "id": "a5a2a9eb-07f0-481c-a90c-1191db47354a"
    },
    {
      "cell_type": "markdown",
      "metadata": {},
      "source": [
        "When we move from wide to long format, or vice versa, the variables that\n",
        "we *do not* pivot should remain constant over the variable that we pivot\n",
        "(namely, the variable we use in the `names_from` argument).\n",
        "\n",
        "Consider the example below. It is similar to what we did above but it\n",
        "has a crucial difference; can you spot it?"
      ],
      "id": "6178db16-28d5-4b33-a1b3-a2d0a15b7dca"
    },
    {
      "cell_type": "code",
      "execution_count": null,
      "metadata": {},
      "outputs": [],
      "source": [
        "fake_data %>% arrange(year) %>% pivot_wider(names_from = \"year\", values_from = \"earnings\")"
      ],
      "id": "7d55a09f-48c6-48a5-8770-471f5f2942f4"
    },
    {
      "cell_type": "markdown",
      "metadata": {},
      "source": [
        "Earlier we dropped the variable *age*, while now we are keeping it. The\n",
        "variable *age* now is treated as if it was constant during *year*, the\n",
        "variable we are using for pivoting the data.\n",
        "\n",
        "This is not necessarily a mistake, and in fact R allows us to do the\n",
        "reshape. However, it changes the way in which we interpret *age*: it is\n",
        "now the age of the worker in their first year of appearance in the\n",
        "dataset.\n",
        "\n",
        "## 6.5 Wrap Up\n",
        "\n",
        "Being able to generate new variables and modify a data set to suit your\n",
        "specific research is pivotal. Now you should hopefully have more\n",
        "confidence in your ability to perform these tasks. Next, we will explore\n",
        "the challenges posed by working with multiple data sets at once.\n",
        "\n",
        "## 6.6 Wrap-up Table\n",
        "\n",
        "| Function | Description |\n",
        "|-------------------------------|-----------------------------------------|\n",
        "| `arrange` | It orders observations based on the ascending or descending order of one or more variables. |\n",
        "| `group_by` | It groups observations based on the values of one or more variables. It may be combined with `summarise` to compute summary statistics by group. |\n",
        "| `ungroup` | It removes one or more grouping variables. |\n",
        "| `pivot_wider` | It pivots data from long to wide format. |\n",
        "| `pivot_longer` | It pivots data from wide to long format. |"
      ],
      "id": "ae9d6d35-b662-45b8-b493-dfe3822535d8"
    }
  ],
  "nbformat": 4,
  "nbformat_minor": 5,
  "metadata": {
    "kernelspec": {
      "name": "ir",
      "display_name": "R",
      "language": "r"
    }
  }
}