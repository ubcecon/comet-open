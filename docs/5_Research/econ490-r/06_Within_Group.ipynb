{
  "cells": [
    {
      "cell_type": "markdown",
      "metadata": {},
      "source": [
        "# 06 - Conducting Within Group Analysis\n",
        "\n",
        "Marina Adshade, Paul Corcuera, Giulia Lo Forte, Jane Platt  \n",
        "2024-05-29\n",
        "\n",
        "## Prerequisites\n",
        "\n",
        "1.  Inspect and clean the variables of a data set.\n",
        "2.  Generate basic variables for a variety of purposes.\n",
        "\n",
        "## Learning Outcomes\n",
        "\n",
        "1.  Use `arrange`, `group_by`, `group_keys`, and `ungroup` to sort and\n",
        "    organize data for specific purposes.\n",
        "2.  Generate variables with `summarise` to analyze patterns within\n",
        "    groups of data.\n",
        "3.  Reshape data frames using `pivot_wider` and `pivot_longer`.\n",
        "\n",
        "## 6.1 Key Functions for Group Analysis\n",
        "\n",
        "When we are working on a particular project, it is often quite important\n",
        "to know how to summarize data for specific groupings, whether of\n",
        "variables or observations meeting specific conditions. In this notebook,\n",
        "we will look at a variety of functions for conducting this group-level\n",
        "analysis. We will rely heavily on the `dyplr` package, which we have\n",
        "implicitly imported through the `tidyverse` package. Let’s import these\n",
        "packages and load in our “fake_data” now. Recall that this data set is\n",
        "simulating information of workers in the years 1982-2012 in a fake\n",
        "country where a training program was introduced in 2003 to boost their\n",
        "earnings."
      ],
      "id": "e8936c16-3b6e-4afd-a78e-70cddf9f4312"
    },
    {
      "cell_type": "code",
      "execution_count": null,
      "metadata": {},
      "outputs": [],
      "source": [
        "library(haven)\n",
        "library(tidyverse)\n",
        "library(IRdisplay)\n",
        "\n",
        "fake_data <- read_dta(\"../econ490-stata/fake_data.dta\") # change me!"
      ],
      "id": "96203560-4405-406b-a429-1728c7a74ebc"
    },
    {
      "cell_type": "markdown",
      "metadata": {},
      "source": [
        "Now that we’ve loaded in our data and already know how to view it, clean\n",
        "it, and generate additional variables for it as needed, we can look at\n",
        "some helpful commands for grouping this data.\n",
        "\n",
        "### 6.1.1 `arrange`\n",
        "\n",
        "Before grouping data, we may want to order our data set based on the\n",
        "values of a particular variable. The `arrange` function helps us achieve\n",
        "this. It takes in a data frame and variable and rearranges our data\n",
        "frame in ascending order of the values of that variable, with the option\n",
        "to arrange in descending order requiring a further `desc` function. As\n",
        "an example, let’s rearrange our entire data set in order of the variable\n",
        "*year*."
      ],
      "id": "47442e52-d3d9-4b72-aa48-dcd029beb183"
    },
    {
      "cell_type": "code",
      "execution_count": null,
      "metadata": {},
      "outputs": [],
      "source": [
        "# arrange the data frame by ascending year\n",
        "fake_data %>% arrange(year)\n",
        "\n",
        "# arrange the data frame by descending year\n",
        "fake_data %>% arrange(desc(year))"
      ],
      "id": "6166a0a1-9e28-4cd4-a557-ae0ba298aa35"
    },
    {
      "cell_type": "markdown",
      "metadata": {},
      "source": [
        "We can also pass multiple variable parameters to the `arrange` function\n",
        "to indicate how we should further sort our data within each year\n",
        "grouping. For instance, including the *region* variable will further\n",
        "sort each year grouping in order of region."
      ],
      "id": "6e477edd-6e88-45db-b21a-665433c2cb3f"
    },
    {
      "cell_type": "code",
      "execution_count": null,
      "metadata": {},
      "outputs": [],
      "source": [
        "fake_data %>% arrange(year, region)"
      ],
      "id": "d9beaddd-19e0-456a-8435-81402adfd003"
    },
    {
      "cell_type": "markdown",
      "metadata": {},
      "source": [
        "### 6.1.2 `group_by`\n",
        "\n",
        "This is one of the most pivotal functions in R. It allows us to group a\n",
        "data frame by the values of a specific variable and perform further\n",
        "operations on those groups. Let’s say that we wanted to group our data\n",
        "set by *region* and count the number of observations in each region. To\n",
        "accomplish this, we can simply pass this variable as a parameter to our\n",
        "`group_by` function and further pipe this result into the `tally`\n",
        "function (which counts the number of observations)."
      ],
      "id": "9bf90f76-0430-46a4-93bb-6200fad6e11b"
    },
    {
      "cell_type": "code",
      "execution_count": null,
      "metadata": {},
      "outputs": [],
      "source": [
        "fake_data %>% group_by(region) %>% tally()"
      ],
      "id": "013c6168-7219-4197-b95a-c536e89b9b82"
    },
    {
      "cell_type": "markdown",
      "metadata": {},
      "source": [
        "Notice how the `group_by` function nicely groups the regions in\n",
        "ascending order for us automatically. Unlike with the `arrange`\n",
        "function, it does not preserve the data set in its entirety. It instead\n",
        "collapses our data set into groups, thus it is important not to redefine\n",
        "our “data” data frame by this `group_by` if we want to preserve our\n",
        "original data.\n",
        "\n",
        "We can also pass multiple arguments to `group_by`. If we pass both\n",
        "*region* and *treated* to our function as inputs, our region groups will\n",
        "be further grouped by observations which are and are not treated. Let’s\n",
        "count the number of treated and untreated observations in each region."
      ],
      "id": "eb883527-316a-4b51-bca7-f0daf38f2d1b"
    },
    {
      "cell_type": "code",
      "execution_count": null,
      "metadata": {},
      "outputs": [],
      "source": [
        "fake_data %>% group_by(region, treated) %>% tally()"
      ],
      "id": "5e395071-4213-49e3-b03f-cb0637336f0b"
    },
    {
      "cell_type": "markdown",
      "metadata": {},
      "source": [
        "Finally, we can pipe a `group_by` object into another `group_by` object.\n",
        "In this case, the second `group_by` will simply overwrite the first. For\n",
        "example, if we wanted to pass our original *region* `group_by` into a\n",
        "mere *treated* `group_by`, we get as output a data frame counting the\n",
        "total number of observations that are treated and untreated."
      ],
      "id": "a88aecbf-93df-48c4-95c9-c1883afe614a"
    },
    {
      "cell_type": "code",
      "execution_count": null,
      "metadata": {},
      "outputs": [],
      "source": [
        "fake_data %>% group_by(region) %>% group_by(treated) %>% tally()"
      ],
      "id": "bf1b040c-7faf-4ae0-a685-838a7d3c8a85"
    },
    {
      "cell_type": "markdown",
      "metadata": {},
      "source": [
        "### 6.1.3 `group_keys`\n",
        "\n",
        "This function allows us to see the specific groups for a `group_by` data\n",
        "frame we have created. For instance, if we wanted to see every year in\n",
        "the data, we could group by *year* and then apply the `group_keys`\n",
        "function."
      ],
      "id": "77fb5349-f933-40a2-b697-b2b4d8ee4e01"
    },
    {
      "cell_type": "code",
      "execution_count": null,
      "metadata": {},
      "outputs": [],
      "source": [
        "fake_data %>% group_by(year) %>% group_keys()"
      ],
      "id": "14907857-df3c-4901-b7ac-e1c69b8efcdf"
    },
    {
      "cell_type": "markdown",
      "metadata": {},
      "source": [
        "This is equivalent to using the `unique` function directly on a column\n",
        "of our data set. The `unique` function lists all unique values for a\n",
        "specified list."
      ],
      "id": "fcd45741-7e74-4c29-9aa0-d41e08a85642"
    },
    {
      "cell_type": "code",
      "execution_count": null,
      "metadata": {},
      "outputs": [],
      "source": [
        "unique(fake_data$year)"
      ],
      "id": "d51d72e9-b416-4d6e-b0d3-4d64b848fb54"
    },
    {
      "cell_type": "markdown",
      "metadata": {},
      "source": [
        "The output is just a list in this case, instead of another data frame as\n",
        "above.\n",
        "\n",
        "### 6.1.4 `ungroup`\n",
        "\n",
        "We can even selectively remove grouping variables from a grouped data\n",
        "frame. Say we grouped by *region* and *treated* but then wanted to just\n",
        "count how many treated groups there are by *region*. If this double\n",
        "grouped data frame is defined as A, we can simply use `ungroup` A to\n",
        "remove the grouping by treatment status."
      ],
      "id": "27c0d231-f4ed-4821-bde2-19808107e150"
    },
    {
      "cell_type": "code",
      "execution_count": null,
      "metadata": {},
      "outputs": [],
      "source": [
        "A <- fake_data %>% group_by(region, treated) %>% tally()\n",
        "A"
      ],
      "id": "4b08c5d0-5db3-42d5-85aa-73d72ae06eb5"
    },
    {
      "cell_type": "code",
      "execution_count": null,
      "metadata": {},
      "outputs": [],
      "source": [
        "A %>% ungroup(treated) %>% tally()"
      ],
      "id": "3a711e12-58da-49f1-be73-5f93b0c5f7e9"
    },
    {
      "cell_type": "markdown",
      "metadata": {},
      "source": [
        "We may also be interested in knowing how many groupings we have created.\n",
        "We can remove all grouping variables by leaving the input of `ungroup()`\n",
        "empty."
      ],
      "id": "4900bc9e-69f5-4b5e-ba3d-9385f49ab7a2"
    },
    {
      "cell_type": "code",
      "execution_count": null,
      "metadata": {},
      "outputs": [],
      "source": [
        "A %>% ungroup() %>% tally()"
      ],
      "id": "2d092bfb-f8a3-4b57-8632-19c5076e5924"
    },
    {
      "cell_type": "markdown",
      "metadata": {},
      "source": [
        "## 6.2 Generating Variables for Group Analysis\n",
        "\n",
        "We have already seen how to redefine and add new variables to a data\n",
        "frame using the `df$ <-` format. We have also seen how to use the\n",
        "`mutate` function to add new variables to a data frame. However, we\n",
        "often want to add new variables to grouped data frames to display\n",
        "information about the different groups rather than different\n",
        "observations in the original data frame. That is where `summarise` comes\n",
        "in.\n",
        "\n",
        "The `summarise` function gives us access to a variety of common\n",
        "functions we can use to generate variables corresponding to groups. For\n",
        "instance, we may want to find the mean earnings of each region. To do\n",
        "this, we can group on *region* and then add a variable to our grouped\n",
        "data frame which aggregates the mean of the *earnings* variable for each\n",
        "region group. We must use the `summarise` function for this, since it\n",
        "gives us access to the earnings of every member of each group."
      ],
      "id": "bdb538e5-4b15-4919-b848-2f49a1a386c4"
    },
    {
      "cell_type": "code",
      "execution_count": null,
      "metadata": {},
      "outputs": [],
      "source": [
        "fake_data %>% group_by(region) %>% summarise(meanearnings = mean(earnings))"
      ],
      "id": "e6b6a68b-9dc7-43df-89bb-c19e31f02e27"
    },
    {
      "cell_type": "markdown",
      "metadata": {},
      "source": [
        "We may want more detailed information about each region. We can pass a\n",
        "series of parameters to `summarise` and it will generate variables for\n",
        "all of these requests. Let’s say we want the mean and standard deviation\n",
        "of *earnings* for each group, as well as the range of *earnings* for\n",
        "each group."
      ],
      "id": "16b7484c-ce80-49d1-9ba2-fc71fb9dfd46"
    },
    {
      "cell_type": "code",
      "execution_count": null,
      "metadata": {},
      "outputs": [],
      "source": [
        "fake_data %>% \n",
        "    group_by(region) %>% \n",
        "    summarise(meanearnings = mean(earnings), stdevearnings = sd(earnings), range = max(earnings) - min(earnings))"
      ],
      "id": "354c3c94-e86e-4707-ab3f-726ddb4eefd2"
    },
    {
      "cell_type": "markdown",
      "metadata": {},
      "source": [
        "We may also want to calculate the number of observations in each region\n",
        "as an additional variable. Before, we could simply group by our *region*\n",
        "variable and then immediately apply the `tally` function. However, now\n",
        "that we have defined a series of other variables, our data set on which\n",
        "`tally` operates is different. Watch what happens when we try to use\n",
        "`tally` after using `summarise`."
      ],
      "id": "cccaf82c-3880-4d8b-8c2d-cd9ba4b1e1ac"
    },
    {
      "cell_type": "code",
      "execution_count": null,
      "metadata": {},
      "outputs": [],
      "source": [
        "fake_data %>% \n",
        "    group_by(region) %>% \n",
        "    summarise(meanearnings = mean(earnings), stdevearnings = sd(earnings), range = max(earnings) - min(earnings)) %>%\n",
        "    tally()"
      ],
      "id": "55961764-b4f0-428e-a7d1-9bf606a36fde"
    },
    {
      "cell_type": "markdown",
      "metadata": {},
      "source": [
        "Now watch what happens when we try to use `tally` before using\n",
        "`summarise`."
      ],
      "id": "42567154-2a67-49a4-bcf9-c8931d11db48"
    },
    {
      "cell_type": "code",
      "execution_count": null,
      "metadata": {},
      "outputs": [],
      "source": [
        "fake_data %>% \n",
        "    group_by(region) %>% \n",
        "    tally() %>%\n",
        "    summarise(meanearnings = mean(earnings), stdevearnings = sd(earnings), range = max(earnings) - min(earnings))"
      ],
      "id": "ae9b0fb0-9f04-482f-a0bd-09423793770a"
    },
    {
      "cell_type": "markdown",
      "metadata": {},
      "source": [
        "In the first case, tally does not have the necessary information left in\n",
        "the data frame to count the number of observations in each region. In\n",
        "the second case, tally has shrunk the data frame so much that the\n",
        "functions within `summarise` do not have the necessary information to\n",
        "make their calculations.\n",
        "\n",
        "This is where `n` comes in. This is a special function used within the\n",
        "`summarise` variable. It represents the number of observations within\n",
        "each group of a data frame. As such, it is directly paired with\n",
        "`group_by`, although it can be paired with `mutate` when we are working\n",
        "with the number of observations in a data set as a whole (i.e. with one\n",
        "group, meaning `n` represents the position of each observation)."
      ],
      "id": "eac86fd2-e98f-4716-8dbc-d302c3c6c4c3"
    },
    {
      "cell_type": "code",
      "execution_count": null,
      "metadata": {},
      "outputs": [],
      "source": [
        "fake_data %>% \n",
        "    group_by(region) %>% \n",
        "    summarise(meanearnings = mean(earnings), stdevearnings = sd(earnings), range = max(earnings) - min(earnings), total = n())"
      ],
      "id": "ed0fa6c2-191e-4193-a4c1-f6ce65db9ce7"
    },
    {
      "cell_type": "markdown",
      "metadata": {},
      "source": [
        "The entire process of generating variables for group analysis in this\n",
        "section is similar to collapsing a data set in Stata. Luckily, it can be\n",
        "done more quickly here in R.\n",
        "\n",
        "## 6.3 Reshaping Data\n",
        "\n",
        "Sometimes in our process of data analysis, we want to restructure our\n",
        "data frame. To do this, we can take advantage of a series of functions\n",
        "within the `tidyr` package that we have imported implicitly through\n",
        "loading in the `tidyverse` package. These functions allow us to quickly\n",
        "change the format of our data frame without having to redefine all of\n",
        "its columns and rows manually.\n",
        "\n",
        "For instance, we often want to transform our data from “wide”\n",
        "(cross-sectional) to “long” (panel) format, or vice versa. Suppose that\n",
        "we wish to make our data set more “cross-sectional” in appearance by\n",
        "dropping the age variable and adding an earnings variable for each year,\n",
        "with the values in these new columns corresponding to the earnings of\n",
        "each person in that year. Effectively, by adding columns, we are making\n",
        "our data set “wider”, so it is no surprise that the function is called\n",
        "`pivot_wider`.\n",
        "\n",
        "It takes the following arguments:\n",
        "\n",
        "1.  `names_from`: which columns to get the name of the output columns\n",
        "    (in our example, `year`);\n",
        "2.  `values_from`: which columns to get the cell values from (in our\n",
        "    example, `earnings`)."
      ],
      "id": "49debbb0-7be5-4931-9fe6-937a32f34e14"
    },
    {
      "cell_type": "code",
      "execution_count": null,
      "metadata": {},
      "outputs": [],
      "source": [
        "wide_data <- fake_data %>% arrange(year) %>% select(-age) %>% pivot_wider(names_from = \"year\", values_from = \"earnings\")\n",
        "head(wide_data)"
      ],
      "id": "b86dfb2b-8403-4374-a568-1c3db24611f1"
    },
    {
      "cell_type": "markdown",
      "metadata": {},
      "source": [
        "We can see that the function above took the values from *year* and\n",
        "generated a new variable for each of them from 1982 to 2012, then\n",
        "supplied the corresponding values from *earnings* to each of these year\n",
        "variables. When a worker’s information isn’t recorded for a given year\n",
        "(and thus they have no recorded wage), the *earnings* variable is marked\n",
        "as missing.\n",
        "\n",
        "We can pivot more than one variable. Instead of pivoting only the\n",
        "variable *year*, we can pivot both the variables *year* and *age*. We do\n",
        "so by specifying both variables in the `values_from` argument."
      ],
      "id": "e52e2d4e-0c25-4b21-bb16-924a40561a8a"
    },
    {
      "cell_type": "code",
      "execution_count": null,
      "metadata": {},
      "outputs": [],
      "source": [
        "fake_data %>% arrange(year) %>% pivot_wider(names_from = \"year\" , values_from = c(\"earnings\",\"age\"))"
      ],
      "id": "cc65bb64-f154-405e-8cda-a3baba18d656"
    },
    {
      "cell_type": "markdown",
      "metadata": {},
      "source": [
        "Now suppose we want to work backward and transform this data set back\n",
        "into its original, “longer” shape (just now without the *age* variable).\n",
        "To do this, we can invoke the complementary `pivot_longer` function. The\n",
        "arguments we need to specify are:\n",
        "\n",
        "1.  `cols`: the name of the columns we want to pivot to longer format\n",
        "    (in our case, `'1995':'2011'`);\n",
        "2.  `names_to`: the name of the new column that will be created from the\n",
        "    information stored in the column names specified by `cols` (in our\n",
        "    case, `\"year\"`);\n",
        "3.  `values_to`: the name of the column to create from the data stored\n",
        "    in cell values, `\"earnings\"`."
      ],
      "id": "d82941fb-7b78-45e0-b004-0efe1374d17f"
    },
    {
      "cell_type": "code",
      "execution_count": null,
      "metadata": {},
      "outputs": [],
      "source": [
        "long_data <- wide_data %>% pivot_longer(cols = '1995':'2011', names_to = \"year\", values_to = \"earnings\")\n",
        "head(long_data)"
      ],
      "id": "d01111f2-07d3-4479-abb9-e633204f76ad"
    },
    {
      "cell_type": "markdown",
      "metadata": {},
      "source": [
        "Remember that, when going from long to wide format, we created several\n",
        "missing values every time a worker information for a given year was not\n",
        "available. Now that we transform our data back from wide to long format,\n",
        "we may carry with us all those missing values we had created.We can ask\n",
        "R to automatically exclude them, by adding the option\n",
        "`values_drop_na = TRUE`."
      ],
      "id": "5893b243-ad1d-4c4f-9d00-04344241ae40"
    },
    {
      "cell_type": "code",
      "execution_count": null,
      "metadata": {},
      "outputs": [],
      "source": [
        "long_data_short <- wide_data %>% pivot_longer(cols = '1995':'2011', names_to = \"year\", values_to = \"earnings\", values_drop_na = TRUE)\n",
        "head(long_data_short)"
      ],
      "id": "44a9157e-fceb-44ed-a647-65706eb2b794"
    },
    {
      "cell_type": "markdown",
      "metadata": {},
      "source": [
        "If this doesn’t seem intuitive or quickly comprehensible, don’t worry.\n",
        "Even many experienced coders struggle with the pivoting/reshaping\n",
        "functionality. With practice, it will become much more digestible!\n",
        "\n",
        "## 6.4 Common Mistakes\n",
        "\n",
        "It is easy to forget that `group_by()` creates a new data frame with a\n",
        "limited number of variables.\n",
        "\n",
        "Suppose we want to compute average earnings by region and treated\n",
        "status. We may try to do something like the following:"
      ],
      "id": "6b776c60-3841-4ad6-8fab-40bf5d270c23"
    },
    {
      "cell_type": "code",
      "execution_count": null,
      "metadata": {},
      "outputs": [],
      "source": [
        "step1 <- fake_data %>%\n",
        "        group_by(region) %>%\n",
        "        summarise(meanearnings = mean(earnings))\n",
        "\n",
        "step2 <- step1 %>%\n",
        "        group_by(treated) %>%\n",
        "        summarise(meanearnings = mean(earnings))"
      ],
      "id": "f830d417-2ac8-4fe0-8a0c-8d4158fc83af"
    },
    {
      "cell_type": "markdown",
      "metadata": {},
      "source": [
        "This results in an error: the first `group_by` creates a new data frame\n",
        "that does not contain the variable *treated* anymore. We can see that\n",
        "also by looking at the error message: *column ‘treated’ is not found*.\n",
        "\n",
        "The right way of doing what we wanted is as follows:"
      ],
      "id": "a3f15e13-3edc-4c3c-a879-df7f5d5a083a"
    },
    {
      "cell_type": "code",
      "execution_count": null,
      "metadata": {},
      "outputs": [],
      "source": [
        "fake_data %>% \n",
        "    group_by(region, treated) %>% \n",
        "    summarise(meanearnings = mean(earnings))"
      ],
      "id": "df9f191f-9839-414e-a4d1-6e252951ca47"
    },
    {
      "cell_type": "markdown",
      "metadata": {},
      "source": [
        "When we move from wide to long format, or vice versa, the variables that\n",
        "we *do not* pivot should remain constant over the variable that we pivot\n",
        "(namely, the variable we use in the `names_from` argument).\n",
        "\n",
        "Consider the example below. It is similar to what we did above but it\n",
        "has a crucial difference; can you spot it?"
      ],
      "id": "e73d25bc-7ceb-49a0-86a7-a7fb49a2e739"
    },
    {
      "cell_type": "code",
      "execution_count": null,
      "metadata": {},
      "outputs": [],
      "source": [
        "fake_data %>% arrange(year) %>% pivot_wider(names_from = \"year\", values_from = \"earnings\")"
      ],
      "id": "922a2778-2075-40a7-9630-00b5f196bbb6"
    },
    {
      "cell_type": "markdown",
      "metadata": {},
      "source": [
        "Earlier we dropped the variable *age*, while now we are keeping it. The\n",
        "variable *age* now is treated as if it was constant during *year*, the\n",
        "variable we are using for pivoting the data.\n",
        "\n",
        "This is not necessarily a mistake, and in fact R allows us to do the\n",
        "reshape. However, it changes the way in which we interpret *age*: it is\n",
        "now the age of the worker in their first year of appearance in the\n",
        "dataset.\n",
        "\n",
        "## 6.5 Wrap Up\n",
        "\n",
        "Being able to generate new variables and modify a data set to suit your\n",
        "specific research is pivotal. Now you should hopefully have more\n",
        "confidence in your ability to perform these tasks. Next, we will explore\n",
        "the challenges posed by working with multiple data sets at once.\n",
        "\n",
        "## 6.6 Wrap-up Table\n",
        "\n",
        "| Function       | Description                                                                                                                                      |\n",
        "|-------------------------------|-----------------------------------------|\n",
        "| `arrange`      | It orders observations based on the ascending or descending order of one or more variables.                                                      |\n",
        "| `group_by`     | It groups observations based on the values of one or more variables. It may be combined with `summarise` to compute summary statistics by group. |\n",
        "| `ungroup`      | It removes one or more grouping variables.                                                                                                       |\n",
        "| `pivot_wider`  | It pivots data from long to wide format.                                                                                                         |\n",
        "| `pivot_longer` | It pivots data from wide to long format.                                                                                                         |"
      ],
      "id": "d2289130-4008-4f18-a5cc-b19a2d861ed1"
    }
  ],
  "nbformat": 4,
  "nbformat_minor": 5,
  "metadata": {
    "kernelspec": {
      "name": "ir",
      "display_name": "R",
      "language": "r"
    }
  }
}