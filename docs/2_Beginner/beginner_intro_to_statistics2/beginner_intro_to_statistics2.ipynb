{
  "cells": [
    {
      "cell_type": "markdown",
      "metadata": {},
      "source": [
        "# 1.0.1 - Beginner - Introduction to Statistics using R\n",
        "\n",
        "COMET Team <br> William Co, Anneke Dresselhuis, Jonathan Graves, Emrul\n",
        "Hasan, Jonah Heyl, Mridul Manas, Shiming Wu.  \n",
        "2023-05-08\n",
        "\n",
        "## Outline\n",
        "\n",
        "### Prerequisites\n",
        "\n",
        "-   Introduction to Jupyter\n",
        "-   Introduction to R\n",
        "\n",
        "### References\n",
        "\n",
        "-   Esteban Ortiz-Ospina and Max Roseqoifhoihr (2018) - “Economic\n",
        "    inequality by gender”. Published online at OurWorldInData.org.\n",
        "    Retrieved from:\n",
        "    <https://ourworldindata.org/economic-inequality-by-gender> \\[Online\n",
        "    Resource\\]\n",
        "\n",
        "### Outcomes\n",
        "\n",
        "In this notebook, you will learn how to:\n",
        "\n",
        "-   Import data from the Survey of Financial Security (Statistics\n",
        "    Canada, 2019)\n",
        "-   Wrangle, reshape and visualize `SFS_data` as part of an Exploratory\n",
        "    Data Analysis (EDA)\n",
        "-   Run statistical tests, such as the $t$-test, to compare mean income\n",
        "    of male-led vs. female-led households\n",
        "-   Generate summary statistics tables and other data-representations of\n",
        "    the data using `group_by()`\n",
        "-   Optional: Run a formal two sample t-test to check for heterogeneity\n",
        "    in how gender affects income and compare the returns to education\n",
        "\n",
        "## Part 1: Import Data into R\n",
        "\n",
        "The data we use comes from the <u>2019 Survey of Financial Security</u>\n",
        "released by Statistics Canada [1].\n",
        "\n",
        "[1] Statistics Canada, Survey of Financial Security, 2019, 2021.\n",
        "Reproduced and distributed on an “as is” basis with the permission of\n",
        "Statistics Canada. Adapted from Statistics Canada, Survey of Financial\n",
        "Security, 2019, 2021. This does not constitute an endorsement by\n",
        "Statistics Canada of this product."
      ],
      "id": "a808d62b-f072-4ad6-87fa-7b80d1a6a1e6"
    },
    {
      "cell_type": "code",
      "execution_count": null,
      "metadata": {},
      "outputs": [],
      "source": [
        "# run this cell to load necessary packages for this tutorial\n",
        "# install.packages('vtable')\n",
        "# install.packages('viridis')\n",
        "library(tidyverse)\n",
        "library(haven)\n",
        "library(dplyr)\n",
        "library(vtable)\n",
        "library(viridis)\n",
        "\n",
        "\n",
        "source(\"beginner_intro_to_statistics2_tests.r\")\n",
        "source(\"beginner_intro_to_statistics2_functions.r\")\n",
        "# warning messages are okay"
      ],
      "id": "edc0b6f0-c193-4316-8c17-b3d02aeb2d01"
    },
    {
      "cell_type": "markdown",
      "metadata": {},
      "source": [
        "The `tidyverse` is a collection of R packages developed by Hadley\n",
        "Wickham and his colleagues as a cohesive set of tools for data\n",
        "manipulation, visualization, and analysis. In a **tidy** data set, each\n",
        "variable forms a column and each observation forms a row. `tidyverse`\n",
        "packages such as the `tidyr` and `dplyr` are recommended for cleaning\n",
        "and transforming your data into tidy formats.\n",
        "\n",
        "Let’s import the `.dta` file from Statistics Canada using the `read_dta`\n",
        "function."
      ],
      "id": "c75ede68-a82b-41f6-9d1a-2c7f730ee3e5"
    },
    {
      "cell_type": "code",
      "execution_count": null,
      "metadata": {},
      "outputs": [],
      "source": [
        "# if this is your first time using Jupyter Lab, the shortcut to run a cell is `Shift + Enter`\n",
        "SFS_data <- read_dta(\"../datasets_beginner/SFS_2019_Eng.dta\")"
      ],
      "id": "6a9cf11c-75b9-43a2-9495-1d4c67948fc9"
    },
    {
      "cell_type": "markdown",
      "metadata": {},
      "source": [
        "Here are some of the common file extensions and import functions in R:\n",
        "\n",
        "-   `.dta` and `read_dta()` for STATA files\n",
        "-   `.csv` and `read_csv()` for data stored as comma-separated values\n",
        "-   `.Rda` and `load()` for RStudio files and other files formatted for\n",
        "    R"
      ],
      "id": "b4b0f2e7-f011-4b89-a16b-289cbe91c1f1"
    },
    {
      "cell_type": "code",
      "execution_count": null,
      "metadata": {},
      "outputs": [],
      "source": [
        "head(SFS_data, 5)"
      ],
      "id": "830c76c0-df79-4179-bc1e-01bdac33374c"
    },
    {
      "cell_type": "markdown",
      "metadata": {},
      "source": [
        "> **Note**: `head(df, n)` displays the first n rows of the data frame.\n",
        "> Other popular methods include `glance()` and `print()`."
      ],
      "id": "1230dd78-35ac-4c49-aca8-b0122b9dc709"
    },
    {
      "cell_type": "code",
      "execution_count": null,
      "metadata": {},
      "outputs": [],
      "source": [
        "# you can read the documentation for a given function by adding a question-mark before its name\n",
        "?head"
      ],
      "id": "793db13e-fd4f-4616-8cda-080d0d4f0adf"
    },
    {
      "cell_type": "markdown",
      "metadata": {},
      "source": [
        "## Part 2: Exploratory Data Analysis in R\n",
        "\n",
        "There are a routine of steps you should generally follow as part of your\n",
        "*EDA* or *Exploratory Data Analysis.* Normally, you would analyze and\n",
        "visualize the variation, correlation, and distribution of your variables\n",
        "of interest. We do this to gain an intuitive understanding of the data\n",
        "before we undertake any formal hypothesis tests or model-fitting.\n",
        "\n",
        "Let’s think of our key variables of interest. We’re interested in\n",
        "estimating the effect of gender on differences in earnings.\n",
        "\n",
        "-   **Independent variable**: gender of the highest income earner\n",
        "\n",
        "-   **Variable of interest**: income after tax for each individual\n",
        "\n",
        "-   **Variable of interest**: income before tax for each individual\n",
        "\n",
        "-   **Control**: wealth for the household\n",
        "\n",
        "-   **Control**: level of education\n",
        "\n",
        "### Cleaning and Reshaping `SFS_data`\n",
        "\n",
        "For now, it’d be convenient to work with a new data frame containing\n",
        "only the key variables (columns) listed above. Moreover, the columns\n",
        "need to be renamed so they are easier for the reader to remember."
      ],
      "id": "02f64bd7-2b74-45cf-8371-f31033709b09"
    },
    {
      "cell_type": "code",
      "execution_count": null,
      "metadata": {},
      "outputs": [],
      "source": [
        "# rename columns\n",
        "SFS_data <- SFS_data %>%\n",
        "    rename(income_before_tax = pefmtinc) %>% \n",
        "    rename(income_after_tax = pefatinc) %>%\n",
        "    rename(wealth = pwnetwpg) %>%\n",
        "    rename(gender = pgdrmie) %>%\n",
        "    rename(education = peducmie) \n",
        "\n",
        "# drop rows where tax info is missing, ie. pefmtinc = 'NA'.\n",
        "SFS_data <- filter(SFS_data, !is.na(SFS_data$income_before_tax))\n",
        "\n",
        "keep <- c(\"pefamid\", \"gender\", \"education\", \"wealth\", \"income_before_tax\", \"income_after_tax\")\n",
        "\n",
        "# new df with chosen columns\n",
        "df_gender_on_wealth <- SFS_data[keep]\n",
        "\n",
        "# preview\n",
        "head(df_gender_on_wealth, 5)"
      ],
      "id": "633f8b1b-352b-4b5e-acf0-b7b71dab9b4e"
    },
    {
      "cell_type": "markdown",
      "metadata": {},
      "source": [
        "> **Note**: This is another **tidy representation** of the original data\n",
        "> but with less variables. The original data set is still stored as\n",
        "> `SFS_data`.\n",
        "\n",
        "### Ensuring correct data-types\n",
        "\n",
        "Notice that education is stored as `chr` but we want to keep it as a\n",
        "`factor`. The variable `education` came *encoded* as it is from a set of\n",
        "values {1, 2, 3, 4, 9}, each of which represent a level of education\n",
        "obtained."
      ],
      "id": "729be7c8-07dd-41b9-9ebf-9a74c812ac82"
    },
    {
      "cell_type": "code",
      "execution_count": null,
      "metadata": {},
      "outputs": [],
      "source": [
        "df_gender_on_wealth <- df_gender_on_wealth %>%\n",
        "         mutate(education = as.factor(education), \n",
        "         gender = as.factor(gender),\n",
        "         income_before_tax = as.numeric(income_before_tax),\n",
        "         income_after_tax = as.numeric(income_after_tax))\n",
        "\n",
        "head(df_gender_on_wealth, 2)"
      ],
      "id": "ce30669e-f9a6-4ad1-a0c3-1ba86115f405"
    },
    {
      "cell_type": "markdown",
      "metadata": {},
      "source": [
        "All good! Let’s use descriptive statistics to understand how each of the\n",
        "numbers in the set {1, 2, 3, 9} represent an individual’s educational\n",
        "background.\n",
        "\n",
        "### Computing Descriptive Statistics using `vtable` in R\n",
        "\n",
        "Let’s calculate the summary statistics of our dataset.\n",
        "\n",
        "> **Note**: the `sumtable` method from the `vtable` package can be used\n",
        "> to display the table in different formats including LaTeX, HTML, and\n",
        "> data.frame."
      ],
      "id": "94f622f5-6149-4833-806a-a8ce9b5d718b"
    },
    {
      "cell_type": "code",
      "execution_count": null,
      "metadata": {},
      "outputs": [],
      "source": [
        "# out = \"kable\" tells it to return a knitr::kable()\n",
        "# replace \"kable\" with \"latex\" and see what happens!\n",
        "sumtbl <- sumtable(df_gender_on_wealth, out = \"kable\")\n",
        "sumtbl"
      ],
      "id": "03e1f7cc-01cb-4530-bdb7-9f7946721050"
    },
    {
      "cell_type": "markdown",
      "metadata": {},
      "source": [
        "This is like having a birds-eye view of our data. As a researcher, we\n",
        "should take note of outliers and other irregularities and ask how those\n",
        "issues might affect the *validity* of our models and tests.\n",
        "\n",
        "> **Note**: see Appendix for a common method to remove outliers using\n",
        "> Z-score thresholds.\n",
        "\n",
        "### Grouping observations\n",
        "\n",
        "Wouldn’t it be neat to see how mean or median incomes for male and\n",
        "female-led households look like based on the level of education obtained\n",
        "by the main income-earner?"
      ],
      "id": "403749a4-4a6b-46d2-9eb8-106cac1c66ad"
    },
    {
      "cell_type": "code",
      "execution_count": null,
      "metadata": {},
      "outputs": [],
      "source": [
        "by_gender_education <- df_gender_on_wealth %>%\n",
        "  group_by(gender, education) %>%\n",
        "  summarise(mean_income = mean(income_before_tax, na.rm = TRUE),\n",
        "            median_income = median(income_before_tax, na.rm = TRUE),\n",
        "            mean_wealth = mean(wealth, na.rm = TRUE),\n",
        "            median_wealth = median(wealth, na.rm = TRUE))\n",
        "\n",
        "by_gender_education"
      ],
      "id": "4bf69103-e1c3-4fa8-b1da-b96212e8ee0f"
    },
    {
      "cell_type": "markdown",
      "metadata": {},
      "source": [
        "> **Note**: this is again a **tidy representation** of `SFS_data`.\n",
        "> *Grouping* observations by gender and education makes it a bit easier\n",
        "> to make comparisons across groups.\n",
        "\n",
        "We can take this chain-of-thought further and generate a `heatmap` using\n",
        "the `ggplot` package."
      ],
      "id": "061ea7b2-a5fe-4aca-8924-f510d007bfb0"
    },
    {
      "cell_type": "code",
      "execution_count": null,
      "metadata": {},
      "outputs": [],
      "source": [
        "library(ggplot2)\n",
        "library(viridis)\n",
        "\n",
        "# Create the heatmap with an accessible color palette\n",
        "heatmap_plot <- ggplot(by_gender_education, aes(x = education, y = gender, fill = mean_income)) +\n",
        "  geom_tile() +\n",
        "  scale_fill_viridis_c(option = \"plasma\", na.value = \"grey\", name = \"Mean Income\") +\n",
        "  labs(x = \"Education\", y = \"Gender\")\n",
        "\n",
        "# Display the heatmap\n",
        "heatmap_plot"
      ],
      "id": "57a3f14f-edbd-4b39-a6f0-eff3dba3d1f0"
    },
    {
      "cell_type": "markdown",
      "metadata": {},
      "source": [
        "> **Note**: we use `scale_fill_viridis_c()` from the `viridis` package\n",
        "> to ensure that the color palette follows the standards of DS.\n",
        "\n",
        "Now, what does this tell you about how male-led households (gender = 1)\n",
        "compare with female-led households in terms of the mean household\n",
        "income? Does this tell if education widens the income gap between\n",
        "male-led and female-led households with the same level of education?\n",
        "\n",
        "We can infer from the visualization that the female-led households with\n",
        "the same level of education have different mean incomes as compared to\n",
        "male-led households. This smells of *heterogeneity* and we can explore\n",
        "regression and other empirical methods to formally test this claim.\n",
        "\n",
        "However, we shouldn’t *yet* draw any conclusive statements about the\n",
        "relationships between gender (of the main income earner), income,\n",
        "education and other variables such as wealth.\n",
        "\n",
        "As researchers, we should ask if the differences in the mean or median\n",
        "incomes for the two groups are significant at all. We can then go a bit\n",
        "further and test if education indeed widens the gap or not.\n",
        "\n",
        "> **Think Deeper**: how would you specify the null and alternative\n",
        "> hypotheses?\n",
        "\n",
        "### Test your knowledge\n",
        "\n",
        "Match the function with the appropriate description. Enter your answer\n",
        "as a long string with the letter choices in order.\n",
        "\n",
        "1.  Order rows using column values\n",
        "2.  Keep distinct/unique rows\n",
        "3.  Keep rows that match a condition\n",
        "4.  Get a glimpse of your data\n",
        "5.  Create, modify, and delete columns\n",
        "6.  Keep or drop columns using their names and types\n",
        "7.  Count the observations in each group\n",
        "8.  Group by one or more variables\n",
        "9.  A general vectorised if-else\n",
        "\n",
        "<!-- -->\n",
        "\n",
        "1.  `mutate()`\n",
        "2.  `glimpse()`\n",
        "3.  `filter()`\n",
        "4.  `case_when()`\n",
        "5.  `select()`\n",
        "6.  `group_by()`\n",
        "7.  `distinct()`\n",
        "8.  `arrange()`\n",
        "9.  `count()`\n",
        "\n",
        "> **Note**: it’s fine if you don’t know all those functions yet! Match\n",
        "> the functions you know and run code to figure out the rest."
      ],
      "id": "7ff50bd1-1f26-4192-9b07-f4c2c0e55bfc"
    },
    {
      "cell_type": "code",
      "execution_count": null,
      "metadata": {},
      "outputs": [],
      "source": [
        "# Enter your answer as a long string ex: if you think the matches are 1-B, 2-C, 3-A, enter answer as \"BCA\"\n",
        "answer_1 <- \"\"\n",
        "\n",
        "test_1()"
      ],
      "id": "52150793-bc0e-462f-9b31-a183380161e5"
    },
    {
      "cell_type": "markdown",
      "metadata": {},
      "source": [
        "## Part 3: Running $t$-tests in R\n",
        "\n",
        "Let’s run a t-test for a comparison of means."
      ],
      "id": "b43c7437-e8fb-459b-a704-615d5b131544"
    },
    {
      "cell_type": "code",
      "execution_count": null,
      "metadata": {},
      "outputs": [],
      "source": [
        "# performs a t-test for means comparison\n",
        "t_test_result <- t.test(income_before_tax ~ gender, data = df_gender_on_wealth)\n",
        "print(t_test_result)"
      ],
      "id": "4fa7dc56-74d9-4494-b658-94d214ddaf2f"
    },
    {
      "cell_type": "markdown",
      "metadata": {},
      "source": [
        "The 95% confidence interval does not include 0 and we can confirm that\n",
        "the male-led households on average earn more as income before tax than\n",
        "the female-led households, and the gap is statistically significant.\n",
        "\n",
        "Let’s now run a test to compare the medians of both groups."
      ],
      "id": "95d89ee8-13ba-499c-a0a1-526fbefbd9ba"
    },
    {
      "cell_type": "code",
      "execution_count": null,
      "metadata": {},
      "outputs": [],
      "source": [
        "# perform a Mann-Whitney U test for median comparison\n",
        "mannwhitneyu_test_result <- wilcox.test(income_before_tax ~ gender, data = df_gender_on_wealth)\n",
        "print(mannwhitneyu_test_result)"
      ],
      "id": "9068581d-c4bb-4054-981b-3bef6fde7401"
    },
    {
      "cell_type": "markdown",
      "metadata": {},
      "source": [
        "This p-value is again highly significant, and based on our data, the\n",
        "median incomes for the two groups are not equal.\n",
        "\n",
        "Our variable of interest is income, and so far, we have provided\n",
        "statistical evidence for the case that the gender of the main\n",
        "income-earner is correlated with the household’s income.\n",
        "\n",
        "We are however more interested in the causal mechanisms through which\n",
        "education and wealth *determine* how gender affects household income.\n",
        "\n",
        "> **Think Deeper**: According to Ortiz-Ospina and Roser (2018), women\n",
        "> are overrepresented in low-paying jobs and are underrepresented in\n",
        "> high-paying ones. What role does the attainment of education play in\n",
        "> sorting genders into high vs. low-paying jobs? Can we test this\n",
        "> formally with the data?\n",
        "\n",
        "### Studying how wealth and education might impact the income-gap\n",
        "\n",
        "There are multiple reasons to study the links between **wealth** and the\n",
        "**income** gap. For instance, we might want to answer whether having\n",
        "more wealth affects an individual’s income.\n",
        "\n",
        "We can use some of the methods we have learned in R to analyze and\n",
        "visualize relationships between income, gender, education and wealth.\n",
        "\n",
        "Let’s see if having a university degree widens the gender income gap."
      ],
      "id": "c335430a-3f51-45b8-95e1-d5ca288d02c0"
    },
    {
      "cell_type": "code",
      "execution_count": null,
      "metadata": {},
      "outputs": [],
      "source": [
        "SFS_data <- SFS_data %>% \n",
        "            mutate(university = case_when(     # create a new variable with mutate\n",
        "                            education == \"4\" ~ \"Yes\",    # use case_when and ~ operator to applt `if else` conditions \n",
        "                            TRUE ~ \"No\")) %>% \n",
        "            mutate(university = as_factor(university)) #remember, it's a factor!\n",
        "\n",
        "head(SFS_data$university, 10)"
      ],
      "id": "8c2635a1-5f38-4682-a771-f2522fab7606"
    },
    {
      "cell_type": "markdown",
      "metadata": {},
      "source": [
        "Let’s visualize how the mean wealth compares for male-led vs. female-led\n",
        "households, conditional on whether the main-income earner went to\n",
        "university."
      ],
      "id": "ff5e3a1b-d598-4a9b-8aca-d4d549eb5c78"
    },
    {
      "cell_type": "code",
      "execution_count": null,
      "metadata": {},
      "outputs": [],
      "source": [
        "results <- SFS_data %>%\n",
        "           group_by(university,gender) %>%\n",
        "           summarize(m_wealth = mean(wealth), sd_wealth = sd(wealth))\n",
        "\n",
        "results \n",
        "\n",
        "f <- ggplot(data = SFS_data, aes(x = gender, y = wealth)) + xlab(\"Gender\") + ylab(\"Wealth\")    # label and define our x and y axis\n",
        "f <- f + geom_bar(stat = \"summary\", fun = \"mean\", fill = \"lightblue\")    # produce a summary statistic, the mean\n",
        "f <- f + facet_grid(. ~ university)    # add a grid by education\n",
        "\n",
        "f"
      ],
      "id": "dd92716d-522e-408e-bf30-5633d1786677"
    },
    {
      "cell_type": "markdown",
      "metadata": {},
      "source": [
        "It smells like the wealth gap between the two types of households widens\n",
        "for groups that have obtained a university degree.\n",
        "\n",
        "Similarly, let’s look at the difference in wealth gap in percentage\n",
        "terms. We use `results` generated in the previous cell (the $4 \\times 4$\n",
        "table) as the inputs this time. We need to load the package `scales` to\n",
        "use the function `percent`."
      ],
      "id": "6c346330-7248-4fe4-9657-43c67e00c4a8"
    },
    {
      "cell_type": "code",
      "execution_count": null,
      "metadata": {},
      "outputs": [],
      "source": [
        "library(scales)\n",
        "\n",
        "percentage_table <- SFS_data %>%\n",
        "                    group_by(university) %>%\n",
        "                    group_modify(~ data.frame(wealth_gap = mean(filter(., gender == 2)$wealth)/mean(filter(., gender == 1)$wealth) - 1)) %>%\n",
        "                    mutate(wealth_gap = scales::percent(wealth_gap))\n",
        "\n",
        "percentage_table"
      ],
      "id": "550ed729-9ae1-4fb8-b1c6-39cb8cd93f50"
    },
    {
      "cell_type": "markdown",
      "metadata": {},
      "source": [
        "Notice the signs are both negative. Hence, on average, female-led\n",
        "households have less wealth regardless of whether they have a university\n",
        "degree or not.\n",
        "\n",
        "More importantly, based on our data, female-led households with\n",
        "university degrees on average have 28% less wealth than male-led\n",
        "households with university degrees. Comparing the two groups given they\n",
        "don’t have university degrees, the gap is quite smaller: 18%.\n",
        "\n",
        "So, we have shown that the gap widens by about 10% when conditioned for\n",
        "a university degree.\n",
        "\n",
        "Let’s test this further by creating sub-samples of “university degree”\n",
        "and “no university degree” respectively and then running a formal two\n",
        "sample t-test."
      ],
      "id": "8f4b1e28-2848-43a0-8ad3-7fc907d8aeaf"
    },
    {
      "cell_type": "code",
      "execution_count": null,
      "metadata": {},
      "outputs": [],
      "source": [
        "university_data <- filter(SFS_data, university == \"Yes\") # university only data \n",
        "nuniversity_data <- filter(SFS_data, university == \"No\") # non university data\n",
        "\n",
        "t2 = t.test(\n",
        "       x = filter(university_data, gender == 1)$wealth,\n",
        "       y = filter(university_data, gender == 2)$wealth,\n",
        "       alternative = \"two.sided\",\n",
        "       mu = 0,\n",
        "       conf.level = 0.95)\n",
        "\n",
        "t2  # test for the wealth gap in university data\n",
        "\n",
        "round(t2$estimate[1] - t2$estimate[2],2) # rounds our estimate\n",
        "\n",
        "\n",
        "t3 = t.test(\n",
        "       x = filter(nuniversity_data, gender == 1)$wealth,\n",
        "       y = filter(nuniversity_data, gender == 2)$wealth,\n",
        "       alternative = \"two.sided\",\n",
        "       mu = 0,\n",
        "       conf.level = 0.95)\n",
        "\n",
        "t3 # test for the wealth gap in non-university data\n",
        "\n",
        "round(t3$estimate[1] - t3$estimate[2],2) # rounds our estimate"
      ],
      "id": "33460516-1e3f-4005-ba6a-bddb5b8f2a71"
    },
    {
      "cell_type": "markdown",
      "metadata": {},
      "source": [
        "In both tests, the p-values are very small, indicating strong\n",
        "statistical evidence to reject the null hypothesis. The confidence\n",
        "intervals also provide a range of plausible values for the difference in\n",
        "means, further supporting the alternative hypothesis.\n",
        "\n",
        "Based on these results, there appears to be a significant difference in\n",
        "wealth between the two gender groups regardless of university-status,\n",
        "with males consistently having higher mean wealth compared to females.\n",
        "\n",
        "### Optional: Returns to HS diploma\n",
        "\n",
        "Next, examine whether returns to education differ between genders. For\n",
        "our purposes, we will define returns to education as *the difference in\n",
        "average income before tax between two subsequent education levels*.\n",
        "\n",
        "The following t-test finds the returns to education of a high school\n",
        "diploma for males (`retHS`) and for females(`retHSF`)."
      ],
      "id": "5c2e6e6e-78ab-4260-860f-98805c6f9812"
    },
    {
      "cell_type": "code",
      "execution_count": null,
      "metadata": {},
      "outputs": [],
      "source": [
        "# Returns to education: High school diploma\n",
        "\n",
        "less_than_high_school_data <- filter(SFS_data, education == 1) # Less than high school\n",
        "high_school_data <- filter(SFS_data, education == 2) # High school\n",
        "post_secondary_data <- filter(SFS_data, education == 3) # Non-university post-secondary\n",
        "university_data <- filter(SFS_data, education == 4) # University\n",
        "\n",
        "\n",
        "retHS = t.test(\n",
        "       x = filter(high_school_data, gender == 1)$income_before_tax,\n",
        "       y = filter(less_than_high_school_data, gender == 1)$income_before_tax,\n",
        "       alternative = \"two.sided\",\n",
        "       mu = 0,\n",
        "       conf.level = 0.95)\n",
        "retHS_ans=round(retHS$estimate[1] - retHS$estimate[2],2)\n",
        "\n",
        "retHSF = t.test(\n",
        "       x = filter(high_school_data, gender == 2)$income_before_tax,\n",
        "       y = filter(less_than_high_school_data, gender == 2)$income_before_tax,\n",
        "       alternative = \"two.sided\",\n",
        "       mu = 0,\n",
        "       conf.level = 0.95)\n",
        "\n",
        "retHS\n",
        "retHSF\n",
        "retHS_ans=round(retHS$estimate[1] - retHS$estimate[2],2)\n",
        "retHSF_ans=round(retHSF$estimate[1] - retHSF$estimate[2],2)"
      ],
      "id": "8dbd8c56-8576-40b8-bb00-0f6afc3f974a"
    },
    {
      "cell_type": "markdown",
      "metadata": {},
      "source": [
        "We have found statistically significant evidence for the case that\n",
        "returns to graduating with a high school diploma are indeed positive for\n",
        "individuals living in both male-led and female-led households.\n",
        "\n",
        "### Test your knowledge\n",
        "\n",
        "As an exercise, create a copy of the cell above and try to calculate the\n",
        "returns of a university degree for males and females."
      ],
      "id": "cdfc034d-8661-47ad-a330-dd0b898dd5a7"
    },
    {
      "cell_type": "code",
      "execution_count": null,
      "metadata": {},
      "outputs": [],
      "source": [
        "# your code here"
      ],
      "id": "90010853-5099-49bb-9393-d4060bda27c4"
    },
    {
      "cell_type": "markdown",
      "metadata": {},
      "source": [
        "Now let’s work with a simulated dataset of mutual fund performance.\n",
        "Interpret the data below as the yearly returns for a sample of 300\n",
        "mutual funds from 2010 to 2015."
      ],
      "id": "83b96419-b2f8-4a98-a340-0f0c35ea8b9a"
    },
    {
      "cell_type": "code",
      "execution_count": null,
      "metadata": {},
      "outputs": [],
      "source": [
        "fund_performance"
      ],
      "id": "f166742a-12c4-4787-b1c6-1e7e6f4e9d04"
    },
    {
      "cell_type": "markdown",
      "metadata": {},
      "source": [
        "Create a subset of the data with the returns for 2015. Rename the column\n",
        "to `investment_returns`. Store your answer in `fp_15`."
      ],
      "id": "099790af-bbc8-407f-b4fe-305f230d3675"
    },
    {
      "cell_type": "code",
      "execution_count": null,
      "metadata": {},
      "outputs": [],
      "source": [
        "# feel free to use this cell if you need "
      ],
      "id": "abca9aa8-5ebe-4b6a-b0b6-23d092c0dcee"
    },
    {
      "cell_type": "code",
      "execution_count": null,
      "metadata": {},
      "outputs": [],
      "source": [
        "fp_15 <- fund_performance %>%\n",
        "          ...(fund, ...)\n",
        "\n",
        "answer_2 <- fp_15\n",
        "\n",
        "test_2()"
      ],
      "id": "46b7d1f9-2256-41ee-a131-9952dddcee1f"
    },
    {
      "cell_type": "markdown",
      "metadata": {},
      "source": [
        "Calculate the mean and median return of funds in 2015. Store your\n",
        "answers in `mean_ret` and `median_ret`, respectively."
      ],
      "id": "9cc4b45e-a725-490d-809f-241eb5756509"
    },
    {
      "cell_type": "code",
      "execution_count": null,
      "metadata": {},
      "outputs": [],
      "source": [
        "# feel free to use this cell if you need "
      ],
      "id": "c622a0ef-fc54-4caf-befe-5cce9eaa8891"
    },
    {
      "cell_type": "code",
      "execution_count": null,
      "metadata": {},
      "outputs": [],
      "source": [
        "mean_ret <- ...(...)\n",
        "\n",
        "answer_3 <- mean_ret\n",
        "\n",
        "test_3()"
      ],
      "id": "e39eaff5-1d6d-4153-99e5-30708de44c53"
    },
    {
      "cell_type": "code",
      "execution_count": null,
      "metadata": {},
      "outputs": [],
      "source": [
        "median_ret <- ...(...)\n",
        "\n",
        "answer_4 <- median_ret\n",
        "\n",
        "test_4()"
      ],
      "id": "e5421d8f-ef85-46c0-8e80-976fd3b10cc3"
    },
    {
      "cell_type": "markdown",
      "metadata": {},
      "source": [
        "Let’s suppose the market return (average return of investments\n",
        "available) was 5%. Run a 95% confidence level t-test on the returns of\n",
        "`fp_15` to find whether the funds outperformed the market or not.\n",
        "Complete the code below."
      ],
      "id": "11ab41c5-6e9e-4b7e-ba67-3f6653b31d33"
    },
    {
      "cell_type": "code",
      "execution_count": null,
      "metadata": {},
      "outputs": [],
      "source": [
        "t_stat = ...( \n",
        "       ...,\n",
        "       mu = ...,\n",
        "       alternative = \"two.sided\",\n",
        "       conf.level = ...)\n",
        "\n",
        "answer_5 <- t_stat$conf.int\n",
        "\n",
        "test_5()"
      ],
      "id": "96aed34d-dc3b-4ecf-8e23-95c0bfca0029"
    },
    {
      "cell_type": "markdown",
      "metadata": {},
      "source": [
        "Do we have statistical evidence to believe that the funds outperformed\n",
        "the market?\n",
        "\n",
        "1.  Yes\n",
        "2.  No"
      ],
      "id": "c9b94b0e-3bbb-42f2-9295-713f903dbc15"
    },
    {
      "cell_type": "code",
      "execution_count": null,
      "metadata": {},
      "outputs": [],
      "source": [
        "# enter your answer as either \"A\" or \"B\"\n",
        "answer_6 <- \"\"\n",
        "\n",
        "test_6()"
      ],
      "id": "7e8f9a84-d9e9-436f-89af-6b979b1a5094"
    },
    {
      "cell_type": "markdown",
      "metadata": {},
      "source": [
        "But wait! Do you notice anything interesting about this dataset?\n",
        "Investigate the dataset with special attention to the NAs. Do you notice\n",
        "a pattern?"
      ],
      "id": "f5ad343a-39b3-498b-915d-0ed93d24b696"
    },
    {
      "cell_type": "code",
      "execution_count": null,
      "metadata": {},
      "outputs": [],
      "source": [
        "fund_performance"
      ],
      "id": "e17293b7-1433-4463-9a0f-8fc4924a3ca2"
    },
    {
      "cell_type": "markdown",
      "metadata": {},
      "source": [
        "There are no funds with negative performance in the dataset! It’s likely\n",
        "that the NAs have replaced the observations with negative returns. How\n",
        "might that affect our analysis of fund performance? Think about the\n",
        "biases that could have been introduced in our mean and statistical test\n",
        "calculations.\n",
        "\n",
        "### Appendix\n",
        "\n",
        "Removing outliers is a common practice in data analysis. The code below\n",
        "removes outliers based on a custom Z-score threshold.\n",
        "\n",
        "> **Note**: here we use the 95th percentile but you should first\n",
        "> visualize your data with box plots and then find a convenient\n",
        "> threshold to remove outliers in the variables of interest."
      ],
      "id": "7431ca15-9a2f-44e7-b053-366af4ae40e0"
    },
    {
      "cell_type": "code",
      "execution_count": null,
      "metadata": {},
      "outputs": [],
      "source": [
        "# function to remove outliers based on z-score\n",
        "remove_outliers_zscore <- function(data, variable, threshold) {\n",
        "  z_scores <- scale(data[[variable]])\n",
        "  data_without_outliers <- data[abs(z_scores) <= threshold, ]\n",
        "  return(data_without_outliers)\n",
        "}\n",
        "\n",
        "# set the threshold for z-score outlier removal\n",
        "zscore_threshold <- 1.645    # Adjust as needed\n",
        "\n",
        "# remove outliers based on z-score for the desired variable\n",
        "df_filtered <- remove_outliers_zscore(df_gender_on_wealth, \"wealth\", zscore_threshold)\n",
        "\n",
        "df_filtered"
      ],
      "id": "9bb6f0d0-c843-45d2-8e2d-1164940acd2b"
    }
  ],
  "nbformat": 4,
  "nbformat_minor": 5,
  "metadata": {
    "kernelspec": {
      "name": "ir",
      "display_name": "R",
      "language": "r"
    }
  }
}