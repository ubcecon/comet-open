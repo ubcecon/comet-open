{
  "cells": [
    {
      "cell_type": "markdown",
      "metadata": {},
      "source": [
        "# 1.1 - Beginner - Introduction to Central Tendency\n",
        "\n",
        "COMET Team <br> *Sarthak Kwatra and Jonathan Graves*  \n",
        "2023-10-13\n",
        "\n",
        "## Prerequisites\n",
        "\n",
        "-   Introduction to Jupyter\n",
        "-   Introduction to R"
      ],
      "id": "9826908c-b418-444d-a585-5036518d0521"
    },
    {
      "cell_type": "code",
      "execution_count": null,
      "metadata": {},
      "outputs": [],
      "source": [
        "# Importing the packages we'll be using in this module!\n",
        "\n",
        "# If any of these packages isn't installed run the line - install.packages(\"ggplot2\") -  with the name of the package within the quotation marks\n",
        "library(ggplot2)\n",
        "library(tidyverse)"
      ],
      "id": "0e3ac01c-8a60-4430-bca3-3786e4153e70"
    },
    {
      "cell_type": "markdown",
      "metadata": {},
      "source": [
        "> **Work in Progress**\n",
        ">\n",
        "> We haven’t written self-tests for this unit yet! You’ll have to check\n",
        "> with your friends if you’ve got them right or not!\n",
        ">\n",
        "> -   Want to submit some? [Contact us!](mailto:comet.project@ubc.ca)\n",
        "\n",
        "## Introduction to Central Tendency\n",
        "\n",
        "For a moment, let’s think of data as alphabets. This data, or these\n",
        "alphabets, are available to us, but they are disarrayed and scattered,\n",
        "and they may mean nothing by themselves. However, if we look at data as\n",
        "alphabets, statistics is the language that we use to put alphabets into\n",
        "words to understand and communicate. Statistics is how we make sense of\n",
        "data.\n",
        "\n",
        "Therefore, understanding different statistical tools is almost like\n",
        "knowing different languages. All these statistical tools use the same\n",
        "alphabets (the data), and yet communicate a variety of things.\n",
        "\n",
        "Statistics is an economist’s arsenal of techniques and tools that allows\n",
        "them to extract meaningful insights from data. Many of these tools\n",
        "calculate a single representative value that summarizes the data in one\n",
        "way or another. We call these **numerical statistics**.\n",
        "\n",
        "> Here’s a helpful way of thinking about it: Have you ever tried\n",
        "> summarizing a movie to a friend? You’d probably pick the most\n",
        "> significant events or themes, presenting a concise yet comprehensive\n",
        "> overview. Similarly, statistical concepts aims to “summarize” a data\n",
        "> set into a single **typical** value.\n",
        "\n",
        "If you don’t have any experience with statistics, don’t fret! This\n",
        "course starts with all of the concepts from the ground up. If you have\n",
        "experience with statistics, this course will allow you to associate each\n",
        "statistical concept with R Code to make you even more efficient. The\n",
        "first among these statistical tools is the idea **central tendency**.\n",
        "\n",
        "Central tendency is meant to talk about what is “typical” for a dataset.\n",
        "Specifically, as evident from the term, tools of *central* tendency are\n",
        "concerned with the *centrality* of the data, or the middle values of the\n",
        "data. However, the center or the middle can mean multiple different\n",
        "things as far as data is concerned.\n",
        "\n",
        "Imagine standing in a room full of people and trying to find an average\n",
        "height. Or imagine being in a city and trying to find the most common\n",
        "temperature during the summer. Or imagine trying to understand what is\n",
        "the most commonly purchased car in your city. Both these tasks involve\n",
        "finding a ‘central’ or ‘typical’ value, which is the essence of central\n",
        "tendency.\n",
        "\n",
        "In order to understand the concepts of central tendency and use them,\n",
        "we’ll need a data set to work with. For this purpose, we will be using\n",
        "the `swiss` dataset that comes in-built as a part of R. We don’t need to\n",
        "import it, we just need to call the dataset. Additionally, for\n",
        "convenience, we’ll try to have a glimpse of the data set to see if\n",
        "anything important jumps out to us immediately."
      ],
      "id": "f0797175-f6ed-4803-93ae-d1a5b7423a44"
    },
    {
      "cell_type": "code",
      "execution_count": null,
      "metadata": {},
      "outputs": [],
      "source": [
        "glimpse(swiss)"
      ],
      "id": "440014a3-77e0-4129-abe5-c044ffc4468f"
    },
    {
      "cell_type": "markdown",
      "metadata": {},
      "source": [
        "`swiss` is a data set with records for socio-economic indicators for\n",
        "each of 47 French-speaking provinces of Switzerland at about 1888. Each\n",
        "of these uniquely recognized administrative divisions are called\n",
        "*cantons*. This dataset is like a guidebook, giving us insights into\n",
        "each canton’s characteristics. As a budding economist building your\n",
        "statistical arsenal, the `swiss` data set is the perfect place to start!\n",
        "\n",
        "Aside from just looking at your data set, one of the more helpful ways\n",
        "to understand your data set is to visualize it. Across the 47 cantons,\n",
        "let’s try to observe the `Agriculture` variable in our data set, which\n",
        "stands for “% of males involved in agriculture as occupation”, and see\n",
        "how it varies.\n",
        "\n",
        "For this, we’ll rely on a plot that is known as a **histogram**. A\n",
        "histogram is a plot that groups data into ranges or “bins” and showcases\n",
        "the frequency of our data points within these ranges. Let’s go ahead and\n",
        "visualize it!"
      ],
      "id": "f75b4461-2451-4b62-a1ed-85726acdbc91"
    },
    {
      "cell_type": "code",
      "execution_count": null,
      "metadata": {},
      "outputs": [],
      "source": [
        "agriculture_plot <- ggplot(swiss, aes(y = Agriculture)) + \n",
        "  geom_histogram( \n",
        "                 bins = 30, \n",
        "                 fill=\"lightgray\", \n",
        "                 color=\"black\", \n",
        "                 alpha = 0.7) +\n",
        "  labs(title = \"Histogram of Agriculture Rates\", \n",
        "       x = \"Frequency\", \n",
        "       y = \"% of Men Involved in Agriculture as an Occupation\") +\n",
        "  scale_x_continuous(breaks = seq(min(swiss$Agriculture), max(swiss$Agriculture))) +\n",
        "  scale_y_continuous(n.breaks = 10) +\n",
        "  theme_minimal()\n",
        "\n",
        "agriculture_plot"
      ],
      "id": "b643b00f-e31d-4666-a5d2-249a42f518d9"
    },
    {
      "cell_type": "markdown",
      "metadata": {},
      "source": [
        "In a very similar manner, let’s also look at another variable,\n",
        "`Education`, which stands for the percentage of draftees educated beyond\n",
        "primary school for each of the cantons."
      ],
      "id": "f4fb432f-05e1-446f-a604-e04f449b1074"
    },
    {
      "cell_type": "code",
      "execution_count": null,
      "metadata": {},
      "outputs": [],
      "source": [
        "education_plot <- ggplot(swiss) + \n",
        "  geom_histogram(aes(y = Education), \n",
        "                 bins = 10, \n",
        "                 fill=\"lightgray\", \n",
        "                 color=\"black\", \n",
        "                 alpha = 0.7) +\n",
        "  labs(title = \"Histogram of Education in Draftees\", \n",
        "       x = \"Frequency\", \n",
        "       y = \"% Education beyond Primary School for Draftees.\") +\n",
        "  scale_x_continuous(breaks = seq(min(swiss$Education), max(swiss$Education))) +\n",
        "  scale_y_continuous(n.breaks = 10) +\n",
        "  theme_minimal()\n",
        "\n",
        "education_plot"
      ],
      "id": "88521571-e22f-452c-82b5-adf476847cae"
    },
    {
      "cell_type": "markdown",
      "metadata": {},
      "source": [
        "These graphs allow us to observe the distribution of the observations\n",
        "across the different levels in our variables. For instance, we can\n",
        "observe that for `Agriculture`, observations between 60 - 70 tend to\n",
        "have the highest frequency. Or on the other hand, most of the\n",
        "observations in the `Education` variable are in the 0 - 10 area.\n",
        "\n",
        "What does this all mean? How do we interpret all of these? To do this,\n",
        "we’ll take assistance of a few statistical concepts, namely: **Mean,\n",
        "Median, and Mode**, all of which are different interpretations of the\n",
        "word middle. Mean, Median, and Mode are the three primary concepts in\n",
        "the idea of central tendency.\n",
        "\n",
        "> **Test Your Knowledge**: Before you move on, where does the “middle”\n",
        "> of the data look like for `Education`? `Agriculture`? Write down your\n",
        "> answers, and see how the relate to the numerical statistics we will\n",
        "> compute below."
      ],
      "id": "4f4b8317-22fa-44b5-a50c-555e07cb32e6"
    },
    {
      "cell_type": "code",
      "execution_count": null,
      "metadata": {},
      "outputs": [],
      "source": [
        "# My answers are:\n",
        "\n",
        "Middle_of_education <- ?\n",
        "Middle_of_agriculture <- ?"
      ],
      "id": "4b9e99c0-81e8-4181-955d-faba539e4a6d"
    },
    {
      "cell_type": "markdown",
      "metadata": {},
      "source": [
        "## The Key Ideas of Central Tendency\n",
        "\n",
        "### Mean\n",
        "\n",
        "At its core, the mean[1] is a simple concept – it is what you get when\n",
        "you distribute the total equally among every entry in the data set. Or\n",
        "alternatively, when you sum all of the observations in a data set, then\n",
        "divide by the number of observations in that data set. Formulaically,\n",
        "\n",
        "$$\n",
        "\\overline{X} = \\frac{1}{n}\\sum_{i=1}^{n} X_i =  \\frac{\\text{Sum of Value of All Data Points}}{\\text{Total Number of Data Points}}\n",
        "$$\n",
        "\n",
        "Here, $\\sum$ stands for summation, and $\\overline{X}$ is what is used to\n",
        "represent the mean. While this may be enough for you to understand the\n",
        "concept, we can nuance this explanation a slight bit and make it more\n",
        "intuitive to interpret!\n",
        "\n",
        "> **Check Your Understanding**: can you see why the two explanations for\n",
        "> the mean given above are the same?\n",
        "\n",
        "Let’s imagine a scenario within the context of our `swiss` dataset. If\n",
        "we considered all the cantons in Switzerland, what education level would\n",
        "a “typical” canton have? This is the **Mean Education Rate**. In R, the\n",
        "Mean is calculated quite simply through the `mean` function:\n",
        "\n",
        "[1] Specifically, the *arithmetic mean*."
      ],
      "id": "037432cd-ab69-4abf-82d4-e432adb74bae"
    },
    {
      "cell_type": "code",
      "execution_count": null,
      "metadata": {},
      "outputs": [],
      "source": [
        "mean_education <- mean(swiss$Education)\n",
        "mean_education"
      ],
      "id": "96fbe603-fa57-4262-a502-9e3143f4970d"
    },
    {
      "cell_type": "markdown",
      "metadata": {},
      "source": [
        "We could also check our comparison by computing it manually as well:"
      ],
      "id": "076bea6f-a261-40db-8f71-81d5186ec07a"
    },
    {
      "cell_type": "code",
      "execution_count": null,
      "metadata": {},
      "outputs": [],
      "source": [
        "total_education <- sum(swiss$Education)\n",
        "total_cantons <- nrow(swiss) #number of observations in `swiss`\n",
        "\n",
        "mean_education_manual <- total_education/total_cantons\n",
        "mean_education_manual"
      ],
      "id": "cd36a00e-c16f-458b-8d2b-081ad17c7328"
    },
    {
      "cell_type": "markdown",
      "metadata": {},
      "source": [
        "This allows us to notice that the **Mean Education Rate** across all of\n",
        "the Swiss cantons is **10.98%**. You can practice this yourself as well!\n",
        "Try to calculate fraction of Catholics within a typical Swiss canton in\n",
        "the code block below:"
      ],
      "id": "c76a280e-cd22-4fea-839f-43b02fb1c74f"
    },
    {
      "cell_type": "code",
      "execution_count": null,
      "metadata": {},
      "outputs": [],
      "source": [
        "# Note: The first blank is supposed to be the function, and the second blank is supposed to be the variable\n",
        "avg_mean_catholic <- ...(swiss$...)"
      ],
      "id": "37ad9dc6-becd-4f26-9eaf-64138d9d0cb6"
    },
    {
      "cell_type": "markdown",
      "metadata": {},
      "source": [
        "Having observed the mean numerically, we can make our understanding of\n",
        "the concept even more robust by observing it visually. We can do this by\n",
        "slightly adjusting one of the histograms we’ve come up with earlier."
      ],
      "id": "47bc6ea6-c753-49a6-9d2d-7925b9fac4ff"
    },
    {
      "cell_type": "code",
      "execution_count": null,
      "metadata": {},
      "outputs": [],
      "source": [
        "education_plot + \n",
        "  geom_hline(aes(yintercept=mean_education), color=\"red\", linetype=\"dashed\", linewidth=1)"
      ],
      "id": "93336ef3-9848-4a1d-8728-f475b80bdd5a"
    },
    {
      "cell_type": "markdown",
      "metadata": {},
      "source": [
        "See the red line? This is the mean we calculated before! How does it\n",
        "compare to the guess you made based on the histogram?\n",
        "\n",
        "However, as with any tool, it is important to understand the appropriate\n",
        "use of the mean as well as its limitations. One of the primary\n",
        "limitations of the mean is that it is severely affected by extreme\n",
        "values.\n",
        "\n",
        "Let’s say there was an error in recording, and a canton accidentally\n",
        "reported an extremely high fertility rate, much beyond the actual range.\n",
        "We’ll simulate this and see its effect on the mean.\n",
        "\n",
        "First, let’s store your fertility measure from before as the original\n",
        "mean fertility rate:"
      ],
      "id": "1055480d-f07c-4535-a854-f4c318f60217"
    },
    {
      "cell_type": "code",
      "execution_count": null,
      "metadata": {},
      "outputs": [],
      "source": [
        "original_mean <- mean(swiss$Fertility)\n",
        "original_mean"
      ],
      "id": "6583b8f7-aa7b-44c9-88c6-3c53155cdfc6"
    },
    {
      "cell_type": "markdown",
      "metadata": {},
      "source": [
        "Then, let’s introduce an extreme value. For the sake of illustration,\n",
        "we’ll assign an unrealistically high fertility rate (e.g., 1000) to the\n",
        "first canton:"
      ],
      "id": "ea4de1c8-eb1b-4eff-9e64-f6c6ecd8e409"
    },
    {
      "cell_type": "code",
      "execution_count": null,
      "metadata": {},
      "outputs": [],
      "source": [
        "swiss_with_extreme <- swiss\n",
        "swiss_with_extreme$Fertility[1] <- 1000"
      ],
      "id": "8108a2b6-bfbb-4421-a846-fd244e2de041"
    },
    {
      "cell_type": "markdown",
      "metadata": {},
      "source": [
        "Now, let’s compute the original mean with this extreme value:"
      ],
      "id": "0e1ed162-c31b-4712-8400-2e0886fdbec0"
    },
    {
      "cell_type": "code",
      "execution_count": null,
      "metadata": {},
      "outputs": [],
      "source": [
        "extreme_mean <- mean(swiss_with_extreme$Fertility)\n",
        "extreme_mean"
      ],
      "id": "1859fa6e-89d6-40d1-bbfc-0671026c8e8a"
    },
    {
      "cell_type": "markdown",
      "metadata": {},
      "source": [
        "This allows us to observe how significant a change a single observation\n",
        "can bring around in the Mean, making it jump from 70 to 89.7. For good\n",
        "measure, let’s also observe this visually:"
      ],
      "id": "390e3d40-cfeb-489f-9e46-f6a43ac3df09"
    },
    {
      "cell_type": "code",
      "execution_count": null,
      "metadata": {},
      "outputs": [],
      "source": [
        "ggplot() +\n",
        "  geom_histogram(data = swiss, aes(x=log(Fertility)), color=\"blue\", alpha=0.1, boundary = 0) +\n",
        "  geom_vline(aes(xintercept=log(original_mean)), color=\"blue\", linetype=\"dashed\", size=1) +\n",
        "  geom_histogram(data = swiss_with_extreme, aes(x=log(Fertility)), fill=\"red\", alpha=0.3, boundary = 0) +\n",
        "  geom_vline(data = swiss, aes(xintercept=log(extreme_mean)), color=\"red\", linetype=\"dashed\", size=1) +\n",
        "  labs(title=\"Effect of Extreme Value on Mean Fertility Rate\",\n",
        "       x=\"Fertility Rate (in logs)\",\n",
        "       fill=\"Dataset\") +\n",
        "  scale_fill_manual(values = c(\"blue\", \"red\"), labels = c(\"Original Data\")) +\n",
        "  theme_minimal()"
      ],
      "id": "3f1d1c62-ac58-4cb8-a59d-aaf07e5c4e91"
    },
    {
      "cell_type": "markdown",
      "metadata": {},
      "source": [
        "In this plot, the blue histogram represents the original `swiss` data\n",
        "set, while the red histogram represents the data set with the extreme\n",
        "value. See how they’re pretty similar?\n",
        "\n",
        "The dashed lines indicate the mean of each data set. It becomes evident\n",
        "how the mean shifts due to just one extreme value, showcasing the\n",
        "sensitivity of the mean to outliers.\n",
        "\n",
        "In conclusion, the mean is particularly susceptible to extremes in a\n",
        "data set. This sensitivity is a primary reason why, in skewed\n",
        "distributions or when outliers are suspected, one might also consider\n",
        "other metrics of central tendency, like the median, which remains robust\n",
        "in the presence of extreme values. To deal with this potential issue, we\n",
        "naturally move onto other measures of central tendency.\n",
        "\n",
        "## The Median\n",
        "\n",
        "The **median** is, quite literally, the **middle** of an ordered\n",
        "sequence. The idea of centrality with the Median is to essentially order\n",
        "the data set, be it in an ascending or a descending order, and then\n",
        "dividing the data set in half. However, one of the characteristics that\n",
        "makes the Median important is that it allows us to deal with the very\n",
        "problem that we just elaborated on about the Mean. It is resilient to\n",
        "outliers or the extreme values in the data.\n",
        "\n",
        "It provides a central location of your dataset. For a symmetrical\n",
        "dataset, the mean and median will be the same. However, for a skewed\n",
        "dataset, the median will lie closer to the bulk of the data, making it a\n",
        "more representative metric.\n",
        "\n",
        "To calculate the Median, you arrange data in ascending (or descending)\n",
        "order. Let $n$ be the number of data points. If $n$ is odd, then:\n",
        "\n",
        "$$\n",
        "\\text{Median} = \\frac{n+1}{2}\\text{th data point}\n",
        "$$\n",
        "\n",
        "Otherwise,\n",
        "\n",
        "$$\n",
        "\\text{Median}  = \\frac{1}{2} \\cdot [\\frac{n}{2}\\text{th data point} + (\\frac{n}{2} + 1)\\text{th data point}]\n",
        "$$\n",
        "\n",
        "Not nice! On the other hand, in R, computing the median is\n",
        "straightforward using the built-in `median()` function.\n",
        "\n",
        "Using the Fertility column of the swiss dataset as an example:"
      ],
      "id": "b7443000-518b-47e9-bee8-88f71444d86d"
    },
    {
      "cell_type": "code",
      "execution_count": null,
      "metadata": {},
      "outputs": [],
      "source": [
        "# Calculating the median\n",
        "median_fertility <- median(swiss$Fertility)\n",
        "median_fertility"
      ],
      "id": "fbecbdfe-bc6d-4f7c-b455-6bbf47bc5f00"
    },
    {
      "cell_type": "markdown",
      "metadata": {},
      "source": [
        "To further visualize where the median lies in relation to the data:"
      ],
      "id": "fef9a69a-12e3-4cb3-8397-0b68b97cc729"
    },
    {
      "cell_type": "code",
      "execution_count": null,
      "metadata": {},
      "outputs": [],
      "source": [
        "# Plotting the data and highlighting the median\n",
        "\n",
        "fertility_plot <- ggplot(swiss, aes(x=Fertility)) + \n",
        "  geom_histogram(binwidth=2, fill=\"lightgray\", color=\"black\", alpha=0.7) + \n",
        "  geom_vline(aes(xintercept=median_fertility), color=\"red\", linetype=\"dashed\", size=1) +\n",
        "  labs(title=\"Median Fertility Rate Across Swiss Cantons\", x=\"Fertility Rate\") +\n",
        "  annotate(\"text\", x = median_fertility + 10, y=8, label = paste(\"Median:\", round(median_fertility, 2)), color=\"red\")\n",
        "\n",
        "fertility_plot"
      ],
      "id": "73a4e994-ae59-46d3-abcb-db4d3ab72d7c"
    },
    {
      "cell_type": "markdown",
      "metadata": {},
      "source": [
        "Finally, to bring this concept home, let’s repeat this exercise with the\n",
        "`Education` variable:"
      ],
      "id": "d22028e5-fe94-4e4e-98c9-f13a434a44e8"
    },
    {
      "cell_type": "code",
      "execution_count": null,
      "metadata": {},
      "outputs": [],
      "source": [
        "# Calculating the median\n",
        "median_education <- median(swiss$Education)\n",
        "median_education"
      ],
      "id": "37fa8820-3b76-4676-979c-d7a9a1b41ba1"
    },
    {
      "cell_type": "markdown",
      "metadata": {},
      "source": [
        "To further visualize where the median lies in relation to the data:"
      ],
      "id": "b4d43556-d927-448c-8f0f-53838fc52edb"
    },
    {
      "cell_type": "code",
      "execution_count": null,
      "metadata": {},
      "outputs": [],
      "source": [
        "# Plotting the data and highlighting the median\n",
        "\n",
        "education_plot + \n",
        "  geom_hline(aes(yintercept = median_education), color=\"red\", linetype=\"dashed\", size=1) +\n",
        "  labs(title=\"Median Education Rate Across Swiss Cantons\", x=\"Education Rate\") +\n",
        "  annotate(\"text\", y = median_education + 2, x=8, label = paste(\"Median:\", round(median_education, 2)), color=\"red\")"
      ],
      "id": "b9b1f581-075b-486c-8d00-2767d7eb00ed"
    },
    {
      "cell_type": "markdown",
      "metadata": {},
      "source": [
        "### Outlier Robustness\n",
        "\n",
        "One important property of the median is that it is **robust to\n",
        "outliers**, unlike the mean. This makes sense, since it only has to do\n",
        "with the *rank* of observations: it doesn’t matter how high the highest\n",
        "value is, or how low the lowest value is.\n",
        "\n",
        "We can see this with our `swiss` education situation before. Try it!"
      ],
      "id": "09382673-1454-45d7-9292-90139ac72a47"
    },
    {
      "cell_type": "code",
      "execution_count": null,
      "metadata": {},
      "outputs": [],
      "source": [
        "# compute the median for education in the original data\n",
        "\n",
        "original_median <- ...(swiss$Education)\n",
        "original_median\n",
        "\n",
        "median_with_extreme <- ...(...)\n",
        "median_with_extreme"
      ],
      "id": "84a5b285-91a8-4181-a760-6c80adee5cff"
    },
    {
      "cell_type": "markdown",
      "metadata": {},
      "source": [
        "What do you see? If you want, try changing that extreme value (`1000`)\n",
        "to other values. Does it make a difference?\n",
        "\n",
        "## Mode\n",
        "\n",
        "The **mode** refers to the value(s) that **appears most frequently** in\n",
        "a data set. This stands in contrast to other measures like the mean,\n",
        "which gives an average, or the median, which provides a midpoint.\n",
        "\n",
        "The beauty of the mode is its *versatility*. It’s relevant for both\n",
        "numeric data sets and qualitative data. This means that the mode can be\n",
        "used to gauge whether a value, such as `5`, appears with the greatest\n",
        "frequency in a data set, as well as if a category like `\"Female\"` or\n",
        "`\"University Graduate\"` appears with the greatest frequency.\n",
        "\n",
        "However, this is also the problem with mode. A data set’s relationship\n",
        "with mode can be quite complicated.\n",
        "\n",
        "-   It might not have a mode if no value repeats…\n",
        "-   be **uni-modal** if one value dominates in frequency…\n",
        "-   **bi-modal** if two values tie in their recurrence…\n",
        "-   or even **multimodal** if multiple values share the highest\n",
        "    frequency.\n",
        "\n",
        "In R, we can calculate the mode without relying on external packages,\n",
        "since unlike the `mean` or the `median` function, there is no `mode`\n",
        "function. But mode is so simple, we can create one ourselves.\n",
        "\n",
        "Consider a function that first creates a frequency table of the data set\n",
        "in question. It then identifies the maximum frequency from this table.\n",
        "Using this frequency, it’s possible to extract the modes, which are the\n",
        "values that appear with this maximum frequency. Here’s how it might\n",
        "look:"
      ],
      "id": "733b2218-f035-4ffd-8234-a460f9d10abb"
    },
    {
      "cell_type": "code",
      "execution_count": null,
      "metadata": {},
      "outputs": [],
      "source": [
        "calculate_mode <- function(x) {\n",
        "  # Tabulating frequencies of each value in the dataset\n",
        "  freq_table <- table(x)\n",
        "  \n",
        "  # Determining the maximum frequency\n",
        "  max_freq <- max(freq_table)\n",
        "  \n",
        "  # Pinpointing the values (modes) that correspond to the maximum frequency\n",
        "  modes <- as.numeric(names(freq_table[freq_table == max_freq]))\n",
        "  \n",
        "  return(modes)\n",
        "}\n",
        "\n",
        "# Applying the function on the 'Education' column from the 'swiss' dataset\n",
        "modes_education <- calculate_mode(swiss$Education)\n",
        "\n",
        "modes_education"
      ],
      "id": "81cde0f4-c007-4200-a8de-38ea58c27afd"
    },
    {
      "cell_type": "markdown",
      "metadata": {},
      "source": [
        "Therefore, as our function correctly interprets, the Mode for the\n",
        "Education variable is 7. This means that among the cantons, a lot of\n",
        "them have 7% draftees who are educated above the primary school level.\n",
        "\n",
        "## Getting All of Central Tendency Together\n",
        "\n",
        "To truly appreciate the nature of a data set, it’s beneficial to look at\n",
        "the mode in tandem with other measures like the mean and median.\n",
        "Together, these metrics provide a fuller, more nuanced picture of the\n",
        "data’s central tendency. By superimposing our histogram with lines\n",
        "symbolizing the mean (blue), median (red), and mode (green), we create a\n",
        "tapestry that visually harmonizes the data’s spread with its central\n",
        "measures."
      ],
      "id": "12480c13-b349-40a2-9b4c-4b4ed2c2fe20"
    },
    {
      "cell_type": "code",
      "execution_count": null,
      "metadata": {},
      "outputs": [],
      "source": [
        "ggplot(swiss, aes(x = Education)) + \n",
        "  geom_histogram(binwidth = 2, fill=\"lightgray\", color=\"black\", alpha=0.7) + \n",
        "  geom_vline(aes(xintercept = mean_education), color=\"blue\", linetype=\"dashed\", size=1) +\n",
        "  geom_vline(aes(xintercept = median_education), color=\"red\", linetype=\"dashed\", size=1) +\n",
        "  geom_vline(aes(xintercept = modes_education), color=\"green\", linetype=\"dashed\", size=1) +\n",
        "  labs(title=\"Median Education Rate Across Swiss Cantons\", x=\"Education Rate\")"
      ],
      "id": "b77f4593-c1bf-404a-b452-545d3be855ec"
    },
    {
      "cell_type": "markdown",
      "metadata": {},
      "source": [
        "See the relationship? We can also do this in a table using the\n",
        "`summarize` function:"
      ],
      "id": "45017357-ab7d-4f9a-a3fc-b6cfd040a616"
    },
    {
      "cell_type": "code",
      "execution_count": null,
      "metadata": {},
      "outputs": [],
      "source": [
        "swiss %>%\n",
        "  summarize(\n",
        "    mean = mean(Education),\n",
        "    median = median(Education),\n",
        "    mode = calculate_mode(Education)\n",
        "  )"
      ],
      "id": "6ca33954-c984-4148-8591-8bb3619d4394"
    },
    {
      "cell_type": "markdown",
      "metadata": {},
      "source": [
        "This is called a **table of descriptive statistics** and is an important\n",
        "tool for any economist.\n",
        "\n",
        "### Try it Yourself!\n",
        "\n",
        "As a final check, why don’t you make a nice table of the same results\n",
        "for Fertility, as well?"
      ],
      "id": "80fdd104-8eed-4667-b6fc-c3e66f98dcce"
    },
    {
      "cell_type": "code",
      "execution_count": null,
      "metadata": {},
      "outputs": [],
      "source": [
        "swiss %>%\n",
        "  summarize(\n",
        "    ...\n",
        "  )"
      ],
      "id": "1be503be-41b8-4667-b677-c1e6c7cc1d68"
    },
    {
      "cell_type": "markdown",
      "metadata": {},
      "source": [
        "What do you see?"
      ],
      "id": "468d6c64-b28b-4077-943e-f4aff1498ed3"
    }
  ],
  "nbformat": 4,
  "nbformat_minor": 5,
  "metadata": {
    "kernelspec": {
      "name": "ir",
      "display_name": "R",
      "language": "r"
    }
  }
}