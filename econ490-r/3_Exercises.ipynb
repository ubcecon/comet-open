{
 "cells": [
  {
   "cell_type": "markdown",
   "id": "78dd54a3-3a86-46a6-b68f-2dc8bdd9e693",
   "metadata": {},
   "source": [
    "# ECON 490: R Essentials (3) - Exercises\n",
    "Before you start, run the code cell below to import the packages needed for this notebook, as well as the file needed to check your answers to the succeeding problems."
   ]
  },
  {
   "cell_type": "code",
   "execution_count": 13,
   "id": "7995dc09-d5c4-436d-bc25-556aadc8f271",
   "metadata": {},
   "outputs": [
    {
     "name": "stderr",
     "output_type": "stream",
     "text": [
      "Warning message:\n",
      "“package ‘testthat’ was built under R version 4.1.3”\n",
      "\n",
      "Attaching package: ‘testthat’\n",
      "\n",
      "\n",
      "The following object is masked from ‘package:dplyr’:\n",
      "\n",
      "    matches\n",
      "\n",
      "\n",
      "The following object is masked from ‘package:purrr’:\n",
      "\n",
      "    is_null\n",
      "\n",
      "\n",
      "The following objects are masked from ‘package:readr’:\n",
      "\n",
      "    edition_get, local_edition\n",
      "\n",
      "\n",
      "The following object is masked from ‘package:tidyr’:\n",
      "\n",
      "    matches\n",
      "\n",
      "\n"
     ]
    }
   ],
   "source": [
    "source(\"3_Exercises_tests.r\")"
   ]
  },
  {
   "cell_type": "code",
   "execution_count": 2,
   "id": "69dc4479-01d6-48f7-8e3b-9726939129c9",
   "metadata": {},
   "outputs": [
    {
     "name": "stderr",
     "output_type": "stream",
     "text": [
      "Warning message:\n",
      "“package ‘haven’ was built under R version 4.1.3”\n",
      "── \u001b[1mAttaching packages\u001b[22m ─────────────────────────────────────── tidyverse 1.3.1 ──\n",
      "\n",
      "\u001b[32m✔\u001b[39m \u001b[34mggplot2\u001b[39m 3.3.6     \u001b[32m✔\u001b[39m \u001b[34mpurrr  \u001b[39m 0.3.4\n",
      "\u001b[32m✔\u001b[39m \u001b[34mtibble \u001b[39m 3.1.8     \u001b[32m✔\u001b[39m \u001b[34mdplyr  \u001b[39m 1.0.9\n",
      "\u001b[32m✔\u001b[39m \u001b[34mtidyr  \u001b[39m 1.2.0     \u001b[32m✔\u001b[39m \u001b[34mstringr\u001b[39m 1.4.0\n",
      "\u001b[32m✔\u001b[39m \u001b[34mreadr  \u001b[39m 2.1.2     \u001b[32m✔\u001b[39m \u001b[34mforcats\u001b[39m 0.5.1\n",
      "\n",
      "Warning message:\n",
      "“package ‘ggplot2’ was built under R version 4.1.3”\n",
      "Warning message:\n",
      "“package ‘tidyr’ was built under R version 4.1.2”\n",
      "Warning message:\n",
      "“package ‘readr’ was built under R version 4.1.2”\n",
      "Warning message:\n",
      "“package ‘dplyr’ was built under R version 4.1.3”\n",
      "── \u001b[1mConflicts\u001b[22m ────────────────────────────────────────── tidyverse_conflicts() ──\n",
      "\u001b[31m✖\u001b[39m \u001b[34mdplyr\u001b[39m::\u001b[32mfilter()\u001b[39m masks \u001b[34mstats\u001b[39m::filter()\n",
      "\u001b[31m✖\u001b[39m \u001b[34mdplyr\u001b[39m::\u001b[32mlag()\u001b[39m    masks \u001b[34mstats\u001b[39m::lag()\n",
      "\n"
     ]
    }
   ],
   "source": [
    "library(haven)\n",
    "library(tidyverse)"
   ]
  },
  {
   "cell_type": "markdown",
   "id": "b515e949-3979-4c7b-9f0f-514b61699ed3",
   "metadata": {},
   "source": [
    "## Exercise 1\n",
    "\n",
    "Use the object \"continents\" below to answer this question."
   ]
  },
  {
   "cell_type": "code",
   "execution_count": 14,
   "id": "e28ab57f-28c9-4db1-9bb0-711ee54d3111",
   "metadata": {},
   "outputs": [],
   "source": [
    "continents <- c(\"Africa\", \"Europe\", \"Asia\", \"Australia\", \"North America\", \"South America\", \"Antarctica\")"
   ]
  },
  {
   "cell_type": "markdown",
   "id": "48807659-15eb-44d9-845f-7b645949a23d",
   "metadata": {},
   "source": [
    "## Exercise 2\n",
    "\n",
    "Use the object \"party_attendance\" to answer the following questions."
   ]
  },
  {
   "cell_type": "code",
   "execution_count": 29,
   "id": "f07d105d-e951-43a5-a15c-760de31a049e",
   "metadata": {},
   "outputs": [],
   "source": [
    "people <- c(\"John\", \"Jack\", \"Jane\", \"Joseph\")\n",
    "food <- c(\"chips\", \"vegetables\", \"cookies\", \"fruit\")\n",
    "times <- c(8, 10, 11, 9)\n",
    "\n",
    "party_attendance <- data.frame(Person = people, Food_Brought = food, Time_Left = times)"
   ]
  },
  {
   "cell_type": "code",
   "execution_count": 33,
   "id": "d9893287-eb6f-4680-b6cc-1271530c9103",
   "metadata": {},
   "outputs": [
    {
     "data": {
      "text/html": [
       "<table class=\"dataframe\">\n",
       "<caption>A data.frame: 1 × 3</caption>\n",
       "<thead>\n",
       "\t<tr><th></th><th scope=col>Person</th><th scope=col>Food_Brought</th><th scope=col>Time_Left</th></tr>\n",
       "\t<tr><th></th><th scope=col>&lt;chr&gt;</th><th scope=col>&lt;chr&gt;</th><th scope=col>&lt;dbl&gt;</th></tr>\n",
       "</thead>\n",
       "<tbody>\n",
       "\t<tr><th scope=row>2</th><td>Jack</td><td>vegetables</td><td>10</td></tr>\n",
       "</tbody>\n",
       "</table>\n"
      ],
      "text/latex": [
       "A data.frame: 1 × 3\n",
       "\\begin{tabular}{r|lll}\n",
       "  & Person & Food\\_Brought & Time\\_Left\\\\\n",
       "  & <chr> & <chr> & <dbl>\\\\\n",
       "\\hline\n",
       "\t2 & Jack & vegetables & 10\\\\\n",
       "\\end{tabular}\n"
      ],
      "text/markdown": [
       "\n",
       "A data.frame: 1 × 3\n",
       "\n",
       "| <!--/--> | Person &lt;chr&gt; | Food_Brought &lt;chr&gt; | Time_Left &lt;dbl&gt; |\n",
       "|---|---|---|---|\n",
       "| 2 | Jack | vegetables | 10 |\n",
       "\n"
      ],
      "text/plain": [
       "  Person Food_Brought Time_Left\n",
       "2 Jack   vegetables   10       "
      ]
     },
     "metadata": {},
     "output_type": "display_data"
    }
   ],
   "source": [
    "party_attendance[2, ]"
   ]
  },
  {
   "cell_type": "code",
   "execution_count": null,
   "id": "dce1199e-cefd-4e1e-8d5b-d33a18d9018d",
   "metadata": {},
   "outputs": [],
   "source": []
  }
 ],
 "metadata": {
  "kernelspec": {
   "display_name": "R",
   "language": "R",
   "name": "ir"
  },
  "language_info": {
   "codemirror_mode": "r",
   "file_extension": ".r",
   "mimetype": "text/x-r-source",
   "name": "R",
   "pygments_lexer": "r",
   "version": "4.1.1"
  }
 },
 "nbformat": 4,
 "nbformat_minor": 5
}
