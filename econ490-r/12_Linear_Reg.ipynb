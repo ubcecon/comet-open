{
 "cells": [
  {
   "cell_type": "markdown",
   "id": "a30a7461",
   "metadata": {
    "tags": []
   },
   "source": [
    "# ECON 490: Regression Analysis (12)\n",
    "\n",
    "## Prerequisites \n",
    "---\n",
    "1. Econometric approaches to linear regression taught in ECON 326.\n",
    "2. Importing data into R.\n",
    "3. Creating new variables in R.\n",
    "\n",
    "## Learning objectives:\n",
    "---\n",
    "\n",
    "1. Implement the econometric theory for linear regressions learned in ECON 326.\n",
    "2. Run simple univariate and multivariate regressions using the command `lm()`.\n",
    "3. Understand the interpretation of the coefficients in linear regression output.\n",
    "4. Consider the quality of control variables in a proposed model.\n"
   ]
  },
  {
   "cell_type": "markdown",
   "id": "5315959f-8d75-4403-999b-e60343ab9b74",
   "metadata": {},
   "source": [
    "## 12.1 A Word of Caution Before We Begin\n",
    "\n",
    "Before conducting a regression analysis, a great deal of work must go into understanding the data and investigating the theoretical relationships between variables. The biggest mistake that students make at this stage is not how they run the regression analysis, it is failing to spend enough time preparing data for analysis. \n",
    "- A variable that is qualitative and not ranked cannot be used in an OLS regression without first creating a dummy variable(or a series of dummy variables). Examples of variables that must always be included as dummy variables are sex, race, religiosity, immigration status, and marital status. Examples of variables that are sometimes included as dummy variables are education, income and age. \n",
    "- You will want to take a good look to see how your variables are coded before you begin run regressions and interpreting the results. Make sure that missing values are coded a \".\" and not some value (such as \"99\"). Also, check that qualitative ranked variables are coded in the way you expect (e.g. higher education is coded with a larger number). If you do not do this you could be misinterpreting your results.\n",
    "- Some samples are not proper representations of the population and must be weighted accordingly (we will deal with this in depth later).\n",
    "- You should always think about the theoretical relationship between your variables before you start your regression analysis: Does economic theory predict a linear relationship? Independence between explanatory terms, or is there possibly an interaction?\n"
   ]
  },
  {
   "cell_type": "markdown",
   "id": "fe6e0e94",
   "metadata": {},
   "source": [
    "## 12.2 Linear Regression Models \n",
    "\n",
    "Understanding how to run a well structured OLS regression and how to interpret the results of that regression are the most important skills for undertaking empirical economic analysis. You have acquired a solid understanding of the theory behind the OLS regression in ECON 326; keep this in mind throughout your analysis. Here, we will cover the practical side of running regressions and, perhaps more importantly, how to interpret the results. \n",
    "\n",
    "An econometric model describes an equation (or set of equations) that impose some structure on how the data was generated. The most natural way to describe statistical information is the mean. Therefore, we typically model the mean of a (dependent) variable and how it can depend on different factors (independent variables or covariates). The easiest way to describe a relationship between a dependent variable, y, and one or more independent variables, x is linearly. \n",
    "\n",
    "Suppose we want to know what variables are needed to understand why and how earnings vary between each person in the world. What would be the measures needed to predict everyone's earnings?  \n",
    "\n",
    "Some explanatory variables might be:\n",
    "- Age \n",
    "- Year (e.g. macroeconomic shocks in that particular year)\n",
    "- Region (local determinants on earnings)\n",
    "- Hours worked\n",
    "- Education \n",
    "- Labor Market Experience\n",
    "- Industry / Occupation \n",
    "- Number of children\n",
    "- Level of productivity\n",
    "- Passion about their job\n",
    "- etc., etc., there are so many!\n",
    "\n",
    "For simplicity, lets assume we want to predict earnings but we only have access to datasets relating to people's age and earnings. If we want to generate a model that predicted the relationship between these two variables we could create a linear model where the dependent variable (y) would be annual earnings, the independent variable (x) would be age, the slope (m) would be how much an extra year of age affects earnings, and the y-intercept (b) would be earning when age is equal to 0. We would write this relationship as,\n",
    "\n",
    "$$ y = b +mx.$$\n",
    "\n",
    "We only have access to two variables, so we are unable to observe the rest of the variables (independent variables or covariates $X_{i}$) that might determine earnings. Even if we do not observe these variables they are still affecting earnings and our model above would have error; the values would diverge from the linear model. \n",
    "\n",
    "Where $\\beta_0$ is the y-intercept, $\\beta_1$ is the slope and $i$ indicates the worker observation in the data we have, \n",
    "\n",
    "$$ logearnings_{i} =\\beta_0 + \\beta_1 age_{i}  + u_{i}. \\tag{1}$$\n",
    "\n",
    "It's important to understand what $\\beta_0$ and $\\beta_1$ stand for in the linear model. We said above that we typically model the mean of a (dependent) variable and how it can depend on different factors (independent variables or covariates). Therefore we are in fact modeling the expected value of *earnings* conditional on the value of *age*. This is called the conditional expectation function or CEF. We assume that it takes the form of: \n",
    "\n",
    "$$  E[logearnings_{i}|age_{i}] =\\beta_0 + \\beta_1 \\beta_1 age_i \\tag{2} $$\n",
    "\n",
    "\n",
    "How do equations (1) and (2) relate? If you take an expectation given age on equation (1) you will notice that \n",
    "$$E[age_{i}|age_{i}]=age_{i}$$ \n",
    "and, this will leave us with\n",
    "$$E[u_{i}|age_{i}]=0.$$\n",
    "\n",
    "If $age=0$ then, $\\beta_1 \\times age=0$ and $$ E[logearnings_{i}|age_{i}=0]=\\beta_0 $$\n",
    "\n",
    "If $age=1$ then, $\\beta_1 \\times age=\\beta_1$ and $$ E[logearnings_{i}|age_{i}=1]=E[logearnings_{i}|age_{i}=0]+ \\beta_1$$\n",
    "\n",
    "Differencing the two equations above gives us the solution,\n",
    "\n",
    "$$ E[logearnings_{i}|age_{i}=1]- E[logearnings_{i}|age_{i}=0]= \\beta_1,$$ \n",
    "\n",
    "where $β_1$ is the difference in the expected value of *logearnings* when there is a one unit increase in *age*. If you choose any two values that differ by 1 unit you will also get $\\beta_1$ as the solution (try it yourself!).\n",
    "\n",
    "If we know those $β_1$s we can know a lot of information about the means of different set of workers. For instance, we can compute the mean log-earnings of 18 year old workers: \n",
    "\n",
    "$$ E[logearnings_{i} \\mid  age_{i}=18] = \\beta_0 + \\beta_1 \\times 18  $$\n",
    "\n",
    "\n",
    "This is the intuition that we should follow to interpret the coefficients! \n",
    "\n",
    "Consider a slightly more complicated example. \n",
    "    \n",
    "Let's assume there are only two regions in this world: region **A** and region **B**. In this world, we'll make it such that workers in region **B** earn $\\beta_1$ percentage points more than workers in region **A** on average. We are going to create a dummy variable called $region$ that takes the value of 1 if the worker's region is **B** and a value of 0 if the worker's region is **A**.\n",
    "\n",
    "Furthermore, an extra year of age increase earnings by $\\beta_2$ on average and we take the same approach with ever explanatory variable on the list above. The empirical economist (us!) only observes a subset of all these variables, which we call the observables or covariates $X_{it}$. Let's suppose that the empirical economist only observes the region and age of the workers.\n",
    "\n",
    "We could generate log-earnings of worker $i$ as follows.\n",
    "\n",
    "\\begin{align}\n",
    "logearnings_{i} &=  \\beta_1 \\{region_{i}=1\\} + \\beta_2 age_{i} + \\underbrace{ \\beta_3 education_{i} + \\beta_4 hours_{i} + \\dots }_{\\text{Unobservable, so we'll call this }u_{i}^*} \\\\\n",
    "&= E[logearnings_{i} \\mid region_{i}=0, age_{i}=0] + \\beta_1 \\{region_{i}=1\\} + \\beta_2 age_{i} + u_{i}^* - E[logearnings_{i} \\mid region_{i}=0, age_{i}=0] \\\\\\\\\\\n",
    "&= \\beta_0 + \\beta_1 \\{region_{i}=1\\} + \\beta_2 age_{i}  + u_{i}\n",
    "\\end{align}\n",
    "\n",
    "    \n",
    "In the second line we did one of the most powerful tricks in all mathematics: add and substract the same term! The term we chose was the mean earnings for those who are in region **A** and age equal to zero, i.e., we \"turn-off\"  the effect of the covariates. This term is the interpretation of the constant in our linear model. The re-defined unobservable term is a deviation from such mean, which we expect to be zero on average. \n",
    "\n",
    "\n",
    "So far we have made an assumption at the population level. Remember that to know the CEF we need to know the true betas, which in turn depend on the joint distribution of the outcome ($Y_i$) and covariates ($X_i$). However, in practice, we are given a random sample where we can compute average instead of expectations, and empirical distributions instead of the true distributions. We can use these in a formula (also known as an estimator!) to obtain a reasonable guess of the true $\\beta$s. For a given sample, the numbers that are thrown by the estimator or formula are known as estimates. One of the most powerful estimators out there is the Ordinary Least Squares Estimator (OLS).\n",
    "\n",
    "\n",
    "</div>\n"
   ]
  },
  {
   "cell_type": "markdown",
   "id": "856d2fe6",
   "metadata": {
    "tags": []
   },
   "source": [
    "## 12.3 Ordinary Least Squares\n",
    "\n",
    "If we are given some dataset and we have to find the unknown $\\beta$s, the most common and powerful tool is known as OLS. Continuing with the example above, let all the observations be indexed by $j=1,2,\\dots, n$. Let $$\\hat{β_0}, \\hat{β_1},\\hat{β_2}$$ be the estimators of $$β_0, β_1, β_2.$$ The formula or estimator will return some values that wil give rise to a sample version of the population model: \n",
    "\n",
    "$$ logearnings_{j} = b_0 + b_1\\{region_{j}=1\\} + b_2 age_{j}  + \\hat{u_{j}}, $$\n",
    "\n",
    "where $u_j$ is the true error in the population, and $ \\hat{u_{j}}$ is called a residual (the sample version of the error given the current estimates). OLS finds the values of $\\hat{β}$s  that minimize the sum of squared residuals. This is given by the following minimization problem:\n",
    "$$ \\min_{b} \\frac{1}{n} \\sum_{j}^n \\hat{u}_{j}^2$$ This expression can also be written as,\n",
    "\n",
    "$$ \\min_{b} \\frac{1}{n} \\sum_{j}^n (logearnings_{j} - b_0 - b_1 \\{region_{j}=1\\} - b_2age_{j} )^2 $$\n",
    "\n",
    "OLS is minimizing the squared residuals (the sample version of the error term) given our data. This minimization problem can be solved using calculus, specifically the derivative chain rule. The first order conditions are given by : \n",
    "\n",
    "\\begin{align}\n",
    "\\frac{1}{n} \\sum_{j}^n 1 \\times \\hat{u}_{j} &= 0  \\\\\n",
    "\\frac{1}{n} \\sum_{j}^n age_i \\times \\hat{u}_{j} &= 0  \\\\\n",
    "\\frac{1}{n} \\sum_{j}^n \\{region_i = B\\} \\times \\hat{u}_{j} &= 0 \n",
    "\\end{align}\n",
    "\n",
    "From these first order conditions we construct the most important restrictions for OLS: \n",
    "\n",
    "$$\\frac{1}{n} \\sum_{j}^n \\hat{u}_j = \\frac{1}{n} \\sum_{j}^n \\hat{u}_j \\times  age_j=\\frac{1}{n} \\sum_{j}^n \\hat{u}_j\\times\\{region_j = 1\\}=0$$\n",
    "\n",
    "In other words, by construction, the sample version of our error term will be uncorrelated with all the covariates. The constant term works the same way as including a variable equal to 1 in the regression (try it yourself!).\n",
    "\n",
    "Notice that the formula for $β_0, β_1, β_2$ (the true values!) is using these conditions but we replace expectation instead of sample averages. This is obviously an infeasible approach since we argued before that we need to know the true joint distribution of the variables to compute such expectations. As a matter of fact, many useful estimators rely on this approach: replace an expectation by a sample average, which is called the sample analogue approach.\n",
    "\n",
    "\n",
    "<div class=\"alert alert-info\">\n",
    "\n",
    "\n",
    "**Note:** Because this is an optimization problem, all of our variables must be numeric. If a variable is categorical we must be able to re-code it into a numerical variable. You will understand more about this after completing our next module. \n",
    "    \n",
    "</div>\n",
    "\n"
   ]
  },
  {
   "cell_type": "markdown",
   "id": "ba5dd241",
   "metadata": {
    "tags": []
   },
   "source": [
    "## 12.4 Ordinary Least Squares Regressions with R \n",
    "\n",
    "For this module we will be using the fake data dataset. Recall that this data is simulating information of workers in the years 1982-2012 in a fake country where a training program was introduced in 2003 to boost their earnings. "
   ]
  },
  {
   "cell_type": "code",
   "execution_count": 1,
   "id": "b20a010f-7c32-4c19-b8e0-de3ded4365c4",
   "metadata": {
    "tags": []
   },
   "outputs": [
    {
     "name": "stderr",
     "output_type": "stream",
     "text": [
      "Warning message in system(\"timedatectl\", intern = TRUE):\n",
      "“running command 'timedatectl' had status 1”\n",
      "── \u001b[1mAttaching packages\u001b[22m ─────────────────────────────────────── tidyverse 1.3.1 ──\n",
      "\n",
      "\u001b[32m✔\u001b[39m \u001b[34mggplot2\u001b[39m 3.3.5     \u001b[32m✔\u001b[39m \u001b[34mpurrr  \u001b[39m 0.3.4\n",
      "\u001b[32m✔\u001b[39m \u001b[34mtibble \u001b[39m 3.1.6     \u001b[32m✔\u001b[39m \u001b[34mdplyr  \u001b[39m 1.0.7\n",
      "\u001b[32m✔\u001b[39m \u001b[34mtidyr  \u001b[39m 1.2.0     \u001b[32m✔\u001b[39m \u001b[34mstringr\u001b[39m 1.4.0\n",
      "\u001b[32m✔\u001b[39m \u001b[34mreadr  \u001b[39m 2.1.2     \u001b[32m✔\u001b[39m \u001b[34mforcats\u001b[39m 0.5.1\n",
      "\n",
      "── \u001b[1mConflicts\u001b[22m ────────────────────────────────────────── tidyverse_conflicts() ──\n",
      "\u001b[31m✖\u001b[39m \u001b[34mdplyr\u001b[39m::\u001b[32mfilter()\u001b[39m masks \u001b[34mstats\u001b[39m::filter()\n",
      "\u001b[31m✖\u001b[39m \u001b[34mdplyr\u001b[39m::\u001b[32mlag()\u001b[39m    masks \u001b[34mstats\u001b[39m::lag()\n",
      "\n",
      "\u001b[1mRows: \u001b[22m\u001b[34m2\u001b[39m \u001b[1mColumns: \u001b[22m\u001b[34m1\u001b[39m\n",
      "\n",
      "\u001b[36m──\u001b[39m \u001b[1mColumn specification\u001b[22m \u001b[36m────────────────────────────────────────────────────────\u001b[39m\n",
      "\u001b[1mDelimiter:\u001b[22m \",\"\n",
      "\u001b[31mchr\u001b[39m (1): version https://git-lfs.github.com/spec/v1\n",
      "\n",
      "\n",
      "\u001b[36mℹ\u001b[39m Use `spec()` to retrieve the full column specification for this data.\n",
      "\u001b[36mℹ\u001b[39m Specify the column types or set `show_col_types = FALSE` to quiet this message.\n",
      "\n"
     ]
    },
    {
     "name": "stdout",
     "output_type": "stream",
     "text": [
      "Rows: 2\n",
      "Columns: 1\n",
      "$ `version https://git-lfs.github.com/spec/v1` \u001b[3m\u001b[90m<chr>\u001b[39m\u001b[23m \"oid sha256:d50653466eb0d…\n"
     ]
    }
   ],
   "source": [
    "#Clear the memory from any pre-existing objects\n",
    "rm(list=ls())\n",
    "\n",
    "# loading in our packages\n",
    "library(tidyverse) #This includes ggplot2! \n",
    "library(haven)\n",
    "library(IRdisplay)\n",
    "\n",
    "#Open the dataset \n",
    "fake_data <- read_csv(\"../econ490-stata/fake_data.csv\")  #change me!\n",
    "\n",
    "# inspecting the data\n",
    "glimpse(fake_data)"
   ]
  },
  {
   "cell_type": "markdown",
   "id": "e2360b57-2b3b-4d3c-af88-5393fe8b578e",
   "metadata": {},
   "source": [
    "### 12.4.1 Univariate Regressions\n",
    "\n",
    "To run a linear regression using OLS we use the command `lm()`. The basic syntax of the command is\n",
    "\n",
    "```R\n",
    "lm(data=dataset_name, dep_varname ~ indep_varnames)\n",
    "```\n",
    "You can look at the help file to look at the different options that this command provides. \n",
    "\n",
    "Let's start by creating a new variable that is the natural log of earnings and then run our regression. "
   ]
  },
  {
   "cell_type": "code",
   "execution_count": 2,
   "id": "5c16bd09",
   "metadata": {
    "scrolled": true
   },
   "outputs": [],
   "source": [
    "fake_data <- fake_data %>%\n",
    "        mutate(log_earnings = log(earnings)) #the log function"
   ]
  },
  {
   "cell_type": "code",
   "execution_count": 4,
   "id": "1adfde0a",
   "metadata": {},
   "outputs": [
    {
     "data": {
      "text/plain": [
       "\n",
       "Call:\n",
       "lm(formula = log_earnings ~ age + region, data = fake_data)\n",
       "\n",
       "Coefficients:\n",
       "(Intercept)          age       region  \n",
       "  9.9988502    0.0140839    0.0009495  \n"
      ]
     },
     "metadata": {},
     "output_type": "display_data"
    }
   ],
   "source": [
    "lm(data=fake_data, log_earnings ~ age)"
   ]
  },
  {
   "cell_type": "markdown",
   "id": "aa540c37",
   "metadata": {},
   "source": [
    "By default R includes a constant (which is usually what we want, since this will make that residuals are 0 on average). The estimated coefficients are $\\hat{\\beta}_0 = 10.014$ and $\\hat{\\beta}_1 = 0.014$.  Notice that we only included one covariate here, which is known as univariate (linear) regression. \n",
    "\n",
    "The interpretation in univariate regression is fairly simple, $\\hat{\\beta}_1$ says that having one extra year of age increases earnings by $0.014$ in log earning. In other words, one extra year gives 1.4 percentage points higher earnings. \n"
   ]
  },
  {
   "cell_type": "markdown",
   "id": "e03c87fe",
   "metadata": {},
   "source": [
    "### 12.4.2 Multivariate Regression\n",
    "\n",
    "The command `lm()` also allows us to list multiple covariates. When we want to carry out a multivariate regression we write, \n",
    "```R\n",
    "lm(data=dataset_name, dep_varname ~ indep_varname1 + indep_varname2 + ... )\n",
    "```\n",
    "and so on."
   ]
  },
  {
   "cell_type": "code",
   "execution_count": 7,
   "id": "3309a9cc",
   "metadata": {},
   "outputs": [
    {
     "data": {
      "text/plain": [
       "\n",
       "Call:\n",
       "lm(formula = log_earnings ~ age + treated, data = fake_data)\n",
       "\n",
       "Coefficients:\n",
       "(Intercept)          age      treated  \n",
       "  10.646445     0.006083    -0.817872  \n"
      ]
     },
     "metadata": {},
     "output_type": "display_data"
    }
   ],
   "source": [
    "lm(data=fake_data, log_earnings ~ age + treated )"
   ]
  },
  {
   "cell_type": "markdown",
   "id": "bf77d95d",
   "metadata": {},
   "source": [
    "How would we interpt the coefficient corresponding to being treated? Consider the following two comparisons: \n",
    "\n",
    "- Mean log earnings of treated workers of 18 years old minus the mean log earnings of untreated workers of 18 years old = $\\beta_2$. \n",
    "- Mean log earnings of treated workers of 20 years old minus the mean log earnings of untreated workers of 20 years old = $\\beta_2$. \n",
    "- and so on. \n",
    "\n",
    "\n",
    "Therefore, the coefficient gives the increase in log earnings between treated and untreated among workers *with the same other characteristics*. We economists usually refer to this as $\\textit{ceteris paribus}$."
   ]
  },
  {
   "cell_type": "markdown",
   "id": "a8e3c686",
   "metadata": {},
   "source": [
    "The second column shows the standard errors. Using those we can compute the third column which is testing that the coefficient is equal to zero: \n",
    "\n",
    "$$ t = \\frac{ \\hat{\\beta} - 0 }{StdErr} $$\n",
    "\n",
    "If the t-statistic is roughly greater than 2 in absolute value, we reject the null hypothesis that there is no effect. This would mean that the data supports the hypothesis that the variable in question has some effect on earnings at a confidence level of 95%. \n",
    "\n",
    "An alternative test can be performed using the p-value statistic: if the p-value is less than 0.05 we reject the null hypothesis at 95% confidence level.\n",
    "\n",
    "<div class=\"alert alert-info\">\n",
    "\n",
    "**Note:** Without statisical significance we cannot reject the null hypothesis and have no choice but to conclude that the coefficient is zero. \n",
    "\n",
    "</div>\n"
   ]
  },
  {
   "cell_type": "markdown",
   "id": "5825e60b-7b0e-4279-b807-76b23a08a8c7",
   "metadata": {},
   "source": [
    "### 12.4.3 Sample Weights\n",
    "The data that is provided to us is often not statistically representative of the  population as a whole. This is because the agencies that collect data (like Statistics Canada) often decide to over-sample some segments of the population. They do this to ensure that there is a large enough sample size of subgroups of the population to conduct meaningful statistical analysis of those sub-populations. For example, the population of Indigenous identity in Canada accounts for approximately 5% of the total population. If we took a representative sample of 10,000 Canadians, there would only be 500 people who identified as Indigenous in the sample. \n",
    "\n",
    "This creates two problems. The first is that this is is not a large enough sample to undertake any meaningful analysis of characteristics of the Indigenous population in Canada. The second is that when the sample is this this small, it might be possible for researchers to identify individuals in data. This would be extremely unethical, and Stats Canada works hard to make sure that data remains anonymized. \n",
    "\n",
    "To resolve this issue, Statistics Canada over-samples people of Indigenous identity when they collect data. For example, they might survey 1000 people of Indigenous identity so that those people now account for 10% of observations in the sample. This would allow researchers who want to specifically look at the experiences of Indigenous people to conduct reliable research, and maintain the anonymity of the individuals represented by the data. \n",
    "\n",
    "When we use this whole sample of 10,000, however, the data is no longer nationally representative since it overstates the share of the population of Indigenous identity - 10% instead of 5%. This sounds like a complex problem to resolve, but the solution is provided by the statistical agency that created the data in the form of \"sample weights\" that can be used to recreate data that is nationally representative.\n",
    "\n",
    "<div class=\"alert alert-info\">\n",
    "\n",
    "**Note**: Before applying any weights in your regression, it is important that you read the user guide that comes with your data to see how weights should be applied. There are several options for weights and you should never apply weights without first understanding the intentions of the authors of the data.\n",
    "    \n",
    "</div>\n",
    "    \n",
    "Our sample weights will be commonly coded as an additional variable in our data set such as *weight_pct*. To include the weights in regression analysis, we can simply include the following option immediately after our independent variable(s) in the `lm` function:\n",
    "```R\n",
    "    lm(data = data, y ~ x, weights = weight_pct)  \n",
    "```\n",
    "We can do that with the variable _sample_weight_ which is provided to us in the \"fake_data\" data set, re-running the regression of log earnings on age and treatment status from above."
   ]
  },
  {
   "cell_type": "code",
   "execution_count": null,
   "id": "abfaf6b2-4a2f-4ac1-b173-68c7669abd9d",
   "metadata": {},
   "outputs": [],
   "source": [
    "lm(data = fake_data, log_earnings ~ age + treated, weights = sample_weight)"
   ]
  },
  {
   "cell_type": "markdown",
   "id": "06e2a27d-e90e-423b-a660-52b18642f1a5",
   "metadata": {},
   "source": [
    "Often, after weighting our sample, the coefficients from our regression will change in magnitude. In these cases, there was some sub-sample of the population that was over-represented in the data and skewed the results of the unweighted regression.\n",
    "\n",
    "Finally, while this section described the use of weighted regressions, it is important to know that there are many times we might want to apply weights to our sample that have nothing to do with running regressions. For example, if we wanted to calculate the mean of a variable using data from a skewed sample, we would want to make sure to use the weighted mean. While `mean` is used in R to calculate means, R also has an incredibly useful command called `weighted.mean` which directly weights observations to calculate the weighted mean. Many packages exist which can calculate the weighted form of numerous other summary statistics."
   ]
  },
  {
   "cell_type": "markdown",
   "id": "3f96b4b2",
   "metadata": {},
   "source": [
    "## 12.5 What can we do with OLS? \n",
    "\n",
    "Notice that OLS gives us a linear approximation to the conditional mean of some dependent variable given some observables. We can use this information for prediction: if we had different observables how does the expected mean would differ? Another thing we could do with OLS is discuss causality: how does manipulating one variable impacts the dependent variable on average?\n",
    "\n",
    "To give a causal interpretation to our OLS estimates we require that in the population it holds that \n",
    "$\\mathbf{E}[X_i u_i] = 0$, the unobservables are uncorrelated to the independent variables of the equation (remember this is untestable because we cannot compute the expectations in practice!). If these unobservables are correlated to a independent variable it means the variable can be causing a change in the dependent variable because of a change in an unobservable rather than a change in the independent variable itself, making us unable to prove causality. This is also called an endogeneity problem. \n",
    "\n",
    "You might be tempted to think that we can test this using the sample version $\\frac{1}{n} \\sum_{j}^n  X_i u_i = 0$, but notice that from the first order conditions this is true by construction! It's by design a circular argument: we are assuming that it holds true when we compute the solution to OLS.\n",
    "\n",
    "For instance, if we want to interpret in the previous regression that the causal effect of being treated is equal to -0.81 it must be the case that treatment is not correlated (in the population sense) to the error term. However, it could be the case that treated workers are the ones that usually perform worse at their job, and that would invalidate a causal interpretation of our OLS estimates.\n",
    "\n",
    "- Good Controls: To think about good controls we need to consider which *unobserved* determinants of the outcome are possibly correlated to our variable of interest.\n",
    "    \n",
    "- Bad Controls: It is bad practice to include variables that are themselves outcomes. For instance, consider studying the causal effect of college on earnings. If we include a covariate of working at a high paying job, then we're blocking part of the causal channel between college and earnings, i.e. you are more likely to have a nice job if you study more years!\n",
    "    \n",
    "\n"
   ]
  },
  {
   "cell_type": "markdown",
   "id": "10c4a17c-e4bb-431a-8e08-57f6a36388d5",
   "metadata": {},
   "source": [
    "## 12.6 Exercises\n",
    "1. Run a regression with log_earnings as the dependent variables and age, treatment and sex as independent variables. Interpret the four coefficients."
   ]
  },
  {
   "cell_type": "code",
   "execution_count": null,
   "id": "8ce709ed-629d-464c-827e-3fe3ba8887be",
   "metadata": {},
   "outputs": [],
   "source": [
    "fake_data <- fake_data %>% \n",
    "    mutate(female = case_when(\n",
    "        sex == , \n",
    "        sex == )) \n",
    "\n",
    "fake_data <- fake_data %>% \n",
    "    mutate(log_earnings = ))\n",
    "\n",
    "lm()"
   ]
  },
  {
   "cell_type": "code",
   "execution_count": 2,
   "id": "1444422d-eae7-4155-999f-d24abb03a5de",
   "metadata": {},
   "outputs": [
    {
     "data": {
      "text/html": [
       "<iframe src=\"https://h5p.open.ubc.ca/wp-admin/admin-ajax.php?action=h5p_embed&id=1210\" width=\"841\" height=\"483\" frameborder=\"0\" allowfullscreen=\"allowfullscreen\" title=\"module 12 q1\"></iframe><script src=\"https://h5p.open.ubc.ca/wp-content/plugins/h5p/h5p-php-library/js/h5p-resizer.js\" charset=\"UTF-8\"></script>"
      ]
     },
     "metadata": {},
     "output_type": "display_data"
    }
   ],
   "source": [
    "display_html('<iframe src=\"https://h5p.open.ubc.ca/wp-admin/admin-ajax.php?action=h5p_embed&id=1210\" width=\"841\" height=\"483\" frameborder=\"0\" allowfullscreen=\"allowfullscreen\" title=\"module 12 q1\"></iframe><script src=\"https://h5p.open.ubc.ca/wp-content/plugins/h5p/h5p-php-library/js/h5p-resizer.js\" charset=\"UTF-8\"></script>')"
   ]
  },
  {
   "cell_type": "code",
   "execution_count": 3,
   "id": "b76ea972-25d7-4ace-8287-24b4adc5c9ef",
   "metadata": {},
   "outputs": [
    {
     "data": {
      "text/html": [
       "<iframe src=\"https://h5p.open.ubc.ca/wp-admin/admin-ajax.php?action=h5p_embed&id=1211\" width=\"841\" height=\"310\" frameborder=\"0\" allowfullscreen=\"allowfullscreen\" title=\"module 12 q2\"></iframe><script src=\"https://h5p.open.ubc.ca/wp-content/plugins/h5p/h5p-php-library/js/h5p-resizer.js\" charset=\"UTF-8\"></script>"
      ]
     },
     "metadata": {},
     "output_type": "display_data"
    }
   ],
   "source": [
    "display_html('<iframe src=\"https://h5p.open.ubc.ca/wp-admin/admin-ajax.php?action=h5p_embed&id=1211\" width=\"841\" height=\"310\" frameborder=\"0\" allowfullscreen=\"allowfullscreen\" title=\"module 12 q2\"></iframe><script src=\"https://h5p.open.ubc.ca/wp-content/plugins/h5p/h5p-php-library/js/h5p-resizer.js\" charset=\"UTF-8\"></script>')"
   ]
  },
  {
   "cell_type": "code",
   "execution_count": 5,
   "id": "8d6f1b55-df44-4d1c-b70a-3b83839d4726",
   "metadata": {},
   "outputs": [
    {
     "data": {
      "text/html": [
       "<iframe src=\"https://h5p.open.ubc.ca/wp-admin/admin-ajax.php?action=h5p_embed&id=1212\" width=\"841\" height=\"339\" frameborder=\"0\" allowfullscreen=\"allowfullscreen\" title=\"module 12 q3\"></iframe><script src=\"https://h5p.open.ubc.ca/wp-content/plugins/h5p/h5p-php-library/js/h5p-resizer.js\" charset=\"UTF-8\"></script>"
      ]
     },
     "metadata": {},
     "output_type": "display_data"
    }
   ],
   "source": [
    "display_html('<iframe src=\"https://h5p.open.ubc.ca/wp-admin/admin-ajax.php?action=h5p_embed&id=1212\" width=\"841\" height=\"339\" frameborder=\"0\" allowfullscreen=\"allowfullscreen\" title=\"module 12 q3\"></iframe><script src=\"https://h5p.open.ubc.ca/wp-content/plugins/h5p/h5p-php-library/js/h5p-resizer.js\" charset=\"UTF-8\"></script>')"
   ]
  },
  {
   "cell_type": "markdown",
   "id": "0181170e-f0c4-4af1-8c6c-930bc54bf0e9",
   "metadata": {},
   "source": [
    "4. Run a multivariate regression that includes the variable start-year or its adjusted version and explain what its coefficient means."
   ]
  },
  {
   "cell_type": "code",
   "execution_count": null,
   "id": "fbeb6650-721b-40e6-8f6e-8bc8c985d12f",
   "metadata": {},
   "outputs": [],
   "source": [
    "lm()"
   ]
  },
  {
   "cell_type": "code",
   "execution_count": 6,
   "id": "7373bf76-df45-4123-ab61-7bc3c95d784d",
   "metadata": {},
   "outputs": [
    {
     "data": {
      "text/html": [
       "<iframe src=\"https://h5p.open.ubc.ca/wp-admin/admin-ajax.php?action=h5p_embed&id=1213\" width=\"841\" height=\"358\" frameborder=\"0\" allowfullscreen=\"allowfullscreen\" title=\"module 12 q4\"></iframe><script src=\"https://h5p.open.ubc.ca/wp-content/plugins/h5p/h5p-php-library/js/h5p-resizer.js\" charset=\"UTF-8\"></script>"
      ]
     },
     "metadata": {},
     "output_type": "display_data"
    }
   ],
   "source": [
    "display_html('<iframe src=\"https://h5p.open.ubc.ca/wp-admin/admin-ajax.php?action=h5p_embed&id=1213\" width=\"841\" height=\"358\" frameborder=\"0\" allowfullscreen=\"allowfullscreen\" title=\"module 12 q4\"></iframe><script src=\"https://h5p.open.ubc.ca/wp-content/plugins/h5p/h5p-php-library/js/h5p-resizer.js\" charset=\"UTF-8\"></script>')"
   ]
  },
  {
   "cell_type": "markdown",
   "id": "054d08c4-e82b-4486-af75-933a52a03897",
   "metadata": {},
   "source": [
    "## 12.7 Wrap up \n",
    "\n",
    "\n",
    "In this module we distinguished the following concepts: \n",
    "\n",
    "- Linear Model : an equation that describes how the outcome is generated, and depends on some coefficients $\\beta$. \n",
    "- Ordinary Least Squares: a method to obtain a good approximation of the true $\\beta$ of a linear model from a given sample. \n",
    "\n",
    "Therefore, notice that there is no such thing as OLS model. Notice that we could apply a different method (estimator) to a linear model. For example, consider minimizing the sum of all error terms $$ \\min_{b} \\frac{1}{n} \\sum_{i}^n | \\hat{u}_j | $$ \n",
    "\n",
    "This model is linear but the solution to this problem are not OLS estimates.\n",
    "\n",
    "\n",
    "We also learned how to interpret coefficients in any linear model. $\\beta_0$ is the y-intercept of the line therefore its equal to $$ E[y_{i}|x_{i}=0]=\\beta_0.$$ Its the expected value of y when x=0. Because we have a sample approximation to this true value, it would be the sample mean of y when x=0.\n",
    "\n",
    "\n",
    "In the case of any other beta, $\\beta_1$ or 2 or 3, \n",
    "$$ E[y_{i}|x_{i}=1]- E[y_{i}|x_{i}=0]= \\beta$$ its going to be the difference between the expected value of y due to a change in x. Therefore, betas tell us the effect that a particular covariate has on y, ceteris paribus, making them values of great importance when we are developing our research project!\n"
   ]
  },
  {
   "cell_type": "code",
   "execution_count": null,
   "id": "1052d97f-49df-401a-ab3d-1225746eb0ac",
   "metadata": {},
   "outputs": [],
   "source": []
  }
 ],
 "metadata": {
  "kernelspec": {
   "display_name": "R",
   "language": "R",
   "name": "ir"
  },
  "language_info": {
   "codemirror_mode": "r",
   "file_extension": ".r",
   "mimetype": "text/x-r-source",
   "name": "R",
   "pygments_lexer": "r",
   "version": "4.1.2"
  }
 },
 "nbformat": 4,
 "nbformat_minor": 5
}
