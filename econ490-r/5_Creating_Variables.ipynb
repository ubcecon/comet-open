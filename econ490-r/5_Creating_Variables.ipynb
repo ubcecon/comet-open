{
 "cells": [
  {
   "cell_type": "markdown",
   "id": "52dcbe2e-5db6-46dd-9728-89de39d13c4a",
   "metadata": {
    "tags": []
   },
   "source": [
    "# ECON 490: Generating Variables (5)\n",
    "\n",
    "## Prerequisites\n",
    "---\n",
    "1. Import datasets in csv and dta format.\n",
    "2. Save files.\n",
    "\n",
    "## Learning Outcomes\n",
    "---\n",
    "In this module, you will learn to:\n",
    "\n",
    "1. Generate dummy (or indicator) variables using `ifelse`.\n",
    "2. Create new variables using `mutate` and `case_when`.\n",
    "3. Rename variables using `rename`."
   ]
  },
  {
   "cell_type": "markdown",
   "id": "c51cc109",
   "metadata": {
    "tags": []
   },
   "source": [
    "We'll continue working with the fake data data set introduced in the previous lecture. Recall that this data set is simulating information of workers in the years 1982-2012 in a fake country where a training program was introduced in 2003 to boost their earnings.  \n",
    "\n",
    "Last lecture we introduced the process of loading our \"fake_data\" data set into R.\n",
    "1. Import the relevant package (Haven) which gives us access to commands for loading the data. Also import the tidyverse package in order to clean our data.\n",
    "2. Use the `read_csv` or `read_dta` functions to load our data set. \n",
    "3. Clean our data by factorizing all important variables.\n",
    "\n",
    "Let's run through this procedure quickly so that we are all ready to do our analysis. "
   ]
  },
  {
   "cell_type": "code",
   "execution_count": 1,
   "id": "da404a56-1c12-4f0d-90ff-b72578f6682b",
   "metadata": {},
   "outputs": [
    {
     "name": "stderr",
     "output_type": "stream",
     "text": [
      "Warning message:\n",
      "“package ‘haven’ was built under R version 4.1.3”\n",
      "── \u001b[1mAttaching packages\u001b[22m ─────────────────────────────────────── tidyverse 1.3.1 ──\n",
      "\n",
      "\u001b[32m✔\u001b[39m \u001b[34mggplot2\u001b[39m 3.3.6     \u001b[32m✔\u001b[39m \u001b[34mpurrr  \u001b[39m 0.3.4\n",
      "\u001b[32m✔\u001b[39m \u001b[34mtibble \u001b[39m 3.1.7     \u001b[32m✔\u001b[39m \u001b[34mdplyr  \u001b[39m 1.0.9\n",
      "\u001b[32m✔\u001b[39m \u001b[34mtidyr  \u001b[39m 1.2.0     \u001b[32m✔\u001b[39m \u001b[34mstringr\u001b[39m 1.4.0\n",
      "\u001b[32m✔\u001b[39m \u001b[34mreadr  \u001b[39m 2.1.2     \u001b[32m✔\u001b[39m \u001b[34mforcats\u001b[39m 0.5.1\n",
      "\n",
      "Warning message:\n",
      "“package ‘ggplot2’ was built under R version 4.1.3”\n",
      "Warning message:\n",
      "“package ‘tibble’ was built under R version 4.1.3”\n",
      "Warning message:\n",
      "“package ‘dplyr’ was built under R version 4.1.3”\n",
      "── \u001b[1mConflicts\u001b[22m ────────────────────────────────────────── tidyverse_conflicts() ──\n",
      "\u001b[31m✖\u001b[39m \u001b[34mdplyr\u001b[39m::\u001b[32mfilter()\u001b[39m masks \u001b[34mstats\u001b[39m::filter()\n",
      "\u001b[31m✖\u001b[39m \u001b[34mdplyr\u001b[39m::\u001b[32mlag()\u001b[39m    masks \u001b[34mstats\u001b[39m::lag()\n",
      "\n"
     ]
    }
   ],
   "source": [
    "library(haven)\n",
    "library(tidyverse)"
   ]
  },
  {
   "cell_type": "code",
   "execution_count": null,
   "id": "f1594da8-97a5-48c6-8c34-ce8fcdf18e13",
   "metadata": {},
   "outputs": [],
   "source": [
    "data <- read_csv(\"../econ490-stata/fake_data.csv\")\n",
    "data <- as_factor(data)"
   ]
  },
  {
   "cell_type": "markdown",
   "id": "0e8f44fd-2893-4434-b532-04af85336314",
   "metadata": {},
   "source": [
    "#### More Complex Variables\n",
    "We can also create dummy variables from more complex variables. For example, we can create a dummy variable called `retired`. If the person is of retirement age then it will equal one. If they are younger than 65 (not of retirement age) then it will equal zero. To create this new variable we need to join many categories of the `agegrp` variable into one. "
   ]
  },
  {
   "cell_type": "code",
   "execution_count": 9,
   "id": "c84457c4-72ae-4bc9-8607-18e9089c073a",
   "metadata": {},
   "outputs": [
    {
     "name": "stdout",
     "output_type": "stream",
     "text": [
      "Rows: 391,938\n",
      "Columns: 19\n",
      "$ ppsort    \u001b[3m\u001b[90m<dbl>\u001b[39m\u001b[23m 453141, 732612, 143665, 52611, 36927, 268123, 700087, 488335~\n",
      "$ agegrp    \u001b[3m\u001b[90m<fct>\u001b[39m\u001b[23m 35 to 39 years, 40 to 44 years, 55 to 59 years, 50 to 54 yea~\n",
      "$ ageimm    \u001b[3m\u001b[90m<fct>\u001b[39m\u001b[23m not applicable, not applicable, not applicable, not applicab~\n",
      "$ cip2011   \u001b[3m\u001b[90m<fct>\u001b[39m\u001b[23m \"08 architecture, engineering, and related technologies\", \"0~\n",
      "$ fol       \u001b[3m\u001b[90m<fct>\u001b[39m\u001b[23m english only, english only, french only, french only, englis~\n",
      "$ hdgree    \u001b[3m\u001b[90m<fct>\u001b[39m\u001b[23m \"certificate of apprenticeship or certificate of qualificati~\n",
      "$ immstat   \u001b[3m\u001b[90m<fct>\u001b[39m\u001b[23m non-immigrants, non-immigrants, non-immigrants, non-immigran~\n",
      "$ kol       \u001b[3m\u001b[90m<fct>\u001b[39m\u001b[23m english only, both english and french, both english and fren~\n",
      "$ lfact     \u001b[3m\u001b[90m<fct>\u001b[39m\u001b[23m employed - worked in reference week, employed - worked in re~\n",
      "$ locstud   \u001b[3m\u001b[90m<fct>\u001b[39m\u001b[23m ontario, ontario, prince edward island, quebec, not applicab~\n",
      "$ mrkinc    \u001b[3m\u001b[90m<dbl>\u001b[39m\u001b[23m 97000, 41000, 30000, 54000, 27000, 40000, 69000, 56000, 3000~\n",
      "$ pkids     \u001b[3m\u001b[90m<fct>\u001b[39m\u001b[23m one or more, one or more, none, none, one or more, one or mo~\n",
      "$ pr        \u001b[3m\u001b[90m<fct>\u001b[39m\u001b[23m ontario, ontario, prince edward island, quebec, ontario, ont~\n",
      "$ sex       \u001b[3m\u001b[90m<fct>\u001b[39m\u001b[23m male, female, female, male, male, male, female, female, fema~\n",
      "$ vismin    \u001b[3m\u001b[90m<fct>\u001b[39m\u001b[23m \"not a visible minority\", \"not a visible minority\", \"not a v~\n",
      "$ wages     \u001b[3m\u001b[90m<dbl>\u001b[39m\u001b[23m 95000, 19000, 29000, 52000, 27000, 57000, 70000, 55000, NA, ~\n",
      "$ log_wages \u001b[3m\u001b[90m<dbl>\u001b[39m\u001b[23m 11.461632, 9.852194, 10.275051, 10.858999, 10.203592, 10.950~\n",
      "$ has_kids  \u001b[3m\u001b[90m<dbl>\u001b[39m\u001b[23m 1, 1, 0, 0, 1, 1, 1, 1, 1, 1, 0, 1, 0, 0, 0, 1, 1, 1, 0, 1, ~\n",
      "$ retired   \u001b[3m\u001b[90m<fct>\u001b[39m\u001b[23m 0, 0, 0, 0, 0, 0, 0, 0, 0, 0, 0, 0, 0, 0, 0, 0, 0, 0, 0, 0, ~\n"
     ]
    }
   ],
   "source": [
    "census_data <- census_data %>% \n",
    "    mutate(retired = case_when((agegrp == \"65 to 69 years\")|(agegrp == \"70 to 74 years\")|(agegrp == \"75 to 79 years\")|(agegrp == \"80 to 84 years\")|(agegrp == \"85 years and over\") ~ 1, \n",
    "                               TRUE ~ 0)) %>% ##otherwise\n",
    "    mutate(retired = as_factor(retired)) #factor\n",
    "\n",
    "glimpse(census_data)"
   ]
  },
  {
   "cell_type": "markdown",
   "id": "d995b1db-89c7-4dbf-b740-4852396b1570",
   "metadata": {},
   "source": [
    "In general, we want to create a dummy variable to identify which individuals have a certain characteristic and which ones don't. This type of variable is very useful in many models which have trouble handling more complex types of data. You now know how to create these variables!"
   ]
  },
  {
   "cell_type": "markdown",
   "id": "22a46ea4",
   "metadata": {
    "tags": []
   },
   "source": [
    "##  5.1 Generating Dummy Variables\n",
    "The most common type of variable we will create during data cleaning and analysis is the dummy variable. Dummy variables are variables that can only take on two values: 0 and 1. It is useful to think of a dummy variable as being the answer to a question that can be answered \"yes\" or \"no\". With a dummy variable the answer yes is coded as \"1\" and no is coded as \"0\".\n",
    "\n",
    "Examples of question that are used to create dummy variables can include:\n",
    "\n",
    "1. Is the person female? Females are coded \"1\" and males are coded \"0\".\n",
    "2. Does the person have a university degree? People with a university degree are coded \"1\" and everyone else is coded \"0\".\n",
    "3. Is the person married? Married people are coded \"1\" and everyone else is coded \"0\".\n",
    "4. Is the person a millennial? People born between 1980 and 1996 are coded \"1\" and those born in other years are coded \"0\".\n",
    "\n",
    "As you have probably already figured out, dummy variables are used primarily for data that is qualitative and cannot be ranked in any way. For example, being married is qualitative and \"married\" is neither higher nor lower than \"single\".  However, dummy variables sometimes also refer to variables that are qualitative and ranked, such as level of education, and sometimes for variables that are quantitative, such as age groupings. \n",
    "\n",
    "It is important to remember that dummy variables must always be used when we want to include categorical (qualitative) variables in our analysis. These are variables such as sex, gender, race, marital status, religiosity, immigration status etc. Without creating dummy variables for these demographics, analysis of the results from data analysis, regression, and other research will not be meaningful, as we are working with variables which have been numerically scaled in an arbitrary way. This is especially true for interpreting the coefficients outputted from a regression."
   ]
  },
  {
   "cell_type": "markdown",
   "id": "255798d5-6b3e-4e8b-99bd-b7d52f34e742",
   "metadata": {},
   "source": [
    "#### 5.3.1 Creating dummy variables using `ifelse`\n",
    "\n",
    "Let's do an example where we create a dummy variable that indicates if the observation identified as female. We are going to use the command `ifelse` which generates a completely new variable based on certain conditions. "
   ]
  },
  {
   "cell_type": "code",
   "execution_count": null,
   "id": "7c260f56-9654-417b-b082-82e60419e417",
   "metadata": {},
   "outputs": [],
   "source": [
    "data$female = ifelse(data$sex == \"F\", 1, 0)"
   ]
  },
  {
   "cell_type": "markdown",
   "id": "6bd62c04",
   "metadata": {},
   "source": [
    "What R interprets here is that if the condition `sex == \"F\" ` holds, then our dummy will take the value of 1, else it will take the value of zero. This is where the `ifelse` functional component comes in. Depending on what you're doing, you may want it to be the case that when `sex` is missing, our dummy is zero. We can first check if we have any missing observations for a given variable by using the `is.na` function nested within the `any` function. If there are any missing values for the `sex` variable in this dataset, the code below will return TRUE."
   ]
  },
  {
   "cell_type": "code",
   "execution_count": null,
   "id": "179c12c9-a46c-441c-81b2-d74f91cd79e7",
   "metadata": {},
   "outputs": [],
   "source": [
    "sum(is.na(data$sex))"
   ]
  },
  {
   "cell_type": "markdown",
   "id": "6b5801ee-59c2-47ab-990a-512a49fb6bf6",
   "metadata": {},
   "source": [
    "If we want to account for missing values and ensure that they are denoted as 0 for the dummy `female`, we can again invoke the `is.na` function as an additional condition in our function."
   ]
  },
  {
   "cell_type": "code",
   "execution_count": null,
   "id": "89f54d5c",
   "metadata": {},
   "outputs": [],
   "source": [
    "data$female = ifelse(data$sex == \"F\" & !is.na(data$sex), 1, 0)"
   ]
  },
  {
   "cell_type": "markdown",
   "id": "2eaa0c38-c633-4370-8d45-4f15e07471d7",
   "metadata": {},
   "source": [
    "The above condition within our function says that `female` == 1 only when `sex` == \"F\" and `sex` is not marked as NA (since !is.na must be TRUE)."
   ]
  },
  {
   "cell_type": "markdown",
   "id": "ecae02e4-c392-4524-8e82-2e1f6aaca3e9",
   "metadata": {
    "tags": []
   },
   "source": [
    "#### 5.3.2 Creating a series of dummy variables using `ifelse`\n",
    "\n",
    "We now know how to create dummy variables with `ifelse`. However, we may also want to create dummy variables corresponding to a whole set of categories for a given variable - for example, one for each region identified in the data set. To do this, we can just meticulously craft a dummy for each category, such as `reg1`, `reg2`, `reg3`, and `reg4`. We must leave out one region to serve as our base group, being region 5, in order to avoid the dummy variable trap."
   ]
  },
  {
   "cell_type": "code",
   "execution_count": null,
   "id": "e5307149-68fd-41ec-965d-47783d515ab5",
   "metadata": {
    "tags": []
   },
   "outputs": [],
   "source": [
    "data$reg1 = ifelse(data$region == 1 & !is.na(data$region), 1, 0)\n",
    "data$reg2 = ifelse(data$region == 2 & !is.na(data$region), 1, 0)\n",
    "data$reg3 = ifelse(data$region == 3 & !is.na(data$region), 1, 0)\n",
    "data$reg4 = ifelse(data$region == 4 & !is.na(data$region), 1, 0)"
   ]
  },
  {
   "cell_type": "markdown",
   "id": "054be0df-f104-47c6-82bd-d01a026e9d77",
   "metadata": {},
   "source": [
    "This command generated five new dummy variables, one for each category for region. We asked Stata to call those variables \"reg\" and so these new dummy variables are called reg1, reg2, reg3, reg4. This is quite cumbersome. There are packages out there which help to expedite this process. Luckily, if we are running a regression on a qualitative variable such as `region`, R will generate the necessary dummy variables for us automatically."
   ]
  },
  {
   "cell_type": "markdown",
   "id": "9d08e281-0101-4a43-aba3-58dabea5b32d",
   "metadata": {},
   "source": [
    "#### 5.3.3 Creating dummy variables using `case_when`\n",
    "\n",
    "We can also use more complex functions to create dummy variables.  We won't cover all of them in this notebook, but we will mention one very important example: the `case_when` function.  This function creates different values for an input based on specified cases. Specifically, it consists of a series of lines, and each line gives a (i) case and (ii) value for that case. Suppose we are looking at our *"
   ]
  },
  {
   "cell_type": "markdown",
   "id": "84463dab-a24f-442b-b1cb-1b1903f4b38c",
   "metadata": {},
   "source": [
    "The bottom line is that it consists of a series of lines, and each line gives a (i) case and (ii) value for the case.\n",
    "> **Tip**: you can create a \"default\" case by using TRUE as the case in the last line.\n",
    "\n",
    "Suppose we are looking at our `pkids` variable and find it frustrating that it has three levels (`'none', 'one or more', 'not applicable'`).  We are interested in creating a dummy variable which is equal to one if the respondent has children and zero otherwise. Let's call it `has_kids`. We can use the `case_when()` function to achieve this!"
   ]
  },
  {
   "cell_type": "code",
   "execution_count": 8,
   "id": "112af926-807b-4812-9dbb-78ce7a668796",
   "metadata": {},
   "outputs": [
    {
     "name": "stdout",
     "output_type": "stream",
     "text": [
      "Rows: 391,938\n",
      "Columns: 18\n",
      "$ ppsort    \u001b[3m\u001b[90m<dbl>\u001b[39m\u001b[23m 453141, 732612, 143665, 52611, 36927, 268123, 700087, 488335~\n",
      "$ agegrp    \u001b[3m\u001b[90m<fct>\u001b[39m\u001b[23m 35 to 39 years, 40 to 44 years, 55 to 59 years, 50 to 54 yea~\n",
      "$ ageimm    \u001b[3m\u001b[90m<fct>\u001b[39m\u001b[23m not applicable, not applicable, not applicable, not applicab~\n",
      "$ cip2011   \u001b[3m\u001b[90m<fct>\u001b[39m\u001b[23m \"08 architecture, engineering, and related technologies\", \"0~\n",
      "$ fol       \u001b[3m\u001b[90m<fct>\u001b[39m\u001b[23m english only, english only, french only, french only, englis~\n",
      "$ hdgree    \u001b[3m\u001b[90m<fct>\u001b[39m\u001b[23m \"certificate of apprenticeship or certificate of qualificati~\n",
      "$ immstat   \u001b[3m\u001b[90m<fct>\u001b[39m\u001b[23m non-immigrants, non-immigrants, non-immigrants, non-immigran~\n",
      "$ kol       \u001b[3m\u001b[90m<fct>\u001b[39m\u001b[23m english only, both english and french, both english and fren~\n",
      "$ lfact     \u001b[3m\u001b[90m<fct>\u001b[39m\u001b[23m employed - worked in reference week, employed - worked in re~\n",
      "$ locstud   \u001b[3m\u001b[90m<fct>\u001b[39m\u001b[23m ontario, ontario, prince edward island, quebec, not applicab~\n",
      "$ mrkinc    \u001b[3m\u001b[90m<dbl>\u001b[39m\u001b[23m 97000, 41000, 30000, 54000, 27000, 40000, 69000, 56000, 3000~\n",
      "$ pkids     \u001b[3m\u001b[90m<fct>\u001b[39m\u001b[23m one or more, one or more, none, none, one or more, one or mo~\n",
      "$ pr        \u001b[3m\u001b[90m<fct>\u001b[39m\u001b[23m ontario, ontario, prince edward island, quebec, ontario, ont~\n",
      "$ sex       \u001b[3m\u001b[90m<fct>\u001b[39m\u001b[23m male, female, female, male, male, male, female, female, fema~\n",
      "$ vismin    \u001b[3m\u001b[90m<fct>\u001b[39m\u001b[23m \"not a visible minority\", \"not a visible minority\", \"not a v~\n",
      "$ wages     \u001b[3m\u001b[90m<dbl>\u001b[39m\u001b[23m 95000, 19000, 29000, 52000, 27000, 57000, 70000, 55000, NA, ~\n",
      "$ log_wages \u001b[3m\u001b[90m<dbl>\u001b[39m\u001b[23m 11.461632, 9.852194, 10.275051, 10.858999, 10.203592, 10.950~\n",
      "$ has_kids  \u001b[3m\u001b[90m<dbl>\u001b[39m\u001b[23m 1, 1, 0, 0, 1, 1, 1, 1, 1, 1, 0, 1, 0, 0, 0, 1, 1, 1, 0, 1, ~\n"
     ]
    }
   ],
   "source": [
    "fake_data <- fake_data %>% \n",
    "    mutate(female_dummy = case_when( #make a new variable, call it female_dummy\n",
    "        pkids == \"none\" ~ 0, #case 1: pkids is \"none\"; output is 0 (no kids)\n",
    "        pkids == \"one or more\" ~ 1, #case 2: \"one or more\"; output is 1 (kids)\n",
    "        pkids == 'not applicable' ~ 0)) #case 2: \"not applicable\"; output is 0 (no kids)\n",
    "\n",
    "glimpse (census_data)"
   ]
  },
  {
   "cell_type": "markdown",
   "id": "b490e7a7-cd89-4eec-87f2-5313e8b89b58",
   "metadata": {},
   "source": [
    "Notice that `has_kids` is not a factor variable.  We have to add on the appropriate code to do that."
   ]
  },
  {
   "cell_type": "markdown",
   "id": "e63e4c19",
   "metadata": {},
   "source": [
    "## 5.2 Generating Variables Based on Expressions\n",
    "Sometimes we want to generate variables after some transformations (e.g. squaring, taking logs, combining different variables). We can do that by simply writing the expression as an argument to the function `mutate`. This function manipulates our dataframe by supply to it a new column based on the function we input. For example, let's create a variable called `log_earnings` which is the log of earnings."
   ]
  },
  {
   "cell_type": "code",
   "execution_count": null,
   "id": "db54948c-fc2d-4d42-89f1-82507bb57f4e",
   "metadata": {},
   "outputs": [],
   "source": [
    "data <- data %>% mutate(log_earnings = log(earnings))\n",
    "\n",
    "summary(data$log_earnings)"
   ]
  },
  {
   "cell_type": "markdown",
   "id": "f65a94a0-3caa-4a15-97db-36cb7abc0588",
   "metadata": {},
   "source": [
    "Let's try a second example. Let's create a new variable that is the number of years since the year the individual started working. "
   ]
  },
  {
   "cell_type": "code",
   "execution_count": null,
   "id": "270af9fb-e2a3-47c1-aaa8-56d57ac5e535",
   "metadata": {},
   "outputs": [],
   "source": [
    "data <- data %>% mutate(experience_proxy = year - start_year)\n",
    "\n",
    "summary(data$experience_proxy)"
   ]
  },
  {
   "cell_type": "markdown",
   "id": "a00f18cd-2072-4ee2-bcca-5d923f4dacb4",
   "metadata": {},
   "source": [
    "The `mutate` function allows us to easily add new variables to our dataframe. If we wanted to instead replace a given variable with a new feature, say add one default year to all experience_proxy observations, we can simply redefine it directly in our dataframe."
   ]
  },
  {
   "cell_type": "code",
   "execution_count": null,
   "id": "5780e119-25f4-4df2-bb60-a950605d184d",
   "metadata": {},
   "outputs": [],
   "source": [
    "data$experience_proxy <- data$experience_proxy + 1"
   ]
  },
  {
   "cell_type": "markdown",
   "id": "edd0d630",
   "metadata": {},
   "source": [
    "## 5.3 Following Good Naming Conventions\n",
    "Choosing good names for your variables is more important, and harder, than you might think! Sometimes, the variables in a dataset have unrecognizable names, which may be confusing when conducting research. In these cases, it is a good idea to change them immediately. In your research, you will also be creating your own variables (like dummy variables) for qualitative measures and will want to be careful about giving them good names. This is especially important for generating tables, since you will want your tables to be easily legible in your paper.\n",
    "\n",
    "\n",
    "We can rename variables with the `rename` function found inside the `dplyr` package (which we can access via having loaded in R's tidyverse). Let' try to rename one of those dummy variables we created above. Maybe we know that if region = 3 then the region is in the west."
   ]
  },
  {
   "cell_type": "code",
   "execution_count": null,
   "id": "eb8431c2",
   "metadata": {
    "tags": []
   },
   "outputs": [],
   "source": [
    "rename(data, west = reg3)"
   ]
  },
  {
   "cell_type": "markdown",
   "id": "12996cd5",
   "metadata": {},
   "source": [
    "Don’t think that you need to include every piece of information in your variable names. Most of the important information pertaining to a variable is included in its label (more on that in a moment). Avoid variable names that include unnecessary pieces of information and can only be interpreted by you. "
   ]
  },
  {
   "cell_type": "markdown",
   "id": "cadca34f-a4c3-4f4f-86d5-366dc5bef9f2",
   "metadata": {},
   "source": [
    "## 5.4 Wrap Up\n",
    "When we are doing your own research, we *always* have to spend some time working with the data before beginning the analysis. In this module we have learned some important tools for manipulating data to get it ready for that analysis. Like everything else that you do in R, emphasis should be on readibility and reproducibility in your code. This is pivotal for you and your audience to understand your research. In the next module, we will explore how to create new variables for group level analysis, among other things."
   ]
  }
 ],
 "metadata": {
  "kernelspec": {
   "display_name": "R",
   "language": "R",
   "name": "ir"
  },
  "language_info": {
   "codemirror_mode": "r",
   "file_extension": ".r",
   "mimetype": "text/x-r-source",
   "name": "R",
   "pygments_lexer": "r",
   "version": "4.1.1"
  }
 },
 "nbformat": 4,
 "nbformat_minor": 5
}
