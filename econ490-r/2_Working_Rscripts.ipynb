{
 "cells": [
  {
   "cell_type": "markdown",
   "id": "ce4a6b9b",
   "metadata": {},
   "source": [
    "# 2. Working with R-Scripts\n",
    "\n",
    "## Prerequisites \n",
    "---\n",
    "1. Connect to a Jupyter Lab session using R.\n",
    "\n",
    "## Learning objectives:\n",
    "---\n",
    "1. Be able to effectively use R script files.\n",
    "\n",
    "For a reference, the link to some useful R cheat sheets can be found [here](https://www.rstudio.com/resources/cheatsheets/)."
   ]
  },
  {
   "cell_type": "markdown",
   "id": "500b836d",
   "metadata": {},
   "source": [
    "## 2.1 Opening R-scripts from R Interface\n",
    "\n",
    "If you choose to work with R it is very advisable to install R-studio [here](https://www.rstudio.com/). This provides a nice interface to work with R code. Whenever we work with R or any other programming language, it is very important that we make it replicable. For instance, you may be working on a graph and realize that is not looking the way you intended it to. Without a list of the commands you previously used, it may take a long time to re-do said graph with the corrections. \n",
    "\n",
    "R provides a way to save code notebooks, also known as R-scripts, where we can keep all the code we ran in a particular instance. To open the Do-file Editor from our Stata session, we use the shortcut `Ctrl(Command)+9` or click at this part of the Stata Interface\n",
    "\n",
    "![](img/Rstudio.png)\n",
    "\n",
    "\n",
    "You should now observe a new window in your computer that looks like this\n",
    "\n",
    "![](img/rscript.png)\n",
    "\n",
    "To run a highlited part of code, you can use `Ctrl(Command)+Enter`. \n",
    "\n",
    "<div class=\"alert alert-info\">\n",
    "\n",
    "**Note:** The Jupyter cells in the following lectures will work as an R script proxy, but whenever you run R non-interactively it is very important to keep track of any changes we make in an R script.\n",
    "\n",
    "</div>\n",
    "\n"
   ]
  },
  {
   "cell_type": "markdown",
   "id": "7abad6ce",
   "metadata": {},
   "source": [
    "## 2.2 Writing Comments in our code\n",
    "\n",
    "Writing comments at different parts of our code is a very good practice. It will allow us to revisit code we wrote in the past and understand what we did. Stata allows for three different type of comments in our do-files. \n",
    "\n",
    "- The first type of comment is based on hashtag `#`"
   ]
  },
  {
   "cell_type": "code",
   "execution_count": 1,
   "id": "950a1f95",
   "metadata": {},
   "outputs": [],
   "source": [
    "# This is an R comment: nothing is gonna happen"
   ]
  },
  {
   "cell_type": "markdown",
   "id": "eadd8845",
   "metadata": {},
   "source": [
    "- Notice that you can put it next to any code line and it will still recognize such part as a comment."
   ]
  },
  {
   "cell_type": "code",
   "execution_count": 1,
   "id": "d8448442",
   "metadata": {},
   "outputs": [
    {
     "data": {
      "text/html": [
       "5"
      ],
      "text/latex": [
       "5"
      ],
      "text/markdown": [
       "5"
      ],
      "text/plain": [
       "[1] 5"
      ]
     },
     "metadata": {},
     "output_type": "display_data"
    }
   ],
   "source": [
    "5 # This command is printing the number 5"
   ]
  },
  {
   "cell_type": "markdown",
   "id": "66f16a08",
   "metadata": {},
   "source": [
    "- Unline other programs such as Stata, in R we are not able to have multi-line comments. We need to put a hashtag at the beginning of each comment line. "
   ]
  },
  {
   "cell_type": "code",
   "execution_count": 2,
   "id": "f0814e86",
   "metadata": {},
   "outputs": [],
   "source": [
    "#Multi-line comments only work...\n",
    "#this way!\n"
   ]
  },
  {
   "cell_type": "markdown",
   "id": "37fa0638",
   "metadata": {},
   "source": [
    "You will notice that the comments are highlited with the colour <font color='green'>green</font> (I am actually not sure which colour is this!) within our R scripts. Whenever you see that color, you should automatically recognize that part as being a comment made by the author. Similarly, you will notice that some parts in the R commands/functions are highlited <font color='blue'>blue</font>.  \n",
    "\n",
    "![](img/rcode.png)\n",
    "\n"
   ]
  },
  {
   "cell_type": "code",
   "execution_count": null,
   "id": "c0327715",
   "metadata": {},
   "outputs": [],
   "source": []
  },
  {
   "cell_type": "markdown",
   "id": "8b066f9e",
   "metadata": {},
   "source": [
    "## 2.3 Delimiters \n",
    "\n",
    "R works with functions, and the ending of a particular function is what determines the delimitation to the next command instruction. For instance,"
   ]
  },
  {
   "cell_type": "code",
   "execution_count": 3,
   "id": "5b879c69",
   "metadata": {},
   "outputs": [
    {
     "name": "stdout",
     "output_type": "stream",
     "text": [
      "[1] 5\n"
     ]
    }
   ],
   "source": [
    "#Single line \n",
    "print(5) "
   ]
  },
  {
   "cell_type": "markdown",
   "id": "d158fae0",
   "metadata": {},
   "source": [
    "Can work identically as"
   ]
  },
  {
   "cell_type": "code",
   "execution_count": 4,
   "id": "2ef542a6",
   "metadata": {},
   "outputs": [
    {
     "name": "stdout",
     "output_type": "stream",
     "text": [
      "[1] 5\n"
     ]
    }
   ],
   "source": [
    "#Multiple line\n",
    "print(\n",
    "5\n",
    ")"
   ]
  },
  {
   "cell_type": "markdown",
   "id": "632090bf",
   "metadata": {
    "jp-MarkdownHeadingCollapsed": true,
    "tags": []
   },
   "source": [
    "## 2.4 Clearing the R session\n",
    "\n",
    "Whenever we begin working with a new R session, it is advisable to clean the memory of any pre-existing objects. In Stata, for example, this is done by the `clear` command. In R we need to provide the list of objects to be removed. The best way is to list everything that exists in memory:\n",
    "\n",
    "```R\n",
    "   rm(list=ls())\n",
    "```\n",
    "\n",
    "This line should be at the beginning of every new R script you create.\n"
   ]
  },
  {
   "cell_type": "markdown",
   "id": "96ce2078",
   "metadata": {},
   "source": [
    "## Wrapping Up\n",
    "\n",
    "When producing a research project, organization and attention to detail are very important skills to have. That is why you should always save the R script in a easy-to-reach folder as soon as you begin your work by clicking the save icon on the top right. It is good practice to also **save your R script each and every time you run the file**. Getting in the habit of doing this will save you many hours of redoing accidentally lost work when your file closes.\n",
    "\n",
    "\n",
    "<div class=\"alert alert-info\">\n",
    "\n",
    "**Note:** You can show you do file to either your TA or your instructor for help and feedback. It is also good to submit any practical assignment using R along with the R script.\n",
    "\n",
    "</div>\n",
    "\n"
   ]
  }
 ],
 "metadata": {
  "kernelspec": {
   "display_name": "R",
   "language": "R",
   "name": "ir"
  },
  "language_info": {
   "codemirror_mode": "r",
   "file_extension": ".r",
   "mimetype": "text/x-r-source",
   "name": "R",
   "pygments_lexer": "r",
   "version": "4.1.2"
  }
 },
 "nbformat": 4,
 "nbformat_minor": 5
}
