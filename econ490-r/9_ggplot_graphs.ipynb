{
 "cells": [
  {
   "cell_type": "markdown",
   "id": "ddcf8a49",
   "metadata": {},
   "source": [
    "# ECON490: Graphs \n",
    "\n",
    "\n",
    "## Prerequisites\n",
    "***\n",
    "* Loading data and packages into R.\n",
    "* Create variables and objects in R.\n",
    "* Have some familiarity with R commands' syntax. \n",
    "\n",
    "## Learning Objectives \n",
    "***\n",
    "\n",
    "After this module you should be able to:\n",
    "\n",
    "* Identify good practices for data visualization.\n",
    "* Distinguish between the main forms of visualization using economic data: scatterplot, line, bar, histograms.\n",
    "* Feel comfortable with the syntax around `ggplot2`, which include the use of geometries, aesthetic layers, labeling and themes.\n",
    "* Store your graphs in `png` or `svg` format.\n",
    "\n"
   ]
  },
  {
   "cell_type": "markdown",
   "id": "8ccd90d0",
   "metadata": {},
   "source": [
    "## 9.1 General things about visualization\n",
    "\n",
    "If by any chance you are familiar with Stata, you will notice that graphs in R are a completely different beast. The most important and widely used package for data visualization is `ggplot2`. The idea behind this package is that every graph can be decomposed into the following layers: \n",
    "\n",
    "* Data : the very base of every graph is where it comes from.\n",
    "* Mapping: inform graphics which variables are gonna be part of some graphical property (e.g. column 3 of the data is gonna be the dependent variable and y-axis of some graph).\n",
    "* Statistics: transforming the input variables to be displayed (e.g. graph the means of some particular columns, count the number of obs in some category).\n",
    "* Scales: indicate the relationship between variables and properties (e.g. a variable in the data might be the name of a region, which we want to use to have different colours based on it). \n",
    "* Geometries: this is a key part of the entire graph structure. The geometry will indicate the general aesthetic of your graph (e.g. a line, a polygon, etc). \n",
    "* Facets: this can be used to split your data into different sub-plots.\n",
    "* Coodinates: the positioning of variables is determined by the coodinates. The default is to think the world into an X and Y axis, but more generally there can be more complicated structures (e.g. cartography!).\n",
    "* Theme: this layer deals with other graphic information that is not related with the previous parts (e.g. background colour of our graph).\n",
    "\n",
    "\n",
    "In the next section, we will show how to construct the standard graph, and you will notice how `ggplot2` tries to respect this structure when constructing these graphic information. \n",
    "\n",
    "\n",
    "We'll load the dataset that we're using so far in these modules."
   ]
  },
  {
   "cell_type": "code",
   "execution_count": 2,
   "id": "26666817",
   "metadata": {},
   "outputs": [
    {
     "name": "stderr",
     "output_type": "stream",
     "text": [
      "-- \u001b[1mAttaching packages\u001b[22m ------------------------------------------------------------------------------- tidyverse 1.3.1 --\n",
      "\n",
      "\u001b[32mv\u001b[39m \u001b[34mggplot2\u001b[39m 3.3.5     \u001b[32mv\u001b[39m \u001b[34mpurrr  \u001b[39m 0.3.4\n",
      "\u001b[32mv\u001b[39m \u001b[34mtibble \u001b[39m 3.1.5     \u001b[32mv\u001b[39m \u001b[34mdplyr  \u001b[39m 1.0.7\n",
      "\u001b[32mv\u001b[39m \u001b[34mtidyr  \u001b[39m 1.1.4     \u001b[32mv\u001b[39m \u001b[34mstringr\u001b[39m 1.4.0\n",
      "\u001b[32mv\u001b[39m \u001b[34mreadr  \u001b[39m 2.0.2     \u001b[32mv\u001b[39m \u001b[34mforcats\u001b[39m 0.5.1\n",
      "\n",
      "-- \u001b[1mConflicts\u001b[22m ---------------------------------------------------------------------------------- tidyverse_conflicts() --\n",
      "\u001b[31mx\u001b[39m \u001b[34mdplyr\u001b[39m::\u001b[32mfilter()\u001b[39m masks \u001b[34mstats\u001b[39m::filter()\n",
      "\u001b[31mx\u001b[39m \u001b[34mdplyr\u001b[39m::\u001b[32mlag()\u001b[39m    masks \u001b[34mstats\u001b[39m::lag()\n",
      "\n",
      "\u001b[1mRows: \u001b[22m\u001b[34m2861772\u001b[39m \u001b[1mColumns: \u001b[22m\u001b[34m9\u001b[39m\n",
      "\n",
      "\u001b[36m--\u001b[39m \u001b[1mColumn specification\u001b[22m \u001b[36m------------------------------------------------------------------------------------------------\u001b[39m\n",
      "\u001b[1mDelimiter:\u001b[22m \",\"\n",
      "\u001b[31mchr\u001b[39m (1): sex\n",
      "\u001b[32mdbl\u001b[39m (8): workerid, year, birth_year, age, start_year, region, treated, earnings\n",
      "\n",
      "\n",
      "\u001b[36mi\u001b[39m Use \u001b[30m\u001b[47m\u001b[30m\u001b[47m`spec()`\u001b[47m\u001b[30m\u001b[49m\u001b[39m to retrieve the full column specification for this data.\n",
      "\u001b[36mi\u001b[39m Specify the column types or set \u001b[30m\u001b[47m\u001b[30m\u001b[47m`show_col_types = FALSE`\u001b[47m\u001b[30m\u001b[49m\u001b[39m to quiet this message.\n",
      "\n"
     ]
    },
    {
     "name": "stdout",
     "output_type": "stream",
     "text": [
      "Rows: 2,861,772\n",
      "Columns: 9\n",
      "$ workerid   \u001b[3m\u001b[90m<dbl>\u001b[39m\u001b[23m 1, 1, 2, 2, 2, 3, 3, 4, 4, 5, 5, 6, 6, 6, 6, 7, 7, 8, 8, 9,~\n",
      "$ year       \u001b[3m\u001b[90m<dbl>\u001b[39m\u001b[23m 1999, 2001, 2001, 2002, 2003, 2005, 2010, 1997, 2001, 2009,~\n",
      "$ sex        \u001b[3m\u001b[90m<chr>\u001b[39m\u001b[23m \"M\", \"M\", \"M\", \"M\", \"M\", \"M\", \"M\", \"M\", \"M\", \"M\", \"M\", \"M\",~\n",
      "$ birth_year \u001b[3m\u001b[90m<dbl>\u001b[39m\u001b[23m 1944, 1944, 1947, 1947, 1947, 1951, 1951, 1952, 1952, 1954,~\n",
      "$ age        \u001b[3m\u001b[90m<dbl>\u001b[39m\u001b[23m 55, 57, 54, 55, 56, 54, 59, 45, 49, 55, 57, 41, 45, 46, 49,~\n",
      "$ start_year \u001b[3m\u001b[90m<dbl>\u001b[39m\u001b[23m 1997, 1997, 2001, 2001, 2001, 2005, 2005, 1997, 1997, 1998,~\n",
      "$ region     \u001b[3m\u001b[90m<dbl>\u001b[39m\u001b[23m 1, 1, 4, 4, 4, 5, 5, 5, 5, 2, 2, 5, 5, 5, 5, 2, 2, 4, 4, 2,~\n",
      "$ treated    \u001b[3m\u001b[90m<dbl>\u001b[39m\u001b[23m 0, 0, 0, 0, 0, 0, 0, 1, 1, 1, 1, 0, 0, 0, 0, 0, 0, 0, 0, 0,~\n",
      "$ earnings   \u001b[3m\u001b[90m<dbl>\u001b[39m\u001b[23m 39975.010, 278378.100, 18682.600, 293336.400, 111797.300, 8~\n"
     ]
    }
   ],
   "source": [
    "#Clear the memory from any pre-existing objects\n",
    "rm(list=ls())\n",
    "\n",
    "# loading in our packages\n",
    "library(tidyverse) #This includes ggplot2! \n",
    "library(haven)\n",
    "\n",
    "#Open the dataset \n",
    "fake_data <- read_csv(\"../econ490-stata/fake_data.csv\")  #change me!\n",
    "\n",
    "# inspecting the data\n",
    "glimpse(fake_data)"
   ]
  },
  {
   "cell_type": "markdown",
   "id": "a1ad8cfe",
   "metadata": {},
   "source": [
    "## 9.2 Types of Graphs\n",
    "\n",
    "### 9.2.1 Scatter Plot\n",
    "\n",
    "Scatter plots are frequently used to demonstrate how two quantitative variables are related to one another. This plot works great when we are interested in showing relationships and groupings among variables from relatively large datasets. \n",
    "\n",
    "Example\n",
    "\n",
    "[insert link]()\n",
    "\n",
    "Let's say we want to plot the log-earnings by year. We begin by generating a new variable for log earnings. "
   ]
  },
  {
   "cell_type": "code",
   "execution_count": 4,
   "id": "bbadc69c",
   "metadata": {},
   "outputs": [],
   "source": [
    "fake_data <- fake_data %>%\n",
    "        mutate(log_earnings = log(earnings)) #the log function\n",
    "\n",
    "# A collapsed version of this\n",
    "fake_data_means = fake_data %>%\n",
    "    group_by(year) %>%\n",
    "    summarize(average_logearn = mean(log_earnings))"
   ]
  },
  {
   "cell_type": "code",
   "execution_count": 5,
   "id": "337b2da3",
   "metadata": {},
   "outputs": [
    {
     "name": "stdout",
     "output_type": "stream",
     "text": [
      "Rows: 17\n",
      "Columns: 2\n",
      "$ year            \u001b[3m\u001b[90m<dbl>\u001b[39m\u001b[23m 1995, 1996, 1997, 1998, 1999, 2000, 2001, 2002, 2003, ~\n",
      "$ average_logearn \u001b[3m\u001b[90m<dbl>\u001b[39m\u001b[23m 10.41845, 10.40055, 10.42808, 10.44970, 10.45315, 10.4~\n"
     ]
    }
   ],
   "source": [
    "glimpse(fake_data_means)"
   ]
  },
  {
   "cell_type": "markdown",
   "id": "af64c40b",
   "metadata": {},
   "source": [
    "We can see that the data `fake_data_means` is now yearly and that the values of all the values of the same year are average to create the new values of the variable mean log_earnings. To create a scatterplot we can write "
   ]
  },
  {
   "cell_type": "code",
   "execution_count": 10,
   "id": "85431998",
   "metadata": {},
   "outputs": [],
   "source": [
    "figure <- ggplot(data = fake_data, #associate the data we chose\n",
    "                 aes(\n",
    "                     x = year,  #x is year\n",
    "                     y = log_earnings #our y is avg logearnings\n",
    "                 ))"
   ]
  },
  {
   "cell_type": "markdown",
   "id": "a6bf12ac",
   "metadata": {},
   "source": [
    "We have used the Data layer, and the mapping layer (as part of the aesthetics). However, we need a little bit more to be able to assign a visualization. We require some geometry, the elemental part of any graph! "
   ]
  },
  {
   "cell_type": "code",
   "execution_count": 11,
   "id": "0c2df87d",
   "metadata": {},
   "outputs": [
    {
     "data": {
      "image/png": "[encoded data removed]",
      "text/plain": [
       "plot without title"
      ]
     },
     "metadata": {
      "image/png": {
       "height": 420,
       "width": 420
      }
     },
     "output_type": "display_data"
    }
   ],
   "source": [
    "figure + geom_point()"
   ]
  },
  {
   "cell_type": "markdown",
   "id": "17ce2f72",
   "metadata": {},
   "source": [
    "This looks very messy! It's plotting all the observations in every year, and we have a lot. This typically happens when we do a scatterplot and one of the variables is *discrete*. In those cases, we tend to summarize the information into means. to do so, we can produce the same graph with the collapsed dataset."
   ]
  },
  {
   "cell_type": "code",
   "execution_count": 13,
   "id": "604e0348",
   "metadata": {},
   "outputs": [
    {
     "data": {
      "image/png": "[encoded data removed]",
      "text/plain": [
       "plot without title"
      ]
     },
     "metadata": {
      "image/png": {
       "height": 420,
       "width": 420
      }
     },
     "output_type": "display_data"
    }
   ],
   "source": [
    "figure <- ggplot(data = fake_data_means, #associate the data we chose\n",
    "                 aes(\n",
    "                     x = year,  #x is year\n",
    "                     y = average_logearn #our y is avg logearnings\n",
    "                 ))\n",
    "\n",
    "figure + geom_point()"
   ]
  },
  {
   "cell_type": "markdown",
   "id": "d0d3f4a3",
   "metadata": {},
   "source": [
    "You can play around with different options that can be found in the [documentation](https://ggplot2.tidyverse.org/reference/). For instance, one can include labels and a theme:"
   ]
  },
  {
   "cell_type": "code",
   "execution_count": 15,
   "id": "3f3e4134",
   "metadata": {},
   "outputs": [],
   "source": [
    "figure = figure + geom_point() + labs(x = \"Year\",\n",
    "                        y = \"Average Log-Earnings\",\n",
    "                        title = \"Earnings Trends Over Time\") +\n",
    "                        theme(\n",
    "                            text = element_text(\n",
    "                                size = 20)) #increases text size: try playing around with this number!\n"
   ]
  },
  {
   "cell_type": "code",
   "execution_count": 16,
   "id": "a3bd2a6f",
   "metadata": {},
   "outputs": [
    {
     "data": {
      "image/png": "[encoded data removed]",
      "text/plain": [
       "plot without title"
      ]
     },
     "metadata": {
      "image/png": {
       "height": 420,
       "width": 420
      }
     },
     "output_type": "display_data"
    }
   ],
   "source": [
    "figure "
   ]
  },
  {
   "cell_type": "markdown",
   "id": "0d9d38ce",
   "metadata": {},
   "source": [
    "Once we've decided that our graph can successfully answer our economic question, we'd like to export it from Jupyter. Once again, the ggplot package comes to our rescue with `ggsave` command, which allows us to save a visualization using the following key arguments `\n",
    "(\"file_name.file_format\", my_plot, width = #, height = #)`.\n",
    "\n",
    "\n",
    "The first part of the argument, \"file_name.file_format\" is where we give our graphic a descriptive name and specify which file format we want our graphic to be saved in the Jupyter workspace. If you are saving to a specific folder, you can add this before the file name with a / in between to delineate the two (example: \"folder/file_name.file_format\"). The format you choose may depend on the context you plan to use the visualization in. Images are typically stored in either raster or vector formats. \n",
    "\n",
    "\n",
    "Raster images are represented as a 2-D grid of square pixels, each with its own color. Raster images are often compressed before storing so they take up less space. A compressed format is \"lossy\" if the image cannot be perfectly re-created when loading and displaying, with the hope that the change is not noticeable. \"Lossless\" formats, on the other hand, allow a perfect display of the original image.\n",
    "\n",
    "Common raster file types:\n",
    "\n",
    "* JPEG (.jpg, .jpeg): lossy, usually used for photographs\n",
    "* PNG (.png): lossless, usually used for plots / line drawings\n",
    "* BMP (.bmp): lossless, raw image data, no compression (rarely used)\n",
    "* TIFF (.tif, .tiff): typically lossless, no compression, used mostly in graphic arts, publishing\n",
    "* Open-source software: GIMP\n",
    "\n",
    "Vector images are represented as a collection of mathematical objects (lines, surfaces, shapes, curves). When the computer displays the image, it redraws all of the elements using their mathematical formulas.\n",
    "\n",
    "Common vector file types:\n",
    "\n",
    "* SVG (.svg): general-purpose use\n",
    "* EPS (.eps): general-purpose use (rarely used)\n",
    "* Open-source software: Inkscape\n",
    "\n",
    "Raster and vector images have opposing advantages and disadvantages. A raster image of a fixed width and height takes the same amount of space and time to load regardless of what the image shows (the one caveat is that the compression algorithms may shrink the image more or run faster for certain images). A vector image takes space and time to load corresponding to how complex the image is, since the computer has to draw all the elements each time it is displayed. For example, if you have a scatter plot with 1 million points stored as an SVG file, it may take your computer some time to open the image. On the upside, with vector graphics you can zoom into / scale up the image as much as you like without it looking bad, while raster images eventually start to look “pixelated.”\n",
    "\n",
    "\n",
    "The second part of the argument, my_plot specifies which plot in our analysis we'd like to export. And the last key part of the argument width = and height = specifies the dimensions of our image. Because we've tinkered with the graph output size using options(repr.plot.width = 15, repr.plot.height = 9) above in our code, we'll want to use these dimensions as we export to ensure that our visualization isn't cut off by R's default saving dimensions.\n",
    "\n",
    "For instance, we may run"
   ]
  },
  {
   "cell_type": "code",
   "execution_count": 17,
   "id": "602f8776",
   "metadata": {},
   "outputs": [],
   "source": [
    "#ggsave(\"earnings_trends.png\", figure, width = 15, height = 9) "
   ]
  },
  {
   "cell_type": "markdown",
   "id": "ba0dca28",
   "metadata": {},
   "source": [
    "Did you see file appear in the directory? Now try saving the same graph as an .svg in the code cell below."
   ]
  },
  {
   "cell_type": "code",
   "execution_count": 18,
   "id": "8a542c18",
   "metadata": {},
   "outputs": [],
   "source": [
    "#ggsave(\"earnings_trends. ...\", figure, width = 15, height = 9) "
   ]
  },
  {
   "cell_type": "markdown",
   "id": "817eedbe",
   "metadata": {},
   "source": [
    "As we have seen, R makes it easy to create high-quality, impactful graphics.  We'll let you try it on your own now with other variables"
   ]
  },
  {
   "cell_type": "code",
   "execution_count": 20,
   "id": "0fa5cfd3",
   "metadata": {},
   "outputs": [
    {
     "data": {
      "image/png": "[encoded data removed]",
      "text/plain": [
       "plot without title"
      ]
     },
     "metadata": {
      "image/png": {
       "height": 420,
       "width": 420
      }
     },
     "output_type": "display_data"
    }
   ],
   "source": [
    "figure <- ggplot(data = fake_data, #associate the data we chose\n",
    "                 aes(\n",
    "                     x = age,  #x is year\n",
    "                     y = log_earnings #our y is avg logearnings\n",
    "                 ))\n",
    "\n",
    "figure + geom_point()"
   ]
  },
  {
   "cell_type": "markdown",
   "id": "795433ec",
   "metadata": {},
   "source": [
    "## 9.2 Line Plot \n",
    "\n",
    "Notice that we previously had a graph where every year showed only *one point*. We could actually connect the single dots for every year and form a line. This typically happens when we have a *discrete* x-axis in our graph."
   ]
  },
  {
   "cell_type": "code",
   "execution_count": 21,
   "id": "1d037f9b",
   "metadata": {},
   "outputs": [
    {
     "data": {
      "image/png": "[encoded data removed]",
      "text/plain": [
       "plot without title"
      ]
     },
     "metadata": {
      "image/png": {
       "height": 420,
       "width": 420
      }
     },
     "output_type": "display_data"
    }
   ],
   "source": [
    "figure <- ggplot(data = fake_data_means, #associate the data we chose\n",
    "                 aes(\n",
    "                     x = year,  #x is year\n",
    "                     y = average_logearn #our y is avg logearnings\n",
    "                 ))\n",
    "\n",
    "figure + geom_line()"
   ]
  },
  {
   "cell_type": "markdown",
   "id": "2e0c957c",
   "metadata": {},
   "source": [
    "## 9.3 Histogram Plot \n",
    "\n",
    "Histograms visualize the distribution of one quantitative variable. This plot works great when we are working with a discrete variable and are interested in visualizing all its possible values and how often they occur"
   ]
  },
  {
   "cell_type": "code",
   "execution_count": 22,
   "id": "648ce5b1",
   "metadata": {},
   "outputs": [
    {
     "name": "stderr",
     "output_type": "stream",
     "text": [
      "`stat_bin()` using `bins = 30`. Pick better value with `binwidth`.\n",
      "\n"
     ]
    },
    {
     "data": {
      "image/png": "[encoded data removed]",
      "text/plain": [
       "plot without title"
      ]
     },
     "metadata": {
      "image/png": {
       "height": 420,
       "width": 420
      }
     },
     "output_type": "display_data"
    }
   ],
   "source": [
    "figure <- ggplot(data = fake_data, #associate the data we chose\n",
    "                 aes(\n",
    "                     x = age  #x is year\n",
    "                 ))\n",
    "\n",
    "figure + geom_histogram()"
   ]
  },
  {
   "cell_type": "markdown",
   "id": "a6c77b4f",
   "metadata": {},
   "source": [
    "## 9.4 Bar Plot\n",
    "\n",
    "Bar plots visualize comparisons of amounts. It is useful when we are interested in comparing a few categories as parts of a whole, or across time. *Bar plots should always start at 0. Starting bar plots at any number besides 0 is generally considered a misrepresentation of the data.*\n"
   ]
  },
  {
   "cell_type": "code",
   "execution_count": 25,
   "id": "1505fd04",
   "metadata": {},
   "outputs": [
    {
     "data": {
      "image/png": "[encoded data removed]",
      "text/plain": [
       "plot without title"
      ]
     },
     "metadata": {
      "image/png": {
       "height": 420,
       "width": 420
      }
     },
     "output_type": "display_data"
    }
   ],
   "source": [
    "figure <- ggplot(data = fake_data_means, #associate the data we chose\n",
    "                 aes(\n",
    "                     x = year , #x is year\n",
    "                     y = average_logearn\n",
    "                 ))\n",
    "\n",
    "figure + geom_bar(stat=\"identity\") #identity means do not create any statistic from those variables."
   ]
  },
  {
   "cell_type": "markdown",
   "id": "8c564490",
   "metadata": {},
   "source": [
    "### 9.5 Wrap up\n",
    "\n",
    "We have learned in this module how to create different types of graphs using the command `ggplot()` and how to adjust them with the multiple options this command has. However, the most valuable lesson form this module is understanding when to use a specific. type of graph. Graphs are only able to tell illustrate a story if we pick correctly which graph and which options to use. Remember to check the stata documentation when creating graphs. The documentation can be your best ally if you end up using it.\n",
    "\n",
    "\n",
    "Further information\n",
    "* This is an amazing video to understand the very details of ggplot : [link](https://www.youtube.com/watch?v=h29g21z0a68).\n",
    "\n"
   ]
  }
 ],
 "metadata": {
  "kernelspec": {
   "display_name": "R",
   "language": "R",
   "name": "ir"
  },
  "language_info": {
   "codemirror_mode": "r",
   "file_extension": ".r",
   "mimetype": "text/x-r-source",
   "name": "R",
   "pygments_lexer": "r",
   "version": "4.1.2"
  }
 },
 "nbformat": 4,
 "nbformat_minor": 5
}
