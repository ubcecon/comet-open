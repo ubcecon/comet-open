{
 "cells": [
  {
   "cell_type": "markdown",
   "id": "61624905-f3ef-4dab-9b31-9c940277852d",
   "metadata": {
    "tags": []
   },
   "source": [
    "# ECON 490: Combining Datasets (7)\n",
    "---\n",
    "## Prerequisites: \n",
    "---\n",
    "1. Import datasets in csv and dta format. \n",
    "2. Create new variables for a variety of purposes. \n",
    "3. Use group_by and other functions to conduct group level analysis.\n",
    "\n",
    "## Learning Objectives:\n",
    "---\n",
    "- Append new observations to an already existing dataset using `rbind`.\n",
    "- Merge variables and their values from one dataset into another using `cbind`, `left_join`, `inner_join`, and `full_join`."
   ]
  },
  {
   "cell_type": "code",
   "execution_count": 1,
   "id": "da3ca873-2339-492d-ab4c-7d78da4fc393",
   "metadata": {},
   "outputs": [
    {
     "name": "stderr",
     "output_type": "stream",
     "text": [
      "Warning message:\n",
      "“package ‘haven’ was built under R version 4.1.3”\n",
      "── \u001b[1mAttaching packages\u001b[22m ─────────────────────────────────────── tidyverse 1.3.1 ──\n",
      "\n",
      "\u001b[32m✔\u001b[39m \u001b[34mggplot2\u001b[39m 3.3.6     \u001b[32m✔\u001b[39m \u001b[34mpurrr  \u001b[39m 0.3.4\n",
      "\u001b[32m✔\u001b[39m \u001b[34mtibble \u001b[39m 3.1.7     \u001b[32m✔\u001b[39m \u001b[34mdplyr  \u001b[39m 1.0.9\n",
      "\u001b[32m✔\u001b[39m \u001b[34mtidyr  \u001b[39m 1.2.0     \u001b[32m✔\u001b[39m \u001b[34mstringr\u001b[39m 1.4.0\n",
      "\u001b[32m✔\u001b[39m \u001b[34mreadr  \u001b[39m 2.1.2     \u001b[32m✔\u001b[39m \u001b[34mforcats\u001b[39m 0.5.1\n",
      "\n",
      "Warning message:\n",
      "“package ‘ggplot2’ was built under R version 4.1.3”\n",
      "Warning message:\n",
      "“package ‘tibble’ was built under R version 4.1.3”\n",
      "Warning message:\n",
      "“package ‘dplyr’ was built under R version 4.1.3”\n",
      "── \u001b[1mConflicts\u001b[22m ────────────────────────────────────────── tidyverse_conflicts() ──\n",
      "\u001b[31m✖\u001b[39m \u001b[34mdplyr\u001b[39m::\u001b[32mfilter()\u001b[39m masks \u001b[34mstats\u001b[39m::filter()\n",
      "\u001b[31m✖\u001b[39m \u001b[34mdplyr\u001b[39m::\u001b[32mlag()\u001b[39m    masks \u001b[34mstats\u001b[39m::lag()\n",
      "\n"
     ]
    }
   ],
   "source": [
    "library(haven)\n",
    "library(tidyverse)"
   ]
  },
  {
   "cell_type": "markdown",
   "id": "6d17e51d-c139-42b2-9f11-7598fcbe4e4c",
   "metadata": {},
   "source": [
    "We'll continue working with the fake data dataset introduced in the previous lecture. Recall that this dataset is simulating information of workers in the years 1982-2012 in a fake country where a training program was introduced in 2003 to boost their earnings. "
   ]
  },
  {
   "cell_type": "code",
   "execution_count": null,
   "id": "f500256f-d9b9-4cc0-b4db-ce56a312b5ac",
   "metadata": {},
   "outputs": [],
   "source": [
    "fake_data <- read_csv(\"../econ490-stata/fake_data.csv\")  # change me!"
   ]
  },
  {
   "cell_type": "markdown",
   "id": "49f79bee-10b8-40ea-aae0-6af2d7925b59",
   "metadata": {},
   "source": [
    "Since we are working with multiple datasets in this module, we will also import the region year dataset below. This dataset is much smaller and gives the average log earnings and total number of people employed among each region and in each year."
   ]
  },
  {
   "cell_type": "code",
   "execution_count": null,
   "id": "6a77e519-3300-43df-b968-54ab8c57a000",
   "metadata": {},
   "outputs": [],
   "source": [
    "region_year_data <- read_dta(\"../econ490-stata/region_year_data.dta\") # change me!"
   ]
  },
  {
   "cell_type": "markdown",
   "id": "fc7bc762-837a-45ef-8a30-d3915fe2dd9e",
   "metadata": {},
   "source": [
    "Often we will need to draw on data from multiple datasets such as these. Most of the time, these datasets will be available for download in different files (each for a given year, month, country, etc.) and may store different variables or observations. Thus, if we want to compile them we need to combine them into the same data frame.\n",
    "\n",
    "There are two key ways of combining data, each reflecting different goals:\n",
    "\n",
    "1. When we want to add more observations from another dataset into our existing dataset, we call this **appending** data.\n",
    "    * If you think of a dataset as a spreadsheet, this is like taking one dataset and \"pasting\" it into the bottom of another to add more observations. We do this when two datasets have identical columns/variables (so that we can stack them vertically).\n",
    "2. When we want to add new variables and their data from another dataset into our existing dataset, we call this **merging** data.\n",
    "    * This is like looking up values in a table and then adding a column; in Excel, this is called a `VLOOKUP`. Importantly, we can only merge data that share a common column or key to  identify observations with particular values. For example, if we want to merge in data from a different year but for the same people (observations) as those we are currently working with, datasets will usually have an identifying number for the person that functions as our key when merging."
   ]
  },
  {
   "cell_type": "markdown",
   "id": "666ca06b-6002-4694-be08-88d465045b56",
   "metadata": {},
   "source": [
    "## 7.1: Appending Datasets\n",
    "---"
   ]
  },
  {
   "cell_type": "markdown",
   "id": "59d69f0c-7549-46f6-b6c8-baff425e91e3",
   "metadata": {},
   "source": [
    "Let's say that our `fake_data` dataset is inexplicably missing 3 observations for worker 1; specifically, the earnings for this worker for the years 2003, 2005, and 2007 are missing. However, let's say these observations exist in another dataset, `missing_data`, which we can append to our `fake_data` dataset since it contains all of the same variables. We can inspect this small dataframe below."
   ]
  },
  {
   "cell_type": "code",
   "execution_count": 2,
   "id": "18203067-8b2e-40b7-8c34-f1129bfa8d3a",
   "metadata": {},
   "outputs": [
    {
     "data": {
      "text/html": [
       "<table class=\"dataframe\">\n",
       "<caption>A data.frame: 3 × 9</caption>\n",
       "<thead>\n",
       "\t<tr><th scope=col>workerid</th><th scope=col>year</th><th scope=col>sex</th><th scope=col>birth_year</th><th scope=col>age</th><th scope=col>start_year</th><th scope=col>region</th><th scope=col>treated</th><th scope=col>earnings</th></tr>\n",
       "\t<tr><th scope=col>&lt;dbl&gt;</th><th scope=col>&lt;dbl&gt;</th><th scope=col>&lt;chr&gt;</th><th scope=col>&lt;dbl&gt;</th><th scope=col>&lt;dbl&gt;</th><th scope=col>&lt;dbl&gt;</th><th scope=col>&lt;dbl&gt;</th><th scope=col>&lt;dbl&gt;</th><th scope=col>&lt;dbl&gt;</th></tr>\n",
       "</thead>\n",
       "<tbody>\n",
       "\t<tr><td>1</td><td>2003</td><td>M</td><td>1944</td><td>59</td><td>1997</td><td>1</td><td>0</td><td>30000</td></tr>\n",
       "\t<tr><td>1</td><td>2005</td><td>M</td><td>1944</td><td>61</td><td>1997</td><td>1</td><td>0</td><td>35000</td></tr>\n",
       "\t<tr><td>1</td><td>2007</td><td>M</td><td>1944</td><td>63</td><td>1997</td><td>1</td><td>0</td><td>36000</td></tr>\n",
       "</tbody>\n",
       "</table>\n"
      ],
      "text/latex": [
       "A data.frame: 3 × 9\n",
       "\\begin{tabular}{lllllllll}\n",
       " workerid & year & sex & birth\\_year & age & start\\_year & region & treated & earnings\\\\\n",
       " <dbl> & <dbl> & <chr> & <dbl> & <dbl> & <dbl> & <dbl> & <dbl> & <dbl>\\\\\n",
       "\\hline\n",
       "\t 1 & 2003 & M & 1944 & 59 & 1997 & 1 & 0 & 30000\\\\\n",
       "\t 1 & 2005 & M & 1944 & 61 & 1997 & 1 & 0 & 35000\\\\\n",
       "\t 1 & 2007 & M & 1944 & 63 & 1997 & 1 & 0 & 36000\\\\\n",
       "\\end{tabular}\n"
      ],
      "text/markdown": [
       "\n",
       "A data.frame: 3 × 9\n",
       "\n",
       "| workerid &lt;dbl&gt; | year &lt;dbl&gt; | sex &lt;chr&gt; | birth_year &lt;dbl&gt; | age &lt;dbl&gt; | start_year &lt;dbl&gt; | region &lt;dbl&gt; | treated &lt;dbl&gt; | earnings &lt;dbl&gt; |\n",
       "|---|---|---|---|---|---|---|---|---|\n",
       "| 1 | 2003 | M | 1944 | 59 | 1997 | 1 | 0 | 30000 |\n",
       "| 1 | 2005 | M | 1944 | 61 | 1997 | 1 | 0 | 35000 |\n",
       "| 1 | 2007 | M | 1944 | 63 | 1997 | 1 | 0 | 36000 |\n",
       "\n"
      ],
      "text/plain": [
       "  workerid year sex birth_year age start_year region treated earnings\n",
       "1 1        2003 M   1944       59  1997       1      0       30000   \n",
       "2 1        2005 M   1944       61  1997       1      0       35000   \n",
       "3 1        2007 M   1944       63  1997       1      0       36000   "
      ]
     },
     "metadata": {},
     "output_type": "display_data"
    }
   ],
   "source": [
    "missing_data <- data.frame(workerid = c(1, 1, 1), year = c(2003, 2005, 2007), sex = c(\"M\", \"M\", \"M\"), \n",
    "                           birth_year = c(1944, 1944, 1944), age = c(59, 61, 63), start_year = c(1997, 1997, 1997),\n",
    "                           region = c(1, 1, 1), treated = c(0, 0, 0), earnings = c(30000, 35000, 36000))\n",
    "\n",
    "missing_data"
   ]
  },
  {
   "cell_type": "markdown",
   "id": "c9234f3e-7088-4eb1-a408-df9bfd021ceb",
   "metadata": {},
   "source": [
    "To append these four rows to the bottom of our dataset, we can simply use the `rbind` function. This function allows us to bind together datasets vertically, with the dataset specified second being placed directly underneath the dataset specified first. In this way, we can combine datasets vertically if they share the same column names. "
   ]
  },
  {
   "cell_type": "code",
   "execution_count": null,
   "id": "0074b825-025f-44d8-938c-fe75d08a3157",
   "metadata": {},
   "outputs": [],
   "source": [
    "fake_data <- rbind(fake_data, missing_data)\n",
    "tail(fake_data)"
   ]
  },
  {
   "cell_type": "markdown",
   "id": "5e215dd2-0b25-4473-874a-fe537f41e955",
   "metadata": {},
   "source": [
    "This is a fast way of concatenating datasets vertically. We can see that it also does not require us to have a designated \"master\" and \"using\" dataset. We can have both datasets stored in our notebook and view them simultaneously, making the process of appending datasets simpler, especially if we want to check for identical column names or missing values."
   ]
  },
  {
   "cell_type": "markdown",
   "id": "f4db390a-9407-4f0c-a6c6-b7d1e2be8c6a",
   "metadata": {},
   "source": [
    "## 7.2: Merging Datasets \n",
    "---\n",
    "More often, however, we want to combine datasets horizontally. This means matching existing observations between datasets along specific variables, typically in order to add more information about existing participants to our current dataset. This process is known as merging or joining data, and it is more complicated and has more cases than simply appending data."
   ]
  },
  {
   "cell_type": "markdown",
   "id": "18a95616-1330-4900-9a5a-0263e286e42c",
   "metadata": {},
   "source": [
    "### 7.2.1: Simple merge with `cbind`\n",
    "The easiest type of merge we can do is a simple merge with the `cbind` function. This is equivalent to performing a 1:1 merge in Stata between two datasets with equal numbers of observations. In this way, it is identical to stacking datasets vertically like with `rbind`, we just stack the datasets horizontally. It functions more like a merge since we must use a common \"key\" or index to "
   ]
  },
  {
   "cell_type": "markdown",
   "id": "b0896d5d-9da0-4c06-a7e8-74a2ad7b706c",
   "metadata": {},
   "source": [
    "### 1. Check the dataset's unique identifiers \n",
    "The key to merging datasets is to understand what are the variables that *uniquely* identify each observation."
   ]
  },
  {
   "cell_type": "code",
   "execution_count": 3,
   "id": "3c8f989c",
   "metadata": {},
   "outputs": [
    {
     "data": {
      "text/html": [
       "<div>\n",
       "<style scoped>\n",
       "    .dataframe tbody tr th:only-of-type {\n",
       "        vertical-align: middle;\n",
       "    }\n",
       "\n",
       "    .dataframe tbody tr th {\n",
       "        vertical-align: top;\n",
       "    }\n",
       "\n",
       "    .dataframe thead th {\n",
       "        text-align: right;\n",
       "    }\n",
       "</style>\n",
       "<table border=\"1\" class=\"dataframe\">\n",
       "  <thead>\n",
       "    <tr style=\"text-align: right;\">\n",
       "      <th></th>\n",
       "      <th>workerid</th>\n",
       "      <th>year</th>\n",
       "      <th>sex</th>\n",
       "      <th>birth_year</th>\n",
       "      <th>age</th>\n",
       "      <th>start_year</th>\n",
       "      <th>region</th>\n",
       "      <th>treated</th>\n",
       "      <th>earnings</th>\n",
       "    </tr>\n",
       "  </thead>\n",
       "  <tbody>\n",
       "    <tr>\n",
       "      <th>1</th>\n",
       "      <td>1</td>\n",
       "      <td>1999</td>\n",
       "      <td>M</td>\n",
       "      <td>1944</td>\n",
       "      <td>55</td>\n",
       "      <td>1997</td>\n",
       "      <td>1</td>\n",
       "      <td>0</td>\n",
       "      <td>39975.008</td>\n",
       "    </tr>\n",
       "    <tr>\n",
       "      <th>2</th>\n",
       "      <td>1</td>\n",
       "      <td>2001</td>\n",
       "      <td>M</td>\n",
       "      <td>1944</td>\n",
       "      <td>57</td>\n",
       "      <td>1997</td>\n",
       "      <td>1</td>\n",
       "      <td>0</td>\n",
       "      <td>278378.06</td>\n",
       "    </tr>\n",
       "    <tr>\n",
       "      <th>3</th>\n",
       "      <td>2</td>\n",
       "      <td>2001</td>\n",
       "      <td>M</td>\n",
       "      <td>1947</td>\n",
       "      <td>54</td>\n",
       "      <td>2001</td>\n",
       "      <td>4</td>\n",
       "      <td>0</td>\n",
       "      <td>18682.6</td>\n",
       "    </tr>\n",
       "    <tr>\n",
       "      <th>4</th>\n",
       "      <td>2</td>\n",
       "      <td>2002</td>\n",
       "      <td>M</td>\n",
       "      <td>1947</td>\n",
       "      <td>55</td>\n",
       "      <td>2001</td>\n",
       "      <td>4</td>\n",
       "      <td>0</td>\n",
       "      <td>293336.41</td>\n",
       "    </tr>\n",
       "    <tr>\n",
       "      <th>5</th>\n",
       "      <td>2</td>\n",
       "      <td>2003</td>\n",
       "      <td>M</td>\n",
       "      <td>1947</td>\n",
       "      <td>56</td>\n",
       "      <td>2001</td>\n",
       "      <td>4</td>\n",
       "      <td>0</td>\n",
       "      <td>111797.26</td>\n",
       "    </tr>\n",
       "    <tr>\n",
       "      <th>6</th>\n",
       "      <td>3</td>\n",
       "      <td>2005</td>\n",
       "      <td>M</td>\n",
       "      <td>1951</td>\n",
       "      <td>54</td>\n",
       "      <td>2005</td>\n",
       "      <td>5</td>\n",
       "      <td>0</td>\n",
       "      <td>88351.672</td>\n",
       "    </tr>\n",
       "    <tr>\n",
       "      <th>7</th>\n",
       "      <td>3</td>\n",
       "      <td>2010</td>\n",
       "      <td>M</td>\n",
       "      <td>1951</td>\n",
       "      <td>59</td>\n",
       "      <td>2005</td>\n",
       "      <td>5</td>\n",
       "      <td>0</td>\n",
       "      <td>46229.574</td>\n",
       "    </tr>\n",
       "    <tr>\n",
       "      <th>8</th>\n",
       "      <td>4</td>\n",
       "      <td>1997</td>\n",
       "      <td>M</td>\n",
       "      <td>1952</td>\n",
       "      <td>45</td>\n",
       "      <td>1997</td>\n",
       "      <td>5</td>\n",
       "      <td>1</td>\n",
       "      <td>24911.029</td>\n",
       "    </tr>\n",
       "    <tr>\n",
       "      <th>9</th>\n",
       "      <td>4</td>\n",
       "      <td>2001</td>\n",
       "      <td>M</td>\n",
       "      <td>1952</td>\n",
       "      <td>49</td>\n",
       "      <td>1997</td>\n",
       "      <td>5</td>\n",
       "      <td>1</td>\n",
       "      <td>9908.3623</td>\n",
       "    </tr>\n",
       "    <tr>\n",
       "      <th>10</th>\n",
       "      <td>5</td>\n",
       "      <td>2009</td>\n",
       "      <td>M</td>\n",
       "      <td>1954</td>\n",
       "      <td>55</td>\n",
       "      <td>1998</td>\n",
       "      <td>2</td>\n",
       "      <td>1</td>\n",
       "      <td>137207.34</td>\n",
       "    </tr>\n",
       "  </tbody>\n",
       "</table>\n",
       "</div>"
      ],
      "text/plain": [
       "\n",
       "     +----------------------------------------------------------------------+\n",
       "  1. | workerid | year | sex | birth_~r | age | start_~r | region | treated |\n",
       "     |        1 | 1999 |   M |     1944 |  55 |     1997 |      1 |       0 |\n",
       "     |----------------------------------------------------------------------|\n",
       "     |                               earnings                               |\n",
       "     |                               39975.01                               |\n",
       "     +----------------------------------------------------------------------+\n",
       "\n",
       "     +----------------------------------------------------------------------+\n",
       "  2. | workerid | year | sex | birth_~r | age | start_~r | region | treated |\n",
       "     |        1 | 2001 |   M |     1944 |  57 |     1997 |      1 |       0 |\n",
       "     |----------------------------------------------------------------------|\n",
       "     |                               earnings                               |\n",
       "     |                               278378.1                               |\n",
       "     +----------------------------------------------------------------------+\n",
       "\n",
       "     +----------------------------------------------------------------------+\n",
       "  3. | workerid | year | sex | birth_~r | age | start_~r | region | treated |\n",
       "     |        2 | 2001 |   M |     1947 |  54 |     2001 |      4 |       0 |\n",
       "     |----------------------------------------------------------------------|\n",
       "     |                               earnings                               |\n",
       "     |                                18682.6                               |\n",
       "     +----------------------------------------------------------------------+\n",
       "\n",
       "     +----------------------------------------------------------------------+\n",
       "  4. | workerid | year | sex | birth_~r | age | start_~r | region | treated |\n",
       "     |        2 | 2002 |   M |     1947 |  55 |     2001 |      4 |       0 |\n",
       "     |----------------------------------------------------------------------|\n",
       "     |                               earnings                               |\n",
       "     |                               293336.4                               |\n",
       "     +----------------------------------------------------------------------+\n",
       "\n",
       "     +----------------------------------------------------------------------+\n",
       "  5. | workerid | year | sex | birth_~r | age | start_~r | region | treated |\n",
       "     |        2 | 2003 |   M |     1947 |  56 |     2001 |      4 |       0 |\n",
       "     |----------------------------------------------------------------------|\n",
       "     |                               earnings                               |\n",
       "     |                               111797.3                               |\n",
       "     +----------------------------------------------------------------------+\n",
       "\n",
       "     +----------------------------------------------------------------------+\n",
       "  6. | workerid | year | sex | birth_~r | age | start_~r | region | treated |\n",
       "     |        3 | 2005 |   M |     1951 |  54 |     2005 |      5 |       0 |\n",
       "     |----------------------------------------------------------------------|\n",
       "     |                               earnings                               |\n",
       "     |                               88351.67                               |\n",
       "     +----------------------------------------------------------------------+\n",
       "\n",
       "     +----------------------------------------------------------------------+\n",
       "  7. | workerid | year | sex | birth_~r | age | start_~r | region | treated |\n",
       "     |        3 | 2010 |   M |     1951 |  59 |     2005 |      5 |       0 |\n",
       "     |----------------------------------------------------------------------|\n",
       "     |                               earnings                               |\n",
       "     |                               46229.57                               |\n",
       "     +----------------------------------------------------------------------+\n",
       "\n",
       "     +----------------------------------------------------------------------+\n",
       "  8. | workerid | year | sex | birth_~r | age | start_~r | region | treated |\n",
       "     |        4 | 1997 |   M |     1952 |  45 |     1997 |      5 |       1 |\n",
       "     |----------------------------------------------------------------------|\n",
       "     |                               earnings                               |\n",
       "     |                               24911.03                               |\n",
       "     +----------------------------------------------------------------------+\n",
       "\n",
       "     +----------------------------------------------------------------------+\n",
       "  9. | workerid | year | sex | birth_~r | age | start_~r | region | treated |\n",
       "     |        4 | 2001 |   M |     1952 |  49 |     1997 |      5 |       1 |\n",
       "     |----------------------------------------------------------------------|\n",
       "     |                               earnings                               |\n",
       "     |                               9908.362                               |\n",
       "     +----------------------------------------------------------------------+\n",
       "\n",
       "     +----------------------------------------------------------------------+\n",
       " 10. | workerid | year | sex | birth_~r | age | start_~r | region | treated |\n",
       "     |        5 | 2009 |   M |     1954 |  55 |     1998 |      2 |       1 |\n",
       "     |----------------------------------------------------------------------|\n",
       "     |                               earnings                               |\n",
       "     |                               137207.3                               |\n",
       "     +----------------------------------------------------------------------+\n",
       "\n"
      ]
     },
     "metadata": {},
     "output_type": "display_data"
    }
   ],
   "source": [
    "%browse 10"
   ]
  },
  {
   "cell_type": "markdown",
   "id": "2d80707f",
   "metadata": {},
   "source": [
    "For example, it seems like each observation in the fake_data dataset is identified by the variables workerid and year (worker-year pair). We need to check whether this is true or not using the `duplicates report` command."
   ]
  },
  {
   "cell_type": "code",
   "execution_count": 4,
   "id": "a3ef249c",
   "metadata": {},
   "outputs": [
    {
     "name": "stdout",
     "output_type": "stream",
     "text": [
      "\n",
      "Duplicates in terms of workerid year\n",
      "\n",
      "--------------------------------------\n",
      "   copies | observations       surplus\n",
      "----------+---------------------------\n",
      "        1 |      2861772             0\n",
      "--------------------------------------\n"
     ]
    }
   ],
   "source": [
    "duplicates report workerid year"
   ]
  },
  {
   "cell_type": "markdown",
   "id": "cb7b0a22",
   "metadata": {},
   "source": [
    "What this table shows is that there are 2861772 workerid-year combination (which is exactly equal to all of our observations). This means that every observation we have corresponds to a worker in a particular year. \n",
    "\n",
    "Let's take a look at a different dataset now."
   ]
  },
  {
   "cell_type": "code",
   "execution_count": 5,
   "id": "537212ba",
   "metadata": {},
   "outputs": [],
   "source": [
    "use region_year_data, clear"
   ]
  },
  {
   "cell_type": "code",
   "execution_count": 6,
   "id": "c1b4c0bd",
   "metadata": {},
   "outputs": [
    {
     "data": {
      "text/html": [
       "<div>\n",
       "<style scoped>\n",
       "    .dataframe tbody tr th:only-of-type {\n",
       "        vertical-align: middle;\n",
       "    }\n",
       "\n",
       "    .dataframe tbody tr th {\n",
       "        vertical-align: top;\n",
       "    }\n",
       "\n",
       "    .dataframe thead th {\n",
       "        text-align: right;\n",
       "    }\n",
       "</style>\n",
       "<table border=\"1\" class=\"dataframe\">\n",
       "  <thead>\n",
       "    <tr style=\"text-align: right;\">\n",
       "      <th></th>\n",
       "      <th>year</th>\n",
       "      <th>region</th>\n",
       "      <th>avg_log_earnings</th>\n",
       "      <th>total_employment</th>\n",
       "    </tr>\n",
       "  </thead>\n",
       "  <tbody>\n",
       "    <tr>\n",
       "      <th>1</th>\n",
       "      <td>1998</td>\n",
       "      <td>1</td>\n",
       "      <td>10.506687</td>\n",
       "      <td>30004</td>\n",
       "    </tr>\n",
       "    <tr>\n",
       "      <th>2</th>\n",
       "      <td>1999</td>\n",
       "      <td>1</td>\n",
       "      <td>10.513171</td>\n",
       "      <td>31367</td>\n",
       "    </tr>\n",
       "    <tr>\n",
       "      <th>3</th>\n",
       "      <td>2000</td>\n",
       "      <td>1</td>\n",
       "      <td>10.511585</td>\n",
       "      <td>33429</td>\n",
       "    </tr>\n",
       "    <tr>\n",
       "      <th>4</th>\n",
       "      <td>2001</td>\n",
       "      <td>1</td>\n",
       "      <td>10.550608</td>\n",
       "      <td>34547</td>\n",
       "    </tr>\n",
       "    <tr>\n",
       "      <th>5</th>\n",
       "      <td>2002</td>\n",
       "      <td>1</td>\n",
       "      <td>10.529206</td>\n",
       "      <td>35503</td>\n",
       "    </tr>\n",
       "    <tr>\n",
       "      <th>6</th>\n",
       "      <td>2003</td>\n",
       "      <td>1</td>\n",
       "      <td>10.615291</td>\n",
       "      <td>35809</td>\n",
       "    </tr>\n",
       "    <tr>\n",
       "      <th>7</th>\n",
       "      <td>2004</td>\n",
       "      <td>1</td>\n",
       "      <td>10.558952</td>\n",
       "      <td>36161</td>\n",
       "    </tr>\n",
       "    <tr>\n",
       "      <th>8</th>\n",
       "      <td>2005</td>\n",
       "      <td>1</td>\n",
       "      <td>10.538996</td>\n",
       "      <td>36966</td>\n",
       "    </tr>\n",
       "    <tr>\n",
       "      <th>9</th>\n",
       "      <td>2006</td>\n",
       "      <td>1</td>\n",
       "      <td>10.511196</td>\n",
       "      <td>38161</td>\n",
       "    </tr>\n",
       "    <tr>\n",
       "      <th>10</th>\n",
       "      <td>2007</td>\n",
       "      <td>1</td>\n",
       "      <td>10.525853</td>\n",
       "      <td>38051</td>\n",
       "    </tr>\n",
       "  </tbody>\n",
       "</table>\n",
       "</div>"
      ],
      "text/plain": [
       "\n",
       "     +-------------------------------------+\n",
       "     | year   region   avg_lo~s   total_~t |\n",
       "     |-------------------------------------|\n",
       "  1. | 1998        1   10.50669      30004 |\n",
       "  2. | 1999        1   10.51317      31367 |\n",
       "  3. | 2000        1   10.51159      33429 |\n",
       "  4. | 2001        1   10.55061      34547 |\n",
       "  5. | 2002        1   10.52921      35503 |\n",
       "     |-------------------------------------|\n",
       "  6. | 2003        1   10.61529      35809 |\n",
       "  7. | 2004        1   10.55895      36161 |\n",
       "  8. | 2005        1     10.539      36966 |\n",
       "  9. | 2006        1    10.5112      38161 |\n",
       " 10. | 2007        1   10.52585      38051 |\n",
       "     +-------------------------------------+\n",
       "\n"
      ]
     },
     "metadata": {},
     "output_type": "display_data"
    }
   ],
   "source": [
    "%browse 10"
   ]
  },
  {
   "cell_type": "markdown",
   "id": "7e201a54",
   "metadata": {},
   "source": [
    "In this case, it seems that every observation corresponds to a region and year combination. Again, we can use `duplicates report` to see if the variables `region` and `year` uniquely identify all observations."
   ]
  },
  {
   "cell_type": "code",
   "execution_count": 7,
   "id": "d1f56c24",
   "metadata": {},
   "outputs": [
    {
     "name": "stdout",
     "output_type": "stream",
     "text": [
      "\n",
      "Duplicates in terms of region year\n",
      "\n",
      "--------------------------------------\n",
      "   copies | observations       surplus\n",
      "----------+---------------------------\n",
      "        1 |           70             0\n",
      "--------------------------------------\n"
     ]
    }
   ],
   "source": [
    "duplicates report region year"
   ]
  },
  {
   "cell_type": "markdown",
   "id": "bf10fd5f",
   "metadata": {},
   "source": [
    "Indeed! The table shows that there is not a single case of repeated copies of some observation. Hence, we will refer to these variables as the `unique identifiers`."
   ]
  },
  {
   "cell_type": "markdown",
   "id": "a59eb61d",
   "metadata": {},
   "source": [
    "### 1. Master and Using Datasets\n",
    "\n",
    "When merging data we need to decide which dataset will be the dataset (Stata refers to this dataset as `master`) and which will be secondary dataset. The secondary dataset  is were we will get the specific variables we want to duplicate in the `master` dataset and it is refered to as the `using` data."
   ]
  },
  {
   "cell_type": "markdown",
   "id": "c4637aa1",
   "metadata": {},
   "source": [
    "### 2. Matching observations \n",
    "There are three main ways to match observations. The first case is when both observations share the same unique identifiers, so one observation in the master dataset is matched to one observation in the using dataset (reffered as `1:1` merge). The other two cases arise when you match multiple observations in the master dataset to one observation in the using dataset (referred as `m:1` merge). If it is the case that one observation in the master dataset is matched to multiple observations in the using dataset this is known as a `1:m` merge."
   ]
  },
  {
   "cell_type": "markdown",
   "id": "6d5f51cd",
   "metadata": {},
   "source": [
    "### Merging\n",
    "Once we know the unique identifiers, the master and using datasets and what type of match we are doing we are able to merge the datasets. \n",
    "\n",
    "We begin by choosing the master dataset and having it opened in the current Stata session. For the sake of showing an example, let's suppose we want to set fake_data as the `master` dataset, and use region-year  as the `using` dataset. Like we said the fake_data's unique identifiers are workerid and year while the region-year's unique identifiers are region and year. The variables we use to link both datasets have to be the unique identifiers that are present in both datasets. Because `workerid` does not exist in the region-level dataset, we will use variable  `region` and `year` to merge the datasets. \n",
    "\n",
    "This would mean that for every region in the using dataset there will be many observations in the individual level (master) dataset to be matched. Therefore, this will be a `m:1` merge.  \n"
   ]
  },
  {
   "cell_type": "code",
   "execution_count": null,
   "id": "67674064",
   "metadata": {},
   "outputs": [],
   "source": [
    "use fake_data, clear"
   ]
  },
  {
   "cell_type": "code",
   "execution_count": 10,
   "id": "3f3c1442",
   "metadata": {},
   "outputs": [
    {
     "name": "stdout",
     "output_type": "stream",
     "text": [
      "\n",
      "    Result                           # of obs.\n",
      "    -----------------------------------------\n",
      "    not matched                       406,963\n",
      "        from master                   406,963  (_merge==1)\n",
      "        from using                          0  (_merge==2)\n",
      "\n",
      "    matched                         2,454,809  (_merge==3)\n",
      "    -----------------------------------------\n"
     ]
    }
   ],
   "source": [
    "merge m:1 region year using region_year_data"
   ]
  },
  {
   "cell_type": "markdown",
   "id": "efd8dcae",
   "metadata": {},
   "source": [
    "Let's analyze the table above. It says that there were 406,963 observations in the master data couldn't be matched to any observation in the using dataset. This is due to the fact that our dataset at the region-year level does not have information for some years. \n",
    "\n",
    "Furthermore, the previous table shows that every observation from the using dataset got matched to some observation in the master dataset. The total number of matched observations is roughly 2.5 million. All of this information gets recorded into a new varible named `_merge`. Because of this, it is good practice to write `cap drop _merge` before running a merge command or use the `nogen` option of this command. \n",
    "\n",
    "Would we get the same results if we switched the master and using datasets?"
   ]
  },
  {
   "cell_type": "code",
   "execution_count": 13,
   "id": "d911edf7",
   "metadata": {},
   "outputs": [
    {
     "name": "stdout",
     "output_type": "stream",
     "text": [
      "\n",
      "\n",
      "\n",
      "    Result                           # of obs.\n",
      "    -----------------------------------------\n",
      "    not matched                       406,963\n",
      "        from master                         0  (_merge==1)\n",
      "        from using                    406,963  (_merge==2)\n",
      "\n",
      "    matched                         2,454,809  (_merge==3)\n",
      "    -----------------------------------------\n"
     ]
    }
   ],
   "source": [
    "use region_year_data, clear\n",
    "merge 1:m region year using fake_data"
   ]
  },
  {
   "cell_type": "markdown",
   "id": "b53989ea",
   "metadata": {},
   "source": [
    "Indeed, we get the same information. We typically want to restrict to observations that were correctly matched across datasets."
   ]
  },
  {
   "cell_type": "code",
   "execution_count": 14,
   "id": "4b4a3f29",
   "metadata": {},
   "outputs": [
    {
     "name": "stdout",
     "output_type": "stream",
     "text": [
      "(406,963 observations deleted)\n"
     ]
    }
   ],
   "source": [
    "keep if _merge==3"
   ]
  },
  {
   "cell_type": "markdown",
   "id": "3a93e619-5d14-48d6-97e2-31feeccc3e45",
   "metadata": {},
   "source": [
    "It should finally be noted that there is a function called `merge` which can accomplish all of the above merges in a single function. However, it is much longer when operating with large datasets, so we didn't cover it. If you wish to look at the documentation for merge, you can run the code below."
   ]
  },
  {
   "cell_type": "code",
   "execution_count": null,
   "id": "ab6505f6-3ba5-4b2e-a344-0959b840665e",
   "metadata": {},
   "outputs": [],
   "source": [
    "?merge"
   ]
  },
  {
   "cell_type": "markdown",
   "id": "659dde3e-2dad-496c-89f1-35e4538dcb27",
   "metadata": {},
   "source": [
    "## 7.3: Wrap up\n",
    "---"
   ]
  },
  {
   "cell_type": "markdown",
   "id": "a8e6f3c1-9e7f-43b4-abba-b8f4df719c70",
   "metadata": {},
   "source": [
    "In this module we learned how to combine different datasets. The most important lesson we should take away from this module is that, When we want to merge different variables (columns) from one dataset to another we use the command `merge`. If we want to add observations (rows) from one dataset to another we use the command `append`.\n",
    "\n",
    "Also, for merging, do not forget to identify the which dataset is the `master` and which is the `using`, which variables are you merging and what are the unique identifiers."
   ]
  }
 ],
 "metadata": {
  "kernelspec": {
   "display_name": "R",
   "language": "R",
   "name": "ir"
  },
  "language_info": {
   "codemirror_mode": "r",
   "file_extension": ".r",
   "mimetype": "text/x-r-source",
   "name": "R",
   "pygments_lexer": "r",
   "version": "4.1.2"
  }
 },
 "nbformat": 4,
 "nbformat_minor": 5
}
