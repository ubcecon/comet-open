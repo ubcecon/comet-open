{
 "cells": [
  {
   "cell_type": "markdown",
   "id": "2051daff",
   "metadata": {
    "tags": []
   },
   "source": [
    "# ECON 490: Good Regression Practice (14)\n",
    "\n",
    "\n",
    "## Prerequisites: \n",
    "--- \n",
    "1. Importing data into R.\n",
    "2. Creating new varables in R.\n",
    "3. Running OLS regressions.\n",
    "\n",
    "\n",
    "## Learning Outcomes:  \n",
    "---\n",
    "1. Identify and correct for outliers by trimming or winsorizing the dependent variable. \n",
    "2. Identify and correct for the problem of multicollinearity.\n",
    "3. Identify and correct for the problem of heteroskedasticity. \n",
    "4. Identify and correct for the problem of non-linearity. \n",
    "\n",
    "\n",
    "## 14.1 Dealing with Outliers \n",
    "\n",
    "Imagine that we have constructed a dependent variable which contains the earnings growth of individual workers and we see that some worker's earnings increased by more than 400%. We might wonder if this massive change is just a coding error made by the statisticians that produced the data set. Even without that type of error, though, we might worry that the earnings growth of small number of observations are a driving the results of our analysis. If this is the case, we would be producing an inaccurate analysis based on results that are not associated with the majority of our observations. \n",
    "\n",
    "The standard practice in these cases is to either winsorize or trim the subset of observations that are used in that regression. Both practices remove the outlier values in the dependent variable to allow us to produce a more accurate empirical analysis. \n",
    "\n",
    "<div class=\"alert alert-block alert-warning\">\n",
    "    \n",
    "<b>Warning:</b> You should only consider fixing outliers when there is a clear reason to address this issue. Do not apply the tools below if the summary statistics in your data make sense to you in terms of abnormal values. For example, outliers might be a sign that your dependent and explanatory variables have a non-linear relationship. If that is the case you will want to consider including an interaction term that addresses that non-linearity. \n",
    "    \n",
    "</div>\n",
    "\n",
    "### 14.1.1 Winsorizing your Dependent Variable\n",
    "\n",
    "Winsorizing is the process of limiting extreme values in the dependent variable. to reduce the effect of (possibly erroneous) outliers. It consists on replacing values below the $a$ percentile by that percentile value, and values above the $b$ percentile by that percentile. Consider the following example using our fake data set:\n"
   ]
  },
  {
   "cell_type": "code",
   "execution_count": 2,
   "id": "7cb96f2a",
   "metadata": {},
   "outputs": [
    {
     "name": "stderr",
     "output_type": "stream",
     "text": [
      "-- \u001b[1mAttaching packages\u001b[22m ------------------------------------------------------------------------------- tidyverse 1.3.1 --\n",
      "\n",
      "\u001b[32mv\u001b[39m \u001b[34mggplot2\u001b[39m 3.3.5     \u001b[32mv\u001b[39m \u001b[34mpurrr  \u001b[39m 0.3.4\n",
      "\u001b[32mv\u001b[39m \u001b[34mtibble \u001b[39m 3.1.5     \u001b[32mv\u001b[39m \u001b[34mdplyr  \u001b[39m 1.0.7\n",
      "\u001b[32mv\u001b[39m \u001b[34mtidyr  \u001b[39m 1.1.4     \u001b[32mv\u001b[39m \u001b[34mstringr\u001b[39m 1.4.0\n",
      "\u001b[32mv\u001b[39m \u001b[34mreadr  \u001b[39m 2.0.2     \u001b[32mv\u001b[39m \u001b[34mforcats\u001b[39m 0.5.1\n",
      "\n",
      "-- \u001b[1mConflicts\u001b[22m ---------------------------------------------------------------------------------- tidyverse_conflicts() --\n",
      "\u001b[31mx\u001b[39m \u001b[34mdplyr\u001b[39m::\u001b[32mfilter()\u001b[39m masks \u001b[34mstats\u001b[39m::filter()\n",
      "\u001b[31mx\u001b[39m \u001b[34mdplyr\u001b[39m::\u001b[32mlag()\u001b[39m    masks \u001b[34mstats\u001b[39m::lag()\n",
      "\n",
      "\u001b[1mRows: \u001b[22m\u001b[34m2861772\u001b[39m \u001b[1mColumns: \u001b[22m\u001b[34m9\u001b[39m\n",
      "\n",
      "\u001b[36m--\u001b[39m \u001b[1mColumn specification\u001b[22m \u001b[36m------------------------------------------------------------------------------------------------\u001b[39m\n",
      "\u001b[1mDelimiter:\u001b[22m \",\"\n",
      "\u001b[31mchr\u001b[39m (1): sex\n",
      "\u001b[32mdbl\u001b[39m (8): workerid, year, birth_year, age, start_year, region, treated, earnings\n",
      "\n",
      "\n",
      "\u001b[36mi\u001b[39m Use \u001b[30m\u001b[47m\u001b[30m\u001b[47m`spec()`\u001b[47m\u001b[30m\u001b[49m\u001b[39m to retrieve the full column specification for this data.\n",
      "\u001b[36mi\u001b[39m Specify the column types or set \u001b[30m\u001b[47m\u001b[30m\u001b[47m`show_col_types = FALSE`\u001b[47m\u001b[30m\u001b[49m\u001b[39m to quiet this message.\n",
      "\n"
     ]
    }
   ],
   "source": [
    "#Clear the memory from any pre-existing objects\n",
    "rm(list=ls())\n",
    "\n",
    "# loading in our packages\n",
    "library(tidyverse) #This includes ggplot2! \n",
    "library(haven)\n",
    "\n",
    "#Open the dataset \n",
    "fake_data <- read_csv(\"../econ490-stata/fake_data.csv\")  #change me!\n"
   ]
  },
  {
   "cell_type": "code",
   "execution_count": 3,
   "id": "9cfedc8f",
   "metadata": {},
   "outputs": [
    {
     "data": {
      "text/html": [
       "<style>\n",
       ".dl-inline {width: auto; margin:0; padding: 0}\n",
       ".dl-inline>dt, .dl-inline>dd {float: none; width: auto; display: inline-block}\n",
       ".dl-inline>dt::after {content: \":\\0020\"; padding-right: .5ex}\n",
       ".dl-inline>dt:not(:first-of-type) {padding-left: .5ex}\n",
       "</style><dl class=dl-inline><dt>1%</dt><dd>2037.38933</dd><dt>99%</dt><dd>540520.427</dd></dl>\n"
      ],
      "text/latex": [
       "\\begin{description*}\n",
       "\\item[1\\textbackslash{}\\%] 2037.38933\n",
       "\\item[99\\textbackslash{}\\%] 540520.427\n",
       "\\end{description*}\n"
      ],
      "text/markdown": [
       "1%\n",
       ":   2037.3893399%\n",
       ":   540520.427\n",
       "\n"
      ],
      "text/plain": [
       "        1%        99% \n",
       "  2037.389 540520.427 "
      ]
     },
     "metadata": {},
     "output_type": "display_data"
    }
   ],
   "source": [
    "quantile(fake_data$earnings, probs = c(0.01,0.99))"
   ]
  },
  {
   "cell_type": "code",
   "execution_count": 4,
   "id": "a271fdd6",
   "metadata": {},
   "outputs": [
    {
     "data": {
      "text/html": [
       "8.881357"
      ],
      "text/latex": [
       "8.881357"
      ],
      "text/markdown": [
       "8.881357"
      ],
      "text/plain": [
       "[1] 8.881357"
      ]
     },
     "metadata": {},
     "output_type": "display_data"
    }
   ],
   "source": [
    "min(fake_data$earnings)"
   ]
  },
  {
   "cell_type": "code",
   "execution_count": 5,
   "id": "873ad269",
   "metadata": {},
   "outputs": [
    {
     "data": {
      "text/html": [
       "1.9e+08"
      ],
      "text/latex": [
       "1.9e+08"
      ],
      "text/markdown": [
       "1.9e+08"
      ],
      "text/plain": [
       "[1] 1.9e+08"
      ]
     },
     "metadata": {},
     "output_type": "display_data"
    }
   ],
   "source": [
    "max(fake_data$earnings)"
   ]
  },
  {
   "cell_type": "markdown",
   "id": "8f64c4df",
   "metadata": {},
   "source": [
    "From the summary statistics above you can see that that the income earned by the individual at the 1st percentile is 2,037.23 and that the lowest earner in the data set earned is 8.88.  \n",
    "\n",
    "We can also see that income earned by the individual at the 99th percentile is only of 540,525.90 and that the highest earner in the data earned over 190,000,000!\n",
    "\n",
    "This table suggests to us that there are large outliers in our dependent variable.\n",
    "\n",
    "We want to get rid of these outliers by winsorizing our data set. What that will mean is replacing the earnings of all observations below the 1st percentile by exactly the earnings of the individual at the 1st percentile. And replacing the earnings of all observations above the 99th percentile by exactly the earnings of the individual at the 99th percentile. \n"
   ]
  },
  {
   "cell_type": "markdown",
   "id": "7d26ae53-4f54-485f-aaa9-b2371687de07",
   "metadata": {},
   "source": [
    "To winsorize this data, we do the following:\n",
    "\n",
    "1. Create a new variable with the same values as earnings that we will call it earnings_winsor (`gen earnings_winsor = earnings`). The reason why we can decide to store the winsorized version of the dependent variable as a different variable is just for organizational purposes - we don't want to overwrite the original data set. \n",
    "2. If earnings are smaller than 1st percentile, we will replace the values of earnings_winsor with the earnings of the individual at the 1st percentile (stored in Stata in r(p1)).\n",
    "3. If earnings are larger than 1st percentile, we will replace the values of earnings_winsor with the earnings of the individual at the 99th percentile (stored in Stata in r(p99).\n",
    "\n",
    "\n",
    "You can run these commands yourself below:"
   ]
  },
  {
   "cell_type": "code",
   "execution_count": 15,
   "id": "ed3ddf66",
   "metadata": {},
   "outputs": [],
   "source": [
    "fake_data <- fake_data %>%\n",
    "        mutate(log_earnings_winsor = ifelse(earnings<2037 ,  log(2037),  ifelse( earnings  > 540520 , log(540520), log(earnings))  )  ) \n"
   ]
  },
  {
   "cell_type": "markdown",
   "id": "810e01f6",
   "metadata": {
    "tags": []
   },
   "source": [
    "Now you will use this new dependent variable in your regression analysis. If the outliers were not creating problems, there will be no change in the results. If they were creating problems, those problems will now be fixed. \n",
    "\n",
    "Let's take a look at this by first running the regression from [Module 12]() with the original earning variable. \n"
   ]
  },
  {
   "cell_type": "code",
   "execution_count": 13,
   "id": "c1969b50-431f-4832-8a36-f5266a3b0e2b",
   "metadata": {
    "scrolled": true,
    "tags": []
   },
   "outputs": [
    {
     "data": {
      "text/plain": [
       "\n",
       "Call:\n",
       "lm(formula = log(earnings) ~ as.factor(sex), data = fake_data)\n",
       "\n",
       "Coefficients:\n",
       "    (Intercept)  as.factor(sex)M  \n",
       "        10.1384           0.5467  \n"
      ]
     },
     "metadata": {},
     "output_type": "display_data"
    }
   ],
   "source": [
    "lm(data=fake_data, log(earnings) ~ as.factor(sex))\n"
   ]
  },
  {
   "cell_type": "code",
   "execution_count": 16,
   "id": "02e0f204",
   "metadata": {},
   "outputs": [
    {
     "data": {
      "text/plain": [
       "\n",
       "Call:\n",
       "lm(formula = log_earnings_winsor ~ as.factor(sex), data = fake_data)\n",
       "\n",
       "Coefficients:\n",
       "    (Intercept)  as.factor(sex)M  \n",
       "        10.1466           0.5356  \n"
      ]
     },
     "metadata": {},
     "output_type": "display_data"
    }
   ],
   "source": [
    "lm(data=fake_data, log_earnings_winsor ~ as.factor(sex))\n"
   ]
  },
  {
   "cell_type": "markdown",
   "id": "c8b07933-77fe-405b-8308-3fecb3896484",
   "metadata": {},
   "source": [
    "Do you think that in this case the outliers were having a significant impact?"
   ]
  },
  {
   "cell_type": "markdown",
   "id": "dbd9db9f",
   "metadata": {
    "tags": []
   },
   "source": [
    "### 14.1.2 Trimming your Dependent Variable \n",
    "\n",
    "Trimming consists of replacing both values below the $a$ percentile and values above the $b$ percentile by a missing value. The idea is that when that variable equals a missing value it won't be used in the regression. R by design does not include observations where there are missing variables `NA` in the command `lm()`.\n",
    "\n",
    "Here are the commands for trimming your variable. "
   ]
  },
  {
   "cell_type": "code",
   "execution_count": 18,
   "id": "c59570e7",
   "metadata": {
    "tags": []
   },
   "outputs": [],
   "source": [
    "fake_data <- fake_data %>%\n",
    "        mutate(log_earnings_trimmed = ifelse(earnings<2037 ,  NA,  ifelse( earnings  > 540520 , NA, log(earnings))  )  ) \n"
   ]
  },
  {
   "cell_type": "markdown",
   "id": "3ba74dae-65ea-4bd7-ba82-dff0341489eb",
   "metadata": {},
   "source": [
    "And here is the result of the regression with the new dependent variable. "
   ]
  },
  {
   "cell_type": "code",
   "execution_count": 21,
   "id": "6c300756-667f-4d75-9fe9-f89e7e1e85b5",
   "metadata": {
    "scrolled": true,
    "tags": []
   },
   "outputs": [],
   "source": [
    "model = lm(data=fake_data, log_earnings_trimmed ~ as.factor(sex))\n"
   ]
  },
  {
   "cell_type": "markdown",
   "id": "5026b02d",
   "metadata": {},
   "source": [
    "## 14.2 Multicollinearity \n",
    "\n",
    "If two variables are linear combinations of one another they are multicollinear. Ultimately, R will not allow you to include two variables in a regression that are perfect linear combinations of one another, such as a constant, a dummy variable for male and a dummy for female (since female = 1 - male). In all of the regressions above you will see that one of those variables will be dropped from the regression \"because of collinearity\".\n"
   ]
  },
  {
   "cell_type": "markdown",
   "id": "cf83d5c1",
   "metadata": {},
   "source": [
    "Is this a problem? Not really. Multicollinearity is a sign that a variable is not adding any new information. Notice that with the constant term and a male dummy we can know the mean earnings of the females. In this case, the constant term is by construction the mean earnings of females, and the male dummy gives the earning premium is paid to male workers.\n",
    "\n",
    "While there are some statistical tests for multicollinearity, nothing beats having the right intuition when running regression. If there is an obvious case where two variables contain basically the same information, you should avoid including both in the analysis. \n",
    "\n",
    "For instance, we might have an age variable that includes both years and months (e.g. if a baby is 1 year and 1 month old, then this age variable would be coded as 1 + 1/12 = 1.083). If we included this variable in a regression that also include an age variable that includes only years (e.g the baby's age would be coded as 1) then we would have the problem of multicollinearity. Because they are not perfectly collinear, R might still produce some results but the coefficients on these two variables would be biased. "
   ]
  },
  {
   "cell_type": "markdown",
   "id": "c6588110",
   "metadata": {},
   "source": [
    "## 14.3 Heteroskedasticity \n",
    "\n",
    "When we run a linear regression we essentially split the outcome into a (linear) part explained by observables and an error term:\n",
    "$$ y_i = a + b x_i + e_i$$ \n",
    "\n",
    "The standard errors in our coefficients depend on $e_i^2$ (as you might remember from ECON 326). Heteroskedasticity refers to the case where the variance of this projection error depends on the observables $x_i$. For instance, the variance of wages tends to be higher for people who are university educated (there is some people with very high wages) whereas it is small for people who are non-university educated (they tend to be concentrated in smaller paying jobs).  R by defaults assumes that the variance does not depend on the observables, also known as homoskedasticity. It is safe to say that this is an incredibly restrictive assumption.\n",
    "\n",
    "While there are tests for heteroskedasticity, the more empirical economists rely on including the heteroskedastic consistent standard errors as a default in their regressions. The most standard way to do this is to use another command similar to `lm()` that comes from the `fixest` package. "
   ]
  },
  {
   "cell_type": "code",
   "execution_count": 20,
   "id": "ca6eef8d",
   "metadata": {},
   "outputs": [
    {
     "name": "stderr",
     "output_type": "stream",
     "text": [
      "Warning message:\n",
      "\"package 'fixest' was built under R version 4.1.3\"\n"
     ]
    }
   ],
   "source": [
    "library(fixest)"
   ]
  },
  {
   "cell_type": "code",
   "execution_count": 23,
   "id": "f610df1a",
   "metadata": {},
   "outputs": [
    {
     "name": "stderr",
     "output_type": "stream",
     "text": [
      "NOTE: 57,232 observations removed because of NA values (LHS: 57,232).\n",
      "\n"
     ]
    }
   ],
   "source": [
    "model = feols(log_earnings_trimmed ~ as.factor(sex) , fake_data)\n"
   ]
  },
  {
   "cell_type": "code",
   "execution_count": 24,
   "id": "8ec61d01",
   "metadata": {},
   "outputs": [
    {
     "data": {
      "text/plain": [
       "OLS estimation, Dep. Var.: log_earnings_trimmed\n",
       "Observations: 2,804,540 \n",
       "Standard-errors: Heteroskedasticity-robust \n",
       "                 Estimate Std. Error  t value  Pr(>|t|)    \n",
       "(Intercept)     10.180511   0.001074 9475.687 < 2.2e-16 ***\n",
       "as.factor(sex)M  0.484686   0.001332  363.857 < 2.2e-16 ***\n",
       "---\n",
       "Signif. codes:  0 '***' 0.001 '**' 0.01 '*' 0.05 '.' 0.1 ' ' 1\n",
       "RMSE: 1.06373   Adj. R2: 0.045382"
      ]
     },
     "metadata": {},
     "output_type": "display_data"
    }
   ],
   "source": [
    "summary(model, vcov=\"HC1\")"
   ]
  },
  {
   "cell_type": "markdown",
   "id": "c3e28c20",
   "metadata": {
    "tags": []
   },
   "source": [
    "Best practices are simply to always use robust standard errors in your ECON 490 project."
   ]
  },
  {
   "cell_type": "markdown",
   "id": "41387be7-188f-4015-a7db-80ce88a203ac",
   "metadata": {
    "tags": []
   },
   "source": [
    "## 14.4 Non-linearity\n",
    "\n",
    "Our regression analysis so far assumes that the relationship between our independent and explanatory variables is linear. If this is not the case, and the relationship is non-linear, then we are getting inaccurate results with our analysis. \n",
    "\n",
    "Let's consider an example. We know that earnings increases with age, but what if economic theory predicts that the amount that earnings increases for each year of age when workers are younger is larger than the amount that earnings increases for each year of age when workers are older? Another way to say this is, what if we predict that earnings is increasing with age at a decreasing rate?\n",
    "\n",
    "We could correct for this in our model by including a new interaction term that is simply age interacted with itself. You learned how to do this in [Module 13](). Let's include this in regression above remembering the age is a continuous variable "
   ]
  },
  {
   "cell_type": "code",
   "execution_count": 27,
   "id": "bffee3a9",
   "metadata": {},
   "outputs": [],
   "source": [
    "fake_data <- fake_data %>%\n",
    "        mutate(age2 = age^2 ) \n"
   ]
  },
  {
   "cell_type": "code",
   "execution_count": 30,
   "id": "10ab7d5b-3683-4868-b0ac-8cc00ebab38d",
   "metadata": {},
   "outputs": [],
   "source": [
    "model = lm(log_earnings_trimmed ~ as.factor(sex) + age + age2, fake_data)"
   ]
  },
  {
   "cell_type": "code",
   "execution_count": 31,
   "id": "793f9610",
   "metadata": {},
   "outputs": [
    {
     "data": {
      "text/plain": [
       "\n",
       "Call:\n",
       "lm(formula = log_earnings_trimmed ~ as.factor(sex) + age + age2, \n",
       "    data = fake_data)\n",
       "\n",
       "Residuals:\n",
       "    Min      1Q  Median      3Q     Max \n",
       "-3.1612 -0.7287  0.0086  0.7390  3.2691 \n",
       "\n",
       "Coefficients:\n",
       "                  Estimate Std. Error t value Pr(>|t|)    \n",
       "(Intercept)      9.1480697  0.0075929 1204.82   <2e-16 ***\n",
       "as.factor(sex)M  0.4562689  0.0013320  342.54   <2e-16 ***\n",
       "age              0.0517973  0.0004288  120.80   <2e-16 ***\n",
       "age2            -0.0005691  0.0000057  -99.84   <2e-16 ***\n",
       "---\n",
       "Signif. codes:  0 '***' 0.001 '**' 0.01 '*' 0.05 '.' 0.1 ' ' 1\n",
       "\n",
       "Residual standard error: 1.057 on 2804536 degrees of freedom\n",
       "  (57232 observations deleted due to missingness)\n",
       "Multiple R-squared:  0.05668,\tAdjusted R-squared:  0.05668 \n",
       "F-statistic: 5.617e+04 on 3 and 2804536 DF,  p-value: < 2.2e-16\n"
      ]
     },
     "metadata": {},
     "output_type": "display_data"
    }
   ],
   "source": [
    "summary(model, vcov=\"HC1\")"
   ]
  },
  {
   "cell_type": "markdown",
   "id": "42c201c2-f7e4-415e-a931-659ef9ae04d6",
   "metadata": {},
   "source": [
    "There does seem to be some evidence in our regression results that this economic theory is correct since the coefficent on the interaction term is both negative and statistically significant.\n",
    "\n",
    "<div class=\"alert alert-info\">\n",
    "\n",
    "\n",
    "**Note:** If there is a theoretical reason for believing that non-linearity exists R provides some tests for non-lineary. You can also created a scatterplot to see if you can observe a non-linear relationship in the data. We covered that approach in [Module 9]().\n",
    "    \n",
    "</div>\n",
    "\n",
    "\n"
   ]
  },
  {
   "cell_type": "markdown",
   "id": "aaca8ff2-3cc5-4f75-a91d-c80c6f7f38a9",
   "metadata": {},
   "source": [
    "## 14.4 Wrap up \n",
    "\n",
    "While it is important to always follow best practices for regression analysis, checking and correcting for outliers, heteroskedaticy, multicollinearity and non-linearity can be more of an art than a science. If you need any guidance on whether or not you need to address these issues please be certain to speak with your instructor or your TA."
   ]
  }
 ],
 "metadata": {
  "kernelspec": {
   "display_name": "R",
   "language": "R",
   "name": "ir"
  },
  "language_info": {
   "codemirror_mode": "r",
   "file_extension": ".r",
   "mimetype": "text/x-r-source",
   "name": "R",
   "pygments_lexer": "r",
   "version": "4.1.2"
  }
 },
 "nbformat": 4,
 "nbformat_minor": 5
}
