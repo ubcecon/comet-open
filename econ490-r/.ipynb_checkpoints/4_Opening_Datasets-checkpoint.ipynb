{
 "cells": [
  {
   "cell_type": "markdown",
   "id": "0c979bda",
   "metadata": {},
   "source": [
    "# ECON 490: R Essentials (3)\n",
    "\n",
    "## Prerequisites \n",
    "---\n",
    "* Understand the basics of R such as data types and structures.\n",
    "\n",
    "\n",
    "## Learning objectives:\n",
    "---\n",
    "\n",
    "After completing this notebook, you will be able to:\n",
    "\n",
    "* Identify and understand the packages and commands needed to load, manipulate, and combine dataframes in R\n",
    "* Load data using R in a variety of forms\n",
    "* Create and reformat data, including as factor variables\n",
    "* Handle missing data\n",
    "* Select subsets of the dataset for use\n",
    "* Combine and append data\n",
    "* Apply these packages and commands using 2016 Census data"
   ]
  },
  {
   "cell_type": "markdown",
   "id": "f0ce8c06-d6b9-4fd2-ac62-8775ab622d97",
   "metadata": {},
   "source": [
    "\n",
    "#### References\n",
    "---\n",
    "* [Introduction to Probability and Statistics Using R](https://mran.microsoft.com/snapshot/2018-09-28/web/packages/IPSUR/vignettes/IPSUR.pdf)\n",
    "* [DSCI 100 Textbook](https://datasciencebook.ca/index.html)"
   ]
  },
  {
   "cell_type": "markdown",
   "id": "5abab0f5-6a26-4486-973c-bd6161665fab",
   "metadata": {},
   "source": [
    "We will start this project by focusing on loading and cleaning up our data-set: these are **fundamental** skills which will be necessary for essentially every data project we will do.  This process usually consists of three steps:\n",
    "\n",
    "1.  We load the data into R, meaning we take a file on our computer and tell R how to interpret it.\n",
    "2.  We clean up the data by removing missing variables or adjusting the way they are interpreted.\n",
    "3.  We select and filter the data into an appropriate dataset for our project, which can involve creating or deleting variables or observations.\n",
    "\n",
    "In this module, we will cover each of these three steps in detail. Let's start by looking at the loading process.\n",
    "\n",
    "## Loading Data\n",
    "\n",
    "Remember, before we can load the data we need to tell R what **packages** we will be using in the notebook. Without these packages, R will not have access to the appropriate functions needed to interpret our raw data. As explained in the previous lesson, packages only need to be installed once; however, they need to be imported every time we open a notebook.\n",
    "\n",
    "We have discussed packages previously: for data loading, the two most important ones are `tidyverse` and `haven`.\n",
    "* `tidyverse` should already be somewhat familiar. It includes a wide range of useful functions for working with data in R.\n",
    "* `haven` is a special package containing functions that can be used to import data.\n",
    "\n",
    "Let's get started by loading them now."
   ]
  },
  {
   "cell_type": "code",
   "execution_count": 1,
   "id": "2f7c8a4a-254f-403b-8ac4-8298c7a192da",
   "metadata": {},
   "outputs": [
    {
     "name": "stderr",
     "output_type": "stream",
     "text": [
      "-- \u001b[1mAttaching packages\u001b[22m ------------------------------------------------------------------------------- tidyverse 1.3.1 --\n",
      "\n",
      "\u001b[32mv\u001b[39m \u001b[34mggplot2\u001b[39m 3.3.5     \u001b[32mv\u001b[39m \u001b[34mpurrr  \u001b[39m 0.3.4\n",
      "\u001b[32mv\u001b[39m \u001b[34mtibble \u001b[39m 3.1.5     \u001b[32mv\u001b[39m \u001b[34mdplyr  \u001b[39m 1.0.7\n",
      "\u001b[32mv\u001b[39m \u001b[34mtidyr  \u001b[39m 1.1.4     \u001b[32mv\u001b[39m \u001b[34mstringr\u001b[39m 1.4.0\n",
      "\u001b[32mv\u001b[39m \u001b[34mreadr  \u001b[39m 2.0.2     \u001b[32mv\u001b[39m \u001b[34mforcats\u001b[39m 0.5.1\n",
      "\n",
      "-- \u001b[1mConflicts\u001b[22m ---------------------------------------------------------------------------------- tidyverse_conflicts() --\n",
      "\u001b[31mx\u001b[39m \u001b[34mdplyr\u001b[39m::\u001b[32mfilter()\u001b[39m masks \u001b[34mstats\u001b[39m::filter()\n",
      "\u001b[31mx\u001b[39m \u001b[34mdplyr\u001b[39m::\u001b[32mlag()\u001b[39m    masks \u001b[34mstats\u001b[39m::lag()\n",
      "\n"
     ]
    }
   ],
   "source": [
    "# loading in our packages\n",
    "library(tidyverse)\n",
    "library(haven)"
   ]
  },
  {
   "cell_type": "markdown",
   "id": "ab43d07c-1ef3-42ac-ab44-510471b2b9ac",
   "metadata": {},
   "source": [
    "Data can be created by different programs and stored in different styles - these are called **file types**. We can usually tell what kind of file type we are working with by looking at the extension.  For example, a text file usually has an extension like `.txt`.  The data we will be using in this course is commonly stored in Stata, Excel, text, or comma-separated variables files.  These have the following types:\n",
    "\n",
    "* `.dta` for a Stata data file\n",
    "* `.xls` or `.xlsx` for an Excel file\n",
    "* `.txt` for a text file\n",
    "* `.csv` for a comma-separated variables file\n",
    "\n",
    "To load any dataset, we need to use the appropriate function in order to specify to R in which format the data is stored. \n",
    "\n",
    "- To load a `.csv` file we use the command `read_csv(\"file name\")`\n",
    "- To load a STATA data file we use the command `read_dta(\"file name\")`\n",
    "- To load an Excel file we the command `read_excel(\"file name\")`\n",
    "- To load a text file we use the command `read_table(\"file name\", header = FALSE)`.\n",
    "  - The header argument specifies whether or not we have specified column names in our data file. \n",
    "  \n",
    "> **Note:** if we are using an Excel file, we need to load in the package `readxl` alongside the `tidyverse` and `haven` packages above to read the file.\n",
    "\n",
    "In this module, we will be working with a simulated dataset on worker information over many years, and their participation in a training program to boost their earnings.  The file name is `fake_data.csv` and `fake_data.dta` (same data but in different formats)."
   ]
  },
  {
   "cell_type": "markdown",
   "id": "67a02b5e-380f-44f4-b634-754200ad97da",
   "metadata": {},
   "source": [
    "#### Exercise: Load in the Dataset\n",
    "\n",
    "Which function should we use to load this file? Write the name of the function just before the brackets (e.g. `read_table`)"
   ]
  },
  {
   "cell_type": "markdown",
   "id": "274e4c5a-cd15-473b-ad38-d365185178cb",
   "metadata": {},
   "source": [
    "Did you get it?  Okay, now replace the `???` in the code below with that function to load the data!"
   ]
  },
  {
   "cell_type": "code",
   "execution_count": 5,
   "id": "22d03ad3-212a-4d9b-b5e8-460d9923aa8a",
   "metadata": {
    "tags": []
   },
   "outputs": [
    {
     "name": "stderr",
     "output_type": "stream",
     "text": [
      "\u001b[1mRows: \u001b[22m\u001b[34m2861772\u001b[39m \u001b[1mColumns: \u001b[22m\u001b[34m9\u001b[39m\n",
      "\n",
      "\u001b[36m--\u001b[39m \u001b[1mColumn specification\u001b[22m \u001b[36m------------------------------------------------------------------------------------------------\u001b[39m\n",
      "\u001b[1mDelimiter:\u001b[22m \",\"\n",
      "\u001b[31mchr\u001b[39m (1): sex\n",
      "\u001b[32mdbl\u001b[39m (8): workerid, year, birth_year, age, start_year, region, treated, earnings\n",
      "\n",
      "\n",
      "\u001b[36mi\u001b[39m Use \u001b[30m\u001b[47m\u001b[30m\u001b[47m`spec()`\u001b[47m\u001b[30m\u001b[49m\u001b[39m to retrieve the full column specification for this data.\n",
      "\u001b[36mi\u001b[39m Specify the column types or set \u001b[30m\u001b[47m\u001b[30m\u001b[47m`show_col_types = FALSE`\u001b[47m\u001b[30m\u001b[49m\u001b[39m to quiet this message.\n",
      "\n"
     ]
    },
    {
     "name": "stdout",
     "output_type": "stream",
     "text": [
      "Rows: 2,861,772\n",
      "Columns: 9\n",
      "$ workerid   \u001b[3m\u001b[90m<dbl>\u001b[39m\u001b[23m 1, 1, 2, 2, 2, 3, 3, 4, 4, 5, 5, 6, 6, 6, 6, 7, 7, 8, 8, 9,~\n",
      "$ year       \u001b[3m\u001b[90m<dbl>\u001b[39m\u001b[23m 1999, 2001, 2001, 2002, 2003, 2005, 2010, 1997, 2001, 2009,~\n",
      "$ sex        \u001b[3m\u001b[90m<chr>\u001b[39m\u001b[23m \"M\", \"M\", \"M\", \"M\", \"M\", \"M\", \"M\", \"M\", \"M\", \"M\", \"M\", \"M\",~\n",
      "$ birth_year \u001b[3m\u001b[90m<dbl>\u001b[39m\u001b[23m 1944, 1944, 1947, 1947, 1947, 1951, 1951, 1952, 1952, 1954,~\n",
      "$ age        \u001b[3m\u001b[90m<dbl>\u001b[39m\u001b[23m 55, 57, 54, 55, 56, 54, 59, 45, 49, 55, 57, 41, 45, 46, 49,~\n",
      "$ start_year \u001b[3m\u001b[90m<dbl>\u001b[39m\u001b[23m 1997, 1997, 2001, 2001, 2001, 2005, 2005, 1997, 1997, 1998,~\n",
      "$ region     \u001b[3m\u001b[90m<dbl>\u001b[39m\u001b[23m 1, 1, 4, 4, 4, 5, 5, 5, 5, 2, 2, 5, 5, 5, 5, 2, 2, 4, 4, 2,~\n",
      "$ treated    \u001b[3m\u001b[90m<dbl>\u001b[39m\u001b[23m 0, 0, 0, 0, 0, 0, 0, 1, 1, 1, 1, 0, 0, 0, 0, 0, 0, 0, 0, 0,~\n",
      "$ earnings   \u001b[3m\u001b[90m<dbl>\u001b[39m\u001b[23m 39975.010, 278378.100, 18682.600, 293336.400, 111797.300, 8~\n"
     ]
    }
   ],
   "source": [
    "# reading in the data\n",
    "fake_data <- read_csv(\"../econ490-stata/fake_data.csv\")  #change me!\n",
    "\n",
    "# inspecting the data\n",
    "glimpse(fake_data)"
   ]
  },
  {
   "cell_type": "code",
   "execution_count": 6,
   "id": "8e3255f4",
   "metadata": {},
   "outputs": [],
   "source": [
    "fake_data_dta <- read_dta(\"../econ490-stata/fake_data.dta\") #Provided in the haven package"
   ]
  },
  {
   "cell_type": "code",
   "execution_count": 8,
   "id": "cd9fc1fa",
   "metadata": {},
   "outputs": [
    {
     "name": "stdout",
     "output_type": "stream",
     "text": [
      "Rows: 2,861,772\n",
      "Columns: 9\n",
      "$ workerid   \u001b[3m\u001b[90m<dbl>\u001b[39m\u001b[23m 1, 1, 2, 2, 2, 3, 3, 4, 4, 5, 5, 6, 6, 6, 6, 7, 7, 8, 8, 9,~\n",
      "$ year       \u001b[3m\u001b[90m<dbl>\u001b[39m\u001b[23m 1999, 2001, 2001, 2002, 2003, 2005, 2010, 1997, 2001, 2009,~\n",
      "$ sex        \u001b[3m\u001b[90m<chr>\u001b[39m\u001b[23m \"M\", \"M\", \"M\", \"M\", \"M\", \"M\", \"M\", \"M\", \"M\", \"M\", \"M\", \"M\",~\n",
      "$ birth_year \u001b[3m\u001b[90m<dbl>\u001b[39m\u001b[23m 1944, 1944, 1947, 1947, 1947, 1951, 1951, 1952, 1952, 1954,~\n",
      "$ age        \u001b[3m\u001b[90m<dbl>\u001b[39m\u001b[23m 55, 57, 54, 55, 56, 54, 59, 45, 49, 55, 57, 41, 45, 46, 49,~\n",
      "$ start_year \u001b[3m\u001b[90m<dbl>\u001b[39m\u001b[23m 1997, 1997, 2001, 2001, 2001, 2005, 2005, 1997, 1997, 1998,~\n",
      "$ region     \u001b[3m\u001b[90m<dbl>\u001b[39m\u001b[23m 1, 1, 4, 4, 4, 5, 5, 5, 5, 2, 2, 5, 5, 5, 5, 2, 2, 4, 4, 2,~\n",
      "$ treated    \u001b[3m\u001b[90m<dbl>\u001b[39m\u001b[23m 0, 0, 0, 0, 0, 0, 0, 1, 1, 1, 1, 0, 0, 0, 0, 0, 0, 0, 0, 0,~\n",
      "$ earnings   \u001b[3m\u001b[90m<dbl>\u001b[39m\u001b[23m 39975.008, 278378.062, 18682.600, 293336.406, 111797.258, 8~\n"
     ]
    }
   ],
   "source": [
    "# inspecting the data\n",
    "glimpse(fake_data_dta)"
   ]
  },
  {
   "cell_type": "markdown",
   "id": "f62b134e-3cbb-4a64-a471-e964004c9617",
   "metadata": {},
   "source": [
    "## Cleaning Data\n",
    "Now that we've loaded in our data, the next step is to do some rudimentary cleaning of our data. This can include redefining and factorizing variables, defining new variables, and dropping missing observations."
   ]
  },
  {
   "cell_type": "markdown",
   "id": "24f488a6-dc83-47d3-82eb-05f664df5e9f",
   "metadata": {},
   "source": [
    "### Factor Variables"
   ]
  },
  {
   "cell_type": "markdown",
   "id": "ce175e3f-d536-4318-9995-45d7f67c4e82",
   "metadata": {},
   "source": [
    "We have already seen that there are different types of variables which can be stored in R. Namely, there are quantitative variables and qualitative variables. Any quantitative variable can be stored in R as a set of strings or letters. These are known as **character** variables. Qualitative variables can also be stored in R as factor variables. Factor variables will associate a qualitative response to a categorical value, making analysis much easier. Additionally, data is often **encoded** which means that the levels of a qualitative variable have been represented by \"codes\", usually in numeric form.\n",
    "\n",
    "Look at line `region` in the output from `glimpse` above:\n",
    "\n",
    "```\n",
    "region     <dbl> 1, 1, 4, 4, 4, 5, 5, 5, 5, 2, 2, 5, 5, 5, 5, 2, 2, 4, 4, 2,~\n",
    "```\n",
    "\n",
    "The `region` variable in this dataset corresponds to a particular region that the worker is living in. We could also see the variable type is `<dbl+lbl>`: this is a _labeled double_. This is good: it means that R already understands what the levels of this variable mean.\n",
    "\n",
    "There are three similar ways to change variables into factor variables. \n",
    "\n",
    "1.  We can change a specific variable inside a dataframe to a factor by using the `as_factor` command"
   ]
  },
  {
   "cell_type": "code",
   "execution_count": 10,
   "id": "8ece030e-a09b-4bf7-8b68-1df5cf8c3838",
   "metadata": {},
   "outputs": [
    {
     "name": "stdout",
     "output_type": "stream",
     "text": [
      "Rows: 2,861,772\n",
      "Columns: 9\n",
      "$ workerid   \u001b[3m\u001b[90m<dbl>\u001b[39m\u001b[23m 1, 1, 2, 2, 2, 3, 3, 4, 4, 5, 5, 6, 6, 6, 6, 7, 7, 8, 8, 9,~\n",
      "$ year       \u001b[3m\u001b[90m<dbl>\u001b[39m\u001b[23m 1999, 2001, 2001, 2002, 2003, 2005, 2010, 1997, 2001, 2009,~\n",
      "$ sex        \u001b[3m\u001b[90m<chr>\u001b[39m\u001b[23m \"M\", \"M\", \"M\", \"M\", \"M\", \"M\", \"M\", \"M\", \"M\", \"M\", \"M\", \"M\",~\n",
      "$ birth_year \u001b[3m\u001b[90m<dbl>\u001b[39m\u001b[23m 1944, 1944, 1947, 1947, 1947, 1951, 1951, 1952, 1952, 1954,~\n",
      "$ age        \u001b[3m\u001b[90m<dbl>\u001b[39m\u001b[23m 55, 57, 54, 55, 56, 54, 59, 45, 49, 55, 57, 41, 45, 46, 49,~\n",
      "$ start_year \u001b[3m\u001b[90m<dbl>\u001b[39m\u001b[23m 1997, 1997, 2001, 2001, 2001, 2005, 2005, 1997, 1997, 1998,~\n",
      "$ region     \u001b[3m\u001b[90m<fct>\u001b[39m\u001b[23m 1, 1, 4, 4, 4, 5, 5, 5, 5, 2, 2, 5, 5, 5, 5, 2, 2, 4, 4, 2,~\n",
      "$ treated    \u001b[3m\u001b[90m<dbl>\u001b[39m\u001b[23m 0, 0, 0, 0, 0, 0, 0, 1, 1, 1, 1, 0, 0, 0, 0, 0, 0, 0, 0, 0,~\n",
      "$ earnings   \u001b[3m\u001b[90m<dbl>\u001b[39m\u001b[23m 39975.010, 278378.100, 18682.600, 293336.400, 111797.300, 8~\n"
     ]
    }
   ],
   "source": [
    "fake_data <- fake_data %>%  #we start by saying we want to update the data, AND THEN... (%>%)\n",
    "    mutate(region = as_factor(region)) #mutate (update) pr to be a factor variable\n",
    "\n",
    "glimpse(fake_data)"
   ]
  },
  {
   "cell_type": "markdown",
   "id": "f0d4d12f-81de-4b1b-b70c-2c0035ffdf62",
   "metadata": {},
   "source": [
    "Do you see the difference in the `region` variable?  You can also the type has changed to `<fct>` for **factor variable**.\n",
    "\n",
    "If and only if the type was `<dbl+lbl>`, R would already know how to \"decode\" the factor variables from the imported data.  But what if that wasn't the case?  This brings us to the next method.\n",
    "\n",
    "2.  We can **supply a list of factors** using the `factor` command.   This command takes two other values:\n",
    "    * A list of levels the qualitative variable will take on\n",
    "    * A list of labels, one for each level, which describes what each level means\n",
    "    \n",
    "We can create a custom factor variable as follows:"
   ]
  },
  {
   "cell_type": "code",
   "execution_count": 17,
   "id": "997953d6-56ba-4ac3-8a35-69de4771cb6b",
   "metadata": {},
   "outputs": [
    {
     "name": "stdout",
     "output_type": "stream",
     "text": [
      "Rows: 2,861,772\n",
      "Columns: 10\n",
      "$ workerid   \u001b[3m\u001b[90m<dbl>\u001b[39m\u001b[23m 1, 1, 2, 2, 2, 3, 3, 4, 4, 5, 5, 6, 6, 6, 6, 7, 7, 8, 8, 9,~\n",
      "$ year       \u001b[3m\u001b[90m<dbl>\u001b[39m\u001b[23m 1999, 2001, 2001, 2002, 2003, 2005, 2010, 1997, 2001, 2009,~\n",
      "$ sex        \u001b[3m\u001b[90m<chr>\u001b[39m\u001b[23m \"M\", \"M\", \"M\", \"M\", \"M\", \"M\", \"M\", \"M\", \"M\", \"M\", \"M\", \"M\",~\n",
      "$ birth_year \u001b[3m\u001b[90m<dbl>\u001b[39m\u001b[23m 1944, 1944, 1947, 1947, 1947, 1951, 1951, 1952, 1952, 1954,~\n",
      "$ age        \u001b[3m\u001b[90m<dbl>\u001b[39m\u001b[23m 55, 57, 54, 55, 56, 54, 59, 45, 49, 55, 57, 41, 45, 46, 49,~\n",
      "$ start_year \u001b[3m\u001b[90m<dbl>\u001b[39m\u001b[23m 1997, 1997, 2001, 2001, 2001, 2005, 2005, 1997, 1997, 1998,~\n",
      "$ region     \u001b[3m\u001b[90m<fct>\u001b[39m\u001b[23m 1, 1, 4, 4, 4, 5, 5, 5, 5, 2, 2, 5, 5, 5, 5, 2, 2, 4, 4, 2,~\n",
      "$ treated    \u001b[3m\u001b[90m<dbl>\u001b[39m\u001b[23m 0, 0, 0, 0, 0, 0, 0, 1, 1, 1, 1, 0, 0, 0, 0, 0, 0, 0, 0, 0,~\n",
      "$ earnings   \u001b[3m\u001b[90m<dbl>\u001b[39m\u001b[23m 39975.010, 278378.100, 18682.600, 293336.400, 111797.300, 8~\n",
      "$ region2    \u001b[3m\u001b[90m<fct>\u001b[39m\u001b[23m Region A, Region A, Region D, Region D, Region D, Region E,~\n"
     ]
    }
   ],
   "source": [
    "#first, we write down a list of levels\n",
    "region_levels = c(1:5)\n",
    "#then, we write down a list of our labels\n",
    "region_labels = c('Region A', 'Region B', 'Region C', 'Region D', 'Region E')\n",
    "\n",
    "#now, we use the command but with some options - telling factor() how to interpret the levels\n",
    "\n",
    "fake_data <- fake_data %>%  #we start by saying we want to update the data, AND THEN... (%>%)\n",
    "    mutate(region2 = factor(region,   #notice it's factor, not as_factor\n",
    "                          levels = region_levels, \n",
    "                          labels = region_labels)) #mutate (update region) to be a factor of regions\n",
    "glimpse(fake_data)"
   ]
  },
  {
   "cell_type": "markdown",
   "id": "e09f0971-2b7c-490f-a589-954ba6792f5c",
   "metadata": {},
   "source": [
    "Again, do you see the difference between `region` and `region2` here?  This is how we can customize factor labels when creating new variables.\n",
    "\n",
    "3.  The final method is very similar to the first; if we have a large dataset, it can be tiresome to decode all of the variables one-by-one.  Instead, we can use `as_factor` on the **entire dataset** and it will convert all of the variables with appropriate types."
   ]
  },
  {
   "cell_type": "code",
   "execution_count": 18,
   "id": "a009a782-0c17-486c-9114-b4970139f849",
   "metadata": {},
   "outputs": [
    {
     "name": "stdout",
     "output_type": "stream",
     "text": [
      "Rows: 2,861,772\n",
      "Columns: 10\n",
      "$ workerid   \u001b[3m\u001b[90m<dbl>\u001b[39m\u001b[23m 1, 1, 2, 2, 2, 3, 3, 4, 4, 5, 5, 6, 6, 6, 6, 7, 7, 8, 8, 9,~\n",
      "$ year       \u001b[3m\u001b[90m<dbl>\u001b[39m\u001b[23m 1999, 2001, 2001, 2002, 2003, 2005, 2010, 1997, 2001, 2009,~\n",
      "$ sex        \u001b[3m\u001b[90m<chr>\u001b[39m\u001b[23m \"M\", \"M\", \"M\", \"M\", \"M\", \"M\", \"M\", \"M\", \"M\", \"M\", \"M\", \"M\",~\n",
      "$ birth_year \u001b[3m\u001b[90m<dbl>\u001b[39m\u001b[23m 1944, 1944, 1947, 1947, 1947, 1951, 1951, 1952, 1952, 1954,~\n",
      "$ age        \u001b[3m\u001b[90m<dbl>\u001b[39m\u001b[23m 55, 57, 54, 55, 56, 54, 59, 45, 49, 55, 57, 41, 45, 46, 49,~\n",
      "$ start_year \u001b[3m\u001b[90m<dbl>\u001b[39m\u001b[23m 1997, 1997, 2001, 2001, 2001, 2005, 2005, 1997, 1997, 1998,~\n",
      "$ region     \u001b[3m\u001b[90m<fct>\u001b[39m\u001b[23m 1, 1, 4, 4, 4, 5, 5, 5, 5, 2, 2, 5, 5, 5, 5, 2, 2, 4, 4, 2,~\n",
      "$ treated    \u001b[3m\u001b[90m<dbl>\u001b[39m\u001b[23m 0, 0, 0, 0, 0, 0, 0, 1, 1, 1, 1, 0, 0, 0, 0, 0, 0, 0, 0, 0,~\n",
      "$ earnings   \u001b[3m\u001b[90m<dbl>\u001b[39m\u001b[23m 39975.010, 278378.100, 18682.600, 293336.400, 111797.300, 8~\n",
      "$ region2    \u001b[3m\u001b[90m<fct>\u001b[39m\u001b[23m Region A, Region A, Region D, Region D, Region D, Region E,~\n"
     ]
    }
   ],
   "source": [
    "fake_data <- as_factor(fake_data)\n",
    "glimpse(fake_data)"
   ]
  },
  {
   "cell_type": "markdown",
   "id": "a2895123-45da-41b0-97d3-75125fce00a1",
   "metadata": {},
   "source": [
    "This is our final dataset, all cleaned up.  Notice that some of the variables (e.g. `sex`) were _not_ converted into factor variables.  \n",
    "\n",
    "> **Test Your Knowledge**: Can you tell why?"
   ]
  },
  {
   "cell_type": "markdown",
   "id": "86e14910-2966-40d3-b586-0405bf9463af",
   "metadata": {},
   "source": [
    "### Creating New Variables"
   ]
  },
  {
   "cell_type": "markdown",
   "id": "65a3c37a-db91-48bb-903f-764357de7c88",
   "metadata": {},
   "source": [
    "Another important clean-up task is to make new variables.  It's pretty uncommon for a dataset to already contain all of the variables we want!\n",
    "\n",
    "To do this, we can use the `mutate` command again: in fact, when we were making factor variables earlier, we were, in a sense, already making new variables!  However, let's see how we can do something more complex/\n",
    "\n",
    "As we mentioned, to create any new variable we use the command `mutate`. This command is an efficient way of manipulating the columns of our dataframe.  We supply to mutate a formula for creating the new variable:\n",
    "\n",
    "```{r}\n",
    "census_data <- census_data %>%\n",
    "        mutate(new_variable_name = function(stuff))\n",
    "```\n",
    "\n",
    "Let's see it in action with `log_wages`, a command we will use to create a new variable for the natural logarithm of wages. This can be quite useful for many models."
   ]
  },
  {
   "cell_type": "code",
   "execution_count": 19,
   "id": "30ee4c06-4b3c-4088-b0f5-7212560f94b1",
   "metadata": {},
   "outputs": [
    {
     "name": "stdout",
     "output_type": "stream",
     "text": [
      "Rows: 2,861,772\n",
      "Columns: 11\n",
      "$ workerid     \u001b[3m\u001b[90m<dbl>\u001b[39m\u001b[23m 1, 1, 2, 2, 2, 3, 3, 4, 4, 5, 5, 6, 6, 6, 6, 7, 7, 8, 8, ~\n",
      "$ year         \u001b[3m\u001b[90m<dbl>\u001b[39m\u001b[23m 1999, 2001, 2001, 2002, 2003, 2005, 2010, 1997, 2001, 200~\n",
      "$ sex          \u001b[3m\u001b[90m<chr>\u001b[39m\u001b[23m \"M\", \"M\", \"M\", \"M\", \"M\", \"M\", \"M\", \"M\", \"M\", \"M\", \"M\", \"M~\n",
      "$ birth_year   \u001b[3m\u001b[90m<dbl>\u001b[39m\u001b[23m 1944, 1944, 1947, 1947, 1947, 1951, 1951, 1952, 1952, 195~\n",
      "$ age          \u001b[3m\u001b[90m<dbl>\u001b[39m\u001b[23m 55, 57, 54, 55, 56, 54, 59, 45, 49, 55, 57, 41, 45, 46, 4~\n",
      "$ start_year   \u001b[3m\u001b[90m<dbl>\u001b[39m\u001b[23m 1997, 1997, 2001, 2001, 2001, 2005, 2005, 1997, 1997, 199~\n",
      "$ region       \u001b[3m\u001b[90m<fct>\u001b[39m\u001b[23m 1, 1, 4, 4, 4, 5, 5, 5, 5, 2, 2, 5, 5, 5, 5, 2, 2, 4, 4, ~\n",
      "$ treated      \u001b[3m\u001b[90m<dbl>\u001b[39m\u001b[23m 0, 0, 0, 0, 0, 0, 0, 1, 1, 1, 1, 0, 0, 0, 0, 0, 0, 0, 0, ~\n",
      "$ earnings     \u001b[3m\u001b[90m<dbl>\u001b[39m\u001b[23m 39975.010, 278378.100, 18682.600, 293336.400, 111797.300,~\n",
      "$ region2      \u001b[3m\u001b[90m<fct>\u001b[39m\u001b[23m Region A, Region A, Region D, Region D, Region D, Region ~\n",
      "$ log_earnings \u001b[3m\u001b[90m<dbl>\u001b[39m\u001b[23m 10.596010, 12.536736, 9.835348, 12.589075, 11.624443, 11.~\n"
     ]
    }
   ],
   "source": [
    "fake_data <- fake_data %>%\n",
    "        mutate(log_earnings = log(earnings)) #the log function\n",
    "\n",
    "glimpse(fake_data)"
   ]
  },
  {
   "cell_type": "markdown",
   "id": "313dce49-918b-4e1b-b563-f1be8683572c",
   "metadata": {},
   "source": [
    "Do you see our new variable at the bottom?  Nice!\n",
    "\n",
    "#### The `case_when` function\n",
    "\n",
    "We can also use more complex functions.  We won't cover all of them in this notebook, but we will mention one very important example: the `case_when` function.  This function creates different values for an input based on specified cases. You can read more about it by running the code block below."
   ]
  },
  {
   "cell_type": "code",
   "execution_count": null,
   "id": "f1848084-d623-4e47-8048-85f0f8047bec",
   "metadata": {},
   "outputs": [],
   "source": [
    "?case_when"
   ]
  },
  {
   "cell_type": "markdown",
   "id": "a7bc0f07-fa38-44cf-af49-12cd58511e2a",
   "metadata": {},
   "source": [
    "The bottom line is that it consists of a series of lines, and each line gives a (i) case and (ii) value for the case.\n",
    "> **Tip**: you can create a \"default\" case by using TRUE as the case in the last line.\n",
    "\n",
    "Suppose we are looking at our `pkids` variable and find it frustrating that it has three levels (`'none', 'one or more', 'not applicable'`).  We are interested in creating a dummy variable which is equal to one if the respondent has children and zero otherwise. Let's call it `has_kids`. We can use the `case_when()` function to achieve this!"
   ]
  },
  {
   "cell_type": "code",
   "execution_count": 8,
   "id": "ad9f78d0-2ca5-4fe5-9997-0baab8f3dd01",
   "metadata": {},
   "outputs": [
    {
     "name": "stdout",
     "output_type": "stream",
     "text": [
      "Rows: 391,938\n",
      "Columns: 18\n",
      "$ ppsort    \u001b[3m\u001b[90m<dbl>\u001b[39m\u001b[23m 453141, 732612, 143665, 52611, 36927, 268123, 700087, 488335~\n",
      "$ agegrp    \u001b[3m\u001b[90m<fct>\u001b[39m\u001b[23m 35 to 39 years, 40 to 44 years, 55 to 59 years, 50 to 54 yea~\n",
      "$ ageimm    \u001b[3m\u001b[90m<fct>\u001b[39m\u001b[23m not applicable, not applicable, not applicable, not applicab~\n",
      "$ cip2011   \u001b[3m\u001b[90m<fct>\u001b[39m\u001b[23m \"08 architecture, engineering, and related technologies\", \"0~\n",
      "$ fol       \u001b[3m\u001b[90m<fct>\u001b[39m\u001b[23m english only, english only, french only, french only, englis~\n",
      "$ hdgree    \u001b[3m\u001b[90m<fct>\u001b[39m\u001b[23m \"certificate of apprenticeship or certificate of qualificati~\n",
      "$ immstat   \u001b[3m\u001b[90m<fct>\u001b[39m\u001b[23m non-immigrants, non-immigrants, non-immigrants, non-immigran~\n",
      "$ kol       \u001b[3m\u001b[90m<fct>\u001b[39m\u001b[23m english only, both english and french, both english and fren~\n",
      "$ lfact     \u001b[3m\u001b[90m<fct>\u001b[39m\u001b[23m employed - worked in reference week, employed - worked in re~\n",
      "$ locstud   \u001b[3m\u001b[90m<fct>\u001b[39m\u001b[23m ontario, ontario, prince edward island, quebec, not applicab~\n",
      "$ mrkinc    \u001b[3m\u001b[90m<dbl>\u001b[39m\u001b[23m 97000, 41000, 30000, 54000, 27000, 40000, 69000, 56000, 3000~\n",
      "$ pkids     \u001b[3m\u001b[90m<fct>\u001b[39m\u001b[23m one or more, one or more, none, none, one or more, one or mo~\n",
      "$ pr        \u001b[3m\u001b[90m<fct>\u001b[39m\u001b[23m ontario, ontario, prince edward island, quebec, ontario, ont~\n",
      "$ sex       \u001b[3m\u001b[90m<fct>\u001b[39m\u001b[23m male, female, female, male, male, male, female, female, fema~\n",
      "$ vismin    \u001b[3m\u001b[90m<fct>\u001b[39m\u001b[23m \"not a visible minority\", \"not a visible minority\", \"not a v~\n",
      "$ wages     \u001b[3m\u001b[90m<dbl>\u001b[39m\u001b[23m 95000, 19000, 29000, 52000, 27000, 57000, 70000, 55000, NA, ~\n",
      "$ log_wages \u001b[3m\u001b[90m<dbl>\u001b[39m\u001b[23m 11.461632, 9.852194, 10.275051, 10.858999, 10.203592, 10.950~\n",
      "$ has_kids  \u001b[3m\u001b[90m<dbl>\u001b[39m\u001b[23m 1, 1, 0, 0, 1, 1, 1, 1, 1, 1, 0, 1, 0, 0, 0, 1, 1, 1, 0, 1, ~\n"
     ]
    }
   ],
   "source": [
    "fake_data <- fake_data %>% \n",
    "    mutate(female_dummy = case_when( #make a new variable, call it female_dummy\n",
    "        pkids == \"none\" ~ 0, #case 1: pkids is \"none\"; output is 0 (no kids)\n",
    "        pkids == \"one or more\" ~ 1, #case 2: \"one or more\"; output is 1 (kids)\n",
    "        pkids == 'not applicable' ~ 0)) #case 2: \"not applicable\"; output is 0 (no kids)\n",
    "\n",
    "glimpse (census_data)"
   ]
  },
  {
   "cell_type": "markdown",
   "id": "9a8f66ef-d174-4816-b959-c1f0c777b822",
   "metadata": {},
   "source": [
    "Notice that `has_kids` is not a factor variable.  We have to add on the appropriate code to do that."
   ]
  },
  {
   "cell_type": "markdown",
   "id": "ad84b06d-15ad-4c0a-aa4a-5ac0814c0566",
   "metadata": {},
   "source": [
    "#### Exercise: Factorize `has_kids`\n",
    "\n",
    "Create an object, stored in `answer1`, in which the census_data dataframe is identical to the one above but in which the `has_kids` variable is also in factor form."
   ]
  },
  {
   "cell_type": "code",
   "execution_count": null,
   "id": "9f30142f-933b-4e9c-ab7b-411e2cf8ea18",
   "metadata": {},
   "outputs": [],
   "source": [
    "answer1 <- census_data %>% \n",
    "                ???\n",
    "\n",
    "test_1()"
   ]
  },
  {
   "cell_type": "markdown",
   "id": "ce8453a5-7c4c-4a6c-905d-650aaab61002",
   "metadata": {},
   "source": [
    "#### More Complex Variables\n",
    "We can also create dummy variables from more complex variables. For example, we can create a dummy variable called `retired`. If the person is of retirement age then it will equal one. If they are younger than 65 (not of retirement age) then it will equal zero. To create this new variable we need to join many categories of the `agegrp` variable into one. "
   ]
  },
  {
   "cell_type": "code",
   "execution_count": 9,
   "id": "70d9760c-0e53-4be1-9f36-b30f064c5158",
   "metadata": {},
   "outputs": [
    {
     "name": "stdout",
     "output_type": "stream",
     "text": [
      "Rows: 391,938\n",
      "Columns: 19\n",
      "$ ppsort    \u001b[3m\u001b[90m<dbl>\u001b[39m\u001b[23m 453141, 732612, 143665, 52611, 36927, 268123, 700087, 488335~\n",
      "$ agegrp    \u001b[3m\u001b[90m<fct>\u001b[39m\u001b[23m 35 to 39 years, 40 to 44 years, 55 to 59 years, 50 to 54 yea~\n",
      "$ ageimm    \u001b[3m\u001b[90m<fct>\u001b[39m\u001b[23m not applicable, not applicable, not applicable, not applicab~\n",
      "$ cip2011   \u001b[3m\u001b[90m<fct>\u001b[39m\u001b[23m \"08 architecture, engineering, and related technologies\", \"0~\n",
      "$ fol       \u001b[3m\u001b[90m<fct>\u001b[39m\u001b[23m english only, english only, french only, french only, englis~\n",
      "$ hdgree    \u001b[3m\u001b[90m<fct>\u001b[39m\u001b[23m \"certificate of apprenticeship or certificate of qualificati~\n",
      "$ immstat   \u001b[3m\u001b[90m<fct>\u001b[39m\u001b[23m non-immigrants, non-immigrants, non-immigrants, non-immigran~\n",
      "$ kol       \u001b[3m\u001b[90m<fct>\u001b[39m\u001b[23m english only, both english and french, both english and fren~\n",
      "$ lfact     \u001b[3m\u001b[90m<fct>\u001b[39m\u001b[23m employed - worked in reference week, employed - worked in re~\n",
      "$ locstud   \u001b[3m\u001b[90m<fct>\u001b[39m\u001b[23m ontario, ontario, prince edward island, quebec, not applicab~\n",
      "$ mrkinc    \u001b[3m\u001b[90m<dbl>\u001b[39m\u001b[23m 97000, 41000, 30000, 54000, 27000, 40000, 69000, 56000, 3000~\n",
      "$ pkids     \u001b[3m\u001b[90m<fct>\u001b[39m\u001b[23m one or more, one or more, none, none, one or more, one or mo~\n",
      "$ pr        \u001b[3m\u001b[90m<fct>\u001b[39m\u001b[23m ontario, ontario, prince edward island, quebec, ontario, ont~\n",
      "$ sex       \u001b[3m\u001b[90m<fct>\u001b[39m\u001b[23m male, female, female, male, male, male, female, female, fema~\n",
      "$ vismin    \u001b[3m\u001b[90m<fct>\u001b[39m\u001b[23m \"not a visible minority\", \"not a visible minority\", \"not a v~\n",
      "$ wages     \u001b[3m\u001b[90m<dbl>\u001b[39m\u001b[23m 95000, 19000, 29000, 52000, 27000, 57000, 70000, 55000, NA, ~\n",
      "$ log_wages \u001b[3m\u001b[90m<dbl>\u001b[39m\u001b[23m 11.461632, 9.852194, 10.275051, 10.858999, 10.203592, 10.950~\n",
      "$ has_kids  \u001b[3m\u001b[90m<dbl>\u001b[39m\u001b[23m 1, 1, 0, 0, 1, 1, 1, 1, 1, 1, 0, 1, 0, 0, 0, 1, 1, 1, 0, 1, ~\n",
      "$ retired   \u001b[3m\u001b[90m<fct>\u001b[39m\u001b[23m 0, 0, 0, 0, 0, 0, 0, 0, 0, 0, 0, 0, 0, 0, 0, 0, 0, 0, 0, 0, ~\n"
     ]
    }
   ],
   "source": [
    "census_data <- census_data %>% \n",
    "    mutate(retired = case_when((agegrp == \"65 to 69 years\")|(agegrp == \"70 to 74 years\")|(agegrp == \"75 to 79 years\")|(agegrp == \"80 to 84 years\")|(agegrp == \"85 years and over\") ~ 1, \n",
    "                               TRUE ~ 0)) %>% ##otherwise\n",
    "    mutate(retired = as_factor(retired)) #factor\n",
    "\n",
    "glimpse(census_data)"
   ]
  },
  {
   "cell_type": "markdown",
   "id": "58905a83-f39f-45de-a728-8d7f4cb8d025",
   "metadata": {},
   "source": [
    "In general, we want to create a dummy variable to identify which individuals have a certain characteristic and which ones don't. This type of variable is very useful in many models which have trouble handling more complex types of data. You now know how to create these variables!"
   ]
  },
  {
   "cell_type": "markdown",
   "id": "54f2597a-c5ce-454b-affe-37cc66332559",
   "metadata": {},
   "source": [
    "#### Exercise: Adding a Variable\n",
    "Create an object `answer2` in which the `census_data` dataframe now has an extra dummy variable called `knows_english` which is equal to 1 if the respondent knows English and 0 if not. Make sure that this variable is factorized."
   ]
  },
  {
   "cell_type": "code",
   "execution_count": null,
   "id": "10098a62-916d-40a4-bdfd-0248978194f2",
   "metadata": {},
   "outputs": [],
   "source": [
    "answer2 <-\n",
    "\n",
    "test_2()"
   ]
  },
  {
   "cell_type": "markdown",
   "id": "81de1032-3e94-4cfd-b19c-8106fdbc32be",
   "metadata": {},
   "source": [
    "### Removing Missing Data"
   ]
  },
  {
   "cell_type": "markdown",
   "id": "7228d49f-6467-4a83-9ff2-6afb4ea343be",
   "metadata": {},
   "source": [
    "We must go through the important step of cleaning our data. For example, if we wanted to create a dummy called `visible_minority_status` (1 if the person identifies as a visible minority), we would get our values from the variable `vismin`. However, if we check the different levels and labels of that variable we can see for some individuals their visible minority status is not available. Therefore, we have to decide how to handle this situation.\n",
    "\n",
    "> **Important Note**: choosing which observations to drop is always an important research decision. There are even other ways to handle missing data beyond just dropping it - for instance, by treating \"missing\" as its own valid category. These decisions have important consequences for your analysis, and should always be carefully thought through - especially if the reasons why data are missing might not be random. <br>\n",
    "**Think Critically**: can you think of any reasons `vismin` might be missing which are not random?  What would the consequences be if we then dropped those observations?\n",
    "\n",
    "\n",
    "Let's start with simply removing the observations where data is not available. To do this, we will use the `filter()` method which conditionally drops observations. Each row (observation) is evaluated against the supplied condition. Only observations where the condition is true or met are retained (selection by inclusion) in the dataframe. The `filter()` method checks all rows at once, not just one at a time. Let's see it in action below."
   ]
  },
  {
   "cell_type": "code",
   "execution_count": 10,
   "id": "67a648e3-6fbb-4a96-ba88-fc025636f513",
   "metadata": {},
   "outputs": [
    {
     "name": "stdout",
     "output_type": "stream",
     "text": [
      "Rows: 382,276\n",
      "Columns: 19\n",
      "$ ppsort    \u001b[3m\u001b[90m<dbl>\u001b[39m\u001b[23m 453141, 732612, 143665, 52611, 36927, 268123, 700087, 488335~\n",
      "$ agegrp    \u001b[3m\u001b[90m<fct>\u001b[39m\u001b[23m 35 to 39 years, 40 to 44 years, 55 to 59 years, 50 to 54 yea~\n",
      "$ ageimm    \u001b[3m\u001b[90m<fct>\u001b[39m\u001b[23m not applicable, not applicable, not applicable, not applicab~\n",
      "$ cip2011   \u001b[3m\u001b[90m<fct>\u001b[39m\u001b[23m \"08 architecture, engineering, and related technologies\", \"0~\n",
      "$ fol       \u001b[3m\u001b[90m<fct>\u001b[39m\u001b[23m english only, english only, french only, french only, englis~\n",
      "$ hdgree    \u001b[3m\u001b[90m<fct>\u001b[39m\u001b[23m \"certificate of apprenticeship or certificate of qualificati~\n",
      "$ immstat   \u001b[3m\u001b[90m<fct>\u001b[39m\u001b[23m non-immigrants, non-immigrants, non-immigrants, non-immigran~\n",
      "$ kol       \u001b[3m\u001b[90m<fct>\u001b[39m\u001b[23m english only, both english and french, both english and fren~\n",
      "$ lfact     \u001b[3m\u001b[90m<fct>\u001b[39m\u001b[23m employed - worked in reference week, employed - worked in re~\n",
      "$ locstud   \u001b[3m\u001b[90m<fct>\u001b[39m\u001b[23m ontario, ontario, prince edward island, quebec, not applicab~\n",
      "$ mrkinc    \u001b[3m\u001b[90m<dbl>\u001b[39m\u001b[23m 97000, 41000, 30000, 54000, 27000, 40000, 69000, 56000, 3000~\n",
      "$ pkids     \u001b[3m\u001b[90m<fct>\u001b[39m\u001b[23m one or more, one or more, none, none, one or more, one or mo~\n",
      "$ pr        \u001b[3m\u001b[90m<fct>\u001b[39m\u001b[23m ontario, ontario, prince edward island, quebec, ontario, ont~\n",
      "$ sex       \u001b[3m\u001b[90m<fct>\u001b[39m\u001b[23m male, female, female, male, male, male, female, female, fema~\n",
      "$ vismin    \u001b[3m\u001b[90m<fct>\u001b[39m\u001b[23m \"not a visible minority\", \"not a visible minority\", \"not a v~\n",
      "$ wages     \u001b[3m\u001b[90m<dbl>\u001b[39m\u001b[23m 95000, 19000, 29000, 52000, 27000, 57000, 70000, 55000, NA, ~\n",
      "$ log_wages \u001b[3m\u001b[90m<dbl>\u001b[39m\u001b[23m 11.461632, 9.852194, 10.275051, 10.858999, 10.203592, 10.950~\n",
      "$ has_kids  \u001b[3m\u001b[90m<dbl>\u001b[39m\u001b[23m 1, 1, 0, 0, 1, 1, 1, 1, 1, 1, 0, 1, 0, 0, 0, 1, 1, 0, 1, 0, ~\n",
      "$ retired   \u001b[3m\u001b[90m<fct>\u001b[39m\u001b[23m 0, 0, 0, 0, 0, 0, 0, 0, 0, 0, 0, 0, 0, 0, 0, 0, 0, 0, 0, 0, ~\n"
     ]
    }
   ],
   "source": [
    "glimpse(filter(census_data, vismin != \"not available\"))"
   ]
  },
  {
   "cell_type": "markdown",
   "id": "18e96b9d-f9cb-4faa-bf43-19b1ace6869e",
   "metadata": {},
   "source": [
    "> **Recall**: The operator `!=` is a conditional statement for \"not equal to\". Therefore we are telling R to keep the observations that are not equal to \"not available\".\n",
    "\n",
    "Notice the change in the number of observations here.  Now that `NA` data has been deleted we can create the dummy!"
   ]
  },
  {
   "cell_type": "code",
   "execution_count": 11,
   "id": "ae315a36-d0cf-4bd0-bca8-d308cc1dd0fb",
   "metadata": {},
   "outputs": [
    {
     "name": "stdout",
     "output_type": "stream",
     "text": [
      "Rows: 382,276\n",
      "Columns: 20\n",
      "$ ppsort    \u001b[3m\u001b[90m<dbl>\u001b[39m\u001b[23m 453141, 732612, 143665, 52611, 36927, 268123, 700087, 488335~\n",
      "$ agegrp    \u001b[3m\u001b[90m<fct>\u001b[39m\u001b[23m 35 to 39 years, 40 to 44 years, 55 to 59 years, 50 to 54 yea~\n",
      "$ ageimm    \u001b[3m\u001b[90m<fct>\u001b[39m\u001b[23m not applicable, not applicable, not applicable, not applicab~\n",
      "$ cip2011   \u001b[3m\u001b[90m<fct>\u001b[39m\u001b[23m \"08 architecture, engineering, and related technologies\", \"0~\n",
      "$ fol       \u001b[3m\u001b[90m<fct>\u001b[39m\u001b[23m english only, english only, french only, french only, englis~\n",
      "$ hdgree    \u001b[3m\u001b[90m<fct>\u001b[39m\u001b[23m \"certificate of apprenticeship or certificate of qualificati~\n",
      "$ immstat   \u001b[3m\u001b[90m<fct>\u001b[39m\u001b[23m non-immigrants, non-immigrants, non-immigrants, non-immigran~\n",
      "$ kol       \u001b[3m\u001b[90m<fct>\u001b[39m\u001b[23m english only, both english and french, both english and fren~\n",
      "$ lfact     \u001b[3m\u001b[90m<fct>\u001b[39m\u001b[23m employed - worked in reference week, employed - worked in re~\n",
      "$ locstud   \u001b[3m\u001b[90m<fct>\u001b[39m\u001b[23m ontario, ontario, prince edward island, quebec, not applicab~\n",
      "$ mrkinc    \u001b[3m\u001b[90m<dbl>\u001b[39m\u001b[23m 97000, 41000, 30000, 54000, 27000, 40000, 69000, 56000, 3000~\n",
      "$ pkids     \u001b[3m\u001b[90m<fct>\u001b[39m\u001b[23m one or more, one or more, none, none, one or more, one or mo~\n",
      "$ pr        \u001b[3m\u001b[90m<fct>\u001b[39m\u001b[23m ontario, ontario, prince edward island, quebec, ontario, ont~\n",
      "$ sex       \u001b[3m\u001b[90m<fct>\u001b[39m\u001b[23m male, female, female, male, male, male, female, female, fema~\n",
      "$ vismin    \u001b[3m\u001b[90m<fct>\u001b[39m\u001b[23m \"not a visible minority\", \"not a visible minority\", \"not a v~\n",
      "$ wages     \u001b[3m\u001b[90m<dbl>\u001b[39m\u001b[23m 95000, 19000, 29000, 52000, 27000, 57000, 70000, 55000, NA, ~\n",
      "$ log_wages \u001b[3m\u001b[90m<dbl>\u001b[39m\u001b[23m 11.461632, 9.852194, 10.275051, 10.858999, 10.203592, 10.950~\n",
      "$ has_kids  \u001b[3m\u001b[90m<dbl>\u001b[39m\u001b[23m 1, 1, 0, 0, 1, 1, 1, 1, 1, 1, 0, 1, 0, 0, 0, 1, 1, 0, 1, 0, ~\n",
      "$ retired   \u001b[3m\u001b[90m<fct>\u001b[39m\u001b[23m 0, 0, 0, 0, 0, 0, 0, 0, 0, 0, 0, 0, 0, 0, 0, 0, 0, 0, 0, 0, ~\n",
      "$ minority  \u001b[3m\u001b[90m<fct>\u001b[39m\u001b[23m 0, 0, 0, 0, 0, 0, 0, 0, 0, 0, 0, 1, 0, 0, 0, 0, 1, 0, 0, 1, ~\n"
     ]
    }
   ],
   "source": [
    "census_data <- filter(census_data, vismin != \"not available\")\n",
    "\n",
    "census_data <- census_data %>% \n",
    "    mutate(minority = case_when(vismin == \"not a visible minority\" ~ 0, \n",
    "                                TRUE ~ 1)) %>%\n",
    "    mutate(minority = as_factor(minority))\n",
    "           \n",
    "glimpse(census_data)"
   ]
  },
  {
   "cell_type": "markdown",
   "id": "f45f0bd0-920b-4ed4-acaa-8e7de9adff75",
   "metadata": {},
   "source": [
    "Now if we wanted to check whether there is a difference between the wages of those who are and are not visible minorities, we could create a table, make a chart or run some calculations, all concepts we will learn about in other notebooks. "
   ]
  },
  {
   "cell_type": "markdown",
   "id": "03455463-6077-4fe5-a592-e82b8427b20c",
   "metadata": {},
   "source": [
    "#### Exercise: Removing Missing Data\n",
    "\n",
    "Create an object `answer3` which uses the `filter()` function to drop values of \"NA\" from `pkids` in our census dataframe."
   ]
  },
  {
   "cell_type": "code",
   "execution_count": null,
   "id": "57523ee4-a502-48a8-a7bf-6507d6cc27c9",
   "metadata": {},
   "outputs": [],
   "source": [
    "answer3 <- census_data %>% ???\n",
    "\n",
    "test_3()"
   ]
  },
  {
   "cell_type": "markdown",
   "id": "7f26fd58-b8c9-4385-af22-e727e1aeb268",
   "metadata": {},
   "source": [
    "### Changing Variable Names \n",
    "\n",
    "One optional step in our data cleaning process is changing the names of variables so they are easily accessible when producing research. More specifically, this means making all of our variable names short and descriptive. Many datasets from statistical agencies will have excellent variable names, so this is a conventional and helpful process to go through when we encounter a dataset with non-descriptive names. For instance, many older datasets have variables with names like `EDMM1928`, which are not terribly helpful!\n",
    "\n",
    "We can use the command `rename(new name = old name)` to change a variable's name."
   ]
  },
  {
   "cell_type": "code",
   "execution_count": 12,
   "id": "27b63bce-d9c1-4262-9eed-11833f85dad1",
   "metadata": {},
   "outputs": [
    {
     "data": {
      "text/html": [
       "<table class=\"dataframe\">\n",
       "<caption>A tibble: 6 × 20</caption>\n",
       "<thead>\n",
       "\t<tr><th scope=col>ppsort</th><th scope=col>agegrp</th><th scope=col>ageimm</th><th scope=col>cip2011</th><th scope=col>fol</th><th scope=col>highest_degree</th><th scope=col>immstat</th><th scope=col>kol</th><th scope=col>lfact</th><th scope=col>locstud</th><th scope=col>mrkinc</th><th scope=col>pkids</th><th scope=col>pr</th><th scope=col>sex</th><th scope=col>vismin</th><th scope=col>wages</th><th scope=col>log_wages</th><th scope=col>has_kids</th><th scope=col>retired</th><th scope=col>minority</th></tr>\n",
       "\t<tr><th scope=col>&lt;dbl&gt;</th><th scope=col>&lt;fct&gt;</th><th scope=col>&lt;fct&gt;</th><th scope=col>&lt;fct&gt;</th><th scope=col>&lt;fct&gt;</th><th scope=col>&lt;fct&gt;</th><th scope=col>&lt;fct&gt;</th><th scope=col>&lt;fct&gt;</th><th scope=col>&lt;fct&gt;</th><th scope=col>&lt;fct&gt;</th><th scope=col>&lt;dbl&gt;</th><th scope=col>&lt;fct&gt;</th><th scope=col>&lt;fct&gt;</th><th scope=col>&lt;fct&gt;</th><th scope=col>&lt;fct&gt;</th><th scope=col>&lt;dbl&gt;</th><th scope=col>&lt;dbl&gt;</th><th scope=col>&lt;dbl&gt;</th><th scope=col>&lt;fct&gt;</th><th scope=col>&lt;fct&gt;</th></tr>\n",
       "</thead>\n",
       "<tbody>\n",
       "\t<tr><td>453141</td><td>35 to 39 years</td><td>not applicable</td><td>08 architecture, engineering, and related technologies</td><td>english only</td><td>certificate of apprenticeship or certificate of qualification                                         </td><td>non-immigrants</td><td>english only           </td><td>employed - worked in reference week</td><td>ontario             </td><td>97000</td><td>one or more</td><td>ontario             </td><td>male  </td><td>not a visible minority</td><td>95000</td><td>11.461632</td><td>1</td><td>0</td><td>0</td></tr>\n",
       "\t<tr><td>732612</td><td>40 to 44 years</td><td>not applicable</td><td>06 physical and life sciences and technologies        </td><td>english only</td><td>bachelor's degree                                                                                     </td><td>non-immigrants</td><td>both english and french</td><td>employed - worked in reference week</td><td>ontario             </td><td>41000</td><td>one or more</td><td>ontario             </td><td>female</td><td>not a visible minority</td><td>19000</td><td> 9.852194</td><td>1</td><td>0</td><td>0</td></tr>\n",
       "\t<tr><td>143665</td><td>55 to 59 years</td><td>not applicable</td><td>05 business, management and public administration     </td><td>french only </td><td>program of 1 to 2 years (college, cegep and other non-university certificates or diplomas)            </td><td>non-immigrants</td><td>both english and french</td><td>employed - worked in reference week</td><td>prince edward island</td><td>30000</td><td>none       </td><td>prince edward island</td><td>female</td><td>not a visible minority</td><td>29000</td><td>10.275051</td><td>0</td><td>0</td><td>0</td></tr>\n",
       "\t<tr><td> 52611</td><td>50 to 54 years</td><td>not applicable</td><td>11 personal, protective and transportation services   </td><td>french only </td><td>trades certificate or diploma other than certificate of apprenticeship or certificate of qualification</td><td>non-immigrants</td><td>french only            </td><td>employed - worked in reference week</td><td>quebec              </td><td>54000</td><td>none       </td><td>quebec              </td><td>male  </td><td>not a visible minority</td><td>52000</td><td>10.858999</td><td>0</td><td>0</td><td>0</td></tr>\n",
       "\t<tr><td> 36927</td><td>20 to 24 years</td><td>not applicable</td><td>no postsecondary certificate, diploma or degree       </td><td>english only</td><td>secondary (high) school diploma or equivalency certificate                                            </td><td>non-immigrants</td><td>english only           </td><td>employed - worked in reference week</td><td>not applicable      </td><td>27000</td><td>one or more</td><td>ontario             </td><td>male  </td><td>not a visible minority</td><td>27000</td><td>10.203592</td><td>1</td><td>0</td><td>0</td></tr>\n",
       "\t<tr><td>268123</td><td>35 to 39 years</td><td>not applicable</td><td>no postsecondary certificate, diploma or degree       </td><td>english only</td><td>secondary (high) school diploma or equivalency certificate                                            </td><td>non-immigrants</td><td>english only           </td><td>employed - worked in reference week</td><td>not applicable      </td><td>40000</td><td>one or more</td><td>ontario             </td><td>male  </td><td>not a visible minority</td><td>57000</td><td>10.950807</td><td>1</td><td>0</td><td>0</td></tr>\n",
       "</tbody>\n",
       "</table>\n"
      ],
      "text/latex": [
       "A tibble: 6 × 20\n",
       "\\begin{tabular}{llllllllllllllllllll}\n",
       " ppsort & agegrp & ageimm & cip2011 & fol & highest\\_degree & immstat & kol & lfact & locstud & mrkinc & pkids & pr & sex & vismin & wages & log\\_wages & has\\_kids & retired & minority\\\\\n",
       " <dbl> & <fct> & <fct> & <fct> & <fct> & <fct> & <fct> & <fct> & <fct> & <fct> & <dbl> & <fct> & <fct> & <fct> & <fct> & <dbl> & <dbl> & <dbl> & <fct> & <fct>\\\\\n",
       "\\hline\n",
       "\t 453141 & 35 to 39 years & not applicable & 08 architecture, engineering, and related technologies & english only & certificate of apprenticeship or certificate of qualification                                          & non-immigrants & english only            & employed - worked in reference week & ontario              & 97000 & one or more & ontario              & male   & not a visible minority & 95000 & 11.461632 & 1 & 0 & 0\\\\\n",
       "\t 732612 & 40 to 44 years & not applicable & 06 physical and life sciences and technologies         & english only & bachelor's degree                                                                                      & non-immigrants & both english and french & employed - worked in reference week & ontario              & 41000 & one or more & ontario              & female & not a visible minority & 19000 &  9.852194 & 1 & 0 & 0\\\\\n",
       "\t 143665 & 55 to 59 years & not applicable & 05 business, management and public administration      & french only  & program of 1 to 2 years (college, cegep and other non-university certificates or diplomas)             & non-immigrants & both english and french & employed - worked in reference week & prince edward island & 30000 & none        & prince edward island & female & not a visible minority & 29000 & 10.275051 & 0 & 0 & 0\\\\\n",
       "\t  52611 & 50 to 54 years & not applicable & 11 personal, protective and transportation services    & french only  & trades certificate or diploma other than certificate of apprenticeship or certificate of qualification & non-immigrants & french only             & employed - worked in reference week & quebec               & 54000 & none        & quebec               & male   & not a visible minority & 52000 & 10.858999 & 0 & 0 & 0\\\\\n",
       "\t  36927 & 20 to 24 years & not applicable & no postsecondary certificate, diploma or degree        & english only & secondary (high) school diploma or equivalency certificate                                             & non-immigrants & english only            & employed - worked in reference week & not applicable       & 27000 & one or more & ontario              & male   & not a visible minority & 27000 & 10.203592 & 1 & 0 & 0\\\\\n",
       "\t 268123 & 35 to 39 years & not applicable & no postsecondary certificate, diploma or degree        & english only & secondary (high) school diploma or equivalency certificate                                             & non-immigrants & english only            & employed - worked in reference week & not applicable       & 40000 & one or more & ontario              & male   & not a visible minority & 57000 & 10.950807 & 1 & 0 & 0\\\\\n",
       "\\end{tabular}\n"
      ],
      "text/markdown": [
       "\n",
       "A tibble: 6 × 20\n",
       "\n",
       "| ppsort &lt;dbl&gt; | agegrp &lt;fct&gt; | ageimm &lt;fct&gt; | cip2011 &lt;fct&gt; | fol &lt;fct&gt; | highest_degree &lt;fct&gt; | immstat &lt;fct&gt; | kol &lt;fct&gt; | lfact &lt;fct&gt; | locstud &lt;fct&gt; | mrkinc &lt;dbl&gt; | pkids &lt;fct&gt; | pr &lt;fct&gt; | sex &lt;fct&gt; | vismin &lt;fct&gt; | wages &lt;dbl&gt; | log_wages &lt;dbl&gt; | has_kids &lt;dbl&gt; | retired &lt;fct&gt; | minority &lt;fct&gt; |\n",
       "|---|---|---|---|---|---|---|---|---|---|---|---|---|---|---|---|---|---|---|---|\n",
       "| 453141 | 35 to 39 years | not applicable | 08 architecture, engineering, and related technologies | english only | certificate of apprenticeship or certificate of qualification                                          | non-immigrants | english only            | employed - worked in reference week | ontario              | 97000 | one or more | ontario              | male   | not a visible minority | 95000 | 11.461632 | 1 | 0 | 0 |\n",
       "| 732612 | 40 to 44 years | not applicable | 06 physical and life sciences and technologies         | english only | bachelor's degree                                                                                      | non-immigrants | both english and french | employed - worked in reference week | ontario              | 41000 | one or more | ontario              | female | not a visible minority | 19000 |  9.852194 | 1 | 0 | 0 |\n",
       "| 143665 | 55 to 59 years | not applicable | 05 business, management and public administration      | french only  | program of 1 to 2 years (college, cegep and other non-university certificates or diplomas)             | non-immigrants | both english and french | employed - worked in reference week | prince edward island | 30000 | none        | prince edward island | female | not a visible minority | 29000 | 10.275051 | 0 | 0 | 0 |\n",
       "|  52611 | 50 to 54 years | not applicable | 11 personal, protective and transportation services    | french only  | trades certificate or diploma other than certificate of apprenticeship or certificate of qualification | non-immigrants | french only             | employed - worked in reference week | quebec               | 54000 | none        | quebec               | male   | not a visible minority | 52000 | 10.858999 | 0 | 0 | 0 |\n",
       "|  36927 | 20 to 24 years | not applicable | no postsecondary certificate, diploma or degree        | english only | secondary (high) school diploma or equivalency certificate                                             | non-immigrants | english only            | employed - worked in reference week | not applicable       | 27000 | one or more | ontario              | male   | not a visible minority | 27000 | 10.203592 | 1 | 0 | 0 |\n",
       "| 268123 | 35 to 39 years | not applicable | no postsecondary certificate, diploma or degree        | english only | secondary (high) school diploma or equivalency certificate                                             | non-immigrants | english only            | employed - worked in reference week | not applicable       | 40000 | one or more | ontario              | male   | not a visible minority | 57000 | 10.950807 | 1 | 0 | 0 |\n",
       "\n"
      ],
      "text/plain": [
       "  ppsort agegrp         ageimm        \n",
       "1 453141 35 to 39 years not applicable\n",
       "2 732612 40 to 44 years not applicable\n",
       "3 143665 55 to 59 years not applicable\n",
       "4  52611 50 to 54 years not applicable\n",
       "5  36927 20 to 24 years not applicable\n",
       "6 268123 35 to 39 years not applicable\n",
       "  cip2011                                                fol         \n",
       "1 08 architecture, engineering, and related technologies english only\n",
       "2 06 physical and life sciences and technologies         english only\n",
       "3 05 business, management and public administration      french only \n",
       "4 11 personal, protective and transportation services    french only \n",
       "5 no postsecondary certificate, diploma or degree        english only\n",
       "6 no postsecondary certificate, diploma or degree        english only\n",
       "  highest_degree                                                                                        \n",
       "1 certificate of apprenticeship or certificate of qualification                                         \n",
       "2 bachelor's degree                                                                                     \n",
       "3 program of 1 to 2 years (college, cegep and other non-university certificates or diplomas)            \n",
       "4 trades certificate or diploma other than certificate of apprenticeship or certificate of qualification\n",
       "5 secondary (high) school diploma or equivalency certificate                                            \n",
       "6 secondary (high) school diploma or equivalency certificate                                            \n",
       "  immstat        kol                     lfact                              \n",
       "1 non-immigrants english only            employed - worked in reference week\n",
       "2 non-immigrants both english and french employed - worked in reference week\n",
       "3 non-immigrants both english and french employed - worked in reference week\n",
       "4 non-immigrants french only             employed - worked in reference week\n",
       "5 non-immigrants english only            employed - worked in reference week\n",
       "6 non-immigrants english only            employed - worked in reference week\n",
       "  locstud              mrkinc pkids       pr                   sex   \n",
       "1 ontario              97000  one or more ontario              male  \n",
       "2 ontario              41000  one or more ontario              female\n",
       "3 prince edward island 30000  none        prince edward island female\n",
       "4 quebec               54000  none        quebec               male  \n",
       "5 not applicable       27000  one or more ontario              male  \n",
       "6 not applicable       40000  one or more ontario              male  \n",
       "  vismin                 wages log_wages has_kids retired minority\n",
       "1 not a visible minority 95000 11.461632 1        0       0       \n",
       "2 not a visible minority 19000  9.852194 1        0       0       \n",
       "3 not a visible minority 29000 10.275051 0        0       0       \n",
       "4 not a visible minority 52000 10.858999 0        0       0       \n",
       "5 not a visible minority 27000 10.203592 1        0       0       \n",
       "6 not a visible minority 57000 10.950807 1        0       0       "
      ]
     },
     "metadata": {},
     "output_type": "display_data"
    }
   ],
   "source": [
    "head(census_data) %>% \n",
    "    rename(highest_degree = hdgree)"
   ]
  },
  {
   "cell_type": "markdown",
   "id": "40ca1ca1-4f9d-40c9-b490-a7acf921bab3",
   "metadata": {},
   "source": [
    "## Adding and Removing Data\n",
    "The final step involves bringing in new data from other datasets or dropping existing data from our dataset entirely. In this step, we must always think very carefully about the purpose of our data in terms of the research we are doing. That guides us our decision to utilize new datasets and removing information from our existing one."
   ]
  },
  {
   "cell_type": "markdown",
   "id": "adb7bdd5-bbee-4322-9e4d-bd375f9d0d47",
   "metadata": {},
   "source": [
    "### Combining Datasets\n",
    "\n",
    "Often we will need to draw on data from multiple datasets. Most of the time, these datasets will be available for download in different files (each for a given year, month, country, etc.). For example, if we are working with macroeconomic data from Statistics Canada such as inflation rates, GDP, and population, data for these variables may be stored in different datasets corresponding to different years. Thus, if we want to compile them we need to combine them into the same data frame.\n",
    "\n",
    "There are two key ways of combining data, each reflecting different goals:\n",
    "\n",
    "1.  When we want to add more observations from another dataset into our existing dataset, we call this **appending** data.\n",
    "    * If you think of a dataset as a spreadsheet, this is like taking one dataset and \"pasting\" it into the bottom of a current dataset to add more observations. We do this when the observations from the other dataset have recorded data for all existing variables.\n",
    "2.  When we want to add new variables and their data from another dataset into our existing dataset, we call this **merging** data.\n",
    "    * This is like looking up values in a table and then adding a column; in Excel, this is called a `VLOOKUP`. Importantly, we can only merge data that share a common column or **key** to  identify observations with particular values. For example, if we want to merge in data from a different year but for the same people (observations) as those we are currently working with, datasets will usually have an identifying number for the person that functions as our key. In this dataset, every individual is identified by their `ppsort` number, so this is the key we would use to merge in new variables. "
   ]
  },
  {
   "cell_type": "markdown",
   "id": "4b32ad9d-3791-42c5-9a9b-8d7441b68a7e",
   "metadata": {},
   "source": [
    "#### Appending Datasets\n",
    "Let's say that our `census_data` dataset is inexplicably missing 2 observations, the people coded as 867543 and 923845. These people have recorded observations for all of the same variables as those in our existing dataframe, so we can simply append them to our census_data dataframe. Let's add these two people to our dataset for analysis by appending `extra_census_data` to `census_data`."
   ]
  },
  {
   "cell_type": "code",
   "execution_count": null,
   "id": "1b21d577-2b91-4ffc-be9e-386cf88182b3",
   "metadata": {},
   "outputs": [],
   "source": [
    "extra_census_data <- data.frame(ppsort = c(867543, 923845), agegrp = c(\"20 to 24 years\", \"35 to 39 years\"), \n",
    "                                ageimm = c(\"5 to 9 years\", \"0 to 4 years\"), cip2011 = c(\"01 education\", \"01 education\"),\n",
    "                                fol = c(\"english only\", \"french only\"), hdgree = c(\"bachelor's degree\", \"bachelor's degree\"),\n",
    "                                immstat = c(\"non-immigrants\", \"immigrants\"), kol = c(\"english only\", \"french only\"),\n",
    "                                lfact = c(\"employed - worked in reference week\", \"employed - worked in reference week\"),\n",
    "                                locstud = c(\"ontario\", \"quebec\"), mrkinc = c(20000, 34000), pkids = c(\"none\", \"one or more\"),\n",
    "                                pr = c(\"ontario\", \"quebec\"), sex = c(\"male\", \"female\"), vismin = c(\"chinese\", \"black\"),\n",
    "                                wages = c(15000, 30000), log_wages = c(9.615805, 10.308952), has_kids = c(0, 1),\n",
    "                                retired = c(0, 0), minority = c(1, 1))\n",
    "\n",
    "census_data <- rbind(census_data, extra_census_data)\n",
    "\n",
    "glimpse(census_data)"
   ]
  },
  {
   "cell_type": "markdown",
   "id": "6810fd8c-d423-4307-8805-e96bf2550137",
   "metadata": {},
   "source": [
    "Here we used the function `rbind()` to append these datasets. We did this because we were appending rows to the bottom of the dataframe. Our census_data dataset now has 2 more rows than before, meaning we have successfully appended these two observations to our dataframe for analysis."
   ]
  },
  {
   "cell_type": "markdown",
   "id": "6f561d5f-1548-4afa-ad92-97c9216193c9",
   "metadata": {},
   "source": [
    "#### Merging Datasets\n",
    "Suppose now that we are undergoing research and realize that we would like to include religion in our analysis. However, we don't have a variable pertaining to it currently in our census_data dataset. Luckily, we find the dataset `more_census_data` which includes a dummy variable for whether the respondent ppsort is religious. This variable is coded as `religious` and equals 1 if the person self-identifies as religious and 0 if not. "
   ]
  },
  {
   "cell_type": "code",
   "execution_count": null,
   "id": "c76f3350-5f39-4307-b594-12f34c4f18e0",
   "metadata": {},
   "outputs": [],
   "source": [
    "set.seed(123) #ignore this function!\n",
    "\n",
    "more_census_data <- data.frame(ppsort = census_data$ppsort, religious = sample(0:1, 382278, replace = TRUE))\n",
    "\n",
    "glimpse(more_census_data)"
   ]
  },
  {
   "cell_type": "markdown",
   "id": "321117e6-e0a0-44b2-b536-e30de53fe05d",
   "metadata": {},
   "source": [
    "We can see from glimpsing the above dataset that it contains the same number of observations as our census_data dataset, one observation for each `ppsort` ID. For each `ppsort` ID, there is a corresponding dummy of 0 or 1 indicating whether that person is religious. Since this is a new variable we want to add to our existing dataset, we can merge this more_census_data into our existing dataframe to match up each `religious` entry to its corresponding `ppsort` ID within the larger census_data dataframe. We can do this with the function `merge()`. This function has the following default form:\n",
    "\n",
    "Merged_Data <- merge(data frame A, data frame B, by=\"the variable that is common in both dataframes\")\n",
    "\n",
    "If the column on which we want to merge our datasets is named differently in the two dataframes, we must specify each column name in the by=\"\" option above."
   ]
  },
  {
   "cell_type": "code",
   "execution_count": null,
   "id": "c04743ce-3526-48fc-a458-34e27b6f5dc0",
   "metadata": {},
   "outputs": [],
   "source": [
    "census_data <- merge(census_data, more_census_data, by = \"ppsort\")\n",
    "glimpse(census_data)"
   ]
  },
  {
   "cell_type": "markdown",
   "id": "72c15f1f-90f4-4895-9d67-bc20b4bae032",
   "metadata": {},
   "source": [
    "We can now see that our census_data dataset has an additional variable, `religious`, with data for each person. This was an example of a simple 1:1 (one-to-one) merge since there was a perfect match between the number of observations in both datasets. In this way, there were no extra observations in either. However, this will not often be the case. Suppose we only had half of the `ppsort` IDS in our more_census_data dataframe. When merging, we could have then chosen to create our merged dataframe with only those `ppsort` who can find a \"match\" in both datasets. We could do this with the `left_join()` or `right_join()` functions, using the former if our first specified dataset was census_data and the latter if our second specified dataset was census_data within the brackets of the function. If we instead had some observations in each dataset which did not have a match (the `ppsort` ID did not match) and we didn't want to lose these observations, we could use the `full_join()` option to retain all observations within both datasets in our final dataframe. Finally, if we wanted only those observations which had matching `ppsort` IDs across both datasets, we could use the `inner_join()` function, returning us a smaller dataset. This is implicitly what we did in our merge above; however, since all observations in both datasets matched on `ppsort`, we didn't lose anything. For a helpful clarification of these commands, check out the help menu for these specific merges below!"
   ]
  },
  {
   "cell_type": "code",
   "execution_count": null,
   "id": "7ebcaff9-4a0e-4377-9b91-453fec283a76",
   "metadata": {},
   "outputs": [],
   "source": [
    "?inner_join"
   ]
  },
  {
   "cell_type": "markdown",
   "id": "2348374f-36d6-47aa-a79b-cbbcbd3e218d",
   "metadata": {},
   "source": [
    "#### Exercise: Combining Dataframes\n",
    "\n",
    "Create an object `A` which is a dataframe with two columns and two rows. The first column should be called ID and have values 1 and 2, while the second collumn should be called value1 and have values 10 and 11. Then create a second object named `B` which is a dataframe with two columns and two rows. The first column should be called ID and perfectly match the IDs in `A`, while the second column should be called value2 and have values 12 and 13. Finally, merge these two dataframes along the ID column and store in the object `answer4`."
   ]
  },
  {
   "cell_type": "code",
   "execution_count": null,
   "id": "954b8f13-8c29-4ff6-b310-513fe55bd587",
   "metadata": {},
   "outputs": [],
   "source": [
    "# your code here\n",
    "\n",
    "answer4 <- ???\n",
    "\n",
    "test_4()"
   ]
  },
  {
   "cell_type": "markdown",
   "id": "fb7255f5-b7cc-45e4-9470-815c2f7baf2d",
   "metadata": {},
   "source": [
    "### Selecting and Filtering Data\n",
    "\n",
    "Often times we have more data at our disposal than we actually need to answer the question at hand. Because the process of data collection is so resource-intensive, surveyors and researchers attempt to collect as much data as possible from each individual that is surveyed. This massive amount of data allows many research questions to be explored, even ones that weren't intended from the surveyors to begin with. The Canadian census is a great example of this. \n",
    "\n",
    "Let's assume we are interested in determining the gender pay gap for residents in British Columbia. Our current 2016 census dataset encompasses a whole host of data from nearly all residents in Canada and contains variables such as their age group, education level, income, minority status, etc. To help us with our analysis, we need to filter the census data only for residents in British Columbia. As mentioned above, the `filter()` method is used to conditionally drop rows. In our case, we can use the filter function to go through each observation in the data frame and check to see whether the province `pr` is coded as \"british columbia\", then drop all observations for which this is not the case.\n",
    "\n",
    "> **Note**: we've seen this before, but to check equivalency in R and most programming languages, you need to use `==` as opposed to `=`."
   ]
  },
  {
   "cell_type": "code",
   "execution_count": null,
   "id": "8fdc2024-a5c8-498c-978c-f583e7031b1c",
   "metadata": {},
   "outputs": [],
   "source": [
    "census_data <- census_data %>%\n",
    "    filter(pr == \"british columbia\")\n",
    "\n",
    "glimpse(census_data)"
   ]
  },
  {
   "cell_type": "markdown",
   "id": "445c10a1-1506-47fa-af1e-7704f49dad6a",
   "metadata": {},
   "source": [
    "Sometimes we want to drop variables (columns) instead of observations (rows). The `select` method in R allows us to do this. We pass as parameters to the `select` function every column we wish to keep.\n",
    "\n",
    "* `select(variables, I, want, to, keep)`\n",
    "* `select(-variables, -I, -don't, -want)`\n",
    "\n",
    "This is very useful and is usually done for practical reasons such as memory. Cleaning data sets to remove unessential information also allows us to focus our analysis and makes it easier to answer our desired research question. In our specific case, we want to keep data on just wages and sex. We will use the select function for this."
   ]
  },
  {
   "cell_type": "code",
   "execution_count": null,
   "id": "5ade9d7b-2363-41de-931a-3f6c3c5b4258",
   "metadata": {},
   "outputs": [],
   "source": [
    "head(census_data %>% select(wages, sex))"
   ]
  },
  {
   "cell_type": "markdown",
   "id": "fea8b026-be0e-4d1c-9414-19ef5ddbec26",
   "metadata": {},
   "source": [
    "As seen above, this function allows us to look at the relationship between sex and wages more directly in our raw data. To finish finding the wage gap among British Columbians (keep in mind we have filtered out those who do not fit pr == \"british columbia\"), we can then invoke the `group_by()` and `summarize()` functions we have learned in past notebooks."
   ]
  },
  {
   "cell_type": "code",
   "execution_count": null,
   "id": "041af539-f814-4c04-b6a6-fcba13179cf5",
   "metadata": {},
   "outputs": [],
   "source": [
    "# creating our more focused dataframe\n",
    "answer <- census_data %>%\n",
    "    mutate(sex = as_factor(sex)) %>% \n",
    "    filter(wages != \"NA\") %>%     \n",
    "    group_by(sex) %>%\n",
    "    summarize(average_wage = mean(wages))\n",
    "\n",
    "answer"
   ]
  },
  {
   "cell_type": "markdown",
   "id": "bddfb32c-6cf7-4454-9d6e-08a3133e52ad",
   "metadata": {},
   "source": [
    "Using the `group_by` and `summarize` tools we learned in previous lessons has allowed us to address our research question. We find that the gender pay gap between male and female British Columbians is roughly $23,000."
   ]
  },
  {
   "cell_type": "markdown",
   "id": "f4c31213-4f74-4022-b81a-166e7f45eb6b",
   "metadata": {
    "tags": []
   },
   "source": [
    "#### Exercise: Using Select and Filter\n",
    "\n",
    "Use `census_data` to create a data frame which only shows the highest education level `hdegree` for British Columbians with 100,000 CAD or more in wages. Your data frame should have a single column with the name as `hdegree`. Store your answer in the object `answer5`."
   ]
  },
  {
   "cell_type": "code",
   "execution_count": null,
   "id": "7b992cb1-b607-40e5-bc21-391affc1c9e1",
   "metadata": {},
   "outputs": [],
   "source": [
    "answer5 <-\n",
    "\n",
    "test_5()"
   ]
  },
  {
   "cell_type": "markdown",
   "id": "eb067a69-e610-439d-81dd-d24fc100530a",
   "metadata": {},
   "source": [
    "## Conclusion\n",
    "In this notebook, we have covered the basic process of working with data. You should now be familiar with how to load in data, how to define and redefine variables, how to drop missing observations, how to add in new data and drop existing data to meet your research purposes. This general scheme is critical to any research project, so it is important to keep in mind as you progress throughout your undergraduate economics courses and beyond."
   ]
  }
 ],
 "metadata": {
  "kernelspec": {
   "display_name": "R",
   "language": "R",
   "name": "ir"
  },
  "language_info": {
   "codemirror_mode": "r",
   "file_extension": ".r",
   "mimetype": "text/x-r-source",
   "name": "R",
   "pygments_lexer": "r",
   "version": "4.1.2"
  }
 },
 "nbformat": 4,
 "nbformat_minor": 5
}
