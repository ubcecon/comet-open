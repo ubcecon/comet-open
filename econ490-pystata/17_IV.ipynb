{
 "cells": [
  {
   "cell_type": "markdown",
   "id": "171ee2fb",
   "metadata": {},
   "source": [
    "# ECON 490: Instrumental Variable Analysis (17)\n",
    "\n",
    "## Prerequisites\n",
    "\n",
    "1. Run OLS regressions.\n",
    "\n",
    "## Learning Outcomes\n",
    "\n",
    "1. Understand what an instrumental variable is and the conditions it must satisfy to address the endogeneity problem.\n",
    "2. Implement a Two Stage Least Squares (2SLS) regression-based approach using an instrument. \n",
    "3. Describe the weak instrument problem.\n",
    "4. Interpret the first stage test of whether or not the instrument is weak."
   ]
  },
  {
   "cell_type": "code",
   "execution_count": 8,
   "id": "15760aa4",
   "metadata": {},
   "outputs": [
    {
     "name": "stderr",
     "output_type": "stream",
     "text": [
      "<>:2: SyntaxWarning: invalid escape sequence '\\P'\n",
      "<>:2: SyntaxWarning: invalid escape sequence '\\P'\n",
      "C:\\Users\\irene\\AppData\\Local\\Temp\\ipykernel_16976\\4069384911.py:2: SyntaxWarning: invalid escape sequence '\\P'\n",
      "  stata_setup.config('C:\\Program Files\\Stata18/','se')\n"
     ]
    }
   ],
   "source": [
    "import stata_setup\n",
    "stata_setup.config('C:\\Program Files\\Stata18/','se')"
   ]
  },
  {
   "cell_type": "code",
   "execution_count": 2,
   "id": "4033b198",
   "metadata": {},
   "outputs": [],
   "source": [
    ">>> import sys\n",
    ">>> sys.path.append('/Applications/Stata/utilities') # make sure this is the same as what you set up in Module - 1, Section 1.5.1: Setting Up PyStata\n",
    ">>> from pystata import config\n",
    ">>> config.init('se')"
   ]
  },
  {
   "cell_type": "markdown",
   "id": "c829329e",
   "metadata": {},
   "source": [
    "## 17.1 The linear IV model\n",
    "\n",
    "Consider a case where we want to know the effect of education on earnings. We may want to estimate a model like the following\n",
    "\n",
    "$$\n",
    "Y_{i} = \\alpha + \\beta X_i + \\epsilon_i\n",
    "$$\n",
    "where $Y_i$ is earnings of individual $i$ and $X_i$ is years of education of individual $i$.\n",
    "\n",
    "A possible issue comes from omitted variable bias: it is possible that the decision to attend school is influenced by other individual characteristics that are also correlated with earnings. For example, think of individuals with high innate ability. They may want to enroll in school for longer and obtain higher-level degrees. Moreover, their employers may compensate them for their high ability, regardless of their years of schooling.\n",
    "\n",
    "Instrumental variables can help us when there are hidden factors affecting both the treatment (in our case, years of education) and the outcome (in our case, earnings). The instrumental variables approach relies on finding something affecting the treatment and affecting the outcome solely through the treatment. In short, the instrument should satisfy two assumptions:\n",
    "1. *relevance*: the instrument should be correlated with the explanatory variable; in our case, it should be correlated with the years of education $X_i$;\n",
    "2. *exclusion restriction*: the instrument should be correlated with the dependent variable only through the explanatory variable; in our case, it should be correlated with $Y_i$ only through its correlation with $X_i$.\n",
    "\n",
    "Let's say we have found an instrumental variable $Z_i$ for the variable $X_i$. Then, using an Instrumental Variable analyis implies estimating the following model\n",
    "$$\n",
    "\\begin{align}\n",
    "Y_i &= \\alpha_1 + \\beta X_i + u_i  \\quad \\text{(Structural Equation)}\\\\\n",
    "X_i &= \\alpha_2 + \\gamma Z_i + e_i  \\quad \\text{(First Stage Equation)}\n",
    "\\end{align}\n",
    "$$\n",
    "where the two conditions we have seen above imply that:\n",
    "1. $\\gamma \\neq 0$;\n",
    "2. $Z_i$ is uncorrelated with $u_i$.\n",
    "\n",
    "In practice, using an Instrumental Variable analysis often implies using a Two-Stages Least Square (2SLS) estimator. The two steps of the 2SLS are:\n",
    "1. Estimate the First Stage Equation by OLS and obtain the predicted value of $X_i$. In this way, we have effectively split $X_i$ into\n",
    "$$\n",
    "X_i = \\underbrace{\\hat{X}_i}_\\text{exogenous part} + \\underbrace{\\hat{e}_i}_\\text{endogenous part} \n",
    "$$\n",
    "where $\\hat{X_i} \\equiv \\hat{\\alpha_2} + \\hat{\\gamma} Z_i $.\n",
    "\n",
    "2. Plug $\\hat{X_i}$ instead of $X_i$ into the Structural Equation and estimate via OLS. We are then using the \"exogenous\" part of $X_i$ to capture $\\beta$. \n",
    "\n",
    "<div class=\"alert alert-warning\">\n",
    "\n",
    "**Caution**: We can run 2SLS following the steps above, but when we want to do inference we need to be sure we're using the true residuals in the Structural equation $\\hat{u}_i$. The built-in Stata command `ivregress` or `ivreg2` automatically give us the right residuals.\n",
    "</div>\n",
    "\n",
    "\n",
    "Let's see how to estimate this in Stata. Once again, we can use our fictional dataset simulating wages of workers in the years 1982-2012 in a fictional country."
   ]
  },
  {
   "cell_type": "code",
   "execution_count": 3,
   "id": "01bf3838",
   "metadata": {},
   "outputs": [
    {
     "name": "stdout",
     "output_type": "stream",
     "text": [
      "\n",
      ". \n",
      ". clear* \n",
      "\n",
      ". use fake_data, clear\n",
      "\n",
      ". describe, de\n",
      "\n",
      "Contains data from fake_data.dta\n",
      " Observations:       138,138                  \n",
      "    Variables:            11                  16 Jul 2023 17:25\n",
      "        Width:            28                  \n",
      "-------------------------------------------------------------------------------\n",
      "Variable      Storage   Display    Value\n",
      "    name         type    format    label      Variable label\n",
      "-------------------------------------------------------------------------------\n",
      "workerid        long    %12.0g                Worker Identifier\n",
      "year            int     %8.0g                 Calendar Year\n",
      "sex             str1    %9s                   Sex\n",
      "age             byte    %9.0g                 Age (years)\n",
      "start_year      int     %9.0g                 Initial year worker is observed\n",
      "region          byte    %9.0g                 group(prov)\n",
      "treated         byte    %8.0g                 Treatment Dummy\n",
      "earnings        float   %9.0g                 Earnings\n",
      "sample_weight   float   %9.0g                 \n",
      "quarter_birth   float   %9.0g                 Quarter of birth\n",
      "schooling       float   %9.0g                 Years of schooling\n",
      "-------------------------------------------------------------------------------\n",
      "Sorted by: workerid\n",
      "\n",
      ". \n"
     ]
    }
   ],
   "source": [
    "%%stata\n",
    "\n",
    "clear* \n",
    "use fake_data, clear\n",
    "describe, de"
   ]
  },
  {
   "cell_type": "markdown",
   "id": "0d064ded",
   "metadata": {},
   "source": [
    "In Stata, we can perform IV analysis with a 2SLS estimator by using one of the following two commands: `ivregress` or `ivreg2`. They have a similar syntax:\n",
    "* `ivregress 2sls <Y> (<X> = <Z>)`\n",
    "* `ivreg2 <Y> (<X> = <Z>)`\n",
    "\n",
    "where instead of `<Y>`, `<X>`, and `<Z>` you have to write the names of the corresponding Y, X, and Z variables of your model.\n",
    "\n",
    "We now have to choose an instrumental variable that can work in our setting. A well-known example for an instrument for years of schooling is studied by Angrist and Krueger (1991): they propose that $Z$ is the quarter of birth. The premise behind their IV is that students are required to enter school in the *year they turn 6* but not necessarily when they are *already* 6 years old, creating a relationship between quarter of birth and schooling. At the same time, the time of the year one is born shouldn't  affect one's earnings aside from its effect on schooling.\n",
    "\n",
    "Let's see how to estimate a simple IV in Stata using our data and each one of the commands `ivregress` and `ivreg2`."
   ]
  },
  {
   "cell_type": "code",
   "execution_count": 4,
   "id": "90a39568",
   "metadata": {},
   "outputs": [
    {
     "name": "stdout",
     "output_type": "stream",
     "text": [
      "\n",
      ". \n",
      ". ivregress 2sls earnings (schooling = quarter_birth)\n",
      "\n",
      "Instrumental variables 2SLS regression            Number of obs   =    138,138\n",
      "                                                  Wald chi2(1)    =       0.03\n",
      "                                                  Prob > chi2     =     0.8691\n",
      "                                                  R-squared       =          .\n",
      "                                                  Root MSE        =     1.5e+06\n",
      "\n",
      "------------------------------------------------------------------------------\n",
      "    earnings | Coefficient  Std. err.      z    P>|z|     [95% conf. interval]\n",
      "-------------+----------------------------------------------------------------\n",
      "   schooling |   714972.8    4339032     0.16   0.869     -7789373     9219319\n",
      "       _cons |  -1.09e+07   6.68e+07    -0.16   0.870    -1.42e+08    1.20e+08\n",
      "------------------------------------------------------------------------------\n",
      "Endogenous: schooling\n",
      "Exogenous:  quarter_birth\n",
      "\n",
      ". \n"
     ]
    }
   ],
   "source": [
    "%%stata\n",
    "\n",
    "ivregress 2sls earnings (schooling = quarter_birth)"
   ]
  },
  {
   "cell_type": "code",
   "execution_count": 5,
   "id": "a03422a7",
   "metadata": {},
   "outputs": [
    {
     "name": "stdout",
     "output_type": "stream",
     "text": [
      "\n",
      ". \n",
      ". ivreg2 earnings (schooling = quarter_birth)\n",
      "\n",
      "IV (2SLS) estimation\n",
      "--------------------\n",
      "\n",
      "Estimates efficient for homoskedasticity only\n",
      "Statistics consistent for homoskedasticity only\n",
      "\n",
      "                                                      Number of obs =   138138\n",
      "                                                      F(  1,138136) =     0.03\n",
      "                                                      Prob > F      =   0.8691\n",
      "Total (centered) SS     =  8.82816e+15                Centered R2   = -36.2867\n",
      "Total (uncentered) SS   =  9.80603e+15                Uncentered R2 = -32.5684\n",
      "Residual SS             =  3.29173e+17                Root MSE      =  1.5e+06\n",
      "\n",
      "------------------------------------------------------------------------------\n",
      "    earnings | Coefficient  Std. err.      z    P>|z|     [95% conf. interval]\n",
      "-------------+----------------------------------------------------------------\n",
      "   schooling |   714972.8    4339032     0.16   0.869     -7789374     9219319\n",
      "       _cons |  -1.09e+07   6.68e+07    -0.16   0.870    -1.42e+08    1.20e+08\n",
      "------------------------------------------------------------------------------\n",
      "Underidentification test (Anderson canon. corr. LM statistic):           0.026\n",
      "                                                   Chi-sq(1) P-val =    0.8719\n",
      "------------------------------------------------------------------------------\n",
      "Weak identification test (Cragg-Donald Wald F statistic):                0.026\n",
      "Stock-Yogo weak ID test critical values: 10% maximal IV size             16.38\n",
      "                                         15% maximal IV size              8.96\n",
      "                                         20% maximal IV size              6.66\n",
      "                                         25% maximal IV size              5.53\n",
      "Source: Stock-Yogo (2005).  Reproduced by permission.\n",
      "------------------------------------------------------------------------------\n",
      "Sargan statistic (overidentification test of all instruments):           0.000\n",
      "                                                 (equation exactly identified)\n",
      "------------------------------------------------------------------------------\n",
      "Instrumented:         schooling\n",
      "Excluded instruments: quarter_birth\n",
      "------------------------------------------------------------------------------\n",
      "\n",
      ". \n"
     ]
    }
   ],
   "source": [
    "%%stata\n",
    "\n",
    "ivreg2 earnings (schooling = quarter_birth)"
   ]
  },
  {
   "cell_type": "markdown",
   "id": "8106d447",
   "metadata": {},
   "source": [
    "Both Stata functions give us a standard output: value of the coefficients, standard errors, p-value, and 95% confidence intervals. From the regression output, years of schooling does not seem to have any effect on earnings. However, before trusting these results we should check that the two assumptions on IV are met in this case: relevance and exclusion restriction.\n",
    "\n",
    "Notice that `ivreg2` gives us more details about tests we can perform to assess whether our instrument is valid. We will talk more about these tests, especially the weak identification test, in the paragraphs below."
   ]
  },
  {
   "cell_type": "markdown",
   "id": "220d609d",
   "metadata": {},
   "source": [
    "## 17.2 Weak instrument test\n",
    "While we cannot really test for exclusion restriction, we can check whether our instrument is relevant. We do that by looking directly at the First Stage. \n",
    "In Stata, we only need to add the option `first` to get an explicit output for the First Stage."
   ]
  },
  {
   "cell_type": "code",
   "execution_count": 6,
   "id": "e7c8f48e",
   "metadata": {},
   "outputs": [
    {
     "name": "stdout",
     "output_type": "stream",
     "text": [
      "\n",
      ". \n",
      ". ivregress 2sls earnings (schooling = quarter_birth), first\n",
      "\n",
      "First-stage regressions\n",
      "-----------------------\n",
      "\n",
      "                                                       Number of obs = 138,138\n",
      "                                                       F(1, 138136)  =    0.03\n",
      "                                                       Prob > F      =  0.8719\n",
      "                                                       R-squared     =  0.0000\n",
      "                                                       Adj R-squared = -0.0000\n",
      "                                                       Root MSE      =  2.2056\n",
      "\n",
      "------------------------------------------------------------------------------\n",
      "   schooling | Coefficient  Std. err.      t    P>|t|     [95% conf. interval]\n",
      "-------------+----------------------------------------------------------------\n",
      "quarter_bi~h |   .0009984   .0061896     0.16   0.872    -.0111332      .01313\n",
      "       _cons |    15.3971   .0165699   929.22   0.000     15.36463    15.42958\n",
      "------------------------------------------------------------------------------\n",
      "\n",
      "\n",
      "Instrumental variables 2SLS regression            Number of obs   =    138,138\n",
      "                                                  Wald chi2(1)    =       0.03\n",
      "                                                  Prob > chi2     =     0.8691\n",
      "                                                  R-squared       =          .\n",
      "                                                  Root MSE        =     1.5e+06\n",
      "\n",
      "------------------------------------------------------------------------------\n",
      "    earnings | Coefficient  Std. err.      z    P>|z|     [95% conf. interval]\n",
      "-------------+----------------------------------------------------------------\n",
      "   schooling |   714972.8    4339032     0.16   0.869     -7789373     9219319\n",
      "       _cons |  -1.09e+07   6.68e+07    -0.16   0.870    -1.42e+08    1.20e+08\n",
      "------------------------------------------------------------------------------\n",
      "Endogenous: schooling\n",
      "Exogenous:  quarter_birth\n",
      "\n",
      ". \n"
     ]
    }
   ],
   "source": [
    "%%stata\n",
    "\n",
    "ivregress 2sls earnings (schooling = quarter_birth), first"
   ]
  },
  {
   "cell_type": "code",
   "execution_count": 7,
   "id": "df6398de",
   "metadata": {},
   "outputs": [
    {
     "name": "stdout",
     "output_type": "stream",
     "text": [
      "\n",
      ". \n",
      ". ivreg2 earnings (schooling = quarter_birth), first\n",
      "\n",
      "First-stage regressions\n",
      "-----------------------\n",
      "\n",
      "\n",
      "First-stage regression of schooling:\n",
      "\n",
      "Statistics consistent for homoskedasticity only\n",
      "Number of obs =                 138138\n",
      "------------------------------------------------------------------------------\n",
      "   schooling | Coefficient  Std. err.      t    P>|t|     [95% conf. interval]\n",
      "-------------+----------------------------------------------------------------\n",
      "quarter_bi~h |   .0009984   .0061896     0.16   0.872    -.0111332      .01313\n",
      "       _cons |    15.3971   .0165699   929.22   0.000     15.36463    15.42958\n",
      "------------------------------------------------------------------------------\n",
      "F test of excluded instruments:\n",
      "  F(  1,138136) =     0.03\n",
      "  Prob > F      =   0.8719\n",
      "Sanderson-Windmeijer multivariate F test of excluded instruments:\n",
      "  F(  1,138136) =     0.03\n",
      "  Prob > F      =   0.8719\n",
      "\n",
      "\n",
      "\n",
      "Summary results for first-stage regressions\n",
      "-------------------------------------------\n",
      "\n",
      "                                           (Underid)            (Weak id)\n",
      "Variable     | F(  1,138136)  P-val | SW Chi-sq(  1) P-val | SW F(  1,138136)\n",
      "schooling    |       0.03    0.8719 |        0.03   0.8719 |        0.03\n",
      "\n",
      "Stock-Yogo weak ID F test critical values for single endogenous regressor:\n",
      "                                   10% maximal IV size             16.38\n",
      "                                   15% maximal IV size              8.96\n",
      "                                   20% maximal IV size              6.66\n",
      "                                   25% maximal IV size              5.53\n",
      "Source: Stock-Yogo (2005).  Reproduced by permission.\n",
      "NB: Critical values are for Sanderson-Windmeijer F statistic.\n",
      "\n",
      "Underidentification test\n",
      "Ho: matrix of reduced form coefficients has rank=K1-1 (underidentified)\n",
      "Ha: matrix has rank=K1 (identified)\n",
      "Anderson canon. corr. LM statistic       Chi-sq(1)=0.03     P-val=0.8719\n",
      "\n",
      "Weak identification test\n",
      "Ho: equation is weakly identified\n",
      "Cragg-Donald Wald F statistic                                       0.03\n",
      "\n",
      "Stock-Yogo weak ID test critical values for K1=1 and L1=1:\n",
      "                                   10% maximal IV size             16.38\n",
      "                                   15% maximal IV size              8.96\n",
      "                                   20% maximal IV size              6.66\n",
      "                                   25% maximal IV size              5.53\n",
      "Source: Stock-Yogo (2005).  Reproduced by permission.\n",
      "\n",
      "Weak-instrument-robust inference\n",
      "Tests of joint significance of endogenous regressors B1 in main equation\n",
      "Ho: B1=0 and orthogonality conditions are valid\n",
      "Anderson-Rubin Wald test           F(1,138136)=    1.01     P-val=0.3143\n",
      "Anderson-Rubin Wald test           Chi-sq(1)=      1.01     P-val=0.3143\n",
      "Stock-Wright LM S statistic        Chi-sq(1)=      1.01     P-val=0.3143\n",
      "\n",
      "Number of observations               N  =     138138\n",
      "Number of regressors                 K  =          2\n",
      "Number of endogenous regressors      K1 =          1\n",
      "Number of instruments                L  =          2\n",
      "Number of excluded instruments       L1 =          1\n",
      "\n",
      "IV (2SLS) estimation\n",
      "--------------------\n",
      "\n",
      "Estimates efficient for homoskedasticity only\n",
      "Statistics consistent for homoskedasticity only\n",
      "\n",
      "                                                      Number of obs =   138138\n",
      "                                                      F(  1,138136) =     0.03\n",
      "                                                      Prob > F      =   0.8691\n",
      "Total (centered) SS     =  8.82816e+15                Centered R2   = -36.2867\n",
      "Total (uncentered) SS   =  9.80603e+15                Uncentered R2 = -32.5684\n",
      "Residual SS             =  3.29173e+17                Root MSE      =  1.5e+06\n",
      "\n",
      "------------------------------------------------------------------------------\n",
      "    earnings | Coefficient  Std. err.      z    P>|z|     [95% conf. interval]\n",
      "-------------+----------------------------------------------------------------\n",
      "   schooling |   714972.8    4339032     0.16   0.869     -7789374     9219319\n",
      "       _cons |  -1.09e+07   6.68e+07    -0.16   0.870    -1.42e+08    1.20e+08\n",
      "------------------------------------------------------------------------------\n",
      "Underidentification test (Anderson canon. corr. LM statistic):           0.026\n",
      "                                                   Chi-sq(1) P-val =    0.8719\n",
      "------------------------------------------------------------------------------\n",
      "Weak identification test (Cragg-Donald Wald F statistic):                0.026\n",
      "Stock-Yogo weak ID test critical values: 10% maximal IV size             16.38\n",
      "                                         15% maximal IV size              8.96\n",
      "                                         20% maximal IV size              6.66\n",
      "                                         25% maximal IV size              5.53\n",
      "Source: Stock-Yogo (2005).  Reproduced by permission.\n",
      "------------------------------------------------------------------------------\n",
      "Sargan statistic (overidentification test of all instruments):           0.000\n",
      "                                                 (equation exactly identified)\n",
      "------------------------------------------------------------------------------\n",
      "Instrumented:         schooling\n",
      "Excluded instruments: quarter_birth\n",
      "------------------------------------------------------------------------------\n",
      "\n",
      ". \n"
     ]
    }
   ],
   "source": [
    "%%stata\n",
    "\n",
    "ivreg2 earnings (schooling = quarter_birth), first"
   ]
  },
  {
   "cell_type": "markdown",
   "id": "915f9b1a",
   "metadata": {},
   "source": [
    "From both methods, we can see that the instrumental variable we have chosen is not relevant for our explanatory variable $X$: *quarter_birth* is not correlated with *schooling*. Another indicator of lack of relevance is given by the F-statistic reported by Stata in the \"Weak Identification test\" row: as a rule of thumb, every time its value is less than 10, the instrument is not relevant. \n",
    "\n",
    "Whenever the correlation between $X$ and $Z$ is very close to zero (as in our case), we say we have a *weak instrument* problem. In practice, this problem will result in severe finite-sample bias and large variance in our estimates. Since our instrument is not valid, we cannot trust the results we have obtained so far. "
   ]
  },
  {
   "cell_type": "markdown",
   "id": "85582fd2",
   "metadata": {},
   "source": [
    "## 17.3 Wrap Up\n",
    "\n",
    "In this module we studied the Linear IV model and how to estimate it using the Two-Stage Least Squares Method using `ivregress` or `ivreg2`. We learned that we can overcome the endogeneity problem when we have access to a different type of variable: instrumental variables. A good instrument must satisfy two important conditions:\n",
    "\n",
    "1. It must be uncorrelated with the error term (also referred to as the exclusion restriction principle).\n",
    "2. It must be correlated, after controlling for observables, with the variable of interest (there must be a first stage).\n",
    "\n",
    "While condition 2 can be checked using regression results on the first stage, condition 1 is inherently not capable of being tested. Therefore, any project that uses instrumental variables must include a discussion, using contextual knowledge, of why condition 1 may hold. \n",
    "\n",
    "Finally, do not forget that for every endogenous variable in our regression, we require at least one instrument. For example, if we have a regression with 2 endogenous variables, we require at least 2 instrumental variables.\n",
    "\n",
    "The new commands we have encountered in this module are summarized below:\n",
    "|Command|Function|\n",
    "|---------|--------|\n",
    "|`ivregress 2sls`|It performs Instrumental Variable analysis using a Two-Stage Least Squares estimator.|\n",
    "|`ivreg2`|It performs Instrumental Variable analysis using a Two-Stage Least Squares estimator by default.|\n",
    "|`, first`| This option shows the results for the First Stage regression in the IV analysis.|"
   ]
  },
  {
   "cell_type": "markdown",
   "id": "d1eb5e2c",
   "metadata": {},
   "source": [
    "## 17.4 Video tutorial\n",
    "\n",
    "Click on the image below for a video tutorial on this module.\n",
    "\n",
    "[![Instrumental Variable Analysis](img/stata17.png)](https://learning.media.ubc.ca/media/Notebook+17+-+Instrumental+Variables/0_2j1kvl3m)"
   ]
  },
  {
   "cell_type": "markdown",
   "id": "75b2b47f",
   "metadata": {},
   "source": [
    "## References\n",
    "\n",
    "[Instrumental-variables regression using Stata](https://www.youtube.com/watch?v=lbnswRJ1qV0)"
   ]
  }
 ],
 "metadata": {
  "kernelspec": {
   "display_name": "Python 3 (ipykernel)",
   "language": "python",
   "name": "python3"
  },
  "language_info": {
   "codemirror_mode": {
    "name": "ipython",
    "version": 3
   },
   "file_extension": ".py",
   "mimetype": "text/x-python",
   "name": "python",
   "nbconvert_exporter": "python",
   "pygments_lexer": "ipython3",
   "version": "3.12.2"
  }
 },
 "nbformat": 4,
 "nbformat_minor": 5
}
