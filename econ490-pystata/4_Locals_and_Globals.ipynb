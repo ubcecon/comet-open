{
 "cells": [
  {
   "cell_type": "markdown",
   "id": "23904ebb",
   "metadata": {},
   "source": [
    "# ECON 490: Working with Locals and Globals (4)\n",
    "\n",
    "## Prerequisites \n",
    "\n",
    "1. View the characteristics of any dataset using the command `describe`.\n",
    "2. Use `help` to learn how to run commands.\n",
    "3. Understand the Stata command syntax using the command `summarize`.\n",
    "4. Create loops using the commands `for`, `while`, `forvalues` and `foreach`.\n",
    "\n",
    "## Learning Outcomes\n",
    "\n",
    "1. Recognize the difference between data set variables and Stata variables.\n",
    "2. Recognize the difference between local and global Stata variables.\n",
    "3. Use the command `local` to create temporary macros.\n",
    "4. Use the command `global` to create permanent macros.\n",
    "5. Forecast how you will use macros in your own research."
   ]
  },
  {
   "cell_type": "code",
   "execution_count": 1,
   "id": "222b04be",
   "metadata": {},
   "outputs": [
    {
     "name": "stderr",
     "output_type": "stream",
     "text": [
      "<>:2: SyntaxWarning: invalid escape sequence '\\P'\n",
      "<>:2: SyntaxWarning: invalid escape sequence '\\P'\n",
      "C:\\Users\\irene\\AppData\\Local\\Temp\\ipykernel_26356\\4069384911.py:2: SyntaxWarning: invalid escape sequence '\\P'\n",
      "  stata_setup.config('C:\\Program Files\\Stata18/','se')\n"
     ]
    },
    {
     "name": "stdout",
     "output_type": "stream",
     "text": [
      "\n",
      "  ___  ____  ____  ____  ____ ®\n",
      " /__    /   ____/   /   ____/      18.0\n",
      "___/   /   /___/   /   /___/       SE—Standard Edition\n",
      "\n",
      " Statistics and Data Science       Copyright 1985-2023 StataCorp LLC\n",
      "                                   StataCorp\n",
      "                                   4905 Lakeway Drive\n",
      "                                   College Station, Texas 77845 USA\n",
      "                                   800-STATA-PC        https://www.stata.com\n",
      "                                   979-696-4600        stata@stata.com\n",
      "\n",
      "Stata license: Unlimited-user network, expiring 19 Aug 2024\n",
      "Serial number: 401809301518\n",
      "  Licensed to: Irene Berezin\n",
      "               UBC\n",
      "\n",
      "Notes:\n",
      "      1. Unicode is supported; see help unicode_advice.\n",
      "      2. Maximum number of variables is set to 5,000 but can be increased;\n",
      "          see help set_maxvar.\n"
     ]
    }
   ],
   "source": [
    "import stata_setup\n",
    "stata_setup.config('C:\\Program Files\\Stata18/','se')"
   ]
  },
  {
   "cell_type": "code",
   "execution_count": 2,
   "id": "6a168963",
   "metadata": {
    "tags": []
   },
   "outputs": [],
   "source": [
    ">>> import sys\n",
    ">>> sys.path.append('/Applications/Stata/utilities') # make sure this is the same as what you set up in Module - 1, Section 1.5.1: Setting Up PyStata\n",
    ">>> from pystata import config\n",
    ">>> config.init('se')"
   ]
  },
  {
   "cell_type": "markdown",
   "id": "eeaff2b7",
   "metadata": {
    "tags": []
   },
   "source": [
    "## 4.1 Stata Variables\n",
    "\n",
    "In ECON 325 and ECON 326, you learned that \"variables\" are characteristics of a data set. For example, if we had a data set that included all of the countries in the world, we might have a variable which indicates each country's population. As another example, if we had a data set that included a sample of persons in Canada, we might have a variable which indicates each person's marital status. These are data set variables, and they can be qualitative (strings) or quantitative (numeric). \n",
    "\n",
    "In Stata, there is a separate category of variables available for use which we call \"macros\". Macros work as placeholders for values that we want to store either temporarily or permanently. Locals are macros that store data temporarily (within the span of the executed code), while globals are macros that store data permanently, or at least as long as we have Stata open on our computer. We can think of Stata macros as analogous to workspace objects in Python or R. Below, you are going to learn how to use these macros in your own research."
   ]
  },
  {
   "cell_type": "markdown",
   "id": "6c600f9d",
   "metadata": {
    "tags": []
   },
   "source": [
    "## 4.2 Locals \n",
    "\n",
    "Locals are an extremely useful object in Stata. A local name is usually enwrapped between two backticks. \n",
    "\n",
    "Here we will cover two popular applications of locals."
   ]
  },
  {
   "cell_type": "markdown",
   "id": "bfc6ee3d",
   "metadata": {
    "tags": []
   },
   "source": [
    "### 4.2.1 Storing results\n",
    "The first use of local macros is to store results of your code. To help you understand how powerful this is, you should be aware that most Stata commands have hidden results stored after they are run. Consider the following example"
   ]
  },
  {
   "cell_type": "code",
   "execution_count": 3,
   "id": "22d97470",
   "metadata": {
    "tags": []
   },
   "outputs": [
    {
     "name": "stdout",
     "output_type": "stream",
     "text": [
      "\n",
      ". \n",
      ". sysuse auto, clear\n",
      "(1978 automobile data)\n",
      "\n",
      ". \n",
      ". summarize price\n",
      "\n",
      "    Variable |        Obs        Mean    Std. dev.       Min        Max\n",
      "-------------+---------------------------------------------------------\n",
      "       price |         74    6165.257    2949.496       3291      15906\n",
      "\n",
      ". \n"
     ]
    }
   ],
   "source": [
    "%%stata\n",
    "\n",
    "sysuse auto, clear\n",
    "\n",
    "summarize price"
   ]
  },
  {
   "cell_type": "markdown",
   "id": "2b95c6ec",
   "metadata": {},
   "source": [
    "\n",
    "When we ran `summarize` above, Stata produced output that was stored in several local variables. We can access those stored results with the command `return list` (for regular commands) or `ereturn list` (for estimation commands, which we'll cover later in Module 12). Since `summarize` is not an estimation command, we can run the following:"
   ]
  },
  {
   "cell_type": "code",
   "execution_count": 4,
   "id": "b1e61a4a",
   "metadata": {},
   "outputs": [
    {
     "name": "stdout",
     "output_type": "stream",
     "text": [
      "\n",
      ". \n",
      ". return list\n",
      "\n",
      "scalars:\n",
      "                  r(N) =  74\n",
      "              r(sum_w) =  74\n",
      "               r(mean) =  6165.256756756757\n",
      "                r(Var) =  8699525.974268788\n",
      "                 r(sd) =  2949.495884768919\n",
      "                r(min) =  3291\n",
      "                r(max) =  15906\n",
      "                r(sum) =  456229\n",
      "\n",
      ". \n"
     ]
    }
   ],
   "source": [
    "%%stata\n",
    "\n",
    "return list"
   ]
  },
  {
   "cell_type": "markdown",
   "id": "0d76f4c2",
   "metadata": {},
   "source": [
    "Notice that Stata has reported that variables have been stored as scalars, where a scalar is simply a quantity. \n",
    "\n",
    "If we want Stata to tell us the mean price from the automobile data set that was just calculated using `summarize`, we can use the following:"
   ]
  },
  {
   "cell_type": "code",
   "execution_count": 5,
   "id": "46b4564e",
   "metadata": {
    "tags": []
   },
   "outputs": [
    {
     "name": "stdout",
     "output_type": "stream",
     "text": [
      "\n",
      ". \n",
      ". display r(mean)\n",
      "6165.2568\n",
      "\n",
      ". \n"
     ]
    }
   ],
   "source": [
    "%%stata\n",
    "\n",
    "display r(mean)"
   ]
  },
  {
   "cell_type": "markdown",
   "id": "85ecf84c",
   "metadata": {},
   "source": [
    "We can now store that scalar as a local, and use that local in other Stata commands:"
   ]
  },
  {
   "cell_type": "code",
   "execution_count": 6,
   "id": "1eb27358",
   "metadata": {},
   "outputs": [
    {
     "name": "stdout",
     "output_type": "stream",
     "text": [
      "\n",
      ". \n",
      ". local price_mean = r(mean)\n",
      "\n",
      ". display \"The mean of price variable is `price_mean'.\" \n",
      "The mean of price variable is 6165.256756756757.\n",
      "\n",
      ". \n"
     ]
    }
   ],
   "source": [
    "%%stata\n",
    "\n",
    "local price_mean = r(mean)\n",
    "display \"The mean of price variable is `price_mean'.\" "
   ]
  },
  {
   "cell_type": "markdown",
   "id": "f601e701",
   "metadata": {},
   "source": [
    "We can also modify the format of our local, so that the average price is rounded to the closest integer and there is a comma separator for thousand units. We do so by typing `%5.0fc`. To learn more about different formats in Stata, type `help format`."
   ]
  },
  {
   "cell_type": "code",
   "execution_count": 7,
   "id": "149cac67",
   "metadata": {},
   "outputs": [
    {
     "name": "stdout",
     "output_type": "stream",
     "text": [
      "\n",
      ". \n",
      ". local price_mean_formatted : display %5.0fc r(mean)\n",
      "\n",
      ". display \"The average price is `price_mean_formatted'.\"\n",
      "The average price is 6,165.\n",
      "\n",
      ". \n"
     ]
    }
   ],
   "source": [
    "%%stata\n",
    "\n",
    "local price_mean_formatted : display %5.0fc r(mean)\n",
    "display \"The average price is `price_mean_formatted'.\""
   ]
  },
  {
   "cell_type": "markdown",
   "id": "cc591fc2",
   "metadata": {},
   "source": [
    "Imagine that we wanted to create a new variable that is equal to the price minus the mean of that same variable. We would do this if we wanted to de-mean that variable or, in other words, create a new price variable that has a mean of zero. To do this, we could use the `generate` command along with the local we just created to do exactly that:"
   ]
  },
  {
   "cell_type": "code",
   "execution_count": 8,
   "id": "90fd79a7",
   "metadata": {
    "tags": []
   },
   "outputs": [
    {
     "name": "stdout",
     "output_type": "stream",
     "text": [
      "\n",
      ". \n",
      ". local price_mean = r(mean)\n",
      "\n",
      ". g price_demean = price - `price_mean'\n",
      "\n",
      ". \n"
     ]
    }
   ],
   "source": [
    "%%stata\n",
    "\n",
    "local price_mean = r(mean)\n",
    "g price_demean = price - `price_mean'"
   ]
  },
  {
   "cell_type": "markdown",
   "id": "3657af82",
   "metadata": {},
   "source": [
    "Note that there is no output when we run this command. \n",
    "\n",
    "If we try to run this command a second time, we will get an error because Stata doesn't want us to accidentally overwrite an existing variable. In order to correct this problem, we need to use the command `replace` instead of the command `generate`. Try it yourself above!\n",
    "\n",
    "Let's take a look at the mean of our new variable using `summarize` again. "
   ]
  },
  {
   "cell_type": "code",
   "execution_count": 9,
   "id": "f4ea4a76",
   "metadata": {},
   "outputs": [
    {
     "name": "stdout",
     "output_type": "stream",
     "text": [
      "\n",
      ". \n",
      ". su price_demean\n",
      "\n",
      "    Variable |        Obs        Mean    Std. dev.       Min        Max\n",
      "-------------+---------------------------------------------------------\n",
      "price_demean |         74   -.0000154    2949.496  -2874.257   9740.743\n",
      "\n",
      ". \n"
     ]
    }
   ],
   "source": [
    "%%stata\n",
    "\n",
    "su price_demean"
   ]
  },
  {
   "cell_type": "markdown",
   "id": "f126c948",
   "metadata": {},
   "source": [
    "We can see that the mean is roughly zero just as we expected. "
   ]
  },
  {
   "cell_type": "markdown",
   "id": "9d0e3a7b",
   "metadata": {
    "tags": []
   },
   "source": [
    "### 4.2.2 Executing loops\n",
    "\n",
    "Locals are automatically generated whenever we use loops (as discussed in [Module 3](econometrics/econ490-stata/3_Stata_Essentials.ipynb)). \n",
    "In this subsection, we will see how to use locals both *inside* the loop (these locals are automatically generated by Stata) and *outside* the loop (when we store the list of values to loop from into a local).\n",
    "\n",
    "Consider another common application here involving a categorical variable that can take on 5 possible values."
   ]
  },
  {
   "cell_type": "code",
   "execution_count": 10,
   "id": "fe75bae2",
   "metadata": {},
   "outputs": [
    {
     "name": "stdout",
     "output_type": "stream",
     "text": [
      "\n",
      ". \n",
      ". su rep78\n",
      "\n",
      "    Variable |        Obs        Mean    Std. dev.       Min        Max\n",
      "-------------+---------------------------------------------------------\n",
      "       rep78 |         69    3.405797    .9899323          1          5\n",
      "\n",
      ". \n"
     ]
    }
   ],
   "source": [
    "%%stata\n",
    "\n",
    "su rep78"
   ]
  },
  {
   "cell_type": "markdown",
   "id": "e58816af",
   "metadata": {},
   "source": [
    "Note that if we run the command above that we used to display the mean of price, we will now get a different value. Try it yourself!"
   ]
  },
  {
   "cell_type": "markdown",
   "id": "0516d3eb",
   "metadata": {},
   "source": [
    "There are times when we might want to save all the possible categorical values in a local. When we use the `levelsof` command as is done below, we can create a new local with a name that we choose. Here, that name is _levels_rep_."
   ]
  },
  {
   "cell_type": "code",
   "execution_count": 11,
   "id": "04173a14",
   "metadata": {},
   "outputs": [
    {
     "name": "stdout",
     "output_type": "stream",
     "text": [
      "\n",
      ". \n",
      ". levelsof rep78, local(levels_rep)\n",
      "1 2 3 4 5\n",
      "\n",
      ". \n"
     ]
    }
   ],
   "source": [
    "%%stata\n",
    "\n",
    "levelsof rep78, local(levels_rep)"
   ]
  },
  {
   "cell_type": "markdown",
   "id": "493a5610",
   "metadata": {},
   "source": [
    "We can do different things with this new list of values. For instance, we can now summarize a variable based on every distinct value of _rep78_, by creating a loop using `foreach` and looping through all the values of the newly created local. "
   ]
  },
  {
   "cell_type": "code",
   "execution_count": 12,
   "id": "1209b614",
   "metadata": {},
   "outputs": [
    {
     "name": "stdout",
     "output_type": "stream",
     "text": [
      "\n",
      ". \n",
      ". foreach x in `levels_rep' {\n",
      "  2. su price if rep78 == `x'\n",
      "  3. }\n",
      "\n",
      "    Variable |        Obs        Mean    Std. dev.       Min        Max\n",
      "-------------+---------------------------------------------------------\n",
      "       price |          2      4564.5    522.5519       4195       4934\n",
      "\n",
      "    Variable |        Obs        Mean    Std. dev.       Min        Max\n",
      "-------------+---------------------------------------------------------\n",
      "       price |          8    5967.625    3579.357       3667      14500\n",
      "\n",
      "    Variable |        Obs        Mean    Std. dev.       Min        Max\n",
      "-------------+---------------------------------------------------------\n",
      "       price |         30    6429.233     3525.14       3291      15906\n",
      "\n",
      "    Variable |        Obs        Mean    Std. dev.       Min        Max\n",
      "-------------+---------------------------------------------------------\n",
      "       price |         18      6071.5    1709.608       3829       9735\n",
      "\n",
      "    Variable |        Obs        Mean    Std. dev.       Min        Max\n",
      "-------------+---------------------------------------------------------\n",
      "       price |         11        5913    2615.763       3748      11995\n",
      "\n",
      ". \n"
     ]
    }
   ],
   "source": [
    "%%stata\n",
    "\n",
    "foreach x in `levels_rep' {\n",
    "su price if rep78 == `x'\n",
    "}"
   ]
  },
  {
   "cell_type": "markdown",
   "id": "6d2210ba",
   "metadata": {},
   "source": [
    "Notice that in the loop above there are two locals:\n",
    "1. *levels_rep* : the local containing the list of values taken by variable *rep*;\n",
    "2. *x* : the local containing, in each loop, one specific value from the list stored in *levels_rep*."
   ]
  },
  {
   "cell_type": "markdown",
   "id": "17224d12",
   "metadata": {
    "tags": []
   },
   "source": [
    "## 4.3 Globals\n",
    "Globals are equally useful in Stata. Global's name is preceded by a dollar sign.\n",
    "\n",
    "Globals have the same applications as locals, but their values are stored permanently. Due to their permanent nature, globals cannot be used *inside* loops. They can be used for all the other applications for which locals are used.\n",
    "\n",
    "Here we will cover two popular applications of globals."
   ]
  },
  {
   "cell_type": "markdown",
   "id": "01edafcc",
   "metadata": {
    "tags": []
   },
   "source": [
    "### 4.3.1 Storing lists\n",
    "Globals are used to store lists of variable names, paths and/or directories that we need for our research project. \n",
    "\n",
    "Consider the following example where we create a global called *covariates* that is simply a list of two variable names:"
   ]
  },
  {
   "cell_type": "code",
   "execution_count": 13,
   "id": "9a01b7e6",
   "metadata": {
    "tags": []
   },
   "outputs": [
    {
     "name": "stdout",
     "output_type": "stream",
     "text": [
      "\n",
      ". \n",
      ". global covariates \"rep78 foreign\"\n",
      "\n",
      ". \n"
     ]
    }
   ],
   "source": [
    "%%stata\n",
    "\n",
    "global covariates \"rep78 foreign\""
   ]
  },
  {
   "cell_type": "markdown",
   "id": "153395fa",
   "metadata": {
    "tags": []
   },
   "source": [
    "We can now use this global anywhere we want to invoke the two variables specified. When we want to indicate that we are using a global, we refer to this type of macro with the dollar sign symbol `$`.\n",
    "\n",
    "Here we `summarize` these two variables. "
   ]
  },
  {
   "cell_type": "code",
   "execution_count": 14,
   "id": "8819a98b",
   "metadata": {},
   "outputs": [
    {
     "name": "stdout",
     "output_type": "stream",
     "text": [
      "\n",
      ". \n",
      ". su ${covariates}\n",
      "\n",
      "    Variable |        Obs        Mean    Std. dev.       Min        Max\n",
      "-------------+---------------------------------------------------------\n",
      "       rep78 |         69    3.405797    .9899323          1          5\n",
      "     foreign |         74    .2972973    .4601885          0          1\n",
      "\n",
      ". \n"
     ]
    }
   ],
   "source": [
    "%%stata\n",
    "\n",
    "su ${covariates}"
   ]
  },
  {
   "cell_type": "markdown",
   "id": "e94f87fe",
   "metadata": {
    "tags": []
   },
   "source": [
    "In the empty cell below, `describe` these three variables using the macro we have just created. "
   ]
  },
  {
   "cell_type": "code",
   "execution_count": 15,
   "id": "1e108ba3",
   "metadata": {},
   "outputs": [],
   "source": [
    "%%stata\n",
    "\n"
   ]
  },
  {
   "cell_type": "markdown",
   "id": "af645ccb",
   "metadata": {},
   "source": [
    "Notice that lists of variables can be very useful when we estimate multiple regression models. Suppose that we want to estimate how price changes with mileage, controlling for the car origin and the trunk space. We can store all our control variables in one global called *controls* and then call that global directly when estimating our regression."
   ]
  },
  {
   "cell_type": "code",
   "execution_count": 16,
   "id": "bb36631a",
   "metadata": {},
   "outputs": [
    {
     "name": "stdout",
     "output_type": "stream",
     "text": [
      "\n",
      ". \n",
      ". global controls trunk foreign\n",
      "\n",
      ". reg price mpg $controls\n",
      "\n",
      "      Source |       SS           df       MS      Number of obs   =        74\n",
      "-------------+----------------------------------   F(3, 70)        =      9.68\n",
      "       Model |   186257112         3  62085704.1   Prob > F        =    0.0000\n",
      "    Residual |   448808284        70  6411546.91   R-squared       =    0.2933\n",
      "-------------+----------------------------------   Adj R-squared   =    0.2630\n",
      "       Total |   635065396        73  8699525.97   Root MSE        =    2532.1\n",
      "\n",
      "------------------------------------------------------------------------------\n",
      "       price | Coefficient  Std. err.      t    P>|t|     [95% conf. interval]\n",
      "-------------+----------------------------------------------------------------\n",
      "         mpg |  -261.9892   64.91261    -4.04   0.000    -391.4533   -132.5251\n",
      "       trunk |   83.64631   86.50052     0.97   0.337    -88.87354    256.1662\n",
      "     foreign |   1887.461   711.4158     2.65   0.010     468.5866    3306.335\n",
      "       _cons |   10033.08   2256.685     4.45   0.000     5532.264     14533.9\n",
      "------------------------------------------------------------------------------\n",
      "\n",
      ". \n"
     ]
    }
   ],
   "source": [
    "%%stata\n",
    "\n",
    "global controls trunk foreign\n",
    "reg price mpg $controls"
   ]
  },
  {
   "cell_type": "markdown",
   "id": "f29e25c1",
   "metadata": {},
   "source": [
    "Using globals for estimating regressions will be very helpful when you will have to estimate many specifications, as it reduces the likelihood of making typos or mistakes."
   ]
  },
  {
   "cell_type": "markdown",
   "id": "761249fe",
   "metadata": {
    "tags": []
   },
   "source": [
    "### 4.3.2 Changing directories\n",
    "Globals are useful to store file paths and we see more of them in the module of project workflow. \n",
    "\n",
    "In the following example, we are saving in global *datadirectory* the file path for the folder where our data is stored and in global *outputdirectory* the file path where we want to save our results.\n",
    "\n",
    "Note that this is a fictional example, so no output will be produced."
   ]
  },
  {
   "cell_type": "code",
   "execution_count": 17,
   "id": "aaec305b",
   "metadata": {},
   "outputs": [
    {
     "name": "stdout",
     "output_type": "stream",
     "text": [
      "\n",
      ". \n",
      ". global datadirectory C:\\project\\mydata\\\n",
      "\n",
      ". global outputdirectory C:\\project\\output\\\n",
      "\n",
      ". \n"
     ]
    }
   ],
   "source": [
    "%%stata\n",
    "\n",
    "global datadirectory C:\\project\\mydata\\\n",
    "global outputdirectory C:\\project\\output\\"
   ]
  },
  {
   "cell_type": "markdown",
   "id": "7d6f66b8",
   "metadata": {},
   "source": [
    "We can use global *datadirectory* to load our data more easily:"
   ]
  },
  {
   "cell_type": "code",
   "execution_count": 18,
   "id": "6d4f0540",
   "metadata": {},
   "outputs": [
    {
     "ename": "SystemError",
     "evalue": "\n. \n. use \"$datadirectory\\data.dta\", clear\nfile C:\\project\\mydata\\\\data.dta not found\nr(601);\nr(601);\n",
     "output_type": "error",
     "traceback": [
      "\u001b[1;31m---------------------------------------------------------------------------\u001b[0m",
      "\u001b[1;31mSystemError\u001b[0m                               Traceback (most recent call last)",
      "Cell \u001b[1;32mIn[18], line 1\u001b[0m\n\u001b[1;32m----> 1\u001b[0m \u001b[43mget_ipython\u001b[49m\u001b[43m(\u001b[49m\u001b[43m)\u001b[49m\u001b[38;5;241;43m.\u001b[39;49m\u001b[43mrun_cell_magic\u001b[49m\u001b[43m(\u001b[49m\u001b[38;5;124;43m'\u001b[39;49m\u001b[38;5;124;43mstata\u001b[39;49m\u001b[38;5;124;43m'\u001b[39;49m\u001b[43m,\u001b[49m\u001b[43m \u001b[49m\u001b[38;5;124;43m'\u001b[39;49m\u001b[38;5;124;43m'\u001b[39;49m\u001b[43m,\u001b[49m\u001b[43m \u001b[49m\u001b[38;5;124;43m'\u001b[39;49m\u001b[38;5;130;43;01m\\n\u001b[39;49;00m\u001b[38;5;124;43muse \u001b[39;49m\u001b[38;5;124;43m\"\u001b[39;49m\u001b[38;5;124;43m$datadirectory\u001b[39;49m\u001b[38;5;130;43;01m\\\\\u001b[39;49;00m\u001b[38;5;124;43mdata.dta\u001b[39;49m\u001b[38;5;124;43m\"\u001b[39;49m\u001b[38;5;124;43m, clear\u001b[39;49m\u001b[38;5;130;43;01m\\n\u001b[39;49;00m\u001b[38;5;124;43m'\u001b[39;49m\u001b[43m)\u001b[49m\n",
      "File \u001b[1;32m~\\anaconda3\\envs\\pystata\\Lib\\site-packages\\IPython\\core\\interactiveshell.py:2517\u001b[0m, in \u001b[0;36mInteractiveShell.run_cell_magic\u001b[1;34m(self, magic_name, line, cell)\u001b[0m\n\u001b[0;32m   2515\u001b[0m \u001b[38;5;28;01mwith\u001b[39;00m \u001b[38;5;28mself\u001b[39m\u001b[38;5;241m.\u001b[39mbuiltin_trap:\n\u001b[0;32m   2516\u001b[0m     args \u001b[38;5;241m=\u001b[39m (magic_arg_s, cell)\n\u001b[1;32m-> 2517\u001b[0m     result \u001b[38;5;241m=\u001b[39m \u001b[43mfn\u001b[49m\u001b[43m(\u001b[49m\u001b[38;5;241;43m*\u001b[39;49m\u001b[43margs\u001b[49m\u001b[43m,\u001b[49m\u001b[43m \u001b[49m\u001b[38;5;241;43m*\u001b[39;49m\u001b[38;5;241;43m*\u001b[39;49m\u001b[43mkwargs\u001b[49m\u001b[43m)\u001b[49m\n\u001b[0;32m   2519\u001b[0m \u001b[38;5;66;03m# The code below prevents the output from being displayed\u001b[39;00m\n\u001b[0;32m   2520\u001b[0m \u001b[38;5;66;03m# when using magics with decorator @output_can_be_silenced\u001b[39;00m\n\u001b[0;32m   2521\u001b[0m \u001b[38;5;66;03m# when the last Python token in the expression is a ';'.\u001b[39;00m\n\u001b[0;32m   2522\u001b[0m \u001b[38;5;28;01mif\u001b[39;00m \u001b[38;5;28mgetattr\u001b[39m(fn, magic\u001b[38;5;241m.\u001b[39mMAGIC_OUTPUT_CAN_BE_SILENCED, \u001b[38;5;28;01mFalse\u001b[39;00m):\n",
      "File \u001b[1;32mC:\\Program Files\\Stata18/utilities\\pystata\\ipython\\stpymagic.py:276\u001b[0m, in \u001b[0;36mPyStataMagic.stata\u001b[1;34m(self, line, cell, local_ns)\u001b[0m\n\u001b[0;32m    274\u001b[0m     _stata\u001b[38;5;241m.\u001b[39mrun(cell, quietly\u001b[38;5;241m=\u001b[39m\u001b[38;5;28;01mTrue\u001b[39;00m, inline\u001b[38;5;241m=\u001b[39m_config\u001b[38;5;241m.\u001b[39mstconfig[\u001b[38;5;124m'\u001b[39m\u001b[38;5;124mgrshow\u001b[39m\u001b[38;5;124m'\u001b[39m])\n\u001b[0;32m    275\u001b[0m \u001b[38;5;28;01melse\u001b[39;00m:\n\u001b[1;32m--> 276\u001b[0m     \u001b[43m_stata\u001b[49m\u001b[38;5;241;43m.\u001b[39;49m\u001b[43mrun\u001b[49m\u001b[43m(\u001b[49m\u001b[43mcell\u001b[49m\u001b[43m,\u001b[49m\u001b[43m \u001b[49m\u001b[43mquietly\u001b[49m\u001b[38;5;241;43m=\u001b[39;49m\u001b[38;5;28;43;01mFalse\u001b[39;49;00m\u001b[43m,\u001b[49m\u001b[43m \u001b[49m\u001b[43minline\u001b[49m\u001b[38;5;241;43m=\u001b[39;49m\u001b[43m_config\u001b[49m\u001b[38;5;241;43m.\u001b[39;49m\u001b[43mstconfig\u001b[49m\u001b[43m[\u001b[49m\u001b[38;5;124;43m'\u001b[39;49m\u001b[38;5;124;43mgrshow\u001b[39;49m\u001b[38;5;124;43m'\u001b[39;49m\u001b[43m]\u001b[49m\u001b[43m)\u001b[49m\n\u001b[0;32m    278\u001b[0m \u001b[38;5;28;01mif\u001b[39;00m \u001b[38;5;124m'\u001b[39m\u001b[38;5;124m-gw\u001b[39m\u001b[38;5;124m'\u001b[39m \u001b[38;5;129;01min\u001b[39;00m args \u001b[38;5;129;01mor\u001b[39;00m \u001b[38;5;124m'\u001b[39m\u001b[38;5;124m-gh\u001b[39m\u001b[38;5;124m'\u001b[39m \u001b[38;5;129;01min\u001b[39;00m args:\n\u001b[0;32m    279\u001b[0m     _config\u001b[38;5;241m.\u001b[39mset_graph_size(gwidth, gheight)\n",
      "File \u001b[1;32mC:\\Program Files\\Stata18/utilities\\pystata\\stata.py:325\u001b[0m, in \u001b[0;36mrun\u001b[1;34m(cmd, quietly, echo, inline)\u001b[0m\n\u001b[0;32m    323\u001b[0m \u001b[38;5;124m        _stata_wrk2(\u001b[39m\u001b[38;5;124m\"\u001b[39m\u001b[38;5;124mqui include \u001b[39m\u001b[38;5;124m\"\u001b[39m\u001b[38;5;124m + tmpf, None, False, 1)\u001b[39m\n\u001b[0;32m    324\u001b[0m \u001b[38;5;124m    else:\u001b[39m\n\u001b[1;32m--> 325\u001b[0m \u001b[38;5;124m        _stata_wrk2(\u001b[39m\u001b[38;5;124;43m\"\u001b[39;49m\u001b[38;5;124;43minclude \u001b[39;49m\u001b[38;5;124;43m\"\u001b[39;49m\u001b[38;5;124;43m + tmpf, None, False, 1)\u001b[39;49m\n\u001b[0;32m    327\u001b[0m \u001b[38;5;124mif inline:\u001b[39m\n\u001b[0;32m    328\u001b[0m \u001b[38;5;124m    if config.get_stipython()>=3:\u001b[39m\n",
      "File \u001b[1;32mC:\\Program Files\\Stata18/utilities\\pystata\\stata.py:116\u001b[0m, in \u001b[0;36m_stata_wrk2\u001b[1;34m(cmd, real_cmd, colon, mode)\u001b[0m\n\u001b[0;32m    114\u001b[0m         err \u001b[38;5;241m=\u001b[39m callback[\u001b[38;5;241m0\u001b[39m]\n\u001b[0;32m    115\u001b[0m         callback\u001b[38;5;241m.\u001b[39mclear()\n\u001b[1;32m--> 116\u001b[0m         \u001b[38;5;28;01mraise\u001b[39;00m \u001b[38;5;167;01mSystemError\u001b[39;00m(err)\n\u001b[0;32m    117\u001b[0m \u001b[38;5;28;01mexcept\u001b[39;00m \u001b[38;5;167;01mKeyboardInterrupt\u001b[39;00m:\n\u001b[0;32m    118\u001b[0m     outputter\u001b[38;5;241m.\u001b[39mdone()\n",
      "\u001b[1;31mSystemError\u001b[0m: \n. \n. use \"$datadirectory\\data.dta\", clear\nfile C:\\project\\mydata\\\\data.dta not found\nr(601);\nr(601);\n"
     ]
    }
   ],
   "source": [
    "%%stata\n",
    "\n",
    "use \"$datadirectory\\data.dta\", clear"
   ]
  },
  {
   "cell_type": "markdown",
   "id": "0b25c84b",
   "metadata": {},
   "source": [
    "Similarly, once we have finished editing our data, we can store our results in the folder saved within global *outputdirectory*:"
   ]
  },
  {
   "cell_type": "code",
   "execution_count": 19,
   "id": "8c204a4e",
   "metadata": {},
   "outputs": [
    {
     "ename": "SystemError",
     "evalue": "\n. \n. save using \"$outputdirectory\\output.dta\", replace\ninvalid '\"C:\\project\\output\\\\output.dta' \nr(198);\nr(198);\n",
     "output_type": "error",
     "traceback": [
      "\u001b[1;31m---------------------------------------------------------------------------\u001b[0m",
      "\u001b[1;31mSystemError\u001b[0m                               Traceback (most recent call last)",
      "Cell \u001b[1;32mIn[19], line 1\u001b[0m\n\u001b[1;32m----> 1\u001b[0m \u001b[43mget_ipython\u001b[49m\u001b[43m(\u001b[49m\u001b[43m)\u001b[49m\u001b[38;5;241;43m.\u001b[39;49m\u001b[43mrun_cell_magic\u001b[49m\u001b[43m(\u001b[49m\u001b[38;5;124;43m'\u001b[39;49m\u001b[38;5;124;43mstata\u001b[39;49m\u001b[38;5;124;43m'\u001b[39;49m\u001b[43m,\u001b[49m\u001b[43m \u001b[49m\u001b[38;5;124;43m'\u001b[39;49m\u001b[38;5;124;43m'\u001b[39;49m\u001b[43m,\u001b[49m\u001b[43m \u001b[49m\u001b[38;5;124;43m'\u001b[39;49m\u001b[38;5;130;43;01m\\n\u001b[39;49;00m\u001b[38;5;124;43msave using \u001b[39;49m\u001b[38;5;124;43m\"\u001b[39;49m\u001b[38;5;124;43m$outputdirectory\u001b[39;49m\u001b[38;5;130;43;01m\\\\\u001b[39;49;00m\u001b[38;5;124;43moutput.dta\u001b[39;49m\u001b[38;5;124;43m\"\u001b[39;49m\u001b[38;5;124;43m, replace\u001b[39;49m\u001b[38;5;130;43;01m\\n\u001b[39;49;00m\u001b[38;5;124;43m'\u001b[39;49m\u001b[43m)\u001b[49m\n",
      "File \u001b[1;32m~\\anaconda3\\envs\\pystata\\Lib\\site-packages\\IPython\\core\\interactiveshell.py:2517\u001b[0m, in \u001b[0;36mInteractiveShell.run_cell_magic\u001b[1;34m(self, magic_name, line, cell)\u001b[0m\n\u001b[0;32m   2515\u001b[0m \u001b[38;5;28;01mwith\u001b[39;00m \u001b[38;5;28mself\u001b[39m\u001b[38;5;241m.\u001b[39mbuiltin_trap:\n\u001b[0;32m   2516\u001b[0m     args \u001b[38;5;241m=\u001b[39m (magic_arg_s, cell)\n\u001b[1;32m-> 2517\u001b[0m     result \u001b[38;5;241m=\u001b[39m \u001b[43mfn\u001b[49m\u001b[43m(\u001b[49m\u001b[38;5;241;43m*\u001b[39;49m\u001b[43margs\u001b[49m\u001b[43m,\u001b[49m\u001b[43m \u001b[49m\u001b[38;5;241;43m*\u001b[39;49m\u001b[38;5;241;43m*\u001b[39;49m\u001b[43mkwargs\u001b[49m\u001b[43m)\u001b[49m\n\u001b[0;32m   2519\u001b[0m \u001b[38;5;66;03m# The code below prevents the output from being displayed\u001b[39;00m\n\u001b[0;32m   2520\u001b[0m \u001b[38;5;66;03m# when using magics with decorator @output_can_be_silenced\u001b[39;00m\n\u001b[0;32m   2521\u001b[0m \u001b[38;5;66;03m# when the last Python token in the expression is a ';'.\u001b[39;00m\n\u001b[0;32m   2522\u001b[0m \u001b[38;5;28;01mif\u001b[39;00m \u001b[38;5;28mgetattr\u001b[39m(fn, magic\u001b[38;5;241m.\u001b[39mMAGIC_OUTPUT_CAN_BE_SILENCED, \u001b[38;5;28;01mFalse\u001b[39;00m):\n",
      "File \u001b[1;32mC:\\Program Files\\Stata18/utilities\\pystata\\ipython\\stpymagic.py:276\u001b[0m, in \u001b[0;36mPyStataMagic.stata\u001b[1;34m(self, line, cell, local_ns)\u001b[0m\n\u001b[0;32m    274\u001b[0m     _stata\u001b[38;5;241m.\u001b[39mrun(cell, quietly\u001b[38;5;241m=\u001b[39m\u001b[38;5;28;01mTrue\u001b[39;00m, inline\u001b[38;5;241m=\u001b[39m_config\u001b[38;5;241m.\u001b[39mstconfig[\u001b[38;5;124m'\u001b[39m\u001b[38;5;124mgrshow\u001b[39m\u001b[38;5;124m'\u001b[39m])\n\u001b[0;32m    275\u001b[0m \u001b[38;5;28;01melse\u001b[39;00m:\n\u001b[1;32m--> 276\u001b[0m     \u001b[43m_stata\u001b[49m\u001b[38;5;241;43m.\u001b[39;49m\u001b[43mrun\u001b[49m\u001b[43m(\u001b[49m\u001b[43mcell\u001b[49m\u001b[43m,\u001b[49m\u001b[43m \u001b[49m\u001b[43mquietly\u001b[49m\u001b[38;5;241;43m=\u001b[39;49m\u001b[38;5;28;43;01mFalse\u001b[39;49;00m\u001b[43m,\u001b[49m\u001b[43m \u001b[49m\u001b[43minline\u001b[49m\u001b[38;5;241;43m=\u001b[39;49m\u001b[43m_config\u001b[49m\u001b[38;5;241;43m.\u001b[39;49m\u001b[43mstconfig\u001b[49m\u001b[43m[\u001b[49m\u001b[38;5;124;43m'\u001b[39;49m\u001b[38;5;124;43mgrshow\u001b[39;49m\u001b[38;5;124;43m'\u001b[39;49m\u001b[43m]\u001b[49m\u001b[43m)\u001b[49m\n\u001b[0;32m    278\u001b[0m \u001b[38;5;28;01mif\u001b[39;00m \u001b[38;5;124m'\u001b[39m\u001b[38;5;124m-gw\u001b[39m\u001b[38;5;124m'\u001b[39m \u001b[38;5;129;01min\u001b[39;00m args \u001b[38;5;129;01mor\u001b[39;00m \u001b[38;5;124m'\u001b[39m\u001b[38;5;124m-gh\u001b[39m\u001b[38;5;124m'\u001b[39m \u001b[38;5;129;01min\u001b[39;00m args:\n\u001b[0;32m    279\u001b[0m     _config\u001b[38;5;241m.\u001b[39mset_graph_size(gwidth, gheight)\n",
      "File \u001b[1;32mC:\\Program Files\\Stata18/utilities\\pystata\\stata.py:325\u001b[0m, in \u001b[0;36mrun\u001b[1;34m(cmd, quietly, echo, inline)\u001b[0m\n\u001b[0;32m    323\u001b[0m \u001b[38;5;124m        _stata_wrk2(\u001b[39m\u001b[38;5;124m\"\u001b[39m\u001b[38;5;124mqui include \u001b[39m\u001b[38;5;124m\"\u001b[39m\u001b[38;5;124m + tmpf, None, False, 1)\u001b[39m\n\u001b[0;32m    324\u001b[0m \u001b[38;5;124m    else:\u001b[39m\n\u001b[1;32m--> 325\u001b[0m \u001b[38;5;124m        _stata_wrk2(\u001b[39m\u001b[38;5;124;43m\"\u001b[39;49m\u001b[38;5;124;43minclude \u001b[39;49m\u001b[38;5;124;43m\"\u001b[39;49m\u001b[38;5;124;43m + tmpf, None, False, 1)\u001b[39;49m\n\u001b[0;32m    327\u001b[0m \u001b[38;5;124mif inline:\u001b[39m\n\u001b[0;32m    328\u001b[0m \u001b[38;5;124m    if config.get_stipython()>=3:\u001b[39m\n",
      "File \u001b[1;32mC:\\Program Files\\Stata18/utilities\\pystata\\stata.py:116\u001b[0m, in \u001b[0;36m_stata_wrk2\u001b[1;34m(cmd, real_cmd, colon, mode)\u001b[0m\n\u001b[0;32m    114\u001b[0m         err \u001b[38;5;241m=\u001b[39m callback[\u001b[38;5;241m0\u001b[39m]\n\u001b[0;32m    115\u001b[0m         callback\u001b[38;5;241m.\u001b[39mclear()\n\u001b[1;32m--> 116\u001b[0m         \u001b[38;5;28;01mraise\u001b[39;00m \u001b[38;5;167;01mSystemError\u001b[39;00m(err)\n\u001b[0;32m    117\u001b[0m \u001b[38;5;28;01mexcept\u001b[39;00m \u001b[38;5;167;01mKeyboardInterrupt\u001b[39;00m:\n\u001b[0;32m    118\u001b[0m     outputter\u001b[38;5;241m.\u001b[39mdone()\n",
      "\u001b[1;31mSystemError\u001b[0m: \n. \n. save using \"$outputdirectory\\output.dta\", replace\ninvalid '\"C:\\project\\output\\\\output.dta' \nr(198);\nr(198);\n"
     ]
    }
   ],
   "source": [
    "%%stata\n",
    "\n",
    "save using \"$outputdirectory\\output.dta\", replace"
   ]
  },
  {
   "cell_type": "markdown",
   "id": "502432dd",
   "metadata": {
    "tags": []
   },
   "source": [
    "## 4.5 Common mistakes\n",
    "\n",
    "The most common mistake that happens when using locals or globals is to accidentally save an empty macro.\n",
    "In those cases, the local or global will contain no value. This can happen if you run only some lines of the do file in your local machine, as the local macros defined in the original do file are not defined in the smaller subset of do file you are running.\n",
    "These errors can happen if you run Stata on your local machine, but not if you run your code on JupyterLab.\n",
    "To avoid this kind of mistake, run your do file entirely, not pieces of it.\n",
    "\n",
    "Another common mistake is to save the wrong values in your local variable. Stata always updates the automatically created locals in `return list` or `ereturn list`. In the following example, we fail to save the average price because Stata has updated the value of `r(mean)` with the average length. "
   ]
  },
  {
   "cell_type": "code",
   "execution_count": 20,
   "id": "89f4b2b2",
   "metadata": {},
   "outputs": [
    {
     "name": "stdout",
     "output_type": "stream",
     "text": [
      "\n",
      ". \n",
      ". summarize price length\n",
      "\n",
      "    Variable |        Obs        Mean    Std. dev.       Min        Max\n",
      "-------------+---------------------------------------------------------\n",
      "       price |         74    6165.257    2949.496       3291      15906\n",
      "      length |         74    187.9324    22.26634        142        233\n",
      "\n",
      ". \n"
     ]
    }
   ],
   "source": [
    "%%stata\n",
    "\n",
    "summarize price length"
   ]
  },
  {
   "cell_type": "code",
   "execution_count": 21,
   "id": "7f998878",
   "metadata": {},
   "outputs": [
    {
     "name": "stdout",
     "output_type": "stream",
     "text": [
      "\n",
      ". \n",
      ". return list\n",
      "\n",
      "scalars:\n",
      "                  r(N) =  74\n",
      "              r(sum_w) =  74\n",
      "               r(mean) =  187.9324324324324\n",
      "                r(Var) =  495.7898926323584\n",
      "                 r(sd) =  22.26633990202158\n",
      "                r(min) =  142\n",
      "                r(max) =  233\n",
      "                r(sum) =  13907\n",
      "\n",
      ". \n"
     ]
    }
   ],
   "source": [
    "%%stata\n",
    "\n",
    "return list"
   ]
  },
  {
   "cell_type": "code",
   "execution_count": 22,
   "id": "2fbe099e",
   "metadata": {},
   "outputs": [
    {
     "name": "stdout",
     "output_type": "stream",
     "text": [
      "\n",
      ". \n",
      ". local price_mean = r(mean)\n",
      "\n",
      ". display \"The average price is `price_mean'.\" \n",
      "The average price is 187.9324324324324.\n",
      "\n",
      ". \n"
     ]
    }
   ],
   "source": [
    "%%stata\n",
    "\n",
    "local price_mean = r(mean)\n",
    "display \"The average price is `price_mean'.\" "
   ]
  },
  {
   "cell_type": "markdown",
   "id": "d9d35c4f",
   "metadata": {
    "tags": []
   },
   "source": [
    "## 4.6 Wrap Up\n",
    "\n",
    "In this module we learned how Stata has its own set of variables that have some very useful applications. We will see these macros throughout the following modules. You will also use them in your own research project.  \n",
    "\n",
    "To demonstrate how useful macros can be, we can use our _covariates_ global to run a very simple regression in which _price_ is the dependent variable and the explanatory variables are _rep78_ and _foreign_. That command using our macro would be:"
   ]
  },
  {
   "cell_type": "code",
   "execution_count": 23,
   "id": "15026f85",
   "metadata": {},
   "outputs": [
    {
     "name": "stdout",
     "output_type": "stream",
     "text": [
      "\n",
      ". \n",
      ". regress price ${covariates}\n",
      "\n",
      "      Source |       SS           df       MS      Number of obs   =        69\n",
      "-------------+----------------------------------   F(2, 66)        =      0.02\n",
      "       Model |  425748.824         2  212874.412   Prob > F        =    0.9759\n",
      "    Residual |   576371210        66  8732897.12   R-squared       =    0.0007\n",
      "-------------+----------------------------------   Adj R-squared   =   -0.0295\n",
      "       Total |   576796959        68  8482308.22   Root MSE        =    2955.1\n",
      "\n",
      "------------------------------------------------------------------------------\n",
      "       price | Coefficient  Std. err.      t    P>|t|     [95% conf. interval]\n",
      "-------------+----------------------------------------------------------------\n",
      "       rep78 |   76.29497   449.2741     0.17   0.866    -820.7098    973.2997\n",
      "     foreign |  -205.6112   959.5456    -0.21   0.831    -2121.406    1710.183\n",
      "       _cons |   5948.776   1422.631     4.18   0.000     3108.401     8789.15\n",
      "------------------------------------------------------------------------------\n",
      "\n",
      ". \n"
     ]
    }
   ],
   "source": [
    "%%stata\n",
    "\n",
    "regress price ${covariates}"
   ]
  },
  {
   "cell_type": "markdown",
   "id": "3916f23d",
   "metadata": {},
   "source": [
    "If we only wanted to include observations where price is above average, then using the local we created earlier in this module the regression would be:"
   ]
  },
  {
   "cell_type": "code",
   "execution_count": 24,
   "id": "f700e282",
   "metadata": {},
   "outputs": [
    {
     "name": "stdout",
     "output_type": "stream",
     "text": [
      "\n",
      ". \n",
      ". regress price ${covariates} if price > `price_mean'\n",
      "\n",
      "      Source |       SS           df       MS      Number of obs   =        69\n",
      "-------------+----------------------------------   F(2, 66)        =      0.02\n",
      "       Model |  425748.824         2  212874.412   Prob > F        =    0.9759\n",
      "    Residual |   576371210        66  8732897.12   R-squared       =    0.0007\n",
      "-------------+----------------------------------   Adj R-squared   =   -0.0295\n",
      "       Total |   576796959        68  8482308.22   Root MSE        =    2955.1\n",
      "\n",
      "------------------------------------------------------------------------------\n",
      "       price | Coefficient  Std. err.      t    P>|t|     [95% conf. interval]\n",
      "-------------+----------------------------------------------------------------\n",
      "       rep78 |   76.29497   449.2741     0.17   0.866    -820.7098    973.2997\n",
      "     foreign |  -205.6112   959.5456    -0.21   0.831    -2121.406    1710.183\n",
      "       _cons |   5948.776   1422.631     4.18   0.000     3108.401     8789.15\n",
      "------------------------------------------------------------------------------\n",
      "\n",
      ". \n"
     ]
    }
   ],
   "source": [
    "%%stata\n",
    "\n",
    "regress price ${covariates} if price > `price_mean'"
   ]
  },
  {
   "cell_type": "markdown",
   "id": "63e4857f",
   "metadata": {},
   "source": [
    "You can see for yourself that Stata ran the regression on only a subset of the data.\n",
    "\n",
    "In the next module, we will work on importing data sets in various formats."
   ]
  },
  {
   "cell_type": "markdown",
   "id": "00886a4e",
   "metadata": {},
   "source": [
    "## 4.7 Video tutorial\n",
    "\n",
    "Click on the image below for a video tutorial on this module.\n",
    "\n",
    "[![Working with Locals and Globals](img/stata4.png)](https://learning.media.ubc.ca/media/Notebook+4+-+Working+with+Locals+and+Globals/0_54w4lj1g)"
   ]
  }
 ],
 "metadata": {
  "kernelspec": {
   "display_name": "Python 3 (ipykernel)",
   "language": "python",
   "name": "python3"
  },
  "language_info": {
   "codemirror_mode": {
    "name": "ipython",
    "version": 3
   },
   "file_extension": ".py",
   "mimetype": "text/x-python",
   "name": "python",
   "nbconvert_exporter": "python",
   "pygments_lexer": "ipython3",
   "version": "3.12.2"
  }
 },
 "nbformat": 4,
 "nbformat_minor": 5
}
