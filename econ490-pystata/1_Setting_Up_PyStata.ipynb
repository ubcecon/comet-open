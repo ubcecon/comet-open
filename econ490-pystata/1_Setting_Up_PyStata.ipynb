{
 "cells": [
  {
   "cell_type": "markdown",
   "id": "166040dc",
   "metadata": {},
   "source": [
    "# Setting up PyStata for your Windows computer"
   ]
  },
  {
   "cell_type": "markdown",
   "id": "215b492a",
   "metadata": {},
   "source": [
    "## Prerequisites\n",
    "\n",
    "-  Have installed Stata onto your personal computer.\n",
    "-  Have installed Anaconda Navigator onto your personal computer.\n",
    "\n",
    "## Learning Outcomes\n",
    "\n",
    "-  Connect Stata on your personal computer to Jupyter Notebook.\n"
   ]
  },
  {
   "cell_type": "markdown",
   "id": "4b9fd915",
   "metadata": {},
   "source": [
    "## 1.1 Jupyter and Stata\n",
    "\n",
    "Before you begin you will need to have installed [Stata](https://ubc.onthehub.com/WebStore/Welcome.aspx) from the UBC portal. Please be certain to sign in using your CWL before searching for Stata. This software is free for all students in the UBC Faculty of Arts.\n",
    "\n",
    "You will also need to install [Anaconda Navigator](https://docs.anaconda.com/free/navigator/index.html) in order to be able to run your files in a local version of Jupyter Notebook.\n",
    "\n",
    "Conda is an open-source package and environment management system. With Conda we can create a particular directory folder (also known as environment) that will contain the packages that allow us to run Jupyter online notebooks which run code coming from different softwares (henceforth referred as kernels): Stata, R, Python, etc. The bare minimum for our environments is some version of Python.\n",
    "\n",
    "The only way to set up an environment based on Stata requires us to manually connect our computer's Stata program to Jupyter Notebook."
   ]
  },
  {
   "cell_type": "markdown",
   "id": "a7e43e4e",
   "metadata": {},
   "source": [
    "<div class=\"alert alert-block alert-info\">\n",
    "<b>Note: You will only have to do this once on any computer. After that you will be able to go directly to Jupyter Notebooks for your work.\n",
    "</div>"
   ]
  },
  {
   "cell_type": "markdown",
   "id": "e29d8ad4",
   "metadata": {},
   "source": [
    "## 1.2 Setting up Your Computer \n",
    "\n",
    "In order to execute the following commands on your computer, you will need to access your computer's terminal window. A terminal window includes a prompt that indicates where you will enter commands. The prompt you see depends on your own system, but it often includes the name of the host you are logged in to, your current working folder, your user name, and a prompt symbol.\n",
    "\n",
    "#### To open the terminal in Windows, do one of the following:\n",
    "\n",
    "1. If you are on Windows 11, click the Start button and select \"All Apps\". Scroll down the Start menu and right-click on the file named \"Anaconda3 (64-bit)\". Next, left-click on \"Anaconda Prompt\", select \"more\" and click \"Run as Administrator\".\n",
    "2. Alternatively, click the Search icon, start typing \"Anaconda Prompt\", and then Run as Administrator from the search results. "
   ]
  },
  {
   "cell_type": "markdown",
   "id": "6b0742c6",
   "metadata": {},
   "source": [
    "![Anaconda Location](img/anaconda_prompt.png)"
   ]
  },
  {
   "cell_type": "markdown",
   "id": "2a80c1e4",
   "metadata": {},
   "source": [
    "Once you have the terminal open, you can run the commands `conda` that can find packages to install from channels. This is not dissimilar to downloading software from a server. You want to make sure that the computer first finds the `conda-forge` channel. To allow this, you should run the following commands directly in your own terminal window in Jupyter Notebooks:\n",
    "\n",
    " `conda config --add channels conda-forge`\n",
    " \n",
    " \n",
    " `conda config --set channel_priority strict`\n",
    "\n",
    "\n",
    "The goal here is to create a package bundle, i.e. an environment, where you will install some version of R, Stata Kernel, and Jupyter. You can explore the things you can download to an environment from the  `conda-forge` channel by running, for example, `conda search r-base`, `conda search stata_kernel`, etc. That way, you can see that the terminal lists all the different versions of these packages that you can download from the different channels. \n",
    "\n",
    "Now we are ready to create a new environment where we can install all these packages. In this particular case, we will create an environment based on Python 3.9.7. Let us create an environment called `econ_pystata` by writing:\n",
    "\n",
    "\n",
    "  `conda create -n econ_pystata python=3.9.7`\n"
   ]
  },
  {
   "cell_type": "markdown",
   "id": "e3631058",
   "metadata": {},
   "source": [
    "If you omit the `=3.9.7` part, you will create an environment with the default Python version. \n",
    "\n",
    "We want anything that we install from the channel to be part of this new environment. To do so, we need to activate it by running\n",
    "\n",
    "  `conda activate econ_pystata`\n",
    "\n",
    "\n",
    "Now that our environment is activated we can install everything we want. We begin by installing Jupyter, which will allow us to run the interactive notebooks:\n",
    "\n",
    "\n",
    "  `conda install jupyter`\n"
   ]
  },
  {
   "cell_type": "markdown",
   "id": "23416a49-ebbe-4ee5-a37a-27aef92a7a50",
   "metadata": {},
   "source": [
    "## 1.3 Setting up the STATA Path"
   ]
  },
  {
   "attachments": {},
   "cell_type": "markdown",
   "id": "1de4e6f8-6da1-42de-915b-c337709ac7be",
   "metadata": {},
   "source": [
    "Next, we need to find out where STATA is configured on our computer.  To do this, launch STATA on your computer.  Once it has launched type `display c(sysdir_stata)` in the command window:"
   ]
  },
  {
   "cell_type": "markdown",
   "id": "6b57c492-b708-4108-9a0f-7d21ae503dc4",
   "metadata": {},
   "source": [
    "![display c(sysdir_stata)](img/displaystatadir.png)"
   ]
  },
  {
   "cell_type": "markdown",
   "id": "0d6479d4-c8bd-442e-b681-2dbf891f8c58",
   "metadata": {},
   "source": [
    "Hit \"enter\", and a computer path result should appear in the output above the command window.  Write down this path."
   ]
  },
  {
   "cell_type": "markdown",
   "id": "b6feb600-3718-44b5-9bc3-819af72c26f4",
   "metadata": {},
   "source": [
    "![STATA path](img/commandpath.png)"
   ]
  },
  {
   "cell_type": "markdown",
   "id": "573baa89-7769-4fbf-92ae-b244ce6f8bc3",
   "metadata": {},
   "source": [
    "For example, in the remainder of this notebook we will be using the default path for STATA 18 on Windows 11, which is `C:\\Program Files\\Stata18`"
   ]
  },
  {
   "cell_type": "markdown",
   "id": "f5fbfa4d",
   "metadata": {},
   "source": [
    "## 1.4 Installing PyStata on our environment\n",
    "\n",
    "To enable Python to find Stata’s installation path and the *pystata* package, we use the *pystata* Python module `stata_setup`. \n",
    "\n",
    "The simplest way to install this setup module is to use the Python package manager `pip` from the Python Package Index (PyPI). Open up your Anaconda prompt as an administrator, and activate your environment by typing `conda activate econ_pystata`.\n",
    "\n",
    "Then, install the new software by typing the following line of code, and then press enter:\n",
    "\n",
    "`pip install --upgrade --user numpy pandas ipython`\n",
    "\n",
    "This will install the required dependencies for the *pystata* package. \n",
    "\n",
    "Now, we are ready to install the package. Type the following line of code in your anaconda prompt:\n",
    "\n",
    "`> pip install --upgrade --user stata_setup`\n",
    "\n",
    "This will install the `stata_setup` module.\n"
   ]
  },
  {
   "cell_type": "markdown",
   "id": "9b8b7fbd",
   "metadata": {},
   "source": [
    "<div class=\"alert alert-block alert-warning\">\n",
    "    <b> NOTE: </b> Whenever you are using `pip`, make sure that you are running the anaconda prompt <b>as an administrator</b>. Otherwise, this will not work!\n",
    "</div>"
   ]
  },
  {
   "cell_type": "markdown",
   "id": "6874ea16",
   "metadata": {},
   "source": [
    "## 1.4 Opening Jupyter Lab\n",
    "\n",
    "You are now ready to open Jupyter Lab. In your Anaconda navigator, type the following line of code and press enter to open Jupyter lab:\n",
    "\n",
    "`jupyter lab`\n",
    "\n",
    "After a second or two this will open up jupyter lab on your web browser.  Make sure you are still in the `econ_pystata` environment!"
   ]
  },
  {
   "cell_type": "markdown",
   "id": "2f4c56da",
   "metadata": {},
   "source": [
    "## 1.5 Importing Stata into Jupyter\n",
    "\n",
    "In your notebook, begin by creating a new cell and typing the following two lines of code:\n",
    "\n",
    "`import stata_setup`\n",
    "\n",
    "`stata_setup.config('C:\\Program Files\\Stata18/','se')`\n",
    "\n",
    "The stata_setup.config() function is used to locate STATA through Jupyter. This function has two arguments: the first one is Stata’s installation path and the second one is the edition to use. *UBC offers students free access to the Stata SE edition, so make sure your Stata version is Stata SE.* If you have a different path to Stata, replace the provided path with your absolute path (Ex. `C:\\Desktop\\Stata18/'`).  This path should be the one you wrote down above, in Step 1.3."
   ]
  },
  {
   "cell_type": "markdown",
   "id": "53494088",
   "metadata": {},
   "source": [
    "![Pystata Output](img/PyStata_output.png)"
   ]
  },
  {
   "cell_type": "markdown",
   "id": "1fd86b2e-fdd3-4a91-940f-c92948343002",
   "metadata": {},
   "source": [
    "You are now ready to start using STATA in Jupyter.  Remember to launch your environment and Jupyter Lab again when you want to use Jupyter; you will need to do that part every time.  However, you don't have to install *pystata* or perform these set-up tasks again."
   ]
  },
  {
   "cell_type": "markdown",
   "id": "9229a98b",
   "metadata": {},
   "source": [
    "## References \n",
    "\n",
    "[Stata installation for python](https://www.stata.com/python/pystata17/install.html#ref-dependencies)"
   ]
  }
 ],
 "metadata": {
  "kernelspec": {
   "display_name": "Python 3 (ipykernel)",
   "language": "python",
   "name": "python3"
  },
  "language_info": {
   "codemirror_mode": {
    "name": "ipython",
    "version": 3
   },
   "file_extension": ".py",
   "mimetype": "text/x-python",
   "name": "python",
   "nbconvert_exporter": "python",
   "pygments_lexer": "ipython3",
   "version": "3.12.2"
  }
 },
 "nbformat": 4,
 "nbformat_minor": 5
}
