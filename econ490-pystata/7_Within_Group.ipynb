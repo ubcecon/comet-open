{
 "cells": [
  {
   "cell_type": "markdown",
   "id": "2b8a4d97",
   "metadata": {},
   "source": [
    "# ECON 490: Conducting Within Group Analysis (7)\n",
    "\n",
    "## Prerequisites \n",
    "\n",
    "1. Be able to effectively use Stata do-files and generate log-files.\n",
    "2. Be able to change your directory so that Stata can find your files.\n",
    "3. Import datasets in csv and dta format. \n",
    "4. Save data files. \n",
    "\n",
    "## Learning Outcomes\n",
    "\n",
    "1. Create new variables using the command `egen`.\n",
    "2. Know when to use the pre-command `by` and when to use `bysort`. \n",
    "3. Use the command `collapse` to create a new data set of summary statistics.\n",
    "3. Change a panel data set to a cross-sectional data set using the command `reshape`. "
   ]
  },
  {
   "cell_type": "code",
   "execution_count": 43,
   "id": "2b031ec4",
   "metadata": {},
   "outputs": [
    {
     "name": "stderr",
     "output_type": "stream",
     "text": [
      "<>:2: SyntaxWarning: invalid escape sequence '\\P'\n",
      "<>:2: SyntaxWarning: invalid escape sequence '\\P'\n",
      "C:\\Users\\irene\\AppData\\Local\\Temp\\ipykernel_21768\\4069384911.py:2: SyntaxWarning: invalid escape sequence '\\P'\n",
      "  stata_setup.config('C:\\Program Files\\Stata18/','se')\n"
     ]
    }
   ],
   "source": [
    "import stata_setup\n",
    "stata_setup.config('C:\\Program Files\\Stata18/','se')"
   ]
  },
  {
   "cell_type": "code",
   "execution_count": 44,
   "id": "2285071d",
   "metadata": {},
   "outputs": [],
   "source": [
    ">>> import sys\n",
    ">>> sys.path.append('/Applications/Stata/utilities') # make sure this is the same as what you set up in Module - 1, Section 1.5.1: Setting Up PyStata\n",
    ">>> from pystata import config\n",
    ">>> config.init('se')"
   ]
  },
  {
   "cell_type": "markdown",
   "id": "6853a1c7",
   "metadata": {},
   "source": [
    "## 7.1 Introduction to Working Within Groups\n",
    "\n",
    "There are times when you need to consider workers as a group. Consider some of the following examples:\n",
    "\n",
    "- You would like to know the average wages of workers by educational grouping, in each year of the data. \n",
    "- You would like to know the standard deviation of men and women's earnings, in each geographic region in the data. \n",
    "- You would like to know the top quintile of wealth, by birth cohort. \n",
    "\n",
    "This module will show you how to calculate these statistics using the fake data data set introduced in the previous lecture. Recall that this data set is simulating information of workers in the years 1982-2012 in a fake country where a training program was introduced in 2003 to boost their earnings.  \n",
    "\n",
    "Let's begin by loading that data set into Stata:"
   ]
  },
  {
   "cell_type": "code",
   "execution_count": 45,
   "id": "1ca8ce92",
   "metadata": {},
   "outputs": [
    {
     "name": "stdout",
     "output_type": "stream",
     "text": [
      "\n",
      ". \n",
      ". clear *\n",
      "\n",
      ". \n",
      ". use \"fake_data.dta\", clear\n",
      "\n",
      ". \n"
     ]
    }
   ],
   "source": [
    "%%stata\n",
    "\n",
    "clear *\n",
    "\n",
    "use \"fake_data.dta\", clear"
   ]
  },
  {
   "cell_type": "markdown",
   "id": "ef551497",
   "metadata": {},
   "source": [
    "## 7.2 Generating Variables using `generate`\n",
    "\n",
    "When we are working on a particular project, it is important to know how to create variables that are computed for a group rather than an individual or an observation. For instance, we may have a data set that is divided by individual and by year. We might want the variables to show us the statistics of a particular individual throughout the years or the statistics of all individuals each year.\n",
    "\n",
    "Stata provides functionality to easily compute such statistics. The key to this analysis is the pre-command `by`, and the only requisite to using this is to ensure data is sorted the correct way.\n",
    "\n",
    "Let's take a look at our data by using the `list` command we learned in [Module 5](econometrics/econ490-stata/5_Opening_Datasets.ipynb)."
   ]
  },
  {
   "cell_type": "code",
   "execution_count": 46,
   "id": "a6fe4d9d",
   "metadata": {},
   "outputs": [
    {
     "name": "stdout",
     "output_type": "stream",
     "text": [
      "\n",
      "     +----------------------------------------------------------------------+\n",
      "  1. | workerid | year | sex | age | start_~r | region | treated | earnings |\n",
      "     |        1 | 1999 |   M |  55 |     1997 |      1 |       0 | 39975.01 |\n",
      "     |----------------------------------------------------------------------|\n",
      "     |       sample~t       |       quarte~h        |       school~g        |\n",
      "     |       .2607649       |              2        |             16        |\n",
      "     +----------------------------------------------------------------------+\n",
      "\n",
      "     +----------------------------------------------------------------------+\n",
      "  2. | workerid | year | sex | age | start_~r | region | treated | earnings |\n",
      "     |        1 | 2001 |   M |  57 |     1997 |      1 |       0 | 278378.1 |\n",
      "     |----------------------------------------------------------------------|\n",
      "     |       sample~t       |       quarte~h        |       school~g        |\n",
      "     |       .0142739       |              2        |             16        |\n",
      "     +----------------------------------------------------------------------+\n",
      "\n",
      "     +----------------------------------------------------------------------+\n",
      "  3. | workerid | year | sex | age | start_~r | region | treated | earnings |\n",
      "     |        2 | 2001 |   M |  54 |     2001 |      4 |       0 |  18682.6 |\n",
      "     |----------------------------------------------------------------------|\n",
      "     |       sample~t       |       quarte~h        |       school~g        |\n",
      "     |       .0321868       |              4        |             16        |\n",
      "     +----------------------------------------------------------------------+\n",
      "\n",
      "     +----------------------------------------------------------------------+\n",
      "  4. | workerid | year | sex | age | start_~r | region | treated | earnings |\n",
      "     |        2 | 2002 |   M |  55 |     2001 |      4 |       0 | 293336.4 |\n",
      "     |----------------------------------------------------------------------|\n",
      "     |       sample~t       |       quarte~h        |       school~g        |\n",
      "     |       .4712022       |              2        |             16        |\n",
      "     +----------------------------------------------------------------------+\n",
      "\n",
      "     +----------------------------------------------------------------------+\n",
      "  5. | workerid | year | sex | age | start_~r | region | treated | earnings |\n",
      "     |        2 | 2003 |   M |  56 |     2001 |      4 |       0 | 111797.3 |\n",
      "     |----------------------------------------------------------------------|\n",
      "     |       sample~t       |       quarte~h        |       school~g        |\n",
      "     |        .704381       |              2        |             16        |\n",
      "     +----------------------------------------------------------------------+\n",
      "\n",
      "     +----------------------------------------------------------------------+\n",
      "  6. | workerid | year | sex | age | start_~r | region | treated | earnings |\n",
      "     |        3 | 2005 |   M |  54 |     2005 |      5 |       0 | 88351.67 |\n",
      "     |----------------------------------------------------------------------|\n",
      "     |       sample~t       |       quarte~h        |       school~g        |\n",
      "     |       .3559006       |              4        |             16        |\n",
      "     +----------------------------------------------------------------------+\n",
      "\n",
      "     +----------------------------------------------------------------------+\n",
      "  7. | workerid | year | sex | age | start_~r | region | treated | earnings |\n",
      "     |        3 | 2010 |   M |  59 |     2005 |      5 |       0 | 46229.57 |\n",
      "     |----------------------------------------------------------------------|\n",
      "     |       sample~t       |       quarte~h        |       school~g        |\n",
      "     |       .8969152       |              2        |             16        |\n",
      "     +----------------------------------------------------------------------+\n",
      "\n",
      "     +----------------------------------------------------------------------+\n",
      "  8. | workerid | year | sex | age | start_~r | region | treated | earnings |\n",
      "     |        4 | 1997 |   M |  45 |     1997 |      5 |       1 | 24911.03 |\n",
      "     |----------------------------------------------------------------------|\n",
      "     |       sample~t       |       quarte~h        |       school~g        |\n",
      "     |       .3990085       |              2        |             12        |\n",
      "     +----------------------------------------------------------------------+\n",
      "\n",
      "     +----------------------------------------------------------------------+\n",
      "  9. | workerid | year | sex | age | start_~r | region | treated | earnings |\n",
      "     |        4 | 2001 |   M |  49 |     1997 |      5 |       1 | 9908.362 |\n",
      "     |----------------------------------------------------------------------|\n",
      "     |       sample~t       |       quarte~h        |       school~g        |\n",
      "     |       .5519462       |              3        |             12        |\n",
      "     +----------------------------------------------------------------------+\n",
      "\n",
      "     +----------------------------------------------------------------------+\n",
      " 10. | workerid | year | sex | age | start_~r | region | treated | earnings |\n",
      "     |        5 | 2009 |   M |  55 |     1998 |      2 |       1 | 137207.3 |\n",
      "     |----------------------------------------------------------------------|\n",
      "     |       sample~t       |       quarte~h        |       school~g        |\n",
      "     |        .014439       |              3        |             14        |\n",
      "     +----------------------------------------------------------------------+\n"
     ]
    }
   ],
   "source": [
    "%%stata\n",
    "list in 1/10"
   ]
  },
  {
   "cell_type": "markdown",
   "id": "a9f1a1b3",
   "metadata": {},
   "source": [
    "We can tell here that the data is sorted by the variable *workerid*. \n",
    "\n",
    "\n",
    "We use the pre-command `by` alongside the command `generate` to develop these group compounded variables. If we use variables other than *workerid* (the variable by which the data is sorted) to group our new variable, we will not be able to generate the new variable.\n",
    "\n",
    "When we run the command below Stata will produce this error. "
   ]
  },
  {
   "cell_type": "code",
   "execution_count": 51,
   "id": "5b10fb52",
   "metadata": {},
   "outputs": [
    {
     "name": "stdout",
     "output_type": "stream",
     "text": [
      "\n",
      ". \n",
      ". cap drop var_one \n",
      "\n",
      ". by year: gen var_one = 1 \n",
      "\n",
      ". \n"
     ]
    }
   ],
   "source": [
    "%%stata\n",
    "\n",
    "cap drop var_one \n",
    "by year: gen var_one = 1 "
   ]
  },
  {
   "cell_type": "markdown",
   "id": "c941b514",
   "metadata": {},
   "source": [
    "If we want to group by year, Stata expects us to sort the data such that all observations corresponding to the same year are next to each other. We can use the `sort` command as follows."
   ]
  },
  {
   "cell_type": "code",
   "execution_count": 52,
   "id": "87f0c0da",
   "metadata": {},
   "outputs": [
    {
     "name": "stdout",
     "output_type": "stream",
     "text": [
      "\n",
      ". \n",
      ". sort year \n",
      "\n",
      ". \n"
     ]
    }
   ],
   "source": [
    "%%stata\n",
    "\n",
    "sort year "
   ]
  },
  {
   "cell_type": "code",
   "execution_count": 54,
   "id": "ea2bead1",
   "metadata": {},
   "outputs": [
    {
     "name": "stdout",
     "output_type": "stream",
     "text": [
      "\n",
      ". \n",
      ". list in 1/10 //change the numbers if you would like to see more observations\n",
      "\n",
      "     +----------------------------------------------------------------------+\n",
      "  1. | workerid | year | sex | age | start_~r | region | treated | earnings |\n",
      "     |      179 | 1995 |   M |  42 |     1995 |      2 |       0 | 4943.277 |\n",
      "     |-----------------+----------------------------------------------------|\n",
      "     |    sample~t     |    quarte~h     |    school~g     |    var_one     |\n",
      "     |    .8801816     |           2     |          17     |          1     |\n",
      "     +----------------------------------------------------------------------+\n",
      "\n",
      "     +----------------------------------------------------------------------+\n",
      "  2. | workerid | year | sex | age | start_~r | region | treated | earnings |\n",
      "     |    32663 | 1995 |   M |  53 |     1995 |      2 |       0 | 37268.91 |\n",
      "     |-----------------+----------------------------------------------------|\n",
      "     |    sample~t     |    quarte~h     |    school~g     |    var_one     |\n",
      "     |    .3344809     |           1     |          14     |          1     |\n",
      "     +----------------------------------------------------------------------+\n",
      "\n",
      "     +----------------------------------------------------------------------+\n",
      "  3. | workerid | year | sex | age | start_~r | region | treated | earnings |\n",
      "     |    39131 | 1995 |   M |  38 |     1995 |      4 |       0 | 24581.38 |\n",
      "     |-----------------+----------------------------------------------------|\n",
      "     |    sample~t     |    quarte~h     |    school~g     |    var_one     |\n",
      "     |    .4255158     |           1     |          12     |          1     |\n",
      "     +----------------------------------------------------------------------+\n",
      "\n",
      "     +----------------------------------------------------------------------+\n",
      "  4. | workerid | year | sex | age | start_~r | region | treated | earnings |\n",
      "     |    25935 | 1995 |   F |  36 |     1995 |      2 |       1 | 12666.49 |\n",
      "     |-----------------+----------------------------------------------------|\n",
      "     |    sample~t     |    quarte~h     |    school~g     |    var_one     |\n",
      "     |    .1697022     |           1     |          13     |          1     |\n",
      "     +----------------------------------------------------------------------+\n",
      "\n",
      "     +----------------------------------------------------------------------+\n",
      "  5. | workerid | year | sex | age | start_~r | region | treated | earnings |\n",
      "     |    27256 | 1995 |   M |  55 |     1995 |      5 |       1 |  24022.8 |\n",
      "     |-----------------+----------------------------------------------------|\n",
      "     |    sample~t     |    quarte~h     |    school~g     |    var_one     |\n",
      "     |    .1655299     |           2     |          14     |          1     |\n",
      "     +----------------------------------------------------------------------+\n",
      "\n",
      "     +----------------------------------------------------------------------+\n",
      "  6. | workerid | year | sex | age | start_~r | region | treated | earnings |\n",
      "     |    24049 | 1995 |   M |  33 |     1995 |      5 |       0 | 17288.84 |\n",
      "     |-----------------+----------------------------------------------------|\n",
      "     |    sample~t     |    quarte~h     |    school~g     |    var_one     |\n",
      "     |    .2100701     |           2     |          15     |          1     |\n",
      "     +----------------------------------------------------------------------+\n",
      "\n",
      "     +----------------------------------------------------------------------+\n",
      "  7. | workerid | year | sex | age | start_~r | region | treated | earnings |\n",
      "     |     8354 | 1995 |   M |  39 |     1995 |      2 |       0 | 40420.63 |\n",
      "     |-----------------+----------------------------------------------------|\n",
      "     |    sample~t     |    quarte~h     |    school~g     |    var_one     |\n",
      "     |    .0431403     |           3     |          15     |          1     |\n",
      "     +----------------------------------------------------------------------+\n",
      "\n",
      "     +----------------------------------------------------------------------+\n",
      "  8. | workerid | year | sex | age | start_~r | region | treated | earnings |\n",
      "     |    32867 | 1995 |   M |  45 |     1995 |      4 |       1 | 13114.48 |\n",
      "     |-----------------+----------------------------------------------------|\n",
      "     |    sample~t     |    quarte~h     |    school~g     |    var_one     |\n",
      "     |    .9815345     |           2     |          14     |          1     |\n",
      "     +----------------------------------------------------------------------+\n",
      "\n",
      "     +----------------------------------------------------------------------+\n",
      "  9. | workerid | year | sex | age | start_~r | region | treated | earnings |\n",
      "     |    26250 | 1995 |   M |  39 |     1995 |      5 |       0 | 8696.396 |\n",
      "     |-----------------+----------------------------------------------------|\n",
      "     |    sample~t     |    quarte~h     |    school~g     |    var_one     |\n",
      "     |    .8022571     |           1     |          17     |          1     |\n",
      "     +----------------------------------------------------------------------+\n",
      "\n",
      "     +----------------------------------------------------------------------+\n",
      " 10. | workerid | year | sex | age | start_~r | region | treated | earnings |\n",
      "     |    11657 | 1995 |   F |  52 |     1995 |      1 |       1 | 53814.48 |\n",
      "     |-----------------+----------------------------------------------------|\n",
      "     |    sample~t     |    quarte~h     |    school~g     |    var_one     |\n",
      "     |    .6134558     |           2     |          18     |          1     |\n",
      "     +----------------------------------------------------------------------+\n",
      "\n",
      ". \n"
     ]
    }
   ],
   "source": [
    "%%stata\n",
    "\n",
    "list in 1/10 //change the numbers if you would like to see more observations"
   ]
  },
  {
   "cell_type": "markdown",
   "id": "938be676",
   "metadata": {},
   "source": [
    "Let's try the command above again, now with the sorted data."
   ]
  },
  {
   "cell_type": "code",
   "execution_count": 55,
   "id": "5f250df5",
   "metadata": {},
   "outputs": [
    {
     "name": "stdout",
     "output_type": "stream",
     "text": [
      "\n",
      ". \n",
      ". cap drop var_one \n",
      "\n",
      ". by year: gen var_one = 1 \n",
      "\n",
      ". \n"
     ]
    }
   ],
   "source": [
    "%%stata\n",
    "\n",
    "cap drop var_one \n",
    "by year: gen var_one = 1 "
   ]
  },
  {
   "cell_type": "markdown",
   "id": "523c1733",
   "metadata": {},
   "source": [
    "Now that the data is sorted by year, the code works! \n",
    "\n",
    "We could have also used the pre-command `bysort` instead of `by`. When we do this we can skip the command to sort the data. Everything is done in one step!\n",
    "\n",
    "Let's sort the data, so it is reverted back to the same ordering scheme as when we started, and generate our new variable again. "
   ]
  },
  {
   "cell_type": "code",
   "execution_count": 56,
   "id": "4ae139e9",
   "metadata": {},
   "outputs": [
    {
     "name": "stdout",
     "output_type": "stream",
     "text": [
      "\n",
      ". \n",
      ". sort workerid year \n",
      "\n",
      ". \n"
     ]
    }
   ],
   "source": [
    "%%stata\n",
    "\n",
    "sort workerid year "
   ]
  },
  {
   "cell_type": "code",
   "execution_count": 57,
   "id": "23b5112c",
   "metadata": {},
   "outputs": [
    {
     "name": "stdout",
     "output_type": "stream",
     "text": [
      "\n",
      ". \n",
      ". cap drop var_one \n",
      "\n",
      ". bysort year: gen var_one = 1 \n",
      "\n",
      ". \n"
     ]
    }
   ],
   "source": [
    "%%stata\n",
    "\n",
    "cap drop var_one \n",
    "bysort year: gen var_one = 1 "
   ]
  },
  {
   "cell_type": "markdown",
   "id": "0ffaf95f",
   "metadata": {},
   "source": [
    "The variable we have created is not interesting by any means. It simply takes the value of 1 everywhere. In fact, we haven't done anything that we couldn't have done with `gen var_one=1`. We can see this by using the `summary` command."
   ]
  },
  {
   "cell_type": "code",
   "execution_count": 58,
   "id": "1998b9f7",
   "metadata": {},
   "outputs": [
    {
     "name": "stdout",
     "output_type": "stream",
     "text": [
      "\n",
      ". \n",
      ". su var_one\n",
      "\n",
      "    Variable |        Obs        Mean    Std. dev.       Min        Max\n",
      "-------------+---------------------------------------------------------\n",
      "     var_one |    138,138           1           0          1          1\n",
      "\n",
      ". \n"
     ]
    }
   ],
   "source": [
    "%%stata\n",
    "\n",
    "su var_one"
   ]
  },
  {
   "cell_type": "markdown",
   "id": "8c7af834",
   "metadata": {},
   "source": [
    "You may not be aware, but Stata records the observation number as a hidden variable (a scalar) called *_n* and the total number of observations as *_N*.\n",
    "\n",
    "Let's take a look at these by creating new two variables: one that is the observation number and one that is the total number of observations."
   ]
  },
  {
   "cell_type": "code",
   "execution_count": 59,
   "id": "9a17e179",
   "metadata": {},
   "outputs": [
    {
     "name": "stdout",
     "output_type": "stream",
     "text": [
      "\n",
      ". \n",
      ". cap drop obs_number \n",
      "\n",
      ". gen obs_number = _n \n",
      "\n",
      ". \n",
      ". cap drop tot_obs\n",
      "\n",
      ". gen tot_obs = _N\n",
      "\n",
      ". \n"
     ]
    }
   ],
   "source": [
    "%%stata\n",
    "\n",
    "cap drop obs_number \n",
    "gen obs_number = _n \n",
    "\n",
    "cap drop tot_obs\n",
    "gen tot_obs = _N"
   ]
  },
  {
   "cell_type": "code",
   "execution_count": 60,
   "id": "5b4f9620",
   "metadata": {},
   "outputs": [
    {
     "name": "stdout",
     "output_type": "stream",
     "text": [
      "\n",
      ". \n",
      ". list in 1/10\n",
      "\n",
      "     +----------------------------------------------------------------------+\n",
      "  1. | workerid | year | sex | age | start_~r | region | treated | earnings |\n",
      "     |    20666 | 1995 |   M |  34 |     1995 |      1 |       0 | 4863.026 |\n",
      "     |-----------------------+----------------------------------------------|\n",
      "     | sample~t  | quarte~h  | school~g  | var_one  | obs_nu~r  |  tot_obs  |\n",
      "     | .8200595  |        4  |       14  |       1  |        1  |   138138  |\n",
      "     +----------------------------------------------------------------------+\n",
      "\n",
      "     +----------------------------------------------------------------------+\n",
      "  2. | workerid | year | sex | age | start_~r | region | treated | earnings |\n",
      "     |    13454 | 1995 |   F |  31 |     1995 |      1 |       1 | 267.0328 |\n",
      "     |-----------------------+----------------------------------------------|\n",
      "     | sample~t  | quarte~h  | school~g  | var_one  | obs_nu~r  |  tot_obs  |\n",
      "     | .9174706  |        3  |        9  |       1  |        2  |   138138  |\n",
      "     +----------------------------------------------------------------------+\n",
      "\n",
      "     +----------------------------------------------------------------------+\n",
      "  3. | workerid | year | sex | age | start_~r | region | treated | earnings |\n",
      "     |     5982 | 1995 |   M |  29 |     1995 |      2 |       0 | 125189.6 |\n",
      "     |-----------------------+----------------------------------------------|\n",
      "     | sample~t  | quarte~h  | school~g  | var_one  | obs_nu~r  |  tot_obs  |\n",
      "     | .3408671  |        1  |       16  |       1  |        3  |   138138  |\n",
      "     +----------------------------------------------------------------------+\n",
      "\n",
      "     +----------------------------------------------------------------------+\n",
      "  4. | workerid | year | sex | age | start_~r | region | treated | earnings |\n",
      "     |    27683 | 1995 |   M |  33 |     1995 |      5 |       1 |  33299.9 |\n",
      "     |-----------------------+----------------------------------------------|\n",
      "     | sample~t  | quarte~h  | school~g  | var_one  | obs_nu~r  |  tot_obs  |\n",
      "     | .6024967  |        4  |       14  |       1  |        4  |   138138  |\n",
      "     +----------------------------------------------------------------------+\n",
      "\n",
      "     +----------------------------------------------------------------------+\n",
      "  5. | workerid | year | sex | age | start_~r | region | treated | earnings |\n",
      "     |    38766 | 1995 |   M |  49 |     1995 |      3 |       1 | 15291.03 |\n",
      "     |-----------------------+----------------------------------------------|\n",
      "     | sample~t  | quarte~h  | school~g  | var_one  | obs_nu~r  |  tot_obs  |\n",
      "     | .0741042  |        4  |       12  |       1  |        5  |   138138  |\n",
      "     +----------------------------------------------------------------------+\n",
      "\n",
      "     +----------------------------------------------------------------------+\n",
      "  6. | workerid | year | sex | age | start_~r | region | treated | earnings |\n",
      "     |    10402 | 1995 |   F |  32 |     1995 |      1 |       0 |  14877.4 |\n",
      "     |-----------------------+----------------------------------------------|\n",
      "     | sample~t  | quarte~h  | school~g  | var_one  | obs_nu~r  |  tot_obs  |\n",
      "     | .2130904  |        3  |       16  |       1  |        6  |   138138  |\n",
      "     +----------------------------------------------------------------------+\n",
      "\n",
      "     +----------------------------------------------------------------------+\n",
      "  7. | workerid | year | sex | age | start_~r | region | treated | earnings |\n",
      "     |    37500 | 1995 |   M |  30 |     1995 |      1 |       0 | 25551.36 |\n",
      "     |-----------------------+----------------------------------------------|\n",
      "     | sample~t  | quarte~h  | school~g  | var_one  | obs_nu~r  |  tot_obs  |\n",
      "     | .2380847  |        2  |       16  |       1  |        7  |   138138  |\n",
      "     +----------------------------------------------------------------------+\n",
      "\n",
      "     +----------------------------------------------------------------------+\n",
      "  8. | workerid | year | sex | age | start_~r | region | treated | earnings |\n",
      "     |    12312 | 1995 |   F |  29 |     1995 |      1 |       1 | 110410.9 |\n",
      "     |-----------------------+----------------------------------------------|\n",
      "     | sample~t  | quarte~h  | school~g  | var_one  | obs_nu~r  |  tot_obs  |\n",
      "     | .4058204  |        3  |       13  |       1  |        8  |   138138  |\n",
      "     +----------------------------------------------------------------------+\n",
      "\n",
      "     +----------------------------------------------------------------------+\n",
      "  9. | workerid | year | sex | age | start_~r | region | treated | earnings |\n",
      "     |    11463 | 1995 |   M |  50 |     1995 |      1 |       0 | 20900.79 |\n",
      "     |-----------------------+----------------------------------------------|\n",
      "     | sample~t  | quarte~h  | school~g  | var_one  | obs_nu~r  |  tot_obs  |\n",
      "     | .8487378  |        4  |       18  |       1  |        9  |   138138  |\n",
      "     +----------------------------------------------------------------------+\n",
      "\n",
      "     +----------------------------------------------------------------------+\n",
      " 10. | workerid | year | sex | age | start_~r | region | treated | earnings |\n",
      "     |     8158 | 1995 |   F |  31 |     1995 |      2 |       1 | 7653.579 |\n",
      "     |-----------------------+----------------------------------------------|\n",
      "     | sample~t  | quarte~h  | school~g  | var_one  | obs_nu~r  |  tot_obs  |\n",
      "     | .8682386  |        3  |       11  |       1  |       10  |   138138  |\n",
      "     +----------------------------------------------------------------------+\n",
      "\n",
      ". \n"
     ]
    }
   ],
   "source": [
    "%%stata\n",
    "\n",
    "list in 1/10"
   ]
  },
  {
   "cell_type": "markdown",
   "id": "1b6be595",
   "metadata": {},
   "source": [
    "As expected, the numbering of observations is sensitive to the way that the data is sorted! The cool thing is that whenever we use the pre-command `by`, the scalars `_n` and `_N` record the observation number and total number of observations for each group separately."
   ]
  },
  {
   "cell_type": "code",
   "execution_count": 61,
   "id": "21e0c29e",
   "metadata": {},
   "outputs": [
    {
     "name": "stdout",
     "output_type": "stream",
     "text": [
      "\n",
      ". \n",
      ". cap drop obs_number \n",
      "\n",
      ". bysort workerid: gen obs_number = _n \n",
      "\n",
      ". \n",
      ". cap drop tot_obs\n",
      "\n",
      ". bysort workerid: gen tot_obs = _N\n",
      "\n",
      ". \n"
     ]
    }
   ],
   "source": [
    "%%stata\n",
    "\n",
    "cap drop obs_number \n",
    "bysort workerid: gen obs_number = _n \n",
    "\n",
    "cap drop tot_obs\n",
    "bysort workerid: gen tot_obs = _N"
   ]
  },
  {
   "cell_type": "code",
   "execution_count": 62,
   "id": "e28227fc",
   "metadata": {},
   "outputs": [
    {
     "name": "stdout",
     "output_type": "stream",
     "text": [
      "\n",
      ". \n",
      ". list in 1/10 //change the numbers if you would like to see more observations\n",
      "\n",
      "     +----------------------------------------------------------------------+\n",
      "  1. | workerid | year | sex | age | start_~r | region | treated | earnings |\n",
      "     |        1 | 2001 |   M |  57 |     1997 |      1 |       0 | 278378.1 |\n",
      "     |-----------------------+----------------------------------------------|\n",
      "     | sample~t  | quarte~h  | school~g  | var_one  | obs_nu~r  |  tot_obs  |\n",
      "     | .0142739  |        2  |       16  |       1  |        1  |        2  |\n",
      "     +----------------------------------------------------------------------+\n",
      "\n",
      "     +----------------------------------------------------------------------+\n",
      "  2. | workerid | year | sex | age | start_~r | region | treated | earnings |\n",
      "     |        1 | 1999 |   M |  55 |     1997 |      1 |       0 | 39975.01 |\n",
      "     |-----------------------+----------------------------------------------|\n",
      "     | sample~t  | quarte~h  | school~g  | var_one  | obs_nu~r  |  tot_obs  |\n",
      "     | .2607649  |        2  |       16  |       1  |        2  |        2  |\n",
      "     +----------------------------------------------------------------------+\n",
      "\n",
      "     +----------------------------------------------------------------------+\n",
      "  3. | workerid | year | sex | age | start_~r | region | treated | earnings |\n",
      "     |        2 | 2002 |   M |  55 |     2001 |      4 |       0 | 293336.4 |\n",
      "     |-----------------------+----------------------------------------------|\n",
      "     | sample~t  | quarte~h  | school~g  | var_one  | obs_nu~r  |  tot_obs  |\n",
      "     | .4712022  |        2  |       16  |       1  |        1  |        3  |\n",
      "     +----------------------------------------------------------------------+\n",
      "\n",
      "     +----------------------------------------------------------------------+\n",
      "  4. | workerid | year | sex | age | start_~r | region | treated | earnings |\n",
      "     |        2 | 2001 |   M |  54 |     2001 |      4 |       0 |  18682.6 |\n",
      "     |-----------------------+----------------------------------------------|\n",
      "     | sample~t  | quarte~h  | school~g  | var_one  | obs_nu~r  |  tot_obs  |\n",
      "     | .0321868  |        4  |       16  |       1  |        2  |        3  |\n",
      "     +----------------------------------------------------------------------+\n",
      "\n",
      "     +----------------------------------------------------------------------+\n",
      "  5. | workerid | year | sex | age | start_~r | region | treated | earnings |\n",
      "     |        2 | 2003 |   M |  56 |     2001 |      4 |       0 | 111797.3 |\n",
      "     |-----------------------+----------------------------------------------|\n",
      "     | sample~t  | quarte~h  | school~g  | var_one  | obs_nu~r  |  tot_obs  |\n",
      "     |  .704381  |        2  |       16  |       1  |        3  |        3  |\n",
      "     +----------------------------------------------------------------------+\n",
      "\n",
      "     +----------------------------------------------------------------------+\n",
      "  6. | workerid | year | sex | age | start_~r | region | treated | earnings |\n",
      "     |        3 | 2005 |   M |  54 |     2005 |      5 |       0 | 88351.67 |\n",
      "     |-----------------------+----------------------------------------------|\n",
      "     | sample~t  | quarte~h  | school~g  | var_one  | obs_nu~r  |  tot_obs  |\n",
      "     | .3559006  |        4  |       16  |       1  |        1  |        2  |\n",
      "     +----------------------------------------------------------------------+\n",
      "\n",
      "     +----------------------------------------------------------------------+\n",
      "  7. | workerid | year | sex | age | start_~r | region | treated | earnings |\n",
      "     |        3 | 2010 |   M |  59 |     2005 |      5 |       0 | 46229.57 |\n",
      "     |-----------------------+----------------------------------------------|\n",
      "     | sample~t  | quarte~h  | school~g  | var_one  | obs_nu~r  |  tot_obs  |\n",
      "     | .8969152  |        2  |       16  |       1  |        2  |        2  |\n",
      "     +----------------------------------------------------------------------+\n",
      "\n",
      "     +----------------------------------------------------------------------+\n",
      "  8. | workerid | year | sex | age | start_~r | region | treated | earnings |\n",
      "     |        4 | 1997 |   M |  45 |     1997 |      5 |       1 | 24911.03 |\n",
      "     |-----------------------+----------------------------------------------|\n",
      "     | sample~t  | quarte~h  | school~g  | var_one  | obs_nu~r  |  tot_obs  |\n",
      "     | .3990085  |        2  |       12  |       1  |        1  |        2  |\n",
      "     +----------------------------------------------------------------------+\n",
      "\n",
      "     +----------------------------------------------------------------------+\n",
      "  9. | workerid | year | sex | age | start_~r | region | treated | earnings |\n",
      "     |        4 | 2001 |   M |  49 |     1997 |      5 |       1 | 9908.362 |\n",
      "     |-----------------------+----------------------------------------------|\n",
      "     | sample~t  | quarte~h  | school~g  | var_one  | obs_nu~r  |  tot_obs  |\n",
      "     | .5519462  |        3  |       12  |       1  |        2  |        2  |\n",
      "     +----------------------------------------------------------------------+\n",
      "\n",
      "     +----------------------------------------------------------------------+\n",
      " 10. | workerid | year | sex | age | start_~r | region | treated | earnings |\n",
      "     |        5 | 2009 |   M |  55 |     1998 |      2 |       1 | 137207.3 |\n",
      "     |-----------------------+----------------------------------------------|\n",
      "     | sample~t  | quarte~h  | school~g  | var_one  | obs_nu~r  |  tot_obs  |\n",
      "     |  .014439  |        3  |       14  |       1  |        1  |        2  |\n",
      "     +----------------------------------------------------------------------+\n",
      "\n",
      ". \n"
     ]
    }
   ],
   "source": [
    "%%stata\n",
    "\n",
    "list in 1/10 //change the numbers if you would like to see more observations"
   ]
  },
  {
   "cell_type": "markdown",
   "id": "74534cdf",
   "metadata": {},
   "source": [
    "As we can see, some workers are observed only 2 times in the data (they were only surveyed in two years), whereas other workers are observed 8 times (they were surveyed in 8 years). By knowing (and recording in a variable) the number of times a worker has been observed, we can do some analysis based on this information. For example, in some cases you might be interested in keeping only workers who are observed across all time periods. In this case, you could use the command:"
   ]
  },
  {
   "cell_type": "code",
   "execution_count": 63,
   "id": "8f5b866e",
   "metadata": {
    "scrolled": true
   },
   "outputs": [
    {
     "name": "stdout",
     "output_type": "stream",
     "text": [
      "\n",
      ". \n",
      ". keep if tot_obs==8\n",
      "(135,274 observations deleted)\n",
      "\n",
      ". \n"
     ]
    }
   ],
   "source": [
    "%%stata\n",
    "\n",
    "keep if tot_obs==8"
   ]
  },
  {
   "cell_type": "code",
   "execution_count": 64,
   "id": "1d217ddc",
   "metadata": {
    "scrolled": true
   },
   "outputs": [
    {
     "name": "stdout",
     "output_type": "stream",
     "text": [
      "\n",
      ". \n",
      ". list in 1/10 //change the numbers if you would like to see more observations\n",
      "\n",
      "     +----------------------------------------------------------------------+\n",
      "  1. | workerid | year | sex | age | start_~r | region | treated | earnings |\n",
      "     |       41 | 2004 |   M |  45 |     1995 |      2 |       0 | 309854.4 |\n",
      "     |-----------------------+----------------------------------------------|\n",
      "     | sample~t  | quarte~h  | school~g  | var_one  | obs_nu~r  |  tot_obs  |\n",
      "     | .5882115  |        1  |       16  |       1  |        1  |        8  |\n",
      "     +----------------------------------------------------------------------+\n",
      "\n",
      "     +----------------------------------------------------------------------+\n",
      "  2. | workerid | year | sex | age | start_~r | region | treated | earnings |\n",
      "     |       41 | 2011 |   M |  52 |     1995 |      2 |       0 | 20448.55 |\n",
      "     |-----------------------+----------------------------------------------|\n",
      "     | sample~t  | quarte~h  | school~g  | var_one  | obs_nu~r  |  tot_obs  |\n",
      "     | .0300817  |        3  |       16  |       1  |        2  |        8  |\n",
      "     +----------------------------------------------------------------------+\n",
      "\n",
      "     +----------------------------------------------------------------------+\n",
      "  3. | workerid | year | sex | age | start_~r | region | treated | earnings |\n",
      "     |       41 | 2009 |   M |  50 |     1995 |      2 |       0 | 66324.93 |\n",
      "     |-----------------------+----------------------------------------------|\n",
      "     | sample~t  | quarte~h  | school~g  | var_one  | obs_nu~r  |  tot_obs  |\n",
      "     | .6211095  |        1  |       16  |       1  |        3  |        8  |\n",
      "     +----------------------------------------------------------------------+\n",
      "\n",
      "     +----------------------------------------------------------------------+\n",
      "  4. | workerid | year | sex | age | start_~r | region | treated | earnings |\n",
      "     |       41 | 2008 |   M |  49 |     1995 |      2 |       0 | 16850.16 |\n",
      "     |-----------------------+----------------------------------------------|\n",
      "     | sample~t  | quarte~h  | school~g  | var_one  | obs_nu~r  |  tot_obs  |\n",
      "     | .1999107  |        3  |       16  |       1  |        4  |        8  |\n",
      "     +----------------------------------------------------------------------+\n",
      "\n",
      "     +----------------------------------------------------------------------+\n",
      "  5. | workerid | year | sex | age | start_~r | region | treated | earnings |\n",
      "     |       41 | 2002 |   M |  43 |     1995 |      2 |       0 | 39701.47 |\n",
      "     |-----------------------+----------------------------------------------|\n",
      "     | sample~t  | quarte~h  | school~g  | var_one  | obs_nu~r  |  tot_obs  |\n",
      "     |  .429385  |        3  |       16  |       1  |        5  |        8  |\n",
      "     +----------------------------------------------------------------------+\n",
      "\n",
      "     +----------------------------------------------------------------------+\n",
      "  6. | workerid | year | sex | age | start_~r | region | treated | earnings |\n",
      "     |       41 | 1995 |   M |  36 |     1995 |      2 |       0 | 54630.28 |\n",
      "     |-----------------------+----------------------------------------------|\n",
      "     | sample~t  | quarte~h  | school~g  | var_one  | obs_nu~r  |  tot_obs  |\n",
      "     | .4711307  |        4  |       16  |       1  |        6  |        8  |\n",
      "     +----------------------------------------------------------------------+\n",
      "\n",
      "     +----------------------------------------------------------------------+\n",
      "  7. | workerid | year | sex | age | start_~r | region | treated | earnings |\n",
      "     |       41 | 2003 |   M |  44 |     1995 |      2 |       0 | 41871.21 |\n",
      "     |-----------------------+----------------------------------------------|\n",
      "     | sample~t  | quarte~h  | school~g  | var_one  | obs_nu~r  |  tot_obs  |\n",
      "     | .4665109  |        3  |       16  |       1  |        7  |        8  |\n",
      "     +----------------------------------------------------------------------+\n",
      "\n",
      "     +----------------------------------------------------------------------+\n",
      "  8. | workerid | year | sex | age | start_~r | region | treated | earnings |\n",
      "     |       41 | 1999 |   M |  40 |     1995 |      2 |       0 | 86709.02 |\n",
      "     |-----------------------+----------------------------------------------|\n",
      "     | sample~t  | quarte~h  | school~g  | var_one  | obs_nu~r  |  tot_obs  |\n",
      "     | .2023048  |        1  |       16  |       1  |        8  |        8  |\n",
      "     +----------------------------------------------------------------------+\n",
      "\n",
      "     +----------------------------------------------------------------------+\n",
      "  9. | workerid | year | sex | age | start_~r | region | treated | earnings |\n",
      "     |      345 | 2008 |   F |  49 |     1995 |      2 |       1 | 10066.77 |\n",
      "     |-----------------------+----------------------------------------------|\n",
      "     | sample~t  | quarte~h  | school~g  | var_one  | obs_nu~r  |  tot_obs  |\n",
      "     | .0494048  |        2  |       15  |       1  |        1  |        8  |\n",
      "     +----------------------------------------------------------------------+\n",
      "\n",
      "     +----------------------------------------------------------------------+\n",
      " 10. | workerid | year | sex | age | start_~r | region | treated | earnings |\n",
      "     |      345 | 2002 |   F |  43 |     1995 |      2 |       1 | 11149.12 |\n",
      "     |-----------------------+----------------------------------------------|\n",
      "     | sample~t  | quarte~h  | school~g  | var_one  | obs_nu~r  |  tot_obs  |\n",
      "     | .6418093  |        2  |       15  |       1  |        2  |        8  |\n",
      "     +----------------------------------------------------------------------+\n",
      "\n",
      ". \n"
     ]
    }
   ],
   "source": [
    "%%stata\n",
    "\n",
    "list in 1/10 //change the numbers if you would like to see more observations"
   ]
  },
  {
   "cell_type": "markdown",
   "id": "e1191e61",
   "metadata": {},
   "source": [
    "## 7.3 Generating Variables Using Extended Generate\n",
    "\n",
    "The command `egenerate` is used whenever we want to create variables which require access to some functions (e.g. mean, standard deviation, min).  The basic syntax works as follows: \n",
    "\n",
    "```stata\n",
    " bysort groupvar: egen new_var = function() , options\n",
    "```\n",
    "\n",
    "Let's see an example where we create a new variable called *avg_earnings* which is the mean of earnings for every worker. We will need to reload our data since we dropped many observations above when we used the `keep` command."
   ]
  },
  {
   "cell_type": "code",
   "execution_count": 65,
   "id": "5c90d4ba",
   "metadata": {},
   "outputs": [
    {
     "name": "stdout",
     "output_type": "stream",
     "text": [
      "\n",
      ". \n",
      ". clear *\n",
      "\n",
      ". use \"fake_data.dta\", clear\n",
      "\n",
      ". \n"
     ]
    }
   ],
   "source": [
    "%%stata\n",
    "\n",
    "clear *\n",
    "use \"fake_data.dta\", clear"
   ]
  },
  {
   "cell_type": "code",
   "execution_count": 66,
   "id": "1834b97b",
   "metadata": {},
   "outputs": [
    {
     "name": "stdout",
     "output_type": "stream",
     "text": [
      "\n",
      ". \n",
      ". cap drop avg_earnings\n",
      "\n",
      ". bysort workerid: egen avg_earnings = mean(earnings)\n",
      "\n",
      ". \n"
     ]
    }
   ],
   "source": [
    "%%stata\n",
    "\n",
    "cap drop avg_earnings\n",
    "bysort workerid: egen avg_earnings = mean(earnings)"
   ]
  },
  {
   "cell_type": "code",
   "execution_count": 67,
   "id": "3d0a08d5",
   "metadata": {},
   "outputs": [
    {
     "name": "stdout",
     "output_type": "stream",
     "text": [
      "\n",
      ". \n",
      ". cap drop total_earnings\n",
      "\n",
      ". bysort workerid: egen total_earnings = total(earnings)\n",
      "\n",
      ". \n"
     ]
    }
   ],
   "source": [
    "%%stata\n",
    "\n",
    "cap drop total_earnings\n",
    "bysort workerid: egen total_earnings = total(earnings)"
   ]
  },
  {
   "cell_type": "markdown",
   "id": "bef5a3bd",
   "metadata": {},
   "source": [
    "By definition, these commands will create variables that use information across different observations. You can check the list of available functions by writing `help egen` in the Stata command window. \n",
    "\n",
    "In this documentation, you will notice that there are some functions that do not allow for `by`. For example, suppose we want to create the total sum across different variables in the same row. "
   ]
  },
  {
   "cell_type": "code",
   "execution_count": 68,
   "id": "d51a4e33",
   "metadata": {},
   "outputs": [
    {
     "name": "stdout",
     "output_type": "stream",
     "text": [
      "\n",
      ". \n",
      ". cap drop sum_of_vars\n",
      "\n",
      ". egen sum_of_vars = rowtotal(start_year region treated)\n",
      "\n",
      ". \n"
     ]
    }
   ],
   "source": [
    "%%stata\n",
    "\n",
    "cap drop sum_of_vars\n",
    "egen sum_of_vars = rowtotal(start_year region treated)"
   ]
  },
  {
   "cell_type": "markdown",
   "id": "714a8e5d",
   "metadata": {},
   "source": [
    "The variable we are creating for the example has no particular meaning, but what we need to notice is that the function `rowtotal()` only sums the non-missing values in our variables. This means that if there is a missing value in any of the three variables, the sum only occurs between the two variables that do not have the missing value. We could also write this command as `gen sum_of_vars = start_year + region + treated`; however, if there is a missing value (`.`) in *start_year*,  *region* or *treated*, then the generated value for *sum_of_vars* will also be a missing value. The answer lies in the missing observations. If we sum any number with a missing value (`.`), then the sum will also be missing."
   ]
  },
  {
   "cell_type": "markdown",
   "id": "ae1dc198",
   "metadata": {},
   "source": [
    "We can also use `by` with a list of variables. Here will use *year* and *region* in one command."
   ]
  },
  {
   "cell_type": "code",
   "execution_count": 69,
   "id": "a06281a6",
   "metadata": {},
   "outputs": [
    {
     "name": "stdout",
     "output_type": "stream",
     "text": [
      "\n",
      ". \n",
      ". cap drop regionyear_earnings\n",
      "\n",
      ". bysort year region : egen regionyear_earnings = total(earnings)\n",
      "\n",
      ". \n"
     ]
    }
   ],
   "source": [
    "%%stata\n",
    "\n",
    "cap drop regionyear_earnings\n",
    "bysort year region : egen regionyear_earnings = total(earnings)"
   ]
  },
  {
   "cell_type": "markdown",
   "id": "1050c96e",
   "metadata": {},
   "source": [
    "What this command gives us is a new variable that records total earnings in each region for every year."
   ]
  },
  {
   "cell_type": "markdown",
   "id": "fc49c62c",
   "metadata": {},
   "source": [
    "## 7.4 Collapsing Data\n",
    "\n",
    "We can also compute statistics at some group level with the `collapse` command. Collapse is extremely useful whenever we want to apply sample weights to our data (we will learn more about this in [Module 11](econometrics/econ490-stata/11_Linear_Reg.ipynb)). Sample weights cannot be applied using `egen` but are often extremely important when using micro data. Those weights allow us to manipulate our data to better reflect the composition of the data when the authority that collected the data might have over sampled some segments of the population. \n",
    "\n",
    "The syntax is \n",
    "\n",
    "```stata\n",
    "collapse (statistic1) new_name = existing_variable (statistic2) new_name2 = existing_variable2 ... [pweight =     weight_variable], by(group) \n",
    "```\n",
    "\n",
    "You can obtain a list of possible statistics by running the command `help collapse`. You can also learn more about using weights by typing `help weight`.\n",
    "\n",
    "Let's suppose we want to create a data set at the region-year level using information in the current data set, but we want to use the sample weights that were provided with our data. First, we decide which statistics we want to keep from the original data set. For the sake of explanation, let's suppose we want to keep average earnings, the variance of earnings, and the total employment. We write the following:"
   ]
  },
  {
   "cell_type": "code",
   "execution_count": 70,
   "id": "94b85058",
   "metadata": {},
   "outputs": [
    {
     "name": "stdout",
     "output_type": "stream",
     "text": [
      "\n",
      ". \n",
      ". collapse (mean) avg_earnings = earnings (sd) sd_earnings = earnings (count) t\n",
      "> ot_emp = earnings, by(region year)\n",
      "\n",
      ". \n"
     ]
    }
   ],
   "source": [
    "%%stata\n",
    "\n",
    "collapse (mean) avg_earnings = earnings (sd) sd_earnings = earnings (count) tot_emp = earnings, by(region year)"
   ]
  },
  {
   "cell_type": "code",
   "execution_count": 73,
   "id": "710f450d",
   "metadata": {},
   "outputs": [
    {
     "name": "stdout",
     "output_type": "stream",
     "text": [
      "\n",
      ". \n",
      ". list in 1/10 //change the numbers if you would like to see more observations\n",
      "\n",
      "     +-----------------------------------------------+\n",
      "     | year   region   avg_ea~s   sd_ear~s   tot_emp |\n",
      "     |-----------------------------------------------|\n",
      "  1. | 1995        1   73879.54   111401.5      4049 |\n",
      "  2. | 1996        1   72385.41   140133.1      4129 |\n",
      "  3. | 1997        1   75709.29   127096.7      4187 |\n",
      "  4. | 1998        1   75836.01   110712.4      4191 |\n",
      "  5. | 1999        1    79147.8   125508.6      4066 |\n",
      "     |-----------------------------------------------|\n",
      "  6. | 2000        1   79012.02   127400.3      3957 |\n",
      "  7. | 2001        1   84775.07   173502.6      3789 |\n",
      "  8. | 2002        1   84860.38   126634.6      3632 |\n",
      "  9. | 2003        1   87483.05   151080.3      3405 |\n",
      " 10. | 2004        1   89746.04   243319.7      3140 |\n",
      "     +-----------------------------------------------+\n",
      "\n",
      ". \n"
     ]
    }
   ],
   "source": [
    "%%stata\n",
    "\n",
    "list in 1/10 //change the numbers if you would like to see more observations"
   ]
  },
  {
   "cell_type": "markdown",
   "id": "8c97b16b",
   "metadata": {},
   "source": [
    "<div class=\"alert alert-block alert-warning\">\n",
    "    \n",
    "<b>Warning:</b> When you use `collapse`, Stata produces a new data set with the results and in the process drops the data set that was loaded at the time the command was run. If you need to keep that data, be certain to save the file before you run this command. \n",
    "</div>"
   ]
  },
  {
   "cell_type": "markdown",
   "id": "9a934df9",
   "metadata": {},
   "source": [
    "## 7.5 Reshaping \n",
    "\n",
    "We have collapsed our data and so we need to import the data again to gain access to the full data set."
   ]
  },
  {
   "cell_type": "code",
   "execution_count": 77,
   "id": "9c631e60",
   "metadata": {},
   "outputs": [
    {
     "name": "stdout",
     "output_type": "stream",
     "text": [
      "\n",
      ". \n",
      ". clear *\n",
      "\n",
      ". \n",
      ". use \"fake_data.dta\", clear\n",
      "\n",
      ". \n"
     ]
    }
   ],
   "source": [
    "%%stata\n",
    "\n",
    "clear *\n",
    "\n",
    "use \"fake_data.dta\", clear"
   ]
  },
  {
   "cell_type": "markdown",
   "id": "dceb6b0a",
   "metadata": {},
   "source": [
    "Notice that the nature of this particular data set is panel form; individuals have been followed over many years. Sometimes we are interested in working with a cross section (i.e. we have 1 observation per worker which includes all of the years). Is there a simple way to go back and forth between these two? Yes!\n",
    "\n",
    "The command's name is `reshape` and has two main forms: `wide` and `long`. The former is related to a cross-sectional nature, whereas the latter relates to the usual panel nature. \n",
    "\n",
    "Suppose we want to record the earnings of workers while keeping the information across years."
   ]
  },
  {
   "cell_type": "code",
   "execution_count": 80,
   "id": "f505e9ba",
   "metadata": {},
   "outputs": [
    {
     "name": "stdout",
     "output_type": "stream",
     "text": [
      "\n",
      ". \n",
      ". reshape wide earnings region age start_year sample_weight quarter_birth, i(wo\n",
      "> rkerid) j(year)\n",
      "(j = 1995 1996 1997 1998 1999 2000 2001 2002 2003 2004 2005 2006 2007 2008 2009\n",
      ">  2010 2011)\n",
      "\n",
      "Data                               Long   ->   Wide\n",
      "-----------------------------------------------------------------------------\n",
      "Number of observations          138,138   ->   39,999      \n",
      "Number of variables                  11   ->   106         \n",
      "j variable (17 values)             year   ->   (dropped)\n",
      "xij variables:\n",
      "                               earnings   ->   earnings1995 earnings1996 ... ea\n",
      "> rnings2011\n",
      "                                 region   ->   region1995 region1996 ... region\n",
      "> 2011\n",
      "                                    age   ->   age1995 age1996 ... age2011\n",
      "                             start_year   ->   start_year1995 start_year1996 ..\n",
      "> . start_year2011\n",
      "                          sample_weight   ->   sample_weight1995 sample_weight1\n",
      "> 996 ... sample_weight2011\n",
      "                          quarter_birth   ->   quarter_birth1995 quarter_birth1\n",
      "> 996 ... quarter_birth2011\n",
      "-----------------------------------------------------------------------------\n",
      "\n",
      ". \n"
     ]
    }
   ],
   "source": [
    "%%stata\n",
    "\n",
    "reshape wide earnings region age start_year sample_weight quarter_birth, i(workerid) j(year)"
   ]
  },
  {
   "cell_type": "markdown",
   "id": "301310d6",
   "metadata": {},
   "source": [
    "<div class=\"alert alert-warning\">\n",
    "\n",
    "**Warning:** This command acts on all of the variables in your data set. If you don't include them in the list, Stata will assume that they do not vary across *i* (in this case workers). If you don't check this beforehand, you may get an error message.\n",
    "\n",
    "</div>"
   ]
  },
  {
   "cell_type": "code",
   "execution_count": 82,
   "id": "a68a414f",
   "metadata": {},
   "outputs": [
    {
     "name": "stdout",
     "output_type": "stream",
     "text": [
      "\n",
      ". \n",
      ". list in 1/5 //change the numbers if you would like to see more observations\n",
      "\n",
      "     +----------------------------------------------------------------+\n",
      "  1. | workerid | age1995 | sta~1995 | reg~1995 | ear~1995 | sam~1995 |\n",
      "     |        1 |       . |        . |        . |        . |        . |\n",
      "     |----------+---------+----------+----------+----------+----------|\n",
      "     | qua~1995 | age1996 | sta~1996 | reg~1996 | ear~1996 | sam~1996 |\n",
      "     |        . |       . |        . |        . |        . |        . |\n",
      "     |----------+---------+----------+----------+----------+----------|\n",
      "     | qua~1996 | age1997 | sta~1997 | reg~1997 | ear~1997 | sam~1997 |\n",
      "     |        . |       . |        . |        . |        . |        . |\n",
      "     |----------+---------+----------+----------+----------+----------|\n",
      "     | qua~1997 | age1998 | sta~1998 | reg~1998 | ear~1998 | sam~1998 |\n",
      "     |        . |       . |        . |        . |        . |        . |\n",
      "     |----------+---------+----------+----------+----------+----------|\n",
      "     | qua~1998 | age1999 | sta~1999 | reg~1999 | ear~1999 | sam~1999 |\n",
      "     |        . |      55 |     1997 |        1 | 39975.01 | .2607649 |\n",
      "     |----------+---------+----------+----------+----------+----------|\n",
      "     | qua~1999 | age2000 | sta~2000 | reg~2000 | ear~2000 | sam~2000 |\n",
      "     |        2 |       . |        . |        . |        . |        . |\n",
      "     |----------+---------+----------+----------+----------+----------|\n",
      "     | qua~2000 | age2001 | sta~2001 | reg~2001 | ear~2001 | sam~2001 |\n",
      "     |        . |      57 |     1997 |        1 | 278378.1 | .0142739 |\n",
      "     |----------+---------+----------+----------+----------+----------|\n",
      "     | qua~2001 | age2002 | sta~2002 | reg~2002 | ear~2002 | sam~2002 |\n",
      "     |        2 |       . |        . |        . |        . |        . |\n",
      "     |----------+---------+----------+----------+----------+----------|\n",
      "     | qua~2002 | age2003 | sta~2003 | reg~2003 | ear~2003 | sam~2003 |\n",
      "     |        . |       . |        . |        . |        . |        . |\n",
      "     |----------+---------+----------+----------+----------+----------|\n",
      "     | qua~2003 | age2004 | sta~2004 | reg~2004 | ear~2004 | sam~2004 |\n",
      "     |        . |       . |        . |        . |        . |        . |\n",
      "     |----------+---------+----------+----------+----------+----------|\n",
      "     | qua~2004 | age2005 | sta~2005 | reg~2005 | ear~2005 | sam~2005 |\n",
      "     |        . |       . |        . |        . |        . |        . |\n",
      "     |----------+---------+----------+----------+----------+----------|\n",
      "     | qua~2005 | age2006 | sta~2006 | reg~2006 | ear~2006 | sam~2006 |\n",
      "     |        . |       . |        . |        . |        . |        . |\n",
      "     |----------+---------+----------+----------+----------+----------|\n",
      "     | qua~2006 | age2007 | sta~2007 | reg~2007 | ear~2007 | sam~2007 |\n",
      "     |        . |       . |        . |        . |        . |        . |\n",
      "     |----------+---------+----------+----------+----------+----------|\n",
      "     | qua~2007 | age2008 | sta~2008 | reg~2008 | ear~2008 | sam~2008 |\n",
      "     |        . |       . |        . |        . |        . |        . |\n",
      "     |----------+---------+----------+----------+----------+----------|\n",
      "     | qua~2008 | age2009 | sta~2009 | reg~2009 | ear~2009 | sam~2009 |\n",
      "     |        . |       . |        . |        . |        . |        . |\n",
      "     |----------+---------+----------+----------+----------+----------|\n",
      "     | qua~2009 | age2010 | sta~2010 | reg~2010 | ear~2010 | sam~2010 |\n",
      "     |        . |       . |        . |        . |        . |        . |\n",
      "     |----------+---------+----------+----------+----------+----------|\n",
      "     | qua~2010 | age2011 | sta~2011 | reg~2011 | ear~2011 | sam~2011 |\n",
      "     |        . |       . |        . |        . |        . |        . |\n",
      "     |----------------------------------------------------------------|\n",
      "     |    qua~2011    |    sex     |    treated     |    school~g     |\n",
      "     |           .    |      M     |          0     |          16     |\n",
      "     +----------------------------------------------------------------+\n",
      "\n",
      "     +----------------------------------------------------------------+\n",
      "  2. | workerid | age1995 | sta~1995 | reg~1995 | ear~1995 | sam~1995 |\n",
      "     |        2 |       . |        . |        . |        . |        . |\n",
      "     |----------+---------+----------+----------+----------+----------|\n",
      "     | qua~1995 | age1996 | sta~1996 | reg~1996 | ear~1996 | sam~1996 |\n",
      "     |        . |       . |        . |        . |        . |        . |\n",
      "     |----------+---------+----------+----------+----------+----------|\n",
      "     | qua~1996 | age1997 | sta~1997 | reg~1997 | ear~1997 | sam~1997 |\n",
      "     |        . |       . |        . |        . |        . |        . |\n",
      "     |----------+---------+----------+----------+----------+----------|\n",
      "     | qua~1997 | age1998 | sta~1998 | reg~1998 | ear~1998 | sam~1998 |\n",
      "     |        . |       . |        . |        . |        . |        . |\n",
      "     |----------+---------+----------+----------+----------+----------|\n",
      "     | qua~1998 | age1999 | sta~1999 | reg~1999 | ear~1999 | sam~1999 |\n",
      "     |        . |       . |        . |        . |        . |        . |\n",
      "     |----------+---------+----------+----------+----------+----------|\n",
      "     | qua~1999 | age2000 | sta~2000 | reg~2000 | ear~2000 | sam~2000 |\n",
      "     |        . |       . |        . |        . |        . |        . |\n",
      "     |----------+---------+----------+----------+----------+----------|\n",
      "     | qua~2000 | age2001 | sta~2001 | reg~2001 | ear~2001 | sam~2001 |\n",
      "     |        . |      54 |     2001 |        4 |  18682.6 | .0321868 |\n",
      "     |----------+---------+----------+----------+----------+----------|\n",
      "     | qua~2001 | age2002 | sta~2002 | reg~2002 | ear~2002 | sam~2002 |\n",
      "     |        4 |      55 |     2001 |        4 | 293336.4 | .4712022 |\n",
      "     |----------+---------+----------+----------+----------+----------|\n",
      "     | qua~2002 | age2003 | sta~2003 | reg~2003 | ear~2003 | sam~2003 |\n",
      "     |        2 |      56 |     2001 |        4 | 111797.3 |  .704381 |\n",
      "     |----------+---------+----------+----------+----------+----------|\n",
      "     | qua~2003 | age2004 | sta~2004 | reg~2004 | ear~2004 | sam~2004 |\n",
      "     |        2 |       . |        . |        . |        . |        . |\n",
      "     |----------+---------+----------+----------+----------+----------|\n",
      "     | qua~2004 | age2005 | sta~2005 | reg~2005 | ear~2005 | sam~2005 |\n",
      "     |        . |       . |        . |        . |        . |        . |\n",
      "     |----------+---------+----------+----------+----------+----------|\n",
      "     | qua~2005 | age2006 | sta~2006 | reg~2006 | ear~2006 | sam~2006 |\n",
      "     |        . |       . |        . |        . |        . |        . |\n",
      "     |----------+---------+----------+----------+----------+----------|\n",
      "     | qua~2006 | age2007 | sta~2007 | reg~2007 | ear~2007 | sam~2007 |\n",
      "     |        . |       . |        . |        . |        . |        . |\n",
      "     |----------+---------+----------+----------+----------+----------|\n",
      "     | qua~2007 | age2008 | sta~2008 | reg~2008 | ear~2008 | sam~2008 |\n",
      "     |        . |       . |        . |        . |        . |        . |\n",
      "     |----------+---------+----------+----------+----------+----------|\n",
      "     | qua~2008 | age2009 | sta~2009 | reg~2009 | ear~2009 | sam~2009 |\n",
      "     |        . |       . |        . |        . |        . |        . |\n",
      "     |----------+---------+----------+----------+----------+----------|\n",
      "     | qua~2009 | age2010 | sta~2010 | reg~2010 | ear~2010 | sam~2010 |\n",
      "     |        . |       . |        . |        . |        . |        . |\n",
      "     |----------+---------+----------+----------+----------+----------|\n",
      "     | qua~2010 | age2011 | sta~2011 | reg~2011 | ear~2011 | sam~2011 |\n",
      "     |        . |       . |        . |        . |        . |        . |\n",
      "     |----------------------------------------------------------------|\n",
      "     |    qua~2011    |    sex     |    treated     |    school~g     |\n",
      "     |           .    |      M     |          0     |          16     |\n",
      "     +----------------------------------------------------------------+\n",
      "\n",
      "     +----------------------------------------------------------------+\n",
      "  3. | workerid | age1995 | sta~1995 | reg~1995 | ear~1995 | sam~1995 |\n",
      "     |        3 |       . |        . |        . |        . |        . |\n",
      "     |----------+---------+----------+----------+----------+----------|\n",
      "     | qua~1995 | age1996 | sta~1996 | reg~1996 | ear~1996 | sam~1996 |\n",
      "     |        . |       . |        . |        . |        . |        . |\n",
      "     |----------+---------+----------+----------+----------+----------|\n",
      "     | qua~1996 | age1997 | sta~1997 | reg~1997 | ear~1997 | sam~1997 |\n",
      "     |        . |       . |        . |        . |        . |        . |\n",
      "     |----------+---------+----------+----------+----------+----------|\n",
      "     | qua~1997 | age1998 | sta~1998 | reg~1998 | ear~1998 | sam~1998 |\n",
      "     |        . |       . |        . |        . |        . |        . |\n",
      "     |----------+---------+----------+----------+----------+----------|\n",
      "     | qua~1998 | age1999 | sta~1999 | reg~1999 | ear~1999 | sam~1999 |\n",
      "     |        . |       . |        . |        . |        . |        . |\n",
      "     |----------+---------+----------+----------+----------+----------|\n",
      "     | qua~1999 | age2000 | sta~2000 | reg~2000 | ear~2000 | sam~2000 |\n",
      "     |        . |       . |        . |        . |        . |        . |\n",
      "     |----------+---------+----------+----------+----------+----------|\n",
      "     | qua~2000 | age2001 | sta~2001 | reg~2001 | ear~2001 | sam~2001 |\n",
      "     |        . |       . |        . |        . |        . |        . |\n",
      "     |----------+---------+----------+----------+----------+----------|\n",
      "     | qua~2001 | age2002 | sta~2002 | reg~2002 | ear~2002 | sam~2002 |\n",
      "     |        . |       . |        . |        . |        . |        . |\n",
      "     |----------+---------+----------+----------+----------+----------|\n",
      "     | qua~2002 | age2003 | sta~2003 | reg~2003 | ear~2003 | sam~2003 |\n",
      "     |        . |       . |        . |        . |        . |        . |\n",
      "     |----------+---------+----------+----------+----------+----------|\n",
      "     | qua~2003 | age2004 | sta~2004 | reg~2004 | ear~2004 | sam~2004 |\n",
      "     |        . |       . |        . |        . |        . |        . |\n",
      "     |----------+---------+----------+----------+----------+----------|\n",
      "     | qua~2004 | age2005 | sta~2005 | reg~2005 | ear~2005 | sam~2005 |\n",
      "     |        . |      54 |     2005 |        5 | 88351.67 | .3559006 |\n",
      "     |----------+---------+----------+----------+----------+----------|\n",
      "     | qua~2005 | age2006 | sta~2006 | reg~2006 | ear~2006 | sam~2006 |\n",
      "     |        4 |       . |        . |        . |        . |        . |\n",
      "     |----------+---------+----------+----------+----------+----------|\n",
      "     | qua~2006 | age2007 | sta~2007 | reg~2007 | ear~2007 | sam~2007 |\n",
      "     |        . |       . |        . |        . |        . |        . |\n",
      "     |----------+---------+----------+----------+----------+----------|\n",
      "     | qua~2007 | age2008 | sta~2008 | reg~2008 | ear~2008 | sam~2008 |\n",
      "     |        . |       . |        . |        . |        . |        . |\n",
      "     |----------+---------+----------+----------+----------+----------|\n",
      "     | qua~2008 | age2009 | sta~2009 | reg~2009 | ear~2009 | sam~2009 |\n",
      "     |        . |       . |        . |        . |        . |        . |\n",
      "     |----------+---------+----------+----------+----------+----------|\n",
      "     | qua~2009 | age2010 | sta~2010 | reg~2010 | ear~2010 | sam~2010 |\n",
      "     |        . |      59 |     2005 |        5 | 46229.57 | .8969152 |\n",
      "     |----------+---------+----------+----------+----------+----------|\n",
      "     | qua~2010 | age2011 | sta~2011 | reg~2011 | ear~2011 | sam~2011 |\n",
      "     |        2 |       . |        . |        . |        . |        . |\n",
      "     |----------------------------------------------------------------|\n",
      "     |    qua~2011    |    sex     |    treated     |    school~g     |\n",
      "     |           .    |      M     |          0     |          16     |\n",
      "     +----------------------------------------------------------------+\n",
      "\n",
      "     +----------------------------------------------------------------+\n",
      "  4. | workerid | age1995 | sta~1995 | reg~1995 | ear~1995 | sam~1995 |\n",
      "     |        4 |       . |        . |        . |        . |        . |\n",
      "     |----------+---------+----------+----------+----------+----------|\n",
      "     | qua~1995 | age1996 | sta~1996 | reg~1996 | ear~1996 | sam~1996 |\n",
      "     |        . |       . |        . |        . |        . |        . |\n",
      "     |----------+---------+----------+----------+----------+----------|\n",
      "     | qua~1996 | age1997 | sta~1997 | reg~1997 | ear~1997 | sam~1997 |\n",
      "     |        . |      45 |     1997 |        5 | 24911.03 | .3990085 |\n",
      "     |----------+---------+----------+----------+----------+----------|\n",
      "     | qua~1997 | age1998 | sta~1998 | reg~1998 | ear~1998 | sam~1998 |\n",
      "     |        2 |       . |        . |        . |        . |        . |\n",
      "     |----------+---------+----------+----------+----------+----------|\n",
      "     | qua~1998 | age1999 | sta~1999 | reg~1999 | ear~1999 | sam~1999 |\n",
      "     |        . |       . |        . |        . |        . |        . |\n",
      "     |----------+---------+----------+----------+----------+----------|\n",
      "     | qua~1999 | age2000 | sta~2000 | reg~2000 | ear~2000 | sam~2000 |\n",
      "     |        . |       . |        . |        . |        . |        . |\n",
      "     |----------+---------+----------+----------+----------+----------|\n",
      "     | qua~2000 | age2001 | sta~2001 | reg~2001 | ear~2001 | sam~2001 |\n",
      "     |        . |      49 |     1997 |        5 | 9908.362 | .5519462 |\n",
      "     |----------+---------+----------+----------+----------+----------|\n",
      "     | qua~2001 | age2002 | sta~2002 | reg~2002 | ear~2002 | sam~2002 |\n",
      "     |        3 |       . |        . |        . |        . |        . |\n",
      "     |----------+---------+----------+----------+----------+----------|\n",
      "     | qua~2002 | age2003 | sta~2003 | reg~2003 | ear~2003 | sam~2003 |\n",
      "     |        . |       . |        . |        . |        . |        . |\n",
      "     |----------+---------+----------+----------+----------+----------|\n",
      "     | qua~2003 | age2004 | sta~2004 | reg~2004 | ear~2004 | sam~2004 |\n",
      "     |        . |       . |        . |        . |        . |        . |\n",
      "     |----------+---------+----------+----------+----------+----------|\n",
      "     | qua~2004 | age2005 | sta~2005 | reg~2005 | ear~2005 | sam~2005 |\n",
      "     |        . |       . |        . |        . |        . |        . |\n",
      "     |----------+---------+----------+----------+----------+----------|\n",
      "     | qua~2005 | age2006 | sta~2006 | reg~2006 | ear~2006 | sam~2006 |\n",
      "     |        . |       . |        . |        . |        . |        . |\n",
      "     |----------+---------+----------+----------+----------+----------|\n",
      "     | qua~2006 | age2007 | sta~2007 | reg~2007 | ear~2007 | sam~2007 |\n",
      "     |        . |       . |        . |        . |        . |        . |\n",
      "     |----------+---------+----------+----------+----------+----------|\n",
      "     | qua~2007 | age2008 | sta~2008 | reg~2008 | ear~2008 | sam~2008 |\n",
      "     |        . |       . |        . |        . |        . |        . |\n",
      "     |----------+---------+----------+----------+----------+----------|\n",
      "     | qua~2008 | age2009 | sta~2009 | reg~2009 | ear~2009 | sam~2009 |\n",
      "     |        . |       . |        . |        . |        . |        . |\n",
      "     |----------+---------+----------+----------+----------+----------|\n",
      "     | qua~2009 | age2010 | sta~2010 | reg~2010 | ear~2010 | sam~2010 |\n",
      "     |        . |       . |        . |        . |        . |        . |\n",
      "     |----------+---------+----------+----------+----------+----------|\n",
      "     | qua~2010 | age2011 | sta~2011 | reg~2011 | ear~2011 | sam~2011 |\n",
      "     |        . |       . |        . |        . |        . |        . |\n",
      "     |----------------------------------------------------------------|\n",
      "     |    qua~2011    |    sex     |    treated     |    school~g     |\n",
      "     |           .    |      M     |          1     |          12     |\n",
      "     +----------------------------------------------------------------+\n",
      "\n",
      "     +----------------------------------------------------------------+\n",
      "  5. | workerid | age1995 | sta~1995 | reg~1995 | ear~1995 | sam~1995 |\n",
      "     |        5 |       . |        . |        . |        . |        . |\n",
      "     |----------+---------+----------+----------+----------+----------|\n",
      "     | qua~1995 | age1996 | sta~1996 | reg~1996 | ear~1996 | sam~1996 |\n",
      "     |        . |       . |        . |        . |        . |        . |\n",
      "     |----------+---------+----------+----------+----------+----------|\n",
      "     | qua~1996 | age1997 | sta~1997 | reg~1997 | ear~1997 | sam~1997 |\n",
      "     |        . |       . |        . |        . |        . |        . |\n",
      "     |----------+---------+----------+----------+----------+----------|\n",
      "     | qua~1997 | age1998 | sta~1998 | reg~1998 | ear~1998 | sam~1998 |\n",
      "     |        . |       . |        . |        . |        . |        . |\n",
      "     |----------+---------+----------+----------+----------+----------|\n",
      "     | qua~1998 | age1999 | sta~1999 | reg~1999 | ear~1999 | sam~1999 |\n",
      "     |        . |       . |        . |        . |        . |        . |\n",
      "     |----------+---------+----------+----------+----------+----------|\n",
      "     | qua~1999 | age2000 | sta~2000 | reg~2000 | ear~2000 | sam~2000 |\n",
      "     |        . |       . |        . |        . |        . |        . |\n",
      "     |----------+---------+----------+----------+----------+----------|\n",
      "     | qua~2000 | age2001 | sta~2001 | reg~2001 | ear~2001 | sam~2001 |\n",
      "     |        . |       . |        . |        . |        . |        . |\n",
      "     |----------+---------+----------+----------+----------+----------|\n",
      "     | qua~2001 | age2002 | sta~2002 | reg~2002 | ear~2002 | sam~2002 |\n",
      "     |        . |       . |        . |        . |        . |        . |\n",
      "     |----------+---------+----------+----------+----------+----------|\n",
      "     | qua~2002 | age2003 | sta~2003 | reg~2003 | ear~2003 | sam~2003 |\n",
      "     |        . |       . |        . |        . |        . |        . |\n",
      "     |----------+---------+----------+----------+----------+----------|\n",
      "     | qua~2003 | age2004 | sta~2004 | reg~2004 | ear~2004 | sam~2004 |\n",
      "     |        . |       . |        . |        . |        . |        . |\n",
      "     |----------+---------+----------+----------+----------+----------|\n",
      "     | qua~2004 | age2005 | sta~2005 | reg~2005 | ear~2005 | sam~2005 |\n",
      "     |        . |       . |        . |        . |        . |        . |\n",
      "     |----------+---------+----------+----------+----------+----------|\n",
      "     | qua~2005 | age2006 | sta~2006 | reg~2006 | ear~2006 | sam~2006 |\n",
      "     |        . |       . |        . |        . |        . |        . |\n",
      "     |----------+---------+----------+----------+----------+----------|\n",
      "     | qua~2006 | age2007 | sta~2007 | reg~2007 | ear~2007 | sam~2007 |\n",
      "     |        . |       . |        . |        . |        . |        . |\n",
      "     |----------+---------+----------+----------+----------+----------|\n",
      "     | qua~2007 | age2008 | sta~2008 | reg~2008 | ear~2008 | sam~2008 |\n",
      "     |        . |       . |        . |        . |        . |        . |\n",
      "     |----------+---------+----------+----------+----------+----------|\n",
      "     | qua~2008 | age2009 | sta~2009 | reg~2009 | ear~2009 | sam~2009 |\n",
      "     |        . |      55 |     1998 |        2 | 137207.3 |  .014439 |\n",
      "     |----------+---------+----------+----------+----------+----------|\n",
      "     | qua~2009 | age2010 | sta~2010 | reg~2010 | ear~2010 | sam~2010 |\n",
      "     |        3 |       . |        . |        . |        . |        . |\n",
      "     |----------+---------+----------+----------+----------+----------|\n",
      "     | qua~2010 | age2011 | sta~2011 | reg~2011 | ear~2011 | sam~2011 |\n",
      "     |        . |      57 |     1998 |        2 |  5227.69 | .3182252 |\n",
      "     |----------------------------------------------------------------|\n",
      "     |    qua~2011    |    sex     |    treated     |    school~g     |\n",
      "     |           3    |      M     |          1     |          14     |\n",
      "     +----------------------------------------------------------------+\n",
      "\n",
      ". \n"
     ]
    }
   ],
   "source": [
    "%%stata\n",
    "\n",
    "list in 1/5 //change the numbers if you would like to see more observations"
   ]
  },
  {
   "cell_type": "markdown",
   "id": "f429b2b2",
   "metadata": {},
   "source": [
    "There are so many missing values in the data! Should we worry? Not at all. As a matter of fact, we learned at the beginning of this module that many workers are not observed across all years. That's what these missing values are representing. \n",
    "\n",
    "Notice that the variable _year_ which was part of the command line (the `j(year)` part) has disappeared. We now have one observation per worker, with their information recorded across years in a cross-sectional way. \n",
    "\n",
    "How do we go from a `wide` data set to a regular panel form? We need to indicate the prefix in the variables, which are formally known as `stubs` in the Stata lingo, and use the `reshape long` command. When we write `j(year)` it will create a new variable called _year_."
   ]
  },
  {
   "cell_type": "code",
   "execution_count": 83,
   "id": "ba6c6bfb",
   "metadata": {},
   "outputs": [
    {
     "name": "stdout",
     "output_type": "stream",
     "text": [
      "\n",
      ". \n",
      ". reshape long earnings region age  start_year sample_weight, i(workerid) j(yea\n",
      "> r) \n",
      "(j = 1995 1996 1997 1998 1999 2000 2001 2002 2003 2004 2005 2006 2007 2008 2009\n",
      ">  2010 2011)\n",
      "\n",
      "Data                               Wide   ->   Long\n",
      "-----------------------------------------------------------------------------\n",
      "Number of observations           39,999   ->   679,983     \n",
      "Number of variables                 106   ->   27          \n",
      "j variable (17 values)                    ->   year\n",
      "xij variables:\n",
      "earnings1995 earnings1996 ... earnings2011->   earnings\n",
      "   region1995 region1996 ... region2011   ->   region\n",
      "            age1995 age1996 ... age2011   ->   age\n",
      "start_year1995 start_year1996 ... start_year2011->start_year\n",
      "sample_weight1995 sample_weight1996 ... sample_weight2011->sample_weight\n",
      "-----------------------------------------------------------------------------\n",
      "\n",
      ". \n"
     ]
    }
   ],
   "source": [
    "%%stata\n",
    "\n",
    "reshape long earnings region age  start_year sample_weight, i(workerid) j(year) "
   ]
  },
  {
   "cell_type": "code",
   "execution_count": null,
   "id": "d1b87f0e",
   "metadata": {},
   "outputs": [],
   "source": [
    "%%stata\n",
    "\n"
   ]
  },
  {
   "cell_type": "markdown",
   "id": "db951f30",
   "metadata": {},
   "source": [
    "Notice that we now have an observation for every worker in every year, although we know some workers are only observed in a subset of these. This is known as a **balanced panel**.  \n",
    "\n",
    "To retrieve the original data set, we get rid of such observations with missing values."
   ]
  },
  {
   "cell_type": "code",
   "execution_count": null,
   "id": "f3f12259",
   "metadata": {},
   "outputs": [],
   "source": [
    "%%stata\n",
    "\n",
    "keep if !missing(earnings)"
   ]
  },
  {
   "cell_type": "code",
   "execution_count": null,
   "id": "95954c6d",
   "metadata": {},
   "outputs": [],
   "source": [
    "%%stata\n",
    "\n",
    "%browse 10"
   ]
  },
  {
   "cell_type": "markdown",
   "id": "b41bdac6",
   "metadata": {},
   "source": [
    "## 7.6 Wrap Up \n",
    "\n",
    "In this module, you have developed some very useful skills that will help you explore data sets. Namely, these skills will help you both prepare your data for empirical analysis (i.e. turning cross sectional data into panel data) and create summary statistics that you can use to illustrate your results. In the next module, we will look at how to work with multiple data sets simultaneously and merge them into one."
   ]
  },
  {
   "cell_type": "markdown",
   "id": "fbae0a97",
   "metadata": {},
   "source": [
    "### 7.6.1 Wrap Up Table"
   ]
  },
  {
   "cell_type": "markdown",
   "id": "95c5b5b5",
   "metadata": {},
   "source": [
    "| Command | Function |\n",
    "|---------|----------|\n",
    "|`by` | It is a pre-command used to  Repeat Stata command on subsets of the data |\n",
    "|`generate` | It generates variables |\n",
    "|`sort` | It sorts data |\n",
    "|`summary`| It summarizes statistics of a dataset |\n",
    "|`_n` | It records the observation number |\n",
    "|`_N` | It records the total number of observations for each group separately |\n",
    "|`drop` | It drops variables or observations |\n",
    "|`keep` | It keeps variables or observations that satisfy a specified condition |\n",
    "|`egenerate` | It  create variables that require access to some functions |\n",
    "|`rowtotal()` | It sums non-missing values for each observation of a list of variables |\n",
    "|`collapse` | It makes a dataset of a summary of statistics |\n",
    "|`reshape` | It converts data from wide to long and vice versa |"
   ]
  },
  {
   "cell_type": "markdown",
   "id": "87569d38",
   "metadata": {},
   "source": [
    "### 7.6.2 Errors"
   ]
  },
  {
   "cell_type": "markdown",
   "id": "d8fcd69e",
   "metadata": {},
   "source": [
    "#### 1. Sort\n",
    "To develop group compounded variables, ensure that you first sort the observations by the variable. Not sorting the obserations will return an error code."
   ]
  },
  {
   "cell_type": "code",
   "execution_count": null,
   "id": "ad2b7ff6",
   "metadata": {},
   "outputs": [],
   "source": [
    "%%stata\n",
    "\n",
    "cap drop var\n",
    "by sex: gen var = _n"
   ]
  },
  {
   "cell_type": "markdown",
   "id": "f9fb191f",
   "metadata": {},
   "source": [
    "The correct method of of generating compounded variables is below:"
   ]
  },
  {
   "cell_type": "code",
   "execution_count": null,
   "id": "8adb276d",
   "metadata": {},
   "outputs": [],
   "source": [
    "%%stata\n",
    "\n",
    "cap drop var\n",
    "bysort sex: gen var = _n"
   ]
  },
  {
   "cell_type": "code",
   "execution_count": null,
   "id": "6cabac89",
   "metadata": {},
   "outputs": [],
   "source": [
    "%%stata\n",
    "\n",
    "su var"
   ]
  },
  {
   "cell_type": "markdown",
   "id": "b505f9ee",
   "metadata": {},
   "source": [
    "#### 2. Reshape Error"
   ]
  },
  {
   "cell_type": "markdown",
   "id": "9046cea3",
   "metadata": {},
   "source": [
    "Reshaping data can be tricky and doing so incorrectly can cause many variables to be dropped in the proccess. The command `reshape error` can be used to identify the issues encountered when reshaping data."
   ]
  },
  {
   "cell_type": "code",
   "execution_count": null,
   "id": "6ebc420f",
   "metadata": {},
   "outputs": [],
   "source": [
    "%%stata\n",
    "\n",
    "clear *\n",
    "use \"fake_data.dta\", clear"
   ]
  },
  {
   "cell_type": "code",
   "execution_count": null,
   "id": "96e2a39f",
   "metadata": {},
   "outputs": [],
   "source": [
    "%%stata\n",
    "\n",
    "reshape wide earnings sex, i(year) j(workerid)"
   ]
  },
  {
   "cell_type": "code",
   "execution_count": null,
   "id": "e16c434e",
   "metadata": {},
   "outputs": [],
   "source": [
    "%%stata\n",
    "\n",
    "reshape error"
   ]
  },
  {
   "cell_type": "markdown",
   "id": "2bf969dc",
   "metadata": {},
   "source": [
    "## 7.7 Video tutorial\n",
    "\n",
    "Click on the image below for a video tutorial on this module.\n",
    "\n",
    "[![Conducting Within Group Analysis](img/stata7.png)](https://learning.media.ubc.ca/media/Notebook+7+-+Within++Group+Analysis/0_l5526lb0)"
   ]
  },
  {
   "cell_type": "markdown",
   "id": "e2e98c64",
   "metadata": {},
   "source": [
    "## References\n",
    "\n",
    "[Reshape data from wide format to long format](https://www.youtube.com/watch?v=Bx9kVdkr9oY) <br>\n",
    "[(Non StataCorp) How to group data in STATA with SORT and BY](https://www.youtube.com/watch?v=nEOyH0AFKHc)"
   ]
  }
 ],
 "metadata": {
  "kernelspec": {
   "display_name": "Python 3 (ipykernel)",
   "language": "python",
   "name": "python3"
  },
  "language_info": {
   "codemirror_mode": {
    "name": "ipython",
    "version": 3
   },
   "file_extension": ".py",
   "mimetype": "text/x-python",
   "name": "python",
   "nbconvert_exporter": "python",
   "pygments_lexer": "ipython3",
   "version": "3.12.2"
  }
 },
 "nbformat": 4,
 "nbformat_minor": 5
}
